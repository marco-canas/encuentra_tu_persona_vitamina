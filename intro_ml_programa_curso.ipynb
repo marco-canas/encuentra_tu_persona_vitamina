{
 "cells": [
  {
   "cell_type": "markdown",
   "id": "544fb5e4",
   "metadata": {},
   "source": []
  },
  {
   "cell_type": "markdown",
   "id": "b0bc7b16",
   "metadata": {},
   "source": [
    "# Programa del curso Introducción al Machine Learning "
   ]
  },
  {
   "cell_type": "markdown",
   "id": "37281e3c",
   "metadata": {},
   "source": [
    "## FORMATO PARA PROGRAMA DE CURSO*"
   ]
  },
  {
   "cell_type": "markdown",
   "id": "77b4794b",
   "metadata": {},
   "source": [
    "## [Video de descripción del programa del curso]() "
   ]
  },
  {
   "cell_type": "markdown",
   "id": "60d171e7",
   "metadata": {},
   "source": [
    "### UNIVERSIDAD DE ANTIOQUIA"
   ]
  },
  {
   "cell_type": "markdown",
   "id": "da8a211c",
   "metadata": {},
   "source": [
    "<img src = 'https://github.com/marco-canas/introducci-n-al-Machine-Learning/blob/main/logo_udea.png?raw=true'>"
   ]
  },
  {
   "cell_type": "markdown",
   "id": "a27314ca",
   "metadata": {},
   "source": [
    "### 1. INFORMACIÓN GENERAL"
   ]
  },
  {
   "cell_type": "markdown",
   "id": "b85b5676",
   "metadata": {},
   "source": [
    "#### Unidad Académica:  \n",
    "\n",
    "Facultad de Ciencias Exactas y Naturale"
   ]
  },
  {
   "cell_type": "markdown",
   "id": "cd4c0f2e",
   "metadata": {},
   "source": [
    "### Programas Académico:  \n",
    "\n",
    "Biología y Química"
   ]
  },
  {
   "cell_type": "markdown",
   "id": "7305e5ee",
   "metadata": {},
   "source": [
    "### Semestre:   \n",
    "\n",
    "2020-II"
   ]
  },
  {
   "cell_type": "markdown",
   "id": "2f4c61c4",
   "metadata": {},
   "source": [
    "### Código curso:  \n",
    "\n",
    "* Biología: 303020  \n",
    "\n",
    "* Química: "
   ]
  },
  {
   "cell_type": "markdown",
   "id": "a07433d3",
   "metadata": {},
   "source": [
    "### Nombre del curso:   \n",
    "\n",
    "Introducción al Machine Learning."
   ]
  },
  {
   "cell_type": "markdown",
   "id": "70365fbb",
   "metadata": {},
   "source": [
    "### Área o componente curricular:  \n"
   ]
  },
  {
   "cell_type": "markdown",
   "id": "fff95dff",
   "metadata": {},
   "source": [
    "### Tipo de curso:  \n",
    "\n",
    "Teórico-Práctico."
   ]
  },
  {
   "cell_type": "markdown",
   "id": "e809fd28",
   "metadata": {},
   "source": [
    "### Créditos académicos:  \n",
    "3"
   ]
  },
  {
   "cell_type": "markdown",
   "id": "f5569199",
   "metadata": {},
   "source": [
    "### Horas semana con acompañamiento Docente (AD)**:  \n",
    "5"
   ]
  },
  {
   "cell_type": "markdown",
   "id": "fbddbad3",
   "metadata": {},
   "source": [
    "### Total semanas:   \n",
    "1"
   ]
  },
  {
   "cell_type": "code",
   "execution_count": null,
   "id": "4285ef2b",
   "metadata": {},
   "outputs": [],
   "source": []
  },
  {
   "cell_type": "code",
   "execution_count": null,
   "id": "2c600962",
   "metadata": {},
   "outputs": [],
   "source": []
  }
 ],
 "metadata": {
  "kernelspec": {
   "display_name": "Python 3",
   "language": "python",
   "name": "python3"
  },
  "language_info": {
   "codemirror_mode": {
    "name": "ipython",
    "version": 3
   },
   "file_extension": ".py",
   "mimetype": "text/x-python",
   "name": "python",
   "nbconvert_exporter": "python",
   "pygments_lexer": "ipython3",
   "version": "3.8.8"
  },
  "latex_envs": {
   "LaTeX_envs_menu_present": true,
   "autoclose": false,
   "autocomplete": false,
   "bibliofile": "biblio.bib",
   "cite_by": "apalike",
   "current_citInitial": 1,
   "eqLabelWithNumbers": true,
   "eqNumInitial": 1,
   "hotkeys": {
    "equation": "Ctrl-E",
    "itemize": "Ctrl-I"
   },
   "labels_anchors": false,
   "latex_user_defs": false,
   "report_style_numbering": false,
   "user_envs_cfg": false
  }
 },
 "nbformat": 4,
 "nbformat_minor": 5
}
