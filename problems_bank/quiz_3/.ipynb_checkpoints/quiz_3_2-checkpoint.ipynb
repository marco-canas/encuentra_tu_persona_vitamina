{
 "cells": [
  {
   "cell_type": "markdown",
   "id": "2a4a2aae",
   "metadata": {
    "slideshow": {
     "slide_type": "slide"
    }
   },
   "source": [
    "<table align=\"left\">\n",
    "  <td>\n",
    "    <a href=\"https://colab.research.google.com/github/marco-canas/intro-Machine-Learning/blob/main/classes/class_25_desempa%C3%B1o_clasificador/class_25_medidas_desempeno_clasificador.ipynb\" target=\"_parent\"><img src=\"https://colab.research.google.com/assets/colab-badge.svg\" alt=\"Open In Colab\"/></a>\n",
    "  </td>\n",
    "</table> "
   ]
  },
  {
   "cell_type": "markdown",
   "id": "4af654b7",
   "metadata": {
    "slideshow": {
     "slide_type": "slide"
    }
   },
   "source": [
    "# Quiz 3_2"
   ]
  },
  {
   "cell_type": "markdown",
   "id": "21f7e2b4",
   "metadata": {
    "slideshow": {
     "slide_type": "slide"
    }
   },
   "source": [
    "# Preprocesamiento de datos "
   ]
  },
  {
   "cell_type": "code",
   "execution_count": 2,
   "id": "ba97de54",
   "metadata": {
    "slideshow": {
     "slide_type": "slide"
    }
   },
   "outputs": [],
   "source": [
    "import numpy as np \n",
    "import pandas as pd \n",
    "\n",
    "t = pd.read_csv('titanic_train.csv') "
   ]
  },
  {
   "cell_type": "markdown",
   "id": "8c22bc72",
   "metadata": {
    "slideshow": {
     "slide_type": "slide"
    }
   },
   "source": [
    "Para los tres atributos predictores que le fueron asignados realice las siguientes tareas: \n",
    "\n",
    "\n"
   ]
  },
  {
   "cell_type": "markdown",
   "id": "ba9912eb",
   "metadata": {
    "slideshow": {
     "slide_type": "slide"
    }
   },
   "source": [
    "* Realizar una exploración tabular y gráfica de los datos utilizando los métodos. (Redacte una conclusión por cada \n",
    "  una de las tablas y gráficos que realice).   \n",
    "* Hacer separación inicial de datos para entrenar y para testear.\n",
    "* Limpiar datos y llenar datos faltantes. Así no haya datos faltantes realice el proceso de impotación de datos con la estrategia de la media. \n",
    "* Explorar correlaciones lineales de los atributos constructores con la variable objetivo de survived.\n",
    "* Estandarizar los datos.\n",
    "* Crear canalizaciones con las clases Pipeline y ColumnTransformer para automalizar el proprocesamiento de los datos. \n"
   ]
  },
  {
   "cell_type": "markdown",
   "id": "06be6215",
   "metadata": {
    "slideshow": {
     "slide_type": "slide"
    }
   },
   "source": [
    "**Atributos asignados**\n",
    "pclass, sex and age"
   ]
  },
  {
   "cell_type": "code",
   "execution_count": null,
   "id": "619531de",
   "metadata": {},
   "outputs": [],
   "source": []
  }
 ],
 "metadata": {
  "celltoolbar": "Slideshow",
  "kernelspec": {
   "display_name": "Python 3 (ipykernel)",
   "language": "python",
   "name": "python3"
  },
  "language_info": {
   "codemirror_mode": {
    "name": "ipython",
    "version": 3
   },
   "file_extension": ".py",
   "mimetype": "text/x-python",
   "name": "python",
   "nbconvert_exporter": "python",
   "pygments_lexer": "ipython3",
   "version": "3.9.7"
  }
 },
 "nbformat": 4,
 "nbformat_minor": 5
}
