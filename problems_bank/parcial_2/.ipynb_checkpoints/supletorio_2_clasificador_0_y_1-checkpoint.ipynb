{
 "cells": [
  {
   "cell_type": "markdown",
   "id": "7f7fc9e6",
   "metadata": {
    "slideshow": {
     "slide_type": "slide"
    }
   },
   "source": [
    "<table align=\"left\">\n",
    "  <td>\n",
    "    <a href=\"https://colab.research.google.com/github/marco-canas/Machine-Learning/blob/main/ML/classes/class_march_3/class_march_3.ipynb\" target=\"_parent\"><img src=\"https://colab.research.google.com/assets/colab-badge.svg\" alt=\"Open In Colab\"/></a>\n",
    "  </td>\n",
    "</table>"
   ]
  },
  {
   "cell_type": "markdown",
   "id": "0975cf99",
   "metadata": {
    "slideshow": {
     "slide_type": "slide"
    }
   },
   "source": [
    "# Construir un clasificador binario ceros versus unos utilizando el dataset `mnist_784`"
   ]
  },
  {
   "cell_type": "markdown",
   "id": "839cf4b6",
   "metadata": {
    "slideshow": {
     "slide_type": "slide"
    }
   },
   "source": [
    "## [Primer video de apoyo](https://www.youtube.com/watch?v=dJqt0va_9Zs)"
   ]
  },
  {
   "cell_type": "markdown",
   "id": "011cfa0c",
   "metadata": {
    "slideshow": {
     "slide_type": "slide"
    }
   },
   "source": [
    "**Nombre estudiante:** Mosquera Perea"
   ]
  },
  {
   "cell_type": "markdown",
   "id": "be95344a",
   "metadata": {
    "slideshow": {
     "slide_type": "slide"
    }
   },
   "source": [
    "## Modelo\n",
    "\n",
    "* LinearRegression  "
   ]
  },
  {
   "cell_type": "markdown",
   "id": "72f8af9a",
   "metadata": {
    "slideshow": {
     "slide_type": "slide"
    }
   },
   "source": [
    "Para ello siga la metodología dada por Aurelien Géron:\n",
    "\n",
    "1. Obtener el dataset y configurarlo en la forma estándar $[X \\mid y]$. Donde los valores de las entradas de estas matrices sea de tipo `int64`.  \n",
    "\n",
    "2. Descomponer a `X` y a `y` en `X_train_0_vs_1`, `X_test_0_vs_1`, `y_train_0_vs_1` y `y_test_0_vs_1` con una tasa de testeo del 20%. Y verificar con histogramas que el muestreo sea estratificado. \n",
    "\n",
    "3. Escale los atributos con la estrategia de estandarización. \n",
    "\n",
    "4. Entrene el modelo asignados con los datos escalados `X_train_0_vs_1_escalado` y las etiquetas de entrenamiento `y_train_0_vs_1`\n",
    "\n",
    "5. ¿Es aplicable la medida de desempeño `accuracy` para su tarea de clasificación? Justifique su respuesta. \n",
    "\n",
    "6. Efectue el proceso de validación cruzada con 5 hojas de validación (`cv = 5`) y con el `scoring = `accuracy`.   \n",
    "\n",
    "7. Determine la matriz de confusión utilizando 5 hojas de validación.  \n",
    "\n",
    "8. Determine la precisión y el recall de su clasificador para las mismas 5 hojas de validación.  \n",
    "\n",
    "9. Determine el puntaje f1 de su clasificador para las mismas 5 hojas de validación. \n",
    "\n",
    "10. Utilice el `method=\"decision_function\"` de la función `cross_val_predict()` para determinar el vector `y_train_0_vs_1_scores` de los puntajes de decisión para los modelos lineales que le hayan asignado. \n",
    "\n",
    "11. Utilice `precision_recall_curve` para determinar el umbral de decisión necesario para obtener una precisión del 90 $\\%$ en su clasificador. \n",
    "\n",
    "12. Utilice la función `roc_curve` del módulo `metrics` de sklearn para trazar la curva ROC de su modelo. Para ello evalue la función `roc_curve` en `y_train_0_vs_1`, y  `y_train_0_vs_1_scores`).\n",
    "\n",
    "13. Determine el área bajo la curva ROC utilizando la función `roc_auc_score` del módulo metrics de Sklearn. "
   ]
  },
  {
   "cell_type": "markdown",
   "id": "4ae76b49",
   "metadata": {
    "slideshow": {
     "slide_type": "slide"
    }
   },
   "source": [
    "# Metodología dada por Aurelien Géron para Clasificadores binarios:"
   ]
  },
  {
   "cell_type": "markdown",
   "id": "ea415902",
   "metadata": {
    "slideshow": {
     "slide_type": "slide"
    }
   },
   "source": [
    "1. Obtener el dataset y configurarlo en la forma estándar $[X \\mid y]$. Donde los valores de las entradas de estas matrices sea de tipo `int64`.  "
   ]
  },
  {
   "cell_type": "code",
   "execution_count": 1,
   "id": "456e9180",
   "metadata": {
    "slideshow": {
     "slide_type": "slide"
    }
   },
   "outputs": [],
   "source": [
    "from sklearn.datasets import fetch_openml"
   ]
  },
  {
   "cell_type": "code",
   "execution_count": 2,
   "id": "f7389680",
   "metadata": {
    "slideshow": {
     "slide_type": "slide"
    }
   },
   "outputs": [
    {
     "name": "stdout",
     "output_type": "stream",
     "text": [
      "Wall time: 45.5 s\n"
     ]
    }
   ],
   "source": [
    "%%time \n",
    "\n",
    "mnist = fetch_openml('mnist_784', version = 1, as_frame = False) "
   ]
  },
  {
   "cell_type": "code",
   "execution_count": 3,
   "id": "8ff4a81c",
   "metadata": {
    "slideshow": {
     "slide_type": "slide"
    }
   },
   "outputs": [
    {
     "data": {
      "text/plain": [
       "dict_keys(['data', 'target', 'frame', 'categories', 'feature_names', 'target_names', 'DESCR', 'details', 'url'])"
      ]
     },
     "execution_count": 3,
     "metadata": {},
     "output_type": "execute_result"
    }
   ],
   "source": [
    "mnist.keys() "
   ]
  },
  {
   "cell_type": "code",
   "execution_count": 4,
   "id": "71c0eecf",
   "metadata": {
    "slideshow": {
     "slide_type": "slide"
    }
   },
   "outputs": [],
   "source": [
    "X,y = mnist['data'], mnist['target'] "
   ]
  },
  {
   "cell_type": "code",
   "execution_count": 5,
   "id": "9d5f9609",
   "metadata": {
    "slideshow": {
     "slide_type": "slide"
    }
   },
   "outputs": [
    {
     "data": {
      "text/plain": [
       "numpy.ndarray"
      ]
     },
     "execution_count": 5,
     "metadata": {},
     "output_type": "execute_result"
    }
   ],
   "source": [
    "type(X)\n"
   ]
  },
  {
   "cell_type": "code",
   "execution_count": 6,
   "id": "2370b31d",
   "metadata": {
    "scrolled": true,
    "slideshow": {
     "slide_type": "slide"
    }
   },
   "outputs": [
    {
     "data": {
      "text/plain": [
       "<matplotlib.image.AxesImage at 0x1d095698790>"
      ]
     },
     "execution_count": 6,
     "metadata": {},
     "output_type": "execute_result"
    },
    {
     "data": {
      "image/png": "[encoded data removed]",
      "text/plain": [
       "<Figure size 432x288 with 1 Axes>"
      ]
     },
     "metadata": {
      "needs_background": "light"
     },
     "output_type": "display_data"
    }
   ],
   "source": [
    "import matplotlib.pyplot as plt\n",
    "\n",
    "plt.imshow(X[0,:].reshape(28,28), cmap = 'binary')"
   ]
  },
  {
   "cell_type": "code",
   "execution_count": 7,
   "id": "5cb38a6a",
   "metadata": {
    "slideshow": {
     "slide_type": "slide"
    }
   },
   "outputs": [
    {
     "data": {
      "text/plain": [
       "'5'"
      ]
     },
     "execution_count": 7,
     "metadata": {},
     "output_type": "execute_result"
    }
   ],
   "source": [
    "y[0]"
   ]
  },
  {
   "cell_type": "code",
   "execution_count": 8,
   "id": "af94813e",
   "metadata": {
    "slideshow": {
     "slide_type": "slide"
    }
   },
   "outputs": [],
   "source": [
    "import numpy as np \n",
    "y = y.astype(np.int64)"
   ]
  },
  {
   "cell_type": "code",
   "execution_count": 9,
   "id": "47f8a847",
   "metadata": {},
   "outputs": [
    {
     "data": {
      "text/plain": [
       "5"
      ]
     },
     "execution_count": 9,
     "metadata": {},
     "output_type": "execute_result"
    }
   ],
   "source": [
    "y[0]"
   ]
  },
  {
   "cell_type": "markdown",
   "id": "d35c85e0",
   "metadata": {
    "slideshow": {
     "slide_type": "slide"
    }
   },
   "source": [
    "2. Descomponer a `X` y a `y` en `X_train_0_vs_1`, `X_test_0_vs_1`, `y_train_0_vs_1` y `y_test_0_vs_1` con una tasa de testeo del 20%. Y verificar con histogramas que el muestreo sea estratificado. "
   ]
  },
  {
   "cell_type": "code",
   "execution_count": 16,
   "id": "6040e4d3",
   "metadata": {
    "slideshow": {
     "slide_type": "slide"
    }
   },
   "outputs": [],
   "source": [
    "X_0 = X[y==0]\n",
    "y_0 = y[y==0]"
   ]
  },
  {
   "cell_type": "code",
   "execution_count": 20,
   "id": "05bf8d19",
   "metadata": {
    "slideshow": {
     "slide_type": "slide"
    }
   },
   "outputs": [],
   "source": [
    "y_0 = y_0.reshape(-1,1)"
   ]
  },
  {
   "cell_type": "code",
   "execution_count": 17,
   "id": "6b529e24",
   "metadata": {
    "slideshow": {
     "slide_type": "slide"
    }
   },
   "outputs": [],
   "source": [
    "X_1 = X[y==1]\n",
    "y_1 = y[y==1]"
   ]
  },
  {
   "cell_type": "code",
   "execution_count": 21,
   "id": "41c8b83f",
   "metadata": {},
   "outputs": [],
   "source": [
    "y_1 = y_1.reshape(-1,1)"
   ]
  },
  {
   "cell_type": "code",
   "execution_count": 22,
   "id": "0a7d422c",
   "metadata": {},
   "outputs": [],
   "source": [
    "X_0_vs_1 = np.vstack((X_0, X_1)) \n",
    "y_0_vs_1 = np.vstack((y_0, y_1)) "
   ]
  },
  {
   "cell_type": "code",
   "execution_count": null,
   "id": "e54882f6",
   "metadata": {
    "slideshow": {
     "slide_type": "slide"
    }
   },
   "outputs": [],
   "source": [
    "X_0"
   ]
  },
  {
   "cell_type": "code",
   "execution_count": 102,
   "id": "a1bfa3d2",
   "metadata": {
    "slideshow": {
     "slide_type": "slide"
    }
   },
   "outputs": [
    {
     "data": {
      "image/png": "[encoded data removed]",
      "text/plain": [
       "<Figure size 432x288 with 1 Axes>"
      ]
     },
     "metadata": {
      "needs_background": "light"
     },
     "output_type": "display_data"
    }
   ],
   "source": [
    "import matplotlib.pyplot as plt\n",
    "\n",
    "plt.imshow(X_0[0,:].reshape(28,28), cmap = 'binary')\n",
    "\n",
    "plt.savefig('cero.jpg')\n",
    "plt.axis('off')\n",
    "plt.show() "
   ]
  },
  {
   "cell_type": "code",
   "execution_count": 15,
   "id": "bed4b32a",
   "metadata": {},
   "outputs": [
    {
     "data": {
      "text/plain": [
       "<matplotlib.image.AxesImage at 0x1d0a2083490>"
      ]
     },
     "execution_count": 15,
     "metadata": {},
     "output_type": "execute_result"
    },
    {
     "data": {
      "image/png": "[encoded data removed]",
      "text/plain": [
       "<Figure size 432x288 with 1 Axes>"
      ]
     },
     "metadata": {
      "needs_background": "light"
     },
     "output_type": "display_data"
    }
   ],
   "source": [
    "import matplotlib.pyplot as plt\n",
    "\n",
    "plt.imshow(X_1[0,:].reshape(28,28), cmap = 'binary')"
   ]
  },
  {
   "cell_type": "code",
   "execution_count": 23,
   "id": "4fad830e",
   "metadata": {
    "slideshow": {
     "slide_type": "slide"
    }
   },
   "outputs": [
    {
     "data": {
      "text/plain": [
       "array([0], dtype=int64)"
      ]
     },
     "execution_count": 23,
     "metadata": {},
     "output_type": "execute_result"
    }
   ],
   "source": [
    "y_0[0]"
   ]
  },
  {
   "cell_type": "code",
   "execution_count": 24,
   "id": "4c1cb4dd",
   "metadata": {
    "slideshow": {
     "slide_type": "slide"
    }
   },
   "outputs": [
    {
     "data": {
      "text/plain": [
       "array([1], dtype=int64)"
      ]
     },
     "execution_count": 24,
     "metadata": {},
     "output_type": "execute_result"
    }
   ],
   "source": [
    "y_1[0]"
   ]
  },
  {
   "cell_type": "markdown",
   "id": "05894541",
   "metadata": {
    "slideshow": {
     "slide_type": "slide"
    }
   },
   "source": [
    "`[X_0_vs_1 | y_0_vs_1]`"
   ]
  },
  {
   "cell_type": "code",
   "execution_count": 27,
   "id": "1b3600e1",
   "metadata": {
    "slideshow": {
     "slide_type": "slide"
    }
   },
   "outputs": [],
   "source": [
    "from sklearn.model_selection import StratifiedShuffleSplit"
   ]
  },
  {
   "cell_type": "code",
   "execution_count": 74,
   "id": "4cdc331a",
   "metadata": {
    "slideshow": {
     "slide_type": "slide"
    }
   },
   "outputs": [],
   "source": [
    "sss = StratifiedShuffleSplit(n_splits = 1, random_state = 42, test_size = 0.2) "
   ]
  },
  {
   "cell_type": "code",
   "execution_count": 75,
   "id": "cc053c69",
   "metadata": {
    "slideshow": {
     "slide_type": "slide"
    }
   },
   "outputs": [],
   "source": [
    "for train_index, test_index in sss.split(X_0_vs_1, y_0_vs_1):\n",
    "    X_0_vs_1_train, X_0_vs_1_test = X_0_vs_1[train_index], \\\n",
    "                                                  X_0_vs_1[test_index] \n",
    "    y_0_vs_1_train, y_0_vs_1_test = y_0_vs_1[train_index], \\\n",
    "                                                  y_0_vs_1[test_index] "
   ]
  },
  {
   "cell_type": "code",
   "execution_count": 103,
   "id": "09aa535e",
   "metadata": {
    "scrolled": true,
    "slideshow": {
     "slide_type": "slide"
    }
   },
   "outputs": [
    {
     "data": {
      "image/png": "[encoded data removed]",
      "text/plain": [
       "<Figure size 432x288 with 1 Axes>"
      ]
     },
     "metadata": {
      "needs_background": "light"
     },
     "output_type": "display_data"
    }
   ],
   "source": [
    "plt.hist(y_0_vs_1)\n",
    "\n",
    "plt.show() "
   ]
  },
  {
   "cell_type": "code",
   "execution_count": 104,
   "id": "1b977ec2",
   "metadata": {
    "slideshow": {
     "slide_type": "slide"
    }
   },
   "outputs": [
    {
     "data": {
      "image/png": "[encoded data removed]",
      "text/plain": [
       "<Figure size 432x288 with 1 Axes>"
      ]
     },
     "metadata": {
      "needs_background": "light"
     },
     "output_type": "display_data"
    }
   ],
   "source": [
    "plt.hist(y_0_vs_1_train)\n",
    "\n",
    "plt.show() "
   ]
  },
  {
   "cell_type": "code",
   "execution_count": 78,
   "id": "ce533795",
   "metadata": {
    "slideshow": {
     "slide_type": "slide"
    }
   },
   "outputs": [
    {
     "data": {
      "image/png": "[encoded data removed]",
      "text/plain": [
       "<Figure size 432x288 with 1 Axes>"
      ]
     },
     "metadata": {
      "needs_background": "light"
     },
     "output_type": "display_data"
    }
   ],
   "source": [
    "plt.hist(y_0_vs_1_test)\n",
    "plt.show() "
   ]
  },
  {
   "cell_type": "markdown",
   "id": "65a16af8",
   "metadata": {
    "slideshow": {
     "slide_type": "slide"
    }
   },
   "source": [
    "3. Escale los atributos con la estrategia de estandarización. "
   ]
  },
  {
   "cell_type": "code",
   "execution_count": 79,
   "id": "233c54a4",
   "metadata": {
    "slideshow": {
     "slide_type": "slide"
    }
   },
   "outputs": [],
   "source": [
    "from sklearn.preprocessing import StandardScaler "
   ]
  },
  {
   "cell_type": "code",
   "execution_count": 80,
   "id": "9e8861b5",
   "metadata": {
    "slideshow": {
     "slide_type": "slide"
    }
   },
   "outputs": [],
   "source": [
    "escalador = StandardScaler() "
   ]
  },
  {
   "cell_type": "code",
   "execution_count": 81,
   "id": "2471ba5e",
   "metadata": {
    "slideshow": {
     "slide_type": "slide"
    }
   },
   "outputs": [],
   "source": [
    "X_0_vs_1_train_escalado = escalador.fit_transform(X_0_vs_1_train)"
   ]
  },
  {
   "cell_type": "code",
   "execution_count": 82,
   "id": "76e68bfe",
   "metadata": {
    "slideshow": {
     "slide_type": "slide"
    }
   },
   "outputs": [],
   "source": [
    "X_0_vs_1_test_escalado = escalador.transform(X_0_vs_1_test)"
   ]
  },
  {
   "cell_type": "markdown",
   "id": "56ac2be9",
   "metadata": {
    "slideshow": {
     "slide_type": "slide"
    }
   },
   "source": [
    "4. Entrene el modelo asignados con los datos escalados `X_train_0_vs_1_escalado` y las etiquetas de entrenamiento `y_train_0_vs_1`"
   ]
  },
  {
   "cell_type": "code",
   "execution_count": 83,
   "id": "936998c5",
   "metadata": {
    "slideshow": {
     "slide_type": "slide"
    }
   },
   "outputs": [],
   "source": [
    "from sklearn.linear_model import LogisticRegression"
   ]
  },
  {
   "cell_type": "code",
   "execution_count": 84,
   "id": "59548207",
   "metadata": {
    "slideshow": {
     "slide_type": "slide"
    }
   },
   "outputs": [],
   "source": [
    "lr_clf = LogisticRegression(max_iter = 500)"
   ]
  },
  {
   "cell_type": "code",
   "execution_count": 85,
   "id": "fe877781",
   "metadata": {
    "slideshow": {
     "slide_type": "slide"
    }
   },
   "outputs": [
    {
     "data": {
      "text/plain": [
       "LogisticRegression(max_iter=500)"
      ]
     },
     "execution_count": 85,
     "metadata": {},
     "output_type": "execute_result"
    }
   ],
   "source": [
    "lr_clf.fit(X_0_vs_1_train, y_0_vs_1_train.ravel())"
   ]
  },
  {
   "cell_type": "markdown",
   "id": "985bffc0",
   "metadata": {
    "slideshow": {
     "slide_type": "slide"
    }
   },
   "source": [
    "5. ¿Es aplicable la medida de desempeño `accuracy` para su tarea de clasificación? Justifique su respuesta. "
   ]
  },
  {
   "cell_type": "markdown",
   "id": "c4cf0dea",
   "metadata": {
    "slideshow": {
     "slide_type": "slide"
    }
   },
   "source": [
    "Cómo la clase del 0 se presenta en 7000 veces y la clase del 1 se presenta 8 mil veces, entonces tenemos dos clase con sesgo, lo no recomienda el uso de la medida de exactitud o accjuracy para la medida de desempeño de nuestro clasificador. "
   ]
  },
  {
   "cell_type": "markdown",
   "id": "ae3db751",
   "metadata": {
    "slideshow": {
     "slide_type": "slide"
    }
   },
   "source": [
    "6. Efectue el proceso de validación cruzada con 5 hojas de validación (`cv = 5`) y con el `scoring = `accuracy`.   "
   ]
  },
  {
   "cell_type": "code",
   "execution_count": 86,
   "id": "084e5848",
   "metadata": {
    "slideshow": {
     "slide_type": "slide"
    }
   },
   "outputs": [],
   "source": [
    "from sklearn.model_selection import cross_val_score"
   ]
  },
  {
   "cell_type": "code",
   "execution_count": 87,
   "id": "a44895b1",
   "metadata": {
    "slideshow": {
     "slide_type": "slide"
    }
   },
   "outputs": [],
   "source": [
    "primer_imagen = escalador.transform([X_0_vs_1_train[0]])"
   ]
  },
  {
   "cell_type": "code",
   "execution_count": 88,
   "id": "ad89dda0",
   "metadata": {
    "slideshow": {
     "slide_type": "slide"
    }
   },
   "outputs": [
    {
     "data": {
      "text/plain": [
       "array([0], dtype=int64)"
      ]
     },
     "execution_count": 88,
     "metadata": {},
     "output_type": "execute_result"
    }
   ],
   "source": [
    "lr_clf.predict(primer_imagen)"
   ]
  },
  {
   "cell_type": "code",
   "execution_count": 90,
   "id": "5b9c384f",
   "metadata": {
    "slideshow": {
     "slide_type": "slide"
    }
   },
   "outputs": [],
   "source": [
    "scores = cross_val_score(lr_clf, X_0_vs_1_train, y_0_vs_1_train.ravel(), \\\n",
    "                        cv = 5, scoring = 'accuracy')"
   ]
  },
  {
   "cell_type": "code",
   "execution_count": 91,
   "id": "de24078e",
   "metadata": {
    "slideshow": {
     "slide_type": "slide"
    }
   },
   "outputs": [
    {
     "data": {
      "text/plain": [
       "array([0.9987315 , 0.99788584, 0.9987315 , 0.99788584, 0.99915398])"
      ]
     },
     "execution_count": 91,
     "metadata": {},
     "output_type": "execute_result"
    }
   ],
   "source": [
    "scores"
   ]
  },
  {
   "cell_type": "markdown",
   "id": "cbb8eee8",
   "metadata": {
    "slideshow": {
     "slide_type": "slide"
    }
   },
   "source": [
    "7. Determine la matriz de confusión utilizando 5 hojas de validación.  "
   ]
  },
  {
   "cell_type": "code",
   "execution_count": 92,
   "id": "f5c8ea53",
   "metadata": {
    "slideshow": {
     "slide_type": "slide"
    }
   },
   "outputs": [],
   "source": [
    "from sklearn.model_selection import cross_val_predict "
   ]
  },
  {
   "cell_type": "code",
   "execution_count": 93,
   "id": "3a5cb9df",
   "metadata": {
    "slideshow": {
     "slide_type": "slide"
    }
   },
   "outputs": [],
   "source": [
    "y_0_vs_1_train_predicciones = cross_val_predict(lr_clf, \\\n",
    "                                X_0_vs_1_train, y_0_vs_1_train.ravel(), \\\n",
    "                        cv = 5) "
   ]
  },
  {
   "cell_type": "code",
   "execution_count": 94,
   "id": "96ac1cb5",
   "metadata": {},
   "outputs": [],
   "source": [
    "from sklearn.metrics import confusion_matrix "
   ]
  },
  {
   "cell_type": "code",
   "execution_count": 95,
   "id": "84ea4e47",
   "metadata": {},
   "outputs": [
    {
     "data": {
      "text/plain": [
       "array([[5514,    8],\n",
       "       [  10, 6292]], dtype=int64)"
      ]
     },
     "execution_count": 95,
     "metadata": {},
     "output_type": "execute_result"
    }
   ],
   "source": [
    "confusion_matrix(y_0_vs_1_train, y_0_vs_1_train_predicciones) "
   ]
  },
  {
   "cell_type": "markdown",
   "id": "bfcdde83",
   "metadata": {
    "slideshow": {
     "slide_type": "slide"
    }
   },
   "source": [
    "8. Determine la precisión y el recall de su clasificador para las mismas 5 hojas de validación.  "
   ]
  },
  {
   "cell_type": "code",
   "execution_count": 99,
   "id": "75641a11",
   "metadata": {
    "slideshow": {
     "slide_type": "slide"
    }
   },
   "outputs": [],
   "source": [
    "from sklearn.metrics import precision_score, recall_score, f1_score "
   ]
  },
  {
   "cell_type": "code",
   "execution_count": 97,
   "id": "95ec8eda",
   "metadata": {
    "slideshow": {
     "slide_type": "slide"
    }
   },
   "outputs": [
    {
     "data": {
      "text/plain": [
       "0.9987301587301587"
      ]
     },
     "execution_count": 97,
     "metadata": {},
     "output_type": "execute_result"
    }
   ],
   "source": [
    "precision_score(y_0_vs_1_train, y_0_vs_1_train_predicciones) "
   ]
  },
  {
   "cell_type": "code",
   "execution_count": 98,
   "id": "875c9585",
   "metadata": {
    "slideshow": {
     "slide_type": "slide"
    }
   },
   "outputs": [
    {
     "data": {
      "text/plain": [
       "0.9984132021580451"
      ]
     },
     "execution_count": 98,
     "metadata": {},
     "output_type": "execute_result"
    }
   ],
   "source": [
    "recall_score(y_0_vs_1_train, y_0_vs_1_train_predicciones) "
   ]
  },
  {
   "cell_type": "markdown",
   "id": "550ce22d",
   "metadata": {
    "slideshow": {
     "slide_type": "slide"
    }
   },
   "source": [
    "9. Determine el puntaje f1 de su clasificador para las mismas 5 hojas de validación. "
   ]
  },
  {
   "cell_type": "code",
   "execution_count": 100,
   "id": "d5d9f781",
   "metadata": {
    "slideshow": {
     "slide_type": "slide"
    }
   },
   "outputs": [
    {
     "data": {
      "text/plain": [
       "0.9985716552928108"
      ]
     },
     "execution_count": 100,
     "metadata": {},
     "output_type": "execute_result"
    }
   ],
   "source": [
    "f1_score(y_0_vs_1_train, y_0_vs_1_train_predicciones) "
   ]
  },
  {
   "cell_type": "markdown",
   "id": "0845901f",
   "metadata": {
    "slideshow": {
     "slide_type": "slide"
    }
   },
   "source": [
    "10. Utilice el `method=\"decision_function\"` de la función `cross_val_predict()` para determinar el vector `y_train_0_vs_1_scores` de los puntajes de decisión para el modelo LogisticRegression asignado. "
   ]
  },
  {
   "cell_type": "code",
   "execution_count": 105,
   "id": "86fcf7ad",
   "metadata": {
    "slideshow": {
     "slide_type": "slide"
    }
   },
   "outputs": [
    {
     "name": "stdout",
     "output_type": "stream",
     "text": [
      "Wall time: 9.27 s\n"
     ]
    }
   ],
   "source": [
    "%%time \n",
    "y_0_vs_1__train_puntajes_decision = cross_val_predict(lr_clf, \\\n",
    "                                X_0_vs_1_train, y_0_vs_1_train.ravel(), \\\n",
    "                        cv = 5, method = 'decision_function')  "
   ]
  },
  {
   "cell_type": "code",
   "execution_count": 106,
   "id": "92a177b5",
   "metadata": {
    "slideshow": {
     "slide_type": "slide"
    }
   },
   "outputs": [
    {
     "data": {
      "text/plain": [
       "array([-25.95746711,  26.25815625,  24.48759549, ...,  48.81688785,\n",
       "        33.19533756,  26.67058107])"
      ]
     },
     "execution_count": 106,
     "metadata": {},
     "output_type": "execute_result"
    }
   ],
   "source": [
    "y_0_vs_1__train_puntajes_decision"
   ]
  },
  {
   "cell_type": "markdown",
   "id": "2b03f4d1",
   "metadata": {
    "slideshow": {
     "slide_type": "slide"
    }
   },
   "source": [
    "11. Utilice `precision_recall_curve` para determinar el umbral de decisión necesario para obtener una precisión del 90 $\\%$ en su clasificador. "
   ]
  },
  {
   "cell_type": "code",
   "execution_count": 107,
   "id": "41d1084b",
   "metadata": {
    "slideshow": {
     "slide_type": "slide"
    }
   },
   "outputs": [],
   "source": [
    "from sklearn.metrics import precision_recall_curve "
   ]
  },
  {
   "cell_type": "code",
   "execution_count": 109,
   "id": "be61e717",
   "metadata": {
    "slideshow": {
     "slide_type": "slide"
    }
   },
   "outputs": [],
   "source": [
    "precisions, recalls, thresholds =  precision_recall_curve(\\\n",
    "                                                    y_0_vs_1_train, \\\n",
    "                                        y_0_vs_1__train_puntajes_decision)  "
   ]
  },
  {
   "cell_type": "code",
   "execution_count": 111,
   "id": "74054a12",
   "metadata": {
    "slideshow": {
     "slide_type": "slide"
    }
   },
   "outputs": [
    {
     "data": {
      "text/plain": [
       "(6541, 6541, 6540)"
      ]
     },
     "execution_count": 111,
     "metadata": {},
     "output_type": "execute_result"
    }
   ],
   "source": [
    "len(precisions),len(recalls), len( thresholds) "
   ]
  },
  {
   "cell_type": "code",
   "execution_count": 113,
   "id": "4b197120",
   "metadata": {
    "slideshow": {
     "slide_type": "slide"
    }
   },
   "outputs": [
    {
     "data": {
      "text/plain": [
       "[<matplotlib.lines.Line2D at 0x1d09a813d00>]"
      ]
     },
     "execution_count": 113,
     "metadata": {},
     "output_type": "execute_result"
    },
    {
     "data": {
      "image/png": "[encoded data removed]",
      "text/plain": [
       "<Figure size 432x288 with 1 Axes>"
      ]
     },
     "metadata": {
      "needs_background": "light"
     },
     "output_type": "display_data"
    }
   ],
   "source": [
    "plt.plot(thresholds, precisions[:-1], color = 'red' )\n",
    "plt.plot(thresholds, recalls[:-1] )"
   ]
  },
  {
   "cell_type": "markdown",
   "id": "4a13bbdd",
   "metadata": {
    "slideshow": {
     "slide_type": "slide"
    }
   },
   "source": [
    "12. Utilice la función `roc_curve` del módulo `metrics` de sklearn para trazar la curva ROC de su modelo. Para ello evalue la función `roc_curve` en `y_train_0_vs_1`, y  `y_train_0_vs_1_scores`)."
   ]
  },
  {
   "cell_type": "code",
   "execution_count": 114,
   "id": "6b337d92",
   "metadata": {},
   "outputs": [],
   "source": [
    "from sklearn.metrics import roc_curve\n"
   ]
  },
  {
   "cell_type": "code",
   "execution_count": 117,
   "id": "e9f8f958",
   "metadata": {},
   "outputs": [],
   "source": [
    "fpr, tpr, thresholds = roc_curve(y_0_vs_1_train,\\\n",
    "                                 y_0_vs_1__train_puntajes_decision)"
   ]
  },
  {
   "cell_type": "code",
   "execution_count": 118,
   "id": "e0791955",
   "metadata": {},
   "outputs": [
    {
     "data": {
      "text/plain": [
       "(32, 32, 32)"
      ]
     },
     "execution_count": 118,
     "metadata": {},
     "output_type": "execute_result"
    }
   ],
   "source": [
    "len(fpr), len(tpr), len(thresholds)"
   ]
  },
  {
   "cell_type": "code",
   "execution_count": 120,
   "id": "5f56f4a3",
   "metadata": {
    "slideshow": {
     "slide_type": "slide"
    }
   },
   "outputs": [
    {
     "data": {
      "text/plain": [
       "[<matplotlib.lines.Line2D at 0x1d099538910>]"
      ]
     },
     "execution_count": 120,
     "metadata": {},
     "output_type": "execute_result"
    },
    {
     "data": {
      "image/png": "[encoded data removed]",
      "text/plain": [
       "<Figure size 432x288 with 1 Axes>"
      ]
     },
     "metadata": {
      "needs_background": "light"
     },
     "output_type": "display_data"
    }
   ],
   "source": [
    "plt.plot( fpr, tpr, color = 'red' )\n"
   ]
  },
  {
   "cell_type": "markdown",
   "id": "46645a81",
   "metadata": {
    "slideshow": {
     "slide_type": "slide"
    }
   },
   "source": [
    "13. Determine el área bajo la curva ROC utilizando la función `roc_auc_score` del módulo metrics de Sklearn. "
   ]
  },
  {
   "cell_type": "code",
   "execution_count": 121,
   "id": "0a68947b",
   "metadata": {
    "slideshow": {
     "slide_type": "slide"
    }
   },
   "outputs": [],
   "source": [
    "from sklearn.metrics import roc_auc_score "
   ]
  },
  {
   "cell_type": "code",
   "execution_count": 122,
   "id": "26e0f68d",
   "metadata": {
    "slideshow": {
     "slide_type": "slide"
    }
   },
   "outputs": [
    {
     "data": {
      "text/plain": [
       "0.9999805170420709"
      ]
     },
     "execution_count": 122,
     "metadata": {},
     "output_type": "execute_result"
    }
   ],
   "source": [
    "roc_auc_score(y_0_vs_1_train, y_0_vs_1__train_puntajes_decision)"
   ]
  },
  {
   "cell_type": "markdown",
   "id": "f93a380e",
   "metadata": {
    "slideshow": {
     "slide_type": "slide"
    }
   },
   "source": [
    "**Conclusión:** Este modelo se comporta muy muy bien en el reconocimiento de ceros y unos. "
   ]
  },
  {
   "cell_type": "markdown",
   "id": "c91e1875",
   "metadata": {
    "slideshow": {
     "slide_type": "slide"
    }
   },
   "source": [
    "Nos resta el verificar su comportamiento den el conjunto de testeo"
   ]
  }
 ],
 "metadata": {
  "celltoolbar": "Slideshow",
  "kernelspec": {
   "display_name": "Python 3 (ipykernel)",
   "language": "python",
   "name": "python3"
  },
  "language_info": {
   "codemirror_mode": {
    "name": "ipython",
    "version": 3
   },
   "file_extension": ".py",
   "mimetype": "text/x-python",
   "name": "python",
   "nbconvert_exporter": "python",
   "pygments_lexer": "ipython3",
   "version": "3.9.7"
  }
 },
 "nbformat": 4,
 "nbformat_minor": 5
}
