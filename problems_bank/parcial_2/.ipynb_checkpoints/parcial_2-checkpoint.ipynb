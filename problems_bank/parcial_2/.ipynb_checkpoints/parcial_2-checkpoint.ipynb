{
 "cells": [
  {
   "cell_type": "markdown",
   "id": "31c51974",
   "metadata": {
    "slideshow": {
     "slide_type": "slide"
    }
   },
   "source": [
    "<table align=\"left\">\n",
    "  <td>\n",
    "    <a href=\"https://colab.research.google.com/github/marco-canas/intro-Machine-Learning/blob/main/classes/class_18/class_18_pipeline_linear_regression.ipynb\" target=\"_parent\"><img src=\"https://colab.research.google.com/assets/colab-badge.svg\" alt=\"Open In Colab\"/></a>\n",
    "  </td>\n",
    "</table> "
   ]
  },
  {
   "cell_type": "markdown",
   "id": "d259e44c",
   "metadata": {
    "slideshow": {
     "slide_type": "slide"
    }
   },
   "source": [
    "# Punto 1"
   ]
  },
  {
   "cell_type": "markdown",
   "id": "d9376437",
   "metadata": {
    "slideshow": {
     "slide_type": "slide"
    }
   },
   "source": [
    "En el dataset de vivienda.csv. \n",
    "1. Grafique un scatter relacionando el ingreso con el valor.\n",
    "2. filtre los datos que generan las tres líneas horizontales en el scatter para que el algoritmo de machine learning no aprenda a reproducir estas peculiaridades de los datos. "
   ]
  },
  {
   "cell_type": "code",
   "execution_count": 1,
   "id": "a1819e59",
   "metadata": {
    "slideshow": {
     "slide_type": "slide"
    }
   },
   "outputs": [],
   "source": [
    "import numpy as np \n",
    "import pandas as pd \n",
    "import matplotlib.pyplot as plt "
   ]
  },
  {
   "cell_type": "code",
   "execution_count": 12,
   "id": "393ed0c2",
   "metadata": {
    "slideshow": {
     "slide_type": "slide"
    }
   },
   "outputs": [],
   "source": [
    "v = pd.read_csv('vivienda.csv') "
   ]
  },
  {
   "cell_type": "markdown",
   "id": "32d00d65",
   "metadata": {
    "slideshow": {
     "slide_type": "slide"
    }
   },
   "source": [
    "Construyamos una serie de Booleanos que nos indique cuáles distritos tiene un valor promedio de vivienda de $500000$ dólares:"
   ]
  },
  {
   "cell_type": "code",
   "execution_count": 13,
   "id": "2efa250d",
   "metadata": {
    "slideshow": {
     "slide_type": "slide"
    }
   },
   "outputs": [],
   "source": [
    "serie_booleanos = v['valor']==500000"
   ]
  },
  {
   "cell_type": "markdown",
   "id": "e409b7e0",
   "metadata": {
    "slideshow": {
     "slide_type": "slide"
    }
   },
   "source": [
    "Tomemos los índices de la serie enterior para saber los distritos que tienen un valor promedio de 500000 dólares. "
   ]
  },
  {
   "cell_type": "code",
   "execution_count": 14,
   "id": "1e980f0e",
   "metadata": {
    "slideshow": {
     "slide_type": "slide"
    }
   },
   "outputs": [],
   "source": [
    "distritos_500_mil = serie_booleanos.index"
   ]
  },
  {
   "cell_type": "markdown",
   "id": "db97d101",
   "metadata": {
    "slideshow": {
     "slide_type": "slide"
    }
   },
   "source": [
    "Filtremos los distritos con valor promedio de 500 mil dólares. "
   ]
  },
  {
   "cell_type": "code",
   "execution_count": 16,
   "id": "9192a4d7",
   "metadata": {
    "slideshow": {
     "slide_type": "subslide"
    }
   },
   "outputs": [
    {
     "data": {
      "text/html": [
       "<div>\n",
       "<style scoped>\n",
       "    .dataframe tbody tr th:only-of-type {\n",
       "        vertical-align: middle;\n",
       "    }\n",
       "\n",
       "    .dataframe tbody tr th {\n",
       "        vertical-align: top;\n",
       "    }\n",
       "\n",
       "    .dataframe thead th {\n",
       "        text-align: right;\n",
       "    }\n",
       "</style>\n",
       "<table border=\"1\" class=\"dataframe\">\n",
       "  <thead>\n",
       "    <tr style=\"text-align: right;\">\n",
       "      <th></th>\n",
       "      <th>longitud</th>\n",
       "      <th>latitud</th>\n",
       "      <th>antiguedad</th>\n",
       "      <th>habitaciones</th>\n",
       "      <th>dormitorios</th>\n",
       "      <th>población</th>\n",
       "      <th>hogares</th>\n",
       "      <th>ingresos</th>\n",
       "      <th>proximidad</th>\n",
       "      <th>valor</th>\n",
       "    </tr>\n",
       "  </thead>\n",
       "  <tbody>\n",
       "    <tr>\n",
       "      <th>0</th>\n",
       "      <td>-122.23</td>\n",
       "      <td>37.88</td>\n",
       "      <td>41.0</td>\n",
       "      <td>880.0</td>\n",
       "      <td>129.0</td>\n",
       "      <td>322.0</td>\n",
       "      <td>126.0</td>\n",
       "      <td>8.3252</td>\n",
       "      <td>NEAR BAY</td>\n",
       "      <td>452600.0</td>\n",
       "    </tr>\n",
       "    <tr>\n",
       "      <th>1</th>\n",
       "      <td>-122.22</td>\n",
       "      <td>37.86</td>\n",
       "      <td>21.0</td>\n",
       "      <td>7099.0</td>\n",
       "      <td>1106.0</td>\n",
       "      <td>2401.0</td>\n",
       "      <td>1138.0</td>\n",
       "      <td>8.3014</td>\n",
       "      <td>NEAR BAY</td>\n",
       "      <td>358500.0</td>\n",
       "    </tr>\n",
       "    <tr>\n",
       "      <th>2</th>\n",
       "      <td>-122.24</td>\n",
       "      <td>37.85</td>\n",
       "      <td>52.0</td>\n",
       "      <td>1467.0</td>\n",
       "      <td>190.0</td>\n",
       "      <td>496.0</td>\n",
       "      <td>177.0</td>\n",
       "      <td>7.2574</td>\n",
       "      <td>NEAR BAY</td>\n",
       "      <td>352100.0</td>\n",
       "    </tr>\n",
       "    <tr>\n",
       "      <th>3</th>\n",
       "      <td>-122.25</td>\n",
       "      <td>37.85</td>\n",
       "      <td>52.0</td>\n",
       "      <td>1274.0</td>\n",
       "      <td>235.0</td>\n",
       "      <td>558.0</td>\n",
       "      <td>219.0</td>\n",
       "      <td>5.6431</td>\n",
       "      <td>NEAR BAY</td>\n",
       "      <td>341300.0</td>\n",
       "    </tr>\n",
       "    <tr>\n",
       "      <th>4</th>\n",
       "      <td>-122.25</td>\n",
       "      <td>37.85</td>\n",
       "      <td>52.0</td>\n",
       "      <td>1627.0</td>\n",
       "      <td>280.0</td>\n",
       "      <td>565.0</td>\n",
       "      <td>259.0</td>\n",
       "      <td>3.8462</td>\n",
       "      <td>NEAR BAY</td>\n",
       "      <td>342200.0</td>\n",
       "    </tr>\n",
       "    <tr>\n",
       "      <th>...</th>\n",
       "      <td>...</td>\n",
       "      <td>...</td>\n",
       "      <td>...</td>\n",
       "      <td>...</td>\n",
       "      <td>...</td>\n",
       "      <td>...</td>\n",
       "      <td>...</td>\n",
       "      <td>...</td>\n",
       "      <td>...</td>\n",
       "      <td>...</td>\n",
       "    </tr>\n",
       "    <tr>\n",
       "      <th>20635</th>\n",
       "      <td>-121.09</td>\n",
       "      <td>39.48</td>\n",
       "      <td>25.0</td>\n",
       "      <td>1665.0</td>\n",
       "      <td>374.0</td>\n",
       "      <td>845.0</td>\n",
       "      <td>330.0</td>\n",
       "      <td>1.5603</td>\n",
       "      <td>INLAND</td>\n",
       "      <td>78100.0</td>\n",
       "    </tr>\n",
       "    <tr>\n",
       "      <th>20636</th>\n",
       "      <td>-121.21</td>\n",
       "      <td>39.49</td>\n",
       "      <td>18.0</td>\n",
       "      <td>697.0</td>\n",
       "      <td>150.0</td>\n",
       "      <td>356.0</td>\n",
       "      <td>114.0</td>\n",
       "      <td>2.5568</td>\n",
       "      <td>INLAND</td>\n",
       "      <td>77100.0</td>\n",
       "    </tr>\n",
       "    <tr>\n",
       "      <th>20637</th>\n",
       "      <td>-121.22</td>\n",
       "      <td>39.43</td>\n",
       "      <td>17.0</td>\n",
       "      <td>2254.0</td>\n",
       "      <td>485.0</td>\n",
       "      <td>1007.0</td>\n",
       "      <td>433.0</td>\n",
       "      <td>1.7000</td>\n",
       "      <td>INLAND</td>\n",
       "      <td>92300.0</td>\n",
       "    </tr>\n",
       "    <tr>\n",
       "      <th>20638</th>\n",
       "      <td>-121.32</td>\n",
       "      <td>39.43</td>\n",
       "      <td>18.0</td>\n",
       "      <td>1860.0</td>\n",
       "      <td>409.0</td>\n",
       "      <td>741.0</td>\n",
       "      <td>349.0</td>\n",
       "      <td>1.8672</td>\n",
       "      <td>INLAND</td>\n",
       "      <td>84700.0</td>\n",
       "    </tr>\n",
       "    <tr>\n",
       "      <th>20639</th>\n",
       "      <td>-121.24</td>\n",
       "      <td>39.37</td>\n",
       "      <td>16.0</td>\n",
       "      <td>2785.0</td>\n",
       "      <td>616.0</td>\n",
       "      <td>1387.0</td>\n",
       "      <td>530.0</td>\n",
       "      <td>2.3886</td>\n",
       "      <td>INLAND</td>\n",
       "      <td>89400.0</td>\n",
       "    </tr>\n",
       "  </tbody>\n",
       "</table>\n",
       "<p>20640 rows × 10 columns</p>\n",
       "</div>"
      ],
      "text/plain": [
       "       longitud  latitud  antiguedad  habitaciones  dormitorios  población  \\\n",
       "0       -122.23    37.88        41.0         880.0        129.0      322.0   \n",
       "1       -122.22    37.86        21.0        7099.0       1106.0     2401.0   \n",
       "2       -122.24    37.85        52.0        1467.0        190.0      496.0   \n",
       "3       -122.25    37.85        52.0        1274.0        235.0      558.0   \n",
       "4       -122.25    37.85        52.0        1627.0        280.0      565.0   \n",
       "...         ...      ...         ...           ...          ...        ...   \n",
       "20635   -121.09    39.48        25.0        1665.0        374.0      845.0   \n",
       "20636   -121.21    39.49        18.0         697.0        150.0      356.0   \n",
       "20637   -121.22    39.43        17.0        2254.0        485.0     1007.0   \n",
       "20638   -121.32    39.43        18.0        1860.0        409.0      741.0   \n",
       "20639   -121.24    39.37        16.0        2785.0        616.0     1387.0   \n",
       "\n",
       "       hogares  ingresos proximidad     valor  \n",
       "0        126.0    8.3252   NEAR BAY  452600.0  \n",
       "1       1138.0    8.3014   NEAR BAY  358500.0  \n",
       "2        177.0    7.2574   NEAR BAY  352100.0  \n",
       "3        219.0    5.6431   NEAR BAY  341300.0  \n",
       "4        259.0    3.8462   NEAR BAY  342200.0  \n",
       "...        ...       ...        ...       ...  \n",
       "20635    330.0    1.5603     INLAND   78100.0  \n",
       "20636    114.0    2.5568     INLAND   77100.0  \n",
       "20637    433.0    1.7000     INLAND   92300.0  \n",
       "20638    349.0    1.8672     INLAND   84700.0  \n",
       "20639    530.0    2.3886     INLAND   89400.0  \n",
       "\n",
       "[20640 rows x 10 columns]"
      ]
     },
     "execution_count": 16,
     "metadata": {},
     "output_type": "execute_result"
    }
   ],
   "source": [
    "v.loc[distritos_500_mil]"
   ]
  },
  {
   "cell_type": "code",
   "execution_count": 19,
   "id": "d633d01d",
   "metadata": {
    "slideshow": {
     "slide_type": "slide"
    }
   },
   "outputs": [
    {
     "data": {
      "text/plain": [
       "0"
      ]
     },
     "execution_count": 19,
     "metadata": {},
     "output_type": "execute_result"
    }
   ],
   "source": [
    "len(v.loc[v['valor']==500000]) "
   ]
  },
  {
   "cell_type": "code",
   "execution_count": 20,
   "id": "e4cd0099",
   "metadata": {
    "slideshow": {
     "slide_type": "slide"
    }
   },
   "outputs": [],
   "source": [
    "v.drop(v.loc[v['valor']==500000].index, axis = 0, inplace = True)  "
   ]
  },
  {
   "cell_type": "code",
   "execution_count": 21,
   "id": "5f53c600",
   "metadata": {},
   "outputs": [
    {
     "name": "stdout",
     "output_type": "stream",
     "text": [
      "<class 'pandas.core.frame.DataFrame'>\n",
      "Int64Index: 20613 entries, 0 to 20639\n",
      "Data columns (total 10 columns):\n",
      " #   Column        Non-Null Count  Dtype  \n",
      "---  ------        --------------  -----  \n",
      " 0   longitud      20613 non-null  float64\n",
      " 1   latitud       20613 non-null  float64\n",
      " 2   antiguedad    20613 non-null  float64\n",
      " 3   habitaciones  20613 non-null  float64\n",
      " 4   dormitorios   20406 non-null  float64\n",
      " 5   población     20613 non-null  float64\n",
      " 6   hogares       20613 non-null  float64\n",
      " 7   ingresos      20613 non-null  float64\n",
      " 8   proximidad    20613 non-null  object \n",
      " 9   valor         20613 non-null  float64\n",
      "dtypes: float64(9), object(1)\n",
      "memory usage: 2.2+ MB\n"
     ]
    }
   ],
   "source": [
    "v.info() "
   ]
  },
  {
   "cell_type": "code",
   "execution_count": null,
   "id": "08b8cd9d",
   "metadata": {
    "slideshow": {
     "slide_type": "slide"
    }
   },
   "outputs": [],
   "source": [
    "type(v) "
   ]
  },
  {
   "cell_type": "code",
   "execution_count": 22,
   "id": "79123251",
   "metadata": {
    "scrolled": true,
    "slideshow": {
     "slide_type": "slide"
    }
   },
   "outputs": [
    {
     "data": {
      "text/plain": [
       "<AxesSubplot:xlabel='ingresos', ylabel='valor'>"
      ]
     },
     "execution_count": 22,
     "metadata": {},
     "output_type": "execute_result"
    },
    {
     "data": {
      "image/png": "[encoded data removed]",
      "text/plain": [
       "<Figure size 432x288 with 1 Axes>"
      ]
     },
     "metadata": {
      "needs_background": "light"
     },
     "output_type": "display_data"
    }
   ],
   "source": [
    "v.plot(kind = 'scatter', x = 'ingresos', y = 'valor', alpha = 0.1) "
   ]
  },
  {
   "cell_type": "markdown",
   "id": "2d50215a",
   "metadata": {
    "slideshow": {
     "slide_type": "slide"
    }
   },
   "source": [
    "Empecemos filtrando las instancias o distritos cuyo valor de vivienda promedio sea de 500000 dólares. "
   ]
  },
  {
   "cell_type": "code",
   "execution_count": null,
   "id": "2aa5767a",
   "metadata": {
    "slideshow": {
     "slide_type": "slide"
    }
   },
   "outputs": [],
   "source": [
    "v_num.drop(list(1*(v_num.valor==500_000)), axis = 0, inplace = True ) "
   ]
  },
  {
   "cell_type": "code",
   "execution_count": null,
   "id": "2f09494d",
   "metadata": {},
   "outputs": [],
   "source": [
    "v_num.info() "
   ]
  },
  {
   "cell_type": "code",
   "execution_count": null,
   "id": "c2e1ccb8",
   "metadata": {},
   "outputs": [],
   "source": []
  }
 ],
 "metadata": {
  "celltoolbar": "Slideshow",
  "kernelspec": {
   "display_name": "Python 3 (ipykernel)",
   "language": "python",
   "name": "python3"
  },
  "language_info": {
   "codemirror_mode": {
    "name": "ipython",
    "version": 3
   },
   "file_extension": ".py",
   "mimetype": "text/x-python",
   "name": "python",
   "nbconvert_exporter": "python",
   "pygments_lexer": "ipython3",
   "version": "3.9.7"
  }
 },
 "nbformat": 4,
 "nbformat_minor": 5
}
