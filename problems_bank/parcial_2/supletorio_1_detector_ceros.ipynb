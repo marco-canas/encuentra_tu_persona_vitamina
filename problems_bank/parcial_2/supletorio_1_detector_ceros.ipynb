{
 "cells": [
  {
   "cell_type": "markdown",
   "id": "5db62c40",
   "metadata": {},
   "source": [
    "<table align=\"left\">\n",
    "  <td>\n",
    "    <a href=\"https://colab.research.google.com/github/marco-canas/Machine-Learning/blob/main/ML/classes/class_march_3/class_march_3.ipynb\" target=\"_parent\"><img src=\"https://colab.research.google.com/assets/colab-badge.svg\" alt=\"Open In Colab\"/></a>\n",
    "  </td>\n",
    "</table>"
   ]
  },
  {
   "cell_type": "markdown",
   "id": "18ba71d6",
   "metadata": {},
   "source": [
    "# Construir un clasificador binario detector de ceros"
   ]
  },
  {
   "cell_type": "markdown",
   "id": "83bfb265",
   "metadata": {},
   "source": [
    "**Nombre del estudiante:** CORRALES BOHÓRQUEZ ANGEL"
   ]
  },
  {
   "cell_type": "markdown",
   "id": "94d00229",
   "metadata": {},
   "source": [
    "## MODELO \n",
    "\n",
    "* SGDClassifier \n"
   ]
  },
  {
   "cell_type": "markdown",
   "id": "0ad608fe",
   "metadata": {},
   "source": [
    "Para ello siga la metodología dada por Aurelien Géron:\n",
    "\n",
    "1. Obtener el dataset y configurarlo en la forma estándar $[X \\mid y]$. Donde los valores de las entradas de estas matrices sea de tipo `int64`.  \n",
    "\n",
    "2. Descomponer a `X` y a `y` en `X_train`, `X_test`, `y_train` y `y_test` con una tasa de testeo del 20%. Y verificar con histogramas que el muestreo sea estratificado. \n",
    "\n",
    "3. Configurar las etiquetas `y_train` y `y_test` para el detector de ceros que se le propone construir y así obtener los vectores booleanos `y_train_0` y `y_test_0`. \n",
    "\n",
    "4. Escale los atributos con la estrategia de estandarización. \n",
    "\n",
    "5. Entrene los modelos asignados con los datos escalados `X_train_escalado` y las etiquetas de entrenamiento `y_train_0`\n",
    "\n",
    "6. ¿Es aplicable la medida de desempeño `accuracy` para su tarea de clasificación? Justifique su respuesta. \n",
    "\n",
    "7. Efectue el proceso de validación cruzada con 5 hojas de validación (`cv = 5`) y con el `scoring = `accuracy`.   \n",
    "\n",
    "8. Determine la matriz de confusión utilizando 5 hojas de validación.  \n",
    "\n",
    "9. Determine la precisión y el recall de su clasificador para las mismas 5 hojas de validación.  \n",
    "\n",
    "10. Determine el puntaje f1 de su clasificador para las mismas 5 hojas de validación. \n",
    "\n",
    "11. Utilice el `method=\"decision_function\"` de la función `cross_val_predict()` para determinar el vector `y_train_scores_0` de los puntajes de decisión para los modelos lineales que le hayan asignado. \n",
    "\n",
    "12. Utilice `precision_recall_curve` para determinar el umbral de decisión necesario para obtener una precisión del 90 $\\%$ en su clasificador. \n",
    "\n",
    "13. Utilice la función `roc_curve` del módulo `metrics` de sklearn para trazar la curva ROC de su modelo. Para ello evalue la función `roc_curve` en `y_train_0`, y  `y_train_scores_0`).\n",
    "\n",
    "14. Determine el área bajo la curva ROC utilizando la función `roc_auc_score` del módulo metrics de Sklearn. "
   ]
  },
  {
   "cell_type": "code",
   "execution_count": null,
   "id": "523f4e75",
   "metadata": {},
   "outputs": [],
   "source": []
  },
  {
   "cell_type": "code",
   "execution_count": null,
   "id": "6ac2f56d",
   "metadata": {},
   "outputs": [],
   "source": []
  },
  {
   "cell_type": "code",
   "execution_count": null,
   "id": "c20462bd",
   "metadata": {},
   "outputs": [],
   "source": []
  },
  {
   "cell_type": "code",
   "execution_count": null,
   "id": "3470880b",
   "metadata": {},
   "outputs": [],
   "source": []
  },
  {
   "cell_type": "code",
   "execution_count": null,
   "id": "1794d017",
   "metadata": {},
   "outputs": [],
   "source": []
  },
  {
   "cell_type": "code",
   "execution_count": null,
   "id": "1cc579e0",
   "metadata": {},
   "outputs": [],
   "source": []
  },
  {
   "cell_type": "code",
   "execution_count": null,
   "id": "420d7bda",
   "metadata": {},
   "outputs": [],
   "source": []
  },
  {
   "cell_type": "code",
   "execution_count": null,
   "id": "4169725a",
   "metadata": {},
   "outputs": [],
   "source": []
  },
  {
   "cell_type": "code",
   "execution_count": null,
   "id": "a3c050af",
   "metadata": {},
   "outputs": [],
   "source": []
  },
  {
   "cell_type": "code",
   "execution_count": null,
   "id": "47c4be4b",
   "metadata": {},
   "outputs": [],
   "source": []
  },
  {
   "cell_type": "code",
   "execution_count": null,
   "id": "34641da4",
   "metadata": {},
   "outputs": [],
   "source": []
  },
  {
   "cell_type": "code",
   "execution_count": null,
   "id": "2d154234",
   "metadata": {},
   "outputs": [],
   "source": []
  },
  {
   "cell_type": "code",
   "execution_count": null,
   "id": "3fa6a4fc",
   "metadata": {},
   "outputs": [],
   "source": []
  },
  {
   "cell_type": "code",
   "execution_count": null,
   "id": "d0387ae3",
   "metadata": {},
   "outputs": [],
   "source": []
  }
 ],
 "metadata": {
  "kernelspec": {
   "display_name": "Python 3 (ipykernel)",
   "language": "python",
   "name": "python3"
  },
  "language_info": {
   "codemirror_mode": {
    "name": "ipython",
    "version": 3
   },
   "file_extension": ".py",
   "mimetype": "text/x-python",
   "name": "python",
   "nbconvert_exporter": "python",
   "pygments_lexer": "ipython3",
   "version": "3.9.7"
  }
 },
 "nbformat": 4,
 "nbformat_minor": 5
}
