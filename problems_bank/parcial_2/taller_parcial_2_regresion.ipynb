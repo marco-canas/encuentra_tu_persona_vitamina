{
 "cells": [
  {
   "cell_type": "markdown",
   "id": "5b08e46d",
   "metadata": {
    "slideshow": {
     "slide_type": "slide"
    }
   },
   "source": [
    "<table align=\"left\">\n",
    "  <td>\n",
    "    <a href=\"https://colab.research.google.com/github/marco-canas/Machine-Learning/blob/main/ML/classes/class_march_3/class_march_3.ipynb\" target=\"_parent\"><img src=\"https://colab.research.google.com/assets/colab-badge.svg\" alt=\"Open In Colab\"/></a>\n",
    "  </td>\n",
    "</table>"
   ]
  },
  {
   "cell_type": "markdown",
   "id": "716a6e5a",
   "metadata": {
    "slideshow": {
     "slide_type": "slide"
    }
   },
   "source": [
    "# Exercises"
   ]
  },
  {
   "cell_type": "markdown",
   "id": "52b745e5",
   "metadata": {
    "slideshow": {
     "slide_type": "slide"
    }
   },
   "source": [
    "Los siguientes ejercicios se basan en el conjunto de datos de vivienda de este capítulo:"
   ]
  },
  {
   "cell_type": "markdown",
   "id": "8cc00a83",
   "metadata": {
    "slideshow": {
     "slide_type": "slide"
    }
   },
   "source": [
    "1. Pruebe un regresor de máquina de soporte vectorial (sklearn.svm.SVR) con varios hiperparámetros, como `kernel=\"linear\"` (con varios valores para el hiperparámetro C) o `kernel=\"rbf\"` (con varios valores para los hiperparámetros C y gamma). No se preocupe por el significado de estos hiperparámetros por ahora. ¿Cómo funciona el mejor predictor de RVS?"
   ]
  },
  {
   "cell_type": "markdown",
   "id": "3bbf4e1a",
   "metadata": {
    "slideshow": {
     "slide_type": "slide"
    }
   },
   "source": [
    "2. Intente reemplazar GridSearchCV con RandomizedSearchCV."
   ]
  },
  {
   "cell_type": "markdown",
   "id": "4ac846ca",
   "metadata": {
    "slideshow": {
     "slide_type": "slide"
    }
   },
   "source": [
    "3. Intente agregar un transformador en la canalización de preparación para seleccionar solo los atributos más importantes."
   ]
  },
  {
   "cell_type": "markdown",
   "id": "2aca979f",
   "metadata": {
    "slideshow": {
     "slide_type": "slide"
    }
   },
   "source": [
    "4. Intente crear una canalización única que haga la preparación completa de los datos más la predicción final."
   ]
  },
  {
   "cell_type": "markdown",
   "id": "0035608b",
   "metadata": {
    "slideshow": {
     "slide_type": "slide"
    }
   },
   "source": [
    "5. Explore automáticamente algunas opciones de preparación utilizando GridSearchCV."
   ]
  },
  {
   "cell_type": "markdown",
   "id": "e6671ae1",
   "metadata": {
    "slideshow": {
     "slide_type": "slide"
    }
   },
   "source": [
    "Las soluciones a estos ejercicios se pueden encontrar en los cuadernos Jupyter disponibles en\n",
    "https://github.com/ageron/handson-ml2."
   ]
  },
  {
   "cell_type": "code",
   "execution_count": null,
   "id": "a46ac50f",
   "metadata": {},
   "outputs": [],
   "source": []
  },
  {
   "cell_type": "code",
   "execution_count": null,
   "id": "f99df432",
   "metadata": {},
   "outputs": [],
   "source": []
  },
  {
   "cell_type": "code",
   "execution_count": 2,
   "id": "a7942cab",
   "metadata": {
    "slideshow": {
     "slide_type": "slide"
    }
   },
   "outputs": [
    {
     "ename": "NameError",
     "evalue": "name 'PROJECT_ROOT_DIR' is not defined",
     "output_type": "error",
     "traceback": [
      "\u001b[1;31m---------------------------------------------------------------------------\u001b[0m",
      "\u001b[1;31mNameError\u001b[0m                                 Traceback (most recent call last)",
      "\u001b[1;32m~\\AppData\\Local\\Temp/ipykernel_8376/2628043333.py\u001b[0m in \u001b[0;36m<module>\u001b[1;34m\u001b[0m\n\u001b[0;32m      1\u001b[0m \u001b[1;32mimport\u001b[0m \u001b[0mos\u001b[0m\u001b[1;33m\u001b[0m\u001b[1;33m\u001b[0m\u001b[0m\n\u001b[0;32m      2\u001b[0m \u001b[1;31m# Download the California image\u001b[0m\u001b[1;33m\u001b[0m\u001b[1;33m\u001b[0m\u001b[0m\n\u001b[1;32m----> 3\u001b[1;33m \u001b[0mimages_path\u001b[0m \u001b[1;33m=\u001b[0m \u001b[0mos\u001b[0m\u001b[1;33m.\u001b[0m\u001b[0mpath\u001b[0m\u001b[1;33m.\u001b[0m\u001b[0mjoin\u001b[0m\u001b[1;33m(\u001b[0m\u001b[0mPROJECT_ROOT_DIR\u001b[0m\u001b[1;33m,\u001b[0m \u001b[1;34m\"images\"\u001b[0m\u001b[1;33m,\u001b[0m \u001b[1;34m\"end_to_end_project\"\u001b[0m\u001b[1;33m)\u001b[0m\u001b[1;33m\u001b[0m\u001b[1;33m\u001b[0m\u001b[0m\n\u001b[0m\u001b[0;32m      4\u001b[0m \u001b[0mos\u001b[0m\u001b[1;33m.\u001b[0m\u001b[0mmakedirs\u001b[0m\u001b[1;33m(\u001b[0m\u001b[0mimages_path\u001b[0m\u001b[1;33m,\u001b[0m \u001b[0mexist_ok\u001b[0m\u001b[1;33m=\u001b[0m\u001b[1;32mTrue\u001b[0m\u001b[1;33m)\u001b[0m\u001b[1;33m\u001b[0m\u001b[1;33m\u001b[0m\u001b[0m\n\u001b[0;32m      5\u001b[0m \u001b[0mDOWNLOAD_ROOT\u001b[0m \u001b[1;33m=\u001b[0m \u001b[1;34m\"https://raw.githubusercontent.com/ageron/handson-ml2/master/\"\u001b[0m\u001b[1;33m\u001b[0m\u001b[1;33m\u001b[0m\u001b[0m\n",
      "\u001b[1;31mNameError\u001b[0m: name 'PROJECT_ROOT_DIR' is not defined"
     ]
    }
   ],
   "source": [
    "import os \n",
    "# Download the California image\n",
    "images_path = os.path.join(PROJECT_ROOT_DIR, \"images\", \"end_to_end_project\")\n",
    "os.makedirs(images_path, exist_ok=True)\n",
    "DOWNLOAD_ROOT = \"https://raw.githubusercontent.com/ageron/handson-ml2/master/\"\n",
    "filename = \"california.png\"\n",
    "print(\"Downloading\", filename)\n",
    "url = DOWNLOAD_ROOT + \"images/end_to_end_project/\" + filename\n",
    "urllib.request.urlretrieve(url, os.path.join(images_path, filename))"
   ]
  },
  {
   "cell_type": "code",
   "execution_count": null,
   "id": "62e58577",
   "metadata": {},
   "outputs": [],
   "source": []
  },
  {
   "cell_type": "markdown",
   "id": "2cf281fa",
   "metadata": {
    "slideshow": {
     "slide_type": "slide"
    }
   },
   "source": [
    "# Exercise solutions"
   ]
  },
  {
   "cell_type": "markdown",
   "id": "fcbc4390",
   "metadata": {
    "slideshow": {
     "slide_type": "slide"
    }
   },
   "source": [
    "1.  **Pregunta:** pruebe con un regresor de máquina soporte vectorial (sklearn.svm.SVR), con varios hiperparámetros como kernel=\"linear\" (con varios valores para el hiperparámetro C) o kernel=\"rbf\" (con varios valores para C y gamma hiperparámetros). No se preocupe por el significado de estos hiperparámetros por ahora. ¿Cómo funciona el mejor predictor de RVS?\n",
    "\n",
    "Advertencia: la siguiente celda puede tardar cerca de 30 minutos en ejecutarse, o más, dependiendo de su hardware."
   ]
  },
  {
   "cell_type": "code",
   "execution_count": 1,
   "id": "44b3ce2c",
   "metadata": {
    "slideshow": {
     "slide_type": "slide"
    }
   },
   "outputs": [],
   "source": [
    "import numpy as np \n",
    "import pandas as pd \n",
    "\n",
    "from sklearn.model_selection import train_test_split \n",
    "from sklearn.base import BaseEstimator, TransformerMixin  \n",
    "\n",
    "from sklearn.impute import SimpleImputer \n",
    "from sklearn.pipeline import Pipeline \n",
    "from sklearn.compose import ColumnTransformer \n",
    "from sklearn.preprocessing import StandardScaler \n",
    "from sklearn.preprocessing import OneHotEncoder \n",
    "\n",
    "from sklearn.svm import SVR \n"
   ]
  },
  {
   "cell_type": "code",
   "execution_count": 2,
   "id": "5404e9de",
   "metadata": {
    "slideshow": {
     "slide_type": "slide"
    }
   },
   "outputs": [],
   "source": [
    "class AdAtribComb(BaseEstimator, TransformerMixin):\n",
    "    def __init__(self, ad_dph = True, ad_hph = True, ad_pph = True): # no *args or **kargs\n",
    "        self.ad_dph = ad_dph\n",
    "        self.ad_hph = ad_hph\n",
    "        self.ad_pph = ad_pph\n",
    "        \n",
    "    def fit(self, X, y=None):\n",
    "        return self # nothing else to do\n",
    "    \n",
    "    def transform(self, X, y=None):\n",
    "        habitaciones, dormitorios, población, hogares = 3, 4, 5, 6 \n",
    "        if self.ad_dph:\n",
    "            dormitorios_por_habitación=X[:,dormitorios]/X[:,habitaciones]\n",
    "            X=np.c_[X, dormitorios_por_habitación]\n",
    "        if self.ad_hph:\n",
    "            habitaciones_por_hogar=X[:,habitaciones]/X[:,hogares]\n",
    "            X=np.c_[X, habitaciones_por_hogar]\n",
    "        if self.ad_pph: \n",
    "            población_por_hogar = X[:, población]/X[:, hogares]\n",
    "            X=np.c_[X, población_por_hogar] \n",
    "        return X"
   ]
  },
  {
   "cell_type": "code",
   "execution_count": 3,
   "id": "fe48362e",
   "metadata": {
    "slideshow": {
     "slide_type": "slide"
    }
   },
   "outputs": [],
   "source": [
    "v = pd.read_csv('vivienda.csv') \n",
    "v_train,v_test = train_test_split(v,test_size = 0.2, random_state = 513) \n",
    "\n",
    "v = v_train.drop('precio', axis = 1)\n",
    "v_labels = v_train[['precio']] "
   ]
  },
  {
   "cell_type": "code",
   "execution_count": 4,
   "id": "060ffe0b",
   "metadata": {
    "slideshow": {
     "slide_type": "slide"
    }
   },
   "outputs": [],
   "source": [
    "v_num = v.drop('proximidad', axis = 1)\n",
    "pipeline_num = Pipeline([\n",
    "   ('imputador', SimpleImputer(strategy = 'median') ),\n",
    "    ('adicionador_atributos',AdAtribComb(ad_dph = True, ad_hph = True, ad_pph = True)),\n",
    "    ('escalador_std', StandardScaler() )\n",
    "])"
   ]
  },
  {
   "cell_type": "code",
   "execution_count": 5,
   "id": "be3bff42",
   "metadata": {
    "slideshow": {
     "slide_type": "slide"
    }
   },
   "outputs": [],
   "source": [
    "lista_atributos_num = list(v_num.columns)\n",
    "lista_atributos_cat = ['proximidad']\n",
    "pipeline_total = ColumnTransformer([\n",
    "    ('num', pipeline_num, lista_atributos_num),\n",
    "    ('cat', OneHotEncoder(), lista_atributos_cat)\n",
    "])"
   ]
  },
  {
   "cell_type": "code",
   "execution_count": 6,
   "id": "f15592f7",
   "metadata": {
    "slideshow": {
     "slide_type": "slide"
    }
   },
   "outputs": [],
   "source": [
    "x_prep = pipeline_total.fit_transform(v)"
   ]
  },
  {
   "cell_type": "code",
   "execution_count": 7,
   "id": "68a9bf0e",
   "metadata": {
    "slideshow": {
     "slide_type": "slide"
    }
   },
   "outputs": [
    {
     "name": "stdout",
     "output_type": "stream",
     "text": [
      "Fitting 5 folds for each of 50 candidates, totalling 250 fits\n",
      "[CV] END ..............................C=10.0, kernel=linear; total time=  17.8s\n",
      "[CV] END ..............................C=10.0, kernel=linear; total time=  17.8s\n",
      "[CV] END ..............................C=10.0, kernel=linear; total time=  17.8s\n",
      "[CV] END ..............................C=10.0, kernel=linear; total time=  17.8s\n",
      "[CV] END ..............................C=10.0, kernel=linear; total time=  17.3s\n",
      "[CV] END ..............................C=30.0, kernel=linear; total time=  17.5s\n",
      "[CV] END ..............................C=30.0, kernel=linear; total time=  17.9s\n",
      "[CV] END ..............................C=30.0, kernel=linear; total time=  17.9s\n",
      "[CV] END ..............................C=30.0, kernel=linear; total time=  18.9s\n",
      "[CV] END ..............................C=30.0, kernel=linear; total time=  18.4s\n",
      "[CV] END .............................C=100.0, kernel=linear; total time=  17.3s\n",
      "[CV] END .............................C=100.0, kernel=linear; total time=  17.4s\n",
      "[CV] END .............................C=100.0, kernel=linear; total time=  17.6s\n",
      "[CV] END .............................C=100.0, kernel=linear; total time=  18.0s\n",
      "[CV] END .............................C=100.0, kernel=linear; total time=  17.7s\n",
      "[CV] END .............................C=300.0, kernel=linear; total time=  17.4s\n",
      "[CV] END .............................C=300.0, kernel=linear; total time=  17.6s\n",
      "[CV] END .............................C=300.0, kernel=linear; total time=  17.5s\n",
      "[CV] END .............................C=300.0, kernel=linear; total time=  16.4s\n",
      "[CV] END .............................C=300.0, kernel=linear; total time=  17.5s\n",
      "[CV] END ............................C=1000.0, kernel=linear; total time=  18.6s\n",
      "[CV] END ............................C=1000.0, kernel=linear; total time=  18.2s\n",
      "[CV] END ............................C=1000.0, kernel=linear; total time=  18.3s\n",
      "[CV] END ............................C=1000.0, kernel=linear; total time=  18.4s\n",
      "[CV] END ............................C=1000.0, kernel=linear; total time=  16.9s\n",
      "[CV] END ............................C=3000.0, kernel=linear; total time=  18.6s\n",
      "[CV] END ............................C=3000.0, kernel=linear; total time=  19.2s\n",
      "[CV] END ............................C=3000.0, kernel=linear; total time=  19.4s\n",
      "[CV] END ............................C=3000.0, kernel=linear; total time=  19.1s\n",
      "[CV] END ............................C=3000.0, kernel=linear; total time=  19.0s\n",
      "[CV] END ...........................C=10000.0, kernel=linear; total time=  24.4s\n",
      "[CV] END ...........................C=10000.0, kernel=linear; total time=  21.9s\n",
      "[CV] END ...........................C=10000.0, kernel=linear; total time=  22.6s\n",
      "[CV] END ...........................C=10000.0, kernel=linear; total time=  22.7s\n",
      "[CV] END ...........................C=10000.0, kernel=linear; total time=  23.8s\n",
      "[CV] END ...........................C=30000.0, kernel=linear; total time=  35.9s\n",
      "[CV] END ...........................C=30000.0, kernel=linear; total time=  28.4s\n",
      "[CV] END ...........................C=30000.0, kernel=linear; total time=  30.1s\n",
      "[CV] END ...........................C=30000.0, kernel=linear; total time=  27.5s\n",
      "[CV] END ...........................C=30000.0, kernel=linear; total time=  31.1s\n",
      "[CV] END ......................C=1.0, gamma=0.01, kernel=rbf; total time=  34.1s\n",
      "[CV] END ......................C=1.0, gamma=0.01, kernel=rbf; total time=  33.9s\n",
      "[CV] END ......................C=1.0, gamma=0.01, kernel=rbf; total time=  34.1s\n",
      "[CV] END ......................C=1.0, gamma=0.01, kernel=rbf; total time=  35.0s\n",
      "[CV] END ......................C=1.0, gamma=0.01, kernel=rbf; total time=  33.1s\n",
      "[CV] END ......................C=1.0, gamma=0.03, kernel=rbf; total time=  35.8s\n",
      "[CV] END ......................C=1.0, gamma=0.03, kernel=rbf; total time=  34.4s\n",
      "[CV] END ......................C=1.0, gamma=0.03, kernel=rbf; total time=  33.6s\n",
      "[CV] END ......................C=1.0, gamma=0.03, kernel=rbf; total time=  31.0s\n",
      "[CV] END ......................C=1.0, gamma=0.03, kernel=rbf; total time=  33.6s\n",
      "[CV] END .......................C=1.0, gamma=0.1, kernel=rbf; total time=  33.9s\n",
      "[CV] END .......................C=1.0, gamma=0.1, kernel=rbf; total time=  33.8s\n",
      "[CV] END .......................C=1.0, gamma=0.1, kernel=rbf; total time=  33.7s\n",
      "[CV] END .......................C=1.0, gamma=0.1, kernel=rbf; total time=  33.8s\n",
      "[CV] END .......................C=1.0, gamma=0.1, kernel=rbf; total time=  33.8s\n",
      "[CV] END .......................C=1.0, gamma=0.3, kernel=rbf; total time=  33.2s\n",
      "[CV] END .......................C=1.0, gamma=0.3, kernel=rbf; total time=  33.2s\n",
      "[CV] END .......................C=1.0, gamma=0.3, kernel=rbf; total time=  33.3s\n",
      "[CV] END .......................C=1.0, gamma=0.3, kernel=rbf; total time=  33.3s\n",
      "[CV] END .......................C=1.0, gamma=0.3, kernel=rbf; total time=  26.9s\n",
      "[CV] END .......................C=1.0, gamma=1.0, kernel=rbf; total time=  32.0s\n",
      "[CV] END .......................C=1.0, gamma=1.0, kernel=rbf; total time=  32.0s\n",
      "[CV] END .......................C=1.0, gamma=1.0, kernel=rbf; total time=  31.5s\n",
      "[CV] END .......................C=1.0, gamma=1.0, kernel=rbf; total time=  32.7s\n",
      "[CV] END .......................C=1.0, gamma=1.0, kernel=rbf; total time=  32.7s\n",
      "[CV] END .......................C=1.0, gamma=3.0, kernel=rbf; total time=  34.1s\n",
      "[CV] END .......................C=1.0, gamma=3.0, kernel=rbf; total time=  34.6s\n",
      "[CV] END .......................C=1.0, gamma=3.0, kernel=rbf; total time=  34.2s\n",
      "[CV] END .......................C=1.0, gamma=3.0, kernel=rbf; total time=  34.5s\n",
      "[CV] END .......................C=1.0, gamma=3.0, kernel=rbf; total time=  34.3s\n",
      "[CV] END ......................C=3.0, gamma=0.01, kernel=rbf; total time=  34.4s\n",
      "[CV] END ......................C=3.0, gamma=0.01, kernel=rbf; total time=  33.8s\n",
      "[CV] END ......................C=3.0, gamma=0.01, kernel=rbf; total time=  34.3s\n",
      "[CV] END ......................C=3.0, gamma=0.01, kernel=rbf; total time=  34.4s\n",
      "[CV] END ......................C=3.0, gamma=0.01, kernel=rbf; total time=  34.4s\n",
      "[CV] END ......................C=3.0, gamma=0.03, kernel=rbf; total time=  34.3s\n",
      "[CV] END ......................C=3.0, gamma=0.03, kernel=rbf; total time=  33.7s\n",
      "[CV] END ......................C=3.0, gamma=0.03, kernel=rbf; total time=  33.8s\n",
      "[CV] END ......................C=3.0, gamma=0.03, kernel=rbf; total time=  33.9s\n",
      "[CV] END ......................C=3.0, gamma=0.03, kernel=rbf; total time=  33.8s\n",
      "[CV] END .......................C=3.0, gamma=0.1, kernel=rbf; total time=  33.5s\n",
      "[CV] END .......................C=3.0, gamma=0.1, kernel=rbf; total time=  36.7s\n",
      "[CV] END .......................C=3.0, gamma=0.1, kernel=rbf; total time=  38.0s\n",
      "[CV] END .......................C=3.0, gamma=0.1, kernel=rbf; total time=  32.6s\n",
      "[CV] END .......................C=3.0, gamma=0.1, kernel=rbf; total time=  34.4s\n",
      "[CV] END .......................C=3.0, gamma=0.3, kernel=rbf; total time=  33.0s\n",
      "[CV] END .......................C=3.0, gamma=0.3, kernel=rbf; total time=  33.1s\n",
      "[CV] END .......................C=3.0, gamma=0.3, kernel=rbf; total time=  33.3s\n",
      "[CV] END .......................C=3.0, gamma=0.3, kernel=rbf; total time=  33.3s\n",
      "[CV] END .......................C=3.0, gamma=0.3, kernel=rbf; total time=  31.0s\n",
      "[CV] END .......................C=3.0, gamma=1.0, kernel=rbf; total time=  30.0s\n",
      "[CV] END .......................C=3.0, gamma=1.0, kernel=rbf; total time=  34.4s\n",
      "[CV] END .......................C=3.0, gamma=1.0, kernel=rbf; total time=  38.0s\n",
      "[CV] END .......................C=3.0, gamma=1.0, kernel=rbf; total time=  32.5s\n",
      "[CV] END .......................C=3.0, gamma=1.0, kernel=rbf; total time=  32.6s\n",
      "[CV] END .......................C=3.0, gamma=3.0, kernel=rbf; total time=  35.9s\n",
      "[CV] END .......................C=3.0, gamma=3.0, kernel=rbf; total time=  36.3s\n",
      "[CV] END .......................C=3.0, gamma=3.0, kernel=rbf; total time=  43.1s\n",
      "[CV] END .......................C=3.0, gamma=3.0, kernel=rbf; total time=  37.4s\n",
      "[CV] END .......................C=3.0, gamma=3.0, kernel=rbf; total time=  38.3s\n",
      "[CV] END .....................C=10.0, gamma=0.01, kernel=rbf; total time=  36.0s\n"
     ]
    },
    {
     "name": "stdout",
     "output_type": "stream",
     "text": [
      "[CV] END .....................C=10.0, gamma=0.01, kernel=rbf; total time=  31.3s\n",
      "[CV] END .....................C=10.0, gamma=0.01, kernel=rbf; total time=  35.1s\n",
      "[CV] END .....................C=10.0, gamma=0.01, kernel=rbf; total time=  43.2s\n",
      "[CV] END .....................C=10.0, gamma=0.01, kernel=rbf; total time=  41.5s\n",
      "[CV] END .....................C=10.0, gamma=0.03, kernel=rbf; total time=  34.7s\n",
      "[CV] END .....................C=10.0, gamma=0.03, kernel=rbf; total time=  36.3s\n",
      "[CV] END .....................C=10.0, gamma=0.03, kernel=rbf; total time=  40.7s\n",
      "[CV] END .....................C=10.0, gamma=0.03, kernel=rbf; total time=  35.1s\n",
      "[CV] END .....................C=10.0, gamma=0.03, kernel=rbf; total time=  34.1s\n",
      "[CV] END ......................C=10.0, gamma=0.1, kernel=rbf; total time=  33.9s\n",
      "[CV] END ......................C=10.0, gamma=0.1, kernel=rbf; total time=  32.4s\n",
      "[CV] END ......................C=10.0, gamma=0.1, kernel=rbf; total time=  32.9s\n",
      "[CV] END ......................C=10.0, gamma=0.1, kernel=rbf; total time=  33.2s\n",
      "[CV] END ......................C=10.0, gamma=0.1, kernel=rbf; total time=  38.6s\n",
      "[CV] END ......................C=10.0, gamma=0.3, kernel=rbf; total time=  35.8s\n",
      "[CV] END ......................C=10.0, gamma=0.3, kernel=rbf; total time=  36.8s\n",
      "[CV] END ......................C=10.0, gamma=0.3, kernel=rbf; total time=  33.4s\n",
      "[CV] END ......................C=10.0, gamma=0.3, kernel=rbf; total time=  32.9s\n",
      "[CV] END ......................C=10.0, gamma=0.3, kernel=rbf; total time=  32.8s\n",
      "[CV] END ......................C=10.0, gamma=1.0, kernel=rbf; total time=  32.1s\n",
      "[CV] END ......................C=10.0, gamma=1.0, kernel=rbf; total time=  32.3s\n",
      "[CV] END ......................C=10.0, gamma=1.0, kernel=rbf; total time=  32.2s\n",
      "[CV] END ......................C=10.0, gamma=1.0, kernel=rbf; total time=  32.3s\n",
      "[CV] END ......................C=10.0, gamma=1.0, kernel=rbf; total time=  32.2s\n",
      "[CV] END ......................C=10.0, gamma=3.0, kernel=rbf; total time=  34.5s\n",
      "[CV] END ......................C=10.0, gamma=3.0, kernel=rbf; total time=  34.1s\n",
      "[CV] END ......................C=10.0, gamma=3.0, kernel=rbf; total time=  34.0s\n",
      "[CV] END ......................C=10.0, gamma=3.0, kernel=rbf; total time=  34.0s\n",
      "[CV] END ......................C=10.0, gamma=3.0, kernel=rbf; total time=  35.7s\n",
      "[CV] END .....................C=30.0, gamma=0.01, kernel=rbf; total time=  29.5s\n",
      "[CV] END .....................C=30.0, gamma=0.01, kernel=rbf; total time=  15.1s\n",
      "[CV] END .....................C=30.0, gamma=0.01, kernel=rbf; total time=  14.2s\n",
      "[CV] END .....................C=30.0, gamma=0.01, kernel=rbf; total time=  17.1s\n",
      "[CV] END .....................C=30.0, gamma=0.01, kernel=rbf; total time=  18.8s\n",
      "[CV] END .....................C=30.0, gamma=0.03, kernel=rbf; total time=  23.7s\n",
      "[CV] END .....................C=30.0, gamma=0.03, kernel=rbf; total time=  19.1s\n",
      "[CV] END .....................C=30.0, gamma=0.03, kernel=rbf; total time=  16.1s\n",
      "[CV] END .....................C=30.0, gamma=0.03, kernel=rbf; total time=  15.2s\n",
      "[CV] END .....................C=30.0, gamma=0.03, kernel=rbf; total time=  15.2s\n",
      "[CV] END ......................C=30.0, gamma=0.1, kernel=rbf; total time=  20.1s\n",
      "[CV] END ......................C=30.0, gamma=0.1, kernel=rbf; total time=  16.9s\n",
      "[CV] END ......................C=30.0, gamma=0.1, kernel=rbf; total time=  16.9s\n",
      "[CV] END ......................C=30.0, gamma=0.1, kernel=rbf; total time=  17.8s\n",
      "[CV] END ......................C=30.0, gamma=0.1, kernel=rbf; total time=  22.3s\n",
      "[CV] END ......................C=30.0, gamma=0.3, kernel=rbf; total time=  18.1s\n",
      "[CV] END ......................C=30.0, gamma=0.3, kernel=rbf; total time=  18.7s\n",
      "[CV] END ......................C=30.0, gamma=0.3, kernel=rbf; total time=  17.9s\n",
      "[CV] END ......................C=30.0, gamma=0.3, kernel=rbf; total time=  18.4s\n",
      "[CV] END ......................C=30.0, gamma=0.3, kernel=rbf; total time=  17.3s\n",
      "[CV] END ......................C=30.0, gamma=1.0, kernel=rbf; total time=  17.8s\n",
      "[CV] END ......................C=30.0, gamma=1.0, kernel=rbf; total time=  18.9s\n",
      "[CV] END ......................C=30.0, gamma=1.0, kernel=rbf; total time=  21.1s\n",
      "[CV] END ......................C=30.0, gamma=1.0, kernel=rbf; total time=  18.0s\n",
      "[CV] END ......................C=30.0, gamma=1.0, kernel=rbf; total time=  17.8s\n",
      "[CV] END ......................C=30.0, gamma=3.0, kernel=rbf; total time=  17.9s\n",
      "[CV] END ......................C=30.0, gamma=3.0, kernel=rbf; total time=  19.6s\n",
      "[CV] END ......................C=30.0, gamma=3.0, kernel=rbf; total time=  16.9s\n",
      "[CV] END ......................C=30.0, gamma=3.0, kernel=rbf; total time=  18.0s\n",
      "[CV] END ......................C=30.0, gamma=3.0, kernel=rbf; total time=  19.2s\n",
      "[CV] END ....................C=100.0, gamma=0.01, kernel=rbf; total time=  21.3s\n",
      "[CV] END ....................C=100.0, gamma=0.01, kernel=rbf; total time=  18.9s\n",
      "[CV] END ....................C=100.0, gamma=0.01, kernel=rbf; total time=  18.7s\n",
      "[CV] END ....................C=100.0, gamma=0.01, kernel=rbf; total time=  20.7s\n",
      "[CV] END ....................C=100.0, gamma=0.01, kernel=rbf; total time=  18.2s\n",
      "[CV] END ....................C=100.0, gamma=0.03, kernel=rbf; total time=  17.1s\n",
      "[CV] END ....................C=100.0, gamma=0.03, kernel=rbf; total time=  17.6s\n",
      "[CV] END ....................C=100.0, gamma=0.03, kernel=rbf; total time=  16.7s\n",
      "[CV] END ....................C=100.0, gamma=0.03, kernel=rbf; total time=  16.9s\n",
      "[CV] END ....................C=100.0, gamma=0.03, kernel=rbf; total time=  16.6s\n",
      "[CV] END .....................C=100.0, gamma=0.1, kernel=rbf; total time=  15.8s\n",
      "[CV] END .....................C=100.0, gamma=0.1, kernel=rbf; total time=  21.7s\n",
      "[CV] END .....................C=100.0, gamma=0.1, kernel=rbf; total time=  17.5s\n",
      "[CV] END .....................C=100.0, gamma=0.1, kernel=rbf; total time=  18.9s\n",
      "[CV] END .....................C=100.0, gamma=0.1, kernel=rbf; total time=  18.4s\n",
      "[CV] END .....................C=100.0, gamma=0.3, kernel=rbf; total time=  16.2s\n",
      "[CV] END .....................C=100.0, gamma=0.3, kernel=rbf; total time=  16.5s\n",
      "[CV] END .....................C=100.0, gamma=0.3, kernel=rbf; total time=  16.9s\n",
      "[CV] END .....................C=100.0, gamma=0.3, kernel=rbf; total time=  20.0s\n",
      "[CV] END .....................C=100.0, gamma=0.3, kernel=rbf; total time=  18.3s\n",
      "[CV] END .....................C=100.0, gamma=1.0, kernel=rbf; total time=  17.8s\n",
      "[CV] END .....................C=100.0, gamma=1.0, kernel=rbf; total time=  17.9s\n",
      "[CV] END .....................C=100.0, gamma=1.0, kernel=rbf; total time=  20.6s\n",
      "[CV] END .....................C=100.0, gamma=1.0, kernel=rbf; total time=  17.9s\n",
      "[CV] END .....................C=100.0, gamma=1.0, kernel=rbf; total time=  17.1s\n",
      "[CV] END .....................C=100.0, gamma=3.0, kernel=rbf; total time=  21.9s\n",
      "[CV] END .....................C=100.0, gamma=3.0, kernel=rbf; total time=  21.4s\n",
      "[CV] END .....................C=100.0, gamma=3.0, kernel=rbf; total time=  23.8s\n",
      "[CV] END .....................C=100.0, gamma=3.0, kernel=rbf; total time=  18.8s\n",
      "[CV] END .....................C=100.0, gamma=3.0, kernel=rbf; total time=  22.1s\n",
      "[CV] END ....................C=300.0, gamma=0.01, kernel=rbf; total time=  18.2s\n",
      "[CV] END ....................C=300.0, gamma=0.01, kernel=rbf; total time=  19.2s\n",
      "[CV] END ....................C=300.0, gamma=0.01, kernel=rbf; total time=  20.0s\n",
      "[CV] END ....................C=300.0, gamma=0.01, kernel=rbf; total time=  18.3s\n",
      "[CV] END ....................C=300.0, gamma=0.01, kernel=rbf; total time=  15.9s\n",
      "[CV] END ....................C=300.0, gamma=0.03, kernel=rbf; total time=  17.8s\n",
      "[CV] END ....................C=300.0, gamma=0.03, kernel=rbf; total time=  16.4s\n",
      "[CV] END ....................C=300.0, gamma=0.03, kernel=rbf; total time=  16.4s\n",
      "[CV] END ....................C=300.0, gamma=0.03, kernel=rbf; total time=  15.7s\n",
      "[CV] END ....................C=300.0, gamma=0.03, kernel=rbf; total time=  15.7s\n",
      "[CV] END .....................C=300.0, gamma=0.1, kernel=rbf; total time=  16.2s\n",
      "[CV] END .....................C=300.0, gamma=0.1, kernel=rbf; total time=  19.2s\n",
      "[CV] END .....................C=300.0, gamma=0.1, kernel=rbf; total time=  18.3s\n"
     ]
    },
    {
     "name": "stdout",
     "output_type": "stream",
     "text": [
      "[CV] END .....................C=300.0, gamma=0.1, kernel=rbf; total time=  18.7s\n",
      "[CV] END .....................C=300.0, gamma=0.1, kernel=rbf; total time=  18.2s\n",
      "[CV] END .....................C=300.0, gamma=0.3, kernel=rbf; total time=  19.0s\n",
      "[CV] END .....................C=300.0, gamma=0.3, kernel=rbf; total time=  16.9s\n",
      "[CV] END .....................C=300.0, gamma=0.3, kernel=rbf; total time=  16.9s\n",
      "[CV] END .....................C=300.0, gamma=0.3, kernel=rbf; total time=  17.6s\n",
      "[CV] END .....................C=300.0, gamma=0.3, kernel=rbf; total time=  18.9s\n",
      "[CV] END .....................C=300.0, gamma=1.0, kernel=rbf; total time=  17.5s\n",
      "[CV] END .....................C=300.0, gamma=1.0, kernel=rbf; total time=  20.5s\n",
      "[CV] END .....................C=300.0, gamma=1.0, kernel=rbf; total time=  18.3s\n",
      "[CV] END .....................C=300.0, gamma=1.0, kernel=rbf; total time=  19.4s\n",
      "[CV] END .....................C=300.0, gamma=1.0, kernel=rbf; total time=  21.3s\n",
      "[CV] END .....................C=300.0, gamma=3.0, kernel=rbf; total time=  21.4s\n",
      "[CV] END .....................C=300.0, gamma=3.0, kernel=rbf; total time=  24.1s\n",
      "[CV] END .....................C=300.0, gamma=3.0, kernel=rbf; total time=  20.9s\n",
      "[CV] END .....................C=300.0, gamma=3.0, kernel=rbf; total time=  20.7s\n",
      "[CV] END .....................C=300.0, gamma=3.0, kernel=rbf; total time=  21.3s\n",
      "[CV] END ...................C=1000.0, gamma=0.01, kernel=rbf; total time=  18.5s\n",
      "[CV] END ...................C=1000.0, gamma=0.01, kernel=rbf; total time=  17.1s\n",
      "[CV] END ...................C=1000.0, gamma=0.01, kernel=rbf; total time=  15.3s\n",
      "[CV] END ...................C=1000.0, gamma=0.01, kernel=rbf; total time=  15.1s\n",
      "[CV] END ...................C=1000.0, gamma=0.01, kernel=rbf; total time=  14.7s\n",
      "[CV] END ...................C=1000.0, gamma=0.03, kernel=rbf; total time=  15.7s\n",
      "[CV] END ...................C=1000.0, gamma=0.03, kernel=rbf; total time=  16.5s\n",
      "[CV] END ...................C=1000.0, gamma=0.03, kernel=rbf; total time=  16.8s\n",
      "[CV] END ...................C=1000.0, gamma=0.03, kernel=rbf; total time=  20.3s\n",
      "[CV] END ...................C=1000.0, gamma=0.03, kernel=rbf; total time=  18.1s\n",
      "[CV] END ....................C=1000.0, gamma=0.1, kernel=rbf; total time=  19.3s\n",
      "[CV] END ....................C=1000.0, gamma=0.1, kernel=rbf; total time=  15.1s\n",
      "[CV] END ....................C=1000.0, gamma=0.1, kernel=rbf; total time=  14.7s\n",
      "[CV] END ....................C=1000.0, gamma=0.1, kernel=rbf; total time=  14.8s\n",
      "[CV] END ....................C=1000.0, gamma=0.1, kernel=rbf; total time=  17.7s\n",
      "[CV] END ....................C=1000.0, gamma=0.3, kernel=rbf; total time=  14.5s\n",
      "[CV] END ....................C=1000.0, gamma=0.3, kernel=rbf; total time=  14.8s\n",
      "[CV] END ....................C=1000.0, gamma=0.3, kernel=rbf; total time=  14.5s\n",
      "[CV] END ....................C=1000.0, gamma=0.3, kernel=rbf; total time=  17.0s\n",
      "[CV] END ....................C=1000.0, gamma=0.3, kernel=rbf; total time=  27.0s\n",
      "[CV] END ....................C=1000.0, gamma=1.0, kernel=rbf; total time=  20.9s\n",
      "[CV] END ....................C=1000.0, gamma=1.0, kernel=rbf; total time=  18.1s\n",
      "[CV] END ....................C=1000.0, gamma=1.0, kernel=rbf; total time=  19.7s\n",
      "[CV] END ....................C=1000.0, gamma=1.0, kernel=rbf; total time=  17.3s\n",
      "[CV] END ....................C=1000.0, gamma=1.0, kernel=rbf; total time=  17.3s\n",
      "[CV] END ....................C=1000.0, gamma=3.0, kernel=rbf; total time=  15.7s\n",
      "[CV] END ....................C=1000.0, gamma=3.0, kernel=rbf; total time=  15.7s\n",
      "[CV] END ....................C=1000.0, gamma=3.0, kernel=rbf; total time=  15.7s\n",
      "[CV] END ....................C=1000.0, gamma=3.0, kernel=rbf; total time=  15.4s\n",
      "[CV] END ....................C=1000.0, gamma=3.0, kernel=rbf; total time=  17.2s\n"
     ]
    },
    {
     "data": {
      "text/plain": [
       "GridSearchCV(cv=5, estimator=SVR(),\n",
       "             param_grid=[{'C': [10.0, 30.0, 100.0, 300.0, 1000.0, 3000.0,\n",
       "                                10000.0, 30000.0],\n",
       "                          'kernel': ['linear']},\n",
       "                         {'C': [1.0, 3.0, 10.0, 30.0, 100.0, 300.0, 1000.0],\n",
       "                          'gamma': [0.01, 0.03, 0.1, 0.3, 1.0, 3.0],\n",
       "                          'kernel': ['rbf']}],\n",
       "             scoring='neg_mean_squared_error', verbose=2)"
      ]
     },
     "execution_count": 7,
     "metadata": {},
     "output_type": "execute_result"
    }
   ],
   "source": [
    "from sklearn.model_selection import GridSearchCV\n",
    "\n",
    "param_grid = [\n",
    "        {'kernel': ['linear'], 'C': [10., 30., 100., 300., 1000., 3000., 10000., 30000.0]},\n",
    "        {'kernel': ['rbf'], 'C': [1.0, 3.0, 10., 30., 100., 300., 1000.0],\n",
    "         'gamma': [0.01, 0.03, 0.1, 0.3, 1.0, 3.0]},\n",
    "    ]\n",
    "\n",
    "svm_reg = SVR()\n",
    "grid_search = GridSearchCV(svm_reg, param_grid, cv=5, scoring='neg_mean_squared_error', \\\n",
    "                           verbose=2)\n",
    "grid_search.fit(x_prep, v_labels.values.ravel()) "
   ]
  },
  {
   "cell_type": "markdown",
   "id": "56cc356f",
   "metadata": {
    "slideshow": {
     "slide_type": "slide"
    }
   },
   "source": [
    "El mejor modelo logra la siguiente puntuación (evaluada utilizando una validación cruzada de 5 veces):"
   ]
  },
  {
   "cell_type": "code",
   "execution_count": 8,
   "id": "39d0092f",
   "metadata": {
    "slideshow": {
     "slide_type": "slide"
    }
   },
   "outputs": [
    {
     "data": {
      "text/plain": [
       "71027.0796073586"
      ]
     },
     "execution_count": 8,
     "metadata": {},
     "output_type": "execute_result"
    }
   ],
   "source": [
    "negative_mse = grid_search.best_score_\n",
    "rmse = np.sqrt(-negative_mse)\n",
    "rmse"
   ]
  },
  {
   "cell_type": "markdown",
   "id": "25f24e68",
   "metadata": {
    "slideshow": {
     "slide_type": "slide"
    }
   },
   "source": [
    "Eso es mucho peor que `RandomForestRegressor`. Veamos los mejores hiperparámetros encontrados:"
   ]
  },
  {
   "cell_type": "code",
   "execution_count": 9,
   "id": "8c5bbd8c",
   "metadata": {
    "slideshow": {
     "slide_type": "slide"
    }
   },
   "outputs": [
    {
     "data": {
      "text/plain": [
       "{'C': 1000.0, 'gamma': 0.1, 'kernel': 'rbf'}"
      ]
     },
     "execution_count": 9,
     "metadata": {},
     "output_type": "execute_result"
    }
   ],
   "source": [
    "grid_search.best_params_"
   ]
  },
  {
   "cell_type": "markdown",
   "id": "4cfb3865",
   "metadata": {
    "slideshow": {
     "slide_type": "slide"
    }
   },
   "source": [
    "El kernel lineal parece mejor que el kernel RBF. Observe que el valor de C es el valor máximo probado. Cuando esto sucede, definitivamente desea iniciar la búsqueda de cuadrícula nuevamente con valores más altos para C (eliminando los valores más pequeños), porque es probable que los valores más altos de C sean mejores."
   ]
  },
  {
   "cell_type": "markdown",
   "id": "f7b22b47",
   "metadata": {
    "slideshow": {
     "slide_type": "slide"
    }
   },
   "source": [
    "## Punto 2 Solución"
   ]
  },
  {
   "cell_type": "code",
   "execution_count": null,
   "id": "e881397b",
   "metadata": {
    "slideshow": {
     "slide_type": "slide"
    }
   },
   "outputs": [],
   "source": []
  },
  {
   "cell_type": "code",
   "execution_count": null,
   "id": "5d457321",
   "metadata": {
    "slideshow": {
     "slide_type": "slide"
    }
   },
   "outputs": [],
   "source": []
  },
  {
   "cell_type": "code",
   "execution_count": null,
   "id": "1230a2f9",
   "metadata": {
    "slideshow": {
     "slide_type": "slide"
    }
   },
   "outputs": [],
   "source": []
  },
  {
   "cell_type": "code",
   "execution_count": null,
   "id": "fed8568f",
   "metadata": {
    "slideshow": {
     "slide_type": "slide"
    }
   },
   "outputs": [],
   "source": []
  },
  {
   "cell_type": "markdown",
   "id": "ce0c1250",
   "metadata": {
    "slideshow": {
     "slide_type": "slide"
    }
   },
   "source": [
    "## Referencias  \n",
    "\n",
    "* sklearn.svm.SVR: https://scikit-learn.org/stable/modules/generated/sklearn.svm.SVR.html"
   ]
  },
  {
   "cell_type": "code",
   "execution_count": null,
   "id": "339438c9",
   "metadata": {},
   "outputs": [],
   "source": []
  }
 ],
 "metadata": {
  "celltoolbar": "Slideshow",
  "kernelspec": {
   "display_name": "Python 3 (ipykernel)",
   "language": "python",
   "name": "python3"
  },
  "language_info": {
   "codemirror_mode": {
    "name": "ipython",
    "version": 3
   },
   "file_extension": ".py",
   "mimetype": "text/x-python",
   "name": "python",
   "nbconvert_exporter": "python",
   "pygments_lexer": "ipython3",
   "version": "3.9.7"
  }
 },
 "nbformat": 4,
 "nbformat_minor": 5
}
