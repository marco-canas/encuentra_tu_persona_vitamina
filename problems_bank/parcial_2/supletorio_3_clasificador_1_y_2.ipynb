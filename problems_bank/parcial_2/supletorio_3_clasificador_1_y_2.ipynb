{
 "cells": [
  {
   "cell_type": "markdown",
   "id": "d7cc72ff",
   "metadata": {
    "slideshow": {
     "slide_type": "slide"
    }
   },
   "source": [
    "<table align=\"left\">\n",
    "  <td>\n",
    "    <a href=\"https://colab.research.google.com/github/marco-canas/Machine-Learning/blob/main/ML/classes/class_march_3/class_march_3.ipynb\" target=\"_parent\"><img src=\"https://colab.research.google.com/assets/colab-badge.svg\" alt=\"Open In Colab\"/></a>\n",
    "  </td>\n",
    "</table>"
   ]
  },
  {
   "cell_type": "markdown",
   "id": "ca09fc04",
   "metadata": {
    "slideshow": {
     "slide_type": "slide"
    }
   },
   "source": [
    "# Constuir un clasificador binario unos versus dos utilizando el dataset `mnist_784`"
   ]
  },
  {
   "cell_type": "markdown",
   "id": "6139367a",
   "metadata": {
    "slideshow": {
     "slide_type": "slide"
    }
   },
   "source": [
    "**Nombre estudiante:** Bolivar Higuita"
   ]
  },
  {
   "cell_type": "markdown",
   "id": "ee180181",
   "metadata": {
    "slideshow": {
     "slide_type": "slide"
    }
   },
   "source": [
    "## Modelos para la selección:  \n",
    "\n",
    "* RandomForestClassifier"
   ]
  },
  {
   "cell_type": "markdown",
   "id": "d765f8e9",
   "metadata": {
    "slideshow": {
     "slide_type": "slide"
    }
   },
   "source": [
    "## Metodología de Géron"
   ]
  },
  {
   "cell_type": "markdown",
   "id": "1742ba2d",
   "metadata": {
    "slideshow": {
     "slide_type": "slide"
    }
   },
   "source": [
    "Para ello siga la metodología dada por Aurelien Géron:\n",
    "\n",
    "1. Obtener el dataset y configurarlo en la forma estándar $[X \\mid y]$ y para el clasificador binario de unos versus dos que se le asignó. Donde los valores de las entradas de estas matrices sea de tipo `int64`.  \n",
    "\n",
    "2. Filtrar del dataset anterior las imagenes `X_1_vs_2` que representan ceros y las imagenes que representan unos y las etiquetas respectivas `y_1_vs_2`. Para ello utilice la función `numpy.vstack((X_0, X_1))` de NumPy, recordando que a esta función le debe entregar una tupla con arreglos bidimensionales a concatenar.   \n",
    "\n",
    "2. Descomponer a `X` y a `y` en `X_train_1_vs_2`, `X_test_1_vs_2`, `y_train_1_vs_2` y `y_test_1_vs_2` con una tasa de testeo del 20%. Y verificar con histogramas que el muestreo sea estratificado. \n",
    "\n",
    "3. Escale los atributos con la estrategia de estandarización para obtener `X_train_1_vs_2_escalado` y `X_test_1_vs_2_escalado`. \n",
    "\n",
    "4. Entrene los modelos asignados con los datos escalados `X_train_1_vs_2_escalado` y las etiquetas de entrenamiento `y_train_1_vs_2`. \n",
    "\n",
    "5. ¿Es aplicable la medida de desempeño `accuracy` para su tarea de clasificación?. Justifique su respuesta. \n",
    "\n",
    "6. Efectue el proceso de validación cruzada con 5 hojas de validación (`cv = 5`) y con el `scoring = `accuracy`.   \n",
    "\n",
    "7. Determine la matriz de confusión utilizando 5 hojas de validación.  \n",
    "\n",
    "8. Determine la precisión y el recall de su clasificador para las mismas 5 hojas de validación.  \n",
    "\n",
    "9. Determine el puntaje f1 de su clasificador para las mismas 5 hojas de validación. \n",
    "\n",
    "10. Utilice el hiperparámetro `method=\"predict_proba\"` de la función `cross_val_predict()` para determinar el vector `y_train_1_vs_2_scores` de los puntajes de decisión para el modelo `RandomForestClassifier` asignado. \n",
    "\n",
    "11. Utilice `precision_recall_curve` para determinar el umbral de decisión necesario para obtener una precisión del 90 $\\%$ en su clasificador. \n",
    "\n",
    "12. Utilice la función `roc_curve` del módulo `metrics` de sklearn para trazar la curva ROC de su modelo. Para ello evalue la función `roc_curve` en `y_train_1_vs_2`, y  `y_train_1_vs_2_scores`).\n",
    "\n",
    "13. Determine el área bajo la curva ROC utilizando la función `roc_auc_score` del módulo metrics de Sklearn. "
   ]
  },
  {
   "cell_type": "markdown",
   "id": "a754db1e",
   "metadata": {
    "slideshow": {
     "slide_type": "slide"
    }
   },
   "source": [
    "# Solución del Parcial"
   ]
  },
  {
   "cell_type": "markdown",
   "id": "b9c41f02",
   "metadata": {
    "slideshow": {
     "slide_type": "slide"
    }
   },
   "source": [
    "Metodología dada por Aurelien Géron:\n",
    "\n",
    "1. Obtener el dataset y configurarlo en la forma estándar $[X \\mid y]$ y para el clasificador binario de unos versus dos que se le asignó. Donde los valores de las entradas de estas matrices sea de tipo `int64`.  "
   ]
  },
  {
   "cell_type": "code",
   "execution_count": 1,
   "id": "5dcb2379",
   "metadata": {
    "slideshow": {
     "slide_type": "slide"
    }
   },
   "outputs": [],
   "source": [
    "from sklearn.datasets import fetch_openml\n",
    "\n",
    "mnist = fetch_openml('mnist_784', version = 1, as_frame = False)\n",
    "X,y = mnist['data'], mnist['target'] \n",
    "\n"
   ]
  },
  {
   "cell_type": "code",
   "execution_count": 2,
   "id": "5c4617a8",
   "metadata": {
    "slideshow": {
     "slide_type": "slide"
    }
   },
   "outputs": [],
   "source": [
    "import numpy as np \n",
    "y = y.astype(np.int64)"
   ]
  },
  {
   "cell_type": "markdown",
   "id": "db031983",
   "metadata": {
    "slideshow": {
     "slide_type": "slide"
    }
   },
   "source": [
    "2. Descomponer a `X` y a `y` en `X_train_1_vs_2`, `X_test_1_vs_2`, `y_train_1_vs_2` y `y_test_1_vs_2` con una tasa de testeo del 20%. Y verificar con histogramas que el muestreo sea estratificado. Antes de concatenar las etiquetas con `np.vstack()` utilice el método `reshape(-1,1)` para convertir las etiquetas `y_1` de los unos y las etiquetas de los dos `y_2` en arreglos de NumPy bidimensionales. "
   ]
  },
  {
   "cell_type": "code",
   "execution_count": 3,
   "id": "9b09176b",
   "metadata": {
    "slideshow": {
     "slide_type": "slide"
    }
   },
   "outputs": [],
   "source": [
    "X_1 = X[y == 1]\n",
    "X_2 = X[y == 2]\n",
    "y_1 = y[y==1].reshape(-1,1)\n",
    "y_2 = y[y==2].reshape(-1,1) \n",
    "X_1_vs_2 = np.vstack((X_1, X_2))\n",
    "y_1_vs_2 = np.vstack((y_1, y_2)) "
   ]
  },
  {
   "cell_type": "code",
   "execution_count": 4,
   "id": "db89927a",
   "metadata": {
    "slideshow": {
     "slide_type": "slide"
    }
   },
   "outputs": [],
   "source": [
    "from sklearn.model_selection import StratifiedShuffleSplit "
   ]
  },
  {
   "cell_type": "code",
   "execution_count": 5,
   "id": "f5e90cc4",
   "metadata": {
    "slideshow": {
     "slide_type": "slide"
    }
   },
   "outputs": [],
   "source": [
    "sss = StratifiedShuffleSplit(n_splits = 1, test_size = 0.2, random_state = 42) "
   ]
  },
  {
   "cell_type": "code",
   "execution_count": 6,
   "id": "2a9eae47",
   "metadata": {
    "slideshow": {
     "slide_type": "slide"
    }
   },
   "outputs": [],
   "source": [
    "for train_index, test_index in sss.split(X_1_vs_2, y_1_vs_2):\n",
    "    X_1_vs_2_train, X_1_vs_2_test = X_1_vs_2[train_index], X_1_vs_2[test_index]\n",
    "    y_1_vs_2_train, y_1_vs_2_test = y_1_vs_2[train_index], y_1_vs_2[test_index]"
   ]
  },
  {
   "cell_type": "code",
   "execution_count": 14,
   "id": "dad7d1c4",
   "metadata": {
    "slideshow": {
     "slide_type": "slide"
    }
   },
   "outputs": [
    {
     "data": {
      "image/png": "[encoded data removed]",
      "text/plain": [
       "<Figure size 1440x360 with 3 Axes>"
      ]
     },
     "metadata": {
      "needs_background": "light"
     },
     "output_type": "display_data"
    }
   ],
   "source": [
    "import matplotlib.pyplot as plt \n",
    "\n",
    "fig,ax = plt.subplots(1,3, figsize = (20,5))\n",
    "\n",
    "ax[0].hist(y_1_vs_2.ravel())\n",
    "ax[1].hist(y_1_vs_2_train.ravel())\n",
    "ax[2].hist(y_1_vs_2_test.ravel())\n",
    "\n",
    "\n",
    "plt.show()"
   ]
  },
  {
   "cell_type": "markdown",
   "id": "71ac1ae3",
   "metadata": {
    "slideshow": {
     "slide_type": "slide"
    }
   },
   "source": [
    "3. Escale los atributos con la estrategia de estandarización para obtener `X_train_1_vs_2_escalado` y `X_test_1_vs_2_escalado`. "
   ]
  },
  {
   "cell_type": "code",
   "execution_count": 16,
   "id": "01623a54",
   "metadata": {
    "slideshow": {
     "slide_type": "slide"
    }
   },
   "outputs": [],
   "source": [
    "from sklearn.preprocessing import StandardScaler"
   ]
  },
  {
   "cell_type": "code",
   "execution_count": null,
   "id": "42fbd35e",
   "metadata": {
    "slideshow": {
     "slide_type": "slide"
    }
   },
   "outputs": [],
   "source": []
  },
  {
   "cell_type": "code",
   "execution_count": null,
   "id": "ab9b297b",
   "metadata": {
    "slideshow": {
     "slide_type": "slide"
    }
   },
   "outputs": [],
   "source": []
  },
  {
   "cell_type": "markdown",
   "id": "72db875f",
   "metadata": {
    "slideshow": {
     "slide_type": "slide"
    }
   },
   "source": [
    "4. Entrene los modelos asignados con los datos escalados `X_train_1_vs_2_escalado` y las etiquetas de entrenamiento `y_train_1_vs_2`. \n",
    "\n",
    "5. ¿Es aplicable la medida de desempeño `accuracy` para su tarea de clasificación?. Justifique su respuesta. \n",
    "\n",
    "6. Efectue el proceso de validación cruzada con 5 hojas de validación (`cv = 5`) y con el `scoring = `accuracy`.   \n",
    "\n",
    "7. Determine la matriz de confusión utilizando 5 hojas de validación.  \n",
    "\n",
    "8. Determine la precisión y el recall de su clasificador para las mismas 5 hojas de validación.  \n",
    "\n",
    "9. Determine el puntaje f1 de su clasificador para las mismas 5 hojas de validación. \n",
    "\n",
    "10. Utilice el hiperparámetro `method=\"decision_proba\"` de la función `cross_val_predict()` para determinar el vector `y_train_1_vs_2_scores` de los puntajes de decisión para el modelo RandomForestClassifier asignado. \n",
    "\n",
    "11. Utilice `precision_recall_curve` para determinar el umbral de decisión necesario para obtener una precisión del 90 $\\%$ en su clasificador. \n",
    "\n",
    "12. Utilice la función `roc_curve` del módulo `metrics` de sklearn para trazar la curva ROC de su modelo. Para ello evalue la función `roc_curve` en `y_train_1_vs_2`, y  `y_train_1_vs_2_scores`)."
   ]
  },
  {
   "cell_type": "markdown",
   "id": "e89769d1",
   "metadata": {
    "slideshow": {
     "slide_type": "slide"
    }
   },
   "source": [
    "13. Determine el área bajo la curva ROC utilizando la función `roc_auc_score` del módulo metrics de Sklearn. "
   ]
  },
  {
   "cell_type": "code",
   "execution_count": null,
   "id": "aa51405d",
   "metadata": {},
   "outputs": [],
   "source": []
  },
  {
   "cell_type": "markdown",
   "id": "91082d22",
   "metadata": {
    "slideshow": {
     "slide_type": "slide"
    }
   },
   "source": [
    "## Referencias\n",
    "\n",
    "* La función cross_val_predict() del módulo model_selection de sklearn: https://scikit-learn.org/stable/modules/generated/sklearn.model_selection.cross_val_predict.html\n"
   ]
  },
  {
   "cell_type": "code",
   "execution_count": null,
   "id": "c4f53ac7",
   "metadata": {},
   "outputs": [],
   "source": []
  }
 ],
 "metadata": {
  "celltoolbar": "Slideshow",
  "kernelspec": {
   "display_name": "Python 3 (ipykernel)",
   "language": "python",
   "name": "python3"
  },
  "language_info": {
   "codemirror_mode": {
    "name": "ipython",
    "version": 3
   },
   "file_extension": ".py",
   "mimetype": "text/x-python",
   "name": "python",
   "nbconvert_exporter": "python",
   "pygments_lexer": "ipython3",
   "version": "3.9.7"
  }
 },
 "nbformat": 4,
 "nbformat_minor": 5
}
