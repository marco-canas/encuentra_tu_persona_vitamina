{
 "cells": [
  {
   "cell_type": "markdown",
   "id": "37e2bbfc",
   "metadata": {
    "slideshow": {
     "slide_type": "slide"
    }
   },
   "source": [
    "<table align=\"left\">\n",
    "  <td>\n",
    "    <a href=\"https://colab.research.google.com/github/marco-canas/introducci-n-al-Machine-Learning/blob/main/problems_bank/quiz_1/quiz_1_15.ipynb\" target=\"_parent\"><img src=\"https://colab.research.google.com/assets/colab-badge.svg\" alt=\"Open In Colab\"/></a>\n",
    "  </td>\n",
    "  <td>\n",
    "    <a target=\"_blank\" href=\"https://kaggle.com/kernels/welcome?src=https://github.com/marco-canas/introducci-n-al-Machine-Learning/blob/main/problems_bank/quiz_1/quiz_1_15.ipynb\"><img src=\"https://kaggle.com/static/images/open-in-kaggle.svg\" /></a>\n",
    "  </td>\n",
    "</table> "
   ]
  },
  {
   "cell_type": "markdown",
   "id": "25f78214",
   "metadata": {
    "slideshow": {
     "slide_type": "slide"
    }
   },
   "source": [
    "# Quiz 1.15"
   ]
  },
  {
   "cell_type": "markdown",
   "id": "cf94f798",
   "metadata": {
    "slideshow": {
     "slide_type": "slide"
    }
   },
   "source": [
    "Construye una función de Python que almacene en una lista `a` obtenida con `range(1,n)`, donde $n$ es un entero que se pide al usuario y modifique dicha lista para que cada componente sea igual al cuadrado del componente original.   \n",
    "\n",
    "El programa mostrará la lista resultante por pantalla.\n"
   ]
  },
  {
   "cell_type": "markdown",
   "id": "6815c9a1",
   "metadata": {
    "slideshow": {
     "slide_type": "slide"
    }
   },
   "source": [
    "## Solución: "
   ]
  },
  {
   "cell_type": "markdown",
   "id": "262ca9a9",
   "metadata": {
    "slideshow": {
     "slide_type": "slide"
    }
   },
   "source": [
    "Empecemos solucionando el problema sin utilizar `NumPy`"
   ]
  },
  {
   "cell_type": "code",
   "execution_count": 10,
   "id": "620c6ef8",
   "metadata": {
    "slideshow": {
     "slide_type": "slide"
    }
   },
   "outputs": [],
   "source": [
    "def lista_cuadrados1():\n",
    "    n = int(input('entre un entero postivo n: '))\n",
    "    a = list(range(1,n))\n",
    "    for i in range(len(a)):\n",
    "        a[i] = a[i]**2\n",
    "    return a "
   ]
  },
  {
   "cell_type": "code",
   "execution_count": 11,
   "id": "305f8f98",
   "metadata": {
    "slideshow": {
     "slide_type": "slide"
    }
   },
   "outputs": [
    {
     "name": "stdout",
     "output_type": "stream",
     "text": [
      "entre un entero postivo n: 7\n"
     ]
    },
    {
     "data": {
      "text/plain": [
       "[1, 4, 9, 16, 25, 36]"
      ]
     },
     "execution_count": 11,
     "metadata": {},
     "output_type": "execute_result"
    }
   ],
   "source": [
    "lista_cuadrados1()"
   ]
  },
  {
   "cell_type": "markdown",
   "id": "9f14e4ff",
   "metadata": {
    "slideshow": {
     "slide_type": "slide"
    }
   },
   "source": [
    "Ahora resolvamos el problema con `NumPy`"
   ]
  },
  {
   "cell_type": "code",
   "execution_count": 8,
   "id": "050efefa",
   "metadata": {
    "slideshow": {
     "slide_type": "slide"
    }
   },
   "outputs": [],
   "source": [
    "def lista_cuadrados2():\n",
    "    n = int(input('entre un entero postivo n: '))\n",
    "    a = list(range(1,n))\n",
    "    import numpy as np \n",
    "    a = np.array(a)\n",
    "    a = a**2\n",
    "    return a "
   ]
  },
  {
   "cell_type": "code",
   "execution_count": 12,
   "id": "ef88a4eb",
   "metadata": {
    "slideshow": {
     "slide_type": "slide"
    }
   },
   "outputs": [
    {
     "name": "stdout",
     "output_type": "stream",
     "text": [
      "entre un entero postivo n: 7\n"
     ]
    },
    {
     "data": {
      "text/plain": [
       "array([ 1,  4,  9, 16, 25, 36], dtype=int32)"
      ]
     },
     "execution_count": 12,
     "metadata": {},
     "output_type": "execute_result"
    }
   ],
   "source": [
    " lista_cuadrados() "
   ]
  },
  {
   "cell_type": "code",
   "execution_count": null,
   "id": "c86ef50e",
   "metadata": {
    "slideshow": {
     "slide_type": "slide"
    }
   },
   "outputs": [],
   "source": []
  }
 ],
 "metadata": {
  "celltoolbar": "Slideshow",
  "kernelspec": {
   "display_name": "Python 3",
   "language": "python",
   "name": "python3"
  },
  "language_info": {
   "codemirror_mode": {
    "name": "ipython",
    "version": 3
   },
   "file_extension": ".py",
   "mimetype": "text/x-python",
   "name": "python",
   "nbconvert_exporter": "python",
   "pygments_lexer": "ipython3",
   "version": "3.8.8"
  },
  "latex_envs": {
   "LaTeX_envs_menu_present": true,
   "autoclose": false,
   "autocomplete": false,
   "bibliofile": "biblio.bib",
   "cite_by": "apalike",
   "current_citInitial": 1,
   "eqLabelWithNumbers": true,
   "eqNumInitial": 1,
   "hotkeys": {
    "equation": "Ctrl-E",
    "itemize": "Ctrl-I"
   },
   "labels_anchors": false,
   "latex_user_defs": false,
   "report_style_numbering": false,
   "user_envs_cfg": false
  }
 },
 "nbformat": 4,
 "nbformat_minor": 5
}
