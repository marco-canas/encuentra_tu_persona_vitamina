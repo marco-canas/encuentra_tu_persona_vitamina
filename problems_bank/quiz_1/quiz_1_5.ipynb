{
 "cells": [
  {
   "cell_type": "markdown",
   "id": "9b453cbb",
   "metadata": {},
   "source": []
  },
  {
   "cell_type": "markdown",
   "id": "131dfa09",
   "metadata": {},
   "source": [
    "Diseña un programa que calcule la menor de cinco palabras dadas; es decir, la primera palabra de las cinco en orden alfabético. \n",
    "\n",
    "Aceptaremos que las mayúsculas sean ✭✭alfabéticamente✮✮ menores que las minúsculas. O sea, 'pepita' es mayor que 'Pepita'.\n"
   ]
  },
  {
   "cell_type": "code",
   "execution_count": 1,
   "id": "6fbb8f3f",
   "metadata": {},
   "outputs": [
    {
     "data": {
      "text/plain": [
       "True"
      ]
     },
     "execution_count": 1,
     "metadata": {},
     "output_type": "execute_result"
    }
   ],
   "source": [
    "\"A\"<\"a\""
   ]
  },
  {
   "cell_type": "code",
   "execution_count": 2,
   "id": "040bd3ed",
   "metadata": {},
   "outputs": [
    {
     "data": {
      "text/plain": [
       "True"
      ]
     },
     "execution_count": 2,
     "metadata": {},
     "output_type": "execute_result"
    }
   ],
   "source": [
    "'pepita' > 'Pepita'"
   ]
  },
  {
   "cell_type": "code",
   "execution_count": null,
   "id": "9fa6e94d",
   "metadata": {},
   "outputs": [],
   "source": []
  },
  {
   "cell_type": "code",
   "execution_count": null,
   "id": "d52b254f",
   "metadata": {},
   "outputs": [],
   "source": []
  },
  {
   "cell_type": "code",
   "execution_count": null,
   "id": "d460f061",
   "metadata": {},
   "outputs": [],
   "source": []
  }
 ],
 "metadata": {
  "kernelspec": {
   "display_name": "Python 3",
   "language": "python",
   "name": "python3"
  },
  "language_info": {
   "codemirror_mode": {
    "name": "ipython",
    "version": 3
   },
   "file_extension": ".py",
   "mimetype": "text/x-python",
   "name": "python",
   "nbconvert_exporter": "python",
   "pygments_lexer": "ipython3",
   "version": "3.8.8"
  },
  "latex_envs": {
   "LaTeX_envs_menu_present": true,
   "autoclose": false,
   "autocomplete": false,
   "bibliofile": "biblio.bib",
   "cite_by": "apalike",
   "current_citInitial": 1,
   "eqLabelWithNumbers": true,
   "eqNumInitial": 1,
   "hotkeys": {
    "equation": "Ctrl-E",
    "itemize": "Ctrl-I"
   },
   "labels_anchors": false,
   "latex_user_defs": false,
   "report_style_numbering": false,
   "user_envs_cfg": false
  }
 },
 "nbformat": 4,
 "nbformat_minor": 5
}
