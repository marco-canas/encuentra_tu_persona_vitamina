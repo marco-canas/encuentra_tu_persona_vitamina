{
 "cells": [
  {
   "cell_type": "markdown",
   "id": "85e5a641",
   "metadata": {},
   "source": [
    "<table align=\"left\">\n",
    "  <td>\n",
    "    <a href=\"https://colab.research.google.com/github/marco-canas/taca/blob/main/ref/geron/chap_2/5_prepare_for_algorithms/1_prepare_for_algorithms.ipynb\" target=\"_parent\"><img src=\"https://colab.research.google.com/assets/colab-badge.svg\" alt=\"Open In Colab\"/></a>\n",
    "  </td>\n",
    "  <td>\n",
    "    <a target=\"_blank\" href=\"https://kaggle.com/kernels/welcome?src=https://github.com/marco-canas/taca/blob/main/ref/geron/chap_2/5_prepare_for_algorithms/1_prepare_for_algorithms.ipynb\"><img src=\"https://kaggle.com/static/images/open-in-kaggle.svg\" /></a>\n",
    "  </td>\n",
    "</table> "
   ]
  },
  {
   "cell_type": "markdown",
   "id": "747f1ea6",
   "metadata": {},
   "source": [
    "# Quiz 1.13"
   ]
  },
  {
   "cell_type": "markdown",
   "id": "0b2a1059",
   "metadata": {},
   "source": [
    "Escriba una función que lea una cadena y un número entero $k$ y nos diga si todas sus palabras tienen una longitud de $k$ caracteres."
   ]
  },
  {
   "cell_type": "markdown",
   "id": "169401d3",
   "metadata": {},
   "source": [
    "Sugerencia: Utilice la función `all()` de python que determina si todos los elementos de una lista son de valor booleano `True`. "
   ]
  },
  {
   "cell_type": "code",
   "execution_count": null,
   "id": "1fdcb4dd",
   "metadata": {},
   "outputs": [],
   "source": []
  },
  {
   "cell_type": "markdown",
   "id": "3baf508b",
   "metadata": {},
   "source": [
    "## Referentes  \n",
    "\n",
    "* La función all() de python: https://www.geeksforgeeks.org/python-all-function/#:~:text=The%20all%20%28%29%20function%20is%20an%20inbuilt%20function,the%20iterable%20object%20is%20empty.%20Syntax%3A%20all%20%28iterable%29"
   ]
  },
  {
   "cell_type": "code",
   "execution_count": null,
   "id": "11963f8c",
   "metadata": {},
   "outputs": [],
   "source": []
  }
 ],
 "metadata": {
  "kernelspec": {
   "display_name": "Python 3",
   "language": "python",
   "name": "python3"
  },
  "language_info": {
   "codemirror_mode": {
    "name": "ipython",
    "version": 3
   },
   "file_extension": ".py",
   "mimetype": "text/x-python",
   "name": "python",
   "nbconvert_exporter": "python",
   "pygments_lexer": "ipython3",
   "version": "3.8.8"
  },
  "latex_envs": {
   "LaTeX_envs_menu_present": true,
   "autoclose": false,
   "autocomplete": false,
   "bibliofile": "biblio.bib",
   "cite_by": "apalike",
   "current_citInitial": 1,
   "eqLabelWithNumbers": true,
   "eqNumInitial": 1,
   "hotkeys": {
    "equation": "Ctrl-E",
    "itemize": "Ctrl-I"
   },
   "labels_anchors": false,
   "latex_user_defs": false,
   "report_style_numbering": false,
   "user_envs_cfg": false
  }
 },
 "nbformat": 4,
 "nbformat_minor": 5
}
