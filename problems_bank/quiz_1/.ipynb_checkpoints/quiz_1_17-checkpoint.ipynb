{
 "cells": [
  {
   "cell_type": "markdown",
   "id": "768a14e8",
   "metadata": {},
   "source": [
    "<table align=\"left\">\n",
    "  <td>\n",
    "    <a href=\"https://colab.research.google.com/github/marco-canas/taca/blob/main/ref/geron/chap_2/5_prepare_for_algorithms/1_prepare_for_algorithms.ipynb\" target=\"_parent\"><img src=\"https://colab.research.google.com/assets/colab-badge.svg\" alt=\"Open In Colab\"/></a>\n",
    "  </td>\n",
    "  <td>\n",
    "    <a target=\"_blank\" href=\"https://kaggle.com/kernels/welcome?src=https://github.com/marco-canas/taca/blob/main/ref/geron/chap_2/5_prepare_for_algorithms/1_prepare_for_algorithms.ipynb\"><img src=\"https://kaggle.com/static/images/open-in-kaggle.svg\" /></a>\n",
    "  </td>\n",
    "</table> "
   ]
  },
  {
   "cell_type": "markdown",
   "id": "ea982fd9",
   "metadata": {},
   "source": [
    "# Quiz 1.17"
   ]
  },
  {
   "cell_type": "markdown",
   "id": "241b0dbe",
   "metadata": {},
   "source": [
    "Diseña un programa que construya una lista con los $n$ primeros números primos (ojo: no los primos entre 1 y $n$, sino los $n$ primeros números primos).   \n",
    "\n",
    "¿Necesitas usar `.append()`?   \n",
    "\n",
    "¿Puedes reservar en primer lugar un vector con $n$ celdas nulas y asignarle a cada una de ellas uno de los\n",
    "números primos?"
   ]
  },
  {
   "cell_type": "code",
   "execution_count": 1,
   "id": "16ad808f",
   "metadata": {},
   "outputs": [],
   "source": [
    "def n_primeros_primos(n):\n",
    "    nprimos = []\n",
    "    return nprimos "
   ]
  },
  {
   "cell_type": "code",
   "execution_count": null,
   "id": "3eb3e173",
   "metadata": {},
   "outputs": [],
   "source": []
  },
  {
   "cell_type": "code",
   "execution_count": null,
   "id": "cea91a65",
   "metadata": {},
   "outputs": [],
   "source": []
  },
  {
   "cell_type": "code",
   "execution_count": null,
   "id": "ca7b2909",
   "metadata": {},
   "outputs": [],
   "source": []
  }
 ],
 "metadata": {
  "kernelspec": {
   "display_name": "Python 3",
   "language": "python",
   "name": "python3"
  },
  "language_info": {
   "codemirror_mode": {
    "name": "ipython",
    "version": 3
   },
   "file_extension": ".py",
   "mimetype": "text/x-python",
   "name": "python",
   "nbconvert_exporter": "python",
   "pygments_lexer": "ipython3",
   "version": "3.8.8"
  },
  "latex_envs": {
   "LaTeX_envs_menu_present": true,
   "autoclose": false,
   "autocomplete": false,
   "bibliofile": "biblio.bib",
   "cite_by": "apalike",
   "current_citInitial": 1,
   "eqLabelWithNumbers": true,
   "eqNumInitial": 1,
   "hotkeys": {
    "equation": "Ctrl-E",
    "itemize": "Ctrl-I"
   },
   "labels_anchors": false,
   "latex_user_defs": false,
   "report_style_numbering": false,
   "user_envs_cfg": false
  }
 },
 "nbformat": 4,
 "nbformat_minor": 5
}
