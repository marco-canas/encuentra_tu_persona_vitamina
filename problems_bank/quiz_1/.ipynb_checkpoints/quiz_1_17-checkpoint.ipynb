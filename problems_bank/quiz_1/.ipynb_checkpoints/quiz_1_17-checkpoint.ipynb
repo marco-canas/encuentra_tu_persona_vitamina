{
 "cells": [
  {
   "cell_type": "markdown",
   "id": "768a14e8",
   "metadata": {
    "slideshow": {
     "slide_type": "slide"
    }
   },
   "source": [
    "<table align=\"left\">\n",
    "  <td>\n",
    "    <a href=\"https://colab.research.google.com/github/marco-canas/introducci-n-al-Machine-Learning/blob/main/problems_bank/quiz_1/quiz_1_17.ipynb\" target=\"_parent\"><img src=\"https://colab.research.google.com/assets/colab-badge.svg\" alt=\"Open In Colab\"/></a>\n",
    "  </td>\n",
    "  <td>\n",
    "    <a target=\"_blank\" href=\"https://kaggle.com/kernels/welcome?src=https://github.com/marco-canas/introducci-n-al-Machine-Learning/blob/main/problems_bank/quiz_1/quiz_1_17.ipynb\"><img src=\"https://kaggle.com/static/images/open-in-kaggle.svg\" /></a>\n",
    "  </td>\n",
    "</table> "
   ]
  },
  {
   "cell_type": "markdown",
   "id": "ea982fd9",
   "metadata": {
    "slideshow": {
     "slide_type": "slide"
    }
   },
   "source": [
    "# Quiz 1.17"
   ]
  },
  {
   "cell_type": "markdown",
   "id": "241b0dbe",
   "metadata": {
    "slideshow": {
     "slide_type": "slide"
    }
   },
   "source": [
    "Diseña un programa que construya una lista con los $n$ primeros números primos (ojo: no los primos entre 1 y $n$, sino los $n$ primeros números primos).   \n",
    "\n",
    "¿Necesitas usar `.append()`?   \n",
    "\n",
    "¿Puedes reservar en primer lugar un vector con $n$ celdas nulas y asignarle a cada una de ellas uno de los\n",
    "números primos?"
   ]
  },
  {
   "cell_type": "code",
   "execution_count": 3,
   "id": "56a75b32",
   "metadata": {
    "slideshow": {
     "slide_type": "slide"
    }
   },
   "outputs": [],
   "source": [
    "def es_primo(x):\n",
    "    if x==1:\n",
    "        return False \n",
    "    elif x==2: \n",
    "        return(True)\n",
    "    else:\n",
    "        for p in range(2,x):\n",
    "            if x%p==0:                #si un número es divisible entre p no es primo\n",
    "                return False\n",
    "            elif p==x-1:\n",
    "                return True\n"
   ]
  },
  {
   "cell_type": "code",
   "execution_count": 4,
   "id": "836a8dbb",
   "metadata": {
    "slideshow": {
     "slide_type": "slide"
    }
   },
   "outputs": [
    {
     "data": {
      "text/plain": [
       "True"
      ]
     },
     "execution_count": 4,
     "metadata": {},
     "output_type": "execute_result"
    }
   ],
   "source": [
    "es_primo(7) "
   ]
  },
  {
   "cell_type": "code",
   "execution_count": 5,
   "id": "cc9fe322",
   "metadata": {
    "slideshow": {
     "slide_type": "slide"
    }
   },
   "outputs": [],
   "source": [
    "def n_primeros_primos(n):\n",
    "    lprimos=[]\n",
    "    a=0            #un indicador para el ciclo\n",
    "    while len(lprimos)<n: #cuando la longitud de la lista de primos sea n el ciclo se detiene\n",
    "        a+=1            #actualiza el número del ciclo cada repetición\n",
    "        if es_primo(a)==True: #se evalua si el número a es primo, si lo es se agrega a la lista de primos\n",
    "            lprimos.append(a)\n",
    "    return (lprimos) #la función debe retornar la lista de primos"
   ]
  },
  {
   "cell_type": "code",
   "execution_count": 6,
   "id": "08c937cf",
   "metadata": {
    "slideshow": {
     "slide_type": "slide"
    }
   },
   "outputs": [
    {
     "data": {
      "text/plain": [
       "[2, 3, 5, 7, 11]"
      ]
     },
     "execution_count": 6,
     "metadata": {},
     "output_type": "execute_result"
    }
   ],
   "source": [
    "n_primeros_primos(5)"
   ]
  },
  {
   "cell_type": "code",
   "execution_count": null,
   "id": "430c91f4",
   "metadata": {},
   "outputs": [],
   "source": []
  }
 ],
 "metadata": {
  "celltoolbar": "Slideshow",
  "kernelspec": {
   "display_name": "Python 3",
   "language": "python",
   "name": "python3"
  },
  "language_info": {
   "codemirror_mode": {
    "name": "ipython",
    "version": 3
   },
   "file_extension": ".py",
   "mimetype": "text/x-python",
   "name": "python",
   "nbconvert_exporter": "python",
   "pygments_lexer": "ipython3",
   "version": "3.8.8"
  },
  "latex_envs": {
   "LaTeX_envs_menu_present": true,
   "autoclose": false,
   "autocomplete": false,
   "bibliofile": "biblio.bib",
   "cite_by": "apalike",
   "current_citInitial": 1,
   "eqLabelWithNumbers": true,
   "eqNumInitial": 1,
   "hotkeys": {
    "equation": "Ctrl-E",
    "itemize": "Ctrl-I"
   },
   "labels_anchors": false,
   "latex_user_defs": false,
   "report_style_numbering": false,
   "user_envs_cfg": false
  },
  "rise": {
   "enable_chalkboard": true,
   "theme": "sky",
   "transition": "zoom"
  }
 },
 "nbformat": 4,
 "nbformat_minor": 5
}
