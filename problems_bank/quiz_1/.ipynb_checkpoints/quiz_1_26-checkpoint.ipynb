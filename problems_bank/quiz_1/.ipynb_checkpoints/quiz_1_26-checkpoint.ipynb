{
 "cells": [
  {
   "cell_type": "markdown",
   "id": "a0ce4c8e",
   "metadata": {
    "slideshow": {
     "slide_type": "slide"
    }
   },
   "source": [
    "<table align=\"left\">\n",
    "  <td>\n",
    "    <a href=\"https://colab.research.google.com/github/marco-canas/introducci-n-al-Machine-Learning/blob/main/problems_bank/quiz_1/quiz_1_26.ipynb\" target=\"_parent\"><img src=\"https://colab.research.google.com/assets/colab-badge.svg\" alt=\"Open In Colab\"/></a>\n",
    "  </td>\n",
    "  <td>\n",
    "    <a target=\"_blank\" href=\"https://kaggle.com/kernels/welcome?src=https://github.com/marco-canas/introducci-n-al-Machine-Learning/blob/main/problems_bank/quiz_1/quiz_1_26.ipynb\"><img src=\"https://kaggle.com/static/images/open-in-kaggle.svg\" /></a>\n",
    "  </td>\n",
    "</table> "
   ]
  },
  {
   "cell_type": "markdown",
   "id": "efa2bc71",
   "metadata": {
    "slideshow": {
     "slide_type": "slide"
    }
   },
   "source": [
    "# Quiz 1.26"
   ]
  },
  {
   "cell_type": "markdown",
   "id": "5f96a7a8",
   "metadata": {
    "slideshow": {
     "slide_type": "slide"
    }
   },
   "source": [
    "Diseñe una función que diga (mediante la devolución de `True` o `False`) si dos números son amigos.   \n",
    "\n",
    "Dos números son amigos si la suma de los divisores del primero (excluído él) es igual al segundo y viceversa.\n"
   ]
  },
  {
   "cell_type": "markdown",
   "id": "a0b92808",
   "metadata": {
    "slideshow": {
     "slide_type": "slide"
    }
   },
   "source": [
    "Por ejemplo, 220 y 284 son amigos. "
   ]
  },
  {
   "cell_type": "code",
   "execution_count": 1,
   "id": "cf62f7c7",
   "metadata": {
    "slideshow": {
     "slide_type": "slide"
    }
   },
   "outputs": [],
   "source": [
    "def son_amigos(a,b):\n",
    "    return "
   ]
  },
  {
   "cell_type": "code",
   "execution_count": 3,
   "id": "19bcc4f0",
   "metadata": {
    "slideshow": {
     "slide_type": "slide"
    }
   },
   "outputs": [],
   "source": [
    "son_amigos(220,284)\n"
   ]
  },
  {
   "cell_type": "markdown",
   "id": "54eb4ce2",
   "metadata": {
    "slideshow": {
     "slide_type": "slide"
    }
   },
   "source": [
    "## Creación de una función que calcule los divisores menores que un número dado"
   ]
  },
  {
   "cell_type": "code",
   "execution_count": 19,
   "id": "33ec8e50",
   "metadata": {
    "slideshow": {
     "slide_type": "slide"
    }
   },
   "outputs": [],
   "source": [
    "def divisores_de_n(n):\n",
    "    list_div = [1]\n",
    "    for i in range(2,int(n/2)+1):\n",
    "        if n%i==0:\n",
    "            list_div.append(i)\n",
    "    return list_div"
   ]
  },
  {
   "cell_type": "code",
   "execution_count": 20,
   "id": "4c107c81",
   "metadata": {
    "slideshow": {
     "slide_type": "slide"
    }
   },
   "outputs": [],
   "source": [
    "def son_amigos(a,b):\n",
    "    divisores_a = divisores_de_n(a)\n",
    "    divisores_b = divisores_de_n(b)\n",
    "    if  (sum(divisores_a) == b) and (sum(divisores_b) == a):\n",
    "        return True\n",
    "    else:\n",
    "        return False"
   ]
  },
  {
   "cell_type": "code",
   "execution_count": 21,
   "id": "92be6909",
   "metadata": {
    "slideshow": {
     "slide_type": "slide"
    }
   },
   "outputs": [
    {
     "data": {
      "text/plain": [
       "True"
      ]
     },
     "execution_count": 21,
     "metadata": {},
     "output_type": "execute_result"
    }
   ],
   "source": [
    "son_amigos(220,284)"
   ]
  },
  {
   "cell_type": "markdown",
   "id": "99ebc8dc",
   "metadata": {
    "slideshow": {
     "slide_type": "slide"
    }
   },
   "source": [
    "Ejercicio terminado  \n",
    "* He utilizado dos funciones para resolver el problema. "
   ]
  },
  {
   "cell_type": "code",
   "execution_count": null,
   "id": "c944309c",
   "metadata": {},
   "outputs": [],
   "source": []
  }
 ],
 "metadata": {
  "celltoolbar": "Slideshow",
  "kernelspec": {
   "display_name": "Python 3",
   "language": "python",
   "name": "python3"
  },
  "language_info": {
   "codemirror_mode": {
    "name": "ipython",
    "version": 3
   },
   "file_extension": ".py",
   "mimetype": "text/x-python",
   "name": "python",
   "nbconvert_exporter": "python",
   "pygments_lexer": "ipython3",
   "version": "3.8.8"
  },
  "latex_envs": {
   "LaTeX_envs_menu_present": true,
   "autoclose": false,
   "autocomplete": false,
   "bibliofile": "biblio.bib",
   "cite_by": "apalike",
   "current_citInitial": 1,
   "eqLabelWithNumbers": true,
   "eqNumInitial": 1,
   "hotkeys": {
    "equation": "Ctrl-E",
    "itemize": "Ctrl-I"
   },
   "labels_anchors": false,
   "latex_user_defs": false,
   "report_style_numbering": false,
   "user_envs_cfg": false
  }
 },
 "nbformat": 4,
 "nbformat_minor": 5
}
