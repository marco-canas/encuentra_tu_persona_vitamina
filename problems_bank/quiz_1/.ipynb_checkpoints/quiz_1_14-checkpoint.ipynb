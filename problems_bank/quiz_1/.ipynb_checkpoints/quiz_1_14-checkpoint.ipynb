{
 "cells": [
  {
   "cell_type": "markdown",
   "id": "fe7a08ce",
   "metadata": {},
   "source": [
    "\n",
    "<table align=\"left\">\n",
    "  <td>\n",
    "    <a href=\"https://colab.research.google.com/github/marco-canas/taca/blob/main/ref/geron/chap_2/5_prepare_for_algorithms/1_prepare_for_algorithms.ipynb\" target=\"_parent\"><img src=\"https://colab.research.google.com/assets/colab-badge.svg\" alt=\"Open In Colab\"/></a>\n",
    "  </td>\n",
    "  <td>\n",
    "    <a target=\"_blank\" href=\"https://kaggle.com/kernels/welcome?src=https://github.com/marco-canas/taca/blob/main/ref/geron/chap_2/5_prepare_for_algorithms/1_prepare_for_algorithms.ipynb\"><img src=\"https://kaggle.com/static/images/open-in-kaggle.svg\" /></a>\n",
    "  </td>\n",
    "</table> \n"
   ]
  },
  {
   "cell_type": "markdown",
   "id": "49069578",
   "metadata": {},
   "source": [
    "# Quiz 1.14"
   ]
  },
  {
   "cell_type": "markdown",
   "id": "253d4ee0",
   "metadata": {},
   "source": [
    "Escribe un programa que lea una cadena y un número entero $k$ y muestre el mensaje \"Hay palabras largas\" si alguna de las palabras de la cadena es de longitud mayor o igual que $k$, y \"No hay palabras largas\" en caso contrario."
   ]
  },
  {
   "cell_type": "code",
   "execution_count": 1,
   "id": "792ee8b2",
   "metadata": {},
   "outputs": [
    {
     "data": {
      "text/plain": [
       "'Marco Julio Cañas Campillo'"
      ]
     },
     "execution_count": 1,
     "metadata": {},
     "output_type": "execute_result"
    }
   ],
   "source": [
    "\"Marco Julio Cañas Campillo\""
   ]
  },
  {
   "cell_type": "code",
   "execution_count": null,
   "id": "b1afbd00",
   "metadata": {},
   "outputs": [],
   "source": [
    "k = 6 "
   ]
  },
  {
   "cell_type": "code",
   "execution_count": null,
   "id": "abf2c921",
   "metadata": {},
   "outputs": [],
   "source": []
  }
 ],
 "metadata": {
  "kernelspec": {
   "display_name": "Python 3",
   "language": "python",
   "name": "python3"
  },
  "language_info": {
   "codemirror_mode": {
    "name": "ipython",
    "version": 3
   },
   "file_extension": ".py",
   "mimetype": "text/x-python",
   "name": "python",
   "nbconvert_exporter": "python",
   "pygments_lexer": "ipython3",
   "version": "3.8.8"
  },
  "latex_envs": {
   "LaTeX_envs_menu_present": true,
   "autoclose": false,
   "autocomplete": false,
   "bibliofile": "biblio.bib",
   "cite_by": "apalike",
   "current_citInitial": 1,
   "eqLabelWithNumbers": true,
   "eqNumInitial": 1,
   "hotkeys": {
    "equation": "Ctrl-E",
    "itemize": "Ctrl-I"
   },
   "labels_anchors": false,
   "latex_user_defs": false,
   "report_style_numbering": false,
   "user_envs_cfg": false
  }
 },
 "nbformat": 4,
 "nbformat_minor": 5
}
