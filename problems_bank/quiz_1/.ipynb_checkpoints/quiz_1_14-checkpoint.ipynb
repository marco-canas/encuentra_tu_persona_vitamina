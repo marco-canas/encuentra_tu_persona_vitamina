{
 "cells": [
  {
   "cell_type": "markdown",
   "id": "fe7a08ce",
   "metadata": {
    "slideshow": {
     "slide_type": "slide"
    }
   },
   "source": [
    "\n",
    "<table align=\"left\">\n",
    "  <td>\n",
    "    <a href=\"https://colab.research.google.com/github/marco-canas/taca/blob/main/ref/geron/chap_2/5_prepare_for_algorithms/1_prepare_for_algorithms.ipynb\" target=\"_parent\"><img src=\"https://colab.research.google.com/assets/colab-badge.svg\" alt=\"Open In Colab\"/></a>\n",
    "  </td>\n",
    "  <td>\n",
    "    <a target=\"_blank\" href=\"https://kaggle.com/kernels/welcome?src=https://github.com/marco-canas/taca/blob/main/ref/geron/chap_2/5_prepare_for_algorithms/1_prepare_for_algorithms.ipynb\"><img src=\"https://kaggle.com/static/images/open-in-kaggle.svg\" /></a>\n",
    "  </td>\n",
    "</table> \n"
   ]
  },
  {
   "cell_type": "markdown",
   "id": "49069578",
   "metadata": {
    "slideshow": {
     "slide_type": "slide"
    }
   },
   "source": [
    "# Quiz 1.14"
   ]
  },
  {
   "cell_type": "markdown",
   "id": "253d4ee0",
   "metadata": {
    "slideshow": {
     "slide_type": "slide"
    }
   },
   "source": [
    "Escribe un programa que lea una cadena y un número entero $k$ y muestre el mensaje \"Hay palabras largas\" si alguna de las palabras de la cadena es de longitud mayor o igual que $k$, y \"No hay palabras largas\" en caso contrario."
   ]
  },
  {
   "cell_type": "markdown",
   "id": "94adb40c",
   "metadata": {
    "slideshow": {
     "slide_type": "slide"
    }
   },
   "source": [
    "**Ejemplo:**  \n",
    "\n",
    "Si la cadena dada por el usuario es: *\"¿Por qué se dice que los dos lenguajes de programación? Python y C son bien diferentes\"* \n",
    "\n",
    "y $k$ es igual a 7, entonces: la función debe arrojar el mensaje: \"Hay palabras largas\". "
   ]
  },
  {
   "cell_type": "code",
   "execution_count": 1,
   "id": "1499ea52",
   "metadata": {
    "slideshow": {
     "slide_type": "slide"
    }
   },
   "outputs": [],
   "source": [
    "def hay_palabras_largas(cadena,k):\n",
    "    return "
   ]
  },
  {
   "cell_type": "code",
   "execution_count": 2,
   "id": "07f3b914",
   "metadata": {
    "slideshow": {
     "slide_type": "slide"
    }
   },
   "outputs": [],
   "source": [
    "hay_palabras_largas('Marco Julio',k = 5)"
   ]
  },
  {
   "cell_type": "code",
   "execution_count": 3,
   "id": "5d433a47",
   "metadata": {
    "slideshow": {
     "slide_type": "slide"
    }
   },
   "outputs": [],
   "source": [
    "def hay_palabras_largas(cadena,k):\n",
    "    lista_palabras = cadena.split(' ')\n",
    "    return lista_palabras"
   ]
  },
  {
   "cell_type": "code",
   "execution_count": 18,
   "id": "9714a95a",
   "metadata": {
    "slideshow": {
     "slide_type": "slide"
    }
   },
   "outputs": [
    {
     "name": "stdout",
     "output_type": "stream",
     "text": [
      "Hay palabras largas en el mensaje dado\n"
     ]
    }
   ],
   "source": [
    "hay_palabras_largas('Marco Julio',k = 5)"
   ]
  },
  {
   "cell_type": "code",
   "execution_count": 19,
   "id": "1d6900e8",
   "metadata": {
    "slideshow": {
     "slide_type": "slide"
    }
   },
   "outputs": [],
   "source": [
    "def hay_palabras_largas(cadena,k):\n",
    "    lista_palabras = cadena.split(' ')\n",
    "    longitudes_palabras = []\n",
    "    for i in lista_palabras:\n",
    "        longitudes_palabras.append(len(i))\n",
    "    return longitudes_palabras"
   ]
  },
  {
   "cell_type": "code",
   "execution_count": 21,
   "id": "90d64539",
   "metadata": {
    "slideshow": {
     "slide_type": "slide"
    }
   },
   "outputs": [
    {
     "data": {
      "text/plain": [
       "[5, 5]"
      ]
     },
     "execution_count": 21,
     "metadata": {},
     "output_type": "execute_result"
    }
   ],
   "source": [
    "hay_palabras_largas('Marco Julio', k = 5)"
   ]
  },
  {
   "cell_type": "code",
   "execution_count": 13,
   "id": "95eecaad",
   "metadata": {
    "slideshow": {
     "slide_type": "slide"
    }
   },
   "outputs": [],
   "source": [
    "\n",
    "def hay_palabras_largas(cadena,k):\n",
    "    import numpy as np \n",
    "    lista_palabras = cadena.split(' ')\n",
    "    longitudes_palabras = []\n",
    "    for i in lista_palabras:\n",
    "        longitudes_palabras.append(len(i))\n",
    "        \n",
    "    longitudes_palabras = np.array(longitudes_palabras)     \n",
    "    largas = longitudes_palabras >= k\n",
    "    \n",
    "    if any(largas):\n",
    "        print('Hay palabras largas en el mensaje dado')\n",
    "    else:\n",
    "        print('No hay palabras largas en el mensaje dado')\n",
    "    "
   ]
  },
  {
   "cell_type": "code",
   "execution_count": 17,
   "id": "a0122d66",
   "metadata": {
    "scrolled": true,
    "slideshow": {
     "slide_type": "slide"
    }
   },
   "outputs": [
    {
     "name": "stdout",
     "output_type": "stream",
     "text": [
      "No hay palabras largas en el mensaje dado\n"
     ]
    }
   ],
   "source": [
    "hay_palabras_largas('Marco Julio', k = 6)"
   ]
  },
  {
   "cell_type": "markdown",
   "id": "b740f643",
   "metadata": {
    "slideshow": {
     "slide_type": "slide"
    }
   },
   "source": [
    "## Referentes   \n",
    "\n",
    "* `>=` para arreglos de numpy. \n",
    "* `any()` de python"
   ]
  },
  {
   "cell_type": "code",
   "execution_count": 16,
   "id": "aa4f442a",
   "metadata": {
    "slideshow": {
     "slide_type": "slide"
    }
   },
   "outputs": [
    {
     "data": {
      "text/plain": [
       "array([False, False])"
      ]
     },
     "execution_count": 16,
     "metadata": {},
     "output_type": "execute_result"
    }
   ],
   "source": [
    "import numpy as np \n",
    "np.array([4,3]) >= 5"
   ]
  },
  {
   "cell_type": "code",
   "execution_count": null,
   "id": "85a1f92c",
   "metadata": {},
   "outputs": [],
   "source": []
  }
 ],
 "metadata": {
  "celltoolbar": "Slideshow",
  "kernelspec": {
   "display_name": "Python 3",
   "language": "python",
   "name": "python3"
  },
  "language_info": {
   "codemirror_mode": {
    "name": "ipython",
    "version": 3
   },
   "file_extension": ".py",
   "mimetype": "text/x-python",
   "name": "python",
   "nbconvert_exporter": "python",
   "pygments_lexer": "ipython3",
   "version": "3.8.8"
  },
  "latex_envs": {
   "LaTeX_envs_menu_present": true,
   "autoclose": false,
   "autocomplete": false,
   "bibliofile": "biblio.bib",
   "cite_by": "apalike",
   "current_citInitial": 1,
   "eqLabelWithNumbers": true,
   "eqNumInitial": 1,
   "hotkeys": {
    "equation": "Ctrl-E",
    "itemize": "Ctrl-I"
   },
   "labels_anchors": false,
   "latex_user_defs": false,
   "report_style_numbering": false,
   "user_envs_cfg": false
  }
 },
 "nbformat": 4,
 "nbformat_minor": 5
}
