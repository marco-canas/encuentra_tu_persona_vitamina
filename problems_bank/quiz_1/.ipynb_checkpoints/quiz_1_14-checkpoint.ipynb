{
 "cells": [
  {
   "cell_type": "markdown",
   "id": "fe7a08ce",
   "metadata": {},
   "source": [
    "\n",
    "<table align=\"left\">\n",
    "  <td>\n",
    "    <a href=\"https://colab.research.google.com/github/marco-canas/taca/blob/main/ref/geron/chap_2/5_prepare_for_algorithms/1_prepare_for_algorithms.ipynb\" target=\"_parent\"><img src=\"https://colab.research.google.com/assets/colab-badge.svg\" alt=\"Open In Colab\"/></a>\n",
    "  </td>\n",
    "  <td>\n",
    "    <a target=\"_blank\" href=\"https://kaggle.com/kernels/welcome?src=https://github.com/marco-canas/taca/blob/main/ref/geron/chap_2/5_prepare_for_algorithms/1_prepare_for_algorithms.ipynb\"><img src=\"https://kaggle.com/static/images/open-in-kaggle.svg\" /></a>\n",
    "  </td>\n",
    "</table> \n"
   ]
  },
  {
   "cell_type": "markdown",
   "id": "49069578",
   "metadata": {},
   "source": [
    "# Quiz 1.14"
   ]
  },
  {
   "cell_type": "markdown",
   "id": "253d4ee0",
   "metadata": {},
   "source": [
    "Escribe un programa que lea una cadena y un número entero $k$ y muestre el mensaje \"Hay palabras largas\" si alguna de las palabras de la cadena es de longitud mayor o igual que $k$, y \"No hay palabras largas\" en caso contrario."
   ]
  },
  {
   "cell_type": "markdown",
   "id": "94adb40c",
   "metadata": {},
   "source": [
    "**Ejemplo:**  \n",
    "\n",
    "Si la cadena dada por el usuario es:\n",
    "\n",
    "\"¿Por qu´e dos lenguajes de programación? Python y C son bien diferentes. El primero es un\n",
    "lenguaje de muy alto nivel que permite expresar algoritmos de forma casi directa (ha llegado\n",
    "a considerarse 'pseudocódigo ejecutable') y hemos comprobado que se trata de un lenguaje\n",
    "particularmente adecuado para la ense˜nanza de la programaci´on. El lenguaje C exige una gran\n",
    "atenci´on a multitud de detalles que dificultan la implementaci´on de algoritmos a un estudiante\n",
    "que se enfrenta por primera vez al desarrollo de programas. No obstante, C sigue siendo un\n",
    "lenguaje de programaci´on de referencia y debe formar parte del curr´ıculum de todo inform´atico;\n",
    "y no s´olo por su extendido uso en el mundo profesional: su proximidad al computador nos\n",
    "permite controlar con gran precisi´on el consumo de recursos computacionales.\"\n",
    "\n",
    "y $k$ es igual a 7, entonces: la función debe arrojar el mensaje: \"Hay palabras largas\". "
   ]
  },
  {
   "cell_type": "code",
   "execution_count": 4,
   "id": "1499ea52",
   "metadata": {},
   "outputs": [],
   "source": [
    "def hay_palabras_largas(cadena,k):\n",
    "    return "
   ]
  },
  {
   "cell_type": "code",
   "execution_count": 6,
   "id": "07f3b914",
   "metadata": {},
   "outputs": [],
   "source": [
    "hay_palabras_largas('Marco Julio',k = 5)"
   ]
  },
  {
   "cell_type": "code",
   "execution_count": 7,
   "id": "5d433a47",
   "metadata": {},
   "outputs": [],
   "source": [
    "def hay_palabras_largas(cadena,k):\n",
    "    lista_palabras = cadena.split(' ')\n",
    "    return lista_palabras"
   ]
  },
  {
   "cell_type": "code",
   "execution_count": 8,
   "id": "9714a95a",
   "metadata": {},
   "outputs": [
    {
     "data": {
      "text/plain": [
       "['Marco', 'Julio']"
      ]
     },
     "execution_count": 8,
     "metadata": {},
     "output_type": "execute_result"
    }
   ],
   "source": [
    "hay_palabras_largas('Marco Julio',k = 5)"
   ]
  },
  {
   "cell_type": "code",
   "execution_count": 10,
   "id": "1d6900e8",
   "metadata": {},
   "outputs": [],
   "source": [
    "def hay_palabras_largas(cadena,k):\n",
    "    lista_palabras = cadena.split(' ')\n",
    "    longitudes_palabras = []\n",
    "    for i in lista_palabras:\n",
    "        longitudes_palabras.append(len(i))\n",
    "    return longitudes_palabras"
   ]
  },
  {
   "cell_type": "code",
   "execution_count": 11,
   "id": "90d64539",
   "metadata": {},
   "outputs": [
    {
     "data": {
      "text/plain": [
       "[5, 5]"
      ]
     },
     "execution_count": 11,
     "metadata": {},
     "output_type": "execute_result"
    }
   ],
   "source": [
    "hay_palabras_largas('Marco Julio',k = 5)"
   ]
  },
  {
   "cell_type": "code",
   "execution_count": null,
   "id": "95eecaad",
   "metadata": {},
   "outputs": [],
   "source": []
  },
  {
   "cell_type": "code",
   "execution_count": null,
   "id": "a0122d66",
   "metadata": {},
   "outputs": [],
   "source": []
  }
 ],
 "metadata": {
  "kernelspec": {
   "display_name": "Python 3",
   "language": "python",
   "name": "python3"
  },
  "language_info": {
   "codemirror_mode": {
    "name": "ipython",
    "version": 3
   },
   "file_extension": ".py",
   "mimetype": "text/x-python",
   "name": "python",
   "nbconvert_exporter": "python",
   "pygments_lexer": "ipython3",
   "version": "3.8.8"
  },
  "latex_envs": {
   "LaTeX_envs_menu_present": true,
   "autoclose": false,
   "autocomplete": false,
   "bibliofile": "biblio.bib",
   "cite_by": "apalike",
   "current_citInitial": 1,
   "eqLabelWithNumbers": true,
   "eqNumInitial": 1,
   "hotkeys": {
    "equation": "Ctrl-E",
    "itemize": "Ctrl-I"
   },
   "labels_anchors": false,
   "latex_user_defs": false,
   "report_style_numbering": false,
   "user_envs_cfg": false
  }
 },
 "nbformat": 4,
 "nbformat_minor": 5
}
