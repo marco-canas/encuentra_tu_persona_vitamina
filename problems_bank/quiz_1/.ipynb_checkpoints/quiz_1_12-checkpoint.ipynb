{
 "cells": [
  {
   "cell_type": "markdown",
   "id": "f22fc524",
   "metadata": {},
   "source": [
    "<table align=\"left\">\n",
    "  <td>\n",
    "    <a href=\"https://colab.research.google.com/github/marco-canas/taca/blob/main/ref/geron/chap_2/5_prepare_for_algorithms/1_prepare_for_algorithms.ipynb\" target=\"_parent\"><img src=\"https://colab.research.google.com/assets/colab-badge.svg\" alt=\"Open In Colab\"/></a>\n",
    "  </td>\n",
    "  <td>\n",
    "    <a target=\"_blank\" href=\"https://kaggle.com/kernels/welcome?src=https://github.com/marco-canas/taca/blob/main/ref/geron/chap_2/5_prepare_for_algorithms/1_prepare_for_algorithms.ipynb\"><img src=\"https://kaggle.com/static/images/open-in-kaggle.svg\" /></a>\n",
    "  </td>\n",
    "</table> "
   ]
  },
  {
   "cell_type": "markdown",
   "id": "f39b24cc",
   "metadata": {},
   "source": [
    "# Quiz 1.12"
   ]
  },
  {
   "cell_type": "markdown",
   "id": "bf6d9034",
   "metadata": {},
   "source": [
    "Escriba una función que lea una cadena y un número entero $k$ y nos diga si alguna de sus palabras tiene una longitud de $k$ caracteres.\n"
   ]
  },
  {
   "cell_type": "markdown",
   "id": "f3daf11c",
   "metadata": {},
   "source": [
    "## Solución"
   ]
  },
  {
   "cell_type": "code",
   "execution_count": 1,
   "id": "cc5ef790",
   "metadata": {},
   "outputs": [],
   "source": [
    "def alguna_palabra_tiene_longitud_k(cadena,k):\n",
    "    pass "
   ]
  },
  {
   "cell_type": "code",
   "execution_count": null,
   "id": "a137d505",
   "metadata": {},
   "outputs": [],
   "source": [
    "cadena = 'Marco Julio Cañas Campillo'\n",
    "k = 3 \n",
    "alguna_palabra_tiene_longitud_k(cadena,k):"
   ]
  }
 ],
 "metadata": {
  "kernelspec": {
   "display_name": "Python 3",
   "language": "python",
   "name": "python3"
  },
  "language_info": {
   "codemirror_mode": {
    "name": "ipython",
    "version": 3
   },
   "file_extension": ".py",
   "mimetype": "text/x-python",
   "name": "python",
   "nbconvert_exporter": "python",
   "pygments_lexer": "ipython3",
   "version": "3.8.8"
  },
  "latex_envs": {
   "LaTeX_envs_menu_present": true,
   "autoclose": false,
   "autocomplete": false,
   "bibliofile": "biblio.bib",
   "cite_by": "apalike",
   "current_citInitial": 1,
   "eqLabelWithNumbers": true,
   "eqNumInitial": 1,
   "hotkeys": {
    "equation": "Ctrl-E",
    "itemize": "Ctrl-I"
   },
   "labels_anchors": false,
   "latex_user_defs": false,
   "report_style_numbering": false,
   "user_envs_cfg": false
  }
 },
 "nbformat": 4,
 "nbformat_minor": 5
}
