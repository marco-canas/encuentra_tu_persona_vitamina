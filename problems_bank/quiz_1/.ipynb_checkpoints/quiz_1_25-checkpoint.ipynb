{
 "cells": [
  {
   "cell_type": "markdown",
   "id": "0d8bf1ee",
   "metadata": {},
   "source": [
    "<table align=\"left\">\n",
    "  <td>\n",
    "    <a href=\"https://colab.research.google.com/github/marco-canas/taca/blob/main/ref/geron/chap_2/5_prepare_for_algorithms/1_prepare_for_algorithms.ipynb\" target=\"_parent\"><img src=\"https://colab.research.google.com/assets/colab-badge.svg\" alt=\"Open In Colab\"/></a>\n",
    "  </td>\n",
    "  <td>\n",
    "    <a target=\"_blank\" href=\"https://kaggle.com/kernels/welcome?src=https://github.com/marco-canas/taca/blob/main/ref/geron/chap_2/5_prepare_for_algorithms/1_prepare_for_algorithms.ipynb\"><img src=\"https://kaggle.com/static/images/open-in-kaggle.svg\" /></a>\n",
    "  </td>\n",
    "</table> "
   ]
  },
  {
   "cell_type": "markdown",
   "id": "9e830db8",
   "metadata": {},
   "source": [
    "# Quiz 1.25"
   ]
  },
  {
   "cell_type": "markdown",
   "id": "1ecbb95e",
   "metadata": {},
   "source": [
    "Diseñe una función que calcule $\\sum_{i = a}^{b} i$ dados a y b. \n",
    "\n",
    "Si $a$ es mayor que $b$, la función devolverá el valor 0."
   ]
  },
  {
   "cell_type": "markdown",
   "id": "f9c31798",
   "metadata": {},
   "source": [
    "## Solución:"
   ]
  },
  {
   "cell_type": "code",
   "execution_count": 6,
   "id": "dcb8fded",
   "metadata": {},
   "outputs": [],
   "source": [
    "import numpy as np "
   ]
  },
  {
   "cell_type": "code",
   "execution_count": 4,
   "id": "b6cc7819",
   "metadata": {},
   "outputs": [],
   "source": [
    "def suma_ab(a,b):\n",
    "    return "
   ]
  },
  {
   "cell_type": "code",
   "execution_count": 5,
   "id": "75041a94",
   "metadata": {},
   "outputs": [],
   "source": [
    "suma_ab(1,10)"
   ]
  },
  {
   "cell_type": "code",
   "execution_count": 7,
   "id": "35cf9c95",
   "metadata": {},
   "outputs": [],
   "source": [
    "def suma_ab(a,b):\n",
    "    sumandos = np.arange(a,b+1)\n",
    "    suma = np.sum(sumandos)\n",
    "    return suma "
   ]
  },
  {
   "cell_type": "code",
   "execution_count": 8,
   "id": "3ac55c61",
   "metadata": {},
   "outputs": [
    {
     "data": {
      "text/plain": [
       "55"
      ]
     },
     "execution_count": 8,
     "metadata": {},
     "output_type": "execute_result"
    }
   ],
   "source": [
    "suma_ab(1,10)"
   ]
  },
  {
   "cell_type": "code",
   "execution_count": 11,
   "id": "b306b643",
   "metadata": {},
   "outputs": [],
   "source": [
    "def suma_ab(a,b):\n",
    "    if a <= b:\n",
    "        sumandos = np.arange(a,b+1)\n",
    "        suma = np.sum(sumandos)\n",
    "    else:\n",
    "        suma = 0\n",
    "    return suma "
   ]
  },
  {
   "cell_type": "code",
   "execution_count": 13,
   "id": "de174b97",
   "metadata": {},
   "outputs": [
    {
     "data": {
      "text/plain": [
       "0"
      ]
     },
     "execution_count": 13,
     "metadata": {},
     "output_type": "execute_result"
    }
   ],
   "source": [
    "suma_ab(10,8)"
   ]
  },
  {
   "cell_type": "code",
   "execution_count": null,
   "id": "495bd5b6",
   "metadata": {},
   "outputs": [],
   "source": []
  }
 ],
 "metadata": {
  "kernelspec": {
   "display_name": "Python 3",
   "language": "python",
   "name": "python3"
  },
  "language_info": {
   "codemirror_mode": {
    "name": "ipython",
    "version": 3
   },
   "file_extension": ".py",
   "mimetype": "text/x-python",
   "name": "python",
   "nbconvert_exporter": "python",
   "pygments_lexer": "ipython3",
   "version": "3.8.8"
  },
  "latex_envs": {
   "LaTeX_envs_menu_present": true,
   "autoclose": false,
   "autocomplete": false,
   "bibliofile": "biblio.bib",
   "cite_by": "apalike",
   "current_citInitial": 1,
   "eqLabelWithNumbers": true,
   "eqNumInitial": 1,
   "hotkeys": {
    "equation": "Ctrl-E",
    "itemize": "Ctrl-I"
   },
   "labels_anchors": false,
   "latex_user_defs": false,
   "report_style_numbering": false,
   "user_envs_cfg": false
  }
 },
 "nbformat": 4,
 "nbformat_minor": 5
}
