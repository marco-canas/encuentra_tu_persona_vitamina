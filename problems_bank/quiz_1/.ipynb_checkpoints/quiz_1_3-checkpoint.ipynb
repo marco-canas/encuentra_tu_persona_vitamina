{
 "cells": [
  {
   "cell_type": "markdown",
   "id": "5711ec6e",
   "metadata": {},
   "source": [
    "<table align=\"left\">\n",
    "  <td>\n",
    "    <a href=\"https://colab.research.google.com/github/marco-canas/taca/blob/main/ref/geron/chap_2/5_prepare_for_algorithms/1_prepare_for_algorithms.ipynb\" target=\"_parent\"><img src=\"https://colab.research.google.com/assets/colab-badge.svg\" alt=\"Open In Colab\"/></a>\n",
    "  </td>\n",
    "  <td>\n",
    "    <a target=\"_blank\" href=\"https://kaggle.com/kernels/welcome?src=https://github.com/marco-canas/taca/blob/main/ref/geron/chap_2/5_prepare_for_algorithms/1_prepare_for_algorithms.ipynb\"><img src=\"https://kaggle.com/static/images/open-in-kaggle.svg\" /></a>\n",
    "  </td>\n",
    "</table> "
   ]
  },
  {
   "cell_type": "markdown",
   "id": "318f2a52",
   "metadata": {},
   "source": [
    "Diseña un programa Python que lea un carácter cualquiera desde el teclado, y muestre el mensaje \"Es una MAYÚSCULA\" cuando el carácter sea una letra mayúscula y el mensaje \"Es una MINÚSCULA\" cuando sea una minúscula.   \n",
    "\n",
    "En cualquier otro caso, no mostrará mensaje alguno.  \n",
    "\n",
    "(Considera únicamente letras del alfabeto inglés.)   \n",
    "\n",
    "Pista: aunque parezca una obviedad, recuerda que una letra es minúscula si está entre la ’a’ y la ’z’, y mayúscula si está entre la ’A’ y la ’Z’.\n",
    "\n",
    "Otra Pista: Utilice los métodos `.upper()` y `.lower()`\n"
   ]
  },
  {
   "cell_type": "code",
   "execution_count": 9,
   "id": "1c1aee3f",
   "metadata": {
    "slideshow": {
     "slide_type": "slide"
    }
   },
   "outputs": [],
   "source": [
    "x = \"ñ\""
   ]
  },
  {
   "cell_type": "code",
   "execution_count": 10,
   "id": "9a44ea4d",
   "metadata": {
    "slideshow": {
     "slide_type": "slide"
    }
   },
   "outputs": [
    {
     "data": {
      "text/plain": [
       "False"
      ]
     },
     "execution_count": 10,
     "metadata": {},
     "output_type": "execute_result"
    }
   ],
   "source": [
    "\"a\" < x < \"z\""
   ]
  },
  {
   "cell_type": "code",
   "execution_count": 7,
   "id": "8094fe93",
   "metadata": {
    "slideshow": {
     "slide_type": "slide"
    }
   },
   "outputs": [],
   "source": [
    "y = \"M\" "
   ]
  },
  {
   "cell_type": "code",
   "execution_count": 8,
   "id": "a716b265",
   "metadata": {
    "slideshow": {
     "slide_type": "slide"
    }
   },
   "outputs": [
    {
     "data": {
      "text/plain": [
       "True"
      ]
     },
     "execution_count": 8,
     "metadata": {},
     "output_type": "execute_result"
    }
   ],
   "source": [
    "\"A\" < y < \"Z\" "
   ]
  },
  {
   "cell_type": "code",
   "execution_count": 2,
   "id": "a7801c23",
   "metadata": {},
   "outputs": [
    {
     "data": {
      "text/plain": [
       "'A'"
      ]
     },
     "execution_count": 2,
     "metadata": {},
     "output_type": "execute_result"
    }
   ],
   "source": [
    "\"a\".upper() "
   ]
  },
  {
   "cell_type": "code",
   "execution_count": 3,
   "id": "68abbdd8",
   "metadata": {},
   "outputs": [
    {
     "data": {
      "text/plain": [
       "'b'"
      ]
     },
     "execution_count": 3,
     "metadata": {},
     "output_type": "execute_result"
    }
   ],
   "source": [
    "\"B\".lower() "
   ]
  },
  {
   "cell_type": "code",
   "execution_count": null,
   "id": "b177582e",
   "metadata": {},
   "outputs": [],
   "source": []
  }
 ],
 "metadata": {
  "celltoolbar": "Slideshow",
  "kernelspec": {
   "display_name": "Python 3",
   "language": "python",
   "name": "python3"
  },
  "language_info": {
   "codemirror_mode": {
    "name": "ipython",
    "version": 3
   },
   "file_extension": ".py",
   "mimetype": "text/x-python",
   "name": "python",
   "nbconvert_exporter": "python",
   "pygments_lexer": "ipython3",
   "version": "3.8.8"
  },
  "latex_envs": {
   "LaTeX_envs_menu_present": true,
   "autoclose": false,
   "autocomplete": false,
   "bibliofile": "biblio.bib",
   "cite_by": "apalike",
   "current_citInitial": 1,
   "eqLabelWithNumbers": true,
   "eqNumInitial": 1,
   "hotkeys": {
    "equation": "Ctrl-E",
    "itemize": "Ctrl-I"
   },
   "labels_anchors": false,
   "latex_user_defs": false,
   "report_style_numbering": false,
   "user_envs_cfg": false
  }
 },
 "nbformat": 4,
 "nbformat_minor": 5
}
