{
 "cells": [
  {
   "cell_type": "markdown",
   "id": "85e5a641",
   "metadata": {
    "slideshow": {
     "slide_type": "slide"
    }
   },
   "source": [
    "<table align=\"left\">\n",
    "  <td>\n",
    "    <a href=\"https://colab.research.google.com/github/marco-canas/taca/blob/main/ref/geron/chap_2/5_prepare_for_algorithms/1_prepare_for_algorithms.ipynb\" target=\"_parent\"><img src=\"https://colab.research.google.com/assets/colab-badge.svg\" alt=\"Open In Colab\"/></a>\n",
    "  </td>\n",
    "  <td>\n",
    "    <a target=\"_blank\" href=\"https://kaggle.com/kernels/welcome?src=https://github.com/marco-canas/taca/blob/main/ref/geron/chap_2/5_prepare_for_algorithms/1_prepare_for_algorithms.ipynb\"><img src=\"https://kaggle.com/static/images/open-in-kaggle.svg\" /></a>\n",
    "  </td>\n",
    "</table> "
   ]
  },
  {
   "cell_type": "markdown",
   "id": "747f1ea6",
   "metadata": {
    "slideshow": {
     "slide_type": "slide"
    }
   },
   "source": [
    "# Quiz 1.13"
   ]
  },
  {
   "cell_type": "markdown",
   "id": "0b2a1059",
   "metadata": {
    "slideshow": {
     "slide_type": "slide"
    }
   },
   "source": [
    "Escriba una función que lea una cadena y un número entero $k$ y nos diga si todas sus palabras tienen una longitud de $k$ caracteres."
   ]
  },
  {
   "cell_type": "markdown",
   "id": "169401d3",
   "metadata": {
    "slideshow": {
     "slide_type": "slide"
    }
   },
   "source": [
    "Sugerencia: Utilice la función `all()` de python que determina si todos los elementos de una lista son de valor booleano `True`. "
   ]
  },
  {
   "cell_type": "markdown",
   "id": "69b0535e",
   "metadata": {
    "slideshow": {
     "slide_type": "slide"
    }
   },
   "source": [
    "## Solución"
   ]
  },
  {
   "cell_type": "code",
   "execution_count": 11,
   "id": "447b069e",
   "metadata": {
    "slideshow": {
     "slide_type": "slide"
    }
   },
   "outputs": [],
   "source": [
    "def todas_palabras_longitud_k(cadena,k):\n",
    "    word_list = cadena.split(' ')\n",
    "    longitudes = []\n",
    "    for word in word_list:\n",
    "        longitudes.append(len(word))\n",
    "    a = longitudes[0]\n",
    "    booleanos = []\n",
    "    for longitud in longitudes:\n",
    "        if longitud == a:\n",
    "            booleanos.append(True)\n",
    "        else:\n",
    "            booleanos.append(False)\n",
    "    if all(booleanos):        \n",
    "        print('Todas las palabras del mensaje tienen longitud ', k)\n",
    "    else:\n",
    "        print('No todas las palabras del mensaje tienen longitud ', k)"
   ]
  },
  {
   "cell_type": "code",
   "execution_count": 12,
   "id": "7504fe4c",
   "metadata": {
    "slideshow": {
     "slide_type": "slide"
    }
   },
   "outputs": [],
   "source": [
    "cadena1 = 'Marco Julio Cañas' \n",
    "k1 = 5\n",
    "cadena2 = 'Marco Julio Cañas Campillo' \n",
    "k2 = 4"
   ]
  },
  {
   "cell_type": "code",
   "execution_count": 13,
   "id": "6e5b3e09",
   "metadata": {
    "scrolled": true,
    "slideshow": {
     "slide_type": "slide"
    }
   },
   "outputs": [
    {
     "name": "stdout",
     "output_type": "stream",
     "text": [
      "Todas las palabras del mensaje tienen longitud  5\n"
     ]
    }
   ],
   "source": [
    "todas_palabras_longitud_k(cadena1,k1)"
   ]
  },
  {
   "cell_type": "code",
   "execution_count": 14,
   "id": "51323525",
   "metadata": {
    "slideshow": {
     "slide_type": "slide"
    }
   },
   "outputs": [
    {
     "name": "stdout",
     "output_type": "stream",
     "text": [
      "No todas las palabras del mensaje tienen longitud  5\n"
     ]
    }
   ],
   "source": [
    "todas_palabras_longitud_k(cadena2,k1)"
   ]
  },
  {
   "cell_type": "markdown",
   "id": "1b3e3aa2",
   "metadata": {
    "slideshow": {
     "slide_type": "slide"
    }
   },
   "source": [
    "## Sobre el uso de la función `all()` de Python "
   ]
  },
  {
   "cell_type": "code",
   "execution_count": 2,
   "id": "384f7f9d",
   "metadata": {
    "slideshow": {
     "slide_type": "slide"
    }
   },
   "outputs": [],
   "source": [
    "a = [5,5]"
   ]
  },
  {
   "cell_type": "code",
   "execution_count": 4,
   "id": "e9eb636f",
   "metadata": {
    "slideshow": {
     "slide_type": "slide"
    }
   },
   "outputs": [
    {
     "data": {
      "text/plain": [
       "True"
      ]
     },
     "execution_count": 4,
     "metadata": {},
     "output_type": "execute_result"
    }
   ],
   "source": [
    "all(a)"
   ]
  },
  {
   "cell_type": "code",
   "execution_count": 15,
   "id": "4ede6280",
   "metadata": {
    "slideshow": {
     "slide_type": "slide"
    }
   },
   "outputs": [
    {
     "data": {
      "text/plain": [
       "False"
      ]
     },
     "execution_count": 15,
     "metadata": {},
     "output_type": "execute_result"
    }
   ],
   "source": [
    "b=[True,False]\n",
    "all(b)"
   ]
  },
  {
   "cell_type": "markdown",
   "id": "3baf508b",
   "metadata": {
    "slideshow": {
     "slide_type": "slide"
    }
   },
   "source": [
    "## Referentes  \n",
    "\n",
    "* La función `all()` de python: https://www.geeksforgeeks.org/python-all-function/#:~:text=The%20all%20%28%29%20function%20is%20an%20inbuilt%20function,the%20iterable%20object%20is%20empty.%20Syntax%3A%20all%20%28iterable%29\n",
    "\n",
    "* La función `all()`  https://www.w3schools.com/python/ref_func_all.asp#:~:text=Python%20all%20%28%29%20Function%201%20Definition%20and%20Usage.,all%20the%20keys%20are%20true%2C%20not%20the%20values."
   ]
  },
  {
   "cell_type": "code",
   "execution_count": null,
   "id": "11963f8c",
   "metadata": {},
   "outputs": [],
   "source": []
  }
 ],
 "metadata": {
  "celltoolbar": "Slideshow",
  "kernelspec": {
   "display_name": "Python 3",
   "language": "python",
   "name": "python3"
  },
  "language_info": {
   "codemirror_mode": {
    "name": "ipython",
    "version": 3
   },
   "file_extension": ".py",
   "mimetype": "text/x-python",
   "name": "python",
   "nbconvert_exporter": "python",
   "pygments_lexer": "ipython3",
   "version": "3.8.8"
  },
  "latex_envs": {
   "LaTeX_envs_menu_present": true,
   "autoclose": false,
   "autocomplete": false,
   "bibliofile": "biblio.bib",
   "cite_by": "apalike",
   "current_citInitial": 1,
   "eqLabelWithNumbers": true,
   "eqNumInitial": 1,
   "hotkeys": {
    "equation": "Ctrl-E",
    "itemize": "Ctrl-I"
   },
   "labels_anchors": false,
   "latex_user_defs": false,
   "report_style_numbering": false,
   "user_envs_cfg": false
  }
 },
 "nbformat": 4,
 "nbformat_minor": 5
}
