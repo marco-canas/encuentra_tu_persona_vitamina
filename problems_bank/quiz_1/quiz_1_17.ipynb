{
 "cells": [
  {
   "cell_type": "markdown",
   "id": "768a14e8",
   "metadata": {},
   "source": [
    "<table align=\"left\">\n",
    "  <td>\n",
    "    <a href=\"https://colab.research.google.com/github/marco-canas/taca/blob/main/ref/geron/chap_2/5_prepare_for_algorithms/1_prepare_for_algorithms.ipynb\" target=\"_parent\"><img src=\"https://colab.research.google.com/assets/colab-badge.svg\" alt=\"Open In Colab\"/></a>\n",
    "  </td>\n",
    "  <td>\n",
    "    <a target=\"_blank\" href=\"https://kaggle.com/kernels/welcome?src=https://github.com/marco-canas/taca/blob/main/ref/geron/chap_2/5_prepare_for_algorithms/1_prepare_for_algorithms.ipynb\"><img src=\"https://kaggle.com/static/images/open-in-kaggle.svg\" /></a>\n",
    "  </td>\n",
    "</table> "
   ]
  },
  {
   "cell_type": "markdown",
   "id": "ea982fd9",
   "metadata": {},
   "source": [
    "# Quiz 1.17"
   ]
  },
  {
   "cell_type": "markdown",
   "id": "241b0dbe",
   "metadata": {},
   "source": [
    "Diseña un programa que construya una lista con los $n$ primeros números primos (ojo: no los primos entre 1 y $n$, sino los $n$ primeros números primos).   \n",
    "\n",
    "¿Necesitas usar `.append()`?   \n",
    "\n",
    "¿Puedes reservar en primer lugar un vector con $n$ celdas nulas y asignarle a cada una de ellas uno de los\n",
    "números primos?"
   ]
  },
  {
   "cell_type": "code",
   "execution_count": 8,
   "id": "6e40595b",
   "metadata": {},
   "outputs": [],
   "source": [
    "import numpy as np "
   ]
  },
  {
   "cell_type": "code",
   "execution_count": 2,
   "id": "16ad808f",
   "metadata": {},
   "outputs": [],
   "source": [
    "def n_primeros_primos(n):\n",
    "    nprimos = []\n",
    "    return nprimos "
   ]
  },
  {
   "cell_type": "code",
   "execution_count": 5,
   "id": "3eb3e173",
   "metadata": {},
   "outputs": [
    {
     "data": {
      "text/plain": [
       "[]"
      ]
     },
     "execution_count": 5,
     "metadata": {},
     "output_type": "execute_result"
    }
   ],
   "source": [
    "n_primeros_primos(10)"
   ]
  },
  {
   "cell_type": "code",
   "execution_count": 11,
   "id": "cea91a65",
   "metadata": {},
   "outputs": [],
   "source": [
    "def n_primeros_primos(n):\n",
    "    nprimos = np.arange(2,10*n)\n",
    "    for i in nprimos:\n",
    "        for j in range(i+1,10*n)\n",
    "            \n",
    "    return nprimos "
   ]
  },
  {
   "cell_type": "code",
   "execution_count": 12,
   "id": "ca7b2909",
   "metadata": {},
   "outputs": [
    {
     "data": {
      "text/plain": [
       "array([ 2,  3,  4,  5,  6,  7,  8,  9, 10, 11, 12, 13, 14, 15, 16, 17, 18,\n",
       "       19, 20, 21, 22, 23, 24, 25, 26, 27, 28, 29, 30, 31, 32, 33, 34, 35,\n",
       "       36, 37, 38, 39, 40, 41, 42, 43, 44, 45, 46, 47, 48, 49, 50, 51, 52,\n",
       "       53, 54, 55, 56, 57, 58, 59, 60, 61, 62, 63, 64, 65, 66, 67, 68, 69,\n",
       "       70, 71, 72, 73, 74, 75, 76, 77, 78, 79, 80, 81, 82, 83, 84, 85, 86,\n",
       "       87, 88, 89, 90, 91, 92, 93, 94, 95, 96, 97, 98, 99])"
      ]
     },
     "execution_count": 12,
     "metadata": {},
     "output_type": "execute_result"
    }
   ],
   "source": [
    "n_primeros_primos(10)"
   ]
  },
  {
   "cell_type": "code",
   "execution_count": null,
   "id": "1305d9b1",
   "metadata": {},
   "outputs": [],
   "source": []
  },
  {
   "cell_type": "code",
   "execution_count": null,
   "id": "ed5b7c10",
   "metadata": {},
   "outputs": [],
   "source": []
  },
  {
   "cell_type": "code",
   "execution_count": null,
   "id": "23e6d3e0",
   "metadata": {},
   "outputs": [],
   "source": []
  },
  {
   "cell_type": "code",
   "execution_count": null,
   "id": "0bff9a58",
   "metadata": {},
   "outputs": [],
   "source": []
  },
  {
   "cell_type": "code",
   "execution_count": null,
   "id": "63a9beb4",
   "metadata": {},
   "outputs": [],
   "source": []
  }
 ],
 "metadata": {
  "kernelspec": {
   "display_name": "Python 3",
   "language": "python",
   "name": "python3"
  },
  "language_info": {
   "codemirror_mode": {
    "name": "ipython",
    "version": 3
   },
   "file_extension": ".py",
   "mimetype": "text/x-python",
   "name": "python",
   "nbconvert_exporter": "python",
   "pygments_lexer": "ipython3",
   "version": "3.8.8"
  },
  "latex_envs": {
   "LaTeX_envs_menu_present": true,
   "autoclose": false,
   "autocomplete": false,
   "bibliofile": "biblio.bib",
   "cite_by": "apalike",
   "current_citInitial": 1,
   "eqLabelWithNumbers": true,
   "eqNumInitial": 1,
   "hotkeys": {
    "equation": "Ctrl-E",
    "itemize": "Ctrl-I"
   },
   "labels_anchors": false,
   "latex_user_defs": false,
   "report_style_numbering": false,
   "user_envs_cfg": false
  }
 },
 "nbformat": 4,
 "nbformat_minor": 5
}
