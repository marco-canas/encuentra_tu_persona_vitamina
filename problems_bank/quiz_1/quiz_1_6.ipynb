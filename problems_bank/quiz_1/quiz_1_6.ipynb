{
 "cells": [
  {
   "cell_type": "markdown",
   "id": "914d5c19",
   "metadata": {},
   "source": []
  },
  {
   "cell_type": "markdown",
   "id": "26350e52",
   "metadata": {},
   "source": [
    "# Quiz 1.6"
   ]
  },
  {
   "cell_type": "markdown",
   "id": "37265e8b",
   "metadata": {},
   "source": [
    "La f´ormula \n",
    "\n",
    "$$ C' = C · (1 + x/100)n $$ \n",
    "\n",
    "nos permite obtener el capital final que lograremos a\n",
    "partir de un capital inicial (C), una tasa de inter´es anual (x) en tanto por cien y un n´umero\n",
    "de a˜nos (n). Si lo que nos interesa conocer es el n´umero de a˜nos n que tardaremos en lograr\n",
    "un capital final C\n",
    "0 partiendo de un capital inicial C a una tasa de inter´es anual x, podemos\n",
    "despejar n en la f´ormula del ejercicio 67 de la siguiente manera:\n",
    "\n",
    "$$ n = \\frac{ \\log(C') − \\log(C) }{ \\log(1 + x/100) } $$\n",
    "\n",
    "Escriba una función que obtenga el número de años que se tarda en conseguir un capital final dado a partir de un capital inicial y una tasa de interés anual también dados.   \n",
    "\n",
    "El programa debe tener en cuenta cu´ando se puede realizar el cálculo y cuándo no en función del valor de la tasa de interés (para evitar una división por cero, el cálculo de logaritmos de valores negativos, etc). . . con una excepci´on: si C y C\n",
    "0 son iguales, el n´umero de a˜nos es 0 independientemente de la tasa de inter´es (incluso de la que provocar´ıa un error de divisi´on por cero).\n",
    "\n",
    "(Ejemplos: Para obtener 11 000 ¤ por una inversi´on de 10 000 ¤ al 5% anual es necesario\n",
    "esperar 1.9535 a˜nos. Obtener 11 000 ¤ por una inversi´on de 10 000 ¤ al 0% anual es imposible.\n",
    "Para obtener 10 000 ¤ con una inversi´on de 10 000 ¤ no hay que esperar nada, sea cual sea el\n",
    "inter´es.)"
   ]
  },
  {
   "cell_type": "code",
   "execution_count": null,
   "id": "1cd12c65",
   "metadata": {},
   "outputs": [],
   "source": []
  },
  {
   "cell_type": "code",
   "execution_count": null,
   "id": "47761dc3",
   "metadata": {},
   "outputs": [],
   "source": []
  },
  {
   "cell_type": "code",
   "execution_count": null,
   "id": "9a5da3e8",
   "metadata": {},
   "outputs": [],
   "source": []
  },
  {
   "cell_type": "code",
   "execution_count": null,
   "id": "0a3d43f4",
   "metadata": {},
   "outputs": [],
   "source": []
  }
 ],
 "metadata": {
  "kernelspec": {
   "display_name": "Python 3",
   "language": "python",
   "name": "python3"
  },
  "language_info": {
   "codemirror_mode": {
    "name": "ipython",
    "version": 3
   },
   "file_extension": ".py",
   "mimetype": "text/x-python",
   "name": "python",
   "nbconvert_exporter": "python",
   "pygments_lexer": "ipython3",
   "version": "3.8.8"
  },
  "latex_envs": {
   "LaTeX_envs_menu_present": true,
   "autoclose": false,
   "autocomplete": false,
   "bibliofile": "biblio.bib",
   "cite_by": "apalike",
   "current_citInitial": 1,
   "eqLabelWithNumbers": true,
   "eqNumInitial": 1,
   "hotkeys": {
    "equation": "Ctrl-E",
    "itemize": "Ctrl-I"
   },
   "labels_anchors": false,
   "latex_user_defs": false,
   "report_style_numbering": false,
   "user_envs_cfg": false
  }
 },
 "nbformat": 4,
 "nbformat_minor": 5
}
