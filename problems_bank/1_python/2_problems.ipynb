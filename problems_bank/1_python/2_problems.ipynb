{
 "cells": [
  {
   "cell_type": "markdown",
   "id": "72bcba1d",
   "metadata": {},
   "source": [
    "\n",
    "<table align=\"left\">\n",
    "  <td>\n",
    "    <a href=\"https://colab.research.google.com/github/marco-canas/taca/blob/main/ref/charu/7_ch/7_2_SVD_A_Linear_Algebra_Perspective.ipynb\" target=\"_parent\"><img src=\"https://colab.research.google.com/assets/colab-badge.svg\" alt=\"Open In Colab\"/></a>\n",
    "  </td>\n",
    "  <td>\n",
    "    <a target=\"_blank\" href=\"https://kaggle.com/kernels/welcome?src=https://github.com/marco-canas/taca/blob/main/ref/charu/7_ch/7_2_SVD_A_Linear_Algebra_Perspective.ipynb\"><img src=\"https://kaggle.com/static/images/open-in-kaggle.svg\" /></a>\n",
    "  </td>\n",
    "</table>\n",
    "\n"
   ]
  },
  {
   "cell_type": "markdown",
   "id": "5f2a7de7",
   "metadata": {},
   "source": [
    "# Segunda tanda de problemas sobre introducción a Python"
   ]
  },
  {
   "cell_type": "markdown",
   "id": "aa542234",
   "metadata": {},
   "source": [
    "## Problema 1 "
   ]
  },
  {
   "cell_type": "markdown",
   "id": "7d0265ff",
   "metadata": {},
   "source": [
    "Escriba una función llamada `right_justify` que tome una cadena llamada `s` como parámetro e imprima la\n",
    "cadena con suficientes espacios iniciales para que la última letra de la cadena esté en la columna 70 de la pantalla."
   ]
  },
  {
   "cell_type": "code",
   "execution_count": 3,
   "id": "ba896498",
   "metadata": {},
   "outputs": [],
   "source": [
    "def right_justify(s):\n",
    "    cadena_vacia = 70*' '\n",
    "    return print(cadena_vacia + s) "
   ]
  },
  {
   "cell_type": "code",
   "execution_count": 4,
   "id": "df030b68",
   "metadata": {},
   "outputs": [
    {
     "name": "stdout",
     "output_type": "stream",
     "text": [
      "                                                                      Marco Cañas\n"
     ]
    }
   ],
   "source": [
    "right_justify('Marco Cañas')"
   ]
  },
  {
   "cell_type": "code",
   "execution_count": 5,
   "id": "f88b2d73",
   "metadata": {},
   "outputs": [],
   "source": []
  },
  {
   "cell_type": "markdown",
   "id": "0a374b37",
   "metadata": {},
   "source": [
    "## Problema 2"
   ]
  },
  {
   "cell_type": "code",
   "execution_count": null,
   "id": "8c2731e0",
   "metadata": {},
   "outputs": [],
   "source": []
  },
  {
   "cell_type": "code",
   "execution_count": null,
   "id": "357a62f2",
   "metadata": {},
   "outputs": [],
   "source": []
  },
  {
   "cell_type": "code",
   "execution_count": null,
   "id": "c984be55",
   "metadata": {},
   "outputs": [],
   "source": []
  },
  {
   "cell_type": "code",
   "execution_count": null,
   "id": "d3125b46",
   "metadata": {},
   "outputs": [],
   "source": []
  }
 ],
 "metadata": {
  "kernelspec": {
   "display_name": "Python 3",
   "language": "python",
   "name": "python3"
  },
  "language_info": {
   "codemirror_mode": {
    "name": "ipython",
    "version": 3
   },
   "file_extension": ".py",
   "mimetype": "text/x-python",
   "name": "python",
   "nbconvert_exporter": "python",
   "pygments_lexer": "ipython3",
   "version": "3.8.8"
  },
  "latex_envs": {
   "LaTeX_envs_menu_present": true,
   "autoclose": false,
   "autocomplete": false,
   "bibliofile": "biblio.bib",
   "cite_by": "apalike",
   "current_citInitial": 1,
   "eqLabelWithNumbers": true,
   "eqNumInitial": 1,
   "hotkeys": {
    "equation": "Ctrl-E",
    "itemize": "Ctrl-I"
   },
   "labels_anchors": false,
   "latex_user_defs": false,
   "report_style_numbering": false,
   "user_envs_cfg": false
  }
 },
 "nbformat": 4,
 "nbformat_minor": 5
}
