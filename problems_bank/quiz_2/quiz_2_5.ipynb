{
 "cells": [
  {
   "cell_type": "code",
   "execution_count": null,
   "id": "4af4b493",
   "metadata": {},
   "outputs": [],
   "source": []
  },
  {
   "cell_type": "markdown",
   "id": "8208761a",
   "metadata": {},
   "source": [
    "# Quiz 2 Python, Numpy, Pandas"
   ]
  },
  {
   "cell_type": "markdown",
   "id": "82d1bfb5",
   "metadata": {},
   "source": [
    "## Punto 1 Python"
   ]
  },
  {
   "cell_type": "markdown",
   "id": "d9e1b4ec",
   "metadata": {},
   "source": []
  },
  {
   "cell_type": "markdown",
   "id": "b49426b6",
   "metadata": {},
   "source": [
    "## Punto 2 Numpy"
   ]
  },
  {
   "cell_type": "markdown",
   "id": "b3a74344",
   "metadata": {},
   "source": []
  },
  {
   "cell_type": "markdown",
   "id": "5e2a5584",
   "metadata": {},
   "source": [
    "## Punto 3 Pandas "
   ]
  },
  {
   "cell_type": "markdown",
   "id": "43cfcbe4",
   "metadata": {},
   "source": [
    "Saque las filas cuyo valor de edad sea mayor que 20"
   ]
  },
  {
   "cell_type": "code",
   "execution_count": null,
   "id": "81f23dce",
   "metadata": {},
   "outputs": [],
   "source": []
  }
 ],
 "metadata": {
  "kernelspec": {
   "display_name": "Python 3 (ipykernel)",
   "language": "python",
   "name": "python3"
  },
  "language_info": {
   "codemirror_mode": {
    "name": "ipython",
    "version": 3
   },
   "file_extension": ".py",
   "mimetype": "text/x-python",
   "name": "python",
   "nbconvert_exporter": "python",
   "pygments_lexer": "ipython3",
   "version": "3.9.7"
  }
 },
 "nbformat": 4,
 "nbformat_minor": 5
}
