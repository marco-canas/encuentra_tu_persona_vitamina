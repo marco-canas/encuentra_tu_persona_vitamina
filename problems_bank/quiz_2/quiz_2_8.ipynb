{
 "cells": [
  {
   "cell_type": "code",
   "execution_count": null,
   "id": "4af4b493",
   "metadata": {},
   "outputs": [],
   "source": []
  },
  {
   "cell_type": "markdown",
   "id": "8208761a",
   "metadata": {},
   "source": [
    "# Quiz 2 Python, Numpy, Pandas"
   ]
  },
  {
   "cell_type": "markdown",
   "id": "82d1bfb5",
   "metadata": {},
   "source": [
    "### Punto 1 Python"
   ]
  },
  {
   "cell_type": "markdown",
   "id": "b49426b6",
   "metadata": {},
   "source": [
    "### Punto 2 NumPy"
   ]
  },
  {
   "cell_type": "markdown",
   "id": "ba1011fc",
   "metadata": {},
   "source": [
    "### Punto Pandas"
   ]
  },
  {
   "cell_type": "markdown",
   "id": "78a0b88d",
   "metadata": {},
   "source": [
    "Filtar información para la que la columna A tiene valores mayores a 0.5"
   ]
  },
  {
   "cell_type": "code",
   "execution_count": 6,
   "id": "0d82daa8",
   "metadata": {},
   "outputs": [
    {
     "data": {
      "text/html": [
       "<div>\n",
       "<style scoped>\n",
       "    .dataframe tbody tr th:only-of-type {\n",
       "        vertical-align: middle;\n",
       "    }\n",
       "\n",
       "    .dataframe tbody tr th {\n",
       "        vertical-align: top;\n",
       "    }\n",
       "\n",
       "    .dataframe thead th {\n",
       "        text-align: right;\n",
       "    }\n",
       "</style>\n",
       "<table border=\"1\" class=\"dataframe\">\n",
       "  <thead>\n",
       "    <tr style=\"text-align: right;\">\n",
       "      <th></th>\n",
       "      <th>A</th>\n",
       "      <th>B</th>\n",
       "      <th>C</th>\n",
       "      <th>D</th>\n",
       "    </tr>\n",
       "  </thead>\n",
       "  <tbody>\n",
       "    <tr>\n",
       "      <th>2022-11-02</th>\n",
       "      <td>0.456860</td>\n",
       "      <td>0.613778</td>\n",
       "      <td>-0.759654</td>\n",
       "      <td>-1.253118</td>\n",
       "    </tr>\n",
       "    <tr>\n",
       "      <th>2022-11-03</th>\n",
       "      <td>-0.835983</td>\n",
       "      <td>0.239892</td>\n",
       "      <td>1.891466</td>\n",
       "      <td>-1.291317</td>\n",
       "    </tr>\n",
       "    <tr>\n",
       "      <th>2022-11-04</th>\n",
       "      <td>-0.500152</td>\n",
       "      <td>0.024677</td>\n",
       "      <td>-0.994742</td>\n",
       "      <td>-0.407477</td>\n",
       "    </tr>\n",
       "    <tr>\n",
       "      <th>2022-11-05</th>\n",
       "      <td>-0.235544</td>\n",
       "      <td>1.150938</td>\n",
       "      <td>-0.437228</td>\n",
       "      <td>1.142368</td>\n",
       "    </tr>\n",
       "    <tr>\n",
       "      <th>2022-11-06</th>\n",
       "      <td>1.009205</td>\n",
       "      <td>-0.652628</td>\n",
       "      <td>-1.638493</td>\n",
       "      <td>0.592866</td>\n",
       "    </tr>\n",
       "    <tr>\n",
       "      <th>2022-11-07</th>\n",
       "      <td>-2.281463</td>\n",
       "      <td>0.973666</td>\n",
       "      <td>-0.140357</td>\n",
       "      <td>-1.566784</td>\n",
       "    </tr>\n",
       "  </tbody>\n",
       "</table>\n",
       "</div>"
      ],
      "text/plain": [
       "                   A         B         C         D\n",
       "2022-11-02  0.456860  0.613778 -0.759654 -1.253118\n",
       "2022-11-03 -0.835983  0.239892  1.891466 -1.291317\n",
       "2022-11-04 -0.500152  0.024677 -0.994742 -0.407477\n",
       "2022-11-05 -0.235544  1.150938 -0.437228  1.142368\n",
       "2022-11-06  1.009205 -0.652628 -1.638493  0.592866\n",
       "2022-11-07 -2.281463  0.973666 -0.140357 -1.566784"
      ]
     },
     "execution_count": 6,
     "metadata": {},
     "output_type": "execute_result"
    }
   ],
   "source": [
    "import numpy as np\n",
    "import pandas as pd \n",
    "\n",
    "fechas = pd.date_range(start = '11/2/2022', periods = 6) # Definir series de tiempo como índice\n",
    "num_arr = np.random.randn(6, 4) # Pasar en una matriz aleatoria numpy\n",
    "columnas = ['A', 'B', 'C', 'D'] # Use la lista como nombres de columna\n",
    "df = pd.DataFrame(num_arr, index=fechas, columns=columnas)\n",
    "df"
   ]
  },
  {
   "cell_type": "code",
   "execution_count": null,
   "id": "4e770b4b",
   "metadata": {},
   "outputs": [],
   "source": []
  }
 ],
 "metadata": {
  "kernelspec": {
   "display_name": "Python 3 (ipykernel)",
   "language": "python",
   "name": "python3"
  },
  "language_info": {
   "codemirror_mode": {
    "name": "ipython",
    "version": 3
   },
   "file_extension": ".py",
   "mimetype": "text/x-python",
   "name": "python",
   "nbconvert_exporter": "python",
   "pygments_lexer": "ipython3",
   "version": "3.9.7"
  }
 },
 "nbformat": 4,
 "nbformat_minor": 5
}
