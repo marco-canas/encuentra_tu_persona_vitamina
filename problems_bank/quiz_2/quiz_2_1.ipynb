{
 "cells": [
  {
   "cell_type": "code",
   "execution_count": null,
   "id": "99d14a14",
   "metadata": {},
   "outputs": [],
   "source": []
  },
  {
   "cell_type": "markdown",
   "id": "667cec59",
   "metadata": {},
   "source": []
  },
  {
   "cell_type": "markdown",
   "id": "e2547e9e",
   "metadata": {},
   "source": [
    "# Quiz 2 Python, Numpy, Pandas\n",
    "### Punto 1 Python\n",
    "### Punto 2 Numpy\n",
    "### Punto 3 Pandas "
   ]
  },
  {
   "cell_type": "markdown",
   "id": "c18a3173",
   "metadata": {},
   "source": []
  },
  {
   "cell_type": "code",
   "execution_count": null,
   "id": "54a31851",
   "metadata": {},
   "outputs": [],
   "source": []
  },
  {
   "cell_type": "code",
   "execution_count": null,
   "id": "e8db8aee",
   "metadata": {},
   "outputs": [],
   "source": []
  }
 ],
 "metadata": {
  "kernelspec": {
   "display_name": "Python 3 (ipykernel)",
   "language": "python",
   "name": "python3"
  },
  "language_info": {
   "codemirror_mode": {
    "name": "ipython",
    "version": 3
   },
   "file_extension": ".py",
   "mimetype": "text/x-python",
   "name": "python",
   "nbconvert_exporter": "python",
   "pygments_lexer": "ipython3",
   "version": "3.9.7"
  }
 },
 "nbformat": 4,
 "nbformat_minor": 5
}
