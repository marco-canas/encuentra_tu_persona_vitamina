{
 "cells": [
  {
   "cell_type": "markdown",
   "id": "99d45e6f",
   "metadata": {},
   "source": [
    "<table align=\"left\">\n",
    "  <td>\n",
    "    <a href=\"https://colab.research.google.com/github/marco-canas/intro-Machine-Learning/blob/main/classes/class_16_end_to_end_1/class_16_end_to_end_1.ipynb\" target=\"_parent\"><img src=\"https://colab.research.google.com/assets/colab-badge.svg\" alt=\"Open In Colab\"/></a>\n",
    "  </td>\n",
    "</table> "
   ]
  },
  {
   "cell_type": "markdown",
   "id": "1984ef2c",
   "metadata": {},
   "source": [
    "# Quiz 2 Python, Numpy, Pandas"
   ]
  },
  {
   "cell_type": "markdown",
   "id": "41cc51c5",
   "metadata": {},
   "source": [
    "Nombre del Estudiante: "
   ]
  },
  {
   "cell_type": "markdown",
   "id": "dfc88b3d",
   "metadata": {},
   "source": [
    "### Punto 1 Python"
   ]
  },
  {
   "cell_type": "markdown",
   "id": "ed50ead7",
   "metadata": {},
   "source": [
    "### Punto 2 Numpy"
   ]
  },
  {
   "cell_type": "markdown",
   "id": "e2547e9e",
   "metadata": {},
   "source": [
    "### Punto 3 Pandas "
   ]
  },
  {
   "cell_type": "markdown",
   "id": "c18a3173",
   "metadata": {},
   "source": [
    "1. Cree una matriz cuadrada de orden $n$ de entradas enteras aleatorias de números entre 0 y 9 inclusive. \n",
    "2. Cree un DataFrame con esta matriz, y cuyas columnas sean nombradas como $C_{1}, C_{2}, \\ldots, C_{n}$ y cuyos índices empiecen en 1. \n",
    "3. Filtre del DataFrame las filas que tengan un 1 como valor.  "
   ]
  },
  {
   "cell_type": "code",
   "execution_count": 23,
   "id": "54a31851",
   "metadata": {},
   "outputs": [],
   "source": [
    "import numpy as np \n",
    "import pandas as pd \n",
    "\n",
    "np.random.seed(42)\n",
    "M = np.random.randint(0,9, size = (4,4)) \n",
    "M "
   ]
  },
  {
   "cell_type": "code",
   "execution_count": 24,
   "id": "e8db8aee",
   "metadata": {},
   "outputs": [
    {
     "data": {
      "text/plain": [
       "array([[6, 3, 7, 4],\n",
       "       [6, 2, 6, 7],\n",
       "       [4, 3, 7, 7],\n",
       "       [2, 5, 4, 1]])"
      ]
     },
     "execution_count": 24,
     "metadata": {},
     "output_type": "execute_result"
    }
   ],
   "source": []
  },
  {
   "cell_type": "code",
   "execution_count": 25,
   "id": "487ed422",
   "metadata": {},
   "outputs": [],
   "source": [
    "df = pd.DataFrame(M, columns = ['C1', 'C2', 'C3', 'C4'], index = np.arange(1,5)) "
   ]
  },
  {
   "cell_type": "code",
   "execution_count": 26,
   "id": "39fe39dc",
   "metadata": {},
   "outputs": [
    {
     "data": {
      "text/html": [
       "<div>\n",
       "<style scoped>\n",
       "    .dataframe tbody tr th:only-of-type {\n",
       "        vertical-align: middle;\n",
       "    }\n",
       "\n",
       "    .dataframe tbody tr th {\n",
       "        vertical-align: top;\n",
       "    }\n",
       "\n",
       "    .dataframe thead th {\n",
       "        text-align: right;\n",
       "    }\n",
       "</style>\n",
       "<table border=\"1\" class=\"dataframe\">\n",
       "  <thead>\n",
       "    <tr style=\"text-align: right;\">\n",
       "      <th></th>\n",
       "      <th>C1</th>\n",
       "      <th>C2</th>\n",
       "      <th>C3</th>\n",
       "      <th>C4</th>\n",
       "    </tr>\n",
       "  </thead>\n",
       "  <tbody>\n",
       "    <tr>\n",
       "      <th>1</th>\n",
       "      <td>6</td>\n",
       "      <td>3</td>\n",
       "      <td>7</td>\n",
       "      <td>4</td>\n",
       "    </tr>\n",
       "    <tr>\n",
       "      <th>2</th>\n",
       "      <td>6</td>\n",
       "      <td>2</td>\n",
       "      <td>6</td>\n",
       "      <td>7</td>\n",
       "    </tr>\n",
       "    <tr>\n",
       "      <th>3</th>\n",
       "      <td>4</td>\n",
       "      <td>3</td>\n",
       "      <td>7</td>\n",
       "      <td>7</td>\n",
       "    </tr>\n",
       "    <tr>\n",
       "      <th>4</th>\n",
       "      <td>2</td>\n",
       "      <td>5</td>\n",
       "      <td>4</td>\n",
       "      <td>1</td>\n",
       "    </tr>\n",
       "  </tbody>\n",
       "</table>\n",
       "</div>"
      ],
      "text/plain": [
       "   C1  C2  C3  C4\n",
       "1   6   3   7   4\n",
       "2   6   2   6   7\n",
       "3   4   3   7   7\n",
       "4   2   5   4   1"
      ]
     },
     "execution_count": 26,
     "metadata": {},
     "output_type": "execute_result"
    }
   ],
   "source": [
    "df "
   ]
  },
  {
   "cell_type": "code",
   "execution_count": 27,
   "id": "fda264d5",
   "metadata": {},
   "outputs": [],
   "source": [
    "indices_de_filas_donde_hay_unos = [] "
   ]
  },
  {
   "cell_type": "code",
   "execution_count": 28,
   "id": "53201650",
   "metadata": {},
   "outputs": [
    {
     "data": {
      "text/html": [
       "<div>\n",
       "<style scoped>\n",
       "    .dataframe tbody tr th:only-of-type {\n",
       "        vertical-align: middle;\n",
       "    }\n",
       "\n",
       "    .dataframe tbody tr th {\n",
       "        vertical-align: top;\n",
       "    }\n",
       "\n",
       "    .dataframe thead th {\n",
       "        text-align: right;\n",
       "    }\n",
       "</style>\n",
       "<table border=\"1\" class=\"dataframe\">\n",
       "  <thead>\n",
       "    <tr style=\"text-align: right;\">\n",
       "      <th></th>\n",
       "      <th>C1</th>\n",
       "      <th>C2</th>\n",
       "      <th>C3</th>\n",
       "      <th>C4</th>\n",
       "    </tr>\n",
       "  </thead>\n",
       "  <tbody>\n",
       "    <tr>\n",
       "      <th>4</th>\n",
       "      <td>2</td>\n",
       "      <td>5</td>\n",
       "      <td>4</td>\n",
       "      <td>1</td>\n",
       "    </tr>\n",
       "  </tbody>\n",
       "</table>\n",
       "</div>"
      ],
      "text/plain": [
       "   C1  C2  C3  C4\n",
       "4   2   5   4   1"
      ]
     },
     "execution_count": 28,
     "metadata": {},
     "output_type": "execute_result"
    }
   ],
   "source": [
    "for i in range(len(df)):\n",
    "    if sum(df.iloc[i]==1)>0:\n",
    "        indices_de_filas_donde_hay_unos.append(i)\n",
    "df.iloc[indices_de_filas_donde_hay_unos]         "
   ]
  },
  {
   "cell_type": "code",
   "execution_count": null,
   "id": "ff56c0b5",
   "metadata": {},
   "outputs": [],
   "source": []
  }
 ],
 "metadata": {
  "kernelspec": {
   "display_name": "Python 3 (ipykernel)",
   "language": "python",
   "name": "python3"
  },
  "language_info": {
   "codemirror_mode": {
    "name": "ipython",
    "version": 3
   },
   "file_extension": ".py",
   "mimetype": "text/x-python",
   "name": "python",
   "nbconvert_exporter": "python",
   "pygments_lexer": "ipython3",
   "version": "3.9.7"
  }
 },
 "nbformat": 4,
 "nbformat_minor": 5
}
