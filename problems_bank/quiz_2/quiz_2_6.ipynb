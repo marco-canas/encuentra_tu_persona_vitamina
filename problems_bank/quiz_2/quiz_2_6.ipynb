{
 "cells": [
  {
   "cell_type": "code",
   "execution_count": null,
   "id": "4af4b493",
   "metadata": {},
   "outputs": [],
   "source": []
  },
  {
   "cell_type": "markdown",
   "id": "8208761a",
   "metadata": {},
   "source": [
    "# Quiz 2 Python, Numpy, Pandas"
   ]
  },
  {
   "cell_type": "markdown",
   "id": "82d1bfb5",
   "metadata": {},
   "source": [
    "## Punto 1 Python"
   ]
  },
  {
   "cell_type": "markdown",
   "id": "b49426b6",
   "metadata": {},
   "source": []
  },
  {
   "cell_type": "markdown",
   "id": "d5bf7f1a",
   "metadata": {},
   "source": [
    "## Punto 1 Python"
   ]
  },
  {
   "cell_type": "markdown",
   "id": "fd0a868a",
   "metadata": {},
   "source": []
  },
  {
   "cell_type": "markdown",
   "id": "411f3018",
   "metadata": {},
   "source": [
    "## Punto 3 Pandas"
   ]
  },
  {
   "cell_type": "markdown",
   "id": "d5b2f855",
   "metadata": {},
   "source": [
    "* Muestre las primeras 3 filas de df\n",
    "* Saque las columnas de animales y edades de df"
   ]
  },
  {
   "cell_type": "code",
   "execution_count": null,
   "id": "f1f482ed",
   "metadata": {},
   "outputs": [],
   "source": []
  }
 ],
 "metadata": {
  "kernelspec": {
   "display_name": "Python 3 (ipykernel)",
   "language": "python",
   "name": "python3"
  },
  "language_info": {
   "codemirror_mode": {
    "name": "ipython",
    "version": 3
   },
   "file_extension": ".py",
   "mimetype": "text/x-python",
   "name": "python",
   "nbconvert_exporter": "python",
   "pygments_lexer": "ipython3",
   "version": "3.9.7"
  }
 },
 "nbformat": 4,
 "nbformat_minor": 5
}
