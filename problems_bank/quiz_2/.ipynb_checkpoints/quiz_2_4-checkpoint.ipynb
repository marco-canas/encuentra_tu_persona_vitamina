{
 "cells": [
  {
   "cell_type": "code",
   "execution_count": null,
   "id": "4af4b493",
   "metadata": {},
   "outputs": [],
   "source": []
  },
  {
   "cell_type": "markdown",
   "id": "8208761a",
   "metadata": {},
   "source": [
    "# Quiz 2 Python, Numpy, Pandas"
   ]
  },
  {
   "cell_type": "markdown",
   "id": "82d1bfb5",
   "metadata": {},
   "source": [
    "## Punto 1 Python"
   ]
  },
  {
   "cell_type": "markdown",
   "id": "5fcc593f",
   "metadata": {},
   "source": [
    "* Cree una lista con los números pares menores que 20\n",
    "* "
   ]
  },
  {
   "cell_type": "markdown",
   "id": "b49426b6",
   "metadata": {},
   "source": [
    "## Punto NumPy"
   ]
  },
  {
   "cell_type": "markdown",
   "id": "c314ee71",
   "metadata": {},
   "source": [
    "## Punto 3 Pandas "
   ]
  },
  {
   "cell_type": "markdown",
   "id": "a87975b8",
   "metadata": {},
   "source": [
    "Saque las filas cuya edad esté entre 2, 4 (no incluidas)"
   ]
  },
  {
   "cell_type": "code",
   "execution_count": null,
   "id": "189b10d0",
   "metadata": {},
   "outputs": [],
   "source": []
  }
 ],
 "metadata": {
  "kernelspec": {
   "display_name": "Python 3 (ipykernel)",
   "language": "python",
   "name": "python3"
  },
  "language_info": {
   "codemirror_mode": {
    "name": "ipython",
    "version": 3
   },
   "file_extension": ".py",
   "mimetype": "text/x-python",
   "name": "python",
   "nbconvert_exporter": "python",
   "pygments_lexer": "ipython3",
   "version": "3.9.7"
  }
 },
 "nbformat": 4,
 "nbformat_minor": 5
}
