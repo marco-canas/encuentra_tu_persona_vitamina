{
 "cells": [
  {
   "cell_type": "markdown",
   "id": "e4083210",
   "metadata": {},
   "source": []
  },
  {
   "cell_type": "markdown",
   "id": "8208761a",
   "metadata": {},
   "source": [
    "# Quiz 2 Numpy, Pandas"
   ]
  },
  {
   "cell_type": "markdown",
   "id": "82d1bfb5",
   "metadata": {},
   "source": [
    "### Punto 1 "
   ]
  },
  {
   "cell_type": "markdown",
   "id": "b49426b6",
   "metadata": {},
   "source": [
    "Diseñe una función de Python que le entren dos números $3$ y $m$ y retorne un arreglo de NumPy $X$ de columnas:\n",
    "\n",
    "* La primera columna con $100$ valores aleatorios enteros en el rango de 20 a 60 \n",
    "* la segunda con $100$ valores aleatorios enteros entre 60 y 90. \n",
    "* La tercera con $100$ valores aleatorios entre 1.50 y 1.80. \n",
    "\n",
    "1. edad: \n",
    "2. peso:. \n",
    "3. estatura: "
   ]
  },
  {
   "cell_type": "code",
   "execution_count": null,
   "id": "e2ea48da",
   "metadata": {},
   "outputs": [],
   "source": []
  },
  {
   "cell_type": "code",
   "execution_count": null,
   "id": "3eb0389e",
   "metadata": {},
   "outputs": [],
   "source": []
  }
 ],
 "metadata": {
  "kernelspec": {
   "display_name": "Python 3 (ipykernel)",
   "language": "python",
   "name": "python3"
  },
  "language_info": {
   "codemirror_mode": {
    "name": "ipython",
    "version": 3
   },
   "file_extension": ".py",
   "mimetype": "text/x-python",
   "name": "python",
   "nbconvert_exporter": "python",
   "pygments_lexer": "ipython3",
   "version": "3.9.7"
  }
 },
 "nbformat": 4,
 "nbformat_minor": 5
}
