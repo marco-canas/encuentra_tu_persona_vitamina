{
 "cells": [
  {
   "cell_type": "code",
   "execution_count": null,
   "id": "4af4b493",
   "metadata": {},
   "outputs": [],
   "source": []
  },
  {
   "cell_type": "markdown",
   "id": "8208761a",
   "metadata": {},
   "source": [
    "# Quiz 2 Python, Numpy, Pandas"
   ]
  },
  {
   "cell_type": "markdown",
   "id": "82d1bfb5",
   "metadata": {},
   "source": [
    "### Punto 1 Python"
   ]
  },
  {
   "cell_type": "markdown",
   "id": "c59a9633",
   "metadata": {},
   "source": []
  },
  {
   "cell_type": "markdown",
   "id": "b49426b6",
   "metadata": {},
   "source": [
    "### Punto 2 NumPy\n"
   ]
  },
  {
   "cell_type": "markdown",
   "id": "c3897f24",
   "metadata": {},
   "source": []
  },
  {
   "cell_type": "markdown",
   "id": "31c78fdc",
   "metadata": {},
   "source": [
    "### Punto 3 Pandas"
   ]
  },
  {
   "cell_type": "markdown",
   "id": "9bb83637",
   "metadata": {},
   "source": [
    "Cree un DataFrame a partir del objeto de diccionario y establezca el índice"
   ]
  },
  {
   "cell_type": "code",
   "execution_count": null,
   "id": "841e8381",
   "metadata": {},
   "outputs": [],
   "source": []
  }
 ],
 "metadata": {
  "kernelspec": {
   "display_name": "Python 3 (ipykernel)",
   "language": "python",
   "name": "python3"
  },
  "language_info": {
   "codemirror_mode": {
    "name": "ipython",
    "version": 3
   },
   "file_extension": ".py",
   "mimetype": "text/x-python",
   "name": "python",
   "nbconvert_exporter": "python",
   "pygments_lexer": "ipython3",
   "version": "3.9.7"
  }
 },
 "nbformat": 4,
 "nbformat_minor": 5
}
