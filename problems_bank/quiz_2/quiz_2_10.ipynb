{
 "cells": [
  {
   "cell_type": "code",
   "execution_count": null,
   "id": "4af4b493",
   "metadata": {},
   "outputs": [],
   "source": []
  },
  {
   "cell_type": "markdown",
   "id": "8208761a",
   "metadata": {},
   "source": [
    "# Quiz 2 Python, Numpy, Pandas"
   ]
  },
  {
   "cell_type": "markdown",
   "id": "82d1bfb5",
   "metadata": {},
   "source": [
    "## Punto 1 Python"
   ]
  },
  {
   "cell_type": "markdown",
   "id": "b49426b6",
   "metadata": {},
   "source": [
    "Crear una función que sea capaz de determinar con base en el valor de los lados, el tipo de triángulo que es y \n",
    "calcular su perímetro. (Este ejercicio lo realiza siguiente el criterio de clasificación de la longitud de los lados). "
   ]
  },
  {
   "cell_type": "code",
   "execution_count": 1,
   "id": "e65c7f18",
   "metadata": {},
   "outputs": [],
   "source": [
    "def clasifica_perimetro(a,b,c):\n",
    "    pass "
   ]
  },
  {
   "cell_type": "markdown",
   "id": "5e01d62d",
   "metadata": {},
   "source": [
    "## Punto 2 Numpy"
   ]
  },
  {
   "cell_type": "markdown",
   "id": "f12eff46",
   "metadata": {},
   "source": [
    "Defina una función `filasIndependientes()` que reciba como argumento un arreglo X (2D) y retorne True si las filas de X son linelamente independiente"
   ]
  },
  {
   "cell_type": "code",
   "execution_count": 3,
   "id": "c4d42552",
   "metadata": {},
   "outputs": [
    {
     "data": {
      "text/plain": [
       "2"
      ]
     },
     "execution_count": 3,
     "metadata": {},
     "output_type": "execute_result"
    }
   ],
   "source": [
    "import numpy as np \n",
    "A = np.array([[1,2,3],[4,5,6]])  \n",
    "np.linalg.matrix_rank(A)"
   ]
  },
  {
   "cell_type": "markdown",
   "id": "cbadd322",
   "metadata": {},
   "source": [
    "## Punto 3 Pandas "
   ]
  },
  {
   "cell_type": "code",
   "execution_count": 6,
   "id": "eee1b6c2",
   "metadata": {},
   "outputs": [
    {
     "data": {
      "text/html": [
       "<div>\n",
       "<style scoped>\n",
       "    .dataframe tbody tr th:only-of-type {\n",
       "        vertical-align: middle;\n",
       "    }\n",
       "\n",
       "    .dataframe tbody tr th {\n",
       "        vertical-align: top;\n",
       "    }\n",
       "\n",
       "    .dataframe thead th {\n",
       "        text-align: right;\n",
       "    }\n",
       "</style>\n",
       "<table border=\"1\" class=\"dataframe\">\n",
       "  <thead>\n",
       "    <tr style=\"text-align: right;\">\n",
       "      <th></th>\n",
       "      <th>title</th>\n",
       "      <th>year</th>\n",
       "    </tr>\n",
       "  </thead>\n",
       "  <tbody>\n",
       "    <tr>\n",
       "      <th>0</th>\n",
       "      <td>Mahler</td>\n",
       "      <td>1974</td>\n",
       "    </tr>\n",
       "    <tr>\n",
       "      <th>1</th>\n",
       "      <td>Ogon, voda i... mednye truby</td>\n",
       "      <td>1968</td>\n",
       "    </tr>\n",
       "    <tr>\n",
       "      <th>2</th>\n",
       "      <td>Ana Nojoom bent alasherah wamotalagah</td>\n",
       "      <td>2014</td>\n",
       "    </tr>\n",
       "    <tr>\n",
       "      <th>3</th>\n",
       "      <td>Malu de Bicicleta</td>\n",
       "      <td>2010</td>\n",
       "    </tr>\n",
       "    <tr>\n",
       "      <th>4</th>\n",
       "      <td>Nazareno Apostol: Boy Ahas</td>\n",
       "      <td>1989</td>\n",
       "    </tr>\n",
       "  </tbody>\n",
       "</table>\n",
       "</div>"
      ],
      "text/plain": [
       "                                   title  year\n",
       "0                                 Mahler  1974\n",
       "1           Ogon, voda i... mednye truby  1968\n",
       "2  Ana Nojoom bent alasherah wamotalagah  2014\n",
       "3                      Malu de Bicicleta  2010\n",
       "4             Nazareno Apostol: Boy Ahas  1989"
      ]
     },
     "execution_count": 6,
     "metadata": {},
     "output_type": "execute_result"
    }
   ],
   "source": [
    "import pandas as pd \n",
    "titulos = pd.read_csv('titulos.csv' )\n",
    "titulos.head()"
   ]
  },
  {
   "cell_type": "markdown",
   "id": "ad891784",
   "metadata": {},
   "source": [
    "* ¿Cuántas peliculas estan listadas en el dataframe de titulos?  (describa verbalmente el procedimiento que aplicó para responder cada pregunta).\n",
    "* ¿Cuales son las cinco peliculas mas antiguas listadas en titulos?\n",
    "* ¿Cuántas peliculas estan listadas por el nombre \"Hamlet\" ?  \n",
    "* ¿Cuántas peliculas fueron hechas en el año 1950?"
   ]
  }
 ],
 "metadata": {
  "kernelspec": {
   "display_name": "Python 3 (ipykernel)",
   "language": "python",
   "name": "python3"
  },
  "language_info": {
   "codemirror_mode": {
    "name": "ipython",
    "version": 3
   },
   "file_extension": ".py",
   "mimetype": "text/x-python",
   "name": "python",
   "nbconvert_exporter": "python",
   "pygments_lexer": "ipython3",
   "version": "3.9.7"
  }
 },
 "nbformat": 4,
 "nbformat_minor": 5
}
