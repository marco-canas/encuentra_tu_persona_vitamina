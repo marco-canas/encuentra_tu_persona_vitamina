{
 "cells": [
  {
   "cell_type": "markdown",
   "id": "ba11b7bf",
   "metadata": {},
   "source": [
    "<table align=\"left\">\n",
    "  <td>\n",
    "    <a href=\"https://colab.research.google.com/github/marco-canas/taca/blob/main/ref/geron/chap_2/5_prepare_for_algorithms/1_prepare_for_algorithms.ipynb\" target=\"_parent\"><img src=\"https://colab.research.google.com/assets/colab-badge.svg\" alt=\"Open In Colab\"/></a>\n",
    "  </td>\n",
    "  <td>\n",
    "    <a target=\"_blank\" href=\"https://kaggle.com/kernels/welcome?src=https://github.com/marco-canas/taca/blob/main/ref/geron/chap_2/5_prepare_for_algorithms/1_prepare_for_algorithms.ipynb\"><img src=\"https://kaggle.com/static/images/open-in-kaggle.svg\" /></a>\n",
    "  </td>\n",
    "</table> "
   ]
  },
  {
   "cell_type": "markdown",
   "id": "8208761a",
   "metadata": {},
   "source": [
    "# Quiz 2 Python, Numpy, Pandas"
   ]
  },
  {
   "cell_type": "markdown",
   "id": "82d1bfb5",
   "metadata": {},
   "source": [
    "## Punto 1 Python (Resolver solo con elementos de la librería estándar de Python)"
   ]
  },
  {
   "cell_type": "markdown",
   "id": "9ecb0db0",
   "metadata": {},
   "source": [
    "Construya una función `aleatoriaTranspone()` que genere una matriz cuadrada de dimensiones fijas con valores aleatorios entre 0 y 9 (ambos incluidos) y que trasponga a esta matriz utilizando ciclos for, while o if."
   ]
  },
  {
   "cell_type": "markdown",
   "id": "b49426b6",
   "metadata": {},
   "source": [
    "## Punto 2 Numpy  \n",
    "\n",
    "Defina la matriz tridigonalDeConstantes(a, b, c,d, n) que reciba como argumentos cuatro flotantes a, b, c, d y un entero positivo n y que retorne la matriz tridigonal \n",
    "\n",
    "$$ T_{n \\times n} = \\begin{bmatrix} b      & c      & 0 & 0  &\\cdots  & 0 \\\\\n",
    "                                    a      & b      & c & 0  & \\cdots & 0 \\\\\n",
    "                                    0      & a      & b & c  & \\cdots & 0 \\\\\n",
    "                                    \\vdots & \\vdots & \\vdots & \\vdots & \\vdots \\\\\n",
    "                                    0      & 0      & \\cdots& a      & b  & c\n",
    "                                    \\end{bmatrix} $$\n"
   ]
  },
  {
   "cell_type": "markdown",
   "id": "f4c2a6ac",
   "metadata": {},
   "source": [
    "## Punto 3 Pandas"
   ]
  },
  {
   "cell_type": "markdown",
   "id": "867c2827",
   "metadata": {},
   "source": [
    "Contruya un DataFrame con la matriz anterior y cuyas columnas tengan por nombre $C1, C2,\\ldots Cn$ y que sean indexadas sus instancias por los enteros $1,2,\\ldots, n$. "
   ]
  },
  {
   "cell_type": "code",
   "execution_count": null,
   "id": "fa558992",
   "metadata": {},
   "outputs": [],
   "source": []
  }
 ],
 "metadata": {
  "kernelspec": {
   "display_name": "Python 3 (ipykernel)",
   "language": "python",
   "name": "python3"
  },
  "language_info": {
   "codemirror_mode": {
    "name": "ipython",
    "version": 3
   },
   "file_extension": ".py",
   "mimetype": "text/x-python",
   "name": "python",
   "nbconvert_exporter": "python",
   "pygments_lexer": "ipython3",
   "version": "3.9.7"
  }
 },
 "nbformat": 4,
 "nbformat_minor": 5
}
