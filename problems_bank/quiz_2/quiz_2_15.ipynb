{
 "cells": [
  {
   "cell_type": "markdown",
   "id": "d10b800d",
   "metadata": {},
   "source": []
  },
  {
   "cell_type": "markdown",
   "id": "c8d92830",
   "metadata": {},
   "source": [
    "# Quiz 2 Python, Numpy, Pandas"
   ]
  },
  {
   "cell_type": "markdown",
   "id": "c36c42dc",
   "metadata": {},
   "source": [
    "### Punto 2 Numpy"
   ]
  },
  {
   "cell_type": "markdown",
   "id": "80e2eea9",
   "metadata": {},
   "source": [
    "Defina una función `matrizDeHilbert()` que tenga como argumento un entero positivo $n$ y retorne la matriz de Hilbert \n",
    "\n",
    "$$ H_{n\\times n} = \\left[ \\frac{1}{i+j+1} \\right]^{n}_{i,j=1}.  $$  \n",
    "\n",
    "* Explore lo que sucede con el determinante, \n",
    "* con la inversa y \n",
    "* con el rank de $H_{n \\times n}$ a medida que $n$ crece.\n"
   ]
  },
  {
   "cell_type": "markdown",
   "id": "3e42dbab",
   "metadata": {},
   "source": [
    "## Solución: "
   ]
  },
  {
   "cell_type": "code",
   "execution_count": 10,
   "id": "0a832199",
   "metadata": {},
   "outputs": [],
   "source": [
    "def matrizDeHilbert(n):\n",
    "    import numpy as np \n",
    "    H = np.zeros((n,n))\n",
    "    for i in range(1,n+1):\n",
    "        for j in range(1,n+1):\n",
    "            H[i-1,j-1] = 1/(i+j+1)\n",
    "    return H "
   ]
  },
  {
   "cell_type": "code",
   "execution_count": 11,
   "id": "1522600d",
   "metadata": {
    "scrolled": true
   },
   "outputs": [
    {
     "data": {
      "text/plain": [
       "array([[0.33333333, 0.25      , 0.2       , 0.16666667, 0.14285714],\n",
       "       [0.25      , 0.2       , 0.16666667, 0.14285714, 0.125     ],\n",
       "       [0.2       , 0.16666667, 0.14285714, 0.125     , 0.11111111],\n",
       "       [0.16666667, 0.14285714, 0.125     , 0.11111111, 0.1       ],\n",
       "       [0.14285714, 0.125     , 0.11111111, 0.1       , 0.09090909]])"
      ]
     },
     "execution_count": 11,
     "metadata": {},
     "output_type": "execute_result"
    }
   ],
   "source": [
    "matrizDeHilbert(5)"
   ]
  },
  {
   "cell_type": "code",
   "execution_count": null,
   "id": "286fed93",
   "metadata": {},
   "outputs": [],
   "source": []
  },
  {
   "cell_type": "markdown",
   "id": "d8ab1257",
   "metadata": {},
   "source": [
    "### Punto 3 Pandas "
   ]
  },
  {
   "cell_type": "markdown",
   "id": "9c90459f",
   "metadata": {},
   "source": []
  },
  {
   "cell_type": "code",
   "execution_count": null,
   "id": "a6030f62",
   "metadata": {},
   "outputs": [],
   "source": []
  },
  {
   "cell_type": "code",
   "execution_count": null,
   "id": "029857e5",
   "metadata": {},
   "outputs": [],
   "source": []
  }
 ],
 "metadata": {
  "kernelspec": {
   "display_name": "Python 3 (ipykernel)",
   "language": "python",
   "name": "python3"
  },
  "language_info": {
   "codemirror_mode": {
    "name": "ipython",
    "version": 3
   },
   "file_extension": ".py",
   "mimetype": "text/x-python",
   "name": "python",
   "nbconvert_exporter": "python",
   "pygments_lexer": "ipython3",
   "version": "3.9.7"
  }
 },
 "nbformat": 4,
 "nbformat_minor": 5
}
