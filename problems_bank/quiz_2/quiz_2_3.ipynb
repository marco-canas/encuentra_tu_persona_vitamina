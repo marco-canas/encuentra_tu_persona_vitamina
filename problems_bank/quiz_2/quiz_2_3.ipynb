{
 "cells": [
  {
   "cell_type": "markdown",
   "id": "7bbbe967",
   "metadata": {},
   "source": [
    "<table align=\"left\">\n",
    "  <td>\n",
    "    <a href=\"https://colab.research.google.com/github/marco-canas/taca/blob/main/ref/geron/chap_2/5_prepare_for_algorithms/1_prepare_for_algorithms.ipynb\" target=\"_parent\"><img src=\"https://colab.research.google.com/assets/colab-badge.svg\" alt=\"Open In Colab\"/></a>\n",
    "  </td>\n",
    "  <td>\n",
    "    <a target=\"_blank\" href=\"https://kaggle.com/kernels/welcome?src=https://github.com/marco-canas/taca/blob/main/ref/geron/chap_2/5_prepare_for_algorithms/1_prepare_for_algorithms.ipynb\"><img src=\"https://kaggle.com/static/images/open-in-kaggle.svg\" /></a>\n",
    "  </td>\n",
    "</table> "
   ]
  },
  {
   "cell_type": "markdown",
   "id": "8208761a",
   "metadata": {},
   "source": [
    "# Quiz 2 Python, Numpy, Pandas"
   ]
  },
  {
   "cell_type": "markdown",
   "id": "82d1bfb5",
   "metadata": {},
   "source": [
    "### Punto 1 Python  (En este punto debe resolver el problema sólo con las herramientas de la librería estándar de Python)"
   ]
  },
  {
   "cell_type": "markdown",
   "id": "85c38475",
   "metadata": {},
   "source": [
    "Se deben generar dos matrices de dimensiones $2 \\times 2$ con valores aleatorios entre 0 y 9 (ambos incluidos).   \n",
    "\n",
    "Se calculará la matriz resultante del producto de ambas. (Solo puede usar la librería estándar de Python. Sin utilizar Numpy)"
   ]
  },
  {
   "cell_type": "markdown",
   "id": "36c719d5",
   "metadata": {},
   "source": [
    "Advertencia: el producto aquí es el producto matricial. "
   ]
  },
  {
   "cell_type": "markdown",
   "id": "8c8b504a",
   "metadata": {},
   "source": [
    "**Sugerencia:**  \n",
    "\n",
    "from random import randint\n",
    "\n",
    "The randint() method returns an integer number selected element from the specified range.  \n",
    "**Note:** This method is an alias for randrange(start, stop+1)."
   ]
  },
  {
   "cell_type": "markdown",
   "id": "b49426b6",
   "metadata": {},
   "source": [
    "### Punto 2 Numpy"
   ]
  },
  {
   "cell_type": "markdown",
   "id": "661e1ab5",
   "metadata": {},
   "source": [
    "Se deben generar dos matrices de dimensiones fijas con valores aleatorios entre 0 y 9 (ambos incluidos). Se \n",
    "calculará la matriz resultante del producto de ambas. (Utilizando Numpy)"
   ]
  },
  {
   "cell_type": "code",
   "execution_count": 1,
   "id": "5a4ecba3",
   "metadata": {},
   "outputs": [
    {
     "data": {
      "text/plain": [
       "4"
      ]
     },
     "execution_count": 1,
     "metadata": {},
     "output_type": "execute_result"
    }
   ],
   "source": [
    "import numpy as np \n",
    "\n",
    "int(10*np.random.rand())"
   ]
  },
  {
   "cell_type": "markdown",
   "id": "cd31eb3f",
   "metadata": {},
   "source": [
    "### Punto 3 Pandas"
   ]
  },
  {
   "cell_type": "markdown",
   "id": "e4c4b299",
   "metadata": {},
   "source": [
    "Cree un DataFrame con la matriz producto anterior y filtre las filas o instancias que contengan al valor 1. "
   ]
  },
  {
   "cell_type": "code",
   "execution_count": null,
   "id": "a297c114",
   "metadata": {},
   "outputs": [],
   "source": []
  }
 ],
 "metadata": {
  "kernelspec": {
   "display_name": "Python 3 (ipykernel)",
   "language": "python",
   "name": "python3"
  },
  "language_info": {
   "codemirror_mode": {
    "name": "ipython",
    "version": 3
   },
   "file_extension": ".py",
   "mimetype": "text/x-python",
   "name": "python",
   "nbconvert_exporter": "python",
   "pygments_lexer": "ipython3",
   "version": "3.9.7"
  }
 },
 "nbformat": 4,
 "nbformat_minor": 5
}
