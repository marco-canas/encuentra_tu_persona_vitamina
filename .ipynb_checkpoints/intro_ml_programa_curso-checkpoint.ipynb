{
 "cells": [
  {
   "cell_type": "markdown",
   "id": "711979b3",
   "metadata": {},
   "source": []
  },
  {
   "cell_type": "markdown",
   "id": "841454ae",
   "metadata": {},
   "source": [
    "# Programa del curso Introducción al Machine Learning "
   ]
  },
  {
   "cell_type": "markdown",
   "id": "0d35ff35",
   "metadata": {},
   "source": [
    "## FORMATO PARA PROGRAMA DE CURSO*"
   ]
  },
  {
   "cell_type": "markdown",
   "id": "c4ba8c08",
   "metadata": {},
   "source": [
    "## [Video de descripción del programa del curso]() "
   ]
  },
  {
   "cell_type": "markdown",
   "id": "e392e361",
   "metadata": {},
   "source": [
    "### UNIVERSIDAD DE ANTIOQUIA"
   ]
  },
  {
   "cell_type": "code",
   "execution_count": null,
   "id": "1dc6feff",
   "metadata": {},
   "outputs": [],
   "source": []
  },
  {
   "cell_type": "code",
   "execution_count": null,
   "id": "dc8697fb",
   "metadata": {},
   "outputs": [],
   "source": []
  },
  {
   "cell_type": "code",
   "execution_count": null,
   "id": "33f6ee5b",
   "metadata": {},
   "outputs": [],
   "source": []
  },
  {
   "cell_type": "code",
   "execution_count": null,
   "id": "0dbaca9a",
   "metadata": {},
   "outputs": [],
   "source": []
  },
  {
   "cell_type": "code",
   "execution_count": null,
   "id": "3a1d2ca7",
   "metadata": {},
   "outputs": [],
   "source": []
  }
 ],
 "metadata": {
  "kernelspec": {
   "display_name": "Python 3",
   "language": "python",
   "name": "python3"
  },
  "language_info": {
   "codemirror_mode": {
    "name": "ipython",
    "version": 3
   },
   "file_extension": ".py",
   "mimetype": "text/x-python",
   "name": "python",
   "nbconvert_exporter": "python",
   "pygments_lexer": "ipython3",
   "version": "3.8.8"
  },
  "latex_envs": {
   "LaTeX_envs_menu_present": true,
   "autoclose": false,
   "autocomplete": false,
   "bibliofile": "biblio.bib",
   "cite_by": "apalike",
   "current_citInitial": 1,
   "eqLabelWithNumbers": true,
   "eqNumInitial": 1,
   "hotkeys": {
    "equation": "Ctrl-E",
    "itemize": "Ctrl-I"
   },
   "labels_anchors": false,
   "latex_user_defs": false,
   "report_style_numbering": false,
   "user_envs_cfg": false
  }
 },
 "nbformat": 4,
 "nbformat_minor": 5
}
