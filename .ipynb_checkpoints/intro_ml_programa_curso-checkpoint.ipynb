{
 "cells": [
  {
   "cell_type": "markdown",
   "id": "544fb5e4",
   "metadata": {
    "slideshow": {
     "slide_type": "slide"
    }
   },
   "source": [
    "\n",
    "<table align=\"left\">\n",
    "  <td>\n",
    "    <a href=\"https://colab.research.google.com/github/marco-canas/intro-Machine-Learning/blob/main/classes/class_16_end_to_end_1/class_16_end_to_end_1.ipynb\" target=\"_parent\"><img src=\"https://colab.research.google.com/assets/colab-badge.svg\" alt=\"Open In Colab\"/></a>\n",
    "  </td>\n",
    "  <td>\n",
    "    <a target=\"_blank\" href=\"https://kaggle.com/kernels/welcome?src=https://github.com/marco-canas/intro-Machine-Learning/blob/main/classes/class_16_end_to_end_1/class_16_end_to_end_1.ipynb\"><img src=\"https://kaggle.com/static/images/open-in-kaggle.svg\" /></a>\n",
    "  </td>\n",
    "</table> \n"
   ]
  },
  {
   "cell_type": "markdown",
   "id": "b0bc7b16",
   "metadata": {
    "slideshow": {
     "slide_type": "slide"
    }
   },
   "source": [
    "# Programa del curso Introducción al Machine Learning "
   ]
  },
  {
   "cell_type": "markdown",
   "id": "37281e3c",
   "metadata": {
    "slideshow": {
     "slide_type": "slide"
    }
   },
   "source": [
    "## FORMATO PARA PROGRAMA DE CURSO*"
   ]
  },
  {
   "cell_type": "markdown",
   "id": "77b4794b",
   "metadata": {
    "slideshow": {
     "slide_type": "slide"
    }
   },
   "source": [
    "## [Video de descripción del programa del curso]() "
   ]
  },
  {
   "cell_type": "markdown",
   "id": "60d171e7",
   "metadata": {
    "slideshow": {
     "slide_type": "slide"
    }
   },
   "source": [
    "### UNIVERSIDAD DE ANTIOQUIA"
   ]
  },
  {
   "cell_type": "markdown",
   "id": "da8a211c",
   "metadata": {
    "slideshow": {
     "slide_type": "slide"
    }
   },
   "source": [
    "<img src = 'https://github.com/marco-canas/introducci-n-al-Machine-Learning/blob/main/logo_udea.png?raw=true'>"
   ]
  },
  {
   "cell_type": "markdown",
   "id": "a27314ca",
   "metadata": {
    "slideshow": {
     "slide_type": "slide"
    }
   },
   "source": [
    "### 1. INFORMACIÓN GENERAL"
   ]
  },
  {
   "cell_type": "markdown",
   "id": "b85b5676",
   "metadata": {
    "slideshow": {
     "slide_type": "slide"
    }
   },
   "source": [
    "#### Unidad Académica:  \n",
    "\n",
    "Facultad de Ciencias Exactas y Naturale"
   ]
  },
  {
   "cell_type": "markdown",
   "id": "cd4c0f2e",
   "metadata": {
    "slideshow": {
     "slide_type": "slide"
    }
   },
   "source": [
    "### Programas Académico:  \n",
    "\n",
    "Biología y Química"
   ]
  },
  {
   "cell_type": "markdown",
   "id": "7305e5ee",
   "metadata": {
    "slideshow": {
     "slide_type": "slide"
    }
   },
   "source": [
    "### Semestre:   \n",
    "\n",
    "2020-II"
   ]
  },
  {
   "cell_type": "markdown",
   "id": "2f4c61c4",
   "metadata": {},
   "source": [
    "### Código curso:  \n",
    "\n",
    "* Biología: 303020  \n",
    "\n",
    "* Química: "
   ]
  },
  {
   "cell_type": "markdown",
   "id": "a07433d3",
   "metadata": {},
   "source": [
    "### Nombre del curso:   \n",
    "\n",
    "Introducción al Machine Learning."
   ]
  },
  {
   "cell_type": "markdown",
   "id": "70365fbb",
   "metadata": {},
   "source": [
    "### Área o componente curricular:  \n"
   ]
  },
  {
   "cell_type": "markdown",
   "id": "fff95dff",
   "metadata": {},
   "source": [
    "### Tipo de curso:  \n",
    "\n",
    "Teórico-Práctico."
   ]
  },
  {
   "cell_type": "markdown",
   "id": "e809fd28",
   "metadata": {},
   "source": [
    "### Créditos académicos:  \n",
    "3"
   ]
  },
  {
   "cell_type": "markdown",
   "id": "f5569199",
   "metadata": {},
   "source": [
    "### Horas semana con acompañamiento Docente (AD)**:  \n",
    "5"
   ]
  },
  {
   "cell_type": "markdown",
   "id": "fbddbad3",
   "metadata": {},
   "source": [
    "### Total semanas:   \n",
    "1"
   ]
  },
  {
   "cell_type": "code",
   "execution_count": null,
   "id": "4285ef2b",
   "metadata": {},
   "outputs": [],
   "source": []
  },
  {
   "cell_type": "code",
   "execution_count": null,
   "id": "2c600962",
   "metadata": {},
   "outputs": [],
   "source": []
  }
 ],
 "metadata": {
  "celltoolbar": "Slideshow",
  "kernelspec": {
   "display_name": "Python 3 (ipykernel)",
   "language": "python",
   "name": "python3"
  },
  "language_info": {
   "codemirror_mode": {
    "name": "ipython",
    "version": 3
   },
   "file_extension": ".py",
   "mimetype": "text/x-python",
   "name": "python",
   "nbconvert_exporter": "python",
   "pygments_lexer": "ipython3",
   "version": "3.9.7"
  },
  "latex_envs": {
   "LaTeX_envs_menu_present": true,
   "autoclose": false,
   "autocomplete": false,
   "bibliofile": "biblio.bib",
   "cite_by": "apalike",
   "current_citInitial": 1,
   "eqLabelWithNumbers": true,
   "eqNumInitial": 1,
   "hotkeys": {
    "equation": "Ctrl-E",
    "itemize": "Ctrl-I"
   },
   "labels_anchors": false,
   "latex_user_defs": false,
   "report_style_numbering": false,
   "user_envs_cfg": false
  }
 },
 "nbformat": 4,
 "nbformat_minor": 5
}
