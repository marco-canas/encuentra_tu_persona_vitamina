{
 "cells": [
  {
   "cell_type": "markdown",
   "id": "e2598caa",
   "metadata": {
    "slideshow": {
     "slide_type": "slide"
    }
   },
   "source": [
    "<table align=\"left\">\n",
    "  <td>\n",
    "    <a href=\"https://colab.research.google.com/github/marco-canas/taca/blob/main/ref/geron/chap_2/5_prepare_for_algorithms/2_data_cleaning.ipynb\" target=\"_parent\"><img src=\"https://colab.research.google.com/assets/colab-badge.svg\" alt=\"Open In Colab\"/></a>\n",
    "  </td>\n",
    "  <td>\n",
    "    <a target=\"_blank\" href=\"https://kaggle.com/kernels/welcome?src=https://github.com/marco-canas/taca/blob/main/ref/geron/chap_2/5_prepare_for_algorithms/2_data_cleaning.ipynb\"><img src=\"https://kaggle.com/static/images/open-in-kaggle.svg\" /></a>\n",
    "  </td>\n",
    "</table>\n"
   ]
  },
  {
   "cell_type": "markdown",
   "id": "1ed84fcc",
   "metadata": {
    "slideshow": {
     "slide_type": "slide"
    }
   },
   "source": [
    "## Ejercicio 8 del taller sobre funciones en Python"
   ]
  },
  {
   "cell_type": "markdown",
   "id": "6912e3de",
   "metadata": {
    "slideshow": {
     "slide_type": "slide"
    }
   },
   "source": [
    "## [Video de apoyo]() "
   ]
  },
  {
   "cell_type": "markdown",
   "id": "cbeb1098",
   "metadata": {
    "slideshow": {
     "slide_type": "slide"
    }
   },
   "source": [
    "8. Construya una función en la que la entrada son **cinco** puntos del plano. \n",
    "\n",
    "La función determinará (y retornará) cuál de los cuatro últimos puntos está más cerca del primero.\n"
   ]
  },
  {
   "cell_type": "markdown",
   "id": "5d3ed3b8",
   "metadata": {
    "slideshow": {
     "slide_type": "slide"
    }
   },
   "source": [
    "## Solución: "
   ]
  },
  {
   "cell_type": "markdown",
   "id": "f421807c",
   "metadata": {
    "slideshow": {
     "slide_type": "slide"
    }
   },
   "source": [
    "### Metodología para la solución del problema"
   ]
  },
  {
   "cell_type": "markdown",
   "id": "b797221b",
   "metadata": {
    "slideshow": {
     "slide_type": "slide"
    }
   },
   "source": [
    "1. Generar cinco puntos del plano de componentes enteras de manera aleatoria.  \n",
    "1. Construir una función `dist_plano()` que calcule la distancia en el plano de dos puntos dados por el usuario. "
   ]
  },
  {
   "cell_type": "code",
   "execution_count": null,
   "id": "2bd93ca4",
   "metadata": {
    "slideshow": {
     "slide_type": "slide"
    }
   },
   "outputs": [],
   "source": []
  },
  {
   "cell_type": "markdown",
   "id": "5f2e58d0",
   "metadata": {
    "slideshow": {
     "slide_type": "slide"
    }
   },
   "source": [
    "### Implementación de la metodología"
   ]
  },
  {
   "cell_type": "markdown",
   "id": "f0e8f092",
   "metadata": {
    "slideshow": {
     "slide_type": "slide"
    }
   },
   "source": [
    "### Generación aleatoria de una lista de cinco puntos en el plano "
   ]
  },
  {
   "cell_type": "code",
   "execution_count": 56,
   "id": "64ea3a1d",
   "metadata": {
    "slideshow": {
     "slide_type": "slide"
    }
   },
   "outputs": [
    {
     "data": {
      "text/plain": [
       "[[2, 4], [3, 4], [-2, 3], [-5, -1], [-1, 3]]"
      ]
     },
     "execution_count": 56,
     "metadata": {},
     "output_type": "execute_result"
    }
   ],
   "source": [
    "from random import randint\n",
    "lista_puntos = []\n",
    "for i in range(5):\n",
    "    lista_puntos.append([randint(-5,5),randint(-5,5)]) \n",
    "\n",
    "lista_puntos "
   ]
  },
  {
   "cell_type": "markdown",
   "id": "8f066bf4",
   "metadata": {
    "slideshow": {
     "slide_type": "slide"
    }
   },
   "source": [
    "## Graficación con Matplotlib de los puntos generados"
   ]
  },
  {
   "cell_type": "code",
   "execution_count": 57,
   "id": "e264a63a",
   "metadata": {
    "slideshow": {
     "slide_type": "slide"
    }
   },
   "outputs": [
    {
     "data": {
      "image/png": "[encoded data removed]",
      "text/plain": [
       "<Figure size 432x288 with 1 Axes>"
      ]
     },
     "metadata": {
      "needs_background": "light"
     },
     "output_type": "display_data"
    }
   ],
   "source": [
    "import numpy as np \n",
    "from matplotlib import pyplot as plt \n",
    "\n",
    "x_coord = []\n",
    "y_coord = []\n",
    "\n",
    "for k in range(5):\n",
    "    x_coord.append(lista_puntos[k][0])\n",
    "    y_coord.append(lista_puntos[k][1])\n",
    "    \n",
    "plt.scatter(x_coord[0], y_coord[0], color = 'red')\n",
    "\n",
    "plt.scatter(x_coord[1:], y_coord[1:], color = 'green')\n",
    "\n",
    "plt.axis([-6,6,-6,6]) \n",
    "plt.grid(alpha = 0.6) \n",
    "plt.show() "
   ]
  },
  {
   "cell_type": "code",
   "execution_count": 41,
   "id": "1bdc4a7a",
   "metadata": {
    "scrolled": true,
    "slideshow": {
     "slide_type": "slide"
    }
   },
   "outputs": [],
   "source": [
    "#lista_puntos = []\n",
    "#for i in range(5):\n",
    "#    lista_puntos.append(list(input('''ingrese las coordenadas x e y de un punto del plano\n",
    "#    (sin delimitadores y separadas por coma): ''').split(',')))  \n",
    "                  \n",
    "#lista_puntos                   "
   ]
  },
  {
   "cell_type": "code",
   "execution_count": 42,
   "id": "5996517f",
   "metadata": {
    "slideshow": {
     "slide_type": "slide"
    }
   },
   "outputs": [],
   "source": [
    "#for i in range(5):\n",
    "#    for j in range(2):\n",
    "#        lista_puntos[i][j] = float(lista_puntos[i][j])\n",
    "#        \n",
    "#lista_puntos         "
   ]
  },
  {
   "cell_type": "code",
   "execution_count": 58,
   "id": "053ab183",
   "metadata": {
    "slideshow": {
     "slide_type": "slide"
    }
   },
   "outputs": [],
   "source": [
    "def dist_plano(A,B):\n",
    "    x_coor = list(zip(A,B))[0]\n",
    "    y_coor = list(zip(A,B))[1]\n",
    "    dx = abs(x_coor[0] - x_coor[1])\n",
    "    dy = abs(y_coor[0] - y_coor[1])\n",
    "    return (dx**2 + dy**2)**(1/2)"
   ]
  },
  {
   "cell_type": "code",
   "execution_count": 59,
   "id": "99aceaeb",
   "metadata": {
    "slideshow": {
     "slide_type": "slide"
    }
   },
   "outputs": [
    {
     "data": {
      "text/plain": [
       "[1.0, 4.123105625617661, 8.602325267042627, 3.1622776601683795]"
      ]
     },
     "execution_count": 59,
     "metadata": {},
     "output_type": "execute_result"
    }
   ],
   "source": [
    "lista_distancias_al_primer_punto = []\n",
    "for i in range(1,5):\n",
    "    primer_punto = lista_puntos[0]\n",
    "    lista_distancias_al_primer_punto.append(dist_plano(primer_punto, lista_puntos[i]))\n",
    "\n",
    "lista_distancias_al_primer_punto     "
   ]
  },
  {
   "cell_type": "code",
   "execution_count": 60,
   "id": "2076c421",
   "metadata": {
    "slideshow": {
     "slide_type": "slide"
    }
   },
   "outputs": [
    {
     "data": {
      "text/plain": [
       "1"
      ]
     },
     "execution_count": 60,
     "metadata": {},
     "output_type": "execute_result"
    }
   ],
   "source": [
    "indice_de_la_distancia_minima = 1+ lista_distancias_al_primer_punto.index(min(lista_distancias_al_primer_punto))\n",
    "indice_de_la_distancia_minima "
   ]
  },
  {
   "cell_type": "code",
   "execution_count": 61,
   "id": "6d5f9b70",
   "metadata": {
    "slideshow": {
     "slide_type": "slide"
    }
   },
   "outputs": [
    {
     "data": {
      "text/plain": [
       "[3, 4]"
      ]
     },
     "execution_count": 61,
     "metadata": {},
     "output_type": "execute_result"
    }
   ],
   "source": [
    "punto_mas_cercano = lista_puntos[indice_de_la_distancia_minima] \n",
    "\n",
    "punto_mas_cercano "
   ]
  },
  {
   "cell_type": "markdown",
   "id": "227a5325",
   "metadata": {
    "slideshow": {
     "slide_type": "slide"
    }
   },
   "source": [
    "# Contrucción de la función consolidada"
   ]
  },
  {
   "cell_type": "code",
   "execution_count": 62,
   "id": "3606038d",
   "metadata": {
    "slideshow": {
     "slide_type": "slide"
    }
   },
   "outputs": [],
   "source": [
    "def el_mas_cercano(lista_puntos):\n",
    "    lista_distancias_al_primer_punto = []\n",
    "    for i in range(1,5):\n",
    "        primer_punto = lista_puntos[0]\n",
    "        lista_distancias_al_primer_punto.append(dist_plano(primer_punto, lista_puntos[i]))\n",
    "    indice_de_la_distancia_minima = 1+ lista_distancias_al_primer_punto.index(min(lista_distancias_al_primer_punto))\n",
    "    return lista_puntos[indice_de_la_distancia_minima] "
   ]
  },
  {
   "cell_type": "code",
   "execution_count": 63,
   "id": "68c6cfaa",
   "metadata": {
    "slideshow": {
     "slide_type": "slide"
    }
   },
   "outputs": [
    {
     "data": {
      "text/plain": [
       "[0, -2]"
      ]
     },
     "execution_count": 63,
     "metadata": {},
     "output_type": "execute_result"
    }
   ],
   "source": [
    "from random import randint\n",
    "lista_puntos = []\n",
    "for i in range(5):\n",
    "    lista_puntos.append([randint(-5,5),randint(-5,5)]) \n",
    "    \n",
    "el_mas_cercano(lista_puntos)     "
   ]
  },
  {
   "cell_type": "markdown",
   "id": "549e2e1a",
   "metadata": {
    "slideshow": {
     "slide_type": "slide"
    }
   },
   "source": [
    "## Funciones implementadas en este cuaderno"
   ]
  },
  {
   "cell_type": "code",
   "execution_count": null,
   "id": "0939495e",
   "metadata": {
    "slideshow": {
     "slide_type": "slide"
    }
   },
   "outputs": [],
   "source": [
    "list(zip((0,0),(1,1))) "
   ]
  },
  {
   "cell_type": "code",
   "execution_count": 13,
   "id": "67a29fc4",
   "metadata": {
    "slideshow": {
     "slide_type": "slide"
    }
   },
   "outputs": [
    {
     "data": {
      "text/plain": [
       "array([1, 2])"
      ]
     },
     "execution_count": 13,
     "metadata": {},
     "output_type": "execute_result"
    }
   ],
   "source": [
    "import numpy as np \n",
    "np.array(['1','2']).astype(int)  "
   ]
  },
  {
   "cell_type": "code",
   "execution_count": 16,
   "id": "325bfe9a",
   "metadata": {
    "slideshow": {
     "slide_type": "slide"
    }
   },
   "outputs": [
    {
     "data": {
      "text/plain": [
       "4"
      ]
     },
     "execution_count": 16,
     "metadata": {},
     "output_type": "execute_result"
    }
   ],
   "source": [
    "[1,2,3,4,5].index(5)"
   ]
  },
  {
   "cell_type": "markdown",
   "id": "c11919f9",
   "metadata": {
    "slideshow": {
     "slide_type": "slide"
    }
   },
   "source": [
    "# Dataframe del los estudiantes de Introducción al Machine Learning "
   ]
  },
  {
   "cell_type": "code",
   "execution_count": null,
   "id": "5e15c1bd",
   "metadata": {
    "slideshow": {
     "slide_type": "slide"
    }
   },
   "outputs": [],
   "source": [
    "import pandas as pd\n",
    "\n",
    "grupo_ml = pd.read_csv('grupo_intro_ml.csv', sep = '\\t') \n",
    "\n",
    "grupo_ml.head() "
   ]
  }
 ],
 "metadata": {
  "celltoolbar": "Slideshow",
  "kernelspec": {
   "display_name": "Python 3",
   "language": "python",
   "name": "python3"
  },
  "language_info": {
   "codemirror_mode": {
    "name": "ipython",
    "version": 3
   },
   "file_extension": ".py",
   "mimetype": "text/x-python",
   "name": "python",
   "nbconvert_exporter": "python",
   "pygments_lexer": "ipython3",
   "version": "3.8.8"
  },
  "latex_envs": {
   "LaTeX_envs_menu_present": true,
   "autoclose": false,
   "autocomplete": false,
   "bibliofile": "biblio.bib",
   "cite_by": "apalike",
   "current_citInitial": 1,
   "eqLabelWithNumbers": true,
   "eqNumInitial": 1,
   "hotkeys": {
    "equation": "Ctrl-E",
    "itemize": "Ctrl-I"
   },
   "labels_anchors": false,
   "latex_user_defs": false,
   "report_style_numbering": false,
   "user_envs_cfg": false
  }
 },
 "nbformat": 4,
 "nbformat_minor": 5
}
