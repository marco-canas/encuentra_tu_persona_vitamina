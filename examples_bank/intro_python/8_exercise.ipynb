{
 "cells": [
  {
   "cell_type": "markdown",
   "id": "6f25e54b",
   "metadata": {
    "slideshow": {
     "slide_type": "slide"
    }
   },
   "source": [
    "<table align=\"left\">\n",
    "  <td>\n",
    "    <a href=\"https://colab.research.google.com/github/marco-canas/taca/blob/main/ref/geron/chap_2/5_prepare_for_algorithms/2_data_cleaning.ipynb\" target=\"_parent\"><img src=\"https://colab.research.google.com/assets/colab-badge.svg\" alt=\"Open In Colab\"/></a>\n",
    "  </td>\n",
    "  <td>\n",
    "    <a target=\"_blank\" href=\"https://kaggle.com/kernels/welcome?src=https://github.com/marco-canas/taca/blob/main/ref/geron/chap_2/5_prepare_for_algorithms/2_data_cleaning.ipynb\"><img src=\"https://kaggle.com/static/images/open-in-kaggle.svg\" /></a>\n",
    "  </td>\n",
    "</table>\n"
   ]
  },
  {
   "cell_type": "markdown",
   "id": "cbc3ba48",
   "metadata": {
    "slideshow": {
     "slide_type": "slide"
    }
   },
   "source": [
    "## Ejercicio 8 del taller sobre funciones en Python"
   ]
  },
  {
   "cell_type": "markdown",
   "id": "ef4a2e78",
   "metadata": {
    "slideshow": {
     "slide_type": "slide"
    }
   },
   "source": [
    "## [Video de apoyo]() "
   ]
  },
  {
   "cell_type": "markdown",
   "id": "53fe76eb",
   "metadata": {
    "slideshow": {
     "slide_type": "slide"
    }
   },
   "source": [
    "8. Construya una función en la que la entrada son **cinco** puntos del plano. \n",
    "\n",
    "La función determinará (y retornará) cuál de los cuatro últimos puntos está más cerca del primero.\n"
   ]
  },
  {
   "cell_type": "markdown",
   "id": "bf93242c",
   "metadata": {
    "slideshow": {
     "slide_type": "slide"
    }
   },
   "source": [
    "## Solución: "
   ]
  },
  {
   "cell_type": "markdown",
   "id": "ab086873",
   "metadata": {
    "slideshow": {
     "slide_type": "slide"
    }
   },
   "source": [
    "### Metodología para la solución del problema"
   ]
  },
  {
   "cell_type": "markdown",
   "id": "c0406996",
   "metadata": {
    "slideshow": {
     "slide_type": "slide"
    }
   },
   "source": [
    "1. Generar cinco puntos del plano de componentes enteras de manera aleatoria.  \n",
    "1. Construir una función `dist_plano()` que calcule la distancia en el plano de dos puntos dados por el usuario. "
   ]
  },
  {
   "cell_type": "code",
   "execution_count": null,
   "id": "a63d7622",
   "metadata": {
    "slideshow": {
     "slide_type": "slide"
    }
   },
   "outputs": [],
   "source": []
  },
  {
   "cell_type": "markdown",
   "id": "93e9a43f",
   "metadata": {
    "slideshow": {
     "slide_type": "slide"
    }
   },
   "source": [
    "### Implementación de la metodología"
   ]
  },
  {
   "cell_type": "markdown",
   "id": "c9a037f0",
   "metadata": {
    "slideshow": {
     "slide_type": "slide"
    }
   },
   "source": [
    "### Generación aleatoria de una lista de cinco puntos en el plano "
   ]
  },
  {
   "cell_type": "code",
   "execution_count": null,
   "id": "547be3f5",
   "metadata": {
    "slideshow": {
     "slide_type": "slide"
    }
   },
   "outputs": [],
   "source": [
    "from random import randint\n",
    "lista_puntos = []\n",
    "for i in range(5):\n",
    "    lista_puntos.append([randint(-5,5),randint(-5,5)]) \n",
    "\n",
    "lista_puntos "
   ]
  },
  {
   "cell_type": "markdown",
   "id": "61106767",
   "metadata": {
    "slideshow": {
     "slide_type": "slide"
    }
   },
   "source": [
    "## Graficación con Matplotlib de los puntos generados"
   ]
  },
  {
   "cell_type": "code",
   "execution_count": null,
   "id": "b0b3e144",
   "metadata": {
    "slideshow": {
     "slide_type": "slide"
    }
   },
   "outputs": [],
   "source": [
    "import numpy as np \n",
    "from matplotlib import pyplot as plt \n",
    "\n",
    "x_coord = []\n",
    "y_coord = []\n",
    "\n",
    "for k in range(5):\n",
    "    x_coord.append(lista_puntos[k][0])\n",
    "    y_coord.append(lista_puntos[k][1])\n",
    "    \n",
    "plt.scatter(x_coord[0], y_coord[0], color = 'red')\n",
    "\n",
    "plt.scatter(x_coord[1:], y_coord[1:], color = 'green')\n",
    "\n",
    "plt.axis([-6,6,-6,6]) \n",
    "plt.grid(alpha = 0.6) \n",
    "plt.show() "
   ]
  },
  {
   "cell_type": "code",
   "execution_count": null,
   "id": "01666845",
   "metadata": {
    "scrolled": true,
    "slideshow": {
     "slide_type": "slide"
    }
   },
   "outputs": [],
   "source": [
    "lista_puntos = []\n",
    "for i in range(5):\n",
    "    lista_puntos.append(input('''ingrese las coordenadas x e y de un punto del plano\n",
    "    (sin delimitadores y separadas por coma): ''').split(','))  \n",
    "                  \n",
    "lista_puntos                   "
   ]
  },
  {
   "cell_type": "code",
   "execution_count": null,
   "id": "edd8b180",
   "metadata": {
    "slideshow": {
     "slide_type": "slide"
    }
   },
   "outputs": [],
   "source": [
    "for i in range(5):\n",
    "    for j in range(2):\n",
    "        lista_puntos[i][j] = float(lista_puntos[i][j])\n",
    "        \n",
    "lista_puntos         "
   ]
  },
  {
   "cell_type": "code",
   "execution_count": null,
   "id": "ad7d6f85",
   "metadata": {
    "slideshow": {
     "slide_type": "slide"
    }
   },
   "outputs": [],
   "source": [
    "def dist_plano(A,B):\n",
    "    x_coor = list(zip(A,B))[0]\n",
    "    y_coor = list(zip(A,B))[1]\n",
    "    dx = abs(x_coor[0] - x_coor[1])\n",
    "    dy = abs(y_coor[0] - y_coor[1])\n",
    "    return (dx**2 + dy**2)**(1/2)"
   ]
  },
  {
   "cell_type": "code",
   "execution_count": null,
   "id": "6b27d0b6",
   "metadata": {
    "slideshow": {
     "slide_type": "slide"
    }
   },
   "outputs": [],
   "source": [
    "lista_distancias_al_primer_punto = []\n",
    "for i in range(1,5):\n",
    "    primer_punto = lista_puntos[0]\n",
    "    lista_distancias_al_primer_punto.append(dist_plano(primer_punto, lista_puntos[i]))\n",
    "\n",
    "lista_distancias_al_primer_punto     "
   ]
  },
  {
   "cell_type": "code",
   "execution_count": null,
   "id": "e4432508",
   "metadata": {
    "slideshow": {
     "slide_type": "slide"
    }
   },
   "outputs": [],
   "source": [
    "indice_de_la_distancia_minima = 1+ lista_distancias_al_primer_punto.index(min(lista_distancias_al_primer_punto))\n",
    "indice_de_la_distancia_minima "
   ]
  },
  {
   "cell_type": "code",
   "execution_count": null,
   "id": "fa4d14ef",
   "metadata": {
    "slideshow": {
     "slide_type": "slide"
    }
   },
   "outputs": [],
   "source": [
    "punto_mas_cercano = lista_puntos[indice_de_la_distancia_minima] \n",
    "\n",
    "punto_mas_cercano "
   ]
  },
  {
   "cell_type": "markdown",
   "id": "99f2a13e",
   "metadata": {
    "slideshow": {
     "slide_type": "slide"
    }
   },
   "source": [
    "# Contrucción de la función consolidada"
   ]
  },
  {
   "cell_type": "markdown",
   "id": "4eccf9cc",
   "metadata": {
    "slideshow": {
     "slide_type": "slide"
    }
   },
   "source": [
    "### Función que grafica los cinco puntos"
   ]
  },
  {
   "cell_type": "code",
   "execution_count": null,
   "id": "209e7a2f",
   "metadata": {
    "slideshow": {
     "slide_type": "slide"
    }
   },
   "outputs": [],
   "source": [
    "from matplotlib import pyplot as plt\n",
    "def trazar_lista_de_puntos(lista_puntos):\n",
    "    x_coord = []\n",
    "    y_coord = []\n",
    "\n",
    "    for k in range(5):\n",
    "        x_coord.append(lista_puntos[k][0])\n",
    "        y_coord.append(lista_puntos[k][1])\n",
    "    \n",
    "    plt.scatter(x_coord[0], y_coord[0], color = 'red')\n",
    "\n",
    "    plt.scatter(x_coord[1:], y_coord[1:], color = 'green')\n",
    "\n",
    "    plt.axis([-12,12,-12,12]) \n",
    "    plt.grid(alpha = 0.6) \n",
    "    plt.show() "
   ]
  },
  {
   "cell_type": "code",
   "execution_count": null,
   "id": "8e6b4708",
   "metadata": {
    "slideshow": {
     "slide_type": "slide"
    }
   },
   "outputs": [],
   "source": [
    "trazar_lista_de_puntos(lista_puntos)  "
   ]
  },
  {
   "cell_type": "code",
   "execution_count": null,
   "id": "ff3bafca",
   "metadata": {
    "slideshow": {
     "slide_type": "slide"
    }
   },
   "outputs": [],
   "source": [
    "def el_mas_cercano(lista_puntos):\n",
    "    lista_distancias_al_primer_punto = []\n",
    "    for i in range(1,5):\n",
    "        primer_punto = lista_puntos[0]\n",
    "        lista_distancias_al_primer_punto.append(dist_plano(primer_punto, lista_puntos[i]))\n",
    "    indice_de_la_distancia_minima = 1+ lista_distancias_al_primer_punto.index(min(lista_distancias_al_primer_punto))\n",
    "    \n",
    "    trazar_lista_de_puntos(lista_puntos)  \n",
    "    \n",
    "    return lista_puntos[indice_de_la_distancia_minima] "
   ]
  },
  {
   "cell_type": "code",
   "execution_count": null,
   "id": "78fad2b7",
   "metadata": {
    "slideshow": {
     "slide_type": "slide"
    }
   },
   "outputs": [],
   "source": [
    "from random import randint\n",
    "lista_puntos = []\n",
    "for i in range(5):\n",
    "    lista_puntos.append([randint(-5,5),randint(-5,5)]) \n",
    "    \n",
    "el_mas_cercano(lista_puntos)     "
   ]
  },
  {
   "cell_type": "markdown",
   "id": "1afa5f5a",
   "metadata": {
    "slideshow": {
     "slide_type": "slide"
    }
   },
   "source": [
    "## Funciones implementadas en este cuaderno"
   ]
  },
  {
   "cell_type": "code",
   "execution_count": null,
   "id": "41b6ec55",
   "metadata": {
    "slideshow": {
     "slide_type": "slide"
    }
   },
   "outputs": [],
   "source": [
    "list(zip((0,0),(1,1))) "
   ]
  },
  {
   "cell_type": "code",
   "execution_count": null,
   "id": "b32700e7",
   "metadata": {
    "slideshow": {
     "slide_type": "slide"
    }
   },
   "outputs": [],
   "source": [
    "import numpy as np \n",
    "np.array(['1','2']).astype(int)  "
   ]
  },
  {
   "cell_type": "code",
   "execution_count": null,
   "id": "8586e344",
   "metadata": {
    "slideshow": {
     "slide_type": "slide"
    }
   },
   "outputs": [],
   "source": [
    "[1,2,3,4,5].index(5)"
   ]
  },
  {
   "cell_type": "code",
   "execution_count": null,
   "id": "a787ffb3",
   "metadata": {
    "slideshow": {
     "slide_type": "slide"
    }
   },
   "outputs": [],
   "source": [
    "min([4,6,2,1])"
   ]
  },
  {
   "cell_type": "code",
   "execution_count": null,
   "id": "ddbbe30e",
   "metadata": {
    "slideshow": {
     "slide_type": "slide"
    }
   },
   "outputs": [],
   "source": [
    "[4,6,2,1].index(1)"
   ]
  },
  {
   "cell_type": "code",
   "execution_count": null,
   "id": "3443378f",
   "metadata": {
    "slideshow": {
     "slide_type": "slide"
    }
   },
   "outputs": [],
   "source": [
    "import numpy as np \n",
    "np.argmin([1,2,3])  "
   ]
  },
  {
   "cell_type": "markdown",
   "id": "e74d9801",
   "metadata": {
    "slideshow": {
     "slide_type": "slide"
    }
   },
   "source": [
    "# Dataframe del los estudiantes de Introducción al Machine Learning "
   ]
  },
  {
   "cell_type": "code",
   "execution_count": null,
   "id": "1b1b8fe0",
   "metadata": {
    "slideshow": {
     "slide_type": "slide"
    }
   },
   "outputs": [],
   "source": [
    "import pandas as pd\n",
    "\n",
    "grupo_ml = pd.read_csv('grupo_intro_ml.csv', sep = '\\t') \n",
    "\n",
    "grupo_ml.head() "
   ]
  },
  {
   "cell_type": "markdown",
   "id": "2eed7638",
   "metadata": {
    "slideshow": {
     "slide_type": "slide"
    }
   },
   "source": [
    "## Referentes \n",
    "\n",
    "* numpy.argmin: https://www.geeksforgeeks.org/numpy-argmin-python/\n",
    "\n",
    "* La función `zip()` de Python: https://realpython.com/python-zip-function/#:~:text=Python%E2%80%99s%20zip%20%28%29%20function%20creates%20an%20iterator%20that,consistently%20solve%20common%20programming%20problems%2C%20like%20creating%20dictionaries."
   ]
  },
  {
   "cell_type": "code",
   "execution_count": 1,
   "id": "9ea304e6",
   "metadata": {},
   "outputs": [
    {
     "name": "stdout",
     "output_type": "stream",
     "text": [
      "Entre tres números separados por coma: 2,3,4\n"
     ]
    }
   ],
   "source": [
    "numeros = input('Entre tres números separados por coma: ') "
   ]
  },
  {
   "cell_type": "code",
   "execution_count": 5,
   "id": "f3c38e7e",
   "metadata": {},
   "outputs": [],
   "source": [
    "numeros = numeros.split(',') "
   ]
  },
  {
   "cell_type": "code",
   "execution_count": 4,
   "id": "bd21770e",
   "metadata": {},
   "outputs": [
    {
     "data": {
      "text/plain": [
       "'2,3,4'"
      ]
     },
     "execution_count": 4,
     "metadata": {},
     "output_type": "execute_result"
    }
   ],
   "source": []
  },
  {
   "cell_type": "code",
   "execution_count": 6,
   "id": "2924c085",
   "metadata": {},
   "outputs": [],
   "source": [
    "for i in range(3):\n",
    "    numeros[i] = int(numeros[i])"
   ]
  },
  {
   "cell_type": "code",
   "execution_count": 7,
   "id": "101cbc61",
   "metadata": {},
   "outputs": [
    {
     "data": {
      "text/plain": [
       "[2, 3, 4]"
      ]
     },
     "execution_count": 7,
     "metadata": {},
     "output_type": "execute_result"
    }
   ],
   "source": [
    "numeros "
   ]
  },
  {
   "cell_type": "code",
   "execution_count": 8,
   "id": "d764aa09",
   "metadata": {},
   "outputs": [],
   "source": [
    "a,b,c = numeros "
   ]
  },
  {
   "cell_type": "code",
   "execution_count": 9,
   "id": "94cdc53d",
   "metadata": {},
   "outputs": [
    {
     "data": {
      "text/plain": [
       "2"
      ]
     },
     "execution_count": 9,
     "metadata": {},
     "output_type": "execute_result"
    }
   ],
   "source": [
    "a "
   ]
  },
  {
   "cell_type": "code",
   "execution_count": 10,
   "id": "d389d21d",
   "metadata": {},
   "outputs": [
    {
     "data": {
      "text/plain": [
       "3"
      ]
     },
     "execution_count": 10,
     "metadata": {},
     "output_type": "execute_result"
    }
   ],
   "source": [
    "b "
   ]
  },
  {
   "cell_type": "code",
   "execution_count": 11,
   "id": "45351837",
   "metadata": {},
   "outputs": [
    {
     "data": {
      "text/plain": [
       "4"
      ]
     },
     "execution_count": 11,
     "metadata": {},
     "output_type": "execute_result"
    }
   ],
   "source": [
    "c "
   ]
  },
  {
   "cell_type": "code",
   "execution_count": 13,
   "id": "96a9276b",
   "metadata": {},
   "outputs": [],
   "source": [
    "def psp():\n",
    "    numeros = input('Entre tres números separados por coma: ') \n",
    "    numeros = numeros.split(',')\n",
    "    for i in range(3):\n",
    "        numeros[i] = int(numeros[i])\n",
    "    a,b,c = numeros \n",
    "    sumatoria = a+b+c\n",
    "    producto = a*b*c\n",
    "    promedio = (a+b+c)/3\n",
    "    return producto, sumatoria, promedio"
   ]
  },
  {
   "cell_type": "code",
   "execution_count": 14,
   "id": "2f6fb4e0",
   "metadata": {},
   "outputs": [
    {
     "name": "stdout",
     "output_type": "stream",
     "text": [
      "Entre tres números separados por coma: 2,3,4\n"
     ]
    },
    {
     "data": {
      "text/plain": [
       "(24, 9, 3.0)"
      ]
     },
     "execution_count": 14,
     "metadata": {},
     "output_type": "execute_result"
    }
   ],
   "source": [
    "psp() "
   ]
  },
  {
   "cell_type": "code",
   "execution_count": null,
   "id": "ed2ad838",
   "metadata": {},
   "outputs": [],
   "source": []
  }
 ],
 "metadata": {
  "celltoolbar": "Slideshow",
  "kernelspec": {
   "display_name": "Python 3",
   "language": "python",
   "name": "python3"
  },
  "language_info": {
   "codemirror_mode": {
    "name": "ipython",
    "version": 3
   },
   "file_extension": ".py",
   "mimetype": "text/x-python",
   "name": "python",
   "nbconvert_exporter": "python",
   "pygments_lexer": "ipython3",
   "version": "3.8.8"
  },
  "latex_envs": {
   "LaTeX_envs_menu_present": true,
   "autoclose": false,
   "autocomplete": false,
   "bibliofile": "biblio.bib",
   "cite_by": "apalike",
   "current_citInitial": 1,
   "eqLabelWithNumbers": true,
   "eqNumInitial": 1,
   "hotkeys": {
    "equation": "Ctrl-E",
    "itemize": "Ctrl-I"
   },
   "labels_anchors": false,
   "latex_user_defs": false,
   "report_style_numbering": false,
   "user_envs_cfg": false
  }
 },
 "nbformat": 4,
 "nbformat_minor": 5
}
