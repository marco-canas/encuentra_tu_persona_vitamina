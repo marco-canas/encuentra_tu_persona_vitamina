{
 "cells": [
  {
   "cell_type": "markdown",
   "id": "50f1c8a7",
   "metadata": {},
   "source": []
  },
  {
   "cell_type": "markdown",
   "id": "e414bca1",
   "metadata": {},
   "source": [
    "# Ejercicio 27 del Taller 1"
   ]
  },
  {
   "cell_type": "markdown",
   "id": "379e154a",
   "metadata": {},
   "source": [
    "27. Construya una función que tenga como entrada tres puntos del plano y que determine si dichos puntos son o no son vértices de un triángulo acutángulo."
   ]
  },
  {
   "cell_type": "markdown",
   "id": "ccd560da",
   "metadata": {},
   "source": [
    "## Solución: "
   ]
  },
  {
   "cell_type": "code",
   "execution_count": 17,
   "id": "9aaed081",
   "metadata": {},
   "outputs": [],
   "source": [
    "import numpy as np "
   ]
  },
  {
   "cell_type": "code",
   "execution_count": 18,
   "id": "0725129e",
   "metadata": {},
   "outputs": [
    {
     "data": {
      "text/plain": [
       "array([[4, 1],\n",
       "       [0, 3],\n",
       "       [6, 7]])"
      ]
     },
     "execution_count": 18,
     "metadata": {},
     "output_type": "execute_result"
    }
   ],
   "source": [
    "p = np.random.randint(0,9, size = (3,2))  \n",
    "p "
   ]
  },
  {
   "cell_type": "code",
   "execution_count": 19,
   "id": "212837e5",
   "metadata": {},
   "outputs": [],
   "source": [
    "p = np.vstack((p,p[0,:]))"
   ]
  },
  {
   "cell_type": "markdown",
   "id": "b5669d25",
   "metadata": {},
   "source": [
    "## Visualización del triángulo a evaluar"
   ]
  },
  {
   "cell_type": "code",
   "execution_count": 31,
   "id": "d3143d51",
   "metadata": {},
   "outputs": [
    {
     "data": {
      "image/png": "[encoded data removed]",
      "text/plain": [
       "<Figure size 432x288 with 1 Axes>"
      ]
     },
     "metadata": {
      "needs_background": "light"
     },
     "output_type": "display_data"
    }
   ],
   "source": [
    "import numpy as np\n",
    "import matplotlib.pyplot as plt \n",
    "\n",
    "fig, ax = plt.subplots(1,1)\n",
    "\n",
    "ax.scatter(p[:,0], p[:,1], color = 'red')\n",
    "ax.plot(p[:,0], p[:,1], color = 'blue')\n",
    "ax.text(p[0,0], p[0,1]-0.6, 'A')\n",
    "ax.text(p[1,0]-0.3, p[1,1]-0.6, 'B')\n",
    "ax.text(p[2,0]+0.2, p[2,1]-0.4, 'C')\n",
    "\n",
    "ax.axis([-1,10,-1,10])\n",
    "\n",
    "ax.grid() "
   ]
  },
  {
   "cell_type": "code",
   "execution_count": null,
   "id": "24e3b77b",
   "metadata": {},
   "outputs": [],
   "source": []
  },
  {
   "cell_type": "markdown",
   "id": "fba55c0e",
   "metadata": {},
   "source": [
    "## Referentes  \n",
    "\n",
    "* numpy.vstack: https://numpy.org/doc/stable/reference/generated/numpy.vstack.html\n",
    "\n",
    "* "
   ]
  },
  {
   "cell_type": "code",
   "execution_count": null,
   "id": "a1f62248",
   "metadata": {},
   "outputs": [],
   "source": []
  }
 ],
 "metadata": {
  "kernelspec": {
   "display_name": "Python 3",
   "language": "python",
   "name": "python3"
  },
  "language_info": {
   "codemirror_mode": {
    "name": "ipython",
    "version": 3
   },
   "file_extension": ".py",
   "mimetype": "text/x-python",
   "name": "python",
   "nbconvert_exporter": "python",
   "pygments_lexer": "ipython3",
   "version": "3.8.8"
  },
  "latex_envs": {
   "LaTeX_envs_menu_present": true,
   "autoclose": false,
   "autocomplete": false,
   "bibliofile": "biblio.bib",
   "cite_by": "apalike",
   "current_citInitial": 1,
   "eqLabelWithNumbers": true,
   "eqNumInitial": 1,
   "hotkeys": {
    "equation": "Ctrl-E",
    "itemize": "Ctrl-I"
   },
   "labels_anchors": false,
   "latex_user_defs": false,
   "report_style_numbering": false,
   "user_envs_cfg": false
  }
 },
 "nbformat": 4,
 "nbformat_minor": 5
}
