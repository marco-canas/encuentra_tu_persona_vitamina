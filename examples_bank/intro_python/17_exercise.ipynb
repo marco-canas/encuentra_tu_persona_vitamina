{
 "cells": [
  {
   "cell_type": "markdown",
   "id": "d6ae84f1",
   "metadata": {},
   "source": [
    "17. Haga un programa en Python que reciba como entrada, desde el teclado, tres números e imprima el promedio, la sumatoria y el producto de los dichos números."
   ]
  },
  {
   "cell_type": "code",
   "execution_count": 9,
   "id": "e3716e73",
   "metadata": {},
   "outputs": [],
   "source": [
    "import numpy as np "
   ]
  },
  {
   "cell_type": "code",
   "execution_count": 10,
   "id": "dda1e482",
   "metadata": {},
   "outputs": [],
   "source": [
    "def entrada_por_teclado(n):\n",
    "    lista_enteros = []\n",
    "    for i in range(n):\n",
    "        lista_enteros.append(float(input('Entre un número: ')))\n",
    "    return np.array(lista_enteros)"
   ]
  },
  {
   "cell_type": "code",
   "execution_count": 11,
   "id": "d0c37b92",
   "metadata": {},
   "outputs": [
    {
     "name": "stdout",
     "output_type": "stream",
     "text": [
      "Entre un número: 1\n",
      "Entre un número: 2\n",
      "Entre un número: 3\n"
     ]
    },
    {
     "data": {
      "text/plain": [
       "array([1., 2., 3.])"
      ]
     },
     "execution_count": 11,
     "metadata": {},
     "output_type": "execute_result"
    }
   ],
   "source": [
    "entrada_por_teclado(3)"
   ]
  },
  {
   "cell_type": "code",
   "execution_count": 14,
   "id": "e28843c6",
   "metadata": {},
   "outputs": [],
   "source": [
    "def entrada_y_calculo_promedio_suma_producto(n = 3):\n",
    "    lista_numeros = entrada_por_teclado(n)\n",
    "    print(sum(lista_numeros)/n, sum(lista_numeros),np.prod(lista_numeros))"
   ]
  },
  {
   "cell_type": "code",
   "execution_count": 15,
   "id": "bf4fc259",
   "metadata": {},
   "outputs": [
    {
     "name": "stdout",
     "output_type": "stream",
     "text": [
      "Entre un número: 1\n",
      "Entre un número: 2\n",
      "Entre un número: 3\n",
      "2.0 6.0 6.0\n"
     ]
    }
   ],
   "source": [
    "entrada_y_calculo_promedio_suma_producto(n = 3)"
   ]
  },
  {
   "cell_type": "markdown",
   "id": "eeb14b1f",
   "metadata": {},
   "source": [
    "## Referentes \n",
    "\n",
    "* `numpy.prod()`: https://numpy.org/doc/stable/reference/generated/numpy.prod.html \n"
   ]
  },
  {
   "cell_type": "code",
   "execution_count": null,
   "id": "c9e0534c",
   "metadata": {},
   "outputs": [],
   "source": []
  }
 ],
 "metadata": {
  "kernelspec": {
   "display_name": "Python 3",
   "language": "python",
   "name": "python3"
  },
  "language_info": {
   "codemirror_mode": {
    "name": "ipython",
    "version": 3
   },
   "file_extension": ".py",
   "mimetype": "text/x-python",
   "name": "python",
   "nbconvert_exporter": "python",
   "pygments_lexer": "ipython3",
   "version": "3.8.8"
  },
  "latex_envs": {
   "LaTeX_envs_menu_present": true,
   "autoclose": false,
   "autocomplete": false,
   "bibliofile": "biblio.bib",
   "cite_by": "apalike",
   "current_citInitial": 1,
   "eqLabelWithNumbers": true,
   "eqNumInitial": 1,
   "hotkeys": {
    "equation": "Ctrl-E",
    "itemize": "Ctrl-I"
   },
   "labels_anchors": false,
   "latex_user_defs": false,
   "report_style_numbering": false,
   "user_envs_cfg": false
  }
 },
 "nbformat": 4,
 "nbformat_minor": 5
}
