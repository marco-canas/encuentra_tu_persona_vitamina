{
 "cells": [
  {
   "cell_type": "markdown",
   "id": "c36286eb",
   "metadata": {},
   "source": []
  },
  {
   "cell_type": "markdown",
   "id": "d6e547d2",
   "metadata": {},
   "source": [
    "# Problema sobre distancia en $\\mathbb{R}$ "
   ]
  },
  {
   "cell_type": "markdown",
   "id": "428faf88",
   "metadata": {},
   "source": [
    "Defina una función que, dados cinco números enteros, determine cuál de los cuatro últimos números es el más cercano al primero. Por ejemplo, si se ingresan los enteros 2, 6, 4, 1 y 10, la función debe imprimir por pantalla que el número más cercano al 2 es el 1.\n"
   ]
  },
  {
   "cell_type": "markdown",
   "id": "b5856606",
   "metadata": {},
   "source": [
    "## [Video de apoyo](https://www.youtube.com/watch?v=QkAKmXUYV_8)  "
   ]
  },
  {
   "cell_type": "markdown",
   "id": "96113185",
   "metadata": {},
   "source": [
    "## Solución:"
   ]
  },
  {
   "cell_type": "markdown",
   "id": "393a1fe3",
   "metadata": {},
   "source": [
    "1. Definir lista con la entrada de usuario donde se pidió la lista de cinco números"
   ]
  },
  {
   "cell_type": "markdown",
   "id": "28b8ea97",
   "metadata": {},
   "source": [
    "2. Convertir la lista de números"
   ]
  },
  {
   "cell_type": "markdown",
   "id": "51152de7",
   "metadata": {},
   "source": [
    "3. define la función que determina cuál de los números dados es el más cercano al primero. "
   ]
  },
  {
   "cell_type": "markdown",
   "id": "98e41920",
   "metadata": {},
   "source": [
    "## Construcción de función que determina el índice del menor elemento en una lista de enteros"
   ]
  },
  {
   "cell_type": "code",
   "execution_count": 1,
   "id": "45a882b5",
   "metadata": {},
   "outputs": [],
   "source": [
    "def el_que_esta_a_menor_distancia():\n",
    "    lista = input('Entre una lista de cinco números enteros separados por coma: ').split(',') \n",
    "    for i in range(len(lista)):\n",
    "        lista[i] = int(lista[i])\n",
    "\n",
    "    primero = lista[0]\n",
    "    distancia = []\n",
    "    for i in range(len(lista) - 1):\n",
    "        distancia.append(abs(primero - lista[i+1]))\n",
    "    def indice_del_menor_elemento(lista):\n",
    "        menor = min(lista)\n",
    "        for i in range(len(lista)):\n",
    "            if lista[i]==menor:\n",
    "                return i    \n",
    "    return print('el numero que esta más cerca el primero es: ', \n",
    "                 lista[indice_del_menor_elemento(distancia) + 1])    \n",
    "    "
   ]
  },
  {
   "cell_type": "code",
   "execution_count": 2,
   "id": "280f9cf8",
   "metadata": {
    "scrolled": true
   },
   "outputs": [
    {
     "name": "stdout",
     "output_type": "stream",
     "text": [
      "Entre una lista de cinco números enteros separados por coma: 1,2,3,4,5\n",
      "el numero que esta más cerca el primero es:  2\n"
     ]
    }
   ],
   "source": [
    "el_que_esta_a_menor_distancia() "
   ]
  },
  {
   "cell_type": "code",
   "execution_count": null,
   "id": "bcebaaf8",
   "metadata": {},
   "outputs": [],
   "source": []
  },
  {
   "cell_type": "code",
   "execution_count": null,
   "id": "b9ad2159",
   "metadata": {},
   "outputs": [],
   "source": []
  },
  {
   "cell_type": "markdown",
   "id": "db90861d",
   "metadata": {},
   "source": [
    "## Funciones de Python utilizadas en este ejercicio"
   ]
  },
  {
   "cell_type": "markdown",
   "id": "20bd24ff",
   "metadata": {},
   "source": [
    "* `dir(list)`\n",
    "* `min()`\n",
    "* `.split(',')` es un método de cadenas en Python\n",
    "* `int()`\n",
    "* `range()`\n",
    "* `len()`\n",
    "* `.append()`: método para agregar elementos a una lista.\n",
    "* `abs()` "
   ]
  },
  {
   "cell_type": "code",
   "execution_count": 4,
   "id": "6f021ae4",
   "metadata": {},
   "outputs": [
    {
     "data": {
      "text/plain": [
       "1"
      ]
     },
     "execution_count": 4,
     "metadata": {},
     "output_type": "execute_result"
    }
   ],
   "source": [
    "min([1,2])"
   ]
  },
  {
   "cell_type": "markdown",
   "id": "5960a1c1",
   "metadata": {},
   "source": [
    "## Referentes  \n",
    "\n",
    "* Downey  \n",
    "* Calderon"
   ]
  },
  {
   "cell_type": "code",
   "execution_count": null,
   "id": "9a7cab13",
   "metadata": {},
   "outputs": [],
   "source": []
  }
 ],
 "metadata": {
  "kernelspec": {
   "display_name": "Python 3",
   "language": "python",
   "name": "python3"
  },
  "language_info": {
   "codemirror_mode": {
    "name": "ipython",
    "version": 3
   },
   "file_extension": ".py",
   "mimetype": "text/x-python",
   "name": "python",
   "nbconvert_exporter": "python",
   "pygments_lexer": "ipython3",
   "version": "3.8.8"
  },
  "latex_envs": {
   "LaTeX_envs_menu_present": true,
   "autoclose": false,
   "autocomplete": false,
   "bibliofile": "biblio.bib",
   "cite_by": "apalike",
   "current_citInitial": 1,
   "eqLabelWithNumbers": true,
   "eqNumInitial": 1,
   "hotkeys": {
    "equation": "Ctrl-E",
    "itemize": "Ctrl-I"
   },
   "labels_anchors": false,
   "latex_user_defs": false,
   "report_style_numbering": false,
   "user_envs_cfg": false
  }
 },
 "nbformat": 4,
 "nbformat_minor": 5
}
