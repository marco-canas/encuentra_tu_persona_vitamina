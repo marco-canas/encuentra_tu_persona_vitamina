{
 "cells": [
  {
   "cell_type": "markdown",
   "id": "fe024183",
   "metadata": {
    "slideshow": {
     "slide_type": "slide"
    }
   },
   "source": [
    "<table align=\"left\">\n",
    "  <td>\n",
    "    <a href=\"https://colab.research.google.com/github/marco-canas/taca/blob/main/ref/geron/chap_2/5_prepare_for_algorithms/1_prepare_for_algorithms.ipynb\" target=\"_parent\"><img src=\"https://colab.research.google.com/assets/colab-badge.svg\" alt=\"Open In Colab\"/></a>\n",
    "  </td>\n",
    "  <td>\n",
    "    <a target=\"_blank\" href=\"https://kaggle.com/kernels/welcome?src=https://github.com/marco-canas/taca/blob/main/ref/geron/chap_2/5_prepare_for_algorithms/1_prepare_for_algorithms.ipynb\"><img src=\"https://kaggle.com/static/images/open-in-kaggle.svg\" /></a>\n",
    "  </td>\n",
    "</table> "
   ]
  },
  {
   "cell_type": "markdown",
   "id": "b124e7e6",
   "metadata": {
    "slideshow": {
     "slide_type": "slide"
    }
   },
   "source": [
    "# Ejercicios sobre String en Python"
   ]
  },
  {
   "cell_type": "markdown",
   "id": "ab1f7bbe",
   "metadata": {
    "slideshow": {
     "slide_type": "slide"
    }
   },
   "source": [
    "## [Video de apoyo](https://www.youtube.com/watch?v=wSEdWo7Wv1s)"
   ]
  },
  {
   "cell_type": "markdown",
   "id": "4e40620f",
   "metadata": {
    "slideshow": {
     "slide_type": "slide"
    }
   },
   "source": [
    "Para entender cómo funciona a nivel básico el lenguaje Python realizaremos un ejercicio. "
   ]
  },
  {
   "cell_type": "markdown",
   "id": "8f6a3ce5",
   "metadata": {
    "slideshow": {
     "slide_type": "slide"
    }
   },
   "source": [
    "Vamos a recibir una cadena de texto e invertir las letras minúsculas a mayúsculas y las letras mayúsculas pasarlas a minúsculas."
   ]
  },
  {
   "cell_type": "markdown",
   "id": "5b7c1152",
   "metadata": {
    "slideshow": {
     "slide_type": "slide"
    }
   },
   "source": [
    "Para resolver este reto, usaremos una estructura de control y un condicional de la siguiente forma:"
   ]
  },
  {
   "cell_type": "markdown",
   "id": "71e4c5e3",
   "metadata": {
    "slideshow": {
     "slide_type": "slide"
    }
   },
   "source": [
    "1. Recibimos la cadena de texto que transformaremos.\n",
    "\n",
    "2. Recorremos cada letra de la cadena de texto con un ciclo `for`."
   ]
  },
  {
   "cell_type": "markdown",
   "id": "0460b65f",
   "metadata": {
    "slideshow": {
     "slide_type": "slide"
    }
   },
   "source": [
    "3. Por cada iteración preguntaremos si la letra actual es mayúscula, si esto es verdadero, entonces nuestra variable result la escribirá en minúscula.\n",
    "\n",
    "4. Si la condición anterior es falsa, entonces entenderemos que la letra actual es minúscula y en result la escribiremos en mayúscula."
   ]
  },
  {
   "cell_type": "markdown",
   "id": "844753f8",
   "metadata": {
    "slideshow": {
     "slide_type": "slide"
    }
   },
   "source": [
    "5. Al final mostraremos todas las letras concatenadas en `result`. Sabemos que se ha concatenado porque usamos “+=” que va uniendo cada letra de cada iteración hasta mostrar el resultado al finalizar todas las iteraciones.\n",
    "\n",
    "Ahora veamos esta lógica de manera gráfica:"
   ]
  },
  {
   "cell_type": "markdown",
   "id": "1a3b5280",
   "metadata": {
    "slideshow": {
     "slide_type": "slide"
    }
   },
   "source": [
    "Al finalizar todas las iteraciones, la variable result tendrá todas las letras concatenadas con la misma palabra y sus letras invertidas, en este caso, “Hola” se convertirá en “hOLA”.\n",
    "\n",
    "Acompáñame a la siguiente clase donde veremos este ejercicio en código del lenguaje Python."
   ]
  },
  {
   "cell_type": "code",
   "execution_count": 11,
   "id": "b40e3060",
   "metadata": {
    "slideshow": {
     "slide_type": "slide"
    }
   },
   "outputs": [
    {
     "name": "stdout",
     "output_type": "stream",
     "text": [
      "entregue la cade a convertir: Yasmira\n"
     ]
    }
   ],
   "source": [
    "cadena = input('entregue la cade a convertir: ') \n",
    "\n",
    "# Recuerde dejar un espacio antes del delimitador de cadena derecho"
   ]
  },
  {
   "cell_type": "code",
   "execution_count": 12,
   "id": "8735590b",
   "metadata": {
    "slideshow": {
     "slide_type": "slide"
    }
   },
   "outputs": [
    {
     "data": {
      "text/plain": [
       "str"
      ]
     },
     "execution_count": 12,
     "metadata": {},
     "output_type": "execute_result"
    }
   ],
   "source": [
    "type(cadena)\n"
   ]
  },
  {
   "cell_type": "code",
   "execution_count": 13,
   "id": "f2f1a676",
   "metadata": {
    "slideshow": {
     "slide_type": "slide"
    }
   },
   "outputs": [],
   "source": [
    "\n",
    "def convertir_mayur_en_minus(string):\n",
    "    resultado = ''\n",
    "    for letra in string:\n",
    "        if letra == letra.upper():\n",
    "            resultado = resultado + letra.lower()\n",
    "        else:\n",
    "            resultado = resultado + letra.upper() \n",
    "    return resultado         "
   ]
  },
  {
   "cell_type": "code",
   "execution_count": 14,
   "id": "9e62c3f1",
   "metadata": {
    "slideshow": {
     "slide_type": "slide"
    }
   },
   "outputs": [
    {
     "data": {
      "text/plain": [
       "'yASMIRA'"
      ]
     },
     "execution_count": 14,
     "metadata": {},
     "output_type": "execute_result"
    }
   ],
   "source": [
    "convertir_mayur_en_minus(cadena)"
   ]
  },
  {
   "cell_type": "code",
   "execution_count": null,
   "id": "b4cf703a",
   "metadata": {},
   "outputs": [],
   "source": []
  },
  {
   "cell_type": "markdown",
   "id": "6c63a102",
   "metadata": {},
   "source": [
    "## Otra manera de resolver el problema"
   ]
  },
  {
   "cell_type": "markdown",
   "id": "6f47d3e2",
   "metadata": {
    "slideshow": {
     "slide_type": "slide"
    }
   },
   "source": [
    "Una solución la encuentra dando doble clic en la siguiente línea. "
   ]
  },
  {
   "cell_type": "code",
   "execution_count": 13,
   "id": "8df81e6c",
   "metadata": {
    "slideshow": {
     "slide_type": "slide"
    }
   },
   "outputs": [
    {
     "data": {
      "text/plain": [
       "'mARCO'"
      ]
     },
     "execution_count": 13,
     "metadata": {},
     "output_type": "execute_result"
    }
   ],
   "source": [
    "string = 'Marco'\n",
    "result = ''\n",
    "for letter in string:\n",
    "    if letter == letter.upper():\n",
    "        result+=letter.lower() \n",
    "    else:\n",
    "        result+= letter.upper()\n",
    "         \n",
    "result \n"
   ]
  },
  {
   "cell_type": "code",
   "execution_count": null,
   "id": "e977a282",
   "metadata": {
    "slideshow": {
     "slide_type": "skip"
    }
   },
   "outputs": [],
   "source": []
  },
  {
   "cell_type": "markdown",
   "id": "c54d9e2f",
   "metadata": {
    "slideshow": {
     "slide_type": "slide"
    }
   },
   "source": [
    "## Secuencia didáctica de conceptos necesarios para resolver este problema"
   ]
  },
  {
   "cell_type": "markdown",
   "id": "15044e8e",
   "metadata": {
    "slideshow": {
     "slide_type": "slide"
    }
   },
   "source": [
    "1. Definición de variables en Python\n",
    "2. Inicializar cadenas vacías.\n",
    "3. El control de flujo `for`\n",
    "4. El condicional `if`\n",
    "5. Los métodos de cadena `.lower()` y `upper()`.\n",
    "6. La sentencia `+=` de Python.\n",
    "7. Operador de comparación `==` \n",
    "8. Operador de asignación `=`."
   ]
  },
  {
   "cell_type": "markdown",
   "id": "4d125ce3",
   "metadata": {
    "slideshow": {
     "slide_type": "slide"
    }
   },
   "source": [
    "## Referentes\n",
    "\n",
    "* Downey. "
   ]
  },
  {
   "cell_type": "code",
   "execution_count": null,
   "id": "37ad0001",
   "metadata": {},
   "outputs": [],
   "source": []
  }
 ],
 "metadata": {
  "celltoolbar": "Slideshow",
  "kernelspec": {
   "display_name": "Python 3",
   "language": "python",
   "name": "python3"
  },
  "language_info": {
   "codemirror_mode": {
    "name": "ipython",
    "version": 3
   },
   "file_extension": ".py",
   "mimetype": "text/x-python",
   "name": "python",
   "nbconvert_exporter": "python",
   "pygments_lexer": "ipython3",
   "version": "3.8.8"
  },
  "latex_envs": {
   "LaTeX_envs_menu_present": true,
   "autoclose": false,
   "autocomplete": false,
   "bibliofile": "biblio.bib",
   "cite_by": "apalike",
   "current_citInitial": 1,
   "eqLabelWithNumbers": true,
   "eqNumInitial": 1,
   "hotkeys": {
    "equation": "Ctrl-E",
    "itemize": "Ctrl-I"
   },
   "labels_anchors": false,
   "latex_user_defs": false,
   "report_style_numbering": false,
   "user_envs_cfg": false
  },
  "rise": {
   "enable_chalkboard": true,
   "theme": "sky",
   "transition": "sky"
  }
 },
 "nbformat": 4,
 "nbformat_minor": 5
}
