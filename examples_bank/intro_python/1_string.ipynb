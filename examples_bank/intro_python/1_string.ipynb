{
 "cells": [
  {
   "cell_type": "markdown",
   "id": "fe024183",
   "metadata": {},
   "source": []
  },
  {
   "cell_type": "markdown",
   "id": "b124e7e6",
   "metadata": {},
   "source": [
    "# Ejercicios sobre String en Python"
   ]
  },
  {
   "cell_type": "markdown",
   "id": "5b7c1152",
   "metadata": {},
   "source": [
    "Para entender cómo funciona a nivel básico el lenguaje Python realizaremos un ejercicio. Vamos a recibir una cadena de texto e invertir las letras minúsculas a mayúsculas y las letras mayúsculas pasarlas a minúsculas.\n",
    "\n",
    "Para resolver este reto, usaremos una estructura de control y un condicional de la siguiente forma:"
   ]
  },
  {
   "cell_type": "markdown",
   "id": "844753f8",
   "metadata": {},
   "source": [
    "1. Recibimos la cadena de texto que transformaremos.\n",
    "\n",
    "2. Recorremos cada letra de la cadena de texto con un ciclo `for`.\n",
    "\n",
    "3. Por cada iteración preguntaremos si la letra actual es mayúscula, si esto es verdadero, entonces nuestra variable result la escribirá en minúscula.\n",
    "\n",
    "4. Si la condición anterior es falsa, entonces entenderemos que la letra actual es minúscula y en result la escribiremos en mayúscula.\n",
    "\n",
    "5. Al final mostraremos todas las letras concatenadas en `result`. Sabemos que se ha concatenado porque usamos “+=” que va uniendo cada letra de cada iteración hasta mostrar el resultado al finalizar todas las iteraciones.\n",
    "\n",
    "Ahora veamos esta lógica de manera gráfica:"
   ]
  },
  {
   "cell_type": "markdown",
   "id": "1a3b5280",
   "metadata": {},
   "source": [
    "Al finalizar todas las iteraciones, la variable result tendrá todas las letras concatenadas con la misma palabra y sus letras invertidas, en este caso, “Hola” se convertirá en “hOLA”.\n",
    "\n",
    "Acompáñame a la siguiente clase donde veremos este ejercicio en código del lenguaje Python."
   ]
  },
  {
   "cell_type": "markdown",
   "id": "6f47d3e2",
   "metadata": {},
   "source": [
    "Una solución la encuentra dando doble clic en la siguiente línea. "
   ]
  },
  {
   "cell_type": "code",
   "execution_count": 13,
   "id": "8df81e6c",
   "metadata": {},
   "outputs": [
    {
     "data": {
      "text/plain": [
       "'mARCO'"
      ]
     },
     "execution_count": 13,
     "metadata": {},
     "output_type": "execute_result"
    }
   ],
   "source": [
    "string = 'Marco'\n",
    "result = ''\n",
    "for letter in string:\n",
    "    if letter == letter.upper():\n",
    "        result+=letter.lower() \n",
    "    else:\n",
    "        result+= letter.upper()\n",
    "         \n",
    "result \n"
   ]
  },
  {
   "cell_type": "code",
   "execution_count": 11,
   "id": "9916b726",
   "metadata": {},
   "outputs": [
    {
     "ename": "SyntaxError",
     "evalue": "invalid syntax (<ipython-input-11-6db8306005fb>, line 3)",
     "output_type": "error",
     "traceback": [
      "\u001b[1;36m  File \u001b[1;32m\"<ipython-input-11-6db8306005fb>\"\u001b[1;36m, line \u001b[1;32m3\u001b[0m\n\u001b[1;33m    string = 'Hola'\u001b[0m\n\u001b[1;37m           ^\u001b[0m\n\u001b[1;31mSyntaxError\u001b[0m\u001b[1;31m:\u001b[0m invalid syntax\n"
     ]
    }
   ],
   "source": [
    "{\n",
    "    \"tags\": [\n",
    "string = 'Hola'\n",
    "result = ''\n",
    "for letter in string:\n",
    "    if letter == letter.upper():\n",
    "        result+=letter.lower() \n",
    "    else:\n",
    "        result+= letter.upper()\n",
    "         \n",
    "result \n",
    "    ]\n",
    "}"
   ]
  },
  {
   "cell_type": "code",
   "execution_count": null,
   "id": "e977a282",
   "metadata": {},
   "outputs": [],
   "source": []
  }
 ],
 "metadata": {
  "kernelspec": {
   "display_name": "Python 3",
   "language": "python",
   "name": "python3"
  },
  "language_info": {
   "codemirror_mode": {
    "name": "ipython",
    "version": 3
   },
   "file_extension": ".py",
   "mimetype": "text/x-python",
   "name": "python",
   "nbconvert_exporter": "python",
   "pygments_lexer": "ipython3",
   "version": "3.8.8"
  },
  "latex_envs": {
   "LaTeX_envs_menu_present": true,
   "autoclose": false,
   "autocomplete": false,
   "bibliofile": "biblio.bib",
   "cite_by": "apalike",
   "current_citInitial": 1,
   "eqLabelWithNumbers": true,
   "eqNumInitial": 1,
   "hotkeys": {
    "equation": "Ctrl-E",
    "itemize": "Ctrl-I"
   },
   "labels_anchors": false,
   "latex_user_defs": false,
   "report_style_numbering": false,
   "user_envs_cfg": false
  }
 },
 "nbformat": 4,
 "nbformat_minor": 5
}
