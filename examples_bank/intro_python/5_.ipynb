{
 "cells": [
  {
   "cell_type": "markdown",
   "id": "62d81b93",
   "metadata": {},
   "source": [
    "\n",
    "<table align=\"left\">\n",
    "  <td>\n",
    "    <a href=\"https://colab.research.google.com/github/marco-canas/taca/blob/main/ref/geron/chap_2/5_prepare_for_algorithms/2_data_cleaning.ipynb\" target=\"_parent\"><img src=\"https://colab.research.google.com/assets/colab-badge.svg\" alt=\"Open In Colab\"/></a>\n",
    "  </td>\n",
    "  <td>\n",
    "    <a target=\"_blank\" href=\"https://kaggle.com/kernels/welcome?src=https://github.com/marco-canas/taca/blob/main/ref/geron/chap_2/5_prepare_for_algorithms/2_data_cleaning.ipynb\"><img src=\"https://kaggle.com/static/images/open-in-kaggle.svg\" /></a>\n",
    "  </td>\n",
    "</table>\n"
   ]
  },
  {
   "cell_type": "markdown",
   "id": "06af78fd",
   "metadata": {},
   "source": [
    "# Problema de construcción de funciones con condicional"
   ]
  },
  {
   "cell_type": "markdown",
   "id": "60919406",
   "metadata": {},
   "source": [
    "Construya una funcón que, dado un número que debe representar la calificación numérica de un examen, proporcione la calificación cualitativa correspondiente a dicho número. \n",
    "Esta calificación cualitativa será una de las siguientes:    \n",
    "a) **Reprobado:** nota menor o igual a 5.  \n",
    "b) **Suspenso:** nota mayor a 5 y menor o igual a 7.  \n",
    "c) **Notable:** nota mayor a 7 y menor o igual a 8.5.  \n",
    "d) **Sobresaliente:** nota mayor a 8.5 y menor a 10.  \n",
    "e) **Matrícula de honor:** nota de 10.  "
   ]
  },
  {
   "cell_type": "markdown",
   "id": "ddbaa186",
   "metadata": {},
   "source": [
    "## Solución: "
   ]
  },
  {
   "cell_type": "code",
   "execution_count": 4,
   "id": "ed2fc7f5",
   "metadata": {},
   "outputs": [
    {
     "name": "stdout",
     "output_type": "stream",
     "text": [
      "entre la calificación cuantitativa: 8\n"
     ]
    }
   ],
   "source": [
    "cal_cuant = input('entre la calificación cuantitativa: ')"
   ]
  },
  {
   "cell_type": "code",
   "execution_count": 5,
   "id": "d0ca1cd6",
   "metadata": {},
   "outputs": [
    {
     "data": {
      "text/plain": [
       "str"
      ]
     },
     "execution_count": 5,
     "metadata": {},
     "output_type": "execute_result"
    }
   ],
   "source": [
    "type(cal_cuant)"
   ]
  },
  {
   "cell_type": "code",
   "execution_count": null,
   "id": "777f0e8f",
   "metadata": {},
   "outputs": [],
   "source": [
    "def calificacion_cualitativa(cal):"
   ]
  },
  {
   "cell_type": "code",
   "execution_count": null,
   "id": "94e10495",
   "metadata": {},
   "outputs": [],
   "source": []
  }
 ],
 "metadata": {
  "kernelspec": {
   "display_name": "Python 3",
   "language": "python",
   "name": "python3"
  },
  "language_info": {
   "codemirror_mode": {
    "name": "ipython",
    "version": 3
   },
   "file_extension": ".py",
   "mimetype": "text/x-python",
   "name": "python",
   "nbconvert_exporter": "python",
   "pygments_lexer": "ipython3",
   "version": "3.8.8"
  },
  "latex_envs": {
   "LaTeX_envs_menu_present": true,
   "autoclose": false,
   "autocomplete": false,
   "bibliofile": "biblio.bib",
   "cite_by": "apalike",
   "current_citInitial": 1,
   "eqLabelWithNumbers": true,
   "eqNumInitial": 1,
   "hotkeys": {
    "equation": "Ctrl-E",
    "itemize": "Ctrl-I"
   },
   "labels_anchors": false,
   "latex_user_defs": false,
   "report_style_numbering": false,
   "user_envs_cfg": false
  }
 },
 "nbformat": 4,
 "nbformat_minor": 5
}
