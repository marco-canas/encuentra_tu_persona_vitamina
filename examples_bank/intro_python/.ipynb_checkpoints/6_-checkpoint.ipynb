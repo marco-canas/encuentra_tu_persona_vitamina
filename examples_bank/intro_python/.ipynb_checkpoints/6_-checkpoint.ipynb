{
 "cells": [
  {
   "cell_type": "markdown",
   "id": "648012c3",
   "metadata": {},
   "source": [
    "<table align=\"left\">\n",
    "  <td>\n",
    "    <a href=\"https://colab.research.google.com/github/marco-canas/taca/blob/main/ref/geron/chap_2/5_prepare_for_algorithms/1_prepare_for_algorithms.ipynb\" target=\"_parent\"><img src=\"https://colab.research.google.com/assets/colab-badge.svg\" alt=\"Open In Colab\"/></a>\n",
    "  </td>\n",
    "  <td>\n",
    "    <a target=\"_blank\" href=\"https://kaggle.com/kernels/welcome?src=https://github.com/marco-canas/taca/blob/main/ref/geron/chap_2/5_prepare_for_algorithms/1_prepare_for_algorithms.ipynb\"><img src=\"https://kaggle.com/static/images/open-in-kaggle.svg\" /></a>\n",
    "  </td>\n",
    "</table> "
   ]
  },
  {
   "cell_type": "markdown",
   "id": "5fb2b5da",
   "metadata": {},
   "source": [
    "# Problema sobre distancia en $\\mathbb{R}$ "
   ]
  },
  {
   "cell_type": "markdown",
   "id": "d93850de",
   "metadata": {},
   "source": [
    "Defina una función que, dados cinco números enteros, determine cuál de los cuatro últimos números es el más cercano al primero. Por ejemplo, si se ingresan los enteros 2, 6, 4, 1 y 10, la función debe imprimir por pantalla que el número más cercano al 2 es el 1.\n"
   ]
  },
  {
   "cell_type": "markdown",
   "id": "662222f0",
   "metadata": {},
   "source": [
    "## [Video de apoyo](https://www.youtube.com/watch?v=QkAKmXUYV_8)  "
   ]
  },
  {
   "cell_type": "markdown",
   "id": "fbeb6ab8",
   "metadata": {},
   "source": [
    "## Solución:"
   ]
  },
  {
   "cell_type": "markdown",
   "id": "56ed25ee",
   "metadata": {},
   "source": [
    "1. Definir lista con la entrada de usuario donde se pidió la lista de cinco números"
   ]
  },
  {
   "cell_type": "markdown",
   "id": "9f8bab42",
   "metadata": {},
   "source": [
    "2. Convertir la lista de números"
   ]
  },
  {
   "cell_type": "markdown",
   "id": "06b8dd27",
   "metadata": {},
   "source": [
    "3. define la función que determina cuál de los números dados es el más cercano al primero. "
   ]
  },
  {
   "cell_type": "markdown",
   "id": "2877291a",
   "metadata": {},
   "source": [
    "## Construcción de función que determina el índice del menor elemento en una lista de enteros"
   ]
  },
  {
   "cell_type": "code",
   "execution_count": 1,
   "id": "3129b72d",
   "metadata": {},
   "outputs": [],
   "source": [
    "def el_que_esta_a_menor_distancia():\n",
    "    lista = input('Entre una lista de cinco números enteros separados por coma: ').split(',') \n",
    "    for i in range(len(lista)):\n",
    "        lista[i] = int(lista[i])\n",
    "\n",
    "    primero = lista[0]\n",
    "    distancia = []\n",
    "    for i in range(len(lista) - 1):\n",
    "        distancia.append(abs(primero - lista[i+1]))\n",
    "    def indice_del_menor_elemento(lista):\n",
    "        menor = min(lista)\n",
    "        for i in range(len(lista)):\n",
    "            if lista[i]==menor:\n",
    "                return i    \n",
    "    return print('el numero que esta más cerca el primero es: ', \n",
    "                 lista[indice_del_menor_elemento(distancia) + 1])    \n",
    "    "
   ]
  },
  {
   "cell_type": "code",
   "execution_count": 2,
   "id": "ee4795c2",
   "metadata": {
    "scrolled": true
   },
   "outputs": [
    {
     "name": "stdout",
     "output_type": "stream",
     "text": [
      "Entre una lista de cinco números enteros separados por coma: 1,2,3,4,5\n",
      "el numero que esta más cerca el primero es:  2\n"
     ]
    }
   ],
   "source": [
    "el_que_esta_a_menor_distancia() "
   ]
  },
  {
   "cell_type": "code",
   "execution_count": null,
   "id": "25ab17be",
   "metadata": {},
   "outputs": [],
   "source": []
  },
  {
   "cell_type": "markdown",
   "id": "1dab0afb",
   "metadata": {},
   "source": [
    "## Problema Número 6 del Taller 1"
   ]
  },
  {
   "cell_type": "markdown",
   "id": "d1725b8c",
   "metadata": {},
   "source": [
    "6. Construya una función que, dado un número que debe representar la calificación numérica de un examen, proporcione \n",
    "   la calificación cualitativa correspondiente a dicho número. Esta calificación cualitativa será una de las siguientes:  \n",
    "\n",
    "a) Reprobado: nota menor o igual a 5.  \n",
    "b) Suspenso: nota mayor a 5 y menor o igual a 7.  \n",
    "c) Notable: nota mayor a 7 y menor o igual a 8.5.  \n",
    "d) Sobresaliente: nota mayor a 8.5 y menor a 10.  \n",
    "e) Matrícula de honor : nota de 10  "
   ]
  },
  {
   "cell_type": "markdown",
   "id": "93681692",
   "metadata": {},
   "source": [
    "## Solución: "
   ]
  },
  {
   "cell_type": "code",
   "execution_count": 15,
   "id": "c264a038",
   "metadata": {},
   "outputs": [],
   "source": [
    "def calificacion_cualitativa():\n",
    "    print()"
   ]
  },
  {
   "cell_type": "code",
   "execution_count": 16,
   "id": "058aec60",
   "metadata": {},
   "outputs": [
    {
     "name": "stdout",
     "output_type": "stream",
     "text": [
      "\n"
     ]
    }
   ],
   "source": [
    "calificacion_cualitativa()"
   ]
  },
  {
   "cell_type": "code",
   "execution_count": 17,
   "id": "ed541136",
   "metadata": {},
   "outputs": [],
   "source": [
    "def calificacion_cualitativa(c):\n",
    "    print(c)"
   ]
  },
  {
   "cell_type": "code",
   "execution_count": 19,
   "id": "90b81ce6",
   "metadata": {},
   "outputs": [
    {
     "name": "stdout",
     "output_type": "stream",
     "text": [
      "2\n"
     ]
    }
   ],
   "source": [
    "calificacion_cualitativa(2)"
   ]
  },
  {
   "cell_type": "code",
   "execution_count": 2,
   "id": "80cd24d4",
   "metadata": {},
   "outputs": [],
   "source": [
    "def calificacion_cualitativa(c):\n",
    "    if c <= 5:\n",
    "        print('Reprobado')\n",
    "    return 5"
   ]
  },
  {
   "cell_type": "code",
   "execution_count": 4,
   "id": "1e75f22a",
   "metadata": {},
   "outputs": [
    {
     "name": "stdout",
     "output_type": "stream",
     "text": [
      "Reprobado\n"
     ]
    },
    {
     "data": {
      "text/plain": [
       "5"
      ]
     },
     "execution_count": 4,
     "metadata": {},
     "output_type": "execute_result"
    }
   ],
   "source": [
    "calificacion_cualitativa(2) "
   ]
  },
  {
   "cell_type": "code",
   "execution_count": 11,
   "id": "2088cc33",
   "metadata": {},
   "outputs": [],
   "source": [
    "def calificacion_cualitativa(c):\n",
    "    if c <= 5:\n",
    "        print('Reprobado')\n",
    "    elif 5< c <=7:\n",
    "        print('Suspenso')    \n",
    "    "
   ]
  },
  {
   "cell_type": "code",
   "execution_count": 10,
   "id": "4bcac439",
   "metadata": {},
   "outputs": [
    {
     "name": "stdout",
     "output_type": "stream",
     "text": [
      "Suspenso\n"
     ]
    },
    {
     "data": {
      "text/plain": [
       "5"
      ]
     },
     "execution_count": 10,
     "metadata": {},
     "output_type": "execute_result"
    }
   ],
   "source": [
    "calificacion_cualitativa(6) "
   ]
  },
  {
   "cell_type": "code",
   "execution_count": null,
   "id": "c431d78e",
   "metadata": {},
   "outputs": [],
   "source": []
  },
  {
   "cell_type": "code",
   "execution_count": null,
   "id": "2fb58eb1",
   "metadata": {},
   "outputs": [],
   "source": []
  },
  {
   "cell_type": "markdown",
   "id": "2daa4209",
   "metadata": {},
   "source": [
    "## Funciones de Python utilizadas en este ejercicio"
   ]
  },
  {
   "cell_type": "markdown",
   "id": "b7e379b5",
   "metadata": {},
   "source": [
    "* `dir(list)`\n",
    "* `min()`\n",
    "* `.split(',')` es un método de cadenas en Python\n",
    "* `int()`\n",
    "* `range()`\n",
    "* `len()`\n",
    "* `.append()`: método para agregar elementos a una lista.\n",
    "* `abs()` "
   ]
  },
  {
   "cell_type": "code",
   "execution_count": 4,
   "id": "fae29761",
   "metadata": {},
   "outputs": [
    {
     "data": {
      "text/plain": [
       "1"
      ]
     },
     "execution_count": 4,
     "metadata": {},
     "output_type": "execute_result"
    }
   ],
   "source": [
    "min([1,2])"
   ]
  },
  {
   "cell_type": "markdown",
   "id": "4944e59e",
   "metadata": {},
   "source": [
    "## Referentes  \n",
    "\n",
    "* Downey  \n",
    "* Calderon"
   ]
  },
  {
   "cell_type": "code",
   "execution_count": null,
   "id": "4103217e",
   "metadata": {},
   "outputs": [],
   "source": []
  }
 ],
 "metadata": {
  "kernelspec": {
   "display_name": "Python 3",
   "language": "python",
   "name": "python3"
  },
  "language_info": {
   "codemirror_mode": {
    "name": "ipython",
    "version": 3
   },
   "file_extension": ".py",
   "mimetype": "text/x-python",
   "name": "python",
   "nbconvert_exporter": "python",
   "pygments_lexer": "ipython3",
   "version": "3.8.8"
  },
  "latex_envs": {
   "LaTeX_envs_menu_present": true,
   "autoclose": false,
   "autocomplete": false,
   "bibliofile": "biblio.bib",
   "cite_by": "apalike",
   "current_citInitial": 1,
   "eqLabelWithNumbers": true,
   "eqNumInitial": 1,
   "hotkeys": {
    "equation": "Ctrl-E",
    "itemize": "Ctrl-I"
   },
   "labels_anchors": false,
   "latex_user_defs": false,
   "report_style_numbering": false,
   "user_envs_cfg": false
  }
 },
 "nbformat": 4,
 "nbformat_minor": 5
}
