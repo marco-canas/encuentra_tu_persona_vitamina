{
 "cells": [
  {
   "cell_type": "markdown",
   "id": "fe9f1747",
   "metadata": {},
   "source": [
    "<table align=\"left\">\n",
    "  <td>\n",
    "    <a href=\"https://colab.research.google.com/github/marco-canas/taca/blob/main/ref/geron/chap_2/5_prepare_for_algorithms/2_data_cleaning.ipynb\" target=\"_parent\"><img src=\"https://colab.research.google.com/assets/colab-badge.svg\" alt=\"Open In Colab\"/></a>\n",
    "  </td>\n",
    "  <td>\n",
    "    <a target=\"_blank\" href=\"https://kaggle.com/kernels/welcome?src=https://github.com/marco-canas/taca/blob/main/ref/geron/chap_2/5_prepare_for_algorithms/2_data_cleaning.ipynb\"><img src=\"https://kaggle.com/static/images/open-in-kaggle.svg\" /></a>\n",
    "  </td>\n",
    "</table>\n"
   ]
  },
  {
   "cell_type": "markdown",
   "id": "3da8667e",
   "metadata": {},
   "source": [
    "## Ejercicio 9 del taller 1 sobre construcción de funciones en Python"
   ]
  },
  {
   "cell_type": "markdown",
   "id": "d5934e26",
   "metadata": {},
   "source": [
    "9. Construya una función que calcule el número promedio de pulsaciones que debe tener una persona por cada diez segundos de ejercicio aeróbico:\n",
    "\n",
    "* Para sexo femenino, núm prom de pul = (220 - edad)/10  \n",
    "* Para sexo masculino, núm prom de pul = (210 - edad)/10"
   ]
  },
  {
   "cell_type": "markdown",
   "id": "16627d48",
   "metadata": {},
   "source": [
    "## Solución: "
   ]
  },
  {
   "cell_type": "code",
   "execution_count": null,
   "id": "a8100f81",
   "metadata": {},
   "outputs": [],
   "source": []
  },
  {
   "cell_type": "markdown",
   "id": "193fb269",
   "metadata": {},
   "source": [
    "# Visualización del grupo de Introducción al Machine Learning"
   ]
  },
  {
   "cell_type": "code",
   "execution_count": 18,
   "id": "865421f2",
   "metadata": {},
   "outputs": [
    {
     "data": {
      "text/html": [
       "<div>\n",
       "<style scoped>\n",
       "    .dataframe tbody tr th:only-of-type {\n",
       "        vertical-align: middle;\n",
       "    }\n",
       "\n",
       "    .dataframe tbody tr th {\n",
       "        vertical-align: top;\n",
       "    }\n",
       "\n",
       "    .dataframe thead th {\n",
       "        text-align: right;\n",
       "    }\n",
       "</style>\n",
       "<table border=\"1\" class=\"dataframe\">\n",
       "  <thead>\n",
       "    <tr style=\"text-align: right;\">\n",
       "      <th></th>\n",
       "      <th>#</th>\n",
       "      <th>Cédula</th>\n",
       "      <th>Nombre</th>\n",
       "      <th>Email</th>\n",
       "      <th>Sede</th>\n",
       "    </tr>\n",
       "  </thead>\n",
       "  <tbody>\n",
       "    <tr>\n",
       "      <th>0</th>\n",
       "      <td>1</td>\n",
       "      <td>1193092675</td>\n",
       "      <td>ALVAREZ CARRERO GERMAN JOSE</td>\n",
       "      <td>german.alvarez1@udea.edu.co</td>\n",
       "      <td>NaN</td>\n",
       "    </tr>\n",
       "    <tr>\n",
       "      <th>1</th>\n",
       "      <td>2</td>\n",
       "      <td>1152715251</td>\n",
       "      <td>AMAYA ESCOBAR LILLEY DANIELA</td>\n",
       "      <td>lilley.amaya1@udea.edu.co</td>\n",
       "      <td>NaN</td>\n",
       "    </tr>\n",
       "    <tr>\n",
       "      <th>2</th>\n",
       "      <td>3</td>\n",
       "      <td>1152204969</td>\n",
       "      <td>ARANGO JARAMILLO JUAN JOSE</td>\n",
       "      <td>juan.arangoj@udea.edu.co</td>\n",
       "      <td>NaN</td>\n",
       "    </tr>\n",
       "    <tr>\n",
       "      <th>3</th>\n",
       "      <td>4</td>\n",
       "      <td>1037657637</td>\n",
       "      <td>BOLIVAR HIGUITA JUAN PABLO</td>\n",
       "      <td>jpablo.bolivar@udea.edu.co</td>\n",
       "      <td>NaN</td>\n",
       "    </tr>\n",
       "    <tr>\n",
       "      <th>4</th>\n",
       "      <td>5</td>\n",
       "      <td>1146437759</td>\n",
       "      <td>BUITRAGO LORA VANESSA</td>\n",
       "      <td>vanessa.buitragol@udea.edu.co</td>\n",
       "      <td>NaN</td>\n",
       "    </tr>\n",
       "  </tbody>\n",
       "</table>\n",
       "</div>"
      ],
      "text/plain": [
       "   #      Cédula                        Nombre                          Email  \\\n",
       "0  1  1193092675   ALVAREZ CARRERO GERMAN JOSE    german.alvarez1@udea.edu.co   \n",
       "1  2  1152715251  AMAYA ESCOBAR LILLEY DANIELA      lilley.amaya1@udea.edu.co   \n",
       "2  3  1152204969    ARANGO JARAMILLO JUAN JOSE       juan.arangoj@udea.edu.co   \n",
       "3  4  1037657637    BOLIVAR HIGUITA JUAN PABLO     jpablo.bolivar@udea.edu.co   \n",
       "4  5  1146437759         BUITRAGO LORA VANESSA  vanessa.buitragol@udea.edu.co   \n",
       "\n",
       "   Sede  \n",
       "0   NaN  \n",
       "1   NaN  \n",
       "2   NaN  \n",
       "3   NaN  \n",
       "4   NaN  "
      ]
     },
     "execution_count": 18,
     "metadata": {},
     "output_type": "execute_result"
    }
   ],
   "source": [
    "import pandas as pd\n",
    "\n",
    "grupo_ml = pd.read_csv('grupo_intro_ml.csv', sep = '\\t') \n",
    "\n",
    "grupo_ml.head() "
   ]
  },
  {
   "cell_type": "markdown",
   "id": "948c4a45",
   "metadata": {},
   "source": [
    "## Llamada aleatoria para participar en clase"
   ]
  },
  {
   "cell_type": "code",
   "execution_count": 19,
   "id": "5c6a806c",
   "metadata": {},
   "outputs": [],
   "source": [
    "import pandas as pd\n",
    "\n",
    "grupo_ml = pd.read_csv('grupo_intro_ml.csv', sep = '\\t')\n",
    "\n",
    "lista_estudiantes = list(grupo_ml.Nombre.values)\n",
    "\n",
    "from random import randint, choice\n",
    "\n",
    "def seleccion_aleatoria():\n",
    "    if lista_estudiantes == []:\n",
    "        print('ya participaron todos los estudiantes') \n",
    "    else:\n",
    "        while lista_estudiantes != []:\n",
    "            student = choice(lista_estudiantes)\n",
    "            lista_estudiantes.remove(student)\n",
    "            return print(student)  \n",
    "    "
   ]
  },
  {
   "cell_type": "code",
   "execution_count": 46,
   "id": "f2b1bd03",
   "metadata": {},
   "outputs": [
    {
     "name": "stdout",
     "output_type": "stream",
     "text": [
      "ya participaron todos los estudiantes\n"
     ]
    }
   ],
   "source": [
    "seleccion_aleatoria()"
   ]
  },
  {
   "cell_type": "code",
   "execution_count": null,
   "id": "98f33bed",
   "metadata": {},
   "outputs": [],
   "source": []
  },
  {
   "cell_type": "code",
   "execution_count": null,
   "id": "64c8ef2b",
   "metadata": {},
   "outputs": [],
   "source": []
  },
  {
   "cell_type": "code",
   "execution_count": null,
   "id": "b0bc5b3c",
   "metadata": {},
   "outputs": [],
   "source": []
  }
 ],
 "metadata": {
  "kernelspec": {
   "display_name": "Python 3",
   "language": "python",
   "name": "python3"
  },
  "language_info": {
   "codemirror_mode": {
    "name": "ipython",
    "version": 3
   },
   "file_extension": ".py",
   "mimetype": "text/x-python",
   "name": "python",
   "nbconvert_exporter": "python",
   "pygments_lexer": "ipython3",
   "version": "3.8.8"
  },
  "latex_envs": {
   "LaTeX_envs_menu_present": true,
   "autoclose": false,
   "autocomplete": false,
   "bibliofile": "biblio.bib",
   "cite_by": "apalike",
   "current_citInitial": 1,
   "eqLabelWithNumbers": true,
   "eqNumInitial": 1,
   "hotkeys": {
    "equation": "Ctrl-E",
    "itemize": "Ctrl-I"
   },
   "labels_anchors": false,
   "latex_user_defs": false,
   "report_style_numbering": false,
   "user_envs_cfg": false
  }
 },
 "nbformat": 4,
 "nbformat_minor": 5
}
