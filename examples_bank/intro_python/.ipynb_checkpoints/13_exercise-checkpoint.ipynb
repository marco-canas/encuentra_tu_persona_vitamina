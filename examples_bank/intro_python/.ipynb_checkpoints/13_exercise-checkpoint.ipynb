{
 "cells": [
  {
   "cell_type": "markdown",
   "id": "9f9b9df3",
   "metadata": {},
   "source": [
    "# Ejercicio 13 del Taller 1 sobre Python"
   ]
  },
  {
   "cell_type": "markdown",
   "id": "5553d41e",
   "metadata": {},
   "source": [
    "13. Defina una función que calcule el desglose de billetes y monedas de una cantidad exacta de euros. \n",
    "    Hay billetes de 500, 200, 100, 50, 20, 10 y 5 euros y monedas de 1 y 2 euros.\n",
    "    \n",
    "Por ejemplo, si desea conocer el desglose de 434 euros, se debe mostrar por pantalla el siguiente resultado:  \n",
    "\n",
    "2 billetes de 200 euros  \n",
    "1 billete de 20 euros  \n",
    "1 billete de 10 euros  \n",
    "2 monedas de 2 euros  "
   ]
  },
  {
   "cell_type": "markdown",
   "id": "006c060f",
   "metadata": {},
   "source": [
    "## Solución: "
   ]
  },
  {
   "cell_type": "code",
   "execution_count": 10,
   "id": "ed7840fa",
   "metadata": {},
   "outputs": [],
   "source": [
    "def desglose(x):\n",
    "    print()"
   ]
  },
  {
   "cell_type": "code",
   "execution_count": 11,
   "id": "32e9e80e",
   "metadata": {},
   "outputs": [
    {
     "name": "stdout",
     "output_type": "stream",
     "text": [
      "\n"
     ]
    }
   ],
   "source": [
    "desglose(5)"
   ]
  },
  {
   "cell_type": "code",
   "execution_count": 20,
   "id": "f26111c0",
   "metadata": {},
   "outputs": [],
   "source": [
    "def desglose(x):\n",
    "    if x >=500:\n",
    "        c_500 = x//500\n",
    "        print(c_500, 'billetes de 500 euros'  )\n",
    "        x = x%500\n",
    "        if  x >=200:\n",
    "            c_200 = x//200\n",
    "            print(c_200, 'billetes de 200 euros'  )\n",
    "            x = x%200"
   ]
  },
  {
   "cell_type": "code",
   "execution_count": 21,
   "id": "867126d8",
   "metadata": {},
   "outputs": [
    {
     "name": "stdout",
     "output_type": "stream",
     "text": [
      "2 billetes de 500 euros\n",
      "1 billetes de 200 euros\n"
     ]
    }
   ],
   "source": [
    "desglose(1250)"
   ]
  },
  {
   "cell_type": "code",
   "execution_count": 22,
   "id": "0af203d7",
   "metadata": {},
   "outputs": [],
   "source": [
    "def desglose(x):\n",
    "    if x >=500:\n",
    "        c_500 = x//500\n",
    "        print(c_500, 'billetes de 500 euros'  )\n",
    "        x = x%500\n",
    "        if  x >=200:\n",
    "            c_200 = x//200\n",
    "            print(c_200, 'billetes de 200 euros'  )\n",
    "            x = x%200\n",
    "            if  x >=20:\n",
    "                c_20 = x//20\n",
    "                print(c_20, 'billetes de 20 euros'  )\n",
    "                x = x%20"
   ]
  },
  {
   "cell_type": "code",
   "execution_count": 23,
   "id": "416d46dd",
   "metadata": {},
   "outputs": [
    {
     "name": "stdout",
     "output_type": "stream",
     "text": [
      "2 billetes de 500 euros\n",
      "1 billetes de 200 euros\n",
      "2 billetes de 20 euros\n"
     ]
    }
   ],
   "source": [
    "desglose(1250)"
   ]
  },
  {
   "cell_type": "code",
   "execution_count": 24,
   "id": "76d24ada",
   "metadata": {},
   "outputs": [],
   "source": [
    "def desglose(x):\n",
    "    if x >=500:\n",
    "        c_500 = x//500\n",
    "        print(c_500, 'billetes de 500 euros'  )\n",
    "        x = x%500\n",
    "        if  x >=200:\n",
    "            c_200 = x//200\n",
    "            print(c_200, 'billetes de 200 euros'  )\n",
    "            x = x%200\n",
    "            if  x >=20:\n",
    "                c_20 = x//20\n",
    "                print(c_20, 'billetes de 20 euros'  )\n",
    "                x = x%20\n",
    "                if  x >=10:\n",
    "                    c_10 = x//10\n",
    "                    print(c_10, 'billetes de 10 euros'  )\n",
    "                    x = x%10"
   ]
  },
  {
   "cell_type": "code",
   "execution_count": 25,
   "id": "d779c179",
   "metadata": {},
   "outputs": [
    {
     "name": "stdout",
     "output_type": "stream",
     "text": [
      "2 billetes de 500 euros\n",
      "1 billetes de 200 euros\n",
      "2 billetes de 20 euros\n",
      "1 billetes de 10 euros\n"
     ]
    }
   ],
   "source": [
    "desglose(1250)"
   ]
  },
  {
   "cell_type": "code",
   "execution_count": 27,
   "id": "d7fe8e82",
   "metadata": {},
   "outputs": [],
   "source": [
    "def desglose(x):\n",
    "    if x >=500:\n",
    "        c_500 = x//500\n",
    "        print(c_500, 'billetes de 500 euros'  )\n",
    "        x = x%500\n",
    "        if  x >=200:\n",
    "            c_200 = x//200\n",
    "            print(c_200, 'billetes de 200 euros'  )\n",
    "            x = x%200\n",
    "            if  x >=20:\n",
    "                c_20 = x//20\n",
    "                print(c_20, 'billetes de 20 euros'  )\n",
    "                x = x%20\n",
    "                if  x >=10:\n",
    "                    c_10 = x//10\n",
    "                    print(c_10, 'billetes de 10 euros'  )\n",
    "                    x = x%10\n",
    "                    if  x >=2:\n",
    "                        c_2 = x//2\n",
    "                        print(c_2, 'monedas de 2 euros'  )\n",
    "                        x = x%2"
   ]
  },
  {
   "cell_type": "code",
   "execution_count": 28,
   "id": "29699675",
   "metadata": {},
   "outputs": [
    {
     "name": "stdout",
     "output_type": "stream",
     "text": [
      "2 billetes de 500 euros\n",
      "1 billetes de 200 euros\n",
      "2 billetes de 20 euros\n",
      "1 billetes de 10 euros\n",
      "3 monedas de 2 euros\n"
     ]
    }
   ],
   "source": [
    "desglose(1256)"
   ]
  },
  {
   "cell_type": "code",
   "execution_count": null,
   "id": "1c4ff88b",
   "metadata": {},
   "outputs": [],
   "source": []
  },
  {
   "cell_type": "code",
   "execution_count": null,
   "id": "2be294ca",
   "metadata": {},
   "outputs": [],
   "source": []
  },
  {
   "cell_type": "code",
   "execution_count": null,
   "id": "1741f807",
   "metadata": {},
   "outputs": [],
   "source": []
  }
 ],
 "metadata": {
  "kernelspec": {
   "display_name": "Python 3",
   "language": "python",
   "name": "python3"
  },
  "language_info": {
   "codemirror_mode": {
    "name": "ipython",
    "version": 3
   },
   "file_extension": ".py",
   "mimetype": "text/x-python",
   "name": "python",
   "nbconvert_exporter": "python",
   "pygments_lexer": "ipython3",
   "version": "3.8.8"
  },
  "latex_envs": {
   "LaTeX_envs_menu_present": true,
   "autoclose": false,
   "autocomplete": false,
   "bibliofile": "biblio.bib",
   "cite_by": "apalike",
   "current_citInitial": 1,
   "eqLabelWithNumbers": true,
   "eqNumInitial": 1,
   "hotkeys": {
    "equation": "Ctrl-E",
    "itemize": "Ctrl-I"
   },
   "labels_anchors": false,
   "latex_user_defs": false,
   "report_style_numbering": false,
   "user_envs_cfg": false
  }
 },
 "nbformat": 4,
 "nbformat_minor": 5
}
