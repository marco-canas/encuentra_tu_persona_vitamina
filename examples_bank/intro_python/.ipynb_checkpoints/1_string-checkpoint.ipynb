{
 "cells": [
  {
   "cell_type": "markdown",
   "id": "fe024183",
   "metadata": {
    "slideshow": {
     "slide_type": "slide"
    }
   },
   "source": [
    "<table align=\"left\">\n",
    "  <td>\n",
    "    <a href=\"https://colab.research.google.com/github/marco-canas/taca/blob/main/ref/geron/chap_2/5_prepare_for_algorithms/1_prepare_for_algorithms.ipynb\" target=\"_parent\"><img src=\"https://colab.research.google.com/assets/colab-badge.svg\" alt=\"Open In Colab\"/></a>\n",
    "  </td>\n",
    "  <td>\n",
    "    <a target=\"_blank\" href=\"https://kaggle.com/kernels/welcome?src=https://github.com/marco-canas/taca/blob/main/ref/geron/chap_2/5_prepare_for_algorithms/1_prepare_for_algorithms.ipynb\"><img src=\"https://kaggle.com/static/images/open-in-kaggle.svg\" /></a>\n",
    "  </td>\n",
    "</table> "
   ]
  },
  {
   "cell_type": "markdown",
   "id": "b124e7e6",
   "metadata": {
    "slideshow": {
     "slide_type": "slide"
    }
   },
   "source": [
    "# Ejercicios sobre String en Python"
   ]
  },
  {
   "cell_type": "markdown",
   "id": "5b7c1152",
   "metadata": {
    "slideshow": {
     "slide_type": "slide"
    }
   },
   "source": [
    "Para entender cómo funciona a nivel básico el lenguaje Python realizaremos un ejercicio. Vamos a recibir una cadena de texto e invertir las letras minúsculas a mayúsculas y las letras mayúsculas pasarlas a minúsculas.\n",
    "\n",
    "Para resolver este reto, usaremos una estructura de control y un condicional de la siguiente forma:"
   ]
  },
  {
   "cell_type": "markdown",
   "id": "844753f8",
   "metadata": {
    "slideshow": {
     "slide_type": "slide"
    }
   },
   "source": [
    "1. Recibimos la cadena de texto que transformaremos.\n",
    "\n",
    "2. Recorremos cada letra de la cadena de texto con un ciclo `for`.\n",
    "\n",
    "3. Por cada iteración preguntaremos si la letra actual es mayúscula, si esto es verdadero, entonces nuestra variable result la escribirá en minúscula.\n",
    "\n",
    "4. Si la condición anterior es falsa, entonces entenderemos que la letra actual es minúscula y en result la escribiremos en mayúscula.\n",
    "\n",
    "5. Al final mostraremos todas las letras concatenadas en `result`. Sabemos que se ha concatenado porque usamos “+=” que va uniendo cada letra de cada iteración hasta mostrar el resultado al finalizar todas las iteraciones.\n",
    "\n",
    "Ahora veamos esta lógica de manera gráfica:"
   ]
  },
  {
   "cell_type": "markdown",
   "id": "1a3b5280",
   "metadata": {},
   "source": [
    "Al finalizar todas las iteraciones, la variable result tendrá todas las letras concatenadas con la misma palabra y sus letras invertidas, en este caso, “Hola” se convertirá en “hOLA”.\n",
    "\n",
    "Acompáñame a la siguiente clase donde veremos este ejercicio en código del lenguaje Python."
   ]
  },
  {
   "cell_type": "markdown",
   "id": "6f47d3e2",
   "metadata": {
    "slideshow": {
     "slide_type": "slide"
    }
   },
   "source": [
    "Una solución la encuentra dando doble clic en la siguiente línea. "
   ]
  },
  {
   "cell_type": "code",
   "execution_count": 13,
   "id": "8df81e6c",
   "metadata": {
    "slideshow": {
     "slide_type": "slide"
    }
   },
   "outputs": [
    {
     "data": {
      "text/plain": [
       "'mARCO'"
      ]
     },
     "execution_count": 13,
     "metadata": {},
     "output_type": "execute_result"
    }
   ],
   "source": [
    "string = 'Marco'\n",
    "result = ''\n",
    "for letter in string:\n",
    "    if letter == letter.upper():\n",
    "        result+=letter.lower() \n",
    "    else:\n",
    "        result+= letter.upper()\n",
    "         \n",
    "result \n"
   ]
  },
  {
   "cell_type": "code",
   "execution_count": null,
   "id": "e977a282",
   "metadata": {
    "slideshow": {
     "slide_type": "skip"
    }
   },
   "outputs": [],
   "source": []
  },
  {
   "cell_type": "markdown",
   "id": "c54d9e2f",
   "metadata": {
    "slideshow": {
     "slide_type": "slide"
    }
   },
   "source": [
    "## Secuencia didáctica de conceptos necesarios para resolver este problema"
   ]
  },
  {
   "cell_type": "markdown",
   "id": "15044e8e",
   "metadata": {
    "slideshow": {
     "slide_type": "slide"
    }
   },
   "source": [
    "1. Definición de variables en Python\n",
    "2. Inicializar cadenas vacías.\n",
    "3. El control de flujo `for`\n",
    "4. El condicional `if`\n",
    "5. Los métodos de cadena `.lower()` y `upper()`."
   ]
  },
  {
   "cell_type": "code",
   "execution_count": null,
   "id": "bdc69957",
   "metadata": {},
   "outputs": [],
   "source": []
  }
 ],
 "metadata": {
  "celltoolbar": "Slideshow",
  "kernelspec": {
   "display_name": "Python 3",
   "language": "python",
   "name": "python3"
  },
  "language_info": {
   "codemirror_mode": {
    "name": "ipython",
    "version": 3
   },
   "file_extension": ".py",
   "mimetype": "text/x-python",
   "name": "python",
   "nbconvert_exporter": "python",
   "pygments_lexer": "ipython3",
   "version": "3.8.8"
  },
  "latex_envs": {
   "LaTeX_envs_menu_present": true,
   "autoclose": false,
   "autocomplete": false,
   "bibliofile": "biblio.bib",
   "cite_by": "apalike",
   "current_citInitial": 1,
   "eqLabelWithNumbers": true,
   "eqNumInitial": 1,
   "hotkeys": {
    "equation": "Ctrl-E",
    "itemize": "Ctrl-I"
   },
   "labels_anchors": false,
   "latex_user_defs": false,
   "report_style_numbering": false,
   "user_envs_cfg": false
  },
  "rise": {
   "enable_chalkboard": true,
   "theme": "sky",
   "transition": "sky"
  }
 },
 "nbformat": 4,
 "nbformat_minor": 5
}
