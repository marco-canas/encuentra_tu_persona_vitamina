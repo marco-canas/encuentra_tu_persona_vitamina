{
 "cells": [
  {
   "cell_type": "code",
   "execution_count": null,
   "id": "107d0dda",
   "metadata": {},
   "outputs": [],
   "source": []
  },
  {
   "cell_type": "markdown",
   "id": "04de3cfb",
   "metadata": {},
   "source": [
    "# Ejercicio número 19"
   ]
  },
  {
   "cell_type": "markdown",
   "id": "06a8ac52",
   "metadata": {},
   "source": [
    "19. En un hospital existen tres áreas: Ginecología, Pediatría y Traumatología. \n",
    "\n",
    "Obtenga la cantidad de dinero que recibirá cada área, para cualquier monto de presupuesto.   \n",
    "\n",
    "El presupuesto anual del hospital se reparte con\u0002forme a la siguiente tabla:\n",
    "\n",
    "|área|% presupuesto|  \n",
    "|----|-------------|  \n",
    "|Ginecología| 40%|\n",
    "|Pediatría| 30%|\n",
    "|Traumatología| 30%|\n"
   ]
  },
  {
   "cell_type": "code",
   "execution_count": null,
   "id": "054eef7e",
   "metadata": {},
   "outputs": [],
   "source": []
  },
  {
   "cell_type": "code",
   "execution_count": null,
   "id": "eb9dbe7a",
   "metadata": {},
   "outputs": [],
   "source": []
  },
  {
   "cell_type": "code",
   "execution_count": null,
   "id": "09117d6e",
   "metadata": {},
   "outputs": [],
   "source": []
  }
 ],
 "metadata": {
  "kernelspec": {
   "display_name": "Python 3",
   "language": "python",
   "name": "python3"
  },
  "language_info": {
   "codemirror_mode": {
    "name": "ipython",
    "version": 3
   },
   "file_extension": ".py",
   "mimetype": "text/x-python",
   "name": "python",
   "nbconvert_exporter": "python",
   "pygments_lexer": "ipython3",
   "version": "3.8.8"
  },
  "latex_envs": {
   "LaTeX_envs_menu_present": true,
   "autoclose": false,
   "autocomplete": false,
   "bibliofile": "biblio.bib",
   "cite_by": "apalike",
   "current_citInitial": 1,
   "eqLabelWithNumbers": true,
   "eqNumInitial": 1,
   "hotkeys": {
    "equation": "Ctrl-E",
    "itemize": "Ctrl-I"
   },
   "labels_anchors": false,
   "latex_user_defs": false,
   "report_style_numbering": false,
   "user_envs_cfg": false
  }
 },
 "nbformat": 4,
 "nbformat_minor": 5
}
