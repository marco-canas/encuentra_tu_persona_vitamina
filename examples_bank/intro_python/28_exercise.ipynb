{
 "cells": [
  {
   "cell_type": "code",
   "execution_count": null,
   "id": "aef6212a",
   "metadata": {},
   "outputs": [],
   "source": []
  },
  {
   "cell_type": "markdown",
   "id": "bfda0385",
   "metadata": {},
   "source": [
    "# Problema 28"
   ]
  },
  {
   "cell_type": "markdown",
   "id": "8fb7b729",
   "metadata": {},
   "source": [
    "28. Un programa académico de pregrado tiene un total de 150 créditos; \n",
    "\n",
    "* suponga que por semestre el estudiante debe cursar 15 créditos;  \n",
    "\n",
    "* si C es el número de créditos totales aprobados por el estudiante, cree una función que calcule el semestre de \n",
    "    ubicación del estudiante validando que el número de créditos usados al llamar la función sea un número en el intervalo \n",
    "    [1, 150]."
   ]
  },
  {
   "cell_type": "markdown",
   "id": "53011724",
   "metadata": {},
   "source": [
    "## Solución: "
   ]
  },
  {
   "cell_type": "code",
   "execution_count": 1,
   "id": "9b16e18a",
   "metadata": {},
   "outputs": [],
   "source": [
    "def el_semestre_de_ubicacion_es(c):\n",
    "    return "
   ]
  },
  {
   "cell_type": "code",
   "execution_count": null,
   "id": "0672d7a6",
   "metadata": {},
   "outputs": [],
   "source": []
  },
  {
   "cell_type": "code",
   "execution_count": null,
   "id": "396e4b6d",
   "metadata": {},
   "outputs": [],
   "source": []
  },
  {
   "cell_type": "code",
   "execution_count": null,
   "id": "1de27ba1",
   "metadata": {},
   "outputs": [],
   "source": []
  },
  {
   "cell_type": "code",
   "execution_count": null,
   "id": "d7a76f1c",
   "metadata": {},
   "outputs": [],
   "source": []
  },
  {
   "cell_type": "code",
   "execution_count": null,
   "id": "f54fa67e",
   "metadata": {},
   "outputs": [],
   "source": []
  }
 ],
 "metadata": {
  "kernelspec": {
   "display_name": "Python 3",
   "language": "python",
   "name": "python3"
  },
  "language_info": {
   "codemirror_mode": {
    "name": "ipython",
    "version": 3
   },
   "file_extension": ".py",
   "mimetype": "text/x-python",
   "name": "python",
   "nbconvert_exporter": "python",
   "pygments_lexer": "ipython3",
   "version": "3.8.8"
  },
  "latex_envs": {
   "LaTeX_envs_menu_present": true,
   "autoclose": false,
   "autocomplete": false,
   "bibliofile": "biblio.bib",
   "cite_by": "apalike",
   "current_citInitial": 1,
   "eqLabelWithNumbers": true,
   "eqNumInitial": 1,
   "hotkeys": {
    "equation": "Ctrl-E",
    "itemize": "Ctrl-I"
   },
   "labels_anchors": false,
   "latex_user_defs": false,
   "report_style_numbering": false,
   "user_envs_cfg": false
  }
 },
 "nbformat": 4,
 "nbformat_minor": 5
}
