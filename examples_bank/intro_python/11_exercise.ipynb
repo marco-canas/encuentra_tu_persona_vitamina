{
 "cells": [
  {
   "cell_type": "markdown",
   "id": "27ae8933",
   "metadata": {},
   "source": [
    "<table align=\"left\">\n",
    "  <td>\n",
    "    <a href=\"https://colab.research.google.com/github/marco-canas/taca/blob/main/ref/charu/7_ch/7_2_SVD_A_Linear_Algebra_Perspective.ipynb\" target=\"_parent\"><img src=\"https://colab.research.google.com/assets/colab-badge.svg\" alt=\"Open In Colab\"/></a>\n",
    "  </td>\n",
    "  <td>\n",
    "    <a target=\"_blank\" href=\"https://kaggle.com/kernels/welcome?src=https://github.com/marco-canas/taca/blob/main/ref/charu/7_ch/7_2_SVD_A_Linear_Algebra_Perspective.ipynb\"><img src=\"https://kaggle.com/static/images/open-in-kaggle.svg\" /></a>\n",
    "  </td>\n",
    "</table>\n"
   ]
  },
  {
   "cell_type": "markdown",
   "id": "b7b644b5",
   "metadata": {},
   "source": [
    "# Problema sobre la construcción de la sucesión en Fibonacci en Python"
   ]
  },
  {
   "cell_type": "markdown",
   "id": "d5f7005b",
   "metadata": {},
   "source": [
    "11. Construya una función que permita calcular el término de la sucesión de Fibonacci de la posición n-ésima.   \n",
    "    Recuerde que la sucesión es 1, 1, 2, 3, 5, 8, ... . Es decir, $f_{1} = 1$, $f_{2} = 1$ y $f_{k} = f_{k−1} + f_{k−2}$ para $k \\geq 3$.\n"
   ]
  },
  {
   "cell_type": "code",
   "execution_count": 14,
   "id": "b8f1dc50",
   "metadata": {},
   "outputs": [],
   "source": [
    "def fibonacci(k):\n",
    "    return 0 "
   ]
  },
  {
   "cell_type": "code",
   "execution_count": 15,
   "id": "32f914da",
   "metadata": {},
   "outputs": [
    {
     "data": {
      "text/plain": [
       "0"
      ]
     },
     "execution_count": 15,
     "metadata": {},
     "output_type": "execute_result"
    }
   ],
   "source": [
    "fibonacci(3)"
   ]
  },
  {
   "cell_type": "code",
   "execution_count": 16,
   "id": "c06deafb",
   "metadata": {},
   "outputs": [],
   "source": [
    "def fibonacci(k):\n",
    "    f = [1,1]\n",
    "    if k==1 or k==2:\n",
    "        return f[0]\n",
    "    else:\n",
    "        numero_iteraciones = k-2\n",
    "        for i in range(numero_iteraciones):\n",
    "            f.append(f[-1] + f[-2])\n",
    "        return f[-1]"
   ]
  },
  {
   "cell_type": "code",
   "execution_count": 18,
   "id": "51f165e7",
   "metadata": {},
   "outputs": [
    {
     "data": {
      "text/plain": [
       "5"
      ]
     },
     "execution_count": 18,
     "metadata": {},
     "output_type": "execute_result"
    }
   ],
   "source": [
    "fibonacci(5)"
   ]
  },
  {
   "cell_type": "code",
   "execution_count": 19,
   "id": "24bf3c4c",
   "metadata": {},
   "outputs": [],
   "source": [
    "puntos_a_evaluar = list(range(1,10))"
   ]
  },
  {
   "cell_type": "code",
   "execution_count": 20,
   "id": "ed76b773",
   "metadata": {},
   "outputs": [
    {
     "data": {
      "text/plain": [
       "[1, 2, 3, 4, 5, 6, 7, 8, 9]"
      ]
     },
     "execution_count": 20,
     "metadata": {},
     "output_type": "execute_result"
    }
   ],
   "source": [
    "puntos_a_evaluar"
   ]
  },
  {
   "cell_type": "code",
   "execution_count": 21,
   "id": "e1c0a204",
   "metadata": {},
   "outputs": [
    {
     "data": {
      "text/plain": [
       "[1, 1, 2, 3, 5, 8, 13, 21, 34]"
      ]
     },
     "execution_count": 21,
     "metadata": {},
     "output_type": "execute_result"
    }
   ],
   "source": [
    "resultados = [fibonacci(i) for i in puntos_a_evaluar]  # construcción de listas por comprensión\n",
    "resultados "
   ]
  },
  {
   "cell_type": "code",
   "execution_count": 22,
   "id": "78009ca1",
   "metadata": {},
   "outputs": [],
   "source": [
    "import pandas as pd "
   ]
  },
  {
   "cell_type": "code",
   "execution_count": null,
   "id": "191dbdfc",
   "metadata": {},
   "outputs": [],
   "source": []
  },
  {
   "cell_type": "code",
   "execution_count": null,
   "id": "29ebd7fe",
   "metadata": {},
   "outputs": [],
   "source": []
  },
  {
   "cell_type": "code",
   "execution_count": null,
   "id": "d3eaa40f",
   "metadata": {},
   "outputs": [],
   "source": []
  },
  {
   "cell_type": "code",
   "execution_count": null,
   "id": "91f98a42",
   "metadata": {},
   "outputs": [],
   "source": []
  },
  {
   "cell_type": "code",
   "execution_count": null,
   "id": "8ed6b8dc",
   "metadata": {},
   "outputs": [],
   "source": []
  }
 ],
 "metadata": {
  "kernelspec": {
   "display_name": "Python 3",
   "language": "python",
   "name": "python3"
  },
  "language_info": {
   "codemirror_mode": {
    "name": "ipython",
    "version": 3
   },
   "file_extension": ".py",
   "mimetype": "text/x-python",
   "name": "python",
   "nbconvert_exporter": "python",
   "pygments_lexer": "ipython3",
   "version": "3.8.8"
  },
  "latex_envs": {
   "LaTeX_envs_menu_present": true,
   "autoclose": false,
   "autocomplete": false,
   "bibliofile": "biblio.bib",
   "cite_by": "apalike",
   "current_citInitial": 1,
   "eqLabelWithNumbers": true,
   "eqNumInitial": 1,
   "hotkeys": {
    "equation": "Ctrl-E",
    "itemize": "Ctrl-I"
   },
   "labels_anchors": false,
   "latex_user_defs": false,
   "report_style_numbering": false,
   "user_envs_cfg": false
  }
 },
 "nbformat": 4,
 "nbformat_minor": 5
}
