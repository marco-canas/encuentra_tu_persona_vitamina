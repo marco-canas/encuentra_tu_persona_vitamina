{
 "cells": [
  {
   "cell_type": "markdown",
   "id": "e0915dcb",
   "metadata": {},
   "source": [
    "# Ejercicio 18 "
   ]
  },
  {
   "cell_type": "markdown",
   "id": "bdf3a924",
   "metadata": {},
   "source": [
    "18. Elabore un programa que permita introducir un número de cinco dígitos y luego muestre cada uno de sus dígitos separados por tres espacios en blanco."
   ]
  },
  {
   "cell_type": "code",
   "execution_count": 20,
   "id": "f5a1d072",
   "metadata": {},
   "outputs": [],
   "source": [
    "def descomponer_en_digitos():\n",
    "    numero = input('entre un número de cinco digitos: ')\n",
    "    nuevo_numero = ''\n",
    "    for i in numero:\n",
    "        i += 3*' '\n",
    "        nuevo_numero = nuevo_numero + i\n",
    "    print(nuevo_numero)"
   ]
  },
  {
   "cell_type": "code",
   "execution_count": 21,
   "id": "bebf47cd",
   "metadata": {},
   "outputs": [
    {
     "name": "stdout",
     "output_type": "stream",
     "text": [
      "entre un número de cinco digitos: 123456\n",
      "1   2   3   4   5   6   \n"
     ]
    }
   ],
   "source": [
    "descomponer_en_digitos()"
   ]
  },
  {
   "cell_type": "code",
   "execution_count": null,
   "id": "0f3eda27",
   "metadata": {},
   "outputs": [],
   "source": []
  }
 ],
 "metadata": {
  "kernelspec": {
   "display_name": "Python 3",
   "language": "python",
   "name": "python3"
  },
  "language_info": {
   "codemirror_mode": {
    "name": "ipython",
    "version": 3
   },
   "file_extension": ".py",
   "mimetype": "text/x-python",
   "name": "python",
   "nbconvert_exporter": "python",
   "pygments_lexer": "ipython3",
   "version": "3.8.8"
  },
  "latex_envs": {
   "LaTeX_envs_menu_present": true,
   "autoclose": false,
   "autocomplete": false,
   "bibliofile": "biblio.bib",
   "cite_by": "apalike",
   "current_citInitial": 1,
   "eqLabelWithNumbers": true,
   "eqNumInitial": 1,
   "hotkeys": {
    "equation": "Ctrl-E",
    "itemize": "Ctrl-I"
   },
   "labels_anchors": false,
   "latex_user_defs": false,
   "report_style_numbering": false,
   "user_envs_cfg": false
  }
 },
 "nbformat": 4,
 "nbformat_minor": 5
}
