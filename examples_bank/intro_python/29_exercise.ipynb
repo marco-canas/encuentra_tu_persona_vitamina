{
 "cells": [
  {
   "cell_type": "code",
   "execution_count": null,
   "id": "a0b4d9dd",
   "metadata": {},
   "outputs": [],
   "source": []
  },
  {
   "cell_type": "markdown",
   "id": "fbc518cf",
   "metadata": {},
   "source": [
    "# Ejercicio 29 del Taller 1 sobre introducción a Python"
   ]
  },
  {
   "cell_type": "markdown",
   "id": "92625206",
   "metadata": {},
   "source": [
    "29. Construya una función que calcule la varianza muestral de un conjunto de $n$ datos $x_{1}, \\ldots, x_{n}$.  \n",
    "\n",
    "\n",
    "Tome \n",
    "\n",
    "$$ \\overline{x} = \\frac{1}{n} \\sum_{i = 1}^{n} x_{i} $$ \n",
    "\n",
    "y \n",
    "\n",
    "$$ S^{2}_{x} = \\frac{1}{n}\\sum_{i=1}^{n} x^{2}_{i} − \\overline{x}^{2} $$ "
   ]
  },
  {
   "cell_type": "markdown",
   "id": "706bb4bf",
   "metadata": {},
   "source": [
    "## Solución"
   ]
  },
  {
   "cell_type": "markdown",
   "id": "9788bdb7",
   "metadata": {},
   "source": [
    "### Funciones de Python a utilizar"
   ]
  },
  {
   "cell_type": "markdown",
   "id": "f60bda6b",
   "metadata": {},
   "source": [
    "Empiece especificando claramente la entrada de la función a construir y la salida de la misma."
   ]
  },
  {
   "cell_type": "markdown",
   "id": "fdf8ac36",
   "metadata": {},
   "source": [
    "* Input: Un arreglo $x$ de numpy con los $n$ datos. \n",
    "* Output: la varianza muestral de $x$. "
   ]
  },
  {
   "cell_type": "markdown",
   "id": "4102d12e",
   "metadata": {},
   "source": [
    "Sigamos la metodología de desarrollo incremental. "
   ]
  },
  {
   "cell_type": "code",
   "execution_count": 22,
   "id": "9d60632a",
   "metadata": {},
   "outputs": [],
   "source": [
    "def varianza_muestral(x):\n",
    "    return "
   ]
  },
  {
   "cell_type": "code",
   "execution_count": null,
   "id": "8f80c1cd",
   "metadata": {},
   "outputs": [],
   "source": []
  },
  {
   "cell_type": "code",
   "execution_count": 1,
   "id": "d82aa6d0",
   "metadata": {},
   "outputs": [],
   "source": [
    "import numpy as np "
   ]
  },
  {
   "cell_type": "code",
   "execution_count": 2,
   "id": "f25e8567",
   "metadata": {},
   "outputs": [],
   "source": [
    "n = 10 # número de datos"
   ]
  },
  {
   "cell_type": "code",
   "execution_count": 17,
   "id": "7a031304",
   "metadata": {},
   "outputs": [
    {
     "data": {
      "text/plain": [
       "array([5, 8, 4, 5, 9, 5, 8, 3, 9, 6])"
      ]
     },
     "execution_count": 17,
     "metadata": {},
     "output_type": "execute_result"
    }
   ],
   "source": [
    "np.random.seed(513)\n",
    "x = np.random.randint(1,n, size = n)  # np.random.randint(star,stop, size = )\n",
    "x "
   ]
  },
  {
   "cell_type": "code",
   "execution_count": 18,
   "id": "6c2ee3b0",
   "metadata": {},
   "outputs": [
    {
     "data": {
      "text/plain": [
       "6.2"
      ]
     },
     "execution_count": 18,
     "metadata": {},
     "output_type": "execute_result"
    }
   ],
   "source": [
    "x_bar = np.mean(x)\n",
    "x_bar "
   ]
  },
  {
   "cell_type": "code",
   "execution_count": 19,
   "id": "c1075efa",
   "metadata": {},
   "outputs": [
    {
     "data": {
      "text/plain": [
       "42.6"
      ]
     },
     "execution_count": 19,
     "metadata": {},
     "output_type": "execute_result"
    }
   ],
   "source": [
    "x_2_bar = np.mean(x**2)\n",
    "x_2_bar "
   ]
  },
  {
   "cell_type": "code",
   "execution_count": 20,
   "id": "517381a6",
   "metadata": {},
   "outputs": [
    {
     "data": {
      "text/plain": [
       "4.159999999999997"
      ]
     },
     "execution_count": 20,
     "metadata": {},
     "output_type": "execute_result"
    }
   ],
   "source": [
    "s_2_x = x_2_bar - x_bar**2\n",
    "s_2_x"
   ]
  },
  {
   "cell_type": "code",
   "execution_count": 21,
   "id": "3aad843f",
   "metadata": {},
   "outputs": [
    {
     "data": {
      "text/plain": [
       "4.159999999999999"
      ]
     },
     "execution_count": 21,
     "metadata": {},
     "output_type": "execute_result"
    }
   ],
   "source": [
    "np.var(x)"
   ]
  },
  {
   "cell_type": "code",
   "execution_count": null,
   "id": "7b90780c",
   "metadata": {},
   "outputs": [],
   "source": []
  }
 ],
 "metadata": {
  "kernelspec": {
   "display_name": "Python 3",
   "language": "python",
   "name": "python3"
  },
  "language_info": {
   "codemirror_mode": {
    "name": "ipython",
    "version": 3
   },
   "file_extension": ".py",
   "mimetype": "text/x-python",
   "name": "python",
   "nbconvert_exporter": "python",
   "pygments_lexer": "ipython3",
   "version": "3.8.8"
  },
  "latex_envs": {
   "LaTeX_envs_menu_present": true,
   "autoclose": false,
   "autocomplete": false,
   "bibliofile": "biblio.bib",
   "cite_by": "apalike",
   "current_citInitial": 1,
   "eqLabelWithNumbers": true,
   "eqNumInitial": 1,
   "hotkeys": {
    "equation": "Ctrl-E",
    "itemize": "Ctrl-I"
   },
   "labels_anchors": false,
   "latex_user_defs": false,
   "report_style_numbering": false,
   "user_envs_cfg": false
  }
 },
 "nbformat": 4,
 "nbformat_minor": 5
}
