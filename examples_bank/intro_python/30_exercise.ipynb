{
 "cells": [
  {
   "cell_type": "markdown",
   "id": "2bdd4cd1",
   "metadata": {},
   "source": []
  },
  {
   "cell_type": "markdown",
   "id": "520bc893",
   "metadata": {},
   "source": [
    "# Ejercicio 30 del Taller 1"
   ]
  },
  {
   "cell_type": "markdown",
   "id": "10e54d24",
   "metadata": {},
   "source": [
    "Construya una función que calcule el coeficiente de correlación entre dos variables aleatorias $x$ e $y$ para las que se tienen las muestras $x_{1}, ..., x_{n}$ y $y_{1}, ..., y_{n}$.  \n",
    "\n",
    "Tome\n",
    "\n",
    "$$ \\frac{\\frac{1}{n} \\sum_{i = 1}^{n} x_{i}y_{i} - \\overline{xy}  }{S_{x}S_{y}} $$\n"
   ]
  },
  {
   "cell_type": "markdown",
   "id": "2054de0c",
   "metadata": {},
   "source": [
    "## Solución: "
   ]
  },
  {
   "cell_type": "code",
   "execution_count": null,
   "id": "6c52b35c",
   "metadata": {},
   "outputs": [],
   "source": []
  },
  {
   "cell_type": "code",
   "execution_count": null,
   "id": "ed936ba4",
   "metadata": {},
   "outputs": [],
   "source": []
  }
 ],
 "metadata": {
  "kernelspec": {
   "display_name": "Python 3",
   "language": "python",
   "name": "python3"
  },
  "language_info": {
   "codemirror_mode": {
    "name": "ipython",
    "version": 3
   },
   "file_extension": ".py",
   "mimetype": "text/x-python",
   "name": "python",
   "nbconvert_exporter": "python",
   "pygments_lexer": "ipython3",
   "version": "3.8.8"
  },
  "latex_envs": {
   "LaTeX_envs_menu_present": true,
   "autoclose": false,
   "autocomplete": false,
   "bibliofile": "biblio.bib",
   "cite_by": "apalike",
   "current_citInitial": 1,
   "eqLabelWithNumbers": true,
   "eqNumInitial": 1,
   "hotkeys": {
    "equation": "Ctrl-E",
    "itemize": "Ctrl-I"
   },
   "labels_anchors": false,
   "latex_user_defs": false,
   "report_style_numbering": false,
   "user_envs_cfg": false
  }
 },
 "nbformat": 4,
 "nbformat_minor": 5
}
