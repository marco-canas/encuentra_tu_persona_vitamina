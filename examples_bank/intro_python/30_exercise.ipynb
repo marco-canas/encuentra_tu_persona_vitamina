{
 "cells": [
  {
   "cell_type": "markdown",
   "id": "41c93a6c",
   "metadata": {},
   "source": []
  },
  {
   "cell_type": "markdown",
   "id": "dcea0f21",
   "metadata": {},
   "source": [
    "# Ejercicio 30 del Taller 1"
   ]
  },
  {
   "cell_type": "markdown",
   "id": "8a965994",
   "metadata": {},
   "source": [
    "Construya una función que calcule el coeficiente de correlación entre dos variables aleatorias $x$ e $y$ para las que se tienen las muestras $x_{1}, ..., x_{n}$ y $y_{1}, ..., y_{n}$.  \n",
    "\n",
    "Tome\n",
    "\n",
    "$$ \\frac{\\frac{1}{n} \\sum_{i = 1}^{n} x_{i}y_{i} - \\overline{xy}  }{S_{x}S_{y}} $$\n"
   ]
  },
  {
   "cell_type": "markdown",
   "id": "72d85374",
   "metadata": {},
   "source": [
    "## Solución: "
   ]
  },
  {
   "cell_type": "code",
   "execution_count": null,
   "id": "e680607c",
   "metadata": {},
   "outputs": [],
   "source": []
  },
  {
   "cell_type": "code",
   "execution_count": null,
   "id": "22ec981c",
   "metadata": {},
   "outputs": [],
   "source": []
  }
 ],
 "metadata": {
  "kernelspec": {
   "display_name": "Python 3",
   "language": "python",
   "name": "python3"
  },
  "language_info": {
   "codemirror_mode": {
    "name": "ipython",
    "version": 3
   },
   "file_extension": ".py",
   "mimetype": "text/x-python",
   "name": "python",
   "nbconvert_exporter": "python",
   "pygments_lexer": "ipython3",
   "version": "3.8.8"
  },
  "latex_envs": {
   "LaTeX_envs_menu_present": true,
   "autoclose": false,
   "autocomplete": false,
   "bibliofile": "biblio.bib",
   "cite_by": "apalike",
   "current_citInitial": 1,
   "eqLabelWithNumbers": true,
   "eqNumInitial": 1,
   "hotkeys": {
    "equation": "Ctrl-E",
    "itemize": "Ctrl-I"
   },
   "labels_anchors": false,
   "latex_user_defs": false,
   "report_style_numbering": false,
   "user_envs_cfg": false
  }
 },
 "nbformat": 4,
 "nbformat_minor": 5
}
