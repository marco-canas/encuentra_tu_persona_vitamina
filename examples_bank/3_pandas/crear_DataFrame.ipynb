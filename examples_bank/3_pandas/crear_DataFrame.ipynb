{
 "cells": [
  {
   "cell_type": "markdown",
   "id": "23540e40",
   "metadata": {
    "slideshow": {
     "slide_type": "slide"
    }
   },
   "source": [
    "<table align=\"left\">\n",
    "  <td>\n",
    "    <a href=\"https://colab.research.google.com/github/marco-canas/intro-Machine-Learning/blob/main/classes/class_16_end_to_end_1/class_16_end_to_end_1.ipynb\" target=\"_parent\"><img src=\"https://colab.research.google.com/assets/colab-badge.svg\" alt=\"Open In Colab\"/></a>\n",
    "  </td>\n",
    "</table> "
   ]
  },
  {
   "cell_type": "markdown",
   "id": "41be9a64",
   "metadata": {
    "slideshow": {
     "slide_type": "slide"
    }
   },
   "source": [
    "# Una forma de construcción de un DataFrame"
   ]
  },
  {
   "cell_type": "markdown",
   "id": "33e5907e",
   "metadata": {
    "slideshow": {
     "slide_type": "slide"
    }
   },
   "source": [
    "## [Video de apoyo]() "
   ]
  },
  {
   "cell_type": "markdown",
   "id": "10dccd27",
   "metadata": {
    "slideshow": {
     "slide_type": "slide"
    }
   },
   "source": [
    "Cree una función de Python que:  \n",
    "\n",
    "1. le ingrese un parámetro $n$ que represente el orden de una matriz cuadrada a construir. \n",
    "\n",
    "2. Tal matriz cuadrada de orden $n \\times n$  sea de entradas enteras aleatorias con valores en intervalo $0,1,\\ldots 9$. \n",
    "\n",
    "3. Construir una DataFrame con la matriz anterior y con uno nombres para las columnas que sean: $C_{1}, C_{2}, \\ldots, C_{n}$ y lo indices de fila serán números enteros empezando en 1. \n"
   ]
  },
  {
   "cell_type": "markdown",
   "id": "f65c1c57",
   "metadata": {},
   "source": [
    "## Solución: "
   ]
  },
  {
   "cell_type": "code",
   "execution_count": 1,
   "id": "8351cb9d",
   "metadata": {
    "slideshow": {
     "slide_type": "slide"
    }
   },
   "outputs": [],
   "source": [
    "import numpy as np \n",
    "import pandas as pd "
   ]
  },
  {
   "cell_type": "code",
   "execution_count": 2,
   "id": "747ac6b1",
   "metadata": {},
   "outputs": [],
   "source": [
    "def constructora_DataFrame(n):\n",
    "    M = np.random.randint(0,9, size = (n,n)) \n",
    "    columnas = []\n",
    "    for j in range(n):\n",
    "        columnas.append('C'+str(j+1))\n",
    "    indices = np.arange(1,n+1)    \n",
    "    df = pd.DataFrame(M, columns = columnas, index = indices) \n",
    "    return df "
   ]
  },
  {
   "cell_type": "code",
   "execution_count": 6,
   "id": "0cbe61a4",
   "metadata": {},
   "outputs": [],
   "source": [
    "df = constructora_DataFrame(4) "
   ]
  },
  {
   "cell_type": "code",
   "execution_count": 10,
   "id": "037a2232",
   "metadata": {},
   "outputs": [
    {
     "data": {
      "text/html": [
       "<div>\n",
       "<style scoped>\n",
       "    .dataframe tbody tr th:only-of-type {\n",
       "        vertical-align: middle;\n",
       "    }\n",
       "\n",
       "    .dataframe tbody tr th {\n",
       "        vertical-align: top;\n",
       "    }\n",
       "\n",
       "    .dataframe thead th {\n",
       "        text-align: right;\n",
       "    }\n",
       "</style>\n",
       "<table border=\"1\" class=\"dataframe\">\n",
       "  <thead>\n",
       "    <tr style=\"text-align: right;\">\n",
       "      <th></th>\n",
       "      <th>C1</th>\n",
       "      <th>C2</th>\n",
       "      <th>C3</th>\n",
       "      <th>C4</th>\n",
       "    </tr>\n",
       "  </thead>\n",
       "  <tbody>\n",
       "    <tr>\n",
       "      <th>1</th>\n",
       "      <td>4</td>\n",
       "      <td>0</td>\n",
       "      <td>3</td>\n",
       "      <td>5</td>\n",
       "    </tr>\n",
       "    <tr>\n",
       "      <th>2</th>\n",
       "      <td>5</td>\n",
       "      <td>7</td>\n",
       "      <td>4</td>\n",
       "      <td>8</td>\n",
       "    </tr>\n",
       "    <tr>\n",
       "      <th>3</th>\n",
       "      <td>3</td>\n",
       "      <td>6</td>\n",
       "      <td>3</td>\n",
       "      <td>0</td>\n",
       "    </tr>\n",
       "    <tr>\n",
       "      <th>4</th>\n",
       "      <td>0</td>\n",
       "      <td>7</td>\n",
       "      <td>8</td>\n",
       "      <td>1</td>\n",
       "    </tr>\n",
       "  </tbody>\n",
       "</table>\n",
       "</div>"
      ],
      "text/plain": [
       "   C1  C2  C3  C4\n",
       "1   4   0   3   5\n",
       "2   5   7   4   8\n",
       "3   3   6   3   0\n",
       "4   0   7   8   1"
      ]
     },
     "execution_count": 10,
     "metadata": {},
     "output_type": "execute_result"
    }
   ],
   "source": [
    "df "
   ]
  },
  {
   "cell_type": "markdown",
   "id": "2218e257",
   "metadata": {},
   "source": [
    "# Tarea 2 \n",
    "\n",
    "Construya una función que tome un dataframe y entregue las filas que contengan algún 1 en sus entradas. "
   ]
  },
  {
   "cell_type": "code",
   "execution_count": 8,
   "id": "f4f95f09",
   "metadata": {},
   "outputs": [],
   "source": [
    "def filas_con_unos(df):\n",
    "    lista_filas_unos = []\n",
    "    for i in range(len(df)):\n",
    "        booleano = df.iloc[i]==1\n",
    "        suma = sum(booleano)\n",
    "        if suma > 0:\n",
    "            lista_filas_unos.append(i)\n",
    "    df_unos = df.iloc[lista_filas_unos]        \n",
    "    return df_unos"
   ]
  },
  {
   "cell_type": "code",
   "execution_count": 9,
   "id": "b99c7594",
   "metadata": {},
   "outputs": [
    {
     "data": {
      "text/html": [
       "<div>\n",
       "<style scoped>\n",
       "    .dataframe tbody tr th:only-of-type {\n",
       "        vertical-align: middle;\n",
       "    }\n",
       "\n",
       "    .dataframe tbody tr th {\n",
       "        vertical-align: top;\n",
       "    }\n",
       "\n",
       "    .dataframe thead th {\n",
       "        text-align: right;\n",
       "    }\n",
       "</style>\n",
       "<table border=\"1\" class=\"dataframe\">\n",
       "  <thead>\n",
       "    <tr style=\"text-align: right;\">\n",
       "      <th></th>\n",
       "      <th>C1</th>\n",
       "      <th>C2</th>\n",
       "      <th>C3</th>\n",
       "      <th>C4</th>\n",
       "    </tr>\n",
       "  </thead>\n",
       "  <tbody>\n",
       "    <tr>\n",
       "      <th>4</th>\n",
       "      <td>0</td>\n",
       "      <td>7</td>\n",
       "      <td>8</td>\n",
       "      <td>1</td>\n",
       "    </tr>\n",
       "  </tbody>\n",
       "</table>\n",
       "</div>"
      ],
      "text/plain": [
       "   C1  C2  C3  C4\n",
       "4   0   7   8   1"
      ]
     },
     "execution_count": 9,
     "metadata": {},
     "output_type": "execute_result"
    }
   ],
   "source": [
    "filas_con_unos(df)"
   ]
  },
  {
   "cell_type": "code",
   "execution_count": null,
   "id": "41798a4b",
   "metadata": {},
   "outputs": [],
   "source": []
  }
 ],
 "metadata": {
  "celltoolbar": "Slideshow",
  "kernelspec": {
   "display_name": "Python 3 (ipykernel)",
   "language": "python",
   "name": "python3"
  },
  "language_info": {
   "codemirror_mode": {
    "name": "ipython",
    "version": 3
   },
   "file_extension": ".py",
   "mimetype": "text/x-python",
   "name": "python",
   "nbconvert_exporter": "python",
   "pygments_lexer": "ipython3",
   "version": "3.9.7"
  }
 },
 "nbformat": 4,
 "nbformat_minor": 5
}
