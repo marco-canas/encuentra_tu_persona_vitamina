{
 "cells": [
  {
   "cell_type": "markdown",
   "id": "eded1f03",
   "metadata": {
    "slideshow": {
     "slide_type": "slide"
    }
   },
   "source": [
    "\n",
    "<table align=\"left\">\n",
    "  <td>\n",
    "    <a href=\"https://colab.research.google.com/github/marco-canas/introducci-n-al-Machine-Learning/blob/main/examples_bank/taller_3_pandas/2_ejer_pandas.ipynb\" target=\"_parent\"><img src=\"https://colab.research.google.com/assets/colab-badge.svg\" alt=\"Open In Colab\"/></a>\n",
    "  </td>\n",
    "  <td>\n",
    "    <a target=\"_blank\" href=\"https://kaggle.com/kernels/welcome?src=https://github.com/marco-canas/introducci-n-al-Machine-Learning/blob/main/examples_bank/taller_3_pandas/2_ejer_pandas.ipynb\"><img src=\"https://kaggle.com/static/images/open-in-kaggle.svg\" /></a>\n",
    "  </td>\n",
    "</table>\n"
   ]
  },
  {
   "cell_type": "markdown",
   "id": "f2b6bd93",
   "metadata": {
    "slideshow": {
     "slide_type": "slide"
    }
   },
   "source": [
    "# Ejercicio 2  \n",
    "\n",
    "Escribir una función que reciba un diccionario con las notas de los alumnos en curso en un examen y devuelva una serie con:  \n",
    "\n",
    "* la nota mínima, \n",
    "* la máxima, \n",
    "* media y \n",
    "* la desviación típica."
   ]
  },
  {
   "cell_type": "markdown",
   "id": "c81b8e04",
   "metadata": {
    "slideshow": {
     "slide_type": "slide"
    }
   },
   "source": [
    "## Solución: "
   ]
  },
  {
   "cell_type": "code",
   "execution_count": 1,
   "id": "64e34254",
   "metadata": {
    "slideshow": {
     "slide_type": "slide"
    }
   },
   "outputs": [],
   "source": [
    "import pandas as pd\n",
    "\n",
    "def estadistica_notas(notas):\n",
    "    '''\n",
    "    input: un diccionario con las notas de los estudiantes.\n",
    "    output: una serie de pandas conlas notas mínima, máxima, promedio y desviación estandar \n",
    "    '''\n",
    "    notas = pd.Series(notas)\n",
    "    estadisticos = pd.Series([notas.min(), notas.max(), notas.mean(), notas.std()]\\\n",
    "                             , index=['Nota Mínima', 'Nota Máxima', \\\n",
    "                                      'Promedio de las notas', 'Desviación estándar de las notas'])\n",
    "    return estadisticos"
   ]
  },
  {
   "cell_type": "code",
   "execution_count": 4,
   "id": "38bdbc0b",
   "metadata": {
    "slideshow": {
     "slide_type": "slide"
    }
   },
   "outputs": [
    {
     "name": "stdout",
     "output_type": "stream",
     "text": [
      "Min                  2.000000\n",
      "Max                  5.000000\n",
      "Media                3.900000\n",
      "Desviación típica    1.193734\n",
      "dtype: float64\n"
     ]
    }
   ],
   "source": [
    "notas = {'Juan':4.5, 'María':3.5, 'Pedro':2, 'Carmen': 4.5, 'Luis': 5}\n",
    "print(estadistica_notas(notas))"
   ]
  },
  {
   "cell_type": "markdown",
   "id": "6d8a0fa5",
   "metadata": {},
   "source": [
    "## Práctica de escritura del código"
   ]
  },
  {
   "cell_type": "code",
   "execution_count": 16,
   "id": "67fc41c5",
   "metadata": {},
   "outputs": [],
   "source": [
    "import numpy as np \n",
    "import pandas as pd "
   ]
  },
  {
   "cell_type": "code",
   "execution_count": 17,
   "id": "a495f6b5",
   "metadata": {},
   "outputs": [],
   "source": [
    "def sintesis_notas(notas_dict):\n",
    "    notas_s = pd.Series(notas_dict)\n",
    "    lista = [notas_s.min(), notas_s.max(), notas_s.mean(), notas_s.std()]\n",
    "    serie_sintesis = pd.Series(lista, index = ['Nota mínima', 'Nota máxima', \\\n",
    "                                               'La nota promedio', 'La desviación estándar'])\n",
    "    return np.round(serie_sintesis,2) "
   ]
  },
  {
   "cell_type": "code",
   "execution_count": 18,
   "id": "45f35a37",
   "metadata": {
    "slideshow": {
     "slide_type": "slide"
    }
   },
   "outputs": [],
   "source": [
    "notas_dict = {'juan':1.0, 'maria':2.5, 'anyi':3.7, 'juliana':5.0} "
   ]
  },
  {
   "cell_type": "code",
   "execution_count": 19,
   "id": "8a71e70a",
   "metadata": {
    "slideshow": {
     "slide_type": "slide"
    }
   },
   "outputs": [
    {
     "data": {
      "text/plain": [
       "Nota mínima               1.00\n",
       "Nota máxima               5.00\n",
       "La nota promedio          3.05\n",
       "La desviación estándar    1.71\n",
       "dtype: float64"
      ]
     },
     "execution_count": 19,
     "metadata": {},
     "output_type": "execute_result"
    }
   ],
   "source": [
    "sintesis_notas(notas_dict)"
   ]
  },
  {
   "cell_type": "code",
   "execution_count": 4,
   "id": "dda1aeea",
   "metadata": {},
   "outputs": [],
   "source": [
    "notas_s = pd.Series(notas_dict)"
   ]
  },
  {
   "cell_type": "code",
   "execution_count": 5,
   "id": "b2258c5e",
   "metadata": {},
   "outputs": [
    {
     "data": {
      "text/plain": [
       "juan       1.0\n",
       "maria      2.5\n",
       "anyi       3.7\n",
       "juliana    5.0\n",
       "dtype: float64"
      ]
     },
     "execution_count": 5,
     "metadata": {},
     "output_type": "execute_result"
    }
   ],
   "source": [
    "notas_s "
   ]
  },
  {
   "cell_type": "code",
   "execution_count": 9,
   "id": "adb2b688",
   "metadata": {},
   "outputs": [
    {
     "data": {
      "text/plain": [
       "1.705872210923198"
      ]
     },
     "execution_count": 9,
     "metadata": {},
     "output_type": "execute_result"
    }
   ],
   "source": [
    "notas_s.std() "
   ]
  },
  {
   "cell_type": "code",
   "execution_count": null,
   "id": "603455d9",
   "metadata": {},
   "outputs": [],
   "source": []
  },
  {
   "cell_type": "code",
   "execution_count": null,
   "id": "05bb4272",
   "metadata": {},
   "outputs": [],
   "source": []
  },
  {
   "cell_type": "code",
   "execution_count": null,
   "id": "b2e369f8",
   "metadata": {},
   "outputs": [],
   "source": []
  },
  {
   "cell_type": "markdown",
   "id": "c2b40092",
   "metadata": {
    "slideshow": {
     "slide_type": "slide"
    }
   },
   "source": [
    "## Referentes  \n",
    "\n",
    "* `.min()`: Método para series de Pandas"
   ]
  },
  {
   "cell_type": "code",
   "execution_count": null,
   "id": "01c0c143",
   "metadata": {},
   "outputs": [],
   "source": []
  }
 ],
 "metadata": {
  "celltoolbar": "Slideshow",
  "kernelspec": {
   "display_name": "Python 3",
   "language": "python",
   "name": "python3"
  },
  "language_info": {
   "codemirror_mode": {
    "name": "ipython",
    "version": 3
   },
   "file_extension": ".py",
   "mimetype": "text/x-python",
   "name": "python",
   "nbconvert_exporter": "python",
   "pygments_lexer": "ipython3",
   "version": "3.8.8"
  },
  "latex_envs": {
   "LaTeX_envs_menu_present": true,
   "autoclose": false,
   "autocomplete": false,
   "bibliofile": "biblio.bib",
   "cite_by": "apalike",
   "current_citInitial": 1,
   "eqLabelWithNumbers": true,
   "eqNumInitial": 1,
   "hotkeys": {
    "equation": "Ctrl-E",
    "itemize": "Ctrl-I"
   },
   "labels_anchors": false,
   "latex_user_defs": false,
   "report_style_numbering": false,
   "user_envs_cfg": false
  },
  "rise": {
   "enable_chalkboard": true,
   "theme": "sky",
   "transition": "zoom"
  }
 },
 "nbformat": 4,
 "nbformat_minor": 5
}
