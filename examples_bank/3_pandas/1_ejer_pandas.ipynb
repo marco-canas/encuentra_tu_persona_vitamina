{
 "cells": [
  {
   "cell_type": "markdown",
   "id": "f4024ea0",
   "metadata": {
    "slideshow": {
     "slide_type": "slide"
    }
   },
   "source": [
    "\n",
    "<table align=\"left\">\n",
    "  <td>\n",
    "    <a href=\"https://colab.research.google.com/github/marco-canas/introducci-n-al-Machine-Learning/blob/main/examples_bank/taller_3_pandas/1_ejer_pandas.ipynb#scrollTo=ee39359b\" target=\"_parent\"><img src=\"https://colab.research.google.com/assets/colab-badge.svg\" alt=\"Open In Colab\"/></a>\n",
    "  </td>\n",
    "  <td>\n",
    "    <a target=\"_blank\" href=\"https://kaggle.com/kernels/welcome?src=https://github.com/marco-canas/introducci-n-al-Machine-Learning/blob/main/examples_bank/taller_3_pandas/1_ejer_pandas.ipynb#scrollTo=ee39359b\"><img src=\"https://kaggle.com/static/images/open-in-kaggle.svg\" /></a>\n",
    "  </td>\n",
    "</table>\n"
   ]
  },
  {
   "cell_type": "markdown",
   "id": "ee39359b",
   "metadata": {
    "slideshow": {
     "slide_type": "slide"
    }
   },
   "source": [
    "# Ejercicio   1 Taller 3 Pandas \n",
    "\n",
    "Escribir un programa que pregunte al usuario por las ventas de un rango de años y \n",
    "\n",
    "* muestre por pantalla una serie con los datos de las ventas indexada por los años, antes y\n",
    "\n",
    "* después de aplicarles un descuento del 10%."
   ]
  },
  {
   "cell_type": "code",
   "execution_count": 1,
   "id": "a7110f53",
   "metadata": {
    "slideshow": {
     "slide_type": "slide"
    }
   },
   "outputs": [],
   "source": [
    "import pandas as pd"
   ]
  },
  {
   "cell_type": "code",
   "execution_count": 2,
   "id": "f526f8db",
   "metadata": {
    "slideshow": {
     "slide_type": "slide"
    }
   },
   "outputs": [
    {
     "name": "stdout",
     "output_type": "stream",
     "text": [
      "Introduce el año inicial: 2015\n",
      "Introduce el año final: 2020\n"
     ]
    }
   ],
   "source": [
    "inicio = int(input('Introduce el año inicial: '))\n",
    "fin = int(input('Introduce el año final: '))"
   ]
  },
  {
   "cell_type": "code",
   "execution_count": 3,
   "id": "a350b41b",
   "metadata": {
    "slideshow": {
     "slide_type": "slide"
    }
   },
   "outputs": [],
   "source": [
    "ventas = {}"
   ]
  },
  {
   "cell_type": "code",
   "execution_count": 4,
   "id": "6ab3f2fa",
   "metadata": {
    "slideshow": {
     "slide_type": "slide"
    }
   },
   "outputs": [
    {
     "name": "stdout",
     "output_type": "stream",
     "text": [
      "Introduce las ventas del año 2015: 23\n",
      "Introduce las ventas del año 2016: 25\n",
      "Introduce las ventas del año 2017: 30\n",
      "Introduce las ventas del año 2018: 45\n",
      "Introduce las ventas del año 2019: 60\n",
      "Introduce las ventas del año 2020: 12\n"
     ]
    }
   ],
   "source": [
    "for i in range(inicio, fin+1):\n",
    "    ventas[i] = float(input('Introduce las ventas del año ' + str(i) +': '))"
   ]
  },
  {
   "cell_type": "code",
   "execution_count": 5,
   "id": "7c11a4dd",
   "metadata": {},
   "outputs": [
    {
     "data": {
      "text/plain": [
       "{2015: 23.0, 2016: 25.0, 2017: 30.0, 2018: 45.0, 2019: 60.0, 2020: 12.0}"
      ]
     },
     "execution_count": 5,
     "metadata": {},
     "output_type": "execute_result"
    }
   ],
   "source": [
    "ventas "
   ]
  },
  {
   "cell_type": "code",
   "execution_count": 6,
   "id": "63db2574",
   "metadata": {
    "slideshow": {
     "slide_type": "slide"
    }
   },
   "outputs": [],
   "source": [
    "ventas = pd.Series(ventas)"
   ]
  },
  {
   "cell_type": "code",
   "execution_count": 7,
   "id": "0f339f3b",
   "metadata": {},
   "outputs": [
    {
     "data": {
      "text/plain": [
       "2015    23.0\n",
       "2016    25.0\n",
       "2017    30.0\n",
       "2018    45.0\n",
       "2019    60.0\n",
       "2020    12.0\n",
       "dtype: float64"
      ]
     },
     "execution_count": 7,
     "metadata": {},
     "output_type": "execute_result"
    }
   ],
   "source": [
    "ventas "
   ]
  },
  {
   "cell_type": "code",
   "execution_count": 10,
   "id": "55addcd6",
   "metadata": {
    "slideshow": {
     "slide_type": "slide"
    }
   },
   "outputs": [
    {
     "name": "stdout",
     "output_type": "stream",
     "text": [
      "Ventas\n",
      " 2015    23.0\n",
      "2016    25.0\n",
      "2017    30.0\n",
      "2018    45.0\n",
      "2019    60.0\n",
      "2020    12.0\n",
      "dtype: float64\n"
     ]
    }
   ],
   "source": [
    "print('Ventas\\n', ventas)"
   ]
  },
  {
   "cell_type": "code",
   "execution_count": 11,
   "id": "5716ead7",
   "metadata": {
    "slideshow": {
     "slide_type": "slide"
    }
   },
   "outputs": [
    {
     "name": "stdout",
     "output_type": "stream",
     "text": [
      "Ventas con descuento\n",
      " 2015    20.7\n",
      "2016    22.5\n",
      "2017    27.0\n",
      "2018    40.5\n",
      "2019    54.0\n",
      "2020    10.8\n",
      "dtype: float64\n"
     ]
    }
   ],
   "source": [
    "print('Ventas con descuento\\n', ventas*0.9)"
   ]
  },
  {
   "cell_type": "code",
   "execution_count": null,
   "id": "6729e573",
   "metadata": {},
   "outputs": [],
   "source": []
  },
  {
   "cell_type": "markdown",
   "id": "3afb165a",
   "metadata": {
    "slideshow": {
     "slide_type": "slide"
    }
   },
   "source": [
    "## Práctica de escritura del código solución"
   ]
  },
  {
   "cell_type": "code",
   "execution_count": 1,
   "id": "f3ae9c1b",
   "metadata": {
    "slideshow": {
     "slide_type": "slide"
    }
   },
   "outputs": [],
   "source": [
    "import pandas as pd "
   ]
  },
  {
   "cell_type": "code",
   "execution_count": 2,
   "id": "1629772c",
   "metadata": {
    "slideshow": {
     "slide_type": "slide"
    }
   },
   "outputs": [
    {
     "name": "stdout",
     "output_type": "stream",
     "text": [
      "Entre el año inicial2016\n",
      "Entre el año final2021\n"
     ]
    }
   ],
   "source": [
    "año_inicial = int(input('Entre el año inicial: '))\n",
    "año_final = int(input('Entre el año final: '))"
   ]
  },
  {
   "cell_type": "code",
   "execution_count": 15,
   "id": "7c514288",
   "metadata": {
    "slideshow": {
     "slide_type": "slide"
    }
   },
   "outputs": [
    {
     "name": "stdout",
     "output_type": "stream",
     "text": [
      "Entre las ventas en el año 2016: 1\n",
      "Entre las ventas en el año 2017: 2\n",
      "Entre las ventas en el año 2018: 3\n",
      "Entre las ventas en el año 2019: 4\n",
      "Entre las ventas en el año 2020: 5\n",
      "Entre las ventas en el año 2021: 6\n"
     ]
    }
   ],
   "source": [
    "ventas = {}\n",
    "for i in range(año_inicial, año_final + 1):\n",
    "    ventas[str(i)] = int(input('Entre las ventas en el año ' + str(i) + ': '))\n",
    "    "
   ]
  },
  {
   "cell_type": "code",
   "execution_count": 16,
   "id": "99a7ae05",
   "metadata": {},
   "outputs": [
    {
     "data": {
      "text/plain": [
       "{'2016': 1, '2017': 2, '2018': 3, '2019': 4, '2020': 5, '2021': 6}"
      ]
     },
     "execution_count": 16,
     "metadata": {},
     "output_type": "execute_result"
    }
   ],
   "source": [
    "ventas"
   ]
  },
  {
   "cell_type": "code",
   "execution_count": 17,
   "id": "41569de9",
   "metadata": {
    "slideshow": {
     "slide_type": "slide"
    }
   },
   "outputs": [],
   "source": [
    "ventas = pd.Series(ventas) "
   ]
  },
  {
   "cell_type": "code",
   "execution_count": 18,
   "id": "fca06978",
   "metadata": {},
   "outputs": [
    {
     "data": {
      "text/plain": [
       "2016    1\n",
       "2017    2\n",
       "2018    3\n",
       "2019    4\n",
       "2020    5\n",
       "2021    6\n",
       "dtype: int64"
      ]
     },
     "execution_count": 18,
     "metadata": {},
     "output_type": "execute_result"
    }
   ],
   "source": [
    "ventas "
   ]
  },
  {
   "cell_type": "code",
   "execution_count": 19,
   "id": "ee1016a3",
   "metadata": {
    "slideshow": {
     "slide_type": "slide"
    }
   },
   "outputs": [],
   "source": [
    "ventas_descontadas = ventas*0.9"
   ]
  },
  {
   "cell_type": "code",
   "execution_count": 20,
   "id": "320762d8",
   "metadata": {},
   "outputs": [
    {
     "data": {
      "text/plain": [
       "2016    0.9\n",
       "2017    1.8\n",
       "2018    2.7\n",
       "2019    3.6\n",
       "2020    4.5\n",
       "2021    5.4\n",
       "dtype: float64"
      ]
     },
     "execution_count": 20,
     "metadata": {},
     "output_type": "execute_result"
    }
   ],
   "source": [
    "ventas_descontadas "
   ]
  },
  {
   "cell_type": "code",
   "execution_count": 26,
   "id": "cf06fdfb",
   "metadata": {},
   "outputs": [
    {
     "name": "stdout",
     "output_type": "stream",
     "text": [
      "Ventas\n",
      "\n",
      " 2016    1\n",
      "2017    2\n",
      "2018    3\n",
      "2019    4\n",
      "2020    5\n",
      "2021    6\n",
      "dtype: int64\n"
     ]
    }
   ],
   "source": [
    "print('Ventas\\n\\n', ventas )"
   ]
  },
  {
   "cell_type": "code",
   "execution_count": null,
   "id": "d44e8e49",
   "metadata": {},
   "outputs": [],
   "source": []
  }
 ],
 "metadata": {
  "celltoolbar": "Slideshow",
  "kernelspec": {
   "display_name": "Python 3",
   "language": "python",
   "name": "python3"
  },
  "language_info": {
   "codemirror_mode": {
    "name": "ipython",
    "version": 3
   },
   "file_extension": ".py",
   "mimetype": "text/x-python",
   "name": "python",
   "nbconvert_exporter": "python",
   "pygments_lexer": "ipython3",
   "version": "3.8.8"
  },
  "latex_envs": {
   "LaTeX_envs_menu_present": true,
   "autoclose": false,
   "autocomplete": false,
   "bibliofile": "biblio.bib",
   "cite_by": "apalike",
   "current_citInitial": 1,
   "eqLabelWithNumbers": true,
   "eqNumInitial": 1,
   "hotkeys": {
    "equation": "Ctrl-E",
    "itemize": "Ctrl-I"
   },
   "labels_anchors": false,
   "latex_user_defs": false,
   "report_style_numbering": false,
   "user_envs_cfg": false
  },
  "rise": {
   "enable_chalkboard": true,
   "theme": "sky",
   "transition": "zoom"
  }
 },
 "nbformat": 4,
 "nbformat_minor": 5
}
