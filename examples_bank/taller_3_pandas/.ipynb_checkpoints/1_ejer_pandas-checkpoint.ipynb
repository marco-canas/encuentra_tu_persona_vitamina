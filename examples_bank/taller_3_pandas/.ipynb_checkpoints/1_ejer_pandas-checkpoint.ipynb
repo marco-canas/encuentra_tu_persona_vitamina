{
 "cells": [
  {
   "cell_type": "markdown",
   "id": "f4024ea0",
   "metadata": {
    "slideshow": {
     "slide_type": "slide"
    }
   },
   "source": [
    "\n",
    "<table align=\"left\">\n",
    "  <td>\n",
    "    <a href=\"https://colab.research.google.com/github/marco-canas/innovaciones/blob/main/ref/geron/math_linear_algebra/linear_algebra.ipynb\" target=\"_parent\"><img src=\"https://colab.research.google.com/assets/colab-badge.svg\" alt=\"Open In Colab\"/></a>\n",
    "  </td>\n",
    "  <td>\n",
    "    <a target=\"_blank\" href=\"https://kaggle.com/kernels/welcome?src=https://github.com/marco-canas/innovaciones/blob/main/ref/geron/math_linear_algebra/linear_algebra.ipynb\"><img src=\"https://kaggle.com/static/images/open-in-kaggle.svg\" /></a>\n",
    "  </td>\n",
    "</table>\n"
   ]
  },
  {
   "cell_type": "markdown",
   "id": "ee39359b",
   "metadata": {
    "slideshow": {
     "slide_type": "slide"
    }
   },
   "source": [
    "# Ejercicio   \n",
    "\n",
    "Escribir un programa que pregunte al usuario por las ventas de un rango de años y \n",
    "\n",
    "* muestre por pantalla una serie con los datos de las ventas indexada por los años, antes y\n",
    "\n",
    "* después de aplicarles un descuento del 10%."
   ]
  },
  {
   "cell_type": "code",
   "execution_count": 1,
   "id": "5716ead7",
   "metadata": {
    "slideshow": {
     "slide_type": "slide"
    }
   },
   "outputs": [
    {
     "name": "stdout",
     "output_type": "stream",
     "text": [
      "Introduce el año inicial: 2010\n",
      "Introduce el año final: 2020\n",
      "Introduce las ventas del año 2010: 100\n",
      "Introduce las ventas del año 2011: 200\n",
      "Introduce las ventas del año 2012: 300\n",
      "Introduce las ventas del año 2013: 400\n",
      "Introduce las ventas del año 2014: 500\n",
      "Introduce las ventas del año 2015: 600\n",
      "Introduce las ventas del año 2016: 700\n",
      "Introduce las ventas del año 2017: 800\n",
      "Introduce las ventas del año 2018: 900\n",
      "Introduce las ventas del año 2019: 1000\n",
      "Introduce las ventas del año 2020: 1100\n",
      "Ventas\n",
      " 2010     100.0\n",
      "2011     200.0\n",
      "2012     300.0\n",
      "2013     400.0\n",
      "2014     500.0\n",
      "2015     600.0\n",
      "2016     700.0\n",
      "2017     800.0\n",
      "2018     900.0\n",
      "2019    1000.0\n",
      "2020    1100.0\n",
      "dtype: float64\n",
      "Ventas con descuento\n",
      " 2010     90.0\n",
      "2011    180.0\n",
      "2012    270.0\n",
      "2013    360.0\n",
      "2014    450.0\n",
      "2015    540.0\n",
      "2016    630.0\n",
      "2017    720.0\n",
      "2018    810.0\n",
      "2019    900.0\n",
      "2020    990.0\n",
      "dtype: float64\n"
     ]
    }
   ],
   "source": [
    "import pandas as pd\n",
    "\n",
    "inicio = int(input('Introduce el año inicial: '))\n",
    "fin = int(input('Introduce el año final: '))\n",
    "ventas = {}\n",
    "for i in range(inicio, fin+1):\n",
    "    ventas[i] = float(input('Introduce las ventas del año ' + str(i) +': '))\n",
    "ventas = pd.Series(ventas)\n",
    "print('Ventas\\n', ventas)\n",
    "print('Ventas con descuento\\n', ventas*0.9)\n"
   ]
  },
  {
   "cell_type": "code",
   "execution_count": null,
   "id": "6729e573",
   "metadata": {},
   "outputs": [],
   "source": []
  },
  {
   "cell_type": "code",
   "execution_count": null,
   "id": "bd67bfd6",
   "metadata": {},
   "outputs": [],
   "source": []
  },
  {
   "cell_type": "code",
   "execution_count": null,
   "id": "f3ae9c1b",
   "metadata": {},
   "outputs": [],
   "source": []
  }
 ],
 "metadata": {
  "celltoolbar": "Slideshow",
  "kernelspec": {
   "display_name": "Python 3",
   "language": "python",
   "name": "python3"
  },
  "language_info": {
   "codemirror_mode": {
    "name": "ipython",
    "version": 3
   },
   "file_extension": ".py",
   "mimetype": "text/x-python",
   "name": "python",
   "nbconvert_exporter": "python",
   "pygments_lexer": "ipython3",
   "version": "3.8.8"
  },
  "latex_envs": {
   "LaTeX_envs_menu_present": true,
   "autoclose": false,
   "autocomplete": false,
   "bibliofile": "biblio.bib",
   "cite_by": "apalike",
   "current_citInitial": 1,
   "eqLabelWithNumbers": true,
   "eqNumInitial": 1,
   "hotkeys": {
    "equation": "Ctrl-E",
    "itemize": "Ctrl-I"
   },
   "labels_anchors": false,
   "latex_user_defs": false,
   "report_style_numbering": false,
   "user_envs_cfg": false
  }
 },
 "nbformat": 4,
 "nbformat_minor": 5
}
