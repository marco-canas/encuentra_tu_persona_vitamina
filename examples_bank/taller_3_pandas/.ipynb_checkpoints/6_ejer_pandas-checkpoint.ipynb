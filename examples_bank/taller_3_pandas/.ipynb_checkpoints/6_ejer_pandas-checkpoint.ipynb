{
 "cells": [
  {
   "cell_type": "markdown",
   "id": "fc429824",
   "metadata": {},
   "source": [
    "<table align=\"left\">\n",
    "  <td>\n",
    "    <a href=\"https://colab.research.google.com/github/marco-canas/innovaciones/blob/main/ref/geron/math_linear_algebra/linear_algebra.ipynb\" target=\"_parent\"><img src=\"https://colab.research.google.com/assets/colab-badge.svg\" alt=\"Open In Colab\"/></a>\n",
    "  </td>\n",
    "  <td>\n",
    "    <a target=\"_blank\" href=\"https://kaggle.com/kernels/welcome?src=https://github.com/marco-canas/innovaciones/blob/main/ref/geron/math_linear_algebra/linear_algebra.ipynb\"><img src=\"https://kaggle.com/static/images/open-in-kaggle.svg\" /></a>\n",
    "  </td>\n",
    "</table>"
   ]
  },
  {
   "cell_type": "markdown",
   "id": "e1be4801",
   "metadata": {},
   "source": [
    "# Ejercicio 6  \n",
    "\n",
    "El fichero cotizacion.csv contiene las cotizaciones de las empresas del IBEX35 con las siguientes columnas: \n",
    "* `nombre` (nombre de la empresa), \n",
    "* `Final` (precio de la acción al cierre de bolsa), \n",
    "* `Máximo` (precio máximo de la acción durante la jornada), \n",
    "* `Mínimo` (precio mínimo de la acción durante la jornada), \n",
    "* `volumen` (Volumen al cierre de bolsa), \n",
    "* `Efectivo` (capitalización al cierre en miles de euros).   \n",
    "\n",
    "Construir una función que construya un DataFrame a partir del un fichero con el formato anterior y devuelva otro DataFrame con el mínimo, el máximo y la media de cada columna."
   ]
  },
  {
   "cell_type": "code",
   "execution_count": 46,
   "id": "d1faafca",
   "metadata": {},
   "outputs": [
    {
     "data": {
      "text/html": [
       "<div>\n",
       "<style scoped>\n",
       "    .dataframe tbody tr th:only-of-type {\n",
       "        vertical-align: middle;\n",
       "    }\n",
       "\n",
       "    .dataframe tbody tr th {\n",
       "        vertical-align: top;\n",
       "    }\n",
       "\n",
       "    .dataframe thead th {\n",
       "        text-align: right;\n",
       "    }\n",
       "</style>\n",
       "<table border=\"1\" class=\"dataframe\">\n",
       "  <thead>\n",
       "    <tr style=\"text-align: right;\">\n",
       "      <th></th>\n",
       "      <th>Final</th>\n",
       "      <th>Máximo</th>\n",
       "      <th>Mínimo</th>\n",
       "      <th>Volumen</th>\n",
       "      <th>Efectivo</th>\n",
       "    </tr>\n",
       "  </thead>\n",
       "  <tbody>\n",
       "    <tr>\n",
       "      <th>Mínimo</th>\n",
       "      <td>1.016500</td>\n",
       "      <td>4.067500</td>\n",
       "      <td>1.016500</td>\n",
       "      <td>1.221000e+03</td>\n",
       "      <td>2343.090</td>\n",
       "    </tr>\n",
       "    <tr>\n",
       "      <th>Máximo</th>\n",
       "      <td>19705.000000</td>\n",
       "      <td>19875.000000</td>\n",
       "      <td>19675.000000</td>\n",
       "      <td>3.612969e+07</td>\n",
       "      <td>145765.440</td>\n",
       "    </tr>\n",
       "    <tr>\n",
       "      <th>Media</th>\n",
       "      <td>2796.768757</td>\n",
       "      <td>3170.113357</td>\n",
       "      <td>3136.510471</td>\n",
       "      <td>4.252279e+06</td>\n",
       "      <td>31767.778</td>\n",
       "    </tr>\n",
       "  </tbody>\n",
       "</table>\n",
       "</div>"
      ],
      "text/plain": [
       "               Final        Máximo        Mínimo       Volumen    Efectivo\n",
       "Mínimo      1.016500      4.067500      1.016500  1.221000e+03    2343.090\n",
       "Máximo  19705.000000  19875.000000  19675.000000  3.612969e+07  145765.440\n",
       "Media    2796.768757   3170.113357   3136.510471  4.252279e+06   31767.778"
      ]
     },
     "execution_count": 46,
     "metadata": {},
     "output_type": "execute_result"
    }
   ],
   "source": [
    "import pandas as pd\n",
    "\n",
    "def resumen_cotizaciones(fichero):\n",
    "    df = pd.read_csv(fichero, sep=';', decimal=',', thousands='.', index_col=0)\n",
    "    return pd.DataFrame([df.min(), df.max(), df.mean()], index=['Mínimo', 'Máximo', 'Media'])\n",
    "\n",
    "resumen_cotizaciones('cotizacion.csv')"
   ]
  },
  {
   "cell_type": "code",
   "execution_count": 49,
   "id": "08fb7baa",
   "metadata": {},
   "outputs": [
    {
     "data": {
      "text/html": [
       "<div>\n",
       "<style scoped>\n",
       "    .dataframe tbody tr th:only-of-type {\n",
       "        vertical-align: middle;\n",
       "    }\n",
       "\n",
       "    .dataframe tbody tr th {\n",
       "        vertical-align: top;\n",
       "    }\n",
       "\n",
       "    .dataframe thead th {\n",
       "        text-align: right;\n",
       "    }\n",
       "</style>\n",
       "<table border=\"1\" class=\"dataframe\">\n",
       "  <thead>\n",
       "    <tr style=\"text-align: right;\">\n",
       "      <th></th>\n",
       "      <th>Final</th>\n",
       "      <th>Máximo</th>\n",
       "      <th>Mínimo</th>\n",
       "      <th>Volumen</th>\n",
       "      <th>Efectivo</th>\n",
       "    </tr>\n",
       "    <tr>\n",
       "      <th>Nombre</th>\n",
       "      <th></th>\n",
       "      <th></th>\n",
       "      <th></th>\n",
       "      <th></th>\n",
       "      <th></th>\n",
       "    </tr>\n",
       "  </thead>\n",
       "  <tbody>\n",
       "    <tr>\n",
       "      <th>ACCIONA</th>\n",
       "      <td>95.95</td>\n",
       "      <td>96.75</td>\n",
       "      <td>94.40</td>\n",
       "      <td>84962</td>\n",
       "      <td>8166.11</td>\n",
       "    </tr>\n",
       "    <tr>\n",
       "      <th>ACERINOX</th>\n",
       "      <td>8668.00</td>\n",
       "      <td>8672.00</td>\n",
       "      <td>8468.00</td>\n",
       "      <td>88599</td>\n",
       "      <td>7633.81</td>\n",
       "    </tr>\n",
       "    <tr>\n",
       "      <th>ACS</th>\n",
       "      <td>37.28</td>\n",
       "      <td>37.66</td>\n",
       "      <td>37.22</td>\n",
       "      <td>655982</td>\n",
       "      <td>24517.29</td>\n",
       "    </tr>\n",
       "    <tr>\n",
       "      <th>AENA</th>\n",
       "      <td>167.10</td>\n",
       "      <td>167.50</td>\n",
       "      <td>166.10</td>\n",
       "      <td>133738</td>\n",
       "      <td>22336.10</td>\n",
       "    </tr>\n",
       "    <tr>\n",
       "      <th>AMADEUS</th>\n",
       "      <td>69.96</td>\n",
       "      <td>70.64</td>\n",
       "      <td>69.56</td>\n",
       "      <td>640476</td>\n",
       "      <td>44795.47</td>\n",
       "    </tr>\n",
       "  </tbody>\n",
       "</table>\n",
       "</div>"
      ],
      "text/plain": [
       "            Final   Máximo   Mínimo  Volumen  Efectivo\n",
       "Nombre                                                \n",
       "ACCIONA     95.95    96.75    94.40    84962   8166.11\n",
       "ACERINOX  8668.00  8672.00  8468.00    88599   7633.81\n",
       "ACS         37.28    37.66    37.22   655982  24517.29\n",
       "AENA       167.10   167.50   166.10   133738  22336.10\n",
       "AMADEUS     69.96    70.64    69.56   640476  44795.47"
      ]
     },
     "execution_count": 49,
     "metadata": {},
     "output_type": "execute_result"
    }
   ],
   "source": [
    "df = pd.read_csv('cotizacion.csv', sep = ';', decimal = ',', thousands = '.', index_col = 0)\n",
    "df.head()"
   ]
  },
  {
   "cell_type": "code",
   "execution_count": 51,
   "id": "f05e4279",
   "metadata": {},
   "outputs": [
    {
     "data": {
      "text/plain": [
       "Final          1.0165\n",
       "Máximo         4.0675\n",
       "Mínimo         1.0165\n",
       "Volumen     1221.0000\n",
       "Efectivo    2343.0900\n",
       "dtype: float64"
      ]
     },
     "execution_count": 51,
     "metadata": {},
     "output_type": "execute_result"
    }
   ],
   "source": [
    "df.min() "
   ]
  },
  {
   "cell_type": "code",
   "execution_count": null,
   "id": "253f92d9",
   "metadata": {},
   "outputs": [],
   "source": []
  }
 ],
 "metadata": {
  "kernelspec": {
   "display_name": "Python 3",
   "language": "python",
   "name": "python3"
  },
  "language_info": {
   "codemirror_mode": {
    "name": "ipython",
    "version": 3
   },
   "file_extension": ".py",
   "mimetype": "text/x-python",
   "name": "python",
   "nbconvert_exporter": "python",
   "pygments_lexer": "ipython3",
   "version": "3.8.8"
  },
  "latex_envs": {
   "LaTeX_envs_menu_present": true,
   "autoclose": false,
   "autocomplete": false,
   "bibliofile": "biblio.bib",
   "cite_by": "apalike",
   "current_citInitial": 1,
   "eqLabelWithNumbers": true,
   "eqNumInitial": 1,
   "hotkeys": {
    "equation": "Ctrl-E",
    "itemize": "Ctrl-I"
   },
   "labels_anchors": false,
   "latex_user_defs": false,
   "report_style_numbering": false,
   "user_envs_cfg": false
  }
 },
 "nbformat": 4,
 "nbformat_minor": 5
}
