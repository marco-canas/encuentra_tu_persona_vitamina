{
 "cells": [
  {
   "cell_type": "markdown",
   "id": "90b1cf90",
   "metadata": {
    "slideshow": {
     "slide_type": "slide"
    }
   },
   "source": [
    "<table align=\"left\">\n",
    "  <td>\n",
    "    <a href=\"https://colab.research.google.com/github/marco-canas/introducci-n-al-Machine-Learning/blob/main/examples_bank/taller_3_pandas/3_ejer_pandas.ipynb\" target=\"_parent\"><img src=\"https://colab.research.google.com/assets/colab-badge.svg\" alt=\"Open In Colab\"/></a>\n",
    "  </td>\n",
    "  <td>\n",
    "    <a target=\"_blank\" href=\"https://kaggle.com/kernels/welcome?src=https://github.com/marco-canas/introducci-n-al-Machine-Learning/blob/main/examples_bank/taller_3_pandas/3_ejer_pandas.ipynb\"><img src=\"https://kaggle.com/static/images/open-in-kaggle.svg\" /></a>\n",
    "  </td>\n",
    "</table>\n",
    "\n"
   ]
  },
  {
   "cell_type": "markdown",
   "id": "e7a3fe6e",
   "metadata": {
    "slideshow": {
     "slide_type": "slide"
    }
   },
   "source": [
    "## Ejercicio 3 Taller 3 Pandas  "
   ]
  },
  {
   "cell_type": "markdown",
   "id": "ebe99241",
   "metadata": {
    "slideshow": {
     "slide_type": "slide"
    }
   },
   "source": [
    "Escribir una función que:  \n",
    "\n",
    "* reciba una diccionario con las notas de los alumnos en curso en un examen y \n",
    "* devuelva una serie con las notas de los alumnos aprobados ordenadas de mayor a menor."
   ]
  },
  {
   "cell_type": "code",
   "execution_count": 24,
   "id": "90ca3653",
   "metadata": {
    "slideshow": {
     "slide_type": "slide"
    }
   },
   "outputs": [],
   "source": [
    "import pandas as pd\n",
    "def aprobados_ordenados(notas):\n",
    "    notas_s = pd.Series(notas)\n",
    "    aprobados = notas_s[notas_s >=3].sort_values(ascending = False) \n",
    "    return aprobados "
   ]
  },
  {
   "cell_type": "code",
   "execution_count": 25,
   "id": "d51fbcac",
   "metadata": {
    "slideshow": {
     "slide_type": "slide"
    }
   },
   "outputs": [],
   "source": [
    "notas = {'daniela':5.0, 'joseph':4.0, 'jorge':1.0}"
   ]
  },
  {
   "cell_type": "code",
   "execution_count": 26,
   "id": "520c8cd0",
   "metadata": {
    "slideshow": {
     "slide_type": "slide"
    }
   },
   "outputs": [
    {
     "data": {
      "text/plain": [
       "daniela    5.0\n",
       "joseph     4.0\n",
       "dtype: float64"
      ]
     },
     "execution_count": 26,
     "metadata": {},
     "output_type": "execute_result"
    }
   ],
   "source": [
    "aprobados_ordenados(notas)"
   ]
  },
  {
   "cell_type": "markdown",
   "id": "2cdb10af",
   "metadata": {
    "slideshow": {
     "slide_type": "slide"
    }
   },
   "source": [
    "## Otra forma de resolver el ejercicio"
   ]
  },
  {
   "cell_type": "code",
   "execution_count": 30,
   "id": "d3b88606",
   "metadata": {
    "slideshow": {
     "slide_type": "slide"
    }
   },
   "outputs": [],
   "source": [
    "def notas_aprobados_ordenada(notas_dic):\n",
    "    notas_s = pd.Series(notas_dic)\n",
    "    aprobados = notas_s[notas_s >=3]\n",
    "    aprobados_ordenados = aprobados.sort_values(ascending = False)\n",
    "    return aprobados_ordenados "
   ]
  },
  {
   "cell_type": "code",
   "execution_count": 28,
   "id": "80284c3a",
   "metadata": {
    "slideshow": {
     "slide_type": "slide"
    }
   },
   "outputs": [],
   "source": [
    "notas = {'juliana':2.5, 'juan Pablo':2.9, 'Joseph':5.0, 'Daniela':4.5}"
   ]
  },
  {
   "cell_type": "code",
   "execution_count": 31,
   "id": "5f05e195",
   "metadata": {},
   "outputs": [
    {
     "data": {
      "text/plain": [
       "Joseph     5.0\n",
       "Daniela    4.5\n",
       "dtype: float64"
      ]
     },
     "execution_count": 31,
     "metadata": {},
     "output_type": "execute_result"
    }
   ],
   "source": [
    "notas_aprobados_ordenada(notas)"
   ]
  },
  {
   "cell_type": "code",
   "execution_count": null,
   "id": "0a905cc3",
   "metadata": {},
   "outputs": [],
   "source": []
  }
 ],
 "metadata": {
  "celltoolbar": "Slideshow",
  "kernelspec": {
   "display_name": "Python 3",
   "language": "python",
   "name": "python3"
  },
  "language_info": {
   "codemirror_mode": {
    "name": "ipython",
    "version": 3
   },
   "file_extension": ".py",
   "mimetype": "text/x-python",
   "name": "python",
   "nbconvert_exporter": "python",
   "pygments_lexer": "ipython3",
   "version": "3.8.8"
  },
  "latex_envs": {
   "LaTeX_envs_menu_present": true,
   "autoclose": false,
   "autocomplete": false,
   "bibliofile": "biblio.bib",
   "cite_by": "apalike",
   "current_citInitial": 1,
   "eqLabelWithNumbers": true,
   "eqNumInitial": 1,
   "hotkeys": {
    "equation": "Ctrl-E",
    "itemize": "Ctrl-I"
   },
   "labels_anchors": false,
   "latex_user_defs": false,
   "report_style_numbering": false,
   "user_envs_cfg": false
  },
  "rise": {
   "enable_chalkboard": true,
   "theme": "sky",
   "transition": "zoom"
  }
 },
 "nbformat": 4,
 "nbformat_minor": 5
}
