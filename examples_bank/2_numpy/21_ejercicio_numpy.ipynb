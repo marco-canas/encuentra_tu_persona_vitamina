{
 "cells": [
  {
   "cell_type": "markdown",
   "id": "8bcf4a31",
   "metadata": {
    "slideshow": {
     "slide_type": "slide"
    }
   },
   "source": [
    "\n",
    "<table align=\"left\">\n",
    "  <td>\n",
    "    <a href=\"https://colab.research.google.com/github/marco-canas/intro-Machine-Learning/blob/main/classes/class_16_end_to_end_1/class_16_end_to_end_1.ipynb\" target=\"_parent\"><img src=\"https://colab.research.google.com/assets/colab-badge.svg\" alt=\"Open In Colab\"/></a>\n",
    "  </td>\n",
    "  <td>\n",
    "    <a target=\"_blank\" href=\"https://kaggle.com/kernels/welcome?src=https://github.com/marco-canas/intro-Machine-Learning/blob/main/classes/class_16_end_to_end_1/class_16_end_to_end_1.ipynb\"><img src=\"https://kaggle.com/static/images/open-in-kaggle.svg\" /></a>\n",
    "  </td>\n",
    "</table> \n"
   ]
  },
  {
   "cell_type": "markdown",
   "id": "73848df1",
   "metadata": {
    "slideshow": {
     "slide_type": "slide"
    }
   },
   "source": [
    "# Ejercicio 21 del taller de NumPy"
   ]
  },
  {
   "cell_type": "markdown",
   "id": "e9ca4e39",
   "metadata": {
    "slideshow": {
     "slide_type": "slide"
    }
   },
   "source": [
    "Una matriz circular es aquella que tiene entrada constante a lo largo de las diagonales, en la forma siguiente: $C = \\begin{bmatrix}\n",
    "b &c &d &\\dots &h\\\\\n",
    "c &b &c &\\dots &\\cdot\\\\\n",
    "d &c &b &\\dots &d\\\\\n",
    "\\vdots &\\vdots &\\vdots &\\ddots &c\\\\\n",
    "h &\\cdots &d &c &b\\\\\n",
    "\\end{bmatrix}$"
   ]
  },
  {
   "cell_type": "markdown",
   "id": "69ef0b3a",
   "metadata": {
    "slideshow": {
     "slide_type": "slide"
    }
   },
   "source": [
    "Defina una función `MatrizCircular([b, c, d, ..., h])` que reciba como argu\n",
    "mento una lista con n valores `[b, c, d, ..., h]` y retorne la matriz circular en\n",
    "la forma:\n",
    "\n",
    "$$ C =  $$\n"
   ]
  },
  {
   "cell_type": "code",
   "execution_count": 11,
   "id": "d06ed137",
   "metadata": {},
   "outputs": [],
   "source": [
    "import numpy as np"
   ]
  },
  {
   "cell_type": "code",
   "execution_count": 12,
   "id": "96117ada",
   "metadata": {},
   "outputs": [],
   "source": [
    "lista = [1,2,3,4]"
   ]
  },
  {
   "cell_type": "code",
   "execution_count": 13,
   "id": "63a557df",
   "metadata": {},
   "outputs": [],
   "source": [
    "n = len(mi_lista) # longitud de la lista "
   ]
  },
  {
   "cell_type": "code",
   "execution_count": 14,
   "id": "4b784215",
   "metadata": {
    "slideshow": {
     "slide_type": "slide"
    }
   },
   "outputs": [],
   "source": [
    "matrix = np.zeros((n,n))\n"
   ]
  },
  {
   "cell_type": "code",
   "execution_count": 16,
   "id": "af6dcc85",
   "metadata": {
    "slideshow": {
     "slide_type": "slide"
    }
   },
   "outputs": [
    {
     "data": {
      "text/plain": [
       "array([[1., 2., 3., 4.],\n",
       "       [2., 1., 2., 3.],\n",
       "       [3., 2., 1., 2.],\n",
       "       [4., 3., 2., 1.]])"
      ]
     },
     "execution_count": 16,
     "metadata": {},
     "output_type": "execute_result"
    }
   ],
   "source": [
    "for j in range(n):\n",
    "    for i in range(n-j):\n",
    "        matrix[i,i+j] = lista[j]  # j ésima diagonal contada desde la diagonal principal hacia arriba. \n",
    "        matrix[i+j,i] = lista[j] \n",
    "matrix     "
   ]
  },
  {
   "cell_type": "code",
   "execution_count": null,
   "id": "65b70f6d",
   "metadata": {},
   "outputs": [],
   "source": []
  }
 ],
 "metadata": {
  "celltoolbar": "Slideshow",
  "kernelspec": {
   "display_name": "Python 3 (ipykernel)",
   "language": "python",
   "name": "python3"
  },
  "language_info": {
   "codemirror_mode": {
    "name": "ipython",
    "version": 3
   },
   "file_extension": ".py",
   "mimetype": "text/x-python",
   "name": "python",
   "nbconvert_exporter": "python",
   "pygments_lexer": "ipython3",
   "version": "3.9.7"
  }
 },
 "nbformat": 4,
 "nbformat_minor": 5
}
