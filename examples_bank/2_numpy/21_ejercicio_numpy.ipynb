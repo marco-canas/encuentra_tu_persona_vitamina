{
 "cells": [
  {
   "cell_type": "code",
   "execution_count": null,
   "id": "90bcaec0",
   "metadata": {},
   "outputs": [],
   "source": []
  },
  {
   "cell_type": "markdown",
   "id": "07748d5a",
   "metadata": {},
   "source": [
    "# Ejercicio 21 del taller d"
   ]
  },
  {
   "cell_type": "markdown",
   "id": "8015c10a",
   "metadata": {},
   "source": [
    "Defina una función `MatrizCircular([b, c, d, ..., h])` que reciba como argu\n",
    "mento una lista con n valores `[b, c, d, ..., h]` y retorne la matriz circular en\n",
    "la forma:\n",
    "\n",
    "$$ C =  $$\n"
   ]
  },
  {
   "cell_type": "code",
   "execution_count": 11,
   "id": "6a581dea",
   "metadata": {},
   "outputs": [],
   "source": [
    "import numpy as np"
   ]
  },
  {
   "cell_type": "code",
   "execution_count": 12,
   "id": "d97aac6b",
   "metadata": {},
   "outputs": [],
   "source": [
    "lista = [1,2,3,4]"
   ]
  },
  {
   "cell_type": "code",
   "execution_count": 13,
   "id": "471a3a71",
   "metadata": {},
   "outputs": [],
   "source": [
    "n = len(mi_lista) # longitud de la lista \n"
   ]
  },
  {
   "cell_type": "code",
   "execution_count": 14,
   "id": "a243b85c",
   "metadata": {},
   "outputs": [],
   "source": [
    "matrix = np.zeros((n,n))\n"
   ]
  },
  {
   "cell_type": "code",
   "execution_count": 16,
   "id": "5a809a5f",
   "metadata": {},
   "outputs": [
    {
     "data": {
      "text/plain": [
       "array([[1., 2., 3., 4.],\n",
       "       [2., 1., 2., 3.],\n",
       "       [3., 2., 1., 2.],\n",
       "       [4., 3., 2., 1.]])"
      ]
     },
     "execution_count": 16,
     "metadata": {},
     "output_type": "execute_result"
    }
   ],
   "source": [
    "for j in range(n):\n",
    "    for i in range(n-j):\n",
    "        matrix[i,i+j] = lista[j] \n",
    "        matrix[i+j,i] = lista[j] \n",
    "matrix     "
   ]
  },
  {
   "cell_type": "code",
   "execution_count": null,
   "id": "cd8f805f",
   "metadata": {},
   "outputs": [],
   "source": []
  },
  {
   "cell_type": "code",
   "execution_count": null,
   "id": "61e76156",
   "metadata": {},
   "outputs": [],
   "source": []
  },
  {
   "cell_type": "code",
   "execution_count": null,
   "id": "d26ff0e0",
   "metadata": {},
   "outputs": [],
   "source": [
    "for i in range(0,m):\n",
    "    for j in range(0,m):\n",
    "        if i < m and j < m:\n",
    "            new_matrix[i+j,i]=mi_lista[i]\n",
    "            new_matrix[i,i+j]=mi_lista[i]\n",
    "           \n",
    "    \n",
    "\n",
    "\n",
    "print(new_matrix)"
   ]
  },
  {
   "cell_type": "code",
   "execution_count": 6,
   "id": "8830b778",
   "metadata": {},
   "outputs": [
    {
     "data": {
      "text/plain": [
       "[0, 1, 2, 3]"
      ]
     },
     "execution_count": 6,
     "metadata": {},
     "output_type": "execute_result"
    }
   ],
   "source": [
    "list(range(4))"
   ]
  },
  {
   "cell_type": "code",
   "execution_count": null,
   "id": "27737355",
   "metadata": {},
   "outputs": [],
   "source": []
  },
  {
   "cell_type": "code",
   "execution_count": 17,
   "id": "444d82f7",
   "metadata": {},
   "outputs": [],
   "source": [
    "import numpy as np "
   ]
  },
  {
   "cell_type": "code",
   "execution_count": 19,
   "id": "8abe25cc",
   "metadata": {},
   "outputs": [
    {
     "data": {
      "text/plain": [
       "array([[ 0,  1,  2,  3],\n",
       "       [ 4,  5,  6,  7],\n",
       "       [ 8,  9, 10, 11]])"
      ]
     },
     "execution_count": 19,
     "metadata": {},
     "output_type": "execute_result"
    }
   ],
   "source": [
    "matriz = np.arange(12).reshape(3,4)\n",
    "matriz"
   ]
  },
  {
   "cell_type": "code",
   "execution_count": 20,
   "id": "ea5e96d6",
   "metadata": {},
   "outputs": [
    {
     "name": "stdout",
     "output_type": "stream",
     "text": [
      "4\n",
      "8\n",
      "9\n"
     ]
    }
   ],
   "source": [
    "for i in range(3):\n",
    "    for j in range(i):\n",
    "        print(matriz[i,j])"
   ]
  },
  {
   "cell_type": "code",
   "execution_count": null,
   "id": "bccd1e62",
   "metadata": {},
   "outputs": [],
   "source": []
  }
 ],
 "metadata": {
  "kernelspec": {
   "display_name": "Python 3 (ipykernel)",
   "language": "python",
   "name": "python3"
  },
  "language_info": {
   "codemirror_mode": {
    "name": "ipython",
    "version": 3
   },
   "file_extension": ".py",
   "mimetype": "text/x-python",
   "name": "python",
   "nbconvert_exporter": "python",
   "pygments_lexer": "ipython3",
   "version": "3.9.7"
  }
 },
 "nbformat": 4,
 "nbformat_minor": 5
}
