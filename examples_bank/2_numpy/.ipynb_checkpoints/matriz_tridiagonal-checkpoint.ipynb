{
 "cells": [
  {
   "cell_type": "code",
   "execution_count": 27,
   "id": "fac17f84",
   "metadata": {},
   "outputs": [],
   "source": [
    "def matrixTridiagonal(a,b,c,n):\n",
    "    import numpy as np\n",
    "    T = np.zeros((n,n), dtype = np.int32)\n",
    "    for i in range(n):   # Un ciclo for para moverse a lo largo de las filas de la matriz\n",
    "        if i==0:\n",
    "            T[i,i] = b   # Ojo, para moverse a lo largo de una fila, debe mover solo el segundo indice\n",
    "            T[i,i+1]=c\n",
    "        elif (i>0) & (i<n-1):\n",
    "            T[i,i-1] = a\n",
    "            T[i,i] = b\n",
    "            T[i,i+1] = c\n",
    "        elif i==(n-1):\n",
    "            T[i,i-1] = a\n",
    "            T[i,i] = b\n",
    "    return T     \n",
    "            "
   ]
  },
  {
   "cell_type": "code",
   "execution_count": 28,
   "id": "653c6a61",
   "metadata": {},
   "outputs": [
    {
     "data": {
      "text/plain": [
       "array([[2, 3, 0, 0],\n",
       "       [1, 2, 3, 0],\n",
       "       [0, 1, 2, 3],\n",
       "       [0, 0, 1, 2]])"
      ]
     },
     "execution_count": 28,
     "metadata": {},
     "output_type": "execute_result"
    }
   ],
   "source": [
    "matrixTridiagonal(1,2,3,4)"
   ]
  },
  {
   "cell_type": "code",
   "execution_count": null,
   "id": "3b08fa6e",
   "metadata": {},
   "outputs": [],
   "source": []
  }
 ],
 "metadata": {
  "kernelspec": {
   "display_name": "Python 3 (ipykernel)",
   "language": "python",
   "name": "python3"
  },
  "language_info": {
   "codemirror_mode": {
    "name": "ipython",
    "version": 3
   },
   "file_extension": ".py",
   "mimetype": "text/x-python",
   "name": "python",
   "nbconvert_exporter": "python",
   "pygments_lexer": "ipython3",
   "version": "3.9.7"
  }
 },
 "nbformat": 4,
 "nbformat_minor": 5
}
