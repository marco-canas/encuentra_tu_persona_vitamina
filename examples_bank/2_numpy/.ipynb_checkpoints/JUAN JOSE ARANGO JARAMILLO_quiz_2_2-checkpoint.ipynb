{
 "cells": [
  {
   "cell_type": "markdown",
   "id": "ba11b7bf",
   "metadata": {
    "id": "ba11b7bf"
   },
   "source": [
    "<table align=\"left\">\n",
    "  <td>\n",
    "    <a href=\"https://colab.research.google.com/github/marco-canas/taca/blob/main/ref/geron/chap_2/5_prepare_for_algorithms/1_prepare_for_algorithms.ipynb\" target=\"_parent\"><img src=\"https://colab.research.google.com/assets/colab-badge.svg\" alt=\"Open In Colab\"/></a>\n",
    "  </td>\n",
    "  <td>\n",
    "    <a target=\"_blank\" href=\"https://kaggle.com/kernels/welcome?src=https://github.com/marco-canas/taca/blob/main/ref/geron/chap_2/5_prepare_for_algorithms/1_prepare_for_algorithms.ipynb\"><img src=\"https://kaggle.com/static/images/open-in-kaggle.svg\" /></a>\n",
    "  </td>\n",
    "</table> "
   ]
  },
  {
   "cell_type": "markdown",
   "id": "8208761a",
   "metadata": {
    "id": "8208761a"
   },
   "source": [
    "# Quiz 2 Python, Numpy, Pandas"
   ]
  },
  {
   "cell_type": "markdown",
   "id": "82d1bfb5",
   "metadata": {
    "id": "82d1bfb5"
   },
   "source": [
    "## Punto 1 Python (Resolver solo con elementos de la librería estándar de Python)"
   ]
  },
  {
   "cell_type": "markdown",
   "id": "9ecb0db0",
   "metadata": {
    "id": "9ecb0db0"
   },
   "source": [
    "Construya una función `aleatoriaTranspone()` que genere una matriz cuadrada de dimensiones fijas con valores aleatorios entre 0 y 9 (ambos incluidos) y que trasponga a esta matriz utilizando ciclos for, while o if."
   ]
  },
  {
   "cell_type": "code",
   "execution_count": 25,
   "id": "Zzgpxyb9QG_B",
   "metadata": {
    "colab": {
     "base_uri": "https://localhost:8080/"
    },
    "id": "Zzgpxyb9QG_B",
    "outputId": "ba393a23-d457-4488-9776-708676bc2fc2"
   },
   "outputs": [
    {
     "name": "stdout",
     "output_type": "stream",
     "text": [
      "[[9, 4, 2, 3, 0, 2, 9, 6, 6], [3, 1, 8, 5, 2, 8, 4, 6, 5], [2, 4, 7, 2, 8, 8, 6, 2, 8], [0, 9, 7, 3, 3, 3, 0, 0, 2], [1, 8, 0, 7, 6, 6, 9, 3, 2], [2, 8, 7, 2, 1, 1, 2, 8, 2], [9, 3, 8, 3, 0, 2, 8, 1, 8], [3, 0, 1, 8, 1, 0, 8, 8, 7], [8, 9, 4, 3, 8, 0, 9, 8, 8]]\n"
     ]
    }
   ],
   "source": [
    "\n",
    "\n",
    "from random import randint\n",
    "\n",
    "def aleatoriaTranspone(n):\n",
    "    matriz = []\n",
    "\n",
    "    for r in range(n):\n",
    "        fila = []\n",
    "\n",
    "        for c in range(n):\n",
    "            fila.append(randint(0, 9))\n",
    "        \n",
    "        matriz.append(fila)\n",
    "    \n",
    "    return matriz\n",
    "\n",
    "resultado = llenar_matriz(9)\n",
    "\n",
    "print(resultado)"
   ]
  },
  {
   "cell_type": "markdown",
   "id": "b49426b6",
   "metadata": {
    "id": "b49426b6"
   },
   "source": [
    "## Punto 2 Numpy  \n",
    "\n",
    "Defina la matriz tridigonalDeConstantes(a, b, c,d, n) que reciba como argumentos cuatro flotantes a, b, c, d y un entero positivo n y que retorne la matriz tridigonal \n",
    "\n",
    "$$ T_{n \\times n} = \\begin{bmatrix} b      & c      & 0 & 0  &\\cdots  & 0 \\\\\n",
    "                                    a      & b      & c & 0  & \\cdots & 0 \\\\\n",
    "                                    0      & a      & b & c  & \\cdots & 0 \\\\\n",
    "                                    \\vdots & \\vdots & \\vdots & \\vdots & \\vdots \\\\\n",
    "                                    0      & 0      & \\cdots& a      & b  & c\n",
    "                                    \\end{bmatrix} $$\n"
   ]
  },
  {
   "cell_type": "code",
   "execution_count": 26,
   "id": "eK5IsjcqU5aJ",
   "metadata": {
    "colab": {
     "base_uri": "https://localhost:8080/"
    },
    "id": "eK5IsjcqU5aJ",
    "outputId": "3f2cb2da-fec3-4d20-9f08-0ef80478e020"
   },
   "outputs": [],
   "source": [
    "import numpy as np\n",
    "\n",
    "def tridigonalDeConstantes(a, b, c, n):\n",
    "    T = np.zeros((n,n))\n",
    "    for i in range(n):\n",
    "        T[i,i] = b\n",
    "        if (i-1) >=0:\n",
    "            T[i,i-1] = a\n",
    "        if (i+1) < n:\n",
    "            T[i,i+1] = c\n",
    "    return T\n",
    "\n"
   ]
  },
  {
   "cell_type": "code",
   "execution_count": 25,
   "id": "4c3464af",
   "metadata": {
    "scrolled": true
   },
   "outputs": [
    {
     "data": {
      "text/plain": [
       "array([[2., 3., 0., 0.],\n",
       "       [1., 2., 3., 0.],\n",
       "       [0., 1., 2., 3.],\n",
       "       [0., 0., 1., 2.]])"
      ]
     },
     "execution_count": 25,
     "metadata": {},
     "output_type": "execute_result"
    }
   ],
   "source": [
    "tridigonalDeConstantes(1, 2, 3, 4)"
   ]
  },
  {
   "cell_type": "code",
   "execution_count": null,
   "id": "aRAOCjq7fpAR",
   "metadata": {
    "id": "aRAOCjq7fpAR"
   },
   "outputs": [],
   "source": [
    "def TDMASolve(a, b, c, d):\n",
    "    n = len(d)  # número de filas\n",
    "\n",
    "    # Modifica los coeficientes de la primera fila\n",
    "    c[0] /= b[0]  # Posible división por cero\n",
    "    d[0] /= b[0]\n",
    "\n",
    "    for i in range(1, n):\n",
    "        ptemp = b[i] - (a[i] * c[i-1])\n",
    "        c[i] /= ptemp\n",
    "        d[i] = (d[i] - a[i] * d[i-1])/ptemp\n",
    "\n",
    "    # Sustitución hacia atrás\n",
    "    x = [0 for i in range(n)]\n",
    "    x[-1] = d[-1]\n",
    "\n",
    "    for i in range(-2, -n-1, -1):\n",
    "        x[i] = d[i] - c[i] * x[i+1]\n",
    "\n",
    "    return x"
   ]
  },
  {
   "cell_type": "markdown",
   "id": "f4c2a6ac",
   "metadata": {
    "id": "f4c2a6ac"
   },
   "source": [
    "## Punto 3 Pandas"
   ]
  },
  {
   "cell_type": "markdown",
   "id": "867c2827",
   "metadata": {
    "id": "867c2827"
   },
   "source": [
    "Contruya un DataFrame con la matriz anterior y cuyas columnas tengan por nombre $C1, C2, Cn$ y que sean indexadas sus instancias por los enteros $1,2,\\ldots, n$. "
   ]
  },
  {
   "cell_type": "code",
   "execution_count": 32,
   "id": "fa558992",
   "metadata": {
    "id": "fa558992"
   },
   "outputs": [],
   "source": [
    "#crear dataframe\n",
    "import pandas as pd"
   ]
  },
  {
   "cell_type": "code",
   "execution_count": 52,
   "id": "qk2q9pVnmT_J",
   "metadata": {
    "colab": {
     "base_uri": "https://localhost:8080/",
     "height": 130
    },
    "id": "qk2q9pVnmT_J",
    "outputId": "adcb5032-a80f-4bef-c7f7-d5887db61e92"
   },
   "outputs": [
    {
     "ename": "SyntaxError",
     "evalue": "ignored",
     "output_type": "error",
     "traceback": [
      "\u001b[0;36m  File \u001b[0;32m\"<ipython-input-52-14aa101ecd63>\"\u001b[0;36m, line \u001b[0;32m1\u001b[0m\n\u001b[0;31m    datos = pd.Series{\"C\"[0.11827443, 0.63992102, 0.14335329, 0.94466892],[0.52184832, 0.41466194, 0.26455561, 0.77423369],[0.45615033, 0.56843395, 0.0187898 , 0.6176355 ],[0.61209572, 0.616934  , 0.94374808, 0.6818203 ])\u001b[0m\n\u001b[0m                     ^\u001b[0m\n\u001b[0;31mSyntaxError\u001b[0m\u001b[0;31m:\u001b[0m invalid syntax\n"
     ]
    }
   ],
   "source": []
  }
 ],
 "metadata": {
  "colab": {
   "name": "quiz_2_2.ipynb",
   "provenance": []
  },
  "kernelspec": {
   "display_name": "Python 3 (ipykernel)",
   "language": "python",
   "name": "python3"
  },
  "language_info": {
   "codemirror_mode": {
    "name": "ipython",
    "version": 3
   },
   "file_extension": ".py",
   "mimetype": "text/x-python",
   "name": "python",
   "nbconvert_exporter": "python",
   "pygments_lexer": "ipython3",
   "version": "3.9.7"
  }
 },
 "nbformat": 4,
 "nbformat_minor": 5
}
