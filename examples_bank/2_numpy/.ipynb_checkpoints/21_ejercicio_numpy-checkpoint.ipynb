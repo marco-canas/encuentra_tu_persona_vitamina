{
 "cells": [
  {
   "cell_type": "code",
   "execution_count": null,
   "id": "0aece427",
   "metadata": {},
   "outputs": [],
   "source": []
  },
  {
   "cell_type": "markdown",
   "id": "9179c918",
   "metadata": {},
   "source": [
    "Defina una función `MatrizCircular([b, c, d, ..., h])` que reciba como argu\n",
    "mento una lista con n valores `[b, c, d, ..., h]` y retorne la matriz circular en\n",
    "la forma:\n",
    "\n",
    "$$  $$\n"
   ]
  },
  {
   "cell_type": "code",
   "execution_count": 11,
   "id": "dbe17a35",
   "metadata": {},
   "outputs": [],
   "source": [
    "import numpy as np"
   ]
  },
  {
   "cell_type": "code",
   "execution_count": 12,
   "id": "a268ad70",
   "metadata": {},
   "outputs": [],
   "source": [
    "lista = [1,2,3,4]"
   ]
  },
  {
   "cell_type": "code",
   "execution_count": 13,
   "id": "6d2c651f",
   "metadata": {},
   "outputs": [],
   "source": [
    "n = len(mi_lista) # longitud de la lista \n"
   ]
  },
  {
   "cell_type": "code",
   "execution_count": 14,
   "id": "a2297903",
   "metadata": {},
   "outputs": [],
   "source": [
    "matrix = np.zeros((n,n))\n"
   ]
  },
  {
   "cell_type": "code",
   "execution_count": 16,
   "id": "82bc7403",
   "metadata": {},
   "outputs": [
    {
     "data": {
      "text/plain": [
       "array([[1., 2., 3., 4.],\n",
       "       [2., 1., 2., 3.],\n",
       "       [3., 2., 1., 2.],\n",
       "       [4., 3., 2., 1.]])"
      ]
     },
     "execution_count": 16,
     "metadata": {},
     "output_type": "execute_result"
    }
   ],
   "source": [
    "for j in range(n):\n",
    "    for i in range(n-j):\n",
    "        matrix[i,i+j] = lista[j] \n",
    "        matrix[i+j,i] = lista[j] \n",
    "matrix     "
   ]
  },
  {
   "cell_type": "code",
   "execution_count": null,
   "id": "064deaa4",
   "metadata": {},
   "outputs": [],
   "source": []
  },
  {
   "cell_type": "code",
   "execution_count": null,
   "id": "8292f0de",
   "metadata": {},
   "outputs": [],
   "source": []
  },
  {
   "cell_type": "code",
   "execution_count": null,
   "id": "3900308e",
   "metadata": {},
   "outputs": [],
   "source": [
    "for i in range(0,m):\n",
    "    for j in range(0,m):\n",
    "        if i < m and j < m:\n",
    "            new_matrix[i+j,i]=mi_lista[i]\n",
    "            new_matrix[i,i+j]=mi_lista[i]\n",
    "           \n",
    "    \n",
    "\n",
    "\n",
    "print(new_matrix)"
   ]
  },
  {
   "cell_type": "code",
   "execution_count": 6,
   "id": "fc0801c0",
   "metadata": {},
   "outputs": [
    {
     "data": {
      "text/plain": [
       "[0, 1, 2, 3]"
      ]
     },
     "execution_count": 6,
     "metadata": {},
     "output_type": "execute_result"
    }
   ],
   "source": [
    "list(range(4))"
   ]
  },
  {
   "cell_type": "code",
   "execution_count": null,
   "id": "e679c011",
   "metadata": {},
   "outputs": [],
   "source": []
  },
  {
   "cell_type": "code",
   "execution_count": null,
   "id": "9a9e9109",
   "metadata": {},
   "outputs": [],
   "source": []
  },
  {
   "cell_type": "code",
   "execution_count": null,
   "id": "ec559d36",
   "metadata": {},
   "outputs": [],
   "source": []
  },
  {
   "cell_type": "code",
   "execution_count": null,
   "id": "34f59fa6",
   "metadata": {},
   "outputs": [],
   "source": []
  }
 ],
 "metadata": {
  "kernelspec": {
   "display_name": "Python 3 (ipykernel)",
   "language": "python",
   "name": "python3"
  },
  "language_info": {
   "codemirror_mode": {
    "name": "ipython",
    "version": 3
   },
   "file_extension": ".py",
   "mimetype": "text/x-python",
   "name": "python",
   "nbconvert_exporter": "python",
   "pygments_lexer": "ipython3",
   "version": "3.9.7"
  }
 },
 "nbformat": 4,
 "nbformat_minor": 5
}
