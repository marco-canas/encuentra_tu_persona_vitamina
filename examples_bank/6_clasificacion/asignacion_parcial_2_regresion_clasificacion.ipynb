{
 "cells": [
  {
   "cell_type": "markdown",
   "id": "9d27dad4",
   "metadata": {
    "slideshow": {
     "slide_type": "slide"
    }
   },
   "source": [
    "<table align=\"left\">\n",
    "  <td>\n",
    "    <a href=\"https://colab.research.google.com/github/marco-canas/machine_learning/blob/main/problems_bank/parcial_2_clasificacion.ipynb\" target=\"_parent\"><img src=\"https://colab.research.google.com/assets/colab-badge.svg\" alt=\"Open In Colab\"/></a>\n",
    "  </td>\n",
    "</table> "
   ]
  },
  {
   "cell_type": "markdown",
   "id": "efefe8b0",
   "metadata": {
    "slideshow": {
     "slide_type": "slide"
    }
   },
   "source": [
    "# Asignación Parcial 2 Regresión y Clasificación"
   ]
  },
  {
   "cell_type": "markdown",
   "id": "90291fde",
   "metadata": {
    "slideshow": {
     "slide_type": "slide"
    }
   },
   "source": [
    "# Dataset inicial: load_iris  \n",
    "\n",
    "# TAREA  \n",
    "Caso 1: Constuir un clasificador binario detector de virginica  \n",
    "Caso 2: Constuir un clasificador binario versicolor vs virginica  \n",
    "\n",
    "# ATRIBUTOS  \n",
    "Caso 1:  \n",
    "atributo 1: Longitud de sépalo  \n",
    "atributo 2: ancho de sépalo  \n",
    "\n",
    "Caso 2:  \n",
    "atributo 1: Longitud de pétalo  \n",
    "atributo 2: ancho de pétalo  \n",
    "\n",
    "Caso 3:  \n",
    "atributo 1: Producto entre longitud y ancho de sépalo  \n",
    "atributo 2: Producto entre longitud y ancho de pétalo  \n",
    "\n",
    "# MODELOS  \n",
    "Caso 1: SGDClassifier y LogisticRegression  \n",
    "Caso 2: SGDClassifier y KNeighborsClassifier  \n",
    "Caso 3: LogisticRegression y KNeighborsClassifier  \n",
    "\n",
    "Parciales:  \n",
    "{TAREA: Caso 1, ATRIBUTOS: Caso 1, MODELOS: Caso 1} santiago.agudelo8@udea.edu.co  \n",
    "{TAREA: Caso 1, ATRIBUTOS: Caso 1, MODELOS: Caso 2} veronica.arangot@udea.edu.co  \n",
    "{TAREA: Caso 1, ATRIBUTOS: Caso 1, MODELOS: Caso 3} andres.castrillonl@udea.edu.co  \n",
    "{TAREA: Caso 1, ATRIBUTOS: Caso 2, MODELOS: Caso 1} jmanuel.castro@udea.edu.co  \n",
    "{TAREA: Caso 1, ATRIBUTOS: Caso 2, MODELOS: Caso 2} manuel.chalarca@udea.edu.co  \n",
    "{TAREA: Caso 1, ATRIBUTOS: Caso 2, MODELOS: Caso 3} jgabriel.colorado@udea.edu.co  \n",
    "{TAREA: Caso 1, ATRIBUTOS: Caso 3, MODELOS: Caso 1} davison.cuervo@udea.edu.co  \n",
    "{TAREA: Caso 1, ATRIBUTOS: Caso 3, MODELOS: Caso 2} julian.florezb@udea.edu.co  \n",
    "{TAREA: Caso 1, ATRIBUTOS: Caso 3, MODELOS: Caso 3} luz.getial@udea.edu.co  \n",
    "{TAREA: Caso 2, ATRIBUTOS: Caso 1, MODELOS: Caso 1} manuela.granda@udea.edu.co  \n",
    "{TAREA: Caso 2, ATRIBUTOS: Caso 1, MODELOS: Caso 2} lmiguel.hoyos@udea.edu.co  \n",
    "{TAREA: Caso 2, ATRIBUTOS: Caso 1, MODELOS: Caso 3} cristian.mariaca@udea.edu.co  \n",
    "{TAREA: Caso 2, ATRIBUTOS: Caso 2, MODELOS: Caso 1} sandrid.mosquera@udea.edu.co  \n",
    "{TAREA: Caso 2, ATRIBUTOS: Caso 2, MODELOS: Caso 2} dayana.quinterof@udea.edu.co  \n",
    "{TAREA: Caso 2, ATRIBUTOS: Caso 2, MODELOS: Caso 3} manuela.romero@udea.edu.co  \n",
    "{TAREA: Caso 2, ATRIBUTOS: Caso 3, MODELOS: Caso 1} dandres.vallejo@udea.edu.co  \n",
    "{TAREA: Caso 2, ATRIBUTOS: Caso 3, MODELOS: Caso 2} vanessa.galvis@udea.edu.co  \n",
    "{TAREA: Caso 2, ATRIBUTOS: Caso 3, MODELOS: Caso 3} mateo.loaiza1@udea.edu.co  \n",
    "\n"
   ]
  },
  {
   "cell_type": "markdown",
   "id": "e905edf6",
   "metadata": {},
   "source": [
    "# Paso a paso "
   ]
  },
  {
   "cell_type": "markdown",
   "id": "f7f4794e",
   "metadata": {
    "slideshow": {
     "slide_type": "slide"
    }
   },
   "source": [
    "## Punto 1"
   ]
  },
  {
   "cell_type": "markdown",
   "id": "ddee2bca",
   "metadata": {
    "slideshow": {
     "slide_type": "slide"
    }
   },
   "source": [
    "*  Tome el dataset `load_iris` y constituya el arreglo de imágenes $\\mathbf{X}$ y el de etiquetas $\\mathbf{y}$ como arreglos de numpy de valores de tipo `int64`.   \n",
    "\n",
    "*  Divida el dataset en un subconjunto para entrenamiento y un subconjunto de testeo, pero para esta tarea relice muestreo estratificado utilizando la clase `StratifiedShuffleSplit` del `model_selection` de Sklearn. "
   ]
  },
  {
   "cell_type": "markdown",
   "id": "6201cf1f",
   "metadata": {
    "slideshow": {
     "slide_type": "slide"
    }
   },
   "source": [
    "## Punto 2"
   ]
  },
  {
   "cell_type": "markdown",
   "id": "cf8e566f",
   "metadata": {},
   "source": [
    "* Después de haber seleccionado los atributos predictores asignados, escale los datos con utilizando la clase `MaxMinScaler` o la clase `StandardScaler` del módulo `preprocessing` de sklearn. \n",
    "\n",
    "* Instancie y entrene los modelos asignados.   "
   ]
  },
  {
   "cell_type": "markdown",
   "id": "e447b088",
   "metadata": {
    "slideshow": {
     "slide_type": "slide"
    }
   },
   "source": [
    "## Punto 3 "
   ]
  },
  {
   "cell_type": "markdown",
   "id": "ea1f82c2",
   "metadata": {
    "slideshow": {
     "slide_type": "slide"
    }
   },
   "source": [
    "6. Mida sus desempeños con la metodología de Validación cruzada y luego afine el modelo seleccionado con la metodología de Grilla de hiperparámetros (`GridSearchCV(scoring = 'f1_macro'`)). \n",
    "\n",
    "* Para el `SGDClassifier` utilice los pararámetros de `alpha` con valores `[10**-1, 10**-2]`, `learning_rate` con valores en la lista `['constant']`, `eta0` con valores en la lista `[0.1,0.01, 0.001]` y `penalty` con valores en la lista `['l1', 'l2']`.\n",
    "\n",
    "* Para el `KNeighborsClassifier` utilice los parámetros `n_neighbors` con valores en la lista `[3,4,5,6,7]`, `weights` con valores en la lista `['uniform', 'distance']`.\n",
    "\n",
    "*  Para `LogisticRegression` utilice los hiperparámetros `penalty` con valores en la lista `['l2']`, y  `C` con valores en la lista `[10**0, 10**-1, 10**-2]`. \n",
    "\n",
    "* Observe los resultads de desempeño para cada modelo utilizando el estimador `.cv_results_`\n",
    "\n",
    "* Capture el mejor modelo utilizando el atributo de inspección `best_estimator_`"
   ]
  },
  {
   "cell_type": "markdown",
   "id": "562e11f9",
   "metadata": {
    "slideshow": {
     "slide_type": "slide"
    }
   },
   "source": [
    "## Punto 4"
   ]
  },
  {
   "cell_type": "markdown",
   "id": "5298befd",
   "metadata": {
    "slideshow": {
     "slide_type": "slide"
    }
   },
   "source": [
    "* Verifique que el desempeño en el conjunto de testeo es cercano al determinado en el conunto de entrenamiento.   \n",
    "\n",
    "* cuantifique el desmpeño de su modelo final en el conjunto de testeo usando el método `.score(X_test, y_test)`"
   ]
  },
  {
   "cell_type": "markdown",
   "id": "05a2f46b",
   "metadata": {
    "slideshow": {
     "slide_type": "slide"
    }
   },
   "source": [
    "# Solución del Caso I"
   ]
  },
  {
   "cell_type": "markdown",
   "id": "caf8642e",
   "metadata": {
    "slideshow": {
     "slide_type": "slide"
    }
   },
   "source": [
    "{TAREA: Caso 1, ATRIBUTOS: Caso 1, MODELOS: Caso 1}  \n",
    "Constuir un clasificador binario detector de **virginica** \n",
    "atributo 1: Longitud de sépalo\n",
    "atributo 2: ancho de sépalo \n",
    "Modelos: **SGDClassifier** y **LogisticRegression**\n"
   ]
  },
  {
   "cell_type": "markdown",
   "id": "3d444da2",
   "metadata": {
    "slideshow": {
     "slide_type": "slide"
    }
   },
   "source": [
    "# Librerías necesarias"
   ]
  },
  {
   "cell_type": "code",
   "execution_count": null,
   "id": "abadc862",
   "metadata": {},
   "outputs": [],
   "source": []
  },
  {
   "cell_type": "code",
   "execution_count": null,
   "id": "db5ef6a1",
   "metadata": {},
   "outputs": [],
   "source": []
  },
  {
   "cell_type": "markdown",
   "id": "177cb5ab",
   "metadata": {
    "slideshow": {
     "slide_type": "slide"
    }
   },
   "source": [
    "## Referentes:\n",
    "\n",
    "* La clase LogisticRegression de sklearn: https://scikit-learn.org/stable/modules/generated/sklearn.linear_model.LogisticRegression.html  \n",
    "\n",
    "* La clase KNeighborsClassifier de sklearn: https://scikit-learn.org/stable/modules/generated/sklearn.neighbors.KNeighborsClassifier.html"
   ]
  },
  {
   "cell_type": "code",
   "execution_count": null,
   "id": "5ae04ede",
   "metadata": {},
   "outputs": [],
   "source": []
  }
 ],
 "metadata": {
  "celltoolbar": "Slideshow",
  "kernelspec": {
   "display_name": "Python 3 (ipykernel)",
   "language": "python",
   "name": "python3"
  },
  "language_info": {
   "codemirror_mode": {
    "name": "ipython",
    "version": 3
   },
   "file_extension": ".py",
   "mimetype": "text/x-python",
   "name": "python",
   "nbconvert_exporter": "python",
   "pygments_lexer": "ipython3",
   "version": "3.9.7"
  }
 },
 "nbformat": 4,
 "nbformat_minor": 5
}
