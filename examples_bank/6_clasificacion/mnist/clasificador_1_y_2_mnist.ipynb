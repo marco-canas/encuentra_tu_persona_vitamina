{
 "cells": [
  {
   "cell_type": "markdown",
   "id": "d7cc72ff",
   "metadata": {
    "slideshow": {
     "slide_type": "slide"
    }
   },
   "source": [
    "<table align=\"left\">\n",
    "  <td>\n",
    "    <a href=\"https://colab.research.google.com/github/marco-canas/Machine-Learning/blob/main/ML/classes/class_march_3/class_march_3.ipynb\" target=\"_parent\"><img src=\"https://colab.research.google.com/assets/colab-badge.svg\" alt=\"Open In Colab\"/></a>\n",
    "  </td>\n",
    "</table>"
   ]
  },
  {
   "cell_type": "markdown",
   "id": "ca09fc04",
   "metadata": {
    "slideshow": {
     "slide_type": "slide"
    }
   },
   "source": [
    "# Constuir un clasificador binario unos versus dos utilizando el dataset `mnist_784`"
   ]
  },
  {
   "cell_type": "markdown",
   "id": "ee180181",
   "metadata": {
    "slideshow": {
     "slide_type": "slide"
    }
   },
   "source": [
    "## Modelos para la selección:  \n",
    "\n",
    "* RandomForestClassifier"
   ]
  },
  {
   "cell_type": "markdown",
   "id": "d765f8e9",
   "metadata": {
    "slideshow": {
     "slide_type": "slide"
    }
   },
   "source": [
    "## Metodología de Géron"
   ]
  },
  {
   "cell_type": "markdown",
   "id": "1742ba2d",
   "metadata": {
    "slideshow": {
     "slide_type": "slide"
    }
   },
   "source": [
    "Para ello siga la metodología dada por Aurelien Géron:\n",
    "\n",
    "1. Obtener el dataset y configurarlo en la forma estándar $[X \\mid y]$ y para el clasificador binario de unos versus dos que se le asignó. Donde los valores de las entradas de estas matrices sea de tipo `int64`.  \n",
    "\n",
    "2. Descomponer a `X` y a `y` en `X_12_train`, `X_12_test`, `y_12_train` y  \n",
    "  `y_12_test` con una tasa de testeo del 20%.   \n",
    "   Y verificar con histogramas que el muestreo sea estratificado. \n",
    "\n",
    "3. Escale los atributos con la estrategia de estandarización para obtener `X_train_1_vs_2_escalado` y `X_test_1_vs_2_escalado`. \n",
    "\n",
    "4. Entrene los modelos asignados con los datos escalados `X_train_1_vs_2_escalado` y las etiquetas de entrenamiento `y_train_1_vs_2`. \n",
    "\n",
    "5. ¿Es aplicable la medida de desempeño `accuracy` para su tarea de clasificación?. Justifique su respuesta. \n",
    "\n",
    "6. Efectue el proceso de validación cruzada con 5 hojas de validación (`cv = 5`) y con el `scoring = `accuracy`.   \n",
    "\n",
    "7. Determine la matriz de confusión utilizando 5 hojas de validación.  \n",
    "\n",
    "8. Determine la precisión y el recall de su clasificador para las mismas 5 hojas de validación.  \n",
    "\n",
    "9. Determine el puntaje f1 de su clasificador para las mismas 5 hojas de validación. \n",
    "\n",
    "10. Utilice el `method=\"decision_function\"` de la función `cross_val_predict()` para determinar el vector `y_train_1_vs_2_scores` de los puntajes de decisión para los modelos lineales que le hayan asignado. \n",
    "\n",
    "11. Utilice `precision_recall_curve` para determinar el umbral de decisión necesario para obtener una precisión del 90 $\\%$ en su clasificador. \n",
    "\n",
    "12. Utilice la función `roc_curve` del módulo `metrics` de sklearn para trazar la curva ROC de su modelo. Para ello evalue la función `roc_curve` en `y_train_1_vs_2`, y  `y_train_1_vs_2_scores`).\n",
    "\n",
    "13. Determine el área bajo la curva ROC utilizando la función `roc_auc_score` del módulo metrics de Sklearn. "
   ]
  },
  {
   "cell_type": "markdown",
   "id": "2e79fe75",
   "metadata": {
    "slideshow": {
     "slide_type": "slide"
    }
   },
   "source": [
    "# Solución del parcial"
   ]
  },
  {
   "cell_type": "markdown",
   "id": "c386d123",
   "metadata": {
    "slideshow": {
     "slide_type": "slide"
    }
   },
   "source": [
    "1. Obtener el dataset y configurarlo en la forma estándar $[X \\mid y]$ y para el clasificador binario de unos versus dos que se le asignó. Donde los valores de las entradas de estas matrices sea de tipo `int64`.  "
   ]
  },
  {
   "cell_type": "code",
   "execution_count": 1,
   "id": "97c3a4f8",
   "metadata": {
    "slideshow": {
     "slide_type": "slide"
    }
   },
   "outputs": [
    {
     "data": {
      "text/plain": [
       "dict_keys(['data', 'target', 'frame', 'categories', 'feature_names', 'target_names', 'DESCR', 'details', 'url'])"
      ]
     },
     "execution_count": 1,
     "metadata": {},
     "output_type": "execute_result"
    }
   ],
   "source": [
    "%%time \n",
    "from sklearn.datasets import fetch_openml\n",
    "mnist = fetch_openml('mnist_784', version=1, as_frame = False) \n",
    "mnist.keys()"
   ]
  },
  {
   "cell_type": "markdown",
   "id": "eef59d09",
   "metadata": {
    "slideshow": {
     "slide_type": "slide"
    }
   },
   "source": [
    "*** unos versus dos ***"
   ]
  },
  {
   "cell_type": "code",
   "execution_count": 2,
   "id": "bf374643",
   "metadata": {
    "slideshow": {
     "slide_type": "slide"
    }
   },
   "outputs": [],
   "source": [
    "import numpy as np "
   ]
  },
  {
   "cell_type": "code",
   "execution_count": 3,
   "id": "977fd687",
   "metadata": {
    "slideshow": {
     "slide_type": "slide"
    }
   },
   "outputs": [],
   "source": [
    "X,y = mnist['data'], mnist['target'] "
   ]
  },
  {
   "cell_type": "code",
   "execution_count": 4,
   "id": "8258e8b2",
   "metadata": {
    "slideshow": {
     "slide_type": "slide"
    }
   },
   "outputs": [],
   "source": [
    "y = y.astype(np.int64)"
   ]
  },
  {
   "cell_type": "code",
   "execution_count": 5,
   "id": "9314c2ed",
   "metadata": {
    "slideshow": {
     "slide_type": "slide"
    }
   },
   "outputs": [
    {
     "name": "stdout",
     "output_type": "stream",
     "text": [
      "class:  ndarray\n",
      "shape:  (70000, 784)\n",
      "strides:  (8, 560000)\n",
      "itemsize:  8\n",
      "aligned:  True\n",
      "contiguous:  False\n",
      "fortran:  True\n",
      "data pointer: 0x239b523d040\n",
      "byteorder:  little\n",
      "byteswap:  False\n",
      "type: float64\n"
     ]
    }
   ],
   "source": [
    "np.info(X,y)\n"
   ]
  },
  {
   "cell_type": "code",
   "execution_count": 6,
   "id": "bfb09b72",
   "metadata": {
    "slideshow": {
     "slide_type": "slide"
    }
   },
   "outputs": [],
   "source": [
    "X_clase_1 = X[y == 1]\n",
    "X_clase_2 = X[y == 2]\n"
   ]
  },
  {
   "cell_type": "code",
   "execution_count": 7,
   "id": "5c0769d3",
   "metadata": {
    "slideshow": {
     "slide_type": "slide"
    }
   },
   "outputs": [],
   "source": [
    "y_clase_1 = np.ones(X_clase_1.shape[0]) \n",
    "y_clase_2 = np.zeros(X_clase_2.shape[0]) \n",
    "\n"
   ]
  },
  {
   "cell_type": "code",
   "execution_count": 13,
   "id": "2911efa6",
   "metadata": {
    "slideshow": {
     "slide_type": "slide"
    }
   },
   "outputs": [],
   "source": [
    "X_12 = np.vstack((X_clase_1, X_clase_2)) \n",
    "y_12 = np.hstack((y_clase_1, y_clase_2)) "
   ]
  },
  {
   "cell_type": "markdown",
   "id": "c5044cfc",
   "metadata": {
    "slideshow": {
     "slide_type": "slide"
    }
   },
   "source": [
    "\n",
    "*Lo felicito por la configuración del dataset para la clasificación binaria de unos y dos*"
   ]
  },
  {
   "cell_type": "code",
   "execution_count": 12,
   "id": "544cf5c1",
   "metadata": {
    "scrolled": true,
    "slideshow": {
     "slide_type": "slide"
    }
   },
   "outputs": [
    {
     "data": {
      "image/png": "[encoded data removed]",
      "text/plain": [
       "<Figure size 432x288 with 1 Axes>"
      ]
     },
     "metadata": {
      "needs_background": "light"
     },
     "output_type": "display_data"
    }
   ],
   "source": [
    "import matplotlib as mpl\n",
    "import matplotlib.pyplot as plt\n",
    "\n",
    "primer_digito = X_binaria[8000] \n",
    "\n",
    "primer_digito_imagen = primer_digito.reshape(28, 28)\n",
    "\n",
    "plt.imshow(primer_digito_imagen, cmap=\"binary\")\n",
    "\n",
    "plt.axis(\"off\")\n",
    "\n",
    "plt.savefig('un digito.jpg')\n",
    "\n",
    "plt.show()\n"
   ]
  },
  {
   "cell_type": "markdown",
   "id": "665ac27a",
   "metadata": {
    "slideshow": {
     "slide_type": "slide"
    }
   },
   "source": [
    "*Buena visualización del dataset*"
   ]
  },
  {
   "cell_type": "code",
   "execution_count": 16,
   "id": "392a4314",
   "metadata": {
    "slideshow": {
     "slide_type": "slide"
    }
   },
   "outputs": [],
   "source": [
    "\n",
    "from sklearn.model_selection import train_test_split\n",
    "\n",
    "X_train, X_test, y_train,y_test = train_test_split( X_12, y_12, \\\n",
    "                                                   test_size=0.20, \\\n",
    "                                                   random_state=42,\\\n",
    "                                                  stratify = y_12)"
   ]
  },
  {
   "cell_type": "markdown",
   "id": "8b546916",
   "metadata": {
    "slideshow": {
     "slide_type": "slide"
    }
   },
   "source": [
    "*Le recomiendo muestreo estratificado para dataset pequeños*"
   ]
  },
  {
   "cell_type": "code",
   "execution_count": 17,
   "id": "5d69332e",
   "metadata": {
    "slideshow": {
     "slide_type": "slide"
    }
   },
   "outputs": [
    {
     "name": "stdout",
     "output_type": "stream",
     "text": [
      "Train Data:  [[0. 0. 0. ... 0. 0. 0.]\n",
      " [0. 0. 0. ... 0. 0. 0.]\n",
      " [0. 0. 0. ... 0. 0. 0.]\n",
      " ...\n",
      " [0. 0. 0. ... 0. 0. 0.]\n",
      " [0. 0. 0. ... 0. 0. 0.]\n",
      " [0. 0. 0. ... 0. 0. 0.]] \n",
      " Test Data: [[0. 0. 0. ... 0. 0. 0.]\n",
      " [0. 0. 0. ... 0. 0. 0.]\n",
      " [0. 0. 0. ... 0. 0. 0.]\n",
      " ...\n",
      " [0. 0. 0. ... 0. 0. 0.]\n",
      " [0. 0. 0. ... 0. 0. 0.]\n",
      " [0. 0. 0. ... 0. 0. 0.]] \n",
      " Train label:  [1. 0. 0. ... 0. 1. 1.] \n",
      " Test Label:  [0. 1. 1. ... 0. 0. 1.]\n"
     ]
    }
   ],
   "source": [
    "print('Train Data: ', X_train, '\\n', 'Test Data:', X_test, '\\n',\n",
    "      'Train label: ', y_train, '\\n', 'Test Label: ', y_test)"
   ]
  },
  {
   "cell_type": "code",
   "execution_count": 18,
   "id": "4589f113",
   "metadata": {
    "slideshow": {
     "slide_type": "slide"
    }
   },
   "outputs": [
    {
     "data": {
      "image/png": "[encoded data removed]",
      "text/plain": [
       "<Figure size 432x288 with 1 Axes>"
      ]
     },
     "metadata": {
      "needs_background": "light"
     },
     "output_type": "display_data"
    }
   ],
   "source": [
    "from matplotlib.ticker import PercentFormatter\n",
    "\n",
    "plt.hist(y_train, weights=np.ones(len(y_train)) / len(y_train))\n",
    "plt.gca().yaxis.set_major_formatter(PercentFormatter(1))\n",
    "plt.show()"
   ]
  },
  {
   "cell_type": "code",
   "execution_count": 19,
   "id": "549ee7f8",
   "metadata": {
    "scrolled": true,
    "slideshow": {
     "slide_type": "slide"
    }
   },
   "outputs": [
    {
     "data": {
      "image/png": "[encoded data removed]",
      "text/plain": [
       "<Figure size 432x288 with 1 Axes>"
      ]
     },
     "metadata": {
      "needs_background": "light"
     },
     "output_type": "display_data"
    }
   ],
   "source": [
    "plt.hist(y_test, weights=np.ones(len(y_test)) / len(y_test))\n",
    "plt.gca().yaxis.set_major_formatter(PercentFormatter(1))\n",
    "plt.show()"
   ]
  },
  {
   "cell_type": "markdown",
   "id": "8a668688",
   "metadata": {
    "slideshow": {
     "slide_type": "slide"
    }
   },
   "source": [
    "*Lo felicito por la verificación del muestreo estratificado*"
   ]
  },
  {
   "cell_type": "markdown",
   "id": "bd6591e4",
   "metadata": {
    "slideshow": {
     "slide_type": "slide"
    }
   },
   "source": [
    "# Preprocesamiento de datos"
   ]
  },
  {
   "cell_type": "code",
   "execution_count": 20,
   "id": "440ce59d",
   "metadata": {
    "slideshow": {
     "slide_type": "slide"
    }
   },
   "outputs": [
    {
     "data": {
      "text/plain": [
       "StandardScaler()"
      ]
     },
     "execution_count": 20,
     "metadata": {},
     "output_type": "execute_result"
    }
   ],
   "source": [
    "from sklearn.preprocessing import StandardScaler\n",
    "scaler = StandardScaler()\n",
    "scaler.fit(X_train)"
   ]
  },
  {
   "cell_type": "code",
   "execution_count": 21,
   "id": "5cfec54f",
   "metadata": {
    "slideshow": {
     "slide_type": "slide"
    }
   },
   "outputs": [],
   "source": [
    "from warnings import filterwarnings\n",
    "filterwarnings('ignore')"
   ]
  },
  {
   "cell_type": "code",
   "execution_count": null,
   "id": "48291423",
   "metadata": {
    "slideshow": {
     "slide_type": "slide"
    }
   },
   "outputs": [],
   "source": [
    "X_train_1_vs_2_escalado=scaler.transform(X_train)"
   ]
  },
  {
   "cell_type": "code",
   "execution_count": null,
   "id": "3baeea51",
   "metadata": {
    "slideshow": {
     "slide_type": "slide"
    }
   },
   "outputs": [],
   "source": [
    "\n",
    "X_test_1_vs_2_escalado =scaler.transform(X_test)"
   ]
  },
  {
   "cell_type": "code",
   "execution_count": null,
   "id": "99eaf593",
   "metadata": {
    "slideshow": {
     "slide_type": "slide"
    }
   },
   "outputs": [],
   "source": [
    "##Entrenamos el modelo\n",
    "from sklearn.ensemble import RandomForestClassifier\n",
    "from sklearn.metrics import accuracy_score, confusion_matrix, roc_auc_score, ConfusionMatrixDisplay, precision_score, recall_score, f1_score, classification_report, roc_curve, plot_roc_curve, auc, precision_recall_curve, plot_precision_recall_curve, average_precision_score"
   ]
  },
  {
   "cell_type": "code",
   "execution_count": null,
   "id": "ca341f51",
   "metadata": {
    "slideshow": {
     "slide_type": "slide"
    }
   },
   "outputs": [],
   "source": [
    "models = []\n",
    "models.append(['Random Forest', RandomForestClassifier(random_state=42)])\n",
    "lst_1= []\n",
    "for m in range(len(models)):\n",
    "    lst_2= []\n",
    "    model = models[m][1]\n",
    "    model.fit(X_train_1_vs_2_escalado, y_train)\n",
    "    y_pred = model.predict(X_test_1_vs_2_escalado)\n",
    "    cm = confusion_matrix(y_test, y_pred)  #Confusion Matrix\n",
    "    accuracies = cross_val_score(estimator = model, X = X_train_1_vs_2_escalado, y = y_train, cv = 5)   #K-Fold Validation\n",
    "    roc = roc_auc_score(y_test, y_pred)  #ROC AUC Score\n",
    "    precision = precision_score(y_test, y_pred)  #Precision Score\n",
    "    recall = recall_score(y_test, y_pred)  #Recall Score\n",
    "    f1 = f1_score(y_test, y_pred)  #F1 Score\n",
    "    print(models[m][0],':')\n",
    "    print(cm)\n",
    "    print('Accuracy Score: ',accuracy_score(y_test, y_pred))\n",
    "    print('')\n",
    "    print(\"K-Fold Validation Mean Accuracy: {:.2f} %\".format(accuracies.mean()*100))\n",
    "    print('')\n",
    "    print(\"Standard Deviation: {:.2f} %\".format(accuracies.std()*100))\n",
    "    print('')\n",
    "    print('ROC AUC Score: {:.2f}'.format(roc))\n",
    "    print('')\n",
    "    print('Precision: {:.2f}'.format(precision))\n",
    "    print('')\n",
    "    print('Recall: {:.2f}'.format(recall))\n",
    "    print('')\n",
    "    print('F1: {:.2f}'.format(f1))\n",
    "    print('-----------------------------------')\n",
    "    print('')\n",
    "    lst_2.append(models[m][0])\n",
    "    lst_2.append((accuracy_score(y_test, y_pred))*100) \n",
    "    lst_2.append(accuracies.mean()*100)\n",
    "    lst_2.append(accuracies.std()*100)\n",
    "    lst_2.append(roc)\n",
    "    lst_2.append(precision)\n",
    "    lst_2.append(recall)\n",
    "    lst_2.append(f1)\n",
    "    lst_1.append(lst_2)"
   ]
  },
  {
   "cell_type": "markdown",
   "id": "c49e0f35",
   "metadata": {
    "slideshow": {
     "slide_type": "slide"
    }
   },
   "source": [
    "La validación cruzada con la medida de desempeño de la exactitud"
   ]
  },
  {
   "cell_type": "code",
   "execution_count": null,
   "id": "ddcf7ba4",
   "metadata": {
    "slideshow": {
     "slide_type": "slide"
    }
   },
   "outputs": [],
   "source": [
    "##Efectue el proceso de validación cruzada con 5 hojas de validación (cv = 5) y con el scoring =accuracy`. \n",
    "score = cross_val_score(estimator = model, X = X_train, y = y_train, \\\n",
    "                        cv = 5,scoring=\"accuracy\")   \n",
    "##Validation\n",
    "  \n"
   ]
  },
  {
   "cell_type": "code",
   "execution_count": null,
   "id": "71a4072a",
   "metadata": {
    "scrolled": true,
    "slideshow": {
     "slide_type": "slide"
    }
   },
   "outputs": [],
   "source": [
    "score"
   ]
  },
  {
   "cell_type": "markdown",
   "id": "dd3bffee",
   "metadata": {
    "slideshow": {
     "slide_type": "slide"
    }
   },
   "source": [
    " 10 .Utilice el method=\"decision_function\" de la función cross_val_predict() para determinar el vector y_train_1_vs_2_scores de los puntajes de decisión para los modelos lineales que le hayan asignado. "
   ]
  },
  {
   "cell_type": "code",
   "execution_count": null,
   "id": "8629fe55",
   "metadata": {
    "slideshow": {
     "slide_type": "slide"
    }
   },
   "outputs": [],
   "source": [
    "##Puntajes de decisión\n",
    "threshold = 8000\n"
   ]
  },
  {
   "cell_type": "code",
   "execution_count": null,
   "id": "5d1b24e1",
   "metadata": {
    "slideshow": {
     "slide_type": "slide"
    }
   },
   "outputs": [],
   "source": [
    "from sklearn.model_selection import cross_val_predict \n",
    "y_scores = cross_val_predict(model, X_train, y_train, cv=5, method=\"predict_proba\")\n"
   ]
  },
  {
   "cell_type": "code",
   "execution_count": null,
   "id": "0f14f4d3",
   "metadata": {
    "slideshow": {
     "slide_type": "slide"
    }
   },
   "outputs": [],
   "source": [
    "y_scores "
   ]
  },
  {
   "cell_type": "code",
   "execution_count": null,
   "id": "a6625d59",
   "metadata": {
    "slideshow": {
     "slide_type": "slide"
    }
   },
   "outputs": [],
   "source": [
    "from sklearn.metrics import roc_curve\n",
    "fpr, tpr, thresholds = roc_curve(y_train, y_scores[:,1])"
   ]
  },
  {
   "cell_type": "code",
   "execution_count": null,
   "id": "b749f4cc",
   "metadata": {
    "slideshow": {
     "slide_type": "slide"
    }
   },
   "outputs": [],
   "source": [
    "def plot_roc_curve(fpr, tpr, label=None):\n",
    "    plt.plot(fpr, tpr, linewidth=2, label=label)\n",
    "    plt.plot([0, 1], [0, 1], 'k--') # Dashed diagonal\n",
    "    [...] # Add axis labels and grid\n",
    "plot_roc_curve(fpr, tpr)\n",
    "plt.show()"
   ]
  },
  {
   "cell_type": "code",
   "execution_count": null,
   "id": "2a3dfae9",
   "metadata": {
    "slideshow": {
     "slide_type": "slide"
    }
   },
   "outputs": [],
   "source": [
    "from sklearn.metrics import roc_auc_score\n",
    "\n",
    "roc_auc_score(y_train, y_scores[:,1])"
   ]
  },
  {
   "cell_type": "code",
   "execution_count": null,
   "id": "5ff6d694",
   "metadata": {},
   "outputs": [],
   "source": []
  }
 ],
 "metadata": {
  "celltoolbar": "Slideshow",
  "kernelspec": {
   "display_name": "Python 3 (ipykernel)",
   "language": "python",
   "name": "python3"
  },
  "language_info": {
   "codemirror_mode": {
    "name": "ipython",
    "version": 3
   },
   "file_extension": ".py",
   "mimetype": "text/x-python",
   "name": "python",
   "nbconvert_exporter": "python",
   "pygments_lexer": "ipython3",
   "version": "3.9.7"
  }
 },
 "nbformat": 4,
 "nbformat_minor": 5
}
