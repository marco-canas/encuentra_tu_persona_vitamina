{
 "cells": [
  {
   "cell_type": "markdown",
   "id": "9d27dad4",
   "metadata": {
    "slideshow": {
     "slide_type": "slide"
    }
   },
   "source": [
    "<table align=\"left\">\n",
    "  <td>\n",
    "    <a href=\"https://colab.research.google.com/github/marco-canas/intro-Machine-Learning/blob/main/examples_bank/6_clasificacion/asignacion_parcial_2_regresion_clasificacion.ipynb\" target=\"_parent\"><img src=\"https://colab.research.google.com/assets/colab-badge.svg\" alt=\"Open In Colab\"/></a>\n",
    "  </td>\n",
    "</table> "
   ]
  },
  {
   "cell_type": "markdown",
   "id": "efefe8b0",
   "metadata": {
    "slideshow": {
     "slide_type": "slide"
    }
   },
   "source": [
    "# Clasificación binaria con el dataset de florez de iris "
   ]
  },
  {
   "cell_type": "markdown",
   "id": "6877966c",
   "metadata": {
    "slideshow": {
     "slide_type": "slide"
    }
   },
   "source": [
    "## [Video de apoyo](https://www.youtube.com/watch?v=mny9T2esp4A)"
   ]
  },
  {
   "cell_type": "markdown",
   "id": "ea2a83d3",
   "metadata": {
    "slideshow": {
     "slide_type": "slide"
    }
   },
   "source": [
    "# Dataset inicial: load_iris  "
   ]
  },
  {
   "cell_type": "markdown",
   "id": "b5581db5",
   "metadata": {
    "slideshow": {
     "slide_type": "slide"
    }
   },
   "source": [
    "# TAREA  \n",
    "\n",
    "Caso 1: Constuir un clasificador binario detector de virgínica  (One_vs_Rest)  \n",
    "Caso 2: Constuir un clasificador binario versicolor vs virginica  (One_vs_One)"
   ]
  },
  {
   "cell_type": "markdown",
   "id": "a8f01a33",
   "metadata": {
    "slideshow": {
     "slide_type": "slide"
    }
   },
   "source": [
    "# ATRIBUTOS   \n",
    "\n",
    "Caso 1:  \n",
    "atributo 1: Longitud de sépalo  \n",
    "atributo 2: ancho de sépalo  \n",
    "\n",
    "Caso 2:  \n",
    "atributo 1: Longitud de pétalo  \n",
    "atributo 2: ancho de pétalo  \n",
    "\n",
    "Caso 3:  \n",
    "atributo 1: Producto entre longitud y ancho de sépalo  \n",
    "atributo 2: Producto entre longitud y ancho de pétalo  "
   ]
  },
  {
   "cell_type": "markdown",
   "id": "f5680f7b",
   "metadata": {
    "slideshow": {
     "slide_type": "slide"
    }
   },
   "source": [
    "# MODELOS  \n",
    "Caso 1: SGDClassifier y LogisticRegression  \n",
    "Caso 2: SGDClassifier y KNeighborsClassifier  \n",
    "Caso 3: LogisticRegression y KNeighborsClassifier  "
   ]
  },
  {
   "cell_type": "markdown",
   "id": "90291fde",
   "metadata": {
    "slideshow": {
     "slide_type": "slide"
    }
   },
   "source": [
    "## Parciales:    \n",
    "\n",
    "{TAREA: Caso 1, ATRIBUTOS: Caso 1, MODELOS: Caso 1}    \n",
    "{TAREA: Caso 1, ATRIBUTOS: Caso 1, MODELOS: Caso 2}   \n",
    "{TAREA: Caso 1, ATRIBUTOS: Caso 1, MODELOS: Caso 3}   \n",
    "{TAREA: Caso 1, ATRIBUTOS: Caso 2, MODELOS: Caso 1}   \n",
    "{TAREA: Caso 1, ATRIBUTOS: Caso 2, MODELOS: Caso 2}     \n",
    "{TAREA: Caso 1, ATRIBUTOS: Caso 2, MODELOS: Caso 3}     \n",
    "{TAREA: Caso 1, ATRIBUTOS: Caso 3, MODELOS: Caso 1}     \n",
    "{TAREA: Caso 1, ATRIBUTOS: Caso 3, MODELOS: Caso 2}     \n",
    "{TAREA: Caso 1, ATRIBUTOS: Caso 3, MODELOS: Caso 3}    \n",
    "{TAREA: Caso 2, ATRIBUTOS: Caso 1, MODELOS: Caso 1}    \n",
    "{TAREA: Caso 2, ATRIBUTOS: Caso 1, MODELOS: Caso 2}   \n",
    "{TAREA: Caso 2, ATRIBUTOS: Caso 1, MODELOS: Caso 3}     \n",
    "{TAREA: Caso 2, ATRIBUTOS: Caso 2, MODELOS: Caso 1}     \n",
    "{TAREA: Caso 2, ATRIBUTOS: Caso 2, MODELOS: Caso 2}     \n",
    "{TAREA: Caso 2, ATRIBUTOS: Caso 2, MODELOS: Caso 3}     \n",
    "{TAREA: Caso 2, ATRIBUTOS: Caso 3, MODELOS: Caso 1}     \n",
    "{TAREA: Caso 2, ATRIBUTOS: Caso 3, MODELOS: Caso 2}     \n",
    "{TAREA: Caso 2, ATRIBUTOS: Caso 3, MODELOS: Caso 3}     "
   ]
  },
  {
   "cell_type": "markdown",
   "id": "e905edf6",
   "metadata": {
    "slideshow": {
     "slide_type": "slide"
    }
   },
   "source": [
    "# Paso a paso "
   ]
  },
  {
   "cell_type": "markdown",
   "id": "f7f4794e",
   "metadata": {
    "slideshow": {
     "slide_type": "slide"
    }
   },
   "source": [
    "## Punto 1"
   ]
  },
  {
   "cell_type": "markdown",
   "id": "ddee2bca",
   "metadata": {
    "slideshow": {
     "slide_type": "slide"
    }
   },
   "source": [
    "*  Tome el dataset `load_iris` y constituya el arreglo de imágenes $\\mathbf{X}$ y el de etiquetas $\\mathbf{y}$ como arreglos de numpy de valores de tipo `float64`.   \n",
    "\n",
    "*  Divida el dataset `(X,y)` en cuatro subconjuntos `X_train, X_test, y_train, y_test` para entrenamiento y prueba del modelo predictivo de clasificación que se le asigne, pero para esta tarea relice muestreo estratificado utilizando la clase `StratifiedShuffleSplit` del `model_selection` de Sklearn. "
   ]
  },
  {
   "cell_type": "markdown",
   "id": "6201cf1f",
   "metadata": {
    "slideshow": {
     "slide_type": "slide"
    }
   },
   "source": [
    "## Punto 2"
   ]
  },
  {
   "cell_type": "markdown",
   "id": "cf8e566f",
   "metadata": {
    "slideshow": {
     "slide_type": "slide"
    }
   },
   "source": [
    "* Después de haber seleccionado los atributos predictores asignados, escale los datos utilizando la clase `MaxMinScaler` o la clase `StandardScaler` del módulo `preprocessing` de sklearn. \n",
    "\n",
    "* Instancie y entrene los modelos asignados.   "
   ]
  },
  {
   "cell_type": "markdown",
   "id": "e447b088",
   "metadata": {
    "slideshow": {
     "slide_type": "slide"
    }
   },
   "source": [
    "## Punto 3 "
   ]
  },
  {
   "cell_type": "markdown",
   "id": "19835439",
   "metadata": {
    "slideshow": {
     "slide_type": "slide"
    }
   },
   "source": [
    "Para la selección de modelos utilice la metodología de validación cruzada y para esta puntuación utilice la función `cross_val_predict` del módulo `model_selection` de sklearn con 10 hojas de validación(`cv = 10`).\n",
    "\n",
    "y mida el desempeño en el conjunto de entrenamiento con la función `f1_score` del módulo `metrics` de Sklearn. \n",
    "\n",
    " "
   ]
  },
  {
   "cell_type": "markdown",
   "id": "ea1f82c2",
   "metadata": {
    "slideshow": {
     "slide_type": "slide"
    }
   },
   "source": [
    " y luego afine el modelo seleccionado con la metodología de Grilla de hiperparámetros (`GridSearchCV(scoring = 'f1_macro'`)). \n",
    "\n",
    "* Para el `SGDClassifier` utilice los hiperparámetros:\n",
    "  * `alpha` con valores `[10**-1, 10**-2]`, \n",
    "  * `learning_rate` con valores en la lista `['constant']`, \n",
    "  * `eta0` con valores en la lista `[0.1,0.01, 0.001]` y \n",
    "  * `penalty` con valores en la lista `['l1', 'l2']`.\n",
    "\n",
    "* Para el `KNeighborsClassifier` utilice los hiperparámetros:\n",
    "  * `n_neighbors` con valores en la lista `[3,4,5,6,7]`, \n",
    "  * `weights` con valores en la lista `['uniform', 'distance']`.\n",
    "\n",
    "* Para `LogisticRegression` utilice los hiperparámetros:\n",
    "  * `penalty` con valores en la lista `['l2']`, y  \n",
    "  * `C` con valores en la lista `[10**0, 10**-1, 10**-2]`. \n",
    "\n",
    "* Capture el mejor modelo utilizando el atributo de inspección `best_estimator_`"
   ]
  },
  {
   "cell_type": "markdown",
   "id": "562e11f9",
   "metadata": {
    "slideshow": {
     "slide_type": "slide"
    }
   },
   "source": [
    "## Punto 4"
   ]
  },
  {
   "cell_type": "markdown",
   "id": "5298befd",
   "metadata": {
    "slideshow": {
     "slide_type": "slide"
    }
   },
   "source": [
    "* Verifique que el desempeño en el conjunto de testeo es cercano al determinado en el conunto de entrenamiento.   \n",
    "\n",
    "* cuantifique el desmpeño de su modelo final en el conjunto de testeo usando el método `f1_score(y_test, y_test_pred)`"
   ]
  },
  {
   "cell_type": "markdown",
   "id": "da9549e0",
   "metadata": {
    "slideshow": {
     "slide_type": "slide"
    }
   },
   "source": [
    "# Solución del Caso I"
   ]
  },
  {
   "cell_type": "markdown",
   "id": "77432957",
   "metadata": {
    "slideshow": {
     "slide_type": "slide"
    }
   },
   "source": [
    "{TAREA: Caso 1, ATRIBUTOS: Caso 1, MODELOS: Caso 1}    \n",
    "Constuir un clasificador binario detector de **virginica**   \n",
    "atributo 1: **Longitud de sépalo**  \n",
    "atributo 2: **ancho de sépalo**   \n",
    "Modelos: **SGDClassifier** y **LogisticRegression**  \n"
   ]
  },
  {
   "cell_type": "markdown",
   "id": "e6515048",
   "metadata": {
    "slideshow": {
     "slide_type": "slide"
    }
   },
   "source": [
    "# Librerías necesarias"
   ]
  },
  {
   "cell_type": "code",
   "execution_count": null,
   "id": "568b18e3",
   "metadata": {
    "slideshow": {
     "slide_type": "slide"
    }
   },
   "outputs": [],
   "source": [
    "import numpy as np \n",
    "import pandas as pd \n",
    "\n",
    "import matplotlib.pyplot as plt \n",
    "\n",
    "#obtención de datos \n",
    "from sklearn.datasets import load_iris \n",
    "\n",
    "# automatizar la selección de atributos \n",
    "from sklearn.base import BaseEstimator, TransformerMixin \n",
    "\n",
    "# muestreo estratificado\n",
    "from sklearn.model_selection import StratifiedShuffleSplit\n",
    "\n",
    "#modelos a seleccionar\n",
    "from sklearn.linear_model import SGDClassifier\n",
    "from sklearn.linear_model import LogisticRegression \n",
    "from sklearn.neighbors import KNeighborsClassifier \n",
    "\n",
    "# para el criterio de selección de modelos\n",
    "from sklearn.model_selection import cross_val_predict\n",
    "from sklearn.metrics import f1_score \n",
    "\n",
    "# para afinamiento del modelo\n",
    "from sklearn.model_selection import GridSearchCV \n"
   ]
  },
  {
   "cell_type": "markdown",
   "id": "6a040534",
   "metadata": {
    "slideshow": {
     "slide_type": "slide"
    }
   },
   "source": [
    "# Obtención de los datos "
   ]
  },
  {
   "cell_type": "code",
   "execution_count": null,
   "id": "1cf3be88",
   "metadata": {
    "slideshow": {
     "slide_type": "slide"
    }
   },
   "outputs": [],
   "source": [
    "X,y = load_iris(return_X_y = True) "
   ]
  },
  {
   "cell_type": "code",
   "execution_count": null,
   "id": "8a38e19d",
   "metadata": {
    "slideshow": {
     "slide_type": "slide"
    }
   },
   "outputs": [],
   "source": [
    "X[0,2]*X[0,3]"
   ]
  },
  {
   "cell_type": "markdown",
   "id": "8c0baff5",
   "metadata": {
    "slideshow": {
     "slide_type": "slide"
    }
   },
   "source": [
    "# Selección de los atributos predictores "
   ]
  },
  {
   "cell_type": "code",
   "execution_count": null,
   "id": "98226f99",
   "metadata": {
    "slideshow": {
     "slide_type": "slide"
    }
   },
   "outputs": [],
   "source": [
    "class Selecciona_Atributos(BaseEstimator, TransformerMixin):\n",
    "    def __init__(self, sepal_length = True, sepal_width = True, \\\n",
    "                petal_length = False, petal_width = False,\\\n",
    "                sepal_area = False, petal_area = False):\n",
    "        self.sepal_length = sepal_length\n",
    "        self.sepal_width = sepal_width\n",
    "        self.petal_length = petal_length\n",
    "        self.petal_width = petal_width\n",
    "        self.sepal_area = sepal_area\n",
    "        self.petal_area = petal_area \n",
    "        \n",
    "    def fit(self, X, y = None):\n",
    "        return self\n",
    "    \n",
    "    def transform(self, X, y = None):\n",
    "        sepal_length, sepal_width, petal_length, petal_width = 0,1,2,3\n",
    "        if self.sepal_length:\n",
    "            a = X[:,sepal_length]\n",
    "        else:\n",
    "            a = np.array([0])\n",
    "        if self.sepal_width:\n",
    "            b = X[:,sepal_width]\n",
    "        else:\n",
    "            b = np.array([0])\n",
    "        if self.petal_length:\n",
    "            c = X[:,petal_length]\n",
    "        else:\n",
    "            c = np.array([0])  \n",
    "        if self.petal_width:\n",
    "            d = X[:,petal_width]\n",
    "        else:\n",
    "            d = np.array([0])\n",
    "        if self.sepal_area:\n",
    "            e = X[:,sepal_length]*X[:,sepal_width]\n",
    "        else:\n",
    "            e = np.array([0])\n",
    "        if self.petal_area:\n",
    "            f = X[:,petal_length]*X[:,petal_width]\n",
    "        else:\n",
    "            f = np.array([0])    \n",
    "            \n",
    "        atributos = [a,b,c,d,e,f]  \n",
    "        lista_atributos_seleccionados = []\n",
    "        for atributo in atributos:\n",
    "            if atributo.any():\n",
    "                lista_atributos_seleccionados.append(atributo) \n",
    "        return np.c_[lista_atributos_seleccionados].T        "
   ]
  },
  {
   "cell_type": "code",
   "execution_count": null,
   "id": "cd533aa6",
   "metadata": {
    "slideshow": {
     "slide_type": "slide"
    }
   },
   "outputs": [],
   "source": [
    "Seleccionador_Atributos = selecciona_atributos(sepal_length = False, sepal_width = False, \\\n",
    "                                               petal_length = False, petal_width = False,\\\n",
    "                                               sepal_area = True, petal_area = True )"
   ]
  },
  {
   "cell_type": "code",
   "execution_count": null,
   "id": "9d85be2b",
   "metadata": {
    "slideshow": {
     "slide_type": "slide"
    }
   },
   "outputs": [],
   "source": [
    "X_selecionados = seleccionador_atributos.fit_transform(X)"
   ]
  },
  {
   "cell_type": "code",
   "execution_count": null,
   "id": "681047bf",
   "metadata": {
    "slideshow": {
     "slide_type": "slide"
    }
   },
   "outputs": [],
   "source": [
    "X = X_selecionados"
   ]
  },
  {
   "cell_type": "code",
   "execution_count": null,
   "id": "c6c215c2",
   "metadata": {
    "slideshow": {
     "slide_type": "slide"
    }
   },
   "outputs": [],
   "source": [
    "X.shape "
   ]
  },
  {
   "cell_type": "code",
   "execution_count": null,
   "id": "3eb218a2",
   "metadata": {
    "slideshow": {
     "slide_type": "slide"
    }
   },
   "outputs": [],
   "source": [
    "X[0]"
   ]
  },
  {
   "cell_type": "markdown",
   "id": "09f87477",
   "metadata": {
    "slideshow": {
     "slide_type": "slide"
    }
   },
   "source": [
    "# Configuración de las etiquetas para un detector de vigínicas "
   ]
  },
  {
   "cell_type": "code",
   "execution_count": null,
   "id": "53227943",
   "metadata": {
    "slideshow": {
     "slide_type": "slide"
    }
   },
   "outputs": [],
   "source": [
    "y_virginica = (y==2)"
   ]
  },
  {
   "cell_type": "code",
   "execution_count": null,
   "id": "47a0f8f3",
   "metadata": {
    "slideshow": {
     "slide_type": "slide"
    }
   },
   "outputs": [],
   "source": [
    "y = y_virginica "
   ]
  },
  {
   "cell_type": "markdown",
   "id": "885e1c4e",
   "metadata": {
    "slideshow": {
     "slide_type": "slide"
    }
   },
   "source": [
    "# Dividir en entrenamiento y testeo de manera estratificada "
   ]
  },
  {
   "cell_type": "code",
   "execution_count": null,
   "id": "16a4cfa5",
   "metadata": {
    "slideshow": {
     "slide_type": "slide"
    }
   },
   "outputs": [],
   "source": [
    "sss = StratifiedShuffleSplit(n_splits = 1, random_state = 42, test_size = 0.1 ) "
   ]
  },
  {
   "cell_type": "code",
   "execution_count": null,
   "id": "1011d59f",
   "metadata": {
    "slideshow": {
     "slide_type": "slide"
    }
   },
   "outputs": [],
   "source": [
    "for train_index, test_index in sss.split(X,y):\n",
    "    X_train,X_test = X[train_index], X[test_index]\n",
    "    y_train,y_test = y[train_index], y[test_index] "
   ]
  },
  {
   "cell_type": "code",
   "execution_count": null,
   "id": "f54c7438",
   "metadata": {
    "slideshow": {
     "slide_type": "slide"
    }
   },
   "outputs": [],
   "source": [
    "import matplotlib.pyplot as plt \n",
    "\n",
    "fig, ax = plt.subplots(1,3, figsize = (20,6))\n",
    "\n",
    "ax[0].hist(y*1)\n",
    "ax[0].grid() \n",
    "ax[1].hist(y_train*1)\n",
    "ax[1].grid() \n",
    "ax[2].hist(y_test*1) \n",
    "ax[2].grid() \n",
    "\n",
    "plt.savefig('estratificado.jpg')\n",
    "\n",
    "plt.show() "
   ]
  },
  {
   "cell_type": "code",
   "execution_count": null,
   "id": "69891a0a",
   "metadata": {
    "slideshow": {
     "slide_type": "slide"
    }
   },
   "outputs": [],
   "source": [
    "from sklearn.preprocessing import StandardScaler "
   ]
  },
  {
   "cell_type": "code",
   "execution_count": null,
   "id": "c1e8ed78",
   "metadata": {
    "slideshow": {
     "slide_type": "slide"
    }
   },
   "outputs": [],
   "source": [
    "escalador = StandardScaler() "
   ]
  },
  {
   "cell_type": "code",
   "execution_count": null,
   "id": "1281465f",
   "metadata": {
    "slideshow": {
     "slide_type": "slide"
    }
   },
   "outputs": [],
   "source": [
    "escalador.fit(X_train)"
   ]
  },
  {
   "cell_type": "code",
   "execution_count": null,
   "id": "798f1bb5",
   "metadata": {
    "slideshow": {
     "slide_type": "slide"
    }
   },
   "outputs": [],
   "source": [
    "X_train_escalado = escalador.transform(X_train) "
   ]
  },
  {
   "cell_type": "code",
   "execution_count": null,
   "id": "6322e965",
   "metadata": {
    "slideshow": {
     "slide_type": "slide"
    }
   },
   "outputs": [],
   "source": [
    "X_train= X_train_escalado "
   ]
  },
  {
   "cell_type": "code",
   "execution_count": null,
   "id": "4505326c",
   "metadata": {
    "slideshow": {
     "slide_type": "slide"
    }
   },
   "outputs": [],
   "source": [
    "sgd_clf = SGDClassifier(max_iter = 1000, random_state = 42, tol = 1e-3) \n",
    "lr_clf = LogisticRegression() "
   ]
  },
  {
   "cell_type": "code",
   "execution_count": null,
   "id": "eea6ea4e",
   "metadata": {
    "slideshow": {
     "slide_type": "slide"
    }
   },
   "outputs": [],
   "source": [
    "sgd_clf.fit(X_train,y_train)\n",
    "lr_clf.fit(X_train,y_train)"
   ]
  },
  {
   "cell_type": "code",
   "execution_count": null,
   "id": "6f133e06",
   "metadata": {
    "slideshow": {
     "slide_type": "slide"
    }
   },
   "outputs": [],
   "source": [
    "y_train_pred_sgd = cross_val_predict(sgd_clf, X_train,y_train, cv = 10)\n",
    "y_train_pred_lr = cross_val_predict(lr_clf, X_train,y_train, cv = 10)"
   ]
  },
  {
   "cell_type": "code",
   "execution_count": null,
   "id": "f984a4e5",
   "metadata": {
    "slideshow": {
     "slide_type": "slide"
    }
   },
   "outputs": [],
   "source": [
    "f1_score(y_train,y_train_pred_sgd)\n"
   ]
  },
  {
   "cell_type": "code",
   "execution_count": null,
   "id": "e9a8a7e2",
   "metadata": {
    "slideshow": {
     "slide_type": "slide"
    }
   },
   "outputs": [],
   "source": [
    "f1_score(y_train,y_train_pred_lr)\n"
   ]
  },
  {
   "cell_type": "markdown",
   "id": "887587fb",
   "metadata": {
    "slideshow": {
     "slide_type": "slide"
    }
   },
   "source": [
    "Tomaremos o seleccionaremos el modelo SGDClassifier como el mejor "
   ]
  },
  {
   "cell_type": "code",
   "execution_count": null,
   "id": "809fd214",
   "metadata": {
    "slideshow": {
     "slide_type": "slide"
    }
   },
   "outputs": [],
   "source": [
    "grid_param_lr = {'penalty':['l2'],\\\n",
    "                'C':[10**0, 10**-1, 10**-2]}\n",
    "\n",
    "#* Para `LogisticRegression` utilice los hiperparámetros:\n",
    "#  * `penalty` con valores en la lista `['l2']`, y  \n",
    "#  * `C` con valores en la lista `[10**0, 10**-1, 10**-2]`. "
   ]
  },
  {
   "cell_type": "code",
   "execution_count": null,
   "id": "a0b7bcd9",
   "metadata": {
    "slideshow": {
     "slide_type": "slide"
    }
   },
   "outputs": [],
   "source": [
    "grid_param_sgd = {'alpha':[10**-1, 10**-2], \\\n",
    "             'learning_rate':['constant'],\\\n",
    "             'eta0':[0.1,0.01, 0.001],\n",
    "             'penalty':['l1', 'l2']}\n",
    "\n",
    "# * Para el `SGDClassifier` utilice los pararámetros de `alpha` \n",
    "# con valores `[10**-1, 10**-2]`,\\\n",
    "# `learning_rate` con valores en la lista `['constant']`, \n",
    "# `eta0` con valores en la lista `[0.1,0.01, 0.001]` y `penalty` \n",
    "# con valores en la lista `['l1', 'l2']`.\n"
   ]
  },
  {
   "cell_type": "code",
   "execution_count": null,
   "id": "98e988ce",
   "metadata": {
    "slideshow": {
     "slide_type": "slide"
    }
   },
   "outputs": [],
   "source": [
    "grid_param_knn = {'n_neighbors':[3,4,5,6,7],\\\n",
    "                 'weights':['uniform', 'distance']}\n",
    "\n",
    "#Para el KNeighborsClassifier utilice los hiperparámetros:\n",
    "#    n_neighbors con valores en la lista [3,4,5,6,7],\n",
    "#    weights con valores en la lista ['uniform', 'distance'].\n",
    "\n"
   ]
  },
  {
   "cell_type": "code",
   "execution_count": null,
   "id": "e2b06e0f",
   "metadata": {
    "slideshow": {
     "slide_type": "slide"
    }
   },
   "outputs": [],
   "source": [
    "grid_search = GridSearchCV(sgd_clf, grid_param_sgd, cv = 10, scoring = 'f1_macro',\\\n",
    "                          return_train_score=True)"
   ]
  },
  {
   "cell_type": "code",
   "execution_count": null,
   "id": "fb1a2cc5",
   "metadata": {
    "slideshow": {
     "slide_type": "slide"
    }
   },
   "outputs": [],
   "source": [
    "grid_search.fit(X_train,y_train)"
   ]
  },
  {
   "cell_type": "code",
   "execution_count": null,
   "id": "4f1782aa",
   "metadata": {
    "slideshow": {
     "slide_type": "slide"
    }
   },
   "outputs": [],
   "source": [
    "mejor_modelo = grid_search.best_estimator_"
   ]
  },
  {
   "cell_type": "code",
   "execution_count": null,
   "id": "a4eeb1ca",
   "metadata": {
    "slideshow": {
     "slide_type": "slide"
    }
   },
   "outputs": [],
   "source": [
    "y_train_pred_sgd = cross_val_predict(mejor_modelo, X_train,y_train, cv = 10)"
   ]
  },
  {
   "cell_type": "code",
   "execution_count": null,
   "id": "ddac624e",
   "metadata": {
    "slideshow": {
     "slide_type": "slide"
    }
   },
   "outputs": [],
   "source": [
    "f1_score(y_train, y_train_pred_sgd)"
   ]
  },
  {
   "cell_type": "code",
   "execution_count": null,
   "id": "62d55871",
   "metadata": {
    "slideshow": {
     "slide_type": "slide"
    }
   },
   "outputs": [],
   "source": [
    "X_test_escalado = escalador.transform(X_test)"
   ]
  },
  {
   "cell_type": "code",
   "execution_count": null,
   "id": "359256d0",
   "metadata": {
    "slideshow": {
     "slide_type": "slide"
    }
   },
   "outputs": [],
   "source": [
    "y_test_pred_sgd = mejor_modelo.predict(X_test_escalado) "
   ]
  },
  {
   "cell_type": "code",
   "execution_count": null,
   "id": "d7e47bc3",
   "metadata": {
    "slideshow": {
     "slide_type": "slide"
    }
   },
   "outputs": [],
   "source": [
    "f1_score(y_test,y_test_pred_sgd)"
   ]
  },
  {
   "cell_type": "markdown",
   "id": "d74d9653",
   "metadata": {
    "slideshow": {
     "slide_type": "slide"
    }
   },
   "source": [
    "# Grafiquemos los datos y la recta clasificadora determinada"
   ]
  },
  {
   "cell_type": "code",
   "execution_count": null,
   "id": "e342ba38",
   "metadata": {
    "slideshow": {
     "slide_type": "slide"
    }
   },
   "outputs": [],
   "source": [
    "plt.scatter(X[:,1][y==False], X[:,3][y==False])\n",
    "plt.scatter(X[:,1][y==True], X[:,3][y==True])\n",
    "\n",
    "plt.savefig('mejor_predictores.jpg')"
   ]
  },
  {
   "cell_type": "markdown",
   "id": "3ca3da63",
   "metadata": {
    "slideshow": {
     "slide_type": "slide"
    }
   },
   "source": [
    "# Configuración de los datos para un clasificador de Virgínica y versicolor"
   ]
  },
  {
   "cell_type": "code",
   "execution_count": null,
   "id": "228922da",
   "metadata": {
    "slideshow": {
     "slide_type": "slide"
    }
   },
   "outputs": [],
   "source": [
    "X,y = load_iris(return_X_y = True) "
   ]
  },
  {
   "cell_type": "code",
   "execution_count": null,
   "id": "020c35a2",
   "metadata": {
    "slideshow": {
     "slide_type": "slide"
    }
   },
   "outputs": [],
   "source": [
    "iris = load_iris() "
   ]
  },
  {
   "cell_type": "code",
   "execution_count": null,
   "id": "a24255a1",
   "metadata": {
    "slideshow": {
     "slide_type": "slide"
    }
   },
   "outputs": [],
   "source": [
    "iris.target_names "
   ]
  },
  {
   "cell_type": "code",
   "execution_count": null,
   "id": "1a3c8260",
   "metadata": {
    "slideshow": {
     "slide_type": "slide"
    }
   },
   "outputs": [],
   "source": [
    "X = np.vstack((X[y==1], X[y==2])) "
   ]
  },
  {
   "cell_type": "code",
   "execution_count": null,
   "id": "2d1cb7e6",
   "metadata": {
    "slideshow": {
     "slide_type": "slide"
    }
   },
   "outputs": [],
   "source": [
    "X.shape "
   ]
  },
  {
   "cell_type": "code",
   "execution_count": null,
   "id": "2461ba7b",
   "metadata": {
    "slideshow": {
     "slide_type": "slide"
    }
   },
   "outputs": [],
   "source": [
    "y = y[50:]"
   ]
  },
  {
   "cell_type": "code",
   "execution_count": null,
   "id": "0fc3bf12",
   "metadata": {
    "slideshow": {
     "slide_type": "slide"
    }
   },
   "outputs": [],
   "source": [
    "y"
   ]
  },
  {
   "cell_type": "code",
   "execution_count": null,
   "id": "85e3ecca",
   "metadata": {
    "slideshow": {
     "slide_type": "slide"
    }
   },
   "outputs": [],
   "source": [
    "y.shape"
   ]
  },
  {
   "cell_type": "markdown",
   "id": "d9e6ef7f",
   "metadata": {
    "slideshow": {
     "slide_type": "slide"
    }
   },
   "source": [
    "Por lo tanto, los nuevos arreglos de numpy X y y estan configurados para un clasificados de versicolor y virgínica. "
   ]
  },
  {
   "cell_type": "markdown",
   "id": "d923d133",
   "metadata": {
    "slideshow": {
     "slide_type": "slide"
    }
   },
   "source": [
    "# TAREA: Caso 2, ATRIBUTOS: Caso 1, MODELOS: Caso 1"
   ]
  },
  {
   "cell_type": "markdown",
   "id": "59900580",
   "metadata": {
    "slideshow": {
     "slide_type": "slide"
    }
   },
   "source": [
    "## TAREA Caso 2: Constuir un clasificador binario versicolor vs virginica (One_vs_One)"
   ]
  },
  {
   "cell_type": "code",
   "execution_count": null,
   "id": "e6442c7b",
   "metadata": {
    "slideshow": {
     "slide_type": "slide"
    }
   },
   "outputs": [],
   "source": [
    "vv = pd.DataFrame(np.c_[X,y], columns = list(iris.feature_names) + ['tipo_iris'] ,\\\n",
    "                  index = np.arange(100))"
   ]
  },
  {
   "cell_type": "code",
   "execution_count": null,
   "id": "a60af713",
   "metadata": {
    "slideshow": {
     "slide_type": "slide"
    }
   },
   "outputs": [],
   "source": [
    "vv.head(1)"
   ]
  },
  {
   "cell_type": "markdown",
   "id": "ff4474c6",
   "metadata": {
    "slideshow": {
     "slide_type": "slide"
    }
   },
   "source": [
    "## ATRIBUTOS\n",
    "\n",
    "### Caso 1:\n",
    "atributo 1: Longitud de sépalo  \n",
    "atributo 2: ancho de sépalo "
   ]
  },
  {
   "cell_type": "markdown",
   "id": "b1ad2e8c",
   "metadata": {
    "slideshow": {
     "slide_type": "slide"
    }
   },
   "source": [
    "# MODELOS   \n",
    "\n",
    "### Caso 1: SGDClassifier y LogisticRegression "
   ]
  },
  {
   "cell_type": "code",
   "execution_count": null,
   "id": "b633495d",
   "metadata": {
    "slideshow": {
     "slide_type": "slide"
    }
   },
   "outputs": [],
   "source": [
    "Seleccionador_Atributos = selecciona_atributos(sepal_length = True, sepal_width = True, \\\n",
    "                                               petal_length = False, petal_width = False,\\\n",
    "                                               sepal_area = False, petal_area = False )"
   ]
  },
  {
   "cell_type": "code",
   "execution_count": null,
   "id": "28e9687d",
   "metadata": {
    "slideshow": {
     "slide_type": "slide"
    }
   },
   "outputs": [],
   "source": [
    "X = Seleccionador_Atributos.fit_transform(X)"
   ]
  },
  {
   "cell_type": "code",
   "execution_count": null,
   "id": "3b6f7e57",
   "metadata": {
    "slideshow": {
     "slide_type": "slide"
    }
   },
   "outputs": [],
   "source": [
    "X.shape "
   ]
  },
  {
   "cell_type": "markdown",
   "id": "7830d8bf",
   "metadata": {
    "slideshow": {
     "slide_type": "slide"
    }
   },
   "source": [
    "# Ejemplo de construcción de un modelo de clasificación binaria con solo dos atributos predictores: área de sépalo y área de pétalo"
   ]
  },
  {
   "cell_type": "markdown",
   "id": "7610a31c",
   "metadata": {
    "slideshow": {
     "slide_type": "slide"
    }
   },
   "source": [
    "## [Video de apoyo](https://www.youtube.com/watch?v=lPnQoccz3Qk) "
   ]
  },
  {
   "cell_type": "markdown",
   "id": "ed444882",
   "metadata": {
    "slideshow": {
     "slide_type": "slide"
    }
   },
   "source": [
    "## Obtener los datos "
   ]
  },
  {
   "cell_type": "code",
   "execution_count": 2,
   "id": "3878d569",
   "metadata": {
    "slideshow": {
     "slide_type": "slide"
    }
   },
   "outputs": [],
   "source": [
    "from sklearn.datasets import load_iris  "
   ]
  },
  {
   "cell_type": "code",
   "execution_count": 3,
   "id": "ca72419a",
   "metadata": {
    "slideshow": {
     "slide_type": "slide"
    }
   },
   "outputs": [],
   "source": [
    "iris = load_iris() "
   ]
  },
  {
   "cell_type": "code",
   "execution_count": 4,
   "id": "de8ba4a8",
   "metadata": {
    "slideshow": {
     "slide_type": "slide"
    }
   },
   "outputs": [
    {
     "data": {
      "text/plain": [
       "dict_keys(['data', 'target', 'frame', 'target_names', 'DESCR', 'feature_names', 'filename'])"
      ]
     },
     "execution_count": 4,
     "metadata": {},
     "output_type": "execute_result"
    }
   ],
   "source": [
    "iris.keys() "
   ]
  },
  {
   "cell_type": "code",
   "execution_count": 5,
   "id": "8b44b51d",
   "metadata": {
    "slideshow": {
     "slide_type": "slide"
    }
   },
   "outputs": [
    {
     "data": {
      "text/plain": [
       "array(['setosa', 'versicolor', 'virginica'], dtype='<U10')"
      ]
     },
     "execution_count": 5,
     "metadata": {},
     "output_type": "execute_result"
    }
   ],
   "source": [
    "iris.target_names"
   ]
  },
  {
   "cell_type": "code",
   "execution_count": 6,
   "id": "347e824c",
   "metadata": {
    "slideshow": {
     "slide_type": "slide"
    }
   },
   "outputs": [
    {
     "data": {
      "text/plain": [
       "['sepal length (cm)',\n",
       " 'sepal width (cm)',\n",
       " 'petal length (cm)',\n",
       " 'petal width (cm)']"
      ]
     },
     "execution_count": 6,
     "metadata": {},
     "output_type": "execute_result"
    }
   ],
   "source": [
    "iris.feature_names "
   ]
  },
  {
   "cell_type": "code",
   "execution_count": 7,
   "id": "df57a53a",
   "metadata": {
    "slideshow": {
     "slide_type": "slide"
    }
   },
   "outputs": [],
   "source": [
    "X,y = load_iris(return_X_y = True) "
   ]
  },
  {
   "cell_type": "code",
   "execution_count": 10,
   "id": "f9ef074c",
   "metadata": {
    "slideshow": {
     "slide_type": "slide"
    }
   },
   "outputs": [],
   "source": [
    "sepal_area = X[:,0:1]*X[:,1:2]"
   ]
  },
  {
   "cell_type": "code",
   "execution_count": 11,
   "id": "8187de2e",
   "metadata": {
    "slideshow": {
     "slide_type": "slide"
    }
   },
   "outputs": [
    {
     "data": {
      "text/plain": [
       "array([[17.85],\n",
       "       [14.7 ],\n",
       "       [15.04],\n",
       "       [14.26],\n",
       "       [18.  ],\n",
       "       [21.06],\n",
       "       [15.64],\n",
       "       [17.  ],\n",
       "       [12.76],\n",
       "       [15.19],\n",
       "       [19.98],\n",
       "       [16.32],\n",
       "       [14.4 ],\n",
       "       [12.9 ],\n",
       "       [23.2 ],\n",
       "       [25.08],\n",
       "       [21.06],\n",
       "       [17.85],\n",
       "       [21.66],\n",
       "       [19.38],\n",
       "       [18.36],\n",
       "       [18.87],\n",
       "       [16.56],\n",
       "       [16.83],\n",
       "       [16.32],\n",
       "       [15.  ],\n",
       "       [17.  ],\n",
       "       [18.2 ],\n",
       "       [17.68],\n",
       "       [15.04],\n",
       "       [14.88],\n",
       "       [18.36],\n",
       "       [21.32],\n",
       "       [23.1 ],\n",
       "       [15.19],\n",
       "       [16.  ],\n",
       "       [19.25],\n",
       "       [17.64],\n",
       "       [13.2 ],\n",
       "       [17.34],\n",
       "       [17.5 ],\n",
       "       [10.35],\n",
       "       [14.08],\n",
       "       [17.5 ],\n",
       "       [19.38],\n",
       "       [14.4 ],\n",
       "       [19.38],\n",
       "       [14.72],\n",
       "       [19.61],\n",
       "       [16.5 ],\n",
       "       [22.4 ],\n",
       "       [20.48],\n",
       "       [21.39],\n",
       "       [12.65],\n",
       "       [18.2 ],\n",
       "       [15.96],\n",
       "       [20.79],\n",
       "       [11.76],\n",
       "       [19.14],\n",
       "       [14.04],\n",
       "       [10.  ],\n",
       "       [17.7 ],\n",
       "       [13.2 ],\n",
       "       [17.69],\n",
       "       [16.24],\n",
       "       [20.77],\n",
       "       [16.8 ],\n",
       "       [15.66],\n",
       "       [13.64],\n",
       "       [14.  ],\n",
       "       [18.88],\n",
       "       [17.08],\n",
       "       [15.75],\n",
       "       [17.08],\n",
       "       [18.56],\n",
       "       [19.8 ],\n",
       "       [19.04],\n",
       "       [20.1 ],\n",
       "       [17.4 ],\n",
       "       [14.82],\n",
       "       [13.2 ],\n",
       "       [13.2 ],\n",
       "       [15.66],\n",
       "       [16.2 ],\n",
       "       [16.2 ],\n",
       "       [20.4 ],\n",
       "       [20.77],\n",
       "       [14.49],\n",
       "       [16.8 ],\n",
       "       [13.75],\n",
       "       [14.3 ],\n",
       "       [18.3 ],\n",
       "       [15.08],\n",
       "       [11.5 ],\n",
       "       [15.12],\n",
       "       [17.1 ],\n",
       "       [16.53],\n",
       "       [17.98],\n",
       "       [12.75],\n",
       "       [15.96],\n",
       "       [20.79],\n",
       "       [15.66],\n",
       "       [21.3 ],\n",
       "       [18.27],\n",
       "       [19.5 ],\n",
       "       [22.8 ],\n",
       "       [12.25],\n",
       "       [21.17],\n",
       "       [16.75],\n",
       "       [25.92],\n",
       "       [20.8 ],\n",
       "       [17.28],\n",
       "       [20.4 ],\n",
       "       [14.25],\n",
       "       [16.24],\n",
       "       [20.48],\n",
       "       [19.5 ],\n",
       "       [29.26],\n",
       "       [20.02],\n",
       "       [13.2 ],\n",
       "       [22.08],\n",
       "       [15.68],\n",
       "       [21.56],\n",
       "       [17.01],\n",
       "       [22.11],\n",
       "       [23.04],\n",
       "       [17.36],\n",
       "       [18.3 ],\n",
       "       [17.92],\n",
       "       [21.6 ],\n",
       "       [20.72],\n",
       "       [30.02],\n",
       "       [17.92],\n",
       "       [17.64],\n",
       "       [15.86],\n",
       "       [23.1 ],\n",
       "       [21.42],\n",
       "       [19.84],\n",
       "       [18.  ],\n",
       "       [21.39],\n",
       "       [20.77],\n",
       "       [21.39],\n",
       "       [15.66],\n",
       "       [21.76],\n",
       "       [22.11],\n",
       "       [20.1 ],\n",
       "       [15.75],\n",
       "       [19.5 ],\n",
       "       [21.08],\n",
       "       [17.7 ]])"
      ]
     },
     "execution_count": 11,
     "metadata": {},
     "output_type": "execute_result"
    }
   ],
   "source": [
    "sepal_area"
   ]
  },
  {
   "cell_type": "code",
   "execution_count": 9,
   "id": "6903c004",
   "metadata": {
    "slideshow": {
     "slide_type": "slide"
    }
   },
   "outputs": [],
   "source": [
    "petal_area = X[:,2]*X[:,3]"
   ]
  },
  {
   "cell_type": "markdown",
   "id": "ce425555",
   "metadata": {
    "slideshow": {
     "slide_type": "slide"
    }
   },
   "source": [
    "# Configuración de nuestros predictores "
   ]
  },
  {
   "cell_type": "code",
   "execution_count": 10,
   "id": "1879ef5b",
   "metadata": {
    "slideshow": {
     "slide_type": "slide"
    }
   },
   "outputs": [],
   "source": [
    "import numpy as np \n",
    "X_area = np.c_[sepal_area,petal_area]"
   ]
  },
  {
   "cell_type": "code",
   "execution_count": 13,
   "id": "d8ff7fdf",
   "metadata": {
    "slideshow": {
     "slide_type": "slide"
    }
   },
   "outputs": [
    {
     "data": {
      "text/plain": [
       "(150, 2)"
      ]
     },
     "execution_count": 13,
     "metadata": {},
     "output_type": "execute_result"
    }
   ],
   "source": [
    "X_area.shape"
   ]
  },
  {
   "cell_type": "markdown",
   "id": "9238da1e",
   "metadata": {
    "slideshow": {
     "slide_type": "slide"
    }
   },
   "source": [
    "# Configuración de las etiquetas para un detector de setosa "
   ]
  },
  {
   "cell_type": "code",
   "execution_count": 14,
   "id": "4d664d1b",
   "metadata": {
    "slideshow": {
     "slide_type": "slide"
    }
   },
   "outputs": [],
   "source": [
    "y_setosa = (y==0)"
   ]
  },
  {
   "cell_type": "code",
   "execution_count": 17,
   "id": "4c28ce2b",
   "metadata": {
    "slideshow": {
     "slide_type": "slide"
    }
   },
   "outputs": [],
   "source": [
    "y_setosa = y_setosa.reshape(-1,1)"
   ]
  },
  {
   "cell_type": "code",
   "execution_count": 22,
   "id": "44eb0160",
   "metadata": {
    "scrolled": true,
    "slideshow": {
     "slide_type": "slide"
    }
   },
   "outputs": [],
   "source": [
    "y_setosa = y_setosa.ravel() "
   ]
  },
  {
   "cell_type": "code",
   "execution_count": 23,
   "id": "b9656a4d",
   "metadata": {
    "slideshow": {
     "slide_type": "slide"
    }
   },
   "outputs": [
    {
     "data": {
      "text/plain": [
       "array([ True,  True,  True,  True,  True,  True,  True,  True,  True,\n",
       "        True,  True,  True,  True,  True,  True,  True,  True,  True,\n",
       "        True,  True,  True,  True,  True,  True,  True,  True,  True,\n",
       "        True,  True,  True,  True,  True,  True,  True,  True,  True,\n",
       "        True,  True,  True,  True,  True,  True,  True,  True,  True,\n",
       "        True,  True,  True,  True,  True, False, False, False, False,\n",
       "       False, False, False, False, False, False, False, False, False,\n",
       "       False, False, False, False, False, False, False, False, False,\n",
       "       False, False, False, False, False, False, False, False, False,\n",
       "       False, False, False, False, False, False, False, False, False,\n",
       "       False, False, False, False, False, False, False, False, False,\n",
       "       False, False, False, False, False, False, False, False, False,\n",
       "       False, False, False, False, False, False, False, False, False,\n",
       "       False, False, False, False, False, False, False, False, False,\n",
       "       False, False, False, False, False, False, False, False, False,\n",
       "       False, False, False, False, False, False, False, False, False,\n",
       "       False, False, False, False, False, False])"
      ]
     },
     "execution_count": 23,
     "metadata": {},
     "output_type": "execute_result"
    }
   ],
   "source": [
    "y_setosa \n"
   ]
  },
  {
   "cell_type": "code",
   "execution_count": null,
   "id": "543e4e07",
   "metadata": {
    "slideshow": {
     "slide_type": "slide"
    }
   },
   "outputs": [],
   "source": [
    "iris.target_names "
   ]
  },
  {
   "cell_type": "code",
   "execution_count": 30,
   "id": "238f87c3",
   "metadata": {
    "slideshow": {
     "slide_type": "slide"
    }
   },
   "outputs": [],
   "source": [
    "y_setosa = 1*y_setosa"
   ]
  },
  {
   "cell_type": "code",
   "execution_count": 31,
   "id": "80722f14",
   "metadata": {
    "slideshow": {
     "slide_type": "-"
    }
   },
   "outputs": [
    {
     "data": {
      "text/plain": [
       "array([1, 1, 1, 1, 1, 1, 1, 1, 1, 1, 1, 1, 1, 1, 1, 1, 1, 1, 1, 1, 1, 1,\n",
       "       1, 1, 1, 1, 1, 1, 1, 1, 1, 1, 1, 1, 1, 1, 1, 1, 1, 1, 1, 1, 1, 1,\n",
       "       1, 1, 1, 1, 1, 1, 0, 0, 0, 0, 0, 0, 0, 0, 0, 0, 0, 0, 0, 0, 0, 0,\n",
       "       0, 0, 0, 0, 0, 0, 0, 0, 0, 0, 0, 0, 0, 0, 0, 0, 0, 0, 0, 0, 0, 0,\n",
       "       0, 0, 0, 0, 0, 0, 0, 0, 0, 0, 0, 0, 0, 0, 0, 0, 0, 0, 0, 0, 0, 0,\n",
       "       0, 0, 0, 0, 0, 0, 0, 0, 0, 0, 0, 0, 0, 0, 0, 0, 0, 0, 0, 0, 0, 0,\n",
       "       0, 0, 0, 0, 0, 0, 0, 0, 0, 0, 0, 0, 0, 0, 0, 0, 0, 0])"
      ]
     },
     "execution_count": 31,
     "metadata": {},
     "output_type": "execute_result"
    }
   ],
   "source": [
    "y_setosa \n"
   ]
  },
  {
   "cell_type": "markdown",
   "id": "f8efd4b7",
   "metadata": {
    "slideshow": {
     "slide_type": "slide"
    }
   },
   "source": [
    "# Visualización a través de una dataframe de los atributos predictores y las etiquetas para nuestro detectos de setosa con los atributos predictores de area de sepalo y pétalo"
   ]
  },
  {
   "cell_type": "code",
   "execution_count": 32,
   "id": "ec489fcf",
   "metadata": {
    "scrolled": true,
    "slideshow": {
     "slide_type": "slide"
    }
   },
   "outputs": [
    {
     "data": {
      "text/html": [
       "<div>\n",
       "<style scoped>\n",
       "    .dataframe tbody tr th:only-of-type {\n",
       "        vertical-align: middle;\n",
       "    }\n",
       "\n",
       "    .dataframe tbody tr th {\n",
       "        vertical-align: top;\n",
       "    }\n",
       "\n",
       "    .dataframe thead th {\n",
       "        text-align: right;\n",
       "    }\n",
       "</style>\n",
       "<table border=\"1\" class=\"dataframe\">\n",
       "  <thead>\n",
       "    <tr style=\"text-align: right;\">\n",
       "      <th></th>\n",
       "      <th>área_sepalo</th>\n",
       "      <th>área_pétalo</th>\n",
       "      <th>es_setosa</th>\n",
       "    </tr>\n",
       "  </thead>\n",
       "  <tbody>\n",
       "    <tr>\n",
       "      <th>45</th>\n",
       "      <td>14.40</td>\n",
       "      <td>0.42</td>\n",
       "      <td>1.0</td>\n",
       "    </tr>\n",
       "    <tr>\n",
       "      <th>46</th>\n",
       "      <td>19.38</td>\n",
       "      <td>0.32</td>\n",
       "      <td>1.0</td>\n",
       "    </tr>\n",
       "    <tr>\n",
       "      <th>47</th>\n",
       "      <td>14.72</td>\n",
       "      <td>0.28</td>\n",
       "      <td>1.0</td>\n",
       "    </tr>\n",
       "    <tr>\n",
       "      <th>48</th>\n",
       "      <td>19.61</td>\n",
       "      <td>0.30</td>\n",
       "      <td>1.0</td>\n",
       "    </tr>\n",
       "    <tr>\n",
       "      <th>49</th>\n",
       "      <td>16.50</td>\n",
       "      <td>0.28</td>\n",
       "      <td>1.0</td>\n",
       "    </tr>\n",
       "    <tr>\n",
       "      <th>50</th>\n",
       "      <td>22.40</td>\n",
       "      <td>6.58</td>\n",
       "      <td>0.0</td>\n",
       "    </tr>\n",
       "    <tr>\n",
       "      <th>51</th>\n",
       "      <td>20.48</td>\n",
       "      <td>6.75</td>\n",
       "      <td>0.0</td>\n",
       "    </tr>\n",
       "    <tr>\n",
       "      <th>52</th>\n",
       "      <td>21.39</td>\n",
       "      <td>7.35</td>\n",
       "      <td>0.0</td>\n",
       "    </tr>\n",
       "    <tr>\n",
       "      <th>53</th>\n",
       "      <td>12.65</td>\n",
       "      <td>5.20</td>\n",
       "      <td>0.0</td>\n",
       "    </tr>\n",
       "    <tr>\n",
       "      <th>54</th>\n",
       "      <td>18.20</td>\n",
       "      <td>6.90</td>\n",
       "      <td>0.0</td>\n",
       "    </tr>\n",
       "  </tbody>\n",
       "</table>\n",
       "</div>"
      ],
      "text/plain": [
       "    área_sepalo  área_pétalo  es_setosa\n",
       "45        14.40         0.42        1.0\n",
       "46        19.38         0.32        1.0\n",
       "47        14.72         0.28        1.0\n",
       "48        19.61         0.30        1.0\n",
       "49        16.50         0.28        1.0\n",
       "50        22.40         6.58        0.0\n",
       "51        20.48         6.75        0.0\n",
       "52        21.39         7.35        0.0\n",
       "53        12.65         5.20        0.0\n",
       "54        18.20         6.90        0.0"
      ]
     },
     "execution_count": 32,
     "metadata": {},
     "output_type": "execute_result"
    }
   ],
   "source": [
    "import pandas as pd \n",
    "df = pd.DataFrame(np.c_[X_area, y_setosa],\\\n",
    "                  columns = ['área_sepalo', 'área_pétalo', 'es_setosa'],\\\n",
    "                  index = np.arange(150)) \n",
    "\n",
    "df.iloc[45:55,:]"
   ]
  },
  {
   "cell_type": "markdown",
   "id": "38c6f92d",
   "metadata": {
    "slideshow": {
     "slide_type": "slide"
    }
   },
   "source": [
    "# División en entrenamiento y testeo de manera estratificada"
   ]
  },
  {
   "cell_type": "code",
   "execution_count": 34,
   "id": "e3c95f31",
   "metadata": {
    "slideshow": {
     "slide_type": "slide"
    }
   },
   "outputs": [],
   "source": [
    "from sklearn.model_selection import StratifiedShuffleSplit "
   ]
  },
  {
   "cell_type": "code",
   "execution_count": 51,
   "id": "9c8d058d",
   "metadata": {
    "slideshow": {
     "slide_type": "slide"
    }
   },
   "outputs": [],
   "source": [
    "sss = StratifiedShuffleSplit(n_splits = 1, random_state = 42, test_size = 0.2)"
   ]
  },
  {
   "cell_type": "code",
   "execution_count": 52,
   "id": "000264a2",
   "metadata": {
    "slideshow": {
     "slide_type": "slide"
    }
   },
   "outputs": [],
   "source": [
    "for train_index, test_index in sss.split(X_area, y_setosa):\n",
    "    X_train, X_test = X_area[train_index], X_area[test_index]\n",
    "    y_train, y_test = y_setosa[train_index], y_setosa[test_index] \n",
    "    "
   ]
  },
  {
   "cell_type": "code",
   "execution_count": 53,
   "id": "144bd31f",
   "metadata": {
    "slideshow": {
     "slide_type": "slide"
    }
   },
   "outputs": [
    {
     "data": {
      "text/plain": [
       "(array([20.,  0.,  0.,  0.,  0.,  0.,  0.,  0.,  0., 10.]),\n",
       " array([0. , 0.1, 0.2, 0.3, 0.4, 0.5, 0.6, 0.7, 0.8, 0.9, 1. ]),\n",
       " <BarContainer object of 10 artists>)"
      ]
     },
     "execution_count": 53,
     "metadata": {},
     "output_type": "execute_result"
    },
    {
     "data": {
      "image/png": "[encoded data removed]",
      "text/plain": [
       "<Figure size 432x288 with 1 Axes>"
      ]
     },
     "metadata": {
      "needs_background": "light"
     },
     "output_type": "display_data"
    }
   ],
   "source": [
    "import matplotlib.pyplot as plt \n",
    "plt.hist(y_test)"
   ]
  },
  {
   "cell_type": "code",
   "execution_count": 54,
   "id": "af5f9d32",
   "metadata": {
    "slideshow": {
     "slide_type": "slide"
    }
   },
   "outputs": [],
   "source": [
    "from sklearn.linear_model import SGDClassifier \n",
    "from sklearn.linear_model import LogisticRegression \n",
    "from sklearn.neighbors import KNeighborsClassifier "
   ]
  },
  {
   "cell_type": "code",
   "execution_count": 55,
   "id": "69a91e68",
   "metadata": {
    "slideshow": {
     "slide_type": "slide"
    }
   },
   "outputs": [],
   "source": [
    "sgd_clf = SGDClassifier(max_iter = 1000, tol = 1e-3, random_state = 42) \n",
    "lr_clf = LogisticRegression(max_iter = 200) \n",
    "knn_clf = KNeighborsClassifier(n_neighbors = 3)"
   ]
  },
  {
   "cell_type": "code",
   "execution_count": 56,
   "id": "67695485",
   "metadata": {
    "slideshow": {
     "slide_type": "slide"
    }
   },
   "outputs": [
    {
     "data": {
      "text/plain": [
       "KNeighborsClassifier(n_neighbors=3)"
      ]
     },
     "execution_count": 56,
     "metadata": {},
     "output_type": "execute_result"
    }
   ],
   "source": [
    "sgd_clf.fit(X_train, y_train)\n",
    "lr_clf.fit(X_train, y_train)\n",
    "knn_clf.fit(X_train, y_train)"
   ]
  },
  {
   "cell_type": "code",
   "execution_count": 57,
   "id": "09984497",
   "metadata": {
    "slideshow": {
     "slide_type": "slide"
    }
   },
   "outputs": [],
   "source": [
    "from sklearn.model_selection import cross_val_predict \n",
    "from sklearn.metrics import f1_score "
   ]
  },
  {
   "cell_type": "code",
   "execution_count": 78,
   "id": "4ce9c1eb",
   "metadata": {},
   "outputs": [],
   "source": [
    "from sklearn.metrics import confusion_matrix"
   ]
  },
  {
   "cell_type": "code",
   "execution_count": 58,
   "id": "8444e228",
   "metadata": {
    "slideshow": {
     "slide_type": "slide"
    }
   },
   "outputs": [],
   "source": [
    "y_pred_train_sgd = cross_val_predict(sgd_clf, X_train, y_train, cv = 5)\n",
    "y_pred_train_lr = cross_val_predict(lr_clf, X_train, y_train, cv = 5)\n",
    "y_pred_train_knn = cross_val_predict(knn_clf, X_train, y_train, cv = 5)"
   ]
  },
  {
   "cell_type": "code",
   "execution_count": 79,
   "id": "8e827e10",
   "metadata": {
    "slideshow": {
     "slide_type": "slide"
    }
   },
   "outputs": [
    {
     "data": {
      "text/plain": [
       "array([[80,  0],\n",
       "       [ 0, 40]], dtype=int64)"
      ]
     },
     "execution_count": 79,
     "metadata": {},
     "output_type": "execute_result"
    }
   ],
   "source": [
    "confusion_matrix(y_train, y_pred_train_sgd)\n",
    " "
   ]
  },
  {
   "cell_type": "code",
   "execution_count": 80,
   "id": "4ecf56f0",
   "metadata": {
    "slideshow": {
     "slide_type": "slide"
    }
   },
   "outputs": [
    {
     "data": {
      "text/plain": [
       "array([[80,  0],\n",
       "       [ 0, 40]], dtype=int64)"
      ]
     },
     "execution_count": 80,
     "metadata": {},
     "output_type": "execute_result"
    }
   ],
   "source": [
    "confusion_matrix(y_train, y_pred_train_lr)\n",
    " "
   ]
  },
  {
   "cell_type": "code",
   "execution_count": 81,
   "id": "40b93aac",
   "metadata": {
    "slideshow": {
     "slide_type": "slide"
    }
   },
   "outputs": [
    {
     "data": {
      "text/plain": [
       "array([[80,  0],\n",
       "       [ 0, 40]], dtype=int64)"
      ]
     },
     "execution_count": 81,
     "metadata": {},
     "output_type": "execute_result"
    }
   ],
   "source": [
    "confusion_matrix(y_train, y_pred_train_knn)\n",
    " "
   ]
  },
  {
   "cell_type": "code",
   "execution_count": 59,
   "id": "cef09b00",
   "metadata": {
    "slideshow": {
     "slide_type": "slide"
    }
   },
   "outputs": [
    {
     "data": {
      "text/plain": [
       "1.0"
      ]
     },
     "execution_count": 59,
     "metadata": {},
     "output_type": "execute_result"
    }
   ],
   "source": [
    "puntaje_f1_sgd = f1_score(y_train, y_pred_train_sgd)\n",
    "puntaje_f1_sgd "
   ]
  },
  {
   "cell_type": "code",
   "execution_count": 60,
   "id": "a23467c1",
   "metadata": {
    "slideshow": {
     "slide_type": "slide"
    }
   },
   "outputs": [
    {
     "data": {
      "text/plain": [
       "1.0"
      ]
     },
     "execution_count": 60,
     "metadata": {},
     "output_type": "execute_result"
    }
   ],
   "source": [
    "puntaje_f1_lr = f1_score(y_train, y_pred_train_lr)\n",
    "puntaje_f1_lr "
   ]
  },
  {
   "cell_type": "code",
   "execution_count": 61,
   "id": "c3c0563c",
   "metadata": {
    "slideshow": {
     "slide_type": "slide"
    }
   },
   "outputs": [
    {
     "data": {
      "text/plain": [
       "1.0"
      ]
     },
     "execution_count": 61,
     "metadata": {},
     "output_type": "execute_result"
    }
   ],
   "source": [
    "puntaje_f1_knn = f1_score(y_train,y_pred_train_knn)\n",
    "puntaje_f1_knn"
   ]
  },
  {
   "cell_type": "code",
   "execution_count": 64,
   "id": "d90968ec",
   "metadata": {
    "slideshow": {
     "slide_type": "slide"
    }
   },
   "outputs": [],
   "source": [
    "from sklearn.metrics import roc_curve "
   ]
  },
  {
   "cell_type": "code",
   "execution_count": 65,
   "id": "1717c72c",
   "metadata": {
    "slideshow": {
     "slide_type": "slide"
    }
   },
   "outputs": [],
   "source": [
    "X_sgd,Y_sgd,Z_sgd = roc_curve(y_train, y_pred_train_sgd)\n",
    "X_lr,Y_lr,Z_lr = roc_curve(y_train, y_pred_train_lr)\n",
    "X_knn,Y_knn,Z_knn = roc_curve(y_train, y_pred_train_knn)"
   ]
  },
  {
   "cell_type": "code",
   "execution_count": 70,
   "id": "2e50628c",
   "metadata": {
    "slideshow": {
     "slide_type": "slide"
    }
   },
   "outputs": [
    {
     "data": {
      "text/plain": [
       "[<matplotlib.lines.Line2D at 0x198e2fe8250>]"
      ]
     },
     "execution_count": 70,
     "metadata": {},
     "output_type": "execute_result"
    },
    {
     "data": {
      "image/png": "[encoded data removed]",
      "text/plain": [
       "<Figure size 432x288 with 1 Axes>"
      ]
     },
     "metadata": {
      "needs_background": "light"
     },
     "output_type": "display_data"
    }
   ],
   "source": [
    "import matplotlib.pyplot as plt \n",
    "\n",
    "plt.plot(X_sgd, Y_sgd, color = 'red') \n",
    "plt.plot(X_lr, Y_lr, color = 'g')\n",
    "plt.plot(X_knn, Y_knn, color = 'y')"
   ]
  },
  {
   "cell_type": "markdown",
   "id": "795c792b",
   "metadata": {
    "slideshow": {
     "slide_type": "slide"
    }
   },
   "source": [
    "# Verificar el desempeño en el conjunto de testeo "
   ]
  },
  {
   "cell_type": "code",
   "execution_count": 71,
   "id": "98f62bc0",
   "metadata": {
    "slideshow": {
     "slide_type": "slide"
    }
   },
   "outputs": [],
   "source": [
    "y_pred_test = sgd_clf.predict(X_test)"
   ]
  },
  {
   "cell_type": "code",
   "execution_count": 72,
   "id": "84bb10c6",
   "metadata": {
    "slideshow": {
     "slide_type": "slide"
    }
   },
   "outputs": [
    {
     "data": {
      "text/plain": [
       "1.0"
      ]
     },
     "execution_count": 72,
     "metadata": {},
     "output_type": "execute_result"
    }
   ],
   "source": [
    "f1_score(y_test, y_pred_test) "
   ]
  },
  {
   "cell_type": "markdown",
   "id": "b7445206",
   "metadata": {
    "slideshow": {
     "slide_type": "slide"
    }
   },
   "source": [
    "## Deducción de la recta separadora"
   ]
  },
  {
   "cell_type": "code",
   "execution_count": 73,
   "id": "05383066",
   "metadata": {
    "slideshow": {
     "slide_type": "slide"
    }
   },
   "outputs": [
    {
     "data": {
      "text/plain": [
       "array([-0.04040395])"
      ]
     },
     "execution_count": 73,
     "metadata": {},
     "output_type": "execute_result"
    }
   ],
   "source": [
    "sgd_clf.intercept_"
   ]
  },
  {
   "cell_type": "code",
   "execution_count": 74,
   "id": "568268c6",
   "metadata": {
    "slideshow": {
     "slide_type": "slide"
    }
   },
   "outputs": [
    {
     "data": {
      "text/plain": [
       "array([  11.31049483, -158.40130506])"
      ]
     },
     "execution_count": 74,
     "metadata": {},
     "output_type": "execute_result"
    }
   ],
   "source": [
    "sgd_clf.coef_.ravel() "
   ]
  },
  {
   "cell_type": "code",
   "execution_count": 75,
   "id": "15c00241",
   "metadata": {
    "slideshow": {
     "slide_type": "slide"
    }
   },
   "outputs": [
    {
     "data": {
      "text/plain": [
       "array([-4.04039484e-02,  1.13104948e+01, -1.58401305e+02])"
      ]
     },
     "execution_count": 75,
     "metadata": {},
     "output_type": "execute_result"
    }
   ],
   "source": [
    "np.hstack((sgd_clf.intercept_, sgd_clf.coef_.ravel() ))"
   ]
  },
  {
   "cell_type": "code",
   "execution_count": 76,
   "id": "41092e99",
   "metadata": {
    "slideshow": {
     "slide_type": "slide"
    }
   },
   "outputs": [],
   "source": [
    "w0,w1,w2 = np.hstack((sgd_clf.intercept_, sgd_clf.coef_.ravel()))"
   ]
  },
  {
   "cell_type": "markdown",
   "id": "044c40dd",
   "metadata": {
    "slideshow": {
     "slide_type": "slide"
    }
   },
   "source": [
    "$$ w0 + w1x + w2y = 0 $$"
   ]
  },
  {
   "cell_type": "markdown",
   "id": "0300df2e",
   "metadata": {
    "slideshow": {
     "slide_type": "slide"
    }
   },
   "source": [
    "$$ y = -\\frac{w1}{w2}x - \\frac{w0}{w2} $$"
   ]
  },
  {
   "cell_type": "markdown",
   "id": "d5ee29a3",
   "metadata": {
    "slideshow": {
     "slide_type": "slide"
    }
   },
   "source": [
    "# Visualización de esta clasificación a través de un diagrama de dispersión"
   ]
  },
  {
   "cell_type": "code",
   "execution_count": 77,
   "id": "ddff0858",
   "metadata": {
    "slideshow": {
     "slide_type": "slide"
    }
   },
   "outputs": [
    {
     "data": {
      "image/png": "[encoded data removed]",
      "text/plain": [
       "<Figure size 432x288 with 1 Axes>"
      ]
     },
     "metadata": {
      "needs_background": "light"
     },
     "output_type": "display_data"
    }
   ],
   "source": [
    "import numpy as np \n",
    "import matplotlib.pyplot as plt \n",
    "\n",
    "fig, ax = plt.subplots()\n",
    "\n",
    "ax.set_title('Clasificación binaria. Detector de Setosa')\n",
    "ax.set_xlabel('área del sépalo')\n",
    "ax.set_ylabel('área del pétalo')\n",
    "\n",
    "ax.plot(X_area[:,0][1*y_setosa==1], X_area[:,1][y_setosa==1], 'b.', label = 'setosa')\n",
    "ax.plot(X_area[:,0][1*y_setosa==0], X_area[:,1][y_setosa==0], 'r.', label = 'No setosa')\n",
    "\n",
    "#trazo de linea separadora\n",
    "\n",
    "c,d = np.min(X_area[:,0])-1,np.max(X_area[:,0])+1\n",
    "m = -w1/w2\n",
    "b = -w0/w2\n",
    "ax.plot([c,d],[m*c+b, m*d+b], 'g-')\n",
    "\n",
    "#rectángulo de visualización\n",
    "\n",
    "ax.axis([np.min(X_area[:,0])-1, np.max(X_area[:,0])+1, \\\n",
    "         np.min(X_area[:,1])-1, np.max(X_area[:,1])+1] )\n",
    "\n",
    "ax.legend() \n",
    "\n",
    "plt.savefig('clasificador_area.jpg') \n",
    "\n",
    "plt.show() "
   ]
  },
  {
   "cell_type": "markdown",
   "id": "2de70c83",
   "metadata": {
    "slideshow": {
     "slide_type": "slide"
    }
   },
   "source": [
    "**Conclusión: **  \n",
    "\n",
    "* Hemos encontrado una recta que separa de manera perfecta a las dos clases: la clase Setosa de la clase no setosa. "
   ]
  },
  {
   "cell_type": "code",
   "execution_count": null,
   "id": "99f59e61",
   "metadata": {
    "slideshow": {
     "slide_type": "slide"
    }
   },
   "outputs": [],
   "source": []
  },
  {
   "cell_type": "markdown",
   "id": "177cb5ab",
   "metadata": {
    "slideshow": {
     "slide_type": "slide"
    }
   },
   "source": [
    "## Referentes:\n",
    "\n",
    "* La clase LogisticRegression de sklearn: https://scikit-learn.org/stable/modules/generated/sklearn.linear_model.LogisticRegression.html  \n",
    "\n",
    "* La clase KNeighborsClassifier de sklearn: https://scikit-learn.org/stable/modules/generated/sklearn.neighbors.KNeighborsClassifier.html\n",
    "\n",
    "* Sobre las medidas de desempeño de un clasificador: https://www.iartificial.net/precision-recall-f1-accuracy-en-clasificacion/  \n",
    "\n",
    "* Sobre la función subplots(): https://matplotlib.org/stable/gallery/subplots_axes_and_figures/subplots_demo.html\n"
   ]
  },
  {
   "cell_type": "code",
   "execution_count": null,
   "id": "5ae04ede",
   "metadata": {
    "slideshow": {
     "slide_type": "slide"
    }
   },
   "outputs": [],
   "source": []
  }
 ],
 "metadata": {
  "celltoolbar": "Slideshow",
  "kernelspec": {
   "display_name": "Python 3 (ipykernel)",
   "language": "python",
   "name": "python3"
  },
  "language_info": {
   "codemirror_mode": {
    "name": "ipython",
    "version": 3
   },
   "file_extension": ".py",
   "mimetype": "text/x-python",
   "name": "python",
   "nbconvert_exporter": "python",
   "pygments_lexer": "ipython3",
   "version": "3.9.7"
  },
  "rise": {
   "theme": "sky"
  }
 },
 "nbformat": 4,
 "nbformat_minor": 5
}
