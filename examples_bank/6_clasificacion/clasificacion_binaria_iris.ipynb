{
 "cells": [
  {
   "cell_type": "markdown",
   "id": "9d27dad4",
   "metadata": {
    "slideshow": {
     "slide_type": "slide"
    }
   },
   "source": [
    "<table align=\"left\">\n",
    "  <td>\n",
    "    <a href=\"https://colab.research.google.com/github/marco-canas/intro-Machine-Learning/blob/main/examples_bank/6_clasificacion/asignacion_parcial_2_regresion_clasificacion.ipynb\" target=\"_parent\"><img src=\"https://colab.research.google.com/assets/colab-badge.svg\" alt=\"Open In Colab\"/></a>\n",
    "  </td>\n",
    "</table> "
   ]
  },
  {
   "cell_type": "markdown",
   "id": "efefe8b0",
   "metadata": {
    "slideshow": {
     "slide_type": "slide"
    }
   },
   "source": [
    "# Clasificación binaria con el dataset de florez de iris "
   ]
  },
  {
   "cell_type": "markdown",
   "id": "ef2cebba",
   "metadata": {
    "slideshow": {
     "slide_type": "slide"
    }
   },
   "source": [
    "## [Video de apoyo](https://www.youtube.com/watch?v=mny9T2esp4A)"
   ]
  },
  {
   "cell_type": "markdown",
   "id": "90291fde",
   "metadata": {
    "slideshow": {
     "slide_type": "slide"
    }
   },
   "source": [
    "# Dataset inicial: load_iris  \n",
    "\n",
    "# TAREA  \n",
    "\n",
    "Caso 1: Constuir un clasificador binario detector de virginica  (One_vs_Rest)  \n",
    "Caso 2: Constuir un clasificador binario versicolor vs virginica  (One_vs_One)\n",
    "\n",
    "# ATRIBUTOS  \n",
    "Caso 1:  \n",
    "atributo 1: Longitud de sépalo  \n",
    "atributo 2: ancho de sépalo  \n",
    "\n",
    "Caso 2:  \n",
    "atributo 1: Longitud de pétalo  \n",
    "atributo 2: ancho de pétalo  \n",
    "\n",
    "Caso 3:  \n",
    "atributo 1: Producto entre longitud y ancho de sépalo  \n",
    "atributo 2: Producto entre longitud y ancho de pétalo  \n",
    "\n",
    "# MODELOS  \n",
    "Caso 1: SGDClassifier y LogisticRegression  \n",
    "Caso 2: SGDClassifier y KNeighborsClassifier  \n",
    "Caso 3: LogisticRegression y KNeighborsClassifier  \n",
    "\n",
    "Parciales:  \n",
    "{TAREA: Caso 1, ATRIBUTOS: Caso 1, MODELOS: Caso 1}    \n",
    "{TAREA: Caso 1, ATRIBUTOS: Caso 1, MODELOS: Caso 2}   \n",
    "{TAREA: Caso 1, ATRIBUTOS: Caso 1, MODELOS: Caso 3}   \n",
    "{TAREA: Caso 1, ATRIBUTOS: Caso 2, MODELOS: Caso 1}   \n",
    "{TAREA: Caso 1, ATRIBUTOS: Caso 2, MODELOS: Caso 2}     \n",
    "{TAREA: Caso 1, ATRIBUTOS: Caso 2, MODELOS: Caso 3}     \n",
    "{TAREA: Caso 1, ATRIBUTOS: Caso 3, MODELOS: Caso 1}     \n",
    "{TAREA: Caso 1, ATRIBUTOS: Caso 3, MODELOS: Caso 2}     \n",
    "{TAREA: Caso 1, ATRIBUTOS: Caso 3, MODELOS: Caso 3}    \n",
    "{TAREA: Caso 2, ATRIBUTOS: Caso 1, MODELOS: Caso 1}    \n",
    "{TAREA: Caso 2, ATRIBUTOS: Caso 1, MODELOS: Caso 2}   \n",
    "{TAREA: Caso 2, ATRIBUTOS: Caso 1, MODELOS: Caso 3}     \n",
    "{TAREA: Caso 2, ATRIBUTOS: Caso 2, MODELOS: Caso 1}     \n",
    "{TAREA: Caso 2, ATRIBUTOS: Caso 2, MODELOS: Caso 2}     \n",
    "{TAREA: Caso 2, ATRIBUTOS: Caso 2, MODELOS: Caso 3}     \n",
    "{TAREA: Caso 2, ATRIBUTOS: Caso 3, MODELOS: Caso 1}     \n",
    "{TAREA: Caso 2, ATRIBUTOS: Caso 3, MODELOS: Caso 2}     \n",
    "{TAREA: Caso 2, ATRIBUTOS: Caso 3, MODELOS: Caso 3}     \n",
    "\n"
   ]
  },
  {
   "cell_type": "markdown",
   "id": "e905edf6",
   "metadata": {
    "slideshow": {
     "slide_type": "slide"
    }
   },
   "source": [
    "# Paso a paso "
   ]
  },
  {
   "cell_type": "markdown",
   "id": "f7f4794e",
   "metadata": {
    "slideshow": {
     "slide_type": "slide"
    }
   },
   "source": [
    "## Punto 1"
   ]
  },
  {
   "cell_type": "markdown",
   "id": "ddee2bca",
   "metadata": {
    "slideshow": {
     "slide_type": "slide"
    }
   },
   "source": [
    "*  Tome el dataset `load_iris` y constituya el arreglo de imágenes $\\mathbf{X}$ y el de etiquetas $\\mathbf{y}$ como arreglos de numpy de valores de tipo `float64`.   \n",
    "\n",
    "*  Divida el dataset `(X,y)` en cuatro subconjuntos `X_train, X_test, y_train, y_test` para entrenamiento y prueba del modelo predictivo de clasificación que se le asigne, pero para esta tarea relice muestreo estratificado utilizando la clase `StratifiedShuffleSplit` del `model_selection` de Sklearn. "
   ]
  },
  {
   "cell_type": "markdown",
   "id": "6201cf1f",
   "metadata": {
    "slideshow": {
     "slide_type": "slide"
    }
   },
   "source": [
    "## Punto 2"
   ]
  },
  {
   "cell_type": "markdown",
   "id": "cf8e566f",
   "metadata": {
    "slideshow": {
     "slide_type": "slide"
    }
   },
   "source": [
    "* Después de haber seleccionado los atributos predictores asignados, escale los datos utilizando la clase `MaxMinScaler` o la clase `StandardScaler` del módulo `preprocessing` de sklearn. \n",
    "\n",
    "* Instancie y entrene los modelos asignados.   "
   ]
  },
  {
   "cell_type": "markdown",
   "id": "e447b088",
   "metadata": {
    "slideshow": {
     "slide_type": "slide"
    }
   },
   "source": [
    "## Punto 3 "
   ]
  },
  {
   "cell_type": "markdown",
   "id": "5bd317af",
   "metadata": {
    "slideshow": {
     "slide_type": "slide"
    }
   },
   "source": [
    "Para la selección de modelos utilice la metodología de validación cruzada y para esta puntuación utilice la función `cross_val_predict` del módulo `model_selection` de sklearn con 10 hojas de validación(`cv = 10`).\n",
    "\n",
    "y mida el desempeño en el conjunto de entrenamiento con la función `f1_score` del módulo `metrics` de Sklearn. \n",
    "\n",
    " "
   ]
  },
  {
   "cell_type": "markdown",
   "id": "ea1f82c2",
   "metadata": {
    "slideshow": {
     "slide_type": "slide"
    }
   },
   "source": [
    " y luego afine el modelo seleccionado con la metodología de Grilla de hiperparámetros (`GridSearchCV(scoring = 'f1_macro'`)). \n",
    "\n",
    "* Para el `SGDClassifier` utilice los hiperparámetros:\n",
    "  * `alpha` con valores `[10**-1, 10**-2]`, \n",
    "  * `learning_rate` con valores en la lista `['constant']`, \n",
    "  * `eta0` con valores en la lista `[0.1,0.01, 0.001]` y \n",
    "  * `penalty` con valores en la lista `['l1', 'l2']`.\n",
    "\n",
    "* Para el `KNeighborsClassifier` utilice los hiperparámetros:\n",
    "  * `n_neighbors` con valores en la lista `[3,4,5,6,7]`, \n",
    "  * `weights` con valores en la lista `['uniform', 'distance']`.\n",
    "\n",
    "* Para `LogisticRegression` utilice los hiperparámetros:\n",
    "  * `penalty` con valores en la lista `['l2']`, y  \n",
    "  * `C` con valores en la lista `[10**0, 10**-1, 10**-2]`. \n",
    "\n",
    "* Capture el mejor modelo utilizando el atributo de inspección `best_estimator_`"
   ]
  },
  {
   "cell_type": "markdown",
   "id": "562e11f9",
   "metadata": {
    "slideshow": {
     "slide_type": "slide"
    }
   },
   "source": [
    "## Punto 4"
   ]
  },
  {
   "cell_type": "markdown",
   "id": "5298befd",
   "metadata": {
    "slideshow": {
     "slide_type": "slide"
    }
   },
   "source": [
    "* Verifique que el desempeño en el conjunto de testeo es cercano al determinado en el conunto de entrenamiento.   \n",
    "\n",
    "* cuantifique el desmpeño de su modelo final en el conjunto de testeo usando el método `f1_score(y_test, y_test_pred)`"
   ]
  },
  {
   "cell_type": "markdown",
   "id": "d0d5513f",
   "metadata": {
    "slideshow": {
     "slide_type": "slide"
    }
   },
   "source": [
    "# Solución del Caso I"
   ]
  },
  {
   "cell_type": "markdown",
   "id": "59307541",
   "metadata": {
    "slideshow": {
     "slide_type": "slide"
    }
   },
   "source": [
    "{TAREA: Caso 1, ATRIBUTOS: Caso 1, MODELOS: Caso 1}    \n",
    "Constuir un clasificador binario detector de **virginica**   \n",
    "atributo 1: **Longitud de sépalo**  \n",
    "atributo 2: **ancho de sépalo**   \n",
    "Modelos: **SGDClassifier** y **LogisticRegression**  \n"
   ]
  },
  {
   "cell_type": "markdown",
   "id": "3b991288",
   "metadata": {
    "slideshow": {
     "slide_type": "slide"
    }
   },
   "source": [
    "# Librerías necesarias"
   ]
  },
  {
   "cell_type": "code",
   "execution_count": 42,
   "id": "c45c4b42",
   "metadata": {
    "slideshow": {
     "slide_type": "slide"
    }
   },
   "outputs": [],
   "source": [
    "import numpy as np \n",
    "import pandas as pd \n",
    "\n",
    "import matplotlib.pyplot as plt \n",
    "\n",
    "#obtención de datos \n",
    "from sklearn.datasets import load_iris \n",
    "\n",
    "# automatizar la selección de atributos \n",
    "from sklearn.base import BaseEstimator, TransformerMixin \n",
    "\n",
    "# muestreo estratificado\n",
    "from sklearn.model_selection import StratifiedShuffleSplit\n",
    "\n",
    "#modelos a seleccionar\n",
    "from sklearn.linear_model import SGDClassifier\n",
    "from sklearn.linear_model import LogisticRegression \n",
    "from sklearn.neighbors import KNeighborsClassifier \n",
    "\n",
    "# para el criterio de selección de modelos\n",
    "from sklearn.model_selection import cross_val_predict\n",
    "from sklearn.metrics import f1_score \n",
    "\n",
    "# para afinamiento del modelo\n",
    "from sklearn.model_selection import GridSearchCV \n"
   ]
  },
  {
   "cell_type": "markdown",
   "id": "9ee4370d",
   "metadata": {
    "slideshow": {
     "slide_type": "slide"
    }
   },
   "source": [
    "# Obtención de los datos "
   ]
  },
  {
   "cell_type": "code",
   "execution_count": 3,
   "id": "261bb33f",
   "metadata": {
    "slideshow": {
     "slide_type": "slide"
    }
   },
   "outputs": [],
   "source": [
    "X,y = load_iris(return_X_y = True) "
   ]
  },
  {
   "cell_type": "markdown",
   "id": "65b1e49a",
   "metadata": {
    "slideshow": {
     "slide_type": "slide"
    }
   },
   "source": [
    "# Selección de los atributos predictores "
   ]
  },
  {
   "cell_type": "code",
   "execution_count": 11,
   "id": "c6103b82",
   "metadata": {
    "slideshow": {
     "slide_type": "slide"
    }
   },
   "outputs": [],
   "source": [
    "class selecciona_atributos(BaseEstimator, TransformerMixin):\n",
    "    def __init__(self, sepal_length = True, sepal_width = True, \\\n",
    "                petal_length = False, petal_width = False):\n",
    "        self.sepal_length = sepal_length\n",
    "        self.sepal_width = sepal_width\n",
    "        self.petal_length = petal_length\n",
    "        self.petal_width = petal_width\n",
    "    def fit(self, X, y = None):\n",
    "        return self\n",
    "    def transform(self, X, y = None):\n",
    "        sepal_length, sepal_width, petal_length, petal_width = 0,1,2,3\n",
    "        if self.sepal_length:\n",
    "            a = X[:,sepal_length]\n",
    "        else:\n",
    "            a = np.array([0])\n",
    "        if self.sepal_width:\n",
    "            b = X[:,sepal_width]\n",
    "        else:\n",
    "            b = np.array([0])\n",
    "        if self.petal_length:\n",
    "            c = X[:,petal_length]\n",
    "        else:\n",
    "            c = np.array([0])  \n",
    "        if self.petal_width:\n",
    "            d = X[:,petal_width]\n",
    "        else:\n",
    "            d = np.array([0])\n",
    "        atributos = [a,b,c,d]  \n",
    "        lista_atributos_seleccionados = []\n",
    "        for atributo in atributos:\n",
    "            if atributo.any():\n",
    "                lista_atributos_seleccionados.append(atributo) \n",
    "        return np.c_[lista_atributos_seleccionados].T        "
   ]
  },
  {
   "cell_type": "code",
   "execution_count": 12,
   "id": "4f88a092",
   "metadata": {
    "slideshow": {
     "slide_type": "slide"
    }
   },
   "outputs": [],
   "source": [
    "seleccionador_atributos = selecciona_atributos(sepal_length = True, sepal_width = True, \\\n",
    "                petal_length = True, petal_width = True)"
   ]
  },
  {
   "cell_type": "code",
   "execution_count": 13,
   "id": "4f0371e9",
   "metadata": {
    "slideshow": {
     "slide_type": "slide"
    }
   },
   "outputs": [],
   "source": [
    "X_selecionados = seleccionador_atributos.fit_transform(X)"
   ]
  },
  {
   "cell_type": "code",
   "execution_count": 14,
   "id": "7f03cfab",
   "metadata": {
    "slideshow": {
     "slide_type": "slide"
    }
   },
   "outputs": [],
   "source": [
    "X = X_selecionados"
   ]
  },
  {
   "cell_type": "markdown",
   "id": "8eaae4f1",
   "metadata": {},
   "source": [
    "# Configuración de las etiquetas para un detector de vigínicas "
   ]
  },
  {
   "cell_type": "code",
   "execution_count": 15,
   "id": "31007a6c",
   "metadata": {
    "slideshow": {
     "slide_type": "slide"
    }
   },
   "outputs": [],
   "source": [
    "y_virginica = (y==2)"
   ]
  },
  {
   "cell_type": "code",
   "execution_count": 16,
   "id": "7a90c498",
   "metadata": {
    "slideshow": {
     "slide_type": "slide"
    }
   },
   "outputs": [],
   "source": [
    "y = y_virginica "
   ]
  },
  {
   "cell_type": "markdown",
   "id": "47e9e2e7",
   "metadata": {
    "slideshow": {
     "slide_type": "slide"
    }
   },
   "source": [
    "# Dividir en entrenamiento y testeo de manera estratificada "
   ]
  },
  {
   "cell_type": "code",
   "execution_count": 17,
   "id": "3b35dec7",
   "metadata": {
    "slideshow": {
     "slide_type": "slide"
    }
   },
   "outputs": [],
   "source": [
    "sss = StratifiedShuffleSplit(n_splits = 1, random_state = 42, test_size = 0.1 ) "
   ]
  },
  {
   "cell_type": "code",
   "execution_count": 18,
   "id": "1e9e4fa9",
   "metadata": {
    "slideshow": {
     "slide_type": "slide"
    }
   },
   "outputs": [],
   "source": [
    "for train_index, test_index in sss.split(X,y):\n",
    "    X_train,X_test = X[train_index], X[test_index]\n",
    "    y_train,y_test = y[train_index], y[test_index] "
   ]
  },
  {
   "cell_type": "code",
   "execution_count": 19,
   "id": "bc6ffe50",
   "metadata": {
    "slideshow": {
     "slide_type": "slide"
    }
   },
   "outputs": [
    {
     "data": {
      "image/png": "[encoded data removed]",
      "text/plain": [
       "<Figure size 1440x432 with 3 Axes>"
      ]
     },
     "metadata": {
      "needs_background": "light"
     },
     "output_type": "display_data"
    }
   ],
   "source": [
    "import matplotlib.pyplot as plt \n",
    "\n",
    "fig, ax = plt.subplots(1,3, figsize = (20,6))\n",
    "\n",
    "ax[0].hist(y*1)\n",
    "ax[0].grid() \n",
    "ax[1].hist(y_train*1)\n",
    "ax[1].grid() \n",
    "ax[2].hist(y_test*1) \n",
    "ax[2].grid() \n",
    "\n",
    "plt.savefig('estratificado.jpg')\n",
    "\n",
    "plt.show() "
   ]
  },
  {
   "cell_type": "code",
   "execution_count": 20,
   "id": "f65c2fc4",
   "metadata": {
    "slideshow": {
     "slide_type": "slide"
    }
   },
   "outputs": [],
   "source": [
    "from sklearn.preprocessing import StandardScaler "
   ]
  },
  {
   "cell_type": "code",
   "execution_count": 21,
   "id": "18304db4",
   "metadata": {
    "slideshow": {
     "slide_type": "slide"
    }
   },
   "outputs": [],
   "source": [
    "escalador = StandardScaler() "
   ]
  },
  {
   "cell_type": "code",
   "execution_count": 22,
   "id": "032e337e",
   "metadata": {},
   "outputs": [
    {
     "data": {
      "text/plain": [
       "StandardScaler()"
      ]
     },
     "execution_count": 22,
     "metadata": {},
     "output_type": "execute_result"
    }
   ],
   "source": [
    "escalador.fit(X_train)"
   ]
  },
  {
   "cell_type": "code",
   "execution_count": 23,
   "id": "d04c681e",
   "metadata": {
    "slideshow": {
     "slide_type": "slide"
    }
   },
   "outputs": [],
   "source": [
    "X_train_escalado = escalador.transform(X_train) "
   ]
  },
  {
   "cell_type": "code",
   "execution_count": 24,
   "id": "018e535f",
   "metadata": {
    "slideshow": {
     "slide_type": "slide"
    }
   },
   "outputs": [],
   "source": [
    "X_train= X_train_escalado "
   ]
  },
  {
   "cell_type": "code",
   "execution_count": 25,
   "id": "a83cc452",
   "metadata": {
    "slideshow": {
     "slide_type": "slide"
    }
   },
   "outputs": [],
   "source": [
    "sgd_clf = SGDClassifier(max_iter = 1000, random_state = 42, tol = 1e-3) \n",
    "lr_clf = LogisticRegression() "
   ]
  },
  {
   "cell_type": "code",
   "execution_count": 26,
   "id": "b4262ea7",
   "metadata": {
    "slideshow": {
     "slide_type": "slide"
    }
   },
   "outputs": [
    {
     "data": {
      "text/plain": [
       "LogisticRegression()"
      ]
     },
     "execution_count": 26,
     "metadata": {},
     "output_type": "execute_result"
    }
   ],
   "source": [
    "sgd_clf.fit(X_train,y_train)\n",
    "lr_clf.fit(X_train,y_train)"
   ]
  },
  {
   "cell_type": "code",
   "execution_count": 27,
   "id": "ebbc55f5",
   "metadata": {
    "slideshow": {
     "slide_type": "slide"
    }
   },
   "outputs": [],
   "source": [
    "y_train_pred_sgd = cross_val_predict(sgd_clf, X_train,y_train, cv = 10)\n",
    "y_train_pred_lr = cross_val_predict(lr_clf, X_train,y_train, cv = 10)"
   ]
  },
  {
   "cell_type": "code",
   "execution_count": 28,
   "id": "5e014def",
   "metadata": {
    "slideshow": {
     "slide_type": "slide"
    }
   },
   "outputs": [
    {
     "data": {
      "text/plain": [
       "0.9545454545454545"
      ]
     },
     "execution_count": 28,
     "metadata": {},
     "output_type": "execute_result"
    }
   ],
   "source": [
    "f1_score(y_train,y_train_pred_sgd)\n"
   ]
  },
  {
   "cell_type": "code",
   "execution_count": 29,
   "id": "4eed90ba",
   "metadata": {
    "slideshow": {
     "slide_type": "slide"
    }
   },
   "outputs": [
    {
     "data": {
      "text/plain": [
       "0.9333333333333333"
      ]
     },
     "execution_count": 29,
     "metadata": {},
     "output_type": "execute_result"
    }
   ],
   "source": [
    "f1_score(y_train,y_train_pred_lr)\n"
   ]
  },
  {
   "cell_type": "markdown",
   "id": "440325c2",
   "metadata": {
    "slideshow": {
     "slide_type": "slide"
    }
   },
   "source": [
    "Tomaremos o seleccionaremos el modelo SGDClassifier como el mejor "
   ]
  },
  {
   "cell_type": "code",
   "execution_count": null,
   "id": "9a132169",
   "metadata": {
    "slideshow": {
     "slide_type": "slide"
    }
   },
   "outputs": [],
   "source": [
    "grid_param_lr = {'penalty':['l2'],\\\n",
    "                'C':[10**0, 10**-1, 10**-2]}\n",
    "\n",
    "#* Para `LogisticRegression` utilice los hiperparámetros:\n",
    "#  * `penalty` con valores en la lista `['l2']`, y  \n",
    "#  * `C` con valores en la lista `[10**0, 10**-1, 10**-2]`. "
   ]
  },
  {
   "cell_type": "code",
   "execution_count": 30,
   "id": "a4a9f42d",
   "metadata": {
    "slideshow": {
     "slide_type": "slide"
    }
   },
   "outputs": [],
   "source": [
    "grid_param_sgd = {'alpha':[10**-1, 10**-2], \\\n",
    "             'learning_rate':['constant'],\\\n",
    "             'eta0':[0.1,0.01, 0.001],\n",
    "             'penalty':['l1', 'l2']}\n",
    "\n",
    "# * Para el `SGDClassifier` utilice los pararámetros de `alpha` con valores `[10**-1, 10**-2]`,\\\n",
    "# `learning_rate` con valores en la lista `['constant']`, \n",
    "# `eta0` con valores en la lista `[0.1,0.01, 0.001]` y `penalty` con valores en la lista `['l1', 'l2']`.\n"
   ]
  },
  {
   "cell_type": "code",
   "execution_count": null,
   "id": "3405040e",
   "metadata": {
    "slideshow": {
     "slide_type": "slide"
    }
   },
   "outputs": [],
   "source": [
    "grid_param_knn = {'n_neighbors':[3,4,5,6,7],\\\n",
    "                 'weights':['uniform', 'distance']}\n",
    "\n",
    "#Para el KNeighborsClassifier utilice los hiperparámetros:\n",
    "#    n_neighbors con valores en la lista [3,4,5,6,7],\n",
    "#    weights con valores en la lista ['uniform', 'distance'].\n",
    "\n"
   ]
  },
  {
   "cell_type": "code",
   "execution_count": 32,
   "id": "f3b1a97c",
   "metadata": {
    "slideshow": {
     "slide_type": "slide"
    }
   },
   "outputs": [],
   "source": [
    "grid_search = GridSearchCV(sgd_clf, grid_param_sgd, cv = 10, scoring = 'f1_macro',\\\n",
    "                          return_train_score=True)"
   ]
  },
  {
   "cell_type": "code",
   "execution_count": 33,
   "id": "34d30fb2",
   "metadata": {
    "slideshow": {
     "slide_type": "slide"
    }
   },
   "outputs": [
    {
     "data": {
      "text/plain": [
       "GridSearchCV(cv=10, estimator=SGDClassifier(random_state=42),\n",
       "             param_grid={'alpha': [0.1, 0.01], 'eta0': [0.1, 0.01, 0.001],\n",
       "                         'learning_rate': ['constant'],\n",
       "                         'penalty': ['l1', 'l2']},\n",
       "             return_train_score=True, scoring='f1_macro')"
      ]
     },
     "execution_count": 33,
     "metadata": {},
     "output_type": "execute_result"
    }
   ],
   "source": [
    "grid_search.fit(X_train,y_train)"
   ]
  },
  {
   "cell_type": "code",
   "execution_count": 34,
   "id": "395f0152",
   "metadata": {
    "slideshow": {
     "slide_type": "slide"
    }
   },
   "outputs": [],
   "source": [
    "mejor_modelo = grid_search.best_estimator_"
   ]
  },
  {
   "cell_type": "code",
   "execution_count": 35,
   "id": "aa536bdf",
   "metadata": {
    "slideshow": {
     "slide_type": "slide"
    }
   },
   "outputs": [],
   "source": [
    "y_train_pred_sgd = cross_val_predict(mejor_modelo, X_train,y_train, cv = 10)"
   ]
  },
  {
   "cell_type": "code",
   "execution_count": 36,
   "id": "d647d1a0",
   "metadata": {
    "slideshow": {
     "slide_type": "slide"
    }
   },
   "outputs": [
    {
     "data": {
      "text/plain": [
       "0.9565217391304347"
      ]
     },
     "execution_count": 36,
     "metadata": {},
     "output_type": "execute_result"
    }
   ],
   "source": [
    "f1_score(y_train, y_train_pred_sgd)"
   ]
  },
  {
   "cell_type": "code",
   "execution_count": 37,
   "id": "5bc7b730",
   "metadata": {
    "slideshow": {
     "slide_type": "slide"
    }
   },
   "outputs": [],
   "source": [
    "X_test_escalado = escalador.transform(X_test)"
   ]
  },
  {
   "cell_type": "code",
   "execution_count": 39,
   "id": "c645ee78",
   "metadata": {
    "slideshow": {
     "slide_type": "slide"
    }
   },
   "outputs": [],
   "source": [
    "y_test_pred_sgd = mejor_modelo.predict(X_test_escalado) "
   ]
  },
  {
   "cell_type": "code",
   "execution_count": 40,
   "id": "1cdf30b7",
   "metadata": {
    "slideshow": {
     "slide_type": "slide"
    }
   },
   "outputs": [
    {
     "data": {
      "text/plain": [
       "1.0"
      ]
     },
     "execution_count": 40,
     "metadata": {},
     "output_type": "execute_result"
    }
   ],
   "source": [
    "f1_score(y_test,y_test_pred_sgd)"
   ]
  },
  {
   "cell_type": "markdown",
   "id": "f99dfc7f",
   "metadata": {
    "slideshow": {
     "slide_type": "slide"
    }
   },
   "source": [
    "# Grafiquemos los datos y la recta clasificadora determinada"
   ]
  },
  {
   "cell_type": "code",
   "execution_count": 48,
   "id": "814385d0",
   "metadata": {
    "slideshow": {
     "slide_type": "slide"
    }
   },
   "outputs": [
    {
     "data": {
      "image/png": "[encoded data removed]",
      "text/plain": [
       "<Figure size 432x288 with 1 Axes>"
      ]
     },
     "metadata": {
      "needs_background": "light"
     },
     "output_type": "display_data"
    }
   ],
   "source": [
    "plt.scatter(X[:,1][y==False], X[:,3][y==False])\n",
    "plt.scatter(X[:,1][y==True], X[:,3][y==True])\n",
    "\n",
    "plt.savefig('mejor_predictores.jpg')"
   ]
  },
  {
   "cell_type": "markdown",
   "id": "177cb5ab",
   "metadata": {
    "slideshow": {
     "slide_type": "slide"
    }
   },
   "source": [
    "## Referentes:\n",
    "\n",
    "* La clase LogisticRegression de sklearn: https://scikit-learn.org/stable/modules/generated/sklearn.linear_model.LogisticRegression.html  \n",
    "\n",
    "* La clase KNeighborsClassifier de sklearn: https://scikit-learn.org/stable/modules/generated/sklearn.neighbors.KNeighborsClassifier.html"
   ]
  },
  {
   "cell_type": "code",
   "execution_count": null,
   "id": "5ae04ede",
   "metadata": {
    "slideshow": {
     "slide_type": "slide"
    }
   },
   "outputs": [],
   "source": []
  }
 ],
 "metadata": {
  "celltoolbar": "Slideshow",
  "kernelspec": {
   "display_name": "Python 3 (ipykernel)",
   "language": "python",
   "name": "python3"
  },
  "language_info": {
   "codemirror_mode": {
    "name": "ipython",
    "version": 3
   },
   "file_extension": ".py",
   "mimetype": "text/x-python",
   "name": "python",
   "nbconvert_exporter": "python",
   "pygments_lexer": "ipython3",
   "version": "3.9.7"
  }
 },
 "nbformat": 4,
 "nbformat_minor": 5
}
