{
 "cells": [
  {
   "cell_type": "markdown",
   "id": "46857ddd",
   "metadata": {
    "slideshow": {
     "slide_type": "slide"
    }
   },
   "source": [
    "<table align=\"left\">\n",
    "  <td>\n",
    "    <a href=\"https://colab.research.google.com/github/marco-canas/intro-Machine-Learning/blob/main/examples_bank/5_sklearn/muestreo_estratificado.ipynb\" target=\"_parent\"><img src=\"https://colab.research.google.com/assets/colab-badge.svg\" alt=\"Open In Colab\"/></a>\n",
    "  </td>\n",
    "</table>"
   ]
  },
  {
   "cell_type": "markdown",
   "id": "67f1382a",
   "metadata": {
    "slideshow": {
     "slide_type": "slide"
    }
   },
   "source": [
    "# Muestreo estratificado"
   ]
  },
  {
   "cell_type": "markdown",
   "id": "d7a067cf",
   "metadata": {
    "slideshow": {
     "slide_type": "slide"
    }
   },
   "source": [
    "## [Video 1 de apoyo Muestreo estratificado. Descripción proceso](https://www.youtube.com/watch?v=1vbDdz4CTU0)"
   ]
  },
  {
   "cell_type": "markdown",
   "id": "e1bb1c2e",
   "metadata": {
    "slideshow": {
     "slide_type": "slide"
    }
   },
   "source": [
    "## [Video 2 de apoyo Muestreo estratificado. Práctica de codificación]()"
   ]
  },
  {
   "cell_type": "markdown",
   "id": "bb1df7f4",
   "metadata": {
    "slideshow": {
     "slide_type": "slide"
    }
   },
   "source": [
    "Hasta ahora hemos considerado métodos de muestreo puramente aleatorios."
   ]
  },
  {
   "cell_type": "markdown",
   "id": "ff849895",
   "metadata": {
    "slideshow": {
     "slide_type": "slide"
    }
   },
   "source": [
    "Esto generalmente está bien si su conjunto de datos es lo suficientemente grande (especialmente en relación con la cantidad de atributos), pero si no lo es, corre el riesgo de introducir un sesgo de muestreo significativo."
   ]
  },
  {
   "cell_type": "markdown",
   "id": "99506392",
   "metadata": {
    "slideshow": {
     "slide_type": "slide"
    }
   },
   "source": [
    "Cuando una empresa de encuestas decide llamar a 1000 personas para hacerles algunas preguntas, no elige a 1000 personas al azar en una guía telefónica."
   ]
  },
  {
   "cell_type": "markdown",
   "id": "6bf50ded",
   "metadata": {
    "slideshow": {
     "slide_type": "slide"
    }
   },
   "source": [
    "Intentan asegurarse de que estas 1.000 personas sean representativas de toda la población."
   ]
  },
  {
   "cell_type": "markdown",
   "id": "c8d9090f",
   "metadata": {
    "slideshow": {
     "slide_type": "slide"
    }
   },
   "source": [
    "Por ejemplo, la población de EE.UU. es 51,3 % de mujeres y 48,7 % de hombres, por lo que una encuesta bien realizada en EE. UU. intentaría mantener esta proporción en la muestra: 513 mujeres y 487 hombres."
   ]
  },
  {
   "cell_type": "markdown",
   "id": "6342d3cb",
   "metadata": {
    "slideshow": {
     "slide_type": "slide"
    }
   },
   "source": [
    "Esto se denomina muestreo estratificado: la población se divide en subgrupos homogéneos llamados estratos, y se muestrea el número correcto de instancias de cada estrato para garantizar que el conjunto de prueba sea representativo de la población general."
   ]
  },
  {
   "cell_type": "markdown",
   "id": "22ed2ab8",
   "metadata": {
    "slideshow": {
     "slide_type": "slide"
    }
   },
   "source": [
    "Si las personas que realizan la encuesta usaran un muestreo puramente aleatorio, habría alrededor de un 12 % de posibilidades de muestrear un conjunto de prueba sesgado que tuviera menos del 49 % de mujeres o más del 54 % de mujeres."
   ]
  },
  {
   "cell_type": "markdown",
   "id": "bbe6f7e4",
   "metadata": {
    "slideshow": {
     "slide_type": "slide"
    }
   },
   "source": [
    "De cualquier manera, los resultados de la encuesta estarían significativamente sesgados."
   ]
  },
  {
   "cell_type": "markdown",
   "id": "5c525ddd",
   "metadata": {
    "slideshow": {
     "slide_type": "slide"
    }
   },
   "source": [
    "Suponga que conversó con expertos que le dijeron que el ingreso medio es un atributo muy importante para predecir los precios medios de la vivienda."
   ]
  },
  {
   "cell_type": "markdown",
   "id": "1557509e",
   "metadata": {
    "slideshow": {
     "slide_type": "slide"
    }
   },
   "source": [
    "Es posible que desee asegurarse de que el conjunto de prueba sea representativo de las diversas categorías de ingresos en todo el conjunto de datos."
   ]
  },
  {
   "cell_type": "markdown",
   "id": "429da4fe",
   "metadata": {
    "slideshow": {
     "slide_type": "slide"
    }
   },
   "source": [
    "Dado que el ingreso medio es un atributo numérico continuo, primero debe crear un atributo categórico de ingresos."
   ]
  },
  {
   "cell_type": "markdown",
   "id": "3e139fc3",
   "metadata": {
    "slideshow": {
     "slide_type": "slide"
    }
   },
   "source": [
    "Miremos más de cerca el histograma de ingreso medio"
   ]
  },
  {
   "cell_type": "code",
   "execution_count": 1,
   "id": "30234211",
   "metadata": {
    "slideshow": {
     "slide_type": "slide"
    }
   },
   "outputs": [
    {
     "data": {
      "text/plain": [
       "count    20640.000000\n",
       "mean         3.870671\n",
       "std          1.899822\n",
       "min          0.499900\n",
       "25%          2.563400\n",
       "50%          3.534800\n",
       "75%          4.743250\n",
       "max         15.000100\n",
       "Name: ingresos, dtype: float64"
      ]
     },
     "execution_count": 1,
     "metadata": {},
     "output_type": "execute_result"
    }
   ],
   "source": [
    "import pandas as pd\n",
    "v = pd.read_csv('vivienda.csv') \n",
    "v.describe().ingresos "
   ]
  },
  {
   "cell_type": "code",
   "execution_count": 2,
   "id": "abefbbbb",
   "metadata": {
    "slideshow": {
     "slide_type": "slide"
    }
   },
   "outputs": [
    {
     "data": {
      "text/plain": [
       "<AxesSubplot:>"
      ]
     },
     "execution_count": 2,
     "metadata": {},
     "output_type": "execute_result"
    },
    {
     "data": {
      "image/png": "[encoded data removed]",
      "text/plain": [
       "<Figure size 432x288 with 1 Axes>"
      ]
     },
     "metadata": {
      "needs_background": "light"
     },
     "output_type": "display_data"
    }
   ],
   "source": [
    "v.ingresos.hist(bins = 50) "
   ]
  },
  {
   "cell_type": "markdown",
   "id": "d1f37353",
   "metadata": {
    "slideshow": {
     "slide_type": "slide"
    }
   },
   "source": [
    "La mayoría de los valores de ingreso medio están agrupados alrededor de 1.5 a 6 (es decir, $15,000–$60,000), pero algunos los ingresos van mucho más allá de 6."
   ]
  },
  {
   "cell_type": "markdown",
   "id": "938caffc",
   "metadata": {
    "slideshow": {
     "slide_type": "slide"
    }
   },
   "source": [
    "Es importante tener una cantidad suficiente de instancias en su conjunto de datos para cada estrato, de lo contrario, la estimación de la importancia de un estrato puede estar sesgada."
   ]
  },
  {
   "cell_type": "markdown",
   "id": "ed6ab7a1",
   "metadata": {
    "slideshow": {
     "slide_type": "slide"
    }
   },
   "source": [
    "Esto significa que no debe tener demasiados estratos, y cada estrato debe ser lo suficientemente grande."
   ]
  },
  {
   "cell_type": "markdown",
   "id": "bd6ca849",
   "metadata": {
    "slideshow": {
     "slide_type": "slide"
    }
   },
   "source": [
    "* El siguiente código usa la función `pd.cut()` para crear un atributo categórico de ingresos  \n",
    "  con cinco categorías (etiquetadas del 1 al 5): \n",
    "* la categoría 1 va de 0 a 1,5 (es decir, menos de $15 000), \n",
    "* la categoría 2 de 1,5 a 3, y así:"
   ]
  },
  {
   "cell_type": "code",
   "execution_count": 3,
   "id": "d0d94d13",
   "metadata": {
    "slideshow": {
     "slide_type": "slide"
    }
   },
   "outputs": [],
   "source": [
    "import numpy as np \n",
    "import pandas as pd \n",
    "import matplotlib.pyplot as plt "
   ]
  },
  {
   "cell_type": "code",
   "execution_count": 4,
   "id": "1f43c538",
   "metadata": {
    "slideshow": {
     "slide_type": "slide"
    }
   },
   "outputs": [],
   "source": [
    "v = pd.read_csv('vivienda.csv') "
   ]
  },
  {
   "cell_type": "code",
   "execution_count": 5,
   "id": "05708b8e",
   "metadata": {
    "scrolled": true,
    "slideshow": {
     "slide_type": "slide"
    }
   },
   "outputs": [
    {
     "data": {
      "text/html": [
       "<div>\n",
       "<style scoped>\n",
       "    .dataframe tbody tr th:only-of-type {\n",
       "        vertical-align: middle;\n",
       "    }\n",
       "\n",
       "    .dataframe tbody tr th {\n",
       "        vertical-align: top;\n",
       "    }\n",
       "\n",
       "    .dataframe thead th {\n",
       "        text-align: right;\n",
       "    }\n",
       "</style>\n",
       "<table border=\"1\" class=\"dataframe\">\n",
       "  <thead>\n",
       "    <tr style=\"text-align: right;\">\n",
       "      <th></th>\n",
       "      <th>longitud</th>\n",
       "      <th>latitud</th>\n",
       "      <th>antiguedad</th>\n",
       "      <th>habitaciones</th>\n",
       "      <th>dormitorios</th>\n",
       "      <th>población</th>\n",
       "      <th>hogares</th>\n",
       "      <th>ingresos</th>\n",
       "      <th>proximidad</th>\n",
       "      <th>valor</th>\n",
       "    </tr>\n",
       "  </thead>\n",
       "  <tbody>\n",
       "    <tr>\n",
       "      <th>0</th>\n",
       "      <td>-122.23</td>\n",
       "      <td>37.88</td>\n",
       "      <td>41.0</td>\n",
       "      <td>880.0</td>\n",
       "      <td>129.0</td>\n",
       "      <td>322.0</td>\n",
       "      <td>126.0</td>\n",
       "      <td>8.3252</td>\n",
       "      <td>NEAR BAY</td>\n",
       "      <td>452600.0</td>\n",
       "    </tr>\n",
       "    <tr>\n",
       "      <th>1</th>\n",
       "      <td>-122.22</td>\n",
       "      <td>37.86</td>\n",
       "      <td>21.0</td>\n",
       "      <td>7099.0</td>\n",
       "      <td>1106.0</td>\n",
       "      <td>2401.0</td>\n",
       "      <td>1138.0</td>\n",
       "      <td>8.3014</td>\n",
       "      <td>NEAR BAY</td>\n",
       "      <td>358500.0</td>\n",
       "    </tr>\n",
       "    <tr>\n",
       "      <th>2</th>\n",
       "      <td>-122.24</td>\n",
       "      <td>37.85</td>\n",
       "      <td>52.0</td>\n",
       "      <td>1467.0</td>\n",
       "      <td>190.0</td>\n",
       "      <td>496.0</td>\n",
       "      <td>177.0</td>\n",
       "      <td>7.2574</td>\n",
       "      <td>NEAR BAY</td>\n",
       "      <td>352100.0</td>\n",
       "    </tr>\n",
       "  </tbody>\n",
       "</table>\n",
       "</div>"
      ],
      "text/plain": [
       "   longitud  latitud  antiguedad  habitaciones  dormitorios  población  \\\n",
       "0   -122.23    37.88        41.0         880.0        129.0      322.0   \n",
       "1   -122.22    37.86        21.0        7099.0       1106.0     2401.0   \n",
       "2   -122.24    37.85        52.0        1467.0        190.0      496.0   \n",
       "\n",
       "   hogares  ingresos proximidad     valor  \n",
       "0    126.0    8.3252   NEAR BAY  452600.0  \n",
       "1   1138.0    8.3014   NEAR BAY  358500.0  \n",
       "2    177.0    7.2574   NEAR BAY  352100.0  "
      ]
     },
     "execution_count": 5,
     "metadata": {},
     "output_type": "execute_result"
    }
   ],
   "source": [
    "v.head(3)"
   ]
  },
  {
   "cell_type": "code",
   "execution_count": 6,
   "id": "b8172042",
   "metadata": {
    "slideshow": {
     "slide_type": "slide"
    }
   },
   "outputs": [
    {
     "data": {
      "text/html": [
       "<div>\n",
       "<style scoped>\n",
       "    .dataframe tbody tr th:only-of-type {\n",
       "        vertical-align: middle;\n",
       "    }\n",
       "\n",
       "    .dataframe tbody tr th {\n",
       "        vertical-align: top;\n",
       "    }\n",
       "\n",
       "    .dataframe thead th {\n",
       "        text-align: right;\n",
       "    }\n",
       "</style>\n",
       "<table border=\"1\" class=\"dataframe\">\n",
       "  <thead>\n",
       "    <tr style=\"text-align: right;\">\n",
       "      <th></th>\n",
       "      <th>longitud</th>\n",
       "      <th>latitud</th>\n",
       "      <th>antiguedad</th>\n",
       "      <th>habitaciones</th>\n",
       "      <th>dormitorios</th>\n",
       "      <th>población</th>\n",
       "      <th>hogares</th>\n",
       "      <th>ingresos</th>\n",
       "      <th>valor</th>\n",
       "    </tr>\n",
       "  </thead>\n",
       "  <tbody>\n",
       "    <tr>\n",
       "      <th>count</th>\n",
       "      <td>20640.000000</td>\n",
       "      <td>20640.000000</td>\n",
       "      <td>20640.000000</td>\n",
       "      <td>20640.000000</td>\n",
       "      <td>20433.000000</td>\n",
       "      <td>20640.000000</td>\n",
       "      <td>20640.000000</td>\n",
       "      <td>20640.000000</td>\n",
       "      <td>20640.000000</td>\n",
       "    </tr>\n",
       "    <tr>\n",
       "      <th>mean</th>\n",
       "      <td>-119.569704</td>\n",
       "      <td>35.631861</td>\n",
       "      <td>28.639486</td>\n",
       "      <td>2635.763081</td>\n",
       "      <td>537.870553</td>\n",
       "      <td>1425.476744</td>\n",
       "      <td>499.539680</td>\n",
       "      <td>3.870671</td>\n",
       "      <td>206855.816909</td>\n",
       "    </tr>\n",
       "    <tr>\n",
       "      <th>std</th>\n",
       "      <td>2.003532</td>\n",
       "      <td>2.135952</td>\n",
       "      <td>12.585558</td>\n",
       "      <td>2181.615252</td>\n",
       "      <td>421.385070</td>\n",
       "      <td>1132.462122</td>\n",
       "      <td>382.329753</td>\n",
       "      <td>1.899822</td>\n",
       "      <td>115395.615874</td>\n",
       "    </tr>\n",
       "    <tr>\n",
       "      <th>min</th>\n",
       "      <td>-124.350000</td>\n",
       "      <td>32.540000</td>\n",
       "      <td>1.000000</td>\n",
       "      <td>2.000000</td>\n",
       "      <td>1.000000</td>\n",
       "      <td>3.000000</td>\n",
       "      <td>1.000000</td>\n",
       "      <td>0.499900</td>\n",
       "      <td>14999.000000</td>\n",
       "    </tr>\n",
       "    <tr>\n",
       "      <th>25%</th>\n",
       "      <td>-121.800000</td>\n",
       "      <td>33.930000</td>\n",
       "      <td>18.000000</td>\n",
       "      <td>1447.750000</td>\n",
       "      <td>296.000000</td>\n",
       "      <td>787.000000</td>\n",
       "      <td>280.000000</td>\n",
       "      <td>2.563400</td>\n",
       "      <td>119600.000000</td>\n",
       "    </tr>\n",
       "    <tr>\n",
       "      <th>50%</th>\n",
       "      <td>-118.490000</td>\n",
       "      <td>34.260000</td>\n",
       "      <td>29.000000</td>\n",
       "      <td>2127.000000</td>\n",
       "      <td>435.000000</td>\n",
       "      <td>1166.000000</td>\n",
       "      <td>409.000000</td>\n",
       "      <td>3.534800</td>\n",
       "      <td>179700.000000</td>\n",
       "    </tr>\n",
       "    <tr>\n",
       "      <th>75%</th>\n",
       "      <td>-118.010000</td>\n",
       "      <td>37.710000</td>\n",
       "      <td>37.000000</td>\n",
       "      <td>3148.000000</td>\n",
       "      <td>647.000000</td>\n",
       "      <td>1725.000000</td>\n",
       "      <td>605.000000</td>\n",
       "      <td>4.743250</td>\n",
       "      <td>264725.000000</td>\n",
       "    </tr>\n",
       "    <tr>\n",
       "      <th>max</th>\n",
       "      <td>-114.310000</td>\n",
       "      <td>41.950000</td>\n",
       "      <td>52.000000</td>\n",
       "      <td>39320.000000</td>\n",
       "      <td>6445.000000</td>\n",
       "      <td>35682.000000</td>\n",
       "      <td>6082.000000</td>\n",
       "      <td>15.000100</td>\n",
       "      <td>500001.000000</td>\n",
       "    </tr>\n",
       "  </tbody>\n",
       "</table>\n",
       "</div>"
      ],
      "text/plain": [
       "           longitud       latitud    antiguedad  habitaciones   dormitorios  \\\n",
       "count  20640.000000  20640.000000  20640.000000  20640.000000  20433.000000   \n",
       "mean    -119.569704     35.631861     28.639486   2635.763081    537.870553   \n",
       "std        2.003532      2.135952     12.585558   2181.615252    421.385070   \n",
       "min     -124.350000     32.540000      1.000000      2.000000      1.000000   \n",
       "25%     -121.800000     33.930000     18.000000   1447.750000    296.000000   \n",
       "50%     -118.490000     34.260000     29.000000   2127.000000    435.000000   \n",
       "75%     -118.010000     37.710000     37.000000   3148.000000    647.000000   \n",
       "max     -114.310000     41.950000     52.000000  39320.000000   6445.000000   \n",
       "\n",
       "          población       hogares      ingresos          valor  \n",
       "count  20640.000000  20640.000000  20640.000000   20640.000000  \n",
       "mean    1425.476744    499.539680      3.870671  206855.816909  \n",
       "std     1132.462122    382.329753      1.899822  115395.615874  \n",
       "min        3.000000      1.000000      0.499900   14999.000000  \n",
       "25%      787.000000    280.000000      2.563400  119600.000000  \n",
       "50%     1166.000000    409.000000      3.534800  179700.000000  \n",
       "75%     1725.000000    605.000000      4.743250  264725.000000  \n",
       "max    35682.000000   6082.000000     15.000100  500001.000000  "
      ]
     },
     "execution_count": 6,
     "metadata": {},
     "output_type": "execute_result"
    }
   ],
   "source": [
    "v.describe() "
   ]
  },
  {
   "cell_type": "markdown",
   "id": "f6932b27",
   "metadata": {
    "slideshow": {
     "slide_type": "slide"
    }
   },
   "source": [
    "# Crear un nuevo atributo(la categorización del atributo ingresos)"
   ]
  },
  {
   "cell_type": "code",
   "execution_count": 7,
   "id": "028e3f7a",
   "metadata": {
    "slideshow": {
     "slide_type": "slide"
    }
   },
   "outputs": [],
   "source": [
    "v['ingresos_cat'] = pd.cut(v.ingresos, bins = [0, 1.5, 3, 4.5, 6, np.inf],\\\n",
    "                          labels = [1,2,3,4,5])  "
   ]
  },
  {
   "cell_type": "code",
   "execution_count": 8,
   "id": "959412ac",
   "metadata": {
    "slideshow": {
     "slide_type": "slide"
    }
   },
   "outputs": [
    {
     "data": {
      "text/plain": [
       "0        5\n",
       "1        5\n",
       "2        5\n",
       "3        4\n",
       "4        3\n",
       "        ..\n",
       "20635    2\n",
       "20636    2\n",
       "20637    2\n",
       "20638    2\n",
       "20639    2\n",
       "Name: ingresos_cat, Length: 20640, dtype: category\n",
       "Categories (5, int64): [1 < 2 < 3 < 4 < 5]"
      ]
     },
     "execution_count": 8,
     "metadata": {},
     "output_type": "execute_result"
    }
   ],
   "source": [
    "v.ingresos_cat "
   ]
  },
  {
   "cell_type": "code",
   "execution_count": 9,
   "id": "62c03667",
   "metadata": {
    "slideshow": {
     "slide_type": "slide"
    }
   },
   "outputs": [
    {
     "data": {
      "text/plain": [
       "<AxesSubplot:>"
      ]
     },
     "execution_count": 9,
     "metadata": {},
     "output_type": "execute_result"
    },
    {
     "data": {
      "image/png": "[encoded data removed]",
      "text/plain": [
       "<Figure size 432x288 with 1 Axes>"
      ]
     },
     "metadata": {
      "needs_background": "light"
     },
     "output_type": "display_data"
    }
   ],
   "source": [
    "v.ingresos_cat.hist()"
   ]
  },
  {
   "cell_type": "code",
   "execution_count": 10,
   "id": "6e2601b0",
   "metadata": {
    "slideshow": {
     "slide_type": "slide"
    }
   },
   "outputs": [],
   "source": [
    "from sklearn.model_selection import StratifiedShuffleSplit"
   ]
  },
  {
   "cell_type": "code",
   "execution_count": 11,
   "id": "171283ec",
   "metadata": {
    "slideshow": {
     "slide_type": "slide"
    }
   },
   "outputs": [],
   "source": [
    "dividir = StratifiedShuffleSplit(n_splits = 1, test_size = 0.2, random_state = 42) "
   ]
  },
  {
   "cell_type": "code",
   "execution_count": 12,
   "id": "5c841ddd",
   "metadata": {
    "slideshow": {
     "slide_type": "slide"
    }
   },
   "outputs": [],
   "source": [
    "for train_index, test_index in dividir.split(v, v.ingresos_cat):\n",
    "    strat_train_set = v.loc[train_index]\n",
    "    strat_test_set = v.loc[test_index]"
   ]
  },
  {
   "cell_type": "code",
   "execution_count": 13,
   "id": "6db06239",
   "metadata": {
    "slideshow": {
     "slide_type": "slide"
    }
   },
   "outputs": [
    {
     "data": {
      "text/plain": [
       "3    0.350533\n",
       "2    0.318798\n",
       "4    0.176357\n",
       "5    0.114583\n",
       "1    0.039729\n",
       "Name: ingresos_cat, dtype: float64"
      ]
     },
     "execution_count": 13,
     "metadata": {},
     "output_type": "execute_result"
    }
   ],
   "source": [
    "strat_test_set.ingresos_cat.value_counts()/len(strat_test_set) "
   ]
  },
  {
   "cell_type": "code",
   "execution_count": 14,
   "id": "830a2e17",
   "metadata": {
    "slideshow": {
     "slide_type": "slide"
    }
   },
   "outputs": [
    {
     "data": {
      "text/plain": [
       "<AxesSubplot:>"
      ]
     },
     "execution_count": 14,
     "metadata": {},
     "output_type": "execute_result"
    },
    {
     "data": {
      "image/png": "[encoded data removed]",
      "text/plain": [
       "<Figure size 432x288 with 1 Axes>"
      ]
     },
     "metadata": {
      "needs_background": "light"
     },
     "output_type": "display_data"
    }
   ],
   "source": [
    "strat_train_set.ingresos_cat.hist() "
   ]
  },
  {
   "cell_type": "code",
   "execution_count": 16,
   "id": "31250746",
   "metadata": {
    "slideshow": {
     "slide_type": "slide"
    }
   },
   "outputs": [
    {
     "data": {
      "image/png": "[encoded data removed]",
      "text/plain": [
       "<Figure size 864x432 with 3 Axes>"
      ]
     },
     "metadata": {
      "needs_background": "light"
     },
     "output_type": "display_data"
    }
   ],
   "source": [
    "fig,ax = plt.subplots(1,3, figsize = (12,6)) \n",
    "\n",
    "ax[0].hist(strat_train_set.ingresos_cat) \n",
    "ax[1].hist(strat_test_set.ingresos_cat)\n",
    "ax[2].hist(v.ingresos_cat) \n",
    "\n",
    "plt.savefig('estratificar.jpg') \n",
    "\n",
    "plt.show() \n"
   ]
  },
  {
   "cell_type": "code",
   "execution_count": null,
   "id": "6d0b882a",
   "metadata": {
    "slideshow": {
     "slide_type": "slide"
    }
   },
   "outputs": [],
   "source": []
  },
  {
   "cell_type": "code",
   "execution_count": null,
   "id": "adf6507c",
   "metadata": {},
   "outputs": [],
   "source": []
  },
  {
   "cell_type": "code",
   "execution_count": null,
   "id": "e41b55a5",
   "metadata": {},
   "outputs": [],
   "source": []
  },
  {
   "cell_type": "code",
   "execution_count": null,
   "id": "3ec39945",
   "metadata": {},
   "outputs": [],
   "source": []
  },
  {
   "cell_type": "code",
   "execution_count": null,
   "id": "314aaab8",
   "metadata": {},
   "outputs": [],
   "source": []
  }
 ],
 "metadata": {
  "celltoolbar": "Slideshow",
  "kernelspec": {
   "display_name": "Python 3 (ipykernel)",
   "language": "python",
   "name": "python3"
  },
  "language_info": {
   "codemirror_mode": {
    "name": "ipython",
    "version": 3
   },
   "file_extension": ".py",
   "mimetype": "text/x-python",
   "name": "python",
   "nbconvert_exporter": "python",
   "pygments_lexer": "ipython3",
   "version": "3.9.7"
  },
  "rise": {
   "enable_chalkboard": true,
   "theme": "sky",
   "transition": "zoom"
  }
 },
 "nbformat": 4,
 "nbformat_minor": 5
}
