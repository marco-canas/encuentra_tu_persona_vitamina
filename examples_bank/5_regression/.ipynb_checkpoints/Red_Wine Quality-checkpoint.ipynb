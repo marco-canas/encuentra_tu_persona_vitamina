{
 "cells": [
  {
   "cell_type": "markdown",
   "id": "1fdf3327",
   "metadata": {},
   "source": []
  },
  {
   "cell_type": "markdown",
   "id": "84ab4982",
   "metadata": {},
   "source": [
    "# [Red Wine Quality Prediction Using Regression Modeling and Machine Learning](https://towardsdatascience.com/red-wine-quality-prediction-using-regression-modeling-and-machine-learning-7a3e2c3e1f46)"
   ]
  },
  {
   "cell_type": "markdown",
   "id": "44a41254",
   "metadata": {},
   "source": [
    "<img src = 'https://miro.medium.com/max/1050/1*oXOppV_n4hv-tf8Y96QHxQ.png'> "
   ]
  },
  {
   "cell_type": "markdown",
   "id": "9303cd5f",
   "metadata": {},
   "source": [
    "La industria del vino tinto muestra un crecimiento exponencial reciente a medida que aumenta el consumo social. "
   ]
  },
  {
   "cell_type": "markdown",
   "id": "b46b22b9",
   "metadata": {},
   "source": [
    "Hoy en día, los actores de la industria están utilizando certificaciones de calidad de productos para promocionar sus productos. "
   ]
  },
  {
   "cell_type": "markdown",
   "id": "6b5f8743",
   "metadata": {},
   "source": [
    "Este es un proceso que requiere mucho tiempo y requiere la evaluación de expertos humanos, lo que hace que este proceso sea muy costoso. "
   ]
  },
  {
   "cell_type": "markdown",
   "id": "18aac524",
   "metadata": {},
   "source": [
    "Además, el precio del vino tinto depende de un concepto bastante abstracto de la apreciación del vino por parte de los catadores, cuya opinión puede tener un alto grado de variabilidad. "
   ]
  },
  {
   "cell_type": "markdown",
   "id": "aac80015",
   "metadata": {},
   "source": [
    "Otro factor vital en la certificación y evaluación de la calidad del vino tinto son las pruebas fisicoquímicas, que se realizan en laboratorio y consideran factores como la acidez, el nivel de pH, el azúcar y otras propiedades químicas. "
   ]
  },
  {
   "cell_type": "markdown",
   "id": "4a2d650c",
   "metadata": {},
   "source": [
    "El mercado del vino tinto sería de interés si la calidad humana de la degustación se puede relacionar con las propiedades químicas del vino para que los procesos de certificación y evaluación y aseguramiento de la calidad estén más controlados. "
   ]
  },
  {
   "cell_type": "markdown",
   "id": "43b0f450",
   "metadata": {},
   "source": [
    "Este proyecto tiene como objetivo determinar qué características son los mejores indicadores de calidad del vino tinto y generar información sobre cada uno de estos factores para la calidad del vino tinto de nuestro modelo."
   ]
  },
  {
   "cell_type": "markdown",
   "id": "d1b595f0",
   "metadata": {},
   "source": [
    "## Comprensión de datos"
   ]
  },
  {
   "cell_type": "markdown",
   "id": "c43e8360",
   "metadata": {},
   "source": [
    "Mi análisis utilizará el conjunto de datos de calidad del vino tinto, disponible en el repositorio de aprendizaje automático de UCI (https://archive.ics.uci.edu/ml/datasets/wine+quality). "
   ]
  },
  {
   "cell_type": "markdown",
   "id": "aa33904f",
   "metadata": {},
   "source": [
    "Obtuve las muestras de vino tinto del norte de Portugal para modelar la calidad del vino tinto en base a pruebas fisicoquímicas. "
   ]
  },
  {
   "cell_type": "markdown",
   "id": "bf15a693",
   "metadata": {},
   "source": [
    "El conjunto de datos contiene un total de 12 variables, que se registraron para 1599 observaciones. "
   ]
  },
  {
   "cell_type": "markdown",
   "id": "1230191c",
   "metadata": {},
   "source": [
    "Estos datos nos permitirán crear diferentes modelos de regresión para determinar cómo diferentes variables independientes ayudan a predecir nuestra variable dependiente, la calidad. "
   ]
  },
  {
   "cell_type": "markdown",
   "id": "c6ada8de",
   "metadata": {},
   "source": [
    "Saber cómo afectará cada variable a la calidad del vino tinto ayudará a los productores, distribuidores y empresas de la industria del vino tinto a evaluar mejor su estrategia de producción, distribución y fijación de precios."
   ]
  },
  {
   "cell_type": "markdown",
   "id": "663e5900",
   "metadata": {},
   "source": [
    "## Preparación de datos\n",
    "\n",
    "### Limpieza de datos"
   ]
  },
  {
   "cell_type": "markdown",
   "id": "ecbd1fe9",
   "metadata": {},
   "source": [
    "Mi primer paso fue limpiar y preparar los datos para el análisis. "
   ]
  },
  {
   "cell_type": "markdown",
   "id": "25be58c4",
   "metadata": {},
   "source": [
    "Pasé por diferentes pasos de limpieza de datos. "
   ]
  },
  {
   "cell_type": "markdown",
   "id": "f1498883",
   "metadata": {},
   "source": [
    "Primero, verifiqué los tipos de datos centrándome en numéricos y categóricos para simplificar el cálculo y la visualización de la correlación. "
   ]
  },
  {
   "cell_type": "markdown",
   "id": "2f3bb937",
   "metadata": {},
   "source": [
    "En segundo lugar, traté de identificar los valores faltantes existentes en nuestro conjunto de datos. "
   ]
  },
  {
   "cell_type": "markdown",
   "id": "446c2746",
   "metadata": {},
   "source": [
    "Por último, investigué el resumen estadístico de cada columna/característica para detectar cualquier problema como valores atípicos y distribuciones anormales."
   ]
  },
  {
   "cell_type": "code",
   "execution_count": 6,
   "id": "71e6d33b",
   "metadata": {},
   "outputs": [],
   "source": [
    "import numpy as np \n",
    "import pandas as pd \n",
    "\n",
    "v = pd.read_csv('vino.csv') "
   ]
  },
  {
   "cell_type": "code",
   "execution_count": 7,
   "id": "dfe7c9b6",
   "metadata": {},
   "outputs": [
    {
     "data": {
      "text/html": [
       "<div>\n",
       "<style scoped>\n",
       "    .dataframe tbody tr th:only-of-type {\n",
       "        vertical-align: middle;\n",
       "    }\n",
       "\n",
       "    .dataframe tbody tr th {\n",
       "        vertical-align: top;\n",
       "    }\n",
       "\n",
       "    .dataframe thead th {\n",
       "        text-align: right;\n",
       "    }\n",
       "</style>\n",
       "<table border=\"1\" class=\"dataframe\">\n",
       "  <thead>\n",
       "    <tr style=\"text-align: right;\">\n",
       "      <th></th>\n",
       "      <th>fixed acidity</th>\n",
       "      <th>volatile acidity</th>\n",
       "      <th>citric acid</th>\n",
       "      <th>residual sugar</th>\n",
       "      <th>chlorides</th>\n",
       "      <th>free sulfur dioxide</th>\n",
       "      <th>total sulfur dioxide</th>\n",
       "      <th>density</th>\n",
       "      <th>pH</th>\n",
       "      <th>sulphates</th>\n",
       "      <th>alcohol</th>\n",
       "      <th>quality</th>\n",
       "    </tr>\n",
       "  </thead>\n",
       "  <tbody>\n",
       "    <tr>\n",
       "      <th>0</th>\n",
       "      <td>7.4</td>\n",
       "      <td>0.70</td>\n",
       "      <td>0.00</td>\n",
       "      <td>1.9</td>\n",
       "      <td>0.076</td>\n",
       "      <td>11.0</td>\n",
       "      <td>34.0</td>\n",
       "      <td>0.9978</td>\n",
       "      <td>3.51</td>\n",
       "      <td>0.56</td>\n",
       "      <td>9.4</td>\n",
       "      <td>5</td>\n",
       "    </tr>\n",
       "    <tr>\n",
       "      <th>1</th>\n",
       "      <td>7.8</td>\n",
       "      <td>0.88</td>\n",
       "      <td>0.00</td>\n",
       "      <td>2.6</td>\n",
       "      <td>0.098</td>\n",
       "      <td>25.0</td>\n",
       "      <td>67.0</td>\n",
       "      <td>0.9968</td>\n",
       "      <td>3.20</td>\n",
       "      <td>0.68</td>\n",
       "      <td>9.8</td>\n",
       "      <td>5</td>\n",
       "    </tr>\n",
       "    <tr>\n",
       "      <th>2</th>\n",
       "      <td>7.8</td>\n",
       "      <td>0.76</td>\n",
       "      <td>0.04</td>\n",
       "      <td>2.3</td>\n",
       "      <td>0.092</td>\n",
       "      <td>15.0</td>\n",
       "      <td>54.0</td>\n",
       "      <td>0.9970</td>\n",
       "      <td>3.26</td>\n",
       "      <td>0.65</td>\n",
       "      <td>9.8</td>\n",
       "      <td>5</td>\n",
       "    </tr>\n",
       "    <tr>\n",
       "      <th>3</th>\n",
       "      <td>11.2</td>\n",
       "      <td>0.28</td>\n",
       "      <td>0.56</td>\n",
       "      <td>1.9</td>\n",
       "      <td>0.075</td>\n",
       "      <td>17.0</td>\n",
       "      <td>60.0</td>\n",
       "      <td>0.9980</td>\n",
       "      <td>3.16</td>\n",
       "      <td>0.58</td>\n",
       "      <td>9.8</td>\n",
       "      <td>6</td>\n",
       "    </tr>\n",
       "    <tr>\n",
       "      <th>4</th>\n",
       "      <td>7.4</td>\n",
       "      <td>0.70</td>\n",
       "      <td>0.00</td>\n",
       "      <td>1.9</td>\n",
       "      <td>0.076</td>\n",
       "      <td>11.0</td>\n",
       "      <td>34.0</td>\n",
       "      <td>0.9978</td>\n",
       "      <td>3.51</td>\n",
       "      <td>0.56</td>\n",
       "      <td>9.4</td>\n",
       "      <td>5</td>\n",
       "    </tr>\n",
       "  </tbody>\n",
       "</table>\n",
       "</div>"
      ],
      "text/plain": [
       "   fixed acidity  volatile acidity  citric acid  residual sugar  chlorides  \\\n",
       "0            7.4              0.70         0.00             1.9      0.076   \n",
       "1            7.8              0.88         0.00             2.6      0.098   \n",
       "2            7.8              0.76         0.04             2.3      0.092   \n",
       "3           11.2              0.28         0.56             1.9      0.075   \n",
       "4            7.4              0.70         0.00             1.9      0.076   \n",
       "\n",
       "   free sulfur dioxide  total sulfur dioxide  density    pH  sulphates  \\\n",
       "0                 11.0                  34.0   0.9978  3.51       0.56   \n",
       "1                 25.0                  67.0   0.9968  3.20       0.68   \n",
       "2                 15.0                  54.0   0.9970  3.26       0.65   \n",
       "3                 17.0                  60.0   0.9980  3.16       0.58   \n",
       "4                 11.0                  34.0   0.9978  3.51       0.56   \n",
       "\n",
       "   alcohol  quality  \n",
       "0      9.4        5  \n",
       "1      9.8        5  \n",
       "2      9.8        5  \n",
       "3      9.8        6  \n",
       "4      9.4        5  "
      ]
     },
     "execution_count": 7,
     "metadata": {},
     "output_type": "execute_result"
    }
   ],
   "source": [
    "v.head() "
   ]
  },
  {
   "cell_type": "code",
   "execution_count": 8,
   "id": "2b9d091a",
   "metadata": {},
   "outputs": [
    {
     "name": "stdout",
     "output_type": "stream",
     "text": [
      "<class 'pandas.core.frame.DataFrame'>\n",
      "RangeIndex: 1599 entries, 0 to 1598\n",
      "Data columns (total 12 columns):\n",
      " #   Column                Non-Null Count  Dtype  \n",
      "---  ------                --------------  -----  \n",
      " 0   fixed acidity         1599 non-null   float64\n",
      " 1   volatile acidity      1599 non-null   float64\n",
      " 2   citric acid           1599 non-null   float64\n",
      " 3   residual sugar        1599 non-null   float64\n",
      " 4   chlorides             1599 non-null   float64\n",
      " 5   free sulfur dioxide   1599 non-null   float64\n",
      " 6   total sulfur dioxide  1599 non-null   float64\n",
      " 7   density               1599 non-null   float64\n",
      " 8   pH                    1599 non-null   float64\n",
      " 9   sulphates             1599 non-null   float64\n",
      " 10  alcohol               1599 non-null   float64\n",
      " 11  quality               1599 non-null   int64  \n",
      "dtypes: float64(11), int64(1)\n",
      "memory usage: 150.0 KB\n"
     ]
    }
   ],
   "source": [
    "v.info() "
   ]
  },
  {
   "cell_type": "markdown",
   "id": "af1386b0",
   "metadata": {},
   "source": [
    "## Exploración y transformación de datos"
   ]
  },
  {
   "cell_type": "markdown",
   "id": "321958d9",
   "metadata": {},
   "source": [
    "Para ver qué variables es probable que afecten más la calidad del vino tinto, realicé un análisis de correlación de nuestras variables independientes con nuestra variable dependiente, la calidad. "
   ]
  },
  {
   "cell_type": "markdown",
   "id": "832422bf",
   "metadata": {},
   "source": [
    "Este análisis terminó con una lista de variables de interés que tenían las correlaciones más altas con la calidad."
   ]
  },
  {
   "cell_type": "code",
   "execution_count": null,
   "id": "a96ed81a",
   "metadata": {},
   "outputs": [],
   "source": []
  },
  {
   "cell_type": "code",
   "execution_count": null,
   "id": "0ef1b635",
   "metadata": {},
   "outputs": [],
   "source": []
  },
  {
   "cell_type": "code",
   "execution_count": null,
   "id": "2a4dd906",
   "metadata": {},
   "outputs": [],
   "source": []
  },
  {
   "cell_type": "code",
   "execution_count": null,
   "id": "4ba3ab0a",
   "metadata": {},
   "outputs": [],
   "source": []
  },
  {
   "cell_type": "code",
   "execution_count": null,
   "id": "e4c28ca0",
   "metadata": {},
   "outputs": [],
   "source": []
  },
  {
   "cell_type": "code",
   "execution_count": null,
   "id": "a2f0f048",
   "metadata": {},
   "outputs": [],
   "source": []
  },
  {
   "cell_type": "code",
   "execution_count": null,
   "id": "e6c606b4",
   "metadata": {},
   "outputs": [],
   "source": []
  },
  {
   "cell_type": "code",
   "execution_count": null,
   "id": "b2e1a5bb",
   "metadata": {},
   "outputs": [],
   "source": []
  },
  {
   "cell_type": "code",
   "execution_count": null,
   "id": "a1a983cc",
   "metadata": {},
   "outputs": [],
   "source": []
  },
  {
   "cell_type": "code",
   "execution_count": null,
   "id": "efd43f15",
   "metadata": {},
   "outputs": [],
   "source": []
  },
  {
   "cell_type": "code",
   "execution_count": null,
   "id": "48ef7454",
   "metadata": {},
   "outputs": [],
   "source": []
  },
  {
   "cell_type": "markdown",
   "id": "449cad0e",
   "metadata": {},
   "source": [
    "## Referencias  \n",
    "\n",
    " * https://towardsdatascience.com/red-wine-quality-prediction-using-regression-modeling-and-machine-learning-7a3e2c3e1f46  \n",
    " \n",
    " * https://www.kaggle.com/uciml/red-wine-quality-cortez-et-al-2009 "
   ]
  },
  {
   "cell_type": "code",
   "execution_count": null,
   "id": "def1d8e2",
   "metadata": {},
   "outputs": [],
   "source": []
  }
 ],
 "metadata": {
  "kernelspec": {
   "display_name": "Python 3 (ipykernel)",
   "language": "python",
   "name": "python3"
  },
  "language_info": {
   "codemirror_mode": {
    "name": "ipython",
    "version": 3
   },
   "file_extension": ".py",
   "mimetype": "text/x-python",
   "name": "python",
   "nbconvert_exporter": "python",
   "pygments_lexer": "ipython3",
   "version": "3.9.7"
  }
 },
 "nbformat": 4,
 "nbformat_minor": 5
}
