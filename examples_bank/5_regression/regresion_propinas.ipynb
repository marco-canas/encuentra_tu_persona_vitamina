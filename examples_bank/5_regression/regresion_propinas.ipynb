{
 "cells": [
  {
   "cell_type": "markdown",
   "id": "0026b307",
   "metadata": {
    "slideshow": {
     "slide_type": "slide"
    }
   },
   "source": [
    "<table align=\"left\">\n",
    "  <td>\n",
    "    <a href=\"https://colab.research.google.com/github/marco-canas/Machine-Learning/blob/main/ML/classes/class_march_3/class_march_3.ipynb\" target=\"_parent\"><img src=\"https://colab.research.google.com/assets/colab-badge.svg\" alt=\"Open In Colab\"/></a>\n",
    "  </td>\n",
    "</table>"
   ]
  },
  {
   "cell_type": "markdown",
   "id": "07e99069",
   "metadata": {
    "slideshow": {
     "slide_type": "slide"
    }
   },
   "source": [
    "# Modelo de regresión para predecir el valor pagado de propina"
   ]
  },
  {
   "cell_type": "markdown",
   "id": "9f13ffb2",
   "metadata": {},
   "source": [
    "## [Video de apoyo]()"
   ]
  },
  {
   "cell_type": "code",
   "execution_count": null,
   "id": "9bc332c9",
   "metadata": {
    "slideshow": {
     "slide_type": "slide"
    }
   },
   "outputs": [],
   "source": [
    "import numpy as np \n",
    "import pandas as pd \n",
    "\n",
    "import matplotlib.pyplot as plt\n",
    "\n"
   ]
  },
  {
   "cell_type": "code",
   "execution_count": null,
   "id": "7d05ea90",
   "metadata": {
    "slideshow": {
     "slide_type": "slide"
    }
   },
   "outputs": [],
   "source": [
    "df = pd.read_csv('tips.csv')\n",
    "df.head() "
   ]
  },
  {
   "cell_type": "code",
   "execution_count": null,
   "id": "b2669d56",
   "metadata": {
    "slideshow": {
     "slide_type": "slide"
    }
   },
   "outputs": [],
   "source": [
    "df.keys()"
   ]
  },
  {
   "cell_type": "code",
   "execution_count": null,
   "id": "1f679775",
   "metadata": {
    "slideshow": {
     "slide_type": "slide"
    }
   },
   "outputs": [],
   "source": [
    "p = df[['total_bill', 'sex', 'day', 'time', 'tip']]"
   ]
  },
  {
   "cell_type": "code",
   "execution_count": null,
   "id": "b2537d2e",
   "metadata": {
    "scrolled": false,
    "slideshow": {
     "slide_type": "slide"
    }
   },
   "outputs": [],
   "source": [
    "p.head() "
   ]
  },
  {
   "cell_type": "markdown",
   "id": "41f53717",
   "metadata": {
    "slideshow": {
     "slide_type": "slide"
    }
   },
   "source": [
    "# Dividir en atributos predictores y etiquetas "
   ]
  },
  {
   "cell_type": "code",
   "execution_count": null,
   "id": "086763c3",
   "metadata": {
    "slideshow": {
     "slide_type": "slide"
    }
   },
   "outputs": [],
   "source": [
    "p_atributos = p.drop('tip', axis = 1)\n",
    "p_labels = p.tip"
   ]
  },
  {
   "cell_type": "markdown",
   "id": "a6523200",
   "metadata": {
    "slideshow": {
     "slide_type": "slide"
    }
   },
   "source": [
    "# Metodología de constitución de un modelo de regresión en aprendizaje supervisado"
   ]
  },
  {
   "cell_type": "markdown",
   "id": "2d7fceb2",
   "metadata": {
    "slideshow": {
     "slide_type": "slide"
    }
   },
   "source": [
    "## 1. Plantear bien la pregunta.  \n",
    "\n",
    "* ¿Regresión o clasificación?"
   ]
  },
  {
   "cell_type": "markdown",
   "id": "3c009616",
   "metadata": {
    "slideshow": {
     "slide_type": "slide"
    }
   },
   "source": [
    "Es una tarea de regresión porque lo que se trata de predecir es valores no clases. "
   ]
  },
  {
   "cell_type": "markdown",
   "id": "9e63040f",
   "metadata": {
    "slideshow": {
     "slide_type": "slide"
    }
   },
   "source": [
    "2. Exploración inicial.\n",
    "\n",
    "* Hacer explícita la función objetivo.\n",
    "* Decir cuáles son los atributos (descripción breve de cada uno)"
   ]
  },
  {
   "cell_type": "markdown",
   "id": "5370462d",
   "metadata": {
    "slideshow": {
     "slide_type": "slide"
    }
   },
   "source": [
    "• Practicar una exploración tabular y gráfica de los datos."
   ]
  },
  {
   "cell_type": "code",
   "execution_count": null,
   "id": "c4f68fa3",
   "metadata": {
    "slideshow": {
     "slide_type": "slide"
    }
   },
   "outputs": [],
   "source": [
    "p.info() "
   ]
  },
  {
   "cell_type": "code",
   "execution_count": null,
   "id": "8bd4a6ac",
   "metadata": {
    "slideshow": {
     "slide_type": "slide"
    }
   },
   "outputs": [],
   "source": [
    "p.sex.value_counts() "
   ]
  },
  {
   "cell_type": "code",
   "execution_count": null,
   "id": "08bfe1b5",
   "metadata": {
    "slideshow": {
     "slide_type": "slide"
    }
   },
   "outputs": [],
   "source": [
    "p.day.value_counts() # Aplicaremos codificación OneHotEncoder para el atributo día"
   ]
  },
  {
   "cell_type": "code",
   "execution_count": null,
   "id": "4de5c311",
   "metadata": {
    "slideshow": {
     "slide_type": "slide"
    }
   },
   "outputs": [],
   "source": [
    "p.time.value_counts() "
   ]
  },
  {
   "cell_type": "code",
   "execution_count": null,
   "id": "4f6f45a0",
   "metadata": {
    "slideshow": {
     "slide_type": "slide"
    }
   },
   "outputs": [],
   "source": [
    "p.hist() "
   ]
  },
  {
   "cell_type": "markdown",
   "id": "90314192",
   "metadata": {
    "slideshow": {
     "slide_type": "slide"
    }
   },
   "source": [
    "3. Preparar los datos para los algoritmos de aprendizaje.\n",
    "* Hacer separación inicial de datos para entrenar y para testear."
   ]
  },
  {
   "cell_type": "code",
   "execution_count": null,
   "id": "ba01e3f3",
   "metadata": {
    "slideshow": {
     "slide_type": "slide"
    }
   },
   "outputs": [],
   "source": [
    "from sklearn.model_selection import train_test_split \n",
    "p_train_atributos,p_test_atributos,p_train_labels, p_test_labels = train_test_split(\\\n",
    "                                                      p_atributos,\\\n",
    "                                                      p_labels, \\\n",
    "                                                      test_size = 0.2,\\\n",
    "                                                      random_state = 42) "
   ]
  },
  {
   "cell_type": "markdown",
   "id": "8f790af0",
   "metadata": {
    "slideshow": {
     "slide_type": "slide"
    }
   },
   "source": [
    "* Explorar correlaciones lineales con la variable objetivo."
   ]
  },
  {
   "cell_type": "code",
   "execution_count": null,
   "id": "e509ab28",
   "metadata": {
    "slideshow": {
     "slide_type": "slide"
    }
   },
   "outputs": [],
   "source": [
    "p.corr().tip.sort_values(ascending = False) "
   ]
  },
  {
   "cell_type": "code",
   "execution_count": null,
   "id": "03ea0816",
   "metadata": {
    "scrolled": true,
    "slideshow": {
     "slide_type": "slide"
    }
   },
   "outputs": [],
   "source": [
    "from pandas.plotting import scatter_matrix \n",
    "scatter_matrix(p[['total_bill', 'tip']])"
   ]
  },
  {
   "cell_type": "markdown",
   "id": "89ec503c",
   "metadata": {
    "slideshow": {
     "slide_type": "slide"
    }
   },
   "source": [
    "# Codificación de variables categóricas "
   ]
  },
  {
   "cell_type": "code",
   "execution_count": null,
   "id": "1830205e",
   "metadata": {
    "slideshow": {
     "slide_type": "slide"
    }
   },
   "outputs": [],
   "source": [
    "from sklearn.compose import ColumnTransformer "
   ]
  },
  {
   "cell_type": "code",
   "execution_count": null,
   "id": "2d6583a1",
   "metadata": {
    "slideshow": {
     "slide_type": "slide"
    }
   },
   "outputs": [],
   "source": [
    "lista_atributos_binarios = ['sex', 'time'] \n",
    "lista_atributos_multi_clase = ['day'] "
   ]
  },
  {
   "cell_type": "code",
   "execution_count": null,
   "id": "6d43441e",
   "metadata": {
    "slideshow": {
     "slide_type": "slide"
    }
   },
   "outputs": [],
   "source": [
    "from sklearn.preprocessing import OrdinalEncoder, OneHotEncoder, StandardScaler"
   ]
  },
  {
   "cell_type": "code",
   "execution_count": null,
   "id": "5eb0333c",
   "metadata": {
    "slideshow": {
     "slide_type": "slide"
    }
   },
   "outputs": [],
   "source": [
    "procesador = ColumnTransformer([\n",
    "    ('num', StandardScaler(), ['total_bill']),\n",
    "    ('bi',OrdinalEncoder(),lista_atributos_binarios),\n",
    "    ('multi',OneHotEncoder(), lista_atributos_multi_clase)\n",
    "])"
   ]
  },
  {
   "cell_type": "code",
   "execution_count": null,
   "id": "2c0fa8e6",
   "metadata": {
    "slideshow": {
     "slide_type": "slide"
    }
   },
   "outputs": [],
   "source": [
    "X_train_preparados = procesador.fit_transform(p_train_atributos)\n",
    "X_test_preparados = procesador.transform(p_test_atributos)"
   ]
  },
  {
   "cell_type": "code",
   "execution_count": null,
   "id": "ad9b3434",
   "metadata": {
    "slideshow": {
     "slide_type": "slide"
    }
   },
   "outputs": [],
   "source": [
    "X_train_preparados.shape"
   ]
  },
  {
   "cell_type": "markdown",
   "id": "ed666afb",
   "metadata": {
    "slideshow": {
     "slide_type": "slide"
    }
   },
   "source": [
    "## 4. Entrenamiento y selección de modelo.  \n",
    "\n",
    "* Instanciar varios modelos y entrenarlos sobre datos de entrenamiento preparados.\n",
    "* Medir el desempeño de varios modelos (comparativa, con la técnica de la validación cruzada)"
   ]
  },
  {
   "cell_type": "code",
   "execution_count": null,
   "id": "1d85f695",
   "metadata": {
    "slideshow": {
     "slide_type": "slide"
    }
   },
   "outputs": [],
   "source": [
    "from sklearn.linear_model import LinearRegression\n",
    "from sklearn.tree import DecisionTreeRegressor \n",
    "from sklearn.ensemble import RandomForestRegressor "
   ]
  },
  {
   "cell_type": "code",
   "execution_count": null,
   "id": "d903f3fc",
   "metadata": {
    "slideshow": {
     "slide_type": "slide"
    }
   },
   "outputs": [],
   "source": [
    "r_lineal = LinearRegression() \n",
    "r_tree = DecisionTreeRegressor()\n",
    "r_forest = RandomForestRegressor() "
   ]
  },
  {
   "cell_type": "code",
   "execution_count": null,
   "id": "64c75b2c",
   "metadata": {
    "slideshow": {
     "slide_type": "slide"
    }
   },
   "outputs": [],
   "source": [
    "r_lineal.fit(X_train_preparados, p_train_labels)\n",
    "r_tree.fit(X_train_preparados, p_train_labels)\n",
    "r_forest.fit(X_train_preparados, p_train_labels)"
   ]
  },
  {
   "cell_type": "code",
   "execution_count": null,
   "id": "0d17a003",
   "metadata": {
    "slideshow": {
     "slide_type": "slide"
    }
   },
   "outputs": [],
   "source": [
    "from sklearn.model_selection import cross_val_score"
   ]
  },
  {
   "cell_type": "code",
   "execution_count": null,
   "id": "11fbd4fe",
   "metadata": {
    "slideshow": {
     "slide_type": "slide"
    }
   },
   "outputs": [],
   "source": [
    "score_lineal = np.sqrt(-cross_val_score(r_lineal, X_train_preparados, p_train_labels, cv = 10,\\\n",
    "                              scoring = 'neg_mean_squared_error'))\n",
    "score_tree = np.sqrt(-cross_val_score(r_tree, X_train_preparados, p_train_labels, cv = 10,\\\n",
    "                             scoring = 'neg_mean_squared_error' ))\n",
    "score_forest = np.sqrt(-cross_val_score(r_forest, X_train_preparados, p_train_labels, cv = 10,\\\n",
    "                               scoring = 'neg_mean_squared_error'))"
   ]
  },
  {
   "cell_type": "code",
   "execution_count": null,
   "id": "84c3f955",
   "metadata": {
    "slideshow": {
     "slide_type": "slide"
    }
   },
   "outputs": [],
   "source": [
    "score_lineal.mean()"
   ]
  },
  {
   "cell_type": "code",
   "execution_count": null,
   "id": "a32ba72c",
   "metadata": {
    "slideshow": {
     "slide_type": "slide"
    }
   },
   "outputs": [],
   "source": [
    "score_tree.mean()"
   ]
  },
  {
   "cell_type": "code",
   "execution_count": null,
   "id": "18698c6d",
   "metadata": {
    "slideshow": {
     "slide_type": "slide"
    }
   },
   "outputs": [],
   "source": [
    "score_forest.mean() "
   ]
  },
  {
   "cell_type": "markdown",
   "id": "7db72282",
   "metadata": {
    "slideshow": {
     "slide_type": "slide"
    }
   },
   "source": [
    "## 5. Afinar el modelo.  \n",
    "\n",
    "* Crear cuadrícula (de búsqueda) de hiperparámetros.\n",
    "* Seleccionar la combinación de hiperparámetros que consigue el mejor puntaje. (El mejor modelo)."
   ]
  },
  {
   "cell_type": "code",
   "execution_count": null,
   "id": "0c3ea48e",
   "metadata": {
    "slideshow": {
     "slide_type": "slide"
    }
   },
   "outputs": [],
   "source": [
    "grid_param = {\n",
    "    'fit_intercept':[True, False], \n",
    "    'normalize':[True, False],\n",
    "    'copy_X':[True, False],\n",
    "    'positive':[True, False]\n",
    "}"
   ]
  },
  {
   "cell_type": "code",
   "execution_count": null,
   "id": "66dd5ebf",
   "metadata": {
    "slideshow": {
     "slide_type": "slide"
    }
   },
   "outputs": [],
   "source": [
    "from sklearn.model_selection import GridSearchCV"
   ]
  },
  {
   "cell_type": "code",
   "execution_count": null,
   "id": "f8f5824c",
   "metadata": {
    "slideshow": {
     "slide_type": "slide"
    }
   },
   "outputs": [],
   "source": [
    "grid_search = GridSearchCV(r_lineal, grid_param, cv = 10, scoring = 'neg_mean_squared_error',\\\n",
    "                          return_train_score = True)"
   ]
  },
  {
   "cell_type": "code",
   "execution_count": null,
   "id": "ef176223",
   "metadata": {
    "slideshow": {
     "slide_type": "slide"
    }
   },
   "outputs": [],
   "source": [
    "grid_search.fit(X_train_preparados, p_train_labels)"
   ]
  },
  {
   "cell_type": "code",
   "execution_count": null,
   "id": "20399ca5",
   "metadata": {},
   "outputs": [],
   "source": [
    "grid_search.best_params_\n"
   ]
  },
  {
   "cell_type": "code",
   "execution_count": null,
   "id": "b9656a99",
   "metadata": {
    "slideshow": {
     "slide_type": "slide"
    }
   },
   "outputs": [],
   "source": [
    "mejor_modelo = grid_search.best_estimator_"
   ]
  },
  {
   "cell_type": "code",
   "execution_count": null,
   "id": "e7d7a329",
   "metadata": {
    "slideshow": {
     "slide_type": "slide"
    }
   },
   "outputs": [],
   "source": [
    "np.sqrt(-cross_val_score(mejor_modelo, X_train_preparados, p_train_labels, cv = 10, \\\n",
    "                        scoring = 'neg_mean_squared_error')).mean() "
   ]
  },
  {
   "cell_type": "markdown",
   "id": "065d448e",
   "metadata": {
    "slideshow": {
     "slide_type": "slide"
    }
   },
   "source": [
    "## 6. Presentar la solución.  \n",
    "\n",
    "* Mostrar el desempeño sobre los datos para testear."
   ]
  },
  {
   "cell_type": "code",
   "execution_count": null,
   "id": "7eb581a3",
   "metadata": {
    "slideshow": {
     "slide_type": "slide"
    }
   },
   "outputs": [],
   "source": [
    "p_test_atributos.head() "
   ]
  },
  {
   "cell_type": "code",
   "execution_count": null,
   "id": "826b1f1b",
   "metadata": {
    "slideshow": {
     "slide_type": "slide"
    }
   },
   "outputs": [],
   "source": [
    "X_test_prep = procesador.transform(p_test_atributos)"
   ]
  },
  {
   "cell_type": "code",
   "execution_count": null,
   "id": "a103b7b9",
   "metadata": {
    "slideshow": {
     "slide_type": "slide"
    }
   },
   "outputs": [],
   "source": [
    "from sklearn.metrics import mean_squared_error "
   ]
  },
  {
   "cell_type": "code",
   "execution_count": null,
   "id": "d54d4a85",
   "metadata": {
    "slideshow": {
     "slide_type": "slide"
    }
   },
   "outputs": [],
   "source": [
    "p_test_predicciones = mejor_modelo.predict(X_test_prep)"
   ]
  },
  {
   "cell_type": "code",
   "execution_count": null,
   "id": "a9f585a7",
   "metadata": {
    "slideshow": {
     "slide_type": "slide"
    }
   },
   "outputs": [],
   "source": [
    "np.sqrt(mean_squared_error(p_test_labels, p_test_predicciones))"
   ]
  },
  {
   "cell_type": "code",
   "execution_count": null,
   "id": "414be1e7",
   "metadata": {
    "slideshow": {
     "slide_type": "slide"
    }
   },
   "outputs": [],
   "source": [
    "p_atributos.iloc[0,:].values"
   ]
  },
  {
   "cell_type": "code",
   "execution_count": null,
   "id": "ea041e0a",
   "metadata": {
    "slideshow": {
     "slide_type": "slide"
    }
   },
   "outputs": [],
   "source": [
    "mejor_modelo.predict([X_train_preparados[2]]),p_train_labels[2]"
   ]
  },
  {
   "cell_type": "code",
   "execution_count": null,
   "id": "5a32bd5f",
   "metadata": {
    "slideshow": {
     "slide_type": "slide"
    }
   },
   "outputs": [],
   "source": [
    "mejor_modelo.predict([X_test_preparados[4]]),p_test_labels.iloc[4]"
   ]
  },
  {
   "cell_type": "markdown",
   "id": "cb693061",
   "metadata": {
    "slideshow": {
     "slide_type": "slide"
    }
   },
   "source": [
    "## Referencias  \n",
    "\n",
    "* dataset de las propinas: https://raw.githubusercontent.com/mwaskom/seaborn-data/master/tips.csv  \n",
    "\n",
    "* la clase LinearRegression de Sklearn: https://scikit-learn.org/stable/modules/generated/sklearn.linear_model.LinearRegression.html\n",
    "\n",
    "* La clase GridSearchCV de sklearn: https://scikit-learn.org/stable/modules/generated/sklearn.model_selection.GridSearchCV.html"
   ]
  },
  {
   "cell_type": "code",
   "execution_count": null,
   "id": "83e6941c",
   "metadata": {},
   "outputs": [],
   "source": [
    "from sklearn.datasets import fetch_openml "
   ]
  },
  {
   "cell_type": "code",
   "execution_count": null,
   "id": "73f7cc38",
   "metadata": {},
   "outputs": [],
   "source": [
    "mnist = fetch_openml(name = 'mnist_784', version = 1, as_frame = False) "
   ]
  },
  {
   "cell_type": "code",
   "execution_count": null,
   "id": "1736582d",
   "metadata": {},
   "outputs": [],
   "source": [
    "X,y = mnist['data'], mnist['target'] "
   ]
  },
  {
   "cell_type": "code",
   "execution_count": null,
   "id": "08f66592",
   "metadata": {},
   "outputs": [],
   "source": [
    "X.shape"
   ]
  },
  {
   "cell_type": "code",
   "execution_count": null,
   "id": "5575565f",
   "metadata": {},
   "outputs": [],
   "source": [
    "X[0]"
   ]
  },
  {
   "cell_type": "code",
   "execution_count": null,
   "id": "c03d9c47",
   "metadata": {},
   "outputs": [],
   "source": [
    "a = X[0].reshape(28,28)"
   ]
  },
  {
   "cell_type": "code",
   "execution_count": null,
   "id": "e9d26183",
   "metadata": {},
   "outputs": [],
   "source": [
    "a.shape "
   ]
  },
  {
   "cell_type": "code",
   "execution_count": null,
   "id": "dfd95607",
   "metadata": {
    "slideshow": {
     "slide_type": "slide"
    }
   },
   "outputs": [],
   "source": [
    "a = a.ravel() "
   ]
  },
  {
   "cell_type": "code",
   "execution_count": null,
   "id": "e2e0b1f0",
   "metadata": {
    "slideshow": {
     "slide_type": "slide"
    }
   },
   "outputs": [],
   "source": [
    "a.shape "
   ]
  },
  {
   "cell_type": "code",
   "execution_count": null,
   "id": "539ef876",
   "metadata": {
    "slideshow": {
     "slide_type": "slide"
    }
   },
   "outputs": [],
   "source": [
    "import numpy as np "
   ]
  },
  {
   "cell_type": "code",
   "execution_count": null,
   "id": "713d023d",
   "metadata": {},
   "outputs": [],
   "source": [
    "A = np.array([[1,2], [3,4]])\n",
    "A "
   ]
  },
  {
   "cell_type": "code",
   "execution_count": null,
   "id": "91408c14",
   "metadata": {},
   "outputs": [],
   "source": [
    "A.ravel() "
   ]
  },
  {
   "cell_type": "code",
   "execution_count": null,
   "id": "8bee693a",
   "metadata": {},
   "outputs": [],
   "source": []
  }
 ],
 "metadata": {
  "celltoolbar": "Slideshow",
  "kernelspec": {
   "display_name": "Python 3 (ipykernel)",
   "language": "python",
   "name": "python3"
  },
  "language_info": {
   "codemirror_mode": {
    "name": "ipython",
    "version": 3
   },
   "file_extension": ".py",
   "mimetype": "text/x-python",
   "name": "python",
   "nbconvert_exporter": "python",
   "pygments_lexer": "ipython3",
   "version": "3.9.7"
  },
  "rise": {
   "theme": "sky"
  }
 },
 "nbformat": 4,
 "nbformat_minor": 5
}
