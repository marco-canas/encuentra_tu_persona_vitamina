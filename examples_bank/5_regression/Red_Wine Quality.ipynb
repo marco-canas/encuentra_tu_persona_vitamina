{
 "cells": [
  {
   "cell_type": "markdown",
   "id": "1fdf3327",
   "metadata": {
    "slideshow": {
     "slide_type": "slide"
    }
   },
   "source": [
    "<table align=\"left\">\n",
    "  <td>\n",
    "    <a href=\"https://colab.research.google.com/github/marco-canas/edo/blob/main/clases/class_3/class_3_ODE.ipynb\" target=\"_parent\"><img src=\"https://colab.research.google.com/assets/colab-badge.svg\" alt=\"Open In Colab\"/></a>\n",
    "  </td>\n",
    "</table>"
   ]
  },
  {
   "cell_type": "markdown",
   "id": "84ab4982",
   "metadata": {},
   "source": [
    "# [Predicción de la calidad del vino tinto utilizando modelos de regresión y aprendizaje automático](https://towardsdatascience.com/red-wine-quality-prediction-using-regression-modeling-and-machine-learning-7a3e2c3e1f46)"
   ]
  },
  {
   "cell_type": "markdown",
   "id": "3d343e9d",
   "metadata": {},
   "source": [
    "## [Video de apoyo]()"
   ]
  },
  {
   "cell_type": "markdown",
   "id": "44a41254",
   "metadata": {},
   "source": [
    "<img src = 'https://miro.medium.com/max/1050/1*oXOppV_n4hv-tf8Y96QHxQ.png'> "
   ]
  },
  {
   "cell_type": "markdown",
   "id": "9303cd5f",
   "metadata": {
    "slideshow": {
     "slide_type": "slide"
    }
   },
   "source": [
    "La industria del vino tinto muestra un crecimiento exponencial reciente a medida que aumenta el consumo social. "
   ]
  },
  {
   "cell_type": "markdown",
   "id": "b46b22b9",
   "metadata": {
    "slideshow": {
     "slide_type": "slide"
    }
   },
   "source": [
    "Hoy en día, los actores de la industria están utilizando certificaciones de calidad de productos para promocionar sus productos. "
   ]
  },
  {
   "cell_type": "markdown",
   "id": "6b5f8743",
   "metadata": {
    "slideshow": {
     "slide_type": "slide"
    }
   },
   "source": [
    "Este es un proceso que requiere mucho tiempo y requiere la evaluación de expertos humanos, lo que hace que este proceso sea muy costoso. "
   ]
  },
  {
   "cell_type": "markdown",
   "id": "18aac524",
   "metadata": {
    "slideshow": {
     "slide_type": "slide"
    }
   },
   "source": [
    "Además, el precio del vino tinto depende de un concepto bastante abstracto de la apreciación del vino por parte de los catadores, cuya opinión puede tener un alto grado de variabilidad. "
   ]
  },
  {
   "cell_type": "markdown",
   "id": "aac80015",
   "metadata": {
    "slideshow": {
     "slide_type": "slide"
    }
   },
   "source": [
    "Otro factor vital en la certificación y evaluación de la calidad del vino tinto son las pruebas fisicoquímicas, que se realizan en laboratorio y consideran factores como la acidez, el nivel de pH, el azúcar y otras propiedades químicas. "
   ]
  },
  {
   "cell_type": "markdown",
   "id": "4a2d650c",
   "metadata": {
    "slideshow": {
     "slide_type": "slide"
    }
   },
   "source": [
    "El mercado del vino tinto sería de interés si la calidad humana de la degustación se puede relacionar con las propiedades químicas del vino para que los procesos de certificación y evaluación y aseguramiento de la calidad estén más controlados. "
   ]
  },
  {
   "cell_type": "markdown",
   "id": "43b0f450",
   "metadata": {},
   "source": [
    "Este proyecto tiene como objetivo determinar qué características son los mejores indicadores de calidad del vino tinto y generar información sobre cada uno de estos factores para la calidad del vino tinto de nuestro modelo."
   ]
  },
  {
   "cell_type": "markdown",
   "id": "d1b595f0",
   "metadata": {
    "slideshow": {
     "slide_type": "slide"
    }
   },
   "source": [
    "## Comprensión de datos"
   ]
  },
  {
   "cell_type": "markdown",
   "id": "c43e8360",
   "metadata": {
    "slideshow": {
     "slide_type": "slide"
    }
   },
   "source": [
    "Mi análisis utilizará el conjunto de datos de calidad del vino tinto, disponible en el repositorio de aprendizaje automático de UCI (https://archive.ics.uci.edu/ml/datasets/wine+quality). "
   ]
  },
  {
   "cell_type": "markdown",
   "id": "aa33904f",
   "metadata": {
    "slideshow": {
     "slide_type": "slide"
    }
   },
   "source": [
    "Obtuve las muestras de vino tinto del norte de Portugal para modelar la calidad del vino tinto en base a pruebas fisicoquímicas. "
   ]
  },
  {
   "cell_type": "markdown",
   "id": "bf15a693",
   "metadata": {
    "slideshow": {
     "slide_type": "slide"
    }
   },
   "source": [
    "El conjunto de datos contiene un total de 12 variables, que se registraron para 1599 observaciones. "
   ]
  },
  {
   "cell_type": "markdown",
   "id": "1230191c",
   "metadata": {
    "slideshow": {
     "slide_type": "slide"
    }
   },
   "source": [
    "Estos datos nos permitirán crear diferentes modelos de regresión para determinar cómo diferentes variables independientes ayudan a predecir nuestra variable dependiente, la calidad. "
   ]
  },
  {
   "cell_type": "markdown",
   "id": "c6ada8de",
   "metadata": {
    "slideshow": {
     "slide_type": "slide"
    }
   },
   "source": [
    "Saber cómo afectará cada variable a la calidad del vino tinto ayudará a los productores, distribuidores y empresas de la industria del vino tinto a evaluar mejor su estrategia de producción, distribución y fijación de precios."
   ]
  },
  {
   "cell_type": "markdown",
   "id": "663e5900",
   "metadata": {
    "slideshow": {
     "slide_type": "slide"
    }
   },
   "source": [
    "## Preparación de datos\n",
    "\n",
    "### Limpieza de datos"
   ]
  },
  {
   "cell_type": "markdown",
   "id": "ecbd1fe9",
   "metadata": {
    "slideshow": {
     "slide_type": "slide"
    }
   },
   "source": [
    "Mi primer paso fue limpiar y preparar los datos para el análisis. "
   ]
  },
  {
   "cell_type": "markdown",
   "id": "25be58c4",
   "metadata": {
    "slideshow": {
     "slide_type": "slide"
    }
   },
   "source": [
    "Pasé por diferentes pasos de limpieza de datos. "
   ]
  },
  {
   "cell_type": "markdown",
   "id": "f1498883",
   "metadata": {
    "slideshow": {
     "slide_type": "slide"
    }
   },
   "source": [
    "Primero, verifiqué los tipos de datos centrándome en numéricos y categóricos para simplificar el cálculo y la visualización de la correlación. "
   ]
  },
  {
   "cell_type": "markdown",
   "id": "2f3bb937",
   "metadata": {
    "slideshow": {
     "slide_type": "slide"
    }
   },
   "source": [
    "En segundo lugar, traté de identificar los valores faltantes existentes en nuestro conjunto de datos. "
   ]
  },
  {
   "cell_type": "markdown",
   "id": "446c2746",
   "metadata": {
    "slideshow": {
     "slide_type": "slide"
    }
   },
   "source": [
    "Por último, investigué el resumen estadístico de cada columna/característica para detectar cualquier problema como valores atípicos y distribuciones anormales."
   ]
  },
  {
   "cell_type": "code",
   "execution_count": null,
   "id": "71e6d33b",
   "metadata": {
    "slideshow": {
     "slide_type": "slide"
    }
   },
   "outputs": [],
   "source": [
    "import numpy as np \n",
    "import pandas as pd \n",
    "\n",
    "v = pd.read_csv('vino.csv') "
   ]
  },
  {
   "cell_type": "code",
   "execution_count": null,
   "id": "dfe7c9b6",
   "metadata": {
    "slideshow": {
     "slide_type": "slide"
    }
   },
   "outputs": [],
   "source": [
    "v.head() "
   ]
  },
  {
   "cell_type": "code",
   "execution_count": null,
   "id": "2b9d091a",
   "metadata": {
    "scrolled": true
   },
   "outputs": [],
   "source": [
    "v.info() "
   ]
  },
  {
   "cell_type": "code",
   "execution_count": null,
   "id": "70960789",
   "metadata": {},
   "outputs": [],
   "source": [
    "v.describe() "
   ]
  },
  {
   "cell_type": "markdown",
   "id": "af1386b0",
   "metadata": {},
   "source": [
    "## Exploración y transformación de datos"
   ]
  },
  {
   "cell_type": "markdown",
   "id": "321958d9",
   "metadata": {},
   "source": [
    "Para ver qué variables es probable que afecten más la calidad del vino tinto, realicé un análisis de correlación de nuestras variables independientes con nuestra variable dependiente, la calidad. "
   ]
  },
  {
   "cell_type": "markdown",
   "id": "832422bf",
   "metadata": {},
   "source": [
    "Este análisis terminó con una lista de variables de interés que tenían las correlaciones más altas con la calidad."
   ]
  },
  {
   "cell_type": "code",
   "execution_count": null,
   "id": "a96ed81a",
   "metadata": {
    "scrolled": true
   },
   "outputs": [],
   "source": [
    "v.corr()"
   ]
  },
  {
   "cell_type": "code",
   "execution_count": null,
   "id": "1a232897",
   "metadata": {},
   "outputs": [],
   "source": [
    "v.corr().quality.sort_values(ascending = False)  "
   ]
  },
  {
   "cell_type": "code",
   "execution_count": null,
   "id": "0ef1b635",
   "metadata": {},
   "outputs": [],
   "source": [
    "import matplotlib.pyplot as plt \n",
    "\n",
    "plt.matshow(v.corr())"
   ]
  },
  {
   "cell_type": "markdown",
   "id": "08e3621a",
   "metadata": {
    "slideshow": {
     "slide_type": "slide"
    }
   },
   "source": [
    "En orden de mayor correlación, estas variables son:"
   ]
  },
  {
   "cell_type": "markdown",
   "id": "785772d7",
   "metadata": {
    "slideshow": {
     "slide_type": "slide"
    }
   },
   "source": [
    "1. Alcohol: the amount of alcohol in wine\n",
    "\n",
    "2. Volatile acidity: are high acetic acid in wine which leads to an unpleasant vinegar taste\n",
    "\n",
    "3. Sulphates: a wine additive that contributes to SO2 levels and acts as an antimicrobial and antioxidant\n",
    "\n",
    "4. Citric Acid: acts as a preservative to increase acidity (small quantities add freshness and flavor to wines)\n",
    "\n",
    "5. Total Sulfur Dioxide: is the amount of free + bound forms of SO2\n",
    "\n",
    "6. Density: sweeter wines have a higher density\n",
    "\n",
    "7. Chlorides: the amount of salt in the wine\n",
    "\n",
    "8. Fixed acidity: are non-volatile acids that do not evaporate readily\n",
    "\n",
    "9. pH: the level of acidity\n",
    "\n",
    "10. Free Sulfur Dioxide: it prevents microbial growth and the oxidation of wine\n",
    "\n",
    "11. Residual sugar: is the amount of sugar remaining after fermentation stops. The key is to have a perfect balance between — sweetness and sourness (wines > 45g/ltrs are sweet)"
   ]
  },
  {
   "cell_type": "markdown",
   "id": "e1a63031",
   "metadata": {},
   "source": [
    "Starting with our dependent variable, quality, I found the popularity of the medium/average values of quality: 5 and 6. "
   ]
  },
  {
   "cell_type": "markdown",
   "id": "434a0069",
   "metadata": {},
   "source": [
    "Considering the dependent variable’s transformation, I found out that our data is normally distributed. "
   ]
  },
  {
   "cell_type": "markdown",
   "id": "82726f05",
   "metadata": {},
   "source": [
    "This conclusion can be verified by running a QQ plot, which shows no need to transform our data."
   ]
  },
  {
   "cell_type": "markdown",
   "id": "1ca7e62b",
   "metadata": {},
   "source": [
    "aquí va diagrama de barras de la variable calidad(quality)."
   ]
  },
  {
   "cell_type": "markdown",
   "id": "d68fd5c6",
   "metadata": {},
   "source": [
    "Next, for independent numerical variables, the first step to further analyze the relationship with our dependent variable was to create density plots visualizing the spread of the data."
   ]
  },
  {
   "cell_type": "code",
   "execution_count": null,
   "id": "a2f0f048",
   "metadata": {},
   "outputs": [],
   "source": []
  },
  {
   "cell_type": "code",
   "execution_count": null,
   "id": "e6c606b4",
   "metadata": {},
   "outputs": [],
   "source": []
  },
  {
   "cell_type": "code",
   "execution_count": null,
   "id": "b2e1a5bb",
   "metadata": {},
   "outputs": [],
   "source": []
  },
  {
   "cell_type": "code",
   "execution_count": null,
   "id": "a1a983cc",
   "metadata": {},
   "outputs": [],
   "source": []
  },
  {
   "cell_type": "code",
   "execution_count": null,
   "id": "efd43f15",
   "metadata": {},
   "outputs": [],
   "source": []
  },
  {
   "cell_type": "code",
   "execution_count": null,
   "id": "48ef7454",
   "metadata": {},
   "outputs": [],
   "source": []
  },
  {
   "cell_type": "markdown",
   "id": "449cad0e",
   "metadata": {},
   "source": [
    "## Referencias  \n",
    "\n",
    " * https://towardsdatascience.com/red-wine-quality-prediction-using-regression-modeling-and-machine-learning-7a3e2c3e1f46  \n",
    " \n",
    " * https://www.kaggle.com/uciml/red-wine-quality-cortez-et-al-2009 "
   ]
  },
  {
   "cell_type": "code",
   "execution_count": null,
   "id": "def1d8e2",
   "metadata": {},
   "outputs": [],
   "source": []
  }
 ],
 "metadata": {
  "celltoolbar": "Slideshow",
  "kernelspec": {
   "display_name": "Python 3 (ipykernel)",
   "language": "python",
   "name": "python3"
  },
  "language_info": {
   "codemirror_mode": {
    "name": "ipython",
    "version": 3
   },
   "file_extension": ".py",
   "mimetype": "text/x-python",
   "name": "python",
   "nbconvert_exporter": "python",
   "pygments_lexer": "ipython3",
   "version": "3.9.7"
  }
 },
 "nbformat": 4,
 "nbformat_minor": 5
}
