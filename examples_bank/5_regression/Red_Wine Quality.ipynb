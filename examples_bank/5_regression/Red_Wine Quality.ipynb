{
 "cells": [
  {
   "cell_type": "markdown",
   "id": "66d3c803",
   "metadata": {},
   "source": []
  },
  {
   "cell_type": "markdown",
   "id": "ae67238f",
   "metadata": {},
   "source": [
    "# [Red Wine Quality Prediction Using Regression Modeling and Machine Learning](https://towardsdatascience.com/red-wine-quality-prediction-using-regression-modeling-and-machine-learning-7a3e2c3e1f46)"
   ]
  },
  {
   "cell_type": "markdown",
   "id": "3a73b05b",
   "metadata": {},
   "source": [
    "<img src = 'https://miro.medium.com/max/1050/1*oXOppV_n4hv-tf8Y96QHxQ.png'> "
   ]
  },
  {
   "cell_type": "markdown",
   "id": "6bec1b56",
   "metadata": {},
   "source": [
    "La industria del vino tinto muestra un crecimiento exponencial reciente a medida que aumenta el consumo social. "
   ]
  },
  {
   "cell_type": "markdown",
   "id": "19cb966c",
   "metadata": {},
   "source": [
    "Hoy en día, los actores de la industria están utilizando certificaciones de calidad de productos para promocionar sus productos. "
   ]
  },
  {
   "cell_type": "markdown",
   "id": "46da77ff",
   "metadata": {},
   "source": [
    "Este es un proceso que requiere mucho tiempo y requiere la evaluación de expertos humanos, lo que hace que este proceso sea muy costoso. "
   ]
  },
  {
   "cell_type": "markdown",
   "id": "5bd9580f",
   "metadata": {},
   "source": [
    "Además, el precio del vino tinto depende de un concepto bastante abstracto de la apreciación del vino por parte de los catadores, cuya opinión puede tener un alto grado de variabilidad. "
   ]
  },
  {
   "cell_type": "markdown",
   "id": "ce7173db",
   "metadata": {},
   "source": [
    "Otro factor vital en la certificación y evaluación de la calidad del vino tinto son las pruebas fisicoquímicas, que se realizan en laboratorio y consideran factores como la acidez, el nivel de pH, el azúcar y otras propiedades químicas. "
   ]
  },
  {
   "cell_type": "markdown",
   "id": "84eeaabe",
   "metadata": {},
   "source": [
    "El mercado del vino tinto sería de interés si la calidad humana de la degustación se puede relacionar con las propiedades químicas del vino para que los procesos de certificación y evaluación y aseguramiento de la calidad estén más controlados. "
   ]
  },
  {
   "cell_type": "markdown",
   "id": "5031e78a",
   "metadata": {},
   "source": [
    "Este proyecto tiene como objetivo determinar qué características son los mejores indicadores de calidad del vino tinto y generar información sobre cada uno de estos factores para la calidad del vino tinto de nuestro modelo."
   ]
  },
  {
   "cell_type": "markdown",
   "id": "05bebd6f",
   "metadata": {},
   "source": [
    "## Comprensión de datos"
   ]
  },
  {
   "cell_type": "markdown",
   "id": "fd275c6d",
   "metadata": {},
   "source": [
    "Mi análisis utilizará el conjunto de datos de calidad del vino tinto, disponible en el repositorio de aprendizaje automático de UCI (https://archive.ics.uci.edu/ml/datasets/wine+quality). "
   ]
  },
  {
   "cell_type": "markdown",
   "id": "ccc01c5d",
   "metadata": {},
   "source": [
    "Obtuve las muestras de vino tinto del norte de Portugal para modelar la calidad del vino tinto en base a pruebas fisicoquímicas. "
   ]
  },
  {
   "cell_type": "markdown",
   "id": "2c5a2e44",
   "metadata": {},
   "source": [
    "El conjunto de datos contiene un total de 12 variables, que se registraron para 1599 observaciones. "
   ]
  },
  {
   "cell_type": "markdown",
   "id": "94b6c2b0",
   "metadata": {},
   "source": [
    "Estos datos nos permitirán crear diferentes modelos de regresión para determinar cómo diferentes variables independientes ayudan a predecir nuestra variable dependiente, la calidad. "
   ]
  },
  {
   "cell_type": "markdown",
   "id": "f0a4930d",
   "metadata": {},
   "source": [
    "Saber cómo afectará cada variable a la calidad del vino tinto ayudará a los productores, distribuidores y empresas de la industria del vino tinto a evaluar mejor su estrategia de producción, distribución y fijación de precios."
   ]
  },
  {
   "cell_type": "markdown",
   "id": "80229b8c",
   "metadata": {},
   "source": [
    "## Preparación de datos\n",
    "\n",
    "### Limpieza de datos"
   ]
  },
  {
   "cell_type": "markdown",
   "id": "ff843061",
   "metadata": {},
   "source": [
    "Mi primer paso fue limpiar y preparar los datos para el análisis. "
   ]
  },
  {
   "cell_type": "markdown",
   "id": "e92c3712",
   "metadata": {},
   "source": [
    "Pasé por diferentes pasos de limpieza de datos. "
   ]
  },
  {
   "cell_type": "markdown",
   "id": "4367d1f5",
   "metadata": {},
   "source": [
    "Primero, verifiqué los tipos de datos centrándome en numéricos y categóricos para simplificar el cálculo y la visualización de la correlación. "
   ]
  },
  {
   "cell_type": "markdown",
   "id": "f644da91",
   "metadata": {},
   "source": [
    "En segundo lugar, traté de identificar los valores faltantes existentes en nuestro conjunto de datos. "
   ]
  },
  {
   "cell_type": "markdown",
   "id": "ec1c2291",
   "metadata": {},
   "source": [
    "Por último, investigué el resumen estadístico de cada columna/característica para detectar cualquier problema como valores atípicos y distribuciones anormales."
   ]
  },
  {
   "cell_type": "code",
   "execution_count": 6,
   "id": "6eecd265",
   "metadata": {},
   "outputs": [],
   "source": [
    "import numpy as np \n",
    "import pandas as pd \n",
    "\n",
    "v = pd.read_csv('vino.csv') "
   ]
  },
  {
   "cell_type": "code",
   "execution_count": 7,
   "id": "e4b99afb",
   "metadata": {},
   "outputs": [
    {
     "data": {
      "text/html": [
       "<div>\n",
       "<style scoped>\n",
       "    .dataframe tbody tr th:only-of-type {\n",
       "        vertical-align: middle;\n",
       "    }\n",
       "\n",
       "    .dataframe tbody tr th {\n",
       "        vertical-align: top;\n",
       "    }\n",
       "\n",
       "    .dataframe thead th {\n",
       "        text-align: right;\n",
       "    }\n",
       "</style>\n",
       "<table border=\"1\" class=\"dataframe\">\n",
       "  <thead>\n",
       "    <tr style=\"text-align: right;\">\n",
       "      <th></th>\n",
       "      <th>fixed acidity</th>\n",
       "      <th>volatile acidity</th>\n",
       "      <th>citric acid</th>\n",
       "      <th>residual sugar</th>\n",
       "      <th>chlorides</th>\n",
       "      <th>free sulfur dioxide</th>\n",
       "      <th>total sulfur dioxide</th>\n",
       "      <th>density</th>\n",
       "      <th>pH</th>\n",
       "      <th>sulphates</th>\n",
       "      <th>alcohol</th>\n",
       "      <th>quality</th>\n",
       "    </tr>\n",
       "  </thead>\n",
       "  <tbody>\n",
       "    <tr>\n",
       "      <th>0</th>\n",
       "      <td>7.4</td>\n",
       "      <td>0.70</td>\n",
       "      <td>0.00</td>\n",
       "      <td>1.9</td>\n",
       "      <td>0.076</td>\n",
       "      <td>11.0</td>\n",
       "      <td>34.0</td>\n",
       "      <td>0.9978</td>\n",
       "      <td>3.51</td>\n",
       "      <td>0.56</td>\n",
       "      <td>9.4</td>\n",
       "      <td>5</td>\n",
       "    </tr>\n",
       "    <tr>\n",
       "      <th>1</th>\n",
       "      <td>7.8</td>\n",
       "      <td>0.88</td>\n",
       "      <td>0.00</td>\n",
       "      <td>2.6</td>\n",
       "      <td>0.098</td>\n",
       "      <td>25.0</td>\n",
       "      <td>67.0</td>\n",
       "      <td>0.9968</td>\n",
       "      <td>3.20</td>\n",
       "      <td>0.68</td>\n",
       "      <td>9.8</td>\n",
       "      <td>5</td>\n",
       "    </tr>\n",
       "    <tr>\n",
       "      <th>2</th>\n",
       "      <td>7.8</td>\n",
       "      <td>0.76</td>\n",
       "      <td>0.04</td>\n",
       "      <td>2.3</td>\n",
       "      <td>0.092</td>\n",
       "      <td>15.0</td>\n",
       "      <td>54.0</td>\n",
       "      <td>0.9970</td>\n",
       "      <td>3.26</td>\n",
       "      <td>0.65</td>\n",
       "      <td>9.8</td>\n",
       "      <td>5</td>\n",
       "    </tr>\n",
       "    <tr>\n",
       "      <th>3</th>\n",
       "      <td>11.2</td>\n",
       "      <td>0.28</td>\n",
       "      <td>0.56</td>\n",
       "      <td>1.9</td>\n",
       "      <td>0.075</td>\n",
       "      <td>17.0</td>\n",
       "      <td>60.0</td>\n",
       "      <td>0.9980</td>\n",
       "      <td>3.16</td>\n",
       "      <td>0.58</td>\n",
       "      <td>9.8</td>\n",
       "      <td>6</td>\n",
       "    </tr>\n",
       "    <tr>\n",
       "      <th>4</th>\n",
       "      <td>7.4</td>\n",
       "      <td>0.70</td>\n",
       "      <td>0.00</td>\n",
       "      <td>1.9</td>\n",
       "      <td>0.076</td>\n",
       "      <td>11.0</td>\n",
       "      <td>34.0</td>\n",
       "      <td>0.9978</td>\n",
       "      <td>3.51</td>\n",
       "      <td>0.56</td>\n",
       "      <td>9.4</td>\n",
       "      <td>5</td>\n",
       "    </tr>\n",
       "  </tbody>\n",
       "</table>\n",
       "</div>"
      ],
      "text/plain": [
       "   fixed acidity  volatile acidity  citric acid  residual sugar  chlorides  \\\n",
       "0            7.4              0.70         0.00             1.9      0.076   \n",
       "1            7.8              0.88         0.00             2.6      0.098   \n",
       "2            7.8              0.76         0.04             2.3      0.092   \n",
       "3           11.2              0.28         0.56             1.9      0.075   \n",
       "4            7.4              0.70         0.00             1.9      0.076   \n",
       "\n",
       "   free sulfur dioxide  total sulfur dioxide  density    pH  sulphates  \\\n",
       "0                 11.0                  34.0   0.9978  3.51       0.56   \n",
       "1                 25.0                  67.0   0.9968  3.20       0.68   \n",
       "2                 15.0                  54.0   0.9970  3.26       0.65   \n",
       "3                 17.0                  60.0   0.9980  3.16       0.58   \n",
       "4                 11.0                  34.0   0.9978  3.51       0.56   \n",
       "\n",
       "   alcohol  quality  \n",
       "0      9.4        5  \n",
       "1      9.8        5  \n",
       "2      9.8        5  \n",
       "3      9.8        6  \n",
       "4      9.4        5  "
      ]
     },
     "execution_count": 7,
     "metadata": {},
     "output_type": "execute_result"
    }
   ],
   "source": [
    "v.head() "
   ]
  },
  {
   "cell_type": "code",
   "execution_count": 8,
   "id": "196f5be5",
   "metadata": {},
   "outputs": [
    {
     "name": "stdout",
     "output_type": "stream",
     "text": [
      "<class 'pandas.core.frame.DataFrame'>\n",
      "RangeIndex: 1599 entries, 0 to 1598\n",
      "Data columns (total 12 columns):\n",
      " #   Column                Non-Null Count  Dtype  \n",
      "---  ------                --------------  -----  \n",
      " 0   fixed acidity         1599 non-null   float64\n",
      " 1   volatile acidity      1599 non-null   float64\n",
      " 2   citric acid           1599 non-null   float64\n",
      " 3   residual sugar        1599 non-null   float64\n",
      " 4   chlorides             1599 non-null   float64\n",
      " 5   free sulfur dioxide   1599 non-null   float64\n",
      " 6   total sulfur dioxide  1599 non-null   float64\n",
      " 7   density               1599 non-null   float64\n",
      " 8   pH                    1599 non-null   float64\n",
      " 9   sulphates             1599 non-null   float64\n",
      " 10  alcohol               1599 non-null   float64\n",
      " 11  quality               1599 non-null   int64  \n",
      "dtypes: float64(11), int64(1)\n",
      "memory usage: 150.0 KB\n"
     ]
    }
   ],
   "source": [
    "v.info() "
   ]
  },
  {
   "cell_type": "markdown",
   "id": "13b4f479",
   "metadata": {},
   "source": [
    "## Exploración y transformación de datos"
   ]
  },
  {
   "cell_type": "markdown",
   "id": "0970388e",
   "metadata": {},
   "source": [
    "Para ver qué variables es probable que afecten más la calidad del vino tinto, realicé un análisis de correlación de nuestras variables independientes con nuestra variable dependiente, la calidad. "
   ]
  },
  {
   "cell_type": "markdown",
   "id": "075e3fa0",
   "metadata": {},
   "source": [
    "Este análisis terminó con una lista de variables de interés que tenían las correlaciones más altas con la calidad."
   ]
  },
  {
   "cell_type": "code",
   "execution_count": null,
   "id": "47bfa7e5",
   "metadata": {},
   "outputs": [],
   "source": []
  },
  {
   "cell_type": "code",
   "execution_count": null,
   "id": "25af6df8",
   "metadata": {},
   "outputs": [],
   "source": []
  },
  {
   "cell_type": "code",
   "execution_count": null,
   "id": "5d37c22c",
   "metadata": {},
   "outputs": [],
   "source": []
  },
  {
   "cell_type": "code",
   "execution_count": null,
   "id": "776ae81b",
   "metadata": {},
   "outputs": [],
   "source": []
  },
  {
   "cell_type": "code",
   "execution_count": null,
   "id": "0485d601",
   "metadata": {},
   "outputs": [],
   "source": []
  },
  {
   "cell_type": "code",
   "execution_count": null,
   "id": "cbeb6904",
   "metadata": {},
   "outputs": [],
   "source": []
  },
  {
   "cell_type": "code",
   "execution_count": null,
   "id": "e6cd45c1",
   "metadata": {},
   "outputs": [],
   "source": []
  },
  {
   "cell_type": "code",
   "execution_count": null,
   "id": "ca929607",
   "metadata": {},
   "outputs": [],
   "source": []
  },
  {
   "cell_type": "code",
   "execution_count": null,
   "id": "0bea2373",
   "metadata": {},
   "outputs": [],
   "source": []
  },
  {
   "cell_type": "code",
   "execution_count": null,
   "id": "a95726df",
   "metadata": {},
   "outputs": [],
   "source": []
  },
  {
   "cell_type": "code",
   "execution_count": null,
   "id": "4a724036",
   "metadata": {},
   "outputs": [],
   "source": []
  },
  {
   "cell_type": "markdown",
   "id": "09a0ecc7",
   "metadata": {},
   "source": [
    "## Referencias  \n",
    "\n",
    " * https://towardsdatascience.com/red-wine-quality-prediction-using-regression-modeling-and-machine-learning-7a3e2c3e1f46  \n",
    " \n",
    " * https://www.kaggle.com/uciml/red-wine-quality-cortez-et-al-2009 "
   ]
  },
  {
   "cell_type": "code",
   "execution_count": null,
   "id": "cb2ee199",
   "metadata": {},
   "outputs": [],
   "source": []
  }
 ],
 "metadata": {
  "kernelspec": {
   "display_name": "Python 3 (ipykernel)",
   "language": "python",
   "name": "python3"
  },
  "language_info": {
   "codemirror_mode": {
    "name": "ipython",
    "version": 3
   },
   "file_extension": ".py",
   "mimetype": "text/x-python",
   "name": "python",
   "nbconvert_exporter": "python",
   "pygments_lexer": "ipython3",
   "version": "3.9.7"
  }
 },
 "nbformat": 4,
 "nbformat_minor": 5
}
