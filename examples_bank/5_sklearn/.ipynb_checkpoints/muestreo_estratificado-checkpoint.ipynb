{
 "cells": [
  {
   "cell_type": "markdown",
   "id": "46857ddd",
   "metadata": {
    "slideshow": {
     "slide_type": "slide"
    }
   },
   "source": [
    "<table align=\"left\">\n",
    "  <td>\n",
    "    <a href=\"https://colab.research.google.com/github/marco-canas/intro-Machine-Learning/blob/main/examples_bank/5_sklearn/muestreo_estratificado.ipynb\" target=\"_parent\"><img src=\"https://colab.research.google.com/assets/colab-badge.svg\" alt=\"Open In Colab\"/></a>\n",
    "  </td>\n",
    "</table>"
   ]
  },
  {
   "cell_type": "markdown",
   "id": "67f1382a",
   "metadata": {
    "slideshow": {
     "slide_type": "slide"
    }
   },
   "source": [
    "# Muestreo estratificado"
   ]
  },
  {
   "cell_type": "markdown",
   "id": "bb1df7f4",
   "metadata": {
    "slideshow": {
     "slide_type": "slide"
    }
   },
   "source": [
    "Hasta ahora hemos considerado métodos de muestreo puramente aleatorios."
   ]
  },
  {
   "cell_type": "markdown",
   "id": "ff849895",
   "metadata": {
    "slideshow": {
     "slide_type": "slide"
    }
   },
   "source": [
    "Esto generalmente está bien si su conjunto de datos es lo suficientemente grande (especialmente en relación con la cantidad de atributos), pero si no lo es, corre el riesgo de introducir un sesgo de muestreo significativo."
   ]
  },
  {
   "cell_type": "markdown",
   "id": "99506392",
   "metadata": {
    "slideshow": {
     "slide_type": "slide"
    }
   },
   "source": [
    "Cuando una empresa de encuestas decide llamar a 1000 personas para hacerles algunas preguntas, no elige a 1000 personas al azar en una guía telefónica."
   ]
  },
  {
   "cell_type": "markdown",
   "id": "6bf50ded",
   "metadata": {
    "slideshow": {
     "slide_type": "slide"
    }
   },
   "source": [
    "Intentan asegurarse de que estas 1.000 personas sean representativas de toda la población."
   ]
  },
  {
   "cell_type": "markdown",
   "id": "c8d9090f",
   "metadata": {
    "slideshow": {
     "slide_type": "slide"
    }
   },
   "source": [
    "Por ejemplo, la población de EE.UU. es 51,3 % de mujeres y 48,7 % de hombres, por lo que una encuesta bien realizada en EE. UU. intentaría mantener esta proporción en la muestra: 513 mujeres y 487 hombres."
   ]
  },
  {
   "cell_type": "markdown",
   "id": "6342d3cb",
   "metadata": {
    "slideshow": {
     "slide_type": "slide"
    }
   },
   "source": [
    "Esto se denomina muestreo estratificado: la población se divide en subgrupos homogéneos llamados estratos, y se muestrea el número correcto de instancias de cada estrato para garantizar que el conjunto de prueba sea representativo de la población general."
   ]
  },
  {
   "cell_type": "markdown",
   "id": "22ed2ab8",
   "metadata": {
    "slideshow": {
     "slide_type": "slide"
    }
   },
   "source": [
    "Si las personas que realizan la encuesta usaran un muestreo puramente aleatorio, habría alrededor de un 12 % de posibilidades de muestrear un conjunto de prueba sesgado que tuviera menos del 49 % de mujeres o más del 54 % de mujeres."
   ]
  },
  {
   "cell_type": "markdown",
   "id": "bbe6f7e4",
   "metadata": {
    "slideshow": {
     "slide_type": "slide"
    }
   },
   "source": [
    "De cualquier manera, los resultados de la encuesta estarían significativamente sesgados."
   ]
  },
  {
   "cell_type": "markdown",
   "id": "5c525ddd",
   "metadata": {
    "slideshow": {
     "slide_type": "slide"
    }
   },
   "source": [
    "Suponga que conversó con expertos que le dijeron que el ingreso medio es un atributo muy importante para predecir los precios medios de la vivienda."
   ]
  },
  {
   "cell_type": "markdown",
   "id": "1557509e",
   "metadata": {
    "slideshow": {
     "slide_type": "slide"
    }
   },
   "source": [
    "Es posible que desee asegurarse de que el conjunto de prueba sea representativo de las diversas categorías de ingresos en todo el conjunto de datos."
   ]
  },
  {
   "cell_type": "markdown",
   "id": "429da4fe",
   "metadata": {
    "slideshow": {
     "slide_type": "slide"
    }
   },
   "source": [
    "Dado que el ingreso medio es un atributo numérico continuo, primero debe crear un atributo categórico de ingresos."
   ]
  },
  {
   "cell_type": "markdown",
   "id": "fc84ca1a",
   "metadata": {
    "slideshow": {
     "slide_type": "slide"
    }
   },
   "source": [
    "Miremos más de cerca el histograma de ingreso medio"
   ]
  },
  {
   "cell_type": "code",
   "execution_count": 4,
   "id": "44d47f97",
   "metadata": {
    "slideshow": {
     "slide_type": "slide"
    }
   },
   "outputs": [
    {
     "data": {
      "text/plain": [
       "count    20640.000000\n",
       "mean         3.870671\n",
       "std          1.899822\n",
       "min          0.499900\n",
       "25%          2.563400\n",
       "50%          3.534800\n",
       "75%          4.743250\n",
       "max         15.000100\n",
       "Name: ingresos, dtype: float64"
      ]
     },
     "execution_count": 4,
     "metadata": {},
     "output_type": "execute_result"
    }
   ],
   "source": [
    "import pandas as pd\n",
    "v = pd.read_csv('vivienda.csv') \n",
    "v.describe().ingresos"
   ]
  },
  {
   "cell_type": "code",
   "execution_count": 6,
   "id": "53a165bb",
   "metadata": {
    "slideshow": {
     "slide_type": "slide"
    }
   },
   "outputs": [
    {
     "data": {
      "text/plain": [
       "<AxesSubplot:>"
      ]
     },
     "execution_count": 6,
     "metadata": {},
     "output_type": "execute_result"
    },
    {
     "data": {
      "image/png": "[encoded data removed]",
      "text/plain": [
       "<Figure size 432x288 with 1 Axes>"
      ]
     },
     "metadata": {
      "needs_background": "light"
     },
     "output_type": "display_data"
    }
   ],
   "source": [
    "v.ingresos.hist(bins = 50) "
   ]
  },
  {
   "cell_type": "markdown",
   "id": "d1f37353",
   "metadata": {
    "slideshow": {
     "slide_type": "slide"
    }
   },
   "source": [
    "La mayoría de los valores de ingreso medio están agrupados alrededor de 1.5 a 6 (es decir, $15,000–$60,000), pero algunos los ingresos van mucho más allá de 6."
   ]
  },
  {
   "cell_type": "markdown",
   "id": "938caffc",
   "metadata": {
    "slideshow": {
     "slide_type": "slide"
    }
   },
   "source": [
    "Es importante tener una cantidad suficiente de instancias en su conjunto de datos para cada estrato, de lo contrario, la estimación de la importancia de un estrato puede estar sesgada."
   ]
  },
  {
   "cell_type": "markdown",
   "id": "ed6ab7a1",
   "metadata": {
    "slideshow": {
     "slide_type": "slide"
    }
   },
   "source": [
    "Esto significa que no debe tener demasiados estratos, y cada estrato debe ser lo suficientemente grande."
   ]
  },
  {
   "cell_type": "markdown",
   "id": "bd6ca849",
   "metadata": {
    "slideshow": {
     "slide_type": "slide"
    }
   },
   "source": [
    "* El siguiente código usa la función `pd.cut()` para crear un atributo categórico de ingresos  \n",
    "  con cinco categorías (etiquetadas del 1 al 5): \n",
    "* la categoría 1 va de 0 a 1,5 (es decir, menos de $15 000), \n",
    "* la categoría 2 de 1,5 a 3, y así:"
   ]
  },
  {
   "cell_type": "code",
   "execution_count": null,
   "id": "d0d94d13",
   "metadata": {
    "slideshow": {
     "slide_type": "slide"
    }
   },
   "outputs": [],
   "source": [
    "import numpy as np \n",
    "import pandas as pd \n",
    "import matplotlib.pyplot as plt "
   ]
  },
  {
   "cell_type": "code",
   "execution_count": null,
   "id": "1f43c538",
   "metadata": {
    "slideshow": {
     "slide_type": "slide"
    }
   },
   "outputs": [],
   "source": [
    "v = pd.read_csv('vivienda.csv') "
   ]
  },
  {
   "cell_type": "code",
   "execution_count": null,
   "id": "05708b8e",
   "metadata": {
    "scrolled": true,
    "slideshow": {
     "slide_type": "slide"
    }
   },
   "outputs": [],
   "source": [
    "v.head(3)"
   ]
  },
  {
   "cell_type": "code",
   "execution_count": null,
   "id": "b8172042",
   "metadata": {
    "slideshow": {
     "slide_type": "slide"
    }
   },
   "outputs": [],
   "source": [
    "v.describe() "
   ]
  },
  {
   "cell_type": "markdown",
   "id": "f6932b27",
   "metadata": {
    "slideshow": {
     "slide_type": "slide"
    }
   },
   "source": [
    "# Crear un nuevo atributo(la categorización del atributo ingresos)"
   ]
  },
  {
   "cell_type": "code",
   "execution_count": null,
   "id": "028e3f7a",
   "metadata": {
    "slideshow": {
     "slide_type": "slide"
    }
   },
   "outputs": [],
   "source": [
    "v['ingresos_cat'] = pd.cut(v.ingresos, bins = [0, 1.5, 3,4.5,6,np.inf],\\\n",
    "                          labels = [1,2,3,4,5])  "
   ]
  },
  {
   "cell_type": "code",
   "execution_count": null,
   "id": "62c03667",
   "metadata": {
    "slideshow": {
     "slide_type": "slide"
    }
   },
   "outputs": [],
   "source": [
    "v.ingresos_cat.hist()"
   ]
  },
  {
   "cell_type": "code",
   "execution_count": null,
   "id": "6e2601b0",
   "metadata": {
    "slideshow": {
     "slide_type": "slide"
    }
   },
   "outputs": [],
   "source": [
    "from sklearn.model_selection import StratifiedShuffleSplit"
   ]
  },
  {
   "cell_type": "code",
   "execution_count": null,
   "id": "171283ec",
   "metadata": {
    "slideshow": {
     "slide_type": "slide"
    }
   },
   "outputs": [],
   "source": [
    "dividir = StratifiedShuffleSplit(n_splits = 1, test_size = 0.2, random_state = 42) "
   ]
  },
  {
   "cell_type": "code",
   "execution_count": null,
   "id": "5c841ddd",
   "metadata": {
    "slideshow": {
     "slide_type": "slide"
    }
   },
   "outputs": [],
   "source": [
    "for train_index, test_index in dividir.split(v, v.ingresos_cat):\n",
    "    strat_train_set = v.loc[train_index]\n",
    "    strat_test_set = v.loc[test_index]"
   ]
  },
  {
   "cell_type": "code",
   "execution_count": null,
   "id": "6db06239",
   "metadata": {
    "slideshow": {
     "slide_type": "slide"
    }
   },
   "outputs": [],
   "source": [
    "strat_test_set.ingresos_cat.value_counts()/len(strat_test_set) "
   ]
  },
  {
   "cell_type": "code",
   "execution_count": null,
   "id": "830a2e17",
   "metadata": {
    "slideshow": {
     "slide_type": "slide"
    }
   },
   "outputs": [],
   "source": [
    "strat_train_set.ingresos_cat.hist() "
   ]
  },
  {
   "cell_type": "code",
   "execution_count": null,
   "id": "31250746",
   "metadata": {
    "slideshow": {
     "slide_type": "slide"
    }
   },
   "outputs": [],
   "source": [
    "fig,ax = plt.subplots(1,3, figsize = (12,6)) \n",
    "\n",
    "ax[0].hist(strat_train_set.ingresos_cat) \n",
    "ax[1].hist(strat_test_set.ingresos_cat)\n",
    "ax[2].hist(v.ingresos_cat) \n",
    "\n",
    "plt.show() \n"
   ]
  },
  {
   "cell_type": "code",
   "execution_count": null,
   "id": "6d0b882a",
   "metadata": {
    "slideshow": {
     "slide_type": "slide"
    }
   },
   "outputs": [],
   "source": []
  },
  {
   "cell_type": "code",
   "execution_count": null,
   "id": "adf6507c",
   "metadata": {},
   "outputs": [],
   "source": []
  },
  {
   "cell_type": "code",
   "execution_count": null,
   "id": "e41b55a5",
   "metadata": {},
   "outputs": [],
   "source": []
  },
  {
   "cell_type": "code",
   "execution_count": null,
   "id": "3ec39945",
   "metadata": {},
   "outputs": [],
   "source": []
  },
  {
   "cell_type": "code",
   "execution_count": null,
   "id": "314aaab8",
   "metadata": {},
   "outputs": [],
   "source": []
  }
 ],
 "metadata": {
  "celltoolbar": "Slideshow",
  "kernelspec": {
   "display_name": "Python 3 (ipykernel)",
   "language": "python",
   "name": "python3"
  },
  "language_info": {
   "codemirror_mode": {
    "name": "ipython",
    "version": 3
   },
   "file_extension": ".py",
   "mimetype": "text/x-python",
   "name": "python",
   "nbconvert_exporter": "python",
   "pygments_lexer": "ipython3",
   "version": "3.9.7"
  },
  "rise": {
   "enable_chalkboard": true,
   "theme": "sky",
   "transition": "zoom"
  }
 },
 "nbformat": 4,
 "nbformat_minor": 5
}
