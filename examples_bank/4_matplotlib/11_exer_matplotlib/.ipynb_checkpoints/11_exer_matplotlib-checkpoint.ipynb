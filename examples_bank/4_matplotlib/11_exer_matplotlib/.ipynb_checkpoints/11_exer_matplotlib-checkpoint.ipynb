{
 "cells": [
  {
   "cell_type": "code",
   "execution_count": null,
   "id": "ea846e34",
   "metadata": {},
   "outputs": [],
   "source": []
  },
  {
   "cell_type": "markdown",
   "id": "89067742",
   "metadata": {},
   "source": [
    "# Ejercicio 11 Taller Matplotlib "
   ]
  },
  {
   "cell_type": "markdown",
   "id": "6c891229",
   "metadata": {},
   "source": [
    "Graficar en matplotlib la fución $f(t)= \\max(0, 1−t)$ en el dominio $[−2, 4]$.  \n",
    "\n",
    "Diga en cuáles valores de $t$ la función es diferenciable y en cuáles no.\n"
   ]
  },
  {
   "cell_type": "code",
   "execution_count": null,
   "id": "94616459",
   "metadata": {},
   "outputs": [],
   "source": []
  },
  {
   "cell_type": "code",
   "execution_count": null,
   "id": "92fca8cd",
   "metadata": {},
   "outputs": [],
   "source": []
  },
  {
   "cell_type": "code",
   "execution_count": null,
   "id": "f9fc2997",
   "metadata": {},
   "outputs": [],
   "source": []
  },
  {
   "cell_type": "code",
   "execution_count": null,
   "id": "73a936b3",
   "metadata": {},
   "outputs": [],
   "source": []
  }
 ],
 "metadata": {
  "kernelspec": {
   "display_name": "Python 3 (ipykernel)",
   "language": "python",
   "name": "python3"
  },
  "language_info": {
   "codemirror_mode": {
    "name": "ipython",
    "version": 3
   },
   "file_extension": ".py",
   "mimetype": "text/x-python",
   "name": "python",
   "nbconvert_exporter": "python",
   "pygments_lexer": "ipython3",
   "version": "3.9.7"
  }
 },
 "nbformat": 4,
 "nbformat_minor": 5
}
