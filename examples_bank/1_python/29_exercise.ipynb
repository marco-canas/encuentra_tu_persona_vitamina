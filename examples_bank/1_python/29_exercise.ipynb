{
 "cells": [
  {
   "cell_type": "markdown",
   "id": "d945f574",
   "metadata": {},
   "source": []
  },
  {
   "cell_type": "markdown",
   "id": "a91643b9",
   "metadata": {},
   "source": [
    "# Ejercicio 29 del Taller 1 sobre introducción a Python"
   ]
  },
  {
   "cell_type": "markdown",
   "id": "157b7845",
   "metadata": {},
   "source": [
    "29. Construya una función que calcule la varianza muestral de un conjunto de $n$ datos $x_{1}, \\ldots, x_{n}$.  \n",
    "\n",
    "\n",
    "Tome \n",
    "\n",
    "$$ \\overline{x} = \\frac{1}{n} \\sum_{i = 1}^{n} x_{i} $$ \n",
    "\n",
    "y \n",
    "\n",
    "$$ S^{2}_{x} = \\frac{1}{n}\\sum_{i=1}^{n} x^{2}_{i} − \\overline{x}^{2} $$ "
   ]
  },
  {
   "cell_type": "markdown",
   "id": "1b0e3107",
   "metadata": {},
   "source": [
    "## Solución"
   ]
  },
  {
   "cell_type": "markdown",
   "id": "b3ddfa39",
   "metadata": {},
   "source": [
    "### Funciones de Python a utilizar"
   ]
  },
  {
   "cell_type": "markdown",
   "id": "017b1c36",
   "metadata": {},
   "source": [
    "Empiece especificando claramente la entrada de la función a construir y la salida de la misma."
   ]
  },
  {
   "cell_type": "markdown",
   "id": "f3da8d52",
   "metadata": {},
   "source": [
    "* Input: Un arreglo $x$ de numpy con los $n$ datos. \n",
    "* Output: la varianza muestral de $x$. "
   ]
  },
  {
   "cell_type": "markdown",
   "id": "2a8aa717",
   "metadata": {},
   "source": [
    "Sigamos la metodología de desarrollo incremental. "
   ]
  },
  {
   "cell_type": "code",
   "execution_count": 22,
   "id": "e596fe7c",
   "metadata": {},
   "outputs": [],
   "source": [
    "def varianza_muestral(x):\n",
    "    return "
   ]
  },
  {
   "cell_type": "code",
   "execution_count": null,
   "id": "266196d6",
   "metadata": {},
   "outputs": [],
   "source": []
  },
  {
   "cell_type": "code",
   "execution_count": 1,
   "id": "4504673a",
   "metadata": {},
   "outputs": [],
   "source": [
    "import numpy as np "
   ]
  },
  {
   "cell_type": "code",
   "execution_count": 2,
   "id": "b4f55db3",
   "metadata": {},
   "outputs": [],
   "source": [
    "n = 10 # número de datos"
   ]
  },
  {
   "cell_type": "code",
   "execution_count": 17,
   "id": "cedf9435",
   "metadata": {},
   "outputs": [
    {
     "data": {
      "text/plain": [
       "array([5, 8, 4, 5, 9, 5, 8, 3, 9, 6])"
      ]
     },
     "execution_count": 17,
     "metadata": {},
     "output_type": "execute_result"
    }
   ],
   "source": [
    "np.random.seed(513)\n",
    "x = np.random.randint(1,n, size = n)  # np.random.randint(star,stop, size = )\n",
    "x "
   ]
  },
  {
   "cell_type": "code",
   "execution_count": 18,
   "id": "ab5b5008",
   "metadata": {},
   "outputs": [
    {
     "data": {
      "text/plain": [
       "6.2"
      ]
     },
     "execution_count": 18,
     "metadata": {},
     "output_type": "execute_result"
    }
   ],
   "source": [
    "x_bar = np.mean(x)\n",
    "x_bar "
   ]
  },
  {
   "cell_type": "code",
   "execution_count": 19,
   "id": "c8f6fd91",
   "metadata": {},
   "outputs": [
    {
     "data": {
      "text/plain": [
       "42.6"
      ]
     },
     "execution_count": 19,
     "metadata": {},
     "output_type": "execute_result"
    }
   ],
   "source": [
    "x_2_bar = np.mean(x**2)\n",
    "x_2_bar "
   ]
  },
  {
   "cell_type": "code",
   "execution_count": 20,
   "id": "8a7b399e",
   "metadata": {},
   "outputs": [
    {
     "data": {
      "text/plain": [
       "4.159999999999997"
      ]
     },
     "execution_count": 20,
     "metadata": {},
     "output_type": "execute_result"
    }
   ],
   "source": [
    "s_2_x = x_2_bar - x_bar**2\n",
    "s_2_x"
   ]
  },
  {
   "cell_type": "code",
   "execution_count": 21,
   "id": "89bcbf17",
   "metadata": {},
   "outputs": [
    {
     "data": {
      "text/plain": [
       "4.159999999999999"
      ]
     },
     "execution_count": 21,
     "metadata": {},
     "output_type": "execute_result"
    }
   ],
   "source": [
    "np.var(x)"
   ]
  },
  {
   "cell_type": "markdown",
   "id": "29416632",
   "metadata": {},
   "source": [
    "## Referentes  \n",
    "\n",
    "* matplotlib.axes.Axes.text: https://matplotlib.org/stable/api/_as_gen/matplotlib.axes.Axes.text.html"
   ]
  },
  {
   "cell_type": "code",
   "execution_count": null,
   "id": "d10f443e",
   "metadata": {},
   "outputs": [],
   "source": []
  }
 ],
 "metadata": {
  "kernelspec": {
   "display_name": "Python 3",
   "language": "python",
   "name": "python3"
  },
  "language_info": {
   "codemirror_mode": {
    "name": "ipython",
    "version": 3
   },
   "file_extension": ".py",
   "mimetype": "text/x-python",
   "name": "python",
   "nbconvert_exporter": "python",
   "pygments_lexer": "ipython3",
   "version": "3.8.8"
  },
  "latex_envs": {
   "LaTeX_envs_menu_present": true,
   "autoclose": false,
   "autocomplete": false,
   "bibliofile": "biblio.bib",
   "cite_by": "apalike",
   "current_citInitial": 1,
   "eqLabelWithNumbers": true,
   "eqNumInitial": 1,
   "hotkeys": {
    "equation": "Ctrl-E",
    "itemize": "Ctrl-I"
   },
   "labels_anchors": false,
   "latex_user_defs": false,
   "report_style_numbering": false,
   "user_envs_cfg": false
  }
 },
 "nbformat": 4,
 "nbformat_minor": 5
}
