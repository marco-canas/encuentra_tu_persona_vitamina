{
 "cells": [
  {
   "cell_type": "markdown",
   "id": "c2ed0334",
   "metadata": {},
   "source": [
    "\n",
    "<table align=\"left\">\n",
    "  <td>\n",
    "    <a href=\"https://colab.research.google.com/github/marco-canas/taca/blob/main/ref/geron/chap_2/5_prepare_for_algorithms/1_prepare_for_algorithms.ipynb\" target=\"_parent\"><img src=\"https://colab.research.google.com/assets/colab-badge.svg\" alt=\"Open In Colab\"/></a>\n",
    "  </td>\n",
    "  <td>\n",
    "    <a target=\"_blank\" href=\"https://kaggle.com/kernels/welcome?src=https://github.com/marco-canas/taca/blob/main/ref/geron/chap_2/5_prepare_for_algorithms/1_prepare_for_algorithms.ipynb\"><img src=\"https://kaggle.com/static/images/open-in-kaggle.svg\" /></a>\n",
    "  </td>\n",
    "</table> \n"
   ]
  },
  {
   "cell_type": "markdown",
   "id": "a8a7fe0e",
   "metadata": {},
   "source": [
    "# Problema 20"
   ]
  },
  {
   "cell_type": "markdown",
   "id": "e0c2c489",
   "metadata": {},
   "source": [
    "20. Tres estudiantes deciden invertir su dinero para fundar una empresa.   \n",
    "\n",
    "Cada uno de ellos invierte una cantidad distinta, digamos a, b y c.   \n",
    "\n",
    "Elabore una función que muestre por pantalla lo que aporta cada uno y el porcentaje que significa con respecto a la inversión total."
   ]
  },
  {
   "cell_type": "code",
   "execution_count": null,
   "id": "fc91a08e",
   "metadata": {},
   "outputs": [],
   "source": []
  },
  {
   "cell_type": "code",
   "execution_count": 15,
   "id": "e69383e0",
   "metadata": {},
   "outputs": [],
   "source": [
    "def inversion_porcentaje(a,b,c):\n",
    "    print('El aporte del primer estudiante es:', a, 'y el porcentaje que esta inversión representa es de:',a/(a+b+c)*100)"
   ]
  },
  {
   "cell_type": "code",
   "execution_count": 16,
   "id": "5a17328e",
   "metadata": {},
   "outputs": [
    {
     "name": "stdout",
     "output_type": "stream",
     "text": [
      "El aporte del primer estudiante es: 10 y el porcentaje que esta inversión representa es de: 16.666666666666664\n"
     ]
    }
   ],
   "source": [
    "inversion_porcentaje(10,20,30)"
   ]
  },
  {
   "cell_type": "code",
   "execution_count": null,
   "id": "5a504ab5",
   "metadata": {},
   "outputs": [],
   "source": []
  }
 ],
 "metadata": {
  "kernelspec": {
   "display_name": "Python 3",
   "language": "python",
   "name": "python3"
  },
  "language_info": {
   "codemirror_mode": {
    "name": "ipython",
    "version": 3
   },
   "file_extension": ".py",
   "mimetype": "text/x-python",
   "name": "python",
   "nbconvert_exporter": "python",
   "pygments_lexer": "ipython3",
   "version": "3.8.8"
  },
  "latex_envs": {
   "LaTeX_envs_menu_present": true,
   "autoclose": false,
   "autocomplete": false,
   "bibliofile": "biblio.bib",
   "cite_by": "apalike",
   "current_citInitial": 1,
   "eqLabelWithNumbers": true,
   "eqNumInitial": 1,
   "hotkeys": {
    "equation": "Ctrl-E",
    "itemize": "Ctrl-I"
   },
   "labels_anchors": false,
   "latex_user_defs": false,
   "report_style_numbering": false,
   "user_envs_cfg": false
  }
 },
 "nbformat": 4,
 "nbformat_minor": 5
}
