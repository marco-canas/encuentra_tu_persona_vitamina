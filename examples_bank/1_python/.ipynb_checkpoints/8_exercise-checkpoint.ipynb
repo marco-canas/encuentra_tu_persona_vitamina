{
 "cells": [
  {
   "cell_type": "markdown",
   "id": "e44a03ec",
   "metadata": {
    "slideshow": {
     "slide_type": "slide"
    }
   },
   "source": [
    "<table align=\"left\">\n",
    "  <td>\n",
    "    <a href=\"https://colab.research.google.com/github/marco-canas/taca/blob/main/ref/geron/chap_2/5_prepare_for_algorithms/2_data_cleaning.ipynb\" target=\"_parent\"><img src=\"https://colab.research.google.com/assets/colab-badge.svg\" alt=\"Open In Colab\"/></a>\n",
    "  </td>\n",
    "  <td>\n",
    "    <a target=\"_blank\" href=\"https://kaggle.com/kernels/welcome?src=https://github.com/marco-canas/taca/blob/main/ref/geron/chap_2/5_prepare_for_algorithms/2_data_cleaning.ipynb\"><img src=\"https://kaggle.com/static/images/open-in-kaggle.svg\" /></a>\n",
    "  </td>\n",
    "</table>\n"
   ]
  },
  {
   "cell_type": "markdown",
   "id": "ae6d737d",
   "metadata": {
    "slideshow": {
     "slide_type": "slide"
    }
   },
   "source": [
    "## Ejercicio 8 del taller sobre funciones en Python"
   ]
  },
  {
   "cell_type": "markdown",
   "id": "09e328c8",
   "metadata": {
    "slideshow": {
     "slide_type": "slide"
    }
   },
   "source": [
    "## [Video de apoyo]() "
   ]
  },
  {
   "cell_type": "markdown",
   "id": "250fda2f",
   "metadata": {
    "slideshow": {
     "slide_type": "slide"
    }
   },
   "source": [
    "8. Construya una función en la que la entrada son **cinco** puntos del plano. \n",
    "\n",
    "La función determinará (y retornará) cuál de los cuatro últimos puntos está más cerca del primero.\n"
   ]
  },
  {
   "cell_type": "markdown",
   "id": "cbb20b21",
   "metadata": {
    "slideshow": {
     "slide_type": "slide"
    }
   },
   "source": [
    "## Solución: "
   ]
  },
  {
   "cell_type": "markdown",
   "id": "fdb5ba43",
   "metadata": {
    "slideshow": {
     "slide_type": "slide"
    }
   },
   "source": [
    "### Metodología para la solución del problema"
   ]
  },
  {
   "cell_type": "markdown",
   "id": "46e931df",
   "metadata": {
    "slideshow": {
     "slide_type": "slide"
    }
   },
   "source": [
    "1. Generar cinco puntos del plano de componentes enteras de manera aleatoria.  \n",
    "1. Construir una función `dist_plano()` que calcule la distancia en el plano de dos puntos dados por el usuario. "
   ]
  },
  {
   "cell_type": "code",
   "execution_count": null,
   "id": "04b05892",
   "metadata": {
    "slideshow": {
     "slide_type": "slide"
    }
   },
   "outputs": [],
   "source": []
  },
  {
   "cell_type": "markdown",
   "id": "b9d4c537",
   "metadata": {
    "slideshow": {
     "slide_type": "slide"
    }
   },
   "source": [
    "### Implementación de la metodología"
   ]
  },
  {
   "cell_type": "markdown",
   "id": "9e2e3094",
   "metadata": {
    "slideshow": {
     "slide_type": "slide"
    }
   },
   "source": [
    "### Generación aleatoria de una lista de cinco puntos en el plano "
   ]
  },
  {
   "cell_type": "code",
   "execution_count": 56,
   "id": "80e3b7da",
   "metadata": {
    "slideshow": {
     "slide_type": "slide"
    }
   },
   "outputs": [
    {
     "data": {
      "text/plain": [
       "[[2, 4], [3, 4], [-2, 3], [-5, -1], [-1, 3]]"
      ]
     },
     "execution_count": 56,
     "metadata": {},
     "output_type": "execute_result"
    }
   ],
   "source": [
    "from random import randint\n",
    "lista_puntos = []\n",
    "for i in range(5):\n",
    "    lista_puntos.append([randint(-5,5),randint(-5,5)]) \n",
    "\n",
    "lista_puntos "
   ]
  },
  {
   "cell_type": "markdown",
   "id": "ce6c0f6a",
   "metadata": {
    "slideshow": {
     "slide_type": "slide"
    }
   },
   "source": [
    "## Graficación con Matplotlib de los puntos generados"
   ]
  },
  {
   "cell_type": "code",
   "execution_count": 57,
   "id": "91b0d0a4",
   "metadata": {
    "slideshow": {
     "slide_type": "slide"
    }
   },
   "outputs": [
    {
     "data": {
      "image/png": "[encoded data removed]",
      "text/plain": [
       "<Figure size 432x288 with 1 Axes>"
      ]
     },
     "metadata": {
      "needs_background": "light"
     },
     "output_type": "display_data"
    }
   ],
   "source": [
    "import numpy as np \n",
    "from matplotlib import pyplot as plt \n",
    "\n",
    "x_coord = []\n",
    "y_coord = []\n",
    "\n",
    "for k in range(5):\n",
    "    x_coord.append(lista_puntos[k][0])\n",
    "    y_coord.append(lista_puntos[k][1])\n",
    "    \n",
    "plt.scatter(x_coord[0], y_coord[0], color = 'red')\n",
    "\n",
    "plt.scatter(x_coord[1:], y_coord[1:], color = 'green')\n",
    "\n",
    "plt.axis([-6,6,-6,6]) \n",
    "plt.grid(alpha = 0.6) \n",
    "plt.show() "
   ]
  },
  {
   "cell_type": "code",
   "execution_count": 41,
   "id": "ebc7ee3a",
   "metadata": {
    "scrolled": true,
    "slideshow": {
     "slide_type": "slide"
    }
   },
   "outputs": [],
   "source": [
    "#lista_puntos = []\n",
    "#for i in range(5):\n",
    "#    lista_puntos.append(list(input('''ingrese las coordenadas x e y de un punto del plano\n",
    "#    (sin delimitadores y separadas por coma): ''').split(',')))  \n",
    "                  \n",
    "#lista_puntos                   "
   ]
  },
  {
   "cell_type": "code",
   "execution_count": 42,
   "id": "e3a7d82a",
   "metadata": {
    "slideshow": {
     "slide_type": "slide"
    }
   },
   "outputs": [],
   "source": [
    "#for i in range(5):\n",
    "#    for j in range(2):\n",
    "#        lista_puntos[i][j] = float(lista_puntos[i][j])\n",
    "#        \n",
    "#lista_puntos         "
   ]
  },
  {
   "cell_type": "code",
   "execution_count": 58,
   "id": "8c25ddf1",
   "metadata": {
    "slideshow": {
     "slide_type": "slide"
    }
   },
   "outputs": [],
   "source": [
    "def dist_plano(A,B):\n",
    "    x_coor = list(zip(A,B))[0]\n",
    "    y_coor = list(zip(A,B))[1]\n",
    "    dx = abs(x_coor[0] - x_coor[1])\n",
    "    dy = abs(y_coor[0] - y_coor[1])\n",
    "    return (dx**2 + dy**2)**(1/2)"
   ]
  },
  {
   "cell_type": "code",
   "execution_count": 59,
   "id": "8dcd8fba",
   "metadata": {
    "slideshow": {
     "slide_type": "slide"
    }
   },
   "outputs": [
    {
     "data": {
      "text/plain": [
       "[1.0, 4.123105625617661, 8.602325267042627, 3.1622776601683795]"
      ]
     },
     "execution_count": 59,
     "metadata": {},
     "output_type": "execute_result"
    }
   ],
   "source": [
    "lista_distancias_al_primer_punto = []\n",
    "for i in range(1,5):\n",
    "    primer_punto = lista_puntos[0]\n",
    "    lista_distancias_al_primer_punto.append(dist_plano(primer_punto, lista_puntos[i]))\n",
    "\n",
    "lista_distancias_al_primer_punto     "
   ]
  },
  {
   "cell_type": "code",
   "execution_count": 60,
   "id": "0c90db05",
   "metadata": {
    "slideshow": {
     "slide_type": "slide"
    }
   },
   "outputs": [
    {
     "data": {
      "text/plain": [
       "1"
      ]
     },
     "execution_count": 60,
     "metadata": {},
     "output_type": "execute_result"
    }
   ],
   "source": [
    "indice_de_la_distancia_minima = 1+ lista_distancias_al_primer_punto.index(min(lista_distancias_al_primer_punto))\n",
    "indice_de_la_distancia_minima "
   ]
  },
  {
   "cell_type": "code",
   "execution_count": 61,
   "id": "c615b7b4",
   "metadata": {
    "slideshow": {
     "slide_type": "slide"
    }
   },
   "outputs": [
    {
     "data": {
      "text/plain": [
       "[3, 4]"
      ]
     },
     "execution_count": 61,
     "metadata": {},
     "output_type": "execute_result"
    }
   ],
   "source": [
    "punto_mas_cercano = lista_puntos[indice_de_la_distancia_minima] \n",
    "\n",
    "punto_mas_cercano "
   ]
  },
  {
   "cell_type": "markdown",
   "id": "388cd673",
   "metadata": {
    "slideshow": {
     "slide_type": "slide"
    }
   },
   "source": [
    "# Contrucción de la función consolidada"
   ]
  },
  {
   "cell_type": "markdown",
   "id": "de22f1b2",
   "metadata": {
    "slideshow": {
     "slide_type": "slide"
    }
   },
   "source": [
    "### Función que grafica los cinco puntos"
   ]
  },
  {
   "cell_type": "code",
   "execution_count": 67,
   "id": "5d8675de",
   "metadata": {
    "slideshow": {
     "slide_type": "slide"
    }
   },
   "outputs": [],
   "source": [
    "def trazar_lista_de_puntos(lista_puntos):\n",
    "    x_coord = []\n",
    "    y_coord = []\n",
    "\n",
    "    for k in range(5):\n",
    "        x_coord.append(lista_puntos[k][0])\n",
    "        y_coord.append(lista_puntos[k][1])\n",
    "    \n",
    "    plt.scatter(x_coord[0], y_coord[0], color = 'red')\n",
    "\n",
    "    plt.scatter(x_coord[1:], y_coord[1:], color = 'green')\n",
    "\n",
    "    plt.axis([-6,6,-6,6]) \n",
    "    plt.grid(alpha = 0.6) \n",
    "    plt.show() "
   ]
  },
  {
   "cell_type": "code",
   "execution_count": 68,
   "id": "c999e554",
   "metadata": {
    "slideshow": {
     "slide_type": "slide"
    }
   },
   "outputs": [
    {
     "data": {
      "image/png": "[encoded data removed]",
      "text/plain": [
       "<Figure size 432x288 with 1 Axes>"
      ]
     },
     "metadata": {
      "needs_background": "light"
     },
     "output_type": "display_data"
    }
   ],
   "source": [
    "trazar_lista_de_puntos(lista_puntos)  "
   ]
  },
  {
   "cell_type": "code",
   "execution_count": 69,
   "id": "508844a0",
   "metadata": {
    "slideshow": {
     "slide_type": "slide"
    }
   },
   "outputs": [],
   "source": [
    "def el_mas_cercano(lista_puntos):\n",
    "    lista_distancias_al_primer_punto = []\n",
    "    for i in range(1,5):\n",
    "        primer_punto = lista_puntos[0]\n",
    "        lista_distancias_al_primer_punto.append(dist_plano(primer_punto, lista_puntos[i]))\n",
    "    indice_de_la_distancia_minima = 1+ lista_distancias_al_primer_punto.index(min(lista_distancias_al_primer_punto))\n",
    "    \n",
    "    trazar_lista_de_puntos(lista_puntos)  \n",
    "    \n",
    "    return lista_puntos[indice_de_la_distancia_minima] "
   ]
  },
  {
   "cell_type": "code",
   "execution_count": 63,
   "id": "f0a5665e",
   "metadata": {
    "slideshow": {
     "slide_type": "slide"
    }
   },
   "outputs": [
    {
     "data": {
      "text/plain": [
       "[0, -2]"
      ]
     },
     "execution_count": 63,
     "metadata": {},
     "output_type": "execute_result"
    }
   ],
   "source": [
    "from random import randint\n",
    "lista_puntos = []\n",
    "for i in range(5):\n",
    "    lista_puntos.append([randint(-5,5),randint(-5,5)]) \n",
    "    \n",
    "el_mas_cercano(lista_puntos)     "
   ]
  },
  {
   "cell_type": "markdown",
   "id": "1659c3ee",
   "metadata": {
    "slideshow": {
     "slide_type": "slide"
    }
   },
   "source": [
    "## Funciones implementadas en este cuaderno"
   ]
  },
  {
   "cell_type": "code",
   "execution_count": null,
   "id": "4a2580dd",
   "metadata": {
    "slideshow": {
     "slide_type": "slide"
    }
   },
   "outputs": [],
   "source": [
    "list(zip((0,0),(1,1))) "
   ]
  },
  {
   "cell_type": "code",
   "execution_count": 13,
   "id": "4da5e73a",
   "metadata": {
    "slideshow": {
     "slide_type": "slide"
    }
   },
   "outputs": [
    {
     "data": {
      "text/plain": [
       "array([1, 2])"
      ]
     },
     "execution_count": 13,
     "metadata": {},
     "output_type": "execute_result"
    }
   ],
   "source": [
    "import numpy as np \n",
    "np.array(['1','2']).astype(int)  "
   ]
  },
  {
   "cell_type": "code",
   "execution_count": 16,
   "id": "92495650",
   "metadata": {
    "slideshow": {
     "slide_type": "slide"
    }
   },
   "outputs": [
    {
     "data": {
      "text/plain": [
       "4"
      ]
     },
     "execution_count": 16,
     "metadata": {},
     "output_type": "execute_result"
    }
   ],
   "source": [
    "[1,2,3,4,5].index(5)"
   ]
  },
  {
   "cell_type": "code",
   "execution_count": 64,
   "id": "199432cb",
   "metadata": {
    "slideshow": {
     "slide_type": "slide"
    }
   },
   "outputs": [
    {
     "data": {
      "text/plain": [
       "1"
      ]
     },
     "execution_count": 64,
     "metadata": {},
     "output_type": "execute_result"
    }
   ],
   "source": [
    "min([4,6,2,1])"
   ]
  },
  {
   "cell_type": "code",
   "execution_count": 65,
   "id": "35cee5a3",
   "metadata": {
    "slideshow": {
     "slide_type": "slide"
    }
   },
   "outputs": [
    {
     "data": {
      "text/plain": [
       "3"
      ]
     },
     "execution_count": 65,
     "metadata": {},
     "output_type": "execute_result"
    }
   ],
   "source": [
    "[4,6,2,1].index(1)"
   ]
  },
  {
   "cell_type": "code",
   "execution_count": 70,
   "id": "da6a06a5",
   "metadata": {
    "slideshow": {
     "slide_type": "slide"
    }
   },
   "outputs": [
    {
     "data": {
      "text/plain": [
       "0"
      ]
     },
     "execution_count": 70,
     "metadata": {},
     "output_type": "execute_result"
    }
   ],
   "source": [
    "import numpy as np \n",
    "np.argmin([1,2,3])  "
   ]
  },
  {
   "cell_type": "markdown",
   "id": "80828d66",
   "metadata": {
    "slideshow": {
     "slide_type": "slide"
    }
   },
   "source": [
    "# Dataframe del los estudiantes de Introducción al Machine Learning "
   ]
  },
  {
   "cell_type": "code",
   "execution_count": null,
   "id": "56dea9bf",
   "metadata": {
    "slideshow": {
     "slide_type": "slide"
    }
   },
   "outputs": [],
   "source": [
    "import pandas as pd\n",
    "\n",
    "grupo_ml = pd.read_csv('grupo_intro_ml.csv', sep = '\\t') \n",
    "\n",
    "grupo_ml.head() "
   ]
  },
  {
   "cell_type": "markdown",
   "id": "0388503b",
   "metadata": {
    "slideshow": {
     "slide_type": "slide"
    }
   },
   "source": [
    "## Referentes \n",
    "\n",
    "* numpy.argmin: https://www.geeksforgeeks.org/numpy-argmin-python/"
   ]
  },
  {
   "cell_type": "code",
   "execution_count": null,
   "id": "f8ba6f3f",
   "metadata": {},
   "outputs": [],
   "source": []
  }
 ],
 "metadata": {
  "celltoolbar": "Slideshow",
  "kernelspec": {
   "display_name": "Python 3",
   "language": "python",
   "name": "python3"
  },
  "language_info": {
   "codemirror_mode": {
    "name": "ipython",
    "version": 3
   },
   "file_extension": ".py",
   "mimetype": "text/x-python",
   "name": "python",
   "nbconvert_exporter": "python",
   "pygments_lexer": "ipython3",
   "version": "3.8.8"
  },
  "latex_envs": {
   "LaTeX_envs_menu_present": true,
   "autoclose": false,
   "autocomplete": false,
   "bibliofile": "biblio.bib",
   "cite_by": "apalike",
   "current_citInitial": 1,
   "eqLabelWithNumbers": true,
   "eqNumInitial": 1,
   "hotkeys": {
    "equation": "Ctrl-E",
    "itemize": "Ctrl-I"
   },
   "labels_anchors": false,
   "latex_user_defs": false,
   "report_style_numbering": false,
   "user_envs_cfg": false
  }
 },
 "nbformat": 4,
 "nbformat_minor": 5
}
