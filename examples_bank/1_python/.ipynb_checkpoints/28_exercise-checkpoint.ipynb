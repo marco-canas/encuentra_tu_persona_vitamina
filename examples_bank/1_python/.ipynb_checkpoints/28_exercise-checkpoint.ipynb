{
 "cells": [
  {
   "cell_type": "code",
   "execution_count": null,
   "id": "9b63fdd7",
   "metadata": {},
   "outputs": [],
   "source": []
  },
  {
   "cell_type": "markdown",
   "id": "98d9c4ab",
   "metadata": {},
   "source": [
    "# Problema 28"
   ]
  },
  {
   "cell_type": "markdown",
   "id": "87e81c9e",
   "metadata": {},
   "source": [
    "28. Un programa académico de pregrado tiene un total de 150 créditos; \n",
    "\n",
    "* suponga que por semestre el estudiante debe cursar 15 créditos;  \n",
    "\n",
    "* si C es el número de créditos totales aprobados por el estudiante, cree una función que calcule el semestre de \n",
    "    ubicación del estudiante validando que el número de créditos usados al llamar la función sea un número en el intervalo \n",
    "    [1, 150]."
   ]
  },
  {
   "cell_type": "markdown",
   "id": "24a877e9",
   "metadata": {},
   "source": [
    "## Solución: "
   ]
  },
  {
   "cell_type": "code",
   "execution_count": 1,
   "id": "0bbf3056",
   "metadata": {},
   "outputs": [],
   "source": [
    "def el_semestre_de_ubicacion_es(c):\n",
    "    return "
   ]
  },
  {
   "cell_type": "code",
   "execution_count": 4,
   "id": "b9814563",
   "metadata": {},
   "outputs": [],
   "source": [
    "def el_semestre_de_ubicacion_es(c):\n",
    "    return c//15 + 1"
   ]
  },
  {
   "cell_type": "code",
   "execution_count": 7,
   "id": "01b4bf49",
   "metadata": {},
   "outputs": [
    {
     "data": {
      "text/plain": [
       "3"
      ]
     },
     "execution_count": 7,
     "metadata": {},
     "output_type": "execute_result"
    }
   ],
   "source": [
    "el_semestre_de_ubicacion_es(30)"
   ]
  },
  {
   "cell_type": "code",
   "execution_count": null,
   "id": "2b4856b6",
   "metadata": {},
   "outputs": [],
   "source": []
  },
  {
   "cell_type": "code",
   "execution_count": null,
   "id": "4109d60f",
   "metadata": {},
   "outputs": [],
   "source": []
  },
  {
   "cell_type": "code",
   "execution_count": null,
   "id": "9bbe1262",
   "metadata": {},
   "outputs": [],
   "source": []
  }
 ],
 "metadata": {
  "kernelspec": {
   "display_name": "Python 3",
   "language": "python",
   "name": "python3"
  },
  "language_info": {
   "codemirror_mode": {
    "name": "ipython",
    "version": 3
   },
   "file_extension": ".py",
   "mimetype": "text/x-python",
   "name": "python",
   "nbconvert_exporter": "python",
   "pygments_lexer": "ipython3",
   "version": "3.8.8"
  },
  "latex_envs": {
   "LaTeX_envs_menu_present": true,
   "autoclose": false,
   "autocomplete": false,
   "bibliofile": "biblio.bib",
   "cite_by": "apalike",
   "current_citInitial": 1,
   "eqLabelWithNumbers": true,
   "eqNumInitial": 1,
   "hotkeys": {
    "equation": "Ctrl-E",
    "itemize": "Ctrl-I"
   },
   "labels_anchors": false,
   "latex_user_defs": false,
   "report_style_numbering": false,
   "user_envs_cfg": false
  }
 },
 "nbformat": 4,
 "nbformat_minor": 5
}
