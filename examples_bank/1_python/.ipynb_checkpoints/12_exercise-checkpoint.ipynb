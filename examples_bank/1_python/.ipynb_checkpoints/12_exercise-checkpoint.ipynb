{
 "cells": [
  {
   "cell_type": "markdown",
   "id": "fcb8bbbb",
   "metadata": {},
   "source": []
  },
  {
   "cell_type": "markdown",
   "id": "3616f165",
   "metadata": {},
   "source": [
    "# Ejercicio 12"
   ]
  },
  {
   "cell_type": "markdown",
   "id": "8235e0eb",
   "metadata": {},
   "source": [
    "12. Construya una función que reciba un entero no negativo n y retorne un booleano indicando si n es primo.\n"
   ]
  },
  {
   "cell_type": "markdown",
   "id": "88d882fa",
   "metadata": {},
   "source": [
    "## Observaciones para la construcción del algoritmo"
   ]
  },
  {
   "cell_type": "markdown",
   "id": "0cc819b5",
   "metadata": {},
   "source": [
    "* Para que un cociente de 2, el denominador debe ser $n/2$.\n",
    "* Para que un cociente de 3, el denominador debe ser $n/3$.\n",
    "\n",
    "Lo que nos permite concluir de que para determinar de que un número es primo, debemos ver si los enteros positivos menores o iguales que $n/2$ lo dividen. "
   ]
  },
  {
   "cell_type": "code",
   "execution_count": null,
   "id": "81772049",
   "metadata": {},
   "outputs": [],
   "source": []
  },
  {
   "cell_type": "code",
   "execution_count": null,
   "id": "09458d80",
   "metadata": {},
   "outputs": [],
   "source": []
  },
  {
   "cell_type": "code",
   "execution_count": null,
   "id": "d74557dd",
   "metadata": {},
   "outputs": [],
   "source": []
  },
  {
   "cell_type": "code",
   "execution_count": null,
   "id": "a9c90345",
   "metadata": {},
   "outputs": [],
   "source": []
  },
  {
   "cell_type": "code",
   "execution_count": null,
   "id": "77edf41a",
   "metadata": {},
   "outputs": [],
   "source": []
  }
 ],
 "metadata": {
  "kernelspec": {
   "display_name": "Python 3",
   "language": "python",
   "name": "python3"
  },
  "language_info": {
   "codemirror_mode": {
    "name": "ipython",
    "version": 3
   },
   "file_extension": ".py",
   "mimetype": "text/x-python",
   "name": "python",
   "nbconvert_exporter": "python",
   "pygments_lexer": "ipython3",
   "version": "3.8.8"
  },
  "latex_envs": {
   "LaTeX_envs_menu_present": true,
   "autoclose": false,
   "autocomplete": false,
   "bibliofile": "biblio.bib",
   "cite_by": "apalike",
   "current_citInitial": 1,
   "eqLabelWithNumbers": true,
   "eqNumInitial": 1,
   "hotkeys": {
    "equation": "Ctrl-E",
    "itemize": "Ctrl-I"
   },
   "labels_anchors": false,
   "latex_user_defs": false,
   "report_style_numbering": false,
   "user_envs_cfg": false
  }
 },
 "nbformat": 4,
 "nbformat_minor": 5
}
