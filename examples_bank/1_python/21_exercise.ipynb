{
 "cells": [
  {
   "cell_type": "markdown",
   "id": "3b8adbce",
   "metadata": {},
   "source": [
    "\n",
    "<table align=\"left\">\n",
    "  <td>\n",
    "    <a href=\"https://colab.research.google.com/github/marco-canas/taca/blob/main/ref/geron/chap_2/5_prepare_for_algorithms/1_prepare_for_algorithms.ipynb\" target=\"_parent\"><img src=\"https://colab.research.google.com/assets/colab-badge.svg\" alt=\"Open In Colab\"/></a>\n",
    "  </td>\n",
    "  <td>\n",
    "    <a target=\"_blank\" href=\"https://kaggle.com/kernels/welcome?src=https://github.com/marco-canas/taca/blob/main/ref/geron/chap_2/5_prepare_for_algorithms/1_prepare_for_algorithms.ipynb\"><img src=\"https://kaggle.com/static/images/open-in-kaggle.svg\" /></a>\n",
    "  </td>\n",
    "</table> \n"
   ]
  },
  {
   "cell_type": "markdown",
   "id": "0b7c151d",
   "metadata": {},
   "source": [
    "# Problema 21 "
   ]
  },
  {
   "cell_type": "markdown",
   "id": "42347f7b",
   "metadata": {},
   "source": [
    "21. Lleve a cabo un programa que solicite el radio de una circunferencia y muestre su área y su perímetro, con solo dos decimales."
   ]
  },
  {
   "cell_type": "code",
   "execution_count": 5,
   "id": "28a8b1a5",
   "metadata": {},
   "outputs": [],
   "source": [
    "import numpy as np "
   ]
  },
  {
   "cell_type": "code",
   "execution_count": 8,
   "id": "695461ff",
   "metadata": {},
   "outputs": [],
   "source": [
    "def area_perimetro(r):\n",
    "    print('El área de la circunferencia de radio {} es: '.format(r), round(np.pi*r**2,2))"
   ]
  },
  {
   "cell_type": "code",
   "execution_count": 9,
   "id": "4d8c44ed",
   "metadata": {},
   "outputs": [
    {
     "name": "stdout",
     "output_type": "stream",
     "text": [
      "El área de la circunferencia de radio 1 es:  3.14\n"
     ]
    }
   ],
   "source": [
    "area_perimetro(1)"
   ]
  },
  {
   "cell_type": "code",
   "execution_count": null,
   "id": "562a2123",
   "metadata": {},
   "outputs": [],
   "source": []
  }
 ],
 "metadata": {
  "kernelspec": {
   "display_name": "Python 3",
   "language": "python",
   "name": "python3"
  },
  "language_info": {
   "codemirror_mode": {
    "name": "ipython",
    "version": 3
   },
   "file_extension": ".py",
   "mimetype": "text/x-python",
   "name": "python",
   "nbconvert_exporter": "python",
   "pygments_lexer": "ipython3",
   "version": "3.8.8"
  },
  "latex_envs": {
   "LaTeX_envs_menu_present": true,
   "autoclose": false,
   "autocomplete": false,
   "bibliofile": "biblio.bib",
   "cite_by": "apalike",
   "current_citInitial": 1,
   "eqLabelWithNumbers": true,
   "eqNumInitial": 1,
   "hotkeys": {
    "equation": "Ctrl-E",
    "itemize": "Ctrl-I"
   },
   "labels_anchors": false,
   "latex_user_defs": false,
   "report_style_numbering": false,
   "user_envs_cfg": false
  }
 },
 "nbformat": 4,
 "nbformat_minor": 5
}
