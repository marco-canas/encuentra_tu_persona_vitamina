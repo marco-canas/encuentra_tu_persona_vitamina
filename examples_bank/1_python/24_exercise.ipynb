{
 "cells": [
  {
   "cell_type": "markdown",
   "id": "206cbb4f",
   "metadata": {},
   "source": [
    "<table align=\"left\">\n",
    "  <td>\n",
    "    <a href=\"https://colab.research.google.com/github/marco-canas/taca/blob/main/ref/geron/chap_2/5_prepare_for_algorithms/1_prepare_for_algorithms.ipynb\" target=\"_parent\"><img src=\"https://colab.research.google.com/assets/colab-badge.svg\" alt=\"Open In Colab\"/></a>\n",
    "  </td>\n",
    "  <td>\n",
    "    <a target=\"_blank\" href=\"https://kaggle.com/kernels/welcome?src=https://github.com/marco-canas/taca/blob/main/ref/geron/chap_2/5_prepare_for_algorithms/1_prepare_for_algorithms.ipynb\"><img src=\"https://kaggle.com/static/images/open-in-kaggle.svg\" /></a>\n",
    "  </td>\n",
    "</table> "
   ]
  },
  {
   "cell_type": "markdown",
   "id": "a13d93e6",
   "metadata": {},
   "source": [
    "# Problema 24"
   ]
  },
  {
   "cell_type": "markdown",
   "id": "5b72eceb",
   "metadata": {},
   "source": [
    "24. Construya una función que tenga como entrada una tripleta de enteros y que determine si dicha tripleta es o no es una terna pitagórica primitiva.\n"
   ]
  },
  {
   "cell_type": "code",
   "execution_count": 6,
   "id": "ff0ac32a",
   "metadata": {},
   "outputs": [],
   "source": [
    "import numpy as np "
   ]
  },
  {
   "cell_type": "code",
   "execution_count": 11,
   "id": "d316977c",
   "metadata": {},
   "outputs": [],
   "source": [
    "def es_tripleta_pitagorica(a,b,c):\n",
    "    if (a**2+b**2)==c**2:\n",
    "        print('la tripleta {} es pitagórica primitiva'.format((a,b,c)))\n",
    "    else:    \n",
    "        print('la tripleta {} no es pitagórica primitiva'.format((a,b,c))) "
   ]
  },
  {
   "cell_type": "code",
   "execution_count": 12,
   "id": "df23b081",
   "metadata": {},
   "outputs": [
    {
     "name": "stdout",
     "output_type": "stream",
     "text": [
      "la tripleta (1, 1, 1) no es pitagórica primitiva\n"
     ]
    }
   ],
   "source": [
    "es_tripleta_pitagorica(1,1,1)"
   ]
  },
  {
   "cell_type": "code",
   "execution_count": null,
   "id": "e9d0f537",
   "metadata": {},
   "outputs": [],
   "source": []
  },
  {
   "cell_type": "code",
   "execution_count": null,
   "id": "3aaa13b4",
   "metadata": {},
   "outputs": [],
   "source": []
  },
  {
   "cell_type": "code",
   "execution_count": null,
   "id": "a43e2746",
   "metadata": {},
   "outputs": [],
   "source": []
  }
 ],
 "metadata": {
  "kernelspec": {
   "display_name": "Python 3",
   "language": "python",
   "name": "python3"
  },
  "language_info": {
   "codemirror_mode": {
    "name": "ipython",
    "version": 3
   },
   "file_extension": ".py",
   "mimetype": "text/x-python",
   "name": "python",
   "nbconvert_exporter": "python",
   "pygments_lexer": "ipython3",
   "version": "3.8.8"
  },
  "latex_envs": {
   "LaTeX_envs_menu_present": true,
   "autoclose": false,
   "autocomplete": false,
   "bibliofile": "biblio.bib",
   "cite_by": "apalike",
   "current_citInitial": 1,
   "eqLabelWithNumbers": true,
   "eqNumInitial": 1,
   "hotkeys": {
    "equation": "Ctrl-E",
    "itemize": "Ctrl-I"
   },
   "labels_anchors": false,
   "latex_user_defs": false,
   "report_style_numbering": false,
   "user_envs_cfg": false
  }
 },
 "nbformat": 4,
 "nbformat_minor": 5
}
