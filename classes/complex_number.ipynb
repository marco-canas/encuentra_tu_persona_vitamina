{
 "cells": [
  {
   "cell_type": "markdown",
   "id": "868395c9",
   "metadata": {
    "slideshow": {
     "slide_type": "slide"
    }
   },
   "source": [
    "<table align=\"left\">\n",
    "  <td>\n",
    "    <a href=\"https://colab.research.google.com/github/marco-canas/taca/blob/main/ref/geron/chap_2/5_prepare_for_algorithms/1_prepare_for_algorithms.ipynb\" target=\"_parent\"><img src=\"https://colab.research.google.com/assets/colab-badge.svg\" alt=\"Open In Colab\"/></a>\n",
    "  </td>\n",
    "  <td>\n",
    "    <a target=\"_blank\" href=\"https://kaggle.com/kernels/welcome?src=https://github.com/marco-canas/taca/blob/main/ref/geron/chap_2/5_prepare_for_algorithms/1_prepare_for_algorithms.ipynb\"><img src=\"https://kaggle.com/static/images/open-in-kaggle.svg\" /></a>\n",
    "  </td>\n",
    "</table> "
   ]
  },
  {
   "cell_type": "markdown",
   "id": "d8ca2655",
   "metadata": {
    "slideshow": {
     "slide_type": "slide"
    }
   },
   "source": [
    "# [The complex number in Python](https://www.geeksforgeeks.org/complex-numbers-in-python-set-1-introduction/) "
   ]
  },
  {
   "cell_type": "markdown",
   "id": "1877f1fb",
   "metadata": {
    "slideshow": {
     "slide_type": "slide"
    }
   },
   "source": [
    "## [Video de apoyo](https://www.youtube.com/watch?v=0-TgPDdaLPk)"
   ]
  },
  {
   "cell_type": "markdown",
   "id": "62103810",
   "metadata": {
    "slideshow": {
     "slide_type": "slide"
    }
   },
   "source": [
    "Python también puede manejar números complejos y sus funciones asociadas utilizando la librería `cmath`. "
   ]
  },
  {
   "cell_type": "code",
   "execution_count": null,
   "id": "744537c7",
   "metadata": {
    "slideshow": {
     "slide_type": "slide"
    }
   },
   "outputs": [],
   "source": [
    "import cmath as c "
   ]
  },
  {
   "cell_type": "markdown",
   "id": "8387c53f",
   "metadata": {
    "slideshow": {
     "slide_type": "slide"
    }
   },
   "source": [
    "Los números complejos tienen sus usos en muchas aplicaciones relacionadas con las matemáticas y python proporciona herramientas útiles para manejarlos y manipularlos."
   ]
  },
  {
   "cell_type": "markdown",
   "id": "1ec1a2c7",
   "metadata": {
    "slideshow": {
     "slide_type": "slide"
    }
   },
   "source": [
    "## Conversión de números reales en números complejos"
   ]
  },
  {
   "cell_type": "code",
   "execution_count": 2,
   "id": "64e2430d",
   "metadata": {},
   "outputs": [],
   "source": [
    "j=5"
   ]
  },
  {
   "cell_type": "code",
   "execution_count": 3,
   "id": "95ac2742",
   "metadata": {},
   "outputs": [
    {
     "data": {
      "text/plain": [
       "5"
      ]
     },
     "execution_count": 3,
     "metadata": {},
     "output_type": "execute_result"
    }
   ],
   "source": [
    "j"
   ]
  },
  {
   "cell_type": "code",
   "execution_count": 4,
   "id": "3c0afc8a",
   "metadata": {},
   "outputs": [
    {
     "name": "stdout",
     "output_type": "stream",
     "text": [
      "5\n"
     ]
    }
   ],
   "source": [
    "print(j)"
   ]
  },
  {
   "cell_type": "code",
   "execution_count": 5,
   "id": "f14ac414",
   "metadata": {},
   "outputs": [
    {
     "data": {
      "text/plain": [
       "1j"
      ]
     },
     "execution_count": 5,
     "metadata": {},
     "output_type": "execute_result"
    }
   ],
   "source": [
    "1j"
   ]
  },
  {
   "cell_type": "code",
   "execution_count": 6,
   "id": "45f45bbe",
   "metadata": {
    "slideshow": {
     "slide_type": "slide"
    }
   },
   "outputs": [
    {
     "data": {
      "text/plain": [
       "complex"
      ]
     },
     "execution_count": 6,
     "metadata": {},
     "output_type": "execute_result"
    }
   ],
   "source": [
    "type(1j)"
   ]
  },
  {
   "cell_type": "code",
   "execution_count": 7,
   "id": "1b57d180",
   "metadata": {
    "slideshow": {
     "slide_type": "slide"
    }
   },
   "outputs": [
    {
     "data": {
      "text/plain": [
       "int"
      ]
     },
     "execution_count": 7,
     "metadata": {},
     "output_type": "execute_result"
    }
   ],
   "source": [
    "type(j) "
   ]
  },
  {
   "cell_type": "markdown",
   "id": "40acf77d",
   "metadata": {
    "slideshow": {
     "slide_type": "slide"
    }
   },
   "source": [
    "Un número complejo está representado por `x + yi`. Python convierte los números reales `x` e `y` en complejos usando la función `complex(x,y)`. "
   ]
  },
  {
   "cell_type": "code",
   "execution_count": 13,
   "id": "4ce4579e",
   "metadata": {
    "slideshow": {
     "slide_type": "slide"
    }
   },
   "outputs": [],
   "source": [
    "import cmath "
   ]
  },
  {
   "cell_type": "code",
   "execution_count": 10,
   "id": "22975059",
   "metadata": {
    "slideshow": {
     "slide_type": "slide"
    }
   },
   "outputs": [
    {
     "data": {
      "text/plain": [
       "(1+1j)"
      ]
     },
     "execution_count": 10,
     "metadata": {},
     "output_type": "execute_result"
    }
   ],
   "source": [
    "complex(1,1)"
   ]
  },
  {
   "cell_type": "markdown",
   "id": "93cff1da",
   "metadata": {
    "slideshow": {
     "slide_type": "slide"
    }
   },
   "source": [
    "Se puede acceder a la parte real utilizando la función `real()` y la parte imaginaria se puede representar mediante `imag()`. Nota, real y imag son atributos. "
   ]
  },
  {
   "cell_type": "code",
   "execution_count": 11,
   "id": "a382324d",
   "metadata": {
    "slideshow": {
     "slide_type": "slide"
    }
   },
   "outputs": [],
   "source": [
    "z = -5 + 13j"
   ]
  },
  {
   "cell_type": "code",
   "execution_count": 16,
   "id": "554b45de",
   "metadata": {
    "slideshow": {
     "slide_type": "slide"
    }
   },
   "outputs": [
    {
     "data": {
      "text/plain": [
       "-5.0"
      ]
     },
     "execution_count": 16,
     "metadata": {},
     "output_type": "execute_result"
    }
   ],
   "source": [
    "z.real "
   ]
  },
  {
   "cell_type": "code",
   "execution_count": 17,
   "id": "3f5dd105",
   "metadata": {},
   "outputs": [
    {
     "data": {
      "text/plain": [
       "13.0"
      ]
     },
     "execution_count": 17,
     "metadata": {},
     "output_type": "execute_result"
    }
   ],
   "source": [
    "z.imag "
   ]
  },
  {
   "cell_type": "code",
   "execution_count": 4,
   "id": "4e0f8e1f",
   "metadata": {
    "slideshow": {
     "slide_type": "slide"
    }
   },
   "outputs": [
    {
     "name": "stdout",
     "output_type": "stream",
     "text": [
      "The real part of complex number is : 5.0\n",
      "The imaginary part of complex number is : 13.0\n"
     ]
    }
   ],
   "source": [
    "# Python code to demonstrate the working of\n",
    "# complex(), real() and imag()\n",
    "  \n",
    "# importing \"cmath\" for complex number operations\n",
    "import cmath\n",
    "  \n",
    "# Initializing real numbers\n",
    "x = 5\n",
    "y = 13\n",
    "  \n",
    "# converting x and y into complex number\n",
    "z = complex(x,y);\n",
    "  \n",
    "# printing real and imaginary part of complex number\n",
    "print (\"The real part of complex number is : \",end=\"\")\n",
    "print (z.real)\n",
    "  \n",
    "print (\"The imaginary part of complex number is : \",end=\"\")\n",
    "print (z.imag)"
   ]
  },
  {
   "cell_type": "code",
   "execution_count": 1,
   "id": "6bac55a9",
   "metadata": {
    "slideshow": {
     "slide_type": "slide"
    }
   },
   "outputs": [],
   "source": [
    "import cmath as c"
   ]
  },
  {
   "cell_type": "code",
   "execution_count": 2,
   "id": "c18d9c3a",
   "metadata": {
    "slideshow": {
     "slide_type": "slide"
    }
   },
   "outputs": [
    {
     "data": {
      "text/plain": [
       "1j"
      ]
     },
     "execution_count": 2,
     "metadata": {},
     "output_type": "execute_result"
    }
   ],
   "source": [
    "complex(0,1)"
   ]
  },
  {
   "cell_type": "markdown",
   "id": "0633f5f0",
   "metadata": {
    "slideshow": {
     "slide_type": "slide"
    }
   },
   "source": [
    "## Fase del número complejo"
   ]
  },
  {
   "cell_type": "markdown",
   "id": "adc4a4e2",
   "metadata": {
    "slideshow": {
     "slide_type": "slide"
    }
   },
   "source": [
    "Geométricamente, la fase de un número complejo es el ángulo entre el eje real positivo y el vector que representa el número complejo. Esto también se conoce como argumento de número complejo. La fase se devuelve mediante la función `phase()`, que toma el número complejo como argumento. "
   ]
  },
  {
   "cell_type": "markdown",
   "id": "97ceb90a",
   "metadata": {
    "slideshow": {
     "slide_type": "slide"
    }
   },
   "source": [
    "El rango de fase se encuentra de `-pi` a `+pi` es decir, de `-3.14` a `+3.14` radianes aproximadamente."
   ]
  },
  {
   "cell_type": "code",
   "execution_count": 24,
   "id": "853dbf90",
   "metadata": {},
   "outputs": [],
   "source": [
    "z2 = complex(1,1)"
   ]
  },
  {
   "cell_type": "code",
   "execution_count": 22,
   "id": "7522d42a",
   "metadata": {},
   "outputs": [],
   "source": [
    "import cmath as c\n",
    "import math as m"
   ]
  },
  {
   "cell_type": "code",
   "execution_count": 25,
   "id": "db94a959",
   "metadata": {},
   "outputs": [
    {
     "data": {
      "text/plain": [
       "0.7853981633974483"
      ]
     },
     "execution_count": 25,
     "metadata": {},
     "output_type": "execute_result"
    }
   ],
   "source": [
    "c.phase(z2)"
   ]
  },
  {
   "cell_type": "code",
   "execution_count": 27,
   "id": "79a51a8d",
   "metadata": {},
   "outputs": [
    {
     "data": {
      "text/plain": [
       "0.7853981633974483"
      ]
     },
     "execution_count": 27,
     "metadata": {},
     "output_type": "execute_result"
    }
   ],
   "source": [
    "m.pi/4"
   ]
  },
  {
   "cell_type": "code",
   "execution_count": 28,
   "id": "f6e2c142",
   "metadata": {
    "slideshow": {
     "slide_type": "slide"
    }
   },
   "outputs": [
    {
     "data": {
      "text/plain": [
       "1.4142135623730951"
      ]
     },
     "execution_count": 28,
     "metadata": {},
     "output_type": "execute_result"
    }
   ],
   "source": [
    "abs(z2) "
   ]
  },
  {
   "cell_type": "code",
   "execution_count": 30,
   "id": "1ff6c99f",
   "metadata": {},
   "outputs": [
    {
     "data": {
      "text/plain": [
       "complex"
      ]
     },
     "execution_count": 30,
     "metadata": {},
     "output_type": "execute_result"
    }
   ],
   "source": [
    "type(2j) "
   ]
  },
  {
   "cell_type": "code",
   "execution_count": 5,
   "id": "45efdb38",
   "metadata": {
    "slideshow": {
     "slide_type": "slide"
    }
   },
   "outputs": [
    {
     "name": "stdout",
     "output_type": "stream",
     "text": [
      "The phase of complex number is : 3.141592653589793\n"
     ]
    }
   ],
   "source": [
    "# Python code to demonstrate the working of\n",
    "# phase()\n",
    "\n",
    "# importing \"cmath\" for complex number operations\n",
    "import cmath\n",
    "\n",
    "# Initializing real numbers\n",
    "x = -1.0\n",
    "y = 0.0\n",
    "\n",
    "# converting x and y into complex number\n",
    "z = complex(x,y);\n",
    "\n",
    "# printing phase of a complex number using phase()\n",
    "print (\"The phase of complex number is : \",end=\"\")\n",
    "print (cmath.phase(z))\n"
   ]
  },
  {
   "cell_type": "markdown",
   "id": "82bbdde5",
   "metadata": {
    "slideshow": {
     "slide_type": "slide"
    }
   },
   "source": [
    "## Conversión de forma polar a rectangular y viceversa"
   ]
  },
  {
   "cell_type": "markdown",
   "id": "80bfd17d",
   "metadata": {
    "slideshow": {
     "slide_type": "slide"
    }
   },
   "source": [
    "La conversión a polar se realiza utilizando `polar()`, que devuelve un par `(r,ph)` que denota el módulo `r` y el ángulo de fase `ph`. "
   ]
  },
  {
   "cell_type": "markdown",
   "id": "70ed4cb3",
   "metadata": {
    "slideshow": {
     "slide_type": "slide"
    }
   },
   "source": [
    "El módulo se puede mostrar usando `abs()` y la fase usando `phase()`."
   ]
  },
  {
   "cell_type": "markdown",
   "id": "0cbcc23d",
   "metadata": {
    "slideshow": {
     "slide_type": "slide"
    }
   },
   "source": [
    "Un número complejo se convierte en coordenadas rectangulares usando `rect(r, ph)`,donde r es módulo y `ph` es ángulo de fase. Devuelve un valor numéricamente igual a `r * (math.cos(ph) + math.sin(ph)*1j)`"
   ]
  },
  {
   "cell_type": "code",
   "execution_count": 11,
   "id": "8a8ffe17",
   "metadata": {
    "slideshow": {
     "slide_type": "slide"
    }
   },
   "outputs": [
    {
     "name": "stdout",
     "output_type": "stream",
     "text": [
      "The modulus and argument of polar complex number is : (1.4142135623730951, 0.7853981633974483)\n",
      "The rectangular form of complex number is : (1.0000000000000002+1.0000000000000002j)\n"
     ]
    }
   ],
   "source": [
    "# Python code to demonstrate the working of\n",
    "# polar() and rect()\n",
    "\n",
    "# importing \"cmath\" for complex number operations\n",
    "import cmath as c\n",
    "import math as m \n",
    "\n",
    "# Initializing real numbers\n",
    "x = 1.0\n",
    "y = 1.0\n",
    "\n",
    "# converting x and y into complex number\n",
    "z = complex(x,y);\n",
    "\n",
    "# converting complex number into polar using polar()\n",
    "w = cmath.polar(z)\n",
    "\n",
    "# printing modulus and argument of polar complex number\n",
    "print (\"The modulus and argument of polar complex number is : \",end=\"\")\n",
    "print (w)\n",
    "\n",
    "# converting complex number into rectangular using rect()\n",
    "w = cmath.rect(m.sqrt(2), m.pi/4) \n",
    "\n",
    "# printing rectangular form of complex number\n",
    "print (\"The rectangular form of complex number is : \",end=\"\")\n",
    "print (w)\n"
   ]
  },
  {
   "cell_type": "code",
   "execution_count": 12,
   "id": "fd2159a5",
   "metadata": {
    "slideshow": {
     "slide_type": "slide"
    }
   },
   "outputs": [],
   "source": [
    "j = 3"
   ]
  },
  {
   "cell_type": "code",
   "execution_count": 13,
   "id": "8d6bb166",
   "metadata": {
    "slideshow": {
     "slide_type": "slide"
    }
   },
   "outputs": [
    {
     "data": {
      "text/plain": [
       "3"
      ]
     },
     "execution_count": 13,
     "metadata": {},
     "output_type": "execute_result"
    }
   ],
   "source": [
    "j "
   ]
  },
  {
   "cell_type": "code",
   "execution_count": 14,
   "id": "d4c6921f",
   "metadata": {
    "slideshow": {
     "slide_type": "slide"
    }
   },
   "outputs": [
    {
     "data": {
      "text/plain": [
       "1j"
      ]
     },
     "execution_count": 14,
     "metadata": {},
     "output_type": "execute_result"
    }
   ],
   "source": [
    "1j"
   ]
  },
  {
   "cell_type": "code",
   "execution_count": null,
   "id": "eb780814",
   "metadata": {
    "slideshow": {
     "slide_type": "slide"
    }
   },
   "outputs": [],
   "source": []
  },
  {
   "cell_type": "markdown",
   "id": "2182eb3e",
   "metadata": {
    "slideshow": {
     "slide_type": "slide"
    }
   },
   "source": [
    "## Referentes:\n",
    "\n",
    "* Números complejos en Python: https://www.geeksforgeeks.org/complex-numbers-in-python-set-1-introduction/"
   ]
  },
  {
   "cell_type": "code",
   "execution_count": null,
   "id": "0e079b20",
   "metadata": {},
   "outputs": [],
   "source": []
  }
 ],
 "metadata": {
  "celltoolbar": "Slideshow",
  "kernelspec": {
   "display_name": "Python 3",
   "language": "python",
   "name": "python3"
  },
  "language_info": {
   "codemirror_mode": {
    "name": "ipython",
    "version": 3
   },
   "file_extension": ".py",
   "mimetype": "text/x-python",
   "name": "python",
   "nbconvert_exporter": "python",
   "pygments_lexer": "ipython3",
   "version": "3.8.8"
  },
  "latex_envs": {
   "LaTeX_envs_menu_present": true,
   "autoclose": false,
   "autocomplete": false,
   "bibliofile": "biblio.bib",
   "cite_by": "apalike",
   "current_citInitial": 1,
   "eqLabelWithNumbers": true,
   "eqNumInitial": 1,
   "hotkeys": {
    "equation": "Ctrl-E",
    "itemize": "Ctrl-I"
   },
   "labels_anchors": false,
   "latex_user_defs": false,
   "report_style_numbering": false,
   "user_envs_cfg": false
  },
  "rise": {
   "enable_chalkboard": true,
   "theme": "sky",
   "transition": "sky"
  }
 },
 "nbformat": 4,
 "nbformat_minor": 5
}
