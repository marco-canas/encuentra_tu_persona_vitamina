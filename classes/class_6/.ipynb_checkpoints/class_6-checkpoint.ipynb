{
 "cells": [
  {
   "cell_type": "markdown",
   "id": "f29fd06a",
   "metadata": {
    "slideshow": {
     "slide_type": "slide"
    }
   },
   "source": [
    "<table align=\"left\">\n",
    "  <td>\n",
    "    <a href=\"https://colab.research.google.com/github/marco-canas/introducci-n-al-Machine-Learning/blob/main/classes/class_5/class_5.ipynb\" target=\"_parent\"><img src=\"https://colab.research.google.com/assets/colab-badge.svg\" alt=\"Open In Colab\"/></a>\n",
    "  </td>\n",
    "  <td>\n",
    "    <a target=\"_blank\" href=\"https://kaggle.com/kernels/welcome?src=https://github.com/marco-canas/introducci-n-al-Machine-Learning/blob/main/classes/class_5/class_5.ipynb\"><img src=\"https://kaggle.com/static/images/open-in-kaggle.svg\" /></a>\n",
    "  </td>\n",
    "</table>\n",
    "\n"
   ]
  },
  {
   "cell_type": "markdown",
   "id": "88b479b5",
   "metadata": {
    "slideshow": {
     "slide_type": "slide"
    }
   },
   "source": [
    "# Clase 6 "
   ]
  },
  {
   "cell_type": "markdown",
   "id": "050e3c3b",
   "metadata": {
    "slideshow": {
     "slide_type": "slide"
    }
   },
   "source": [
    "Objetivos: \n",
    "\n",
    "* Librerías científicas numpy, pandas y matplotlib. \n",
    "* Clases de Python"
   ]
  },
  {
   "cell_type": "markdown",
   "id": "ca4e7f21",
   "metadata": {
    "slideshow": {
     "slide_type": "slide"
    }
   },
   "source": [
    "## Asignación de ejercicio de construcción de funciones en Python"
   ]
  },
  {
   "cell_type": "code",
   "execution_count": 1,
   "id": "f4854b1e",
   "metadata": {
    "slideshow": {
     "slide_type": "slide"
    }
   },
   "outputs": [],
   "source": [
    "import numpy as np \n",
    "import pandas as pd "
   ]
  },
  {
   "cell_type": "code",
   "execution_count": 18,
   "id": "3849756b",
   "metadata": {
    "slideshow": {
     "slide_type": "slide"
    }
   },
   "outputs": [
    {
     "name": "stderr",
     "output_type": "stream",
     "text": [
      "<ipython-input-18-76d793fb8f2a>:1: ParserWarning: Falling back to the 'python' engine because the 'c' engine does not support regex separators (separators > 1 char and different from '\\s+' are interpreted as regex); you can avoid this warning by specifying engine='python'.\n",
      "  grupo_intro_ml = pd.read_csv('grupo_intro_ml.csv', sep = '    ')\n"
     ]
    }
   ],
   "source": [
    "grupo_intro_ml = pd.read_csv('grupo_intro_ml.csv', sep = '    ')   "
   ]
  },
  {
   "cell_type": "code",
   "execution_count": 19,
   "id": "0e46b526",
   "metadata": {
    "slideshow": {
     "slide_type": "slide"
    }
   },
   "outputs": [
    {
     "data": {
      "text/plain": [
       "Index(['Cédula', 'Unnamed: 1', ' Nombre', 'Unnamed: 3', 'Email'], dtype='object')"
      ]
     },
     "execution_count": 19,
     "metadata": {},
     "output_type": "execute_result"
    }
   ],
   "source": [
    "grupo_intro_ml.keys() "
   ]
  },
  {
   "cell_type": "code",
   "execution_count": 20,
   "id": "749571fc",
   "metadata": {
    "slideshow": {
     "slide_type": "slide"
    }
   },
   "outputs": [],
   "source": [
    "grupo_intro_ml.drop(['Unnamed: 3'], \n",
    "                    axis = 1, inplace = True) "
   ]
  },
  {
   "cell_type": "code",
   "execution_count": 21,
   "id": "4712bfa7",
   "metadata": {
    "slideshow": {
     "slide_type": "slide"
    }
   },
   "outputs": [
    {
     "data": {
      "text/html": [
       "<div>\n",
       "<style scoped>\n",
       "    .dataframe tbody tr th:only-of-type {\n",
       "        vertical-align: middle;\n",
       "    }\n",
       "\n",
       "    .dataframe tbody tr th {\n",
       "        vertical-align: top;\n",
       "    }\n",
       "\n",
       "    .dataframe thead th {\n",
       "        text-align: right;\n",
       "    }\n",
       "</style>\n",
       "<table border=\"1\" class=\"dataframe\">\n",
       "  <thead>\n",
       "    <tr style=\"text-align: right;\">\n",
       "      <th></th>\n",
       "      <th>Cédula</th>\n",
       "      <th>Unnamed: 1</th>\n",
       "      <th>Nombre</th>\n",
       "      <th>Email</th>\n",
       "    </tr>\n",
       "  </thead>\n",
       "  <tbody>\n",
       "    <tr>\n",
       "      <th>0</th>\n",
       "      <td>1193092675</td>\n",
       "      <td>NaN</td>\n",
       "      <td>ALVAREZ CARRERO GERMAN JOSE</td>\n",
       "      <td>german.alvarez1@udea.edu.co</td>\n",
       "    </tr>\n",
       "    <tr>\n",
       "      <th>1</th>\n",
       "      <td>1152715251</td>\n",
       "      <td>NaN</td>\n",
       "      <td>AMAYA ESCOBAR LILLEY DANIELA</td>\n",
       "      <td>lilley.amaya1@udea.edu.co</td>\n",
       "    </tr>\n",
       "    <tr>\n",
       "      <th>2</th>\n",
       "      <td>1152204969</td>\n",
       "      <td>NaN</td>\n",
       "      <td>ARANGO JARAMILLO JUAN JOSE</td>\n",
       "      <td>juan.arangoj@udea.edu.co</td>\n",
       "    </tr>\n",
       "    <tr>\n",
       "      <th>3</th>\n",
       "      <td>1037657637</td>\n",
       "      <td>NaN</td>\n",
       "      <td>BOLIVAR HIGUITA JUAN PABLO</td>\n",
       "      <td>jpablo.bolivar@udea.edu.co</td>\n",
       "    </tr>\n",
       "    <tr>\n",
       "      <th>4</th>\n",
       "      <td>1146437759</td>\n",
       "      <td>NaN</td>\n",
       "      <td>BUITRAGO LORA VANESSA</td>\n",
       "      <td>vanessa.buitragol@udea.edu.co</td>\n",
       "    </tr>\n",
       "  </tbody>\n",
       "</table>\n",
       "</div>"
      ],
      "text/plain": [
       "       Cédula  Unnamed: 1                        Nombre  \\\n",
       "0  1193092675         NaN   ALVAREZ CARRERO GERMAN JOSE   \n",
       "1  1152715251         NaN  AMAYA ESCOBAR LILLEY DANIELA   \n",
       "2  1152204969         NaN    ARANGO JARAMILLO JUAN JOSE   \n",
       "3  1037657637         NaN    BOLIVAR HIGUITA JUAN PABLO   \n",
       "4  1146437759         NaN         BUITRAGO LORA VANESSA   \n",
       "\n",
       "                           Email  \n",
       "0    german.alvarez1@udea.edu.co  \n",
       "1      lilley.amaya1@udea.edu.co  \n",
       "2       juan.arangoj@udea.edu.co  \n",
       "3     jpablo.bolivar@udea.edu.co  \n",
       "4  vanessa.buitragol@udea.edu.co  "
      ]
     },
     "execution_count": 21,
     "metadata": {},
     "output_type": "execute_result"
    }
   ],
   "source": [
    "grupo_intro_ml.head() "
   ]
  },
  {
   "cell_type": "markdown",
   "id": "8e6a6012",
   "metadata": {
    "slideshow": {
     "slide_type": "slide"
    }
   },
   "source": [
    "### Generación de lista con la asignación para los 26 estudiantes"
   ]
  },
  {
   "cell_type": "markdown",
   "id": "e7ae1842",
   "metadata": {
    "slideshow": {
     "slide_type": "slide"
    }
   },
   "source": [
    "Son 30 los ejercicios del primer taller. "
   ]
  },
  {
   "cell_type": "code",
   "execution_count": null,
   "id": "19f863a3",
   "metadata": {
    "slideshow": {
     "slide_type": "slide"
    }
   },
   "outputs": [],
   "source": [
    "from random import randint \n",
    "\n",
    "lista_ejercicios_asignados = [randint(1,30) for i in range(26)]\n",
    "\n",
    "lista_ejercicios_asignados "
   ]
  },
  {
   "cell_type": "code",
   "execution_count": null,
   "id": "eff6ce55",
   "metadata": {
    "slideshow": {
     "slide_type": "slide"
    }
   },
   "outputs": [],
   "source": [
    "grupo_intro_ml['Asignación taller 1'] = lista_ejercicios_asignados"
   ]
  },
  {
   "cell_type": "code",
   "execution_count": null,
   "id": "462270ae",
   "metadata": {
    "scrolled": true,
    "slideshow": {
     "slide_type": "slide"
    }
   },
   "outputs": [],
   "source": [
    "grupo_intro_ml"
   ]
  },
  {
   "cell_type": "code",
   "execution_count": null,
   "id": "dcdbbd4b",
   "metadata": {},
   "outputs": [],
   "source": [
    "# grupo_intro_ml.Email.to_csv('emails.csv', index = False) "
   ]
  },
  {
   "cell_type": "markdown",
   "id": "b6ed0025",
   "metadata": {},
   "source": [
    "# Participación aleatoria"
   ]
  },
  {
   "cell_type": "code",
   "execution_count": 34,
   "id": "eb2b41d0",
   "metadata": {
    "slideshow": {
     "slide_type": "slide"
    }
   },
   "outputs": [
    {
     "name": "stderr",
     "output_type": "stream",
     "text": [
      "<ipython-input-34-9f766316115a>:3: ParserWarning: Falling back to the 'python' engine because the 'c' engine does not support regex separators (separators > 1 char and different from '\\s+' are interpreted as regex); you can avoid this warning by specifying engine='python'.\n",
      "  grupo_intro_ml = pd.read_csv('grupo_intro_ml.csv', sep = '       ')\n"
     ]
    }
   ],
   "source": [
    "import pandas as pd\n",
    "\n",
    "grupo_intro_ml = pd.read_csv('grupo_intro_ml.csv', sep = '       ')"
   ]
  },
  {
   "cell_type": "code",
   "execution_count": 35,
   "id": "2cab92fa",
   "metadata": {},
   "outputs": [
    {
     "data": {
      "text/plain": [
       "Index(['Cédula', '  Nombre', ' Email'], dtype='object')"
      ]
     },
     "execution_count": 35,
     "metadata": {},
     "output_type": "execute_result"
    }
   ],
   "source": [
    "grupo_intro_ml.keys() "
   ]
  },
  {
   "cell_type": "code",
   "execution_count": 37,
   "id": "ab3f5acd",
   "metadata": {
    "slideshow": {
     "slide_type": "slide"
    }
   },
   "outputs": [],
   "source": [
    "lista_estudiantes = list(grupo_intro_ml['  Nombre'].values)\n",
    "\n",
    "from random import randint, choice\n",
    "\n",
    "def seleccion_aleatoria():\n",
    "    if lista_estudiantes == []:\n",
    "        print('ya participaron todos los estudiantes') \n",
    "    else:\n",
    "        while lista_estudiantes != []:\n",
    "            student = choice(lista_estudiantes)\n",
    "            lista_estudiantes.remove(student)\n",
    "            return print(student)  \n",
    "    "
   ]
  },
  {
   "cell_type": "code",
   "execution_count": 38,
   "id": "43e1190d",
   "metadata": {},
   "outputs": [
    {
     "name": "stdout",
     "output_type": "stream",
     "text": [
      " CARDONA GÓMEZ ELIANA\n"
     ]
    }
   ],
   "source": [
    "seleccion_aleatoria()"
   ]
  },
  {
   "cell_type": "markdown",
   "id": "27939949",
   "metadata": {
    "slideshow": {
     "slide_type": "slide"
    }
   },
   "source": [
    "# Numpy"
   ]
  },
  {
   "cell_type": "markdown",
   "id": "c0d6a8f5",
   "metadata": {
    "slideshow": {
     "slide_type": "slide"
    }
   },
   "source": [
    "### Arreglos de dos dimensiones"
   ]
  },
  {
   "cell_type": "markdown",
   "id": "235ea6ca",
   "metadata": {
    "slideshow": {
     "slide_type": "slide"
    }
   },
   "source": [
    "Los arreglos son conjuntos de datos organizados que pueden ser de una o múltiples dimensiones. "
   ]
  },
  {
   "cell_type": "markdown",
   "id": "6caf796f",
   "metadata": {
    "slideshow": {
     "slide_type": "slide"
    }
   },
   "source": [
    "Para acceder a estos es se recurre al módulo “numpy” o Python numérico, con el cual se tendrá una forma de crear los arreglos necesarios a la hora de organizar datos en un “dataframe” (tabla de datos). "
   ]
  },
  {
   "cell_type": "markdown",
   "id": "a71f0a96",
   "metadata": {
    "slideshow": {
     "slide_type": "slide"
    }
   },
   "source": [
    "Los arreglos se crean a partir de una lista de números como argumento."
   ]
  },
  {
   "cell_type": "code",
   "execution_count": 22,
   "id": "b9f02c2c",
   "metadata": {
    "slideshow": {
     "slide_type": "slide"
    }
   },
   "outputs": [
    {
     "data": {
      "text/plain": [
       "array([[1, 3, 5, 7, 9],\n",
       "       [0, 2, 4, 6, 8]])"
      ]
     },
     "execution_count": 22,
     "metadata": {},
     "output_type": "execute_result"
    }
   ],
   "source": [
    "import numpy as np \n",
    "x=[1,3,5,7,9]\n",
    "y=[0,2,4,6,8]\n",
    "matrix_numpy = np.array([x,y])\n",
    "matrix_numpy "
   ]
  },
  {
   "cell_type": "markdown",
   "id": "3485e307",
   "metadata": {
    "slideshow": {
     "slide_type": "slide"
    }
   },
   "source": [
    "Utilizando la función `transpose()` se puede transponer el arreglo para obtener las filas como columnas o desde el arreglo con el atributo.”T”."
   ]
  },
  {
   "cell_type": "code",
   "execution_count": 39,
   "id": "8f2c78dd",
   "metadata": {
    "slideshow": {
     "slide_type": "slide"
    }
   },
   "outputs": [
    {
     "data": {
      "text/plain": [
       "array([[1, 0],\n",
       "       [3, 2],\n",
       "       [5, 4],\n",
       "       [7, 6],\n",
       "       [9, 8]])"
      ]
     },
     "execution_count": 39,
     "metadata": {},
     "output_type": "execute_result"
    }
   ],
   "source": [
    "np.transpose(matrix_numpy) "
   ]
  },
  {
   "cell_type": "markdown",
   "id": "3b615a9b",
   "metadata": {
    "slideshow": {
     "slide_type": "slide"
    }
   },
   "source": [
    "### Ejemplo: Traspuesta de una matriz mediante el atributo .”T”.\n"
   ]
  },
  {
   "cell_type": "code",
   "execution_count": null,
   "id": "35bb7497",
   "metadata": {
    "slideshow": {
     "slide_type": "slide"
    }
   },
   "outputs": [],
   "source": [
    "matrix_numpy.T "
   ]
  },
  {
   "cell_type": "markdown",
   "id": "7ebe7586",
   "metadata": {
    "slideshow": {
     "slide_type": "slide"
    }
   },
   "source": [
    "Para cambiar las dimensiones de la matriz sin que cambien sus datos, se puede utilizar el método `.reshape()` contenido en los arreglos “numpy.ndarray” colocando como argumento las dimensiones a las que se quiere cambiar el arreglo. "
   ]
  },
  {
   "cell_type": "markdown",
   "id": "0c7547f3",
   "metadata": {
    "slideshow": {
     "slide_type": "slide"
    }
   },
   "source": [
    "En la siguiente figura el arreglo resultante tiene dimensiones 1x10:"
   ]
  },
  {
   "cell_type": "markdown",
   "id": "fcd1e5ef",
   "metadata": {
    "slideshow": {
     "slide_type": "slide"
    }
   },
   "source": [
    "### Ejemplo: Arreglo transformado a dimensiones 1x8."
   ]
  },
  {
   "cell_type": "code",
   "execution_count": 40,
   "id": "4b92d49d",
   "metadata": {
    "slideshow": {
     "slide_type": "slide"
    }
   },
   "outputs": [
    {
     "data": {
      "text/plain": [
       "array([[1, 3, 5, 7, 9, 0, 2, 4, 6, 8]])"
      ]
     },
     "execution_count": 40,
     "metadata": {},
     "output_type": "execute_result"
    }
   ],
   "source": [
    "matrix_numpy.reshape(1,10)"
   ]
  },
  {
   "cell_type": "code",
   "execution_count": 41,
   "id": "eddb76d0",
   "metadata": {
    "slideshow": {
     "slide_type": "slide"
    }
   },
   "outputs": [
    {
     "data": {
      "text/plain": [
       "array([1, 3, 5, 7, 9, 0, 2, 4, 6, 8])"
      ]
     },
     "execution_count": 41,
     "metadata": {},
     "output_type": "execute_result"
    }
   ],
   "source": [
    "matrix_numpy.ravel() "
   ]
  },
  {
   "cell_type": "markdown",
   "id": "de4c48a1",
   "metadata": {
    "slideshow": {
     "slide_type": "slide"
    }
   },
   "source": [
    "Con los arreglos se pueden realizar operaciones del algebra lineal como las de la siguiente tabla y se muestran con imágenes ejemplos de estas"
   ]
  },
  {
   "cell_type": "markdown",
   "id": "90dad82e",
   "metadata": {
    "slideshow": {
     "slide_type": "slide"
    }
   },
   "source": [
    "|Sumas o restas (las matrices deben ser del mismo tamaño)|+ ó -|\n",
    "|-|-|  \n",
    "|Multiplicación por elemento| * |  \n",
    "|Multiplicación matricial| @ ó A.dot(B)|  \n",
    "|Multiplicación por escalar $\\alpha$| $\\alpha*A$ |\n",
    "|Matriz idéntica| numpy.identity(n)|\n",
    "|Matriz inversa| numpy.linalg.inv(A)|\n",
    "|Determinante de una matriz| numpy.linalg.det(A)|\n",
    "|Solución a un sistema de ecuaciones lineales (solo matrices cuadradas)| numpy.linalg.solve(A,b)|\n",
    "|Potenciación de matriz cuadrada| numpy.linalg.matrix_power(A,n)|"
   ]
  },
  {
   "cell_type": "markdown",
   "id": "27ab8f53",
   "metadata": {
    "slideshow": {
     "slide_type": "slide"
    }
   },
   "source": [
    "Suponga la creacion de los siguientes arreglos. "
   ]
  },
  {
   "cell_type": "markdown",
   "id": "195dfa46",
   "metadata": {
    "slideshow": {
     "slide_type": "slide"
    }
   },
   "source": [
    "Se aplicarán las operaciones mencionadas en la tabla anterior como ejemplo:"
   ]
  },
  {
   "cell_type": "code",
   "execution_count": 42,
   "id": "899f7ef7",
   "metadata": {
    "slideshow": {
     "slide_type": "slide"
    }
   },
   "outputs": [],
   "source": [
    "import numpy as np \n",
    "A = np.array([[2,3,5],[5,8,7],[3,2,1]])\n",
    "B = np.array([[4,3,2],[6,2,7],[1,1,1]])"
   ]
  },
  {
   "cell_type": "markdown",
   "id": "43640842",
   "metadata": {
    "slideshow": {
     "slide_type": "slide"
    }
   },
   "source": [
    "### Ejemplo de suma de matrices."
   ]
  },
  {
   "cell_type": "code",
   "execution_count": 43,
   "id": "b6396c11",
   "metadata": {
    "slideshow": {
     "slide_type": "slide"
    }
   },
   "outputs": [
    {
     "data": {
      "text/plain": [
       "array([[ 6,  6,  7],\n",
       "       [11, 10, 14],\n",
       "       [ 4,  3,  2]])"
      ]
     },
     "execution_count": 43,
     "metadata": {},
     "output_type": "execute_result"
    }
   ],
   "source": [
    "A+B"
   ]
  },
  {
   "cell_type": "markdown",
   "id": "59ff6769",
   "metadata": {
    "slideshow": {
     "slide_type": "slide"
    }
   },
   "source": [
    "### Ejemplo de una resta de matrices."
   ]
  },
  {
   "cell_type": "code",
   "execution_count": 44,
   "id": "9d7cb692",
   "metadata": {
    "slideshow": {
     "slide_type": "slide"
    }
   },
   "outputs": [
    {
     "data": {
      "text/plain": [
       "array([[-2,  0,  3],\n",
       "       [-1,  6,  0],\n",
       "       [ 2,  1,  0]])"
      ]
     },
     "execution_count": 44,
     "metadata": {},
     "output_type": "execute_result"
    }
   ],
   "source": [
    "A-B"
   ]
  },
  {
   "cell_type": "markdown",
   "id": "19a18487",
   "metadata": {
    "slideshow": {
     "slide_type": "slide"
    }
   },
   "source": [
    "### Ejemplo de una multiplicación por elementos.\n"
   ]
  },
  {
   "cell_type": "code",
   "execution_count": 47,
   "id": "2e6dc900",
   "metadata": {
    "slideshow": {
     "slide_type": "slide"
    }
   },
   "outputs": [
    {
     "name": "stdout",
     "output_type": "stream",
     "text": [
      "[[2 3 5]\n",
      " [5 8 7]\n",
      " [3 2 1]]\n",
      "[[4 3 2]\n",
      " [6 2 7]\n",
      " [1 1 1]]\n",
      "[[ 8  9 10]\n",
      " [30 16 49]\n",
      " [ 3  2  1]]\n"
     ]
    }
   ],
   "source": [
    "print(A)  \n",
    "print(B)  \n",
    "print(A*B)  "
   ]
  },
  {
   "cell_type": "markdown",
   "id": "384b5f93",
   "metadata": {
    "slideshow": {
     "slide_type": "slide"
    }
   },
   "source": [
    "### Ejemplos de multiplicación matricial."
   ]
  },
  {
   "cell_type": "code",
   "execution_count": 48,
   "id": "9eaa5c38",
   "metadata": {
    "slideshow": {
     "slide_type": "slide"
    }
   },
   "outputs": [
    {
     "data": {
      "text/plain": [
       "array([[31, 17, 30],\n",
       "       [75, 38, 73],\n",
       "       [25, 14, 21]])"
      ]
     },
     "execution_count": 48,
     "metadata": {},
     "output_type": "execute_result"
    }
   ],
   "source": [
    "A @ B"
   ]
  },
  {
   "cell_type": "code",
   "execution_count": 49,
   "id": "7df50238",
   "metadata": {
    "slideshow": {
     "slide_type": "slide"
    }
   },
   "outputs": [
    {
     "data": {
      "text/plain": [
       "array([[31, 17, 30],\n",
       "       [75, 38, 73],\n",
       "       [25, 14, 21]])"
      ]
     },
     "execution_count": 49,
     "metadata": {},
     "output_type": "execute_result"
    }
   ],
   "source": [
    "A.dot(B)"
   ]
  },
  {
   "cell_type": "markdown",
   "id": "3d1c824a",
   "metadata": {
    "slideshow": {
     "slide_type": "slide"
    }
   },
   "source": [
    "### Ejemplo de multiplicación por escalar.\n"
   ]
  },
  {
   "cell_type": "code",
   "execution_count": 50,
   "id": "183c84ca",
   "metadata": {
    "slideshow": {
     "slide_type": "slide"
    }
   },
   "outputs": [
    {
     "data": {
      "text/plain": [
       "array([[1. , 1.5, 2.5],\n",
       "       [2.5, 4. , 3.5],\n",
       "       [1.5, 1. , 0.5]])"
      ]
     },
     "execution_count": 50,
     "metadata": {},
     "output_type": "execute_result"
    }
   ],
   "source": [
    "(1/2)*A"
   ]
  },
  {
   "cell_type": "markdown",
   "id": "ae868326",
   "metadata": {
    "slideshow": {
     "slide_type": "slide"
    }
   },
   "source": [
    "### Creación de una matriz idéntica de tamaño 3x3."
   ]
  },
  {
   "cell_type": "code",
   "execution_count": 51,
   "id": "0fc44ca2",
   "metadata": {
    "slideshow": {
     "slide_type": "slide"
    }
   },
   "outputs": [
    {
     "data": {
      "text/plain": [
       "array([[1., 0., 0.],\n",
       "       [0., 1., 0.],\n",
       "       [0., 0., 1.]])"
      ]
     },
     "execution_count": 51,
     "metadata": {},
     "output_type": "execute_result"
    }
   ],
   "source": [
    "np.identity(3)"
   ]
  },
  {
   "cell_type": "markdown",
   "id": "10e374e9",
   "metadata": {
    "slideshow": {
     "slide_type": "slide"
    }
   },
   "source": [
    "### Inversa de una matriz.\n"
   ]
  },
  {
   "cell_type": "code",
   "execution_count": 52,
   "id": "24f307ef",
   "metadata": {
    "slideshow": {
     "slide_type": "slide"
    }
   },
   "outputs": [
    {
     "data": {
      "text/plain": [
       "array([[ 0.17647059, -0.20588235,  0.55882353],\n",
       "       [-0.47058824,  0.38235294, -0.32352941],\n",
       "       [ 0.41176471, -0.14705882, -0.02941176]])"
      ]
     },
     "execution_count": 52,
     "metadata": {},
     "output_type": "execute_result"
    }
   ],
   "source": [
    "np.linalg.inv(A)"
   ]
  },
  {
   "cell_type": "markdown",
   "id": "e47526a1",
   "metadata": {
    "slideshow": {
     "slide_type": "slide"
    }
   },
   "source": [
    "### Ejemplo Determinante de una matriz."
   ]
  },
  {
   "cell_type": "code",
   "execution_count": null,
   "id": "d7a87df7",
   "metadata": {
    "slideshow": {
     "slide_type": "slide"
    }
   },
   "outputs": [],
   "source": [
    "np.linalg.det(A)"
   ]
  },
  {
   "cell_type": "markdown",
   "id": "4002bcb7",
   "metadata": {
    "slideshow": {
     "slide_type": "slide"
    }
   },
   "source": [
    "### Solución a un sistema de ecuaciones lineales.\n"
   ]
  },
  {
   "cell_type": "code",
   "execution_count": null,
   "id": "47451e93",
   "metadata": {
    "slideshow": {
     "slide_type": "slide"
    }
   },
   "outputs": [],
   "source": [
    "C = np.array([[3,-2,5],[-2,6,1],[1,4,-3]]) \n",
    "b = np.array([64,-13,-30])"
   ]
  },
  {
   "cell_type": "code",
   "execution_count": null,
   "id": "c2e15ea6",
   "metadata": {
    "slideshow": {
     "slide_type": "slide"
    }
   },
   "outputs": [],
   "source": [
    "np.linalg.solve(C,b)"
   ]
  },
  {
   "cell_type": "markdown",
   "id": "6146d3e1",
   "metadata": {
    "slideshow": {
     "slide_type": "slide"
    }
   },
   "source": [
    "### Potenciación de una matriz."
   ]
  },
  {
   "cell_type": "code",
   "execution_count": null,
   "id": "91bf8473",
   "metadata": {
    "slideshow": {
     "slide_type": "slide"
    }
   },
   "outputs": [],
   "source": [
    "np.linalg.matrix_power(A,3)"
   ]
  },
  {
   "cell_type": "code",
   "execution_count": null,
   "id": "62d94aec",
   "metadata": {
    "slideshow": {
     "slide_type": "slide"
    }
   },
   "outputs": [],
   "source": []
  },
  {
   "cell_type": "markdown",
   "id": "ce29f51b",
   "metadata": {
    "slideshow": {
     "slide_type": "slide"
    }
   },
   "source": [
    "# Matplotlib"
   ]
  },
  {
   "cell_type": "code",
   "execution_count": 58,
   "id": "3ec3151e",
   "metadata": {
    "slideshow": {
     "slide_type": "slide"
    }
   },
   "outputs": [
    {
     "data": {
      "text/plain": [
       "[<matplotlib.lines.Line2D at 0x1fad52ee2b0>]"
      ]
     },
     "execution_count": 58,
     "metadata": {},
     "output_type": "execute_result"
    },
    {
     "data": {
      "image/png": "[encoded data removed]",
      "text/plain": [
       "<Figure size 432x288 with 1 Axes>"
      ]
     },
     "metadata": {
      "needs_background": "light"
     },
     "output_type": "display_data"
    }
   ],
   "source": [
    "from matplotlib import pyplot as plt \n",
    "fig,ax = plt.subplots()\n",
    "# cuadrado\n",
    "p1=[0,0]\n",
    "p2=[1,0]\n",
    "p3=[1,1]\n",
    "p4=[0,1]\n",
    "\n",
    "x=list(zip(p1,p2,p3,p4,p1))[0]\n",
    "y=list(zip(p1,p2,p3,p4,p1))[1]\n",
    "\n",
    "ax.plot(x,y) "
   ]
  },
  {
   "cell_type": "code",
   "execution_count": 56,
   "id": "e4451c22",
   "metadata": {},
   "outputs": [
    {
     "data": {
      "text/plain": [
       "(0, 1, 1, 0, 0)"
      ]
     },
     "execution_count": 56,
     "metadata": {},
     "output_type": "execute_result"
    }
   ],
   "source": [
    "x=list(zip(p1,p2,p3,p4,p1))\n",
    "x[0] "
   ]
  },
  {
   "cell_type": "markdown",
   "id": "c5209fb0",
   "metadata": {
    "slideshow": {
     "slide_type": "slide"
    }
   },
   "source": [
    "# Pandas "
   ]
  },
  {
   "cell_type": "markdown",
   "id": "6c8d6802",
   "metadata": {
    "slideshow": {
     "slide_type": "slide"
    }
   },
   "source": [
    "## 2.Capítulo 2. Tablas de datos"
   ]
  },
  {
   "cell_type": "markdown",
   "id": "c451e570",
   "metadata": {
    "slideshow": {
     "slide_type": "slide"
    }
   },
   "source": [
    "Las tablas de datos son la forma más común de organizar los datos en forma de matrices para posteriormente tratarlos. "
   ]
  },
  {
   "cell_type": "markdown",
   "id": "7ec70945",
   "metadata": {
    "slideshow": {
     "slide_type": "slide"
    }
   },
   "source": [
    "Cuando los conjuntos de datos se convierten en una tabla de datos, a partir del uso del uno de los módulos de Python conocido como pandas, se dispone de un objeto - con valiosos métodos - que facilitan el tratamiento y aplicación de funciones a los datos para analizarlos, para obtener información relevante de gran ayuda para la toma de decisiones."
   ]
  },
  {
   "cell_type": "markdown",
   "id": "9d863e03",
   "metadata": {
    "slideshow": {
     "slide_type": "slide"
    }
   },
   "source": [
    "En este capítulo se mostrará como:\n",
    "\n",
    "* Importar el módulo pandas para trabajar tablas de datos.\n",
    "* Crear tablas de datos.\n",
    "* Importar tablas de datos.\n",
    "* Visualizar tablas de datos.\n",
    "* Modificar la forma y los elementos de las tablas de datos.\n",
    "* Filtrar y ordenar tablas de datos.\n"
   ]
  },
  {
   "cell_type": "markdown",
   "id": "d1ede557",
   "metadata": {
    "slideshow": {
     "slide_type": "slide"
    }
   },
   "source": [
    "## 2.1 Obtención de tablas de datos"
   ]
  },
  {
   "cell_type": "markdown",
   "id": "67732dc8",
   "metadata": {
    "slideshow": {
     "slide_type": "slide"
    }
   },
   "source": [
    "Dos de las formas de disponer de tablas de datos son:\n",
    "\n",
    "* crear una tabla de datos o importarla desde un ”dataset” (conjunto de datos) proveniente de un archivo externo. \n",
    "* El módulo pandas está equipado con varias funciones para importar diferentes tipos de archivos. \n",
    "* En esta guía se importarán archivos CSV (Comma-separated values), JSON y EXCEL."
   ]
  },
  {
   "cell_type": "markdown",
   "id": "966e45ed",
   "metadata": {
    "slideshow": {
     "slide_type": "slide"
    }
   },
   "source": [
    "### 2.1.1 Creación de tablas de datos"
   ]
  },
  {
   "cell_type": "markdown",
   "id": "ac83c857",
   "metadata": {
    "slideshow": {
     "slide_type": "slide"
    }
   },
   "source": [
    "Una vez se tenga un arreglo o una variable de tipo diccionario, estos pueden ser convertidos en tabla de datos que son la forma estándar de manejar, de organizar datos en Python. "
   ]
  },
  {
   "cell_type": "markdown",
   "id": "17f3a6d5",
   "metadata": {
    "slideshow": {
     "slide_type": "slide"
    }
   },
   "source": [
    "Para ello se necesita la librería pandas que contiene este tipo de objeto y además facilita la importación de datos. "
   ]
  },
  {
   "cell_type": "markdown",
   "id": "988f9390",
   "metadata": {
    "slideshow": {
     "slide_type": "slide"
    }
   },
   "source": [
    "Todos los objetos clases y métodos del módulo pandas pueden encontrarse en el siguiente link:\n",
    "https://pandas.pydata.org/pandas-docs/stable/reference/index.html."
   ]
  },
  {
   "cell_type": "markdown",
   "id": "1f591cbc",
   "metadata": {
    "slideshow": {
     "slide_type": "slide"
    }
   },
   "source": [
    "Importación del módulo “pandas”."
   ]
  },
  {
   "cell_type": "code",
   "execution_count": null,
   "id": "01941979",
   "metadata": {
    "slideshow": {
     "slide_type": "slide"
    }
   },
   "outputs": [],
   "source": [
    "import pandas as pd "
   ]
  },
  {
   "cell_type": "markdown",
   "id": "aa67e053",
   "metadata": {
    "slideshow": {
     "slide_type": "slide"
    }
   },
   "source": [
    "Suponga que se va a crear una tabla de datos utilizando una variable tipo de tipo diccionario llamada “datos”, en la cual las llaves corresponderán a los nombres de las columnas o variables y que comprenden cada una de las listas que se crean a \n",
    "continuación:"
   ]
  },
  {
   "cell_type": "markdown",
   "id": "a1ea9290",
   "metadata": {
    "slideshow": {
     "slide_type": "slide"
    }
   },
   "source": [
    " ### Creación de una variable “dict” a partir de listas."
   ]
  },
  {
   "cell_type": "code",
   "execution_count": 59,
   "id": "a8648f79",
   "metadata": {
    "slideshow": {
     "slide_type": "slide"
    }
   },
   "outputs": [],
   "source": [
    "import numpy as np \n",
    "edad = [26,46]\n",
    "sexo = ['M','M']\n",
    "ingreso = [687855, 1240000]\n",
    "\n",
    "datos = {'Edad':edad, 'Sexo':sexo, 'Ingreso':ingreso}"
   ]
  },
  {
   "cell_type": "code",
   "execution_count": 60,
   "id": "fbf2424d",
   "metadata": {
    "slideshow": {
     "slide_type": "slide"
    }
   },
   "outputs": [
    {
     "data": {
      "text/plain": [
       "{'Edad': [26, 46], 'Sexo': ['M', 'M'], 'Ingreso': [687855, 1240000]}"
      ]
     },
     "execution_count": 60,
     "metadata": {},
     "output_type": "execute_result"
    }
   ],
   "source": [
    "datos "
   ]
  },
  {
   "cell_type": "markdown",
   "id": "e76d4094",
   "metadata": {
    "slideshow": {
     "slide_type": "slide"
    }
   },
   "source": [
    "Se utilizará la librería pandas para crear una tabla de datos mediante la clase “DataFrame”\n",
    "a la que se le llamará “tabla” a partir del diccionario creado anteriormente:"
   ]
  },
  {
   "cell_type": "markdown",
   "id": "6945eb22",
   "metadata": {
    "slideshow": {
     "slide_type": "slide"
    }
   },
   "source": [
    "### Ejemplo: Creación de una tabla de datos pandas a partir del diccionario \"datos\"."
   ]
  },
  {
   "cell_type": "code",
   "execution_count": 61,
   "id": "707f27a5",
   "metadata": {
    "slideshow": {
     "slide_type": "slide"
    }
   },
   "outputs": [
    {
     "data": {
      "text/html": [
       "<div>\n",
       "<style scoped>\n",
       "    .dataframe tbody tr th:only-of-type {\n",
       "        vertical-align: middle;\n",
       "    }\n",
       "\n",
       "    .dataframe tbody tr th {\n",
       "        vertical-align: top;\n",
       "    }\n",
       "\n",
       "    .dataframe thead th {\n",
       "        text-align: right;\n",
       "    }\n",
       "</style>\n",
       "<table border=\"1\" class=\"dataframe\">\n",
       "  <thead>\n",
       "    <tr style=\"text-align: right;\">\n",
       "      <th></th>\n",
       "      <th>Edad</th>\n",
       "      <th>Sexo</th>\n",
       "      <th>Ingreso</th>\n",
       "    </tr>\n",
       "  </thead>\n",
       "  <tbody>\n",
       "    <tr>\n",
       "      <th>0</th>\n",
       "      <td>26</td>\n",
       "      <td>M</td>\n",
       "      <td>687855</td>\n",
       "    </tr>\n",
       "    <tr>\n",
       "      <th>1</th>\n",
       "      <td>46</td>\n",
       "      <td>M</td>\n",
       "      <td>1240000</td>\n",
       "    </tr>\n",
       "  </tbody>\n",
       "</table>\n",
       "</div>"
      ],
      "text/plain": [
       "   Edad Sexo  Ingreso\n",
       "0    26    M   687855\n",
       "1    46    M  1240000"
      ]
     },
     "execution_count": 61,
     "metadata": {},
     "output_type": "execute_result"
    }
   ],
   "source": [
    "import pandas as pd \n",
    "df = pd.DataFrame(datos)\n",
    "df"
   ]
  },
  {
   "cell_type": "markdown",
   "id": "41ff34fd",
   "metadata": {
    "slideshow": {
     "slide_type": "slide"
    }
   },
   "source": [
    "Es fundamental utilizar la función “dir” para conocer funciones, atributos y métodos que sirven para modificar la tabla de datos. "
   ]
  },
  {
   "cell_type": "markdown",
   "id": "6f54a451",
   "metadata": {
    "slideshow": {
     "slide_type": "slide"
    }
   },
   "source": [
    "Por ejemplo: se pueden cambiar los nombres de las columnas desde el atributo “columns” de la tabla de datos. Debido a que las columnas son inmutables al ser de tipo “index”, se tiene que crear una nueva lista con los nombres de las columnas y asignar el atributo “columns” de la tabla de datos la lista creada"
   ]
  },
  {
   "cell_type": "code",
   "execution_count": 62,
   "id": "9aa8ad3b",
   "metadata": {
    "slideshow": {
     "slide_type": "slide"
    }
   },
   "outputs": [
    {
     "data": {
      "text/plain": [
       "['Edad',\n",
       " 'Ingreso',\n",
       " 'Sexo',\n",
       " 'T',\n",
       " '_AXIS_LEN',\n",
       " '_AXIS_ORDERS',\n",
       " '_AXIS_REVERSED',\n",
       " '_AXIS_TO_AXIS_NUMBER',\n",
       " '_HANDLED_TYPES',\n",
       " '__abs__',\n",
       " '__add__',\n",
       " '__and__',\n",
       " '__annotations__',\n",
       " '__array__',\n",
       " '__array_priority__',\n",
       " '__array_ufunc__',\n",
       " '__array_wrap__',\n",
       " '__bool__',\n",
       " '__class__',\n",
       " '__contains__',\n",
       " '__copy__',\n",
       " '__deepcopy__',\n",
       " '__delattr__',\n",
       " '__delitem__',\n",
       " '__dict__',\n",
       " '__dir__',\n",
       " '__divmod__',\n",
       " '__doc__',\n",
       " '__eq__',\n",
       " '__finalize__',\n",
       " '__floordiv__',\n",
       " '__format__',\n",
       " '__ge__',\n",
       " '__getattr__',\n",
       " '__getattribute__',\n",
       " '__getitem__',\n",
       " '__getstate__',\n",
       " '__gt__',\n",
       " '__hash__',\n",
       " '__iadd__',\n",
       " '__iand__',\n",
       " '__ifloordiv__',\n",
       " '__imod__',\n",
       " '__imul__',\n",
       " '__init__',\n",
       " '__init_subclass__',\n",
       " '__invert__',\n",
       " '__ior__',\n",
       " '__ipow__',\n",
       " '__isub__',\n",
       " '__iter__',\n",
       " '__itruediv__',\n",
       " '__ixor__',\n",
       " '__le__',\n",
       " '__len__',\n",
       " '__lt__',\n",
       " '__matmul__',\n",
       " '__mod__',\n",
       " '__module__',\n",
       " '__mul__',\n",
       " '__ne__',\n",
       " '__neg__',\n",
       " '__new__',\n",
       " '__nonzero__',\n",
       " '__or__',\n",
       " '__pos__',\n",
       " '__pow__',\n",
       " '__radd__',\n",
       " '__rand__',\n",
       " '__rdivmod__',\n",
       " '__reduce__',\n",
       " '__reduce_ex__',\n",
       " '__repr__',\n",
       " '__rfloordiv__',\n",
       " '__rmatmul__',\n",
       " '__rmod__',\n",
       " '__rmul__',\n",
       " '__ror__',\n",
       " '__round__',\n",
       " '__rpow__',\n",
       " '__rsub__',\n",
       " '__rtruediv__',\n",
       " '__rxor__',\n",
       " '__setattr__',\n",
       " '__setitem__',\n",
       " '__setstate__',\n",
       " '__sizeof__',\n",
       " '__str__',\n",
       " '__sub__',\n",
       " '__subclasshook__',\n",
       " '__truediv__',\n",
       " '__weakref__',\n",
       " '__xor__',\n",
       " '_accessors',\n",
       " '_accum_func',\n",
       " '_add_numeric_operations',\n",
       " '_agg_by_level',\n",
       " '_agg_examples_doc',\n",
       " '_agg_summary_and_see_also_doc',\n",
       " '_aggregate',\n",
       " '_align_frame',\n",
       " '_align_series',\n",
       " '_arith_method',\n",
       " '_attrs',\n",
       " '_box_col_values',\n",
       " '_builtin_table',\n",
       " '_can_fast_transpose',\n",
       " '_check_inplace_and_allows_duplicate_labels',\n",
       " '_check_inplace_setting',\n",
       " '_check_is_chained_assignment_possible',\n",
       " '_check_label_or_level_ambiguity',\n",
       " '_check_setitem_copy',\n",
       " '_clear_item_cache',\n",
       " '_clip_with_one_bound',\n",
       " '_clip_with_scalar',\n",
       " '_cmp_method',\n",
       " '_combine_frame',\n",
       " '_consolidate',\n",
       " '_consolidate_inplace',\n",
       " '_construct_axes_dict',\n",
       " '_construct_axes_from_arguments',\n",
       " '_construct_result',\n",
       " '_constructor',\n",
       " '_constructor_expanddim',\n",
       " '_constructor_sliced',\n",
       " '_convert',\n",
       " '_count_level',\n",
       " '_cython_table',\n",
       " '_data',\n",
       " '_dir_additions',\n",
       " '_dir_deletions',\n",
       " '_dispatch_frame_op',\n",
       " '_drop_axis',\n",
       " '_drop_labels_or_levels',\n",
       " '_ensure_valid_index',\n",
       " '_find_valid_index',\n",
       " '_flags',\n",
       " '_from_arrays',\n",
       " '_get_agg_axis',\n",
       " '_get_axis',\n",
       " '_get_axis_name',\n",
       " '_get_axis_number',\n",
       " '_get_axis_resolvers',\n",
       " '_get_block_manager_axis',\n",
       " '_get_bool_data',\n",
       " '_get_cacher',\n",
       " '_get_cleaned_column_resolvers',\n",
       " '_get_column_array',\n",
       " '_get_cython_func',\n",
       " '_get_index_resolvers',\n",
       " '_get_item_cache',\n",
       " '_get_label_or_level_values',\n",
       " '_get_numeric_data',\n",
       " '_get_value',\n",
       " '_getitem_bool_array',\n",
       " '_getitem_multilevel',\n",
       " '_gotitem',\n",
       " '_hidden_attrs',\n",
       " '_indexed_same',\n",
       " '_info_axis',\n",
       " '_info_axis_name',\n",
       " '_info_axis_number',\n",
       " '_info_repr',\n",
       " '_init_mgr',\n",
       " '_inplace_method',\n",
       " '_internal_names',\n",
       " '_internal_names_set',\n",
       " '_is_builtin_func',\n",
       " '_is_cached',\n",
       " '_is_copy',\n",
       " '_is_homogeneous_type',\n",
       " '_is_label_or_level_reference',\n",
       " '_is_label_reference',\n",
       " '_is_level_reference',\n",
       " '_is_mixed_type',\n",
       " '_is_view',\n",
       " '_iset_item',\n",
       " '_item_cache',\n",
       " '_iter_column_arrays',\n",
       " '_ix',\n",
       " '_ixs',\n",
       " '_join_compat',\n",
       " '_logical_func',\n",
       " '_logical_method',\n",
       " '_maybe_cache_changed',\n",
       " '_maybe_update_cacher',\n",
       " '_metadata',\n",
       " '_mgr',\n",
       " '_min_count_stat_function',\n",
       " '_needs_reindex_multi',\n",
       " '_obj_with_exclusions',\n",
       " '_protect_consolidate',\n",
       " '_reduce',\n",
       " '_reindex_axes',\n",
       " '_reindex_columns',\n",
       " '_reindex_index',\n",
       " '_reindex_multi',\n",
       " '_reindex_with_indexers',\n",
       " '_replace_columnwise',\n",
       " '_repr_data_resource_',\n",
       " '_repr_fits_horizontal_',\n",
       " '_repr_fits_vertical_',\n",
       " '_repr_html_',\n",
       " '_repr_latex_',\n",
       " '_reset_cache',\n",
       " '_reset_cacher',\n",
       " '_sanitize_column',\n",
       " '_selected_obj',\n",
       " '_selection',\n",
       " '_selection_list',\n",
       " '_selection_name',\n",
       " '_series',\n",
       " '_set_as_cached',\n",
       " '_set_axis',\n",
       " '_set_axis_name',\n",
       " '_set_axis_nocheck',\n",
       " '_set_is_copy',\n",
       " '_set_item',\n",
       " '_set_value',\n",
       " '_setitem_array',\n",
       " '_setitem_frame',\n",
       " '_setitem_slice',\n",
       " '_slice',\n",
       " '_stat_axis',\n",
       " '_stat_axis_name',\n",
       " '_stat_axis_number',\n",
       " '_stat_function',\n",
       " '_stat_function_ddof',\n",
       " '_take_with_is_copy',\n",
       " '_to_dict_of_blocks',\n",
       " '_try_aggregate_string_function',\n",
       " '_typ',\n",
       " '_update_inplace',\n",
       " '_validate_dtype',\n",
       " '_values',\n",
       " '_where',\n",
       " 'abs',\n",
       " 'add',\n",
       " 'add_prefix',\n",
       " 'add_suffix',\n",
       " 'agg',\n",
       " 'aggregate',\n",
       " 'align',\n",
       " 'all',\n",
       " 'any',\n",
       " 'append',\n",
       " 'apply',\n",
       " 'applymap',\n",
       " 'asfreq',\n",
       " 'asof',\n",
       " 'assign',\n",
       " 'astype',\n",
       " 'at',\n",
       " 'at_time',\n",
       " 'attrs',\n",
       " 'axes',\n",
       " 'backfill',\n",
       " 'between_time',\n",
       " 'bfill',\n",
       " 'bool',\n",
       " 'boxplot',\n",
       " 'clip',\n",
       " 'columns',\n",
       " 'combine',\n",
       " 'combine_first',\n",
       " 'compare',\n",
       " 'convert_dtypes',\n",
       " 'copy',\n",
       " 'corr',\n",
       " 'corrwith',\n",
       " 'count',\n",
       " 'cov',\n",
       " 'cummax',\n",
       " 'cummin',\n",
       " 'cumprod',\n",
       " 'cumsum',\n",
       " 'describe',\n",
       " 'diff',\n",
       " 'div',\n",
       " 'divide',\n",
       " 'dot',\n",
       " 'drop',\n",
       " 'drop_duplicates',\n",
       " 'droplevel',\n",
       " 'dropna',\n",
       " 'dtypes',\n",
       " 'duplicated',\n",
       " 'empty',\n",
       " 'eq',\n",
       " 'equals',\n",
       " 'eval',\n",
       " 'ewm',\n",
       " 'expanding',\n",
       " 'explode',\n",
       " 'ffill',\n",
       " 'fillna',\n",
       " 'filter',\n",
       " 'first',\n",
       " 'first_valid_index',\n",
       " 'flags',\n",
       " 'floordiv',\n",
       " 'from_dict',\n",
       " 'from_records',\n",
       " 'ge',\n",
       " 'get',\n",
       " 'groupby',\n",
       " 'gt',\n",
       " 'head',\n",
       " 'hist',\n",
       " 'iat',\n",
       " 'idxmax',\n",
       " 'idxmin',\n",
       " 'iloc',\n",
       " 'index',\n",
       " 'infer_objects',\n",
       " 'info',\n",
       " 'insert',\n",
       " 'interpolate',\n",
       " 'isin',\n",
       " 'isna',\n",
       " 'isnull',\n",
       " 'items',\n",
       " 'iteritems',\n",
       " 'iterrows',\n",
       " 'itertuples',\n",
       " 'join',\n",
       " 'keys',\n",
       " 'kurt',\n",
       " 'kurtosis',\n",
       " 'last',\n",
       " 'last_valid_index',\n",
       " 'le',\n",
       " 'loc',\n",
       " 'lookup',\n",
       " 'lt',\n",
       " 'mad',\n",
       " 'mask',\n",
       " 'max',\n",
       " 'mean',\n",
       " 'median',\n",
       " 'melt',\n",
       " 'memory_usage',\n",
       " 'merge',\n",
       " 'min',\n",
       " 'mod',\n",
       " 'mode',\n",
       " 'mul',\n",
       " 'multiply',\n",
       " 'ndim',\n",
       " 'ne',\n",
       " 'nlargest',\n",
       " 'notna',\n",
       " 'notnull',\n",
       " 'nsmallest',\n",
       " 'nunique',\n",
       " 'pad',\n",
       " 'pct_change',\n",
       " 'pipe',\n",
       " 'pivot',\n",
       " 'pivot_table',\n",
       " 'plot',\n",
       " 'pop',\n",
       " 'pow',\n",
       " 'prod',\n",
       " 'product',\n",
       " 'quantile',\n",
       " 'query',\n",
       " 'radd',\n",
       " 'rank',\n",
       " 'rdiv',\n",
       " 'reindex',\n",
       " 'reindex_like',\n",
       " 'rename',\n",
       " 'rename_axis',\n",
       " 'reorder_levels',\n",
       " 'replace',\n",
       " 'resample',\n",
       " 'reset_index',\n",
       " 'rfloordiv',\n",
       " 'rmod',\n",
       " 'rmul',\n",
       " 'rolling',\n",
       " 'round',\n",
       " 'rpow',\n",
       " 'rsub',\n",
       " 'rtruediv',\n",
       " 'sample',\n",
       " 'select_dtypes',\n",
       " 'sem',\n",
       " 'set_axis',\n",
       " 'set_flags',\n",
       " 'set_index',\n",
       " 'shape',\n",
       " 'shift',\n",
       " 'size',\n",
       " 'skew',\n",
       " 'slice_shift',\n",
       " 'sort_index',\n",
       " 'sort_values',\n",
       " 'squeeze',\n",
       " 'stack',\n",
       " 'std',\n",
       " 'style',\n",
       " 'sub',\n",
       " 'subtract',\n",
       " 'sum',\n",
       " 'swapaxes',\n",
       " 'swaplevel',\n",
       " 'tail',\n",
       " 'take',\n",
       " 'to_clipboard',\n",
       " 'to_csv',\n",
       " 'to_dict',\n",
       " 'to_excel',\n",
       " 'to_feather',\n",
       " 'to_gbq',\n",
       " 'to_hdf',\n",
       " 'to_html',\n",
       " 'to_json',\n",
       " 'to_latex',\n",
       " 'to_markdown',\n",
       " 'to_numpy',\n",
       " 'to_parquet',\n",
       " 'to_period',\n",
       " 'to_pickle',\n",
       " 'to_records',\n",
       " 'to_sql',\n",
       " 'to_stata',\n",
       " 'to_string',\n",
       " 'to_timestamp',\n",
       " 'to_xarray',\n",
       " 'transform',\n",
       " 'transpose',\n",
       " 'truediv',\n",
       " 'truncate',\n",
       " 'tz_convert',\n",
       " 'tz_localize',\n",
       " 'unstack',\n",
       " 'update',\n",
       " 'value_counts',\n",
       " 'values',\n",
       " 'var',\n",
       " 'where',\n",
       " 'xs']"
      ]
     },
     "execution_count": 62,
     "metadata": {},
     "output_type": "execute_result"
    }
   ],
   "source": [
    "dir(df)"
   ]
  },
  {
   "cell_type": "markdown",
   "id": "6b43a594",
   "metadata": {
    "slideshow": {
     "slide_type": "slide"
    }
   },
   "source": [
    "### Ejemplo: Reemplazo de los nombres de las columnas de la tabla de datos."
   ]
  },
  {
   "cell_type": "code",
   "execution_count": 63,
   "id": "20e9d5db",
   "metadata": {
    "slideshow": {
     "slide_type": "slide"
    }
   },
   "outputs": [],
   "source": [
    "df.columns = ['Edad','Sexo','Sueldo']"
   ]
  },
  {
   "cell_type": "code",
   "execution_count": 64,
   "id": "0344eb21",
   "metadata": {
    "slideshow": {
     "slide_type": "slide"
    }
   },
   "outputs": [
    {
     "data": {
      "text/html": [
       "<div>\n",
       "<style scoped>\n",
       "    .dataframe tbody tr th:only-of-type {\n",
       "        vertical-align: middle;\n",
       "    }\n",
       "\n",
       "    .dataframe tbody tr th {\n",
       "        vertical-align: top;\n",
       "    }\n",
       "\n",
       "    .dataframe thead th {\n",
       "        text-align: right;\n",
       "    }\n",
       "</style>\n",
       "<table border=\"1\" class=\"dataframe\">\n",
       "  <thead>\n",
       "    <tr style=\"text-align: right;\">\n",
       "      <th></th>\n",
       "      <th>Edad</th>\n",
       "      <th>Sexo</th>\n",
       "      <th>Sueldo</th>\n",
       "    </tr>\n",
       "  </thead>\n",
       "  <tbody>\n",
       "    <tr>\n",
       "      <th>0</th>\n",
       "      <td>26</td>\n",
       "      <td>M</td>\n",
       "      <td>687855</td>\n",
       "    </tr>\n",
       "    <tr>\n",
       "      <th>1</th>\n",
       "      <td>46</td>\n",
       "      <td>M</td>\n",
       "      <td>1240000</td>\n",
       "    </tr>\n",
       "  </tbody>\n",
       "</table>\n",
       "</div>"
      ],
      "text/plain": [
       "   Edad Sexo   Sueldo\n",
       "0    26    M   687855\n",
       "1    46    M  1240000"
      ]
     },
     "execution_count": 64,
     "metadata": {},
     "output_type": "execute_result"
    }
   ],
   "source": [
    "df"
   ]
  },
  {
   "cell_type": "markdown",
   "id": "993e29ac",
   "metadata": {
    "slideshow": {
     "slide_type": "slide"
    }
   },
   "source": [
    "Con este resultado ya se tiene la principal estructura de datos de la librería pandas, la cual se puede manipular para obtener información a partir de los datos que contiene."
   ]
  },
  {
   "cell_type": "markdown",
   "id": "57a3a182",
   "metadata": {
    "slideshow": {
     "slide_type": "slide"
    }
   },
   "source": [
    "Los datos generalmente provienen de sistemas que capturan datos y los guardan en formatos específicos. "
   ]
  },
  {
   "cell_type": "markdown",
   "id": "83a58bf2",
   "metadata": {
    "slideshow": {
     "slide_type": "slide"
    }
   },
   "source": [
    "La importación de datos permite trabajar con datos generados por otros agentes reduciendo sustancialmente el tiempo empleado para disponer de una tabla de datos. "
   ]
  },
  {
   "cell_type": "markdown",
   "id": "27cd50fc",
   "metadata": {
    "slideshow": {
     "slide_type": "slide"
    }
   },
   "source": [
    "Existen muchos tipos de archivos externos que contienen datos, los más relevantes podrían ser aquellos provenientes de bases de datos."
   ]
  },
  {
   "cell_type": "markdown",
   "id": "215d3ffe",
   "metadata": {
    "slideshow": {
     "slide_type": "slide"
    }
   },
   "source": [
    "## 2.1.2 Importación de datos desde direcciones de internet"
   ]
  },
  {
   "cell_type": "markdown",
   "id": "5fbcb1ed",
   "metadata": {},
   "source": [
    "Python dispone de varias funciones en la librería pandas que permiten leer diferentes tipos \n",
    "de archivos. Las funciones que llevan a cabo estas tareas se caracterizan porque se \n",
    "escriben como “pandas.read” seguido de un guion bajo y luego el tipo de archivo a leer."
   ]
  },
  {
   "cell_type": "code",
   "execution_count": null,
   "id": "8dce0b3e",
   "metadata": {},
   "outputs": [],
   "source": []
  },
  {
   "cell_type": "code",
   "execution_count": null,
   "id": "b09acd3e",
   "metadata": {},
   "outputs": [],
   "source": []
  },
  {
   "cell_type": "markdown",
   "id": "1b7bba0a",
   "metadata": {
    "slideshow": {
     "slide_type": "slide"
    }
   },
   "source": [
    "# Classes and objects\n"
   ]
  },
  {
   "cell_type": "markdown",
   "id": "138b46e7",
   "metadata": {
    "slideshow": {
     "slide_type": "slide"
    }
   },
   "source": [
    "### 15.1 Tipos definidos por el usuario"
   ]
  },
  {
   "cell_type": "markdown",
   "id": "6518c182",
   "metadata": {},
   "source": [
    "Hemos utilizado muchos de los tipos integrados de Python; ahora vamos a definir un nuevo tipo. "
   ]
  },
  {
   "cell_type": "markdown",
   "id": "18cabc3b",
   "metadata": {},
   "source": [
    "Como ejemplo, crearemos un tipo llamado `Punto` que representa un punto en un espacio bidimensional."
   ]
  },
  {
   "cell_type": "markdown",
   "id": "72f37416",
   "metadata": {
    "slideshow": {
     "slide_type": "slide"
    }
   },
   "source": [
    "En notación matemática, los puntos a menudo se escriben entre paréntesis con una coma que separa las coordenadas."
   ]
  },
  {
   "cell_type": "markdown",
   "id": "4825a4ff",
   "metadata": {},
   "source": [
    "Por ejemplo, (0, 0) representa el origen y (x, y) representa el punto x unidades a la derecha e y unidades hacia arriba desde el origen."
   ]
  },
  {
   "cell_type": "markdown",
   "id": "3e93f54a",
   "metadata": {
    "slideshow": {
     "slide_type": "slide"
    }
   },
   "source": [
    "Hay varias formas en que podemos representar puntos en Python:"
   ]
  },
  {
   "cell_type": "markdown",
   "id": "5c8ebd49",
   "metadata": {},
   "source": [
    "* Podríamos almacenar las coordenadas por separado en dos variables, x e y.\n",
    "\n",
    "* Podríamos almacenar las coordenadas como elementos en una lista o tupla.\n",
    "\n",
    "* Podríamos crear un nuevo tipo para representar puntos como objetos."
   ]
  },
  {
   "cell_type": "markdown",
   "id": "9a296884",
   "metadata": {
    "slideshow": {
     "slide_type": "slide"
    }
   },
   "source": [
    "Crear un nuevo tipo es (un poco) más complicado que las otras opciones, pero tiene ventajas que pronto serán evidentes."
   ]
  },
  {
   "cell_type": "markdown",
   "id": "85f76477",
   "metadata": {
    "slideshow": {
     "slide_type": "slide"
    }
   },
   "source": [
    "Un tipo definido por el usuario también se denomina clase. Una definición de clase se ve así:"
   ]
  },
  {
   "cell_type": "markdown",
   "id": "e97cb14d",
   "metadata": {
    "slideshow": {
     "slide_type": "slide"
    }
   },
   "source": [
    "```python\n",
    "class Point():\n",
    "    \"\" \"Representa un punto en el espacio 2-D.\" \"\"\n",
    "```    "
   ]
  },
  {
   "cell_type": "code",
   "execution_count": null,
   "id": "44b71b83",
   "metadata": {
    "slideshow": {
     "slide_type": "slide"
    }
   },
   "outputs": [],
   "source": [
    "class Point():\n",
    "    pass "
   ]
  },
  {
   "cell_type": "markdown",
   "id": "9db601e9",
   "metadata": {
    "slideshow": {
     "slide_type": "slide"
    }
   },
   "source": [
    "Este encabezado indica que la nueva clase es un punto, que es un tipo de objeto, que es un tipo integrado."
   ]
  },
  {
   "cell_type": "markdown",
   "id": "0ce35e0a",
   "metadata": {
    "slideshow": {
     "slide_type": "slide"
    }
   },
   "source": [
    "El cuerpo es una cadena de documentos que explica para qué sirve la clase. "
   ]
  },
  {
   "cell_type": "markdown",
   "id": "0103c272",
   "metadata": {
    "slideshow": {
     "slide_type": "slide"
    }
   },
   "source": [
    "Puede definir variables y funciones dentro de una definición de clase, pero volveremos a eso más adelante."
   ]
  },
  {
   "cell_type": "markdown",
   "id": "7b83d7fd",
   "metadata": {
    "slideshow": {
     "slide_type": "slide"
    }
   },
   "source": [
    "La definición de una clase llamada `Point` crea un objeto de clase"
   ]
  },
  {
   "cell_type": "code",
   "execution_count": null,
   "id": "1037c611",
   "metadata": {
    "slideshow": {
     "slide_type": "slide"
    }
   },
   "outputs": [],
   "source": [
    "print(Point) "
   ]
  },
  {
   "cell_type": "markdown",
   "id": "3aba6281",
   "metadata": {
    "slideshow": {
     "slide_type": "slide"
    }
   },
   "source": [
    "Because `Point` is defined at the top level, its “full name” is `__main__.Point`."
   ]
  },
  {
   "cell_type": "markdown",
   "id": "f7a6d778",
   "metadata": {
    "slideshow": {
     "slide_type": "slide"
    }
   },
   "source": [
    "The class object is like a factory for creating objects. To create a Point, you call Point as if it were a function."
   ]
  },
  {
   "cell_type": "code",
   "execution_count": null,
   "id": "af3fe6f0",
   "metadata": {
    "slideshow": {
     "slide_type": "slide"
    }
   },
   "outputs": [],
   "source": [
    "blank = Point()"
   ]
  },
  {
   "cell_type": "code",
   "execution_count": null,
   "id": "c549596e",
   "metadata": {
    "slideshow": {
     "slide_type": "slide"
    }
   },
   "outputs": [],
   "source": [
    "print(blank) "
   ]
  },
  {
   "cell_type": "markdown",
   "id": "9b0905c1",
   "metadata": {
    "slideshow": {
     "slide_type": "slide"
    }
   },
   "source": [
    "The return value is a reference to a `Point` object, which we assign to `blank`. "
   ]
  },
  {
   "cell_type": "markdown",
   "id": "e79c0cce",
   "metadata": {
    "slideshow": {
     "slide_type": "slide"
    }
   },
   "source": [
    "Creating a new object is called instantiation, and the object is an instance of the class."
   ]
  },
  {
   "cell_type": "markdown",
   "id": "ed3bcf26",
   "metadata": {
    "slideshow": {
     "slide_type": "slide"
    }
   },
   "source": [
    "When you print an instance, Python tells you what class it belongs to and where it is stored in memory (the prefix 0x means that the following number is in hexadecimal)."
   ]
  },
  {
   "cell_type": "markdown",
   "id": "16151d79",
   "metadata": {
    "slideshow": {
     "slide_type": "slide"
    }
   },
   "source": []
  },
  {
   "cell_type": "code",
   "execution_count": null,
   "id": "bc9d4e90",
   "metadata": {
    "slideshow": {
     "slide_type": "slide"
    }
   },
   "outputs": [],
   "source": []
  },
  {
   "cell_type": "code",
   "execution_count": null,
   "id": "ce2e82f8",
   "metadata": {
    "slideshow": {
     "slide_type": "slide"
    }
   },
   "outputs": [],
   "source": []
  },
  {
   "cell_type": "code",
   "execution_count": null,
   "id": "fafdbf04",
   "metadata": {},
   "outputs": [],
   "source": []
  },
  {
   "cell_type": "code",
   "execution_count": null,
   "id": "8abe7a49",
   "metadata": {},
   "outputs": [],
   "source": []
  },
  {
   "cell_type": "code",
   "execution_count": null,
   "id": "e9c44f0e",
   "metadata": {},
   "outputs": [],
   "source": []
  },
  {
   "cell_type": "code",
   "execution_count": null,
   "id": "f37539c1",
   "metadata": {},
   "outputs": [],
   "source": []
  },
  {
   "cell_type": "code",
   "execution_count": null,
   "id": "f47f7688",
   "metadata": {},
   "outputs": [],
   "source": []
  },
  {
   "cell_type": "code",
   "execution_count": null,
   "id": "850d88a3",
   "metadata": {},
   "outputs": [],
   "source": []
  }
 ],
 "metadata": {
  "celltoolbar": "Slideshow",
  "kernelspec": {
   "display_name": "Python 3",
   "language": "python",
   "name": "python3"
  },
  "language_info": {
   "codemirror_mode": {
    "name": "ipython",
    "version": 3
   },
   "file_extension": ".py",
   "mimetype": "text/x-python",
   "name": "python",
   "nbconvert_exporter": "python",
   "pygments_lexer": "ipython3",
   "version": "3.8.8"
  },
  "latex_envs": {
   "LaTeX_envs_menu_present": true,
   "autoclose": false,
   "autocomplete": false,
   "bibliofile": "biblio.bib",
   "cite_by": "apalike",
   "current_citInitial": 1,
   "eqLabelWithNumbers": true,
   "eqNumInitial": 1,
   "hotkeys": {
    "equation": "Ctrl-E",
    "itemize": "Ctrl-I"
   },
   "labels_anchors": false,
   "latex_user_defs": false,
   "report_style_numbering": false,
   "user_envs_cfg": false
  },
  "rise": {
   "enable_chalkboard": true,
   "theme": "sky",
   "transition": "zoom"
  }
 },
 "nbformat": 4,
 "nbformat_minor": 5
}
