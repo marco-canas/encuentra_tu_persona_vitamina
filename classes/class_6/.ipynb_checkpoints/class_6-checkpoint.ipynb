{
 "cells": [
  {
   "cell_type": "markdown",
   "id": "f29fd06a",
   "metadata": {
    "slideshow": {
     "slide_type": "slide"
    }
   },
   "source": [
    "<table align=\"left\">\n",
    "  <td>\n",
    "    <a href=\"https://colab.research.google.com/github/marco-canas/introducci-n-al-Machine-Learning/blob/main/classes/class_5/class_5.ipynb\" target=\"_parent\"><img src=\"https://colab.research.google.com/assets/colab-badge.svg\" alt=\"Open In Colab\"/></a>\n",
    "  </td>\n",
    "  <td>\n",
    "    <a target=\"_blank\" href=\"https://kaggle.com/kernels/welcome?src=https://github.com/marco-canas/introducci-n-al-Machine-Learning/blob/main/classes/class_5/class_5.ipynb\"><img src=\"https://kaggle.com/static/images/open-in-kaggle.svg\" /></a>\n",
    "  </td>\n",
    "</table>\n",
    "\n"
   ]
  },
  {
   "cell_type": "markdown",
   "id": "88b479b5",
   "metadata": {
    "slideshow": {
     "slide_type": "slide"
    }
   },
   "source": [
    "# Clase 6 "
   ]
  },
  {
   "cell_type": "markdown",
   "id": "050e3c3b",
   "metadata": {
    "slideshow": {
     "slide_type": "slide"
    }
   },
   "source": [
    "Objetivos: \n",
    "\n",
    "* Otros métodos asociados a listas. \n",
    "* Librerías científicas numpy, pandas y matplotlib. \n",
    "* Clases de Python"
   ]
  },
  {
   "cell_type": "markdown",
   "id": "ca4e7f21",
   "metadata": {
    "slideshow": {
     "slide_type": "slide"
    }
   },
   "source": [
    "## Asignación de ejercicio de construcción de funciones en Python"
   ]
  },
  {
   "cell_type": "code",
   "execution_count": 1,
   "id": "f4854b1e",
   "metadata": {
    "slideshow": {
     "slide_type": "slide"
    }
   },
   "outputs": [],
   "source": [
    "import numpy as np \n",
    "import pandas as pd "
   ]
  },
  {
   "cell_type": "code",
   "execution_count": 8,
   "id": "39a897c8",
   "metadata": {
    "slideshow": {
     "slide_type": "slide"
    }
   },
   "outputs": [],
   "source": [
    "grupo_intro_ml=pd.read_excel('grupo_intro_ml.xlsx')"
   ]
  },
  {
   "cell_type": "code",
   "execution_count": 4,
   "id": "b44ef5a4",
   "metadata": {
    "slideshow": {
     "slide_type": "slide"
    }
   },
   "outputs": [
    {
     "data": {
      "text/html": [
       "<div>\n",
       "<style scoped>\n",
       "    .dataframe tbody tr th:only-of-type {\n",
       "        vertical-align: middle;\n",
       "    }\n",
       "\n",
       "    .dataframe tbody tr th {\n",
       "        vertical-align: top;\n",
       "    }\n",
       "\n",
       "    .dataframe thead th {\n",
       "        text-align: right;\n",
       "    }\n",
       "</style>\n",
       "<table border=\"1\" class=\"dataframe\">\n",
       "  <thead>\n",
       "    <tr style=\"text-align: right;\">\n",
       "      <th></th>\n",
       "      <th>cedula</th>\n",
       "      <th>Nombre</th>\n",
       "      <th>Email</th>\n",
       "    </tr>\n",
       "  </thead>\n",
       "  <tbody>\n",
       "    <tr>\n",
       "      <th>21</th>\n",
       "      <td>22\\t1007813704\\tPULGARIN QUIROZ EMILY IVETTE\\t...</td>\n",
       "      <td>NaN</td>\n",
       "      <td>NaN</td>\n",
       "    </tr>\n",
       "    <tr>\n",
       "      <th>22</th>\n",
       "      <td>23\\t1001851542\\tRODRIGUEZ BARRIOS DAIRA LORENA...</td>\n",
       "      <td>NaN</td>\n",
       "      <td>NaN</td>\n",
       "    </tr>\n",
       "    <tr>\n",
       "      <th>23</th>\n",
       "      <td>24\\t1152225691\\tTORRES MERIÑO JOSE LUIS CAMILO...</td>\n",
       "      <td>NaN</td>\n",
       "      <td>NaN</td>\n",
       "    </tr>\n",
       "    <tr>\n",
       "      <th>24</th>\n",
       "      <td>25\\t1007722578\\tTRUJILLO VERTEL MAIRA ALEJANDR...</td>\n",
       "      <td>NaN</td>\n",
       "      <td>NaN</td>\n",
       "    </tr>\n",
       "    <tr>\n",
       "      <th>25</th>\n",
       "      <td>1017266250</td>\n",
       "      <td>ZAPATA VANEGAS JUAN CAMILO</td>\n",
       "      <td>juan.zapata100@udea.edu.co</td>\n",
       "    </tr>\n",
       "  </tbody>\n",
       "</table>\n",
       "</div>"
      ],
      "text/plain": [
       "                                              cedula   \\\n",
       "21  22\\t1007813704\\tPULGARIN QUIROZ EMILY IVETTE\\t...   \n",
       "22  23\\t1001851542\\tRODRIGUEZ BARRIOS DAIRA LORENA...   \n",
       "23  24\\t1152225691\\tTORRES MERIÑO JOSE LUIS CAMILO...   \n",
       "24  25\\t1007722578\\tTRUJILLO VERTEL MAIRA ALEJANDR...   \n",
       "25                                         1017266250   \n",
       "\n",
       "                         Nombre                       Email  \n",
       "21                          NaN                         NaN  \n",
       "22                          NaN                         NaN  \n",
       "23                          NaN                         NaN  \n",
       "24                          NaN                         NaN  \n",
       "25  ZAPATA VANEGAS JUAN CAMILO   juan.zapata100@udea.edu.co  "
      ]
     },
     "execution_count": 4,
     "metadata": {},
     "output_type": "execute_result"
    }
   ],
   "source": [
    "grupo_intro_ml.tail()  "
   ]
  },
  {
   "cell_type": "code",
   "execution_count": null,
   "id": "3849756b",
   "metadata": {
    "slideshow": {
     "slide_type": "slide"
    }
   },
   "outputs": [],
   "source": [
    "grupo_intro_ml = pd.read_csv('grupo_intro_ml.csv', sep = '    ')    "
   ]
  },
  {
   "cell_type": "code",
   "execution_count": null,
   "id": "0e46b526",
   "metadata": {
    "slideshow": {
     "slide_type": "slide"
    }
   },
   "outputs": [],
   "source": [
    "grupo_intro_ml.keys() "
   ]
  },
  {
   "cell_type": "code",
   "execution_count": null,
   "id": "749571fc",
   "metadata": {
    "slideshow": {
     "slide_type": "slide"
    }
   },
   "outputs": [],
   "source": [
    "#grupo_intro_ml.drop(['Unnamed: 1','Unnamed: 2','Unnamed: 4'], \n",
    "#                    axis = 1, inplace = True) "
   ]
  },
  {
   "cell_type": "code",
   "execution_count": null,
   "id": "4712bfa7",
   "metadata": {
    "slideshow": {
     "slide_type": "slide"
    }
   },
   "outputs": [],
   "source": [
    "grupo_intro_ml.head() "
   ]
  },
  {
   "cell_type": "markdown",
   "id": "8e6a6012",
   "metadata": {
    "slideshow": {
     "slide_type": "slide"
    }
   },
   "source": [
    "### Generación de lista con la asignación para los 26 estudiantes"
   ]
  },
  {
   "cell_type": "markdown",
   "id": "e7ae1842",
   "metadata": {
    "slideshow": {
     "slide_type": "slide"
    }
   },
   "source": [
    "Son 30 los ejercicios del primer taller. "
   ]
  },
  {
   "cell_type": "code",
   "execution_count": null,
   "id": "19f863a3",
   "metadata": {
    "slideshow": {
     "slide_type": "slide"
    }
   },
   "outputs": [],
   "source": [
    "from random import randint \n",
    "\n",
    "lista_ejercicios_asignados = [randint(1,30) for i in range(26)]\n",
    "\n",
    "lista_ejercicios_asignados "
   ]
  },
  {
   "cell_type": "code",
   "execution_count": null,
   "id": "eff6ce55",
   "metadata": {
    "slideshow": {
     "slide_type": "slide"
    }
   },
   "outputs": [],
   "source": [
    "grupo_intro_ml['Asignación taller 1'] = lista_ejercicios_asignados"
   ]
  },
  {
   "cell_type": "code",
   "execution_count": null,
   "id": "462270ae",
   "metadata": {
    "scrolled": true,
    "slideshow": {
     "slide_type": "slide"
    }
   },
   "outputs": [],
   "source": [
    "grupo_intro_ml"
   ]
  },
  {
   "cell_type": "code",
   "execution_count": null,
   "id": "dcdbbd4b",
   "metadata": {
    "slideshow": {
     "slide_type": "slide"
    }
   },
   "outputs": [],
   "source": [
    "# grupo_intro_ml.Email.to_csv('emails.csv', index = False) "
   ]
  },
  {
   "cell_type": "markdown",
   "id": "f72cbe62",
   "metadata": {
    "slideshow": {
     "slide_type": "slide"
    }
   },
   "source": [
    "# Participación aleatoria"
   ]
  },
  {
   "cell_type": "code",
   "execution_count": null,
   "id": "9b91b18a",
   "metadata": {
    "slideshow": {
     "slide_type": "slide"
    }
   },
   "outputs": [],
   "source": [
    "import pandas as pd"
   ]
  },
  {
   "cell_type": "code",
   "execution_count": null,
   "id": "a3d565bc",
   "metadata": {
    "slideshow": {
     "slide_type": "slide"
    }
   },
   "outputs": [],
   "source": [
    "lista_estudiantes = list(grupo_intro_ml[' Nombre'].values)\n",
    "\n",
    "from random import randint, choice\n",
    "\n",
    "def seleccion_aleatoria():\n",
    "    if lista_estudiantes == []:\n",
    "        print('ya participaron todos los estudiantes') \n",
    "    else:\n",
    "        while lista_estudiantes != []:\n",
    "            student = choice(lista_estudiantes)\n",
    "            lista_estudiantes.remove(student)\n",
    "            return print(student)  \n",
    "    "
   ]
  },
  {
   "cell_type": "code",
   "execution_count": null,
   "id": "6c9e94ab",
   "metadata": {
    "slideshow": {
     "slide_type": "slide"
    }
   },
   "outputs": [],
   "source": [
    "seleccion_aleatoria()"
   ]
  },
  {
   "cell_type": "markdown",
   "id": "27939949",
   "metadata": {
    "slideshow": {
     "slide_type": "slide"
    }
   },
   "source": [
    "# Numpy"
   ]
  },
  {
   "cell_type": "markdown",
   "id": "c0d6a8f5",
   "metadata": {
    "slideshow": {
     "slide_type": "slide"
    }
   },
   "source": [
    "### Arreglos de dos dimensiones"
   ]
  },
  {
   "cell_type": "markdown",
   "id": "235ea6ca",
   "metadata": {
    "slideshow": {
     "slide_type": "slide"
    }
   },
   "source": [
    "Los arreglos son conjuntos de datos organizados que pueden ser de una o múltiples dimensiones. "
   ]
  },
  {
   "cell_type": "markdown",
   "id": "6caf796f",
   "metadata": {
    "slideshow": {
     "slide_type": "slide"
    }
   },
   "source": [
    "Para acceder a estos es se recurre al módulo “numpy” o Python numérico, con el cual se tendrá una forma de crear los arreglos necesarios a la hora de organizar datos en un “dataframe” (tabla de datos). "
   ]
  },
  {
   "cell_type": "markdown",
   "id": "a71f0a96",
   "metadata": {
    "slideshow": {
     "slide_type": "slide"
    }
   },
   "source": [
    "Los arreglos se crean a partir de una lista de números como argumento."
   ]
  },
  {
   "cell_type": "code",
   "execution_count": null,
   "id": "b9f02c2c",
   "metadata": {
    "slideshow": {
     "slide_type": "slide"
    }
   },
   "outputs": [],
   "source": [
    "import numpy as np \n",
    "x=[1,3,5,7,9]\n",
    "y=[0,2,4,6,8]\n",
    "matrix_numpy = np.array([x,y])\n",
    "matrix_numpy "
   ]
  },
  {
   "cell_type": "markdown",
   "id": "3485e307",
   "metadata": {
    "slideshow": {
     "slide_type": "slide"
    }
   },
   "source": [
    "Utilizando la función `transpose()` se puede transponer el arreglo para obtener las filas como columnas o desde el arreglo con el atributo.”T”."
   ]
  },
  {
   "cell_type": "code",
   "execution_count": null,
   "id": "8f2c78dd",
   "metadata": {
    "slideshow": {
     "slide_type": "slide"
    }
   },
   "outputs": [],
   "source": [
    "np.transpose(matrix_numpy) "
   ]
  },
  {
   "cell_type": "markdown",
   "id": "3b615a9b",
   "metadata": {
    "slideshow": {
     "slide_type": "slide"
    }
   },
   "source": [
    "### Ejemplo: Traspuesta de una matriz mediante el atributo .”T”.\n"
   ]
  },
  {
   "cell_type": "code",
   "execution_count": null,
   "id": "35bb7497",
   "metadata": {
    "slideshow": {
     "slide_type": "slide"
    }
   },
   "outputs": [],
   "source": [
    "matrix_numpy.T "
   ]
  },
  {
   "cell_type": "markdown",
   "id": "4de1ad3d",
   "metadata": {
    "slideshow": {
     "slide_type": "slide"
    }
   },
   "source": [
    "Para cambiar las dimensiones de la matriz sin que cambien sus datos, se puede utilizar el método `.reshape()` contenido en los arreglos “numpy.ndarray” colocando como argumento las dimensiones a las que se quiere cambiar el arreglo. "
   ]
  },
  {
   "cell_type": "markdown",
   "id": "8daf50f1",
   "metadata": {
    "slideshow": {
     "slide_type": "slide"
    }
   },
   "source": [
    "En la siguiente figura el arreglo resultante tiene dimensiones 1x10:"
   ]
  },
  {
   "cell_type": "markdown",
   "id": "8f1803a0",
   "metadata": {
    "slideshow": {
     "slide_type": "slide"
    }
   },
   "source": [
    "### Ejemplo: Arreglo transformado a dimensiones 1x8."
   ]
  },
  {
   "cell_type": "code",
   "execution_count": null,
   "id": "4b92d49d",
   "metadata": {
    "slideshow": {
     "slide_type": "slide"
    }
   },
   "outputs": [],
   "source": [
    "matrix_numpy.reshape(1,10)"
   ]
  },
  {
   "cell_type": "code",
   "execution_count": null,
   "id": "57521bba",
   "metadata": {
    "slideshow": {
     "slide_type": "slide"
    }
   },
   "outputs": [],
   "source": [
    "matrix_numpy.ravel() "
   ]
  },
  {
   "cell_type": "markdown",
   "id": "de4c48a1",
   "metadata": {
    "slideshow": {
     "slide_type": "slide"
    }
   },
   "source": [
    "Con los arreglos se pueden realizar operaciones del algebra lineal como las de la siguiente tabla y se muestran con imágenes ejemplos de estas"
   ]
  },
  {
   "cell_type": "markdown",
   "id": "90dad82e",
   "metadata": {
    "slideshow": {
     "slide_type": "slide"
    }
   },
   "source": [
    "|Sumas o restas (las matrices deben ser del mismo tamaño)|+ ó -|\n",
    "|-|-|  \n",
    "|Multiplicación por elemento| * |  \n",
    "|Multiplicación matricial| @ ó A.dot(B)|  \n",
    "|Multiplicación por escalar $\\alpha$| $\\alpha*A$ |\n",
    "|Matriz idéntica| numpy.identity(n)|\n",
    "|Matriz inversa| numpy.linalg.inv(A)|\n",
    "|Determinante de una matriz| numpy.linalg.det(A)|\n",
    "|Solución a un sistema de ecuaciones lineales (solo matrices cuadradas)| numpy.linalg.solve(A,b)|\n",
    "|Potenciación de matriz cuadrada| numpy.linalg.matrix_power(A,n)|"
   ]
  },
  {
   "cell_type": "markdown",
   "id": "27ab8f53",
   "metadata": {
    "slideshow": {
     "slide_type": "slide"
    }
   },
   "source": [
    "Suponga la creacion de los siguientes arreglos. "
   ]
  },
  {
   "cell_type": "markdown",
   "id": "195dfa46",
   "metadata": {
    "slideshow": {
     "slide_type": "slide"
    }
   },
   "source": [
    "Se aplicarán las operaciones mencionadas en la tabla anterior como ejemplo:"
   ]
  },
  {
   "cell_type": "code",
   "execution_count": null,
   "id": "899f7ef7",
   "metadata": {
    "slideshow": {
     "slide_type": "slide"
    }
   },
   "outputs": [],
   "source": [
    "import numpy as np \n",
    "A = np.array([[2,3,5],[5,8,7],[3,2,1]])\n",
    "B = np.array([[4,3,2],[6,2,7],[1,1,1]])"
   ]
  },
  {
   "cell_type": "markdown",
   "id": "43640842",
   "metadata": {
    "slideshow": {
     "slide_type": "slide"
    }
   },
   "source": [
    "### Ejemplo de suma de matrices."
   ]
  },
  {
   "cell_type": "code",
   "execution_count": null,
   "id": "b6396c11",
   "metadata": {
    "slideshow": {
     "slide_type": "slide"
    }
   },
   "outputs": [],
   "source": [
    "A+B"
   ]
  },
  {
   "cell_type": "markdown",
   "id": "59ff6769",
   "metadata": {
    "slideshow": {
     "slide_type": "slide"
    }
   },
   "source": [
    "### Ejemplo de una resta de matrices."
   ]
  },
  {
   "cell_type": "code",
   "execution_count": null,
   "id": "9d7cb692",
   "metadata": {
    "slideshow": {
     "slide_type": "slide"
    }
   },
   "outputs": [],
   "source": [
    "A-B"
   ]
  },
  {
   "cell_type": "markdown",
   "id": "19a18487",
   "metadata": {
    "slideshow": {
     "slide_type": "slide"
    }
   },
   "source": [
    "### Ejemplo de una multiplicación por elementos.\n"
   ]
  },
  {
   "cell_type": "code",
   "execution_count": null,
   "id": "2e6dc900",
   "metadata": {
    "slideshow": {
     "slide_type": "slide"
    }
   },
   "outputs": [],
   "source": [
    "print(A)  \n",
    "print(B)  \n",
    "print(A*B)  "
   ]
  },
  {
   "cell_type": "markdown",
   "id": "384b5f93",
   "metadata": {
    "slideshow": {
     "slide_type": "slide"
    }
   },
   "source": [
    "### Ejemplos de multiplicación matricial."
   ]
  },
  {
   "cell_type": "code",
   "execution_count": null,
   "id": "9eaa5c38",
   "metadata": {
    "slideshow": {
     "slide_type": "slide"
    }
   },
   "outputs": [],
   "source": [
    "A @ B"
   ]
  },
  {
   "cell_type": "code",
   "execution_count": null,
   "id": "7df50238",
   "metadata": {
    "slideshow": {
     "slide_type": "slide"
    }
   },
   "outputs": [],
   "source": [
    "A.dot(B)"
   ]
  },
  {
   "cell_type": "markdown",
   "id": "3d1c824a",
   "metadata": {
    "slideshow": {
     "slide_type": "slide"
    }
   },
   "source": [
    "### Ejemplo de multiplicación por escalar.\n"
   ]
  },
  {
   "cell_type": "code",
   "execution_count": null,
   "id": "183c84ca",
   "metadata": {
    "slideshow": {
     "slide_type": "slide"
    }
   },
   "outputs": [],
   "source": [
    "(1/2)*A"
   ]
  },
  {
   "cell_type": "markdown",
   "id": "ae868326",
   "metadata": {
    "slideshow": {
     "slide_type": "slide"
    }
   },
   "source": [
    "### Creación de una matriz idéntica de tamaño 3x3."
   ]
  },
  {
   "cell_type": "code",
   "execution_count": null,
   "id": "0fc44ca2",
   "metadata": {
    "slideshow": {
     "slide_type": "slide"
    }
   },
   "outputs": [],
   "source": [
    "np.identity(3)"
   ]
  },
  {
   "cell_type": "markdown",
   "id": "10e374e9",
   "metadata": {
    "slideshow": {
     "slide_type": "slide"
    }
   },
   "source": [
    "### Inversa de una matriz.\n"
   ]
  },
  {
   "cell_type": "code",
   "execution_count": null,
   "id": "24f307ef",
   "metadata": {
    "slideshow": {
     "slide_type": "slide"
    }
   },
   "outputs": [],
   "source": [
    "np.linalg.inv(A)"
   ]
  },
  {
   "cell_type": "markdown",
   "id": "e47526a1",
   "metadata": {
    "slideshow": {
     "slide_type": "slide"
    }
   },
   "source": [
    "### Ejemplo Determinante de una matriz."
   ]
  },
  {
   "cell_type": "code",
   "execution_count": null,
   "id": "d7a87df7",
   "metadata": {
    "slideshow": {
     "slide_type": "slide"
    }
   },
   "outputs": [],
   "source": [
    "np.linalg.det(A)"
   ]
  },
  {
   "cell_type": "markdown",
   "id": "4002bcb7",
   "metadata": {
    "slideshow": {
     "slide_type": "slide"
    }
   },
   "source": [
    "### Solución a un sistema de ecuaciones lineales.\n"
   ]
  },
  {
   "cell_type": "code",
   "execution_count": null,
   "id": "47451e93",
   "metadata": {
    "slideshow": {
     "slide_type": "slide"
    }
   },
   "outputs": [],
   "source": [
    "C = np.array([[3,-2,5],[-2,6,1],[1,4,-3]]) \n",
    "b = np.array([64,-13,-30])"
   ]
  },
  {
   "cell_type": "code",
   "execution_count": null,
   "id": "c2e15ea6",
   "metadata": {
    "slideshow": {
     "slide_type": "slide"
    }
   },
   "outputs": [],
   "source": [
    "np.linalg.solve(C,b)"
   ]
  },
  {
   "cell_type": "markdown",
   "id": "6146d3e1",
   "metadata": {
    "slideshow": {
     "slide_type": "slide"
    }
   },
   "source": [
    "### Potenciación de una matriz."
   ]
  },
  {
   "cell_type": "code",
   "execution_count": null,
   "id": "91bf8473",
   "metadata": {
    "slideshow": {
     "slide_type": "slide"
    }
   },
   "outputs": [],
   "source": [
    "np.linalg.matrix_power(A,3)"
   ]
  },
  {
   "cell_type": "code",
   "execution_count": null,
   "id": "62d94aec",
   "metadata": {
    "slideshow": {
     "slide_type": "slide"
    }
   },
   "outputs": [],
   "source": []
  },
  {
   "cell_type": "markdown",
   "id": "ce29f51b",
   "metadata": {
    "slideshow": {
     "slide_type": "slide"
    }
   },
   "source": [
    "# Matplotlib"
   ]
  },
  {
   "cell_type": "code",
   "execution_count": null,
   "id": "94654dda",
   "metadata": {
    "slideshow": {
     "slide_type": "slide"
    }
   },
   "outputs": [],
   "source": [
    "from matplotlib import pyplot as plt \n",
    "fig,ax = plt.subplots()\n",
    "# cuadrado\n",
    "p1=[0,0]\n",
    "p2=[1,0]\n",
    "p3=[1,1]\n",
    "p4=[0,1]\n",
    "\n",
    "x=list(zip(p1,p2,p3,p4,p1))[0]\n",
    "y=list(zip(p1,p2,p3,p4,p1))[1]\n",
    "\n",
    "ax.plot(x,y) "
   ]
  },
  {
   "cell_type": "code",
   "execution_count": null,
   "id": "01aa691d",
   "metadata": {},
   "outputs": [],
   "source": [
    "x=list(zip(p1,p2,p3,p4,p1))\n",
    "x[0] "
   ]
  },
  {
   "cell_type": "markdown",
   "id": "c5209fb0",
   "metadata": {
    "slideshow": {
     "slide_type": "slide"
    }
   },
   "source": [
    "# Pandas "
   ]
  },
  {
   "cell_type": "markdown",
   "id": "6c8d6802",
   "metadata": {
    "slideshow": {
     "slide_type": "slide"
    }
   },
   "source": [
    "## 2.Capítulo 2. Tablas de datos"
   ]
  },
  {
   "cell_type": "markdown",
   "id": "c451e570",
   "metadata": {
    "slideshow": {
     "slide_type": "slide"
    }
   },
   "source": [
    "Las tablas de datos son la forma más común de organizar los datos en forma de matrices para posteriormente tratarlos. "
   ]
  },
  {
   "cell_type": "markdown",
   "id": "7ec70945",
   "metadata": {
    "slideshow": {
     "slide_type": "slide"
    }
   },
   "source": [
    "Cuando los conjuntos de datos se convierten en una tabla de datos, a partir del uso del uno de los módulos de Python conocido como pandas, se dispone de un objeto - con valiosos métodos - que facilitan el tratamiento y aplicación de funciones a los datos para analizarlos, para obtener información relevante de gran ayuda para la toma de decisiones."
   ]
  },
  {
   "cell_type": "markdown",
   "id": "9d863e03",
   "metadata": {
    "slideshow": {
     "slide_type": "slide"
    }
   },
   "source": [
    "En este capítulo se mostrará como:\n",
    "\n",
    "* Importar el módulo pandas para trabajar tablas de datos.\n",
    "* Crear tablas de datos.\n",
    "* Importar tablas de datos.\n",
    "* Visualizar tablas de datos.\n",
    "* Modificar la forma y los elementos de las tablas de datos.\n",
    "* Filtrar y ordenar tablas de datos.\n"
   ]
  },
  {
   "cell_type": "markdown",
   "id": "d1ede557",
   "metadata": {
    "slideshow": {
     "slide_type": "slide"
    }
   },
   "source": [
    "## 2.1 Obtención de tablas de datos"
   ]
  },
  {
   "cell_type": "markdown",
   "id": "67732dc8",
   "metadata": {
    "slideshow": {
     "slide_type": "slide"
    }
   },
   "source": [
    "Dos de las formas de disponer de tablas de datos son:\n",
    "\n",
    "* crear una tabla de datos o importarla desde un ”dataset” (conjunto de datos) proveniente de un archivo externo. \n",
    "* El módulo pandas está equipado con varias funciones para importar diferentes tipos de archivos. \n",
    "* En esta guía se importarán archivos CSV (Comma-separated values), JSON y EXCEL."
   ]
  },
  {
   "cell_type": "markdown",
   "id": "966e45ed",
   "metadata": {
    "slideshow": {
     "slide_type": "slide"
    }
   },
   "source": [
    "### 2.1.1 Creación de tablas de datos"
   ]
  },
  {
   "cell_type": "markdown",
   "id": "ac83c857",
   "metadata": {
    "slideshow": {
     "slide_type": "slide"
    }
   },
   "source": [
    "Una vez se tenga un arreglo o una variable de tipo diccionario, estos pueden ser convertidos en tabla de datos que son la forma estándar de manejar, de organizar datos en Python. "
   ]
  },
  {
   "cell_type": "markdown",
   "id": "17f3a6d5",
   "metadata": {
    "slideshow": {
     "slide_type": "slide"
    }
   },
   "source": [
    "Para ello se necesita la librería pandas que contiene este tipo de objeto y además facilita la importación de datos. "
   ]
  },
  {
   "cell_type": "markdown",
   "id": "988f9390",
   "metadata": {
    "slideshow": {
     "slide_type": "slide"
    }
   },
   "source": [
    "Todos los objetos clases y métodos del módulo pandas pueden encontrarse en el siguiente link:\n",
    "https://pandas.pydata.org/pandas-docs/stable/reference/index.html."
   ]
  },
  {
   "cell_type": "markdown",
   "id": "1f591cbc",
   "metadata": {
    "slideshow": {
     "slide_type": "slide"
    }
   },
   "source": [
    "Importación del módulo “pandas”."
   ]
  },
  {
   "cell_type": "code",
   "execution_count": null,
   "id": "01941979",
   "metadata": {
    "slideshow": {
     "slide_type": "slide"
    }
   },
   "outputs": [],
   "source": [
    "import pandas as pd "
   ]
  },
  {
   "cell_type": "markdown",
   "id": "aa67e053",
   "metadata": {
    "slideshow": {
     "slide_type": "slide"
    }
   },
   "source": [
    "Suponga que se va a crear una tabla de datos utilizando una variable tipo de tipo diccionario llamada “datos”, en la cual las llaves corresponderán a los nombres de las columnas o variables y que comprenden cada una de las listas que se crean a \n",
    "continuación:"
   ]
  },
  {
   "cell_type": "markdown",
   "id": "a1ea9290",
   "metadata": {
    "slideshow": {
     "slide_type": "slide"
    }
   },
   "source": [
    " ### Creación de una variable “dict” a partir de listas."
   ]
  },
  {
   "cell_type": "code",
   "execution_count": null,
   "id": "a8648f79",
   "metadata": {
    "slideshow": {
     "slide_type": "slide"
    }
   },
   "outputs": [],
   "source": [
    "import numpy as np \n",
    "edad = [26,46]\n",
    "sexo = ['M','M']\n",
    "ingreso = [687855, 1240000]\n",
    "\n",
    "datos = {'Edad':edad, 'Sexo':sexo, 'Ingreso':ingreso}"
   ]
  },
  {
   "cell_type": "code",
   "execution_count": null,
   "id": "fbf2424d",
   "metadata": {
    "slideshow": {
     "slide_type": "slide"
    }
   },
   "outputs": [],
   "source": [
    "datos "
   ]
  },
  {
   "cell_type": "markdown",
   "id": "9d2b3480",
   "metadata": {
    "slideshow": {
     "slide_type": "slide"
    }
   },
   "source": [
    "Se utilizará la librería pandas para crear una tabla de datos mediante la clase “DataFrame”\n",
    "a la que se le llamará “tabla” a partir del diccionario creado anteriormente:"
   ]
  },
  {
   "cell_type": "markdown",
   "id": "fde8b3ad",
   "metadata": {
    "slideshow": {
     "slide_type": "slide"
    }
   },
   "source": [
    "### Ejemplo: Creación de una tabla de datos pandas a partir del diccionario \"datos\"."
   ]
  },
  {
   "cell_type": "code",
   "execution_count": null,
   "id": "5d2fde95",
   "metadata": {
    "slideshow": {
     "slide_type": "slide"
    }
   },
   "outputs": [],
   "source": [
    "import pandas as pd \n",
    "df = pd.DataFrame(datos)\n",
    "df"
   ]
  },
  {
   "cell_type": "markdown",
   "id": "e05a7c92",
   "metadata": {
    "slideshow": {
     "slide_type": "slide"
    }
   },
   "source": [
    "Es fundamental utilizar la función “dir” para conocer funciones, atributos y métodos que sirven para modificar la tabla de datos. "
   ]
  },
  {
   "cell_type": "markdown",
   "id": "fa70de55",
   "metadata": {
    "slideshow": {
     "slide_type": "slide"
    }
   },
   "source": [
    "Por ejemplo: se pueden cambiar los nombres de las columnas desde el atributo “columns” de la tabla de datos. Debido a que las columnas son inmutables al ser de tipo “index”, se tiene que crear una nueva lista con los nombres de las columnas y asignar el atributo “columns” de la tabla de datos la lista creada"
   ]
  },
  {
   "cell_type": "code",
   "execution_count": null,
   "id": "d228bdff",
   "metadata": {
    "slideshow": {
     "slide_type": "slide"
    }
   },
   "outputs": [],
   "source": [
    "dir(df)"
   ]
  },
  {
   "cell_type": "markdown",
   "id": "21c5c59c",
   "metadata": {
    "slideshow": {
     "slide_type": "slide"
    }
   },
   "source": [
    "### Ejemplo: Reemplazo de los nombres de las columnas de la tabla de datos."
   ]
  },
  {
   "cell_type": "code",
   "execution_count": null,
   "id": "a5425a89",
   "metadata": {
    "slideshow": {
     "slide_type": "slide"
    }
   },
   "outputs": [],
   "source": [
    "df.columns = ['Edad','Sexo','Sueldo']"
   ]
  },
  {
   "cell_type": "code",
   "execution_count": null,
   "id": "f871487c",
   "metadata": {
    "slideshow": {
     "slide_type": "slide"
    }
   },
   "outputs": [],
   "source": [
    "df"
   ]
  },
  {
   "cell_type": "markdown",
   "id": "4348ca08",
   "metadata": {
    "slideshow": {
     "slide_type": "slide"
    }
   },
   "source": [
    "Con este resultado ya se tiene la principal estructura de datos de la librería pandas, la cual se puede manipular para obtener información a partir de los datos que contiene."
   ]
  },
  {
   "cell_type": "markdown",
   "id": "b42ec749",
   "metadata": {
    "slideshow": {
     "slide_type": "slide"
    }
   },
   "source": [
    "Los datos generalmente provienen de sistemas que capturan datos y los guardan en formatos específicos. "
   ]
  },
  {
   "cell_type": "markdown",
   "id": "91f1c423",
   "metadata": {
    "slideshow": {
     "slide_type": "slide"
    }
   },
   "source": [
    "La importación de datos permite trabajar con datos generados por otros agentes reduciendo sustancialmente el tiempo empleado para disponer de una tabla de datos. "
   ]
  },
  {
   "cell_type": "markdown",
   "id": "fe03f64f",
   "metadata": {
    "slideshow": {
     "slide_type": "slide"
    }
   },
   "source": [
    "Existen muchos tipos de archivos externos que contienen datos, los más relevantes podrían ser aquellos provenientes de bases de datos."
   ]
  },
  {
   "cell_type": "markdown",
   "id": "4a31d8f8",
   "metadata": {
    "slideshow": {
     "slide_type": "slide"
    }
   },
   "source": [
    "## 2.1.2 Importación de datos desde direcciones de internet"
   ]
  },
  {
   "cell_type": "markdown",
   "id": "a2fa37aa",
   "metadata": {},
   "source": [
    "Python dispone de varias funciones en la librería pandas que permiten leer diferentes tipos \n",
    "de archivos. Las funciones que llevan a cabo estas tareas se caracterizan porque se \n",
    "escriben como “pandas.read” seguido de un guion bajo y luego el tipo de archivo a leer."
   ]
  },
  {
   "cell_type": "code",
   "execution_count": null,
   "id": "8a46c825",
   "metadata": {},
   "outputs": [],
   "source": []
  },
  {
   "cell_type": "code",
   "execution_count": null,
   "id": "6dd65709",
   "metadata": {},
   "outputs": [],
   "source": []
  },
  {
   "cell_type": "markdown",
   "id": "1b7bba0a",
   "metadata": {
    "slideshow": {
     "slide_type": "slide"
    }
   },
   "source": [
    "# Classes and objects\n"
   ]
  },
  {
   "cell_type": "markdown",
   "id": "138b46e7",
   "metadata": {
    "slideshow": {
     "slide_type": "slide"
    }
   },
   "source": [
    "### 15.1 Tipos definidos por el usuario"
   ]
  },
  {
   "cell_type": "markdown",
   "id": "6518c182",
   "metadata": {},
   "source": [
    "Hemos utilizado muchos de los tipos integrados de Python; ahora vamos a definir un nuevo tipo. "
   ]
  },
  {
   "cell_type": "markdown",
   "id": "18cabc3b",
   "metadata": {},
   "source": [
    "Como ejemplo, crearemos un tipo llamado `Punto` que representa un punto en un espacio bidimensional."
   ]
  },
  {
   "cell_type": "markdown",
   "id": "72f37416",
   "metadata": {
    "slideshow": {
     "slide_type": "slide"
    }
   },
   "source": [
    "En notación matemática, los puntos a menudo se escriben entre paréntesis con una coma que separa las coordenadas."
   ]
  },
  {
   "cell_type": "markdown",
   "id": "4825a4ff",
   "metadata": {},
   "source": [
    "Por ejemplo, (0, 0) representa el origen y (x, y) representa el punto x unidades a la derecha e y unidades hacia arriba desde el origen."
   ]
  },
  {
   "cell_type": "markdown",
   "id": "3e93f54a",
   "metadata": {
    "slideshow": {
     "slide_type": "slide"
    }
   },
   "source": [
    "Hay varias formas en que podemos representar puntos en Python:"
   ]
  },
  {
   "cell_type": "markdown",
   "id": "5c8ebd49",
   "metadata": {},
   "source": [
    "* Podríamos almacenar las coordenadas por separado en dos variables, x e y.\n",
    "\n",
    "* Podríamos almacenar las coordenadas como elementos en una lista o tupla.\n",
    "\n",
    "* Podríamos crear un nuevo tipo para representar puntos como objetos."
   ]
  },
  {
   "cell_type": "markdown",
   "id": "9a296884",
   "metadata": {
    "slideshow": {
     "slide_type": "slide"
    }
   },
   "source": [
    "Crear un nuevo tipo es (un poco) más complicado que las otras opciones, pero tiene ventajas que pronto serán evidentes."
   ]
  },
  {
   "cell_type": "markdown",
   "id": "85f76477",
   "metadata": {
    "slideshow": {
     "slide_type": "slide"
    }
   },
   "source": [
    "Un tipo definido por el usuario también se denomina clase. Una definición de clase se ve así:"
   ]
  },
  {
   "cell_type": "markdown",
   "id": "e97cb14d",
   "metadata": {
    "slideshow": {
     "slide_type": "slide"
    }
   },
   "source": [
    "```python\n",
    "class Point():\n",
    "    \"\" \"Representa un punto en el espacio 2-D.\" \"\"\n",
    "```    "
   ]
  },
  {
   "cell_type": "code",
   "execution_count": null,
   "id": "44b71b83",
   "metadata": {
    "slideshow": {
     "slide_type": "slide"
    }
   },
   "outputs": [],
   "source": [
    "class Point():\n",
    "    pass "
   ]
  },
  {
   "cell_type": "markdown",
   "id": "9db601e9",
   "metadata": {
    "slideshow": {
     "slide_type": "slide"
    }
   },
   "source": [
    "Este encabezado indica que la nueva clase es un punto, que es un tipo de objeto, que es un tipo integrado."
   ]
  },
  {
   "cell_type": "markdown",
   "id": "0ce35e0a",
   "metadata": {
    "slideshow": {
     "slide_type": "slide"
    }
   },
   "source": [
    "El cuerpo es una cadena de documentos que explica para qué sirve la clase. "
   ]
  },
  {
   "cell_type": "markdown",
   "id": "0103c272",
   "metadata": {
    "slideshow": {
     "slide_type": "slide"
    }
   },
   "source": [
    "Puede definir variables y funciones dentro de una definición de clase, pero volveremos a eso más adelante."
   ]
  },
  {
   "cell_type": "markdown",
   "id": "7b83d7fd",
   "metadata": {
    "slideshow": {
     "slide_type": "slide"
    }
   },
   "source": [
    "La definición de una clase llamada `Point` crea un objeto de clase"
   ]
  },
  {
   "cell_type": "code",
   "execution_count": null,
   "id": "1037c611",
   "metadata": {
    "slideshow": {
     "slide_type": "slide"
    }
   },
   "outputs": [],
   "source": [
    "print(Point) "
   ]
  },
  {
   "cell_type": "markdown",
   "id": "3aba6281",
   "metadata": {
    "slideshow": {
     "slide_type": "slide"
    }
   },
   "source": [
    "Because `Point` is defined at the top level, its “full name” is `__main__.Point`."
   ]
  },
  {
   "cell_type": "markdown",
   "id": "f7a6d778",
   "metadata": {
    "slideshow": {
     "slide_type": "slide"
    }
   },
   "source": [
    "The class object is like a factory for creating objects. To create a Point, you call Point as if it were a function."
   ]
  },
  {
   "cell_type": "code",
   "execution_count": null,
   "id": "af3fe6f0",
   "metadata": {
    "slideshow": {
     "slide_type": "slide"
    }
   },
   "outputs": [],
   "source": [
    "blank = Point()"
   ]
  },
  {
   "cell_type": "code",
   "execution_count": null,
   "id": "c549596e",
   "metadata": {
    "slideshow": {
     "slide_type": "slide"
    }
   },
   "outputs": [],
   "source": [
    "print(blank) "
   ]
  },
  {
   "cell_type": "markdown",
   "id": "9b0905c1",
   "metadata": {
    "slideshow": {
     "slide_type": "slide"
    }
   },
   "source": [
    "The return value is a reference to a `Point` object, which we assign to `blank`. "
   ]
  },
  {
   "cell_type": "markdown",
   "id": "e79c0cce",
   "metadata": {
    "slideshow": {
     "slide_type": "slide"
    }
   },
   "source": [
    "Creating a new object is called instantiation, and the object is an instance of the class."
   ]
  },
  {
   "cell_type": "markdown",
   "id": "ed3bcf26",
   "metadata": {
    "slideshow": {
     "slide_type": "slide"
    }
   },
   "source": [
    "When you print an instance, Python tells you what class it belongs to and where it is stored in memory (the prefix 0x means that the following number is in hexadecimal)."
   ]
  },
  {
   "cell_type": "markdown",
   "id": "16151d79",
   "metadata": {
    "slideshow": {
     "slide_type": "slide"
    }
   },
   "source": []
  },
  {
   "cell_type": "markdown",
   "id": "2c389dba",
   "metadata": {
    "slideshow": {
     "slide_type": "slide"
    }
   },
   "source": [
    "# Observaciones "
   ]
  },
  {
   "cell_type": "code",
   "execution_count": null,
   "id": "6dfbcbc9",
   "metadata": {
    "slideshow": {
     "slide_type": "slide"
    }
   },
   "outputs": [],
   "source": [
    "#Ejercicio para carlcular distancia entre diferentes puntos\n",
    "\n",
    "punto1 = [100,228]\n",
    "punto2 = [15,38]\n",
    "punto3 = [26,41]\n",
    "punto4 = [38,87]\n",
    "punto5 = [55,4]\n",
    "\n",
    "lista_de_puntos = [punto1, punto2, punto3, punto4, punto5]"
   ]
  },
  {
   "cell_type": "code",
   "execution_count": null,
   "id": "b22f845f",
   "metadata": {},
   "outputs": [],
   "source": [
    "lista_de_puntos.index(punto5)"
   ]
  },
  {
   "cell_type": "code",
   "execution_count": null,
   "id": "86ca5978",
   "metadata": {
    "slideshow": {
     "slide_type": "slide"
    }
   },
   "outputs": [],
   "source": [
    "from math import sqrt"
   ]
  },
  {
   "cell_type": "code",
   "execution_count": null,
   "id": "8f101f53",
   "metadata": {
    "slideshow": {
     "slide_type": "slide"
    }
   },
   "outputs": [],
   "source": [
    "def el_punto_mas_cercano(lista_de_puntos):\n",
    "    #Ecuacion de distancia entre dos puntos\n",
    "    punto1, punto2, punto3, punto4, punto5 = lista_de_puntos\n",
    "    distancia1con2 = sqrt( ((punto1[0]-punto2[0])**2)+((punto1[1]-punto2[1])**2) )\n",
    "    distancia1con3 = sqrt( ((punto1[0]-punto3[0])**2)+((punto1[1]-punto3[1])**2) )\n",
    "    distancia1con4 = sqrt( ((punto1[0]-punto4[0])**2)+((punto1[1]-punto4[1])**2) )\n",
    "    distancia1con5 = sqrt( ((punto1[0]-punto5[0])**2)+((punto1[1]-punto5[1])**2) )\n",
    "    list_de_distancias = [distancia1con2,distancia1con3,distancia1con4,distancia1con5]\n",
    "    distancia_minima = min(list_de_distancias)\n",
    "    indice_distancia_minima = list_de_distancias.index(distancia_minima)\n",
    "    punto_mas_cercano = lista_de_puntos[indice_distancia_minima+1]\n",
    "    return  punto_mas_cercano "
   ]
  },
  {
   "cell_type": "code",
   "execution_count": null,
   "id": "d8d68d00",
   "metadata": {
    "slideshow": {
     "slide_type": "slide"
    }
   },
   "outputs": [],
   "source": [
    "el_punto_mas_cercano(lista_de_puntos)"
   ]
  },
  {
   "cell_type": "code",
   "execution_count": null,
   "id": "ce2e82f8",
   "metadata": {
    "slideshow": {
     "slide_type": "slide"
    }
   },
   "outputs": [],
   "source": [
    "#Ecuacion de distancia entre dos puntos\n",
    "distancia1con2 = sqrt( ((punto1[0]-punto2[0])**2)+((punto1[1]-punto2[1])**2) )\n",
    "distancia1con3 = sqrt( ((punto1[0]-punto3[0])**2)+((punto1[1]-punto3[1])**2) )\n",
    "distancia1con4 = sqrt( ((punto1[0]-punto4[0])**2)+((punto1[1]-punto4[1])**2) )\n",
    "distancia1con5 = sqrt( ((punto1[0]-punto5[0])**2)+((punto1[1]-punto5[1])**2) )\n",
    "\n",
    "print (distancia1con2)\n",
    "print (distancia1con3)\n",
    "print (distancia1con4)\n",
    "print (distancia1con5)\n",
    "\n",
    "list = [distancia1con2,distancia1con3,distancia1con4,distancia1con5]\n",
    "number = list[0]\n",
    "\n",
    "for x in list:\n",
    "    if (number > x):\n",
    "        number = x\n",
    "print (\"La distancia menor es \", number)"
   ]
  },
  {
   "cell_type": "code",
   "execution_count": null,
   "id": "fafdbf04",
   "metadata": {},
   "outputs": [],
   "source": []
  },
  {
   "cell_type": "code",
   "execution_count": null,
   "id": "8abe7a49",
   "metadata": {},
   "outputs": [],
   "source": []
  },
  {
   "cell_type": "code",
   "execution_count": null,
   "id": "e9c44f0e",
   "metadata": {},
   "outputs": [],
   "source": []
  },
  {
   "cell_type": "code",
   "execution_count": null,
   "id": "f37539c1",
   "metadata": {},
   "outputs": [],
   "source": []
  },
  {
   "cell_type": "code",
   "execution_count": null,
   "id": "f47f7688",
   "metadata": {},
   "outputs": [],
   "source": []
  },
  {
   "cell_type": "code",
   "execution_count": null,
   "id": "850d88a3",
   "metadata": {},
   "outputs": [],
   "source": []
  }
 ],
 "metadata": {
  "celltoolbar": "Slideshow",
  "kernelspec": {
   "display_name": "Python 3",
   "language": "python",
   "name": "python3"
  },
  "language_info": {
   "codemirror_mode": {
    "name": "ipython",
    "version": 3
   },
   "file_extension": ".py",
   "mimetype": "text/x-python",
   "name": "python",
   "nbconvert_exporter": "python",
   "pygments_lexer": "ipython3",
   "version": "3.8.8"
  },
  "latex_envs": {
   "LaTeX_envs_menu_present": true,
   "autoclose": false,
   "autocomplete": false,
   "bibliofile": "biblio.bib",
   "cite_by": "apalike",
   "current_citInitial": 1,
   "eqLabelWithNumbers": true,
   "eqNumInitial": 1,
   "hotkeys": {
    "equation": "Ctrl-E",
    "itemize": "Ctrl-I"
   },
   "labels_anchors": false,
   "latex_user_defs": false,
   "report_style_numbering": false,
   "user_envs_cfg": false
  },
  "rise": {
   "enable_chalkboard": true,
   "theme": "sky",
   "transition": "zoom"
  }
 },
 "nbformat": 4,
 "nbformat_minor": 5
}
