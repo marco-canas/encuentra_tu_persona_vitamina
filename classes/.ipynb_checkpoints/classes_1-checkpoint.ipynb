{
 "cells": [
  {
   "cell_type": "markdown",
   "id": "892f1cdf",
   "metadata": {
    "slideshow": {
     "slide_type": "slide"
    }
   },
   "source": [
    "# Capítulo 12"
   ]
  },
  {
   "cell_type": "markdown",
   "id": "3924fabc",
   "metadata": {
    "slideshow": {
     "slide_type": "slide"
    }
   },
   "source": [
    "## Clases y objetos"
   ]
  },
  {
   "cell_type": "markdown",
   "id": "ad65f8f9",
   "metadata": {
    "slideshow": {
     "slide_type": "slide"
    }
   },
   "source": [
    "### [Video de apoyo]()"
   ]
  },
  {
   "cell_type": "markdown",
   "id": "db2ee560",
   "metadata": {
    "slideshow": {
     "slide_type": "slide"
    }
   },
   "source": [
    "### 12.1. Tipos compuestos definidos por el usuario"
   ]
  },
  {
   "cell_type": "markdown",
   "id": "0be9f14f",
   "metadata": {
    "slideshow": {
     "slide_type": "slide"
    }
   },
   "source": [
    "Una vez utilizados algunos de los tipos internos de Python, estamos listos para crear un tipo definido por el usuario: **el Punto**."
   ]
  },
  {
   "cell_type": "markdown",
   "id": "0f91cd89",
   "metadata": {
    "slideshow": {
     "slide_type": "slide"
    }
   },
   "source": [
    "Piense en el concepto de un punto matemático."
   ]
  },
  {
   "cell_type": "markdown",
   "id": "3f89cdcf",
   "metadata": {
    "slideshow": {
     "slide_type": "slide"
    }
   },
   "source": [
    "En dos dimensiones, un punto es un par de números (coordenadas) que se tratan colectivamente como un solo objeto."
   ]
  },
  {
   "cell_type": "markdown",
   "id": "987a2461",
   "metadata": {
    "slideshow": {
     "slide_type": "slide"
    }
   },
   "source": [
    "En notación matemática, los puntos suelen escribirse entre paréntesis con una coma separando las coordenadas. "
   ]
  },
  {
   "cell_type": "markdown",
   "id": "d1e1e4fd",
   "metadata": {
    "slideshow": {
     "slide_type": "slide"
    }
   },
   "source": [
    "Por ejemplo, $(0, 0)$ representa el origen, y $(x, y)$ representa el punto $x$ unidades a la derecha e $y$ unidades hacia arriba desde el origen."
   ]
  },
  {
   "cell_type": "markdown",
   "id": "35f9ea5c",
   "metadata": {
    "slideshow": {
     "slide_type": "slide"
    }
   },
   "source": [
    "Una forma natural de representar un punto en Python es con dos valores en coma flotante. "
   ]
  },
  {
   "cell_type": "markdown",
   "id": "c753fe0d",
   "metadata": {
    "slideshow": {
     "slide_type": "slide"
    }
   },
   "source": [
    "La cuestión es, entonces, cómo agrupar esos dos valores en un objeto compuesto. "
   ]
  },
  {
   "cell_type": "markdown",
   "id": "d5b40437",
   "metadata": {
    "slideshow": {
     "slide_type": "slide"
    }
   },
   "source": [
    "La solución rápida y burda es utilizar una lista o tupla, y para algunas aplicaciones esa podría ser la mejor opción."
   ]
  },
  {
   "cell_type": "code",
   "execution_count": null,
   "id": "baea2779",
   "metadata": {
    "slideshow": {
     "slide_type": "slide"
    }
   },
   "outputs": [],
   "source": [
    "p1 = [3,4]\n",
    "p2 = (1,2)"
   ]
  },
  {
   "cell_type": "markdown",
   "id": "2fc59066",
   "metadata": {
    "slideshow": {
     "slide_type": "slide"
    }
   },
   "source": [
    "Otra alternativa es que el usuario defina un nuevo tipo compuesto, también llamado una clase. "
   ]
  },
  {
   "cell_type": "markdown",
   "id": "74da593d",
   "metadata": {
    "slideshow": {
     "slide_type": "slide"
    }
   },
   "source": [
    "Esta aproximación exige un poco más de esfuerzo, pero tiene sus ventajas que pronto se harán evidentes."
   ]
  },
  {
   "cell_type": "markdown",
   "id": "910039c6",
   "metadata": {
    "slideshow": {
     "slide_type": "slide"
    }
   },
   "source": [
    "Una definición de clase se parece a esto:"
   ]
  },
  {
   "cell_type": "code",
   "execution_count": null,
   "id": "ce4235c2",
   "metadata": {
    "slideshow": {
     "slide_type": "slide"
    }
   },
   "outputs": [],
   "source": [
    "class Punto:\n",
    "    pass"
   ]
  },
  {
   "cell_type": "markdown",
   "id": "33a13a31",
   "metadata": {
    "slideshow": {
     "slide_type": "slide"
    }
   },
   "source": [
    "Las definiciones de clase pueden aparecer en cualquier lugar de un programa, pero normalmente están al principio (tras las sentencias `import`). "
   ]
  },
  {
   "cell_type": "markdown",
   "id": "5d02b2ac",
   "metadata": {
    "slideshow": {
     "slide_type": "slide"
    }
   },
   "source": [
    "# Clases y objetos"
   ]
  },
  {
   "cell_type": "code",
   "execution_count": 1,
   "id": "014336e5",
   "metadata": {
    "slideshow": {
     "slide_type": "slide"
    }
   },
   "outputs": [],
   "source": [
    "class Punto():\n",
    "    pass"
   ]
  },
  {
   "cell_type": "markdown",
   "id": "2df72055",
   "metadata": {
    "slideshow": {
     "slide_type": "slide"
    }
   },
   "source": [
    "La anterior definición crea una nueva clase llamada `Punto`. "
   ]
  },
  {
   "cell_type": "markdown",
   "id": "fa4e52aa",
   "metadata": {
    "slideshow": {
     "slide_type": "slide"
    }
   },
   "source": [
    "La sentencia `pass` no tiene efectos; sólo es necesaria porque una sentencia compuesta debe tener algo en su cuerpo."
   ]
  },
  {
   "cell_type": "markdown",
   "id": "de21c386",
   "metadata": {
    "slideshow": {
     "slide_type": "slide"
    }
   },
   "source": [
    "Al crear la clase `Punto` hemos creado un nuevo tipo de objetos, que también se llama `Punto`."
   ]
  },
  {
   "cell_type": "markdown",
   "id": "cefc0f70",
   "metadata": {
    "slideshow": {
     "slide_type": "slide"
    }
   },
   "source": [
    "Los miembros de este tipo se llaman:  \n",
    "\n",
    "* instancias del tipo u \n",
    "* objetos. "
   ]
  },
  {
   "cell_type": "markdown",
   "id": "1ec2d09b",
   "metadata": {
    "slideshow": {
     "slide_type": "slide"
    }
   },
   "source": [
    "La creación de una nueva instancia se llama instanciación. "
   ]
  },
  {
   "cell_type": "markdown",
   "id": "6deea7c0",
   "metadata": {
    "slideshow": {
     "slide_type": "slide"
    }
   },
   "source": [
    "Para instanciar un objeto `Punto` ejecutamos una función que se llama (lo ha adivinado) Punto:"
   ]
  },
  {
   "cell_type": "code",
   "execution_count": null,
   "id": "ef005ec0",
   "metadata": {
    "slideshow": {
     "slide_type": "slide"
    }
   },
   "outputs": [],
   "source": [
    "blanco = Punto()"
   ]
  },
  {
   "cell_type": "markdown",
   "id": "d1a74be5",
   "metadata": {
    "slideshow": {
     "slide_type": "slide"
    }
   },
   "source": [
    "A la variable `blanco` se le asigna una referencia a un nuevo objeto `Punto`. "
   ]
  },
  {
   "cell_type": "markdown",
   "id": "f17e6a5f",
   "metadata": {
    "slideshow": {
     "slide_type": "slide"
    }
   },
   "source": [
    "A una función como `Punto()` que crea un objeto nuevo se le llama **constructor**."
   ]
  },
  {
   "cell_type": "markdown",
   "id": "5ff69ea1",
   "metadata": {
    "slideshow": {
     "slide_type": "slide"
    }
   },
   "source": [
    "## 12.2. Atributos"
   ]
  },
  {
   "cell_type": "markdown",
   "id": "1a1bac46",
   "metadata": {
    "slideshow": {
     "slide_type": "slide"
    }
   },
   "source": [
    "Podemos añadir nuevos datos o atributos a una instancia utilizando la notación de punto:"
   ]
  },
  {
   "cell_type": "code",
   "execution_count": null,
   "id": "1d4d3d55",
   "metadata": {
    "slideshow": {
     "slide_type": "slide"
    }
   },
   "outputs": [],
   "source": [
    "blanco.x = 3.0\n",
    "blanco.y = 4.0"
   ]
  },
  {
   "cell_type": "markdown",
   "id": "a8461367",
   "metadata": {
    "slideshow": {
     "slide_type": "slide"
    }
   },
   "source": [
    "Esta sintaxis es similar a la sintaxis para seleccionar una variable de un módulo, como `math.pi` o `string.upper()`. "
   ]
  },
  {
   "cell_type": "code",
   "execution_count": 6,
   "id": "1937b467",
   "metadata": {
    "slideshow": {
     "slide_type": "slide"
    }
   },
   "outputs": [
    {
     "data": {
      "text/plain": [
       "'MARCO'"
      ]
     },
     "execution_count": 6,
     "metadata": {},
     "output_type": "execute_result"
    }
   ],
   "source": [
    "\n",
    "nombre='marco'\n",
    "nombre.upper()"
   ]
  },
  {
   "cell_type": "markdown",
   "id": "6bbcba0d",
   "metadata": {
    "slideshow": {
     "slide_type": "slide"
    }
   },
   "source": [
    "En este caso, sin embargo, estamos seleccionando un dato de una instancia. "
   ]
  },
  {
   "cell_type": "markdown",
   "id": "d8a29374",
   "metadata": {
    "slideshow": {
     "slide_type": "slide"
    }
   },
   "source": [
    "Estos ítemes con nombre se llaman atributos."
   ]
  },
  {
   "cell_type": "markdown",
   "id": "a1fb7231",
   "metadata": {
    "slideshow": {
     "slide_type": "slide"
    }
   },
   "source": [
    "El diagrama de estados que sigue muestra el resultado de esas asignaciones:"
   ]
  },
  {
   "cell_type": "markdown",
   "id": "7eff6071",
   "metadata": {
    "slideshow": {
     "slide_type": "slide"
    }
   },
   "source": [
    "<img src = 'https://github.com/marco-canas/introducci-n-al-Machine-Learning/blob/main/classes/classes_fig_1.png?raw=true'>"
   ]
  },
  {
   "cell_type": "markdown",
   "id": "bb480e17",
   "metadata": {
    "slideshow": {
     "slide_type": "slide"
    }
   },
   "source": [
    "La variable `blanco` apunta a un objeto `Punto`, que contiene dos atributos. "
   ]
  },
  {
   "cell_type": "markdown",
   "id": "24da79c8",
   "metadata": {
    "slideshow": {
     "slide_type": "slide"
    }
   },
   "source": [
    "Cada atributo apunta a un número en coma flotante."
   ]
  },
  {
   "cell_type": "markdown",
   "id": "3fb3179f",
   "metadata": {
    "slideshow": {
     "slide_type": "slide"
    }
   },
   "source": [
    "Podemos leer el valor de un atributo utilizando la misma sintaxis:"
   ]
  },
  {
   "cell_type": "code",
   "execution_count": null,
   "id": "38585ce3",
   "metadata": {
    "slideshow": {
     "slide_type": "slide"
    }
   },
   "outputs": [],
   "source": [
    "blanco.x "
   ]
  },
  {
   "cell_type": "code",
   "execution_count": null,
   "id": "da8b8cca",
   "metadata": {
    "slideshow": {
     "slide_type": "slide"
    }
   },
   "outputs": [],
   "source": [
    "blanco.y "
   ]
  },
  {
   "cell_type": "markdown",
   "id": "1bb68718",
   "metadata": {
    "slideshow": {
     "slide_type": "slide"
    }
   },
   "source": [
    "La expresión `blanco.x` significa, “ve al objeto `blanco` y toma el valor de `x`”. "
   ]
  },
  {
   "cell_type": "markdown",
   "id": "f17feb68",
   "metadata": {
    "slideshow": {
     "slide_type": "slide"
    }
   },
   "source": [
    "En este caso, asignamos ese valor a una variable llamada `x`. "
   ]
  },
  {
   "cell_type": "markdown",
   "id": "d6bba6fa",
   "metadata": {
    "slideshow": {
     "slide_type": "slide"
    }
   },
   "source": [
    "No hay conflicto entre la variable `x` y el atributo `x`. "
   ]
  },
  {
   "cell_type": "markdown",
   "id": "d691736b",
   "metadata": {
    "slideshow": {
     "slide_type": "slide"
    }
   },
   "source": [
    "El propósito de la notación de punto es identificar de forma inequívoca a qué variable se refiere."
   ]
  },
  {
   "cell_type": "markdown",
   "id": "364b2863",
   "metadata": {
    "slideshow": {
     "slide_type": "slide"
    }
   },
   "source": [
    "Puede usted usar la notación de punto como parte de cualquier expresión. "
   ]
  },
  {
   "cell_type": "markdown",
   "id": "902401b5",
   "metadata": {
    "slideshow": {
     "slide_type": "slide"
    }
   },
   "source": [
    "Así, las sentencias que siguen son correctas:"
   ]
  },
  {
   "cell_type": "code",
   "execution_count": null,
   "id": "0fe82689",
   "metadata": {
    "slideshow": {
     "slide_type": "slide"
    }
   },
   "outputs": [],
   "source": [
    "print('(' + str(blanco.x) + ',' + str(blanco.y) + ')') "
   ]
  },
  {
   "cell_type": "code",
   "execution_count": null,
   "id": "011cd529",
   "metadata": {
    "slideshow": {
     "slide_type": "slide"
    }
   },
   "outputs": [],
   "source": [
    "distanciaAlCuadrado = blanco.x * blanco.x + blanco.y * blanco.y"
   ]
  },
  {
   "cell_type": "code",
   "execution_count": null,
   "id": "8a812877",
   "metadata": {
    "slideshow": {
     "slide_type": "slide"
    }
   },
   "outputs": [],
   "source": [
    " distanciaAlCuadrado"
   ]
  },
  {
   "cell_type": "markdown",
   "id": "89f1bb23",
   "metadata": {
    "slideshow": {
     "slide_type": "slide"
    }
   },
   "source": [
    "Puede tentarle imprimir el propio valor de blanco:"
   ]
  },
  {
   "cell_type": "code",
   "execution_count": null,
   "id": "20024ed8",
   "metadata": {
    "slideshow": {
     "slide_type": "slide"
    }
   },
   "outputs": [],
   "source": [
    "blanco "
   ]
  },
  {
   "cell_type": "code",
   "execution_count": null,
   "id": "6d1ae659",
   "metadata": {
    "slideshow": {
     "slide_type": "slide"
    }
   },
   "outputs": [],
   "source": [
    "print(blanco)"
   ]
  },
  {
   "cell_type": "markdown",
   "id": "e57c30d0",
   "metadata": {
    "slideshow": {
     "slide_type": "slide"
    }
   },
   "source": [
    "El resultado indica que `blanco` es una instancia de la clase `Punto` que se definió en `main` . "
   ]
  },
  {
   "cell_type": "markdown",
   "id": "a78cfa27",
   "metadata": {
    "slideshow": {
     "slide_type": "slide"
    }
   },
   "source": [
    "80f8e70 es el identificador unico ´ de este objeto, escrito en hexadecimal. "
   ]
  },
  {
   "cell_type": "markdown",
   "id": "38baed2a",
   "metadata": {
    "slideshow": {
     "slide_type": "slide"
    }
   },
   "source": [
    "## Tarea"
   ]
  },
  {
   "cell_type": "markdown",
   "id": "4d5d85b0",
   "metadata": {
    "slideshow": {
     "slide_type": "slide"
    }
   },
   "source": [
    "Como ejercicio, cree e imprima un objeto `Punto` y luego use la función `id()` para imprimir el identificador único del objeto. "
   ]
  },
  {
   "cell_type": "markdown",
   "id": "194b8947",
   "metadata": {
    "slideshow": {
     "slide_type": "slide"
    }
   },
   "source": [
    "Traduzca el número hexadecimal a decimal y asegúrese de que coinciden."
   ]
  },
  {
   "cell_type": "code",
   "execution_count": 7,
   "id": "d3000c3b",
   "metadata": {
    "slideshow": {
     "slide_type": "slide"
    }
   },
   "outputs": [],
   "source": [
    "negro = Punto() "
   ]
  },
  {
   "cell_type": "code",
   "execution_count": 8,
   "id": "fb66137c",
   "metadata": {
    "slideshow": {
     "slide_type": "slide"
    }
   },
   "outputs": [
    {
     "data": {
      "text/plain": [
       "<__main__.Punto at 0x265a8af5160>"
      ]
     },
     "execution_count": 8,
     "metadata": {},
     "output_type": "execute_result"
    }
   ],
   "source": [
    "negro"
   ]
  },
  {
   "cell_type": "code",
   "execution_count": 9,
   "id": "922b425f",
   "metadata": {
    "slideshow": {
     "slide_type": "slide"
    }
   },
   "outputs": [
    {
     "name": "stdout",
     "output_type": "stream",
     "text": [
      "2635645014368\n"
     ]
    }
   ],
   "source": [
    "s = '0x265a8af5160'\n",
    "print(int(s,16))"
   ]
  },
  {
   "cell_type": "code",
   "execution_count": 10,
   "id": "3a46bd47",
   "metadata": {
    "slideshow": {
     "slide_type": "slide"
    }
   },
   "outputs": [
    {
     "data": {
      "text/plain": [
       "2635645014368"
      ]
     },
     "execution_count": 10,
     "metadata": {},
     "output_type": "execute_result"
    }
   ],
   "source": [
    "id(negro)"
   ]
  },
  {
   "cell_type": "markdown",
   "id": "3f4871cd",
   "metadata": {
    "slideshow": {
     "slide_type": "slide"
    }
   },
   "source": [
    "## 12.3. Instancias como parámetro de funciones"
   ]
  },
  {
   "cell_type": "markdown",
   "id": "3b2abbc3",
   "metadata": {
    "slideshow": {
     "slide_type": "slide"
    }
   },
   "source": [
    "Puede usted pasar una instancia como parámetro de la forma habitual. "
   ]
  },
  {
   "cell_type": "markdown",
   "id": "4f9f8345",
   "metadata": {
    "slideshow": {
     "slide_type": "slide"
    }
   },
   "source": [
    "Por ejemplo:"
   ]
  },
  {
   "cell_type": "code",
   "execution_count": null,
   "id": "83ed96e9",
   "metadata": {
    "slideshow": {
     "slide_type": "slide"
    }
   },
   "outputs": [],
   "source": [
    "def imprimePunto(p):\n",
    "    print('(' + str(p.x) + ',' + str(p.y) + ')') "
   ]
  },
  {
   "cell_type": "markdown",
   "id": "5b3d836f",
   "metadata": {
    "slideshow": {
     "slide_type": "slide"
    }
   },
   "source": [
    "`imprimePunto` acepta un punto como argumento y lo muestra en formato estándar. "
   ]
  },
  {
   "cell_type": "markdown",
   "id": "8ec3a584",
   "metadata": {
    "slideshow": {
     "slide_type": "slide"
    }
   },
   "source": [
    "Si llama a `imprimePunto(blanco)`, el resultado es `(3.0, 4.0)`."
   ]
  },
  {
   "cell_type": "markdown",
   "id": "c5be7a08",
   "metadata": {},
   "source": [
    "### Tarea"
   ]
  },
  {
   "cell_type": "markdown",
   "id": "ccb29fc3",
   "metadata": {
    "slideshow": {
     "slide_type": "slide"
    }
   },
   "source": [
    "Como ejercicio, reescriba la función distancia euclidiana en el plano de forma que acepte dos puntos como parámetros en lugar de cuatro números."
   ]
  },
  {
   "cell_type": "code",
   "execution_count": null,
   "id": "cbf4eb99",
   "metadata": {
    "slideshow": {
     "slide_type": "slide"
    }
   },
   "outputs": [],
   "source": [
    "def distancia(p,q):\n",
    "    print(((p.x-q.x)**2 + (p.y-q.y)**2)**(1/2))"
   ]
  },
  {
   "cell_type": "code",
   "execution_count": null,
   "id": "37f695ed",
   "metadata": {
    "slideshow": {
     "slide_type": "slide"
    }
   },
   "outputs": [],
   "source": [
    "negro.x = 0\n",
    "negro.y = 0"
   ]
  },
  {
   "cell_type": "code",
   "execution_count": null,
   "id": "093ec1f8",
   "metadata": {
    "slideshow": {
     "slide_type": "slide"
    }
   },
   "outputs": [],
   "source": [
    "distancia(negro,blanco)"
   ]
  },
  {
   "cell_type": "markdown",
   "id": "8e612f20",
   "metadata": {
    "slideshow": {
     "slide_type": "slide"
    }
   },
   "source": [
    "## Mismidad"
   ]
  },
  {
   "cell_type": "markdown",
   "id": "c677445b",
   "metadata": {
    "slideshow": {
     "slide_type": "slide"
    }
   },
   "source": [
    "El significado de la palabra “mismo” parece totalmente claro hasta que uno se para un poco a pensarlo, y entonces se da cuenta de que hay algo más de lo que suponía."
   ]
  },
  {
   "cell_type": "markdown",
   "id": "23148235",
   "metadata": {
    "slideshow": {
     "slide_type": "slide"
    }
   },
   "source": [
    "Por ejemplo, si dice “Carolina y Marco tenemos la misma moto”, lo que quiere decir es que Caro y Marco tienen motos de la misma marca y modelo, pero que son dos motos distintas. "
   ]
  },
  {
   "cell_type": "markdown",
   "id": "05cb7622",
   "metadata": {
    "slideshow": {
     "slide_type": "slide"
    }
   },
   "source": [
    "Si dice “Yorlady y yo tenemos la misma madre”, quiere decir que su madre y la de usted son la misma persona."
   ]
  },
  {
   "cell_type": "markdown",
   "id": "567951bd",
   "metadata": {
    "slideshow": {
     "slide_type": "slide"
    }
   },
   "source": [
    "Así que la idea de “identidad” es diferente según el contexto."
   ]
  },
  {
   "cell_type": "markdown",
   "id": "6b98d419",
   "metadata": {
    "slideshow": {
     "slide_type": "slide"
    }
   },
   "source": [
    "Cuando habla de objetos de Python, hay una ambiguedad parecida. \n"
   ]
  },
  {
   "cell_type": "markdown",
   "id": "67cdc6ec",
   "metadata": {
    "slideshow": {
     "slide_type": "slide"
    }
   },
   "source": [
    "Por ejemplo, si dos Puntos son el mismo,   \n",
    "\n",
    "¿significa que contienen los mismos datos (coordenadas) o que son de verdad el mismo objeto?"
   ]
  },
  {
   "cell_type": "markdown",
   "id": "bb2c122b",
   "metadata": {
    "slideshow": {
     "slide_type": "slide"
    }
   },
   "source": [
    "Para averiguar si dos referencias se refieren al mismo objeto, utilice el operador `==`. "
   ]
  },
  {
   "cell_type": "markdown",
   "id": "f8459784",
   "metadata": {
    "slideshow": {
     "slide_type": "slide"
    }
   },
   "source": [
    "Por ejemplo:"
   ]
  },
  {
   "cell_type": "code",
   "execution_count": 11,
   "id": "b71d5f93",
   "metadata": {
    "slideshow": {
     "slide_type": "slide"
    }
   },
   "outputs": [
    {
     "data": {
      "text/plain": [
       "False"
      ]
     },
     "execution_count": 11,
     "metadata": {},
     "output_type": "execute_result"
    }
   ],
   "source": [
    "p1 = Punto()\n",
    "p1.x = 3\n",
    "p1.y = 4\n",
    "p2 = Punto()\n",
    "p2.x = 3\n",
    "p2.y = 4\n",
    "p1 == p2"
   ]
  },
  {
   "cell_type": "markdown",
   "id": "af74fc11",
   "metadata": {
    "slideshow": {
     "slide_type": "slide"
    }
   },
   "source": [
    "Aunque `p1` y `p2` contienen las mismas coordenadas, no son el mismo objeto. "
   ]
  },
  {
   "cell_type": "markdown",
   "id": "5bf6ce91",
   "metadata": {
    "slideshow": {
     "slide_type": "slide"
    }
   },
   "source": [
    "Si asignamos `p1` a `p2`, las dos variables son alias del mismo objeto:"
   ]
  },
  {
   "cell_type": "code",
   "execution_count": null,
   "id": "8b1e10e8",
   "metadata": {
    "slideshow": {
     "slide_type": "slide"
    }
   },
   "outputs": [],
   "source": [
    "p2 = p1"
   ]
  },
  {
   "cell_type": "code",
   "execution_count": null,
   "id": "e04a6634",
   "metadata": {
    "slideshow": {
     "slide_type": "slide"
    }
   },
   "outputs": [],
   "source": [
    "p1==p2"
   ]
  },
  {
   "cell_type": "markdown",
   "id": "fa1160a3",
   "metadata": {
    "slideshow": {
     "slide_type": "slide"
    }
   },
   "source": [
    "Este tipo de igualdad se llama **igualdad superficial** porque sólo compara las referencias, pero no el contenido de los objetos."
   ]
  },
  {
   "cell_type": "markdown",
   "id": "a5d7ab71",
   "metadata": {
    "slideshow": {
     "slide_type": "slide"
    }
   },
   "source": [
    "Para comparar los **contenidos de los objetos** (igualdad profunda) podemos escribir una función llamada `mismoPunto`:"
   ]
  },
  {
   "cell_type": "code",
   "execution_count": null,
   "id": "6fe05600",
   "metadata": {
    "slideshow": {
     "slide_type": "slide"
    }
   },
   "outputs": [],
   "source": [
    "def mismoPunto(p1, p2) :\n",
    "    return (p1.x == p2.x) and (p1.y == p2.y)"
   ]
  },
  {
   "cell_type": "markdown",
   "id": "e73d1b54",
   "metadata": {
    "slideshow": {
     "slide_type": "slide"
    }
   },
   "source": [
    "Si ahora creamos dos objetos diferentes que contienen los mismos datos podremos usar `mismoPunto()` para averiguar si representan el mismo punto:"
   ]
  },
  {
   "cell_type": "code",
   "execution_count": null,
   "id": "849dbb98",
   "metadata": {
    "slideshow": {
     "slide_type": "slide"
    }
   },
   "outputs": [],
   "source": [
    "p1 = Punto()\n",
    "p1.x = 3\n",
    "p1.y = 4\n",
    "p2 = Punto()\n",
    "p2.x = 3\n",
    "p2.y = 4\n",
    "mismoPunto(p1, p2)"
   ]
  },
  {
   "cell_type": "markdown",
   "id": "012e7720",
   "metadata": {
    "slideshow": {
     "slide_type": "slide"
    }
   },
   "source": [
    "Por supuesto, si las dos variables apuntan al mismo objeto `mismoPunto` devuelve verdadero"
   ]
  },
  {
   "cell_type": "markdown",
   "id": "53a7f864",
   "metadata": {
    "slideshow": {
     "slide_type": "slide"
    }
   },
   "source": [
    "## 12.5. Rectángulos"
   ]
  },
  {
   "cell_type": "markdown",
   "id": "b35dcd6d",
   "metadata": {
    "slideshow": {
     "slide_type": "slide"
    }
   },
   "source": [
    "Digamos que queremos una clase que represente un rectángulo. "
   ]
  },
  {
   "cell_type": "markdown",
   "id": "fe0942be",
   "metadata": {
    "slideshow": {
     "slide_type": "slide"
    }
   },
   "source": [
    "La pregunta es, **¿qué información tenemos que proporcionar para definir un rectángulo?**"
   ]
  },
  {
   "cell_type": "markdown",
   "id": "8a92ed23",
   "metadata": {
    "slideshow": {
     "slide_type": "slide"
    }
   },
   "source": [
    "Para simplificar las cosas, supongamos que el rectángulo está orientado vertical u horizontalmente, nunca en diagonal."
   ]
  },
  {
   "cell_type": "markdown",
   "id": "04ad3317",
   "metadata": {
    "slideshow": {
     "slide_type": "slide"
    }
   },
   "source": [
    "Tenemos varias posibilidades: \n",
    "* podemos señalar el centro del rectángulo (dos coordenadas) y su tamaño (anchura y altura); \n",
    "* o podemos señalar una de las esquinas y el tamaño; \n",
    "* o podemos señalar dos esquinas opuestas. "
   ]
  },
  {
   "cell_type": "markdown",
   "id": "9fa2cf67",
   "metadata": {
    "slideshow": {
     "slide_type": "slide"
    }
   },
   "source": [
    "Un modo convencional es señalar la esquina superior izquierda del rectángulo y el tamaño."
   ]
  },
  {
   "cell_type": "markdown",
   "id": "065674b0",
   "metadata": {
    "slideshow": {
     "slide_type": "slide"
    }
   },
   "source": [
    "De nuevo, definiremos una nueva clase:"
   ]
  },
  {
   "cell_type": "code",
   "execution_count": 13,
   "id": "1d84061d",
   "metadata": {
    "slideshow": {
     "slide_type": "slide"
    }
   },
   "outputs": [],
   "source": [
    "class Rectangulo: # Prohibidos los acentos fuera de las cadenas!\n",
    "    pass"
   ]
  },
  {
   "cell_type": "markdown",
   "id": "ca7ab25f",
   "metadata": {
    "slideshow": {
     "slide_type": "slide"
    }
   },
   "source": [
    "Y la instanciaremos:"
   ]
  },
  {
   "cell_type": "code",
   "execution_count": 15,
   "id": "e646fc1f",
   "metadata": {
    "slideshow": {
     "slide_type": "slide"
    }
   },
   "outputs": [],
   "source": [
    "caja1 = Rectangulo()\n",
    "caja1.centro = (50,100)\n",
    "caja1.anchura = 100.0\n",
    "caja1.altura = 200.0"
   ]
  },
  {
   "cell_type": "markdown",
   "id": "3805a4ec",
   "metadata": {
    "slideshow": {
     "slide_type": "slide"
    }
   },
   "source": [
    "Este código crea un nuevo objeto `Rectangulo` con tres atributos en coma flotante. "
   ]
  },
  {
   "cell_type": "markdown",
   "id": "657901b8",
   "metadata": {
    "slideshow": {
     "slide_type": "slide"
    }
   },
   "source": [
    "¡Para señalar la esquina superior izquierda podemos incrustar un objeto dentro de otro!"
   ]
  },
  {
   "cell_type": "code",
   "execution_count": 17,
   "id": "5490bcbf",
   "metadata": {
    "slideshow": {
     "slide_type": "slide"
    }
   },
   "outputs": [],
   "source": [
    "caja2 = Punto()\n",
    "caja2.esquina = Punto()\n",
    "caja2.anchura = 100.0\n",
    "caja2.altura = 200.0\n",
    "caja2.esquina.x = 0.0;\n",
    "caja2.esquina.y = 0.0;"
   ]
  },
  {
   "cell_type": "markdown",
   "id": "cd5a7807",
   "metadata": {
    "slideshow": {
     "slide_type": "slide"
    }
   },
   "source": [
    "El operador `punto` compone. "
   ]
  },
  {
   "cell_type": "markdown",
   "id": "4b641e42",
   "metadata": {
    "slideshow": {
     "slide_type": "slide"
    }
   },
   "source": [
    "La expresión `caja.esquina.x` significa “ve al objeto al que se refiere `caja` y selecciona el atributo llamado `esquina`; entonces ve a ese objeto y selecciona el atributo llamado `x`”."
   ]
  },
  {
   "cell_type": "markdown",
   "id": "b7bde1aa",
   "metadata": {
    "slideshow": {
     "slide_type": "slide"
    }
   },
   "source": [
    "La figura muestra el estado de este objeto:"
   ]
  },
  {
   "cell_type": "markdown",
   "id": "e4508e92",
   "metadata": {
    "slideshow": {
     "slide_type": "slide"
    }
   },
   "source": [
    "## Instancias como valores de retorno"
   ]
  },
  {
   "cell_type": "markdown",
   "id": "19cf839c",
   "metadata": {
    "slideshow": {
     "slide_type": "slide"
    }
   },
   "source": [
    "Las funciones pueden devolver instancias. "
   ]
  },
  {
   "cell_type": "markdown",
   "id": "8570b4ca",
   "metadata": {
    "slideshow": {
     "slide_type": "slide"
    }
   },
   "source": [
    "Por ejemplo, la función `encuentraCentro()` acepta un `Rectangulo` como argumento y devuelve un `Punto` que contiene las coordenadas del centro del `Rectangulo`:"
   ]
  },
  {
   "cell_type": "code",
   "execution_count": null,
   "id": "fa4ac6e7",
   "metadata": {
    "slideshow": {
     "slide_type": "slide"
    }
   },
   "outputs": [],
   "source": [
    "def encuentraCentro(caja):\n",
    "    p = Punto()\n",
    "    p.x = caja.esquina.x + caja.anchura/2.0\n",
    "    p.y = caja.esquina.y + caja.altura/2.0\n",
    "    return p"
   ]
  },
  {
   "cell_type": "markdown",
   "id": "723e7868",
   "metadata": {
    "slideshow": {
     "slide_type": "slide"
    }
   },
   "source": [
    "Para llamar a esta función, pase caja como argumento y asigne el resultado a una variable:"
   ]
  },
  {
   "cell_type": "code",
   "execution_count": null,
   "id": "f9381246",
   "metadata": {
    "slideshow": {
     "slide_type": "slide"
    }
   },
   "outputs": [],
   "source": [
    "centro = encuentraCentro(caja)\n",
    "imprimePunto(centro)\n"
   ]
  },
  {
   "cell_type": "markdown",
   "id": "835c33d6",
   "metadata": {
    "slideshow": {
     "slide_type": "slide"
    }
   },
   "source": [
    "## Los objetos son mudables"
   ]
  },
  {
   "cell_type": "markdown",
   "id": "d944e97c",
   "metadata": {
    "slideshow": {
     "slide_type": "slide"
    }
   },
   "source": [
    "Podemos cambiar el estado de un objeto efectuando una asignación sobre uno de sus atributos. "
   ]
  },
  {
   "cell_type": "markdown",
   "id": "a94e21ed",
   "metadata": {
    "slideshow": {
     "slide_type": "slide"
    }
   },
   "source": [
    "Por ejemplo, para cambiar el tamaño de un rectángulo sin cambiar su posición, podemos cambiar los valores de anchura y altura:"
   ]
  },
  {
   "cell_type": "code",
   "execution_count": null,
   "id": "0818a047",
   "metadata": {
    "slideshow": {
     "slide_type": "slide"
    }
   },
   "outputs": [],
   "source": [
    "caja.anchura = caja.anchura + 50\n",
    "caja.altura = caja.altura + 100"
   ]
  },
  {
   "cell_type": "markdown",
   "id": "b0f84ec1",
   "metadata": {
    "slideshow": {
     "slide_type": "slide"
    }
   },
   "source": [
    "Podemos encapsular este código en un método y generalizarlo para agrandar el rectángulo en cualquier cantidad:"
   ]
  },
  {
   "cell_type": "code",
   "execution_count": 19,
   "id": "0b946285",
   "metadata": {
    "slideshow": {
     "slide_type": "slide"
    }
   },
   "outputs": [],
   "source": [
    "def agrandaRect(caja, danchura, daltura) :\n",
    "    caja.anchura = caja.anchura + danchura\n",
    "    caja.altura = caja.altura + daltura"
   ]
  },
  {
   "cell_type": "markdown",
   "id": "b19495f8",
   "metadata": {
    "slideshow": {
     "slide_type": "slide"
    }
   },
   "source": [
    "Las variables `danchura` y `daltura` indican cuánto debe agrandarse el rectángulo en cada dirección. "
   ]
  },
  {
   "cell_type": "markdown",
   "id": "7063edef",
   "metadata": {
    "slideshow": {
     "slide_type": "slide"
    }
   },
   "source": [
    "Invocar este método tiene el efecto de modificar el `Rectangulo` que se pasa como argumento."
   ]
  },
  {
   "cell_type": "markdown",
   "id": "f755f440",
   "metadata": {
    "slideshow": {
     "slide_type": "slide"
    }
   },
   "source": [
    "Por ejemplo, podemos crear un nuevo `Rectangulo` llamado `bob` y pasárselo a `agrandaRect`:"
   ]
  },
  {
   "cell_type": "code",
   "execution_count": 20,
   "id": "8e3404cf",
   "metadata": {
    "slideshow": {
     "slide_type": "slide"
    }
   },
   "outputs": [],
   "source": [
    "rec1 = Rectangulo()\n",
    "rec1.anchura = 100.0\n",
    "rec1.altura = 200.0\n",
    "rec1.esquina = Punto()\n",
    "rec1.esquina.x = 0.0;\n",
    "rec1.esquina.y = 0.0;\n",
    "agrandaRect(rec1, 50, 100)"
   ]
  },
  {
   "cell_type": "markdown",
   "id": "3a503cee",
   "metadata": {
    "slideshow": {
     "slide_type": "slide"
    }
   },
   "source": [
    "Mientras `agrandaRect` se está ejecutando, el parámetro `caja` es un alias de `rec1`."
   ]
  },
  {
   "cell_type": "markdown",
   "id": "4daa6d64",
   "metadata": {
    "slideshow": {
     "slide_type": "slide"
    }
   },
   "source": [
    "Cualquier cambio que haga a caja afectará también a `rec1`."
   ]
  },
  {
   "cell_type": "markdown",
   "id": "f3fb22d5",
   "metadata": {
    "slideshow": {
     "slide_type": "slide"
    }
   },
   "source": [
    "### Tarea"
   ]
  },
  {
   "cell_type": "markdown",
   "id": "a74f36a6",
   "metadata": {
    "slideshow": {
     "slide_type": "slide"
    }
   },
   "source": [
    "A modo de ejercicio, escriba una función llamada `mueveRect` que tome un `Rectangulo` y dos parámetros llamados `dx` y `dy`."
   ]
  },
  {
   "cell_type": "markdown",
   "id": "3e0afda3",
   "metadata": {
    "slideshow": {
     "slide_type": "slide"
    }
   },
   "source": [
    " Tiene que cambiar la posición del rectángulo añadiendo `dx` a la coordenada `x` de esquina y añadiendo `dy` a la coordenada `y` de esquina."
   ]
  },
  {
   "cell_type": "markdown",
   "id": "9c9fd8eb",
   "metadata": {
    "slideshow": {
     "slide_type": "slide"
    }
   },
   "source": [
    "#### Solución"
   ]
  },
  {
   "cell_type": "code",
   "execution_count": 24,
   "id": "5523b5b7",
   "metadata": {
    "slideshow": {
     "slide_type": "slide"
    }
   },
   "outputs": [],
   "source": [
    "def mueveRect(caja,dx,dy):\n",
    "    caja.esquina.x =  caja.esquina.x + dx\n",
    "    caja.esquina.y = caja.esquina.y + dy"
   ]
  },
  {
   "cell_type": "code",
   "execution_count": 25,
   "id": "51708d94",
   "metadata": {
    "slideshow": {
     "slide_type": "slide"
    }
   },
   "outputs": [],
   "source": [
    "mueveRect(caja2,50,100)"
   ]
  },
  {
   "cell_type": "code",
   "execution_count": 26,
   "id": "7a1292d7",
   "metadata": {
    "slideshow": {
     "slide_type": "slide"
    }
   },
   "outputs": [
    {
     "data": {
      "text/plain": [
       "50.0"
      ]
     },
     "execution_count": 26,
     "metadata": {},
     "output_type": "execute_result"
    }
   ],
   "source": [
    "caja2.esquina.x"
   ]
  },
  {
   "cell_type": "code",
   "execution_count": 27,
   "id": "2098a3e9",
   "metadata": {
    "slideshow": {
     "slide_type": "slide"
    }
   },
   "outputs": [
    {
     "data": {
      "text/plain": [
       "100.0"
      ]
     },
     "execution_count": 27,
     "metadata": {},
     "output_type": "execute_result"
    }
   ],
   "source": [
    "caja2.esquina.y"
   ]
  },
  {
   "cell_type": "markdown",
   "id": "bf6a8914",
   "metadata": {
    "slideshow": {
     "slide_type": "slide"
    }
   },
   "source": [
    "## Copiado"
   ]
  },
  {
   "cell_type": "markdown",
   "id": "d1a4fbc6",
   "metadata": {
    "slideshow": {
     "slide_type": "slide"
    }
   },
   "source": [
    "El uso de alias puede hacer que un programa sea difícil de leer, porque los cambios hechos en un lugar pueden tener efectos inesperados en otro lugar. "
   ]
  },
  {
   "cell_type": "markdown",
   "id": "2e59ec5a",
   "metadata": {
    "slideshow": {
     "slide_type": "slide"
    }
   },
   "source": [
    "Es difícil estar al tanto de todas las variables a las que puede apuntar un objeto dado."
   ]
  },
  {
   "cell_type": "markdown",
   "id": "c3f7f94e",
   "metadata": {
    "slideshow": {
     "slide_type": "slide"
    }
   },
   "source": [
    "Copiar un objeto es, muchas veces, una alternativa a la creación de un alias. "
   ]
  },
  {
   "cell_type": "markdown",
   "id": "656c0108",
   "metadata": {
    "slideshow": {
     "slide_type": "slide"
    }
   },
   "source": [
    "El módulo `copy` contiene una función llamada `copy` que puede duplicar cualquier objeto:"
   ]
  },
  {
   "cell_type": "code",
   "execution_count": null,
   "id": "316edef9",
   "metadata": {
    "slideshow": {
     "slide_type": "slide"
    }
   },
   "outputs": [],
   "source": [
    "import copy\n",
    "p1 = Punto()\n",
    "p1.x = 3\n",
    "p1.y = 4\n",
    "p2 = copy.copy(p1)\n",
    "p1 == p2"
   ]
  },
  {
   "cell_type": "code",
   "execution_count": null,
   "id": "7578b653",
   "metadata": {
    "slideshow": {
     "slide_type": "slide"
    }
   },
   "outputs": [],
   "source": [
    "mismoPunto(p1, p2)"
   ]
  },
  {
   "cell_type": "markdown",
   "id": "c699fae3",
   "metadata": {
    "slideshow": {
     "slide_type": "slide"
    }
   },
   "source": [
    "Una vez que hemos importado el módulo `copy`, podemos usar el método `copy()` para hacer un nuevo `Punto`. "
   ]
  },
  {
   "cell_type": "markdown",
   "id": "103d9de1",
   "metadata": {
    "slideshow": {
     "slide_type": "slide"
    }
   },
   "source": [
    "`p1` y `p2` **no** son el mismo punto, pero contienen los mismos datos."
   ]
  },
  {
   "cell_type": "markdown",
   "id": "94275a4e",
   "metadata": {
    "slideshow": {
     "slide_type": "slide"
    }
   },
   "source": [
    "Para copiar un objeto simple como un Punto, que no contiene objetos incrustados, copy es suficiente. "
   ]
  },
  {
   "cell_type": "markdown",
   "id": "9cb0701e",
   "metadata": {
    "slideshow": {
     "slide_type": "slide"
    }
   },
   "source": [
    "Esto se llama copiado superficial."
   ]
  },
  {
   "cell_type": "markdown",
   "id": "a12ae26a",
   "metadata": {
    "slideshow": {
     "slide_type": "slide"
    }
   },
   "source": [
    "Para algo como un `Rectangulo`, que contiene una referencia a un `Punto`, `copy` no lo hace del todo bien. "
   ]
  },
  {
   "cell_type": "markdown",
   "id": "688b9016",
   "metadata": {
    "slideshow": {
     "slide_type": "slide"
    }
   },
   "source": [
    "Copia la referencia al objeto Punto, de modo que tanto el `Rectangulo` viejo como el nuevo apuntan a un único `Punto`."
   ]
  },
  {
   "cell_type": "markdown",
   "id": "b717b858",
   "metadata": {
    "slideshow": {
     "slide_type": "slide"
    }
   },
   "source": [
    "Si creamos una caja, `b1`, de la forma habitual y entonces hacemos una copia, `b2`, usando `copy`, el diagrama de estados resultante se ve así:"
   ]
  },
  {
   "cell_type": "markdown",
   "id": "c0bab953",
   "metadata": {
    "slideshow": {
     "slide_type": "slide"
    }
   },
   "source": [
    "<img src = 'https://github.com/marco-canas/introducci-n-al-Machine-Learning/blob/main/classes/clases_1_copiado_1.png?raw=true'>"
   ]
  },
  {
   "cell_type": "code",
   "execution_count": 44,
   "id": "622d82ac",
   "metadata": {
    "slideshow": {
     "slide_type": "slide"
    }
   },
   "outputs": [],
   "source": [
    "import copy\n",
    "b1 = Rectangulo()\n",
    "b1.anchura = 100\n",
    "b1.altura = 100\n",
    "b1.esquina = Punto()\n",
    "b1.esquina.x = 0\n",
    "b1.esquina.y = 0\n",
    "b2 = copy.copy(b1) "
   ]
  },
  {
   "cell_type": "markdown",
   "id": "3b3cb615",
   "metadata": {
    "slideshow": {
     "slide_type": "slide"
    }
   },
   "source": [
    "Es casi seguro que esto no es lo que queremos. "
   ]
  },
  {
   "cell_type": "markdown",
   "id": "09ec7544",
   "metadata": {
    "slideshow": {
     "slide_type": "slide"
    }
   },
   "source": [
    "En este caso, \n",
    "* la invocación de `agrandaRect` sobre uno de los `Rectangulos` no afectaría al otro, \n",
    "* ¡pero la invocación de `mueveRect` sobre cualquiera afectaria a ambos!   \n",
    "\n",
    "Veamoslo:"
   ]
  },
  {
   "cell_type": "code",
   "execution_count": 38,
   "id": "9378e97a",
   "metadata": {
    "slideshow": {
     "slide_type": "slide"
    }
   },
   "outputs": [],
   "source": [
    "agrandaRect(b1,50,100)"
   ]
  },
  {
   "cell_type": "code",
   "execution_count": 39,
   "id": "b302527e",
   "metadata": {
    "slideshow": {
     "slide_type": "slide"
    }
   },
   "outputs": [
    {
     "data": {
      "text/plain": [
       "150"
      ]
     },
     "execution_count": 39,
     "metadata": {},
     "output_type": "execute_result"
    }
   ],
   "source": [
    "b1.anchura"
   ]
  },
  {
   "cell_type": "code",
   "execution_count": 40,
   "id": "d932192a",
   "metadata": {
    "slideshow": {
     "slide_type": "slide"
    }
   },
   "outputs": [
    {
     "data": {
      "text/plain": [
       "200"
      ]
     },
     "execution_count": 40,
     "metadata": {},
     "output_type": "execute_result"
    }
   ],
   "source": [
    "b1.altura"
   ]
  },
  {
   "cell_type": "code",
   "execution_count": 41,
   "id": "6280cfb1",
   "metadata": {
    "slideshow": {
     "slide_type": "slide"
    }
   },
   "outputs": [
    {
     "data": {
      "text/plain": [
       "100"
      ]
     },
     "execution_count": 41,
     "metadata": {},
     "output_type": "execute_result"
    }
   ],
   "source": [
    "b2.anchura"
   ]
  },
  {
   "cell_type": "code",
   "execution_count": 42,
   "id": "50848c40",
   "metadata": {
    "slideshow": {
     "slide_type": "slide"
    }
   },
   "outputs": [
    {
     "data": {
      "text/plain": [
       "100"
      ]
     },
     "execution_count": 42,
     "metadata": {},
     "output_type": "execute_result"
    }
   ],
   "source": [
    "b2.altura"
   ]
  },
  {
   "cell_type": "markdown",
   "id": "8d204fb4",
   "metadata": {
    "slideshow": {
     "slide_type": "slide"
    }
   },
   "source": [
    "Note que efectivamente el invocar a la función `agrandaRect()` sobre uno de los rectángulos no afecta al otro.  "
   ]
  },
  {
   "cell_type": "code",
   "execution_count": 45,
   "id": "23b53b9b",
   "metadata": {
    "slideshow": {
     "slide_type": "slide"
    }
   },
   "outputs": [],
   "source": [
    "mueveRect(b1,50,100)"
   ]
  },
  {
   "cell_type": "code",
   "execution_count": 46,
   "id": "4d919fcc",
   "metadata": {
    "slideshow": {
     "slide_type": "slide"
    }
   },
   "outputs": [
    {
     "data": {
      "text/plain": [
       "True"
      ]
     },
     "execution_count": 46,
     "metadata": {},
     "output_type": "execute_result"
    }
   ],
   "source": [
    "b1.esquina.x==b2.esquina.x"
   ]
  },
  {
   "cell_type": "code",
   "execution_count": 47,
   "id": "be5bbc11",
   "metadata": {
    "slideshow": {
     "slide_type": "slide"
    }
   },
   "outputs": [
    {
     "data": {
      "text/plain": [
       "True"
      ]
     },
     "execution_count": 47,
     "metadata": {},
     "output_type": "execute_result"
    }
   ],
   "source": [
    "b1.esquina.y==b2.esquina.y"
   ]
  },
  {
   "cell_type": "markdown",
   "id": "92f875c7",
   "metadata": {
    "slideshow": {
     "slide_type": "slide"
    }
   },
   "source": [
    "Este comportamiento es confuso y propicia los errores."
   ]
  },
  {
   "cell_type": "markdown",
   "id": "ffd25169",
   "metadata": {
    "slideshow": {
     "slide_type": "slide"
    }
   },
   "source": [
    "Afortunadamente, el módulo `copy` contiene un método llamado `deepcopy` que copia no sólo el objeto sino también cualesquiera objetos incrustados. "
   ]
  },
  {
   "cell_type": "markdown",
   "id": "b3207776",
   "metadata": {
    "slideshow": {
     "slide_type": "slide"
    }
   },
   "source": [
    "No le sorprenderá saber que esta operación se llama copia profunda (deep copy)."
   ]
  },
  {
   "cell_type": "code",
   "execution_count": null,
   "id": "d3f6c3b3",
   "metadata": {
    "slideshow": {
     "slide_type": "slide"
    }
   },
   "outputs": [],
   "source": [
    "b2 = copy.deepcopy(b1)"
   ]
  },
  {
   "cell_type": "markdown",
   "id": "bdf94ddd",
   "metadata": {
    "slideshow": {
     "slide_type": "slide"
    }
   },
   "source": [
    "Ahora `b1` y `b2` son objetos totalmente independientes."
   ]
  },
  {
   "cell_type": "markdown",
   "id": "34612cf3",
   "metadata": {
    "slideshow": {
     "slide_type": "slide"
    }
   },
   "source": [
    "Podemos usar `deepcopy` para reescribir `agrandaRect` de modo que en lugar de modificar un `Rectangulo` existente, cree un nuevo `Rectangulo` que tiene la misma localización que el viejo pero nuevas dimensiones:"
   ]
  },
  {
   "cell_type": "code",
   "execution_count": null,
   "id": "cae5b76a",
   "metadata": {
    "slideshow": {
     "slide_type": "slide"
    }
   },
   "outputs": [],
   "source": [
    "def agrandaRect(caja, danchura, daltura) :\n",
    "    import copy\n",
    "    nuevaCaja = copy.deepcopy(caja)\n",
    "    nuevaCaja.anchura = nuevaCaja.anchura + danchura\n",
    "    nuevaCaja.altura = nuevaCaja.altura + daltura\n",
    "    return nuevaCaja"
   ]
  },
  {
   "cell_type": "markdown",
   "id": "dd242a0d",
   "metadata": {
    "slideshow": {
     "slide_type": "slide"
    }
   },
   "source": [
    "Como ejercicio, resscriba mueveRect de modo que cree y devuelva un nuevo `Rectangulo` en lugar de modificar el viejo.\n"
   ]
  },
  {
   "cell_type": "markdown",
   "id": "1f5139a1",
   "metadata": {},
   "source": [
    "## 12.9. Glosario"
   ]
  },
  {
   "cell_type": "markdown",
   "id": "e8bb976c",
   "metadata": {
    "slideshow": {
     "slide_type": "slide"
    }
   },
   "source": [
    "* **clase**: Un tipo compuesto definido por el usuario. Tambi´en se puede pensar en una clase como una plantilla para los objetos que son instancias de la misma."
   ]
  },
  {
   "cell_type": "markdown",
   "id": "d5dd5ac3",
   "metadata": {
    "slideshow": {
     "slide_type": "slide"
    }
   },
   "source": [
    "* **instanciar**: Crear una instancia o objeto de una clase."
   ]
  },
  {
   "cell_type": "markdown",
   "id": "df33b7cb",
   "metadata": {
    "slideshow": {
     "slide_type": "slide"
    }
   },
   "source": [
    "* **instancia**: Un objeto que pertenece a una clase."
   ]
  },
  {
   "cell_type": "markdown",
   "id": "6c6192be",
   "metadata": {},
   "source": [
    "* **objeto**: Un tipo de dato compuesto que suele usarse para representar una cosa o concepto del mundo real."
   ]
  },
  {
   "cell_type": "markdown",
   "id": "5e2795a4",
   "metadata": {},
   "source": [
    "* **constructor**: Un método usado para crear nuevos objetos."
   ]
  },
  {
   "cell_type": "markdown",
   "id": "2da68f3d",
   "metadata": {},
   "source": [
    "* **atributo**: Uno de los elementos de datos con nombre que constituyen una instancia."
   ]
  },
  {
   "cell_type": "markdown",
   "id": "6369ffde",
   "metadata": {
    "slideshow": {
     "slide_type": "slide"
    }
   },
   "source": [
    "* **igualdad superficial**: Igualdad de referencias, o dos referencias que apuntan al mismo objeto."
   ]
  },
  {
   "cell_type": "markdown",
   "id": "9019bd89",
   "metadata": {},
   "source": [
    "* **igualdad profunda**: Igualdad de valores, o dos referencias que apuntan a objetos que tienen el mismo valor."
   ]
  },
  {
   "cell_type": "markdown",
   "id": "07af59cf",
   "metadata": {},
   "source": [
    "* **copia superficial**: Copiar el contenido de un objeto, incluyendo cualquier referencia a objetos incrustados; implementada por la función `copy` del módulo `copy`."
   ]
  },
  {
   "cell_type": "markdown",
   "id": "4cffe52e",
   "metadata": {},
   "source": [
    "* **copia profunda**: Copiar el contenido de un objeto así como cualesquiera objetos incrustados, y los incrustados en estos, y así sucesivamente; implementada por la función `deepcopy` del módulo `copy`. "
   ]
  },
  {
   "cell_type": "markdown",
   "id": "540df0f1",
   "metadata": {},
   "source": [
    "# Capítulo 13"
   ]
  },
  {
   "cell_type": "markdown",
   "id": "cb6b4ba0",
   "metadata": {
    "slideshow": {
     "slide_type": "slide"
    }
   },
   "source": [
    "## Clases y funciones\n",
    "### 13.1. Hora"
   ]
  },
  {
   "cell_type": "markdown",
   "id": "a81052a4",
   "metadata": {
    "slideshow": {
     "slide_type": "slide"
    }
   },
   "source": []
  },
  {
   "cell_type": "code",
   "execution_count": null,
   "id": "8adb9151",
   "metadata": {},
   "outputs": [],
   "source": []
  }
 ],
 "metadata": {
  "celltoolbar": "Slideshow",
  "kernelspec": {
   "display_name": "Python 3",
   "language": "python",
   "name": "python3"
  },
  "language_info": {
   "codemirror_mode": {
    "name": "ipython",
    "version": 3
   },
   "file_extension": ".py",
   "mimetype": "text/x-python",
   "name": "python",
   "nbconvert_exporter": "python",
   "pygments_lexer": "ipython3",
   "version": "3.8.8"
  },
  "latex_envs": {
   "LaTeX_envs_menu_present": true,
   "autoclose": false,
   "autocomplete": false,
   "bibliofile": "biblio.bib",
   "cite_by": "apalike",
   "current_citInitial": 1,
   "eqLabelWithNumbers": true,
   "eqNumInitial": 1,
   "hotkeys": {
    "equation": "Ctrl-E",
    "itemize": "Ctrl-I"
   },
   "labels_anchors": false,
   "latex_user_defs": false,
   "report_style_numbering": false,
   "user_envs_cfg": false
  },
  "rise": {
   "enable_chalkboard": true,
   "theme": "sky",
   "transition": "zoom"
  }
 },
 "nbformat": 4,
 "nbformat_minor": 5
}
