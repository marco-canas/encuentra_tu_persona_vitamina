{
 "cells": [
  {
   "cell_type": "markdown",
   "id": "bf7e57c0",
   "metadata": {
    "slideshow": {
     "slide_type": "slide"
    }
   },
   "source": [
    "<table align=\"left\">\n",
    "  <td>\n",
    "    <a href=\"https://colab.research.google.com/github/marco-canas/intro-Machine-Learning/blob/main/classes/class_16_end_to_end_1/class_16_end_to_end_1.ipynb\" target=\"_parent\"><img src=\"https://colab.research.google.com/assets/colab-badge.svg\" alt=\"Open In Colab\"/></a>\n",
    "  </td>\n",
    "  <td>\n",
    "    <a target=\"_blank\" href=\"https://kaggle.com/kernels/welcome?src=https://github.com/marco-canas/intro-Machine-Learning/blob/main/classes/class_16_end_to_end_1/class_16_end_to_end_1.ipynb\"><img src=\"https://kaggle.com/static/images/open-in-kaggle.svg\" /></a>\n",
    "  </td>\n",
    "</table> "
   ]
  },
  {
   "cell_type": "markdown",
   "id": "1c164e24",
   "metadata": {
    "slideshow": {
     "slide_type": "slide"
    }
   },
   "source": [
    "# Regresión logística"
   ]
  },
  {
   "cell_type": "markdown",
   "id": "1012d1d4",
   "metadata": {
    "slideshow": {
     "slide_type": "slide"
    }
   },
   "source": [
    "## Decision Boundaries"
   ]
  },
  {
   "cell_type": "code",
   "execution_count": 2,
   "id": "10706b32",
   "metadata": {
    "slideshow": {
     "slide_type": "slide"
    }
   },
   "outputs": [],
   "source": [
    "import numpy as np \n",
    "import matplotlib.pyplot as plt \n",
    "from sklearn.datasets import load_iris\n",
    "iris = load_iris()"
   ]
  },
  {
   "cell_type": "code",
   "execution_count": 3,
   "id": "a7ef2fb4",
   "metadata": {
    "slideshow": {
     "slide_type": "slide"
    }
   },
   "outputs": [
    {
     "data": {
      "text/plain": [
       "['data',\n",
       " 'target',\n",
       " 'frame',\n",
       " 'target_names',\n",
       " 'DESCR',\n",
       " 'feature_names',\n",
       " 'filename']"
      ]
     },
     "execution_count": 3,
     "metadata": {},
     "output_type": "execute_result"
    }
   ],
   "source": [
    "list(iris.keys())"
   ]
  },
  {
   "cell_type": "code",
   "execution_count": 7,
   "id": "01eab0da",
   "metadata": {
    "slideshow": {
     "slide_type": "slide"
    }
   },
   "outputs": [
    {
     "data": {
      "text/plain": [
       "array([0, 0, 0, 0, 0, 0, 0, 0, 0, 0, 0, 0, 0, 0, 0, 0, 0, 0, 0, 0, 0, 0,\n",
       "       0, 0, 0, 0, 0, 0, 0, 0, 0, 0, 0, 0, 0, 0, 0, 0, 0, 0, 0, 0, 0, 0,\n",
       "       0, 0, 0, 0, 0, 0, 1, 1, 1, 1, 1, 1, 1, 1, 1, 1, 1, 1, 1, 1, 1, 1,\n",
       "       1, 1, 1, 1, 1, 1, 1, 1, 1, 1, 1, 1, 1, 1, 1, 1, 1, 1, 1, 1, 1, 1,\n",
       "       1, 1, 1, 1, 1, 1, 1, 1, 1, 1, 1, 1, 2, 2, 2, 2, 2, 2, 2, 2, 2, 2,\n",
       "       2, 2, 2, 2, 2, 2, 2, 2, 2, 2, 2, 2, 2, 2, 2, 2, 2, 2, 2, 2, 2, 2,\n",
       "       2, 2, 2, 2, 2, 2, 2, 2, 2, 2, 2, 2, 2, 2, 2, 2, 2, 2])"
      ]
     },
     "execution_count": 7,
     "metadata": {},
     "output_type": "execute_result"
    }
   ],
   "source": [
    "iris.target "
   ]
  },
  {
   "cell_type": "code",
   "execution_count": 10,
   "id": "8e415cfa",
   "metadata": {},
   "outputs": [
    {
     "data": {
      "text/plain": [
       "['sepal length (cm)',\n",
       " 'sepal width (cm)',\n",
       " 'petal length (cm)',\n",
       " 'petal width (cm)']"
      ]
     },
     "execution_count": 10,
     "metadata": {},
     "output_type": "execute_result"
    }
   ],
   "source": [
    "iris.feature_names "
   ]
  },
  {
   "cell_type": "code",
   "execution_count": 11,
   "id": "bc83ee90",
   "metadata": {
    "slideshow": {
     "slide_type": "slide"
    }
   },
   "outputs": [
    {
     "data": {
      "text/plain": [
       "array(['setosa', 'versicolor', 'virginica'], dtype='<U10')"
      ]
     },
     "execution_count": 11,
     "metadata": {},
     "output_type": "execute_result"
    }
   ],
   "source": [
    "iris.target_names \n"
   ]
  },
  {
   "cell_type": "code",
   "execution_count": 3,
   "id": "a559ef61",
   "metadata": {
    "slideshow": {
     "slide_type": "slide"
    }
   },
   "outputs": [],
   "source": [
    "X = iris[\"data\"][:, 3:] # petal width. Ojo a los dos puntos \n",
    "y = (iris[\"target\"] == 2).astype(np.int8) # La clase positiva es ser virgínica"
   ]
  },
  {
   "cell_type": "code",
   "execution_count": 4,
   "id": "2650126d",
   "metadata": {
    "slideshow": {
     "slide_type": "subslide"
    }
   },
   "outputs": [
    {
     "data": {
      "text/plain": [
       "LogisticRegression()"
      ]
     },
     "execution_count": 4,
     "metadata": {},
     "output_type": "execute_result"
    }
   ],
   "source": [
    "from sklearn.linear_model import LogisticRegression\n",
    "log_reg = LogisticRegression()\n",
    "log_reg.fit(X, y)"
   ]
  },
  {
   "cell_type": "code",
   "execution_count": 8,
   "id": "d0d34540",
   "metadata": {
    "slideshow": {
     "slide_type": "slide"
    }
   },
   "outputs": [
    {
     "data": {
      "text/plain": [
       "0.1"
      ]
     },
     "execution_count": 8,
     "metadata": {},
     "output_type": "execute_result"
    }
   ],
   "source": [
    "np.min(X) "
   ]
  },
  {
   "cell_type": "code",
   "execution_count": 6,
   "id": "83c452a2",
   "metadata": {
    "slideshow": {
     "slide_type": "slide"
    }
   },
   "outputs": [
    {
     "data": {
      "text/plain": [
       "2.5"
      ]
     },
     "execution_count": 6,
     "metadata": {},
     "output_type": "execute_result"
    }
   ],
   "source": [
    "np.max(X[y == 1]) "
   ]
  },
  {
   "cell_type": "code",
   "execution_count": 7,
   "id": "0a1bc6e9",
   "metadata": {
    "slideshow": {
     "slide_type": "slide"
    }
   },
   "outputs": [
    {
     "data": {
      "text/plain": [
       "[<matplotlib.lines.Line2D at 0x1b70ad2c880>]"
      ]
     },
     "execution_count": 7,
     "metadata": {},
     "output_type": "execute_result"
    },
    {
     "data": {
      "image/png": "[encoded data removed]",
      "text/plain": [
       "<Figure size 432x288 with 1 Axes>"
      ]
     },
     "metadata": {
      "needs_background": "light"
     },
     "output_type": "display_data"
    }
   ],
   "source": [
    "plt.plot(X)"
   ]
  },
  {
   "cell_type": "code",
   "execution_count": 13,
   "id": "29c35950",
   "metadata": {},
   "outputs": [],
   "source": []
  },
  {
   "cell_type": "code",
   "execution_count": 16,
   "id": "8c54c4cd",
   "metadata": {},
   "outputs": [],
   "source": []
  },
  {
   "cell_type": "code",
   "execution_count": 29,
   "id": "0facf894",
   "metadata": {},
   "outputs": [
    {
     "data": {
      "image/png": "[encoded data removed]",
      "text/plain": [
       "<Figure size 432x288 with 1 Axes>"
      ]
     },
     "metadata": {
      "needs_background": "light"
     },
     "output_type": "display_data"
    }
   ],
   "source": [
    "X_new = np.linspace(0,3,1000).reshape(-1,1)\n",
    "y_proba = log_reg.predict_proba(X_new) \n",
    "\n",
    "plt.plot(X_new, y_proba[:,1], color = 'red')\n",
    "plt.plot(X_new, y_proba[:,0], color = 'black')  \n",
    "\n",
    "plt.xlabel('ancho de pétalo')\n",
    "plt.ylabel('probabilidad')  \n",
    "\n",
    "plt.plot([1.65,1.65], [0,1], 'b--')    # desicion boundary\n",
    "\n",
    "plt.grid(True) \n",
    "plt.show() "
   ]
  },
  {
   "cell_type": "markdown",
   "id": "a2fbf332",
   "metadata": {
    "slideshow": {
     "slide_type": "slide"
    }
   },
   "source": [
    "El ancho de los pétalos de las flores de Iris virginica (representadas por triángulos) varía de 1,4 cm a 2,5 cm, mientras que las otras flores de iris (representadas por cuadrados) generalmente tienen un ancho de pétalo más pequeño, que varía de 0,1 cm a 1,8 cm."
   ]
  },
  {
   "cell_type": "markdown",
   "id": "4f73773c",
   "metadata": {
    "slideshow": {
     "slide_type": "slide"
    }
   },
   "source": [
    "Observe que hay un poco de superposición. Por encima de unos 2 cm, el clasificador tiene mucha confianza en que la flor es una Iris virginica (da como resultado una alta probabilidad para esa clase), mientras que por debajo de 1 cm tiene mucha confianza en que no es una Iris virginica (alta probabilidad para la categoría “No Iris”). clase virginica”)."
   ]
  },
  {
   "cell_type": "markdown",
   "id": "d013693e",
   "metadata": {
    "slideshow": {
     "slide_type": "slide"
    }
   },
   "source": [
    "Entre estos extremos, el clasificador no está seguro."
   ]
  },
  {
   "cell_type": "markdown",
   "id": "0d337f33",
   "metadata": {
    "slideshow": {
     "slide_type": "slide"
    }
   },
   "source": [
    "Sin embargo, si le pide que prediga la clase (utilizando el método `predict()` en lugar del método `predict_proba()`), devolverá la clase que sea más probable."
   ]
  },
  {
   "cell_type": "markdown",
   "id": "0cced515",
   "metadata": {
    "slideshow": {
     "slide_type": "slide"
    }
   },
   "source": [
    "Por lo tanto, existe un límite de decisión alrededor de 1,6 cm donde ambas probabilidades son iguales al 50%: si el ancho del pétalo es superior a 1,6 cm, el clasificador predecirá que la flor es una Iris virginica, y en caso contrario predecirá que es no (incluso si no es muy seguro):"
   ]
  },
  {
   "cell_type": "code",
   "execution_count": 30,
   "id": "313d643c",
   "metadata": {
    "slideshow": {
     "slide_type": "slide"
    }
   },
   "outputs": [
    {
     "data": {
      "text/plain": [
       "array([1, 0], dtype=int8)"
      ]
     },
     "execution_count": 30,
     "metadata": {},
     "output_type": "execute_result"
    }
   ],
   "source": [
    "log_reg.predict([[1.7], [1.5]])"
   ]
  },
  {
   "cell_type": "markdown",
   "id": "d3dc87a8",
   "metadata": {
    "slideshow": {
     "slide_type": "slide"
    }
   },
   "source": [
    "#  Elabore predicción con dos atributos "
   ]
  },
  {
   "cell_type": "code",
   "execution_count": 48,
   "id": "5d77a8e3",
   "metadata": {
    "slideshow": {
     "slide_type": "slide"
    }
   },
   "outputs": [],
   "source": [
    "import numpy as np \n",
    "import matplotlib.pyplot as plt \n",
    "from sklearn.datasets import load_iris\n",
    "iris = load_iris()\n",
    "\n",
    "X = iris[\"data\"][:, 2:] # petal width, petal length. Ojo a los dos puntos \n",
    "y = (iris[\"target\"] == 2).astype(np.int8) # La clase positiva es ser virgínica  \n",
    "\n",
    "from sklearn.linear_model import LogisticRegression\n",
    "log_reg = LogisticRegression()\n",
    "log_reg.fit(X, y)\n",
    "\n",
    "\n",
    "x_new1 = np.linspace(np.min(X[:,0]), np.max(X[:,0]), 5)\n",
    "x_new2 = np.linspace(np.min(X[:,1]), np.max(X[:,1]), 5)\n",
    "X_new1,X_new2 = np.meshgrid(x_new1, x_new2)\n",
    "\n",
    "X_new = np.hstack((X_new1.ravel(), X_new2.ravel())).reshape(-1,2)\n",
    "\n",
    "y_proba = log_reg.predict(X_new) "
   ]
  },
  {
   "cell_type": "code",
   "execution_count": 49,
   "id": "9e319bc5",
   "metadata": {},
   "outputs": [
    {
     "data": {
      "text/plain": [
       "array([0, 1, 1, 0, 1, 0, 1, 1, 0, 1, 0, 1, 1, 0, 0, 0, 0, 0, 0, 0, 0, 0,\n",
       "       0, 0, 0], dtype=int8)"
      ]
     },
     "execution_count": 49,
     "metadata": {},
     "output_type": "execute_result"
    }
   ],
   "source": [
    "y_proba "
   ]
  },
  {
   "cell_type": "code",
   "execution_count": 57,
   "id": "96b11de7",
   "metadata": {
    "slideshow": {
     "slide_type": "slide"
    }
   },
   "outputs": [
    {
     "data": {
      "image/png": "[encoded data removed]",
      "text/plain": [
       "<Figure size 432x288 with 1 Axes>"
      ]
     },
     "metadata": {
      "needs_background": "light"
     },
     "output_type": "display_data"
    }
   ],
   "source": [
    "plt.scatter((X_new1.ravel())[y_proba==1], (X_new2.ravel())[y_proba==1], color = 'green', marker = '^')\n",
    "plt.scatter((X_new1.ravel())[y_proba==0], (X_new2.ravel())[y_proba==0], color = 'blue', marker = 's')  \n",
    "\n",
    "plt.xlabel('ancho de pétalo')\n",
    "plt.ylabel('Largo de pétalo')  \n",
    "\n",
    "\n",
    "plt.grid(True) \n",
    "plt.show() "
   ]
  },
  {
   "cell_type": "code",
   "execution_count": 55,
   "id": "4d3f502a",
   "metadata": {},
   "outputs": [
    {
     "data": {
      "text/plain": [
       "array([2.475, 3.95 , 6.9  , 2.475, 3.95 , 6.9  , 2.475, 3.95 ])"
      ]
     },
     "execution_count": 55,
     "metadata": {},
     "output_type": "execute_result"
    }
   ],
   "source": [
    "X_new1.ravel()[y_proba==1] "
   ]
  },
  {
   "cell_type": "code",
   "execution_count": 46,
   "id": "70a1ca84",
   "metadata": {},
   "outputs": [
    {
     "data": {
      "text/plain": [
       "array([[1.   , 2.475, 3.95 , 5.425, 6.9  ],\n",
       "       [1.   , 2.475, 3.95 , 5.425, 6.9  ],\n",
       "       [1.   , 2.475, 3.95 , 5.425, 6.9  ],\n",
       "       [1.   , 2.475, 3.95 , 5.425, 6.9  ],\n",
       "       [1.   , 2.475, 3.95 , 5.425, 6.9  ]])"
      ]
     },
     "execution_count": 46,
     "metadata": {},
     "output_type": "execute_result"
    }
   ],
   "source": [
    "import numpy as np \n",
    "x_new1 = np.linspace(np.min(X[:,0]), np.max(X[:,0]), 5)\n",
    "x_new2 = np.linspace(np.min(X[:,1]), np.max(X[:,1]), 5)\n",
    "X_new1,X_new2 = np.meshgrid(x_new1, x_new2)\n",
    "X_new1"
   ]
  },
  {
   "cell_type": "code",
   "execution_count": null,
   "id": "fc651d09",
   "metadata": {},
   "outputs": [],
   "source": []
  },
  {
   "cell_type": "code",
   "execution_count": null,
   "id": "da398663",
   "metadata": {},
   "outputs": [],
   "source": []
  },
  {
   "cell_type": "code",
   "execution_count": null,
   "id": "0c36b2bf",
   "metadata": {},
   "outputs": [],
   "source": []
  },
  {
   "cell_type": "code",
   "execution_count": null,
   "id": "d0b9cd25",
   "metadata": {},
   "outputs": [],
   "source": []
  },
  {
   "cell_type": "markdown",
   "id": "ee30e239",
   "metadata": {},
   "source": [
    "## Referentes  \n",
    "\n",
    "* función desicion_function: https://scikit-learn.org/stable/modules/generated/sklearn.linear_model.LogisticRegression.html"
   ]
  },
  {
   "cell_type": "code",
   "execution_count": null,
   "id": "c0b49373",
   "metadata": {},
   "outputs": [],
   "source": []
  }
 ],
 "metadata": {
  "celltoolbar": "Slideshow",
  "kernelspec": {
   "display_name": "Python 3 (ipykernel)",
   "language": "python",
   "name": "python3"
  },
  "language_info": {
   "codemirror_mode": {
    "name": "ipython",
    "version": 3
   },
   "file_extension": ".py",
   "mimetype": "text/x-python",
   "name": "python",
   "nbconvert_exporter": "python",
   "pygments_lexer": "ipython3",
   "version": "3.9.7"
  }
 },
 "nbformat": 4,
 "nbformat_minor": 5
}
