{
 "cells": [
  {
   "cell_type": "markdown",
   "id": "46693276",
   "metadata": {
    "slideshow": {
     "slide_type": "slide"
    }
   },
   "source": [
    "<table align=\"left\">\n",
    "  <td>\n",
    "    <a href=\"https://colab.research.google.com/github/marco-canas/intro-Machine-Learning/blob/main/classes/class_16_end_to_end_1/class_16_end_to_end_1.ipynb\" target=\"_parent\"><img src=\"https://colab.research.google.com/assets/colab-badge.svg\" alt=\"Open In Colab\"/></a>\n",
    "  </td>\n",
    "  <td>\n",
    "    <a target=\"_blank\" href=\"https://kaggle.com/kernels/welcome?src=https://github.com/marco-canas/intro-Machine-Learning/blob/main/classes/class_16_end_to_end_1/class_16_end_to_end_1.ipynb\"><img src=\"https://kaggle.com/static/images/open-in-kaggle.svg\" /></a>\n",
    "  </td>\n",
    "</table> "
   ]
  },
  {
   "cell_type": "markdown",
   "id": "7174f2f1",
   "metadata": {
    "slideshow": {
     "slide_type": "slide"
    }
   },
   "source": [
    "# Clase 20 Clasificación con `load_digit` de Scikit-Learn"
   ]
  },
  {
   "cell_type": "markdown",
   "id": "9b2ad698",
   "metadata": {
    "slideshow": {
     "slide_type": "slide"
    }
   },
   "source": [
    "## Metodología del proceso de clasificación"
   ]
  },
  {
   "cell_type": "markdown",
   "id": "adbbab77",
   "metadata": {
    "slideshow": {
     "slide_type": "slide"
    }
   },
   "source": [
    "1. Descripción del dataset load_digits\n",
    "1. Cargar el dataset `load_digit` de sklearn y observar algunos de la imagenes con su respectiva etiqueta. \n",
    "2. Reestructurar el dataset para realizar clasificación binaria. \n",
    "3. Hacer reducción dimensional de 64 a 2 atributos. \n",
    "4. Representar con un scatter las dos clases. \n",
    "5. Implementar sklearn para encontra la recta que mejor separe las dos clases.\n",
    "6. Representar las dos clase y la recta clasificadora en un grafico bidimensional.  "
   ]
  },
  {
   "cell_type": "markdown",
   "id": "ffa1c376",
   "metadata": {
    "slideshow": {
     "slide_type": "slide"
    }
   },
   "source": [
    "## Implementación de la metodología"
   ]
  },
  {
   "cell_type": "code",
   "execution_count": 1,
   "id": "891e3351",
   "metadata": {
    "slideshow": {
     "slide_type": "slide"
    }
   },
   "outputs": [],
   "source": [
    "import numpy as np \n",
    "from sklearn.datasets import load_digits"
   ]
  },
  {
   "cell_type": "code",
   "execution_count": 2,
   "id": "50e0b318",
   "metadata": {
    "slideshow": {
     "slide_type": "slide"
    }
   },
   "outputs": [],
   "source": [
    "X,y = load_digits(return_X_y = True) "
   ]
  },
  {
   "cell_type": "code",
   "execution_count": 3,
   "id": "49d82f46",
   "metadata": {
    "slideshow": {
     "slide_type": "slide"
    }
   },
   "outputs": [
    {
     "data": {
      "text/plain": [
       "<matplotlib.image.AxesImage at 0x219bec4e3a0>"
      ]
     },
     "execution_count": 3,
     "metadata": {},
     "output_type": "execute_result"
    },
    {
     "data": {
      "image/png": "[encoded data removed]",
      "text/plain": [
       "<Figure size 432x288 with 1 Axes>"
      ]
     },
     "metadata": {
      "needs_background": "light"
     },
     "output_type": "display_data"
    }
   ],
   "source": [
    "import matplotlib.pyplot as plt \n",
    "\n",
    "plt.gray() \n",
    "plt.imshow(X[0].reshape(8,8))  "
   ]
  },
  {
   "cell_type": "code",
   "execution_count": 4,
   "id": "58315b2d",
   "metadata": {
    "slideshow": {
     "slide_type": "slide"
    }
   },
   "outputs": [
    {
     "data": {
      "text/plain": [
       "0"
      ]
     },
     "execution_count": 4,
     "metadata": {},
     "output_type": "execute_result"
    }
   ],
   "source": [
    "y[0] "
   ]
  },
  {
   "cell_type": "markdown",
   "id": "ad5f6908",
   "metadata": {},
   "source": [
    "# Configurar el dataset para clasificación binaria"
   ]
  },
  {
   "cell_type": "code",
   "execution_count": 5,
   "id": "07a3c15d",
   "metadata": {},
   "outputs": [],
   "source": [
    "X_clase_6 = X[y == 6]"
   ]
  },
  {
   "cell_type": "code",
   "execution_count": 6,
   "id": "4999f08d",
   "metadata": {},
   "outputs": [],
   "source": [
    "X_clase_9 = X[y == 9]"
   ]
  },
  {
   "cell_type": "code",
   "execution_count": 7,
   "id": "976f8f27",
   "metadata": {},
   "outputs": [],
   "source": [
    "y_clase_6 = np.ones(X_clase_6.shape[0]) \n"
   ]
  },
  {
   "cell_type": "code",
   "execution_count": 8,
   "id": "9aa8adc8",
   "metadata": {},
   "outputs": [],
   "source": [
    "y_clase_9 = -np.ones(X_clase_9.shape[0]) \n"
   ]
  },
  {
   "cell_type": "code",
   "execution_count": 9,
   "id": "fee5dea6",
   "metadata": {},
   "outputs": [
    {
     "data": {
      "text/plain": [
       "False"
      ]
     },
     "execution_count": 9,
     "metadata": {},
     "output_type": "execute_result"
    }
   ],
   "source": [
    "len(y_clase_6) == len(y_clase_9) "
   ]
  },
  {
   "cell_type": "code",
   "execution_count": 10,
   "id": "c9e85a49",
   "metadata": {},
   "outputs": [
    {
     "data": {
      "text/plain": [
       "181"
      ]
     },
     "execution_count": 10,
     "metadata": {},
     "output_type": "execute_result"
    }
   ],
   "source": [
    "len(y_clase_6) "
   ]
  },
  {
   "cell_type": "code",
   "execution_count": 11,
   "id": "afa267d7",
   "metadata": {
    "scrolled": true
   },
   "outputs": [
    {
     "data": {
      "text/plain": [
       "180"
      ]
     },
     "execution_count": 11,
     "metadata": {},
     "output_type": "execute_result"
    }
   ],
   "source": [
    "len(y_clase_9) "
   ]
  },
  {
   "cell_type": "code",
   "execution_count": 12,
   "id": "6b1795af",
   "metadata": {},
   "outputs": [],
   "source": [
    "X_binaria = np.vstack((X_clase_6, X_clase_9)) "
   ]
  },
  {
   "cell_type": "code",
   "execution_count": 14,
   "id": "0df00936",
   "metadata": {},
   "outputs": [],
   "source": [
    "y_binaria = np.hstack((y_clase_6, y_clase_9)) "
   ]
  },
  {
   "cell_type": "code",
   "execution_count": null,
   "id": "5927f482",
   "metadata": {},
   "outputs": [],
   "source": [
    "len(y_binaria) "
   ]
  },
  {
   "cell_type": "markdown",
   "id": "5fa01e6c",
   "metadata": {},
   "source": [
    "# Reducción dimensional "
   ]
  },
  {
   "cell_type": "code",
   "execution_count": 15,
   "id": "04b10714",
   "metadata": {},
   "outputs": [],
   "source": [
    "X2Dim = np.zeros((len(y_binaria), 2))"
   ]
  },
  {
   "cell_type": "code",
   "execution_count": 16,
   "id": "c49dac49",
   "metadata": {},
   "outputs": [
    {
     "data": {
      "text/plain": [
       "array([[0., 0.],\n",
       "       [0., 0.]])"
      ]
     },
     "execution_count": 16,
     "metadata": {},
     "output_type": "execute_result"
    }
   ],
   "source": [
    "X2Dim[:2,:]"
   ]
  },
  {
   "cell_type": "code",
   "execution_count": 17,
   "id": "cde0b569",
   "metadata": {},
   "outputs": [],
   "source": [
    "for i in range(len(y_binaria)):\n",
    "    X2Dim[i,0] = np.sum(X_binaria[i,:32])\n",
    "    X2Dim[i,1] = np.sum(X_binaria[i,32:]) "
   ]
  },
  {
   "cell_type": "code",
   "execution_count": 18,
   "id": "fe62a6bf",
   "metadata": {},
   "outputs": [
    {
     "data": {
      "text/plain": [
       "array([[ 99., 216.],\n",
       "       [186., 143.],\n",
       "       [137., 128.],\n",
       "       [174., 148.],\n",
       "       [149., 123.],\n",
       "       [162., 158.],\n",
       "       [191., 129.],\n",
       "       [204.,  81.],\n",
       "       [199., 136.],\n",
       "       [188., 134.],\n",
       "       [161., 130.],\n",
       "       [159., 131.],\n",
       "       [158., 114.],\n",
       "       [205., 151.],\n",
       "       [166., 119.],\n",
       "       [226., 129.],\n",
       "       [164., 115.],\n",
       "       [147., 115.],\n",
       "       [173., 129.],\n",
       "       [161., 128.],\n",
       "       [185., 152.],\n",
       "       [221., 140.],\n",
       "       [202., 143.],\n",
       "       [181., 130.],\n",
       "       [182., 163.],\n",
       "       [188., 153.],\n",
       "       [195.,  98.],\n",
       "       [229., 105.],\n",
       "       [183., 113.],\n",
       "       [168., 116.],\n",
       "       [179., 112.],\n",
       "       [200., 126.],\n",
       "       [196.,  77.],\n",
       "       [194.,  78.],\n",
       "       [205.,  85.],\n",
       "       [204.,  79.],\n",
       "       [206.,  80.],\n",
       "       [196.,  90.],\n",
       "       [190.,  89.],\n",
       "       [208., 138.],\n",
       "       [181., 164.],\n",
       "       [183., 172.],\n",
       "       [183., 187.],\n",
       "       [189., 206.],\n",
       "       [195., 142.],\n",
       "       [207., 139.],\n",
       "       [202., 181.],\n",
       "       [198., 162.],\n",
       "       [189., 209.],\n",
       "       [212., 157.],\n",
       "       [206., 134.],\n",
       "       [203., 158.],\n",
       "       [178., 148.],\n",
       "       [192., 159.],\n",
       "       [155., 148.],\n",
       "       [196., 133.],\n",
       "       [215., 126.],\n",
       "       [171., 159.],\n",
       "       [198., 115.],\n",
       "       [171.,  98.],\n",
       "       [170., 171.],\n",
       "       [155., 154.],\n",
       "       [191., 122.],\n",
       "       [189., 118.],\n",
       "       [205., 160.],\n",
       "       [242., 105.],\n",
       "       [178.,  98.],\n",
       "       [199.,  76.],\n",
       "       [165., 119.],\n",
       "       [239., 113.],\n",
       "       [174.,  87.],\n",
       "       [201.,  80.],\n",
       "       [171.,  95.],\n",
       "       [187.,  82.],\n",
       "       [199., 100.],\n",
       "       [200.,  89.],\n",
       "       [232.,  92.],\n",
       "       [228., 102.],\n",
       "       [192., 126.],\n",
       "       [174., 103.],\n",
       "       [210., 168.],\n",
       "       [163., 116.],\n",
       "       [139., 123.],\n",
       "       [202., 112.],\n",
       "       [199., 142.],\n",
       "       [207., 149.],\n",
       "       [187., 109.],\n",
       "       [190., 134.],\n",
       "       [197., 137.],\n",
       "       [173., 136.],\n",
       "       [206., 125.],\n",
       "       [153., 126.],\n",
       "       [191., 134.],\n",
       "       [190., 128.],\n",
       "       [205., 120.],\n",
       "       [175., 152.],\n",
       "       [162., 120.],\n",
       "       [178., 132.],\n",
       "       [151., 135.],\n",
       "       [155., 146.],\n",
       "       [200., 134.],\n",
       "       [200., 117.],\n",
       "       [163., 138.],\n",
       "       [197., 139.],\n",
       "       [191., 128.],\n",
       "       [177., 140.],\n",
       "       [151., 117.],\n",
       "       [164., 134.],\n",
       "       [176., 139.],\n",
       "       [150., 118.],\n",
       "       [174., 135.],\n",
       "       [175.,  92.],\n",
       "       [150., 136.],\n",
       "       [217., 134.],\n",
       "       [178., 116.],\n",
       "       [125., 138.],\n",
       "       [177.,  89.],\n",
       "       [201., 160.],\n",
       "       [193., 154.],\n",
       "       [194., 185.],\n",
       "       [189., 127.],\n",
       "       [160., 111.],\n",
       "       [169., 111.],\n",
       "       [203., 152.],\n",
       "       [207., 149.],\n",
       "       [171., 102.],\n",
       "       [221., 136.],\n",
       "       [220., 144.],\n",
       "       [213., 135.],\n",
       "       [149., 108.],\n",
       "       [217., 165.],\n",
       "       [170.,  93.],\n",
       "       [178.,  90.],\n",
       "       [191.,  99.],\n",
       "       [171., 118.],\n",
       "       [151., 111.],\n",
       "       [158., 110.],\n",
       "       [167.,  97.],\n",
       "       [210., 163.],\n",
       "       [201., 101.],\n",
       "       [170.,  94.],\n",
       "       [172.,  99.],\n",
       "       [183., 102.],\n",
       "       [223., 135.],\n",
       "       [175., 104.],\n",
       "       [187., 139.],\n",
       "       [189., 118.],\n",
       "       [186., 142.],\n",
       "       [151., 117.],\n",
       "       [171., 117.],\n",
       "       [183., 113.],\n",
       "       [173., 116.],\n",
       "       [195., 125.],\n",
       "       [195.,  99.],\n",
       "       [185., 112.],\n",
       "       [208.,  73.],\n",
       "       [234.,  64.],\n",
       "       [265.,  89.],\n",
       "       [249.,  83.],\n",
       "       [182.,  75.],\n",
       "       [235., 110.],\n",
       "       [203.,  56.],\n",
       "       [158., 120.],\n",
       "       [211., 101.],\n",
       "       [178., 127.],\n",
       "       [191., 158.],\n",
       "       [220.,  94.],\n",
       "       [188.,  75.],\n",
       "       [215., 144.],\n",
       "       [197., 125.],\n",
       "       [170., 115.],\n",
       "       [192., 117.],\n",
       "       [237., 148.],\n",
       "       [195., 119.],\n",
       "       [201., 156.],\n",
       "       [188., 129.],\n",
       "       [231., 148.],\n",
       "       [207., 147.],\n",
       "       [224., 141.],\n",
       "       [209., 131.],\n",
       "       [192., 152.]])"
      ]
     },
     "execution_count": 18,
     "metadata": {},
     "output_type": "execute_result"
    }
   ],
   "source": [
    "X2Dim[180:] "
   ]
  },
  {
   "cell_type": "markdown",
   "id": "09bb616a",
   "metadata": {},
   "source": [
    "# Representación gráfica de las dos clases"
   ]
  },
  {
   "cell_type": "code",
   "execution_count": 19,
   "id": "d8856748",
   "metadata": {},
   "outputs": [],
   "source": [
    "import matplotlib.pyplot as plt "
   ]
  },
  {
   "cell_type": "code",
   "execution_count": 20,
   "id": "d1936ee0",
   "metadata": {},
   "outputs": [
    {
     "data": {
      "text/plain": [
       "<matplotlib.collections.PathCollection at 0x219c04df700>"
      ]
     },
     "execution_count": 20,
     "metadata": {},
     "output_type": "execute_result"
    },
    {
     "data": {
      "image/png": "[encoded data removed]",
      "text/plain": [
       "<Figure size 432x288 with 1 Axes>"
      ]
     },
     "metadata": {
      "needs_background": "light"
     },
     "output_type": "display_data"
    }
   ],
   "source": [
    "fig, ax = plt.subplots() \n",
    "\n",
    "x_clase_6 = X2Dim[:X_clase_6.shape[0],0]\n",
    "y_clase_6 = X2Dim[:X_clase_6.shape[0],1]\n",
    "ax.scatter(x_clase_6.ravel(), y_clase_6.ravel(), color = 'r' )  \n",
    "\n",
    "x_clase_9 = X2Dim[X_clase_6.shape[0]:,0]\n",
    "y_clase_9 = X2Dim[X_clase_6.shape[0]:,1]\n",
    "ax.scatter(x_clase_9.ravel(), y_clase_9.ravel(), color = 'g' )  "
   ]
  },
  {
   "cell_type": "code",
   "execution_count": 21,
   "id": "d8685817",
   "metadata": {},
   "outputs": [],
   "source": [
    "from sklearn.linear_model import Perceptron "
   ]
  },
  {
   "cell_type": "code",
   "execution_count": 22,
   "id": "04029c76",
   "metadata": {},
   "outputs": [],
   "source": [
    "linea = Perceptron()"
   ]
  },
  {
   "cell_type": "code",
   "execution_count": 23,
   "id": "a624b8fd",
   "metadata": {},
   "outputs": [
    {
     "data": {
      "text/plain": [
       "361"
      ]
     },
     "execution_count": 23,
     "metadata": {},
     "output_type": "execute_result"
    }
   ],
   "source": [
    "len(X2Dim)"
   ]
  },
  {
   "cell_type": "code",
   "execution_count": 24,
   "id": "8c0035f1",
   "metadata": {},
   "outputs": [
    {
     "data": {
      "text/plain": [
       "(361, 2)"
      ]
     },
     "execution_count": 24,
     "metadata": {},
     "output_type": "execute_result"
    }
   ],
   "source": [
    "X2Dim.shape "
   ]
  },
  {
   "cell_type": "code",
   "execution_count": 25,
   "id": "fd74fa67",
   "metadata": {},
   "outputs": [
    {
     "data": {
      "text/plain": [
       "numpy.ndarray"
      ]
     },
     "execution_count": 25,
     "metadata": {},
     "output_type": "execute_result"
    }
   ],
   "source": [
    "type(X2Dim) "
   ]
  },
  {
   "cell_type": "code",
   "execution_count": 26,
   "id": "18ba7665",
   "metadata": {},
   "outputs": [
    {
     "data": {
      "text/plain": [
       "361"
      ]
     },
     "execution_count": 26,
     "metadata": {},
     "output_type": "execute_result"
    }
   ],
   "source": [
    "len(y_binaria)"
   ]
  },
  {
   "cell_type": "code",
   "execution_count": 27,
   "id": "5f9a1842",
   "metadata": {},
   "outputs": [
    {
     "data": {
      "text/plain": [
       "array([ 1.,  1.,  1.,  1.,  1.,  1.,  1.,  1.,  1.,  1.,  1.,  1.,  1.,\n",
       "        1.,  1.,  1.,  1.,  1.,  1.,  1.,  1.,  1.,  1.,  1.,  1.,  1.,\n",
       "        1.,  1.,  1.,  1.,  1.,  1.,  1.,  1.,  1.,  1.,  1.,  1.,  1.,\n",
       "        1.,  1.,  1.,  1.,  1.,  1.,  1.,  1.,  1.,  1.,  1.,  1.,  1.,\n",
       "        1.,  1.,  1.,  1.,  1.,  1.,  1.,  1.,  1.,  1.,  1.,  1.,  1.,\n",
       "        1.,  1.,  1.,  1.,  1.,  1.,  1.,  1.,  1.,  1.,  1.,  1.,  1.,\n",
       "        1.,  1.,  1.,  1.,  1.,  1.,  1.,  1.,  1.,  1.,  1.,  1.,  1.,\n",
       "        1.,  1.,  1.,  1.,  1.,  1.,  1.,  1.,  1.,  1.,  1.,  1.,  1.,\n",
       "        1.,  1.,  1.,  1.,  1.,  1.,  1.,  1.,  1.,  1.,  1.,  1.,  1.,\n",
       "        1.,  1.,  1.,  1.,  1.,  1.,  1.,  1.,  1.,  1.,  1.,  1.,  1.,\n",
       "        1.,  1.,  1.,  1.,  1.,  1.,  1.,  1.,  1.,  1.,  1.,  1.,  1.,\n",
       "        1.,  1.,  1.,  1.,  1.,  1.,  1.,  1.,  1.,  1.,  1.,  1.,  1.,\n",
       "        1.,  1.,  1.,  1.,  1.,  1.,  1.,  1.,  1.,  1.,  1.,  1.,  1.,\n",
       "        1.,  1.,  1.,  1.,  1.,  1.,  1.,  1.,  1.,  1.,  1.,  1., -1.,\n",
       "       -1., -1., -1., -1., -1., -1., -1., -1., -1., -1., -1., -1., -1.,\n",
       "       -1., -1., -1., -1., -1., -1., -1., -1., -1., -1., -1., -1., -1.,\n",
       "       -1., -1., -1., -1., -1., -1., -1., -1., -1., -1., -1., -1., -1.,\n",
       "       -1., -1., -1., -1., -1., -1., -1., -1., -1., -1., -1., -1., -1.,\n",
       "       -1., -1., -1., -1., -1., -1., -1., -1., -1., -1., -1., -1., -1.,\n",
       "       -1., -1., -1., -1., -1., -1., -1., -1., -1., -1., -1., -1., -1.,\n",
       "       -1., -1., -1., -1., -1., -1., -1., -1., -1., -1., -1., -1., -1.,\n",
       "       -1., -1., -1., -1., -1., -1., -1., -1., -1., -1., -1., -1., -1.,\n",
       "       -1., -1., -1., -1., -1., -1., -1., -1., -1., -1., -1., -1., -1.,\n",
       "       -1., -1., -1., -1., -1., -1., -1., -1., -1., -1., -1., -1., -1.,\n",
       "       -1., -1., -1., -1., -1., -1., -1., -1., -1., -1., -1., -1., -1.,\n",
       "       -1., -1., -1., -1., -1., -1., -1., -1., -1., -1., -1., -1., -1.,\n",
       "       -1., -1., -1., -1., -1., -1., -1., -1., -1., -1., -1., -1., -1.,\n",
       "       -1., -1., -1., -1., -1., -1., -1., -1., -1., -1.])"
      ]
     },
     "execution_count": 27,
     "metadata": {},
     "output_type": "execute_result"
    }
   ],
   "source": [
    "y_binaria.ravel()"
   ]
  },
  {
   "cell_type": "code",
   "execution_count": 28,
   "id": "8364e51b",
   "metadata": {},
   "outputs": [
    {
     "data": {
      "text/plain": [
       "Perceptron()"
      ]
     },
     "execution_count": 28,
     "metadata": {},
     "output_type": "execute_result"
    }
   ],
   "source": [
    "linea.fit(X2Dim, y_binaria.ravel())"
   ]
  },
  {
   "cell_type": "code",
   "execution_count": 36,
   "id": "04727e04",
   "metadata": {},
   "outputs": [],
   "source": [
    "w0 = linea.intercept_[0]"
   ]
  },
  {
   "cell_type": "code",
   "execution_count": 43,
   "id": "3cab5b6b",
   "metadata": {},
   "outputs": [
    {
     "data": {
      "text/plain": [
       "-1.0"
      ]
     },
     "execution_count": 43,
     "metadata": {},
     "output_type": "execute_result"
    }
   ],
   "source": [
    "w0"
   ]
  },
  {
   "cell_type": "code",
   "execution_count": 44,
   "id": "a44ef311",
   "metadata": {},
   "outputs": [],
   "source": [
    "w1,w2 = linea.coef_.ravel() "
   ]
  },
  {
   "cell_type": "code",
   "execution_count": 45,
   "id": "ce9f6220",
   "metadata": {},
   "outputs": [
    {
     "data": {
      "text/plain": [
       "-1140.0"
      ]
     },
     "execution_count": 45,
     "metadata": {},
     "output_type": "execute_result"
    }
   ],
   "source": [
    "w1"
   ]
  },
  {
   "cell_type": "code",
   "execution_count": 46,
   "id": "0a3c9fca",
   "metadata": {},
   "outputs": [
    {
     "data": {
      "text/plain": [
       "1058.0"
      ]
     },
     "execution_count": 46,
     "metadata": {},
     "output_type": "execute_result"
    }
   ],
   "source": [
    "w2 "
   ]
  },
  {
   "cell_type": "markdown",
   "id": "71a3d7e3",
   "metadata": {},
   "source": [
    "$$ w_{0} +  w_{1}x_{1} + w_{2}x_{2}  = 0 $$"
   ]
  },
  {
   "cell_type": "markdown",
   "id": "935f318b",
   "metadata": {},
   "source": [
    "$$ x_{2} = \\frac{-w_{1}}{w_{2}}x_{1} - \\frac{w_{0}}{w_{2}} $$"
   ]
  },
  {
   "cell_type": "code",
   "execution_count": 49,
   "id": "6aa6df3e",
   "metadata": {},
   "outputs": [],
   "source": [
    "def x2(x1):\n",
    "    return (-w1/w2)*x1 - w0/w2"
   ]
  },
  {
   "cell_type": "markdown",
   "id": "bbea6086",
   "metadata": {},
   "source": [
    "# Gráfica de la separación de clases \n"
   ]
  },
  {
   "cell_type": "code",
   "execution_count": 50,
   "id": "2ba5af90",
   "metadata": {},
   "outputs": [
    {
     "data": {
      "text/plain": [
       "[<matplotlib.lines.Line2D at 0x219c08c89a0>]"
      ]
     },
     "execution_count": 50,
     "metadata": {},
     "output_type": "execute_result"
    },
    {
     "data": {
      "image/png": "[encoded data removed]",
      "text/plain": [
       "<Figure size 432x288 with 1 Axes>"
      ]
     },
     "metadata": {
      "needs_background": "light"
     },
     "output_type": "display_data"
    }
   ],
   "source": [
    "fig, ax = plt.subplots() \n",
    "\n",
    "x_clase_6 = X2Dim[:X_clase_6.shape[0],0]\n",
    "y_clase_6 = X2Dim[:X_clase_6.shape[0],1]\n",
    "ax.scatter(x_clase_6.ravel(), y_clase_6.ravel(), color = 'r' )  \n",
    "\n",
    "x_clase_9 = X2Dim[X_clase_6.shape[0]:,0]\n",
    "y_clase_9 = X2Dim[X_clase_6.shape[0]:,1]\n",
    "ax.scatter(x_clase_9.ravel(), y_clase_9.ravel(), color = 'g' )  \n",
    "\n",
    "ax.plot([np.min(X2Dim[:,0]), np.max(X2Dim[:,0])],[x2(np.min(X2Dim[:,0])), x2(np.max(X2Dim[:,0])) ], color = 'black')"
   ]
  },
  {
   "cell_type": "code",
   "execution_count": 47,
   "id": "75045f8d",
   "metadata": {},
   "outputs": [
    {
     "data": {
      "text/plain": [
       "66.0"
      ]
     },
     "execution_count": 47,
     "metadata": {},
     "output_type": "execute_result"
    }
   ],
   "source": [
    "np.min(X2Dim[:,0])"
   ]
  },
  {
   "cell_type": "code",
   "execution_count": 48,
   "id": "7b728d6f",
   "metadata": {},
   "outputs": [
    {
     "data": {
      "text/plain": [
       "265.0"
      ]
     },
     "execution_count": 48,
     "metadata": {},
     "output_type": "execute_result"
    }
   ],
   "source": [
    "np.max(X2Dim[:,0])"
   ]
  },
  {
   "cell_type": "code",
   "execution_count": null,
   "id": "fa1faa1b",
   "metadata": {},
   "outputs": [],
   "source": []
  }
 ],
 "metadata": {
  "celltoolbar": "Slideshow",
  "kernelspec": {
   "display_name": "Python 3 (ipykernel)",
   "language": "python",
   "name": "python3"
  },
  "language_info": {
   "codemirror_mode": {
    "name": "ipython",
    "version": 3
   },
   "file_extension": ".py",
   "mimetype": "text/x-python",
   "name": "python",
   "nbconvert_exporter": "python",
   "pygments_lexer": "ipython3",
   "version": "3.9.7"
  }
 },
 "nbformat": 4,
 "nbformat_minor": 5
}
