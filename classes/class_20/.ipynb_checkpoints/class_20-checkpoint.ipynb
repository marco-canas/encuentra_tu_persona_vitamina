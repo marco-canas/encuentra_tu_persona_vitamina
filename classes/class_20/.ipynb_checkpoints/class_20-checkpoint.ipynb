{
 "cells": [
  {
   "cell_type": "markdown",
   "id": "98324fe9",
   "metadata": {
    "slideshow": {
     "slide_type": "slide"
    }
   },
   "source": [
    "<table align=\"left\">\n",
    "  <td>\n",
    "    <a href=\"https://colab.research.google.com/github/marco-canas/intro-Machine-Learning/blob/main/classes/class_20/class_20.ipynb\" target=\"_parent\"><img src=\"https://colab.research.google.com/assets/colab-badge.svg\" alt=\"Open In Colab\"/></a>\n",
    "  </td>\n",
    "</table> "
   ]
  },
  {
   "cell_type": "markdown",
   "id": "db875af1",
   "metadata": {
    "slideshow": {
     "slide_type": "slide"
    }
   },
   "source": [
    "# Clase 20 Continuación de la construcción del modelo de Machine Learning de regresión lineal"
   ]
  },
  {
   "cell_type": "markdown",
   "id": "bd2b3126",
   "metadata": {
    "slideshow": {
     "slide_type": "slide"
    }
   },
   "source": [
    "1. Plantear bien la pregunta.  \n",
    "\n",
    "   * ¿Regresión o clasificación?\n",
    "   * ¿Tipo de regresión y tipo de clasificación?\n",
    "\n",
    "2. Exploración inicial.\n",
    "   * Indicar la fuente de dónde se toman los datos.\n",
    "   * Hacer explícita la función objetivo.\n",
    "   * Decir cuáles son los atributos (descripción breve de cada uno)\n",
    "   * Practicar una primera síntesis tabular y una exploración gráfica de los datos."
   ]
  },
  {
   "cell_type": "markdown",
   "id": "13c9e5bb",
   "metadata": {
    "slideshow": {
     "slide_type": "slide"
    }
   },
   "source": [
    "3. Preparar los datos para los algoritmos de aprendizaje.\n",
    "   \n",
    "   * Hacer separación inicial de datos para entrenar y para testear.\n",
    "   * Explorar correlaciones lineales con la variable objetivo.\n",
    "   * adicionar atributos que estén mejor correlacionados con la variable objetivo.\n",
    "   * Llenar datos faltantes.\n",
    "   * Codificar las variables categóricas. \n",
    "   * Estandarizar los datos."
   ]
  },
  {
   "cell_type": "code",
   "execution_count": 4,
   "id": "2e4b1890",
   "metadata": {
    "slideshow": {
     "slide_type": "slide"
    }
   },
   "outputs": [],
   "source": [
    "import numpy as np \n",
    "import pandas as pd \n",
    "import matplotlib.pyplot as plt \n",
    "\n",
    "v = pd.read_csv('vivienda.csv')\n",
    "\n",
    "from sklearn.model_selection import train_test_split\n",
    "\n",
    "v_train, v_test = train_test_split(v, test_size = 0.2, random_state = 513) \n",
    "\n",
    "v = v_train"
   ]
  },
  {
   "cell_type": "markdown",
   "id": "01fbb300",
   "metadata": {
    "slideshow": {
     "slide_type": "slide"
    }
   },
   "source": [
    "# Experimenting with Attribute Combinations"
   ]
  },
  {
   "cell_type": "markdown",
   "id": "4b77715f",
   "metadata": {
    "slideshow": {
     "slide_type": "slide"
    }
   },
   "source": [
    "Hopefully the previous sections gave you an idea of a few ways you can explore the data and gain insights. "
   ]
  },
  {
   "cell_type": "markdown",
   "id": "c8c5d250",
   "metadata": {
    "slideshow": {
     "slide_type": "slide"
    }
   },
   "source": [
    "You identified a few data quirks that you may want to clean up before feeding the data to a Machine Learning algorithm, and you found interesting correlations between attributes, in particular with the target attribute. "
   ]
  },
  {
   "cell_type": "markdown",
   "id": "843b0419",
   "metadata": {
    "slideshow": {
     "slide_type": "slide"
    }
   },
   "source": [
    "You also noticed that some attributes have a tail-heavy distribution, so you may want to transform them (e.g., by computing their logarithm). "
   ]
  },
  {
   "cell_type": "markdown",
   "id": "036170e6",
   "metadata": {
    "slideshow": {
     "slide_type": "slide"
    }
   },
   "source": [
    "Of course, your mileage will vary considerably with each project, but the general ideas are similar."
   ]
  },
  {
   "cell_type": "code",
   "execution_count": null,
   "id": "dee56d5f",
   "metadata": {
    "slideshow": {
     "slide_type": "slide"
    }
   },
   "outputs": [],
   "source": []
  },
  {
   "cell_type": "code",
   "execution_count": null,
   "id": "d3342334",
   "metadata": {
    "slideshow": {
     "slide_type": "slide"
    }
   },
   "outputs": [],
   "source": []
  },
  {
   "cell_type": "markdown",
   "id": "ec1c7a2c",
   "metadata": {
    "slideshow": {
     "slide_type": "slide"
    }
   },
   "source": [
    "## Tratamiento de datos faltantes"
   ]
  },
  {
   "cell_type": "markdown",
   "id": "4b7bff21",
   "metadata": {
    "slideshow": {
     "slide_type": "slide"
    }
   },
   "source": [
    "Vimos anteriormente que el atributo `dormitorios` tiene algunos valores faltantes, así que arreglemos esto."
   ]
  },
  {
   "cell_type": "markdown",
   "id": "a7195a29",
   "metadata": {
    "slideshow": {
     "slide_type": "slide"
    }
   },
   "source": [
    "Tienes tres opciones:"
   ]
  },
  {
   "cell_type": "markdown",
   "id": "1e69bc29",
   "metadata": {
    "slideshow": {
     "slide_type": "slide"
    }
   },
   "source": [
    "1. Deshacerse de los distritos correspondientes.\n",
    "2. Deshágase de todo el atributo.\n",
    "3. Establezca los valores en algún valor (cero, la media, la mediana, etc.).\n",
    "\n",
    "Puede lograr esto fácilmente usando los métodos `dropna()`, `drop()` y `fillna()`:"
   ]
  },
  {
   "cell_type": "code",
   "execution_count": 5,
   "id": "41b13e8b",
   "metadata": {
    "slideshow": {
     "slide_type": "slide"
    }
   },
   "outputs": [
    {
     "data": {
      "text/html": [
       "<div>\n",
       "<style scoped>\n",
       "    .dataframe tbody tr th:only-of-type {\n",
       "        vertical-align: middle;\n",
       "    }\n",
       "\n",
       "    .dataframe tbody tr th {\n",
       "        vertical-align: top;\n",
       "    }\n",
       "\n",
       "    .dataframe thead th {\n",
       "        text-align: right;\n",
       "    }\n",
       "</style>\n",
       "<table border=\"1\" class=\"dataframe\">\n",
       "  <thead>\n",
       "    <tr style=\"text-align: right;\">\n",
       "      <th></th>\n",
       "      <th>longitud</th>\n",
       "      <th>latitud</th>\n",
       "      <th>antiguedad</th>\n",
       "      <th>habitaciones</th>\n",
       "      <th>dormitorios</th>\n",
       "      <th>población</th>\n",
       "      <th>hogares</th>\n",
       "      <th>ingresos</th>\n",
       "      <th>proximidad</th>\n",
       "      <th>precio</th>\n",
       "    </tr>\n",
       "  </thead>\n",
       "  <tbody>\n",
       "    <tr>\n",
       "      <th>18223</th>\n",
       "      <td>-122.08</td>\n",
       "      <td>37.41</td>\n",
       "      <td>20.0</td>\n",
       "      <td>1896.0</td>\n",
       "      <td>456.0</td>\n",
       "      <td>1069.0</td>\n",
       "      <td>436.0</td>\n",
       "      <td>4.6875</td>\n",
       "      <td>NEAR BAY</td>\n",
       "      <td>288900.0</td>\n",
       "    </tr>\n",
       "    <tr>\n",
       "      <th>6687</th>\n",
       "      <td>-118.07</td>\n",
       "      <td>34.14</td>\n",
       "      <td>42.0</td>\n",
       "      <td>3200.0</td>\n",
       "      <td>685.0</td>\n",
       "      <td>1668.0</td>\n",
       "      <td>628.0</td>\n",
       "      <td>3.3750</td>\n",
       "      <td>INLAND</td>\n",
       "      <td>260400.0</td>\n",
       "    </tr>\n",
       "    <tr>\n",
       "      <th>3854</th>\n",
       "      <td>-118.43</td>\n",
       "      <td>34.18</td>\n",
       "      <td>25.0</td>\n",
       "      <td>3830.0</td>\n",
       "      <td>1105.0</td>\n",
       "      <td>2328.0</td>\n",
       "      <td>1017.0</td>\n",
       "      <td>2.6238</td>\n",
       "      <td>&lt;1H OCEAN</td>\n",
       "      <td>210000.0</td>\n",
       "    </tr>\n",
       "    <tr>\n",
       "      <th>11267</th>\n",
       "      <td>-117.97</td>\n",
       "      <td>33.80</td>\n",
       "      <td>35.0</td>\n",
       "      <td>2985.0</td>\n",
       "      <td>474.0</td>\n",
       "      <td>1614.0</td>\n",
       "      <td>453.0</td>\n",
       "      <td>5.4631</td>\n",
       "      <td>&lt;1H OCEAN</td>\n",
       "      <td>225600.0</td>\n",
       "    </tr>\n",
       "    <tr>\n",
       "      <th>14498</th>\n",
       "      <td>-117.23</td>\n",
       "      <td>32.86</td>\n",
       "      <td>16.0</td>\n",
       "      <td>1675.0</td>\n",
       "      <td>354.0</td>\n",
       "      <td>604.0</td>\n",
       "      <td>332.0</td>\n",
       "      <td>5.2326</td>\n",
       "      <td>NEAR OCEAN</td>\n",
       "      <td>188300.0</td>\n",
       "    </tr>\n",
       "    <tr>\n",
       "      <th>...</th>\n",
       "      <td>...</td>\n",
       "      <td>...</td>\n",
       "      <td>...</td>\n",
       "      <td>...</td>\n",
       "      <td>...</td>\n",
       "      <td>...</td>\n",
       "      <td>...</td>\n",
       "      <td>...</td>\n",
       "      <td>...</td>\n",
       "      <td>...</td>\n",
       "    </tr>\n",
       "    <tr>\n",
       "      <th>12680</th>\n",
       "      <td>-121.39</td>\n",
       "      <td>38.55</td>\n",
       "      <td>25.0</td>\n",
       "      <td>2171.0</td>\n",
       "      <td>431.0</td>\n",
       "      <td>1053.0</td>\n",
       "      <td>422.0</td>\n",
       "      <td>3.5278</td>\n",
       "      <td>INLAND</td>\n",
       "      <td>126200.0</td>\n",
       "    </tr>\n",
       "    <tr>\n",
       "      <th>17219</th>\n",
       "      <td>-119.70</td>\n",
       "      <td>34.47</td>\n",
       "      <td>32.0</td>\n",
       "      <td>3725.0</td>\n",
       "      <td>569.0</td>\n",
       "      <td>1304.0</td>\n",
       "      <td>527.0</td>\n",
       "      <td>7.7261</td>\n",
       "      <td>&lt;1H OCEAN</td>\n",
       "      <td>500001.0</td>\n",
       "    </tr>\n",
       "    <tr>\n",
       "      <th>18525</th>\n",
       "      <td>-122.04</td>\n",
       "      <td>36.97</td>\n",
       "      <td>45.0</td>\n",
       "      <td>1302.0</td>\n",
       "      <td>245.0</td>\n",
       "      <td>621.0</td>\n",
       "      <td>258.0</td>\n",
       "      <td>5.1806</td>\n",
       "      <td>NEAR OCEAN</td>\n",
       "      <td>266400.0</td>\n",
       "    </tr>\n",
       "    <tr>\n",
       "      <th>13822</th>\n",
       "      <td>-117.21</td>\n",
       "      <td>34.49</td>\n",
       "      <td>14.0</td>\n",
       "      <td>2125.0</td>\n",
       "      <td>348.0</td>\n",
       "      <td>1067.0</td>\n",
       "      <td>360.0</td>\n",
       "      <td>3.6333</td>\n",
       "      <td>INLAND</td>\n",
       "      <td>116200.0</td>\n",
       "    </tr>\n",
       "    <tr>\n",
       "      <th>17044</th>\n",
       "      <td>-122.28</td>\n",
       "      <td>37.49</td>\n",
       "      <td>29.0</td>\n",
       "      <td>4148.0</td>\n",
       "      <td>635.0</td>\n",
       "      <td>1638.0</td>\n",
       "      <td>627.0</td>\n",
       "      <td>6.9120</td>\n",
       "      <td>NEAR OCEAN</td>\n",
       "      <td>457200.0</td>\n",
       "    </tr>\n",
       "  </tbody>\n",
       "</table>\n",
       "<p>16348 rows × 10 columns</p>\n",
       "</div>"
      ],
      "text/plain": [
       "       longitud  latitud  antiguedad  habitaciones  dormitorios  población  \\\n",
       "18223   -122.08    37.41        20.0        1896.0        456.0     1069.0   \n",
       "6687    -118.07    34.14        42.0        3200.0        685.0     1668.0   \n",
       "3854    -118.43    34.18        25.0        3830.0       1105.0     2328.0   \n",
       "11267   -117.97    33.80        35.0        2985.0        474.0     1614.0   \n",
       "14498   -117.23    32.86        16.0        1675.0        354.0      604.0   \n",
       "...         ...      ...         ...           ...          ...        ...   \n",
       "12680   -121.39    38.55        25.0        2171.0        431.0     1053.0   \n",
       "17219   -119.70    34.47        32.0        3725.0        569.0     1304.0   \n",
       "18525   -122.04    36.97        45.0        1302.0        245.0      621.0   \n",
       "13822   -117.21    34.49        14.0        2125.0        348.0     1067.0   \n",
       "17044   -122.28    37.49        29.0        4148.0        635.0     1638.0   \n",
       "\n",
       "       hogares  ingresos  proximidad    precio  \n",
       "18223    436.0    4.6875    NEAR BAY  288900.0  \n",
       "6687     628.0    3.3750      INLAND  260400.0  \n",
       "3854    1017.0    2.6238   <1H OCEAN  210000.0  \n",
       "11267    453.0    5.4631   <1H OCEAN  225600.0  \n",
       "14498    332.0    5.2326  NEAR OCEAN  188300.0  \n",
       "...        ...       ...         ...       ...  \n",
       "12680    422.0    3.5278      INLAND  126200.0  \n",
       "17219    527.0    7.7261   <1H OCEAN  500001.0  \n",
       "18525    258.0    5.1806  NEAR OCEAN  266400.0  \n",
       "13822    360.0    3.6333      INLAND  116200.0  \n",
       "17044    627.0    6.9120  NEAR OCEAN  457200.0  \n",
       "\n",
       "[16348 rows x 10 columns]"
      ]
     },
     "execution_count": 5,
     "metadata": {},
     "output_type": "execute_result"
    }
   ],
   "source": [
    "v.dropna(subset = ['dormitorios']) "
   ]
  },
  {
   "cell_type": "code",
   "execution_count": 6,
   "id": "3729c707",
   "metadata": {
    "slideshow": {
     "slide_type": "slide"
    }
   },
   "outputs": [
    {
     "name": "stdout",
     "output_type": "stream",
     "text": [
      "<class 'pandas.core.frame.DataFrame'>\n",
      "Int64Index: 16512 entries, 18223 to 17044\n",
      "Data columns (total 10 columns):\n",
      " #   Column        Non-Null Count  Dtype  \n",
      "---  ------        --------------  -----  \n",
      " 0   longitud      16512 non-null  float64\n",
      " 1   latitud       16512 non-null  float64\n",
      " 2   antiguedad    16512 non-null  float64\n",
      " 3   habitaciones  16512 non-null  float64\n",
      " 4   dormitorios   16348 non-null  float64\n",
      " 5   población     16512 non-null  float64\n",
      " 6   hogares       16512 non-null  float64\n",
      " 7   ingresos      16512 non-null  float64\n",
      " 8   proximidad    16512 non-null  object \n",
      " 9   precio        16512 non-null  float64\n",
      "dtypes: float64(9), object(1)\n",
      "memory usage: 1.4+ MB\n"
     ]
    }
   ],
   "source": [
    "v.info() "
   ]
  },
  {
   "cell_type": "code",
   "execution_count": 8,
   "id": "e06c3414",
   "metadata": {
    "slideshow": {
     "slide_type": "slide"
    }
   },
   "outputs": [],
   "source": [
    "v.drop('dormitorios', axis = 1) "
   ]
  },
  {
   "cell_type": "code",
   "execution_count": 11,
   "id": "4c6bdda5",
   "metadata": {
    "slideshow": {
     "slide_type": "slide"
    }
   },
   "outputs": [],
   "source": [
    "median = v.dormitorios.median()"
   ]
  },
  {
   "cell_type": "code",
   "execution_count": 12,
   "id": "14bdd1d5",
   "metadata": {
    "slideshow": {
     "slide_type": "slide"
    }
   },
   "outputs": [],
   "source": [
    "v['dormitorios'].fillna(median, inplace = True) "
   ]
  },
  {
   "cell_type": "markdown",
   "id": "5caf1aa6",
   "metadata": {
    "slideshow": {
     "slide_type": "slide"
    }
   },
   "source": []
  },
  {
   "cell_type": "code",
   "execution_count": 7,
   "id": "786812be",
   "metadata": {
    "slideshow": {
     "slide_type": "slide"
    }
   },
   "outputs": [],
   "source": [
    "from sklearn.impute import SimpleImputer\n",
    "imputer = SimpleImputer(strategy=\"median\")"
   ]
  },
  {
   "cell_type": "markdown",
   "id": "bf3f591b",
   "metadata": {
    "slideshow": {
     "slide_type": "slide"
    }
   },
   "source": []
  },
  {
   "cell_type": "code",
   "execution_count": 8,
   "id": "64a52c00",
   "metadata": {
    "slideshow": {
     "slide_type": "slide"
    }
   },
   "outputs": [],
   "source": [
    "v_num = v.drop('proximidad', axis=1)\n"
   ]
  },
  {
   "cell_type": "markdown",
   "id": "35ed945b",
   "metadata": {
    "slideshow": {
     "slide_type": "slide"
    }
   },
   "source": []
  },
  {
   "cell_type": "code",
   "execution_count": 10,
   "id": "3349dd05",
   "metadata": {
    "slideshow": {
     "slide_type": "slide"
    }
   },
   "outputs": [
    {
     "data": {
      "text/plain": [
       "SimpleImputer(strategy='median')"
      ]
     },
     "execution_count": 10,
     "metadata": {},
     "output_type": "execute_result"
    }
   ],
   "source": [
    "imputer.fit(v_num)\n"
   ]
  },
  {
   "cell_type": "markdown",
   "id": "294e6e42",
   "metadata": {
    "slideshow": {
     "slide_type": "slide"
    }
   },
   "source": []
  },
  {
   "cell_type": "code",
   "execution_count": 11,
   "id": "b3993e20",
   "metadata": {
    "slideshow": {
     "slide_type": "slide"
    }
   },
   "outputs": [
    {
     "data": {
      "text/plain": [
       "array([-1.1849e+02,  3.4250e+01,  2.9000e+01,  2.1130e+03,  4.3200e+02,\n",
       "        1.1620e+03,  4.0800e+02,  3.5385e+00,  1.7865e+05])"
      ]
     },
     "execution_count": 11,
     "metadata": {},
     "output_type": "execute_result"
    }
   ],
   "source": [
    "imputer.statistics_"
   ]
  },
  {
   "cell_type": "code",
   "execution_count": 12,
   "id": "4f3cb00f",
   "metadata": {
    "slideshow": {
     "slide_type": "slide"
    }
   },
   "outputs": [
    {
     "data": {
      "text/plain": [
       "longitud          -118.4900\n",
       "latitud             34.2500\n",
       "antiguedad          29.0000\n",
       "habitaciones      2113.0000\n",
       "dormitorios        432.0000\n",
       "población         1162.0000\n",
       "hogares            408.0000\n",
       "ingresos             3.5385\n",
       "precio          178650.0000\n",
       "dtype: float64"
      ]
     },
     "execution_count": 12,
     "metadata": {},
     "output_type": "execute_result"
    }
   ],
   "source": [
    "v_num.median()\n"
   ]
  },
  {
   "cell_type": "markdown",
   "id": "b64f035b",
   "metadata": {
    "slideshow": {
     "slide_type": "slide"
    }
   },
   "source": []
  },
  {
   "cell_type": "code",
   "execution_count": 13,
   "id": "2d2d8853",
   "metadata": {
    "slideshow": {
     "slide_type": "slide"
    }
   },
   "outputs": [],
   "source": [
    "X = imputer.transform(v_num)"
   ]
  },
  {
   "cell_type": "markdown",
   "id": "1e572177",
   "metadata": {
    "slideshow": {
     "slide_type": "slide"
    }
   },
   "source": []
  },
  {
   "cell_type": "code",
   "execution_count": 14,
   "id": "4800c49c",
   "metadata": {
    "slideshow": {
     "slide_type": "slide"
    }
   },
   "outputs": [],
   "source": [
    "v_tr = pd.DataFrame(X, columns=v_num.columns, index=v_num.index)"
   ]
  },
  {
   "cell_type": "markdown",
   "id": "f68a4f43",
   "metadata": {
    "slideshow": {
     "slide_type": "slide"
    }
   },
   "source": [
    "## Handling Text and Categorical Attributes"
   ]
  },
  {
   "cell_type": "markdown",
   "id": "a577660f",
   "metadata": {
    "slideshow": {
     "slide_type": "slide"
    }
   },
   "source": [
    "So far we have only dealt with numerical attributes, but now let’s look at text attributes. "
   ]
  },
  {
   "cell_type": "markdown",
   "id": "13cf6be2",
   "metadata": {
    "slideshow": {
     "slide_type": "slide"
    }
   },
   "source": [
    "In this dataset, there is just one: the ocean_proximity attribute."
   ]
  },
  {
   "cell_type": "markdown",
   "id": "fdf80cc1",
   "metadata": {
    "slideshow": {
     "slide_type": "slide"
    }
   },
   "source": [
    "Let’s look at its value for the first 10 instances:"
   ]
  },
  {
   "cell_type": "code",
   "execution_count": 16,
   "id": "a52f1ff4",
   "metadata": {
    "slideshow": {
     "slide_type": "slide"
    }
   },
   "outputs": [
    {
     "data": {
      "text/html": [
       "<div>\n",
       "<style scoped>\n",
       "    .dataframe tbody tr th:only-of-type {\n",
       "        vertical-align: middle;\n",
       "    }\n",
       "\n",
       "    .dataframe tbody tr th {\n",
       "        vertical-align: top;\n",
       "    }\n",
       "\n",
       "    .dataframe thead th {\n",
       "        text-align: right;\n",
       "    }\n",
       "</style>\n",
       "<table border=\"1\" class=\"dataframe\">\n",
       "  <thead>\n",
       "    <tr style=\"text-align: right;\">\n",
       "      <th></th>\n",
       "      <th>proximidad</th>\n",
       "    </tr>\n",
       "  </thead>\n",
       "  <tbody>\n",
       "    <tr>\n",
       "      <th>18223</th>\n",
       "      <td>NEAR BAY</td>\n",
       "    </tr>\n",
       "    <tr>\n",
       "      <th>6687</th>\n",
       "      <td>INLAND</td>\n",
       "    </tr>\n",
       "    <tr>\n",
       "      <th>3854</th>\n",
       "      <td>&lt;1H OCEAN</td>\n",
       "    </tr>\n",
       "    <tr>\n",
       "      <th>11267</th>\n",
       "      <td>&lt;1H OCEAN</td>\n",
       "    </tr>\n",
       "    <tr>\n",
       "      <th>14498</th>\n",
       "      <td>NEAR OCEAN</td>\n",
       "    </tr>\n",
       "    <tr>\n",
       "      <th>19404</th>\n",
       "      <td>INLAND</td>\n",
       "    </tr>\n",
       "    <tr>\n",
       "      <th>15517</th>\n",
       "      <td>&lt;1H OCEAN</td>\n",
       "    </tr>\n",
       "    <tr>\n",
       "      <th>7774</th>\n",
       "      <td>&lt;1H OCEAN</td>\n",
       "    </tr>\n",
       "    <tr>\n",
       "      <th>4730</th>\n",
       "      <td>&lt;1H OCEAN</td>\n",
       "    </tr>\n",
       "    <tr>\n",
       "      <th>6416</th>\n",
       "      <td>INLAND</td>\n",
       "    </tr>\n",
       "  </tbody>\n",
       "</table>\n",
       "</div>"
      ],
      "text/plain": [
       "       proximidad\n",
       "18223    NEAR BAY\n",
       "6687       INLAND\n",
       "3854    <1H OCEAN\n",
       "11267   <1H OCEAN\n",
       "14498  NEAR OCEAN\n",
       "19404      INLAND\n",
       "15517   <1H OCEAN\n",
       "7774    <1H OCEAN\n",
       "4730    <1H OCEAN\n",
       "6416       INLAND"
      ]
     },
     "execution_count": 16,
     "metadata": {},
     "output_type": "execute_result"
    }
   ],
   "source": [
    "v_cat = v[['proximidad']]\n",
    "v_cat.head(10)"
   ]
  },
  {
   "cell_type": "markdown",
   "id": "1c65ba8e",
   "metadata": {
    "slideshow": {
     "slide_type": "slide"
    }
   },
   "source": [
    "It’s not arbitrary text: there are a limited number of possible values, each of which represents a category. "
   ]
  },
  {
   "cell_type": "markdown",
   "id": "930d35fa",
   "metadata": {
    "slideshow": {
     "slide_type": "slide"
    }
   },
   "source": [
    "So this attribute is a categorical attribute. "
   ]
  },
  {
   "cell_type": "markdown",
   "id": "deea3bb2",
   "metadata": {
    "slideshow": {
     "slide_type": "slide"
    }
   },
   "source": [
    "Most Machine Learning algorithms prefer to work with numbers, so let’s convert these categories from text to numbers. "
   ]
  },
  {
   "cell_type": "markdown",
   "id": "d6f7b49b",
   "metadata": {
    "slideshow": {
     "slide_type": "slide"
    }
   },
   "source": [
    "For this, we can use Scikit-Learn’s OrdinalEncoder class:"
   ]
  },
  {
   "cell_type": "code",
   "execution_count": 17,
   "id": "027affe2",
   "metadata": {
    "slideshow": {
     "slide_type": "slide"
    }
   },
   "outputs": [
    {
     "data": {
      "text/plain": [
       "array([[3.],\n",
       "       [1.],\n",
       "       [0.],\n",
       "       [0.],\n",
       "       [4.],\n",
       "       [1.],\n",
       "       [0.],\n",
       "       [0.],\n",
       "       [0.],\n",
       "       [1.]])"
      ]
     },
     "execution_count": 17,
     "metadata": {},
     "output_type": "execute_result"
    }
   ],
   "source": [
    "from sklearn.preprocessing import OrdinalEncoder\n",
    "ordinal_encoder = OrdinalEncoder()\n",
    "v_cat_encoded = ordinal_encoder.fit_transform(v_cat)\n",
    "v_cat_encoded[:10]"
   ]
  },
  {
   "cell_type": "markdown",
   "id": "390815b5",
   "metadata": {
    "slideshow": {
     "slide_type": "slide"
    }
   },
   "source": []
  },
  {
   "cell_type": "code",
   "execution_count": 18,
   "id": "55794a3c",
   "metadata": {
    "slideshow": {
     "slide_type": "slide"
    }
   },
   "outputs": [
    {
     "data": {
      "text/plain": [
       "[array(['<1H OCEAN', 'INLAND', 'ISLAND', 'NEAR BAY', 'NEAR OCEAN'],\n",
       "       dtype=object)]"
      ]
     },
     "execution_count": 18,
     "metadata": {},
     "output_type": "execute_result"
    }
   ],
   "source": [
    "ordinal_encoder.categories_\n"
   ]
  },
  {
   "cell_type": "markdown",
   "id": "28a46740",
   "metadata": {
    "slideshow": {
     "slide_type": "slide"
    }
   },
   "source": []
  },
  {
   "cell_type": "code",
   "execution_count": 20,
   "id": "d0f295fc",
   "metadata": {
    "slideshow": {
     "slide_type": "slide"
    }
   },
   "outputs": [
    {
     "data": {
      "text/plain": [
       "<16512x5 sparse matrix of type '<class 'numpy.float64'>'\n",
       "\twith 16512 stored elements in Compressed Sparse Row format>"
      ]
     },
     "execution_count": 20,
     "metadata": {},
     "output_type": "execute_result"
    }
   ],
   "source": [
    "from sklearn.preprocessing import OneHotEncoder\n",
    "cat_encoder_1hot = OneHotEncoder()\n",
    "X_cat_1hot = cat_encoder_1hot.fit_transform(v_cat)\n",
    "X_cat_1hot\n"
   ]
  },
  {
   "cell_type": "markdown",
   "id": "ccf883b4",
   "metadata": {
    "slideshow": {
     "slide_type": "slide"
    }
   },
   "source": []
  },
  {
   "cell_type": "code",
   "execution_count": 21,
   "id": "54145267",
   "metadata": {
    "slideshow": {
     "slide_type": "slide"
    }
   },
   "outputs": [
    {
     "data": {
      "text/plain": [
       "array([[0., 0., 0., 1., 0.],\n",
       "       [0., 1., 0., 0., 0.],\n",
       "       [1., 0., 0., 0., 0.],\n",
       "       ...,\n",
       "       [0., 0., 0., 0., 1.],\n",
       "       [0., 1., 0., 0., 0.],\n",
       "       [0., 0., 0., 0., 1.]])"
      ]
     },
     "execution_count": 21,
     "metadata": {},
     "output_type": "execute_result"
    }
   ],
   "source": [
    "X_cat_1hot.toarray()"
   ]
  },
  {
   "cell_type": "markdown",
   "id": "2737f92a",
   "metadata": {
    "slideshow": {
     "slide_type": "slide"
    }
   },
   "source": []
  },
  {
   "cell_type": "code",
   "execution_count": 22,
   "id": "f6de2a1a",
   "metadata": {
    "slideshow": {
     "slide_type": "slide"
    }
   },
   "outputs": [
    {
     "data": {
      "text/plain": [
       "[array(['<1H OCEAN', 'INLAND', 'ISLAND', 'NEAR BAY', 'NEAR OCEAN'],\n",
       "       dtype=object)]"
      ]
     },
     "execution_count": 22,
     "metadata": {},
     "output_type": "execute_result"
    }
   ],
   "source": [
    "cat_encoder_1hot.categories_\n"
   ]
  },
  {
   "cell_type": "markdown",
   "id": "8fccd1af",
   "metadata": {
    "slideshow": {
     "slide_type": "slide"
    }
   },
   "source": [
    "## Feature Scaling"
   ]
  },
  {
   "cell_type": "markdown",
   "id": "f21ced81",
   "metadata": {
    "slideshow": {
     "slide_type": "slide"
    }
   },
   "source": [
    "One of the most important transformations you need to apply to your data is feature scaling. "
   ]
  },
  {
   "cell_type": "markdown",
   "id": "027e9587",
   "metadata": {
    "slideshow": {
     "slide_type": "slide"
    }
   },
   "source": [
    "With few exceptions, Machine Learning algorithms don’t perform well when the input numerical attributes have very different scales."
   ]
  },
  {
   "cell_type": "markdown",
   "id": "57d78755",
   "metadata": {
    "slideshow": {
     "slide_type": "slide"
    }
   },
   "source": [
    "This is the case for the housing data: the total number of rooms ranges from about 6 to 39,320, while the median incomes only range from 0 to 15. "
   ]
  },
  {
   "cell_type": "markdown",
   "id": "48ce2e0f",
   "metadata": {
    "slideshow": {
     "slide_type": "slide"
    }
   },
   "source": [
    "Note that scaling the target values is generally not required."
   ]
  },
  {
   "cell_type": "markdown",
   "id": "b5fd5153",
   "metadata": {
    "slideshow": {
     "slide_type": "slide"
    }
   },
   "source": [
    "There are two common ways to get all attributes to have the same scale: minmax scaling and standardization."
   ]
  },
  {
   "cell_type": "markdown",
   "id": "591dc44b",
   "metadata": {
    "slideshow": {
     "slide_type": "slide"
    }
   },
   "source": [
    "Min-max scaling (many people call this normalization) is the simplest: values are shifted and rescaled so that they end up ranging from 0 to 1. "
   ]
  },
  {
   "cell_type": "markdown",
   "id": "2ae54214",
   "metadata": {
    "slideshow": {
     "slide_type": "slide"
    }
   },
   "source": [
    "We do this by subtracting the min value and dividing by the max minus the min. Scikit-Learn\n",
    "provides a transformer called MinMaxScaler for this. "
   ]
  },
  {
   "cell_type": "markdown",
   "id": "5b99b1a6",
   "metadata": {
    "slideshow": {
     "slide_type": "slide"
    }
   },
   "source": [
    "It has a feature_range hyperparameter that lets you change the range if, for some reason, you don’t want 0–1."
   ]
  },
  {
   "cell_type": "markdown",
   "id": "c4c5ad9e",
   "metadata": {
    "slideshow": {
     "slide_type": "slide"
    }
   },
   "source": [
    "Standardization is different: first it subtracts the mean value (so standardized values always have a zero mean), and then it divides by the standard deviation so that the resulting distribution has unit variance. "
   ]
  },
  {
   "cell_type": "markdown",
   "id": "7276a3a8",
   "metadata": {
    "slideshow": {
     "slide_type": "slide"
    }
   },
   "source": [
    "Unlike min-max scaling, standardization does not bound values to a specific range, which may be a problem for some algorithms (e.g., neural networks often expect an input value ranging from 0 to 1). "
   ]
  },
  {
   "cell_type": "markdown",
   "id": "d9fd00f6",
   "metadata": {
    "slideshow": {
     "slide_type": "slide"
    }
   },
   "source": [
    "However, standardization is much less affected by outliers. "
   ]
  },
  {
   "cell_type": "markdown",
   "id": "f596e6fe",
   "metadata": {
    "slideshow": {
     "slide_type": "slide"
    }
   },
   "source": [
    "For example, suppose a district had a median income equal to 100 (by mistake). "
   ]
  },
  {
   "cell_type": "markdown",
   "id": "16c248bb",
   "metadata": {
    "slideshow": {
     "slide_type": "slide"
    }
   },
   "source": [
    "Min-max scaling would then crush all the other values from 0–15 down to 0–0.15, whereas standardization would not be much affected. "
   ]
  },
  {
   "cell_type": "markdown",
   "id": "1ce2f318",
   "metadata": {
    "slideshow": {
     "slide_type": "slide"
    }
   },
   "source": [
    "ScikitLearn provides a transformer called StandardScaler for standardization."
   ]
  },
  {
   "cell_type": "markdown",
   "id": "0d1b4463",
   "metadata": {
    "slideshow": {
     "slide_type": "slide"
    }
   },
   "source": [
    "# Transformation Pipelines"
   ]
  },
  {
   "cell_type": "markdown",
   "id": "226007ac",
   "metadata": {
    "slideshow": {
     "slide_type": "slide"
    }
   },
   "source": [
    "As you can see, there are many data transformation steps that need to be executed in the right order. "
   ]
  },
  {
   "cell_type": "markdown",
   "id": "aef9db96",
   "metadata": {
    "slideshow": {
     "slide_type": "slide"
    }
   },
   "source": [
    "Fortunately, Scikit-Learn provides the Pipeline class to help with such sequences of transformations. "
   ]
  },
  {
   "cell_type": "markdown",
   "id": "bc56a89d",
   "metadata": {
    "slideshow": {
     "slide_type": "slide"
    }
   },
   "source": [
    "Here is a small pipeline for the numerical attributes:"
   ]
  },
  {
   "cell_type": "code",
   "execution_count": null,
   "id": "d203a1a5",
   "metadata": {
    "slideshow": {
     "slide_type": "slide"
    }
   },
   "outputs": [],
   "source": []
  },
  {
   "cell_type": "code",
   "execution_count": null,
   "id": "de495364",
   "metadata": {
    "slideshow": {
     "slide_type": "slide"
    }
   },
   "outputs": [],
   "source": []
  },
  {
   "cell_type": "code",
   "execution_count": null,
   "id": "17858815",
   "metadata": {
    "slideshow": {
     "slide_type": "slide"
    }
   },
   "outputs": [],
   "source": []
  },
  {
   "cell_type": "code",
   "execution_count": null,
   "id": "4c2db9b8",
   "metadata": {
    "slideshow": {
     "slide_type": "slide"
    }
   },
   "outputs": [],
   "source": []
  },
  {
   "cell_type": "code",
   "execution_count": null,
   "id": "0e818103",
   "metadata": {},
   "outputs": [],
   "source": []
  },
  {
   "cell_type": "code",
   "execution_count": null,
   "id": "8b437fe8",
   "metadata": {},
   "outputs": [],
   "source": []
  }
 ],
 "metadata": {
  "celltoolbar": "Slideshow",
  "kernelspec": {
   "display_name": "Python 3 (ipykernel)",
   "language": "python",
   "name": "python3"
  },
  "language_info": {
   "codemirror_mode": {
    "name": "ipython",
    "version": 3
   },
   "file_extension": ".py",
   "mimetype": "text/x-python",
   "name": "python",
   "nbconvert_exporter": "python",
   "pygments_lexer": "ipython3",
   "version": "3.9.7"
  },
  "rise": {
   "enable_chalkboard": true,
   "theme": "sky",
   "transition": "zoom"
  }
 },
 "nbformat": 4,
 "nbformat_minor": 5
}
