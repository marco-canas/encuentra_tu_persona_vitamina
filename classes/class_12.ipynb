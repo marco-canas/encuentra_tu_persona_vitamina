{
 "cells": [
  {
   "cell_type": "markdown",
   "id": "3a0b1dcb",
   "metadata": {},
   "source": [
    "\n",
    "<table align=\"left\">\n",
    "  <td>\n",
    "    <a href=\"https://colab.research.google.com/github/marco-canas/introducci-n-al-Machine-Learning/blob/main/classes/class_11/class_11.ipynb\" target=\"_parent\"><img src=\"https://colab.research.google.com/assets/colab-badge.svg\" alt=\"Open In Colab\"/></a>\n",
    "  </td>\n",
    "  <td>\n",
    "    <a target=\"_blank\" href=\"https://kaggle.com/kernels/welcome?src=https://github.com/marco-canas/introducci-n-al-Machine-Learning/blob/main/classes/class_11/class_11.ipynb\"><img src=\"https://kaggle.com/static/images/open-in-kaggle.svg\" /></a>\n",
    "  </td>\n",
    "</table> \n"
   ]
  },
  {
   "cell_type": "markdown",
   "id": "c615dd15",
   "metadata": {},
   "source": [
    "# [DataFrame según Géron](https://github.com/ageron/handson-ml/blob/master/tools_pandas.ipynb)"
   ]
  },
  {
   "cell_type": "markdown",
   "id": "c251cda6",
   "metadata": {},
   "source": [
    "**DataFrame**, que se puede considerar como una tabla 2D en memoria. \n"
   ]
  },
  {
   "cell_type": "markdown",
   "id": "d83b3e8f",
   "metadata": {},
   "source": [
    "Un objeto `DataFrame` representa una hoja de cálculo, con:  \n",
    "\n",
    "* valores de celda, \n",
    "* nombres de columna y \n",
    "* etiquetas de índice de fila. "
   ]
  },
  {
   "cell_type": "code",
   "execution_count": 1,
   "id": "6d506e92",
   "metadata": {},
   "outputs": [],
   "source": [
    "import pandas as pd"
   ]
  },
  {
   "cell_type": "markdown",
   "id": "d2945587",
   "metadata": {},
   "source": [
    "Puede: \n",
    "\n",
    "* definir expresiones para calcular columnas basadas en otras columnas, \n",
    "* crear tablas dinámicas, \n",
    "* agrupar filas, \n",
    "* dibujar gráficos, etc. \n"
   ]
  },
  {
   "cell_type": "markdown",
   "id": "e0865ebe",
   "metadata": {},
   "source": [
    "## Creación de un DataFrame"
   ]
  },
  {
   "cell_type": "markdown",
   "id": "d06421b7",
   "metadata": {},
   "source": [
    "Puede crear un `DataFrame` pasando un diccionario de objetos `Series`:"
   ]
  },
  {
   "cell_type": "code",
   "execution_count": 2,
   "id": "00e5d4d7",
   "metadata": {},
   "outputs": [
    {
     "data": {
      "text/html": [
       "<div>\n",
       "<style scoped>\n",
       "    .dataframe tbody tr th:only-of-type {\n",
       "        vertical-align: middle;\n",
       "    }\n",
       "\n",
       "    .dataframe tbody tr th {\n",
       "        vertical-align: top;\n",
       "    }\n",
       "\n",
       "    .dataframe thead th {\n",
       "        text-align: right;\n",
       "    }\n",
       "</style>\n",
       "<table border=\"1\" class=\"dataframe\">\n",
       "  <thead>\n",
       "    <tr style=\"text-align: right;\">\n",
       "      <th></th>\n",
       "      <th>weight</th>\n",
       "      <th>birthyear</th>\n",
       "      <th>children</th>\n",
       "      <th>hobby</th>\n",
       "    </tr>\n",
       "  </thead>\n",
       "  <tbody>\n",
       "    <tr>\n",
       "      <th>alice</th>\n",
       "      <td>68</td>\n",
       "      <td>1985</td>\n",
       "      <td>NaN</td>\n",
       "      <td>Biking</td>\n",
       "    </tr>\n",
       "    <tr>\n",
       "      <th>bob</th>\n",
       "      <td>83</td>\n",
       "      <td>1984</td>\n",
       "      <td>3.0</td>\n",
       "      <td>Dancing</td>\n",
       "    </tr>\n",
       "    <tr>\n",
       "      <th>charles</th>\n",
       "      <td>112</td>\n",
       "      <td>1992</td>\n",
       "      <td>0.0</td>\n",
       "      <td>NaN</td>\n",
       "    </tr>\n",
       "  </tbody>\n",
       "</table>\n",
       "</div>"
      ],
      "text/plain": [
       "         weight  birthyear  children    hobby\n",
       "alice        68       1985       NaN   Biking\n",
       "bob          83       1984       3.0  Dancing\n",
       "charles     112       1992       0.0      NaN"
      ]
     },
     "execution_count": 2,
     "metadata": {},
     "output_type": "execute_result"
    }
   ],
   "source": [
    "people_dict = {\n",
    "    \"weight\": pd.Series([68, 83, 112], index=[\"alice\", \"bob\", \"charles\"]),\n",
    "    \"birthyear\": pd.Series([1984, 1985, 1992], index=[\"bob\", \"alice\", \"charles\"], name=\"year\"),\n",
    "    \"children\": pd.Series([0, 3], index=[\"charles\", \"bob\"]),\n",
    "    \"hobby\": pd.Series([\"Biking\", \"Dancing\"], index=[\"alice\", \"bob\"])}  \n",
    "\n",
    "people = pd.DataFrame(people_dict)\n",
    "people"
   ]
  },
  {
   "cell_type": "markdown",
   "id": "f364f6f2",
   "metadata": {},
   "source": [
    "### Algunas cosas a tener en cuenta:"
   ]
  },
  {
   "cell_type": "markdown",
   "id": "9552e8a7",
   "metadata": {},
   "source": [
    "* las series se alinearon automáticamente en función de su índice,  \n",
    "\n",
    "* los valores faltantes se representan como `NaN`,  \n",
    "\n",
    "* Los nombres de las series se ignoran (se eliminó el nombre `year`),\n"
   ]
  },
  {
   "cell_type": "markdown",
   "id": "c0c99195",
   "metadata": {},
   "source": [
    "## Acceso a las columnas "
   ]
  },
  {
   "cell_type": "markdown",
   "id": "2080125c",
   "metadata": {},
   "source": [
    "Se devuelven como objetos `Series`:"
   ]
  },
  {
   "cell_type": "code",
   "execution_count": null,
   "id": "cc61d20d",
   "metadata": {},
   "outputs": [],
   "source": []
  },
  {
   "cell_type": "code",
   "execution_count": null,
   "id": "80024f07",
   "metadata": {},
   "outputs": [],
   "source": []
  },
  {
   "cell_type": "code",
   "execution_count": null,
   "id": "9e9b816f",
   "metadata": {},
   "outputs": [],
   "source": []
  },
  {
   "cell_type": "code",
   "execution_count": null,
   "id": "1903008e",
   "metadata": {},
   "outputs": [],
   "source": []
  },
  {
   "cell_type": "code",
   "execution_count": null,
   "id": "bed562fa",
   "metadata": {},
   "outputs": [],
   "source": []
  }
 ],
 "metadata": {
  "kernelspec": {
   "display_name": "Python 3",
   "language": "python",
   "name": "python3"
  },
  "language_info": {
   "codemirror_mode": {
    "name": "ipython",
    "version": 3
   },
   "file_extension": ".py",
   "mimetype": "text/x-python",
   "name": "python",
   "nbconvert_exporter": "python",
   "pygments_lexer": "ipython3",
   "version": "3.8.8"
  },
  "latex_envs": {
   "LaTeX_envs_menu_present": true,
   "autoclose": false,
   "autocomplete": false,
   "bibliofile": "biblio.bib",
   "cite_by": "apalike",
   "current_citInitial": 1,
   "eqLabelWithNumbers": true,
   "eqNumInitial": 1,
   "hotkeys": {
    "equation": "Ctrl-E",
    "itemize": "Ctrl-I"
   },
   "labels_anchors": false,
   "latex_user_defs": false,
   "report_style_numbering": false,
   "user_envs_cfg": false
  }
 },
 "nbformat": 4,
 "nbformat_minor": 5
}
