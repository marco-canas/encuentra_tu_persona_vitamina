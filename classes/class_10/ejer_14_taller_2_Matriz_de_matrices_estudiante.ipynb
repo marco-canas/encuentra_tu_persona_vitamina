{
 "cells": [
  {
   "cell_type": "markdown",
   "metadata": {},
   "source": [
    "## Problema "
   ]
  },
  {
   "cell_type": "code",
   "execution_count": 1,
   "metadata": {
    "colab": {
     "base_uri": "https://localhost:8080/"
    },
    "id": "RLR1nSRXnwJ6",
    "outputId": "5d14ebdc-6917-45a7-f882-873269302aa9"
   },
   "outputs": [
    {
     "data": {
      "text/plain": [
       "array([[1, 2],\n",
       "       [3, 4]])"
      ]
     },
     "execution_count": 1,
     "metadata": {},
     "output_type": "execute_result"
    }
   ],
   "source": [
    "#tengo que poner cuantro matrices y de esas cuantro matrices generar otra matriz\n",
    "import numpy as np\n",
    "A = np.array([[1,2],[3,4]]) #creamos matrice A\n",
    "B = np.array([[11,22],[3,47]]) #creamos matrice B\n",
    "C = np.array([[18,25],[3,49]]) #creamos matrice C\n",
    "D = np.array([[15,27],[32,44]]) #creamos matrice D\n",
    "A #mostrando la lista\n"
   ]
  },
  {
   "cell_type": "code",
   "execution_count": null,
   "metadata": {
    "colab": {
     "base_uri": "https://localhost:8080/"
    },
    "id": "ctSuogrwrEIm",
    "outputId": "3167c562-f123-4658-ce5c-fb5f03648b02"
   },
   "outputs": [
    {
     "data": {
      "text/plain": [
       "array([[11, 22],\n",
       "       [ 3, 47]])"
      ]
     },
     "execution_count": 13,
     "metadata": {},
     "output_type": "execute_result"
    }
   ],
   "source": [
    "B"
   ]
  },
  {
   "cell_type": "code",
   "execution_count": null,
   "metadata": {
    "colab": {
     "base_uri": "https://localhost:8080/"
    },
    "id": "rmCKgfvIrPAZ",
    "outputId": "f52e499f-9293-44ed-bbb1-2d1404b6f6bf"
   },
   "outputs": [
    {
     "data": {
      "text/plain": [
       "array([[18, 25],\n",
       "       [ 3, 49]])"
      ]
     },
     "execution_count": 14,
     "metadata": {},
     "output_type": "execute_result"
    }
   ],
   "source": [
    "C"
   ]
  },
  {
   "cell_type": "code",
   "execution_count": null,
   "metadata": {
    "colab": {
     "base_uri": "https://localhost:8080/"
    },
    "id": "wRs1KvAurRRY",
    "outputId": "1785a048-aa8c-4588-e217-9a2995c2c3bc"
   },
   "outputs": [
    {
     "data": {
      "text/plain": [
       "array([[15, 27],\n",
       "       [32, 44]])"
      ]
     },
     "execution_count": 15,
     "metadata": {},
     "output_type": "execute_result"
    }
   ],
   "source": [
    "D"
   ]
  },
  {
   "cell_type": "code",
   "execution_count": null,
   "metadata": {
    "colab": {
     "base_uri": "https://localhost:8080/"
    },
    "id": "HoBhoGug5_3p",
    "outputId": "af6f7fad-eb85-4778-c39c-6013965caaa5"
   },
   "outputs": [
    {
     "data": {
      "text/plain": [
       "array([[ 1,  2, 11, 22],\n",
       "       [ 3,  4,  3, 47]])"
      ]
     },
     "execution_count": 59,
     "metadata": {},
     "output_type": "execute_result"
    }
   ],
   "source": [
    "E = np.concatenate([A,B],1)\n",
    "E"
   ]
  },
  {
   "cell_type": "code",
   "execution_count": null,
   "metadata": {
    "colab": {
     "base_uri": "https://localhost:8080/"
    },
    "id": "Bc95MTws7bFD",
    "outputId": "fc7cbe16-0e01-48bc-80a1-bd850e2e85d7"
   },
   "outputs": [
    {
     "data": {
      "text/plain": [
       "array([[18, 25, 15, 27],\n",
       "       [ 3, 49, 32, 44]])"
      ]
     },
     "execution_count": 62,
     "metadata": {},
     "output_type": "execute_result"
    }
   ],
   "source": [
    "F = np.concatenate([C,D],1)\n",
    "F"
   ]
  },
  {
   "cell_type": "code",
   "execution_count": null,
   "metadata": {
    "colab": {
     "base_uri": "https://localhost:8080/"
    },
    "id": "VwbbfxqR7mHB",
    "outputId": "9e7c0adc-38b3-413f-dcd5-4a2c369edb06"
   },
   "outputs": [
    {
     "data": {
      "text/plain": [
       "array([[ 1,  2, 11, 22],\n",
       "       [ 3,  4,  3, 47],\n",
       "       [18, 25, 15, 27],\n",
       "       [ 3, 49, 32, 44]])"
      ]
     },
     "execution_count": 64,
     "metadata": {},
     "output_type": "execute_result"
    }
   ],
   "source": [
    "G = np.concatenate([E,F],0)\n",
    "G"
   ]
  },
  {
   "cell_type": "code",
   "execution_count": 3,
   "metadata": {},
   "outputs": [],
   "source": [
    "def matrizDeMatrices(A,B,C,D):\n",
    "    '''\n",
    "    Entrada: \n",
    "    Sale: \n",
    "    '''\n",
    "    E = np.concatenate([A,B],1)\n",
    "    F = np.concatenate([C,D],1)\n",
    "    G = np.concatenate([E,F],0)\n",
    "    return G  "
   ]
  },
  {
   "cell_type": "code",
   "execution_count": 4,
   "metadata": {},
   "outputs": [
    {
     "data": {
      "text/plain": [
       "array([[ 1,  2, 11, 22],\n",
       "       [ 3,  4,  3, 47],\n",
       "       [18, 25, 15, 27],\n",
       "       [ 3, 49, 32, 44]])"
      ]
     },
     "execution_count": 4,
     "metadata": {},
     "output_type": "execute_result"
    }
   ],
   "source": [
    "matrizDeMatrices(A,B,C,D) "
   ]
  },
  {
   "cell_type": "code",
   "execution_count": null,
   "metadata": {},
   "outputs": [],
   "source": []
  }
 ],
 "metadata": {
  "colab": {
   "collapsed_sections": [],
   "name": "Matriz de matrices.ipynb",
   "provenance": []
  },
  "kernelspec": {
   "display_name": "Python 3",
   "language": "python",
   "name": "python3"
  },
  "language_info": {
   "codemirror_mode": {
    "name": "ipython",
    "version": 3
   },
   "file_extension": ".py",
   "mimetype": "text/x-python",
   "name": "python",
   "nbconvert_exporter": "python",
   "pygments_lexer": "ipython3",
   "version": "3.8.8"
  },
  "latex_envs": {
   "LaTeX_envs_menu_present": true,
   "autoclose": false,
   "autocomplete": false,
   "bibliofile": "biblio.bib",
   "cite_by": "apalike",
   "current_citInitial": 1,
   "eqLabelWithNumbers": true,
   "eqNumInitial": 1,
   "hotkeys": {
    "equation": "Ctrl-E",
    "itemize": "Ctrl-I"
   },
   "labels_anchors": false,
   "latex_user_defs": false,
   "report_style_numbering": false,
   "user_envs_cfg": false
  }
 },
 "nbformat": 4,
 "nbformat_minor": 1
}
