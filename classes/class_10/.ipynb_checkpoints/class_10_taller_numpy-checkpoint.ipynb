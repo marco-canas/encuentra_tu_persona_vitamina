{
 "cells": [
  {
   "cell_type": "markdown",
   "id": "6d72be02",
   "metadata": {
    "slideshow": {
     "slide_type": "slide"
    }
   },
   "source": [
    "\n",
    "<table align=\"left\">\n",
    "  <td>\n",
    "    <a href=\"https://colab.research.google.com/github/marco-canas/introducci-n-al-Machine-Learning/blob/main/classes/class_10/class_10_taller_numpy.ipynb\" target=\"_parent\"><img src=\"https://colab.research.google.com/assets/colab-badge.svg\" alt=\"Open In Colab\"/></a>\n",
    "  </td>\n",
    "  <td>\n",
    "    <a target=\"_blank\" href=\"https://kaggle.com/kernels/welcome?src=https://github.com/marco-canas/introducci-n-al-Machine-Learning/blob/main/classes/class_10/class_10_taller_numpy.ipynb\"><img src=\"https://kaggle.com/static/images/open-in-kaggle.svg\" /></a>\n",
    "  </td>\n",
    "</table> \n"
   ]
  },
  {
   "cell_type": "markdown",
   "id": "0eb4e6e4",
   "metadata": {
    "slideshow": {
     "slide_type": "slide"
    }
   },
   "source": [
    "# Clase 10 Taller de Numpy"
   ]
  },
  {
   "cell_type": "markdown",
   "id": "e605c70a",
   "metadata": {
    "slideshow": {
     "slide_type": "slide"
    }
   },
   "source": [
    "# Creación de listas por comprensión"
   ]
  },
  {
   "cell_type": "code",
   "execution_count": null,
   "id": "41115066",
   "metadata": {
    "slideshow": {
     "slide_type": "slide"
    }
   },
   "outputs": [],
   "source": [
    "[i for i in range(5) ]"
   ]
  },
  {
   "cell_type": "markdown",
   "id": "42e10251",
   "metadata": {
    "slideshow": {
     "slide_type": "slide"
    }
   },
   "source": [
    "## Asignación de ejercicios taller 2 sobre NumPy"
   ]
  },
  {
   "cell_type": "code",
   "execution_count": null,
   "id": "9e330931",
   "metadata": {
    "slideshow": {
     "slide_type": "slide"
    }
   },
   "outputs": [],
   "source": [
    "import numpy as np \n",
    "import pandas as pd \n",
    "\n",
    "grupo_intro_ml=pd.read_csv('grupo_intro_ml.csv', sep = ',')  \n",
    "\n",
    "from random import randint \n",
    "\n",
    "np.random.seed(513)\n",
    "\n",
    "lista_ejercicios_asignados = [randint(1,21) for i in range(26)]\n",
    "\n",
    "grupo_intro_ml['Asignación taller 2 NumPy'] = lista_ejercicios_asignados\n",
    "\n",
    "\n"
   ]
  },
  {
   "cell_type": "code",
   "execution_count": null,
   "id": "d16240b9",
   "metadata": {
    "slideshow": {
     "slide_type": "slide"
    }
   },
   "outputs": [],
   "source": [
    "grupo_intro_ml "
   ]
  },
  {
   "cell_type": "markdown",
   "id": "d68fe0f7",
   "metadata": {
    "slideshow": {
     "slide_type": "slide"
    }
   },
   "source": [
    "# Funciones satélite "
   ]
  },
  {
   "cell_type": "markdown",
   "id": "51516436",
   "metadata": {
    "slideshow": {
     "slide_type": "slide"
    }
   },
   "source": [
    "### Para determinar si todos los elementos de una lista son iguales"
   ]
  },
  {
   "cell_type": "code",
   "execution_count": null,
   "id": "c7c68081",
   "metadata": {
    "slideshow": {
     "slide_type": "slide"
    }
   },
   "outputs": [],
   "source": [
    "def todos_son_iguales(lista):\n",
    "    array = np.array(lista)\n",
    "    booleanos = array == array[0]\n",
    "    return booleanos.all() "
   ]
  },
  {
   "cell_type": "markdown",
   "id": "d8ae0dad",
   "metadata": {
    "slideshow": {
     "slide_type": "slide"
    }
   },
   "source": [
    "### Para determinar si una matriz es ciadrada"
   ]
  },
  {
   "cell_type": "code",
   "execution_count": 9,
   "id": "05a06d74",
   "metadata": {
    "slideshow": {
     "slide_type": "slide"
    }
   },
   "outputs": [],
   "source": [
    "def esCuadrada(A):\n",
    "    orden_de_A = np.array(A.shape)        # determinar el orden de la matriz y convertirlo en una matriz de numpy\n",
    "    if todos_son_iguales(A.shape) and len(orden_de_A)>1:\n",
    "        a = True\n",
    "    else:\n",
    "        a=False\n",
    "    return a    \n"
   ]
  },
  {
   "cell_type": "markdown",
   "id": "706ab863",
   "metadata": {
    "slideshow": {
     "slide_type": "slide"
    }
   },
   "source": [
    "### Ejercicio 1 del taller"
   ]
  },
  {
   "cell_type": "markdown",
   "id": "f88751c1",
   "metadata": {
    "slideshow": {
     "slide_type": "slide"
    }
   },
   "source": [
    "Defina la función es `esSimetrica()` que reciba como argumento un array de NumPy (matriz), verifique si es cuadrada y retorne un boleano indicando si la matriz es simétrica o no.\n"
   ]
  },
  {
   "cell_type": "markdown",
   "id": "a0ff316f",
   "metadata": {
    "slideshow": {
     "slide_type": "slide"
    }
   },
   "source": [
    "## Solución"
   ]
  },
  {
   "cell_type": "markdown",
   "id": "c8557aa6",
   "metadata": {
    "slideshow": {
     "slide_type": "slide"
    }
   },
   "source": [
    "### Conceptos asociados al problema"
   ]
  },
  {
   "cell_type": "markdown",
   "id": "f06de41b",
   "metadata": {
    "slideshow": {
     "slide_type": "slide"
    }
   },
   "source": [
    "#### Definición de matriz simétrica"
   ]
  },
  {
   "cell_type": "markdown",
   "id": "53c3ba2c",
   "metadata": {
    "slideshow": {
     "slide_type": "slide"
    }
   },
   "source": [
    "Sea $A = [a_{ij}]$ una matriz cuadrada de orden $n$. Decimos que $A$ es simétrica si $a_{ij} = a_{ji}$ para cada $i,j$ in $1,2,3,\\ldots, n$.  "
   ]
  },
  {
   "cell_type": "markdown",
   "id": "31f0da2c",
   "metadata": {
    "slideshow": {
     "slide_type": "slide"
    }
   },
   "source": [
    "Sea $A = [a_{ij}]$ una matriz cuadrada. Decimos que $A$ es simétrica si $A^{T} = A$.  "
   ]
  },
  {
   "cell_type": "code",
   "execution_count": null,
   "id": "1948842a",
   "metadata": {
    "slideshow": {
     "slide_type": "slide"
    }
   },
   "outputs": [],
   "source": []
  },
  {
   "cell_type": "markdown",
   "id": "c258e9cc",
   "metadata": {
    "slideshow": {
     "slide_type": "slide"
    }
   },
   "source": [
    "### Diseño del algoritmo"
   ]
  },
  {
   "cell_type": "markdown",
   "id": "288feac7",
   "metadata": {
    "slideshow": {
     "slide_type": "slide"
    }
   },
   "source": [
    "1. revise si la matriz es cuadrada.\n",
    "2. de ser cuadrada, revise si los elementos simétricos, con respecto a la diagonal, son iguales.\n",
    "3. de no ser cuadrada, imprima `False`. "
   ]
  },
  {
   "cell_type": "code",
   "execution_count": null,
   "id": "d8902779",
   "metadata": {
    "slideshow": {
     "slide_type": "slide"
    }
   },
   "outputs": [],
   "source": [
    "import numpy as np "
   ]
  },
  {
   "cell_type": "code",
   "execution_count": null,
   "id": "d5ce2e09",
   "metadata": {
    "slideshow": {
     "slide_type": "slide"
    }
   },
   "outputs": [],
   "source": [
    "A = np.array([[1,2,3],[2,4,3]])  "
   ]
  },
  {
   "cell_type": "code",
   "execution_count": null,
   "id": "7d2194ac",
   "metadata": {
    "slideshow": {
     "slide_type": "slide"
    }
   },
   "outputs": [],
   "source": [
    "def es_simetrica(A):\n",
    "    n_columnas = A.shape[0]\n",
    "    n_filas = A.shape[1]\n",
    "    n_coincidencias = 0\n",
    "    if n_columnas == n_filas:\n",
    "        m = n_filas\n",
    "        for i in range(m):\n",
    "            for j in range(m):\n",
    "                if A[i,j] == A[j,i]:\n",
    "                    n_coincidencias +=1 \n",
    "        if n_coincidencias == A.size:\n",
    "            print(True)\n",
    "        else:\n",
    "            print(False) \n",
    "    else:\n",
    "        print(False) \n",
    "        "
   ]
  },
  {
   "cell_type": "code",
   "execution_count": null,
   "id": "c8339f58",
   "metadata": {
    "slideshow": {
     "slide_type": "slide"
    }
   },
   "outputs": [],
   "source": [
    "es_simetrica(A) "
   ]
  },
  {
   "cell_type": "markdown",
   "id": "8f2da1df",
   "metadata": {
    "slideshow": {
     "slide_type": "slide"
    }
   },
   "source": [
    "## Solución alternativa del ejercicios 1"
   ]
  },
  {
   "cell_type": "markdown",
   "id": "5ae76aeb",
   "metadata": {
    "slideshow": {
     "slide_type": "slide"
    }
   },
   "source": [
    "Utilicemos la segunda definición de matriz simétrica para diseñar la función que determina que una matriz es o no simétrica. "
   ]
  },
  {
   "cell_type": "code",
   "execution_count": null,
   "id": "c4b81694",
   "metadata": {
    "slideshow": {
     "slide_type": "slide"
    }
   },
   "outputs": [],
   "source": [
    "def esSimetrica2(A):\n",
    "    import numpy as np \n",
    "    if all(A.shape):\n",
    "        m = A.shape[0]\n",
    "        B = A - A.T\n",
    "        if not(B.all()):\n",
    "            print(True)\n",
    "        else:\n",
    "            print(False)\n",
    "    else:\n",
    "        print(False) "
   ]
  },
  {
   "cell_type": "code",
   "execution_count": null,
   "id": "4b534c2c",
   "metadata": {
    "slideshow": {
     "slide_type": "subslide"
    }
   },
   "outputs": [],
   "source": [
    "import numpy as np \n",
    "A = np.array([[1,2],[2,4]])\n",
    "esSimetrica2(A)"
   ]
  },
  {
   "cell_type": "code",
   "execution_count": null,
   "id": "ecb01934",
   "metadata": {
    "slideshow": {
     "slide_type": "slide"
    }
   },
   "outputs": [],
   "source": [
    "B=np.array([[1,1],[1,1]]) \n",
    "not(B.all())"
   ]
  },
  {
   "cell_type": "markdown",
   "id": "1b824331",
   "metadata": {
    "slideshow": {
     "slide_type": "slide"
    }
   },
   "source": [
    "# Ejercicio 3 del Taller 2 NumPy"
   ]
  },
  {
   "cell_type": "markdown",
   "id": "a9b7ad3b",
   "metadata": {
    "slideshow": {
     "slide_type": "slide"
    }
   },
   "source": [
    "Defina la función `esTriangularSuperior()` que reciba como argumento un array de NumPy (matriz) y retorne un boleano indicando si la matriz es triangular superior o no.\n"
   ]
  },
  {
   "cell_type": "markdown",
   "id": "000b454f",
   "metadata": {
    "slideshow": {
     "slide_type": "slide"
    }
   },
   "source": [
    "## Solución"
   ]
  },
  {
   "cell_type": "markdown",
   "id": "0612017a",
   "metadata": {
    "slideshow": {
     "slide_type": "slide"
    }
   },
   "source": [
    "### Definición de matriz triangular superior"
   ]
  },
  {
   "cell_type": "markdown",
   "id": "aa67db2e",
   "metadata": {
    "slideshow": {
     "slide_type": "slide"
    }
   },
   "source": [
    "Sea $A = [a_{ij}]$ una matriz cuadrada de orden $n$. Decimos que $A$ es una matriz triangular superior si $a_{ij} = 0$, siempre que $i > j$. "
   ]
  },
  {
   "cell_type": "code",
   "execution_count": 19,
   "id": "7660ba26",
   "metadata": {},
   "outputs": [],
   "source": [
    "def todos_son_iguales(lista):\n",
    "    array = np.array(lista)\n",
    "    booleanos = array == array[0]\n",
    "    return booleanos.all() "
   ]
  },
  {
   "cell_type": "code",
   "execution_count": 20,
   "id": "2b7a605b",
   "metadata": {
    "slideshow": {
     "slide_type": "slide"
    }
   },
   "outputs": [],
   "source": [
    "def esCuadrada(A):\n",
    "    orden_de_A = np.array(A.shape)        # determinar el orden de la matriz y convertirlo en una matriz de numpy\n",
    "    if todos_son_iguales(A.shape) and len(orden_de_A)>1:\n",
    "        a = True\n",
    "    else:\n",
    "        a = False\n",
    "    return a    \n"
   ]
  },
  {
   "cell_type": "code",
   "execution_count": 21,
   "id": "f3a905b6",
   "metadata": {
    "slideshow": {
     "slide_type": "slide"
    }
   },
   "outputs": [],
   "source": [
    "def esTriangularSuperior(A):\n",
    "    n_columnas = A.shape[1]\n",
    "    if esCuadrada(A):\n",
    "        lista_elementos_debajo_diag = [A[i,j] for j in range(n_columnas) for i in range(n_columnas) if i > j]\n",
    "        if not(all(lista_elementos_debajo_diag)):\n",
    "            print(True)\n",
    "        else:\n",
    "            print(False)"
   ]
  },
  {
   "cell_type": "code",
   "execution_count": 23,
   "id": "c31ed2c5",
   "metadata": {
    "scrolled": true,
    "slideshow": {
     "slide_type": "slide"
    }
   },
   "outputs": [
    {
     "name": "stdout",
     "output_type": "stream",
     "text": [
      "True\n"
     ]
    }
   ],
   "source": [
    "import numpy as np \n",
    "A = np.array([[1,2],[0,4]]) \n",
    "n_columnas = A.shape[1]\n",
    "lista_elementos_debajo_diag = [A[i,j] for j in range(n_columnas) for i in range(n_columnas) if i > j]\n",
    "esTriangularSuperior(A)"
   ]
  },
  {
   "cell_type": "markdown",
   "id": "a376eda9",
   "metadata": {
    "slideshow": {
     "slide_type": "slide"
    }
   },
   "source": [
    "# Ejercicio 5 del taller 2 NumPy"
   ]
  },
  {
   "cell_type": "markdown",
   "id": "8c818196",
   "metadata": {
    "slideshow": {
     "slide_type": "slide"
    }
   },
   "source": [
    "Defina la función `esDiagonal()` que reciba como argumento un array de NumPy (matriz), verifique si es cuadrada y retorne un boleano indicando si la matriz es diagonal o no."
   ]
  },
  {
   "cell_type": "code",
   "execution_count": null,
   "id": "4d8d3fd6",
   "metadata": {
    "slideshow": {
     "slide_type": "slide"
    }
   },
   "outputs": [],
   "source": [
    "def esDiagonal(A):\n",
    "    if esCuadrada(A)==True:\n",
    "        if esTriangularSuperior(A) and esTriengularSuperior(A.T):\n",
    "            print(True)\n",
    "        else:\n",
    "            print(False) \n",
    "    else:\n",
    "        print(False)"
   ]
  },
  {
   "cell_type": "code",
   "execution_count": null,
   "id": "d65ed006",
   "metadata": {
    "slideshow": {
     "slide_type": "slide"
    }
   },
   "outputs": [],
   "source": [
    "import numpy as np \n",
    "A = np.array([[1,2],[3,4]])\n",
    "esDiagonal(A)"
   ]
  },
  {
   "cell_type": "markdown",
   "id": "2416b367",
   "metadata": {
    "slideshow": {
     "slide_type": "slide"
    }
   },
   "source": [
    "# Ejercicio 6 de taller 2 NumPy"
   ]
  },
  {
   "cell_type": "markdown",
   "id": "858d3a2f",
   "metadata": {
    "slideshow": {
     "slide_type": "slide"
    }
   },
   "source": [
    "Defina la función `esIdentidad()` que reciba como argumento un array de NumPy (matriz), verifique si es cuadrada y retorne un boleano indicando si la matriz es una identidad o no.\n"
   ]
  },
  {
   "cell_type": "code",
   "execution_count": null,
   "id": "c29c5c60",
   "metadata": {
    "slideshow": {
     "slide_type": "slide"
    }
   },
   "outputs": [],
   "source": [
    "def elementos_diagonal(A):     # para esta función A es una matriz cuadrada\n",
    "    diagonal = [A[i,i] for i in range(A.shape[0])]\n",
    "    return diagonal "
   ]
  },
  {
   "cell_type": "code",
   "execution_count": null,
   "id": "590b4a2e",
   "metadata": {
    "slideshow": {
     "slide_type": "slide"
    }
   },
   "outputs": [],
   "source": [
    "import numpy as np \n",
    "A = np.eye(2, dtype = int)\n",
    "elementos_diagonal(A) "
   ]
  },
  {
   "cell_type": "code",
   "execution_count": null,
   "id": "8e9383b4",
   "metadata": {
    "slideshow": {
     "slide_type": "slide"
    }
   },
   "outputs": [],
   "source": [
    "def elementos_fuera_diagonal(A):     # para esta función A es una matriz cuadrada\n",
    "    not_diagonal = [A[i,j] for i in range(A.shape[0]) for j in range(A.shape[0]) if i!=j] \n",
    "    return not_diagonal "
   ]
  },
  {
   "cell_type": "code",
   "execution_count": null,
   "id": "9cabe3ae",
   "metadata": {
    "slideshow": {
     "slide_type": "slide"
    }
   },
   "outputs": [],
   "source": [
    "import numpy as np \n",
    "A = np.eye(2, dtype = int)\n",
    "elementos_fuera_diagonal(A) "
   ]
  },
  {
   "cell_type": "code",
   "execution_count": null,
   "id": "56c81e9d",
   "metadata": {
    "slideshow": {
     "slide_type": "slide"
    }
   },
   "outputs": [],
   "source": [
    "def esIdentidad(A):\n",
    "    if all(elementos_diagonal(A)) and not(all(elementos_fuera_diagonal(A))):\n",
    "        print(True)\n",
    "    else:\n",
    "        print(False) "
   ]
  },
  {
   "cell_type": "code",
   "execution_count": null,
   "id": "31a559e1",
   "metadata": {
    "slideshow": {
     "slide_type": "slide"
    }
   },
   "outputs": [],
   "source": [
    "import numpy as np \n",
    "A = np.array([[1,2],[3,4]], dtype = int)\n",
    "esIdentidad(A) "
   ]
  },
  {
   "cell_type": "markdown",
   "id": "6b37886b",
   "metadata": {
    "slideshow": {
     "slide_type": "slide"
    }
   },
   "source": [
    "# Ejercicio 8 del Taller 2 NumPy"
   ]
  },
  {
   "cell_type": "markdown",
   "id": "0350e132",
   "metadata": {
    "slideshow": {
     "slide_type": "slide"
    }
   },
   "source": [
    "Defina la función `esOrtogonal()` que reciba como argumento un array de NumPy (matriz), verifique si es cuadrada y retorne un boleano indicando si la matriz es una ortogonal o no."
   ]
  },
  {
   "cell_type": "markdown",
   "id": "e0a1e7bc",
   "metadata": {
    "slideshow": {
     "slide_type": "slide"
    }
   },
   "source": [
    "## Solución"
   ]
  },
  {
   "cell_type": "markdown",
   "id": "84d37233",
   "metadata": {
    "slideshow": {
     "slide_type": "slide"
    }
   },
   "source": [
    "**Definición 1 de matriz ortogonal**\n",
    "\n",
    "Sea $A$ una matriz cuadrada. Decimos que $A$ es ortogonal si sus columnas son ortogonales dos a dos y cada una es de norma uno."
   ]
  },
  {
   "cell_type": "markdown",
   "id": "92041750",
   "metadata": {
    "slideshow": {
     "slide_type": "slide"
    }
   },
   "source": [
    "**Definición 2 de matriz ortogonal**  \n",
    "\n",
    "Sea A una matriz cuadrada. Decimos que $A$ es ortogonal si $A^{-1} = A^{T}$. "
   ]
  },
  {
   "cell_type": "code",
   "execution_count": null,
   "id": "34838789",
   "metadata": {
    "slideshow": {
     "slide_type": "slide"
    }
   },
   "outputs": [],
   "source": [
    "def todos_son_iguales(lista):\n",
    "    array = np.array(lista)\n",
    "    booleanos = array == array[0]\n",
    "    return booleanos.all() "
   ]
  },
  {
   "cell_type": "code",
   "execution_count": null,
   "id": "3a97b1eb",
   "metadata": {
    "slideshow": {
     "slide_type": "slide"
    }
   },
   "outputs": [],
   "source": [
    "lista = [3,3]\n",
    "todos_son_iguales(lista)"
   ]
  },
  {
   "cell_type": "code",
   "execution_count": null,
   "id": "41567b4a",
   "metadata": {
    "slideshow": {
     "slide_type": "slide"
    }
   },
   "outputs": [],
   "source": [
    "def esCuadrada(A):\n",
    "    orden_de_A = np.array(A.shape)        # determinar el orden de la matriz y convertirlo en una matriz de numpy\n",
    "    if todos_son_iguales(A.shape) and len(orden_de_A)>1:\n",
    "        print(True)\n",
    "    else:\n",
    "        print(False)\n"
   ]
  },
  {
   "cell_type": "code",
   "execution_count": null,
   "id": "b7fb504d",
   "metadata": {
    "slideshow": {
     "slide_type": "slide"
    }
   },
   "outputs": [],
   "source": [
    "import numpy as np \n",
    "A = np.array([[1],[3]])\n",
    "esCuadrada(A) "
   ]
  },
  {
   "cell_type": "markdown",
   "id": "c68d0fed",
   "metadata": {
    "slideshow": {
     "slide_type": "slide"
    }
   },
   "source": [
    "**Conclusiones importantes de este ejercicio**\n",
    "\n",
    "* Aplicar operadores lógicos de comparación a un arreglo de numpy, crea un arreglo de numpy de valores booleanos. "
   ]
  },
  {
   "cell_type": "code",
   "execution_count": null,
   "id": "4b0e1b67",
   "metadata": {
    "slideshow": {
     "slide_type": "slide"
    }
   },
   "outputs": [],
   "source": [
    "def todos_las_columnas_son_ortogonales(A):  # En esta función A es una matriz cuadrada \n",
    "    n_columnas = A.shape[1]\n",
    "    son_ortogonales = True\n",
    "    vectores_columna = [A[:,j] for j in range(n_columnas)] \n",
    "    \n",
    "    for i in range(n_columnas):\n",
    "        for j in range(i+1,n_columnas):\n",
    "            if vectores_columna[i].dot(vectores_columna[j])==0:\n",
    "                pass\n",
    "            else:\n",
    "                son_ortogonales*=False\n",
    "    print(son_ortogonales)     \n",
    "    "
   ]
  },
  {
   "cell_type": "code",
   "execution_count": null,
   "id": "f69b1814",
   "metadata": {
    "slideshow": {
     "slide_type": "slide"
    }
   },
   "outputs": [],
   "source": [
    "import numpy as np \n",
    "A = np.array([[1,1],[0,1]]) \n",
    "todos_las_columnas_son_ortogonales(A) "
   ]
  },
  {
   "cell_type": "code",
   "execution_count": null,
   "id": "07c170e8",
   "metadata": {
    "slideshow": {
     "slide_type": "slide"
    }
   },
   "outputs": [],
   "source": [
    "def todos_las_columnas_son_unitarias(A):\n",
    "    son_unitarias = True\n",
    "    lista_columnas = [A[:,j] for j in range(A.shape[1]) ]\n",
    "    for columna in lista_columnas:\n",
    "        if np.linalg.norm(columna)==1.0:\n",
    "            pass\n",
    "        else:\n",
    "            son_unitarias = False \n",
    "    print(son_unitarias)        "
   ]
  },
  {
   "cell_type": "code",
   "execution_count": null,
   "id": "ef1bbc1b",
   "metadata": {
    "slideshow": {
     "slide_type": "slide"
    }
   },
   "outputs": [],
   "source": [
    "import numpy as np \n",
    "A = np.eye(2)\n",
    "todos_las_columnas_son_unitarias(A) "
   ]
  },
  {
   "cell_type": "code",
   "execution_count": null,
   "id": "c03a20de",
   "metadata": {
    "slideshow": {
     "slide_type": "slide"
    }
   },
   "outputs": [],
   "source": [
    "def esOrtogonal(A):\n",
    "    if todos_las_columnas_son_ortogonales(A) and todos_las_columnas_son_unitarias(A):\n",
    "        print(True)\n",
    "    else:\n",
    "        print(False)"
   ]
  },
  {
   "cell_type": "code",
   "execution_count": null,
   "id": "b922984d",
   "metadata": {
    "slideshow": {
     "slide_type": "slide"
    }
   },
   "outputs": [],
   "source": [
    "import numpy as np \n",
    "A = np.eye(2)\n",
    "esOrtogonal(A) "
   ]
  },
  {
   "cell_type": "code",
   "execution_count": null,
   "id": "8fc2597e",
   "metadata": {
    "slideshow": {
     "slide_type": "slide"
    }
   },
   "outputs": [],
   "source": [
    "todos_las_columnas_son_ortogonales(A)"
   ]
  },
  {
   "cell_type": "code",
   "execution_count": null,
   "id": "a9a86253",
   "metadata": {
    "slideshow": {
     "slide_type": "slide"
    }
   },
   "outputs": [],
   "source": [
    "todos_las_columnas_son_unitarias(A)"
   ]
  },
  {
   "cell_type": "code",
   "execution_count": null,
   "id": "8f7f02bc",
   "metadata": {
    "slideshow": {
     "slide_type": "slide"
    }
   },
   "outputs": [],
   "source": [
    "if todos_las_columnas_son_ortogonales(A) and todos_las_columnas_son_unitarias(A):\n",
    "        print(True)\n",
    "else:\n",
    "    print(False)"
   ]
  },
  {
   "cell_type": "markdown",
   "id": "7549df40",
   "metadata": {
    "slideshow": {
     "slide_type": "slide"
    }
   },
   "source": [
    "# Ejercicio 9 del Taller 2 NumPy"
   ]
  },
  {
   "cell_type": "markdown",
   "id": "b747afe2",
   "metadata": {
    "slideshow": {
     "slide_type": "slide"
    }
   },
   "source": [
    "Defina la función `sonOrtogonales()` que reciba como argumentos dos arrays o vectores, verifique que tienen la misma cantidad de elementos y retorne booleano indicando si los vectores son ortogonales o no.\n"
   ]
  },
  {
   "cell_type": "code",
   "execution_count": 26,
   "id": "d36668b3",
   "metadata": {
    "slideshow": {
     "slide_type": "slide"
    }
   },
   "outputs": [],
   "source": [
    "def sonOrtogonales(a,b):\n",
    "    '''\n",
    "    input = \n",
    "    output = \n",
    "    '''\n",
    "    if a.size==b.size:\n",
    "        if a.dot(b)==0.0:\n",
    "            print(True)\n",
    "        else:\n",
    "            print(False)\n",
    "     "
   ]
  },
  {
   "cell_type": "code",
   "execution_count": 28,
   "id": "0e121160",
   "metadata": {
    "slideshow": {
     "slide_type": "slide"
    }
   },
   "outputs": [
    {
     "name": "stdout",
     "output_type": "stream",
     "text": [
      "False\n"
     ]
    }
   ],
   "source": [
    "import numpy as np \n",
    "a = np.array([1,2])\n",
    "b = np.array([2,1])\n",
    "sonOrtogonales(a,b)"
   ]
  },
  {
   "cell_type": "markdown",
   "id": "922caefa",
   "metadata": {
    "slideshow": {
     "slide_type": "slide"
    }
   },
   "source": [
    "# Ejercicio 11 del Taller 2 NumPy "
   ]
  },
  {
   "cell_type": "markdown",
   "id": "edc65b07",
   "metadata": {
    "slideshow": {
     "slide_type": "slide"
    }
   },
   "source": [
    "Defina la función elevar() que tenga como entradas una matriz A y un entero positivo n, verifique que es cuadrada y retorne la matriz An."
   ]
  },
  {
   "cell_type": "code",
   "execution_count": 30,
   "id": "37e16b85",
   "metadata": {
    "slideshow": {
     "slide_type": "slide"
    }
   },
   "outputs": [],
   "source": [
    "def elevar(A,n):\n",
    "    pass "
   ]
  },
  {
   "cell_type": "code",
   "execution_count": null,
   "id": "90439cea",
   "metadata": {
    "slideshow": {
     "slide_type": "slide"
    }
   },
   "outputs": [],
   "source": []
  },
  {
   "cell_type": "markdown",
   "id": "592b45a4",
   "metadata": {
    "slideshow": {
     "slide_type": "slide"
    }
   },
   "source": [
    "# Ejercicio 13 Taller 2 NumPy"
   ]
  },
  {
   "cell_type": "markdown",
   "id": "ae8b88bb",
   "metadata": {
    "slideshow": {
     "slide_type": "slide"
    }
   },
   "source": [
    "Defina la función `matrizVandermonde()` que tenga como argumentos un array o vector $x = (x0, x1, ..., xm−1)$ y un entero positivo $d$ y que retorne la matriz $V = [vij ]m×(d+1)$ de tal manera que $vij = x j i$ para $0 ≤ i ≤ m − 1$ y $0 ≤ j ≤ d$."
   ]
  },
  {
   "cell_type": "code",
   "execution_count": 31,
   "id": "5a6cf84a",
   "metadata": {
    "slideshow": {
     "slide_type": "slide"
    }
   },
   "outputs": [],
   "source": [
    "def matrizVandermonde(A,v):\n",
    "    pass "
   ]
  },
  {
   "cell_type": "markdown",
   "id": "f640cedf",
   "metadata": {
    "slideshow": {
     "slide_type": "slide"
    }
   },
   "source": [
    "# Ejercicio 14 Taller 2 NumPy"
   ]
  },
  {
   "cell_type": "markdown",
   "id": "9ed27f9f",
   "metadata": {
    "slideshow": {
     "slide_type": "slide"
    }
   },
   "source": [
    "Defina la función `matrizDeMatrices(Am×n, Bm×p, Cr×n, Dr×p)` que tenga como argumentos las cuatro matrices indicadas con sus respectivos órdenes\n",
    "y que retorne la matriz M(m+r)×(n+p) =\n",
    "\u0014\n",
    "Am×n Bm×p\n",
    "Cr×n Dr×p"
   ]
  },
  {
   "cell_type": "code",
   "execution_count": null,
   "id": "dcfe2c73",
   "metadata": {
    "slideshow": {
     "slide_type": "slide"
    }
   },
   "outputs": [],
   "source": [
    "def matrizDeMatrices(A,B,C,D):\n",
    "    '''\n",
    "    input: A es de orden mxn, \n",
    "    B es de orden mxp\n",
    "    C de rxn \n",
    "    D de rxp\n",
    "    '''\n",
    "    pass "
   ]
  },
  {
   "cell_type": "code",
   "execution_count": null,
   "id": "626d8b4f",
   "metadata": {
    "slideshow": {
     "slide_type": "slide"
    }
   },
   "outputs": [],
   "source": []
  },
  {
   "cell_type": "markdown",
   "id": "d8ed0663",
   "metadata": {
    "slideshow": {
     "slide_type": "slide"
    }
   },
   "source": [
    "# Ejercicio 21 del Taller 2 NumPy"
   ]
  },
  {
   "cell_type": "markdown",
   "id": "c0a2746d",
   "metadata": {
    "slideshow": {
     "slide_type": "slide"
    }
   },
   "source": [
    "Defina una función `MatrizCircular([b, c, d, ..., h])` que reciba como argumento una lista con n valores `[b, c, d, ..., h]` y retorne la matriz circular en la forma: \n",
    "\n",
    "$$ C_{n \\times n} = \\begin{bmatrix} b & c & \\cdots & h \\\\\n",
    "&&&\\end{bmatrix}   \\nonumber $$\n",
    " "
   ]
  },
  {
   "cell_type": "code",
   "execution_count": null,
   "id": "410072d8",
   "metadata": {
    "slideshow": {
     "slide_type": "slide"
    }
   },
   "outputs": [],
   "source": []
  },
  {
   "cell_type": "code",
   "execution_count": null,
   "id": "f2ede7ac",
   "metadata": {
    "slideshow": {
     "slide_type": "slide"
    }
   },
   "outputs": [],
   "source": []
  },
  {
   "cell_type": "code",
   "execution_count": null,
   "id": "c6f7e4b8",
   "metadata": {},
   "outputs": [],
   "source": []
  },
  {
   "cell_type": "code",
   "execution_count": null,
   "id": "55ca75c1",
   "metadata": {},
   "outputs": [],
   "source": []
  },
  {
   "cell_type": "markdown",
   "id": "b6d15e3b",
   "metadata": {
    "slideshow": {
     "slide_type": "slide"
    }
   },
   "source": [
    "## Referentes  \n",
    "\n",
    "* Python `all()` Function https://www.w3schools.com/python/ref_func_all.asp\n",
    "\n",
    "* `.all()` el método de NumPy. \n",
    "\n",
    "* `any()` Función de librería stándar de Python\n",
    "\n",
    "* `.any()` Función de NumPy\n",
    "\n",
    "* `not` el operador lógico de negación de Python: https://www.w3schools.com/python/gloss_python_logical_operators.asp\n",
    "\n",
    "* Creación de listas de Python por cemprensión: https://www.tutorialsteacher.com/python/python-list-comprehension\n"
   ]
  },
  {
   "cell_type": "markdown",
   "id": "dda361cb",
   "metadata": {
    "slideshow": {
     "slide_type": "slide"
    }
   },
   "source": [
    "# The `.ravel()` function of NumPy"
   ]
  },
  {
   "cell_type": "code",
   "execution_count": null,
   "id": "f1469007",
   "metadata": {
    "slideshow": {
     "slide_type": "slide"
    }
   },
   "outputs": [],
   "source": [
    "import numpy as np \n",
    "A = np.array([[1],[2]])"
   ]
  },
  {
   "cell_type": "code",
   "execution_count": null,
   "id": "e1d332d0",
   "metadata": {
    "slideshow": {
     "slide_type": "slide"
    }
   },
   "outputs": [],
   "source": [
    "A.ndim"
   ]
  },
  {
   "cell_type": "code",
   "execution_count": null,
   "id": "36a5b61f",
   "metadata": {
    "slideshow": {
     "slide_type": "slide"
    }
   },
   "outputs": [],
   "source": [
    "A = A.ravel()"
   ]
  },
  {
   "cell_type": "code",
   "execution_count": null,
   "id": "08f1d1a8",
   "metadata": {
    "slideshow": {
     "slide_type": "slide"
    }
   },
   "outputs": [],
   "source": [
    "A.ndim "
   ]
  },
  {
   "cell_type": "code",
   "execution_count": null,
   "id": "3f84c2d9",
   "metadata": {
    "slideshow": {
     "slide_type": "slide"
    }
   },
   "outputs": [],
   "source": []
  }
 ],
 "metadata": {
  "celltoolbar": "Slideshow",
  "kernelspec": {
   "display_name": "Python 3",
   "language": "python",
   "name": "python3"
  },
  "language_info": {
   "codemirror_mode": {
    "name": "ipython",
    "version": 3
   },
   "file_extension": ".py",
   "mimetype": "text/x-python",
   "name": "python",
   "nbconvert_exporter": "python",
   "pygments_lexer": "ipython3",
   "version": "3.8.8"
  },
  "latex_envs": {
   "LaTeX_envs_menu_present": true,
   "autoclose": false,
   "autocomplete": false,
   "bibliofile": "biblio.bib",
   "cite_by": "apalike",
   "current_citInitial": 1,
   "eqLabelWithNumbers": true,
   "eqNumInitial": 1,
   "hotkeys": {
    "equation": "Ctrl-E",
    "itemize": "Ctrl-I"
   },
   "labels_anchors": false,
   "latex_user_defs": false,
   "report_style_numbering": false,
   "user_envs_cfg": false
  }
 },
 "nbformat": 4,
 "nbformat_minor": 5
}
