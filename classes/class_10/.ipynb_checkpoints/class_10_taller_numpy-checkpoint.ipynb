{
 "cells": [
  {
   "cell_type": "markdown",
   "id": "6d72be02",
   "metadata": {
    "slideshow": {
     "slide_type": "slide"
    }
   },
   "source": [
    "\n",
    "<table align=\"left\">\n",
    "  <td>\n",
    "    <a href=\"https://colab.research.google.com/github/marco-canas/introducci-n-al-Machine-Learning/blob/main/classes/class_10/class_10_taller_numpy.ipynb\" target=\"_parent\"><img src=\"https://colab.research.google.com/assets/colab-badge.svg\" alt=\"Open In Colab\"/></a>\n",
    "  </td>\n",
    "  <td>\n",
    "    <a target=\"_blank\" href=\"https://kaggle.com/kernels/welcome?src=https://github.com/marco-canas/introducci-n-al-Machine-Learning/blob/main/classes/class_10/class_10_taller_numpy.ipynb\"><img src=\"https://kaggle.com/static/images/open-in-kaggle.svg\" /></a>\n",
    "  </td>\n",
    "</table> \n"
   ]
  },
  {
   "cell_type": "markdown",
   "id": "0eb4e6e4",
   "metadata": {
    "slideshow": {
     "slide_type": "slide"
    }
   },
   "source": [
    "# Clase 10 Taller de Numpy"
   ]
  },
  {
   "cell_type": "markdown",
   "id": "e605c70a",
   "metadata": {
    "slideshow": {
     "slide_type": "slide"
    }
   },
   "source": [
    "# Creación de listas por comprensión"
   ]
  },
  {
   "cell_type": "code",
   "execution_count": null,
   "id": "41115066",
   "metadata": {
    "slideshow": {
     "slide_type": "slide"
    }
   },
   "outputs": [],
   "source": [
    "[2*i for i in range(5) ]"
   ]
  },
  {
   "cell_type": "code",
   "execution_count": null,
   "id": "0609c72d",
   "metadata": {
    "slideshow": {
     "slide_type": "slide"
    }
   },
   "outputs": [],
   "source": [
    "[]"
   ]
  },
  {
   "cell_type": "code",
   "execution_count": null,
   "id": "ce2e28f0",
   "metadata": {
    "slideshow": {
     "slide_type": "slide"
    }
   },
   "outputs": [],
   "source": [
    "[i+j for i in range(1,3) for j in range(1,3) if i > j]"
   ]
  },
  {
   "cell_type": "markdown",
   "id": "42e10251",
   "metadata": {
    "slideshow": {
     "slide_type": "slide"
    }
   },
   "source": [
    "## Asignación de ejercicios taller 2 sobre NumPy"
   ]
  },
  {
   "cell_type": "code",
   "execution_count": null,
   "id": "9e330931",
   "metadata": {
    "slideshow": {
     "slide_type": "slide"
    }
   },
   "outputs": [],
   "source": [
    "import numpy as np \n",
    "import pandas as pd \n",
    "\n",
    "grupo_intro_ml=pd.read_csv('grupo_intro_ml.csv', sep = ',')  \n",
    "\n",
    "from random import randint \n",
    "\n",
    "np.random.seed(513)\n",
    "\n",
    "lista_ejercicios_asignados = [randint(1,21) for i in range(26)]\n",
    "\n",
    "grupo_intro_ml['Asignación taller 2 NumPy'] = lista_ejercicios_asignados\n",
    "\n",
    "\n"
   ]
  },
  {
   "cell_type": "code",
   "execution_count": null,
   "id": "d16240b9",
   "metadata": {
    "slideshow": {
     "slide_type": "slide"
    }
   },
   "outputs": [],
   "source": [
    "grupo_intro_ml "
   ]
  },
  {
   "cell_type": "markdown",
   "id": "b224e91f",
   "metadata": {
    "slideshow": {
     "slide_type": "slide"
    }
   },
   "source": [
    "# Funciones satélite o funciones auxiliares para las ejercicios del taller 2 NumPy"
   ]
  },
  {
   "cell_type": "markdown",
   "id": "ae4a0abd",
   "metadata": {
    "slideshow": {
     "slide_type": "slide"
    }
   },
   "source": [
    "### Para determinar si todos los elementos de una lista son iguales"
   ]
  },
  {
   "cell_type": "code",
   "execution_count": 4,
   "id": "0fd85da8",
   "metadata": {
    "slideshow": {
     "slide_type": "slide"
    }
   },
   "outputs": [],
   "source": [
    "def todos_son_iguales(lista):\n",
    "    array = np.array(lista)\n",
    "    booleanos = array == array[0]\n",
    "    return booleanos.all() "
   ]
  },
  {
   "cell_type": "markdown",
   "id": "ffbbf38f",
   "metadata": {
    "slideshow": {
     "slide_type": "slide"
    }
   },
   "source": [
    "### Para determinar si una matriz es ciadrada"
   ]
  },
  {
   "cell_type": "code",
   "execution_count": 5,
   "id": "5ca5cb18",
   "metadata": {
    "slideshow": {
     "slide_type": "slide"
    }
   },
   "outputs": [],
   "source": [
    "def esCuadrada(A):\n",
    "    orden_de_A = np.array(A.shape)        # determinar el orden de la matriz y convertirlo en una matriz de numpy\n",
    "    if todos_son_iguales(A.shape) and len(orden_de_A)>1:\n",
    "        a = True\n",
    "    else:\n",
    "        a = False\n",
    "    return a    \n",
    "       \n"
   ]
  },
  {
   "cell_type": "code",
   "execution_count": null,
   "id": "b9b81c52",
   "metadata": {},
   "outputs": [],
   "source": [
    "import numpy as np \n",
    "A = np.array([1,2,3])  \n",
    "esCuadrada(A) \n"
   ]
  },
  {
   "cell_type": "markdown",
   "id": "706ab863",
   "metadata": {
    "slideshow": {
     "slide_type": "slide"
    }
   },
   "source": [
    "### Ejercicio 1 del taller"
   ]
  },
  {
   "cell_type": "markdown",
   "id": "f88751c1",
   "metadata": {
    "slideshow": {
     "slide_type": "slide"
    }
   },
   "source": [
    "Defina la función es `esSimetrica()` que reciba como argumento un array de NumPy (matriz), verifique si es cuadrada y retorne un boleano indicando si la matriz es simétrica o no.\n"
   ]
  },
  {
   "cell_type": "markdown",
   "id": "a0ff316f",
   "metadata": {
    "slideshow": {
     "slide_type": "slide"
    }
   },
   "source": [
    "## Solución"
   ]
  },
  {
   "cell_type": "markdown",
   "id": "c8557aa6",
   "metadata": {
    "slideshow": {
     "slide_type": "slide"
    }
   },
   "source": [
    "### Conceptos asociados al problema"
   ]
  },
  {
   "cell_type": "markdown",
   "id": "f06de41b",
   "metadata": {
    "slideshow": {
     "slide_type": "slide"
    }
   },
   "source": [
    "#### Definición de matriz simétrica"
   ]
  },
  {
   "cell_type": "markdown",
   "id": "53c3ba2c",
   "metadata": {
    "slideshow": {
     "slide_type": "slide"
    }
   },
   "source": [
    "Sea $A = [a_{ij}]$ una matriz cuadrada de orden $n$. Decimos que $A$ es simétrica si $a_{ij} = a_{ji}$ para cada $i,j$ in $1,2,3,\\ldots, n$.  "
   ]
  },
  {
   "cell_type": "markdown",
   "id": "31f0da2c",
   "metadata": {
    "slideshow": {
     "slide_type": "slide"
    }
   },
   "source": [
    "Sea $A = [a_{ij}]$ una matriz cuadrada. Decimos que $A$ es simétrica si $A^{T} = A$.  "
   ]
  },
  {
   "cell_type": "markdown",
   "id": "c258e9cc",
   "metadata": {
    "slideshow": {
     "slide_type": "slide"
    }
   },
   "source": [
    "### Diseño del algoritmo"
   ]
  },
  {
   "cell_type": "markdown",
   "id": "288feac7",
   "metadata": {
    "slideshow": {
     "slide_type": "slide"
    }
   },
   "source": [
    "1. revise si la matriz es cuadrada.\n",
    "2. de ser cuadrada, revise si los elementos simétricos, con respecto a la diagonal, son iguales.\n",
    "3. de no ser cuadrada, imprima `False`. "
   ]
  },
  {
   "cell_type": "code",
   "execution_count": null,
   "id": "d8902779",
   "metadata": {
    "slideshow": {
     "slide_type": "slide"
    }
   },
   "outputs": [],
   "source": [
    "import numpy as np "
   ]
  },
  {
   "cell_type": "code",
   "execution_count": null,
   "id": "d5ce2e09",
   "metadata": {
    "slideshow": {
     "slide_type": "slide"
    }
   },
   "outputs": [],
   "source": [
    "A = np.array([[1,2,3],[2,4,3]])  "
   ]
  },
  {
   "cell_type": "code",
   "execution_count": null,
   "id": "7d2194ac",
   "metadata": {
    "slideshow": {
     "slide_type": "slide"
    }
   },
   "outputs": [],
   "source": [
    "def es_simetrica(A):\n",
    "    n_columnas = A.shape[0]\n",
    "    n_filas = A.shape[1]\n",
    "    n_coincidencias = 0\n",
    "    if n_columnas == n_filas:\n",
    "        m = n_filas\n",
    "        for i in range(m):\n",
    "            for j in range(m):\n",
    "                if A[i,j] == A[j,i]:\n",
    "                    n_coincidencias +=1 \n",
    "        if n_coincidencias == A.size:\n",
    "            print(True)\n",
    "        else:\n",
    "            print(False) \n",
    "    else:\n",
    "        print(False) \n",
    "        "
   ]
  },
  {
   "cell_type": "code",
   "execution_count": null,
   "id": "c8339f58",
   "metadata": {
    "slideshow": {
     "slide_type": "slide"
    }
   },
   "outputs": [],
   "source": [
    "es_simetrica(A) "
   ]
  },
  {
   "cell_type": "markdown",
   "id": "8f2da1df",
   "metadata": {
    "slideshow": {
     "slide_type": "slide"
    }
   },
   "source": [
    "## Solución alternativa del ejercicios 1"
   ]
  },
  {
   "cell_type": "markdown",
   "id": "5ae76aeb",
   "metadata": {
    "slideshow": {
     "slide_type": "slide"
    }
   },
   "source": [
    "Utilicemos la segunda definición de matriz simétrica para diseñar la función que determina que una matriz es o no simétrica. "
   ]
  },
  {
   "cell_type": "code",
   "execution_count": 12,
   "id": "c4b81694",
   "metadata": {
    "slideshow": {
     "slide_type": "slide"
    }
   },
   "outputs": [],
   "source": [
    "def esSimetrica2(A):\n",
    "    import numpy as np \n",
    "    if esCuadrada(A):\n",
    "        B = (A == A.T)          # ojo con las restas \n",
    "        if B.all():\n",
    "            simetrica = True\n",
    "        else:\n",
    "            simetrica = False\n",
    "    else:\n",
    "        simetrica = False\n",
    "    return simetrica    "
   ]
  },
  {
   "cell_type": "code",
   "execution_count": 11,
   "id": "4b534c2c",
   "metadata": {
    "slideshow": {
     "slide_type": "subslide"
    }
   },
   "outputs": [
    {
     "data": {
      "text/plain": [
       "False"
      ]
     },
     "execution_count": 11,
     "metadata": {},
     "output_type": "execute_result"
    }
   ],
   "source": [
    "import numpy as np \n",
    "A = np.array([[1,2],[3,4]]) \n",
    "esSimetrica2(A)"
   ]
  },
  {
   "cell_type": "code",
   "execution_count": null,
   "id": "ecb01934",
   "metadata": {
    "slideshow": {
     "slide_type": "slide"
    }
   },
   "outputs": [],
   "source": [
    "B = np.array([[0,0],[0,0]])  # La función B.all() Se pregunta si todos tienen el mismo valor de verdad.\n",
    "B.all()"
   ]
  },
  {
   "cell_type": "markdown",
   "id": "1b824331",
   "metadata": {
    "slideshow": {
     "slide_type": "slide"
    }
   },
   "source": [
    "# Ejercicio 3 del Taller 2 NumPy"
   ]
  },
  {
   "cell_type": "markdown",
   "id": "a9b7ad3b",
   "metadata": {
    "slideshow": {
     "slide_type": "slide"
    }
   },
   "source": [
    "Defina la función `esTriangularSuperior()` que reciba como argumento un array de NumPy (matriz) y retorne un boleano indicando si la matriz es triangular superior o no.\n"
   ]
  },
  {
   "cell_type": "markdown",
   "id": "000b454f",
   "metadata": {
    "slideshow": {
     "slide_type": "slide"
    }
   },
   "source": [
    "## Solución"
   ]
  },
  {
   "cell_type": "markdown",
   "id": "0612017a",
   "metadata": {
    "slideshow": {
     "slide_type": "slide"
    }
   },
   "source": [
    "### Definición de matriz triangular superior"
   ]
  },
  {
   "cell_type": "markdown",
   "id": "aa67db2e",
   "metadata": {
    "slideshow": {
     "slide_type": "slide"
    }
   },
   "source": [
    "Sea $A = [a_{ij}]$ una matriz cuadrada de orden $n$. Decimos que $A$ es una matriz triangular superior si $a_{ij} = 0$, siempre que $i > j$. "
   ]
  },
  {
   "cell_type": "code",
   "execution_count": 13,
   "id": "28bf4251",
   "metadata": {
    "slideshow": {
     "slide_type": "slide"
    }
   },
   "outputs": [],
   "source": [
    "def todos_son_iguales(lista):\n",
    "    array = np.array(lista)\n",
    "    booleanos = array == array[0]\n",
    "    return booleanos.all() "
   ]
  },
  {
   "cell_type": "code",
   "execution_count": 14,
   "id": "53e85c9a",
   "metadata": {
    "slideshow": {
     "slide_type": "slide"
    }
   },
   "outputs": [],
   "source": [
    "def esCuadrada(A):\n",
    "    orden_de_A = np.array(A.shape)        # determinar el orden de la matriz y convertirlo en una matriz de numpy\n",
    "    if todos_son_iguales(A.shape) and len(orden_de_A)>1:\n",
    "        a = True\n",
    "    else:\n",
    "        a = False\n",
    "    return a    \n"
   ]
  },
  {
   "cell_type": "code",
   "execution_count": 15,
   "id": "f3a905b6",
   "metadata": {
    "slideshow": {
     "slide_type": "slide"
    }
   },
   "outputs": [],
   "source": [
    "def esTriangularSuperior(A):\n",
    "    n_columnas = A.shape[1]\n",
    "    if esCuadrada(A):\n",
    "        lista_elementos_debajo_diag = [A[i,j] for j in range(n_columnas) for i in range(n_columnas) if i > j]\n",
    "        if not(all(lista_elementos_debajo_diag)):\n",
    "            es_TS = True\n",
    "        else:\n",
    "            es_TS = False\n",
    "        return es_TS    "
   ]
  },
  {
   "cell_type": "code",
   "execution_count": 18,
   "id": "c31ed2c5",
   "metadata": {
    "scrolled": true,
    "slideshow": {
     "slide_type": "slide"
    }
   },
   "outputs": [
    {
     "data": {
      "text/plain": [
       "False"
      ]
     },
     "execution_count": 18,
     "metadata": {},
     "output_type": "execute_result"
    }
   ],
   "source": [
    "import numpy as np \n",
    "A = np.array([[1,2],[2,4]]) \n",
    "esTriangularSuperior(A)"
   ]
  },
  {
   "cell_type": "markdown",
   "id": "84e3b055",
   "metadata": {
    "slideshow": {
     "slide_type": "slide"
    }
   },
   "source": [
    "# Ejercicio 5 del taller 2 NumPy"
   ]
  },
  {
   "cell_type": "markdown",
   "id": "370faa58",
   "metadata": {
    "slideshow": {
     "slide_type": "slide"
    }
   },
   "source": [
    "Defina la función `esDiagonal()` que reciba como argumento un array de NumPy (matriz), verifique si es cuadrada y retorne un boleano indicando si la matriz es diagonal o no."
   ]
  },
  {
   "cell_type": "code",
   "execution_count": null,
   "id": "02f6ebec",
   "metadata": {
    "slideshow": {
     "slide_type": "slide"
    }
   },
   "outputs": [],
   "source": [
    "def esDiagonal(A):\n",
    "    if esCuadrada(A)==True:\n",
    "        if esTriangularSuperior(A) and esTriengularSuperior(A.T):\n",
    "            print(True)\n",
    "        else:\n",
    "            print(False) \n",
    "    else:\n",
    "        print(False)"
   ]
  },
  {
   "cell_type": "code",
   "execution_count": null,
   "id": "e6b5d7ac",
   "metadata": {
    "slideshow": {
     "slide_type": "slide"
    }
   },
   "outputs": [],
   "source": [
    "import numpy as np \n",
    "A = np.array([[1,2],[3,4]])\n",
    "esDiagonal(A)"
   ]
  },
  {
   "cell_type": "markdown",
   "id": "2416b367",
   "metadata": {
    "slideshow": {
     "slide_type": "slide"
    }
   },
   "source": [
    "# Ejercicio 6 de taller 2 NumPy"
   ]
  },
  {
   "cell_type": "markdown",
   "id": "858d3a2f",
   "metadata": {
    "slideshow": {
     "slide_type": "slide"
    }
   },
   "source": [
    "Defina la función `esIdentidad()` que reciba como argumento un array de NumPy (matriz), verifique si es cuadrada y retorne un boleano indicando si la matriz es una identidad o no.\n"
   ]
  },
  {
   "cell_type": "code",
   "execution_count": null,
   "id": "c29c5c60",
   "metadata": {
    "slideshow": {
     "slide_type": "slide"
    }
   },
   "outputs": [],
   "source": [
    "def elementos_diagonal(A):     # para esta función A es una matriz cuadrada\n",
    "    diagonal = [A[i,i] for i in range(A.shape[0])]\n",
    "    return diagonal "
   ]
  },
  {
   "cell_type": "code",
   "execution_count": null,
   "id": "590b4a2e",
   "metadata": {
    "slideshow": {
     "slide_type": "slide"
    }
   },
   "outputs": [],
   "source": [
    "import numpy as np \n",
    "A = np.eye(2, dtype = int)\n",
    "elementos_diagonal(A) "
   ]
  },
  {
   "cell_type": "code",
   "execution_count": null,
   "id": "8e9383b4",
   "metadata": {
    "slideshow": {
     "slide_type": "slide"
    }
   },
   "outputs": [],
   "source": [
    "def elementos_fuera_diagonal(A):     # para esta función A es una matriz cuadrada\n",
    "    not_diagonal = [A[i,j] for i in range(A.shape[0]) for j in range(A.shape[0]) if i!=j] \n",
    "    return not_diagonal "
   ]
  },
  {
   "cell_type": "code",
   "execution_count": null,
   "id": "9cabe3ae",
   "metadata": {
    "slideshow": {
     "slide_type": "slide"
    }
   },
   "outputs": [],
   "source": [
    "import numpy as np \n",
    "A = np.eye(2, dtype = int)\n",
    "elementos_fuera_diagonal(A) "
   ]
  },
  {
   "cell_type": "code",
   "execution_count": null,
   "id": "56c81e9d",
   "metadata": {
    "slideshow": {
     "slide_type": "slide"
    }
   },
   "outputs": [],
   "source": [
    "def esIdentidad(A):\n",
    "    if all(elementos_diagonal(A)) and not(all(elementos_fuera_diagonal(A))):\n",
    "        print(True)\n",
    "    else:\n",
    "        print(False) "
   ]
  },
  {
   "cell_type": "code",
   "execution_count": null,
   "id": "31a559e1",
   "metadata": {
    "slideshow": {
     "slide_type": "slide"
    }
   },
   "outputs": [],
   "source": [
    "import numpy as np \n",
    "A = np.array([[1,2],[3,4]], dtype = int)\n",
    "esIdentidad(A) "
   ]
  },
  {
   "cell_type": "markdown",
   "id": "6b37886b",
   "metadata": {
    "slideshow": {
     "slide_type": "slide"
    }
   },
   "source": [
    "# Ejercicio 8 del Taller 2 NumPy"
   ]
  },
  {
   "cell_type": "markdown",
   "id": "0350e132",
   "metadata": {
    "slideshow": {
     "slide_type": "slide"
    }
   },
   "source": [
    "Defina la función `esOrtogonal()` que reciba como argumento un array de NumPy (matriz), verifique si es cuadrada y retorne un boleano indicando si la matriz es una ortogonal o no."
   ]
  },
  {
   "cell_type": "markdown",
   "id": "e0a1e7bc",
   "metadata": {
    "slideshow": {
     "slide_type": "slide"
    }
   },
   "source": [
    "## Solución"
   ]
  },
  {
   "cell_type": "markdown",
   "id": "84d37233",
   "metadata": {
    "slideshow": {
     "slide_type": "slide"
    }
   },
   "source": [
    "**Definición 1 de matriz ortogonal**\n",
    "\n",
    "Sea $A$ una matriz cuadrada. Decimos que $A$ es ortogonal si sus columnas son ortogonales dos a dos y cada una es de norma uno."
   ]
  },
  {
   "cell_type": "markdown",
   "id": "92041750",
   "metadata": {
    "slideshow": {
     "slide_type": "slide"
    }
   },
   "source": [
    "**Definición 2 de matriz ortogonal**  \n",
    "\n",
    "Sea A una matriz cuadrada. Decimos que $A$ es ortogonal si $A^{-1} = A^{T}$. "
   ]
  },
  {
   "cell_type": "code",
   "execution_count": null,
   "id": "34838789",
   "metadata": {
    "slideshow": {
     "slide_type": "slide"
    }
   },
   "outputs": [],
   "source": [
    "def todos_son_iguales(lista):\n",
    "    array = np.array(lista)\n",
    "    booleanos = array == array[0]\n",
    "    return booleanos.all() "
   ]
  },
  {
   "cell_type": "code",
   "execution_count": null,
   "id": "3a97b1eb",
   "metadata": {
    "slideshow": {
     "slide_type": "slide"
    }
   },
   "outputs": [],
   "source": [
    "lista = [3,3]\n",
    "todos_son_iguales(lista)"
   ]
  },
  {
   "cell_type": "code",
   "execution_count": null,
   "id": "41567b4a",
   "metadata": {
    "slideshow": {
     "slide_type": "slide"
    }
   },
   "outputs": [],
   "source": [
    "def esCuadrada(A):\n",
    "    orden_de_A = np.array(A.shape)        # determinar el orden de la matriz y convertirlo en una matriz de numpy\n",
    "    if todos_son_iguales(A.shape) and len(orden_de_A)>1:\n",
    "        print(True)\n",
    "    else:\n",
    "        print(False)\n"
   ]
  },
  {
   "cell_type": "code",
   "execution_count": null,
   "id": "b7fb504d",
   "metadata": {
    "slideshow": {
     "slide_type": "slide"
    }
   },
   "outputs": [],
   "source": [
    "import numpy as np \n",
    "A = np.array([[1],[3]])\n",
    "esCuadrada(A) "
   ]
  },
  {
   "cell_type": "markdown",
   "id": "c68d0fed",
   "metadata": {
    "slideshow": {
     "slide_type": "slide"
    }
   },
   "source": [
    "**Conclusiones importantes de este ejercicio**\n",
    "\n",
    "* Aplicar operadores lógicos de comparación a un arreglo de numpy, crea un arreglo de numpy de valores booleanos. "
   ]
  },
  {
   "cell_type": "code",
   "execution_count": null,
   "id": "4b0e1b67",
   "metadata": {
    "slideshow": {
     "slide_type": "slide"
    }
   },
   "outputs": [],
   "source": [
    "def todos_las_columnas_son_ortogonales(A):  # En esta función A es una matriz cuadrada \n",
    "    n_columnas = A.shape[1]\n",
    "    son_ortogonales = True\n",
    "    vectores_columna = [A[:,j] for j in range(n_columnas)] \n",
    "    \n",
    "    for i in range(n_columnas):\n",
    "        for j in range(i+1,n_columnas):\n",
    "            if vectores_columna[i].dot(vectores_columna[j])==0:\n",
    "                pass\n",
    "            else:\n",
    "                son_ortogonales*=False\n",
    "    print(son_ortogonales)     \n",
    "    "
   ]
  },
  {
   "cell_type": "code",
   "execution_count": null,
   "id": "f69b1814",
   "metadata": {
    "slideshow": {
     "slide_type": "slide"
    }
   },
   "outputs": [],
   "source": [
    "import numpy as np \n",
    "A = np.array([[1,1],[0,1]]) \n",
    "todos_las_columnas_son_ortogonales(A) "
   ]
  },
  {
   "cell_type": "code",
   "execution_count": null,
   "id": "07c170e8",
   "metadata": {
    "slideshow": {
     "slide_type": "slide"
    }
   },
   "outputs": [],
   "source": [
    "def todos_las_columnas_son_unitarias(A):\n",
    "    son_unitarias = True\n",
    "    lista_columnas = [A[:,j] for j in range(A.shape[1]) ]\n",
    "    for columna in lista_columnas:\n",
    "        if np.linalg.norm(columna)==1.0:\n",
    "            pass\n",
    "        else:\n",
    "            son_unitarias = False \n",
    "    print(son_unitarias)        "
   ]
  },
  {
   "cell_type": "code",
   "execution_count": null,
   "id": "ef1bbc1b",
   "metadata": {
    "slideshow": {
     "slide_type": "slide"
    }
   },
   "outputs": [],
   "source": [
    "import numpy as np \n",
    "A = np.eye(2)\n",
    "todos_las_columnas_son_unitarias(A) "
   ]
  },
  {
   "cell_type": "code",
   "execution_count": null,
   "id": "c03a20de",
   "metadata": {
    "slideshow": {
     "slide_type": "slide"
    }
   },
   "outputs": [],
   "source": [
    "def esOrtogonal(A):\n",
    "    if todos_las_columnas_son_ortogonales(A) and todos_las_columnas_son_unitarias(A):\n",
    "        print(True)\n",
    "    else:\n",
    "        print(False)"
   ]
  },
  {
   "cell_type": "code",
   "execution_count": null,
   "id": "b922984d",
   "metadata": {
    "slideshow": {
     "slide_type": "slide"
    }
   },
   "outputs": [],
   "source": [
    "import numpy as np \n",
    "A = np.eye(2)\n",
    "esOrtogonal(A) "
   ]
  },
  {
   "cell_type": "code",
   "execution_count": null,
   "id": "8fc2597e",
   "metadata": {
    "slideshow": {
     "slide_type": "slide"
    }
   },
   "outputs": [],
   "source": [
    "todos_las_columnas_son_ortogonales(A)"
   ]
  },
  {
   "cell_type": "code",
   "execution_count": null,
   "id": "a9a86253",
   "metadata": {
    "slideshow": {
     "slide_type": "slide"
    }
   },
   "outputs": [],
   "source": [
    "todos_las_columnas_son_unitarias(A)"
   ]
  },
  {
   "cell_type": "code",
   "execution_count": null,
   "id": "8f7f02bc",
   "metadata": {
    "slideshow": {
     "slide_type": "slide"
    }
   },
   "outputs": [],
   "source": [
    "if todos_las_columnas_son_ortogonales(A) and todos_las_columnas_son_unitarias(A):\n",
    "        print(True)\n",
    "else:\n",
    "    print(False)"
   ]
  },
  {
   "cell_type": "markdown",
   "id": "9ee5f522",
   "metadata": {
    "slideshow": {
     "slide_type": "slide"
    }
   },
   "source": [
    "# Ejercicio 9 del Taller 2 NumPy"
   ]
  },
  {
   "cell_type": "markdown",
   "id": "09296560",
   "metadata": {
    "slideshow": {
     "slide_type": "slide"
    }
   },
   "source": [
    "Defina la función `sonOrtogonales()` que reciba como argumentos dos arrays o vectores, verifique que tienen la misma cantidad de elementos y retorne booleano indicando si los vectores son ortogonales o no.\n"
   ]
  },
  {
   "cell_type": "code",
   "execution_count": null,
   "id": "90c92b40",
   "metadata": {
    "slideshow": {
     "slide_type": "slide"
    }
   },
   "outputs": [],
   "source": [
    "def sonOrtogonales(a,b):\n",
    "    '''\n",
    "    input = \n",
    "    output = \n",
    "    '''\n",
    "    if a.size==b.size:\n",
    "        if a.dot(b)==0.0:\n",
    "            print(True)\n",
    "        else:\n",
    "            print(False)\n",
    "     "
   ]
  },
  {
   "cell_type": "code",
   "execution_count": null,
   "id": "4fd8d940",
   "metadata": {
    "slideshow": {
     "slide_type": "slide"
    }
   },
   "outputs": [],
   "source": [
    "import numpy as np \n",
    "a = np.array([1,2])\n",
    "b = np.array([2,1])\n",
    "sonOrtogonales(a,b)"
   ]
  },
  {
   "cell_type": "markdown",
   "id": "d9710032",
   "metadata": {
    "slideshow": {
     "slide_type": "slide"
    }
   },
   "source": [
    "# Ejercicio 11 del Taller 2 NumPy "
   ]
  },
  {
   "cell_type": "markdown",
   "id": "8d073c1f",
   "metadata": {
    "slideshow": {
     "slide_type": "slide"
    }
   },
   "source": [
    "Defina la función `elevar()` que tenga como entradas una matriz $A$ y un entero positivo $n$, verifique que es cuadrada y retorne la matriz $A^{n}$."
   ]
  },
  {
   "cell_type": "code",
   "execution_count": null,
   "id": "caa51423",
   "metadata": {
    "slideshow": {
     "slide_type": "slide"
    }
   },
   "outputs": [],
   "source": [
    "def todos_son_iguales(lista):\n",
    "    array = np.array(lista)\n",
    "    booleanos = array == array[0]\n",
    "    return booleanos.all() "
   ]
  },
  {
   "cell_type": "code",
   "execution_count": null,
   "id": "c7b6b541",
   "metadata": {
    "slideshow": {
     "slide_type": "slide"
    }
   },
   "outputs": [],
   "source": [
    "def esCuadrada(A):\n",
    "    orden_de_A = np.array(A.shape)        # determinar el orden de la matriz y convertirlo en una matriz de numpy\n",
    "    if todos_son_iguales(A.shape) and len(orden_de_A)>1:\n",
    "        a = True\n",
    "    else:\n",
    "        a = False\n",
    "    return a    "
   ]
  },
  {
   "cell_type": "code",
   "execution_count": null,
   "id": "ec4ab0e8",
   "metadata": {
    "slideshow": {
     "slide_type": "slide"
    }
   },
   "outputs": [],
   "source": [
    "def elevar(A,n):\n",
    "    if esCuadrada(A):\n",
    "        A_a_la_n = A\n",
    "        for i in range(1,n):\n",
    "            A_a_la_n = A_a_la_n.dot(A)\n",
    "    return A_a_la_n "
   ]
  },
  {
   "cell_type": "code",
   "execution_count": null,
   "id": "d43dd447",
   "metadata": {
    "slideshow": {
     "slide_type": "slide"
    }
   },
   "outputs": [],
   "source": [
    "import numpy as np \n",
    "A = np.array([[1,2],[3,4]])\n",
    "n = 2\n",
    "elevar(A,n)"
   ]
  },
  {
   "cell_type": "markdown",
   "id": "c2b4026a",
   "metadata": {
    "slideshow": {
     "slide_type": "slide"
    }
   },
   "source": [
    "# Ejercicio 13 Taller 2 NumPy"
   ]
  },
  {
   "cell_type": "markdown",
   "id": "6b3298e0",
   "metadata": {
    "slideshow": {
     "slide_type": "slide"
    }
   },
   "source": [
    "Defina la función `matrizVandermonde()` que tenga como argumentos un array o vector $x = (x_{0}, x_{1}, \\ldots, x_{m−1})$ y un entero positivo $d$ y que retorne la matriz $V = [v_{ij} ]_{m \\times (d+1)}$ de tal manera que $v_{ij} = x^{j}_{i}$ para $0 \\leq i \\leq m − 1$ y $0 \\leq j \\leq d$."
   ]
  },
  {
   "cell_type": "code",
   "execution_count": null,
   "id": "45d61f8c",
   "metadata": {
    "slideshow": {
     "slide_type": "slide"
    }
   },
   "outputs": [],
   "source": [
    "def matrizVandermonde(x,d):\n",
    "    x = x.reshape(len(x),1)\n",
    "    V = np.ones(len(x)).reshape(len(x),1)\n",
    "    for i in range(1,d+1):\n",
    "        V = np.hstack((V,x**i))\n",
    "    return V "
   ]
  },
  {
   "cell_type": "code",
   "execution_count": null,
   "id": "782e272d",
   "metadata": {
    "slideshow": {
     "slide_type": "slide"
    }
   },
   "outputs": [],
   "source": [
    "import numpy as np             # np.hstack va adicionando horizontalmente. \n",
    "x = np.array([1,2,3,4])        # np.vstack va adicionando verticalmente,\n",
    "                               # poniendo un arreglo debajo del anterior. \n",
    "d = 3\n",
    "matrizVandermonde(x,d)"
   ]
  },
  {
   "cell_type": "markdown",
   "id": "6b309809",
   "metadata": {
    "slideshow": {
     "slide_type": "slide"
    }
   },
   "source": [
    "# Ejercicio 14 Taller 2 NumPy"
   ]
  },
  {
   "cell_type": "markdown",
   "id": "388c5944",
   "metadata": {
    "slideshow": {
     "slide_type": "slide"
    }
   },
   "source": [
    "Defina la función $matrizDeMatrices(A_{m×n}, B_{m×p}, C_{r×n}, D_{r×p})$ que tenga como argumentos las cuatro matrices indicadas con sus respectivos órdenes y que retorne la matriz \n",
    "\n",
    "$$ M_{(m+r) \\times (n+p)} = \\begin{bmatrix} A_{m \\times n} & B_{m \\times p} \\\\\n",
    "                                  C_{r \\times n} &  D_{r \\times p} \\end{bmatrix}    \\nonumber $$ "
   ]
  },
  {
   "cell_type": "code",
   "execution_count": null,
   "id": "dc0a391f",
   "metadata": {
    "slideshow": {
     "slide_type": "slide"
    }
   },
   "outputs": [],
   "source": [
    "def matrizDeMatrices(A,B,C,D):\n",
    "    '''\n",
    "    input: A es de orden mxn, \n",
    "    B es de orden mxp\n",
    "    C de rxn \n",
    "    D de rxp\n",
    "    '''\n",
    "    M = np.array([list(A[0,:])+list(B[0,:]), list(A[1,:]) + list(B[1,:]),\\\n",
    "                  list(C[0,:]) + list(D[0,:]) , list(C[1,:]) + list(D[1,:]) ])\n",
    "    return M  "
   ]
  },
  {
   "cell_type": "code",
   "execution_count": null,
   "id": "a751765e",
   "metadata": {
    "slideshow": {
     "slide_type": "slide"
    }
   },
   "outputs": [],
   "source": [
    "def matrizDeMatrices(A,B,C,D):\n",
    "    '''\n",
    "    input: A es de orden mxn, \n",
    "    B es de orden mxp\n",
    "    C de rxn \n",
    "    D de rxp\n",
    "        '''\n",
    "    lista1 = [ ( list( A[i,:] ) + list( B[i,:] ) )  for i in range(A.shape[0]) ]\n",
    "    lista2 = [ ( list( C[i,:] ) + list( D[i,:] ) )  for i in range(C.shape[0]) ]\n",
    "    M = np.vstack( (lista1,lista2) )\n",
    "    return M  "
   ]
  },
  {
   "cell_type": "code",
   "execution_count": null,
   "id": "eab957e1",
   "metadata": {
    "slideshow": {
     "slide_type": "slide"
    }
   },
   "outputs": [],
   "source": [
    "import numpy as np \n",
    "\n",
    "A = np.array([[1,2],[3,4]])\n",
    "B = np.array([[5,6],[7,8]])\n",
    "C = np.array([[1,1],[1,1]])\n",
    "D = np.array([[2,2],[2,2]])"
   ]
  },
  {
   "cell_type": "code",
   "execution_count": null,
   "id": "bf832c0e",
   "metadata": {
    "slideshow": {
     "slide_type": "slide"
    }
   },
   "outputs": [],
   "source": [
    "matrizDeMatrices(A,B,C,D)"
   ]
  },
  {
   "cell_type": "markdown",
   "id": "913a8d20",
   "metadata": {
    "slideshow": {
     "slide_type": "slide"
    }
   },
   "source": [
    "**Conclusión**\n",
    "\n",
    "* `vstack((a,b))` es decir, el parámetro de la función `np.vstack()` es una tupla de matrices de numpy. "
   ]
  },
  {
   "cell_type": "markdown",
   "id": "2f41753d",
   "metadata": {
    "slideshow": {
     "slide_type": "slide"
    }
   },
   "source": [
    "# Ejercicio 21 del Taller 2 NumPy"
   ]
  },
  {
   "cell_type": "markdown",
   "id": "f6fd0036",
   "metadata": {
    "slideshow": {
     "slide_type": "slide"
    }
   },
   "source": [
    "Defina una función `MatrizCircular([b, c, d, ..., h])` que reciba como argumento una lista con n valores `[b, c, d, ..., h]` y retorne la matriz circular en la forma: \n",
    "\n",
    "$$ C_{n \\times n} = \\begin{bmatrix} b      & c      & d      & \\cdots & h      \\\\\n",
    "                                    c      & b      & c      & \\cdots & \\cdot  \\\\\n",
    "                                    \\vdots & \\vdots & \\vdots & \\ddots &  c     \\\\\n",
    "                                    h      & \\cdots & d & c & b \\end{bmatrix}   \\nonumber $$\n",
    " "
   ]
  },
  {
   "cell_type": "code",
   "execution_count": null,
   "id": "ef0799bf",
   "metadata": {
    "slideshow": {
     "slide_type": "slide"
    }
   },
   "outputs": [],
   "source": [
    "def matrizCircular([a,b,c,d]):\n",
    "    "
   ]
  },
  {
   "cell_type": "code",
   "execution_count": null,
   "id": "f0d53f23",
   "metadata": {
    "slideshow": {
     "slide_type": "slide"
    }
   },
   "outputs": [],
   "source": []
  },
  {
   "cell_type": "code",
   "execution_count": null,
   "id": "1715878f",
   "metadata": {},
   "outputs": [],
   "source": []
  },
  {
   "cell_type": "code",
   "execution_count": null,
   "id": "3118ea8e",
   "metadata": {},
   "outputs": [],
   "source": []
  },
  {
   "cell_type": "markdown",
   "id": "b6d15e3b",
   "metadata": {
    "slideshow": {
     "slide_type": "slide"
    }
   },
   "source": [
    "## Referentes  \n",
    "\n",
    "* Python `all()` Function https://www.w3schools.com/python/ref_func_all.asp\n",
    "\n",
    "* `.all()` el método de NumPy. \n",
    "\n",
    "* `any()` Función de librería stándar de Python\n",
    "\n",
    "* `.any()` Función de NumPy\n",
    "\n",
    "* `not` el operador lógico de negación de Python: https://www.w3schools.com/python/gloss_python_logical_operators.asp\n",
    "\n",
    "* Creación de listas de Python por cemprensión: https://www.tutorialsteacher.com/python/python-list-comprehension  \n",
    "\n",
    "* `np.vstack()` https://numpy.org/doc/stable/reference/generated/numpy.vstack.html\n"
   ]
  },
  {
   "cell_type": "markdown",
   "id": "dda361cb",
   "metadata": {
    "slideshow": {
     "slide_type": "slide"
    }
   },
   "source": [
    "# The `.ravel()` function of NumPy"
   ]
  },
  {
   "cell_type": "code",
   "execution_count": null,
   "id": "f1469007",
   "metadata": {
    "slideshow": {
     "slide_type": "slide"
    }
   },
   "outputs": [],
   "source": [
    "import numpy as np \n",
    "A = np.array([[1],[2]])"
   ]
  },
  {
   "cell_type": "code",
   "execution_count": null,
   "id": "e1d332d0",
   "metadata": {
    "slideshow": {
     "slide_type": "slide"
    }
   },
   "outputs": [],
   "source": [
    "A.ndim"
   ]
  },
  {
   "cell_type": "code",
   "execution_count": null,
   "id": "36a5b61f",
   "metadata": {
    "slideshow": {
     "slide_type": "slide"
    }
   },
   "outputs": [],
   "source": [
    "A = A.ravel()"
   ]
  },
  {
   "cell_type": "code",
   "execution_count": null,
   "id": "08f1d1a8",
   "metadata": {
    "slideshow": {
     "slide_type": "slide"
    }
   },
   "outputs": [],
   "source": [
    "A.ndim "
   ]
  },
  {
   "cell_type": "code",
   "execution_count": null,
   "id": "3f84c2d9",
   "metadata": {
    "slideshow": {
     "slide_type": "slide"
    }
   },
   "outputs": [],
   "source": []
  }
 ],
 "metadata": {
  "celltoolbar": "Slideshow",
  "kernelspec": {
   "display_name": "Python 3",
   "language": "python",
   "name": "python3"
  },
  "language_info": {
   "codemirror_mode": {
    "name": "ipython",
    "version": 3
   },
   "file_extension": ".py",
   "mimetype": "text/x-python",
   "name": "python",
   "nbconvert_exporter": "python",
   "pygments_lexer": "ipython3",
   "version": "3.8.8"
  },
  "latex_envs": {
   "LaTeX_envs_menu_present": true,
   "autoclose": false,
   "autocomplete": false,
   "bibliofile": "biblio.bib",
   "cite_by": "apalike",
   "current_citInitial": 1,
   "eqLabelWithNumbers": true,
   "eqNumInitial": 1,
   "hotkeys": {
    "equation": "Ctrl-E",
    "itemize": "Ctrl-I"
   },
   "labels_anchors": false,
   "latex_user_defs": false,
   "report_style_numbering": false,
   "user_envs_cfg": false
  }
 },
 "nbformat": 4,
 "nbformat_minor": 5
}
