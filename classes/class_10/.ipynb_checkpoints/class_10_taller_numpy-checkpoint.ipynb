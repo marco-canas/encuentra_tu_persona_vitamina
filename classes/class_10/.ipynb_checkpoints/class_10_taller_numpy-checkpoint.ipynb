{
 "cells": [
  {
   "cell_type": "markdown",
   "id": "6d72be02",
   "metadata": {},
   "source": []
  },
  {
   "cell_type": "markdown",
   "id": "0eb4e6e4",
   "metadata": {},
   "source": [
    "# Clase 10 Taller de Numpy"
   ]
  },
  {
   "cell_type": "markdown",
   "id": "f899ee58",
   "metadata": {},
   "source": [
    "## Asignación de ejercicios taller 2 sobre NumPy"
   ]
  },
  {
   "cell_type": "code",
   "execution_count": 7,
   "id": "730839b4",
   "metadata": {},
   "outputs": [],
   "source": [
    "import numpy as np \n",
    "import pandas as pd \n",
    "\n",
    "grupo_intro_ml=pd.read_csv('grupo_intro_ml.csv', sep = ',')  \n",
    "\n",
    "from random import randint \n",
    "\n",
    "np.random.seed(513)\n",
    "\n",
    "lista_ejercicios_asignados = [randint(1,21) for i in range(26)]\n",
    "\n",
    "grupo_intro_ml['Asignación taller 2 NumPy'] = lista_ejercicios_asignados\n",
    "\n",
    "\n"
   ]
  },
  {
   "cell_type": "code",
   "execution_count": 8,
   "id": "5d3ddc29",
   "metadata": {},
   "outputs": [
    {
     "data": {
      "text/html": [
       "<div>\n",
       "<style scoped>\n",
       "    .dataframe tbody tr th:only-of-type {\n",
       "        vertical-align: middle;\n",
       "    }\n",
       "\n",
       "    .dataframe tbody tr th {\n",
       "        vertical-align: top;\n",
       "    }\n",
       "\n",
       "    .dataframe thead th {\n",
       "        text-align: right;\n",
       "    }\n",
       "</style>\n",
       "<table border=\"1\" class=\"dataframe\">\n",
       "  <thead>\n",
       "    <tr style=\"text-align: right;\">\n",
       "      <th></th>\n",
       "      <th>cedula</th>\n",
       "      <th>nombre</th>\n",
       "      <th>email</th>\n",
       "      <th>Asignación taller 2 NumPy</th>\n",
       "    </tr>\n",
       "  </thead>\n",
       "  <tbody>\n",
       "    <tr>\n",
       "      <th>0</th>\n",
       "      <td>1193092675</td>\n",
       "      <td>ALVAREZ CARRERO GERMAN JOSE</td>\n",
       "      <td>german.alvarez1@udea.edu.co</td>\n",
       "      <td>9</td>\n",
       "    </tr>\n",
       "    <tr>\n",
       "      <th>1</th>\n",
       "      <td>1152715251</td>\n",
       "      <td>AMAYA ESCOBAR LILLEY DANIELA</td>\n",
       "      <td>lilley.amaya1@udea.edu.co</td>\n",
       "      <td>15</td>\n",
       "    </tr>\n",
       "    <tr>\n",
       "      <th>2</th>\n",
       "      <td>1152204969</td>\n",
       "      <td>ARANGO JARAMILLO JUAN JOSE</td>\n",
       "      <td>juan.arangoj@udea.edu.co</td>\n",
       "      <td>14</td>\n",
       "    </tr>\n",
       "    <tr>\n",
       "      <th>3</th>\n",
       "      <td>1037657637</td>\n",
       "      <td>BOLIVAR HIGUITA JUAN PABLO</td>\n",
       "      <td>jpablo.bolivar@udea.edu.co</td>\n",
       "      <td>9</td>\n",
       "    </tr>\n",
       "    <tr>\n",
       "      <th>4</th>\n",
       "      <td>1146437759</td>\n",
       "      <td>BUITRAGO LORA VANESSA</td>\n",
       "      <td>vanessa.buitragol@udea.edu.co</td>\n",
       "      <td>14</td>\n",
       "    </tr>\n",
       "    <tr>\n",
       "      <th>5</th>\n",
       "      <td>1000305704</td>\n",
       "      <td>CARDONA GÓMEZ ELIANA</td>\n",
       "      <td>eliana.cardonag1@udea.edu.co</td>\n",
       "      <td>15</td>\n",
       "    </tr>\n",
       "    <tr>\n",
       "      <th>6</th>\n",
       "      <td>1000756943</td>\n",
       "      <td>CARDONA ZAPATA SIMON</td>\n",
       "      <td>simon.cardonaz@udea.edu.co</td>\n",
       "      <td>13</td>\n",
       "    </tr>\n",
       "    <tr>\n",
       "      <th>7</th>\n",
       "      <td>1152686248</td>\n",
       "      <td>CORRALES BOHÓRQUEZ ANGEL</td>\n",
       "      <td>angel.corrales@udea.edu.co</td>\n",
       "      <td>6</td>\n",
       "    </tr>\n",
       "    <tr>\n",
       "      <th>8</th>\n",
       "      <td>1035921687</td>\n",
       "      <td>GALLEGO JARAMILLO JUAN PABLO</td>\n",
       "      <td>juan.gallegoj@udea.edu.co</td>\n",
       "      <td>12</td>\n",
       "    </tr>\n",
       "    <tr>\n",
       "      <th>9</th>\n",
       "      <td>1001748329</td>\n",
       "      <td>GIL QUINTERO LISBETH YULIZA</td>\n",
       "      <td>lisbeth.gil@udea.edu.co</td>\n",
       "      <td>8</td>\n",
       "    </tr>\n",
       "    <tr>\n",
       "      <th>10</th>\n",
       "      <td>1000653700</td>\n",
       "      <td>GIRALDO GALLEGO ANA MARÍA</td>\n",
       "      <td>ana.giraldo15@udea.edu.co</td>\n",
       "      <td>1</td>\n",
       "    </tr>\n",
       "    <tr>\n",
       "      <th>11</th>\n",
       "      <td>1152456567</td>\n",
       "      <td>GIRALDO MENA YINIM ALBERTO</td>\n",
       "      <td>yinim.giraldo@udea.edu.co</td>\n",
       "      <td>6</td>\n",
       "    </tr>\n",
       "    <tr>\n",
       "      <th>12</th>\n",
       "      <td>1010141168</td>\n",
       "      <td>GRANADA ZAPATA SUSANA</td>\n",
       "      <td>susana.granada@udea.edu.co</td>\n",
       "      <td>10</td>\n",
       "    </tr>\n",
       "    <tr>\n",
       "      <th>13</th>\n",
       "      <td>1097403976</td>\n",
       "      <td>HERNANDEZ SUAREZ NICOLAS</td>\n",
       "      <td>nicolas.hernandez@udea.edu.co</td>\n",
       "      <td>20</td>\n",
       "    </tr>\n",
       "    <tr>\n",
       "      <th>14</th>\n",
       "      <td>1036966621</td>\n",
       "      <td>JIMÉNEZ GARCÍA MIGUEL ÁNGEL</td>\n",
       "      <td>miguel.jimenezg@udea.edu.co</td>\n",
       "      <td>16</td>\n",
       "    </tr>\n",
       "    <tr>\n",
       "      <th>15</th>\n",
       "      <td>1098823480</td>\n",
       "      <td>MARTINEZ PÉREZ PEDRO ALEJANDRO</td>\n",
       "      <td>pedro.martinez1@udea.edu.co</td>\n",
       "      <td>12</td>\n",
       "    </tr>\n",
       "    <tr>\n",
       "      <th>16</th>\n",
       "      <td>1035434122</td>\n",
       "      <td>MONTOYA GONZÁLEZ PABLO ANDRÉS</td>\n",
       "      <td>pabloa.montoya@udea.edu.co</td>\n",
       "      <td>18</td>\n",
       "    </tr>\n",
       "    <tr>\n",
       "      <th>17</th>\n",
       "      <td>1000754994</td>\n",
       "      <td>MORALES GARCÍA MANUELA</td>\n",
       "      <td>manuela.moralesg@udea.edu.co</td>\n",
       "      <td>5</td>\n",
       "    </tr>\n",
       "    <tr>\n",
       "      <th>18</th>\n",
       "      <td>1040367403</td>\n",
       "      <td>MOSQUERA PEREA JESÚS JHOVANNY</td>\n",
       "      <td>jhovanny.mosquera@udea.edu.co</td>\n",
       "      <td>11</td>\n",
       "    </tr>\n",
       "    <tr>\n",
       "      <th>19</th>\n",
       "      <td>1013346470</td>\n",
       "      <td>MURILLO ZAPATA MIGUEL ANGEL</td>\n",
       "      <td>mangel.murillo@udea.edu.co</td>\n",
       "      <td>9</td>\n",
       "    </tr>\n",
       "    <tr>\n",
       "      <th>20</th>\n",
       "      <td>1214747720</td>\n",
       "      <td>NARVAEZ MONSALVE KAROL ANDREA</td>\n",
       "      <td>karol.narvaez@udea.edu.co</td>\n",
       "      <td>1</td>\n",
       "    </tr>\n",
       "    <tr>\n",
       "      <th>21</th>\n",
       "      <td>1007813704</td>\n",
       "      <td>PULGARIN QUIROZ EMILY IVETTE</td>\n",
       "      <td>emily.pulgarinq@udea.edu.co</td>\n",
       "      <td>13</td>\n",
       "    </tr>\n",
       "    <tr>\n",
       "      <th>22</th>\n",
       "      <td>1001851542</td>\n",
       "      <td>RODRIGUEZ BARRIOS DAIRA LORENA</td>\n",
       "      <td>daira.rodriguez@udea.edu.co</td>\n",
       "      <td>3</td>\n",
       "    </tr>\n",
       "    <tr>\n",
       "      <th>23</th>\n",
       "      <td>1152225691</td>\n",
       "      <td>TORRES MERIÑO JOSE LUIS CAMILO</td>\n",
       "      <td>jluiscamilo.torres@udea.edu.co</td>\n",
       "      <td>14</td>\n",
       "    </tr>\n",
       "    <tr>\n",
       "      <th>24</th>\n",
       "      <td>1007722578</td>\n",
       "      <td>TRUJILLO VERTEL MAIRA ALEJANDRA</td>\n",
       "      <td>maira.trujillo@udea.edu.co</td>\n",
       "      <td>18</td>\n",
       "    </tr>\n",
       "    <tr>\n",
       "      <th>25</th>\n",
       "      <td>1017266250</td>\n",
       "      <td>ZAPATA VANEGAS JUAN CAMILO</td>\n",
       "      <td>juan.zapata100@udea.edu.co</td>\n",
       "      <td>21</td>\n",
       "    </tr>\n",
       "  </tbody>\n",
       "</table>\n",
       "</div>"
      ],
      "text/plain": [
       "       cedula                             nombre  \\\n",
       "0   1193092675      ALVAREZ CARRERO GERMAN JOSE    \n",
       "1   1152715251      AMAYA ESCOBAR LILLEY DANIELA   \n",
       "2   1152204969       ARANGO JARAMILLO JUAN JOSE    \n",
       "3   1037657637       BOLIVAR HIGUITA JUAN PABLO    \n",
       "4   1146437759             BUITRAGO LORA VANESSA   \n",
       "5   1000305704             CARDONA GÓMEZ ELIANA    \n",
       "6   1000756943             CARDONA ZAPATA SIMON    \n",
       "7   1152686248         CORRALES BOHÓRQUEZ ANGEL    \n",
       "8   1035921687      GALLEGO JARAMILLO JUAN PABLO   \n",
       "9   1001748329      GIL QUINTERO LISBETH YULIZA    \n",
       "10  1000653700        GIRALDO GALLEGO ANA MARÍA    \n",
       "11  1152456567       GIRALDO MENA YINIM ALBERTO    \n",
       "12  1010141168            GRANADA ZAPATA SUSANA    \n",
       "13  1097403976         HERNANDEZ SUAREZ NICOLAS    \n",
       "14  1036966621      JIMÉNEZ GARCÍA MIGUEL ÁNGEL    \n",
       "15  1098823480   MARTINEZ PÉREZ PEDRO ALEJANDRO    \n",
       "16  1035434122    MONTOYA GONZÁLEZ PABLO ANDRÉS    \n",
       "17  1000754994           MORALES GARCÍA MANUELA    \n",
       "18  1040367403    MOSQUERA PEREA JESÚS JHOVANNY    \n",
       "19  1013346470      MURILLO ZAPATA MIGUEL ANGEL    \n",
       "20  1214747720    NARVAEZ MONSALVE KAROL ANDREA    \n",
       "21  1007813704     PULGARIN QUIROZ EMILY IVETTE    \n",
       "22  1001851542   RODRIGUEZ BARRIOS DAIRA LORENA    \n",
       "23  1152225691    TORRES MERIÑO JOSE LUIS CAMILO   \n",
       "24  1007722578  TRUJILLO VERTEL MAIRA ALEJANDRA    \n",
       "25  1017266250       ZAPATA VANEGAS JUAN CAMILO    \n",
       "\n",
       "                             email  Asignación taller 2 NumPy  \n",
       "0      german.alvarez1@udea.edu.co                          9  \n",
       "1        lilley.amaya1@udea.edu.co                         15  \n",
       "2         juan.arangoj@udea.edu.co                         14  \n",
       "3       jpablo.bolivar@udea.edu.co                          9  \n",
       "4    vanessa.buitragol@udea.edu.co                         14  \n",
       "5     eliana.cardonag1@udea.edu.co                         15  \n",
       "6       simon.cardonaz@udea.edu.co                         13  \n",
       "7       angel.corrales@udea.edu.co                          6  \n",
       "8        juan.gallegoj@udea.edu.co                         12  \n",
       "9          lisbeth.gil@udea.edu.co                          8  \n",
       "10       ana.giraldo15@udea.edu.co                          1  \n",
       "11       yinim.giraldo@udea.edu.co                          6  \n",
       "12      susana.granada@udea.edu.co                         10  \n",
       "13   nicolas.hernandez@udea.edu.co                         20  \n",
       "14     miguel.jimenezg@udea.edu.co                         16  \n",
       "15     pedro.martinez1@udea.edu.co                         12  \n",
       "16      pabloa.montoya@udea.edu.co                         18  \n",
       "17    manuela.moralesg@udea.edu.co                          5  \n",
       "18   jhovanny.mosquera@udea.edu.co                         11  \n",
       "19      mangel.murillo@udea.edu.co                          9  \n",
       "20       karol.narvaez@udea.edu.co                          1  \n",
       "21     emily.pulgarinq@udea.edu.co                         13  \n",
       "22     daira.rodriguez@udea.edu.co                          3  \n",
       "23  jluiscamilo.torres@udea.edu.co                         14  \n",
       "24      maira.trujillo@udea.edu.co                         18  \n",
       "25      juan.zapata100@udea.edu.co                         21  "
      ]
     },
     "execution_count": 8,
     "metadata": {},
     "output_type": "execute_result"
    }
   ],
   "source": [
    "grupo_intro_ml "
   ]
  },
  {
   "cell_type": "markdown",
   "id": "706ab863",
   "metadata": {},
   "source": [
    "### Ejercicio 1 del taller"
   ]
  },
  {
   "cell_type": "markdown",
   "id": "f88751c1",
   "metadata": {},
   "source": [
    "Defina la función es `Simetrica()` que reciba como argumento un array de NumPy (matriz), verifique si es cuadrada y retorne un boleano indicando si la matriz es simétrica o no.\n"
   ]
  },
  {
   "cell_type": "markdown",
   "id": "5f1eac53",
   "metadata": {},
   "source": [
    "## Solución"
   ]
  },
  {
   "cell_type": "markdown",
   "id": "bf83ee61",
   "metadata": {},
   "source": [
    "### Diseño del algoritmo"
   ]
  },
  {
   "cell_type": "markdown",
   "id": "01505ed3",
   "metadata": {},
   "source": [
    "1. revise si la matriz es cuadrada.\n",
    "2. de ser cuadrada, revise si los elementos simétricos, con respecto a la diagonal, son iguales.\n",
    "3. de no ser cuadrada, imprima `False`. "
   ]
  },
  {
   "cell_type": "code",
   "execution_count": 11,
   "id": "ea8c80c4",
   "metadata": {},
   "outputs": [],
   "source": [
    "import numpy as np "
   ]
  },
  {
   "cell_type": "code",
   "execution_count": 26,
   "id": "122effe6",
   "metadata": {},
   "outputs": [],
   "source": [
    "A = np.array([[1,2,3],[2,4,3]])  "
   ]
  },
  {
   "cell_type": "code",
   "execution_count": 27,
   "id": "7d2194ac",
   "metadata": {},
   "outputs": [],
   "source": [
    "def Es_simetrica(A):\n",
    "    n_columnas = A.shape[0]\n",
    "    n_filas = A.shape[1]\n",
    "    n_coincidencias = 0\n",
    "    if n_columnas == n_filas:\n",
    "        for i in range(n_columnas):\n",
    "            for j in range(n_filas):\n",
    "                if A[i,j] == A[j,i]:\n",
    "                    n_coincidencias +=1 \n",
    "        if n_coincidencias == A.size:\n",
    "            print(True)\n",
    "        else:\n",
    "            print(False) \n",
    "    else:\n",
    "        print(False) \n",
    "        "
   ]
  },
  {
   "cell_type": "code",
   "execution_count": 28,
   "id": "c8339f58",
   "metadata": {},
   "outputs": [
    {
     "name": "stdout",
     "output_type": "stream",
     "text": [
      "False\n"
     ]
    }
   ],
   "source": [
    "Es_simetrica(A) "
   ]
  },
  {
   "cell_type": "markdown",
   "id": "54c4585b",
   "metadata": {},
   "source": [
    "# Ejercicio 3 del Taller 2 NumPy"
   ]
  },
  {
   "cell_type": "markdown",
   "id": "1c5b50cf",
   "metadata": {},
   "source": [
    "Defina la función `esTriangularSuperior()` que reciba como argumento un array de NumPy (matriz) y retorne un boleano indicando si la matriz es triangular superior o no.\n"
   ]
  },
  {
   "cell_type": "markdown",
   "id": "41b474a0",
   "metadata": {},
   "source": [
    "## Solución"
   ]
  },
  {
   "cell_type": "code",
   "execution_count": 29,
   "id": "ab36e718",
   "metadata": {},
   "outputs": [],
   "source": [
    "def esTriangularSuperior(A):\n",
    "    pass "
   ]
  },
  {
   "cell_type": "code",
   "execution_count": null,
   "id": "433a62e3",
   "metadata": {},
   "outputs": [],
   "source": []
  },
  {
   "cell_type": "code",
   "execution_count": null,
   "id": "bda0f986",
   "metadata": {},
   "outputs": [],
   "source": []
  },
  {
   "cell_type": "code",
   "execution_count": null,
   "id": "b922984d",
   "metadata": {},
   "outputs": [],
   "source": []
  },
  {
   "cell_type": "code",
   "execution_count": null,
   "id": "e12e0d1c",
   "metadata": {},
   "outputs": [],
   "source": []
  }
 ],
 "metadata": {
  "kernelspec": {
   "display_name": "Python 3",
   "language": "python",
   "name": "python3"
  },
  "language_info": {
   "codemirror_mode": {
    "name": "ipython",
    "version": 3
   },
   "file_extension": ".py",
   "mimetype": "text/x-python",
   "name": "python",
   "nbconvert_exporter": "python",
   "pygments_lexer": "ipython3",
   "version": "3.8.8"
  },
  "latex_envs": {
   "LaTeX_envs_menu_present": true,
   "autoclose": false,
   "autocomplete": false,
   "bibliofile": "biblio.bib",
   "cite_by": "apalike",
   "current_citInitial": 1,
   "eqLabelWithNumbers": true,
   "eqNumInitial": 1,
   "hotkeys": {
    "equation": "Ctrl-E",
    "itemize": "Ctrl-I"
   },
   "labels_anchors": false,
   "latex_user_defs": false,
   "report_style_numbering": false,
   "user_envs_cfg": false
  }
 },
 "nbformat": 4,
 "nbformat_minor": 5
}
