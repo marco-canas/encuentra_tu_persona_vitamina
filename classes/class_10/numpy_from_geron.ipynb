{
 "cells": [
  {
   "cell_type": "markdown",
   "id": "b56cfa18",
   "metadata": {},
   "source": []
  },
  {
   "cell_type": "markdown",
   "id": "23c89441",
   "metadata": {},
   "source": [
    "# [NumPy según Géron](https://github.com/ageron/handson-ml2/blob/master/tools_numpy.ipynb)"
   ]
  },
  {
   "cell_type": "markdown",
   "id": "b41f16c4",
   "metadata": {},
   "source": [
    "## Herramientas - NumPy"
   ]
  },
  {
   "cell_type": "markdown",
   "id": "05e4dec3",
   "metadata": {},
   "source": [
    "NumPy es la biblioteca fundamental para la computación científica con Python. "
   ]
  },
  {
   "cell_type": "markdown",
   "id": "6b981b02",
   "metadata": {},
   "source": [
    "NumPy se centra en un poderoso objeto de matriz N-dimensional, y también contiene útiles funciones de álgebra lineal, transformada de Fourier y números aleatorios."
   ]
  },
  {
   "cell_type": "markdown",
   "id": "d157d199",
   "metadata": {},
   "source": [
    "## Creación de matrices"
   ]
  },
  {
   "cell_type": "markdown",
   "id": "961af5b7",
   "metadata": {},
   "source": [
    "Ahora vamos a importar numpy. La mayoría de la gente lo importa como np"
   ]
  },
  {
   "cell_type": "code",
   "execution_count": 1,
   "id": "9a00060a",
   "metadata": {},
   "outputs": [],
   "source": [
    "import numpy as np"
   ]
  },
  {
   "cell_type": "code",
   "execution_count": null,
   "id": "1ca34055",
   "metadata": {},
   "outputs": [],
   "source": []
  },
  {
   "cell_type": "code",
   "execution_count": null,
   "id": "ca1d450b",
   "metadata": {},
   "outputs": [],
   "source": []
  },
  {
   "cell_type": "code",
   "execution_count": null,
   "id": "3e5cb5a7",
   "metadata": {},
   "outputs": [],
   "source": []
  },
  {
   "cell_type": "code",
   "execution_count": null,
   "id": "c294d0e3",
   "metadata": {},
   "outputs": [],
   "source": []
  },
  {
   "cell_type": "code",
   "execution_count": null,
   "id": "ebf01e12",
   "metadata": {},
   "outputs": [],
   "source": []
  },
  {
   "cell_type": "code",
   "execution_count": null,
   "id": "28e3a919",
   "metadata": {},
   "outputs": [],
   "source": []
  }
 ],
 "metadata": {
  "kernelspec": {
   "display_name": "Python 3",
   "language": "python",
   "name": "python3"
  },
  "language_info": {
   "codemirror_mode": {
    "name": "ipython",
    "version": 3
   },
   "file_extension": ".py",
   "mimetype": "text/x-python",
   "name": "python",
   "nbconvert_exporter": "python",
   "pygments_lexer": "ipython3",
   "version": "3.8.8"
  },
  "latex_envs": {
   "LaTeX_envs_menu_present": true,
   "autoclose": false,
   "autocomplete": false,
   "bibliofile": "biblio.bib",
   "cite_by": "apalike",
   "current_citInitial": 1,
   "eqLabelWithNumbers": true,
   "eqNumInitial": 1,
   "hotkeys": {
    "equation": "Ctrl-E",
    "itemize": "Ctrl-I"
   },
   "labels_anchors": false,
   "latex_user_defs": false,
   "report_style_numbering": false,
   "user_envs_cfg": false
  }
 },
 "nbformat": 4,
 "nbformat_minor": 5
}
