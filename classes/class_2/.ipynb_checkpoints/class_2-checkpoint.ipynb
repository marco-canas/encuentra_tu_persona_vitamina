{
 "cells": [
  {
   "cell_type": "markdown",
   "id": "0a7aa13b",
   "metadata": {
    "slideshow": {
     "slide_type": "slide"
    }
   },
   "source": [
    "<table align=\"left\">\n",
    "  <td>\n",
    "    <a href=\"https://colab.research.google.com/github/marco-canas/introducci-n-al-Machine-Learning/blob/main/classes/class_2/class_2.ipynb\" target=\"_parent\"><img src=\"https://colab.research.google.com/assets/colab-badge.svg\" alt=\"Open In Colab\"/></a>\n",
    "  </td>\n",
    "  <td>\n",
    "    <a target=\"_blank\" href=\"https://kaggle.com/kernels/welcome?src=https://github.com/marco-canas/introducci-n-al-Machine-Learning/blob/main/classes/class_2/class_2.ipynb\"><img src=\"https://kaggle.com/static/images/open-in-kaggle.svg\" /></a>\n",
    "  </td>\n",
    "</table>\n"
   ]
  },
  {
   "cell_type": "markdown",
   "id": "9dbe5cf7",
   "metadata": {
    "slideshow": {
     "slide_type": "slide"
    }
   },
   "source": [
    "# Clase 2 Introducción al Machine Learnig"
   ]
  },
  {
   "cell_type": "code",
   "execution_count": 12,
   "id": "bea9b195",
   "metadata": {
    "slideshow": {
     "slide_type": "slide"
    }
   },
   "outputs": [],
   "source": [
    "import pandas as pd"
   ]
  },
  {
   "cell_type": "code",
   "execution_count": 13,
   "id": "82521c8c",
   "metadata": {},
   "outputs": [],
   "source": [
    "students = pd.read_csv('students.csv', sep = '\\t')"
   ]
  },
  {
   "cell_type": "code",
   "execution_count": 14,
   "id": "863f66ba",
   "metadata": {
    "slideshow": {
     "slide_type": "slide"
    }
   },
   "outputs": [
    {
     "data": {
      "text/plain": [
       "Index(['Unnamed: 0', 'cedula', 'nombre', 'email', 'Unnamed: 4'], dtype='object')"
      ]
     },
     "execution_count": 14,
     "metadata": {},
     "output_type": "execute_result"
    }
   ],
   "source": [
    "students.columns"
   ]
  },
  {
   "cell_type": "code",
   "execution_count": 18,
   "id": "b9d67c30",
   "metadata": {
    "slideshow": {
     "slide_type": "slide"
    }
   },
   "outputs": [],
   "source": [
    "students.email.to_csv('correos.csv', index = False)"
   ]
  },
  {
   "cell_type": "markdown",
   "id": "30e49929",
   "metadata": {
    "slideshow": {
     "slide_type": "slide"
    }
   },
   "source": [
    "### Objetivos de la clase"
   ]
  },
  {
   "cell_type": "markdown",
   "id": "4f7f2f6a",
   "metadata": {
    "slideshow": {
     "slide_type": "slide"
    }
   },
   "source": [
    "Nos enfocaremos en introducir las operaciones y construcción de líneas de código elementales a la hora de aprender un lenguaje de programación como Python y se aprenderán elementos básicos en programación como:\n",
    "\n",
    "* Imprimir cadenas de texto.  \n",
    "* Realizar operaciones matemáticas.  \n",
    "* Declarar y utilizar de diferentes tipos variables.\n",
    "* Utilizar estructuras de datos como listas, tuplas y diccionarios.\n",
    "* Utilizar las estructuras de control “for”, “while” e “if”.\n",
    "* Definir y aplicar funciones.\n",
    "* Manipular listas.\n",
    "* Realizar operaciones del algebra lineal con arreglos de dos dimensiones."
   ]
  },
  {
   "cell_type": "markdown",
   "id": "d12847f1",
   "metadata": {
    "slideshow": {
     "slide_type": "slide"
    }
   },
   "source": [
    "Preguntas:  \n",
    "\n",
    "* ¿Cómo crear, asignar, copiar y modificar variables?,   \n",
    "* ¿Qué es una sentencia condicional y cómo influye en la ejecución de sentencias iterativas?   \n",
    "* ¿Qué diferencias hay entre paradigma funcional y OOP (programación orientada a objetos)?"
   ]
  },
  {
   "cell_type": "markdown",
   "id": "b27fc750",
   "metadata": {
    "slideshow": {
     "slide_type": "slide"
    }
   },
   "source": [
    "## Variables, expresiones y sentencias\n"
   ]
  },
  {
   "cell_type": "markdown",
   "id": "56241d40",
   "metadata": {
    "slideshow": {
     "slide_type": "skip"
    }
   },
   "source": [
    "### [Video de apoyo sobre variables, expresiones y sentencias en Python](https://www.youtube.com/watch?v=xTwdt8lkTv0) "
   ]
  },
  {
   "cell_type": "markdown",
   "id": "4f4c390a",
   "metadata": {
    "slideshow": {
     "slide_type": "slide"
    }
   },
   "source": [
    "### 2.1. Valores y tipos"
   ]
  },
  {
   "cell_type": "markdown",
   "id": "71adeb5a",
   "metadata": {
    "slideshow": {
     "slide_type": "slide"
    }
   },
   "source": [
    "El valor es uno de los elementos fundamentales (como por ejemplo una letra o un numero) que manipula un programa. "
   ]
  },
  {
   "cell_type": "code",
   "execution_count": null,
   "id": "b1869905",
   "metadata": {
    "slideshow": {
     "slide_type": "slide"
    }
   },
   "outputs": [],
   "source": [
    "'a'"
   ]
  },
  {
   "cell_type": "markdown",
   "id": "f193bc64",
   "metadata": {
    "slideshow": {
     "slide_type": "slide"
    }
   },
   "source": [
    "Los valores que hemos visto hasta el momento son 2, 3, 5, 13, 0, (el resultado de sumar algunos enteros) y algunas cadenas de caracteres."
   ]
  },
  {
   "cell_type": "markdown",
   "id": "c0dd0715",
   "metadata": {
    "slideshow": {
     "slide_type": "slide"
    }
   },
   "source": [
    "Estos valores son de distintos tipos: \n",
    "* 2 es un entero y \n",
    "* 'Hola, mundo' es una cadena, llamada así porque contiene una “cadena” de letras. \n",
    "\n",
    "Usted (y el intérprete) puede identificar las cadenas porque están encerradas entre comillas."
   ]
  },
  {
   "cell_type": "markdown",
   "id": "475206ce",
   "metadata": {
    "slideshow": {
     "slide_type": "slide"
    }
   },
   "source": [
    "La sentencia print también funciona con enteros:"
   ]
  },
  {
   "cell_type": "code",
   "execution_count": null,
   "id": "6d414476",
   "metadata": {
    "slideshow": {
     "slide_type": "slide"
    }
   },
   "outputs": [],
   "source": [
    "print(5.13)"
   ]
  },
  {
   "cell_type": "markdown",
   "id": "cceceaed",
   "metadata": {
    "slideshow": {
     "slide_type": "slide"
    }
   },
   "source": [
    "Si no está seguro del tipo que tiene un determinado valor, puede preguntárselo al intérprete de Python."
   ]
  },
  {
   "cell_type": "code",
   "execution_count": null,
   "id": "3ec8e7fe",
   "metadata": {
    "slideshow": {
     "slide_type": "slide"
    }
   },
   "outputs": [],
   "source": [
    "type(13.0)"
   ]
  },
  {
   "cell_type": "markdown",
   "id": "9ff6f582",
   "metadata": {
    "slideshow": {
     "slide_type": "slide"
    }
   },
   "source": [
    "No es sorprendente que las cadenas sean de tipo string (cadena en inglés) y los enteros sean de tipo int (por integer en inglés). "
   ]
  },
  {
   "cell_type": "markdown",
   "id": "940d0796",
   "metadata": {
    "slideshow": {
     "slide_type": "slide"
    }
   },
   "source": [
    "De forma menos obvia, los números con decimales (separados por medio de un punto en inglés) son de tipo float debido a la representación de estos números en el formato llamado de coma flotante (floating-point)."
   ]
  },
  {
   "cell_type": "code",
   "execution_count": null,
   "id": "497ea4de",
   "metadata": {
    "slideshow": {
     "slide_type": "slide"
    }
   },
   "outputs": [],
   "source": [
    "type(3.2)\n"
   ]
  },
  {
   "cell_type": "markdown",
   "id": "45a916bf",
   "metadata": {
    "slideshow": {
     "slide_type": "slide"
    }
   },
   "source": [
    "¿Qué ocurre con los valores como `\"17\"` y `\"3.2\"`? "
   ]
  },
  {
   "cell_type": "code",
   "execution_count": null,
   "id": "86026f54",
   "metadata": {
    "slideshow": {
     "slide_type": "slide"
    }
   },
   "outputs": [],
   "source": [
    "type('17')  "
   ]
  },
  {
   "cell_type": "markdown",
   "id": "ae6338c7",
   "metadata": {
    "slideshow": {
     "slide_type": "slide"
    }
   },
   "source": [
    "Parecen números, pero están entre comillas como las cadenas."
   ]
  },
  {
   "cell_type": "markdown",
   "id": "a4352864",
   "metadata": {
    "slideshow": {
     "slide_type": "slide"
    }
   },
   "source": [
    "Cuando escriba un entero largo, podría estar tentado de usar comas entre grupos de tres dígitos, como en 1,000,000. "
   ]
  },
  {
   "cell_type": "markdown",
   "id": "e3faf2d4",
   "metadata": {
    "slideshow": {
     "slide_type": "slide"
    }
   },
   "source": [
    "Éste no es un entero legal en Python, pero es una expresión legal:"
   ]
  },
  {
   "cell_type": "code",
   "execution_count": null,
   "id": "41a00ba6",
   "metadata": {
    "slideshow": {
     "slide_type": "slide"
    }
   },
   "outputs": [],
   "source": [
    "print(1,000,000) "
   ]
  },
  {
   "cell_type": "markdown",
   "id": "f5c88201",
   "metadata": {
    "slideshow": {
     "slide_type": "slide"
    }
   },
   "source": [
    "En fin, no era eso lo que queríamos. Python interpreta 1,000,000 como una lista de tres números que debe imprimir. Así que recuerde no insertar comas en sus enteros.\n"
   ]
  },
  {
   "cell_type": "code",
   "execution_count": null,
   "id": "85036dea",
   "metadata": {
    "slideshow": {
     "slide_type": "slide"
    }
   },
   "outputs": [],
   "source": [
    "1_000_000 # escribir subguión para separar los grupos de ceros. "
   ]
  },
  {
   "cell_type": "code",
   "execution_count": null,
   "id": "0df741c9",
   "metadata": {
    "slideshow": {
     "slide_type": "slide"
    }
   },
   "outputs": [],
   "source": [
    "1000000  # La otra opción es no utilizar ningún separador. "
   ]
  },
  {
   "cell_type": "markdown",
   "id": "d4f7d197",
   "metadata": {
    "slideshow": {
     "slide_type": "slide"
    }
   },
   "source": [
    "## 2.2. Variables\n"
   ]
  },
  {
   "cell_type": "markdown",
   "id": "1ebb4ca5",
   "metadata": {
    "slideshow": {
     "slide_type": "slide"
    }
   },
   "source": [
    "Una de las características más potentes de los lenguajes de programación es la capacidad de manipular variables. "
   ]
  },
  {
   "cell_type": "markdown",
   "id": "e50f2048",
   "metadata": {
    "slideshow": {
     "slide_type": "slide"
    }
   },
   "source": [
    "Una variable es un nombre que hace referencia a un valor."
   ]
  },
  {
   "cell_type": "markdown",
   "id": "a6ff12cf",
   "metadata": {
    "slideshow": {
     "slide_type": "slide"
    }
   },
   "source": [
    "La **sentencia de asignación** (`=`) crea nuevas variables y les asigna un valor:"
   ]
  },
  {
   "cell_type": "code",
   "execution_count": null,
   "id": "021be8b9",
   "metadata": {
    "slideshow": {
     "slide_type": "slide"
    }
   },
   "outputs": [],
   "source": [
    "mensaje = '¡Qué útil es el Machine Learning!'     # primera sentencia de asignación\n",
    "n = 13                                            # segunda sentencia de asignación\n",
    "pi = 3.14159                                     # tercera sentencia de asignación"
   ]
  },
  {
   "cell_type": "markdown",
   "id": "1173278e",
   "metadata": {
    "slideshow": {
     "slide_type": "slide"
    }
   },
   "source": [
    "Este ejemplo muestra tres asignaciones. "
   ]
  },
  {
   "cell_type": "markdown",
   "id": "e1f7d074",
   "metadata": {
    "slideshow": {
     "slide_type": "slide"
    }
   },
   "source": [
    "La primera de ellas asigna el valor `'¡Que útil es el machine learning!'` a una variable nueva, de nombre `mensaje`. "
   ]
  },
  {
   "cell_type": "markdown",
   "id": "68492d64",
   "metadata": {
    "slideshow": {
     "slide_type": "slide"
    }
   },
   "source": [
    "La segunda le da el valor entero $13$ a $n$, y \n",
    "* la tercera le da el valor de número en coma flotante $3.14159$ a `pi`"
   ]
  },
  {
   "cell_type": "markdown",
   "id": "c83813f5",
   "metadata": {
    "slideshow": {
     "slide_type": "slide"
    }
   },
   "source": [
    "Una forma habitual de representar variables sobre el papel es escribir el nombre con una flecha señalando al valor de la variable. "
   ]
  },
  {
   "cell_type": "markdown",
   "id": "b4fc32a2",
   "metadata": {
    "slideshow": {
     "slide_type": "slide"
    }
   },
   "source": [
    "Este tipo de representación se llama diagrama de estado, ya que muestra en qué estado se halla cada una de las variables (considérelo como el “estado de ánimo” de la variable”)."
   ]
  },
  {
   "cell_type": "markdown",
   "id": "4cbd3e9f",
   "metadata": {
    "slideshow": {
     "slide_type": "slide"
    }
   },
   "source": [
    "El siguiente diagrama muestra el efecto de las tres sentencias de asignación anteriores:"
   ]
  },
  {
   "cell_type": "markdown",
   "id": "cc8832b0",
   "metadata": {
    "slideshow": {
     "slide_type": "slide"
    }
   },
   "source": [
    "$$ \\text{mensaje} \\ \\ \\to\\  \\text{'¡Que útil es el Machine Learning!'} $$"
   ]
  },
  {
   "cell_type": "markdown",
   "id": "04b58e46",
   "metadata": {
    "slideshow": {
     "slide_type": "slide"
    }
   },
   "source": [
    "La función `print()` también funciona con variables.\n"
   ]
  },
  {
   "cell_type": "code",
   "execution_count": null,
   "id": "7336910f",
   "metadata": {
    "slideshow": {
     "slide_type": "slide"
    }
   },
   "outputs": [],
   "source": [
    "print(mensaje)\n",
    "print(n)\n",
    "print(pi)"
   ]
  },
  {
   "cell_type": "markdown",
   "id": "64bd55cb",
   "metadata": {
    "slideshow": {
     "slide_type": "slide"
    }
   },
   "source": [
    "En cada caso, el resultado es el valor de la variable. "
   ]
  },
  {
   "cell_type": "markdown",
   "id": "0754555c",
   "metadata": {
    "slideshow": {
     "slide_type": "slide"
    }
   },
   "source": [
    "## Los tipos de variables "
   ]
  },
  {
   "cell_type": "markdown",
   "id": "7b2b6560",
   "metadata": {
    "slideshow": {
     "slide_type": "slide"
    }
   },
   "source": [
    "Las variables también tienen tipo. "
   ]
  },
  {
   "cell_type": "markdown",
   "id": "c8bd1e02",
   "metadata": {
    "slideshow": {
     "slide_type": "slide"
    }
   },
   "source": [
    "De nuevo, podemos preguntar al intérprete lo que son."
   ]
  },
  {
   "cell_type": "code",
   "execution_count": null,
   "id": "2be59741",
   "metadata": {
    "slideshow": {
     "slide_type": "slide"
    }
   },
   "outputs": [],
   "source": [
    "type(mensaje)"
   ]
  },
  {
   "cell_type": "code",
   "execution_count": null,
   "id": "5215f39c",
   "metadata": {
    "slideshow": {
     "slide_type": "slide"
    }
   },
   "outputs": [],
   "source": [
    "type(n)"
   ]
  },
  {
   "cell_type": "code",
   "execution_count": null,
   "id": "e1fef83c",
   "metadata": {
    "slideshow": {
     "slide_type": "slide"
    }
   },
   "outputs": [],
   "source": [
    "type(pi)\n"
   ]
  },
  {
   "cell_type": "markdown",
   "id": "878d09cf",
   "metadata": {
    "slideshow": {
     "slide_type": "slide"
    }
   },
   "source": [
    "El tipo de una variable es el tipo del valor al que se refiere."
   ]
  },
  {
   "cell_type": "markdown",
   "id": "b059048f",
   "metadata": {
    "slideshow": {
     "slide_type": "slide"
    }
   },
   "source": [
    "## 2.3. Nombres de variables y palabras reservadas  "
   ]
  },
  {
   "cell_type": "markdown",
   "id": "4e553e2b",
   "metadata": {
    "slideshow": {
     "slide_type": "slide"
    }
   },
   "source": [
    "Como norma general, los programadores eligen nombres significativos para sus variables: esto permite documentar para qué se usa la variable."
   ]
  },
  {
   "cell_type": "markdown",
   "id": "6786e5d9",
   "metadata": {
    "slideshow": {
     "slide_type": "slide"
    }
   },
   "source": [
    "Los nombres de las variables pueden tener una longitud arbitraria. "
   ]
  },
  {
   "cell_type": "markdown",
   "id": "4adf1afd",
   "metadata": {
    "slideshow": {
     "slide_type": "slide"
    }
   },
   "source": [
    "Pueden estar formados por letras y números, pero deben comenzar con una letra. "
   ]
  },
  {
   "cell_type": "markdown",
   "id": "5be8bdfb",
   "metadata": {
    "slideshow": {
     "slide_type": "slide"
    }
   },
   "source": [
    "Aunque es aceptable usar mayúsculas, por convención no lo hacemos. "
   ]
  },
  {
   "cell_type": "markdown",
   "id": "517c0efb",
   "metadata": {
    "slideshow": {
     "slide_type": "slide"
    }
   },
   "source": [
    "Si lo hace, recuerde que la distinción es importante: `Bruno` y `bruno` son dos variables diferentes."
   ]
  },
  {
   "cell_type": "markdown",
   "id": "f78db937",
   "metadata": {
    "slideshow": {
     "slide_type": "slide"
    }
   },
   "source": [
    "El guión bajo (`_`) también es legal y se utiliza a menudo para separar nombres con múltiples palabras, como mi nombre o precio del cafe colombiano."
   ]
  },
  {
   "cell_type": "code",
   "execution_count": null,
   "id": "5c7709a5",
   "metadata": {
    "slideshow": {
     "slide_type": "slide"
    }
   },
   "outputs": [],
   "source": [
    "marco_julio_cañas = 261"
   ]
  },
  {
   "cell_type": "markdown",
   "id": "09379e69",
   "metadata": {
    "slideshow": {
     "slide_type": "slide"
    }
   },
   "source": [
    "Si intenta darle a una variable un nombre ilegal, obtendrá un error de sintaxis."
   ]
  },
  {
   "cell_type": "code",
   "execution_count": null,
   "id": "61c603b9",
   "metadata": {
    "slideshow": {
     "slide_type": "slide"
    }
   },
   "outputs": [],
   "source": [
    "26students = \"gran desfile\""
   ]
  },
  {
   "cell_type": "code",
   "execution_count": null,
   "id": "d3940967",
   "metadata": {
    "slideshow": {
     "slide_type": "slide"
    }
   },
   "outputs": [],
   "source": [
    "mas$ = 1000000"
   ]
  },
  {
   "cell_type": "code",
   "execution_count": null,
   "id": "42f8c33d",
   "metadata": {
    "slideshow": {
     "slide_type": "slide"
    }
   },
   "outputs": [],
   "source": [
    "class = \"Introducción am Machine Learning\"\n"
   ]
  },
  {
   "cell_type": "markdown",
   "id": "f4ce8485",
   "metadata": {
    "slideshow": {
     "slide_type": "slide"
    }
   },
   "source": [
    "* `76trombones` es ilegal porque no comienza por una letra. \n",
    "* `mas$` es ilegal porque contiene un carácter ilegal, el signo del dólar.\n",
    "* Pero ¿qué tiene de malo `class`?"
   ]
  },
  {
   "cell_type": "markdown",
   "id": "c9667832",
   "metadata": {
    "slideshow": {
     "slide_type": "slide"
    }
   },
   "source": [
    "Resulta que `class` es una de las palabras reservadas de Python. "
   ]
  },
  {
   "cell_type": "markdown",
   "id": "de8b32a9",
   "metadata": {
    "slideshow": {
     "slide_type": "slide"
    }
   },
   "source": [
    "El lenguaje usa las palabras reservadas para definir sus reglas y estructura, y no pueden usarse como nombres de variables."
   ]
  },
  {
   "cell_type": "markdown",
   "id": "5d4ccb32",
   "metadata": {
    "slideshow": {
     "slide_type": "slide"
    }
   },
   "source": [
    "Python tiene 29 palabras reservadas:"
   ]
  },
  {
   "cell_type": "code",
   "execution_count": null,
   "id": "25b12d6d",
   "metadata": {
    "slideshow": {
     "slide_type": "slide"
    }
   },
   "outputs": [],
   "source": [
    "palabras_reservadas = ['and', 'continue', 'else', 'for', 'import', 'not', 'raise', 'assert', 'def', 'except', 'from',\n",
    "                       'in', 'or', 'return', 'break', 'del', 'exec', 'global', 'is', 'pass', 'try', 'class', 'elif',\n",
    "                       'finally', 'if', 'lambda', 'print', 'while', 'as']\n",
    "import numpy as np \n",
    "import pandas as pd \n",
    "\n",
    "df = pd.DataFrame({'parabras reservadas de Python':palabras_reservadas}, index = range(len(palabras_reservadas)))  \n",
    "df "
   ]
  },
  {
   "cell_type": "markdown",
   "id": "8fe22425",
   "metadata": {
    "slideshow": {
     "slide_type": "slide"
    }
   },
   "source": [
    "Tal vez quiera mantener esta lista a mano. "
   ]
  },
  {
   "cell_type": "markdown",
   "id": "5efe041d",
   "metadata": {
    "slideshow": {
     "slide_type": "slide"
    }
   },
   "source": [
    "Si el intérprete se queja de alguno de sus nombres de variable, y usted no sabe por qué, compruebe si está en esta\n",
    "lista."
   ]
  },
  {
   "cell_type": "markdown",
   "id": "daf010a6",
   "metadata": {
    "slideshow": {
     "slide_type": "slide"
    }
   },
   "source": [
    "## 2.4. Sentencias"
   ]
  },
  {
   "cell_type": "markdown",
   "id": "57b0e471",
   "metadata": {
    "slideshow": {
     "slide_type": "slide"
    }
   },
   "source": [
    "Una sentencia es una instrucción que puede ejecutar el intérprete de Python."
   ]
  },
  {
   "cell_type": "markdown",
   "id": "3fffb1b8",
   "metadata": {
    "slideshow": {
     "slide_type": "slide"
    }
   },
   "source": [
    "Hemos visto dos tipos de sentencias: `print()` y la asignación (`=`)."
   ]
  },
  {
   "cell_type": "markdown",
   "id": "7292c408",
   "metadata": {
    "slideshow": {
     "slide_type": "slide"
    }
   },
   "source": [
    "Cuando usted escribe una sentencia en la línea de comandos, Python la ejecuta y muestra el resultado, si lo hay. "
   ]
  },
  {
   "cell_type": "markdown",
   "id": "536eb1e2",
   "metadata": {
    "slideshow": {
     "slide_type": "slide"
    }
   },
   "source": [
    "El resultado de una sentencia `print()` es un valor."
   ]
  },
  {
   "cell_type": "markdown",
   "id": "b50c99dd",
   "metadata": {
    "slideshow": {
     "slide_type": "slide"
    }
   },
   "source": [
    "Las sentencias de asignación no entregan ningún resultado."
   ]
  },
  {
   "cell_type": "markdown",
   "id": "3499fa81",
   "metadata": {
    "slideshow": {
     "slide_type": "slide"
    }
   },
   "source": [
    "Normalmente un guión contiene una secuencia de sentencias. "
   ]
  },
  {
   "cell_type": "markdown",
   "id": "a9b58465",
   "metadata": {
    "slideshow": {
     "slide_type": "slide"
    }
   },
   "source": [
    "Si hay más de una sentencia, los resultados aparecen de uno en uno tal como se van ejecutando las\n",
    "sentencias."
   ]
  },
  {
   "cell_type": "markdown",
   "id": "ddffccde",
   "metadata": {
    "slideshow": {
     "slide_type": "slide"
    }
   },
   "source": [
    "Por ejemplo, el guión"
   ]
  },
  {
   "cell_type": "code",
   "execution_count": null,
   "id": "3afbe0a9",
   "metadata": {
    "slideshow": {
     "slide_type": "slide"
    }
   },
   "outputs": [],
   "source": [
    "print(1)\n",
    "x = 2\n",
    "print(x)"
   ]
  },
  {
   "cell_type": "markdown",
   "id": "af035b0b",
   "metadata": {
    "slideshow": {
     "slide_type": "slide"
    }
   },
   "source": [
    "De nuevo, la sentencia de asignación no produce ninguna salida."
   ]
  },
  {
   "cell_type": "markdown",
   "id": "85013480",
   "metadata": {
    "slideshow": {
     "slide_type": "slide"
    }
   },
   "source": [
    "## 2.5. Evaluar expresiones  "
   ]
  },
  {
   "cell_type": "markdown",
   "id": "aae7fd47",
   "metadata": {
    "slideshow": {
     "slide_type": "slide"
    }
   },
   "source": [
    "Una expresión es una combinación de valores, variables y operadores. "
   ]
  },
  {
   "cell_type": "markdown",
   "id": "4d3a3eea",
   "metadata": {
    "slideshow": {
     "slide_type": "slide"
    }
   },
   "source": [
    "Si teclea una expresión en la línea de comandos, el intérprete la evalúa y muestra el resultado:"
   ]
  },
  {
   "cell_type": "code",
   "execution_count": null,
   "id": "33854c5c",
   "metadata": {
    "slideshow": {
     "slide_type": "slide"
    }
   },
   "outputs": [],
   "source": [
    "1 + 1"
   ]
  },
  {
   "cell_type": "markdown",
   "id": "a4b7fecd",
   "metadata": {
    "slideshow": {
     "slide_type": "slide"
    }
   },
   "source": [
    "Un valor, y también una variable, se considera una expresión por sí mismo."
   ]
  },
  {
   "cell_type": "code",
   "execution_count": null,
   "id": "a208c489",
   "metadata": {
    "slideshow": {
     "slide_type": "slide"
    }
   },
   "outputs": [],
   "source": [
    "17"
   ]
  },
  {
   "cell_type": "code",
   "execution_count": null,
   "id": "b34e06c9",
   "metadata": {
    "slideshow": {
     "slide_type": "slide"
    }
   },
   "outputs": [],
   "source": [
    "x"
   ]
  },
  {
   "cell_type": "markdown",
   "id": "5ae05293",
   "metadata": {
    "slideshow": {
     "slide_type": "slide"
    }
   },
   "source": [
    "Para complicar las cosas, evaluar una expresión no es del todo lo mismo que imprimir un valor."
   ]
  },
  {
   "cell_type": "code",
   "execution_count": null,
   "id": "c69f1178",
   "metadata": {
    "slideshow": {
     "slide_type": "slide"
    }
   },
   "outputs": [],
   "source": [
    "mensaje = \"¡Qué alegría!\""
   ]
  },
  {
   "cell_type": "code",
   "execution_count": null,
   "id": "f834f337",
   "metadata": {
    "slideshow": {
     "slide_type": "slide"
    }
   },
   "outputs": [],
   "source": [
    "mensaje"
   ]
  },
  {
   "cell_type": "code",
   "execution_count": null,
   "id": "21403d5b",
   "metadata": {
    "slideshow": {
     "slide_type": "slide"
    }
   },
   "outputs": [],
   "source": [
    "print(mensaje)"
   ]
  },
  {
   "cell_type": "markdown",
   "id": "c1aab8d3",
   "metadata": {
    "slideshow": {
     "slide_type": "slide"
    }
   },
   "source": [
    "Cuando Python muestra el valor de una expresión, usa el mismo formato que usted usaría para introducir un valor. "
   ]
  },
  {
   "cell_type": "markdown",
   "id": "4b98ec06",
   "metadata": {
    "slideshow": {
     "slide_type": "slide"
    }
   },
   "source": [
    "En el caso de las cadenas, eso significa que incluye las comillas. "
   ]
  },
  {
   "cell_type": "markdown",
   "id": "1a2e85aa",
   "metadata": {
    "slideshow": {
     "slide_type": "slide"
    }
   },
   "source": [
    "Pero la sentencia `print()` imprime el valor de la expresión, lo que en este caso es el contenido de la cadena."
   ]
  },
  {
   "cell_type": "markdown",
   "id": "bc82e02b",
   "metadata": {
    "slideshow": {
     "slide_type": "slide"
    }
   },
   "source": [
    "En un guión, una expresión sin más es una sentencia válida, pero no hace nada."
   ]
  },
  {
   "cell_type": "markdown",
   "id": "6e695206",
   "metadata": {
    "slideshow": {
     "slide_type": "slide"
    }
   },
   "source": [
    "El guión"
   ]
  },
  {
   "cell_type": "code",
   "execution_count": null,
   "id": "da9412d8",
   "metadata": {
    "slideshow": {
     "slide_type": "slide"
    }
   },
   "outputs": [],
   "source": [
    "17\n",
    "3.2\n",
    "\"Hola, mundo\"\n",
    "x = 1 + 1"
   ]
  },
  {
   "cell_type": "markdown",
   "id": "8bf16d28",
   "metadata": {
    "slideshow": {
     "slide_type": "slide"
    }
   },
   "source": [
    "no presenta ninguna salida. ¿Cómo cambiaría usted el guión para mostrar los valores de estas cuatro expresiones?"
   ]
  },
  {
   "cell_type": "code",
   "execution_count": null,
   "id": "0d0531a6",
   "metadata": {
    "slideshow": {
     "slide_type": "slide"
    }
   },
   "outputs": [],
   "source": [
    "print(17)\n",
    "print(3.2)\n",
    "print(\"Hola, mundo\")\n",
    "x = 1 + 1\n",
    "print(x)"
   ]
  },
  {
   "cell_type": "markdown",
   "id": "e01671d1",
   "metadata": {
    "slideshow": {
     "slide_type": "slide"
    }
   },
   "source": [
    "## 2.6. Operadores y expresiones"
   ]
  },
  {
   "cell_type": "markdown",
   "id": "86c2306e",
   "metadata": {
    "slideshow": {
     "slide_type": "slide"
    }
   },
   "source": [
    "Los operadores son símbolos especiales que representan cálculos simples, como la suma y la multiplicación. "
   ]
  },
  {
   "cell_type": "markdown",
   "id": "cceef011",
   "metadata": {
    "slideshow": {
     "slide_type": "slide"
    }
   },
   "source": [
    "Los valores que usa el operador se llaman operandos."
   ]
  },
  {
   "cell_type": "markdown",
   "id": "0f942d32",
   "metadata": {
    "slideshow": {
     "slide_type": "slide"
    }
   },
   "source": [
    "Las siguientes expresione son legales en Python y su significado es más o menos claro:"
   ]
  },
  {
   "cell_type": "code",
   "execution_count": null,
   "id": "15c466c3",
   "metadata": {
    "slideshow": {
     "slide_type": "slide"
    }
   },
   "outputs": [],
   "source": [
    "20+30"
   ]
  },
  {
   "cell_type": "code",
   "execution_count": null,
   "id": "004841f3",
   "metadata": {
    "slideshow": {
     "slide_type": "slide"
    }
   },
   "outputs": [],
   "source": [
    "hora = 3\n",
    "minuto = 15"
   ]
  },
  {
   "cell_type": "code",
   "execution_count": null,
   "id": "e0355671",
   "metadata": {
    "slideshow": {
     "slide_type": "slide"
    }
   },
   "outputs": [],
   "source": [
    "hora-1"
   ]
  },
  {
   "cell_type": "code",
   "execution_count": null,
   "id": "7bfefaad",
   "metadata": {
    "slideshow": {
     "slide_type": "slide"
    }
   },
   "outputs": [],
   "source": [
    "hora*60+minuto"
   ]
  },
  {
   "cell_type": "code",
   "execution_count": null,
   "id": "b5a4f869",
   "metadata": {
    "slideshow": {
     "slide_type": "slide"
    }
   },
   "outputs": [],
   "source": [
    "minuto/60"
   ]
  },
  {
   "cell_type": "code",
   "execution_count": null,
   "id": "aa1346b5",
   "metadata": {
    "slideshow": {
     "slide_type": "slide"
    }
   },
   "outputs": [],
   "source": [
    "5**2"
   ]
  },
  {
   "cell_type": "code",
   "execution_count": null,
   "id": "32e50743",
   "metadata": {
    "slideshow": {
     "slide_type": "slide"
    }
   },
   "outputs": [],
   "source": [
    "(4+5)*(5-3)"
   ]
  },
  {
   "cell_type": "markdown",
   "id": "40e769a5",
   "metadata": {
    "slideshow": {
     "slide_type": "slide"
    }
   },
   "source": [
    "Los símbolos `+, -, /`, y el uso de los paréntesis para el agrupamiento, se usan todos de la misma forma que en matemáticas. "
   ]
  },
  {
   "cell_type": "markdown",
   "id": "92894fc1",
   "metadata": {
    "slideshow": {
     "slide_type": "slide"
    }
   },
   "source": [
    "El asterisco (`*`) es el signo de multiplicación y `**` el símbolo para exponenciación."
   ]
  },
  {
   "cell_type": "markdown",
   "id": "4dd22081",
   "metadata": {
    "slideshow": {
     "slide_type": "slide"
    }
   },
   "source": [
    "Cuando aparece el nombre de una variable en el lugar de un operando, se sustituye con su valor antes de realizar la operación."
   ]
  },
  {
   "cell_type": "markdown",
   "id": "6c866ebf",
   "metadata": {
    "slideshow": {
     "slide_type": "slide"
    }
   },
   "source": [
    "La suma, resta, multiplicación y exponenciación hacen lo esperado, pero la división le puede sorprender. "
   ]
  },
  {
   "cell_type": "markdown",
   "id": "03609002",
   "metadata": {
    "slideshow": {
     "slide_type": "slide"
    }
   },
   "source": [
    "La operación que sigue tiene un resultado inesperado:"
   ]
  },
  {
   "cell_type": "code",
   "execution_count": null,
   "id": "9486fc3c",
   "metadata": {
    "slideshow": {
     "slide_type": "slide"
    }
   },
   "outputs": [],
   "source": [
    "4//3"
   ]
  },
  {
   "cell_type": "markdown",
   "id": "59e7992c",
   "metadata": {
    "slideshow": {
     "slide_type": "slide"
    }
   },
   "source": [
    "## 2.7. El orden de las operaciones"
   ]
  },
  {
   "cell_type": "markdown",
   "id": "e7028258",
   "metadata": {
    "slideshow": {
     "slide_type": "slide"
    }
   },
   "source": [
    "Cuando aparece más de un operador en una expresión, el orden de evaluación depende de las reglas de precedencia. "
   ]
  },
  {
   "cell_type": "markdown",
   "id": "cb678416",
   "metadata": {
    "slideshow": {
     "slide_type": "slide"
    }
   },
   "source": [
    "Python sigue las mismas reglas de precedencia que los propios matemáticos para sus operaciones matemáticas."
   ]
  },
  {
   "cell_type": "markdown",
   "id": "d8785608",
   "metadata": {
    "slideshow": {
     "slide_type": "slide"
    }
   },
   "source": [
    "Los ingleses usan el acrónimo **PEMDAS** como regla parea recordar el orden de las operaciones:"
   ]
  },
  {
   "cell_type": "markdown",
   "id": "b2200426",
   "metadata": {
    "slideshow": {
     "slide_type": "slide"
    }
   },
   "source": [
    "* **Paréntesis:** tienen la precedencia más alta y pueden usarse para forzar que una expresión se evalúe en el orden que \n",
    "  queramos nosotros. Puesto que las expresiones entre paréntesis se evalúan primero, 2 * (3-1) es igual a 4, y \n",
    "  (1+1)**(5-2) es igual a 8. Tambi´en puede usar par´entesis para que una expresi´on sea m´as legible; por ejemplo \n",
    "  (minuto * 100) / 60, aunque el resultado no cambie de todas formas."
   ]
  },
  {
   "cell_type": "code",
   "execution_count": null,
   "id": "1f43c1e8",
   "metadata": {
    "slideshow": {
     "slide_type": "slide"
    }
   },
   "outputs": [],
   "source": [
    "2*(3-1)"
   ]
  },
  {
   "cell_type": "markdown",
   "id": "29dbd215",
   "metadata": {
    "slideshow": {
     "slide_type": "slide"
    }
   },
   "source": [
    "* **Exponenciación** tiene la siguiente precedencia más alta; así pues 2**1+1 es igual a 3 y no a 4, y 3*1**3 es igual a 3 y no \n",
    "  a 27."
   ]
  },
  {
   "cell_type": "code",
   "execution_count": null,
   "id": "57d93a7e",
   "metadata": {
    "slideshow": {
     "slide_type": "slide"
    }
   },
   "outputs": [],
   "source": [
    "2**1+1"
   ]
  },
  {
   "cell_type": "markdown",
   "id": "30b72262",
   "metadata": {
    "slideshow": {
     "slide_type": "slide"
    }
   },
   "source": [
    "* La Multiplicación y la División tienen la misma precedencia, que es más alta que la de la Adición y la Sustracción, que \n",
    "  tienen también la misma precedencia. Por tanto 2*3-1 devuelve 5 y no 4, y 2/3-1 da -1, y no 1 (recuerde que en la divisi´on \n",
    "  de enteros 2/3 da 0)."
   ]
  },
  {
   "cell_type": "code",
   "execution_count": null,
   "id": "5e912982",
   "metadata": {
    "slideshow": {
     "slide_type": "slide"
    }
   },
   "outputs": [],
   "source": [
    "2*3/6"
   ]
  },
  {
   "cell_type": "markdown",
   "id": "37e20c49",
   "metadata": {
    "slideshow": {
     "slide_type": "slide"
    }
   },
   "source": [
    "Los operadores que tienen la misma precedencia se evalúan de izquierda\n",
    "a derecha. "
   ]
  },
  {
   "cell_type": "markdown",
   "id": "89f4daf4",
   "metadata": {
    "slideshow": {
     "slide_type": "slide"
    }
   },
   "source": [
    "Así, en la expresión `6*4/2`, tiene lugar primero la multiplicación. "
   ]
  },
  {
   "cell_type": "markdown",
   "id": "67325167",
   "metadata": {
    "slideshow": {
     "slide_type": "slide"
    }
   },
   "source": [
    "Note que obtiene el mismo resultado si evalúa de izquierda a derecha y de derecha a izquierda. "
   ]
  },
  {
   "cell_type": "code",
   "execution_count": null,
   "id": "ec86f8ae",
   "metadata": {
    "slideshow": {
     "slide_type": "slide"
    }
   },
   "outputs": [],
   "source": [
    "6*4/2"
   ]
  },
  {
   "cell_type": "markdown",
   "id": "65e9632c",
   "metadata": {
    "slideshow": {
     "slide_type": "slide"
    }
   },
   "source": [
    "En el siguiente ejemplo es importante el uso de paréntesos para obligar a cambiar el orden de evaluación. "
   ]
  },
  {
   "cell_type": "code",
   "execution_count": null,
   "id": "d8461bb5",
   "metadata": {
    "slideshow": {
     "slide_type": "slide"
    }
   },
   "outputs": [],
   "source": [
    "1+2*3 "
   ]
  },
  {
   "cell_type": "markdown",
   "id": "2cc81d1c",
   "metadata": {
    "slideshow": {
     "slide_type": "slide"
    }
   },
   "source": [
    "## 2.8. Las operaciones sobre cadenas"
   ]
  },
  {
   "cell_type": "markdown",
   "id": "abc7b3fa",
   "metadata": {
    "slideshow": {
     "slide_type": "slide"
    }
   },
   "source": [
    "## [Video de apoyo a esta sección](https://www.youtube.com/watch?v=7QtOS0w0SNI)"
   ]
  },
  {
   "cell_type": "markdown",
   "id": "bc001823",
   "metadata": {
    "slideshow": {
     "slide_type": "slide"
    }
   },
   "source": [
    "En general no es posible realizar operaciones matemáticas con cadenas, incluso si las cadenas parecen números. "
   ]
  },
  {
   "cell_type": "markdown",
   "id": "65d4e6c8",
   "metadata": {
    "slideshow": {
     "slide_type": "slide"
    }
   },
   "source": [
    "Las siguientes sentencias son ilegales (suponiendo que `mensaje` sea de tipo string) "
   ]
  },
  {
   "cell_type": "code",
   "execution_count": null,
   "id": "f034ef04",
   "metadata": {
    "slideshow": {
     "slide_type": "slide"
    }
   },
   "outputs": [],
   "source": [
    "mensaje = \"\""
   ]
  },
  {
   "cell_type": "code",
   "execution_count": null,
   "id": "10d72b7f",
   "metadata": {
    "slideshow": {
     "slide_type": "slide"
    }
   },
   "outputs": [],
   "source": [
    "type(mensaje) "
   ]
  },
  {
   "cell_type": "code",
   "execution_count": null,
   "id": "2c3c2247",
   "metadata": {
    "slideshow": {
     "slide_type": "slide"
    }
   },
   "outputs": [],
   "source": [
    "mensaje-1 "
   ]
  },
  {
   "cell_type": "code",
   "execution_count": null,
   "id": "ce55f9b2",
   "metadata": {
    "slideshow": {
     "slide_type": "slide"
    }
   },
   "outputs": [],
   "source": [
    "\"Hola\"/123 "
   ]
  },
  {
   "cell_type": "code",
   "execution_count": null,
   "id": "3f661c2b",
   "metadata": {
    "slideshow": {
     "slide_type": "slide"
    }
   },
   "outputs": [],
   "source": [
    "mensaje*\"Hola\" "
   ]
  },
  {
   "cell_type": "code",
   "execution_count": null,
   "id": "610dc121",
   "metadata": {
    "slideshow": {
     "slide_type": "slide"
    }
   },
   "outputs": [],
   "source": [
    "\"15\"+2"
   ]
  },
  {
   "cell_type": "markdown",
   "id": "325f524b",
   "metadata": {
    "slideshow": {
     "slide_type": "slide"
    }
   },
   "source": [
    "Es curioso que el operador `+` funcione con cadenas, aunque no haga exactamente lo que usted esperaría. "
   ]
  },
  {
   "cell_type": "markdown",
   "id": "2cf7ca92",
   "metadata": {
    "slideshow": {
     "slide_type": "slide"
    }
   },
   "source": [
    "Para cadenas, el operador `+` representa la concatenación, lo que significa que se unen los dos operandos uniéndolos extremo con extremo. Por ejemplo:"
   ]
  },
  {
   "cell_type": "code",
   "execution_count": null,
   "id": "86e18a71",
   "metadata": {
    "slideshow": {
     "slide_type": "slide"
    }
   },
   "outputs": [],
   "source": [
    "fruta = \"Limón\"\n",
    "liquido = \" con agua\"\n",
    "print(fruta + liquido) "
   ]
  },
  {
   "cell_type": "markdown",
   "id": "18c93057",
   "metadata": {
    "slideshow": {
     "slide_type": "slide"
    }
   },
   "source": [
    "La salida del programa es `Limón con agua`. "
   ]
  },
  {
   "cell_type": "markdown",
   "id": "9f8a8f90",
   "metadata": {
    "slideshow": {
     "slide_type": "slide"
    }
   },
   "source": [
    "El espacio delante de ` con` es parte de la cadena, y es necesario para introducir el espacio que separa las cadenas concatenadas."
   ]
  },
  {
   "cell_type": "markdown",
   "id": "936095c0",
   "metadata": {
    "slideshow": {
     "slide_type": "slide"
    }
   },
   "source": [
    "El operador `*` también funciona con cadenas; lleva a cabo la repetición. "
   ]
  },
  {
   "cell_type": "markdown",
   "id": "a6986fd2",
   "metadata": {
    "slideshow": {
     "slide_type": "slide"
    }
   },
   "source": [
    "Por ejemplo ’Chiste’*3 es ’ChisteChisteChiste’. "
   ]
  },
  {
   "cell_type": "code",
   "execution_count": null,
   "id": "9130a442",
   "metadata": {
    "slideshow": {
     "slide_type": "slide"
    }
   },
   "outputs": [],
   "source": [
    "'chiste '*3"
   ]
  },
  {
   "cell_type": "markdown",
   "id": "8e22507e",
   "metadata": {
    "slideshow": {
     "slide_type": "slide"
    }
   },
   "source": [
    "Uno de los operandos ha de ser una cadena, el otro ha de ser un entero."
   ]
  },
  {
   "cell_type": "markdown",
   "id": "a32cfabe",
   "metadata": {
    "slideshow": {
     "slide_type": "slide"
    }
   },
   "source": [
    "Por un lado, esta interpretación de `+` y `*` cobra sentido por analogía con la suma y la multiplicación. "
   ]
  },
  {
   "cell_type": "markdown",
   "id": "f833e28c",
   "metadata": {
    "slideshow": {
     "slide_type": "slide"
    }
   },
   "source": [
    "Igual que `4*3` es equivalente a `4+4+4`, esperamos que `'Chiste'*3` sea lo mismo que `\"Chiste\"+\"Chiste\"+\"Chiste\"`, y así es. "
   ]
  },
  {
   "cell_type": "code",
   "execution_count": null,
   "id": "3a17e94e",
   "metadata": {
    "slideshow": {
     "slide_type": "slide"
    }
   },
   "outputs": [],
   "source": [
    "'chiste'*3  == 'chiste' + 'chiste' + 'chiste' "
   ]
  },
  {
   "cell_type": "markdown",
   "id": "7ca7413b",
   "metadata": {
    "slideshow": {
     "slide_type": "slide"
    }
   },
   "source": [
    "Por otro lado, la concatenación y la repetición son de alguna manera muy diferentes de la adición y la multiplicación de enteros. "
   ]
  },
  {
   "cell_type": "markdown",
   "id": "92bd79df",
   "metadata": {
    "slideshow": {
     "slide_type": "slide"
    }
   },
   "source": [
    "¿Puede encontrar una propiedad que tienen la suma y la multiplicación de enteros y que no tengan la concatenación y la repetición de cadenas?"
   ]
  },
  {
   "cell_type": "code",
   "execution_count": null,
   "id": "0ee6c304",
   "metadata": {
    "slideshow": {
     "slide_type": "slide"
    }
   },
   "outputs": [],
   "source": [
    "'a'+'b' != 'b'+'a'"
   ]
  },
  {
   "cell_type": "markdown",
   "id": "6a575f7c",
   "metadata": {
    "slideshow": {
     "slide_type": "slide"
    }
   },
   "source": [
    "**Conclusión**\n",
    "\n",
    "La suma de cadenas no es conmutativa. "
   ]
  },
  {
   "cell_type": "markdown",
   "id": "228316dd",
   "metadata": {
    "slideshow": {
     "slide_type": "slide"
    }
   },
   "source": [
    "## 2.9. Composición  "
   ]
  },
  {
   "cell_type": "markdown",
   "id": "44882ad3",
   "metadata": {
    "slideshow": {
     "slide_type": "slide"
    }
   },
   "source": [
    "Hasta ahora hemos examinado los elementos de un programa (variables, expresiones y sentencias) por separado, sin hablar de cómo combinarlos."
   ]
  },
  {
   "cell_type": "markdown",
   "id": "9838cb2d",
   "metadata": {
    "slideshow": {
     "slide_type": "slide"
    }
   },
   "source": [
    "Una de las características más útiles de los lenguajes de programación es su capacidad de tomar pequeños bloques de construcción y ensamblarlos. "
   ]
  },
  {
   "cell_type": "markdown",
   "id": "dc144494",
   "metadata": {
    "slideshow": {
     "slide_type": "slide"
    }
   },
   "source": [
    "Por ejemplo, sabemos cómo sumar números y cómo imprimirlos; resulta que podemos hacer las dos cosas a un tiempo:"
   ]
  },
  {
   "cell_type": "code",
   "execution_count": null,
   "id": "ed863a04",
   "metadata": {
    "slideshow": {
     "slide_type": "slide"
    }
   },
   "outputs": [],
   "source": [
    "print(17 + 3)"
   ]
  },
  {
   "cell_type": "markdown",
   "id": "09f40b81",
   "metadata": {
    "slideshow": {
     "slide_type": "slide"
    }
   },
   "source": [
    "En realidad, no debemos decir “al mismo tiempo”, puesto que en realidad la suma tiene que realizarse antes de la impresión, pero la cuestión es que cualquier expresión relacionada con números, cadenas y variables puede usarse dentro de una sentencia `print()`. "
   ]
  },
  {
   "cell_type": "markdown",
   "id": "b095ef0d",
   "metadata": {
    "slideshow": {
     "slide_type": "slide"
    }
   },
   "source": [
    "Ya hemos visto un ejemplo de ello: "
   ]
  },
  {
   "cell_type": "code",
   "execution_count": null,
   "id": "68c6b545",
   "metadata": {
    "slideshow": {
     "slide_type": "slide"
    }
   },
   "outputs": [],
   "source": [
    "hora = 2\n",
    "minuto = 15\n",
    "print(\"Número de minutos desde la medianoche: \", hora*60+minuto)"
   ]
  },
  {
   "cell_type": "markdown",
   "id": "d7a610ac",
   "metadata": {
    "slideshow": {
     "slide_type": "slide"
    }
   },
   "source": [
    "Y también puede poner expresiones arbitrarias en la parte derecha de una sentencia de asignación:"
   ]
  },
  {
   "cell_type": "code",
   "execution_count": null,
   "id": "aed4f157",
   "metadata": {
    "slideshow": {
     "slide_type": "slide"
    }
   },
   "outputs": [],
   "source": [
    "porcentaje = (minuto * 100)/60"
   ]
  },
  {
   "cell_type": "code",
   "execution_count": null,
   "id": "7fee7f34",
   "metadata": {
    "slideshow": {
     "slide_type": "slide"
    }
   },
   "outputs": [],
   "source": [
    "porcentaje "
   ]
  },
  {
   "cell_type": "markdown",
   "id": "8d074ee3",
   "metadata": {
    "slideshow": {
     "slide_type": "slide"
    }
   },
   "source": [
    "Esta capacidad puede no resultar muy sorprendente, pero ya veremos otros ejemplos donde la composición hace posible expresar cálculos complejos con limpieza y brevedad."
   ]
  },
  {
   "cell_type": "markdown",
   "id": "47e4ee02",
   "metadata": {
    "slideshow": {
     "slide_type": "slide"
    }
   },
   "source": [
    "## ATENCIÓN: "
   ]
  },
  {
   "cell_type": "markdown",
   "id": "12a71049",
   "metadata": {
    "slideshow": {
     "slide_type": "slide"
    }
   },
   "source": [
    "Hay límites al lugar donde pueden usarse ciertas expresiones. "
   ]
  },
  {
   "cell_type": "markdown",
   "id": "e8af4f4a",
   "metadata": {
    "slideshow": {
     "slide_type": "slide"
    }
   },
   "source": [
    "Por ejemplo, la parte izquierda de una sentencia de asignación tiene que ser un nombre de variable, no una exrpresión. "
   ]
  },
  {
   "cell_type": "markdown",
   "id": "7ede59e5",
   "metadata": {
    "slideshow": {
     "slide_type": "slide"
    }
   },
   "source": [
    "Por tanto es ilegal lo siguiente: "
   ]
  },
  {
   "cell_type": "code",
   "execution_count": null,
   "id": "7cc47e28",
   "metadata": {
    "slideshow": {
     "slide_type": "slide"
    }
   },
   "outputs": [],
   "source": [
    "minute+1 = hour"
   ]
  },
  {
   "cell_type": "code",
   "execution_count": null,
   "id": "4f07d3ba",
   "metadata": {},
   "outputs": [],
   "source": [
    "hora = minuto + 1\n",
    "hora "
   ]
  },
  {
   "cell_type": "markdown",
   "id": "5fbb17ad",
   "metadata": {
    "slideshow": {
     "slide_type": "slide"
    }
   },
   "source": [
    "## 2.10. Los comentarios"
   ]
  },
  {
   "cell_type": "markdown",
   "id": "a1448bf6",
   "metadata": {
    "slideshow": {
     "slide_type": "slide"
    }
   },
   "source": [
    "Conforme los programas van creciendo de tamaño y complicándose, se vuelven más complicados de leer. "
   ]
  },
  {
   "cell_type": "markdown",
   "id": "4da96989",
   "metadata": {
    "slideshow": {
     "slide_type": "slide"
    }
   },
   "source": [
    "Los lenguajes formales son densos y con frecuencia es difícil observar un trozo de código y averiguar lo que hace, o por qué lo hace."
   ]
  },
  {
   "cell_type": "markdown",
   "id": "1fa617b2",
   "metadata": {
    "slideshow": {
     "slide_type": "slide"
    }
   },
   "source": [
    "Por ello es una buena idea añadir notas a su programa que expliquen, en un lenguaje natural, qué hace el programa. "
   ]
  },
  {
   "cell_type": "markdown",
   "id": "0136f58d",
   "metadata": {
    "slideshow": {
     "slide_type": "slide"
    }
   },
   "source": [
    "Estas notas se llaman comentarios y se marcan con el símbolo `#`:"
   ]
  },
  {
   "cell_type": "code",
   "execution_count": null,
   "id": "92ee5e71",
   "metadata": {
    "slideshow": {
     "slide_type": "slide"
    }
   },
   "outputs": [],
   "source": [
    "# calcula el porcentaje de la hora que ha pasado ya\n",
    "porcentaje = (minuto * 100) / 60\n",
    "porcentaje "
   ]
  },
  {
   "cell_type": "markdown",
   "id": "289f4f68",
   "metadata": {
    "slideshow": {
     "slide_type": "slide"
    }
   },
   "source": [
    "En este caso, el comentario aparece en una línea propia. "
   ]
  },
  {
   "cell_type": "markdown",
   "id": "4de824ba",
   "metadata": {
    "slideshow": {
     "slide_type": "slide"
    }
   },
   "source": [
    "También puede poner comentarios al final de otras líneas:"
   ]
  },
  {
   "cell_type": "code",
   "execution_count": null,
   "id": "9490bd45",
   "metadata": {
    "slideshow": {
     "slide_type": "slide"
    }
   },
   "outputs": [],
   "source": [
    "porcentaje = (minuto * 100)/60    # ojo: división de enteros"
   ]
  },
  {
   "cell_type": "markdown",
   "id": "7e11c35a",
   "metadata": {
    "slideshow": {
     "slide_type": "slide"
    }
   },
   "source": [
    "Todo lo que va del `#` al final de la línea se ignora (no tiene efecto sobre el programa). "
   ]
  },
  {
   "cell_type": "markdown",
   "id": "dfa97094",
   "metadata": {
    "slideshow": {
     "slide_type": "slide"
    }
   },
   "source": [
    "El mensaje está destinado al programador, o a futuros programadores que podrían tener que usar el código. "
   ]
  },
  {
   "cell_type": "markdown",
   "id": "2056e531",
   "metadata": {
    "slideshow": {
     "slide_type": "slide"
    }
   },
   "source": [
    "## 2.11. Glosario"
   ]
  },
  {
   "cell_type": "markdown",
   "id": "299f0236",
   "metadata": {
    "slideshow": {
     "slide_type": "slide"
    }
   },
   "source": [
    "* **valor**: un número o cadena (o cualquier otra cosa que se especifique posteriormente) que puede almacenarse en una \n",
    "  variable o calcularse en una expresión"
   ]
  },
  {
   "cell_type": "markdown",
   "id": "609b2175",
   "metadata": {
    "slideshow": {
     "slide_type": "slide"
    }
   },
   "source": [
    "* **tipo**: un conjunto de valores. El tipo de un valor determina cómo puede usarse en las expresiones. Hasta ahora, los tipos que hemos visto son enteros (tipo `int`), números de coma flotante (tipo `float`) y cadenas (tipo `string`)."
   ]
  },
  {
   "cell_type": "markdown",
   "id": "f64415cb",
   "metadata": {
    "slideshow": {
     "slide_type": "slide"
    }
   },
   "source": [
    "* **coma flotante**: un formato para representar números con decimales."
   ]
  },
  {
   "cell_type": "markdown",
   "id": "ec215ae1",
   "metadata": {
    "slideshow": {
     "slide_type": "slide"
    }
   },
   "source": [
    "* **variable:** nombre que hace referencia a un valor."
   ]
  },
  {
   "cell_type": "markdown",
   "id": "6fc94d79",
   "metadata": {
    "slideshow": {
     "slide_type": "slide"
    }
   },
   "source": [
    "* **sentencia:** es una porción de código que representa una orden o acción. Hasta ahora, las sentencias que hemos vistos \n",
    "  son las asignaciones y las sentencias `print()`."
   ]
  },
  {
   "cell_type": "markdown",
   "id": "fae45cde",
   "metadata": {
    "slideshow": {
     "slide_type": "slide"
    }
   },
   "source": [
    "* **asignación:** sentencia que asigna un valor a una variable (`=`)."
   ]
  },
  {
   "cell_type": "markdown",
   "id": "72ef506a",
   "metadata": {
    "slideshow": {
     "slide_type": "slide"
    }
   },
   "source": [
    "* **diagrama de estado:** representación gráfica de un conjunto de variables y de los valores a los que se refiere."
   ]
  },
  {
   "cell_type": "markdown",
   "id": "10df3b94",
   "metadata": {
    "slideshow": {
     "slide_type": "slide"
    }
   },
   "source": [
    "* **palabra reservada:** es una palabra clave que usa el compilador para analizar sintácticamente los programas. No pueden\n",
    "  usarse palabras reservadas, por ejemplo `if`, `def` y `while` como nombres de variables."
   ]
  },
  {
   "cell_type": "markdown",
   "id": "f0fb38df",
   "metadata": {
    "slideshow": {
     "slide_type": "slide"
    }
   },
   "source": [
    "* **operador:** un símbolo especial que representa un cálculo sencillo, como la suma, la multiplicación o la concatenación de\n",
    "  cadenas."
   ]
  },
  {
   "cell_type": "markdown",
   "id": "03494b5b",
   "metadata": {
    "slideshow": {
     "slide_type": "slide"
    }
   },
   "source": [
    "* **operando:** uno de los valores sobre los que actúa un operador."
   ]
  },
  {
   "cell_type": "markdown",
   "id": "58921f72",
   "metadata": {
    "slideshow": {
     "slide_type": "slide"
    }
   },
   "source": [
    "* **expresión:** una combinación de variables, operadores y valores. Dicha combinación representa un único valor como \n",
    "  resultado."
   ]
  },
  {
   "cell_type": "markdown",
   "id": "cba46e70",
   "metadata": {
    "slideshow": {
     "slide_type": "slide"
    }
   },
   "source": [
    "* **evaluar una expresión:** simplifica ejecutar las operaciones para entregar un valor único. "
   ]
  },
  {
   "cell_type": "markdown",
   "id": "075fe808",
   "metadata": {
    "slideshow": {
     "slide_type": "slide"
    }
   },
   "source": [
    "* **división de enteros:** es una operación que divide un entero entre otro y devuelve un entero. La división de enteros \n",
    "  devuelve sólo el número entero de veces que el numerador es divisible por en denominador, y descarta el resto. (`//`)"
   ]
  },
  {
   "cell_type": "code",
   "execution_count": null,
   "id": "88071e9f",
   "metadata": {
    "slideshow": {
     "slide_type": "slide"
    }
   },
   "outputs": [],
   "source": [
    "11//2"
   ]
  },
  {
   "cell_type": "markdown",
   "id": "da4df054",
   "metadata": {
    "slideshow": {
     "slide_type": "slide"
    }
   },
   "source": [
    "* **reglas de precedencia:** la serie de reglas que especifican el orden en el que las expresiones con múltiples operadores \n",
    "  han de evaluarse."
   ]
  },
  {
   "cell_type": "markdown",
   "id": "2ee7e805",
   "metadata": {
    "slideshow": {
     "slide_type": "slide"
    }
   },
   "source": [
    "* **concatenar:** unir dos operandos extremo con extremo."
   ]
  },
  {
   "cell_type": "markdown",
   "id": "1ceddb0a",
   "metadata": {
    "slideshow": {
     "slide_type": "slide"
    }
   },
   "source": [
    "* **composición:** la capacidad de combinar expresiones sencillas y sentencias hasta crear sentencias y expresiones compuestas,\n",
    "  con el fin de representar cálculos complejos de forma concisa."
   ]
  },
  {
   "cell_type": "markdown",
   "id": "480df318",
   "metadata": {
    "slideshow": {
     "slide_type": "slide"
    }
   },
   "source": [
    "* **comentario**: un segmento de información en un programa, destinado a otros programadores (o cualquiera que lea el código\n",
    "  fuente) y que no tiene efecto sobre la ejecución del programa"
   ]
  },
  {
   "cell_type": "markdown",
   "id": "b795d9a2",
   "metadata": {
    "slideshow": {
     "slide_type": "slide"
    }
   },
   "source": [
    "# Capítulo 3\n",
    "## Funciones\n",
    "### 3.1. Llamadas a funciones"
   ]
  },
  {
   "cell_type": "markdown",
   "id": "2eec9539",
   "metadata": {
    "slideshow": {
     "slide_type": "slide"
    }
   },
   "source": [
    "## [Video de apoyo a la lectura sobre llamada a funciones](https://www.youtube.com/watch?v=oyKHi_nFisM) "
   ]
  },
  {
   "cell_type": "markdown",
   "id": "5d9851f6",
   "metadata": {
    "slideshow": {
     "slide_type": "slide"
    }
   },
   "source": [
    "Ya hemos visto un ejemplo de una llamada a una función:"
   ]
  },
  {
   "cell_type": "code",
   "execution_count": null,
   "id": "4a050549",
   "metadata": {
    "slideshow": {
     "slide_type": "slide"
    }
   },
   "outputs": [],
   "source": [
    "type(32.0)"
   ]
  },
  {
   "cell_type": "markdown",
   "id": "ed071b43",
   "metadata": {
    "slideshow": {
     "slide_type": "slide"
    }
   },
   "source": [
    "El nombre de la función es `type()`, y muestra el tipo de un **valor** o de una **variable**."
   ]
  },
  {
   "cell_type": "markdown",
   "id": "f0852a06",
   "metadata": {
    "slideshow": {
     "slide_type": "slide"
    }
   },
   "source": [
    "El valor o variable, llamado el argumento de la función, ha de estar encerrado entre paréntesis. "
   ]
  },
  {
   "cell_type": "markdown",
   "id": "f63f9cb0",
   "metadata": {
    "slideshow": {
     "slide_type": "slide"
    }
   },
   "source": [
    "Es habitual decir que una función “toma” un argumento y “devuelve” un resultado. "
   ]
  },
  {
   "cell_type": "markdown",
   "id": "2d908625",
   "metadata": {
    "slideshow": {
     "slide_type": "slide"
    }
   },
   "source": [
    "El resultado se llama **valor de retorno**."
   ]
  },
  {
   "cell_type": "markdown",
   "id": "1b11b231",
   "metadata": {
    "slideshow": {
     "slide_type": "slide"
    }
   },
   "source": [
    "En lugar de imprimir el valor de retorno, podemos asignárselo a una variable."
   ]
  },
  {
   "cell_type": "code",
   "execution_count": null,
   "id": "c89fca4f",
   "metadata": {
    "slideshow": {
     "slide_type": "slide"
    }
   },
   "outputs": [],
   "source": [
    "x = type(\"4\")\n",
    "print(x)"
   ]
  },
  {
   "cell_type": "markdown",
   "id": "2f2e48d8",
   "metadata": {
    "slideshow": {
     "slide_type": "slide"
    }
   },
   "source": [
    "Otro ejemplo más: la función `id()` toma como argumento un valor o una variable y devuelve un entero que actúa como identificador único de ese valor."
   ]
  },
  {
   "cell_type": "code",
   "execution_count": null,
   "id": "8d5212f2",
   "metadata": {
    "slideshow": {
     "slide_type": "slide"
    }
   },
   "outputs": [],
   "source": [
    "id(3)"
   ]
  },
  {
   "cell_type": "code",
   "execution_count": null,
   "id": "d8938f3a",
   "metadata": {
    "slideshow": {
     "slide_type": "slide"
    }
   },
   "outputs": [],
   "source": [
    "yasmi = 702\n",
    "id(yasmi) "
   ]
  },
  {
   "cell_type": "markdown",
   "id": "3cd96e6c",
   "metadata": {
    "slideshow": {
     "slide_type": "slide"
    }
   },
   "source": [
    "Cada valor tiene un `id`, que es un valor único relacionado con el lugar dónde se almacena en la memoria del computador. "
   ]
  },
  {
   "cell_type": "markdown",
   "id": "a1c82811",
   "metadata": {
    "slideshow": {
     "slide_type": "slide"
    }
   },
   "source": [
    "El `id` de una variable es el `id` del valor al que hace referencia"
   ]
  },
  {
   "cell_type": "markdown",
   "id": "d7439207",
   "metadata": {
    "slideshow": {
     "slide_type": "slide"
    }
   },
   "source": [
    "## 3.2. Conversión de tipos  "
   ]
  },
  {
   "cell_type": "markdown",
   "id": "45ab51c1",
   "metadata": {
    "slideshow": {
     "slide_type": "slide"
    }
   },
   "source": [
    "Python proporciona una colección de funciones internas que convierten valores de un tipo a otro. "
   ]
  },
  {
   "cell_type": "markdown",
   "id": "3eb68358",
   "metadata": {
    "slideshow": {
     "slide_type": "slide"
    }
   },
   "source": [
    "La función `int()` toma un valor y lo convierte a un entero, si es posible, o da un error si no es posible."
   ]
  },
  {
   "cell_type": "code",
   "execution_count": null,
   "id": "48a00c85",
   "metadata": {
    "slideshow": {
     "slide_type": "slide"
    }
   },
   "outputs": [],
   "source": [
    "int(\"32\")"
   ]
  },
  {
   "cell_type": "code",
   "execution_count": null,
   "id": "f8dda642",
   "metadata": {
    "slideshow": {
     "slide_type": "slide"
    }
   },
   "outputs": [],
   "source": [
    "int(\"Hola\")"
   ]
  },
  {
   "cell_type": "markdown",
   "id": "2eb50c1a",
   "metadata": {
    "slideshow": {
     "slide_type": "slide"
    }
   },
   "source": [
    "`int()` también convierte valores de coma flotante a enteros, pero recuerde que siempre redondea hacia abajo:"
   ]
  },
  {
   "cell_type": "code",
   "execution_count": null,
   "id": "430322ec",
   "metadata": {
    "slideshow": {
     "slide_type": "slide"
    }
   },
   "outputs": [],
   "source": [
    "int(3.99999)"
   ]
  },
  {
   "cell_type": "markdown",
   "id": "cb6af77e",
   "metadata": {
    "slideshow": {
     "slide_type": "slide"
    }
   },
   "source": [
    "La función `float()` que convierte enteros y cadenas en números en coma flotante:"
   ]
  },
  {
   "cell_type": "code",
   "execution_count": null,
   "id": "a21d6cea",
   "metadata": {
    "slideshow": {
     "slide_type": "slide"
    }
   },
   "outputs": [],
   "source": [
    "float(32)"
   ]
  },
  {
   "cell_type": "code",
   "execution_count": null,
   "id": "22f268df",
   "metadata": {
    "slideshow": {
     "slide_type": "slide"
    }
   },
   "outputs": [],
   "source": [
    "float(\"3.14159\")"
   ]
  },
  {
   "cell_type": "code",
   "execution_count": null,
   "id": "ba2b5bdc",
   "metadata": {
    "slideshow": {
     "slide_type": "slide"
    }
   },
   "outputs": [],
   "source": [
    "float('') "
   ]
  },
  {
   "cell_type": "markdown",
   "id": "136a62e0",
   "metadata": {
    "slideshow": {
     "slide_type": "slide"
    }
   },
   "source": [
    "Finalmente, está la función `str()`, que convierte a tipo string:"
   ]
  },
  {
   "cell_type": "code",
   "execution_count": null,
   "id": "ebae0bbc",
   "metadata": {
    "slideshow": {
     "slide_type": "slide"
    }
   },
   "outputs": [],
   "source": [
    "str(32)"
   ]
  },
  {
   "cell_type": "code",
   "execution_count": null,
   "id": "9f97e8d3",
   "metadata": {
    "slideshow": {
     "slide_type": "slide"
    }
   },
   "outputs": [],
   "source": [
    "str(3.14149)"
   ]
  },
  {
   "cell_type": "code",
   "execution_count": null,
   "id": "338fea22",
   "metadata": {
    "slideshow": {
     "slide_type": "slide"
    }
   },
   "outputs": [],
   "source": [
    "str(2+4)"
   ]
  },
  {
   "cell_type": "markdown",
   "id": "af67a651",
   "metadata": {
    "slideshow": {
     "slide_type": "slide"
    }
   },
   "source": [
    "Pudiera parecer extraño que Python distinga entre el valor entero 1 y el valor de coma flotante 1.0. "
   ]
  },
  {
   "cell_type": "markdown",
   "id": "808e0cfc",
   "metadata": {
    "slideshow": {
     "slide_type": "slide"
    }
   },
   "source": [
    "Tal vez representen el mismo número, pero pertenecen a tipos distintos. "
   ]
  },
  {
   "cell_type": "markdown",
   "id": "227bd4ad",
   "metadata": {
    "slideshow": {
     "slide_type": "slide"
    }
   },
   "source": [
    "El motivo es que se representan de forma distinta dentro del computador."
   ]
  },
  {
   "cell_type": "markdown",
   "id": "24840a9d",
   "metadata": {
    "slideshow": {
     "slide_type": "slide"
    }
   },
   "source": [
    "## 3.3. Coerción de tipos"
   ]
  },
  {
   "cell_type": "code",
   "execution_count": null,
   "id": "c5720e88",
   "metadata": {
    "slideshow": {
     "slide_type": "slide"
    }
   },
   "outputs": [],
   "source": [
    "minuto = 59\n",
    "minuto/60.0"
   ]
  },
  {
   "cell_type": "markdown",
   "id": "93518bb6",
   "metadata": {
    "slideshow": {
     "slide_type": "slide"
    }
   },
   "source": [
    "O bien podemos sacar provecho de las reglas de la conversión automática de tipos, llamada coerción de tipos. "
   ]
  },
  {
   "cell_type": "markdown",
   "id": "3e06d52a",
   "metadata": {
    "slideshow": {
     "slide_type": "slide"
    }
   },
   "source": [
    "Para los operadores matemáticos, si uno de los operandos matemáticos es tipo `float`, el otro se convierte automáticamente\n",
    "en `float`."
   ]
  },
  {
   "cell_type": "markdown",
   "id": "f0cc24a3",
   "metadata": {
    "slideshow": {
     "slide_type": "slide"
    }
   },
   "source": [
    "Al usar un denomidador que es `float`, obligamos a Python a hacer división de coma flotante."
   ]
  },
  {
   "cell_type": "markdown",
   "id": "2e280b43",
   "metadata": {
    "slideshow": {
     "slide_type": "slide"
    }
   },
   "source": [
    "## 3.4. Funciones matemáticas"
   ]
  },
  {
   "cell_type": "markdown",
   "id": "bbb46df7",
   "metadata": {
    "slideshow": {
     "slide_type": "slide"
    }
   },
   "source": [
    "Es posible que ya haya visto usted en matemáticas funciones como `sin` (seno) y `log`, y que haya aprendido a evaluar expresiones como `sin(pi/2)` y `log(1/x)`."
   ]
  },
  {
   "cell_type": "markdown",
   "id": "5106197a",
   "metadata": {
    "slideshow": {
     "slide_type": "slide"
    }
   },
   "source": [
    "Primero evalúa la expresión entre paréntesis, (el argumento). "
   ]
  },
  {
   "cell_type": "markdown",
   "id": "dd819ced",
   "metadata": {
    "slideshow": {
     "slide_type": "slide"
    }
   },
   "source": [
    "Por ejemplo, `pi/2` es aproximadamente $1.571$, y `1/x` es $0.1$ (si $x$ es igual a $10.0$)."
   ]
  },
  {
   "cell_type": "markdown",
   "id": "829c2f18",
   "metadata": {
    "slideshow": {
     "slide_type": "slide"
    }
   },
   "source": [
    "Luego evalúa la función en sí misma, bien mirándola en una tabla, bien llevando a cabo diversos cálculos. "
   ]
  },
  {
   "cell_type": "markdown",
   "id": "2ec3abc6",
   "metadata": {
    "slideshow": {
     "slide_type": "slide"
    }
   },
   "source": [
    "El sin (seno) de 1.571 es 1, y el log de 0.1 es -1 (suponiendo que log indique el logaritmo de base 10)."
   ]
  },
  {
   "cell_type": "code",
   "execution_count": null,
   "id": "48a0814c",
   "metadata": {
    "slideshow": {
     "slide_type": "slide"
    }
   },
   "outputs": [],
   "source": [
    "import math as m"
   ]
  },
  {
   "cell_type": "code",
   "execution_count": null,
   "id": "ddcd2bac",
   "metadata": {
    "slideshow": {
     "slide_type": "slide"
    }
   },
   "outputs": [],
   "source": [
    "m.sin(m.pi/2)"
   ]
  },
  {
   "cell_type": "code",
   "execution_count": null,
   "id": "8b514edc",
   "metadata": {
    "slideshow": {
     "slide_type": "slide"
    }
   },
   "outputs": [],
   "source": [
    "m.log10(1/10) "
   ]
  },
  {
   "cell_type": "markdown",
   "id": "3234d24c",
   "metadata": {
    "slideshow": {
     "slide_type": "slide"
    }
   },
   "source": [
    "Este proceso puede aplicarse repetidamente para evaluar expresiones más complicadas como `log(1/sin(pi/2))`. "
   ]
  },
  {
   "cell_type": "code",
   "execution_count": null,
   "id": "4a5dc97d",
   "metadata": {
    "slideshow": {
     "slide_type": "slide"
    }
   },
   "outputs": [],
   "source": [
    "m.log10(1/m.sin(m.pi/2))"
   ]
  },
  {
   "cell_type": "code",
   "execution_count": null,
   "id": "d095f749",
   "metadata": {
    "slideshow": {
     "slide_type": "slide"
    }
   },
   "outputs": [],
   "source": [
    "m.pi"
   ]
  },
  {
   "cell_type": "markdown",
   "id": "d63dd80a",
   "metadata": {
    "slideshow": {
     "slide_type": "slide"
    }
   },
   "source": [
    "Primero evaluamos el argumento de la función más interna, luego se evaúa la función, y así sucesivamente."
   ]
  },
  {
   "cell_type": "markdown",
   "id": "a24496da",
   "metadata": {
    "slideshow": {
     "slide_type": "slide"
    }
   },
   "source": [
    "Python dispone de un módulo matemático que proporciona la mayoría de las funciones matemáticas habituales. "
   ]
  },
  {
   "cell_type": "markdown",
   "id": "29ab5e1b",
   "metadata": {
    "slideshow": {
     "slide_type": "slide"
    }
   },
   "source": [
    "Un módulo es un archivo que contiene una colección de funciones agrupadas juntas."
   ]
  },
  {
   "cell_type": "markdown",
   "id": "ccfd1506",
   "metadata": {
    "slideshow": {
     "slide_type": "slide"
    }
   },
   "source": [
    "Antes de poder usar las funciones de un módulo, tenemos que importarlo:"
   ]
  },
  {
   "cell_type": "code",
   "execution_count": null,
   "id": "9eccc3fc",
   "metadata": {
    "slideshow": {
     "slide_type": "slide"
    }
   },
   "outputs": [],
   "source": [
    "import math "
   ]
  },
  {
   "cell_type": "markdown",
   "id": "c4b1542f",
   "metadata": {
    "slideshow": {
     "slide_type": "slide"
    }
   },
   "source": [
    "Para llamar a una de las funciones, tenemos que especificar el nombre del módulo y el nombre de la función, separados por un punto. "
   ]
  },
  {
   "cell_type": "markdown",
   "id": "53deb965",
   "metadata": {
    "slideshow": {
     "slide_type": "slide"
    }
   },
   "source": [
    "A esto se le llama **notación de punto:**"
   ]
  },
  {
   "cell_type": "code",
   "execution_count": null,
   "id": "122e5585",
   "metadata": {
    "slideshow": {
     "slide_type": "slide"
    }
   },
   "outputs": [],
   "source": [
    "a = math.log10(17.0)\n",
    "angulo = 1.5\n",
    "altura = math.sin(angulo)\n",
    "altura "
   ]
  },
  {
   "cell_type": "markdown",
   "id": "363ecc86",
   "metadata": {
    "slideshow": {
     "slide_type": "slide"
    }
   },
   "source": [
    "La primera sentencia da a `a` el valor del logaritmo de `17`, en base `10`."
   ]
  },
  {
   "cell_type": "markdown",
   "id": "331c0f6c",
   "metadata": {
    "slideshow": {
     "slide_type": "slide"
    }
   },
   "source": [
    "Hay también una función llamada `log` que toma logaritmos en base `e`."
   ]
  },
  {
   "cell_type": "code",
   "execution_count": null,
   "id": "2ffa535e",
   "metadata": {
    "slideshow": {
     "slide_type": "slide"
    }
   },
   "outputs": [],
   "source": [
    "math.e "
   ]
  },
  {
   "cell_type": "code",
   "execution_count": null,
   "id": "d88212bd",
   "metadata": {
    "slideshow": {
     "slide_type": "slide"
    }
   },
   "outputs": [],
   "source": [
    "math.log(math.e)"
   ]
  },
  {
   "cell_type": "markdown",
   "id": "2bf5719c",
   "metadata": {
    "slideshow": {
     "slide_type": "slide"
    }
   },
   "source": [
    "La tercera sentencia halla el seno del valor de la variable `angulo`. "
   ]
  },
  {
   "cell_type": "markdown",
   "id": "536373cd",
   "metadata": {
    "slideshow": {
     "slide_type": "slide"
    }
   },
   "source": [
    "`sin` y las otras funciones trigonométricas (`cos`, `tan`, etc.) toman sus argumentos en radianes."
   ]
  },
  {
   "cell_type": "markdown",
   "id": "e35790c9",
   "metadata": {
    "slideshow": {
     "slide_type": "slide"
    }
   },
   "source": [
    "Para convertir de grados a radianes, puede dividir por 360 y multiplicar por `2*pi`. "
   ]
  },
  {
   "cell_type": "markdown",
   "id": "31e01f3a",
   "metadata": {
    "slideshow": {
     "slide_type": "slide"
    }
   },
   "source": [
    "Por ejemplo, para hallar el seno de 45 grados, calcule primero el ángulo en radianes y luego halle el seno:"
   ]
  },
  {
   "cell_type": "code",
   "execution_count": null,
   "id": "5cbf31a9",
   "metadata": {
    "slideshow": {
     "slide_type": "slide"
    }
   },
   "outputs": [],
   "source": [
    "grados = 45\n",
    "angulo = grados * 2 * math.pi / 360.0\n",
    "math.sin(angulo)"
   ]
  },
  {
   "cell_type": "markdown",
   "id": "aa1f8090",
   "metadata": {
    "slideshow": {
     "slide_type": "slide"
    }
   },
   "source": [
    "La constante `pi` también es parte del módulo `math`. "
   ]
  },
  {
   "cell_type": "markdown",
   "id": "8909545c",
   "metadata": {
    "slideshow": {
     "slide_type": "slide"
    }
   },
   "source": [
    "Si se sabe la geometría, puede verificar el resultado comparándolo con el de la raíz cuadrada de 2, dividida entre 2."
   ]
  },
  {
   "cell_type": "code",
   "execution_count": null,
   "id": "b935860e",
   "metadata": {
    "slideshow": {
     "slide_type": "slide"
    }
   },
   "outputs": [],
   "source": [
    "math.sqrt(2)/2.0\n"
   ]
  },
  {
   "cell_type": "markdown",
   "id": "2f97e26d",
   "metadata": {
    "slideshow": {
     "slide_type": "slide"
    }
   },
   "source": [
    "## 3.5. Composición"
   ]
  },
  {
   "cell_type": "markdown",
   "id": "bdeb9a01",
   "metadata": {
    "slideshow": {
     "slide_type": "slide"
    }
   },
   "source": [
    "### [Video de apoyo a la lectura de este cuaderno](https://www.youtube.com/watch?v=bQ5bIwxk1xs)   "
   ]
  },
  {
   "cell_type": "markdown",
   "id": "cae60734",
   "metadata": {
    "slideshow": {
     "slide_type": "slide"
    }
   },
   "source": [
    "Igual que con las funciones matemáticas, las funciones de Python se pueden componer; eso quiere decir que se usa una expresión como parte de otra. "
   ]
  },
  {
   "cell_type": "markdown",
   "id": "3bf1b73a",
   "metadata": {
    "slideshow": {
     "slide_type": "slide"
    }
   },
   "source": [
    "Por ejemplo, puede usar cualquier expresión como argumento de una función:"
   ]
  },
  {
   "cell_type": "code",
   "execution_count": null,
   "id": "c0547717",
   "metadata": {
    "slideshow": {
     "slide_type": "slide"
    }
   },
   "outputs": [],
   "source": [
    "import math "
   ]
  },
  {
   "cell_type": "code",
   "execution_count": null,
   "id": "d9757b1d",
   "metadata": {
    "slideshow": {
     "slide_type": "slide"
    }
   },
   "outputs": [],
   "source": [
    "angulo = math.pi/4"
   ]
  },
  {
   "cell_type": "code",
   "execution_count": null,
   "id": "dc7ad278",
   "metadata": {
    "slideshow": {
     "slide_type": "slide"
    }
   },
   "outputs": [],
   "source": [
    "x = math.cos(2*angulo)\n",
    "x "
   ]
  },
  {
   "cell_type": "code",
   "execution_count": null,
   "id": "3e1af538",
   "metadata": {
    "slideshow": {
     "slide_type": "slide"
    }
   },
   "outputs": [],
   "source": [
    "round(x,1)"
   ]
  },
  {
   "cell_type": "markdown",
   "id": "59d3b287",
   "metadata": {
    "slideshow": {
     "slide_type": "slide"
    }
   },
   "source": [
    "También puede tomar el resultado de una función y pasárselo como argumento a otra:"
   ]
  },
  {
   "cell_type": "code",
   "execution_count": null,
   "id": "4763eb6f",
   "metadata": {
    "slideshow": {
     "slide_type": "slide"
    }
   },
   "outputs": [],
   "source": [
    "x = math.exp(math.log(10.0))"
   ]
  },
  {
   "cell_type": "code",
   "execution_count": null,
   "id": "02e853f7",
   "metadata": {
    "slideshow": {
     "slide_type": "slide"
    }
   },
   "outputs": [],
   "source": [
    "x"
   ]
  },
  {
   "cell_type": "markdown",
   "id": "816ce356",
   "metadata": {
    "slideshow": {
     "slide_type": "slide"
    }
   },
   "source": [
    "Esta sentencia encuentra el logaritmo en base `e` de `10` y luego eleva `e` a ese exponente. "
   ]
  },
  {
   "cell_type": "markdown",
   "id": "3da98894",
   "metadata": {
    "slideshow": {
     "slide_type": "slide"
    }
   },
   "source": [
    "El resultado queda asignado a `x`"
   ]
  },
  {
   "cell_type": "markdown",
   "id": "685f96b5",
   "metadata": {
    "slideshow": {
     "slide_type": "slide"
    }
   },
   "source": [
    "## 3.6. Añadir funciones nuevas"
   ]
  },
  {
   "cell_type": "markdown",
   "id": "8a1284db",
   "metadata": {
    "slideshow": {
     "slide_type": "slide"
    }
   },
   "source": [
    "Hasta ahora sólo hemos usado las funciones que vienen incluidas con Python, pero también es posible añadir nuevas funciones. "
   ]
  },
  {
   "cell_type": "markdown",
   "id": "dd056b6a",
   "metadata": {
    "slideshow": {
     "slide_type": "slide"
    }
   },
   "source": [
    "La creación de nuevas funciones para resolver sus problemas particulares es una de las cosas más utiles de los lenguajes de programación de propósito general."
   ]
  },
  {
   "cell_type": "markdown",
   "id": "2d9dc4c1",
   "metadata": {
    "slideshow": {
     "slide_type": "slide"
    }
   },
   "source": [
    "En contextos de programación, `función` es una secuencia de instrucciones con nombre, que lleva a cabo la operación deseada. "
   ]
  },
  {
   "cell_type": "markdown",
   "id": "c19b66a6",
   "metadata": {
    "slideshow": {
     "slide_type": "slide"
    }
   },
   "source": [
    "Esta operación se especifica en una definición de función. "
   ]
  },
  {
   "cell_type": "markdown",
   "id": "f463fc28",
   "metadata": {
    "slideshow": {
     "slide_type": "slide"
    }
   },
   "source": [
    "Las funciones que hemos usado hasta ahora las han definido por nosotros, y esas definiciones están ocultas. "
   ]
  },
  {
   "cell_type": "markdown",
   "id": "72257df3",
   "metadata": {
    "slideshow": {
     "slide_type": "slide"
    }
   },
   "source": [
    "Eso es bueno, ya que nos permite usar funciones sin preocuparnos sobre los detalles de sus definiciones."
   ]
  },
  {
   "cell_type": "markdown",
   "id": "7f58f314",
   "metadata": {
    "slideshow": {
     "slide_type": "slide"
    }
   },
   "source": [
    "La sintaxis de la definición de una función es:\n",
    "\n",
    "```python\n",
    "def NOMBRE( LISTA DE PARAMETROS ):\n",
    "    SENTENCIAS\n",
    "```"
   ]
  },
  {
   "cell_type": "markdown",
   "id": "756a7b98",
   "metadata": {
    "slideshow": {
     "slide_type": "slide"
    }
   },
   "source": [
    "Puede inventarse el nombre que desee para su función, con la excepción de que no puede usar las palabras reservadas de Python. "
   ]
  },
  {
   "cell_type": "markdown",
   "id": "0ee10c54",
   "metadata": {
    "slideshow": {
     "slide_type": "slide"
    }
   },
   "source": [
    "La lista de parámetros especifica qué información, en caso de haberla, ha de proporcionar para usar la función nueva."
   ]
  },
  {
   "cell_type": "markdown",
   "id": "1aa03d60",
   "metadata": {
    "slideshow": {
     "slide_type": "slide"
    }
   },
   "source": [
    "Puede haber cualquier número de sentencias dentro de la función, pero tienen que estar indentadas desde el margen izquierdo. "
   ]
  },
  {
   "cell_type": "markdown",
   "id": "9646d163",
   "metadata": {
    "slideshow": {
     "slide_type": "slide"
    }
   },
   "source": [
    "El primer par de funciones que escribiremos no tienen parámetros, de manera que su sintaxis es:"
   ]
  },
  {
   "cell_type": "code",
   "execution_count": null,
   "id": "eb4e3bcd",
   "metadata": {
    "slideshow": {
     "slide_type": "slide"
    }
   },
   "outputs": [],
   "source": [
    "def nueva_linea():\n",
    "    print()\n"
   ]
  },
  {
   "cell_type": "markdown",
   "id": "af5f4fad",
   "metadata": {
    "slideshow": {
     "slide_type": "slide"
    }
   },
   "source": [
    "    \n",
    "Esta función se llama `nueva_linea()`. "
   ]
  },
  {
   "cell_type": "markdown",
   "id": "31eb945a",
   "metadata": {
    "slideshow": {
     "slide_type": "slide"
    }
   },
   "source": [
    "Los paréntesis vacíos indican que no tiene parámetros. "
   ]
  },
  {
   "cell_type": "markdown",
   "id": "798c1bb6",
   "metadata": {
    "slideshow": {
     "slide_type": "slide"
    }
   },
   "source": [
    "Contiene una única sentencia, que muestra como salida un carácter de nueva línea (es lo que sucede cuando utiliza una orden `print()` sin argumentos)."
   ]
  },
  {
   "cell_type": "markdown",
   "id": "732a6859",
   "metadata": {
    "slideshow": {
     "slide_type": "slide"
    }
   },
   "source": [
    "Llamamos entonces a la función `nueva_linea()` usando la misma sintaxis que usamos para las funciones internas:"
   ]
  },
  {
   "cell_type": "code",
   "execution_count": null,
   "id": "24d769b9",
   "metadata": {
    "slideshow": {
     "slide_type": "slide"
    }
   },
   "outputs": [],
   "source": [
    "print(\"Primera linea.\")\n",
    "nueva_linea()\n",
    "print(\"Segunda linea.\")"
   ]
  },
  {
   "cell_type": "markdown",
   "id": "08482285",
   "metadata": {
    "slideshow": {
     "slide_type": "slide"
    }
   },
   "source": [
    "Observe el espacio añadido que hay entre las dos líneas. "
   ]
  },
  {
   "cell_type": "markdown",
   "id": "263ea4a0",
   "metadata": {
    "slideshow": {
     "slide_type": "slide"
    }
   },
   "source": [
    "Si quisiéramos más espacios, entre las líneas, "
   ]
  },
  {
   "cell_type": "markdown",
   "id": "f05797f0",
   "metadata": {
    "slideshow": {
     "slide_type": "slide"
    }
   },
   "source": [
    "¿qué haríamos? "
   ]
  },
  {
   "cell_type": "markdown",
   "id": "e0751e59",
   "metadata": {
    "slideshow": {
     "slide_type": "slide"
    }
   },
   "source": [
    "Podemos llamar varias veces a la misma función:"
   ]
  },
  {
   "cell_type": "code",
   "execution_count": null,
   "id": "9ab891c9",
   "metadata": {
    "slideshow": {
     "slide_type": "slide"
    }
   },
   "outputs": [],
   "source": [
    "print(\"Primera linea.\")\n",
    "nueva_linea()\n",
    "nueva_linea()\n",
    "nueva_linea()\n",
    "print(\"Segunda linea.\")"
   ]
  },
  {
   "cell_type": "markdown",
   "id": "85cdf930",
   "metadata": {
    "slideshow": {
     "slide_type": "slide"
    }
   },
   "source": [
    "O bien podemos escribir una nueva función que llamaremos `tresLineas()`, y que imprima tres nuevas líneas:"
   ]
  },
  {
   "cell_type": "code",
   "execution_count": null,
   "id": "931aa826",
   "metadata": {
    "slideshow": {
     "slide_type": "slide"
    }
   },
   "outputs": [],
   "source": [
    "def tres_lineas():\n",
    "    nueva_linea()\n",
    "    nueva_linea()\n",
    "    nueva_linea()\n",
    "print(\"Primera Linea.\")\n",
    "tresLineas()\n",
    "print(\"Segunda Linea.\")"
   ]
  },
  {
   "cell_type": "code",
   "execution_count": null,
   "id": "db816805",
   "metadata": {
    "slideshow": {
     "slide_type": "slide"
    }
   },
   "outputs": [],
   "source": []
  },
  {
   "cell_type": "markdown",
   "id": "c389ba0a",
   "metadata": {
    "slideshow": {
     "slide_type": "slide"
    }
   },
   "source": [
    "Esta función contiene tres sentencias, las cuales están todas indentadas con **cuatro** espacios. "
   ]
  },
  {
   "cell_type": "markdown",
   "id": "8245f242",
   "metadata": {
    "slideshow": {
     "slide_type": "slide"
    }
   },
   "source": [
    "Puesto que la siguiente sentencia no está indentada, Python sabe que no es parte de la función."
   ]
  },
  {
   "cell_type": "markdown",
   "id": "93645587",
   "metadata": {
    "slideshow": {
     "slide_type": "slide"
    }
   },
   "source": [
    "Observe los siguientes puntos con respecto a este programa:  \n",
    "\n",
    "1. Se puede llamar al mismo procedimiento repetidamente. De hecho es bastante útil hacerlo, además de habitual.\n",
    "2. Se puede llamar a una función desde dentro de otra función: en este caso `tres_lineas()` llama a `nueva_linea()`.  "
   ]
  },
  {
   "cell_type": "markdown",
   "id": "2b549018",
   "metadata": {
    "slideshow": {
     "slide_type": "slide"
    }
   },
   "source": [
    "Hasta ahora puede no haber quedado claro por qué vale la pena crear todas estas funciones nuevas. "
   ]
  },
  {
   "cell_type": "markdown",
   "id": "1c05fc8e",
   "metadata": {
    "slideshow": {
     "slide_type": "slide"
    }
   },
   "source": [
    "En realidad hay muchísimas razones, pero este ejemplo demuestra dos:  \n",
    "\n",
    "* Crear una nueva función le da la oportunidad de dar un nombre a un grupo de sentencias. \n",
    "* Las funciones simplifican su programa al ocultar cálculos complejos detrás de órdenes sencillas, y usar palabras de su \n",
    "  propia lengua en vez de código arcano."
   ]
  },
  {
   "cell_type": "markdown",
   "id": "c20f41a8",
   "metadata": {
    "slideshow": {
     "slide_type": "slide"
    }
   },
   "source": [
    "Crear una nueva función hace que el programa sea más pequeño, al eliminar código repetitivo. "
   ]
  },
  {
   "cell_type": "markdown",
   "id": "3f15c087",
   "metadata": {
    "slideshow": {
     "slide_type": "slide"
    }
   },
   "source": [
    "Por ejemplo, una manera de imprimir nueve líneas consecutivas es llamar a `tres_lineas()` tres veces."
   ]
  },
  {
   "cell_type": "markdown",
   "id": "c2d56f9f",
   "metadata": {
    "slideshow": {
     "slide_type": "slide"
    }
   },
   "source": [
    "Como actividad, escriba una función llamada `nueveLineas()` que use `tresLineas()` para imprimir nueve líneas en blanco. "
   ]
  },
  {
   "cell_type": "code",
   "execution_count": null,
   "id": "09a2f000",
   "metadata": {
    "slideshow": {
     "slide_type": "slide"
    }
   },
   "outputs": [],
   "source": [
    "def nueve_lineas():\n",
    "    tres_lineas()\n",
    "    tres_lineas()\n",
    "    tres_lineas()"
   ]
  },
  {
   "cell_type": "code",
   "execution_count": null,
   "id": "5d039f4d",
   "metadata": {
    "slideshow": {
     "slide_type": "slide"
    }
   },
   "outputs": [],
   "source": [
    "print('primera línea')\n",
    "nueve_lineas()\n",
    "print('segunda línea')"
   ]
  },
  {
   "cell_type": "markdown",
   "id": "c781bc0e",
   "metadata": {
    "slideshow": {
     "slide_type": "slide"
    }
   },
   "source": [
    "¿Cómo imprimiría 27 líneas nuevas?"
   ]
  },
  {
   "cell_type": "markdown",
   "id": "34dd6545",
   "metadata": {
    "slideshow": {
     "slide_type": "slide"
    }
   },
   "source": [
    "## 3.7. Las definiciones y el uso"
   ]
  },
  {
   "cell_type": "markdown",
   "id": "e5e4aff9",
   "metadata": {
    "slideshow": {
     "slide_type": "slide"
    }
   },
   "source": [
    "Juntando los fragmentos de código de la sección anterior, el programa completo queda de la siguiente manera:"
   ]
  },
  {
   "cell_type": "code",
   "execution_count": null,
   "id": "b1ac8b6d",
   "metadata": {
    "slideshow": {
     "slide_type": "slide"
    }
   },
   "outputs": [],
   "source": [
    "def tresLineas():\n",
    "    nueva_linea()\n",
    "    nueva_linea()\n",
    "    nueva_linea()"
   ]
  },
  {
   "cell_type": "code",
   "execution_count": null,
   "id": "6de3d54d",
   "metadata": {
    "slideshow": {
     "slide_type": "slide"
    }
   },
   "outputs": [],
   "source": [
    "    \n",
    "def nueva_linea():\n",
    "    print() "
   ]
  },
  {
   "cell_type": "code",
   "execution_count": null,
   "id": "6df9f148",
   "metadata": {
    "slideshow": {
     "slide_type": "slide"
    }
   },
   "outputs": [],
   "source": [
    "    \n",
    "print(\"Primera Linea.\") \n",
    "tresLineas()\n",
    "print(\"Segunda Linea.\") "
   ]
  },
  {
   "cell_type": "markdown",
   "id": "ce530c6a",
   "metadata": {
    "slideshow": {
     "slide_type": "slide"
    }
   },
   "source": [
    "El presente programa contiene dos definiciones de funciones: `nueva_linea` y `tres_lineas()`."
   ]
  },
  {
   "cell_type": "markdown",
   "id": "948524ba",
   "metadata": {
    "slideshow": {
     "slide_type": "slide"
    }
   },
   "source": [
    "Las definiciones de funciones se ejecutan como el resto de sentencias, pero el efecto es crear una nueva funci´on. "
   ]
  },
  {
   "cell_type": "markdown",
   "id": "8e765714",
   "metadata": {
    "slideshow": {
     "slide_type": "slide"
    }
   },
   "source": [
    "Las sentencias del interior de la funci´on no se ejecutan hasta que se llama a la función, y la definición de la función no genera salida."
   ]
  },
  {
   "cell_type": "markdown",
   "id": "18790045",
   "metadata": {
    "slideshow": {
     "slide_type": "slide"
    }
   },
   "source": [
    "Como era de esperar, tiene que crear una función antes de poder ejecutarla."
   ]
  },
  {
   "cell_type": "markdown",
   "id": "cda9b572",
   "metadata": {
    "slideshow": {
     "slide_type": "slide"
    }
   },
   "source": [
    "En otras palabras, la definición de la función tiene que ejecutarse antes de la primera vez que se la invoque."
   ]
  },
  {
   "cell_type": "markdown",
   "id": "07040763",
   "metadata": {
    "slideshow": {
     "slide_type": "slide"
    }
   },
   "source": [
    "Como actividad, pruebe a ejecutar este programa moviendo las tres últimas sentencias al principio del programa. "
   ]
  },
  {
   "cell_type": "markdown",
   "id": "54f9b2d5",
   "metadata": {
    "slideshow": {
     "slide_type": "slide"
    }
   },
   "source": [
    "Registre qué mensaje de error obtiene usted."
   ]
  },
  {
   "cell_type": "markdown",
   "id": "2b953476",
   "metadata": {
    "slideshow": {
     "slide_type": "slide"
    }
   },
   "source": [
    "Como segunda actividad, pruebe a tomar la versión del programa que funcionaba y a mover la definción de `nueva_linea` más abajo que la definición de `tres_lineas()`. "
   ]
  },
  {
   "cell_type": "markdown",
   "id": "3f3e47b2",
   "metadata": {
    "slideshow": {
     "slide_type": "slide"
    }
   },
   "source": [
    "¿Qué ocurre cuando ejecuta el programa?"
   ]
  },
  {
   "cell_type": "markdown",
   "id": "ac2df688",
   "metadata": {
    "slideshow": {
     "slide_type": "slide"
    }
   },
   "source": [
    "## 3.8. Flujo de ejecución  "
   ]
  },
  {
   "cell_type": "markdown",
   "id": "e6f17e1e",
   "metadata": {
    "slideshow": {
     "slide_type": "slide"
    }
   },
   "source": [
    "### [Video de apoyo a la lectura sobre flujo de ejecución de funciones]()"
   ]
  },
  {
   "cell_type": "markdown",
   "id": "786f2399",
   "metadata": {
    "slideshow": {
     "slide_type": "slide"
    }
   },
   "source": [
    "Para asegurarse de que una función se define antes de su primer uso, tiene que conocer el orden en el que se ejecutan las sentencias; a esto se le llama **flujo de ejecución**."
   ]
  },
  {
   "cell_type": "markdown",
   "id": "51472087",
   "metadata": {
    "slideshow": {
     "slide_type": "slide"
    }
   },
   "source": [
    "La ejecución comienza siempre por la primera sentencia del programa. "
   ]
  },
  {
   "cell_type": "markdown",
   "id": "11281570",
   "metadata": {
    "slideshow": {
     "slide_type": "slide"
    }
   },
   "source": [
    "Las sentencias se ejecutan a razón de una cada vez, en orden, hasta que se alcanza una llamada a una función."
   ]
  },
  {
   "cell_type": "markdown",
   "id": "ed1e7663",
   "metadata": {
    "slideshow": {
     "slide_type": "slide"
    }
   },
   "source": [
    "* Las definiciones de funciones no alteran el flujo de ejecución del programa, \n",
    "* pero recuerde que las sentencias que hay dentro de la función no se ejecutan hasta que se hace la llamada a la función. "
   ]
  },
  {
   "cell_type": "markdown",
   "id": "dda502e6",
   "metadata": {
    "slideshow": {
     "slide_type": "slide"
    }
   },
   "source": [
    "Aunque no es habitual, puede definir una función dentro de otra. "
   ]
  },
  {
   "cell_type": "markdown",
   "id": "3ba6f249",
   "metadata": {
    "slideshow": {
     "slide_type": "slide"
    }
   },
   "source": [
    "En este caso, la definición de función interior no se ejecuta hasta que no se llama a la función exterior."
   ]
  },
  {
   "cell_type": "markdown",
   "id": "c21326c7",
   "metadata": {
    "slideshow": {
     "slide_type": "slide"
    }
   },
   "source": [
    "Las llamadas a funciones son como un desvío en el flujo de ejecución. "
   ]
  },
  {
   "cell_type": "markdown",
   "id": "25a8172b",
   "metadata": {
    "slideshow": {
     "slide_type": "slide"
    }
   },
   "source": [
    "En lugar de ir a la siguiente sentencia, el flujo salta hasta la primera línea de la función a la que se llama, ejecuta todas las sentencias que encuentre allí, y vuelve a retomar la ejecución en el punto donde lo dejó."
   ]
  },
  {
   "cell_type": "markdown",
   "id": "b839bbc6",
   "metadata": {
    "slideshow": {
     "slide_type": "slide"
    }
   },
   "source": [
    "Esto suena bastante sencillo... hasta que se acuerda de que una función puede llamar a otra. "
   ]
  },
  {
   "cell_type": "markdown",
   "id": "921beb80",
   "metadata": {
    "slideshow": {
     "slide_type": "slide"
    }
   },
   "source": [
    "Mientras estamos en medio de una función, podríamos vernos obligados a abandonarla e ir a ejecutar sentencias en otra función más. "
   ]
  },
  {
   "cell_type": "markdown",
   "id": "5a95458e",
   "metadata": {
    "slideshow": {
     "slide_type": "slide"
    }
   },
   "source": [
    "Pero mientras estamos en esta nueva función, ¡podríamos salirnos y ejecutar otra función más!"
   ]
  },
  {
   "cell_type": "markdown",
   "id": "ea6af57d",
   "metadata": {
    "slideshow": {
     "slide_type": "slide"
    }
   },
   "source": [
    "Afortunadamente, a Python se le da bien tomar nota de dónde está, de manera que cada vez que se completa una función, el programa retoma el punto en donde lo dejó en la función que hizo la llamada. "
   ]
  },
  {
   "cell_type": "markdown",
   "id": "a8aafeb3",
   "metadata": {
    "slideshow": {
     "slide_type": "slide"
    }
   },
   "source": [
    "Cuando llega al final del programa, termina."
   ]
  },
  {
   "cell_type": "markdown",
   "id": "e2211583",
   "metadata": {
    "slideshow": {
     "slide_type": "slide"
    }
   },
   "source": [
    "¿Cuál es la moraleja de toda esta historia? "
   ]
  },
  {
   "cell_type": "markdown",
   "id": "4db02757",
   "metadata": {
    "slideshow": {
     "slide_type": "slide"
    }
   },
   "source": [
    "Cuando esté leyendo un programa, no lo lea desde la parte superior a la inferior. "
   ]
  },
  {
   "cell_type": "markdown",
   "id": "4f84b7e0",
   "metadata": {
    "slideshow": {
     "slide_type": "slide"
    }
   },
   "source": [
    "En lugar de eso, siga **el flujo de ejecución**."
   ]
  },
  {
   "cell_type": "markdown",
   "id": "89bac5a5",
   "metadata": {
    "slideshow": {
     "slide_type": "slide"
    }
   },
   "source": [
    "## 3.9. Parámetros y argumentos"
   ]
  },
  {
   "cell_type": "markdown",
   "id": "20c673ad",
   "metadata": {
    "slideshow": {
     "slide_type": "slide"
    }
   },
   "source": [
    "Algunas de las funciones internas que hemos usado precisan de **argumentos**:\n",
    "\n",
    "* **Argumentos** son los valores que controlan cómo la función lleva a cabo su tarea. "
   ]
  },
  {
   "cell_type": "markdown",
   "id": "a5cd5d6d",
   "metadata": {
    "slideshow": {
     "slide_type": "slide"
    }
   },
   "source": [
    "Por ejemplo, si desea encontrar el seno de un número, tiene que indicar de qué número se trata."
   ]
  },
  {
   "cell_type": "markdown",
   "id": "ddc4a316",
   "metadata": {
    "slideshow": {
     "slide_type": "slide"
    }
   },
   "source": [
    "Así pues, `sin()` toma como argumento un valor numérico. "
   ]
  },
  {
   "cell_type": "markdown",
   "id": "8a85d1fe",
   "metadata": {
    "slideshow": {
     "slide_type": "slide"
    }
   },
   "source": [
    "Algunas funciones toman más de un argumento, como `pow()`, que toma dos argumentos: la base y el exponente. "
   ]
  },
  {
   "cell_type": "code",
   "execution_count": null,
   "id": "55d2f4d8",
   "metadata": {
    "slideshow": {
     "slide_type": "slide"
    }
   },
   "outputs": [],
   "source": [
    "pow(2,3)"
   ]
  },
  {
   "cell_type": "markdown",
   "id": "ccf44139",
   "metadata": {
    "slideshow": {
     "slide_type": "slide"
    }
   },
   "source": [
    "Dentro de la función, los valores que se le han pasado se asignan a variables llamadas parámetros."
   ]
  },
  {
   "cell_type": "markdown",
   "id": "6a103a17",
   "metadata": {
    "slideshow": {
     "slide_type": "slide"
    }
   },
   "source": [
    "He aquí un ejemplo de una función definida por el usuario, que toma un parámetro:"
   ]
  },
  {
   "cell_type": "code",
   "execution_count": 1,
   "id": "a7587e2b",
   "metadata": {
    "slideshow": {
     "slide_type": "slide"
    }
   },
   "outputs": [],
   "source": [
    "def imprimeDoble(paso):\n",
    "    print(paso, paso)"
   ]
  },
  {
   "cell_type": "markdown",
   "id": "811d39e4",
   "metadata": {
    "slideshow": {
     "slide_type": "slide"
    }
   },
   "source": [
    "Esta función toma un único argumento y se lo asigna a un parámetro llamado `paso`. "
   ]
  },
  {
   "cell_type": "markdown",
   "id": "74ea43a2",
   "metadata": {
    "slideshow": {
     "slide_type": "slide"
    }
   },
   "source": [
    "El valor del parámetro (en este punto todavía no tenemos ni idea de cuál será) se imprime dos veces, seguido por un carácter de nueva línea. "
   ]
  },
  {
   "cell_type": "markdown",
   "id": "e99ea3d8",
   "metadata": {
    "slideshow": {
     "slide_type": "slide"
    }
   },
   "source": [
    "El nombre `paso` se eligió para sugerir que el nombre que le dé a un parámetro depende de usted, pero en general es mejor que elija un nombre más ilustrativo que `paso`. "
   ]
  },
  {
   "cell_type": "markdown",
   "id": "e699b6ce",
   "metadata": {
    "slideshow": {
     "slide_type": "slide"
    }
   },
   "source": [
    "La función `imprimeDoble()` sirve con cualquier tipo (de dato) que se pueda imprimir:"
   ]
  },
  {
   "cell_type": "code",
   "execution_count": 2,
   "id": "ce0a6490",
   "metadata": {
    "slideshow": {
     "slide_type": "slide"
    }
   },
   "outputs": [
    {
     "name": "stdout",
     "output_type": "stream",
     "text": [
      "limón limón\n"
     ]
    }
   ],
   "source": [
    "imprimeDoble('limón')"
   ]
  },
  {
   "cell_type": "code",
   "execution_count": 3,
   "id": "88dd136a",
   "metadata": {
    "slideshow": {
     "slide_type": "slide"
    }
   },
   "outputs": [
    {
     "name": "stdout",
     "output_type": "stream",
     "text": [
      "513 513\n"
     ]
    }
   ],
   "source": [
    "imprimeDoble(513)"
   ]
  },
  {
   "cell_type": "code",
   "execution_count": 4,
   "id": "e73a9f61",
   "metadata": {
    "slideshow": {
     "slide_type": "slide"
    }
   },
   "outputs": [
    {
     "name": "stdout",
     "output_type": "stream",
     "text": [
      "3.1 3.1\n"
     ]
    }
   ],
   "source": [
    "imprimeDoble(3.1)\n"
   ]
  },
  {
   "cell_type": "markdown",
   "id": "54efd424",
   "metadata": {
    "slideshow": {
     "slide_type": "slide"
    }
   },
   "source": [
    "* En la primera llamada a la función, el argumento es una cadena; \n",
    "* en la segunda es un entero, y \n",
    "* en la tercera es un número de coma flotante."
   ]
  },
  {
   "cell_type": "markdown",
   "id": "e8079e10",
   "metadata": {
    "slideshow": {
     "slide_type": "slide"
    }
   },
   "source": [
    "Las mismas reglas de composición que se aplican a las funciones internas se aplican también a las funciones definidas por el usuario, así que puede usar cualquier tipo de expresión como argumento de `imprimeDoble()`."
   ]
  },
  {
   "cell_type": "code",
   "execution_count": 5,
   "id": "6583baa9",
   "metadata": {
    "scrolled": true,
    "slideshow": {
     "slide_type": "slide"
    }
   },
   "outputs": [
    {
     "name": "stdout",
     "output_type": "stream",
     "text": [
      "manzanamanzana manzanamanzana\n"
     ]
    }
   ],
   "source": [
    "imprimeDoble('manzana'*2)\n"
   ]
  },
  {
   "cell_type": "code",
   "execution_count": 6,
   "id": "d19fc0fb",
   "metadata": {
    "slideshow": {
     "slide_type": "slide"
    }
   },
   "outputs": [
    {
     "name": "stdout",
     "output_type": "stream",
     "text": [
      "-1.0 -1.0\n"
     ]
    }
   ],
   "source": [
    "import math\n",
    "imprimeDoble(math.cos(math.pi))"
   ]
  },
  {
   "cell_type": "markdown",
   "id": "599b873c",
   "metadata": {
    "slideshow": {
     "slide_type": "slide"
    }
   },
   "source": [
    "Como de costumbre, se evalua´ la expresi´on antes de ejecutar la funci´on, de modo que `imprimeDoble` devuelve   \n",
    "\n",
    "Jam´onJam´onJam´onJam´on Jam´onJam´onJam´onJam´on   \n",
    "\n",
    "en lugar de ’Jam´on’*4’Jam´on’*4."
   ]
  },
  {
   "cell_type": "markdown",
   "id": "6dc8f5ce",
   "metadata": {
    "slideshow": {
     "slide_type": "slide"
    }
   },
   "source": [
    "Asimismo podemos usar una variable como argumento:"
   ]
  },
  {
   "cell_type": "code",
   "execution_count": null,
   "id": "1825df9f",
   "metadata": {
    "slideshow": {
     "slide_type": "slide"
    }
   },
   "outputs": [],
   "source": [
    "latoya = ’Dafne, es mitad laurel mitad ninfa’\n",
    "imprimeDoble(latoya)"
   ]
  },
  {
   "cell_type": "markdown",
   "id": "4af960b7",
   "metadata": {
    "slideshow": {
     "slide_type": "slide"
    }
   },
   "source": [
    "Dafne, es mitad laurel mitad ninfa. Dafne, es mitad laurel mitad ninfa.\n",
    "Observe un aspecto realmente importante en este caso: el nombre de la variable\n",
    "que pasamos como argumento (latoya) no tiene nada que ver con el nombre del\n",
    "par´ametro (paso). "
   ]
  },
  {
   "cell_type": "markdown",
   "id": "2076ed95",
   "metadata": {
    "slideshow": {
     "slide_type": "slide"
    }
   },
   "source": [
    "No importa c´omo se llamaba el valor en su lugar original (el\n",
    "lugar desde donde se invoc´o); aqu´ı en imprimeDoble llamamos a todo el mundo\n",
    "paso."
   ]
  },
  {
   "cell_type": "markdown",
   "id": "d13f5772",
   "metadata": {
    "slideshow": {
     "slide_type": "slide"
    }
   },
   "source": [
    "## 3.10. Las variables y los parámetros son locales"
   ]
  },
  {
   "cell_type": "markdown",
   "id": "0bea3137",
   "metadata": {
    "slideshow": {
     "slide_type": "slide"
    }
   },
   "source": [
    "Cuando crea una variable dentro de una función, s´olo existe dentro de dicha funci´on, y no puede usarla fuera de ella. "
   ]
  },
  {
   "cell_type": "markdown",
   "id": "34c00bf1",
   "metadata": {
    "slideshow": {
     "slide_type": "slide"
    }
   },
   "source": [
    "Por ejemplo, la función "
   ]
  },
  {
   "cell_type": "code",
   "execution_count": null,
   "id": "55c1b05f",
   "metadata": {
    "slideshow": {
     "slide_type": "slide"
    }
   },
   "outputs": [],
   "source": [
    "def catDoble(parte1, parte2):\n",
    "    cat = parte1 + parte2\n",
    "    imprimeDoble(cat)\n"
   ]
  },
  {
   "cell_type": "markdown",
   "id": "a772b03e",
   "metadata": {
    "slideshow": {
     "slide_type": "slide"
    }
   },
   "source": [
    "toma dos argumentos, los concatena y luego imprime el resultado dos veces."
   ]
  },
  {
   "cell_type": "markdown",
   "id": "98dcb9d7",
   "metadata": {
    "slideshow": {
     "slide_type": "slide"
    }
   },
   "source": [
    "Podemos llamar a la funci´on con dos cadenas:"
   ]
  },
  {
   "cell_type": "code",
   "execution_count": null,
   "id": "97fc5af4",
   "metadata": {
    "slideshow": {
     "slide_type": "slide"
    }
   },
   "outputs": [],
   "source": [
    ">>> cantus1 = \"Die Jesu domine, \"\n",
    ">>> cantus2 = \"Dona eis requiem.\"\n",
    ">>> catDoble(cantus1, cantus2)"
   ]
  },
  {
   "cell_type": "markdown",
   "id": "89181d11",
   "metadata": {
    "slideshow": {
     "slide_type": "slide"
    }
   },
   "source": [
    "Die Jesu domine, Dona eis requiem. Die Jesu domine, Dona eis requiem.\n",
    "Cuando catDoble termina, la variable cat se destruye. Si trat´asemos de impri\u0002mirla, obtendr´ıamos un error:\n",
    ">>> print cat\n",
    "NameError: cat\n",
    "Los par´ametros tambi´en son locales. Por ejemplo, una vez fuera de la funci´on\n",
    "imprimeDoble, no existe nada llamado paso. Si trata de usarla, Python se que\u0002jar´a."
   ]
  },
  {
   "cell_type": "markdown",
   "id": "5867239b",
   "metadata": {
    "slideshow": {
     "slide_type": "slide"
    }
   },
   "source": [
    "## 3.11. Diagramas de pila"
   ]
  },
  {
   "cell_type": "markdown",
   "id": "842966b6",
   "metadata": {
    "slideshow": {
     "slide_type": "slide"
    }
   },
   "source": [
    "Para mantener el rastro de qué variables pueden usarse y dónde, a veces es util dibujar un diagrama de pila. "
   ]
  },
  {
   "cell_type": "markdown",
   "id": "27a9624e",
   "metadata": {
    "slideshow": {
     "slide_type": "slide"
    }
   },
   "source": [
    "Como los diagramas de estado, los diagramas de pila muestran el valor de cada variable, pero también muestran la función a la que cada variable pertenece."
   ]
  },
  {
   "cell_type": "markdown",
   "id": "0e0a9b12",
   "metadata": {
    "slideshow": {
     "slide_type": "slide"
    }
   },
   "source": [
    "Cada función se representa por una caja con el nombre de la funci´on junto a él. "
   ]
  },
  {
   "cell_type": "markdown",
   "id": "8722b715",
   "metadata": {
    "slideshow": {
     "slide_type": "slide"
    }
   },
   "source": [
    "Los parámetros y variables que pertenecen a una función van dentro. "
   ]
  },
  {
   "cell_type": "markdown",
   "id": "cf1d49ea",
   "metadata": {
    "slideshow": {
     "slide_type": "slide"
    }
   },
   "source": [
    "Por ejemplo, el diagrama de stack para el programa anterior tiene este aspecto:"
   ]
  },
  {
   "cell_type": "markdown",
   "id": "1383dec9",
   "metadata": {
    "slideshow": {
     "slide_type": "slide"
    }
   },
   "source": [
    "catTwice\n",
    "chant1\n",
    "chant2\n",
    "\"Pie Jesu domine,\"\n",
    "\"Dona eis requiem.\"\n",
    "__main__\n",
    "printTwice\n",
    "part1\n",
    "part2\n",
    "cat\n",
    "\"Pie Jesu domine,\"\n",
    "\"Pie Jesu domine, Dona eis requiem.\"\n",
    "\"Dona eis requiem.\"\n",
    "bruce \"Pie Jesu domine, Dona eis requiem.\""
   ]
  },
  {
   "cell_type": "markdown",
   "id": "98eeca08",
   "metadata": {
    "slideshow": {
     "slide_type": "slide"
    }
   },
   "source": [
    "El orden de la pila muestra el flujo de ejecuci´on. imprimeDoble fue llamado\n",
    "por catDoble y a catDoble lo invoc´o main , que es un nombre especial de la funci´on m´as alta. Cuando crea una variable fuera de cualquier funci´on, pertenece\n",
    "a main .\n",
    "En cada caso, el par´ametro se refiere al mismo valor que el argumento corres\u0002pondiente. As´ı que parte1 en catDoble tiene el mismo valor que cantus1 en\n",
    "main .\n",
    "Si sucede un error durante la llamada a una funci´on, Python imprime el nombre\n",
    "de la funci´on y el nombre de la funci´on que la llam´o, y el nombre de la funci´on\n",
    "que llam´o a ´esa, y as´ı hasta main .\n",
    "Por ejemplo, si intentamos acceder a cat desde imprimeDoble, provocaremos\n",
    "un NameError:\n",
    "Traceback (innermost last):\n",
    "File \"test.py\", line 13, in __main__\n",
    "catDoble(cantus1, cantus2)\n",
    "File \"test.py\", line 5, in catDoble\n",
    "imprimeDoble(cat)\n",
    "File \"test.py\", line 9, in imprimeDoble\n",
    "print cat\n",
    "NameError: cat\n",
    "Esta lista de funciones de llama traceback (traza inversa). Le dice a usted en\n",
    "qu´e archivo de programa sucedi´o el error, y en qu´e l´ınea, y qu´e funciones se\n",
    "ejecutaban en ese momento. Tambi´en muestra la l´ınea de c´odigo que caus´o el\n",
    "error.\n",
    "F´ıjese en la similaridad entre la traza inversa y el diagrama de pila. No es una\n",
    "coincidencia."
   ]
  },
  {
   "cell_type": "markdown",
   "id": "c70c8402",
   "metadata": {
    "slideshow": {
     "slide_type": "slide"
    }
   },
   "source": [
    "## 3.12. Funciones con resultado"
   ]
  },
  {
   "cell_type": "markdown",
   "id": "642bf30e",
   "metadata": {
    "slideshow": {
     "slide_type": "slide"
    }
   },
   "source": [
    "Seguramente ha notado ya que algunas de las funciones que estamos usando, igual que las funciones matem´aticas, devuelven un resultado. "
   ]
  },
  {
   "cell_type": "markdown",
   "id": "73d17035",
   "metadata": {
    "slideshow": {
     "slide_type": "slide"
    }
   },
   "source": [
    "Otras funciones, como nueva linea, llevan a cabo una acci´on pero no devuelven un valor. "
   ]
  },
  {
   "cell_type": "markdown",
   "id": "5ff4bdca",
   "metadata": {
    "slideshow": {
     "slide_type": "slide"
    }
   },
   "source": [
    "Ello suscita varias preguntas:"
   ]
  },
  {
   "cell_type": "markdown",
   "id": "ce10836a",
   "metadata": {
    "slideshow": {
     "slide_type": "slide"
    }
   },
   "source": [
    "1. ¿Qué sucede si llama usted a uana funci´on y no hace nada con el resultado (es decir, no lo \n",
    "   asigna a una variable ni lo usa como parte de una expresi´on más amplia)?"
   ]
  },
  {
   "cell_type": "markdown",
   "id": "7e43313c",
   "metadata": {
    "slideshow": {
     "slide_type": "slide"
    }
   },
   "source": [
    "2. ¿Qu´e sucede si usa una funci´on sin resultado como parte de una expresi´on,\n",
    "por ejemplo nueva linea() + 7?\n",
    "3. ¿Se pueden escribir funciones que devuelvan resultados, o debemos limi\u0002tarnos a funcinoes simples como nueva linea e imprimeDoble?"
   ]
  },
  {
   "cell_type": "markdown",
   "id": "2323a7a2",
   "metadata": {
    "slideshow": {
     "slide_type": "slide"
    }
   },
   "source": [
    "La respuesta a la tercera pregunta es “s´ı, puede escribir funciones que devuelvan valores”, y lo haremos en el capítulo 5."
   ]
  },
  {
   "cell_type": "markdown",
   "id": "5bf302e8",
   "metadata": {
    "slideshow": {
     "slide_type": "slide"
    }
   },
   "source": [
    "Como actividad final, consteste a las otras dos preguntas intentando hacerlas en la práctica. "
   ]
  },
  {
   "cell_type": "markdown",
   "id": "28cf32bc",
   "metadata": {
    "slideshow": {
     "slide_type": "slide"
    }
   },
   "source": [
    "Cada vez que tenga una duda sobre lo que es legal o ilegal en Python, perguntar al intérprete será una buena manera de averiguarlo."
   ]
  },
  {
   "cell_type": "markdown",
   "id": "7cc34fff",
   "metadata": {
    "slideshow": {
     "slide_type": "slide"
    }
   },
   "source": [
    "## 3.13. Glosario"
   ]
  },
  {
   "cell_type": "markdown",
   "id": "76634d78",
   "metadata": {
    "slideshow": {
     "slide_type": "slide"
    }
   },
   "source": [
    "llamada a funci´on: Una sentencia que ejecuta una funci´on. Est´a compuesta\n",
    "por el nombre de la funci´on m´as una lista de argumentos encerrados entre\n",
    "par´entesis.\n",
    "argumento: Valor que se le pasa a una funci´on cuando se la llama. El valor se\n",
    "asigna al par´ametro correspondiente de la funci´on.\n",
    "valor de retorno: Es el resultado de una funci´on. Si se usa una llamada a\n",
    "funci´on a modo de expresi´on, el valor de retorno es el valor de la expresi´on.\n",
    "conversi´on de tipo: Una sentencia expl´ıcita que toma un valor de un tipo y\n",
    "calcula el valor correspondiente de otro tipo.\n",
    "coerci´on: Conversi´on tipos que ocurre autom´aticamente de acuerdo con las\n",
    "reglas de coerci´on de Python.\n",
    "m´odulo: Fichero que contiene una colecci´on de funciones y clases relacionadas.\n",
    "notaci´on de punto: La sintaxis para llamar a una funci´on de otro m´odulo,\n",
    "especificando el nombre del m´odulo, seguido por un punto y el nombre de\n",
    "la funci´on.\n",
    "funci´on: Secuencia de sentencias etiquetadas que llevan a cabo determinada\n",
    "operaci´on de utilidad. Las funciones pueden tomar par´ametros o no, y\n",
    "pueden producir un resultado o no.\n",
    "definici´on de funci´on: Sentencia que crea una nueva funci´on, especificando\n",
    "su nombre, par´ametros y las sentencias que ejecuta.\n",
    "flujo de ejecuci´on: Orden en el que se ejecutan las sentencias durante la eje\u0002cuci´on de un programa.\n",
    "par´ametro: Nombre que se usa dentro de una funci´on para referirse a el valor\n",
    "que se le pasa como argumento.\n",
    "variable local: variable definida dentro de una funci´on. Las variables locales\n",
    "s´olo pueden usarse dentro de su funci´on.\n",
    "diagrama de pila: Representaci´on gr´afica de una pila de funciones, sus varia\u0002bles y los valores a los que se refieren.\n",
    "traza inversa: (traceback en ingl´es) Una lista de las funciones en curso de\n",
    "ejecuci´on, presentadas cuando sucede un error en tiempo de ejecuci´on.\n",
    "notaci´on de punto traza inversa\n",
    "\n"
   ]
  },
  {
   "cell_type": "markdown",
   "id": "fb595698",
   "metadata": {
    "slideshow": {
     "slide_type": "slide"
    }
   },
   "source": [
    "# Capítulo 4  \n",
    "\n",
    "## Condicionales y recursividad  \n",
    "\n",
    "### 4.1. El operador módulo  "
   ]
  },
  {
   "cell_type": "markdown",
   "id": "1f15dd95",
   "metadata": {
    "slideshow": {
     "slide_type": "slide"
    }
   },
   "source": [
    "El operador módulo funciona con enteros (y expresiones enteras), y devuelve el resto de dividir el primer operando entre el segundo. "
   ]
  },
  {
   "cell_type": "markdown",
   "id": "4e58c312",
   "metadata": {
    "slideshow": {
     "slide_type": "slide"
    }
   },
   "source": [
    "En Python, el operador de m´odulo es el signo de tanto por ciento ( %). La sintaxis es la misma de los\n",
    "otros operadores:"
   ]
  },
  {
   "cell_type": "code",
   "execution_count": null,
   "id": "b0cc0ee7",
   "metadata": {
    "slideshow": {
     "slide_type": "slide"
    }
   },
   "outputs": [],
   "source": [
    "cociente = 7//3\n",
    "print(cociente)"
   ]
  },
  {
   "cell_type": "code",
   "execution_count": null,
   "id": "e9564607",
   "metadata": {
    "slideshow": {
     "slide_type": "slide"
    }
   },
   "outputs": [],
   "source": [
    "resto = 7 % 3\n",
    "print(resto) "
   ]
  },
  {
   "cell_type": "markdown",
   "id": "26253148",
   "metadata": {
    "slideshow": {
     "slide_type": "slide"
    }
   },
   "source": [
    "Así, $7$ dividido entre $3$ da $2$ con $1$ de resto."
   ]
  },
  {
   "cell_type": "markdown",
   "id": "6c3d718d",
   "metadata": {
    "slideshow": {
     "slide_type": "slide"
    }
   },
   "source": [
    "El operador de módulo resulta ser soprendentemente útil."
   ]
  },
  {
   "cell_type": "markdown",
   "id": "84612380",
   "metadata": {
    "slideshow": {
     "slide_type": "slide"
    }
   },
   "source": [
    "Por ejemplo, puede comprobar si un número es divisible entre otro: si `x%y` es cero, entonces $x$ es divisible entre $y$."
   ]
  },
  {
   "cell_type": "markdown",
   "id": "555a6726",
   "metadata": {
    "slideshow": {
     "slide_type": "slide"
    }
   },
   "source": [
    "También puede usar el operador m´odulo para extraer el d´ıgito m´as a la derecha\n",
    "de un numero. "
   ]
  },
  {
   "cell_type": "markdown",
   "id": "aecc5ac0",
   "metadata": {
    "slideshow": {
     "slide_type": "slide"
    }
   },
   "source": [
    "Por ejemplo, `x % 10` devuelve el dígito más a la derecha de `x` (en base 10). "
   ]
  },
  {
   "cell_type": "code",
   "execution_count": null,
   "id": "6b932f73",
   "metadata": {
    "slideshow": {
     "slide_type": "slide"
    }
   },
   "outputs": [],
   "source": [
    "x = 54\n",
    "x%10"
   ]
  },
  {
   "cell_type": "markdown",
   "id": "5876d314",
   "metadata": {
    "slideshow": {
     "slide_type": "slide"
    }
   },
   "source": [
    "De forma similar, `x % 100` devuelve los dos últimos dígitos."
   ]
  },
  {
   "cell_type": "markdown",
   "id": "77f53d8f",
   "metadata": {
    "slideshow": {
     "slide_type": "slide"
    }
   },
   "source": [
    "## 4.2. Expresiones booleanas"
   ]
  },
  {
   "cell_type": "markdown",
   "id": "90d07544",
   "metadata": {
    "slideshow": {
     "slide_type": "slide"
    }
   },
   "source": [
    "Una expresi´on booleana es una expresi´on que es cierta o falsa. En Python,\n",
    "una expresi´on que es cierta tiene el valor 1, y una expresi´on que es falsa tiene\n",
    "el valor 0.\n",
    "El operador == compara dos valores y entrega una expresi´on booleana:\n",
    ">>> 5 == 5\n",
    "1\n",
    ">>> 5 == 6\n",
    "0\n",
    "En la primera sentencia, los dos operandos son iguales, as´ı que la expresi´on se\n",
    "evalua´ como 1 (verdadero); en la segunda sentencia, 5 no es igual a 6, as´ı que\n",
    "obtenemos 0 (falso)."
   ]
  },
  {
   "cell_type": "markdown",
   "id": "3ec0a364",
   "metadata": {
    "slideshow": {
     "slide_type": "slide"
    }
   },
   "source": [
    "El operador `==` es uno de los operadores de comparación; los otros son:"
   ]
  },
  {
   "cell_type": "markdown",
   "id": "0683b166",
   "metadata": {
    "slideshow": {
     "slide_type": "slide"
    }
   },
   "source": [
    "|Operador de comparación|Significado|\n",
    "|-----------------------|-----------|  \n",
    "|x != y |    # x no es igual a y|    \n",
    "|x > y |     # x es mayor que y | \n",
    "|x < y |     # x es menor que y | \n",
    "|x >= y |    # x es mayor o igual que y|  \n",
    "|x <= y|     # x es menor o igual que y|  "
   ]
  },
  {
   "cell_type": "markdown",
   "id": "8e125771",
   "metadata": {
    "slideshow": {
     "slide_type": "slide"
    }
   },
   "source": [
    "Aunque probablemente estas operaciones le resulten familiares, los símbolos en Python son diferentes de los matemáticos. "
   ]
  },
  {
   "cell_type": "markdown",
   "id": "d6d5c1ec",
   "metadata": {
    "slideshow": {
     "slide_type": "slide"
    }
   },
   "source": [
    "Un error habitual es utilizar un signo\n",
    "igual sencillo (=) en lugar del doble (==). Recuerde que = es un operador de\n",
    "asignaci´on y == es un operador de comparaci´on. Adem´as, no existen =< ni =>."
   ]
  },
  {
   "cell_type": "markdown",
   "id": "762530a9",
   "metadata": {
    "slideshow": {
     "slide_type": "slide"
    }
   },
   "source": [
    "## 4.3. Operadores lógicos  "
   ]
  },
  {
   "cell_type": "markdown",
   "id": "a70d82af",
   "metadata": {
    "slideshow": {
     "slide_type": "slide"
    }
   },
   "source": [
    "Hay tres operadores lógicos: `and`, `or`, y `not`. "
   ]
  },
  {
   "cell_type": "markdown",
   "id": "3221a3f0",
   "metadata": {
    "slideshow": {
     "slide_type": "slide"
    }
   },
   "source": [
    "La semántica (significado) de estos operadores es similar a sus significados en inglés. "
   ]
  },
  {
   "cell_type": "markdown",
   "id": "98f3037b",
   "metadata": {
    "slideshow": {
     "slide_type": "slide"
    }
   },
   "source": [
    "Por ejemplo, `x >0 and x <10` es verdadero sólo si `x` es mayor que `0` y menor que `10`."
   ]
  },
  {
   "cell_type": "markdown",
   "id": "89f63113",
   "metadata": {
    "slideshow": {
     "slide_type": "slide"
    }
   },
   "source": [
    "`n %2 == 0 or n %3 == 0` es verdadero si cualquiera de las condiciones es verdadera, o sea, si el número es divisible por 2 o por 3."
   ]
  },
  {
   "cell_type": "markdown",
   "id": "74f17de0",
   "metadata": {
    "slideshow": {
     "slide_type": "slide"
    }
   },
   "source": [
    "Finalmente, el operador not niega una expresi´on booleana, de forma que `not(x > y)` es cierto si `(x > y)` es falso, o sea, si `x` es menor o igual que `y`."
   ]
  },
  {
   "cell_type": "markdown",
   "id": "0080793a",
   "metadata": {
    "slideshow": {
     "slide_type": "slide"
    }
   },
   "source": [
    "Hablando estrictamente, los operandos de los operadores lógicos deberían ser expresiones booleanas, pero Python no es muy estricto. "
   ]
  },
  {
   "cell_type": "markdown",
   "id": "4019d5f2",
   "metadata": {
    "slideshow": {
     "slide_type": "slide"
    }
   },
   "source": [
    "Cualqueir número que no sea cero se interpreta como “verdadero”"
   ]
  },
  {
   "cell_type": "code",
   "execution_count": null,
   "id": "a42ccdfd",
   "metadata": {
    "slideshow": {
     "slide_type": "slide"
    }
   },
   "outputs": [],
   "source": [
    "x = 5\n",
    "x and 1"
   ]
  },
  {
   "cell_type": "code",
   "execution_count": null,
   "id": "c1a71af0",
   "metadata": {
    "slideshow": {
     "slide_type": "slide"
    }
   },
   "outputs": [],
   "source": [
    "y = 0\n",
    "y and 1"
   ]
  },
  {
   "cell_type": "markdown",
   "id": "3286e5f1",
   "metadata": {
    "slideshow": {
     "slide_type": "slide"
    }
   },
   "source": [
    "En general, este tipo de cosas no se considera buen estilo. "
   ]
  },
  {
   "cell_type": "markdown",
   "id": "037431e8",
   "metadata": {
    "slideshow": {
     "slide_type": "slide"
    }
   },
   "source": [
    "Si quiere comparar un valor con cero, debería hacerlo explícitamente."
   ]
  },
  {
   "cell_type": "markdown",
   "id": "a76f08bf",
   "metadata": {
    "slideshow": {
     "slide_type": "slide"
    }
   },
   "source": [
    "## 4.4. Ejecución condicional"
   ]
  },
  {
   "cell_type": "markdown",
   "id": "ab4e28af",
   "metadata": {
    "slideshow": {
     "slide_type": "slide"
    }
   },
   "source": [
    "Para escribir programas útiles, casi siempre necesitamos la capacidad de comprobar ciertas condiciones y cambiar el comportamiento del programa en consonancia. "
   ]
  },
  {
   "cell_type": "markdown",
   "id": "39df36f7",
   "metadata": {
    "slideshow": {
     "slide_type": "slide"
    }
   },
   "source": [
    "Las sentencias condicionales nos dan esta capacidad. "
   ]
  },
  {
   "cell_type": "markdown",
   "id": "23eb401e",
   "metadata": {
    "slideshow": {
     "slide_type": "slide"
    }
   },
   "source": [
    "La forma más sencilla es la sentencia `if`:"
   ]
  },
  {
   "cell_type": "code",
   "execution_count": null,
   "id": "5e08dda0",
   "metadata": {
    "slideshow": {
     "slide_type": "slide"
    }
   },
   "outputs": [],
   "source": [
    "if x > 0:\n",
    "    print(\"x es positivo\") "
   ]
  },
  {
   "cell_type": "markdown",
   "id": "b2d5e44d",
   "metadata": {
    "slideshow": {
     "slide_type": "slide"
    }
   },
   "source": [
    "La expresión booleana tras el `if` se llama condición. "
   ]
  },
  {
   "cell_type": "markdown",
   "id": "5f96573d",
   "metadata": {
    "slideshow": {
     "slide_type": "slide"
    }
   },
   "source": [
    "Si es verdadera, entonces la sentencia indentada se ejecuta. "
   ]
  },
  {
   "cell_type": "markdown",
   "id": "4a37d919",
   "metadata": {
    "slideshow": {
     "slide_type": "slide"
    }
   },
   "source": [
    "Si la condición no es verdadera, no pasa nada."
   ]
  },
  {
   "cell_type": "markdown",
   "id": "50087348",
   "metadata": {
    "slideshow": {
     "slide_type": "slide"
    }
   },
   "source": [
    "Como otras sentencias compuestas, if consta de una cabecera y un bloque de sentencias:  \n",
    "CABECERA:  \n",
    "PRIMERA SENTENCIA  \n",
    "...\n",
    "ULITMA SENTENCIA  "
   ]
  },
  {
   "cell_type": "markdown",
   "id": "be4b3659",
   "metadata": {
    "slideshow": {
     "slide_type": "slide"
    }
   },
   "source": [
    "La cabecera comienza con una nueva línea y termina con el signo de dos puntos."
   ]
  },
  {
   "cell_type": "markdown",
   "id": "0874de60",
   "metadata": {
    "slideshow": {
     "slide_type": "slide"
    }
   },
   "source": [
    "Los elementos indentados que siguen se llaman bloque de la sentencia. "
   ]
  },
  {
   "cell_type": "markdown",
   "id": "60b529bb",
   "metadata": {
    "slideshow": {
     "slide_type": "slide"
    }
   },
   "source": [
    "La primera sentencia no indentada marca el fin del bloque. "
   ]
  },
  {
   "cell_type": "markdown",
   "id": "e4e1bdda",
   "metadata": {
    "slideshow": {
     "slide_type": "slide"
    }
   },
   "source": [
    "Un bloque de sentencias dentro de una sentencia compuesta recibe el nombre de cuerpo de la sentencia."
   ]
  },
  {
   "cell_type": "markdown",
   "id": "18bc323f",
   "metadata": {
    "slideshow": {
     "slide_type": "slide"
    }
   },
   "source": [
    "No hay límite a la cantidad de sentencias que pueden aparecer en el cuerpo de una sentencia `if`, pero debe haber al menos una. "
   ]
  },
  {
   "cell_type": "markdown",
   "id": "5c9279ef",
   "metadata": {
    "slideshow": {
     "slide_type": "slide"
    }
   },
   "source": [
    "A veces, es útil tener un cuerpo sin sentencias, (normalmente como reserva de espacio para algo de código que todavía no ha escrito). "
   ]
  },
  {
   "cell_type": "markdown",
   "id": "d568909e",
   "metadata": {
    "slideshow": {
     "slide_type": "slide"
    }
   },
   "source": [
    "En tales casos, puede usted utilizar la sentencia `pass`, que no hace nada."
   ]
  },
  {
   "cell_type": "markdown",
   "id": "dfa5151c",
   "metadata": {
    "slideshow": {
     "slide_type": "slide"
    }
   },
   "source": [
    "## 4.5. Ejecución alternativa"
   ]
  },
  {
   "cell_type": "markdown",
   "id": "e7e761ef",
   "metadata": {
    "slideshow": {
     "slide_type": "slide"
    }
   },
   "source": [
    "Una segunda forma de la sentencia `if` es la ejecuci´on alternativa, en la que hay dos posibilidades, y la condición determina cuál de ellas se ejecuta. "
   ]
  },
  {
   "cell_type": "markdown",
   "id": "cd5d06e0",
   "metadata": {
    "slideshow": {
     "slide_type": "slide"
    }
   },
   "source": [
    "La sintaxis tiene este aspecto:"
   ]
  },
  {
   "cell_type": "code",
   "execution_count": null,
   "id": "9a7ab6cb",
   "metadata": {
    "slideshow": {
     "slide_type": "slide"
    }
   },
   "outputs": [],
   "source": [
    "if x%2 == 0:\n",
    "    print(x, \"es par\")\n",
    "else:\n",
    "    print(x, \"es impar\") "
   ]
  },
  {
   "cell_type": "markdown",
   "id": "bb3d0e39",
   "metadata": {
    "slideshow": {
     "slide_type": "slide"
    }
   },
   "source": [
    "Si el resto cuando se divide `x` entre 2 es cero, entonces sabemos que `x` es par, y este programa muestra un mensaje a tal efecto. "
   ]
  },
  {
   "cell_type": "markdown",
   "id": "5ab8a1e2",
   "metadata": {
    "slideshow": {
     "slide_type": "slide"
    }
   },
   "source": [
    "Si la condición es falsa, se ejecuta el segundo lote de sentencias. "
   ]
  },
  {
   "cell_type": "markdown",
   "id": "5c3d6499",
   "metadata": {
    "slideshow": {
     "slide_type": "slide"
    }
   },
   "source": [
    "Puesto que la condición debe ser verdadera o falsa, se ejecutará exactamente una de las alternativas. "
   ]
  },
  {
   "cell_type": "markdown",
   "id": "db5cfc62",
   "metadata": {
    "slideshow": {
     "slide_type": "slide"
    }
   },
   "source": [
    "Llamamos ramas a las posibilidades porque son ramas del flujo de ejecución."
   ]
  },
  {
   "cell_type": "markdown",
   "id": "bfed16d7",
   "metadata": {
    "slideshow": {
     "slide_type": "slide"
    }
   },
   "source": [
    "Como un aparte, si piensa que querrá comprobar con frecuencia la paridad de números, quizá desee “envolver” este código en una función:"
   ]
  },
  {
   "cell_type": "code",
   "execution_count": null,
   "id": "a4807606",
   "metadata": {
    "slideshow": {
     "slide_type": "slide"
    }
   },
   "outputs": [],
   "source": [
    "def imprimeParidad(x):\n",
    "    if x%2 == 0:\n",
    "        print(x, \"es par\")\n",
    "    else:\n",
    "        print(x, \"es impar\")"
   ]
  },
  {
   "cell_type": "markdown",
   "id": "f5710d0e",
   "metadata": {
    "slideshow": {
     "slide_type": "slide"
    }
   },
   "source": [
    "Ahora tiene una función llamada `imprimeParidad()` que muestra el mensaje apropiado para cada número entero que usted le pase."
   ]
  },
  {
   "cell_type": "markdown",
   "id": "03b3783b",
   "metadata": {
    "slideshow": {
     "slide_type": "slide"
    }
   },
   "source": [
    " Llame a esta función de la manera siguiente:"
   ]
  },
  {
   "cell_type": "code",
   "execution_count": null,
   "id": "73069ce9",
   "metadata": {
    "slideshow": {
     "slide_type": "slide"
    }
   },
   "outputs": [],
   "source": [
    "imprimeParidad(17)\n",
    "imprimeParidad(y+1)"
   ]
  },
  {
   "cell_type": "markdown",
   "id": "4f830b96",
   "metadata": {
    "slideshow": {
     "slide_type": "slide"
    }
   },
   "source": [
    "## 4.6. Condiciones encadenadas"
   ]
  },
  {
   "cell_type": "markdown",
   "id": "c3384b31",
   "metadata": {
    "slideshow": {
     "slide_type": "slide"
    }
   },
   "source": [
    "A veces hay más de dos posibilidades y necesitamos más de dos ramas. "
   ]
  },
  {
   "cell_type": "markdown",
   "id": "f1dd50e4",
   "metadata": {
    "slideshow": {
     "slide_type": "slide"
    }
   },
   "source": [
    "Una forma de expresar tal computación es un conditional encadenado:"
   ]
  },
  {
   "cell_type": "code",
   "execution_count": null,
   "id": "55358426",
   "metadata": {
    "slideshow": {
     "slide_type": "slide"
    }
   },
   "outputs": [],
   "source": [
    "x,y = 2,2 \n",
    "if x < y:\n",
    "    print(x, \"es menor que\", y)\n",
    "elif x > y:\n",
    "    print(x, \"es mayor que\", y)\n",
    "else:\n",
    "    print(x, \"y\", y, \"son iguales\") "
   ]
  },
  {
   "cell_type": "markdown",
   "id": "2dc9023b",
   "metadata": {
    "slideshow": {
     "slide_type": "slide"
    }
   },
   "source": [
    "`elif` es una abreviatura de ”`else if`”. "
   ]
  },
  {
   "cell_type": "markdown",
   "id": "af1aa570",
   "metadata": {
    "slideshow": {
     "slide_type": "slide"
    }
   },
   "source": [
    "De nuevo, sólo se ejecutará una rama. "
   ]
  },
  {
   "cell_type": "markdown",
   "id": "02a99197",
   "metadata": {
    "slideshow": {
     "slide_type": "slide"
    }
   },
   "source": [
    "No hay límite al número de sentencias `elif`, pero sólo se permite una sentencia `else` (que puede omitirse) y debe ser la última rama de la sentencia:"
   ]
  },
  {
   "cell_type": "code",
   "execution_count": null,
   "id": "b7310853",
   "metadata": {
    "slideshow": {
     "slide_type": "slide"
    }
   },
   "outputs": [],
   "source": [
    "if eleccion == 'A':\n",
    "    funcionA()\n",
    "elif eleccion == 'B':\n",
    "    funcionB()\n",
    "elif eleccion == 'C':\n",
    "    funcionC()\n",
    "else:\n",
    "    print(\"Eleccion no valida.\")"
   ]
  },
  {
   "cell_type": "markdown",
   "id": "85d2204a",
   "metadata": {
    "slideshow": {
     "slide_type": "slide"
    }
   },
   "source": [
    "Las condiciones se comprueban en orden. "
   ]
  },
  {
   "cell_type": "markdown",
   "id": "21116da3",
   "metadata": {
    "slideshow": {
     "slide_type": "slide"
    }
   },
   "source": [
    "Si la primera es falsa, se comprueba la siguiente, y así si una de ellas es cierta, se ejecuta la rama correspondiente y termina la sentencia. "
   ]
  },
  {
   "cell_type": "markdown",
   "id": "d22995fc",
   "metadata": {
    "slideshow": {
     "slide_type": "slide"
    }
   },
   "source": [
    "Incluso si es cierta más de una condición, sólo se ejecuta la primera rama verdadera."
   ]
  },
  {
   "cell_type": "markdown",
   "id": "808354d0",
   "metadata": {
    "slideshow": {
     "slide_type": "slide"
    }
   },
   "source": [
    "Como ejercicio, envuelva estos ejemplos en funciones llamadas `compara(x, y)` y `resuelve(eleccion)`."
   ]
  },
  {
   "cell_type": "markdown",
   "id": "8e67c0ea",
   "metadata": {
    "slideshow": {
     "slide_type": "slide"
    }
   },
   "source": [
    "## 4.7. Condiciones anidadas  "
   ]
  },
  {
   "cell_type": "markdown",
   "id": "2ab7c905",
   "metadata": {
    "slideshow": {
     "slide_type": "slide"
    }
   },
   "source": [
    "Una condición puede estar anidada dentro de otra. "
   ]
  },
  {
   "cell_type": "markdown",
   "id": "5127b621",
   "metadata": {
    "slideshow": {
     "slide_type": "slide"
    }
   },
   "source": [
    "Podíamos haber escrito así el ejemplo de tricotomía:"
   ]
  },
  {
   "cell_type": "code",
   "execution_count": null,
   "id": "32359332",
   "metadata": {
    "slideshow": {
     "slide_type": "slide"
    }
   },
   "outputs": [],
   "source": [
    "x,y=1,2\n",
    "if x == y:\n",
    "    print(x, \"y\", y, \"son iguales\")\n",
    "else:\n",
    "    if x < y:\n",
    "        print(x, \"es menor que\", y)\n",
    "    else:\n",
    "        print(x, \"es mayor que\", y)"
   ]
  },
  {
   "cell_type": "markdown",
   "id": "c503ca0a",
   "metadata": {
    "slideshow": {
     "slide_type": "slide"
    }
   },
   "source": [
    "La condición externa que contiene dos ramas. "
   ]
  },
  {
   "cell_type": "markdown",
   "id": "1858ea0b",
   "metadata": {
    "slideshow": {
     "slide_type": "slide"
    }
   },
   "source": [
    "La primera rama contiene una sentencia simple de salida. "
   ]
  },
  {
   "cell_type": "markdown",
   "id": "180c3aa9",
   "metadata": {
    "slideshow": {
     "slide_type": "slide"
    }
   },
   "source": [
    "La segunda rama contiene otra sentencia `if`, que tiene dos ramas en sí misma. "
   ]
  },
  {
   "cell_type": "markdown",
   "id": "3dcfdb1e",
   "metadata": {
    "slideshow": {
     "slide_type": "slide"
    }
   },
   "source": [
    "Estas dos ramas son ambas sentencias de salida de datos, aunque podrían ser igualmente sentencias condicionales."
   ]
  },
  {
   "cell_type": "markdown",
   "id": "5f929ea6",
   "metadata": {
    "slideshow": {
     "slide_type": "slide"
    }
   },
   "source": [
    "Aunque la indentación de las sentencias hace la estructura evidente, las condiciones anidadas en seguida se vuelven difíciles de leer. "
   ]
  },
  {
   "cell_type": "markdown",
   "id": "136b1399",
   "metadata": {
    "slideshow": {
     "slide_type": "slide"
    }
   },
   "source": [
    "En general es una buena idea evitarlas cuando pueda."
   ]
  },
  {
   "cell_type": "markdown",
   "id": "31ce2711",
   "metadata": {
    "slideshow": {
     "slide_type": "slide"
    }
   },
   "source": [
    "Los operadores lógicos suelen facilitar un modo de simplificar las sentencias condicionales anidadas. "
   ]
  },
  {
   "cell_type": "markdown",
   "id": "3faa4e5a",
   "metadata": {
    "slideshow": {
     "slide_type": "slide"
    }
   },
   "source": [
    "Por ejemplo, podemos reescribir el código siguiente con un sólo condicional:"
   ]
  },
  {
   "cell_type": "code",
   "execution_count": null,
   "id": "1196c8ae",
   "metadata": {
    "slideshow": {
     "slide_type": "slide"
    }
   },
   "outputs": [],
   "source": [
    "if 0 < x:\n",
    "    if x < 10:\n",
    "        print(\"x es un número positivo de un dígito.\")"
   ]
  },
  {
   "cell_type": "markdown",
   "id": "601327ac",
   "metadata": {
    "slideshow": {
     "slide_type": "slide"
    }
   },
   "source": [
    "La sentencia print sólo se ejecuta si conseguimos superar ambos condicionales, así que podemos usar el operador `and` "
   ]
  },
  {
   "cell_type": "code",
   "execution_count": null,
   "id": "5350029a",
   "metadata": {
    "slideshow": {
     "slide_type": "slide"
    }
   },
   "outputs": [],
   "source": [
    "if 0 < x and x < 10:\n",
    "    print(\"x es un número positivo de un dígito.\")"
   ]
  },
  {
   "cell_type": "markdown",
   "id": "a54474c5",
   "metadata": {
    "slideshow": {
     "slide_type": "slide"
    }
   },
   "source": [
    "Estos tipos de condiciones son habituales, por lo que Python nos proporciona una sintaxis alternativa similar a la notación matemática:"
   ]
  },
  {
   "cell_type": "code",
   "execution_count": null,
   "id": "40b76eb6",
   "metadata": {
    "slideshow": {
     "slide_type": "slide"
    }
   },
   "outputs": [],
   "source": [
    "if 0 < x < 10:\n",
    "    print(\"x es un número positivo de un dígito.\") "
   ]
  },
  {
   "cell_type": "markdown",
   "id": "7e9601be",
   "metadata": {
    "slideshow": {
     "slide_type": "slide"
    }
   },
   "source": [
    "Esta condición es semánticamente la misma que la expresión booleana compuesta y que el condicional anidado."
   ]
  },
  {
   "cell_type": "code",
   "execution_count": null,
   "id": "cc783d33",
   "metadata": {
    "slideshow": {
     "slide_type": "slide"
    }
   },
   "outputs": [],
   "source": []
  },
  {
   "cell_type": "code",
   "execution_count": null,
   "id": "e5d20f9b",
   "metadata": {
    "slideshow": {
     "slide_type": "slide"
    }
   },
   "outputs": [],
   "source": []
  },
  {
   "cell_type": "markdown",
   "id": "2b65a133",
   "metadata": {
    "slideshow": {
     "slide_type": "slide"
    }
   },
   "source": [
    "## Referentes\n",
    "\n",
    "* Downey "
   ]
  },
  {
   "cell_type": "code",
   "execution_count": null,
   "id": "84b83184",
   "metadata": {},
   "outputs": [],
   "source": []
  }
 ],
 "metadata": {
  "celltoolbar": "Slideshow",
  "kernelspec": {
   "display_name": "Python 3",
   "language": "python",
   "name": "python3"
  },
  "language_info": {
   "codemirror_mode": {
    "name": "ipython",
    "version": 3
   },
   "file_extension": ".py",
   "mimetype": "text/x-python",
   "name": "python",
   "nbconvert_exporter": "python",
   "pygments_lexer": "ipython3",
   "version": "3.8.8"
  },
  "latex_envs": {
   "LaTeX_envs_menu_present": true,
   "autoclose": false,
   "autocomplete": false,
   "bibliofile": "biblio.bib",
   "cite_by": "apalike",
   "current_citInitial": 1,
   "eqLabelWithNumbers": true,
   "eqNumInitial": 1,
   "hotkeys": {
    "equation": "Ctrl-E",
    "itemize": "Ctrl-I"
   },
   "labels_anchors": false,
   "latex_user_defs": false,
   "report_style_numbering": false,
   "user_envs_cfg": false
  },
  "rise": {
   "enable_chalkboard": true,
   "theme": "sky",
   "transition": "sky"
  }
 },
 "nbformat": 4,
 "nbformat_minor": 5
}
