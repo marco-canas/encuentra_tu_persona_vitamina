{
 "cells": [
  {
   "cell_type": "markdown",
   "id": "0a7aa13b",
   "metadata": {
    "slideshow": {
     "slide_type": "slide"
    }
   },
   "source": [
    "<table align=\"left\">\n",
    "  <td>\n",
    "    <a href=\"https://colab.research.google.com/github/marco-canas/introducci-n-al-Machine-Learning/blob/main/classes/class_2/class_2.ipynb\" target=\"_parent\"><img src=\"https://colab.research.google.com/assets/colab-badge.svg\" alt=\"Open In Colab\"/></a>\n",
    "  </td>\n",
    "  <td>\n",
    "    <a target=\"_blank\" href=\"https://kaggle.com/kernels/welcome?src=https://github.com/marco-canas/introducci-n-al-Machine-Learning/blob/main/classes/class_2/class_2.ipynb\"><img src=\"https://kaggle.com/static/images/open-in-kaggle.svg\" /></a>\n",
    "  </td>\n",
    "</table>\n"
   ]
  },
  {
   "cell_type": "markdown",
   "id": "9dbe5cf7",
   "metadata": {
    "slideshow": {
     "slide_type": "slide"
    }
   },
   "source": [
    "# Clase 2 Introducción al Machine Learnig"
   ]
  },
  {
   "cell_type": "markdown",
   "id": "30e49929",
   "metadata": {
    "slideshow": {
     "slide_type": "slide"
    }
   },
   "source": [
    "### Programación en Python"
   ]
  },
  {
   "cell_type": "markdown",
   "id": "4f7f2f6a",
   "metadata": {
    "slideshow": {
     "slide_type": "slide"
    }
   },
   "source": [
    "* Variables y tipos de datos, \n",
    "* estructuras de control, \n",
    "* funciones y\n",
    "* clases en Python. "
   ]
  },
  {
   "cell_type": "markdown",
   "id": "d12847f1",
   "metadata": {
    "slideshow": {
     "slide_type": "slide"
    }
   },
   "source": [
    "Preguntas:  \n",
    "\n",
    "* ¿Cómo crear, asignar, copiar y modificar variables?,   \n",
    "* ¿Qué es una sentencia condicional y cómo influye en la ejecución de sentencias iterativas?   \n",
    "* ¿Qué diferencias hay entre paradigma funcional y OOP (programación orientada a objetos)?"
   ]
  },
  {
   "cell_type": "markdown",
   "id": "b27fc750",
   "metadata": {
    "slideshow": {
     "slide_type": "slide"
    }
   },
   "source": [
    "## Variables, expresiones y sentencias\n"
   ]
  },
  {
   "cell_type": "markdown",
   "id": "56241d40",
   "metadata": {
    "slideshow": {
     "slide_type": "skip"
    }
   },
   "source": [
    "### [Video de apoyo sobre variables, expresiones y sentencias en Python](https://www.youtube.com/watch?v=xTwdt8lkTv0) "
   ]
  },
  {
   "cell_type": "markdown",
   "id": "4f4c390a",
   "metadata": {
    "slideshow": {
     "slide_type": "slide"
    }
   },
   "source": [
    "### 2.1. Valores y tipos"
   ]
  },
  {
   "cell_type": "markdown",
   "id": "71adeb5a",
   "metadata": {
    "slideshow": {
     "slide_type": "slide"
    }
   },
   "source": [
    "El valor es uno de los elementos fundamentales (como por ejemplo una letra o un numero) que manipula un programa. "
   ]
  },
  {
   "cell_type": "code",
   "execution_count": null,
   "id": "b1869905",
   "metadata": {
    "slideshow": {
     "slide_type": "slide"
    }
   },
   "outputs": [],
   "source": [
    "'a'"
   ]
  },
  {
   "cell_type": "markdown",
   "id": "f193bc64",
   "metadata": {
    "slideshow": {
     "slide_type": "slide"
    }
   },
   "source": [
    "Los valores que hemos visto hasta el momento son 2, 3, 5, 13, 0, (el resultado de sumar algunos enteros) y algunas cadenas de caracteres."
   ]
  },
  {
   "cell_type": "markdown",
   "id": "c0dd0715",
   "metadata": {
    "slideshow": {
     "slide_type": "slide"
    }
   },
   "source": [
    "Estos valores son de distintos tipos: \n",
    "* 2 es un entero y \n",
    "* 'Hola, mundo' es una cadena, llamada así porque contiene una “cadena” de letras. \n",
    "\n",
    "Usted (y el intérprete) puede identificar las cadenas porque están encerradas entre comillas."
   ]
  },
  {
   "cell_type": "markdown",
   "id": "475206ce",
   "metadata": {
    "slideshow": {
     "slide_type": "slide"
    }
   },
   "source": [
    "La sentencia print también funciona con enteros:"
   ]
  },
  {
   "cell_type": "code",
   "execution_count": null,
   "id": "6d414476",
   "metadata": {
    "slideshow": {
     "slide_type": "slide"
    }
   },
   "outputs": [],
   "source": [
    "print(5.13)"
   ]
  },
  {
   "cell_type": "markdown",
   "id": "cceceaed",
   "metadata": {
    "slideshow": {
     "slide_type": "slide"
    }
   },
   "source": [
    "Si no está seguro del tipo que tiene un determinado valor, puede preguntárselo al intérprete de Python."
   ]
  },
  {
   "cell_type": "code",
   "execution_count": null,
   "id": "3ec8e7fe",
   "metadata": {
    "slideshow": {
     "slide_type": "slide"
    }
   },
   "outputs": [],
   "source": [
    "type(13.0)"
   ]
  },
  {
   "cell_type": "markdown",
   "id": "9ff6f582",
   "metadata": {
    "slideshow": {
     "slide_type": "slide"
    }
   },
   "source": [
    "No es sorprendente que las cadenas sean de tipo string (cadena en inglés) y los enteros sean de tipo int (por integer en inglés). "
   ]
  },
  {
   "cell_type": "markdown",
   "id": "940d0796",
   "metadata": {
    "slideshow": {
     "slide_type": "slide"
    }
   },
   "source": [
    "De forma menos obvia, los números con decimales (separados por medio de un punto en inglés) son de tipo float debido a la representación de estos números en el formato llamado de coma flotante (floating-point)."
   ]
  },
  {
   "cell_type": "code",
   "execution_count": null,
   "id": "497ea4de",
   "metadata": {
    "slideshow": {
     "slide_type": "slide"
    }
   },
   "outputs": [],
   "source": [
    "type(3.2)\n"
   ]
  },
  {
   "cell_type": "markdown",
   "id": "45a916bf",
   "metadata": {
    "slideshow": {
     "slide_type": "slide"
    }
   },
   "source": [
    "¿Qué ocurre con los valores como `\"17\"` y `\"3.2\"`? "
   ]
  },
  {
   "cell_type": "code",
   "execution_count": null,
   "id": "86026f54",
   "metadata": {},
   "outputs": [],
   "source": [
    "type('17')  "
   ]
  },
  {
   "cell_type": "markdown",
   "id": "ae6338c7",
   "metadata": {
    "slideshow": {
     "slide_type": "slide"
    }
   },
   "source": [
    "Parecen números, pero están entre comillas como las cadenas."
   ]
  },
  {
   "cell_type": "markdown",
   "id": "a4352864",
   "metadata": {
    "slideshow": {
     "slide_type": "slide"
    }
   },
   "source": [
    "Cuando escriba un entero largo, podría estar tentado de usar comas entre grupos de tres dígitos, como en 1,000,000. "
   ]
  },
  {
   "cell_type": "markdown",
   "id": "e3faf2d4",
   "metadata": {
    "slideshow": {
     "slide_type": "slide"
    }
   },
   "source": [
    "Éste no es un entero legal en Python, pero es una expresión legal:"
   ]
  },
  {
   "cell_type": "code",
   "execution_count": 4,
   "id": "41a00ba6",
   "metadata": {
    "slideshow": {
     "slide_type": "slide"
    }
   },
   "outputs": [
    {
     "name": "stdout",
     "output_type": "stream",
     "text": [
      "1 0 0\n"
     ]
    }
   ],
   "source": [
    "print(1,000,000) "
   ]
  },
  {
   "cell_type": "markdown",
   "id": "f5c88201",
   "metadata": {
    "slideshow": {
     "slide_type": "slide"
    }
   },
   "source": [
    "En fin, no era eso lo que queríamos. Python interpreta 1,000,000 como una lista de tres números que debe imprimir. Así que recuerde no insertar comas en sus enteros.\n"
   ]
  },
  {
   "cell_type": "code",
   "execution_count": null,
   "id": "85036dea",
   "metadata": {
    "slideshow": {
     "slide_type": "slide"
    }
   },
   "outputs": [],
   "source": [
    "1_000_000 # escribir subguión para separar los grupos de ceros. "
   ]
  },
  {
   "cell_type": "code",
   "execution_count": 5,
   "id": "0df741c9",
   "metadata": {
    "slideshow": {
     "slide_type": "slide"
    }
   },
   "outputs": [
    {
     "data": {
      "text/plain": [
       "1000000"
      ]
     },
     "execution_count": 5,
     "metadata": {},
     "output_type": "execute_result"
    }
   ],
   "source": [
    "1000000  # La otra opción es no utilizar ningún separador. "
   ]
  },
  {
   "cell_type": "markdown",
   "id": "d4f7d197",
   "metadata": {
    "slideshow": {
     "slide_type": "slide"
    }
   },
   "source": [
    "## 2.2. Variables\n"
   ]
  },
  {
   "cell_type": "markdown",
   "id": "1ebb4ca5",
   "metadata": {
    "slideshow": {
     "slide_type": "slide"
    }
   },
   "source": [
    "Una de las características más potentes de los lenguajes de programación es la capacidad de manipular variables. "
   ]
  },
  {
   "cell_type": "markdown",
   "id": "e50f2048",
   "metadata": {
    "slideshow": {
     "slide_type": "slide"
    }
   },
   "source": [
    "Una variable es un nombre que hace referencia a un valor."
   ]
  },
  {
   "cell_type": "markdown",
   "id": "a6ff12cf",
   "metadata": {
    "slideshow": {
     "slide_type": "slide"
    }
   },
   "source": [
    "La **sentencia de asignación** (`=`) crea nuevas variables y les asigna un valor:"
   ]
  },
  {
   "cell_type": "code",
   "execution_count": 6,
   "id": "021be8b9",
   "metadata": {
    "slideshow": {
     "slide_type": "slide"
    }
   },
   "outputs": [],
   "source": [
    "mensaje = '¡Qué útil es el Machine Learning!'     # primera sentencia de asignación\n",
    "n = 13                                            # segunda sentencia de asignación\n",
    "pi = 3.14159                                     # tercera sentencia de asignación"
   ]
  },
  {
   "cell_type": "markdown",
   "id": "1173278e",
   "metadata": {
    "slideshow": {
     "slide_type": "slide"
    }
   },
   "source": [
    "Este ejemplo muestra tres asignaciones. "
   ]
  },
  {
   "cell_type": "markdown",
   "id": "e1f7d074",
   "metadata": {
    "slideshow": {
     "slide_type": "slide"
    }
   },
   "source": [
    "La primera de ellas asigna el valor `'¡Que útil es el machine learning!'` a una variable nueva, de nombre `mensaje`. "
   ]
  },
  {
   "cell_type": "markdown",
   "id": "68492d64",
   "metadata": {
    "slideshow": {
     "slide_type": "slide"
    }
   },
   "source": [
    "La segunda le da el valor entero $13$ a $n$, y \n",
    "* la tercera le da el valor de número en coma flotante $3.14159$ a `pi`"
   ]
  },
  {
   "cell_type": "markdown",
   "id": "c83813f5",
   "metadata": {
    "slideshow": {
     "slide_type": "slide"
    }
   },
   "source": [
    "Una forma habitual de representar variables sobre el papel es escribir el nombre con una flecha señalando al valor de la variable. "
   ]
  },
  {
   "cell_type": "markdown",
   "id": "b4fc32a2",
   "metadata": {
    "slideshow": {
     "slide_type": "slide"
    }
   },
   "source": [
    "Este tipo de representación se llama diagrama de estado, ya que muestra en qué estado se halla cada una de las variables (considérelo como el “estado de ánimo” de la variable”)."
   ]
  },
  {
   "cell_type": "markdown",
   "id": "4cbd3e9f",
   "metadata": {
    "slideshow": {
     "slide_type": "slide"
    }
   },
   "source": [
    "El siguiente diagrama muestra el efecto de las tres sentencias de asignación anteriores:"
   ]
  },
  {
   "cell_type": "markdown",
   "id": "cc8832b0",
   "metadata": {
    "slideshow": {
     "slide_type": "slide"
    }
   },
   "source": [
    "$$ \\text{mensaje} \\ \\ \\to\\  \\text{'¡Que útil es el Machine Learning!'} $$"
   ]
  },
  {
   "cell_type": "markdown",
   "id": "04b58e46",
   "metadata": {
    "slideshow": {
     "slide_type": "slide"
    }
   },
   "source": [
    "La función `print()` también funciona con variables.\n"
   ]
  },
  {
   "cell_type": "code",
   "execution_count": 7,
   "id": "7336910f",
   "metadata": {
    "slideshow": {
     "slide_type": "slide"
    }
   },
   "outputs": [
    {
     "name": "stdout",
     "output_type": "stream",
     "text": [
      "¡Qué útil es el Machine Learning!\n",
      "13\n",
      "3.14159\n"
     ]
    }
   ],
   "source": [
    "print(mensaje)\n",
    "print(n)\n",
    "print(pi)"
   ]
  },
  {
   "cell_type": "markdown",
   "id": "64bd55cb",
   "metadata": {
    "slideshow": {
     "slide_type": "slide"
    }
   },
   "source": [
    "En cada caso, el resultado es el valor de la variable. "
   ]
  },
  {
   "cell_type": "markdown",
   "id": "0754555c",
   "metadata": {
    "slideshow": {
     "slide_type": "slide"
    }
   },
   "source": [
    "## Los tipos de variables "
   ]
  },
  {
   "cell_type": "markdown",
   "id": "7b2b6560",
   "metadata": {
    "slideshow": {
     "slide_type": "slide"
    }
   },
   "source": [
    "Las variables también tienen tipo. "
   ]
  },
  {
   "cell_type": "markdown",
   "id": "c8bd1e02",
   "metadata": {
    "slideshow": {
     "slide_type": "slide"
    }
   },
   "source": [
    "De nuevo, podemos preguntar al intérprete lo que son."
   ]
  },
  {
   "cell_type": "code",
   "execution_count": 8,
   "id": "2be59741",
   "metadata": {
    "slideshow": {
     "slide_type": "slide"
    }
   },
   "outputs": [
    {
     "data": {
      "text/plain": [
       "str"
      ]
     },
     "execution_count": 8,
     "metadata": {},
     "output_type": "execute_result"
    }
   ],
   "source": [
    "type(mensaje)"
   ]
  },
  {
   "cell_type": "code",
   "execution_count": 9,
   "id": "5215f39c",
   "metadata": {
    "slideshow": {
     "slide_type": "slide"
    }
   },
   "outputs": [
    {
     "data": {
      "text/plain": [
       "int"
      ]
     },
     "execution_count": 9,
     "metadata": {},
     "output_type": "execute_result"
    }
   ],
   "source": [
    "type(n)"
   ]
  },
  {
   "cell_type": "code",
   "execution_count": 10,
   "id": "e1fef83c",
   "metadata": {
    "slideshow": {
     "slide_type": "slide"
    }
   },
   "outputs": [
    {
     "data": {
      "text/plain": [
       "float"
      ]
     },
     "execution_count": 10,
     "metadata": {},
     "output_type": "execute_result"
    }
   ],
   "source": [
    "type(pi)\n"
   ]
  },
  {
   "cell_type": "markdown",
   "id": "878d09cf",
   "metadata": {
    "slideshow": {
     "slide_type": "slide"
    }
   },
   "source": [
    "El tipo de una variable es el tipo del valor al que se refiere."
   ]
  },
  {
   "cell_type": "markdown",
   "id": "b059048f",
   "metadata": {
    "slideshow": {
     "slide_type": "slide"
    }
   },
   "source": [
    "## 2.3. Nombres de variables y palabras reservadas  "
   ]
  },
  {
   "cell_type": "markdown",
   "id": "4e553e2b",
   "metadata": {
    "slideshow": {
     "slide_type": "slide"
    }
   },
   "source": [
    "Como norma general, los programadores eligen nombres significativos para sus variables: esto permite documentar para qué se usa la variable."
   ]
  },
  {
   "cell_type": "markdown",
   "id": "6786e5d9",
   "metadata": {
    "slideshow": {
     "slide_type": "slide"
    }
   },
   "source": [
    "Los nombres de las variables pueden tener una longitud arbitraria. "
   ]
  },
  {
   "cell_type": "markdown",
   "id": "4adf1afd",
   "metadata": {
    "slideshow": {
     "slide_type": "slide"
    }
   },
   "source": [
    "Pueden estar formados por letras y números, pero deben comenzar con una letra. "
   ]
  },
  {
   "cell_type": "markdown",
   "id": "5be8bdfb",
   "metadata": {
    "slideshow": {
     "slide_type": "slide"
    }
   },
   "source": [
    "Aunque es aceptable usar mayúsculas, por convención no lo hacemos. "
   ]
  },
  {
   "cell_type": "markdown",
   "id": "517c0efb",
   "metadata": {
    "slideshow": {
     "slide_type": "slide"
    }
   },
   "source": [
    "Si lo hace, recuerde que la distinción es importante: `Bruno` y `bruno` son dos variables diferentes."
   ]
  },
  {
   "cell_type": "markdown",
   "id": "f78db937",
   "metadata": {
    "slideshow": {
     "slide_type": "slide"
    }
   },
   "source": [
    "El guión bajo (`_`) también es legal y se utiliza a menudo para separar nombres con múltiples palabras, como mi nombre o precio del cafe colombiano."
   ]
  },
  {
   "cell_type": "code",
   "execution_count": 11,
   "id": "5c7709a5",
   "metadata": {
    "slideshow": {
     "slide_type": "slide"
    }
   },
   "outputs": [],
   "source": [
    "marco_julio_cañas = 261"
   ]
  },
  {
   "cell_type": "markdown",
   "id": "09379e69",
   "metadata": {
    "slideshow": {
     "slide_type": "slide"
    }
   },
   "source": [
    "Si intenta darle a una variable un nombre ilegal, obtendrá un error de sintaxis."
   ]
  },
  {
   "cell_type": "code",
   "execution_count": 12,
   "id": "61c603b9",
   "metadata": {
    "slideshow": {
     "slide_type": "slide"
    }
   },
   "outputs": [
    {
     "ename": "SyntaxError",
     "evalue": "invalid syntax (<ipython-input-12-55ba304bea22>, line 1)",
     "output_type": "error",
     "traceback": [
      "\u001b[1;36m  File \u001b[1;32m\"<ipython-input-12-55ba304bea22>\"\u001b[1;36m, line \u001b[1;32m1\u001b[0m\n\u001b[1;33m    26students = \"gran desfile\"\u001b[0m\n\u001b[1;37m      ^\u001b[0m\n\u001b[1;31mSyntaxError\u001b[0m\u001b[1;31m:\u001b[0m invalid syntax\n"
     ]
    }
   ],
   "source": [
    "26students = \"gran desfile\""
   ]
  },
  {
   "cell_type": "code",
   "execution_count": 13,
   "id": "d3940967",
   "metadata": {
    "slideshow": {
     "slide_type": "slide"
    }
   },
   "outputs": [
    {
     "ename": "SyntaxError",
     "evalue": "invalid syntax (<ipython-input-13-b03977ed68cd>, line 1)",
     "output_type": "error",
     "traceback": [
      "\u001b[1;36m  File \u001b[1;32m\"<ipython-input-13-b03977ed68cd>\"\u001b[1;36m, line \u001b[1;32m1\u001b[0m\n\u001b[1;33m    mas$ = 1000000\u001b[0m\n\u001b[1;37m       ^\u001b[0m\n\u001b[1;31mSyntaxError\u001b[0m\u001b[1;31m:\u001b[0m invalid syntax\n"
     ]
    }
   ],
   "source": [
    "mas$ = 1000000"
   ]
  },
  {
   "cell_type": "code",
   "execution_count": 14,
   "id": "42f8c33d",
   "metadata": {
    "slideshow": {
     "slide_type": "slide"
    }
   },
   "outputs": [
    {
     "ename": "SyntaxError",
     "evalue": "invalid syntax (<ipython-input-14-103b2fcb74a1>, line 1)",
     "output_type": "error",
     "traceback": [
      "\u001b[1;36m  File \u001b[1;32m\"<ipython-input-14-103b2fcb74a1>\"\u001b[1;36m, line \u001b[1;32m1\u001b[0m\n\u001b[1;33m    class = \"Introducción am Machine Learning\"\u001b[0m\n\u001b[1;37m          ^\u001b[0m\n\u001b[1;31mSyntaxError\u001b[0m\u001b[1;31m:\u001b[0m invalid syntax\n"
     ]
    }
   ],
   "source": [
    "class = \"Introducción am Machine Learning\"\n"
   ]
  },
  {
   "cell_type": "markdown",
   "id": "f4ce8485",
   "metadata": {
    "slideshow": {
     "slide_type": "slide"
    }
   },
   "source": [
    "* `76trombones` es ilegal porque no comienza por una letra. \n",
    "* `mas$` es ilegal porque contiene un car´acter ilegal, el signo del dólar.\n",
    "* Pero ¿qué tiene de malo `class`?"
   ]
  },
  {
   "cell_type": "markdown",
   "id": "c9667832",
   "metadata": {
    "slideshow": {
     "slide_type": "slide"
    }
   },
   "source": [
    "Resulta que `class` es una de las palabras reservadas de Python. "
   ]
  },
  {
   "cell_type": "markdown",
   "id": "de8b32a9",
   "metadata": {
    "slideshow": {
     "slide_type": "slide"
    }
   },
   "source": [
    "El lenguaje usa las palabras reservadas para definir sus reglas y estructura, y no pueden usarse como nombres de variables."
   ]
  },
  {
   "cell_type": "markdown",
   "id": "5d4ccb32",
   "metadata": {
    "slideshow": {
     "slide_type": "slide"
    }
   },
   "source": [
    "Python tiene 29 palabras reservadas:"
   ]
  },
  {
   "cell_type": "code",
   "execution_count": 17,
   "id": "25b12d6d",
   "metadata": {
    "slideshow": {
     "slide_type": "slide"
    }
   },
   "outputs": [
    {
     "data": {
      "text/html": [
       "<div>\n",
       "<style scoped>\n",
       "    .dataframe tbody tr th:only-of-type {\n",
       "        vertical-align: middle;\n",
       "    }\n",
       "\n",
       "    .dataframe tbody tr th {\n",
       "        vertical-align: top;\n",
       "    }\n",
       "\n",
       "    .dataframe thead th {\n",
       "        text-align: right;\n",
       "    }\n",
       "</style>\n",
       "<table border=\"1\" class=\"dataframe\">\n",
       "  <thead>\n",
       "    <tr style=\"text-align: right;\">\n",
       "      <th></th>\n",
       "      <th>parabras reservadas de Python</th>\n",
       "    </tr>\n",
       "  </thead>\n",
       "  <tbody>\n",
       "    <tr>\n",
       "      <th>0</th>\n",
       "      <td>and</td>\n",
       "    </tr>\n",
       "    <tr>\n",
       "      <th>1</th>\n",
       "      <td>continue</td>\n",
       "    </tr>\n",
       "    <tr>\n",
       "      <th>2</th>\n",
       "      <td>else</td>\n",
       "    </tr>\n",
       "    <tr>\n",
       "      <th>3</th>\n",
       "      <td>for</td>\n",
       "    </tr>\n",
       "    <tr>\n",
       "      <th>4</th>\n",
       "      <td>import</td>\n",
       "    </tr>\n",
       "    <tr>\n",
       "      <th>5</th>\n",
       "      <td>not</td>\n",
       "    </tr>\n",
       "    <tr>\n",
       "      <th>6</th>\n",
       "      <td>raise</td>\n",
       "    </tr>\n",
       "    <tr>\n",
       "      <th>7</th>\n",
       "      <td>assert</td>\n",
       "    </tr>\n",
       "    <tr>\n",
       "      <th>8</th>\n",
       "      <td>def</td>\n",
       "    </tr>\n",
       "    <tr>\n",
       "      <th>9</th>\n",
       "      <td>except</td>\n",
       "    </tr>\n",
       "    <tr>\n",
       "      <th>10</th>\n",
       "      <td>from</td>\n",
       "    </tr>\n",
       "    <tr>\n",
       "      <th>11</th>\n",
       "      <td>in</td>\n",
       "    </tr>\n",
       "    <tr>\n",
       "      <th>12</th>\n",
       "      <td>or</td>\n",
       "    </tr>\n",
       "    <tr>\n",
       "      <th>13</th>\n",
       "      <td>return</td>\n",
       "    </tr>\n",
       "    <tr>\n",
       "      <th>14</th>\n",
       "      <td>break</td>\n",
       "    </tr>\n",
       "    <tr>\n",
       "      <th>15</th>\n",
       "      <td>del</td>\n",
       "    </tr>\n",
       "    <tr>\n",
       "      <th>16</th>\n",
       "      <td>exec</td>\n",
       "    </tr>\n",
       "    <tr>\n",
       "      <th>17</th>\n",
       "      <td>global</td>\n",
       "    </tr>\n",
       "    <tr>\n",
       "      <th>18</th>\n",
       "      <td>is</td>\n",
       "    </tr>\n",
       "    <tr>\n",
       "      <th>19</th>\n",
       "      <td>pass</td>\n",
       "    </tr>\n",
       "    <tr>\n",
       "      <th>20</th>\n",
       "      <td>try</td>\n",
       "    </tr>\n",
       "    <tr>\n",
       "      <th>21</th>\n",
       "      <td>class</td>\n",
       "    </tr>\n",
       "    <tr>\n",
       "      <th>22</th>\n",
       "      <td>elif</td>\n",
       "    </tr>\n",
       "    <tr>\n",
       "      <th>23</th>\n",
       "      <td>finally</td>\n",
       "    </tr>\n",
       "    <tr>\n",
       "      <th>24</th>\n",
       "      <td>if</td>\n",
       "    </tr>\n",
       "    <tr>\n",
       "      <th>25</th>\n",
       "      <td>lambda</td>\n",
       "    </tr>\n",
       "    <tr>\n",
       "      <th>26</th>\n",
       "      <td>print</td>\n",
       "    </tr>\n",
       "    <tr>\n",
       "      <th>27</th>\n",
       "      <td>while</td>\n",
       "    </tr>\n",
       "    <tr>\n",
       "      <th>28</th>\n",
       "      <td>as</td>\n",
       "    </tr>\n",
       "  </tbody>\n",
       "</table>\n",
       "</div>"
      ],
      "text/plain": [
       "   parabras reservadas de Python\n",
       "0                            and\n",
       "1                       continue\n",
       "2                           else\n",
       "3                            for\n",
       "4                         import\n",
       "5                            not\n",
       "6                          raise\n",
       "7                         assert\n",
       "8                            def\n",
       "9                         except\n",
       "10                          from\n",
       "11                            in\n",
       "12                            or\n",
       "13                        return\n",
       "14                         break\n",
       "15                           del\n",
       "16                          exec\n",
       "17                        global\n",
       "18                            is\n",
       "19                          pass\n",
       "20                           try\n",
       "21                         class\n",
       "22                          elif\n",
       "23                       finally\n",
       "24                            if\n",
       "25                        lambda\n",
       "26                         print\n",
       "27                         while\n",
       "28                            as"
      ]
     },
     "execution_count": 17,
     "metadata": {},
     "output_type": "execute_result"
    }
   ],
   "source": [
    "palabras_reservadas = ['and', 'continue', 'else', 'for', 'import', 'not', 'raise', 'assert', 'def', 'except', 'from',\n",
    "                       'in', 'or', 'return', 'break', 'del', 'exec', 'global', 'is', 'pass', 'try', 'class', 'elif',\n",
    "                       'finally', 'if', 'lambda', 'print', 'while', 'as']\n",
    "import numpy as np \n",
    "import pandas as pd \n",
    "\n",
    "df = pd.DataFrame({'parabras reservadas de Python':palabras_reservadas}, index = range(len(palabras_reservadas)))  \n",
    "df "
   ]
  },
  {
   "cell_type": "markdown",
   "id": "8fe22425",
   "metadata": {
    "slideshow": {
     "slide_type": "slide"
    }
   },
   "source": [
    "Tal vez quiera mantener esta lista a mano. "
   ]
  },
  {
   "cell_type": "markdown",
   "id": "5efe041d",
   "metadata": {
    "slideshow": {
     "slide_type": "slide"
    }
   },
   "source": [
    "Si el intérprete se queja de alguno de sus nombres de variable, y usted no sabe por qué, compruebe si está en esta\n",
    "lista."
   ]
  },
  {
   "cell_type": "markdown",
   "id": "daf010a6",
   "metadata": {
    "slideshow": {
     "slide_type": "slide"
    }
   },
   "source": [
    "## 2.4. Sentencias"
   ]
  },
  {
   "cell_type": "markdown",
   "id": "57b0e471",
   "metadata": {
    "slideshow": {
     "slide_type": "slide"
    }
   },
   "source": [
    "Una sentencia es una instrucción que puede ejecutar el intérprete de Python."
   ]
  },
  {
   "cell_type": "markdown",
   "id": "3fffb1b8",
   "metadata": {
    "slideshow": {
     "slide_type": "slide"
    }
   },
   "source": [
    "Hemos visto dos tipos de sentencias: `print()` y la asignación (`=`)."
   ]
  },
  {
   "cell_type": "markdown",
   "id": "7292c408",
   "metadata": {
    "slideshow": {
     "slide_type": "slide"
    }
   },
   "source": [
    "Cuando usted escribe una sentencia en la línea de comandos, Python la ejecuta y muestra el resultado, si lo hay. "
   ]
  },
  {
   "cell_type": "markdown",
   "id": "536eb1e2",
   "metadata": {
    "slideshow": {
     "slide_type": "slide"
    }
   },
   "source": [
    "El resultado de una sentencia `print()` es un valor."
   ]
  },
  {
   "cell_type": "markdown",
   "id": "b50c99dd",
   "metadata": {
    "slideshow": {
     "slide_type": "slide"
    }
   },
   "source": [
    "Las sentencias de asignación no entregan ningún resultado."
   ]
  },
  {
   "cell_type": "markdown",
   "id": "3499fa81",
   "metadata": {
    "slideshow": {
     "slide_type": "slide"
    }
   },
   "source": [
    "Normalmente un guión contiene una secuencia de sentencias. "
   ]
  },
  {
   "cell_type": "markdown",
   "id": "a9b58465",
   "metadata": {
    "slideshow": {
     "slide_type": "slide"
    }
   },
   "source": [
    "Si hay más de una sentencia, los resultados aparecen de uno en uno tal como se van ejecutando las\n",
    "sentencias."
   ]
  },
  {
   "cell_type": "markdown",
   "id": "ddffccde",
   "metadata": {
    "slideshow": {
     "slide_type": "slide"
    }
   },
   "source": [
    "Por ejemplo, el guión"
   ]
  },
  {
   "cell_type": "code",
   "execution_count": 18,
   "id": "3afbe0a9",
   "metadata": {
    "slideshow": {
     "slide_type": "slide"
    }
   },
   "outputs": [
    {
     "name": "stdout",
     "output_type": "stream",
     "text": [
      "1\n",
      "2\n"
     ]
    }
   ],
   "source": [
    "print(1)\n",
    "x = 2\n",
    "print(x)"
   ]
  },
  {
   "cell_type": "markdown",
   "id": "af035b0b",
   "metadata": {
    "slideshow": {
     "slide_type": "slide"
    }
   },
   "source": [
    "De nuevo, la sentencia de asignación no produce ninguna salida."
   ]
  },
  {
   "cell_type": "markdown",
   "id": "85013480",
   "metadata": {
    "slideshow": {
     "slide_type": "slide"
    }
   },
   "source": [
    "## 2.5. Evaluar expresiones  "
   ]
  },
  {
   "cell_type": "markdown",
   "id": "aae7fd47",
   "metadata": {
    "slideshow": {
     "slide_type": "slide"
    }
   },
   "source": [
    "Una expresión es una combinación de valores, variables y operadores. "
   ]
  },
  {
   "cell_type": "markdown",
   "id": "4d3a3eea",
   "metadata": {
    "slideshow": {
     "slide_type": "slide"
    }
   },
   "source": [
    "Si teclea una expresión en la línea de comandos, el intérprete la evalúa y muestra el resultado:"
   ]
  },
  {
   "cell_type": "code",
   "execution_count": 19,
   "id": "33854c5c",
   "metadata": {
    "slideshow": {
     "slide_type": "slide"
    }
   },
   "outputs": [
    {
     "data": {
      "text/plain": [
       "2"
      ]
     },
     "execution_count": 19,
     "metadata": {},
     "output_type": "execute_result"
    }
   ],
   "source": [
    "1 + 1"
   ]
  },
  {
   "cell_type": "markdown",
   "id": "a4b7fecd",
   "metadata": {
    "slideshow": {
     "slide_type": "slide"
    }
   },
   "source": [
    "Un valor, y también una variable, se considera una expresión por sí mismo."
   ]
  },
  {
   "cell_type": "code",
   "execution_count": 20,
   "id": "a208c489",
   "metadata": {
    "slideshow": {
     "slide_type": "slide"
    }
   },
   "outputs": [
    {
     "data": {
      "text/plain": [
       "17"
      ]
     },
     "execution_count": 20,
     "metadata": {},
     "output_type": "execute_result"
    }
   ],
   "source": [
    "17"
   ]
  },
  {
   "cell_type": "code",
   "execution_count": 21,
   "id": "b34e06c9",
   "metadata": {
    "slideshow": {
     "slide_type": "slide"
    }
   },
   "outputs": [
    {
     "data": {
      "text/plain": [
       "2"
      ]
     },
     "execution_count": 21,
     "metadata": {},
     "output_type": "execute_result"
    }
   ],
   "source": [
    "x"
   ]
  },
  {
   "cell_type": "markdown",
   "id": "5ae05293",
   "metadata": {
    "slideshow": {
     "slide_type": "slide"
    }
   },
   "source": [
    "Para complicar las cosas, evaluar una expresión no es del todo lo mismo que imprimir un valor."
   ]
  },
  {
   "cell_type": "code",
   "execution_count": 22,
   "id": "c69f1178",
   "metadata": {
    "slideshow": {
     "slide_type": "slide"
    }
   },
   "outputs": [],
   "source": [
    "mensaje = \"¡Qué alegría!\""
   ]
  },
  {
   "cell_type": "code",
   "execution_count": 23,
   "id": "f834f337",
   "metadata": {
    "slideshow": {
     "slide_type": "slide"
    }
   },
   "outputs": [
    {
     "data": {
      "text/plain": [
       "'¡Qué alegría!'"
      ]
     },
     "execution_count": 23,
     "metadata": {},
     "output_type": "execute_result"
    }
   ],
   "source": [
    "mensaje"
   ]
  },
  {
   "cell_type": "code",
   "execution_count": 24,
   "id": "21403d5b",
   "metadata": {
    "slideshow": {
     "slide_type": "slide"
    }
   },
   "outputs": [
    {
     "name": "stdout",
     "output_type": "stream",
     "text": [
      "¡Qué alegría!\n"
     ]
    }
   ],
   "source": [
    "print(mensaje)"
   ]
  },
  {
   "cell_type": "markdown",
   "id": "c1aab8d3",
   "metadata": {
    "slideshow": {
     "slide_type": "slide"
    }
   },
   "source": [
    "Cuando Python muestra el valor de una expresión, usa el mismo formato que usted usaría para introducir un valor. "
   ]
  },
  {
   "cell_type": "markdown",
   "id": "1a2e85aa",
   "metadata": {
    "slideshow": {
     "slide_type": "slide"
    }
   },
   "source": [
    "En el caso de las cadenas, eso significa que incluye las comillas. Pero la sentencia `print()` imprime el valor de la expresión, lo que en este caso es el contenido de la cadena."
   ]
  },
  {
   "cell_type": "markdown",
   "id": "bc82e02b",
   "metadata": {
    "slideshow": {
     "slide_type": "slide"
    }
   },
   "source": [
    "En un guión, una expresión sin más es una sentencia válida, pero no hace nada."
   ]
  },
  {
   "cell_type": "markdown",
   "id": "6e695206",
   "metadata": {
    "slideshow": {
     "slide_type": "slide"
    }
   },
   "source": [
    "El guión"
   ]
  },
  {
   "cell_type": "code",
   "execution_count": 26,
   "id": "da9412d8",
   "metadata": {
    "slideshow": {
     "slide_type": "slide"
    }
   },
   "outputs": [],
   "source": [
    "17\n",
    "3.2\n",
    "\"Hola, mundo\"\n",
    "x = 1 + 1"
   ]
  },
  {
   "cell_type": "markdown",
   "id": "8bf16d28",
   "metadata": {
    "slideshow": {
     "slide_type": "slide"
    }
   },
   "source": [
    "no presenta ninguna salida. ¿Cómo cambiaría usted el guión para mostrar los valores de estas cuatro expresiones?"
   ]
  },
  {
   "cell_type": "code",
   "execution_count": 27,
   "id": "0d0531a6",
   "metadata": {},
   "outputs": [
    {
     "name": "stdout",
     "output_type": "stream",
     "text": [
      "17\n",
      "3.2\n",
      "Hola, mundo\n",
      "2\n"
     ]
    }
   ],
   "source": [
    "print(17)\n",
    "print(3.2)\n",
    "print(\"Hola, mundo\")\n",
    "x = 1 + 1\n",
    "print(x)"
   ]
  },
  {
   "cell_type": "markdown",
   "id": "e01671d1",
   "metadata": {
    "slideshow": {
     "slide_type": "slide"
    }
   },
   "source": [
    "## 2.6. Operadores y expresiones"
   ]
  },
  {
   "cell_type": "markdown",
   "id": "86c2306e",
   "metadata": {
    "slideshow": {
     "slide_type": "slide"
    }
   },
   "source": [
    "Los operadores son símbolos especiales que representan cálculos simples, como la suma y la multiplicación. "
   ]
  },
  {
   "cell_type": "markdown",
   "id": "cceef011",
   "metadata": {
    "slideshow": {
     "slide_type": "slide"
    }
   },
   "source": [
    "Los valores que usa el operador se llaman operandos."
   ]
  },
  {
   "cell_type": "markdown",
   "id": "0f942d32",
   "metadata": {
    "slideshow": {
     "slide_type": "slide"
    }
   },
   "source": [
    "Las siguientes expresione son legales en Python y su significado es más o menos claro:"
   ]
  },
  {
   "cell_type": "code",
   "execution_count": 28,
   "id": "15c466c3",
   "metadata": {
    "slideshow": {
     "slide_type": "slide"
    }
   },
   "outputs": [
    {
     "data": {
      "text/plain": [
       "50"
      ]
     },
     "execution_count": 28,
     "metadata": {},
     "output_type": "execute_result"
    }
   ],
   "source": [
    "20+30"
   ]
  },
  {
   "cell_type": "code",
   "execution_count": 33,
   "id": "004841f3",
   "metadata": {},
   "outputs": [],
   "source": [
    "hora = 3\n",
    "minuto = 15"
   ]
  },
  {
   "cell_type": "code",
   "execution_count": 31,
   "id": "e0355671",
   "metadata": {
    "slideshow": {
     "slide_type": "slide"
    }
   },
   "outputs": [
    {
     "data": {
      "text/plain": [
       "2"
      ]
     },
     "execution_count": 31,
     "metadata": {},
     "output_type": "execute_result"
    }
   ],
   "source": [
    "hora-1"
   ]
  },
  {
   "cell_type": "code",
   "execution_count": 34,
   "id": "7bfefaad",
   "metadata": {
    "slideshow": {
     "slide_type": "slide"
    }
   },
   "outputs": [
    {
     "data": {
      "text/plain": [
       "195"
      ]
     },
     "execution_count": 34,
     "metadata": {},
     "output_type": "execute_result"
    }
   ],
   "source": [
    "hora*60+minuto"
   ]
  },
  {
   "cell_type": "code",
   "execution_count": 35,
   "id": "b5a4f869",
   "metadata": {
    "slideshow": {
     "slide_type": "slide"
    }
   },
   "outputs": [
    {
     "data": {
      "text/plain": [
       "0.25"
      ]
     },
     "execution_count": 35,
     "metadata": {},
     "output_type": "execute_result"
    }
   ],
   "source": [
    "minuto/60"
   ]
  },
  {
   "cell_type": "code",
   "execution_count": 36,
   "id": "aa1346b5",
   "metadata": {
    "slideshow": {
     "slide_type": "slide"
    }
   },
   "outputs": [
    {
     "data": {
      "text/plain": [
       "25"
      ]
     },
     "execution_count": 36,
     "metadata": {},
     "output_type": "execute_result"
    }
   ],
   "source": [
    "5**2"
   ]
  },
  {
   "cell_type": "code",
   "execution_count": 37,
   "id": "32e50743",
   "metadata": {
    "slideshow": {
     "slide_type": "slide"
    }
   },
   "outputs": [
    {
     "data": {
      "text/plain": [
       "18"
      ]
     },
     "execution_count": 37,
     "metadata": {},
     "output_type": "execute_result"
    }
   ],
   "source": [
    "(4+5)*(5-3)"
   ]
  },
  {
   "cell_type": "markdown",
   "id": "40e769a5",
   "metadata": {
    "slideshow": {
     "slide_type": "slide"
    }
   },
   "source": [
    "Los símbolos `+, -, /`, y el uso de los paréntesis para el agrupamiento, se usan todos de la misma forma que en matemáticas. "
   ]
  },
  {
   "cell_type": "markdown",
   "id": "92894fc1",
   "metadata": {
    "slideshow": {
     "slide_type": "slide"
    }
   },
   "source": [
    "El asterisco (`*`) es el signo de multiplicación y `**` el símbolo para exponenciación."
   ]
  },
  {
   "cell_type": "markdown",
   "id": "4dd22081",
   "metadata": {
    "slideshow": {
     "slide_type": "slide"
    }
   },
   "source": [
    "Cuando aparece el nombre de una variable en el lugar de un operando, se sustituye con su valor antes de realizar la operación."
   ]
  },
  {
   "cell_type": "markdown",
   "id": "6c866ebf",
   "metadata": {
    "slideshow": {
     "slide_type": "slide"
    }
   },
   "source": [
    "La suma, resta, multiplicación y exponenciación hacen lo esperado, pero la división le puede sorprender. "
   ]
  },
  {
   "cell_type": "markdown",
   "id": "03609002",
   "metadata": {
    "slideshow": {
     "slide_type": "slide"
    }
   },
   "source": [
    "La operación que sigue tiene un resultado inesperado:"
   ]
  },
  {
   "cell_type": "code",
   "execution_count": 41,
   "id": "9486fc3c",
   "metadata": {
    "slideshow": {
     "slide_type": "slide"
    }
   },
   "outputs": [
    {
     "data": {
      "text/plain": [
       "1"
      ]
     },
     "execution_count": 41,
     "metadata": {},
     "output_type": "execute_result"
    }
   ],
   "source": [
    "4//3"
   ]
  },
  {
   "cell_type": "markdown",
   "id": "59e7992c",
   "metadata": {
    "slideshow": {
     "slide_type": "slide"
    }
   },
   "source": [
    "## 2.7. El orden de las operaciones"
   ]
  },
  {
   "cell_type": "markdown",
   "id": "e7028258",
   "metadata": {
    "slideshow": {
     "slide_type": "slide"
    }
   },
   "source": [
    "Cuando aparece más de un operador en una expresión, el orden de evaluación depende de las reglas de precedencia. "
   ]
  },
  {
   "cell_type": "markdown",
   "id": "cb678416",
   "metadata": {
    "slideshow": {
     "slide_type": "slide"
    }
   },
   "source": [
    "Python sigue las mismas reglas de precedencia que los propios matemáticos para sus operaciones matemáticas."
   ]
  },
  {
   "cell_type": "markdown",
   "id": "d8785608",
   "metadata": {
    "slideshow": {
     "slide_type": "slide"
    }
   },
   "source": [
    "Los ingleses usan el acrónimo **PEMDAS** como regla parea recordar el orden de las operaciones:"
   ]
  },
  {
   "cell_type": "markdown",
   "id": "b2200426",
   "metadata": {
    "slideshow": {
     "slide_type": "slide"
    }
   },
   "source": [
    "* **Paréntesis:** tienen la precedencia más alta y pueden usarse para forzar que una expresión se evalúe en el orden que \n",
    "  queramos nosotros. Puesto que las expresiones entre paréntesis se evalúan primero, 2 * (3-1) es igual a 4, y \n",
    "  (1+1)**(5-2) es igual a 8. Tambi´en puede usar par´entesis para que una expresi´on sea m´as legible; por ejemplo \n",
    "  (minuto * 100) / 60, aunque el resultado no cambie de todas formas."
   ]
  },
  {
   "cell_type": "code",
   "execution_count": 44,
   "id": "1f43c1e8",
   "metadata": {
    "slideshow": {
     "slide_type": "slide"
    }
   },
   "outputs": [
    {
     "data": {
      "text/plain": [
       "4"
      ]
     },
     "execution_count": 44,
     "metadata": {},
     "output_type": "execute_result"
    }
   ],
   "source": [
    "2*(3-1)"
   ]
  },
  {
   "cell_type": "markdown",
   "id": "29dbd215",
   "metadata": {
    "slideshow": {
     "slide_type": "slide"
    }
   },
   "source": [
    "* **Exponenciación** tiene la siguiente precedencia más alta; así pues 2**1+1 es igual a 3 y no a 4, y 3*1**3 es igual a 3 y no \n",
    "  a 27."
   ]
  },
  {
   "cell_type": "code",
   "execution_count": 46,
   "id": "57d93a7e",
   "metadata": {
    "slideshow": {
     "slide_type": "slide"
    }
   },
   "outputs": [
    {
     "data": {
      "text/plain": [
       "4"
      ]
     },
     "execution_count": 46,
     "metadata": {},
     "output_type": "execute_result"
    }
   ],
   "source": [
    "2**1+1"
   ]
  },
  {
   "cell_type": "markdown",
   "id": "30b72262",
   "metadata": {
    "slideshow": {
     "slide_type": "slide"
    }
   },
   "source": [
    "* La Multiplicación y la División tienen la misma precedencia, que es más alta que la de la Adición y la Sustracción, que \n",
    "  tienen también la misma precedencia. Por tanto 2*3-1 devuelve 5 y no 4, y 2/3-1 da -1, y no 1 (recuerde que en la divisi´on \n",
    "  de enteros 2/3 da 0)."
   ]
  },
  {
   "cell_type": "code",
   "execution_count": 48,
   "id": "5e912982",
   "metadata": {
    "slideshow": {
     "slide_type": "slide"
    }
   },
   "outputs": [
    {
     "data": {
      "text/plain": [
       "1.0"
      ]
     },
     "execution_count": 48,
     "metadata": {},
     "output_type": "execute_result"
    }
   ],
   "source": [
    "2*3/6"
   ]
  },
  {
   "cell_type": "markdown",
   "id": "37e20c49",
   "metadata": {
    "slideshow": {
     "slide_type": "slide"
    }
   },
   "source": [
    "Los operadores que tienen la misma precedencia se evalúan de izquierda\n",
    "a derecha. "
   ]
  },
  {
   "cell_type": "markdown",
   "id": "89f4daf4",
   "metadata": {
    "slideshow": {
     "slide_type": "slide"
    }
   },
   "source": [
    "Así, en la expresión `6*4/2`, tiene lugar primero la multiplicación. "
   ]
  },
  {
   "cell_type": "markdown",
   "id": "67325167",
   "metadata": {
    "slideshow": {
     "slide_type": "slide"
    }
   },
   "source": [
    "Note que obtiene el mismo resultado si evalúa de izquierda a derecha y de derecha a izquierda. "
   ]
  },
  {
   "cell_type": "code",
   "execution_count": 59,
   "id": "ec86f8ae",
   "metadata": {
    "slideshow": {
     "slide_type": "slide"
    }
   },
   "outputs": [
    {
     "data": {
      "text/plain": [
       "12.0"
      ]
     },
     "execution_count": 59,
     "metadata": {},
     "output_type": "execute_result"
    }
   ],
   "source": [
    "6*4/2"
   ]
  },
  {
   "cell_type": "markdown",
   "id": "65e9632c",
   "metadata": {
    "slideshow": {
     "slide_type": "slide"
    }
   },
   "source": [
    "En el siguiente ejemplo es importante el uso de paréntesos para obligar a cambiar el orden de evaluación. "
   ]
  },
  {
   "cell_type": "code",
   "execution_count": 53,
   "id": "d8461bb5",
   "metadata": {
    "slideshow": {
     "slide_type": "slide"
    }
   },
   "outputs": [
    {
     "data": {
      "text/plain": [
       "7"
      ]
     },
     "execution_count": 53,
     "metadata": {},
     "output_type": "execute_result"
    }
   ],
   "source": [
    "1+2*3 "
   ]
  },
  {
   "cell_type": "markdown",
   "id": "2cc81d1c",
   "metadata": {
    "slideshow": {
     "slide_type": "slide"
    }
   },
   "source": [
    "## 2.8. Las operaciones sobre cadenas"
   ]
  },
  {
   "cell_type": "markdown",
   "id": "bc001823",
   "metadata": {
    "slideshow": {
     "slide_type": "slide"
    }
   },
   "source": [
    "En general no es posible realizar operaciones matemáticas con cadenas, incluso si las cadenas parecen números. "
   ]
  },
  {
   "cell_type": "markdown",
   "id": "f00e3a4b",
   "metadata": {
    "slideshow": {
     "slide_type": "slide"
    }
   },
   "source": [
    "Las siguientes sentencias son ilegales (suponiendo que mensaje sea de tipo string) mensaje-1 \"Hola\"/123 mensaje*\"Hola\" \"15\"+2"
   ]
  },
  {
   "cell_type": "markdown",
   "id": "325f524b",
   "metadata": {
    "slideshow": {
     "slide_type": "slide"
    }
   },
   "source": [
    "Es curioso que el operador `+` funcione con cadenas, aunque no haga exactamente lo que usted esperaría. "
   ]
  },
  {
   "cell_type": "markdown",
   "id": "2cf7ca92",
   "metadata": {
    "slideshow": {
     "slide_type": "slide"
    }
   },
   "source": [
    "Para cadenas, el operador `+` representa la concatenación, lo que significa que se unen los dos operandos uniéndolos extremo con extremo. Por ejemplo:"
   ]
  },
  {
   "cell_type": "code",
   "execution_count": 58,
   "id": "86e18a71",
   "metadata": {
    "slideshow": {
     "slide_type": "slide"
    }
   },
   "outputs": [
    {
     "name": "stdout",
     "output_type": "stream",
     "text": [
      "plátano pan de leche\n"
     ]
    }
   ],
   "source": [
    "fruta = \"plátano\"\n",
    "bizcochoBueno = \" pan de leche\"\n",
    "print(fruta + bizcochoBueno) "
   ]
  },
  {
   "cell_type": "markdown",
   "id": "18c93057",
   "metadata": {
    "slideshow": {
     "slide_type": "slide"
    }
   },
   "source": [
    "La salida del programa es plátano pan de leche. "
   ]
  },
  {
   "cell_type": "markdown",
   "id": "9f8a8f90",
   "metadata": {
    "slideshow": {
     "slide_type": "slide"
    }
   },
   "source": [
    "El espacio delante de pan es parte de la cadena, y es necesario para introducir el espacio que separa las cadenas concatenadas."
   ]
  },
  {
   "cell_type": "markdown",
   "id": "936095c0",
   "metadata": {
    "slideshow": {
     "slide_type": "slide"
    }
   },
   "source": [
    "El operador `*` también funciona con cadenas; lleva a cabo la repetición. "
   ]
  },
  {
   "cell_type": "markdown",
   "id": "a6986fd2",
   "metadata": {
    "slideshow": {
     "slide_type": "slide"
    }
   },
   "source": [
    "Por ejemplo ’Chiste’*3 es ’ChisteChisteChiste’. "
   ]
  },
  {
   "cell_type": "code",
   "execution_count": 55,
   "id": "9130a442",
   "metadata": {
    "slideshow": {
     "slide_type": "slide"
    }
   },
   "outputs": [
    {
     "data": {
      "text/plain": [
       "'chiste chiste chiste '"
      ]
     },
     "execution_count": 55,
     "metadata": {},
     "output_type": "execute_result"
    }
   ],
   "source": [
    "'chiste '*3"
   ]
  },
  {
   "cell_type": "markdown",
   "id": "8e22507e",
   "metadata": {
    "slideshow": {
     "slide_type": "slide"
    }
   },
   "source": [
    "Uno de los operandos ha de ser una cadena, el otro ha de ser un entero."
   ]
  },
  {
   "cell_type": "markdown",
   "id": "a32cfabe",
   "metadata": {
    "slideshow": {
     "slide_type": "slide"
    }
   },
   "source": [
    "Por un lado, esta interpretación de `+` y `*` cobra sentido por analogía con la suma y la multimplicación. "
   ]
  },
  {
   "cell_type": "markdown",
   "id": "f833e28c",
   "metadata": {
    "slideshow": {
     "slide_type": "slide"
    }
   },
   "source": [
    "Igual que 4*3 es equivalente a 4+4+4, esperamos que ’Chiste’*3 sea lo mismo que ’Chiste’+’Chiste’+’Chiste’, y así es. "
   ]
  },
  {
   "cell_type": "code",
   "execution_count": 56,
   "id": "3a17e94e",
   "metadata": {
    "slideshow": {
     "slide_type": "slide"
    }
   },
   "outputs": [
    {
     "data": {
      "text/plain": [
       "True"
      ]
     },
     "execution_count": 56,
     "metadata": {},
     "output_type": "execute_result"
    }
   ],
   "source": [
    "'chiste' + 'chiste' + 'chiste' == 'chiste'*3"
   ]
  },
  {
   "cell_type": "markdown",
   "id": "7ca7413b",
   "metadata": {
    "slideshow": {
     "slide_type": "slide"
    }
   },
   "source": [
    "Por otro lado, la concatenación y la repetición son de alguna manera muy diferentes de la adición y la multiplicación de enteros. "
   ]
  },
  {
   "cell_type": "markdown",
   "id": "92bd79df",
   "metadata": {
    "slideshow": {
     "slide_type": "slide"
    }
   },
   "source": [
    "¿Puede encontrar una propiedad que tienen la suma y la multiplicación de enteros y que no tengan la concatenación y la repetición de cadenas?"
   ]
  },
  {
   "cell_type": "markdown",
   "id": "228316dd",
   "metadata": {
    "slideshow": {
     "slide_type": "slide"
    }
   },
   "source": [
    "## 2.9. Composición  "
   ]
  },
  {
   "cell_type": "markdown",
   "id": "44882ad3",
   "metadata": {
    "slideshow": {
     "slide_type": "slide"
    }
   },
   "source": [
    "Hasta ahora hemos examinado los elementos de un programa (variables, expre\u0002siones y sentencias) por separado, sin hablar de cómo combinarlos."
   ]
  },
  {
   "cell_type": "markdown",
   "id": "9838cb2d",
   "metadata": {
    "slideshow": {
     "slide_type": "slide"
    }
   },
   "source": [
    "Una de las características más útiles de los lenguajes de programación es su capacidad de tomar pequeños bloques de construcción y ensamblarlos. "
   ]
  },
  {
   "cell_type": "markdown",
   "id": "dc144494",
   "metadata": {
    "slideshow": {
     "slide_type": "slide"
    }
   },
   "source": [
    "Por ejemplo, sabemos c´omo sumar numeros ´ y cómo imprimirlos; resulta que podemos hacer las dos cosas a un tiempo:"
   ]
  },
  {
   "cell_type": "code",
   "execution_count": 57,
   "id": "ed863a04",
   "metadata": {
    "slideshow": {
     "slide_type": "slide"
    }
   },
   "outputs": [
    {
     "name": "stdout",
     "output_type": "stream",
     "text": [
      "20\n"
     ]
    }
   ],
   "source": [
    "print(17 + 3)"
   ]
  },
  {
   "cell_type": "markdown",
   "id": "09f40b81",
   "metadata": {
    "slideshow": {
     "slide_type": "slide"
    }
   },
   "source": [
    "En realidad, no debemos decir “al mismo tiempo”, puesto que en realidad la suma tiene que realizarse antes de la impresión, pero la cuestión es que cualquier expresión relacionada con números, cadenas y variables puede usarse dentro de una sentencia `print()`. "
   ]
  },
  {
   "cell_type": "markdown",
   "id": "dd8bba0e",
   "metadata": {
    "slideshow": {
     "slide_type": "slide"
    }
   },
   "source": [
    "Ya hemos visto un ejemplo de ello:  \n",
    "print \"Número de minutos desde la medianoche: \", hora*60+minuto"
   ]
  },
  {
   "cell_type": "markdown",
   "id": "6ee91d99",
   "metadata": {
    "slideshow": {
     "slide_type": "slide"
    }
   },
   "source": [
    "Y tambi´en puede poner expresiones arbitrarias en la parte derecha de una sen\u0002tencia de asignaci´on:\n",
    "porcentaje = (minuto * 100) / 60\n",
    "Esta capacidad puede no resultar muy sorprendente, pero ya veremos otros\n",
    "ejemplos donde la composici´on hace posible expresar c´alculos complejos con\n",
    "limpieza y brevedad.\n",
    "ATENCION: ´ Hay l´ımites al lugar donde pueden usarse ciertas expresiones. Por\n",
    "ejemplo, la parte izquierda de una sentencia de asignaci´on tiene que ser un\n",
    "nombre de variable, no una exrpresi´on. Por tanto es ilegal lo siguiente: minute+1\n",
    "= hour."
   ]
  },
  {
   "cell_type": "markdown",
   "id": "45cb813f",
   "metadata": {
    "slideshow": {
     "slide_type": "slide"
    }
   },
   "source": [
    "2.10. Los comentarios\n",
    "Conforme los programas van creciendo de tamano˜ y complic´andose, se vuelven\n",
    "m´as complicados de leer. Los lenguajes formales son densos y con frecuencia es\n",
    "dif´ıcil observar un trozo de c´odigo y averiguar lo que hace, o por qu´e lo hace.\n",
    "Por ello es una buena idea anadir ˜ notas a su programa que expliquen, en un\n",
    "lenguaje natural, qu´e hace el programa. Estas notas se llaman comentarios y\n",
    "se marcan con el s´ımbolo #:\n",
    "# calcula el porcentaje de la hora que ha pasado ya\n",
    "porcentaje = (minuto * 100) / 60\n",
    "En este caso, el comentario aparece en una l´ınea propia. Tambi´en puede poner\n",
    "comentarios al final de otras l´ıneas:\n",
    "porcentaje = (minuto * 100) / 60 # ojo: divisi´on de enteros\n",
    "Todo lo que va del # al final de la l´ınea se ignora (no tiene efecto sobre el\n",
    "programa). El mensaje est´a destinado al programador, o a futuros programa\u0002dores que podr´ıan tener que usar el c´odigo. En este caso avisa al lector sobre el\n",
    "sorprendente comportamiento de la divisi´on de enteros."
   ]
  },
  {
   "cell_type": "markdown",
   "id": "2056e531",
   "metadata": {
    "slideshow": {
     "slide_type": "slide"
    }
   },
   "source": [
    "## 2.11. Glosario"
   ]
  },
  {
   "cell_type": "markdown",
   "id": "299f0236",
   "metadata": {
    "slideshow": {
     "slide_type": "slide"
    }
   },
   "source": [
    "valor: un numero ´ o cadena (o cualquier otra cosa que se especifique poste\u0002riormente) que puede almacenarse en una variable o calcularse en una\n",
    "expresi´on"
   ]
  },
  {
   "cell_type": "markdown",
   "id": "609b2175",
   "metadata": {
    "slideshow": {
     "slide_type": "slide"
    }
   },
   "source": [
    "* tipo: un conjunto de valores. El tipo de un valor determina c´omo puede usarse en las expresiones. Hasta ahora, los tipos que hemos visto son enteros (tipo `int`), números de coma flotante (tipo float) y cadenas (tipo string)."
   ]
  },
  {
   "cell_type": "markdown",
   "id": "480df318",
   "metadata": {
    "slideshow": {
     "slide_type": "slide"
    }
   },
   "source": [
    "coma flotante: un formato para representar numeros ´ con decimales.\n",
    "variable: nombre que hace referencia a un valor.\n",
    "sentencia: es una porci´on de c´odigo que representa una orden o acci´on. Hasta\n",
    "ahora, las sentencias que hemos vistos son las asignaciones y las sentencias\n",
    "print.\n",
    "asignaci´on: sentencia que asigna un valor a una variable.\n",
    "diagrama de estado: representaci´on gr´afica de un conjunto de variables y de\n",
    "los valores a los que se refiere.\n",
    "palabra reservada: es una palabra clave que usa el compilador para analizar\n",
    "sint´acticamente los programas. No pueden usarse palabras reservadas, por\n",
    "ejemplo if, def y while como nombres de variables.\n",
    "operador: un s´ımbolo especial que representa un c´alculo sencillo, como la su\u0002ma, la multiplicaci´on o la concatenaci´on de cadenas.\n",
    "operando: uno de los valores sobre los que actua´ un operador.\n",
    "expresi´on: una combinaci´on de variables, operadores y valores. Dicha combi\u0002naci´on representa un unico ´ valor como resultado.\n",
    "evaluar: simplificar una expresi´on ejecutando las operaciones para entregar un\n",
    "valor unico. ´\n",
    "divisi´on de enteros: es una operaci´on que divide un entero entre otro y de\u0002vuelve un entero. La divisi´on de enteros devuelve s´olo el numero ´ entero\n",
    "de veces que el numerador es divisible por en denominador, y descarta el\n",
    "resto.\n",
    "reglas de precedencia: la serie de reglas que especifican el orden en el que\n",
    "las expresiones con mutiples ´ operadores han de evaluarse.\n",
    "concatenar: unir dos operandos extremo con extremo.\n",
    "composici´on: la capacidad de combinar expresiones sencillas y sentencias has\u0002ta crear sentencias y expresiones compuestas, con el fin de representar\n",
    "c´alculos complejos de forma concisa.\n",
    "comentario: un segmento de informaci´on en un programa, destinado a otros\n",
    "programadores (o cualquiera que lea el c´odigo fuente) y que no tiene efecto\n",
    "sobre la ejecuci´on del programa"
   ]
  },
  {
   "cell_type": "markdown",
   "id": "b795d9a2",
   "metadata": {
    "slideshow": {
     "slide_type": "slide"
    }
   },
   "source": [
    "# Capítulo 3\n",
    "## Funciones\n",
    "### 3.1. Llamadas a funciones"
   ]
  },
  {
   "cell_type": "markdown",
   "id": "5d9851f6",
   "metadata": {
    "slideshow": {
     "slide_type": "slide"
    }
   },
   "source": [
    "Ya hemos visto un ejemplo de una llamada a una función:"
   ]
  },
  {
   "cell_type": "code",
   "execution_count": 2,
   "id": "4a050549",
   "metadata": {
    "slideshow": {
     "slide_type": "slide"
    }
   },
   "outputs": [
    {
     "data": {
      "text/plain": [
       "str"
      ]
     },
     "execution_count": 2,
     "metadata": {},
     "output_type": "execute_result"
    }
   ],
   "source": [
    "type(\"32\")"
   ]
  },
  {
   "cell_type": "markdown",
   "id": "ed071b43",
   "metadata": {
    "slideshow": {
     "slide_type": "slide"
    }
   },
   "source": [
    "El nombre de la función es `type`, y muestra el tipo de un valor o de una variable."
   ]
  },
  {
   "cell_type": "markdown",
   "id": "f63f9cb0",
   "metadata": {
    "slideshow": {
     "slide_type": "slide"
    }
   },
   "source": [
    "El valor o variable, llamado el argumento de la funci´on, ha de estar encerrado entre par´entesis. Es habitual decir que una funci´on “toma” un argumento y “devuelve” un resultado. "
   ]
  },
  {
   "cell_type": "markdown",
   "id": "2d908625",
   "metadata": {
    "slideshow": {
     "slide_type": "slide"
    }
   },
   "source": [
    "El resultado se llama valor de retorno."
   ]
  },
  {
   "cell_type": "markdown",
   "id": "1b11b231",
   "metadata": {
    "slideshow": {
     "slide_type": "slide"
    }
   },
   "source": [
    "En lugar de imprimir el valor de retorno, podemos asignárselo a una variable."
   ]
  },
  {
   "cell_type": "code",
   "execution_count": 6,
   "id": "c89fca4f",
   "metadata": {
    "slideshow": {
     "slide_type": "slide"
    }
   },
   "outputs": [
    {
     "name": "stdout",
     "output_type": "stream",
     "text": [
      "<class 'str'>\n"
     ]
    }
   ],
   "source": [
    "cuadrado_de_dos = type(\"4\")\n",
    "print(cuadrado_de_dos)"
   ]
  },
  {
   "cell_type": "markdown",
   "id": "2f2e48d8",
   "metadata": {
    "slideshow": {
     "slide_type": "slide"
    }
   },
   "source": [
    "Otro ejemplo más: la función id toma como argumento un valor o una variable y devuelve un entero que actúa como identificador único de ese valor."
   ]
  },
  {
   "cell_type": "code",
   "execution_count": 4,
   "id": "8d5212f2",
   "metadata": {
    "slideshow": {
     "slide_type": "slide"
    }
   },
   "outputs": [
    {
     "data": {
      "text/plain": [
       "140706650138480"
      ]
     },
     "execution_count": 4,
     "metadata": {},
     "output_type": "execute_result"
    }
   ],
   "source": [
    "id(3)"
   ]
  },
  {
   "cell_type": "code",
   "execution_count": 5,
   "id": "d8938f3a",
   "metadata": {
    "slideshow": {
     "slide_type": "slide"
    }
   },
   "outputs": [
    {
     "data": {
      "text/plain": [
       "140706650138480"
      ]
     },
     "execution_count": 5,
     "metadata": {},
     "output_type": "execute_result"
    }
   ],
   "source": [
    "yanira = 3\n",
    "id(yanira)"
   ]
  },
  {
   "cell_type": "markdown",
   "id": "3cd96e6c",
   "metadata": {
    "slideshow": {
     "slide_type": "slide"
    }
   },
   "source": [
    "Cada valor tiene un id, que es un valor único relacionado con dónde se almacena en la memoria del computador. "
   ]
  },
  {
   "cell_type": "markdown",
   "id": "a1c82811",
   "metadata": {
    "slideshow": {
     "slide_type": "slide"
    }
   },
   "source": [
    "El `id` de una variable es el `id` del valor al que hace referencia"
   ]
  },
  {
   "cell_type": "markdown",
   "id": "d7439207",
   "metadata": {
    "slideshow": {
     "slide_type": "slide"
    }
   },
   "source": [
    "## 3.2. Conversión de tipos  "
   ]
  },
  {
   "cell_type": "markdown",
   "id": "45ab51c1",
   "metadata": {
    "slideshow": {
     "slide_type": "slide"
    }
   },
   "source": [
    "Python proporciona una colección de funciones internas que convierten valores de un tipo a otro. "
   ]
  },
  {
   "cell_type": "markdown",
   "id": "3eb68358",
   "metadata": {
    "slideshow": {
     "slide_type": "slide"
    }
   },
   "source": [
    "La función `int` toma un valor y lo convierte a un entero, si es posible, o da un error si no es posible."
   ]
  },
  {
   "cell_type": "code",
   "execution_count": 7,
   "id": "48a00c85",
   "metadata": {
    "slideshow": {
     "slide_type": "slide"
    }
   },
   "outputs": [
    {
     "data": {
      "text/plain": [
       "32"
      ]
     },
     "execution_count": 7,
     "metadata": {},
     "output_type": "execute_result"
    }
   ],
   "source": [
    "int(\"32\")"
   ]
  },
  {
   "cell_type": "code",
   "execution_count": 8,
   "id": "f8dda642",
   "metadata": {
    "slideshow": {
     "slide_type": "slide"
    }
   },
   "outputs": [
    {
     "ename": "ValueError",
     "evalue": "invalid literal for int() with base 10: 'Hola'",
     "output_type": "error",
     "traceback": [
      "\u001b[1;31m---------------------------------------------------------------------------\u001b[0m",
      "\u001b[1;31mValueError\u001b[0m                                Traceback (most recent call last)",
      "\u001b[1;32m<ipython-input-8-0cb08ffafe78>\u001b[0m in \u001b[0;36m<module>\u001b[1;34m\u001b[0m\n\u001b[1;32m----> 1\u001b[1;33m \u001b[0mint\u001b[0m\u001b[1;33m(\u001b[0m\u001b[1;34m\"Hola\"\u001b[0m\u001b[1;33m)\u001b[0m\u001b[1;33m\u001b[0m\u001b[1;33m\u001b[0m\u001b[0m\n\u001b[0m",
      "\u001b[1;31mValueError\u001b[0m: invalid literal for int() with base 10: 'Hola'"
     ]
    }
   ],
   "source": [
    "int(\"Hola\")"
   ]
  },
  {
   "cell_type": "markdown",
   "id": "2eb50c1a",
   "metadata": {
    "slideshow": {
     "slide_type": "slide"
    }
   },
   "source": [
    "`int` también convierte valores de coma flotante a enteros, pero recuerde que siempre redondea hacia abajo:"
   ]
  },
  {
   "cell_type": "code",
   "execution_count": 9,
   "id": "430322ec",
   "metadata": {
    "slideshow": {
     "slide_type": "slide"
    }
   },
   "outputs": [
    {
     "data": {
      "text/plain": [
       "3"
      ]
     },
     "execution_count": 9,
     "metadata": {},
     "output_type": "execute_result"
    }
   ],
   "source": [
    "int(3.99999)"
   ]
  },
  {
   "cell_type": "markdown",
   "id": "cb6af77e",
   "metadata": {
    "slideshow": {
     "slide_type": "slide"
    }
   },
   "source": [
    "La funci´on float que convierte enteros y cadenas en numeros ´ en coma flotante:"
   ]
  },
  {
   "cell_type": "code",
   "execution_count": 10,
   "id": "a21d6cea",
   "metadata": {
    "slideshow": {
     "slide_type": "slide"
    }
   },
   "outputs": [
    {
     "data": {
      "text/plain": [
       "32.0"
      ]
     },
     "execution_count": 10,
     "metadata": {},
     "output_type": "execute_result"
    }
   ],
   "source": [
    "float(32)"
   ]
  },
  {
   "cell_type": "code",
   "execution_count": 11,
   "id": "22f268df",
   "metadata": {
    "slideshow": {
     "slide_type": "slide"
    }
   },
   "outputs": [
    {
     "data": {
      "text/plain": [
       "3.14159"
      ]
     },
     "execution_count": 11,
     "metadata": {},
     "output_type": "execute_result"
    }
   ],
   "source": [
    "float(\"3.14159\")"
   ]
  },
  {
   "cell_type": "markdown",
   "id": "136a62e0",
   "metadata": {
    "slideshow": {
     "slide_type": "slide"
    }
   },
   "source": [
    "Finalmente, está la función `str`, que convierte a tipo string:"
   ]
  },
  {
   "cell_type": "code",
   "execution_count": 12,
   "id": "ebae0bbc",
   "metadata": {
    "slideshow": {
     "slide_type": "slide"
    }
   },
   "outputs": [
    {
     "data": {
      "text/plain": [
       "'32'"
      ]
     },
     "execution_count": 12,
     "metadata": {},
     "output_type": "execute_result"
    }
   ],
   "source": [
    "str(32)"
   ]
  },
  {
   "cell_type": "code",
   "execution_count": 13,
   "id": "9f97e8d3",
   "metadata": {
    "slideshow": {
     "slide_type": "slide"
    }
   },
   "outputs": [
    {
     "data": {
      "text/plain": [
       "'3.14149'"
      ]
     },
     "execution_count": 13,
     "metadata": {},
     "output_type": "execute_result"
    }
   ],
   "source": [
    "str(3.14149)"
   ]
  },
  {
   "cell_type": "markdown",
   "id": "af67a651",
   "metadata": {
    "slideshow": {
     "slide_type": "slide"
    }
   },
   "source": [
    "Pudiera parecer extraño que Python distinga entre el valor entero 1 y el valor de coma flotante 1.0. "
   ]
  },
  {
   "cell_type": "markdown",
   "id": "227bd4ad",
   "metadata": {
    "slideshow": {
     "slide_type": "slide"
    }
   },
   "source": [
    "Tal vez representen el mismo número, pero pertenecen a tipos distintos. El motivo es que se representan de forma distinta dentro del computador."
   ]
  },
  {
   "cell_type": "markdown",
   "id": "24840a9d",
   "metadata": {
    "slideshow": {
     "slide_type": "slide"
    }
   },
   "source": [
    "## 3.3. Coerción de tipos"
   ]
  },
  {
   "cell_type": "code",
   "execution_count": 14,
   "id": "c5720e88",
   "metadata": {
    "slideshow": {
     "slide_type": "slide"
    }
   },
   "outputs": [
    {
     "data": {
      "text/plain": [
       "0.9833333333333333"
      ]
     },
     "execution_count": 14,
     "metadata": {},
     "output_type": "execute_result"
    }
   ],
   "source": [
    "minuto = 59\n",
    "float(minuto)/60.0"
   ]
  },
  {
   "cell_type": "markdown",
   "id": "93518bb6",
   "metadata": {
    "slideshow": {
     "slide_type": "slide"
    }
   },
   "source": [
    "O bien podemos sacar provecho de las reglas de la conversión automática de tipos, llamada coerción de tipos. "
   ]
  },
  {
   "cell_type": "markdown",
   "id": "3e06d52a",
   "metadata": {
    "slideshow": {
     "slide_type": "slide"
    }
   },
   "source": [
    "Para los operadores matemáticos, si uno de los operandos matemáticos es tipo `float`, el otro se convierte automáticamente\n",
    "en `float`."
   ]
  },
  {
   "cell_type": "code",
   "execution_count": 15,
   "id": "8c971634",
   "metadata": {
    "slideshow": {
     "slide_type": "slide"
    }
   },
   "outputs": [
    {
     "data": {
      "text/plain": [
       "0.9833333333333333"
      ]
     },
     "execution_count": 15,
     "metadata": {},
     "output_type": "execute_result"
    }
   ],
   "source": [
    "minuto = 59\n",
    "minuto / 60.0"
   ]
  },
  {
   "cell_type": "markdown",
   "id": "f0cc24a3",
   "metadata": {
    "slideshow": {
     "slide_type": "slide"
    }
   },
   "source": [
    "Al usar un denomidador que es `float`, obligamos a Python a hacer división de coma flotante."
   ]
  },
  {
   "cell_type": "markdown",
   "id": "2e280b43",
   "metadata": {
    "slideshow": {
     "slide_type": "slide"
    }
   },
   "source": [
    "## 3.4. Funciones matemáticas"
   ]
  },
  {
   "cell_type": "markdown",
   "id": "bbb46df7",
   "metadata": {
    "slideshow": {
     "slide_type": "slide"
    }
   },
   "source": [
    "Es posible que ya haya visto usted en matemáticas funciones como `sin` (seno) y `log`, y que haya aprendido a evaluar expresiones como `sin(pi/2)` y `log(1/x)`."
   ]
  },
  {
   "cell_type": "markdown",
   "id": "5106197a",
   "metadata": {
    "slideshow": {
     "slide_type": "slide"
    }
   },
   "source": [
    "Primero evalúa la expresión entre paréntesis, (el argumento). "
   ]
  },
  {
   "cell_type": "markdown",
   "id": "dd819ced",
   "metadata": {
    "slideshow": {
     "slide_type": "slide"
    }
   },
   "source": [
    "Por ejemplo, `pi/2` es aproximadamente $1.571$, y `1/x` es $0.1$ (si $x$ es igual a $10.0$)."
   ]
  },
  {
   "cell_type": "markdown",
   "id": "829c2f18",
   "metadata": {
    "slideshow": {
     "slide_type": "slide"
    }
   },
   "source": [
    "Luego evalúa la función en sí misma, bien mirándola en una tabla, bien llevando a cabo diversos cálculos. "
   ]
  },
  {
   "cell_type": "markdown",
   "id": "2ec3abc6",
   "metadata": {
    "slideshow": {
     "slide_type": "slide"
    }
   },
   "source": [
    "El sin (seno) de 1.571 es 1, y el log de 0.1 es -1 (suponiendo que log indique el logaritmo de base 10)."
   ]
  },
  {
   "cell_type": "markdown",
   "id": "3234d24c",
   "metadata": {
    "slideshow": {
     "slide_type": "slide"
    }
   },
   "source": [
    "Este proceso puede aplicarse repetidamente para evaluar expresiones más complicadas como `log(1/sin(pi/2))`. "
   ]
  },
  {
   "cell_type": "markdown",
   "id": "d63dd80a",
   "metadata": {
    "slideshow": {
     "slide_type": "slide"
    }
   },
   "source": [
    "Primero evaluamos el argumento de la función más interna, luego se evaúa la función, y así sucesivamente."
   ]
  },
  {
   "cell_type": "markdown",
   "id": "a24496da",
   "metadata": {
    "slideshow": {
     "slide_type": "slide"
    }
   },
   "source": [
    "Python dispone de un módulo matemático que proporciona la mayoría de las funciones matemáticas habituales. "
   ]
  },
  {
   "cell_type": "markdown",
   "id": "29ab5e1b",
   "metadata": {
    "slideshow": {
     "slide_type": "slide"
    }
   },
   "source": [
    "Un módulo es un archivo que contiene una colección de funciones agrupadas juntas."
   ]
  },
  {
   "cell_type": "markdown",
   "id": "ccfd1506",
   "metadata": {
    "slideshow": {
     "slide_type": "slide"
    }
   },
   "source": [
    "Antes de poder usar las funciones de un módulo, tenemos que importarlo:"
   ]
  },
  {
   "cell_type": "code",
   "execution_count": 16,
   "id": "9eccc3fc",
   "metadata": {
    "slideshow": {
     "slide_type": "slide"
    }
   },
   "outputs": [],
   "source": [
    "import math"
   ]
  },
  {
   "cell_type": "markdown",
   "id": "c4b1542f",
   "metadata": {
    "slideshow": {
     "slide_type": "slide"
    }
   },
   "source": [
    "Para llamar a una de las funciones, tenemos que especificar el nombre del módulo y el nombre de la función, separados por un punto. "
   ]
  },
  {
   "cell_type": "markdown",
   "id": "53deb965",
   "metadata": {
    "slideshow": {
     "slide_type": "slide"
    }
   },
   "source": [
    "A esto se le llama notación de punto:"
   ]
  },
  {
   "cell_type": "code",
   "execution_count": 18,
   "id": "122e5585",
   "metadata": {
    "slideshow": {
     "slide_type": "slide"
    }
   },
   "outputs": [],
   "source": [
    "decibelio = math.log10(17.0)\n",
    "angulo = 1.5\n",
    "altura = math.sin(angulo)"
   ]
  },
  {
   "cell_type": "markdown",
   "id": "363ecc86",
   "metadata": {
    "slideshow": {
     "slide_type": "slide"
    }
   },
   "source": [
    "La primera sentencia da a `decibelio` el valor del logaritmo de 17, en base 10."
   ]
  },
  {
   "cell_type": "markdown",
   "id": "331c0f6c",
   "metadata": {
    "slideshow": {
     "slide_type": "slide"
    }
   },
   "source": [
    "Hay también una función llamada `log` que toma logaritmos en base `e`."
   ]
  },
  {
   "cell_type": "markdown",
   "id": "536373cd",
   "metadata": {
    "slideshow": {
     "slide_type": "slide"
    }
   },
   "source": [
    "La tercera sentencia halla el seno del valor de la variable angulo. sin y las otras funciones trigonom´etricas (cos, tan, etc.) toman sus argumentos en radianes."
   ]
  },
  {
   "cell_type": "markdown",
   "id": "e35790c9",
   "metadata": {
    "slideshow": {
     "slide_type": "slide"
    }
   },
   "source": [
    "Para convertir de grados a radianes, puede dividir por 360 y multiplicar por 2*pi. "
   ]
  },
  {
   "cell_type": "markdown",
   "id": "31e01f3a",
   "metadata": {
    "slideshow": {
     "slide_type": "slide"
    }
   },
   "source": [
    "Por ejemplo, para hallar el seno de 45 grados, calcule primero el ángulo en radianes y luego halle el seno:"
   ]
  },
  {
   "cell_type": "code",
   "execution_count": null,
   "id": "5cbf31a9",
   "metadata": {
    "slideshow": {
     "slide_type": "slide"
    }
   },
   "outputs": [],
   "source": [
    "grados = 45\n",
    "angulo = grados * 2 * math.pi / 360.0\n",
    "math.sin(angulo)"
   ]
  },
  {
   "cell_type": "markdown",
   "id": "aa1f8090",
   "metadata": {
    "slideshow": {
     "slide_type": "slide"
    }
   },
   "source": [
    "La constante `pi` también es parte del módulo `math`. "
   ]
  },
  {
   "cell_type": "markdown",
   "id": "8909545c",
   "metadata": {
    "slideshow": {
     "slide_type": "slide"
    }
   },
   "source": [
    "Si se sabe la geometría, puede verificar el resultado comparándolo con el de la raíz cuadrada de 2, dividida entre 2."
   ]
  },
  {
   "cell_type": "code",
   "execution_count": 19,
   "id": "b935860e",
   "metadata": {
    "slideshow": {
     "slide_type": "slide"
    }
   },
   "outputs": [
    {
     "data": {
      "text/plain": [
       "0.7071067811865476"
      ]
     },
     "execution_count": 19,
     "metadata": {},
     "output_type": "execute_result"
    }
   ],
   "source": [
    "math.sqrt(2)/2.0\n"
   ]
  },
  {
   "cell_type": "markdown",
   "id": "2f97e26d",
   "metadata": {
    "slideshow": {
     "slide_type": "slide"
    }
   },
   "source": [
    "## 3.5. Composición"
   ]
  },
  {
   "cell_type": "markdown",
   "id": "3da98894",
   "metadata": {
    "slideshow": {
     "slide_type": "slide"
    }
   },
   "source": [
    "Igual que con las funciones matem´aticas, las funciones de Python se pueden\n",
    "componer; eso quiere decir que se usa una expresi´on como parte de otra. Por\n",
    "ejemplo, puede usar cualquier expresi´on como argumento de una funci´on:\n",
    "x = math.cos(angulo + pi/2)\n",
    "Esta sentencia toma el valor de pi, lo divide entre dos y le anade ˜ el resultado\n",
    "al valor de angulo. La suma se pasa luego como argumento a la funci´on cos.\n",
    "Tambi´en puede tomar el resultado de una funci´on y pas´arselo como argumento\n",
    "a otra:\n",
    "x = math.exp(math.log(10.0))\n",
    "Esta sentencia encuentra el logaritmo en base e de 10 y luego eleva e a ese\n",
    "exponente. El resultado queda asignado a x"
   ]
  },
  {
   "cell_type": "code",
   "execution_count": null,
   "id": "e64ccf73",
   "metadata": {
    "slideshow": {
     "slide_type": "slide"
    }
   },
   "outputs": [],
   "source": []
  },
  {
   "cell_type": "code",
   "execution_count": null,
   "id": "89372d18",
   "metadata": {
    "slideshow": {
     "slide_type": "slide"
    }
   },
   "outputs": [],
   "source": []
  },
  {
   "cell_type": "code",
   "execution_count": null,
   "id": "6d4728ea",
   "metadata": {
    "slideshow": {
     "slide_type": "slide"
    }
   },
   "outputs": [],
   "source": []
  },
  {
   "cell_type": "code",
   "execution_count": null,
   "id": "44f3af7e",
   "metadata": {
    "slideshow": {
     "slide_type": "slide"
    }
   },
   "outputs": [],
   "source": []
  },
  {
   "cell_type": "code",
   "execution_count": null,
   "id": "804b5c9b",
   "metadata": {
    "slideshow": {
     "slide_type": "slide"
    }
   },
   "outputs": [],
   "source": []
  },
  {
   "cell_type": "code",
   "execution_count": null,
   "id": "e1348b50",
   "metadata": {
    "slideshow": {
     "slide_type": "slide"
    }
   },
   "outputs": [],
   "source": []
  },
  {
   "cell_type": "code",
   "execution_count": null,
   "id": "069bcb95",
   "metadata": {
    "slideshow": {
     "slide_type": "slide"
    }
   },
   "outputs": [],
   "source": []
  },
  {
   "cell_type": "code",
   "execution_count": null,
   "id": "c88a1960",
   "metadata": {
    "slideshow": {
     "slide_type": "slide"
    }
   },
   "outputs": [],
   "source": []
  },
  {
   "cell_type": "code",
   "execution_count": null,
   "id": "b2952ec4",
   "metadata": {
    "slideshow": {
     "slide_type": "slide"
    }
   },
   "outputs": [],
   "source": []
  }
 ],
 "metadata": {
  "celltoolbar": "Slideshow",
  "kernelspec": {
   "display_name": "Python 3",
   "language": "python",
   "name": "python3"
  },
  "language_info": {
   "codemirror_mode": {
    "name": "ipython",
    "version": 3
   },
   "file_extension": ".py",
   "mimetype": "text/x-python",
   "name": "python",
   "nbconvert_exporter": "python",
   "pygments_lexer": "ipython3",
   "version": "3.8.8"
  },
  "latex_envs": {
   "LaTeX_envs_menu_present": true,
   "autoclose": false,
   "autocomplete": false,
   "bibliofile": "biblio.bib",
   "cite_by": "apalike",
   "current_citInitial": 1,
   "eqLabelWithNumbers": true,
   "eqNumInitial": 1,
   "hotkeys": {
    "equation": "Ctrl-E",
    "itemize": "Ctrl-I"
   },
   "labels_anchors": false,
   "latex_user_defs": false,
   "report_style_numbering": false,
   "user_envs_cfg": false
  },
  "rise": {
   "enable_chalkboard": true,
   "theme": "sky",
   "transition": "sky"
  }
 },
 "nbformat": 4,
 "nbformat_minor": 5
}
