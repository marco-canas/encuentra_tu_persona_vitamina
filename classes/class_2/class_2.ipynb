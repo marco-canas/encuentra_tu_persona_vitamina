{
 "cells": [
  {
   "cell_type": "markdown",
   "id": "0a7aa13b",
   "metadata": {
    "slideshow": {
     "slide_type": "slide"
    }
   },
   "source": [
    "<table align=\"left\">\n",
    "  <td>\n",
    "    <a href=\"https://colab.research.google.com/github/marco-canas/taca/blob/main/ref/geron/chap_2/5_prepare_for_algorithms/1_prepare_for_algorithms.ipynb\" target=\"_parent\"><img src=\"https://colab.research.google.com/assets/colab-badge.svg\" alt=\"Open In Colab\"/></a>\n",
    "  </td>\n",
    "  <td>\n",
    "    <a target=\"_blank\" href=\"https://kaggle.com/kernels/welcome?src=https://github.com/marco-canas/taca/blob/main/ref/geron/chap_2/5_prepare_for_algorithms/1_prepare_for_algorithms.ipynb\"><img src=\"https://kaggle.com/static/images/open-in-kaggle.svg\" /></a>\n",
    "  </td>\n",
    "</table>\n"
   ]
  },
  {
   "cell_type": "markdown",
   "id": "9dbe5cf7",
   "metadata": {
    "slideshow": {
     "slide_type": "slide"
    }
   },
   "source": [
    "# Clase 2 Introducción al Machine Learnig"
   ]
  },
  {
   "cell_type": "markdown",
   "id": "30e49929",
   "metadata": {
    "slideshow": {
     "slide_type": "slide"
    }
   },
   "source": [
    "### Programación en Python"
   ]
  },
  {
   "cell_type": "markdown",
   "id": "4f7f2f6a",
   "metadata": {
    "slideshow": {
     "slide_type": "slide"
    }
   },
   "source": [
    "* Varibales y tipos de datos, \n",
    "* estructuras de control, \n",
    "* funciones y\n",
    "* clases en Python. "
   ]
  },
  {
   "cell_type": "markdown",
   "id": "d12847f1",
   "metadata": {
    "slideshow": {
     "slide_type": "slide"
    }
   },
   "source": [
    "Preguntas:  \n",
    "\n",
    "* ¿Cómo crear, asignar, copiar y modificar variables?,   \n",
    "* ¿Qué es una sentencia condicional y cómo influye en la ejecución de sentencias iterativas?   \n",
    "* ¿Qué diferencias hay entre paradigma funcional y OOP (programación orientada a objetos)?"
   ]
  },
  {
   "cell_type": "markdown",
   "id": "b27fc750",
   "metadata": {
    "slideshow": {
     "slide_type": "slide"
    }
   },
   "source": [
    "## Variables, expresiones y sentencias\n"
   ]
  },
  {
   "cell_type": "markdown",
   "id": "56241d40",
   "metadata": {
    "slideshow": {
     "slide_type": "skip"
    }
   },
   "source": [
    "### [Video de apoyo sobre variables, expresiones y sentencias en Python]() "
   ]
  },
  {
   "cell_type": "markdown",
   "id": "4f4c390a",
   "metadata": {
    "slideshow": {
     "slide_type": "slide"
    }
   },
   "source": [
    "### 2.1. Valores y tipos"
   ]
  },
  {
   "cell_type": "markdown",
   "id": "71adeb5a",
   "metadata": {
    "slideshow": {
     "slide_type": "slide"
    }
   },
   "source": [
    "El valor es uno de los elementos fundamentales (como por ejemplo una letra o un numero) que manipula un programa. "
   ]
  },
  {
   "cell_type": "markdown",
   "id": "f193bc64",
   "metadata": {
    "slideshow": {
     "slide_type": "slide"
    }
   },
   "source": [
    "Los valores que hemos visto hasta el momento son 2, 3, 5, 13, 0, (el resultado de sumar algunos enteros) y algunas cadenas de caracteres."
   ]
  },
  {
   "cell_type": "markdown",
   "id": "475206ce",
   "metadata": {
    "slideshow": {
     "slide_type": "slide"
    }
   },
   "source": [
    "Estos valores son de distintos tipos: \n",
    "* 2 es un entero y \n",
    "* 'Hola, mundo' es una cadena, llamada así porque contiene una “cadena” de letras. \n",
    "\n",
    "Usted (y el intérprete) puede identificar las cadenas porque están encerradas entre comillas.\n",
    "La sentencia print también funciona con enteros:"
   ]
  },
  {
   "cell_type": "code",
   "execution_count": 1,
   "id": "6d414476",
   "metadata": {
    "slideshow": {
     "slide_type": "slide"
    }
   },
   "outputs": [
    {
     "name": "stdout",
     "output_type": "stream",
     "text": [
      "4\n"
     ]
    }
   ],
   "source": [
    "print(4)"
   ]
  },
  {
   "cell_type": "markdown",
   "id": "cceceaed",
   "metadata": {
    "slideshow": {
     "slide_type": "slide"
    }
   },
   "source": [
    "Si no está seguro del tipo que tiene un determinado valor, puede preguntárselo al intérprete de Python."
   ]
  },
  {
   "cell_type": "code",
   "execution_count": 2,
   "id": "3ec8e7fe",
   "metadata": {
    "slideshow": {
     "slide_type": "slide"
    }
   },
   "outputs": [
    {
     "data": {
      "text/plain": [
       "str"
      ]
     },
     "execution_count": 2,
     "metadata": {},
     "output_type": "execute_result"
    }
   ],
   "source": [
    "type(\"Hola, mundo\")"
   ]
  },
  {
   "cell_type": "markdown",
   "id": "9ff6f582",
   "metadata": {
    "slideshow": {
     "slide_type": "slide"
    }
   },
   "source": [
    "No es sorprendente que las cadenas sean de tipo string (cadena en inglés) y los enteros sean de tipo int (por integer en inglés). "
   ]
  },
  {
   "cell_type": "markdown",
   "id": "940d0796",
   "metadata": {
    "slideshow": {
     "slide_type": "slide"
    }
   },
   "source": [
    "De forma menos obvia, los números con decimales (separados por medio de un punto en inglés) son de tipo float debido a la representación de estos números en el formato llamado de coma flotante (floating-point)."
   ]
  },
  {
   "cell_type": "code",
   "execution_count": 3,
   "id": "497ea4de",
   "metadata": {
    "slideshow": {
     "slide_type": "slide"
    }
   },
   "outputs": [
    {
     "data": {
      "text/plain": [
       "float"
      ]
     },
     "execution_count": 3,
     "metadata": {},
     "output_type": "execute_result"
    }
   ],
   "source": [
    "type(3.2)\n"
   ]
  },
  {
   "cell_type": "markdown",
   "id": "45a916bf",
   "metadata": {
    "slideshow": {
     "slide_type": "slide"
    }
   },
   "source": [
    "¿Qué ocurre con los valores como `\"17\"` y `\"3.2\"`? "
   ]
  },
  {
   "cell_type": "markdown",
   "id": "ae6338c7",
   "metadata": {
    "slideshow": {
     "slide_type": "slide"
    }
   },
   "source": [
    "Parecen números, pero están entre comillas como las cadenas."
   ]
  },
  {
   "cell_type": "markdown",
   "id": "a4352864",
   "metadata": {
    "slideshow": {
     "slide_type": "slide"
    }
   },
   "source": [
    "Cuando escriba un entero largo, podría estar tentado de usar comas entre grupos de tres dígitos, como en 1,000,000. "
   ]
  },
  {
   "cell_type": "markdown",
   "id": "e3faf2d4",
   "metadata": {
    "slideshow": {
     "slide_type": "slide"
    }
   },
   "source": [
    "Éste no es un entero legal en Python, pero es una expresión legal:"
   ]
  },
  {
   "cell_type": "code",
   "execution_count": 1,
   "id": "41a00ba6",
   "metadata": {
    "slideshow": {
     "slide_type": "slide"
    }
   },
   "outputs": [
    {
     "name": "stdout",
     "output_type": "stream",
     "text": [
      "1 0 0\n"
     ]
    }
   ],
   "source": [
    "print(1,000,000) "
   ]
  },
  {
   "cell_type": "markdown",
   "id": "f5c88201",
   "metadata": {
    "slideshow": {
     "slide_type": "slide"
    }
   },
   "source": [
    "En fin, no era eso lo que quer´ıamos. Python interpreta 1,000,000 como una lista de tres numeros ´ que debe imprimir. As´ı que recuerde no insertar comas en sus enteros. 1\n"
   ]
  },
  {
   "cell_type": "code",
   "execution_count": 2,
   "id": "85036dea",
   "metadata": {
    "slideshow": {
     "slide_type": "slide"
    }
   },
   "outputs": [
    {
     "data": {
      "text/plain": [
       "1000000"
      ]
     },
     "execution_count": 2,
     "metadata": {},
     "output_type": "execute_result"
    }
   ],
   "source": [
    "1_000_000"
   ]
  },
  {
   "cell_type": "code",
   "execution_count": 3,
   "id": "0df741c9",
   "metadata": {
    "slideshow": {
     "slide_type": "slide"
    }
   },
   "outputs": [
    {
     "data": {
      "text/plain": [
       "1000000"
      ]
     },
     "execution_count": 3,
     "metadata": {},
     "output_type": "execute_result"
    }
   ],
   "source": [
    "1000000"
   ]
  },
  {
   "cell_type": "markdown",
   "id": "d4f7d197",
   "metadata": {
    "slideshow": {
     "slide_type": "slide"
    }
   },
   "source": [
    "## 2.2. Variables\n"
   ]
  },
  {
   "cell_type": "markdown",
   "id": "1ebb4ca5",
   "metadata": {
    "slideshow": {
     "slide_type": "slide"
    }
   },
   "source": [
    "Una de las características más potentes de los lenguajes de programación es la capacidad de manipular variables. "
   ]
  },
  {
   "cell_type": "markdown",
   "id": "e50f2048",
   "metadata": {
    "slideshow": {
     "slide_type": "slide"
    }
   },
   "source": [
    "Una variable es un nombre que hace referencia a un valor."
   ]
  },
  {
   "cell_type": "markdown",
   "id": "baee672a",
   "metadata": {
    "slideshow": {
     "slide_type": "slide"
    }
   },
   "source": [
    "La **sentencia de asignación** crea nuevas variables y les asigna un valor:"
   ]
  },
  {
   "cell_type": "code",
   "execution_count": 3,
   "id": "021be8b9",
   "metadata": {
    "slideshow": {
     "slide_type": "slide"
    }
   },
   "outputs": [],
   "source": [
    "mensaje = '¡Qué útil es el Machine Learning!'     # primera sentencia de asignación\n",
    "n = 13                                          # segunda sentencia de asignación\n",
    "pi = 3.14159                                    # tercera sentencia de asignación"
   ]
  },
  {
   "cell_type": "markdown",
   "id": "00c47916",
   "metadata": {
    "slideshow": {
     "slide_type": "slide"
    }
   },
   "source": [
    "Este ejemplo muestra tres asignaciones. "
   ]
  },
  {
   "cell_type": "markdown",
   "id": "417a4646",
   "metadata": {
    "slideshow": {
     "slide_type": "slide"
    }
   },
   "source": [
    "La primera de ellas asigna el valor 'que útil es el machine learning' a una variable nueva, de nombre mensaje. "
   ]
  },
  {
   "cell_type": "markdown",
   "id": "c10c3365",
   "metadata": {
    "slideshow": {
     "slide_type": "slide"
    }
   },
   "source": [
    "La segunda le da el valor entero 17 a $n$, y la tercera le da el valor de número en coma flotante 3.14159 a pi"
   ]
  },
  {
   "cell_type": "markdown",
   "id": "f4a64b29",
   "metadata": {
    "slideshow": {
     "slide_type": "slide"
    }
   },
   "source": [
    "Una forma habitual de representar variables sobre el papel es escribir el nombre con una flecha señalando al valor de la variable. "
   ]
  },
  {
   "cell_type": "markdown",
   "id": "9b38ecd1",
   "metadata": {
    "slideshow": {
     "slide_type": "slide"
    }
   },
   "source": [
    "Este tipo de representación se llama diagrama de estado, ya que muestra en qué estado se halla cada una de las variables (considérelo como el “estado de ánimo” de la variable”)."
   ]
  },
  {
   "cell_type": "markdown",
   "id": "23951724",
   "metadata": {
    "slideshow": {
     "slide_type": "slide"
    }
   },
   "source": [
    "El siguiente diagrama muestra el efecto de las tres sentencias de asignación anteriores:"
   ]
  },
  {
   "cell_type": "markdown",
   "id": "c0daed75",
   "metadata": {
    "slideshow": {
     "slide_type": "slide"
    }
   },
   "source": [
    "$$ \\text{mensaje} \\ \\ \\to\\  \\text{'que útil es el Machine Learning'} $$"
   ]
  },
  {
   "cell_type": "markdown",
   "id": "7e508011",
   "metadata": {
    "slideshow": {
     "slide_type": "slide"
    }
   },
   "source": [
    "La función `print()` tambi´en funciona con variables.\n"
   ]
  },
  {
   "cell_type": "code",
   "execution_count": 4,
   "id": "4ee4510c",
   "metadata": {
    "slideshow": {
     "slide_type": "slide"
    }
   },
   "outputs": [
    {
     "name": "stdout",
     "output_type": "stream",
     "text": [
      "¡Qué útil es el Machine Learning!\n",
      "13\n",
      "3.14159\n"
     ]
    }
   ],
   "source": [
    "print(mensaje)\n",
    "print(n)\n",
    "print(pi)"
   ]
  },
  {
   "cell_type": "markdown",
   "id": "8785ab55",
   "metadata": {
    "slideshow": {
     "slide_type": "slide"
    }
   },
   "source": [
    "En cada caso, el resultado es el valor de la variable. "
   ]
  },
  {
   "cell_type": "markdown",
   "id": "559b10c3",
   "metadata": {
    "slideshow": {
     "slide_type": "slide"
    }
   },
   "source": [
    "## Los tipos de variables "
   ]
  },
  {
   "cell_type": "markdown",
   "id": "3711cdda",
   "metadata": {
    "slideshow": {
     "slide_type": "slide"
    }
   },
   "source": [
    "Las variables también tienen tipo. "
   ]
  },
  {
   "cell_type": "markdown",
   "id": "66aa043e",
   "metadata": {
    "slideshow": {
     "slide_type": "slide"
    }
   },
   "source": [
    "De nuevo, podemos preguntar al intérprete lo que son."
   ]
  },
  {
   "cell_type": "code",
   "execution_count": 5,
   "id": "60058e1a",
   "metadata": {
    "slideshow": {
     "slide_type": "slide"
    }
   },
   "outputs": [
    {
     "data": {
      "text/plain": [
       "str"
      ]
     },
     "execution_count": 5,
     "metadata": {},
     "output_type": "execute_result"
    }
   ],
   "source": [
    "type(mensaje)"
   ]
  },
  {
   "cell_type": "code",
   "execution_count": 6,
   "id": "8571a134",
   "metadata": {
    "slideshow": {
     "slide_type": "slide"
    }
   },
   "outputs": [
    {
     "data": {
      "text/plain": [
       "int"
      ]
     },
     "execution_count": 6,
     "metadata": {},
     "output_type": "execute_result"
    }
   ],
   "source": [
    "type(n)"
   ]
  },
  {
   "cell_type": "code",
   "execution_count": 7,
   "id": "f6ffcec4",
   "metadata": {
    "slideshow": {
     "slide_type": "slide"
    }
   },
   "outputs": [
    {
     "data": {
      "text/plain": [
       "float"
      ]
     },
     "execution_count": 7,
     "metadata": {},
     "output_type": "execute_result"
    }
   ],
   "source": [
    "type(pi)\n"
   ]
  },
  {
   "cell_type": "markdown",
   "id": "e9dd3fed",
   "metadata": {
    "slideshow": {
     "slide_type": "slide"
    }
   },
   "source": [
    "El tipo de una variable es el tipo del valor al que se refiere."
   ]
  },
  {
   "cell_type": "markdown",
   "id": "112da7df",
   "metadata": {
    "slideshow": {
     "slide_type": "slide"
    }
   },
   "source": [
    "## 2.3. Nombres de variables y palabras reservadas  "
   ]
  },
  {
   "cell_type": "markdown",
   "id": "ac880755",
   "metadata": {
    "slideshow": {
     "slide_type": "slide"
    }
   },
   "source": [
    "Como norma general, los programadores eligen nombres significativos para sus variables: esto permite documentar para qué se usa la variable."
   ]
  },
  {
   "cell_type": "markdown",
   "id": "2d2a0488",
   "metadata": {
    "slideshow": {
     "slide_type": "slide"
    }
   },
   "source": [
    "Los nombres de las variables pueden tener una longitud arbitraria. "
   ]
  },
  {
   "cell_type": "markdown",
   "id": "04e2839d",
   "metadata": {
    "slideshow": {
     "slide_type": "slide"
    }
   },
   "source": [
    "Pueden estar formados por letras y números, pero deben comenzar con una letra. "
   ]
  },
  {
   "cell_type": "markdown",
   "id": "1824d198",
   "metadata": {
    "slideshow": {
     "slide_type": "slide"
    }
   },
   "source": [
    "Aunque es aceptable usar mayúsculas, por convención no lo hacemos. "
   ]
  },
  {
   "cell_type": "markdown",
   "id": "98bafdf7",
   "metadata": {
    "slideshow": {
     "slide_type": "slide"
    }
   },
   "source": [
    "Si lo hace, recuerde que la distinción es importante: `Bruno` y `bruno` son dos variables diferentes."
   ]
  },
  {
   "cell_type": "markdown",
   "id": "67d2c5f7",
   "metadata": {
    "slideshow": {
     "slide_type": "slide"
    }
   },
   "source": [
    "El guión bajo (`_`) también es legal y se utiliza a menudo para separar nombres con múltiples palabras, como mi nombre o precio del cafe colombiano."
   ]
  },
  {
   "cell_type": "markdown",
   "id": "d236635f",
   "metadata": {
    "slideshow": {
     "slide_type": "slide"
    }
   },
   "source": [
    "Si intenta darle a una variable un nombre ilegal, obtendrá un error de sintaxis."
   ]
  },
  {
   "cell_type": "code",
   "execution_count": 8,
   "id": "ba3e18ef",
   "metadata": {
    "slideshow": {
     "slide_type": "slide"
    }
   },
   "outputs": [
    {
     "ename": "SyntaxError",
     "evalue": "invalid syntax (<ipython-input-8-55ba304bea22>, line 1)",
     "output_type": "error",
     "traceback": [
      "\u001b[1;36m  File \u001b[1;32m\"<ipython-input-8-55ba304bea22>\"\u001b[1;36m, line \u001b[1;32m1\u001b[0m\n\u001b[1;33m    26students = \"gran desfile\"\u001b[0m\n\u001b[1;37m      ^\u001b[0m\n\u001b[1;31mSyntaxError\u001b[0m\u001b[1;31m:\u001b[0m invalid syntax\n"
     ]
    }
   ],
   "source": [
    "26students = \"gran desfile\""
   ]
  },
  {
   "cell_type": "code",
   "execution_count": 9,
   "id": "161368af",
   "metadata": {
    "slideshow": {
     "slide_type": "slide"
    }
   },
   "outputs": [
    {
     "ename": "SyntaxError",
     "evalue": "invalid syntax (<ipython-input-9-b03977ed68cd>, line 1)",
     "output_type": "error",
     "traceback": [
      "\u001b[1;36m  File \u001b[1;32m\"<ipython-input-9-b03977ed68cd>\"\u001b[1;36m, line \u001b[1;32m1\u001b[0m\n\u001b[1;33m    mas$ = 1000000\u001b[0m\n\u001b[1;37m       ^\u001b[0m\n\u001b[1;31mSyntaxError\u001b[0m\u001b[1;31m:\u001b[0m invalid syntax\n"
     ]
    }
   ],
   "source": [
    "mas$ = 1000000"
   ]
  },
  {
   "cell_type": "code",
   "execution_count": 10,
   "id": "42f8c33d",
   "metadata": {
    "slideshow": {
     "slide_type": "slide"
    }
   },
   "outputs": [
    {
     "ename": "SyntaxError",
     "evalue": "invalid syntax (<ipython-input-10-103b2fcb74a1>, line 1)",
     "output_type": "error",
     "traceback": [
      "\u001b[1;36m  File \u001b[1;32m\"<ipython-input-10-103b2fcb74a1>\"\u001b[1;36m, line \u001b[1;32m1\u001b[0m\n\u001b[1;33m    class = \"Introducción am Machine Learning\"\u001b[0m\n\u001b[1;37m          ^\u001b[0m\n\u001b[1;31mSyntaxError\u001b[0m\u001b[1;31m:\u001b[0m invalid syntax\n"
     ]
    }
   ],
   "source": [
    "class = \"Introducción am Machine Learning\"\n"
   ]
  },
  {
   "cell_type": "markdown",
   "id": "511aaf3b",
   "metadata": {
    "slideshow": {
     "slide_type": "slide"
    }
   },
   "source": [
    "76trombones es ilegal porque no comienza por una letra. mas$ es ilegal porque contiene un car´acter ilegal, el signo del d´olar. Pero ¿qu´e tiene de malo class?"
   ]
  },
  {
   "cell_type": "markdown",
   "id": "91e3ee1b",
   "metadata": {
    "slideshow": {
     "slide_type": "slide"
    }
   },
   "source": [
    "Resulta que class es una de las palabras reservadas de Python. "
   ]
  },
  {
   "cell_type": "markdown",
   "id": "af09e81c",
   "metadata": {
    "slideshow": {
     "slide_type": "slide"
    }
   },
   "source": [
    "El lenguaje usa las palabras reservadas para definir sus reglas y estructura, y no pueden usarse como nombres de variables."
   ]
  },
  {
   "cell_type": "markdown",
   "id": "4543e718",
   "metadata": {
    "slideshow": {
     "slide_type": "slide"
    }
   },
   "source": [
    "Python tiene 29 palabras reservadas:"
   ]
  },
  {
   "cell_type": "code",
   "execution_count": 17,
   "id": "c7933e09",
   "metadata": {
    "slideshow": {
     "slide_type": "slide"
    }
   },
   "outputs": [
    {
     "data": {
      "text/html": [
       "<div>\n",
       "<style scoped>\n",
       "    .dataframe tbody tr th:only-of-type {\n",
       "        vertical-align: middle;\n",
       "    }\n",
       "\n",
       "    .dataframe tbody tr th {\n",
       "        vertical-align: top;\n",
       "    }\n",
       "\n",
       "    .dataframe thead th {\n",
       "        text-align: right;\n",
       "    }\n",
       "</style>\n",
       "<table border=\"1\" class=\"dataframe\">\n",
       "  <thead>\n",
       "    <tr style=\"text-align: right;\">\n",
       "      <th></th>\n",
       "      <th>parabras reservadas de Python</th>\n",
       "    </tr>\n",
       "  </thead>\n",
       "  <tbody>\n",
       "    <tr>\n",
       "      <th>0</th>\n",
       "      <td>and</td>\n",
       "    </tr>\n",
       "    <tr>\n",
       "      <th>1</th>\n",
       "      <td>continue</td>\n",
       "    </tr>\n",
       "    <tr>\n",
       "      <th>2</th>\n",
       "      <td>else</td>\n",
       "    </tr>\n",
       "    <tr>\n",
       "      <th>3</th>\n",
       "      <td>for</td>\n",
       "    </tr>\n",
       "    <tr>\n",
       "      <th>4</th>\n",
       "      <td>import</td>\n",
       "    </tr>\n",
       "  </tbody>\n",
       "</table>\n",
       "</div>"
      ],
      "text/plain": [
       "  parabras reservadas de Python\n",
       "0                           and\n",
       "1                      continue\n",
       "2                          else\n",
       "3                           for\n",
       "4                        import"
      ]
     },
     "execution_count": 17,
     "metadata": {},
     "output_type": "execute_result"
    }
   ],
   "source": [
    "palabras_reservadas = ['and', 'continue', 'else', 'for', 'import', 'not', 'raise', 'assert', 'def', 'except', 'from',\n",
    "                       'in', 'or', 'return', 'break', 'del', 'exec', 'global', 'is', 'pass', 'try', 'class', 'elif',\n",
    "                       'finally', 'if', 'lambda', 'print', 'while', 'as']\n",
    "import numpy as np \n",
    "import pandas as pd \n",
    "\n",
    "df = pd.DataFrame({'parabras reservadas de Python':palabras_reservadas}, index = range(len(palabras_reservadas)))  \n",
    "df.head() "
   ]
  },
  {
   "cell_type": "markdown",
   "id": "b0e849c5",
   "metadata": {
    "slideshow": {
     "slide_type": "slide"
    }
   },
   "source": [
    "Tal vez quiera mantener esta lista a mano. "
   ]
  },
  {
   "cell_type": "markdown",
   "id": "4744f0b6",
   "metadata": {
    "slideshow": {
     "slide_type": "slide"
    }
   },
   "source": [
    "Si el intérprete se queja de alguno de sus nombres de variable, y usted no sabe por qué, compruebe si está en esta\n",
    "lista."
   ]
  },
  {
   "cell_type": "markdown",
   "id": "65eae11f",
   "metadata": {
    "slideshow": {
     "slide_type": "slide"
    }
   },
   "source": [
    "## 2.4. Sentencias"
   ]
  },
  {
   "cell_type": "markdown",
   "id": "39f0dd2a",
   "metadata": {
    "slideshow": {
     "slide_type": "slide"
    }
   },
   "source": [
    "Una sentencia es una instrucción que puede ejecutar el intérprete de Python."
   ]
  },
  {
   "cell_type": "markdown",
   "id": "546f2750",
   "metadata": {
    "slideshow": {
     "slide_type": "slide"
    }
   },
   "source": [
    "Hemos visto dos tipos de sentencias: `print()` y la asignaci´on (`=`)."
   ]
  },
  {
   "cell_type": "markdown",
   "id": "4f857911",
   "metadata": {
    "slideshow": {
     "slide_type": "slide"
    }
   },
   "source": [
    "Cuando usted escribe una sentencia en la línea de comandos, Python la ejecuta y muestra el resultado, si lo hay. "
   ]
  },
  {
   "cell_type": "markdown",
   "id": "3538841e",
   "metadata": {
    "slideshow": {
     "slide_type": "slide"
    }
   },
   "source": [
    "El resultado de una sentencia `print()` es un valor."
   ]
  },
  {
   "cell_type": "markdown",
   "id": "6b4189ab",
   "metadata": {
    "slideshow": {
     "slide_type": "slide"
    }
   },
   "source": [
    "Las sentencias de asignación no entregan ningún resultado."
   ]
  },
  {
   "cell_type": "markdown",
   "id": "8d31086c",
   "metadata": {
    "slideshow": {
     "slide_type": "slide"
    }
   },
   "source": [
    "Normalmente un guión contiene una secuencia de sentencias. "
   ]
  },
  {
   "cell_type": "markdown",
   "id": "5774dcd3",
   "metadata": {
    "slideshow": {
     "slide_type": "slide"
    }
   },
   "source": [
    "Si hay más de una sentencia, los resultados aparecen de uno en uno tal como se van ejecutando las\n",
    "sentencias."
   ]
  },
  {
   "cell_type": "markdown",
   "id": "ada191dc",
   "metadata": {
    "slideshow": {
     "slide_type": "slide"
    }
   },
   "source": [
    "Por ejemplo, el guión"
   ]
  },
  {
   "cell_type": "code",
   "execution_count": 19,
   "id": "2863c7e8",
   "metadata": {
    "slideshow": {
     "slide_type": "slide"
    }
   },
   "outputs": [
    {
     "name": "stdout",
     "output_type": "stream",
     "text": [
      "1\n",
      "2\n"
     ]
    }
   ],
   "source": [
    "print(1)\n",
    "x = 2\n",
    "print(x)"
   ]
  },
  {
   "cell_type": "markdown",
   "id": "6357cc65",
   "metadata": {
    "slideshow": {
     "slide_type": "slide"
    }
   },
   "source": [
    "De nuevo, la sentencia de asignación no produce ninguna salida."
   ]
  },
  {
   "cell_type": "code",
   "execution_count": null,
   "id": "a57ec85e",
   "metadata": {
    "slideshow": {
     "slide_type": "slide"
    }
   },
   "outputs": [],
   "source": []
  },
  {
   "cell_type": "code",
   "execution_count": null,
   "id": "6f148ae1",
   "metadata": {
    "slideshow": {
     "slide_type": "slide"
    }
   },
   "outputs": [],
   "source": []
  },
  {
   "cell_type": "code",
   "execution_count": null,
   "id": "2a024a9e",
   "metadata": {
    "slideshow": {
     "slide_type": "slide"
    }
   },
   "outputs": [],
   "source": []
  },
  {
   "cell_type": "code",
   "execution_count": null,
   "id": "fad76505",
   "metadata": {
    "slideshow": {
     "slide_type": "slide"
    }
   },
   "outputs": [],
   "source": []
  },
  {
   "cell_type": "code",
   "execution_count": null,
   "id": "6b8b4ad1",
   "metadata": {
    "slideshow": {
     "slide_type": "slide"
    }
   },
   "outputs": [],
   "source": []
  },
  {
   "cell_type": "code",
   "execution_count": null,
   "id": "efd470a0",
   "metadata": {
    "slideshow": {
     "slide_type": "slide"
    }
   },
   "outputs": [],
   "source": []
  }
 ],
 "metadata": {
  "celltoolbar": "Slideshow",
  "kernelspec": {
   "display_name": "Python 3",
   "language": "python",
   "name": "python3"
  },
  "language_info": {
   "codemirror_mode": {
    "name": "ipython",
    "version": 3
   },
   "file_extension": ".py",
   "mimetype": "text/x-python",
   "name": "python",
   "nbconvert_exporter": "python",
   "pygments_lexer": "ipython3",
   "version": "3.8.8"
  },
  "latex_envs": {
   "LaTeX_envs_menu_present": true,
   "autoclose": false,
   "autocomplete": false,
   "bibliofile": "biblio.bib",
   "cite_by": "apalike",
   "current_citInitial": 1,
   "eqLabelWithNumbers": true,
   "eqNumInitial": 1,
   "hotkeys": {
    "equation": "Ctrl-E",
    "itemize": "Ctrl-I"
   },
   "labels_anchors": false,
   "latex_user_defs": false,
   "report_style_numbering": false,
   "user_envs_cfg": false
  },
  "rise": {
   "enable_chalkboard": true,
   "theme": "sky",
   "transition": "sky"
  }
 },
 "nbformat": 4,
 "nbformat_minor": 5
}
