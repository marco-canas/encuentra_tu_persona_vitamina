{
 "cells": [
  {
   "cell_type": "markdown",
   "id": "9ec5aecb",
   "metadata": {
    "slideshow": {
     "slide_type": "slide"
    }
   },
   "source": [
    "\n",
    "<table align=\"left\">\n",
    "  <td>\n",
    "    <a href=\"https://colab.research.google.com/github/marco-canas/taca/blob/main/ref/geron/chap_2/5_prepare_for_algorithms/1_prepare_for_algorithms.ipynb\" target=\"_parent\"><img src=\"https://colab.research.google.com/assets/colab-badge.svg\" alt=\"Open In Colab\"/></a>\n",
    "  </td>\n",
    "  <td>\n",
    "    <a target=\"_blank\" href=\"https://kaggle.com/kernels/welcome?src=https://github.com/marco-canas/taca/blob/main/ref/geron/chap_2/5_prepare_for_algorithms/1_prepare_for_algorithms.ipynb\"><img src=\"https://kaggle.com/static/images/open-in-kaggle.svg\" /></a>\n",
    "  </td>\n",
    "</table> \n"
   ]
  },
  {
   "cell_type": "markdown",
   "id": "1f4c3190",
   "metadata": {
    "slideshow": {
     "slide_type": "slide"
    }
   },
   "source": [
    "# Clase 8"
   ]
  },
  {
   "cell_type": "code",
   "execution_count": null,
   "id": "27507650",
   "metadata": {
    "slideshow": {
     "slide_type": "slide"
    }
   },
   "outputs": [],
   "source": [
    "import numpy as np \n",
    "import pandas as pd \n",
    "grupo_intro_ml = pd.read_csv('grupo_intro_ml.csv', sep = ',')   \n",
    "\n",
    "from random import randint,choice \n",
    "\n",
    "np.random.seed(513)\n",
    "\n",
    "lista = list(range(1,27)) \n",
    "\n",
    "lista_tema_asignado = []\n",
    "\n",
    "for i in range(1,27):\n",
    "    a = choice(lista)\n",
    "    lista_tema_asignado.append(a)\n",
    "    lista.remove(a)\n",
    "\n",
    "grupo_intro_ml['Asignación Quiz 1'] = lista_tema_asignado\n",
    "\n",
    "grupo_intro_ml"
   ]
  },
  {
   "cell_type": "markdown",
   "id": "5ae84604",
   "metadata": {
    "slideshow": {
     "slide_type": "slide"
    }
   },
   "source": [
    "## [Numpy](https://numpy.org/doc/stable/user/whatisnumpy.html)"
   ]
  },
  {
   "cell_type": "markdown",
   "id": "17ec2e6b",
   "metadata": {
    "slideshow": {
     "slide_type": "slide"
    }
   },
   "source": [
    "### ¿Qué es NumPy?"
   ]
  },
  {
   "cell_type": "markdown",
   "id": "76b9dec1",
   "metadata": {
    "slideshow": {
     "slide_type": "slide"
    }
   },
   "source": [
    "NumPy es el paquete fundamental para la computación científica en Python. "
   ]
  },
  {
   "cell_type": "markdown",
   "id": "5f9151bc",
   "metadata": {
    "slideshow": {
     "slide_type": "slide"
    }
   },
   "source": [
    "Es una biblioteca de Python que proporciona:\n",
    "* un objeto de **matriz multidimensional**, \n",
    "* varios objetos derivados y \n",
    "* una variedad de rutinas para operaciones rápidas en matrices, que incluyen:\n",
    "  * matemáticas, \n",
    "  * lógicas, \n",
    "  * manipulación de formas, \n",
    "  * clasificación, \n",
    "  * selección, \n",
    "  * transformadas de Fourier, \n",
    "  * álgebra lineal básica, \n",
    "  * operaciones estadísticas básicas, s\n",
    "  * imulación aleatoria y mucho más."
   ]
  },
  {
   "cell_type": "markdown",
   "id": "fdac1115",
   "metadata": {
    "slideshow": {
     "slide_type": "slide"
    }
   },
   "source": [
    "En el núcleo del paquete NumPy, se encuentra el objeto **ndarray**. "
   ]
  },
  {
   "cell_type": "markdown",
   "id": "4c471bec",
   "metadata": {
    "slideshow": {
     "slide_type": "slide"
    }
   },
   "source": [
    "Esto encapsula matrices n-dimensionales de tipos de datos homogéneos, con muchas operaciones que se realizan en código compilado para el rendimiento. "
   ]
  },
  {
   "cell_type": "markdown",
   "id": "7baa11b2",
   "metadata": {
    "slideshow": {
     "slide_type": "slide"
    }
   },
   "source": [
    "Hay varias diferencias importantes entre las matrices NumPy y las secuencias estándar de Python:"
   ]
  },
  {
   "cell_type": "markdown",
   "id": "d4c115cc",
   "metadata": {
    "slideshow": {
     "slide_type": "slide"
    }
   },
   "source": [
    "* Las matrices NumPy tienen un tamaño fijo en la creación, \n",
    "* a diferencia de las listas de Python (que pueden crecer dinámicamente). "
   ]
  },
  {
   "cell_type": "markdown",
   "id": "ee846f21",
   "metadata": {
    "slideshow": {
     "slide_type": "slide"
    }
   },
   "source": [
    "Cambiar el tamaño de un ndarray creará una nueva matriz y eliminará la original."
   ]
  },
  {
   "cell_type": "markdown",
   "id": "02b95306",
   "metadata": {
    "slideshow": {
     "slide_type": "slide"
    }
   },
   "source": [
    "* Se requiere que todos los elementos de una matriz NumPy sean del mismo tipo de datos y, por lo tanto, tengan el mismo tamaño en memoria. "
   ]
  },
  {
   "cell_type": "markdown",
   "id": "3c719881",
   "metadata": {
    "slideshow": {
     "slide_type": "slide"
    }
   },
   "source": [
    "* Las matrices NumPy facilitan operaciones matemáticas avanzadas y otros tipos de operaciones en grandes cantidades de datos. Por lo general, tales operaciones se ejecutan de manera más eficiente y con menos código de lo que es posible utilizando las secuencias integradas de Python."
   ]
  },
  {
   "cell_type": "markdown",
   "id": "1485d5f9",
   "metadata": {
    "slideshow": {
     "slide_type": "slide"
    }
   },
   "source": [
    "* Una creciente plétora de paquetes científicos y matemáticos basados en Python están utilizando matrices NumPy; aunque estos suelen admitir la entrada de secuencia de Python, convierten dicha entrada en matrices NumPy antes del procesamiento y, a menudo, generan matrices NumPy. "
   ]
  },
  {
   "cell_type": "markdown",
   "id": "832e2777",
   "metadata": {
    "slideshow": {
     "slide_type": "slide"
    }
   },
   "source": [
    "para usar de manera eficiente gran parte del software científico/matemático basado en Python de hoy, uno necesita saber cómo usar matrices NumPy."
   ]
  },
  {
   "cell_type": "markdown",
   "id": "3705ad84",
   "metadata": {
    "slideshow": {
     "slide_type": "slide"
    }
   },
   "source": [
    "Los puntos sobre:  \n",
    "\n",
    "* el tamaño y \n",
    "* la velocidad de la secuencia \n",
    "\n",
    "son particularmente importantes en la computación científica. "
   ]
  },
  {
   "cell_type": "markdown",
   "id": "6b1c4cda",
   "metadata": {
    "slideshow": {
     "slide_type": "slide"
    }
   },
   "source": [
    "Como ejemplo simple, considere el caso de multiplicar cada elemento en una secuencia 1-D con el elemento correspondiente en otra secuencia de la misma longitud. "
   ]
  },
  {
   "cell_type": "markdown",
   "id": "857bfc5c",
   "metadata": {
    "slideshow": {
     "slide_type": "slide"
    }
   },
   "source": [
    "Si los datos se almacenan en dos listas de Python, y , podríamos iterar sobre cada elemento:`ab`"
   ]
  },
  {
   "cell_type": "code",
   "execution_count": null,
   "id": "d5c66183",
   "metadata": {
    "slideshow": {
     "slide_type": "slide"
    }
   },
   "outputs": [],
   "source": [
    "%%time\n",
    "n = 10_000_000\n",
    "a = list(range(n))\n",
    "b = a\n",
    "c = []\n",
    "for i in range(len(a)):\n",
    "    c.append(a[i]*b[i])\n",
    "    "
   ]
  },
  {
   "cell_type": "code",
   "execution_count": null,
   "id": "ff5848b1",
   "metadata": {
    "slideshow": {
     "slide_type": "slide"
    }
   },
   "outputs": [],
   "source": [
    "c[:5]"
   ]
  },
  {
   "cell_type": "code",
   "execution_count": null,
   "id": "c6f9ff93",
   "metadata": {
    "slideshow": {
     "slide_type": "slide"
    }
   },
   "outputs": [],
   "source": [
    "%%time\n",
    "n = 10_000_000\n",
    "import numpy as np\n",
    "d=np.arange(n)\n",
    "e = d\n",
    "f = d*e"
   ]
  },
  {
   "cell_type": "code",
   "execution_count": null,
   "id": "11571246",
   "metadata": {
    "slideshow": {
     "slide_type": "slide"
    }
   },
   "outputs": [],
   "source": [
    "f[:5]"
   ]
  },
  {
   "cell_type": "markdown",
   "id": "eb188362",
   "metadata": {
    "slideshow": {
     "slide_type": "slide"
    }
   },
   "source": [
    "si y cada uno contiene millones de números, pagaremos el precio por las ineficiencias de los bucles en Python. "
   ]
  },
  {
   "cell_type": "markdown",
   "id": "1d133c29",
   "metadata": {
    "slideshow": {
     "slide_type": "slide"
    }
   },
   "source": [
    "Podríamos realizar la misma tarea mucho más rápidamente en C escribiendo (para mayor claridad descuidamos las declaraciones e inicializaciones de variables, la asignación de memoria, etc.)`ab`"
   ]
  },
  {
   "cell_type": "markdown",
   "id": "83037e35",
   "metadata": {
    "slideshow": {
     "slide_type": "slide"
    }
   },
   "source": [
    "## ¿Por qué NumPy es rápido?"
   ]
  },
  {
   "cell_type": "markdown",
   "id": "41b9a388",
   "metadata": {
    "slideshow": {
     "slide_type": "slide"
    }
   },
   "source": [
    "La vectorización describe la ausencia de bucles explícitos, indexación, etc., en el código: estas cosas están teniendo lugar, por supuesto, solo \"detrás de escena\" en código C optimizado y precompilado. "
   ]
  },
  {
   "cell_type": "markdown",
   "id": "b503480a",
   "metadata": {
    "slideshow": {
     "slide_type": "slide"
    }
   },
   "source": [
    "El código vectorizado tiene muchas ventajas, entre las que se encuentran:"
   ]
  },
  {
   "cell_type": "markdown",
   "id": "b57ce0b2",
   "metadata": {
    "slideshow": {
     "slide_type": "slide"
    }
   },
   "source": [
    "* el código vectorizado es más conciso y más fácil de leer \n",
    "* menos líneas de código generalmente significa menos errores"
   ]
  },
  {
   "cell_type": "markdown",
   "id": "308ec869",
   "metadata": {
    "slideshow": {
     "slide_type": "slide"
    }
   },
   "source": [
    "* el código se asemeja más a la notación matemática estándar (lo que facilita, normalmente, codificar correctamente las construcciones matemáticas)"
   ]
  },
  {
   "cell_type": "markdown",
   "id": "1b35ee6b",
   "metadata": {
    "slideshow": {
     "slide_type": "slide"
    }
   },
   "source": [
    "la vectorización da como resultado más código \"Pythonic\". Sin vectorización, nuestro código estaría lleno de bucles ineficientes y difíciles de leer."
   ]
  },
  {
   "cell_type": "markdown",
   "id": "d5c1bc0e",
   "metadata": {
    "slideshow": {
     "slide_type": "slide"
    }
   },
   "source": [
    "## ¿Quién más usa NumPy?"
   ]
  },
  {
   "cell_type": "markdown",
   "id": "b9b5cbab",
   "metadata": {
    "slideshow": {
     "slide_type": "slide"
    }
   },
   "source": [
    "NumPy es totalmente compatible con un enfoque orientado a objetos, comenzando, una vez más, con los **ndarray**. "
   ]
  },
  {
   "cell_type": "markdown",
   "id": "ace43cf1",
   "metadata": {
    "slideshow": {
     "slide_type": "slide"
    }
   },
   "source": [
    "Por ejemplo, ndarray es una clase, que posee numerosos métodos y atributos. "
   ]
  },
  {
   "cell_type": "markdown",
   "id": "6548307b",
   "metadata": {
    "slideshow": {
     "slide_type": "slide"
    }
   },
   "source": [
    "Muchos de sus métodos se reflejan en funciones en el espacio de nombres NumPy más externo, lo que permite al programador codificar en el paradigma que prefiera. "
   ]
  },
  {
   "cell_type": "markdown",
   "id": "eb72b809",
   "metadata": {
    "slideshow": {
     "slide_type": "slide"
    }
   },
   "source": [
    "Esta flexibilidad ha permitido que el dialecto de matriz NumPy y la clase NumPy ndarray se conviertan en el lenguaje de facto de intercambio de datos multidimensional utilizado en Python."
   ]
  },
  {
   "cell_type": "markdown",
   "id": "7f298bd4",
   "metadata": {
    "slideshow": {
     "slide_type": "slide"
    }
   },
   "source": [
    "### Objetivos de aprendizaje"
   ]
  },
  {
   "cell_type": "markdown",
   "id": "c5e46066",
   "metadata": {
    "slideshow": {
     "slide_type": "slide"
    }
   },
   "source": [
    "* Comprender la diferencia entre matrices de una, dos y n dimensiones en NumPy;"
   ]
  },
  {
   "cell_type": "markdown",
   "id": "aaea842c",
   "metadata": {
    "slideshow": {
     "slide_type": "slide"
    }
   },
   "source": [
    "* Comprender cómo aplicar algunas operaciones de álgebra lineal a matrices n-dimensionales sin usar for-loops;"
   ]
  },
  {
   "cell_type": "markdown",
   "id": "3b001efe",
   "metadata": {
    "slideshow": {
     "slide_type": "slide"
    }
   },
   "source": [
    "* Comprender las propiedades de eje y forma de matrices n-dimensionales."
   ]
  },
  {
   "cell_type": "markdown",
   "id": "c0d126df",
   "metadata": {
    "slideshow": {
     "slide_type": "slide"
    }
   },
   "source": [
    "\n",
    "El objeto principal de NumPy es la matriz multidimensional homogénea. "
   ]
  },
  {
   "cell_type": "markdown",
   "id": "806b3808",
   "metadata": {
    "slideshow": {
     "slide_type": "slide"
    }
   },
   "source": [
    "Es una tabla de elementos (generalmente números), todos del mismo tipo, indexados por una tupla de enteros no negativos. "
   ]
  },
  {
   "cell_type": "markdown",
   "id": "aa2ffe19",
   "metadata": {
    "slideshow": {
     "slide_type": "slide"
    }
   },
   "source": [
    "* En NumPy las dimensiones se denominan ejes."
   ]
  },
  {
   "cell_type": "markdown",
   "id": "8ed809ba",
   "metadata": {
    "slideshow": {
     "slide_type": "slide"
    }
   },
   "source": [
    "Por ejemplo, las coordenadas de un punto en el espacio 3D tienen un eje. "
   ]
  },
  {
   "cell_type": "markdown",
   "id": "ee2a9d89",
   "metadata": {
    "slideshow": {
     "slide_type": "slide"
    }
   },
   "source": [
    "Ese eje tiene 3 elementos, por lo que decimos que tiene una longitud de 3. "
   ]
  },
  {
   "cell_type": "markdown",
   "id": "f29970e6",
   "metadata": {
    "slideshow": {
     "slide_type": "slide"
    }
   },
   "source": [
    "En el ejemplo que se muestra a continuación, la matriz tiene 2 ejes. "
   ]
  },
  {
   "cell_type": "markdown",
   "id": "317c02d0",
   "metadata": {
    "slideshow": {
     "slide_type": "slide"
    }
   },
   "source": [
    "El primer eje tiene una longitud de 2, el segundo eje tiene una longitud de 3."
   ]
  },
  {
   "cell_type": "code",
   "execution_count": null,
   "id": "62287631",
   "metadata": {
    "slideshow": {
     "slide_type": "slide"
    }
   },
   "outputs": [],
   "source": [
    "np.array([[1., 0., 0.],\n",
    " [0., 1., 2.]]) "
   ]
  },
  {
   "cell_type": "markdown",
   "id": "6f20e71b",
   "metadata": {
    "slideshow": {
     "slide_type": "slide"
    }
   },
   "source": [
    "La clase de matriz de NumPy se llama **ndarray**"
   ]
  },
  {
   "cell_type": "markdown",
   "id": "5830ab4b",
   "metadata": {
    "slideshow": {
     "slide_type": "slide"
    }
   },
   "source": [
    "También se le conoce por el alias **arraynumpy**"
   ]
  },
  {
   "cell_type": "markdown",
   "id": "44c8e7af",
   "metadata": {
    "slideshow": {
     "slide_type": "slide"
    }
   },
   "source": [
    "Tenga en cuenta que no es lo mismo que la clase Standard Python Library, que solo maneja matrices unidimensionales y ofrece menos funcionalidad. "
   ]
  },
  {
   "cell_type": "markdown",
   "id": "a2d6deae",
   "metadata": {
    "slideshow": {
     "slide_type": "slide"
    }
   },
   "source": [
    "Los atributos más importantes de un objeto son:  \n",
    "\n",
    "* `ndarray.ndim`: el número de ejes (dimensiones) de la matriz."
   ]
  },
  {
   "cell_type": "markdown",
   "id": "7f757ca5",
   "metadata": {
    "slideshow": {
     "slide_type": "slide"
    }
   },
   "source": [
    "* `ndarray.shape`: las dimensiones de la matriz. Esta es una tupla de enteros que indica el tamaño de la matriz en cada dimensión. \n",
    "\n",
    "Para una matriz con `n` filas y `m` columnas, será `.shape(n,m)` \n",
    "\n",
    "La longitud de la tupla es, por lo tanto, el número de ejes, "
   ]
  },
  {
   "cell_type": "markdown",
   "id": "505bcb69",
   "metadata": {
    "slideshow": {
     "slide_type": "slide"
    }
   },
   "source": [
    "`ndarray.size`: el número total de elementos de la matriz. Esto es igual al producto de los elementos de `ndarray.shape`"
   ]
  },
  {
   "cell_type": "markdown",
   "id": "1094a4b8",
   "metadata": {
    "slideshow": {
     "slide_type": "slide"
    }
   },
   "source": [
    "`ndarray.dtype`: un objeto que describe el tipo de elementos de la matriz. \n",
    "\n",
    "Uno puede crear o especificar dtype's usando tipos estándar de Python. \n"
   ]
  },
  {
   "cell_type": "markdown",
   "id": "d5946626",
   "metadata": {
    "slideshow": {
     "slide_type": "slide"
    }
   },
   "source": [
    "`ndarray.itemsize`: el tamaño en bytes de cada elemento de la matriz. \n",
    "\n"
   ]
  },
  {
   "cell_type": "code",
   "execution_count": 1,
   "id": "15d69e9c",
   "metadata": {
    "slideshow": {
     "slide_type": "slide"
    }
   },
   "outputs": [
    {
     "data": {
      "text/plain": [
       "4"
      ]
     },
     "execution_count": 1,
     "metadata": {},
     "output_type": "execute_result"
    }
   ],
   "source": [
    "import numpy as np \n",
    "A = np.array([[1.2,2],[3,4]], dtype= int)  \n",
    "A.itemsize "
   ]
  },
  {
   "cell_type": "code",
   "execution_count": null,
   "id": "3fe70ce3",
   "metadata": {
    "slideshow": {
     "slide_type": "slide"
    }
   },
   "outputs": [],
   "source": [
    "A[0,0]"
   ]
  },
  {
   "cell_type": "markdown",
   "id": "06b2aaaa",
   "metadata": {
    "slideshow": {
     "slide_type": "slide"
    }
   },
   "source": [
    "Un ejemplo"
   ]
  },
  {
   "cell_type": "code",
   "execution_count": 2,
   "id": "832f72e6",
   "metadata": {
    "slideshow": {
     "slide_type": "slide"
    }
   },
   "outputs": [
    {
     "data": {
      "text/plain": [
       "array([[ 0,  1,  2,  3,  4],\n",
       "       [ 5,  6,  7,  8,  9],\n",
       "       [10, 11, 12, 13, 14]])"
      ]
     },
     "execution_count": 2,
     "metadata": {},
     "output_type": "execute_result"
    }
   ],
   "source": [
    "import numpy as np\n",
    "a = np.arange(15).reshape(3, 5)\n",
    "a"
   ]
  },
  {
   "cell_type": "code",
   "execution_count": 3,
   "id": "880d00d3",
   "metadata": {
    "slideshow": {
     "slide_type": "slide"
    }
   },
   "outputs": [
    {
     "data": {
      "text/plain": [
       "(3, 5)"
      ]
     },
     "execution_count": 3,
     "metadata": {},
     "output_type": "execute_result"
    }
   ],
   "source": [
    "a.shape"
   ]
  },
  {
   "cell_type": "code",
   "execution_count": 4,
   "id": "b173672a",
   "metadata": {
    "slideshow": {
     "slide_type": "slide"
    }
   },
   "outputs": [
    {
     "data": {
      "text/plain": [
       "2"
      ]
     },
     "execution_count": 4,
     "metadata": {},
     "output_type": "execute_result"
    }
   ],
   "source": [
    "a.ndim"
   ]
  },
  {
   "cell_type": "code",
   "execution_count": 5,
   "id": "dabd0c97",
   "metadata": {
    "slideshow": {
     "slide_type": "slide"
    }
   },
   "outputs": [
    {
     "data": {
      "text/plain": [
       "'int32'"
      ]
     },
     "execution_count": 5,
     "metadata": {},
     "output_type": "execute_result"
    }
   ],
   "source": [
    "a.dtype.name"
   ]
  },
  {
   "cell_type": "code",
   "execution_count": 6,
   "id": "98700e2f",
   "metadata": {
    "slideshow": {
     "slide_type": "slide"
    }
   },
   "outputs": [
    {
     "data": {
      "text/plain": [
       "<function ndarray.item>"
      ]
     },
     "execution_count": 6,
     "metadata": {},
     "output_type": "execute_result"
    }
   ],
   "source": [
    "a.item "
   ]
  },
  {
   "cell_type": "code",
   "execution_count": 7,
   "id": "14124d29",
   "metadata": {
    "slideshow": {
     "slide_type": "slide"
    }
   },
   "outputs": [
    {
     "data": {
      "text/plain": [
       "4"
      ]
     },
     "execution_count": 7,
     "metadata": {},
     "output_type": "execute_result"
    }
   ],
   "source": [
    "a.itemsize     # retorna el tamaño, en bytes, de cada elemento en bytes "
   ]
  },
  {
   "cell_type": "code",
   "execution_count": 8,
   "id": "c26f3c3a",
   "metadata": {
    "slideshow": {
     "slide_type": "slide"
    }
   },
   "outputs": [
    {
     "data": {
      "text/plain": [
       "15"
      ]
     },
     "execution_count": 8,
     "metadata": {},
     "output_type": "execute_result"
    }
   ],
   "source": [
    "a.size"
   ]
  },
  {
   "cell_type": "code",
   "execution_count": 9,
   "id": "e88ec3e5",
   "metadata": {
    "slideshow": {
     "slide_type": "slide"
    }
   },
   "outputs": [
    {
     "data": {
      "text/plain": [
       "numpy.ndarray"
      ]
     },
     "execution_count": 9,
     "metadata": {},
     "output_type": "execute_result"
    }
   ],
   "source": [
    "type(a)"
   ]
  },
  {
   "cell_type": "code",
   "execution_count": 10,
   "id": "2eb6cb9d",
   "metadata": {
    "slideshow": {
     "slide_type": "slide"
    }
   },
   "outputs": [
    {
     "data": {
      "text/plain": [
       "array([6, 7, 8])"
      ]
     },
     "execution_count": 10,
     "metadata": {},
     "output_type": "execute_result"
    }
   ],
   "source": [
    "b = np.array([6, 7, 8])\n",
    "b"
   ]
  },
  {
   "cell_type": "code",
   "execution_count": null,
   "id": "0262beee",
   "metadata": {
    "slideshow": {
     "slide_type": "slide"
    }
   },
   "outputs": [],
   "source": [
    "type(b)\n"
   ]
  },
  {
   "cell_type": "markdown",
   "id": "b6f7b67b",
   "metadata": {
    "slideshow": {
     "slide_type": "slide"
    }
   },
   "source": [
    "## Creación de matrices o arreglos de numpy"
   ]
  },
  {
   "cell_type": "markdown",
   "id": "14c6137f",
   "metadata": {
    "slideshow": {
     "slide_type": "slide"
    }
   },
   "source": [
    "Hay varias formas de crear matrices."
   ]
  },
  {
   "cell_type": "markdown",
   "id": "1581cd6b",
   "metadata": {
    "slideshow": {
     "slide_type": "slide"
    }
   },
   "source": [
    "Por ejemplo, puede crear una matriz a partir de una **lista o tupla** normal de Python utilizando la función `numpy.array()` "
   ]
  },
  {
   "cell_type": "markdown",
   "id": "0407c784",
   "metadata": {
    "slideshow": {
     "slide_type": "slide"
    }
   },
   "source": [
    "El tipo de matriz resultante se deduce del tipo de elementos en las secuencias"
   ]
  },
  {
   "cell_type": "code",
   "execution_count": null,
   "id": "21e4715a",
   "metadata": {
    "slideshow": {
     "slide_type": "slide"
    }
   },
   "outputs": [],
   "source": [
    "import numpy as np"
   ]
  },
  {
   "cell_type": "code",
   "execution_count": null,
   "id": "aebb96d3",
   "metadata": {
    "slideshow": {
     "slide_type": "slide"
    }
   },
   "outputs": [],
   "source": [
    "a = np.array((2, 3, 4)) # matriz a partir de una tupla "
   ]
  },
  {
   "cell_type": "code",
   "execution_count": null,
   "id": "386945a5",
   "metadata": {
    "slideshow": {
     "slide_type": "slide"
    }
   },
   "outputs": [],
   "source": [
    "a"
   ]
  },
  {
   "cell_type": "code",
   "execution_count": null,
   "id": "bf34219d",
   "metadata": {
    "slideshow": {
     "slide_type": "slide"
    }
   },
   "outputs": [],
   "source": [
    "a.dtype"
   ]
  },
  {
   "cell_type": "code",
   "execution_count": 12,
   "id": "fbd4c81c",
   "metadata": {
    "slideshow": {
     "slide_type": "slide"
    }
   },
   "outputs": [],
   "source": [
    "b = np.array([1.2, 3.5, 5.1])     # matriz a partir de una lista "
   ]
  },
  {
   "cell_type": "code",
   "execution_count": 13,
   "id": "b0b01fed",
   "metadata": {
    "slideshow": {
     "slide_type": "slide"
    }
   },
   "outputs": [
    {
     "data": {
      "text/plain": [
       "dtype('float64')"
      ]
     },
     "execution_count": 13,
     "metadata": {},
     "output_type": "execute_result"
    }
   ],
   "source": [
    "b.dtype"
   ]
  },
  {
   "cell_type": "markdown",
   "id": "d30fe7b0",
   "metadata": {
    "slideshow": {
     "slide_type": "slide"
    }
   },
   "source": [
    "Un error frecuente consiste en llamar con múltiples argumentos, en lugar de proporcionar una sola secuencia como argumento.array"
   ]
  },
  {
   "cell_type": "code",
   "execution_count": null,
   "id": "ebb4be57",
   "metadata": {
    "slideshow": {
     "slide_type": "slide"
    }
   },
   "outputs": [],
   "source": [
    "a = np.array(1, 2, 3, 4)    # WRONG"
   ]
  },
  {
   "cell_type": "code",
   "execution_count": null,
   "id": "c9b98d89",
   "metadata": {
    "slideshow": {
     "slide_type": "slide"
    }
   },
   "outputs": [],
   "source": [
    "a = np.array([1, 2, 3, 4])  # RIGHT"
   ]
  },
  {
   "cell_type": "markdown",
   "id": "2d07fd60",
   "metadata": {
    "slideshow": {
     "slide_type": "slide"
    }
   },
   "source": [
    "`array` transforma secuencias de secuencias en matrices bidimensionales, secuencias de secuencias de secuencias en matrices tridimensionales, etc."
   ]
  },
  {
   "cell_type": "code",
   "execution_count": null,
   "id": "dd5fe7a0",
   "metadata": {
    "slideshow": {
     "slide_type": "slide"
    }
   },
   "outputs": [],
   "source": [
    "b = np.array([(1.5, 2, 3), (4, 5, 6)])\n",
    "b"
   ]
  },
  {
   "cell_type": "markdown",
   "id": "c3935a2a",
   "metadata": {
    "slideshow": {
     "slide_type": "slide"
    }
   },
   "source": [
    "El tipo de matriz también se puede especificar explícitamente en el momento de la creación:"
   ]
  },
  {
   "cell_type": "code",
   "execution_count": null,
   "id": "3f63202c",
   "metadata": {
    "slideshow": {
     "slide_type": "slide"
    }
   },
   "outputs": [],
   "source": [
    "c = np.array([[1, 2], [3, 4]], dtype=complex)\n",
    "c"
   ]
  },
  {
   "cell_type": "markdown",
   "id": "ac3564f7",
   "metadata": {
    "slideshow": {
     "slide_type": "slide"
    }
   },
   "source": [
    "## Creación de matrices especiales"
   ]
  },
  {
   "cell_type": "markdown",
   "id": "8ead2e5b",
   "metadata": {
    "slideshow": {
     "slide_type": "slide"
    }
   },
   "source": [
    "La función `np.zeros()`crea una matriz llena de ceros, \n",
    "* la función `np.ones()` crea una matriz llena de unos y \n",
    "* la función `np.empty()` crea una matriz cuyo contenido inicial es aleatorio y depende del estado de la memoria. "
   ]
  },
  {
   "cell_type": "markdown",
   "id": "80ef63a3",
   "metadata": {
    "slideshow": {
     "slide_type": "slide"
    }
   },
   "source": [
    "De forma predeterminada, el tipo de la matriz creada es `float64`. "
   ]
  },
  {
   "cell_type": "code",
   "execution_count": null,
   "id": "4d66bac7",
   "metadata": {
    "slideshow": {
     "slide_type": "slide"
    }
   },
   "outputs": [],
   "source": [
    "np.zeros((3, 4))"
   ]
  },
  {
   "cell_type": "code",
   "execution_count": null,
   "id": "43b4528b",
   "metadata": {
    "slideshow": {
     "slide_type": "slide"
    }
   },
   "outputs": [],
   "source": [
    "np.ones((2, 3, 4), dtype=np.int16)"
   ]
  },
  {
   "cell_type": "code",
   "execution_count": null,
   "id": "bcc21ca4",
   "metadata": {
    "slideshow": {
     "slide_type": "slide"
    }
   },
   "outputs": [],
   "source": [
    "np.empty((2, 3))\n",
    "array([[3.73603959e-262, 6.02658058e-154, 6.55490914e-260],  # may vary\n",
    "       [5.30498948e-313, 3.14673309e-307, 1.00000000e+000]])"
   ]
  },
  {
   "cell_type": "markdown",
   "id": "82477793",
   "metadata": {
    "slideshow": {
     "slide_type": "slide"
    }
   },
   "source": [
    "Para crear secuencias de números, NumPy proporciona la función `matriz.arange` que es análoga a la función integrada `range()` de Python, pero devuelve una matriz. "
   ]
  },
  {
   "cell_type": "code",
   "execution_count": null,
   "id": "82642755",
   "metadata": {},
   "outputs": [],
   "source": [
    "np.arange(10, 30, 5)"
   ]
  },
  {
   "cell_type": "code",
   "execution_count": null,
   "id": "00b9de25",
   "metadata": {
    "slideshow": {
     "slide_type": "slide"
    }
   },
   "outputs": [],
   "source": [
    "np.arange(0, 2, 0.3)     # it accepts float arguments\n"
   ]
  },
  {
   "cell_type": "markdown",
   "id": "b298894f",
   "metadata": {
    "slideshow": {
     "slide_type": "slide"
    }
   },
   "source": [
    "Cuando se utiliza `arange` con argumentos de coma flotante, generalmente no es posible predecir el número de elementos obtenidos, debido a la precisión finita de coma flotante. "
   ]
  },
  {
   "cell_type": "markdown",
   "id": "82172a11",
   "metadata": {
    "slideshow": {
     "slide_type": "slide"
    }
   },
   "source": [
    "Por este motivo, suele ser mejor utilizar la función `linspace` que recibe como argumento el número de elementos que queremos, en lugar del paso:"
   ]
  },
  {
   "cell_type": "code",
   "execution_count": null,
   "id": "d932bedd",
   "metadata": {
    "slideshow": {
     "slide_type": "slide"
    }
   },
   "outputs": [],
   "source": [
    "from numpy import pi"
   ]
  },
  {
   "cell_type": "code",
   "execution_count": null,
   "id": "e4481c1f",
   "metadata": {
    "slideshow": {
     "slide_type": "slide"
    }
   },
   "outputs": [],
   "source": [
    "np.linspace(0, 2, 9)                   # 9 numbers from 0 to 2"
   ]
  },
  {
   "cell_type": "code",
   "execution_count": null,
   "id": "d93a828e",
   "metadata": {
    "slideshow": {
     "slide_type": "slide"
    }
   },
   "outputs": [],
   "source": [
    "x = np.linspace(0, 2 * pi, 100)        # useful to evaluate function at lots of points\n",
    "f = np.sin(x)"
   ]
  },
  {
   "cell_type": "markdown",
   "id": "f1162935",
   "metadata": {
    "slideshow": {
     "slide_type": "slide"
    }
   },
   "source": [
    "## Presentación de las Matrices "
   ]
  },
  {
   "cell_type": "markdown",
   "id": "fee08d81",
   "metadata": {
    "slideshow": {
     "slide_type": "slide"
    }
   },
   "source": [
    "Al imprimir una matriz, NumPy la muestra de manera similar a las listas anidadas, pero con el siguiente diseño:\n",
    "\n",
    "el último eje se imprime de izquierda a derecha,\n",
    "\n",
    "el penúltimo se imprime de arriba a abajo,\n",
    "\n",
    "el resto también se imprimen de arriba a abajo, con cada rebanada separada de la siguiente por una línea vacía.\n",
    "\n",
    "Las matrices unidimensionales se imprimen como filas, las bidimensionales como matrices y las tridimensionales como listas de matrices."
   ]
  },
  {
   "cell_type": "code",
   "execution_count": null,
   "id": "f9225086",
   "metadata": {
    "slideshow": {
     "slide_type": "slide"
    }
   },
   "outputs": [],
   "source": [
    "a = np.arange(6)  "
   ]
  },
  {
   "cell_type": "code",
   "execution_count": null,
   "id": "23ebe0ba",
   "metadata": {
    "slideshow": {
     "slide_type": "slide"
    }
   },
   "outputs": [],
   "source": [
    "                  # 1d array\n",
    "print(a)"
   ]
  },
  {
   "cell_type": "code",
   "execution_count": null,
   "id": "20bbe097",
   "metadata": {
    "slideshow": {
     "slide_type": "slide"
    }
   },
   "outputs": [],
   "source": [
    "b = np.arange(12).reshape(4, 3)     # 2d array\n",
    "print(b)"
   ]
  },
  {
   "cell_type": "code",
   "execution_count": null,
   "id": "371c8b1f",
   "metadata": {
    "slideshow": {
     "slide_type": "slide"
    }
   },
   "outputs": [],
   "source": [
    "c = np.arange(24).reshape(2, 3, 4)  # 3d array\n",
    "print(c)"
   ]
  },
  {
   "cell_type": "markdown",
   "id": "41934f09",
   "metadata": {
    "slideshow": {
     "slide_type": "slide"
    }
   },
   "source": [
    "Consulte a continuación para obtener más detalles sobre `.reshape()`\n",
    "\n",
    "Si una matriz es demasiado grande para ser impresa, NumPy omite automáticamente la parte central de la matriz y solo imprime las esquinas:"
   ]
  },
  {
   "cell_type": "code",
   "execution_count": null,
   "id": "75186d19",
   "metadata": {
    "slideshow": {
     "slide_type": "slide"
    }
   },
   "outputs": [],
   "source": [
    "print(np.arange(10000))"
   ]
  },
  {
   "cell_type": "code",
   "execution_count": null,
   "id": "afcec023",
   "metadata": {
    "slideshow": {
     "slide_type": "slide"
    }
   },
   "outputs": [],
   "source": [
    "print(np.arange(10000).reshape(100, 100))"
   ]
  },
  {
   "cell_type": "markdown",
   "id": "220ba7aa",
   "metadata": {
    "slideshow": {
     "slide_type": "slide"
    }
   },
   "source": [
    "## Operaciones básicas"
   ]
  },
  {
   "cell_type": "markdown",
   "id": "82357c18",
   "metadata": {
    "slideshow": {
     "slide_type": "slide"
    }
   },
   "source": [
    "Los operadores aritméticos en matrices se aplican elementalmente. Se crea una nueva matriz y se rellena con el resultado."
   ]
  },
  {
   "cell_type": "markdown",
   "id": "087e05d3",
   "metadata": {
    "slideshow": {
     "slide_type": "slide"
    }
   },
   "source": [
    "## Referentes  \n",
    "\n",
    "* Página oficial de numpy: https://numpy.org/doc/stable/user/whatisnumpy.html  \n"
   ]
  },
  {
   "cell_type": "code",
   "execution_count": null,
   "id": "cd295946",
   "metadata": {},
   "outputs": [],
   "source": []
  }
 ],
 "metadata": {
  "celltoolbar": "Slideshow",
  "kernelspec": {
   "display_name": "Python 3",
   "language": "python",
   "name": "python3"
  },
  "language_info": {
   "codemirror_mode": {
    "name": "ipython",
    "version": 3
   },
   "file_extension": ".py",
   "mimetype": "text/x-python",
   "name": "python",
   "nbconvert_exporter": "python",
   "pygments_lexer": "ipython3",
   "version": "3.8.8"
  },
  "latex_envs": {
   "LaTeX_envs_menu_present": true,
   "autoclose": false,
   "autocomplete": false,
   "bibliofile": "biblio.bib",
   "cite_by": "apalike",
   "current_citInitial": 1,
   "eqLabelWithNumbers": true,
   "eqNumInitial": 1,
   "hotkeys": {
    "equation": "Ctrl-E",
    "itemize": "Ctrl-I"
   },
   "labels_anchors": false,
   "latex_user_defs": false,
   "report_style_numbering": false,
   "user_envs_cfg": false
  }
 },
 "nbformat": 4,
 "nbformat_minor": 5
}
