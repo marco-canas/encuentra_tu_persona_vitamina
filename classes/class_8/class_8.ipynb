{
 "cells": [
  {
   "cell_type": "markdown",
   "id": "7d7869f5",
   "metadata": {
    "slideshow": {
     "slide_type": "slide"
    }
   },
   "source": [
    "\n",
    "<table align=\"left\">\n",
    "  <td>\n",
    "    <a href=\"https://colab.research.google.com/github/marco-canas/taca/blob/main/ref/geron/chap_2/5_prepare_for_algorithms/1_prepare_for_algorithms.ipynb\" target=\"_parent\"><img src=\"https://colab.research.google.com/assets/colab-badge.svg\" alt=\"Open In Colab\"/></a>\n",
    "  </td>\n",
    "  <td>\n",
    "    <a target=\"_blank\" href=\"https://kaggle.com/kernels/welcome?src=https://github.com/marco-canas/taca/blob/main/ref/geron/chap_2/5_prepare_for_algorithms/1_prepare_for_algorithms.ipynb\"><img src=\"https://kaggle.com/static/images/open-in-kaggle.svg\" /></a>\n",
    "  </td>\n",
    "</table> \n"
   ]
  },
  {
   "cell_type": "markdown",
   "id": "1f4c3190",
   "metadata": {
    "slideshow": {
     "slide_type": "slide"
    }
   },
   "source": [
    "# Clase 8"
   ]
  },
  {
   "cell_type": "code",
   "execution_count": 49,
   "id": "7374f9a2",
   "metadata": {
    "slideshow": {
     "slide_type": "slide"
    }
   },
   "outputs": [
    {
     "data": {
      "text/html": [
       "<div>\n",
       "<style scoped>\n",
       "    .dataframe tbody tr th:only-of-type {\n",
       "        vertical-align: middle;\n",
       "    }\n",
       "\n",
       "    .dataframe tbody tr th {\n",
       "        vertical-align: top;\n",
       "    }\n",
       "\n",
       "    .dataframe thead th {\n",
       "        text-align: right;\n",
       "    }\n",
       "</style>\n",
       "<table border=\"1\" class=\"dataframe\">\n",
       "  <thead>\n",
       "    <tr style=\"text-align: right;\">\n",
       "      <th></th>\n",
       "      <th>cedula</th>\n",
       "      <th>nombre</th>\n",
       "      <th>email</th>\n",
       "      <th>Asignación Quiz 1</th>\n",
       "    </tr>\n",
       "  </thead>\n",
       "  <tbody>\n",
       "    <tr>\n",
       "      <th>0</th>\n",
       "      <td>1193092675</td>\n",
       "      <td>ALVAREZ CARRERO GERMAN JOSE</td>\n",
       "      <td>german.alvarez1@udea.edu.co</td>\n",
       "      <td>8</td>\n",
       "    </tr>\n",
       "    <tr>\n",
       "      <th>1</th>\n",
       "      <td>1152715251</td>\n",
       "      <td>AMAYA ESCOBAR LILLEY DANIELA</td>\n",
       "      <td>lilley.amaya1@udea.edu.co</td>\n",
       "      <td>1</td>\n",
       "    </tr>\n",
       "    <tr>\n",
       "      <th>2</th>\n",
       "      <td>1152204969</td>\n",
       "      <td>ARANGO JARAMILLO JUAN JOSE</td>\n",
       "      <td>juan.arangoj@udea.edu.co</td>\n",
       "      <td>26</td>\n",
       "    </tr>\n",
       "    <tr>\n",
       "      <th>3</th>\n",
       "      <td>1037657637</td>\n",
       "      <td>BOLIVAR HIGUITA JUAN PABLO</td>\n",
       "      <td>jpablo.bolivar@udea.edu.co</td>\n",
       "      <td>10</td>\n",
       "    </tr>\n",
       "    <tr>\n",
       "      <th>4</th>\n",
       "      <td>1146437759</td>\n",
       "      <td>BUITRAGO LORA VANESSA</td>\n",
       "      <td>vanessa.buitragol@udea.edu.co</td>\n",
       "      <td>22</td>\n",
       "    </tr>\n",
       "    <tr>\n",
       "      <th>5</th>\n",
       "      <td>1000305704</td>\n",
       "      <td>CARDONA GÓMEZ ELIANA</td>\n",
       "      <td>eliana.cardonag1@udea.edu.co</td>\n",
       "      <td>20</td>\n",
       "    </tr>\n",
       "    <tr>\n",
       "      <th>6</th>\n",
       "      <td>1000756943</td>\n",
       "      <td>CARDONA ZAPATA SIMON</td>\n",
       "      <td>simon.cardonaz@udea.edu.co</td>\n",
       "      <td>5</td>\n",
       "    </tr>\n",
       "    <tr>\n",
       "      <th>7</th>\n",
       "      <td>1152686248</td>\n",
       "      <td>CORRALES BOHÓRQUEZ ANGEL</td>\n",
       "      <td>angel.corrales@udea.edu.co</td>\n",
       "      <td>14</td>\n",
       "    </tr>\n",
       "    <tr>\n",
       "      <th>8</th>\n",
       "      <td>1035921687</td>\n",
       "      <td>GALLEGO JARAMILLO JUAN PABLO</td>\n",
       "      <td>juan.gallegoj@udea.edu.co</td>\n",
       "      <td>6</td>\n",
       "    </tr>\n",
       "    <tr>\n",
       "      <th>9</th>\n",
       "      <td>1001748329</td>\n",
       "      <td>GIL QUINTERO LISBETH YULIZA</td>\n",
       "      <td>lisbeth.gil@udea.edu.co</td>\n",
       "      <td>11</td>\n",
       "    </tr>\n",
       "    <tr>\n",
       "      <th>10</th>\n",
       "      <td>1000653700</td>\n",
       "      <td>GIRALDO GALLEGO ANA MARÍA</td>\n",
       "      <td>ana.giraldo15@udea.edu.co</td>\n",
       "      <td>13</td>\n",
       "    </tr>\n",
       "    <tr>\n",
       "      <th>11</th>\n",
       "      <td>1152456567</td>\n",
       "      <td>GIRALDO MENA YINIM ALBERTO</td>\n",
       "      <td>yinim.giraldo@udea.edu.co</td>\n",
       "      <td>23</td>\n",
       "    </tr>\n",
       "    <tr>\n",
       "      <th>12</th>\n",
       "      <td>1010141168</td>\n",
       "      <td>GRANADA ZAPATA SUSANA</td>\n",
       "      <td>susana.granada@udea.edu.co</td>\n",
       "      <td>19</td>\n",
       "    </tr>\n",
       "    <tr>\n",
       "      <th>13</th>\n",
       "      <td>1097403976</td>\n",
       "      <td>HERNANDEZ SUAREZ NICOLAS</td>\n",
       "      <td>nicolas.hernandez@udea.edu.co</td>\n",
       "      <td>16</td>\n",
       "    </tr>\n",
       "    <tr>\n",
       "      <th>14</th>\n",
       "      <td>1036966621</td>\n",
       "      <td>JIMÉNEZ GARCÍA MIGUEL ÁNGEL</td>\n",
       "      <td>miguel.jimenezg@udea.edu.co</td>\n",
       "      <td>17</td>\n",
       "    </tr>\n",
       "    <tr>\n",
       "      <th>15</th>\n",
       "      <td>1098823480</td>\n",
       "      <td>MARTINEZ PÉREZ PEDRO ALEJANDRO</td>\n",
       "      <td>pedro.martinez1@udea.edu.co</td>\n",
       "      <td>4</td>\n",
       "    </tr>\n",
       "    <tr>\n",
       "      <th>16</th>\n",
       "      <td>1035434122</td>\n",
       "      <td>MONTOYA GONZÁLEZ PABLO ANDRÉS</td>\n",
       "      <td>pabloa.montoya@udea.edu.co</td>\n",
       "      <td>24</td>\n",
       "    </tr>\n",
       "    <tr>\n",
       "      <th>17</th>\n",
       "      <td>1000754994</td>\n",
       "      <td>MORALES GARCÍA MANUELA</td>\n",
       "      <td>manuela.moralesg@udea.edu.co</td>\n",
       "      <td>25</td>\n",
       "    </tr>\n",
       "    <tr>\n",
       "      <th>18</th>\n",
       "      <td>1040367403</td>\n",
       "      <td>MOSQUERA PEREA JESÚS JHOVANNY</td>\n",
       "      <td>jhovanny.mosquera@udea.edu.co</td>\n",
       "      <td>18</td>\n",
       "    </tr>\n",
       "    <tr>\n",
       "      <th>19</th>\n",
       "      <td>1013346470</td>\n",
       "      <td>MURILLO ZAPATA MIGUEL ANGEL</td>\n",
       "      <td>mangel.murillo@udea.edu.co</td>\n",
       "      <td>21</td>\n",
       "    </tr>\n",
       "    <tr>\n",
       "      <th>20</th>\n",
       "      <td>1214747720</td>\n",
       "      <td>NARVAEZ MONSALVE KAROL ANDREA</td>\n",
       "      <td>karol.narvaez@udea.edu.co</td>\n",
       "      <td>15</td>\n",
       "    </tr>\n",
       "    <tr>\n",
       "      <th>21</th>\n",
       "      <td>1007813704</td>\n",
       "      <td>PULGARIN QUIROZ EMILY IVETTE</td>\n",
       "      <td>emily.pulgarinq@udea.edu.co</td>\n",
       "      <td>12</td>\n",
       "    </tr>\n",
       "    <tr>\n",
       "      <th>22</th>\n",
       "      <td>1001851542</td>\n",
       "      <td>RODRIGUEZ BARRIOS DAIRA LORENA</td>\n",
       "      <td>daira.rodriguez@udea.edu.co</td>\n",
       "      <td>9</td>\n",
       "    </tr>\n",
       "    <tr>\n",
       "      <th>23</th>\n",
       "      <td>1152225691</td>\n",
       "      <td>TORRES MERIÑO JOSE LUIS CAMILO</td>\n",
       "      <td>jluiscamilo.torres@udea.edu.co</td>\n",
       "      <td>7</td>\n",
       "    </tr>\n",
       "    <tr>\n",
       "      <th>24</th>\n",
       "      <td>1007722578</td>\n",
       "      <td>TRUJILLO VERTEL MAIRA ALEJANDRA</td>\n",
       "      <td>maira.trujillo@udea.edu.co</td>\n",
       "      <td>3</td>\n",
       "    </tr>\n",
       "    <tr>\n",
       "      <th>25</th>\n",
       "      <td>1017266250</td>\n",
       "      <td>ZAPATA VANEGAS JUAN CAMILO</td>\n",
       "      <td>juan.zapata100@udea.edu.co</td>\n",
       "      <td>2</td>\n",
       "    </tr>\n",
       "  </tbody>\n",
       "</table>\n",
       "</div>"
      ],
      "text/plain": [
       "       cedula                             nombre  \\\n",
       "0   1193092675      ALVAREZ CARRERO GERMAN JOSE    \n",
       "1   1152715251      AMAYA ESCOBAR LILLEY DANIELA   \n",
       "2   1152204969       ARANGO JARAMILLO JUAN JOSE    \n",
       "3   1037657637       BOLIVAR HIGUITA JUAN PABLO    \n",
       "4   1146437759             BUITRAGO LORA VANESSA   \n",
       "5   1000305704             CARDONA GÓMEZ ELIANA    \n",
       "6   1000756943             CARDONA ZAPATA SIMON    \n",
       "7   1152686248         CORRALES BOHÓRQUEZ ANGEL    \n",
       "8   1035921687      GALLEGO JARAMILLO JUAN PABLO   \n",
       "9   1001748329      GIL QUINTERO LISBETH YULIZA    \n",
       "10  1000653700        GIRALDO GALLEGO ANA MARÍA    \n",
       "11  1152456567       GIRALDO MENA YINIM ALBERTO    \n",
       "12  1010141168            GRANADA ZAPATA SUSANA    \n",
       "13  1097403976         HERNANDEZ SUAREZ NICOLAS    \n",
       "14  1036966621      JIMÉNEZ GARCÍA MIGUEL ÁNGEL    \n",
       "15  1098823480   MARTINEZ PÉREZ PEDRO ALEJANDRO    \n",
       "16  1035434122    MONTOYA GONZÁLEZ PABLO ANDRÉS    \n",
       "17  1000754994           MORALES GARCÍA MANUELA    \n",
       "18  1040367403    MOSQUERA PEREA JESÚS JHOVANNY    \n",
       "19  1013346470      MURILLO ZAPATA MIGUEL ANGEL    \n",
       "20  1214747720    NARVAEZ MONSALVE KAROL ANDREA    \n",
       "21  1007813704     PULGARIN QUIROZ EMILY IVETTE    \n",
       "22  1001851542   RODRIGUEZ BARRIOS DAIRA LORENA    \n",
       "23  1152225691    TORRES MERIÑO JOSE LUIS CAMILO   \n",
       "24  1007722578  TRUJILLO VERTEL MAIRA ALEJANDRA    \n",
       "25  1017266250       ZAPATA VANEGAS JUAN CAMILO    \n",
       "\n",
       "                             email  Asignación Quiz 1  \n",
       "0      german.alvarez1@udea.edu.co                  8  \n",
       "1        lilley.amaya1@udea.edu.co                  1  \n",
       "2         juan.arangoj@udea.edu.co                 26  \n",
       "3       jpablo.bolivar@udea.edu.co                 10  \n",
       "4    vanessa.buitragol@udea.edu.co                 22  \n",
       "5     eliana.cardonag1@udea.edu.co                 20  \n",
       "6       simon.cardonaz@udea.edu.co                  5  \n",
       "7       angel.corrales@udea.edu.co                 14  \n",
       "8        juan.gallegoj@udea.edu.co                  6  \n",
       "9          lisbeth.gil@udea.edu.co                 11  \n",
       "10       ana.giraldo15@udea.edu.co                 13  \n",
       "11       yinim.giraldo@udea.edu.co                 23  \n",
       "12      susana.granada@udea.edu.co                 19  \n",
       "13   nicolas.hernandez@udea.edu.co                 16  \n",
       "14     miguel.jimenezg@udea.edu.co                 17  \n",
       "15     pedro.martinez1@udea.edu.co                  4  \n",
       "16      pabloa.montoya@udea.edu.co                 24  \n",
       "17    manuela.moralesg@udea.edu.co                 25  \n",
       "18   jhovanny.mosquera@udea.edu.co                 18  \n",
       "19      mangel.murillo@udea.edu.co                 21  \n",
       "20       karol.narvaez@udea.edu.co                 15  \n",
       "21     emily.pulgarinq@udea.edu.co                 12  \n",
       "22     daira.rodriguez@udea.edu.co                  9  \n",
       "23  jluiscamilo.torres@udea.edu.co                  7  \n",
       "24      maira.trujillo@udea.edu.co                  3  \n",
       "25      juan.zapata100@udea.edu.co                  2  "
      ]
     },
     "execution_count": 49,
     "metadata": {},
     "output_type": "execute_result"
    }
   ],
   "source": [
    "import numpy as np \n",
    "import pandas as pd \n",
    "grupo_intro_ml = pd.read_csv('grupo_intro_ml.csv', sep = ',')   \n",
    "\n",
    "from random import randint,choice \n",
    "\n",
    "np.random.seed(513)\n",
    "\n",
    "lista = list(range(1,27)) \n",
    "\n",
    "lista_tema_asignado = []\n",
    "\n",
    "for i in range(1,27):\n",
    "    a = choice(lista)\n",
    "    lista_tema_asignado.append(a)\n",
    "    lista.remove(a)\n",
    "\n",
    "grupo_intro_ml['Asignación Quiz 1'] = lista_tema_asignado\n",
    "\n",
    "grupo_intro_ml"
   ]
  },
  {
   "cell_type": "markdown",
   "id": "5ae84604",
   "metadata": {
    "slideshow": {
     "slide_type": "slide"
    }
   },
   "source": [
    "## [Numpy](https://numpy.org/doc/stable/user/whatisnumpy.html)"
   ]
  },
  {
   "cell_type": "markdown",
   "id": "17ec2e6b",
   "metadata": {
    "slideshow": {
     "slide_type": "slide"
    }
   },
   "source": [
    "### ¿Qué es NumPy?"
   ]
  },
  {
   "cell_type": "markdown",
   "id": "76b9dec1",
   "metadata": {
    "slideshow": {
     "slide_type": "slide"
    }
   },
   "source": [
    "NumPy es el paquete fundamental para la computación científica en Python. "
   ]
  },
  {
   "cell_type": "markdown",
   "id": "5f9151bc",
   "metadata": {
    "slideshow": {
     "slide_type": "slide"
    }
   },
   "source": [
    "Es una biblioteca de Python que proporciona un objeto de matriz multidimensional, varios objetos derivados y una variedad de rutinas para operaciones rápidas en matrices, que incluyen matemáticas, lógicas, manipulación de formas, clasificación, selección, E/S, transformadas de Fourier discretas, álgebra lineal básica, operaciones estadísticas básicas, simulación aleatoria y mucho más."
   ]
  },
  {
   "cell_type": "markdown",
   "id": "fdac1115",
   "metadata": {
    "slideshow": {
     "slide_type": "slide"
    }
   },
   "source": [
    "En el núcleo del paquete NumPy, se encuentra el objeto ndarray. "
   ]
  },
  {
   "cell_type": "markdown",
   "id": "4c471bec",
   "metadata": {
    "slideshow": {
     "slide_type": "slide"
    }
   },
   "source": [
    "Esto encapsula matrices n-dimensionales de tipos de datos homogéneos, con muchas operaciones que se realizan en código compilado para el rendimiento. "
   ]
  },
  {
   "cell_type": "markdown",
   "id": "7baa11b2",
   "metadata": {
    "slideshow": {
     "slide_type": "slide"
    }
   },
   "source": [
    "Hay varias diferencias importantes entre las matrices NumPy y las secuencias estándar de Python:"
   ]
  },
  {
   "cell_type": "markdown",
   "id": "bdbdf725",
   "metadata": {
    "slideshow": {
     "slide_type": "slide"
    }
   },
   "source": [
    "* Las matrices NumPy tienen un tamaño fijo en la creación, a diferencia de las listas de Python (que pueden crecer dinámicamente). "
   ]
  },
  {
   "cell_type": "markdown",
   "id": "ee846f21",
   "metadata": {
    "slideshow": {
     "slide_type": "slide"
    }
   },
   "source": [
    "Cambiar el tamaño de un ndarray creará una nueva matriz y eliminará la original."
   ]
  },
  {
   "cell_type": "markdown",
   "id": "56bf3022",
   "metadata": {
    "slideshow": {
     "slide_type": "slide"
    }
   },
   "source": [
    "* Se requiere que todos los elementos de una matriz NumPy sean del mismo tipo de datos y, por lo tanto, tengan el mismo tamaño en memoria. "
   ]
  },
  {
   "cell_type": "markdown",
   "id": "3c719881",
   "metadata": {
    "slideshow": {
     "slide_type": "slide"
    }
   },
   "source": [
    "* Las matrices NumPy facilitan operaciones matemáticas avanzadas y otros tipos de operaciones en grandes cantidades de datos. Por lo general, tales operaciones se ejecutan de manera más eficiente y con menos código de lo que es posible utilizando las secuencias integradas de Python."
   ]
  },
  {
   "cell_type": "markdown",
   "id": "897aad47",
   "metadata": {
    "slideshow": {
     "slide_type": "slide"
    }
   },
   "source": [
    "* Una creciente plétora de paquetes científicos y matemáticos basados en Python están utilizando matrices NumPy; aunque estos suelen admitir la entrada de secuencia de Python, convierten dicha entrada en matrices NumPy antes del procesamiento y, a menudo, generan matrices NumPy. "
   ]
  },
  {
   "cell_type": "markdown",
   "id": "832e2777",
   "metadata": {
    "slideshow": {
     "slide_type": "slide"
    }
   },
   "source": [
    "En otras palabras, para usar de manera eficiente gran parte (tal vez incluso la mayoría) del software científico / matemático basado en Python de hoy, solo saber cómo usar los tipos de secuencia incorporados de Python es insuficiente, uno también necesita saber cómo usar matrices NumPy."
   ]
  },
  {
   "cell_type": "markdown",
   "id": "3705ad84",
   "metadata": {
    "slideshow": {
     "slide_type": "slide"
    }
   },
   "source": [
    "Los puntos sobre el tamaño y la velocidad de la secuencia son particularmente importantes en la computación científica. "
   ]
  },
  {
   "cell_type": "markdown",
   "id": "6b1c4cda",
   "metadata": {
    "slideshow": {
     "slide_type": "slide"
    }
   },
   "source": [
    "Como ejemplo simple, considere el caso de multiplicar cada elemento en una secuencia 1-D con el elemento correspondiente en otra secuencia de la misma longitud. "
   ]
  },
  {
   "cell_type": "markdown",
   "id": "857bfc5c",
   "metadata": {
    "slideshow": {
     "slide_type": "slide"
    }
   },
   "source": [
    "Si los datos se almacenan en dos listas de Python, y , podríamos iterar sobre cada elemento:`ab`"
   ]
  },
  {
   "cell_type": "code",
   "execution_count": null,
   "id": "da436314",
   "metadata": {
    "slideshow": {
     "slide_type": "slide"
    }
   },
   "outputs": [],
   "source": []
  },
  {
   "cell_type": "code",
   "execution_count": 4,
   "id": "d5c66183",
   "metadata": {
    "slideshow": {
     "slide_type": "slide"
    }
   },
   "outputs": [
    {
     "name": "stdout",
     "output_type": "stream",
     "text": [
      "Wall time: 6.5 s\n"
     ]
    }
   ],
   "source": [
    "%%time\n",
    "n = 10_000_000\n",
    "a = list(range(n))\n",
    "b = a\n",
    "c = []\n",
    "for i in range(len(a)):\n",
    "    c.append(a[i]*b[i])\n",
    "    "
   ]
  },
  {
   "cell_type": "code",
   "execution_count": 5,
   "id": "26978355",
   "metadata": {
    "slideshow": {
     "slide_type": "slide"
    }
   },
   "outputs": [
    {
     "data": {
      "text/plain": [
       "[0, 1, 4, 9, 16]"
      ]
     },
     "execution_count": 5,
     "metadata": {},
     "output_type": "execute_result"
    }
   ],
   "source": [
    "c[:5]"
   ]
  },
  {
   "cell_type": "code",
   "execution_count": 6,
   "id": "7bc0c378",
   "metadata": {
    "slideshow": {
     "slide_type": "slide"
    }
   },
   "outputs": [
    {
     "name": "stdout",
     "output_type": "stream",
     "text": [
      "Wall time: 59.6 ms\n"
     ]
    }
   ],
   "source": [
    "%%time\n",
    "n = 10_000_000\n",
    "import numpy as np\n",
    "d=np.arange(n)\n",
    "e = d\n",
    "f = d*e"
   ]
  },
  {
   "cell_type": "code",
   "execution_count": 8,
   "id": "ccf4d62c",
   "metadata": {
    "slideshow": {
     "slide_type": "slide"
    }
   },
   "outputs": [
    {
     "data": {
      "text/plain": [
       "array([ 0,  1,  4,  9, 16])"
      ]
     },
     "execution_count": 8,
     "metadata": {},
     "output_type": "execute_result"
    }
   ],
   "source": [
    "f[:5]"
   ]
  },
  {
   "cell_type": "markdown",
   "id": "eb188362",
   "metadata": {
    "slideshow": {
     "slide_type": "slide"
    }
   },
   "source": [
    "Esto produce la respuesta correcta, pero si y cada uno contiene millones de números, pagaremos el precio por las ineficiencias de los bucles en Python. "
   ]
  },
  {
   "cell_type": "markdown",
   "id": "1d133c29",
   "metadata": {
    "slideshow": {
     "slide_type": "slide"
    }
   },
   "source": [
    "Podríamos realizar la misma tarea mucho más rápidamente en C escribiendo (para mayor claridad descuidamos las declaraciones e inicializaciones de variables, la asignación de memoria, etc.)`ab`"
   ]
  },
  {
   "cell_type": "markdown",
   "id": "bd5839d6",
   "metadata": {
    "slideshow": {
     "slide_type": "slide"
    }
   },
   "source": [
    "## ¿Por qué NumPy es rápido?"
   ]
  },
  {
   "cell_type": "markdown",
   "id": "7e42ed5b",
   "metadata": {
    "slideshow": {
     "slide_type": "slide"
    }
   },
   "source": [
    "La vectorización describe la ausencia de bucles explícitos, indexación, etc., en el código: estas cosas están teniendo lugar, por supuesto, solo \"detrás de escena\" en código C optimizado y precompilado. "
   ]
  },
  {
   "cell_type": "markdown",
   "id": "47b54a5b",
   "metadata": {
    "slideshow": {
     "slide_type": "slide"
    }
   },
   "source": [
    "El código vectorizado tiene muchas ventajas, entre las que se encuentran:"
   ]
  },
  {
   "cell_type": "markdown",
   "id": "c731c096",
   "metadata": {
    "slideshow": {
     "slide_type": "slide"
    }
   },
   "source": [
    "* el código vectorizado es más conciso y más fácil de leer \n",
    "* menos líneas de código generalmente significa menos errores"
   ]
  },
  {
   "cell_type": "markdown",
   "id": "37880cca",
   "metadata": {
    "slideshow": {
     "slide_type": "slide"
    }
   },
   "source": [
    "* el código se asemeja más a la notación matemática estándar (lo que facilita, normalmente, codificar correctamente las construcciones matemáticas)\n",
    "\n",
    "la vectorización da como resultado más código \"Pythonic\". Sin vectorización, nuestro código estaría lleno de bucles ineficientes y difíciles de leer.for\n",
    "\n",
    "Radiodifusión es el término utilizado para describir el comportamiento implícito elemento por elemento de las operaciones; En términos generales, en NumPy todas las operaciones, no solo las operaciones aritméticas, sino lógicas, bit-wise, funcionales, etc., se comportan de esta manera implícita elemento por elemento, es decir, transmiten. Además, en el ejemplo anterior, y podrían ser matrices multidimensionales de la misma forma, o un escalar y una matriz, o incluso dos matrices de con diferentes formas, siempre que la matriz más pequeña sea \"expandible\" a la forma de la más grande de tal manera que la difusión resultante sea inequívoca. Para conocer las \"reglas\" detalladas de la radiodifusión, véase basics.broadcasting.ab"
   ]
  },
  {
   "cell_type": "markdown",
   "id": "93a22212",
   "metadata": {
    "slideshow": {
     "slide_type": "slide"
    }
   },
   "source": [
    "## ¿Quién más usa NumPy?"
   ]
  },
  {
   "cell_type": "markdown",
   "id": "78ad32ba",
   "metadata": {
    "slideshow": {
     "slide_type": "slide"
    }
   },
   "source": [
    "NumPy es totalmente compatible con un enfoque orientado a objetos, comenzando, una vez más, con ndarray. "
   ]
  },
  {
   "cell_type": "markdown",
   "id": "8dd3ae5c",
   "metadata": {
    "slideshow": {
     "slide_type": "slide"
    }
   },
   "source": [
    "Por ejemplo, ndarray es una clase, que posee numerosos métodos y atributos. "
   ]
  },
  {
   "cell_type": "markdown",
   "id": "da597718",
   "metadata": {
    "slideshow": {
     "slide_type": "slide"
    }
   },
   "source": [
    "Muchos de sus métodos se reflejan en funciones en el espacio de nombres NumPy más externo, lo que permite al programador codificar en el paradigma que prefiera. "
   ]
  },
  {
   "cell_type": "markdown",
   "id": "677478ba",
   "metadata": {
    "slideshow": {
     "slide_type": "slide"
    }
   },
   "source": [
    "Esta flexibilidad ha permitido que el dialecto de matriz NumPy y la clase NumPy ndarray se conviertan en el lenguaje de facto de intercambio de datos multidimensional utilizado en Python."
   ]
  },
  {
   "cell_type": "markdown",
   "id": "e6831839",
   "metadata": {
    "slideshow": {
     "slide_type": "slide"
    }
   },
   "source": [
    "## Inicio rápido de NumPy\n",
    "### Prerrequisitos\n",
    "Necesitarás saber un poco de Python. Para obtener un repaso, consulte el tutorial de Python.\n",
    "\n",
    "Para trabajar los ejemplos, necesitará instalar además de NumPy.matplotlib"
   ]
  },
  {
   "cell_type": "markdown",
   "id": "b4b4aa17",
   "metadata": {
    "slideshow": {
     "slide_type": "slide"
    }
   },
   "source": [
    "### Perfil del alumno"
   ]
  },
  {
   "cell_type": "markdown",
   "id": "0882028b",
   "metadata": {
    "slideshow": {
     "slide_type": "slide"
    }
   },
   "source": [
    "Esta es una descripción general rápida de las matrices en NumPy. "
   ]
  },
  {
   "cell_type": "markdown",
   "id": "5453f45d",
   "metadata": {
    "slideshow": {
     "slide_type": "slide"
    }
   },
   "source": [
    "Muestra cómo se representan y se pueden manipular las matrices n-dimensionales (\\(n>=2\\)). "
   ]
  },
  {
   "cell_type": "markdown",
   "id": "751cac34",
   "metadata": {
    "slideshow": {
     "slide_type": "slide"
    }
   },
   "source": [
    "En particular, si no sabe cómo aplicar funciones comunes a matrices n-dimensionales (sin usar for-loops), o si desea comprender las propiedades de eje y forma para matrices n-dimensionales, este artículo podría ser de ayuda."
   ]
  },
  {
   "cell_type": "markdown",
   "id": "eb54ed9c",
   "metadata": {
    "slideshow": {
     "slide_type": "slide"
    }
   },
   "source": [
    "### Objetivos de aprendizaje"
   ]
  },
  {
   "cell_type": "markdown",
   "id": "5ec028c0",
   "metadata": {
    "slideshow": {
     "slide_type": "slide"
    }
   },
   "source": [
    "Después de leer, usted debería ser capaz de:"
   ]
  },
  {
   "cell_type": "markdown",
   "id": "a5d23b54",
   "metadata": {
    "slideshow": {
     "slide_type": "slide"
    }
   },
   "source": [
    "* Comprender la diferencia entre matrices de una, dos y n dimensiones en NumPy;"
   ]
  },
  {
   "cell_type": "markdown",
   "id": "07c030a8",
   "metadata": {
    "slideshow": {
     "slide_type": "slide"
    }
   },
   "source": [
    "* Comprender cómo aplicar algunas operaciones de álgebra lineal a matrices n-dimensionales sin usar for-loops;\n",
    "\n",
    "* Comprender las propiedades de eje y forma de matrices n-dimensionales."
   ]
  },
  {
   "cell_type": "markdown",
   "id": "916d13fd",
   "metadata": {
    "slideshow": {
     "slide_type": "slide"
    }
   },
   "source": [
    "Lo básico\n",
    "El objeto principal de NumPy es la matriz multidimensional homogénea. "
   ]
  },
  {
   "cell_type": "markdown",
   "id": "a5e0cb5e",
   "metadata": {
    "slideshow": {
     "slide_type": "slide"
    }
   },
   "source": [
    "Es una tabla de elementos (generalmente números), todos del mismo tipo, indexados por una tupla de enteros no negativos. En NumPy las dimensiones se denominan ejes."
   ]
  },
  {
   "cell_type": "markdown",
   "id": "0803a75b",
   "metadata": {
    "slideshow": {
     "slide_type": "slide"
    }
   },
   "source": [
    "Por ejemplo, las coordenadas de un punto en el espacio 3D tienen un eje. "
   ]
  },
  {
   "cell_type": "markdown",
   "id": "665562ee",
   "metadata": {
    "slideshow": {
     "slide_type": "slide"
    }
   },
   "source": [
    "Ese eje tiene 3 elementos, por lo que decimos que tiene una longitud de 3. "
   ]
  },
  {
   "cell_type": "markdown",
   "id": "82b1f9f1",
   "metadata": {
    "slideshow": {
     "slide_type": "slide"
    }
   },
   "source": [
    "En el ejemplo que se muestra a continuación, la matriz tiene 2 ejes. "
   ]
  },
  {
   "cell_type": "markdown",
   "id": "85fa3a2c",
   "metadata": {
    "slideshow": {
     "slide_type": "slide"
    }
   },
   "source": [
    "El primer eje tiene una longitud de 2, el segundo eje tiene una longitud de 3."
   ]
  },
  {
   "cell_type": "code",
   "execution_count": 9,
   "id": "255b0a51",
   "metadata": {
    "slideshow": {
     "slide_type": "slide"
    }
   },
   "outputs": [
    {
     "data": {
      "text/plain": [
       "array([[1., 0., 0.],\n",
       "       [0., 1., 2.]])"
      ]
     },
     "execution_count": 9,
     "metadata": {},
     "output_type": "execute_result"
    }
   ],
   "source": [
    "np.array([[1., 0., 0.],\n",
    " [0., 1., 2.]]) "
   ]
  },
  {
   "cell_type": "markdown",
   "id": "a5981310",
   "metadata": {
    "slideshow": {
     "slide_type": "slide"
    }
   },
   "source": [
    "La clase de matriz de NumPy se llama ndarray\n",
    "\n",
    "También se le conoce por el alias arraynumpy\n",
    "\n",
    "Tenga en cuenta que no es lo mismo que la clase Standard Python Library, que solo maneja matrices unidimensionales y ofrece menos funcionalidad. Los atributos más importantes de un objeto son:"
   ]
  },
  {
   "cell_type": "markdown",
   "id": "a2bbde60",
   "metadata": {
    "slideshow": {
     "slide_type": "slide"
    }
   },
   "source": [
    "ndarray.ndim  \n",
    "el número de ejes (dimensiones) de la matriz."
   ]
  },
  {
   "cell_type": "markdown",
   "id": "e343d870",
   "metadata": {
    "slideshow": {
     "slide_type": "slide"
    }
   },
   "source": [
    "ndarray.shape    \n",
    "las dimensiones de la matriz. Esta es una tupla de enteros que indica el tamaño de la matriz en cada dimensión. Para una matriz con n filas y m columnas, será `.shape(n,m)` La longitud de la tupla es, por lo tanto, el número de ejes, "
   ]
  },
  {
   "cell_type": "markdown",
   "id": "47f94a45",
   "metadata": {
    "slideshow": {
     "slide_type": "slide"
    }
   },
   "source": [
    "ndarray.size\n",
    "el número total de elementos de la matriz. Esto es igual al producto de los elementos de .shape"
   ]
  },
  {
   "cell_type": "markdown",
   "id": "009c8a54",
   "metadata": {
    "slideshow": {
     "slide_type": "slide"
    }
   },
   "source": [
    "ndarray.dtype\n",
    "un objeto que describe el tipo de elementos de la matriz. Uno puede crear o especificar dtype's usando tipos estándar de Python. Además, NumPy proporciona tipos propios. numpy.int32, numpy.int16 y numpy.float64 son algunos ejemplos."
   ]
  },
  {
   "cell_type": "markdown",
   "id": "20936918",
   "metadata": {
    "slideshow": {
     "slide_type": "slide"
    }
   },
   "source": [
    "ndarray.itemsize\n",
    "el tamaño en bytes de cada elemento de la matriz. Por ejemplo, una matriz de elementos de tipo tiene 8 (=64/8), mientras que una de tipo tiene 4 (=32/8). Es equivalente a .float64itemsizecomplex32itemsizendarray.dtype.itemsize"
   ]
  },
  {
   "cell_type": "markdown",
   "id": "40b5c3ac",
   "metadata": {
    "slideshow": {
     "slide_type": "slide"
    }
   },
   "source": [
    "ndarray.data\n",
    "el búfer que contiene los elementos reales de la matriz. Normalmente, no necesitaremos usar este atributo porque accederemos a los elementos de una matriz utilizando las instalaciones de indexación."
   ]
  },
  {
   "cell_type": "markdown",
   "id": "5af6e52a",
   "metadata": {
    "slideshow": {
     "slide_type": "slide"
    }
   },
   "source": [
    "Un ejemplo"
   ]
  },
  {
   "cell_type": "code",
   "execution_count": 10,
   "id": "1ddd15f6",
   "metadata": {
    "slideshow": {
     "slide_type": "slide"
    }
   },
   "outputs": [
    {
     "data": {
      "text/plain": [
       "array([[ 0,  1,  2,  3,  4],\n",
       "       [ 5,  6,  7,  8,  9],\n",
       "       [10, 11, 12, 13, 14]])"
      ]
     },
     "execution_count": 10,
     "metadata": {},
     "output_type": "execute_result"
    }
   ],
   "source": [
    "import numpy as np\n",
    "a = np.arange(15).reshape(3, 5)\n",
    "a"
   ]
  },
  {
   "cell_type": "code",
   "execution_count": 11,
   "id": "dbf1d5bb",
   "metadata": {
    "slideshow": {
     "slide_type": "slide"
    }
   },
   "outputs": [
    {
     "data": {
      "text/plain": [
       "(3, 5)"
      ]
     },
     "execution_count": 11,
     "metadata": {},
     "output_type": "execute_result"
    }
   ],
   "source": [
    "a.shape"
   ]
  },
  {
   "cell_type": "code",
   "execution_count": null,
   "id": "0f7ffbb5",
   "metadata": {
    "slideshow": {
     "slide_type": "slide"
    }
   },
   "outputs": [],
   "source": [
    "a.ndim"
   ]
  },
  {
   "cell_type": "code",
   "execution_count": 12,
   "id": "72be4ec3",
   "metadata": {
    "slideshow": {
     "slide_type": "slide"
    }
   },
   "outputs": [
    {
     "data": {
      "text/plain": [
       "'int32'"
      ]
     },
     "execution_count": 12,
     "metadata": {},
     "output_type": "execute_result"
    }
   ],
   "source": [
    "a.dtype.name"
   ]
  },
  {
   "cell_type": "code",
   "execution_count": 18,
   "id": "8db29713",
   "metadata": {},
   "outputs": [
    {
     "data": {
      "text/plain": [
       "<function ndarray.item>"
      ]
     },
     "execution_count": 18,
     "metadata": {},
     "output_type": "execute_result"
    }
   ],
   "source": [
    "a.item "
   ]
  },
  {
   "cell_type": "code",
   "execution_count": 19,
   "id": "61599700",
   "metadata": {
    "slideshow": {
     "slide_type": "slide"
    }
   },
   "outputs": [
    {
     "data": {
      "text/plain": [
       "4"
      ]
     },
     "execution_count": 19,
     "metadata": {},
     "output_type": "execute_result"
    }
   ],
   "source": [
    "a.itemsize     # retorna el tamaño de cada elemento en bytes "
   ]
  },
  {
   "cell_type": "code",
   "execution_count": 14,
   "id": "3c7dba4d",
   "metadata": {
    "slideshow": {
     "slide_type": "slide"
    }
   },
   "outputs": [
    {
     "data": {
      "text/plain": [
       "15"
      ]
     },
     "execution_count": 14,
     "metadata": {},
     "output_type": "execute_result"
    }
   ],
   "source": [
    "a.size"
   ]
  },
  {
   "cell_type": "code",
   "execution_count": 15,
   "id": "193f757b",
   "metadata": {
    "slideshow": {
     "slide_type": "slide"
    }
   },
   "outputs": [
    {
     "data": {
      "text/plain": [
       "numpy.ndarray"
      ]
     },
     "execution_count": 15,
     "metadata": {},
     "output_type": "execute_result"
    }
   ],
   "source": [
    "type(a)"
   ]
  },
  {
   "cell_type": "code",
   "execution_count": 20,
   "id": "c30374a9",
   "metadata": {
    "slideshow": {
     "slide_type": "slide"
    }
   },
   "outputs": [
    {
     "data": {
      "text/plain": [
       "array([6, 7, 8])"
      ]
     },
     "execution_count": 20,
     "metadata": {},
     "output_type": "execute_result"
    }
   ],
   "source": [
    "b = np.array([6, 7, 8])\n",
    "b"
   ]
  },
  {
   "cell_type": "code",
   "execution_count": 21,
   "id": "0262beee",
   "metadata": {
    "slideshow": {
     "slide_type": "slide"
    }
   },
   "outputs": [
    {
     "data": {
      "text/plain": [
       "numpy.ndarray"
      ]
     },
     "execution_count": 21,
     "metadata": {},
     "output_type": "execute_result"
    }
   ],
   "source": [
    "type(b)\n"
   ]
  },
  {
   "cell_type": "markdown",
   "id": "d9d1fc59",
   "metadata": {
    "slideshow": {
     "slide_type": "slide"
    }
   },
   "source": [
    "## Creación de matrices o arreglos de numpy"
   ]
  },
  {
   "cell_type": "markdown",
   "id": "a519a68d",
   "metadata": {
    "slideshow": {
     "slide_type": "slide"
    }
   },
   "source": [
    "Hay varias formas de crear matrices."
   ]
  },
  {
   "cell_type": "markdown",
   "id": "0d43e722",
   "metadata": {
    "slideshow": {
     "slide_type": "slide"
    }
   },
   "source": [
    "Por ejemplo, puede crear una matriz a partir de una **lista o tupla** normal de Python utilizando la función .array "
   ]
  },
  {
   "cell_type": "markdown",
   "id": "9f80eca4",
   "metadata": {
    "slideshow": {
     "slide_type": "slide"
    }
   },
   "source": [
    "El tipo de matriz resultante se deduce del tipo de elementos en las secuencias"
   ]
  },
  {
   "cell_type": "code",
   "execution_count": 22,
   "id": "04b56f0a",
   "metadata": {
    "slideshow": {
     "slide_type": "slide"
    }
   },
   "outputs": [],
   "source": [
    "import numpy as np"
   ]
  },
  {
   "cell_type": "code",
   "execution_count": 23,
   "id": "2f36b69e",
   "metadata": {
    "slideshow": {
     "slide_type": "slide"
    }
   },
   "outputs": [],
   "source": [
    "a = np.array((2, 3, 4)) # matriz a partir de una tupla "
   ]
  },
  {
   "cell_type": "code",
   "execution_count": 24,
   "id": "ed79aa17",
   "metadata": {
    "slideshow": {
     "slide_type": "slide"
    }
   },
   "outputs": [
    {
     "data": {
      "text/plain": [
       "array([2, 3, 4])"
      ]
     },
     "execution_count": 24,
     "metadata": {},
     "output_type": "execute_result"
    }
   ],
   "source": [
    "a"
   ]
  },
  {
   "cell_type": "code",
   "execution_count": 26,
   "id": "e0b13617",
   "metadata": {
    "slideshow": {
     "slide_type": "slide"
    }
   },
   "outputs": [
    {
     "data": {
      "text/plain": [
       "dtype('int32')"
      ]
     },
     "execution_count": 26,
     "metadata": {},
     "output_type": "execute_result"
    }
   ],
   "source": [
    "a.dtype"
   ]
  },
  {
   "cell_type": "code",
   "execution_count": 27,
   "id": "59d3c59b",
   "metadata": {
    "slideshow": {
     "slide_type": "slide"
    }
   },
   "outputs": [],
   "source": [
    "b = np.array([1.2, 3.5, 5.1])     # matriz a partir de una lista "
   ]
  },
  {
   "cell_type": "code",
   "execution_count": 28,
   "id": "9455d8a3",
   "metadata": {
    "slideshow": {
     "slide_type": "slide"
    }
   },
   "outputs": [
    {
     "data": {
      "text/plain": [
       "dtype('float64')"
      ]
     },
     "execution_count": 28,
     "metadata": {},
     "output_type": "execute_result"
    }
   ],
   "source": [
    "b.dtype"
   ]
  },
  {
   "cell_type": "markdown",
   "id": "4f5daf05",
   "metadata": {},
   "source": [
    "Un error frecuente consiste en llamar con múltiples argumentos, en lugar de proporcionar una sola secuencia como argumento.array"
   ]
  },
  {
   "cell_type": "code",
   "execution_count": 29,
   "id": "15fc5c92",
   "metadata": {},
   "outputs": [
    {
     "ename": "TypeError",
     "evalue": "array() takes from 1 to 2 positional arguments but 4 were given",
     "output_type": "error",
     "traceback": [
      "\u001b[1;31m---------------------------------------------------------------------------\u001b[0m",
      "\u001b[1;31mTypeError\u001b[0m                                 Traceback (most recent call last)",
      "\u001b[1;32m<ipython-input-29-56595bfbefd8>\u001b[0m in \u001b[0;36m<module>\u001b[1;34m\u001b[0m\n\u001b[1;32m----> 1\u001b[1;33m \u001b[0ma\u001b[0m \u001b[1;33m=\u001b[0m \u001b[0mnp\u001b[0m\u001b[1;33m.\u001b[0m\u001b[0marray\u001b[0m\u001b[1;33m(\u001b[0m\u001b[1;36m1\u001b[0m\u001b[1;33m,\u001b[0m \u001b[1;36m2\u001b[0m\u001b[1;33m,\u001b[0m \u001b[1;36m3\u001b[0m\u001b[1;33m,\u001b[0m \u001b[1;36m4\u001b[0m\u001b[1;33m)\u001b[0m    \u001b[1;31m# WRONG\u001b[0m\u001b[1;33m\u001b[0m\u001b[1;33m\u001b[0m\u001b[0m\n\u001b[0m",
      "\u001b[1;31mTypeError\u001b[0m: array() takes from 1 to 2 positional arguments but 4 were given"
     ]
    }
   ],
   "source": [
    ">>> a = np.array(1, 2, 3, 4)    # WRONG"
   ]
  },
  {
   "cell_type": "code",
   "execution_count": 30,
   "id": "63634bc2",
   "metadata": {},
   "outputs": [],
   "source": [
    "a = np.array([1, 2, 3, 4])  # RIGHT"
   ]
  },
  {
   "cell_type": "markdown",
   "id": "04c26ffc",
   "metadata": {
    "slideshow": {
     "slide_type": "slide"
    }
   },
   "source": [
    "`array` transforma secuencias de secuencias en matrices bidimensionales, secuencias de secuencias de secuencias en matrices tridimensionales, etc."
   ]
  },
  {
   "cell_type": "code",
   "execution_count": 31,
   "id": "3e21af49",
   "metadata": {
    "slideshow": {
     "slide_type": "slide"
    }
   },
   "outputs": [
    {
     "data": {
      "text/plain": [
       "array([[1.5, 2. , 3. ],\n",
       "       [4. , 5. , 6. ]])"
      ]
     },
     "execution_count": 31,
     "metadata": {},
     "output_type": "execute_result"
    }
   ],
   "source": [
    "b = np.array([(1.5, 2, 3), (4, 5, 6)])\n",
    "b"
   ]
  },
  {
   "cell_type": "markdown",
   "id": "2f38060d",
   "metadata": {
    "slideshow": {
     "slide_type": "slide"
    }
   },
   "source": [
    "El tipo de matriz también se puede especificar explícitamente en el momento de la creación:"
   ]
  },
  {
   "cell_type": "code",
   "execution_count": 32,
   "id": "2369cba9",
   "metadata": {
    "slideshow": {
     "slide_type": "slide"
    }
   },
   "outputs": [
    {
     "data": {
      "text/plain": [
       "array([[1.+0.j, 2.+0.j],\n",
       "       [3.+0.j, 4.+0.j]])"
      ]
     },
     "execution_count": 32,
     "metadata": {},
     "output_type": "execute_result"
    }
   ],
   "source": [
    "c = np.array([[1, 2], [3, 4]], dtype=complex)\n",
    "c"
   ]
  },
  {
   "cell_type": "markdown",
   "id": "f16b83e4",
   "metadata": {
    "slideshow": {
     "slide_type": "slide"
    }
   },
   "source": [
    "A menudo, los elementos de una matriz son originalmente desconocidos, pero se conoce su tamaño. "
   ]
  },
  {
   "cell_type": "markdown",
   "id": "937e9cf7",
   "metadata": {
    "slideshow": {
     "slide_type": "slide"
    }
   },
   "source": [
    "Por lo tanto, NumPy ofrece varias funciones para crear matrices con contenido de marcador de posición inicial. "
   ]
  },
  {
   "cell_type": "markdown",
   "id": "5e6d8eb1",
   "metadata": {
    "slideshow": {
     "slide_type": "slide"
    }
   },
   "source": [
    "Estos minimizan la necesidad de matrices en crecimiento, una operación costosa."
   ]
  },
  {
   "cell_type": "markdown",
   "id": "6a1305ed",
   "metadata": {
    "slideshow": {
     "slide_type": "slide"
    }
   },
   "source": [
    "La función `np.zeros()`crea una matriz llena de ceros, \n",
    "* la función `np.ones()` crea una matriz llena de unos y \n",
    "* la función `np.empty()` crea una matriz cuyo contenido inicial es aleatorio y depende del estado de la memoria. "
   ]
  },
  {
   "cell_type": "markdown",
   "id": "2d11ce5a",
   "metadata": {
    "slideshow": {
     "slide_type": "slide"
    }
   },
   "source": [
    "De forma predeterminada, el tipo d de la matriz creada es float64, pero se puede especificar mediante el argumento de la palabra clave .zerosonesempty"
   ]
  },
  {
   "cell_type": "code",
   "execution_count": 33,
   "id": "94af49ae",
   "metadata": {
    "slideshow": {
     "slide_type": "slide"
    }
   },
   "outputs": [
    {
     "data": {
      "text/plain": [
       "array([[0., 0., 0., 0.],\n",
       "       [0., 0., 0., 0.],\n",
       "       [0., 0., 0., 0.]])"
      ]
     },
     "execution_count": 33,
     "metadata": {},
     "output_type": "execute_result"
    }
   ],
   "source": [
    "np.zeros((3, 4))"
   ]
  },
  {
   "cell_type": "code",
   "execution_count": null,
   "id": "4cdb9eca",
   "metadata": {
    "slideshow": {
     "slide_type": "slide"
    }
   },
   "outputs": [],
   "source": [
    "np.ones((2, 3, 4), dtype=np.int16)"
   ]
  },
  {
   "cell_type": "code",
   "execution_count": null,
   "id": "faf7948c",
   "metadata": {
    "slideshow": {
     "slide_type": "slide"
    }
   },
   "outputs": [],
   "source": [
    "np.empty((2, 3))\n",
    "array([[3.73603959e-262, 6.02658058e-154, 6.55490914e-260],  # may vary\n",
    "       [5.30498948e-313, 3.14673309e-307, 1.00000000e+000]])"
   ]
  },
  {
   "cell_type": "markdown",
   "id": "f59bec33",
   "metadata": {},
   "source": [
    "Para crear secuencias de números, NumPy proporciona la función `matriz.arange` que es análoga a la función integrada `range()` de Python, pero devuelve una matriz. "
   ]
  },
  {
   "cell_type": "code",
   "execution_count": 34,
   "id": "c6ca4ecf",
   "metadata": {},
   "outputs": [
    {
     "data": {
      "text/plain": [
       "array([10, 15, 20, 25])"
      ]
     },
     "execution_count": 34,
     "metadata": {},
     "output_type": "execute_result"
    }
   ],
   "source": [
    "np.arange(10, 30, 5)"
   ]
  },
  {
   "cell_type": "code",
   "execution_count": 35,
   "id": "a82150da",
   "metadata": {
    "slideshow": {
     "slide_type": "slide"
    }
   },
   "outputs": [
    {
     "data": {
      "text/plain": [
       "array([0. , 0.3, 0.6, 0.9, 1.2, 1.5, 1.8])"
      ]
     },
     "execution_count": 35,
     "metadata": {},
     "output_type": "execute_result"
    }
   ],
   "source": [
    "np.arange(0, 2, 0.3)     # it accepts float arguments\n"
   ]
  },
  {
   "cell_type": "markdown",
   "id": "e3701856",
   "metadata": {
    "slideshow": {
     "slide_type": "slide"
    }
   },
   "source": [
    "Cuando se utiliza `arange` con argumentos de coma flotante, generalmente no es posible predecir el número de elementos obtenidos, debido a la precisión finita de coma flotante. "
   ]
  },
  {
   "cell_type": "markdown",
   "id": "c3405fd8",
   "metadata": {
    "slideshow": {
     "slide_type": "slide"
    }
   },
   "source": [
    "Por este motivo, suele ser mejor utilizar la función `linspace` que recibe como argumento el número de elementos que queremos, en lugar del paso:"
   ]
  },
  {
   "cell_type": "code",
   "execution_count": 36,
   "id": "0af68288",
   "metadata": {
    "slideshow": {
     "slide_type": "slide"
    }
   },
   "outputs": [],
   "source": [
    "from numpy import pi"
   ]
  },
  {
   "cell_type": "code",
   "execution_count": 37,
   "id": "93e81c00",
   "metadata": {
    "slideshow": {
     "slide_type": "slide"
    }
   },
   "outputs": [
    {
     "data": {
      "text/plain": [
       "array([0.  , 0.25, 0.5 , 0.75, 1.  , 1.25, 1.5 , 1.75, 2.  ])"
      ]
     },
     "execution_count": 37,
     "metadata": {},
     "output_type": "execute_result"
    }
   ],
   "source": [
    "np.linspace(0, 2, 9)                   # 9 numbers from 0 to 2"
   ]
  },
  {
   "cell_type": "code",
   "execution_count": 38,
   "id": "8ed9e73b",
   "metadata": {
    "slideshow": {
     "slide_type": "slide"
    }
   },
   "outputs": [],
   "source": [
    "x = np.linspace(0, 2 * pi, 100)        # useful to evaluate function at lots of points\n",
    "f = np.sin(x)"
   ]
  },
  {
   "cell_type": "markdown",
   "id": "ec5ea145",
   "metadata": {
    "slideshow": {
     "slide_type": "slide"
    }
   },
   "source": [
    "## Presentación de las Matrices "
   ]
  },
  {
   "cell_type": "markdown",
   "id": "0b6edfe2",
   "metadata": {
    "slideshow": {
     "slide_type": "slide"
    }
   },
   "source": [
    "Al imprimir una matriz, NumPy la muestra de manera similar a las listas anidadas, pero con el siguiente diseño:\n",
    "\n",
    "el último eje se imprime de izquierda a derecha,\n",
    "\n",
    "el penúltimo se imprime de arriba a abajo,\n",
    "\n",
    "el resto también se imprimen de arriba a abajo, con cada rebanada separada de la siguiente por una línea vacía.\n",
    "\n",
    "Las matrices unidimensionales se imprimen como filas, las bidimensionales como matrices y las tridimensionales como listas de matrices."
   ]
  },
  {
   "cell_type": "code",
   "execution_count": 39,
   "id": "b9403c04",
   "metadata": {
    "slideshow": {
     "slide_type": "slide"
    }
   },
   "outputs": [],
   "source": [
    "a = np.arange(6)  "
   ]
  },
  {
   "cell_type": "code",
   "execution_count": 40,
   "id": "0ab899fa",
   "metadata": {
    "slideshow": {
     "slide_type": "slide"
    }
   },
   "outputs": [
    {
     "name": "stdout",
     "output_type": "stream",
     "text": [
      "[0 1 2 3 4 5]\n"
     ]
    }
   ],
   "source": [
    "                  # 1d array\n",
    "print(a)"
   ]
  },
  {
   "cell_type": "code",
   "execution_count": 41,
   "id": "dcb1cd7e",
   "metadata": {
    "slideshow": {
     "slide_type": "slide"
    }
   },
   "outputs": [
    {
     "name": "stdout",
     "output_type": "stream",
     "text": [
      "[[ 0  1  2]\n",
      " [ 3  4  5]\n",
      " [ 6  7  8]\n",
      " [ 9 10 11]]\n"
     ]
    }
   ],
   "source": [
    "b = np.arange(12).reshape(4, 3)     # 2d array\n",
    "print(b)"
   ]
  },
  {
   "cell_type": "code",
   "execution_count": 42,
   "id": "35cdf359",
   "metadata": {
    "slideshow": {
     "slide_type": "slide"
    }
   },
   "outputs": [
    {
     "name": "stdout",
     "output_type": "stream",
     "text": [
      "[[[ 0  1  2  3]\n",
      "  [ 4  5  6  7]\n",
      "  [ 8  9 10 11]]\n",
      "\n",
      " [[12 13 14 15]\n",
      "  [16 17 18 19]\n",
      "  [20 21 22 23]]]\n"
     ]
    }
   ],
   "source": [
    "c = np.arange(24).reshape(2, 3, 4)  # 3d array\n",
    "print(c)"
   ]
  },
  {
   "cell_type": "markdown",
   "id": "051647d2",
   "metadata": {
    "slideshow": {
     "slide_type": "slide"
    }
   },
   "source": [
    "Consulte a continuación para obtener más detalles sobre `.reshape()`\n",
    "\n",
    "Si una matriz es demasiado grande para ser impresa, NumPy omite automáticamente la parte central de la matriz y solo imprime las esquinas:"
   ]
  },
  {
   "cell_type": "code",
   "execution_count": 43,
   "id": "a30279d6",
   "metadata": {
    "slideshow": {
     "slide_type": "slide"
    }
   },
   "outputs": [
    {
     "name": "stdout",
     "output_type": "stream",
     "text": [
      "[   0    1    2 ... 9997 9998 9999]\n"
     ]
    }
   ],
   "source": [
    "print(np.arange(10000))"
   ]
  },
  {
   "cell_type": "code",
   "execution_count": 44,
   "id": "25a9732e",
   "metadata": {
    "slideshow": {
     "slide_type": "slide"
    }
   },
   "outputs": [
    {
     "name": "stdout",
     "output_type": "stream",
     "text": [
      "[[   0    1    2 ...   97   98   99]\n",
      " [ 100  101  102 ...  197  198  199]\n",
      " [ 200  201  202 ...  297  298  299]\n",
      " ...\n",
      " [9700 9701 9702 ... 9797 9798 9799]\n",
      " [9800 9801 9802 ... 9897 9898 9899]\n",
      " [9900 9901 9902 ... 9997 9998 9999]]\n"
     ]
    }
   ],
   "source": [
    "print(np.arange(10000).reshape(100, 100))"
   ]
  },
  {
   "cell_type": "markdown",
   "id": "636490f4",
   "metadata": {
    "slideshow": {
     "slide_type": "slide"
    }
   },
   "source": [
    "## Operaciones básicas"
   ]
  },
  {
   "cell_type": "markdown",
   "id": "aadb20a3",
   "metadata": {
    "slideshow": {
     "slide_type": "slide"
    }
   },
   "source": [
    "Los operadores aritméticos en matrices se aplican elementalmente. Se crea una nueva matriz y se rellena con el resultado."
   ]
  },
  {
   "cell_type": "code",
   "execution_count": null,
   "id": "f8bf47c2",
   "metadata": {},
   "outputs": [],
   "source": []
  }
 ],
 "metadata": {
  "celltoolbar": "Slideshow",
  "kernelspec": {
   "display_name": "Python 3",
   "language": "python",
   "name": "python3"
  },
  "language_info": {
   "codemirror_mode": {
    "name": "ipython",
    "version": 3
   },
   "file_extension": ".py",
   "mimetype": "text/x-python",
   "name": "python",
   "nbconvert_exporter": "python",
   "pygments_lexer": "ipython3",
   "version": "3.8.8"
  },
  "latex_envs": {
   "LaTeX_envs_menu_present": true,
   "autoclose": false,
   "autocomplete": false,
   "bibliofile": "biblio.bib",
   "cite_by": "apalike",
   "current_citInitial": 1,
   "eqLabelWithNumbers": true,
   "eqNumInitial": 1,
   "hotkeys": {
    "equation": "Ctrl-E",
    "itemize": "Ctrl-I"
   },
   "labels_anchors": false,
   "latex_user_defs": false,
   "report_style_numbering": false,
   "user_envs_cfg": false
  }
 },
 "nbformat": 4,
 "nbformat_minor": 5
}
