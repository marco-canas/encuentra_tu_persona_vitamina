{
 "cells": [
  {
   "cell_type": "markdown",
   "id": "93eaa0c7",
   "metadata": {
    "slideshow": {
     "slide_type": "slide"
    }
   },
   "source": [
    "<table align=\"left\">\n",
    "  <td>\n",
    "    <a href=\"https://colab.research.google.com/github/marco-canas/introducci-n-al-Machine-Learning/blob/main/classes/class_1/class_1.ipynb\" target=\"_parent\"><img src=\"https://colab.research.google.com/assets/colab-badge.svg\" alt=\"Open In Colab\"/></a>\n",
    "  </td>\n",
    "  <td>\n",
    "    <a target=\"_blank\" href=\"https://kaggle.com/kernels/welcome?src=https://github.com/marco-canas/introducci-n-al-Machine-Learning/blob/main/classes/class_1/class_1.ipynb\"><img src=\"https://kaggle.com/static/images/open-in-kaggle.svg\" /></a>\n",
    "  </td>\n",
    "</table>\n"
   ]
  },
  {
   "cell_type": "markdown",
   "id": "e32d6811",
   "metadata": {
    "slideshow": {
     "slide_type": "slide"
    }
   },
   "source": [
    "# Class 1"
   ]
  },
  {
   "cell_type": "markdown",
   "id": "ed551aa6",
   "metadata": {
    "slideshow": {
     "slide_type": "slide"
    }
   },
   "source": [
    "## [Primer video de apoyo a la lectura](https://www.youtube.com/watch?v=iLiCS1gKKY4) "
   ]
  },
  {
   "cell_type": "markdown",
   "id": "f110196c",
   "metadata": {
    "slideshow": {
     "slide_type": "slide"
    }
   },
   "source": [
    "## Objetivos:\n",
    "\n",
    "Introducción a la programación con Python:\n",
    "\n",
    "Se hace reconocimiento de lógica de programación y sintaxis de Python, desde los inicios en tipos de datos y estructuras de control, hasta funciones y métodos sobre clases.\n"
   ]
  },
  {
   "cell_type": "markdown",
   "id": "0a346116",
   "metadata": {
    "slideshow": {
     "slide_type": "slide"
    }
   },
   "source": [
    "### [learnpython.org ](https://learnpython.org/)\n",
    "y la [Documentación oficial de Python](https://docs.python.org/3/tutorial/index.html)"
   ]
  },
  {
   "cell_type": "markdown",
   "id": "000b35ac",
   "metadata": {
    "slideshow": {
     "slide_type": "slide"
    }
   },
   "source": [
    "Aprende los conceptos básicos:\n",
    "* ¡Hola mundo!\n",
    "* Variables y tipos\n",
    "* Listas\n",
    "* Operadores básicos\n",
    "* Formato de cadena\n",
    "* Operaciones básicas de cadena\n",
    "* Condiciones\n",
    "* Bucles\n",
    "* Funciones\n",
    "* Clases y objetos\n",
    "* Diccionarios\n",
    "* Módulos y paquetes"
   ]
  },
  {
   "cell_type": "markdown",
   "id": "99f84c99",
   "metadata": {
    "slideshow": {
     "slide_type": "slide"
    }
   },
   "source": [
    "Tutoriales de ciencia de datos\n",
    "* Matrices Numpy\n",
    "* Conceptos básicos de Pandas"
   ]
  },
  {
   "cell_type": "markdown",
   "id": "a4db00e6",
   "metadata": {
    "slideshow": {
     "slide_type": "slide"
    }
   },
   "source": [
    "## Hola mundo "
   ]
  },
  {
   "cell_type": "markdown",
   "id": "fe0091a1",
   "metadata": {
    "slideshow": {
     "slide_type": "slide"
    }
   },
   "source": [
    "Las funciones en Python se invocan con paréntesis, por ejemplo:"
   ]
  },
  {
   "cell_type": "code",
   "execution_count": 3,
   "id": "75d91d76",
   "metadata": {
    "slideshow": {
     "slide_type": "slide"
    }
   },
   "outputs": [
    {
     "name": "stdout",
     "output_type": "stream",
     "text": [
      "¡Hola Mundo!\n"
     ]
    }
   ],
   "source": [
    "print('¡Hola Mundo!') "
   ]
  },
  {
   "cell_type": "markdown",
   "id": "5fbcfb3e",
   "metadata": {
    "slideshow": {
     "slide_type": "slide"
    }
   },
   "source": [
    "## Sangría\n",
    "\n",
    "Python usa sangría para bloques de código, en lugar de llaves. Se admiten también los espacios, pero la sangría estándar requiere que el código Python estándar use cuatro espacios. Por ejemplo:"
   ]
  },
  {
   "cell_type": "code",
   "execution_count": 5,
   "id": "f871240f",
   "metadata": {
    "slideshow": {
     "slide_type": "slide"
    }
   },
   "outputs": [],
   "source": [
    "x = 2\n",
    "if x==1:\n",
    "    print('x es uno')"
   ]
  },
  {
   "cell_type": "markdown",
   "id": "d96214c3",
   "metadata": {
    "slideshow": {
     "slide_type": "slide"
    }
   },
   "source": [
    "### Ejercicio\n",
    "\n",
    "Utilice la función `print()` para darle un saludo a tus compañeros de clase: \n"
   ]
  },
  {
   "cell_type": "code",
   "execution_count": 6,
   "id": "43ef39dc",
   "metadata": {
    "slideshow": {
     "slide_type": "slide"
    }
   },
   "outputs": [
    {
     "name": "stdout",
     "output_type": "stream",
     "text": [
      "Buenas noches compañeros de clase, Mi nombre es Marco\n"
     ]
    }
   ],
   "source": [
    "print('Buenas noches compañeros de clase, Mi nombre es Marco')"
   ]
  },
  {
   "cell_type": "markdown",
   "id": "bbbbee24",
   "metadata": {
    "slideshow": {
     "slide_type": "slide"
    }
   },
   "source": [
    "## Variables y tipos"
   ]
  },
  {
   "cell_type": "markdown",
   "id": "c30085c9",
   "metadata": {
    "slideshow": {
     "slide_type": "slide"
    }
   },
   "source": [
    "## [Segundo video de apoyo]() "
   ]
  },
  {
   "cell_type": "markdown",
   "id": "3c7485df",
   "metadata": {
    "slideshow": {
     "slide_type": "slide"
    }
   },
   "source": [
    "Python está completamente orientado a objetos. No es necesario declarar variables antes de utilizarlas ni declarar su tipo. Cada variable en Python es un objeto.\n",
    "\n",
    "Veamos algunos tipos básicos de variables."
   ]
  },
  {
   "cell_type": "markdown",
   "id": "fa03d05a",
   "metadata": {
    "slideshow": {
     "slide_type": "slide"
    }
   },
   "source": [
    "### Números"
   ]
  },
  {
   "cell_type": "markdown",
   "id": "5bb9bf54",
   "metadata": {
    "slideshow": {
     "slide_type": "slide"
    }
   },
   "source": [
    "Python admite dos tipos de números: \n",
    "* De tipo `int` (números enteros) y \n",
    "* números de coma flotante (decimales). \n",
    "* (También admite números complejos).\n",
    "\n",
    "Para definir un entero, utilice la sintaxis siguiente:"
   ]
  },
  {
   "cell_type": "code",
   "execution_count": null,
   "id": "f496601e",
   "metadata": {
    "slideshow": {
     "slide_type": "slide"
    }
   },
   "outputs": [],
   "source": [
    "entero=7\n",
    "print(entero)"
   ]
  },
  {
   "cell_type": "code",
   "execution_count": null,
   "id": "9f40c105",
   "metadata": {
    "slideshow": {
     "slide_type": "slide"
    }
   },
   "outputs": [],
   "source": [
    "type(entero)"
   ]
  },
  {
   "cell_type": "markdown",
   "id": "365f62f9",
   "metadata": {
    "slideshow": {
     "slide_type": "slide"
    }
   },
   "source": [
    "Para definir un número de coma flotante, puede utilizar una de las siguientes notaciones:"
   ]
  },
  {
   "cell_type": "code",
   "execution_count": null,
   "id": "344e2b7e",
   "metadata": {
    "slideshow": {
     "slide_type": "slide"
    }
   },
   "outputs": [],
   "source": [
    "my_float = 7.0\n",
    "print(my_float)"
   ]
  },
  {
   "cell_type": "code",
   "execution_count": null,
   "id": "375174a6",
   "metadata": {
    "slideshow": {
     "slide_type": "slide"
    }
   },
   "outputs": [],
   "source": [
    "type(7)"
   ]
  },
  {
   "cell_type": "code",
   "execution_count": null,
   "id": "ff265ae0",
   "metadata": {
    "slideshow": {
     "slide_type": "slide"
    }
   },
   "outputs": [],
   "source": [
    "f = float(7)"
   ]
  },
  {
   "cell_type": "code",
   "execution_count": null,
   "id": "b3ec6e04",
   "metadata": {
    "slideshow": {
     "slide_type": "slide"
    }
   },
   "outputs": [],
   "source": [
    "type(f)"
   ]
  },
  {
   "cell_type": "markdown",
   "id": "29354a39",
   "metadata": {
    "slideshow": {
     "slide_type": "slide"
    }
   },
   "source": [
    "## Strings"
   ]
  },
  {
   "cell_type": "markdown",
   "id": "a11826a5",
   "metadata": {
    "slideshow": {
     "slide_type": "slide"
    }
   },
   "source": [
    "Strings are defined either with a single quote or a double quotes."
   ]
  },
  {
   "cell_type": "code",
   "execution_count": null,
   "id": "3e42b7df",
   "metadata": {
    "slideshow": {
     "slide_type": "slide"
    }
   },
   "outputs": [],
   "source": [
    "mystring = 'hello'\n",
    "print(mystring)\n",
    "mystring = \"hello\"\n",
    "print(mystring)"
   ]
  },
  {
   "cell_type": "markdown",
   "id": "6a2cd79e",
   "metadata": {
    "slideshow": {
     "slide_type": "slide"
    }
   },
   "source": [
    "La diferencia entre los dos es que el uso de comillas dobles facilita la inclusión de apóstrofos (mientras que estos terminarían la cadena si se usan comillas simples)"
   ]
  },
  {
   "cell_type": "code",
   "execution_count": null,
   "id": "1840a442",
   "metadata": {
    "slideshow": {
     "slide_type": "slide"
    }
   },
   "outputs": [],
   "source": [
    "mystring = \"Don't worry about aportrophes\"\n",
    "print(mystring)"
   ]
  },
  {
   "cell_type": "markdown",
   "id": "b78bc3d7",
   "metadata": {
    "slideshow": {
     "slide_type": "slide"
    }
   },
   "source": [
    "Hay variaciones adicionales en la definición de cadenas que facilitan la inclusión de elementos como retornos de carro, barra diagonal inversa y caracteres Unicode. Estos están más allá del alcance de este tutorial, pero se tratan en la [documentación de Python](https://docs.python.org/3/tutorial/introduction.html#strings) sobre `string`.\n",
    "\n",
    "Los operadores simples se pueden ejecutar en números y cadenas:"
   ]
  },
  {
   "cell_type": "code",
   "execution_count": null,
   "id": "aa4eb5a7",
   "metadata": {
    "slideshow": {
     "slide_type": "slide"
    }
   },
   "outputs": [],
   "source": [
    "a = 1 \n",
    "b = 2\n",
    "c = a+b\n",
    "c "
   ]
  },
  {
   "cell_type": "code",
   "execution_count": null,
   "id": "b09734b3",
   "metadata": {
    "slideshow": {
     "slide_type": "slide"
    }
   },
   "outputs": [],
   "source": [
    "a = 'uno'\n",
    "b = 'dos'\n",
    "c = a + ' más ' + b\n",
    "c "
   ]
  },
  {
   "cell_type": "code",
   "execution_count": null,
   "id": "60d22eaa",
   "metadata": {
    "slideshow": {
     "slide_type": "slide"
    }
   },
   "outputs": [],
   "source": [
    "'spam eggs'  # single quotes"
   ]
  },
  {
   "cell_type": "code",
   "execution_count": null,
   "id": "5907c927",
   "metadata": {
    "slideshow": {
     "slide_type": "slide"
    }
   },
   "outputs": [],
   "source": [
    "'doesn\\'t'  # use \\' to escape the single quote..."
   ]
  },
  {
   "cell_type": "code",
   "execution_count": null,
   "id": "852cb3fe",
   "metadata": {
    "slideshow": {
     "slide_type": "slide"
    }
   },
   "outputs": [],
   "source": [
    "\"doesn't\"  # ...or use double quotes instead"
   ]
  },
  {
   "cell_type": "code",
   "execution_count": null,
   "id": "596852fd",
   "metadata": {
    "slideshow": {
     "slide_type": "slide"
    }
   },
   "outputs": [],
   "source": [
    "'\"Yes,\" they said.'"
   ]
  },
  {
   "cell_type": "code",
   "execution_count": null,
   "id": "776ed979",
   "metadata": {
    "slideshow": {
     "slide_type": "slide"
    }
   },
   "outputs": [],
   "source": [
    "\"\\\"Yes,\\\" they said.\""
   ]
  },
  {
   "cell_type": "code",
   "execution_count": null,
   "id": "00d2f168",
   "metadata": {
    "slideshow": {
     "slide_type": "slide"
    }
   },
   "outputs": [],
   "source": [
    "'\"Isn\\'t,\" they said.'\n"
   ]
  },
  {
   "cell_type": "markdown",
   "id": "a1b3bc9f",
   "metadata": {
    "slideshow": {
     "slide_type": "slide"
    }
   },
   "source": [
    "Las asignaciones se pueden realizar en más de una variable \"simultáneamente\" en la misma línea como esta"
   ]
  },
  {
   "cell_type": "code",
   "execution_count": null,
   "id": "e97a196e",
   "metadata": {
    "slideshow": {
     "slide_type": "slide"
    }
   },
   "outputs": [],
   "source": [
    "a, b = 3, 4\n",
    "print(a, b)"
   ]
  },
  {
   "cell_type": "markdown",
   "id": "514f205b",
   "metadata": {
    "slideshow": {
     "slide_type": "slide"
    }
   },
   "source": [
    "No se admite la mezcla de operadores entre números y cadenas:"
   ]
  },
  {
   "cell_type": "code",
   "execution_count": null,
   "id": "6c3212ae",
   "metadata": {
    "slideshow": {
     "slide_type": "slide"
    }
   },
   "outputs": [],
   "source": [
    "# This will not work!\n",
    "one = 1\n",
    "two = 2\n",
    "hello = \"hello\"\n",
    "\n",
    "print(one + two + hello)"
   ]
  },
  {
   "cell_type": "markdown",
   "id": "1a677a5e",
   "metadata": {
    "slideshow": {
     "slide_type": "slide"
    }
   },
   "source": [
    "## Ejercicio"
   ]
  },
  {
   "cell_type": "markdown",
   "id": "b0211100",
   "metadata": {
    "slideshow": {
     "slide_type": "slide"
    }
   },
   "source": [
    "El objetivo de este ejercicio es crear una cadena, un entero y un número de coma flotante. La cadena debe tener nombre y debe contener la palabra \"hola\". El número de coma flotante debe tener un nombre y debe contener el número 10.0, y el entero debe tener el nombre y el número 20.mystringmyfloatmyint"
   ]
  },
  {
   "cell_type": "code",
   "execution_count": null,
   "id": "109e7e10",
   "metadata": {
    "slideshow": {
     "slide_type": "slide"
    }
   },
   "outputs": [],
   "source": [
    "# change this code\n",
    "mystring = 'Hola' \n",
    "myfloat = None\n",
    "myint = None\n",
    "\n",
    "# testing code\n",
    "if mystring == \"Hola\":\n",
    "    print(\"String: %s\" % mystring)\n",
    "if isinstance(myfloat, float) and myfloat == 10.0:\n",
    "    print(\"Float: %f\" % myfloat)\n",
    "if isinstance(myint,int) and myint == 20:\n",
    "    print(\"Integer: %d\" % myint)"
   ]
  },
  {
   "cell_type": "code",
   "execution_count": null,
   "id": "31e55e0e",
   "metadata": {
    "slideshow": {
     "slide_type": "slide"
    }
   },
   "outputs": [],
   "source": []
  },
  {
   "cell_type": "markdown",
   "id": "0430a010",
   "metadata": {
    "slideshow": {
     "slide_type": "slide"
    }
   },
   "source": [
    "## Matemáticas necesarias para análisis de datos:  \n",
    "\n",
    "Estudiamos el lenguaje matricial necesario para entender teoremas de descomposición vitales en procesos de aproximación. Se hace énfasis en método de mínimos cuadrados para luego generalizar y aplicar en problemas de ajuste de datos, clasificación, multi- objetivo y optimización lineal dotada de constricciones"
   ]
  },
  {
   "cell_type": "markdown",
   "id": "832dae9d",
   "metadata": {
    "slideshow": {
     "slide_type": "slide"
    }
   },
   "source": [
    "## El problema del Aprendizaje Supervisado:  "
   ]
  },
  {
   "cell_type": "markdown",
   "id": "64c35262",
   "metadata": {
    "slideshow": {
     "slide_type": "slide"
    }
   },
   "source": [
    "Aquí se introduce la notación y se procura dar una justificación de cada una de las componentes clásicas del modelo de aprendizaje supervisado tales como función objetivo, conjunto de entrenamiento, algoritmo de aprendizaje, clases de hipótesis, medida del error y predictor. El énfasis estará en reconocer que es posible hablar de aprendizaje de datos, pero en un sentido probabilístico.   "
   ]
  },
  {
   "cell_type": "markdown",
   "id": "60d66438",
   "metadata": {
    "slideshow": {
     "slide_type": "slide"
    }
   },
   "source": [
    "## Entrenamiento y testeo:  "
   ]
  },
  {
   "cell_type": "markdown",
   "id": "081bab16",
   "metadata": {
    "slideshow": {
     "slide_type": "slide"
    }
   },
   "source": [
    "Se propone estudiar la difícil relación de equilibrio que se debe tener entre aproximación y generalización. El énfasis estará en reconocer el papel fundamental de las clases de hipótesis y la tarea delicada de conseguir buenos procesos de aproximación sin perder habilidad de generalización. "
   ]
  },
  {
   "cell_type": "markdown",
   "id": "502e63ac",
   "metadata": {
    "slideshow": {
     "slide_type": "slide"
    }
   },
   "source": [
    "## El modelo lineal:"
   ]
  },
  {
   "cell_type": "markdown",
   "id": "497d75f7",
   "metadata": {
    "slideshow": {
     "slide_type": "slide"
    }
   },
   "source": [
    "Se estudian \n",
    "\n",
    "* la clasificación lineal, \n",
    "* la regresión lineal \n",
    "* regresión logística. \n",
    "\n",
    "Además, se introducen **algoritmos eficientes de apredizaje** tales como\n",
    "gradiente descendente y perceptrón de bolsillo. "
   ]
  },
  {
   "cell_type": "markdown",
   "id": "d6d492d9",
   "metadata": {
    "slideshow": {
     "slide_type": "slide"
    }
   },
   "source": [
    "## Sobreentrenamiento:"
   ]
  },
  {
   "cell_type": "markdown",
   "id": "ba8e018f",
   "metadata": {
    "slideshow": {
     "slide_type": "slide"
    }
   },
   "source": [
    "Se reconocen escenarios no intuitivos de sobreajuste de datos y se propone la regularización como estrategia para evitar este problema. Además se propone la validación como herramienta para la selección de modelos. "
   ]
  },
  {
   "cell_type": "code",
   "execution_count": null,
   "id": "8fc1352e",
   "metadata": {
    "slideshow": {
     "slide_type": "slide"
    }
   },
   "outputs": [],
   "source": []
  },
  {
   "cell_type": "markdown",
   "id": "b736f475",
   "metadata": {
    "slideshow": {
     "slide_type": "slide"
    }
   },
   "source": [
    "## Funciones de Python asociadas a este cuaderno"
   ]
  },
  {
   "cell_type": "markdown",
   "id": "2e048e0f",
   "metadata": {
    "slideshow": {
     "slide_type": "slide"
    }
   },
   "source": [
    "* `type()` "
   ]
  },
  {
   "cell_type": "markdown",
   "id": "9ac8fb8d",
   "metadata": {
    "slideshow": {
     "slide_type": "slide"
    }
   },
   "source": [
    "## Referentes \n",
    "\n",
    "* Geron, Aurelien. Hand on Machine Learning with Scikit-Learn, Keras and TensorFlow: Concepts, tools, and techniques to build intelligent systems. \n",
    "\n",
    "* La documentación oficial de Python: https://docs.python.org/3/tutorial/index.html "
   ]
  },
  {
   "cell_type": "markdown",
   "id": "746eadb0",
   "metadata": {
    "slideshow": {
     "slide_type": "slide"
    }
   },
   "source": []
  },
  {
   "cell_type": "markdown",
   "id": "b149d903",
   "metadata": {
    "slideshow": {
     "slide_type": "slide"
    }
   },
   "source": [
    "# [Una introducción informal a Python](https://docs.python.org/3/tutorial/introduction.html) "
   ]
  },
  {
   "cell_type": "markdown",
   "id": "3e6de459",
   "metadata": {
    "slideshow": {
     "slide_type": "slide"
    }
   },
   "source": [
    "Puede alternar la visualización de las indicaciones y la salida haciendo clic en la esquina superior derecha de un cuadro de ejemplo. Si oculta las indicaciones y la salida para un ejemplo, puede copiar y pegar fácilmente las líneas de entrada en su intérprete.>>>"
   ]
  },
  {
   "cell_type": "markdown",
   "id": "2655df22",
   "metadata": {
    "slideshow": {
     "slide_type": "slide"
    }
   },
   "source": [
    "Muchos de los ejemplos de este manual, incluso los que se introducen en el símbolo interactivo, incluyen comentarios. Los comentarios en Python comienzan con el carácter hash y se extienden hasta el final de la línea física. Un comentario puede aparecer al principio de una línea o siguiendo el espacio en blanco o el código, pero no dentro de un literal de cadena. Un carácter hash dentro de un literal de cadena es solo un carácter hash. Dado que los comentarios son para aclarar el código y no son interpretados por Python, pueden omitirse al escribir ejemplos.#"
   ]
  },
  {
   "cell_type": "markdown",
   "id": "7aea838c",
   "metadata": {
    "slideshow": {
     "slide_type": "slide"
    }
   },
   "source": [
    "Algunos ejemplos:"
   ]
  },
  {
   "cell_type": "code",
   "execution_count": 9,
   "id": "37bbbd08",
   "metadata": {
    "slideshow": {
     "slide_type": "slide"
    }
   },
   "outputs": [],
   "source": [
    "# this is the first comment\n",
    "spam = 1  # and this is the second comment\n",
    "          # ... and now a third!\n",
    "text = \"# This is not a comment because it's inside quotes.\""
   ]
  },
  {
   "cell_type": "markdown",
   "id": "f18912ab",
   "metadata": {
    "slideshow": {
     "slide_type": "slide"
    }
   },
   "source": [
    "## 3.1. Uso de Python como calculadora"
   ]
  },
  {
   "cell_type": "markdown",
   "id": "b9328ca3",
   "metadata": {
    "slideshow": {
     "slide_type": "slide"
    }
   },
   "source": [
    "Probemos algunos comandos simples de Python. Inicie el intérprete y espere el mensaje principal, . (No debería tomar mucho tiempo).>>>"
   ]
  },
  {
   "cell_type": "markdown",
   "id": "5533f27e",
   "metadata": {
    "slideshow": {
     "slide_type": "slide"
    }
   },
   "source": [
    "### 3.1.1. Números"
   ]
  },
  {
   "cell_type": "markdown",
   "id": "8c325003",
   "metadata": {
    "slideshow": {
     "slide_type": "slide"
    }
   },
   "source": [
    "El intérprete actúa como una simple calculadora: puede escribir una expresión en ella y escribirá el valor. La sintaxis de la expresión es sencilla: los operadores +,*,/,-,() , y funcionan como en la mayoría de los otros lenguajes (por ejemplo, Pascal o C); los paréntesis () se pueden utilizar para agrupar. Por ejemplo:"
   ]
  },
  {
   "cell_type": "code",
   "execution_count": 10,
   "id": "bda9e5f9",
   "metadata": {
    "slideshow": {
     "slide_type": "slide"
    }
   },
   "outputs": [
    {
     "data": {
      "text/plain": [
       "4"
      ]
     },
     "execution_count": 10,
     "metadata": {},
     "output_type": "execute_result"
    }
   ],
   "source": [
    "2 + 2"
   ]
  },
  {
   "cell_type": "code",
   "execution_count": 11,
   "id": "00f06ced",
   "metadata": {
    "slideshow": {
     "slide_type": "slide"
    }
   },
   "outputs": [
    {
     "data": {
      "text/plain": [
       "20"
      ]
     },
     "execution_count": 11,
     "metadata": {},
     "output_type": "execute_result"
    }
   ],
   "source": [
    "50 - 5*6"
   ]
  },
  {
   "cell_type": "code",
   "execution_count": 12,
   "id": "2ef0bf82",
   "metadata": {
    "slideshow": {
     "slide_type": "slide"
    }
   },
   "outputs": [
    {
     "data": {
      "text/plain": [
       "5.0"
      ]
     },
     "execution_count": 12,
     "metadata": {},
     "output_type": "execute_result"
    }
   ],
   "source": [
    "(50 - 5*6) / 4"
   ]
  },
  {
   "cell_type": "code",
   "execution_count": 13,
   "id": "49e323c0",
   "metadata": {
    "slideshow": {
     "slide_type": "slide"
    }
   },
   "outputs": [
    {
     "data": {
      "text/plain": [
       "1.6"
      ]
     },
     "execution_count": 13,
     "metadata": {},
     "output_type": "execute_result"
    }
   ],
   "source": [
    "8/5  # division always returns a floating point number\n"
   ]
  },
  {
   "cell_type": "markdown",
   "id": "47a1337b",
   "metadata": {
    "slideshow": {
     "slide_type": "slide"
    }
   },
   "source": [
    "Los números enteros (por ejemplo, 13, 5 , 17) tienen tipo `int`, los que tienen una parte fraccionaria (por ejemplo,5.13, 1.14 ) tienen tipo `float`."
   ]
  },
  {
   "cell_type": "markdown",
   "id": "d5e0dd26",
   "metadata": {
    "slideshow": {
     "slide_type": "slide"
    }
   },
   "source": [
    "La división (/) siempre devuelve un objeto tipo `float`. Para hacer la división de usual y obtener un resultado entero (descartando cualquier resultado fraccionario) se puede utilizar el operador `//`; para calcular el resto puede utilizar:`%`"
   ]
  },
  {
   "cell_type": "code",
   "execution_count": 14,
   "id": "a5b34381",
   "metadata": {
    "slideshow": {
     "slide_type": "slide"
    }
   },
   "outputs": [
    {
     "data": {
      "text/plain": [
       "5.666666666666667"
      ]
     },
     "execution_count": 14,
     "metadata": {},
     "output_type": "execute_result"
    }
   ],
   "source": [
    "17/3  # classic division returns a float"
   ]
  },
  {
   "cell_type": "code",
   "execution_count": 15,
   "id": "3d8e07f8",
   "metadata": {
    "slideshow": {
     "slide_type": "slide"
    }
   },
   "outputs": [
    {
     "data": {
      "text/plain": [
       "5"
      ]
     },
     "execution_count": 15,
     "metadata": {},
     "output_type": "execute_result"
    }
   ],
   "source": [
    "17//3  # floor division discards the fractional part"
   ]
  },
  {
   "cell_type": "code",
   "execution_count": 16,
   "id": "c5327401",
   "metadata": {
    "slideshow": {
     "slide_type": "slide"
    }
   },
   "outputs": [
    {
     "data": {
      "text/plain": [
       "2"
      ]
     },
     "execution_count": 16,
     "metadata": {},
     "output_type": "execute_result"
    }
   ],
   "source": [
    "17 % 3  # the % operator returns the remainder of the division"
   ]
  },
  {
   "cell_type": "code",
   "execution_count": 17,
   "id": "5e19b68c",
   "metadata": {
    "slideshow": {
     "slide_type": "slide"
    }
   },
   "outputs": [
    {
     "data": {
      "text/plain": [
       "17"
      ]
     },
     "execution_count": 17,
     "metadata": {},
     "output_type": "execute_result"
    }
   ],
   "source": [
    "5 * 3 + 2  # floored quotient * divisor + remainder\n",
    "17"
   ]
  },
  {
   "cell_type": "markdown",
   "id": "fdebcd76",
   "metadata": {
    "slideshow": {
     "slide_type": "slide"
    }
   },
   "source": [
    "Con Python, es posible usar el operador para calcular potencias:`**`"
   ]
  },
  {
   "cell_type": "code",
   "execution_count": 19,
   "id": "b0c5d041",
   "metadata": {
    "slideshow": {
     "slide_type": "slide"
    }
   },
   "outputs": [
    {
     "data": {
      "text/plain": [
       "25"
      ]
     },
     "execution_count": 19,
     "metadata": {},
     "output_type": "execute_result"
    }
   ],
   "source": [
    "5**2  # 5 squared"
   ]
  },
  {
   "cell_type": "code",
   "execution_count": 18,
   "id": "f353c907",
   "metadata": {
    "slideshow": {
     "slide_type": "slide"
    }
   },
   "outputs": [
    {
     "data": {
      "text/plain": [
       "32"
      ]
     },
     "execution_count": 18,
     "metadata": {},
     "output_type": "execute_result"
    }
   ],
   "source": [
    "2**5  # 2 to the power of 5\n"
   ]
  },
  {
   "cell_type": "markdown",
   "id": "a7258f4c",
   "metadata": {
    "slideshow": {
     "slide_type": "slide"
    }
   },
   "source": [
    "El signo igual (`=`) se utiliza para asignar un valor a una variable. Posteriormente, no se muestra ningún resultado antes del siguiente mensaje interactivo:"
   ]
  },
  {
   "cell_type": "code",
   "execution_count": 20,
   "id": "9019abee",
   "metadata": {
    "slideshow": {
     "slide_type": "slide"
    }
   },
   "outputs": [
    {
     "data": {
      "text/plain": [
       "12"
      ]
     },
     "execution_count": 20,
     "metadata": {},
     "output_type": "execute_result"
    }
   ],
   "source": [
    "width = 3\n",
    "height = 4\n",
    "width * height"
   ]
  },
  {
   "cell_type": "markdown",
   "id": "e6dc361b",
   "metadata": {
    "slideshow": {
     "slide_type": "slide"
    }
   },
   "source": [
    "Si una variable no \"definida\" (es decir, no se le ha asignado un valor), al intentar usarla se le dará un error:"
   ]
  },
  {
   "cell_type": "code",
   "execution_count": 22,
   "id": "ec19304e",
   "metadata": {
    "slideshow": {
     "slide_type": "slide"
    }
   },
   "outputs": [
    {
     "ename": "NameError",
     "evalue": "name 'n' is not defined",
     "output_type": "error",
     "traceback": [
      "\u001b[1;31m---------------------------------------------------------------------------\u001b[0m",
      "\u001b[1;31mNameError\u001b[0m                                 Traceback (most recent call last)",
      "\u001b[1;32m<ipython-input-22-e1b81972a63e>\u001b[0m in \u001b[0;36m<module>\u001b[1;34m\u001b[0m\n\u001b[1;32m----> 1\u001b[1;33m \u001b[0mn\u001b[0m                            \u001b[1;31m# try to access an undefined variable\u001b[0m\u001b[1;33m\u001b[0m\u001b[1;33m\u001b[0m\u001b[0m\n\u001b[0m",
      "\u001b[1;31mNameError\u001b[0m: name 'n' is not defined"
     ]
    }
   ],
   "source": [
    "n                            # try to access an undefined variable"
   ]
  },
  {
   "cell_type": "markdown",
   "id": "ac7de9c7",
   "metadata": {
    "slideshow": {
     "slide_type": "slide"
    }
   },
   "source": [
    "los operadores con operandos de tipo mixto convierten el operando entero en coma flotante:"
   ]
  },
  {
   "cell_type": "code",
   "execution_count": 25,
   "id": "fcc4e04e",
   "metadata": {
    "slideshow": {
     "slide_type": "slide"
    }
   },
   "outputs": [
    {
     "data": {
      "text/plain": [
       "6.0"
      ]
     },
     "execution_count": 25,
     "metadata": {},
     "output_type": "execute_result"
    }
   ],
   "source": [
    "2*3.5-1\n"
   ]
  },
  {
   "cell_type": "markdown",
   "id": "add6fc43",
   "metadata": {
    "slideshow": {
     "slide_type": "slide"
    }
   },
   "source": [
    "En el modo interactivo, la última expresión impresa se asigna a la variable `-`. Esto significa que cuando está utilizando Python como calculadora de escritorio, es algo más fácil continuar con los cálculos, por ejemplo:"
   ]
  },
  {
   "cell_type": "code",
   "execution_count": 29,
   "id": "13e4a51d",
   "metadata": {
    "slideshow": {
     "slide_type": "slide"
    }
   },
   "outputs": [
    {
     "data": {
      "text/plain": [
       "300.0"
      ]
     },
     "execution_count": 29,
     "metadata": {},
     "output_type": "execute_result"
    }
   ],
   "source": [
    ">>> tax = 12/4\n",
    ">>> price = 100\n",
    ">>> price * tax"
   ]
  },
  {
   "cell_type": "code",
   "execution_count": 30,
   "id": "9d79e5b7",
   "metadata": {
    "slideshow": {
     "slide_type": "slide"
    }
   },
   "outputs": [
    {
     "data": {
      "text/plain": [
       "400.0"
      ]
     },
     "execution_count": 30,
     "metadata": {},
     "output_type": "execute_result"
    }
   ],
   "source": [
    ">>> price + _"
   ]
  },
  {
   "cell_type": "code",
   "execution_count": 32,
   "id": "420cad9f",
   "metadata": {
    "slideshow": {
     "slide_type": "slide"
    }
   },
   "outputs": [
    {
     "data": {
      "text/plain": [
       "400.0"
      ]
     },
     "execution_count": 32,
     "metadata": {},
     "output_type": "execute_result"
    }
   ],
   "source": [
    "round(_, 2)\n"
   ]
  },
  {
   "cell_type": "markdown",
   "id": "d33b3db9",
   "metadata": {
    "slideshow": {
     "slide_type": "slide"
    }
   },
   "source": [
    "Esta variable debe ser tratada como de solo lectura por el usuario. No le asigne explícitamente un valor: crearía una variable local independiente con el mismo nombre que enmascarara la variable incorporada con su comportamiento mágico."
   ]
  },
  {
   "cell_type": "markdown",
   "id": "ca645560",
   "metadata": {
    "slideshow": {
     "slide_type": "slide"
    }
   },
   "source": [
    "Además de `int` y `float`, Python admite otros tipos de números, como Decimal y Fraction. Python también tiene soporte incorporado para números complejos,y utiliza el sufijo o para indicar la parte imaginaria (por ejemplo, ).jJ3+5j"
   ]
  },
  {
   "cell_type": "markdown",
   "id": "53837b33",
   "metadata": {
    "slideshow": {
     "slide_type": "slide"
    }
   },
   "source": [
    "## 3.1.2. Cadenas"
   ]
  },
  {
   "cell_type": "markdown",
   "id": "6d32acee",
   "metadata": {
    "slideshow": {
     "slide_type": "slide"
    }
   },
   "source": [
    "Además de los números, Python también puede manipular cadenas, que se pueden expresar de varias maneras. Se pueden encerrar entre comillas simples (`'...'`) o comillas dobles (`\"...\"`) con el mismo resultado. se puede utilizar para escapar de las comillas`\\`:"
   ]
  },
  {
   "cell_type": "code",
   "execution_count": 33,
   "id": "32be737f",
   "metadata": {
    "slideshow": {
     "slide_type": "slide"
    }
   },
   "outputs": [
    {
     "data": {
      "text/plain": [
       "'\"Isn\\'t,\" they said.'"
      ]
     },
     "execution_count": 33,
     "metadata": {},
     "output_type": "execute_result"
    }
   ],
   "source": [
    ">>> 'spam eggs'  # single quotes\n",
    "'spam eggs'\n",
    ">>> 'doesn\\'t'  # use \\' to escape the single quote...\n",
    "\"doesn't\"\n",
    ">>> \"doesn't\"  # ...or use double quotes instead\n",
    "\"doesn't\"\n",
    ">>> '\"Yes,\" they said.'\n",
    "'\"Yes,\" they said.'\n",
    ">>> \"\\\"Yes,\\\" they said.\"\n",
    "'\"Yes,\" they said.'\n",
    ">>> '\"Isn\\'t,\" they said.'\n",
    "'\"Isn\\'t,\" they said.'"
   ]
  },
  {
   "cell_type": "markdown",
   "id": "f3dbf981",
   "metadata": {
    "slideshow": {
     "slide_type": "slide"
    }
   },
   "source": [
    "En el intérprete interactivo, la cadena de salida se encierra entre comillas y los caracteres especiales se escapan con barras diagonales inversas. Si bien esto a veces puede parecer diferente de la entrada (las comillas adjuntas podrían cambiar), las dos cadenas son equivalentes. La cadena se incluye entre comillas dobles si la cadena contiene una comillas simples y no comillas dobles, de lo contrario se incluye entre comillas simples. "
   ]
  },
  {
   "cell_type": "markdown",
   "id": "3050a7b0",
   "metadata": {
    "slideshow": {
     "slide_type": "slide"
    }
   },
   "source": [
    "La función `print()` produce una salida más legible, omitiendo las comillas adjuntas e imprimiendo caracteres escapados y especiales:"
   ]
  },
  {
   "cell_type": "code",
   "execution_count": 35,
   "id": "ee444f9f",
   "metadata": {
    "slideshow": {
     "slide_type": "slide"
    }
   },
   "outputs": [
    {
     "data": {
      "text/plain": [
       "\"Isn't, they said.\""
      ]
     },
     "execution_count": 35,
     "metadata": {},
     "output_type": "execute_result"
    }
   ],
   "source": [
    "'Isn\\'t, they said.'"
   ]
  },
  {
   "cell_type": "code",
   "execution_count": 36,
   "id": "7157fb9f",
   "metadata": {
    "slideshow": {
     "slide_type": "slide"
    }
   },
   "outputs": [
    {
     "name": "stdout",
     "output_type": "stream",
     "text": [
      "\"Isn't,\" they said.\n"
     ]
    }
   ],
   "source": [
    "print('\"Isn\\'t,\" they said.')"
   ]
  },
  {
   "cell_type": "code",
   "execution_count": null,
   "id": "ec59771c",
   "metadata": {
    "slideshow": {
     "slide_type": "slide"
    }
   },
   "outputs": [],
   "source": [
    ">>> s = 'First line.\\nSecond line.'  # \\n means newline\n",
    ">>> s  # without print(), \\n is included in the output\n",
    "'First line.\\nSecond line.'\n",
    "print(s)  # with print(), \\n produces a new line"
   ]
  },
  {
   "cell_type": "markdown",
   "id": "5c2779e8",
   "metadata": {
    "slideshow": {
     "slide_type": "slide"
    }
   },
   "source": [
    "Si no desea que los caracteres precedidos por `\\` se interpreten como caracteres especiales, puede usar cadenas sin formato agregando un `r` antes de la primera cita:"
   ]
  },
  {
   "cell_type": "code",
   "execution_count": 37,
   "id": "9b2bef20",
   "metadata": {
    "slideshow": {
     "slide_type": "slide"
    }
   },
   "outputs": [
    {
     "name": "stdout",
     "output_type": "stream",
     "text": [
      "C:\\some\n",
      "ame\n"
     ]
    }
   ],
   "source": [
    "print('C:\\some\\name')  # here \\n means newline!"
   ]
  },
  {
   "cell_type": "code",
   "execution_count": 38,
   "id": "a9aee22e",
   "metadata": {
    "slideshow": {
     "slide_type": "slide"
    }
   },
   "outputs": [
    {
     "name": "stdout",
     "output_type": "stream",
     "text": [
      "C:\\some\\name\n"
     ]
    }
   ],
   "source": [
    "print(r'C:\\some\\name')  # note the r before the quote\n"
   ]
  },
  {
   "cell_type": "markdown",
   "id": "cab271de",
   "metadata": {
    "slideshow": {
     "slide_type": "slide"
    }
   },
   "source": [
    "Los literales de cadena pueden abarcar varias líneas. Una forma es usar comillas triples: `\"\"\"...\"\"\"` o `'''...'''` . El final de las líneas se incluye automáticamente en la cadena, pero es posible evitarlo agregando un `\\` al final de la línea. El siguiente ejemplo:"
   ]
  },
  {
   "cell_type": "code",
   "execution_count": 39,
   "id": "5c09c7f3",
   "metadata": {
    "slideshow": {
     "slide_type": "slide"
    }
   },
   "outputs": [
    {
     "name": "stdout",
     "output_type": "stream",
     "text": [
      "Usage: thingy [OPTIONS]\n",
      "     -h                        Display this usage message\n",
      "     -H hostname               Hostname to connect to\n",
      "\n"
     ]
    }
   ],
   "source": [
    "print(\"\"\"\\\n",
    "Usage: thingy [OPTIONS]\n",
    "     -h                        Display this usage message\n",
    "     -H hostname               Hostname to connect to\n",
    "\"\"\")"
   ]
  },
  {
   "cell_type": "code",
   "execution_count": null,
   "id": "53a30b6a",
   "metadata": {
    "slideshow": {
     "slide_type": "slide"
    }
   },
   "outputs": [],
   "source": []
  },
  {
   "cell_type": "code",
   "execution_count": null,
   "id": "64dbf486",
   "metadata": {
    "slideshow": {
     "slide_type": "slide"
    }
   },
   "outputs": [],
   "source": []
  },
  {
   "cell_type": "code",
   "execution_count": null,
   "id": "7cd52c04",
   "metadata": {
    "slideshow": {
     "slide_type": "slide"
    }
   },
   "outputs": [],
   "source": []
  },
  {
   "cell_type": "code",
   "execution_count": null,
   "id": "1cdc39ff",
   "metadata": {
    "slideshow": {
     "slide_type": "slide"
    }
   },
   "outputs": [],
   "source": []
  },
  {
   "cell_type": "code",
   "execution_count": null,
   "id": "bc40265b",
   "metadata": {
    "slideshow": {
     "slide_type": "slide"
    }
   },
   "outputs": [],
   "source": []
  },
  {
   "cell_type": "code",
   "execution_count": null,
   "id": "91b558c8",
   "metadata": {
    "slideshow": {
     "slide_type": "slide"
    }
   },
   "outputs": [],
   "source": []
  },
  {
   "cell_type": "code",
   "execution_count": null,
   "id": "26ba897d",
   "metadata": {
    "slideshow": {
     "slide_type": "slide"
    }
   },
   "outputs": [],
   "source": []
  },
  {
   "cell_type": "code",
   "execution_count": null,
   "id": "3d86e71e",
   "metadata": {
    "slideshow": {
     "slide_type": "slide"
    }
   },
   "outputs": [],
   "source": []
  }
 ],
 "metadata": {
  "celltoolbar": "Slideshow",
  "kernelspec": {
   "display_name": "Python 3",
   "language": "python",
   "name": "python3"
  },
  "language_info": {
   "codemirror_mode": {
    "name": "ipython",
    "version": 3
   },
   "file_extension": ".py",
   "mimetype": "text/x-python",
   "name": "python",
   "nbconvert_exporter": "python",
   "pygments_lexer": "ipython3",
   "version": "3.8.8"
  },
  "latex_envs": {
   "LaTeX_envs_menu_present": true,
   "autoclose": false,
   "autocomplete": false,
   "bibliofile": "biblio.bib",
   "cite_by": "apalike",
   "current_citInitial": 1,
   "eqLabelWithNumbers": true,
   "eqNumInitial": 1,
   "hotkeys": {
    "equation": "Ctrl-E",
    "itemize": "Ctrl-I"
   },
   "labels_anchors": false,
   "latex_user_defs": false,
   "report_style_numbering": false,
   "user_envs_cfg": false
  },
  "rise": {
   "enable_chalkboard": true,
   "theme": "sky",
   "transition": "sky"
  }
 },
 "nbformat": 4,
 "nbformat_minor": 5
}
