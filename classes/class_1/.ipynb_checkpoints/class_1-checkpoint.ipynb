{
 "cells": [
  {
   "cell_type": "markdown",
   "id": "93eaa0c7",
   "metadata": {
    "slideshow": {
     "slide_type": "slide"
    }
   },
   "source": [
    "<table align=\"left\">\n",
    "  <td>\n",
    "    <a href=\"https://colab.research.google.com/github/marco-canas/introducci-n-al-Machine-Learning/blob/main/classes/class_1/class_1.ipynb\" target=\"_parent\"><img src=\"https://colab.research.google.com/assets/colab-badge.svg\" alt=\"Open In Colab\"/></a>\n",
    "  </td>\n",
    "  <td>\n",
    "    <a target=\"_blank\" href=\"https://kaggle.com/kernels/welcome?src=https://github.com/marco-canas/introducci-n-al-Machine-Learning/blob/main/classes/class_1/class_1.ipynb\"><img src=\"https://kaggle.com/static/images/open-in-kaggle.svg\" /></a>\n",
    "  </td>\n",
    "</table>\n"
   ]
  },
  {
   "cell_type": "markdown",
   "id": "e32d6811",
   "metadata": {
    "slideshow": {
     "slide_type": "slide"
    }
   },
   "source": [
    "# Class 1"
   ]
  },
  {
   "cell_type": "markdown",
   "id": "ed551aa6",
   "metadata": {
    "slideshow": {
     "slide_type": "slide"
    }
   },
   "source": [
    "## [Primer video de apoyo a la lectura](https://www.youtube.com/watch?v=iLiCS1gKKY4) "
   ]
  },
  {
   "cell_type": "markdown",
   "id": "f110196c",
   "metadata": {
    "slideshow": {
     "slide_type": "slide"
    }
   },
   "source": [
    "## Objetivos:\n",
    "\n",
    "Introducción a la programación con Python:\n",
    "\n",
    "Se hace reconocimiento de lógica de programación y sintaxis de Python, desde los inicios en tipos de datos y estructuras de control, hasta funciones y métodos sobre clases.\n"
   ]
  },
  {
   "cell_type": "markdown",
   "id": "0a346116",
   "metadata": {
    "slideshow": {
     "slide_type": "slide"
    }
   },
   "source": [
    "### [learnpython.org ](https://learnpython.org/)\n",
    "y la [Documentación oficial de Python](https://docs.python.org/3/tutorial/index.html)"
   ]
  },
  {
   "cell_type": "markdown",
   "id": "000b35ac",
   "metadata": {
    "slideshow": {
     "slide_type": "slide"
    }
   },
   "source": [
    "Aprende los conceptos básicos:\n",
    "* ¡Hola mundo!\n",
    "* Variables y tipos\n",
    "* Listas\n",
    "* Operadores básicos\n",
    "* Formato de cadena\n",
    "* Operaciones básicas de cadena\n",
    "* Condiciones\n",
    "* Bucles\n",
    "* Funciones\n",
    "* Clases y objetos\n",
    "* Diccionarios\n",
    "* Módulos y paquetes"
   ]
  },
  {
   "cell_type": "markdown",
   "id": "99f84c99",
   "metadata": {
    "slideshow": {
     "slide_type": "slide"
    }
   },
   "source": [
    "Tutoriales de ciencia de datos\n",
    "* Matrices Numpy\n",
    "* Conceptos básicos de Pandas"
   ]
  },
  {
   "cell_type": "markdown",
   "id": "a4db00e6",
   "metadata": {
    "slideshow": {
     "slide_type": "slide"
    }
   },
   "source": [
    "## Hola mundo "
   ]
  },
  {
   "cell_type": "markdown",
   "id": "fe0091a1",
   "metadata": {
    "slideshow": {
     "slide_type": "slide"
    }
   },
   "source": [
    "Las funciones en Python se invocan con paréntesis, por ejemplo:"
   ]
  },
  {
   "cell_type": "code",
   "execution_count": null,
   "id": "75d91d76",
   "metadata": {
    "slideshow": {
     "slide_type": "slide"
    }
   },
   "outputs": [],
   "source": [
    "print('¡Hola Mundo!') "
   ]
  },
  {
   "cell_type": "markdown",
   "id": "5fbcfb3e",
   "metadata": {
    "slideshow": {
     "slide_type": "slide"
    }
   },
   "source": [
    "## Sangría\n",
    "\n",
    "Python usa sangría para bloques de código, en lugar de llaves. Se admiten también los espacios, pero la sangría estándar requiere que el código Python estándar use cuatro espacios. Por ejemplo:"
   ]
  },
  {
   "cell_type": "code",
   "execution_count": null,
   "id": "f871240f",
   "metadata": {
    "slideshow": {
     "slide_type": "slide"
    }
   },
   "outputs": [],
   "source": [
    "x = 2\n",
    "if x==1:\n",
    "    print('x es uno')"
   ]
  },
  {
   "cell_type": "markdown",
   "id": "d96214c3",
   "metadata": {
    "slideshow": {
     "slide_type": "slide"
    }
   },
   "source": [
    "### Ejercicio\n",
    "\n",
    "Utilice la función `print()` para darle un saludo a tus compañeros de clase: \n"
   ]
  },
  {
   "cell_type": "code",
   "execution_count": null,
   "id": "bbaed726",
   "metadata": {
    "slideshow": {
     "slide_type": "slide"
    }
   },
   "outputs": [],
   "source": [
    "print('Buenas noches compañeros de clase, Mi nombre es Marco')"
   ]
  },
  {
   "cell_type": "markdown",
   "id": "bbbbee24",
   "metadata": {
    "slideshow": {
     "slide_type": "slide"
    }
   },
   "source": [
    "## Variables y tipos"
   ]
  },
  {
   "cell_type": "markdown",
   "id": "b73d2f4a",
   "metadata": {
    "slideshow": {
     "slide_type": "slide"
    }
   },
   "source": [
    "## [Segundo video de apoyo]() "
   ]
  },
  {
   "cell_type": "markdown",
   "id": "3c7485df",
   "metadata": {
    "slideshow": {
     "slide_type": "slide"
    }
   },
   "source": [
    "Python está completamente orientado a objetos. No es necesario declarar variables antes de utilizarlas ni declarar su tipo. Cada variable en Python es un objeto.\n",
    "\n",
    "Veamos algunos tipos básicos de variables."
   ]
  },
  {
   "cell_type": "markdown",
   "id": "fa03d05a",
   "metadata": {
    "slideshow": {
     "slide_type": "slide"
    }
   },
   "source": [
    "### Números"
   ]
  },
  {
   "cell_type": "markdown",
   "id": "5bb9bf54",
   "metadata": {
    "slideshow": {
     "slide_type": "slide"
    }
   },
   "source": [
    "Python admite dos tipos de números: \n",
    "* De tipo `int` (números enteros) y \n",
    "* números de coma flotante (decimales). \n",
    "* (También admite números complejos).\n",
    "\n",
    "Para definir un entero, utilice la sintaxis siguiente:"
   ]
  },
  {
   "cell_type": "code",
   "execution_count": null,
   "id": "f496601e",
   "metadata": {
    "slideshow": {
     "slide_type": "slide"
    }
   },
   "outputs": [],
   "source": [
    "entero=7\n",
    "print(entero)"
   ]
  },
  {
   "cell_type": "code",
   "execution_count": null,
   "id": "9f40c105",
   "metadata": {
    "slideshow": {
     "slide_type": "slide"
    }
   },
   "outputs": [],
   "source": [
    "type(entero)"
   ]
  },
  {
   "cell_type": "markdown",
   "id": "365f62f9",
   "metadata": {
    "slideshow": {
     "slide_type": "slide"
    }
   },
   "source": [
    "Para definir un número de coma flotante, puede utilizar una de las siguientes notaciones:"
   ]
  },
  {
   "cell_type": "code",
   "execution_count": null,
   "id": "344e2b7e",
   "metadata": {
    "slideshow": {
     "slide_type": "slide"
    }
   },
   "outputs": [],
   "source": [
    "my_float = 7.0\n",
    "print(my_float)"
   ]
  },
  {
   "cell_type": "code",
   "execution_count": null,
   "id": "375174a6",
   "metadata": {
    "slideshow": {
     "slide_type": "slide"
    }
   },
   "outputs": [],
   "source": [
    "type(7)"
   ]
  },
  {
   "cell_type": "code",
   "execution_count": null,
   "id": "ff265ae0",
   "metadata": {
    "slideshow": {
     "slide_type": "slide"
    }
   },
   "outputs": [],
   "source": [
    "f = float(7)"
   ]
  },
  {
   "cell_type": "code",
   "execution_count": null,
   "id": "b3ec6e04",
   "metadata": {
    "slideshow": {
     "slide_type": "slide"
    }
   },
   "outputs": [],
   "source": [
    "type(f)"
   ]
  },
  {
   "cell_type": "markdown",
   "id": "29354a39",
   "metadata": {
    "slideshow": {
     "slide_type": "slide"
    }
   },
   "source": [
    "## Strings"
   ]
  },
  {
   "cell_type": "markdown",
   "id": "a11826a5",
   "metadata": {
    "slideshow": {
     "slide_type": "slide"
    }
   },
   "source": [
    "Strings are defined either with a single quote or a double quotes."
   ]
  },
  {
   "cell_type": "code",
   "execution_count": null,
   "id": "3e42b7df",
   "metadata": {
    "slideshow": {
     "slide_type": "slide"
    }
   },
   "outputs": [],
   "source": [
    "mystring = 'hello'\n",
    "print(mystring)\n",
    "mystring = \"hello\"\n",
    "print(mystring)"
   ]
  },
  {
   "cell_type": "markdown",
   "id": "6a2cd79e",
   "metadata": {
    "slideshow": {
     "slide_type": "slide"
    }
   },
   "source": [
    "La diferencia entre los dos es que el uso de comillas dobles facilita la inclusión de apóstrofos (mientras que estos terminarían la cadena si se usan comillas simples)"
   ]
  },
  {
   "cell_type": "code",
   "execution_count": null,
   "id": "1840a442",
   "metadata": {
    "slideshow": {
     "slide_type": "slide"
    }
   },
   "outputs": [],
   "source": [
    "mystring = \"Don't worry about aportrophes\"\n",
    "print(mystring)"
   ]
  },
  {
   "cell_type": "markdown",
   "id": "b78bc3d7",
   "metadata": {
    "slideshow": {
     "slide_type": "slide"
    }
   },
   "source": [
    "Hay variaciones adicionales en la definición de cadenas que facilitan la inclusión de elementos como retornos de carro, barra diagonal inversa y caracteres Unicode. Estos están más allá del alcance de este tutorial, pero se tratan en la [documentación de Python](https://docs.python.org/3/tutorial/introduction.html#strings) sobre `string`.\n",
    "\n",
    "Los operadores simples se pueden ejecutar en números y cadenas:"
   ]
  },
  {
   "cell_type": "code",
   "execution_count": null,
   "id": "aa4eb5a7",
   "metadata": {
    "slideshow": {
     "slide_type": "slide"
    }
   },
   "outputs": [],
   "source": [
    "a = 1 \n",
    "b = 2\n",
    "c = a+b\n",
    "c "
   ]
  },
  {
   "cell_type": "code",
   "execution_count": null,
   "id": "b09734b3",
   "metadata": {
    "slideshow": {
     "slide_type": "slide"
    }
   },
   "outputs": [],
   "source": [
    "a = 'uno'\n",
    "b = 'dos'\n",
    "c = a + ' más ' + b\n",
    "c "
   ]
  },
  {
   "cell_type": "code",
   "execution_count": null,
   "id": "60d22eaa",
   "metadata": {
    "slideshow": {
     "slide_type": "slide"
    }
   },
   "outputs": [],
   "source": [
    "'spam eggs'  # single quotes"
   ]
  },
  {
   "cell_type": "code",
   "execution_count": null,
   "id": "5907c927",
   "metadata": {
    "slideshow": {
     "slide_type": "slide"
    }
   },
   "outputs": [],
   "source": [
    "'doesn\\'t'  # use \\' to escape the single quote..."
   ]
  },
  {
   "cell_type": "code",
   "execution_count": null,
   "id": "852cb3fe",
   "metadata": {
    "slideshow": {
     "slide_type": "slide"
    }
   },
   "outputs": [],
   "source": [
    "\"doesn't\"  # ...or use double quotes instead"
   ]
  },
  {
   "cell_type": "code",
   "execution_count": null,
   "id": "596852fd",
   "metadata": {
    "slideshow": {
     "slide_type": "slide"
    }
   },
   "outputs": [],
   "source": [
    "'\"Yes,\" they said.'"
   ]
  },
  {
   "cell_type": "code",
   "execution_count": null,
   "id": "776ed979",
   "metadata": {
    "slideshow": {
     "slide_type": "slide"
    }
   },
   "outputs": [],
   "source": [
    "\"\\\"Yes,\\\" they said.\""
   ]
  },
  {
   "cell_type": "code",
   "execution_count": null,
   "id": "00d2f168",
   "metadata": {
    "slideshow": {
     "slide_type": "slide"
    }
   },
   "outputs": [],
   "source": [
    "'\"Isn\\'t,\" they said.'\n"
   ]
  },
  {
   "cell_type": "markdown",
   "id": "a1b3bc9f",
   "metadata": {
    "slideshow": {
     "slide_type": "slide"
    }
   },
   "source": [
    "Las asignaciones se pueden realizar en más de una variable \"simultáneamente\" en la misma línea como esta"
   ]
  },
  {
   "cell_type": "code",
   "execution_count": null,
   "id": "e97a196e",
   "metadata": {
    "slideshow": {
     "slide_type": "slide"
    }
   },
   "outputs": [],
   "source": [
    "a, b = 3, 4\n",
    "print(a, b)"
   ]
  },
  {
   "cell_type": "markdown",
   "id": "514f205b",
   "metadata": {
    "slideshow": {
     "slide_type": "slide"
    }
   },
   "source": [
    "No se admite la mezcla de operadores entre números y cadenas:"
   ]
  },
  {
   "cell_type": "code",
   "execution_count": null,
   "id": "6c3212ae",
   "metadata": {
    "slideshow": {
     "slide_type": "slide"
    }
   },
   "outputs": [],
   "source": [
    "# This will not work!\n",
    "one = 1\n",
    "two = 2\n",
    "hello = \"hello\"\n",
    "\n",
    "print(one + two + hello)"
   ]
  },
  {
   "cell_type": "markdown",
   "id": "1a677a5e",
   "metadata": {
    "slideshow": {
     "slide_type": "slide"
    }
   },
   "source": [
    "## Ejercicio"
   ]
  },
  {
   "cell_type": "markdown",
   "id": "b0211100",
   "metadata": {
    "slideshow": {
     "slide_type": "slide"
    }
   },
   "source": [
    "El objetivo de este ejercicio es crear una cadena, un entero y un número de coma flotante. La cadena debe tener nombre y debe contener la palabra \"hola\". El número de coma flotante debe tener un nombre y debe contener el número 10.0, y el entero debe tener el nombre y el número 20.mystringmyfloatmyint"
   ]
  },
  {
   "cell_type": "code",
   "execution_count": null,
   "id": "109e7e10",
   "metadata": {
    "slideshow": {
     "slide_type": "slide"
    }
   },
   "outputs": [],
   "source": [
    "# change this code\n",
    "mystring = 'Hola' \n",
    "myfloat = None\n",
    "myint = None\n",
    "\n",
    "# testing code\n",
    "if mystring == \"Hola\":\n",
    "    print(\"String: %s\" % mystring)\n",
    "if isinstance(myfloat, float) and myfloat == 10.0:\n",
    "    print(\"Float: %f\" % myfloat)\n",
    "if isinstance(myint,int) and myint == 20:\n",
    "    print(\"Integer: %d\" % myint)"
   ]
  },
  {
   "cell_type": "code",
   "execution_count": null,
   "id": "31e55e0e",
   "metadata": {
    "slideshow": {
     "slide_type": "slide"
    }
   },
   "outputs": [],
   "source": []
  },
  {
   "cell_type": "markdown",
   "id": "0430a010",
   "metadata": {
    "slideshow": {
     "slide_type": "slide"
    }
   },
   "source": [
    "## Matemáticas necesarias para análisis de datos:  \n",
    "\n",
    "Estudiamos el lenguaje matricial necesario para entender teoremas de descomposición vitales en procesos de aproximación. Se hace énfasis en método de mínimos cuadrados para luego generalizar y aplicar en problemas de ajuste de datos, clasificación, multi- objetivo y optimización lineal dotada de constricciones"
   ]
  },
  {
   "cell_type": "markdown",
   "id": "832dae9d",
   "metadata": {
    "slideshow": {
     "slide_type": "slide"
    }
   },
   "source": [
    "## El problema del Aprendizaje Supervisado:  "
   ]
  },
  {
   "cell_type": "markdown",
   "id": "64c35262",
   "metadata": {
    "slideshow": {
     "slide_type": "slide"
    }
   },
   "source": [
    "Aquí se introduce la notación y se procura dar una justificación de cada una de las componentes clásicas del modelo de aprendizaje supervisado tales como función objetivo, conjunto de entrenamiento, algoritmo de aprendizaje, clases de hipótesis, medida del error y predictor. El énfasis estará en reconocer que es posible hablar de aprendizaje de datos, pero en un sentido probabilístico.   "
   ]
  },
  {
   "cell_type": "markdown",
   "id": "60d66438",
   "metadata": {
    "slideshow": {
     "slide_type": "slide"
    }
   },
   "source": [
    "## Entrenamiento y testeo:  "
   ]
  },
  {
   "cell_type": "markdown",
   "id": "081bab16",
   "metadata": {
    "slideshow": {
     "slide_type": "slide"
    }
   },
   "source": [
    "Se propone estudiar la difícil relación de equilibrio que se debe tener entre aproximación y generalización. El énfasis estará en reconocer el papel fundamental de las clases de hipótesis y la tarea delicada de conseguir buenos procesos de aproximación sin perder habilidad de generalización. "
   ]
  },
  {
   "cell_type": "markdown",
   "id": "502e63ac",
   "metadata": {
    "slideshow": {
     "slide_type": "slide"
    }
   },
   "source": [
    "## El modelo lineal:"
   ]
  },
  {
   "cell_type": "markdown",
   "id": "497d75f7",
   "metadata": {
    "slideshow": {
     "slide_type": "slide"
    }
   },
   "source": [
    "Se estudian \n",
    "\n",
    "* la clasificación lineal, \n",
    "* la regresión lineal \n",
    "* regresión logística. \n",
    "\n",
    "Además, se introducen **algoritmos eficientes de apredizaje** tales como\n",
    "gradiente descendente y perceptrón de bolsillo. "
   ]
  },
  {
   "cell_type": "markdown",
   "id": "d6d492d9",
   "metadata": {
    "slideshow": {
     "slide_type": "slide"
    }
   },
   "source": [
    "## Sobreentrenamiento:"
   ]
  },
  {
   "cell_type": "markdown",
   "id": "ba8e018f",
   "metadata": {
    "slideshow": {
     "slide_type": "slide"
    }
   },
   "source": [
    "Se reconocen escenarios no intuitivos de sobreajuste de datos y se propone la regularización como estrategia para evitar este problema. Además se propone la validación como herramienta para la selección de modelos. "
   ]
  },
  {
   "cell_type": "code",
   "execution_count": null,
   "id": "8fc1352e",
   "metadata": {
    "slideshow": {
     "slide_type": "slide"
    }
   },
   "outputs": [],
   "source": []
  },
  {
   "cell_type": "markdown",
   "id": "86aeb304",
   "metadata": {
    "slideshow": {
     "slide_type": "slide"
    }
   },
   "source": [
    "## Funciones de Python asociadas a este cuaderno"
   ]
  },
  {
   "cell_type": "markdown",
   "id": "1b8acc92",
   "metadata": {
    "slideshow": {
     "slide_type": "slide"
    }
   },
   "source": [
    "* `type()` una función que nos describe la naturaleza del objeto de python. "
   ]
  },
  {
   "cell_type": "markdown",
   "id": "9ac8fb8d",
   "metadata": {
    "slideshow": {
     "slide_type": "slide"
    }
   },
   "source": [
    "## Referentes \n",
    "\n",
    "* Geron, Aurelien. Hand on Machine Learning with Scikit-Learn, Keras and TensorFlow: Concepts, tools, and techniques to build intelligent systems. \n",
    "\n",
    "* La documentación oficial de Python: https://docs.python.org/3/tutorial/index.html "
   ]
  },
  {
   "cell_type": "markdown",
   "id": "f0d5a931",
   "metadata": {
    "slideshow": {
     "slide_type": "slide"
    }
   },
   "source": []
  },
  {
   "cell_type": "markdown",
   "id": "f0641ee4",
   "metadata": {
    "slideshow": {
     "slide_type": "slide"
    }
   },
   "source": [
    "# [Una introducción informal a Python](https://docs.python.org/3/tutorial/introduction.html) "
   ]
  },
  {
   "cell_type": "code",
   "execution_count": 1,
   "id": "d93b03f3",
   "metadata": {
    "slideshow": {
     "slide_type": "slide"
    }
   },
   "outputs": [],
   "source": [
    "# emepecemos creando una variable utilizando el operador de asignación =\n",
    "spam = 1  # and this is the second comment"
   ]
  },
  {
   "cell_type": "code",
   "execution_count": 9,
   "id": "13ba5532",
   "metadata": {
    "slideshow": {
     "slide_type": "slide"
    }
   },
   "outputs": [],
   "source": [
    "          # Este si en un comentario \n",
    "text =  \"Esta no es una línea de comentario es una cadena de caracteres\""
   ]
  },
  {
   "cell_type": "code",
   "execution_count": 7,
   "id": "a188c0b7",
   "metadata": {
    "slideshow": {
     "slide_type": "slide"
    }
   },
   "outputs": [
    {
     "data": {
      "text/plain": [
       "str"
      ]
     },
     "execution_count": 7,
     "metadata": {},
     "output_type": "execute_result"
    }
   ],
   "source": [
    "type(text) "
   ]
  },
  {
   "cell_type": "markdown",
   "id": "7a073aef",
   "metadata": {
    "slideshow": {
     "slide_type": "slide"
    }
   },
   "source": [
    "## 3.1. Uso de Python como calculadora"
   ]
  },
  {
   "cell_type": "markdown",
   "id": "3fabcaf9",
   "metadata": {
    "slideshow": {
     "slide_type": "slide"
    }
   },
   "source": [
    "El código Python lo podemos correr en:\n",
    "\n",
    "* Google Colab\n",
    "* Visual Studio Code\n",
    "* Idle Python\n",
    "* Anaconda "
   ]
  },
  {
   "cell_type": "markdown",
   "id": "ec3358d6",
   "metadata": {
    "slideshow": {
     "slide_type": "slide"
    }
   },
   "source": [
    "### 3.1.1. Números"
   ]
  },
  {
   "cell_type": "markdown",
   "id": "61b6cc64",
   "metadata": {
    "slideshow": {
     "slide_type": "slide"
    }
   },
   "source": [
    "El intérprete actúa como una simple calculadora: puede escribir una expresión en ella y escribirá el valor. La sintaxis de la expresión es sencilla: \n",
    "\n",
    "Utilizando los operadores +,*,/,-,(), y funcionan como en la mayoría de los otros lenguajes (por ejemplo, Pascal o C); los paréntesis () se pueden utilizar para agrupar. Por ejemplo:"
   ]
  },
  {
   "cell_type": "code",
   "execution_count": 10,
   "id": "7948a425",
   "metadata": {
    "slideshow": {
     "slide_type": "slide"
    }
   },
   "outputs": [
    {
     "data": {
      "text/plain": [
       "5"
      ]
     },
     "execution_count": 10,
     "metadata": {},
     "output_type": "execute_result"
    }
   ],
   "source": [
    "2 + 3"
   ]
  },
  {
   "cell_type": "code",
   "execution_count": 11,
   "id": "f7c3b1ee",
   "metadata": {
    "slideshow": {
     "slide_type": "slide"
    }
   },
   "outputs": [
    {
     "data": {
      "text/plain": [
       "7"
      ]
     },
     "execution_count": 11,
     "metadata": {},
     "output_type": "execute_result"
    }
   ],
   "source": [
    "1+2*3"
   ]
  },
  {
   "cell_type": "code",
   "execution_count": 15,
   "id": "b97669c3",
   "metadata": {
    "slideshow": {
     "slide_type": "slide"
    }
   },
   "outputs": [
    {
     "data": {
      "text/plain": [
       "3.0"
      ]
     },
     "execution_count": 15,
     "metadata": {},
     "output_type": "execute_result"
    }
   ],
   "source": [
    "(2+1)/(2-1)"
   ]
  },
  {
   "cell_type": "code",
   "execution_count": 16,
   "id": "be1760e1",
   "metadata": {
    "slideshow": {
     "slide_type": "slide"
    }
   },
   "outputs": [
    {
     "data": {
      "text/plain": [
       "1.6"
      ]
     },
     "execution_count": 16,
     "metadata": {},
     "output_type": "execute_result"
    }
   ],
   "source": [
    "8/5  # division always returns a floating point number\n"
   ]
  },
  {
   "cell_type": "code",
   "execution_count": 17,
   "id": "4e2252f8",
   "metadata": {
    "slideshow": {
     "slide_type": "slide"
    }
   },
   "outputs": [
    {
     "data": {
      "text/plain": [
       "float"
      ]
     },
     "execution_count": 17,
     "metadata": {},
     "output_type": "execute_result"
    }
   ],
   "source": [
    "type(8/5)"
   ]
  },
  {
   "cell_type": "markdown",
   "id": "23c57af1",
   "metadata": {
    "slideshow": {
     "slide_type": "slide"
    }
   },
   "source": [
    "Los números enteros (por ejemplo, 13, 5 , 17) tienen tipo `int`, los que tienen una parte fraccionaria (por ejemplo,5.13, 1.14 ) tienen tipo `float`."
   ]
  },
  {
   "cell_type": "code",
   "execution_count": 18,
   "id": "e8c7bede",
   "metadata": {
    "slideshow": {
     "slide_type": "slide"
    }
   },
   "outputs": [
    {
     "data": {
      "text/plain": [
       "int"
      ]
     },
     "execution_count": 18,
     "metadata": {},
     "output_type": "execute_result"
    }
   ],
   "source": [
    "type(13)"
   ]
  },
  {
   "cell_type": "code",
   "execution_count": 19,
   "id": "95106c93",
   "metadata": {
    "slideshow": {
     "slide_type": "slide"
    }
   },
   "outputs": [
    {
     "data": {
      "text/plain": [
       "float"
      ]
     },
     "execution_count": 19,
     "metadata": {},
     "output_type": "execute_result"
    }
   ],
   "source": [
    "type(13.0)"
   ]
  },
  {
   "cell_type": "markdown",
   "id": "c89aaaa3",
   "metadata": {
    "slideshow": {
     "slide_type": "slide"
    }
   },
   "source": [
    "La división (`/`) siempre devuelve un objeto tipo `float`. "
   ]
  },
  {
   "cell_type": "markdown",
   "id": "5e6d9727",
   "metadata": {
    "slideshow": {
     "slide_type": "slide"
    }
   },
   "source": [
    "Para hacer la división usual y obtener un resultado entero (descartando cualquier resultado fraccionario) se puede utilizar el operador `//`; "
   ]
  },
  {
   "cell_type": "markdown",
   "id": "64f429f4",
   "metadata": {
    "slideshow": {
     "slide_type": "slide"
    }
   },
   "source": [
    "para calcular el residuo de la división puede utilizar:`%`"
   ]
  },
  {
   "cell_type": "code",
   "execution_count": 20,
   "id": "fc2112fa",
   "metadata": {
    "slideshow": {
     "slide_type": "slide"
    }
   },
   "outputs": [
    {
     "data": {
      "text/plain": [
       "6.5"
      ]
     },
     "execution_count": 20,
     "metadata": {},
     "output_type": "execute_result"
    }
   ],
   "source": [
    "13/2  # classic division returns a float"
   ]
  },
  {
   "cell_type": "code",
   "execution_count": 22,
   "id": "f473df42",
   "metadata": {
    "slideshow": {
     "slide_type": "slide"
    }
   },
   "outputs": [
    {
     "data": {
      "text/plain": [
       "6"
      ]
     },
     "execution_count": 22,
     "metadata": {},
     "output_type": "execute_result"
    }
   ],
   "source": [
    "13//2  # floor division discards the fractional part"
   ]
  },
  {
   "cell_type": "code",
   "execution_count": 23,
   "id": "14693b11",
   "metadata": {
    "slideshow": {
     "slide_type": "slide"
    }
   },
   "outputs": [
    {
     "data": {
      "text/plain": [
       "1"
      ]
     },
     "execution_count": 23,
     "metadata": {},
     "output_type": "execute_result"
    }
   ],
   "source": [
    "13%2  # the % operator returns the remainder of the division"
   ]
  },
  {
   "cell_type": "code",
   "execution_count": 26,
   "id": "59baf76b",
   "metadata": {
    "slideshow": {
     "slide_type": "slide"
    }
   },
   "outputs": [
    {
     "data": {
      "text/plain": [
       "True"
      ]
     },
     "execution_count": 26,
     "metadata": {},
     "output_type": "execute_result"
    }
   ],
   "source": [
    "13 == 6*2 + 1  # floored quotient * divisor + remainder\n"
   ]
  },
  {
   "cell_type": "markdown",
   "id": "a793eb13",
   "metadata": {
    "slideshow": {
     "slide_type": "slide"
    }
   },
   "source": [
    "Con Python, es posible usar el operador para calcular potencias:`**`"
   ]
  },
  {
   "cell_type": "code",
   "execution_count": 27,
   "id": "950c2320",
   "metadata": {
    "slideshow": {
     "slide_type": "slide"
    }
   },
   "outputs": [
    {
     "data": {
      "text/plain": [
       "9"
      ]
     },
     "execution_count": 27,
     "metadata": {},
     "output_type": "execute_result"
    }
   ],
   "source": [
    "3**2  #  squared"
   ]
  },
  {
   "cell_type": "code",
   "execution_count": 28,
   "id": "2eabc201",
   "metadata": {},
   "outputs": [
    {
     "data": {
      "text/plain": [
       "6"
      ]
     },
     "execution_count": 28,
     "metadata": {},
     "output_type": "execute_result"
    }
   ],
   "source": [
    "3*2"
   ]
  },
  {
   "cell_type": "code",
   "execution_count": 29,
   "id": "11507efe",
   "metadata": {
    "slideshow": {
     "slide_type": "slide"
    }
   },
   "outputs": [
    {
     "data": {
      "text/plain": [
       "32"
      ]
     },
     "execution_count": 29,
     "metadata": {},
     "output_type": "execute_result"
    }
   ],
   "source": [
    "2**5  # 2 to the power of 5\n"
   ]
  },
  {
   "cell_type": "markdown",
   "id": "b9689fb5",
   "metadata": {
    "slideshow": {
     "slide_type": "slide"
    }
   },
   "source": [
    "El signo igual (`=`) se utiliza para asignar un valor a una variable. Posteriormente, no se muestra ningún resultado antes del siguiente mensaje interactivo:"
   ]
  },
  {
   "cell_type": "code",
   "execution_count": 30,
   "id": "12649b0e",
   "metadata": {
    "slideshow": {
     "slide_type": "slide"
    }
   },
   "outputs": [
    {
     "data": {
      "text/plain": [
       "12"
      ]
     },
     "execution_count": 30,
     "metadata": {},
     "output_type": "execute_result"
    }
   ],
   "source": [
    "width = 3\n",
    "height = 4\n",
    "width * height"
   ]
  },
  {
   "cell_type": "markdown",
   "id": "9ffdd2d0",
   "metadata": {
    "slideshow": {
     "slide_type": "slide"
    }
   },
   "source": [
    "Si una variable no \"definida\" (es decir, no se le ha asignado un valor), al intentar usarla se le dará un error:"
   ]
  },
  {
   "cell_type": "code",
   "execution_count": 31,
   "id": "ddbf723c",
   "metadata": {
    "slideshow": {
     "slide_type": "slide"
    }
   },
   "outputs": [
    {
     "ename": "NameError",
     "evalue": "name 'n' is not defined",
     "output_type": "error",
     "traceback": [
      "\u001b[1;31m---------------------------------------------------------------------------\u001b[0m",
      "\u001b[1;31mNameError\u001b[0m                                 Traceback (most recent call last)",
      "\u001b[1;32m<ipython-input-31-e1b81972a63e>\u001b[0m in \u001b[0;36m<module>\u001b[1;34m\u001b[0m\n\u001b[1;32m----> 1\u001b[1;33m \u001b[0mn\u001b[0m                            \u001b[1;31m# try to access an undefined variable\u001b[0m\u001b[1;33m\u001b[0m\u001b[1;33m\u001b[0m\u001b[0m\n\u001b[0m",
      "\u001b[1;31mNameError\u001b[0m: name 'n' is not defined"
     ]
    }
   ],
   "source": [
    "n                            # try to access an undefined variable"
   ]
  },
  {
   "cell_type": "markdown",
   "id": "45d9dfa8",
   "metadata": {
    "slideshow": {
     "slide_type": "slide"
    }
   },
   "source": [
    "los operadores con operandos de tipo mixto convierten el operando entero en coma flotante:"
   ]
  },
  {
   "cell_type": "code",
   "execution_count": 35,
   "id": "edb513ac",
   "metadata": {
    "slideshow": {
     "slide_type": "slide"
    }
   },
   "outputs": [
    {
     "data": {
      "text/plain": [
       "float"
      ]
     },
     "execution_count": 35,
     "metadata": {},
     "output_type": "execute_result"
    }
   ],
   "source": [
    "type(2/3-1)\n"
   ]
  },
  {
   "cell_type": "markdown",
   "id": "c9a292e8",
   "metadata": {
    "slideshow": {
     "slide_type": "slide"
    }
   },
   "source": [
    "En el modo interactivo, la última expresión impresa se asigna a la variable `-`. Esto significa que cuando está utilizando Python como calculadora de escritorio, es algo más fácil continuar con los cálculos, por ejemplo:"
   ]
  },
  {
   "cell_type": "code",
   "execution_count": 36,
   "id": "61e935c2",
   "metadata": {
    "slideshow": {
     "slide_type": "slide"
    }
   },
   "outputs": [
    {
     "data": {
      "text/plain": [
       "300.0"
      ]
     },
     "execution_count": 36,
     "metadata": {},
     "output_type": "execute_result"
    }
   ],
   "source": [
    "tax = 12/4\n",
    "price = 100\n",
    "price * tax"
   ]
  },
  {
   "cell_type": "code",
   "execution_count": 37,
   "id": "06db5fa3",
   "metadata": {
    "slideshow": {
     "slide_type": "slide"
    }
   },
   "outputs": [
    {
     "data": {
      "text/plain": [
       "400.0"
      ]
     },
     "execution_count": 37,
     "metadata": {},
     "output_type": "execute_result"
    }
   ],
   "source": [
    "price + _"
   ]
  },
  {
   "cell_type": "code",
   "execution_count": 38,
   "id": "e1085e71",
   "metadata": {
    "slideshow": {
     "slide_type": "slide"
    }
   },
   "outputs": [
    {
     "data": {
      "text/plain": [
       "800.0"
      ]
     },
     "execution_count": 38,
     "metadata": {},
     "output_type": "execute_result"
    }
   ],
   "source": [
    "_*2\n"
   ]
  },
  {
   "cell_type": "markdown",
   "id": "f30f7077",
   "metadata": {
    "slideshow": {
     "slide_type": "slide"
    }
   },
   "source": [
    "Esta variable debe ser tratada como de solo lectura por el usuario. No le asigne explícitamente un valor: crearía una variable local independiente con el mismo nombre que enmascarara la variable incorporada con su comportamiento mágico."
   ]
  },
  {
   "cell_type": "markdown",
   "id": "8cd08081",
   "metadata": {
    "slideshow": {
     "slide_type": "slide"
    }
   },
   "source": [
    "Además de `int` y `float`, Python también tiene soporte incorporado para números complejos,y utiliza el sufijo o para indicar la parte imaginaria (por ejemplo la unidad imaginaria se denota en Python así:`1j` )"
   ]
  },
  {
   "cell_type": "code",
   "execution_count": 40,
   "id": "6a330005",
   "metadata": {
    "slideshow": {
     "slide_type": "slide"
    }
   },
   "outputs": [
    {
     "data": {
      "text/plain": [
       "(-1+0j)"
      ]
     },
     "execution_count": 40,
     "metadata": {},
     "output_type": "execute_result"
    }
   ],
   "source": [
    "1j**2 "
   ]
  },
  {
   "cell_type": "code",
   "execution_count": 43,
   "id": "9afd4de5",
   "metadata": {
    "slideshow": {
     "slide_type": "slide"
    }
   },
   "outputs": [
    {
     "data": {
      "text/plain": [
       "2j"
      ]
     },
     "execution_count": 43,
     "metadata": {},
     "output_type": "execute_result"
    }
   ],
   "source": [
    "2j"
   ]
  },
  {
   "cell_type": "markdown",
   "id": "c9281588",
   "metadata": {
    "slideshow": {
     "slide_type": "slide"
    }
   },
   "source": [
    "## 3.1.2. Cadenas"
   ]
  },
  {
   "cell_type": "markdown",
   "id": "b7d7436b",
   "metadata": {
    "slideshow": {
     "slide_type": "slide"
    }
   },
   "source": [
    "Además de los números, Python también puede manipular cadenas, que se pueden expresar de varias maneras. Se pueden encerrar entre comillas simples (`'...'`) o comillas dobles (`\"...\"`) con el mismo resultado. se puede utilizar para escapar de las comillas`\\`:"
   ]
  },
  {
   "cell_type": "code",
   "execution_count": 44,
   "id": "266e1a4d",
   "metadata": {
    "slideshow": {
     "slide_type": "slide"
    }
   },
   "outputs": [
    {
     "data": {
      "text/plain": [
       "'huevos'"
      ]
     },
     "execution_count": 44,
     "metadata": {},
     "output_type": "execute_result"
    }
   ],
   "source": [
    "'huevos'  # single quotes"
   ]
  },
  {
   "cell_type": "code",
   "execution_count": 45,
   "id": "268d5e99",
   "metadata": {
    "slideshow": {
     "slide_type": "slide"
    }
   },
   "outputs": [
    {
     "data": {
      "text/plain": [
       "\"doesn't\""
      ]
     },
     "execution_count": 45,
     "metadata": {},
     "output_type": "execute_result"
    }
   ],
   "source": [
    "'doesn\\'t'  # use \\' to escape the single quote..."
   ]
  },
  {
   "cell_type": "code",
   "execution_count": 46,
   "id": "27baa99f",
   "metadata": {
    "slideshow": {
     "slide_type": "slide"
    }
   },
   "outputs": [
    {
     "data": {
      "text/plain": [
       "\"doesn't\""
      ]
     },
     "execution_count": 46,
     "metadata": {},
     "output_type": "execute_result"
    }
   ],
   "source": [
    "\"doesn't\"  # ...or use double quotes instead"
   ]
  },
  {
   "cell_type": "code",
   "execution_count": 47,
   "id": "603b2aa1",
   "metadata": {
    "slideshow": {
     "slide_type": "slide"
    }
   },
   "outputs": [
    {
     "data": {
      "text/plain": [
       "'\"Yes,\" they said.'"
      ]
     },
     "execution_count": 47,
     "metadata": {},
     "output_type": "execute_result"
    }
   ],
   "source": [
    "'\"Yes,\" they said.'"
   ]
  },
  {
   "cell_type": "markdown",
   "id": "cda124d0",
   "metadata": {
    "slideshow": {
     "slide_type": "slide"
    }
   },
   "source": [
    "En el intérprete interactivo, la cadena de salida se encierra entre comillas y los caracteres especiales se escapan con barras diagonales inversas (o backslash).  "
   ]
  },
  {
   "cell_type": "markdown",
   "id": "0591ab85",
   "metadata": {
    "slideshow": {
     "slide_type": "slide"
    }
   },
   "source": [
    "Si bien esto a veces puede parecer diferente de la entrada (las comillas adjuntas podrían cambiar), las dos cadenas son equivalentes. "
   ]
  },
  {
   "cell_type": "markdown",
   "id": "450f564a",
   "metadata": {
    "slideshow": {
     "slide_type": "slide"
    }
   },
   "source": [
    "La cadena se incluye entre comillas dobles si la cadena contiene una comillas simples y no comillas dobles, de lo contrario se incluye entre comillas simples. "
   ]
  },
  {
   "cell_type": "markdown",
   "id": "2642a83d",
   "metadata": {
    "slideshow": {
     "slide_type": "slide"
    }
   },
   "source": [
    "La función `print()` produce una salida más legible, omitiendo las comillas adjuntas e imprimiendo caracteres escapados y especiales:"
   ]
  },
  {
   "cell_type": "code",
   "execution_count": 50,
   "id": "f8f70ab7",
   "metadata": {
    "slideshow": {
     "slide_type": "slide"
    }
   },
   "outputs": [
    {
     "data": {
      "text/plain": [
       "\"Isn't, they said.\""
      ]
     },
     "execution_count": 50,
     "metadata": {},
     "output_type": "execute_result"
    }
   ],
   "source": [
    "'Isn\\'t, they said.'"
   ]
  },
  {
   "cell_type": "code",
   "execution_count": 51,
   "id": "638644fe",
   "metadata": {
    "slideshow": {
     "slide_type": "slide"
    }
   },
   "outputs": [
    {
     "name": "stdout",
     "output_type": "stream",
     "text": [
      "\"Isn't,\" they said.\n"
     ]
    }
   ],
   "source": [
    "print('\"Isn\\'t,\" they said.')"
   ]
  },
  {
   "cell_type": "code",
   "execution_count": 52,
   "id": "4dd6ee5e",
   "metadata": {
    "slideshow": {
     "slide_type": "slide"
    }
   },
   "outputs": [],
   "source": [
    "s = 'First line.\\nSecond line.'  # \\n means newline"
   ]
  },
  {
   "cell_type": "code",
   "execution_count": 53,
   "id": "5aa0fba2",
   "metadata": {
    "slideshow": {
     "slide_type": "slide"
    }
   },
   "outputs": [
    {
     "data": {
      "text/plain": [
       "'First line.\\nSecond line.'"
      ]
     },
     "execution_count": 53,
     "metadata": {},
     "output_type": "execute_result"
    }
   ],
   "source": [
    "s "
   ]
  },
  {
   "cell_type": "code",
   "execution_count": 54,
   "id": "3cc45462",
   "metadata": {
    "slideshow": {
     "slide_type": "slide"
    }
   },
   "outputs": [
    {
     "name": "stdout",
     "output_type": "stream",
     "text": [
      "First line.\n",
      "Second line.\n"
     ]
    }
   ],
   "source": [
    "print(s)  # with print(), \\n produces a new line"
   ]
  },
  {
   "cell_type": "markdown",
   "id": "e5008dbf",
   "metadata": {
    "slideshow": {
     "slide_type": "slide"
    }
   },
   "source": [
    "Si no desea que los caracteres precedidos por `\\` se interpreten como caracteres especiales, puede usar cadenas sin formato agregando un `r` antes de la primera cita:"
   ]
  },
  {
   "cell_type": "code",
   "execution_count": 57,
   "id": "d89c5099",
   "metadata": {
    "slideshow": {
     "slide_type": "slide"
    }
   },
   "outputs": [
    {
     "name": "stdout",
     "output_type": "stream",
     "text": [
      "dia\n",
      "ombre\n"
     ]
    }
   ],
   "source": [
    "print('dia\\nombre')  # here \\n means newline!"
   ]
  },
  {
   "cell_type": "code",
   "execution_count": 58,
   "id": "cfc355f3",
   "metadata": {
    "slideshow": {
     "slide_type": "slide"
    }
   },
   "outputs": [
    {
     "name": "stdout",
     "output_type": "stream",
     "text": [
      "día\\nombre\n"
     ]
    }
   ],
   "source": [
    "print(r'día\\nombre')  # note the r before the quote\n"
   ]
  },
  {
   "cell_type": "markdown",
   "id": "6d51e549",
   "metadata": {
    "slideshow": {
     "slide_type": "slide"
    }
   },
   "source": [
    "Las cadenas pueden abarcar varias líneas. "
   ]
  },
  {
   "cell_type": "markdown",
   "id": "ab26f0bb",
   "metadata": {
    "slideshow": {
     "slide_type": "slide"
    }
   },
   "source": [
    "Una forma es usar comillas triples: `\"\"\"...\"\"\"` o `'''...'''` . El final de las líneas se incluye automáticamente en la cadena, pero es posible evitarlo agregando un `\\` al final de la línea. El siguiente ejemplo:"
   ]
  },
  {
   "cell_type": "code",
   "execution_count": 60,
   "id": "043509f6",
   "metadata": {
    "scrolled": true,
    "slideshow": {
     "slide_type": "slide"
    }
   },
   "outputs": [
    {
     "name": "stdout",
     "output_type": "stream",
     "text": [
      "Primera línea de la cadena\n",
      "Segunda línea de la cadena\n",
      "\n"
     ]
    }
   ],
   "source": [
    "print(\"\"\"Primera línea de la cadena\n",
    "Segunda línea de la cadena\n",
    "\"\"\")"
   ]
  },
  {
   "cell_type": "code",
   "execution_count": 61,
   "id": "dc321ce2",
   "metadata": {
    "slideshow": {
     "slide_type": "slide"
    }
   },
   "outputs": [
    {
     "name": "stdout",
     "output_type": "stream",
     "text": [
      "Primera línea de la cadena\n",
      "Segunda línea de la cadena\n",
      "\n"
     ]
    }
   ],
   "source": [
    "print('''Primera línea de la cadena\n",
    "Segunda línea de la cadena\n",
    "''') "
   ]
  },
  {
   "cell_type": "markdown",
   "id": "3b2db1fb",
   "metadata": {
    "slideshow": {
     "slide_type": "slide"
    }
   },
   "source": [
    "## Concatenación de cadenas o String"
   ]
  },
  {
   "cell_type": "markdown",
   "id": "e13f267c",
   "metadata": {
    "slideshow": {
     "slide_type": "slide"
    }
   },
   "source": [
    "Las cadenas pueden concatenarse (pegarse) con el operador `+` y repetirse con `*`:"
   ]
  },
  {
   "cell_type": "code",
   "execution_count": 62,
   "id": "99a61615",
   "metadata": {
    "slideshow": {
     "slide_type": "slide"
    }
   },
   "outputs": [
    {
     "data": {
      "text/plain": [
       "'pythonpythonpython'"
      ]
     },
     "execution_count": 62,
     "metadata": {},
     "output_type": "execute_result"
    }
   ],
   "source": [
    "\n",
    "3 * 'python'\n"
   ]
  },
  {
   "cell_type": "code",
   "execution_count": 63,
   "id": "b2efd39c",
   "metadata": {
    "slideshow": {
     "slide_type": "slide"
    }
   },
   "outputs": [
    {
     "data": {
      "text/plain": [
       "'python'"
      ]
     },
     "execution_count": 63,
     "metadata": {},
     "output_type": "execute_result"
    }
   ],
   "source": [
    "'py'+'thon'"
   ]
  },
  {
   "cell_type": "markdown",
   "id": "0afe06ce",
   "metadata": {
    "slideshow": {
     "slide_type": "slide"
    }
   },
   "source": [
    "Dos o más literales de cadena (es decir, los que están entre comillas) uno al lado del otro se concatenan automáticamente."
   ]
  },
  {
   "cell_type": "code",
   "execution_count": 66,
   "id": "b5f60b13",
   "metadata": {
    "slideshow": {
     "slide_type": "slide"
    }
   },
   "outputs": [
    {
     "data": {
      "text/plain": [
       "'PythonMarco'"
      ]
     },
     "execution_count": 66,
     "metadata": {},
     "output_type": "execute_result"
    }
   ],
   "source": [
    "'Py''thon''Marco'\n"
   ]
  },
  {
   "cell_type": "markdown",
   "id": "62dd66ba",
   "metadata": {
    "slideshow": {
     "slide_type": "slide"
    }
   },
   "source": [
    "Sin embargo, esto solo funciona con dos literales, no con variables o expresiones:"
   ]
  },
  {
   "cell_type": "code",
   "execution_count": 67,
   "id": "b70fe32c",
   "metadata": {
    "slideshow": {
     "slide_type": "slide"
    }
   },
   "outputs": [],
   "source": [
    "prefix = 'Py'"
   ]
  },
  {
   "cell_type": "code",
   "execution_count": 68,
   "id": "a01d5d45",
   "metadata": {
    "slideshow": {
     "slide_type": "slide"
    }
   },
   "outputs": [
    {
     "ename": "SyntaxError",
     "evalue": "invalid syntax (<ipython-input-68-c5901e312aa3>, line 1)",
     "output_type": "error",
     "traceback": [
      "\u001b[1;36m  File \u001b[1;32m\"<ipython-input-68-c5901e312aa3>\"\u001b[1;36m, line \u001b[1;32m1\u001b[0m\n\u001b[1;33m    prefix 'thon'  # can't concatenate a variable and a string literal\u001b[0m\n\u001b[1;37m           ^\u001b[0m\n\u001b[1;31mSyntaxError\u001b[0m\u001b[1;31m:\u001b[0m invalid syntax\n"
     ]
    }
   ],
   "source": [
    "prefix 'thon'  # can't concatenate a variable and a string literal"
   ]
  },
  {
   "cell_type": "markdown",
   "id": "b29676b7",
   "metadata": {
    "slideshow": {
     "slide_type": "slide"
    }
   },
   "source": [
    "Si desea concatenar variables o una variable y un literal, utilice `+` :"
   ]
  },
  {
   "cell_type": "code",
   "execution_count": 69,
   "id": "009bd46e",
   "metadata": {
    "slideshow": {
     "slide_type": "slide"
    }
   },
   "outputs": [
    {
     "data": {
      "text/plain": [
       "'Python'"
      ]
     },
     "execution_count": 69,
     "metadata": {},
     "output_type": "execute_result"
    }
   ],
   "source": [
    "prefix + 'thon'"
   ]
  },
  {
   "cell_type": "markdown",
   "id": "e8c7a3cc",
   "metadata": {
    "slideshow": {
     "slide_type": "slide"
    }
   },
   "source": [
    "## Indexación de cadenas"
   ]
  },
  {
   "cell_type": "markdown",
   "id": "d89c30df",
   "metadata": {
    "slideshow": {
     "slide_type": "slide"
    }
   },
   "source": [
    "Las cadenas se pueden indexar (subíndices), con el primer carácter que tiene índice 0. "
   ]
  },
  {
   "cell_type": "markdown",
   "id": "d6f94d29",
   "metadata": {
    "slideshow": {
     "slide_type": "slide"
    }
   },
   "source": [
    "un carácter es simplemente una cadena de tamaño uno:"
   ]
  },
  {
   "cell_type": "code",
   "execution_count": 70,
   "id": "a8a37304",
   "metadata": {
    "slideshow": {
     "slide_type": "slide"
    }
   },
   "outputs": [],
   "source": [
    "palabra = 'Yasmira'"
   ]
  },
  {
   "cell_type": "code",
   "execution_count": 71,
   "id": "18476e1b",
   "metadata": {},
   "outputs": [
    {
     "data": {
      "text/plain": [
       "7"
      ]
     },
     "execution_count": 71,
     "metadata": {},
     "output_type": "execute_result"
    }
   ],
   "source": [
    "len(palabra)"
   ]
  },
  {
   "cell_type": "code",
   "execution_count": 73,
   "id": "2dd6a1eb",
   "metadata": {
    "slideshow": {
     "slide_type": "slide"
    }
   },
   "outputs": [
    {
     "data": {
      "text/plain": [
       "str"
      ]
     },
     "execution_count": 73,
     "metadata": {},
     "output_type": "execute_result"
    }
   ],
   "source": [
    "type(palabra[0])   # character in position 0"
   ]
  },
  {
   "cell_type": "code",
   "execution_count": 76,
   "id": "c8169aae",
   "metadata": {
    "slideshow": {
     "slide_type": "slide"
    }
   },
   "outputs": [
    {
     "data": {
      "text/plain": [
       "'a'"
      ]
     },
     "execution_count": 76,
     "metadata": {},
     "output_type": "execute_result"
    }
   ],
   "source": [
    "palabra[6]  # character in position 5\n"
   ]
  },
  {
   "cell_type": "markdown",
   "id": "9e99b9f6",
   "metadata": {
    "slideshow": {
     "slide_type": "slide"
    }
   },
   "source": [
    "Los índices también pueden ser números negativos, para empezar a contar desde la derecha:"
   ]
  },
  {
   "cell_type": "code",
   "execution_count": 77,
   "id": "e312bd30",
   "metadata": {
    "slideshow": {
     "slide_type": "slide"
    }
   },
   "outputs": [
    {
     "data": {
      "text/plain": [
       "'a'"
      ]
     },
     "execution_count": 77,
     "metadata": {},
     "output_type": "execute_result"
    }
   ],
   "source": [
    "palabra[-1]  # last character"
   ]
  },
  {
   "cell_type": "code",
   "execution_count": 78,
   "id": "c6d1f68f",
   "metadata": {
    "slideshow": {
     "slide_type": "slide"
    }
   },
   "outputs": [
    {
     "data": {
      "text/plain": [
       "'r'"
      ]
     },
     "execution_count": 78,
     "metadata": {},
     "output_type": "execute_result"
    }
   ],
   "source": [
    "palabra[-2]  # second-last character. Recordar:  palabra = 'Yasmira'"
   ]
  },
  {
   "cell_type": "code",
   "execution_count": 80,
   "id": "ef832997",
   "metadata": {
    "slideshow": {
     "slide_type": "slide"
    }
   },
   "outputs": [
    {
     "data": {
      "text/plain": [
       "'Y'"
      ]
     },
     "execution_count": 80,
     "metadata": {},
     "output_type": "execute_result"
    }
   ],
   "source": [
    "palabra[-7]\n"
   ]
  },
  {
   "cell_type": "markdown",
   "id": "4a29d84e",
   "metadata": {
    "slideshow": {
     "slide_type": "slide"
    }
   },
   "source": [
    "Tenga en cuenta que dado que -0 es lo mismo que 0, los índices negativos comienzan desde -1."
   ]
  },
  {
   "cell_type": "markdown",
   "id": "79679455",
   "metadata": {},
   "source": [
    "# Slicing de cadenas "
   ]
  },
  {
   "cell_type": "markdown",
   "id": "d16535bd",
   "metadata": {
    "slideshow": {
     "slide_type": "slide"
    }
   },
   "source": [
    "Además de la indexación, también se admite el corte. Mientras que la indexación se utiliza para obtener caracteres individuales, el corte le permite obtener subcadenas:"
   ]
  },
  {
   "cell_type": "code",
   "execution_count": 84,
   "id": "a16e75c2",
   "metadata": {
    "slideshow": {
     "slide_type": "slide"
    }
   },
   "outputs": [
    {
     "data": {
      "text/plain": [
       "'Yasmi'"
      ]
     },
     "execution_count": 84,
     "metadata": {},
     "output_type": "execute_result"
    }
   ],
   "source": [
    "palabra[0:5]  # characters from position 0 (included) to 2 (excluded)"
   ]
  },
  {
   "cell_type": "code",
   "execution_count": 88,
   "id": "276be02d",
   "metadata": {
    "slideshow": {
     "slide_type": "slide"
    }
   },
   "outputs": [
    {
     "data": {
      "text/plain": [
       "'ra'"
      ]
     },
     "execution_count": 88,
     "metadata": {},
     "output_type": "execute_result"
    }
   ],
   "source": [
    "palabra[5:]  # characters from position 2 (included) to 5 (excluded)\n"
   ]
  },
  {
   "cell_type": "code",
   "execution_count": 90,
   "id": "dd9a2c84",
   "metadata": {
    "slideshow": {
     "slide_type": "slide"
    }
   },
   "outputs": [
    {
     "data": {
      "text/plain": [
       "'Yasmira'"
      ]
     },
     "execution_count": 90,
     "metadata": {},
     "output_type": "execute_result"
    }
   ],
   "source": [
    "palabra[0:5] + palabra[5:] # resaltemos la notación de dos punstos para el slacing de cadenas "
   ]
  },
  {
   "cell_type": "markdown",
   "id": "308bd0f5",
   "metadata": {
    "slideshow": {
     "slide_type": "slide"
    }
   },
   "source": [
    "Los índices de división tienen valores predeterminados útiles; un primer índice omitido se configura de forma predeterminada en cero, un segundo índice omitido tiene como valor predeterminado el tamaño de la cadena que se está segmentando."
   ]
  },
  {
   "cell_type": "code",
   "execution_count": 91,
   "id": "e4621f9d",
   "metadata": {
    "slideshow": {
     "slide_type": "slide"
    }
   },
   "outputs": [
    {
     "data": {
      "text/plain": [
       "'Ya'"
      ]
     },
     "execution_count": 91,
     "metadata": {},
     "output_type": "execute_result"
    }
   ],
   "source": [
    "palabra[:2]   # character from the beginning to position 2 (excluded)"
   ]
  },
  {
   "cell_type": "code",
   "execution_count": 92,
   "id": "d0498929",
   "metadata": {
    "slideshow": {
     "slide_type": "slide"
    }
   },
   "outputs": [
    {
     "data": {
      "text/plain": [
       "'ira'"
      ]
     },
     "execution_count": 92,
     "metadata": {},
     "output_type": "execute_result"
    }
   ],
   "source": [
    "palabra[4:]   # characters from position 4 (included) to the end.       Yasmira"
   ]
  },
  {
   "cell_type": "code",
   "execution_count": 93,
   "id": "ce8ea494",
   "metadata": {
    "slideshow": {
     "slide_type": "slide"
    }
   },
   "outputs": [
    {
     "data": {
      "text/plain": [
       "'ra'"
      ]
     },
     "execution_count": 93,
     "metadata": {},
     "output_type": "execute_result"
    }
   ],
   "source": [
    "palabra[-2:]  # characters from the second-last (included) to the end\n"
   ]
  },
  {
   "cell_type": "markdown",
   "id": "0d7cdde1",
   "metadata": {
    "slideshow": {
     "slide_type": "slide"
    }
   },
   "source": [
    "Observe cómo el inicio siempre se incluye y el final siempre se excluye. Esto asegura que siempre áse que   \n",
    "\n",
    "`s[:i] + s[i:] = s`. "
   ]
  },
  {
   "cell_type": "code",
   "execution_count": 94,
   "id": "9be6869a",
   "metadata": {
    "slideshow": {
     "slide_type": "slide"
    }
   },
   "outputs": [
    {
     "data": {
      "text/plain": [
       "'Yasmira'"
      ]
     },
     "execution_count": 94,
     "metadata": {},
     "output_type": "execute_result"
    }
   ],
   "source": [
    "palabra[:2] + palabra[2:]"
   ]
  },
  {
   "cell_type": "code",
   "execution_count": 95,
   "id": "284dd490",
   "metadata": {
    "slideshow": {
     "slide_type": "slide"
    }
   },
   "outputs": [
    {
     "data": {
      "text/plain": [
       "'Yasmira'"
      ]
     },
     "execution_count": 95,
     "metadata": {},
     "output_type": "execute_result"
    }
   ],
   "source": [
    "palabra[:4] + palabra[4:]\n"
   ]
  },
  {
   "cell_type": "markdown",
   "id": "ebd7e29b",
   "metadata": {
    "slideshow": {
     "slide_type": "slide"
    }
   },
   "source": [
    "Una forma de recordar cómo funcionan los sectores es pensar que los índices apuntan entre caracteres, con el borde izquierdo del primer carácter numerado 0. Entonces el borde derecho del último carácter de una cadena de n caracteres tiene índice n,por ejemplo:\n",
    "\n",
    "<img src = 'https://github.com/marco-canas/introducci-n-al-Machine-Learning/blob/main/classes/class_1/indexacion_cadenas.png?raw=true'>"
   ]
  },
  {
   "cell_type": "code",
   "execution_count": 99,
   "id": "7e38c36c",
   "metadata": {
    "slideshow": {
     "slide_type": "slide"
    }
   },
   "outputs": [
    {
     "ename": "IndexError",
     "evalue": "string index out of range",
     "output_type": "error",
     "traceback": [
      "\u001b[1;31m---------------------------------------------------------------------------\u001b[0m",
      "\u001b[1;31mIndexError\u001b[0m                                Traceback (most recent call last)",
      "\u001b[1;32m<ipython-input-99-84985f87db89>\u001b[0m in \u001b[0;36m<module>\u001b[1;34m\u001b[0m\n\u001b[0;32m      1\u001b[0m \u001b[0mx\u001b[0m \u001b[1;33m=\u001b[0m \u001b[1;34m'python'\u001b[0m\u001b[1;33m\u001b[0m\u001b[1;33m\u001b[0m\u001b[0m\n\u001b[1;32m----> 2\u001b[1;33m \u001b[0mx\u001b[0m\u001b[1;33m[\u001b[0m\u001b[1;36m6\u001b[0m\u001b[1;33m]\u001b[0m\u001b[1;33m\u001b[0m\u001b[1;33m\u001b[0m\u001b[0m\n\u001b[0m",
      "\u001b[1;31mIndexError\u001b[0m: string index out of range"
     ]
    }
   ],
   "source": [
    "x = 'python'\n",
    "x[6]"
   ]
  },
  {
   "cell_type": "markdown",
   "id": "aeddb272",
   "metadata": {
    "slideshow": {
     "slide_type": "slide"
    }
   },
   "source": [
    "La primera fila de números da la posición de los índices $0, \\ldots, 5 en la cadena;   "
   ]
  },
  {
   "cell_type": "markdown",
   "id": "8ffd015e",
   "metadata": {
    "slideshow": {
     "slide_type": "slide"
    }
   },
   "source": [
    "la segunda fila muestra los índices negativos correspondientes. "
   ]
  },
  {
   "cell_type": "markdown",
   "id": "781625be",
   "metadata": {
    "slideshow": {
     "slide_type": "slide"
    }
   },
   "source": [
    "El segmento de i a j consta de todos los caracteres entre las aristas etiquetadas i y j,respectivamente."
   ]
  },
  {
   "cell_type": "markdown",
   "id": "549ed7e7",
   "metadata": {
    "slideshow": {
     "slide_type": "slide"
    }
   },
   "source": [
    "Para los índices no negativos, la longitud de un segmento es la diferencia de los índices, si ambos están dentro de los límites. Por ejemplo, la longitud de la palabra `[1:3]` es 2.\n",
    "\n",
    "Intentar utilizar un índice demasiado grande provocará un error:"
   ]
  },
  {
   "cell_type": "code",
   "execution_count": 101,
   "id": "8ac64488",
   "metadata": {
    "slideshow": {
     "slide_type": "slide"
    }
   },
   "outputs": [
    {
     "data": {
      "text/plain": [
       "'a'"
      ]
     },
     "execution_count": 101,
     "metadata": {},
     "output_type": "execute_result"
    }
   ],
   "source": [
    "palabra[6]  # the word only has 6 characters\n"
   ]
  },
  {
   "cell_type": "markdown",
   "id": "b6a1969e",
   "metadata": {
    "slideshow": {
     "slide_type": "slide"
    }
   },
   "source": [
    "Sin embargo, los índices de sectores fuera de rango se manejan correctamente cuando se usan para cortar (slicing):"
   ]
  },
  {
   "cell_type": "code",
   "execution_count": 106,
   "id": "5fd8f18a",
   "metadata": {
    "slideshow": {
     "slide_type": "slide"
    }
   },
   "outputs": [
    {
     "data": {
      "text/plain": [
       "'ira'"
      ]
     },
     "execution_count": 106,
     "metadata": {},
     "output_type": "execute_result"
    }
   ],
   "source": [
    "palabra[4:34] "
   ]
  },
  {
   "cell_type": "code",
   "execution_count": 108,
   "id": "31eee81f",
   "metadata": {
    "slideshow": {
     "slide_type": "slide"
    }
   },
   "outputs": [
    {
     "data": {
      "text/plain": [
       "0"
      ]
     },
     "execution_count": 108,
     "metadata": {},
     "output_type": "execute_result"
    }
   ],
   "source": [
    "len(palabra[42:])\n"
   ]
  },
  {
   "cell_type": "markdown",
   "id": "c18cbeae",
   "metadata": {
    "slideshow": {
     "slide_type": "slide"
    }
   },
   "source": [
    "Las cadenas de Python no se pueden cambiar, son inmutables. Por lo tanto, la asignación a una posición indexada en la cadena da como resultado un error:"
   ]
  },
  {
   "cell_type": "code",
   "execution_count": 109,
   "id": "6f6e809f",
   "metadata": {
    "slideshow": {
     "slide_type": "slide"
    }
   },
   "outputs": [
    {
     "ename": "TypeError",
     "evalue": "'str' object does not support item assignment",
     "output_type": "error",
     "traceback": [
      "\u001b[1;31m---------------------------------------------------------------------------\u001b[0m",
      "\u001b[1;31mTypeError\u001b[0m                                 Traceback (most recent call last)",
      "\u001b[1;32m<ipython-input-109-6079de08c8eb>\u001b[0m in \u001b[0;36m<module>\u001b[1;34m\u001b[0m\n\u001b[1;32m----> 1\u001b[1;33m \u001b[0mpalabra\u001b[0m\u001b[1;33m[\u001b[0m\u001b[1;36m0\u001b[0m\u001b[1;33m]\u001b[0m \u001b[1;33m=\u001b[0m \u001b[1;34m'J'\u001b[0m\u001b[1;33m\u001b[0m\u001b[1;33m\u001b[0m\u001b[0m\n\u001b[0m",
      "\u001b[1;31mTypeError\u001b[0m: 'str' object does not support item assignment"
     ]
    }
   ],
   "source": [
    "palabra[0] = 'J'"
   ]
  },
  {
   "cell_type": "markdown",
   "id": "2db4369c",
   "metadata": {
    "slideshow": {
     "slide_type": "slide"
    }
   },
   "source": [
    "Si necesita una cadena diferente, debe crear una nueva:"
   ]
  },
  {
   "cell_type": "code",
   "execution_count": 111,
   "id": "02d5de77",
   "metadata": {
    "slideshow": {
     "slide_type": "slide"
    }
   },
   "outputs": [],
   "source": [
    "nueva_palabra = 'J' + palabra[1:]"
   ]
  },
  {
   "cell_type": "code",
   "execution_count": 112,
   "id": "7bce3dae",
   "metadata": {
    "slideshow": {
     "slide_type": "slide"
    }
   },
   "outputs": [
    {
     "data": {
      "text/plain": [
       "'Jasmira'"
      ]
     },
     "execution_count": 112,
     "metadata": {},
     "output_type": "execute_result"
    }
   ],
   "source": [
    "nueva_palabra "
   ]
  },
  {
   "cell_type": "code",
   "execution_count": 113,
   "id": "8e9779f0",
   "metadata": {
    "slideshow": {
     "slide_type": "slide"
    }
   },
   "outputs": [
    {
     "name": "stdout",
     "output_type": "stream",
     "text": [
      "Jasmira\n"
     ]
    }
   ],
   "source": [
    "print(nueva_palabra) "
   ]
  },
  {
   "cell_type": "code",
   "execution_count": 114,
   "id": "87ae7827",
   "metadata": {
    "slideshow": {
     "slide_type": "slide"
    }
   },
   "outputs": [
    {
     "data": {
      "text/plain": [
       "'Yasmira'"
      ]
     },
     "execution_count": 114,
     "metadata": {},
     "output_type": "execute_result"
    }
   ],
   "source": [
    "palabra "
   ]
  },
  {
   "cell_type": "markdown",
   "id": "aa16d681",
   "metadata": {
    "slideshow": {
     "slide_type": "slide"
    }
   },
   "source": [
    "La función integrada `len()` devuelve la longitud de una cadena:"
   ]
  },
  {
   "cell_type": "code",
   "execution_count": 117,
   "id": "c5a4f5e1",
   "metadata": {
    "slideshow": {
     "slide_type": "slide"
    }
   },
   "outputs": [
    {
     "data": {
      "text/plain": [
       "26"
      ]
     },
     "execution_count": 117,
     "metadata": {},
     "output_type": "execute_result"
    }
   ],
   "source": [
    "s = 'Marco Julio Cañas Campillo'\n",
    "len(s)"
   ]
  },
  {
   "cell_type": "markdown",
   "id": "0588ecd0",
   "metadata": {
    "slideshow": {
     "slide_type": "slide"
    }
   },
   "source": [
    "## Ver también"
   ]
  },
  {
   "cell_type": "markdown",
   "id": "9bbf3fc3",
   "metadata": {
    "slideshow": {
     "slide_type": "slide"
    }
   },
   "source": [
    "### [Tipo de secuencia de texto — str](https://docs.python.org/3/library/stdtypes.html#textseq) \n",
    "\n",
    "Las cadenas son ejemplos de tipos de secuencia y admiten las operaciones comunes admitidas por dichos tipos."
   ]
  },
  {
   "cell_type": "markdown",
   "id": "c0a64d21",
   "metadata": {
    "slideshow": {
     "slide_type": "slide"
    }
   },
   "source": [
    "### [String Métodos](https://docs.python.org/3/library/stdtypes.html#string-methods)\n",
    "Las cadenas admiten un gran número de métodos para transformaciones básicas y búsquedas."
   ]
  },
  {
   "cell_type": "markdown",
   "id": "b731e24a",
   "metadata": {
    "slideshow": {
     "slide_type": "slide"
    }
   },
   "source": [
    "### [Literales de cadena con formato](https://docs.python.org/3/reference/lexical_analysis.html#f-strings)\n",
    "\n",
    "Literales de cadena que tienen expresiones incrustadas."
   ]
  },
  {
   "cell_type": "markdown",
   "id": "ef4efd45",
   "metadata": {
    "slideshow": {
     "slide_type": "slide"
    }
   },
   "source": [
    "### [Sintaxis de cadena de formato](https://docs.python.org/3/library/string.html#formatstrings)\n",
    "Información sobre el formato de cadena con `str.format()`."
   ]
  },
  {
   "cell_type": "markdown",
   "id": "bb09509b",
   "metadata": {
    "slideshow": {
     "slide_type": "slide"
    }
   },
   "source": [
    "### [Formato de cadena de estilo printf](https://docs.python.org/3/library/stdtypes.html#old-string-formatting)  \n",
    "\n",
    "Las operaciones de formato descritas aquí muestran una variedad de peculiaridades que conducen a una serie de errores comunes (como no mostrar correctamente las tuplas y los diccionarios). El uso de los nuevos literales de cadena con formato,la interfaz str.format() o las cadenas de plantilla pueden ayudar a evitar estos errores. Cada una de estas alternativas proporciona sus propias compensaciones y beneficios de simplicidad, flexibilidad y / o extensibilidad."
   ]
  },
  {
   "cell_type": "markdown",
   "id": "4062e16e",
   "metadata": {
    "slideshow": {
     "slide_type": "slide"
    }
   },
   "source": [
    "## 3.1.3. Listas"
   ]
  },
  {
   "cell_type": "markdown",
   "id": "5e281582",
   "metadata": {
    "slideshow": {
     "slide_type": "slide"
    }
   },
   "source": [
    "Python conoce una serie de tipos de datos compuestos, utilizados para agrupar otros valores. "
   ]
  },
  {
   "cell_type": "markdown",
   "id": "51e973e0",
   "metadata": {
    "slideshow": {
     "slide_type": "slide"
    }
   },
   "source": [
    "La más versátil es `list`, que se puede escribir como una lista de valores separados por comas (elementos) entre corchetes. "
   ]
  },
  {
   "cell_type": "markdown",
   "id": "52bedee6",
   "metadata": {
    "slideshow": {
     "slide_type": "slide"
    }
   },
   "source": [
    "Las listas pueden contener elementos de diferentes tipos, pero normalmente todos los elementos tienen el mismo tipo."
   ]
  },
  {
   "cell_type": "code",
   "execution_count": null,
   "id": "d0caa05a",
   "metadata": {
    "slideshow": {
     "slide_type": "slide"
    }
   },
   "outputs": [],
   "source": []
  },
  {
   "cell_type": "code",
   "execution_count": null,
   "id": "1377e58c",
   "metadata": {},
   "outputs": [],
   "source": []
  }
 ],
 "metadata": {
  "celltoolbar": "Slideshow",
  "kernelspec": {
   "display_name": "Python 3",
   "language": "python",
   "name": "python3"
  },
  "language_info": {
   "codemirror_mode": {
    "name": "ipython",
    "version": 3
   },
   "file_extension": ".py",
   "mimetype": "text/x-python",
   "name": "python",
   "nbconvert_exporter": "python",
   "pygments_lexer": "ipython3",
   "version": "3.8.8"
  },
  "latex_envs": {
   "LaTeX_envs_menu_present": true,
   "autoclose": false,
   "autocomplete": false,
   "bibliofile": "biblio.bib",
   "cite_by": "apalike",
   "current_citInitial": 1,
   "eqLabelWithNumbers": true,
   "eqNumInitial": 1,
   "hotkeys": {
    "equation": "Ctrl-E",
    "itemize": "Ctrl-I"
   },
   "labels_anchors": false,
   "latex_user_defs": false,
   "report_style_numbering": false,
   "user_envs_cfg": false
  },
  "rise": {
   "enable_chalkboard": true,
   "theme": "sky",
   "transition": "sky"
  }
 },
 "nbformat": 4,
 "nbformat_minor": 5
}
