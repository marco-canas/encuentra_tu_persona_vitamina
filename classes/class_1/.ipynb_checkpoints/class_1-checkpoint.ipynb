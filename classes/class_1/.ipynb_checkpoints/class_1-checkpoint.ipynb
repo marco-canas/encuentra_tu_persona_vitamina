{
 "cells": [
  {
   "cell_type": "markdown",
   "id": "f536196c",
   "metadata": {},
   "source": []
  },
  {
   "cell_type": "markdown",
   "id": "a9d8ab37",
   "metadata": {},
   "source": [
    "# Class 1"
   ]
  },
  {
   "cell_type": "markdown",
   "id": "a8ca83da",
   "metadata": {},
   "source": [
    "## Objetivos:\n",
    "\n",
    "Introducción a la programación con Python:\n",
    "\n",
    "Se hace reconocimiento de lógica de programación y sintaxis de Python, desde los inicios en tipos de datos y estructuras de control, hasta funciones y métodos sobre clases.\n"
   ]
  },
  {
   "cell_type": "markdown",
   "id": "2e8d084d",
   "metadata": {},
   "source": [
    "### [learnpython.org](https://learnpython.org/)\n"
   ]
  },
  {
   "cell_type": "markdown",
   "id": "db4a6e84",
   "metadata": {},
   "source": [
    "Aprende los conceptos básicos:\n",
    "* ¡Hola mundo!\n",
    "* Variables y tipos\n",
    "* Listas\n",
    "* Operadores básicos\n",
    "* Formato de cadena\n",
    "* Operaciones básicas de cadena\n",
    "* Condiciones\n",
    "* Bucles\n",
    "* Funciones\n",
    "* Clases y objetos\n",
    "* Diccionarios\n",
    "* Módulos y paquetes"
   ]
  },
  {
   "cell_type": "markdown",
   "id": "c9e2ec94",
   "metadata": {},
   "source": [
    "Tutoriales de ciencia de datos\n",
    "* Matrices Numpy\n",
    "* Conceptos básicos de Pandas"
   ]
  },
  {
   "cell_type": "markdown",
   "id": "d2f70b3d",
   "metadata": {},
   "source": [
    "## Hola mundo "
   ]
  },
  {
   "cell_type": "markdown",
   "id": "ae1b26f0",
   "metadata": {},
   "source": []
  },
  {
   "cell_type": "code",
   "execution_count": null,
   "id": "1e31375f",
   "metadata": {},
   "outputs": [],
   "source": []
  },
  {
   "cell_type": "code",
   "execution_count": null,
   "id": "08b57be7",
   "metadata": {},
   "outputs": [],
   "source": []
  },
  {
   "cell_type": "code",
   "execution_count": null,
   "id": "342f365e",
   "metadata": {},
   "outputs": [],
   "source": []
  },
  {
   "cell_type": "code",
   "execution_count": null,
   "id": "598c611a",
   "metadata": {},
   "outputs": [],
   "source": []
  },
  {
   "cell_type": "code",
   "execution_count": null,
   "id": "88c437ee",
   "metadata": {},
   "outputs": [],
   "source": []
  },
  {
   "cell_type": "code",
   "execution_count": null,
   "id": "aa46a588",
   "metadata": {},
   "outputs": [],
   "source": []
  },
  {
   "cell_type": "code",
   "execution_count": null,
   "id": "b92df2c4",
   "metadata": {},
   "outputs": [],
   "source": []
  },
  {
   "cell_type": "markdown",
   "id": "fc44359c",
   "metadata": {},
   "source": [
    "## Referentes "
   ]
  }
 ],
 "metadata": {
  "kernelspec": {
   "display_name": "Python 3",
   "language": "python",
   "name": "python3"
  },
  "language_info": {
   "codemirror_mode": {
    "name": "ipython",
    "version": 3
   },
   "file_extension": ".py",
   "mimetype": "text/x-python",
   "name": "python",
   "nbconvert_exporter": "python",
   "pygments_lexer": "ipython3",
   "version": "3.8.8"
  },
  "latex_envs": {
   "LaTeX_envs_menu_present": true,
   "autoclose": false,
   "autocomplete": false,
   "bibliofile": "biblio.bib",
   "cite_by": "apalike",
   "current_citInitial": 1,
   "eqLabelWithNumbers": true,
   "eqNumInitial": 1,
   "hotkeys": {
    "equation": "Ctrl-E",
    "itemize": "Ctrl-I"
   },
   "labels_anchors": false,
   "latex_user_defs": false,
   "report_style_numbering": false,
   "user_envs_cfg": false
  }
 },
 "nbformat": 4,
 "nbformat_minor": 5
}
