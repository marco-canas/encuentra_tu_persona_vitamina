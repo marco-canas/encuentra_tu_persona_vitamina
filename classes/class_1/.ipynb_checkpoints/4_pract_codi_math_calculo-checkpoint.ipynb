{
 "cells": [
  {
   "cell_type": "markdown",
   "id": "860bad3c",
   "metadata": {
    "slideshow": {
     "slide_type": "slide"
    }
   },
   "source": [
    "<table align=\"left\">\n",
    "  <td>\n",
    "    <a href=\"https://colab.research.google.com/github/marco-canas/introducci-n-al-Machine-Learning/blob/main/classes/class_1/class_1.ipynb\" target=\"_parent\"><img src=\"https://colab.research.google.com/assets/colab-badge.svg\" alt=\"Open In Colab\"/></a>\n",
    "  </td>\n",
    "</table>"
   ]
  },
  {
   "cell_type": "markdown",
   "id": "06681bd6",
   "metadata": {
    "slideshow": {
     "slide_type": "slide"
    }
   },
   "source": [
    "# Practica de codificación del cuaderno sobre Matemáticas y Cálculo de Geron"
   ]
  },
  {
   "cell_type": "markdown",
   "id": "8cc789e3",
   "metadata": {
    "slideshow": {
     "slide_type": "slide"
    }
   },
   "source": [
    "## Escribe solo las librerías que necesitarás "
   ]
  },
  {
   "cell_type": "code",
   "execution_count": 3,
   "id": "38d0749d",
   "metadata": {
    "slideshow": {
     "slide_type": "slide"
    }
   },
   "outputs": [],
   "source": [
    "%matplotlib inline \n",
    "import matplotlib as mpl \n",
    "import matplotlib.pyplot as plt \n",
    "import numpy as np "
   ]
  },
  {
   "cell_type": "markdown",
   "id": "47702216",
   "metadata": {
    "slideshow": {
     "slide_type": "slide"
    }
   },
   "source": [
    "## Para obtener animaciones fluidas "
   ]
  },
  {
   "cell_type": "code",
   "execution_count": 4,
   "id": "115c8c9f",
   "metadata": {
    "slideshow": {
     "slide_type": "slide"
    }
   },
   "outputs": [],
   "source": [
    "import matplotlib.animation as animation\n",
    "mpl.rc('animation', html = 'jshtml') "
   ]
  },
  {
   "cell_type": "markdown",
   "id": "0d599818",
   "metadata": {
    "slideshow": {
     "slide_type": "slide"
    }
   },
   "source": [
    "# ¿Qué es la pendiente de una línea recta?"
   ]
  },
  {
   "cell_type": "code",
   "execution_count": 9,
   "id": "228d3c06",
   "metadata": {
    "slideshow": {
     "slide_type": "slide"
    }
   },
   "outputs": [],
   "source": [
    "def get_AB_line(A_pos, B_pos, x_min = -1000, x_max=+1000):\n",
    "    rise = A_pos[1] - B_pos[1]\n",
    "    run = A_pos[0] - B_pos[0]\n",
    "    slope = rise/run\n",
    "    offset = A_pos[1] - slope*A_pos[0]     # y = mx + b, entonces   b = y - mx \n",
    "    return [x_min, x_max], [slope*x_min+offset, slope*x_max+offset]"
   ]
  },
  {
   "cell_type": "code",
   "execution_count": 10,
   "id": "2f557d0b",
   "metadata": {
    "slideshow": {
     "slide_type": "slide"
    }
   },
   "outputs": [
    {
     "data": {
      "text/plain": [
       "([-1000, 1000], [-1333.3333333333333, 1333.3333333333333])"
      ]
     },
     "execution_count": 10,
     "metadata": {},
     "output_type": "execute_result"
    }
   ],
   "source": [
    "get_AB_line(np.array([0,0]), np.array([3,4]))"
   ]
  },
  {
   "cell_type": "code",
   "execution_count": 12,
   "id": "9b48b26f",
   "metadata": {
    "slideshow": {
     "slide_type": "slide"
    }
   },
   "outputs": [
    {
     "data": {
      "text/plain": [
       "[<matplotlib.lines.Line2D at 0x1ceafda40a0>]"
      ]
     },
     "execution_count": 12,
     "metadata": {},
     "output_type": "execute_result"
    },
    {
     "data": {
      "image/png": "[encoded data removed]",
      "text/plain": [
       "<Figure size 432x288 with 1 Axes>"
      ]
     },
     "metadata": {
      "needs_background": "light"
     },
     "output_type": "display_data"
    }
   ],
   "source": [
    "x,y = get_AB_line(np.array([0,0]), np.array([3,4]))\n",
    "plt.plot(x,y)"
   ]
  },
  {
   "cell_type": "code",
   "execution_count": null,
   "id": "a5e2433f",
   "metadata": {},
   "outputs": [],
   "source": []
  }
 ],
 "metadata": {
  "celltoolbar": "Slideshow",
  "kernelspec": {
   "display_name": "Python 3 (ipykernel)",
   "language": "python",
   "name": "python3"
  },
  "language_info": {
   "codemirror_mode": {
    "name": "ipython",
    "version": 3
   },
   "file_extension": ".py",
   "mimetype": "text/x-python",
   "name": "python",
   "nbconvert_exporter": "python",
   "pygments_lexer": "ipython3",
   "version": "3.9.7"
  }
 },
 "nbformat": 4,
 "nbformat_minor": 5
}
