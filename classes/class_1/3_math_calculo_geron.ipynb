{
 "cells": [
  {
   "cell_type": "markdown",
   "id": "93eaa0c7",
   "metadata": {
    "slideshow": {
     "slide_type": "slide"
    }
   },
   "source": [
    "<table align=\"left\">\n",
    "  <td>\n",
    "    <a href=\"https://colab.research.google.com/github/marco-canas/intro-Machine-Learning/blob/main/classes/class_1/3_math_calculo_geron.ipynb\" target=\"_parent\"><img src=\"https://colab.research.google.com/assets/colab-badge.svg\" alt=\"Open In Colab\"/></a>\n",
    "  </td>\n",
    "</table>\n"
   ]
  },
  {
   "cell_type": "markdown",
   "id": "e32d6811",
   "metadata": {
    "slideshow": {
     "slide_type": "slide"
    }
   },
   "source": [
    "# Class 1 Matemáticas y Cálculo para ciencia de datos"
   ]
  },
  {
   "cell_type": "markdown",
   "id": "ed551aa6",
   "metadata": {
    "slideshow": {
     "slide_type": "skip"
    }
   },
   "source": [
    "## [Primer video de apoyo a la lectura](https://www.youtube.com/watch?v=iLiCS1gKKY4) "
   ]
  },
  {
   "cell_type": "markdown",
   "id": "f110196c",
   "metadata": {
    "slideshow": {
     "slide_type": "slide"
    }
   },
   "source": [
    "## Objetivos:\n",
    "\n",
    "Introducir Python a través del cuaderno Jupyter de Gerón sobre matematicas y cálculo para científicos de datos. \n",
    "\n",
    "https://github.com/ageron/handson-ml2/blob/master/math_differential_calculus.ipynb\n"
   ]
  },
  {
   "cell_type": "markdown",
   "id": "ee898293",
   "metadata": {
    "slideshow": {
     "slide_type": "skip"
    }
   },
   "source": [
    "## Lista de los estudiantes"
   ]
  },
  {
   "cell_type": "code",
   "execution_count": 8,
   "id": "68db179a",
   "metadata": {
    "scrolled": true,
    "slideshow": {
     "slide_type": "skip"
    }
   },
   "outputs": [],
   "source": [
    "import pandas as pd\n",
    "intro_ml = pd.read_csv('intro_ml.csv', sep = ',')\n"
   ]
  },
  {
   "cell_type": "markdown",
   "id": "0f3a8a58",
   "metadata": {
    "slideshow": {
     "slide_type": "slide"
    }
   },
   "source": [
    "El cálculo es el estudio del cambio continuo."
   ]
  },
  {
   "cell_type": "markdown",
   "id": "4254118a",
   "metadata": {
    "slideshow": {
     "slide_type": "subslide"
    }
   },
   "source": [
    "Tiene dos subcampos principales:  \n",
    "\n",
    "* **cálculo diferencial**, que estudia la tasa de cambio de funciones, y \n",
    "* **cálculo integral**, que estudia el área bajo la curva. "
   ]
  },
  {
   "cell_type": "markdown",
   "id": "1209ee00",
   "metadata": {
    "slideshow": {
     "slide_type": "fragment"
    }
   },
   "source": [
    "En este cuaderno, discutiremos el primero."
   ]
  },
  {
   "cell_type": "markdown",
   "id": "0592198e",
   "metadata": {
    "slideshow": {
     "slide_type": "slide"
    }
   },
   "source": [
    "El cálculo diferencial es el núcleo del **aprendizaje profundo(Deep learning)**, por lo que es importante comprender  \n",
    "\n",
    "* qué son las derivadas y los gradientes, \n",
    "* cómo se usan en el aprendizaje profundo (Deep Learning) y \n",
    "* comprender cuáles son sus limitaciones."
   ]
  },
  {
   "cell_type": "markdown",
   "id": "7a9e4bd1",
   "metadata": {
    "slideshow": {
     "slide_type": "slide"
    }
   },
   "source": [
    "## Nota:  \n",
    "\n",
    "el código de este cuaderno solo se usa para crear figuras y animaciones."
   ]
  },
  {
   "cell_type": "markdown",
   "id": "da839a58",
   "metadata": {
    "slideshow": {
     "slide_type": "slide"
    }
   },
   "source": [
    "No es necesario que entienda cómo funciona (aunque hice todo lo posible para dejarlo claro, en caso de que esté interesado)."
   ]
  },
  {
   "cell_type": "markdown",
   "id": "c696b861",
   "metadata": {
    "slideshow": {
     "slide_type": "slide"
    }
   },
   "source": [
    "## Slope of a straight line"
   ]
  },
  {
   "cell_type": "code",
   "execution_count": 1,
   "id": "1c80c68c",
   "metadata": {
    "slideshow": {
     "slide_type": "slide"
    }
   },
   "outputs": [],
   "source": [
    "import matplotlib as mpl\n",
    "import matplotlib.pyplot as plt\n",
    "import numpy as np"
   ]
  },
  {
   "cell_type": "markdown",
   "id": "7d46075a",
   "metadata": {
    "slideshow": {
     "slide_type": "slide"
    }
   },
   "source": [
    "# Para obtener animaciones fluidas"
   ]
  },
  {
   "cell_type": "code",
   "execution_count": 2,
   "id": "5b1a957f",
   "metadata": {
    "slideshow": {
     "slide_type": "slide"
    }
   },
   "outputs": [],
   "source": [
    "import matplotlib.animation as animation\n",
    "mpl.rc('animation', html='jshtml')"
   ]
  },
  {
   "cell_type": "markdown",
   "id": "713d0232",
   "metadata": {
    "slideshow": {
     "slide_type": "slide"
    }
   },
   "source": [
    "¿Cuál es la pendiente de la siguiente recta?"
   ]
  },
  {
   "cell_type": "code",
   "execution_count": 3,
   "id": "e3b4d29f",
   "metadata": {
    "slideshow": {
     "slide_type": "slide"
    }
   },
   "outputs": [],
   "source": [
    "def get_AB_line(A_pos, B_pos, x_min=-1000, x_max=+1000):\n",
    "    \"\"\"\n",
    "    A_pos es un arreglo de numpy que indica un punto del plano.\n",
    "    B_pos es una arreglo de numpy que indica un segundo punto de la recta AB\n",
    "    \"\"\"\n",
    "    rise = B_pos[1] - A_pos[1]\n",
    "    run = B_pos[0] - A_pos[0]\n",
    "    slope = rise / run\n",
    "    offset = A_pos[1] - slope * A_pos[0]   # intersecto b de la recta\n",
    "    return [x_min, x_max], [x_min * slope + offset, x_max * slope + offset]"
   ]
  },
  {
   "cell_type": "code",
   "execution_count": 4,
   "id": "be5ebf29",
   "metadata": {
    "slideshow": {
     "slide_type": "slide"
    }
   },
   "outputs": [],
   "source": [
    "def plot_AB_line(A_pos, B_pos, A_name=\"A\", B_name=\"B\"):\n",
    "    for point, name in ((A_pos, A_name), (B_pos, B_name)):\n",
    "        plt.plot(point[0], point[1], \"bo\")\n",
    "        plt.text(point[0] - 0.35, point[1], name, fontsize=14)\n",
    "    xs, ys = get_AB_line(A_pos, B_pos)\n",
    "    plt.plot(xs, ys)"
   ]
  },
  {
   "cell_type": "code",
   "execution_count": 5,
   "id": "0fb028c3",
   "metadata": {
    "slideshow": {
     "slide_type": "slide"
    }
   },
   "outputs": [],
   "source": [
    "def plot_rise_over_run(A_pos, B_pos):                        # trazar ascenso sobre avance \n",
    "    plt.plot([A_pos[0], B_pos[0]], [A_pos[1], A_pos[1]], \"k--\")\n",
    "    plt.text((A_pos[0] + B_pos[0]) / 2, A_pos[1] - 0.4, \"run\", fontsize=14)\n",
    "    plt.plot([B_pos[0], B_pos[0]], [A_pos[1], B_pos[1]], \"k--\")\n",
    "    plt.text(B_pos[0] + 0.2, (A_pos[1] + B_pos[1]) / 2, \"rise\", fontsize=14)"
   ]
  },
  {
   "cell_type": "code",
   "execution_count": 6,
   "id": "860f675d",
   "metadata": {
    "slideshow": {
     "slide_type": "slide"
    }
   },
   "outputs": [],
   "source": [
    "def show(axis=\"equal\", ax=None, title=None, xlabel=\"$x$\", ylabel=\"$y$\"):\n",
    "    ax = ax or plt.gca()\n",
    "    ax.axis(axis)\n",
    "    ax.grid()\n",
    "    ax.set_title(title, fontsize=14)\n",
    "    ax.set_xlabel(xlabel, fontsize=14)\n",
    "    ax.set_ylabel(ylabel, fontsize=14, rotation=0)\n",
    "    ax.axhline(y=0, color='k')\n",
    "    ax.axvline(x=0, color='k')"
   ]
  },
  {
   "cell_type": "code",
   "execution_count": 7,
   "id": "96eeeaae",
   "metadata": {
    "slideshow": {
     "slide_type": "slide"
    }
   },
   "outputs": [
    {
     "data": {
      "image/png": "[encoded data removed]",
      "text/plain": [
       "<Figure size 432x288 with 1 Axes>"
      ]
     },
     "metadata": {
      "needs_background": "light"
     },
     "output_type": "display_data"
    }
   ],
   "source": [
    "A_pos = np.array([1, 1])\n",
    "B_pos = np.array([4, 5])\n",
    "plot_AB_line(A_pos, B_pos)\n",
    "plot_rise_over_run(A_pos, B_pos)\n",
    "show([0, 8.4, 0, 5.5], title=\"Slope = rise / run\")"
   ]
  },
  {
   "cell_type": "markdown",
   "id": "ff2a15ab",
   "metadata": {
    "slideshow": {
     "slide_type": "slide"
    }
   },
   "source": [
    "Como probablemente sepa, la pendiente de una línea recta (no vertical) se puede calcular tomando dos puntos cualesquiera $A$ y $B$ en la línea y calculando la \"elevación sobre el recorrido\":\n",
    "\n",
    "$$ \\text{slope} = \\frac{\\text{rise}}{\\text{run}} = \\frac{\\Delta y}{\\Delta x} = \\frac{y_{B} - y_{A}}{x_{B} - x_{A}} $$\n",
    "\n",
    "En este ejemplo, la elevación es 4 y el avance es 3, por lo que la pendiente es 4/3 = 1.333..."
   ]
  },
  {
   "cell_type": "markdown",
   "id": "4b1a22ba",
   "metadata": {
    "slideshow": {
     "slide_type": "slide"
    }
   },
   "source": [
    "# Defining the slope of a curve"
   ]
  },
  {
   "cell_type": "markdown",
   "id": "8d38a2b5",
   "metadata": {
    "slideshow": {
     "slide_type": "slide"
    }
   },
   "source": [
    "Pero, ¿y si quieres saber la pendiente de algo más que una línea recta?"
   ]
  },
  {
   "cell_type": "markdown",
   "id": "76658400",
   "metadata": {
    "slideshow": {
     "slide_type": "slide"
    }
   },
   "source": [
    "Por ejemplo, consideremos la curva definida por $y = f(x) = x^{2}$."
   ]
  },
  {
   "cell_type": "code",
   "execution_count": null,
   "id": "92414165",
   "metadata": {
    "slideshow": {
     "slide_type": "slide"
    }
   },
   "outputs": [],
   "source": [
    "#@title\n",
    "xs = np.linspace(-2.1, 2.1, 500)\n",
    "ys = xs**2\n",
    "plt.plot(xs, ys)\n",
    "\n",
    "plt.plot([0, 0], [0, 3], \"k--\") # para resaltar el eje x\n",
    "plt.arrow(-1.4, 2.5, 0.5, -1.3, head_width=0.1)\n",
    "plt.arrow(0.85, 1.05, 0.5, 1.3, head_width=0.1)\n",
    "show([-2.1, 2.1, 0, 2.8], title=\"Slope of the curve $y = x^2$\")"
   ]
  },
  {
   "cell_type": "markdown",
   "id": "3317c25d",
   "metadata": {
    "slideshow": {
     "slide_type": "slide"
    }
   },
   "source": [
    "Obviamente, la pendiente varía:   \n",
    "* a la izquierda (es decir, cuando $x < 0$), la pendiente es negativa (es decir, cuando nos movemos de izquierda a derecha, la curva desciende),  \n",
    "* mientras que a la derecha (es decir, cuando $ x > 0$ ) la pendiente es positiva (es decir, cuando nos movemos de izquierda a derecha, la curva sube)."
   ]
  },
  {
   "cell_type": "markdown",
   "id": "ecc40c9d",
   "metadata": {
    "slideshow": {
     "slide_type": "slide"
    }
   },
   "source": [
    "En el punto $x = 0$, la pendiente es igual a 0 (es decir, la curva es localmente plana)."
   ]
  },
  {
   "cell_type": "markdown",
   "id": "be437eec",
   "metadata": {
    "slideshow": {
     "slide_type": "slide"
    }
   },
   "source": [
    "El hecho de que la pendiente sea 0 cuando alcanzamos un mínimo (o incluso un máximo) es de crucial importancia, y volveremos a ello más adelante."
   ]
  },
  {
   "cell_type": "markdown",
   "id": "95ddce67",
   "metadata": {
    "slideshow": {
     "slide_type": "slide"
    }
   },
   "source": [
    "¿Cómo podemos poner números a estas intuiciones?"
   ]
  },
  {
   "cell_type": "markdown",
   "id": "9d6e6707",
   "metadata": {
    "slideshow": {
     "slide_type": "slide"
    }
   },
   "source": [
    "Bueno, digamos que queremos estimar la pendiente de la curva en un punto $A$, podemos hacerlo tomando otro punto $B$ en la curva, no muy lejos, y luego calculando la pendiente entre estos dos puntos:"
   ]
  },
  {
   "cell_type": "code",
   "execution_count": null,
   "id": "ae9e00e6",
   "metadata": {
    "slideshow": {
     "slide_type": "slide"
    }
   },
   "outputs": [],
   "source": [
    "import numpy as np \n",
    "import matplotlib.pyplot as plt "
   ]
  },
  {
   "cell_type": "code",
   "execution_count": null,
   "id": "75990e3b",
   "metadata": {
    "slideshow": {
     "slide_type": "slide"
    }
   },
   "outputs": [],
   "source": [
    "def animate_AB_line(f, fp, f_str, x_A, axis=None):  \n",
    "    '''\n",
    "    f debe ser una función lambda de python\n",
    "    fp es una función lambda que representa la derivada de f\n",
    "    '''\n",
    "    y_A = f(x_A)\n",
    "    eps = 1e-4\n",
    "    x_B_range = 1.5\n",
    "    x_B = x_A + eps\n",
    "\n",
    "    n_frames = 200\n",
    "    text_offset_A = -0.2\n",
    "    text_offset_B = +0.1\n",
    "    x_min, x_max = -1000, 1000\n",
    "\n",
    "    fig, ax = plt.subplots()\n",
    "\n",
    "    # plot f(x)\n",
    "    xs = np.linspace(-2.1, 2.1, 500)\n",
    "    ys = f(xs)\n",
    "    ax.plot(xs, ys)\n",
    "\n",
    "    # plot the tangent to the curve at point A\n",
    "    if fp:\n",
    "        slope = fp(x_A)\n",
    "        offset = y_A - slope * x_A\n",
    "        ax.plot([x_min, x_max], [slope*x_min + offset, slope*x_max + offset],\n",
    "                \"y--\")\n",
    "\n",
    "    # plot the line AB and the labels A and B so they can be animated\n",
    "    y_A = f(x_A)\n",
    "    y_B = f(x_B)\n",
    "    xs, ys = get_AB_line([x_A, y_A], [x_B, y_B])\n",
    "    line_inf, = ax.plot(xs, ys, \"-\")\n",
    "    line_AB, = ax.plot([x_A, x_B], [y_A, y_B], \"bo-\")\n",
    "    ax.text(x_A + text_offset_A, y_A, \"A\", fontsize=14)\n",
    "    B_text = ax.text(x_B + text_offset_B, y_B, \"B\", fontsize=14)\n",
    "\n",
    "    # plot the grid and axis labels\n",
    "    title = r\"Slope of the curve $y = {}$ at $x_\\mathrm{{A}} = {}$\".format(f_str, x_A)\n",
    "    show(axis or [-2.1, 2.1, 0, 2.8], title=title)\n",
    "\n",
    "    def update_graph(i):\n",
    "        x_B = x_A + x_B_range * np.cos(i * 2 * np.pi / n_frames) ** 3\n",
    "        if np.abs(x_B - x_A) < eps:\n",
    "            x_B = x_A + eps # to avoid division by 0\n",
    "        y_B = f(x_B)\n",
    "        xs, ys = get_AB_line([x_A, y_A], [x_B, y_B])\n",
    "        line_inf.set_data(xs, ys)\n",
    "        line_AB.set_data([x_A, x_B], [y_A, y_B])\n",
    "        B_text.set_position([x_B + text_offset_B, y_B])\n",
    "        return line_inf, line_AB\n",
    "\n",
    "    anim = animation.FuncAnimation(fig, update_graph,\n",
    "                                  init_func=lambda: update_graph(0),\n",
    "                                  frames=n_frames,\n",
    "                                  interval=20,\n",
    "                                  blit=True)\n",
    "    plt.close()\n",
    "    return anim"
   ]
  },
  {
   "cell_type": "code",
   "execution_count": null,
   "id": "fcc9fe36",
   "metadata": {
    "slideshow": {
     "slide_type": "slide"
    }
   },
   "outputs": [],
   "source": [
    "animate_AB_line(lambda x: x**2, lambda x: 2*x, \"x^2\", -1)"
   ]
  },
  {
   "cell_type": "markdown",
   "id": "96d89ae8",
   "metadata": {
    "slideshow": {
     "slide_type": "slide"
    }
   },
   "source": [
    "Reflejo de bucle una vez"
   ]
  },
  {
   "cell_type": "markdown",
   "id": "67561083",
   "metadata": {
    "slideshow": {
     "slide_type": "slide"
    }
   },
   "source": [
    "Como puede ver, cuando el punto $B$ está muy cerca del punto $A$, la línea $(AB)$ se vuelve casi indistinguible de la curva misma (al menos localmente alrededor del punto $A$)."
   ]
  },
  {
   "cell_type": "markdown",
   "id": "da179390",
   "metadata": {
    "slideshow": {
     "slide_type": "slide"
    }
   },
   "source": [
    "La línea $(AB)$ se acerca cada vez más a la línea **tangente** a la curva en el punto $A$: esta es la mejor aproximación lineal de la curva en el punto $A$."
   ]
  },
  {
   "cell_type": "markdown",
   "id": "dfa71650",
   "metadata": {
    "slideshow": {
     "slide_type": "slide"
    }
   },
   "source": [
    "Por lo tanto, tiene sentido definir la pendiente de la curva en el punto $A$ como la pendiente a la que se aproxima la línea $(AB)$ cuando $B$ se acerca infinitamente a $A$."
   ]
  },
  {
   "cell_type": "markdown",
   "id": "4c174595",
   "metadata": {
    "slideshow": {
     "slide_type": "slide"
    }
   },
   "source": [
    "Esta pendiente se llama la derivada de la función $f$ en $x = x_{A}$."
   ]
  },
  {
   "cell_type": "markdown",
   "id": "fcabfe43",
   "metadata": {
    "slideshow": {
     "slide_type": "slide"
    }
   },
   "source": [
    "Por ejemplo, la derivada de la función $f$ en $x = x_{A}$ es igual a $2x_{A}$ (veremos cómo obtener este resultado en breve), así que en el gráfico anterior, dado que el punto $A$ está ubicado en $x_{A} = -1$, la recta tangente a la curva en ese punto tiene una pendiente de $-2$."
   ]
  },
  {
   "cell_type": "markdown",
   "id": "d5af822a",
   "metadata": {
    "slideshow": {
     "slide_type": "slide"
    }
   },
   "source": [
    "## Differentiability"
   ]
  },
  {
   "cell_type": "markdown",
   "id": "4eee8fb6",
   "metadata": {
    "slideshow": {
     "slide_type": "slide"
    }
   },
   "source": [
    "Tenga en cuenta que algunas funciones no se comportan tan bien como $x^{2}$: por ejemplo, considere la función $f(x) = |x|$, el valor absoluto de $x$:"
   ]
  },
  {
   "cell_type": "code",
   "execution_count": null,
   "id": "fd22534b",
   "metadata": {
    "scrolled": true,
    "slideshow": {
     "slide_type": "slide"
    }
   },
   "outputs": [],
   "source": [
    "#@title\n",
    "animate_AB_line(lambda x: np.abs(x), None, \"|x|\", 0)"
   ]
  },
  {
   "cell_type": "markdown",
   "id": "3afb939b",
   "metadata": {
    "slideshow": {
     "slide_type": "slide"
    }
   },
   "source": [
    "Reflejo de bucle una vez\n",
    "\n",
    "No importa cuánto acerques el origen (el punto en $x = 0$, $y = 0$), la curva siempre se verá como una V."
   ]
  },
  {
   "cell_type": "markdown",
   "id": "20b727ba",
   "metadata": {
    "slideshow": {
     "slide_type": "slide"
    }
   },
   "source": [
    "La pendiente es -1 para cualquier $x < 0$, y es +1 para cualquier $x > 0$ , pero en $x = 0$ , la pendiente es indefinida, ya que no es posible aproximar la curva $y = |x|$ localmente alrededor del origen usando una línea recta, sin importar cuánto se acerque a ese punto."
   ]
  },
  {
   "cell_type": "markdown",
   "id": "51c06b52",
   "metadata": {
    "slideshow": {
     "slide_type": "slide"
    }
   },
   "source": [
    "Se dice que la función $f(x) = |x|$ no es derivable en $x = 0$: su derivada no está definida en $x = 0$. "
   ]
  },
  {
   "cell_type": "markdown",
   "id": "a9e5cd91",
   "metadata": {
    "slideshow": {
     "slide_type": "slide"
    }
   },
   "source": [
    "Esto significa que la curva $y = |x|$ tiene una pendiente indefinida en ese punto."
   ]
  },
  {
   "cell_type": "markdown",
   "id": "edf2dc4d",
   "metadata": {
    "slideshow": {
     "slide_type": "slide"
    }
   },
   "source": [
    "Sin embargo, la función $f(x) = |x|$ es derivable en todos los demás puntos."
   ]
  },
  {
   "cell_type": "markdown",
   "id": "bf209899",
   "metadata": {
    "slideshow": {
     "slide_type": "slide"
    }
   },
   "source": [
    "Para que una función $f(x)$ sea derivable en algún punto $x_{A}$, la pendiente de la línea $(AB)$ debe aproximarse a un único valor finito a medida que $B$ se acerca infinitamente a $A$. "
   ]
  },
  {
   "cell_type": "markdown",
   "id": "4f384bb7",
   "metadata": {
    "slideshow": {
     "slide_type": "slide"
    }
   },
   "source": [
    "Esto implica varias restricciones:"
   ]
  },
  {
   "cell_type": "markdown",
   "id": "50e6013e",
   "metadata": {
    "slideshow": {
     "slide_type": "slide"
    }
   },
   "source": [
    "* Primero, la función, por supuesto, debe estar **definida** en $x_{A}$. Como contraejemplo, la función $f(x) = \\frac{1}{x}$ no está definida en $x_{A} = 0$, por lo que no es diferenciable en ese punto."
   ]
  },
  {
   "cell_type": "markdown",
   "id": "2e927790",
   "metadata": {
    "slideshow": {
     "slide_type": "slide"
    }
   },
   "source": [
    "* La función también debe ser **continua** en $x_{A}$, lo que significa que a medida que $x_{B}$ se acerca infinitamente a $x_{A}$, $f(x_{B})$ también debe acercarse infinitamente a $f(x_{A})$. Como contraejemplo,\n",
    "\n",
    "$$ f(x) = \\begin{cases} -1 & \\text{si}\\ x < 0 \\\\ +1 & \\text{si}\\ x \\geq 0 \\end{cases} $$\n",
    "\n",
    "no es continuo en $x_{A} = 0$, aunque está definido en ese punto: de hecho, cuando lo abordas desde el lado negativo, no se acerca infinitamente a $f(0) = +1$. "
   ]
  },
  {
   "cell_type": "markdown",
   "id": "2739a18a",
   "metadata": {
    "slideshow": {
     "slide_type": "slide"
    }
   },
   "source": [
    "Por lo tanto, no es continuo en ese punto y, por lo tanto, tampoco es diferenciable."
   ]
  },
  {
   "cell_type": "markdown",
   "id": "1ef9da40",
   "metadata": {
    "slideshow": {
     "slide_type": "slide"
    }
   },
   "source": [
    "La función no debe tener un **punto de ruptura** en $x_{A}$, lo que significa que la pendiente a la que se acerca la línea $(AB)$ cuando $B$ se acerca a $A$ debe ser la misma si se acerca $B$ desde el lado izquierdo o desde el lado derecho. "
   ]
  },
  {
   "cell_type": "markdown",
   "id": "1e60a83a",
   "metadata": {
    "slideshow": {
     "slide_type": "slide"
    }
   },
   "source": [
    "Ya vimos un contraejemplo con $f(x) = |x|$, que es tanto definido como continuo en $x_{A} = 0$, pero que tiene un punto de ruptura en $x_{A} = 0$: el pendiente de la curva $y = |x|$ es $-1$ a la izquierda y $+1$ a la derecha."
   ]
  },
  {
   "cell_type": "markdown",
   "id": "feba49e7",
   "metadata": {
    "slideshow": {
     "slide_type": "slide"
    }
   },
   "source": [
    "La curva $y = f(x)$ no debe ser **vertical** en el punto $A$."
   ]
  },
  {
   "cell_type": "markdown",
   "id": "26424112",
   "metadata": {
    "slideshow": {
     "slide_type": "slide"
    }
   },
   "source": [
    "Un contraejemplo es $f(x) = \\sqrt[3]{x}$ , la raíz cúbica de $x$: la curva es vertical en el origen, por lo que la función no es diferenciable en $x_{A} = 0$ , como se puede ver en la siguiente animación:"
   ]
  },
  {
   "cell_type": "code",
   "execution_count": null,
   "id": "3d13b82e",
   "metadata": {
    "slideshow": {
     "slide_type": "slide"
    }
   },
   "outputs": [],
   "source": [
    "#@title\n",
    "animate_AB_line(lambda x: np.cbrt(x), None, r\"\\sqrt[3]{x}\", 0,\n",
    "                axis=[-2.1, 2.1, -1.4, 1.4])"
   ]
  },
  {
   "cell_type": "markdown",
   "id": "ec236353",
   "metadata": {
    "slideshow": {
     "slide_type": "slide"
    }
   },
   "source": [
    "Ahora veamos cómo derivar realmente una función (es decir, encontrar su derivada)."
   ]
  },
  {
   "cell_type": "markdown",
   "id": "21a962af",
   "metadata": {
    "slideshow": {
     "slide_type": "slide"
    }
   },
   "source": [
    "## Differentiating a function"
   ]
  },
  {
   "cell_type": "markdown",
   "id": "198dd9bb",
   "metadata": {
    "slideshow": {
     "slide_type": "slide"
    }
   },
   "source": [
    "La discusión anterior conduce a la siguiente definición:"
   ]
  },
  {
   "cell_type": "markdown",
   "id": "5c425bdc",
   "metadata": {
    "slideshow": {
     "slide_type": "slide"
    }
   },
   "source": [
    "La derivada de una función $f(x)$ en $x = x_{A}$ se anota $f'(x_{A})$, y se define como:\n",
    "\n",
    "$$ f'(x_{A}) = \\lim_{x_{B} \\to x_{A}} \\frac{f(x_{B}) - f(x_{A})}{x_{B} - x_{A}} $$\n"
   ]
  },
  {
   "cell_type": "markdown",
   "id": "acd10666",
   "metadata": {
    "slideshow": {
     "slide_type": "slide"
    }
   },
   "source": [
    "¡No te asustes, esto es más simple de lo que parece!"
   ]
  },
  {
   "cell_type": "markdown",
   "id": "8004b982",
   "metadata": {
    "slideshow": {
     "slide_type": "slide"
    }
   },
   "source": [
    "Es posible que reconozcas la ecuación de ascenso sobre avance $\\frac{y_{B} - y_{A}}{x_{B} - x_{A}}$ que analizamos anteriormente."
   ]
  },
  {
   "cell_type": "markdown",
   "id": "3f7027f5",
   "metadata": {
    "slideshow": {
     "slide_type": "slide"
    }
   },
   "source": [
    "Esa es solo la pendiente de la línea $(AB)$."
   ]
  },
  {
   "cell_type": "markdown",
   "id": "8eb0d2eb",
   "metadata": {
    "slideshow": {
     "slide_type": "slide"
    }
   },
   "source": [
    "Y la notación $\\lim\\limits_{x_{B} \\to x_{A}}$ significa que estamos haciendo que $x_{B}$ se acerque infinitamente a $x_{A}$."
   ]
  },
  {
   "cell_type": "markdown",
   "id": "acd4a223",
   "metadata": {
    "slideshow": {
     "slide_type": "slide"
    }
   },
   "source": [
    "Entonces, en lenguaje sencillo, $f'(x_{A})$ es el valor al que se aproxima la pendiente de la línea $(AB)$ cuando $B$ se acerca infinitamente a $A$."
   ]
  },
  {
   "cell_type": "markdown",
   "id": "43a27b82",
   "metadata": {
    "slideshow": {
     "slide_type": "slide"
    }
   },
   "source": [
    "Esta es solo una forma formal de decir exactamente lo mismo que antes."
   ]
  },
  {
   "cell_type": "markdown",
   "id": "63559344",
   "metadata": {
    "slideshow": {
     "slide_type": "slide"
    }
   },
   "source": [
    "## Example: finding the derivative of $x^{2}$ "
   ]
  },
  {
   "cell_type": "markdown",
   "id": "465288cf",
   "metadata": {
    "slideshow": {
     "slide_type": "slide"
    }
   },
   "source": [
    "Veamos un ejemplo concreto. "
   ]
  },
  {
   "cell_type": "markdown",
   "id": "a1d27d7f",
   "metadata": {
    "slideshow": {
     "slide_type": "slide"
    }
   },
   "source": [
    "Veamos si podemos determinar cuál es la pendiente de la curva $y = x^{2}$, en cualquier punto $A$ (trata de entender cada línea, te prometo que no es tan difícil):"
   ]
  },
  {
   "cell_type": "markdown",
   "id": "7f17c139",
   "metadata": {
    "slideshow": {
     "slide_type": "slide"
    }
   },
   "source": [
    "\\begin{align*}\n",
    "f'(x_{A}) & = \n",
    "\\end{align*}"
   ]
  },
  {
   "cell_type": "code",
   "execution_count": null,
   "id": "b13a6e25",
   "metadata": {
    "slideshow": {
     "slide_type": "slide"
    }
   },
   "outputs": [],
   "source": []
  },
  {
   "cell_type": "code",
   "execution_count": null,
   "id": "58393e20",
   "metadata": {
    "slideshow": {
     "slide_type": "slide"
    }
   },
   "outputs": [],
   "source": []
  },
  {
   "cell_type": "code",
   "execution_count": null,
   "id": "d9f7dd61",
   "metadata": {
    "slideshow": {
     "slide_type": "slide"
    }
   },
   "outputs": [],
   "source": []
  },
  {
   "cell_type": "code",
   "execution_count": null,
   "id": "fe30079a",
   "metadata": {
    "slideshow": {
     "slide_type": "slide"
    }
   },
   "outputs": [],
   "source": []
  },
  {
   "cell_type": "code",
   "execution_count": null,
   "id": "445ce100",
   "metadata": {
    "slideshow": {
     "slide_type": "slide"
    }
   },
   "outputs": [],
   "source": []
  },
  {
   "cell_type": "markdown",
   "id": "a4db00e6",
   "metadata": {
    "slideshow": {
     "slide_type": "slide"
    }
   },
   "source": [
    "## Hola mundo "
   ]
  },
  {
   "cell_type": "markdown",
   "id": "fe0091a1",
   "metadata": {
    "slideshow": {
     "slide_type": "slide"
    }
   },
   "source": [
    "Las funciones en Python se invocan con paréntesis, por ejemplo:"
   ]
  },
  {
   "cell_type": "code",
   "execution_count": null,
   "id": "75d91d76",
   "metadata": {
    "slideshow": {
     "slide_type": "slide"
    }
   },
   "outputs": [],
   "source": [
    "print('¡Hola Mundo!') "
   ]
  },
  {
   "cell_type": "markdown",
   "id": "58eecf3c",
   "metadata": {
    "slideshow": {
     "slide_type": "slide"
    }
   },
   "source": [
    "': tilde vertical o apóstrofe  \n",
    "´: tilde usual   \n",
    "`:  tilde invertida o inclinda a la izquierda"
   ]
  },
  {
   "cell_type": "markdown",
   "id": "5fbcfb3e",
   "metadata": {
    "slideshow": {
     "slide_type": "slide"
    }
   },
   "source": [
    "## Sangría\n",
    "\n",
    "Python usa sangría para bloques de código, en lugar de llaves. Se admiten también los espacios, pero la sangría estándar requiere que el código Python estándar use cuatro espacios. Por ejemplo:"
   ]
  },
  {
   "cell_type": "code",
   "execution_count": null,
   "id": "f871240f",
   "metadata": {
    "slideshow": {
     "slide_type": "slide"
    }
   },
   "outputs": [],
   "source": [
    "x = 2\n",
    "if x==1:\n",
    "    print('x es uno')"
   ]
  },
  {
   "cell_type": "markdown",
   "id": "d96214c3",
   "metadata": {
    "slideshow": {
     "slide_type": "slide"
    }
   },
   "source": [
    "### Ejercicio\n",
    "\n",
    "Utilice la función `print()` para darle un saludo a tus compañeros de clase: \n"
   ]
  },
  {
   "cell_type": "code",
   "execution_count": null,
   "id": "dc541ea7",
   "metadata": {
    "slideshow": {
     "slide_type": "slide"
    }
   },
   "outputs": [],
   "source": [
    "print('Buenas noches compañeros de clase, Mi nombre es Marco')"
   ]
  },
  {
   "cell_type": "markdown",
   "id": "bbbbee24",
   "metadata": {
    "slideshow": {
     "slide_type": "slide"
    }
   },
   "source": [
    "## Variables y tipos"
   ]
  },
  {
   "cell_type": "markdown",
   "id": "effc5f13",
   "metadata": {
    "slideshow": {
     "slide_type": "slide"
    }
   },
   "source": [
    "## [Segundo video de apoyo](https://www.youtube.com/watch?v=hm-Tmz8RBb8)  "
   ]
  },
  {
   "cell_type": "markdown",
   "id": "3c7485df",
   "metadata": {
    "slideshow": {
     "slide_type": "slide"
    }
   },
   "source": [
    "Python está completamente orientado a objetos. No es necesario declarar variables antes de utilizarlas ni declarar su tipo. Cada variable en Python es un objeto.\n",
    "\n",
    "Veamos algunos tipos básicos de variables."
   ]
  },
  {
   "cell_type": "markdown",
   "id": "fa03d05a",
   "metadata": {
    "slideshow": {
     "slide_type": "slide"
    }
   },
   "source": [
    "### Números"
   ]
  },
  {
   "cell_type": "markdown",
   "id": "5bb9bf54",
   "metadata": {
    "slideshow": {
     "slide_type": "slide"
    }
   },
   "source": [
    "Python admite dos tipos de números: \n",
    "* De tipo `int` (números enteros) y \n",
    "* números de coma flotante (decimales). \n",
    "* (También admite números complejos).\n",
    "\n",
    "Para definir un entero, utilice la sintaxis siguiente:"
   ]
  },
  {
   "cell_type": "code",
   "execution_count": null,
   "id": "f496601e",
   "metadata": {
    "slideshow": {
     "slide_type": "slide"
    }
   },
   "outputs": [],
   "source": [
    "entero=7\n",
    "print(entero)"
   ]
  },
  {
   "cell_type": "code",
   "execution_count": null,
   "id": "9f40c105",
   "metadata": {
    "slideshow": {
     "slide_type": "slide"
    }
   },
   "outputs": [],
   "source": [
    "type(entero)"
   ]
  },
  {
   "cell_type": "markdown",
   "id": "365f62f9",
   "metadata": {
    "slideshow": {
     "slide_type": "slide"
    }
   },
   "source": [
    "Para definir un número de coma flotante, puede utilizar una de las siguientes notaciones:"
   ]
  },
  {
   "cell_type": "code",
   "execution_count": null,
   "id": "344e2b7e",
   "metadata": {
    "slideshow": {
     "slide_type": "slide"
    }
   },
   "outputs": [],
   "source": [
    "my_float = 7.0\n",
    "print(my_float)"
   ]
  },
  {
   "cell_type": "code",
   "execution_count": null,
   "id": "375174a6",
   "metadata": {
    "slideshow": {
     "slide_type": "slide"
    }
   },
   "outputs": [],
   "source": [
    "type(7)"
   ]
  },
  {
   "cell_type": "code",
   "execution_count": null,
   "id": "ff265ae0",
   "metadata": {
    "slideshow": {
     "slide_type": "slide"
    }
   },
   "outputs": [],
   "source": [
    "f = float(7)"
   ]
  },
  {
   "cell_type": "code",
   "execution_count": null,
   "id": "b3ec6e04",
   "metadata": {
    "slideshow": {
     "slide_type": "slide"
    }
   },
   "outputs": [],
   "source": [
    "type(f)"
   ]
  },
  {
   "cell_type": "markdown",
   "id": "29354a39",
   "metadata": {
    "slideshow": {
     "slide_type": "slide"
    }
   },
   "source": [
    "## Strings"
   ]
  },
  {
   "cell_type": "markdown",
   "id": "a11826a5",
   "metadata": {
    "slideshow": {
     "slide_type": "slide"
    }
   },
   "source": [
    "Strings are defined either with a single quote or a double quotes."
   ]
  },
  {
   "cell_type": "code",
   "execution_count": null,
   "id": "3e42b7df",
   "metadata": {
    "slideshow": {
     "slide_type": "slide"
    }
   },
   "outputs": [],
   "source": [
    "mystring = 'hello'\n",
    "print(mystring)\n",
    "mystring = \"hello\"\n",
    "print(mystring)"
   ]
  },
  {
   "cell_type": "markdown",
   "id": "6a2cd79e",
   "metadata": {
    "slideshow": {
     "slide_type": "slide"
    }
   },
   "source": [
    "La diferencia entre los dos es que el uso de comillas dobles facilita la inclusión de apóstrofos (mientras que estos terminarían la cadena si se usan comillas simples)"
   ]
  },
  {
   "cell_type": "code",
   "execution_count": null,
   "id": "1840a442",
   "metadata": {
    "slideshow": {
     "slide_type": "slide"
    }
   },
   "outputs": [],
   "source": [
    "mystring = \"Don't worry about aportrophes\"\n",
    "print(mystring)"
   ]
  },
  {
   "cell_type": "markdown",
   "id": "b78bc3d7",
   "metadata": {
    "slideshow": {
     "slide_type": "slide"
    }
   },
   "source": [
    "Hay variaciones adicionales en la definición de cadenas que facilitan la inclusión de elementos como retornos de carro, barra diagonal inversa y caracteres Unicode. Estos están más allá del alcance de este tutorial, pero se tratan en la [documentación de Python](https://docs.python.org/3/tutorial/introduction.html#strings) sobre `string`.\n",
    "\n",
    "Los operadores simples se pueden ejecutar en números y cadenas:"
   ]
  },
  {
   "cell_type": "code",
   "execution_count": null,
   "id": "aa4eb5a7",
   "metadata": {
    "slideshow": {
     "slide_type": "slide"
    }
   },
   "outputs": [],
   "source": [
    "a = 1 \n",
    "b = 2\n",
    "c = a+b\n",
    "c "
   ]
  },
  {
   "cell_type": "code",
   "execution_count": null,
   "id": "b09734b3",
   "metadata": {
    "slideshow": {
     "slide_type": "slide"
    }
   },
   "outputs": [],
   "source": [
    "a = 'uno'\n",
    "b = 'dos'\n",
    "c = a + ' más ' + b\n",
    "c "
   ]
  },
  {
   "cell_type": "code",
   "execution_count": null,
   "id": "60d22eaa",
   "metadata": {
    "slideshow": {
     "slide_type": "slide"
    }
   },
   "outputs": [],
   "source": [
    "'spam eggs'  # single quotes"
   ]
  },
  {
   "cell_type": "code",
   "execution_count": null,
   "id": "5907c927",
   "metadata": {
    "slideshow": {
     "slide_type": "slide"
    }
   },
   "outputs": [],
   "source": [
    "'doesn\\'t'  # use \\' to escape the single quote..."
   ]
  },
  {
   "cell_type": "code",
   "execution_count": null,
   "id": "852cb3fe",
   "metadata": {
    "slideshow": {
     "slide_type": "slide"
    }
   },
   "outputs": [],
   "source": [
    "\"doesn't\"  # ...or use double quotes instead"
   ]
  },
  {
   "cell_type": "code",
   "execution_count": null,
   "id": "596852fd",
   "metadata": {
    "slideshow": {
     "slide_type": "slide"
    }
   },
   "outputs": [],
   "source": [
    "'\"Yes,\" they said.'"
   ]
  },
  {
   "cell_type": "code",
   "execution_count": null,
   "id": "776ed979",
   "metadata": {
    "slideshow": {
     "slide_type": "slide"
    }
   },
   "outputs": [],
   "source": [
    "\"\\\"Yes,\\\" they said.\""
   ]
  },
  {
   "cell_type": "code",
   "execution_count": null,
   "id": "00d2f168",
   "metadata": {
    "slideshow": {
     "slide_type": "slide"
    }
   },
   "outputs": [],
   "source": [
    "'\"Isn\\'t,\" they said.'\n"
   ]
  },
  {
   "cell_type": "markdown",
   "id": "a1b3bc9f",
   "metadata": {
    "slideshow": {
     "slide_type": "slide"
    }
   },
   "source": [
    "Las asignaciones se pueden realizar en más de una variable \"simultáneamente\" en la misma línea como esta"
   ]
  },
  {
   "cell_type": "code",
   "execution_count": null,
   "id": "e97a196e",
   "metadata": {
    "slideshow": {
     "slide_type": "slide"
    }
   },
   "outputs": [],
   "source": [
    "a, b = 3, 4\n",
    "print(a, b)"
   ]
  },
  {
   "cell_type": "markdown",
   "id": "514f205b",
   "metadata": {
    "slideshow": {
     "slide_type": "slide"
    }
   },
   "source": [
    "No se admite la mezcla de operadores entre números y cadenas:"
   ]
  },
  {
   "cell_type": "code",
   "execution_count": null,
   "id": "6c3212ae",
   "metadata": {
    "slideshow": {
     "slide_type": "slide"
    }
   },
   "outputs": [],
   "source": [
    "# This will not work!\n",
    "one = 1\n",
    "two = 2\n",
    "hello = \"hello\"\n",
    "\n",
    "print(one + two + hello)"
   ]
  },
  {
   "cell_type": "markdown",
   "id": "1a677a5e",
   "metadata": {
    "slideshow": {
     "slide_type": "slide"
    }
   },
   "source": [
    "## Ejercicio"
   ]
  },
  {
   "cell_type": "markdown",
   "id": "b0211100",
   "metadata": {
    "slideshow": {
     "slide_type": "slide"
    }
   },
   "source": [
    "El objetivo de este ejercicio es crear una cadena, un entero y un número de coma flotante. La cadena debe tener nombre y debe contener la palabra \"hola\". El número de coma flotante debe tener un nombre y debe contener el número 10.0, y el entero debe tener el nombre y el número 20.mystringmyfloatmyint"
   ]
  },
  {
   "cell_type": "code",
   "execution_count": null,
   "id": "109e7e10",
   "metadata": {
    "slideshow": {
     "slide_type": "slide"
    }
   },
   "outputs": [],
   "source": [
    "# change this code\n",
    "mystring = 'Hola' \n",
    "myfloat = 10.0\n",
    "myint = None\n",
    "\n",
    "# testing code\n",
    "if mystring == \"Hola\":\n",
    "    print(\"String: %s\" % mystring)\n",
    "if isinstance(myfloat, float) and myfloat == 10.0:\n",
    "    print(\"Float: %f\" % myfloat)\n",
    "if isinstance(myint,int) and myint == 20:\n",
    "    print(\"Integer: %d\" % myint)"
   ]
  },
  {
   "cell_type": "markdown",
   "id": "7e37cb81",
   "metadata": {
    "slideshow": {
     "slide_type": "slide"
    }
   },
   "source": [
    "## Matemáticas necesarias para análisis de datos:  "
   ]
  },
  {
   "cell_type": "markdown",
   "id": "0430a010",
   "metadata": {
    "slideshow": {
     "slide_type": "slide"
    }
   },
   "source": [
    "Estudiamos el lenguaje matricial necesario para entender teoremas de descomposición vitales en procesos de aproximación. Se hace énfasis en método de mínimos cuadrados para luego generalizar y aplicar en problemas de ajuste de datos, clasificación, y optimización lineal."
   ]
  },
  {
   "cell_type": "markdown",
   "id": "832dae9d",
   "metadata": {
    "slideshow": {
     "slide_type": "slide"
    }
   },
   "source": [
    "## El problema del Aprendizaje Supervisado:  "
   ]
  },
  {
   "cell_type": "markdown",
   "id": "64c35262",
   "metadata": {
    "slideshow": {
     "slide_type": "slide"
    }
   },
   "source": [
    "Aquí se introduce la notación y se procura dar una justificación de cada una de las componentes clásicas del modelo de aprendizaje supervisado tales como función objetivo, conjunto de entrenamiento, algoritmo de aprendizaje, clases de hipótesis, medida del error y predictor. El énfasis estará en reconocer que es posible hablar de aprendizaje de datos, pero en un sentido probabilístico.   "
   ]
  },
  {
   "cell_type": "markdown",
   "id": "60d66438",
   "metadata": {
    "slideshow": {
     "slide_type": "slide"
    }
   },
   "source": [
    "## Entrenamiento y testeo:  "
   ]
  },
  {
   "cell_type": "markdown",
   "id": "f702554b",
   "metadata": {
    "slideshow": {
     "slide_type": "slide"
    }
   },
   "source": [
    "Se propone estudiar la difícil relación de equilibrio que se debe tener entre aproximación y generalización. "
   ]
  },
  {
   "cell_type": "markdown",
   "id": "081bab16",
   "metadata": {
    "slideshow": {
     "slide_type": "slide"
    }
   },
   "source": [
    "El énfasis estará en reconocer el papel fundamental de las clases de hipótesis y la tarea delicada de conseguir buenos procesos de aproximación sin perder habilidad de generalización. "
   ]
  },
  {
   "cell_type": "markdown",
   "id": "502e63ac",
   "metadata": {
    "slideshow": {
     "slide_type": "slide"
    }
   },
   "source": [
    "## El modelo lineal:"
   ]
  },
  {
   "cell_type": "markdown",
   "id": "497d75f7",
   "metadata": {
    "slideshow": {
     "slide_type": "slide"
    }
   },
   "source": [
    "Se estudian \n",
    "\n",
    "* la clasificación lineal, \n",
    "* la regresión lineal \n",
    "* regresión logística. \n",
    "\n",
    "Además, se introducen **algoritmos eficientes de apredizaje** tales como\n",
    "gradiente descendente y perceptrón de bolsillo. "
   ]
  },
  {
   "cell_type": "markdown",
   "id": "d6d492d9",
   "metadata": {
    "slideshow": {
     "slide_type": "slide"
    }
   },
   "source": [
    "## Sobreentrenamiento:"
   ]
  },
  {
   "cell_type": "markdown",
   "id": "ba8e018f",
   "metadata": {
    "slideshow": {
     "slide_type": "slide"
    }
   },
   "source": [
    "Se reconocen escenarios no intuitivos de sobreajuste de datos y se propone la regularización como estrategia para evitar este problema. Además se propone la validación como herramienta para la selección de modelos. "
   ]
  },
  {
   "cell_type": "markdown",
   "id": "79f0a43b",
   "metadata": {
    "slideshow": {
     "slide_type": "slide"
    }
   },
   "source": [
    "## Funciones de Python asociadas a este cuaderno"
   ]
  },
  {
   "cell_type": "markdown",
   "id": "18dbef01",
   "metadata": {
    "slideshow": {
     "slide_type": "slide"
    }
   },
   "source": [
    "* `type()` una función que nos describe la naturaleza del objeto de python. \n",
    "* `print()`\n",
    "* `float()`\n",
    "* `int()`\n",
    "* lista de variables reservadas por el lenguaje Python."
   ]
  },
  {
   "cell_type": "markdown",
   "id": "9ac8fb8d",
   "metadata": {
    "slideshow": {
     "slide_type": "slide"
    }
   },
   "source": [
    "## Referentes \n",
    "\n",
    "* Geron, Aurelien. Hand on Machine Learning with Scikit-Learn, Keras and TensorFlow: Concepts, tools, and techniques to build intelligent systems. \n",
    "\n",
    "* La documentación oficial de Python: https://docs.python.org/3/tutorial/index.html "
   ]
  },
  {
   "cell_type": "markdown",
   "id": "e6d05ca0",
   "metadata": {
    "slideshow": {
     "slide_type": "slide"
    }
   },
   "source": [
    "# [Una introducción informal a Python](https://docs.python.org/3/tutorial/introduction.html) "
   ]
  },
  {
   "cell_type": "code",
   "execution_count": null,
   "id": "8dd5df82",
   "metadata": {
    "slideshow": {
     "slide_type": "slide"
    }
   },
   "outputs": [],
   "source": [
    "# emepecemos creando una variable utilizando el operador de asignación =\n",
    "spam = 1  # and this is the second comment"
   ]
  },
  {
   "cell_type": "code",
   "execution_count": null,
   "id": "417bc2c3",
   "metadata": {
    "slideshow": {
     "slide_type": "slide"
    }
   },
   "outputs": [],
   "source": [
    "          # Este si en un comentario \n",
    "text =  \"Esta no es una línea de comentario es una cadena de caracteres\""
   ]
  },
  {
   "cell_type": "code",
   "execution_count": null,
   "id": "2b687c44",
   "metadata": {
    "slideshow": {
     "slide_type": "slide"
    }
   },
   "outputs": [],
   "source": [
    "type(text) "
   ]
  },
  {
   "cell_type": "markdown",
   "id": "dacfb0d1",
   "metadata": {
    "slideshow": {
     "slide_type": "slide"
    }
   },
   "source": [
    "## 3.1. Uso de Python como calculadora"
   ]
  },
  {
   "cell_type": "markdown",
   "id": "eaa777df",
   "metadata": {
    "slideshow": {
     "slide_type": "slide"
    }
   },
   "source": [
    "El código Python lo podemos correr en:\n",
    "\n",
    "* Google Colab\n",
    "* Visual Studio Code\n",
    "* Idle Python\n",
    "* Anaconda "
   ]
  },
  {
   "cell_type": "markdown",
   "id": "2a889d5f",
   "metadata": {
    "slideshow": {
     "slide_type": "slide"
    }
   },
   "source": [
    "### 3.1.1. Números"
   ]
  },
  {
   "cell_type": "markdown",
   "id": "49eb8577",
   "metadata": {
    "slideshow": {
     "slide_type": "slide"
    }
   },
   "source": [
    "El intérprete actúa como una simple calculadora: puede escribir una expresión en ella y escribirá el valor. La sintaxis de la expresión es sencilla: \n",
    "\n",
    "Utilizando los operadores +,*,/,-,(), y funcionan como en la mayoría de los otros lenguajes (por ejemplo, Pascal o C); los paréntesis () se pueden utilizar para agrupar. Por ejemplo:"
   ]
  },
  {
   "cell_type": "code",
   "execution_count": null,
   "id": "8520c6a9",
   "metadata": {
    "slideshow": {
     "slide_type": "slide"
    }
   },
   "outputs": [],
   "source": [
    "2 + 3"
   ]
  },
  {
   "cell_type": "code",
   "execution_count": null,
   "id": "05d8f5ba",
   "metadata": {
    "slideshow": {
     "slide_type": "slide"
    }
   },
   "outputs": [],
   "source": [
    "1+2*3"
   ]
  },
  {
   "cell_type": "code",
   "execution_count": null,
   "id": "6b1af748",
   "metadata": {
    "slideshow": {
     "slide_type": "slide"
    }
   },
   "outputs": [],
   "source": [
    "(2+1)/(2-1)"
   ]
  },
  {
   "cell_type": "code",
   "execution_count": null,
   "id": "da1fe58d",
   "metadata": {
    "slideshow": {
     "slide_type": "slide"
    }
   },
   "outputs": [],
   "source": [
    "8/5  # division always returns a floating point number\n"
   ]
  },
  {
   "cell_type": "code",
   "execution_count": null,
   "id": "a9fad24f",
   "metadata": {
    "slideshow": {
     "slide_type": "slide"
    }
   },
   "outputs": [],
   "source": [
    "type(8/5)"
   ]
  },
  {
   "cell_type": "markdown",
   "id": "25f9110e",
   "metadata": {
    "slideshow": {
     "slide_type": "slide"
    }
   },
   "source": [
    "Los números enteros (por ejemplo, 13, 5 , 17) tienen tipo `int`, los que tienen una parte fraccionaria (por ejemplo,5.13, 1.14 ) tienen tipo `float`."
   ]
  },
  {
   "cell_type": "code",
   "execution_count": null,
   "id": "de9ca72d",
   "metadata": {
    "slideshow": {
     "slide_type": "slide"
    }
   },
   "outputs": [],
   "source": [
    "type(13)"
   ]
  },
  {
   "cell_type": "code",
   "execution_count": null,
   "id": "194d365a",
   "metadata": {
    "slideshow": {
     "slide_type": "slide"
    }
   },
   "outputs": [],
   "source": [
    "type(13.0)"
   ]
  },
  {
   "cell_type": "markdown",
   "id": "0ddbfaee",
   "metadata": {
    "slideshow": {
     "slide_type": "slide"
    }
   },
   "source": [
    "La división (`/`) siempre devuelve un objeto tipo `float`. "
   ]
  },
  {
   "cell_type": "markdown",
   "id": "87d190b5",
   "metadata": {
    "slideshow": {
     "slide_type": "slide"
    }
   },
   "source": [
    "Para hacer la división usual y obtener un resultado entero (descartando cualquier resultado fraccionario) se puede utilizar el operador `//`; "
   ]
  },
  {
   "cell_type": "markdown",
   "id": "c152db2b",
   "metadata": {
    "slideshow": {
     "slide_type": "slide"
    }
   },
   "source": [
    "para calcular el residuo de la división puede utilizar:`%`"
   ]
  },
  {
   "cell_type": "code",
   "execution_count": null,
   "id": "f9e04159",
   "metadata": {
    "slideshow": {
     "slide_type": "slide"
    }
   },
   "outputs": [],
   "source": [
    "13/2  # classic division returns a float"
   ]
  },
  {
   "cell_type": "code",
   "execution_count": null,
   "id": "5e8b9d65",
   "metadata": {
    "slideshow": {
     "slide_type": "slide"
    }
   },
   "outputs": [],
   "source": [
    "13//2  # floor division discards the fractional part"
   ]
  },
  {
   "cell_type": "code",
   "execution_count": null,
   "id": "3489afa3",
   "metadata": {
    "slideshow": {
     "slide_type": "slide"
    }
   },
   "outputs": [],
   "source": [
    "13%2  # the % operator returns the remainder of the division"
   ]
  },
  {
   "cell_type": "code",
   "execution_count": null,
   "id": "5a20e5f8",
   "metadata": {
    "slideshow": {
     "slide_type": "slide"
    }
   },
   "outputs": [],
   "source": [
    "13 == 6*2 + 1  # floored quotient * divisor + remainder\n"
   ]
  },
  {
   "cell_type": "markdown",
   "id": "86d16752",
   "metadata": {
    "slideshow": {
     "slide_type": "slide"
    }
   },
   "source": [
    "Con Python, es posible usar el operador para calcular potencias:`**`"
   ]
  },
  {
   "cell_type": "code",
   "execution_count": null,
   "id": "79a3f9db",
   "metadata": {
    "slideshow": {
     "slide_type": "slide"
    }
   },
   "outputs": [],
   "source": [
    "3**2  #  squared"
   ]
  },
  {
   "cell_type": "code",
   "execution_count": null,
   "id": "efeff0f4",
   "metadata": {
    "slideshow": {
     "slide_type": "slide"
    }
   },
   "outputs": [],
   "source": [
    "3*2"
   ]
  },
  {
   "cell_type": "code",
   "execution_count": null,
   "id": "59537199",
   "metadata": {
    "slideshow": {
     "slide_type": "slide"
    }
   },
   "outputs": [],
   "source": [
    "2**5  # 2 to the power of 5\n"
   ]
  },
  {
   "cell_type": "markdown",
   "id": "ca2afeff",
   "metadata": {
    "slideshow": {
     "slide_type": "slide"
    }
   },
   "source": [
    "El signo igual (`=`) se utiliza para asignar un valor a una variable. Posteriormente, no se muestra ningún resultado antes del siguiente mensaje interactivo:"
   ]
  },
  {
   "cell_type": "code",
   "execution_count": null,
   "id": "c2f47f37",
   "metadata": {
    "slideshow": {
     "slide_type": "slide"
    }
   },
   "outputs": [],
   "source": [
    "width = 3\n",
    "height = 4\n",
    "width * height"
   ]
  },
  {
   "cell_type": "markdown",
   "id": "7a86b7dc",
   "metadata": {
    "slideshow": {
     "slide_type": "slide"
    }
   },
   "source": [
    "Si una variable no \"definida\" (es decir, no se le ha asignado un valor), al intentar usarla se le dará un error:"
   ]
  },
  {
   "cell_type": "code",
   "execution_count": null,
   "id": "94d5afee",
   "metadata": {
    "slideshow": {
     "slide_type": "slide"
    }
   },
   "outputs": [],
   "source": [
    "n                            # try to access an undefined variable"
   ]
  },
  {
   "cell_type": "markdown",
   "id": "6047bba0",
   "metadata": {
    "slideshow": {
     "slide_type": "slide"
    }
   },
   "source": [
    "los operadores con operandos de tipo mixto convierten el operando entero en coma flotante:"
   ]
  },
  {
   "cell_type": "code",
   "execution_count": null,
   "id": "0b9c6070",
   "metadata": {
    "slideshow": {
     "slide_type": "slide"
    }
   },
   "outputs": [],
   "source": [
    "type(2/3-1)\n"
   ]
  },
  {
   "cell_type": "markdown",
   "id": "afaf1e2d",
   "metadata": {
    "slideshow": {
     "slide_type": "slide"
    }
   },
   "source": [
    "En el modo interactivo, la última expresión impresa se asigna a la variable `-`. Esto significa que cuando está utilizando Python como calculadora de escritorio, es algo más fácil continuar con los cálculos, por ejemplo:"
   ]
  },
  {
   "cell_type": "code",
   "execution_count": null,
   "id": "ab40f393",
   "metadata": {
    "slideshow": {
     "slide_type": "slide"
    }
   },
   "outputs": [],
   "source": [
    "tax = 12/4\n",
    "price = 100\n",
    "price * tax"
   ]
  },
  {
   "cell_type": "code",
   "execution_count": null,
   "id": "9f6a1bcd",
   "metadata": {
    "slideshow": {
     "slide_type": "slide"
    }
   },
   "outputs": [],
   "source": [
    "price + _"
   ]
  },
  {
   "cell_type": "code",
   "execution_count": null,
   "id": "b3cb8374",
   "metadata": {
    "slideshow": {
     "slide_type": "slide"
    }
   },
   "outputs": [],
   "source": [
    "_*2\n"
   ]
  },
  {
   "cell_type": "markdown",
   "id": "9ef195e7",
   "metadata": {
    "slideshow": {
     "slide_type": "slide"
    }
   },
   "source": [
    "La variable `_` debe ser tratada como de solo lectura por el usuario. "
   ]
  },
  {
   "cell_type": "markdown",
   "id": "350757e7",
   "metadata": {
    "slideshow": {
     "slide_type": "slide"
    }
   },
   "source": [
    "No le asigne explícitamente un valor: crearía una variable local independiente con el mismo nombre que enmascarara la variable incorporada con su comportamiento mágico."
   ]
  },
  {
   "cell_type": "markdown",
   "id": "fca37ef0",
   "metadata": {
    "slideshow": {
     "slide_type": "slide"
    }
   },
   "source": [
    "Además de `int` y `float`, Python también tiene soporte incorporado para números complejos utilizando el sufijo `j` para indicar la parte imaginaria (por ejemplo la unidad imaginaria se denota en Python así:`1j` )"
   ]
  },
  {
   "cell_type": "code",
   "execution_count": null,
   "id": "13812061",
   "metadata": {
    "slideshow": {
     "slide_type": "slide"
    }
   },
   "outputs": [],
   "source": [
    "1j**2 "
   ]
  },
  {
   "cell_type": "code",
   "execution_count": null,
   "id": "d6ca6f48",
   "metadata": {
    "slideshow": {
     "slide_type": "slide"
    }
   },
   "outputs": [],
   "source": [
    "2j"
   ]
  },
  {
   "cell_type": "markdown",
   "id": "178cd0e1",
   "metadata": {
    "slideshow": {
     "slide_type": "slide"
    }
   },
   "source": [
    "## 3.1.2. Cadenas"
   ]
  },
  {
   "cell_type": "code",
   "execution_count": null,
   "id": "66936f69",
   "metadata": {
    "slideshow": {
     "slide_type": "slide"
    }
   },
   "outputs": [],
   "source": [
    "cadena_1 = 'Marco'"
   ]
  },
  {
   "cell_type": "code",
   "execution_count": null,
   "id": "621d1d1a",
   "metadata": {
    "slideshow": {
     "slide_type": "slide"
    }
   },
   "outputs": [],
   "source": [
    "len(cadena_1) "
   ]
  },
  {
   "cell_type": "code",
   "execution_count": null,
   "id": "608b68f9",
   "metadata": {
    "slideshow": {
     "slide_type": "slide"
    }
   },
   "outputs": [],
   "source": [
    "lista_de_cadenas = ['a','e','i','o','u'] "
   ]
  },
  {
   "cell_type": "markdown",
   "id": "91aea1e4",
   "metadata": {
    "slideshow": {
     "slide_type": "slide"
    }
   },
   "source": [
    "Además de los números, Python también puede manipular cadenas, que se pueden expresar de varias maneras. Se pueden encerrar entre comillas simples (`'...'`) o comillas dobles (`\"...\"`) con el mismo resultado. se puede utilizar para escapar de las comillas`\\`:"
   ]
  },
  {
   "cell_type": "code",
   "execution_count": null,
   "id": "31704c2b",
   "metadata": {
    "slideshow": {
     "slide_type": "slide"
    }
   },
   "outputs": [],
   "source": [
    "'huevos'  # single quotes"
   ]
  },
  {
   "cell_type": "code",
   "execution_count": null,
   "id": "d8c2683a",
   "metadata": {
    "slideshow": {
     "slide_type": "slide"
    }
   },
   "outputs": [],
   "source": [
    "'doesn\\'t'  # use \\' to escape the single quote..."
   ]
  },
  {
   "cell_type": "code",
   "execution_count": null,
   "id": "1b6dd9df",
   "metadata": {
    "slideshow": {
     "slide_type": "slide"
    }
   },
   "outputs": [],
   "source": [
    "\"doesn't\"  # ...or use double quotes instead"
   ]
  },
  {
   "cell_type": "code",
   "execution_count": null,
   "id": "2e32e9af",
   "metadata": {
    "slideshow": {
     "slide_type": "slide"
    }
   },
   "outputs": [],
   "source": [
    "'\"Yes,\" they said.'"
   ]
  },
  {
   "cell_type": "markdown",
   "id": "a2aebf4e",
   "metadata": {
    "slideshow": {
     "slide_type": "slide"
    }
   },
   "source": [
    "En el intérprete interactivo, la cadena de salida se encierra entre comillas y los caracteres especiales se escapan con barras diagonales inversas (o backslash).  "
   ]
  },
  {
   "cell_type": "markdown",
   "id": "ccad0612",
   "metadata": {
    "slideshow": {
     "slide_type": "slide"
    }
   },
   "source": [
    "Si bien esto a veces puede parecer diferente de la entrada (las comillas adjuntas podrían cambiar), las dos cadenas son equivalentes. "
   ]
  },
  {
   "cell_type": "markdown",
   "id": "ce18cae3",
   "metadata": {
    "slideshow": {
     "slide_type": "slide"
    }
   },
   "source": [
    "La cadena se incluye entre comillas dobles si la cadena contiene una comillas simples y no comillas dobles, de lo contrario se incluye entre comillas simples. "
   ]
  },
  {
   "cell_type": "markdown",
   "id": "aec0eda7",
   "metadata": {
    "slideshow": {
     "slide_type": "slide"
    }
   },
   "source": [
    "La función `print()` produce una salida más legible, omitiendo las comillas adjuntas e imprimiendo caracteres escapados y especiales:"
   ]
  },
  {
   "cell_type": "code",
   "execution_count": null,
   "id": "83f47a35",
   "metadata": {
    "slideshow": {
     "slide_type": "slide"
    }
   },
   "outputs": [],
   "source": [
    "'Isn\\'t, they said.'"
   ]
  },
  {
   "cell_type": "code",
   "execution_count": null,
   "id": "40d53cad",
   "metadata": {
    "slideshow": {
     "slide_type": "slide"
    }
   },
   "outputs": [],
   "source": [
    "print('\"Isn\\'t,\" they said.')"
   ]
  },
  {
   "cell_type": "code",
   "execution_count": null,
   "id": "3ca0a678",
   "metadata": {
    "slideshow": {
     "slide_type": "slide"
    }
   },
   "outputs": [],
   "source": [
    "s = 'First line.\\nSecond line.'  # \\n means newline"
   ]
  },
  {
   "cell_type": "code",
   "execution_count": null,
   "id": "6aec8b9b",
   "metadata": {
    "slideshow": {
     "slide_type": "slide"
    }
   },
   "outputs": [],
   "source": [
    "s "
   ]
  },
  {
   "cell_type": "code",
   "execution_count": null,
   "id": "65574030",
   "metadata": {
    "slideshow": {
     "slide_type": "slide"
    }
   },
   "outputs": [],
   "source": [
    "print(s)  # with print(), \\n produces a new line"
   ]
  },
  {
   "cell_type": "markdown",
   "id": "33e9db3d",
   "metadata": {
    "slideshow": {
     "slide_type": "slide"
    }
   },
   "source": [
    "Si no desea que los caracteres precedidos por `\\` se interpreten como caracteres especiales, puede usar cadenas sin formato agregando un `r` antes de la primera cita:"
   ]
  },
  {
   "cell_type": "code",
   "execution_count": null,
   "id": "0677b538",
   "metadata": {
    "slideshow": {
     "slide_type": "slide"
    }
   },
   "outputs": [],
   "source": [
    "print('dia\\nombre')  # here \\n means newline!"
   ]
  },
  {
   "cell_type": "code",
   "execution_count": null,
   "id": "45b8e5c1",
   "metadata": {
    "slideshow": {
     "slide_type": "slide"
    }
   },
   "outputs": [],
   "source": [
    "print(r'día\\nombre')  # note the r before the quote\n"
   ]
  },
  {
   "cell_type": "markdown",
   "id": "ec2089ac",
   "metadata": {
    "slideshow": {
     "slide_type": "slide"
    }
   },
   "source": [
    "Las cadenas pueden abarcar varias líneas. "
   ]
  },
  {
   "cell_type": "markdown",
   "id": "326c531a",
   "metadata": {
    "slideshow": {
     "slide_type": "slide"
    }
   },
   "source": [
    "Una forma es usar comillas triples: `\"\"\"...\"\"\"` o `'''...'''` . El final de las líneas se incluye automáticamente en la cadena, pero es posible evitarlo agregando un `\\` al final de la línea. El siguiente ejemplo:"
   ]
  },
  {
   "cell_type": "code",
   "execution_count": null,
   "id": "87c48ab2",
   "metadata": {
    "scrolled": true,
    "slideshow": {
     "slide_type": "slide"
    }
   },
   "outputs": [],
   "source": [
    "print(\"\"\"Primera línea de la cadena\n",
    "Segunda línea de la cadena\n",
    "\"\"\")"
   ]
  },
  {
   "cell_type": "code",
   "execution_count": null,
   "id": "82efee84",
   "metadata": {
    "slideshow": {
     "slide_type": "slide"
    }
   },
   "outputs": [],
   "source": [
    "print('''Primera línea de la cadena\n",
    "Segunda línea de la cadena\n",
    "''') "
   ]
  },
  {
   "cell_type": "markdown",
   "id": "4437d58c",
   "metadata": {
    "slideshow": {
     "slide_type": "slide"
    }
   },
   "source": [
    "## Concatenación de cadenas o String"
   ]
  },
  {
   "cell_type": "markdown",
   "id": "e57b514d",
   "metadata": {
    "slideshow": {
     "slide_type": "slide"
    }
   },
   "source": [
    "Las cadenas pueden concatenarse (pegarse) con el operador `+` y repetirse con `*`:"
   ]
  },
  {
   "cell_type": "code",
   "execution_count": null,
   "id": "7dcc03a6",
   "metadata": {
    "slideshow": {
     "slide_type": "slide"
    }
   },
   "outputs": [],
   "source": [
    "\n",
    "3 * 'python'\n"
   ]
  },
  {
   "cell_type": "code",
   "execution_count": null,
   "id": "66df73b1",
   "metadata": {
    "slideshow": {
     "slide_type": "slide"
    }
   },
   "outputs": [],
   "source": [
    "'py'+'thon'"
   ]
  },
  {
   "cell_type": "markdown",
   "id": "c00eaf6a",
   "metadata": {
    "slideshow": {
     "slide_type": "slide"
    }
   },
   "source": [
    "Dos o más literales de cadena (es decir, los que están entre comillas) uno al lado del otro se concatenan automáticamente."
   ]
  },
  {
   "cell_type": "code",
   "execution_count": null,
   "id": "d5b0bab7",
   "metadata": {
    "slideshow": {
     "slide_type": "slide"
    }
   },
   "outputs": [],
   "source": [
    "'Py''thon''Marco'\n"
   ]
  },
  {
   "cell_type": "markdown",
   "id": "a72794b3",
   "metadata": {
    "slideshow": {
     "slide_type": "slide"
    }
   },
   "source": [
    "Sin embargo, esto solo funciona con dos literales, no con variables o expresiones:"
   ]
  },
  {
   "cell_type": "code",
   "execution_count": null,
   "id": "fa03320b",
   "metadata": {
    "slideshow": {
     "slide_type": "slide"
    }
   },
   "outputs": [],
   "source": [
    "prefix = 'Py'"
   ]
  },
  {
   "cell_type": "code",
   "execution_count": null,
   "id": "ea8f0176",
   "metadata": {
    "slideshow": {
     "slide_type": "slide"
    }
   },
   "outputs": [],
   "source": [
    "prefix 'thon'  # can't concatenate a variable and a string literal"
   ]
  },
  {
   "cell_type": "markdown",
   "id": "9afe913b",
   "metadata": {
    "slideshow": {
     "slide_type": "slide"
    }
   },
   "source": [
    "Si desea concatenar variables o una variable y un literal, utilice `+` :"
   ]
  },
  {
   "cell_type": "code",
   "execution_count": null,
   "id": "85326497",
   "metadata": {
    "slideshow": {
     "slide_type": "slide"
    }
   },
   "outputs": [],
   "source": [
    "prefix + 'thon'"
   ]
  },
  {
   "cell_type": "markdown",
   "id": "e1509c96",
   "metadata": {
    "slideshow": {
     "slide_type": "slide"
    }
   },
   "source": [
    "## Indexación de cadenas"
   ]
  },
  {
   "cell_type": "markdown",
   "id": "5cc124ed",
   "metadata": {
    "slideshow": {
     "slide_type": "slide"
    }
   },
   "source": [
    "Las cadenas se pueden indexar (subíndices), con el primer carácter que tiene índice 0. "
   ]
  },
  {
   "cell_type": "markdown",
   "id": "9ac50c05",
   "metadata": {
    "slideshow": {
     "slide_type": "slide"
    }
   },
   "source": [
    "un carácter es simplemente una cadena de tamaño uno:"
   ]
  },
  {
   "cell_type": "code",
   "execution_count": null,
   "id": "28be1983",
   "metadata": {
    "slideshow": {
     "slide_type": "slide"
    }
   },
   "outputs": [],
   "source": [
    "palabra = 'Yasmira'"
   ]
  },
  {
   "cell_type": "code",
   "execution_count": null,
   "id": "f396e8d7",
   "metadata": {
    "slideshow": {
     "slide_type": "slide"
    }
   },
   "outputs": [],
   "source": [
    "len(palabra)"
   ]
  },
  {
   "cell_type": "code",
   "execution_count": null,
   "id": "80c06344",
   "metadata": {
    "slideshow": {
     "slide_type": "slide"
    }
   },
   "outputs": [],
   "source": [
    "type(palabra[0])   # character in position 0"
   ]
  },
  {
   "cell_type": "code",
   "execution_count": null,
   "id": "66a31299",
   "metadata": {
    "slideshow": {
     "slide_type": "slide"
    }
   },
   "outputs": [],
   "source": [
    "palabra[6]  # character in position 5\n"
   ]
  },
  {
   "cell_type": "markdown",
   "id": "77c485ad",
   "metadata": {
    "slideshow": {
     "slide_type": "slide"
    }
   },
   "source": [
    "Los índices también pueden ser números negativos, para empezar a contar desde la derecha:"
   ]
  },
  {
   "cell_type": "code",
   "execution_count": null,
   "id": "62e21e45",
   "metadata": {
    "slideshow": {
     "slide_type": "slide"
    }
   },
   "outputs": [],
   "source": [
    "palabra[-1]  # last character"
   ]
  },
  {
   "cell_type": "code",
   "execution_count": null,
   "id": "c180f1a8",
   "metadata": {
    "slideshow": {
     "slide_type": "slide"
    }
   },
   "outputs": [],
   "source": [
    "palabra[-2]  # second-last character. Recordar:  palabra = 'Yasmira'"
   ]
  },
  {
   "cell_type": "code",
   "execution_count": null,
   "id": "8d21c301",
   "metadata": {
    "slideshow": {
     "slide_type": "slide"
    }
   },
   "outputs": [],
   "source": [
    "palabra[-7]\n"
   ]
  },
  {
   "cell_type": "markdown",
   "id": "85305abe",
   "metadata": {
    "slideshow": {
     "slide_type": "slide"
    }
   },
   "source": [
    "Tenga en cuenta que dado que -0 es lo mismo que 0, los índices negativos comienzan desde -1."
   ]
  },
  {
   "cell_type": "markdown",
   "id": "e9d20226",
   "metadata": {
    "slideshow": {
     "slide_type": "slide"
    }
   },
   "source": [
    "# Slicing de cadenas "
   ]
  },
  {
   "cell_type": "markdown",
   "id": "8f340448",
   "metadata": {
    "slideshow": {
     "slide_type": "slide"
    }
   },
   "source": [
    "Además de la indexación, también se admite el corte. Mientras que la indexación se utiliza para obtener caracteres individuales, el corte le permite obtener subcadenas:"
   ]
  },
  {
   "cell_type": "code",
   "execution_count": null,
   "id": "83f73507",
   "metadata": {
    "slideshow": {
     "slide_type": "slide"
    }
   },
   "outputs": [],
   "source": [
    "palabra[0:5]  # characters from position 0 (included) to 2 (excluded)"
   ]
  },
  {
   "cell_type": "code",
   "execution_count": null,
   "id": "affd4f1d",
   "metadata": {
    "slideshow": {
     "slide_type": "slide"
    }
   },
   "outputs": [],
   "source": [
    "palabra[5:]  # characters from position 2 (included) to 5 (excluded)\n"
   ]
  },
  {
   "cell_type": "code",
   "execution_count": null,
   "id": "ef8c27a0",
   "metadata": {
    "slideshow": {
     "slide_type": "slide"
    }
   },
   "outputs": [],
   "source": [
    "palabra[0:5] + palabra[5:] # resaltemos la notación de dos punstos para el slacing de cadenas "
   ]
  },
  {
   "cell_type": "markdown",
   "id": "7abe4f19",
   "metadata": {
    "slideshow": {
     "slide_type": "slide"
    }
   },
   "source": [
    "Los índices de división tienen valores predeterminados útiles; un primer índice omitido se configura de forma predeterminada en cero, un segundo índice omitido tiene como valor predeterminado el tamaño de la cadena que se está segmentando."
   ]
  },
  {
   "cell_type": "code",
   "execution_count": null,
   "id": "7243cc82",
   "metadata": {
    "slideshow": {
     "slide_type": "slide"
    }
   },
   "outputs": [],
   "source": [
    "palabra[:2]   # character from the beginning to position 2 (excluded)"
   ]
  },
  {
   "cell_type": "code",
   "execution_count": null,
   "id": "2c9ce50c",
   "metadata": {
    "slideshow": {
     "slide_type": "slide"
    }
   },
   "outputs": [],
   "source": [
    "palabra[4:]   # characters from position 4 (included) to the end.       Yasmira"
   ]
  },
  {
   "cell_type": "code",
   "execution_count": null,
   "id": "0b686e73",
   "metadata": {
    "slideshow": {
     "slide_type": "slide"
    }
   },
   "outputs": [],
   "source": [
    "palabra[-2:]  # characters from the second-last (included) to the end\n"
   ]
  },
  {
   "cell_type": "markdown",
   "id": "50762b72",
   "metadata": {
    "slideshow": {
     "slide_type": "slide"
    }
   },
   "source": [
    "Observe cómo el inicio siempre se incluye y el final siempre se excluye. Esto asegura que siempre áse que   \n",
    "\n",
    "`s[:i] + s[i:] = s`. "
   ]
  },
  {
   "cell_type": "code",
   "execution_count": null,
   "id": "cb0b3e7f",
   "metadata": {
    "slideshow": {
     "slide_type": "slide"
    }
   },
   "outputs": [],
   "source": [
    "palabra[:2] + palabra[2:]"
   ]
  },
  {
   "cell_type": "code",
   "execution_count": null,
   "id": "5b0bcef0",
   "metadata": {
    "slideshow": {
     "slide_type": "slide"
    }
   },
   "outputs": [],
   "source": [
    "palabra[:4] + palabra[4:]\n"
   ]
  },
  {
   "cell_type": "markdown",
   "id": "b2853154",
   "metadata": {
    "slideshow": {
     "slide_type": "slide"
    }
   },
   "source": [
    "Una forma de recordar cómo funcionan los sectores es pensar que los índices apuntan entre caracteres, con el borde izquierdo del primer carácter numerado 0. Entonces el borde derecho del último carácter de una cadena de n caracteres tiene índice n,por ejemplo:\n",
    "\n",
    "<img src = 'https://github.com/marco-canas/introducci-n-al-Machine-Learning/blob/main/classes/class_1/indexacion_cadenas.png?raw=true'>"
   ]
  },
  {
   "cell_type": "code",
   "execution_count": null,
   "id": "0e8c9c14",
   "metadata": {
    "slideshow": {
     "slide_type": "slide"
    }
   },
   "outputs": [],
   "source": [
    "x = 'python'\n",
    "x[6]"
   ]
  },
  {
   "cell_type": "markdown",
   "id": "cc3834eb",
   "metadata": {
    "slideshow": {
     "slide_type": "slide"
    }
   },
   "source": [
    "La primera fila de números da la posición de los índices $0, \\ldots, 5 en la cadena;   "
   ]
  },
  {
   "cell_type": "markdown",
   "id": "c05206fe",
   "metadata": {
    "slideshow": {
     "slide_type": "slide"
    }
   },
   "source": [
    "la segunda fila muestra los índices negativos correspondientes. "
   ]
  },
  {
   "cell_type": "markdown",
   "id": "325cc0f3",
   "metadata": {
    "slideshow": {
     "slide_type": "slide"
    }
   },
   "source": [
    "El segmento de i a j consta de todos los caracteres entre las aristas etiquetadas i y j,respectivamente."
   ]
  },
  {
   "cell_type": "markdown",
   "id": "73dabdce",
   "metadata": {
    "slideshow": {
     "slide_type": "slide"
    }
   },
   "source": [
    "Para los índices no negativos, la longitud de un segmento es la diferencia de los índices, si ambos están dentro de los límites. Por ejemplo, la longitud de la palabra `[1:3]` es 2.\n",
    "\n",
    "Intentar utilizar un índice demasiado grande provocará un error:"
   ]
  },
  {
   "cell_type": "code",
   "execution_count": null,
   "id": "8e2ac770",
   "metadata": {
    "slideshow": {
     "slide_type": "slide"
    }
   },
   "outputs": [],
   "source": [
    "palabra[6]  # the word only has 6 characters\n"
   ]
  },
  {
   "cell_type": "markdown",
   "id": "85f9066f",
   "metadata": {
    "slideshow": {
     "slide_type": "slide"
    }
   },
   "source": [
    "Sin embargo, los índices de sectores fuera de rango se manejan correctamente cuando se usan para cortar (slicing):"
   ]
  },
  {
   "cell_type": "code",
   "execution_count": null,
   "id": "3ba7a2fe",
   "metadata": {
    "slideshow": {
     "slide_type": "slide"
    }
   },
   "outputs": [],
   "source": [
    "palabra[4:34] "
   ]
  },
  {
   "cell_type": "code",
   "execution_count": null,
   "id": "47bc2e79",
   "metadata": {
    "slideshow": {
     "slide_type": "slide"
    }
   },
   "outputs": [],
   "source": [
    "len(palabra[42:])\n"
   ]
  },
  {
   "cell_type": "markdown",
   "id": "af68cb5a",
   "metadata": {
    "slideshow": {
     "slide_type": "slide"
    }
   },
   "source": [
    "Las cadenas de Python no se pueden cambiar, son inmutables. Por lo tanto, la asignación a una posición indexada en la cadena da como resultado un error:"
   ]
  },
  {
   "cell_type": "code",
   "execution_count": null,
   "id": "439893d1",
   "metadata": {
    "slideshow": {
     "slide_type": "slide"
    }
   },
   "outputs": [],
   "source": [
    "palabra[0] = 'J'"
   ]
  },
  {
   "cell_type": "markdown",
   "id": "1b11d758",
   "metadata": {
    "slideshow": {
     "slide_type": "slide"
    }
   },
   "source": [
    "Si necesita una cadena diferente, debe crear una nueva:"
   ]
  },
  {
   "cell_type": "code",
   "execution_count": null,
   "id": "8449926f",
   "metadata": {
    "slideshow": {
     "slide_type": "slide"
    }
   },
   "outputs": [],
   "source": [
    "nueva_palabra = 'J' + palabra[1:]"
   ]
  },
  {
   "cell_type": "code",
   "execution_count": null,
   "id": "4f637253",
   "metadata": {
    "slideshow": {
     "slide_type": "slide"
    }
   },
   "outputs": [],
   "source": [
    "nueva_palabra "
   ]
  },
  {
   "cell_type": "code",
   "execution_count": null,
   "id": "deb378fb",
   "metadata": {
    "slideshow": {
     "slide_type": "slide"
    }
   },
   "outputs": [],
   "source": [
    "print(nueva_palabra) "
   ]
  },
  {
   "cell_type": "code",
   "execution_count": null,
   "id": "6d523244",
   "metadata": {
    "slideshow": {
     "slide_type": "slide"
    }
   },
   "outputs": [],
   "source": [
    "palabra "
   ]
  },
  {
   "cell_type": "markdown",
   "id": "2254215f",
   "metadata": {
    "slideshow": {
     "slide_type": "slide"
    }
   },
   "source": [
    "La función integrada `len()` devuelve la longitud de una cadena:"
   ]
  },
  {
   "cell_type": "code",
   "execution_count": null,
   "id": "5b558436",
   "metadata": {
    "slideshow": {
     "slide_type": "slide"
    }
   },
   "outputs": [],
   "source": [
    "s = 'Marco Julio Cañas Campillo'\n",
    "len(s)"
   ]
  },
  {
   "cell_type": "markdown",
   "id": "7662f053",
   "metadata": {
    "slideshow": {
     "slide_type": "slide"
    }
   },
   "source": [
    "## Ver también"
   ]
  },
  {
   "cell_type": "markdown",
   "id": "cb821145",
   "metadata": {
    "slideshow": {
     "slide_type": "slide"
    }
   },
   "source": [
    "### [Tipo de secuencia de texto — str](https://docs.python.org/3/library/stdtypes.html#textseq) \n",
    "\n",
    "Las cadenas son ejemplos de tipos de secuencia y admiten las operaciones comunes admitidas por dichos tipos."
   ]
  },
  {
   "cell_type": "markdown",
   "id": "8a3032e5",
   "metadata": {
    "slideshow": {
     "slide_type": "slide"
    }
   },
   "source": [
    "### [String Métodos](https://docs.python.org/3/library/stdtypes.html#string-methods)\n",
    "Las cadenas admiten un gran número de métodos para transformaciones básicas y búsquedas."
   ]
  },
  {
   "cell_type": "markdown",
   "id": "6f122631",
   "metadata": {
    "slideshow": {
     "slide_type": "slide"
    }
   },
   "source": [
    "### [Literales de cadena con formato](https://docs.python.org/3/reference/lexical_analysis.html#f-strings)\n",
    "\n",
    "Literales de cadena que tienen expresiones incrustadas."
   ]
  },
  {
   "cell_type": "markdown",
   "id": "e1b5bd21",
   "metadata": {
    "slideshow": {
     "slide_type": "slide"
    }
   },
   "source": [
    "### [Sintaxis de cadena de formato](https://docs.python.org/3/library/string.html#formatstrings)\n",
    "Información sobre el formato de cadena con `str.format()`."
   ]
  },
  {
   "cell_type": "markdown",
   "id": "ba0f854a",
   "metadata": {
    "slideshow": {
     "slide_type": "slide"
    }
   },
   "source": [
    "### [Formato de cadena de estilo printf](https://docs.python.org/3/library/stdtypes.html#old-string-formatting)  \n",
    "\n",
    "Las operaciones de formato descritas aquí muestran una variedad de peculiaridades que conducen a una serie de errores comunes (como no mostrar correctamente las tuplas y los diccionarios). El uso de los nuevos literales de cadena con formato,la interfaz str.format() o las cadenas de plantilla pueden ayudar a evitar estos errores. Cada una de estas alternativas proporciona sus propias compensaciones y beneficios de simplicidad, flexibilidad y / o extensibilidad."
   ]
  },
  {
   "cell_type": "markdown",
   "id": "2e0f9da0",
   "metadata": {
    "slideshow": {
     "slide_type": "slide"
    }
   },
   "source": [
    "## [3.1.3. Listas](https://docs.python.org/3/tutorial/introduction.html)"
   ]
  },
  {
   "cell_type": "markdown",
   "id": "21ce3067",
   "metadata": {
    "slideshow": {
     "slide_type": "slide"
    }
   },
   "source": [
    "Python conoce una serie de tipos de datos compuestos, utilizados para agrupar otros valores. "
   ]
  },
  {
   "cell_type": "markdown",
   "id": "dbb4a328",
   "metadata": {
    "slideshow": {
     "slide_type": "slide"
    }
   },
   "source": [
    "La más versátil es `list`, que se puede escribir como una lista de valores separados por comas (elementos) entre corchetes. "
   ]
  },
  {
   "cell_type": "markdown",
   "id": "098bc8aa",
   "metadata": {
    "slideshow": {
     "slide_type": "slide"
    }
   },
   "source": [
    "Las listas pueden contener elementos de diferentes tipos, pero normalmente todos los elementos tienen el mismo tipo."
   ]
  },
  {
   "cell_type": "markdown",
   "id": "5f2abbfc",
   "metadata": {
    "slideshow": {
     "slide_type": "slide"
    }
   },
   "source": [
    "## Referencias  \n",
    "\n",
    "* el cuaderno de Geron sobre Matplotlib: https://github.com/ageron/handson-ml2/blob/master/tools_matplotlib.ipynb\n",
    "\n"
   ]
  },
  {
   "cell_type": "code",
   "execution_count": null,
   "id": "71ce56e4",
   "metadata": {},
   "outputs": [],
   "source": []
  }
 ],
 "metadata": {
  "celltoolbar": "Slideshow",
  "kernelspec": {
   "display_name": "Python 3 (ipykernel)",
   "language": "python",
   "name": "python3"
  },
  "language_info": {
   "codemirror_mode": {
    "name": "ipython",
    "version": 3
   },
   "file_extension": ".py",
   "mimetype": "text/x-python",
   "name": "python",
   "nbconvert_exporter": "python",
   "pygments_lexer": "ipython3",
   "version": "3.9.7"
  },
  "latex_envs": {
   "LaTeX_envs_menu_present": true,
   "autoclose": false,
   "autocomplete": false,
   "bibliofile": "biblio.bib",
   "cite_by": "apalike",
   "current_citInitial": 1,
   "eqLabelWithNumbers": true,
   "eqNumInitial": 1,
   "hotkeys": {
    "equation": "Ctrl-E",
    "itemize": "Ctrl-I"
   },
   "labels_anchors": false,
   "latex_user_defs": false,
   "report_style_numbering": false,
   "user_envs_cfg": false
  },
  "rise": {
   "enable_chalkboard": true,
   "theme": "sky",
   "transition": "sky"
  }
 },
 "nbformat": 4,
 "nbformat_minor": 5
}
