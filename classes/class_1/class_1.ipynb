{
 "cells": [
  {
   "cell_type": "markdown",
   "id": "93eaa0c7",
   "metadata": {
    "slideshow": {
     "slide_type": "slide"
    }
   },
   "source": [
    "<table align=\"left\">\n",
    "  <td>\n",
    "    <a href=\"https://colab.research.google.com/github/marco-canas/introducci-n-al-Machine-Learning/blob/main/classes/class_1/class_1.ipynb\" target=\"_parent\"><img src=\"https://colab.research.google.com/assets/colab-badge.svg\" alt=\"Open In Colab\"/></a>\n",
    "  </td>\n",
    "  <td>\n",
    "    <a target=\"_blank\" href=\"https://kaggle.com/kernels/welcome?src=https://github.com/marco-canas/introducci-n-al-Machine-Learning/blob/main/classes/class_1/class_1.ipynb\"><img src=\"https://kaggle.com/static/images/open-in-kaggle.svg\" /></a>\n",
    "  </td>\n",
    "</table>\n"
   ]
  },
  {
   "cell_type": "markdown",
   "id": "e32d6811",
   "metadata": {
    "slideshow": {
     "slide_type": "slide"
    }
   },
   "source": [
    "# Class 1"
   ]
  },
  {
   "cell_type": "markdown",
   "id": "ed551aa6",
   "metadata": {
    "slideshow": {
     "slide_type": "slide"
    }
   },
   "source": [
    "## [Primer video de apoyo a la lectura](https://www.youtube.com/watch?v=iLiCS1gKKY4) "
   ]
  },
  {
   "cell_type": "markdown",
   "id": "f110196c",
   "metadata": {
    "slideshow": {
     "slide_type": "slide"
    }
   },
   "source": [
    "## Objetivos:\n",
    "\n",
    "Introducción a la programación con Python:\n",
    "\n",
    "Se hace reconocimiento de lógica de programación y sintaxis de Python, desde los inicios en tipos de datos y estructuras de control, hasta funciones y métodos sobre clases.\n"
   ]
  },
  {
   "cell_type": "markdown",
   "id": "0a346116",
   "metadata": {
    "slideshow": {
     "slide_type": "slide"
    }
   },
   "source": [
    "### [learnpython.org ](https://learnpython.org/)\n",
    "y la [Documentación oficial de Python](https://docs.python.org/3/tutorial/index.html)"
   ]
  },
  {
   "cell_type": "markdown",
   "id": "000b35ac",
   "metadata": {
    "slideshow": {
     "slide_type": "slide"
    }
   },
   "source": [
    "Aprende los conceptos básicos:\n",
    "* ¡Hola mundo!\n",
    "* Variables y tipos\n",
    "* Listas\n",
    "* Operadores básicos\n",
    "* Formato de cadena\n",
    "* Operaciones básicas de cadena\n",
    "* Condiciones\n",
    "* Bucles\n",
    "* Funciones\n",
    "* Clases y objetos\n",
    "* Diccionarios\n",
    "* Módulos y paquetes"
   ]
  },
  {
   "cell_type": "markdown",
   "id": "99f84c99",
   "metadata": {
    "slideshow": {
     "slide_type": "slide"
    }
   },
   "source": [
    "Tutoriales de ciencia de datos\n",
    "* Matrices Numpy\n",
    "* Conceptos básicos de Pandas"
   ]
  },
  {
   "cell_type": "markdown",
   "id": "a4db00e6",
   "metadata": {
    "slideshow": {
     "slide_type": "slide"
    }
   },
   "source": [
    "## Hola mundo "
   ]
  },
  {
   "cell_type": "markdown",
   "id": "fe0091a1",
   "metadata": {
    "slideshow": {
     "slide_type": "slide"
    }
   },
   "source": [
    "Las funciones en Python se invocan con paréntesis, por ejemplo:"
   ]
  },
  {
   "cell_type": "code",
   "execution_count": 3,
   "id": "75d91d76",
   "metadata": {
    "slideshow": {
     "slide_type": "slide"
    }
   },
   "outputs": [
    {
     "name": "stdout",
     "output_type": "stream",
     "text": [
      "¡Hola Mundo!\n"
     ]
    }
   ],
   "source": [
    "print('¡Hola Mundo!') "
   ]
  },
  {
   "cell_type": "markdown",
   "id": "5fbcfb3e",
   "metadata": {
    "slideshow": {
     "slide_type": "slide"
    }
   },
   "source": [
    "## Sangría\n",
    "\n",
    "Python usa sangría para bloques de código, en lugar de llaves. Se admiten también los espacios, pero la sangría estándar requiere que el código Python estándar use cuatro espacios. Por ejemplo:"
   ]
  },
  {
   "cell_type": "code",
   "execution_count": 5,
   "id": "f871240f",
   "metadata": {
    "slideshow": {
     "slide_type": "slide"
    }
   },
   "outputs": [],
   "source": [
    "x = 2\n",
    "if x==1:\n",
    "    print('x es uno')"
   ]
  },
  {
   "cell_type": "markdown",
   "id": "d96214c3",
   "metadata": {
    "slideshow": {
     "slide_type": "slide"
    }
   },
   "source": [
    "### Ejercicio\n",
    "\n",
    "Utilice la función `print()` para darle un saludo a tus compañeros de clase: \n"
   ]
  },
  {
   "cell_type": "code",
   "execution_count": 6,
   "id": "0ce62cfd",
   "metadata": {
    "slideshow": {
     "slide_type": "slide"
    }
   },
   "outputs": [
    {
     "name": "stdout",
     "output_type": "stream",
     "text": [
      "Buenas noches compañeros de clase, Mi nombre es Marco\n"
     ]
    }
   ],
   "source": [
    "print('Buenas noches compañeros de clase, Mi nombre es Marco')"
   ]
  },
  {
   "cell_type": "markdown",
   "id": "bbbbee24",
   "metadata": {
    "slideshow": {
     "slide_type": "slide"
    }
   },
   "source": [
    "## Variables y tipos"
   ]
  },
  {
   "cell_type": "markdown",
   "id": "67aa3202",
   "metadata": {
    "slideshow": {
     "slide_type": "slide"
    }
   },
   "source": [
    "## [Segundo video de apoyo]() "
   ]
  },
  {
   "cell_type": "markdown",
   "id": "3c7485df",
   "metadata": {
    "slideshow": {
     "slide_type": "slide"
    }
   },
   "source": [
    "Python está completamente orientado a objetos. No es necesario declarar variables antes de utilizarlas ni declarar su tipo. Cada variable en Python es un objeto.\n",
    "\n",
    "Veamos algunos tipos básicos de variables."
   ]
  },
  {
   "cell_type": "markdown",
   "id": "fa03d05a",
   "metadata": {
    "slideshow": {
     "slide_type": "slide"
    }
   },
   "source": [
    "### Números"
   ]
  },
  {
   "cell_type": "markdown",
   "id": "5bb9bf54",
   "metadata": {
    "slideshow": {
     "slide_type": "slide"
    }
   },
   "source": [
    "Python admite dos tipos de números: \n",
    "* De tipo `int` (números enteros) y \n",
    "* números de coma flotante (decimales). \n",
    "* (También admite números complejos).\n",
    "\n",
    "Para definir un entero, utilice la sintaxis siguiente:"
   ]
  },
  {
   "cell_type": "code",
   "execution_count": null,
   "id": "f496601e",
   "metadata": {
    "slideshow": {
     "slide_type": "slide"
    }
   },
   "outputs": [],
   "source": [
    "entero=7\n",
    "print(entero)"
   ]
  },
  {
   "cell_type": "code",
   "execution_count": null,
   "id": "9f40c105",
   "metadata": {
    "slideshow": {
     "slide_type": "slide"
    }
   },
   "outputs": [],
   "source": [
    "type(entero)"
   ]
  },
  {
   "cell_type": "markdown",
   "id": "365f62f9",
   "metadata": {
    "slideshow": {
     "slide_type": "slide"
    }
   },
   "source": [
    "Para definir un número de coma flotante, puede utilizar una de las siguientes notaciones:"
   ]
  },
  {
   "cell_type": "code",
   "execution_count": null,
   "id": "344e2b7e",
   "metadata": {
    "slideshow": {
     "slide_type": "slide"
    }
   },
   "outputs": [],
   "source": [
    "my_float = 7.0\n",
    "print(my_float)"
   ]
  },
  {
   "cell_type": "code",
   "execution_count": null,
   "id": "375174a6",
   "metadata": {
    "slideshow": {
     "slide_type": "slide"
    }
   },
   "outputs": [],
   "source": [
    "type(7)"
   ]
  },
  {
   "cell_type": "code",
   "execution_count": null,
   "id": "ff265ae0",
   "metadata": {
    "slideshow": {
     "slide_type": "slide"
    }
   },
   "outputs": [],
   "source": [
    "f = float(7)"
   ]
  },
  {
   "cell_type": "code",
   "execution_count": null,
   "id": "b3ec6e04",
   "metadata": {
    "slideshow": {
     "slide_type": "slide"
    }
   },
   "outputs": [],
   "source": [
    "type(f)"
   ]
  },
  {
   "cell_type": "markdown",
   "id": "29354a39",
   "metadata": {
    "slideshow": {
     "slide_type": "slide"
    }
   },
   "source": [
    "## Strings"
   ]
  },
  {
   "cell_type": "markdown",
   "id": "a11826a5",
   "metadata": {
    "slideshow": {
     "slide_type": "slide"
    }
   },
   "source": [
    "Strings are defined either with a single quote or a double quotes."
   ]
  },
  {
   "cell_type": "code",
   "execution_count": null,
   "id": "3e42b7df",
   "metadata": {
    "slideshow": {
     "slide_type": "slide"
    }
   },
   "outputs": [],
   "source": [
    "mystring = 'hello'\n",
    "print(mystring)\n",
    "mystring = \"hello\"\n",
    "print(mystring)"
   ]
  },
  {
   "cell_type": "markdown",
   "id": "6a2cd79e",
   "metadata": {
    "slideshow": {
     "slide_type": "slide"
    }
   },
   "source": [
    "La diferencia entre los dos es que el uso de comillas dobles facilita la inclusión de apóstrofos (mientras que estos terminarían la cadena si se usan comillas simples)"
   ]
  },
  {
   "cell_type": "code",
   "execution_count": null,
   "id": "1840a442",
   "metadata": {
    "slideshow": {
     "slide_type": "slide"
    }
   },
   "outputs": [],
   "source": [
    "mystring = \"Don't worry about aportrophes\"\n",
    "print(mystring)"
   ]
  },
  {
   "cell_type": "markdown",
   "id": "b78bc3d7",
   "metadata": {
    "slideshow": {
     "slide_type": "slide"
    }
   },
   "source": [
    "Hay variaciones adicionales en la definición de cadenas que facilitan la inclusión de elementos como retornos de carro, barra diagonal inversa y caracteres Unicode. Estos están más allá del alcance de este tutorial, pero se tratan en la [documentación de Python](https://docs.python.org/3/tutorial/introduction.html#strings) sobre `string`.\n",
    "\n",
    "Los operadores simples se pueden ejecutar en números y cadenas:"
   ]
  },
  {
   "cell_type": "code",
   "execution_count": null,
   "id": "aa4eb5a7",
   "metadata": {
    "slideshow": {
     "slide_type": "slide"
    }
   },
   "outputs": [],
   "source": [
    "a = 1 \n",
    "b = 2\n",
    "c = a+b\n",
    "c "
   ]
  },
  {
   "cell_type": "code",
   "execution_count": null,
   "id": "b09734b3",
   "metadata": {
    "slideshow": {
     "slide_type": "slide"
    }
   },
   "outputs": [],
   "source": [
    "a = 'uno'\n",
    "b = 'dos'\n",
    "c = a + ' más ' + b\n",
    "c "
   ]
  },
  {
   "cell_type": "code",
   "execution_count": null,
   "id": "60d22eaa",
   "metadata": {
    "slideshow": {
     "slide_type": "slide"
    }
   },
   "outputs": [],
   "source": [
    "'spam eggs'  # single quotes"
   ]
  },
  {
   "cell_type": "code",
   "execution_count": null,
   "id": "5907c927",
   "metadata": {
    "slideshow": {
     "slide_type": "slide"
    }
   },
   "outputs": [],
   "source": [
    "'doesn\\'t'  # use \\' to escape the single quote..."
   ]
  },
  {
   "cell_type": "code",
   "execution_count": null,
   "id": "852cb3fe",
   "metadata": {
    "slideshow": {
     "slide_type": "slide"
    }
   },
   "outputs": [],
   "source": [
    "\"doesn't\"  # ...or use double quotes instead"
   ]
  },
  {
   "cell_type": "code",
   "execution_count": null,
   "id": "596852fd",
   "metadata": {
    "slideshow": {
     "slide_type": "slide"
    }
   },
   "outputs": [],
   "source": [
    "'\"Yes,\" they said.'"
   ]
  },
  {
   "cell_type": "code",
   "execution_count": null,
   "id": "776ed979",
   "metadata": {
    "slideshow": {
     "slide_type": "slide"
    }
   },
   "outputs": [],
   "source": [
    "\"\\\"Yes,\\\" they said.\""
   ]
  },
  {
   "cell_type": "code",
   "execution_count": null,
   "id": "00d2f168",
   "metadata": {
    "slideshow": {
     "slide_type": "slide"
    }
   },
   "outputs": [],
   "source": [
    "'\"Isn\\'t,\" they said.'\n"
   ]
  },
  {
   "cell_type": "markdown",
   "id": "a1b3bc9f",
   "metadata": {
    "slideshow": {
     "slide_type": "slide"
    }
   },
   "source": [
    "Las asignaciones se pueden realizar en más de una variable \"simultáneamente\" en la misma línea como esta"
   ]
  },
  {
   "cell_type": "code",
   "execution_count": null,
   "id": "e97a196e",
   "metadata": {
    "slideshow": {
     "slide_type": "slide"
    }
   },
   "outputs": [],
   "source": [
    "a, b = 3, 4\n",
    "print(a, b)"
   ]
  },
  {
   "cell_type": "markdown",
   "id": "514f205b",
   "metadata": {
    "slideshow": {
     "slide_type": "slide"
    }
   },
   "source": [
    "No se admite la mezcla de operadores entre números y cadenas:"
   ]
  },
  {
   "cell_type": "code",
   "execution_count": null,
   "id": "6c3212ae",
   "metadata": {
    "slideshow": {
     "slide_type": "slide"
    }
   },
   "outputs": [],
   "source": [
    "# This will not work!\n",
    "one = 1\n",
    "two = 2\n",
    "hello = \"hello\"\n",
    "\n",
    "print(one + two + hello)"
   ]
  },
  {
   "cell_type": "markdown",
   "id": "1a677a5e",
   "metadata": {
    "slideshow": {
     "slide_type": "slide"
    }
   },
   "source": [
    "## Ejercicio"
   ]
  },
  {
   "cell_type": "markdown",
   "id": "b0211100",
   "metadata": {
    "slideshow": {
     "slide_type": "slide"
    }
   },
   "source": [
    "El objetivo de este ejercicio es crear una cadena, un entero y un número de coma flotante. La cadena debe tener nombre y debe contener la palabra \"hola\". El número de coma flotante debe tener un nombre y debe contener el número 10.0, y el entero debe tener el nombre y el número 20.mystringmyfloatmyint"
   ]
  },
  {
   "cell_type": "code",
   "execution_count": null,
   "id": "109e7e10",
   "metadata": {
    "slideshow": {
     "slide_type": "slide"
    }
   },
   "outputs": [],
   "source": [
    "# change this code\n",
    "mystring = 'Hola' \n",
    "myfloat = None\n",
    "myint = None\n",
    "\n",
    "# testing code\n",
    "if mystring == \"Hola\":\n",
    "    print(\"String: %s\" % mystring)\n",
    "if isinstance(myfloat, float) and myfloat == 10.0:\n",
    "    print(\"Float: %f\" % myfloat)\n",
    "if isinstance(myint,int) and myint == 20:\n",
    "    print(\"Integer: %d\" % myint)"
   ]
  },
  {
   "cell_type": "code",
   "execution_count": null,
   "id": "31e55e0e",
   "metadata": {
    "slideshow": {
     "slide_type": "slide"
    }
   },
   "outputs": [],
   "source": []
  },
  {
   "cell_type": "markdown",
   "id": "0430a010",
   "metadata": {
    "slideshow": {
     "slide_type": "slide"
    }
   },
   "source": [
    "## Matemáticas necesarias para análisis de datos:  \n",
    "\n",
    "Estudiamos el lenguaje matricial necesario para entender teoremas de descomposición vitales en procesos de aproximación. Se hace énfasis en método de mínimos cuadrados para luego generalizar y aplicar en problemas de ajuste de datos, clasificación, multi- objetivo y optimización lineal dotada de constricciones"
   ]
  },
  {
   "cell_type": "markdown",
   "id": "832dae9d",
   "metadata": {
    "slideshow": {
     "slide_type": "slide"
    }
   },
   "source": [
    "## El problema del Aprendizaje Supervisado:  "
   ]
  },
  {
   "cell_type": "markdown",
   "id": "64c35262",
   "metadata": {
    "slideshow": {
     "slide_type": "slide"
    }
   },
   "source": [
    "Aquí se introduce la notación y se procura dar una justificación de cada una de las componentes clásicas del modelo de aprendizaje supervisado tales como función objetivo, conjunto de entrenamiento, algoritmo de aprendizaje, clases de hipótesis, medida del error y predictor. El énfasis estará en reconocer que es posible hablar de aprendizaje de datos, pero en un sentido probabilístico.   "
   ]
  },
  {
   "cell_type": "markdown",
   "id": "60d66438",
   "metadata": {
    "slideshow": {
     "slide_type": "slide"
    }
   },
   "source": [
    "## Entrenamiento y testeo:  "
   ]
  },
  {
   "cell_type": "markdown",
   "id": "081bab16",
   "metadata": {
    "slideshow": {
     "slide_type": "slide"
    }
   },
   "source": [
    "Se propone estudiar la difícil relación de equilibrio que se debe tener entre aproximación y generalización. El énfasis estará en reconocer el papel fundamental de las clases de hipótesis y la tarea delicada de conseguir buenos procesos de aproximación sin perder habilidad de generalización. "
   ]
  },
  {
   "cell_type": "markdown",
   "id": "502e63ac",
   "metadata": {
    "slideshow": {
     "slide_type": "slide"
    }
   },
   "source": [
    "## El modelo lineal:"
   ]
  },
  {
   "cell_type": "markdown",
   "id": "497d75f7",
   "metadata": {
    "slideshow": {
     "slide_type": "slide"
    }
   },
   "source": [
    "Se estudian \n",
    "\n",
    "* la clasificación lineal, \n",
    "* la regresión lineal \n",
    "* regresión logística. \n",
    "\n",
    "Además, se introducen **algoritmos eficientes de apredizaje** tales como\n",
    "gradiente descendente y perceptrón de bolsillo. "
   ]
  },
  {
   "cell_type": "markdown",
   "id": "d6d492d9",
   "metadata": {
    "slideshow": {
     "slide_type": "slide"
    }
   },
   "source": [
    "## Sobreentrenamiento:"
   ]
  },
  {
   "cell_type": "markdown",
   "id": "ba8e018f",
   "metadata": {
    "slideshow": {
     "slide_type": "slide"
    }
   },
   "source": [
    "Se reconocen escenarios no intuitivos de sobreajuste de datos y se propone la regularización como estrategia para evitar este problema. Además se propone la validación como herramienta para la selección de modelos. "
   ]
  },
  {
   "cell_type": "code",
   "execution_count": null,
   "id": "8fc1352e",
   "metadata": {
    "slideshow": {
     "slide_type": "slide"
    }
   },
   "outputs": [],
   "source": []
  },
  {
   "cell_type": "markdown",
   "id": "d1d2d875",
   "metadata": {
    "slideshow": {
     "slide_type": "slide"
    }
   },
   "source": [
    "## Funciones de Python asociadas a este cuaderno"
   ]
  },
  {
   "cell_type": "markdown",
   "id": "f64d16e6",
   "metadata": {
    "slideshow": {
     "slide_type": "slide"
    }
   },
   "source": [
    "* `type()` "
   ]
  },
  {
   "cell_type": "markdown",
   "id": "9ac8fb8d",
   "metadata": {
    "slideshow": {
     "slide_type": "slide"
    }
   },
   "source": [
    "## Referentes \n",
    "\n",
    "* Geron, Aurelien. Hand on Machine Learning with Scikit-Learn, Keras and TensorFlow: Concepts, tools, and techniques to build intelligent systems. \n",
    "\n",
    "* La documentación oficial de Python: https://docs.python.org/3/tutorial/index.html "
   ]
  },
  {
   "cell_type": "markdown",
   "id": "bb9ff66d",
   "metadata": {
    "slideshow": {
     "slide_type": "slide"
    }
   },
   "source": []
  },
  {
   "cell_type": "markdown",
   "id": "340bab26",
   "metadata": {
    "slideshow": {
     "slide_type": "slide"
    }
   },
   "source": [
    "# [Una introducción informal a Python](https://docs.python.org/3/tutorial/introduction.html) "
   ]
  },
  {
   "cell_type": "markdown",
   "id": "ea8849d2",
   "metadata": {
    "slideshow": {
     "slide_type": "slide"
    }
   },
   "source": [
    "Puede alternar la visualización de las indicaciones y la salida haciendo clic en la esquina superior derecha de un cuadro de ejemplo. Si oculta las indicaciones y la salida para un ejemplo, puede copiar y pegar fácilmente las líneas de entrada en su intérprete.>>>"
   ]
  },
  {
   "cell_type": "markdown",
   "id": "43b173b6",
   "metadata": {
    "slideshow": {
     "slide_type": "slide"
    }
   },
   "source": [
    "Muchos de los ejemplos de este manual, incluso los que se introducen en el símbolo interactivo, incluyen comentarios. Los comentarios en Python comienzan con el carácter hash y se extienden hasta el final de la línea física. Un comentario puede aparecer al principio de una línea o siguiendo el espacio en blanco o el código, pero no dentro de un literal de cadena. Un carácter hash dentro de un literal de cadena es solo un carácter hash. Dado que los comentarios son para aclarar el código y no son interpretados por Python, pueden omitirse al escribir ejemplos.#"
   ]
  },
  {
   "cell_type": "markdown",
   "id": "6bdd22a9",
   "metadata": {
    "slideshow": {
     "slide_type": "slide"
    }
   },
   "source": [
    "Algunos ejemplos:"
   ]
  },
  {
   "cell_type": "code",
   "execution_count": 9,
   "id": "7ecb29ad",
   "metadata": {
    "slideshow": {
     "slide_type": "slide"
    }
   },
   "outputs": [],
   "source": [
    "# this is the first comment\n",
    "spam = 1  # and this is the second comment\n",
    "          # ... and now a third!\n",
    "text = \"# This is not a comment because it's inside quotes.\""
   ]
  },
  {
   "cell_type": "markdown",
   "id": "a878f5ae",
   "metadata": {
    "slideshow": {
     "slide_type": "slide"
    }
   },
   "source": [
    "## 3.1. Uso de Python como calculadora"
   ]
  },
  {
   "cell_type": "markdown",
   "id": "5f83bd2f",
   "metadata": {
    "slideshow": {
     "slide_type": "slide"
    }
   },
   "source": [
    "Probemos algunos comandos simples de Python. Inicie el intérprete y espere el mensaje principal, . (No debería tomar mucho tiempo).>>>"
   ]
  },
  {
   "cell_type": "markdown",
   "id": "c3cf622a",
   "metadata": {
    "slideshow": {
     "slide_type": "slide"
    }
   },
   "source": [
    "### 3.1.1. Números"
   ]
  },
  {
   "cell_type": "markdown",
   "id": "a4dc68b0",
   "metadata": {
    "slideshow": {
     "slide_type": "slide"
    }
   },
   "source": [
    "El intérprete actúa como una simple calculadora: puede escribir una expresión en ella y escribirá el valor. La sintaxis de la expresión es sencilla: los operadores +,*,/,-,() , y funcionan como en la mayoría de los otros lenguajes (por ejemplo, Pascal o C); los paréntesis () se pueden utilizar para agrupar. Por ejemplo:"
   ]
  },
  {
   "cell_type": "code",
   "execution_count": 10,
   "id": "7fe23b8e",
   "metadata": {
    "slideshow": {
     "slide_type": "slide"
    }
   },
   "outputs": [
    {
     "data": {
      "text/plain": [
       "4"
      ]
     },
     "execution_count": 10,
     "metadata": {},
     "output_type": "execute_result"
    }
   ],
   "source": [
    "2 + 2"
   ]
  },
  {
   "cell_type": "code",
   "execution_count": 11,
   "id": "b3cb54ff",
   "metadata": {
    "slideshow": {
     "slide_type": "slide"
    }
   },
   "outputs": [
    {
     "data": {
      "text/plain": [
       "20"
      ]
     },
     "execution_count": 11,
     "metadata": {},
     "output_type": "execute_result"
    }
   ],
   "source": [
    "50 - 5*6"
   ]
  },
  {
   "cell_type": "code",
   "execution_count": 12,
   "id": "ab77f080",
   "metadata": {
    "slideshow": {
     "slide_type": "slide"
    }
   },
   "outputs": [
    {
     "data": {
      "text/plain": [
       "5.0"
      ]
     },
     "execution_count": 12,
     "metadata": {},
     "output_type": "execute_result"
    }
   ],
   "source": [
    "(50 - 5*6) / 4"
   ]
  },
  {
   "cell_type": "code",
   "execution_count": 13,
   "id": "0b368954",
   "metadata": {
    "slideshow": {
     "slide_type": "slide"
    }
   },
   "outputs": [
    {
     "data": {
      "text/plain": [
       "1.6"
      ]
     },
     "execution_count": 13,
     "metadata": {},
     "output_type": "execute_result"
    }
   ],
   "source": [
    "8/5  # division always returns a floating point number\n"
   ]
  },
  {
   "cell_type": "markdown",
   "id": "71f59c76",
   "metadata": {
    "slideshow": {
     "slide_type": "slide"
    }
   },
   "source": [
    "Los números enteros (por ejemplo, 13, 5 , 17) tienen tipo `int`, los que tienen una parte fraccionaria (por ejemplo,5.13, 1.14 ) tienen tipo `float`."
   ]
  },
  {
   "cell_type": "markdown",
   "id": "a432f61e",
   "metadata": {
    "slideshow": {
     "slide_type": "slide"
    }
   },
   "source": [
    "La división (/) siempre devuelve un objeto tipo `float`. Para hacer la división de usual y obtener un resultado entero (descartando cualquier resultado fraccionario) se puede utilizar el operador `//`; para calcular el resto puede utilizar:`%`"
   ]
  },
  {
   "cell_type": "code",
   "execution_count": 14,
   "id": "15c0aa17",
   "metadata": {
    "slideshow": {
     "slide_type": "slide"
    }
   },
   "outputs": [
    {
     "data": {
      "text/plain": [
       "5.666666666666667"
      ]
     },
     "execution_count": 14,
     "metadata": {},
     "output_type": "execute_result"
    }
   ],
   "source": [
    "17/3  # classic division returns a float"
   ]
  },
  {
   "cell_type": "code",
   "execution_count": 15,
   "id": "62e7ac8d",
   "metadata": {
    "slideshow": {
     "slide_type": "slide"
    }
   },
   "outputs": [
    {
     "data": {
      "text/plain": [
       "5"
      ]
     },
     "execution_count": 15,
     "metadata": {},
     "output_type": "execute_result"
    }
   ],
   "source": [
    "17//3  # floor division discards the fractional part"
   ]
  },
  {
   "cell_type": "code",
   "execution_count": 16,
   "id": "facc80a9",
   "metadata": {
    "slideshow": {
     "slide_type": "slide"
    }
   },
   "outputs": [
    {
     "data": {
      "text/plain": [
       "2"
      ]
     },
     "execution_count": 16,
     "metadata": {},
     "output_type": "execute_result"
    }
   ],
   "source": [
    "17 % 3  # the % operator returns the remainder of the division"
   ]
  },
  {
   "cell_type": "code",
   "execution_count": 17,
   "id": "e5ecc9a6",
   "metadata": {
    "slideshow": {
     "slide_type": "slide"
    }
   },
   "outputs": [
    {
     "data": {
      "text/plain": [
       "17"
      ]
     },
     "execution_count": 17,
     "metadata": {},
     "output_type": "execute_result"
    }
   ],
   "source": [
    "5 * 3 + 2  # floored quotient * divisor + remainder\n",
    "17"
   ]
  },
  {
   "cell_type": "markdown",
   "id": "577b4351",
   "metadata": {
    "slideshow": {
     "slide_type": "slide"
    }
   },
   "source": [
    "Con Python, es posible usar el operador para calcular potencias:`**`"
   ]
  },
  {
   "cell_type": "code",
   "execution_count": 19,
   "id": "802ffd95",
   "metadata": {
    "slideshow": {
     "slide_type": "slide"
    }
   },
   "outputs": [
    {
     "data": {
      "text/plain": [
       "25"
      ]
     },
     "execution_count": 19,
     "metadata": {},
     "output_type": "execute_result"
    }
   ],
   "source": [
    "5**2  # 5 squared"
   ]
  },
  {
   "cell_type": "code",
   "execution_count": 18,
   "id": "122338a5",
   "metadata": {
    "slideshow": {
     "slide_type": "slide"
    }
   },
   "outputs": [
    {
     "data": {
      "text/plain": [
       "32"
      ]
     },
     "execution_count": 18,
     "metadata": {},
     "output_type": "execute_result"
    }
   ],
   "source": [
    "2**5  # 2 to the power of 5\n"
   ]
  },
  {
   "cell_type": "markdown",
   "id": "1963a52f",
   "metadata": {
    "slideshow": {
     "slide_type": "slide"
    }
   },
   "source": [
    "El signo igual (`=`) se utiliza para asignar un valor a una variable. Posteriormente, no se muestra ningún resultado antes del siguiente mensaje interactivo:"
   ]
  },
  {
   "cell_type": "code",
   "execution_count": 20,
   "id": "aa8ce15e",
   "metadata": {
    "slideshow": {
     "slide_type": "slide"
    }
   },
   "outputs": [
    {
     "data": {
      "text/plain": [
       "12"
      ]
     },
     "execution_count": 20,
     "metadata": {},
     "output_type": "execute_result"
    }
   ],
   "source": [
    "width = 3\n",
    "height = 4\n",
    "width * height"
   ]
  },
  {
   "cell_type": "markdown",
   "id": "0b623d8d",
   "metadata": {
    "slideshow": {
     "slide_type": "slide"
    }
   },
   "source": [
    "Si una variable no \"definida\" (es decir, no se le ha asignado un valor), al intentar usarla se le dará un error:"
   ]
  },
  {
   "cell_type": "code",
   "execution_count": 22,
   "id": "a6a491a2",
   "metadata": {
    "slideshow": {
     "slide_type": "slide"
    }
   },
   "outputs": [
    {
     "ename": "NameError",
     "evalue": "name 'n' is not defined",
     "output_type": "error",
     "traceback": [
      "\u001b[1;31m---------------------------------------------------------------------------\u001b[0m",
      "\u001b[1;31mNameError\u001b[0m                                 Traceback (most recent call last)",
      "\u001b[1;32m<ipython-input-22-e1b81972a63e>\u001b[0m in \u001b[0;36m<module>\u001b[1;34m\u001b[0m\n\u001b[1;32m----> 1\u001b[1;33m \u001b[0mn\u001b[0m                            \u001b[1;31m# try to access an undefined variable\u001b[0m\u001b[1;33m\u001b[0m\u001b[1;33m\u001b[0m\u001b[0m\n\u001b[0m",
      "\u001b[1;31mNameError\u001b[0m: name 'n' is not defined"
     ]
    }
   ],
   "source": [
    "n                            # try to access an undefined variable"
   ]
  },
  {
   "cell_type": "markdown",
   "id": "346bc1cc",
   "metadata": {
    "slideshow": {
     "slide_type": "slide"
    }
   },
   "source": [
    "los operadores con operandos de tipo mixto convierten el operando entero en coma flotante:"
   ]
  },
  {
   "cell_type": "code",
   "execution_count": 25,
   "id": "53dc2809",
   "metadata": {
    "slideshow": {
     "slide_type": "slide"
    }
   },
   "outputs": [
    {
     "data": {
      "text/plain": [
       "6.0"
      ]
     },
     "execution_count": 25,
     "metadata": {},
     "output_type": "execute_result"
    }
   ],
   "source": [
    "2*3.5-1\n"
   ]
  },
  {
   "cell_type": "markdown",
   "id": "b5dff89d",
   "metadata": {
    "slideshow": {
     "slide_type": "slide"
    }
   },
   "source": [
    "En el modo interactivo, la última expresión impresa se asigna a la variable `-`. Esto significa que cuando está utilizando Python como calculadora de escritorio, es algo más fácil continuar con los cálculos, por ejemplo:"
   ]
  },
  {
   "cell_type": "code",
   "execution_count": 29,
   "id": "78c6e3df",
   "metadata": {
    "slideshow": {
     "slide_type": "slide"
    }
   },
   "outputs": [
    {
     "data": {
      "text/plain": [
       "300.0"
      ]
     },
     "execution_count": 29,
     "metadata": {},
     "output_type": "execute_result"
    }
   ],
   "source": [
    ">>> tax = 12/4\n",
    ">>> price = 100\n",
    ">>> price * tax"
   ]
  },
  {
   "cell_type": "code",
   "execution_count": 30,
   "id": "aee5e444",
   "metadata": {
    "slideshow": {
     "slide_type": "slide"
    }
   },
   "outputs": [
    {
     "data": {
      "text/plain": [
       "400.0"
      ]
     },
     "execution_count": 30,
     "metadata": {},
     "output_type": "execute_result"
    }
   ],
   "source": [
    ">>> price + _"
   ]
  },
  {
   "cell_type": "code",
   "execution_count": 32,
   "id": "5fa4a468",
   "metadata": {
    "slideshow": {
     "slide_type": "slide"
    }
   },
   "outputs": [
    {
     "data": {
      "text/plain": [
       "400.0"
      ]
     },
     "execution_count": 32,
     "metadata": {},
     "output_type": "execute_result"
    }
   ],
   "source": [
    "round(_, 2)\n"
   ]
  },
  {
   "cell_type": "markdown",
   "id": "59fdad73",
   "metadata": {
    "slideshow": {
     "slide_type": "slide"
    }
   },
   "source": [
    "Esta variable debe ser tratada como de solo lectura por el usuario. No le asigne explícitamente un valor: crearía una variable local independiente con el mismo nombre que enmascarara la variable incorporada con su comportamiento mágico."
   ]
  },
  {
   "cell_type": "markdown",
   "id": "7b5d86f5",
   "metadata": {
    "slideshow": {
     "slide_type": "slide"
    }
   },
   "source": [
    "Además de `int` y `float`, Python admite otros tipos de números, como Decimal y Fraction. Python también tiene soporte incorporado para números complejos,y utiliza el sufijo o para indicar la parte imaginaria (por ejemplo, ).jJ3+5j"
   ]
  },
  {
   "cell_type": "markdown",
   "id": "db2097b1",
   "metadata": {
    "slideshow": {
     "slide_type": "slide"
    }
   },
   "source": [
    "## 3.1.2. Cadenas"
   ]
  },
  {
   "cell_type": "markdown",
   "id": "6fed7b9e",
   "metadata": {
    "slideshow": {
     "slide_type": "slide"
    }
   },
   "source": [
    "Además de los números, Python también puede manipular cadenas, que se pueden expresar de varias maneras. Se pueden encerrar entre comillas simples (`'...'`) o comillas dobles (`\"...\"`) con el mismo resultado. se puede utilizar para escapar de las comillas`\\`:"
   ]
  },
  {
   "cell_type": "code",
   "execution_count": 33,
   "id": "472ba73b",
   "metadata": {
    "slideshow": {
     "slide_type": "slide"
    }
   },
   "outputs": [
    {
     "data": {
      "text/plain": [
       "'\"Isn\\'t,\" they said.'"
      ]
     },
     "execution_count": 33,
     "metadata": {},
     "output_type": "execute_result"
    }
   ],
   "source": [
    ">>> 'spam eggs'  # single quotes\n",
    "'spam eggs'\n",
    ">>> 'doesn\\'t'  # use \\' to escape the single quote...\n",
    "\"doesn't\"\n",
    ">>> \"doesn't\"  # ...or use double quotes instead\n",
    "\"doesn't\"\n",
    ">>> '\"Yes,\" they said.'\n",
    "'\"Yes,\" they said.'\n",
    ">>> \"\\\"Yes,\\\" they said.\"\n",
    "'\"Yes,\" they said.'\n",
    ">>> '\"Isn\\'t,\" they said.'\n",
    "'\"Isn\\'t,\" they said.'"
   ]
  },
  {
   "cell_type": "markdown",
   "id": "ad1e165d",
   "metadata": {
    "slideshow": {
     "slide_type": "slide"
    }
   },
   "source": [
    "En el intérprete interactivo, la cadena de salida se encierra entre comillas y los caracteres especiales se escapan con barras diagonales inversas. "
   ]
  },
  {
   "cell_type": "markdown",
   "id": "3238f8da",
   "metadata": {
    "slideshow": {
     "slide_type": "slide"
    }
   },
   "source": [
    "Si bien esto a veces puede parecer diferente de la entrada (las comillas adjuntas podrían cambiar), las dos cadenas son equivalentes. "
   ]
  },
  {
   "cell_type": "markdown",
   "id": "16e6eccd",
   "metadata": {
    "slideshow": {
     "slide_type": "slide"
    }
   },
   "source": [
    "La cadena se incluye entre comillas dobles si la cadena contiene una comillas simples y no comillas dobles, de lo contrario se incluye entre comillas simples. "
   ]
  },
  {
   "cell_type": "markdown",
   "id": "6cfe121f",
   "metadata": {
    "slideshow": {
     "slide_type": "slide"
    }
   },
   "source": [
    "La función `print()` produce una salida más legible, omitiendo las comillas adjuntas e imprimiendo caracteres escapados y especiales:"
   ]
  },
  {
   "cell_type": "code",
   "execution_count": 35,
   "id": "9f9d0366",
   "metadata": {
    "slideshow": {
     "slide_type": "slide"
    }
   },
   "outputs": [
    {
     "data": {
      "text/plain": [
       "\"Isn't, they said.\""
      ]
     },
     "execution_count": 35,
     "metadata": {},
     "output_type": "execute_result"
    }
   ],
   "source": [
    "'Isn\\'t, they said.'"
   ]
  },
  {
   "cell_type": "code",
   "execution_count": 36,
   "id": "0c3279d8",
   "metadata": {
    "slideshow": {
     "slide_type": "slide"
    }
   },
   "outputs": [
    {
     "name": "stdout",
     "output_type": "stream",
     "text": [
      "\"Isn't,\" they said.\n"
     ]
    }
   ],
   "source": [
    "print('\"Isn\\'t,\" they said.')"
   ]
  },
  {
   "cell_type": "code",
   "execution_count": null,
   "id": "32e061bc",
   "metadata": {
    "slideshow": {
     "slide_type": "slide"
    }
   },
   "outputs": [],
   "source": [
    ">>> s = 'First line.\\nSecond line.'  # \\n means newline\n",
    ">>> s  # without print(), \\n is included in the output\n",
    "'First line.\\nSecond line.'\n",
    "print(s)  # with print(), \\n produces a new line"
   ]
  },
  {
   "cell_type": "markdown",
   "id": "c60e2b7e",
   "metadata": {
    "slideshow": {
     "slide_type": "slide"
    }
   },
   "source": [
    "Si no desea que los caracteres precedidos por `\\` se interpreten como caracteres especiales, puede usar cadenas sin formato agregando un `r` antes de la primera cita:"
   ]
  },
  {
   "cell_type": "code",
   "execution_count": 37,
   "id": "f69b8e4c",
   "metadata": {
    "slideshow": {
     "slide_type": "slide"
    }
   },
   "outputs": [
    {
     "name": "stdout",
     "output_type": "stream",
     "text": [
      "C:\\some\n",
      "ame\n"
     ]
    }
   ],
   "source": [
    "print('C:\\some\\name')  # here \\n means newline!"
   ]
  },
  {
   "cell_type": "code",
   "execution_count": 38,
   "id": "fe9f202d",
   "metadata": {
    "slideshow": {
     "slide_type": "slide"
    }
   },
   "outputs": [
    {
     "name": "stdout",
     "output_type": "stream",
     "text": [
      "C:\\some\\name\n"
     ]
    }
   ],
   "source": [
    "print(r'C:\\some\\name')  # note the r before the quote\n"
   ]
  },
  {
   "cell_type": "markdown",
   "id": "ac1f7a32",
   "metadata": {
    "slideshow": {
     "slide_type": "slide"
    }
   },
   "source": [
    "Los literales de cadena pueden abarcar varias líneas. Una forma es usar comillas triples: `\"\"\"...\"\"\"` o `'''...'''` . El final de las líneas se incluye automáticamente en la cadena, pero es posible evitarlo agregando un `\\` al final de la línea. El siguiente ejemplo:"
   ]
  },
  {
   "cell_type": "code",
   "execution_count": 39,
   "id": "0bbaf02e",
   "metadata": {
    "scrolled": true,
    "slideshow": {
     "slide_type": "slide"
    }
   },
   "outputs": [
    {
     "name": "stdout",
     "output_type": "stream",
     "text": [
      "Usage: thingy [OPTIONS]\n",
      "     -h                        Display this usage message\n",
      "     -H hostname               Hostname to connect to\n",
      "\n"
     ]
    }
   ],
   "source": [
    "print(\"\"\"\\\n",
    "Usage: thingy [OPTIONS]\n",
    "     -h                        Display this usage message\n",
    "     -H hostname               Hostname to connect to\n",
    "\"\"\")"
   ]
  },
  {
   "cell_type": "markdown",
   "id": "a673b88b",
   "metadata": {},
   "source": [
    "## Concatenación de cadenas o String"
   ]
  },
  {
   "cell_type": "markdown",
   "id": "350f7745",
   "metadata": {
    "slideshow": {
     "slide_type": "slide"
    }
   },
   "source": [
    "Las cadenas pueden concatenarse (pegarse) con el operador `+` y repetirse con `*`:"
   ]
  },
  {
   "cell_type": "code",
   "execution_count": null,
   "id": "9f2a135f",
   "metadata": {
    "slideshow": {
     "slide_type": "slide"
    }
   },
   "outputs": [],
   "source": [
    "# 3 times 'un', followed by 'ium'\n",
    "3 * 'un' + 'ium'\n",
    "'unununium'"
   ]
  },
  {
   "cell_type": "markdown",
   "id": "85a3c044",
   "metadata": {
    "slideshow": {
     "slide_type": "slide"
    }
   },
   "source": [
    "Dos o más literales de cadena (es decir, los que están entre comillas) uno al lado del otro se concatenan automáticamente."
   ]
  },
  {
   "cell_type": "code",
   "execution_count": 40,
   "id": "7c668caf",
   "metadata": {
    "slideshow": {
     "slide_type": "slide"
    }
   },
   "outputs": [
    {
     "data": {
      "text/plain": [
       "'Python'"
      ]
     },
     "execution_count": 40,
     "metadata": {},
     "output_type": "execute_result"
    }
   ],
   "source": [
    "'Py' 'thon'\n"
   ]
  },
  {
   "cell_type": "markdown",
   "id": "beb46180",
   "metadata": {
    "slideshow": {
     "slide_type": "slide"
    }
   },
   "source": [
    "Esta característica es particularmente útil cuando desea romper cadenas largas:"
   ]
  },
  {
   "cell_type": "code",
   "execution_count": 41,
   "id": "04435fde",
   "metadata": {
    "slideshow": {
     "slide_type": "slide"
    }
   },
   "outputs": [],
   "source": [
    ">>> text = ('Put several strings within parentheses '\n",
    "...         'to have them joined together.')"
   ]
  },
  {
   "cell_type": "code",
   "execution_count": 42,
   "id": "8fc21e4e",
   "metadata": {
    "slideshow": {
     "slide_type": "slide"
    }
   },
   "outputs": [
    {
     "data": {
      "text/plain": [
       "'Put several strings within parentheses to have them joined together.'"
      ]
     },
     "execution_count": 42,
     "metadata": {},
     "output_type": "execute_result"
    }
   ],
   "source": [
    "text\n"
   ]
  },
  {
   "cell_type": "markdown",
   "id": "1d6c8745",
   "metadata": {
    "slideshow": {
     "slide_type": "slide"
    }
   },
   "source": [
    "Sin embargo, esto solo funciona con dos literales, no con variables o expresiones:"
   ]
  },
  {
   "cell_type": "code",
   "execution_count": 47,
   "id": "5c97e77c",
   "metadata": {
    "slideshow": {
     "slide_type": "slide"
    }
   },
   "outputs": [],
   "source": [
    "prefix = 'Py'"
   ]
  },
  {
   "cell_type": "code",
   "execution_count": 48,
   "id": "a5cfacbe",
   "metadata": {
    "slideshow": {
     "slide_type": "slide"
    }
   },
   "outputs": [
    {
     "ename": "SyntaxError",
     "evalue": "invalid syntax (<ipython-input-48-c5901e312aa3>, line 1)",
     "output_type": "error",
     "traceback": [
      "\u001b[1;36m  File \u001b[1;32m\"<ipython-input-48-c5901e312aa3>\"\u001b[1;36m, line \u001b[1;32m1\u001b[0m\n\u001b[1;33m    prefix 'thon'  # can't concatenate a variable and a string literal\u001b[0m\n\u001b[1;37m           ^\u001b[0m\n\u001b[1;31mSyntaxError\u001b[0m\u001b[1;31m:\u001b[0m invalid syntax\n"
     ]
    }
   ],
   "source": [
    "prefix 'thon'  # can't concatenate a variable and a string literal"
   ]
  },
  {
   "cell_type": "code",
   "execution_count": 44,
   "id": "ab47df72",
   "metadata": {
    "slideshow": {
     "slide_type": "slide"
    }
   },
   "outputs": [
    {
     "ename": "SyntaxError",
     "evalue": "invalid syntax (<ipython-input-44-e2ce7e62b66c>, line 1)",
     "output_type": "error",
     "traceback": [
      "\u001b[1;36m  File \u001b[1;32m\"<ipython-input-44-e2ce7e62b66c>\"\u001b[1;36m, line \u001b[1;32m1\u001b[0m\n\u001b[1;33m    ('un' * 3) 'ium'\u001b[0m\n\u001b[1;37m               ^\u001b[0m\n\u001b[1;31mSyntaxError\u001b[0m\u001b[1;31m:\u001b[0m invalid syntax\n"
     ]
    }
   ],
   "source": [
    "('un' * 3) 'ium'\n",
    "  "
   ]
  },
  {
   "cell_type": "markdown",
   "id": "d69fa2bc",
   "metadata": {
    "slideshow": {
     "slide_type": "slide"
    }
   },
   "source": [
    "Si desea concatenar variables o una variable y un literal, utilice `+` :"
   ]
  },
  {
   "cell_type": "code",
   "execution_count": 49,
   "id": "063bc3dc",
   "metadata": {
    "slideshow": {
     "slide_type": "slide"
    }
   },
   "outputs": [
    {
     "data": {
      "text/plain": [
       "'Python'"
      ]
     },
     "execution_count": 49,
     "metadata": {},
     "output_type": "execute_result"
    }
   ],
   "source": [
    "prefix + 'thon'\n"
   ]
  },
  {
   "cell_type": "markdown",
   "id": "a12dce07",
   "metadata": {
    "slideshow": {
     "slide_type": "slide"
    }
   },
   "source": [
    "## Indexación de cadenas"
   ]
  },
  {
   "cell_type": "markdown",
   "id": "e2a9a4a9",
   "metadata": {
    "slideshow": {
     "slide_type": "slide"
    }
   },
   "source": [
    "Las cadenas se pueden indexar (subíndices), con el primer carácter que tiene índice 0. No hay un tipo de carácter separado; un carácter es simplemente una cadena de tamaño uno:"
   ]
  },
  {
   "cell_type": "code",
   "execution_count": 50,
   "id": "68169e45",
   "metadata": {
    "slideshow": {
     "slide_type": "slide"
    }
   },
   "outputs": [],
   "source": [
    "word = 'Python'"
   ]
  },
  {
   "cell_type": "code",
   "execution_count": 51,
   "id": "56375614",
   "metadata": {
    "slideshow": {
     "slide_type": "slide"
    }
   },
   "outputs": [
    {
     "data": {
      "text/plain": [
       "'P'"
      ]
     },
     "execution_count": 51,
     "metadata": {},
     "output_type": "execute_result"
    }
   ],
   "source": [
    "word[0]  # character in position 0"
   ]
  },
  {
   "cell_type": "code",
   "execution_count": 52,
   "id": "0ccaf4b7",
   "metadata": {
    "slideshow": {
     "slide_type": "slide"
    }
   },
   "outputs": [
    {
     "data": {
      "text/plain": [
       "'n'"
      ]
     },
     "execution_count": 52,
     "metadata": {},
     "output_type": "execute_result"
    }
   ],
   "source": [
    "word[5]  # character in position 5\n"
   ]
  },
  {
   "cell_type": "markdown",
   "id": "8236c202",
   "metadata": {
    "slideshow": {
     "slide_type": "slide"
    }
   },
   "source": [
    "Los índices también pueden ser números negativos, para empezar a contar desde la derecha:"
   ]
  },
  {
   "cell_type": "code",
   "execution_count": 53,
   "id": "d946f2fd",
   "metadata": {
    "slideshow": {
     "slide_type": "slide"
    }
   },
   "outputs": [
    {
     "data": {
      "text/plain": [
       "'n'"
      ]
     },
     "execution_count": 53,
     "metadata": {},
     "output_type": "execute_result"
    }
   ],
   "source": [
    "word[-1]  # last character"
   ]
  },
  {
   "cell_type": "code",
   "execution_count": 54,
   "id": "6af3f3bd",
   "metadata": {
    "slideshow": {
     "slide_type": "slide"
    }
   },
   "outputs": [
    {
     "data": {
      "text/plain": [
       "'o'"
      ]
     },
     "execution_count": 54,
     "metadata": {},
     "output_type": "execute_result"
    }
   ],
   "source": [
    "word[-2]  # second-last character"
   ]
  },
  {
   "cell_type": "code",
   "execution_count": 55,
   "id": "ff749fdb",
   "metadata": {
    "slideshow": {
     "slide_type": "slide"
    }
   },
   "outputs": [
    {
     "data": {
      "text/plain": [
       "'P'"
      ]
     },
     "execution_count": 55,
     "metadata": {},
     "output_type": "execute_result"
    }
   ],
   "source": [
    "word[-6]\n"
   ]
  },
  {
   "cell_type": "markdown",
   "id": "bca6ca0e",
   "metadata": {
    "slideshow": {
     "slide_type": "slide"
    }
   },
   "source": [
    "Tenga en cuenta que dado que -0 es lo mismo que 0, los índices negativos comienzan desde -1."
   ]
  },
  {
   "cell_type": "markdown",
   "id": "a7579d4c",
   "metadata": {
    "slideshow": {
     "slide_type": "slide"
    }
   },
   "source": [
    "Además de la indexación, también se admite el corte. Mientras que la indexación se utiliza para obtener caracteres individuales, el corte le permite obtener subcadenas:"
   ]
  },
  {
   "cell_type": "code",
   "execution_count": 56,
   "id": "2becf273",
   "metadata": {
    "slideshow": {
     "slide_type": "slide"
    }
   },
   "outputs": [
    {
     "data": {
      "text/plain": [
       "'Py'"
      ]
     },
     "execution_count": 56,
     "metadata": {},
     "output_type": "execute_result"
    }
   ],
   "source": [
    "word[0:2]  # characters from position 0 (included) to 2 (excluded)"
   ]
  },
  {
   "cell_type": "code",
   "execution_count": 57,
   "id": "f386192b",
   "metadata": {
    "slideshow": {
     "slide_type": "slide"
    }
   },
   "outputs": [
    {
     "data": {
      "text/plain": [
       "'tho'"
      ]
     },
     "execution_count": 57,
     "metadata": {},
     "output_type": "execute_result"
    }
   ],
   "source": [
    "word[2:5]  # characters from position 2 (included) to 5 (excluded)\n"
   ]
  },
  {
   "cell_type": "markdown",
   "id": "33690a64",
   "metadata": {
    "slideshow": {
     "slide_type": "slide"
    }
   },
   "source": [
    "Los índices de división tienen valores predeterminados útiles; un primer índice omitido se configura de forma predeterminada en cero, un segundo índice omitido tiene como valor predeterminado el tamaño de la cadena que se está segmentando."
   ]
  },
  {
   "cell_type": "code",
   "execution_count": 58,
   "id": "bf9369a6",
   "metadata": {
    "slideshow": {
     "slide_type": "slide"
    }
   },
   "outputs": [
    {
     "data": {
      "text/plain": [
       "'Py'"
      ]
     },
     "execution_count": 58,
     "metadata": {},
     "output_type": "execute_result"
    }
   ],
   "source": [
    "word[:2]   # character from the beginning to position 2 (excluded)"
   ]
  },
  {
   "cell_type": "code",
   "execution_count": 59,
   "id": "c913111e",
   "metadata": {
    "slideshow": {
     "slide_type": "slide"
    }
   },
   "outputs": [
    {
     "data": {
      "text/plain": [
       "'on'"
      ]
     },
     "execution_count": 59,
     "metadata": {},
     "output_type": "execute_result"
    }
   ],
   "source": [
    "word[4:]   # characters from position 4 (included) to the end"
   ]
  },
  {
   "cell_type": "code",
   "execution_count": 60,
   "id": "1f682871",
   "metadata": {
    "slideshow": {
     "slide_type": "slide"
    }
   },
   "outputs": [
    {
     "data": {
      "text/plain": [
       "'on'"
      ]
     },
     "execution_count": 60,
     "metadata": {},
     "output_type": "execute_result"
    }
   ],
   "source": [
    "word[-2:]  # characters from the second-last (included) to the end\n"
   ]
  },
  {
   "cell_type": "markdown",
   "id": "a2b6a7ca",
   "metadata": {
    "slideshow": {
     "slide_type": "slide"
    }
   },
   "source": [
    "Observe cómo el inicio siempre se incluye y el final siempre se excluye. Esto asegura que siempre sea igual a:`s[:i] + s[i:]`s"
   ]
  },
  {
   "cell_type": "code",
   "execution_count": 61,
   "id": "e31ed2b2",
   "metadata": {
    "slideshow": {
     "slide_type": "slide"
    }
   },
   "outputs": [
    {
     "data": {
      "text/plain": [
       "'Python'"
      ]
     },
     "execution_count": 61,
     "metadata": {},
     "output_type": "execute_result"
    }
   ],
   "source": [
    "word[:2] + word[2:]"
   ]
  },
  {
   "cell_type": "code",
   "execution_count": 62,
   "id": "e3f7723b",
   "metadata": {
    "slideshow": {
     "slide_type": "slide"
    }
   },
   "outputs": [
    {
     "data": {
      "text/plain": [
       "'Python'"
      ]
     },
     "execution_count": 62,
     "metadata": {},
     "output_type": "execute_result"
    }
   ],
   "source": [
    "word[:4] + word[4:]\n"
   ]
  },
  {
   "cell_type": "markdown",
   "id": "aa045b65",
   "metadata": {
    "slideshow": {
     "slide_type": "slide"
    }
   },
   "source": [
    "Una forma de recordar cómo funcionan los sectores es pensar que los índices apuntan entre caracteres, con el borde izquierdo del primer carácter numerado 0. Entonces el borde derecho del último carácter de una cadena de n caracteres tiene índice n,por ejemplo:\n",
    "\n",
    "<img src = ''>"
   ]
  },
  {
   "cell_type": "markdown",
   "id": "b6b6b7e1",
   "metadata": {
    "slideshow": {
     "slide_type": "slide"
    }
   },
   "source": []
  },
  {
   "cell_type": "code",
   "execution_count": null,
   "id": "f67adadb",
   "metadata": {
    "slideshow": {
     "slide_type": "slide"
    }
   },
   "outputs": [],
   "source": []
  },
  {
   "cell_type": "code",
   "execution_count": null,
   "id": "fce4f326",
   "metadata": {
    "slideshow": {
     "slide_type": "slide"
    }
   },
   "outputs": [],
   "source": []
  },
  {
   "cell_type": "code",
   "execution_count": null,
   "id": "a72fee42",
   "metadata": {
    "slideshow": {
     "slide_type": "slide"
    }
   },
   "outputs": [],
   "source": []
  }
 ],
 "metadata": {
  "celltoolbar": "Slideshow",
  "kernelspec": {
   "display_name": "Python 3",
   "language": "python",
   "name": "python3"
  },
  "language_info": {
   "codemirror_mode": {
    "name": "ipython",
    "version": 3
   },
   "file_extension": ".py",
   "mimetype": "text/x-python",
   "name": "python",
   "nbconvert_exporter": "python",
   "pygments_lexer": "ipython3",
   "version": "3.8.8"
  },
  "latex_envs": {
   "LaTeX_envs_menu_present": true,
   "autoclose": false,
   "autocomplete": false,
   "bibliofile": "biblio.bib",
   "cite_by": "apalike",
   "current_citInitial": 1,
   "eqLabelWithNumbers": true,
   "eqNumInitial": 1,
   "hotkeys": {
    "equation": "Ctrl-E",
    "itemize": "Ctrl-I"
   },
   "labels_anchors": false,
   "latex_user_defs": false,
   "report_style_numbering": false,
   "user_envs_cfg": false
  },
  "rise": {
   "enable_chalkboard": true,
   "theme": "sky",
   "transition": "sky"
  }
 },
 "nbformat": 4,
 "nbformat_minor": 5
}
