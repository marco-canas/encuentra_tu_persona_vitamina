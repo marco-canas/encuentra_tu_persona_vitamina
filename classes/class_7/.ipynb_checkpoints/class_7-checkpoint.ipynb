{
 "cells": [
  {
   "cell_type": "markdown",
   "id": "f29fd06a",
   "metadata": {
    "slideshow": {
     "slide_type": "slide"
    }
   },
   "source": [
    "<table align=\"left\">\n",
    "  <td>\n",
    "    <a href=\"https://colab.research.google.com/github/marco-canas/introducci-n-al-Machine-Learning/blob/main/classes/class_5/class_5.ipynb\" target=\"_parent\"><img src=\"https://colab.research.google.com/assets/colab-badge.svg\" alt=\"Open In Colab\"/></a>\n",
    "  </td>\n",
    "  <td>\n",
    "    <a target=\"_blank\" href=\"https://kaggle.com/kernels/welcome?src=https://github.com/marco-canas/introducci-n-al-Machine-Learning/blob/main/classes/class_5/class_5.ipynb\"><img src=\"https://kaggle.com/static/images/open-in-kaggle.svg\" /></a>\n",
    "  </td>\n",
    "</table>\n",
    "\n"
   ]
  },
  {
   "cell_type": "markdown",
   "id": "88b479b5",
   "metadata": {
    "slideshow": {
     "slide_type": "slide"
    }
   },
   "source": [
    "# Clase 7\n"
   ]
  },
  {
   "cell_type": "markdown",
   "id": "050e3c3b",
   "metadata": {
    "slideshow": {
     "slide_type": "slide"
    }
   },
   "source": [
    "Objetivos: \n",
    "\n",
    "* Otros métodos asociados a listas. \n",
    "* Librerías científicas numpy, pandas y matplotlib. \n",
    "* Clases de Python"
   ]
  },
  {
   "cell_type": "markdown",
   "id": "ca4e7f21",
   "metadata": {
    "slideshow": {
     "slide_type": "slide"
    }
   },
   "source": [
    "## Asignación de ejercicio de construcción de funciones en Python"
   ]
  },
  {
   "cell_type": "code",
   "execution_count": 1,
   "id": "f4854b1e",
   "metadata": {
    "slideshow": {
     "slide_type": "slide"
    }
   },
   "outputs": [],
   "source": [
    "import numpy as np \n",
    "import pandas as pd "
   ]
  },
  {
   "cell_type": "code",
   "execution_count": 8,
   "id": "8567f032",
   "metadata": {
    "slideshow": {
     "slide_type": "slide"
    }
   },
   "outputs": [],
   "source": [
    "grupo_intro_ml=pd.read_excel('grupo_intro_ml.xlsx')"
   ]
  },
  {
   "cell_type": "code",
   "execution_count": 4,
   "id": "f2108002",
   "metadata": {
    "slideshow": {
     "slide_type": "slide"
    }
   },
   "outputs": [
    {
     "data": {
      "text/html": [
       "<div>\n",
       "<style scoped>\n",
       "    .dataframe tbody tr th:only-of-type {\n",
       "        vertical-align: middle;\n",
       "    }\n",
       "\n",
       "    .dataframe tbody tr th {\n",
       "        vertical-align: top;\n",
       "    }\n",
       "\n",
       "    .dataframe thead th {\n",
       "        text-align: right;\n",
       "    }\n",
       "</style>\n",
       "<table border=\"1\" class=\"dataframe\">\n",
       "  <thead>\n",
       "    <tr style=\"text-align: right;\">\n",
       "      <th></th>\n",
       "      <th>cedula</th>\n",
       "      <th>Nombre</th>\n",
       "      <th>Email</th>\n",
       "    </tr>\n",
       "  </thead>\n",
       "  <tbody>\n",
       "    <tr>\n",
       "      <th>21</th>\n",
       "      <td>22\\t1007813704\\tPULGARIN QUIROZ EMILY IVETTE\\t...</td>\n",
       "      <td>NaN</td>\n",
       "      <td>NaN</td>\n",
       "    </tr>\n",
       "    <tr>\n",
       "      <th>22</th>\n",
       "      <td>23\\t1001851542\\tRODRIGUEZ BARRIOS DAIRA LORENA...</td>\n",
       "      <td>NaN</td>\n",
       "      <td>NaN</td>\n",
       "    </tr>\n",
       "    <tr>\n",
       "      <th>23</th>\n",
       "      <td>24\\t1152225691\\tTORRES MERIÑO JOSE LUIS CAMILO...</td>\n",
       "      <td>NaN</td>\n",
       "      <td>NaN</td>\n",
       "    </tr>\n",
       "    <tr>\n",
       "      <th>24</th>\n",
       "      <td>25\\t1007722578\\tTRUJILLO VERTEL MAIRA ALEJANDR...</td>\n",
       "      <td>NaN</td>\n",
       "      <td>NaN</td>\n",
       "    </tr>\n",
       "    <tr>\n",
       "      <th>25</th>\n",
       "      <td>1017266250</td>\n",
       "      <td>ZAPATA VANEGAS JUAN CAMILO</td>\n",
       "      <td>juan.zapata100@udea.edu.co</td>\n",
       "    </tr>\n",
       "  </tbody>\n",
       "</table>\n",
       "</div>"
      ],
      "text/plain": [
       "                                              cedula   \\\n",
       "21  22\\t1007813704\\tPULGARIN QUIROZ EMILY IVETTE\\t...   \n",
       "22  23\\t1001851542\\tRODRIGUEZ BARRIOS DAIRA LORENA...   \n",
       "23  24\\t1152225691\\tTORRES MERIÑO JOSE LUIS CAMILO...   \n",
       "24  25\\t1007722578\\tTRUJILLO VERTEL MAIRA ALEJANDR...   \n",
       "25                                         1017266250   \n",
       "\n",
       "                         Nombre                       Email  \n",
       "21                          NaN                         NaN  \n",
       "22                          NaN                         NaN  \n",
       "23                          NaN                         NaN  \n",
       "24                          NaN                         NaN  \n",
       "25  ZAPATA VANEGAS JUAN CAMILO   juan.zapata100@udea.edu.co  "
      ]
     },
     "execution_count": 4,
     "metadata": {},
     "output_type": "execute_result"
    }
   ],
   "source": [
    "grupo_intro_ml.tail()  "
   ]
  },
  {
   "cell_type": "code",
   "execution_count": null,
   "id": "3849756b",
   "metadata": {
    "slideshow": {
     "slide_type": "slide"
    }
   },
   "outputs": [],
   "source": [
    "grupo_intro_ml = pd.read_csv('grupo_intro_ml.csv', sep = '    ')    "
   ]
  },
  {
   "cell_type": "code",
   "execution_count": null,
   "id": "0e46b526",
   "metadata": {
    "slideshow": {
     "slide_type": "slide"
    }
   },
   "outputs": [],
   "source": [
    "grupo_intro_ml.keys() "
   ]
  },
  {
   "cell_type": "code",
   "execution_count": null,
   "id": "749571fc",
   "metadata": {
    "slideshow": {
     "slide_type": "slide"
    }
   },
   "outputs": [],
   "source": [
    "#grupo_intro_ml.drop(['Unnamed: 1','Unnamed: 2','Unnamed: 4'], \n",
    "#                    axis = 1, inplace = True) "
   ]
  },
  {
   "cell_type": "code",
   "execution_count": null,
   "id": "4712bfa7",
   "metadata": {
    "slideshow": {
     "slide_type": "slide"
    }
   },
   "outputs": [],
   "source": [
    "grupo_intro_ml.head() "
   ]
  },
  {
   "cell_type": "markdown",
   "id": "8e6a6012",
   "metadata": {
    "slideshow": {
     "slide_type": "slide"
    }
   },
   "source": [
    "### Generación de lista con la asignación para los 26 estudiantes"
   ]
  },
  {
   "cell_type": "markdown",
   "id": "e7ae1842",
   "metadata": {
    "slideshow": {
     "slide_type": "slide"
    }
   },
   "source": [
    "Son 30 los ejercicios del primer taller. "
   ]
  },
  {
   "cell_type": "code",
   "execution_count": null,
   "id": "19f863a3",
   "metadata": {
    "slideshow": {
     "slide_type": "slide"
    }
   },
   "outputs": [],
   "source": [
    "from random import randint \n",
    "\n",
    "lista_ejercicios_asignados = [randint(1,30) for i in range(26)]\n",
    "\n",
    "lista_ejercicios_asignados "
   ]
  },
  {
   "cell_type": "code",
   "execution_count": null,
   "id": "eff6ce55",
   "metadata": {
    "slideshow": {
     "slide_type": "slide"
    }
   },
   "outputs": [],
   "source": [
    "grupo_intro_ml['Asignación taller 1'] = lista_ejercicios_asignados"
   ]
  },
  {
   "cell_type": "code",
   "execution_count": null,
   "id": "462270ae",
   "metadata": {
    "scrolled": true,
    "slideshow": {
     "slide_type": "slide"
    }
   },
   "outputs": [],
   "source": [
    "grupo_intro_ml"
   ]
  },
  {
   "cell_type": "code",
   "execution_count": null,
   "id": "dcdbbd4b",
   "metadata": {
    "slideshow": {
     "slide_type": "slide"
    }
   },
   "outputs": [],
   "source": [
    "# grupo_intro_ml.Email.to_csv('emails.csv', index = False) "
   ]
  },
  {
   "cell_type": "markdown",
   "id": "f72cbe62",
   "metadata": {
    "slideshow": {
     "slide_type": "slide"
    }
   },
   "source": [
    "# Participación aleatoria"
   ]
  },
  {
   "cell_type": "code",
   "execution_count": null,
   "id": "9b91b18a",
   "metadata": {
    "slideshow": {
     "slide_type": "slide"
    }
   },
   "outputs": [],
   "source": [
    "import pandas as pd"
   ]
  },
  {
   "cell_type": "code",
   "execution_count": null,
   "id": "a3d565bc",
   "metadata": {
    "slideshow": {
     "slide_type": "slide"
    }
   },
   "outputs": [],
   "source": [
    "lista_estudiantes = list(grupo_intro_ml[' Nombre'].values)\n",
    "\n",
    "from random import randint, choice\n",
    "\n",
    "def seleccion_aleatoria():\n",
    "    if lista_estudiantes == []:\n",
    "        print('ya participaron todos los estudiantes') \n",
    "    else:\n",
    "        while lista_estudiantes != []:\n",
    "            student = choice(lista_estudiantes)\n",
    "            lista_estudiantes.remove(student)\n",
    "            return print(student)  \n",
    "    "
   ]
  },
  {
   "cell_type": "code",
   "execution_count": null,
   "id": "6c9e94ab",
   "metadata": {
    "slideshow": {
     "slide_type": "slide"
    }
   },
   "outputs": [],
   "source": [
    "seleccion_aleatoria()"
   ]
  },
  {
   "cell_type": "markdown",
   "id": "00052382",
   "metadata": {
    "slideshow": {
     "slide_type": "slide"
    }
   },
   "source": [
    "# 1.9 Otras operaciones en listas"
   ]
  },
  {
   "cell_type": "markdown",
   "id": "01cee0d1",
   "metadata": {
    "slideshow": {
     "slide_type": "slide"
    }
   },
   "source": [
    "Las listas corresponden a secuencias de datos que van enumeradas desde 0. "
   ]
  },
  {
   "cell_type": "markdown",
   "id": "3225f67e",
   "metadata": {
    "slideshow": {
     "slide_type": "slide"
    }
   },
   "source": [
    "A través de la librería estándar de Python existen varias herramientas con las cuales se pueden trabajar las listas (tutorialspoint, 2019)."
   ]
  },
  {
   "cell_type": "markdown",
   "id": "f5f7860c",
   "metadata": {
    "slideshow": {
     "slide_type": "slide"
    }
   },
   "source": [
    "Se debe recordar que las listas en Python se crean utilizando corchetes (`[ ]`) y sus datos se separan con comas"
   ]
  },
  {
   "cell_type": "markdown",
   "id": "6631afcc",
   "metadata": {
    "slideshow": {
     "slide_type": "slide"
    }
   },
   "source": [
    "Suponga que se tiene la siguiente lista:"
   ]
  },
  {
   "cell_type": "markdown",
   "id": "7a76da26",
   "metadata": {
    "slideshow": {
     "slide_type": "slide"
    }
   },
   "source": [
    "### Ejemplo de una lista con edades de personas."
   ]
  },
  {
   "cell_type": "code",
   "execution_count": 1,
   "id": "1a3166c1",
   "metadata": {
    "slideshow": {
     "slide_type": "slide"
    }
   },
   "outputs": [],
   "source": [
    "edades = [13,43,46,74]"
   ]
  },
  {
   "cell_type": "markdown",
   "id": "b88d3d01",
   "metadata": {
    "slideshow": {
     "slide_type": "slide"
    }
   },
   "source": [
    "Se pueden aplicar las siguientes funciones, métodos para obtener información o modificar la existente como lo indica la fundación de Python (Python Software Foundation, 2019):\n",
    "\n",
    "* `len()`: Devuelve la cantidad de datos de la lista, es decir su longitud."
   ]
  },
  {
   "cell_type": "code",
   "execution_count": 2,
   "id": "a0d31f98",
   "metadata": {
    "slideshow": {
     "slide_type": "slide"
    }
   },
   "outputs": [
    {
     "data": {
      "text/plain": [
       "4"
      ]
     },
     "execution_count": 2,
     "metadata": {},
     "output_type": "execute_result"
    }
   ],
   "source": [
    "len(edades)"
   ]
  },
  {
   "cell_type": "markdown",
   "id": "9f946a74",
   "metadata": {
    "slideshow": {
     "slide_type": "slide"
    }
   },
   "source": [
    "* `.append()`: Agrega un nuevo dato al final de la lista. \n",
    "\n",
    "### Dato añadido al final con función “append”."
   ]
  },
  {
   "cell_type": "code",
   "execution_count": 3,
   "id": "e87c4d74",
   "metadata": {
    "slideshow": {
     "slide_type": "slide"
    }
   },
   "outputs": [],
   "source": [
    "edades.append(30)"
   ]
  },
  {
   "cell_type": "code",
   "execution_count": 4,
   "id": "0ae8ac5c",
   "metadata": {
    "slideshow": {
     "slide_type": "slide"
    }
   },
   "outputs": [
    {
     "data": {
      "text/plain": [
       "[13, 43, 46, 74, 30]"
      ]
     },
     "execution_count": 4,
     "metadata": {},
     "output_type": "execute_result"
    }
   ],
   "source": [
    "edades"
   ]
  },
  {
   "cell_type": "markdown",
   "id": "749934c4",
   "metadata": {
    "slideshow": {
     "slide_type": "slide"
    }
   },
   "source": [
    "* `.insert(x,y)`: añade a la lista el valor `y` en la posición `x`. Se debe recordar que la \n",
    "numeración empieza desde 0.  \n",
    "### El número 40 se inserta en la posición 2 con el método “insert”."
   ]
  },
  {
   "cell_type": "code",
   "execution_count": 5,
   "id": "7919fe53",
   "metadata": {
    "slideshow": {
     "slide_type": "slide"
    }
   },
   "outputs": [
    {
     "data": {
      "text/plain": [
       "[30, 13, 43, 46, 74, 30]"
      ]
     },
     "execution_count": 5,
     "metadata": {},
     "output_type": "execute_result"
    }
   ],
   "source": [
    "edades.insert(0,30)\n",
    "edades"
   ]
  },
  {
   "cell_type": "markdown",
   "id": "32d3245b",
   "metadata": {
    "slideshow": {
     "slide_type": "slide"
    }
   },
   "source": [
    "* `.remove()`: elimina el dato especificado. De no encontrarse, se emite un error.\n",
    "### Número eliminado con “remove”."
   ]
  },
  {
   "cell_type": "code",
   "execution_count": 6,
   "id": "bc4eb590",
   "metadata": {
    "slideshow": {
     "slide_type": "slide"
    }
   },
   "outputs": [
    {
     "ename": "ValueError",
     "evalue": "list.remove(x): x not in list",
     "output_type": "error",
     "traceback": [
      "\u001b[1;31m---------------------------------------------------------------------------\u001b[0m",
      "\u001b[1;31mValueError\u001b[0m                                Traceback (most recent call last)",
      "\u001b[1;32m<ipython-input-6-90a524d20c8f>\u001b[0m in \u001b[0;36m<module>\u001b[1;34m\u001b[0m\n\u001b[1;32m----> 1\u001b[1;33m \u001b[0medades\u001b[0m\u001b[1;33m.\u001b[0m\u001b[0mremove\u001b[0m\u001b[1;33m(\u001b[0m\u001b[1;36m11\u001b[0m\u001b[1;33m)\u001b[0m\u001b[1;33m\u001b[0m\u001b[1;33m\u001b[0m\u001b[0m\n\u001b[0m\u001b[0;32m      2\u001b[0m \u001b[0medades\u001b[0m\u001b[1;33m\u001b[0m\u001b[1;33m\u001b[0m\u001b[0m\n",
      "\u001b[1;31mValueError\u001b[0m: list.remove(x): x not in list"
     ]
    }
   ],
   "source": [
    "edades.remove(11)\n",
    "edades "
   ]
  },
  {
   "cell_type": "code",
   "execution_count": 7,
   "id": "3e379ebe",
   "metadata": {
    "slideshow": {
     "slide_type": "slide"
    }
   },
   "outputs": [
    {
     "data": {
      "text/plain": [
       "[30, 13, 43, 74, 30]"
      ]
     },
     "execution_count": 7,
     "metadata": {},
     "output_type": "execute_result"
    }
   ],
   "source": [
    "edades.remove(46)\n",
    "edades "
   ]
  },
  {
   "cell_type": "markdown",
   "id": "7b44752d",
   "metadata": {
    "slideshow": {
     "slide_type": "slide"
    }
   },
   "source": [
    "* `index()`: devuelve el índice del valor especificado, es decir su posición en la lista.\n",
    "\n",
    "### Posición del número 16 en la lista."
   ]
  },
  {
   "cell_type": "code",
   "execution_count": 8,
   "id": "7c99dbce",
   "metadata": {
    "slideshow": {
     "slide_type": "slide"
    }
   },
   "outputs": [
    {
     "ename": "ValueError",
     "evalue": "16 is not in list",
     "output_type": "error",
     "traceback": [
      "\u001b[1;31m---------------------------------------------------------------------------\u001b[0m",
      "\u001b[1;31mValueError\u001b[0m                                Traceback (most recent call last)",
      "\u001b[1;32m<ipython-input-8-4d19b3b9617e>\u001b[0m in \u001b[0;36m<module>\u001b[1;34m\u001b[0m\n\u001b[1;32m----> 1\u001b[1;33m \u001b[0medades\u001b[0m\u001b[1;33m.\u001b[0m\u001b[0mindex\u001b[0m\u001b[1;33m(\u001b[0m\u001b[1;36m16\u001b[0m\u001b[1;33m)\u001b[0m\u001b[1;33m\u001b[0m\u001b[1;33m\u001b[0m\u001b[0m\n\u001b[0m\u001b[0;32m      2\u001b[0m \u001b[0medades\u001b[0m\u001b[1;33m\u001b[0m\u001b[1;33m\u001b[0m\u001b[0m\n",
      "\u001b[1;31mValueError\u001b[0m: 16 is not in list"
     ]
    }
   ],
   "source": [
    "edades.index(16)\n",
    "edades "
   ]
  },
  {
   "cell_type": "code",
   "execution_count": 10,
   "id": "451bc204",
   "metadata": {
    "slideshow": {
     "slide_type": "slide"
    }
   },
   "outputs": [
    {
     "data": {
      "text/plain": [
       "1"
      ]
     },
     "execution_count": 10,
     "metadata": {},
     "output_type": "execute_result"
    }
   ],
   "source": [
    "edades.index(13)\n"
   ]
  },
  {
   "cell_type": "code",
   "execution_count": 11,
   "id": "41666174",
   "metadata": {
    "slideshow": {
     "slide_type": "slide"
    }
   },
   "outputs": [
    {
     "data": {
      "text/plain": [
       "[30, 13, 43, 74, 30]"
      ]
     },
     "execution_count": 11,
     "metadata": {},
     "output_type": "execute_result"
    }
   ],
   "source": [
    "edades "
   ]
  },
  {
   "cell_type": "markdown",
   "id": "d4a4414f",
   "metadata": {
    "slideshow": {
     "slide_type": "slide"
    }
   },
   "source": [
    "* `.count()`: cuenta las veces que se encuentra un valor en la lista.\n",
    "### Ejemplo de la función `count`."
   ]
  },
  {
   "cell_type": "code",
   "execution_count": 12,
   "id": "797ec68d",
   "metadata": {
    "slideshow": {
     "slide_type": "slide"
    }
   },
   "outputs": [
    {
     "data": {
      "text/plain": [
       "0"
      ]
     },
     "execution_count": 12,
     "metadata": {},
     "output_type": "execute_result"
    }
   ],
   "source": [
    "edades.count(16)"
   ]
  },
  {
   "cell_type": "markdown",
   "id": "775dd9f3",
   "metadata": {
    "slideshow": {
     "slide_type": "slide"
    }
   },
   "source": [
    "* `.sort()`: ordena los datos de forma creciente.\n",
    "### Lista ordenada crecientemente con función `sort`.\n"
   ]
  },
  {
   "cell_type": "code",
   "execution_count": 13,
   "id": "5232c00a",
   "metadata": {
    "slideshow": {
     "slide_type": "slide"
    }
   },
   "outputs": [],
   "source": [
    "edades.sort() "
   ]
  },
  {
   "cell_type": "code",
   "execution_count": 14,
   "id": "5eac8dc6",
   "metadata": {
    "slideshow": {
     "slide_type": "slide"
    }
   },
   "outputs": [
    {
     "data": {
      "text/plain": [
       "[13, 30, 30, 43, 74]"
      ]
     },
     "execution_count": 14,
     "metadata": {},
     "output_type": "execute_result"
    }
   ],
   "source": [
    "edades "
   ]
  },
  {
   "cell_type": "markdown",
   "id": "bd536008",
   "metadata": {
    "slideshow": {
     "slide_type": "slide"
    }
   },
   "source": [
    "* `.sort(reverse=True)`: ordena los datos de forma decreciente.\n",
    "\n",
    "### Lista ordenada decrecientemente con función sort y argumento reverse.\n"
   ]
  },
  {
   "cell_type": "code",
   "execution_count": 15,
   "id": "e00d35c6",
   "metadata": {
    "slideshow": {
     "slide_type": "slide"
    }
   },
   "outputs": [],
   "source": [
    "edades.sort(reverse = True)"
   ]
  },
  {
   "cell_type": "code",
   "execution_count": 16,
   "id": "f985714c",
   "metadata": {
    "slideshow": {
     "slide_type": "slide"
    }
   },
   "outputs": [
    {
     "data": {
      "text/plain": [
       "[74, 43, 30, 30, 13]"
      ]
     },
     "execution_count": 16,
     "metadata": {},
     "output_type": "execute_result"
    }
   ],
   "source": [
    "edades "
   ]
  },
  {
   "cell_type": "markdown",
   "id": "7a7f86af",
   "metadata": {
    "slideshow": {
     "slide_type": "slide"
    }
   },
   "source": [
    "* `[ ]`: devuelve el dato que tiene la numeración especificada. Se puede especificar por \n",
    "intervalos usando dos puntos “:”, teniendo en cuenta que el intervalo es cerrado por \n",
    "izquierda y abierto por derecha. "
   ]
  },
  {
   "cell_type": "markdown",
   "id": "9cf2b06e",
   "metadata": {
    "slideshow": {
     "slide_type": "slide"
    }
   },
   "source": [
    "Si no se especifica alguno de los límites y se deja en blanco, se tomarán el resto de los \n",
    "valores. "
   ]
  },
  {
   "cell_type": "markdown",
   "id": "c12f8d13",
   "metadata": {
    "slideshow": {
     "slide_type": "slide"
    }
   },
   "source": [
    "Es necesario recordar que en “Python” las numeraciones comienzan desde 0: \n",
    "es decir que el primer dato está numerado con 0."
   ]
  },
  {
   "cell_type": "markdown",
   "id": "be17c148",
   "metadata": {
    "slideshow": {
     "slide_type": "slide"
    }
   },
   "source": [
    " \n",
    "Además, con los corchetes es posible reemplazar valores de la lista si se realiza una asignación (`=`)."
   ]
  },
  {
   "cell_type": "markdown",
   "id": "2e1db144",
   "metadata": {
    "slideshow": {
     "slide_type": "slide"
    }
   },
   "source": [
    "### Obtención del dato enumerado 6."
   ]
  },
  {
   "cell_type": "code",
   "execution_count": 18,
   "id": "acd095b2",
   "metadata": {
    "slideshow": {
     "slide_type": "slide"
    }
   },
   "outputs": [
    {
     "data": {
      "text/plain": [
       "13"
      ]
     },
     "execution_count": 18,
     "metadata": {},
     "output_type": "execute_result"
    }
   ],
   "source": [
    "edades[4]"
   ]
  },
  {
   "cell_type": "markdown",
   "id": "7e9e8bff",
   "metadata": {
    "slideshow": {
     "slide_type": "slide"
    }
   },
   "source": [
    "La obtención de un intervalo se puede realizar como se muestra en las siguientes líneas:\n",
    "\n",
    "### Ejemplo: Obtención intervalo de la lista."
   ]
  },
  {
   "cell_type": "code",
   "execution_count": 19,
   "id": "2b208199",
   "metadata": {
    "slideshow": {
     "slide_type": "slide"
    }
   },
   "outputs": [
    {
     "data": {
      "text/plain": [
       "[30, 13]"
      ]
     },
     "execution_count": 19,
     "metadata": {},
     "output_type": "execute_result"
    }
   ],
   "source": [
    "edades[3:5]"
   ]
  },
  {
   "cell_type": "markdown",
   "id": "55bb2df0",
   "metadata": {
    "slideshow": {
     "slide_type": "slide"
    }
   },
   "source": [
    "### Obtención de intervalos desde un punto hasta el final."
   ]
  },
  {
   "cell_type": "code",
   "execution_count": 21,
   "id": "da09cb6c",
   "metadata": {
    "slideshow": {
     "slide_type": "slide"
    }
   },
   "outputs": [
    {
     "data": {
      "text/plain": [
       "[13]"
      ]
     },
     "execution_count": 21,
     "metadata": {},
     "output_type": "execute_result"
    }
   ],
   "source": [
    "edades[4:]"
   ]
  },
  {
   "cell_type": "code",
   "execution_count": 23,
   "id": "2de55caf",
   "metadata": {},
   "outputs": [
    {
     "data": {
      "text/plain": [
       "[74, 43, 30, 30, 13]"
      ]
     },
     "execution_count": 23,
     "metadata": {},
     "output_type": "execute_result"
    }
   ],
   "source": [
    "edades "
   ]
  },
  {
   "cell_type": "code",
   "execution_count": 22,
   "id": "e3eb78fa",
   "metadata": {
    "slideshow": {
     "slide_type": "slide"
    }
   },
   "outputs": [
    {
     "data": {
      "text/plain": [
       "[74, 43, 30, 30]"
      ]
     },
     "execution_count": 22,
     "metadata": {},
     "output_type": "execute_result"
    }
   ],
   "source": [
    "edades[:4]"
   ]
  },
  {
   "cell_type": "markdown",
   "id": "3caac42a",
   "metadata": {
    "slideshow": {
     "slide_type": "slide"
    }
   },
   "source": [
    "El reemplazo de un valor de la lista se efectúa con una asignación:\n",
    "\n",
    "### Reemplazo de un dato de la lista."
   ]
  },
  {
   "cell_type": "code",
   "execution_count": 24,
   "id": "5e9f4cdd",
   "metadata": {},
   "outputs": [],
   "source": [
    "edades[0] = 100"
   ]
  },
  {
   "cell_type": "code",
   "execution_count": 25,
   "id": "52201a9a",
   "metadata": {},
   "outputs": [
    {
     "data": {
      "text/plain": [
       "[100, 43, 30, 30, 13]"
      ]
     },
     "execution_count": 25,
     "metadata": {},
     "output_type": "execute_result"
    }
   ],
   "source": [
    "edades "
   ]
  },
  {
   "cell_type": "markdown",
   "id": "27939949",
   "metadata": {
    "slideshow": {
     "slide_type": "slide"
    }
   },
   "source": [
    "# Numpy"
   ]
  },
  {
   "cell_type": "markdown",
   "id": "c0d6a8f5",
   "metadata": {
    "slideshow": {
     "slide_type": "slide"
    }
   },
   "source": [
    "### Arreglos de dos dimensiones"
   ]
  },
  {
   "cell_type": "markdown",
   "id": "235ea6ca",
   "metadata": {
    "slideshow": {
     "slide_type": "slide"
    }
   },
   "source": [
    "Los arreglos son conjuntos de datos organizados que pueden ser de una o múltiples dimensiones. "
   ]
  },
  {
   "cell_type": "markdown",
   "id": "6caf796f",
   "metadata": {
    "slideshow": {
     "slide_type": "slide"
    }
   },
   "source": [
    "Para acceder a estos es se recurre al módulo `numpy` o Python numérico, con el cual se tendrá una forma de crear los arreglos necesarios a la hora de organizar datos en un “dataframe” (tabla de datos). "
   ]
  },
  {
   "cell_type": "markdown",
   "id": "a71f0a96",
   "metadata": {
    "slideshow": {
     "slide_type": "slide"
    }
   },
   "source": [
    "Los arreglos se crean a partir de una lista de números como argumento."
   ]
  },
  {
   "cell_type": "code",
   "execution_count": 26,
   "id": "3891a173",
   "metadata": {
    "slideshow": {
     "slide_type": "slide"
    }
   },
   "outputs": [],
   "source": [
    "import numpy as np   # importación de librería"
   ]
  },
  {
   "cell_type": "code",
   "execution_count": 27,
   "id": "6a01b968",
   "metadata": {
    "slideshow": {
     "slide_type": "slide"
    }
   },
   "outputs": [],
   "source": [
    "x=[1,3,5,7,9]     # creación de dos listas \n",
    "y=[0,2,4,6,8]"
   ]
  },
  {
   "cell_type": "code",
   "execution_count": 29,
   "id": "b9f02c2c",
   "metadata": {
    "slideshow": {
     "slide_type": "slide"
    }
   },
   "outputs": [
    {
     "data": {
      "text/plain": [
       "array([[1, 3, 5, 7, 9],\n",
       "       [0, 2, 4, 6, 8]])"
      ]
     },
     "execution_count": 29,
     "metadata": {},
     "output_type": "execute_result"
    }
   ],
   "source": [
    "A = np.array([x,y])   # creación de un arreglo de numpy o matriz de numpy \n",
    "A "
   ]
  },
  {
   "cell_type": "markdown",
   "id": "3485e307",
   "metadata": {
    "slideshow": {
     "slide_type": "slide"
    }
   },
   "source": [
    "Utilizando la función `transpose()` se puede transponer el arreglo para obtener las filas como columnas o desde el arreglo con el atributo.”T”."
   ]
  },
  {
   "cell_type": "code",
   "execution_count": null,
   "id": "8f2c78dd",
   "metadata": {
    "slideshow": {
     "slide_type": "slide"
    }
   },
   "outputs": [],
   "source": [
    "np.transpose(matrix_numpy) "
   ]
  },
  {
   "cell_type": "markdown",
   "id": "3b615a9b",
   "metadata": {
    "slideshow": {
     "slide_type": "slide"
    }
   },
   "source": [
    "### Ejemplo: Traspuesta de una matriz mediante el atributo .”T”.\n"
   ]
  },
  {
   "cell_type": "code",
   "execution_count": 30,
   "id": "35bb7497",
   "metadata": {
    "slideshow": {
     "slide_type": "slide"
    }
   },
   "outputs": [
    {
     "data": {
      "text/plain": [
       "array([[1, 0],\n",
       "       [3, 2],\n",
       "       [5, 4],\n",
       "       [7, 6],\n",
       "       [9, 8]])"
      ]
     },
     "execution_count": 30,
     "metadata": {},
     "output_type": "execute_result"
    }
   ],
   "source": [
    "A.T "
   ]
  },
  {
   "cell_type": "markdown",
   "id": "ec4bb67d",
   "metadata": {
    "slideshow": {
     "slide_type": "slide"
    }
   },
   "source": [
    "## Dimensión y forma de una matriz"
   ]
  },
  {
   "cell_type": "code",
   "execution_count": 31,
   "id": "75d1e325",
   "metadata": {
    "slideshow": {
     "slide_type": "slide"
    }
   },
   "outputs": [
    {
     "data": {
      "text/plain": [
       "2"
      ]
     },
     "execution_count": 31,
     "metadata": {},
     "output_type": "execute_result"
    }
   ],
   "source": [
    "A.ndim"
   ]
  },
  {
   "cell_type": "code",
   "execution_count": 33,
   "id": "85faed01",
   "metadata": {
    "slideshow": {
     "slide_type": "slide"
    }
   },
   "outputs": [
    {
     "data": {
      "text/plain": [
       "(2, 5)"
      ]
     },
     "execution_count": 33,
     "metadata": {},
     "output_type": "execute_result"
    }
   ],
   "source": [
    "A.shape"
   ]
  },
  {
   "cell_type": "markdown",
   "id": "4de1ad3d",
   "metadata": {
    "slideshow": {
     "slide_type": "slide"
    }
   },
   "source": [
    "Para cambiar las dimensiones de la matriz sin que cambien sus datos, se puede utilizar el método `.reshape()` contenido en los arreglos “numpy.ndarray” colocando como argumento las dimensiones a las que se quiere cambiar el arreglo. "
   ]
  },
  {
   "cell_type": "markdown",
   "id": "8daf50f1",
   "metadata": {
    "slideshow": {
     "slide_type": "slide"
    }
   },
   "source": [
    "En la siguiente figura el arreglo resultante tiene dimensiones 1x10:"
   ]
  },
  {
   "cell_type": "markdown",
   "id": "8f1803a0",
   "metadata": {
    "slideshow": {
     "slide_type": "slide"
    }
   },
   "source": [
    "### Ejemplo: Arreglo transformado a dimensiones 1x8."
   ]
  },
  {
   "cell_type": "code",
   "execution_count": null,
   "id": "4b92d49d",
   "metadata": {
    "slideshow": {
     "slide_type": "slide"
    }
   },
   "outputs": [],
   "source": [
    "matrix_numpy.reshape(1,10)"
   ]
  },
  {
   "cell_type": "code",
   "execution_count": null,
   "id": "57521bba",
   "metadata": {
    "slideshow": {
     "slide_type": "slide"
    }
   },
   "outputs": [],
   "source": [
    "matrix_numpy.ravel() "
   ]
  },
  {
   "cell_type": "markdown",
   "id": "de4c48a1",
   "metadata": {
    "slideshow": {
     "slide_type": "slide"
    }
   },
   "source": [
    "Con los arreglos se pueden realizar operaciones del algebra lineal como las de la siguiente tabla y se muestran con imágenes ejemplos de estas"
   ]
  },
  {
   "cell_type": "markdown",
   "id": "90dad82e",
   "metadata": {
    "slideshow": {
     "slide_type": "slide"
    }
   },
   "source": [
    "|Sumas o restas (las matrices deben ser del mismo tamaño)|+ ó -|\n",
    "|-|-|  \n",
    "|Multiplicación por elemento| * |  \n",
    "|Multiplicación matricial| @ ó A.dot(B)|  \n",
    "|Multiplicación por escalar $\\alpha$| $\\alpha*A$ |\n",
    "|Matriz idéntica| numpy.identity(n)|\n",
    "|Matriz inversa| numpy.linalg.inv(A)|\n",
    "|Determinante de una matriz| numpy.linalg.det(A)|\n",
    "|Solución a un sistema de ecuaciones lineales (solo matrices cuadradas)| numpy.linalg.solve(A,b)|\n",
    "|Potenciación de matriz cuadrada| numpy.linalg.matrix_power(A,n)|"
   ]
  },
  {
   "cell_type": "markdown",
   "id": "27ab8f53",
   "metadata": {
    "slideshow": {
     "slide_type": "slide"
    }
   },
   "source": [
    "Suponga la creacion de los siguientes arreglos. "
   ]
  },
  {
   "cell_type": "markdown",
   "id": "195dfa46",
   "metadata": {
    "slideshow": {
     "slide_type": "slide"
    }
   },
   "source": [
    "Se aplicarán las operaciones mencionadas en la tabla anterior como ejemplo:"
   ]
  },
  {
   "cell_type": "code",
   "execution_count": null,
   "id": "899f7ef7",
   "metadata": {
    "slideshow": {
     "slide_type": "slide"
    }
   },
   "outputs": [],
   "source": [
    "import numpy as np \n",
    "A = np.array([[2,3,5],[5,8,7],[3,2,1]])\n",
    "B = np.array([[4,3,2],[6,2,7],[1,1,1]])"
   ]
  },
  {
   "cell_type": "markdown",
   "id": "43640842",
   "metadata": {
    "slideshow": {
     "slide_type": "slide"
    }
   },
   "source": [
    "### Ejemplo de suma de matrices."
   ]
  },
  {
   "cell_type": "code",
   "execution_count": null,
   "id": "b6396c11",
   "metadata": {
    "slideshow": {
     "slide_type": "slide"
    }
   },
   "outputs": [],
   "source": [
    "A+B"
   ]
  },
  {
   "cell_type": "markdown",
   "id": "59ff6769",
   "metadata": {
    "slideshow": {
     "slide_type": "slide"
    }
   },
   "source": [
    "### Ejemplo de una resta de matrices."
   ]
  },
  {
   "cell_type": "code",
   "execution_count": null,
   "id": "9d7cb692",
   "metadata": {
    "slideshow": {
     "slide_type": "slide"
    }
   },
   "outputs": [],
   "source": [
    "A-B"
   ]
  },
  {
   "cell_type": "markdown",
   "id": "19a18487",
   "metadata": {
    "slideshow": {
     "slide_type": "slide"
    }
   },
   "source": [
    "### Ejemplo de una multiplicación por elementos.\n"
   ]
  },
  {
   "cell_type": "code",
   "execution_count": null,
   "id": "2e6dc900",
   "metadata": {
    "slideshow": {
     "slide_type": "slide"
    }
   },
   "outputs": [],
   "source": [
    "print(A)  \n",
    "print(B)  \n",
    "print(A*B)  "
   ]
  },
  {
   "cell_type": "markdown",
   "id": "384b5f93",
   "metadata": {
    "slideshow": {
     "slide_type": "slide"
    }
   },
   "source": [
    "### Ejemplos de multiplicación matricial."
   ]
  },
  {
   "cell_type": "code",
   "execution_count": null,
   "id": "9eaa5c38",
   "metadata": {
    "slideshow": {
     "slide_type": "slide"
    }
   },
   "outputs": [],
   "source": [
    "A @ B"
   ]
  },
  {
   "cell_type": "code",
   "execution_count": null,
   "id": "7df50238",
   "metadata": {
    "slideshow": {
     "slide_type": "slide"
    }
   },
   "outputs": [],
   "source": [
    "A.dot(B)"
   ]
  },
  {
   "cell_type": "markdown",
   "id": "3d1c824a",
   "metadata": {
    "slideshow": {
     "slide_type": "slide"
    }
   },
   "source": [
    "### Ejemplo de multiplicación por escalar.\n"
   ]
  },
  {
   "cell_type": "code",
   "execution_count": null,
   "id": "183c84ca",
   "metadata": {
    "slideshow": {
     "slide_type": "slide"
    }
   },
   "outputs": [],
   "source": [
    "(1/2)*A"
   ]
  },
  {
   "cell_type": "markdown",
   "id": "ae868326",
   "metadata": {
    "slideshow": {
     "slide_type": "slide"
    }
   },
   "source": [
    "### Creación de una matriz idéntica de tamaño 3x3."
   ]
  },
  {
   "cell_type": "code",
   "execution_count": null,
   "id": "0fc44ca2",
   "metadata": {
    "slideshow": {
     "slide_type": "slide"
    }
   },
   "outputs": [],
   "source": [
    "np.identity(3)"
   ]
  },
  {
   "cell_type": "markdown",
   "id": "10e374e9",
   "metadata": {
    "slideshow": {
     "slide_type": "slide"
    }
   },
   "source": [
    "### Inversa de una matriz.\n"
   ]
  },
  {
   "cell_type": "code",
   "execution_count": null,
   "id": "24f307ef",
   "metadata": {
    "slideshow": {
     "slide_type": "slide"
    }
   },
   "outputs": [],
   "source": [
    "np.linalg.inv(A)"
   ]
  },
  {
   "cell_type": "markdown",
   "id": "e47526a1",
   "metadata": {
    "slideshow": {
     "slide_type": "slide"
    }
   },
   "source": [
    "### Ejemplo Determinante de una matriz."
   ]
  },
  {
   "cell_type": "code",
   "execution_count": null,
   "id": "d7a87df7",
   "metadata": {
    "slideshow": {
     "slide_type": "slide"
    }
   },
   "outputs": [],
   "source": [
    "np.linalg.det(A)"
   ]
  },
  {
   "cell_type": "markdown",
   "id": "4002bcb7",
   "metadata": {
    "slideshow": {
     "slide_type": "slide"
    }
   },
   "source": [
    "### Solución a un sistema de ecuaciones lineales.\n"
   ]
  },
  {
   "cell_type": "code",
   "execution_count": null,
   "id": "47451e93",
   "metadata": {
    "slideshow": {
     "slide_type": "slide"
    }
   },
   "outputs": [],
   "source": [
    "C = np.array([[3,-2,5],[-2,6,1],[1,4,-3]]) \n",
    "b = np.array([64,-13,-30])"
   ]
  },
  {
   "cell_type": "code",
   "execution_count": null,
   "id": "c2e15ea6",
   "metadata": {
    "slideshow": {
     "slide_type": "slide"
    }
   },
   "outputs": [],
   "source": [
    "np.linalg.solve(C,b)"
   ]
  },
  {
   "cell_type": "markdown",
   "id": "6146d3e1",
   "metadata": {
    "slideshow": {
     "slide_type": "slide"
    }
   },
   "source": [
    "### Potenciación de una matriz."
   ]
  },
  {
   "cell_type": "code",
   "execution_count": null,
   "id": "91bf8473",
   "metadata": {
    "slideshow": {
     "slide_type": "slide"
    }
   },
   "outputs": [],
   "source": [
    "np.linalg.matrix_power(A,3)"
   ]
  },
  {
   "cell_type": "code",
   "execution_count": null,
   "id": "62d94aec",
   "metadata": {
    "slideshow": {
     "slide_type": "slide"
    }
   },
   "outputs": [],
   "source": []
  },
  {
   "cell_type": "markdown",
   "id": "ce29f51b",
   "metadata": {
    "slideshow": {
     "slide_type": "slide"
    }
   },
   "source": [
    "# Matplotlib"
   ]
  },
  {
   "cell_type": "code",
   "execution_count": null,
   "id": "94654dda",
   "metadata": {
    "slideshow": {
     "slide_type": "slide"
    }
   },
   "outputs": [],
   "source": [
    "from matplotlib import pyplot as plt \n",
    "fig,ax = plt.subplots()\n",
    "# cuadrado\n",
    "p1=[0,0]\n",
    "p2=[1,0]\n",
    "p3=[1,1]\n",
    "p4=[0,1]\n",
    "\n",
    "x=list(zip(p1,p2,p3,p4,p1))[0]\n",
    "y=list(zip(p1,p2,p3,p4,p1))[1]\n",
    "\n",
    "ax.plot(x,y) "
   ]
  },
  {
   "cell_type": "code",
   "execution_count": null,
   "id": "01aa691d",
   "metadata": {},
   "outputs": [],
   "source": [
    "x=list(zip(p1,p2,p3,p4,p1))\n",
    "x[0] "
   ]
  },
  {
   "cell_type": "markdown",
   "id": "c5209fb0",
   "metadata": {
    "slideshow": {
     "slide_type": "slide"
    }
   },
   "source": [
    "# Pandas "
   ]
  },
  {
   "cell_type": "markdown",
   "id": "6c8d6802",
   "metadata": {
    "slideshow": {
     "slide_type": "slide"
    }
   },
   "source": [
    "## 2.Capítulo 2. Tablas de datos"
   ]
  },
  {
   "cell_type": "markdown",
   "id": "c451e570",
   "metadata": {
    "slideshow": {
     "slide_type": "slide"
    }
   },
   "source": [
    "Las tablas de datos son la forma más común de organizar los datos en forma de matrices para posteriormente tratarlos. "
   ]
  },
  {
   "cell_type": "markdown",
   "id": "7ec70945",
   "metadata": {
    "slideshow": {
     "slide_type": "slide"
    }
   },
   "source": [
    "Cuando los conjuntos de datos se convierten en una tabla de datos, a partir del uso del uno de los módulos de Python conocido como pandas, se dispone de un objeto - con valiosos métodos - que facilitan el tratamiento y aplicación de funciones a los datos para analizarlos, para obtener información relevante de gran ayuda para la toma de decisiones."
   ]
  },
  {
   "cell_type": "markdown",
   "id": "9d863e03",
   "metadata": {
    "slideshow": {
     "slide_type": "slide"
    }
   },
   "source": [
    "En este capítulo se mostrará como:\n",
    "\n",
    "* Importar el módulo pandas para trabajar tablas de datos.\n",
    "* Crear tablas de datos.\n",
    "* Importar tablas de datos.\n",
    "* Visualizar tablas de datos.\n",
    "* Modificar la forma y los elementos de las tablas de datos.\n",
    "* Filtrar y ordenar tablas de datos.\n"
   ]
  },
  {
   "cell_type": "markdown",
   "id": "d1ede557",
   "metadata": {
    "slideshow": {
     "slide_type": "slide"
    }
   },
   "source": [
    "## 2.1 Obtención de tablas de datos"
   ]
  },
  {
   "cell_type": "markdown",
   "id": "67732dc8",
   "metadata": {
    "slideshow": {
     "slide_type": "slide"
    }
   },
   "source": [
    "Dos de las formas de disponer de tablas de datos son:\n",
    "\n",
    "* crear una tabla de datos o importarla desde un ”dataset” (conjunto de datos) proveniente de un archivo externo. \n",
    "* El módulo pandas está equipado con varias funciones para importar diferentes tipos de archivos. \n",
    "* En esta guía se importarán archivos CSV (Comma-separated values), JSON y EXCEL."
   ]
  },
  {
   "cell_type": "markdown",
   "id": "966e45ed",
   "metadata": {
    "slideshow": {
     "slide_type": "slide"
    }
   },
   "source": [
    "### 2.1.1 Creación de tablas de datos"
   ]
  },
  {
   "cell_type": "markdown",
   "id": "ac83c857",
   "metadata": {
    "slideshow": {
     "slide_type": "slide"
    }
   },
   "source": [
    "Una vez se tenga un arreglo o una variable de tipo diccionario, estos pueden ser convertidos en tabla de datos que son la forma estándar de manejar, de organizar datos en Python. "
   ]
  },
  {
   "cell_type": "markdown",
   "id": "17f3a6d5",
   "metadata": {
    "slideshow": {
     "slide_type": "slide"
    }
   },
   "source": [
    "Para ello se necesita la librería pandas que contiene este tipo de objeto y además facilita la importación de datos. "
   ]
  },
  {
   "cell_type": "markdown",
   "id": "988f9390",
   "metadata": {
    "slideshow": {
     "slide_type": "slide"
    }
   },
   "source": [
    "Todos los objetos clases y métodos del módulo pandas pueden encontrarse en el siguiente link:\n",
    "https://pandas.pydata.org/pandas-docs/stable/reference/index.html."
   ]
  },
  {
   "cell_type": "markdown",
   "id": "1f591cbc",
   "metadata": {
    "slideshow": {
     "slide_type": "slide"
    }
   },
   "source": [
    "Importación del módulo “pandas”."
   ]
  },
  {
   "cell_type": "code",
   "execution_count": null,
   "id": "01941979",
   "metadata": {
    "slideshow": {
     "slide_type": "slide"
    }
   },
   "outputs": [],
   "source": [
    "import pandas as pd "
   ]
  },
  {
   "cell_type": "markdown",
   "id": "aa67e053",
   "metadata": {
    "slideshow": {
     "slide_type": "slide"
    }
   },
   "source": [
    "Suponga que se va a crear una tabla de datos utilizando una variable tipo de tipo diccionario llamada “datos”, en la cual las llaves corresponderán a los nombres de las columnas o variables y que comprenden cada una de las listas que se crean a \n",
    "continuación:"
   ]
  },
  {
   "cell_type": "markdown",
   "id": "a1ea9290",
   "metadata": {
    "slideshow": {
     "slide_type": "slide"
    }
   },
   "source": [
    " ### Creación de una variable “dict” a partir de listas."
   ]
  },
  {
   "cell_type": "code",
   "execution_count": null,
   "id": "a8648f79",
   "metadata": {
    "slideshow": {
     "slide_type": "slide"
    }
   },
   "outputs": [],
   "source": [
    "import numpy as np \n",
    "edad = [26,46]\n",
    "sexo = ['M','M']\n",
    "ingreso = [687855, 1240000]\n",
    "\n",
    "datos = {'Edad':edad, 'Sexo':sexo, 'Ingreso':ingreso}"
   ]
  },
  {
   "cell_type": "code",
   "execution_count": null,
   "id": "fbf2424d",
   "metadata": {
    "slideshow": {
     "slide_type": "slide"
    }
   },
   "outputs": [],
   "source": [
    "datos "
   ]
  },
  {
   "cell_type": "markdown",
   "id": "9d2b3480",
   "metadata": {
    "slideshow": {
     "slide_type": "slide"
    }
   },
   "source": [
    "Se utilizará la librería pandas para crear una tabla de datos mediante la clase “DataFrame”\n",
    "a la que se le llamará “tabla” a partir del diccionario creado anteriormente:"
   ]
  },
  {
   "cell_type": "markdown",
   "id": "fde8b3ad",
   "metadata": {
    "slideshow": {
     "slide_type": "slide"
    }
   },
   "source": [
    "### Ejemplo: Creación de una tabla de datos pandas a partir del diccionario \"datos\"."
   ]
  },
  {
   "cell_type": "code",
   "execution_count": null,
   "id": "5d2fde95",
   "metadata": {
    "slideshow": {
     "slide_type": "slide"
    }
   },
   "outputs": [],
   "source": [
    "import pandas as pd \n",
    "df = pd.DataFrame(datos)\n",
    "df"
   ]
  },
  {
   "cell_type": "markdown",
   "id": "e05a7c92",
   "metadata": {
    "slideshow": {
     "slide_type": "slide"
    }
   },
   "source": [
    "Es fundamental utilizar la función “dir” para conocer funciones, atributos y métodos que sirven para modificar la tabla de datos. "
   ]
  },
  {
   "cell_type": "markdown",
   "id": "fa70de55",
   "metadata": {
    "slideshow": {
     "slide_type": "slide"
    }
   },
   "source": [
    "Por ejemplo: se pueden cambiar los nombres de las columnas desde el atributo “columns” de la tabla de datos. Debido a que las columnas son inmutables al ser de tipo “index”, se tiene que crear una nueva lista con los nombres de las columnas y asignar el atributo “columns” de la tabla de datos la lista creada"
   ]
  },
  {
   "cell_type": "code",
   "execution_count": null,
   "id": "d228bdff",
   "metadata": {
    "slideshow": {
     "slide_type": "slide"
    }
   },
   "outputs": [],
   "source": [
    "dir(df)"
   ]
  },
  {
   "cell_type": "markdown",
   "id": "21c5c59c",
   "metadata": {
    "slideshow": {
     "slide_type": "slide"
    }
   },
   "source": [
    "### Ejemplo: Reemplazo de los nombres de las columnas de la tabla de datos."
   ]
  },
  {
   "cell_type": "code",
   "execution_count": null,
   "id": "a5425a89",
   "metadata": {
    "slideshow": {
     "slide_type": "slide"
    }
   },
   "outputs": [],
   "source": [
    "df.columns = ['Edad','Sexo','Sueldo']"
   ]
  },
  {
   "cell_type": "code",
   "execution_count": null,
   "id": "f871487c",
   "metadata": {
    "slideshow": {
     "slide_type": "slide"
    }
   },
   "outputs": [],
   "source": [
    "df"
   ]
  },
  {
   "cell_type": "markdown",
   "id": "4348ca08",
   "metadata": {
    "slideshow": {
     "slide_type": "slide"
    }
   },
   "source": [
    "Con este resultado ya se tiene la principal estructura de datos de la librería pandas, la cual se puede manipular para obtener información a partir de los datos que contiene."
   ]
  },
  {
   "cell_type": "markdown",
   "id": "b42ec749",
   "metadata": {
    "slideshow": {
     "slide_type": "slide"
    }
   },
   "source": [
    "Los datos generalmente provienen de sistemas que capturan datos y los guardan en formatos específicos. "
   ]
  },
  {
   "cell_type": "markdown",
   "id": "91f1c423",
   "metadata": {
    "slideshow": {
     "slide_type": "slide"
    }
   },
   "source": [
    "La importación de datos permite trabajar con datos generados por otros agentes reduciendo sustancialmente el tiempo empleado para disponer de una tabla de datos. "
   ]
  },
  {
   "cell_type": "markdown",
   "id": "fe03f64f",
   "metadata": {
    "slideshow": {
     "slide_type": "slide"
    }
   },
   "source": [
    "Existen muchos tipos de archivos externos que contienen datos, los más relevantes podrían ser aquellos provenientes de bases de datos."
   ]
  },
  {
   "cell_type": "markdown",
   "id": "4a31d8f8",
   "metadata": {
    "slideshow": {
     "slide_type": "slide"
    }
   },
   "source": [
    "## 2.1.2 Importación de datos desde direcciones de internet"
   ]
  },
  {
   "cell_type": "markdown",
   "id": "a2fa37aa",
   "metadata": {},
   "source": [
    "Python dispone de varias funciones en la librería pandas que permiten leer diferentes tipos \n",
    "de archivos. Las funciones que llevan a cabo estas tareas se caracterizan porque se \n",
    "escriben como “pandas.read” seguido de un guion bajo y luego el tipo de archivo a leer."
   ]
  },
  {
   "cell_type": "code",
   "execution_count": null,
   "id": "8a46c825",
   "metadata": {},
   "outputs": [],
   "source": []
  },
  {
   "cell_type": "code",
   "execution_count": null,
   "id": "6dd65709",
   "metadata": {},
   "outputs": [],
   "source": []
  },
  {
   "cell_type": "markdown",
   "id": "1b7bba0a",
   "metadata": {
    "slideshow": {
     "slide_type": "slide"
    }
   },
   "source": [
    "# Classes and objects\n"
   ]
  },
  {
   "cell_type": "markdown",
   "id": "138b46e7",
   "metadata": {
    "slideshow": {
     "slide_type": "slide"
    }
   },
   "source": [
    "### 15.1 Tipos definidos por el usuario"
   ]
  },
  {
   "cell_type": "markdown",
   "id": "6518c182",
   "metadata": {},
   "source": [
    "Hemos utilizado muchos de los tipos integrados de Python; ahora vamos a definir un nuevo tipo. "
   ]
  },
  {
   "cell_type": "markdown",
   "id": "18cabc3b",
   "metadata": {},
   "source": [
    "Como ejemplo, crearemos un tipo llamado `Punto` que representa un punto en un espacio bidimensional."
   ]
  },
  {
   "cell_type": "markdown",
   "id": "72f37416",
   "metadata": {
    "slideshow": {
     "slide_type": "slide"
    }
   },
   "source": [
    "En notación matemática, los puntos a menudo se escriben entre paréntesis con una coma que separa las coordenadas."
   ]
  },
  {
   "cell_type": "markdown",
   "id": "4825a4ff",
   "metadata": {},
   "source": [
    "Por ejemplo, (0, 0) representa el origen y (x, y) representa el punto x unidades a la derecha e y unidades hacia arriba desde el origen."
   ]
  },
  {
   "cell_type": "markdown",
   "id": "3e93f54a",
   "metadata": {
    "slideshow": {
     "slide_type": "slide"
    }
   },
   "source": [
    "Hay varias formas en que podemos representar puntos en Python:"
   ]
  },
  {
   "cell_type": "markdown",
   "id": "5c8ebd49",
   "metadata": {},
   "source": [
    "* Podríamos almacenar las coordenadas por separado en dos variables, x e y.\n",
    "\n",
    "* Podríamos almacenar las coordenadas como elementos en una lista o tupla.\n",
    "\n",
    "* Podríamos crear un nuevo tipo para representar puntos como objetos."
   ]
  },
  {
   "cell_type": "markdown",
   "id": "9a296884",
   "metadata": {
    "slideshow": {
     "slide_type": "slide"
    }
   },
   "source": [
    "Crear un nuevo tipo es (un poco) más complicado que las otras opciones, pero tiene ventajas que pronto serán evidentes."
   ]
  },
  {
   "cell_type": "markdown",
   "id": "85f76477",
   "metadata": {
    "slideshow": {
     "slide_type": "slide"
    }
   },
   "source": [
    "Un tipo definido por el usuario también se denomina clase. Una definición de clase se ve así:"
   ]
  },
  {
   "cell_type": "markdown",
   "id": "e97cb14d",
   "metadata": {
    "slideshow": {
     "slide_type": "slide"
    }
   },
   "source": [
    "```python\n",
    "class Point():\n",
    "    \"\" \"Representa un punto en el espacio 2-D.\" \"\"\n",
    "```    "
   ]
  },
  {
   "cell_type": "code",
   "execution_count": null,
   "id": "44b71b83",
   "metadata": {
    "slideshow": {
     "slide_type": "slide"
    }
   },
   "outputs": [],
   "source": [
    "class Point():\n",
    "    pass "
   ]
  },
  {
   "cell_type": "markdown",
   "id": "9db601e9",
   "metadata": {
    "slideshow": {
     "slide_type": "slide"
    }
   },
   "source": [
    "Este encabezado indica que la nueva clase es un punto, que es un tipo de objeto, que es un tipo integrado."
   ]
  },
  {
   "cell_type": "markdown",
   "id": "0ce35e0a",
   "metadata": {
    "slideshow": {
     "slide_type": "slide"
    }
   },
   "source": [
    "El cuerpo es una cadena de documentos que explica para qué sirve la clase. "
   ]
  },
  {
   "cell_type": "markdown",
   "id": "0103c272",
   "metadata": {
    "slideshow": {
     "slide_type": "slide"
    }
   },
   "source": [
    "Puede definir variables y funciones dentro de una definición de clase, pero volveremos a eso más adelante."
   ]
  },
  {
   "cell_type": "markdown",
   "id": "7b83d7fd",
   "metadata": {
    "slideshow": {
     "slide_type": "slide"
    }
   },
   "source": [
    "La definición de una clase llamada `Point` crea un objeto de clase"
   ]
  },
  {
   "cell_type": "code",
   "execution_count": null,
   "id": "1037c611",
   "metadata": {
    "slideshow": {
     "slide_type": "slide"
    }
   },
   "outputs": [],
   "source": [
    "print(Point) "
   ]
  },
  {
   "cell_type": "markdown",
   "id": "3aba6281",
   "metadata": {
    "slideshow": {
     "slide_type": "slide"
    }
   },
   "source": [
    "Because `Point` is defined at the top level, its “full name” is `__main__.Point`."
   ]
  },
  {
   "cell_type": "markdown",
   "id": "f7a6d778",
   "metadata": {
    "slideshow": {
     "slide_type": "slide"
    }
   },
   "source": [
    "The class object is like a factory for creating objects. To create a Point, you call Point as if it were a function."
   ]
  },
  {
   "cell_type": "code",
   "execution_count": null,
   "id": "af3fe6f0",
   "metadata": {
    "slideshow": {
     "slide_type": "slide"
    }
   },
   "outputs": [],
   "source": [
    "blank = Point()"
   ]
  },
  {
   "cell_type": "code",
   "execution_count": null,
   "id": "c549596e",
   "metadata": {
    "slideshow": {
     "slide_type": "slide"
    }
   },
   "outputs": [],
   "source": [
    "print(blank) "
   ]
  },
  {
   "cell_type": "markdown",
   "id": "9b0905c1",
   "metadata": {
    "slideshow": {
     "slide_type": "slide"
    }
   },
   "source": [
    "The return value is a reference to a `Point` object, which we assign to `blank`. "
   ]
  },
  {
   "cell_type": "markdown",
   "id": "e79c0cce",
   "metadata": {
    "slideshow": {
     "slide_type": "slide"
    }
   },
   "source": [
    "Creating a new object is called instantiation, and the object is an instance of the class."
   ]
  },
  {
   "cell_type": "markdown",
   "id": "ed3bcf26",
   "metadata": {
    "slideshow": {
     "slide_type": "slide"
    }
   },
   "source": [
    "When you print an instance, Python tells you what class it belongs to and where it is stored in memory (the prefix 0x means that the following number is in hexadecimal)."
   ]
  },
  {
   "cell_type": "markdown",
   "id": "16151d79",
   "metadata": {
    "slideshow": {
     "slide_type": "slide"
    }
   },
   "source": []
  },
  {
   "cell_type": "markdown",
   "id": "2c389dba",
   "metadata": {
    "slideshow": {
     "slide_type": "slide"
    }
   },
   "source": [
    "# Observaciones "
   ]
  },
  {
   "cell_type": "code",
   "execution_count": null,
   "id": "6dfbcbc9",
   "metadata": {
    "slideshow": {
     "slide_type": "slide"
    }
   },
   "outputs": [],
   "source": [
    "#Ejercicio para carlcular distancia entre diferentes puntos\n",
    "\n",
    "punto1 = [100,228]\n",
    "punto2 = [15,38]\n",
    "punto3 = [26,41]\n",
    "punto4 = [38,87]\n",
    "punto5 = [55,4]\n",
    "\n",
    "lista_de_puntos = [punto1, punto2, punto3, punto4, punto5]"
   ]
  },
  {
   "cell_type": "code",
   "execution_count": null,
   "id": "b22f845f",
   "metadata": {},
   "outputs": [],
   "source": [
    "lista_de_puntos.index(punto5)"
   ]
  },
  {
   "cell_type": "code",
   "execution_count": null,
   "id": "86ca5978",
   "metadata": {
    "slideshow": {
     "slide_type": "slide"
    }
   },
   "outputs": [],
   "source": [
    "from math import sqrt"
   ]
  },
  {
   "cell_type": "code",
   "execution_count": null,
   "id": "8f101f53",
   "metadata": {
    "slideshow": {
     "slide_type": "slide"
    }
   },
   "outputs": [],
   "source": [
    "def el_punto_mas_cercano(lista_de_puntos):\n",
    "    #Ecuacion de distancia entre dos puntos\n",
    "    punto1, punto2, punto3, punto4, punto5 = lista_de_puntos\n",
    "    distancia1con2 = sqrt( ((punto1[0]-punto2[0])**2)+((punto1[1]-punto2[1])**2) )\n",
    "    distancia1con3 = sqrt( ((punto1[0]-punto3[0])**2)+((punto1[1]-punto3[1])**2) )\n",
    "    distancia1con4 = sqrt( ((punto1[0]-punto4[0])**2)+((punto1[1]-punto4[1])**2) )\n",
    "    distancia1con5 = sqrt( ((punto1[0]-punto5[0])**2)+((punto1[1]-punto5[1])**2) )\n",
    "    list_de_distancias = [distancia1con2,distancia1con3,distancia1con4,distancia1con5]\n",
    "    distancia_minima = min(list_de_distancias)\n",
    "    indice_distancia_minima = list_de_distancias.index(distancia_minima)\n",
    "    punto_mas_cercano = lista_de_puntos[indice_distancia_minima+1]\n",
    "    return  punto_mas_cercano "
   ]
  },
  {
   "cell_type": "code",
   "execution_count": null,
   "id": "d8d68d00",
   "metadata": {
    "slideshow": {
     "slide_type": "slide"
    }
   },
   "outputs": [],
   "source": [
    "el_punto_mas_cercano(lista_de_puntos)"
   ]
  },
  {
   "cell_type": "code",
   "execution_count": null,
   "id": "ce2e82f8",
   "metadata": {
    "slideshow": {
     "slide_type": "slide"
    }
   },
   "outputs": [],
   "source": [
    "#Ecuacion de distancia entre dos puntos\n",
    "distancia1con2 = sqrt( ((punto1[0]-punto2[0])**2)+((punto1[1]-punto2[1])**2) )\n",
    "distancia1con3 = sqrt( ((punto1[0]-punto3[0])**2)+((punto1[1]-punto3[1])**2) )\n",
    "distancia1con4 = sqrt( ((punto1[0]-punto4[0])**2)+((punto1[1]-punto4[1])**2) )\n",
    "distancia1con5 = sqrt( ((punto1[0]-punto5[0])**2)+((punto1[1]-punto5[1])**2) )\n",
    "\n",
    "print (distancia1con2)\n",
    "print (distancia1con3)\n",
    "print (distancia1con4)\n",
    "print (distancia1con5)\n",
    "\n",
    "list = [distancia1con2,distancia1con3,distancia1con4,distancia1con5]\n",
    "number = list[0]\n",
    "\n",
    "for x in list:\n",
    "    if (number > x):\n",
    "        number = x\n",
    "print (\"La distancia menor es \", number)"
   ]
  },
  {
   "cell_type": "code",
   "execution_count": null,
   "id": "fafdbf04",
   "metadata": {},
   "outputs": [],
   "source": []
  },
  {
   "cell_type": "code",
   "execution_count": null,
   "id": "8abe7a49",
   "metadata": {},
   "outputs": [],
   "source": []
  },
  {
   "cell_type": "code",
   "execution_count": null,
   "id": "e9c44f0e",
   "metadata": {},
   "outputs": [],
   "source": []
  },
  {
   "cell_type": "code",
   "execution_count": null,
   "id": "f37539c1",
   "metadata": {},
   "outputs": [],
   "source": []
  },
  {
   "cell_type": "code",
   "execution_count": null,
   "id": "f47f7688",
   "metadata": {},
   "outputs": [],
   "source": []
  },
  {
   "cell_type": "code",
   "execution_count": null,
   "id": "850d88a3",
   "metadata": {},
   "outputs": [],
   "source": []
  }
 ],
 "metadata": {
  "celltoolbar": "Slideshow",
  "kernelspec": {
   "display_name": "Python 3",
   "language": "python",
   "name": "python3"
  },
  "language_info": {
   "codemirror_mode": {
    "name": "ipython",
    "version": 3
   },
   "file_extension": ".py",
   "mimetype": "text/x-python",
   "name": "python",
   "nbconvert_exporter": "python",
   "pygments_lexer": "ipython3",
   "version": "3.8.8"
  },
  "latex_envs": {
   "LaTeX_envs_menu_present": true,
   "autoclose": false,
   "autocomplete": false,
   "bibliofile": "biblio.bib",
   "cite_by": "apalike",
   "current_citInitial": 1,
   "eqLabelWithNumbers": true,
   "eqNumInitial": 1,
   "hotkeys": {
    "equation": "Ctrl-E",
    "itemize": "Ctrl-I"
   },
   "labels_anchors": false,
   "latex_user_defs": false,
   "report_style_numbering": false,
   "user_envs_cfg": false
  },
  "rise": {
   "enable_chalkboard": true,
   "theme": "sky",
   "transition": "zoom"
  }
 },
 "nbformat": 4,
 "nbformat_minor": 5
}
