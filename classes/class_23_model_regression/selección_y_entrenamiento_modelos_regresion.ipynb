{
 "cells": [
  {
   "cell_type": "markdown",
   "id": "a13a01c9",
   "metadata": {
    "slideshow": {
     "slide_type": "slide"
    }
   },
   "source": [
    "<table align=\"left\">\n",
    "  <td>\n",
    "    <a href=\"https://colab.research.google.com/github/marco-canas/Machine-Learning/blob/main/ML/classes/class_march_3/class_march_3.ipynb\" target=\"_parent\"><img src=\"https://colab.research.google.com/assets/colab-badge.svg\" alt=\"Open In Colab\"/></a>\n",
    "  </td>\n",
    "</table>"
   ]
  },
  {
   "cell_type": "markdown",
   "id": "0385f000",
   "metadata": {
    "slideshow": {
     "slide_type": "slide"
    }
   },
   "source": [
    "# Selección y entrenamiento de modelos de regresión"
   ]
  },
  {
   "cell_type": "markdown",
   "id": "646976df",
   "metadata": {
    "slideshow": {
     "slide_type": "slide"
    }
   },
   "source": [
    "## [Video de apoyo a la lectura]()"
   ]
  },
  {
   "cell_type": "markdown",
   "id": "27466b06",
   "metadata": {
    "slideshow": {
     "slide_type": "slide"
    }
   },
   "source": [
    "# Metodología"
   ]
  },
  {
   "cell_type": "markdown",
   "id": "5d1f96cb",
   "metadata": {
    "slideshow": {
     "slide_type": "slide"
    }
   },
   "source": [
    "1. Plantear bien la pregunta.\n",
    "   * ¿Regresión o clasificación?\n",
    "   * ¿Tipo de regresión y tipo de clasificación?"
   ]
  },
  {
   "cell_type": "markdown",
   "id": "ce4967d6",
   "metadata": {
    "slideshow": {
     "slide_type": "slide"
    }
   },
   "source": [
    "2. Exploración inicial.\n",
    "   * Indicar la fuente de dónde se toman los datos.\n",
    "   * Hacer explícita la función objetivo.\n",
    "   * Decir cuáles son los atributos (descripción breve de cada uno)\n",
    "   * Exploración tabular y gráfica de los datos."
   ]
  },
  {
   "cell_type": "code",
   "execution_count": null,
   "id": "582ad3a3",
   "metadata": {
    "slideshow": {
     "slide_type": "slide"
    }
   },
   "outputs": [],
   "source": [
    "import pandas as pd \n",
    "import numpy as np \n",
    "\n",
    "import matplotlib.pyplot as plt \n",
    "\n"
   ]
  },
  {
   "cell_type": "code",
   "execution_count": null,
   "id": "c7964962",
   "metadata": {
    "slideshow": {
     "slide_type": "slide"
    }
   },
   "outputs": [],
   "source": [
    "v = pd.read_csv('vivienda.csv') "
   ]
  },
  {
   "cell_type": "code",
   "execution_count": null,
   "id": "c31aa05f",
   "metadata": {
    "slideshow": {
     "slide_type": "slide"
    }
   },
   "outputs": [],
   "source": [
    "v.head(2)"
   ]
  },
  {
   "cell_type": "code",
   "execution_count": null,
   "id": "d8136684",
   "metadata": {
    "scrolled": true,
    "slideshow": {
     "slide_type": "slide"
    }
   },
   "outputs": [],
   "source": [
    "v.info() "
   ]
  },
  {
   "cell_type": "code",
   "execution_count": null,
   "id": "5df9a424",
   "metadata": {
    "slideshow": {
     "slide_type": "slide"
    }
   },
   "outputs": [],
   "source": [
    "v.proximidad.value_counts()"
   ]
  },
  {
   "cell_type": "code",
   "execution_count": null,
   "id": "937adfcc",
   "metadata": {
    "scrolled": true
   },
   "outputs": [],
   "source": [
    "v.describe() "
   ]
  },
  {
   "cell_type": "code",
   "execution_count": null,
   "id": "3d820d90",
   "metadata": {
    "scrolled": true
   },
   "outputs": [],
   "source": [
    "v.hist(figsize = (20,10))"
   ]
  },
  {
   "cell_type": "markdown",
   "id": "84ab7f7e",
   "metadata": {
    "slideshow": {
     "slide_type": "slide"
    }
   },
   "source": [
    "3. Preparar los datos para los algoritmos de aprendizaje.\n",
    "   * Hacer separación inicial de datos para entrenar y para testear.\n",
    "   * Llenar datos faltantes.\n",
    "   * Estandarizar los datos.\n",
    "   * Codificar las variables categóricas. "
   ]
  },
  {
   "cell_type": "code",
   "execution_count": null,
   "id": "40e288ae",
   "metadata": {},
   "outputs": [],
   "source": [
    "from sklearn.model_selection import train_test_split"
   ]
  },
  {
   "cell_type": "code",
   "execution_count": null,
   "id": "f2fc450a",
   "metadata": {},
   "outputs": [],
   "source": [
    "v_train,v_test = train_test_split(v, test_size = 0.2, random_state = 42) "
   ]
  },
  {
   "cell_type": "code",
   "execution_count": null,
   "id": "ee7bd76f",
   "metadata": {},
   "outputs": [],
   "source": [
    "v = v_train.drop('precio', axis = 1)\n",
    "v_labels = v_train.precio.values"
   ]
  },
  {
   "cell_type": "code",
   "execution_count": null,
   "id": "04220d4a",
   "metadata": {},
   "outputs": [],
   "source": [
    "from sklearn.impute import SimpleImputer"
   ]
  },
  {
   "cell_type": "code",
   "execution_count": null,
   "id": "90d3af9f",
   "metadata": {},
   "outputs": [],
   "source": [
    "from sklearn.preprocessing import StandardScaler"
   ]
  },
  {
   "cell_type": "code",
   "execution_count": null,
   "id": "f4a7b083",
   "metadata": {},
   "outputs": [],
   "source": [
    "from sklearn.preprocessing import OneHotEncoder "
   ]
  },
  {
   "cell_type": "markdown",
   "id": "78ebdba1",
   "metadata": {},
   "source": [
    "4. Preprocesamiento usando el concepto de pipeline "
   ]
  },
  {
   "cell_type": "code",
   "execution_count": null,
   "id": "7eecb3f5",
   "metadata": {},
   "outputs": [],
   "source": [
    "from sklearn.pipeline import Pipeline"
   ]
  },
  {
   "cell_type": "code",
   "execution_count": null,
   "id": "46f270b8",
   "metadata": {
    "slideshow": {
     "slide_type": "slide"
    }
   },
   "outputs": [],
   "source": [
    "from sklearn.compose import ColumnTransformer "
   ]
  },
  {
   "cell_type": "code",
   "execution_count": null,
   "id": "84df2227",
   "metadata": {
    "slideshow": {
     "slide_type": "slide"
    }
   },
   "outputs": [],
   "source": [
    "transformador_num = Pipeline([\n",
    "    ('imputar', SimpleImputer(strategy = 'median')),\n",
    "    ('estandarizar', StandardScaler() )\n",
    "])"
   ]
  },
  {
   "cell_type": "code",
   "execution_count": null,
   "id": "c9064ca0",
   "metadata": {
    "slideshow": {
     "slide_type": "slide"
    }
   },
   "outputs": [],
   "source": [
    "v_num = v.drop('proximidad', axis = 1) \n",
    "v_cat = v[['proximidad']] "
   ]
  },
  {
   "cell_type": "code",
   "execution_count": null,
   "id": "9f95668e",
   "metadata": {
    "slideshow": {
     "slide_type": "slide"
    }
   },
   "outputs": [],
   "source": [
    "lista_atributos_num = list(v_num.columns)\n",
    "lista_atributos_cat = list(v_cat.columns)"
   ]
  },
  {
   "cell_type": "code",
   "execution_count": null,
   "id": "3fda8fff",
   "metadata": {
    "slideshow": {
     "slide_type": "slide"
    }
   },
   "outputs": [],
   "source": [
    "transformador_total = ColumnTransformer([\n",
    "    ('num', transformador_num, lista_atributos_num),\n",
    "    ('cat', OneHotEncoder(), lista_atributos_cat)\n",
    "])"
   ]
  },
  {
   "cell_type": "code",
   "execution_count": null,
   "id": "38975157",
   "metadata": {
    "slideshow": {
     "slide_type": "slide"
    }
   },
   "outputs": [],
   "source": [
    "x_prep = transformador_total.fit_transform(v)"
   ]
  },
  {
   "cell_type": "code",
   "execution_count": null,
   "id": "0a687bbc",
   "metadata": {
    "slideshow": {
     "slide_type": "slide"
    }
   },
   "outputs": [],
   "source": [
    "type(x_prep)"
   ]
  },
  {
   "cell_type": "code",
   "execution_count": null,
   "id": "cb563865",
   "metadata": {
    "slideshow": {
     "slide_type": "slide"
    }
   },
   "outputs": [],
   "source": [
    "x_prep.shape[1]"
   ]
  },
  {
   "cell_type": "markdown",
   "id": "5f867a29",
   "metadata": {
    "slideshow": {
     "slide_type": "slide"
    }
   },
   "source": [
    "5. Entrenamiento y selección de modelo.\n",
    "   * Instanciar varios modelos y entrenarlos sobre datos de entrenamiento preparados.\n",
    "   * Medir el desempeño de varios modelos (comparativa, con la técnica de la validación cruzada)\n",
    "  "
   ]
  },
  {
   "cell_type": "code",
   "execution_count": null,
   "id": "c3d60ff4",
   "metadata": {
    "slideshow": {
     "slide_type": "slide"
    }
   },
   "outputs": [],
   "source": [
    "from sklearn.linear_model import LinearRegression "
   ]
  },
  {
   "cell_type": "code",
   "execution_count": null,
   "id": "ae4285d9",
   "metadata": {},
   "outputs": [],
   "source": [
    "from sklearn.tree import DecisionTreeRegressor "
   ]
  },
  {
   "cell_type": "code",
   "execution_count": null,
   "id": "ae4dc9e7",
   "metadata": {
    "slideshow": {
     "slide_type": "slide"
    }
   },
   "outputs": [],
   "source": [
    "from sklearn.ensemble import RandomForestRegressor "
   ]
  },
  {
   "cell_type": "code",
   "execution_count": null,
   "id": "2abb2b77",
   "metadata": {
    "slideshow": {
     "slide_type": "slide"
    }
   },
   "outputs": [],
   "source": [
    "regresor_lineal = LinearRegression()"
   ]
  },
  {
   "cell_type": "code",
   "execution_count": null,
   "id": "5d9ac53c",
   "metadata": {
    "slideshow": {
     "slide_type": "slide"
    }
   },
   "outputs": [],
   "source": [
    "regresor_lineal.fit(x_prep, v_labels)"
   ]
  },
  {
   "cell_type": "code",
   "execution_count": null,
   "id": "51eeff55",
   "metadata": {},
   "outputs": [],
   "source": [
    "primeros_cinco_distritos = x_prep[:5,:]"
   ]
  },
  {
   "cell_type": "code",
   "execution_count": null,
   "id": "247439e2",
   "metadata": {},
   "outputs": [],
   "source": [
    "regresor_lineal.predict(primeros_cinco_distritos)"
   ]
  },
  {
   "cell_type": "code",
   "execution_count": null,
   "id": "45b305b4",
   "metadata": {
    "slideshow": {
     "slide_type": "slide"
    }
   },
   "outputs": [],
   "source": [
    "v_labels[:5]"
   ]
  },
  {
   "cell_type": "code",
   "execution_count": null,
   "id": "15d0522e",
   "metadata": {
    "slideshow": {
     "slide_type": "slide"
    }
   },
   "outputs": [],
   "source": [
    "precios_predichos_lineal = regresor_lineal.predict(x_prep)"
   ]
  },
  {
   "cell_type": "code",
   "execution_count": null,
   "id": "de7968fd",
   "metadata": {
    "slideshow": {
     "slide_type": "slide"
    }
   },
   "outputs": [],
   "source": [
    "from sklearn.metrics import mean_squared_error "
   ]
  },
  {
   "cell_type": "code",
   "execution_count": null,
   "id": "8e8c4fbd",
   "metadata": {
    "slideshow": {
     "slide_type": "slide"
    }
   },
   "outputs": [],
   "source": [
    "np.sqrt( mean_squared_error(v_labels,precios_predichos_lineal ) )"
   ]
  },
  {
   "cell_type": "code",
   "execution_count": null,
   "id": "514e1ff4",
   "metadata": {},
   "outputs": [],
   "source": []
  },
  {
   "cell_type": "code",
   "execution_count": null,
   "id": "666a0f6d",
   "metadata": {},
   "outputs": [],
   "source": []
  },
  {
   "cell_type": "markdown",
   "id": "ec843580",
   "metadata": {},
   "source": [
    "6. Afinar el modelo.  \n",
    "\n",
    "   * Crear cuadrícula (de búsqueda) de hiperparámetros.\n",
    "   * Seleccionar la combinación de hiperparámetros que consigue el mejor puntaje. (El mejor modelo).  "
   ]
  },
  {
   "cell_type": "markdown",
   "id": "43e237b8",
   "metadata": {
    "slideshow": {
     "slide_type": "slide"
    }
   },
   "source": [
    "## Ajuste su modelo"
   ]
  },
  {
   "cell_type": "markdown",
   "id": "04248a13",
   "metadata": {
    "slideshow": {
     "slide_type": "slide"
    }
   },
   "source": [
    "Supongamos que ahora tiene una lista corta de modelos prometedores."
   ]
  },
  {
   "cell_type": "markdown",
   "id": "bad4a05a",
   "metadata": {
    "slideshow": {
     "slide_type": "slide"
    }
   },
   "source": [
    "Ahora necesita afinarlos. Veamos algunas formas en las que puedes hacerlo."
   ]
  },
  {
   "cell_type": "markdown",
   "id": "3a3e0eb5",
   "metadata": {
    "slideshow": {
     "slide_type": "slide"
    }
   },
   "source": [
    "### Grid Search"
   ]
  },
  {
   "cell_type": "markdown",
   "id": "81d8b15b",
   "metadata": {
    "slideshow": {
     "slide_type": "slide"
    }
   },
   "source": [
    "Una opción sería jugar con los hiperparámetros manualmente, hasta que encuentre una gran combinación de valores de hiperparámetro."
   ]
  },
  {
   "cell_type": "markdown",
   "id": "fad8a3be",
   "metadata": {
    "slideshow": {
     "slide_type": "slide"
    }
   },
   "source": [
    "This would be very tedious work, and you may not have time to explore many combinations."
   ]
  },
  {
   "cell_type": "markdown",
   "id": "157db5f6",
   "metadata": {
    "slideshow": {
     "slide_type": "slide"
    }
   },
   "source": [
    "Instead, you should get Scikit-Learn’s GridSearchCV to search for you. "
   ]
  },
  {
   "cell_type": "markdown",
   "id": "e31eeb80",
   "metadata": {
    "slideshow": {
     "slide_type": "slide"
    }
   },
   "source": [
    "All you need to do is tell it which hyperparameters you want it to experiment with and what values to try out, and it will use cross-validation to evaluate all the possible combinations of hyperparameter values. "
   ]
  },
  {
   "cell_type": "markdown",
   "id": "6a5922f8",
   "metadata": {},
   "source": [
    "For example, the following code searches for the best combination of hyperparameter values for the RandomForestRegressor:"
   ]
  },
  {
   "cell_type": "code",
   "execution_count": null,
   "id": "3fe855da",
   "metadata": {
    "slideshow": {
     "slide_type": "slide"
    }
   },
   "outputs": [],
   "source": [
    "from sklearn.model_selection import GridSearchCV"
   ]
  },
  {
   "cell_type": "code",
   "execution_count": null,
   "id": "4a77277d",
   "metadata": {
    "slideshow": {
     "slide_type": "slide"
    }
   },
   "outputs": [],
   "source": [
    "param_grid = [\n",
    "{'n_estimators': [3, 10, 30,40,50, 60, 70], 'max_features': [2, 4, 6, 8, 10]},\n",
    "{'bootstrap': [False], 'n_estimators': [3, 10,30,40,50, 60, 70], \\\n",
    " 'max_features': [2, 3, 4, 6, 8, 10]},\n",
    "]\n",
    "grid_search = GridSearchCV(regresor_forest, param_grid, cv=5,\n",
    "scoring='neg_mean_squared_error',\n",
    "return_train_score=True)\n",
    "grid_search.fit(x_prep, v_labels)"
   ]
  },
  {
   "cell_type": "code",
   "execution_count": null,
   "id": "d09e72f6",
   "metadata": {
    "slideshow": {
     "slide_type": "slide"
    }
   },
   "outputs": [],
   "source": [
    "grid_search.best_estimator_\n"
   ]
  },
  {
   "cell_type": "markdown",
   "id": "2785af6e",
   "metadata": {
    "slideshow": {
     "slide_type": "slide"
    }
   },
   "source": [
    "7. Presentar la solución.  \n",
    "\n",
    "   * Mostrar el desempeño sobre los datos para testear.\n",
    "  "
   ]
  },
  {
   "cell_type": "code",
   "execution_count": null,
   "id": "949ac096",
   "metadata": {
    "slideshow": {
     "slide_type": "slide"
    }
   },
   "outputs": [],
   "source": [
    "v_test.head() "
   ]
  },
  {
   "cell_type": "code",
   "execution_count": null,
   "id": "4ff697f9",
   "metadata": {
    "slideshow": {
     "slide_type": "slide"
    }
   },
   "outputs": [],
   "source": [
    "x_test_prep = transformador_total.transform(v_test.drop('precio', axis = 1)) "
   ]
  },
  {
   "cell_type": "code",
   "execution_count": null,
   "id": "65f73930",
   "metadata": {
    "slideshow": {
     "slide_type": "slide"
    }
   },
   "outputs": [],
   "source": [
    "regresor_forest_afinado.fit(x_prep, v_labels)"
   ]
  },
  {
   "cell_type": "code",
   "execution_count": null,
   "id": "1dd2c411",
   "metadata": {},
   "outputs": [],
   "source": [
    "predicción_test = regresor_forest_afinado.predict(x_test_prep)"
   ]
  },
  {
   "cell_type": "code",
   "execution_count": null,
   "id": "5f270c30",
   "metadata": {},
   "outputs": [],
   "source": [
    "np.sqrt(mean_squared_error(v_test.precio.values, predicción_test))"
   ]
  },
  {
   "cell_type": "code",
   "execution_count": null,
   "id": "e095687c",
   "metadata": {},
   "outputs": [],
   "source": []
  },
  {
   "cell_type": "code",
   "execution_count": null,
   "id": "8f701869",
   "metadata": {},
   "outputs": [],
   "source": []
  },
  {
   "cell_type": "code",
   "execution_count": null,
   "id": "9878afc6",
   "metadata": {},
   "outputs": [],
   "source": []
  }
 ],
 "metadata": {
  "celltoolbar": "Slideshow",
  "kernelspec": {
   "display_name": "Python 3 (ipykernel)",
   "language": "python",
   "name": "python3"
  },
  "language_info": {
   "codemirror_mode": {
    "name": "ipython",
    "version": 3
   },
   "file_extension": ".py",
   "mimetype": "text/x-python",
   "name": "python",
   "nbconvert_exporter": "python",
   "pygments_lexer": "ipython3",
   "version": "3.9.7"
  }
 },
 "nbformat": 4,
 "nbformat_minor": 5
}
