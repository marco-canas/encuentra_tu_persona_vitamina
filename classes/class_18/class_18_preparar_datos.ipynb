{
 "cells": [
  {
   "cell_type": "markdown",
   "id": "978d88b4",
   "metadata": {
    "slideshow": {
     "slide_type": "slide"
    }
   },
   "source": [
    "<table align=\"left\">\n",
    "  <td>\n",
    "    <a href=\"https://colab.research.google.com/github/marco-canas/intro-Machine-Learning/blob/main/classes/class_18/class_18_pipeline_linear_regression.ipynb\" target=\"_parent\"><img src=\"https://colab.research.google.com/assets/colab-badge.svg\" alt=\"Open In Colab\"/></a>\n",
    "  </td>\n",
    "</table> "
   ]
  },
  {
   "cell_type": "markdown",
   "id": "3ab6fbdc",
   "metadata": {
    "slideshow": {
     "slide_type": "slide"
    }
   },
   "source": [
    "# Clase 18 "
   ]
  },
  {
   "cell_type": "markdown",
   "id": "8fc914c7",
   "metadata": {
    "slideshow": {
     "slide_type": "slide"
    }
   },
   "source": [
    "Pasos para creación del cuaderno interactivo.\n",
    "\n",
    "1. Plantear bien la pregunta.  \n",
    "\n",
    "   * ¿Regresión o clasificación?\n",
    "   * ¿Tipo de regresión y tipo de clasificación?\n",
    "\n",
    "2. Exploración inicial.\n",
    "   * Indicar la fuente de dónde se toman los datos.\n",
    "   * Hacer explícita la función objetivo.\n",
    "   * Decir cuáles son los atributos (descripción breve de cada uno)\n",
    "   * Practicar una primera síntesis tabular y una exploración gráfica de los datos."
   ]
  },
  {
   "cell_type": "markdown",
   "id": "fd90a2a2",
   "metadata": {
    "slideshow": {
     "slide_type": "slide"
    }
   },
   "source": [
    "   \n",
    "3. Preparar los datos para los algoritmos de aprendizaje.\n",
    "   \n",
    "   * Hacer separación inicial de datos para entrenar y para testear.\n",
    "   * Explorar correlaciones lineales con la variable objetivo.\n",
    "   * adicionar atributos que estén mejor correlacionados con la variable objetivo.\n",
    "   * Llenar datos faltantes.\n",
    "   * Codificar las variables categóricas. \n",
    "   * Estandarizar los datos.\n",
    "  "
   ]
  },
  {
   "cell_type": "markdown",
   "id": "39c39d95",
   "metadata": {
    "slideshow": {
     "slide_type": "slide"
    }
   },
   "source": [
    "## [Video de apoyo para el proceso de preprocesamiento]()"
   ]
  },
  {
   "cell_type": "code",
   "execution_count": 1,
   "id": "735eed83",
   "metadata": {
    "slideshow": {
     "slide_type": "slide"
    }
   },
   "outputs": [],
   "source": [
    "import numpy as np \n",
    "import pandas as pd \n",
    "import matplotlib.pyplot as plt \n",
    "\n",
    "v = pd.read_csv('vivienda.csv')"
   ]
  },
  {
   "cell_type": "code",
   "execution_count": null,
   "id": "3ed11bb3",
   "metadata": {
    "slideshow": {
     "slide_type": "slide"
    }
   },
   "outputs": [],
   "source": [
    "v.head()"
   ]
  },
  {
   "cell_type": "markdown",
   "id": "58d2cae2",
   "metadata": {
    "slideshow": {
     "slide_type": "slide"
    }
   },
   "source": [
    "# Sintesis de la información"
   ]
  },
  {
   "cell_type": "code",
   "execution_count": null,
   "id": "10896fd2",
   "metadata": {
    "slideshow": {
     "slide_type": "slide"
    }
   },
   "outputs": [],
   "source": [
    "v.info() \n"
   ]
  },
  {
   "cell_type": "code",
   "execution_count": null,
   "id": "5d6b4679",
   "metadata": {
    "slideshow": {
     "slide_type": "slide"
    }
   },
   "outputs": [],
   "source": [
    "v.proximidad.value_counts() "
   ]
  },
  {
   "cell_type": "code",
   "execution_count": null,
   "id": "bd993f84",
   "metadata": {
    "slideshow": {
     "slide_type": "slide"
    }
   },
   "outputs": [],
   "source": [
    "v.describe() "
   ]
  },
  {
   "cell_type": "markdown",
   "id": "35e30548",
   "metadata": {
    "slideshow": {
     "slide_type": "slide"
    }
   },
   "source": [
    "# Visualizaciones "
   ]
  },
  {
   "cell_type": "code",
   "execution_count": null,
   "id": "32bca3d5",
   "metadata": {
    "scrolled": true,
    "slideshow": {
     "slide_type": "slide"
    }
   },
   "outputs": [],
   "source": [
    "\n",
    "v.hist(figsize = (15,10)) \n",
    "plt.show()"
   ]
  },
  {
   "cell_type": "code",
   "execution_count": null,
   "id": "ff7915fb",
   "metadata": {
    "slideshow": {
     "slide_type": "slide"
    }
   },
   "outputs": [],
   "source": [
    "v.plot(kind = 'scatter', x = 'longitud', y = 'latitud', alpha = 1, figsize = (10,6)) \n",
    "plt.show() "
   ]
  },
  {
   "cell_type": "code",
   "execution_count": null,
   "id": "d07dce51",
   "metadata": {
    "slideshow": {
     "slide_type": "slide"
    }
   },
   "outputs": [],
   "source": [
    "v.plot(kind = 'scatter', x = 'longitud', y = 'latitud', alpha = 0.1, figsize = (10,6)) "
   ]
  },
  {
   "cell_type": "code",
   "execution_count": null,
   "id": "2cf4578e",
   "metadata": {
    "scrolled": true,
    "slideshow": {
     "slide_type": "slide"
    }
   },
   "outputs": [],
   "source": [
    "import matplotlib.pyplot as plt \n",
    "\n",
    "v.plot(kind = 'scatter', x = 'longitud', y = 'latitud', alpha = 0.4, figsize = (12,8),\\\n",
    "      s = v.población/100, label = 'Población', \\\n",
    "      c = 'valor', cmap = plt.get_cmap('jet'), colorbar = True)  \n",
    "plt.show() "
   ]
  },
  {
   "cell_type": "markdown",
   "id": "0a951742",
   "metadata": {
    "slideshow": {
     "slide_type": "slide"
    }
   },
   "source": [
    "# Buscando correlaciones"
   ]
  },
  {
   "cell_type": "markdown",
   "id": "eec3bac2",
   "metadata": {
    "slideshow": {
     "slide_type": "slide"
    }
   },
   "source": [
    "Dado que el conjunto de datos no es demasiado grande, puede calcular fácilmente el coeficiente de correlación estándar (también llamado r de Pearson) entre cada par de atributos usando el método `corr()`:"
   ]
  },
  {
   "cell_type": "code",
   "execution_count": null,
   "id": "9e53f77d",
   "metadata": {
    "scrolled": true,
    "slideshow": {
     "slide_type": "slide"
    }
   },
   "outputs": [],
   "source": [
    "v.corr() "
   ]
  },
  {
   "cell_type": "markdown",
   "id": "35cb4017",
   "metadata": {
    "slideshow": {
     "slide_type": "slide"
    }
   },
   "source": [
    "Ahora veamos cómo cada atributo está correlacionado con la variable objetivo de valor promedio de vivienda por distrito: "
   ]
  },
  {
   "cell_type": "code",
   "execution_count": null,
   "id": "a5aa64a1",
   "metadata": {
    "slideshow": {
     "slide_type": "slide"
    }
   },
   "outputs": [],
   "source": [
    "v.corr().valor.sort_values(ascending = False) "
   ]
  },
  {
   "cell_type": "markdown",
   "id": "7f3bef1e",
   "metadata": {
    "slideshow": {
     "slide_type": "slide"
    }
   },
   "source": [
    "El coeficiente de correlación varía de –1 a 1."
   ]
  },
  {
   "cell_type": "markdown",
   "id": "86729d7e",
   "metadata": {
    "slideshow": {
     "slide_type": "slide"
    }
   },
   "source": [
    "Cuando es cercano a 1, significa que existe una fuerte correlación positiva; por ejemplo, el valor medio de la vivienda tiende a aumentar cuando aumenta el ingreso medio."
   ]
  },
  {
   "cell_type": "markdown",
   "id": "85549e46",
   "metadata": {
    "slideshow": {
     "slide_type": "slide"
    }
   },
   "source": [
    "Cuando el coeficiente es cercano a –1, significa que existe una fuerte correlación negativa; puede ver una pequeña correlación negativa entre la latitud y el valor medio de la vivienda (es decir, los precios tienen una ligera tendencia a bajar cuando va hacia el norte)."
   ]
  },
  {
   "cell_type": "markdown",
   "id": "decf5ea8",
   "metadata": {
    "slideshow": {
     "slide_type": "slide"
    }
   },
   "source": [
    "Finalmente, los coeficientes cercanos a 0 significan que no existe una correlación lineal. "
   ]
  },
  {
   "cell_type": "markdown",
   "id": "84de09d5",
   "metadata": {
    "slideshow": {
     "slide_type": "slide"
    }
   },
   "source": [
    "La siguiente figura muestra varios gráficos junto con el coeficiente de correlación entre sus ejes horizontal y vertical."
   ]
  },
  {
   "cell_type": "markdown",
   "id": "5e9c194f",
   "metadata": {
    "slideshow": {
     "slide_type": "slide"
    }
   },
   "source": [
    "<img src = 'https://github.com/marco-canas/intro-Machine-Learning/blob/main/classes/class_17_/coeficientes_de_correlaci%C3%B3n_est%C3%A1ndar.png?raw=true'>"
   ]
  },
  {
   "cell_type": "code",
   "execution_count": 3,
   "id": "2661c672",
   "metadata": {
    "slideshow": {
     "slide_type": "slide"
    }
   },
   "outputs": [
    {
     "data": {
      "image/png": "[encoded data removed]",
      "text/plain": [
       "<Figure size 720x432 with 9 Axes>"
      ]
     },
     "metadata": {
      "needs_background": "light"
     },
     "output_type": "display_data"
    }
   ],
   "source": [
    "import matplotlib.pyplot as plt \n",
    "\n",
    "from pandas.plotting import scatter_matrix\n",
    "attributes = ['valor', 'ingresos', 'latitud'] \n",
    "scatter_matrix(v[attributes], figsize=(10, 6))\n",
    "\n",
    "plt.show() "
   ]
  },
  {
   "cell_type": "code",
   "execution_count": null,
   "id": "259fc6de",
   "metadata": {
    "slideshow": {
     "slide_type": "slide"
    }
   },
   "outputs": [],
   "source": [
    "v.plot(kind=\"scatter\", x='ingresos', y='valor', alpha=0.1, figsize = (10,6))\n",
    "\n",
    "plt.show() "
   ]
  },
  {
   "cell_type": "markdown",
   "id": "7f8d210e",
   "metadata": {
    "slideshow": {
     "slide_type": "slide"
    }
   },
   "source": [
    "Esta gráfico revela algunas cosas.\n",
    "\n",
    "* Primero, la correlación es de hecho muy fuerte; se puede ver claramente la tendencia al alza, y los puntos no están demasiado dispersos.\n",
    "\n",
    "* En segundo lugar, el límite de precio que notamos anteriormente es claramente visible como una línea horizontal en $500,000."
   ]
  },
  {
   "cell_type": "markdown",
   "id": "52aa8bfb",
   "metadata": {
    "slideshow": {
     "slide_type": "slide"
    }
   },
   "source": [
    "Pero este gráfico revela otras líneas rectas menos obvias: \n",
    "\n",
    "* una línea horizontal alrededor de $450 000,  \n",
    "\n",
    "* otra alrededor de $350 000,   \n",
    "\n",
    "* quizás una alrededor de $280 000 y algunas más por debajo de esa. \n",
    "\n",
    "Es posible que desee intentar eliminar los distritos correspondientes para evitar que sus algoritmos aprendan a reproducir estas peculiaridades de los datos."
   ]
  },
  {
   "cell_type": "markdown",
   "id": "c0d13490",
   "metadata": {
    "slideshow": {
     "slide_type": "slide"
    }
   },
   "source": [
    "## Experimentando con combinaciones de atributos"
   ]
  },
  {
   "cell_type": "markdown",
   "id": "07b19479",
   "metadata": {
    "slideshow": {
     "slide_type": "slide"
    }
   },
   "source": [
    "Identificó algunas peculiaridades de los datos que quizás desee limpiar antes de enviar los datos a un algoritmo de aprendizaje automático y encontró correlaciones interesantes entre los atributos, en particular con el atributo objetivo."
   ]
  },
  {
   "cell_type": "markdown",
   "id": "20388247",
   "metadata": {
    "slideshow": {
     "slide_type": "slide"
    }
   },
   "source": [
    "Una última cosa que quizás desee hacer antes de preparar los datos para los algoritmos de Machine Learning es probar varias combinaciones de atributos.\n",
    "\n",
    "Por ejemplo, el número total de habitaciones en un distrito no es muy útil si no sabe cuántos hogares hay.\n",
    "\n",
    "Lo que realmente desea es el número de **habitaciones por hogar**. "
   ]
  },
  {
   "cell_type": "markdown",
   "id": "64033d08",
   "metadata": {
    "slideshow": {
     "slide_type": "slide"
    }
   },
   "source": [
    "Del mismo modo, el número total de **dormitorios** por sí solo no es muy útil: probablemente quieras compararlo con el número de **habitaciones**.\n",
    "\n",
    "Y la **población por hogar** también parece una combinación de atributos interesante para observar.\n",
    "\n",
    "Vamos a crear estos nuevos atributos:"
   ]
  },
  {
   "cell_type": "code",
   "execution_count": null,
   "id": "1ea5fa91",
   "metadata": {
    "slideshow": {
     "slide_type": "slide"
    }
   },
   "outputs": [],
   "source": [
    "v['habitaciones_por_hogar'] = v.habitaciones/v.hogares "
   ]
  },
  {
   "cell_type": "code",
   "execution_count": null,
   "id": "b6a99d08",
   "metadata": {
    "slideshow": {
     "slide_type": "slide"
    }
   },
   "outputs": [],
   "source": [
    "v['dormitorios_por_habitación'] = v.dormitorios/v.habitaciones "
   ]
  },
  {
   "cell_type": "code",
   "execution_count": null,
   "id": "fd97da63",
   "metadata": {
    "slideshow": {
     "slide_type": "slide"
    }
   },
   "outputs": [],
   "source": [
    "v['población_por_hogar'] = v.población/v.hogares "
   ]
  },
  {
   "cell_type": "markdown",
   "id": "9e1ff51b",
   "metadata": {
    "slideshow": {
     "slide_type": "slide"
    }
   },
   "source": [
    "Ahora veamos las correlaciones de nuevo: "
   ]
  },
  {
   "cell_type": "code",
   "execution_count": null,
   "id": "aca61625",
   "metadata": {
    "scrolled": true,
    "slideshow": {
     "slide_type": "slide"
    }
   },
   "outputs": [],
   "source": [
    "v.corr().valor.sort_values(ascending = False) "
   ]
  },
  {
   "cell_type": "markdown",
   "id": "24c40850",
   "metadata": {
    "slideshow": {
     "slide_type": "slide"
    }
   },
   "source": [
    "Note que:\n",
    "\n",
    "* El nuevo atributo dormitorios_por_habitación está mucho más correlacionado con el valor medio de la casa que con el número total de habitaciones o dormitorios."
   ]
  },
  {
   "cell_type": "markdown",
   "id": "5e113923",
   "metadata": {
    "slideshow": {
     "slide_type": "slide"
    }
   },
   "source": [
    "Aparentemente, las casas con una relación dormitorio/habitación más baja tienden a ser más caras."
   ]
  },
  {
   "cell_type": "markdown",
   "id": "b92fde3d",
   "metadata": {
    "slideshow": {
     "slide_type": "slide"
    }
   },
   "source": [
    "El número de habitaciones por hogar también es más informativo que el número total de habitaciones en un distrito; obviamente, cuanto más grandes son las casas, más caras son."
   ]
  },
  {
   "cell_type": "markdown",
   "id": "1f1c75ad",
   "metadata": {
    "slideshow": {
     "slide_type": "slide"
    }
   },
   "source": [
    "Esta ronda de exploración no tiene que ser absolutamente minuciosa; el punto es comenzar con el pie derecho y obtener rápidamente información que lo ayudará a obtener un primer prototipo razonablemente bueno."
   ]
  },
  {
   "cell_type": "markdown",
   "id": "04726a32",
   "metadata": {
    "slideshow": {
     "slide_type": "slide"
    }
   },
   "source": [
    "Pero este es un proceso iterativo: una vez que tiene un prototipo en funcionamiento, puede analizar su resultado para obtener más información y volver a este paso de exploración."
   ]
  },
  {
   "cell_type": "markdown",
   "id": "6141e27e",
   "metadata": {
    "slideshow": {
     "slide_type": "slide"
    }
   },
   "source": [
    "## Dividir en entrenamiento y testeo"
   ]
  },
  {
   "cell_type": "code",
   "execution_count": 4,
   "id": "c2ce9a62",
   "metadata": {
    "slideshow": {
     "slide_type": "slide"
    }
   },
   "outputs": [],
   "source": [
    "from sklearn.model_selection import train_test_split\n",
    "\n",
    "v_train, v_test = train_test_split(v, test_size = 0.2, random_state = 513) \n",
    "\n"
   ]
  },
  {
   "cell_type": "code",
   "execution_count": 5,
   "id": "1e615b1d",
   "metadata": {
    "slideshow": {
     "slide_type": "slide"
    }
   },
   "outputs": [
    {
     "name": "stdout",
     "output_type": "stream",
     "text": [
      "<class 'pandas.core.frame.DataFrame'>\n",
      "Int64Index: 16512 entries, 18223 to 17044\n",
      "Data columns (total 10 columns):\n",
      " #   Column        Non-Null Count  Dtype  \n",
      "---  ------        --------------  -----  \n",
      " 0   longitud      16512 non-null  float64\n",
      " 1   latitud       16512 non-null  float64\n",
      " 2   antiguedad    16512 non-null  float64\n",
      " 3   habitaciones  16512 non-null  float64\n",
      " 4   dormitorios   16348 non-null  float64\n",
      " 5   población     16512 non-null  float64\n",
      " 6   hogares       16512 non-null  float64\n",
      " 7   ingresos      16512 non-null  float64\n",
      " 8   proximidad    16512 non-null  object \n",
      " 9   valor         16512 non-null  float64\n",
      "dtypes: float64(9), object(1)\n",
      "memory usage: 1.4+ MB\n"
     ]
    }
   ],
   "source": [
    "v_train.info() "
   ]
  },
  {
   "cell_type": "markdown",
   "id": "056491c7",
   "metadata": {
    "slideshow": {
     "slide_type": "slide"
    }
   },
   "source": [
    "## Preparar los datos para los algoritmos de Machine Learning "
   ]
  },
  {
   "cell_type": "markdown",
   "id": "338c1bc6",
   "metadata": {
    "slideshow": {
     "slide_type": "slide"
    }
   },
   "source": [
    "Es hora de preparar los datos para sus algoritmos de Machine Learning."
   ]
  },
  {
   "cell_type": "markdown",
   "id": "abd32466",
   "metadata": {
    "slideshow": {
     "slide_type": "slide"
    }
   },
   "source": [
    "En lugar de hacer esto manualmente, debe escribir funciones para este propósito, por varias buenas razones:"
   ]
  },
  {
   "cell_type": "markdown",
   "id": "4998debf",
   "metadata": {
    "slideshow": {
     "slide_type": "slide"
    }
   },
   "source": [
    "Esto le permitirá reproducir estas transformaciones fácilmente en cualquier\n",
    "conjunto de datos (por ejemplo, la próxima vez que obtenga un conjunto de datos nuevo)."
   ]
  },
  {
   "cell_type": "markdown",
   "id": "cbd03363",
   "metadata": {
    "slideshow": {
     "slide_type": "slide"
    }
   },
   "source": [
    "Gradualmente construirá una biblioteca de funciones de transformación que puede reutilizar en futuros proyectos."
   ]
  },
  {
   "cell_type": "markdown",
   "id": "2a23ba5f",
   "metadata": {
    "slideshow": {
     "slide_type": "slide"
    }
   },
   "source": [
    "Puede usar estas funciones en su sistema en vivo para transformar el nuevo datos antes de alimentarlos a sus algoritmos."
   ]
  },
  {
   "cell_type": "markdown",
   "id": "4ab0e098",
   "metadata": {
    "slideshow": {
     "slide_type": "slide"
    }
   },
   "source": [
    "Esto le permitirá probar fácilmente varias transformaciones y ver qué combinación de transformaciones funciona mejor."
   ]
  },
  {
   "cell_type": "markdown",
   "id": "765766c8",
   "metadata": {
    "slideshow": {
     "slide_type": "slide"
    }
   },
   "source": [
    "Pero primero volvamos a un conjunto de entrenamiento limpio (copiando strat_train_set una vez más)."
   ]
  },
  {
   "cell_type": "markdown",
   "id": "ddb295d7",
   "metadata": {
    "slideshow": {
     "slide_type": "slide"
    }
   },
   "source": [
    "También separemos los predictores y las etiquetas, ya que no necesariamente queremos aplicar las mismas transformaciones a los predictores y los valores objetivo (tenga en cuenta que `drop()` crea una copia de los datos y no afecta a `train_set`):"
   ]
  },
  {
   "cell_type": "markdown",
   "id": "3b5ee866",
   "metadata": {
    "slideshow": {
     "slide_type": "slide"
    }
   },
   "source": [
    "## Separar los datos de entrenamiento en atributos `X` y etiquetas `y`"
   ]
  },
  {
   "cell_type": "markdown",
   "id": "23989705",
   "metadata": {
    "slideshow": {
     "slide_type": "slide"
    }
   },
   "source": [
    "Esto lo haremos porque las transformaciones a los datos no se las realizaremos a la variable objetivo. "
   ]
  },
  {
   "cell_type": "code",
   "execution_count": 6,
   "id": "463af22d",
   "metadata": {
    "slideshow": {
     "slide_type": "slide"
    }
   },
   "outputs": [],
   "source": [
    "v = v_train.drop('valor', axis = 1)"
   ]
  },
  {
   "cell_type": "code",
   "execution_count": 7,
   "id": "4eb0941a",
   "metadata": {
    "slideshow": {
     "slide_type": "slide"
    }
   },
   "outputs": [],
   "source": [
    "v_labels = v_train.valor "
   ]
  },
  {
   "cell_type": "markdown",
   "id": "4ac3d080",
   "metadata": {
    "slideshow": {
     "slide_type": "slide"
    }
   },
   "source": [
    "## Limpieza de datos"
   ]
  },
  {
   "cell_type": "markdown",
   "id": "d9da2b0b",
   "metadata": {
    "slideshow": {
     "slide_type": "slide"
    }
   },
   "source": [
    "La mayoría de los algoritmos de aprendizaje automático no pueden funcionar con atributos faltantes, así que creemos algunas funciones para encargarnos de ellos. "
   ]
  },
  {
   "cell_type": "markdown",
   "id": "cb0a77aa",
   "metadata": {
    "slideshow": {
     "slide_type": "slide"
    }
   },
   "source": [
    "Vimos anteriormente que el atributo `dormitorios` tiene algunos valores faltantes, así que arreglemos esto."
   ]
  },
  {
   "cell_type": "markdown",
   "id": "e59bcbea",
   "metadata": {
    "slideshow": {
     "slide_type": "slide"
    }
   },
   "source": [
    "Tienes tres opciones:"
   ]
  },
  {
   "cell_type": "markdown",
   "id": "a1de63e1",
   "metadata": {
    "slideshow": {
     "slide_type": "slide"
    }
   },
   "source": [
    "1. Deshacerse de los distritos correspondientes.\n",
    "2. Deshágase de todo el atributo.\n",
    "3. Establezca los valores en algún valor (cero, la media, la mediana, etc.).\n",
    "\n",
    "Puede lograr esto fácilmente usando los métodos `dropna()`, `drop()` y `fillna()`:"
   ]
  },
  {
   "cell_type": "markdown",
   "id": "158b1cda",
   "metadata": {
    "slideshow": {
     "slide_type": "slide"
    }
   },
   "source": [
    "### Probemos las tres opciones con copias de `v`"
   ]
  },
  {
   "cell_type": "markdown",
   "id": "77538ba4",
   "metadata": {
    "slideshow": {
     "slide_type": "slide"
    }
   },
   "source": [
    "Note que si elimina filas de $X$, tambien debe eliminar las etiquetas respectivas en el vector $y$"
   ]
  },
  {
   "cell_type": "code",
   "execution_count": 8,
   "id": "7a5358a4",
   "metadata": {
    "slideshow": {
     "slide_type": "slide"
    }
   },
   "outputs": [],
   "source": [
    "v1 = pd.concat((v.copy(),v_labels),axis = 1)  "
   ]
  },
  {
   "cell_type": "code",
   "execution_count": 9,
   "id": "20d9c13e",
   "metadata": {
    "scrolled": false,
    "slideshow": {
     "slide_type": "slide"
    }
   },
   "outputs": [
    {
     "name": "stdout",
     "output_type": "stream",
     "text": [
      "<class 'pandas.core.frame.DataFrame'>\n",
      "Int64Index: 16512 entries, 18223 to 17044\n",
      "Data columns (total 10 columns):\n",
      " #   Column        Non-Null Count  Dtype  \n",
      "---  ------        --------------  -----  \n",
      " 0   longitud      16512 non-null  float64\n",
      " 1   latitud       16512 non-null  float64\n",
      " 2   antiguedad    16512 non-null  float64\n",
      " 3   habitaciones  16512 non-null  float64\n",
      " 4   dormitorios   16348 non-null  float64\n",
      " 5   población     16512 non-null  float64\n",
      " 6   hogares       16512 non-null  float64\n",
      " 7   ingresos      16512 non-null  float64\n",
      " 8   proximidad    16512 non-null  object \n",
      " 9   valor         16512 non-null  float64\n",
      "dtypes: float64(9), object(1)\n",
      "memory usage: 1.4+ MB\n"
     ]
    }
   ],
   "source": [
    "v1.info() "
   ]
  },
  {
   "cell_type": "code",
   "execution_count": 10,
   "id": "27789607",
   "metadata": {
    "slideshow": {
     "slide_type": "slide"
    }
   },
   "outputs": [
    {
     "data": {
      "text/plain": [
       "16512"
      ]
     },
     "execution_count": 10,
     "metadata": {},
     "output_type": "execute_result"
    }
   ],
   "source": [
    "len(v1.dormitorios)"
   ]
  },
  {
   "cell_type": "code",
   "execution_count": 11,
   "id": "27cccc83",
   "metadata": {
    "scrolled": true,
    "slideshow": {
     "slide_type": "slide"
    }
   },
   "outputs": [
    {
     "name": "stdout",
     "output_type": "stream",
     "text": [
      "<class 'pandas.core.frame.DataFrame'>\n",
      "Int64Index: 16348 entries, 18223 to 17044\n",
      "Data columns (total 10 columns):\n",
      " #   Column        Non-Null Count  Dtype  \n",
      "---  ------        --------------  -----  \n",
      " 0   longitud      16348 non-null  float64\n",
      " 1   latitud       16348 non-null  float64\n",
      " 2   antiguedad    16348 non-null  float64\n",
      " 3   habitaciones  16348 non-null  float64\n",
      " 4   dormitorios   16348 non-null  float64\n",
      " 5   población     16348 non-null  float64\n",
      " 6   hogares       16348 non-null  float64\n",
      " 7   ingresos      16348 non-null  float64\n",
      " 8   proximidad    16348 non-null  object \n",
      " 9   valor         16348 non-null  float64\n",
      "dtypes: float64(9), object(1)\n",
      "memory usage: 1.4+ MB\n"
     ]
    }
   ],
   "source": [
    "v1.dropna().info() "
   ]
  },
  {
   "cell_type": "code",
   "execution_count": 12,
   "id": "8c466f37",
   "metadata": {
    "scrolled": true,
    "slideshow": {
     "slide_type": "slide"
    }
   },
   "outputs": [
    {
     "name": "stdout",
     "output_type": "stream",
     "text": [
      "<class 'pandas.core.frame.DataFrame'>\n",
      "Int64Index: 16512 entries, 18223 to 17044\n",
      "Data columns (total 10 columns):\n",
      " #   Column        Non-Null Count  Dtype  \n",
      "---  ------        --------------  -----  \n",
      " 0   longitud      16512 non-null  float64\n",
      " 1   latitud       16512 non-null  float64\n",
      " 2   antiguedad    16512 non-null  float64\n",
      " 3   habitaciones  16512 non-null  float64\n",
      " 4   dormitorios   16348 non-null  float64\n",
      " 5   población     16512 non-null  float64\n",
      " 6   hogares       16512 non-null  float64\n",
      " 7   ingresos      16512 non-null  float64\n",
      " 8   proximidad    16512 non-null  object \n",
      " 9   valor         16512 non-null  float64\n",
      "dtypes: float64(9), object(1)\n",
      "memory usage: 1.4+ MB\n"
     ]
    }
   ],
   "source": [
    "v1.info()"
   ]
  },
  {
   "cell_type": "markdown",
   "id": "5eee9910",
   "metadata": {
    "slideshow": {
     "slide_type": "slide"
    }
   },
   "source": [
    "## Segunda opción de tratamiento de datos faltantes"
   ]
  },
  {
   "cell_type": "markdown",
   "id": "2d36d232",
   "metadata": {
    "slideshow": {
     "slide_type": "slide"
    }
   },
   "source": [
    "Para nuestro caso toca eliminar dos atributos "
   ]
  },
  {
   "cell_type": "code",
   "execution_count": 15,
   "id": "0f04c32f",
   "metadata": {
    "slideshow": {
     "slide_type": "slide"
    }
   },
   "outputs": [
    {
     "data": {
      "text/html": [
       "<div>\n",
       "<style scoped>\n",
       "    .dataframe tbody tr th:only-of-type {\n",
       "        vertical-align: middle;\n",
       "    }\n",
       "\n",
       "    .dataframe tbody tr th {\n",
       "        vertical-align: top;\n",
       "    }\n",
       "\n",
       "    .dataframe thead th {\n",
       "        text-align: right;\n",
       "    }\n",
       "</style>\n",
       "<table border=\"1\" class=\"dataframe\">\n",
       "  <thead>\n",
       "    <tr style=\"text-align: right;\">\n",
       "      <th></th>\n",
       "      <th>longitud</th>\n",
       "      <th>latitud</th>\n",
       "      <th>antiguedad</th>\n",
       "      <th>habitaciones</th>\n",
       "      <th>dormitorios</th>\n",
       "      <th>población</th>\n",
       "      <th>hogares</th>\n",
       "      <th>ingresos</th>\n",
       "      <th>proximidad</th>\n",
       "    </tr>\n",
       "  </thead>\n",
       "  <tbody>\n",
       "    <tr>\n",
       "      <th>18223</th>\n",
       "      <td>-122.08</td>\n",
       "      <td>37.41</td>\n",
       "      <td>20.0</td>\n",
       "      <td>1896.0</td>\n",
       "      <td>456.0</td>\n",
       "      <td>1069.0</td>\n",
       "      <td>436.0</td>\n",
       "      <td>4.6875</td>\n",
       "      <td>NEAR BAY</td>\n",
       "    </tr>\n",
       "    <tr>\n",
       "      <th>6687</th>\n",
       "      <td>-118.07</td>\n",
       "      <td>34.14</td>\n",
       "      <td>42.0</td>\n",
       "      <td>3200.0</td>\n",
       "      <td>685.0</td>\n",
       "      <td>1668.0</td>\n",
       "      <td>628.0</td>\n",
       "      <td>3.3750</td>\n",
       "      <td>INLAND</td>\n",
       "    </tr>\n",
       "  </tbody>\n",
       "</table>\n",
       "</div>"
      ],
      "text/plain": [
       "       longitud  latitud  antiguedad  habitaciones  dormitorios  población  \\\n",
       "18223   -122.08    37.41        20.0        1896.0        456.0     1069.0   \n",
       "6687    -118.07    34.14        42.0        3200.0        685.0     1668.0   \n",
       "\n",
       "       hogares  ingresos proximidad  \n",
       "18223    436.0    4.6875   NEAR BAY  \n",
       "6687     628.0    3.3750     INLAND  "
      ]
     },
     "execution_count": 15,
     "metadata": {},
     "output_type": "execute_result"
    }
   ],
   "source": [
    "v.head(2)"
   ]
  },
  {
   "cell_type": "code",
   "execution_count": 17,
   "id": "5573da37",
   "metadata": {
    "scrolled": true,
    "slideshow": {
     "slide_type": "slide"
    }
   },
   "outputs": [
    {
     "name": "stdout",
     "output_type": "stream",
     "text": [
      "<class 'pandas.core.frame.DataFrame'>\n",
      "Int64Index: 16512 entries, 18223 to 17044\n",
      "Data columns (total 8 columns):\n",
      " #   Column        Non-Null Count  Dtype  \n",
      "---  ------        --------------  -----  \n",
      " 0   longitud      16512 non-null  float64\n",
      " 1   latitud       16512 non-null  float64\n",
      " 2   antiguedad    16512 non-null  float64\n",
      " 3   habitaciones  16512 non-null  float64\n",
      " 4   población     16512 non-null  float64\n",
      " 5   hogares       16512 non-null  float64\n",
      " 6   ingresos      16512 non-null  float64\n",
      " 7   proximidad    16512 non-null  object \n",
      "dtypes: float64(7), object(1)\n",
      "memory usage: 1.1+ MB\n"
     ]
    }
   ],
   "source": [
    "v.drop(['dormitorios'], axis = 1).info() "
   ]
  },
  {
   "cell_type": "markdown",
   "id": "b005d0d0",
   "metadata": {
    "slideshow": {
     "slide_type": "slide"
    }
   },
   "source": [
    "### Tercera opción"
   ]
  },
  {
   "cell_type": "code",
   "execution_count": 18,
   "id": "8eaf7be6",
   "metadata": {
    "slideshow": {
     "slide_type": "slide"
    }
   },
   "outputs": [],
   "source": [
    "mediana = v.dormitorios.median() "
   ]
  },
  {
   "cell_type": "code",
   "execution_count": 19,
   "id": "f7ef5a0c",
   "metadata": {
    "slideshow": {
     "slide_type": "slide"
    }
   },
   "outputs": [
    {
     "data": {
      "text/html": [
       "<div>\n",
       "<style scoped>\n",
       "    .dataframe tbody tr th:only-of-type {\n",
       "        vertical-align: middle;\n",
       "    }\n",
       "\n",
       "    .dataframe tbody tr th {\n",
       "        vertical-align: top;\n",
       "    }\n",
       "\n",
       "    .dataframe thead th {\n",
       "        text-align: right;\n",
       "    }\n",
       "</style>\n",
       "<table border=\"1\" class=\"dataframe\">\n",
       "  <thead>\n",
       "    <tr style=\"text-align: right;\">\n",
       "      <th></th>\n",
       "      <th>longitud</th>\n",
       "      <th>latitud</th>\n",
       "      <th>antiguedad</th>\n",
       "      <th>habitaciones</th>\n",
       "      <th>dormitorios</th>\n",
       "      <th>población</th>\n",
       "      <th>hogares</th>\n",
       "      <th>ingresos</th>\n",
       "      <th>proximidad</th>\n",
       "    </tr>\n",
       "  </thead>\n",
       "  <tbody>\n",
       "    <tr>\n",
       "      <th>18223</th>\n",
       "      <td>-122.08</td>\n",
       "      <td>37.41</td>\n",
       "      <td>20.0</td>\n",
       "      <td>1896.0</td>\n",
       "      <td>456.0</td>\n",
       "      <td>1069.0</td>\n",
       "      <td>436.0</td>\n",
       "      <td>4.6875</td>\n",
       "      <td>NEAR BAY</td>\n",
       "    </tr>\n",
       "    <tr>\n",
       "      <th>6687</th>\n",
       "      <td>-118.07</td>\n",
       "      <td>34.14</td>\n",
       "      <td>42.0</td>\n",
       "      <td>3200.0</td>\n",
       "      <td>685.0</td>\n",
       "      <td>1668.0</td>\n",
       "      <td>628.0</td>\n",
       "      <td>3.3750</td>\n",
       "      <td>INLAND</td>\n",
       "    </tr>\n",
       "    <tr>\n",
       "      <th>3854</th>\n",
       "      <td>-118.43</td>\n",
       "      <td>34.18</td>\n",
       "      <td>25.0</td>\n",
       "      <td>3830.0</td>\n",
       "      <td>1105.0</td>\n",
       "      <td>2328.0</td>\n",
       "      <td>1017.0</td>\n",
       "      <td>2.6238</td>\n",
       "      <td>&lt;1H OCEAN</td>\n",
       "    </tr>\n",
       "    <tr>\n",
       "      <th>11267</th>\n",
       "      <td>-117.97</td>\n",
       "      <td>33.80</td>\n",
       "      <td>35.0</td>\n",
       "      <td>2985.0</td>\n",
       "      <td>474.0</td>\n",
       "      <td>1614.0</td>\n",
       "      <td>453.0</td>\n",
       "      <td>5.4631</td>\n",
       "      <td>&lt;1H OCEAN</td>\n",
       "    </tr>\n",
       "    <tr>\n",
       "      <th>14498</th>\n",
       "      <td>-117.23</td>\n",
       "      <td>32.86</td>\n",
       "      <td>16.0</td>\n",
       "      <td>1675.0</td>\n",
       "      <td>354.0</td>\n",
       "      <td>604.0</td>\n",
       "      <td>332.0</td>\n",
       "      <td>5.2326</td>\n",
       "      <td>NEAR OCEAN</td>\n",
       "    </tr>\n",
       "    <tr>\n",
       "      <th>...</th>\n",
       "      <td>...</td>\n",
       "      <td>...</td>\n",
       "      <td>...</td>\n",
       "      <td>...</td>\n",
       "      <td>...</td>\n",
       "      <td>...</td>\n",
       "      <td>...</td>\n",
       "      <td>...</td>\n",
       "      <td>...</td>\n",
       "    </tr>\n",
       "    <tr>\n",
       "      <th>12680</th>\n",
       "      <td>-121.39</td>\n",
       "      <td>38.55</td>\n",
       "      <td>25.0</td>\n",
       "      <td>2171.0</td>\n",
       "      <td>431.0</td>\n",
       "      <td>1053.0</td>\n",
       "      <td>422.0</td>\n",
       "      <td>3.5278</td>\n",
       "      <td>INLAND</td>\n",
       "    </tr>\n",
       "    <tr>\n",
       "      <th>17219</th>\n",
       "      <td>-119.70</td>\n",
       "      <td>34.47</td>\n",
       "      <td>32.0</td>\n",
       "      <td>3725.0</td>\n",
       "      <td>569.0</td>\n",
       "      <td>1304.0</td>\n",
       "      <td>527.0</td>\n",
       "      <td>7.7261</td>\n",
       "      <td>&lt;1H OCEAN</td>\n",
       "    </tr>\n",
       "    <tr>\n",
       "      <th>18525</th>\n",
       "      <td>-122.04</td>\n",
       "      <td>36.97</td>\n",
       "      <td>45.0</td>\n",
       "      <td>1302.0</td>\n",
       "      <td>245.0</td>\n",
       "      <td>621.0</td>\n",
       "      <td>258.0</td>\n",
       "      <td>5.1806</td>\n",
       "      <td>NEAR OCEAN</td>\n",
       "    </tr>\n",
       "    <tr>\n",
       "      <th>13822</th>\n",
       "      <td>-117.21</td>\n",
       "      <td>34.49</td>\n",
       "      <td>14.0</td>\n",
       "      <td>2125.0</td>\n",
       "      <td>348.0</td>\n",
       "      <td>1067.0</td>\n",
       "      <td>360.0</td>\n",
       "      <td>3.6333</td>\n",
       "      <td>INLAND</td>\n",
       "    </tr>\n",
       "    <tr>\n",
       "      <th>17044</th>\n",
       "      <td>-122.28</td>\n",
       "      <td>37.49</td>\n",
       "      <td>29.0</td>\n",
       "      <td>4148.0</td>\n",
       "      <td>635.0</td>\n",
       "      <td>1638.0</td>\n",
       "      <td>627.0</td>\n",
       "      <td>6.9120</td>\n",
       "      <td>NEAR OCEAN</td>\n",
       "    </tr>\n",
       "  </tbody>\n",
       "</table>\n",
       "<p>16512 rows × 9 columns</p>\n",
       "</div>"
      ],
      "text/plain": [
       "       longitud  latitud  antiguedad  habitaciones  dormitorios  población  \\\n",
       "18223   -122.08    37.41        20.0        1896.0        456.0     1069.0   \n",
       "6687    -118.07    34.14        42.0        3200.0        685.0     1668.0   \n",
       "3854    -118.43    34.18        25.0        3830.0       1105.0     2328.0   \n",
       "11267   -117.97    33.80        35.0        2985.0        474.0     1614.0   \n",
       "14498   -117.23    32.86        16.0        1675.0        354.0      604.0   \n",
       "...         ...      ...         ...           ...          ...        ...   \n",
       "12680   -121.39    38.55        25.0        2171.0        431.0     1053.0   \n",
       "17219   -119.70    34.47        32.0        3725.0        569.0     1304.0   \n",
       "18525   -122.04    36.97        45.0        1302.0        245.0      621.0   \n",
       "13822   -117.21    34.49        14.0        2125.0        348.0     1067.0   \n",
       "17044   -122.28    37.49        29.0        4148.0        635.0     1638.0   \n",
       "\n",
       "       hogares  ingresos  proximidad  \n",
       "18223    436.0    4.6875    NEAR BAY  \n",
       "6687     628.0    3.3750      INLAND  \n",
       "3854    1017.0    2.6238   <1H OCEAN  \n",
       "11267    453.0    5.4631   <1H OCEAN  \n",
       "14498    332.0    5.2326  NEAR OCEAN  \n",
       "...        ...       ...         ...  \n",
       "12680    422.0    3.5278      INLAND  \n",
       "17219    527.0    7.7261   <1H OCEAN  \n",
       "18525    258.0    5.1806  NEAR OCEAN  \n",
       "13822    360.0    3.6333      INLAND  \n",
       "17044    627.0    6.9120  NEAR OCEAN  \n",
       "\n",
       "[16512 rows x 9 columns]"
      ]
     },
     "execution_count": 19,
     "metadata": {},
     "output_type": "execute_result"
    }
   ],
   "source": [
    "v.fillna(mediana) "
   ]
  },
  {
   "cell_type": "code",
   "execution_count": 21,
   "id": "57e93793",
   "metadata": {
    "scrolled": true,
    "slideshow": {
     "slide_type": "slide"
    }
   },
   "outputs": [
    {
     "name": "stdout",
     "output_type": "stream",
     "text": [
      "<class 'pandas.core.frame.DataFrame'>\n",
      "Int64Index: 16512 entries, 18223 to 17044\n",
      "Data columns (total 9 columns):\n",
      " #   Column        Non-Null Count  Dtype  \n",
      "---  ------        --------------  -----  \n",
      " 0   longitud      16512 non-null  float64\n",
      " 1   latitud       16512 non-null  float64\n",
      " 2   antiguedad    16512 non-null  float64\n",
      " 3   habitaciones  16512 non-null  float64\n",
      " 4   dormitorios   16512 non-null  float64\n",
      " 5   población     16512 non-null  float64\n",
      " 6   hogares       16512 non-null  float64\n",
      " 7   ingresos      16512 non-null  float64\n",
      " 8   proximidad    16512 non-null  object \n",
      "dtypes: float64(8), object(1)\n",
      "memory usage: 1.3+ MB\n"
     ]
    }
   ],
   "source": [
    "v.fillna(mediana).info() "
   ]
  },
  {
   "cell_type": "markdown",
   "id": "a7b78569",
   "metadata": {
    "slideshow": {
     "slide_type": "slide"
    }
   },
   "source": [
    "Note que al llenar los datos faltantes en el atributo de `dormitorios`, automáticamente se actualiza el atributo de dormitorios por habitación. "
   ]
  },
  {
   "cell_type": "markdown",
   "id": "3b278542",
   "metadata": {
    "slideshow": {
     "slide_type": "slide"
    }
   },
   "source": [
    "Si elige la opción 3, debe calcular el valor de la mediana en el conjunto de entrenamiento y usarlo para completar los valores que faltan en el conjunto de entrenamiento."
   ]
  },
  {
   "cell_type": "markdown",
   "id": "b24fbf37",
   "metadata": {
    "slideshow": {
     "slide_type": "slide"
    }
   },
   "source": [
    "No olvide guardar el valor de la mediana que ha calculado.\n",
    "\n",
    "Lo necesitará más adelante para reemplazar los valores faltantes en el conjunto de prueba cuando desee evaluar su sistema, y también una vez que el sistema entre en funcionamiento para reemplazar los valores faltantes en datos nuevos."
   ]
  },
  {
   "cell_type": "markdown",
   "id": "3cb06c95",
   "metadata": {
    "slideshow": {
     "slide_type": "slide"
    }
   },
   "source": [
    "Scikit-Learn proporciona una clase útil para ocuparse de los valores faltantes:\n",
    "`SimpleImputer`. Aquí está cómo usarlo."
   ]
  },
  {
   "cell_type": "markdown",
   "id": "05039fd4",
   "metadata": {
    "slideshow": {
     "slide_type": "slide"
    }
   },
   "source": [
    "Primero, debe crear una instancia de `SimpleImputer`, especificando que desea reemplazar los valores faltantes de cada atributo con la mediana de ese atributo:"
   ]
  },
  {
   "cell_type": "markdown",
   "id": "86b7d450",
   "metadata": {
    "slideshow": {
     "slide_type": "slide"
    }
   },
   "source": [
    "## Inputación de datos faltantes con sklearn"
   ]
  },
  {
   "cell_type": "code",
   "execution_count": 22,
   "id": "c3b4dfc0",
   "metadata": {
    "slideshow": {
     "slide_type": "slide"
    }
   },
   "outputs": [],
   "source": [
    "from sklearn.impute import SimpleImputer \n"
   ]
  },
  {
   "cell_type": "code",
   "execution_count": 23,
   "id": "1df113bd",
   "metadata": {
    "slideshow": {
     "slide_type": "slide"
    }
   },
   "outputs": [],
   "source": [
    "imputer = SimpleImputer(strategy = 'median') "
   ]
  },
  {
   "cell_type": "markdown",
   "id": "93f9e8e7",
   "metadata": {
    "slideshow": {
     "slide_type": "slide"
    }
   },
   "source": [
    "Dado que la mediana solo se puede calcular en atributos numéricos, debe crear una copia de los datos sin el atributo de texto `proximidad`ocean_proximity:"
   ]
  },
  {
   "cell_type": "code",
   "execution_count": 24,
   "id": "65f21f43",
   "metadata": {
    "slideshow": {
     "slide_type": "slide"
    }
   },
   "outputs": [],
   "source": [
    "v_num = v.drop(['proximidad'], axis = 1)"
   ]
  },
  {
   "cell_type": "markdown",
   "id": "68a2405f",
   "metadata": {
    "slideshow": {
     "slide_type": "slide"
    }
   },
   "source": [
    "Ahora puede ajustar la instancia del imputer a los datos de entrenamiento usando el  método `fit()`:"
   ]
  },
  {
   "cell_type": "code",
   "execution_count": 25,
   "id": "6e134f6f",
   "metadata": {
    "slideshow": {
     "slide_type": "slide"
    }
   },
   "outputs": [
    {
     "data": {
      "text/plain": [
       "SimpleImputer(strategy='median')"
      ]
     },
     "execution_count": 25,
     "metadata": {},
     "output_type": "execute_result"
    }
   ],
   "source": [
    "imputer.fit(v_num)"
   ]
  },
  {
   "cell_type": "markdown",
   "id": "27232817",
   "metadata": {
    "slideshow": {
     "slide_type": "slide"
    }
   },
   "source": [
    "El imputador simplemente calculó la mediana de cada atributo y almacenó el resultado en su variable de instancia `statistics_`. "
   ]
  },
  {
   "cell_type": "markdown",
   "id": "077795cb",
   "metadata": {
    "slideshow": {
     "slide_type": "slide"
    }
   },
   "source": [
    "Solo el atributo `dormitorios` tenía valores faltantes, pero no podemos estar seguros de que no habrá valores faltantes en los datos nuevos después de que el sistema entre en funcionamiento, por lo que es más seguro aplicar la imputación a todos los atributos numéricos:"
   ]
  },
  {
   "cell_type": "code",
   "execution_count": 26,
   "id": "37d89277",
   "metadata": {
    "slideshow": {
     "slide_type": "slide"
    }
   },
   "outputs": [
    {
     "data": {
      "text/plain": [
       "array([-118.49  ,   34.25  ,   29.    , 2113.    ,  432.    , 1162.    ,\n",
       "        408.    ,    3.5385])"
      ]
     },
     "execution_count": 26,
     "metadata": {},
     "output_type": "execute_result"
    }
   ],
   "source": [
    "imputer.statistics_"
   ]
  },
  {
   "cell_type": "code",
   "execution_count": 27,
   "id": "f626d99e",
   "metadata": {
    "slideshow": {
     "slide_type": "slide"
    }
   },
   "outputs": [
    {
     "data": {
      "text/plain": [
       "longitud        -118.4900\n",
       "latitud           34.2500\n",
       "antiguedad        29.0000\n",
       "habitaciones    2113.0000\n",
       "dormitorios      432.0000\n",
       "población       1162.0000\n",
       "hogares          408.0000\n",
       "ingresos           3.5385\n",
       "dtype: float64"
      ]
     },
     "execution_count": 27,
     "metadata": {},
     "output_type": "execute_result"
    }
   ],
   "source": [
    "v_num.median() "
   ]
  },
  {
   "cell_type": "markdown",
   "id": "98bb3471",
   "metadata": {
    "slideshow": {
     "slide_type": "slide"
    }
   },
   "source": [
    "Ahora puede usar esta computadora \"entrenada\" para transformar el conjunto de entrenamiento reemplazando los valores faltantes con las medianas aprendidas:"
   ]
  },
  {
   "cell_type": "code",
   "execution_count": 28,
   "id": "bae7698d",
   "metadata": {
    "slideshow": {
     "slide_type": "slide"
    }
   },
   "outputs": [],
   "source": [
    "X = imputer.transform(v_num) "
   ]
  },
  {
   "cell_type": "markdown",
   "id": "0d164243",
   "metadata": {
    "slideshow": {
     "slide_type": "slide"
    }
   },
   "source": [
    "El resultado es una matriz NumPy simple que contiene las características transformadas.\n",
    "\n",
    "Si desea volver a colocarlo en un DataFrame de pandas, es simple:"
   ]
  },
  {
   "cell_type": "code",
   "execution_count": 29,
   "id": "cfd9ef4f",
   "metadata": {
    "slideshow": {
     "slide_type": "slide"
    }
   },
   "outputs": [],
   "source": [
    "v_num_tr = pd.DataFrame(X,columns = v_num.columns, index = v_num.index) "
   ]
  },
  {
   "cell_type": "code",
   "execution_count": 30,
   "id": "c2912029",
   "metadata": {
    "scrolled": true,
    "slideshow": {
     "slide_type": "slide"
    }
   },
   "outputs": [
    {
     "name": "stdout",
     "output_type": "stream",
     "text": [
      "<class 'pandas.core.frame.DataFrame'>\n",
      "Int64Index: 16512 entries, 18223 to 17044\n",
      "Data columns (total 8 columns):\n",
      " #   Column        Non-Null Count  Dtype  \n",
      "---  ------        --------------  -----  \n",
      " 0   longitud      16512 non-null  float64\n",
      " 1   latitud       16512 non-null  float64\n",
      " 2   antiguedad    16512 non-null  float64\n",
      " 3   habitaciones  16512 non-null  float64\n",
      " 4   dormitorios   16512 non-null  float64\n",
      " 5   población     16512 non-null  float64\n",
      " 6   hogares       16512 non-null  float64\n",
      " 7   ingresos      16512 non-null  float64\n",
      "dtypes: float64(8)\n",
      "memory usage: 1.1 MB\n"
     ]
    }
   ],
   "source": [
    "v_num_tr.info() "
   ]
  },
  {
   "cell_type": "markdown",
   "id": "c5db03e1",
   "metadata": {
    "slideshow": {
     "slide_type": "slide"
    }
   },
   "source": [
    "## Manipulación de datos categóricos"
   ]
  },
  {
   "cell_type": "markdown",
   "id": "7739390d",
   "metadata": {
    "slideshow": {
     "slide_type": "slide"
    }
   },
   "source": [
    "Hasta ahora solo hemos tratado con atributos numéricos, pero ahora veamos los atributos de texto.\n",
    "\n",
    "En este conjunto de datos, solo hay uno: el atributo `proximidad`.\n",
    "Veamos su valor para las primeras 10 instancias:"
   ]
  },
  {
   "cell_type": "code",
   "execution_count": 31,
   "id": "29506cb0",
   "metadata": {
    "slideshow": {
     "slide_type": "slide"
    }
   },
   "outputs": [],
   "source": [
    "v_cat = v[['proximidad']]    # Ojo con el doble corchete "
   ]
  },
  {
   "cell_type": "code",
   "execution_count": null,
   "id": "4d7ecf9b",
   "metadata": {
    "slideshow": {
     "slide_type": "slide"
    }
   },
   "outputs": [],
   "source": [
    "v_cat.head(10)"
   ]
  },
  {
   "cell_type": "markdown",
   "id": "95c5ce5f",
   "metadata": {
    "slideshow": {
     "slide_type": "slide"
    }
   },
   "source": [
    "No es un texto arbitrario: hay un número limitado de valores posibles, cada uno de los cuales representa una categoría. Así que este atributo es un atributo categórico.\n",
    "\n",
    "La mayoría de los algoritmos de Machine Learning prefieren trabajar con números, así que vamos a convertir estas categorías de texto a números. Para esto, podemos usar la clase `OrdinalEncoder` de Scikit-Learn:"
   ]
  },
  {
   "cell_type": "code",
   "execution_count": null,
   "id": "5003e359",
   "metadata": {
    "slideshow": {
     "slide_type": "slide"
    }
   },
   "outputs": [],
   "source": [
    "from sklearn.preprocessing import OrdinalEncoder \n"
   ]
  },
  {
   "cell_type": "code",
   "execution_count": null,
   "id": "cbe25895",
   "metadata": {
    "slideshow": {
     "slide_type": "slide"
    }
   },
   "outputs": [],
   "source": [
    "ordinal_encoder = OrdinalEncoder()"
   ]
  },
  {
   "cell_type": "code",
   "execution_count": null,
   "id": "0239e850",
   "metadata": {
    "slideshow": {
     "slide_type": "slide"
    }
   },
   "outputs": [],
   "source": [
    "v_cat_cod = ordinal_encoder.fit_transform(v_cat) "
   ]
  },
  {
   "cell_type": "code",
   "execution_count": null,
   "id": "43456c86",
   "metadata": {
    "scrolled": true,
    "slideshow": {
     "slide_type": "slide"
    }
   },
   "outputs": [],
   "source": [
    "v_cat_cod[:10]"
   ]
  },
  {
   "cell_type": "markdown",
   "id": "6aa363a5",
   "metadata": {
    "slideshow": {
     "slide_type": "slide"
    }
   },
   "source": [
    "Puede obtener la lista de categorías utilizando la variable de instancia `categorías_`.\n",
    "\n",
    "Es una lista que contiene una matriz 1D de categorías para cada atributo categórico (en este caso, una lista que contiene una sola matriz ya que solo hay un atributo categórico):"
   ]
  },
  {
   "cell_type": "code",
   "execution_count": null,
   "id": "7f8b6cb2",
   "metadata": {
    "slideshow": {
     "slide_type": "slide"
    }
   },
   "outputs": [],
   "source": [
    "ordinal_encoder.categories_"
   ]
  },
  {
   "cell_type": "markdown",
   "id": "09c9acd9",
   "metadata": {
    "slideshow": {
     "slide_type": "slide"
    }
   },
   "source": [
    "Un problema con esta representación es que los algoritmos de ML supondrán que dos valores cercanos son más similares que dos valores distantes."
   ]
  },
  {
   "cell_type": "markdown",
   "id": "d18f6a38",
   "metadata": {
    "slideshow": {
     "slide_type": "slide"
    }
   },
   "source": [
    "Esto puede estar bien en algunos casos (por ejemplo, para categorías ordenadas como \"malo\", \"promedio\", \"bueno\" y \"excelente\"), pero obviamente no es el caso para la columna `proximidad` (por ejemplo, categorías 0 y 4 son claramente más similares que las categorías 0 y 1)"
   ]
  },
  {
   "cell_type": "markdown",
   "id": "7f5d0c46",
   "metadata": {
    "slideshow": {
     "slide_type": "slide"
    }
   },
   "source": [
    "Para solucionar este problema, una solución común es crear un atributo binario por subcategoría: \n",
    "* un atributo igual a 1 cuando la categoría es \"<1H OCEAN\" (y 0 en caso contrario), \n",
    "* otro atributo igual a 1 cuando la categoría es \"INLAND\" ( y 0 en caso contrario), \n",
    "\n",
    "y así sucesivamente. \n",
    "\n",
    "Esto se denomina codificación **one-hot**, porque solo un atributo será igual a 1 (caliente), mientras que los demás serán 0 (frío).\n",
    "\n",
    "Los nuevos atributos a veces se denominan atributos ficticios. "
   ]
  },
  {
   "cell_type": "markdown",
   "id": "ab310d73",
   "metadata": {
    "slideshow": {
     "slide_type": "slide"
    }
   },
   "source": [
    "Scikit-Learn proporciona una clase `OneHotEncoder` para convertir valores categóricos en vectores one-hot:"
   ]
  },
  {
   "cell_type": "code",
   "execution_count": null,
   "id": "7b85d1ab",
   "metadata": {
    "slideshow": {
     "slide_type": "slide"
    }
   },
   "outputs": [],
   "source": [
    "from sklearn.preprocessing import OneHotEncoder\n",
    "cat_cod_h = OneHotEncoder()\n",
    "v_cat_1hot = cat_cod_h.fit_transform(v_cat)\n",
    "v_cat_1hot\n"
   ]
  },
  {
   "cell_type": "markdown",
   "id": "ac22c237",
   "metadata": {
    "slideshow": {
     "slide_type": "slide"
    }
   },
   "source": [
    "Tenga en cuenta que la salida es una matriz dispersa SciPy, en lugar de una matriz NumPy.\n",
    "\n",
    "Esto es muy útil cuando tiene atributos categóricos con miles de categorías. Después de la codificación one-hot, obtenemos una matriz con miles de columnas, y la matriz está llena de 0 excepto por un solo 1 por fila.\n",
    "\n",
    "Usar toneladas de memoria principalmente para almacenar ceros sería un desperdicio, por lo que, en cambio, una matriz dispersa solo almacena la ubicación de los elementos distintos de cero.\n",
    "\n",
    "Puede usarlo principalmente como una matriz 2D normal, pero si realmente desea convertirlo en una matriz NumPy (densa), simplemente llame al método `toarray()`:"
   ]
  },
  {
   "cell_type": "code",
   "execution_count": null,
   "id": "b26f5c5e",
   "metadata": {
    "slideshow": {
     "slide_type": "slide"
    }
   },
   "outputs": [],
   "source": [
    "v_cat_1hot.toarray() "
   ]
  },
  {
   "cell_type": "markdown",
   "id": "793ae640",
   "metadata": {
    "slideshow": {
     "slide_type": "slide"
    }
   },
   "source": [
    "Una vez más, puede obtener la lista de categorías utilizando la variable de instancia `categories_` del codificador:"
   ]
  },
  {
   "cell_type": "code",
   "execution_count": null,
   "id": "59c3e482",
   "metadata": {
    "slideshow": {
     "slide_type": "slide"
    }
   },
   "outputs": [],
   "source": [
    "cat_cod_h.categories_ "
   ]
  },
  {
   "cell_type": "markdown",
   "id": "abedbe0a",
   "metadata": {
    "slideshow": {
     "slide_type": "slide"
    }
   },
   "source": [
    "## Escalamiento de atributos"
   ]
  },
  {
   "cell_type": "markdown",
   "id": "e1839c67",
   "metadata": {
    "slideshow": {
     "slide_type": "slide"
    }
   },
   "source": [
    "Una de las transformaciones más importantes que debe aplicar a sus datos es el escalado de atributos. "
   ]
  },
  {
   "cell_type": "markdown",
   "id": "72d66cca",
   "metadata": {
    "slideshow": {
     "slide_type": "slide"
    }
   },
   "source": [
    "Con pocas excepciones, los algoritmos de Machine Learning no funcionan bien cuando los atributos numéricos de entrada tienen escalas muy diferentes."
   ]
  },
  {
   "cell_type": "markdown",
   "id": "7d4af340",
   "metadata": {
    "slideshow": {
     "slide_type": "slide"
    }
   },
   "source": [
    "Este es el caso de los datos de vivienda: el número total de habitaciones oscila entre unas 6 y 39.320, mientras que los ingresos medios solo oscilan entre 0 y 15."
   ]
  },
  {
   "cell_type": "markdown",
   "id": "14ddade6",
   "metadata": {
    "slideshow": {
     "slide_type": "slide"
    }
   },
   "source": [
    "Tenga en cuenta que, por lo general, no es necesario escalar los valores objetivo."
   ]
  },
  {
   "cell_type": "markdown",
   "id": "fcba911d",
   "metadata": {
    "slideshow": {
     "slide_type": "slide"
    }
   },
   "source": [
    "Hay dos formas comunes de hacer que todos los atributos tengan la misma escala: \n",
    "\n",
    "* escala minmax y \n",
    "* estandarización."
   ]
  },
  {
   "cell_type": "markdown",
   "id": "6184e378",
   "metadata": {
    "slideshow": {
     "slide_type": "slide"
    }
   },
   "source": [
    "El escalado mínimo-máximo (muchas personas llaman a esto normalización) es el más simple: los valores se desplazan y se vuelven a escalar para que terminen variando de 0 a 1. "
   ]
  },
  {
   "cell_type": "markdown",
   "id": "1ea8d24b",
   "metadata": {
    "slideshow": {
     "slide_type": "slide"
    }
   },
   "source": [
    "Hacemos esto restando el valor mínimo y dividiendo por el máximo menos el mínimo."
   ]
  },
  {
   "cell_type": "markdown",
   "id": "5198a811",
   "metadata": {
    "slideshow": {
     "slide_type": "slide"
    }
   },
   "source": [
    "Scikit-Learn proporciona un transformador llamado `MinMaxScaler` para esto. "
   ]
  },
  {
   "cell_type": "markdown",
   "id": "85558028",
   "metadata": {
    "slideshow": {
     "slide_type": "slide"
    }
   },
   "source": [
    "Tiene un hiperparámetro `feature_range` que le permite cambiar el rango si, por alguna razón, no desea 0–1."
   ]
  },
  {
   "cell_type": "markdown",
   "id": "013f9c9c",
   "metadata": {
    "slideshow": {
     "slide_type": "slide"
    }
   },
   "source": [
    "* La estandarización es diferente:   \n",
    "\n",
    "primero resta el valor medio (por lo que los valores estandarizados siempre tienen una media cero) y luego divide por la desviación estándar para que la distribución resultante tenga varianza unitaria. "
   ]
  },
  {
   "cell_type": "markdown",
   "id": "289542f7",
   "metadata": {
    "slideshow": {
     "slide_type": "slide"
    }
   },
   "source": [
    "A diferencia del escalado mínimo-máximo, la estandarización no vincula los valores a un rango específico, lo que puede ser un problema para algunos algoritmos (por ejemplo, las redes neuronales a menudo esperan un valor de entrada\n",
    "de 0 a 1)."
   ]
  },
  {
   "cell_type": "markdown",
   "id": "0311d0f7",
   "metadata": {
    "slideshow": {
     "slide_type": "slide"
    }
   },
   "source": [
    "Sin embargo, la estandarización se ve mucho menos afectada por valores atípicos"
   ]
  },
  {
   "cell_type": "markdown",
   "id": "39f8357d",
   "metadata": {
    "slideshow": {
     "slide_type": "slide"
    }
   },
   "source": [
    "Por ejemplo, suponga que un distrito tiene un ingreso medio igual a 100 (por error). La escala min-max aplastaría todos los demás valores de 0 a 15 hasta 0 a 0,15, mientras que la estandarización no se vería muy afectada. "
   ]
  },
  {
   "cell_type": "markdown",
   "id": "8f3d5a0c",
   "metadata": {
    "slideshow": {
     "slide_type": "slide"
    }
   },
   "source": [
    "## Escalado sin sklearn"
   ]
  },
  {
   "cell_type": "code",
   "execution_count": 38,
   "id": "09b499ac",
   "metadata": {
    "slideshow": {
     "slide_type": "slide"
    }
   },
   "outputs": [],
   "source": [
    "v_num = v.drop(['proximidad'], axis = 1) "
   ]
  },
  {
   "cell_type": "markdown",
   "id": "d24a86b8",
   "metadata": {
    "slideshow": {
     "slide_type": "slide"
    }
   },
   "source": [
    "Dado que el conjunto de datos no es demasiado grande, puede calcular fácilmente el coeficiente de correlación estándar (también llamado r de Pearson) entre cada par de atributos usando el método `corr()`:"
   ]
  },
  {
   "cell_type": "code",
   "execution_count": null,
   "id": "e440ec68",
   "metadata": {
    "scrolled": true,
    "slideshow": {
     "slide_type": "slide"
    }
   },
   "outputs": [],
   "source": [
    "v.corr() "
   ]
  },
  {
   "cell_type": "markdown",
   "id": "61db7840",
   "metadata": {
    "slideshow": {
     "slide_type": "slide"
    }
   },
   "source": [
    "Ahora veamos cómo cada atributo está correlacionado con la variable objetivo de valor promedio de vivienda por distrito: "
   ]
  },
  {
   "cell_type": "code",
   "execution_count": null,
   "id": "45ec7733",
   "metadata": {
    "slideshow": {
     "slide_type": "slide"
    }
   },
   "outputs": [],
   "source": [
    "v.corr().valor.sort_values(ascending = False) "
   ]
  },
  {
   "cell_type": "markdown",
   "id": "e45b58fd",
   "metadata": {
    "slideshow": {
     "slide_type": "slide"
    }
   },
   "source": [
    "El coeficiente de correlación varía de –1 a 1."
   ]
  },
  {
   "cell_type": "markdown",
   "id": "fac4137b",
   "metadata": {
    "slideshow": {
     "slide_type": "slide"
    }
   },
   "source": [
    "Cuando es cercano a 1, significa que existe una fuerte correlación positiva; por ejemplo, el valor medio de la vivienda tiende a aumentar cuando aumenta el ingreso medio."
   ]
  },
  {
   "cell_type": "markdown",
   "id": "5a50fa49",
   "metadata": {
    "slideshow": {
     "slide_type": "slide"
    }
   },
   "source": [
    "Cuando el coeficiente es cercano a –1, significa que existe una fuerte correlación negativa; puede ver una pequeña correlación negativa entre la latitud y el valor medio de la vivienda (es decir, los precios tienen una ligera tendencia a bajar cuando va hacia el norte)."
   ]
  },
  {
   "cell_type": "markdown",
   "id": "c4ba4786",
   "metadata": {
    "slideshow": {
     "slide_type": "slide"
    }
   },
   "source": [
    "Finalmente, los coeficientes cercanos a 0 significan que no existe una correlación lineal. "
   ]
  },
  {
   "cell_type": "markdown",
   "id": "d7687c29",
   "metadata": {
    "slideshow": {
     "slide_type": "slide"
    }
   },
   "source": [
    "La siguiente figura muestra varios gráficos junto con el coeficiente de correlación entre sus ejes horizontal y vertical."
   ]
  },
  {
   "cell_type": "markdown",
   "id": "73ffae84",
   "metadata": {
    "slideshow": {
     "slide_type": "slide"
    }
   },
   "source": [
    "<img src = 'https://github.com/marco-canas/intro-Machine-Learning/blob/main/classes/class_17_/coeficientes_de_correlaci%C3%B3n_est%C3%A1ndar.png?raw=true'>"
   ]
  },
  {
   "cell_type": "code",
   "execution_count": null,
   "id": "24119420",
   "metadata": {
    "slideshow": {
     "slide_type": "slide"
    }
   },
   "outputs": [],
   "source": [
    "import matplotlib.pyplot as plt \n",
    "\n",
    "from pandas.plotting import scatter_matrix\n",
    "attributes = ['valor', 'ingresos', 'latitud'] \n",
    "scatter_matrix(v[attributes], figsize=(12, 8))\n",
    "\n",
    "plt.show() "
   ]
  },
  {
   "cell_type": "code",
   "execution_count": null,
   "id": "ae728a60",
   "metadata": {
    "slideshow": {
     "slide_type": "slide"
    }
   },
   "outputs": [],
   "source": [
    "v.plot(kind=\"scatter\", x='ingresos', y='valor', alpha=0.1, figsize = (10,6))\n",
    "\n",
    "plt.show() "
   ]
  },
  {
   "cell_type": "markdown",
   "id": "e3b63d52",
   "metadata": {
    "slideshow": {
     "slide_type": "slide"
    }
   },
   "source": [
    "Esta gráfico revela algunas cosas.\n",
    "\n",
    "* Primero, la correlación es de hecho muy fuerte; se puede ver claramente la tendencia al alza, y los puntos no están demasiado dispersos.\n",
    "\n",
    "* En segundo lugar, el límite de precio que notamos anteriormente es claramente visible como una línea horizontal en $500,000."
   ]
  },
  {
   "cell_type": "markdown",
   "id": "fbc235e2",
   "metadata": {
    "slideshow": {
     "slide_type": "slide"
    }
   },
   "source": [
    "Pero este gráfico revela otras líneas rectas menos obvias: \n",
    "\n",
    "* una línea horizontal alrededor de $450 000,  \n",
    "\n",
    "* otra alrededor de $350 000,   \n",
    "\n",
    "* quizás una alrededor de $280 000 y algunas más por debajo de esa. \n",
    "\n",
    "Es posible que desee intentar eliminar los distritos correspondientes para evitar que sus algoritmos aprendan a reproducir estas peculiaridades de los datos."
   ]
  },
  {
   "cell_type": "code",
   "execution_count": 40,
   "id": "e025f892",
   "metadata": {},
   "outputs": [
    {
     "data": {
      "text/html": [
       "<div>\n",
       "<style scoped>\n",
       "    .dataframe tbody tr th:only-of-type {\n",
       "        vertical-align: middle;\n",
       "    }\n",
       "\n",
       "    .dataframe tbody tr th {\n",
       "        vertical-align: top;\n",
       "    }\n",
       "\n",
       "    .dataframe thead th {\n",
       "        text-align: right;\n",
       "    }\n",
       "</style>\n",
       "<table border=\"1\" class=\"dataframe\">\n",
       "  <thead>\n",
       "    <tr style=\"text-align: right;\">\n",
       "      <th></th>\n",
       "      <th>longitud</th>\n",
       "      <th>latitud</th>\n",
       "      <th>antiguedad</th>\n",
       "      <th>habitaciones</th>\n",
       "      <th>dormitorios</th>\n",
       "      <th>población</th>\n",
       "      <th>hogares</th>\n",
       "      <th>ingresos</th>\n",
       "      <th>proximidad</th>\n",
       "    </tr>\n",
       "  </thead>\n",
       "  <tbody>\n",
       "    <tr>\n",
       "      <th>18223</th>\n",
       "      <td>-122.08</td>\n",
       "      <td>37.41</td>\n",
       "      <td>20.0</td>\n",
       "      <td>1896.0</td>\n",
       "      <td>456.0</td>\n",
       "      <td>1069.0</td>\n",
       "      <td>436.0</td>\n",
       "      <td>4.6875</td>\n",
       "      <td>NEAR BAY</td>\n",
       "    </tr>\n",
       "    <tr>\n",
       "      <th>6687</th>\n",
       "      <td>-118.07</td>\n",
       "      <td>34.14</td>\n",
       "      <td>42.0</td>\n",
       "      <td>3200.0</td>\n",
       "      <td>685.0</td>\n",
       "      <td>1668.0</td>\n",
       "      <td>628.0</td>\n",
       "      <td>3.3750</td>\n",
       "      <td>INLAND</td>\n",
       "    </tr>\n",
       "    <tr>\n",
       "      <th>3854</th>\n",
       "      <td>-118.43</td>\n",
       "      <td>34.18</td>\n",
       "      <td>25.0</td>\n",
       "      <td>3830.0</td>\n",
       "      <td>1105.0</td>\n",
       "      <td>2328.0</td>\n",
       "      <td>1017.0</td>\n",
       "      <td>2.6238</td>\n",
       "      <td>&lt;1H OCEAN</td>\n",
       "    </tr>\n",
       "    <tr>\n",
       "      <th>11267</th>\n",
       "      <td>-117.97</td>\n",
       "      <td>33.80</td>\n",
       "      <td>35.0</td>\n",
       "      <td>2985.0</td>\n",
       "      <td>474.0</td>\n",
       "      <td>1614.0</td>\n",
       "      <td>453.0</td>\n",
       "      <td>5.4631</td>\n",
       "      <td>&lt;1H OCEAN</td>\n",
       "    </tr>\n",
       "    <tr>\n",
       "      <th>14498</th>\n",
       "      <td>-117.23</td>\n",
       "      <td>32.86</td>\n",
       "      <td>16.0</td>\n",
       "      <td>1675.0</td>\n",
       "      <td>354.0</td>\n",
       "      <td>604.0</td>\n",
       "      <td>332.0</td>\n",
       "      <td>5.2326</td>\n",
       "      <td>NEAR OCEAN</td>\n",
       "    </tr>\n",
       "  </tbody>\n",
       "</table>\n",
       "</div>"
      ],
      "text/plain": [
       "       longitud  latitud  antiguedad  habitaciones  dormitorios  población  \\\n",
       "18223   -122.08    37.41        20.0        1896.0        456.0     1069.0   \n",
       "6687    -118.07    34.14        42.0        3200.0        685.0     1668.0   \n",
       "3854    -118.43    34.18        25.0        3830.0       1105.0     2328.0   \n",
       "11267   -117.97    33.80        35.0        2985.0        474.0     1614.0   \n",
       "14498   -117.23    32.86        16.0        1675.0        354.0      604.0   \n",
       "\n",
       "       hogares  ingresos  proximidad  \n",
       "18223    436.0    4.6875    NEAR BAY  \n",
       "6687     628.0    3.3750      INLAND  \n",
       "3854    1017.0    2.6238   <1H OCEAN  \n",
       "11267    453.0    5.4631   <1H OCEAN  \n",
       "14498    332.0    5.2326  NEAR OCEAN  "
      ]
     },
     "execution_count": 40,
     "metadata": {},
     "output_type": "execute_result"
    }
   ],
   "source": [
    "v.head() "
   ]
  },
  {
   "cell_type": "code",
   "execution_count": 43,
   "id": "a381c1fc",
   "metadata": {
    "slideshow": {
     "slide_type": "slide"
    }
   },
   "outputs": [
    {
     "data": {
      "text/html": [
       "<div>\n",
       "<style scoped>\n",
       "    .dataframe tbody tr th:only-of-type {\n",
       "        vertical-align: middle;\n",
       "    }\n",
       "\n",
       "    .dataframe tbody tr th {\n",
       "        vertical-align: top;\n",
       "    }\n",
       "\n",
       "    .dataframe thead th {\n",
       "        text-align: right;\n",
       "    }\n",
       "</style>\n",
       "<table border=\"1\" class=\"dataframe\">\n",
       "  <thead>\n",
       "    <tr style=\"text-align: right;\">\n",
       "      <th></th>\n",
       "      <th>longitud</th>\n",
       "      <th>latitud</th>\n",
       "      <th>antiguedad</th>\n",
       "      <th>habitaciones</th>\n",
       "      <th>dormitorios</th>\n",
       "      <th>población</th>\n",
       "      <th>hogares</th>\n",
       "      <th>ingresos</th>\n",
       "    </tr>\n",
       "  </thead>\n",
       "  <tbody>\n",
       "    <tr>\n",
       "      <th>18223</th>\n",
       "      <td>-1.259435</td>\n",
       "      <td>0.837333</td>\n",
       "      <td>-0.687740</td>\n",
       "      <td>-0.333891</td>\n",
       "      <td>-0.190413</td>\n",
       "      <td>-0.310735</td>\n",
       "      <td>-0.162716</td>\n",
       "      <td>0.433804</td>\n",
       "    </tr>\n",
       "    <tr>\n",
       "      <th>6687</th>\n",
       "      <td>0.746489</td>\n",
       "      <td>-0.695930</td>\n",
       "      <td>1.061459</td>\n",
       "      <td>0.260019</td>\n",
       "      <td>0.349630</td>\n",
       "      <td>0.212498</td>\n",
       "      <td>0.336532</td>\n",
       "      <td>-0.258239</td>\n",
       "    </tr>\n",
       "    <tr>\n",
       "      <th>3854</th>\n",
       "      <td>0.566406</td>\n",
       "      <td>-0.677175</td>\n",
       "      <td>-0.290194</td>\n",
       "      <td>0.546955</td>\n",
       "      <td>1.340102</td>\n",
       "      <td>0.789015</td>\n",
       "      <td>1.348031</td>\n",
       "      <td>-0.654325</td>\n",
       "    </tr>\n",
       "    <tr>\n",
       "      <th>11267</th>\n",
       "      <td>0.796512</td>\n",
       "      <td>-0.855352</td>\n",
       "      <td>0.504896</td>\n",
       "      <td>0.162097</td>\n",
       "      <td>-0.147964</td>\n",
       "      <td>0.165329</td>\n",
       "      <td>-0.118512</td>\n",
       "      <td>0.842756</td>\n",
       "    </tr>\n",
       "    <tr>\n",
       "      <th>14498</th>\n",
       "      <td>1.166683</td>\n",
       "      <td>-1.296106</td>\n",
       "      <td>-1.005776</td>\n",
       "      <td>-0.434546</td>\n",
       "      <td>-0.430956</td>\n",
       "      <td>-0.716917</td>\n",
       "      <td>-0.433143</td>\n",
       "      <td>0.721220</td>\n",
       "    </tr>\n",
       "    <tr>\n",
       "      <th>...</th>\n",
       "      <td>...</td>\n",
       "      <td>...</td>\n",
       "      <td>...</td>\n",
       "      <td>...</td>\n",
       "      <td>...</td>\n",
       "      <td>...</td>\n",
       "      <td>...</td>\n",
       "      <td>...</td>\n",
       "    </tr>\n",
       "    <tr>\n",
       "      <th>12680</th>\n",
       "      <td>-0.914276</td>\n",
       "      <td>1.371865</td>\n",
       "      <td>-0.290194</td>\n",
       "      <td>-0.208642</td>\n",
       "      <td>-0.249369</td>\n",
       "      <td>-0.324711</td>\n",
       "      <td>-0.199120</td>\n",
       "      <td>-0.177672</td>\n",
       "    </tr>\n",
       "    <tr>\n",
       "      <th>17219</th>\n",
       "      <td>-0.068887</td>\n",
       "      <td>-0.541197</td>\n",
       "      <td>0.266369</td>\n",
       "      <td>0.499132</td>\n",
       "      <td>0.076071</td>\n",
       "      <td>-0.105459</td>\n",
       "      <td>0.073907</td>\n",
       "      <td>2.035970</td>\n",
       "    </tr>\n",
       "    <tr>\n",
       "      <th>18525</th>\n",
       "      <td>-1.239426</td>\n",
       "      <td>0.631022</td>\n",
       "      <td>1.299986</td>\n",
       "      <td>-0.604430</td>\n",
       "      <td>-0.688007</td>\n",
       "      <td>-0.702067</td>\n",
       "      <td>-0.625561</td>\n",
       "      <td>0.693802</td>\n",
       "    </tr>\n",
       "    <tr>\n",
       "      <th>13822</th>\n",
       "      <td>1.176687</td>\n",
       "      <td>-0.531819</td>\n",
       "      <td>-1.164794</td>\n",
       "      <td>-0.229593</td>\n",
       "      <td>-0.445105</td>\n",
       "      <td>-0.312482</td>\n",
       "      <td>-0.360336</td>\n",
       "      <td>-0.122045</td>\n",
       "    </tr>\n",
       "    <tr>\n",
       "      <th>17044</th>\n",
       "      <td>-1.359481</td>\n",
       "      <td>0.874844</td>\n",
       "      <td>0.027842</td>\n",
       "      <td>0.691789</td>\n",
       "      <td>0.231717</td>\n",
       "      <td>0.186293</td>\n",
       "      <td>0.333932</td>\n",
       "      <td>1.606719</td>\n",
       "    </tr>\n",
       "  </tbody>\n",
       "</table>\n",
       "<p>16512 rows × 8 columns</p>\n",
       "</div>"
      ],
      "text/plain": [
       "       longitud   latitud  antiguedad  habitaciones  dormitorios  población  \\\n",
       "18223 -1.259435  0.837333   -0.687740     -0.333891    -0.190413  -0.310735   \n",
       "6687   0.746489 -0.695930    1.061459      0.260019     0.349630   0.212498   \n",
       "3854   0.566406 -0.677175   -0.290194      0.546955     1.340102   0.789015   \n",
       "11267  0.796512 -0.855352    0.504896      0.162097    -0.147964   0.165329   \n",
       "14498  1.166683 -1.296106   -1.005776     -0.434546    -0.430956  -0.716917   \n",
       "...         ...       ...         ...           ...          ...        ...   \n",
       "12680 -0.914276  1.371865   -0.290194     -0.208642    -0.249369  -0.324711   \n",
       "17219 -0.068887 -0.541197    0.266369      0.499132     0.076071  -0.105459   \n",
       "18525 -1.239426  0.631022    1.299986     -0.604430    -0.688007  -0.702067   \n",
       "13822  1.176687 -0.531819   -1.164794     -0.229593    -0.445105  -0.312482   \n",
       "17044 -1.359481  0.874844    0.027842      0.691789     0.231717   0.186293   \n",
       "\n",
       "        hogares  ingresos  \n",
       "18223 -0.162716  0.433804  \n",
       "6687   0.336532 -0.258239  \n",
       "3854   1.348031 -0.654325  \n",
       "11267 -0.118512  0.842756  \n",
       "14498 -0.433143  0.721220  \n",
       "...         ...       ...  \n",
       "12680 -0.199120 -0.177672  \n",
       "17219  0.073907  2.035970  \n",
       "18525 -0.625561  0.693802  \n",
       "13822 -0.360336 -0.122045  \n",
       "17044  0.333932  1.606719  \n",
       "\n",
       "[16512 rows x 8 columns]"
      ]
     },
     "execution_count": 43,
     "metadata": {},
     "output_type": "execute_result"
    }
   ],
   "source": [
    "v_num.apply(lambda df: (df - df.mean())/df.std())"
   ]
  },
  {
   "cell_type": "markdown",
   "id": "f7612b49",
   "metadata": {
    "slideshow": {
     "slide_type": "slide"
    }
   },
   "source": [
    "ScikitLearn proporciona un transformador llamado `StandardScaler` para la estandarización."
   ]
  },
  {
   "cell_type": "code",
   "execution_count": 32,
   "id": "659daf63",
   "metadata": {
    "slideshow": {
     "slide_type": "slide"
    }
   },
   "outputs": [],
   "source": [
    "from sklearn.preprocessing import StandardScaler"
   ]
  },
  {
   "cell_type": "code",
   "execution_count": 33,
   "id": "d6cd8596",
   "metadata": {
    "slideshow": {
     "slide_type": "slide"
    }
   },
   "outputs": [],
   "source": [
    "escalador = StandardScaler() "
   ]
  },
  {
   "cell_type": "code",
   "execution_count": 34,
   "id": "5a1d8bf4",
   "metadata": {
    "slideshow": {
     "slide_type": "slide"
    }
   },
   "outputs": [],
   "source": [
    "v_num = v.drop(['proximidad'], axis = 1) "
   ]
  },
  {
   "cell_type": "code",
   "execution_count": 35,
   "id": "408c679f",
   "metadata": {
    "slideshow": {
     "slide_type": "slide"
    }
   },
   "outputs": [],
   "source": [
    "v_num_escalado = escalador.fit_transform(v_num) "
   ]
  },
  {
   "cell_type": "code",
   "execution_count": 36,
   "id": "e57efbd4",
   "metadata": {
    "slideshow": {
     "slide_type": "slide"
    }
   },
   "outputs": [],
   "source": [
    "v_num_escal_df = pd.DataFrame(v_num_escalado, columns = v_num.columns, index = v_num.index)  "
   ]
  },
  {
   "cell_type": "code",
   "execution_count": 42,
   "id": "432d1d0f",
   "metadata": {},
   "outputs": [
    {
     "data": {
      "text/html": [
       "<div>\n",
       "<style scoped>\n",
       "    .dataframe tbody tr th:only-of-type {\n",
       "        vertical-align: middle;\n",
       "    }\n",
       "\n",
       "    .dataframe tbody tr th {\n",
       "        vertical-align: top;\n",
       "    }\n",
       "\n",
       "    .dataframe thead th {\n",
       "        text-align: right;\n",
       "    }\n",
       "</style>\n",
       "<table border=\"1\" class=\"dataframe\">\n",
       "  <thead>\n",
       "    <tr style=\"text-align: right;\">\n",
       "      <th></th>\n",
       "      <th>longitud</th>\n",
       "      <th>latitud</th>\n",
       "      <th>antiguedad</th>\n",
       "      <th>habitaciones</th>\n",
       "      <th>dormitorios</th>\n",
       "      <th>población</th>\n",
       "      <th>hogares</th>\n",
       "      <th>ingresos</th>\n",
       "    </tr>\n",
       "  </thead>\n",
       "  <tbody>\n",
       "    <tr>\n",
       "      <th>18223</th>\n",
       "      <td>-1.259473</td>\n",
       "      <td>0.837358</td>\n",
       "      <td>-0.687760</td>\n",
       "      <td>-0.333901</td>\n",
       "      <td>-0.190419</td>\n",
       "      <td>-0.310744</td>\n",
       "      <td>-0.162721</td>\n",
       "      <td>0.433817</td>\n",
       "    </tr>\n",
       "    <tr>\n",
       "      <th>6687</th>\n",
       "      <td>0.746512</td>\n",
       "      <td>-0.695951</td>\n",
       "      <td>1.061491</td>\n",
       "      <td>0.260027</td>\n",
       "      <td>0.349641</td>\n",
       "      <td>0.212505</td>\n",
       "      <td>0.336542</td>\n",
       "      <td>-0.258247</td>\n",
       "    </tr>\n",
       "    <tr>\n",
       "      <th>3854</th>\n",
       "      <td>0.566423</td>\n",
       "      <td>-0.677195</td>\n",
       "      <td>-0.290203</td>\n",
       "      <td>0.546971</td>\n",
       "      <td>1.340143</td>\n",
       "      <td>0.789039</td>\n",
       "      <td>1.348071</td>\n",
       "      <td>-0.654345</td>\n",
       "    </tr>\n",
       "    <tr>\n",
       "      <th>11267</th>\n",
       "      <td>0.796536</td>\n",
       "      <td>-0.855378</td>\n",
       "      <td>0.504911</td>\n",
       "      <td>0.162102</td>\n",
       "      <td>-0.147968</td>\n",
       "      <td>0.165334</td>\n",
       "      <td>-0.118516</td>\n",
       "      <td>0.842781</td>\n",
       "    </tr>\n",
       "    <tr>\n",
       "      <th>14498</th>\n",
       "      <td>1.166718</td>\n",
       "      <td>-1.296146</td>\n",
       "      <td>-1.005806</td>\n",
       "      <td>-0.434560</td>\n",
       "      <td>-0.430969</td>\n",
       "      <td>-0.716939</td>\n",
       "      <td>-0.433156</td>\n",
       "      <td>0.721242</td>\n",
       "    </tr>\n",
       "  </tbody>\n",
       "</table>\n",
       "</div>"
      ],
      "text/plain": [
       "       longitud   latitud  antiguedad  habitaciones  dormitorios  población  \\\n",
       "18223 -1.259473  0.837358   -0.687760     -0.333901    -0.190419  -0.310744   \n",
       "6687   0.746512 -0.695951    1.061491      0.260027     0.349641   0.212505   \n",
       "3854   0.566423 -0.677195   -0.290203      0.546971     1.340143   0.789039   \n",
       "11267  0.796536 -0.855378    0.504911      0.162102    -0.147968   0.165334   \n",
       "14498  1.166718 -1.296146   -1.005806     -0.434560    -0.430969  -0.716939   \n",
       "\n",
       "        hogares  ingresos  \n",
       "18223 -0.162721  0.433817  \n",
       "6687   0.336542 -0.258247  \n",
       "3854   1.348071 -0.654345  \n",
       "11267 -0.118516  0.842781  \n",
       "14498 -0.433156  0.721242  "
      ]
     },
     "execution_count": 42,
     "metadata": {},
     "output_type": "execute_result"
    }
   ],
   "source": [
    "v_num_escal_df.head()"
   ]
  },
  {
   "cell_type": "code",
   "execution_count": 37,
   "id": "9d6cc107",
   "metadata": {
    "slideshow": {
     "slide_type": "slide"
    }
   },
   "outputs": [
    {
     "data": {
      "text/html": [
       "<div>\n",
       "<style scoped>\n",
       "    .dataframe tbody tr th:only-of-type {\n",
       "        vertical-align: middle;\n",
       "    }\n",
       "\n",
       "    .dataframe tbody tr th {\n",
       "        vertical-align: top;\n",
       "    }\n",
       "\n",
       "    .dataframe thead th {\n",
       "        text-align: right;\n",
       "    }\n",
       "</style>\n",
       "<table border=\"1\" class=\"dataframe\">\n",
       "  <thead>\n",
       "    <tr style=\"text-align: right;\">\n",
       "      <th></th>\n",
       "      <th>longitud</th>\n",
       "      <th>latitud</th>\n",
       "      <th>antiguedad</th>\n",
       "      <th>habitaciones</th>\n",
       "      <th>dormitorios</th>\n",
       "      <th>población</th>\n",
       "      <th>hogares</th>\n",
       "      <th>ingresos</th>\n",
       "    </tr>\n",
       "  </thead>\n",
       "  <tbody>\n",
       "    <tr>\n",
       "      <th>count</th>\n",
       "      <td>1.651200e+04</td>\n",
       "      <td>1.651200e+04</td>\n",
       "      <td>1.651200e+04</td>\n",
       "      <td>1.651200e+04</td>\n",
       "      <td>1.634800e+04</td>\n",
       "      <td>1.651200e+04</td>\n",
       "      <td>1.651200e+04</td>\n",
       "      <td>1.651200e+04</td>\n",
       "    </tr>\n",
       "    <tr>\n",
       "      <th>mean</th>\n",
       "      <td>-3.338643e-15</td>\n",
       "      <td>-7.786690e-16</td>\n",
       "      <td>-3.420183e-16</td>\n",
       "      <td>-5.789808e-17</td>\n",
       "      <td>7.144327e-18</td>\n",
       "      <td>8.756992e-17</td>\n",
       "      <td>6.704572e-17</td>\n",
       "      <td>-1.233805e-16</td>\n",
       "    </tr>\n",
       "    <tr>\n",
       "      <th>std</th>\n",
       "      <td>1.000030e+00</td>\n",
       "      <td>1.000030e+00</td>\n",
       "      <td>1.000030e+00</td>\n",
       "      <td>1.000030e+00</td>\n",
       "      <td>1.000031e+00</td>\n",
       "      <td>1.000030e+00</td>\n",
       "      <td>1.000030e+00</td>\n",
       "      <td>1.000030e+00</td>\n",
       "    </tr>\n",
       "    <tr>\n",
       "      <th>min</th>\n",
       "      <td>-2.370018e+00</td>\n",
       "      <td>-1.446194e+00</td>\n",
       "      <td>-2.198478e+00</td>\n",
       "      <td>-1.196555e+00</td>\n",
       "      <td>-1.263463e+00</td>\n",
       "      <td>-1.241935e+00</td>\n",
       "      <td>-1.293866e+00</td>\n",
       "      <td>-1.774250e+00</td>\n",
       "    </tr>\n",
       "    <tr>\n",
       "      <th>25%</th>\n",
       "      <td>-1.110650e+00</td>\n",
       "      <td>-7.944206e-01</td>\n",
       "      <td>-8.467833e-01</td>\n",
       "      <td>-5.402278e-01</td>\n",
       "      <td>-5.701110e-01</td>\n",
       "      <td>-5.597020e-01</td>\n",
       "      <td>-5.709734e-01</td>\n",
       "      <td>-6.896730e-01</td>\n",
       "    </tr>\n",
       "    <tr>\n",
       "      <th>50%</th>\n",
       "      <td>5.364086e-01</td>\n",
       "      <td>-6.443719e-01</td>\n",
       "      <td>2.784249e-02</td>\n",
       "      <td>-2.350652e-01</td>\n",
       "      <td>-2.470186e-01</td>\n",
       "      <td>-2.295050e-01</td>\n",
       "      <td>-2.355307e-01</td>\n",
       "      <td>-1.720353e-01</td>\n",
       "    </tr>\n",
       "    <tr>\n",
       "      <th>75%</th>\n",
       "      <td>7.815289e-01</td>\n",
       "      <td>9.780290e-01</td>\n",
       "      <td>6.639340e-01</td>\n",
       "      <td>2.264365e-01</td>\n",
       "      <td>2.553075e-01</td>\n",
       "      <td>2.596759e-01</td>\n",
       "      <td>2.689337e-01</td>\n",
       "      <td>4.568203e-01</td>\n",
       "    </tr>\n",
       "    <tr>\n",
       "      <th>max</th>\n",
       "      <td>2.627435e+00</td>\n",
       "      <td>2.966174e+00</td>\n",
       "      <td>1.856606e+00</td>\n",
       "      <td>1.671148e+01</td>\n",
       "      <td>1.393367e+01</td>\n",
       "      <td>2.992500e+01</td>\n",
       "      <td>1.451875e+01</td>\n",
       "      <td>5.871517e+00</td>\n",
       "    </tr>\n",
       "  </tbody>\n",
       "</table>\n",
       "</div>"
      ],
      "text/plain": [
       "           longitud       latitud    antiguedad  habitaciones   dormitorios  \\\n",
       "count  1.651200e+04  1.651200e+04  1.651200e+04  1.651200e+04  1.634800e+04   \n",
       "mean  -3.338643e-15 -7.786690e-16 -3.420183e-16 -5.789808e-17  7.144327e-18   \n",
       "std    1.000030e+00  1.000030e+00  1.000030e+00  1.000030e+00  1.000031e+00   \n",
       "min   -2.370018e+00 -1.446194e+00 -2.198478e+00 -1.196555e+00 -1.263463e+00   \n",
       "25%   -1.110650e+00 -7.944206e-01 -8.467833e-01 -5.402278e-01 -5.701110e-01   \n",
       "50%    5.364086e-01 -6.443719e-01  2.784249e-02 -2.350652e-01 -2.470186e-01   \n",
       "75%    7.815289e-01  9.780290e-01  6.639340e-01  2.264365e-01  2.553075e-01   \n",
       "max    2.627435e+00  2.966174e+00  1.856606e+00  1.671148e+01  1.393367e+01   \n",
       "\n",
       "          población       hogares      ingresos  \n",
       "count  1.651200e+04  1.651200e+04  1.651200e+04  \n",
       "mean   8.756992e-17  6.704572e-17 -1.233805e-16  \n",
       "std    1.000030e+00  1.000030e+00  1.000030e+00  \n",
       "min   -1.241935e+00 -1.293866e+00 -1.774250e+00  \n",
       "25%   -5.597020e-01 -5.709734e-01 -6.896730e-01  \n",
       "50%   -2.295050e-01 -2.355307e-01 -1.720353e-01  \n",
       "75%    2.596759e-01  2.689337e-01  4.568203e-01  \n",
       "max    2.992500e+01  1.451875e+01  5.871517e+00  "
      ]
     },
     "execution_count": 37,
     "metadata": {},
     "output_type": "execute_result"
    }
   ],
   "source": [
    "v_num_escal_df.describe() \n"
   ]
  },
  {
   "cell_type": "markdown",
   "id": "5e77c14c",
   "metadata": {
    "slideshow": {
     "slide_type": "slide"
    }
   },
   "source": [
    "# El uso de Pipelines "
   ]
  },
  {
   "cell_type": "code",
   "execution_count": null,
   "id": "9e435ab0",
   "metadata": {},
   "outputs": [],
   "source": []
  }
 ],
 "metadata": {
  "celltoolbar": "Slideshow",
  "kernelspec": {
   "display_name": "Python 3 (ipykernel)",
   "language": "python",
   "name": "python3"
  },
  "language_info": {
   "codemirror_mode": {
    "name": "ipython",
    "version": 3
   },
   "file_extension": ".py",
   "mimetype": "text/x-python",
   "name": "python",
   "nbconvert_exporter": "python",
   "pygments_lexer": "ipython3",
   "version": "3.9.7"
  },
  "rise": {
   "enable_chalkboard": true,
   "theme": "sky",
   "transition": "zoom"
  }
 },
 "nbformat": 4,
 "nbformat_minor": 5
}
