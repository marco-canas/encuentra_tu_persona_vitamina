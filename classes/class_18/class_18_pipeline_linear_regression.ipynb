{
 "cells": [
  {
   "cell_type": "markdown",
   "id": "978d88b4",
   "metadata": {
    "slideshow": {
     "slide_type": "slide"
    }
   },
   "source": [
    "<table align=\"left\">\n",
    "  <td>\n",
    "    <a href=\"https://colab.research.google.com/github/marco-canas/intro-Machine-Learning/blob/main/classes/class_18/class_18_pipeline_linear_regression.ipynb\" target=\"_parent\"><img src=\"https://colab.research.google.com/assets/colab-badge.svg\" alt=\"Open In Colab\"/></a>\n",
    "  </td>\n",
    "</table> "
   ]
  },
  {
   "cell_type": "markdown",
   "id": "3ab6fbdc",
   "metadata": {
    "slideshow": {
     "slide_type": "slide"
    }
   },
   "source": [
    "# Clase 18 "
   ]
  },
  {
   "cell_type": "markdown",
   "id": "33d77354",
   "metadata": {
    "slideshow": {
     "slide_type": "slide"
    }
   },
   "source": [
    "Pasos para creación del cuaderno interactivo.\n",
    "\n",
    "1. Plantear bien la pregunta.  \n",
    "\n",
    "   * ¿Regresión o clasificación?\n",
    "   * ¿Tipo de regresión y tipo de clasificación?\n",
    "\n",
    "2. Exploración inicial.\n",
    "   * Indicar la fuente de dónde se toman los datos.\n",
    "   * Hacer explícita la función objetivo.\n",
    "   * Decir cuáles son los atributos (descripción breve de cada uno)\n",
    "   * Practicar una primera s´ntesis tabular y una exploración gráfica de los datos.\n",
    "   \n",
    "3. Preparar los datos para los algoritmos de aprendizaje.\n",
    "\n",
    "   * Explorar correlaciones lineales con la variable objetivo.\n",
    "   * Eliminar de ser necesario atributos que no sean de mucha utilidad.\n",
    "   * Hacer separación inicial de datos para entrenar y para testear.\n",
    "   * Limpiar datos y llenar datos faltantes.\n",
    "   * Estandarizar los datos.\n",
    "   * Crear funciones en Python de manera que se puedan replicar los procesos de transformación de datos en proyectos nuevos.   "
   ]
  },
  {
   "cell_type": "code",
   "execution_count": 1,
   "id": "735eed83",
   "metadata": {
    "slideshow": {
     "slide_type": "slide"
    }
   },
   "outputs": [],
   "source": [
    "import pandas as pd \n",
    "v = pd.read_csv('vivienda.csv')"
   ]
  },
  {
   "cell_type": "code",
   "execution_count": null,
   "id": "3ed11bb3",
   "metadata": {
    "slideshow": {
     "slide_type": "slide"
    }
   },
   "outputs": [],
   "source": [
    "v.head()"
   ]
  },
  {
   "cell_type": "markdown",
   "id": "58d2cae2",
   "metadata": {
    "slideshow": {
     "slide_type": "slide"
    }
   },
   "source": [
    "# Sintesis de la información"
   ]
  },
  {
   "cell_type": "code",
   "execution_count": 2,
   "id": "10896fd2",
   "metadata": {
    "slideshow": {
     "slide_type": "slide"
    }
   },
   "outputs": [
    {
     "name": "stdout",
     "output_type": "stream",
     "text": [
      "<class 'pandas.core.frame.DataFrame'>\n",
      "RangeIndex: 20640 entries, 0 to 20639\n",
      "Data columns (total 10 columns):\n",
      " #   Column        Non-Null Count  Dtype  \n",
      "---  ------        --------------  -----  \n",
      " 0   longitud      20640 non-null  float64\n",
      " 1   latitud       20640 non-null  float64\n",
      " 2   antiguedad    20640 non-null  float64\n",
      " 3   habitaciones  20640 non-null  float64\n",
      " 4   dormitorios   20433 non-null  float64\n",
      " 5   población     20640 non-null  float64\n",
      " 6   hogares       20640 non-null  float64\n",
      " 7   ingresos      20640 non-null  float64\n",
      " 8   proximidad    20640 non-null  object \n",
      " 9   valor         20640 non-null  float64\n",
      "dtypes: float64(9), object(1)\n",
      "memory usage: 1.6+ MB\n"
     ]
    }
   ],
   "source": [
    "v.info() \n"
   ]
  },
  {
   "cell_type": "code",
   "execution_count": null,
   "id": "5d6b4679",
   "metadata": {
    "slideshow": {
     "slide_type": "slide"
    }
   },
   "outputs": [],
   "source": [
    "v.proximidad.value_counts() "
   ]
  },
  {
   "cell_type": "code",
   "execution_count": null,
   "id": "bd993f84",
   "metadata": {
    "slideshow": {
     "slide_type": "slide"
    }
   },
   "outputs": [],
   "source": [
    "v.describe() "
   ]
  },
  {
   "cell_type": "markdown",
   "id": "35e30548",
   "metadata": {
    "slideshow": {
     "slide_type": "slide"
    }
   },
   "source": [
    "# Visualizaciones "
   ]
  },
  {
   "cell_type": "code",
   "execution_count": null,
   "id": "32bca3d5",
   "metadata": {
    "slideshow": {
     "slide_type": "slide"
    }
   },
   "outputs": [],
   "source": [
    "v.hist(figsize = (15,10)) "
   ]
  },
  {
   "cell_type": "code",
   "execution_count": null,
   "id": "ff7915fb",
   "metadata": {
    "slideshow": {
     "slide_type": "slide"
    }
   },
   "outputs": [],
   "source": [
    "v.plot(kind = 'scatter', x = 'longitud', y = 'latitud', alpha = 1, figsize = (10,6)) "
   ]
  },
  {
   "cell_type": "code",
   "execution_count": null,
   "id": "d07dce51",
   "metadata": {
    "slideshow": {
     "slide_type": "slide"
    }
   },
   "outputs": [],
   "source": [
    "v.plot(kind = 'scatter', x = 'longitud', y = 'latitud', alpha = 0.1, figsize = (10,6)) "
   ]
  },
  {
   "cell_type": "code",
   "execution_count": null,
   "id": "2cf4578e",
   "metadata": {
    "scrolled": true,
    "slideshow": {
     "slide_type": "slide"
    }
   },
   "outputs": [],
   "source": [
    "import matplotlib.pyplot as plt \n",
    "\n",
    "v.plot(kind = 'scatter', x = 'longitud', y = 'latitud', alpha = 0.1, figsize = (10,6),\\\n",
    "      s = v.población/100, label = 'Población', \\\n",
    "      c = 'valor', cmap = plt.get_cmap('jet'), colorbar = True)  "
   ]
  },
  {
   "cell_type": "markdown",
   "id": "cb189d2f",
   "metadata": {
    "slideshow": {
     "slide_type": "slide"
    }
   },
   "source": [
    "# Buscando correlaciones"
   ]
  },
  {
   "cell_type": "markdown",
   "id": "73051de1",
   "metadata": {
    "slideshow": {
     "slide_type": "slide"
    }
   },
   "source": [
    "Dado que el conjunto de datos no es demasiado grande, puede calcular fácilmente el coeficiente de correlación estándar (también llamado r de Pearson) entre cada par de atributos usando el método `corr()`:"
   ]
  },
  {
   "cell_type": "code",
   "execution_count": null,
   "id": "32a0fe3e",
   "metadata": {
    "slideshow": {
     "slide_type": "slide"
    }
   },
   "outputs": [],
   "source": [
    "v.corr() "
   ]
  },
  {
   "cell_type": "markdown",
   "id": "8529b1e1",
   "metadata": {
    "slideshow": {
     "slide_type": "slide"
    }
   },
   "source": [
    "Ahora veamos cómo cada atributo está correlacionado con la variable objetivo de valor promedio de vivienda por distrito: "
   ]
  },
  {
   "cell_type": "code",
   "execution_count": null,
   "id": "2cbce882",
   "metadata": {
    "slideshow": {
     "slide_type": "slide"
    }
   },
   "outputs": [],
   "source": [
    "v.corr().valor.sort_values(ascending = False) "
   ]
  },
  {
   "cell_type": "markdown",
   "id": "44a37706",
   "metadata": {
    "slideshow": {
     "slide_type": "slide"
    }
   },
   "source": [
    "El coeficiente de correlación varía de –1 a 1."
   ]
  },
  {
   "cell_type": "markdown",
   "id": "98357191",
   "metadata": {
    "slideshow": {
     "slide_type": "slide"
    }
   },
   "source": [
    "Cuando es cercano a 1, significa que existe una fuerte correlación positiva; por ejemplo, el valor medio de la vivienda tiende a aumentar cuando aumenta el ingreso medio."
   ]
  },
  {
   "cell_type": "markdown",
   "id": "3e240c59",
   "metadata": {
    "slideshow": {
     "slide_type": "slide"
    }
   },
   "source": [
    "Cuando el coeficiente es cercano a –1, significa que existe una fuerte correlación negativa; puede ver una pequeña correlación negativa entre la latitud y el valor medio de la vivienda (es decir, los precios tienen una ligera tendencia a bajar cuando va hacia el norte)."
   ]
  },
  {
   "cell_type": "markdown",
   "id": "c45f597c",
   "metadata": {
    "slideshow": {
     "slide_type": "slide"
    }
   },
   "source": [
    "Finalmente, los coeficientes cercanos a 0 significan que no existe una correlación lineal. "
   ]
  },
  {
   "cell_type": "markdown",
   "id": "c4ebff57",
   "metadata": {
    "slideshow": {
     "slide_type": "slide"
    }
   },
   "source": [
    "La siguiente figura muestra varios gráficos junto con el coeficiente de correlación entre sus ejes horizontal y vertical."
   ]
  },
  {
   "cell_type": "markdown",
   "id": "02fa5ab9",
   "metadata": {
    "slideshow": {
     "slide_type": "slide"
    }
   },
   "source": [
    "<img src = 'https://github.com/marco-canas/intro-Machine-Learning/blob/main/classes/class_17_/coeficientes_de_correlaci%C3%B3n_est%C3%A1ndar.png?raw=true'>"
   ]
  },
  {
   "cell_type": "code",
   "execution_count": null,
   "id": "46ad5008",
   "metadata": {
    "slideshow": {
     "slide_type": "slide"
    }
   },
   "outputs": [],
   "source": [
    "import matplotlib.pyplot as plt \n",
    "\n",
    "from pandas.plotting import scatter_matrix\n",
    "attributes = ['valor', 'ingresos', 'habitaciones','antiguedad'] \n",
    "scatter_matrix(v[attributes], figsize=(12, 8))\n",
    "\n",
    "plt.show() "
   ]
  },
  {
   "cell_type": "code",
   "execution_count": null,
   "id": "a2c46c7f",
   "metadata": {
    "slideshow": {
     "slide_type": "slide"
    }
   },
   "outputs": [],
   "source": [
    "v.plot(kind=\"scatter\", x='ingresos', y='valor', alpha=0.1, figsize = (10,6))\n",
    "\n",
    "plt.show() "
   ]
  },
  {
   "cell_type": "markdown",
   "id": "0ad210d0",
   "metadata": {
    "slideshow": {
     "slide_type": "slide"
    }
   },
   "source": [
    "Esta gráfico revela algunas cosas.\n",
    "\n",
    "* Primero, la correlación es de hecho muy fuerte; se puede ver claramente la tendencia al alza, y los puntos no están demasiado dispersos.\n",
    "\n",
    "* En segundo lugar, el límite de precio que notamos anteriormente es claramente visible como una línea horizontal en $500,000."
   ]
  },
  {
   "cell_type": "markdown",
   "id": "f3165adb",
   "metadata": {
    "slideshow": {
     "slide_type": "slide"
    }
   },
   "source": [
    "Pero este gráfico revela otras líneas rectas menos obvias: \n",
    "\n",
    "* una línea horizontal alrededor de $450 000, \n",
    "* otra alrededor de $350 000, \n",
    "* quizás una alrededor de $280 000 y algunas más por debajo de esa. \n",
    "\n",
    "Es posible que desee intentar eliminar los distritos correspondientes para evitar que sus algoritmos aprendan a reproducir estas peculiaridades de los datos."
   ]
  },
  {
   "cell_type": "markdown",
   "id": "ba407bef",
   "metadata": {
    "slideshow": {
     "slide_type": "slide"
    }
   },
   "source": [
    "## Experimentando con combinaciones de atributos"
   ]
  },
  {
   "cell_type": "markdown",
   "id": "fb3e4f19",
   "metadata": {
    "slideshow": {
     "slide_type": "slide"
    }
   },
   "source": [
    "Identificó algunas peculiaridades de los datos que quizás desee limpiar antes de enviar los datos a un algoritmo de aprendizaje automático y encontró correlaciones interesantes entre los atributos, en particular con el atributo objetivo."
   ]
  },
  {
   "cell_type": "markdown",
   "id": "9ea952bd",
   "metadata": {
    "slideshow": {
     "slide_type": "slide"
    }
   },
   "source": [
    "Una última cosa que quizás desee hacer antes de preparar los datos para los algoritmos de Machine Learning es probar varias combinaciones de atributos.\n",
    "\n",
    "Por ejemplo, el número total de habitaciones en un distrito no es muy útil si no sabe cuántos hogares hay.\n",
    "\n",
    "Lo que realmente desea es el número de **habitaciones por hogar**. "
   ]
  },
  {
   "cell_type": "markdown",
   "id": "01861f14",
   "metadata": {
    "slideshow": {
     "slide_type": "slide"
    }
   },
   "source": [
    "Del mismo modo, el número total de dormitorios por sí solo no es muy útil: probablemente quieras compararlo con el número de habitaciones.\n",
    "\n",
    "Y la población por hogar también parece una combinación de atributos interesante para observar.\n",
    "\n",
    "Vamos a crear estos nuevos atributos:"
   ]
  },
  {
   "cell_type": "code",
   "execution_count": 3,
   "id": "06b978aa",
   "metadata": {
    "slideshow": {
     "slide_type": "slide"
    }
   },
   "outputs": [],
   "source": [
    "v['habitaciones_por_hogar'] = v.habitaciones/v.hogares "
   ]
  },
  {
   "cell_type": "code",
   "execution_count": 4,
   "id": "62ed034d",
   "metadata": {
    "slideshow": {
     "slide_type": "slide"
    }
   },
   "outputs": [],
   "source": [
    "v['dormitorios_por_habitación'] = v.dormitorios/v.habitaciones "
   ]
  },
  {
   "cell_type": "code",
   "execution_count": 5,
   "id": "c0ae8d80",
   "metadata": {
    "slideshow": {
     "slide_type": "slide"
    }
   },
   "outputs": [],
   "source": [
    "v['población_por_hogar'] = v.población/v.hogares "
   ]
  },
  {
   "cell_type": "markdown",
   "id": "ea503f56",
   "metadata": {
    "slideshow": {
     "slide_type": "slide"
    }
   },
   "source": [
    "Ahora veamos las correlaciones de nuevo: "
   ]
  },
  {
   "cell_type": "code",
   "execution_count": null,
   "id": "b8e38578",
   "metadata": {
    "slideshow": {
     "slide_type": "slide"
    }
   },
   "outputs": [],
   "source": [
    "v.corr().valor.sort_values(ascending = False) "
   ]
  },
  {
   "cell_type": "markdown",
   "id": "18dcb754",
   "metadata": {
    "slideshow": {
     "slide_type": "slide"
    }
   },
   "source": [
    "Note que:\n",
    "\n",
    "* El nuevo atributo dormitorios_por_habitación está mucho más correlacionado con el valor medio de la casa que con el número total de habitaciones o dormitorios."
   ]
  },
  {
   "cell_type": "markdown",
   "id": "0849cd62",
   "metadata": {
    "slideshow": {
     "slide_type": "slide"
    }
   },
   "source": [
    "Aparentemente, las casas con una relación dormitorio/habitación más baja tienden a ser más caras."
   ]
  },
  {
   "cell_type": "markdown",
   "id": "6194807f",
   "metadata": {
    "slideshow": {
     "slide_type": "slide"
    }
   },
   "source": [
    "El número de habitaciones por hogar también es más informativo que el número total de habitaciones en un distrito; obviamente, cuanto más grandes son las casas, más caras son."
   ]
  },
  {
   "cell_type": "markdown",
   "id": "5dec5004",
   "metadata": {
    "slideshow": {
     "slide_type": "slide"
    }
   },
   "source": [
    "Esta ronda de exploración no tiene que ser absolutamente minuciosa; el punto es comenzar con el pie derecho y obtener rápidamente información que lo ayudará a obtener un primer prototipo razonablemente bueno."
   ]
  },
  {
   "cell_type": "markdown",
   "id": "55b764f3",
   "metadata": {
    "slideshow": {
     "slide_type": "slide"
    }
   },
   "source": [
    "Pero este es un proceso iterativo: una vez que tiene un prototipo en funcionamiento, puede analizar su resultado para obtener más información y volver a este paso de exploración."
   ]
  },
  {
   "cell_type": "markdown",
   "id": "1bd07e93",
   "metadata": {
    "slideshow": {
     "slide_type": "slide"
    }
   },
   "source": [
    "## Dividir en entrenamiento y testeo"
   ]
  },
  {
   "cell_type": "code",
   "execution_count": 6,
   "id": "c2ce9a62",
   "metadata": {
    "slideshow": {
     "slide_type": "slide"
    }
   },
   "outputs": [],
   "source": [
    "from sklearn.model_selection import train_test_split\n",
    "\n",
    "v_train, v_test = train_test_split(v, test_size = 0.2, random_state = 513) \n",
    "\n"
   ]
  },
  {
   "cell_type": "markdown",
   "id": "bb210e1c",
   "metadata": {
    "slideshow": {
     "slide_type": "slide"
    }
   },
   "source": [
    "## Preparar los datos para los algoritmos de Machine Learning "
   ]
  },
  {
   "cell_type": "markdown",
   "id": "665fd149",
   "metadata": {
    "slideshow": {
     "slide_type": "slide"
    }
   },
   "source": [
    "Es hora de preparar los datos para sus algoritmos de Machine Learning."
   ]
  },
  {
   "cell_type": "markdown",
   "id": "a3d4de27",
   "metadata": {
    "slideshow": {
     "slide_type": "slide"
    }
   },
   "source": [
    "En lugar de hacer esto manualmente, debe escribir funciones para este propósito, por varias buenas razones:"
   ]
  },
  {
   "cell_type": "markdown",
   "id": "6b71583f",
   "metadata": {
    "slideshow": {
     "slide_type": "slide"
    }
   },
   "source": [
    "Esto le permitirá reproducir estas transformaciones fácilmente en cualquier\n",
    "conjunto de datos (por ejemplo, la próxima vez que obtenga un conjunto de datos nuevo)."
   ]
  },
  {
   "cell_type": "markdown",
   "id": "7edb7f1a",
   "metadata": {
    "slideshow": {
     "slide_type": "slide"
    }
   },
   "source": [
    "Gradualmente construirá una biblioteca de funciones de transformación que puede reutilizar en futuros proyectos."
   ]
  },
  {
   "cell_type": "markdown",
   "id": "0115c5cb",
   "metadata": {
    "slideshow": {
     "slide_type": "slide"
    }
   },
   "source": [
    "Puede usar estas funciones en su sistema en vivo para transformar el nuevo datos antes de alimentarlos a sus algoritmos."
   ]
  },
  {
   "cell_type": "markdown",
   "id": "a365ab52",
   "metadata": {
    "slideshow": {
     "slide_type": "slide"
    }
   },
   "source": [
    "Esto le permitirá probar fácilmente varias transformaciones y ver qué combinación de transformaciones funciona mejor."
   ]
  },
  {
   "cell_type": "markdown",
   "id": "b0f8e2a8",
   "metadata": {
    "slideshow": {
     "slide_type": "slide"
    }
   },
   "source": [
    "Pero primero volvamos a un conjunto de entrenamiento limpio (copiando strat_train_set una vez más)."
   ]
  },
  {
   "cell_type": "markdown",
   "id": "ac897e32",
   "metadata": {
    "slideshow": {
     "slide_type": "slide"
    }
   },
   "source": [
    "También separemos los predictores y las etiquetas, ya que no necesariamente queremos aplicar las mismas transformaciones a los predictores y los valores objetivo (tenga en cuenta que drop() crea una copia de los datos y no afecta a strat_train_set):"
   ]
  },
  {
   "cell_type": "markdown",
   "id": "90971cbb",
   "metadata": {
    "slideshow": {
     "slide_type": "slide"
    }
   },
   "source": [
    "## Separar los datos en `X` y `y`"
   ]
  },
  {
   "cell_type": "code",
   "execution_count": 7,
   "id": "ea479bff",
   "metadata": {
    "slideshow": {
     "slide_type": "slide"
    }
   },
   "outputs": [],
   "source": [
    "v = v_train.drop('valor', axis = 1)"
   ]
  },
  {
   "cell_type": "code",
   "execution_count": 8,
   "id": "2031c2f4",
   "metadata": {
    "slideshow": {
     "slide_type": "slide"
    }
   },
   "outputs": [],
   "source": [
    "v_labels = v_train.valor "
   ]
  },
  {
   "cell_type": "markdown",
   "id": "65b1ce46",
   "metadata": {
    "slideshow": {
     "slide_type": "slide"
    }
   },
   "source": [
    "## Limpieza de datos"
   ]
  },
  {
   "cell_type": "markdown",
   "id": "c5433f78",
   "metadata": {
    "slideshow": {
     "slide_type": "slide"
    }
   },
   "source": [
    "La mayoría de los algoritmos de aprendizaje automático no pueden funcionar con atributos faltantes, así que creemos algunas funciones para encargarnos de ellos. "
   ]
  },
  {
   "cell_type": "markdown",
   "id": "2edd5b72",
   "metadata": {
    "slideshow": {
     "slide_type": "slide"
    }
   },
   "source": [
    "Vimos anteriormente que el atributo `dormitorios` tiene algunos valores faltantes, así que arreglemos esto."
   ]
  },
  {
   "cell_type": "markdown",
   "id": "026ff711",
   "metadata": {
    "slideshow": {
     "slide_type": "slide"
    }
   },
   "source": [
    "Tienes tres opciones:"
   ]
  },
  {
   "cell_type": "markdown",
   "id": "5fa402ee",
   "metadata": {
    "slideshow": {
     "slide_type": "slide"
    }
   },
   "source": [
    "1. Deshacerse de los distritos correspondientes.\n",
    "2. Deshágase de todo el atributo.\n",
    "3. Establezca los valores en algún valor (cero, la media, la mediana, etc.).\n",
    "\n",
    "Puede lograr esto fácilmente usando los métodos `dropna()`, `drop()` y `fillna()`:"
   ]
  },
  {
   "cell_type": "markdown",
   "id": "8f12bbe7",
   "metadata": {
    "slideshow": {
     "slide_type": "slide"
    }
   },
   "source": [
    "### Probemos las tres opciones con copias de `v`"
   ]
  },
  {
   "cell_type": "code",
   "execution_count": 11,
   "id": "7c055080",
   "metadata": {
    "slideshow": {
     "slide_type": "slide"
    }
   },
   "outputs": [],
   "source": [
    "v1 = pd.concat((v.copy(),v_labels),axis = 1)  "
   ]
  },
  {
   "cell_type": "code",
   "execution_count": 12,
   "id": "addb1203",
   "metadata": {
    "scrolled": false,
    "slideshow": {
     "slide_type": "slide"
    }
   },
   "outputs": [
    {
     "name": "stdout",
     "output_type": "stream",
     "text": [
      "<class 'pandas.core.frame.DataFrame'>\n",
      "Int64Index: 16512 entries, 18223 to 17044\n",
      "Data columns (total 13 columns):\n",
      " #   Column                      Non-Null Count  Dtype  \n",
      "---  ------                      --------------  -----  \n",
      " 0   longitud                    16512 non-null  float64\n",
      " 1   latitud                     16512 non-null  float64\n",
      " 2   antiguedad                  16512 non-null  float64\n",
      " 3   habitaciones                16512 non-null  float64\n",
      " 4   dormitorios                 16348 non-null  float64\n",
      " 5   población                   16512 non-null  float64\n",
      " 6   hogares                     16512 non-null  float64\n",
      " 7   ingresos                    16512 non-null  float64\n",
      " 8   proximidad                  16512 non-null  object \n",
      " 9   habitaciones_por_hogar      16512 non-null  float64\n",
      " 10  dormitorios_por_habitación  16348 non-null  float64\n",
      " 11  población_por_hogar         16512 non-null  float64\n",
      " 12  valor                       16512 non-null  float64\n",
      "dtypes: float64(12), object(1)\n",
      "memory usage: 1.8+ MB\n"
     ]
    }
   ],
   "source": [
    "v1.info() "
   ]
  },
  {
   "cell_type": "code",
   "execution_count": 14,
   "id": "66b792f9",
   "metadata": {},
   "outputs": [
    {
     "data": {
      "text/plain": [
       "16512"
      ]
     },
     "execution_count": 14,
     "metadata": {},
     "output_type": "execute_result"
    }
   ],
   "source": [
    "len(v1.dormitorios)"
   ]
  },
  {
   "cell_type": "code",
   "execution_count": 16,
   "id": "fc6358e9",
   "metadata": {
    "scrolled": true,
    "slideshow": {
     "slide_type": "slide"
    }
   },
   "outputs": [
    {
     "name": "stdout",
     "output_type": "stream",
     "text": [
      "<class 'pandas.core.frame.DataFrame'>\n",
      "Int64Index: 16348 entries, 18223 to 17044\n",
      "Data columns (total 13 columns):\n",
      " #   Column                      Non-Null Count  Dtype  \n",
      "---  ------                      --------------  -----  \n",
      " 0   longitud                    16348 non-null  float64\n",
      " 1   latitud                     16348 non-null  float64\n",
      " 2   antiguedad                  16348 non-null  float64\n",
      " 3   habitaciones                16348 non-null  float64\n",
      " 4   dormitorios                 16348 non-null  float64\n",
      " 5   población                   16348 non-null  float64\n",
      " 6   hogares                     16348 non-null  float64\n",
      " 7   ingresos                    16348 non-null  float64\n",
      " 8   proximidad                  16348 non-null  object \n",
      " 9   habitaciones_por_hogar      16348 non-null  float64\n",
      " 10  dormitorios_por_habitación  16348 non-null  float64\n",
      " 11  población_por_hogar         16348 non-null  float64\n",
      " 12  valor                       16348 non-null  float64\n",
      "dtypes: float64(12), object(1)\n",
      "memory usage: 1.7+ MB\n"
     ]
    }
   ],
   "source": [
    "v1.dropna().info() "
   ]
  },
  {
   "cell_type": "code",
   "execution_count": 17,
   "id": "b0d49d1f",
   "metadata": {
    "scrolled": true
   },
   "outputs": [
    {
     "name": "stdout",
     "output_type": "stream",
     "text": [
      "<class 'pandas.core.frame.DataFrame'>\n",
      "Int64Index: 16512 entries, 18223 to 17044\n",
      "Data columns (total 13 columns):\n",
      " #   Column                      Non-Null Count  Dtype  \n",
      "---  ------                      --------------  -----  \n",
      " 0   longitud                    16512 non-null  float64\n",
      " 1   latitud                     16512 non-null  float64\n",
      " 2   antiguedad                  16512 non-null  float64\n",
      " 3   habitaciones                16512 non-null  float64\n",
      " 4   dormitorios                 16348 non-null  float64\n",
      " 5   población                   16512 non-null  float64\n",
      " 6   hogares                     16512 non-null  float64\n",
      " 7   ingresos                    16512 non-null  float64\n",
      " 8   proximidad                  16512 non-null  object \n",
      " 9   habitaciones_por_hogar      16512 non-null  float64\n",
      " 10  dormitorios_por_habitación  16348 non-null  float64\n",
      " 11  población_por_hogar         16512 non-null  float64\n",
      " 12  valor                       16512 non-null  float64\n",
      "dtypes: float64(12), object(1)\n",
      "memory usage: 1.8+ MB\n"
     ]
    }
   ],
   "source": [
    "v1.info()"
   ]
  },
  {
   "cell_type": "markdown",
   "id": "bcdf4c47",
   "metadata": {
    "slideshow": {
     "slide_type": "slide"
    }
   },
   "source": [
    "## Segunda opción de tratamiento de datos faltantes"
   ]
  },
  {
   "cell_type": "markdown",
   "id": "663a8415",
   "metadata": {
    "slideshow": {
     "slide_type": "slide"
    }
   },
   "source": [
    "Para nuestro caso toca eliminar dos atributos "
   ]
  },
  {
   "cell_type": "code",
   "execution_count": 19,
   "id": "b9cc0175",
   "metadata": {
    "slideshow": {
     "slide_type": "slide"
    }
   },
   "outputs": [],
   "source": [
    "v2 = v.copy() "
   ]
  },
  {
   "cell_type": "code",
   "execution_count": 22,
   "id": "2324c0cf",
   "metadata": {
    "scrolled": true,
    "slideshow": {
     "slide_type": "slide"
    }
   },
   "outputs": [
    {
     "name": "stdout",
     "output_type": "stream",
     "text": [
      "<class 'pandas.core.frame.DataFrame'>\n",
      "Int64Index: 16512 entries, 18223 to 17044\n",
      "Data columns (total 10 columns):\n",
      " #   Column                  Non-Null Count  Dtype  \n",
      "---  ------                  --------------  -----  \n",
      " 0   longitud                16512 non-null  float64\n",
      " 1   latitud                 16512 non-null  float64\n",
      " 2   antiguedad              16512 non-null  float64\n",
      " 3   habitaciones            16512 non-null  float64\n",
      " 4   población               16512 non-null  float64\n",
      " 5   hogares                 16512 non-null  float64\n",
      " 6   ingresos                16512 non-null  float64\n",
      " 7   proximidad              16512 non-null  object \n",
      " 8   habitaciones_por_hogar  16512 non-null  float64\n",
      " 9   población_por_hogar     16512 non-null  float64\n",
      "dtypes: float64(9), object(1)\n",
      "memory usage: 1.4+ MB\n"
     ]
    }
   ],
   "source": [
    "v2.drop(['dormitorios', 'dormitorios_por_habitación'], axis = 1).info() "
   ]
  },
  {
   "cell_type": "markdown",
   "id": "639454bb",
   "metadata": {
    "slideshow": {
     "slide_type": "slide"
    }
   },
   "source": [
    "### Tercera opción"
   ]
  },
  {
   "cell_type": "code",
   "execution_count": 23,
   "id": "656ad252",
   "metadata": {
    "slideshow": {
     "slide_type": "slide"
    }
   },
   "outputs": [],
   "source": [
    "v3 = v.copy() "
   ]
  },
  {
   "cell_type": "code",
   "execution_count": 24,
   "id": "e74403fc",
   "metadata": {},
   "outputs": [],
   "source": [
    "mediana = v3.dormitorios.median() "
   ]
  },
  {
   "cell_type": "code",
   "execution_count": 25,
   "id": "1022f5b8",
   "metadata": {
    "slideshow": {
     "slide_type": "slide"
    }
   },
   "outputs": [
    {
     "data": {
      "text/html": [
       "<div>\n",
       "<style scoped>\n",
       "    .dataframe tbody tr th:only-of-type {\n",
       "        vertical-align: middle;\n",
       "    }\n",
       "\n",
       "    .dataframe tbody tr th {\n",
       "        vertical-align: top;\n",
       "    }\n",
       "\n",
       "    .dataframe thead th {\n",
       "        text-align: right;\n",
       "    }\n",
       "</style>\n",
       "<table border=\"1\" class=\"dataframe\">\n",
       "  <thead>\n",
       "    <tr style=\"text-align: right;\">\n",
       "      <th></th>\n",
       "      <th>longitud</th>\n",
       "      <th>latitud</th>\n",
       "      <th>antiguedad</th>\n",
       "      <th>habitaciones</th>\n",
       "      <th>dormitorios</th>\n",
       "      <th>población</th>\n",
       "      <th>hogares</th>\n",
       "      <th>ingresos</th>\n",
       "      <th>proximidad</th>\n",
       "      <th>habitaciones_por_hogar</th>\n",
       "      <th>dormitorios_por_habitación</th>\n",
       "      <th>población_por_hogar</th>\n",
       "    </tr>\n",
       "  </thead>\n",
       "  <tbody>\n",
       "    <tr>\n",
       "      <th>18223</th>\n",
       "      <td>-122.08</td>\n",
       "      <td>37.41</td>\n",
       "      <td>20.0</td>\n",
       "      <td>1896.0</td>\n",
       "      <td>456.0</td>\n",
       "      <td>1069.0</td>\n",
       "      <td>436.0</td>\n",
       "      <td>4.6875</td>\n",
       "      <td>NEAR BAY</td>\n",
       "      <td>4.348624</td>\n",
       "      <td>0.240506</td>\n",
       "      <td>2.451835</td>\n",
       "    </tr>\n",
       "    <tr>\n",
       "      <th>6687</th>\n",
       "      <td>-118.07</td>\n",
       "      <td>34.14</td>\n",
       "      <td>42.0</td>\n",
       "      <td>3200.0</td>\n",
       "      <td>685.0</td>\n",
       "      <td>1668.0</td>\n",
       "      <td>628.0</td>\n",
       "      <td>3.3750</td>\n",
       "      <td>INLAND</td>\n",
       "      <td>5.095541</td>\n",
       "      <td>0.214062</td>\n",
       "      <td>2.656051</td>\n",
       "    </tr>\n",
       "    <tr>\n",
       "      <th>3854</th>\n",
       "      <td>-118.43</td>\n",
       "      <td>34.18</td>\n",
       "      <td>25.0</td>\n",
       "      <td>3830.0</td>\n",
       "      <td>1105.0</td>\n",
       "      <td>2328.0</td>\n",
       "      <td>1017.0</td>\n",
       "      <td>2.6238</td>\n",
       "      <td>&lt;1H OCEAN</td>\n",
       "      <td>3.765978</td>\n",
       "      <td>0.288512</td>\n",
       "      <td>2.289086</td>\n",
       "    </tr>\n",
       "    <tr>\n",
       "      <th>11267</th>\n",
       "      <td>-117.97</td>\n",
       "      <td>33.80</td>\n",
       "      <td>35.0</td>\n",
       "      <td>2985.0</td>\n",
       "      <td>474.0</td>\n",
       "      <td>1614.0</td>\n",
       "      <td>453.0</td>\n",
       "      <td>5.4631</td>\n",
       "      <td>&lt;1H OCEAN</td>\n",
       "      <td>6.589404</td>\n",
       "      <td>0.158794</td>\n",
       "      <td>3.562914</td>\n",
       "    </tr>\n",
       "    <tr>\n",
       "      <th>14498</th>\n",
       "      <td>-117.23</td>\n",
       "      <td>32.86</td>\n",
       "      <td>16.0</td>\n",
       "      <td>1675.0</td>\n",
       "      <td>354.0</td>\n",
       "      <td>604.0</td>\n",
       "      <td>332.0</td>\n",
       "      <td>5.2326</td>\n",
       "      <td>NEAR OCEAN</td>\n",
       "      <td>5.045181</td>\n",
       "      <td>0.211343</td>\n",
       "      <td>1.819277</td>\n",
       "    </tr>\n",
       "    <tr>\n",
       "      <th>...</th>\n",
       "      <td>...</td>\n",
       "      <td>...</td>\n",
       "      <td>...</td>\n",
       "      <td>...</td>\n",
       "      <td>...</td>\n",
       "      <td>...</td>\n",
       "      <td>...</td>\n",
       "      <td>...</td>\n",
       "      <td>...</td>\n",
       "      <td>...</td>\n",
       "      <td>...</td>\n",
       "      <td>...</td>\n",
       "    </tr>\n",
       "    <tr>\n",
       "      <th>12680</th>\n",
       "      <td>-121.39</td>\n",
       "      <td>38.55</td>\n",
       "      <td>25.0</td>\n",
       "      <td>2171.0</td>\n",
       "      <td>431.0</td>\n",
       "      <td>1053.0</td>\n",
       "      <td>422.0</td>\n",
       "      <td>3.5278</td>\n",
       "      <td>INLAND</td>\n",
       "      <td>5.144550</td>\n",
       "      <td>0.198526</td>\n",
       "      <td>2.495261</td>\n",
       "    </tr>\n",
       "    <tr>\n",
       "      <th>17219</th>\n",
       "      <td>-119.70</td>\n",
       "      <td>34.47</td>\n",
       "      <td>32.0</td>\n",
       "      <td>3725.0</td>\n",
       "      <td>569.0</td>\n",
       "      <td>1304.0</td>\n",
       "      <td>527.0</td>\n",
       "      <td>7.7261</td>\n",
       "      <td>&lt;1H OCEAN</td>\n",
       "      <td>7.068311</td>\n",
       "      <td>0.152752</td>\n",
       "      <td>2.474383</td>\n",
       "    </tr>\n",
       "    <tr>\n",
       "      <th>18525</th>\n",
       "      <td>-122.04</td>\n",
       "      <td>36.97</td>\n",
       "      <td>45.0</td>\n",
       "      <td>1302.0</td>\n",
       "      <td>245.0</td>\n",
       "      <td>621.0</td>\n",
       "      <td>258.0</td>\n",
       "      <td>5.1806</td>\n",
       "      <td>NEAR OCEAN</td>\n",
       "      <td>5.046512</td>\n",
       "      <td>0.188172</td>\n",
       "      <td>2.406977</td>\n",
       "    </tr>\n",
       "    <tr>\n",
       "      <th>13822</th>\n",
       "      <td>-117.21</td>\n",
       "      <td>34.49</td>\n",
       "      <td>14.0</td>\n",
       "      <td>2125.0</td>\n",
       "      <td>348.0</td>\n",
       "      <td>1067.0</td>\n",
       "      <td>360.0</td>\n",
       "      <td>3.6333</td>\n",
       "      <td>INLAND</td>\n",
       "      <td>5.902778</td>\n",
       "      <td>0.163765</td>\n",
       "      <td>2.963889</td>\n",
       "    </tr>\n",
       "    <tr>\n",
       "      <th>17044</th>\n",
       "      <td>-122.28</td>\n",
       "      <td>37.49</td>\n",
       "      <td>29.0</td>\n",
       "      <td>4148.0</td>\n",
       "      <td>635.0</td>\n",
       "      <td>1638.0</td>\n",
       "      <td>627.0</td>\n",
       "      <td>6.9120</td>\n",
       "      <td>NEAR OCEAN</td>\n",
       "      <td>6.615630</td>\n",
       "      <td>0.153086</td>\n",
       "      <td>2.612440</td>\n",
       "    </tr>\n",
       "  </tbody>\n",
       "</table>\n",
       "<p>16512 rows × 12 columns</p>\n",
       "</div>"
      ],
      "text/plain": [
       "       longitud  latitud  antiguedad  habitaciones  dormitorios  población  \\\n",
       "18223   -122.08    37.41        20.0        1896.0        456.0     1069.0   \n",
       "6687    -118.07    34.14        42.0        3200.0        685.0     1668.0   \n",
       "3854    -118.43    34.18        25.0        3830.0       1105.0     2328.0   \n",
       "11267   -117.97    33.80        35.0        2985.0        474.0     1614.0   \n",
       "14498   -117.23    32.86        16.0        1675.0        354.0      604.0   \n",
       "...         ...      ...         ...           ...          ...        ...   \n",
       "12680   -121.39    38.55        25.0        2171.0        431.0     1053.0   \n",
       "17219   -119.70    34.47        32.0        3725.0        569.0     1304.0   \n",
       "18525   -122.04    36.97        45.0        1302.0        245.0      621.0   \n",
       "13822   -117.21    34.49        14.0        2125.0        348.0     1067.0   \n",
       "17044   -122.28    37.49        29.0        4148.0        635.0     1638.0   \n",
       "\n",
       "       hogares  ingresos  proximidad  habitaciones_por_hogar  \\\n",
       "18223    436.0    4.6875    NEAR BAY                4.348624   \n",
       "6687     628.0    3.3750      INLAND                5.095541   \n",
       "3854    1017.0    2.6238   <1H OCEAN                3.765978   \n",
       "11267    453.0    5.4631   <1H OCEAN                6.589404   \n",
       "14498    332.0    5.2326  NEAR OCEAN                5.045181   \n",
       "...        ...       ...         ...                     ...   \n",
       "12680    422.0    3.5278      INLAND                5.144550   \n",
       "17219    527.0    7.7261   <1H OCEAN                7.068311   \n",
       "18525    258.0    5.1806  NEAR OCEAN                5.046512   \n",
       "13822    360.0    3.6333      INLAND                5.902778   \n",
       "17044    627.0    6.9120  NEAR OCEAN                6.615630   \n",
       "\n",
       "       dormitorios_por_habitación  población_por_hogar  \n",
       "18223                    0.240506             2.451835  \n",
       "6687                     0.214062             2.656051  \n",
       "3854                     0.288512             2.289086  \n",
       "11267                    0.158794             3.562914  \n",
       "14498                    0.211343             1.819277  \n",
       "...                           ...                  ...  \n",
       "12680                    0.198526             2.495261  \n",
       "17219                    0.152752             2.474383  \n",
       "18525                    0.188172             2.406977  \n",
       "13822                    0.163765             2.963889  \n",
       "17044                    0.153086             2.612440  \n",
       "\n",
       "[16512 rows x 12 columns]"
      ]
     },
     "execution_count": 25,
     "metadata": {},
     "output_type": "execute_result"
    }
   ],
   "source": [
    "v3.fillna(mediana) "
   ]
  },
  {
   "cell_type": "code",
   "execution_count": 26,
   "id": "ba83512a",
   "metadata": {
    "scrolled": true,
    "slideshow": {
     "slide_type": "slide"
    }
   },
   "outputs": [
    {
     "name": "stdout",
     "output_type": "stream",
     "text": [
      "<class 'pandas.core.frame.DataFrame'>\n",
      "Int64Index: 16512 entries, 18223 to 17044\n",
      "Data columns (total 12 columns):\n",
      " #   Column                      Non-Null Count  Dtype  \n",
      "---  ------                      --------------  -----  \n",
      " 0   longitud                    16512 non-null  float64\n",
      " 1   latitud                     16512 non-null  float64\n",
      " 2   antiguedad                  16512 non-null  float64\n",
      " 3   habitaciones                16512 non-null  float64\n",
      " 4   dormitorios                 16512 non-null  float64\n",
      " 5   población                   16512 non-null  float64\n",
      " 6   hogares                     16512 non-null  float64\n",
      " 7   ingresos                    16512 non-null  float64\n",
      " 8   proximidad                  16512 non-null  object \n",
      " 9   habitaciones_por_hogar      16512 non-null  float64\n",
      " 10  dormitorios_por_habitación  16512 non-null  float64\n",
      " 11  población_por_hogar         16512 non-null  float64\n",
      "dtypes: float64(11), object(1)\n",
      "memory usage: 1.6+ MB\n"
     ]
    }
   ],
   "source": [
    "v3.fillna(mediana).info() "
   ]
  },
  {
   "cell_type": "markdown",
   "id": "5d2e9824",
   "metadata": {
    "slideshow": {
     "slide_type": "slide"
    }
   },
   "source": [
    "Note que al llenar los datos faltantes en el atributo de `dormitorios`, automáticamente se actualiza el atributo de dormitorios por habitación. "
   ]
  },
  {
   "cell_type": "markdown",
   "id": "f6f29f6d",
   "metadata": {
    "slideshow": {
     "slide_type": "slide"
    }
   },
   "source": [
    "Si elige la opción 3, debe calcular el valor de la mediana en el conjunto de entrenamiento y usarlo para completar los valores que faltan en el conjunto de entrenamiento."
   ]
  },
  {
   "cell_type": "markdown",
   "id": "305ee759",
   "metadata": {
    "slideshow": {
     "slide_type": "slide"
    }
   },
   "source": [
    "No olvide guardar el valor de la mediana que ha calculado.\n",
    "\n",
    "Lo necesitará más adelante para reemplazar los valores faltantes en el conjunto de prueba cuando desee evaluar su sistema, y también una vez que el sistema entre en funcionamiento para reemplazar los valores faltantes en datos nuevos."
   ]
  },
  {
   "cell_type": "markdown",
   "id": "f4e42543",
   "metadata": {
    "slideshow": {
     "slide_type": "slide"
    }
   },
   "source": [
    "Scikit-Learn proporciona una clase útil para ocuparse de los valores faltantes:\n",
    "`SimpleImputer`. Aquí está cómo usarlo."
   ]
  },
  {
   "cell_type": "markdown",
   "id": "bc87fb9a",
   "metadata": {
    "slideshow": {
     "slide_type": "slide"
    }
   },
   "source": [
    "Primero, debe crear una instancia de `SimpleImputer`, especificando que desea reemplazar los valores faltantes de cada atributo con la mediana de ese atributo:"
   ]
  },
  {
   "cell_type": "code",
   "execution_count": 30,
   "id": "adfacc16",
   "metadata": {
    "slideshow": {
     "slide_type": "slide"
    }
   },
   "outputs": [],
   "source": [
    "from sklearn.impute import SimpleImputer \n"
   ]
  },
  {
   "cell_type": "code",
   "execution_count": 31,
   "id": "ce609fdd",
   "metadata": {
    "slideshow": {
     "slide_type": "slide"
    }
   },
   "outputs": [],
   "source": [
    "imputer = SimpleImputer(strategy = 'median') "
   ]
  },
  {
   "cell_type": "markdown",
   "id": "5b997557",
   "metadata": {
    "slideshow": {
     "slide_type": "slide"
    }
   },
   "source": [
    "Dado que la mediana solo se puede calcular en atributos numéricos, debe crear una copia de los datos sin el atributo de texto `proximidad`ocean_proximity:"
   ]
  },
  {
   "cell_type": "code",
   "execution_count": 32,
   "id": "e878c0bf",
   "metadata": {
    "slideshow": {
     "slide_type": "slide"
    }
   },
   "outputs": [],
   "source": [
    "v_num = v.drop(['proximidad'], axis = 1)"
   ]
  },
  {
   "cell_type": "markdown",
   "id": "3930be55",
   "metadata": {
    "slideshow": {
     "slide_type": "slide"
    }
   },
   "source": [
    "Ahora puede ajustar la instancia del imputer a los datos de entrenamiento usando el  método `fit()`:"
   ]
  },
  {
   "cell_type": "code",
   "execution_count": 33,
   "id": "0910859b",
   "metadata": {
    "slideshow": {
     "slide_type": "slide"
    }
   },
   "outputs": [
    {
     "data": {
      "text/plain": [
       "SimpleImputer(strategy='median')"
      ]
     },
     "execution_count": 33,
     "metadata": {},
     "output_type": "execute_result"
    }
   ],
   "source": [
    "imputer.fit(v_num)"
   ]
  },
  {
   "cell_type": "markdown",
   "id": "ed26134c",
   "metadata": {
    "slideshow": {
     "slide_type": "slide"
    }
   },
   "source": [
    "El imputador simplemente calculó la mediana de cada atributo y almacenó el resultado en su variable de instancia `statistics_`. "
   ]
  },
  {
   "cell_type": "markdown",
   "id": "c6f00b5e",
   "metadata": {
    "slideshow": {
     "slide_type": "slide"
    }
   },
   "source": [
    "Solo el atributo `dormitorios` tenía valores faltantes, pero no podemos estar seguros de que no habrá valores faltantes en los datos nuevos después de que el sistema entre en funcionamiento, por lo que es más seguro aplicar la imputación a todos los atributos numéricos:"
   ]
  },
  {
   "cell_type": "code",
   "execution_count": 34,
   "id": "e0ec7f45",
   "metadata": {},
   "outputs": [
    {
     "data": {
      "text/plain": [
       "array([-1.18490000e+02,  3.42500000e+01,  2.90000000e+01,  2.11300000e+03,\n",
       "        4.32000000e+02,  1.16200000e+03,  4.08000000e+02,  3.53850000e+00,\n",
       "        5.22084367e+00,  2.03383550e-01,  2.82322522e+00])"
      ]
     },
     "execution_count": 34,
     "metadata": {},
     "output_type": "execute_result"
    }
   ],
   "source": [
    "imputer.statistics_"
   ]
  },
  {
   "cell_type": "code",
   "execution_count": 35,
   "id": "b39e4ee6",
   "metadata": {},
   "outputs": [
    {
     "data": {
      "text/plain": [
       "longitud                      -118.490000\n",
       "latitud                         34.250000\n",
       "antiguedad                      29.000000\n",
       "habitaciones                  2113.000000\n",
       "dormitorios                    432.000000\n",
       "población                     1162.000000\n",
       "hogares                        408.000000\n",
       "ingresos                         3.538500\n",
       "habitaciones_por_hogar           5.220844\n",
       "dormitorios_por_habitación       0.203384\n",
       "población_por_hogar              2.823225\n",
       "dtype: float64"
      ]
     },
     "execution_count": 35,
     "metadata": {},
     "output_type": "execute_result"
    }
   ],
   "source": [
    "v_num.median() "
   ]
  },
  {
   "cell_type": "markdown",
   "id": "7c5f52ee",
   "metadata": {
    "slideshow": {
     "slide_type": "slide"
    }
   },
   "source": [
    "Ahora puede usar esta computadora \"entrenada\" para transformar el conjunto de entrenamiento reemplazando los valores faltantes con las medianas aprendidas:"
   ]
  },
  {
   "cell_type": "code",
   "execution_count": 37,
   "id": "fbe5cc3a",
   "metadata": {
    "slideshow": {
     "slide_type": "slide"
    }
   },
   "outputs": [],
   "source": [
    "X = imputer.transform(v_num) "
   ]
  },
  {
   "cell_type": "markdown",
   "id": "de8bd8e9",
   "metadata": {
    "slideshow": {
     "slide_type": "slide"
    }
   },
   "source": [
    "El resultado es una matriz NumPy simple que contiene las características transformadas.\n",
    "\n",
    "Si desea volver a colocarlo en un DataFrame de pandas, es simple:"
   ]
  },
  {
   "cell_type": "code",
   "execution_count": 38,
   "id": "1236173f",
   "metadata": {
    "slideshow": {
     "slide_type": "slide"
    }
   },
   "outputs": [],
   "source": [
    "v_num_tr = pd.DataFrame(X,columns = v_num.columns, index = v_num.index) "
   ]
  },
  {
   "cell_type": "code",
   "execution_count": 39,
   "id": "8acfe295",
   "metadata": {
    "scrolled": true,
    "slideshow": {
     "slide_type": "slide"
    }
   },
   "outputs": [
    {
     "name": "stdout",
     "output_type": "stream",
     "text": [
      "<class 'pandas.core.frame.DataFrame'>\n",
      "Int64Index: 16512 entries, 18223 to 17044\n",
      "Data columns (total 11 columns):\n",
      " #   Column                      Non-Null Count  Dtype  \n",
      "---  ------                      --------------  -----  \n",
      " 0   longitud                    16512 non-null  float64\n",
      " 1   latitud                     16512 non-null  float64\n",
      " 2   antiguedad                  16512 non-null  float64\n",
      " 3   habitaciones                16512 non-null  float64\n",
      " 4   dormitorios                 16512 non-null  float64\n",
      " 5   población                   16512 non-null  float64\n",
      " 6   hogares                     16512 non-null  float64\n",
      " 7   ingresos                    16512 non-null  float64\n",
      " 8   habitaciones_por_hogar      16512 non-null  float64\n",
      " 9   dormitorios_por_habitación  16512 non-null  float64\n",
      " 10  población_por_hogar         16512 non-null  float64\n",
      "dtypes: float64(11)\n",
      "memory usage: 1.5 MB\n"
     ]
    }
   ],
   "source": [
    "v_num_tr.info() "
   ]
  },
  {
   "cell_type": "markdown",
   "id": "e5fa4ba2",
   "metadata": {
    "slideshow": {
     "slide_type": "slide"
    }
   },
   "source": [
    "## Manipulación de datos categóricos"
   ]
  },
  {
   "cell_type": "markdown",
   "id": "811fae26",
   "metadata": {
    "slideshow": {
     "slide_type": "slide"
    }
   },
   "source": []
  },
  {
   "cell_type": "code",
   "execution_count": null,
   "id": "0f32a115",
   "metadata": {
    "slideshow": {
     "slide_type": "slide"
    }
   },
   "outputs": [],
   "source": []
  },
  {
   "cell_type": "code",
   "execution_count": null,
   "id": "a6af8b4a",
   "metadata": {},
   "outputs": [],
   "source": []
  },
  {
   "cell_type": "code",
   "execution_count": null,
   "id": "8eb7b613",
   "metadata": {},
   "outputs": [],
   "source": []
  },
  {
   "cell_type": "markdown",
   "id": "e5e0aee8",
   "metadata": {
    "slideshow": {
     "slide_type": "slide"
    }
   },
   "source": [
    "# Crear el DataFrame numérico y el DataFrame categórico"
   ]
  },
  {
   "cell_type": "code",
   "execution_count": null,
   "id": "ebec52d6",
   "metadata": {
    "slideshow": {
     "slide_type": "slide"
    }
   },
   "outputs": [],
   "source": [
    "v_num = v.drop('proximidad', axis = 1) "
   ]
  },
  {
   "cell_type": "code",
   "execution_count": null,
   "id": "d38e6ab0",
   "metadata": {
    "slideshow": {
     "slide_type": "slide"
    }
   },
   "outputs": [],
   "source": [
    "v_cat = v.proximidad "
   ]
  },
  {
   "cell_type": "markdown",
   "id": "a776ef54",
   "metadata": {
    "slideshow": {
     "slide_type": "slide"
    }
   },
   "source": [
    "1. Imputar los datos faltantes"
   ]
  },
  {
   "cell_type": "code",
   "execution_count": null,
   "id": "5af5d3c5",
   "metadata": {},
   "outputs": [],
   "source": [
    "from sklearn.impute import SimpleImputer"
   ]
  },
  {
   "cell_type": "code",
   "execution_count": null,
   "id": "ec7dfb40",
   "metadata": {},
   "outputs": [],
   "source": [
    "imputar = SimpleImputer(strategy = 'median') "
   ]
  },
  {
   "cell_type": "code",
   "execution_count": null,
   "id": "4eaf1044",
   "metadata": {
    "scrolled": true
   },
   "outputs": [],
   "source": [
    "imputar.fit(v_num)"
   ]
  },
  {
   "cell_type": "code",
   "execution_count": null,
   "id": "1465522f",
   "metadata": {},
   "outputs": [],
   "source": [
    "X = imputar.transform(v_num) "
   ]
  },
  {
   "cell_type": "code",
   "execution_count": null,
   "id": "af15cdf7",
   "metadata": {},
   "outputs": [],
   "source": [
    "v_num_imputado = pd.DataFrame(X, columns = v_num.columns, index = v_num.index) "
   ]
  },
  {
   "cell_type": "code",
   "execution_count": null,
   "id": "d016eed2",
   "metadata": {
    "scrolled": true
   },
   "outputs": [],
   "source": [
    "v_num_imputado.info() "
   ]
  },
  {
   "cell_type": "code",
   "execution_count": null,
   "id": "bcdafa28",
   "metadata": {},
   "outputs": [],
   "source": [
    "len(v_num_imputado) "
   ]
  },
  {
   "cell_type": "code",
   "execution_count": null,
   "id": "2531968a",
   "metadata": {},
   "outputs": [],
   "source": [
    "v = v_num_imputado "
   ]
  },
  {
   "cell_type": "markdown",
   "id": "3b4a67a7",
   "metadata": {},
   "source": [
    "## 2. establecimiento de correlaciones. "
   ]
  },
  {
   "cell_type": "markdown",
   "id": "9320637a",
   "metadata": {},
   "source": [
    "<img src = 'https://github.com/marco-canas/taca/blob/main/ref/geron/part_1/chap_2/4_visualize/figura_2_14_Standard_correlation_coefficient_of_various_datasets.PNG?raw=true'>"
   ]
  },
  {
   "cell_type": "code",
   "execution_count": null,
   "id": "f2e81431",
   "metadata": {
    "scrolled": true
   },
   "outputs": [],
   "source": [
    "v.corr() "
   ]
  },
  {
   "cell_type": "code",
   "execution_count": null,
   "id": "3f7ea3ec",
   "metadata": {
    "scrolled": false
   },
   "outputs": [],
   "source": [
    "v.corr().valor.sort_values(ascending =False)  "
   ]
  },
  {
   "cell_type": "code",
   "execution_count": null,
   "id": "7ba7010d",
   "metadata": {},
   "outputs": [],
   "source": [
    "v['dormitorios_por_habitaciones'] = v.dormitorios/v.habitaciones "
   ]
  },
  {
   "cell_type": "code",
   "execution_count": null,
   "id": "8becfc3e",
   "metadata": {},
   "outputs": [],
   "source": [
    "v['población_por_hogares'] = v.población/v.hogares "
   ]
  },
  {
   "cell_type": "code",
   "execution_count": null,
   "id": "c76d6ee5",
   "metadata": {},
   "outputs": [],
   "source": [
    "v['habitaciones_por_hogar'] = v.habitaciones/v.hogares "
   ]
  },
  {
   "cell_type": "code",
   "execution_count": null,
   "id": "d4f22e82",
   "metadata": {
    "scrolled": false
   },
   "outputs": [],
   "source": [
    "v.corr().valor.sort_values(ascending = False) "
   ]
  },
  {
   "cell_type": "markdown",
   "id": "68cfdbbf",
   "metadata": {},
   "source": [
    "## 2. codificación de datos categóricos"
   ]
  },
  {
   "cell_type": "code",
   "execution_count": null,
   "id": "a3978ff2",
   "metadata": {},
   "outputs": [],
   "source": [
    "v_cat "
   ]
  },
  {
   "cell_type": "markdown",
   "id": "992b6128",
   "metadata": {},
   "source": [
    "3. standarizar los datos"
   ]
  }
 ],
 "metadata": {
  "celltoolbar": "Slideshow",
  "kernelspec": {
   "display_name": "Python 3 (ipykernel)",
   "language": "python",
   "name": "python3"
  },
  "language_info": {
   "codemirror_mode": {
    "name": "ipython",
    "version": 3
   },
   "file_extension": ".py",
   "mimetype": "text/x-python",
   "name": "python",
   "nbconvert_exporter": "python",
   "pygments_lexer": "ipython3",
   "version": "3.9.7"
  }
 },
 "nbformat": 4,
 "nbformat_minor": 5
}
