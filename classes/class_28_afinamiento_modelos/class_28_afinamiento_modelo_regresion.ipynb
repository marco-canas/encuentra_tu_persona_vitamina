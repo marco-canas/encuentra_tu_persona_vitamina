{
 "cells": [
  {
   "cell_type": "markdown",
   "id": "44f19658",
   "metadata": {
    "slideshow": {
     "slide_type": "slide"
    }
   },
   "source": [
    "<table align=\"left\">\n",
    "  <td>\n",
    "    <a href=\"https://colab.research.google.com/github/marco-canas/intro-Machine-Learning/blob/main/classes/class_26_multiclase/class_26_multiclase.ipynb\" target=\"_parent\"><img src=\"https://colab.research.google.com/assets/colab-badge.svg\" alt=\"Open In Colab\"/></a>\n",
    "  </td>\n",
    "</table> "
   ]
  },
  {
   "cell_type": "markdown",
   "id": "2df41a48",
   "metadata": {
    "slideshow": {
     "slide_type": "slide"
    }
   },
   "source": [
    "# Clase 28 Afinamiento de modelos de regresión"
   ]
  },
  {
   "cell_type": "markdown",
   "id": "028c5296",
   "metadata": {
    "slideshow": {
     "slide_type": "slide"
    }
   },
   "source": [
    "# Fine-Tune Your Model"
   ]
  },
  {
   "cell_type": "markdown",
   "id": "988a275e",
   "metadata": {
    "slideshow": {
     "slide_type": "slide"
    }
   },
   "source": [
    "Supongamos que ahora tiene una lista corta de modelos prometedores."
   ]
  },
  {
   "cell_type": "markdown",
   "id": "c1ddd5a8",
   "metadata": {
    "slideshow": {
     "slide_type": "slide"
    }
   },
   "source": [
    "You now need to fine-tune them. Let’s look at a few ways you can do that."
   ]
  },
  {
   "cell_type": "markdown",
   "id": "8725e14d",
   "metadata": {},
   "source": [
    "## Grid Search"
   ]
  },
  {
   "cell_type": "markdown",
   "id": "d28554bd",
   "metadata": {},
   "source": [
    "One option would be to fiddle with the hyperparameters manually, until you find a great combination of hyperparameter values. "
   ]
  },
  {
   "cell_type": "markdown",
   "id": "5eefd1b7",
   "metadata": {},
   "source": [
    "This would be very tedious work, and you may not have time to explore many combinations."
   ]
  },
  {
   "cell_type": "markdown",
   "id": "5e84512e",
   "metadata": {},
   "source": [
    "Instead, you should get Scikit-Learn’s GridSearchCV to search for you. All you\n",
    "need to do is tell it which hyperparameters you want it to experiment with and\n",
    "what values to try out, and it will use cross-validation to evaluate all the\n",
    "possible combinations of hyperparameter values. For example, the following\n",
    "code searches for the best combination of hyperparameter values for the\n",
    "RandomForestRegressor:"
   ]
  },
  {
   "cell_type": "code",
   "execution_count": null,
   "id": "d242e752",
   "metadata": {},
   "outputs": [],
   "source": []
  },
  {
   "cell_type": "code",
   "execution_count": null,
   "id": "5b8fbe9d",
   "metadata": {},
   "outputs": [],
   "source": []
  },
  {
   "cell_type": "code",
   "execution_count": null,
   "id": "d1f6e6dd",
   "metadata": {},
   "outputs": [],
   "source": []
  },
  {
   "cell_type": "code",
   "execution_count": null,
   "id": "8628ead8",
   "metadata": {},
   "outputs": [],
   "source": []
  },
  {
   "cell_type": "code",
   "execution_count": null,
   "id": "cfce0203",
   "metadata": {},
   "outputs": [],
   "source": []
  },
  {
   "cell_type": "code",
   "execution_count": null,
   "id": "4ba5f07d",
   "metadata": {},
   "outputs": [],
   "source": []
  }
 ],
 "metadata": {
  "celltoolbar": "Slideshow",
  "kernelspec": {
   "display_name": "Python 3 (ipykernel)",
   "language": "python",
   "name": "python3"
  },
  "language_info": {
   "codemirror_mode": {
    "name": "ipython",
    "version": 3
   },
   "file_extension": ".py",
   "mimetype": "text/x-python",
   "name": "python",
   "nbconvert_exporter": "python",
   "pygments_lexer": "ipython3",
   "version": "3.9.7"
  }
 },
 "nbformat": 4,
 "nbformat_minor": 5
}
