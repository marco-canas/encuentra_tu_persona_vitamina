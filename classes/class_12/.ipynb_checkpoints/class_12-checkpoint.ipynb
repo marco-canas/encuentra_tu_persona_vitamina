{
 "cells": [
  {
   "cell_type": "markdown",
   "id": "4d6fe190",
   "metadata": {
    "slideshow": {
     "slide_type": "slide"
    }
   },
   "source": [
    "\n",
    "<table align=\"left\">\n",
    "  <td>\n",
    "    <a href=\"https://colab.research.google.com/github/marco-canas/introducci-n-al-Machine-Learning/blob/main/classes/class_12/class_12.ipynb\" target=\"_parent\"><img src=\"https://colab.research.google.com/assets/colab-badge.svg\" alt=\"Open In Colab\"/></a>\n",
    "  </td>\n",
    "  <td>\n",
    "    <a target=\"_blank\" href=\"https://kaggle.com/kernels/welcome?src=https://github.com/marco-canas/introducci-n-al-Machine-Learning/blob/main/classes/class_12/class_12.ipynb\"><img src=\"https://kaggle.com/static/images/open-in-kaggle.svg\" /></a>\n",
    "  </td>\n",
    "</table> \n"
   ]
  },
  {
   "cell_type": "markdown",
   "id": "f798b1c9",
   "metadata": {
    "slideshow": {
     "slide_type": "slide"
    }
   },
   "source": [
    "# [DataFrame según Géron](https://github.com/ageron/handson-ml/blob/master/tools_pandas.ipynb)"
   ]
  },
  {
   "cell_type": "markdown",
   "id": "eba0ba94",
   "metadata": {
    "slideshow": {
     "slide_type": "slide"
    }
   },
   "source": [
    "# Código para asignación de ejercicios en tareas y evaluaciones"
   ]
  },
  {
   "cell_type": "code",
   "execution_count": 31,
   "id": "907dfa76",
   "metadata": {
    "slideshow": {
     "slide_type": "slide"
    }
   },
   "outputs": [
    {
     "data": {
      "text/plain": [
       "0        german.alvarez1@udea.edu.co\n",
       "1           juan.arangoj@udea.edu.co\n",
       "2         jpablo.bolivar@udea.edu.co\n",
       "3      vanessa.buitragol@udea.edu.co\n",
       "4         angel.corrales@udea.edu.co\n",
       "5          juan.gallegoj@udea.edu.co\n",
       "6         susana.granada@udea.edu.co\n",
       "7      nicolas.hernandez@udea.edu.co\n",
       "8        miguel.jimenezg@udea.edu.co\n",
       "9        pedro.martinez1@udea.edu.co\n",
       "10        pabloa.montoya@udea.edu.co\n",
       "11      manuela.moralesg@udea.edu.co\n",
       "12     jhovanny.mosquera@udea.edu.co\n",
       "13        mangel.murillo@udea.edu.co\n",
       "14       daira.rodriguez@udea.edu.co\n",
       "15    jluiscamilo.torres@udea.edu.co\n",
       "Name: Email, dtype: object"
      ]
     },
     "execution_count": 31,
     "metadata": {},
     "output_type": "execute_result"
    }
   ],
   "source": [
    "grupo_intro_ml = pd.read_excel('grupo_intro_ml.xlsx')\n",
    "grupo_intro_ml['Email'] "
   ]
  },
  {
   "cell_type": "code",
   "execution_count": 32,
   "id": "2fdfc263",
   "metadata": {
    "slideshow": {
     "slide_type": "slide"
    }
   },
   "outputs": [
    {
     "data": {
      "text/html": [
       "<div>\n",
       "<style scoped>\n",
       "    .dataframe tbody tr th:only-of-type {\n",
       "        vertical-align: middle;\n",
       "    }\n",
       "\n",
       "    .dataframe tbody tr th {\n",
       "        vertical-align: top;\n",
       "    }\n",
       "\n",
       "    .dataframe thead th {\n",
       "        text-align: right;\n",
       "    }\n",
       "</style>\n",
       "<table border=\"1\" class=\"dataframe\">\n",
       "  <thead>\n",
       "    <tr style=\"text-align: right;\">\n",
       "      <th></th>\n",
       "      <th>ejercicios asignados</th>\n",
       "    </tr>\n",
       "    <tr>\n",
       "      <th>Nombre</th>\n",
       "      <th></th>\n",
       "    </tr>\n",
       "  </thead>\n",
       "  <tbody>\n",
       "    <tr>\n",
       "      <th>ALVAREZ CARRERO GERMAN JOSE</th>\n",
       "      <td>[108, 89, 13, 24, 74]</td>\n",
       "    </tr>\n",
       "    <tr>\n",
       "      <th>ARANGO JARAMILLO JUAN JOSE</th>\n",
       "      <td>[127, 107, 113, 31, 11]</td>\n",
       "    </tr>\n",
       "    <tr>\n",
       "      <th>BOLIVAR HIGUITA JUAN PABLO</th>\n",
       "      <td>[86, 66, 116, 122, 30]</td>\n",
       "    </tr>\n",
       "    <tr>\n",
       "      <th>BUITRAGO LORA VANESSA</th>\n",
       "      <td>[29, 98, 124, 39, 5]</td>\n",
       "    </tr>\n",
       "    <tr>\n",
       "      <th>CORRALES BOHÓRQUEZ ANGEL</th>\n",
       "      <td>[90, 14, 15, 1, 104]</td>\n",
       "    </tr>\n",
       "    <tr>\n",
       "      <th>GALLEGO JARAMILLO JUAN PABLO</th>\n",
       "      <td>[102, 8, 50, 130, 55]</td>\n",
       "    </tr>\n",
       "    <tr>\n",
       "      <th>GRANADA ZAPATA SUSANA</th>\n",
       "      <td>[84, 101, 87, 100, 60]</td>\n",
       "    </tr>\n",
       "    <tr>\n",
       "      <th>HERNANDEZ SUAREZ NICOLAS</th>\n",
       "      <td>[26, 2, 46, 18, 81]</td>\n",
       "    </tr>\n",
       "    <tr>\n",
       "      <th>JIMÉNEZ GARCÍA MIGUEL ÁNGEL</th>\n",
       "      <td>[43, 64, 4, 109, 94]</td>\n",
       "    </tr>\n",
       "    <tr>\n",
       "      <th>MARTINEZ PÉREZ PEDRO ALEJANDRO</th>\n",
       "      <td>[21, 70, 51, 36, 106]</td>\n",
       "    </tr>\n",
       "    <tr>\n",
       "      <th>MONTOYA GONZÁLEZ PABLO ANDRÉS</th>\n",
       "      <td>[92, 125, 129, 27, 93]</td>\n",
       "    </tr>\n",
       "    <tr>\n",
       "      <th>MORALES GARCÍA MANUELA</th>\n",
       "      <td>[69, 41, 28, 120, 112]</td>\n",
       "    </tr>\n",
       "    <tr>\n",
       "      <th>MOSQUERA PEREA JESÚS JHOVANNY</th>\n",
       "      <td>[103, 114, 20, 10, 91]</td>\n",
       "    </tr>\n",
       "    <tr>\n",
       "      <th>MURILLO ZAPATA MIGUEL ANGEL</th>\n",
       "      <td>[38, 72, 105, 6, 33]</td>\n",
       "    </tr>\n",
       "    <tr>\n",
       "      <th>RODRIGUEZ BARRIOS DAIRA LORENA</th>\n",
       "      <td>[75, 110, 12, 71, 37]</td>\n",
       "    </tr>\n",
       "    <tr>\n",
       "      <th>TORRES MERIÑO JOSE LUIS CAMILO</th>\n",
       "      <td>[63, 54, 95, 48, 53]</td>\n",
       "    </tr>\n",
       "  </tbody>\n",
       "</table>\n",
       "</div>"
      ],
      "text/plain": [
       "                                           ejercicios asignados\n",
       "Nombre                                                         \n",
       "ALVAREZ CARRERO GERMAN JOSE               [108, 89, 13, 24, 74]\n",
       "ARANGO JARAMILLO JUAN JOSE              [127, 107, 113, 31, 11]\n",
       "BOLIVAR HIGUITA JUAN PABLO               [86, 66, 116, 122, 30]\n",
       "BUITRAGO LORA VANESSA                      [29, 98, 124, 39, 5]\n",
       "CORRALES BOHÓRQUEZ ANGEL                   [90, 14, 15, 1, 104]\n",
       "GALLEGO JARAMILLO JUAN PABLO              [102, 8, 50, 130, 55]\n",
       "GRANADA ZAPATA SUSANA                    [84, 101, 87, 100, 60]\n",
       "HERNANDEZ SUAREZ NICOLAS                    [26, 2, 46, 18, 81]\n",
       "JIMÉNEZ GARCÍA MIGUEL ÁNGEL                [43, 64, 4, 109, 94]\n",
       "MARTINEZ PÉREZ PEDRO ALEJANDRO            [21, 70, 51, 36, 106]\n",
       "MONTOYA GONZÁLEZ PABLO ANDRÉS            [92, 125, 129, 27, 93]\n",
       "MORALES GARCÍA MANUELA                   [69, 41, 28, 120, 112]\n",
       "MOSQUERA PEREA JESÚS JHOVANNY            [103, 114, 20, 10, 91]\n",
       "MURILLO ZAPATA MIGUEL ANGEL                [38, 72, 105, 6, 33]\n",
       "RODRIGUEZ BARRIOS DAIRA LORENA            [75, 110, 12, 71, 37]\n",
       "TORRES MERIÑO JOSE LUIS CAMILO             [63, 54, 95, 48, 53]"
      ]
     },
     "execution_count": 32,
     "metadata": {},
     "output_type": "execute_result"
    }
   ],
   "source": [
    "import numpy as np \n",
    "import pandas as pd \n",
    "\n",
    "grupo_intro_ml = pd.read_excel('grupo_intro_ml.xlsx')\n",
    "\n",
    "n = 130        # número de ejercicios totales del taller \n",
    "\n",
    "lista_ejercicios = list(range(1,n+1))\n",
    "\n",
    "np.random.seed(14)\n",
    "\n",
    "def elegir_5_ejercicios_diferentes(lista_ejercicios):\n",
    "    ejercicios_asignados = []\n",
    "    for i in range(5):\n",
    "        a = np.random.choice(lista_ejercicios)\n",
    "        ejercicios_asignados.append(a)\n",
    "        lista_ejercicios.remove(a)\n",
    "    return (lista_ejercicios, ejercicios_asignados)   \n",
    "\n",
    "\n",
    "b = []\n",
    "\n",
    "m = len(grupo_intro_ml.Nombre)  # Número de los estudiantes \n",
    "\n",
    "for i in range(m):\n",
    "    lista_ejercicios, c = elegir_5_ejercicios_diferentes(lista_ejercicios)\n",
    "    b.append(c)\n",
    "    \n",
    "    \n",
    "parcial_1 = pd.Series( b, \\\n",
    "                      index = grupo_intro_ml.Nombre )    \n",
    "\n",
    "parcial_1 = pd.DataFrame({'ejercicios asignados':parcial_1})\n",
    "parcial_1 "
   ]
  },
  {
   "cell_type": "markdown",
   "id": "2cccd717",
   "metadata": {
    "slideshow": {
     "slide_type": "slide"
    }
   },
   "source": [
    "**DataFrame**, que se puede considerar como una tabla 2D. \n"
   ]
  },
  {
   "cell_type": "markdown",
   "id": "6e95011b",
   "metadata": {
    "slideshow": {
     "slide_type": "slide"
    }
   },
   "source": [
    "Un objeto `DataFrame` representa una hoja de cálculo, con:  \n",
    "\n",
    "* valores de celda, \n",
    "* nombres de columna y \n",
    "* etiquetas de índice de fila. "
   ]
  },
  {
   "cell_type": "code",
   "execution_count": null,
   "id": "bf801b59",
   "metadata": {
    "slideshow": {
     "slide_type": "slide"
    }
   },
   "outputs": [],
   "source": [
    "import pandas as pd"
   ]
  },
  {
   "cell_type": "markdown",
   "id": "7cad0e8b",
   "metadata": {
    "slideshow": {
     "slide_type": "slide"
    }
   },
   "source": [
    "Puede: \n",
    "\n",
    "* definir expresiones para calcular columnas basadas en otras columnas, \n",
    "* crear tablas dinámicas, \n",
    "* agrupar filas, \n",
    "* dibujar gráficos, etc. \n"
   ]
  },
  {
   "cell_type": "markdown",
   "id": "b7f05a4e",
   "metadata": {
    "slideshow": {
     "slide_type": "slide"
    }
   },
   "source": [
    "## Creación de un DataFrame"
   ]
  },
  {
   "cell_type": "markdown",
   "id": "957f8fcb",
   "metadata": {
    "slideshow": {
     "slide_type": "slide"
    }
   },
   "source": [
    "Puede crear un `DataFrame` pasando un diccionario de objetos `Series`:"
   ]
  },
  {
   "cell_type": "code",
   "execution_count": 34,
   "id": "6744f1d4",
   "metadata": {
    "slideshow": {
     "slide_type": "slide"
    }
   },
   "outputs": [],
   "source": [
    "indices = [\"mateo\", \"marcos\", \"lucas\"]"
   ]
  },
  {
   "cell_type": "code",
   "execution_count": 35,
   "id": "f72209f3",
   "metadata": {
    "slideshow": {
     "slide_type": "slide"
    }
   },
   "outputs": [],
   "source": [
    "peso = pd.Series([68, 83, 112], index = indices )"
   ]
  },
  {
   "cell_type": "code",
   "execution_count": 37,
   "id": "468d6810",
   "metadata": {
    "slideshow": {
     "slide_type": "slide"
    }
   },
   "outputs": [],
   "source": [
    "año_nacimiento = pd.Series([1984, 1985, 1992], index=indices)"
   ]
  },
  {
   "cell_type": "code",
   "execution_count": 44,
   "id": "93b499b2",
   "metadata": {
    "slideshow": {
     "slide_type": "slide"
    }
   },
   "outputs": [],
   "source": [
    "hijos = pd.Series([0,3,4], index=indices)"
   ]
  },
  {
   "cell_type": "code",
   "execution_count": 47,
   "id": "c5e86f0b",
   "metadata": {
    "slideshow": {
     "slide_type": "slide"
    }
   },
   "outputs": [],
   "source": [
    "hobby = pd.Series([\"ciclismo\", \"baile\", 'leer'], index = indices)  "
   ]
  },
  {
   "cell_type": "code",
   "execution_count": 49,
   "id": "7c0c22bd",
   "metadata": {
    "slideshow": {
     "slide_type": "slide"
    }
   },
   "outputs": [
    {
     "data": {
      "text/html": [
       "<div>\n",
       "<style scoped>\n",
       "    .dataframe tbody tr th:only-of-type {\n",
       "        vertical-align: middle;\n",
       "    }\n",
       "\n",
       "    .dataframe tbody tr th {\n",
       "        vertical-align: top;\n",
       "    }\n",
       "\n",
       "    .dataframe thead th {\n",
       "        text-align: right;\n",
       "    }\n",
       "</style>\n",
       "<table border=\"1\" class=\"dataframe\">\n",
       "  <thead>\n",
       "    <tr style=\"text-align: right;\">\n",
       "      <th></th>\n",
       "      <th>peso</th>\n",
       "      <th>año_nacimiento</th>\n",
       "      <th>hijos</th>\n",
       "      <th>hobby</th>\n",
       "    </tr>\n",
       "  </thead>\n",
       "  <tbody>\n",
       "    <tr>\n",
       "      <th>mateo</th>\n",
       "      <td>68</td>\n",
       "      <td>1984</td>\n",
       "      <td>0</td>\n",
       "      <td>ciclismo</td>\n",
       "    </tr>\n",
       "    <tr>\n",
       "      <th>marcos</th>\n",
       "      <td>83</td>\n",
       "      <td>1985</td>\n",
       "      <td>3</td>\n",
       "      <td>baile</td>\n",
       "    </tr>\n",
       "    <tr>\n",
       "      <th>lucas</th>\n",
       "      <td>112</td>\n",
       "      <td>1992</td>\n",
       "      <td>4</td>\n",
       "      <td>leer</td>\n",
       "    </tr>\n",
       "  </tbody>\n",
       "</table>\n",
       "</div>"
      ],
      "text/plain": [
       "        peso  año_nacimiento  hijos     hobby\n",
       "mateo     68            1984      0  ciclismo\n",
       "marcos    83            1985      3     baile\n",
       "lucas    112            1992      4      leer"
      ]
     },
     "execution_count": 49,
     "metadata": {},
     "output_type": "execute_result"
    }
   ],
   "source": [
    "personas_dict = {\n",
    "    \"peso\": peso,\n",
    "    \"año_nacimiento\": año_nacimiento,\n",
    "    \"hijos\": hijos,\n",
    "    \"hobby\": hobby }  \n",
    "\n",
    "personas = pd.DataFrame(personas_dict)\n",
    "personas"
   ]
  },
  {
   "cell_type": "markdown",
   "id": "2ffbca89",
   "metadata": {
    "slideshow": {
     "slide_type": "slide"
    }
   },
   "source": [
    "### Algunas cosas a tener en cuenta:"
   ]
  },
  {
   "cell_type": "markdown",
   "id": "1884f202",
   "metadata": {
    "slideshow": {
     "slide_type": "slide"
    }
   },
   "source": [
    "* las series se alinearon automáticamente en función de su índice,  \n",
    "\n",
    "* los valores faltantes se representan como `NaN`,  \n",
    "\n",
    "* Los nombres de las series se ignoran (se eliminó el nombre `year`),\n"
   ]
  },
  {
   "cell_type": "markdown",
   "id": "b541a1c9",
   "metadata": {
    "slideshow": {
     "slide_type": "slide"
    }
   },
   "source": [
    "## Acceso a las columnas "
   ]
  },
  {
   "cell_type": "markdown",
   "id": "cca700d2",
   "metadata": {
    "slideshow": {
     "slide_type": "slide"
    }
   },
   "source": [
    "Se devuelven como objetos `Series`:"
   ]
  },
  {
   "cell_type": "code",
   "execution_count": null,
   "id": "1e69425b",
   "metadata": {
    "slideshow": {
     "slide_type": "slide"
    }
   },
   "outputs": [],
   "source": [
    "personas[\"año_nacimiento\"]      # así, obtienes un objeto Serie "
   ]
  },
  {
   "cell_type": "code",
   "execution_count": null,
   "id": "1547a8b4",
   "metadata": {
    "slideshow": {
     "slide_type": "slide"
    }
   },
   "outputs": [],
   "source": [
    "personas[[\"año_nacimiento\"]] "
   ]
  },
  {
   "cell_type": "markdown",
   "id": "a2b9f678",
   "metadata": {
    "slideshow": {
     "slide_type": "slide"
    }
   },
   "source": [
    "También puede obtener varias columnas a la vez:"
   ]
  },
  {
   "cell_type": "code",
   "execution_count": null,
   "id": "ee40259d",
   "metadata": {
    "slideshow": {
     "slide_type": "slide"
    }
   },
   "outputs": [],
   "source": [
    "personas[[\"año_nacimiento\", \"hobby\"]] "
   ]
  },
  {
   "cell_type": "markdown",
   "id": "03d9099e",
   "metadata": {
    "slideshow": {
     "slide_type": "slide"
    }
   },
   "source": [
    "Si pasa una lista de columnas y/o etiquetas de fila al constructor de `DataFrame`, garantizará que estas columnas y/o filas existirán, en ese orden, y no existirá ninguna otra columna/fila.   \n",
    "\n",
    "Por ejemplo:"
   ]
  },
  {
   "cell_type": "code",
   "execution_count": null,
   "id": "e1abbfd7",
   "metadata": {
    "slideshow": {
     "slide_type": "slide"
    }
   },
   "outputs": [],
   "source": [
    "d2 = pd.DataFrame(\n",
    "        personas_dict,\n",
    "        columns=[\"año_nacimiento\", \"peso\", \"altura\"],\n",
    "        index=[\"mateo\", \"marcos\", \"juan\"]\n",
    "     )\n",
    "d2"
   ]
  },
  {
   "cell_type": "markdown",
   "id": "31f7ea2d",
   "metadata": {
    "slideshow": {
     "slide_type": "slide"
    }
   },
   "source": [
    "Otra forma conveniente de crear un `DataFrame` es pasar todos los valores al constructor como un `ndarray`, o una lista de listas, y especificar los nombres de columna y las etiquetas de índice de fila por separado:"
   ]
  },
  {
   "cell_type": "code",
   "execution_count": null,
   "id": "18c8e06f",
   "metadata": {
    "slideshow": {
     "slide_type": "slide"
    }
   },
   "outputs": [],
   "source": [
    "import pandas as pd \n",
    "import numpy as np "
   ]
  },
  {
   "cell_type": "code",
   "execution_count": null,
   "id": "00d4f3d5",
   "metadata": {
    "slideshow": {
     "slide_type": "slide"
    }
   },
   "outputs": [],
   "source": [
    "values = np.array([\n",
    "            [1985, np.nan, \"ciclismo\",   68],\n",
    "            [1984, 3,      \"baile\",      83],\n",
    "            [1992, 0,      np.nan,       95]\n",
    "         ]) "
   ]
  },
  {
   "cell_type": "code",
   "execution_count": null,
   "id": "beb3328c",
   "metadata": {
    "slideshow": {
     "slide_type": "slide"
    }
   },
   "outputs": [],
   "source": [
    "d3 = pd.DataFrame(\n",
    "        values,\n",
    "        columns=[\"año_nacimiento\", \"hijos\", \"hobby\", \"peso\"],\n",
    "        index=[\"mateo\", \"marcos\", \"lucas\"]\n",
    "     )\n",
    "d3"
   ]
  },
  {
   "cell_type": "markdown",
   "id": "c313c4d4",
   "metadata": {
    "slideshow": {
     "slide_type": "slide"
    }
   },
   "source": [
    "Observe que para especificar los valores que faltan, se puede usar `np.nan`."
   ]
  },
  {
   "cell_type": "markdown",
   "id": "9531135e",
   "metadata": {
    "slideshow": {
     "slide_type": "slide"
    }
   },
   "source": [
    "En lugar de un `ndarray`, también puedes pasar un objeto `DataFrame`:"
   ]
  },
  {
   "cell_type": "code",
   "execution_count": null,
   "id": "d3eecf9a",
   "metadata": {
    "scrolled": true,
    "slideshow": {
     "slide_type": "slide"
    }
   },
   "outputs": [],
   "source": [
    "d4 = pd.DataFrame(\n",
    "         d3,\n",
    "         columns=[\"hobby\", \"hijos\"],\n",
    "         index=[\"mateo\", \"marcos\"]\n",
    "     )\n",
    "d4"
   ]
  },
  {
   "cell_type": "markdown",
   "id": "6ebdd4f8",
   "metadata": {
    "slideshow": {
     "slide_type": "slide"
    }
   },
   "source": [
    "También es posible crear un `DataFrame` con un diccionario (o lista) de diccionarios (o lista):"
   ]
  },
  {
   "cell_type": "code",
   "execution_count": null,
   "id": "8d51fdad",
   "metadata": {
    "slideshow": {
     "slide_type": "slide"
    }
   },
   "outputs": [],
   "source": [
    "import pandas as pd \n",
    "personas = pd.DataFrame({\n",
    "    \"año_nacimiento\": {\"mateo\":1985, \"marcos\": 1984, \"lucas\": 1992},\n",
    "    \"hobby\": {\"mateo\":\"ciclismo\", \"marcos\": \"baile\"},\n",
    "    \"peso\": {\"mateo\":68, \"marcos\": 83, \"lucas\": 112},\n",
    "    \"hijos\": {\"mateo\": 3, \"marcos\": 1}\n",
    "})\n",
    "\n",
    "personas"
   ]
  },
  {
   "cell_type": "code",
   "execution_count": null,
   "id": "afa189fc",
   "metadata": {
    "slideshow": {
     "slide_type": "slide"
    }
   },
   "outputs": [],
   "source": [
    "(personas['año_nacimiento'] > 1980) & (personas['año_nacimiento'] < 1990) \n"
   ]
  },
  {
   "cell_type": "code",
   "execution_count": null,
   "id": "4247502f",
   "metadata": {
    "slideshow": {
     "slide_type": "slide"
    }
   },
   "outputs": [],
   "source": [
    "personas[(personas['año_nacimiento'] > 1980) & (personas['año_nacimiento'] < 1990) ]"
   ]
  },
  {
   "cell_type": "markdown",
   "id": "24779776",
   "metadata": {
    "slideshow": {
     "slide_type": "slide"
    }
   },
   "source": [
    "Ojo al uso del operador `&`"
   ]
  },
  {
   "cell_type": "markdown",
   "id": "99146f5f",
   "metadata": {
    "slideshow": {
     "slide_type": "slide"
    }
   },
   "source": [
    "## Acceso a filas"
   ]
  },
  {
   "cell_type": "markdown",
   "id": "faebd77c",
   "metadata": {
    "slideshow": {
     "slide_type": "slide"
    }
   },
   "source": [
    "Volvamos al `DataFrame` `personas`:"
   ]
  },
  {
   "cell_type": "code",
   "execution_count": null,
   "id": "19aa5c3f",
   "metadata": {
    "slideshow": {
     "slide_type": "slide"
    }
   },
   "outputs": [],
   "source": [
    "personas "
   ]
  },
  {
   "cell_type": "markdown",
   "id": "b4fabb39",
   "metadata": {
    "slideshow": {
     "slide_type": "slide"
    }
   },
   "source": [
    "El atributo `.loc[]` le permite acceder a las filas en lugar de a las columnas. "
   ]
  },
  {
   "cell_type": "markdown",
   "id": "b0dde5cc",
   "metadata": {
    "slideshow": {
     "slide_type": "slide"
    }
   },
   "source": [
    "El resultado es un objeto `Serie` en el que los nombres de columna de `DataFrame` se asignan a etiquetas de índice de fila:"
   ]
  },
  {
   "cell_type": "code",
   "execution_count": null,
   "id": "f6b52b25",
   "metadata": {
    "slideshow": {
     "slide_type": "slide"
    }
   },
   "outputs": [],
   "source": [
    "personas.loc[\"mateo\"]"
   ]
  },
  {
   "cell_type": "code",
   "execution_count": null,
   "id": "85ebf953",
   "metadata": {
    "slideshow": {
     "slide_type": "slide"
    }
   },
   "outputs": [],
   "source": [
    "type(personas.loc[\"mateo\"])"
   ]
  },
  {
   "cell_type": "code",
   "execution_count": null,
   "id": "29e2aeef",
   "metadata": {
    "slideshow": {
     "slide_type": "slide"
    }
   },
   "outputs": [],
   "source": [
    "personas.loc[[\"mateo\"]] "
   ]
  },
  {
   "cell_type": "code",
   "execution_count": null,
   "id": "34b30620",
   "metadata": {
    "slideshow": {
     "slide_type": "slide"
    }
   },
   "outputs": [],
   "source": [
    "type(personas.loc[[\"mateo\"]] )"
   ]
  },
  {
   "cell_type": "code",
   "execution_count": null,
   "id": "0c062d55",
   "metadata": {
    "slideshow": {
     "slide_type": "slide"
    }
   },
   "outputs": [],
   "source": [
    "personas.loc[['mateo', 'marcos']]"
   ]
  },
  {
   "cell_type": "markdown",
   "id": "869ce75d",
   "metadata": {
    "slideshow": {
     "slide_type": "slide"
    }
   },
   "source": [
    "También puede acceder a las filas por ubicación de enteros utilizando el atributo `iloc`:"
   ]
  },
  {
   "cell_type": "code",
   "execution_count": null,
   "id": "7c5dfde9",
   "metadata": {
    "slideshow": {
     "slide_type": "slide"
    }
   },
   "outputs": [],
   "source": [
    "personas.iloc[2]"
   ]
  },
  {
   "cell_type": "markdown",
   "id": "88074dd7",
   "metadata": {
    "slideshow": {
     "slide_type": "slide"
    }
   },
   "source": [
    "También puede obtener una porción de filas, y esto devuelve un objeto `DataFrame`:"
   ]
  },
  {
   "cell_type": "code",
   "execution_count": null,
   "id": "e87ca581",
   "metadata": {
    "slideshow": {
     "slide_type": "slide"
    }
   },
   "outputs": [],
   "source": [
    "personas.iloc[1:3]"
   ]
  },
  {
   "cell_type": "code",
   "execution_count": null,
   "id": "1232d17b",
   "metadata": {
    "slideshow": {
     "slide_type": "slide"
    }
   },
   "outputs": [],
   "source": [
    "personas.keys() "
   ]
  },
  {
   "cell_type": "code",
   "execution_count": null,
   "id": "6be0f0aa",
   "metadata": {
    "slideshow": {
     "slide_type": "slide"
    }
   },
   "outputs": [],
   "source": [
    "1980 < personas.loc['año_nacimiento'] < 1990"
   ]
  },
  {
   "cell_type": "code",
   "execution_count": null,
   "id": "dc2c502b",
   "metadata": {
    "slideshow": {
     "slide_type": "slide"
    }
   },
   "outputs": [],
   "source": [
    "Finalmente, puede pasar una matriz booleana para obtener las filas coincidentes:"
   ]
  },
  {
   "cell_type": "code",
   "execution_count": null,
   "id": "f9ed5bf5",
   "metadata": {
    "slideshow": {
     "slide_type": "slide"
    }
   },
   "outputs": [],
   "source": [
    "personas.iloc[np.array([True, True, True])]"
   ]
  },
  {
   "cell_type": "markdown",
   "id": "a6b0bdff",
   "metadata": {
    "slideshow": {
     "slide_type": "slide"
    }
   },
   "source": [
    "Esto es más útil cuando se combina con expresiones booleanas:"
   ]
  },
  {
   "cell_type": "code",
   "execution_count": null,
   "id": "b4924c7a",
   "metadata": {
    "slideshow": {
     "slide_type": "slide"
    }
   },
   "outputs": [],
   "source": [
    "personas.keys()"
   ]
  },
  {
   "cell_type": "code",
   "execution_count": null,
   "id": "55cb4a68",
   "metadata": {
    "slideshow": {
     "slide_type": "slide"
    }
   },
   "outputs": [],
   "source": [
    "[True, True, False]  # lista de Python"
   ]
  },
  {
   "cell_type": "code",
   "execution_count": null,
   "id": "dec8f7e7",
   "metadata": {
    "slideshow": {
     "slide_type": "slide"
    }
   },
   "outputs": [],
   "source": [
    "hobby_antes_de_1990 = personas[ personas['año_nacimiento'] < 1990 ]['hobby']"
   ]
  },
  {
   "cell_type": "code",
   "execution_count": null,
   "id": "8a3dacac",
   "metadata": {
    "slideshow": {
     "slide_type": "slide"
    }
   },
   "outputs": [],
   "source": [
    "hobby_antes_de_1990"
   ]
  },
  {
   "cell_type": "markdown",
   "id": "4a31b438",
   "metadata": {
    "slideshow": {
     "slide_type": "slide"
    }
   },
   "source": [
    "## Adición y eliminación de columnas"
   ]
  },
  {
   "cell_type": "code",
   "execution_count": null,
   "id": "20c65436",
   "metadata": {
    "slideshow": {
     "slide_type": "slide"
    }
   },
   "outputs": [],
   "source": [
    "personas "
   ]
  },
  {
   "cell_type": "code",
   "execution_count": null,
   "id": "9d7b0301",
   "metadata": {
    "slideshow": {
     "slide_type": "slide"
    }
   },
   "outputs": [],
   "source": [
    "personas['edad'] = 2022 - personas['año_nacimiento'] "
   ]
  },
  {
   "cell_type": "code",
   "execution_count": null,
   "id": "10896cc7",
   "metadata": {
    "slideshow": {
     "slide_type": "slide"
    }
   },
   "outputs": [],
   "source": [
    "personas "
   ]
  },
  {
   "cell_type": "code",
   "execution_count": null,
   "id": "f2df901e",
   "metadata": {
    "slideshow": {
     "slide_type": "slide"
    }
   },
   "outputs": [],
   "source": [
    "personas['mas_30_años'] = personas['edad'] > 30"
   ]
  },
  {
   "cell_type": "code",
   "execution_count": null,
   "id": "ea1f9996",
   "metadata": {
    "slideshow": {
     "slide_type": "slide"
    }
   },
   "outputs": [],
   "source": [
    "personas "
   ]
  },
  {
   "cell_type": "code",
   "execution_count": null,
   "id": "693a8e33",
   "metadata": {
    "slideshow": {
     "slide_type": "slide"
    }
   },
   "outputs": [],
   "source": [
    "año_nacimiento = personas.pop('año_nacimiento')  "
   ]
  },
  {
   "cell_type": "code",
   "execution_count": null,
   "id": "f95fb88a",
   "metadata": {
    "slideshow": {
     "slide_type": "slide"
    }
   },
   "outputs": [],
   "source": [
    "año_nacimiento"
   ]
  },
  {
   "cell_type": "code",
   "execution_count": null,
   "id": "5801f84d",
   "metadata": {
    "slideshow": {
     "slide_type": "slide"
    }
   },
   "outputs": [],
   "source": [
    "personas"
   ]
  },
  {
   "cell_type": "code",
   "execution_count": null,
   "id": "bb6ea6f4",
   "metadata": {
    "slideshow": {
     "slide_type": "slide"
    }
   },
   "outputs": [],
   "source": [
    "del personas['hijos']"
   ]
  },
  {
   "cell_type": "code",
   "execution_count": null,
   "id": "ceb5719d",
   "metadata": {
    "slideshow": {
     "slide_type": "slide"
    }
   },
   "outputs": [],
   "source": [
    "personas"
   ]
  },
  {
   "cell_type": "markdown",
   "id": "f0a6aaf7",
   "metadata": {
    "slideshow": {
     "slide_type": "slide"
    }
   },
   "source": [
    "Cuando agrega una nueva columna, debe tener el mismo número de filas. Las filas que faltan se rellenan con `NaN` y las filas adicionales se ignoran:"
   ]
  },
  {
   "cell_type": "code",
   "execution_count": null,
   "id": "83613a3d",
   "metadata": {
    "slideshow": {
     "slide_type": "slide"
    }
   },
   "outputs": [],
   "source": [
    "personas[\"mascotas\"] = pd.Series({\"mateo\": 0, \"marcos\": 2, \"juan\":1})  # alice is missing, eugene is ignored\n",
    "personas "
   ]
  },
  {
   "cell_type": "markdown",
   "id": "bc424842",
   "metadata": {
    "slideshow": {
     "slide_type": "slide"
    }
   },
   "source": [
    "Al agregar una **nueva columna**, se agrega **al final** (a la derecha) de forma predeterminada. "
   ]
  },
  {
   "cell_type": "markdown",
   "id": "0137b039",
   "metadata": {
    "slideshow": {
     "slide_type": "slide"
    }
   },
   "source": [
    "También puedes insertar una columna en cualquier otro lugar usando el método `insert()`:"
   ]
  },
  {
   "cell_type": "code",
   "execution_count": null,
   "id": "668d663d",
   "metadata": {
    "slideshow": {
     "slide_type": "slide"
    }
   },
   "outputs": [],
   "source": [
    "personas.insert(2, 'estatura', [165, 152, 170])\n",
    "personas  "
   ]
  },
  {
   "cell_type": "markdown",
   "id": "c2c47268",
   "metadata": {
    "slideshow": {
     "slide_type": "slide"
    }
   },
   "source": [
    "## Asignación de nuevas columnas"
   ]
  },
  {
   "cell_type": "markdown",
   "id": "b9055e68",
   "metadata": {
    "slideshow": {
     "slide_type": "slide"
    }
   },
   "source": [
    "También puede crear nuevas columnas llamando al método `assign()`. "
   ]
  },
  {
   "cell_type": "markdown",
   "id": "6d1c3229",
   "metadata": {
    "slideshow": {
     "slide_type": "slide"
    }
   },
   "source": [
    "Tenga en cuenta que esto devuelve un nuevo objeto `DataFrame`, el original no se modifica:"
   ]
  },
  {
   "cell_type": "code",
   "execution_count": 1,
   "id": "d99e6243",
   "metadata": {
    "slideshow": {
     "slide_type": "slide"
    }
   },
   "outputs": [
    {
     "ename": "NameError",
     "evalue": "name 'personas' is not defined",
     "output_type": "error",
     "traceback": [
      "\u001b[1;31m---------------------------------------------------------------------------\u001b[0m",
      "\u001b[1;31mNameError\u001b[0m                                 Traceback (most recent call last)",
      "\u001b[1;32m<ipython-input-1-1c0221bd830a>\u001b[0m in \u001b[0;36m<module>\u001b[1;34m\u001b[0m\n\u001b[1;32m----> 1\u001b[1;33m personas.assign(indice_masa_corporal = personas['peso']/(personas['estatura']/100)**2,\n\u001b[0m\u001b[0;32m      2\u001b[0m              tiene_mascota = personas['mascotas'] > 0) \n",
      "\u001b[1;31mNameError\u001b[0m: name 'personas' is not defined"
     ]
    }
   ],
   "source": [
    "personas.assign(indice_masa_corporal = personas['peso']/(personas['estatura']/100)**2,\n",
    "             tiene_mascota = personas['mascotas'] > 0) "
   ]
  },
  {
   "cell_type": "code",
   "execution_count": null,
   "id": "9a52d62c",
   "metadata": {
    "slideshow": {
     "slide_type": "slide"
    }
   },
   "outputs": [],
   "source": [
    "personas.assign(indice_masa_corporal = personas['peso']/(personas['estatura']/100)**2,\n",
    "             tiene_mascota = personas['mascotas'] > 0, implace = True) "
   ]
  },
  {
   "cell_type": "code",
   "execution_count": null,
   "id": "1c879fb8",
   "metadata": {
    "slideshow": {
     "slide_type": "slide"
    }
   },
   "outputs": [],
   "source": [
    "personas "
   ]
  },
  {
   "cell_type": "markdown",
   "id": "c93de65d",
   "metadata": {
    "slideshow": {
     "slide_type": "slide"
    }
   },
   "source": [
    "Tenga en cuenta que no puede acceder a las columnas creadas dentro de la misma tarea:"
   ]
  },
  {
   "cell_type": "code",
   "execution_count": null,
   "id": "0dab591b",
   "metadata": {
    "slideshow": {
     "slide_type": "slide"
    }
   },
   "outputs": [],
   "source": [
    "try:\n",
    "    people.assign(\n",
    "        indice_masa_corporal = personas[\"peso\"] / (personas[\"estatura\"] / 100) ** 2,\n",
    "        sobre_peso = personas[\"indice_masa_corporal\"] > 25\n",
    "    )\n",
    "except KeyError as e:\n",
    "    print(\"Key error:\", e)"
   ]
  },
  {
   "cell_type": "markdown",
   "id": "27477105",
   "metadata": {
    "slideshow": {
     "slide_type": "slide"
    }
   },
   "source": [
    "La solución es dividir esta asignación en dos asignaciones consecutivas:"
   ]
  },
  {
   "cell_type": "code",
   "execution_count": null,
   "id": "bb17f2a9",
   "metadata": {
    "slideshow": {
     "slide_type": "slide"
    }
   },
   "outputs": [],
   "source": [
    "d6 = people.assign(indice_masa_corporal = personas[\"peso\"] / (personas[\"estatura\"] / 100) ** 2)"
   ]
  },
  {
   "cell_type": "code",
   "execution_count": null,
   "id": "ed79c26e",
   "metadata": {
    "slideshow": {
     "slide_type": "slide"
    }
   },
   "outputs": [],
   "source": [
    "d6.assign(sobre_peso = d6[\"indice_masa_corporal\"] > 25)"
   ]
  },
  {
   "cell_type": "markdown",
   "id": "a5519b2e",
   "metadata": {
    "slideshow": {
     "slide_type": "slide"
    }
   },
   "source": [
    "Tener que crear una variable temporal `d6` no es muy conveniente. "
   ]
  },
  {
   "cell_type": "markdown",
   "id": "f4d50479",
   "metadata": {
    "slideshow": {
     "slide_type": "slide"
    }
   },
   "source": [
    "Es posible que desee simplemente encadenar las llamadas de asignación, pero no funciona porque el objeto `personas` en realidad no se modifica con la primera asignación:"
   ]
  },
  {
   "cell_type": "code",
   "execution_count": null,
   "id": "1d3abfb7",
   "metadata": {
    "slideshow": {
     "slide_type": "slide"
    }
   },
   "outputs": [],
   "source": [
    "try:\n",
    "    (personas\n",
    "         .assign(indice_masa_corporal = personas[\"peso\"] / (personas[\"estatura\"] / 100) ** 2)\n",
    "         .assign(sobre_peso = personas[\"indice_masa_corporal\"] > 25)\n",
    "    )\n",
    "except KeyError as e:\n",
    "    print(\"Key error:\", e)"
   ]
  },
  {
   "cell_type": "markdown",
   "id": "73c78282",
   "metadata": {
    "slideshow": {
     "slide_type": "slide"
    }
   },
   "source": [
    "Pero no temas, hay una solución simple. Puede pasar una función al método `asign()` (normalmente una función `lambda`), y esta función se llamará con el `DataFrame` como parámetro:"
   ]
  },
  {
   "cell_type": "code",
   "execution_count": null,
   "id": "9814ec5b",
   "metadata": {
    "slideshow": {
     "slide_type": "slide"
    }
   },
   "outputs": [],
   "source": [
    "(personas\n",
    "     .assign(indice_masa_corporal = lambda df: df[\"peso\"] / (df[\"estatura\"] / 100) ** 2)\n",
    "     .assign(sobre_peso = lambda df: df[\"indice_masa_corporal\"] > 25)\n",
    ")\n"
   ]
  },
  {
   "cell_type": "markdown",
   "id": "8f84776a",
   "metadata": {
    "slideshow": {
     "slide_type": "slide"
    }
   },
   "source": [
    "## Evaluar una expresión"
   ]
  },
  {
   "cell_type": "markdown",
   "id": "edbf4b6a",
   "metadata": {
    "slideshow": {
     "slide_type": "slide"
    }
   },
   "source": [
    "Una gran característica compatible con pandas es la evaluación de expresiones. "
   ]
  },
  {
   "cell_type": "markdown",
   "id": "6ef770ab",
   "metadata": {
    "slideshow": {
     "slide_type": "slide"
    }
   },
   "source": [
    "Esto se basa en la biblioteca `numexpr` que debe estar instalada."
   ]
  },
  {
   "cell_type": "code",
   "execution_count": null,
   "id": "9c803d50",
   "metadata": {
    "slideshow": {
     "slide_type": "slide"
    }
   },
   "outputs": [],
   "source": [
    "personas.eval('peso/(estatura/100)**2 > 25')"
   ]
  },
  {
   "cell_type": "markdown",
   "id": "83bdbf26",
   "metadata": {
    "slideshow": {
     "slide_type": "slide"
    }
   },
   "source": [
    "También se admiten expresiones de asignación. Configuremos `inplace=True` para modificar directamente el `DataFrame` en lugar de obtener una **copia modificada**:"
   ]
  },
  {
   "cell_type": "code",
   "execution_count": null,
   "id": "ea574d73",
   "metadata": {
    "slideshow": {
     "slide_type": "slide"
    }
   },
   "outputs": [],
   "source": [
    "personas.eval(\"indice_masa_corporal = peso / (estatura/100) ** 2\", inplace=True)\n",
    "personas"
   ]
  },
  {
   "cell_type": "markdown",
   "id": "90613025",
   "metadata": {
    "slideshow": {
     "slide_type": "slide"
    }
   },
   "source": [
    "Puede usar una variable local o global en una expresión prefijándola con `@`:"
   ]
  },
  {
   "cell_type": "code",
   "execution_count": null,
   "id": "3de3759f",
   "metadata": {
    "slideshow": {
     "slide_type": "slide"
    }
   },
   "outputs": [],
   "source": [
    "umbral_sobre_peso = 30\n",
    "personas.eval(\"sobre_peso = indice_masa_corporal > @umbral_sobre_peso\", inplace=True)\n",
    "\n",
    "personas"
   ]
  },
  {
   "cell_type": "markdown",
   "id": "cbacdccc",
   "metadata": {
    "slideshow": {
     "slide_type": "slide"
    }
   },
   "source": [
    "## Querying a DataFrame (Consultar en el DataFrame)"
   ]
  },
  {
   "cell_type": "markdown",
   "id": "bee8ca15",
   "metadata": {
    "slideshow": {
     "slide_type": "slide"
    }
   },
   "source": [
    "El método `query()` le permite filtrar un `DataFrame` basado en una expresión de consulta:"
   ]
  },
  {
   "cell_type": "code",
   "execution_count": null,
   "id": "2cd8bccb",
   "metadata": {
    "slideshow": {
     "slide_type": "slide"
    }
   },
   "outputs": [],
   "source": [
    "personas.query(\"edad > 30 and mascotas == 2\")"
   ]
  },
  {
   "cell_type": "markdown",
   "id": "e2076be6",
   "metadata": {
    "slideshow": {
     "slide_type": "slide"
    }
   },
   "source": [
    "## Ordenar un DataFrame"
   ]
  },
  {
   "cell_type": "markdown",
   "id": "894c5b26",
   "metadata": {
    "slideshow": {
     "slide_type": "slide"
    }
   },
   "source": [
    "Puede ordenar un `DataFrame` llamando a su método `sort_index`. "
   ]
  },
  {
   "cell_type": "markdown",
   "id": "dbf2b8a1",
   "metadata": {
    "slideshow": {
     "slide_type": "slide"
    }
   },
   "source": [
    "Por defecto, ordena las filas por su etiqueta de índice, en orden ascendente, pero invirtamos el orden:"
   ]
  },
  {
   "cell_type": "code",
   "execution_count": null,
   "id": "2f008530",
   "metadata": {
    "slideshow": {
     "slide_type": "slide"
    }
   },
   "outputs": [],
   "source": [
    "personas.sort_index(ascending=True)"
   ]
  },
  {
   "cell_type": "markdown",
   "id": "c020e3f6",
   "metadata": {
    "slideshow": {
     "slide_type": "slide"
    }
   },
   "source": [
    "## Taller de clase o tarea"
   ]
  },
  {
   "cell_type": "markdown",
   "id": "28b5b091",
   "metadata": {
    "slideshow": {
     "slide_type": "slide"
    }
   },
   "source": [
    "Se lanzan al aire dos dados y se suman sus puntos obtenidos. Halla la probabilidad de que la suma:  \n",
    "\n",
    "a) Sea 4.  \n",
    "b) No sea 7.  \n",
    "c) Sea mayor que 7.  \n",
    "d) Sea menor que 5.  \n",
    "e) Sea 6 o 9.  \n",
    "f) Esté entre 2 y 6.  "
   ]
  },
  {
   "cell_type": "markdown",
   "id": "ea94acec",
   "metadata": {
    "slideshow": {
     "slide_type": "slide"
    }
   },
   "source": [
    "## Solución"
   ]
  },
  {
   "cell_type": "markdown",
   "id": "eb395d66",
   "metadata": {
    "slideshow": {
     "slide_type": "slide"
    }
   },
   "source": [
    "1. Empecemos construyendo un DataFrame con todos los posibles resultados de este experimento aleatorio: \n",
    "2. Agregue una columna de la variable aleatoria.\n",
    "3. Cree una columna de booleanos que indique los casos favorables. \n",
    "4. Sume los casos favorables\n",
    "5. divida la suma por la longitud del DataFrame\n",
    "6. Redacte una conclusión"
   ]
  },
  {
   "cell_type": "code",
   "execution_count": null,
   "id": "6447d3ec",
   "metadata": {
    "slideshow": {
     "slide_type": "slide"
    }
   },
   "outputs": [],
   "source": [
    "import numpy as np \n",
    "import pandas as pd \n",
    "\n",
    "dado1 = np.array([])\n",
    "for i in range(1,7):\n",
    "    dado1 = np.hstack((dado1,i*np.ones(6)))\n",
    "    \n",
    "dado1   "
   ]
  },
  {
   "cell_type": "code",
   "execution_count": null,
   "id": "348a22c9",
   "metadata": {
    "slideshow": {
     "slide_type": "slide"
    }
   },
   "outputs": [],
   "source": [
    "dado2 = np.array([])\n",
    "for i in range(1,7):\n",
    "    dado2 = np.hstack((dado2,*np.arange(1,7)))\n",
    "    \n",
    "dado2  "
   ]
  },
  {
   "cell_type": "code",
   "execution_count": null,
   "id": "71a8eff0",
   "metadata": {
    "slideshow": {
     "slide_type": "slide"
    }
   },
   "outputs": [],
   "source": [
    "dic = {'dado1':dado1,'dado2':dado2} \n",
    "resultados = pd.DataFrame(dic, index = np.arange(1,len(dado1)+1)) \n",
    "resultados.head()  "
   ]
  },
  {
   "cell_type": "code",
   "execution_count": null,
   "id": "e6f2cb96",
   "metadata": {
    "slideshow": {
     "slide_type": "slide"
    }
   },
   "outputs": [],
   "source": [
    "resultados['suma'] = resultados['dado1'] + resultados['dado2'] \n",
    "resultados"
   ]
  },
  {
   "cell_type": "code",
   "execution_count": null,
   "id": "95cf7f0b",
   "metadata": {
    "slideshow": {
     "slide_type": "slide"
    }
   },
   "outputs": [],
   "source": [
    "resultados['suma_es_4'] = resultados.suma == 4\n",
    "resultados.head() "
   ]
  },
  {
   "cell_type": "code",
   "execution_count": null,
   "id": "5d2ae5fe",
   "metadata": {
    "slideshow": {
     "slide_type": "slide"
    }
   },
   "outputs": [],
   "source": [
    "probabilidad_suma_es_4 = resultados.suma_es_4.sum()/len(resultados)\n",
    "probabilidad_suma_es_4"
   ]
  },
  {
   "cell_type": "markdown",
   "id": "bed512ea",
   "metadata": {
    "slideshow": {
     "slide_type": "slide"
    }
   },
   "source": [
    "Por lo tanto, la probabilidad de que al lanzar dos dados la suma de los resultados sea 4 es del 8.3 porciento. "
   ]
  },
  {
   "cell_type": "markdown",
   "id": "a01411e1",
   "metadata": {
    "slideshow": {
     "slide_type": "slide"
    }
   },
   "source": [
    "## Referentes\n",
    "\n",
    "* Pandas según Géron: https://github.com/ageron/handson-ml/blob/master/tools_pandas.ipynb \n",
    "\n",
    "* `DataFrame.pop(elemento)`: https://pandas.pydata.org/pandas-docs/stable/reference/api/pandas.DataFrame.pop.html"
   ]
  },
  {
   "cell_type": "code",
   "execution_count": null,
   "id": "08efe38c",
   "metadata": {},
   "outputs": [],
   "source": []
  }
 ],
 "metadata": {
  "celltoolbar": "Slideshow",
  "kernelspec": {
   "display_name": "Python 3",
   "language": "python",
   "name": "python3"
  },
  "language_info": {
   "codemirror_mode": {
    "name": "ipython",
    "version": 3
   },
   "file_extension": ".py",
   "mimetype": "text/x-python",
   "name": "python",
   "nbconvert_exporter": "python",
   "pygments_lexer": "ipython3",
   "version": "3.8.8"
  },
  "latex_envs": {
   "LaTeX_envs_menu_present": true,
   "autoclose": false,
   "autocomplete": false,
   "bibliofile": "biblio.bib",
   "cite_by": "apalike",
   "current_citInitial": 1,
   "eqLabelWithNumbers": true,
   "eqNumInitial": 1,
   "hotkeys": {
    "equation": "Ctrl-E",
    "itemize": "Ctrl-I"
   },
   "labels_anchors": false,
   "latex_user_defs": false,
   "report_style_numbering": false,
   "user_envs_cfg": false
  },
  "rise": {
   "enable_chalkboard": true,
   "theme": "sky",
   "transition": "sky"
  }
 },
 "nbformat": 4,
 "nbformat_minor": 5
}
