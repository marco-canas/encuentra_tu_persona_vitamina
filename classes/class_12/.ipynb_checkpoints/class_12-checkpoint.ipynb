{
 "cells": [
  {
   "cell_type": "markdown",
   "id": "4d6fe190",
   "metadata": {
    "slideshow": {
     "slide_type": "slide"
    }
   },
   "source": [
    "\n",
    "<table align=\"left\">\n",
    "  <td>\n",
    "    <a href=\"https://colab.research.google.com/github/marco-canas/introducci-n-al-Machine-Learning/blob/main/classes/class_12/class_12.ipynb\" target=\"_parent\"><img src=\"https://colab.research.google.com/assets/colab-badge.svg\" alt=\"Open In Colab\"/></a>\n",
    "  </td>\n",
    "  <td>\n",
    "    <a target=\"_blank\" href=\"https://kaggle.com/kernels/welcome?src=https://github.com/marco-canas/introducci-n-al-Machine-Learning/blob/main/classes/class_12/class_12.ipynb\"><img src=\"https://kaggle.com/static/images/open-in-kaggle.svg\" /></a>\n",
    "  </td>\n",
    "</table> \n"
   ]
  },
  {
   "cell_type": "markdown",
   "id": "f798b1c9",
   "metadata": {
    "slideshow": {
     "slide_type": "slide"
    }
   },
   "source": [
    "# [DataFrame según Géron](https://github.com/ageron/handson-ml/blob/master/tools_pandas.ipynb)"
   ]
  },
  {
   "cell_type": "markdown",
   "id": "2cccd717",
   "metadata": {
    "slideshow": {
     "slide_type": "slide"
    }
   },
   "source": [
    "**DataFrame**, que se puede considerar como una tabla 2D en memoria. \n"
   ]
  },
  {
   "cell_type": "markdown",
   "id": "6e95011b",
   "metadata": {
    "slideshow": {
     "slide_type": "slide"
    }
   },
   "source": [
    "Un objeto `DataFrame` representa una hoja de cálculo, con:  \n",
    "\n",
    "* valores de celda, \n",
    "* nombres de columna y \n",
    "* etiquetas de índice de fila. "
   ]
  },
  {
   "cell_type": "code",
   "execution_count": 1,
   "id": "bf801b59",
   "metadata": {
    "slideshow": {
     "slide_type": "slide"
    }
   },
   "outputs": [],
   "source": [
    "import pandas as pd"
   ]
  },
  {
   "cell_type": "markdown",
   "id": "7cad0e8b",
   "metadata": {
    "slideshow": {
     "slide_type": "slide"
    }
   },
   "source": [
    "Puede: \n",
    "\n",
    "* definir expresiones para calcular columnas basadas en otras columnas, \n",
    "* crear tablas dinámicas, \n",
    "* agrupar filas, \n",
    "* dibujar gráficos, etc. \n"
   ]
  },
  {
   "cell_type": "markdown",
   "id": "b7f05a4e",
   "metadata": {
    "slideshow": {
     "slide_type": "slide"
    }
   },
   "source": [
    "## Creación de un DataFrame"
   ]
  },
  {
   "cell_type": "markdown",
   "id": "957f8fcb",
   "metadata": {
    "slideshow": {
     "slide_type": "slide"
    }
   },
   "source": [
    "Puede crear un `DataFrame` pasando un diccionario de objetos `Series`:"
   ]
  },
  {
   "cell_type": "code",
   "execution_count": 6,
   "id": "7c0c22bd",
   "metadata": {
    "slideshow": {
     "slide_type": "slide"
    }
   },
   "outputs": [
    {
     "data": {
      "text/html": [
       "<div>\n",
       "<style scoped>\n",
       "    .dataframe tbody tr th:only-of-type {\n",
       "        vertical-align: middle;\n",
       "    }\n",
       "\n",
       "    .dataframe tbody tr th {\n",
       "        vertical-align: top;\n",
       "    }\n",
       "\n",
       "    .dataframe thead th {\n",
       "        text-align: right;\n",
       "    }\n",
       "</style>\n",
       "<table border=\"1\" class=\"dataframe\">\n",
       "  <thead>\n",
       "    <tr style=\"text-align: right;\">\n",
       "      <th></th>\n",
       "      <th>peso</th>\n",
       "      <th>año_nacimiento</th>\n",
       "      <th>hijos</th>\n",
       "      <th>hobby</th>\n",
       "    </tr>\n",
       "  </thead>\n",
       "  <tbody>\n",
       "    <tr>\n",
       "      <th>lucas</th>\n",
       "      <td>112</td>\n",
       "      <td>1984</td>\n",
       "      <td>NaN</td>\n",
       "      <td>NaN</td>\n",
       "    </tr>\n",
       "    <tr>\n",
       "      <th>marcos</th>\n",
       "      <td>83</td>\n",
       "      <td>1985</td>\n",
       "      <td>3.0</td>\n",
       "      <td>ciclismo</td>\n",
       "    </tr>\n",
       "    <tr>\n",
       "      <th>mateo</th>\n",
       "      <td>68</td>\n",
       "      <td>1992</td>\n",
       "      <td>0.0</td>\n",
       "      <td>baile</td>\n",
       "    </tr>\n",
       "  </tbody>\n",
       "</table>\n",
       "</div>"
      ],
      "text/plain": [
       "        peso  año_nacimiento  hijos     hobby\n",
       "lucas    112            1984    NaN       NaN\n",
       "marcos    83            1985    3.0  ciclismo\n",
       "mateo     68            1992    0.0     baile"
      ]
     },
     "execution_count": 6,
     "metadata": {},
     "output_type": "execute_result"
    }
   ],
   "source": [
    "personas_dict = {\n",
    "    \"peso\": pd.Series([68, 83, 112], index=[\"mateo\", \"marcos\", \"lucas\"]),\n",
    "    \"año_nacimiento\": pd.Series([1984, 1985, 1992], index=[\"lucas\", \"marcos\", \"mateo\"], name=\"año\"),\n",
    "    \"hijos\": pd.Series([0, 3], index=[\"mateo\", \"marcos\"]),\n",
    "    \"hobby\": pd.Series([\"ciclismo\", \"baile\"], index=[\"marcos\", \"mateo\"])}  \n",
    "\n",
    "personas = pd.DataFrame(personas_dict)\n",
    "personas"
   ]
  },
  {
   "cell_type": "markdown",
   "id": "2ffbca89",
   "metadata": {
    "slideshow": {
     "slide_type": "slide"
    }
   },
   "source": [
    "### Algunas cosas a tener en cuenta:"
   ]
  },
  {
   "cell_type": "markdown",
   "id": "1884f202",
   "metadata": {
    "slideshow": {
     "slide_type": "slide"
    }
   },
   "source": [
    "* las series se alinearon automáticamente en función de su índice,  \n",
    "\n",
    "* los valores faltantes se representan como `NaN`,  \n",
    "\n",
    "* Los nombres de las series se ignoran (se eliminó el nombre `year`),\n"
   ]
  },
  {
   "cell_type": "markdown",
   "id": "b541a1c9",
   "metadata": {
    "slideshow": {
     "slide_type": "slide"
    }
   },
   "source": [
    "## Acceso a las columnas "
   ]
  },
  {
   "cell_type": "markdown",
   "id": "cca700d2",
   "metadata": {
    "slideshow": {
     "slide_type": "slide"
    }
   },
   "source": [
    "Se devuelven como objetos `Series`:"
   ]
  },
  {
   "cell_type": "code",
   "execution_count": 7,
   "id": "1e69425b",
   "metadata": {
    "slideshow": {
     "slide_type": "slide"
    }
   },
   "outputs": [
    {
     "data": {
      "text/plain": [
       "lucas     1984\n",
       "marcos    1985\n",
       "mateo     1992\n",
       "Name: año_nacimiento, dtype: int64"
      ]
     },
     "execution_count": 7,
     "metadata": {},
     "output_type": "execute_result"
    }
   ],
   "source": [
    "personas[\"año_nacimiento\"]      # así, obtienes un objeto Serie "
   ]
  },
  {
   "cell_type": "code",
   "execution_count": 8,
   "id": "1547a8b4",
   "metadata": {
    "slideshow": {
     "slide_type": "slide"
    }
   },
   "outputs": [
    {
     "data": {
      "text/html": [
       "<div>\n",
       "<style scoped>\n",
       "    .dataframe tbody tr th:only-of-type {\n",
       "        vertical-align: middle;\n",
       "    }\n",
       "\n",
       "    .dataframe tbody tr th {\n",
       "        vertical-align: top;\n",
       "    }\n",
       "\n",
       "    .dataframe thead th {\n",
       "        text-align: right;\n",
       "    }\n",
       "</style>\n",
       "<table border=\"1\" class=\"dataframe\">\n",
       "  <thead>\n",
       "    <tr style=\"text-align: right;\">\n",
       "      <th></th>\n",
       "      <th>año_nacimiento</th>\n",
       "    </tr>\n",
       "  </thead>\n",
       "  <tbody>\n",
       "    <tr>\n",
       "      <th>lucas</th>\n",
       "      <td>1984</td>\n",
       "    </tr>\n",
       "    <tr>\n",
       "      <th>marcos</th>\n",
       "      <td>1985</td>\n",
       "    </tr>\n",
       "    <tr>\n",
       "      <th>mateo</th>\n",
       "      <td>1992</td>\n",
       "    </tr>\n",
       "  </tbody>\n",
       "</table>\n",
       "</div>"
      ],
      "text/plain": [
       "        año_nacimiento\n",
       "lucas             1984\n",
       "marcos            1985\n",
       "mateo             1992"
      ]
     },
     "execution_count": 8,
     "metadata": {},
     "output_type": "execute_result"
    }
   ],
   "source": [
    "personas[[\"año_nacimiento\"]] "
   ]
  },
  {
   "cell_type": "markdown",
   "id": "a2b9f678",
   "metadata": {
    "slideshow": {
     "slide_type": "slide"
    }
   },
   "source": [
    "También puede obtener varias columnas a la vez:"
   ]
  },
  {
   "cell_type": "code",
   "execution_count": 9,
   "id": "ee40259d",
   "metadata": {
    "slideshow": {
     "slide_type": "slide"
    }
   },
   "outputs": [
    {
     "data": {
      "text/html": [
       "<div>\n",
       "<style scoped>\n",
       "    .dataframe tbody tr th:only-of-type {\n",
       "        vertical-align: middle;\n",
       "    }\n",
       "\n",
       "    .dataframe tbody tr th {\n",
       "        vertical-align: top;\n",
       "    }\n",
       "\n",
       "    .dataframe thead th {\n",
       "        text-align: right;\n",
       "    }\n",
       "</style>\n",
       "<table border=\"1\" class=\"dataframe\">\n",
       "  <thead>\n",
       "    <tr style=\"text-align: right;\">\n",
       "      <th></th>\n",
       "      <th>año_nacimiento</th>\n",
       "      <th>hobby</th>\n",
       "    </tr>\n",
       "  </thead>\n",
       "  <tbody>\n",
       "    <tr>\n",
       "      <th>lucas</th>\n",
       "      <td>1984</td>\n",
       "      <td>NaN</td>\n",
       "    </tr>\n",
       "    <tr>\n",
       "      <th>marcos</th>\n",
       "      <td>1985</td>\n",
       "      <td>ciclismo</td>\n",
       "    </tr>\n",
       "    <tr>\n",
       "      <th>mateo</th>\n",
       "      <td>1992</td>\n",
       "      <td>baile</td>\n",
       "    </tr>\n",
       "  </tbody>\n",
       "</table>\n",
       "</div>"
      ],
      "text/plain": [
       "        año_nacimiento     hobby\n",
       "lucas             1984       NaN\n",
       "marcos            1985  ciclismo\n",
       "mateo             1992     baile"
      ]
     },
     "execution_count": 9,
     "metadata": {},
     "output_type": "execute_result"
    }
   ],
   "source": [
    "personas[[\"año_nacimiento\", \"hobby\"]] "
   ]
  },
  {
   "cell_type": "markdown",
   "id": "03d9099e",
   "metadata": {
    "slideshow": {
     "slide_type": "slide"
    }
   },
   "source": [
    "Si pasa una lista de columnas y/o etiquetas de fila al constructor de `DataFrame`, garantizará que estas columnas y/o filas existirán, en ese orden, y no existirá ninguna otra columna/fila.   \n",
    "\n",
    "Por ejemplo:"
   ]
  },
  {
   "cell_type": "code",
   "execution_count": 10,
   "id": "e1abbfd7",
   "metadata": {
    "slideshow": {
     "slide_type": "slide"
    }
   },
   "outputs": [
    {
     "data": {
      "text/html": [
       "<div>\n",
       "<style scoped>\n",
       "    .dataframe tbody tr th:only-of-type {\n",
       "        vertical-align: middle;\n",
       "    }\n",
       "\n",
       "    .dataframe tbody tr th {\n",
       "        vertical-align: top;\n",
       "    }\n",
       "\n",
       "    .dataframe thead th {\n",
       "        text-align: right;\n",
       "    }\n",
       "</style>\n",
       "<table border=\"1\" class=\"dataframe\">\n",
       "  <thead>\n",
       "    <tr style=\"text-align: right;\">\n",
       "      <th></th>\n",
       "      <th>año_nacimiento</th>\n",
       "      <th>peso</th>\n",
       "      <th>altura</th>\n",
       "    </tr>\n",
       "  </thead>\n",
       "  <tbody>\n",
       "    <tr>\n",
       "      <th>mateo</th>\n",
       "      <td>1992.0</td>\n",
       "      <td>68.0</td>\n",
       "      <td>NaN</td>\n",
       "    </tr>\n",
       "    <tr>\n",
       "      <th>marcos</th>\n",
       "      <td>1985.0</td>\n",
       "      <td>83.0</td>\n",
       "      <td>NaN</td>\n",
       "    </tr>\n",
       "    <tr>\n",
       "      <th>juan</th>\n",
       "      <td>NaN</td>\n",
       "      <td>NaN</td>\n",
       "      <td>NaN</td>\n",
       "    </tr>\n",
       "  </tbody>\n",
       "</table>\n",
       "</div>"
      ],
      "text/plain": [
       "        año_nacimiento  peso altura\n",
       "mateo           1992.0  68.0    NaN\n",
       "marcos          1985.0  83.0    NaN\n",
       "juan               NaN   NaN    NaN"
      ]
     },
     "execution_count": 10,
     "metadata": {},
     "output_type": "execute_result"
    }
   ],
   "source": [
    "d2 = pd.DataFrame(\n",
    "        personas_dict,\n",
    "        columns=[\"año_nacimiento\", \"peso\", \"altura\"],\n",
    "        index=[\"mateo\", \"marcos\", \"juan\"]\n",
    "     )\n",
    "d2"
   ]
  },
  {
   "cell_type": "markdown",
   "id": "2131915b",
   "metadata": {
    "slideshow": {
     "slide_type": "slide"
    }
   },
   "source": [
    "Otra forma conveniente de crear un `DataFrame` es pasar todos los valores al constructor como un `ndarray`, o una lista de listas, y especificar los nombres de columna y las etiquetas de índice de fila por separado:"
   ]
  },
  {
   "cell_type": "code",
   "execution_count": 11,
   "id": "18c8e06f",
   "metadata": {
    "slideshow": {
     "slide_type": "slide"
    }
   },
   "outputs": [],
   "source": [
    "import pandas as pd \n",
    "import numpy as np "
   ]
  },
  {
   "cell_type": "code",
   "execution_count": 12,
   "id": "8a76d0b5",
   "metadata": {
    "slideshow": {
     "slide_type": "slide"
    }
   },
   "outputs": [
    {
     "data": {
      "text/html": [
       "<div>\n",
       "<style scoped>\n",
       "    .dataframe tbody tr th:only-of-type {\n",
       "        vertical-align: middle;\n",
       "    }\n",
       "\n",
       "    .dataframe tbody tr th {\n",
       "        vertical-align: top;\n",
       "    }\n",
       "\n",
       "    .dataframe thead th {\n",
       "        text-align: right;\n",
       "    }\n",
       "</style>\n",
       "<table border=\"1\" class=\"dataframe\">\n",
       "  <thead>\n",
       "    <tr style=\"text-align: right;\">\n",
       "      <th></th>\n",
       "      <th>año_nacimiento</th>\n",
       "      <th>hijos</th>\n",
       "      <th>hobby</th>\n",
       "      <th>peso</th>\n",
       "    </tr>\n",
       "  </thead>\n",
       "  <tbody>\n",
       "    <tr>\n",
       "      <th>mateo</th>\n",
       "      <td>1985</td>\n",
       "      <td>nan</td>\n",
       "      <td>ciclismo</td>\n",
       "      <td>68</td>\n",
       "    </tr>\n",
       "    <tr>\n",
       "      <th>marcos</th>\n",
       "      <td>1984</td>\n",
       "      <td>3</td>\n",
       "      <td>baile</td>\n",
       "      <td>83</td>\n",
       "    </tr>\n",
       "    <tr>\n",
       "      <th>lucas</th>\n",
       "      <td>1992</td>\n",
       "      <td>0</td>\n",
       "      <td>nan</td>\n",
       "      <td>112</td>\n",
       "    </tr>\n",
       "  </tbody>\n",
       "</table>\n",
       "</div>"
      ],
      "text/plain": [
       "       año_nacimiento hijos     hobby peso\n",
       "mateo            1985   nan  ciclismo   68\n",
       "marcos           1984     3     baile   83\n",
       "lucas            1992     0       nan  112"
      ]
     },
     "execution_count": 12,
     "metadata": {},
     "output_type": "execute_result"
    }
   ],
   "source": [
    "values = np.array([\n",
    "            [1985, np.nan, \"ciclismo\",   68],\n",
    "            [1984, 3,      \"baile\",  83],\n",
    "            [1992, 0,      np.nan,    112]\n",
    "         ]) \n",
    "d3 = pd.DataFrame(\n",
    "        values,\n",
    "        columns=[\"año_nacimiento\", \"hijos\", \"hobby\", \"peso\"],\n",
    "        index=[\"mateo\", \"marcos\", \"lucas\"]\n",
    "     )\n",
    "d3"
   ]
  },
  {
   "cell_type": "markdown",
   "id": "195a48f3",
   "metadata": {
    "slideshow": {
     "slide_type": "slide"
    }
   },
   "source": [
    "Observe que para especificar los valores que faltan, se puede usar `np.nan`."
   ]
  },
  {
   "cell_type": "markdown",
   "id": "627eae68",
   "metadata": {
    "slideshow": {
     "slide_type": "slide"
    }
   },
   "source": [
    "En lugar de un `ndarray`, también puedes pasar un objeto `DataFrame`:"
   ]
  },
  {
   "cell_type": "code",
   "execution_count": 13,
   "id": "80b44030",
   "metadata": {
    "scrolled": true,
    "slideshow": {
     "slide_type": "slide"
    }
   },
   "outputs": [
    {
     "data": {
      "text/html": [
       "<div>\n",
       "<style scoped>\n",
       "    .dataframe tbody tr th:only-of-type {\n",
       "        vertical-align: middle;\n",
       "    }\n",
       "\n",
       "    .dataframe tbody tr th {\n",
       "        vertical-align: top;\n",
       "    }\n",
       "\n",
       "    .dataframe thead th {\n",
       "        text-align: right;\n",
       "    }\n",
       "</style>\n",
       "<table border=\"1\" class=\"dataframe\">\n",
       "  <thead>\n",
       "    <tr style=\"text-align: right;\">\n",
       "      <th></th>\n",
       "      <th>hobby</th>\n",
       "      <th>hijos</th>\n",
       "    </tr>\n",
       "  </thead>\n",
       "  <tbody>\n",
       "    <tr>\n",
       "      <th>mateo</th>\n",
       "      <td>ciclismo</td>\n",
       "      <td>nan</td>\n",
       "    </tr>\n",
       "    <tr>\n",
       "      <th>marcos</th>\n",
       "      <td>baile</td>\n",
       "      <td>3</td>\n",
       "    </tr>\n",
       "  </tbody>\n",
       "</table>\n",
       "</div>"
      ],
      "text/plain": [
       "           hobby hijos\n",
       "mateo   ciclismo   nan\n",
       "marcos     baile     3"
      ]
     },
     "execution_count": 13,
     "metadata": {},
     "output_type": "execute_result"
    }
   ],
   "source": [
    "d4 = pd.DataFrame(\n",
    "         d3,\n",
    "         columns=[\"hobby\", \"hijos\"],\n",
    "         index=[\"mateo\", \"marcos\"]\n",
    "     )\n",
    "d4"
   ]
  },
  {
   "cell_type": "markdown",
   "id": "890629fb",
   "metadata": {
    "slideshow": {
     "slide_type": "slide"
    }
   },
   "source": [
    "También es posible crear un `DataFrame` con un diccionario (o lista) de diccionarios (o lista):"
   ]
  },
  {
   "cell_type": "code",
   "execution_count": 16,
   "id": "bf373e11",
   "metadata": {
    "slideshow": {
     "slide_type": "slide"
    }
   },
   "outputs": [
    {
     "data": {
      "text/html": [
       "<div>\n",
       "<style scoped>\n",
       "    .dataframe tbody tr th:only-of-type {\n",
       "        vertical-align: middle;\n",
       "    }\n",
       "\n",
       "    .dataframe tbody tr th {\n",
       "        vertical-align: top;\n",
       "    }\n",
       "\n",
       "    .dataframe thead th {\n",
       "        text-align: right;\n",
       "    }\n",
       "</style>\n",
       "<table border=\"1\" class=\"dataframe\">\n",
       "  <thead>\n",
       "    <tr style=\"text-align: right;\">\n",
       "      <th></th>\n",
       "      <th>año_nacimiento</th>\n",
       "      <th>hobby</th>\n",
       "      <th>peso</th>\n",
       "      <th>hijos</th>\n",
       "    </tr>\n",
       "  </thead>\n",
       "  <tbody>\n",
       "    <tr>\n",
       "      <th>mateo</th>\n",
       "      <td>1985</td>\n",
       "      <td>ciclismo</td>\n",
       "      <td>68</td>\n",
       "      <td>3.0</td>\n",
       "    </tr>\n",
       "    <tr>\n",
       "      <th>marcos</th>\n",
       "      <td>1984</td>\n",
       "      <td>baile</td>\n",
       "      <td>83</td>\n",
       "      <td>1.0</td>\n",
       "    </tr>\n",
       "    <tr>\n",
       "      <th>lucas</th>\n",
       "      <td>1992</td>\n",
       "      <td>NaN</td>\n",
       "      <td>112</td>\n",
       "      <td>NaN</td>\n",
       "    </tr>\n",
       "  </tbody>\n",
       "</table>\n",
       "</div>"
      ],
      "text/plain": [
       "        año_nacimiento     hobby  peso  hijos\n",
       "mateo             1985  ciclismo    68    3.0\n",
       "marcos            1984     baile    83    1.0\n",
       "lucas             1992       NaN   112    NaN"
      ]
     },
     "execution_count": 16,
     "metadata": {},
     "output_type": "execute_result"
    }
   ],
   "source": [
    "personas = pd.DataFrame({\n",
    "    \"año_nacimiento\": {\"mateo\":1985, \"marcos\": 1984, \"lucas\": 1992},\n",
    "    \"hobby\": {\"mateo\":\"ciclismo\", \"marcos\": \"baile\"},\n",
    "    \"peso\": {\"mateo\":68, \"marcos\": 83, \"lucas\": 112},\n",
    "    \"hijos\": {\"mateo\": 3, \"marcos\": 1}\n",
    "})\n",
    "personas"
   ]
  },
  {
   "cell_type": "markdown",
   "id": "bf670f76",
   "metadata": {
    "slideshow": {
     "slide_type": "slide"
    }
   },
   "source": [
    "## Acceso a filas"
   ]
  },
  {
   "cell_type": "markdown",
   "id": "538a2513",
   "metadata": {
    "slideshow": {
     "slide_type": "slide"
    }
   },
   "source": [
    "Volvamos al `DataFrame` `personas`:"
   ]
  },
  {
   "cell_type": "code",
   "execution_count": 18,
   "id": "19aa5c3f",
   "metadata": {
    "slideshow": {
     "slide_type": "slide"
    }
   },
   "outputs": [
    {
     "data": {
      "text/html": [
       "<div>\n",
       "<style scoped>\n",
       "    .dataframe tbody tr th:only-of-type {\n",
       "        vertical-align: middle;\n",
       "    }\n",
       "\n",
       "    .dataframe tbody tr th {\n",
       "        vertical-align: top;\n",
       "    }\n",
       "\n",
       "    .dataframe thead th {\n",
       "        text-align: right;\n",
       "    }\n",
       "</style>\n",
       "<table border=\"1\" class=\"dataframe\">\n",
       "  <thead>\n",
       "    <tr style=\"text-align: right;\">\n",
       "      <th></th>\n",
       "      <th>año_nacimiento</th>\n",
       "      <th>hobby</th>\n",
       "      <th>peso</th>\n",
       "      <th>hijos</th>\n",
       "    </tr>\n",
       "  </thead>\n",
       "  <tbody>\n",
       "    <tr>\n",
       "      <th>mateo</th>\n",
       "      <td>1985</td>\n",
       "      <td>ciclismo</td>\n",
       "      <td>68</td>\n",
       "      <td>3.0</td>\n",
       "    </tr>\n",
       "    <tr>\n",
       "      <th>marcos</th>\n",
       "      <td>1984</td>\n",
       "      <td>baile</td>\n",
       "      <td>83</td>\n",
       "      <td>1.0</td>\n",
       "    </tr>\n",
       "    <tr>\n",
       "      <th>lucas</th>\n",
       "      <td>1992</td>\n",
       "      <td>NaN</td>\n",
       "      <td>112</td>\n",
       "      <td>NaN</td>\n",
       "    </tr>\n",
       "  </tbody>\n",
       "</table>\n",
       "</div>"
      ],
      "text/plain": [
       "        año_nacimiento     hobby  peso  hijos\n",
       "mateo             1985  ciclismo    68    3.0\n",
       "marcos            1984     baile    83    1.0\n",
       "lucas             1992       NaN   112    NaN"
      ]
     },
     "execution_count": 18,
     "metadata": {},
     "output_type": "execute_result"
    }
   ],
   "source": [
    "personas "
   ]
  },
  {
   "cell_type": "markdown",
   "id": "27fd4073",
   "metadata": {
    "slideshow": {
     "slide_type": "slide"
    }
   },
   "source": [
    "El atributo `loc` le permite acceder a las filas en lugar de a las columnas. "
   ]
  },
  {
   "cell_type": "markdown",
   "id": "5690fcd1",
   "metadata": {
    "slideshow": {
     "slide_type": "slide"
    }
   },
   "source": [
    "El resultado es un objeto `Serie` en el que los nombres de columna de `DataFrame` se asignan a etiquetas de índice de fila:"
   ]
  },
  {
   "cell_type": "code",
   "execution_count": 19,
   "id": "4574d75f",
   "metadata": {
    "slideshow": {
     "slide_type": "slide"
    }
   },
   "outputs": [
    {
     "data": {
      "text/plain": [
       "año_nacimiento        1985\n",
       "hobby             ciclismo\n",
       "peso                    68\n",
       "hijos                  3.0\n",
       "Name: mateo, dtype: object"
      ]
     },
     "execution_count": 19,
     "metadata": {},
     "output_type": "execute_result"
    }
   ],
   "source": [
    "personas.loc[\"mateo\"]"
   ]
  },
  {
   "cell_type": "code",
   "execution_count": 21,
   "id": "e5eed10a",
   "metadata": {
    "slideshow": {
     "slide_type": "slide"
    }
   },
   "outputs": [
    {
     "data": {
      "text/html": [
       "<div>\n",
       "<style scoped>\n",
       "    .dataframe tbody tr th:only-of-type {\n",
       "        vertical-align: middle;\n",
       "    }\n",
       "\n",
       "    .dataframe tbody tr th {\n",
       "        vertical-align: top;\n",
       "    }\n",
       "\n",
       "    .dataframe thead th {\n",
       "        text-align: right;\n",
       "    }\n",
       "</style>\n",
       "<table border=\"1\" class=\"dataframe\">\n",
       "  <thead>\n",
       "    <tr style=\"text-align: right;\">\n",
       "      <th></th>\n",
       "      <th>año_nacimiento</th>\n",
       "      <th>hobby</th>\n",
       "      <th>peso</th>\n",
       "      <th>hijos</th>\n",
       "    </tr>\n",
       "  </thead>\n",
       "  <tbody>\n",
       "    <tr>\n",
       "      <th>mateo</th>\n",
       "      <td>1985</td>\n",
       "      <td>ciclismo</td>\n",
       "      <td>68</td>\n",
       "      <td>3.0</td>\n",
       "    </tr>\n",
       "  </tbody>\n",
       "</table>\n",
       "</div>"
      ],
      "text/plain": [
       "       año_nacimiento     hobby  peso  hijos\n",
       "mateo            1985  ciclismo    68    3.0"
      ]
     },
     "execution_count": 21,
     "metadata": {},
     "output_type": "execute_result"
    }
   ],
   "source": [
    "personas.loc[[\"mateo\"]] "
   ]
  },
  {
   "cell_type": "code",
   "execution_count": 23,
   "id": "cd6fb331",
   "metadata": {
    "slideshow": {
     "slide_type": "slide"
    }
   },
   "outputs": [
    {
     "data": {
      "text/html": [
       "<div>\n",
       "<style scoped>\n",
       "    .dataframe tbody tr th:only-of-type {\n",
       "        vertical-align: middle;\n",
       "    }\n",
       "\n",
       "    .dataframe tbody tr th {\n",
       "        vertical-align: top;\n",
       "    }\n",
       "\n",
       "    .dataframe thead th {\n",
       "        text-align: right;\n",
       "    }\n",
       "</style>\n",
       "<table border=\"1\" class=\"dataframe\">\n",
       "  <thead>\n",
       "    <tr style=\"text-align: right;\">\n",
       "      <th></th>\n",
       "      <th>año_nacimiento</th>\n",
       "      <th>hobby</th>\n",
       "      <th>peso</th>\n",
       "      <th>hijos</th>\n",
       "    </tr>\n",
       "  </thead>\n",
       "  <tbody>\n",
       "    <tr>\n",
       "      <th>mateo</th>\n",
       "      <td>1985</td>\n",
       "      <td>ciclismo</td>\n",
       "      <td>68</td>\n",
       "      <td>3.0</td>\n",
       "    </tr>\n",
       "    <tr>\n",
       "      <th>marcos</th>\n",
       "      <td>1984</td>\n",
       "      <td>baile</td>\n",
       "      <td>83</td>\n",
       "      <td>1.0</td>\n",
       "    </tr>\n",
       "  </tbody>\n",
       "</table>\n",
       "</div>"
      ],
      "text/plain": [
       "        año_nacimiento     hobby  peso  hijos\n",
       "mateo             1985  ciclismo    68    3.0\n",
       "marcos            1984     baile    83    1.0"
      ]
     },
     "execution_count": 23,
     "metadata": {},
     "output_type": "execute_result"
    }
   ],
   "source": [
    "personas.loc[['mateo', 'marcos']]"
   ]
  },
  {
   "cell_type": "markdown",
   "id": "e8297022",
   "metadata": {
    "slideshow": {
     "slide_type": "slide"
    }
   },
   "source": [
    "También puede acceder a las filas por ubicación de enteros utilizando el atributo `iloc`:"
   ]
  },
  {
   "cell_type": "code",
   "execution_count": 24,
   "id": "8aa1ee2f",
   "metadata": {
    "slideshow": {
     "slide_type": "slide"
    }
   },
   "outputs": [
    {
     "data": {
      "text/plain": [
       "año_nacimiento    1992\n",
       "hobby              NaN\n",
       "peso               112\n",
       "hijos              NaN\n",
       "Name: lucas, dtype: object"
      ]
     },
     "execution_count": 24,
     "metadata": {},
     "output_type": "execute_result"
    }
   ],
   "source": [
    "personas.iloc[2]"
   ]
  },
  {
   "cell_type": "markdown",
   "id": "1d502b92",
   "metadata": {
    "slideshow": {
     "slide_type": "slide"
    }
   },
   "source": [
    "También puede obtener una porción de filas, y esto devuelve un objeto `DataFrame`:"
   ]
  },
  {
   "cell_type": "code",
   "execution_count": 25,
   "id": "374843f3",
   "metadata": {
    "slideshow": {
     "slide_type": "slide"
    }
   },
   "outputs": [
    {
     "data": {
      "text/html": [
       "<div>\n",
       "<style scoped>\n",
       "    .dataframe tbody tr th:only-of-type {\n",
       "        vertical-align: middle;\n",
       "    }\n",
       "\n",
       "    .dataframe tbody tr th {\n",
       "        vertical-align: top;\n",
       "    }\n",
       "\n",
       "    .dataframe thead th {\n",
       "        text-align: right;\n",
       "    }\n",
       "</style>\n",
       "<table border=\"1\" class=\"dataframe\">\n",
       "  <thead>\n",
       "    <tr style=\"text-align: right;\">\n",
       "      <th></th>\n",
       "      <th>año_nacimiento</th>\n",
       "      <th>hobby</th>\n",
       "      <th>peso</th>\n",
       "      <th>hijos</th>\n",
       "    </tr>\n",
       "  </thead>\n",
       "  <tbody>\n",
       "    <tr>\n",
       "      <th>marcos</th>\n",
       "      <td>1984</td>\n",
       "      <td>baile</td>\n",
       "      <td>83</td>\n",
       "      <td>1.0</td>\n",
       "    </tr>\n",
       "    <tr>\n",
       "      <th>lucas</th>\n",
       "      <td>1992</td>\n",
       "      <td>NaN</td>\n",
       "      <td>112</td>\n",
       "      <td>NaN</td>\n",
       "    </tr>\n",
       "  </tbody>\n",
       "</table>\n",
       "</div>"
      ],
      "text/plain": [
       "        año_nacimiento  hobby  peso  hijos\n",
       "marcos            1984  baile    83    1.0\n",
       "lucas             1992    NaN   112    NaN"
      ]
     },
     "execution_count": 25,
     "metadata": {},
     "output_type": "execute_result"
    }
   ],
   "source": [
    "personas.iloc[1:3]"
   ]
  },
  {
   "cell_type": "code",
   "execution_count": null,
   "id": "5d98c843",
   "metadata": {
    "slideshow": {
     "slide_type": "slide"
    }
   },
   "outputs": [],
   "source": [
    "Finalmente, puede pasar una matriz booleana para obtener las filas coincidentes:"
   ]
  },
  {
   "cell_type": "code",
   "execution_count": 26,
   "id": "0481de15",
   "metadata": {
    "slideshow": {
     "slide_type": "slide"
    }
   },
   "outputs": [
    {
     "data": {
      "text/html": [
       "<div>\n",
       "<style scoped>\n",
       "    .dataframe tbody tr th:only-of-type {\n",
       "        vertical-align: middle;\n",
       "    }\n",
       "\n",
       "    .dataframe tbody tr th {\n",
       "        vertical-align: top;\n",
       "    }\n",
       "\n",
       "    .dataframe thead th {\n",
       "        text-align: right;\n",
       "    }\n",
       "</style>\n",
       "<table border=\"1\" class=\"dataframe\">\n",
       "  <thead>\n",
       "    <tr style=\"text-align: right;\">\n",
       "      <th></th>\n",
       "      <th>año_nacimiento</th>\n",
       "      <th>hobby</th>\n",
       "      <th>peso</th>\n",
       "      <th>hijos</th>\n",
       "    </tr>\n",
       "  </thead>\n",
       "  <tbody>\n",
       "    <tr>\n",
       "      <th>mateo</th>\n",
       "      <td>1985</td>\n",
       "      <td>ciclismo</td>\n",
       "      <td>68</td>\n",
       "      <td>3.0</td>\n",
       "    </tr>\n",
       "  </tbody>\n",
       "</table>\n",
       "</div>"
      ],
      "text/plain": [
       "       año_nacimiento     hobby  peso  hijos\n",
       "mateo            1985  ciclismo    68    3.0"
      ]
     },
     "execution_count": 26,
     "metadata": {},
     "output_type": "execute_result"
    }
   ],
   "source": [
    "personas.iloc[np.array([True, False, False])]"
   ]
  },
  {
   "cell_type": "markdown",
   "id": "b8eb7eef",
   "metadata": {
    "slideshow": {
     "slide_type": "slide"
    }
   },
   "source": [
    "Esto es más útil cuando se combina con expresiones booleanas:"
   ]
  },
  {
   "cell_type": "code",
   "execution_count": 27,
   "id": "6c48ea66",
   "metadata": {
    "slideshow": {
     "slide_type": "slide"
    }
   },
   "outputs": [
    {
     "data": {
      "text/html": [
       "<div>\n",
       "<style scoped>\n",
       "    .dataframe tbody tr th:only-of-type {\n",
       "        vertical-align: middle;\n",
       "    }\n",
       "\n",
       "    .dataframe tbody tr th {\n",
       "        vertical-align: top;\n",
       "    }\n",
       "\n",
       "    .dataframe thead th {\n",
       "        text-align: right;\n",
       "    }\n",
       "</style>\n",
       "<table border=\"1\" class=\"dataframe\">\n",
       "  <thead>\n",
       "    <tr style=\"text-align: right;\">\n",
       "      <th></th>\n",
       "      <th>año_nacimiento</th>\n",
       "      <th>hobby</th>\n",
       "      <th>peso</th>\n",
       "      <th>hijos</th>\n",
       "    </tr>\n",
       "  </thead>\n",
       "  <tbody>\n",
       "    <tr>\n",
       "      <th>mateo</th>\n",
       "      <td>1985</td>\n",
       "      <td>ciclismo</td>\n",
       "      <td>68</td>\n",
       "      <td>3.0</td>\n",
       "    </tr>\n",
       "    <tr>\n",
       "      <th>marcos</th>\n",
       "      <td>1984</td>\n",
       "      <td>baile</td>\n",
       "      <td>83</td>\n",
       "      <td>1.0</td>\n",
       "    </tr>\n",
       "  </tbody>\n",
       "</table>\n",
       "</div>"
      ],
      "text/plain": [
       "        año_nacimiento     hobby  peso  hijos\n",
       "mateo             1985  ciclismo    68    3.0\n",
       "marcos            1984     baile    83    1.0"
      ]
     },
     "execution_count": 27,
     "metadata": {},
     "output_type": "execute_result"
    }
   ],
   "source": [
    "personas[personas['año_nacimiento'] < 1990]"
   ]
  },
  {
   "cell_type": "markdown",
   "id": "89441d6f",
   "metadata": {
    "slideshow": {
     "slide_type": "slide"
    }
   },
   "source": [
    "## Adición y eliminación de columnas"
   ]
  },
  {
   "cell_type": "code",
   "execution_count": 28,
   "id": "3286c99f",
   "metadata": {
    "slideshow": {
     "slide_type": "slide"
    }
   },
   "outputs": [
    {
     "data": {
      "text/html": [
       "<div>\n",
       "<style scoped>\n",
       "    .dataframe tbody tr th:only-of-type {\n",
       "        vertical-align: middle;\n",
       "    }\n",
       "\n",
       "    .dataframe tbody tr th {\n",
       "        vertical-align: top;\n",
       "    }\n",
       "\n",
       "    .dataframe thead th {\n",
       "        text-align: right;\n",
       "    }\n",
       "</style>\n",
       "<table border=\"1\" class=\"dataframe\">\n",
       "  <thead>\n",
       "    <tr style=\"text-align: right;\">\n",
       "      <th></th>\n",
       "      <th>año_nacimiento</th>\n",
       "      <th>hobby</th>\n",
       "      <th>peso</th>\n",
       "      <th>hijos</th>\n",
       "    </tr>\n",
       "  </thead>\n",
       "  <tbody>\n",
       "    <tr>\n",
       "      <th>mateo</th>\n",
       "      <td>1985</td>\n",
       "      <td>ciclismo</td>\n",
       "      <td>68</td>\n",
       "      <td>3.0</td>\n",
       "    </tr>\n",
       "    <tr>\n",
       "      <th>marcos</th>\n",
       "      <td>1984</td>\n",
       "      <td>baile</td>\n",
       "      <td>83</td>\n",
       "      <td>1.0</td>\n",
       "    </tr>\n",
       "    <tr>\n",
       "      <th>lucas</th>\n",
       "      <td>1992</td>\n",
       "      <td>NaN</td>\n",
       "      <td>112</td>\n",
       "      <td>NaN</td>\n",
       "    </tr>\n",
       "  </tbody>\n",
       "</table>\n",
       "</div>"
      ],
      "text/plain": [
       "        año_nacimiento     hobby  peso  hijos\n",
       "mateo             1985  ciclismo    68    3.0\n",
       "marcos            1984     baile    83    1.0\n",
       "lucas             1992       NaN   112    NaN"
      ]
     },
     "execution_count": 28,
     "metadata": {},
     "output_type": "execute_result"
    }
   ],
   "source": [
    "personas "
   ]
  },
  {
   "cell_type": "code",
   "execution_count": 29,
   "id": "ae586ec1",
   "metadata": {
    "slideshow": {
     "slide_type": "slide"
    }
   },
   "outputs": [],
   "source": [
    "personas['edad'] = 2022 - personas['año_nacimiento'] "
   ]
  },
  {
   "cell_type": "code",
   "execution_count": 30,
   "id": "4b5527e8",
   "metadata": {
    "slideshow": {
     "slide_type": "slide"
    }
   },
   "outputs": [
    {
     "data": {
      "text/html": [
       "<div>\n",
       "<style scoped>\n",
       "    .dataframe tbody tr th:only-of-type {\n",
       "        vertical-align: middle;\n",
       "    }\n",
       "\n",
       "    .dataframe tbody tr th {\n",
       "        vertical-align: top;\n",
       "    }\n",
       "\n",
       "    .dataframe thead th {\n",
       "        text-align: right;\n",
       "    }\n",
       "</style>\n",
       "<table border=\"1\" class=\"dataframe\">\n",
       "  <thead>\n",
       "    <tr style=\"text-align: right;\">\n",
       "      <th></th>\n",
       "      <th>año_nacimiento</th>\n",
       "      <th>hobby</th>\n",
       "      <th>peso</th>\n",
       "      <th>hijos</th>\n",
       "      <th>edad</th>\n",
       "    </tr>\n",
       "  </thead>\n",
       "  <tbody>\n",
       "    <tr>\n",
       "      <th>mateo</th>\n",
       "      <td>1985</td>\n",
       "      <td>ciclismo</td>\n",
       "      <td>68</td>\n",
       "      <td>3.0</td>\n",
       "      <td>37</td>\n",
       "    </tr>\n",
       "    <tr>\n",
       "      <th>marcos</th>\n",
       "      <td>1984</td>\n",
       "      <td>baile</td>\n",
       "      <td>83</td>\n",
       "      <td>1.0</td>\n",
       "      <td>38</td>\n",
       "    </tr>\n",
       "    <tr>\n",
       "      <th>lucas</th>\n",
       "      <td>1992</td>\n",
       "      <td>NaN</td>\n",
       "      <td>112</td>\n",
       "      <td>NaN</td>\n",
       "      <td>30</td>\n",
       "    </tr>\n",
       "  </tbody>\n",
       "</table>\n",
       "</div>"
      ],
      "text/plain": [
       "        año_nacimiento     hobby  peso  hijos  edad\n",
       "mateo             1985  ciclismo    68    3.0    37\n",
       "marcos            1984     baile    83    1.0    38\n",
       "lucas             1992       NaN   112    NaN    30"
      ]
     },
     "execution_count": 30,
     "metadata": {},
     "output_type": "execute_result"
    }
   ],
   "source": [
    "personas "
   ]
  },
  {
   "cell_type": "code",
   "execution_count": 31,
   "id": "746ed3d0",
   "metadata": {
    "slideshow": {
     "slide_type": "slide"
    }
   },
   "outputs": [],
   "source": [
    "personas['mas_30_años'] = personas['edad'] > 30"
   ]
  },
  {
   "cell_type": "code",
   "execution_count": 33,
   "id": "2bb312e3",
   "metadata": {
    "slideshow": {
     "slide_type": "slide"
    }
   },
   "outputs": [
    {
     "data": {
      "text/html": [
       "<div>\n",
       "<style scoped>\n",
       "    .dataframe tbody tr th:only-of-type {\n",
       "        vertical-align: middle;\n",
       "    }\n",
       "\n",
       "    .dataframe tbody tr th {\n",
       "        vertical-align: top;\n",
       "    }\n",
       "\n",
       "    .dataframe thead th {\n",
       "        text-align: right;\n",
       "    }\n",
       "</style>\n",
       "<table border=\"1\" class=\"dataframe\">\n",
       "  <thead>\n",
       "    <tr style=\"text-align: right;\">\n",
       "      <th></th>\n",
       "      <th>año_nacimiento</th>\n",
       "      <th>hobby</th>\n",
       "      <th>peso</th>\n",
       "      <th>hijos</th>\n",
       "      <th>edad</th>\n",
       "      <th>mas_30_años</th>\n",
       "    </tr>\n",
       "  </thead>\n",
       "  <tbody>\n",
       "    <tr>\n",
       "      <th>mateo</th>\n",
       "      <td>1985</td>\n",
       "      <td>ciclismo</td>\n",
       "      <td>68</td>\n",
       "      <td>3.0</td>\n",
       "      <td>37</td>\n",
       "      <td>True</td>\n",
       "    </tr>\n",
       "    <tr>\n",
       "      <th>marcos</th>\n",
       "      <td>1984</td>\n",
       "      <td>baile</td>\n",
       "      <td>83</td>\n",
       "      <td>1.0</td>\n",
       "      <td>38</td>\n",
       "      <td>True</td>\n",
       "    </tr>\n",
       "    <tr>\n",
       "      <th>lucas</th>\n",
       "      <td>1992</td>\n",
       "      <td>NaN</td>\n",
       "      <td>112</td>\n",
       "      <td>NaN</td>\n",
       "      <td>30</td>\n",
       "      <td>False</td>\n",
       "    </tr>\n",
       "  </tbody>\n",
       "</table>\n",
       "</div>"
      ],
      "text/plain": [
       "        año_nacimiento     hobby  peso  hijos  edad  mas_30_años\n",
       "mateo             1985  ciclismo    68    3.0    37         True\n",
       "marcos            1984     baile    83    1.0    38         True\n",
       "lucas             1992       NaN   112    NaN    30        False"
      ]
     },
     "execution_count": 33,
     "metadata": {},
     "output_type": "execute_result"
    }
   ],
   "source": [
    "personas "
   ]
  },
  {
   "cell_type": "code",
   "execution_count": 34,
   "id": "419042af",
   "metadata": {
    "slideshow": {
     "slide_type": "slide"
    }
   },
   "outputs": [],
   "source": [
    "año_nacimiento = personas.pop('año_nacimiento')  "
   ]
  },
  {
   "cell_type": "code",
   "execution_count": 35,
   "id": "1aa5bf27",
   "metadata": {
    "slideshow": {
     "slide_type": "slide"
    }
   },
   "outputs": [
    {
     "data": {
      "text/plain": [
       "mateo     1985\n",
       "marcos    1984\n",
       "lucas     1992\n",
       "Name: año_nacimiento, dtype: int64"
      ]
     },
     "execution_count": 35,
     "metadata": {},
     "output_type": "execute_result"
    }
   ],
   "source": [
    "año_nacimiento"
   ]
  },
  {
   "cell_type": "code",
   "execution_count": 36,
   "id": "93a24fd3",
   "metadata": {
    "slideshow": {
     "slide_type": "slide"
    }
   },
   "outputs": [
    {
     "data": {
      "text/html": [
       "<div>\n",
       "<style scoped>\n",
       "    .dataframe tbody tr th:only-of-type {\n",
       "        vertical-align: middle;\n",
       "    }\n",
       "\n",
       "    .dataframe tbody tr th {\n",
       "        vertical-align: top;\n",
       "    }\n",
       "\n",
       "    .dataframe thead th {\n",
       "        text-align: right;\n",
       "    }\n",
       "</style>\n",
       "<table border=\"1\" class=\"dataframe\">\n",
       "  <thead>\n",
       "    <tr style=\"text-align: right;\">\n",
       "      <th></th>\n",
       "      <th>hobby</th>\n",
       "      <th>peso</th>\n",
       "      <th>hijos</th>\n",
       "      <th>edad</th>\n",
       "      <th>mas_30_años</th>\n",
       "    </tr>\n",
       "  </thead>\n",
       "  <tbody>\n",
       "    <tr>\n",
       "      <th>mateo</th>\n",
       "      <td>ciclismo</td>\n",
       "      <td>68</td>\n",
       "      <td>3.0</td>\n",
       "      <td>37</td>\n",
       "      <td>True</td>\n",
       "    </tr>\n",
       "    <tr>\n",
       "      <th>marcos</th>\n",
       "      <td>baile</td>\n",
       "      <td>83</td>\n",
       "      <td>1.0</td>\n",
       "      <td>38</td>\n",
       "      <td>True</td>\n",
       "    </tr>\n",
       "    <tr>\n",
       "      <th>lucas</th>\n",
       "      <td>NaN</td>\n",
       "      <td>112</td>\n",
       "      <td>NaN</td>\n",
       "      <td>30</td>\n",
       "      <td>False</td>\n",
       "    </tr>\n",
       "  </tbody>\n",
       "</table>\n",
       "</div>"
      ],
      "text/plain": [
       "           hobby  peso  hijos  edad  mas_30_años\n",
       "mateo   ciclismo    68    3.0    37         True\n",
       "marcos     baile    83    1.0    38         True\n",
       "lucas        NaN   112    NaN    30        False"
      ]
     },
     "execution_count": 36,
     "metadata": {},
     "output_type": "execute_result"
    }
   ],
   "source": [
    "personas"
   ]
  },
  {
   "cell_type": "code",
   "execution_count": 37,
   "id": "57262e9c",
   "metadata": {
    "slideshow": {
     "slide_type": "slide"
    }
   },
   "outputs": [],
   "source": [
    "del personas['hijos']"
   ]
  },
  {
   "cell_type": "code",
   "execution_count": 39,
   "id": "cd1c3a2c",
   "metadata": {
    "slideshow": {
     "slide_type": "slide"
    }
   },
   "outputs": [
    {
     "data": {
      "text/html": [
       "<div>\n",
       "<style scoped>\n",
       "    .dataframe tbody tr th:only-of-type {\n",
       "        vertical-align: middle;\n",
       "    }\n",
       "\n",
       "    .dataframe tbody tr th {\n",
       "        vertical-align: top;\n",
       "    }\n",
       "\n",
       "    .dataframe thead th {\n",
       "        text-align: right;\n",
       "    }\n",
       "</style>\n",
       "<table border=\"1\" class=\"dataframe\">\n",
       "  <thead>\n",
       "    <tr style=\"text-align: right;\">\n",
       "      <th></th>\n",
       "      <th>hobby</th>\n",
       "      <th>peso</th>\n",
       "      <th>edad</th>\n",
       "      <th>mas_30_años</th>\n",
       "    </tr>\n",
       "  </thead>\n",
       "  <tbody>\n",
       "    <tr>\n",
       "      <th>mateo</th>\n",
       "      <td>ciclismo</td>\n",
       "      <td>68</td>\n",
       "      <td>37</td>\n",
       "      <td>True</td>\n",
       "    </tr>\n",
       "    <tr>\n",
       "      <th>marcos</th>\n",
       "      <td>baile</td>\n",
       "      <td>83</td>\n",
       "      <td>38</td>\n",
       "      <td>True</td>\n",
       "    </tr>\n",
       "    <tr>\n",
       "      <th>lucas</th>\n",
       "      <td>NaN</td>\n",
       "      <td>112</td>\n",
       "      <td>30</td>\n",
       "      <td>False</td>\n",
       "    </tr>\n",
       "  </tbody>\n",
       "</table>\n",
       "</div>"
      ],
      "text/plain": [
       "           hobby  peso  edad  mas_30_años\n",
       "mateo   ciclismo    68    37         True\n",
       "marcos     baile    83    38         True\n",
       "lucas        NaN   112    30        False"
      ]
     },
     "execution_count": 39,
     "metadata": {},
     "output_type": "execute_result"
    }
   ],
   "source": [
    "personas"
   ]
  },
  {
   "cell_type": "markdown",
   "id": "5a7c0ed9",
   "metadata": {
    "slideshow": {
     "slide_type": "slide"
    }
   },
   "source": [
    "Cuando agrega una nueva columna, debe tener el mismo número de filas. Las filas que faltan se rellenan con `NaN` y las filas adicionales se ignoran:"
   ]
  },
  {
   "cell_type": "code",
   "execution_count": 41,
   "id": "fb1568cd",
   "metadata": {
    "slideshow": {
     "slide_type": "slide"
    }
   },
   "outputs": [
    {
     "data": {
      "text/html": [
       "<div>\n",
       "<style scoped>\n",
       "    .dataframe tbody tr th:only-of-type {\n",
       "        vertical-align: middle;\n",
       "    }\n",
       "\n",
       "    .dataframe tbody tr th {\n",
       "        vertical-align: top;\n",
       "    }\n",
       "\n",
       "    .dataframe thead th {\n",
       "        text-align: right;\n",
       "    }\n",
       "</style>\n",
       "<table border=\"1\" class=\"dataframe\">\n",
       "  <thead>\n",
       "    <tr style=\"text-align: right;\">\n",
       "      <th></th>\n",
       "      <th>hobby</th>\n",
       "      <th>peso</th>\n",
       "      <th>edad</th>\n",
       "      <th>mas_30_años</th>\n",
       "      <th>mascotas</th>\n",
       "    </tr>\n",
       "  </thead>\n",
       "  <tbody>\n",
       "    <tr>\n",
       "      <th>mateo</th>\n",
       "      <td>ciclismo</td>\n",
       "      <td>68</td>\n",
       "      <td>37</td>\n",
       "      <td>True</td>\n",
       "      <td>0.0</td>\n",
       "    </tr>\n",
       "    <tr>\n",
       "      <th>marcos</th>\n",
       "      <td>baile</td>\n",
       "      <td>83</td>\n",
       "      <td>38</td>\n",
       "      <td>True</td>\n",
       "      <td>2.0</td>\n",
       "    </tr>\n",
       "    <tr>\n",
       "      <th>lucas</th>\n",
       "      <td>NaN</td>\n",
       "      <td>112</td>\n",
       "      <td>30</td>\n",
       "      <td>False</td>\n",
       "      <td>NaN</td>\n",
       "    </tr>\n",
       "  </tbody>\n",
       "</table>\n",
       "</div>"
      ],
      "text/plain": [
       "           hobby  peso  edad  mas_30_años  mascotas\n",
       "mateo   ciclismo    68    37         True       0.0\n",
       "marcos     baile    83    38         True       2.0\n",
       "lucas        NaN   112    30        False       NaN"
      ]
     },
     "execution_count": 41,
     "metadata": {},
     "output_type": "execute_result"
    }
   ],
   "source": [
    "personas[\"mascotas\"] = pd.Series({\"mateo\": 0, \"marcos\": 2, \"juan\":1})  # alice is missing, eugene is ignored\n",
    "personas "
   ]
  },
  {
   "cell_type": "markdown",
   "id": "be0e00bc",
   "metadata": {
    "slideshow": {
     "slide_type": "slide"
    }
   },
   "source": [
    "Al agregar una **nueva columna**, se agrega **al final** (a la derecha) de forma predeterminada. "
   ]
  },
  {
   "cell_type": "markdown",
   "id": "757fea24",
   "metadata": {
    "slideshow": {
     "slide_type": "slide"
    }
   },
   "source": [
    "También puedes insertar una columna en cualquier otro lugar usando el método `insert()`:"
   ]
  },
  {
   "cell_type": "code",
   "execution_count": 42,
   "id": "9d36ec48",
   "metadata": {
    "slideshow": {
     "slide_type": "slide"
    }
   },
   "outputs": [
    {
     "data": {
      "text/html": [
       "<div>\n",
       "<style scoped>\n",
       "    .dataframe tbody tr th:only-of-type {\n",
       "        vertical-align: middle;\n",
       "    }\n",
       "\n",
       "    .dataframe tbody tr th {\n",
       "        vertical-align: top;\n",
       "    }\n",
       "\n",
       "    .dataframe thead th {\n",
       "        text-align: right;\n",
       "    }\n",
       "</style>\n",
       "<table border=\"1\" class=\"dataframe\">\n",
       "  <thead>\n",
       "    <tr style=\"text-align: right;\">\n",
       "      <th></th>\n",
       "      <th>estatura</th>\n",
       "      <th>hobby</th>\n",
       "      <th>peso</th>\n",
       "      <th>edad</th>\n",
       "      <th>mas_30_años</th>\n",
       "      <th>mascotas</th>\n",
       "    </tr>\n",
       "  </thead>\n",
       "  <tbody>\n",
       "    <tr>\n",
       "      <th>mateo</th>\n",
       "      <td>165</td>\n",
       "      <td>ciclismo</td>\n",
       "      <td>68</td>\n",
       "      <td>37</td>\n",
       "      <td>True</td>\n",
       "      <td>0.0</td>\n",
       "    </tr>\n",
       "    <tr>\n",
       "      <th>marcos</th>\n",
       "      <td>152</td>\n",
       "      <td>baile</td>\n",
       "      <td>83</td>\n",
       "      <td>38</td>\n",
       "      <td>True</td>\n",
       "      <td>2.0</td>\n",
       "    </tr>\n",
       "    <tr>\n",
       "      <th>lucas</th>\n",
       "      <td>170</td>\n",
       "      <td>NaN</td>\n",
       "      <td>112</td>\n",
       "      <td>30</td>\n",
       "      <td>False</td>\n",
       "      <td>NaN</td>\n",
       "    </tr>\n",
       "  </tbody>\n",
       "</table>\n",
       "</div>"
      ],
      "text/plain": [
       "        estatura     hobby  peso  edad  mas_30_años  mascotas\n",
       "mateo        165  ciclismo    68    37         True       0.0\n",
       "marcos       152     baile    83    38         True       2.0\n",
       "lucas        170       NaN   112    30        False       NaN"
      ]
     },
     "execution_count": 42,
     "metadata": {},
     "output_type": "execute_result"
    }
   ],
   "source": [
    "personas.insert(0, 'estatura', [165, 152, 170])\n",
    "personas  "
   ]
  },
  {
   "cell_type": "markdown",
   "id": "811d788f",
   "metadata": {
    "slideshow": {
     "slide_type": "slide"
    }
   },
   "source": [
    "## Asignación de nuevas columnas"
   ]
  },
  {
   "cell_type": "markdown",
   "id": "c2c639e3",
   "metadata": {
    "slideshow": {
     "slide_type": "slide"
    }
   },
   "source": [
    "También puede crear nuevas columnas llamando al método `assign()`. "
   ]
  },
  {
   "cell_type": "markdown",
   "id": "7d846c56",
   "metadata": {
    "slideshow": {
     "slide_type": "slide"
    }
   },
   "source": [
    "Tenga en cuenta que esto devuelve un nuevo objeto `DataFrame`, el original no se modifica:"
   ]
  },
  {
   "cell_type": "code",
   "execution_count": 43,
   "id": "105f2869",
   "metadata": {
    "slideshow": {
     "slide_type": "slide"
    }
   },
   "outputs": [
    {
     "data": {
      "text/html": [
       "<div>\n",
       "<style scoped>\n",
       "    .dataframe tbody tr th:only-of-type {\n",
       "        vertical-align: middle;\n",
       "    }\n",
       "\n",
       "    .dataframe tbody tr th {\n",
       "        vertical-align: top;\n",
       "    }\n",
       "\n",
       "    .dataframe thead th {\n",
       "        text-align: right;\n",
       "    }\n",
       "</style>\n",
       "<table border=\"1\" class=\"dataframe\">\n",
       "  <thead>\n",
       "    <tr style=\"text-align: right;\">\n",
       "      <th></th>\n",
       "      <th>estatura</th>\n",
       "      <th>hobby</th>\n",
       "      <th>peso</th>\n",
       "      <th>edad</th>\n",
       "      <th>mas_30_años</th>\n",
       "      <th>mascotas</th>\n",
       "      <th>indice_masa_corporal</th>\n",
       "      <th>tiene_mascota</th>\n",
       "    </tr>\n",
       "  </thead>\n",
       "  <tbody>\n",
       "    <tr>\n",
       "      <th>mateo</th>\n",
       "      <td>165</td>\n",
       "      <td>ciclismo</td>\n",
       "      <td>68</td>\n",
       "      <td>37</td>\n",
       "      <td>True</td>\n",
       "      <td>0.0</td>\n",
       "      <td>24.977043</td>\n",
       "      <td>False</td>\n",
       "    </tr>\n",
       "    <tr>\n",
       "      <th>marcos</th>\n",
       "      <td>152</td>\n",
       "      <td>baile</td>\n",
       "      <td>83</td>\n",
       "      <td>38</td>\n",
       "      <td>True</td>\n",
       "      <td>2.0</td>\n",
       "      <td>35.924515</td>\n",
       "      <td>True</td>\n",
       "    </tr>\n",
       "    <tr>\n",
       "      <th>lucas</th>\n",
       "      <td>170</td>\n",
       "      <td>NaN</td>\n",
       "      <td>112</td>\n",
       "      <td>30</td>\n",
       "      <td>False</td>\n",
       "      <td>NaN</td>\n",
       "      <td>38.754325</td>\n",
       "      <td>False</td>\n",
       "    </tr>\n",
       "  </tbody>\n",
       "</table>\n",
       "</div>"
      ],
      "text/plain": [
       "        estatura     hobby  peso  edad  mas_30_años  mascotas  \\\n",
       "mateo        165  ciclismo    68    37         True       0.0   \n",
       "marcos       152     baile    83    38         True       2.0   \n",
       "lucas        170       NaN   112    30        False       NaN   \n",
       "\n",
       "        indice_masa_corporal  tiene_mascota  \n",
       "mateo              24.977043          False  \n",
       "marcos             35.924515           True  \n",
       "lucas              38.754325          False  "
      ]
     },
     "execution_count": 43,
     "metadata": {},
     "output_type": "execute_result"
    }
   ],
   "source": [
    "personas.assign(indice_masa_corporal = personas['peso']/(personas['estatura']/100)**2,\n",
    "             tiene_mascota = personas['mascotas'] > 0) "
   ]
  },
  {
   "cell_type": "markdown",
   "id": "1e4b7ed6",
   "metadata": {
    "slideshow": {
     "slide_type": "slide"
    }
   },
   "source": [
    "Tenga en cuenta que no puede acceder a las columnas creadas dentro de la misma tarea:"
   ]
  },
  {
   "cell_type": "code",
   "execution_count": 44,
   "id": "0d78ddec",
   "metadata": {
    "slideshow": {
     "slide_type": "slide"
    }
   },
   "outputs": [
    {
     "name": "stdout",
     "output_type": "stream",
     "text": [
      "Key error: 'indice_masa_corporal'\n"
     ]
    }
   ],
   "source": [
    "try:\n",
    "    people.assign(\n",
    "        indice_masa_corporal = personas[\"peso\"] / (personas[\"estatura\"] / 100) ** 2,\n",
    "        sobre_peso = personas[\"indice_masa_corporal\"] > 25\n",
    "    )\n",
    "except KeyError as e:\n",
    "    print(\"Key error:\", e)"
   ]
  },
  {
   "cell_type": "markdown",
   "id": "22092a96",
   "metadata": {
    "slideshow": {
     "slide_type": "slide"
    }
   },
   "source": [
    "La solución es dividir esta asignación en dos asignaciones consecutivas:"
   ]
  },
  {
   "cell_type": "code",
   "execution_count": 45,
   "id": "6545c6a7",
   "metadata": {
    "slideshow": {
     "slide_type": "slide"
    }
   },
   "outputs": [],
   "source": [
    "d6 = people.assign(indice_masa_corporal = personas[\"peso\"] / (personas[\"estatura\"] / 100) ** 2)"
   ]
  },
  {
   "cell_type": "code",
   "execution_count": 46,
   "id": "85a2e490",
   "metadata": {
    "slideshow": {
     "slide_type": "slide"
    }
   },
   "outputs": [
    {
     "data": {
      "text/html": [
       "<div>\n",
       "<style scoped>\n",
       "    .dataframe tbody tr th:only-of-type {\n",
       "        vertical-align: middle;\n",
       "    }\n",
       "\n",
       "    .dataframe tbody tr th {\n",
       "        vertical-align: top;\n",
       "    }\n",
       "\n",
       "    .dataframe thead th {\n",
       "        text-align: right;\n",
       "    }\n",
       "</style>\n",
       "<table border=\"1\" class=\"dataframe\">\n",
       "  <thead>\n",
       "    <tr style=\"text-align: right;\">\n",
       "      <th></th>\n",
       "      <th>peso</th>\n",
       "      <th>año_nacimiento</th>\n",
       "      <th>hijos</th>\n",
       "      <th>hobby</th>\n",
       "      <th>indice_masa_corporal</th>\n",
       "      <th>sobre_peso</th>\n",
       "    </tr>\n",
       "  </thead>\n",
       "  <tbody>\n",
       "    <tr>\n",
       "      <th>lucas</th>\n",
       "      <td>112</td>\n",
       "      <td>1984</td>\n",
       "      <td>NaN</td>\n",
       "      <td>NaN</td>\n",
       "      <td>38.754325</td>\n",
       "      <td>True</td>\n",
       "    </tr>\n",
       "    <tr>\n",
       "      <th>marcos</th>\n",
       "      <td>83</td>\n",
       "      <td>1985</td>\n",
       "      <td>3.0</td>\n",
       "      <td>ciclismo</td>\n",
       "      <td>35.924515</td>\n",
       "      <td>True</td>\n",
       "    </tr>\n",
       "    <tr>\n",
       "      <th>mateo</th>\n",
       "      <td>68</td>\n",
       "      <td>1992</td>\n",
       "      <td>0.0</td>\n",
       "      <td>baile</td>\n",
       "      <td>24.977043</td>\n",
       "      <td>False</td>\n",
       "    </tr>\n",
       "  </tbody>\n",
       "</table>\n",
       "</div>"
      ],
      "text/plain": [
       "        peso  año_nacimiento  hijos     hobby  indice_masa_corporal  \\\n",
       "lucas    112            1984    NaN       NaN             38.754325   \n",
       "marcos    83            1985    3.0  ciclismo             35.924515   \n",
       "mateo     68            1992    0.0     baile             24.977043   \n",
       "\n",
       "        sobre_peso  \n",
       "lucas         True  \n",
       "marcos        True  \n",
       "mateo        False  "
      ]
     },
     "execution_count": 46,
     "metadata": {},
     "output_type": "execute_result"
    }
   ],
   "source": [
    "d6.assign(sobre_peso = d6[\"indice_masa_corporal\"] > 25)"
   ]
  },
  {
   "cell_type": "markdown",
   "id": "6a12410b",
   "metadata": {
    "slideshow": {
     "slide_type": "slide"
    }
   },
   "source": [
    "Tener que crear una variable temporal `d6` no es muy conveniente. "
   ]
  },
  {
   "cell_type": "markdown",
   "id": "c2a99d8a",
   "metadata": {
    "slideshow": {
     "slide_type": "slide"
    }
   },
   "source": [
    "Es posible que desee simplemente encadenar las llamadas de asignación, pero no funciona porque el objeto `personas` en realidad no se modifica con la primera asignación:"
   ]
  },
  {
   "cell_type": "code",
   "execution_count": 47,
   "id": "e5eef103",
   "metadata": {
    "slideshow": {
     "slide_type": "slide"
    }
   },
   "outputs": [
    {
     "name": "stdout",
     "output_type": "stream",
     "text": [
      "Key error: 'indice_masa_corporal'\n"
     ]
    }
   ],
   "source": [
    "try:\n",
    "    (personas\n",
    "         .assign(indice_masa_corporal = personas[\"peso\"] / (personas[\"estatura\"] / 100) ** 2)\n",
    "         .assign(sobre_peso = personas[\"indice_masa_corporal\"] > 25)\n",
    "    )\n",
    "except KeyError as e:\n",
    "    print(\"Key error:\", e)"
   ]
  },
  {
   "cell_type": "markdown",
   "id": "3d74995e",
   "metadata": {
    "slideshow": {
     "slide_type": "slide"
    }
   },
   "source": [
    "Pero no temas, hay una solución simple. Puede pasar una función al método `asign()` (normalmente una función `lambda`), y esta función se llamará con el `DataFrame` como parámetro:"
   ]
  },
  {
   "cell_type": "code",
   "execution_count": 48,
   "id": "286cc8db",
   "metadata": {
    "slideshow": {
     "slide_type": "slide"
    }
   },
   "outputs": [
    {
     "data": {
      "text/html": [
       "<div>\n",
       "<style scoped>\n",
       "    .dataframe tbody tr th:only-of-type {\n",
       "        vertical-align: middle;\n",
       "    }\n",
       "\n",
       "    .dataframe tbody tr th {\n",
       "        vertical-align: top;\n",
       "    }\n",
       "\n",
       "    .dataframe thead th {\n",
       "        text-align: right;\n",
       "    }\n",
       "</style>\n",
       "<table border=\"1\" class=\"dataframe\">\n",
       "  <thead>\n",
       "    <tr style=\"text-align: right;\">\n",
       "      <th></th>\n",
       "      <th>estatura</th>\n",
       "      <th>hobby</th>\n",
       "      <th>peso</th>\n",
       "      <th>edad</th>\n",
       "      <th>mas_30_años</th>\n",
       "      <th>mascotas</th>\n",
       "      <th>indice_masa_corporal</th>\n",
       "      <th>sobre_peso</th>\n",
       "    </tr>\n",
       "  </thead>\n",
       "  <tbody>\n",
       "    <tr>\n",
       "      <th>mateo</th>\n",
       "      <td>165</td>\n",
       "      <td>ciclismo</td>\n",
       "      <td>68</td>\n",
       "      <td>37</td>\n",
       "      <td>True</td>\n",
       "      <td>0.0</td>\n",
       "      <td>24.977043</td>\n",
       "      <td>False</td>\n",
       "    </tr>\n",
       "    <tr>\n",
       "      <th>marcos</th>\n",
       "      <td>152</td>\n",
       "      <td>baile</td>\n",
       "      <td>83</td>\n",
       "      <td>38</td>\n",
       "      <td>True</td>\n",
       "      <td>2.0</td>\n",
       "      <td>35.924515</td>\n",
       "      <td>True</td>\n",
       "    </tr>\n",
       "    <tr>\n",
       "      <th>lucas</th>\n",
       "      <td>170</td>\n",
       "      <td>NaN</td>\n",
       "      <td>112</td>\n",
       "      <td>30</td>\n",
       "      <td>False</td>\n",
       "      <td>NaN</td>\n",
       "      <td>38.754325</td>\n",
       "      <td>True</td>\n",
       "    </tr>\n",
       "  </tbody>\n",
       "</table>\n",
       "</div>"
      ],
      "text/plain": [
       "        estatura     hobby  peso  edad  mas_30_años  mascotas  \\\n",
       "mateo        165  ciclismo    68    37         True       0.0   \n",
       "marcos       152     baile    83    38         True       2.0   \n",
       "lucas        170       NaN   112    30        False       NaN   \n",
       "\n",
       "        indice_masa_corporal  sobre_peso  \n",
       "mateo              24.977043       False  \n",
       "marcos             35.924515        True  \n",
       "lucas              38.754325        True  "
      ]
     },
     "execution_count": 48,
     "metadata": {},
     "output_type": "execute_result"
    }
   ],
   "source": [
    "(personas\n",
    "     .assign(indice_masa_corporal = lambda df: df[\"peso\"] / (df[\"estatura\"] / 100) ** 2)\n",
    "     .assign(sobre_peso = lambda df: df[\"indice_masa_corporal\"] > 25)\n",
    ")\n"
   ]
  },
  {
   "cell_type": "markdown",
   "id": "b83fd5e9",
   "metadata": {
    "slideshow": {
     "slide_type": "slide"
    }
   },
   "source": [
    "## Evaluar una expresión"
   ]
  },
  {
   "cell_type": "markdown",
   "id": "29af3099",
   "metadata": {
    "slideshow": {
     "slide_type": "slide"
    }
   },
   "source": [
    "Una gran característica compatible con pandas es la evaluación de expresiones. Esto se basa en la biblioteca numexpr que debe estar instalada."
   ]
  },
  {
   "cell_type": "code",
   "execution_count": 49,
   "id": "f934c1fe",
   "metadata": {
    "slideshow": {
     "slide_type": "slide"
    }
   },
   "outputs": [
    {
     "data": {
      "text/plain": [
       "mateo     False\n",
       "marcos     True\n",
       "lucas      True\n",
       "dtype: bool"
      ]
     },
     "execution_count": 49,
     "metadata": {},
     "output_type": "execute_result"
    }
   ],
   "source": [
    "personas.eval('peso/(estatura/100)**2 > 25')"
   ]
  },
  {
   "cell_type": "markdown",
   "id": "a21a5259",
   "metadata": {
    "slideshow": {
     "slide_type": "slide"
    }
   },
   "source": [
    "También se admiten expresiones de asignación. Configuremos `inplace=True` para modificar directamente el `DataFrame` en lugar de obtener una **copia modificada**:"
   ]
  },
  {
   "cell_type": "code",
   "execution_count": 52,
   "id": "4e8585fb",
   "metadata": {
    "slideshow": {
     "slide_type": "slide"
    }
   },
   "outputs": [
    {
     "data": {
      "text/html": [
       "<div>\n",
       "<style scoped>\n",
       "    .dataframe tbody tr th:only-of-type {\n",
       "        vertical-align: middle;\n",
       "    }\n",
       "\n",
       "    .dataframe tbody tr th {\n",
       "        vertical-align: top;\n",
       "    }\n",
       "\n",
       "    .dataframe thead th {\n",
       "        text-align: right;\n",
       "    }\n",
       "</style>\n",
       "<table border=\"1\" class=\"dataframe\">\n",
       "  <thead>\n",
       "    <tr style=\"text-align: right;\">\n",
       "      <th></th>\n",
       "      <th>estatura</th>\n",
       "      <th>hobby</th>\n",
       "      <th>peso</th>\n",
       "      <th>edad</th>\n",
       "      <th>mas_30_años</th>\n",
       "      <th>mascotas</th>\n",
       "      <th>indice_masa_corporal</th>\n",
       "      <th>sobre_peso</th>\n",
       "    </tr>\n",
       "  </thead>\n",
       "  <tbody>\n",
       "    <tr>\n",
       "      <th>mateo</th>\n",
       "      <td>165</td>\n",
       "      <td>ciclismo</td>\n",
       "      <td>68</td>\n",
       "      <td>37</td>\n",
       "      <td>True</td>\n",
       "      <td>0.0</td>\n",
       "      <td>24.977043</td>\n",
       "      <td>False</td>\n",
       "    </tr>\n",
       "    <tr>\n",
       "      <th>marcos</th>\n",
       "      <td>152</td>\n",
       "      <td>baile</td>\n",
       "      <td>83</td>\n",
       "      <td>38</td>\n",
       "      <td>True</td>\n",
       "      <td>2.0</td>\n",
       "      <td>35.924515</td>\n",
       "      <td>True</td>\n",
       "    </tr>\n",
       "    <tr>\n",
       "      <th>lucas</th>\n",
       "      <td>170</td>\n",
       "      <td>NaN</td>\n",
       "      <td>112</td>\n",
       "      <td>30</td>\n",
       "      <td>False</td>\n",
       "      <td>NaN</td>\n",
       "      <td>38.754325</td>\n",
       "      <td>True</td>\n",
       "    </tr>\n",
       "  </tbody>\n",
       "</table>\n",
       "</div>"
      ],
      "text/plain": [
       "        estatura     hobby  peso  edad  mas_30_años  mascotas  \\\n",
       "mateo        165  ciclismo    68    37         True       0.0   \n",
       "marcos       152     baile    83    38         True       2.0   \n",
       "lucas        170       NaN   112    30        False       NaN   \n",
       "\n",
       "        indice_masa_corporal  sobre_peso  \n",
       "mateo              24.977043       False  \n",
       "marcos             35.924515        True  \n",
       "lucas              38.754325        True  "
      ]
     },
     "execution_count": 52,
     "metadata": {},
     "output_type": "execute_result"
    }
   ],
   "source": [
    "personas.eval(\"indice_masa_corporal = peso / (estatura/100) ** 2\", inplace=True)\n",
    "personas"
   ]
  },
  {
   "cell_type": "markdown",
   "id": "5cafc8e3",
   "metadata": {
    "slideshow": {
     "slide_type": "slide"
    }
   },
   "source": [
    "Puede usar una variable local o global en una expresión prefijándola con `@`:"
   ]
  },
  {
   "cell_type": "code",
   "execution_count": 51,
   "id": "3d627f42",
   "metadata": {
    "slideshow": {
     "slide_type": "slide"
    }
   },
   "outputs": [
    {
     "data": {
      "text/html": [
       "<div>\n",
       "<style scoped>\n",
       "    .dataframe tbody tr th:only-of-type {\n",
       "        vertical-align: middle;\n",
       "    }\n",
       "\n",
       "    .dataframe tbody tr th {\n",
       "        vertical-align: top;\n",
       "    }\n",
       "\n",
       "    .dataframe thead th {\n",
       "        text-align: right;\n",
       "    }\n",
       "</style>\n",
       "<table border=\"1\" class=\"dataframe\">\n",
       "  <thead>\n",
       "    <tr style=\"text-align: right;\">\n",
       "      <th></th>\n",
       "      <th>estatura</th>\n",
       "      <th>hobby</th>\n",
       "      <th>peso</th>\n",
       "      <th>edad</th>\n",
       "      <th>mas_30_años</th>\n",
       "      <th>mascotas</th>\n",
       "      <th>indice_masa_corporal</th>\n",
       "      <th>sobre_peso</th>\n",
       "    </tr>\n",
       "  </thead>\n",
       "  <tbody>\n",
       "    <tr>\n",
       "      <th>mateo</th>\n",
       "      <td>165</td>\n",
       "      <td>ciclismo</td>\n",
       "      <td>68</td>\n",
       "      <td>37</td>\n",
       "      <td>True</td>\n",
       "      <td>0.0</td>\n",
       "      <td>24.977043</td>\n",
       "      <td>False</td>\n",
       "    </tr>\n",
       "    <tr>\n",
       "      <th>marcos</th>\n",
       "      <td>152</td>\n",
       "      <td>baile</td>\n",
       "      <td>83</td>\n",
       "      <td>38</td>\n",
       "      <td>True</td>\n",
       "      <td>2.0</td>\n",
       "      <td>35.924515</td>\n",
       "      <td>True</td>\n",
       "    </tr>\n",
       "    <tr>\n",
       "      <th>lucas</th>\n",
       "      <td>170</td>\n",
       "      <td>NaN</td>\n",
       "      <td>112</td>\n",
       "      <td>30</td>\n",
       "      <td>False</td>\n",
       "      <td>NaN</td>\n",
       "      <td>38.754325</td>\n",
       "      <td>True</td>\n",
       "    </tr>\n",
       "  </tbody>\n",
       "</table>\n",
       "</div>"
      ],
      "text/plain": [
       "        estatura     hobby  peso  edad  mas_30_años  mascotas  \\\n",
       "mateo        165  ciclismo    68    37         True       0.0   \n",
       "marcos       152     baile    83    38         True       2.0   \n",
       "lucas        170       NaN   112    30        False       NaN   \n",
       "\n",
       "        indice_masa_corporal  sobre_peso  \n",
       "mateo              24.977043       False  \n",
       "marcos             35.924515        True  \n",
       "lucas              38.754325        True  "
      ]
     },
     "execution_count": 51,
     "metadata": {},
     "output_type": "execute_result"
    }
   ],
   "source": [
    "umbral_sobre_peso = 30\n",
    "personas.eval(\"sobre_peso = indice_masa_corporal > @umbral_sobre_peso\", inplace=True)\n",
    "\n",
    "personas"
   ]
  },
  {
   "cell_type": "markdown",
   "id": "1e7b1000",
   "metadata": {
    "slideshow": {
     "slide_type": "slide"
    }
   },
   "source": [
    "## Querying a DataFrame (Consultar en el DataFrame)"
   ]
  },
  {
   "cell_type": "markdown",
   "id": "58a09420",
   "metadata": {
    "slideshow": {
     "slide_type": "slide"
    }
   },
   "source": [
    "El método `query()` le permite filtrar un `DataFrame` basado en una expresión de consulta:"
   ]
  },
  {
   "cell_type": "code",
   "execution_count": 54,
   "id": "9628eddd",
   "metadata": {
    "slideshow": {
     "slide_type": "slide"
    }
   },
   "outputs": [
    {
     "data": {
      "text/html": [
       "<div>\n",
       "<style scoped>\n",
       "    .dataframe tbody tr th:only-of-type {\n",
       "        vertical-align: middle;\n",
       "    }\n",
       "\n",
       "    .dataframe tbody tr th {\n",
       "        vertical-align: top;\n",
       "    }\n",
       "\n",
       "    .dataframe thead th {\n",
       "        text-align: right;\n",
       "    }\n",
       "</style>\n",
       "<table border=\"1\" class=\"dataframe\">\n",
       "  <thead>\n",
       "    <tr style=\"text-align: right;\">\n",
       "      <th></th>\n",
       "      <th>estatura</th>\n",
       "      <th>hobby</th>\n",
       "      <th>peso</th>\n",
       "      <th>edad</th>\n",
       "      <th>mas_30_años</th>\n",
       "      <th>mascotas</th>\n",
       "      <th>indice_masa_corporal</th>\n",
       "      <th>sobre_peso</th>\n",
       "    </tr>\n",
       "  </thead>\n",
       "  <tbody>\n",
       "    <tr>\n",
       "      <th>marcos</th>\n",
       "      <td>152</td>\n",
       "      <td>baile</td>\n",
       "      <td>83</td>\n",
       "      <td>38</td>\n",
       "      <td>True</td>\n",
       "      <td>2.0</td>\n",
       "      <td>35.924515</td>\n",
       "      <td>True</td>\n",
       "    </tr>\n",
       "  </tbody>\n",
       "</table>\n",
       "</div>"
      ],
      "text/plain": [
       "        estatura  hobby  peso  edad  mas_30_años  mascotas  \\\n",
       "marcos       152  baile    83    38         True       2.0   \n",
       "\n",
       "        indice_masa_corporal  sobre_peso  \n",
       "marcos             35.924515        True  "
      ]
     },
     "execution_count": 54,
     "metadata": {},
     "output_type": "execute_result"
    }
   ],
   "source": [
    "personas.query(\"edad > 30 and mascotas == 2\")"
   ]
  },
  {
   "cell_type": "markdown",
   "id": "9b70eabf",
   "metadata": {
    "slideshow": {
     "slide_type": "slide"
    }
   },
   "source": [
    "## Ordenar un DataFrame"
   ]
  },
  {
   "cell_type": "markdown",
   "id": "0ae84423",
   "metadata": {
    "slideshow": {
     "slide_type": "slide"
    }
   },
   "source": [
    "Puede ordenar un `DataFrame` llamando a su método `sort_index`. "
   ]
  },
  {
   "cell_type": "markdown",
   "id": "242d055c",
   "metadata": {
    "slideshow": {
     "slide_type": "slide"
    }
   },
   "source": [
    "Por defecto, ordena las filas por su etiqueta de índice, en orden ascendente, pero invirtamos el orden:"
   ]
  },
  {
   "cell_type": "code",
   "execution_count": 55,
   "id": "5b361081",
   "metadata": {
    "slideshow": {
     "slide_type": "slide"
    }
   },
   "outputs": [
    {
     "data": {
      "text/html": [
       "<div>\n",
       "<style scoped>\n",
       "    .dataframe tbody tr th:only-of-type {\n",
       "        vertical-align: middle;\n",
       "    }\n",
       "\n",
       "    .dataframe tbody tr th {\n",
       "        vertical-align: top;\n",
       "    }\n",
       "\n",
       "    .dataframe thead th {\n",
       "        text-align: right;\n",
       "    }\n",
       "</style>\n",
       "<table border=\"1\" class=\"dataframe\">\n",
       "  <thead>\n",
       "    <tr style=\"text-align: right;\">\n",
       "      <th></th>\n",
       "      <th>estatura</th>\n",
       "      <th>hobby</th>\n",
       "      <th>peso</th>\n",
       "      <th>edad</th>\n",
       "      <th>mas_30_años</th>\n",
       "      <th>mascotas</th>\n",
       "      <th>indice_masa_corporal</th>\n",
       "      <th>sobre_peso</th>\n",
       "    </tr>\n",
       "  </thead>\n",
       "  <tbody>\n",
       "    <tr>\n",
       "      <th>lucas</th>\n",
       "      <td>170</td>\n",
       "      <td>NaN</td>\n",
       "      <td>112</td>\n",
       "      <td>30</td>\n",
       "      <td>False</td>\n",
       "      <td>NaN</td>\n",
       "      <td>38.754325</td>\n",
       "      <td>True</td>\n",
       "    </tr>\n",
       "    <tr>\n",
       "      <th>marcos</th>\n",
       "      <td>152</td>\n",
       "      <td>baile</td>\n",
       "      <td>83</td>\n",
       "      <td>38</td>\n",
       "      <td>True</td>\n",
       "      <td>2.0</td>\n",
       "      <td>35.924515</td>\n",
       "      <td>True</td>\n",
       "    </tr>\n",
       "    <tr>\n",
       "      <th>mateo</th>\n",
       "      <td>165</td>\n",
       "      <td>ciclismo</td>\n",
       "      <td>68</td>\n",
       "      <td>37</td>\n",
       "      <td>True</td>\n",
       "      <td>0.0</td>\n",
       "      <td>24.977043</td>\n",
       "      <td>False</td>\n",
       "    </tr>\n",
       "  </tbody>\n",
       "</table>\n",
       "</div>"
      ],
      "text/plain": [
       "        estatura     hobby  peso  edad  mas_30_años  mascotas  \\\n",
       "lucas        170       NaN   112    30        False       NaN   \n",
       "marcos       152     baile    83    38         True       2.0   \n",
       "mateo        165  ciclismo    68    37         True       0.0   \n",
       "\n",
       "        indice_masa_corporal  sobre_peso  \n",
       "lucas              38.754325        True  \n",
       "marcos             35.924515        True  \n",
       "mateo              24.977043       False  "
      ]
     },
     "execution_count": 55,
     "metadata": {},
     "output_type": "execute_result"
    }
   ],
   "source": [
    "personas.sort_index(ascending=True)"
   ]
  },
  {
   "cell_type": "markdown",
   "id": "896ec8e5",
   "metadata": {
    "slideshow": {
     "slide_type": "slide"
    }
   },
   "source": [
    "## Taller de clase o tarea"
   ]
  },
  {
   "cell_type": "markdown",
   "id": "c5582fb0",
   "metadata": {
    "slideshow": {
     "slide_type": "slide"
    }
   },
   "source": [
    "Se lanzan al aire dos dados y se suman sus puntos obtenidos. Halla la probabilidad de que la suma:  \n",
    "\n",
    "a) Sea 4.  \n",
    "b) No sea 7.  \n",
    "c) Sea mayor que 7.  \n",
    "d) Sea menor que 5.  \n",
    "e) Sea 6 o 9.  \n",
    "f) Esté entre 2 y 6.  "
   ]
  },
  {
   "cell_type": "code",
   "execution_count": null,
   "id": "c8417aa9",
   "metadata": {},
   "outputs": [],
   "source": []
  }
 ],
 "metadata": {
  "celltoolbar": "Slideshow",
  "kernelspec": {
   "display_name": "Python 3",
   "language": "python",
   "name": "python3"
  },
  "language_info": {
   "codemirror_mode": {
    "name": "ipython",
    "version": 3
   },
   "file_extension": ".py",
   "mimetype": "text/x-python",
   "name": "python",
   "nbconvert_exporter": "python",
   "pygments_lexer": "ipython3",
   "version": "3.8.8"
  },
  "latex_envs": {
   "LaTeX_envs_menu_present": true,
   "autoclose": false,
   "autocomplete": false,
   "bibliofile": "biblio.bib",
   "cite_by": "apalike",
   "current_citInitial": 1,
   "eqLabelWithNumbers": true,
   "eqNumInitial": 1,
   "hotkeys": {
    "equation": "Ctrl-E",
    "itemize": "Ctrl-I"
   },
   "labels_anchors": false,
   "latex_user_defs": false,
   "report_style_numbering": false,
   "user_envs_cfg": false
  },
  "rise": {
   "enable_chalkboard": true,
   "theme": "sky",
   "transition": "sky"
  }
 },
 "nbformat": 4,
 "nbformat_minor": 5
}
