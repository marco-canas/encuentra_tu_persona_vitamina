{
 "cells": [
  {
   "cell_type": "markdown",
   "id": "80bc2101",
   "metadata": {
    "slideshow": {
     "slide_type": "slide"
    }
   },
   "source": [
    "<table align=\"left\">\n",
    "  <td>\n",
    "    <a href=\"https://colab.research.google.com/github/marco-canas/intro-Machine-Learning/blob/main/classes/class_20/class_20.ipynb\" target=\"_parent\"><img src=\"https://colab.research.google.com/assets/colab-badge.svg\" alt=\"Open In Colab\"/></a>\n",
    "  </td>\n",
    "</table> "
   ]
  },
  {
   "cell_type": "markdown",
   "id": "ffc32537",
   "metadata": {
    "slideshow": {
     "slide_type": "slide"
    }
   },
   "source": [
    "# Clase 21 Terminación del preprocesamiento de datos"
   ]
  },
  {
   "cell_type": "markdown",
   "id": "9efa0726",
   "metadata": {
    "slideshow": {
     "slide_type": "slide"
    }
   },
   "source": [
    "## Metodología"
   ]
  },
  {
   "cell_type": "markdown",
   "id": "8140794a",
   "metadata": {
    "slideshow": {
     "slide_type": "slide"
    }
   },
   "source": [
    "Pasos para creación del cuaderno interactivo.\n",
    "\n",
    "1. Plantear bien la pregunta.\n",
    "   * ¿Regresión o clasificación?\n",
    "   * ¿Tipo de regresión y tipo de clasificación?"
   ]
  },
  {
   "cell_type": "markdown",
   "id": "5be8b320",
   "metadata": {
    "slideshow": {
     "slide_type": "slide"
    }
   },
   "source": [
    "2. Exploración inicial.\n",
    "   * Indicar la fuente de dónde se toman los datos.\n",
    "   * Hacer explícita la función objetivo.\n",
    "   * Decir cuáles son los atributos (descripción breve de cada uno)\n",
    "   * Practicar una primera exploración gráfica de los datos."
   ]
  },
  {
   "cell_type": "markdown",
   "id": "32e615d5",
   "metadata": {
    "slideshow": {
     "slide_type": "slide"
    }
   },
   "source": [
    "3. Preparar los datos para los algoritmos de aprendizaje.\n",
    "   * Hacer separación inicial de datos para entrenar y para testear.\n",
    "   * Llenar datos faltantes.\n",
    "   * Explorar correlaciones lineales con la variable objetivo.\n",
    "   * adicionar atributos que estén mejor correlacionados con la variable objetivo.\n",
    "   * Estandarizar los datos.\n",
    "   * Codificar las variables categóricas. "
   ]
  },
  {
   "cell_type": "markdown",
   "id": "886c89bd",
   "metadata": {
    "slideshow": {
     "slide_type": "slide"
    }
   },
   "source": [
    "4. Preprocesamiento usando el concepto de pipeline \n",
    "\n",
    "5. Entrenamiento y selección de modelo.\n",
    "   * Instanciar varios modelos y entrenarlos sobre datos de entrenamiento preparados.  \n",
    "   * Medir el desempeño de varios modelos (comparativa, con la técnica de la validación cruzada)\n",
    "   \n",
    "6. Afinar el modelo.\n",
    "   * Crear cuadrícula (de búsqueda) de hiperparámetros.\n",
    "   * Seleccionar la combinación de hiperparámetros que consigue el mejor puntaje. (El mejor modelo).  \n",
    "   \n",
    "7. Presentar la solución.  \n",
    "\n",
    "   * Mostrar el desempeño sobre los datos para testear.\n",
    "   * (Opcional) Gráfico intuitivo para representar el modelo.\n"
   ]
  },
  {
   "cell_type": "markdown",
   "id": "01caf96e",
   "metadata": {
    "slideshow": {
     "slide_type": "slide"
    }
   },
   "source": [
    "## Data Cleaning"
   ]
  },
  {
   "cell_type": "markdown",
   "id": "69f09f45",
   "metadata": {
    "slideshow": {
     "slide_type": "slide"
    }
   },
   "source": [
    "Most Machine Learning algorithms cannot work with missing features, so let’s create a few functions to take care of them. "
   ]
  },
  {
   "cell_type": "markdown",
   "id": "a43778f9",
   "metadata": {
    "slideshow": {
     "slide_type": "slide"
    }
   },
   "source": [
    "We saw earlier that the total_bedrooms attribute has some missing values, so let’s fix this. "
   ]
  },
  {
   "cell_type": "markdown",
   "id": "200cf903",
   "metadata": {
    "slideshow": {
     "slide_type": "slide"
    }
   },
   "source": [
    "You have three options:"
   ]
  },
  {
   "cell_type": "code",
   "execution_count": null,
   "id": "efdfc97f",
   "metadata": {},
   "outputs": [],
   "source": []
  },
  {
   "cell_type": "code",
   "execution_count": null,
   "id": "8b2ea15c",
   "metadata": {},
   "outputs": [],
   "source": []
  },
  {
   "cell_type": "code",
   "execution_count": null,
   "id": "cd1b049a",
   "metadata": {},
   "outputs": [],
   "source": []
  },
  {
   "cell_type": "code",
   "execution_count": null,
   "id": "f8204a3e",
   "metadata": {},
   "outputs": [],
   "source": []
  },
  {
   "cell_type": "code",
   "execution_count": null,
   "id": "2210b3c7",
   "metadata": {},
   "outputs": [],
   "source": []
  },
  {
   "cell_type": "code",
   "execution_count": null,
   "id": "c6aae02c",
   "metadata": {},
   "outputs": [],
   "source": []
  },
  {
   "cell_type": "code",
   "execution_count": null,
   "id": "44e40351",
   "metadata": {},
   "outputs": [],
   "source": []
  },
  {
   "cell_type": "code",
   "execution_count": null,
   "id": "e03f3399",
   "metadata": {},
   "outputs": [],
   "source": []
  }
 ],
 "metadata": {
  "celltoolbar": "Slideshow",
  "kernelspec": {
   "display_name": "Python 3 (ipykernel)",
   "language": "python",
   "name": "python3"
  },
  "language_info": {
   "codemirror_mode": {
    "name": "ipython",
    "version": 3
   },
   "file_extension": ".py",
   "mimetype": "text/x-python",
   "name": "python",
   "nbconvert_exporter": "python",
   "pygments_lexer": "ipython3",
   "version": "3.9.7"
  }
 },
 "nbformat": 4,
 "nbformat_minor": 5
}
