{
 "cells": [
  {
   "cell_type": "markdown",
   "id": "f8738d10",
   "metadata": {
    "slideshow": {
     "slide_type": "slide"
    }
   },
   "source": [
    "<table align=\"left\">\n",
    "  <td>\n",
    "    <a href=\"https://colab.research.google.com/github/marco-canas/intro-Machine-Learning/blob/main/classes/class_16_end_to_end_1/class_16_end_to_end_1.ipynb\" target=\"_parent\"><img src=\"https://colab.research.google.com/assets/colab-badge.svg\" alt=\"Open In Colab\"/></a>\n",
    "  </td>\n",
    "  <td>\n",
    "    <a target=\"_blank\" href=\"https://kaggle.com/kernels/welcome?src=https://github.com/marco-canas/intro-Machine-Learning/blob/main/classes/class_16_end_to_end_1/class_16_end_to_end_1.ipynb\"><img src=\"https://kaggle.com/static/images/open-in-kaggle.svg\" /></a>\n",
    "  </td>\n",
    "</table> "
   ]
  },
  {
   "cell_type": "markdown",
   "id": "abbc5af3",
   "metadata": {
    "slideshow": {
     "slide_type": "slide"
    }
   },
   "source": [
    "# Clase 16 End to end Parte 1"
   ]
  },
  {
   "cell_type": "markdown",
   "id": "d4101f7d",
   "metadata": {
    "slideshow": {
     "slide_type": "slide"
    }
   },
   "source": [
    "## Objetivo:  \n",
    "\n",
    "Trabajar en un ejemplo de proyecto de principio a fin, pretendiendo ser un científico de datos contratado recientemente en una empresa inmobiliaria. "
   ]
  },
  {
   "cell_type": "markdown",
   "id": "b6e261df",
   "metadata": {
    "slideshow": {
     "slide_type": "slide"
    }
   },
   "source": [
    "# Get the data"
   ]
  },
  {
   "cell_type": "code",
   "execution_count": 2,
   "id": "dcdaff3e",
   "metadata": {
    "slideshow": {
     "slide_type": "slide"
    }
   },
   "outputs": [],
   "source": [
    "import pandas as pd \n",
    "\n",
    "url = 'https://raw.githubusercontent.com/marco-canas/taca/main/datasets/housing/housing.csv'\n",
    "df = pd.read_csv(url)"
   ]
  },
  {
   "cell_type": "code",
   "execution_count": null,
   "id": "08e816d1",
   "metadata": {
    "slideshow": {
     "slide_type": "slide"
    }
   },
   "outputs": [],
   "source": [
    "Para cargar un archivo .csv en Google Colab\n",
    "# from google.colab import files \n",
    "  \n",
    "# uploaded = files.upload()"
   ]
  },
  {
   "cell_type": "code",
   "execution_count": 1,
   "id": "b656d4a9",
   "metadata": {
    "slideshow": {
     "slide_type": "slide"
    }
   },
   "outputs": [],
   "source": [
    "import pandas as pd\n",
    "vivienda = pd.read_csv('housing.csv')"
   ]
  },
  {
   "cell_type": "code",
   "execution_count": 2,
   "id": "858764f1",
   "metadata": {
    "scrolled": true,
    "slideshow": {
     "slide_type": "slide"
    }
   },
   "outputs": [
    {
     "data": {
      "text/html": [
       "<div>\n",
       "<style scoped>\n",
       "    .dataframe tbody tr th:only-of-type {\n",
       "        vertical-align: middle;\n",
       "    }\n",
       "\n",
       "    .dataframe tbody tr th {\n",
       "        vertical-align: top;\n",
       "    }\n",
       "\n",
       "    .dataframe thead th {\n",
       "        text-align: right;\n",
       "    }\n",
       "</style>\n",
       "<table border=\"1\" class=\"dataframe\">\n",
       "  <thead>\n",
       "    <tr style=\"text-align: right;\">\n",
       "      <th></th>\n",
       "      <th>longitude</th>\n",
       "      <th>latitude</th>\n",
       "      <th>housing_median_age</th>\n",
       "      <th>total_rooms</th>\n",
       "      <th>total_bedrooms</th>\n",
       "      <th>population</th>\n",
       "      <th>households</th>\n",
       "      <th>median_income</th>\n",
       "      <th>median_house_value</th>\n",
       "      <th>ocean_proximity</th>\n",
       "    </tr>\n",
       "  </thead>\n",
       "  <tbody>\n",
       "    <tr>\n",
       "      <th>0</th>\n",
       "      <td>-122.23</td>\n",
       "      <td>37.88</td>\n",
       "      <td>41.0</td>\n",
       "      <td>880.0</td>\n",
       "      <td>129.0</td>\n",
       "      <td>322.0</td>\n",
       "      <td>126.0</td>\n",
       "      <td>8.3252</td>\n",
       "      <td>452600.0</td>\n",
       "      <td>NEAR BAY</td>\n",
       "    </tr>\n",
       "    <tr>\n",
       "      <th>1</th>\n",
       "      <td>-122.22</td>\n",
       "      <td>37.86</td>\n",
       "      <td>21.0</td>\n",
       "      <td>7099.0</td>\n",
       "      <td>1106.0</td>\n",
       "      <td>2401.0</td>\n",
       "      <td>1138.0</td>\n",
       "      <td>8.3014</td>\n",
       "      <td>358500.0</td>\n",
       "      <td>NEAR BAY</td>\n",
       "    </tr>\n",
       "    <tr>\n",
       "      <th>2</th>\n",
       "      <td>-122.24</td>\n",
       "      <td>37.85</td>\n",
       "      <td>52.0</td>\n",
       "      <td>1467.0</td>\n",
       "      <td>190.0</td>\n",
       "      <td>496.0</td>\n",
       "      <td>177.0</td>\n",
       "      <td>7.2574</td>\n",
       "      <td>352100.0</td>\n",
       "      <td>NEAR BAY</td>\n",
       "    </tr>\n",
       "    <tr>\n",
       "      <th>3</th>\n",
       "      <td>-122.25</td>\n",
       "      <td>37.85</td>\n",
       "      <td>52.0</td>\n",
       "      <td>1274.0</td>\n",
       "      <td>235.0</td>\n",
       "      <td>558.0</td>\n",
       "      <td>219.0</td>\n",
       "      <td>5.6431</td>\n",
       "      <td>341300.0</td>\n",
       "      <td>NEAR BAY</td>\n",
       "    </tr>\n",
       "    <tr>\n",
       "      <th>4</th>\n",
       "      <td>-122.25</td>\n",
       "      <td>37.85</td>\n",
       "      <td>52.0</td>\n",
       "      <td>1627.0</td>\n",
       "      <td>280.0</td>\n",
       "      <td>565.0</td>\n",
       "      <td>259.0</td>\n",
       "      <td>3.8462</td>\n",
       "      <td>342200.0</td>\n",
       "      <td>NEAR BAY</td>\n",
       "    </tr>\n",
       "    <tr>\n",
       "      <th>...</th>\n",
       "      <td>...</td>\n",
       "      <td>...</td>\n",
       "      <td>...</td>\n",
       "      <td>...</td>\n",
       "      <td>...</td>\n",
       "      <td>...</td>\n",
       "      <td>...</td>\n",
       "      <td>...</td>\n",
       "      <td>...</td>\n",
       "      <td>...</td>\n",
       "    </tr>\n",
       "    <tr>\n",
       "      <th>20635</th>\n",
       "      <td>-121.09</td>\n",
       "      <td>39.48</td>\n",
       "      <td>25.0</td>\n",
       "      <td>1665.0</td>\n",
       "      <td>374.0</td>\n",
       "      <td>845.0</td>\n",
       "      <td>330.0</td>\n",
       "      <td>1.5603</td>\n",
       "      <td>78100.0</td>\n",
       "      <td>INLAND</td>\n",
       "    </tr>\n",
       "    <tr>\n",
       "      <th>20636</th>\n",
       "      <td>-121.21</td>\n",
       "      <td>39.49</td>\n",
       "      <td>18.0</td>\n",
       "      <td>697.0</td>\n",
       "      <td>150.0</td>\n",
       "      <td>356.0</td>\n",
       "      <td>114.0</td>\n",
       "      <td>2.5568</td>\n",
       "      <td>77100.0</td>\n",
       "      <td>INLAND</td>\n",
       "    </tr>\n",
       "    <tr>\n",
       "      <th>20637</th>\n",
       "      <td>-121.22</td>\n",
       "      <td>39.43</td>\n",
       "      <td>17.0</td>\n",
       "      <td>2254.0</td>\n",
       "      <td>485.0</td>\n",
       "      <td>1007.0</td>\n",
       "      <td>433.0</td>\n",
       "      <td>1.7000</td>\n",
       "      <td>92300.0</td>\n",
       "      <td>INLAND</td>\n",
       "    </tr>\n",
       "    <tr>\n",
       "      <th>20638</th>\n",
       "      <td>-121.32</td>\n",
       "      <td>39.43</td>\n",
       "      <td>18.0</td>\n",
       "      <td>1860.0</td>\n",
       "      <td>409.0</td>\n",
       "      <td>741.0</td>\n",
       "      <td>349.0</td>\n",
       "      <td>1.8672</td>\n",
       "      <td>84700.0</td>\n",
       "      <td>INLAND</td>\n",
       "    </tr>\n",
       "    <tr>\n",
       "      <th>20639</th>\n",
       "      <td>-121.24</td>\n",
       "      <td>39.37</td>\n",
       "      <td>16.0</td>\n",
       "      <td>2785.0</td>\n",
       "      <td>616.0</td>\n",
       "      <td>1387.0</td>\n",
       "      <td>530.0</td>\n",
       "      <td>2.3886</td>\n",
       "      <td>89400.0</td>\n",
       "      <td>INLAND</td>\n",
       "    </tr>\n",
       "  </tbody>\n",
       "</table>\n",
       "<p>20640 rows × 10 columns</p>\n",
       "</div>"
      ],
      "text/plain": [
       "       longitude  latitude  housing_median_age  total_rooms  total_bedrooms  \\\n",
       "0        -122.23     37.88                41.0        880.0           129.0   \n",
       "1        -122.22     37.86                21.0       7099.0          1106.0   \n",
       "2        -122.24     37.85                52.0       1467.0           190.0   \n",
       "3        -122.25     37.85                52.0       1274.0           235.0   \n",
       "4        -122.25     37.85                52.0       1627.0           280.0   \n",
       "...          ...       ...                 ...          ...             ...   \n",
       "20635    -121.09     39.48                25.0       1665.0           374.0   \n",
       "20636    -121.21     39.49                18.0        697.0           150.0   \n",
       "20637    -121.22     39.43                17.0       2254.0           485.0   \n",
       "20638    -121.32     39.43                18.0       1860.0           409.0   \n",
       "20639    -121.24     39.37                16.0       2785.0           616.0   \n",
       "\n",
       "       population  households  median_income  median_house_value  \\\n",
       "0           322.0       126.0         8.3252            452600.0   \n",
       "1          2401.0      1138.0         8.3014            358500.0   \n",
       "2           496.0       177.0         7.2574            352100.0   \n",
       "3           558.0       219.0         5.6431            341300.0   \n",
       "4           565.0       259.0         3.8462            342200.0   \n",
       "...           ...         ...            ...                 ...   \n",
       "20635       845.0       330.0         1.5603             78100.0   \n",
       "20636       356.0       114.0         2.5568             77100.0   \n",
       "20637      1007.0       433.0         1.7000             92300.0   \n",
       "20638       741.0       349.0         1.8672             84700.0   \n",
       "20639      1387.0       530.0         2.3886             89400.0   \n",
       "\n",
       "      ocean_proximity  \n",
       "0            NEAR BAY  \n",
       "1            NEAR BAY  \n",
       "2            NEAR BAY  \n",
       "3            NEAR BAY  \n",
       "4            NEAR BAY  \n",
       "...               ...  \n",
       "20635          INLAND  \n",
       "20636          INLAND  \n",
       "20637          INLAND  \n",
       "20638          INLAND  \n",
       "20639          INLAND  \n",
       "\n",
       "[20640 rows x 10 columns]"
      ]
     },
     "execution_count": 2,
     "metadata": {},
     "output_type": "execute_result"
    }
   ],
   "source": [
    "vivienda"
   ]
  },
  {
   "cell_type": "code",
   "execution_count": 3,
   "id": "1608cab8",
   "metadata": {
    "slideshow": {
     "slide_type": "slide"
    }
   },
   "outputs": [
    {
     "data": {
      "text/html": [
       "<div>\n",
       "<style scoped>\n",
       "    .dataframe tbody tr th:only-of-type {\n",
       "        vertical-align: middle;\n",
       "    }\n",
       "\n",
       "    .dataframe tbody tr th {\n",
       "        vertical-align: top;\n",
       "    }\n",
       "\n",
       "    .dataframe thead th {\n",
       "        text-align: right;\n",
       "    }\n",
       "</style>\n",
       "<table border=\"1\" class=\"dataframe\">\n",
       "  <thead>\n",
       "    <tr style=\"text-align: right;\">\n",
       "      <th></th>\n",
       "      <th>longitude</th>\n",
       "      <th>latitude</th>\n",
       "      <th>housing_median_age</th>\n",
       "      <th>total_rooms</th>\n",
       "      <th>total_bedrooms</th>\n",
       "      <th>population</th>\n",
       "      <th>households</th>\n",
       "      <th>median_income</th>\n",
       "      <th>median_house_value</th>\n",
       "      <th>ocean_proximity</th>\n",
       "    </tr>\n",
       "  </thead>\n",
       "  <tbody>\n",
       "    <tr>\n",
       "      <th>0</th>\n",
       "      <td>-122.23</td>\n",
       "      <td>37.88</td>\n",
       "      <td>41.0</td>\n",
       "      <td>880.0</td>\n",
       "      <td>129.0</td>\n",
       "      <td>322.0</td>\n",
       "      <td>126.0</td>\n",
       "      <td>8.3252</td>\n",
       "      <td>452600.0</td>\n",
       "      <td>NEAR BAY</td>\n",
       "    </tr>\n",
       "    <tr>\n",
       "      <th>1</th>\n",
       "      <td>-122.22</td>\n",
       "      <td>37.86</td>\n",
       "      <td>21.0</td>\n",
       "      <td>7099.0</td>\n",
       "      <td>1106.0</td>\n",
       "      <td>2401.0</td>\n",
       "      <td>1138.0</td>\n",
       "      <td>8.3014</td>\n",
       "      <td>358500.0</td>\n",
       "      <td>NEAR BAY</td>\n",
       "    </tr>\n",
       "    <tr>\n",
       "      <th>2</th>\n",
       "      <td>-122.24</td>\n",
       "      <td>37.85</td>\n",
       "      <td>52.0</td>\n",
       "      <td>1467.0</td>\n",
       "      <td>190.0</td>\n",
       "      <td>496.0</td>\n",
       "      <td>177.0</td>\n",
       "      <td>7.2574</td>\n",
       "      <td>352100.0</td>\n",
       "      <td>NEAR BAY</td>\n",
       "    </tr>\n",
       "    <tr>\n",
       "      <th>3</th>\n",
       "      <td>-122.25</td>\n",
       "      <td>37.85</td>\n",
       "      <td>52.0</td>\n",
       "      <td>1274.0</td>\n",
       "      <td>235.0</td>\n",
       "      <td>558.0</td>\n",
       "      <td>219.0</td>\n",
       "      <td>5.6431</td>\n",
       "      <td>341300.0</td>\n",
       "      <td>NEAR BAY</td>\n",
       "    </tr>\n",
       "    <tr>\n",
       "      <th>4</th>\n",
       "      <td>-122.25</td>\n",
       "      <td>37.85</td>\n",
       "      <td>52.0</td>\n",
       "      <td>1627.0</td>\n",
       "      <td>280.0</td>\n",
       "      <td>565.0</td>\n",
       "      <td>259.0</td>\n",
       "      <td>3.8462</td>\n",
       "      <td>342200.0</td>\n",
       "      <td>NEAR BAY</td>\n",
       "    </tr>\n",
       "  </tbody>\n",
       "</table>\n",
       "</div>"
      ],
      "text/plain": [
       "   longitude  latitude  housing_median_age  total_rooms  total_bedrooms  \\\n",
       "0    -122.23     37.88                41.0        880.0           129.0   \n",
       "1    -122.22     37.86                21.0       7099.0          1106.0   \n",
       "2    -122.24     37.85                52.0       1467.0           190.0   \n",
       "3    -122.25     37.85                52.0       1274.0           235.0   \n",
       "4    -122.25     37.85                52.0       1627.0           280.0   \n",
       "\n",
       "   population  households  median_income  median_house_value ocean_proximity  \n",
       "0       322.0       126.0         8.3252            452600.0        NEAR BAY  \n",
       "1      2401.0      1138.0         8.3014            358500.0        NEAR BAY  \n",
       "2       496.0       177.0         7.2574            352100.0        NEAR BAY  \n",
       "3       558.0       219.0         5.6431            341300.0        NEAR BAY  \n",
       "4       565.0       259.0         3.8462            342200.0        NEAR BAY  "
      ]
     },
     "execution_count": 3,
     "metadata": {},
     "output_type": "execute_result"
    }
   ],
   "source": [
    "vivienda.head()"
   ]
  },
  {
   "cell_type": "code",
   "execution_count": 4,
   "id": "9e94143e",
   "metadata": {
    "slideshow": {
     "slide_type": "slide"
    }
   },
   "outputs": [
    {
     "data": {
      "text/html": [
       "<div>\n",
       "<style scoped>\n",
       "    .dataframe tbody tr th:only-of-type {\n",
       "        vertical-align: middle;\n",
       "    }\n",
       "\n",
       "    .dataframe tbody tr th {\n",
       "        vertical-align: top;\n",
       "    }\n",
       "\n",
       "    .dataframe thead th {\n",
       "        text-align: right;\n",
       "    }\n",
       "</style>\n",
       "<table border=\"1\" class=\"dataframe\">\n",
       "  <thead>\n",
       "    <tr style=\"text-align: right;\">\n",
       "      <th></th>\n",
       "      <th>longitude</th>\n",
       "      <th>latitude</th>\n",
       "      <th>housing_median_age</th>\n",
       "      <th>total_rooms</th>\n",
       "      <th>total_bedrooms</th>\n",
       "      <th>population</th>\n",
       "      <th>households</th>\n",
       "      <th>median_income</th>\n",
       "      <th>median_house_value</th>\n",
       "      <th>ocean_proximity</th>\n",
       "    </tr>\n",
       "  </thead>\n",
       "  <tbody>\n",
       "    <tr>\n",
       "      <th>20635</th>\n",
       "      <td>-121.09</td>\n",
       "      <td>39.48</td>\n",
       "      <td>25.0</td>\n",
       "      <td>1665.0</td>\n",
       "      <td>374.0</td>\n",
       "      <td>845.0</td>\n",
       "      <td>330.0</td>\n",
       "      <td>1.5603</td>\n",
       "      <td>78100.0</td>\n",
       "      <td>INLAND</td>\n",
       "    </tr>\n",
       "    <tr>\n",
       "      <th>20636</th>\n",
       "      <td>-121.21</td>\n",
       "      <td>39.49</td>\n",
       "      <td>18.0</td>\n",
       "      <td>697.0</td>\n",
       "      <td>150.0</td>\n",
       "      <td>356.0</td>\n",
       "      <td>114.0</td>\n",
       "      <td>2.5568</td>\n",
       "      <td>77100.0</td>\n",
       "      <td>INLAND</td>\n",
       "    </tr>\n",
       "    <tr>\n",
       "      <th>20637</th>\n",
       "      <td>-121.22</td>\n",
       "      <td>39.43</td>\n",
       "      <td>17.0</td>\n",
       "      <td>2254.0</td>\n",
       "      <td>485.0</td>\n",
       "      <td>1007.0</td>\n",
       "      <td>433.0</td>\n",
       "      <td>1.7000</td>\n",
       "      <td>92300.0</td>\n",
       "      <td>INLAND</td>\n",
       "    </tr>\n",
       "    <tr>\n",
       "      <th>20638</th>\n",
       "      <td>-121.32</td>\n",
       "      <td>39.43</td>\n",
       "      <td>18.0</td>\n",
       "      <td>1860.0</td>\n",
       "      <td>409.0</td>\n",
       "      <td>741.0</td>\n",
       "      <td>349.0</td>\n",
       "      <td>1.8672</td>\n",
       "      <td>84700.0</td>\n",
       "      <td>INLAND</td>\n",
       "    </tr>\n",
       "    <tr>\n",
       "      <th>20639</th>\n",
       "      <td>-121.24</td>\n",
       "      <td>39.37</td>\n",
       "      <td>16.0</td>\n",
       "      <td>2785.0</td>\n",
       "      <td>616.0</td>\n",
       "      <td>1387.0</td>\n",
       "      <td>530.0</td>\n",
       "      <td>2.3886</td>\n",
       "      <td>89400.0</td>\n",
       "      <td>INLAND</td>\n",
       "    </tr>\n",
       "  </tbody>\n",
       "</table>\n",
       "</div>"
      ],
      "text/plain": [
       "       longitude  latitude  housing_median_age  total_rooms  total_bedrooms  \\\n",
       "20635    -121.09     39.48                25.0       1665.0           374.0   \n",
       "20636    -121.21     39.49                18.0        697.0           150.0   \n",
       "20637    -121.22     39.43                17.0       2254.0           485.0   \n",
       "20638    -121.32     39.43                18.0       1860.0           409.0   \n",
       "20639    -121.24     39.37                16.0       2785.0           616.0   \n",
       "\n",
       "       population  households  median_income  median_house_value  \\\n",
       "20635       845.0       330.0         1.5603             78100.0   \n",
       "20636       356.0       114.0         2.5568             77100.0   \n",
       "20637      1007.0       433.0         1.7000             92300.0   \n",
       "20638       741.0       349.0         1.8672             84700.0   \n",
       "20639      1387.0       530.0         2.3886             89400.0   \n",
       "\n",
       "      ocean_proximity  \n",
       "20635          INLAND  \n",
       "20636          INLAND  \n",
       "20637          INLAND  \n",
       "20638          INLAND  \n",
       "20639          INLAND  "
      ]
     },
     "execution_count": 4,
     "metadata": {},
     "output_type": "execute_result"
    }
   ],
   "source": [
    "vivienda.tail()"
   ]
  },
  {
   "cell_type": "code",
   "execution_count": 7,
   "id": "c9c263a5",
   "metadata": {
    "slideshow": {
     "slide_type": "slide"
    }
   },
   "outputs": [],
   "source": [
    "vivienda.rename(columns = {'longitude':'longitud','latitude':'latitud',\\\n",
    "                           'housing_median_age':'antiguedad_media','total_rooms':'total_salas',\\\n",
    "                           'total_bedrooms':'total_habitaciones',\\\n",
    "                           'population':'población','households':'n_hogares',\\\n",
    "                           'median_income':'ingreso_medio','median_house_value':'valor_medio_casa',\\\n",
    "                           'ocean_proximity':'proximidad_playa'}, inplace = True)"
   ]
  },
  {
   "cell_type": "markdown",
   "id": "6d42396e",
   "metadata": {
    "slideshow": {
     "slide_type": "slide"
    }
   },
   "source": [
    "# Un vistazo a ellos"
   ]
  },
  {
   "cell_type": "markdown",
   "id": "ae0383f6",
   "metadata": {
    "slideshow": {
     "slide_type": "slide"
    }
   },
   "source": [
    "Hay 10 atributos (puedes ver los primeros 9 en la captura de pantalla):    \n",
    "* `longitud`, \n",
    "* `latitud`, \n",
    "* `antiguedad_media`, \n",
    "* `total_salas`, \n",
    "* `total_habitaciones`, \n",
    "* `población`, \n",
    "* `n_hogares`, \n",
    "* `ingreso_medio`, \n",
    "* `valor_medio_casa`, y \n",
    "* `proximidad_playa`."
   ]
  },
  {
   "cell_type": "markdown",
   "id": "6115f15e",
   "metadata": {
    "slideshow": {
     "slide_type": "slide"
    }
   },
   "source": [
    "El método `info()` es útil para obtener una descripción rápida de los datos, en particular \n",
    "* el número total de filas,   \n",
    "* el tipo de cada atributo y   \n",
    "* el número de valores `no nulos`"
   ]
  },
  {
   "cell_type": "code",
   "execution_count": 9,
   "id": "a793571b",
   "metadata": {
    "slideshow": {
     "slide_type": "slide"
    }
   },
   "outputs": [
    {
     "name": "stdout",
     "output_type": "stream",
     "text": [
      "<class 'pandas.core.frame.DataFrame'>\n",
      "RangeIndex: 20640 entries, 0 to 20639\n",
      "Data columns (total 10 columns):\n",
      " #   Column              Non-Null Count  Dtype  \n",
      "---  ------              --------------  -----  \n",
      " 0   longitud            20640 non-null  float64\n",
      " 1   latitud             20640 non-null  float64\n",
      " 2   antiguedad          20640 non-null  float64\n",
      " 3   total_salas         20640 non-null  float64\n",
      " 4   total_habitaciones  20433 non-null  float64\n",
      " 5   población           20640 non-null  float64\n",
      " 6   n_hogares           20640 non-null  float64\n",
      " 7   ingresos            20640 non-null  float64\n",
      " 8   valor_medio_casa    20640 non-null  float64\n",
      " 9   proximidad_playa    20640 non-null  object \n",
      "dtypes: float64(9), object(1)\n",
      "memory usage: 1.6+ MB\n"
     ]
    }
   ],
   "source": [
    "vivienda.info() "
   ]
  },
  {
   "cell_type": "markdown",
   "id": "36b4dfd9",
   "metadata": {
    "slideshow": {
     "slide_type": "slide"
    }
   },
   "source": [
    "Hay 20,640 instancias en el conjunto de datos, \n",
    "* lo que significa que es bastante pequeño para los estándares de Machine Learning, \n",
    "* pero es perfecto para comenzar."
   ]
  },
  {
   "cell_type": "markdown",
   "id": "6b2eb717",
   "metadata": {
    "slideshow": {
     "slide_type": "slide"
    }
   },
   "source": [
    "* Observe que el atributo `total_habitaciones` tiene solo 20,433 valores no nulos, \n",
    "* lo que significa que 207 distritos carecen de esta característica."
   ]
  },
  {
   "cell_type": "markdown",
   "id": "51c06332",
   "metadata": {
    "slideshow": {
     "slide_type": "slide"
    }
   },
   "source": [
    "Tendremos que ocuparnos de esto más tarde."
   ]
  },
  {
   "cell_type": "markdown",
   "id": "ecc4569d",
   "metadata": {
    "slideshow": {
     "slide_type": "slide"
    }
   },
   "source": [
    "Todos los atributos son numéricos, excepto el campo `ocean_proximity`."
   ]
  },
  {
   "cell_type": "markdown",
   "id": "8f68860e",
   "metadata": {
    "slideshow": {
     "slide_type": "slide"
    }
   },
   "source": [
    "Su tipo es `object`, por lo que podría contener cualquier tipo de objeto Python."
   ]
  },
  {
   "cell_type": "markdown",
   "id": "0a9fd896",
   "metadata": {
    "slideshow": {
     "slide_type": "slide"
    }
   },
   "source": [
    "Pero como cargó estos datos desde un archivo CSV, sabe que debe ser un atributo de texto."
   ]
  },
  {
   "cell_type": "markdown",
   "id": "5c3af570",
   "metadata": {
    "slideshow": {
     "slide_type": "slide"
    }
   },
   "source": [
    "Cuando miró las cinco filas superiores, probablemente notó que los valores en la columna `ocean_proximity` eran repetitivos, lo que significa que probablemente sea un atributo categórico."
   ]
  },
  {
   "cell_type": "markdown",
   "id": "04f716fa",
   "metadata": {
    "slideshow": {
     "slide_type": "slide"
    }
   },
   "source": [
    "Puede averiguar \n",
    "* qué categorías existen y   \n",
    "* cuántos distritos pertenecen a cada categoría utilizando el método `value_counts()`:"
   ]
  },
  {
   "cell_type": "code",
   "execution_count": null,
   "id": "2278b937",
   "metadata": {
    "slideshow": {
     "slide_type": "slide"
    }
   },
   "outputs": [],
   "source": [
    "housing['ocean_proximity'].value_counts() "
   ]
  },
  {
   "cell_type": "markdown",
   "id": "deb39333",
   "metadata": {
    "slideshow": {
     "slide_type": "slide"
    }
   },
   "source": [
    "Veamos los otros campos."
   ]
  },
  {
   "cell_type": "markdown",
   "id": "7b502943",
   "metadata": {
    "slideshow": {
     "slide_type": "slide"
    }
   },
   "source": [
    "El método `describe()` muestra un resumen de los atributos numéricos."
   ]
  },
  {
   "cell_type": "code",
   "execution_count": null,
   "id": "e3500f4d",
   "metadata": {
    "slideshow": {
     "slide_type": "slide"
    }
   },
   "outputs": [],
   "source": [
    "housing.describe() "
   ]
  },
  {
   "cell_type": "markdown",
   "id": "ac0e2f7b",
   "metadata": {
    "slideshow": {
     "slide_type": "slide"
    }
   },
   "source": [
    "Las filas de \n",
    "\n",
    "* recuento (`count`), \n",
    "* media (`mean`),   \n",
    "* mínima (`min`) y   \n",
    "* máxima (`max`)  \n",
    "\n",
    "se explican por sí mismas."
   ]
  },
  {
   "cell_type": "markdown",
   "id": "3e492087",
   "metadata": {
    "slideshow": {
     "slide_type": "slide"
    }
   },
   "source": [
    "Tenga en cuenta que los valores nulos se ignoran (por ejemplo, el recuento de `total_bedrooms` es 20,433, no 20.640)."
   ]
  },
  {
   "cell_type": "markdown",
   "id": "1fd1c4c6",
   "metadata": {
    "slideshow": {
     "slide_type": "slide"
    }
   },
   "source": [
    "La fila `std` muestra la desviación estándar, que mide qué tan dispersos están los valores."
   ]
  },
  {
   "cell_type": "markdown",
   "id": "c3534391",
   "metadata": {
    "slideshow": {
     "slide_type": "slide"
    }
   },
   "source": [
    "Las filas $25\\%$, $50\\%$ y $75\\%$ muestran los percentiles correspondientes:   \n",
    "\n",
    "* un percentil indica el valor por debajo del cual cae un porcentaje determinado de observaciones en \n",
    "  un grupo de observaciones."
   ]
  },
  {
   "cell_type": "markdown",
   "id": "e6acb066",
   "metadata": {
    "slideshow": {
     "slide_type": "slide"
    }
   },
   "source": [
    "Por ejemplo,  \n",
    "\n",
    "* el 25% de los distritos tiene una \"edad media de vivienda\" (`housing_media_age`) menor de 18,   \n",
    "* mientras que el 50% tiene menos de 29 y   \n",
    "* el 75% tiene menos de 37."
   ]
  },
  {
   "cell_type": "markdown",
   "id": "43191f98",
   "metadata": {
    "slideshow": {
     "slide_type": "slide"
    }
   },
   "source": [
    "Estos a menudo se denominan  \n",
    "\n",
    "* percentil 25 (o primer cuartil), \n",
    "* mediana y \n",
    "* percentil 75 (o tercer cuartil)."
   ]
  },
  {
   "cell_type": "markdown",
   "id": "418fff58",
   "metadata": {
    "slideshow": {
     "slide_type": "slide"
    }
   },
   "source": [
    "Otra forma rápida de tener una idea del tipo de datos con los que está tratando es trazar un histograma para cada atributo numérico."
   ]
  },
  {
   "cell_type": "markdown",
   "id": "eb4a96c4",
   "metadata": {
    "slideshow": {
     "slide_type": "slide"
    }
   },
   "source": [
    "Un histograma muestra \n",
    "\n",
    "* el número de instancias (en el eje vertical) que tienen un rango de valores dado (en el eje horizontal)."
   ]
  },
  {
   "cell_type": "markdown",
   "id": "65b6cce6",
   "metadata": {
    "slideshow": {
     "slide_type": "slide"
    }
   },
   "source": [
    "Puede trazar este atributo a la vez, o puede llamar al método `hist()` en todo el conjunto de datos (como se muestra en el siguiente ejemplo de código), y trazará un histograma para cada atributo numérico. "
   ]
  },
  {
   "cell_type": "code",
   "execution_count": null,
   "id": "84c261cf",
   "metadata": {
    "slideshow": {
     "slide_type": "slide"
    }
   },
   "outputs": [],
   "source": [
    " \n",
    "#import matplotlib.pyplot as plt\n",
    "#plt.style.use('dark_background') \n",
    "  \n",
    "housing.hist(bins=50, figsize = (25,15))\n",
    "#plt.show()"
   ]
  },
  {
   "cell_type": "markdown",
   "id": "b5b63869",
   "metadata": {
    "slideshow": {
     "slide_type": "slide"
    }
   },
   "source": [
    "## Nota"
   ]
  },
  {
   "cell_type": "markdown",
   "id": "774e7561",
   "metadata": {
    "slideshow": {
     "slide_type": "slide"
    }
   },
   "source": [
    "El método `hist()` se basa en Matplotlib. "
   ]
  },
  {
   "cell_type": "markdown",
   "id": "63e70508",
   "metadata": {
    "slideshow": {
     "slide_type": "slide"
    }
   },
   "source": [
    "el atributo de ingreso medio (`median income`) no parece estar expresado en dólares estadounidenses (USD)."
   ]
  },
  {
   "cell_type": "markdown",
   "id": "722fa8f0",
   "metadata": {
    "slideshow": {
     "slide_type": "slide"
    }
   },
   "source": [
    "Después de consultar con el equipo que recopiló los datos, se le informa que los datos se han escalado y con un tope de 15 (en realidad, 15.0001) para ingresos medios más altos, y en 0.5 (en realidad, 0.4999) para ingresos medios más bajos. "
   ]
  },
  {
   "cell_type": "markdown",
   "id": "2bf2cd44",
   "metadata": {
    "slideshow": {
     "slide_type": "slide"
    }
   },
   "source": [
    "Los números representan aproximadamente decenas de miles de dólares (por ejemplo, 3 en realidad significa alrededor de $ 30,000). "
   ]
  },
  {
   "cell_type": "markdown",
   "id": "e48d04ab",
   "metadata": {
    "slideshow": {
     "slide_type": "slide"
    }
   },
   "source": [
    "Trabajar con atributos preprocesados es común en Machine Learning, y no es necesariamente un problema, pero debe intentar comprender cómo se calcularon los datos."
   ]
  },
  {
   "cell_type": "markdown",
   "id": "56dfac9c",
   "metadata": {
    "slideshow": {
     "slide_type": "slide"
    }
   },
   "source": [
    "También se limitaron \n",
    "* la antiguedad de vivienda y \n",
    "* el valor medio de la vivienda. "
   ]
  },
  {
   "cell_type": "markdown",
   "id": "a48999cb",
   "metadata": {
    "slideshow": {
     "slide_type": "slide"
    }
   },
   "source": [
    "Este último puede ser un problema grave ya que es su atributo de destino (sus etiquetas). "
   ]
  },
  {
   "cell_type": "markdown",
   "id": "3c6c848d",
   "metadata": {
    "slideshow": {
     "slide_type": "slide"
    }
   },
   "source": [
    "Sus algoritmos de aprendizaje automático pueden aprender que los precios nunca superen ese límite. "
   ]
  },
  {
   "cell_type": "markdown",
   "id": "6a8ad622",
   "metadata": {
    "slideshow": {
     "slide_type": "slide"
    }
   },
   "source": [
    "Debe consultar con su equipo cliente (el equipo que use la salida de su sistema) para ver si esto es un problema o no. "
   ]
  },
  {
   "cell_type": "markdown",
   "id": "f1f31373",
   "metadata": {
    "slideshow": {
     "slide_type": "slide"
    }
   },
   "source": [
    "Si te dicen que necesitan predicciones precisas incluso más allá de undefined,000 $, entonces tiene dos opciones:"
   ]
  },
  {
   "cell_type": "markdown",
   "id": "a1d11538",
   "metadata": {
    "slideshow": {
     "slide_type": "slide"
    }
   },
   "source": [
    "a. Reúna las etiquetas adecuadas para los distritos cuyas etiquetas fueron tapadas.  \n",
    "\n",
    "b. Elimine esos distritos del conjunto de capacitación (y también del conjunto de prueba, ya que su sistema no debe evaluarse mal si predice valores más allá de $\\$500,000$)."
   ]
  },
  {
   "cell_type": "markdown",
   "id": "c9cf1e9a",
   "metadata": {
    "slideshow": {
     "slide_type": "slide"
    }
   },
   "source": [
    "Estos atributos tienen escalas muy diferentes. Discutiremos esto más adelante en este capítulo, cuando exploremos el escalado de características."
   ]
  },
  {
   "cell_type": "markdown",
   "id": "19238cad",
   "metadata": {
    "slideshow": {
     "slide_type": "slide"
    }
   },
   "source": [
    "Por último, muchos histogramas tienen una gran cola: se extienden mucho más a la derecha de la mediana que a la izquierda. "
   ]
  },
  {
   "cell_type": "markdown",
   "id": "26bd2294",
   "metadata": {
    "slideshow": {
     "slide_type": "slide"
    }
   },
   "source": [
    "Esto puede hacer que sea un poco más difícil para algunos algoritmos de aprendizaje automático detectar patrones. "
   ]
  },
  {
   "cell_type": "markdown",
   "id": "240e9474",
   "metadata": {
    "slideshow": {
     "slide_type": "slide"
    }
   },
   "source": [
    "Es de esperar que ahora comprenda mejor el tipo de datos que está tratando."
   ]
  },
  {
   "cell_type": "markdown",
   "id": "3b283a8b",
   "metadata": {
    "slideshow": {
     "slide_type": "slide"
    }
   },
   "source": [
    "## Crear un conjunto de prueba"
   ]
  },
  {
   "cell_type": "markdown",
   "id": "19d4d4d9",
   "metadata": {
    "slideshow": {
     "slide_type": "slide"
    }
   },
   "source": [
    "* solo ha echado un vistazo rápido a los datos, y   \n",
    "* seguramente debería aprender mucho más sobre ellos antes de decidir qué algoritmos usar."
   ]
  },
  {
   "cell_type": "markdown",
   "id": "fa8faab0",
   "metadata": {
    "slideshow": {
     "slide_type": "slide"
    }
   },
   "source": [
    "* Nuestro cerebro es un increíble sistema de detección de patrones,   \n",
    "* lo que significa que es muy propenso a sobreajustarse: \n",
    "* si observa el conjunto de datos, puede proponer algún patrón aparentemente interesante en los **datos dados** que lo lleve a seleccionar un tipo particular de modelo de aprendizaje automático. "
   ]
  },
  {
   "cell_type": "markdown",
   "id": "ac8687c4",
   "metadata": {
    "slideshow": {
     "slide_type": "slide"
    }
   },
   "source": [
    "* Cuando calcule el **error de generalización** utilizando el **conjunto de prueba**, generalmente encontrará que su estimación era demasiado optimista pues se dará cuenta que el modelo diseñadono **no** funciona tan bien como se esperaba. \n"
   ]
  },
  {
   "cell_type": "markdown",
   "id": "f8ead9e2",
   "metadata": {
    "slideshow": {
     "slide_type": "slide"
    }
   },
   "source": [
    "* La creación de un **conjunto de prueba** es teóricamente simple: \n",
    "* elija algunas instancias u observaciones al azar,\n",
    "* generalmente el 20% del conjunto de datos \n",
    "* (o menos si su conjunto de datos es muy grande), y déjelas a un lado:"
   ]
  },
  {
   "cell_type": "markdown",
   "id": "3bbac30c",
   "metadata": {
    "slideshow": {
     "slide_type": "slide"
    }
   },
   "source": [
    "## Observemos que hace la función np.random.permutation() "
   ]
  },
  {
   "cell_type": "code",
   "execution_count": null,
   "id": "cef5b62e",
   "metadata": {
    "slideshow": {
     "slide_type": "slide"
    }
   },
   "outputs": [],
   "source": [
    "import numpy as np \n",
    "segmento_enteros = list(np.arange(3))\n",
    "indices_revueltos = np.random.permutation(segmento_enteros)      \n",
    "indices_revueltos"
   ]
  },
  {
   "cell_type": "code",
   "execution_count": null,
   "id": "9b2139fe",
   "metadata": {
    "slideshow": {
     "slide_type": "slide"
    }
   },
   "outputs": [],
   "source": [
    "np.random.permutation(3)"
   ]
  },
  {
   "cell_type": "markdown",
   "id": "30bcacbb",
   "metadata": {
    "slideshow": {
     "slide_type": "slide"
    }
   },
   "source": [
    "# Construcción de función `dividir_entrenamiento_prueba` con metodología de desarrollo creciente"
   ]
  },
  {
   "cell_type": "code",
   "execution_count": null,
   "id": "49c5579d",
   "metadata": {
    "slideshow": {
     "slide_type": "slide"
    }
   },
   "outputs": [],
   "source": [
    "def dividir_en_entrenamiento_prueba(datos, porcentaje_prueba = 0.20):\n",
    "    indices_barajados = np.random.permutation(len(datos)) \n",
    "    tamaño_conjunto_prueba = int(len(datos)*porcentaje_prueba)  \n",
    "    indices_prueba = indices_barajados[:tamaño_conjunto_prueba]\n",
    "    indices_entrenamiento = indices_barajados[tamaño_conjunto_prueba:]\n",
    "    return datos.iloc[indices_entrenamiento], datos.iloc[indices_prueba] "
   ]
  },
  {
   "cell_type": "code",
   "execution_count": null,
   "id": "f9e8e01e",
   "metadata": {
    "slideshow": {
     "slide_type": "slide"
    }
   },
   "outputs": [],
   "source": [
    "def dividir_en_entrenamiento_prueba(datos, porcentaje_prueba = 0.20):\n",
    "    indices_barajados = np.random.permutation(len(datos))              # cálculo del número de instancias\n",
    "    \n",
    "    return indices_barajados"
   ]
  },
  {
   "cell_type": "code",
   "execution_count": null,
   "id": "cdd2f10f",
   "metadata": {},
   "outputs": [],
   "source": [
    "dividir_en_entrenamiento_prueba(datos, porcentaje_prueba = 0.20)"
   ]
  },
  {
   "cell_type": "code",
   "execution_count": null,
   "id": "8f4290d3",
   "metadata": {
    "slideshow": {
     "slide_type": "slide"
    }
   },
   "outputs": [],
   "source": [
    "def dividir_en_entrenamiento_prueba(datos, porcentaje_prueba = 0.20):\n",
    "    indices_barajados = np.random.permutation(len(datos)) \n",
    "    tamaño_conjunto_prueba = int(len(datos)*porcentaje_prueba)                # cálculo del número de instancias\n",
    "    \n",
    "    return tamaño_conjunto_prueba"
   ]
  },
  {
   "cell_type": "code",
   "execution_count": null,
   "id": "1929988a",
   "metadata": {
    "slideshow": {
     "slide_type": "slide"
    }
   },
   "outputs": [],
   "source": [
    "def dividir_en_entrenamiento_prueba(datos, porcentaje_prueba = 0.20):\n",
    "    indices_barajados = np.random.permutation(len(datos)) \n",
    "    tamaño_conjunto_prueba = int(len(datos)*porcentaje_prueba)  \n",
    "    indices_prueba = indices_barajados[:tamaño_conjunto_prueba]\n",
    "    \n",
    "    return indices_prueba "
   ]
  },
  {
   "cell_type": "code",
   "execution_count": null,
   "id": "2cbc6e36",
   "metadata": {
    "slideshow": {
     "slide_type": "slide"
    }
   },
   "outputs": [],
   "source": [
    "def dividir_en_entrenamiento_prueba(datos, porcentaje_prueba = 0.20):\n",
    "    indices_barajados = np.random.permutation(len(datos)) \n",
    "    tamaño_conjunto_prueba = int(len(datos)*porcentaje_prueba)  \n",
    "    indices_prueba = indices_barajados[:tamaño_conjunto_prueba]\n",
    "    indices_entrenamiento = indices_barajados[tamaño_conjunto_prueba:]\n",
    "    return indices_entrenamiento"
   ]
  },
  {
   "cell_type": "code",
   "execution_count": null,
   "id": "48873069",
   "metadata": {
    "slideshow": {
     "slide_type": "slide"
    }
   },
   "outputs": [],
   "source": [
    "def dividir_en_entrenamiento_prueba(datos, porcentaje_prueba = 0.20):\n",
    "    indices_barajados = np.random.permutation(len(datos)) \n",
    "    tamaño_conjunto_prueba = int(len(datos)*porcentaje_prueba)  \n",
    "    indices_prueba = indices_barajados[:tamaño_conjunto_prueba]\n",
    "    indices_entrenamiento = indices_barajados[tamaño_conjunto_prueba:]\n",
    "    return datos.iloc[indices_entrenamiento], datos.iloc[indices_prueba] "
   ]
  },
  {
   "cell_type": "markdown",
   "id": "8e5736de",
   "metadata": {
    "slideshow": {
     "slide_type": "slide"
    }
   },
   "source": [
    "Luego puede usar esta función utilizando asignación múltiple:"
   ]
  },
  {
   "cell_type": "code",
   "execution_count": null,
   "id": "2e6edc81",
   "metadata": {
    "slideshow": {
     "slide_type": "slide"
    }
   },
   "outputs": [],
   "source": [
    "train_set, test_set = dividir_en_entrenamiento_prueba(housing) "
   ]
  },
  {
   "cell_type": "markdown",
   "id": "d7b433bb",
   "metadata": {
    "slideshow": {
     "slide_type": "slide"
    }
   },
   "source": [
    "## Verificación del proceso de creación del test set"
   ]
  },
  {
   "cell_type": "code",
   "execution_count": null,
   "id": "de64b03e",
   "metadata": {
    "slideshow": {
     "slide_type": "slide"
    }
   },
   "outputs": [],
   "source": [
    "len(housing), len(train_set), len(test_set)   "
   ]
  },
  {
   "cell_type": "code",
   "execution_count": null,
   "id": "61f1af8d",
   "metadata": {
    "slideshow": {
     "slide_type": "slide"
    }
   },
   "outputs": [],
   "source": [
    "len(train_set)/len(housing), len(test_set)/len(housing)   "
   ]
  },
  {
   "cell_type": "markdown",
   "id": "766527b8",
   "metadata": {
    "slideshow": {
     "slide_type": "slide"
    }
   },
   "source": [
    "* esto funciona, pero no es perfecto: \n",
    "* si ejecuta el programa nuevamente, ¡generará un conjunto de prueba diferente! "
   ]
  },
  {
   "cell_type": "markdown",
   "id": "29ea60a7",
   "metadata": {
    "slideshow": {
     "slide_type": "slide"
    }
   },
   "source": [
    "Con el tiempo, usted (o sus algoritmos de aprendizaje automático) podrán ver el conjunto de datos completo, que es lo que desea evitar."
   ]
  },
  {
   "cell_type": "markdown",
   "id": "58e1555b",
   "metadata": {
    "slideshow": {
     "slide_type": "slide"
    }
   },
   "source": [
    "Una solución es guardar el conjunto de prueba en la primera ejecución y luego cargarlo en ejecuciones posteriores. "
   ]
  },
  {
   "cell_type": "code",
   "execution_count": null,
   "id": "463695cf",
   "metadata": {
    "slideshow": {
     "slide_type": "slide"
    }
   },
   "outputs": [],
   "source": [
    "train_set, test_set = dividir_en_entrenamiento_prueba(housing) "
   ]
  },
  {
   "cell_type": "code",
   "execution_count": null,
   "id": "7bf9da10",
   "metadata": {
    "slideshow": {
     "slide_type": "slide"
    }
   },
   "outputs": [],
   "source": [
    "train_set.to_csv('housing_train.csv', index = False)\n",
    "test_set.to_csv('housing_test.csv', index = False)   "
   ]
  },
  {
   "cell_type": "code",
   "execution_count": null,
   "id": "6520b4e6",
   "metadata": {
    "slideshow": {
     "slide_type": "slide"
    }
   },
   "outputs": [],
   "source": [
    "housing_train = pd.read_csv('housing_train.csv') "
   ]
  },
  {
   "cell_type": "code",
   "execution_count": null,
   "id": "ba7d6344",
   "metadata": {
    "slideshow": {
     "slide_type": "slide"
    }
   },
   "outputs": [],
   "source": [
    "len(housing_train)"
   ]
  },
  {
   "cell_type": "markdown",
   "id": "28b0e60f",
   "metadata": {
    "slideshow": {
     "slide_type": "slide"
    }
   },
   "source": [
    "Otra opción es establecer la semilla del generador de números aleatorios (por ejemplo, con `np.random.seed(42)`) antes de llamar a `np.random.permutation()` para que siempre genera los mismos índices mezclados."
   ]
  },
  {
   "cell_type": "code",
   "execution_count": null,
   "id": "20690192",
   "metadata": {
    "slideshow": {
     "slide_type": "slide"
    }
   },
   "outputs": [],
   "source": [
    "import numpy as np \n",
    "import pandas as pd \n",
    "housing = pd.read_csv('housing.csv')\n",
    "\n",
    "np.random.seed(42)          # Establecimiento de la semilla del generador\n",
    "\n",
    "\n",
    "def dividir_en_entrenamiento_prueba(data, tasa_prueba = 0.2):\n",
    "    indices_barajados = np.random.permutation(len(data)) \n",
    "    tamano_conjunto_prueba = int(len(data)*tasa_prueba)  \n",
    "    indices_prueba = indices_barajados[:tamano_conjunto_prueba]\n",
    "    indices_entrenamiento = indices_barajados[tamano_conjunto_prueba:]\n",
    "    return data.iloc[indices_entrenamiento], data.iloc[indices_prueba] \n",
    "\n",
    "train_set, test_set = dividir_en_entrenamiento_prueba(housing)\n",
    "test_set.head() "
   ]
  },
  {
   "cell_type": "markdown",
   "id": "24c45a2e",
   "metadata": {
    "slideshow": {
     "slide_type": "slide"
    }
   },
   "source": [
    "Pero ambas soluciones se romperán la próxima vez que obtenga un conjunto de datos actualizado."
   ]
  },
  {
   "cell_type": "markdown",
   "id": "bbba8276",
   "metadata": {
    "slideshow": {
     "slide_type": "slide"
    }
   },
   "source": [
    "# Implementación de Scikit-Learn para dividir en conjunto de entrenamiento y prueba"
   ]
  },
  {
   "cell_type": "markdown",
   "id": "e4296cc4",
   "metadata": {
    "slideshow": {
     "slide_type": "slide"
    }
   },
   "source": [
    "Scikit-Learn proporciona algunas funciones para dividir conjuntos de datos en varios subconjuntos de varias formas."
   ]
  },
  {
   "cell_type": "markdown",
   "id": "a42d948d",
   "metadata": {
    "slideshow": {
     "slide_type": "slide"
    }
   },
   "source": [
    "La función más simple es `train_test_split()`, que hace prácticamente lo mismo que la función `dividir_en_entrenamiento_prueba(data, tasa_prueba = 0.2)`, con un par de características adicionales."
   ]
  },
  {
   "cell_type": "markdown",
   "id": "b37c6003",
   "metadata": {
    "slideshow": {
     "slide_type": "slide"
    }
   },
   "source": [
    "hay un parámetro `random_state` que le permite establecer la semilla del generador aleatorio."
   ]
  },
  {
   "cell_type": "code",
   "execution_count": null,
   "id": "1410d2bc",
   "metadata": {
    "slideshow": {
     "slide_type": "slide"
    }
   },
   "outputs": [],
   "source": [
    "from sklearn.model_selection import train_test_split\n",
    "train_set, test_set = train_test_split(housing, test_size=0.2, random_state=42)"
   ]
  },
  {
   "cell_type": "markdown",
   "id": "46accf96",
   "metadata": {
    "slideshow": {
     "slide_type": "slide"
    }
   },
   "source": [
    "Hasta ahora hemos considerado métodos de muestreo puramente aleatorios."
   ]
  },
  {
   "cell_type": "markdown",
   "id": "943e3495",
   "metadata": {
    "slideshow": {
     "slide_type": "slide"
    }
   },
   "source": [
    "* En general, esto está bien si su conjunto de datos es lo suficientemente grande (especialmente en relación con la cantidad de atributos), \n",
    "* pero si no lo es, corre el riesgo de introducir un **sesgo de muestreo** significativo."
   ]
  },
  {
   "cell_type": "markdown",
   "id": "2d105fe5",
   "metadata": {
    "slideshow": {
     "slide_type": "slide"
    }
   },
   "source": [
    "Cuando una empresa de encuestas decide llamar a 1.000 personas para hacerles algunas preguntas, no elige a 1.000 personas al azar en una guía telefónica."
   ]
  },
  {
   "cell_type": "markdown",
   "id": "e56b9990",
   "metadata": {
    "slideshow": {
     "slide_type": "slide"
    }
   },
   "source": [
    "Intentan asegurarse de que estas 1.000 personas sean representativas de toda la población."
   ]
  },
  {
   "cell_type": "markdown",
   "id": "78013a69",
   "metadata": {
    "slideshow": {
     "slide_type": "slide"
    }
   },
   "source": [
    "* Por ejemplo, la población de EE. UU. es 51,3% de mujeres y 48,7% de hombres, \n",
    "* por lo que una encuesta bien realizada en los EE. UU. trataría de mantener esta proporción en la muestra: 513 mujeres y 487 hombres."
   ]
  },
  {
   "cell_type": "markdown",
   "id": "ae1381f2",
   "metadata": {
    "slideshow": {
     "slide_type": "slide"
    }
   },
   "source": [
    "Esto se denomina muestreo estratificado:  \n",
    "\n",
    "* la población se divide en subgrupos homogéneos llamados estratos, y se muestrea el número correcto de instancias de cada estrato para garantizar que el conjunto de prueba sea representativo de la población general."
   ]
  },
  {
   "cell_type": "markdown",
   "id": "9f4c5196",
   "metadata": {
    "slideshow": {
     "slide_type": "slide"
    }
   },
   "source": [
    "Si las personas que realizan la encuesta utilizaran un muestreo puramente aleatorio, habría aproximadamente un 12% de posibilidades de muestrear un conjunto de pruebas sesgado que fuera menos del 49% de mujeres o más del 54% de mujeres."
   ]
  },
  {
   "cell_type": "markdown",
   "id": "22c6a0e1",
   "metadata": {
    "slideshow": {
     "slide_type": "slide"
    }
   },
   "source": [
    "De cualquier manera, los resultados de la encuesta estarían significativamente sesgados."
   ]
  },
  {
   "cell_type": "markdown",
   "id": "f43f238c",
   "metadata": {
    "slideshow": {
     "slide_type": "slide"
    }
   },
   "source": [
    "Suponga que conversó con expertos que le dijeron que el ingreso medio (`median_income`) es un atributo muy importante para predecir los precios medios de la vivienda."
   ]
  },
  {
   "cell_type": "markdown",
   "id": "2038ef0c",
   "metadata": {
    "slideshow": {
     "slide_type": "slide"
    }
   },
   "source": [
    "Es posible que desee asegurarse de que el conjunto de prueba sea representativo de las diversas categorías de ingresos en todo el conjunto de datos."
   ]
  },
  {
   "cell_type": "markdown",
   "id": "cb59fadd",
   "metadata": {
    "slideshow": {
     "slide_type": "slide"
    }
   },
   "source": [
    "Dado que el ingreso medio(`median_income`) es un atributo numérico continuo, primero debe crear un atributo de categoría de ingresos."
   ]
  },
  {
   "cell_type": "markdown",
   "id": "3fc969f7",
   "metadata": {
    "slideshow": {
     "slide_type": "slide"
    }
   },
   "source": [
    "Observemos el histograma de ingresos medios más de cerca: la mayoría de los valores de ingresos medios se agrupan alrededor de 1,5 a 6 (es decir, de $ 15 000 a $ 60 000), pero algunos ingresos medios van mucho más allá de 6."
   ]
  },
  {
   "cell_type": "code",
   "execution_count": null,
   "id": "f73c06f7",
   "metadata": {
    "slideshow": {
     "slide_type": "slide"
    }
   },
   "outputs": [],
   "source": []
  },
  {
   "cell_type": "code",
   "execution_count": null,
   "id": "f022b657",
   "metadata": {
    "slideshow": {
     "slide_type": "slide"
    }
   },
   "outputs": [],
   "source": []
  },
  {
   "cell_type": "code",
   "execution_count": null,
   "id": "0d582714",
   "metadata": {},
   "outputs": [],
   "source": []
  },
  {
   "cell_type": "code",
   "execution_count": 4,
   "id": "1a64b112",
   "metadata": {},
   "outputs": [],
   "source": [
    "import numpy as np \n",
    "n = 4\n",
    "T = np.zeros((4,4)) "
   ]
  },
  {
   "cell_type": "code",
   "execution_count": null,
   "id": "9f8a7242",
   "metadata": {},
   "outputs": [],
   "source": []
  },
  {
   "cell_type": "code",
   "execution_count": null,
   "id": "57a250f2",
   "metadata": {},
   "outputs": [],
   "source": []
  },
  {
   "cell_type": "code",
   "execution_count": null,
   "id": "6f4f7d67",
   "metadata": {},
   "outputs": [],
   "source": []
  },
  {
   "cell_type": "code",
   "execution_count": null,
   "id": "9685ea89",
   "metadata": {},
   "outputs": [],
   "source": []
  },
  {
   "cell_type": "code",
   "execution_count": null,
   "id": "0b309223",
   "metadata": {},
   "outputs": [],
   "source": []
  },
  {
   "cell_type": "code",
   "execution_count": null,
   "id": "1ac7a43a",
   "metadata": {},
   "outputs": [],
   "source": []
  },
  {
   "cell_type": "code",
   "execution_count": null,
   "id": "69947f2d",
   "metadata": {},
   "outputs": [],
   "source": []
  }
 ],
 "metadata": {
  "celltoolbar": "Slideshow",
  "kernelspec": {
   "display_name": "Python 3 (ipykernel)",
   "language": "python",
   "name": "python3"
  },
  "language_info": {
   "codemirror_mode": {
    "name": "ipython",
    "version": 3
   },
   "file_extension": ".py",
   "mimetype": "text/x-python",
   "name": "python",
   "nbconvert_exporter": "python",
   "pygments_lexer": "ipython3",
   "version": "3.9.7"
  },
  "rise": {
   "enable_chalkboard": true,
   "theme": "sky",
   "transition": "zoom"
  }
 },
 "nbformat": 4,
 "nbformat_minor": 5
}
