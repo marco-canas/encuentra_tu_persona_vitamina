{
 "cells": [
  {
   "cell_type": "markdown",
   "id": "f8738d10",
   "metadata": {
    "slideshow": {
     "slide_type": "slide"
    }
   },
   "source": [
    "<table align=\"left\">\n",
    "  <td>\n",
    "    <a href=\"https://colab.research.google.com/github/marco-canas/intro-Machine-Learning/blob/main/classes/class_16_end_to_end_1/class_16_end_to_end_1.ipynb\" target=\"_parent\"><img src=\"https://colab.research.google.com/assets/colab-badge.svg\" alt=\"Open In Colab\"/></a>\n",
    "  </td>\n",
    "  <td>\n",
    "    <a target=\"_blank\" href=\"https://kaggle.com/kernels/welcome?src=https://github.com/marco-canas/intro-Machine-Learning/blob/main/classes/class_16_end_to_end_1/class_16_end_to_end_1.ipynb\"><img src=\"https://kaggle.com/static/images/open-in-kaggle.svg\" /></a>\n",
    "  </td>\n",
    "</table> "
   ]
  },
  {
   "cell_type": "markdown",
   "id": "abbc5af3",
   "metadata": {
    "slideshow": {
     "slide_type": "slide"
    }
   },
   "source": [
    "# Clase 16 End to end Parte 1"
   ]
  },
  {
   "cell_type": "markdown",
   "id": "d4101f7d",
   "metadata": {
    "slideshow": {
     "slide_type": "slide"
    }
   },
   "source": [
    "## Objetivo:  \n",
    "\n",
    "Trabajar en un ejemplo de proyecto de principio a fin, pretendiendo ser un científico de datos contratado recientemente en una empresa inmobiliaria. "
   ]
  },
  {
   "cell_type": "markdown",
   "id": "b6e261df",
   "metadata": {
    "slideshow": {
     "slide_type": "slide"
    }
   },
   "source": [
    "# Get the data"
   ]
  },
  {
   "cell_type": "code",
   "execution_count": 22,
   "id": "b656d4a9",
   "metadata": {
    "slideshow": {
     "slide_type": "slide"
    }
   },
   "outputs": [],
   "source": [
    "import pandas as pd\n",
    "housing = pd.read_csv('housing.csv')"
   ]
  },
  {
   "cell_type": "code",
   "execution_count": null,
   "id": "858764f1",
   "metadata": {
    "scrolled": true,
    "slideshow": {
     "slide_type": "slide"
    }
   },
   "outputs": [],
   "source": [
    "housing"
   ]
  },
  {
   "cell_type": "code",
   "execution_count": null,
   "id": "1608cab8",
   "metadata": {
    "slideshow": {
     "slide_type": "slide"
    }
   },
   "outputs": [],
   "source": [
    "housing.head()"
   ]
  },
  {
   "cell_type": "code",
   "execution_count": null,
   "id": "9e94143e",
   "metadata": {
    "slideshow": {
     "slide_type": "slide"
    }
   },
   "outputs": [],
   "source": [
    "housing.tail()"
   ]
  },
  {
   "cell_type": "markdown",
   "id": "6d42396e",
   "metadata": {
    "slideshow": {
     "slide_type": "slide"
    }
   },
   "source": [
    "# Un vistazo a ellos"
   ]
  },
  {
   "cell_type": "markdown",
   "id": "ae0383f6",
   "metadata": {
    "slideshow": {
     "slide_type": "slide"
    }
   },
   "source": [
    "Hay 10 atributos (puedes ver los primeros 9 en la captura de pantalla):    \n",
    "* `longitude`, \n",
    "* `latitude`, \n",
    "* `housing_median_age`, \n",
    "* `total_rooms`, \n",
    "* `total_bedrooms`, \n",
    "* `population`, \n",
    "* `households`, \n",
    "* `median_income`, \n",
    "* `median_house_value`, y \n",
    "* `ocean_proximity`."
   ]
  },
  {
   "cell_type": "markdown",
   "id": "6115f15e",
   "metadata": {
    "slideshow": {
     "slide_type": "slide"
    }
   },
   "source": [
    "El método `info()` es útil para obtener una descripción rápida de los datos, en particular \n",
    "* el número total de filas,   \n",
    "* el tipo de cada atributo y   \n",
    "* el número de valores `no nulos`"
   ]
  },
  {
   "cell_type": "code",
   "execution_count": null,
   "id": "a793571b",
   "metadata": {
    "slideshow": {
     "slide_type": "slide"
    }
   },
   "outputs": [],
   "source": [
    "housing.info() "
   ]
  },
  {
   "cell_type": "markdown",
   "id": "36b4dfd9",
   "metadata": {
    "slideshow": {
     "slide_type": "slide"
    }
   },
   "source": [
    "Hay 20,640 instancias en el conjunto de datos, \n",
    "* lo que significa que es bastante pequeño para los estándares de Machine Learning, \n",
    "* pero es perfecto para comenzar."
   ]
  },
  {
   "cell_type": "markdown",
   "id": "6b2eb717",
   "metadata": {
    "slideshow": {
     "slide_type": "slide"
    }
   },
   "source": [
    "* Observe que el atributo `total_bedrooms` tiene solo 20,433 valores no nulos, \n",
    "* lo que significa que 207 distritos carecen de esta característica."
   ]
  },
  {
   "cell_type": "markdown",
   "id": "51c06332",
   "metadata": {
    "slideshow": {
     "slide_type": "slide"
    }
   },
   "source": [
    "Tendremos que ocuparnos de esto más tarde."
   ]
  },
  {
   "cell_type": "markdown",
   "id": "ecc4569d",
   "metadata": {
    "slideshow": {
     "slide_type": "slide"
    }
   },
   "source": [
    "Todos los atributos son numéricos, excepto el campo `ocean_proximity`."
   ]
  },
  {
   "cell_type": "markdown",
   "id": "8f68860e",
   "metadata": {
    "slideshow": {
     "slide_type": "slide"
    }
   },
   "source": [
    "Su tipo es `object`, por lo que podría contener cualquier tipo de objeto Python."
   ]
  },
  {
   "cell_type": "markdown",
   "id": "0a9fd896",
   "metadata": {
    "slideshow": {
     "slide_type": "slide"
    }
   },
   "source": [
    "Pero como cargó estos datos desde un archivo CSV, sabe que debe ser un atributo de texto."
   ]
  },
  {
   "cell_type": "markdown",
   "id": "5c3af570",
   "metadata": {
    "slideshow": {
     "slide_type": "slide"
    }
   },
   "source": [
    "Cuando miró las cinco filas superiores, probablemente notó que los valores en la columna `ocean_proximity` eran repetitivos, lo que significa que probablemente sea un atributo categórico."
   ]
  },
  {
   "cell_type": "markdown",
   "id": "04f716fa",
   "metadata": {
    "slideshow": {
     "slide_type": "slide"
    }
   },
   "source": [
    "Puede averiguar \n",
    "* qué categorías existen y   \n",
    "* cuántos distritos pertenecen a cada categoría utilizando el método `value_counts()`:"
   ]
  },
  {
   "cell_type": "code",
   "execution_count": null,
   "id": "2278b937",
   "metadata": {
    "slideshow": {
     "slide_type": "slide"
    }
   },
   "outputs": [],
   "source": [
    "housing['ocean_proximity'].value_counts() "
   ]
  },
  {
   "cell_type": "markdown",
   "id": "deb39333",
   "metadata": {
    "slideshow": {
     "slide_type": "slide"
    }
   },
   "source": [
    "Veamos los otros campos."
   ]
  },
  {
   "cell_type": "markdown",
   "id": "7b502943",
   "metadata": {
    "slideshow": {
     "slide_type": "slide"
    }
   },
   "source": [
    "El método `describe()` muestra un resumen de los atributos numéricos."
   ]
  },
  {
   "cell_type": "code",
   "execution_count": 5,
   "id": "e3500f4d",
   "metadata": {
    "slideshow": {
     "slide_type": "slide"
    }
   },
   "outputs": [
    {
     "data": {
      "text/html": [
       "<div>\n",
       "<style scoped>\n",
       "    .dataframe tbody tr th:only-of-type {\n",
       "        vertical-align: middle;\n",
       "    }\n",
       "\n",
       "    .dataframe tbody tr th {\n",
       "        vertical-align: top;\n",
       "    }\n",
       "\n",
       "    .dataframe thead th {\n",
       "        text-align: right;\n",
       "    }\n",
       "</style>\n",
       "<table border=\"1\" class=\"dataframe\">\n",
       "  <thead>\n",
       "    <tr style=\"text-align: right;\">\n",
       "      <th></th>\n",
       "      <th>longitude</th>\n",
       "      <th>latitude</th>\n",
       "      <th>housing_median_age</th>\n",
       "      <th>total_rooms</th>\n",
       "      <th>total_bedrooms</th>\n",
       "      <th>population</th>\n",
       "      <th>households</th>\n",
       "      <th>median_income</th>\n",
       "      <th>median_house_value</th>\n",
       "    </tr>\n",
       "  </thead>\n",
       "  <tbody>\n",
       "    <tr>\n",
       "      <th>count</th>\n",
       "      <td>20640.000000</td>\n",
       "      <td>20640.000000</td>\n",
       "      <td>20640.000000</td>\n",
       "      <td>20640.000000</td>\n",
       "      <td>20433.000000</td>\n",
       "      <td>20640.000000</td>\n",
       "      <td>20640.000000</td>\n",
       "      <td>20640.000000</td>\n",
       "      <td>20640.000000</td>\n",
       "    </tr>\n",
       "    <tr>\n",
       "      <th>mean</th>\n",
       "      <td>-119.569704</td>\n",
       "      <td>35.631861</td>\n",
       "      <td>28.639486</td>\n",
       "      <td>2635.763081</td>\n",
       "      <td>537.870553</td>\n",
       "      <td>1425.476744</td>\n",
       "      <td>499.539680</td>\n",
       "      <td>3.870671</td>\n",
       "      <td>206855.816909</td>\n",
       "    </tr>\n",
       "    <tr>\n",
       "      <th>std</th>\n",
       "      <td>2.003532</td>\n",
       "      <td>2.135952</td>\n",
       "      <td>12.585558</td>\n",
       "      <td>2181.615252</td>\n",
       "      <td>421.385070</td>\n",
       "      <td>1132.462122</td>\n",
       "      <td>382.329753</td>\n",
       "      <td>1.899822</td>\n",
       "      <td>115395.615874</td>\n",
       "    </tr>\n",
       "    <tr>\n",
       "      <th>min</th>\n",
       "      <td>-124.350000</td>\n",
       "      <td>32.540000</td>\n",
       "      <td>1.000000</td>\n",
       "      <td>2.000000</td>\n",
       "      <td>1.000000</td>\n",
       "      <td>3.000000</td>\n",
       "      <td>1.000000</td>\n",
       "      <td>0.499900</td>\n",
       "      <td>14999.000000</td>\n",
       "    </tr>\n",
       "    <tr>\n",
       "      <th>25%</th>\n",
       "      <td>-121.800000</td>\n",
       "      <td>33.930000</td>\n",
       "      <td>18.000000</td>\n",
       "      <td>1447.750000</td>\n",
       "      <td>296.000000</td>\n",
       "      <td>787.000000</td>\n",
       "      <td>280.000000</td>\n",
       "      <td>2.563400</td>\n",
       "      <td>119600.000000</td>\n",
       "    </tr>\n",
       "    <tr>\n",
       "      <th>50%</th>\n",
       "      <td>-118.490000</td>\n",
       "      <td>34.260000</td>\n",
       "      <td>29.000000</td>\n",
       "      <td>2127.000000</td>\n",
       "      <td>435.000000</td>\n",
       "      <td>1166.000000</td>\n",
       "      <td>409.000000</td>\n",
       "      <td>3.534800</td>\n",
       "      <td>179700.000000</td>\n",
       "    </tr>\n",
       "    <tr>\n",
       "      <th>75%</th>\n",
       "      <td>-118.010000</td>\n",
       "      <td>37.710000</td>\n",
       "      <td>37.000000</td>\n",
       "      <td>3148.000000</td>\n",
       "      <td>647.000000</td>\n",
       "      <td>1725.000000</td>\n",
       "      <td>605.000000</td>\n",
       "      <td>4.743250</td>\n",
       "      <td>264725.000000</td>\n",
       "    </tr>\n",
       "    <tr>\n",
       "      <th>max</th>\n",
       "      <td>-114.310000</td>\n",
       "      <td>41.950000</td>\n",
       "      <td>52.000000</td>\n",
       "      <td>39320.000000</td>\n",
       "      <td>6445.000000</td>\n",
       "      <td>35682.000000</td>\n",
       "      <td>6082.000000</td>\n",
       "      <td>15.000100</td>\n",
       "      <td>500001.000000</td>\n",
       "    </tr>\n",
       "  </tbody>\n",
       "</table>\n",
       "</div>"
      ],
      "text/plain": [
       "          longitude      latitude  housing_median_age   total_rooms  \\\n",
       "count  20640.000000  20640.000000        20640.000000  20640.000000   \n",
       "mean    -119.569704     35.631861           28.639486   2635.763081   \n",
       "std        2.003532      2.135952           12.585558   2181.615252   \n",
       "min     -124.350000     32.540000            1.000000      2.000000   \n",
       "25%     -121.800000     33.930000           18.000000   1447.750000   \n",
       "50%     -118.490000     34.260000           29.000000   2127.000000   \n",
       "75%     -118.010000     37.710000           37.000000   3148.000000   \n",
       "max     -114.310000     41.950000           52.000000  39320.000000   \n",
       "\n",
       "       total_bedrooms    population    households  median_income  \\\n",
       "count    20433.000000  20640.000000  20640.000000   20640.000000   \n",
       "mean       537.870553   1425.476744    499.539680       3.870671   \n",
       "std        421.385070   1132.462122    382.329753       1.899822   \n",
       "min          1.000000      3.000000      1.000000       0.499900   \n",
       "25%        296.000000    787.000000    280.000000       2.563400   \n",
       "50%        435.000000   1166.000000    409.000000       3.534800   \n",
       "75%        647.000000   1725.000000    605.000000       4.743250   \n",
       "max       6445.000000  35682.000000   6082.000000      15.000100   \n",
       "\n",
       "       median_house_value  \n",
       "count        20640.000000  \n",
       "mean        206855.816909  \n",
       "std         115395.615874  \n",
       "min          14999.000000  \n",
       "25%         119600.000000  \n",
       "50%         179700.000000  \n",
       "75%         264725.000000  \n",
       "max         500001.000000  "
      ]
     },
     "execution_count": 5,
     "metadata": {},
     "output_type": "execute_result"
    }
   ],
   "source": [
    "housing.describe() "
   ]
  },
  {
   "cell_type": "markdown",
   "id": "ac0e2f7b",
   "metadata": {
    "slideshow": {
     "slide_type": "slide"
    }
   },
   "source": [
    "Las filas de \n",
    "\n",
    "* recuento (`count`), \n",
    "* media (`mean`),   \n",
    "* mínima (`min`) y   \n",
    "* máxima (`max`)  \n",
    "\n",
    "se explican por sí mismas."
   ]
  },
  {
   "cell_type": "markdown",
   "id": "3e492087",
   "metadata": {
    "slideshow": {
     "slide_type": "slide"
    }
   },
   "source": [
    "Tenga en cuenta que los valores nulos se ignoran (por ejemplo, el recuento de `total_bedrooms` es 20,433, no 20.640)."
   ]
  },
  {
   "cell_type": "markdown",
   "id": "1fd1c4c6",
   "metadata": {
    "slideshow": {
     "slide_type": "slide"
    }
   },
   "source": [
    "La fila `std` muestra la desviación estándar, que mide qué tan dispersos están los valores."
   ]
  },
  {
   "cell_type": "markdown",
   "id": "c3534391",
   "metadata": {
    "slideshow": {
     "slide_type": "slide"
    }
   },
   "source": [
    "Las filas $25\\%$, $50\\%$ y $75\\%$ muestran los percentiles correspondientes:   \n",
    "\n",
    "* un percentil indica el valor por debajo del cual cae un porcentaje determinado de observaciones en \n",
    "  un grupo de observaciones."
   ]
  },
  {
   "cell_type": "markdown",
   "id": "e6acb066",
   "metadata": {
    "slideshow": {
     "slide_type": "slide"
    }
   },
   "source": [
    "Por ejemplo,  \n",
    "\n",
    "* el 25% de los distritos tiene una \"edad media de vivienda\" (`housing_media_age`) menor de 18,   \n",
    "* mientras que el 50% tiene menos de 29 y   \n",
    "* el 75% tiene menos de 37."
   ]
  },
  {
   "cell_type": "markdown",
   "id": "43191f98",
   "metadata": {
    "slideshow": {
     "slide_type": "slide"
    }
   },
   "source": [
    "Estos a menudo se denominan  \n",
    "\n",
    "* percentil 25 (o primer cuartil), \n",
    "* mediana y \n",
    "* percentil 75 (o tercer cuartil)."
   ]
  },
  {
   "cell_type": "markdown",
   "id": "418fff58",
   "metadata": {
    "slideshow": {
     "slide_type": "slide"
    }
   },
   "source": [
    "Otra forma rápida de tener una idea del tipo de datos con los que está tratando es trazar un histograma para cada atributo numérico."
   ]
  },
  {
   "cell_type": "markdown",
   "id": "eb4a96c4",
   "metadata": {
    "slideshow": {
     "slide_type": "slide"
    }
   },
   "source": [
    "Un histograma muestra \n",
    "\n",
    "* el número de instancias (en el eje vertical) que tienen un rango de valores dado (en el eje horizontal)."
   ]
  },
  {
   "cell_type": "markdown",
   "id": "65b6cce6",
   "metadata": {
    "slideshow": {
     "slide_type": "slide"
    }
   },
   "source": [
    "Puede trazar este atributo a la vez, o puede llamar al método `hist()` en todo el conjunto de datos (como se muestra en el siguiente ejemplo de código), y trazará un histograma para cada atributo numérico. "
   ]
  },
  {
   "cell_type": "code",
   "execution_count": 4,
   "id": "84c261cf",
   "metadata": {
    "slideshow": {
     "slide_type": "slide"
    }
   },
   "outputs": [
    {
     "data": {
      "text/plain": [
       "array([[<AxesSubplot:title={'center':'longitude'}>,\n",
       "        <AxesSubplot:title={'center':'latitude'}>,\n",
       "        <AxesSubplot:title={'center':'housing_median_age'}>],\n",
       "       [<AxesSubplot:title={'center':'total_rooms'}>,\n",
       "        <AxesSubplot:title={'center':'total_bedrooms'}>,\n",
       "        <AxesSubplot:title={'center':'population'}>],\n",
       "       [<AxesSubplot:title={'center':'households'}>,\n",
       "        <AxesSubplot:title={'center':'median_income'}>,\n",
       "        <AxesSubplot:title={'center':'median_house_value'}>]],\n",
       "      dtype=object)"
      ]
     },
     "execution_count": 4,
     "metadata": {},
     "output_type": "execute_result"
    },
    {
     "data": {
      "image/png": "[encoded data removed]",
      "text/plain": [
       "<Figure size 1800x1080 with 9 Axes>"
      ]
     },
     "metadata": {
      "needs_background": "light"
     },
     "output_type": "display_data"
    }
   ],
   "source": [
    " \n",
    "#import matplotlib.pyplot as plt\n",
    "#plt.style.use('dark_background') \n",
    "  \n",
    "housing.hist(bins=50, figsize = (25,15))\n",
    "#plt.show()"
   ]
  },
  {
   "cell_type": "markdown",
   "id": "b5b63869",
   "metadata": {
    "slideshow": {
     "slide_type": "slide"
    }
   },
   "source": [
    "## Nota"
   ]
  },
  {
   "cell_type": "markdown",
   "id": "774e7561",
   "metadata": {
    "slideshow": {
     "slide_type": "slide"
    }
   },
   "source": [
    "El método `hist()` se basa en Matplotlib. "
   ]
  },
  {
   "cell_type": "markdown",
   "id": "63e70508",
   "metadata": {
    "slideshow": {
     "slide_type": "slide"
    }
   },
   "source": [
    "el atributo de ingreso medio (`median income`) no parece estar expresado en dólares estadounidenses (USD)."
   ]
  },
  {
   "cell_type": "markdown",
   "id": "722fa8f0",
   "metadata": {
    "slideshow": {
     "slide_type": "slide"
    }
   },
   "source": [
    "Después de consultar con el equipo que recopiló los datos, se le informa que los datos se han escalado y con un tope de 15 (en realidad, 15.0001) para ingresos medios más altos, y en 0.5 (en realidad, 0.4999) para ingresos medios más bajos. "
   ]
  },
  {
   "cell_type": "markdown",
   "id": "2bf2cd44",
   "metadata": {
    "slideshow": {
     "slide_type": "slide"
    }
   },
   "source": [
    "Los números representan aproximadamente decenas de miles de dólares (por ejemplo, 3 en realidad significa alrededor de $ 30,000). "
   ]
  },
  {
   "cell_type": "markdown",
   "id": "e48d04ab",
   "metadata": {
    "slideshow": {
     "slide_type": "slide"
    }
   },
   "source": [
    "Trabajar con atributos preprocesados es común en Machine Learning, y no es necesariamente un problema, pero debe intentar comprender cómo se calcularon los datos."
   ]
  },
  {
   "cell_type": "markdown",
   "id": "56dfac9c",
   "metadata": {
    "slideshow": {
     "slide_type": "slide"
    }
   },
   "source": [
    "También se limitaron \n",
    "* la edad media de la vivienda y \n",
    "* el valor medio de la vivienda. "
   ]
  },
  {
   "cell_type": "markdown",
   "id": "3c6c848d",
   "metadata": {
    "slideshow": {
     "slide_type": "slide"
    }
   },
   "source": [
    "Este último puede ser un problema grave ya que es su atributo de destino (sus etiquetas). Sus algoritmos de aprendizaje automático pueden aprender que los precios nunca superen ese límite. "
   ]
  },
  {
   "cell_type": "markdown",
   "id": "6a8ad622",
   "metadata": {
    "slideshow": {
     "slide_type": "slide"
    }
   },
   "source": [
    "Debe consultar con su equipo cliente (el equipo que use la salida de su sistema) para ver si esto es un problema o no. "
   ]
  },
  {
   "cell_type": "markdown",
   "id": "f1f31373",
   "metadata": {
    "slideshow": {
     "slide_type": "slide"
    }
   },
   "source": [
    "Si te dicen que necesitan predicciones precisas incluso más allá de undefined,000 $, entonces tiene dos opciones:"
   ]
  },
  {
   "cell_type": "markdown",
   "id": "a1d11538",
   "metadata": {
    "slideshow": {
     "slide_type": "slide"
    }
   },
   "source": [
    "a. Reúna las etiquetas adecuadas para los distritos cuyas etiquetas fueron tapadas.  \n",
    "\n",
    "b. Elimine esos distritos del conjunto de capacitación (y también del conjunto de prueba, ya que su sistema no debe evaluarse mal si predice valores más allá de $\\$500,000$)."
   ]
  },
  {
   "cell_type": "markdown",
   "id": "c9cf1e9a",
   "metadata": {
    "slideshow": {
     "slide_type": "slide"
    }
   },
   "source": [
    "Estos atributos tienen escalas muy diferentes. Discutiremos esto más adelante en este capítulo, cuando exploremos el escalado de características."
   ]
  },
  {
   "cell_type": "markdown",
   "id": "19238cad",
   "metadata": {
    "slideshow": {
     "slide_type": "slide"
    }
   },
   "source": [
    "Por último, muchos histogramas tienen una gran cola: se extienden mucho más a la derecha de la mediana que a la izquierda. "
   ]
  },
  {
   "cell_type": "markdown",
   "id": "26bd2294",
   "metadata": {
    "slideshow": {
     "slide_type": "slide"
    }
   },
   "source": [
    "Esto puede hacer que sea un poco más difícil para algunos algoritmos de aprendizaje automático detectar patrones. "
   ]
  },
  {
   "cell_type": "markdown",
   "id": "9c499041",
   "metadata": {
    "slideshow": {
     "slide_type": "slide"
    }
   },
   "source": [
    "Intentaremos transformar estos atributos más adelante para tener más distribuciones en forma de campana."
   ]
  },
  {
   "cell_type": "markdown",
   "id": "240e9474",
   "metadata": {
    "slideshow": {
     "slide_type": "slide"
    }
   },
   "source": [
    "Es de esperar que ahora comprenda mejor el tipo de datos que está tratando."
   ]
  },
  {
   "cell_type": "markdown",
   "id": "3b283a8b",
   "metadata": {
    "slideshow": {
     "slide_type": "slide"
    }
   },
   "source": [
    "## Crear un conjunto de prueba"
   ]
  },
  {
   "cell_type": "markdown",
   "id": "19d4d4d9",
   "metadata": {
    "slideshow": {
     "slide_type": "slide"
    }
   },
   "source": [
    "* solo ha echado un vistazo rápido a los datos, y   \n",
    "* seguramente debería aprender mucho más sobre ellos antes de decidir qué algoritmos usar."
   ]
  },
  {
   "cell_type": "markdown",
   "id": "fa8faab0",
   "metadata": {
    "slideshow": {
     "slide_type": "slide"
    }
   },
   "source": [
    "* Nuestro cerebro es un increíble sistema de detección de patrones,   \n",
    "* lo que significa que es muy propenso a sobreajustarse: \n",
    "* si observa el conjunto de datos, puede proponer algún patrón aparentemente interesante en los **datos dados** que lo lleve a seleccionar un tipo particular de modelo de aprendizaje automático. "
   ]
  },
  {
   "cell_type": "markdown",
   "id": "ac8687c4",
   "metadata": {
    "slideshow": {
     "slide_type": "slide"
    }
   },
   "source": [
    "* Cuando calcule el **error de generalización** utilizando el **conjunto de prueba**, generalmente encontrará que su estimación era demasiado optimista pues se dará cuenta que el modelo diseñadono **no** funciona tan bien como se esperaba. \n"
   ]
  },
  {
   "cell_type": "markdown",
   "id": "f8ead9e2",
   "metadata": {
    "slideshow": {
     "slide_type": "slide"
    }
   },
   "source": [
    "* La creación de un **conjunto de prueba** es teóricamente simple: \n",
    "* elija algunas instancias u observaciones al azar,\n",
    "* generalmente el 20% del conjunto de datos \n",
    "* (o menos si su conjunto de datos es muy grande), y déjelas a un lado:"
   ]
  },
  {
   "cell_type": "markdown",
   "id": "3bbac30c",
   "metadata": {
    "slideshow": {
     "slide_type": "slide"
    }
   },
   "source": [
    "## Observemos que hace la función np.random.permutation() "
   ]
  },
  {
   "cell_type": "code",
   "execution_count": 9,
   "id": "cef5b62e",
   "metadata": {
    "slideshow": {
     "slide_type": "slide"
    }
   },
   "outputs": [
    {
     "data": {
      "text/plain": [
       "array([0, 2, 1])"
      ]
     },
     "execution_count": 9,
     "metadata": {},
     "output_type": "execute_result"
    }
   ],
   "source": [
    "import numpy as np \n",
    "segmento_enteros = list(np.arange(3))\n",
    "indices_revueltos = np.random.permutation(segmento_enteros)      \n",
    "indices_revueltos"
   ]
  },
  {
   "cell_type": "code",
   "execution_count": 11,
   "id": "9b2139fe",
   "metadata": {
    "slideshow": {
     "slide_type": "slide"
    }
   },
   "outputs": [
    {
     "data": {
      "text/plain": [
       "array([0, 2, 1])"
      ]
     },
     "execution_count": 11,
     "metadata": {},
     "output_type": "execute_result"
    }
   ],
   "source": [
    "np.random.permutation(3)"
   ]
  },
  {
   "cell_type": "markdown",
   "id": "30bcacbb",
   "metadata": {
    "slideshow": {
     "slide_type": "slide"
    }
   },
   "source": [
    "# Construcción de función `dividir_entrenamiento_prueba` con metodología de desarrollo creciente"
   ]
  },
  {
   "cell_type": "code",
   "execution_count": 10,
   "id": "49c5579d",
   "metadata": {
    "slideshow": {
     "slide_type": "slide"
    }
   },
   "outputs": [],
   "source": [
    "def dividir_en_entrenamiento_prueba(datos, porcentaje_prueba = 0.20):\n",
    "    indices_barajados = np.random.permutation(len(datos)) \n",
    "    tamaño_conjunto_prueba = int(len(datos)*porcentaje_prueba)  \n",
    "    indices_prueba = indices_barajados[:tamaño_conjunto_prueba]\n",
    "    indices_entrenamiento = indices_barajados[tamaño_conjunto_prueba:]\n",
    "    return datos.iloc[indices_entrenamiento], datos.iloc[indices_prueba] "
   ]
  },
  {
   "cell_type": "code",
   "execution_count": 12,
   "id": "f9e8e01e",
   "metadata": {
    "slideshow": {
     "slide_type": "slide"
    }
   },
   "outputs": [],
   "source": [
    "def dividir_en_entrenamiento_prueba(datos, porcentaje_prueba = 0.20):\n",
    "    indices_barajados = np.random.permutation(len(datos))              # cálculo del número de instancias\n",
    "    \n",
    "    return indices_barajados"
   ]
  },
  {
   "cell_type": "code",
   "execution_count": null,
   "id": "cdd2f10f",
   "metadata": {},
   "outputs": [],
   "source": [
    "dividir_en_entrenamiento_prueba(datos, porcentaje_prueba = 0.20)"
   ]
  },
  {
   "cell_type": "code",
   "execution_count": null,
   "id": "8f4290d3",
   "metadata": {
    "slideshow": {
     "slide_type": "slide"
    }
   },
   "outputs": [],
   "source": [
    "def dividir_en_entrenamiento_prueba(datos, porcentaje_prueba = 0.20):\n",
    "    indices_barajados = np.random.permutation(len(datos)) \n",
    "    tamaño_conjunto_prueba = int(len(datos)*porcentaje_prueba)                # cálculo del número de instancias\n",
    "    \n",
    "    return tamaño_conjunto_prueba"
   ]
  },
  {
   "cell_type": "code",
   "execution_count": null,
   "id": "1929988a",
   "metadata": {
    "slideshow": {
     "slide_type": "slide"
    }
   },
   "outputs": [],
   "source": [
    "def dividir_en_entrenamiento_prueba(datos, porcentaje_prueba = 0.20):\n",
    "    indices_barajados = np.random.permutation(len(datos)) \n",
    "    tamaño_conjunto_prueba = int(len(datos)*porcentaje_prueba)  \n",
    "    indices_prueba = indices_barajados[:tamaño_conjunto_prueba]\n",
    "    \n",
    "    return indices_prueba "
   ]
  },
  {
   "cell_type": "code",
   "execution_count": null,
   "id": "2cbc6e36",
   "metadata": {
    "slideshow": {
     "slide_type": "slide"
    }
   },
   "outputs": [],
   "source": [
    "def dividir_en_entrenamiento_prueba(datos, porcentaje_prueba = 0.20):\n",
    "    indices_barajados = np.random.permutation(len(datos)) \n",
    "    tamaño_conjunto_prueba = int(len(datos)*porcentaje_prueba)  \n",
    "    indices_prueba = indices_barajados[:tamaño_conjunto_prueba]\n",
    "    indices_entrenamiento = indices_barajados[tamaño_conjunto_prueba:]\n",
    "    return indices_entrenamiento"
   ]
  },
  {
   "cell_type": "code",
   "execution_count": 13,
   "id": "48873069",
   "metadata": {
    "slideshow": {
     "slide_type": "slide"
    }
   },
   "outputs": [],
   "source": [
    "def dividir_en_entrenamiento_prueba(datos, porcentaje_prueba = 0.20):\n",
    "    indices_barajados = np.random.permutation(len(datos)) \n",
    "    tamaño_conjunto_prueba = int(len(datos)*porcentaje_prueba)  \n",
    "    indices_prueba = indices_barajados[:tamaño_conjunto_prueba]\n",
    "    indices_entrenamiento = indices_barajados[tamaño_conjunto_prueba:]\n",
    "    return datos.iloc[indices_entrenamiento], datos.iloc[indices_prueba] "
   ]
  },
  {
   "cell_type": "markdown",
   "id": "8e5736de",
   "metadata": {
    "slideshow": {
     "slide_type": "slide"
    }
   },
   "source": [
    "Luego puede usar esta función utilizando asignación múltiple:"
   ]
  },
  {
   "cell_type": "code",
   "execution_count": 15,
   "id": "2e6edc81",
   "metadata": {
    "slideshow": {
     "slide_type": "slide"
    }
   },
   "outputs": [],
   "source": [
    "train_set, test_set = dividir_en_entrenamiento_prueba(housing) "
   ]
  },
  {
   "cell_type": "markdown",
   "id": "d7b433bb",
   "metadata": {
    "slideshow": {
     "slide_type": "slide"
    }
   },
   "source": [
    "## Verificación del proceso de creación del test set"
   ]
  },
  {
   "cell_type": "code",
   "execution_count": 16,
   "id": "de64b03e",
   "metadata": {
    "slideshow": {
     "slide_type": "slide"
    }
   },
   "outputs": [
    {
     "data": {
      "text/plain": [
       "(20640, 16512, 4128)"
      ]
     },
     "execution_count": 16,
     "metadata": {},
     "output_type": "execute_result"
    }
   ],
   "source": [
    "len(housing), len(train_set), len(test_set)   "
   ]
  },
  {
   "cell_type": "code",
   "execution_count": 17,
   "id": "61f1af8d",
   "metadata": {
    "slideshow": {
     "slide_type": "slide"
    }
   },
   "outputs": [
    {
     "data": {
      "text/plain": [
       "(0.8, 0.2)"
      ]
     },
     "execution_count": 17,
     "metadata": {},
     "output_type": "execute_result"
    }
   ],
   "source": [
    "len(train_set)/len(housing), len(test_set)/len(housing)   "
   ]
  },
  {
   "cell_type": "markdown",
   "id": "766527b8",
   "metadata": {
    "slideshow": {
     "slide_type": "slide"
    }
   },
   "source": [
    "* esto funciona, pero no es perfecto: \n",
    "* si ejecuta el programa nuevamente, ¡generará un conjunto de prueba diferente! "
   ]
  },
  {
   "cell_type": "markdown",
   "id": "29ea60a7",
   "metadata": {
    "slideshow": {
     "slide_type": "slide"
    }
   },
   "source": [
    "Con el tiempo, usted (o sus algoritmos de aprendizaje automático) podrán ver el conjunto de datos completo, que es lo que desea evitar."
   ]
  },
  {
   "cell_type": "markdown",
   "id": "58e1555b",
   "metadata": {
    "slideshow": {
     "slide_type": "slide"
    }
   },
   "source": [
    "Una solución es guardar el conjunto de prueba en la primera ejecución y luego cargarlo en ejecuciones posteriores. "
   ]
  },
  {
   "cell_type": "code",
   "execution_count": 18,
   "id": "463695cf",
   "metadata": {
    "slideshow": {
     "slide_type": "slide"
    }
   },
   "outputs": [],
   "source": [
    "train_set, test_set = dividir_en_entrenamiento_prueba(housing) "
   ]
  },
  {
   "cell_type": "code",
   "execution_count": 19,
   "id": "7bf9da10",
   "metadata": {
    "slideshow": {
     "slide_type": "slide"
    }
   },
   "outputs": [],
   "source": [
    "train_set.to_csv('housing_train.csv', index = False)\n",
    "test_set.to_csv('housing_test.csv', index = False)   "
   ]
  },
  {
   "cell_type": "code",
   "execution_count": 20,
   "id": "6520b4e6",
   "metadata": {
    "slideshow": {
     "slide_type": "slide"
    }
   },
   "outputs": [],
   "source": [
    "housing_train = pd.read_csv('housing_train.csv') "
   ]
  },
  {
   "cell_type": "code",
   "execution_count": 21,
   "id": "ba7d6344",
   "metadata": {
    "slideshow": {
     "slide_type": "slide"
    }
   },
   "outputs": [
    {
     "data": {
      "text/plain": [
       "16512"
      ]
     },
     "execution_count": 21,
     "metadata": {},
     "output_type": "execute_result"
    }
   ],
   "source": [
    "len(housing_train)"
   ]
  },
  {
   "cell_type": "markdown",
   "id": "28b0e60f",
   "metadata": {
    "slideshow": {
     "slide_type": "slide"
    }
   },
   "source": [
    "Otra opción es establecer la semilla del generador de números aleatorios (por ejemplo, con `np.random.seed(42)`) antes de llamar a `np.random.permutation()` para que siempre genera los mismos índices mezclados."
   ]
  },
  {
   "cell_type": "code",
   "execution_count": null,
   "id": "20690192",
   "metadata": {
    "slideshow": {
     "slide_type": "slide"
    }
   },
   "outputs": [],
   "source": [
    "import numpy as np \n",
    "import pandas as pd \n",
    "housing = pd.read_csv('housing.csv')\n",
    "\n",
    "np.random.seed(42)          # Establecimiento de la semilla del generador\n",
    "\n",
    "\n",
    "def dividir_en_entrenamiento_prueba(data, tasa_prueba = 0.2):\n",
    "    indices_barajados = np.random.permutation(len(data)) \n",
    "    tamano_conjunto_prueba = int(len(data)*tasa_prueba)  \n",
    "    indices_prueba = indices_barajados[:tamano_conjunto_prueba]\n",
    "    indices_entrenamiento = indices_barajados[tamano_conjunto_prueba:]\n",
    "    return data.iloc[indices_entrenamiento], data.iloc[indices_prueba] \n",
    "\n",
    "train_set, test_set = dividir_en_entrenamiento_prueba(housing)\n",
    "test_set.head() "
   ]
  },
  {
   "cell_type": "markdown",
   "id": "24c45a2e",
   "metadata": {
    "slideshow": {
     "slide_type": "slide"
    }
   },
   "source": [
    "Pero ambas soluciones se romperán la próxima vez que obtenga un conjunto de datos actualizado."
   ]
  },
  {
   "cell_type": "markdown",
   "id": "bbba8276",
   "metadata": {
    "slideshow": {
     "slide_type": "slide"
    }
   },
   "source": [
    "# Implementación de Scikit-Learn para dividir en conjunto de entrenamiento y prueba"
   ]
  },
  {
   "cell_type": "markdown",
   "id": "e4296cc4",
   "metadata": {
    "slideshow": {
     "slide_type": "slide"
    }
   },
   "source": [
    "Scikit-Learn proporciona algunas funciones para dividir conjuntos de datos en varios subconjuntos de varias formas."
   ]
  },
  {
   "cell_type": "markdown",
   "id": "a42d948d",
   "metadata": {
    "slideshow": {
     "slide_type": "slide"
    }
   },
   "source": [
    "La función más simple es `train_test_split()`, que hace prácticamente lo mismo que la función `dividir_en_entrenamiento_prueba(data, tasa_prueba = 0.2)`, con un par de características adicionales."
   ]
  },
  {
   "cell_type": "markdown",
   "id": "b37c6003",
   "metadata": {
    "slideshow": {
     "slide_type": "slide"
    }
   },
   "source": [
    "hay un parámetro `random_state` que le permite establecer la semilla del generador aleatorio."
   ]
  },
  {
   "cell_type": "code",
   "execution_count": null,
   "id": "1410d2bc",
   "metadata": {
    "slideshow": {
     "slide_type": "slide"
    }
   },
   "outputs": [],
   "source": [
    "from sklearn.model_selection import train_test_split\n",
    "train_set, test_set = train_test_split(housing, test_size=0.2, random_state=42)"
   ]
  },
  {
   "cell_type": "markdown",
   "id": "46accf96",
   "metadata": {
    "slideshow": {
     "slide_type": "slide"
    }
   },
   "source": [
    "Hasta ahora hemos considerado métodos de muestreo puramente aleatorios."
   ]
  },
  {
   "cell_type": "markdown",
   "id": "943e3495",
   "metadata": {
    "slideshow": {
     "slide_type": "slide"
    }
   },
   "source": [
    "* En general, esto está bien si su conjunto de datos es lo suficientemente grande (especialmente en relación con la cantidad de atributos), \n",
    "* pero si no lo es, corre el riesgo de introducir un **sesgo de muestreo** significativo."
   ]
  },
  {
   "cell_type": "markdown",
   "id": "2d105fe5",
   "metadata": {
    "slideshow": {
     "slide_type": "slide"
    }
   },
   "source": [
    "Cuando una empresa de encuestas decide llamar a 1.000 personas para hacerles algunas preguntas, no elige a 1.000 personas al azar en una guía telefónica."
   ]
  },
  {
   "cell_type": "markdown",
   "id": "e56b9990",
   "metadata": {
    "slideshow": {
     "slide_type": "slide"
    }
   },
   "source": [
    "Intentan asegurarse de que estas 1.000 personas sean representativas de toda la población."
   ]
  },
  {
   "cell_type": "markdown",
   "id": "78013a69",
   "metadata": {
    "slideshow": {
     "slide_type": "slide"
    }
   },
   "source": [
    "* Por ejemplo, la población de EE. UU. es 51,3% de mujeres y 48,7% de hombres, \n",
    "* por lo que una encuesta bien realizada en los EE. UU. trataría de mantener esta proporción en la muestra: 513 mujeres y 487 hombres."
   ]
  },
  {
   "cell_type": "markdown",
   "id": "ae1381f2",
   "metadata": {
    "slideshow": {
     "slide_type": "slide"
    }
   },
   "source": [
    "Esto se denomina muestreo estratificado:  \n",
    "\n",
    "* la población se divide en subgrupos homogéneos llamados estratos, y se muestrea el número correcto de instancias de cada estrato para garantizar que el conjunto de prueba sea representativo de la población general."
   ]
  },
  {
   "cell_type": "markdown",
   "id": "9f4c5196",
   "metadata": {
    "slideshow": {
     "slide_type": "slide"
    }
   },
   "source": [
    "Si las personas que realizan la encuesta utilizaran un muestreo puramente aleatorio, habría aproximadamente un 12% de posibilidades de muestrear un conjunto de pruebas sesgado que fuera menos del 49% de mujeres o más del 54% de mujeres."
   ]
  },
  {
   "cell_type": "markdown",
   "id": "22c6a0e1",
   "metadata": {
    "slideshow": {
     "slide_type": "slide"
    }
   },
   "source": [
    "De cualquier manera, los resultados de la encuesta estarían significativamente sesgados."
   ]
  },
  {
   "cell_type": "markdown",
   "id": "f43f238c",
   "metadata": {
    "slideshow": {
     "slide_type": "slide"
    }
   },
   "source": [
    "Suponga que conversó con expertos que le dijeron que el ingreso medio (`median_income`) es un atributo muy importante para predecir los precios medios de la vivienda."
   ]
  },
  {
   "cell_type": "markdown",
   "id": "2038ef0c",
   "metadata": {
    "slideshow": {
     "slide_type": "slide"
    }
   },
   "source": [
    "Es posible que desee asegurarse de que el conjunto de prueba sea representativo de las diversas categorías de ingresos en todo el conjunto de datos."
   ]
  },
  {
   "cell_type": "markdown",
   "id": "cb59fadd",
   "metadata": {
    "slideshow": {
     "slide_type": "slide"
    }
   },
   "source": [
    "Dado que el ingreso medio(`median_income`) es un atributo numérico continuo, primero debe crear un atributo de categoría de ingresos."
   ]
  },
  {
   "cell_type": "markdown",
   "id": "3fc969f7",
   "metadata": {
    "slideshow": {
     "slide_type": "slide"
    }
   },
   "source": [
    "Observemos el histograma de ingresos medios más de cerca: la mayoría de los valores de ingresos medios se agrupan alrededor de 1,5 a 6 (es decir, de $ 15 000 a $ 60 000), pero algunos ingresos medios van mucho más allá de 6."
   ]
  },
  {
   "cell_type": "code",
   "execution_count": null,
   "id": "f73c06f7",
   "metadata": {
    "slideshow": {
     "slide_type": "slide"
    }
   },
   "outputs": [],
   "source": []
  },
  {
   "cell_type": "code",
   "execution_count": null,
   "id": "f022b657",
   "metadata": {
    "slideshow": {
     "slide_type": "slide"
    }
   },
   "outputs": [],
   "source": []
  },
  {
   "cell_type": "code",
   "execution_count": null,
   "id": "0d582714",
   "metadata": {},
   "outputs": [],
   "source": []
  },
  {
   "cell_type": "code",
   "execution_count": null,
   "id": "1a64b112",
   "metadata": {},
   "outputs": [],
   "source": []
  },
  {
   "cell_type": "code",
   "execution_count": null,
   "id": "9f8a7242",
   "metadata": {},
   "outputs": [],
   "source": []
  },
  {
   "cell_type": "code",
   "execution_count": null,
   "id": "57a250f2",
   "metadata": {},
   "outputs": [],
   "source": []
  },
  {
   "cell_type": "code",
   "execution_count": null,
   "id": "6f4f7d67",
   "metadata": {},
   "outputs": [],
   "source": []
  },
  {
   "cell_type": "code",
   "execution_count": null,
   "id": "9685ea89",
   "metadata": {},
   "outputs": [],
   "source": []
  },
  {
   "cell_type": "code",
   "execution_count": null,
   "id": "0b309223",
   "metadata": {},
   "outputs": [],
   "source": []
  },
  {
   "cell_type": "code",
   "execution_count": null,
   "id": "1ac7a43a",
   "metadata": {},
   "outputs": [],
   "source": []
  },
  {
   "cell_type": "code",
   "execution_count": null,
   "id": "69947f2d",
   "metadata": {},
   "outputs": [],
   "source": []
  }
 ],
 "metadata": {
  "celltoolbar": "Slideshow",
  "kernelspec": {
   "display_name": "Python 3 (ipykernel)",
   "language": "python",
   "name": "python3"
  },
  "language_info": {
   "codemirror_mode": {
    "name": "ipython",
    "version": 3
   },
   "file_extension": ".py",
   "mimetype": "text/x-python",
   "name": "python",
   "nbconvert_exporter": "python",
   "pygments_lexer": "ipython3",
   "version": "3.9.7"
  },
  "rise": {
   "enable_chalkboard": true,
   "theme": "sky",
   "transition": "zoom"
  }
 },
 "nbformat": 4,
 "nbformat_minor": 5
}
