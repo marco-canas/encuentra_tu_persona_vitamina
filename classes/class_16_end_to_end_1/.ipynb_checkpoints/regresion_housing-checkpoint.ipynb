{
 "cells": [
  {
   "cell_type": "markdown",
   "id": "fc698fd5",
   "metadata": {
    "slideshow": {
     "slide_type": "slide"
    }
   },
   "source": [
    "\n",
    "<table align=\"left\">\n",
    "  <td>\n",
    "    <a href=\"https://colab.research.google.com/github/marco-canas/intro-Machine-Learning/blob/main/classes/class_16_end_to_end_1/class_16_end_to_end_1.ipynb\" target=\"_parent\"><img src=\"https://colab.research.google.com/assets/colab-badge.svg\" alt=\"Open In Colab\"/></a>\n",
    "  </td>\n",
    "  <td>\n",
    "    <a target=\"_blank\" href=\"https://kaggle.com/kernels/welcome?src=https://github.com/marco-canas/intro-Machine-Learning/blob/main/classes/class_16_end_to_end_1/class_16_end_to_end_1.ipynb\"><img src=\"https://kaggle.com/static/images/open-in-kaggle.svg\" /></a>\n",
    "  </td>\n",
    "</table> \n"
   ]
  },
  {
   "cell_type": "markdown",
   "id": "80c6b680",
   "metadata": {
    "slideshow": {
     "slide_type": "slide"
    }
   },
   "source": [
    "### Regresión como cajas negras "
   ]
  },
  {
   "cell_type": "code",
   "execution_count": null,
   "id": "189535fc",
   "metadata": {
    "slideshow": {
     "slide_type": "slide"
    }
   },
   "outputs": [],
   "source": [
    "import pandas as pd\n",
    "vivienda = pd.read_csv('housing.csv')\n"
   ]
  },
  {
   "cell_type": "code",
   "execution_count": null,
   "id": "f3bf992a",
   "metadata": {
    "scrolled": true,
    "slideshow": {
     "slide_type": "slide"
    }
   },
   "outputs": [],
   "source": [
    "vivienda.head() "
   ]
  },
  {
   "cell_type": "code",
   "execution_count": null,
   "id": "cac284ff",
   "metadata": {
    "slideshow": {
     "slide_type": "slide"
    }
   },
   "outputs": [],
   "source": [
    "vivienda.rename(columns = {'longitude':'longitud','latitude':'latitud',\\\n",
    "                           'housing_median_age':'antiguedad','total_rooms':'total_salas',\\\n",
    "                           'total_bedrooms':'total_habitaciones',\\\n",
    "                           'population':'población','households':'n_hogares',\\\n",
    "                           'median_income':'ingresos','median_house_value':'valor_medio_casa',\\\n",
    "                           'ocean_proximity':'proximidad_playa'}, inplace = True)"
   ]
  },
  {
   "cell_type": "code",
   "execution_count": null,
   "id": "541ddd2e",
   "metadata": {
    "slideshow": {
     "slide_type": "slide"
    }
   },
   "outputs": [],
   "source": [
    "vivienda.head() "
   ]
  },
  {
   "cell_type": "code",
   "execution_count": null,
   "id": "68c1e1f4",
   "metadata": {
    "scrolled": true,
    "slideshow": {
     "slide_type": "slide"
    }
   },
   "outputs": [],
   "source": [
    "vivienda.info() "
   ]
  },
  {
   "cell_type": "code",
   "execution_count": null,
   "id": "0de51369",
   "metadata": {
    "slideshow": {
     "slide_type": "slide"
    }
   },
   "outputs": [],
   "source": [
    "vivienda['proximidad_playa'].value_counts()"
   ]
  },
  {
   "cell_type": "code",
   "execution_count": null,
   "id": "4c4ed451",
   "metadata": {
    "slideshow": {
     "slide_type": "slide"
    }
   },
   "outputs": [],
   "source": [
    "vivienda.describe() "
   ]
  },
  {
   "cell_type": "code",
   "execution_count": null,
   "id": "b1bad4d5",
   "metadata": {
    "slideshow": {
     "slide_type": "slide"
    }
   },
   "outputs": [],
   "source": [
    "import matplotlib.pyplot as plt \n",
    "vivienda.hist(bins = 10, figsize = (20,15))\n",
    "plt.show() "
   ]
  },
  {
   "cell_type": "code",
   "execution_count": null,
   "id": "47353dc7",
   "metadata": {
    "slideshow": {
     "slide_type": "slide"
    }
   },
   "outputs": [],
   "source": [
    "import numpy as np \n",
    "def dividir_train_test(dataset, porcentaje_testeo):\n",
    "    indices_barajados = np.random.permutation(list(range(len(dataset))))\n",
    "    return indices_barajados "
   ]
  },
  {
   "cell_type": "code",
   "execution_count": null,
   "id": "05dc548e",
   "metadata": {
    "slideshow": {
     "slide_type": "slide"
    }
   },
   "outputs": [],
   "source": [
    "list(range(len(vivienda))) "
   ]
  },
  {
   "cell_type": "code",
   "execution_count": null,
   "id": "24c69115",
   "metadata": {
    "slideshow": {
     "slide_type": "slide"
    }
   },
   "outputs": [],
   "source": [
    "dividir_train_test(vivienda, 0.2) "
   ]
  },
  {
   "cell_type": "code",
   "execution_count": null,
   "id": "b1355489",
   "metadata": {
    "slideshow": {
     "slide_type": "slide"
    }
   },
   "outputs": [],
   "source": [
    "import numpy as np \n",
    "def dividir_train_test(dataset, porcentaje_testeo):\n",
    "    indices_barajados = np.random.permutation(list(range(len(dataset))))\n",
    "    tamaño_conjunto_entrenamiento = int(len(dataset)*(1-porcentaje_testeo))\n",
    "    tamaño_conjunto_testeo = int(len(dataset)*porcentaje_testeo)\n",
    "    return tamaño_conjunto_entrenamiento, tamaño_conjunto_testeo   "
   ]
  },
  {
   "cell_type": "code",
   "execution_count": null,
   "id": "6179c895",
   "metadata": {
    "slideshow": {
     "slide_type": "slide"
    }
   },
   "outputs": [],
   "source": [
    "dividir_train_test(vivienda, 0.2) "
   ]
  },
  {
   "cell_type": "code",
   "execution_count": null,
   "id": "4ac3ff66",
   "metadata": {
    "slideshow": {
     "slide_type": "slide"
    }
   },
   "outputs": [],
   "source": [
    "def dividir_train_test(dataset, porcentaje_testeo):\n",
    "    indices_barajados = np.random.permutation(list(range(len(dataset))))\n",
    "    tamaño_conjunto_entrenamiento = int(len(dataset)*(1-porcentaje_testeo))\n",
    "    tamaño_conjunto_testeo = int(len(dataset)*porcentaje_testeo)\n",
    "    train_set = dataset.iloc[:tamaño_conjunto_entrenamiento] \n",
    "    test_set = dataset.iloc[tamaño_conjunto_entrenamiento:]\n",
    "    return train_set, test_set "
   ]
  },
  {
   "cell_type": "code",
   "execution_count": null,
   "id": "fca06915",
   "metadata": {
    "slideshow": {
     "slide_type": "slide"
    }
   },
   "outputs": [],
   "source": [
    "vivienda_train, vivienda_test = dividir_train_test(vivienda, 0.2) "
   ]
  },
  {
   "cell_type": "code",
   "execution_count": null,
   "id": "8a58a631",
   "metadata": {
    "slideshow": {
     "slide_type": "slide"
    }
   },
   "outputs": [],
   "source": [
    "vivienda_train "
   ]
  },
  {
   "cell_type": "code",
   "execution_count": null,
   "id": "5b9118d6",
   "metadata": {
    "slideshow": {
     "slide_type": "slide"
    }
   },
   "outputs": [],
   "source": [
    "len(vivienda_train)"
   ]
  },
  {
   "cell_type": "code",
   "execution_count": null,
   "id": "13b05bce",
   "metadata": {
    "slideshow": {
     "slide_type": "slide"
    }
   },
   "outputs": [],
   "source": [
    "len(vivienda_test) "
   ]
  },
  {
   "cell_type": "code",
   "execution_count": null,
   "id": "6a30298b",
   "metadata": {
    "slideshow": {
     "slide_type": "slide"
    }
   },
   "outputs": [],
   "source": [
    "from sklearn.model_selection import train_test_split\n",
    "train_set, test_set = train_test_split(vivienda, test_size=0.2, random_state=42)"
   ]
  },
  {
   "cell_type": "markdown",
   "id": "9f4c7a7f",
   "metadata": {
    "slideshow": {
     "slide_type": "slide"
    }
   },
   "source": [
    "## Visualización"
   ]
  },
  {
   "cell_type": "code",
   "execution_count": null,
   "id": "87982adc",
   "metadata": {
    "slideshow": {
     "slide_type": "slide"
    }
   },
   "outputs": [],
   "source": [
    "vivienda.plot(kind = 'scatter', x = 'longitud', y = 'latitud')"
   ]
  },
  {
   "cell_type": "code",
   "execution_count": null,
   "id": "2fd5a9b3",
   "metadata": {
    "slideshow": {
     "slide_type": "slide"
    }
   },
   "outputs": [],
   "source": [
    "corr_matrix = vivienda.corr() "
   ]
  },
  {
   "cell_type": "code",
   "execution_count": null,
   "id": "f0c400f4",
   "metadata": {
    "slideshow": {
     "slide_type": "slide"
    }
   },
   "outputs": [],
   "source": [
    "corr_matrix "
   ]
  },
  {
   "cell_type": "code",
   "execution_count": null,
   "id": "e4b5164a",
   "metadata": {
    "slideshow": {
     "slide_type": "slide"
    }
   },
   "outputs": [],
   "source": [
    "corr_matrix['valor_medio_casa'].sort_values(ascending = False) "
   ]
  },
  {
   "cell_type": "code",
   "execution_count": null,
   "id": "de930eb0",
   "metadata": {
    "slideshow": {
     "slide_type": "slide"
    }
   },
   "outputs": [],
   "source": [
    "from pandas.plotting import scatter_matrix"
   ]
  },
  {
   "cell_type": "code",
   "execution_count": null,
   "id": "0103cad1",
   "metadata": {
    "slideshow": {
     "slide_type": "slide"
    }
   },
   "outputs": [],
   "source": [
    "atributos = ['median_house_value', 'median_income', 'total_rooms', 'housing_median_age'] "
   ]
  },
  {
   "cell_type": "code",
   "execution_count": null,
   "id": "c1ac1794",
   "metadata": {},
   "outputs": [],
   "source": [
    "scatter_matrix(housing[attributes], figsize = (12,8)) \n",
    "\n",
    "plt.show() "
   ]
  },
  {
   "cell_type": "code",
   "execution_count": null,
   "id": "0bcbf6f0",
   "metadata": {
    "scrolled": true,
    "slideshow": {
     "slide_type": "slide"
    }
   },
   "outputs": [],
   "source": [
    "vivienda.plot(kind = 'scatter', x = 'median_income', y = 'median_house_value') "
   ]
  },
  {
   "cell_type": "markdown",
   "id": "51ddc3f3",
   "metadata": {
    "slideshow": {
     "slide_type": "slide"
    }
   },
   "source": [
    "## Prepare the Data for Machine Learning Algorithms"
   ]
  },
  {
   "cell_type": "code",
   "execution_count": null,
   "id": "35cb68cc",
   "metadata": {
    "slideshow": {
     "slide_type": "slide"
    }
   },
   "outputs": [],
   "source": [
    "#housing.dropna(subset=[\"total_bedrooms\"]) # option 1\n",
    "#housing.drop(\"total_bedrooms\", axis=1) # option 2\n",
    "median = housing[\"total_bedrooms\"].median() # option 3\n",
    "housing[\"total_bedrooms\"].fillna(median, inplace=True)"
   ]
  },
  {
   "cell_type": "code",
   "execution_count": null,
   "id": "741a290f",
   "metadata": {
    "slideshow": {
     "slide_type": "slide"
    }
   },
   "outputs": [],
   "source": [
    "from sklearn.impute import SimpleImputer\n",
    "imputer = SimpleImputer(strategy=\"median\")"
   ]
  },
  {
   "cell_type": "code",
   "execution_count": null,
   "id": "f80b7d5c",
   "metadata": {},
   "outputs": [],
   "source": [
    "housing_num = housing.drop(\"ocean_proximity\", axis=1)"
   ]
  },
  {
   "cell_type": "code",
   "execution_count": null,
   "id": "1e739347",
   "metadata": {},
   "outputs": [],
   "source": [
    "imputer.fit(housing_num)\n"
   ]
  },
  {
   "cell_type": "code",
   "execution_count": null,
   "id": "a300182a",
   "metadata": {
    "slideshow": {
     "slide_type": "slide"
    }
   },
   "outputs": [],
   "source": [
    "imputer.statistics_"
   ]
  },
  {
   "cell_type": "code",
   "execution_count": null,
   "id": "baa6201d",
   "metadata": {},
   "outputs": [],
   "source": [
    "housing_num.median().values\n"
   ]
  },
  {
   "cell_type": "code",
   "execution_count": null,
   "id": "bc6da6af",
   "metadata": {},
   "outputs": [],
   "source": [
    "X = imputer.transform(housing_num)"
   ]
  },
  {
   "cell_type": "code",
   "execution_count": null,
   "id": "2a0f1e15",
   "metadata": {},
   "outputs": [],
   "source": [
    "housing_tr = pd.DataFrame(X, columns=housing_num.columns,\n",
    "index=housing_num.index)\n"
   ]
  },
  {
   "cell_type": "markdown",
   "id": "62f8057a",
   "metadata": {
    "slideshow": {
     "slide_type": "slide"
    }
   },
   "source": [
    "## Handling Text and Categorical Attributes\n"
   ]
  },
  {
   "cell_type": "code",
   "execution_count": null,
   "id": "3423c1ca",
   "metadata": {},
   "outputs": [],
   "source": [
    "housing_cat = housing[['ocean_proximity']] \n",
    "housing_cat.head(10) "
   ]
  },
  {
   "cell_type": "code",
   "execution_count": null,
   "id": "9b7c83b8",
   "metadata": {
    "slideshow": {
     "slide_type": "slide"
    }
   },
   "outputs": [],
   "source": [
    "from sklearn.preprocessing import OrdinalEncoder "
   ]
  },
  {
   "cell_type": "code",
   "execution_count": null,
   "id": "ac89e86d",
   "metadata": {},
   "outputs": [],
   "source": [
    "ordinal_encoder = OrdinalEncoder() \n"
   ]
  },
  {
   "cell_type": "code",
   "execution_count": null,
   "id": "4b75f9ff",
   "metadata": {},
   "outputs": [],
   "source": [
    "housing_cat_encoded = ordinal_encoder.fit_transform(housing_cat)"
   ]
  },
  {
   "cell_type": "code",
   "execution_count": null,
   "id": "0cbf4b3f",
   "metadata": {},
   "outputs": [],
   "source": [
    "housing_cat_encoded[:10] "
   ]
  },
  {
   "cell_type": "code",
   "execution_count": null,
   "id": "fc015ca0",
   "metadata": {
    "slideshow": {
     "slide_type": "slide"
    }
   },
   "outputs": [],
   "source": [
    "ordinal_encoder.categories_"
   ]
  },
  {
   "cell_type": "markdown",
   "id": "c2ec3810",
   "metadata": {
    "slideshow": {
     "slide_type": "slide"
    }
   },
   "source": [
    "## Custom Transformers\n"
   ]
  },
  {
   "cell_type": "markdown",
   "id": "83867a72",
   "metadata": {
    "slideshow": {
     "slide_type": "slide"
    }
   },
   "source": [
    "## Feature Scaling"
   ]
  },
  {
   "cell_type": "code",
   "execution_count": null,
   "id": "65709a3f",
   "metadata": {},
   "outputs": [],
   "source": []
  },
  {
   "cell_type": "code",
   "execution_count": null,
   "id": "49f8b228",
   "metadata": {},
   "outputs": [],
   "source": []
  },
  {
   "cell_type": "code",
   "execution_count": null,
   "id": "fd511fdf",
   "metadata": {},
   "outputs": [],
   "source": []
  },
  {
   "cell_type": "code",
   "execution_count": null,
   "id": "d814805d",
   "metadata": {},
   "outputs": [],
   "source": []
  },
  {
   "cell_type": "code",
   "execution_count": null,
   "id": "35a729c4",
   "metadata": {},
   "outputs": [],
   "source": []
  },
  {
   "cell_type": "code",
   "execution_count": null,
   "id": "76e7c8a3",
   "metadata": {},
   "outputs": [],
   "source": []
  },
  {
   "cell_type": "code",
   "execution_count": null,
   "id": "f50528aa",
   "metadata": {},
   "outputs": [],
   "source": []
  },
  {
   "cell_type": "code",
   "execution_count": null,
   "id": "89bd5e36",
   "metadata": {},
   "outputs": [],
   "source": []
  },
  {
   "cell_type": "markdown",
   "id": "72dab321",
   "metadata": {},
   "source": [
    "## Chapter 4. Training Models"
   ]
  },
  {
   "cell_type": "markdown",
   "id": "1041a164",
   "metadata": {},
   "source": [
    "Hasta ahora, hemos tratado los modelos de Machine Learning y sus algoritmos de entrenamiento en su mayoría como cajas negras."
   ]
  },
  {
   "cell_type": "markdown",
   "id": "1a8410c7",
   "metadata": {},
   "source": [
    "* optimizar un sistema de regresión, \n",
    "* mejoró un clasificador de imágenes de dígitos e incluso construyó un clasificador de spam desde cero,   \n",
    "\n",
    "todo esto sin saber cómo funcionan realmente."
   ]
  },
  {
   "cell_type": "markdown",
   "id": "a96842f5",
   "metadata": {},
   "source": [
    "De hecho, en muchas situaciones no es necesario conocer los detalles de implementación."
   ]
  },
  {
   "cell_type": "markdown",
   "id": "4d8c17c6",
   "metadata": {},
   "source": [
    "Sin embargo, tener una buena comprensión de cómo funcionan las cosas puede ayudarlo a encontrar rápidamente el modelo apropiado, el algoritmo de entrenamiento adecuado para usar y un buen conjunto de hiperparámetros para su tarea.\n",
    " \n",
    "Comprender qué hay debajo del capó también lo ayudará a depurar problemas y realizar análisis de errores de manera más eficiente. Por último, la mayoría de los temas discutidos en este capítulo serán esenciales para comprender, construir y entrenar redes neuronales (discutidos en la Parte II de este libro).\n",
    "\n",
    "En este capítulo, comenzaremos analizando el modelo de regresión lineal, uno de los modelos más simples que existen. Hablaremos de dos formas muy diferentes de entrenarlo:"
   ]
  },
  {
   "cell_type": "code",
   "execution_count": null,
   "id": "8e27add7",
   "metadata": {},
   "outputs": [],
   "source": []
  },
  {
   "cell_type": "code",
   "execution_count": null,
   "id": "e099f3a3",
   "metadata": {},
   "outputs": [],
   "source": []
  },
  {
   "cell_type": "code",
   "execution_count": null,
   "id": "96b9478c",
   "metadata": {},
   "outputs": [],
   "source": []
  },
  {
   "cell_type": "code",
   "execution_count": null,
   "id": "a479dd03",
   "metadata": {},
   "outputs": [],
   "source": []
  },
  {
   "cell_type": "code",
   "execution_count": null,
   "id": "fb57aa21",
   "metadata": {},
   "outputs": [],
   "source": []
  },
  {
   "cell_type": "code",
   "execution_count": null,
   "id": "fb932d3c",
   "metadata": {},
   "outputs": [],
   "source": []
  },
  {
   "cell_type": "code",
   "execution_count": null,
   "id": "61c2801e",
   "metadata": {},
   "outputs": [],
   "source": []
  },
  {
   "cell_type": "code",
   "execution_count": null,
   "id": "615c3d3f",
   "metadata": {},
   "outputs": [],
   "source": []
  },
  {
   "cell_type": "code",
   "execution_count": null,
   "id": "4f7bb3d1",
   "metadata": {},
   "outputs": [],
   "source": []
  },
  {
   "cell_type": "code",
   "execution_count": null,
   "id": "f2811370",
   "metadata": {},
   "outputs": [],
   "source": []
  },
  {
   "cell_type": "code",
   "execution_count": null,
   "id": "dd57616e",
   "metadata": {},
   "outputs": [],
   "source": []
  },
  {
   "cell_type": "code",
   "execution_count": null,
   "id": "6a66d4a4",
   "metadata": {},
   "outputs": [],
   "source": []
  },
  {
   "cell_type": "code",
   "execution_count": null,
   "id": "2cac72f7",
   "metadata": {},
   "outputs": [],
   "source": []
  },
  {
   "cell_type": "code",
   "execution_count": null,
   "id": "979629c1",
   "metadata": {},
   "outputs": [],
   "source": []
  },
  {
   "cell_type": "code",
   "execution_count": null,
   "id": "23fb039e",
   "metadata": {},
   "outputs": [],
   "source": []
  },
  {
   "cell_type": "code",
   "execution_count": null,
   "id": "6a2f9f23",
   "metadata": {},
   "outputs": [],
   "source": []
  },
  {
   "cell_type": "code",
   "execution_count": null,
   "id": "fc10dac5",
   "metadata": {},
   "outputs": [],
   "source": []
  },
  {
   "cell_type": "code",
   "execution_count": null,
   "id": "c9e108af",
   "metadata": {},
   "outputs": [],
   "source": []
  },
  {
   "cell_type": "code",
   "execution_count": null,
   "id": "7a53bb49",
   "metadata": {},
   "outputs": [],
   "source": []
  },
  {
   "cell_type": "code",
   "execution_count": null,
   "id": "b79fa83b",
   "metadata": {},
   "outputs": [],
   "source": []
  },
  {
   "cell_type": "code",
   "execution_count": null,
   "id": "912e05a0",
   "metadata": {},
   "outputs": [],
   "source": []
  },
  {
   "cell_type": "markdown",
   "id": "5069ec06",
   "metadata": {},
   "source": [
    "## Referencias  \n",
    "\n",
    "* Regresión lineal desde Géron: https://github.com/ageron/handson-ml/blob/master/04_training_linear_models.ipynb  "
   ]
  },
  {
   "cell_type": "code",
   "execution_count": null,
   "id": "f68c7da3",
   "metadata": {},
   "outputs": [],
   "source": []
  }
 ],
 "metadata": {
  "celltoolbar": "Slideshow",
  "kernelspec": {
   "display_name": "Python 3 (ipykernel)",
   "language": "python",
   "name": "python3"
  },
  "language_info": {
   "codemirror_mode": {
    "name": "ipython",
    "version": 3
   },
   "file_extension": ".py",
   "mimetype": "text/x-python",
   "name": "python",
   "nbconvert_exporter": "python",
   "pygments_lexer": "ipython3",
   "version": "3.9.7"
  }
 },
 "nbformat": 4,
 "nbformat_minor": 5
}
