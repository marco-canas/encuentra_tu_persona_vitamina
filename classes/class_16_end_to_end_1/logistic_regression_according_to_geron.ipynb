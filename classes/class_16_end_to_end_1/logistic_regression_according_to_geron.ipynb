{
 "cells": [
  {
   "cell_type": "markdown",
   "id": "3bd344ff",
   "metadata": {
    "slideshow": {
     "slide_type": "slide"
    }
   },
   "source": [
    "\n",
    "<table align=\"left\">\n",
    "  <td>\n",
    "    <a href=\"https://colab.research.google.com/github/marco-canas/intro-Machine-Learning/blob/main/classes/class_16_end_to_end_1/class_16_end_to_end_1.ipynb\" target=\"_parent\"><img src=\"https://colab.research.google.com/assets/colab-badge.svg\" alt=\"Open In Colab\"/></a>\n",
    "  </td>\n",
    "  <td>\n",
    "    <a target=\"_blank\" href=\"https://kaggle.com/kernels/welcome?src=https://github.com/marco-canas/intro-Machine-Learning/blob/main/classes/class_16_end_to_end_1/class_16_end_to_end_1.ipynb\"><img src=\"https://kaggle.com/static/images/open-in-kaggle.svg\" /></a>\n",
    "  </td>\n",
    "</table> \n"
   ]
  },
  {
   "cell_type": "markdown",
   "id": "819fc398",
   "metadata": {
    "slideshow": {
     "slide_type": "slide"
    }
   },
   "source": [
    "# Logistic regression according to Géron"
   ]
  },
  {
   "cell_type": "markdown",
   "id": "eac5ecbc",
   "metadata": {
    "slideshow": {
     "slide_type": "slide"
    }
   },
   "source": [
    "Notación Mustafá "
   ]
  },
  {
   "cell_type": "markdown",
   "id": "65e8dd73",
   "metadata": {
    "slideshow": {
     "slide_type": "slide"
    }
   },
   "source": [
    "Se pueden usar algunos algoritmos de regresión para la clasificación (y viceversa)."
   ]
  },
  {
   "cell_type": "markdown",
   "id": "84985a35",
   "metadata": {
    "slideshow": {
     "slide_type": "slide"
    }
   },
   "source": [
    "La regresión logística (también llamada regresión logit) se usa comúnmente para estimar la probabilidad de que una instancia pertenezca a una clase en particular (por ejemplo, "
   ]
  },
  {
   "cell_type": "markdown",
   "id": "edbfd599",
   "metadata": {
    "slideshow": {
     "slide_type": "slide"
    }
   },
   "source": [
    "¿cuál es la probabilidad de que este correo electrónico sea spam?)."
   ]
  },
  {
   "cell_type": "markdown",
   "id": "dbe8c9bb",
   "metadata": {
    "slideshow": {
     "slide_type": "slide"
    }
   },
   "source": [
    "Si la probabilidad estimada es mayor al 50%, entonces el modelo predice que la instancia pertenece a esa clase (llamada clase positiva, etiquetada como “1”), y de lo contrario predice que no (es decir, pertenece a la clase negativa , etiquetado como “0”). Esto lo convierte en un clasificador binario."
   ]
  },
  {
   "cell_type": "markdown",
   "id": "64acbf8f",
   "metadata": {
    "slideshow": {
     "slide_type": "slide"
    }
   },
   "source": [
    "## Estimación de probabilidades"
   ]
  },
  {
   "cell_type": "markdown",
   "id": "00ef1455",
   "metadata": {
    "slideshow": {
     "slide_type": "slide"
    }
   },
   "source": [
    "Entonces, ¿cómo funciona la regresión logística? "
   ]
  },
  {
   "cell_type": "markdown",
   "id": "949c399b",
   "metadata": {
    "slideshow": {
     "slide_type": "slide"
    }
   },
   "source": [
    "* Al igual que un modelo de regresión lineal, un modelo de regresión logística calcula una suma ponderada de las características de entrada (más un término de sesgo), \n",
    "* pero en lugar de generar el resultado directamente como lo hace el modelo de regresión lineal, genera la logística de este resultado :"
   ]
  },
  {
   "cell_type": "markdown",
   "id": "36be787d",
   "metadata": {
    "slideshow": {
     "slide_type": "slide"
    }
   },
   "source": [
    "$$p = h_{w}(x) = \\sigma(x^{T}w)   \\nonumber $$"
   ]
  },
  {
   "cell_type": "markdown",
   "id": "62e336c2",
   "metadata": {},
   "source": [
    "La logística, denominada $\\sigma(\\cdot)$, es una función sigmoidea (es decir, con forma de S) que genera un número entre 0 y 1. Se define como: \n",
    "\n",
    "$$\\sigma(t) = \\frac{1}{1 + e^{-t}} \\nonumber $$\n"
   ]
  },
  {
   "cell_type": "code",
   "execution_count": 8,
   "id": "e9a1324d",
   "metadata": {},
   "outputs": [],
   "source": [
    "import numpy as np \n",
    "import matplotlib.pyplot as plt \n",
    "#from matplotlib.patches import Polygon\n",
    "# plt.rc(usetex = True)\n"
   ]
  },
  {
   "cell_type": "code",
   "execution_count": 5,
   "id": "52ef08a8",
   "metadata": {
    "scrolled": true
   },
   "outputs": [
    {
     "data": {
      "image/png": "[encoded data removed]",
      "text/plain": [
       "<Figure size 648x216 with 1 Axes>"
      ]
     },
     "metadata": {
      "needs_background": "light"
     },
     "output_type": "display_data"
    }
   ],
   "source": [
    "t = np.linspace(-10,10, 100)\n",
    "sig = 1/(1 + np.exp(-t)) \n",
    "\n",
    "plt.figure(figsize = (9,3)) \n",
    "plt.plot([-10,10], [0,0], 'k-') \n",
    "plt.plot([-10,10], [0.5,0.5], 'k:') \n",
    "plt.plot([-10,10],[1,1], 'k:') \n",
    "plt.plot([0,0], [-0.1, 1.1], 'k-')\n",
    "\n",
    "plt.plot(t,sig,'b-', linewidth = 2, label = r\"$\\sigma(t) = \\frac{1}{1 + e^{-t}}$\")\n",
    "plt.legend(loc = 'upper left', fontsize = 20 ) \n",
    "\n",
    "plt.xlabel = 't'  \n",
    "\n",
    "plt.axis([-10,10, -0.1, 1.1])\n",
    "plt.savefig('Gráfico de una función logística.jpg') \n",
    "\n",
    "plt.show() \n"
   ]
  },
  {
   "cell_type": "code",
   "execution_count": null,
   "id": "698b8900",
   "metadata": {},
   "outputs": [],
   "source": []
  },
  {
   "cell_type": "code",
   "execution_count": 2,
   "id": "2e816603",
   "metadata": {},
   "outputs": [
    {
     "data": {
      "text/plain": [
       "dict_keys(['data', 'target', 'frame', 'target_names', 'DESCR', 'feature_names', 'filename'])"
      ]
     },
     "execution_count": 2,
     "metadata": {},
     "output_type": "execute_result"
    }
   ],
   "source": [
    "from sklearn import datasets \n",
    "iris = datasets.load_iris() \n",
    "iris.keys()"
   ]
  },
  {
   "cell_type": "code",
   "execution_count": 11,
   "id": "33b65f3b",
   "metadata": {},
   "outputs": [],
   "source": [
    "# print(iris.DESCR)"
   ]
  },
  {
   "cell_type": "code",
   "execution_count": 15,
   "id": "0d66908f",
   "metadata": {},
   "outputs": [],
   "source": [
    "X = (iris['data'])[:,3:]   # petal width \n",
    "y = (iris['target'] == 2).astype(np.int16) # 1 if iris['virginica'] else: 0 "
   ]
  },
  {
   "cell_type": "code",
   "execution_count": 18,
   "id": "cf99e3ec",
   "metadata": {},
   "outputs": [
    {
     "data": {
      "text/plain": [
       "LogisticRegression(random_state=42, solver='liblinear')"
      ]
     },
     "execution_count": 18,
     "metadata": {},
     "output_type": "execute_result"
    }
   ],
   "source": [
    "from sklearn.linear_model import LogisticRegression\n",
    "log_reg = LogisticRegression(solver = 'liblinear', random_state = 42) \n",
    "log_reg.fit(X,y) "
   ]
  },
  {
   "cell_type": "code",
   "execution_count": 19,
   "id": "8de0a767",
   "metadata": {},
   "outputs": [],
   "source": [
    "x_new = np.linspace(0,3,1000).reshape(-1,1) "
   ]
  },
  {
   "cell_type": "code",
   "execution_count": null,
   "id": "c474d277",
   "metadata": {},
   "outputs": [],
   "source": []
  },
  {
   "cell_type": "code",
   "execution_count": null,
   "id": "f3812c9e",
   "metadata": {},
   "outputs": [],
   "source": []
  },
  {
   "cell_type": "code",
   "execution_count": 3,
   "id": "559f35c7",
   "metadata": {},
   "outputs": [
    {
     "name": "stdout",
     "output_type": "stream",
     "text": [
      "Collecting package metadata (current_repodata.json): ...working... done\n",
      "Solving environment: ...working... done\n",
      "\n",
      "## Package Plan ##\n",
      "\n",
      "  environment location: C:\\Users\\Marco\\anaconda3\n",
      "\n",
      "  added / updated specs:\n",
      "    - conda\n",
      "\n",
      "\n",
      "The following packages will be downloaded:\n",
      "\n",
      "    package                    |            build\n",
      "    ---------------------------|-----------------\n",
      "    conda-4.11.0               |   py39haa95532_0        14.4 MB\n",
      "    ------------------------------------------------------------\n",
      "                                           Total:        14.4 MB\n",
      "\n",
      "The following packages will be SUPERSEDED by a higher-priority channel:\n",
      "\n",
      "  conda              conda-forge::conda-4.11.0-py39hcbf530~ --> pkgs/main::conda-4.11.0-py39haa95532_0\n",
      "\n",
      "\n",
      "\n",
      "Downloading and Extracting Packages\n",
      "\n",
      "conda-4.11.0         | 14.4 MB   |            |   0% \n",
      "conda-4.11.0         | 14.4 MB   |            |   0% \n",
      "conda-4.11.0         | 14.4 MB   |            |   0% \n",
      "conda-4.11.0         | 14.4 MB   |            |   1% \n",
      "conda-4.11.0         | 14.4 MB   | 1          |   2% \n",
      "conda-4.11.0         | 14.4 MB   | 3          |   3% \n",
      "conda-4.11.0         | 14.4 MB   | 4          |   5% \n",
      "conda-4.11.0         | 14.4 MB   | 7          |   8% \n",
      "conda-4.11.0         | 14.4 MB   | #1         |  12% \n",
      "conda-4.11.0         | 14.4 MB   | #5         |  16% \n",
      "conda-4.11.0         | 14.4 MB   | #9         |  19% \n",
      "conda-4.11.0         | 14.4 MB   | ##2        |  22% \n",
      "conda-4.11.0         | 14.4 MB   | ##4        |  25% \n",
      "conda-4.11.0         | 14.4 MB   | ##6        |  27% \n",
      "conda-4.11.0         | 14.4 MB   | ##8        |  28% \n",
      "conda-4.11.0         | 14.4 MB   | ###1       |  32% \n",
      "conda-4.11.0         | 14.4 MB   | ###6       |  37% \n",
      "conda-4.11.0         | 14.4 MB   | ###9       |  39% \n",
      "conda-4.11.0         | 14.4 MB   | ####1      |  42% \n",
      "conda-4.11.0         | 14.4 MB   | ####5      |  46% \n",
      "conda-4.11.0         | 14.4 MB   | ####8      |  49% \n",
      "conda-4.11.0         | 14.4 MB   | #####1     |  51% \n",
      "conda-4.11.0         | 14.4 MB   | #####3     |  54% \n",
      "conda-4.11.0         | 14.4 MB   | #####7     |  58% \n",
      "conda-4.11.0         | 14.4 MB   | ######     |  60% \n",
      "conda-4.11.0         | 14.4 MB   | ######3    |  64% \n",
      "conda-4.11.0         | 14.4 MB   | ######7    |  67% \n",
      "conda-4.11.0         | 14.4 MB   | #######1   |  72% \n",
      "conda-4.11.0         | 14.4 MB   | #######5   |  75% \n",
      "conda-4.11.0         | 14.4 MB   | #######8   |  79% \n",
      "conda-4.11.0         | 14.4 MB   | ########3  |  83% \n",
      "conda-4.11.0         | 14.4 MB   | ########8  |  88% \n",
      "conda-4.11.0         | 14.4 MB   | #########4 |  94% \n",
      "conda-4.11.0         | 14.4 MB   | #########9 | 100% \n",
      "conda-4.11.0         | 14.4 MB   | ########## | 100% \n",
      "Preparing transaction: ...working... done\n",
      "Verifying transaction: ...working... done\n",
      "Executing transaction: ...working... done\n",
      "\n",
      "Note: you may need to restart the kernel to use updated packages.\n"
     ]
    }
   ],
   "source": [
    "conda update -n base -c defaults conda"
   ]
  },
  {
   "cell_type": "code",
   "execution_count": null,
   "id": "43d7eac7",
   "metadata": {},
   "outputs": [],
   "source": []
  },
  {
   "cell_type": "code",
   "execution_count": null,
   "id": "ae41dc50",
   "metadata": {},
   "outputs": [],
   "source": []
  },
  {
   "cell_type": "code",
   "execution_count": null,
   "id": "f14e9bec",
   "metadata": {},
   "outputs": [],
   "source": []
  },
  {
   "cell_type": "code",
   "execution_count": null,
   "id": "f1728b64",
   "metadata": {},
   "outputs": [],
   "source": []
  },
  {
   "cell_type": "code",
   "execution_count": null,
   "id": "0539f0cf",
   "metadata": {},
   "outputs": [],
   "source": []
  },
  {
   "cell_type": "code",
   "execution_count": null,
   "id": "c107bd19",
   "metadata": {},
   "outputs": [],
   "source": []
  },
  {
   "cell_type": "code",
   "execution_count": null,
   "id": "b88a1cb3",
   "metadata": {},
   "outputs": [],
   "source": []
  },
  {
   "cell_type": "markdown",
   "id": "e02486f1",
   "metadata": {},
   "source": [
    "# Referentes\n",
    "\n",
    "* Cuaderno de Geron sobre regresión lineal: https://github.com/ageron/handson-ml/blob/master/04_training_linear_models.ipynb"
   ]
  }
 ],
 "metadata": {
  "celltoolbar": "Slideshow",
  "kernelspec": {
   "display_name": "Python 3 (ipykernel)",
   "language": "python",
   "name": "python3"
  },
  "language_info": {
   "codemirror_mode": {
    "name": "ipython",
    "version": 3
   },
   "file_extension": ".py",
   "mimetype": "text/x-python",
   "name": "python",
   "nbconvert_exporter": "python",
   "pygments_lexer": "ipython3",
   "version": "3.9.7"
  }
 },
 "nbformat": 4,
 "nbformat_minor": 5
}
