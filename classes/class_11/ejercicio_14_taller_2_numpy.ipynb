{
 "cells": [
  {
   "cell_type": "markdown",
   "id": "15b033ae",
   "metadata": {
    "slideshow": {
     "slide_type": "slide"
    }
   },
   "source": [
    "\n",
    "<table align=\"left\">\n",
    "  <td>\n",
    "    <a href=\"https://colab.research.google.com/github/marco-canas/introducci-n-al-Machine-Learning/blob/main/classes/class_10/class_10_taller_numpy.ipynb\" target=\"_parent\"><img src=\"https://colab.research.google.com/assets/colab-badge.svg\" alt=\"Open In Colab\"/></a>\n",
    "  </td>\n",
    "  <td>\n",
    "    <a target=\"_blank\" href=\"https://kaggle.com/kernels/welcome?src=https://github.com/marco-canas/introducci-n-al-Machine-Learning/blob/main/classes/class_10/class_10_taller_numpy.ipynb\"><img src=\"https://kaggle.com/static/images/open-in-kaggle.svg\" /></a>\n",
    "  </td>\n",
    "</table> \n"
   ]
  },
  {
   "cell_type": "markdown",
   "id": "ab6850cd",
   "metadata": {
    "slideshow": {
     "slide_type": "slide"
    }
   },
   "source": [
    "# Trabajo del estudiante Jose Luis Camilo Torres Meriño"
   ]
  },
  {
   "cell_type": "code",
   "execution_count": 2,
   "id": "5328823f",
   "metadata": {},
   "outputs": [],
   "source": [
    "import numpy as np\n",
    "import random as rd"
   ]
  },
  {
   "cell_type": "code",
   "execution_count": 3,
   "id": "61818e9a",
   "metadata": {
    "slideshow": {
     "slide_type": "slide"
    }
   },
   "outputs": [
    {
     "data": {
      "text/plain": [
       "'\\na=np.array([[1,2,3],[4,5,6]])\\n\\nb=np.array([[1,2,3,4],[5,6,7,8]])\\n\\nc=np.array([[1,2,3],[4,5,6],[7,8,9]])\\n\\nd=np.array([[0,1,2,3],[4,0,5,6],[7,8,0,9]])\\n'"
      ]
     },
     "execution_count": 3,
     "metadata": {},
     "output_type": "execute_result"
    }
   ],
   "source": [
    "'''\n",
    "a=np.array([[1,2,3],[4,5,6]])\n",
    "\n",
    "b=np.array([[1,2,3,4],[5,6,7,8]])\n",
    "\n",
    "c=np.array([[1,2,3],[4,5,6],[7,8,9]])\n",
    "\n",
    "d=np.array([[0,1,2,3],[4,0,5,6],[7,8,0,9]])\n",
    "'''"
   ]
  },
  {
   "cell_type": "code",
   "execution_count": 4,
   "id": "9bd76ed7",
   "metadata": {
    "slideshow": {
     "slide_type": "slide"
    }
   },
   "outputs": [],
   "source": [
    "m = rd.randint(1,5)\n",
    "n = rd.randint(1,5)\n",
    "r = rd.randint(1,5)\n",
    "p = rd.randint(1,5)"
   ]
  },
  {
   "cell_type": "code",
   "execution_count": 5,
   "id": "bca14ed3",
   "metadata": {
    "slideshow": {
     "slide_type": "slide"
    }
   },
   "outputs": [],
   "source": [
    "a = 1*np.ones([m,n])\n",
    "b = 2*np.ones([m,p])\n",
    "c = 3*np.ones([r,n])\n",
    "d = 4*np.ones([r,p])"
   ]
  },
  {
   "cell_type": "code",
   "execution_count": 6,
   "id": "5d1240f5",
   "metadata": {},
   "outputs": [
    {
     "name": "stdout",
     "output_type": "stream",
     "text": [
      "(5, 1)\n",
      "(5, 4)\n",
      "(1, 1)\n",
      "(1, 4)\n"
     ]
    }
   ],
   "source": [
    "print(a.shape)\n",
    "print(b.shape)\n",
    "print(c.shape)\n",
    "print(d.shape)"
   ]
  },
  {
   "cell_type": "code",
   "execution_count": 7,
   "id": "94b4eb91",
   "metadata": {
    "scrolled": false
   },
   "outputs": [
    {
     "name": "stderr",
     "output_type": "stream",
     "text": [
      "<ipython-input-7-de5cda5f38e1>:1: VisibleDeprecationWarning: Creating an ndarray from ragged nested sequences (which is a list-or-tuple of lists-or-tuples-or ndarrays with different lengths or shapes) is deprecated. If you meant to do this, you must specify 'dtype=object' when creating the ndarray.\n",
      "  Matriz=np.array([[a,b],[c,d]])\n"
     ]
    }
   ],
   "source": [
    "Matriz=np.array([[a,b],[c,d]])"
   ]
  },
  {
   "cell_type": "markdown",
   "id": "cfe21081",
   "metadata": {},
   "source": [
    "Se desaconseja la creación de un ndarray a partir de secuencias anidadas irregulares (que es una lista o tupla de listas o tuplas o ndarrays con diferentes longitudes o formas). Si pretendía hacer esto, debe especificar 'dtype=object' al crear el ndarray."
   ]
  },
  {
   "cell_type": "code",
   "execution_count": 8,
   "id": "a2d250a7",
   "metadata": {},
   "outputs": [
    {
     "name": "stdout",
     "output_type": "stream",
     "text": [
      "[[array([[1.],\n",
      "         [1.],\n",
      "         [1.],\n",
      "         [1.],\n",
      "         [1.]]) array([[2., 2., 2., 2.],\n",
      "                       [2., 2., 2., 2.],\n",
      "                       [2., 2., 2., 2.],\n",
      "                       [2., 2., 2., 2.],\n",
      "                       [2., 2., 2., 2.]])]\n",
      " [array([[3.]]) array([[4., 4., 4., 4.]])]]\n",
      "(2, 2)\n"
     ]
    }
   ],
   "source": [
    "print(Matriz)\n",
    "print(Matriz.shape)"
   ]
  },
  {
   "cell_type": "markdown",
   "id": "280dc69a",
   "metadata": {},
   "source": [
    "## Solución sugerida"
   ]
  },
  {
   "cell_type": "markdown",
   "id": "76eaab5c",
   "metadata": {},
   "source": [
    "14. Defina la función $matrizDeMatrices(A_{m\\times n}, B_{m \\times p}, C_{r \\times n}, D_{r \\times p)}$ que tenga\n",
    "como argumentos las cuatro matrices indicadas con sus respectivos órdenes y que retorne la matriz \n",
    "\n",
    "$$ M_{(m+r)\\times (n+p)} = \\begin{bmatrix} A_{m\\times n} & B_{m\\times p} \\\\ C_{r \\times n} & D_{r \\times p} \\end{bmatrix}\n",
    " \\nonumber $$\n"
   ]
  },
  {
   "cell_type": "code",
   "execution_count": 9,
   "id": "6093a7b0",
   "metadata": {},
   "outputs": [],
   "source": [
    "def matrizDeMatrices(A,B,C,D):\n",
    "    E = np.hstack((A,B))\n",
    "    F = np.hstack((C,D))\n",
    "    G = np.vstack((E,F)) \n",
    "    return G  "
   ]
  },
  {
   "cell_type": "code",
   "execution_count": null,
   "id": "ae649952",
   "metadata": {},
   "outputs": [],
   "source": [
    "import numpy as np \n",
    "m = rd.randint(1,5)\n",
    "n = rd.randint(1,5)\n",
    "r = rd.randint(1,5)\n",
    "p = rd.randint(1,5)"
   ]
  },
  {
   "cell_type": "code",
   "execution_count": 15,
   "id": "34a1997d",
   "metadata": {},
   "outputs": [
    {
     "data": {
      "text/plain": [
       "9"
      ]
     },
     "execution_count": 15,
     "metadata": {},
     "output_type": "execute_result"
    }
   ],
   "source": [
    "m+r "
   ]
  },
  {
   "cell_type": "code",
   "execution_count": 16,
   "id": "cb32e971",
   "metadata": {},
   "outputs": [
    {
     "data": {
      "text/plain": [
       "7"
      ]
     },
     "execution_count": 16,
     "metadata": {},
     "output_type": "execute_result"
    }
   ],
   "source": [
    "n+p"
   ]
  },
  {
   "cell_type": "code",
   "execution_count": null,
   "id": "be3f3e59",
   "metadata": {},
   "outputs": [],
   "source": [
    "A = np.ones([m,n])\n",
    "B = 2*np.ones([m,p])\n",
    "C = 3*np.ones([r,n])\n",
    "D = 4*np.ones([r,p])"
   ]
  },
  {
   "cell_type": "code",
   "execution_count": 11,
   "id": "5b394171",
   "metadata": {},
   "outputs": [],
   "source": [
    "F = matrizDeMatrices(A,B,C,D)"
   ]
  },
  {
   "cell_type": "code",
   "execution_count": 12,
   "id": "f358732b",
   "metadata": {},
   "outputs": [
    {
     "data": {
      "text/plain": [
       "array([[1., 1., 1., 2., 2., 2., 2.],\n",
       "       [1., 1., 1., 2., 2., 2., 2.],\n",
       "       [1., 1., 1., 2., 2., 2., 2.],\n",
       "       [1., 1., 1., 2., 2., 2., 2.],\n",
       "       [1., 1., 1., 2., 2., 2., 2.],\n",
       "       [3., 3., 3., 4., 4., 4., 4.],\n",
       "       [3., 3., 3., 4., 4., 4., 4.],\n",
       "       [3., 3., 3., 4., 4., 4., 4.],\n",
       "       [3., 3., 3., 4., 4., 4., 4.]])"
      ]
     },
     "execution_count": 12,
     "metadata": {},
     "output_type": "execute_result"
    }
   ],
   "source": [
    "F "
   ]
  },
  {
   "cell_type": "code",
   "execution_count": 14,
   "id": "a9485b21",
   "metadata": {},
   "outputs": [
    {
     "data": {
      "text/plain": [
       "(9, 7)"
      ]
     },
     "execution_count": 14,
     "metadata": {},
     "output_type": "execute_result"
    }
   ],
   "source": [
    "F.shape "
   ]
  },
  {
   "cell_type": "code",
   "execution_count": null,
   "id": "1bc837d8",
   "metadata": {},
   "outputs": [],
   "source": []
  }
 ],
 "metadata": {
  "celltoolbar": "Slideshow",
  "kernelspec": {
   "display_name": "Python 3",
   "language": "python",
   "name": "python3"
  },
  "language_info": {
   "codemirror_mode": {
    "name": "ipython",
    "version": 3
   },
   "file_extension": ".py",
   "mimetype": "text/x-python",
   "name": "python",
   "nbconvert_exporter": "python",
   "pygments_lexer": "ipython3",
   "version": "3.8.8"
  },
  "latex_envs": {
   "LaTeX_envs_menu_present": true,
   "autoclose": false,
   "autocomplete": false,
   "bibliofile": "biblio.bib",
   "cite_by": "apalike",
   "current_citInitial": 1,
   "eqLabelWithNumbers": true,
   "eqNumInitial": 1,
   "hotkeys": {
    "equation": "Ctrl-E",
    "itemize": "Ctrl-I"
   },
   "labels_anchors": false,
   "latex_user_defs": false,
   "report_style_numbering": false,
   "user_envs_cfg": false
  }
 },
 "nbformat": 4,
 "nbformat_minor": 5
}
