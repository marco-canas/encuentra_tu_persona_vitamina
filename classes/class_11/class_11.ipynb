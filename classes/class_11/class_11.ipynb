{
 "cells": [
  {
   "cell_type": "markdown",
   "id": "2a438184",
   "metadata": {
    "slideshow": {
     "slide_type": "slide"
    }
   },
   "source": [
    "<table align=\"left\">\n",
    "  <td>\n",
    "    <a href=\"https://colab.research.google.com/github/marco-canas/introducci-n-al-Machine-Learning/blob/main/classes/class_10/class_10_taller_numpy.ipynb\" target=\"_parent\"><img src=\"https://colab.research.google.com/assets/colab-badge.svg\" alt=\"Open In Colab\"/></a>\n",
    "  </td>\n",
    "  <td>\n",
    "    <a target=\"_blank\" href=\"https://kaggle.com/kernels/welcome?src=https://github.com/marco-canas/introducci-n-al-Machine-Learning/blob/main/classes/class_10/class_10_taller_numpy.ipynb\"><img src=\"https://kaggle.com/static/images/open-in-kaggle.svg\" /></a>\n",
    "  </td>\n",
    "</table> "
   ]
  },
  {
   "cell_type": "markdown",
   "id": "20b00cd9",
   "metadata": {
    "slideshow": {
     "slide_type": "slide"
    }
   },
   "source": [
    "# Clase 11 Pandas "
   ]
  },
  {
   "cell_type": "markdown",
   "id": "1d1ee1a4",
   "metadata": {
    "slideshow": {
     "slide_type": "slide"
    }
   },
   "source": [
    "## [Pandas según Géron](https://github.com/ageron/handson-ml/blob/master/tools_pandas.ipynb)"
   ]
  },
  {
   "cell_type": "markdown",
   "id": "e87445aa",
   "metadata": {
    "slideshow": {
     "slide_type": "slide"
    }
   },
   "source": [
    "La biblioteca pandas proporciona:\n",
    "\n",
    "* estructuras de datos y \n",
    "* herramientas de análisis de datos \n",
    "\n",
    "fáciles de usar y de alto rendimiento. "
   ]
  },
  {
   "cell_type": "markdown",
   "id": "4cf44f60",
   "metadata": {
    "slideshow": {
     "slide_type": "slide"
    }
   },
   "source": [
    "La estructura de datos principal es el **DataFrame**, que se puede considerar como una tabla 2D en memoria (como una hoja de cálculo, con nombres de columna y etiquetas de fila). "
   ]
  },
  {
   "cell_type": "markdown",
   "id": "ffa85d2e",
   "metadata": {
    "slideshow": {
     "slide_type": "slide"
    }
   },
   "source": [
    "Muchas funciones disponibles en Excel están disponibles mediante programación, como la creación de tablas dinámicas, el cálculo de columnas basadas en otras columnas, el trazado de gráficos, etc. "
   ]
  },
  {
   "cell_type": "markdown",
   "id": "d92677ab",
   "metadata": {
    "slideshow": {
     "slide_type": "slide"
    }
   },
   "source": [
    "También puede agrupar filas por valor de columna o unir tablas."
   ]
  },
  {
   "cell_type": "markdown",
   "id": "2c5a5caa",
   "metadata": {
    "slideshow": {
     "slide_type": "slide"
    }
   },
   "source": [
    " Pandas también es excelente para manejar series temporales."
   ]
  },
  {
   "cell_type": "code",
   "execution_count": 1,
   "id": "bf726368",
   "metadata": {
    "slideshow": {
     "slide_type": "slide"
    }
   },
   "outputs": [],
   "source": [
    "import pandas as pd"
   ]
  },
  {
   "cell_type": "markdown",
   "id": "f3c992a5",
   "metadata": {
    "slideshow": {
     "slide_type": "slide"
    }
   },
   "source": [
    "## Los Objetos Serie  \n",
    "\n",
    "Un objeto `Serie` es una matriz 1D, similar a una columna en una hoja de cálculo (con un nombre de columna y etiquetas de fila)."
   ]
  },
  {
   "cell_type": "markdown",
   "id": "872c65be",
   "metadata": {
    "slideshow": {
     "slide_type": "slide"
    }
   },
   "source": [
    "## El Objeto DataFrame.  "
   ]
  },
  {
   "cell_type": "markdown",
   "id": "a93c99dd",
   "metadata": {
    "slideshow": {
     "slide_type": "slide"
    }
   },
   "source": [
    "Esta es una tabla 2D, similar a una hoja de cálculo (con nombres de columnas y etiquetas de filas).\n"
   ]
  },
  {
   "cell_type": "markdown",
   "id": "7bff9c48",
   "metadata": {
    "slideshow": {
     "slide_type": "slide"
    }
   },
   "source": [
    "### Crear una serie"
   ]
  },
  {
   "cell_type": "code",
   "execution_count": 2,
   "id": "16f41dc0",
   "metadata": {
    "slideshow": {
     "slide_type": "slide"
    }
   },
   "outputs": [
    {
     "data": {
      "text/plain": [
       "0    2\n",
       "1   -1\n",
       "2    3\n",
       "3    5\n",
       "dtype: int64"
      ]
     },
     "execution_count": 2,
     "metadata": {},
     "output_type": "execute_result"
    }
   ],
   "source": [
    "s = pd.Series([2,-1,3,5])\n",
    "s"
   ]
  },
  {
   "cell_type": "markdown",
   "id": "29cdd5db",
   "metadata": {
    "slideshow": {
     "slide_type": "slide"
    }
   },
   "source": [
    "## Similar a un ndarray 1D"
   ]
  },
  {
   "cell_type": "markdown",
   "id": "0f42354e",
   "metadata": {
    "slideshow": {
     "slide_type": "slide"
    }
   },
   "source": [
    "Los objetos de serie se comportan de manera muy similar a los ndarrays NumPy unidimensionales y, a menudo, puede pasarlos como parámetros a las funciones NumPy:"
   ]
  },
  {
   "cell_type": "code",
   "execution_count": 4,
   "id": "20a8c42b",
   "metadata": {
    "slideshow": {
     "slide_type": "slide"
    }
   },
   "outputs": [
    {
     "data": {
      "text/plain": [
       "0      7.389056\n",
       "1      0.367879\n",
       "2     20.085537\n",
       "3    148.413159\n",
       "dtype: float64"
      ]
     },
     "execution_count": 4,
     "metadata": {},
     "output_type": "execute_result"
    }
   ],
   "source": [
    "import numpy as np\n",
    "np.exp(s)          # Note que hemos utilizado una serie de Pandas como parámetro de una función de NumPy."
   ]
  },
  {
   "cell_type": "markdown",
   "id": "ead34d65",
   "metadata": {
    "slideshow": {
     "slide_type": "slide"
    }
   },
   "source": [
    "Las operaciones aritméticas en `Series` también son posibles, y se aplican por elementos, al igual que para `ndarrays`:"
   ]
  },
  {
   "cell_type": "code",
   "execution_count": 8,
   "id": "82f1c801",
   "metadata": {
    "slideshow": {
     "slide_type": "slide"
    }
   },
   "outputs": [
    {
     "data": {
      "text/plain": [
       "0    1002\n",
       "1    1999\n",
       "2    3003\n",
       "3    4005\n",
       "dtype: int64"
      ]
     },
     "execution_count": 8,
     "metadata": {},
     "output_type": "execute_result"
    }
   ],
   "source": [
    "s + [1000,2000,3000,4000]\n"
   ]
  },
  {
   "cell_type": "markdown",
   "id": "28b06c1a",
   "metadata": {
    "slideshow": {
     "slide_type": "slide"
    }
   },
   "source": [
    "Similar a NumPy, si agrega un solo número a una serie, ese número se agrega a todos los elementos de la serie. Esto se llama *broadcasting*:"
   ]
  },
  {
   "cell_type": "code",
   "execution_count": 6,
   "id": "368acf39",
   "metadata": {
    "slideshow": {
     "slide_type": "slide"
    }
   },
   "outputs": [
    {
     "data": {
      "text/plain": [
       "0    1002\n",
       "1     999\n",
       "2    1003\n",
       "3    1005\n",
       "dtype: int64"
      ]
     },
     "execution_count": 6,
     "metadata": {},
     "output_type": "execute_result"
    }
   ],
   "source": [
    "s + 1000"
   ]
  },
  {
   "cell_type": "markdown",
   "id": "1a511904",
   "metadata": {
    "slideshow": {
     "slide_type": "slide"
    }
   },
   "source": [
    "Lo mismo se aplica a todas las operaciones binarias como `*` o `/`, e incluso a las operaciones condicionales:"
   ]
  },
  {
   "cell_type": "code",
   "execution_count": 9,
   "id": "122fac3c",
   "metadata": {
    "slideshow": {
     "slide_type": "slide"
    }
   },
   "outputs": [
    {
     "data": {
      "text/plain": [
       "0    False\n",
       "1     True\n",
       "2    False\n",
       "3    False\n",
       "dtype: bool"
      ]
     },
     "execution_count": 9,
     "metadata": {},
     "output_type": "execute_result"
    }
   ],
   "source": [
    "s < 0"
   ]
  },
  {
   "cell_type": "markdown",
   "id": "28b0232e",
   "metadata": {
    "slideshow": {
     "slide_type": "slide"
    }
   },
   "source": [
    "## Etiquetas como índice"
   ]
  },
  {
   "cell_type": "markdown",
   "id": "1ee770cf",
   "metadata": {
    "slideshow": {
     "slide_type": "slide"
    }
   },
   "source": [
    "Cada elemento de un objeto `Serie` tiene un identificador único denominado etiqueta de índice. "
   ]
  },
  {
   "cell_type": "markdown",
   "id": "a63c6def",
   "metadata": {
    "slideshow": {
     "slide_type": "slide"
    }
   },
   "source": [
    "De forma predeterminada, es simplemente el rango del elemento en la Serie (comenzando en 0), pero también puede configurar las etiquetas de índice manualmente:"
   ]
  },
  {
   "cell_type": "code",
   "execution_count": 10,
   "id": "78a092f8",
   "metadata": {
    "slideshow": {
     "slide_type": "slide"
    }
   },
   "outputs": [
    {
     "data": {
      "text/plain": [
       "alice       68\n",
       "bob         83\n",
       "charles    112\n",
       "darwin      68\n",
       "dtype: int64"
      ]
     },
     "execution_count": 10,
     "metadata": {},
     "output_type": "execute_result"
    }
   ],
   "source": [
    "s2 = pd.Series([68, 83, 112, 68], index=[\"alice\", \"bob\", \"charles\", \"darwin\"])\n",
    "s2"
   ]
  },
  {
   "cell_type": "markdown",
   "id": "99040af2",
   "metadata": {
    "slideshow": {
     "slide_type": "slide"
    }
   },
   "source": [
    "luego puede usar la Serie como un `dict`:"
   ]
  },
  {
   "cell_type": "code",
   "execution_count": 11,
   "id": "46731c7d",
   "metadata": {
    "slideshow": {
     "slide_type": "slide"
    }
   },
   "outputs": [
    {
     "data": {
      "text/plain": [
       "83"
      ]
     },
     "execution_count": 11,
     "metadata": {},
     "output_type": "execute_result"
    }
   ],
   "source": [
    "s2[\"bob\"]"
   ]
  },
  {
   "cell_type": "markdown",
   "id": "3a2461af",
   "metadata": {
    "slideshow": {
     "slide_type": "slide"
    }
   },
   "source": [
    "Todavía puede acceder a los elementos por ubicación entera, como en una matriz regular:"
   ]
  },
  {
   "cell_type": "code",
   "execution_count": 12,
   "id": "b423e515",
   "metadata": {
    "slideshow": {
     "slide_type": "slide"
    }
   },
   "outputs": [
    {
     "data": {
      "text/plain": [
       "83"
      ]
     },
     "execution_count": 12,
     "metadata": {},
     "output_type": "execute_result"
    }
   ],
   "source": [
    "s2[1]"
   ]
  },
  {
   "cell_type": "markdown",
   "id": "8d6f7941",
   "metadata": {
    "slideshow": {
     "slide_type": "slide"
    }
   },
   "source": [
    "Para que quede claro cuando se accede por etiqueta o por ubicación de número entero, se recomienda usar siempre \n",
    "* el atributo `.loc` cuando se accede por etiqueta y \n",
    "* el atributo `.iloc` cuando se accede por ubicación de número entero:"
   ]
  },
  {
   "cell_type": "code",
   "execution_count": 13,
   "id": "10626398",
   "metadata": {
    "slideshow": {
     "slide_type": "slide"
    }
   },
   "outputs": [
    {
     "data": {
      "text/plain": [
       "83"
      ]
     },
     "execution_count": 13,
     "metadata": {},
     "output_type": "execute_result"
    }
   ],
   "source": [
    "s2.loc[\"bob\"]"
   ]
  },
  {
   "cell_type": "code",
   "execution_count": 14,
   "id": "f73f1341",
   "metadata": {
    "slideshow": {
     "slide_type": "slide"
    }
   },
   "outputs": [
    {
     "data": {
      "text/plain": [
       "83"
      ]
     },
     "execution_count": 14,
     "metadata": {},
     "output_type": "execute_result"
    }
   ],
   "source": [
    "s2.iloc[1]"
   ]
  },
  {
   "cell_type": "code",
   "execution_count": null,
   "id": "290fa519",
   "metadata": {
    "slideshow": {
     "slide_type": "slide"
    }
   },
   "outputs": [],
   "source": [
    "Cortar una serie también corta las etiquetas de índice:"
   ]
  },
  {
   "cell_type": "code",
   "execution_count": 15,
   "id": "25bfc82f",
   "metadata": {
    "slideshow": {
     "slide_type": "slide"
    }
   },
   "outputs": [
    {
     "data": {
      "text/plain": [
       "bob         83\n",
       "charles    112\n",
       "dtype: int64"
      ]
     },
     "execution_count": 15,
     "metadata": {},
     "output_type": "execute_result"
    }
   ],
   "source": [
    "s2.iloc[1:3]"
   ]
  },
  {
   "cell_type": "markdown",
   "id": "ce8e91b1",
   "metadata": {
    "slideshow": {
     "slide_type": "slide"
    }
   },
   "source": [
    "Esto puede generar resultados inesperados al usar las etiquetas numéricas predeterminadas, así que tenga cuidado:"
   ]
  },
  {
   "cell_type": "code",
   "execution_count": 16,
   "id": "4e550eff",
   "metadata": {
    "slideshow": {
     "slide_type": "slide"
    }
   },
   "outputs": [
    {
     "data": {
      "text/plain": [
       "0    1000\n",
       "1    1001\n",
       "2    1002\n",
       "3    1003\n",
       "dtype: int64"
      ]
     },
     "execution_count": 16,
     "metadata": {},
     "output_type": "execute_result"
    }
   ],
   "source": [
    "surprise = pd.Series([1000, 1001, 1002, 1003])\n",
    "surprise"
   ]
  },
  {
   "cell_type": "code",
   "execution_count": 17,
   "id": "2406626c",
   "metadata": {
    "slideshow": {
     "slide_type": "slide"
    }
   },
   "outputs": [
    {
     "data": {
      "text/plain": [
       "2    1002\n",
       "3    1003\n",
       "dtype: int64"
      ]
     },
     "execution_count": 17,
     "metadata": {},
     "output_type": "execute_result"
    }
   ],
   "source": [
    "surprise_slice = surprise[2:]\n",
    "surprise_slice"
   ]
  },
  {
   "cell_type": "markdown",
   "id": "27944009",
   "metadata": {
    "slideshow": {
     "slide_type": "slide"
    }
   },
   "source": [
    "¡Oh mira! El primer elemento tiene la etiqueta de índice 2. El elemento con la etiqueta de índice 0 está ausente del sector:"
   ]
  },
  {
   "cell_type": "code",
   "execution_count": 18,
   "id": "6d8f758e",
   "metadata": {
    "slideshow": {
     "slide_type": "slide"
    }
   },
   "outputs": [
    {
     "name": "stdout",
     "output_type": "stream",
     "text": [
      "Key error: 0\n"
     ]
    }
   ],
   "source": [
    "try:\n",
    "    surprise_slice[0]\n",
    "except KeyError as e:\n",
    "    print(\"Key error:\", e)"
   ]
  },
  {
   "cell_type": "markdown",
   "id": "d8839310",
   "metadata": {
    "slideshow": {
     "slide_type": "slide"
    }
   },
   "source": [
    "Pero recuerda que puedes acceder a los elementos por ubicación entera usando el atributo `iloc`. "
   ]
  },
  {
   "cell_type": "markdown",
   "id": "68127f1e",
   "metadata": {
    "slideshow": {
     "slide_type": "slide"
    }
   },
   "source": [
    "Esto ilustra otra razón por la que siempre es mejor usar `loc` e `iloc` para acceder a los objetos `Series`:"
   ]
  },
  {
   "cell_type": "code",
   "execution_count": 19,
   "id": "ada87534",
   "metadata": {
    "slideshow": {
     "slide_type": "slide"
    }
   },
   "outputs": [
    {
     "data": {
      "text/plain": [
       "1002"
      ]
     },
     "execution_count": 19,
     "metadata": {},
     "output_type": "execute_result"
    }
   ],
   "source": [
    "surprise_slice.iloc[0]"
   ]
  },
  {
   "cell_type": "markdown",
   "id": "bbab212b",
   "metadata": {
    "slideshow": {
     "slide_type": "slide"
    }
   },
   "source": [
    "## Creación de una serie desde un diccionario"
   ]
  },
  {
   "cell_type": "markdown",
   "id": "45da3570",
   "metadata": {
    "slideshow": {
     "slide_type": "slide"
    }
   },
   "source": [
    "Puede crear un objeto `Serie` a partir de un diccionario. Las claves se utilizarán como etiquetas de índice:"
   ]
  },
  {
   "cell_type": "code",
   "execution_count": 20,
   "id": "9085301e",
   "metadata": {
    "slideshow": {
     "slide_type": "slide"
    }
   },
   "outputs": [
    {
     "data": {
      "text/plain": [
       "alice     68\n",
       "bob       83\n",
       "colin     86\n",
       "darwin    68\n",
       "dtype: int64"
      ]
     },
     "execution_count": 20,
     "metadata": {},
     "output_type": "execute_result"
    }
   ],
   "source": [
    "weights = {\"alice\": 68, \"bob\": 83, \"colin\": 86, \"darwin\": 68}\n",
    "s3 = pd.Series(weights)\n",
    "s3"
   ]
  },
  {
   "cell_type": "markdown",
   "id": "de6177b4",
   "metadata": {
    "slideshow": {
     "slide_type": "slide"
    }
   },
   "source": [
    "Puede controlar qué elementos desea incluir en la `Serie` y en qué orden especificando explícitamente el índice deseado:"
   ]
  },
  {
   "cell_type": "code",
   "execution_count": 21,
   "id": "2cc7f368",
   "metadata": {
    "slideshow": {
     "slide_type": "slide"
    }
   },
   "outputs": [
    {
     "data": {
      "text/plain": [
       "colin    86\n",
       "alice    68\n",
       "dtype: int64"
      ]
     },
     "execution_count": 21,
     "metadata": {},
     "output_type": "execute_result"
    }
   ],
   "source": [
    "s4 = pd.Series(weights, index = [\"colin\", \"alice\"])\n",
    "s4"
   ]
  },
  {
   "cell_type": "markdown",
   "id": "0da55d41",
   "metadata": {
    "slideshow": {
     "slide_type": "slide"
    }
   },
   "source": [
    "## Alineación automática"
   ]
  },
  {
   "cell_type": "markdown",
   "id": "5584b6b3",
   "metadata": {
    "slideshow": {
     "slide_type": "slide"
    }
   },
   "source": [
    "Cuando una operación involucra múltiples objetos `Series`, pandas alinea automáticamente los elementos haciendo coincidir las etiquetas de índice."
   ]
  },
  {
   "cell_type": "code",
   "execution_count": 22,
   "id": "61723e38",
   "metadata": {
    "slideshow": {
     "slide_type": "slide"
    }
   },
   "outputs": [
    {
     "name": "stdout",
     "output_type": "stream",
     "text": [
      "alice       68\n",
      "bob         83\n",
      "charles    112\n",
      "darwin      68\n",
      "dtype: int64\n",
      "alice     68\n",
      "bob       83\n",
      "colin     86\n",
      "darwin    68\n",
      "dtype: int64\n"
     ]
    }
   ],
   "source": [
    "print(s2)\n",
    "print(s3)"
   ]
  },
  {
   "cell_type": "code",
   "execution_count": 23,
   "id": "a0efea3a",
   "metadata": {
    "slideshow": {
     "slide_type": "slide"
    }
   },
   "outputs": [
    {
     "name": "stdout",
     "output_type": "stream",
     "text": [
      "Index(['alice', 'bob', 'charles', 'darwin'], dtype='object')\n",
      "Index(['alice', 'bob', 'colin', 'darwin'], dtype='object')\n"
     ]
    },
    {
     "data": {
      "text/plain": [
       "alice      136.0\n",
       "bob        166.0\n",
       "charles      NaN\n",
       "colin        NaN\n",
       "darwin     136.0\n",
       "dtype: float64"
      ]
     },
     "execution_count": 23,
     "metadata": {},
     "output_type": "execute_result"
    }
   ],
   "source": [
    "print(s2.keys())\n",
    "print(s3.keys())\n",
    "\n",
    "s2 + s3"
   ]
  },
  {
   "cell_type": "markdown",
   "id": "3f86bec3",
   "metadata": {
    "slideshow": {
     "slide_type": "slide"
    }
   },
   "source": [
    "La serie resultante contiene la unión de las etiquetas de índice de `s2` y `s3`. "
   ]
  },
  {
   "cell_type": "markdown",
   "id": "f2781401",
   "metadata": {
    "slideshow": {
     "slide_type": "slide"
    }
   },
   "source": [
    "Como falta \"colin\" en `s2` y \"charles\" en `s3`, estos elementos tienen un valor de resultado `NaN`. (es decir, Not-a-Number significa que falta)."
   ]
  },
  {
   "cell_type": "markdown",
   "id": "884320e6",
   "metadata": {
    "slideshow": {
     "slide_type": "slide"
    }
   },
   "source": [
    "La alineación automática es muy útil cuando se trabaja con datos que pueden provenir de varias fuentes con estructura variable y elementos faltantes. "
   ]
  },
  {
   "cell_type": "markdown",
   "id": "6628c1ab",
   "metadata": {
    "slideshow": {
     "slide_type": "slide"
    }
   },
   "source": [
    "Pero si olvida establecer las etiquetas de índice correctas, puede obtener resultados sorprendentes:"
   ]
  },
  {
   "cell_type": "code",
   "execution_count": 24,
   "id": "08b2febe",
   "metadata": {
    "slideshow": {
     "slide_type": "slide"
    }
   },
   "outputs": [
    {
     "name": "stdout",
     "output_type": "stream",
     "text": [
      "s2 = [ 68  83 112  68]\n",
      "s5 = [1000 1000 1000 1000]\n"
     ]
    },
    {
     "data": {
      "text/plain": [
       "alice     NaN\n",
       "bob       NaN\n",
       "charles   NaN\n",
       "darwin    NaN\n",
       "0         NaN\n",
       "1         NaN\n",
       "2         NaN\n",
       "3         NaN\n",
       "dtype: float64"
      ]
     },
     "execution_count": 24,
     "metadata": {},
     "output_type": "execute_result"
    }
   ],
   "source": [
    "s5 = pd.Series([1000,1000,1000,1000])\n",
    "print(\"s2 =\", s2.values)\n",
    "print(\"s5 =\", s5.values)\n",
    "\n",
    "s2 + s5"
   ]
  },
  {
   "cell_type": "markdown",
   "id": "a99e787a",
   "metadata": {
    "slideshow": {
     "slide_type": "slide"
    }
   },
   "source": [
    "Los pandas no pudieron alinear la serie, ya que sus etiquetas no coinciden en absoluto, de ahí el resultado completo de `NaN`."
   ]
  },
  {
   "cell_type": "markdown",
   "id": "b4ff16e7",
   "metadata": {
    "slideshow": {
     "slide_type": "slide"
    }
   },
   "source": [
    "## Crear una serie a partir de un escalar "
   ]
  },
  {
   "cell_type": "markdown",
   "id": "388e081c",
   "metadata": {
    "slideshow": {
     "slide_type": "slide"
    }
   },
   "source": [
    "También puede inicializar un objeto Serie usando:  \n",
    "\n",
    "* un escalar y \n",
    "* una lista de etiquetas de índice: \n",
    "\n",
    "todos los elementos se establecerán en el escalar."
   ]
  },
  {
   "cell_type": "code",
   "execution_count": 25,
   "id": "ab632df2",
   "metadata": {
    "slideshow": {
     "slide_type": "slide"
    }
   },
   "outputs": [
    {
     "data": {
      "text/plain": [
       "life          42\n",
       "universe      42\n",
       "everything    42\n",
       "dtype: int64"
      ]
     },
     "execution_count": 25,
     "metadata": {},
     "output_type": "execute_result"
    }
   ],
   "source": [
    "meaning = pd.Series(42, [\"life\", \"universe\", \"everything\"])\n",
    "meaning"
   ]
  },
  {
   "cell_type": "markdown",
   "id": "1d0f93c5",
   "metadata": {
    "slideshow": {
     "slide_type": "slide"
    }
   },
   "source": [
    "## Nombre de la serie"
   ]
  },
  {
   "cell_type": "markdown",
   "id": "00b774b9",
   "metadata": {
    "slideshow": {
     "slide_type": "slide"
    }
   },
   "source": [
    "Una serie puede tener un nombre:"
   ]
  },
  {
   "cell_type": "code",
   "execution_count": 26,
   "id": "8c33e652",
   "metadata": {
    "slideshow": {
     "slide_type": "slide"
    }
   },
   "outputs": [
    {
     "data": {
      "text/plain": [
       "bob      83\n",
       "alice    68\n",
       "Name: weights, dtype: int64"
      ]
     },
     "execution_count": 26,
     "metadata": {},
     "output_type": "execute_result"
    }
   ],
   "source": [
    "s6 = pd.Series([83, 68], index=[\"bob\", \"alice\"], name=\"weights\")\n",
    "s6"
   ]
  },
  {
   "cell_type": "markdown",
   "id": "5e585e39",
   "metadata": {
    "slideshow": {
     "slide_type": "slide"
    }
   },
   "source": [
    "## Trazar una serie"
   ]
  },
  {
   "cell_type": "markdown",
   "id": "be82a780",
   "metadata": {
    "slideshow": {
     "slide_type": "slide"
    }
   },
   "source": [
    "Pandas facilita la representación gráfica de datos de series con matplotlib.   \n",
    "\n",
    "Solo importe matplotlib y llama al método plot():"
   ]
  },
  {
   "cell_type": "code",
   "execution_count": 27,
   "id": "4664d4ee",
   "metadata": {
    "slideshow": {
     "slide_type": "slide"
    }
   },
   "outputs": [
    {
     "data": {
      "image/png": "[encoded data removed]",
      "text/plain": [
       "<Figure size 432x288 with 1 Axes>"
      ]
     },
     "metadata": {
      "needs_background": "light"
     },
     "output_type": "display_data"
    }
   ],
   "source": [
    "%matplotlib inline\n",
    "import matplotlib.pyplot as plt\n",
    "temperatures = [4.4,5.1,6.1,6.2,6.1,6.1,5.7,5.2,4.7,4.1,3.9,3.5]\n",
    "s7 = pd.Series(temperatures, name=\"Temperature\")\n",
    "s7.plot()\n",
    "plt.show()"
   ]
  },
  {
   "cell_type": "markdown",
   "id": "756e3553",
   "metadata": {
    "slideshow": {
     "slide_type": "slide"
    }
   },
   "source": [
    "Hay muchas opciones para trazar sus datos. "
   ]
  },
  {
   "cell_type": "markdown",
   "id": "7d7537a5",
   "metadata": {
    "slideshow": {
     "slide_type": "slide"
    }
   },
   "source": [
    "No es necesario enumerarlos todos aquí: si necesita un tipo particular de gráfico (histogramas, gráficos circulares, etc.), simplemente búsquelo en la excelente sección de Visualización de la documentación de pandas y mire el código de ejemplo."
   ]
  },
  {
   "cell_type": "markdown",
   "id": "98416cd8",
   "metadata": {
    "slideshow": {
     "slide_type": "slide"
    }
   },
   "source": [
    "## Manipulación del tiempo "
   ]
  },
  {
   "cell_type": "markdown",
   "id": "43d607f4",
   "metadata": {
    "slideshow": {
     "slide_type": "slide"
    }
   },
   "source": [
    "Muchos conjuntos de datos tienen marcas de tiempo, y pandas es excelente para manipular dichos datos:\n",
    "\n",
    "* puede representar períodos y frecuencias (como \"mensual\"),  \n",
    "* puede convertir períodos en marcas de tiempo reales, y viceversa,\n",
    "* puede volver a muestrear datos y agregar valores de la forma que desee,\n",
    "* puede manejar zonas horarias.\n",
    "* Intervalo de tiempo  "
   ]
  },
  {
   "cell_type": "markdown",
   "id": "849efee6",
   "metadata": {
    "slideshow": {
     "slide_type": "slide"
    }
   },
   "source": [
    "Comencemos por crear una serie de tiempo usando `pd.date_range()`. Esto devuelve un `DatetimeIndex` que contiene una fecha y hora por hora durante 12 horas a partir del 29 de octubre de 2016 a las 5:30 p. m."
   ]
  },
  {
   "cell_type": "code",
   "execution_count": 28,
   "id": "b334a389",
   "metadata": {
    "slideshow": {
     "slide_type": "slide"
    }
   },
   "outputs": [
    {
     "data": {
      "text/plain": [
       "DatetimeIndex(['2016-10-29 17:30:00', '2016-10-29 18:30:00',\n",
       "               '2016-10-29 19:30:00', '2016-10-29 20:30:00',\n",
       "               '2016-10-29 21:30:00', '2016-10-29 22:30:00',\n",
       "               '2016-10-29 23:30:00', '2016-10-30 00:30:00',\n",
       "               '2016-10-30 01:30:00', '2016-10-30 02:30:00',\n",
       "               '2016-10-30 03:30:00', '2016-10-30 04:30:00'],\n",
       "              dtype='datetime64[ns]', freq='H')"
      ]
     },
     "execution_count": 28,
     "metadata": {},
     "output_type": "execute_result"
    }
   ],
   "source": [
    "dates = pd.date_range('2016/10/29 5:30pm', periods=12, freq='H')\n",
    "dates"
   ]
  },
  {
   "cell_type": "markdown",
   "id": "9da52efb",
   "metadata": {
    "slideshow": {
     "slide_type": "slide"
    }
   },
   "source": [
    "Este `DatetimeIndex` puede usarse como un índice en una `Serie`:"
   ]
  },
  {
   "cell_type": "code",
   "execution_count": 29,
   "id": "ddc09c67",
   "metadata": {
    "slideshow": {
     "slide_type": "slide"
    }
   },
   "outputs": [
    {
     "data": {
      "text/plain": [
       "2016-10-29 17:30:00    4.4\n",
       "2016-10-29 18:30:00    5.1\n",
       "2016-10-29 19:30:00    6.1\n",
       "2016-10-29 20:30:00    6.2\n",
       "2016-10-29 21:30:00    6.1\n",
       "2016-10-29 22:30:00    6.1\n",
       "2016-10-29 23:30:00    5.7\n",
       "2016-10-30 00:30:00    5.2\n",
       "2016-10-30 01:30:00    4.7\n",
       "2016-10-30 02:30:00    4.1\n",
       "2016-10-30 03:30:00    3.9\n",
       "2016-10-30 04:30:00    3.5\n",
       "Freq: H, dtype: float64"
      ]
     },
     "execution_count": 29,
     "metadata": {},
     "output_type": "execute_result"
    }
   ],
   "source": [
    "temp_series = pd.Series(temperatures, dates)\n",
    "temp_series"
   ]
  },
  {
   "cell_type": "code",
   "execution_count": 30,
   "id": "e9058abc",
   "metadata": {
    "slideshow": {
     "slide_type": "slide"
    }
   },
   "outputs": [
    {
     "data": {
      "image/png": "[encoded data removed]",
      "text/plain": [
       "<Figure size 432x288 with 1 Axes>"
      ]
     },
     "metadata": {
      "needs_background": "light"
     },
     "output_type": "display_data"
    }
   ],
   "source": [
    "temp_series.plot(kind=\"bar\")\n",
    "\n",
    "plt.grid(True)\n",
    "plt.show()"
   ]
  },
  {
   "cell_type": "markdown",
   "id": "7ddc1404",
   "metadata": {
    "slideshow": {
     "slide_type": "slide"
    }
   },
   "source": [
    "## Remuestreo"
   ]
  },
  {
   "cell_type": "markdown",
   "id": "e75626a8",
   "metadata": {
    "slideshow": {
     "slide_type": "slide"
    }
   },
   "source": [
    "Pandas nos permite volver a muestrear una serie temporal de forma muy sencilla. Simplemente llame al método `resample()` y especifique una nueva frecuencia:"
   ]
  },
  {
   "cell_type": "code",
   "execution_count": 36,
   "id": "b6e6ea87",
   "metadata": {
    "slideshow": {
     "slide_type": "slide"
    }
   },
   "outputs": [
    {
     "data": {
      "text/plain": [
       "<pandas.core.resample.DatetimeIndexResampler object at 0x000001354FB22430>"
      ]
     },
     "execution_count": 36,
     "metadata": {},
     "output_type": "execute_result"
    }
   ],
   "source": [
    "temp_series_freq_2H = temp_series.resample(\"2H\")\n",
    "temp_series_freq_2H"
   ]
  },
  {
   "cell_type": "markdown",
   "id": "7c05c52b",
   "metadata": {
    "slideshow": {
     "slide_type": "slide"
    }
   },
   "source": [
    "La operación de remuestreo es en realidad una operación diferida, por lo que no obtuvimos un objeto `Series`, sino un objeto `DatetimeIndexResampler` en su lugar. "
   ]
  },
  {
   "cell_type": "markdown",
   "id": "cc801217",
   "metadata": {
    "slideshow": {
     "slide_type": "slide"
    }
   },
   "source": [
    "Para realizar realmente la operación de remuestreo, simplemente podemos llamar al método `mean()`: Pandas calculará la media de cada par de horas consecutivas:"
   ]
  },
  {
   "cell_type": "code",
   "execution_count": 37,
   "id": "64b4ce7f",
   "metadata": {
    "slideshow": {
     "slide_type": "slide"
    }
   },
   "outputs": [
    {
     "data": {
      "text/plain": [
       "2016-10-29 16:00:00    4.40\n",
       "2016-10-29 18:00:00    5.60\n",
       "2016-10-29 20:00:00    6.15\n",
       "2016-10-29 22:00:00    5.90\n",
       "2016-10-30 00:00:00    4.95\n",
       "2016-10-30 02:00:00    4.00\n",
       "2016-10-30 04:00:00    3.50\n",
       "Freq: 2H, dtype: float64"
      ]
     },
     "execution_count": 37,
     "metadata": {},
     "output_type": "execute_result"
    }
   ],
   "source": [
    "temp_series_freq_2H = temp_series_freq_2H.mean()\n",
    "temp_series_freq_2H  "
   ]
  },
  {
   "cell_type": "code",
   "execution_count": null,
   "id": "6821c9dd",
   "metadata": {
    "slideshow": {
     "slide_type": "slide"
    }
   },
   "outputs": [],
   "source": [
    "Grafiquemos el resultado:"
   ]
  },
  {
   "cell_type": "code",
   "execution_count": 38,
   "id": "9f1ab67b",
   "metadata": {
    "slideshow": {
     "slide_type": "slide"
    }
   },
   "outputs": [
    {
     "data": {
      "image/png": "[encoded data removed]",
      "text/plain": [
       "<Figure size 432x288 with 1 Axes>"
      ]
     },
     "metadata": {
      "needs_background": "light"
     },
     "output_type": "display_data"
    }
   ],
   "source": [
    "temp_series_freq_2H.plot(kind=\"bar\")\n",
    "plt.show()"
   ]
  },
  {
   "cell_type": "markdown",
   "id": "97790e1c",
   "metadata": {
    "slideshow": {
     "slide_type": "slide"
    }
   },
   "source": [
    "Observe cómo los valores se han agregado automáticamente en períodos de 2 horas. Si observamos el período de 6:00 p. m. a 8:00 p. m., por ejemplo, tuvimos un valor de 5,1 a las 6:30 p. m. y de 6,1 a las 7:30 p. m. Después de volver a muestrear, solo tenemos un valor de 5,6, que es la media de 5,1 y 6,1. En lugar de calcular la media, podríamos haber usado cualquier otra función de agregación, por ejemplo, podemos decidir mantener el valor mínimo de cada período:"
   ]
  },
  {
   "cell_type": "code",
   "execution_count": 39,
   "id": "b003ca71",
   "metadata": {
    "slideshow": {
     "slide_type": "slide"
    }
   },
   "outputs": [
    {
     "data": {
      "text/plain": [
       "2016-10-29 16:00:00    4.4\n",
       "2016-10-29 18:00:00    5.1\n",
       "2016-10-29 20:00:00    6.1\n",
       "2016-10-29 22:00:00    5.7\n",
       "2016-10-30 00:00:00    4.7\n",
       "2016-10-30 02:00:00    3.9\n",
       "2016-10-30 04:00:00    3.5\n",
       "Freq: 2H, dtype: float64"
      ]
     },
     "execution_count": 39,
     "metadata": {},
     "output_type": "execute_result"
    }
   ],
   "source": [
    "temp_series_freq_2H = temp_series.resample(\"2H\").min()\n",
    "temp_series_freq_2H"
   ]
  },
  {
   "cell_type": "markdown",
   "id": "68c0ab49",
   "metadata": {
    "slideshow": {
     "slide_type": "slide"
    }
   },
   "source": [
    "O, de manera equivalente, podríamos usar el método `apply()` en su lugar:"
   ]
  },
  {
   "cell_type": "code",
   "execution_count": 40,
   "id": "4ef57c72",
   "metadata": {
    "slideshow": {
     "slide_type": "slide"
    }
   },
   "outputs": [
    {
     "data": {
      "text/plain": [
       "2016-10-29 16:00:00    4.4\n",
       "2016-10-29 18:00:00    5.1\n",
       "2016-10-29 20:00:00    6.1\n",
       "2016-10-29 22:00:00    5.7\n",
       "2016-10-30 00:00:00    4.7\n",
       "2016-10-30 02:00:00    3.9\n",
       "2016-10-30 04:00:00    3.5\n",
       "Freq: 2H, dtype: float64"
      ]
     },
     "execution_count": 40,
     "metadata": {},
     "output_type": "execute_result"
    }
   ],
   "source": [
    "temp_series_freq_2H = temp_series.resample(\"2H\").apply(np.min)\n",
    "temp_series_freq_2H"
   ]
  },
  {
   "cell_type": "markdown",
   "id": "91245cc8",
   "metadata": {
    "slideshow": {
     "slide_type": "slide"
    }
   },
   "source": [
    "## Sobremuestreo e interpolación"
   ]
  },
  {
   "cell_type": "markdown",
   "id": "4adf0d6d",
   "metadata": {
    "slideshow": {
     "slide_type": "slide"
    }
   },
   "source": [
    "Este fue un ejemplo de reducción de resolución. También podemos aumentar la muestra (es decir, aumentar la frecuencia), pero esto crea agujeros en nuestros datos:"
   ]
  },
  {
   "cell_type": "code",
   "execution_count": 41,
   "id": "e6e38910",
   "metadata": {
    "slideshow": {
     "slide_type": "slide"
    }
   },
   "outputs": [
    {
     "data": {
      "text/plain": [
       "2016-10-29 17:30:00    4.4\n",
       "2016-10-29 17:45:00    NaN\n",
       "2016-10-29 18:00:00    NaN\n",
       "2016-10-29 18:15:00    NaN\n",
       "2016-10-29 18:30:00    5.1\n",
       "2016-10-29 18:45:00    NaN\n",
       "2016-10-29 19:00:00    NaN\n",
       "2016-10-29 19:15:00    NaN\n",
       "2016-10-29 19:30:00    6.1\n",
       "2016-10-29 19:45:00    NaN\n",
       "Freq: 15T, dtype: float64"
      ]
     },
     "execution_count": 41,
     "metadata": {},
     "output_type": "execute_result"
    }
   ],
   "source": [
    "temp_series_freq_15min = temp_series.resample(\"15Min\").mean()\n",
    "temp_series_freq_15min.head(n=10) # `head` displays the top n values"
   ]
  },
  {
   "cell_type": "markdown",
   "id": "16412d19",
   "metadata": {
    "slideshow": {
     "slide_type": "slide"
    }
   },
   "source": [
    "Una solución es llenar los huecos interpolando. Simplemente llamamos al método `interpolate()`. El valor predeterminado es usar la interpolación lineal, pero también podemos seleccionar otro método, como la interpolación cúbica:"
   ]
  },
  {
   "cell_type": "code",
   "execution_count": 42,
   "id": "07b32a91",
   "metadata": {
    "slideshow": {
     "slide_type": "slide"
    }
   },
   "outputs": [
    {
     "data": {
      "text/plain": [
       "2016-10-29 17:30:00    4.400000\n",
       "2016-10-29 17:45:00    4.452911\n",
       "2016-10-29 18:00:00    4.605113\n",
       "2016-10-29 18:15:00    4.829758\n",
       "2016-10-29 18:30:00    5.100000\n",
       "2016-10-29 18:45:00    5.388992\n",
       "2016-10-29 19:00:00    5.669887\n",
       "2016-10-29 19:15:00    5.915839\n",
       "2016-10-29 19:30:00    6.100000\n",
       "2016-10-29 19:45:00    6.203621\n",
       "Freq: 15T, dtype: float64"
      ]
     },
     "execution_count": 42,
     "metadata": {},
     "output_type": "execute_result"
    }
   ],
   "source": [
    "temp_series_freq_15min = temp_series.resample(\"15Min\").interpolate(method=\"cubic\")\n",
    "temp_series_freq_15min.head(n=10)"
   ]
  },
  {
   "cell_type": "code",
   "execution_count": 43,
   "id": "7a39f830",
   "metadata": {
    "slideshow": {
     "slide_type": "slide"
    }
   },
   "outputs": [
    {
     "data": {
      "image/png": "[encoded data removed]",
      "text/plain": [
       "<Figure size 432x288 with 1 Axes>"
      ]
     },
     "metadata": {
      "needs_background": "light"
     },
     "output_type": "display_data"
    }
   ],
   "source": [
    "temp_series.plot(label=\"Period: 1 hour\")\n",
    "temp_series_freq_15min.plot(label=\"Period: 15 minutes\")\n",
    "plt.legend()\n",
    "plt.show()"
   ]
  },
  {
   "cell_type": "markdown",
   "id": "907239c9",
   "metadata": {
    "slideshow": {
     "slide_type": "slide"
    }
   },
   "source": [
    "## Zonas horarias"
   ]
  },
  {
   "cell_type": "markdown",
   "id": "1a19be09",
   "metadata": {
    "slideshow": {
     "slide_type": "slide"
    }
   },
   "source": [
    "Por defecto, las fechas y horas son ingenuas: no conocen las zonas horarias, por lo que 2016-10-30 02:30 podría significar el 30 de octubre de 2016 a las 2:30 a. m. en París o en Nueva York. Podemos hacer que las fechas y horas sean conscientes de la zona horaria llamando al método tz_localize():"
   ]
  },
  {
   "cell_type": "code",
   "execution_count": null,
   "id": "6d107b05",
   "metadata": {
    "slideshow": {
     "slide_type": "slide"
    }
   },
   "outputs": [],
   "source": []
  },
  {
   "cell_type": "code",
   "execution_count": null,
   "id": "2b875df5",
   "metadata": {
    "slideshow": {
     "slide_type": "slide"
    }
   },
   "outputs": [],
   "source": []
  },
  {
   "cell_type": "code",
   "execution_count": null,
   "id": "bdcd0ece",
   "metadata": {
    "slideshow": {
     "slide_type": "slide"
    }
   },
   "outputs": [],
   "source": []
  },
  {
   "cell_type": "code",
   "execution_count": null,
   "id": "9e5affbc",
   "metadata": {},
   "outputs": [],
   "source": []
  },
  {
   "cell_type": "code",
   "execution_count": null,
   "id": "ff586288",
   "metadata": {},
   "outputs": [],
   "source": []
  },
  {
   "cell_type": "code",
   "execution_count": null,
   "id": "19bbf62d",
   "metadata": {},
   "outputs": [],
   "source": []
  },
  {
   "cell_type": "code",
   "execution_count": null,
   "id": "d90bb20a",
   "metadata": {},
   "outputs": [],
   "source": []
  },
  {
   "cell_type": "markdown",
   "id": "92ad2cb2",
   "metadata": {
    "slideshow": {
     "slide_type": "slide"
    }
   },
   "source": [
    "## Referentes\n",
    "\n",
    "* Pandas según Géron: https://github.com/ageron/handson-ml/blob/master/tools_pandas.ipynb "
   ]
  },
  {
   "cell_type": "code",
   "execution_count": null,
   "id": "43651c93",
   "metadata": {},
   "outputs": [],
   "source": []
  }
 ],
 "metadata": {
  "celltoolbar": "Slideshow",
  "kernelspec": {
   "display_name": "Python 3",
   "language": "python",
   "name": "python3"
  },
  "language_info": {
   "codemirror_mode": {
    "name": "ipython",
    "version": 3
   },
   "file_extension": ".py",
   "mimetype": "text/x-python",
   "name": "python",
   "nbconvert_exporter": "python",
   "pygments_lexer": "ipython3",
   "version": "3.8.8"
  },
  "latex_envs": {
   "LaTeX_envs_menu_present": true,
   "autoclose": false,
   "autocomplete": false,
   "bibliofile": "biblio.bib",
   "cite_by": "apalike",
   "current_citInitial": 1,
   "eqLabelWithNumbers": true,
   "eqNumInitial": 1,
   "hotkeys": {
    "equation": "Ctrl-E",
    "itemize": "Ctrl-I"
   },
   "labels_anchors": false,
   "latex_user_defs": false,
   "report_style_numbering": false,
   "user_envs_cfg": false
  },
  "rise": {
   "enable_chalkboard": true,
   "theme": "sky",
   "transition": "zoom"
  }
 },
 "nbformat": 4,
 "nbformat_minor": 5
}
