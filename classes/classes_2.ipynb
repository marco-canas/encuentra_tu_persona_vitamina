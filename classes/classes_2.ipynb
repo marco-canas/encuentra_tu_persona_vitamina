{
 "cells": [
  {
   "cell_type": "markdown",
   "id": "5db53f98",
   "metadata": {
    "slideshow": {
     "slide_type": "slide"
    }
   },
   "source": [
    "<table align=\"left\">\n",
    "  <td>\n",
    "    <a href=\"https://colab.research.google.com/github/marco-canas/taca/blob/main/ref/geron/chap_2/5_prepare_for_algorithms/1_prepare_for_algorithms.ipynb\" target=\"_parent\"><img src=\"https://colab.research.google.com/assets/colab-badge.svg\" alt=\"Open In Colab\"/></a>\n",
    "  </td>\n",
    "  <td>\n",
    "    <a target=\"_blank\" href=\"https://kaggle.com/kernels/welcome?src=https://github.com/marco-canas/taca/blob/main/ref/geron/chap_2/5_prepare_for_algorithms/1_prepare_for_algorithms.ipynb\"><img src=\"https://kaggle.com/static/images/open-in-kaggle.svg\" /></a>\n",
    "  </td>\n",
    "</table> "
   ]
  },
  {
   "cell_type": "markdown",
   "id": "d82ef706",
   "metadata": {
    "slideshow": {
     "slide_type": "slide"
    }
   },
   "source": [
    "# Clases y funciones "
   ]
  },
  {
   "cell_type": "markdown",
   "id": "d7e94e73",
   "metadata": {
    "slideshow": {
     "slide_type": "slide"
    }
   },
   "source": [
    "## 13.1. Hora"
   ]
  },
  {
   "cell_type": "markdown",
   "id": "f2d7fa27",
   "metadata": {
    "slideshow": {
     "slide_type": "slide"
    }
   },
   "source": [
    "Como otro ejemplo de un tipo definido por el usuario, definiremos una clase llamada `Hora` que registra la hora del día. "
   ]
  },
  {
   "cell_type": "markdown",
   "id": "bc0a5bce",
   "metadata": {
    "slideshow": {
     "slide_type": "slide"
    }
   },
   "source": [
    "La definición de la clase es como sigue:"
   ]
  },
  {
   "cell_type": "code",
   "execution_count": 1,
   "id": "5267e242",
   "metadata": {
    "slideshow": {
     "slide_type": "slide"
    }
   },
   "outputs": [],
   "source": [
    "class Hora:\n",
    "    pass"
   ]
  },
  {
   "cell_type": "markdown",
   "id": "c5a3bfd5",
   "metadata": {
    "slideshow": {
     "slide_type": "slide"
    }
   },
   "source": [
    "Podemos crear:\n",
    "* un nuevo objeto `Hora` y \n",
    "* asignar atributos para contener las horas, minutos y segundos:  "
   ]
  },
  {
   "cell_type": "code",
   "execution_count": 2,
   "id": "0b78d224",
   "metadata": {
    "slideshow": {
     "slide_type": "slide"
    }
   },
   "outputs": [],
   "source": [
    "hora = Hora()\n",
    "hora.horas = 9\n",
    "hora.minutos = 14\n",
    "hora.segundos = 29"
   ]
  },
  {
   "cell_type": "markdown",
   "id": "1a848372",
   "metadata": {
    "slideshow": {
     "slide_type": "slide"
    }
   },
   "source": [
    "El diagrama de estado del objeto Hora es así:"
   ]
  },
  {
   "cell_type": "markdown",
   "id": "d3b88647",
   "metadata": {
    "slideshow": {
     "slide_type": "slide"
    }
   },
   "source": [
    "<img src = 'https://github.com/marco-canas/introducci-n-al-Machine-Learning/blob/main/classes/classes_sec_13_1_fig_1.png?raw=true'>"
   ]
  },
  {
   "cell_type": "markdown",
   "id": "343f0e6d",
   "metadata": {
    "slideshow": {
     "slide_type": "slide"
    }
   },
   "source": [
    "## Tarea 1"
   ]
  },
  {
   "cell_type": "markdown",
   "id": "7e7f6f20",
   "metadata": {
    "slideshow": {
     "slide_type": "slide"
    }
   },
   "source": [
    "A modo de ejercicio, escriba una función imprimeHora que acepte un objeto `Hora` como argumento y lo imprima en el formato\n",
    "horas:minutos:segundos.\n"
   ]
  },
  {
   "cell_type": "markdown",
   "id": "50621624",
   "metadata": {
    "slideshow": {
     "slide_type": "slide"
    }
   },
   "source": [
    "## Solución: "
   ]
  },
  {
   "cell_type": "code",
   "execution_count": null,
   "id": "f406225c",
   "metadata": {
    "slideshow": {
     "slide_type": "slide"
    }
   },
   "outputs": [],
   "source": [
    "def imprimeHora(hora):\n",
    "    print(str(hora.horas)+':'+str(hora.minutos)+':'+str(hora.segundos))"
   ]
  },
  {
   "cell_type": "code",
   "execution_count": null,
   "id": "7ef1d978",
   "metadata": {
    "slideshow": {
     "slide_type": "slide"
    }
   },
   "outputs": [],
   "source": [
    "imprimeHora(hora)"
   ]
  },
  {
   "cell_type": "markdown",
   "id": "b1111f21",
   "metadata": {
    "slideshow": {
     "slide_type": "slide"
    }
   },
   "source": [
    "## Tarea 2"
   ]
  },
  {
   "cell_type": "markdown",
   "id": "f0aa061a",
   "metadata": {
    "slideshow": {
     "slide_type": "slide"
    }
   },
   "source": [
    "Como un segundo ejercicio, escriba una función booleana que después que tome dos objetos Hora, t1 y t2, como argumentos, devuelva verdadero (1) si `t1` sigue cronológicamente a `t2` y falso (0) en caso contrario."
   ]
  },
  {
   "cell_type": "code",
   "execution_count": 5,
   "id": "592b754b",
   "metadata": {
    "slideshow": {
     "slide_type": "slide"
    }
   },
   "outputs": [],
   "source": [
    "t1 = Hora() \n",
    "t2 = Hora() \n",
    "t1.horas = 11\n",
    "t2.horas = 10\n",
    "t1.minutos = 6\n",
    "\n",
    "t2.minutos = 7\n",
    "t1.segundos = 20\n",
    "t2.segundos = 30"
   ]
  },
  {
   "cell_type": "code",
   "execution_count": 6,
   "id": "387ca6f5",
   "metadata": {
    "slideshow": {
     "slide_type": "slide"
    }
   },
   "outputs": [],
   "source": [
    "def sigue_cronologicamente(t1,t2):\n",
    "    if (t1.horas > t2.horas) or ( t1.horas > t2.horas and t1.minutos > t2.minutos)\\\n",
    "       or (t1.horas == t2.horas and t1.minutos == t2.minutos and t1.segundos > t2.segundos ):\n",
    "        print(True)\n",
    "    else:\n",
    "        print(False)"
   ]
  },
  {
   "cell_type": "code",
   "execution_count": 7,
   "id": "1a3b9038",
   "metadata": {
    "slideshow": {
     "slide_type": "slide"
    }
   },
   "outputs": [
    {
     "name": "stdout",
     "output_type": "stream",
     "text": [
      "True\n"
     ]
    }
   ],
   "source": [
    "sigue_cronologicamente(t1,t2)"
   ]
  },
  {
   "cell_type": "markdown",
   "id": "fc78b568",
   "metadata": {
    "slideshow": {
     "slide_type": "slide"
    }
   },
   "source": [
    "## 13.2. Funciones puras"
   ]
  },
  {
   "cell_type": "markdown",
   "id": "34c2e496",
   "metadata": {
    "slideshow": {
     "slide_type": "slide"
    }
   },
   "source": [
    "En las próximas secciones, escribiremos dos versiones de una función llamada `sumaHora` que calcule la suma de dos Horas.   \n",
    "\n",
    "Mostraremos dos tipos de funciones: \n",
    "\n",
    "* funciones puras y \n",
    "* modificadores."
   ]
  },
  {
   "cell_type": "markdown",
   "id": "bf239a6b",
   "metadata": {
    "slideshow": {
     "slide_type": "slide"
    }
   },
   "source": [
    "Éste es un esbozo de `sumaHora`:"
   ]
  },
  {
   "cell_type": "code",
   "execution_count": null,
   "id": "30bbabde",
   "metadata": {
    "slideshow": {
     "slide_type": "slide"
    }
   },
   "outputs": [],
   "source": [
    "class Hora:\n",
    "    pass "
   ]
  },
  {
   "cell_type": "code",
   "execution_count": null,
   "id": "f8b35266",
   "metadata": {
    "slideshow": {
     "slide_type": "slide"
    }
   },
   "outputs": [],
   "source": [
    "def imprimeHora(hora):\n",
    "    print(str(hora.horas)+':'+str(hora.minutos)+':'+str(hora.segundos))"
   ]
  },
  {
   "cell_type": "code",
   "execution_count": null,
   "id": "0f4d7c5f",
   "metadata": {
    "slideshow": {
     "slide_type": "slide"
    }
   },
   "outputs": [],
   "source": [
    "def sumaHora(t1, t2):\n",
    "    suma = Hora()\n",
    "    suma.horas = t1.horas + t2.horas\n",
    "    suma.minutos = t1.minutos + t2.minutos\n",
    "    suma.segundos = t1.segundos + t2.segundos\n",
    "    return suma"
   ]
  },
  {
   "cell_type": "markdown",
   "id": "db591cb4",
   "metadata": {
    "slideshow": {
     "slide_type": "slide"
    }
   },
   "source": [
    "La función crea un nuevo objeto de la clase `Hora`, inicializa sus atributos y devuelve una referencia al nuevo objeto. "
   ]
  },
  {
   "cell_type": "markdown",
   "id": "d99f66a5",
   "metadata": {
    "slideshow": {
     "slide_type": "slide"
    }
   },
   "source": [
    "A esto se le llama **función pura** porque \n",
    "\n",
    "* no modifica ninguno de los objetos que se le pasan y \n",
    "* no tiene efectos laterales, como mostrar un valor o tomar una entrada del usuario."
   ]
  },
  {
   "cell_type": "markdown",
   "id": "1494ad88",
   "metadata": {
    "slideshow": {
     "slide_type": "slide"
    }
   },
   "source": [
    "Aquí tiene un ejemplo de cómo usar esta función. \n",
    "* Crearemos dos objetos Hora:  \n",
    "  * horaActual, que contiene la hora actual, y \n",
    "  * horaPan, que contiene la cantidad de tiempo que necesita un panadero para hacer pan. \n",
    "* Luego usaremos `sumaHora` para averiguar cuándo estará hecho el pan."
   ]
  },
  {
   "cell_type": "code",
   "execution_count": null,
   "id": "682f8036",
   "metadata": {
    "slideshow": {
     "slide_type": "slide"
    }
   },
   "outputs": [],
   "source": [
    "horaActual = Hora()\n",
    "horaActual.horas = 9\n",
    "horaActual.minutos = 14\n",
    "horaActual.segundos = 30\n",
    "\n",
    "horaPan = Hora()\n",
    "horaPan.horas = 3\n",
    "horaPan.minutos = 35\n",
    "horaPan.segundos = 0\n",
    "\n",
    "horaHecho = sumaHora(horaActual, horaPan)\n",
    "imprimeHora(horaHecho)"
   ]
  },
  {
   "cell_type": "markdown",
   "id": "28beeb04",
   "metadata": {
    "slideshow": {
     "slide_type": "slide"
    }
   },
   "source": [
    "## 13.3 Modificadores "
   ]
  },
  {
   "cell_type": "markdown",
   "id": "d45846f2",
   "metadata": {
    "slideshow": {
     "slide_type": "slide"
    }
   },
   "source": [
    "La salida de este programa es `12:49:30`, lo que es correcto. "
   ]
  },
  {
   "cell_type": "markdown",
   "id": "d25bb4fa",
   "metadata": {
    "slideshow": {
     "slide_type": "slide"
    }
   },
   "source": [
    "Por otra parte, hay casos en los que el resultado no es correcto. ¿Puede imaginar uno?"
   ]
  },
  {
   "cell_type": "markdown",
   "id": "aa000c7d",
   "metadata": {
    "slideshow": {
     "slide_type": "slide"
    }
   },
   "source": [
    "El problema es que esta función no trata los casos en los que el número de segundos o minutos suma más que sesenta. "
   ]
  },
  {
   "cell_type": "markdown",
   "id": "19fb7234",
   "metadata": {
    "slideshow": {
     "slide_type": "slide"
    }
   },
   "source": [
    "Cuando ocurre eso, debemos “llevar” los segundos sobrantes a la columna de los minutos o los minutos extras a la columna de las horas."
   ]
  },
  {
   "cell_type": "markdown",
   "id": "cd32a703",
   "metadata": {
    "slideshow": {
     "slide_type": "slide"
    }
   },
   "source": [
    "He aquí una versión corregida de la función:"
   ]
  },
  {
   "cell_type": "code",
   "execution_count": null,
   "id": "805c7415",
   "metadata": {
    "slideshow": {
     "slide_type": "slide"
    }
   },
   "outputs": [],
   "source": [
    "def sumaHora(t1, t2):\n",
    "    suma = Hora()\n",
    "    suma.horas = t1.horas + t2.horas\n",
    "    suma.minutos = t1.minutos + t2.minutos\n",
    "    suma.segundos = t1.segundos + t2.segundos\n",
    "    if suma.segundos >= 60:\n",
    "        suma.segundos = suma.segundos - 60\n",
    "        suma.minutos = suma.minutos + 1\n",
    "    if suma.minutos >= 60:\n",
    "        suma.minutos = suma.minutos - 60\n",
    "        suma.horas = suma.horas + 1\n",
    "    return suma"
   ]
  },
  {
   "cell_type": "markdown",
   "id": "5e89f809",
   "metadata": {
    "slideshow": {
     "slide_type": "slide"
    }
   },
   "source": [
    "Aunque esta función es correcta, empieza a ser grande. "
   ]
  },
  {
   "cell_type": "markdown",
   "id": "7c65cd0b",
   "metadata": {
    "slideshow": {
     "slide_type": "slide"
    }
   },
   "source": [
    "Más adelante sugeriremos una aproximación alternativa que nos dará un código más corto."
   ]
  },
  {
   "cell_type": "markdown",
   "id": "30cd0ad4",
   "metadata": {
    "slideshow": {
     "slide_type": "slide"
    }
   },
   "source": [
    "## 13.3. Modificadores"
   ]
  },
  {
   "cell_type": "markdown",
   "id": "83915085",
   "metadata": {
    "slideshow": {
     "slide_type": "slide"
    }
   },
   "source": [
    "Hay veces en las que es útil que una función modifique uno o más de los objetos que recibe como parámetros. "
   ]
  },
  {
   "cell_type": "markdown",
   "id": "03b26c48",
   "metadata": {
    "slideshow": {
     "slide_type": "slide"
    }
   },
   "source": [
    "Normalmente, el llamante conserva una referencia a los objetos que pasa, así que cualquier cambio que la función haga será visible para el llamante. "
   ]
  },
  {
   "cell_type": "markdown",
   "id": "43d9a3c3",
   "metadata": {
    "slideshow": {
     "slide_type": "slide"
    }
   },
   "source": [
    "Las funciones que trabajan así se llaman **modificadores**."
   ]
  },
  {
   "cell_type": "markdown",
   "id": "295a0103",
   "metadata": {
    "slideshow": {
     "slide_type": "slide"
    }
   },
   "source": [
    "incremento, que añade un número dado de segundos a un objeto `Hora`, se escribiría de forma natural como un modificador. "
   ]
  },
  {
   "cell_type": "markdown",
   "id": "e1ec7617",
   "metadata": {
    "slideshow": {
     "slide_type": "slide"
    }
   },
   "source": [
    "Un esbozo rápido de la función podría ser éste:"
   ]
  },
  {
   "cell_type": "code",
   "execution_count": null,
   "id": "151e783a",
   "metadata": {
    "slideshow": {
     "slide_type": "slide"
    }
   },
   "outputs": [],
   "source": [
    "def incremento(hora, segundos):\n",
    "    hora.segundos = hora.segundos + segundos\n",
    "    if hora.segundos >= 60:\n",
    "        hora.segundos = hora.segundos - 60\n",
    "        hora.minutos = hora.minutos + 1\n",
    "    if hora.minutos >= 60:\n",
    "        hora.minutos = hora.minutos - 60\n",
    "        hora.horas = hroa.horas + 1\n"
   ]
  },
  {
   "cell_type": "markdown",
   "id": "726bfcde",
   "metadata": {
    "slideshow": {
     "slide_type": "slide"
    }
   },
   "source": [
    "* La primera línea realiza la operación básica, \n",
    "\n",
    "* las restantes tratan con los casos especiales que vimos antes."
   ]
  },
  {
   "cell_type": "markdown",
   "id": "670f4e69",
   "metadata": {
    "slideshow": {
     "slide_type": "slide"
    }
   },
   "source": [
    "¿Es correcta esta función?"
   ]
  },
  {
   "cell_type": "markdown",
   "id": "7ccfa1a7",
   "metadata": {
    "slideshow": {
     "slide_type": "slide"
    }
   },
   "source": [
    "¿Qué ocurre si el parámetro segundos es mucho mayor que sesenta? "
   ]
  },
  {
   "cell_type": "markdown",
   "id": "e8dad908",
   "metadata": {
    "slideshow": {
     "slide_type": "slide"
    }
   },
   "source": [
    "En tal caso, no es suficiente con acarrear una vez; debemos seguir haciéndolo hasta que segundos sea menor que sesenta. "
   ]
  },
  {
   "cell_type": "markdown",
   "id": "948c2f4a",
   "metadata": {
    "slideshow": {
     "slide_type": "slide"
    }
   },
   "source": [
    "Una solución es sustituir las sentencias `if` por sentencias `while`:"
   ]
  },
  {
   "cell_type": "code",
   "execution_count": null,
   "id": "05459e23",
   "metadata": {
    "slideshow": {
     "slide_type": "slide"
    }
   },
   "outputs": [],
   "source": [
    "def incremento(hora, segundos):\n",
    "    hora.segundos = hora.segundos + segundos\n",
    "    while hora.segundos >= 60:\n",
    "        hora.segundos = hora.segundos - 60\n",
    "        hora.minutos = hora.minutos + 1\n",
    "    while hora.minutos >= 60:\n",
    "        hora.minutos = hora.minutos - 60\n",
    "        hora.horas = hroa.horas + 1\n"
   ]
  },
  {
   "cell_type": "markdown",
   "id": "5615dd32",
   "metadata": {
    "slideshow": {
     "slide_type": "slide"
    }
   },
   "source": [
    "Ahora esta función es correcta, pero no es la solución más eficiente."
   ]
  },
  {
   "cell_type": "markdown",
   "id": "d73dcc62",
   "metadata": {
    "slideshow": {
     "slide_type": "slide"
    }
   },
   "source": [
    "Como ejercicio, reescriba esta funci´on de modo que no contenga tan\u0002tos bucles."
   ]
  },
  {
   "cell_type": "markdown",
   "id": "1d610cd5",
   "metadata": {
    "slideshow": {
     "slide_type": "slide"
    }
   },
   "source": [
    "Como un segundo ejercicio, reescriba incremento como una funci´on pura, y escriba una funci´on que llame a ambas versiones."
   ]
  },
  {
   "cell_type": "markdown",
   "id": "8427f92f",
   "metadata": {
    "slideshow": {
     "slide_type": "slide"
    }
   },
   "source": [
    "## 13.4. ¿Qué es mejor?"
   ]
  },
  {
   "cell_type": "markdown",
   "id": "7b5b9eec",
   "metadata": {},
   "source": [
    "Todo lo que se pueda hacer con modificadores puede hacerse tambi´en con fun\u0002ciones puras. En realidad, algunos lenguajes de programaci´on s´olo permiten\n",
    "funciones puras. Hay ciertas evidencias de que los programas que usan funcio\u0002nes puras son m´as r´apidos de desarrollar y menos propensos a los errores que los programas que usan modificadores. Sin embargo, a veces los modificadores\n",
    "son utiles, ´ y en algunos casos los programas funcionales son menos eficientes.\n",
    "En general, recomendamos que escriba funciones puras siempre que sea razona\u0002ble hacerlo as´ı y recurra a los modificadores s´olo si hay una ventaja convincente.\n",
    "Este enfoque podr´ıa llamarse estilo funcional de programaci´on."
   ]
  },
  {
   "cell_type": "markdown",
   "id": "9dfdc597",
   "metadata": {},
   "source": [
    "## 13.5. Desarrollo de prototipos frente a planifi\u0002caci´on"
   ]
  },
  {
   "cell_type": "code",
   "execution_count": null,
   "id": "1ee46d9e",
   "metadata": {},
   "outputs": [],
   "source": []
  }
 ],
 "metadata": {
  "celltoolbar": "Slideshow",
  "kernelspec": {
   "display_name": "Python 3",
   "language": "python",
   "name": "python3"
  },
  "language_info": {
   "codemirror_mode": {
    "name": "ipython",
    "version": 3
   },
   "file_extension": ".py",
   "mimetype": "text/x-python",
   "name": "python",
   "nbconvert_exporter": "python",
   "pygments_lexer": "ipython3",
   "version": "3.8.8"
  },
  "latex_envs": {
   "LaTeX_envs_menu_present": true,
   "autoclose": false,
   "autocomplete": false,
   "bibliofile": "biblio.bib",
   "cite_by": "apalike",
   "current_citInitial": 1,
   "eqLabelWithNumbers": true,
   "eqNumInitial": 1,
   "hotkeys": {
    "equation": "Ctrl-E",
    "itemize": "Ctrl-I"
   },
   "labels_anchors": false,
   "latex_user_defs": false,
   "report_style_numbering": false,
   "user_envs_cfg": false
  },
  "rise": {
   "enable_chalkboard": true,
   "theme": "sky",
   "transition": "zoom"
  }
 },
 "nbformat": 4,
 "nbformat_minor": 5
}
