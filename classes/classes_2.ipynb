{
 "cells": [
  {
   "cell_type": "markdown",
   "id": "5db53f98",
   "metadata": {
    "slideshow": {
     "slide_type": "slide"
    }
   },
   "source": [
    "<table align=\"left\">\n",
    "  <td>\n",
    "    <a href=\"https://colab.research.google.com/github/marco-canas/taca/blob/main/ref/geron/chap_2/5_prepare_for_algorithms/1_prepare_for_algorithms.ipynb\" target=\"_parent\"><img src=\"https://colab.research.google.com/assets/colab-badge.svg\" alt=\"Open In Colab\"/></a>\n",
    "  </td>\n",
    "  <td>\n",
    "    <a target=\"_blank\" href=\"https://kaggle.com/kernels/welcome?src=https://github.com/marco-canas/taca/blob/main/ref/geron/chap_2/5_prepare_for_algorithms/1_prepare_for_algorithms.ipynb\"><img src=\"https://kaggle.com/static/images/open-in-kaggle.svg\" /></a>\n",
    "  </td>\n",
    "</table> "
   ]
  },
  {
   "cell_type": "markdown",
   "id": "d82ef706",
   "metadata": {
    "slideshow": {
     "slide_type": "slide"
    }
   },
   "source": [
    "# Clases y funciones "
   ]
  },
  {
   "cell_type": "markdown",
   "id": "d7e94e73",
   "metadata": {
    "slideshow": {
     "slide_type": "slide"
    }
   },
   "source": [
    "## 13.1. Hora"
   ]
  },
  {
   "cell_type": "markdown",
   "id": "f2d7fa27",
   "metadata": {},
   "source": [
    "Como otro ejemplo de un tipo definido por el usuario, definiremos una clase llamada `Hora` que registra la hora del día. "
   ]
  },
  {
   "cell_type": "markdown",
   "id": "bc0a5bce",
   "metadata": {
    "slideshow": {
     "slide_type": "slide"
    }
   },
   "source": [
    "La definición de la clase es como sigue:"
   ]
  },
  {
   "cell_type": "code",
   "execution_count": 1,
   "id": "5267e242",
   "metadata": {
    "slideshow": {
     "slide_type": "slide"
    }
   },
   "outputs": [],
   "source": [
    "class Hora:\n",
    "    pass"
   ]
  },
  {
   "cell_type": "markdown",
   "id": "c5a3bfd5",
   "metadata": {
    "slideshow": {
     "slide_type": "slide"
    }
   },
   "source": [
    "Podemos crear:\n",
    "* un nuevo objeto `Hora` y \n",
    "* asignar atributos para contener las horas, minutos y segundos:  "
   ]
  },
  {
   "cell_type": "code",
   "execution_count": 2,
   "id": "0b78d224",
   "metadata": {
    "slideshow": {
     "slide_type": "slide"
    }
   },
   "outputs": [],
   "source": [
    "hora = Hora()\n",
    "hora.horas = 9\n",
    "hora.minutos = 14\n",
    "hora.segundos = 29"
   ]
  },
  {
   "cell_type": "markdown",
   "id": "1a848372",
   "metadata": {
    "slideshow": {
     "slide_type": "slide"
    }
   },
   "source": [
    "El diagrama de estado del objeto Hora es así:"
   ]
  },
  {
   "cell_type": "markdown",
   "id": "d3b88647",
   "metadata": {
    "slideshow": {
     "slide_type": "slide"
    }
   },
   "source": [
    "<img src = ''>"
   ]
  },
  {
   "cell_type": "markdown",
   "id": "343f0e6d",
   "metadata": {
    "slideshow": {
     "slide_type": "slide"
    }
   },
   "source": [
    "## Tarea 1"
   ]
  },
  {
   "cell_type": "markdown",
   "id": "7e7f6f20",
   "metadata": {
    "slideshow": {
     "slide_type": "slide"
    }
   },
   "source": [
    "A modo de ejercicio, escriba una función imprimeHora que acepte un objeto `Hora` como argumento y lo imprima en el formato\n",
    "horas:minutos:segundos.\n"
   ]
  },
  {
   "cell_type": "markdown",
   "id": "50621624",
   "metadata": {
    "slideshow": {
     "slide_type": "slide"
    }
   },
   "source": [
    "## Solución: "
   ]
  },
  {
   "cell_type": "code",
   "execution_count": 7,
   "id": "f406225c",
   "metadata": {
    "slideshow": {
     "slide_type": "slide"
    }
   },
   "outputs": [],
   "source": [
    "def imprimeHora(hora):\n",
    "    print(str(hora.horas)+':'+str(hora.minutos)+':'+str(hora.segundos))"
   ]
  },
  {
   "cell_type": "code",
   "execution_count": 8,
   "id": "7ef1d978",
   "metadata": {
    "slideshow": {
     "slide_type": "slide"
    }
   },
   "outputs": [
    {
     "name": "stdout",
     "output_type": "stream",
     "text": [
      "9:14:29\n"
     ]
    }
   ],
   "source": [
    "imprimeHora(hora)"
   ]
  },
  {
   "cell_type": "markdown",
   "id": "b1111f21",
   "metadata": {
    "slideshow": {
     "slide_type": "slide"
    }
   },
   "source": [
    "## Tarea 2"
   ]
  },
  {
   "cell_type": "markdown",
   "id": "f0aa061a",
   "metadata": {
    "slideshow": {
     "slide_type": "slide"
    }
   },
   "source": [
    "Como un segundo ejercicio, escriba una función booleana después que tome dos objetos Hora, t1 y t2, como argumentos y devuelva\n",
    "verdadero (1) si t1 sigue cronológicamente a t2 y falso (0) en caso contrario."
   ]
  },
  {
   "cell_type": "code",
   "execution_count": 17,
   "id": "592b754b",
   "metadata": {
    "slideshow": {
     "slide_type": "slide"
    }
   },
   "outputs": [],
   "source": [
    "t1 = Hora() \n",
    "t2 = Hora() \n",
    "t1.horas = 11\n",
    "t2.horas = 10\n",
    "t1.minutos = 6\n",
    "t2.minutos = 7\n",
    "t1.segundos = 20\n",
    "t2.segundos = 30"
   ]
  },
  {
   "cell_type": "code",
   "execution_count": 15,
   "id": "387ca6f5",
   "metadata": {
    "slideshow": {
     "slide_type": "slide"
    }
   },
   "outputs": [],
   "source": [
    "def sigue_cronologicamente(t1,t2):\n",
    "    if (t1.horas > t2.horas) or (t1.horas == t2.horas) and (t1.minutos > t2.minutos)\\\n",
    "       or (t1.horas == t2.horas) and (t1.minutos == t2.minutos) and (t1.segundos > t2.segundos):\n",
    "        print(True)\n",
    "    else:\n",
    "        print(False)"
   ]
  },
  {
   "cell_type": "code",
   "execution_count": 18,
   "id": "1a3b9038",
   "metadata": {
    "slideshow": {
     "slide_type": "slide"
    }
   },
   "outputs": [
    {
     "name": "stdout",
     "output_type": "stream",
     "text": [
      "True\n"
     ]
    }
   ],
   "source": [
    "sigue_cronologicamente(t1,t2)"
   ]
  },
  {
   "cell_type": "markdown",
   "id": "fc78b568",
   "metadata": {
    "slideshow": {
     "slide_type": "slide"
    }
   },
   "source": [
    "## 13.2. Funciones puras"
   ]
  },
  {
   "cell_type": "markdown",
   "id": "34c2e496",
   "metadata": {
    "slideshow": {
     "slide_type": "slide"
    }
   },
   "source": [
    "En las próximas secciones, escribiremos dos versiones de una función llamada `sumaHora` que calcule la suma de dos Horas. Mostrarán dos tipos de funciones: \n",
    "\n",
    "* funciones puras y \n",
    "* modificadores."
   ]
  },
  {
   "cell_type": "markdown",
   "id": "bf239a6b",
   "metadata": {
    "slideshow": {
     "slide_type": "slide"
    }
   },
   "source": [
    "Éste es un esbozo de `sumaHora`:"
   ]
  },
  {
   "cell_type": "code",
   "execution_count": null,
   "id": "0f4d7c5f",
   "metadata": {
    "slideshow": {
     "slide_type": "slide"
    }
   },
   "outputs": [],
   "source": [
    "def sumaHora(t1, t2):\n",
    "    suma = Hora()\n",
    "    suma.horas = t1.horas + t2.horas\n",
    "    suma.minutos = t1.minutos + t2.minutos\n",
    "    suma.segundos = t1.segundos + t2.segundos\n",
    "    return suma"
   ]
  },
  {
   "cell_type": "markdown",
   "id": "db591cb4",
   "metadata": {
    "slideshow": {
     "slide_type": "slide"
    }
   },
   "source": [
    "La función crea un nuevo objeto Hora, inicializa sus atributos y devuelve una referencia al nuevo objeto. "
   ]
  },
  {
   "cell_type": "markdown",
   "id": "d99f66a5",
   "metadata": {
    "slideshow": {
     "slide_type": "slide"
    }
   },
   "source": [
    "A esto se le llama función pura porque no modifica ninguno de los objetos que se le pasan y no tiene efectos laterales, como mostrar un valor o tomar una entrada del usuario."
   ]
  },
  {
   "cell_type": "markdown",
   "id": "1494ad88",
   "metadata": {
    "slideshow": {
     "slide_type": "slide"
    }
   },
   "source": [
    "Aquí tiene un ejemplo de cómo usar esta función. \n",
    "* Crearemos dos objetos Hora:  \n",
    "  * horaActual, que contiene la hora actual, y \n",
    "  * horaPan, que contiene la cantidad de tiempo que necesita un panadero para hacer pan. \n",
    "* Luego usaremos `sumaHora` para averiguar cuándo estará hecho el pan. Si aún no ha terminado de escribir `imprimeHora`, eche \n",
    "  un vistazo a la Sección 14.2 antes de probar esto:"
   ]
  },
  {
   "cell_type": "code",
   "execution_count": null,
   "id": "682f8036",
   "metadata": {
    "slideshow": {
     "slide_type": "slide"
    }
   },
   "outputs": [],
   "source": [
    "horaActual = Hora()\n",
    "horaActual.horas = 9\n",
    "horaActual.minutos = 14\n",
    "horaActual.segundos = 30\n",
    "horaPan = Hora()\n",
    "horaPan.horas = 3\n",
    "horaPan.minutos = 35\n",
    "horaPan.segundos = 0\n",
    "horaHecho = sumaHora(horaActual, horaPan)\n",
    "imprimeHora(horaHecho)"
   ]
  },
  {
   "cell_type": "markdown",
   "id": "7c65cd0b",
   "metadata": {
    "slideshow": {
     "slide_type": "slide"
    }
   },
   "source": [
    "13.3 Modificadores 143\n",
    "La salida de este programa es 12:49:30, lo que es correcto. Por otra parte, hay\n",
    "casos en los que el resultado no es correcto. ¿Puede imaginar uno?\n",
    "El problema es que esta funci´on no trata los casos en los que el numero ´ de\n",
    "segundos o minutos suma m´as que sesenta. Cuando ocurre eso, debemos “llevar”\n",
    "los segundos sobrantes a la columna de los minutos o los minutos extras a la\n",
    "columna de las horas.\n",
    "He aqu´ı una versi´on corregida de la funci´on:\n",
    "def sumaHora(t1, t2):\n",
    "suma = Hora()\n",
    "suma.horas = t1.horas + t2.horas\n",
    "suma.minutos = t1.minutos + t2.minutos\n",
    "suma.segundos = t1.segundos + t2.segundos\n",
    "if suma.segundos >= 60:\n",
    "suma.segundos = suma.segundos - 60\n",
    "suma.minutos = suma.minutos + 1\n",
    "if suma.minutos >= 60:\n",
    "suma.minutos = suma.minutos - 60\n",
    "suma.horas = suma.horas + 1\n",
    "return suma\n",
    "Aunque esta funci´on es correcta, empieza a ser grande. M´as adelante sugeriremos\n",
    "una aproximaci´on alternativa que nos dar´a un c´odigo m´as corto."
   ]
  },
  {
   "cell_type": "code",
   "execution_count": null,
   "id": "7cdfcac7",
   "metadata": {},
   "outputs": [],
   "source": []
  },
  {
   "cell_type": "code",
   "execution_count": null,
   "id": "a45e613c",
   "metadata": {},
   "outputs": [],
   "source": []
  }
 ],
 "metadata": {
  "celltoolbar": "Slideshow",
  "kernelspec": {
   "display_name": "Python 3",
   "language": "python",
   "name": "python3"
  },
  "language_info": {
   "codemirror_mode": {
    "name": "ipython",
    "version": 3
   },
   "file_extension": ".py",
   "mimetype": "text/x-python",
   "name": "python",
   "nbconvert_exporter": "python",
   "pygments_lexer": "ipython3",
   "version": "3.8.8"
  },
  "latex_envs": {
   "LaTeX_envs_menu_present": true,
   "autoclose": false,
   "autocomplete": false,
   "bibliofile": "biblio.bib",
   "cite_by": "apalike",
   "current_citInitial": 1,
   "eqLabelWithNumbers": true,
   "eqNumInitial": 1,
   "hotkeys": {
    "equation": "Ctrl-E",
    "itemize": "Ctrl-I"
   },
   "labels_anchors": false,
   "latex_user_defs": false,
   "report_style_numbering": false,
   "user_envs_cfg": false
  },
  "rise": {
   "enable_chalkboard": true,
   "theme": "sky",
   "transition": "zoom"
  }
 },
 "nbformat": 4,
 "nbformat_minor": 5
}
