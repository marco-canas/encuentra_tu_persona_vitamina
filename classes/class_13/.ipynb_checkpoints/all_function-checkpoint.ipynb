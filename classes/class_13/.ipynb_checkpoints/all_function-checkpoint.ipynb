{
 "cells": [
  {
   "cell_type": "markdown",
   "id": "476577f0",
   "metadata": {},
   "source": [
    "# [Python's all(): Verifique sus iterables en cuanto a veracidad](https://realpython.com/preview/python-all/)"
   ]
  },
  {
   "cell_type": "markdown",
   "id": "6d844233",
   "metadata": {},
   "source": [
    "Al programar, a menudo tendrá que verificar si todos los elementos de un iterable son verdaderos. "
   ]
  },
  {
   "cell_type": "markdown",
   "id": "54dcb30f",
   "metadata": {},
   "source": [
    "Codificar esta funcionalidad repetidamente puede ser molesto e ineficiente. "
   ]
  },
  {
   "cell_type": "markdown",
   "id": "146439f8",
   "metadata": {},
   "source": [
    "Afortunadamente, `Python` proporciona la función incorporada `all()` para resolver este problema. "
   ]
  },
  {
   "cell_type": "markdown",
   "id": "e8a19d81",
   "metadata": {},
   "source": [
    "Esta función toma un iterable y comprueba todos sus elementos en busca de valor verdadero, lo cual es útil para averiguar si esos elementos tienen una propiedad determinada o cumplen una condición particular.all()"
   ]
  },
  {
   "cell_type": "markdown",
   "id": "87f8262e",
   "metadata": {},
   "source": [
    "La función `all()` de Python es una herramienta poderosa que puede ayudarlo a escribir código limpio, legible y eficiente en Python."
   ]
  },
  {
   "cell_type": "markdown",
   "id": "1ef35d13",
   "metadata": {},
   "source": [
    "* Compruebe si todos los elementos de un iterable son verdaderos utilizando `all()`\n",
    "* Uso de `all()` con diferentes tipos iterables \n"
   ]
  },
  {
   "cell_type": "code",
   "execution_count": 7,
   "id": "799b34d9",
   "metadata": {},
   "outputs": [
    {
     "data": {
      "text/plain": [
       "True"
      ]
     },
     "execution_count": 7,
     "metadata": {},
     "output_type": "execute_result"
    }
   ],
   "source": [
    "5 > 2"
   ]
  },
  {
   "cell_type": "code",
   "execution_count": 8,
   "id": "ef29cc7e",
   "metadata": {},
   "outputs": [
    {
     "data": {
      "text/plain": [
       "True"
      ]
     },
     "execution_count": 8,
     "metadata": {},
     "output_type": "execute_result"
    }
   ],
   "source": [
    "1 == 1"
   ]
  },
  {
   "cell_type": "code",
   "execution_count": 9,
   "id": "7847d2a1",
   "metadata": {},
   "outputs": [
    {
     "data": {
      "text/plain": [
       "True"
      ]
     },
     "execution_count": 9,
     "metadata": {},
     "output_type": "execute_result"
    }
   ],
   "source": [
    "42 < 50"
   ]
  },
  {
   "cell_type": "markdown",
   "id": "076759a8",
   "metadata": {},
   "source": [
    "Para averiguar si estas condiciones son ciertas, debe iterar sobre ellas y probar cada condición para la veracidad. En este ejemplo, tienes  que `5 > 2` es verdad, `1==1` es verdad y `42 < 50` también es verdad. "
   ]
  },
  {
   "cell_type": "markdown",
   "id": "bc2404be",
   "metadata": {},
   "source": [
    "Como resultado, se puede decir que todas estas condiciones son ciertas. "
   ]
  },
  {
   "cell_type": "markdown",
   "id": "120b2921",
   "metadata": {},
   "source": [
    "Si al menos una de las condiciones fuera falsa, entonces dirías que no todas las condiciones son verdaderas."
   ]
  },
  {
   "cell_type": "markdown",
   "id": "7eaa260c",
   "metadata": {},
   "source": [
    "Tenga en cuenta que tan pronto como encuentre una condición falsa, puede dejar de evaluar las condiciones porque, en ese caso, ya conoce el resultado final: no todas son ciertas."
   ]
  },
  {
   "cell_type": "markdown",
   "id": "19334e63",
   "metadata": {},
   "source": [
    "Para resolver este problema escribiendo código Python personalizado, puede usar un bucle for para iterar sobre cada condición y evaluarla para verificar su veracidad. Tu bucle iterará hasta que encuentre un elemento falso, momento en el que se detendrá porque ya tienes un resultado:"
   ]
  },
  {
   "cell_type": "code",
   "execution_count": 29,
   "id": "e85d42ff",
   "metadata": {},
   "outputs": [],
   "source": [
    "def all_true(iterable):\n",
    "    c = 0\n",
    "    for item in iterable:\n",
    "        if not item:\n",
    "            print(c)\n",
    "            return False\n",
    "        c +=1 \n",
    "    return True\n"
   ]
  },
  {
   "cell_type": "code",
   "execution_count": 30,
   "id": "85ecc12b",
   "metadata": {},
   "outputs": [],
   "source": [
    "iterable = (1,2,3,4,0,6,7,8,9,10)"
   ]
  },
  {
   "cell_type": "code",
   "execution_count": 31,
   "id": "e94d2f3c",
   "metadata": {},
   "outputs": [
    {
     "name": "stdout",
     "output_type": "stream",
     "text": [
      "4\n"
     ]
    },
    {
     "data": {
      "text/plain": [
       "False"
      ]
     },
     "execution_count": 31,
     "metadata": {},
     "output_type": "execute_result"
    }
   ],
   "source": [
    "all_true(iterable)"
   ]
  },
  {
   "cell_type": "code",
   "execution_count": 17,
   "id": "27c45923",
   "metadata": {},
   "outputs": [
    {
     "data": {
      "text/plain": [
       "True"
      ]
     },
     "execution_count": 17,
     "metadata": {},
     "output_type": "execute_result"
    }
   ],
   "source": [
    "all(iterable)"
   ]
  },
  {
   "cell_type": "code",
   "execution_count": 22,
   "id": "21902e05",
   "metadata": {},
   "outputs": [
    {
     "data": {
      "text/plain": [
       "False"
      ]
     },
     "execution_count": 22,
     "metadata": {},
     "output_type": "execute_result"
    }
   ],
   "source": [
    "all([0,0]) "
   ]
  },
  {
   "cell_type": "markdown",
   "id": "c52b76ce",
   "metadata": {},
   "source": [
    "Esta función toma un iterable como argumento. El bucle itera sobre el argumento de entrada, mientras que la instrucción condicional if comprueba si algún elemento es falso mediante el operador not. Si un elemento es falso, entonces la función regresa inmediatamente, lo que indica que no todos los elementos son verdaderos. De lo contrario, devuelve .FalseTrue"
   ]
  },
  {
   "cell_type": "markdown",
   "id": "13a6e559",
   "metadata": {},
   "source": [
    "Esta función es bastante genérica. Se necesita un iterable, lo que significa que puede pasar una lista, tupla, cadena, diccionario o cualquier otra estructura de datos iterable. Para comprobar si el elemento actual es verdadero o falso, utilice el operador para invertir el valor de verdad de su operando. En otras palabras, regresa si su operando evalúa a falso y viceversa.all_true()notTrue\n",
    "\n",
    "Los operadores booleanos de Python pueden evaluar el valor de verdad de expresiones y objetos, lo que garantiza que su función pueda tomar iterables que contengan objetos, expresiones o ambos. Por ejemplo, si pasa un iterable de expresiones booleanas, simplemente evalúa la expresión y niega el resultado.not\n",
    "\n",
    "Aquí está en acción:all_true()"
   ]
  },
  {
   "cell_type": "code",
   "execution_count": 4,
   "id": "bf5e82a7",
   "metadata": {},
   "outputs": [
    {
     "data": {
      "text/plain": [
       "True"
      ]
     },
     "execution_count": 4,
     "metadata": {},
     "output_type": "execute_result"
    }
   ],
   "source": [
    ">>> bool_exps = [\n",
    "...     5 > 2,\n",
    "...     1 == 1,\n",
    "...     42 < 50,\n",
    "... ]\n",
    ">>> all_true(bool_exps)\n"
   ]
  },
  {
   "cell_type": "markdown",
   "id": "d4232c0b",
   "metadata": {},
   "source": [
    "Debido a que todas las expresiones en la entrada iterable son verdaderas, niega el resultado y el bloque de código nunca se ejecuta. En ese caso, devuelve .notifall_true()True\n",
    "\n",
    "Algo similar ocurre cuando la entrada iterable contiene objetos Python y expresiones no booleanas:"
   ]
  },
  {
   "cell_type": "code",
   "execution_count": 6,
   "id": "0b759cc4",
   "metadata": {},
   "outputs": [
    {
     "data": {
      "text/plain": [
       "False"
      ]
     },
     "execution_count": 6,
     "metadata": {},
     "output_type": "execute_result"
    }
   ],
   "source": [
    ">>> objects = [\"Hello!\", 42, {}]\n",
    ">>> all_true(objects)"
   ]
  },
  {
   "cell_type": "code",
   "execution_count": null,
   "id": "149103ff",
   "metadata": {},
   "outputs": [],
   "source": [
    ">>> general_expressions = [\n",
    "...     5 ** 2,\n",
    "...     42 - 3,\n",
    "...     int(\"42\")\n",
    "... ]\n",
    ">>> all_true(general_expressions)"
   ]
  },
  {
   "cell_type": "code",
   "execution_count": 5,
   "id": "45690ac3",
   "metadata": {},
   "outputs": [
    {
     "data": {
      "text/plain": [
       "True"
      ]
     },
     "execution_count": 5,
     "metadata": {},
     "output_type": "execute_result"
    }
   ],
   "source": [
    ">>> empty = []\n",
    ">>> all_true(empty)"
   ]
  },
  {
   "cell_type": "code",
   "execution_count": null,
   "id": "2c83fa41",
   "metadata": {},
   "outputs": [],
   "source": []
  },
  {
   "cell_type": "code",
   "execution_count": null,
   "id": "5fa5b839",
   "metadata": {},
   "outputs": [],
   "source": []
  },
  {
   "cell_type": "code",
   "execution_count": null,
   "id": "c5196771",
   "metadata": {},
   "outputs": [],
   "source": []
  },
  {
   "cell_type": "code",
   "execution_count": null,
   "id": "d4633b49",
   "metadata": {},
   "outputs": [],
   "source": []
  },
  {
   "cell_type": "code",
   "execution_count": null,
   "id": "e2bae523",
   "metadata": {},
   "outputs": [],
   "source": []
  },
  {
   "cell_type": "code",
   "execution_count": null,
   "id": "820ed728",
   "metadata": {},
   "outputs": [],
   "source": []
  },
  {
   "cell_type": "code",
   "execution_count": null,
   "id": "51987bab",
   "metadata": {},
   "outputs": [],
   "source": []
  }
 ],
 "metadata": {
  "kernelspec": {
   "display_name": "Python 3",
   "language": "python",
   "name": "python3"
  },
  "language_info": {
   "codemirror_mode": {
    "name": "ipython",
    "version": 3
   },
   "file_extension": ".py",
   "mimetype": "text/x-python",
   "name": "python",
   "nbconvert_exporter": "python",
   "pygments_lexer": "ipython3",
   "version": "3.8.8"
  },
  "latex_envs": {
   "LaTeX_envs_menu_present": true,
   "autoclose": false,
   "autocomplete": false,
   "bibliofile": "biblio.bib",
   "cite_by": "apalike",
   "current_citInitial": 1,
   "eqLabelWithNumbers": true,
   "eqNumInitial": 1,
   "hotkeys": {
    "equation": "Ctrl-E",
    "itemize": "Ctrl-I"
   },
   "labels_anchors": false,
   "latex_user_defs": false,
   "report_style_numbering": false,
   "user_envs_cfg": false
  }
 },
 "nbformat": 4,
 "nbformat_minor": 5
}
