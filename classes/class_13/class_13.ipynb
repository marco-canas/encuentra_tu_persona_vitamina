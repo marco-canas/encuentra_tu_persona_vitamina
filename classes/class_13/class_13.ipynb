{
 "cells": [
  {
   "cell_type": "markdown",
   "id": "a7473bce",
   "metadata": {
    "slideshow": {
     "slide_type": "slide"
    }
   },
   "source": [
    "<table align=\"left\">\n",
    "  <td>\n",
    "    <a href=\"https://colab.research.google.com/github/marco-canas/introducci-n-al-Machine-Learning/blob/main/classes/class_13/class_13.ipynb\" target=\"_parent\"><img src=\"https://colab.research.google.com/assets/colab-badge.svg\" alt=\"Open In Colab\"/></a>\n",
    "  </td>\n",
    "  <td>\n",
    "    <a target=\"_blank\" href=\"https://kaggle.com/kernels/welcome?src=https://github.com/marco-canas/introducci-n-al-Machine-Learning/blob/main/classes/class_13/class_13.ipynb\"><img src=\"https://kaggle.com/static/images/open-in-kaggle.svg\" /></a>\n",
    "  </td>\n",
    "</table> \n"
   ]
  },
  {
   "cell_type": "markdown",
   "id": "a8c5d93e",
   "metadata": {
    "slideshow": {
     "slide_type": "slide"
    }
   },
   "source": [
    "# Adición y eliminación de columnas en una DataFrame"
   ]
  },
  {
   "cell_type": "code",
   "execution_count": 2,
   "id": "11a4e462",
   "metadata": {
    "slideshow": {
     "slide_type": "slide"
    }
   },
   "outputs": [],
   "source": [
    "personas = {'nombres':['marco', 'julio', 'joseph', 'yasmira'],\\\n",
    "           'año_nacimiento':[1975, 1977, 1978, 2008],\n",
    "            'hobby':[],\n",
    "            'peso':[],\n",
    "            'hijos':[]\n",
    "           }"
   ]
  },
  {
   "cell_type": "code",
   "execution_count": null,
   "id": "ace949b0",
   "metadata": {},
   "outputs": [],
   "source": []
  },
  {
   "cell_type": "markdown",
   "id": "a8a70281",
   "metadata": {
    "slideshow": {
     "slide_type": "slide"
    }
   },
   "source": [
    "# [Matplotlib según Geron](https://github.com/ageron/handson-ml2/blob/master/tools_matplotlib.ipynb) "
   ]
  },
  {
   "cell_type": "markdown",
   "id": "40d8f2cd",
   "metadata": {
    "slideshow": {
     "slide_type": "slide"
    }
   },
   "source": [
    "Este cuaderno demuestra cómo usar la biblioteca `matplotlib` para trazar gráficos."
   ]
  },
  {
   "cell_type": "markdown",
   "id": "4773c4df",
   "metadata": {
    "slideshow": {
     "slide_type": "slide"
    }
   },
   "source": [
    "Tabla de contenido  \n",
    "\n",
    "1.  Trazado de un primer gráfico\n",
    "2.  Color y estilo de línea.\n",
    "3.  Exportar la figura en diferentes formatos\n",
    "4.  Subplots  \n",
    "5.  Multiple figures  "
   ]
  },
  {
   "cell_type": "markdown",
   "id": "4cf9b533",
   "metadata": {
    "slideshow": {
     "slide_type": "slide"
    }
   },
   "source": [
    "5.  Drawing text\n",
    "7.  Legends\n",
    "8.  Non linear scales"
   ]
  },
  {
   "cell_type": "markdown",
   "id": "ff831c85",
   "metadata": {
    "slideshow": {
     "slide_type": "slide"
    }
   },
   "source": [
    "8.  Ticks and tickers\n",
    "9.  Polar projection\n",
    "10.  3D projection\n",
    "11.  Scatter plot\n",
    "12.  Lines"
   ]
  },
  {
   "cell_type": "markdown",
   "id": "15bb4ee4",
   "metadata": {
    "slideshow": {
     "slide_type": "slide"
    }
   },
   "source": [
    "16.  Histograms\n",
    "17.  Images\n",
    "18.  Animations\n",
    "19.  Saving animations to video files\n",
    "20.  What next?"
   ]
  },
  {
   "cell_type": "markdown",
   "id": "0b387e81",
   "metadata": {
    "slideshow": {
     "slide_type": "slide"
    }
   },
   "source": [
    "# Trazando tu primer gráfico"
   ]
  },
  {
   "cell_type": "markdown",
   "id": "52164fa9",
   "metadata": {
    "slideshow": {
     "slide_type": "slide"
    }
   },
   "source": [
    "Primero necesitamos importar la biblioteca `matplotlib`."
   ]
  },
  {
   "cell_type": "code",
   "execution_count": null,
   "id": "627313ea",
   "metadata": {
    "slideshow": {
     "slide_type": "slide"
    }
   },
   "outputs": [],
   "source": [
    "import matplotlib"
   ]
  },
  {
   "cell_type": "markdown",
   "id": "fe5566f6",
   "metadata": {
    "slideshow": {
     "slide_type": "slide"
    }
   },
   "source": [
    "`Matplotlib` puede generar gráficos usando varias bibliotecas de gráficos back-end, como Tk, wxPython, etc. "
   ]
  },
  {
   "cell_type": "markdown",
   "id": "0b805371",
   "metadata": {
    "slideshow": {
     "slide_type": "slide"
    }
   },
   "source": [
    "Cuando se ejecuta python usando la línea de comando, los gráficos generalmente se muestran en una ventana separada. "
   ]
  },
  {
   "cell_type": "markdown",
   "id": "99247d59",
   "metadata": {
    "slideshow": {
     "slide_type": "slide"
    }
   },
   "source": [
    "En un cuaderno Jupyter, simplemente podemos generar los gráficos dentro del propio cuaderno ejecutando el comando mágico en línea `%matplotlib`."
   ]
  },
  {
   "cell_type": "code",
   "execution_count": null,
   "id": "98d3e589",
   "metadata": {
    "slideshow": {
     "slide_type": "slide"
    }
   },
   "outputs": [],
   "source": [
    "%matplotlib inline\n",
    "\n"
   ]
  },
  {
   "cell_type": "markdown",
   "id": "817e153c",
   "metadata": {
    "slideshow": {
     "slide_type": "slide"
    }
   },
   "source": [
    "¡Ahora tracemos nuestro primer gráfico! "
   ]
  },
  {
   "cell_type": "code",
   "execution_count": null,
   "id": "80298784",
   "metadata": {
    "slideshow": {
     "slide_type": "slide"
    }
   },
   "outputs": [],
   "source": [
    "import matplotlib.pyplot as plt\n",
    "plt.plot([1, 2, 4, 9, 5, 3])\n",
    "plt.show()"
   ]
  },
  {
   "cell_type": "markdown",
   "id": "e37c4136",
   "metadata": {
    "slideshow": {
     "slide_type": "slide"
    }
   },
   "source": [
    "Sí, es tan simple como llamar a la función `plot` con algunos datos y luego llamar a la función `show`."
   ]
  },
  {
   "cell_type": "markdown",
   "id": "93bb6add",
   "metadata": {
    "slideshow": {
     "slide_type": "slide"
    }
   },
   "source": [
    "Si a la función `plot` se le da una matriz de datos, la usará como las coordenadas en el eje vertical, y solo usará el índice de cada punto de datos en la matriz como la coordenada horizontal. "
   ]
  },
  {
   "cell_type": "markdown",
   "id": "c4ac3ad7",
   "metadata": {
    "slideshow": {
     "slide_type": "slide"
    }
   },
   "source": [
    "También puede proporcionar dos matrices: una para el eje horizontal `x` y la segunda para el eje vertical `y`:"
   ]
  },
  {
   "cell_type": "code",
   "execution_count": null,
   "id": "d9c077d0",
   "metadata": {
    "slideshow": {
     "slide_type": "slide"
    }
   },
   "outputs": [],
   "source": [
    "plt.plot([-3, -2, 5, 0], [1, 6, 4, 3])\n",
    "plt.show()"
   ]
  },
  {
   "cell_type": "markdown",
   "id": "daca96d5",
   "metadata": {
    "slideshow": {
     "slide_type": "slide"
    }
   },
   "source": [
    "Los ejes coinciden automáticamente con la extensión de los datos. "
   ]
  },
  {
   "cell_type": "markdown",
   "id": "eb7dcb31",
   "metadata": {
    "slideshow": {
     "slide_type": "slide"
    }
   },
   "source": [
    "Nos gustaría darle un poco más de espacio al gráfico, así que llamemos a la función `axis` para cambiar la extensión de cada eje `[xmin, xmax, ymin, ymax]`."
   ]
  },
  {
   "cell_type": "code",
   "execution_count": null,
   "id": "b1004e76",
   "metadata": {
    "slideshow": {
     "slide_type": "slide"
    }
   },
   "outputs": [],
   "source": [
    "plt.plot([-3, -2, 5, 0], [1, 6, 4, 3])\n",
    "plt.axis([-4, 6, 0, 7])\n",
    "plt.show()\n"
   ]
  },
  {
   "cell_type": "markdown",
   "id": "063d790f",
   "metadata": {
    "slideshow": {
     "slide_type": "slide"
    }
   },
   "source": [
    "Ahora, grafiquemos una función matemática. Usamos la función `linspace` de NumPy para crear una matriz `x` que contiene 500 flotantes que van desde -2 a 2, luego creamos una segunda matriz `y` calculada como el cuadrado de `x` (para aprender sobre NumPy, lea [el tutorial de NumPy](https://github.com/ageron/handson-ml2/blob/8b454ea71235cd0f6fa8c72a5d8be17204f674eb//tools_numpy.ipynb))."
   ]
  },
  {
   "cell_type": "code",
   "execution_count": null,
   "id": "d6622c7c",
   "metadata": {
    "slideshow": {
     "slide_type": "slide"
    }
   },
   "outputs": [],
   "source": [
    "import numpy as np\n",
    "x = np.linspace(-2, 2, 500)\n",
    "y = x**2\n",
    "\n",
    "plt.plot(x, y)\n",
    "plt.show()"
   ]
  },
  {
   "cell_type": "markdown",
   "id": "00054a2b",
   "metadata": {
    "slideshow": {
     "slide_type": "slide"
    }
   },
   "source": [
    "Eso es un poco seco, agreguemos un título y etiquetas `x` e `y`, y dibujemos una cuadrícula."
   ]
  },
  {
   "cell_type": "code",
   "execution_count": null,
   "id": "c00d7fbf",
   "metadata": {
    "slideshow": {
     "slide_type": "slide"
    }
   },
   "outputs": [],
   "source": [
    "plt.plot(x, y)\n",
    "plt.title(\"Función cuadrática\")\n",
    "plt.xlabel(\"x\")\n",
    "plt.ylabel(r\"$y = x^{2}$\")\n",
    "plt.grid(True)\n",
    "plt.show()"
   ]
  },
  {
   "cell_type": "markdown",
   "id": "64fb4f0e",
   "metadata": {
    "slideshow": {
     "slide_type": "slide"
    }
   },
   "source": [
    "## Estilo y color de línea"
   ]
  },
  {
   "cell_type": "markdown",
   "id": "5710e80f",
   "metadata": {
    "slideshow": {
     "slide_type": "slide"
    }
   },
   "source": [
    "Por defecto, `matplotlib` dibuja una línea entre puntos consecutivos."
   ]
  },
  {
   "cell_type": "code",
   "execution_count": null,
   "id": "3a22176b",
   "metadata": {
    "slideshow": {
     "slide_type": "slide"
    }
   },
   "outputs": [],
   "source": [
    "plt.plot([0, 100, 100, 0, 0, 100, 50, 0, 100], [0, 0, 100, 100, 0, 100, 130, 100, 0])\n",
    "plt.axis([-10, 110, -10, 140])\n",
    "plt.show()"
   ]
  },
  {
   "cell_type": "markdown",
   "id": "33300b04",
   "metadata": {
    "slideshow": {
     "slide_type": "slide"
    }
   },
   "source": [
    "Puede pasar un tercer argumento para cambiar el estilo y el color de la línea. "
   ]
  },
  {
   "cell_type": "markdown",
   "id": "14683cec",
   "metadata": {
    "slideshow": {
     "slide_type": "slide"
    }
   },
   "source": [
    "Por ejemplo, `g--` significa \"línea discontinua verde\"."
   ]
  },
  {
   "cell_type": "code",
   "execution_count": null,
   "id": "ef738590",
   "metadata": {
    "slideshow": {
     "slide_type": "slide"
    }
   },
   "outputs": [],
   "source": [
    "import matplotlib.pyplot as plt \n",
    "\n",
    "plt.plot([0, 100, 100, 0, 0, 100, 50, 0, 100], [0, 0, 100, 100, 0, 100, 130, 100, 0], \"g--\")\n",
    "# r^, r<,r>,rs,\n",
    "# https://matplotlib.org/stable/api/_as_gen/matplotlib.pyplot.plot.html\n",
    "plt.axis([-10, 110, -10, 140])\n",
    "plt.show()"
   ]
  },
  {
   "cell_type": "markdown",
   "id": "59b116f2",
   "metadata": {
    "slideshow": {
     "slide_type": "slide"
    }
   },
   "source": [
    "Puede trazar varias líneas en un gráfico de forma muy sencilla: simplemente pase `x1, y1, [estilo1], x2, y2, [estilo2], ...`  \n",
    "\n",
    "Por ejemplo:"
   ]
  },
  {
   "cell_type": "code",
   "execution_count": null,
   "id": "7b655a2e",
   "metadata": {
    "slideshow": {
     "slide_type": "slide"
    }
   },
   "outputs": [],
   "source": [
    "plt.plot([0, 100, 100, 0, 0], [0, 0, 100, 100, 0], \"r-\",\\\n",
    "         [0, 100, 50, 0, 100], [0, 100, 130, 100, 0], \"g--\")\n",
    "plt.axis([-10, 110, -10, 140])\n",
    "plt.show()"
   ]
  },
  {
   "cell_type": "markdown",
   "id": "9d75a4f7",
   "metadata": {
    "slideshow": {
     "slide_type": "slide"
    }
   },
   "source": [
    "O simplemente llame a `plot` varias veces antes de llamar a `show`."
   ]
  },
  {
   "cell_type": "code",
   "execution_count": null,
   "id": "2c3472e9",
   "metadata": {
    "slideshow": {
     "slide_type": "slide"
    }
   },
   "outputs": [],
   "source": [
    "plt.plot([0, 100, 100, 0, 0], [0, 0, 100, 100, 0], \"r-\")\n",
    "plt.plot([0, 100, 50, 0, 100], [0, 100, 130, 100, 0], \"g--\")\n",
    "plt.axis([-10, 110, -10, 140])\n",
    "plt.show()"
   ]
  },
  {
   "cell_type": "markdown",
   "id": "8f2d43c5",
   "metadata": {
    "slideshow": {
     "slide_type": "slide"
    }
   },
   "source": [
    "También puede dibujar puntos simples en lugar de líneas. "
   ]
  },
  {
   "cell_type": "markdown",
   "id": "79b6939e",
   "metadata": {
    "slideshow": {
     "slide_type": "slide"
    }
   },
   "source": [
    "Aquí hay un ejemplo con guiones verdes, línea punteada roja y triángulos azules. "
   ]
  },
  {
   "cell_type": "markdown",
   "id": "41c4abdc",
   "metadata": {
    "slideshow": {
     "slide_type": "slide"
    }
   },
   "source": [
    "Consulte [la documentación](https://matplotlib.org/2.0.2/api/pyplot_api.html) para ver la lista completa de opciones de estilo y color."
   ]
  },
  {
   "cell_type": "code",
   "execution_count": null,
   "id": "70a143e2",
   "metadata": {
    "slideshow": {
     "slide_type": "slide"
    }
   },
   "outputs": [],
   "source": [
    "import numpy as np \n",
    "x = np.linspace(-1.4, 1.4, 30)\n",
    "plt.plot(x, x, 'g--', x, x**2, 'r:', x, x**3, 'b^')\n",
    "plt.show()"
   ]
  },
  {
   "cell_type": "markdown",
   "id": "8f375231",
   "metadata": {
    "slideshow": {
     "slide_type": "slide"
    }
   },
   "source": [
    "La función de trazado `plot()` devuelve una lista de objetos `Line2D` (uno para cada línea). "
   ]
  },
  {
   "cell_type": "markdown",
   "id": "b928b67e",
   "metadata": {
    "slideshow": {
     "slide_type": "slide"
    }
   },
   "source": [
    "Puede establecer atributos adicionales en estas líneas, como el ancho de línea(`linewidth`), el estilo de guión(`dash_style`) o el nivel `alpha`. "
   ]
  },
  {
   "cell_type": "markdown",
   "id": "9f0e8670",
   "metadata": {
    "slideshow": {
     "slide_type": "slide"
    }
   },
   "source": [
    "Consulte la lista completa de atributos en la documentación."
   ]
  },
  {
   "cell_type": "code",
   "execution_count": null,
   "id": "43f08dfd",
   "metadata": {
    "slideshow": {
     "slide_type": "slide"
    }
   },
   "outputs": [],
   "source": [
    "x = np.linspace(-1.4, 1.4, 30)\n",
    "line1, line2, line3 = plt.plot(x, x, 'g--', x, x**2, 'r:', x, x**3, 'b^')\n",
    "line1.set_linewidth(3.0)\n",
    "line1.set_dash_capstyle(\"round\")\n",
    "line3.set_alpha(0.2)\n",
    "plt.show()"
   ]
  },
  {
   "cell_type": "markdown",
   "id": "c6786dcc",
   "metadata": {
    "slideshow": {
     "slide_type": "slide"
    }
   },
   "source": [
    "## Guardar una figura  \n",
    "\n",
    "Guardar una figura en el disco es tan simple como llamar a `savefig` con el nombre del archivo (o un objeto de archivo). Los formatos de imagen disponibles dependen del backend de gráficos que utilice."
   ]
  },
  {
   "cell_type": "code",
   "execution_count": null,
   "id": "227a5f34",
   "metadata": {
    "slideshow": {
     "slide_type": "slide"
    }
   },
   "outputs": [],
   "source": [
    "x = np.linspace(-1.4, 1.4, 30)\n",
    "plt.plot(x, x**2)\n",
    "plt.savefig(\"my_square_function.png\", transparent=True)"
   ]
  },
  {
   "cell_type": "markdown",
   "id": "af01548a",
   "metadata": {
    "slideshow": {
     "slide_type": "slide"
    }
   },
   "source": [
    "## `subplots`  "
   ]
  },
  {
   "cell_type": "markdown",
   "id": "53624b08",
   "metadata": {
    "slideshow": {
     "slide_type": "slide"
    }
   },
   "source": [
    "Una figura de `matplotlib` puede contener varios subgráficos. "
   ]
  },
  {
   "cell_type": "markdown",
   "id": "ef10c0a5",
   "metadata": {
    "slideshow": {
     "slide_type": "slide"
    }
   },
   "source": [
    "Estos subgráficos están organizadas en una cuadrícula. "
   ]
  },
  {
   "cell_type": "markdown",
   "id": "08ed33d1",
   "metadata": {
    "slideshow": {
     "slide_type": "slide"
    }
   },
   "source": [
    "Para crear un subgráfico, simplemente llame a la función `subplot()` y especifique:\n",
    "\n",
    "* el número de filas y \n",
    "* columnas en la figura, y \n",
    "* el índice del subgráfico en la que desea dibujar (comenzando desde 1, luego de izquierda a derecha y de arriba a abajo). "
   ]
  },
  {
   "cell_type": "markdown",
   "id": "d4091f11",
   "metadata": {
    "slideshow": {
     "slide_type": "slide"
    }
   },
   "source": [
    "Tenga en cuenta que `pyplot` realiza un seguimiento del subgráfico actualmente activo (a la que puede obtener una referencia llamando a `plt.gca()`), por lo que cuando llama a la función `plot()`, se basa en el subgráfico activo."
   ]
  },
  {
   "cell_type": "code",
   "execution_count": null,
   "id": "ec279e1d",
   "metadata": {
    "slideshow": {
     "slide_type": "slide"
    }
   },
   "outputs": [],
   "source": [
    "x = np.linspace(-1.4, 1.4, 30)\n",
    "\n",
    "plt.subplot(2, 2, 1)  # 2 rows, 2 columns, 1st subplot = top left\n",
    "plt.plot(x, x)\n",
    "\n",
    "plt.subplot(2, 2, 2)  # 2 rows, 2 columns, 2nd subplot = top right\n",
    "plt.plot(x, x**2)\n",
    "\n",
    "plt.subplot(2, 2, 3)  # 2 rows, 2 columns, 3rd subplot = bottow left\n",
    "plt.plot(x, x**3)\n",
    "\n",
    "plt.subplot(2, 2, 4)  # 2 rows, 2 columns, 4th subplot = bottom right\n",
    "plt.plot(x, x**4)\n",
    "\n",
    "plt.show()"
   ]
  },
  {
   "cell_type": "markdown",
   "id": "3053902b",
   "metadata": {
    "slideshow": {
     "slide_type": "slide"
    }
   },
   "source": [
    "Tenga en cuenta que `subplot(223)` es una abreviatura de `subplot(2, 2, 3)`."
   ]
  },
  {
   "cell_type": "markdown",
   "id": "56e4de55",
   "metadata": {
    "slideshow": {
     "slide_type": "slide"
    }
   },
   "source": [
    "Es fácil crear subgráficos que abarquen varias celdas de cuadrícula de esta manera:"
   ]
  },
  {
   "cell_type": "code",
   "execution_count": 4,
   "id": "49619d39",
   "metadata": {
    "slideshow": {
     "slide_type": "slide"
    }
   },
   "outputs": [
    {
     "data": {
      "image/png": "[encoded data removed]",
      "text/plain": [
       "<Figure size 432x288 with 3 Axes>"
      ]
     },
     "metadata": {
      "needs_background": "light"
     },
     "output_type": "display_data"
    }
   ],
   "source": [
    "import numpy as np \n",
    "import matplotlib.pyplot as plt \n",
    "x = np.linspace(-3,3,8)  \n",
    "\n",
    "plt.subplot(2, 2, 1)  # 2 rows, 2 columns, 1st subplot = top left\n",
    "plt.plot(x, x)\n",
    "plt.subplot(2, 2, 2)  # 2 rows, 2 columns, 2nd subplot = top right\n",
    "plt.plot(x, x**2)\n",
    "plt.subplot(2, 1, 2)  # 2 rows, *1* column, 2nd subplot = bottom\n",
    "plt.plot(x, x**3)\n",
    "plt.show()"
   ]
  },
  {
   "cell_type": "markdown",
   "id": "ba8cf672",
   "metadata": {
    "slideshow": {
     "slide_type": "slide"
    }
   },
   "source": [
    "Si necesita un posicionamiento de subgráfico más complejo, puede usar `subplot2grid` en lugar de `subplot()`. "
   ]
  },
  {
   "cell_type": "markdown",
   "id": "cb66967b",
   "metadata": {
    "slideshow": {
     "slide_type": "slide"
    }
   },
   "source": [
    "Usted especifica el número de filas y columnas en la cuadrícula, luego la posición de su subgráfico en esa cuadrícula (arriba a la izquierda = (0,0)) y, opcionalmente, cuántas filas y/o columnas abarca. "
   ]
  },
  {
   "cell_type": "markdown",
   "id": "c67ad4a0",
   "metadata": {
    "slideshow": {
     "slide_type": "slide"
    }
   },
   "source": [
    "Por ejemplo:"
   ]
  },
  {
   "cell_type": "code",
   "execution_count": 5,
   "id": "03306b46",
   "metadata": {
    "slideshow": {
     "slide_type": "slide"
    }
   },
   "outputs": [
    {
     "data": {
      "image/png": "[encoded data removed]",
      "text/plain": [
       "<Figure size 432x288 with 4 Axes>"
      ]
     },
     "metadata": {
      "needs_background": "light"
     },
     "output_type": "display_data"
    }
   ],
   "source": [
    "plt.subplot2grid((3,3), (0, 0), rowspan=2, colspan=2)\n",
    "plt.plot(x, x**2)\n",
    "plt.subplot2grid((3,3), (0, 2))\n",
    "plt.plot(x, x**3)\n",
    "plt.subplot2grid((3,3), (1, 2), rowspan=2)\n",
    "plt.plot(x, x**4)\n",
    "plt.subplot2grid((3,3), (2, 0), colspan=2)\n",
    "plt.plot(x, x**5)\n",
    "plt.show()"
   ]
  },
  {
   "cell_type": "markdown",
   "id": "ef0f5900",
   "metadata": {
    "slideshow": {
     "slide_type": "slide"
    }
   },
   "source": [
    "Si necesita aún más flexibilidad en el posicionamiento de subparcelas, consulte [la documentación de GridSpec](https://matplotlib.org/2.0.2/users/gridspec.html)"
   ]
  },
  {
   "cell_type": "markdown",
   "id": "15810c3a",
   "metadata": {
    "slideshow": {
     "slide_type": "slide"
    }
   },
   "source": [
    "## Múltiples figuras"
   ]
  },
  {
   "cell_type": "markdown",
   "id": "abeb9503",
   "metadata": {
    "slideshow": {
     "slide_type": "slide"
    }
   },
   "source": [
    "También es posible dibujar varias figuras. "
   ]
  },
  {
   "cell_type": "markdown",
   "id": "0d307112",
   "metadata": {
    "slideshow": {
     "slide_type": "slide"
    }
   },
   "source": [
    "Cada figura puede contener una o más subtramas. Por defecto, `matplotlib` crea `figure(1)` automáticamente. "
   ]
  },
  {
   "cell_type": "markdown",
   "id": "0d05f616",
   "metadata": {
    "slideshow": {
     "slide_type": "slide"
    }
   },
   "source": [
    "Cuando cambia de figura, `pyplot` realiza un seguimiento de la figura actualmente activa (a la que puede obtener una referencia llamando a `plt.gcf()`), y la subtrama activa de esa figura se convierte en la subtrama actual."
   ]
  },
  {
   "cell_type": "code",
   "execution_count": null,
   "id": "743efa5f",
   "metadata": {
    "slideshow": {
     "slide_type": "slide"
    }
   },
   "outputs": [],
   "source": [
    "x = np.linspace(-1.4, 1.4, 30)\n",
    "\n",
    "plt.figure(1)\n",
    "plt.subplot(211)\n",
    "plt.plot(x, x**2)\n",
    "plt.title(\"Square and Cube\")\n",
    "plt.subplot(212)\n",
    "plt.plot(x, x**3)\n",
    "\n",
    "plt.figure(2, figsize=(10, 5))\n",
    "plt.subplot(121)\n",
    "plt.plot(x, x**4)\n",
    "plt.title(\"y = x**4\")\n",
    "plt.subplot(122)\n",
    "plt.plot(x, x**5)\n",
    "plt.title(\"y = x**5\")\n",
    "\n",
    "plt.figure(1)      # back to figure 1, current subplot is 212 (bottom)\n",
    "plt.plot(x, -x**3, \"r:\")\n",
    "\n",
    "plt.show()"
   ]
  },
  {
   "cell_type": "markdown",
   "id": "0d19c539",
   "metadata": {
    "slideshow": {
     "slide_type": "slide"
    }
   },
   "source": [
    "## Máquina de estado de Pyplot: implícito vs explícito"
   ]
  },
  {
   "cell_type": "markdown",
   "id": "4430e04e",
   "metadata": {
    "slideshow": {
     "slide_type": "slide"
    }
   },
   "source": [
    "Hasta ahora, hemos utilizado la máquina de estado de Pyplot que realiza un seguimiento de la subtrama actualmente activa. Cada vez que llama a la función `plot`, pyplot simplemente se basa en la subtrama actualmente activa. "
   ]
  },
  {
   "cell_type": "markdown",
   "id": "b227dd54",
   "metadata": {
    "slideshow": {
     "slide_type": "slide"
    }
   },
   "source": [
    "También hace algo más de magia, como la creación automática de una figura y una trama secundaria cuando llamas a la trama, si aún no existen. "
   ]
  },
  {
   "cell_type": "markdown",
   "id": "91794438",
   "metadata": {
    "slideshow": {
     "slide_type": "slide"
    }
   },
   "source": [
    "Esta magia es conveniente en un entorno interactivo (como Jupyter)."
   ]
  },
  {
   "cell_type": "markdown",
   "id": "69144327",
   "metadata": {
    "slideshow": {
     "slide_type": "slide"
    }
   },
   "source": [
    "Pero cuando estás escribiendo un programa, lo explícito es mejor que lo implícito. "
   ]
  },
  {
   "cell_type": "markdown",
   "id": "144a5c41",
   "metadata": {
    "slideshow": {
     "slide_type": "slide"
    }
   },
   "source": [
    "El código explícito suele ser más fácil de depurar y mantener, y si no me cree, simplemente lea la segunda regla en Zen of Python:"
   ]
  },
  {
   "cell_type": "code",
   "execution_count": null,
   "id": "91dfd0ac",
   "metadata": {
    "slideshow": {
     "slide_type": "slide"
    }
   },
   "outputs": [],
   "source": [
    "import this "
   ]
  },
  {
   "cell_type": "markdown",
   "id": "e86fadfc",
   "metadata": {
    "slideshow": {
     "slide_type": "slide"
    }
   },
   "source": [
    "Afortunadamente, `Pyplot` le permite ignorar la máquina de estado por completo, por lo que puede escribir un código bellamente explícito. "
   ]
  },
  {
   "cell_type": "markdown",
   "id": "0eb264cf",
   "metadata": {
    "slideshow": {
     "slide_type": "slide"
    }
   },
   "source": [
    "Simplemente llame a la función `subplots` y use el objeto de figura y la lista de objetos de ejes que se devuelven. "
   ]
  },
  {
   "cell_type": "markdown",
   "id": "c40671c2",
   "metadata": {
    "slideshow": {
     "slide_type": "slide"
    }
   },
   "source": [
    "¡No más magia! Por ejemplo:"
   ]
  },
  {
   "cell_type": "code",
   "execution_count": null,
   "id": "bbf7685e",
   "metadata": {
    "slideshow": {
     "slide_type": "slide"
    }
   },
   "outputs": [],
   "source": [
    "x = np.linspace(-2, 2, 200)\n",
    "fig1, (ax_top, ax_bottom) = plt.subplots(2, 1, sharex=True)\n",
    "fig1.set_size_inches(10,5)\n",
    "line1, line2 = ax_top.plot(x, np.sin(3*x**2), \"r-\", x, np.cos(5*x**2), \"b-\")\n",
    "line3, = ax_bottom.plot(x, np.sin(3*x), \"r-\")\n",
    "ax_top.grid(True)\n",
    "\n",
    "fig2, ax = plt.subplots(1, 1)\n",
    "ax.plot(x, x**2)\n",
    "plt.show()"
   ]
  },
  {
   "cell_type": "markdown",
   "id": "bce2516a",
   "metadata": {
    "slideshow": {
     "slide_type": "slide"
    }
   },
   "source": [
    "Para mantener la coherencia, continuaremos usando la máquina de estado de pyplot en el resto de este tutorial, pero recomendamos usar la interfaz orientada a objetos en sus programas."
   ]
  },
  {
   "cell_type": "markdown",
   "id": "0bca78e4",
   "metadata": {
    "slideshow": {
     "slide_type": "slide"
    }
   },
   "source": [
    "## Pylab vs Pyplot vs Matplotlib"
   ]
  },
  {
   "cell_type": "markdown",
   "id": "c51f4bb8",
   "metadata": {
    "slideshow": {
     "slide_type": "slide"
    }
   },
   "source": [
    "Existe cierta confusión en torno a la relación entre `pylab`, `pyplot` y `matplotlib`. "
   ]
  },
  {
   "cell_type": "markdown",
   "id": "c3180bfb",
   "metadata": {
    "slideshow": {
     "slide_type": "slide"
    }
   },
   "source": [
    "Es simple: `matplotlib` es la biblioteca completa, contiene todo, incluidos `pylab` y `pyplot`."
   ]
  },
  {
   "cell_type": "markdown",
   "id": "096a0688",
   "metadata": {
    "slideshow": {
     "slide_type": "slide"
    }
   },
   "source": [
    "`Pyplot` proporciona una serie de herramientas para trazar gráficos, incluida la interfaz de máquina de estado para la biblioteca de trazado subyacente orientada a objetos."
   ]
  },
  {
   "cell_type": "markdown",
   "id": "61e42f77",
   "metadata": {
    "slideshow": {
     "slide_type": "slide"
    }
   },
   "source": [
    "Pylab es un módulo conveniente que importa `matplotlib.pyplot` y `NumPy` en un solo espacio de nombres."
   ]
  },
  {
   "cell_type": "markdown",
   "id": "ca413cbd",
   "metadata": {
    "slideshow": {
     "slide_type": "slide"
    }
   },
   "source": [
    "Encontrará muchos ejemplos usando pylab, pero ya no se recomienda (porque las importaciones explícitas son mejores que las implícitas)."
   ]
  },
  {
   "cell_type": "markdown",
   "id": "cca31d55",
   "metadata": {
    "slideshow": {
     "slide_type": "slide"
    }
   },
   "source": [
    "## Dibujar texto"
   ]
  },
  {
   "cell_type": "markdown",
   "id": "db7d37f2",
   "metadata": {
    "slideshow": {
     "slide_type": "slide"
    }
   },
   "source": [
    "Puede llamar `text` para agregar texto en cualquier ubicación en el gráfico. "
   ]
  },
  {
   "cell_type": "markdown",
   "id": "c66fc54b",
   "metadata": {
    "slideshow": {
     "slide_type": "slide"
    }
   },
   "source": [
    "Simplemente especifique las coordenadas horizontales y verticales y el texto, y opcionalmente algunos atributos adicionales. "
   ]
  },
  {
   "cell_type": "markdown",
   "id": "20fcfd5f",
   "metadata": {
    "slideshow": {
     "slide_type": "slide"
    }
   },
   "source": [
    "Cualquier texto en matplotlib puede contener expresiones de ecuación TeX, consulte la documentación para obtener más detalles."
   ]
  },
  {
   "cell_type": "code",
   "execution_count": null,
   "id": "a8b4e0d6",
   "metadata": {
    "slideshow": {
     "slide_type": "slide"
    }
   },
   "outputs": [],
   "source": [
    "x = np.linspace(-1.5, 1.5, 30)\n",
    "px = 0.8\n",
    "py = px**2\n",
    "\n",
    "plt.plot(x, x**2, \"b-\", px, py, \"ro\")\n",
    "\n",
    "plt.text(0, 1.5, \"Square function\\n$y = x^2$\", fontsize=20, color='blue', \\\n",
    "         horizontalalignment=\"center\")\n",
    "plt.text(px - 0.08, py, \"Beautiful point\", ha=\"right\", weight=\"heavy\")\n",
    "plt.text(px+0.1, py, \"x = %0.2f\\ny = %0.2f\"%(px, py), rotation=30, color='gray')\n",
    "\n",
    "plt.show()"
   ]
  },
  {
   "cell_type": "markdown",
   "id": "9332c1c2",
   "metadata": {
    "slideshow": {
     "slide_type": "slide"
    }
   },
   "source": [
    "Nota: `ha` es un alias para `horizontalalignment`  \n",
    "Para obtener más propiedades de texto, visite [la documentación](https://matplotlib.org/2.0.2/users/text_props.html)."
   ]
  },
  {
   "cell_type": "markdown",
   "id": "5bb26733",
   "metadata": {
    "slideshow": {
     "slide_type": "slide"
    }
   },
   "source": [
    "Es bastante frecuente anotar elementos de un gráfico, como el hermoso punto de arriba. "
   ]
  },
  {
   "cell_type": "markdown",
   "id": "19e308bd",
   "metadata": {
    "slideshow": {
     "slide_type": "slide"
    }
   },
   "source": [
    "La función `annotate()` lo hace fácil: simplemente indique la ubicación del punto de interés y la posición del texto, además de, opcionalmente, algunos atributos adicionales para el texto y la flecha."
   ]
  },
  {
   "cell_type": "code",
   "execution_count": null,
   "id": "23a6ab3c",
   "metadata": {
    "slideshow": {
     "slide_type": "slide"
    }
   },
   "outputs": [],
   "source": [
    "plt.plot(x, x**2, px, py, \"ro\")\n",
    "plt.annotate(\"Beautiful point\", xy=(px, py), xytext=(px-1.3,py+0.5),\n",
    "                           color=\"green\", weight=\"heavy\", fontsize=14,\n",
    "                           arrowprops={\"facecolor\": \"lightgreen\"})\n",
    "plt.show()"
   ]
  },
  {
   "cell_type": "markdown",
   "id": "7b20a36b",
   "metadata": {
    "slideshow": {
     "slide_type": "slide"
    }
   },
   "source": [
    "También puede agregar un cuadro delimitador alrededor de su texto usando el atributo `bbox`:"
   ]
  },
  {
   "cell_type": "code",
   "execution_count": null,
   "id": "040e48f8",
   "metadata": {
    "slideshow": {
     "slide_type": "slide"
    }
   },
   "outputs": [],
   "source": [
    "plt.plot(x, x**2, px, py, \"ro\")\n",
    "\n",
    "bbox_props = dict(boxstyle=\"rarrow,pad=0.3\", ec=\"b\", lw=2, fc=\"lightblue\")\n",
    "plt.text(px-0.2, py, \"Beautiful point\", bbox=bbox_props, ha=\"right\")\n",
    "\n",
    "bbox_props = dict(boxstyle=\"round4,pad=1,rounding_size=0.2\", ec=\"black\", fc=\"#EEEEFF\", lw=5)\n",
    "plt.text(0, 1.5, \"Square function\\n$y = x^2$\", fontsize=20, color='black', ha=\"center\", bbox=bbox_props)\n",
    "\n",
    "plt.show()"
   ]
  },
  {
   "cell_type": "markdown",
   "id": "eb2921d8",
   "metadata": {
    "slideshow": {
     "slide_type": "slide"
    }
   },
   "source": [
    "Solo por diversión, si desea un gráfico de estilo xkcd, simplemente dibuje dentro de una sección con plt.xkcd():"
   ]
  },
  {
   "cell_type": "code",
   "execution_count": null,
   "id": "245c24bf",
   "metadata": {
    "slideshow": {
     "slide_type": "slide"
    }
   },
   "outputs": [],
   "source": [
    "with plt.xkcd():\n",
    "    plt.plot(x, x**2, px, py, \"ro\")\n",
    "\n",
    "    bbox_props = dict(boxstyle=\"rarrow,pad=0.3\", ec=\"b\", lw=2, fc=\"lightblue\")\n",
    "    plt.text(px-0.2, py, \"Beautiful point\", bbox=bbox_props, ha=\"right\")\n",
    "\n",
    "    bbox_props = dict(boxstyle=\"round4,pad=1,rounding_size=0.2\", ec=\"black\", fc=\"#EEEEFF\", lw=5)\n",
    "    plt.text(0, 1.5, \"Square function\\n$y = x^2$\", fontsize=20, color='black', ha=\"center\", bbox=bbox_props)\n",
    "\n",
    "    plt.show()"
   ]
  },
  {
   "cell_type": "markdown",
   "id": "24054f5b",
   "metadata": {
    "slideshow": {
     "slide_type": "slide"
    }
   },
   "source": [
    "## Leyendas"
   ]
  },
  {
   "cell_type": "markdown",
   "id": "a80328c6",
   "metadata": {
    "slideshow": {
     "slide_type": "slide"
    }
   },
   "source": [
    "La forma más sencilla de agregar una leyenda es establecer una etiqueta en todas las líneas y luego llamar a la función `legend()`."
   ]
  },
  {
   "cell_type": "code",
   "execution_count": null,
   "id": "5d11e3a2",
   "metadata": {
    "slideshow": {
     "slide_type": "slide"
    }
   },
   "outputs": [],
   "source": [
    "x = np.linspace(-1.4, 1.4, 50)\n",
    "plt.plot(x, x**2, \"r--\", label=\"Square function\")\n",
    "plt.plot(x, x**3, \"g-\", label=\"Cube function\")\n",
    "plt.legend(loc=\"best\")\n",
    "plt.grid(True)\n",
    "plt.show()"
   ]
  },
  {
   "cell_type": "markdown",
   "id": "107bf741",
   "metadata": {
    "slideshow": {
     "slide_type": "slide"
    }
   },
   "source": [
    "## Escalas no lineales"
   ]
  },
  {
   "cell_type": "markdown",
   "id": "6f183df7",
   "metadata": {
    "slideshow": {
     "slide_type": "slide"
    }
   },
   "source": [
    "`Matplotlib` admite escalas no lineales, como escalas logarítmicas o logit."
   ]
  },
  {
   "cell_type": "code",
   "execution_count": null,
   "id": "4af98f21",
   "metadata": {
    "slideshow": {
     "slide_type": "slide"
    }
   },
   "outputs": [],
   "source": [
    "x = np.linspace(0.1, 15, 500)\n",
    "y = x**3/np.exp(2*x)\n",
    "\n",
    "plt.figure(1)\n",
    "plt.plot(x, y)\n",
    "plt.yscale('linear')\n",
    "plt.title('linear')\n",
    "plt.grid(True)\n",
    "\n",
    "plt.figure(2)\n",
    "plt.plot(x, y)\n",
    "plt.yscale('log')\n",
    "plt.title('log')\n",
    "plt.grid(True)\n",
    "\n",
    "plt.figure(3)\n",
    "plt.plot(x, y)\n",
    "plt.yscale('logit')\n",
    "plt.title('logit')\n",
    "plt.grid(True)\n",
    "\n",
    "plt.figure(4)\n",
    "plt.plot(x, y - y.mean())\n",
    "plt.yscale('symlog', linthreshy=0.05)\n",
    "plt.title('symlog')\n",
    "plt.grid(True)\n",
    "\n",
    "plt.show()"
   ]
  },
  {
   "cell_type": "markdown",
   "id": "12b6b3c8",
   "metadata": {
    "slideshow": {
     "slide_type": "slide"
    }
   },
   "source": [
    "## Ticks y tickers"
   ]
  },
  {
   "cell_type": "markdown",
   "id": "12233cda",
   "metadata": {
    "slideshow": {
     "slide_type": "slide"
    }
   },
   "source": [
    "Los axes tienen pequeñas marcas llamadas \"ticks\". "
   ]
  },
  {
   "cell_type": "markdown",
   "id": "5b6815a5",
   "metadata": {
    "slideshow": {
     "slide_type": "slide"
    }
   },
   "source": [
    "Para ser precisos, los \"ticks\" son las ubicaciones de las marcas (por ejemplo, (-1, 0, 1)), las \"líneas de marca\" son las líneas pequeñas dibujadas en esas ubicaciones, las \"etiquetas de marca\" son las etiquetas dibujadas junto a la las líneas de tick y los \"tickers\" son objetos que son capaces de decidir dónde colocar los ticks. "
   ]
  },
  {
   "cell_type": "markdown",
   "id": "28bc67f5",
   "metadata": {
    "slideshow": {
     "slide_type": "slide"
    }
   },
   "source": [
    "Los tickers predeterminados suelen hacer un buen trabajo al colocar entre 5 y 8 ticks a una distancia razonable entre sí."
   ]
  },
  {
   "cell_type": "markdown",
   "id": "adb34df1",
   "metadata": {
    "slideshow": {
     "slide_type": "slide"
    }
   },
   "source": [
    "Pero a veces necesita más control (p. ej., hay demasiadas etiquetas de marca en el gráfico logit anterior). "
   ]
  },
  {
   "cell_type": "markdown",
   "id": "dea59c2f",
   "metadata": {
    "slideshow": {
     "slide_type": "slide"
    }
   },
   "source": [
    "Afortunadamente, `matplotlib` le brinda control total sobre los ticks. "
   ]
  },
  {
   "cell_type": "markdown",
   "id": "0b66e6c0",
   "metadata": {
    "slideshow": {
     "slide_type": "slide"
    }
   },
   "source": [
    "Incluso puedes activar ticks menores."
   ]
  },
  {
   "cell_type": "code",
   "execution_count": null,
   "id": "274aece2",
   "metadata": {
    "slideshow": {
     "slide_type": "slide"
    }
   },
   "outputs": [],
   "source": [
    "x = np.linspace(-2, 2, 100)\n",
    "\n",
    "plt.figure(1, figsize=(15,10))\n",
    "plt.subplot(131)\n",
    "plt.plot(x, x**3)\n",
    "plt.grid(True)\n",
    "plt.title(\"Default ticks\")\n",
    "\n",
    "ax = plt.subplot(132)\n",
    "plt.plot(x, x**3)\n",
    "ax.xaxis.set_ticks(np.arange(-2, 2, 1))\n",
    "plt.grid(True)\n",
    "plt.title(\"Manual ticks on the x-axis\")\n",
    "\n",
    "ax = plt.subplot(133)\n",
    "plt.plot(x, x**3)\n",
    "plt.minorticks_on()\n",
    "ax.tick_params(axis='x', which='minor', bottom=False)\n",
    "ax.xaxis.set_ticks([-2, 0, 1, 2])\n",
    "ax.yaxis.set_ticks(np.arange(-5, 5, 1))\n",
    "ax.yaxis.set_ticklabels([\"min\", -4, -3, -2, -1, 0, 1, 2, 3, \"max\"])\n",
    "plt.title(\"Manual ticks and tick labels\\n(plus minor ticks) on the y-axis\")\n",
    "\n",
    "\n",
    "plt.grid(True)\n",
    "\n",
    "plt.show()"
   ]
  },
  {
   "cell_type": "markdown",
   "id": "898c729f",
   "metadata": {
    "slideshow": {
     "slide_type": "slide"
    }
   },
   "source": [
    "## proyección polar"
   ]
  },
  {
   "cell_type": "markdown",
   "id": "5b665ef1",
   "metadata": {
    "slideshow": {
     "slide_type": "slide"
    }
   },
   "source": [
    "Dibujar un gráfico polar es tan fácil como establecer el atributo `projection` en `polar` al crear la subparcela(subplot)."
   ]
  },
  {
   "cell_type": "code",
   "execution_count": null,
   "id": "3cb4079b",
   "metadata": {
    "slideshow": {
     "slide_type": "slide"
    }
   },
   "outputs": [],
   "source": [
    "radius = 1\n",
    "theta = np.linspace(0, 2*np.pi*radius, 1000)\n",
    "\n",
    "plt.subplot(111, projection='polar')\n",
    "plt.plot(theta, np.sin(5*theta), \"g-\")\n",
    "plt.plot(theta, 0.5*np.cos(20*theta), \"b-\")\n",
    "plt.show()"
   ]
  },
  {
   "cell_type": "markdown",
   "id": "3a66b3bf",
   "metadata": {
    "slideshow": {
     "slide_type": "slide"
    }
   },
   "source": [
    "## proyección 3D"
   ]
  },
  {
   "cell_type": "markdown",
   "id": "3851264b",
   "metadata": {
    "slideshow": {
     "slide_type": "slide"
    }
   },
   "source": [
    "Trazar gráficos 3D es bastante sencillo. "
   ]
  },
  {
   "cell_type": "markdown",
   "id": "17d22527",
   "metadata": {
    "slideshow": {
     "slide_type": "slide"
    }
   },
   "source": [
    "Debe importar `Axes3D`, que registra la proyección `3d`. "
   ]
  },
  {
   "cell_type": "markdown",
   "id": "59f05c51",
   "metadata": {
    "slideshow": {
     "slide_type": "slide"
    }
   },
   "source": [
    "Luego cree una subparcela configurando `projection` en `3d`. "
   ]
  },
  {
   "cell_type": "markdown",
   "id": "bfd4e42b",
   "metadata": {
    "slideshow": {
     "slide_type": "slide"
    }
   },
   "source": [
    "Esto devuelve un objeto `Axes3DSubplot`, que puede usar para llamar a `plot_surface`, proporcionando coordenadas `x`, `y` y `z`, además de atributos opcionales."
   ]
  },
  {
   "cell_type": "code",
   "execution_count": null,
   "id": "331eedc2",
   "metadata": {
    "slideshow": {
     "slide_type": "slide"
    }
   },
   "outputs": [],
   "source": [
    "from mpl_toolkits.mplot3d import Axes3D\n",
    "\n",
    "x = np.linspace(-5, 5, 50)\n",
    "y = np.linspace(-5, 5, 50)\n",
    "X, Y = np.meshgrid(x, y)\n",
    "R = np.sqrt(X**2 + Y**2)\n",
    "Z = np.sin(R)\n",
    "\n",
    "figure = plt.figure(1, figsize = (12, 4))\n",
    "subplot3d = plt.subplot(111, projection='3d')\n",
    "surface = subplot3d.plot_surface(X, Y, Z, rstride=1, cstride=1, \\\n",
    "                                 cmap=matplotlib.cm.coolwarm, linewidth=0.1)\n",
    "plt.show()"
   ]
  },
  {
   "cell_type": "markdown",
   "id": "d34a0982",
   "metadata": {
    "slideshow": {
     "slide_type": "slide"
    }
   },
   "source": [
    "Otra forma de mostrar estos mismos datos es a través de un gráfico de contorno."
   ]
  },
  {
   "cell_type": "code",
   "execution_count": null,
   "id": "19bd6d5a",
   "metadata": {
    "slideshow": {
     "slide_type": "slide"
    }
   },
   "outputs": [],
   "source": [
    "plt.contourf(X, Y, Z, cmap=matplotlib.cm.coolwarm)\n",
    "plt.colorbar()\n",
    "plt.show()"
   ]
  },
  {
   "cell_type": "markdown",
   "id": "563d3d71",
   "metadata": {
    "slideshow": {
     "slide_type": "slide"
    }
   },
   "source": [
    "## Gráfico de dispersión"
   ]
  },
  {
   "cell_type": "markdown",
   "id": "7fd32863",
   "metadata": {
    "slideshow": {
     "slide_type": "slide"
    }
   },
   "source": [
    "Para dibujar un diagrama de dispersión, simplemente proporcione las coordenadas `x` e `y` de los puntos."
   ]
  },
  {
   "cell_type": "code",
   "execution_count": null,
   "id": "85c1e235",
   "metadata": {
    "slideshow": {
     "slide_type": "slide"
    }
   },
   "outputs": [],
   "source": [
    "from numpy.random import rand\n",
    "x, y = rand(2, 100)\n",
    "plt.scatter(x, y)\n",
    "plt.show()"
   ]
  },
  {
   "cell_type": "markdown",
   "id": "71a9e820",
   "metadata": {
    "slideshow": {
     "slide_type": "slide"
    }
   },
   "source": [
    "También puede proporcionar opcionalmente la escala de cada punto."
   ]
  },
  {
   "cell_type": "code",
   "execution_count": null,
   "id": "c440bf99",
   "metadata": {
    "slideshow": {
     "slide_type": "slide"
    }
   },
   "outputs": [],
   "source": [
    "x, y, scale = rand(3, 100)\n",
    "scale = 500 * scale ** 5\n",
    "plt.scatter(x, y, s=scale)\n",
    "plt.show()"
   ]
  },
  {
   "cell_type": "markdown",
   "id": "9aac5d21",
   "metadata": {
    "slideshow": {
     "slide_type": "slide"
    }
   },
   "source": [
    "Y, como de costumbre, hay una serie de otros atributos que puede configurar, como los colores de relleno (`fill`) y borde (`edge`) y el nivel alfa (`alpha`)."
   ]
  },
  {
   "cell_type": "code",
   "execution_count": null,
   "id": "36ae5410",
   "metadata": {
    "slideshow": {
     "slide_type": "slide"
    }
   },
   "outputs": [],
   "source": [
    "for color in ['red', 'green', 'blue']:\n",
    "    n = 100\n",
    "    x, y = rand(2, n)\n",
    "    scale = 500.0 * rand(n) ** 5\n",
    "    plt.scatter(x, y, s=scale, c=color, alpha=0.3, edgecolors='blue')\n",
    "\n",
    "plt.grid(True)\n",
    "\n",
    "plt.show()"
   ]
  },
  {
   "cell_type": "markdown",
   "id": "2a4b5bfe",
   "metadata": {
    "slideshow": {
     "slide_type": "slide"
    }
   },
   "source": [
    "## Líneas"
   ]
  },
  {
   "cell_type": "markdown",
   "id": "832dc56b",
   "metadata": {
    "slideshow": {
     "slide_type": "slide"
    }
   },
   "source": [
    "Puede dibujar líneas simplemente usando la función `plot()`, como lo hemos hecho hasta ahora. "
   ]
  },
  {
   "cell_type": "markdown",
   "id": "bf889358",
   "metadata": {
    "slideshow": {
     "slide_type": "slide"
    }
   },
   "source": [
    "Sin embargo, a menudo es conveniente crear una función de utilidad que trace una línea (aparentemente) infinita a lo largo del gráfico, dada una pendiente y una intersección. "
   ]
  },
  {
   "cell_type": "markdown",
   "id": "17cb2933",
   "metadata": {
    "slideshow": {
     "slide_type": "slide"
    }
   },
   "source": [
    "También puede usar las funciones `hlines` y `vlines` que trazan segmentos de línea horizontales y verticales. Por ejemplo:"
   ]
  },
  {
   "cell_type": "code",
   "execution_count": null,
   "id": "425a8251",
   "metadata": {
    "slideshow": {
     "slide_type": "slide"
    }
   },
   "outputs": [],
   "source": [
    "from numpy.random import randn\n",
    "\n",
    "def plot_line(axis, slope, intercept, **kargs):\n",
    "    xmin, xmax = axis.get_xlim()\n",
    "    plt.plot([xmin, xmax], [xmin*slope+intercept, xmax*slope+intercept], **kargs)\n",
    "\n",
    "x = randn(1000)\n",
    "y = 0.5*x + 5 + randn(1000)*2\n",
    "plt.axis([-2.5, 2.5, -5, 15])\n",
    "plt.scatter(x, y, alpha=0.2)\n",
    "plt.plot(1, 0, \"ro\")\n",
    "plt.vlines(1, -5, 0, color=\"red\")\n",
    "plt.hlines(0, -2.5, 1, color=\"red\")\n",
    "plot_line(axis=plt.gca(), slope=0.5, intercept=5, color=\"magenta\")\n",
    "plt.grid(True)\n",
    "plt.show()"
   ]
  },
  {
   "cell_type": "markdown",
   "id": "55a3f2d9",
   "metadata": {
    "slideshow": {
     "slide_type": "slide"
    }
   },
   "source": [
    "## Histogramas"
   ]
  },
  {
   "cell_type": "code",
   "execution_count": null,
   "id": "d4a1fcfd",
   "metadata": {
    "slideshow": {
     "slide_type": "slide"
    }
   },
   "outputs": [],
   "source": [
    "data = [1, 1.1, 1.8, 2, 2.1, 3.2, 3, 3, 3, 3]\n",
    "plt.subplot(211)\n",
    "plt.hist(data, bins = 10, rwidth=0.8)\n",
    "\n",
    "plt.subplot(212)\n",
    "plt.hist(data, bins = [1, 1.5, 2, 2.5, 3], rwidth=0.95)\n",
    "plt.xlabel(\"Value\")\n",
    "plt.ylabel(\"Frequency\")\n",
    "\n",
    "plt.show()"
   ]
  },
  {
   "cell_type": "code",
   "execution_count": null,
   "id": "adcf1fa2",
   "metadata": {
    "slideshow": {
     "slide_type": "slide"
    }
   },
   "outputs": [],
   "source": [
    "data1 = np.random.randn(400)\n",
    "data2 = np.random.randn(500) + 3\n",
    "data3 = np.random.randn(450) + 6\n",
    "data4a = np.random.randn(200) + 9\n",
    "data4b = np.random.randn(100) + 10\n",
    "\n",
    "plt.hist(data1, bins=5, color='g', alpha=0.75, label='bar hist') # default histtype='bar'\n",
    "plt.hist(data2, color='b', alpha=0.65, histtype='stepfilled', label='stepfilled hist')\n",
    "plt.hist(data3, color='r', histtype='step', label='step hist')\n",
    "plt.hist((data4a, data4b), color=('r','m'), alpha=0.55, histtype='barstacked', label=('barstacked a', 'barstacked b'))\n",
    "\n",
    "plt.xlabel(\"Value\")\n",
    "plt.ylabel(\"Frequency\")\n",
    "plt.legend()\n",
    "plt.grid(True)\n",
    "plt.show()"
   ]
  },
  {
   "cell_type": "markdown",
   "id": "22308dfd",
   "metadata": {
    "slideshow": {
     "slide_type": "slide"
    }
   },
   "source": [
    "## Imágenes"
   ]
  },
  {
   "cell_type": "markdown",
   "id": "37f5d64a",
   "metadata": {
    "slideshow": {
     "slide_type": "slide"
    }
   },
   "source": [
    "Leer, generar y trazar imágenes en `matplotlib` es bastante sencillo."
   ]
  },
  {
   "cell_type": "markdown",
   "id": "c44db76a",
   "metadata": {
    "slideshow": {
     "slide_type": "slide"
    }
   },
   "source": [
    "Para leer una imagen, simplemente importe el módulo `matplotlib.image` y llame a su función `imread`, pasándole el nombre del archivo (u objeto del archivo). "
   ]
  },
  {
   "cell_type": "markdown",
   "id": "894cd710",
   "metadata": {
    "slideshow": {
     "slide_type": "slide"
    }
   },
   "source": [
    "Esto devuelve los datos de la imagen, como una matriz NumPy. "
   ]
  },
  {
   "cell_type": "markdown",
   "id": "b5e36deb",
   "metadata": {
    "slideshow": {
     "slide_type": "slide"
    }
   },
   "source": [
    "Intentemos esto con la imagen `my_square_function.png` que guardamos anteriormente."
   ]
  },
  {
   "cell_type": "code",
   "execution_count": null,
   "id": "06253feb",
   "metadata": {
    "slideshow": {
     "slide_type": "slide"
    }
   },
   "outputs": [],
   "source": [
    "import matplotlib.image as mpimg\n",
    "\n",
    "img = mpimg.imread('my_square_function.png')\n",
    "print(img.shape, img.dtype)"
   ]
  },
  {
   "cell_type": "markdown",
   "id": "6340f46c",
   "metadata": {
    "slideshow": {
     "slide_type": "slide"
    }
   },
   "source": [
    "Hemos cargado una imagen de 288x432. Cada píxel está representado por una matriz de 4 elementos: niveles rojo, verde, azul y alfa, almacenados como flotantes de 32 bits entre 0 y 1. Ahora todo lo que tenemos que hacer es llamar a `imshow`:"
   ]
  },
  {
   "cell_type": "code",
   "execution_count": null,
   "id": "3fb8080b",
   "metadata": {
    "slideshow": {
     "slide_type": "slide"
    }
   },
   "outputs": [],
   "source": [
    "plt.imshow(img)\n",
    "plt.show()"
   ]
  },
  {
   "cell_type": "markdown",
   "id": "6391ead0",
   "metadata": {
    "slideshow": {
     "slide_type": "slide"
    }
   },
   "source": [
    "Tadaaa! Es posible que desee ocultar los ejes cuando muestra una imagen:"
   ]
  },
  {
   "cell_type": "code",
   "execution_count": null,
   "id": "2bd3bc10",
   "metadata": {
    "slideshow": {
     "slide_type": "slide"
    }
   },
   "outputs": [],
   "source": [
    "plt.imshow(img)\n",
    "plt.axis('off')\n",
    "plt.show()\n"
   ]
  },
  {
   "cell_type": "markdown",
   "id": "8270c26e",
   "metadata": {
    "slideshow": {
     "slide_type": "slide"
    }
   },
   "source": [
    "Es igual de fácil generar tu propia imagen:"
   ]
  },
  {
   "cell_type": "code",
   "execution_count": null,
   "id": "c309c355",
   "metadata": {
    "slideshow": {
     "slide_type": "slide"
    }
   },
   "outputs": [],
   "source": [
    "img = np.arange(100*100).reshape(100, 100)\n",
    "print(img)\n",
    "plt.imshow(img)\n",
    "plt.show()"
   ]
  },
  {
   "cell_type": "markdown",
   "id": "f49182cc",
   "metadata": {
    "slideshow": {
     "slide_type": "slide"
    }
   },
   "source": [
    "Como no proporcionamos niveles RGB, la función `imshow` asigna automáticamente los valores a un degradado de color. "
   ]
  },
  {
   "cell_type": "markdown",
   "id": "0c42a094",
   "metadata": {
    "slideshow": {
     "slide_type": "slide"
    }
   },
   "source": [
    "De forma predeterminada, el degradado de color va de azul (para valores bajos) a rojo (para valores altos), pero puede seleccionar otro mapa de colores. Por ejemplo:"
   ]
  },
  {
   "cell_type": "code",
   "execution_count": null,
   "id": "b1291778",
   "metadata": {
    "slideshow": {
     "slide_type": "slide"
    }
   },
   "outputs": [],
   "source": [
    "plt.imshow(img, cmap=\"hot\")\n",
    "plt.show()"
   ]
  },
  {
   "cell_type": "markdown",
   "id": "ba6983ef",
   "metadata": {
    "slideshow": {
     "slide_type": "slide"
    }
   },
   "source": [
    "También puede generar una imagen RGB directamente:"
   ]
  },
  {
   "cell_type": "code",
   "execution_count": null,
   "id": "5755af60",
   "metadata": {
    "slideshow": {
     "slide_type": "slide"
    }
   },
   "outputs": [],
   "source": [
    "img = np.empty((20,30,3))\n",
    "img[:, :10] = [0, 0, 0.6]\n",
    "img[:, 10:20] = [1, 1, 1]\n",
    "img[:, 20:] = [0.6, 0, 0]\n",
    "plt.imshow(img)\n",
    "plt.show()"
   ]
  },
  {
   "cell_type": "markdown",
   "id": "05d852d0",
   "metadata": {
    "slideshow": {
     "slide_type": "slide"
    }
   },
   "source": [
    "Dado que la matriz img es bastante pequeña (20x30), cuando la función `imshow` la muestra, aumenta la imagen al tamaño de la figura. "
   ]
  },
  {
   "cell_type": "markdown",
   "id": "cdb46fc1",
   "metadata": {
    "slideshow": {
     "slide_type": "slide"
    }
   },
   "source": [
    "Imagine estirar la imagen original, dejando espacios en blanco entre los píxeles originales. ¿Cómo `imshow` llena los espacios en blanco? "
   ]
  },
  {
   "cell_type": "markdown",
   "id": "8cbc8097",
   "metadata": {
    "slideshow": {
     "slide_type": "slide"
    }
   },
   "source": [
    "Bueno, de forma predeterminada, solo colorea cada píxel en blanco usando el color del píxel que no está en blanco más cercano. Esta técnica puede dar lugar a imágenes pixeladas. "
   ]
  },
  {
   "cell_type": "markdown",
   "id": "82ce010c",
   "metadata": {
    "slideshow": {
     "slide_type": "slide"
    }
   },
   "source": [
    "Si lo prefiere, puede utilizar un método de interpolación diferente, como la interpolación bilineal para rellenar los píxeles en blanco. Esto conduce a bordes borrosos, que pueden ser más agradables en algunos casos:"
   ]
  },
  {
   "cell_type": "code",
   "execution_count": null,
   "id": "2470216e",
   "metadata": {
    "slideshow": {
     "slide_type": "slide"
    }
   },
   "outputs": [],
   "source": [
    "plt.imshow(img, interpolation=\"bilinear\")\n",
    "plt.show()"
   ]
  },
  {
   "cell_type": "markdown",
   "id": "717f121b",
   "metadata": {
    "slideshow": {
     "slide_type": "slide"
    }
   },
   "source": [
    "## animaciones"
   ]
  },
  {
   "cell_type": "markdown",
   "id": "7a2c04f1",
   "metadata": {
    "slideshow": {
     "slide_type": "slide"
    }
   },
   "source": [
    "Aunque `matplotlib` se usa principalmente para generar imágenes, también es capaz de mostrar animaciones. Primero, necesita importar `matplotlib.animation`."
   ]
  },
  {
   "cell_type": "code",
   "execution_count": null,
   "id": "4c1882f1",
   "metadata": {
    "slideshow": {
     "slide_type": "slide"
    }
   },
   "outputs": [],
   "source": [
    "import matplotlib.animation as animation"
   ]
  },
  {
   "cell_type": "markdown",
   "id": "f1248732",
   "metadata": {
    "slideshow": {
     "slide_type": "slide"
    }
   },
   "source": [
    "En el siguiente ejemplo, comenzamos creando puntos de datos, luego creamos un gráfico vacío, definimos la función de actualización que se llamará en cada iteración de la animación y, finalmente, agregamos una animación al gráfico mediante la creación de una instancia de FuncAnimation."
   ]
  },
  {
   "cell_type": "markdown",
   "id": "64c2d2ad",
   "metadata": {
    "slideshow": {
     "slide_type": "slide"
    }
   },
   "source": [
    "El constructor `FuncAnimation` toma una figura, una función de actualización y argumentos opcionales."
   ]
  },
  {
   "cell_type": "markdown",
   "id": "b0e8c82b",
   "metadata": {
    "slideshow": {
     "slide_type": "slide"
    }
   },
   "source": [
    " Especificamos que queremos una animación de 50 cuadros de duración, con 100 ms entre cada cuadro. "
   ]
  },
  {
   "cell_type": "markdown",
   "id": "238fcb0c",
   "metadata": {
    "slideshow": {
     "slide_type": "slide"
    }
   },
   "source": [
    "En cada iteración, `FuncAnimation` llama a nuestra función de actualización y le pasa el número de cuadro num (de 0 a 49 en nuestro caso) seguido de los argumentos adicionales que especificamos con fargs."
   ]
  },
  {
   "cell_type": "markdown",
   "id": "52ede2b4",
   "metadata": {
    "slideshow": {
     "slide_type": "slide"
    }
   },
   "source": [
    "Nuestra función de actualización simplemente establece que los datos de la línea sean los primeros números de puntos de datos (para que los datos se extraigan gradualmente) y, solo por diversión, también agregamos un pequeño número aleatorio a cada punto de datos para que la línea parezca moverse."
   ]
  },
  {
   "cell_type": "code",
   "execution_count": null,
   "id": "5eca13c2",
   "metadata": {
    "slideshow": {
     "slide_type": "slide"
    }
   },
   "outputs": [],
   "source": [
    "x = np.linspace(-1, 1, 100)\n",
    "y = np.sin(x**2*25)\n",
    "data = np.array([x, y])\n",
    "\n",
    "fig = plt.figure()\n",
    "line, = plt.plot([], [], \"r-\") # start with an empty plot\n",
    "plt.axis([-1.1, 1.1, -1.1, 1.1])\n",
    "plt.plot([-0.5, 0.5], [0, 0], \"b-\", [0, 0], [-0.5, 0.5], \"b-\", 0, 0, \"ro\")\n",
    "plt.grid(True)\n",
    "plt.title(\"Marvelous animation\")\n",
    "\n",
    "# this function will be called at every iteration\n",
    "def update_line(num, data, line):\n",
    "    line.set_data(data[..., :num] + np.random.rand(2, num) / 25)  # we only plot the first `num` data points.\n",
    "    return line,\n",
    "\n",
    "line_ani = animation.FuncAnimation(fig, update_line, frames=50, fargs=(data, line), interval=100)\n",
    "plt.close() # call close() to avoid displaying the static plot"
   ]
  },
  {
   "cell_type": "markdown",
   "id": "21fd9b84",
   "metadata": {
    "slideshow": {
     "slide_type": "slide"
    }
   },
   "source": [
    "A continuación, mostremos la animación. Una opción es convertirlo a código HTML5 (usando una etiqueta <video>) y renderizar este código usando `IPython.display.HTML`:"
   ]
  },
  {
   "cell_type": "code",
   "execution_count": null,
   "id": "6a7f4008",
   "metadata": {
    "scrolled": true,
    "slideshow": {
     "slide_type": "slide"
    }
   },
   "outputs": [],
   "source": [
    "from IPython.display import HTML\n",
    "\n",
    "HTML(line_ani.to_html5_video())"
   ]
  },
  {
   "cell_type": "markdown",
   "id": "6f702c59",
   "metadata": {
    "slideshow": {
     "slide_type": "slide"
    }
   },
   "source": [
    "Para instalar utilice el siguiente código:  \n",
    "\n",
    "conda install -c conda-forge ffmpeg \n",
    "\n",
    "que obtienes en la dirección: https://anaconda.org/conda-forge/ffmpeg "
   ]
  },
  {
   "cell_type": "markdown",
   "id": "cdb32bb1",
   "metadata": {
    "slideshow": {
     "slide_type": "slide"
    }
   },
   "source": [
    "Alternativamente, podemos mostrar la animación usando un pequeño widget interactivo de HTML/Javascript:"
   ]
  },
  {
   "cell_type": "code",
   "execution_count": null,
   "id": "655f9f38",
   "metadata": {
    "slideshow": {
     "slide_type": "slide"
    }
   },
   "outputs": [],
   "source": [
    "HTML(line_ani.to_jshtml())"
   ]
  },
  {
   "cell_type": "markdown",
   "id": "9ef9bc8b",
   "metadata": {
    "slideshow": {
     "slide_type": "slide"
    }
   },
   "source": [
    "## Reflejo de bucle una vez"
   ]
  },
  {
   "cell_type": "markdown",
   "id": "4641d063",
   "metadata": {
    "slideshow": {
     "slide_type": "slide"
    }
   },
   "source": [
    "Puede configurar Matplotlib para usar este widget de forma predeterminada al renderizar animaciones:"
   ]
  },
  {
   "cell_type": "code",
   "execution_count": null,
   "id": "9e312b81",
   "metadata": {
    "slideshow": {
     "slide_type": "slide"
    }
   },
   "outputs": [],
   "source": [
    "matplotlib.rc('animation', html='jshtml')"
   ]
  },
  {
   "cell_type": "markdown",
   "id": "660c56cf",
   "metadata": {
    "slideshow": {
     "slide_type": "slide"
    }
   },
   "source": [
    "Después de eso, ya ni siquiera necesita usar IPython.display.HTML:"
   ]
  },
  {
   "cell_type": "code",
   "execution_count": null,
   "id": "cf7dfaee",
   "metadata": {
    "slideshow": {
     "slide_type": "slide"
    }
   },
   "outputs": [],
   "source": [
    "animation.FuncAnimation(fig, update_line, frames=50, fargs=(data, line), interval=100)"
   ]
  },
  {
   "cell_type": "markdown",
   "id": "e62ae9e9",
   "metadata": {
    "slideshow": {
     "slide_type": "slide"
    }
   },
   "source": [
    "## Reflejo de bucle una vez"
   ]
  },
  {
   "cell_type": "markdown",
   "id": "876055a9",
   "metadata": {
    "slideshow": {
     "slide_type": "slide"
    }
   },
   "source": [
    "Advertencia: si guarda el cuaderno junto con sus resultados, las animaciones ocuparán mucho espacio."
   ]
  },
  {
   "cell_type": "markdown",
   "id": "4992ed5e",
   "metadata": {
    "slideshow": {
     "slide_type": "slide"
    }
   },
   "source": [
    "## Guardar animaciones en archivos de video"
   ]
  },
  {
   "cell_type": "markdown",
   "id": "26dd57bf",
   "metadata": {
    "slideshow": {
     "slide_type": "slide"
    }
   },
   "source": [
    "`Matplotlib` se basa en bibliotecas de terceros para escribir videos como FFMPEG o ImageMagick. En este ejemplo, usaremos FFMPEG, así que asegúrese de instalarlo primero. Para guardar la animación en formato GIF, necesitaría ImageMagick."
   ]
  },
  {
   "cell_type": "code",
   "execution_count": null,
   "id": "0b593b53",
   "metadata": {
    "slideshow": {
     "slide_type": "slide"
    }
   },
   "outputs": [],
   "source": [
    "Writer = animation.writers['ffmpeg']\n",
    "writer = Writer(fps=15, metadata=dict(artist='Me'), bitrate=1800)\n",
    "line_ani.save('my_wiggly_animation.mp4', writer=writer)"
   ]
  },
  {
   "cell_type": "markdown",
   "id": "5e6480f6",
   "metadata": {
    "slideshow": {
     "slide_type": "slide"
    }
   },
   "source": [
    "## ¿Qué sigue?"
   ]
  },
  {
   "cell_type": "markdown",
   "id": "c71bb5a5",
   "metadata": {
    "slideshow": {
     "slide_type": "slide"
    }
   },
   "source": [
    "Ahora conoce todos los conceptos básicos de matplotlib, pero hay muchas más opciones disponibles. La mejor manera de obtener más información es visitar [la galería](https://matplotlib.org/2.0.2/gallery.html), mirar las imágenes, elegir una trama que le interese, luego simplemente copiar el código en un cuaderno Jupyter y jugar con él."
   ]
  },
  {
   "cell_type": "markdown",
   "id": "538d2da0",
   "metadata": {
    "slideshow": {
     "slide_type": "slide"
    }
   },
   "source": [
    "## Referentes  \n",
    "\n",
    "* Galería de gráficos con Matplotlib: https://matplotlib.org/2.0.2/gallery.html"
   ]
  },
  {
   "cell_type": "code",
   "execution_count": null,
   "id": "90525bd9",
   "metadata": {},
   "outputs": [],
   "source": []
  }
 ],
 "metadata": {
  "celltoolbar": "Slideshow",
  "kernelspec": {
   "display_name": "Python 3",
   "language": "python",
   "name": "python3"
  },
  "language_info": {
   "codemirror_mode": {
    "name": "ipython",
    "version": 3
   },
   "file_extension": ".py",
   "mimetype": "text/x-python",
   "name": "python",
   "nbconvert_exporter": "python",
   "pygments_lexer": "ipython3",
   "version": "3.8.8"
  },
  "latex_envs": {
   "LaTeX_envs_menu_present": true,
   "autoclose": false,
   "autocomplete": false,
   "bibliofile": "biblio.bib",
   "cite_by": "apalike",
   "current_citInitial": 1,
   "eqLabelWithNumbers": true,
   "eqNumInitial": 1,
   "hotkeys": {
    "equation": "Ctrl-E",
    "itemize": "Ctrl-I"
   },
   "labels_anchors": false,
   "latex_user_defs": false,
   "report_style_numbering": false,
   "user_envs_cfg": false
  },
  "rise": {
   "enable_chalkboard": true,
   "theme": "sky",
   "transition": "zoom"
  }
 },
 "nbformat": 4,
 "nbformat_minor": 5
}
