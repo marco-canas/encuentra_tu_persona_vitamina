{
 "cells": [
  {
   "cell_type": "markdown",
   "id": "a7473bce",
   "metadata": {
    "slideshow": {
     "slide_type": "slide"
    }
   },
   "source": [
    "<table align=\"left\">\n",
    "  <td>\n",
    "    <a href=\"https://colab.research.google.com/github/marco-canas/introducci-n-al-Machine-Learning/blob/main/classes/class_13/class_13.ipynb\" target=\"_parent\"><img src=\"https://colab.research.google.com/assets/colab-badge.svg\" alt=\"Open In Colab\"/></a>\n",
    "  </td>\n",
    "  <td>\n",
    "    <a target=\"_blank\" href=\"https://kaggle.com/kernels/welcome?src=https://github.com/marco-canas/introducci-n-al-Machine-Learning/blob/main/classes/class_13/class_13.ipynb\"><img src=\"https://kaggle.com/static/images/open-in-kaggle.svg\" /></a>\n",
    "  </td>\n",
    "</table> \n"
   ]
  },
  {
   "cell_type": "markdown",
   "id": "a5983022",
   "metadata": {
    "slideshow": {
     "slide_type": "slide"
    }
   },
   "source": [
    "# Asignar ejercicios sin repetición"
   ]
  },
  {
   "cell_type": "code",
   "execution_count": 7,
   "id": "7709e766",
   "metadata": {
    "slideshow": {
     "slide_type": "slide"
    }
   },
   "outputs": [
    {
     "data": {
      "text/plain": [
       "ALVAREZ CARRERO GERMAN JOSE               [13, 24, 74, 31, 11]\n",
       "ARANGO JARAMILLO JUAN JOSE                 [66, 30, 29, 39, 5]\n",
       "BOLIVAR HIGUITA JUAN PABLO                  [14, 15, 1, 8, 50]\n",
       "BUITRAGO LORA VANESSA                      [55, 54, 53, 6, 25]\n",
       "CORRALES BOHÓRQUEZ ANGEL                   [9, 23, 67, 80, 33]\n",
       "GALLEGO JARAMILLO JUAN PABLO               [79, 2, 51, 20, 47]\n",
       "GRANADA ZAPATA SUSANA                      [46, 72, 4, 19, 71]\n",
       "HERNANDEZ SUAREZ NICOLAS                   [27, 60, 42, 7, 34]\n",
       "JIMÉNEZ GARCÍA MIGUEL ÁNGEL               [37, 44, 78, 38, 43]\n",
       "MARTINEZ PÉREZ PEDRO ALEJANDRO            [58, 40, 16, 75, 35]\n",
       "MONTOYA GONZÁLEZ PABLO ANDRÉS             [49, 70, 52, 56, 32]\n",
       "MORALES GARCÍA MANUELA                    [59, 18, 68, 64, 22]\n",
       "MOSQUERA PEREA JESÚS JHOVANNY             [10, 61, 26, 21, 12]\n",
       "MURILLO ZAPATA MIGUEL ANGEL               [73, 76, 45, 63, 17]\n",
       "RODRIGUEZ BARRIOS DAIRA LORENA             [41, 69, 3, 57, 28]\n",
       "TORRES MERIÑO JOSE LUIS CAMILO            [48, 65, 36, 62, 77]\n",
       "dtype: object"
      ]
     },
     "execution_count": 7,
     "metadata": {},
     "output_type": "execute_result"
    }
   ],
   "source": [
    "import numpy as np \n",
    "import pandas as pd \n",
    "\n",
    "grupo_intro_ml = pd.read_csv('grupo_intro_ml.csv')\n",
    "grupo_intro_ml.Email.to_csv('Email.csv', index = False )\n",
    "\n",
    "n = 80\n",
    "\n",
    "lista_ejercicios = list(range(1,n+1))\n",
    "\n",
    "np.random.seed(14)\n",
    "\n",
    "def elegir_5_ejercicios_diferentes(lista_ejercicios):\n",
    "    ejercicios_asignados = []\n",
    "    for i in range(5):\n",
    "        a = np.random.choice(lista_ejercicios)\n",
    "        ejercicios_asignados.append(a)\n",
    "        lista_ejercicios.remove(a)\n",
    "    return (lista_ejercicios, ejercicios_asignados)   \n",
    "\n",
    "\n",
    "b = []\n",
    "n_estudiantes = len(grupo_intro_ml) \n",
    "for i in range(n_estudiantes):\n",
    "    lista_ejercicios, c = elegir_5_ejercicios_diferentes(lista_ejercicios)\n",
    "    b.append(c)\n",
    "    \n",
    "    \n",
    "parcial_1 = pd.Series( b, \\\n",
    "                      index = grupo_intro_ml.Nombre.values )\n",
    " \n",
    "parcial_1    "
   ]
  },
  {
   "cell_type": "markdown",
   "id": "a8c5d93e",
   "metadata": {
    "slideshow": {
     "slide_type": "slide"
    }
   },
   "source": [
    "# Adición y eliminación de columnas en una DataFrame"
   ]
  },
  {
   "cell_type": "code",
   "execution_count": 8,
   "id": "11a4e462",
   "metadata": {
    "slideshow": {
     "slide_type": "slide"
    }
   },
   "outputs": [],
   "source": [
    "personas = {'año_nacimiento':[1975, 1977, 1978, 2008],\n",
    "            'hobby':['Montar bicicleta', 'leer', 'patinar', 'ver netflix'],\n",
    "            'peso':[86, 80, 60, 70],\n",
    "            'hijos':[2, 1, 0,3]\n",
    "           }"
   ]
  },
  {
   "cell_type": "code",
   "execution_count": 9,
   "id": "ace949b0",
   "metadata": {
    "slideshow": {
     "slide_type": "slide"
    }
   },
   "outputs": [
    {
     "data": {
      "text/html": [
       "<div>\n",
       "<style scoped>\n",
       "    .dataframe tbody tr th:only-of-type {\n",
       "        vertical-align: middle;\n",
       "    }\n",
       "\n",
       "    .dataframe tbody tr th {\n",
       "        vertical-align: top;\n",
       "    }\n",
       "\n",
       "    .dataframe thead th {\n",
       "        text-align: right;\n",
       "    }\n",
       "</style>\n",
       "<table border=\"1\" class=\"dataframe\">\n",
       "  <thead>\n",
       "    <tr style=\"text-align: right;\">\n",
       "      <th></th>\n",
       "      <th>año_nacimiento</th>\n",
       "      <th>hobby</th>\n",
       "      <th>peso</th>\n",
       "      <th>hijos</th>\n",
       "    </tr>\n",
       "  </thead>\n",
       "  <tbody>\n",
       "    <tr>\n",
       "      <th>marco</th>\n",
       "      <td>1975</td>\n",
       "      <td>Montar bicicleta</td>\n",
       "      <td>86</td>\n",
       "      <td>2</td>\n",
       "    </tr>\n",
       "    <tr>\n",
       "      <th>julio</th>\n",
       "      <td>1977</td>\n",
       "      <td>leer</td>\n",
       "      <td>80</td>\n",
       "      <td>1</td>\n",
       "    </tr>\n",
       "    <tr>\n",
       "      <th>joseph</th>\n",
       "      <td>1978</td>\n",
       "      <td>patinar</td>\n",
       "      <td>60</td>\n",
       "      <td>0</td>\n",
       "    </tr>\n",
       "    <tr>\n",
       "      <th>yasmira</th>\n",
       "      <td>2008</td>\n",
       "      <td>ver netflix</td>\n",
       "      <td>70</td>\n",
       "      <td>3</td>\n",
       "    </tr>\n",
       "  </tbody>\n",
       "</table>\n",
       "</div>"
      ],
      "text/plain": [
       "         año_nacimiento             hobby  peso  hijos\n",
       "marco              1975  Montar bicicleta    86      2\n",
       "julio              1977              leer    80      1\n",
       "joseph             1978           patinar    60      0\n",
       "yasmira            2008       ver netflix    70      3"
      ]
     },
     "execution_count": 9,
     "metadata": {},
     "output_type": "execute_result"
    }
   ],
   "source": [
    "import pandas as pd \n",
    "personas = pd.DataFrame(personas, index = ['marco', 'julio', 'joseph', 'yasmira']) \n",
    "personas "
   ]
  },
  {
   "cell_type": "code",
   "execution_count": 10,
   "id": "5b348c05",
   "metadata": {
    "slideshow": {
     "slide_type": "slide"
    }
   },
   "outputs": [
    {
     "data": {
      "text/html": [
       "<div>\n",
       "<style scoped>\n",
       "    .dataframe tbody tr th:only-of-type {\n",
       "        vertical-align: middle;\n",
       "    }\n",
       "\n",
       "    .dataframe tbody tr th {\n",
       "        vertical-align: top;\n",
       "    }\n",
       "\n",
       "    .dataframe thead th {\n",
       "        text-align: right;\n",
       "    }\n",
       "</style>\n",
       "<table border=\"1\" class=\"dataframe\">\n",
       "  <thead>\n",
       "    <tr style=\"text-align: right;\">\n",
       "      <th></th>\n",
       "      <th>año_nacimiento</th>\n",
       "      <th>hobby</th>\n",
       "      <th>peso</th>\n",
       "      <th>hijos</th>\n",
       "      <th>edad</th>\n",
       "    </tr>\n",
       "  </thead>\n",
       "  <tbody>\n",
       "    <tr>\n",
       "      <th>marco</th>\n",
       "      <td>1975</td>\n",
       "      <td>Montar bicicleta</td>\n",
       "      <td>86</td>\n",
       "      <td>2</td>\n",
       "      <td>47</td>\n",
       "    </tr>\n",
       "    <tr>\n",
       "      <th>julio</th>\n",
       "      <td>1977</td>\n",
       "      <td>leer</td>\n",
       "      <td>80</td>\n",
       "      <td>1</td>\n",
       "      <td>45</td>\n",
       "    </tr>\n",
       "    <tr>\n",
       "      <th>joseph</th>\n",
       "      <td>1978</td>\n",
       "      <td>patinar</td>\n",
       "      <td>60</td>\n",
       "      <td>0</td>\n",
       "      <td>44</td>\n",
       "    </tr>\n",
       "    <tr>\n",
       "      <th>yasmira</th>\n",
       "      <td>2008</td>\n",
       "      <td>ver netflix</td>\n",
       "      <td>70</td>\n",
       "      <td>3</td>\n",
       "      <td>14</td>\n",
       "    </tr>\n",
       "  </tbody>\n",
       "</table>\n",
       "</div>"
      ],
      "text/plain": [
       "         año_nacimiento             hobby  peso  hijos  edad\n",
       "marco              1975  Montar bicicleta    86      2    47\n",
       "julio              1977              leer    80      1    45\n",
       "joseph             1978           patinar    60      0    44\n",
       "yasmira            2008       ver netflix    70      3    14"
      ]
     },
     "execution_count": 10,
     "metadata": {},
     "output_type": "execute_result"
    }
   ],
   "source": [
    "personas['edad'] = 2022 - personas['año_nacimiento'] \n",
    "personas "
   ]
  },
  {
   "cell_type": "code",
   "execution_count": 11,
   "id": "007bfe50",
   "metadata": {
    "slideshow": {
     "slide_type": "slide"
    }
   },
   "outputs": [
    {
     "data": {
      "text/html": [
       "<div>\n",
       "<style scoped>\n",
       "    .dataframe tbody tr th:only-of-type {\n",
       "        vertical-align: middle;\n",
       "    }\n",
       "\n",
       "    .dataframe tbody tr th {\n",
       "        vertical-align: top;\n",
       "    }\n",
       "\n",
       "    .dataframe thead th {\n",
       "        text-align: right;\n",
       "    }\n",
       "</style>\n",
       "<table border=\"1\" class=\"dataframe\">\n",
       "  <thead>\n",
       "    <tr style=\"text-align: right;\">\n",
       "      <th></th>\n",
       "      <th>año_nacimiento</th>\n",
       "      <th>hobby</th>\n",
       "      <th>peso</th>\n",
       "      <th>hijos</th>\n",
       "      <th>edad</th>\n",
       "      <th>mayor_30_años</th>\n",
       "    </tr>\n",
       "  </thead>\n",
       "  <tbody>\n",
       "    <tr>\n",
       "      <th>marco</th>\n",
       "      <td>1975</td>\n",
       "      <td>Montar bicicleta</td>\n",
       "      <td>86</td>\n",
       "      <td>2</td>\n",
       "      <td>47</td>\n",
       "      <td>True</td>\n",
       "    </tr>\n",
       "    <tr>\n",
       "      <th>julio</th>\n",
       "      <td>1977</td>\n",
       "      <td>leer</td>\n",
       "      <td>80</td>\n",
       "      <td>1</td>\n",
       "      <td>45</td>\n",
       "      <td>True</td>\n",
       "    </tr>\n",
       "    <tr>\n",
       "      <th>joseph</th>\n",
       "      <td>1978</td>\n",
       "      <td>patinar</td>\n",
       "      <td>60</td>\n",
       "      <td>0</td>\n",
       "      <td>44</td>\n",
       "      <td>True</td>\n",
       "    </tr>\n",
       "    <tr>\n",
       "      <th>yasmira</th>\n",
       "      <td>2008</td>\n",
       "      <td>ver netflix</td>\n",
       "      <td>70</td>\n",
       "      <td>3</td>\n",
       "      <td>14</td>\n",
       "      <td>False</td>\n",
       "    </tr>\n",
       "  </tbody>\n",
       "</table>\n",
       "</div>"
      ],
      "text/plain": [
       "         año_nacimiento             hobby  peso  hijos  edad  mayor_30_años\n",
       "marco              1975  Montar bicicleta    86      2    47           True\n",
       "julio              1977              leer    80      1    45           True\n",
       "joseph             1978           patinar    60      0    44           True\n",
       "yasmira            2008       ver netflix    70      3    14          False"
      ]
     },
     "execution_count": 11,
     "metadata": {},
     "output_type": "execute_result"
    }
   ],
   "source": [
    "personas['mayor_30_años'] = personas['edad'] > 30\n",
    "personas "
   ]
  },
  {
   "cell_type": "code",
   "execution_count": 12,
   "id": "e4b813da",
   "metadata": {
    "slideshow": {
     "slide_type": "slide"
    }
   },
   "outputs": [
    {
     "data": {
      "text/plain": [
       "marco      1975\n",
       "julio      1977\n",
       "joseph     1978\n",
       "yasmira    2008\n",
       "Name: año_nacimiento, dtype: int64"
      ]
     },
     "execution_count": 12,
     "metadata": {},
     "output_type": "execute_result"
    }
   ],
   "source": [
    "personas.pop('año_nacimiento')"
   ]
  },
  {
   "cell_type": "code",
   "execution_count": 13,
   "id": "a4232cbf",
   "metadata": {
    "slideshow": {
     "slide_type": "slide"
    }
   },
   "outputs": [
    {
     "data": {
      "text/html": [
       "<div>\n",
       "<style scoped>\n",
       "    .dataframe tbody tr th:only-of-type {\n",
       "        vertical-align: middle;\n",
       "    }\n",
       "\n",
       "    .dataframe tbody tr th {\n",
       "        vertical-align: top;\n",
       "    }\n",
       "\n",
       "    .dataframe thead th {\n",
       "        text-align: right;\n",
       "    }\n",
       "</style>\n",
       "<table border=\"1\" class=\"dataframe\">\n",
       "  <thead>\n",
       "    <tr style=\"text-align: right;\">\n",
       "      <th></th>\n",
       "      <th>hobby</th>\n",
       "      <th>peso</th>\n",
       "      <th>hijos</th>\n",
       "      <th>edad</th>\n",
       "      <th>mayor_30_años</th>\n",
       "    </tr>\n",
       "  </thead>\n",
       "  <tbody>\n",
       "    <tr>\n",
       "      <th>marco</th>\n",
       "      <td>Montar bicicleta</td>\n",
       "      <td>86</td>\n",
       "      <td>2</td>\n",
       "      <td>47</td>\n",
       "      <td>True</td>\n",
       "    </tr>\n",
       "    <tr>\n",
       "      <th>julio</th>\n",
       "      <td>leer</td>\n",
       "      <td>80</td>\n",
       "      <td>1</td>\n",
       "      <td>45</td>\n",
       "      <td>True</td>\n",
       "    </tr>\n",
       "    <tr>\n",
       "      <th>joseph</th>\n",
       "      <td>patinar</td>\n",
       "      <td>60</td>\n",
       "      <td>0</td>\n",
       "      <td>44</td>\n",
       "      <td>True</td>\n",
       "    </tr>\n",
       "    <tr>\n",
       "      <th>yasmira</th>\n",
       "      <td>ver netflix</td>\n",
       "      <td>70</td>\n",
       "      <td>3</td>\n",
       "      <td>14</td>\n",
       "      <td>False</td>\n",
       "    </tr>\n",
       "  </tbody>\n",
       "</table>\n",
       "</div>"
      ],
      "text/plain": [
       "                    hobby  peso  hijos  edad  mayor_30_años\n",
       "marco    Montar bicicleta    86      2    47           True\n",
       "julio                leer    80      1    45           True\n",
       "joseph            patinar    60      0    44           True\n",
       "yasmira       ver netflix    70      3    14          False"
      ]
     },
     "execution_count": 13,
     "metadata": {},
     "output_type": "execute_result"
    }
   ],
   "source": [
    "personas "
   ]
  },
  {
   "cell_type": "markdown",
   "id": "bbc26177",
   "metadata": {
    "slideshow": {
     "slide_type": "slide"
    }
   },
   "source": [
    "## Adición de columnas "
   ]
  },
  {
   "cell_type": "code",
   "execution_count": 17,
   "id": "08b16437",
   "metadata": {
    "slideshow": {
     "slide_type": "slide"
    }
   },
   "outputs": [
    {
     "data": {
      "text/html": [
       "<div>\n",
       "<style scoped>\n",
       "    .dataframe tbody tr th:only-of-type {\n",
       "        vertical-align: middle;\n",
       "    }\n",
       "\n",
       "    .dataframe tbody tr th {\n",
       "        vertical-align: top;\n",
       "    }\n",
       "\n",
       "    .dataframe thead th {\n",
       "        text-align: right;\n",
       "    }\n",
       "</style>\n",
       "<table border=\"1\" class=\"dataframe\">\n",
       "  <thead>\n",
       "    <tr style=\"text-align: right;\">\n",
       "      <th></th>\n",
       "      <th>estatura</th>\n",
       "      <th>hobby</th>\n",
       "      <th>peso</th>\n",
       "      <th>hijos</th>\n",
       "      <th>edad</th>\n",
       "      <th>mayor_30_años</th>\n",
       "      <th>mascotas</th>\n",
       "    </tr>\n",
       "  </thead>\n",
       "  <tbody>\n",
       "    <tr>\n",
       "      <th>marco</th>\n",
       "      <td>165</td>\n",
       "      <td>Montar bicicleta</td>\n",
       "      <td>86</td>\n",
       "      <td>2</td>\n",
       "      <td>47</td>\n",
       "      <td>True</td>\n",
       "      <td>3.0</td>\n",
       "    </tr>\n",
       "    <tr>\n",
       "      <th>julio</th>\n",
       "      <td>170</td>\n",
       "      <td>leer</td>\n",
       "      <td>80</td>\n",
       "      <td>1</td>\n",
       "      <td>45</td>\n",
       "      <td>True</td>\n",
       "      <td>2.0</td>\n",
       "    </tr>\n",
       "    <tr>\n",
       "      <th>joseph</th>\n",
       "      <td>150</td>\n",
       "      <td>patinar</td>\n",
       "      <td>60</td>\n",
       "      <td>0</td>\n",
       "      <td>44</td>\n",
       "      <td>True</td>\n",
       "      <td>1.0</td>\n",
       "    </tr>\n",
       "    <tr>\n",
       "      <th>yasmira</th>\n",
       "      <td>140</td>\n",
       "      <td>ver netflix</td>\n",
       "      <td>70</td>\n",
       "      <td>3</td>\n",
       "      <td>14</td>\n",
       "      <td>False</td>\n",
       "      <td>NaN</td>\n",
       "    </tr>\n",
       "  </tbody>\n",
       "</table>\n",
       "</div>"
      ],
      "text/plain": [
       "         estatura             hobby  peso  hijos  edad  mayor_30_años  \\\n",
       "marco         165  Montar bicicleta    86      2    47           True   \n",
       "julio         170              leer    80      1    45           True   \n",
       "joseph        150           patinar    60      0    44           True   \n",
       "yasmira       140       ver netflix    70      3    14          False   \n",
       "\n",
       "         mascotas  \n",
       "marco         3.0  \n",
       "julio         2.0  \n",
       "joseph        1.0  \n",
       "yasmira       NaN  "
      ]
     },
     "execution_count": 17,
     "metadata": {},
     "output_type": "execute_result"
    }
   ],
   "source": [
    "import numpy as np \n",
    "personas['mascotas'] = pd.Series({'marco':3, 'julio':2, 'joseph':1, 'yasmira':np.nan})\n",
    "personas "
   ]
  },
  {
   "cell_type": "markdown",
   "id": "29220609",
   "metadata": {
    "slideshow": {
     "slide_type": "slide"
    }
   },
   "source": [
    "Al agregar una **nueva columna**, se agrega **al final** (a la derecha) de forma predeterminada. "
   ]
  },
  {
   "cell_type": "markdown",
   "id": "ef63025e",
   "metadata": {
    "slideshow": {
     "slide_type": "slide"
    }
   },
   "source": [
    "También puedes insertar una columna en cualquier otro lugar usando el método `insert()`:"
   ]
  },
  {
   "cell_type": "code",
   "execution_count": 15,
   "id": "e6a3bf1f",
   "metadata": {
    "slideshow": {
     "slide_type": "slide"
    }
   },
   "outputs": [
    {
     "data": {
      "text/html": [
       "<div>\n",
       "<style scoped>\n",
       "    .dataframe tbody tr th:only-of-type {\n",
       "        vertical-align: middle;\n",
       "    }\n",
       "\n",
       "    .dataframe tbody tr th {\n",
       "        vertical-align: top;\n",
       "    }\n",
       "\n",
       "    .dataframe thead th {\n",
       "        text-align: right;\n",
       "    }\n",
       "</style>\n",
       "<table border=\"1\" class=\"dataframe\">\n",
       "  <thead>\n",
       "    <tr style=\"text-align: right;\">\n",
       "      <th></th>\n",
       "      <th>estatura</th>\n",
       "      <th>hobby</th>\n",
       "      <th>peso</th>\n",
       "      <th>hijos</th>\n",
       "      <th>edad</th>\n",
       "      <th>mayor_30_años</th>\n",
       "    </tr>\n",
       "  </thead>\n",
       "  <tbody>\n",
       "    <tr>\n",
       "      <th>marco</th>\n",
       "      <td>165</td>\n",
       "      <td>Montar bicicleta</td>\n",
       "      <td>86</td>\n",
       "      <td>2</td>\n",
       "      <td>47</td>\n",
       "      <td>True</td>\n",
       "    </tr>\n",
       "    <tr>\n",
       "      <th>julio</th>\n",
       "      <td>170</td>\n",
       "      <td>leer</td>\n",
       "      <td>80</td>\n",
       "      <td>1</td>\n",
       "      <td>45</td>\n",
       "      <td>True</td>\n",
       "    </tr>\n",
       "    <tr>\n",
       "      <th>joseph</th>\n",
       "      <td>150</td>\n",
       "      <td>patinar</td>\n",
       "      <td>60</td>\n",
       "      <td>0</td>\n",
       "      <td>44</td>\n",
       "      <td>True</td>\n",
       "    </tr>\n",
       "    <tr>\n",
       "      <th>yasmira</th>\n",
       "      <td>140</td>\n",
       "      <td>ver netflix</td>\n",
       "      <td>70</td>\n",
       "      <td>3</td>\n",
       "      <td>14</td>\n",
       "      <td>False</td>\n",
       "    </tr>\n",
       "  </tbody>\n",
       "</table>\n",
       "</div>"
      ],
      "text/plain": [
       "         estatura             hobby  peso  hijos  edad  mayor_30_años\n",
       "marco         165  Montar bicicleta    86      2    47           True\n",
       "julio         170              leer    80      1    45           True\n",
       "joseph        150           patinar    60      0    44           True\n",
       "yasmira       140       ver netflix    70      3    14          False"
      ]
     },
     "execution_count": 15,
     "metadata": {},
     "output_type": "execute_result"
    }
   ],
   "source": [
    "personas.insert(0, 'estatura', [165, 170, 150, 140])\n",
    "personas "
   ]
  },
  {
   "cell_type": "markdown",
   "id": "dfe2add1",
   "metadata": {
    "slideshow": {
     "slide_type": "slide"
    }
   },
   "source": [
    "## Asignación de nuevas columnas"
   ]
  },
  {
   "cell_type": "markdown",
   "id": "48313d7c",
   "metadata": {
    "slideshow": {
     "slide_type": "slide"
    }
   },
   "source": [
    "También puede crear nuevas columnas llamando al método `assign()`. "
   ]
  },
  {
   "cell_type": "markdown",
   "id": "d18cbf01",
   "metadata": {
    "slideshow": {
     "slide_type": "slide"
    }
   },
   "source": [
    "Tenga en cuenta que esto devuelve un nuevo objeto `DataFrame`, el original no se modifica:"
   ]
  },
  {
   "cell_type": "code",
   "execution_count": 18,
   "id": "787036ee",
   "metadata": {
    "slideshow": {
     "slide_type": "slide"
    }
   },
   "outputs": [
    {
     "data": {
      "text/html": [
       "<div>\n",
       "<style scoped>\n",
       "    .dataframe tbody tr th:only-of-type {\n",
       "        vertical-align: middle;\n",
       "    }\n",
       "\n",
       "    .dataframe tbody tr th {\n",
       "        vertical-align: top;\n",
       "    }\n",
       "\n",
       "    .dataframe thead th {\n",
       "        text-align: right;\n",
       "    }\n",
       "</style>\n",
       "<table border=\"1\" class=\"dataframe\">\n",
       "  <thead>\n",
       "    <tr style=\"text-align: right;\">\n",
       "      <th></th>\n",
       "      <th>estatura</th>\n",
       "      <th>hobby</th>\n",
       "      <th>peso</th>\n",
       "      <th>hijos</th>\n",
       "      <th>edad</th>\n",
       "      <th>mayor_30_años</th>\n",
       "      <th>mascotas</th>\n",
       "      <th>indice_masa_corporal</th>\n",
       "      <th>tiene_mascota</th>\n",
       "    </tr>\n",
       "  </thead>\n",
       "  <tbody>\n",
       "    <tr>\n",
       "      <th>marco</th>\n",
       "      <td>165</td>\n",
       "      <td>Montar bicicleta</td>\n",
       "      <td>86</td>\n",
       "      <td>2</td>\n",
       "      <td>47</td>\n",
       "      <td>True</td>\n",
       "      <td>3.0</td>\n",
       "      <td>31.588613</td>\n",
       "      <td>True</td>\n",
       "    </tr>\n",
       "    <tr>\n",
       "      <th>julio</th>\n",
       "      <td>170</td>\n",
       "      <td>leer</td>\n",
       "      <td>80</td>\n",
       "      <td>1</td>\n",
       "      <td>45</td>\n",
       "      <td>True</td>\n",
       "      <td>2.0</td>\n",
       "      <td>27.681661</td>\n",
       "      <td>True</td>\n",
       "    </tr>\n",
       "    <tr>\n",
       "      <th>joseph</th>\n",
       "      <td>150</td>\n",
       "      <td>patinar</td>\n",
       "      <td>60</td>\n",
       "      <td>0</td>\n",
       "      <td>44</td>\n",
       "      <td>True</td>\n",
       "      <td>1.0</td>\n",
       "      <td>26.666667</td>\n",
       "      <td>True</td>\n",
       "    </tr>\n",
       "    <tr>\n",
       "      <th>yasmira</th>\n",
       "      <td>140</td>\n",
       "      <td>ver netflix</td>\n",
       "      <td>70</td>\n",
       "      <td>3</td>\n",
       "      <td>14</td>\n",
       "      <td>False</td>\n",
       "      <td>NaN</td>\n",
       "      <td>35.714286</td>\n",
       "      <td>False</td>\n",
       "    </tr>\n",
       "  </tbody>\n",
       "</table>\n",
       "</div>"
      ],
      "text/plain": [
       "         estatura             hobby  peso  hijos  edad  mayor_30_años  \\\n",
       "marco         165  Montar bicicleta    86      2    47           True   \n",
       "julio         170              leer    80      1    45           True   \n",
       "joseph        150           patinar    60      0    44           True   \n",
       "yasmira       140       ver netflix    70      3    14          False   \n",
       "\n",
       "         mascotas  indice_masa_corporal  tiene_mascota  \n",
       "marco         3.0             31.588613           True  \n",
       "julio         2.0             27.681661           True  \n",
       "joseph        1.0             26.666667           True  \n",
       "yasmira       NaN             35.714286          False  "
      ]
     },
     "execution_count": 18,
     "metadata": {},
     "output_type": "execute_result"
    }
   ],
   "source": [
    "personas.assign(indice_masa_corporal = personas['peso']/(personas['estatura']/100)**2,\n",
    "             tiene_mascota = personas['mascotas'] > 0) "
   ]
  },
  {
   "cell_type": "code",
   "execution_count": 12,
   "id": "ae418770",
   "metadata": {
    "slideshow": {
     "slide_type": "slide"
    }
   },
   "outputs": [
    {
     "data": {
      "text/html": [
       "<div>\n",
       "<style scoped>\n",
       "    .dataframe tbody tr th:only-of-type {\n",
       "        vertical-align: middle;\n",
       "    }\n",
       "\n",
       "    .dataframe tbody tr th {\n",
       "        vertical-align: top;\n",
       "    }\n",
       "\n",
       "    .dataframe thead th {\n",
       "        text-align: right;\n",
       "    }\n",
       "</style>\n",
       "<table border=\"1\" class=\"dataframe\">\n",
       "  <thead>\n",
       "    <tr style=\"text-align: right;\">\n",
       "      <th></th>\n",
       "      <th>estatura</th>\n",
       "      <th>hobby</th>\n",
       "      <th>peso</th>\n",
       "      <th>hijos</th>\n",
       "      <th>edad</th>\n",
       "      <th>mayor_30_años</th>\n",
       "      <th>mascotas</th>\n",
       "    </tr>\n",
       "  </thead>\n",
       "  <tbody>\n",
       "    <tr>\n",
       "      <th>marco</th>\n",
       "      <td>165</td>\n",
       "      <td>Montar bicicleta</td>\n",
       "      <td>86</td>\n",
       "      <td>2</td>\n",
       "      <td>47</td>\n",
       "      <td>True</td>\n",
       "      <td>3.0</td>\n",
       "    </tr>\n",
       "    <tr>\n",
       "      <th>julio</th>\n",
       "      <td>170</td>\n",
       "      <td>leer</td>\n",
       "      <td>80</td>\n",
       "      <td>1</td>\n",
       "      <td>45</td>\n",
       "      <td>True</td>\n",
       "      <td>2.0</td>\n",
       "    </tr>\n",
       "    <tr>\n",
       "      <th>joseph</th>\n",
       "      <td>150</td>\n",
       "      <td>patinar</td>\n",
       "      <td>60</td>\n",
       "      <td>0</td>\n",
       "      <td>44</td>\n",
       "      <td>True</td>\n",
       "      <td>1.0</td>\n",
       "    </tr>\n",
       "    <tr>\n",
       "      <th>yasmira</th>\n",
       "      <td>140</td>\n",
       "      <td>ver netflix</td>\n",
       "      <td>70</td>\n",
       "      <td>3</td>\n",
       "      <td>14</td>\n",
       "      <td>False</td>\n",
       "      <td>NaN</td>\n",
       "    </tr>\n",
       "  </tbody>\n",
       "</table>\n",
       "</div>"
      ],
      "text/plain": [
       "         estatura             hobby  peso  hijos  edad  mayor_30_años  \\\n",
       "marco         165  Montar bicicleta    86      2    47           True   \n",
       "julio         170              leer    80      1    45           True   \n",
       "joseph        150           patinar    60      0    44           True   \n",
       "yasmira       140       ver netflix    70      3    14          False   \n",
       "\n",
       "         mascotas  \n",
       "marco         3.0  \n",
       "julio         2.0  \n",
       "joseph        1.0  \n",
       "yasmira       NaN  "
      ]
     },
     "execution_count": 12,
     "metadata": {},
     "output_type": "execute_result"
    }
   ],
   "source": [
    "personas "
   ]
  },
  {
   "cell_type": "code",
   "execution_count": 13,
   "id": "996d766a",
   "metadata": {
    "slideshow": {
     "slide_type": "slide"
    }
   },
   "outputs": [
    {
     "data": {
      "text/html": [
       "<div>\n",
       "<style scoped>\n",
       "    .dataframe tbody tr th:only-of-type {\n",
       "        vertical-align: middle;\n",
       "    }\n",
       "\n",
       "    .dataframe tbody tr th {\n",
       "        vertical-align: top;\n",
       "    }\n",
       "\n",
       "    .dataframe thead th {\n",
       "        text-align: right;\n",
       "    }\n",
       "</style>\n",
       "<table border=\"1\" class=\"dataframe\">\n",
       "  <thead>\n",
       "    <tr style=\"text-align: right;\">\n",
       "      <th></th>\n",
       "      <th>estatura</th>\n",
       "      <th>hobby</th>\n",
       "      <th>peso</th>\n",
       "      <th>hijos</th>\n",
       "      <th>edad</th>\n",
       "      <th>mayor_30_años</th>\n",
       "      <th>mascotas</th>\n",
       "      <th>indice_masa_corporal</th>\n",
       "      <th>tiene_mascota</th>\n",
       "      <th>inplace</th>\n",
       "    </tr>\n",
       "  </thead>\n",
       "  <tbody>\n",
       "    <tr>\n",
       "      <th>marco</th>\n",
       "      <td>165</td>\n",
       "      <td>Montar bicicleta</td>\n",
       "      <td>86</td>\n",
       "      <td>2</td>\n",
       "      <td>47</td>\n",
       "      <td>True</td>\n",
       "      <td>3.0</td>\n",
       "      <td>31.588613</td>\n",
       "      <td>True</td>\n",
       "      <td>True</td>\n",
       "    </tr>\n",
       "    <tr>\n",
       "      <th>julio</th>\n",
       "      <td>170</td>\n",
       "      <td>leer</td>\n",
       "      <td>80</td>\n",
       "      <td>1</td>\n",
       "      <td>45</td>\n",
       "      <td>True</td>\n",
       "      <td>2.0</td>\n",
       "      <td>27.681661</td>\n",
       "      <td>True</td>\n",
       "      <td>True</td>\n",
       "    </tr>\n",
       "    <tr>\n",
       "      <th>joseph</th>\n",
       "      <td>150</td>\n",
       "      <td>patinar</td>\n",
       "      <td>60</td>\n",
       "      <td>0</td>\n",
       "      <td>44</td>\n",
       "      <td>True</td>\n",
       "      <td>1.0</td>\n",
       "      <td>26.666667</td>\n",
       "      <td>True</td>\n",
       "      <td>True</td>\n",
       "    </tr>\n",
       "    <tr>\n",
       "      <th>yasmira</th>\n",
       "      <td>140</td>\n",
       "      <td>ver netflix</td>\n",
       "      <td>70</td>\n",
       "      <td>3</td>\n",
       "      <td>14</td>\n",
       "      <td>False</td>\n",
       "      <td>NaN</td>\n",
       "      <td>35.714286</td>\n",
       "      <td>False</td>\n",
       "      <td>True</td>\n",
       "    </tr>\n",
       "  </tbody>\n",
       "</table>\n",
       "</div>"
      ],
      "text/plain": [
       "         estatura             hobby  peso  hijos  edad  mayor_30_años  \\\n",
       "marco         165  Montar bicicleta    86      2    47           True   \n",
       "julio         170              leer    80      1    45           True   \n",
       "joseph        150           patinar    60      0    44           True   \n",
       "yasmira       140       ver netflix    70      3    14          False   \n",
       "\n",
       "         mascotas  indice_masa_corporal  tiene_mascota  inplace  \n",
       "marco         3.0             31.588613           True     True  \n",
       "julio         2.0             27.681661           True     True  \n",
       "joseph        1.0             26.666667           True     True  \n",
       "yasmira       NaN             35.714286          False     True  "
      ]
     },
     "execution_count": 13,
     "metadata": {},
     "output_type": "execute_result"
    }
   ],
   "source": [
    "personas.assign(indice_masa_corporal = personas['peso']/(personas['estatura']/100)**2,\n",
    "             tiene_mascota = personas['mascotas'] > 0, inplace = True) "
   ]
  },
  {
   "cell_type": "code",
   "execution_count": 14,
   "id": "c46d50ba",
   "metadata": {
    "slideshow": {
     "slide_type": "slide"
    }
   },
   "outputs": [
    {
     "data": {
      "text/html": [
       "<div>\n",
       "<style scoped>\n",
       "    .dataframe tbody tr th:only-of-type {\n",
       "        vertical-align: middle;\n",
       "    }\n",
       "\n",
       "    .dataframe tbody tr th {\n",
       "        vertical-align: top;\n",
       "    }\n",
       "\n",
       "    .dataframe thead th {\n",
       "        text-align: right;\n",
       "    }\n",
       "</style>\n",
       "<table border=\"1\" class=\"dataframe\">\n",
       "  <thead>\n",
       "    <tr style=\"text-align: right;\">\n",
       "      <th></th>\n",
       "      <th>estatura</th>\n",
       "      <th>hobby</th>\n",
       "      <th>peso</th>\n",
       "      <th>hijos</th>\n",
       "      <th>edad</th>\n",
       "      <th>mayor_30_años</th>\n",
       "      <th>mascotas</th>\n",
       "    </tr>\n",
       "  </thead>\n",
       "  <tbody>\n",
       "    <tr>\n",
       "      <th>marco</th>\n",
       "      <td>165</td>\n",
       "      <td>Montar bicicleta</td>\n",
       "      <td>86</td>\n",
       "      <td>2</td>\n",
       "      <td>47</td>\n",
       "      <td>True</td>\n",
       "      <td>3.0</td>\n",
       "    </tr>\n",
       "    <tr>\n",
       "      <th>julio</th>\n",
       "      <td>170</td>\n",
       "      <td>leer</td>\n",
       "      <td>80</td>\n",
       "      <td>1</td>\n",
       "      <td>45</td>\n",
       "      <td>True</td>\n",
       "      <td>2.0</td>\n",
       "    </tr>\n",
       "    <tr>\n",
       "      <th>joseph</th>\n",
       "      <td>150</td>\n",
       "      <td>patinar</td>\n",
       "      <td>60</td>\n",
       "      <td>0</td>\n",
       "      <td>44</td>\n",
       "      <td>True</td>\n",
       "      <td>1.0</td>\n",
       "    </tr>\n",
       "    <tr>\n",
       "      <th>yasmira</th>\n",
       "      <td>140</td>\n",
       "      <td>ver netflix</td>\n",
       "      <td>70</td>\n",
       "      <td>3</td>\n",
       "      <td>14</td>\n",
       "      <td>False</td>\n",
       "      <td>NaN</td>\n",
       "    </tr>\n",
       "  </tbody>\n",
       "</table>\n",
       "</div>"
      ],
      "text/plain": [
       "         estatura             hobby  peso  hijos  edad  mayor_30_años  \\\n",
       "marco         165  Montar bicicleta    86      2    47           True   \n",
       "julio         170              leer    80      1    45           True   \n",
       "joseph        150           patinar    60      0    44           True   \n",
       "yasmira       140       ver netflix    70      3    14          False   \n",
       "\n",
       "         mascotas  \n",
       "marco         3.0  \n",
       "julio         2.0  \n",
       "joseph        1.0  \n",
       "yasmira       NaN  "
      ]
     },
     "execution_count": 14,
     "metadata": {},
     "output_type": "execute_result"
    }
   ],
   "source": [
    "personas"
   ]
  },
  {
   "cell_type": "code",
   "execution_count": 15,
   "id": "7db8ffe7",
   "metadata": {
    "slideshow": {
     "slide_type": "slide"
    }
   },
   "outputs": [],
   "source": [
    "personas = personas.assign(indice_masa_corporal = personas['peso']/(personas['estatura']/100)**2,\n",
    "             tiene_mascota = personas['mascotas'] > 0) "
   ]
  },
  {
   "cell_type": "code",
   "execution_count": 16,
   "id": "8f30807d",
   "metadata": {
    "slideshow": {
     "slide_type": "slide"
    }
   },
   "outputs": [
    {
     "data": {
      "text/html": [
       "<div>\n",
       "<style scoped>\n",
       "    .dataframe tbody tr th:only-of-type {\n",
       "        vertical-align: middle;\n",
       "    }\n",
       "\n",
       "    .dataframe tbody tr th {\n",
       "        vertical-align: top;\n",
       "    }\n",
       "\n",
       "    .dataframe thead th {\n",
       "        text-align: right;\n",
       "    }\n",
       "</style>\n",
       "<table border=\"1\" class=\"dataframe\">\n",
       "  <thead>\n",
       "    <tr style=\"text-align: right;\">\n",
       "      <th></th>\n",
       "      <th>estatura</th>\n",
       "      <th>hobby</th>\n",
       "      <th>peso</th>\n",
       "      <th>hijos</th>\n",
       "      <th>edad</th>\n",
       "      <th>mayor_30_años</th>\n",
       "      <th>mascotas</th>\n",
       "      <th>indice_masa_corporal</th>\n",
       "      <th>tiene_mascota</th>\n",
       "    </tr>\n",
       "  </thead>\n",
       "  <tbody>\n",
       "    <tr>\n",
       "      <th>marco</th>\n",
       "      <td>165</td>\n",
       "      <td>Montar bicicleta</td>\n",
       "      <td>86</td>\n",
       "      <td>2</td>\n",
       "      <td>47</td>\n",
       "      <td>True</td>\n",
       "      <td>3.0</td>\n",
       "      <td>31.588613</td>\n",
       "      <td>True</td>\n",
       "    </tr>\n",
       "    <tr>\n",
       "      <th>julio</th>\n",
       "      <td>170</td>\n",
       "      <td>leer</td>\n",
       "      <td>80</td>\n",
       "      <td>1</td>\n",
       "      <td>45</td>\n",
       "      <td>True</td>\n",
       "      <td>2.0</td>\n",
       "      <td>27.681661</td>\n",
       "      <td>True</td>\n",
       "    </tr>\n",
       "    <tr>\n",
       "      <th>joseph</th>\n",
       "      <td>150</td>\n",
       "      <td>patinar</td>\n",
       "      <td>60</td>\n",
       "      <td>0</td>\n",
       "      <td>44</td>\n",
       "      <td>True</td>\n",
       "      <td>1.0</td>\n",
       "      <td>26.666667</td>\n",
       "      <td>True</td>\n",
       "    </tr>\n",
       "    <tr>\n",
       "      <th>yasmira</th>\n",
       "      <td>140</td>\n",
       "      <td>ver netflix</td>\n",
       "      <td>70</td>\n",
       "      <td>3</td>\n",
       "      <td>14</td>\n",
       "      <td>False</td>\n",
       "      <td>NaN</td>\n",
       "      <td>35.714286</td>\n",
       "      <td>False</td>\n",
       "    </tr>\n",
       "  </tbody>\n",
       "</table>\n",
       "</div>"
      ],
      "text/plain": [
       "         estatura             hobby  peso  hijos  edad  mayor_30_años  \\\n",
       "marco         165  Montar bicicleta    86      2    47           True   \n",
       "julio         170              leer    80      1    45           True   \n",
       "joseph        150           patinar    60      0    44           True   \n",
       "yasmira       140       ver netflix    70      3    14          False   \n",
       "\n",
       "         mascotas  indice_masa_corporal  tiene_mascota  \n",
       "marco         3.0             31.588613           True  \n",
       "julio         2.0             27.681661           True  \n",
       "joseph        1.0             26.666667           True  \n",
       "yasmira       NaN             35.714286          False  "
      ]
     },
     "execution_count": 16,
     "metadata": {},
     "output_type": "execute_result"
    }
   ],
   "source": [
    "personas "
   ]
  },
  {
   "cell_type": "markdown",
   "id": "77a56fb3",
   "metadata": {
    "slideshow": {
     "slide_type": "slide"
    }
   },
   "source": [
    "# Evaluar una expresión"
   ]
  },
  {
   "cell_type": "markdown",
   "id": "2f90e314",
   "metadata": {
    "slideshow": {
     "slide_type": "slide"
    }
   },
   "source": [
    "Una gran característica compatible con pandas es la evaluación de expresiones. "
   ]
  },
  {
   "cell_type": "markdown",
   "id": "04d805f6",
   "metadata": {
    "slideshow": {
     "slide_type": "slide"
    }
   },
   "source": [
    "Esto se basa en la biblioteca `numexpr` que debe estar instalada."
   ]
  },
  {
   "cell_type": "code",
   "execution_count": 19,
   "id": "322e27c2",
   "metadata": {
    "slideshow": {
     "slide_type": "slide"
    }
   },
   "outputs": [
    {
     "data": {
      "text/plain": [
       "marco      True\n",
       "julio      True\n",
       "joseph     True\n",
       "yasmira    True\n",
       "dtype: bool"
      ]
     },
     "execution_count": 19,
     "metadata": {},
     "output_type": "execute_result"
    }
   ],
   "source": [
    "personas.eval('peso/(estatura/100)**2 > 25')"
   ]
  },
  {
   "cell_type": "markdown",
   "id": "62e6ee92",
   "metadata": {
    "slideshow": {
     "slide_type": "slide"
    }
   },
   "source": [
    "También se admiten expresiones de asignación. Configuremos `inplace=True` para modificar directamente el `DataFrame` en lugar de obtener una **copia modificada**:"
   ]
  },
  {
   "cell_type": "code",
   "execution_count": 20,
   "id": "217f3a7d",
   "metadata": {
    "slideshow": {
     "slide_type": "slide"
    }
   },
   "outputs": [
    {
     "data": {
      "text/html": [
       "<div>\n",
       "<style scoped>\n",
       "    .dataframe tbody tr th:only-of-type {\n",
       "        vertical-align: middle;\n",
       "    }\n",
       "\n",
       "    .dataframe tbody tr th {\n",
       "        vertical-align: top;\n",
       "    }\n",
       "\n",
       "    .dataframe thead th {\n",
       "        text-align: right;\n",
       "    }\n",
       "</style>\n",
       "<table border=\"1\" class=\"dataframe\">\n",
       "  <thead>\n",
       "    <tr style=\"text-align: right;\">\n",
       "      <th></th>\n",
       "      <th>estatura</th>\n",
       "      <th>hobby</th>\n",
       "      <th>peso</th>\n",
       "      <th>hijos</th>\n",
       "      <th>edad</th>\n",
       "      <th>mayor_30_años</th>\n",
       "      <th>mascotas</th>\n",
       "      <th>indice_masa_corporal</th>\n",
       "    </tr>\n",
       "  </thead>\n",
       "  <tbody>\n",
       "    <tr>\n",
       "      <th>marco</th>\n",
       "      <td>165</td>\n",
       "      <td>Montar bicicleta</td>\n",
       "      <td>86</td>\n",
       "      <td>2</td>\n",
       "      <td>47</td>\n",
       "      <td>True</td>\n",
       "      <td>3.0</td>\n",
       "      <td>31.588613</td>\n",
       "    </tr>\n",
       "    <tr>\n",
       "      <th>julio</th>\n",
       "      <td>170</td>\n",
       "      <td>leer</td>\n",
       "      <td>80</td>\n",
       "      <td>1</td>\n",
       "      <td>45</td>\n",
       "      <td>True</td>\n",
       "      <td>2.0</td>\n",
       "      <td>27.681661</td>\n",
       "    </tr>\n",
       "    <tr>\n",
       "      <th>joseph</th>\n",
       "      <td>150</td>\n",
       "      <td>patinar</td>\n",
       "      <td>60</td>\n",
       "      <td>0</td>\n",
       "      <td>44</td>\n",
       "      <td>True</td>\n",
       "      <td>1.0</td>\n",
       "      <td>26.666667</td>\n",
       "    </tr>\n",
       "    <tr>\n",
       "      <th>yasmira</th>\n",
       "      <td>140</td>\n",
       "      <td>ver netflix</td>\n",
       "      <td>70</td>\n",
       "      <td>3</td>\n",
       "      <td>14</td>\n",
       "      <td>False</td>\n",
       "      <td>NaN</td>\n",
       "      <td>35.714286</td>\n",
       "    </tr>\n",
       "  </tbody>\n",
       "</table>\n",
       "</div>"
      ],
      "text/plain": [
       "         estatura             hobby  peso  hijos  edad  mayor_30_años  \\\n",
       "marco         165  Montar bicicleta    86      2    47           True   \n",
       "julio         170              leer    80      1    45           True   \n",
       "joseph        150           patinar    60      0    44           True   \n",
       "yasmira       140       ver netflix    70      3    14          False   \n",
       "\n",
       "         mascotas  indice_masa_corporal  \n",
       "marco         3.0             31.588613  \n",
       "julio         2.0             27.681661  \n",
       "joseph        1.0             26.666667  \n",
       "yasmira       NaN             35.714286  "
      ]
     },
     "execution_count": 20,
     "metadata": {},
     "output_type": "execute_result"
    }
   ],
   "source": [
    "personas.eval(\"indice_masa_corporal = peso / (estatura/100) ** 2\", inplace=True)\n",
    "personas"
   ]
  },
  {
   "cell_type": "markdown",
   "id": "8ef01952",
   "metadata": {
    "slideshow": {
     "slide_type": "slide"
    }
   },
   "source": [
    "Puede usar una variable local o global en una expresión prefijándola con `@`:"
   ]
  },
  {
   "cell_type": "code",
   "execution_count": 21,
   "id": "6ba0a998",
   "metadata": {
    "slideshow": {
     "slide_type": "slide"
    }
   },
   "outputs": [
    {
     "data": {
      "text/html": [
       "<div>\n",
       "<style scoped>\n",
       "    .dataframe tbody tr th:only-of-type {\n",
       "        vertical-align: middle;\n",
       "    }\n",
       "\n",
       "    .dataframe tbody tr th {\n",
       "        vertical-align: top;\n",
       "    }\n",
       "\n",
       "    .dataframe thead th {\n",
       "        text-align: right;\n",
       "    }\n",
       "</style>\n",
       "<table border=\"1\" class=\"dataframe\">\n",
       "  <thead>\n",
       "    <tr style=\"text-align: right;\">\n",
       "      <th></th>\n",
       "      <th>estatura</th>\n",
       "      <th>hobby</th>\n",
       "      <th>peso</th>\n",
       "      <th>hijos</th>\n",
       "      <th>edad</th>\n",
       "      <th>mayor_30_años</th>\n",
       "      <th>mascotas</th>\n",
       "      <th>indice_masa_corporal</th>\n",
       "      <th>sobre_peso</th>\n",
       "    </tr>\n",
       "  </thead>\n",
       "  <tbody>\n",
       "    <tr>\n",
       "      <th>marco</th>\n",
       "      <td>165</td>\n",
       "      <td>Montar bicicleta</td>\n",
       "      <td>86</td>\n",
       "      <td>2</td>\n",
       "      <td>47</td>\n",
       "      <td>True</td>\n",
       "      <td>3.0</td>\n",
       "      <td>31.588613</td>\n",
       "      <td>True</td>\n",
       "    </tr>\n",
       "    <tr>\n",
       "      <th>julio</th>\n",
       "      <td>170</td>\n",
       "      <td>leer</td>\n",
       "      <td>80</td>\n",
       "      <td>1</td>\n",
       "      <td>45</td>\n",
       "      <td>True</td>\n",
       "      <td>2.0</td>\n",
       "      <td>27.681661</td>\n",
       "      <td>False</td>\n",
       "    </tr>\n",
       "    <tr>\n",
       "      <th>joseph</th>\n",
       "      <td>150</td>\n",
       "      <td>patinar</td>\n",
       "      <td>60</td>\n",
       "      <td>0</td>\n",
       "      <td>44</td>\n",
       "      <td>True</td>\n",
       "      <td>1.0</td>\n",
       "      <td>26.666667</td>\n",
       "      <td>False</td>\n",
       "    </tr>\n",
       "    <tr>\n",
       "      <th>yasmira</th>\n",
       "      <td>140</td>\n",
       "      <td>ver netflix</td>\n",
       "      <td>70</td>\n",
       "      <td>3</td>\n",
       "      <td>14</td>\n",
       "      <td>False</td>\n",
       "      <td>NaN</td>\n",
       "      <td>35.714286</td>\n",
       "      <td>True</td>\n",
       "    </tr>\n",
       "  </tbody>\n",
       "</table>\n",
       "</div>"
      ],
      "text/plain": [
       "         estatura             hobby  peso  hijos  edad  mayor_30_años  \\\n",
       "marco         165  Montar bicicleta    86      2    47           True   \n",
       "julio         170              leer    80      1    45           True   \n",
       "joseph        150           patinar    60      0    44           True   \n",
       "yasmira       140       ver netflix    70      3    14          False   \n",
       "\n",
       "         mascotas  indice_masa_corporal  sobre_peso  \n",
       "marco         3.0             31.588613        True  \n",
       "julio         2.0             27.681661       False  \n",
       "joseph        1.0             26.666667       False  \n",
       "yasmira       NaN             35.714286        True  "
      ]
     },
     "execution_count": 21,
     "metadata": {},
     "output_type": "execute_result"
    }
   ],
   "source": [
    "umbral_sobre_peso = 30\n",
    "personas.eval(\"sobre_peso = indice_masa_corporal > @umbral_sobre_peso\", inplace=True)\n",
    "\n",
    "personas"
   ]
  },
  {
   "cell_type": "markdown",
   "id": "943e4edc",
   "metadata": {
    "slideshow": {
     "slide_type": "slide"
    }
   },
   "source": [
    "## Querying a DataFrame (Consultar en el DataFrame)"
   ]
  },
  {
   "cell_type": "markdown",
   "id": "cdc0a673",
   "metadata": {
    "slideshow": {
     "slide_type": "slide"
    }
   },
   "source": [
    "El método `query()` le permite filtrar un `DataFrame` basado en una expresión de consulta:"
   ]
  },
  {
   "cell_type": "code",
   "execution_count": 22,
   "id": "3817b7a1",
   "metadata": {
    "slideshow": {
     "slide_type": "slide"
    }
   },
   "outputs": [
    {
     "data": {
      "text/html": [
       "<div>\n",
       "<style scoped>\n",
       "    .dataframe tbody tr th:only-of-type {\n",
       "        vertical-align: middle;\n",
       "    }\n",
       "\n",
       "    .dataframe tbody tr th {\n",
       "        vertical-align: top;\n",
       "    }\n",
       "\n",
       "    .dataframe thead th {\n",
       "        text-align: right;\n",
       "    }\n",
       "</style>\n",
       "<table border=\"1\" class=\"dataframe\">\n",
       "  <thead>\n",
       "    <tr style=\"text-align: right;\">\n",
       "      <th></th>\n",
       "      <th>estatura</th>\n",
       "      <th>hobby</th>\n",
       "      <th>peso</th>\n",
       "      <th>hijos</th>\n",
       "      <th>edad</th>\n",
       "      <th>mayor_30_años</th>\n",
       "      <th>mascotas</th>\n",
       "      <th>indice_masa_corporal</th>\n",
       "      <th>sobre_peso</th>\n",
       "    </tr>\n",
       "  </thead>\n",
       "  <tbody>\n",
       "    <tr>\n",
       "      <th>julio</th>\n",
       "      <td>170</td>\n",
       "      <td>leer</td>\n",
       "      <td>80</td>\n",
       "      <td>1</td>\n",
       "      <td>45</td>\n",
       "      <td>True</td>\n",
       "      <td>2.0</td>\n",
       "      <td>27.681661</td>\n",
       "      <td>False</td>\n",
       "    </tr>\n",
       "  </tbody>\n",
       "</table>\n",
       "</div>"
      ],
      "text/plain": [
       "       estatura hobby  peso  hijos  edad  mayor_30_años  mascotas  \\\n",
       "julio       170  leer    80      1    45           True       2.0   \n",
       "\n",
       "       indice_masa_corporal  sobre_peso  \n",
       "julio             27.681661       False  "
      ]
     },
     "execution_count": 22,
     "metadata": {},
     "output_type": "execute_result"
    }
   ],
   "source": [
    "personas.query(\"edad > 30 and mascotas == 2\")"
   ]
  },
  {
   "cell_type": "markdown",
   "id": "508fb100",
   "metadata": {
    "slideshow": {
     "slide_type": "slide"
    }
   },
   "source": [
    "## Ordenar un DataFrame"
   ]
  },
  {
   "cell_type": "markdown",
   "id": "7b1fc00e",
   "metadata": {
    "slideshow": {
     "slide_type": "slide"
    }
   },
   "source": [
    "Puede ordenar un `DataFrame` llamando a su método `sort_index`. "
   ]
  },
  {
   "cell_type": "markdown",
   "id": "8625a043",
   "metadata": {
    "slideshow": {
     "slide_type": "slide"
    }
   },
   "source": [
    "Por defecto, ordena las filas por su etiqueta de índice, en orden ascendente, pero invirtamos el orden(`ascending = False`):"
   ]
  },
  {
   "cell_type": "code",
   "execution_count": 23,
   "id": "3c8bc88d",
   "metadata": {
    "slideshow": {
     "slide_type": "slide"
    }
   },
   "outputs": [
    {
     "data": {
      "text/html": [
       "<div>\n",
       "<style scoped>\n",
       "    .dataframe tbody tr th:only-of-type {\n",
       "        vertical-align: middle;\n",
       "    }\n",
       "\n",
       "    .dataframe tbody tr th {\n",
       "        vertical-align: top;\n",
       "    }\n",
       "\n",
       "    .dataframe thead th {\n",
       "        text-align: right;\n",
       "    }\n",
       "</style>\n",
       "<table border=\"1\" class=\"dataframe\">\n",
       "  <thead>\n",
       "    <tr style=\"text-align: right;\">\n",
       "      <th></th>\n",
       "      <th>estatura</th>\n",
       "      <th>hobby</th>\n",
       "      <th>peso</th>\n",
       "      <th>hijos</th>\n",
       "      <th>edad</th>\n",
       "      <th>mayor_30_años</th>\n",
       "      <th>mascotas</th>\n",
       "      <th>indice_masa_corporal</th>\n",
       "      <th>sobre_peso</th>\n",
       "    </tr>\n",
       "  </thead>\n",
       "  <tbody>\n",
       "    <tr>\n",
       "      <th>joseph</th>\n",
       "      <td>150</td>\n",
       "      <td>patinar</td>\n",
       "      <td>60</td>\n",
       "      <td>0</td>\n",
       "      <td>44</td>\n",
       "      <td>True</td>\n",
       "      <td>1.0</td>\n",
       "      <td>26.666667</td>\n",
       "      <td>False</td>\n",
       "    </tr>\n",
       "    <tr>\n",
       "      <th>julio</th>\n",
       "      <td>170</td>\n",
       "      <td>leer</td>\n",
       "      <td>80</td>\n",
       "      <td>1</td>\n",
       "      <td>45</td>\n",
       "      <td>True</td>\n",
       "      <td>2.0</td>\n",
       "      <td>27.681661</td>\n",
       "      <td>False</td>\n",
       "    </tr>\n",
       "    <tr>\n",
       "      <th>marco</th>\n",
       "      <td>165</td>\n",
       "      <td>Montar bicicleta</td>\n",
       "      <td>86</td>\n",
       "      <td>2</td>\n",
       "      <td>47</td>\n",
       "      <td>True</td>\n",
       "      <td>3.0</td>\n",
       "      <td>31.588613</td>\n",
       "      <td>True</td>\n",
       "    </tr>\n",
       "    <tr>\n",
       "      <th>yasmira</th>\n",
       "      <td>140</td>\n",
       "      <td>ver netflix</td>\n",
       "      <td>70</td>\n",
       "      <td>3</td>\n",
       "      <td>14</td>\n",
       "      <td>False</td>\n",
       "      <td>NaN</td>\n",
       "      <td>35.714286</td>\n",
       "      <td>True</td>\n",
       "    </tr>\n",
       "  </tbody>\n",
       "</table>\n",
       "</div>"
      ],
      "text/plain": [
       "         estatura             hobby  peso  hijos  edad  mayor_30_años  \\\n",
       "joseph        150           patinar    60      0    44           True   \n",
       "julio         170              leer    80      1    45           True   \n",
       "marco         165  Montar bicicleta    86      2    47           True   \n",
       "yasmira       140       ver netflix    70      3    14          False   \n",
       "\n",
       "         mascotas  indice_masa_corporal  sobre_peso  \n",
       "joseph        1.0             26.666667       False  \n",
       "julio         2.0             27.681661       False  \n",
       "marco         3.0             31.588613        True  \n",
       "yasmira       NaN             35.714286        True  "
      ]
     },
     "execution_count": 23,
     "metadata": {},
     "output_type": "execute_result"
    }
   ],
   "source": [
    "personas.sort_index(ascending=True)"
   ]
  },
  {
   "cell_type": "markdown",
   "id": "7f192ba7",
   "metadata": {
    "slideshow": {
     "slide_type": "slide"
    }
   },
   "source": [
    "## Taller de clase o tarea"
   ]
  },
  {
   "cell_type": "markdown",
   "id": "4b36cb48",
   "metadata": {
    "slideshow": {
     "slide_type": "slide"
    }
   },
   "source": [
    "Se lanzan al aire dos dados y se suman sus puntos obtenidos. Halla la probabilidad de que la suma:  \n",
    "\n",
    "a) Sea 4.  \n",
    "b) No sea 7.  \n",
    "c) Sea mayor que 7.  \n",
    "d) Sea menor que 5.  \n",
    "e) Sea 6 o 9.  \n",
    "f) Esté entre 2 y 6.  "
   ]
  },
  {
   "cell_type": "code",
   "execution_count": null,
   "id": "d5ac8888",
   "metadata": {
    "slideshow": {
     "slide_type": "slide"
    }
   },
   "outputs": [],
   "source": []
  },
  {
   "cell_type": "markdown",
   "id": "a8a70281",
   "metadata": {
    "slideshow": {
     "slide_type": "slide"
    }
   },
   "source": [
    "# [Matplotlib según Geron](https://github.com/ageron/handson-ml2/blob/master/tools_matplotlib.ipynb) "
   ]
  },
  {
   "cell_type": "markdown",
   "id": "4773c4df",
   "metadata": {
    "slideshow": {
     "slide_type": "slide"
    }
   },
   "source": [
    "Tabla de contenido  \n",
    "\n",
    "1.  Trazado de un primer gráfico\n",
    "2.  Color y estilo de línea.\n",
    "3.  Exportar la figura en diferentes formatos\n",
    "4.  Subplots  \n",
    "5.  Multiple figures  "
   ]
  },
  {
   "cell_type": "markdown",
   "id": "4cf9b533",
   "metadata": {
    "slideshow": {
     "slide_type": "slide"
    }
   },
   "source": [
    "5.  Incluir texto en el gráfico\n",
    "7.  Legends\n",
    "8.  Non linear scales"
   ]
  },
  {
   "cell_type": "markdown",
   "id": "ff831c85",
   "metadata": {
    "slideshow": {
     "slide_type": "slide"
    }
   },
   "source": [
    "8.  3D projection\n",
    "9.  Scatter plot\n",
    "10.  Lines"
   ]
  },
  {
   "cell_type": "markdown",
   "id": "15bb4ee4",
   "metadata": {
    "slideshow": {
     "slide_type": "slide"
    }
   },
   "source": [
    "11.  Histograms\n",
    "12.  Images\n",
    "13.  Animations\n",
    "14.  Saving animations to video files\n"
   ]
  },
  {
   "cell_type": "markdown",
   "id": "0b387e81",
   "metadata": {
    "slideshow": {
     "slide_type": "slide"
    }
   },
   "source": [
    "# Trazando tu primer gráfico"
   ]
  },
  {
   "cell_type": "markdown",
   "id": "52164fa9",
   "metadata": {
    "slideshow": {
     "slide_type": "slide"
    }
   },
   "source": [
    "Primero necesitamos importar la biblioteca `matplotlib`."
   ]
  },
  {
   "cell_type": "code",
   "execution_count": null,
   "id": "627313ea",
   "metadata": {
    "slideshow": {
     "slide_type": "slide"
    }
   },
   "outputs": [],
   "source": [
    "import matplotlib"
   ]
  },
  {
   "cell_type": "code",
   "execution_count": 24,
   "id": "80298784",
   "metadata": {
    "slideshow": {
     "slide_type": "slide"
    }
   },
   "outputs": [
    {
     "data": {
      "image/png": "[encoded data removed]",
      "text/plain": [
       "<Figure size 432x288 with 1 Axes>"
      ]
     },
     "metadata": {
      "needs_background": "light"
     },
     "output_type": "display_data"
    }
   ],
   "source": [
    "import matplotlib.pyplot as plt\n",
    "plt.plot([1, 2, 4, 9, 5, 3])\n",
    "plt.show()"
   ]
  },
  {
   "cell_type": "markdown",
   "id": "e37c4136",
   "metadata": {
    "slideshow": {
     "slide_type": "slide"
    }
   },
   "source": [
    "Sí, es tan simple como llamar a la función `plot` con algunos datos y luego llamar a la función `show`."
   ]
  },
  {
   "cell_type": "markdown",
   "id": "93bb6add",
   "metadata": {
    "slideshow": {
     "slide_type": "slide"
    }
   },
   "source": [
    "Si a la función `plot` se le da solo una matriz de datos,  \n",
    "\n",
    "* la usará como las coordenadas en el eje vertical, y \n",
    "* solo usará el índice de cada punto de datos en la matriz como la coordenada horizontal. "
   ]
  },
  {
   "cell_type": "markdown",
   "id": "c4ac3ad7",
   "metadata": {
    "slideshow": {
     "slide_type": "slide"
    }
   },
   "source": [
    "También puede proporcionar dos matrices: \n",
    "\n",
    "* una para el eje horizontal `x` y \n",
    "* la segunda para el eje vertical `y`:"
   ]
  },
  {
   "cell_type": "code",
   "execution_count": 3,
   "id": "d9c077d0",
   "metadata": {
    "slideshow": {
     "slide_type": "slide"
    }
   },
   "outputs": [
    {
     "data": {
      "image/png": "[encoded data removed]",
      "text/plain": [
       "<Figure size 432x288 with 1 Axes>"
      ]
     },
     "metadata": {
      "needs_background": "light"
     },
     "output_type": "display_data"
    }
   ],
   "source": [
    "plt.plot([-3, -2, 5, 0], [1, 6, 4, 3])\n",
    "plt.show()"
   ]
  },
  {
   "cell_type": "markdown",
   "id": "daca96d5",
   "metadata": {
    "slideshow": {
     "slide_type": "slide"
    }
   },
   "source": [
    "**Ojo**  \n",
    "\n",
    "Los ejes coinciden automáticamente con la extensión de los datos. "
   ]
  },
  {
   "cell_type": "markdown",
   "id": "eb7dcb31",
   "metadata": {
    "slideshow": {
     "slide_type": "slide"
    }
   },
   "source": [
    "Nos gustaría darle un poco más de espacio al gráfico, así que llamemos a la función `axis` para cambiar la extensión de cada eje . Para ello entregamos como argumento a la función axis una lista de python como la siguiente: `[xmin, xmax, ymin, ymax]`."
   ]
  },
  {
   "cell_type": "code",
   "execution_count": 2,
   "id": "b1004e76",
   "metadata": {
    "slideshow": {
     "slide_type": "slide"
    }
   },
   "outputs": [
    {
     "data": {
      "image/png": "[encoded data removed]",
      "text/plain": [
       "<Figure size 432x288 with 1 Axes>"
      ]
     },
     "metadata": {
      "needs_background": "light"
     },
     "output_type": "display_data"
    }
   ],
   "source": [
    "import matplotlib.pyplot as plt \n",
    "\n",
    "x = [-3, -2, 5, 0]\n",
    "y = [1, 6, 4, 3]\n",
    "plt.plot(x,y )\n",
    "\n",
    "plt.axis([min(x) - 1, max(x) + 1, min(y) -1, max(y) + 1])\n",
    "plt.show()\n"
   ]
  },
  {
   "cell_type": "markdown",
   "id": "38c8d415",
   "metadata": {
    "slideshow": {
     "slide_type": "slide"
    }
   },
   "source": [
    "Ahora, grafiquemos una función matemática. "
   ]
  },
  {
   "cell_type": "markdown",
   "id": "063d790f",
   "metadata": {
    "slideshow": {
     "slide_type": "slide"
    }
   },
   "source": [
    "* Usamos la función `linspace` de NumPy para crear una matriz `x` que contiene 10 flotantes que van desde -2 a 2, \n",
    "* luego creamos una segunda matriz `y` calculada como el cuadrado de `x` (para aprender sobre NumPy, lea [el tutorial de NumPy](https://github.com/ageron/handson-ml2/blob/8b454ea71235cd0f6fa8c72a5d8be17204f674eb//tools_numpy.ipynb))."
   ]
  },
  {
   "cell_type": "code",
   "execution_count": 2,
   "id": "d6622c7c",
   "metadata": {
    "slideshow": {
     "slide_type": "slide"
    }
   },
   "outputs": [
    {
     "data": {
      "text/plain": [
       "[<matplotlib.lines.Line2D at 0x1fb3a633df0>]"
      ]
     },
     "execution_count": 2,
     "metadata": {},
     "output_type": "execute_result"
    },
    {
     "data": {
      "image/png": "[encoded data removed]",
      "text/plain": [
       "<Figure size 432x288 with 1 Axes>"
      ]
     },
     "metadata": {
      "needs_background": "light"
     },
     "output_type": "display_data"
    }
   ],
   "source": [
    "import matplotlib.pyplot as plt \n",
    "import numpy as np\n",
    "x = np.linspace(-2, 2, 10)\n",
    "y = x**2\n",
    "\n",
    "plt.plot(x, y)\n",
    "#plt.show()"
   ]
  },
  {
   "cell_type": "markdown",
   "id": "00054a2b",
   "metadata": {
    "slideshow": {
     "slide_type": "slide"
    }
   },
   "source": [
    "Eso es un poco seco, agreguemos un título y etiquetas `x` e `y`, y dibujemos una cuadrícula."
   ]
  },
  {
   "cell_type": "code",
   "execution_count": null,
   "id": "c00d7fbf",
   "metadata": {
    "slideshow": {
     "slide_type": "slide"
    }
   },
   "outputs": [],
   "source": [
    "plt.plot(x, y)\n",
    "plt.title(\"Función cuadrática\")\n",
    "plt.xlabel(\"x\")\n",
    "plt.ylabel(r\"$y = x^{2}$\")\n",
    "plt.grid(True)\n",
    "plt.show()"
   ]
  },
  {
   "cell_type": "markdown",
   "id": "64fb4f0e",
   "metadata": {
    "slideshow": {
     "slide_type": "slide"
    }
   },
   "source": [
    "## Estilo y color de línea"
   ]
  },
  {
   "cell_type": "markdown",
   "id": "5710e80f",
   "metadata": {
    "slideshow": {
     "slide_type": "slide"
    }
   },
   "source": [
    "Por defecto, `matplotlib` dibuja una línea entre puntos consecutivos."
   ]
  },
  {
   "cell_type": "code",
   "execution_count": null,
   "id": "3a22176b",
   "metadata": {
    "slideshow": {
     "slide_type": "slide"
    }
   },
   "outputs": [],
   "source": [
    "plt.plot([0, 100, 100, 0, 0, 100, 50, 0, 100], [0, 0, 100, 100, 0, 100, 130, 100, 0])\n",
    "plt.axis([-10, 110, -10, 140])\n",
    "plt.show()"
   ]
  },
  {
   "cell_type": "markdown",
   "id": "33300b04",
   "metadata": {
    "slideshow": {
     "slide_type": "slide"
    }
   },
   "source": [
    "Puede pasar un tercer argumento para cambiar el estilo y el color de la línea. "
   ]
  },
  {
   "cell_type": "markdown",
   "id": "14683cec",
   "metadata": {
    "slideshow": {
     "slide_type": "slide"
    }
   },
   "source": [
    "Por ejemplo, `g--` significa \"línea discontinua verde\"."
   ]
  },
  {
   "cell_type": "code",
   "execution_count": null,
   "id": "ef738590",
   "metadata": {
    "slideshow": {
     "slide_type": "slide"
    }
   },
   "outputs": [],
   "source": [
    "import matplotlib.pyplot as plt \n",
    "\n",
    "plt.plot([0, 100, 100, 0, 0, 100, 50, 0, 100], [0, 0, 100, 100, 0, 100, 130, 100, 0], \"g--\")\n",
    "# r^, r<,r>,rs,\n",
    "# https://matplotlib.org/stable/api/_as_gen/matplotlib.pyplot.plot.html\n",
    "plt.axis([-10, 110, -10, 140])\n",
    "plt.show()"
   ]
  },
  {
   "cell_type": "markdown",
   "id": "59b116f2",
   "metadata": {
    "slideshow": {
     "slide_type": "slide"
    }
   },
   "source": [
    "Puede trazar varias líneas en un gráfico de forma muy sencilla: simplemente pase `x1, y1, [estilo1], x2, y2, [estilo2], ...`  \n",
    "\n",
    "Por ejemplo:"
   ]
  },
  {
   "cell_type": "code",
   "execution_count": null,
   "id": "7b655a2e",
   "metadata": {
    "slideshow": {
     "slide_type": "slide"
    }
   },
   "outputs": [],
   "source": [
    "plt.plot([0, 100, 100, 0, 0], [0, 0, 100, 100, 0], \"r-\",\\\n",
    "         [0, 100, 50, 0, 100], [0, 100, 130, 100, 0], \"g--\")\n",
    "plt.axis([-10, 110, -10, 140])\n",
    "plt.show()"
   ]
  },
  {
   "cell_type": "markdown",
   "id": "9d75a4f7",
   "metadata": {
    "slideshow": {
     "slide_type": "slide"
    }
   },
   "source": [
    "O simplemente llame a `plot` varias veces antes de llamar a `show`."
   ]
  },
  {
   "cell_type": "code",
   "execution_count": null,
   "id": "2c3472e9",
   "metadata": {
    "slideshow": {
     "slide_type": "slide"
    }
   },
   "outputs": [],
   "source": [
    "plt.plot([0, 100, 100, 0, 0], [0, 0, 100, 100, 0], \"r-\")\n",
    "plt.plot([0, 100, 50, 0, 100], [0, 100, 130, 100, 0], \"g--\")\n",
    "plt.axis([-10, 110, -10, 140])\n",
    "plt.show()"
   ]
  },
  {
   "cell_type": "markdown",
   "id": "8f2d43c5",
   "metadata": {
    "slideshow": {
     "slide_type": "slide"
    }
   },
   "source": [
    "También puede dibujar puntos simples en lugar de líneas. "
   ]
  },
  {
   "cell_type": "markdown",
   "id": "79b6939e",
   "metadata": {
    "slideshow": {
     "slide_type": "slide"
    }
   },
   "source": [
    "Aquí hay un ejemplo con guiones verdes, línea punteada roja y triángulos azules. "
   ]
  },
  {
   "cell_type": "markdown",
   "id": "41c4abdc",
   "metadata": {
    "slideshow": {
     "slide_type": "slide"
    }
   },
   "source": [
    "Consulte [la documentación](https://matplotlib.org/2.0.2/api/pyplot_api.html) para ver la lista completa de opciones de estilo y color."
   ]
  },
  {
   "cell_type": "code",
   "execution_count": 3,
   "id": "70a143e2",
   "metadata": {
    "slideshow": {
     "slide_type": "slide"
    }
   },
   "outputs": [
    {
     "data": {
      "image/png": "[encoded data removed]",
      "text/plain": [
       "<Figure size 432x288 with 1 Axes>"
      ]
     },
     "metadata": {
      "needs_background": "light"
     },
     "output_type": "display_data"
    }
   ],
   "source": [
    "import numpy as np \n",
    "x = np.linspace(-1.4, 1.4, 30)\n",
    "plt.plot(x, x, 'g--', x, x**2, 'r:', x, x**3, 'b^')\n",
    "plt.show()"
   ]
  },
  {
   "cell_type": "markdown",
   "id": "8f375231",
   "metadata": {
    "slideshow": {
     "slide_type": "slide"
    }
   },
   "source": [
    "La función de trazado `plot()` devuelve una lista de objetos `Line2D` (uno para cada línea). "
   ]
  },
  {
   "cell_type": "markdown",
   "id": "b928b67e",
   "metadata": {
    "slideshow": {
     "slide_type": "slide"
    }
   },
   "source": [
    "Puede establecer atributos adicionales en estas líneas, como el ancho de línea(`linewidth`), el estilo de guión(`dash_style`) o el nivel `alpha`. "
   ]
  },
  {
   "cell_type": "markdown",
   "id": "9f0e8670",
   "metadata": {
    "slideshow": {
     "slide_type": "slide"
    }
   },
   "source": [
    "Consulte la lista completa de atributos en la documentación."
   ]
  },
  {
   "cell_type": "code",
   "execution_count": 4,
   "id": "43f08dfd",
   "metadata": {
    "slideshow": {
     "slide_type": "slide"
    }
   },
   "outputs": [
    {
     "data": {
      "image/png": "[encoded data removed]",
      "text/plain": [
       "<Figure size 432x288 with 1 Axes>"
      ]
     },
     "metadata": {
      "needs_background": "light"
     },
     "output_type": "display_data"
    }
   ],
   "source": [
    "x = np.linspace(-1.4, 1.4, 30)\n",
    "line1, line2, line3 = plt.plot(x, x, 'g--', x, x**2, 'r:', x, x**3, 'b^')\n",
    "line1.set_linewidth(3.0)\n",
    "line2.set_dash_capstyle(\"round\")\n",
    "line3.set_alpha(0.2)\n",
    "plt.show()"
   ]
  },
  {
   "cell_type": "markdown",
   "id": "c6786dcc",
   "metadata": {
    "slideshow": {
     "slide_type": "slide"
    }
   },
   "source": [
    "## Guardar una figura  \n",
    "\n",
    "Guardar una figura en el disco es tan simple como llamar a `savefig` con el nombre del archivo (o un objeto de archivo). Los formatos de imagen disponibles dependen del backend de gráficos que utilice."
   ]
  },
  {
   "cell_type": "code",
   "execution_count": 6,
   "id": "227a5f34",
   "metadata": {
    "scrolled": true,
    "slideshow": {
     "slide_type": "slide"
    }
   },
   "outputs": [
    {
     "data": {
      "image/png": "[encoded data removed]",
      "text/plain": [
       "<Figure size 432x288 with 1 Axes>"
      ]
     },
     "metadata": {
      "needs_background": "light"
     },
     "output_type": "display_data"
    }
   ],
   "source": [
    "x = np.linspace(-1.4, 1.4, 30)\n",
    "plt.plot(x, x**2)\n",
    "plt.savefig(\"my_square_function.png\", transparent=False)"
   ]
  },
  {
   "cell_type": "code",
   "execution_count": 7,
   "id": "1853fcd9",
   "metadata": {},
   "outputs": [
    {
     "data": {
      "image/png": "[encoded data removed]",
      "text/plain": [
       "<Figure size 432x288 with 1 Axes>"
      ]
     },
     "metadata": {
      "needs_background": "light"
     },
     "output_type": "display_data"
    }
   ],
   "source": [
    "x = np.linspace(-1.4, 1.4, 30)\n",
    "plt.plot(x, x**2)\n",
    "plt.savefig(\"my_square_function.jpg\", transparent=False)"
   ]
  },
  {
   "cell_type": "code",
   "execution_count": 8,
   "id": "f1ccf8c5",
   "metadata": {},
   "outputs": [
    {
     "data": {
      "image/png": "[encoded data removed]",
      "text/plain": [
       "<Figure size 432x288 with 1 Axes>"
      ]
     },
     "metadata": {
      "needs_background": "light"
     },
     "output_type": "display_data"
    }
   ],
   "source": [
    "x = np.linspace(-1.4, 1.4, 30)\n",
    "plt.plot(x, x**2)\n",
    "plt.savefig(\"my_square_function.pdf\", transparent=False)"
   ]
  },
  {
   "cell_type": "markdown",
   "id": "af01548a",
   "metadata": {
    "slideshow": {
     "slide_type": "slide"
    }
   },
   "source": [
    "## `subplots`  "
   ]
  },
  {
   "cell_type": "markdown",
   "id": "53624b08",
   "metadata": {
    "slideshow": {
     "slide_type": "slide"
    }
   },
   "source": [
    "Una figura de `matplotlib` puede contener varios subgráficos. "
   ]
  },
  {
   "cell_type": "markdown",
   "id": "ef10c0a5",
   "metadata": {
    "slideshow": {
     "slide_type": "slide"
    }
   },
   "source": [
    "Estos subgráficos están organizadas en una cuadrícula. "
   ]
  },
  {
   "cell_type": "markdown",
   "id": "08ed33d1",
   "metadata": {
    "slideshow": {
     "slide_type": "slide"
    }
   },
   "source": [
    "Para crear un subgráfico, simplemente llame a la función `subplot()` y especifique:\n",
    "\n",
    "* el número de filas y \n",
    "* columnas en la figura, y \n",
    "* el índice del subgráfico en la que desea dibujar (comenzando desde 1, luego de izquierda a derecha y de arriba a abajo). "
   ]
  },
  {
   "cell_type": "markdown",
   "id": "d4091f11",
   "metadata": {
    "slideshow": {
     "slide_type": "slide"
    }
   },
   "source": [
    "Tenga en cuenta que `pyplot` realiza un seguimiento del subgráfico actualmente activo (a la que puede obtener una referencia llamando a `plt.gca()`), por lo que cuando llama a la función `plot()`, se basa en el subgráfico activo."
   ]
  },
  {
   "cell_type": "code",
   "execution_count": null,
   "id": "ec279e1d",
   "metadata": {
    "slideshow": {
     "slide_type": "slide"
    }
   },
   "outputs": [],
   "source": [
    "x = np.linspace(-1.4, 1.4, 30)\n",
    "\n",
    "plt.subplot(2, 2, 1)  # 2 rows, 2 columns, 1st subplot = top left\n",
    "plt.plot(x, x)\n",
    "\n",
    "plt.subplot(2, 2, 2)  # 2 rows, 2 columns, 2nd subplot = top right\n",
    "plt.plot(x, x**2)\n",
    "\n",
    "plt.subplot(2, 2, 3)  # 2 rows, 2 columns, 3rd subplot = bottow left\n",
    "plt.plot(x, x**3)\n",
    "\n",
    "plt.subplot(2, 2, 4)  # 2 rows, 2 columns, 4th subplot = bottom right\n",
    "plt.plot(x, x**4)\n",
    "\n",
    "plt.show()"
   ]
  },
  {
   "cell_type": "markdown",
   "id": "3053902b",
   "metadata": {
    "slideshow": {
     "slide_type": "slide"
    }
   },
   "source": [
    "Tenga en cuenta que `subplot(223)` es una abreviatura de `subplot(2, 2, 3)`."
   ]
  },
  {
   "cell_type": "markdown",
   "id": "56e4de55",
   "metadata": {
    "slideshow": {
     "slide_type": "slide"
    }
   },
   "source": [
    "Es fácil crear subgráficos que abarquen varias celdas de cuadrícula de esta manera:"
   ]
  },
  {
   "cell_type": "code",
   "execution_count": 22,
   "id": "49619d39",
   "metadata": {
    "slideshow": {
     "slide_type": "slide"
    }
   },
   "outputs": [
    {
     "data": {
      "image/png": "[encoded data removed]",
      "text/plain": [
       "<Figure size 432x288 with 3 Axes>"
      ]
     },
     "metadata": {
      "needs_background": "light"
     },
     "output_type": "display_data"
    }
   ],
   "source": [
    "import numpy as np \n",
    "import matplotlib.pyplot as plt \n",
    "x = np.linspace(-3,3,8)  \n",
    "\n",
    "plt.subplot(2, 2, 1)  # 2 rows, 2 columns, 1st subplot = top left\n",
    "plt.plot(x, x)\n",
    "\n",
    "plt.subplot(2, 2, 2)  # 2 rows, 2 columns, 2nd subplot = top right\n",
    "plt.plot(x, x**2)\n",
    "\n",
    "plt.subplot(2, 2, 3)  # 2 rows, *1* column, 2nd subplot = bottom\n",
    "plt.plot(x, x**3)\n",
    "\n",
    "plt.show()"
   ]
  },
  {
   "cell_type": "markdown",
   "id": "ba8cf672",
   "metadata": {
    "slideshow": {
     "slide_type": "slide"
    }
   },
   "source": [
    "Si necesita un posicionamiento de subgráfico más complejo, puede usar `subplot2grid` en lugar de `subplot()`. "
   ]
  },
  {
   "cell_type": "markdown",
   "id": "cb66967b",
   "metadata": {
    "slideshow": {
     "slide_type": "slide"
    }
   },
   "source": [
    "Usted especifica el número de filas y columnas en la cuadrícula, luego la posición de su subgráfico en esa cuadrícula (arriba a la izquierda = (0,0)) y, opcionalmente, cuántas filas y/o columnas abarca. "
   ]
  },
  {
   "cell_type": "markdown",
   "id": "c67ad4a0",
   "metadata": {
    "slideshow": {
     "slide_type": "slide"
    }
   },
   "source": [
    "Por ejemplo:"
   ]
  },
  {
   "cell_type": "code",
   "execution_count": 9,
   "id": "03306b46",
   "metadata": {
    "slideshow": {
     "slide_type": "slide"
    }
   },
   "outputs": [
    {
     "data": {
      "image/png": "[encoded data removed]",
      "text/plain": [
       "<Figure size 432x288 with 4 Axes>"
      ]
     },
     "metadata": {
      "needs_background": "light"
     },
     "output_type": "display_data"
    }
   ],
   "source": [
    "plt.subplot2grid((3,3), (0, 0), rowspan=2, colspan=2)\n",
    "plt.plot(x, x**2)\n",
    "plt.subplot2grid((3,3), (0, 2))\n",
    "plt.plot(x, x**3)\n",
    "plt.subplot2grid((3,3), (1, 2), rowspan=2)\n",
    "plt.plot(x, x**4)\n",
    "plt.subplot2grid((3,3), (2, 0), colspan=2)\n",
    "plt.plot(x, x**5)\n",
    "plt.show()"
   ]
  },
  {
   "cell_type": "markdown",
   "id": "ef0f5900",
   "metadata": {
    "slideshow": {
     "slide_type": "slide"
    }
   },
   "source": [
    "Si necesita aún más flexibilidad en el posicionamiento de subparcelas, consulte [la documentación de GridSpec](https://matplotlib.org/2.0.2/users/gridspec.html)"
   ]
  },
  {
   "cell_type": "markdown",
   "id": "15810c3a",
   "metadata": {
    "slideshow": {
     "slide_type": "slide"
    }
   },
   "source": [
    "## Múltiples figuras"
   ]
  },
  {
   "cell_type": "markdown",
   "id": "abeb9503",
   "metadata": {
    "slideshow": {
     "slide_type": "slide"
    }
   },
   "source": [
    "También es posible dibujar varias figuras. "
   ]
  },
  {
   "cell_type": "markdown",
   "id": "0d307112",
   "metadata": {
    "slideshow": {
     "slide_type": "slide"
    }
   },
   "source": [
    "Cada figura puede contener una o más subtramas. Por defecto, `matplotlib` crea `figure(1)` automáticamente. "
   ]
  },
  {
   "cell_type": "markdown",
   "id": "0d05f616",
   "metadata": {
    "slideshow": {
     "slide_type": "slide"
    }
   },
   "source": [
    "Cuando cambia de figura, `pyplot` realiza un seguimiento de la figura actualmente activa (a la que puede obtener una referencia llamando a `plt.gcf()`), y la subtrama activa de esa figura se convierte en la subtrama actual."
   ]
  },
  {
   "cell_type": "code",
   "execution_count": 10,
   "id": "743efa5f",
   "metadata": {
    "slideshow": {
     "slide_type": "slide"
    }
   },
   "outputs": [
    {
     "data": {
      "image/png": "[encoded data removed]",
      "text/plain": [
       "<Figure size 720x360 with 2 Axes>"
      ]
     },
     "metadata": {
      "needs_background": "light"
     },
     "output_type": "display_data"
    },
    {
     "data": {
      "image/png": "[encoded data removed]",
      "text/plain": [
       "<Figure size 432x288 with 2 Axes>"
      ]
     },
     "metadata": {
      "needs_background": "light"
     },
     "output_type": "display_data"
    }
   ],
   "source": [
    "x = np.linspace(-1.4, 1.4, 30)\n",
    "\n",
    "plt.figure(1)\n",
    "plt.subplot(211)\n",
    "plt.plot(x, x**2)\n",
    "plt.title(\"Square and Cube\")\n",
    "plt.subplot(212)\n",
    "plt.plot(x, x**3)\n",
    "\n",
    "plt.figure(2, figsize=(10, 5))\n",
    "plt.subplot(121)\n",
    "plt.plot(x, x**4)\n",
    "plt.title(\"y = x**4\")\n",
    "plt.subplot(122)\n",
    "plt.plot(x, x**5)\n",
    "plt.title(\"y = x**5\")\n",
    "\n",
    "plt.figure(1)      # back to figure 1, current subplot is 212 (bottom)\n",
    "plt.plot(x, -x**3, \"r:\")\n",
    "\n",
    "plt.show()"
   ]
  },
  {
   "cell_type": "markdown",
   "id": "0d19c539",
   "metadata": {
    "slideshow": {
     "slide_type": "slide"
    }
   },
   "source": [
    "## Máquina de estado de Pyplot: implícito vs explícito"
   ]
  },
  {
   "cell_type": "markdown",
   "id": "4430e04e",
   "metadata": {
    "slideshow": {
     "slide_type": "slide"
    }
   },
   "source": [
    "Hasta ahora, hemos utilizado la máquina de estado de Pyplot que realiza un seguimiento de la subtrama actualmente activa. Cada vez que llama a la función `plot`, pyplot simplemente se basa en la subtrama actualmente activa. "
   ]
  },
  {
   "cell_type": "markdown",
   "id": "b227dd54",
   "metadata": {
    "slideshow": {
     "slide_type": "slide"
    }
   },
   "source": [
    "También hace algo más de magia, como la creación automática de una figura y una trama secundaria cuando llamas a la trama, si aún no existen. "
   ]
  },
  {
   "cell_type": "markdown",
   "id": "91794438",
   "metadata": {
    "slideshow": {
     "slide_type": "slide"
    }
   },
   "source": [
    "Esta magia es conveniente en un entorno interactivo (como Jupyter)."
   ]
  },
  {
   "cell_type": "markdown",
   "id": "69144327",
   "metadata": {
    "slideshow": {
     "slide_type": "slide"
    }
   },
   "source": [
    "Pero cuando estás escribiendo un programa, lo explícito es mejor que lo implícito. "
   ]
  },
  {
   "cell_type": "markdown",
   "id": "144a5c41",
   "metadata": {
    "slideshow": {
     "slide_type": "slide"
    }
   },
   "source": [
    "El código explícito suele ser más fácil de depurar y mantener, y si no me cree, simplemente lea la segunda regla en Zen of Python:"
   ]
  },
  {
   "cell_type": "code",
   "execution_count": 11,
   "id": "91dfd0ac",
   "metadata": {
    "slideshow": {
     "slide_type": "slide"
    }
   },
   "outputs": [
    {
     "name": "stdout",
     "output_type": "stream",
     "text": [
      "The Zen of Python, by Tim Peters\n",
      "\n",
      "Beautiful is better than ugly.\n",
      "Explicit is better than implicit.\n",
      "Simple is better than complex.\n",
      "Complex is better than complicated.\n",
      "Flat is better than nested.\n",
      "Sparse is better than dense.\n",
      "Readability counts.\n",
      "Special cases aren't special enough to break the rules.\n",
      "Although practicality beats purity.\n",
      "Errors should never pass silently.\n",
      "Unless explicitly silenced.\n",
      "In the face of ambiguity, refuse the temptation to guess.\n",
      "There should be one-- and preferably only one --obvious way to do it.\n",
      "Although that way may not be obvious at first unless you're Dutch.\n",
      "Now is better than never.\n",
      "Although never is often better than *right* now.\n",
      "If the implementation is hard to explain, it's a bad idea.\n",
      "If the implementation is easy to explain, it may be a good idea.\n",
      "Namespaces are one honking great idea -- let's do more of those!\n"
     ]
    }
   ],
   "source": [
    "import this "
   ]
  },
  {
   "cell_type": "markdown",
   "id": "e86fadfc",
   "metadata": {
    "slideshow": {
     "slide_type": "slide"
    }
   },
   "source": [
    "Afortunadamente, `Pyplot` le permite ignorar la máquina de estado por completo, por lo que puede escribir un código bellamente explícito. "
   ]
  },
  {
   "cell_type": "markdown",
   "id": "0eb264cf",
   "metadata": {
    "slideshow": {
     "slide_type": "slide"
    }
   },
   "source": [
    "Simplemente llame a la función `subplots` y use el objeto de figura y la lista de objetos de ejes que se devuelven. "
   ]
  },
  {
   "cell_type": "markdown",
   "id": "c40671c2",
   "metadata": {
    "slideshow": {
     "slide_type": "slide"
    }
   },
   "source": [
    "¡No más magia! Por ejemplo:"
   ]
  },
  {
   "cell_type": "code",
   "execution_count": null,
   "id": "bbf7685e",
   "metadata": {
    "slideshow": {
     "slide_type": "slide"
    }
   },
   "outputs": [],
   "source": [
    "x = np.linspace(-2, 2, 200)\n",
    "fig1, (ax_top, ax_bottom) = plt.subplots(2, 1, sharex=True)\n",
    "fig1.set_size_inches(10,5)\n",
    "line1, line2 = ax_top.plot(x, np.sin(3*x**2), \"r-\", x, np.cos(5*x**2), \"b-\")\n",
    "line3, = ax_bottom.plot(x, np.sin(3*x), \"r-\")\n",
    "ax_top.grid(True)\n",
    "\n",
    "fig2, ax = plt.subplots(1, 1)\n",
    "ax.plot(x, x**2)\n",
    "plt.show()"
   ]
  },
  {
   "cell_type": "markdown",
   "id": "bce2516a",
   "metadata": {
    "slideshow": {
     "slide_type": "slide"
    }
   },
   "source": [
    "Para mantener la coherencia, continuaremos usando la máquina de estado de pyplot en el resto de este tutorial, pero recomendamos usar la interfaz orientada a objetos en sus programas."
   ]
  },
  {
   "cell_type": "markdown",
   "id": "cca31d55",
   "metadata": {
    "slideshow": {
     "slide_type": "slide"
    }
   },
   "source": [
    "## Dibujar texto"
   ]
  },
  {
   "cell_type": "markdown",
   "id": "db7d37f2",
   "metadata": {
    "slideshow": {
     "slide_type": "slide"
    }
   },
   "source": [
    "Puede llamar a la función `.text()` para agregar texto en cualquier ubicación en el gráfico. "
   ]
  },
  {
   "cell_type": "markdown",
   "id": "c66fc54b",
   "metadata": {
    "slideshow": {
     "slide_type": "slide"
    }
   },
   "source": [
    "Simplemente especifique las coordenadas horizontales y verticales y el texto, y opcionalmente algunos atributos adicionales. "
   ]
  },
  {
   "cell_type": "markdown",
   "id": "20fcfd5f",
   "metadata": {
    "slideshow": {
     "slide_type": "slide"
    }
   },
   "source": [
    "Cualquier texto en `matplotlib` puede contener expresiones en lenguaje LaTeX para las ecuaciones, consulte la documentación para obtener más detalles."
   ]
  },
  {
   "cell_type": "code",
   "execution_count": 12,
   "id": "a8b4e0d6",
   "metadata": {
    "slideshow": {
     "slide_type": "slide"
    }
   },
   "outputs": [
    {
     "data": {
      "image/png": "[encoded data removed]",
      "text/plain": [
       "<Figure size 432x288 with 1 Axes>"
      ]
     },
     "metadata": {
      "needs_background": "light"
     },
     "output_type": "display_data"
    }
   ],
   "source": [
    "x = np.linspace(-1.5, 1.5, 30)\n",
    "px = 0.8\n",
    "py = px**2\n",
    "\n",
    "plt.plot(x, x**2, \"b-\", px, py, \"ro\")\n",
    "\n",
    "plt.text(0, 1.5, \"Square function\\n$y = x^2$\", fontsize=20, color='blue', \\\n",
    "         horizontalalignment=\"center\")\n",
    "plt.text(px - 0.08, py, \"Beautiful point\", ha=\"right\", weight=\"heavy\")\n",
    "plt.text(px+0.1, py, \"x = %0.2f\\ny = %0.2f\"%(px, py), rotation=30, color='gray')\n",
    "\n",
    "plt.show()"
   ]
  },
  {
   "cell_type": "markdown",
   "id": "9332c1c2",
   "metadata": {
    "slideshow": {
     "slide_type": "slide"
    }
   },
   "source": [
    "Nota: `ha` es un alias para `horizontalalignment`  \n",
    "Para obtener más propiedades de texto, visite [la documentación](https://matplotlib.org/2.0.2/users/text_props.html)."
   ]
  },
  {
   "cell_type": "markdown",
   "id": "5bb26733",
   "metadata": {
    "slideshow": {
     "slide_type": "slide"
    }
   },
   "source": [
    "Es bastante frecuente anotar elementos de un gráfico, como el hermoso punto de arriba. "
   ]
  },
  {
   "cell_type": "markdown",
   "id": "19e308bd",
   "metadata": {
    "slideshow": {
     "slide_type": "slide"
    }
   },
   "source": [
    "La función `annotate()` lo hace fácil: simplemente indique la ubicación del punto de interés y la posición del texto, además de, opcionalmente, algunos atributos adicionales para el texto y la flecha."
   ]
  },
  {
   "cell_type": "code",
   "execution_count": null,
   "id": "23a6ab3c",
   "metadata": {
    "slideshow": {
     "slide_type": "slide"
    }
   },
   "outputs": [],
   "source": [
    "plt.plot(x, x**2, px, py, \"ro\")\n",
    "plt.annotate(\"Beautiful point\", xy=(px, py), xytext=(px-1.3,py+0.5),\n",
    "                           color=\"green\", weight=\"heavy\", fontsize=14,\n",
    "                           arrowprops={\"facecolor\": \"lightgreen\"})\n",
    "plt.show()"
   ]
  },
  {
   "cell_type": "markdown",
   "id": "7b20a36b",
   "metadata": {
    "slideshow": {
     "slide_type": "slide"
    }
   },
   "source": [
    "También puede agregar un cuadro delimitador alrededor de su texto usando el atributo `bbox`:"
   ]
  },
  {
   "cell_type": "code",
   "execution_count": null,
   "id": "040e48f8",
   "metadata": {
    "slideshow": {
     "slide_type": "slide"
    }
   },
   "outputs": [],
   "source": [
    "plt.plot(x, x**2, px, py, \"ro\")\n",
    "\n",
    "bbox_props = dict(boxstyle=\"rarrow,pad=0.3\", ec=\"b\", lw=2, fc=\"lightblue\")\n",
    "plt.text(px-0.2, py, \"Beautiful point\", bbox=bbox_props, ha=\"right\")\n",
    "\n",
    "bbox_props = dict(boxstyle=\"round4,pad=1,rounding_size=0.2\", ec=\"black\", fc=\"#EEEEFF\", lw=5)\n",
    "plt.text(0, 1.5, \"Square function\\n$y = x^2$\", fontsize=20, color='black', ha=\"center\", bbox=bbox_props)\n",
    "\n",
    "plt.show()"
   ]
  },
  {
   "cell_type": "markdown",
   "id": "eb2921d8",
   "metadata": {
    "slideshow": {
     "slide_type": "slide"
    }
   },
   "source": [
    "Solo por diversión, si desea un gráfico de estilo xkcd, simplemente dibuje dentro de una sección con plt.xkcd():"
   ]
  },
  {
   "cell_type": "code",
   "execution_count": null,
   "id": "245c24bf",
   "metadata": {
    "slideshow": {
     "slide_type": "slide"
    }
   },
   "outputs": [],
   "source": [
    "with plt.xkcd():\n",
    "    plt.plot(x, x**2, px, py, \"ro\")\n",
    "\n",
    "    bbox_props = dict(boxstyle=\"rarrow,pad=0.3\", ec=\"b\", lw=2, fc=\"lightblue\")\n",
    "    plt.text(px-0.2, py, \"Beautiful point\", bbox=bbox_props, ha=\"right\")\n",
    "\n",
    "    bbox_props = dict(boxstyle=\"round4,pad=1,rounding_size=0.2\", ec=\"black\", fc=\"#EEEEFF\", lw=5)\n",
    "    plt.text(0, 1.5, \"Square function\\n$y = x^2$\", fontsize=20, color='black', ha=\"center\", bbox=bbox_props)\n",
    "\n",
    "    plt.show()"
   ]
  },
  {
   "cell_type": "markdown",
   "id": "24054f5b",
   "metadata": {
    "slideshow": {
     "slide_type": "slide"
    }
   },
   "source": [
    "## Leyendas"
   ]
  },
  {
   "cell_type": "markdown",
   "id": "a80328c6",
   "metadata": {
    "slideshow": {
     "slide_type": "slide"
    }
   },
   "source": [
    "La forma más sencilla de agregar una leyenda es establecer una etiqueta en todas las líneas y luego llamar a la función `legend()`."
   ]
  },
  {
   "cell_type": "code",
   "execution_count": null,
   "id": "5d11e3a2",
   "metadata": {
    "slideshow": {
     "slide_type": "slide"
    }
   },
   "outputs": [],
   "source": [
    "x = np.linspace(-1.4, 1.4, 50)\n",
    "plt.plot(x, x**2, \"r--\", label=\"Square function\")\n",
    "plt.plot(x, x**3, \"g-\", label=\"Cube function\")\n",
    "plt.legend(loc=\"best\")\n",
    "plt.grid(True)\n",
    "plt.show()"
   ]
  },
  {
   "cell_type": "markdown",
   "id": "107bf741",
   "metadata": {
    "slideshow": {
     "slide_type": "slide"
    }
   },
   "source": [
    "## Escalas no lineales"
   ]
  },
  {
   "cell_type": "markdown",
   "id": "6f183df7",
   "metadata": {
    "slideshow": {
     "slide_type": "slide"
    }
   },
   "source": [
    "`Matplotlib` admite escalas no lineales, como escalas logarítmicas o logit."
   ]
  },
  {
   "cell_type": "code",
   "execution_count": 13,
   "id": "4af98f21",
   "metadata": {
    "slideshow": {
     "slide_type": "slide"
    }
   },
   "outputs": [
    {
     "name": "stderr",
     "output_type": "stream",
     "text": [
      "<ipython-input-13-cb1b3b44c470>:24: MatplotlibDeprecationWarning: The 'linthreshy' parameter of __init__() has been renamed 'linthresh' since Matplotlib 3.3; support for the old name will be dropped two minor releases later.\n",
      "  plt.yscale('symlog', linthreshy=0.05)\n"
     ]
    },
    {
     "data": {
      "image/png": "[encoded data removed]",
      "text/plain": [
       "<Figure size 432x288 with 1 Axes>"
      ]
     },
     "metadata": {
      "needs_background": "light"
     },
     "output_type": "display_data"
    },
    {
     "data": {
      "image/png": "[encoded data removed]",
      "text/plain": [
       "<Figure size 432x288 with 1 Axes>"
      ]
     },
     "metadata": {
      "needs_background": "light"
     },
     "output_type": "display_data"
    },
    {
     "data": {
      "image/png": "[encoded data removed]",
      "text/plain": [
       "<Figure size 432x288 with 1 Axes>"
      ]
     },
     "metadata": {
      "needs_background": "light"
     },
     "output_type": "display_data"
    },
    {
     "data": {
      "image/png": "[encoded data removed]",
      "text/plain": [
       "<Figure size 432x288 with 1 Axes>"
      ]
     },
     "metadata": {
      "needs_background": "light"
     },
     "output_type": "display_data"
    }
   ],
   "source": [
    "x = np.linspace(0.1, 15, 500)\n",
    "y = x**3/np.exp(2*x)\n",
    "\n",
    "plt.figure(1)\n",
    "plt.plot(x, y)\n",
    "plt.yscale('linear')\n",
    "plt.title('linear')\n",
    "plt.grid(True)\n",
    "\n",
    "\n",
    "plt.figure(2)\n",
    "plt.plot(x, y)\n",
    "plt.yscale('log')\n",
    "plt.title('log')\n",
    "plt.grid(True)\n",
    "\n",
    "\n",
    "\n",
    "plt.show()"
   ]
  },
  {
   "cell_type": "markdown",
   "id": "12b6b3c8",
   "metadata": {
    "slideshow": {
     "slide_type": "slide"
    }
   },
   "source": [
    "## Ticks y tickers"
   ]
  },
  {
   "cell_type": "markdown",
   "id": "12233cda",
   "metadata": {
    "slideshow": {
     "slide_type": "slide"
    }
   },
   "source": [
    "Los axes tienen pequeñas marcas llamadas \"ticks\". "
   ]
  },
  {
   "cell_type": "markdown",
   "id": "5b6815a5",
   "metadata": {
    "slideshow": {
     "slide_type": "slide"
    }
   },
   "source": [
    "Para ser precisos, los \"ticks\" son las ubicaciones de las marcas (por ejemplo, (-1, 0, 1)), las \"líneas de marca\" son las líneas pequeñas dibujadas en esas ubicaciones, las \"etiquetas de marca\" son las etiquetas dibujadas junto a la las líneas de tick y los \"tickers\" son objetos que son capaces de decidir dónde colocar los ticks. "
   ]
  },
  {
   "cell_type": "markdown",
   "id": "28bc67f5",
   "metadata": {
    "slideshow": {
     "slide_type": "slide"
    }
   },
   "source": [
    "Los tickers predeterminados suelen hacer un buen trabajo al colocar entre 5 y 8 ticks a una distancia razonable entre sí."
   ]
  },
  {
   "cell_type": "markdown",
   "id": "adb34df1",
   "metadata": {
    "slideshow": {
     "slide_type": "slide"
    }
   },
   "source": [
    "Pero a veces necesita más control (p. ej., hay demasiadas etiquetas de marca en el gráfico logit anterior). "
   ]
  },
  {
   "cell_type": "markdown",
   "id": "dea59c2f",
   "metadata": {
    "slideshow": {
     "slide_type": "slide"
    }
   },
   "source": [
    "Afortunadamente, `matplotlib` le brinda control total sobre los ticks. "
   ]
  },
  {
   "cell_type": "markdown",
   "id": "0b66e6c0",
   "metadata": {
    "slideshow": {
     "slide_type": "slide"
    }
   },
   "source": [
    "Incluso puedes activar ticks menores."
   ]
  },
  {
   "cell_type": "code",
   "execution_count": 14,
   "id": "274aece2",
   "metadata": {
    "slideshow": {
     "slide_type": "slide"
    }
   },
   "outputs": [
    {
     "data": {
      "image/png": "[encoded data removed]",
      "text/plain": [
       "<Figure size 1080x720 with 3 Axes>"
      ]
     },
     "metadata": {
      "needs_background": "light"
     },
     "output_type": "display_data"
    }
   ],
   "source": [
    "x = np.linspace(-2, 2, 100)\n",
    "\n",
    "plt.figure(1, figsize=(15,10))\n",
    "plt.subplot(131)\n",
    "plt.plot(x, x**3)\n",
    "plt.grid(True)\n",
    "plt.title(\"Default ticks\")\n",
    "\n",
    "ax = plt.subplot(132)\n",
    "plt.plot(x, x**3)\n",
    "ax.xaxis.set_ticks(np.arange(-2, 2, 1))\n",
    "plt.grid(True)\n",
    "plt.title(\"Manual ticks on the x-axis\")\n",
    "\n",
    "ax = plt.subplot(133)\n",
    "plt.plot(x, x**3)\n",
    "plt.minorticks_on()\n",
    "ax.tick_params(axis='x', which='minor', bottom=False)\n",
    "ax.xaxis.set_ticks([-2, 0, 1, 2])\n",
    "ax.yaxis.set_ticks(np.arange(-5, 5, 1))\n",
    "ax.yaxis.set_ticklabels([\"min\", -4, -3, -2, -1, 0, 1, 2, 3, \"max\"])\n",
    "plt.title(\"Manual ticks and tick labels\\n(plus minor ticks) on the y-axis\")\n",
    "\n",
    "\n",
    "plt.grid(True)\n",
    "\n",
    "plt.show()"
   ]
  },
  {
   "cell_type": "markdown",
   "id": "898c729f",
   "metadata": {
    "slideshow": {
     "slide_type": "slide"
    }
   },
   "source": [
    "## proyección polar"
   ]
  },
  {
   "cell_type": "markdown",
   "id": "5b665ef1",
   "metadata": {
    "slideshow": {
     "slide_type": "slide"
    }
   },
   "source": [
    "Dibujar un gráfico polar es tan fácil como establecer el atributo `projection` en `polar` al crear la subparcela(subplot)."
   ]
  },
  {
   "cell_type": "code",
   "execution_count": null,
   "id": "3cb4079b",
   "metadata": {
    "slideshow": {
     "slide_type": "slide"
    }
   },
   "outputs": [],
   "source": [
    "radius = 1\n",
    "theta = np.linspace(0, 2*np.pi*radius, 1000)\n",
    "\n",
    "plt.subplot(111, projection='polar')\n",
    "plt.plot(theta, np.sin(5*theta), \"g-\")\n",
    "plt.plot(theta, 0.5*np.cos(20*theta), \"b-\")\n",
    "plt.show()"
   ]
  },
  {
   "cell_type": "markdown",
   "id": "3a66b3bf",
   "metadata": {
    "slideshow": {
     "slide_type": "slide"
    }
   },
   "source": [
    "## proyección 3D"
   ]
  },
  {
   "cell_type": "markdown",
   "id": "3851264b",
   "metadata": {
    "slideshow": {
     "slide_type": "slide"
    }
   },
   "source": [
    "Trazar gráficos 3D es bastante sencillo. "
   ]
  },
  {
   "cell_type": "markdown",
   "id": "17d22527",
   "metadata": {
    "slideshow": {
     "slide_type": "slide"
    }
   },
   "source": [
    "Debe importar `Axes3D`, que registra la proyección `3d`. "
   ]
  },
  {
   "cell_type": "markdown",
   "id": "59f05c51",
   "metadata": {
    "slideshow": {
     "slide_type": "slide"
    }
   },
   "source": [
    "Luego cree una subparcela configurando `projection` en `3d`. "
   ]
  },
  {
   "cell_type": "markdown",
   "id": "bfd4e42b",
   "metadata": {
    "slideshow": {
     "slide_type": "slide"
    }
   },
   "source": [
    "Esto devuelve un objeto `Axes3DSubplot`, que puede usar para llamar a `plot_surface`, proporcionando coordenadas `x`, `y` y `z`, además de atributos opcionales."
   ]
  },
  {
   "cell_type": "code",
   "execution_count": 17,
   "id": "331eedc2",
   "metadata": {
    "slideshow": {
     "slide_type": "slide"
    }
   },
   "outputs": [
    {
     "data": {
      "image/png": "[encoded data removed]",
      "text/plain": [
       "<Figure size 864x288 with 1 Axes>"
      ]
     },
     "metadata": {
      "needs_background": "light"
     },
     "output_type": "display_data"
    }
   ],
   "source": [
    "import matplotlib \n",
    "from mpl_toolkits.mplot3d import Axes3D\n",
    "\n",
    "x = np.linspace(-5, 5, 50)\n",
    "y = np.linspace(-5, 5, 50)\n",
    "X, Y = np.meshgrid(x, y)\n",
    "R = np.sqrt(X**2 + Y**2)\n",
    "Z = np.sin(R)\n",
    "\n",
    "figure = plt.figure(1, figsize = (12, 4))\n",
    "subplot3d = plt.subplot(111, projection='3d')\n",
    "surface = subplot3d.plot_surface(X, Y, Z, rstride=1, cstride=1, cmap=matplotlib.cm.coolwarm, linewidth=0.1)\n",
    "plt.show()"
   ]
  },
  {
   "cell_type": "markdown",
   "id": "d34a0982",
   "metadata": {
    "slideshow": {
     "slide_type": "slide"
    }
   },
   "source": [
    "Otra forma de mostrar estos mismos datos es a través de un gráfico de contorno."
   ]
  },
  {
   "cell_type": "code",
   "execution_count": null,
   "id": "19bd6d5a",
   "metadata": {
    "slideshow": {
     "slide_type": "slide"
    }
   },
   "outputs": [],
   "source": [
    "plt.contourf(X, Y, Z, cmap=matplotlib.cm.coolwarm)\n",
    "plt.colorbar()\n",
    "plt.show()"
   ]
  },
  {
   "cell_type": "markdown",
   "id": "563d3d71",
   "metadata": {
    "slideshow": {
     "slide_type": "slide"
    }
   },
   "source": [
    "## Gráfico de dispersión"
   ]
  },
  {
   "cell_type": "markdown",
   "id": "7fd32863",
   "metadata": {
    "slideshow": {
     "slide_type": "slide"
    }
   },
   "source": [
    "Para dibujar un diagrama de dispersión, simplemente proporcione las coordenadas `x` e `y` de los puntos."
   ]
  },
  {
   "cell_type": "code",
   "execution_count": null,
   "id": "85c1e235",
   "metadata": {
    "slideshow": {
     "slide_type": "slide"
    }
   },
   "outputs": [],
   "source": [
    "from numpy.random import rand\n",
    "x, y = rand(2, 100)\n",
    "plt.scatter(x, y)\n",
    "plt.show()"
   ]
  },
  {
   "cell_type": "markdown",
   "id": "71a9e820",
   "metadata": {
    "slideshow": {
     "slide_type": "slide"
    }
   },
   "source": [
    "También puede proporcionar opcionalmente la escala de cada punto."
   ]
  },
  {
   "cell_type": "code",
   "execution_count": null,
   "id": "c440bf99",
   "metadata": {
    "slideshow": {
     "slide_type": "slide"
    }
   },
   "outputs": [],
   "source": [
    "x, y, scale = rand(3, 100)\n",
    "scale = 500 * scale ** 5\n",
    "plt.scatter(x, y, s=scale)\n",
    "plt.show()"
   ]
  },
  {
   "cell_type": "markdown",
   "id": "9aac5d21",
   "metadata": {
    "slideshow": {
     "slide_type": "slide"
    }
   },
   "source": [
    "Y, como de costumbre, hay una serie de otros atributos que puede configurar, como los colores de relleno (`fill`) y borde (`edge`) y el nivel alfa (`alpha`)."
   ]
  },
  {
   "cell_type": "code",
   "execution_count": null,
   "id": "36ae5410",
   "metadata": {
    "slideshow": {
     "slide_type": "slide"
    }
   },
   "outputs": [],
   "source": [
    "for color in ['red', 'green', 'blue']:\n",
    "    n = 100\n",
    "    x, y = rand(2, n)\n",
    "    scale = 500.0 * rand(n) ** 5\n",
    "    plt.scatter(x, y, s=scale, c=color, alpha=0.3, edgecolors='blue')\n",
    "\n",
    "plt.grid(True)\n",
    "\n",
    "plt.show()"
   ]
  },
  {
   "cell_type": "markdown",
   "id": "2a4b5bfe",
   "metadata": {
    "slideshow": {
     "slide_type": "slide"
    }
   },
   "source": [
    "## Líneas"
   ]
  },
  {
   "cell_type": "markdown",
   "id": "832dc56b",
   "metadata": {
    "slideshow": {
     "slide_type": "slide"
    }
   },
   "source": [
    "Puede dibujar líneas simplemente usando la función `plot()`, como lo hemos hecho hasta ahora. "
   ]
  },
  {
   "cell_type": "markdown",
   "id": "bf889358",
   "metadata": {
    "slideshow": {
     "slide_type": "slide"
    }
   },
   "source": [
    "Sin embargo, a menudo es conveniente crear una función de utilidad que trace una línea (aparentemente) infinita a lo largo del gráfico, dada una pendiente y una intersección. "
   ]
  },
  {
   "cell_type": "markdown",
   "id": "17cb2933",
   "metadata": {
    "slideshow": {
     "slide_type": "slide"
    }
   },
   "source": [
    "También puede usar las funciones `hlines` y `vlines` que trazan segmentos de línea horizontales y verticales. Por ejemplo:"
   ]
  },
  {
   "cell_type": "code",
   "execution_count": null,
   "id": "425a8251",
   "metadata": {
    "slideshow": {
     "slide_type": "slide"
    }
   },
   "outputs": [],
   "source": [
    "from numpy.random import randn\n",
    "\n",
    "def plot_line(axis, slope, intercept, **kargs):\n",
    "    xmin, xmax = axis.get_xlim()\n",
    "    plt.plot([xmin, xmax], [xmin*slope+intercept, xmax*slope+intercept], **kargs)\n",
    "\n",
    "x = randn(1000)\n",
    "y = 0.5*x + 5 + randn(1000)*2\n",
    "plt.axis([-2.5, 2.5, -5, 15])\n",
    "plt.scatter(x, y, alpha=0.2)\n",
    "plt.plot(1, 0, \"ro\")\n",
    "plt.vlines(1, -5, 0, color=\"red\")\n",
    "plt.hlines(0, -2.5, 1, color=\"red\")\n",
    "plot_line(axis=plt.gca(), slope=0.5, intercept=5, color=\"magenta\")\n",
    "plt.grid(True)\n",
    "plt.show()"
   ]
  },
  {
   "cell_type": "markdown",
   "id": "55a3f2d9",
   "metadata": {
    "slideshow": {
     "slide_type": "slide"
    }
   },
   "source": [
    "## Histogramas"
   ]
  },
  {
   "cell_type": "code",
   "execution_count": null,
   "id": "d4a1fcfd",
   "metadata": {
    "slideshow": {
     "slide_type": "slide"
    }
   },
   "outputs": [],
   "source": [
    "data = [1, 1.1, 1.8, 2, 2.1, 3.2, 3, 3, 3, 3]\n",
    "plt.subplot(211)\n",
    "plt.hist(data, bins = 10, rwidth=0.8)\n",
    "\n",
    "plt.subplot(212)\n",
    "plt.hist(data, bins = [1, 1.5, 2, 2.5, 3], rwidth=0.95)\n",
    "plt.xlabel(\"Value\")\n",
    "plt.ylabel(\"Frequency\")\n",
    "\n",
    "plt.show()"
   ]
  },
  {
   "cell_type": "code",
   "execution_count": null,
   "id": "adcf1fa2",
   "metadata": {
    "slideshow": {
     "slide_type": "slide"
    }
   },
   "outputs": [],
   "source": [
    "data1 = np.random.randn(400)\n",
    "data2 = np.random.randn(500) + 3\n",
    "data3 = np.random.randn(450) + 6\n",
    "data4a = np.random.randn(200) + 9\n",
    "data4b = np.random.randn(100) + 10\n",
    "\n",
    "plt.hist(data1, bins=5, color='g', alpha=0.75, label='bar hist') # default histtype='bar'\n",
    "plt.hist(data2, color='b', alpha=0.65, histtype='stepfilled', label='stepfilled hist')\n",
    "plt.hist(data3, color='r', histtype='step', label='step hist')\n",
    "plt.hist((data4a, data4b), color=('r','m'), alpha=0.55, histtype='barstacked', label=('barstacked a', 'barstacked b'))\n",
    "\n",
    "plt.xlabel(\"Value\")\n",
    "plt.ylabel(\"Frequency\")\n",
    "plt.legend()\n",
    "plt.grid(True)\n",
    "plt.show()"
   ]
  },
  {
   "cell_type": "markdown",
   "id": "22308dfd",
   "metadata": {
    "slideshow": {
     "slide_type": "slide"
    }
   },
   "source": [
    "## Imágenes"
   ]
  },
  {
   "cell_type": "markdown",
   "id": "37f5d64a",
   "metadata": {
    "slideshow": {
     "slide_type": "slide"
    }
   },
   "source": [
    "Leer, generar y trazar imágenes en `matplotlib` es bastante sencillo."
   ]
  },
  {
   "cell_type": "markdown",
   "id": "c44db76a",
   "metadata": {
    "slideshow": {
     "slide_type": "slide"
    }
   },
   "source": [
    "Para leer una imagen, simplemente importe el módulo `matplotlib.image` y llame a su función `imread`, pasándole el nombre del archivo (u objeto del archivo). "
   ]
  },
  {
   "cell_type": "markdown",
   "id": "894cd710",
   "metadata": {
    "slideshow": {
     "slide_type": "slide"
    }
   },
   "source": [
    "Esto devuelve los datos de la imagen, como una matriz NumPy. "
   ]
  },
  {
   "cell_type": "markdown",
   "id": "b5e36deb",
   "metadata": {
    "slideshow": {
     "slide_type": "slide"
    }
   },
   "source": [
    "Intentemos esto con la imagen `my_square_function.png` que guardamos anteriormente."
   ]
  },
  {
   "cell_type": "code",
   "execution_count": null,
   "id": "06253feb",
   "metadata": {
    "slideshow": {
     "slide_type": "slide"
    }
   },
   "outputs": [],
   "source": [
    "import matplotlib.image as mpimg\n",
    "\n",
    "img = mpimg.imread('my_square_function.png')\n",
    "print(img.shape, img.dtype)"
   ]
  },
  {
   "cell_type": "markdown",
   "id": "6340f46c",
   "metadata": {
    "slideshow": {
     "slide_type": "slide"
    }
   },
   "source": [
    "Hemos cargado una imagen de 288x432. Cada píxel está representado por una matriz de 4 elementos: niveles rojo, verde, azul y alfa, almacenados como flotantes de 32 bits entre 0 y 1. Ahora todo lo que tenemos que hacer es llamar a `imshow`:"
   ]
  },
  {
   "cell_type": "code",
   "execution_count": null,
   "id": "3fb8080b",
   "metadata": {
    "slideshow": {
     "slide_type": "slide"
    }
   },
   "outputs": [],
   "source": [
    "plt.imshow(img)\n",
    "plt.show()"
   ]
  },
  {
   "cell_type": "markdown",
   "id": "6391ead0",
   "metadata": {
    "slideshow": {
     "slide_type": "slide"
    }
   },
   "source": [
    "Tadaaa! Es posible que desee ocultar los ejes cuando muestra una imagen:"
   ]
  },
  {
   "cell_type": "code",
   "execution_count": null,
   "id": "2bd3bc10",
   "metadata": {
    "slideshow": {
     "slide_type": "slide"
    }
   },
   "outputs": [],
   "source": [
    "plt.imshow(img)\n",
    "plt.axis('off')\n",
    "plt.show()\n"
   ]
  },
  {
   "cell_type": "markdown",
   "id": "8270c26e",
   "metadata": {
    "slideshow": {
     "slide_type": "slide"
    }
   },
   "source": [
    "Es igual de fácil generar tu propia imagen:"
   ]
  },
  {
   "cell_type": "code",
   "execution_count": null,
   "id": "c309c355",
   "metadata": {
    "slideshow": {
     "slide_type": "slide"
    }
   },
   "outputs": [],
   "source": [
    "img = np.arange(100*100).reshape(100, 100)\n",
    "print(img)\n",
    "plt.imshow(img)\n",
    "plt.show()"
   ]
  },
  {
   "cell_type": "markdown",
   "id": "f49182cc",
   "metadata": {
    "slideshow": {
     "slide_type": "slide"
    }
   },
   "source": [
    "Como no proporcionamos niveles RGB, la función `imshow` asigna automáticamente los valores a un degradado de color. "
   ]
  },
  {
   "cell_type": "markdown",
   "id": "0c42a094",
   "metadata": {
    "slideshow": {
     "slide_type": "slide"
    }
   },
   "source": [
    "De forma predeterminada, el degradado de color va de azul (para valores bajos) a rojo (para valores altos), pero puede seleccionar otro mapa de colores. Por ejemplo:"
   ]
  },
  {
   "cell_type": "code",
   "execution_count": null,
   "id": "b1291778",
   "metadata": {
    "slideshow": {
     "slide_type": "slide"
    }
   },
   "outputs": [],
   "source": [
    "plt.imshow(img, cmap=\"hot\")\n",
    "plt.show()"
   ]
  },
  {
   "cell_type": "markdown",
   "id": "ba6983ef",
   "metadata": {
    "slideshow": {
     "slide_type": "slide"
    }
   },
   "source": [
    "También puede generar una imagen RGB directamente:"
   ]
  },
  {
   "cell_type": "code",
   "execution_count": null,
   "id": "5755af60",
   "metadata": {
    "slideshow": {
     "slide_type": "slide"
    }
   },
   "outputs": [],
   "source": [
    "img = np.empty((20,30,3))\n",
    "img[:, :10] = [0, 0, 0.6]\n",
    "img[:, 10:20] = [1, 1, 1]\n",
    "img[:, 20:] = [0.6, 0, 0]\n",
    "plt.imshow(img)\n",
    "plt.show()"
   ]
  },
  {
   "cell_type": "markdown",
   "id": "05d852d0",
   "metadata": {
    "slideshow": {
     "slide_type": "slide"
    }
   },
   "source": [
    "Dado que la matriz img es bastante pequeña (20x30), cuando la función `imshow` la muestra, aumenta la imagen al tamaño de la figura. "
   ]
  },
  {
   "cell_type": "markdown",
   "id": "cdb46fc1",
   "metadata": {
    "slideshow": {
     "slide_type": "slide"
    }
   },
   "source": [
    "Imagine estirar la imagen original, dejando espacios en blanco entre los píxeles originales. ¿Cómo `imshow` llena los espacios en blanco? "
   ]
  },
  {
   "cell_type": "markdown",
   "id": "8cbc8097",
   "metadata": {
    "slideshow": {
     "slide_type": "slide"
    }
   },
   "source": [
    "Bueno, de forma predeterminada, solo colorea cada píxel en blanco usando el color del píxel que no está en blanco más cercano. Esta técnica puede dar lugar a imágenes pixeladas. "
   ]
  },
  {
   "cell_type": "markdown",
   "id": "82ce010c",
   "metadata": {
    "slideshow": {
     "slide_type": "slide"
    }
   },
   "source": [
    "Si lo prefiere, puede utilizar un método de interpolación diferente, como la interpolación bilineal para rellenar los píxeles en blanco. Esto conduce a bordes borrosos, que pueden ser más agradables en algunos casos:"
   ]
  },
  {
   "cell_type": "code",
   "execution_count": null,
   "id": "2470216e",
   "metadata": {
    "slideshow": {
     "slide_type": "slide"
    }
   },
   "outputs": [],
   "source": [
    "plt.imshow(img, interpolation=\"bilinear\")\n",
    "plt.show()"
   ]
  },
  {
   "cell_type": "markdown",
   "id": "717f121b",
   "metadata": {
    "slideshow": {
     "slide_type": "slide"
    }
   },
   "source": [
    "## animaciones"
   ]
  },
  {
   "cell_type": "markdown",
   "id": "7a2c04f1",
   "metadata": {
    "slideshow": {
     "slide_type": "slide"
    }
   },
   "source": [
    "Aunque `matplotlib` se usa principalmente para generar imágenes, también es capaz de mostrar animaciones. Primero, necesita importar `matplotlib.animation`."
   ]
  },
  {
   "cell_type": "code",
   "execution_count": 19,
   "id": "4c1882f1",
   "metadata": {
    "slideshow": {
     "slide_type": "slide"
    }
   },
   "outputs": [],
   "source": [
    "import matplotlib.animation as animation"
   ]
  },
  {
   "cell_type": "markdown",
   "id": "f1248732",
   "metadata": {
    "slideshow": {
     "slide_type": "slide"
    }
   },
   "source": [
    "En el siguiente ejemplo, comenzamos creando puntos de datos, luego creamos un gráfico vacío, definimos la función de actualización que se llamará en cada iteración de la animación y, finalmente, agregamos una animación al gráfico mediante la creación de una instancia de FuncAnimation."
   ]
  },
  {
   "cell_type": "markdown",
   "id": "64c2d2ad",
   "metadata": {
    "slideshow": {
     "slide_type": "slide"
    }
   },
   "source": [
    "El constructor `FuncAnimation` toma una figura, una función de actualización y argumentos opcionales."
   ]
  },
  {
   "cell_type": "markdown",
   "id": "b0e8c82b",
   "metadata": {
    "slideshow": {
     "slide_type": "slide"
    }
   },
   "source": [
    " Especificamos que queremos una animación de 50 cuadros de duración, con 100 ms entre cada cuadro. "
   ]
  },
  {
   "cell_type": "markdown",
   "id": "238fcb0c",
   "metadata": {
    "slideshow": {
     "slide_type": "slide"
    }
   },
   "source": [
    "En cada iteración, `FuncAnimation` llama a nuestra función de actualización y le pasa el número de cuadro num (de 0 a 49 en nuestro caso) seguido de los argumentos adicionales que especificamos con fargs."
   ]
  },
  {
   "cell_type": "markdown",
   "id": "52ede2b4",
   "metadata": {
    "slideshow": {
     "slide_type": "slide"
    }
   },
   "source": [
    "Nuestra función de actualización simplemente establece que los datos de la línea sean los primeros números de puntos de datos (para que los datos se extraigan gradualmente) y, solo por diversión, también agregamos un pequeño número aleatorio a cada punto de datos para que la línea parezca moverse."
   ]
  },
  {
   "cell_type": "code",
   "execution_count": 20,
   "id": "5eca13c2",
   "metadata": {
    "slideshow": {
     "slide_type": "slide"
    }
   },
   "outputs": [],
   "source": [
    "x = np.linspace(-1, 1, 100)\n",
    "y = np.sin(x**2*25)\n",
    "data = np.array([x, y])\n",
    "\n",
    "fig = plt.figure()\n",
    "line, = plt.plot([], [], \"r-\") # start with an empty plot\n",
    "plt.axis([-1.1, 1.1, -1.1, 1.1])\n",
    "plt.plot([-0.5, 0.5], [0, 0], \"b-\", [0, 0], [-0.5, 0.5], \"b-\", 0, 0, \"ro\")\n",
    "plt.grid(True)\n",
    "plt.title(\"Marvelous animation\")\n",
    "\n",
    "# this function will be called at every iteration\n",
    "def update_line(num, data, line):\n",
    "    line.set_data(data[..., :num] + np.random.rand(2, num) / 25)  # we only plot the first `num` data points.\n",
    "    return line,\n",
    "\n",
    "line_ani = animation.FuncAnimation(fig, update_line, frames=50, fargs=(data, line), interval=100)\n",
    "plt.close() # call close() to avoid displaying the static plot"
   ]
  },
  {
   "cell_type": "markdown",
   "id": "21fd9b84",
   "metadata": {
    "slideshow": {
     "slide_type": "slide"
    }
   },
   "source": [
    "A continuación, mostremos la animación. Una opción es convertirlo a código HTML5 (usando una etiqueta <video>) y renderizar este código usando `IPython.display.HTML`:"
   ]
  },
  {
   "cell_type": "code",
   "execution_count": 21,
   "id": "6a7f4008",
   "metadata": {
    "scrolled": true,
    "slideshow": {
     "slide_type": "slide"
    }
   },
   "outputs": [
    {
     "data": {
      "text/html": [
       "<video width=\"432\" height=\"288\" controls autoplay loop>\n",
       "  <source type=\"video/mp4\" src=\"data:video/mp4;base64,AAAAIGZ0eXBNNFYgAAACAE00ViBpc29taXNvMmF2YzEAAAAIZnJlZQABG5JtZGF0AAACoAYF//+c\n",
       "3EXpvebZSLeWLNgg2SPu73gyNjQgLSBjb3JlIDE2MSAtIEguMjY0L01QRUctNCBBVkMgY29kZWMg\n",
       "LSBDb3B5bGVmdCAyMDAzLTIwMjAgLSBodHRwOi8vd3d3LnZpZGVvbGFuLm9yZy94MjY0Lmh0bWwg\n",
       "LSBvcHRpb25zOiBjYWJhYz0xIHJlZj0zIGRlYmxvY2s9MTowOjAgYW5hbHlzZT0weDM6MHgxMTMg\n",
       "bWU9aGV4IHN1Ym1lPTcgcHN5PTEgcHN5X3JkPTEuMDA6MC4wMCBtaXhlZF9yZWY9MSBtZV9yYW5n\n",
       "ZT0xNiBjaHJvbWFfbWU9MSB0cmVsbGlzPTEgOHg4ZGN0PTEgY3FtPTAgZGVhZHpvbmU9MjEsMTEg\n",
       "ZmFzdF9wc2tpcD0xIGNocm9tYV9xcF9vZmZzZXQ9LTIgdGhyZWFkcz05IGxvb2thaGVhZF90aHJl\n",
       "YWRzPTEgc2xpY2VkX3RocmVhZHM9MCBucj0wIGRlY2ltYXRlPTEgaW50ZXJsYWNlZD0wIGJsdXJh\n",
       "eV9jb21wYXQ9MCBjb25zdHJhaW5lZF9pbnRyYT0wIGJmcmFtZXM9MyBiX3B5cmFtaWQ9MiBiX2Fk\n",
       "YXB0PTEgYl9iaWFzPTAgZGlyZWN0PTEgd2VpZ2h0Yj0xIG9wZW5fZ29wPTAgd2VpZ2h0cD0yIGtl\n",
       "eWludD0yNTAga2V5aW50X21pbj0xMCBzY2VuZWN1dD00MCBpbnRyYV9yZWZyZXNoPTAgcmNfbG9v\n",
       "a2FoZWFkPTQwIHJjPWNyZiBtYnRyZWU9MSBjcmY9MjMuMCBxY29tcD0wLjYwIHFwbWluPTAgcXBt\n",
       "YXg9NjkgcXBzdGVwPTQgaXBfcmF0aW89MS40MCBhcT0xOjEuMDAAgAAAHEJliIQAEf/+94gfMstp\n",
       "+TrXchHnrS6tH1DuRnFepL3+IAAAAwAWnJlD+2HHzt/EY2w4AG2LYvuE+/81E13ZEFjvgFDEzGGM\n",
       "mUeh7NX4ZMlzNR2mW+/N7xOayMTR5HBn2pMaXAMpFnCEWQPYFVrKiVh944oMQTtnR4mPcJ279Oo4\n",
       "V2IUijc9Lewd/U3lUsl91XF39k+R6H2/d0L5e46kx6+qmn+6eE90+zQNAGNJsQ4+otB89mHNlqQT\n",
       "3HY8hRuIDp7N7R1ZOZbGOW9rgyfaEC+ectQrOHuxj3X/vQt/4H8ha7aiovqPdwP/XE3MG6tdFBI5\n",
       "XeCfMBF3NrMnY5UsQKJgE71wtxWnXzFH1CbwJdGxLjaEri39Vz7lgnicCUNrkjpuk5gmh4H32qLe\n",
       "ytiO3oxBZqS9z9Ex5n/TaaTIRXz1QGaaFBU2Zmm8lyRmrCU+JlfymL81Y641uvz4HNo4FCH/5zsQ\n",
       "bQ+ZCgtWbLR2t6z93WsaQeDfoxE1Xi5QI/SdEUq4GtkGh65YzK84NTRe14Xp7JlGXju4amx5YSD5\n",
       "pD3QBktuTld9uCsRQwg06kdgoZOi90HwEthXPVUC0/r1O6Prewy9JMKWiaefrP74REGHEoYM4znw\n",
       "T4P7nYaQv29ILeYylMtR5bGuEgI1gZ/PACSlhsdhniHTeGhfEb7fhFOXjjbf8P2ZCYHpIOFBdZU3\n",
       "0lpit8Ey+j6DJfyFTINVt3QniXzjjc2NYaAiwz5HagFpLK13cOI+kVO1RWo6tmT1MiN8t7/kEFV7\n",
       "3hBpJgbXdXhMN7sqCHuDfcdkmrRsTLmLQOWfDgjLZvBj5Ez4bdCbCAXcXosdoyxzDzeIixEKE8bq\n",
       "QVA5IkCFrhZ3IRNhxAt2oEQChWI5Lf1ffPPT45dIiNKxiv/4F/hA9yMyk2DSKkfAILuV0ZUaDNJR\n",
       "95G+N1/95x3cezJmpZ4pWN8cUOLPnN5jB5LInUd7kuaicaX3gcjY029oKrsIw1p6QnbPTyM/OmEm\n",
       "fh3dXyVK0uWyfzPL5cSXG79Uy4JZFz8VhU33wIuClghuMDiVhAoSmEbxhC0C7xli0saxaVyc+DPT\n",
       "zkRotoyXy9nViP04MBIGjC1tYaXRn2aSH2eO6wxQfv6NFW/sTC2YXA79M2k9dRQ7CjIIp+iUdWDA\n",
       "LE7HPn3NLCBnKCRutLaahtym8BiokpQE8xsxOS+I+Z4LcIAbAynepMgwIk4AIAUyPOQNJtNnRaBP\n",
       "/TzCL4QAtbGTvoOGD5dysXjH4cekhRFvYSVJLTgYExL/FD9UDRzL0b0gXhtvmT0wrej/jIdTUeLx\n",
       "M6qnnVU5mnUeyVhaZ3oAqB27YbfE//z7+Hj4hyNjzfoHlKmDfiI+VITdYVaxI/yKWlStVnobs+ow\n",
       "jUnPtosORhFGt1p99NNPanldKwaE17C5witUF6FkEj7lmKJ1xJoMKdw8XPtiPm24aB0z+IpC9/D/\n",
       "qkTL/iFSIkcZ0WZIOeQhRupTJ1XpoBWfdMq7rASZ7MgvQZUE8/l5M+tnkRNlWzHQy+tniWToGTWO\n",
       "g9NWSXwKEU4yCX6bvYKQb7zp64A1vyZXksh/x3HhubWvvKMBypWwjqvh8k0UJtcAUWNuCCv1jUhl\n",
       "8eY/gEIbdiXLK7h2vfotZNrYiPLySQ4oVamDQuj9U2oHWqzY0WrJQeVK2EdV8i/OIg5WRKmch33o\n",
       "W5h1vu7A7t/7gqbZ685dZk2xvHUBMM1qBivj/3P02QmX8ME6J1PZT+6EjU/mOGSPzbHv3qgv98ew\n",
       "KF3VJFWooLau17JJX65nXcWe8cCAWBaCp1sg2qEem6ZBf06UzHyqS/DV6ZO9MK0mWb0it9o8DleG\n",
       "vnknikjzWIfwfFvGCw66haVitr5LD1W7LYpiJ6CUm08fj4GL/LL3d8vI6zXeOLEXZCI95X4nem+4\n",
       "30cCNgjyNiDD0Dbc2mx5skj/o69UBPwK2msK1ps4ImN6DE1UpfUX6mdmVHl/mef4WmtS9HE4bquH\n",
       "cu+GJ70mxNZAaaGfkZu86oUOPQX3683Wx7BSPxIQDknJ/0SfQtCTJ3qApOK/lbJi0ANSHrdw4BsF\n",
       "HJGd7APo8oTnlFUAXnhK3AaF5L3azITWpEDn6K09iAR4QzfGMMBA3Vz9qFS0qbU0/3ff09qFH3r/\n",
       "ROtqDv+LsRELV53dJI8UB+3mSFqWIUIz//2znhTiPaUxMdIFq53jSozS7kE8aBIJh1HYSd+49zD1\n",
       "mZ7CcJe/8EpP+AOXq1VyoPfC+HutRU54moDCaQah4s5lC2V76qT8IMg0QnSCcXffTZjZZpmE8ebo\n",
       "zh3jfAykoJcc/PZugYGuliWqp8KcEEHHnz0mvzMYin4gaVDBW/udta0fZLBMdqjspRFHIXLtq/4h\n",
       "PPBtcCUupxteXZ1aivjBUZWwWIn+i6kh4pitwxlySl9cHuKjHRMKokFvCi7StsVWx23S6NTLJHxX\n",
       "tJWCVNgkB2NT6V2d5O4pD0DBQ3SyWkYz1xKm97b5DcDpvkv3UKc6f0wSsZIe0EviH/T+tQ5wZN1C\n",
       "9s4JtlifH1aJSjvoFkrLmbRrN+Mn2bEBtw6w06vWnJUWYAKdPVaFGu7y/0K9nRTm80Z/phH8aQ2u\n",
       "8TNJ13p7165O83UubMzZMzvcI5s5pAQCSUhZE5WJGAmLIQlBCmJgrR7ozB762S4b+Zq9UBOHxVzz\n",
       "lipIngYikBXCLFWD5QzH56F8gT/+GCeAN0UrhZRPGikBCQRbfFLUKp44CVD+B8DV9XU6QJ+tMPmK\n",
       "Xm/9ATPIHtZx9BTIBfMDQTzSGcDOvtfuIdlxzsNMlcJ9z+K4+aHb0qlm+gmN8HBRMm46q/GctO9+\n",
       "AX8A0kizWVsJekPqAiaqYvq8+7V10gRN6qD+fUCAu1I1os6MdN3Id7K4Mcrva16H9QPBhhgMxeXA\n",
       "V0NwXQ6BFwkY7qcRzHGD9lYmoAaMFcWfMPRCAGGXzQ8N3XknKpOv6Sb+DP5MSCqidoO9LxcoB/X+\n",
       "ImcUWiuKnzxpMvizbCrQXsdZtNn97lSEqJP1KQxNLF7jmDPk0Cfuw8LjyjYpo9Zwxl4hKPAMMrmk\n",
       "nfMyzTyHrtQBVNognWe+7zH7XOVKo0KnDaYgrlheMIoWveC5qYMs5DFLKF2rI9rP7gN3sZxcF21r\n",
       "uR3suStKz1nW8YPkuGeS8nq8qC4ZkLaYeZEWNhrACcNwW6S5Qe1IcVWuKIMpjiklOjgeenGxTuDU\n",
       "OED6UvE5xplB6HqIRBH2t+2LCt790kZmyCkDxMKoId6K9KINxzjLV/5ZmKtO7nhVOFjJfTH2xUFD\n",
       "JtQrZFPIrSYq46OBZrNqpu+myNfg74QnjZSuXaDQo0rirHqZ3Kfmt4PeWlgrVKzfUREb7PMaOA7s\n",
       "/UpBixY7iFXFCopHTGv6LpQ2Scaa5t/KAxcVftMIwCWd3Eiqoc2Xw8H5SNx+jCVKqhRu10lEw6hg\n",
       "MYemi+vcYJuu3rrqf14PMRZ7DxolBJe/UmMK75hBsf/vdUnKzcXK8FAuGqqpnEWT6qQQzvNfTjWR\n",
       "N0v4/mY9uQ+FnC/g31Se72mAQDpvphQOHLf+A8mkXqqyQ0gI24D+qr5LyQrS3OX/ropJwOnllbDQ\n",
       "3s0IzSHmjd8+OFj1fLYWj/XVXmKXZafz/TViOl4PS2IKD5/7HTpBEX9UxWbUpUmDFe85KTm9ZZPt\n",
       "KXJ1EpUAujiMVm1jE2h6i8YXH0GnaPzML8op363RRoLBXHbPeG6It3S/wY4cfbRQyP3+d4EmsHfF\n",
       "uHwyB+rzq561mYl5ec2JSH9JoorY9AvJMqxe0ztYUpsmryQ54D9jvdYtBclc4TcgkXf316rmCtOV\n",
       "U7icMwwXDjZpmQT++VWVgaTX0TVipjRGcfGPfmvpQ6wFemwY6ksvkA2i44M0QBudKoM12vy3B1eN\n",
       "cOq/uBkJnc7kgaWBFsJDEWPjiSalxjeUSe8zgrtsjnaf///zu/StS8tsSOjloxkF3kjwflAqrwRZ\n",
       "uBAf7OElC6WulufkCW+j1SchFPGFuDgCrpa7g/rny/h8UucOqZv9KXSUYF3PeMro3syX4BeiQZ73\n",
       "n+zlJfpp3/1DkKpC0Yu4qy3FilBsMMrYCRfmCTVtc3asjc2gLCtqtyDriOr4hDYn0zeEa+GGRpj+\n",
       "Ll+B6s6Et9iYxO+Dxgwx9H+LTvL6t4xrYpBZCDTOzSGRfUcq+KGrNnvH7Iwz5dnOwJjLOuV8jsNt\n",
       "xITBTIyfhAs0l/GWAsKmwNtCZTslXDs2U75xrhEf6Sp2hKQv9QgIEhU9gP1b1JO5KBntGvNdCROa\n",
       "/l+8PlSAQPzQJQ+uDCnh14Xnw1ldBi5IvbORxmT+hL0JDKJGSrcq0F5xmqAPe4rNusKxRsxeH7QK\n",
       "BJa8aDNPQUVotpju9u7+RfmCJeC8Z92EO1FrtncKp+qABqr05OiCNzQVPnHZglpo++U2Cst/rU4k\n",
       "aGz3ANgEbn+Q2WNG0fjLDEKUmFZImmnwaQ/xx0NjwgrXXYD+oCirSaM3fo40CC6i1+KAPOzFoDqe\n",
       "yjYFv0FeGQXMzS46rW+vJ2HrWAKQshwnP9pnQuAexyzvKdVz0PDjdpKMIYbn5O2vcdCB/SYjPR/Q\n",
       "ElDvggfa9OEpiGatsQT1CfMXw/yIGOWqGT0EYvLIpeCJJQB11c2cIboeIkKlsOYh/S71eOwjgZel\n",
       "vQIKRCoKyZmG74v0w7MvvSq2Bh/T0XE2O8PuPgglkQpSjt/0Ttawl5M+ZtJxf1rxmWMjIgkmXQEB\n",
       "8Bw45jd+Tg7cYz9NWujLRxJ6uUaeejlI9/sr1YyFt3EdPnfX7jclA0WHBGd8CzQhaDt+ftGZ81+m\n",
       "58RylvyQqCE+4BMvbRu/pcpFaYTLlYLcr81aFOPMa5+qlAej06lEsFlGa/YjdWX9JWSv/6iBelWi\n",
       "sgFpP5UmhPAkYAL1c53aD3UGg4Lq2n5AJabi9eAUY5TiAoGHHqF41JooHQgVSt780Mfdep6se0YY\n",
       "hMNjKHwtI/MjsEPWZV3mZ4ldQFPCPMfOJf7Yy2Cvo4lfP/bbZA5q+pr3/yMe81SLhB6gf496rrFJ\n",
       "Lv/ZuuCnrxEWMAUvisd3FTeTOJ4ydzoSyjPXqvalljmHnv66Yr4RZvrGeuAoAPTvo/Psr9o7qJlS\n",
       "BEGUh8wTrNu6wdR3f2d7YYayVW9hINVijjPEjLi7l4XZCRuNMCkvQ4w8CsIvzOfdj9P/0Q4YlEZY\n",
       "KI740p/WoiW85SXKPm2dhXoHCSX6q9jWTECtwSSRFCQdUhwdD2DKcCXLzQSCleudXN0xN8UC8coi\n",
       "CV/oONyCxvEa3e6A80+0Z+gl06B5SX0O8qHAZoJPHVOl7nieyebE/NwFZehNKOFdNRezti3TpMyD\n",
       "4OtI0gDav0ZbKYOVyQrveCr0f6OAdI4LPnS+zOwUJThjDCijzYPkaT8PS+Yy0rvOuCJIqbYcauLz\n",
       "cqPZzg/aCvdCwCF9ReRJVVkkHKAQbRpcs6J6My+095ZLGW4Uc+yr4yG0cy7NvHBw1rpPdj5uK7Tx\n",
       "vJ/uIVN7/a667f24+zvF/BV3p8/v6KKmVjk8sJCs0vbOJEUMKdcHAAUH8lAGhfovAB6h3DN00aRx\n",
       "/lWVbXhbgOktlJvldsP+X20r/xJMytlXU+w3/aIgiKujRKaaCoxaOyep0jezDhASSYXMrI1jq+x+\n",
       "Py0xEit8QLTO+6j0dujsi1vvugE3ZjZ3qb1dom2RNI2dimqt8L0gXiwt+NO5EkabTyjtZmFRuYNp\n",
       "7ChFHWkL7XS/+iF1idx/ed+jRhIyinGiM8MC+od5N089s5JQapBd8Su74Fzio7OY87REJ728Xqw6\n",
       "XkxVwAm2Q7zc0xn+rX0BCntcDQVhk4iRsMcd3t9UhXsfh6kWyTe8PirJckKKJtS5Sp50Cw4m+Rxl\n",
       "biGIs1zD0/4TO49EL87N74+kzuyTeXyaAApTRSRdYrhhSPYXOeykLs1SB4+5j24uKtLL+Uf/BzDl\n",
       "/u0NvMotXv4GwdszL6z7idGBUsqz5ggCaXvCxW6Jq6VRf2ZduJTwr49LhgSaa8+fjcCckPTcr+HG\n",
       "ORwk9t9MRLNY2ZUqx4ePLpZRwgE1WSTg2E0feB0YjnZ2Mn5z7m4lFPvq7lGIY5JTcfr3l6CclN80\n",
       "b6KYmr2rsgHBS9sFsrbB42vRU3XjD6rVlmhdcB0iWC6jgXsL8ZjgYgdGAs1kPI/8stFMwwpKz2jg\n",
       "kIlzPCWX8kTqA5Ng4jh7In488/q9pqsGVe2XwTOLrFwPc0bgB19YfQf/bwBT9DXTrN3p2emWqHGR\n",
       "7C8/XH5uKRvl3KGW5uaQnohJgE9hShak9yWDmx8Adg6jUHlL5HJwBOtTObYTNY+Mfv1uOYBwknYs\n",
       "9AJBxgZc7j9K3dJGsXjHCMz3QuhqYD/jpNA9XR4iDePMhb61RcKWp0Kfz1lQ/NJiAUZjOZ83M5El\n",
       "B0bMfcS3puHsmypVHA3RP7aGZC2G/lvRpGREIxZA/JbU0GBI/Hn8rCQZGhJH9TmIayhO79jMQppL\n",
       "yWQfl1Cqd6pU9uPHu43SY87EC3Jdv0cx8RAFCWlVp304QV6CLkIo783HHxGaBS2sAtOK8xIlKnfb\n",
       "4XbpnapKlVJ7JdmyClRwr9AQJgnUuiEm5sF09tGabAfS//5SZVTrC0pIDAfuJ+rtLiYMGwvkGFW2\n",
       "mo3bCvp/onL3d70MLBNgjL5Fc7pqj90kgQFIaUYo9DZk47n/tj29rs7WPkGns3bLpQQO42Pms6l7\n",
       "hsHj44Cq9llvXkTVOq6wAjHui93PV3jBS34FOUJK1/QcMUGXP5/YpVOHo3sdnns6N85SvMJp6/zv\n",
       "9l1J5px8i+8aeVlYIrimNs22jXexwS/heOG4tp8+wLoLPJdcZvRSri7xJhCBx93T8On85iDgcxiA\n",
       "iI+HSbv/7sIt7MWfFNFCDfviGLL5RWy7INAMyTeYYxqrz8FJmZCJP8X6piAVo5DuhF1YhFpy5AcA\n",
       "o7uKj2SBT9Pa5gw0USkUOIpVx1WTgB2/Q383alNeGrRi9JNWF+K2+xmXh/y4vUo67lugxJlPWb1S\n",
       "onpR7dVxfCVbnHRJ4GzCOMGBtvoEq2z/6j9KzTbPl/9GRErczqBOseP/OdLDq6fVYZX/vf+t6ryb\n",
       "Lp05KfH667u8ND+YqR+6SCanRcAt//Twg3h1YC8W0jW85KczGRj9rB+leR8vyM1O5YKkoUQu7002\n",
       "6QRBfoGDuBAiKoChTPp9WpSu9TJT3jfZv32tr4UdU9EMibYAYBMT2MXDcXNeC4s0TMyHaXMDCum4\n",
       "O5mf7vCZ/5wpfHEOut1eRfFdIY+a6Wy5fYC7xh0Uzi6HQ3ESts3iUAlYwTIjFe8IpOpKaIsne1nJ\n",
       "iNTWuQme9eR6wFfYRECBCV8AAATNtH6IxiiQpJHlICVPl6idPZzTg7p4f+H3A1D7DQUljqgpHY0E\n",
       "zmodYcFye+lah5/cK1TJuBBYe0wijauRbMaswVaG08Li0oiTVXuGmUK62r7dOq+3tpgzkNuQMGPY\n",
       "GZNTCBeWdN4lVY/PuShcPD4x782BlADJj7/t7GwcetZC6tUikRuJotVmLYfkCzCDt1QkVKLh2M+1\n",
       "TSHL95/z03NazWq1EvnXjHZaJltO29Yiedj3Ne3LFuqAvI5WeC3PPZf1unLpS6YL9OdC7lMo7WfT\n",
       "6hs21JZ7K+naG7T7hYjkqeLPPeCpAe3vUwDB7YP3csfjhM8NM2hD2RGAZqyuEnzjs6qNgOA6Lp3q\n",
       "+IV8KuOn9eyb/16XuSAB9n5inwWSZwENtLMuJOpMSCFpokKVJ5Yj3Xwj/ZscsAaKOUZBTFP1EZVt\n",
       "hsuQOOpyNUXvIugN1OS0Oe/mzNgDh8kKLpl2YpvH0XTwwdaaPPvr3OwstK6QzOJ5spBnAUBNjr4Q\n",
       "PwOxUyB0gmuZN/2l6A2SOt+hT5zYe1cueDlx8fvS/11HnlsJ9ZeOtzafAtX++AYuDwJde+WIO8U5\n",
       "w6MiZiYlIFC23Z94ssRwseCqTouJF533GQoDMunXBqi9U9//scJGRrbGvfL3U7oi6sV+dVJWrrs4\n",
       "xcNQCxL3YkEiKaE5fU66ud4RcTDBn47y/CnQgtBp3GQ17Lo9/N5esgKtlok811h5qGyFSJG05/LT\n",
       "vzWPHBbTLq7y3P8IU3aOm7Lv+9McNie6TPUmMgtsrUtzNOBjoF99ppwF+k+KHNkxB8XSlFWiWtk0\n",
       "ykyisr5rLY338/q14uYSv5frtUSkhT4Lha+SJxzzEcEiyaykrnVvGmd2APXnuQ1KSKvI25TRFrR6\n",
       "FnleKIU4f0Amneo9nx0X+Ey5n0Jvk/z0m4yAyFjfdXw8RQDH9fwyATqtWNtI6qcZLL4NGcA1bLqA\n",
       "+mhvCnw1CjHpc8MsLE5QTK3MuO+7cSyc44Jk3Gpu0PPRLb2/QE5P/VQpSNne6KCm3DtTdt8eidB8\n",
       "nckDbWw+vU96mRCG8HtWQkBmnXC9VGbT63avwoE84y+3ahTB2dv3bEtN3wl6HdJhNHuw+yax1VVX\n",
       "LJqBgYcmY5cRcOsbJz/xAl0xcYb4t3nuVXzSYZcs8M2X+bDL8DpcNNTf/nS2cmJ+NPwrHnHjk/7U\n",
       "ITNbw/oMlwhHGnMGxGfSCpUhEof9wdD4AzNbNuArBaGGZ/7bMM7fb7BJdv22ifr+meXgqBxCG7Qd\n",
       "lD1nQURa9jJwHtd/cBxF7cCwzm+2PvQ+/SMDIL1mRzVXLi5qwX6vEV9ixEGSwnDXmCp5gnDcFxPf\n",
       "SZe0fo01IaZMasx+eON7H971G9x1KNKXlwYMU94URViSayWA6/uVQf2Kct6iBmA8gpA8Yim4neiv\n",
       "SiDU84yxreWBmrQRpKy+U9fVWixz7n2L4SaXTBcWEnz3dD62+1gsKstJa2uBB5x+MTKvvhf//ynw\n",
       "f9BgSUyM3B7y0sHKrie/AleSdTsRp/ZPRWwYs+p6e5Q2+dyx8L6VoWXyJGGqcWmgdWK0B4cK3fj9\n",
       "Tx3xrZFWxQQBqY7/8D0eTkfjkMj3kD80ZiTbO79lZzUsmw5F3a46ZCcN+bt+Nhf4ZmhwlnmKe76U\n",
       "pfmbOX6xHjk53/4ZzkGTv+kB0ZqnjsOOnfaEz/gyL262tX2K2MGyv30YHqsuUpgR0jmyEncMqtX6\n",
       "WFrekigsxVYVIvD5tWvcosqjSuZc2Xt1vi958DKariaZ1ACKMnmz8WWsJ/a0gJj8ml761QOo04ff\n",
       "gxHVdZDga7VJ8tJw9quNyl3qvawgudxPMqWy0BVxBdC3ImJQnCyfVix+aUgEeTP0Sy781Srq+wjC\n",
       "sx4RSn89Xy6MJB38snSv7OmNiCPCndUXyv8+/jtjrUkeAn0T6NjjAfV7bvx5Sar9NEpzP5f5ZUPd\n",
       "Tyz6A+qtZRuaW3PhXay6jrF/2iLNqI4sY3zQHBpc+60uIhh6hc546MyrXT7w3lauzxOScAbio/Ap\n",
       "/qDETsba2OkNZNPoRq1fAu836nK+hIwtucAAFt6+KpZK70ezzRsRCNt5fl8tOwLZTcI2AbkWXqYs\n",
       "0eSpCr3ZkfppZtTojIaYEB0xqo/JoBWPaoQvmASAEu5fIdQG8xdqOz238dYimpEoRat0HXSpzSQ1\n",
       "oxMg/6r6kvdxjhFHp+6zlp5qHYxtpa5VrC4Un4S6XzV12DO5yf2LF9dirdijwSgCfoJboLCCFxyH\n",
       "nltBgeNIXPKT6ziXtbOmt8jkWUOA6XgAAAMABg1aE8VvKQACT/LLAAAFzEGaI2xBH/61KoDbbnYA\n",
       "jK8f0jtGnkZHBgrXPgTVnOpumFRNFjPt4s0Ka/sJn1/rxNzmuTy4e0sGO6cTxR7DkYmaE3RiF9CZ\n",
       "cwcefYiXU0tn18LYnTj84CIwFSW42R7e7c2FLjqt9xK0iFXAHJT1ebFNHyTcZG84/15x03r8gsDA\n",
       "xvaanWFZOFJogJ9T17lXjUdvBXow8R9oYd7ELXnffSOMMywUkcVNwprDKFHX4IAEHZ2HHY/5IUj9\n",
       "dnubNIjpGvSDTL9pLJcOy2rdHdBASbQKdUIWr/O9ZDebSoOk24N7DLFI2Qct7LRjCLi/IN2qcc5U\n",
       "0H5hUZgpl69Kb6K4dGDnid3QUMc3pZ+AVBzLmQ7V1i6hHT3lePg5no8vG7xrF1snCttyhv8pNSCs\n",
       "mHr6DNLnd0cxRIOTO2np02ePhyeDJ92ge2H2HbzoUK/qObr/yA+o3LioC/MC7ysygba6XVzjhbrd\n",
       "mHqM5UkUX4yxdczESbIZyEg5LvyJtsHH2wP2KWpgD007lh5+HirHYqRupQpd8NpKYAYhsKaiO2C8\n",
       "p166xMW4iumVlloXBWshOhF6bKqtQHtyZZ5um6T3KZUoaLT8AI8lYfVjYL23CJOPOUmcUIS+LOWJ\n",
       "xJG5VbekKFBVR/3aQcXWWTrakHM8iigXCqfcG6z6fPrmFElZbDMrilkb9B12oTo1IDGSMLpo6Zqn\n",
       "OlQ9HQVwnA//e673UNIlfyWkZzIDNxJQTOiAoJW96eUso2U7T7ktw7WDiSFeOBNkP3LY7tVWb5Qk\n",
       "rW8+1wYeqoRxJpEP7LwhSy4prcnKATXeHNrFJr6DwCg/qkRpya9ZYEfIjoFW3QKTNdwR5RSQ6X4K\n",
       "9KLOZSpvFqETjozhOO/VeSQv2t7HC1wduM4tBrlf+FTJ9rYE2ac0hn14+sOnAUbAzQrN7EkLy64m\n",
       "pASsSUjw/jkTeaJRKgv49GDwLmU3dz3fijqlPZs1b+qKM+TEn8AfWydxhoWWdNqR3T4ZXbWGvZph\n",
       "NzCG35h156ss/8OkV/nOXTC2II7oWfW/+XO1t5xqSMdfmMBAgP7J0GWSuBimXXYeQnBCMdLHwRmx\n",
       "699aT5WwFAp7W/s/841pqy03I5YN9E+JAQ6vALYRKVIxsjf4K7chebG602I7I2+Mpacdrk+VL9Om\n",
       "jIfE86MMC0an1wq371z0VBM+rb2ivpkkQBa1ziy9ghfK1g4riyxodG8bxAEGw51n/jNwOmZI4z38\n",
       "44OBPSUe9Fg1rUpHDEnzFov2cQV8ao+T3AsUC4xURWOHJo2G9O2pBstP5oZ6wGBIo/m7ms4reTwl\n",
       "ET0xlwurUXzV7gKPe4r7LZNcICFBq7MVfHOUPa+BYuj2frwKzB37zlqCVqri7QlbvMC+oej+ExMw\n",
       "6L+uv70hdPrnpdozRBC3Ih48wywDRgPIX8p+KJ9u9iWbCF2LYxeXaOYOqR3f9rVCRyH9syzkBQPh\n",
       "Pk26Md17fAdgtNKrGW91f7+nRg/hcKVr6khUlYrCx+QOb9QypWSEgIXIWWMDfMxlnfrcJeWFSocI\n",
       "jM9aUs+azquDVEqB8dy7LOy+VEg0/SZtkfEdDiChcm9yDx+iOkbqMQycnnyE1vIWZdKt6grjaDJ1\n",
       "XrlXArXkq6BBrd+YIbGIxfZFa12SroQvzezb8nfVtl8DwcbpRGj9jwakBa5Fim7nvML9UYd/Lu+l\n",
       "LolrYww7JAoUYHZgz3wtXm7saipIofiTC24nHuaeafCmJAwzfhzxvcna2RDJj0U+GT/PqKlUk+2i\n",
       "QoHT+dEZA1ieupe1QyasSXvNcP8T62GBeDGDWIeX9dV8utRJ9wvL7pjJbA7ZcKZJPqJe1UhLCPRQ\n",
       "w8Ab60+szim2sv86H2+WeQq0NUclQk5cTSb9LyNrGxGtL/gp1F5ryDgy9a4rdrZ+lKOZqMH6hZPS\n",
       "H9GFuNejWBLfsIcY9JtdaAgBPSarPYFr87gzPGmfAk+/f1cn3GQoolRFf1mzAAAAl0GeQXiG/wE1\n",
       "GSkYaWgUoAQmdj9w5BHoMaCxyYLYC+wneDjCjBJdf6UhGsQftcoGD4N68EaDT6JqjVvwjQz4m6wL\n",
       "vIIqdXXqYvU5cyK2Sqc3C/HTFw7rMW7OUVFcGirtjLgZdLvyutirmVBWx4BoSazS9ai9EeCp9C4+\n",
       "n9wvvjEhKLA676mKlcFSeg9PzptBQr0T0P5Rn+8AAAEBAZ5iakN/B0OWB53PvJAW0lAyL5SYtio/\n",
       "5eFApiSi52cneNaAFpKLjjFRph7+5fG9aZaNsE6n8OtBaoVlZR2b4OAiXU1OxzPciUXjMU2mcJtT\n",
       "6IbLNQCXemGfaqgMD3jMOQaBWdUOOYcI/JHRnCUCvogO47MYKqGMCBNOkROxjC0EbOsJOCozYDaI\n",
       "FVBOGEC8djy3SHpgFGZ2NJss/6pBSyGerZqXwMXk/J87ZubCb27J5BOWmWNSG1GceGjfVDvWOqN9\n",
       "XfAd2modvUa48ft/u3pMTfv+nkAolQAflrB3ea+OwQM5PyphHO3WvWbNfqgDzLCD9mO2E5wt7Zoa\n",
       "odd8KaAAAANBQZpnSahBaJlMCCP//rUqgH9ipYADdjjaPfqXRvV4yjkq+P12t/F3AyxX1bE5cX6x\n",
       "vdpopdhwCk6nFcxRuNe9Vun//zLv0rMcQn793gXmwOHnNztDTWW42o7aZoFMHPMMrItVah51b9fs\n",
       "LRbxO0X9eMTQM8stCNTC6ZXfag3mP8orjaWjihMuXSZnCtVL5fVN8CfySOU2DhQm3VwBrhJVW7yw\n",
       "QXhA+tgA8qPsPEeeSSad6Zj/rxWg5pNBVk5E3L5zngUXz0EHNWk151Yx0p5MlOqXmfx/VU9sqMbA\n",
       "sFlk48unUiprMpKYKLsFHfk01dLIWVsHh1aYKPJ1FH+byy33tK2BEhXXz9Ont9a9GB9zy9nx7942\n",
       "RY8lMnG7B/+q9GB8QoQYGB1ZmH7SukkBkwsrUZDVO/XFLNYzcm5ms4V2rd7IU0cnvrTGybO/OpTE\n",
       "d30qaKen/DZ0ZBEtr+0lF+T8MCCmReFl7AvxJ5OG5V2OyJ6hSM8Tzl5R0n9m6jMYAiVYSLR/MYsI\n",
       "Eu10lXdNfeYld0a7nBWL1ZHRTtFpwe7gAh0E3QiZlVD9e37uWI6B6O/fqeFelZb2y+9+AClb9Y8v\n",
       "UCxNGRCfdZWFoFRCnQ3ZBzl00uFAu7vuTsze3aDPVUKsnbOgZHgdz0TgGB7HBhoSIiXhQnzDvU2b\n",
       "T1jL8lwl3cLGEIiw4SXgSBs5jCfXkfJ+3UZuQlq+ClPOQcqAPRtinD/fJAF6KY6EybryJj2U7urU\n",
       "iY+TSHYteRAhKKN/oTC2+sRlxHYCz2LEabiaTIdxM3vlhkP+kRqpptLH8+hoa7CTqgkLjbm1qTYO\n",
       "ZTsjwOQUGfQlEPsOdNkbnqmD5AEsscUxPszTqihnECaGSPAjYxXjcVJ8XpQ8otoV4t+I3A45GBmz\n",
       "U/64+uWFTIJX1GmJ0WajW/e66yCAyL0Rrx7lNAWY8ur4WPE+DHPAUrWIM8ZxOkj1/XGk+OC/Qlua\n",
       "QxdZaQogAIkANvUeWoMdZC52x5li61F7r9sZfzrLr1iKm5wzPnGslr0i+TX6Y2sLTvD4iNqBjy/R\n",
       "nRwHztC6APJ4GuzKcBXpfKZXgMuX5DLD/sjt13YU14r3XeY4s9KZsXcsesEAAAHiQZ6FRREsO/8A\n",
       "sj8qFd2AblIEu+CLUAJUQRy9jhjkwyB5Lei1L2+qaw6+o37NKPF5GTThN9GpjLeVyz382aG5AxC3\n",
       "Z1SCsn5W9mn+1aC7/3Gint6lM2fHUi8Tk95W9tKJPpYr4qHyln05YrIFD4N4HQfWITqspaNWkCnQ\n",
       "lNF7lHzieQOExJKyM8jML7LkzkIATjkc7nemQ8A2R4Dnnj8wr9l+2RZf0xFoFGKUFEksU6tidDX+\n",
       "FpIQGsVyjv6PW3oUyZQwQiEoZEK5nO5819zdcs+y7nR0eWwBzNfZUl2l/G9M/RsfO6Vcm3WkQRiL\n",
       "Z6jDHAzMEFq+e4vMParwKuHR53i3eMzMaUsyHzLEQsityMQ6EuoDeoAOgSOxVFzyYQPn5dEB63d+\n",
       "YfgVadw0hlT/nPn+vCOEIfBviUOVuVafdeLrzKfVsJU44XDdtSm4s2BYrHbx3kK4xPT9jByVfwJB\n",
       "ZlJBQWN0lRBTp4y8A0zBnym03DdETPFifZfSbgj/akwkIl3rxEZW2bs+YrH5QzZipb6F+taPcBnc\n",
       "of6xPW7+j/DboOq+GdJovdQo/MAah+LWHncijnQ4rqBsIVd0Nwc1/DiT4x591/I3UzTcoGCf4qCn\n",
       "fjj0CSDpApltTYlKHwkvZrUAAAD4AZ6kdEN/AQF0CgCMj1ooD08qK7j99g2zm5c+WnVggAobkgYA\n",
       "CwUgSjnDZ+lg9Dc0UVs6/vuwqrdf/UZzG0XTJcB2e2n/malFh1xaqFLEMF69XMqQQKR/aRAC/1TF\n",
       "TwzFlzVJ2taZNEWT9+GmI9rrhnic+D9uq70kj+RnXQfqc/behXqPiTSnJc/gM6Ws/OhTERwRBpva\n",
       "fSz/Gi9rsO/qiipAQEXCqVZo3rp3My1IKEK5ONZiV8zKpNXd7aoo/NVEgbOxSg5Z3S0Tkc3xzKDA\n",
       "bieohYOIL38yHTx6qcL0rOdH4ogC8ONxc5hGLSQd+PHe6N3QFGbTdcEAAAFlAZ6makN/AJZrDkQU\n",
       "AJmJlj1uU1o/34wELXAPMSXpgteCHNJr5lrDw3cwe7gOnQ+eAPa2AXv6+KKaFil1XYLCQeHNrcpg\n",
       "Rs7H/7DK/BgBBhuDmMQ97q2uL/bcEjnfUF6QGXHa52VaXYQq1+OT6Lu8A8oNcFS6Z8JOO2BA5mrW\n",
       "acmO9JabE5kcTGkxE1f3upwnIZ7+xwTbk0tQ0AzIRnqj4iEWR6jgo6z1cjouRi9p4kiH8UgjzQAZ\n",
       "cmCeAE7BY9B9ZQrGMuo/qDW36sHa4WbFETCf2JycmVD284jr9ieQdSjSEEEnMDKIcifmKscDhmG5\n",
       "GCJIEpi9qwAsN69nS8Q/pPPQZSXkMSz55/M0o9x6Nby/HdeHtbDEOkG+bP/TPFsPyTfPDgSees08\n",
       "h3pfogGwWvE4lrFwC88ulGBe59APNDGqPR2skxWEWpPvfuLyJe7R4dXdhNT3bVWWgvi/yS/Qg0h8\n",
       "FvfpAAAEEUGaq0moQWyZTAgj//61KoB+Vl4ADdeMRw7HszYjV669tHplcF6d3olu3bcq1JdYC+nB\n",
       "oJ20+efUgE1qcV6+Wlh0ifsxJ2gALwDar+8iPmKR4eScFu8vaP8CRqujsK0TIeq8d5oyvcBy4JTW\n",
       "cvvGT23YH24pVoF53Siy6j33au+MAFEjT4vsy0xKVt/0H6aFExyc2Hw+QyYdxonod7L/cimy4OA6\n",
       "i7xx534hthW5DBvYikdxMjUC0yvigyBh2XTS7SlBIq5+a1yEshXNvjhQqtIhgf+3SzAXyNB2bfMW\n",
       "+4wE/GzMBjs0Aot4n+c1U9Ay0fwOn+Pmy53TrmRjCbtBSU0WITADm4EnRC+5eM28/K1NEkObdD4n\n",
       "f/sULf/txt2jxX8jblHoa/QD1HBo2Z6v8CekYgeAEnyhHHo+FDaKGbuZ35HCyNC9XEGMU8DlF2D3\n",
       "QCP4k4UmW67xuRac5O0zXF4EbR/0F+lGWJhrk3ivNKnA1ayMhVPZKzuEU9yYJlJ0foDkBYlHxT12\n",
       "YubycrMCW/pRyExTP+yYM2tq9hzDPG3A8mq2on5GNoPXps+UDb3bTUxLWyZM9rvq+J0v0XfQNfkE\n",
       "JPBPXOw2+skIM6wTZ/r+R/T6y1DJJmYl7fQ0BDQfBaZ/bTcDaVxz+ylzyRDWF62Wa2Af+FaztBPY\n",
       "zRCqYUoBE/TI7ZU0Dbr12D1R8E/tDDNMiz5O+wENsUk0hiMaS7YrqJ+WGb5pj4e+p12wZS4gmYA9\n",
       "KjaAywaKq51BWfdB8LaGzNquVE2ykY08PgRUJlYwiSjWsYXMwr67zl+vrOy+bz5Qj40H/wz8ecs7\n",
       "wLj5kLsOUmHd7s0Hz1wwedqNeDCFw29FvoAAOlg+vMCttaDOf+K/8WSjh5s+/+p+Ao9NIXtSTbvR\n",
       "JsWUcfP4SVgvvqzF95pfBNZJT1PYFBMxiqK+FuIf9tokz+6s5cLhRqNXylMPHr9BVCmo02gbaZqh\n",
       "c0QlQ9JysbIasgRVfjw7TYMTS+lI2d+IkIrGs5avHXvl1jCOF755tOUuwvCJaawf2577BdjZlhmY\n",
       "0aKTAwnUzMy3ipqrQda4ffHBjBT8seA5YDGlprPzn3zybl05txWO+i6UrtMT/KP0hV7PfS+hcNHw\n",
       "jg9phKgTPSUtyckiIar71SfrHjsqwQppksdDP8u9Ke/sobg52KPRd5CszNltQuW1LhYpyaLZn8Ug\n",
       "3a6DC50rYcwW2LB0Cqt2TsLF4HB3PuGK5zDUAHhtEmf837iqTns0DM20jdI1nr+vg0PGEJZtF9H8\n",
       "+2PPGBC6WTYE2fBklqmflr+K1LMNrP5IGrI6dL/lu1bdYbT6TAx91GNRBcvTKuGdA+0UDPCzpv5D\n",
       "XZWIXalCv95Rtbu94cN4br4RgbDhgAAAAihBnslFFSw7/wC18ooldjBQ9ABO2vZ9lvXhljr7EBjw\n",
       "BTpwDX1/aoCr5dHWydAcYGro2Obs8KWkYoefYl21NbdR/dzeD9IhNUlw/DBa/uWQrfFOoimwF31C\n",
       "xsp5oLJOz8XcdtrOR+JMCclH/VGgcWltSnGSiRBQS0pom5kh21DHDNDk+Oy2dmhszTXcfWiGxZ2i\n",
       "24OHyZGBndqJKirzuNT7CIHlBzr8cJIYxakgPBN4YCQcWlh49/4LfGkOXMG+R+67kFqW+eUN2KBA\n",
       "10NDOv1FwVBJnAD3EcY2STm4t9efxtOdqzrgvjCTcshh+yQUuK4rtlCh77Ja8tS77LQo8Op5Hwzh\n",
       "b0KGGBBNBiU1GZLwb/QFNqWtIt5X6TD+rfKwlczmUhonDCon9CvwXVoc3BmrDZpBtwMOZGIqG6wp\n",
       "DKnNbKn2su6sL6d5223IGSTF6v+iQGkfiCcPFu+ZtEsYRgSzb2wP0LTPK7hhfC17Z6UeREXxH5oh\n",
       "70WG09TMXDNnmpgcsfUQI2mfttL9oqrvwR+hzGrlKwVqfwvUWF2qzrmE5pG4/h7ZmgCUbcpbXOMV\n",
       "gBva1ahS07LWJwn8NShAlBDufFwFTo61OQEV79Bzl+CIm0TzqFR3rnFQcHs87vIQ7ny02LCyhm10\n",
       "EUtjYJosfkMDtbpEoXrXwf2M16V18FZyFAsts04b/HQilmEdXoNA4HAzppy0rnrerJGGc0yD28EQ\n",
       "aEBnWueoEP8AAAIWAZ7odEN/AQFzz2Gkc8gAmijUae3yPs9P1YVAEdPCE1gGdg79Wzxa6wjhcW6O\n",
       "uOdxGHV4bsp9sfkN0dVzIzWbHMUXBwH7aVjJZu5U8Ue1sjnxCEq5p6vdNvZZhwlYmcIFPQEorJqy\n",
       "7k85PFLg7kp3PJWaUUsyX0dPr7MDv3Qjh7O8+O/AYDDB+7f50Ns75pRS3s5MHnenov6yEZaKO7Ez\n",
       "kYTPS1+0D01cnUSZys0bOu2mXBKe0GQ2/NWMTTE40GSDYFiIXnAaLb3W4Uy2A6p8cDhObzeM2nTI\n",
       "gF/d/8ADnTwXNT9WQUJY1jO3UZxLA1UnXFRnrJo8kAwm+8hHFeLTGk2yrvtU5FsnedVJqqn6Cjki\n",
       "kXB257b+H23WW81+ZnLTqb+QXIcPLnukBOSjq1OFTRp7uA17vMVQARoFxsQilx7oT7RseCw51dPv\n",
       "qRBDdU8CZKdsB55nn4qJ9X4NDXXJ4hfasMHoLwEya2Aubj0g3jRZOVRLHw2Z3KBYvmqrgw8ZkO0g\n",
       "zIyC2ZWXch5Ee5DY4Gr6MOKxqMsSXPG2HRI8YswE1rNKIFx0Bnc6WoR3mzPh8KkBFUpyP0nnrJAa\n",
       "HeQ7rZObzUpc4xi9uXTXlTkNYMkiWj9ScjG61w9Me/dKvY5c9hhexYxrU3YXnCTnAlSzVDRgYryn\n",
       "7r0MMWP07+HzLZi991StBiBxbD1ZF+Knyqfu6WDl/KHrAAACTwGe6mpDfwCVgx1jPAB/L0JYKeMp\n",
       "X/JdXqjbeCMqDpixALC4wdeaZEoAgW64P9gLtPKKGemv6662g9QudRSaKIc4Mkc3vWQBSeUJlfiR\n",
       "VHFzI/H/YXnyI84+0CNSP0AIoeaMkuXpxHRvaysL2dG+N1DQyou2jJfYyFaLU7EPQVeYGha+WTW1\n",
       "0Cpya89ic4IoiF/0xERoAX9NWp895yD6f/qqC6zpxYkdiV1xX/M0DKAWwJwwFeiszUHd3VHg1aT8\n",
       "66l0YS3dYUob6gsBpO12+2qsRr17iFrcGqykZI95Eb9wdULggjsBWor2ktYPlQ8TPiBF2IWm1HZ2\n",
       "jEzcn7xExf2N1jwf72d4Sq1s5xtigBJ/kLczWtkyPpdCNaigj38pZOcgJFIrC91OojOUV79Q2+KX\n",
       "6Fw7k+7C0GxAzppCyw9k+36UrdH5EoxXky3W5ijOwHrHujfwkmjsJGt5iYCAONp6iR4nTTJHT/s3\n",
       "XgDbVHwEuGpR7gCI7HOW7gUEzkl03yWruyVo5mrvxpnr9AZpt+SEMnvy2MGY44Zvp5DPMN/DAyD/\n",
       "/Ur7/CeeFb5nIwd/GLgDQFeHHIE7GqQs0MwHS5jX0dnrhu0UCy7NSkX1AbRJb+BIFQZe4XNcJwgM\n",
       "kMi0onOFPsXrEtLyUfrE6EOsgyS/sZ1XbFgP0VnNphKupmuuRKuYRN0LQozSoPOrSu9CtPqaLREw\n",
       "WMKPQ+gWpo+J9FhpCmb4q+Cks1bGgBQ9bkTOzBPetSrkPqf+hzqwPxVZciavItGFEwDEOyo8V7NR\n",
       "BwAABMZBmu9JqEFsmUwII//+tSqAb/qq4AcbcNr9E5/XYx0k2Mk75d/irp79+G5TNF88QK6jswbZ\n",
       "f0UOjl/lWNMm5S+4e4VLBvCTRwr/zWrqSMj3FBOvrvpOjvK3GhB2hoZhgpLJk/dPsec/jPHsGEEh\n",
       "SKUB2zOHOz9JjCMPdsF77NgeGYjFauGNiZv/TJZVJsDDE6y+kweY/62gxA9DYCLFgG6Tuy+XKIho\n",
       "XTwHAsu44B3ZKinBTGv5PU4eZTHzR0wKv8+pIJR1dGVg8nZGvgRFLLMD0aHSUrSvk7/DNJlF49SZ\n",
       "Xgw+6miiuu4v54OSAcGlXXeL/sGLhbiM1znuvCDdDSpoXU2f+x1grBBL3PHiaanQlck+wMyLJI4e\n",
       "eV4GXcyBavDTzfpdDuDIzbzsaWxEKq9pospL8yyhNs/DXAs5GAHLLPNLWF4gBXV1OaufuQ4ZwozQ\n",
       "1jagjH8liZmPSufbBhU9uDHFodIOidxfQHAsRsFQbf4pt5X/lTqxQFt4PW3HI3PH8JVuYwhrochb\n",
       "8nkjuKJyPSRfaqena0gaoLNqLAI5bekXtgOzWE44A0jtW2CZWHBl9P/7xI//81Td38I6veTgBNYj\n",
       "gjLzRamjPzSqA8YqMztnBbvi3ZmeK4YlP+ZHElw7ZZ47d6ssADNEo6nLJw1QGb9DmWCPNCIBu4tp\n",
       "WrDrTIt/QnWzCrgS+i12jM+yRNBX+pDcpSiWUqlQBdeF2+ukWsVUR3uVMv0xrgyqyxCcMOD+VtUE\n",
       "MRv8ilHWm2rSZ/B520lR5Rit75lvm82viNNgjRX9aWxHb1F9p2A//QyZqoxyg4bab/nwgU3ZRFml\n",
       "lIa4kamAkd+5XW6o0ahwhe1hhyYjkvbH/5HjUGfV0Tm1NS+o4T0/htHvC9l5BzLXqCivei5JYLls\n",
       "hWyRt8qerwehEtl3FSp0RqTwEw31XPHvRiXVGfJy+bmn2IKkgjVMmOVIfCkq7RpMRV1J5p+oOZTi\n",
       "Fh0E6fdbiGCTebkNHL7OsYXKgnv5Yx7mxFxKaJCAS/AXsjAj7iwQMRy5qYRBVg/ImlW64UfANce8\n",
       "vyWlxGzlhEtUJD+UgZH6D2Mr8wnbq5toYuOLSJPXL3wXCH1JoPVTqb4qWvIf6Njmp+gJ0/1JbI/F\n",
       "FHQQIjFkyeXLQmNcCBtBJ5og7WJox5g5m+p4mVX1W6vyKXUVEAeOjM1H47vz0vUMSylMHj0sy1vZ\n",
       "0iRQawoVLS/rSgLQfItPJMSDBg4wPbFXT4Ei74pGPiWBTbzKBcNlgUxKYQvPE4NSYz3qFzIa0LrH\n",
       "2yx3xTzLpAUdGpQs8/Dr6HNcEPu7fxu+fBXlPm18O/gMDH4c0wJggL93SfHVYFZdwRce/2p7oHKq\n",
       "QazT0tyZN8+PMUPlH6Et91t8jCtAVtp9AmZ2Rhs0+WBDQ3GZpV65lGN7MjPP5LEuoEoRatN8IYDE\n",
       "nhawOZKp5Bcng8qaovXgYetdeuwYuzpc26OKRMA/dnCjiJHXJz+vhaWTfceRW4g3VY13xETJi6wY\n",
       "9gsTMxdr1kKcAmn7QPpvJK06ui4slN0Jonohd+7uqqPtKAjWWrE6WgMQn3iNWPq7j+G+0WKQ1N1C\n",
       "6JXA34UI8lVFHl6+fW9h8XS06BJ+ueDbN4rHsT0QAAAC20GfDUUVLDv/AK8lRkeaGpnxAC2ggEXx\n",
       "eVngFym4pBUHMpQNZwL3LzneFMYioPENQaDBh2t/4QtRZPInkGhTxJe+EYakT2x+R4Z+H1ogOjIP\n",
       "VAnl55MCPO49hv69WyO5puMvjbdV36wBTqJjr1x7x78fsMIE1kUjWq8c4X1n4T4Y3jrZKA/uNY6q\n",
       "gGWpVi8jxizzRLGsVfqk6LdUq/++qQRjwzl+LI05STKEP6QbdldNrRUQaRob4ici3XF6iij0qr48\n",
       "hSA2XEknuYnDzuOlfAf8TnAcRldCXnU6UOQ4u/k9YRj0EeH7qFnQGVGxuaJsmCq4fZ6r8YghPpQi\n",
       "hhmYX7kAFFjCKsZDwRWme70zyj3DM5vHwkzZZcMvu8lvgPlqQ3wFBtx787MKFohEo8yHp027lQE+\n",
       "OZfMq+QaeHBF/ZLxmaiTnZns6zTs4EFQaPz8FnUt+2lgQI066pDYxJKektppGfE9SpkwozUfXwOa\n",
       "gkkXgyRH3e66JeqqlFnmbkQ7L3A1bWIRqCTsFs6Y2ZoKRd7OQ9qR4FZ6JEx5/DxlMfaKJgGGYPXw\n",
       "qyY+iWY+JyrtaEGcNdQ+cdB26+B1x9OUk6UwoJPJzvV28CcUf081mA+38i9YQBWbv7Oh2FVzxIsd\n",
       "+8GEcLrt9eih3ju4CGGVWlncRQOA2nGgIy13lhze2ZoYzSt2bvay34YGQCYry+yhrDd/2J0SdI8E\n",
       "5Hm/0MUMT/7Cnm+tnisLGW5q6KFuD0KYv4/AK2D/8bMSzyAap29nfb6ZodxTBQ2OLSJGEASPsXR4\n",
       "5tdVSZeUL7ugy+MTI/9DQASEpvu3Y4iYXAoBuSYCoCSCmCr+pZWMKrMTAWuCxSa9rI+SJx4Kunnw\n",
       "6BNp9BCWUwnHv0LTaqmn8LgglD4/V+up1c6ZnLZYZeCsUrWz56DmrNGJ90Ko84Ah8Vr0rKP0XvFM\n",
       "JBW3ChJN1+QcY9BInrU7n3qjoU/Bo9jRAAAC8AGfLHRDfwCXJHtIaABOj4uBK42alZrk5TjmEpwF\n",
       "I5mofozbRv+mRMuz8H0GmuDAHm0uOY3+TAKT1YecaIr+7fIfkQdjqZDFZf9bKM2vGGkPQ8YfGCKo\n",
       "O+65HMgBydjd+6s4bme7Os5Oc/uFB6XvTMrgdjSbTdIO5xRzeRdS7JD9kk17wAm5SpXg5hKYepl4\n",
       "Yor2JCmxnO45g24d3bqomMceV1qVQ9MLrcwK9iGnRgn8F5ZF0pB/kKPFKG9GxFTnH7//1KDq9+Wx\n",
       "RK04KU+mntoH0m0rkgWfPvG96vZWlq8KXhCXwOR6DXrh5ebeA3sLR8HFExhz/FEb4/0NJ/fPZwBq\n",
       "uRxhvdPp9WgjslSA4aC6pVRq36S3z2dHRc/N42wwcirv+GZtylkkZqKTIGZ4wQqbHGbAVOUE++PJ\n",
       "MvAgSZoY+kOjlwZz//lLfdS7F17cEa4CxmCDfcowblub4APZPmgTeZ9pOlTewst+HCwvT0qcjaEm\n",
       "q/WWOV6/WfvIwCkrfS6lxKli4e/EtJd7lxHoPOX+v9Cmq63aLo+qgSQ1QhxTjWfo2jCHOr70zxCE\n",
       "4mhIRROGCydyPi2hLcXExFDlujRXxsr0THII2C+YbK3vj1W0RUbQbmfEeSNeeCbi9pGrl1VzWXez\n",
       "CHQnymYZM1ZDdpZar8X5OTQ9mdnRum796oJA4ge2aK0BqVzpgPnaONFJJ5LriNWhLcdGRWBgdIQ5\n",
       "FrQhaL4d7TiDoHiMLIbVOZblbyxwR5W30p0O36crDRuPknGay0lYplATGdhMdMEo93nvyZPxR0OD\n",
       "PjlnP8ovmRkLsTggCQWF8mami8PQClXId+LoypnP0zZtfPw/RWsrxvgFDVS46dJ5ygZjU6VOOe1I\n",
       "gtsNnCc0BA98C2hKXsOAb1VcFmscxByyKh3cKcBx1g5yxFpKMKSS6Fm/3Lh5De/1DDFmTT0r1hn7\n",
       "cS++hvYCygTRW3IEUW52Bq44cSNY0pg+/UY/y4zJRioOszBmR5mhAAADyQGfLmpDfwCXY6HogATp\n",
       "qjgkqC256A8XNdmBfi1BFu4X4TeH7cJz4x7lP0Z0BQhuhKZDwtW0dsMNRn8rVsfxRZdO02/MqTYz\n",
       "nYFBHeNymoOo7NDdHJ7Br0cX52c6SKpst8yFISbTEWCVXnNFH2bOSBthKg6D0ArGu0A866OKeWYY\n",
       "/SCs/EbdgLiH/sFLEPoLq0aPLUJc2VzTk9RUoB9AZBJIy9KOUJezD+ABAy6S3doYzKUFjeYlcZjO\n",
       "ZWoNX7wCFBIh2ut1VhLem+EH1Z5PM6YqgBySb31lDPo187FIhf4GEPIcJ70zT3SN2pjAo5CixKOE\n",
       "muoP3Rz3GUEyh1zABJY1/BGuPvz5neVFRI5AjufztmL0Fvl7kh442qiOr9n2+Ha4429w44ryaMO2\n",
       "QaSn7yMeGxs9AHbpiZkeATK1kAyWzOQu5By4OxGPUPzKM9CRm5kDuYt4fQaKncp52HCLeS9kdJY5\n",
       "pLgfnYEdIfx22BzxPUDlodylglbgYtXAZO8hkjAiJSrAbU9i5ijlz5AwErqE8WYO3bfagyTlo7v4\n",
       "YMePQ468GAKIm4t72hjnuabBjcDQjbe9YbNKAYGGJtBZX/MQrodPsPXzBJnxcvcuQKyeDB1zQBGA\n",
       "8YV0LyzsS9VNb/jCjJRxyMP/IupSc6p780X5XsrLDetqbRCyp2zTLV6aJYkInYmdPBnxGVTKIOkd\n",
       "39K/PgLCtrXUiuo3VxwHeVCL88PKS1m1xX6KYsZgpqKxBZ1KEwzWUvArE0w+tiWy5TFWYtx21Toy\n",
       "cgpEMJa4EpYD/7XYeOSORl0IqwgBkijYrXR3hGlpGrA2L4ehU312DpWXDCrvXl4yYSelbHGvliPM\n",
       "0KSNfjScUHYsMa1BYt4UBYN5bjBiyWwDRNvnmgk43UZhZOuUqPSsPxrTE53vod0CDv2wouW0cIqU\n",
       "VGKf3zRoSNAvki0L9PM/QFTvM7QU0ehO9GbZ/zM27zc4hlACPLbCGJvG6zkQkE2UQVt3MsKcqBno\n",
       "6M2S5PpQPFl9LmWzaNobTuSCJCEQ8HIr76Be5rCLLVLcaJk47TcrRRmueQipFwhl1dh+hUnxj2PG\n",
       "MsP2YWkKmB8JYfjrlZ41RBvhjule6JM2TLIgJ0A+kKQWOaLKimrpnLMJ5AUI8RYq1rzMJK5SFepe\n",
       "Fa5e8fIuDaSghNAQTsxCuI4Qk17FlahMuxRt2c+Bz2f49Y8RPYkPyHkWeqoE0IuTt5NtiF7wUQjd\n",
       "4zZA4LUqYsU9U9hwzAiLV0ptHEu54TdMUKVEz4rG/MYiznw6MRPTrq2MzQAABTJBmzNJqEFsmUwI\n",
       "I//+tSqAb/qq4AcbcNr9E5/XYwcFdQu7gr5wZ5DBgFxVpzoHslknrIld2c3aELoPyjWyEYplLlkY\n",
       "0LBGMDKy4nAHq6gz1QSRwTPGso7/EpR62Lk6DSVQPyQWGPdI5CcDzHpa3hHt79tZGXm/Y5hEVdqp\n",
       "RQpjAv2deNG2X+fh7PXHJTb5zHSiZ2JrrmV1GYpHAzZJEC4tL3ChBeAG0VbJJ+7gL88bv9yCjqii\n",
       "n82VVTkCNKD+To+RfNrFG/K8TJuij9TU3dxb0lu/+BVKv4ReE70YPwNZoZblzRsk/s/aYiUb+PzL\n",
       "uTp8DDUStAZvjCUOqN8hbGMSwp11Ri/ioO6hIK8q4vz2BUqt/CF1liCViPgGQOBhX3i38FjZay4f\n",
       "rp2ftL6Lh1OX80uKPkJ+VgEuzu5XomJw1+kOapkW0N9WxmNYw8MdcZ8lK8kx+wfZk0C2BMNDuojH\n",
       "ChjwraHlc5WTGPGl8wDfWC43Ojl68xyy8lg1uAbsu+jVktymm2/UWtusGbFsdEPMDhBFf+V60BYP\n",
       "Pi+O6+7RrBZRLe3KAUAssdwLI4Xoo1jAyX6HNuH8NELAYP086+YnMNaTYSjOnW6Yc8Y6U4CcTPgp\n",
       "Jkjge/6LOFPxAINjou3CeLd546E2/4cqQHAgOcuoM3dKDJ3/fAzvZUkMWVJJvpJdciz7HMdhHjU3\n",
       "t/HVyLAjHrkYspXtKQjrmX2yvMgFNGr+0LwLqI9s40SzopduO9MBcKeymeEkemq2PJFAxWXvaDdX\n",
       "2UC5obXzVnns5GVjqlFrBMZo/TYbYXNvbdwgahA7hiioF/cutkR43gkmFLDu0jmO6LXIwf6zpLyh\n",
       "8kS1mLaGIsVMgvZ9r+IcKF12VALGCwFG60cr+o2hrXsqn3eUaEgBbOXVUmZ69HrUIL8SI5RXuYTT\n",
       "Tl6VHPohqtCJzE5xuXWBnEw6x311Ltqvss++2An/4bBHy9iS4mRNte/1qSfTESJXO1eQKDC0qjQv\n",
       "YYZ6LCtjzGzQrI7pP6bdjEk6UKYQM6HBvuj3SNhCPeIg7sVCRk03nV4flTQ8XBfn9jQOZgZywajd\n",
       "P+AHXSWSrwE5YzyC7ld2f3blUJYFtfltPP36xORM8zollXBiT44XjR2oZce9vbQ6tU+KJVfSVe0W\n",
       "NCioQ1Cqw3OtiOwdo/NdTD3rE7er8gepkjysnxujsa8EvKzBN4iqzmfqibldTtIHZMqvHFYCZfNc\n",
       "FAh1pDqmcVH+Mb8mJNKv4XySA+Xop711lWFMlrJp7sAm5yWI6e3GrAhlaXGcj9RB0iOEQsPd+sJQ\n",
       "JrfVKl7T2F38Xau858VFM7oZcWpSS5ZEZMuHgCt5uUQVuViBY77RmUnsVzTCBfByjDCc8riInZyH\n",
       "6PagYKUUgBQpYh2Cxy88UxkQs4wlwl/sb7dSmbe/xRN0Ta2dFXjYM8d7xvB1lYw7G7NhYkAo/QSk\n",
       "40T0ujKK1BXJ4c9aNojMH1VsCWG22VRH5mT/eZR7W6SzVNQTzMXajuvMbt/VUyh72P2MVcdMA6Ae\n",
       "lIfYnwFmL1P4poQ7TQE49qMvTKQLbCe894dvy02lmAQ+DYcTrlHvgLlgjS9PxaAyLtS+Jll5g0q0\n",
       "AlZz7dinZWKr3Leo3yTF0YJ8ZVvGxfbBC/KcwuUTNItMpnDeQ8EvfoW7pkAJJ9/fRa5j8tabwaHu\n",
       "RoRNa5baDl0O71u93sGlL23BeirPb+di65dKUpyscBtyEeUf6YJ1zcPgFDwOAc/TgqSGxklPq/v1\n",
       "vBOSuavwwED/AAADdUGfUUUVLDv/AK8lRmitsQAhOts4PMpfOiF2jKinwnH2ju5ShFDYmEZ99dPd\n",
       "xxstx93VEYluQCDU4cDtjMg3ua+t/FH6ca5k8Q0aiVAzrMEc3WBWE0Y1KU7aDj2/xftVpt+00vTM\n",
       "DaTRNbxvSqTMvmvfjzzhUEYdlJcZLn2MmuMT2VW2Tl60atId8exHGSpxVQ7RrvTcfFxpxyeQO/Ej\n",
       "0EkT/gioFMS/PyGf72Z9gFDlYX48OlWhm9C9j7jZRi48muozFjvxfb+mZu9daQ7yuqXLVy6iXNc3\n",
       "HchdHsLJ6xc41SX5rQcv/rIPnyVhEWQK8uilbESWf5oqx84N8Tthn+gtbBcHqN9M/3/HxBRgfy8m\n",
       "lvucGoGKL0kOIcWZQvg8Nhv3p+eErDelVe+FBuMiEHWtZ0pNWf+S9zGajcabF3zZC25RKF+U0cJT\n",
       "ETm6t81i0DGvVSIbt4WwOQaO6AmGZ3vvYbw3AREQ9A6kXvUSc4CYG1ntQ0AZIzD+PhAdJroKFfUz\n",
       "Jet73lnIipPYobCtF7dqi76YbyiOcn0Vm31J4rNbJ4TgPE6/W72nrKceaWFE5Bs/1Rl0+9tkR3zU\n",
       "ajp1COYxWz5bRqMx9fOnXHtsYY9GrEv0qoMyZ0N/NkjQukoNkrWPVoxybeMq8bzLEilG9+keD5FH\n",
       "WrHueaM7KFIcpdM4uCSO+fKdzaNGv9OC/W5h/OPtBk5FTPpso7hmfgkng33SY1BpiYv6xF0BswlE\n",
       "IFLUcnzbQhaylzNtVXxt/5UGkHsO4Nbi4BQ4/jKLxRXg9ErUQXzYHAB+DcpkYrQ4aDuTBIC34hoT\n",
       "0+rMhH9EibnW8g2fDB7A1uvkkXbqflCC2AYwogZ84G/xS1nGV5RGf/DmxJDoo9lq8i/N7jjxKNgt\n",
       "HAR6X8wjInaMQaeXB3/6V/hMYqnUanWtZjxRwQ++heWeu/OvyCWOOTlerda9jzUXjyE+SClnOsw8\n",
       "RBK2qMPwvI39W1yziNWdREyyUdqSFZxHIHOT2DotAKJ/i1WxCPrtYEqCOFDVb0AUDQ/XX9m+l0ii\n",
       "3uQe8yBFZBR8F/M7e6nvnlgb0JJpIUahK03fzYPeB97BpS0er4fEt2QNsswoRwCY7QdcEl93Bfmd\n",
       "RAPwqc1jHVsX+6Om75ZY4aTsMo3gyUvTXQie/5HCd/gqtuebJuiAOjqdGAAAA98Bn3B0Q38Al035\n",
       "IAE0RUSIROnzKWAzgCt2Qc0i5ZHxNKf/sl7viFfFOFwrplIDDWd8dGI/wvv4543VDSNvvC5/+njN\n",
       "OnHs4ZM9tQZ1VfwYdgxahazNk4v/W6pGyvIVdgon3IQEeRi11AazQPc+ZAPgLbzyEATYXiU9HYQ0\n",
       "cQ8eNAnyR/c/KerGuAhEGp744rcoX14DK6/QHOn/B1EIi98WGJW5g4J9NEQUDqpkugZtlWvE4K+T\n",
       "OY31WxhgHdpbl6tnCRqoCv5tqbi3AytRFcGdxdKs8GZ2STFOTijJvMtptM2v315+ERF1SlHGdpx5\n",
       "N4Hy67Bokum+2E3zLqOdogUfinjOC/5gOWK5lciTJE7FnIF6ccMvSgPsCCZluJtsFUVKDdPwIvSV\n",
       "vt11nXcP2XpsYTTd26w21CYNjQ22yK4gJN6cNm9oF3EOJmWhMkwp2PL11+eb9+ugg4clFMwq4QO9\n",
       "i3VKXlZ7RLpCqzmKPTgpSkxabsvpCgIz6i9NZs70nKr0H8RGMwC+zJiMrIWly3KCia/EFlKIsIW3\n",
       "zMWWkvqP3Ldld2uS/3ulmFOCoP+sWymjsjXbvcRTIv7d155oMy7w/RYGKpxMlruba5Du1ggdOV+a\n",
       "37SIXdjd8KOdOttxlnh7mxcLz+JQoEork2zPmwVuuXmJQPZSRzCz/GivHzlvJ5rmkaRMKwb6MQZk\n",
       "3YE9q9RBldn4h6VmA31kvOPd41YHQRUi0PbVdKP7QWeh8mDpX+DGNYbQSTKFb4onWbABkbZ++22s\n",
       "lSOPA27bInX72HxjcIAp8XJbU4oPBLf8X8jnXtpb370f7ntU4TNlsRVDtC+bl3I/YyLGQwUvwDYe\n",
       "z18Vx/mde6D9vBml9cmBvQQCuIn2hCC2o8ABLmfQvqlZABDr/vzjfrK2d0RWDSvRRs6+PBBQmkoW\n",
       "IEZntGhsmp7WlI0RQ4rXIv5jdQLXVr5VkT3LvN9Cxg+a858q2yzhGieioOLCy/uK9UaFpP8qnTCp\n",
       "Fy/gRdinr/T42Eye9cHSJks+aDygJjAxgk6545DKLobvQTyXDNZE5AeSEyGx+5LCUf6LesGvovac\n",
       "GPKW1Im2EH+EEMxwZDdMYsmIw3qGUaIXpyrHMzw9+iSF2ZD+ivGhLonMXm4R3K/2NMviWnC8f9yW\n",
       "W7dQRIk52rh8yqm+SEh2U4PdzINXHNkWAUWOsmoF5WxRkaHPQXUkH9zpJscRk3sMImesGPwV69XE\n",
       "GvJIhLZ34K6Ay0rMRPGzZX+FmUTqbRX/Pnazi+cEtEBZJfLGd+bOy/zV5GTlmCsyX3DEvNjnT/Oh\n",
       "AM3plEyqfzZTWUDBAAADaAGfcmpDfwCXMQjs7oB4APzhUP5+/72nA3dbwOUdf0ix4ZOvMtMVK8Ri\n",
       "pojqAatjxwE4fP8AAFmZfN5gcXEgWA0vuccgoY6c+01lzGHKc0mDGtVarhSsJLECRoC9zkPtphL9\n",
       "+qvOp1eX7+OhFf+vj5HsSp2jiHdEk9AJNz3vXgjFk4/V3m43XGx7bKQ+PE6MHPpgCpA1u8GcGUWF\n",
       "/2AAz2uabtwt1qoyt5i3P8fQ1yQw79dEZz1Y7D7txNtWpcFZer807mwRwc/l8BvB2KAOMcuvg3mu\n",
       "tO/2/QNX9H22VpqLfmgP42TnWmqqsW2xDm14dn/gGfIxruECMKaYypG67YMlkIHszRha53OJvU3w\n",
       "o/SzQZP45lqqcLTvOjWOTA7xbks0Nzf90GmYk5PW8xhv6CFznZIpEdkS3+VlKdhvXUKGOTCSKWGc\n",
       "BZO4isOcRyb9ErBGhsRWuwK/gYlVW23wylNM+e3ER2ZgfycRqOuD/cEMlZQNaAdaPfA4pP1Qmhu2\n",
       "7hx5jV07HnELOa7muwGCXOdrBD5xITwKCYQWuEyFvj+n4WvrPUwjyMvZPY42H2betifNgiY0DTUz\n",
       "h8L95krnHgAZA3E4hrUq1JydyhTnBc/806sOafp6N6sNyte0X8XnOgMjQHBNMXZN8NGDmEaFnrFA\n",
       "WW9jB/PDQjaDX/WB5tAF2x9W8ABezUPg7HAlCIDptCn0jWY+S+/dBp9U3s3X+3SFj/BLbca2GqtF\n",
       "6mq+x0QbxAgPNtn3jx3kRXhbIJg/PMlSgrGvuZgUfvjuxfpjKSqE7k67pIfP1a0vqFa5FQd51n3c\n",
       "vne4wzs8kLKJHPHyCRbgIt/ZQGgiXeQOm2oYEeJurvzMtJ1OPcR+SIe/uQL9VxFDTEATZhGO1DLM\n",
       "mGbyQto27iqOGas37vnSfYjt2rup3l/rulzB4vOx+zgTj70mrTjALuLeU1jb77HyoM/K6SmjmwBV\n",
       "PA35M2YHv2e09T3Na2knQQBLjJCc+f9BXDSjgOkJXCIj7KQedxcxDH1Wofz5NIdtCOF69fC6PpWI\n",
       "8UsMHCM9SulBcehHMVDWWSnAyc3VyyHCvJ1MNqJYWWQNDJLjHA2TuA5UHBAS3k8N5vp5kZS8iwvu\n",
       "bcUpYsFkUKkBFyhNPKzOmw05fug8fGaORUNOQiYyaxy6AAAGrEGbd0moQWyZTAgj//61KoBv+qrg\n",
       "Bxtw2v0TkEasYOCuoXdwV1mkv+KhUeNbqV//P++wuhUty1I5/jb1oOnU+RjXZwdR1GuozebUDYzR\n",
       "Hgi8djdqp1JllAURnm3/kZbrVyw4+yHmAkDFul9Iq+qQB/e3MEPLzwuezStChj50k+BXa2rga8LX\n",
       "SOAEb97Xne6iNhM7Br79S5F6yaIDSdBysmL5tbJydGRHbKcloHLgNPEnRqByTZV/RvFsEZlE1qPG\n",
       "5AVXeccEJjxM5L1rvyBHsrZgvOf75J76j/d9ZJyJO/Kjgg1b0/xW3cYtpBQBJde62d6xU8ukSAse\n",
       "+ADJ+f13/2zSMq7dBBd3eQvfBfUyNzVicMf5ySGTbp+uOjJ/7df+zEmtnYzWjjaDVgdlVVUxh1l1\n",
       "lLsMK7TpLGMeqEDd8wiBtH8Mw2FnKJRvEWgIKqZbtDL+yh3MnD1u0VHDDjvPnNQnsWt7WBY0TBEn\n",
       "SroaJ6PI2joa5SJ0EOyVvumK/ku51KreIrz6GFb2FQlKkBjXdOe/+AIy56KPDQIq93Urrf6VJuAP\n",
       "XVoDnSeqXBKQfaaePrMb2iL8pHknFKvvYpHqHK9yD6f7eu5+tNhoSaFvZedbzM7W+n0zWyeLJ5Y6\n",
       "vGwmqHqn4o5O13CvDyRKmXhBbp/2esp0jHXIlm2VLycOq9b0Arph6aGwKERxcOyC9H3z/tTZuW6e\n",
       "oNiJoVQCWS71QqJCyZfTcRhjyaP8dGDOW498jcdoK02T47axSBa1IK1sGgiPdmgiA7/3EfpzerFj\n",
       "nukHVfLTLJqoEh3i/+lEOgj4znTT17XsUmINIa/H6KoWlC2bnW64pD6nhpJehipXputP3cmfYvH6\n",
       "SAy7ppecCUV/EtvHZuo5vTS34ltZMqHpSVCCqy9hhi4L4kpOgZQE4lOdcFEk0LGNKNLOIU20BEHQ\n",
       "Ut4oW5Dh7cALJlJgH1p7gv/P5WFTOlVjpcNW9zod8WrV+Pp5bbMW1DyLKe1038k93YP91qlpY/ou\n",
       "oZgdnCFeH5rlMfc4rZON4+NsS9Bby1qgnv4tqpWWmO61EdzaD0M6+A22EPuDIxXATbFBkf+WKL3+\n",
       "R0U9fMdR7Rm6jAjEvbMOJ05g/gfYxRC7aDOpIIlNgiYY9vpq2ch6V5zQDZSWSZ1pVA6U53fkLrVa\n",
       "7MmTWvWcv4pQAp9IkqbSMHQSx5x+F9Bo0hP+8MtRdFK+zkjajK43sKVp6QuDCwiD4GpNnVukLTD9\n",
       "Eg/QAbZSkZnzB74msvspJhJQ7BmajyOIxdfjtBTCU466zfZfNVi3Z8NP6rvCKV7JyJETkSdtKaQZ\n",
       "xj90Lkfobea2m0FOd5hkCW28h2bnoCUwfncdEplezpMrxsyZXJbzugtyWa8AEgmCJ5URviNqyrKH\n",
       "J9nTld5sHtGMiQubKpGN8kAeVriG3aXQpWiiHrnujHix/s4Le4nTV3ZwSp6lOZJtVEdeu57x8GUT\n",
       "gFLEaP3+Dz60q4R0yfJEMupEhy19ZAguLJm+tdSjcoq3xqkFNPyR1BAMqeRk42h4i0b0EaT7VPH+\n",
       "XcV3XzjsMmJNZin4I5STZj7g3l3kxzdIvOcyXaaJ1YwIZIETmcLQRgDvt9CmsxV21xlK+53sgB9I\n",
       "KnvIBh129bUpQh4z7CH2er4LPfzRBLqU7suYaK0zYyMpxQaLkJF8INXnbkfp/cFKEnBxX6xvQOkL\n",
       "shXoD1i2P9oBOW7RIylcoz0Zxu2utMxn5IZeJy63/e3ox870UIk72m5FVtbD8yuXVn+/19ta3d0c\n",
       "rg8Y1N/C9wWvRYUx5f9ppSNbpJT1vaqKuhjVnWsXeaI8/53NrfigtnL04j061kVj9i2C/k7Pll43\n",
       "qioMreNIanSO/17u6NJulseKxU82fUfwqokvp5kcNNy3j+d5sRCp2KWZA8ao+PZdx4VX4XtR0R+U\n",
       "C01NtV3Y/nkbnlj6H7kSOhGTXPvpNVPyA/5pkBZpItEYlmz+UWRlt41zr2CIJ+CkFyI5TsB3R/2+\n",
       "L0phwU2ZrpKOVxX35dWHEX2QyYNvyfkLgfQXQQmOJcP6kU454Gbd78W74xhs9CMiSKKfx4kb82jw\n",
       "vZM8ZfwG/6FwmGtafCSGP6lBmmbfMi7pu1Yr0dDAUk7tvzQXSAHVhu+AV1+ZBHDzE8QrfJnz9bIj\n",
       "ikrvCRclwmM18jeR7ddOkUdL7/qGkLBQYnRjwbwrpnZs7nF56tfJxaBFtOLJ7WBWVbPde1aeGNYK\n",
       "AUcVQ9htM8XKFw7lgNKsiJ8pN01sfn2ok+FgwRB+/ol6pVQAAAUwQZ+VRRUsO/8AryVOrYCOnRHt\n",
       "AB+ciKkHTBptSABrvsNMRAJ4qVVZBUW49c5u+zLVdZP//WccJrrOra1htSYWAvx4w2y2H1qNCs8F\n",
       "vB8hMi2nVfiAB3sNGxor4NmyIGO47A/h2pcbt1PCLmdIFaYLnOFbMmOHb7y/lZ4GwF6fPNVZvPqc\n",
       "FVQGUHzy3k2c35cjXdh932958Dhk7kCM5l7f0Qt6BY9KbsHtuSWs3y/3wUtdFcFpeJhElqxNPCuy\n",
       "FYaMrbI6IoV7arWoB1WEhvWTLy3ES0CtmZ0NM+JacFL2BlEKtiA0nXbty9giwQ34DNwWwc4NB8g+\n",
       "rl79EJ+t44CgbC4j3A8oLhL95BMC3w0V7U8m3tzxbw7D1QL1IOJC9H/tabNTiATGz+MJsIFm8rvb\n",
       "Kksky6I+DFNJXUMeR7SIBQe8wH1yfpgQgtNQCzSVmY5e3YwTKQ1NTGrQ4UEscumlLQ3qioM/3Los\n",
       "cgwxuOZwlyAiTiuSBw1BJFVT7k7N4HB62hhlOOEm2X1iwMKt+yECirVwRm9rcrAr5mcaaIY9XqKS\n",
       "DJX0djCOHIAWlSNV9eC+63klDlVk7n3NCkoNCr/GY2rYQ0ztWs5q6VEMxSlA5odtGbjDvH+pXCth\n",
       "lf/fkkQPdh6PZQ8dqgZpkMJiMKxcm/zfAiEYNq/7OA9ga5DC8lVedGOsCdH5Lfz4AjS0C8sxaljZ\n",
       "8IrOtfRXcMxG3ZSqeXLYAa5XxlZODQlPcS3esQARnXRy/DY4I3DH3Qqh2yO/M63XWieOxf5YHNa4\n",
       "NhCQpzE3S8c/LTs0wzfbR8GmUE4fzGuR/0J5yqPrUKAUz8xw7i5fgec+VOyyWmCksriqv9njTL3I\n",
       "HQhmDNFYcBRH77T1914IqbbqLNBgbcSOSOfnM3jpg8JyYXfK3+suEJwV+LnBv/OuYQ90j8KR4uIw\n",
       "TAvC7U7VD9EYtzD85qPJstP2KTRJP/OKoluBbiQaiOvBKIZuv8kRcfMoVGtGKZ/TNU8lMPyRu5j0\n",
       "pNW9/PYHbogtNecnntH784zyQ3Zn1SysM4Ap1cVogFgMcXf0jXS8aRv6pK2DNxjpep1Owsd3tvZB\n",
       "WPMZA9zX1KE5aygLzW35ho38i1mzG+lIomtDzZ5lA2X/sg7tgZJhJjrPjs0JpgoErGyegr/P80Mu\n",
       "H5Bj0Na9sMn6G1B9IrjypgP/AJu9nVOiGaetLrVJqLuVv0p+A5Vc5cQgOzYz/X0Eowvgn+VrUE0L\n",
       "1I+RgN/2Y8CokcKSXL60KH6ZsZ9izwa9ftLhS+PXDPkEJoDfhGA1vwI1t6+XTaPfdUCMwrVKUZM+\n",
       "pC0tw2ohlUK+WAvXdSSh1bn/DwUPVSfyRulOTgiQ9aHU89Flq4BZkVzB0TPHEcWlzvZX30JU3iZd\n",
       "BRufP1AbkuOIiJ7M4k9cYi/Xx0/MyXCjr9bGq9AJXB+CkUg++DGtHa0jrgmqCaN4WHX5g720qIol\n",
       "TO+510gMJcsK1ctRXRLYoSpfs1JdSmMbPon17W5Nn5OZlJyb/Xle4dFK2WZsSsuEjrPrKZcTVtFh\n",
       "dx5OfZBvad/fUsC+YWv1LA3AdGn327xFx7/RBXNXpBCtxRFvSfx0XzN4CBz9alOh12XrE5EFhIBO\n",
       "sw2vWyfEVmUT3PwME+VbZxm+dYKycJs7N2queXDAN80k50yiKHdu2FHGaNhRDbzrROePt1qRH4MP\n",
       "ESwpVB1u6kCMUuObGfiRJOSq3tZBeNrGe7J1BRhYFYnzVFlovp3LlUaqCAP+88gFI3OraHZ3DjkA\n",
       "AAQ3AZ+0dEN/AJc8XmLgBMpEbUm2QoM6MY2SPN0ihKteDv4vuAVFapkWEC1f4/vr43U10di6sp6/\n",
       "EyJYL2fOZVDvKKlWZeY23kVGTppYt7elgbBa9r+o6viQmbfD1LNQz0anLea7m5w2vRLUXg2ke3us\n",
       "AsYWffpfxkWw8tTo8xv9qmbf2GmTL8VdzzMiO+jEuRGmJnNvwJRWJyrUuYjDq7xSZIfQuDHO/Lq+\n",
       "bgP7HX97R3sFW5MyRgUdfesMu2K9Oy5v5b+Tm/WDt7cPFsMuqE1ICE3xWcgzq81qzgDmByrnvo+m\n",
       "K81kUytR3Oa/Xynko2lNbGnOk/+9LQ3Pydy3NHFl8bRGR7MlkzltXfIk8CtG6hgTuXRYQUY2qAx/\n",
       "LEUCd+ubLAGN44BcgWnByW0T3EaNkP1dY6JT9BxlWrK68hUKrVSDNZT1KDIEOzyLrj6IZp5Vl3Ri\n",
       "zITykYxBcT07GEQXTW15FtycYuo4aCSRrVthj4QrtLFaD6CmkeQZWMKZ9/jeuQe2cBv8xaJzFbzu\n",
       "T7JdMm+K523b1VF5NyujpGoZx4plSJu09J7iq2CSxMQd/STr78PdWTPX5YjNtI1o+QJ+4ufvxn/u\n",
       "MMmVA15RU3CV5GvkTMuBehZzAyZbXmnE1l4cgch10YuTnEISrZ7vsMUpUybQ79I6wL/kBG4veogf\n",
       "JRTqB40IfEr0Uk6xFFqWJT4J1ZQMvQDoi+zHPb9sEpl6racLkuOQLOYZyW2tsoQMUT6PlC4OyAQs\n",
       "//aaXjhp1F/XTFm6V/s4UO9MHgzUW6amFP+TzFLppD+E5buQAFhYhsqDXIu3RjKadvsoJVoUNlon\n",
       "NU3UDkU/A23oIVfKieoSBtzXWjLAuxQ0WdLWQwEjrvH4+gz1RzKdSkJA/A7IoaX7TsfnEKFikjDR\n",
       "6zl/RULZ9xMFaozZNFUkZ4O0151vQbBXfi4dAuAgfRwTNpwHUYryvbl+nM/qggsZe3p/8iQqCH2e\n",
       "IDKGmNWhhBii6R6uaLOUyvTmoXsyUQ3wDAIsE47XfB3ez+gysM9Vw92Ksh7eV8vzPSfGBvWBIVcd\n",
       "OfT74wtOPFI3wYVuH2ewlK6+N/SE7u4rXDsZAvCorycrnSXnvtnwiIN4HouesIlsrHOcC8WR75cz\n",
       "sg0UGakWrJ2O2PJR0A/ipyd1cvlkSo7jCGR0SZeLnHYaRAMuErlxmeCxwP/Z+eU6m1+5v1jgSz2H\n",
       "Hw/N1csiuu+oroATha9BWkTLhvShDXi5mbEmp113kSvkZcVKRfz3QAXB3Qfs2wteXRXVSCYTVAZR\n",
       "l89y4Izi45KGk8eCTFwxZxzsfQG3/at9GRx8346QzL6L0y3Kd2ZQWMHesRYLTAD+BlA5JyIFLEoS\n",
       "Xaf3br3GCjQomAyTiysrKj6TfhKdTyfPQH3ONxWsp78Tkbi3o18MVwOj0Gv4zpoTx6C+Qb05hlAA\n",
       "AARcAZ+2akN/AJchoxT073LEAE5IIDZ14hj3jj8ZDsaCesB+uD+fQNSmKmPU7bVM2o++KMu07ZCM\n",
       "E/tzW5/X29orWQLmERyebVdKmyASuEaxAtxTaHsKd5GTOjar/hYra/0PVMxIOk/9Ct6raxbwV7wY\n",
       "9GY8I/YrSIZs2FUqYbYGwKeY7g+QCXh8REj6d6MVV0A9bBz49ydKl5kO8GSA3dEQ4dOfHB8rk+kG\n",
       "gFHDsXlt18qlovwe50clrJvk09Q+gjvPyeifFBVUfA6EJvevvGr8y61amA1FkDUS0mpLTs/tHMjU\n",
       "UlWJ7FHlJZXkuWqHBkMYv+PYzt+XtlKXstfiJD2JrpiseBpabilezqTNG8GLFPn2f6wC4to1VhGk\n",
       "TuwSMuVo1SeoK71kMFPCAbULHhCYuAARUm2Sl6vRxE+F9JhsN6oV7Yo6VRAsmrFJFL8wunnCJD9k\n",
       "q6tHOTkmg6GMvxMqPP897PxP68AzBUJ8rWkZZ4H+Ikc8WDTziAWZTEY0YXr2nB0M07/MlRsRbEgD\n",
       "D/sAG/zg6hfht8g/bYm4zbbyVophOxruMHmTJJy2FTn0uBpJ9sZgHOb+b7oarQvcLqJwnOxfP9yV\n",
       "ODI/K8QXdgruqz4Tx4cPHr4HXGYdYTixlo+o4C3P+KkyBIDH9bIn/+JDsDQ05LOLmWUOaPgBaXId\n",
       "XBWZeAY2qITWom5bQmy1xHokyj+M04cJ61ErluZHN2odfvz6XxSHXlu0w2cVVmExhJ06WFu8EplG\n",
       "B12ueBF59xVlNI9WwvBCs9f6t7fCxSfCH3CLrpxcVXAAXhUT0o66S3JDNRywz8KjHtTI+ED7LVhw\n",
       "xZx6ledvcGtN8KxP2QzF3b+OSGHotwM/HrBBvUMeH25EraJQugWQowd8OzTBTJBG1Kbdz3bgVbiH\n",
       "xDrHiWgKMV8KP7LWQb74zr8fR3GbiQuYAInK1Ls9RpjMTO9NwycLF0FXae3+EQTJZoLilNfCLs3F\n",
       "b7WEr9eUXUU1z9dcrDNmcqyNjF7ncgIwzjIjkB4J9NY3nScLVbYeTPG6MPKy7PdTzNyGLHrDdK86\n",
       "URH1FPefJP9ga+/jMxJEEzSOhjnUKxcGgTP4kjFcJz8mVh4ROZlIJK79CkINO17X3nunEpOFpm74\n",
       "CulLKhHYRbJE3V3gXIuHMIfZMo8iXv+XMaE0DY5jkho9O+6bYvl9g3LTB4Y4YLoD62yk1kdFD1JG\n",
       "0LErC6zejfouHdRECprHkBwF1V8eNKb5mspKZ4+U3fFOpWRq173HzTGAS3JfWyurvcxy2sYGX5kz\n",
       "EiRKHwpqH1XLikh+1U77/CMXCEB/sexfSWXhuwkWI3I3+ZaZ0wwZnBQyrqPYvQmCdipwCYd+9ErY\n",
       "hANqroj0vqXhElLsfV6U3p0+yp8hfjasKf0PRB+iTHjm2RGxxxFHNx3wsP8+d6Eiuh0sqMJsfvJr\n",
       "yWQmQpSFt1yijBgePKNlGu6yEBwSEopy/vGBsoA3uDx09q+BAAAHz0Gbu0moQWyZTAgj//61KoBv\n",
       "+qrgBxtw2v0TjSDpGt844Wvsh+F9jFLiFC4o8/TXwXjSAkTjle2eh3acTlCJ/PheLgfN4vuZo7fJ\n",
       "nWnpIiEEz/ZgTaup+pkVfQk1l5Bjto+dGJ1npASD4GH5fMXKVVY601lGFxjK+ThnxNw0kVnKo9Im\n",
       "J8ybt7Cv+3nAhztymREugHFLlImj+L9ctiX1T9P1mvbSvqRCaDP+Ct6Lpf1DP1e33aZ1natZvdWs\n",
       "5+sBJ/tfn5ZWYhmqeJiW0/+xlPgxs9VcJ/yfbmAzR4BhEjJbzc4uK4LTpPmWHr5lv7Q70vt8ZFxN\n",
       "WCzL4MmBhmMBnzOOq+5y4HZ2owzANNNZ1JfLAWDVl8cNqkTvNg+KcmEjw5Q/2dl5QPEhPufYUL6c\n",
       "ZK2vACRVqes7lAGLu4R+uoZ/V9ElePdtJ447Ro0pU7Usf3zSDttfow18QYGv8nyLzm87RzpHruUi\n",
       "VnMEdiw73mJvQGiV0aznYh71lDGNXimMxPEsxXQGXu5B+3KlPWiULaMM0051pzarRT97qIWuTo1x\n",
       "TjQT+k3ThXR3Osb/BZ1aYY009GrvPiCZwI2qzQIrotUJpcFg6M/0DFyH7Py9YlT5DFLMG8MH0X4c\n",
       "yG7ZptJlpZlKgEgD37Wm+4yVz4Q5yi9Qon7J6MGMioKmTjsuJCr6wlOzsAl4FezvSYkx3eviNv1c\n",
       "edtxRfyvGs9doyz63Le5dtfczM4mk7CNydNYcTr1+LgfzLy9NI+cKf5pNrGKe34ymPAwP8xm9Dtl\n",
       "f0I0egzURGYEXZl3S4JyPiB9f2Mp2ngWRb6GPJuUSGMQ1XlBQKKDTjrvmPqo49C3jomd4gaOydGH\n",
       "B9Gc50WMNzEIBDSiMpSdo4V7vU2Rfc52wpiDm1WOQ40jSIEoI9cLVFkcHVkVlS52jQlx09GCMLCd\n",
       "RVp6XnGhtgN8+9IUrJESD1NT5ijiqMWIOJYrAOZcSI2oRTYURo4mJXpWQhfQEz3R7esTWe82Tguc\n",
       "XydJa7RPRvI6ULpP4RITGa+MOe8BNDNrlhq+WkvmuiyCYrVAWUa+VCYlwiUdPsW9meCAWFvYgwxg\n",
       "43AlY3Vhdvq69g+N55SQSjzHg/6zwTfo1oIb/9Lr0DOkSTRpE0+m2WxTt5xz0JWi7PiH6eG+vKa5\n",
       "CElV6m0BG4eXUNCysUBM3vF4MGClAuIZE42f9/H8s/GVxvA9Kg/ngrxK5BH24QMQ6LZopkAKfRw0\n",
       "uai3H9QOnOOA0tzZoNDAFFhNY2vQ2WbR1cBlsCXovz+zu82/Yv1sn1kSSQId1f4VocfWrai9V8tc\n",
       "r4xKV8Gt50I7xoCjY3Upm4B0itJQfhqr1YKcUGrC2k4SwvY835fwKKS4VN8UKoRf+35d51gprhuz\n",
       "j4P0kYm4Ewvg/4IlUlRaew8h+g0br+9Y2fKBFgnYUcfQ9+lgAxzEHP20lYlOFsACLonn4W5C/EP/\n",
       "HVQw5q3y3H2GTJCnHkDJ0+HsN2ehs74Td+Bn1PcFXhLL8mbYHO9dO+VuBUq43h7h1k8HsKoWVDoT\n",
       "SmXtaFEBLgRIjaLwoWpxjHoVnRDaQyWG7K30fzAP+SHA8j5d7IwxPtSs63H4Loi3jWjp+H2dJ2cN\n",
       "8s2weWMXq6T8QOn113WtrV3Z+gQLx19Se08uNRyTSSARVshTrGk0l+EBkm/qeMu96y65sA1D6dCe\n",
       "txnlMb/dF3ew93pdhnHBejHlBERamCoJxawPiTOSxN/e9byzGL3gx204BFJH5EVz9mqo3Ayp4E/B\n",
       "FajDJsejMm9qw/gv7Ratd0SjPi/uyY/yGfAeQkpi/d9S9ZxAYvMv5kyjS6JO49TGJZaDB/9d0fR0\n",
       "D6RpEwf2JJJLXWsPr90eMgLXsdryJxNDg2ONXyjc96sHRtvifOCVj5RmVMKjLq9kaG1y+45Bx/CU\n",
       "vxcSMQI/9eKatv7E8o+avv+3RjYcFcMwJ4cGv3Vqx1gSuuDKANoD4efq9w0hVi8ej2lNaFaZlkCl\n",
       "9tuwKk0Xz6qXYAlFb2jbPmpWkVDq1kE/iV3g2m55D2nwbHjHppVAWSMdY1xzJIIm54kWWiNrPIbj\n",
       "3/oCvSxnBHCpmonWWai0u3ERvZKFvDKE//1eQRm1r6u7LKSlBm0IfWnJnMt8zCYfU0I9j6PU5EPV\n",
       "BvsPLvmXYBWUZgp+vEFnFq3oSWnlhHjIM0tOKsG4l8t+L2Z9y2z0Jp/cLf3e9AAHFeefi3tAJs3B\n",
       "9JlJbsv0nNN/UbDeoFxXvdWQgE97GrZ9ZMMgvqJgWI/K9tA4I1y94jBnf+0KwCancimS2lLbW1on\n",
       "2T685rH1M9YtH5ev7/5xmi1L4gt6Ow//6K0ETkTpfU5PhkSaPeVJY0N0FbFXC2WsP6+wIZsFLwF7\n",
       "6lit1feRYKvFIyUnFdKezF+ocEf47UP68fY61X6+NKSbXzNKvmiA75gaLK00eBixvFJRt1++lrxb\n",
       "pLDPfrcImKd2lo7qh+9RKQBhWES/unyFdH1hXh8ZDMyIaUdIKe+WceyIoQGdjMVXyE4rB2/82DtY\n",
       "w/wDJDqEbdCWNueFLx5fWetAS2wzh6PtsadAZDk6cp8zRrWvFXqQZAasY4GifMYBp96/DYQkYOtJ\n",
       "QmHMUbv46QSJlA5lXrQXQq6Mp2aPZ6zZx646ed0dE288bI2Htj7p+F66z6EAAAWWQZ/ZRRUsO/8A\n",
       "8ZAbm2LBSKPr3ll+Uc6ACdaH3pbcqq3noBl32HkI+b7O4FERLdd1R4em7ORL7qsjqfxXsR3YHEYd\n",
       "nFV8nKneJoJzYy7Ji4n51xYPyE7TF5HozNmbeXczSkwrkoCp8VL2WNnc2nfojpQ+1gIA7p0DHQGJ\n",
       "erWUpEGb/K9zYIx+IA4jlrWxHN3cXw78pi+4CD6wnKbb/RmJR8cWax17ru3DOtWhJKUBgGDAlkQt\n",
       "ShjSVRdJva6HbFKklvknliI4YTvmI+GrKWUHKG70PlTtvt+a3PgOzvEANIvdvzScxMU7qYMWEWu5\n",
       "WjHRIcICOQ1K3gbfS2i2r8jV0/H2i0t+ksSjI8hTJYUc69zKIh00VtL0Ghdh/hXpXEl4AKAMfc/I\n",
       "U4rupHLRYseJfiMkMc6gS2U4yHFXfLAxIvyk11pyDZuuTBgrxRoNxluLT3oSzF1BFxZUULSY19LS\n",
       "dKPUEx2Y10DfvMdVl+wJMGIeU2K7IcpYGYBfkrnqhHvW19F+AiqcpxQlRjkZ7rgoU2L+HYV/dqZ3\n",
       "dbP3GEwDcURP3aOuR/s3KjQolTBoNBUfOT7HytJevzwO23jisUBxcvPc+gkFAUFTpoB2i9168Ele\n",
       "P0+9Wa4viboNBswBYjm+FS2AG9ChOC5zKySfJOZiH8EsxoCaUF3bVyxQA4LQmtLqWSZhQb4o6Csi\n",
       "eME+cjj1FR3WefvfGVYqHbXWvrCpEBQkR//YKDiUAPTgPLwGl7QtuD0SXdJTVQLvNxb1gDSQLGEy\n",
       "zZkJ7lI6/FSC9soCIsEB+n8eVT6yVY8ulHKtbITJyDHV413yaEa1NYciq67nkQDz6O9zmIp9g97Z\n",
       "HOQPRR9UAWk72W0c3+sSBpMIhEvaOO2kw7vOBPU5TkQcTWlc/seb+EyZ0ieRmmHNiRDKq5J+Ful+\n",
       "1PoNpAunqLowF6gJCLmJC/HzdXQ6wjNdFbyw/B7Y+4KtST2D9kVoQXiKYUeYmztslvt0yF6B8IF5\n",
       "S1p3rJvH6QlLI88zdpEdSONXhUkvahdC05tyUI3b+sgJFBSIMYhEAsM8U1a9MJplJk0e9r8QmI6b\n",
       "sWBSRtyJbMEmY/NTSP36XT/q7vOXzMmJ547X5ixAUr6VN+q1GYfJKlh9D+mqGBWtK4eNz67iWedR\n",
       "HQzrBEMsoBPRaMaakEYrdHRSTP+Lba8GQvbUy1pQsb3gTnieYmkWKrNg3wNRyxwEAxCbu7SvPTVa\n",
       "avv+Tk48/hCZGQqeW7DtpQu6I9lpLRjae3YYUDBBmfMt5Uw7gxtR+KodbWLZb6JoACUZSuRISKaQ\n",
       "YON23XgVPwTp+LAz30RDolwLthMCLaW49/y5TcrZRzn41WMXfM+PN8pmRaiUwq9MyU5M1CfqhzDt\n",
       "fuKUUYosy0t3NxaeLCZTpw8RXcxqISxXFS+zxlp44d0QL8QcVKDyQszhFplAzzEv2Gy/WvIF9OLc\n",
       "aAybP2rC0DS62J11LU1cz1Qa6Sg+DBzWEB12NmPsJejKhsN4pF5BruHBEJ/jIfSd22A/BchKsTd4\n",
       "rE4DLit8J/yGZniEDuElvZBSq7lDS/H039ZWiQi2Lcoj/seXjiqlcrD5pysD/AUh4Wn8f1ZTUg0H\n",
       "55kn4vbmtqk3YMfKDL3zyoySmxkHkcEXJaah3tbqYDxJ6mkiJPEU37pBC+gf4lRA4StDTvrNmoZL\n",
       "wNVtLAwLeK0olBZSqLlKn+jA2URBbP7u9twTjFOppTc1obKZx1wEMlFEOcPqYFcQ9C9hM/JncbNk\n",
       "vfnNk7ZcI8gfm+YzocS2uAb+KFRpeJ9DJzRhcFMa05CR87Z65FYfU2WTMcks6Rrr7RVF6ovp54PR\n",
       "qRKCzx5MkA2U0Qhtq8ak6yZXIOLK+bwK5i/vioOTyf1yi/TAp0rrORDfY/M5wQNNa/9nfTAAAAP+\n",
       "AZ/4dEN/AJc1GhVIkAJeafhqIO6kIO3drdFF3rFH0vREAC9bFWPDm6qeFxk1gdXfFn8DPx1hdP3W\n",
       "aqyqh5UK5NHS+0TXO3attL0psxy+1Oucrof1afDwevEvsn0HAOkcBRY3Llx7ZFFgpNgA6lwPZ6Yt\n",
       "J+baFOcwSY5UJvHYQ8GVUE9PvSlx7CD7L8thvoAlXZIsyDcMdDY6qPjYfhYInkNj6zL87oDD7k4g\n",
       "SCEluk0rczgolITCJilI+X/Z82p2Vmv9y+1LHObO28xSsDw//HF97jVJNaNSJeqkC3UUGVLtIIXN\n",
       "GJU/Qhlh8UF1rghu4bjPVx6DOFILQCz5+knUmwhf+NmuJXctLAw1mXIxDUKc/uO+VyKaWC8SWGVA\n",
       "KbRNZagSvLf8maEraiBPr91Wl5xSZBvCrYLC+Dn+PXP1MR+xHXHy21b+cnMIxXrGP8RnjB6Gc3+0\n",
       "PtdDVYQtRM1A87DEiuA8Wg6ICuJbfmwqgdDQyZGIAn/bMWjFXh4tUHMova9kidIi9BLnIEG/wXs5\n",
       "V+PGNRJJxqVLHQS2JVffu+//9LV0P2zLwDwACCNcuIBds+F66jdqDQPO4ZElgun4a0u9xPUve66e\n",
       "pp23o1/CycnRvfoYsplIn4Zzq7a51nrQZFAdaGvV9KwPFagWyMeUk9wOGk/A7wtbyUDHc/ZFEpwX\n",
       "1Mysm5SdGi5nEYli0196LPtYgZvV9YxDqgvHWCkLpVTxUwq3AzhE5lEeHKjkuGMH72GkLzsSGOBK\n",
       "GsWBB/um4ue/NUW89VfAWw+HiqyRnj/KuxM62ZhI0TDlPr2OS5HM/Vmmb5CCxiA2khvMRjoTKCNK\n",
       "JYpEw+ltfuxRuop9+6V4v1e8EEUghHcyFmMWLyN52wHaNgLG2/pLG4hXmVtb7M7fUxpKnMhAH/t0\n",
       "r2FJIlZU6Ms/o/cUxrhwjtjrGyEnddXP3yucSZEIPkIFTRrOLD4PIDCoO29dd/j9MJObPTLqFUz1\n",
       "B6IRa1d3vRAWLFIgI2Vaao9396SfQ98M+HHNurQRTFHHKhKmDRx9OWytgS1K7Q5nRxdCMaHwmz17\n",
       "8gB4Hs1wg8ce6LXH7GSQFxyjOTQb3Gzt+H9Er2A+fOu8Ccyvev96duV5EWzT7U1hCJdS748/o4DM\n",
       "yN+FpiWQuUF4doHkm6D1xGef/Y6q6623Iwb12a1rFG/P2711eSRw+ptJh9wF5xjhPXySeFsr0ZFF\n",
       "ZnLY+9gfSc6O16dWPmAyVm7H3dM/TgigsnRAJW4ABoosfqvr359Fiq6GHZFbrj14qxCkK61XjOVJ\n",
       "KsGt8Z62xxgCUpCCSyBMBkj606goBTr0Da+tKWwkNPoaY+f9ySfUeXf+PWaR2xgTDi5Fjj0AAAQx\n",
       "AZ/6akN/AVddiWu/2XgA+X0oQP9m/qeSjT7Ol3gQPyLk/cbeA8+Z+v7NuMSkveDJ0h1YB8P9mLYB\n",
       "sWPdt+TmeyjBbhYVeOP/rduy3PbMxreLrx5aXdzeL6XNU7W8x7WHJ3JKAB5QY2FrdOSyb8uAvhyN\n",
       "I0BNyHfI9U9/FEM8OWWABWPLFHCV/+5ybqq6B+Xh9jyaX0FL5ETHICBSGNI4hx0QDTYFvZ7Hu/k+\n",
       "pbERFLE8k8lbVbLnOrGtQfJ7rUuKpb5YqOHmptH5f3bpCICrsSOodZx7QNpXYvjAn8ztcA4Fkjwd\n",
       "QjwRCN6B1RYlbeeBAt4Mak5pUR2xBGv/61wTKhUSHyIFzbg/aL0VNoGSz/K8dPl5LqeP6YHokEid\n",
       "5ZiG5DI0VGS32Twgkw2nXkoXzvmSuIZI+w5uPBjOgKCxifrdt0L6Wx4oQUiC5/229hUFnPpMY1DX\n",
       "1Li4QTz6jT4fCMMYUFKY54h34iPxXNfCkJjKZksP4ECReuU2cLQVXANzEJi/usJgxes+327Sh3dF\n",
       "1VD1FTlBeEPT/e3rUVVd4jutGSZEaLoXeQ7l6uQrGCHx3mxysxhaD7RPt0AVx2fK5tATwxG98qsY\n",
       "94sYUJvSjKh52kEHt3FlIqdPp//BRG5TPIEvnJebr8Ud8Qvd5mmrZQLU3pwXfPnUbbbehn3LPnN8\n",
       "ORSEQUXS8VplHOEtvueqnnug85qNdjGFBvDuyH3G78AJzUgjlFUcTTAGZehUUVRtu9RLsE5yXVrO\n",
       "HqI/gykYFywvXGAK4xE5Dk4OmljP5YIBjA7GvtWYNhIL1dtcozB8KkgruWe3PTXKFQsHrBmQsNeU\n",
       "VK+gswdfEicpaanLn/UsIvxVZYa7JnZUmIY9lDPxm08Q+yiXqRtPkwI1dWSZoVD8fc1fG9WoCE64\n",
       "S9lphFhUtnQ7XIYY69npkw2Mk4iBJmB+/WqHLj4XjYi1NGvpi7m0vbzJJ//ggQyxG+vNLTsg0qa7\n",
       "gOGcD9bPkVylYD9Zh3IGsvbcTXtuNH00J/+5ORORIskkX21VevYlNDflBrLyBtnuYW4JF59RPlhr\n",
       "bkIZa6cnVBFQIWQEOkNB14IXhcZC7S5LTx7WvW1P3BcN/y/t0zBuZAwM9zVrz3Xh2vmVDRj4xaU5\n",
       "MYGpcYfwNbDKfNQqWbZFIeBRJc7/oUZ5thKyIejaE7aEgg8JoyVQ6UVLtDUP5XDbOBRfKSQZsMD0\n",
       "wM0ZPXnTKBoh2e08vYhhRYF4rPGYRjE8LLoAXkV6xacpPINL4/R+2CMzaer/xg4Puy2zzsCyEACN\n",
       "xKNNsxiEkgvRlOozJoVXXE0VpPN/KVIl6GJOi7fvPCHDKP9iOFHX2yVgdI9Kj8Nimy61S/KzWyHX\n",
       "PXpsXnSSmrmU5f4NukFfPewgNc11eupXA0gD7FBZYwZTFi7lIcT6mt8edSpBOSAAAAghQZv/SahB\n",
       "bJlMCCP//rUqgTbZurglVgAN2FRt+iTWAsYOCuoXdwEWdn7tOyaZXCshl64+3Jefgg+nF8YV7Gjv\n",
       "FvkSeQTka7EtzszGRJyTXmLpMEU3gs4XmczAVYOnnCEffVpnGZBugHhBixWXPRjakjqsSqVCQrFg\n",
       "79FlobOk3/PdzmDgWxu1UojZ1o+qgpMZhKDlIKNizspY/RK5QqF6UPC4fvP1OLZ5NJPafvx4lEjv\n",
       "+fWQ7oMyRN2pfwB1aQOfFQCY1Xl/NBiS1uVuZpZCD2aFA5dDPzK4pG8sUqWYoZySxQCTtgkZ9DIA\n",
       "umIZ3JydPbjx5p07e+/sulO0ybEiyMmTvm/rtUrInkXWXa3XDLfg/pk6dpW/fxZZg1YEJ1rzxO+w\n",
       "HdHnim0wJ0WzQba0T5FnKpw+niH7oWbtnuK+WhRj2F/jXb+dnE/Fb9jgRICuUvUMafTR+L63R+Km\n",
       "a/wEaMTNrvy0/gYuHyhG7LH1ZacPOhP74p5SbC1xixjZ7Dn1ePzhgn/+DWy8K51eT8KDK0mntxny\n",
       "TeriA0/5EHA7OQ6XkbsPJj5riQsKkpsoSQlQWaa6wlC4cNPnkHLar5m0FRFVtgDBgf6l8+ui4gzV\n",
       "x/6koTNEWpLllbeGmCM0jnC4SY+eXsXhq3IJRg7RlINuaDDiAvME1L2rmRpxicGswWXo22z3Oix9\n",
       "cS4RLil0S6ergWJwo1GS4z9Y1n7uHn3areFeKwEG/jjHO4S0jZuM+76MuXqJQn1B0lbkagHrIAlR\n",
       "tEAJ+SUzp93avH9GScdp+kjlP7ly+TZYFEE6k6iWG+GbNs3EdaxRIFFLuqitt1R0j1DaV9i8bH+i\n",
       "gPXHBG0iIbLPOk8mG53p7m/01FDAriBcqoWX31h4quZnbm0xZRKQExt/iCQAPgMGhpuPEZ/t6PtQ\n",
       "OvDBdMzv2JnLI4NKBvdQ9AVAQkegoly4pbubxkr0nsVjyQ54QcYyGZ7ryF5/N2DyDMFXgcK5Bu39\n",
       "MSwyqLx9gMsPxH77NJ88xH73miPVJkTiLV4dGnrGBxxDvJLjenYh5MLRd8JRf1KXH/bRkApj+Kls\n",
       "sNJqqxPH2x00+yI/8qqwn1uEId2WRU+XJwC1DmbMZu2vGWO6YRt86L8UIVTYrmNpLLL71Zv4h1tU\n",
       "JIkWw+iaUesn+kred5VUMD34qWGD1ahfvZr/KwcXMf3vDjBk+5bZ7Eubv2v3D7oMSkgfl4HAxk6G\n",
       "0l/fBvdlsS/grs3odzIqL9ibCLQ+qD62AH8kBM3MRk4bh8PrHh5y08uPz3jOwi0iaNf6YgYSxrXy\n",
       "v+LD0VZjbhtowXG1CPuyOeH9vtiL6UypCMJtC4FRGSGS0SQu9sg9ohFDpH1tTZqJfgQYCgTb46yn\n",
       "R2HfLBF8ugB4KnQsk8IjnxkIdxxB1yoqmzVyjFiEshC/O7fQMxxA4G0FOofLfm1GfwX08IYpocjy\n",
       "K/3b2xOF72mKsCnmhV7m7L4Ve/XYLodQyxwL2FPMPHmtSIWfh/pfZlUBKa1JzQvbmzsH7UdjtBRU\n",
       "ucZqi70Ho7DKfRiWh6ZtwjB+6M2QXglnL0jDepuWYi9OCXDM9gLMRAY08r49z4mtlcJKojEqzghQ\n",
       "LEq2SrVRyFoRL1edN807VaH62qFI5XWj6x/kHE8mJJDXmILdV87LzIDpfQsVUprwcxqVi9x1Y5W8\n",
       "kTKGRhwZYdLQ1cJg0xkcMZJX9hgqu3nRy+5Or3itZELHEMMpvSWLdrucCpPcVEcFhEaJAreSKxf2\n",
       "rsx3ukAl9MaRcLZUyFprbhkLh3IPyJKfziE3TRfJBs5qu9fppwcub9pH64CxSF+1FbwbSIHDeEq/\n",
       "WFhoh/hqwUx7gfv8v7lbe+AW0f1vxBOH0EuxilGv91w+qWXbuXio6AvsOljbb0mBmx94bdLPM+Xg\n",
       "fsLmMaDStTyaos8SV6YeU+Eh3JpnOYCyerM1+XA7m7K61wBjuSSI9Xr5HSIJhIq6fdluavLRz2J0\n",
       "4uCaT4xv6OsqPQ+Y71WCw+FX3ZL2Dq7dBS0Ws8OSODWOWL5t2u8KOfRzfgzZMxhczuAekAdKeOfp\n",
       "nEt9UFKOYOq9raOZH46ebygiiypoIr5uNllw1z/s0xbZwuFsZ+ytKGQjRRBbyfcjekLrH/XqzJ7E\n",
       "saYVMaK7kQf+9kdeH/bnh0uARTK/28Z1OODmJtdntvvl5ctpuXGMXZML3NqC57FRtBatcpDmk8aP\n",
       "bhHJk4vE1TN2fYifCqBa2ivIY0Lh5dUZ5YIFWXo+7Ztos92TCY0DRetm2v2AvI/hfOv/s3N7gHVq\n",
       "Nz+q0bil4SRndwJuhuzWbd6aaK7Qr7Nd3ACQhwKn8k40UuXAhhefSa6d0vCdJWH//2wVVrGf0ZS2\n",
       "rCVtQNucfI8GLvkSQkVPS8m8Fp2jZeqPRxoH4SgqjlqVIR+jZEG4hwYBkhA+UN7gKRTFoNjeywF7\n",
       "4lSwBcwvmove0rEFxKMQKm+cpgdeyw9WkwhAYWUEdiRox59kR0UJhhVYXIMjMeImilMpkX1vFnqp\n",
       "VBDhk0ti1qIuEKASBv0+eIlUsoQbL2KMekNXjFKhdV2gWNJCeAXQjAGXt+9pPUBk318gxiH5DOqW\n",
       "uhaZmHKR4Ji8ELHLvOHKW6lrdQ0IwZUNq58qJnG9mBHAT2id68dAUPdxNCOQw7w+Jw/wTzvY7ITa\n",
       "3iLydjSQprEEYPyPkIEkVxZXl8TVqABg2Ve5/EPDEpM2zBhnx2yLSXzOq31zNoL0eO6dixBh8ORB\n",
       "FaeqgwpD2rG66BhhUVqDJX4Qv55dGYcAAAWEQZ4dRRUsO/8A8VU3NsVOkjaEtXdgBuxjTi2nZ20J\n",
       "cf5VgmlhXfvt0MimZlsxJuzmRUrFhFwB8jxRsGlGi1q4cpulyv6Vh6ZcVM6U1CTbABD1kJB7T9Jd\n",
       "GXodzmE7axHICvQudYjkS8O4naROEEDDBE8urzMeLYxKL6S/LKKhuR162lNHYFu1gnpRMU3nZtY2\n",
       "zoWudgcEcu96uQdxg6cR91erZA8JvrPwIR/Pb8acE/OPMlPFN8EB29wSv2zHiNMhdc6n1HSTlaph\n",
       "ufcCobXmAaJjahMdrPK629P3Yw3G/N8KSvB9i4NM0pxK1vpL9WFZ8vO8DrLdWlP06RvuyuZmbf5c\n",
       "Uaz+fEMw1WYSLSNGGCJLVKZ5nkyqpMSuBgAACDyIQ2BMxdL16eTh+zStA3H7oZHupRM7WrtKE0fr\n",
       "XMNDI7k2IDTb2FitekjNiWPGXN0Tf4DbYhIhNbst5mFuE40WKRzG0TmqJysnIAYQUe5akMF5v9tt\n",
       "1iaqGHJUT1B8IuGUB0N5oCb/o3qmzDFR+KKyqA4RXFLyG+2fgmwCmzyRmq0RALVf3JFIz/eYZ2Ee\n",
       "poBAIcqO5ZR6wIpg2o0Pczr8UYXTO4yAME2o6EWKkDPCiZo7ccQwiDcFFGgCHGd2Fv4TBdNEgue2\n",
       "FMUcLnCb5EE15mtAL4deMQ+iZb3n/FNfF/SkBYmj6BHv5WCvXFqY1DhM7gvLg3Ummwa6UqMr26B0\n",
       "VuGwyX5/jXYxHTs49mvDwepfog/9Q53jVi/BhRU1Mqb4hHswK0jYdhapPF0OCB31ECi6/eP7SNvv\n",
       "rcs5EI2syHqKcOcjJOOiRBub10BlQ+StQRSgmxLmNhg7nWN883bzXD8k53Ou0bYRN9BZw0zxJMq/\n",
       "bC5SVUxhNhPgmlpggWeIi49u9H/5TCmFAncL7RHaA//0RsqMMwMAPdLYLJViFBBr6ELZuBpQcIxU\n",
       "NLLgp3zxCsUHJnAo38WWwh8t5cHE4D5fZXfxCpKxky/5zsppc3FbSRmCUF66ipUxpXLSFPy6L5LW\n",
       "4ubXKa6XcvXIYvlO0oMJSbKiPLHqcB5H31DThlaDLROWPiNhU4tTYYU0DAPdQTSf5quiJyeDbDhE\n",
       "WLIeU9xp+01iA3f8JqZISwZva3beh5DxO8ZMIsp9xv4nF0UL14d4mL9Jc7AWOkcUV4NZdqruaSLt\n",
       "iDP5u20Oy9YMYfxKQr2+2FTTjMRBcs7H+qRHpCvRwcowbG3aAQjW9V3oVFx8FrWHME8+5iIpx32n\n",
       "ojDQfYf+moQAz6dgcoTCCSF7UCcF9xiA796T9Mr/O/0gC/xlA9aAgiRtS0yloUeb4izitPxQEyoy\n",
       "k8oxOBFKEU4U1tGTVM64U0LvueyycoF9IGuxK8eqMy+sZCgxsb6DNflhhE9olemrIdzySzz7LNvV\n",
       "Yft/pNPe9fRPpz3CPu8d+HPCpRlcdXUo1xdfMp/SqePlG6pVQ9MQzjqR3DlecfNalT1kRy8Ap1qz\n",
       "UV73o0QEBOh7jiCa6OSb0naX2MysNFGvW9TSYX4ZJqCsSZGLZUS30GkJXsT/7FujkWfloWEqiPVv\n",
       "9TxeQunR9j54wwPYglApPElxkb7I+YtwxSO7Hi1Ew1+zkvKDBCNEGkcOpr/4JjugKEK4k9jqBYoR\n",
       "8fl5X4TH35Qg/RyXqY7uAYkH6Vq+T48CQmNL3lim2OHSNkT+qHows9si52KpT4CzWrm28SZ2J9xq\n",
       "TYMPKfmpcBWcX5wAVbjrtiiNlSTiMMn40rKEzuX200PG40M8gFdopyNWaG3KFS8hDr9D81JM0EKZ\n",
       "2njcUeM9J/zCgD0XesmugSw3179wZwUYlkQKfOALnGyjzKIokXXVv/0dzjaTpE5ILNN5IF9xyNrx\n",
       "m8UXzf/+Yk1s6ojLX0EAAAXAAZ48dEN/AWqEkawyH7ZZgP5kp/4oATVnCNfF9I7rkUtiApSR9aW3\n",
       "xOcv1qannENTD7mYfDBKLGtjO9QBTx1iOZotTQbQWLEYj47CUA4rDL6PEWX8vSgCTu+nSN/OH8gQ\n",
       "e2TkBpRLvGvAq8UbZKTa5HgRngaTqVwlAad8/hyxvEgxR3jO6ZqrnZmU0HQTwYq0Bq/wSqL0JdwA\n",
       "mG3zvme+bSq70E7WaXtaZWrkvLH8P8IvYE8G9GI2w7pxuaPPPwnB1J+u3tScrwmfS6ob+8fdvbs6\n",
       "Sd0PQRHmDqfF8Cdp73IdZ3wcrHcGSbk3pEgVOIfxibW38FQgVtf0hZ1dadQ3rpOjlODkKLG3Y0Bb\n",
       "Q4W+ltxzicLWsQ4NTX+KxTr2/KY0hJmVINZucH7j6zLFCs8x3gT1LiMbhf9rWo9S8QOtj/w96i5T\n",
       "uPTBpIyzVvk+E7n/pe8aMx7TFQ7ntsM9Ki1mpGUyk48jOEFUFESOlCBqhwUDbkmljvvDEfJb+Mar\n",
       "obv97nasNF8cdAYsS6QPTXn8sqWM0AdqjfKvINp3liGR8PD2r/wXpG6k0UM4KOlCDXooVEOdgyvx\n",
       "Lf4hdDYypyrt1E9gU1mLi8fk4xUDYDFMU9wQenLlqeS6p4MkzaGLTFwlLajoXqY7eEwciD+xQclP\n",
       "LS2Ri5GHUV88lkK8nXOHOgMXplnZAUEPkIi1mlTzIPzUkiolAFNjwhAjvpHfHQjXRagpT4dH+68G\n",
       "+mLHzpDDeNOGsnQP3NwgC5LVJsLsesjBQwiO+Z7W4RsB+kkst6OqeGtU6MbBZ3swGpO2sTJXiZmv\n",
       "ib8I2rGxZcjbR4Gh4mvc1bRIfiNnvctCNg6QoPhsV8UOWe4Ps0Lra0Ah8A8mtv5/7Ia1RuQD8BZD\n",
       "cea67OrYNu7R4UGijElmCYbLwdUL+ciQE2yZYBEACsLI4VVeF6JN+hetk76yYaFlUMknRgQruMkj\n",
       "GNaHNphioUiuJPDIYGxrMsyCY2C7a74cIMyM+Cex59I/ml/qMOUYO5cIjKh2IrRuo0+X5+Fq1BDk\n",
       "OzbOFEDhWuc9kFfArvVrSyECeSR0pJrZ9smsybm8h+khKk7clb7Gs7cDjf9gwFQJD5oE0kltIOtx\n",
       "VfWV5ELoFFJWHgk8bgmXEzECN3ZBr+y8mg8p8j0ziBjB2PM807rLppAAjCgriq9t2/tndtCqeIWP\n",
       "DmpLh5JPEs3YCriXmYg9NSZLaZhQDOHLNnh5wo/qaE83P8W9N6e/yUoC6izZ0hkGMV2I6Hjb6VjE\n",
       "oXpd956F1BWJJ18Dc+imcdt+simh8/2cmR3PeWDdj17/FESB3OpnDD2O6sgKSSsJMNgbdzpB1WYw\n",
       "Rz9vlN3W+vU1cT2BHkTn7nRCz++bv4Cn6jIRhOGeBVj9PIRjcLiVdQRplgIq0wkPF1O59Tlpvqda\n",
       "1SD/3mwAqgAr5DJ5ORWtr2j5qqNFyz5RrO3HfyVa0u8nVNDv1OraxRWzjErpL9Xy8tGcTnUoHFDI\n",
       "YFpSVNMCmmkQtZlhy3tTg1/IOMbI+xhvChO07dxVieZ0wV9icPYzaYfcS/UlFoTFGJhjEVSYE46g\n",
       "4ePELqfH5sNxSW/H6lp+z/IQtsmk08Kjp3AHZeRrCDo89wz/T6VGsHb6W6zT7wjYqQqNuCBINdkW\n",
       "sbmwHUFM/Pow3NvlU3SrjXuT5qdYXRrk061rObDYGAJYNf2hcdcf/Xo3C7aXnDIt+RjEuvfFQAY9\n",
       "J43IXNOGw+WxPqqU9fTiTfN4Nm/pI/v2VlnyHVErcy6pH37s1Bcn08uLBZ4reRJYhBZ5ehuttOB8\n",
       "7HpUam+ivyK/LuHIZiFk8CDemLYcjeG+e7fq8C3alVz9lwjk7jzQzPCWwq9ihgJ4xdpVlu2qOeYJ\n",
       "cbzY3N1lFuM0A4RxlAAPhkVog3CCOhVBfGfM22b68orxPLnoYAJzBMa+tRYue0AK9Cu8gpHgJCz6\n",
       "UuM2KsZ4eAIAAAXcAZ4+akN/AWoCYrClbiDD1TPzWACdu1dpIen10pkGSQXwoc4lxZNvi4J8ptjt\n",
       "9YqXs2OaQSNZ6TjNW0iurSTWrBhM9Hg6P30Yw+n+R46JHAgTMjrx60y2mv7CqUkeFfB4FOay4hTZ\n",
       "b9/5h6BFQ4C8ZPEZvw39opZjdViq5ffZChiiXUvfa0/IEKlhPX9o+q029qOf3VDtYFZO+oyBiKu/\n",
       "eOczP08QdHER5vk9ev2UOSSoleAWoF9B8sI89pOnko5yj3Yrp1RIU02U+nrbha1uIA2yes1khxhM\n",
       "dX3cobkvzMczz2BVzyesaEcncXL1gapA6UfH26uVh/FF+rwNbi65ImyVfuoku7SVvaIqX6Idfyx7\n",
       "ZoLLjAQXWl4BPcB4sA8kxJ2u6/1CRJTojEoqGr+6gadB3ryPkV7K8jBh/NU1wQ9VG/zN39QWrJ4Z\n",
       "NHxgrtPrgTEzVoL8opOIccMfyH7cln3T6JjZx4+Eo3AWdm+rKa3c6XXkfyk+vJi6A82lSFa646YQ\n",
       "d6FWGXUS/tAWgbBqp87CdtqfCwcXdVWSa4oNJ51Lp0GEec+AJhHJ6je8xfxbHevpwTyQES9KzkO+\n",
       "DKxtY3etGRHTwQLDVKnfQs/3UMrf8dzMW9p5D3mNg/m369b6enbRWrZirV+TswAea9dsqhftOyKh\n",
       "KiwuDNHoUq156yYsPKNz0BmAfoaNuC6yQ1k1rOJfd7Zeg1OoebDZ5ELX6Rd3S4VworXhAznDzvSS\n",
       "h68BSF6g8HLqXumcs52BA7lgGeVB+pnZXwb6LGDaX7nyC22BtPpR/zE05BnrxnO8x6Fe1c+is0o6\n",
       "s0KrbbuAb6GZ0l1/4EpIUNv+yqk7CrP/fmIOe/o+ECHQPBL4f2RLYwu7Bm/z4DA8TUhx47aYQOxX\n",
       "RFaXdx8pTop9RxFTahH0WRbFsDeMyMU6Y6FH6stIfS1xqVAp/itUHdPqW3M8JpBAI2xGtbcorYjz\n",
       "qw74SDnot0f8izn2mm+iw6qO+wrkDZrSQkvT3BJfYL3PTjgnZygUNnHgmEPqEo9fAMkt1gc9tNZp\n",
       "WgL4ckw3nMopStN+LEofeLNNEinLEvncmC9nvF7/RyPpe5cKxEjypRbn725aNE8PLKQCNf6qxxgN\n",
       "VSo56+yX2bPkcP8uUL/H4+lV+B8pmIeyiu7DUncSBAeviYyI1pJH0iOClKa858PWtiVZcaZo35Zm\n",
       "24WsKr0pAwmnuXTUJH2tTwAHjHm01Ui3hiWxscda7zbkQhabArq/cq9TmT8z3RRKBihRogoG8XLb\n",
       "UBar9SSfVBhwCXYZRQTa5V1Chz5CHRhKJFRg/NIyQUofew9LBDx7YxU4PbKnSxVcB3dw1U8LJoEk\n",
       "YXq0Fz4M905wX7jCjDTon7OPOZO/23jMc6XSMf3eB6p0KiiarkWH64Zy68XVUFAyJkOZQxIPwR59\n",
       "xyHA3wPpagZgYOsWif6xd6myzx4vi4xrCgSm5LcWymCQ32vE7mO+o/sZmUDsoS7N6mMytbO5tzfZ\n",
       "7m5HBODA2AyeOxXQa+OtBdf993UCUIbq28JtKKZeLPvbQPBBazSHZmol89SfJkmi5hsHPtsFttkx\n",
       "lziVv/yzadWZwWNzmGPYZS5g6eXf1RWrzLYF/7b+oGc9FG/aHcgq5RXFg38qVsEZstFKq6ddWv5e\n",
       "N39nLOwaaylfbYWCq3azcsR+5IDUVcUdEutheBiabgpfLnIKUvsue3Z2w+H54Fxsnb8zqgqkpx9/\n",
       "s5Uug0beX/Z0KIW67/sbqqn6d8cuPJBQIDUp0qp5rpsP+mSRLpqaZscTKJ08cir2hElHorPrjHRy\n",
       "z8X3qZXdovrlpEQm7fCfaipQHa5+mvIsOn+0nE9fjeMDFS2D/EwgOUFdy30bIXNCFKdLyRMsK8Wt\n",
       "nGdCQLoa+Z1Cv081UxqX6l98bP30EpVKOI+y/E6M69tZZLHsQkqnb+RRB94y9ei6Yiya8HUTk+Kq\n",
       "C9uuv11RCEA1SEYn9G68hbm1F2ms5vLBY7YGsp5wAAAKBkGaI0moQWyZTAgj//61KoBv+qrgBdUp\n",
       "o3FWRpB0jW+ccLX2RAngviLLYZnaLcLoso7r5WEjW6lPqNl2C/2xpo7V+vRaVgursqC2V/5Pausn\n",
       "8Wq4zf0NIe+P5ZJvP9ezHcLNynJvMzKhkokhLAx3D7oUAHSZu1s2ZVkvQjLoM5lDGOgFSAkuEj6X\n",
       "gg8eS5vflNo2GIBtrY4vV2qlFPifBrb9J/sxonXmKdOhxlJ00ngwb40f/IJ3ovaalWkl2JStO/5I\n",
       "sXaTZA54getMrnkbooiCQUfSKMuYKl/Zvcdt2q2GFP8FyZRz7erPexbYgNRY00OWAceQPDMt3vfo\n",
       "MYtMdkOkmF1rHVrU5uGkFacYZa1uaPd23wJmRwBWOzzLOiGfXg4nj8NgKjWaBAGI6gg5xh3+ODCL\n",
       "F/KvKneFyAOD6rqQ0LPvguubSXPgQgRbyoZB6Qx0NXLjxbvYegF0gNOOxe4WUsEctYAZYdPV1k85\n",
       "w9A69kXZ9mwoBTrolgT6DFZsivU+neOtpUyz4W9jsrkMiaNp1A6WlHSBqCSP04FikYhcurqXcMD2\n",
       "n7/+Lk14sHYwRbBlteyB1yajYl7CoGxBCKx+5d43g+t2ig6M/268YERQP+OuFL/pdlcMNhj3XjZ9\n",
       "67nTbPdQiqra6HLi0xoZOArbFnm8L98sX61xyNVyNvbWBs0uOmoq2nGwxl3gqTwahzOuTNr1NLrL\n",
       "ITvMp/C2b8nFyLu5BOVcxPbHFG7uTEw22aUE5EKZoZkBP2saNBLg4BK9agrndyK4jvpBsate8jWn\n",
       "3CU9D+am7qF3t3mWluHobeinEwj6TWSl6yloeecVCmfgrHZkcMdPV5hAuTeYkncNyPshhgy+XLfh\n",
       "BXGgvGHPXB0V09WH8eAW3gt4ItysW/GrlZlSOIgnTzufyCgKxVh0S7mK5yfeCUcSCoMyktsxjh/n\n",
       "wIz2r9fk79L9RbvN7sRjYiz6atS5MEWA5eALKM7Zl/NTyBeIzjopagSyo5JerS9Rx7wriS7SvnHY\n",
       "ii/DcOIr5paMkHa4AeHWGIILP43/HBNb1Df1ivj+mILZMp7HGinjstx426X7oKFi3LRJihyTyDqG\n",
       "m66hpvymiSRAfgBjPtCgSQTRjH1Ult0XYQlVDF2CilQ8m75Rt2VjOdl0F7+tFJvhk7n3t+hg9cuG\n",
       "gavd5GGma8iI5dBzpfcmoEa6P035TxRoWj1tEYGJ+tIVfKXKzSG0qbuygypgtQh9c1L8qhcA7OEP\n",
       "0hQoA88/73oDG8byex63QbX1YE5vHRgCVPj+nFE1dOQuzn7BdPTIpA7udLV64qSCugzFIpSlwXNe\n",
       "C08x+6Rpd0eJMZ1BDI2PIAaDs3yro5BywauC0OAmDfVGFcAX8mNQWoJ/mdCRUXkRyl7bOCL8NijS\n",
       "Yj1/F2bwybL5M1RUr6W9G3+z4GOvQXm/s6MnpflRNOSlYePzkiDj0I6GQOuYNHFsp/svdXu9S4vW\n",
       "Ycbh9wpiheWB5jxSxYV9Bz2+wVvVr9SGhZXSzRPEpj5i2ZElbWxKCBPOdaCDaQ8LXvw/DqH244dT\n",
       "55QsbIKhIdhkp86gpyUFK/NTjax5hKl73n8EXIdjB1SPex6FAJC2eIdPXAdXM2XC6TwSAmNyj6P/\n",
       "/G78GvtFqLMhys2ajwFijcorkxHv5oiM3RmH2whcSfSrn4lf2sJ5JhDBVmQMYlFFizNPSYbR0tVt\n",
       "N7nmQlVETwoS+5vpCIMoImh2sVT34wxdLnHQxBsRg0z5c1qeewL9obbxmvxVBK+GoYEMSMUpe1aE\n",
       "fhiNZgjIklaIv6Vbjoj6quPYrku2Ng/rItIUZI9fEXyBjckv7HRAaPfgOFgh7mRLVGuElaUi4AyT\n",
       "HAV2+1TycqkjPl4llAqDYT+k9mt4SOWB2LinwvTQ6sicZWc/LLSb0q8Vg5Oc36r4usqj2vii9b7H\n",
       "2lDeopLawcQE3UQ/271JNld8HF7/6RmPgH+XiNGGBozktb+qvw0L8iBjODlCaBlVmJB406iM+VtK\n",
       "E/plFdR2neCGEagtg1fPnrDm4y2uWVlaMO4F5d/+KrhpJzAMLe6bvgoM5buIATv5K2EnGe0T3i6A\n",
       "PuAn6ycEzwBDrzlP8t/p5fvPC+sxDJ9gVxBGdiDf6x+cX64JmLa/RL+l2gb7CetuH+T/ScNR++ug\n",
       "mU45Y5CB1dsrfnDtfB73oaSxlTWl8dr7dXaVeV9M5agrAT4/ju0EYe/SZbBrarO3oZYfFtF7opqy\n",
       "tRv/acp93qtC77sBIx4ng5YaXflTiWnWsd0O12mltLTyM3YzRNwk9e5PQMiINSncCaCqLAS8Vn+W\n",
       "MG2xlmrBN9YuOJeYrNLsQ4MIShwdTgM8LsfLR66JtagqwfKZKI5nJbc6aFcvTMDIQ8SdKrpNs3+p\n",
       "pg1rcdlYf7GInQOkt+AZse9TGp7uEhPeIYJbstfiiaME3nk4vZxI84iaE9FHlktBSVoh+VJ6gHEt\n",
       "O7F5yAlVkvuGPJ/F6V3aXPWpclWi+n6tWRckYTSX8iP//v5Qlad5mxqoeJAAajiCHwsTNyv4ZmZf\n",
       "wcjujbV1LtV9Mxk+8LFDv6ZxCAwiMnhPitj3p78xZsLTjXa3VCyANmvA35VbLbOQuFacF+SXs/Zy\n",
       "5uHmywu92y+hjKk4VjSNuA3Nn7o1prj+Get3WzJsSarB/3nNtQeH1AhrnsaydgmsX5TzyB3e/sWL\n",
       "WoilO8gviqPE8I1Uo73caHnmYjGCkfK7JaYGsFmmn/kmyJoxWnIF/O+yzuJ5f28T310FjvSC3TNp\n",
       "zgXAUmH2Z93TFfP8LWZ/XsjOOTIECI3U9LV/gX3K74VCVOMlR0mjh15vlsp0ljNqoLYaDIrRQCc0\n",
       "pf89YzZ1eTn6BFptvmdAcyGLTHbdWJRtS85G3oVag+r3KeBODO1/VvgDCyhLT9JO9ZhoCbjk6fW4\n",
       "C58uDJmy0cZJdD/2Yh5wWBpJc0tdvrFBjTE0OeZonKYFQSKNxiLoiDDXfT3hexm1N+vlP/pxvKaZ\n",
       "5G3Sqy8P17wek6jCQx+kC5I6SYsBkJUNjhL1zO+R/niXZbHaUZqjg9xHU5joEelVBdNPaHfMDmrC\n",
       "Zc6+D8UH5zRtmFZ6l50ITxsc2Jt2yBZ54gQ+CMgTd16VxRxowGvX9Y/xVIJvKPepLZz/ac9Lf908\n",
       "mTMNqorH4BGLBlCKK61pT5zN1ozPfWn6OThA6jovowprOcVyqD78j57sT7pq6zUsnx3YAYousjpL\n",
       "cVOYIiZX0/7nE70vcWXSOp0RUBeAY7hJK9vbr1fvKYBj4tqkPbcirfcC45jy7+LjMFoCW7Q9Gsne\n",
       "FMIax8YBQhgJaRKGmz9iju7KCeFyap0AM7c9xpAbWugsQIyZmgNrXwWdC5OJSYQa8/AIULaU2K8k\n",
       "Wht1E+/j/F7fBQyB8A29+fejyl+2iIErhFHHqeUs9dfGRYEAAAZ1QZ5BRRUsO/8A/6wX82LBSVKB\n",
       "6AC6PYVM41Bi/9RP+86bDQ2q/CNUXZsAiT4v/AW7sxrkZOf8/nUBJVzAnaCPO6sdwOYPdT/NJr6Y\n",
       "0pGoZHvucdcm6BRckJamlnLGBuANjvkRRVNH6l3ZdM4k02pFZotJMTgteEwKosrVmpygoTN5k5f7\n",
       "kdNOHlVajTyrCfqWMJQYTfJd3bnP/swtAPVyVXlBRklfCknfxkFP0oyhoEcGsfuL/pX/nFNTwCra\n",
       "tZU8QMnsEee7ZQWeq0smFLi7XFZNmPFBHv8QV7mT5oA1QD4MAx6qyP2hBnOOWQo9XuS2K7UaCGvq\n",
       "4APse9CXEBZRqDJ3lGlXIk9Bv7sWJUizLc4mEAkn6eIhhq6kaATIcnO86JsjLmJkWvZ2s7T986Z6\n",
       "6f/EEW5PMcdLWd0rzhBbjGJRcdPVrBcwfoR7VRM2twxRywVSR2megXvan3ZuRxAIPBcYSTF6kNp6\n",
       "LUfRPHSW24E3fErUrqEy7w63L93U8p+ioRFqjLQQVP41uIdrNGZ1aa4rSZgkJapzUpZULWEqiGnb\n",
       "6zI0crmAYWG7lYGOlNsQPMHzjIjhsHl0eGcx1XshUVrsgOaqCXMB31IUYeThrrHZIIhp2fNpPRv5\n",
       "CdFW6CXwjIe/kT6JFB80ANklXM4f4U+0H6esyIutNwfb6iYeSmfhYH6KGzIv5ShBLH9hk9/9Nbj9\n",
       "YTDuGnTfyeIg8hxaZ4aD1CKgWSXcrvRr57Of4+KDx4wfD+OAB/AH3SzZ0s1R4A37+D6V6NYufyWK\n",
       "33uHPeX9uOQPngJgynvaxBv5xN6SzCJ5cO9UDS6vi7gBCCEqUbndKHVEXurrqJ7WwlOISmjsGm9d\n",
       "tqhPR0cz8bbO1mU14t0qHFiXFog4YUyhGYhaQd02ay4FyI5tCDBt2cnwlq2y/kIzgv8Cdf8c2xQ9\n",
       "aZh1/5OWoAis8NFF6BzzsAbayATLcrIdJgYeI6iRvQWDj0tgzpD2AEamCF9QM99/yTnPxBjRMxRA\n",
       "NGu8hOAE63H3ZLCmp+0FpXUx0aLa2YFcUyT707l6d7P3QMEhCnZR0PfMsZn/oczoZ5fOs/JqgSL6\n",
       "dQOq6No6Gc1aMHHYErQoORYoa/QKZdTCgy4Z+INwvMpv6V+H0UERqqvRNPGqtf+t+Sa3cYpKc4vR\n",
       "4QFVDNDdCcpZd/1b9DegSg9X7m3eWA1sOWrltj5LUoUceAKw6VL67PGp21bfPZMWRET8iSnBXdPn\n",
       "Fr3fZyPd6U6OjJ6QvBnmmbiylCSyMzBG3UY3bQQCMcQYbAFS/M8R2T6HWFsxJ8pt99wn7gDeRw/+\n",
       "RA9YbCYEMngfzi2YT1nu44xfNTCb/hzcJLlP5WuxhvuSfYJid5blq7q/9UoeKg+MkxEESJofNfvq\n",
       "NI7Vv786ODani2Kn99r53MniQt3YEdRasSgj42j/W+9Ipk/t6q3TVF2E93/raF9MJsK/HxLccBD/\n",
       "m4SYWh3Lxv9u8Wv/ZYACmY7XLi8oJ/ZQoBgS8WkJcsoNoDA1lI29DTNcMxO4A4yIREHwseKJ2Vby\n",
       "YrpK4/+RcWlFwgNS9uPnlIZfzIjACgksO3Eg4CHQY0Nun6aklZfldFDcJ8mAZLhdhZDY9ZNaeidr\n",
       "euLY5A0G9mF76SO2xL0gOsjkOK5eOf+M9CgjhzmbEv3vczRBNPtwkewbnMFiHPiWQBgGOFTrYU31\n",
       "wlr0xNmrZFMISCsOsPdJ6qW8C0wqsKTzvLJMcLoFLC8CQuqh6DatDWUusvB1eByI0uACK0Kc90vC\n",
       "GuJu99vrQKfh3uMXfHcbsgYYDEuK/afAYpnHq6kVQRk6/cPsjhrI24HRoCU99DheIvS9pMm7ZdM6\n",
       "S3L8Yc7k5MIbiioEfkMxt0DldwN2XYV3lbv17H2U0cGtnQBWY3WZUAHbYyeavlRNXbJS9pBnyqaA\n",
       "z8DyScKs/F2aJPkDOaNxjcpjOYHKHl+zFUjHAPacGiY7QdSoag4XwzxIoMe5/NSmj4NRio8bC83P\n",
       "oKoOvC+XafmEzEggF6AogQBXxJ8BDcYS7G8RfKX8GLu85uYCvEiO8M2zTx7DncYezgL8HuWd9E6v\n",
       "vX6+4tHuQQeic3HlpzwiKkquysAzOaLiUN0fWEvfmOC1bGQyhb7O/HtqUghgYfazWBUN84mHOZ0z\n",
       "XO+no+tTLjxaoZLFNJgDwBquKZUm6ESsbdtDmX8r5Q2S+fYwNZXIAAAE/QGeYHRDfwFqhU3niKr0\n",
       "ACdmTOZpcV126q/61Pk/2YhjIup2lyjh1vJ3A2rnSiXCfrnS2JMZSMttjz3aICurqctMtFl0zg0t\n",
       "1p0v7fmDytVYgPk7QOyzpeC3qGJlPXqAA1u1syp3P/zhUAAf0263S1mep92u327y7/t914FvRl15\n",
       "nCewRnUTdQzxCIiszbtxwwNF713/YPSzRbZTkWGlPjN1IJTwuKE7pMfC+Ov2AKpZR7+FLTsfRplT\n",
       "cDekKWTcTMWMQBwSh3xn0aUc7lDRS+/kLlYFa2zW4y9XqDNFKty2bVNFTsDLzOUn8fDSZTEJ9xmS\n",
       "+f59KYyfncVOSwikltJqVf8tIlrrUkRlBFHxvZiTQ3PF+9soJgI+y73JuwAK3vs/sAcENe77O3Um\n",
       "tpO3H1VB9Yo79uEf9QKXpKixW9XYRMJiXtevD3EcIILU1gEQ8OVe4hypbIMAXVKbQXEGkFh+m5iU\n",
       "D25npAX9bVSk2OPjdkzKdN5D/n9Z1o1hrimKtW96eHjTSxvJm2wbTBIbNXdVA1lA2IN1JQjIFSIc\n",
       "Ebmzx4rQxVACvJ/1DZRFJdhdX5JbyLJnY5lEhNwfCU2Rj78LarsI2jhCQQd9HbY35uahGsj/jo5b\n",
       "b28BaDWToPI6jSeNKkK8W+Wu0lHhVZ0bW8Vfsw0v+Md7IaEmQt/peXXGPkIP6bVTeVB4t3msiwzp\n",
       "jnzEyLRFrm1EcueKdgBT01QErLR+LuRQnCRw6ecEkhJ7RPYzlJ5p6nEQT5qu4hEAR7GZq17NItAJ\n",
       "lqeceArSmykPLa0JxPeCiAgJk8FTfYArTO2gjC3UnuDDHuDl6e68MJ2ZpaQ59kVKSuXVNrHKgeu+\n",
       "c1SqoHB26QM1tiEx6X4itNpVskaDz3eOI6KkMagI1sk3oB1dh5VCzmSIilzZmGQXnqtlCIq0XgCA\n",
       "+trwPDWSQbc2gMRmQz8Ighp5r85krbz5BbVnhSpdCmzs9ZNPE1MzLcmWvxlsIQc1CYsR3z4s5c1Y\n",
       "5AngYg8DXBP8nz2dyxcRjp5UIdlGrHXcepttHUY8nR+I9lyNd56ABgGIPSa4I268wQpHZFHB7dYz\n",
       "gKKNgo6FPO06/NoGUPO6dkYlg7JJVp2Lw4ZZ+V1eljCSJWyhRGQMjL5WweZjgeFIyUMLG6QHeup+\n",
       "HAoMYYZqT5RNcNl6+V4XdgweAq61bgDp19f22f6/+o968YLdyeptg6A6NSDp7v2RSiJJnwXVP21x\n",
       "7PTEtmy9pKec4YxsNmLpsI4waU8nKqOVZMMntirq77e6rG+rPR0LCOXd5gVGSVQyz6ZkSsCwt31p\n",
       "2CgmP4Ui/hdbAXHwkM8slCp9Jrwq7B30Wjs8Y4MHjoptbvEnHQ5xNv2ebDK08JjOabH3ABHx3HUW\n",
       "ByC0PRvFoibLftvsmcKsvfAVNvtOcsGquVxzYM9jxehspX/IPzbQiYPLF9ArDj+ElWXHeZ/Bs6L6\n",
       "Ww6SW9ynNGMj7jA/l+SGgPDhfbhwaU/bBzjK607LEUQ7ExOYKS2NI+5Y6WdV/g58g+SY+UjUPxwR\n",
       "/D3/vFKoyz2DJflkzsZrkEpYZoTLJn2fsFJk+EkZeueOjxTHoZhDgAaCp9DW5WNsnzSGHyemvvSB\n",
       "y1kFAQLSX5L6Tt3AiEA0AbNSm2EJahCsf5cYJmryiNLLCuPGa58Qg/qE9oefH6bigR0Pz9ithC77\n",
       "HsfX6a2X5HZxAAAFuQGeYmpDfwFqpsCqhcAhgvAB/E2UrTUz6ttT9vpyZJK3Ji8SksZVle4uF00C\n",
       "ZLa1uVY9WQxQN56F+JBgI17AlTQqRcJXXS7XxMy4kXTGfy0lQWiMFxC+r4COpo3DpUTCwgWGmPnd\n",
       "aNuMvLXu7UM3aa+bqdgHhdDslhFgn2MnODhVfEKdbZkrj0pVubV2EWAvCA0iNBe8ipBOC/9lvYMV\n",
       "KL2O6VzH3PjG0RWlr3kWi1SezJECqVcvdrWOwFDeFuBngcmpaS0FvWd1NStwNeR3wJ8ny6wzZu3Y\n",
       "LqusK3ZBMZP4N/xAD5k6ZY0B/idt/1HyaD6/ze89sAug6KIvzcVyh2TPhv6EHsJOCPbhmCdaAl60\n",
       "A30b9N41JLZ6d16y46ouipMB8CUnebx6d9eXTIz5z6AcLUwUTd/6sje0OaVHzFhen1cmJQfkWVgd\n",
       "WdkaivAFhYE88SEFQu7twkImnpk3tBk0NpxOeBoha7katRvQrbC7HArjmi7vqrBFtXQBEuXaLa5e\n",
       "EJZoOPyYAkfpq0Tn3uckCzwJEIw9UXMO2/4gdWf0bF5GEgNQFZQoSaPIOTJxmU2LyTi+QtxN3XcL\n",
       "HofbFwBznH5UCJKrPVcj3agYwuoOGxjiayT5kwvxAHXqp8fNaUegnRhhmv7pUKV5XBOW/QyK9AF6\n",
       "0CoZpFbjBLtjkpLCuXegxaVOmPBCs3dVmYUQ++LzRCed+UaREp/QjcijGoE/pdhlZ6nD4oilbou+\n",
       "QPxb+RfO0zOVTmKrCJ9fuBhS4z++JeW8GfCNRyWRrBLHYxkvsHx+Pkn+0F+OZSDQftct6ugClZEy\n",
       "d4Ht4EMzZlYokv1pHmGARItOqT6vh7YS526W+FUWI7rSWw1avhhA21Dk/WqSUUqz1piqO4cJOIA5\n",
       "zvg7hv/ZIvsR8Vz2HNWW3JU8rmb/fnBFQ2FppK+xQ4tPGRH78gi8QK0LO8V9VgH/oyxyZJ8i3Mje\n",
       "Ib/lbmlu0kvTOV9ChHyS0BvejTBr6uGKObTX0pn1jfZs7WbranyrdGg0IgVhO4Sc63U9eckPqu5c\n",
       "aOiwgXzibkBinWN0J8q5MefFdZfCzCcFcMQmQhDx/tBYfbMln2BA85UtPPg6ovvGgs7gNOTvvwZs\n",
       "fa7aMoUKzhwsfRxifOnfnnlmB8Nlgz9+RdcnP3Lnm4QkkSIdvCtvd+3BiMK/m9XKAvh3KXJXmnfa\n",
       "lLjNx1D5uiNdGMKkMUT64yzxxPrkRx/CIPxOExluOFGjzS8MQh3ttfAmVQ8+BcK6rw4M7gzH5aTp\n",
       "rB1Nxf0gcJav46fgMoave//Ade42HGnaKL4dqoPsDFhFWPZ8f3r9IfSMXYaEE48ZNkU4EPfsuSi/\n",
       "TNP6wonw5QwLmBJepUccFMx+N6DroF0mO+MU7qGVOYAD9X6zxyKk6wRlsl3O8/YOTPyWf274BhHE\n",
       "sfYKnWVTvHxAcmIesCbmQkRakR9KdpiFOCeKJEbsLRuoGMOhgiwYttDZiO6elDMiKiCiXubPHMEx\n",
       "tbJY9CdIIPmfXwn9AoOJaBZhfW2ukilbFcY2UYLWCwYLWjk9RxuuUgwM/ILfWb2IHLVBws6zfN6L\n",
       "SNCvLXReM0k09aiTveszHAZxNKXyRH0wrHywa9k4D4PCyE3+L5sw76DCs93YlDoW5NTbR8GerHJW\n",
       "9OPKu6YHz2lZ2/aSCB8SNutNiSSozBqm6X2sVAMEx3KH1BEJ/UJOjVgl3ODmJknQgUyp1InsPMwQ\n",
       "tEB0PV83Ma+cZtO1ms97coWmcL6nogwuGlDstsuQ4JGwdHbSl2q4b1909NxjTPoRHdhOd7aNMxfF\n",
       "zaImX46ZVAdYwJ+aMko0B7Y+p+xqZYF0e2RtXiyMJjCGkIv2eE8qXkLLEVmaFqCcKFibZNeQyVZe\n",
       "zsiZiAlpHt+O5AXuNZeofXbI5h56T+W2Y4MfCQpYeZEKywk4FVX8nyYofymBZhu0avxx8LAAAAjW\n",
       "QZpnSahBbJlMCCP//rUqgW3Zupe3RwAFvSmjcVW1gLGDgrqF3cBGwc/Atxxe9Kv7a4K8BduyQV9D\n",
       "NyGqdI864DTzz+wso+DTry8h9uCqisg7mpFSDJutoOBtxzNWfF2AU8SooUK5J1IilViPJvddoce0\n",
       "ir4DH0WRr9Vgn4aTUTww2V8ilYmvpIin9oUsM0BA9jXsVr9l46NG8OfYIch0sThCjEQHm/SlUQPg\n",
       "vVhWgab0jkfpQ2WtdaKzDWP0LXlsU1yCyv0GW2tFm+To3c8k1X3pUYv0M0KD/5VhsHdlu7cIgEc+\n",
       "b3w1KlrpCSuCAvSr7Lz49PjhTElEX2onUHvsz7MU4G/6HR+LF/2+lBbMwd52oZT6SZi6WfubNfvW\n",
       "2alwWau34wtplJlFazYgJefxIA4H8n/YUIMy7kFi5BZkRk87go3DAvTdIuXbMQSmdz55f0BUqsr1\n",
       "uGwTQnv8AsY6DXSODAHnQZNJoXgUabE18kXNwQKK2XQ6jiWAsQ7PckMUuBsgrNBgqBosDA+fez8D\n",
       "/BurFRjGiaX/p6UfrmlmRguxV6t7jqJg+nWkrkuJjyqfjhpcUrmxefeEMU10pm9YlSv4ipnX1sW5\n",
       "oR3cB98/IEXbfEBo6yKIXtJa9IbOCLHT7+ITfW/FqQgGAmiaT7DszbXNEMLl5UPe6ZrFHQ8qxXfJ\n",
       "Eizo7xDbAcnsepHp6j3lilSIWaqbJlVEYiXr0BOLIwMTOrRev1tIqSlxHDpcYN87dTAEXPtH0+KY\n",
       "3hvcscbDzq/9MNNh742urab4QE6jbI9AMuG5wIU9f13a4gTE6YUL3uPXiIzpiBpXJWWF/slNrHKI\n",
       "SiRMPVYRAdPU7fDSuws+C/ZEx7ZoCjOsSinFI/WXqzIZFP12DghwQJw917BxUZ1ufrTZ2o50qvlm\n",
       "sVJEQBAaoGTbl+xc1gCM0/qQACygDioX9KpTq3QxGJBRm8BS5lnOQDQjoVsqu3d5o0rDmmITV+tR\n",
       "g4guVozqmsO4amXusZmQ8j3Hhg75cj6drLTZ0XYnGBHlu4u6ZTmETs3qfe2I+2D/UmpiLs8Sz7OA\n",
       "N6mUGayBz9X9PNi5Wfmu1rK030CsRVigiu+nKx9Qwle1hTGWBypJ0p8miuJCE2qPb+JEVTqYwgAA\n",
       "1OcnIiq/0/Z3FUY0+DgPp07paRShTXuXasyndWqUTjK8bt9MtlPlaGr/gyvfRbq4+vXIv8vExuBu\n",
       "XX5N2F8u4Rhc4HbK9Oi0GqECgVmqWTHjKCFj2jH1xdNbmDzj8/EWqExx0HQ7Znas1VSng8lIsfKE\n",
       "1CyhduxEwTpxOVo1a2v9Q/shfqEzKUYUfHGoAtkppm/M7NM2YDkygZ37TXKrpRMI+oCQJRQ37pk5\n",
       "QXHJxaon/9x0cKgz99ycccvtZjWSLjtMhuCZWxxggeY8gaxlmXpYbQUDsVw84Vf2sVMe+ONigWPr\n",
       "Eg+R50W3Glh4HElnjvaK8d9sNZqzrFtNvSiDKja/uoH54h7Dj00VDPcufNYuB6+hrY6W0MdK8RSM\n",
       "u6Id36YDToBmu5WIo4yV5uAbWA8LkgxLnorPYNb2bFbeUj7T8vPtSS5DUksXnKg85hkCGS4uFSPE\n",
       "Y95nouOzVgeJbtCsAzPH89Zvd9+7sBnsJewzGaCEptR3B0G4BJX3tMXPOUmJDMXE4HsPviZ8r4pM\n",
       "yt2b7YKCbv+9sIIT97fXfCsGYmNCgcrIJEc/dOEftpkZhrFkkD3xoZwfmAlJVXbXMUMIPSHxF/7Q\n",
       "SiJ6SYUdsWPtRruBqqDAbi/clAhx7T3mEvTgr5wxTR6GcKK+YzQK15jiPWSQpJXYOSA1RynORpWc\n",
       "64jyiyvL+lI9mN2h48aCKO/6ImJ9WLbsSeukXRctmEJA40wn9/m+nXE2EzfPTM1WuLNKYX1cw6qz\n",
       "TqgSNjzNrVfHlzVsq41vtbyoaZ2oOZaEPFQvvq5rmUb0jhIeKABwQ0cAXMKrI/oqqS2xsaeDhOkB\n",
       "oqrv5gqnzFI99QEHD6CvBbLUd/N5crurr00RdxVSyXbLwL8YIvSGNBdSuAoThHXsG7BAdkztwFGB\n",
       "sc8VkicZ0T6/cGH7cWkOrKabeTJnbLA5LNxXOmglBYfbBC1b8fWwMse7NYwau/9Xs3Vxt24skTti\n",
       "FAzTuZFgOnE1uZcpJAt+d9u6qMMrX5RqJeI5hfMnfYMDW07qpBmwFIvtanHUpJ1zVzwJy3sgtxkZ\n",
       "9UU2YbydeLKK7JxEQHK1iPMXoV4helKs74tScFtRxZuzR+2P1V+x7liEGq4+5osIUtLuW7VLpuUl\n",
       "kMzTTQ86E3NKLLnl+9qxocPaaumQC9uL6lpz7ljU0XsUWqpeJr+eKTDzlbgnMNt87dgdIdQWb75U\n",
       "g39fhl0rf6ze6q5tgrCkbTGreEyS52K/e5xoBvdgcW7h3e/WH6+QXnQEorfzH5gnFDrT2cT1Z3vU\n",
       "HTRbCquRorHWfS2yw7JxSXUFWSzuB6Q3wGBv/DIHfN0EivtUhsD8LO6FwezfwpXVtV+oAobyYcn+\n",
       "xHdH9dZkkHbQOZXktVzpKpQ9eqq6YPcwdj8wKyO4xqvDIAynWc0Ld+lJgcg58No4qyTuwYv4n8EO\n",
       "oBin70p83ukJDEMbMHZW8ZqtbxZODe0cvqIMVoDUyEpu7wOjPtD+QFJrQLfDdFmq7H8Bn9q7gUAN\n",
       "eCe/2xKygxxBHZ05gyX9vs1lN1QXi1Zw16czTcFEroaPJss81hfNZKzDxKTo+K6D9tUlhgOfSr8g\n",
       "geIBDMndXZ5jEULYCRIRnV6/EjbUJXUNUafu1K4SI1fhqNFOzgkzS++QmxLR1aFAGEo34lYzeszP\n",
       "UN/lM50vFBnv2vE2YEK7pJW64/BNOUFxc9wLZo0CNs4L9Wc1PhOCq5+le5jdTiOb6BbEkfJBgNal\n",
       "YGdbghhbBhWiHq5ET/thlRsML3uui+0SEe80CMczmUXDxspUFVlCH9oFPNsVDpDsuZ7RLtGYuQmI\n",
       "bFTheNaQsFTzqbICt/Kq3o3ycfsSAZpnSHDouj0fOg0El/hq93bZAAAGa0GehUUVLDv/AP9jirhr\n",
       "3pIIauGRe/WcAFiHFa2EdEPK23ni6crZJyADWmGftTLedwjrA6MhAqIMVmHT7hIQqxh2g5jSTFoy\n",
       "hvWTvbpWIxbKKnWae7yErISyelNsO/a9pb1OBft9Z0+2QZ8m81A2qf+NCt6L3Kc9W3/kRQr+Fbxs\n",
       "tmlWVOvOKueC0dP+fT4VI5D1iTmGZ2hJLmbwICrBy3xBj7/8yzBgiPCQ4pj+p4FPGk7a1P94D/Fu\n",
       "dsqsJ6LF7LP29DDqRf98ZLEnB7e6ruqqzVUFDG13mygxtFbC4kqTpnNQwNUq9an7adKDR5T3C6M/\n",
       "mjgS2ru2Zs4ZR4Ocaf2+cbHr1D1t932YjJkkdyMxXCNfWH2b2yEcmiL0+Ai05ITCOenMl/UadQGE\n",
       "I6MZcBjW3ojHoPtxFfcACaL4SnnorWhbhE3Jrb+6atpiU3UWehNFtzs7xUcarHAb6yMkSmX61oXO\n",
       "ddPNiXy5FkmQXBmCvv1whlkp2m1ewxmfeIVSTIM9gV8JOtNTSONrpBZcr2VaUPQr0lHYsAp2r5yf\n",
       "DbTuNL7swxm+ty2i/oN5C7uwT8kH1CjKXudpJVCcPh3M5sf17gmLavaZxwKaW+jYKYluzNZPRoTG\n",
       "cwEk8tKQxjxDqbN0EQqExEMh4VPMj2vXKQ7KPXvDPr7D9rsT1v3LNbzCw4fPyhAx75wc5setQ7FY\n",
       "RrkpTnuT7tPyhj2ddTIQIcMzohN3VA/Sb594uqxAHqGqjYqR3aCKSDYsOR1rIgNHrEETOP9tBUQ1\n",
       "4/2piegzhfmoQCGKD8RcuMAfjsmS6cjWf9wkgDB9GCHowxNlGFIaFGRl0iXnJP96Araa3LtI7K5E\n",
       "JWjIRllq9Xa8kRDWwnsS+K9+s4XJHWlHmd6w1NMqqGiOH/gxvR7wH2RXDcn6vr2gTk9qthwuPb81\n",
       "+uCiBPvXXEv0Z9D9YEvdYcWW1rNylSlDfApVqzo+A9XnykM8P/auixOry4qLVKEtmFqxWdYvznp8\n",
       "xWXJ+1/Rczt3VY5eh0YQTLpKMV4mUnCYUJHayvnEo2uIqxrRGXnnOcd9YqRRsLQEf9WtStr/tJmo\n",
       "1S0t8CjkCeTZz4ZA2tx9YqKKDeWtIVJK+X8cB9f7yHMoc70rZAkAc8rlyWPq9u/FXXHxQFobit68\n",
       "VtTYgMSkGRb3mpfgB6nj4jfTdPsxCDedYetBHfiD215cMAFulzJza+9MFXXnKzZSpRtWyBdJxAKB\n",
       "34mJHeE6iYyZ4bx2+6ueWDbuY7A499CW4nWBAxl2UKMF3lYSxZvZUbXA4rG9E94qK5QruPs67muz\n",
       "F8UXo4amdkUO4zfPhZYbZt8LdtClJB4H6t+/FGdesBGoWnQVX2JKmpjVrj8/RuTKqS/65JR+Gn9N\n",
       "Vrq1q3ShtWR5zqZd+xMrPiT1e45R6Ie2Ya1/AyUYH+Ti7epl4pZKmeYLLygEa6FOxaIfVoRG8Ctg\n",
       "xcye43E3106wfQi3gDYWlOJi5azxov0zgQHcG4uBwZkpGtoX7I1gXV/NsM6FMFwl42NiZ+0MmKel\n",
       "DL+VFXoEKXQNpxWUXk1HYVmco8JZMPCeH3FDi1aHsW3wnh2NF6wWJaN1KzRNCL4bzqJ9XO3If+7y\n",
       "m926arWbnkokoS3EAYBGV7iUk+KJ1CD3W0SIy5/ezkyf/a6gUXtlW2qtIARpzD4C3g0KKmYTcXfI\n",
       "ICx/vGe6kl/+ozYYJ8Hq4ogH1aplzzqkH22iK/CIFnj1zkMiCdGHHIy25lnQGFTktXQDLQ/YgOsM\n",
       "GLjJJFurs/YOh+dIjcVmgIq0Dv6piD278YQXuYvXMqXNwFj6ssKg3XQiUF81cAiHTf7PJrbD+Nph\n",
       "mvKPSEX6PWLUNMBHSacRTuy0z91BaKD1DMStfxk48x+pg0rAqLYRnRnOCELPlOi3IMkg7J7f+tG1\n",
       "sTYUKUhUgfMzllLzfpTC4jBd8yqppPjTPQ+r0Q/tEk5YrRwAPlkizUvlKfChKP0bpW3pBSntUi3i\n",
       "Pg7LyMe54E3MPrNLykoMSGGgWLktRM6pVxYtuhYXbnVQlPjtDNun5zo3Eq3jeVafbrxjjBDajpwY\n",
       "JqFUbo1BW6wtEaN9SjTxHm/fXwSu8NI393+nLXANiLrL9ou4fU5ZA/c7YsJUNambutrPU8yOcNrW\n",
       "+T/1blGwrQmnYBjfLcoZxezD9zu3ThDi4Th2zzLGO4vJAAAGagGepHRDfwFp1jpN7/dRczGlwAf0\n",
       "YHdjgmmncRTPio3Blr2tqlwzBCkHZRKQvTz23eVL05dIY5IR7kKHsDT1/EJuKElnGVyvV7N5mejF\n",
       "KIddM1U6KfpwYtuhTXc2/Yo5w2ICXFaH2sTXG+Ff1bzc/xt2elbWJlKhP+5Ox7Jh/PIH86ppHEUv\n",
       "1f1bo6EBO4F9jG4xKe6BrF9+C8RB+XBjkvwmMhyGRW6W1sUIjekixXbYFDesN2T3DwJB/NgtdIo8\n",
       "I7FbTuP9o3U4D3+vNfs97VGbpH30Uzim1wGYb57+Y7ZT6qhhtxg5/lSO5grNFEm0ZHe07OSFS7TR\n",
       "mZfNLDrS49lRrn8wqBWcv+KKdvHqnKcPs1NMWTJgN/BxNhIfygEnLoijpfva5+u3KvhHL4n737Wm\n",
       "W6PkPRQ0+ANkqlf0e/eSYV4ljBLCbCGUwKQEBoV1pOT3eeGquM9VlANopBEVI7+QUvTW9Ce6sStI\n",
       "pwTDfOKoEo18tIXnQYOop3idSaYt5hNtudjttuK5PBL2o/qrQ04isXu9sPiF2nGNEr96bMl+uvFx\n",
       "qcjLT/KxA+oSnFsZ4GGuD21FrWj+i1+I/m2RSNcoVD4x77ZqP2cAOwxKY3FrutBahAwlIdkiW7mk\n",
       "NmFLxkPxGAk4u6/BPYBGEDnHq4luZZgeGfiPwhpamUDOEqtllyOfUX9eBTopWGjIgIEB2DDPdajn\n",
       "kSz3XFVvC9xKkpyOqdnRWMyYaXyi0qcDa/rBlAf+Fx5gPdqzjSC9ioO4sRz/9OJlqTq4pIVvP5JT\n",
       "5TXPt4LNENyrX+gxWLUmlsOoCSeup+fneTyg7O+wS7DveCqiwX2qBeQcqTCIdxy2UPDCyF94jzCN\n",
       "Q3iZLY7zibFe1fWo8tpD0Qj8Q/Boe4ZM+cFdsAqqcdPtBf5D7qK3VeMeq3NDzc0dJA2xOEm8BTZO\n",
       "Ypbvtmuods9BfVwf1g+ldTr8DBCVeioJr4zc+hQrQvvZAlsvZFRKD/ZF1UTNdlPaPhJ4h+Vl/oEp\n",
       "GysDk38Q607NwnvdaZ4FU7mrDQ2j7VIcP8D0kgH55Q0dxN5/fE6CawzYIg4zCViRk0XSQoADDOQM\n",
       "WV2o/unOkZAIxI/xRI3Ejf0k2LjlR73HvRhnycljgVNzMqAlgSY3z5EYlQikq3FmNJQ/0vk9MHyP\n",
       "GEzbmz2AKyDOOfL9htsuLZfq2JD6snhDcAvLFSz14a9Z3DEeyDuv632lMgrGBrTbvMsBSQt5rrZs\n",
       "H0oI/H2GEEUp8rvszq5rOlrnN9woB4Vn57jIbjsbCcbuJs81yccLXkM1rZ4bd9xa9TyBXodXfDYU\n",
       "NzV8iip3g3PnzlW4MNuThbhfkacTdoQm9zOprL+YkSGgad9TRkfR+E2skrHcWz7SwIUetD1Jq4uK\n",
       "12JijLI2+CR/Q3BYsPW0KMl+5O7LTmTO2vNN8/1zal9FntxqhGbjoS6R5xYNoKKGybxOlbriZgOg\n",
       "m6ZMT2AE9TLdv2D1JaYZF+n6lfFajLbguxuQeIhqECOIGQIc4N/WLIikVyPOgxTpqu17d4kvB/bk\n",
       "nj3tjkdcb6Ks4BnmGALM63sXjySKm0H9gcrQb3b0XG3SbchZn+Hxa9YgWPtvs1r89VXvueIcOEil\n",
       "LV6Cs7QnDUlATmdwKDHlvbMNKwk0uL/Uw4RmeiItMz1/k1fPZ7DHZ0JLQgolzINMTcB4md8ftVQp\n",
       "x7EoZTqu2t+ZcjeLMiATzs+Bk+QxbVQLEkiXsnKrHG/r/h3nLUjEiT/Su+YdoTv1mKT5/PW83oQg\n",
       "l++sMLJpQU12Vzohi8AdaRZen/NjKf605Ua45sN6YLWmm1GqR10u5Vrq6/KDefd6ROF6QMzMOiJn\n",
       "enlkxxwCmKgPl2FlWlvw3uQ6A0QCFbTzHLagzDxPeN4c3kOGGetwX2xlCBwRsTsCNC/CP7WV4XjD\n",
       "WByYVYzmbH7YO3MXTX9Qf+/kYgaW1GturIuLtqfaDwzxQQVL6U+yk0Zp+o15eBBj0zJsFBpNYyx3\n",
       "Y/5WxEh9KTTKMRLucanOcXpQdK9a8MKuXzMS0TT2YrvbpI/cLZKajx9GcEKEZlarzShMNnkybpmJ\n",
       "M8kyEUO8EFLqMe6FrmbhEgGETYF+JnXnOeaN/X9pX6wVispV+cHGBeNGv0oBrpnbZ8ezH1Nkmw9P\n",
       "/221WxCEusSUbvoizvQAJYUp8u/W46/VxnUAAAYSAZ6makN/AOb6HUnvnpcAJpn+WdC3RH5sQk7L\n",
       "OZVh4opJIL4UOQkSgm+hU3g+KNNTnTXm46C+9J0U5l9J2EL+JpxPRiSuinw+vN+kM1szaQ01aW+K\n",
       "bBu/a/hL6dsYnRg85FGxCHp4JCZGu5Bhrll5f4ri8oW0RC+kKiTpMWpwhVwHt3GAj50uP92BNjok\n",
       "TIb3lz1IOOlH0NM+1AioRvimdiQQOkJe9I6ZivWFtC2symPgTcPNc9co7E6MSljxOlQqVRAOBeuw\n",
       "A7L6bagwohapEc5WPpzlHHsF13qWvdvrwvtNB7hMOuvOXm93B2VUfRKJj+c5ToEKxXofHzb1A1Pn\n",
       "dSwQ+WN3rQIFIg6GI9w6OV1uqWQAmjXDKRY2K+/TngXKVurVuW8lGAg1H7ec2S8NhUU/j7pTOnvE\n",
       "JuGRLCeZZDoG1NRVDm4qJnr5kv/IjTdthhtcx09dQdXl5gl4C3FdJI+OF2o0/XCq62ahN0Hl+QQq\n",
       "7ptM3GiQ9rA9bbdivOry3s/QMyWNXoUYUiEMwqTE+WJzh5bcWN0RZlzpxCGxwEBXY3qtPFC6uWev\n",
       "Wsxsmun2mH8nlGF2WATfo9Or7Fv6wPdEIuUw8Ikzr1SJfT9GN+Zuoh3ouVck8GC6kQws5Fv0WEPM\n",
       "10gqNM2o/M6crwpkVZ5IgGpDNOeLIF87u9VyaR5+bxriBxFrV2L+GyqzudevGdwQnqgpZgKSihv5\n",
       "1DxeP1055JkXOAWHwtujsp12vLPIluM8sBpcVUDqmW/T8MO/9/P/aIJG8yPbUSXZF7A4kloCvpVd\n",
       "nrFTYzW1TDs2U9zwfXLxRhhgsEd9Aizq1IQ4K85XCS2Wa2UWY7T6WhOSGzx+NxyY0BX9GjqIwsZu\n",
       "xdh0aBJsiPSrWRpc/ZCsACHNX0hwx3ki5Uuf/CbLfA2uBBTc4PSObZEP5SShYclFy5jyci0BphKr\n",
       "pcI8eh4+iULYxAbUq+TAuLAa/IQ3InufOmUBjWb0xZfACM8Z/JCYnSbkzh/AQQ5+jTj7l9D2lGWG\n",
       "gu56F7HgAtgVsobGDCXar9HBTkLOQ/xxwyJ9CJyBQHrQfsjU+Vsw2ERcJixginmYoHjqMh1ulFae\n",
       "L6x3vJcMiIulzskffvo+B0cJepWuS25IzdxyMn6DBZWpK4a2mnqMSrLRZBKDQODtpbpzxsX4vEII\n",
       "zcJ61E8VMR5Z8vuIIVDUDXEwZLtHzGjKD7xQOQabiCgfmnGSGqWNEt2Rt8LcKXMXJYzRwYxY+eAN\n",
       "EAxqp9pX+NJOW8LAv44755iUTr2LxwG51OYCZyQElqUsUieaH/2d5SmIjR5+AUKmJXzkiuwvYGFY\n",
       "mnFIfeXoT8HCC8oeciv3gYntXsIoLKIJmlWemvToWsOb2tocScul4hgG8EaBn6K6TJQDd3EdYmk/\n",
       "5LP1fW0u5cNaOZ2zCPWsGp6D+LZOjIg1yAILMO2/Jl3QfoHtkrE/IQamvKuJIMQJX04EcsHCuPzu\n",
       "49XLtTRf59rW1HNyCa2b5uEDu/xnlak3pHENVy7ZSb8CnCdxEgpwnIZ/bK9wjo/dh0Vss4JshcXB\n",
       "fiKlDNTncVeW6uVhcSeIrVODsTn6PSOLMuhD8IKrDdwvPeaMTqsIpZPxe38JYqIYhyRfBSapkazT\n",
       "EJKChJTSejxwO3MgXTMVAJe1kBl1Pwc5YGGOU5JpPpULYIhPV1CPAU09z8UUBVNVO4dokUZnROWL\n",
       "LkhGXey4rkmHK0EmCM21/9+XqFVab3KcAyh4RZU8e9n/iC2bc9F+fOKvCqG4u5gEi5EIBh8dUjCo\n",
       "T3OQ3ipJ7Pz6SqxBsYaYHytDP9QkAoVqH2JGh6bEMy9t8LfUcYSSZ6GWtsYnbbwRxjNa99rUYEXS\n",
       "oIUvy28uqr3ClRiVKC+OYYIxPbvk3nKxATsUksUNB+mxM+iLmDDbnlKd2JUYYL1JJZVqkJDC/2DJ\n",
       "y7eV4CRkCVZrNCRCR4u2zuFHiyusvxAWH284/gqWKYXZPNjaxz9eW+VlFt1fM+Pa43ly/dujwgEI\n",
       "yYxe+0TICUrhucPuy0RHlUC7Oz6XB3DUGob+0S7DtWZC6QWte3xHiviXFu2BAAAJdEGaq0moQWyZ\n",
       "TAgh//6qVQDgZnUv0gAAXSjhkQgL22SNomRu5qK6oqvAd5P8g2CXNxwgMPZ+BM8XoJjL6JQv4XPV\n",
       "i5Gq7pum4Bip/KhTL12WpUCZUoUT+QdJh+xyhoeGGMypxTCWBaKbyXHxmZPWmm1ShBIGBcgtw7Qm\n",
       "xvI41Y5FrsCEcZWHQr/XeUeVK5o2UdExGpdhIi8dPtLVehUANvbogoZ+3JY/TAf1rkVCJaPNaCjc\n",
       "KTLkJI5P/B/HUojJ/K9dEzkfiuxDjjt5tY9k0Mdx0hzMD/s+n2GnVYaB0p2Mppn/GIbzyeshwHZ8\n",
       "lLKn2IH5ZdbcEKqeivhdNor/bP5UdnnN56o5EiDQj14i0JqrM4Lu3mwfss1lBmwhg/mTtoAR4G0A\n",
       "dFAHMBDccj6NOth5Xpkzf9cm4YmnzLLp5toRf8IRLB9RfVhC8/BT/domrnS3tHZuLOSGxNYSLwDl\n",
       "pNZCY39iiC/DEE0UektCIzKptET8ZQ8xMlb4Kc6xoxdSwehYHmNBo0deCD3gdF+5DEZbBTtdXt4d\n",
       "IC8B1Kks0m+E+yuxxv5L6bmL7dWRATNHNyGweCyDvnX/nj9M6VdZBrMhx0gMFjOJuyPJulZTfHay\n",
       "O9kqt+xk8bPIRHHVfQLC09Lm8CFp2P1JUtEYayvdgLrxHBm8fdgwOnYXjkIKvde/fMDyhPN6bM1E\n",
       "3G/TqpD4hTtfVRBv6CX9CJCtDq58d2pECOa+qFUs7YPx/abmN6tfOiKj8+smQZwcHkT1LfafzCu3\n",
       "rXJRpgBf4FOi1yjd5xzmgJas/psSGUsuCVodfZsxdjBkIZUX5WP9wAn26F0/8Cw/0Osoe5yzvFiy\n",
       "0Km+6Vo6MBqZARQOs+galZevEY3HzSa1G/jFCpIqahID8cJ6yVa3u8KQ8gTdjyEPK1i2H0a/JsTB\n",
       "S4sGR09OuaZ8/KMsB3ERSWBe3OuZeWuTsVU0Ht9kryExUDmMAOPzV2kh8ZbezFPfPYXARNBNZTa3\n",
       "eqJVd4s8AS+IM2a39dkdnSoDxNE+erD5OFhMd167C/4iQlIfFgLcDn26g37PH9d2zGJbLK/Aqd7M\n",
       "34cohNmfUtxW8yOfUj7LPiD+NI5gYRYGk5CVBGhjURet5Lpg+dB6hCwRXTCGGbjCauVMeEDVQunG\n",
       "HREnqJSkCxP76cKfzfEJ0Jo3cp53XGF2hHiSnNXSbSHjzcn4w3buM/hTqRo7HGo17sWHfc8zhi3Y\n",
       "xDG2QGk5TIP+c7+qYmbJGbQcpu9Z+iVuZ0+sb+5wVlIWawBhUn9GbXjJeR2DtCqzt1wMjMZkPrJ8\n",
       "WA57tnXdoMRo7H8xiwU6p73Eo8g24KqWlJJpS37vdPm2FQB0YW9HbPBsKqRhGhNLv41NGpaoqT1Z\n",
       "Yi7kyN2qUZgYsb6ZZBDZeequF9k25ZN5l2tHVdd1+z2CaFY1Js04oX7V/LEGkwsmTaVvmInPZDGQ\n",
       "hlgRToavc1mDGcQUcm+AIxpSBii36wvqFQOsaoB2gRgPXyQVnhoW30H/rgoQirBA05PTPNtegn7G\n",
       "uCo0nFWIJadvNFixiFhxyr6PLv/ynioyRNwj6Lw7XxWgrtuqdR1X26gq+p+FuRXYYSrZy4c6RntB\n",
       "n7Ft8hT3f+DG2NxjTkN1Iv1cA6hEB3kok/t4xpT+JgwhQHm9Exz7yHhzIoA5Bk7LqWH6pcrsalGI\n",
       "z6OcqiKQHpiu18DvDSdyktpXYLkOh1QRTwLIxfkndJrNUoa3f0SKTyRGX7tPk7czQo5of6AaRwwe\n",
       "VHSe8f33tHnhHuALr4SwG0pkv+aybSNhLkW19ZrINci1/wHMvWwE3JrDcfnRZHUZMpxBdZVoBUvj\n",
       "yt+FITJbzsdbVGxWhVustsG6R9gpGLhtV3nvBykHu1HahUnza1fLjRRyndTmNlZOzkrF2rwrV8HJ\n",
       "z6T0pCBpZS1+XpZOFKQJTO2brOzZxqSUE19jEzzTAOKDyzJcajVpCXGNWx3zDa9p8aMq2J1glbtU\n",
       "rFNFjaYEZlnwWrNd5LFDtDnCn+ENZkSi2rX+l8BlctYvEzo7qxAismtoOM54DG6eIb2mWYFk/aC4\n",
       "oEI+ksQloIA98RtpSsN9OnbCq/KU8O9j70GGv+shU3lB6NfG45MdlipSRJtpWGC78JzxTu60e0Dl\n",
       "kVTraJyPHAPXG/F+3/HA5B7ZPojxCru5cGyLL/K1sAEDbp2vF/GMvoCTtHeISW9LeIZLreU9z7tM\n",
       "YrcWnWIJG/TDnfauEZS+aCX2N72LBINJtOlpv+7uvbCjEiRcokuUPaMxCM0SMpHy/6ZYUzYqWHaN\n",
       "LHPWoHFaIyHXD0oqmi8wS6MBEodrTp7e5suSO3eZFLxIoQ0cRzxEh6L3JYFy9gtKJ+xPx1N89ijN\n",
       "fJxfhJ4R3KdE27E01pMZ2/PMb2t8GrNVKzTz7ES1uvr5zMqQ5tE0e+wrnod/kX1X/PkYBSW86OlS\n",
       "eAHdh84JvNk2GcofmW7X6vn3Zn9q9y5XqvI81EKiqC8DUdyec36ruuG8Y4otcV8uuT+lw7XgoSyB\n",
       "/CrIsRD8I7Y3wEIbWDmJ6N9b4Lxg3mkjeQSNKGAeen6SwerHVTTbm0hvj7119eZjU/VWyLy084G0\n",
       "aeMvP4d44dAM33HXcrA6U6Y44WCPWWudzAIq08ggmi/Fmmwn+V5/DWEb9Ms7WvU4wF77c2FbUYsn\n",
       "7oDXResyCDrCsYMlrsEPUNPtbjt9jMuPkdF2YyG7rYSgK+VT7smELKS/IQOYRuPyLckmtbh6YaXw\n",
       "8baXi+hxDU/y2dDDApC3QUh8CUbGBwrkVFk4ZNiqF56SImZRzpehmlaFyw2WiLDKWbRhPIsyuWPn\n",
       "FTLWSahj2Nin1tdRbPLQLEEptIwxF38a8jU4QwAk9H+cuK0ESLvvSimV75aN7ArZF1BDy80dmi34\n",
       "DnZehVNw13dnAErI2Gbx9jBcUvj8al+7z2A3Pqr554vA83K/9WaeJQB8XA9vS9Ld/m3wIqb/aAmv\n",
       "larKZD5zqHA64ymURyo5Lcb1wHbajk85mU/q4MOhPMQNIGiCmGbVi09Ie65qUGrFYrwwlRtjpQR8\n",
       "OVVI0LFlfgs0oCnl5u9sP51mGEeF5dakog3oXHt0CegQkonUi3Qgbm4ArvpH4RyumUQ7oVfO5F0x\n",
       "sBM+3pmYLn0RdHmCLxlg0tuv5i1xj2l8okPdqiyolLiRFZ90CB4Jvs7h/v/CNKIfAqr41OcPUse3\n",
       "K/6cRHqL6PqVhUHUfDsUdnv1AAAGpkGeyUUVLDv/AK7ysPJAy76NLACE2GrwGaq33x62YU7HwA86\n",
       "vHN3t7eQEgnsi8/Qg8IC/h2Onq7xgMUtOHFxGlhBf262gB+geKf931/KF76NckFMiUPynJYzx/ps\n",
       "+fqICNkA2mUTwKpFJNXuUoaJIq6L4w4KPEg/MyLFg/bVkVqXpC0LiW1r9jiz4WZXS0Nughl7E3gT\n",
       "m7lNdj4kkjtnbWYqf2ZnirzqHunyONF/+Ppg2dns/hfYHFVhykFwUFvSf9/973MeZSF8uyGj6IYr\n",
       "eKfIbByoguRzyvq/R0UgSUBtb8LcMaVt8SWtYw6DB6NEwBZaYE2/1JySHMUpJVLCYemruTr2AiFE\n",
       "ENgTMINAR+OLk09ZXmz6QvdQl+a7yLqcY9UVjXSSFra5RbjWNLihbV1ebYNrl4JrDkFs0A61pG54\n",
       "Ab/NHGtDplRAkUgWHSnNmQJCQLyw6aHCjHOU9/xX+HiRgqBm2uZ/jcsZI4XCAFKTPcTunN3HI7Nd\n",
       "Qs97eyJOT0pHqkEgO2KPsoR7ybY4hoviEyDYYJOqSa3HIwFyy64y9b9RYwWC1HFXeFhwU+aIsgdk\n",
       "m3gStnMkbx/FdyqIzHzrj77QIPUFiBsYhw73+AHL+6EZ7Djdo+8sfxAH6uED9Xih5ImViOXYZeAm\n",
       "JzcStYtJbZfA0rX7QSRkUcfLNHw1M92DSG887T6bBKT9E+cvj6QkmDDMSbtD9pH4n3tOOHj9DnaT\n",
       "jpMatXjxwa8NtlsUwUYbnBjTMlPDIJpJrFTDKlj+AzLd/AU5d+c7uiCVaR/fSyd21qFBoJoOQP0n\n",
       "h4r1qS6g0zHHBr4H6YziKIAnB/usITZRLjByvp4xC4YloFDKVL1jPJ3I7cfnSEZBo8F8Ms6DJ+wb\n",
       "c/25yzqE/kFJNwbcC7F1p4ieNf95tizwbWMJ1NAOTgQYw0ZRm/5jZt4SoEG9NhD04NnRybRrr39o\n",
       "1OFXg1usgrvAHI6pFFmmP9qszAAEaxoO7wcU579X8kS/8BpwTGOUsSjtcR0OgfcBVof/m/c4sVID\n",
       "jVHksTN7YM/OnY4NBfGJgGRISSfUesnFQ4hMNVSfwiN5Kt5JPwwf3AVtK7MuNK95wB2RU5WXgmed\n",
       "EbZk1TxlOAYrSk5FfjhsCEf8eqcAgzkSR74c4bNBrBq7JJKYdfLHenFAW5ZXwNhK50C4pRC0+0OQ\n",
       "D5Iw/cpqNS4mcX6N1/AcXwe/z1xs6BrZR2uQ7fxjWiRBdW98CwJ9vGe3mHwMF1IKx7KHbEmplI/G\n",
       "uZxkqvatSI2ffZo5yQ1JXKLCqwn7iYuqHX706GdDWlROJgarZeScLHrESrc+x1ayTGZtNBhJul0t\n",
       "3buSjz2eu2pRcCHXZbQyeAq9GCiyHdwOrfp8+4bIxqL4xcRZEqh1FeCHYPh4Td3HHEFFlUT973Wo\n",
       "e8ovBfG3pGG1qB3/crKykulqX45WD6RDr74ziwLuddTWzVH0iBAlCjKF2EALiPjlLJ76ZOHanjEs\n",
       "QPjzBQ76r/DaLGIlnuo3mA9VOJGXhaqJePwxIZ3rkWGmAYzuGLs9LluvrszbPTQvn0VAQ1PRFu6g\n",
       "+Kz7Y4/Jz0ODHscPuyveTsfkPw4B4rOjQPUee/WJ31FPjDAUk3iVB3CTuVqJUfpx+PJ5jXwhml9r\n",
       "AW3nHS8AI+XQhdETKRc8VquG95PEOoohtFX2wxdIcMXZpTltyxW86qOkn8r5VksfIwksielp7QYl\n",
       "6wnBa8z0wYjuxt8W89fSHYhq/ajBqSHxGhHpoGA4nC0q4/6IIKuKlJsCRXUy+MMuEuJDgjXe9K2p\n",
       "8cBXNpUifVrIGJnevWHc7NWdwLZLOiLaleg5FdeGNyUu8x69Y6m1WagCK2zpQpkPtbWy8gfRUP+p\n",
       "BmEXY2MgYmnxppzQPvW1vavo+ECH7bsuVpOZoRDhoF383etFnvDTX1OOdy1xDxTAjD5V+8zzgfbH\n",
       "Te4Y/eEsZvqT3nPOhqd54xNSsIxkrqd6xnTD6ppbt3m2PQQ1WHEi7t+9J+yNe/AsWtt8AhEZ1u51\n",
       "YsMMryN1RKvkHtFSkTKEgYn7vrs7Iv3GrTTDRxqlCh7lGp9OK7XvIbgZRHqgnKpXP4OzHCgheLFf\n",
       "qeTHyKmwo3HMJNcdEyWPgweJgsY6/BIUv6jk9U3frdJCGYgFDHf2b/Yxbh+ciVl1tMoDd3Ofa/c+\n",
       "5h/UY8qq5lc+MAboek/AsOADICevFzPT6uIUVCJ8AgO90CsfRX95Y+/EWb4pX+iiTB0QtOQRDYgy\n",
       "RYgSAvuHS/DXT0VSYsAAAAYuAZ7odEN/AOa78/7l6MVwAmi0hKWdmKTbqz78IWoIFjugQw9tob60\n",
       "ULZPXQtC/V3I26qQUt/e61QLmxCzUbc5MApFrqSUN4F+wqqj9cl4J+ZMVHDdAuAiFH3NccvqObES\n",
       "5mDksso67TqRM13f8zqSH00Oiglvbsb6B0CE9bcexUjfBQuZ5R407EYORknXb6wSzyfHz5gLGDdL\n",
       "KymIL7mEUuC7w3KRh0yEDTN6LiNNOFiatcQJaoFQyKcPOMRf3lyjx+oGsMgMSm9CivSPnwJGYRRH\n",
       "Q1HKRfAb4cHLNm8ZSQC5kCj1DMMKlwxPa2Tcdh4SuIS5Xv+BmA6LnB+Zqm2BUR9BwI8gRXrkmBa0\n",
       "hOEY60Z8hd7YwQv25zvAcGBnJAbEELzCW56FkiJ+8H1mEzx/yQm7ba9ndkfYbvk5cg1izVy4q9Q4\n",
       "GWhmu9XayAPEnXeflgJLMb5Ra0AEWFP2A8h6J6mZcf5KCVFtFg5AH3Fo6fkttixSFNjSY/pM0ZKM\n",
       "QC4aIATKbjfYAseyK0SyvH3L57OGNACJB4QCTmomHVGSSHkIUPACFDRSQWP61Q8EafK25l+hRvLV\n",
       "RRHoZmIlzMIIvSiqL7gvhjs6RWKvGOnEApcd/WBsL+zKFarNzHElH8I3M1lKzDodbgvFaKVROSls\n",
       "lGK12+0uGtUUu7MbellZpVaRgLsk9+qX76sljDJOprTjli8BrMzo+R5BOMfVZslXyxqaHfIFcYJo\n",
       "veRnRikND8cladSpsxbuhhR7+PI+JVvi6YNkc8ea6zXc++wLIsgdjjFVRO/BnAovqmzKZA0205tJ\n",
       "8xgKzbHm2hGS2aNIND2Xue5ULebFFQTRDL0zKJQ4NeMVZ5V1GwebkXqQ68QO1ZnOEARX4m2EKWhM\n",
       "j57AoQ/nMCAS+LH7oxKlFJkuQd1btDWVcu4mBM+MDm4mCHs4sL1/q4dZujmPZC8PjSWxMmgNBSlV\n",
       "MyLdIox1uAugGJ9FRKASYWtzKcEvWx9DGLESWF+XS0BmUekl+z4TWrtGKUCVQAsq56Y/InIO4k0U\n",
       "oPLDoDr8n/LcosqY7G4d4ujiZLJllhNMkdD47at7gi9hN1uw19IrTi0SeKtT2v8cfXYigUPFKQUu\n",
       "zZtLrBXtCffrM5S/uynYIk4w5O+zpK2iiqVhyPP1MbQ5XsObjfzHz9g9KHtQekrz/KNgXE73TFpq\n",
       "NOcoU2hDZr3ud8QGZX0P5neRx5G4WZCyBetYPEl5r4EoR5KJUtdf1CqI735yrMSqlCUHLFgLpJ/D\n",
       "bcuIwVeEFjHGlUkO6/59wqx/dGuV+BDsKnuAJ8lGAA2ujVb/pyFIR4gS469PenuZwM9LW+5Ntqf9\n",
       "t8vLmBkDYK86QlKaZxM5j0Y9hieNSFUdqnjaz1tXwP8AN7eIcWJON7oYV1jQOCnRACk4pMR6wwM1\n",
       "6jrpC7gW8N33yv7eg9Ys7nYUwrosT1P61x93grtUvRVBxJ4Qe4EWpkfTe4OB59+wH9tesjsk8Pqq\n",
       "uJ3yjiwipfLyvkr1y7QuOuZdBBFZx10lBSJK0LtqJUvRTsMeZTz5+3XQKKKGF5PnMflDEEY6tMPa\n",
       "6q3Rr65fS5pHvHH+q5FGtXslKbAJT8N04cYblm6po4c5YDYi9cFJ662Jup0o8N+2/jqGungX9DDw\n",
       "+tb1UEhuTqqs7I16NNN2Y5dFgdRQu+kjnxuKOpQmlD/KaQKdobBTr0PXlWXGKiIQQ+WbmuDrt5kx\n",
       "kFTUNQLBWxMz7drQVrUd6RKGMcQL5jAmsve59CQFWLoJ14rJ+aAw1H2fQ5wtMGcwGymEhRKW5yQp\n",
       "WtPkByn8NoEOaD+53swxLLX/BDSM/gtn3WTc8MKK2rWSKLlUT0aPftdg+4cMCoIf5OlQWLhKBJne\n",
       "OI9pihS+CYyyT8e04srcsU34CyRlZmrI8Fx5T86bHGJEP0KX+PTZ+/VLnzwsPfTCpSMc+H2bglkp\n",
       "uUX3oDCT1fu9aWUN+MzX/cU08Af6UqVQ4C+IGW0JBpvQgcC8bgmXFopREiz33yjPPE4qL9moTiQ8\n",
       "rfbNc5mG/2MZn/8MbGm9CGxWALfoA5/XNjIWNmvbg9sHTuGIJwh/5oWfaQK+b49nE4TmF2VVFYRI\n",
       "9cbHwQAABnQBnupqQ38A5vodVB6zwAf0hG5vxfiNKK2QzBuAMm5BC3nVh4gYDkCUPjBfSTPBUgS7\n",
       "xCISkWizU7BxyQnJhjcQPJ35jGcs5HfdROfVeh/tUkBPUn1eMrtP6w1R3jSn/dbfr1Z58oZNos5b\n",
       "8j3ZQzQ79cDqGhza6gn4LRiv31YTbP+YgYBlCfOwD0ngd6xtUlzjBlCPkQ2QBF+TmQtt+RZqlbIh\n",
       "uFy9Y+kkWtcBrctugh0krK8Cjekvg5bvlCfQ20N41m8yJba/Ic9FCC5stKWh95vEC/ojHoRXkWCe\n",
       "+5Y2OYVcEKm8+fLO4uWXX1iwQJVsONn+2XCf/05+i2dMB7d5j/bwzEPCgViWNj0+ZGxgCM7TyMCv\n",
       "veaZ7j3X8bCZNfi0UIisdneZ0ZDHC4sKOojujIdu+agvr4pJLL9ZRGTvvzNrtKYmNowXLub2v/yf\n",
       "NGS2fDmfEalyPUKnOsBa3WpUTVw//WBGdhTwDmhGalzSmTyJVsnRU7GizScp/5yY3QG5QgmAgcep\n",
       "+dmPAkTvwzXzJzWiAsVXgJS/SYGsT91fUVTFEbhDkwpupksdEXpdpCfMpYy3H9FIeYDqY8GJ/ALh\n",
       "Nh6OduaTBJROVXCO3a1z+aLB12cG351BwA0nEpcQobbhhvtN4Vi58YstdDrcHLiZxdF9ghocpjsM\n",
       "+CsaBE4EtOVK2dhtqjWqq4VBWFRyzNxAo0o/WhcRa07sYl8E1GjBgZytwFjBzmuVUqWTpDYBMCpX\n",
       "Pl4iH2FiVbQjc48p4lQs9luBdt3Dxm3V+/iWaQhakl1ApkFrT+hyYmJPVIj2txkZrGeE0Fk3e/od\n",
       "0WRYV1myWght2tFp9kBOfvnf1ZarmVbwV09FsYEuAkQhE3oDPaUkZdA9pDEuB/MW3+lgC6Ty6myQ\n",
       "jWixBBnKA2hcR/JB21trqw8wGLTiVwwDM3TWp8wgv/rwSAzkDRC6L/h+4VWvekAx19vGRHe8ck19\n",
       "G/3KLKOX8VaT+x08ewEFpiV38ccVmS2PX5HYQsi/Nu5WDh63hW8qDExeNRnooUBpPnA84GNcL2rm\n",
       "ins//s2nH7Zh6mPl7AkjqvW227Prc6wdegCS6M3yZixMmmXFO1jJfW3f7z7hoUE7jWEOIA+e9J+x\n",
       "SiEcq9wExuHxxLeZJNXPCHIRR9bjulL2kXV26Ru7cJGs0KfDBFCAPV3sj6HNsw4TXXsQimiHivU+\n",
       "IuqwCqsTZ30qZrZlgpAwt/357Lz7brDlTQI/ldhXIVlTHkkCnJ9p5awecsPT9T3Rog22bU/e00mN\n",
       "si5ogQe71nki5kTLZIzCwzhqBT92XIiNMt0zSm46AjWug/HUXCwcfEycgzn7MtiMaxDd/aEXxRYC\n",
       "wj0x0XCwLFs75iJ//kJQCuhUx2LGdrVIeOUAa/wXx96hTO17jeA6bAKp3NZYek9LCbJGIZ4Cqnhp\n",
       "XXQsnp3zw5ZBmeIWO6qZnWtwuTZGbbUXiuJ1pBpRvS3VepCoSHIaTYMPXcRgrCBG9VQ26HdnWpWg\n",
       "3YbeuG4ZnyUKnJPI6Bna3ajLuLkDLmUY4nAIFxjt2sL06s4UM7yiYtAQ4T9HwmFsXEqQ9/ecVnc6\n",
       "Vq3aWwdcvcyntB5tyQxUEYdUBepCCIYMx/IWkZPloQmfpvpy9oBXvY8okOK25GjVMlkvp7vXh3lJ\n",
       "ccxWSWl9NM1/g2nfSyZHOpBs9qkgNssUYLiP2sSPXCEPfstMaEPE56Vacpoo3144f+ZKaDoTgJP7\n",
       "Zn3hgawu1gnP+q95Xq61z2djXeUuOk81vTCSFFDw/QPJ/ZeK4P+2sJSdj5ORQ/uc7bk1ol8D/Pjf\n",
       "/kH8cWK6C487vqAJXbN+slT6zrUPE/Du03shdwAeTspuvl25ItGR84/+4j9BXcEPc0OfZcATAk4v\n",
       "W2P0r+clMFSRhWcJfiiGEVIzltsF8QQgRnXQdbALfiT0MI95qAynjSHTakMoJyiGucQuQPrWziWx\n",
       "8deGT9n6QUACxeUfkdPv0wy5RKtQhRl0uWicRw2h8zqBVRg/uPhmqopbRGJEqpUl9WN+VINVTkdS\n",
       "W4vMD50lwyRJ2zI2ASpejGrstIHlbDHYhy4pHRddH9Gbj10yjrrzE3zSGi/CXE+2pH0bqxZfdePD\n",
       "uc7tyNFgnCQ+NoPrjtUlX1SwZxdNxjdzFiWetx9iigU/5DqM0U3MxaMsKRBHV415K6A1MPmA4QeM\n",
       "SG3mUfTOzAAACQRBmu9JqEFsmUwIf//+qZYCkk2ewMWknaACcjKoe503f8/OpIkUHuBvpdWFa2u6\n",
       "Gphh7El2vR8CQc1GDJJ125VoX9mR1PyS95TdLgMmZvtIVTd43iR9C5GOP7Oa3DphqfFEwS1Jip9G\n",
       "DLCeQ5wnzPdniRlvX2PpopwcTeqN+aMN5AUH6IEWwWVS6er3sMwsCM2GqkY/K5EcH+9efdklO9Vk\n",
       "PrAWoKLTXWYj0FpzRtBHGJL+FMYLJ2EVyH5y7qjUMGmWgH2t7HlM3TPbhkxjP0ajdasn+aN3lAZc\n",
       "FR4No5+CQkXhvduPiKJQF/LcscQrtCZYrAELJUdIE9KruCp37zRfwctlOMbOmlO49YIfRM36UBDt\n",
       "JPg58PiE+VNc1qHOjU3dROhnPNWUSe8jDFYLKy+GglzmkHDHTqJJb4Md41MDAJjZPFDCzSGwB+/A\n",
       "S9Nq+Kgko+4gFc/OggGHAKPf/XjgScj88+81+4/Xhh7srVx0SvL7X6uylYky1tYc2XsO0RW5lIil\n",
       "lwD61ShCwdJjZzIz9gjZ1guU6QojNgqOaTZWd3DOse7TcJsGgNu5KcQKY7QJ+KHOON0B+/QMBNJq\n",
       "apbUSkA+WBNnv+aqUrybbCTmOCSq820ps/wXEA+3XhWMVexT5vLZd5mAyBH9qva7TD+y96Pcldmq\n",
       "CKfklUAcbJ2hxuWbhVcHndVkgWVCO67CUlwcuveLoj+lpvCEa7VFSUVdytiuthCixwWEKsrxmmAe\n",
       "bSxlL0PLkgNWyE4mujghBk5s/y0aqIWcaMRo95ypZbmi3UE8ICHdJPt4TuUKAP1MH9tF/zw/47bq\n",
       "ib0rbn0W4o9LW93ReJhW8I50U8OzN/3tTGOjH29YKVfuQB6ksucN7zyM0sNO/qvBgobECaPy9bdN\n",
       "5BCOC5fZSAC72FMKHcfmMaJ9Uv3oS4TKWX1iN49Upz6t1Z363X7d21aJ7mFDZwDXjxDwlFN63SPy\n",
       "gLswlQnqgu6hzU3UnM0I/eDUfsfxjrDiS3yggaca78+BbxImv1/RPmzSZAydz+8vyd2z4pAOhC+A\n",
       "In31y8BRgLy7B/1FAxx1ubT9jPjZS54lh96k4rswejE4h9Zwl2AQHRdbXzQMxpJvdk7Ld+1aJRPH\n",
       "Hx5PoOp4dEReibr/Z6wmQIEkGPY8VaKOAELSxOSHdnWm5H/x0Xa9oSCIGcJH4s7kSkG3l0CgLR8t\n",
       "ZvXK+i10hm3oEUz9kM6COfButFr4SL/RiVO88Z6meUV6oJvvlRC8Kf/VE1Pgob00c6/yqyUA/ruc\n",
       "omFamRfhSOx2OJq3a1IJaER/39onZdvncckckmZmGPYw+zt/tvkL4X+10oEGxfGpzcAkW6NhfgUX\n",
       "iOGgnXF8k5d2bCQHK1xCKKbBjrIgR2sI3UnV6fsg9uleKJs24nWhtvMjKP2+DGZf52pUiF3lp7bG\n",
       "GacwZU1qR3aYe1awMfbnWX2engnvbdNqodgYJM7n2W05AfzGx/fqkfAkFMOwXp/RFX7ZKpxFtGZs\n",
       "h9X5corn5WTtbTagYugZI3qKkR/OQ1bUjvi60PijCuCt58soNZEwtIEwWoE4I8R3uyOggZjSMobf\n",
       "kdKOfe/xb5v+Ja8yQ0SnpmfiV6vXdL4CxkOhyj3pJKGxesv5S9Y+V3wSE1d/hb5p1GxgPzjgT0VN\n",
       "KkcLw6XzJPYCpadlU9IiiECS3fwJbcE8cJPA5e4Ki++4fTZ5gRlMTCeANCOcl0kG93pdY0/gToQ2\n",
       "aiWdh+T4ludBti/3hcxyxFv4+6FqnTg8unNYFAFWC//ibmlMy69NP4bTzJ5jKFTE+B02RMztvtHH\n",
       "FqjZIItPlB7z7RBwf39yGbSZvsC/Ey7yoggR8j2OIRaCcSn9qIj2zmIwrOTeIFelnd+Vc4bv8oLt\n",
       "BbFx7rijOdjqBHL0SbGjVqjPB+dxfNf0yaMTld6qN1FG+YtmXrO7BxzQE17Q4FfCwCmzEIq4U9vX\n",
       "Aqd9jUPwJ+LeqpCitCckXTtGnBhnd2swTZU+fieAUfNtATyR1NARCL8EOsmtNNrnfwIzNXjmq2mr\n",
       "/wTkpGshJ30mfEK+WQfkE+o3uKgA4OGPz2XAZ90bJN+g58dqByDno8eXqaKp6/Nkh6+PJ3mOlTdB\n",
       "sh5fQAbWPtSsFq816naM4mnoP6e7UUKAHU1e2i6TODs3/PTp/f2NPNTZy170AOAcgE5uHXiN97Fw\n",
       "geVAGfQz3qvPgExdlGwQS7DUVBB+3oNjiQP0kK2R8ik9hV+dYnqyDxp3I0dWR+vJyoNK41Lnt6Z/\n",
       "/+kn2NkSIBhvXvEST9pXT6LFneQxNtlt8j2q7WBqF5XjruBk7yE1YXAHVTcZK/DRQeJIqw9V0S4r\n",
       "ePa8Y+KTsnyYBerpdSG7PF7ZA31e2Z+bHbsj8pN+qYCU/XE77bASDTZL4yqkti0TrccglO4xVgMK\n",
       "rX1mQrSt2mkB97YXDoXIIGAkKFi3aRK1fsx0LD1T8xWOhhtKSLIwszTEWWog+8YrjbdBTHMpfe8y\n",
       "jr3nq0OxcbIgquDXKPJlXS+A95/Lriscsa+vP0eSNDNRA8zmhXLha8EF7Ctie668uRZ++fbsocB6\n",
       "JsQ8n4MYG3Kj9A26QHrgSPi/WZxujs41dm6k+OvsWeEgZdr9w336iINeoMw2eMifWf2fWVLafQEy\n",
       "CAi1UXYaaWuhtLtbaseCk32EgNIAzDN8wadwVZE3BjXdZTshxS022X6fu6GRZNEtNs1oBfTaqYL8\n",
       "jc0QckwiBYdWRc9kuzyIW/iQawv+yOVFOGH6sTzpaGgQUSZMjkRDTbKvhfhR6DK8iJd5iyHFNjFI\n",
       "JqOQ+aJU0s53YjMvvyOlnc0EgT5oiuR9ttlxZxKuv+EbZ+oiiN4AZ+t0h20OmWW/GeetZRSDAAXH\n",
       "SAVfEOOudOrncr6yyNr4zh0fmF9LapWIXu92iXZPP640DUNkDdANbNpEI8AiuiDCqDIXFmNCyfjR\n",
       "VV6iVHcMtB44yZU/OxMaZG7PaRMaOqudeVHi0MpCuy8ZmTxEBYwXCPCEVAKOtl25oie0/Q6kabmh\n",
       "fUiJBE/1+4JyGqWCEI8QsYwvu8QW2FxAqyMSQaBPOFXNXIsZRH6BAAAHgUGfDUUVLDv/AKGqjqjz\n",
       "AiABLJ7QVC3jitN0YKdtZScqh7ePCE+bYWP6tdfQ5rCDwKG6jOZX9oNS+afn6L3bItpjOxXhxCRE\n",
       "VpOp/fJPef94wXhdV4vDTPVg5JlvluqEnJ/E0Go6BAJsnD9qEfy7eIu8HpJUFw9t6ZU6KwGoH3tx\n",
       "H4h3QlZkW5WcUGxPEVULIi851TwSu9SUxcBh/DDgPZMnSLoqtAryAcVXV65Vm5z2U0VEBnx/L7IY\n",
       "qzXmqIGju9gn6R0kw/q5vxZTp2v9VnTqOonMMK8xHU/yGHIVRpq+/aPrHb5e3musFZUi+U9lMHTN\n",
       "pX51bjAgxMAltXFkcEHTox8LwSJ295fr8jDYeewvP/prFQPXDxnrPwdC1zmsqm1IBwr6vsnHnoKu\n",
       "njznmiuX7xfav3Y/gZOf0DmpcBDBnqBPXWwOAIfzNJkED4yhC68YBWDHCo9woufFJqkOAsOOcnyk\n",
       "d2jL05/kzO06ktEMvhe5tW10XfohZHKoumM2Q6vrG61+DFCYqllhincr/I6rb6vQtYynv8Cn+0PM\n",
       "k6w1+1pK90ME/NJB07sren+dO59QkI9JNV6uZqfZ9Q2WW80G8J7IA666qBGRLcQZASEHKSEl5uNp\n",
       "1bZW7WgBjboqxGN1H/NpWv5n0Tt3NENT06YN1M+FclEfUFJ6mxWGxFsjsqUSwuyxLUzrN/jA2SOj\n",
       "s9FiavPG6SlR7Bower2gjGJMeImIjsJR3IYmof9fekTWAhsRpTgLxoVsOTU1ekrNRdpcCDDFx4G3\n",
       "LrUGkSznIs8nyQORZChfvpt0V+tmffD63ch+5frFb2s/aLJYGP/maZW3fJVjTC6LB30Um2x9ozAT\n",
       "4b6QVGFZhlbm2DlOsUo1GSHMYgnIeSHS5+IeZechMwEN4TUXeK3BOacC7FAm/5RV+KsnqPHVNgLo\n",
       "8HfA1CNnNtDUAHCZDuO9G/MxsFMof9qpr3QJv2EFqqcHJjdXj8Umi7Re+/pbFwp45leAEu+FtKic\n",
       "VpdrKHB3pKwo3vl/pQpwi53XjmhA38OxRll5dy4VMJV17ShUiL0wpXkWxBtf2NpCoDzqdP3uMcaR\n",
       "PdfKAyA3hk7tp/cLEw6LeebzZonDLCCBStrSIEep3SY8vqk/4maCCSmjP8/oGS37jEfheHzZhMo8\n",
       "TldK2v7YLKiZBxRoAKSr9tN4truX8zAJth1qzUKOI5VzgZiTX3vjm+JwBlKQzXEC810++XaXCE5Y\n",
       "1/jftMdwQexOYgZw/lZGnNB0ZJDyuLbq3yr2Dq1Zh0DVBdY6aLFI1C2pjBB1gketEzHUUwX8mHgy\n",
       "NdLHPvTxALQniTwTQk7xssiDbMt23pxw5RD9dECZduHO280WOtq4ZjiX8soCK7hB6XPUY7n02NsG\n",
       "K8sNIygkQ6DjsYiz1rLSktv9jfVAxidSLVmnh2MWxzIVRQW3eLOgcBkTXC6cVunLPa9QO5LpFlFd\n",
       "r8/i2xVwayTVhCE9acZIIMP6NbKUk36d7tW3ob4vfGfTERxNqAls2hykiKFlCfoV2Sn9D60cc+Pj\n",
       "IG95A/ebETLPOtkaOPstY40huexFJzPjLRNpHmmiIRHaD2AaneYwIuAIgCiENNC1GlSYkpuERKIY\n",
       "0LmyvrjS6znS2yO/jM4VCobZ48Z6Ldjk0GfKeHqhOaMFcEOEmH8FP3Y1IoJ29dEocJT+gbcF9rQG\n",
       "8pn2pH885oARx/VqJHDu6zuHeKPTnvFUz4Cvu4F6r76+XLPbQm/WoZQ3ACTDU+8eoGxzMINg/fJd\n",
       "XWyn+ll6ojl/6jMRMIE/cgrIXl3AEHsMnB977VdbaSfNwNzjU/gVt9oLby+i2wjUqdmGM3MgZ6kM\n",
       "6JnjYjnqbZEVQ64JeVQ0Y5xnZ4UgYf//6Uqfz4TWFZfRda/hi4uiMBV/qrFIbAi4iee7qY2hNz9s\n",
       "ynrGRF6L4+VchXPb2vxQ6aBkT9TzPgHEbskz5TcXpzHt89Zt3/Vs7QB6afZTqbB0aUhVyV0y3pyq\n",
       "SJh5Lz2Vc5MZ+v6+uvPjJ7gPPD9zkIO2kzUL5+F/dAJe0BuRrJ2wuAOJoOFQbPq8PCcjyDWZK6Ql\n",
       "ri5+N6FoEvMItrwmIo0C+7tJ9Ob3ifwlTYDGw4DBzO4eJwCCRNXKAs25aJAywSi1XNfasI9TKkyv\n",
       "Q2AbF7uaiw8ZfgAkaSlfXdKe4fAQ1/8np6qqMG3JZoLC+YXHEhuzw/Z0ut+x5NJbvDH6xBp/iq4H\n",
       "Ancp4B2aISrVeg0N+TMio8YlsM7EyIcfvt9V/tagnG6wi8ukny8gkEHuEnc8IUCmbFgLiWpPviVE\n",
       "hj2TH2dJ67Pd7+Igk5BIdksc0LlSA2Jljw1E0LlsY6zatyMx5DTelVAmbPiuAbqodHTfp2HzILie\n",
       "Os9fOTWJzEWs2oIYntOmBjKFhZp0m5oN0jlGKjRa4kYCINxu5tNICcWomeQI4SVmj/4KlyCqv8xe\n",
       "pe/GCf7Y4v4et9rqxu1/tkW+cvbHedj9TjGpJtY6/dzvM+z2+qPzyc+eHBWS1ctmzoBnZ8CiqGpM\n",
       "L9JyLlIuN/uPf+Ayzt6hPKA4l6+7xee/RYEAAAa4AZ8sdEN/AOa78+djJOai4QATr/w9oBJPp9qu\n",
       "XfEIsMNKRJcu51DYA4x7uC4ooaRYiEdhIp9mnthM9OEbE82O5TZ15roeuVz2Va4PLvl+q01zRAq/\n",
       "skCwUGA86qxcU06VsG0x9wHjfn/y9l22R+vCiCh+9ZZzi5vXTl3nHH19xkJjATNK60VENHHNSovT\n",
       "EmFgmESXJXXO22MTBeIbeKaHXrDjXfa1KSgt0Y4omjIrJIy7jqKjlCf51IArztubbxk2mvuLD1Ab\n",
       "gRDmasHNwtI5afTOi9tB621agXDpxRo+VBjI93InHlQz30kDebj4upYRi7Xf0/SWThLfgsfRKZRi\n",
       "Zymbmj9oQzUBLaLZurW0zWaOtotHpMcH++Xe0hTmCdBgQyJhGCjsAq1AH4n6zm4oMse/VroVE1Uv\n",
       "7WmVqts2PS0+LgjMEcYzO0omOJlgKEjpiVfYuiWxNoYOb6C3kp6H/nvQuL7WFZR0aj6xMyoKimvX\n",
       "yI2UzSbMaN+5MMpgrR0kXjkRdBBLurxWjWhlNDUgZOJLnlpBrZh7unsnrxfN8qUD5vR8e3uaHk9r\n",
       "aMsRu2SVAimw5yx5qsoYQkwDwEGTahRIOysClRJA0lcN9S23+HowelphNq9vywyLQf+RKlroMWjc\n",
       "yCk2rhuKzDJzArV81Veg66LCuaeD4F7d4WpvJSL8VlQGNfA08uLUA8Ak8sr8h+HbtJe2cipORLV9\n",
       "T9wbzPXgm9YqEVq4FWqiNGWHiGzGGKe6xxna7iWPy9BGS245NzsolaKdvmXmV0yU4d8kbg5uGYlk\n",
       "maQLH0jOc7Yf6VWvnGIN6E0pnQyCZ4HYr2RqsPfYRRP+Ls9/CGieCs+0fShnj5l2nk/fP5Mnx3/L\n",
       "wRmVKyS+hfOfcXZQ+EWeDP5yY3pbkb7uiVFF3WDHZgmLuga1v7h8g1Dc20ndvEeCgCyodwT286t7\n",
       "xMH20YXnwaKz4LD9ejzJbDYZuU0aOAOKrbo0s0fRS95LQ8zTFPZKH1HsB1Wd1GLIepaFlx/rBPW4\n",
       "lDpcxxvjr7fLcUbihpyir2B8tJKCPkhX7ZQakV0Z6d7WpONQCmpUaC4Wq6g+oI8Geleo8xBMJFVf\n",
       "kEx0R8HMQHyVGPrEIjxfsWZ/2YzRQuLUGrcEpXeB9HzkIYzJjk9+LChHCbwmzWIvWc2nzyd9YFrA\n",
       "wbykZwrc4HoaOeHgKKxwjx/UjQUol6dMS0gJWtxwEcU01xkVAmg8X/YjQmDseD00IuC7I2OnxplH\n",
       "FFbGpuig+Wsgcu5a2fYcjxZ/r9XzYDl46elKlBYgHfLaCWDhHYjT5JELRnKjS7NaKxmqg5bU5OPc\n",
       "XBOdGvpCvvtTsU39AViyK8N+plXbr8sclcZhmJ2sG32e2MS49iPnjAEVdsn4urPmD1c7zWAYhBml\n",
       "FQtpxW1xlZ0NvnF49L6spB6FpgrJTX1FXlRRt7qDUscamxRa7hjGvnrgVq8b2mjoaM7tXGya+tox\n",
       "wao+wQrC1WAdYTD4kQk+l/c9C4ALw9fMHU1DA8CCemiF8+a7YoHoPjVY303yaLvd3ZtwNaqEAR1o\n",
       "e0WGUVLnQmQqPCjWwARW/jrFYSLEQeIiSQ/jOkWnoU4yHIquVjVQ2C/lC7F78wprv+N6mDtPcx3d\n",
       "65KqaOL/eyUTsFQSODIh6Ww7uOmqnSXmY+YqHjRMaYPPxZg3ZKT4eb4E8XS3pGQrRe6zaFR1QCQf\n",
       "38e+mtuQGr/k0YupVmBjE4R/m84iOfEBia2tEsW4ureJR7qBRZCf1Z4l0BuBavQfZ9RqA+V3PJSn\n",
       "i5M9Ca9WKCVCvPs0/XZ29i6am6+9NIvkFPq0ewGrilxZozZy+zBr5yb3yhHr9mEkuREWsC2TtSU1\n",
       "od+JPMZcZX9Kv2luI5599gTJ8rT8G+rwFAjw7pRM1OsQJa+PGng7MkhTkyWDWS1zxSzcv8kKoSG7\n",
       "ZVGIfKnahSyPYK+d3vJ9TNGaXE1qqwm+24PLpE5y4YDWgxKepyAOwU4ADO/j6qnjrnWfYOQCpRzG\n",
       "B7++x3/LOk/AKQy/oLNAM1fYlArgQD9ijcoFr5S7EyYtQ95yl3f/AlR1+FPJqzo3E1bqpx9fSTE8\n",
       "r5BSMer0EyTG94a8tlCODcG2J8SKVz0B/qRPuijH9CUcWxjGISpkLf2KooWLa4nrp9yEfWiE7d2G\n",
       "Ils8hFxsKqZGuN5u/ycbEYp3cEp84an4bQj5AxivPdwLQOdCIpiXhLxhy0zqoR2Vkg19x+wbxLdo\n",
       "s+coT87sMRWTKJCPWFOwLbw8rj1NAITEIH6xOpQ20KuXQ8xb/QLXsQAABxwBny5qQ38AlWlg/Oe+\n",
       "/XpRDgAEtmZVGjkT6lS+urxI4awJbqat51gqBtdDloxsuhuS5Y3uNS9Px3JTlgvkLk/0tYnLS/WS\n",
       "lMCjPnsvFyF0Z0psEZQpPsYD37c73HQ01IXRHiKJqp19bwoqOU6M5VLCMAGKGDbOBh1RjtYIrlfV\n",
       "TVmGehrqVs+sWceaGV7k85PCCODhCgB+/wBkLOa1S84tSRV57rVrBpFVn5ELCLArO1jOguZCphpe\n",
       "lPv4EjNgVW7yrtqH/W4U6sINrjPgRpGlr13mCWyGXGRJyBG3GFw9Lmzdk8q9tPqBKbt1GL+dx+57\n",
       "TYyXWtDUcGbsd8FIwPmAWPkz7GChmYRr1NMKi0KVsUlTjhUlwkkBaAWFXtfr6CB/Wr9wSIlbPcoX\n",
       "XGyLdPW9oM0XRl3P0DSP/4n47M5bC7H5cp57UhtB6p6FLekq+o2CaTPvk+fjQFb/3V9GPc1uDsHy\n",
       "U678/XNL4HOcZZMUID4hBtJHTrDHQ8t53ByDzqV2eYuJwFjxFFhCqhsHPQdM3GkxQ9/478zl5rDn\n",
       "iCGjN0Y7QUzI8MbJB9tIGS1OeoS17gDz949Cd+HtTdfZoDdZuqK8BhXbPf+1RIaFgiV35h1Evgw7\n",
       "GC6xCbvzR4J88EPQ38wGoZ0j2MtM3ZrToxmIEZt7rxV1GzzMxcBl6/Mp9uIpbV8vV8Z5o/6CkmOA\n",
       "yv2z7sbkEndsY3x9WwBKSyG92MTWK7FMTMn/75Z0LsOkfEceJ+PUYLJDmHc2PmbYoYcO7Dgb11Ii\n",
       "i6hV3dKTPK6mYRm0R0K00C7xY6DjXyT7sSwOKTWoBQkhyZiHoHNxrv7JsUBnpJunK94uxj9FnjnM\n",
       "tKVyIrIOrDzYcAmF8jDQizCGsoxcEU+8gIOFqmUU60siABP8hVpzw9MFiAjpEoAxOFL3swj3iTN0\n",
       "KLQcS80IlOXKxIoNKrfTgu73NspOETTHLZq1n2IbMjUK6pl1qOGfzXbLJ5aQrcwZDSKJMQjds8Fj\n",
       "B4nng7Ci7ZmAcRO6rTVUlxFJlfLkXswobwH23xqtC7WptLjDE8MNLsVdU6xtgdvVxerthO9J7Z7X\n",
       "5G+pctnZUqeTHn6oeWflcSw7WTcnrbfU0ZvIimLwavg+0yBcKNmI83h2w9QZs4r5FyS5rGoxg2pG\n",
       "Updk/YpvYc/zcuzoEz6yD83GyNlsSMUg9kGmo9CBXos6wW6vIG5oZMaNomUnuI+IjuYv6MDODyoD\n",
       "RiJ8fRkIAW+ySGoLEZBqRNpyC9Lff8KCII7KB0DORATFEJtQYYr+YCuDlrsKR7cPpTVpb4gtGe2a\n",
       "/kywbWMNxfaNq0erfip719pQrYoc+tAgOicKNK3dwyBQXhbGmaovAzy22PBRKqCMJnZ+letgUor5\n",
       "9KUtWZfz00m58BPpconLdUj+MHSRVtu3SB6hQ0eCI0CPH9F4A5bkQyE7pO13iXmZWiUqCoQcizGJ\n",
       "Uo+6iTap/yCXRWk6IPVgAhsR2OeiskfIREnenZBu7qeeaCpM7DOdpmMNfRoqrdzjeW3ePX7sbGFI\n",
       "xQzqHs5hfCXk4M17NKJoDVKPopmMzxpg6NTZddxYqr1bR70XIMJIjmNmfAzBUZMdtCyDyE9+aIBs\n",
       "Qd25h+18UcOdGiLktTGTkAxJTQwvkQE+whFaHD7jc+vbRcTks7czSSfhNqawXRnOuqv8YDJf7Ymq\n",
       "hoERlgKwvnjb0vfaQKn2ymxas2iwFPTWxGv0RulqDQSbwV3Ncc1a60xD/l9VOaTfHlWbV9zqAOu1\n",
       "uj7ksEKearDjYsZj0gyfn+Gz38iCtrI5l61wiqioRwcuIZOfGjLpZzjHp7FrqPl+oae89BKuxX22\n",
       "iiihQgRqx+VArXkhiB3WND8iDFqWVVrB1boiaaXOHbuGwE0ew2BrAOyxBoOo4mNu+DFd8s4ygwZa\n",
       "oA+HfqtutLthgAI2Zfjk3kIgJo+LjAQnUyICoD9vo8VmMGTZN/17O5xrfh/8rd70a81yaqdAQe7c\n",
       "H++le9qF2XfqgHAsh3T26fva6jr22u/D4xFAX5dVNqm/NMCQWJj2gRouR0RQIZdwOFwLIgV/WhGJ\n",
       "XoE/iZlU5J5t3hWPsDavxaFbKK86JvmPzOyWYgPDtIKg+c6Eygr931FG3J3FJyyWlIbx7Gu6Ju+k\n",
       "/L+Ml3PZldSofFugStQXYYE7HTQNBlucNvyUwdRO/sCEU7Gal+Z2VkDfUtBrQ7fq+1Rw4DoOTBcX\n",
       "VmS3hJ7NF7w+M4jR+yXSIk4dJrO1qetV1i5+AXYXX1dHBLQE3TqqnQPXOmcxp5axk/YjQyssogw3\n",
       "NNGWDNFfI6tDVylOOIv0IyxMn1lYYjQ1s2HVNXMG8OjMF2QckfkwZ69gC1u4GZbjx/+96o07r8jt\n",
       "IANdv863yMdOm5j9d5PxKBXhtIGOsDtraYI5YMqGnBSfO0+6OOWGEwAAB2hBmzFJqEFsmUwUTDf/\n",
       "/qeEAdiRtCDgBNMgVtvbz0+U0n/TUimnaQecMaLuOZD9Cma09zizOH8lW5SQSCJjP30dF1Z/yaBm\n",
       "hGAVfgWVdIkxNsWvqOBJDbmSLl6n/bzK0pHa1UO0jziudcXGzH3+SUefeXM/XNi+t8A5faU54sGY\n",
       "q8PRaMcd5Jnoi+xycMDNxknAZQIZxx5JJXxWPqMihj+paZvEejFrSuo0b71T0AsFAF6u8pY0KD7r\n",
       "hJQ0ypN2inBqgQis2nWuVwOE/aHIYZIDSxw5AjW1gMBCochgagl2JgwRiciaKGCL85B1BS97VJnJ\n",
       "v5B8Lv6CDMQ/SzEYDUvuUfqMpQqpF2ocKJEiaeTUcp2OiKA9QgBvats3E5bdVo2/epJGOPrgOkri\n",
       "7lw0SIvB4vjfBq/hqEwnuEaHZGU26Y/J8M1qLd8fZqzBCyvgYqE0+3EIObbIxBRfV7Yv4d3bNzsT\n",
       "JIlddxnrFD2FYp7wdHwhU3dbRUT/HDa30FNFyeFgpNPoaVQIYpWfMY6fQUBZc3vlLDofNjT8Zs+U\n",
       "q2TAd2+T1xZn/iZILahzjMmOFgi/kiWPL4nZ2Sw9D2TvCz+I67UDJERre6UzMn1M2Jud/hcfG/0M\n",
       "M4gUNduo6diytLfL4J6mgC2nvRY8ilkgonraNlVog60OB69ffBptA9bAZYX9TjJkcPct26ysU2+w\n",
       "cMe/ZqehwG7BOPbmdxCGI86H1mV6ruOG1AOt+f8dDIDXBBJtoLZaAxGkZkeAzC7rDC4vYpbJEy2P\n",
       "/eYWU6LYnOj5udP5Nt9FUbetMvocTPiEurNGQ56ALX1hoyVR0mlx0Q9PIubGQgoCu9xg4Rwtsmxd\n",
       "dyiP3x0R8Ao7EVYexEBTEXYYi27SBMfDBuJGDdJF1F4US75WzJv5ZGF1sG88HX9U82E2oxTYpz1X\n",
       "FF2QzrttW/t17aj94M8sOATfudLr9yNMFlj7g56irLyCmUdTI9w8rIKzvjoXj50HFpOBBNa12YCE\n",
       "gJy7Xb/oz3qjf9OcN+mcnyvNZBU35aSt93MwKysTwDeYYAJiRCYv0knzKnvpHlR1MFPHZyuOoOA4\n",
       "sXJDH5B9gI6UpYp76Y0hkoCLnIY4rb9RGqYqEwbNeEcO9dGw0JioI2p+mKF5ge7xlG5qR3BE6TgI\n",
       "VpjIaBxbasfOXYR813GjIINFZB3MiNoEijrZh7w9B/tTP00AvO5+QJyCXTHsL6Lc1rJWPhQTaz7Y\n",
       "W8LKhO3s9nDjXX/94WexOsAHEHWj7gokfo3eTtjRxr9O320nWH6xo14BCsbbTg242Xwtxf7EH/Hq\n",
       "XKMVSw/JoA427NSK9vMrrjgo6b1L5fWolKbpHKfS0EuPeMgBwC8MNgO6PghbWFJDg6x5QL72op6G\n",
       "O5pJkL77W7SZ0K1IFuC8wnQ8MMN4m6JxiK2kFQkd569GkoGydBlTJ0zjc4fGEFWd2g8QLAIr6dMD\n",
       "8CM96HR9iozVmiGZtg5lJW5sj1wvJYDc8HD1cePYyG1YmV+gimA4rFOQp8CAuQ5HB7Qj65yfej3r\n",
       "/0m49RsdC8VsNPh6dzNJCBce+Y+tODSNsfvmvqoMB/LTz/Qtm69anGEzAgftvOq4pVXul1H3VYGa\n",
       "ukRhUQ4Bcs3ZwaxnWILwFJM/ZS66aGb/NcOMA48Zhrcznubg1X9wK4u7F6z3w4qy/o1IlYf7V1na\n",
       "mgxEs+tsWKq7IrHKj26dLzzK9MC4/866mjYLJ1PY8eFSHKDmZH4PbDU/zA1Z8NfJi1Ls1yPswByA\n",
       "9pMuuz/Fld9Q5vQdP1NAZnMFktvnUj58oGWcPVNugwifHCiGWG1IlGopTVVal6vb+S2L2KbpftKp\n",
       "YlWyDXwXwYj44B3oTj1JuX3++skrsIkU9q7dCTuEciEI5ymy8srtLC78SYQl3JSfLTVDP5x83lc4\n",
       "rbLFm6TnzvefOsnUxnTU9bF1StO1FzI60is1p9gZ20LQkWsT041BTxLjNmxSU407nro4iJ59gybk\n",
       "1wE53GEfWeC8+T4+OT1guu4RsQYndDi645yFlei7UcEaTW3sqBULZkyLcZtiC5QstjdKAH2Tkfwg\n",
       "gHfdfAo9AhucQLjkyiMH3JSU+mdEtf7wCCBS7qGYcojpEvsddOyylR32J1RYbyZglerFWLT5rXVz\n",
       "dGSIsHUObp56L6L83vUSabXYAiHpnnoE8R3HLUgML0H+uVbd1zdBdgg9M/Plu7bdM2oQYdKfVUU0\n",
       "xjrVt3ZqgXPkdAQq5VtWvZ1DdubVFC0l6Z5NPzjeVv548fvJ+TcDcGfOj9zgcq18RUNilGqDGJIQ\n",
       "eQ9ZgAhKzFmqPFrg5RyEtzE53oW84Ua+4bSV4C+5SzCWjwRn2dRGQM8dOuOx46lSJFZRcnj9jRsf\n",
       "OO5m3Q88h7vgeJrInP31R1o2Cum33B86STjlDDvK9cVCW5CW2FvM1ThFS6yGofu/ESMHxhIPCXOi\n",
       "mIOruwrXOHqQEFfQVx2CnmIcletNPm3mRdrYEyM1gTxb+/wr1Fdx01KGvVNg8L8z+qhxGa9aukbS\n",
       "NYAAAAdjAZ9QakN/AJdVc9YAJnloeEm5ybMCzX6beCowla5NYY4IdB++rRoIUnalSDGu1h7kqxpc\n",
       "XGCi/x2ZdyKUCx0x19WnljTko+VbQ2D3Aspqq1E+nUjtsXwKjcqoa5KcmUsi7L1eHCQf50SgbHEh\n",
       "J8xS65UNr+5nXH8XOfJSvkfoAKWAlO+7Kg1qSbhCxdrcX7a9J7G83uFHo1teC8IdS5RybTLVjzB0\n",
       "fRVsEay7brN3yIPP5GEXjFBjNmd5Fe0NARyUV/Fn0lHZcpsGXUWh1epzDQvhEZALtoKTYrfjzSCZ\n",
       "m3IG88RjjxxpZtkVESeryt8zrANr6qIASdEL/czmih5TJGMXMDzigSDc/oMCxcI+z8gfCmLnUihr\n",
       "z+GYIqsdg0yPYgacDSqtvGTuCbSpEuTOWh3i4uQkWlUcjeMr54avIevX1n2x6zmdKH9VEBdIjqeu\n",
       "10Hsrx8AZefsKMOmThykRdECjUHidYMUzeVsu+nr4XjM72cTe5TyyqUNd48I3zOmrt0UUkbmIZVm\n",
       "AsAz1eZYxeZa16oKpq2dJOOAoywIm7ki3+EyHK33cTmOP4Rf0uzOpDkCY6pbdqnQzUeePUhvU5j+\n",
       "xD4WH4H0lqVbBck7NsdZcgv9DeIb9zGLPtBeiEezud3JkaKZXnanM2L6i3ou1CZWx+WKS/P5DhkD\n",
       "idBiI2t2Zc4SbF/pqesAggJgJXakHpw9LXQX8moFiI8VcctnlmctFyvu9uxCREsMOARmNl5Lwd8q\n",
       "q/lofGDoe5eScT04j/0iraIKtAvRSBbQuiRJSNXpV13Y12taeRwu8BVnq7aSI7ZP3wQXKjY9wQCV\n",
       "TWn95QdQLeoRLnvSgfrXMi3PWeYBs+uX1OdozBHITqUCADVftA+YImQryBBOwRQN137Cpajtt80P\n",
       "A5EK9Xh3Jt/+S9lfijsz4DU18NxPUMEfaa64V44KX5qo24Cy4owAFniwTaljyqWr7RVImjcN4utw\n",
       "tiEEvc609/XxTJey6ZOHqeLHY6NmjlsWtjiOZ0zOc1VB7Ow3JO+7Cr+Uim1enxQBdpT9vPtGOhnd\n",
       "wcvSpLujlEYaK3QP2FGNbvO7bD5/wLuNKK06o/OJLmYcdKiBQ7YiePj29ztpFvIumvSLH33ogceO\n",
       "yzHV/tiafFkDONU1Hs+rNJM/JMf/OUn/QuEUt1ca6IoRTeSPJmC8GNcst4fospZJ7tF0QiqAdJdu\n",
       "C70m7kwkXY3XYdEmW8Rc/nxx7iVAE5qaHh99GKIl6crm8HFFFpP01EJYHjiCO2wlKWYwjXeasBst\n",
       "VEn4ryxAbbCtvDN8lyikXKwaMxRfxfe7aRHdbObmttGmlHYe+zoO1yeIeIawzIicOPv4lR2WdOa3\n",
       "huGHsBnqqTJ1y0zpooAZoRKceITNCLJ6cPrc5sRWZeKfs6D+v0uFgMdM4gZ+YVS/smicjE7e2BtB\n",
       "tKZYCMvtdFF4AW94LlZPp4qLWHfR3ke+cGj665vVdBihGql3cu3MI7JHZNSf1R+hziL1wC7K7dDU\n",
       "XRzMoLIX/ATYQroVsjP53i02AmsV1qStnkNixoPZlv9FgclKU3ozXMAs9iKkt3nqbTgBmNisMkfR\n",
       "8+jLrgVpTM1x7JXhzpXhiVjfxpweCfr2GHub0n3n68jWzQCmei0xxt7dDoBhVFhJdW659ou7+0AI\n",
       "ntXm2NxVqSVPzNLtwyyIdicxWy5vQSTdZ+e1JGgJR9C1En84+KRUDuWnc6fkGeK8RR2l0YCw6kqi\n",
       "bCFLh06Krt3z9azooTOKpGxTulBd+E1ufbFuol3oXHDFJn3lzCFLN1L37uqYF6Kwb7vQ1lkBTEeL\n",
       "+xUK1RzAAZunv1G+z8zaFOYSKJrkUoWo1muqICMkw2OZ1Rsv+CZJPusQc3Re1R+bMJcjC+yQJ1IM\n",
       "bnVB6zmxwVPHDlOLOP3rVpoN/LQsUATtTFsPnK1yBOo2R/vBnXJ2xuG6/SVFAwjg+wZNeDGZoygN\n",
       "fIof9zZ7Xu4HqQXOlyQGA35xEUwD4ZPpFdQAV5V+iRoKv8ZMPD08su9m6SKJ0idmwjoxpHVnirHn\n",
       "tPTxlVRFhowqTI7Lw5cWh2YUBJVEYm8DHuXJFgw9sVIMQlEF6+PZZp45SZYauyOJmFiKv/9lJabG\n",
       "fM3k9XoP6tG109/JEA3/7lnA187n/o2ucrHqBsvMAmm/5dYDVOqP1xgaqV+UL0tu7uYCFc1J0CZU\n",
       "Bnmt2GUIdc8IPyPcF6aWRJoAfRz+UJ4RYrHSKhMQepNl+loJYXvpRKbNF5ZRnoLFC9DT0XLk3LdH\n",
       "jkL74G9jVMiODCWYGe0l1877DhmaCQDsGeNCkCtzGz4HWEfgimdpsBSYpEzZebF98w4a/fQ5TBfl\n",
       "1TsKcuooVCr08VeT3cbABKfulUP8gnPBM0hjpEOmH0lk0GBK45rHputT4uVGPoRuj/8skELx0V/R\n",
       "NJbUHF+YX+09+VaPT8hqLOqEtdTjevV/zxz7SgDjlek0jCoQUq7Cfc2l81lxLlIN5QKhjiyYBtKy\n",
       "j/vFwTOohaVZd84Rs9ojEgAABYJtb292AAAAbG12aGQAAAAAAAAAAAAAAAAAAAPoAAATiAABAAAB\n",
       "AAAAAAAAAAAAAAAAAQAAAAAAAAAAAAAAAAAAAAEAAAAAAAAAAAAAAAAAAEAAAAAAAAAAAAAAAAAA\n",
       "AAAAAAAAAAAAAAAAAAAAAAACAAAErHRyYWsAAABcdGtoZAAAAAMAAAAAAAAAAAAAAAEAAAAAAAAT\n",
       "iAAAAAAAAAAAAAAAAAAAAAAAAQAAAAAAAAAAAAAAAAAAAAEAAAAAAAAAAAAAAAAAAEAAAAABsAAA\n",
       "ASAAAAAAACRlZHRzAAAAHGVsc3QAAAAAAAAAAQAAE4gAAAgAAAEAAAAABCRtZGlhAAAAIG1kaGQA\n",
       "AAAAAAAAAAAAAAAAACgAAADIAFXEAAAAAAAtaGRscgAAAAAAAAAAdmlkZQAAAAAAAAAAAAAAAFZp\n",
       "ZGVvSGFuZGxlcgAAAAPPbWluZgAAABR2bWhkAAAAAQAAAAAAAAAAAAAAJGRpbmYAAAAcZHJlZgAA\n",
       "AAAAAAABAAAADHVybCAAAAABAAADj3N0YmwAAAC3c3RzZAAAAAAAAAABAAAAp2F2YzEAAAAAAAAA\n",
       "AQAAAAAAAAAAAAAAAAAAAAABsAEgAEgAAABIAAAAAAAAAAEAAAAAAAAAAAAAAAAAAAAAAAAAAAAA\n",
       "AAAAAAAAAAAAAAAY//8AAAA1YXZjQwFkABX/4QAYZ2QAFazZQbCWhAAAAwAEAAADAFA8WLZYAQAG\n",
       "aOvjyyLA/fj4AAAAABx1dWlka2hA8l8kT8W6OaUbzwMj8wAAAAAAAAAYc3R0cwAAAAAAAAABAAAA\n",
       "MgAABAAAAAAUc3RzcwAAAAAAAAABAAAAAQAAAZhjdHRzAAAAAAAAADEAAAABAAAIAAAAAAEAABAA\n",
       "AAAAAgAABAAAAAABAAAUAAAAAAEAAAgAAAAAAQAAAAAAAAABAAAEAAAAAAEAABQAAAAAAQAACAAA\n",
       "AAABAAAAAAAAAAEAAAQAAAAAAQAAFAAAAAABAAAIAAAAAAEAAAAAAAAAAQAABAAAAAABAAAUAAAA\n",
       "AAEAAAgAAAAAAQAAAAAAAAABAAAEAAAAAAEAABQAAAAAAQAACAAAAAABAAAAAAAAAAEAAAQAAAAA\n",
       "AQAAFAAAAAABAAAIAAAAAAEAAAAAAAAAAQAABAAAAAABAAAUAAAAAAEAAAgAAAAAAQAAAAAAAAAB\n",
       "AAAEAAAAAAEAABQAAAAAAQAACAAAAAABAAAAAAAAAAEAAAQAAAAAAQAAFAAAAAABAAAIAAAAAAEA\n",
       "AAAAAAAAAQAABAAAAAABAAAUAAAAAAEAAAgAAAAAAQAAAAAAAAABAAAEAAAAAAEAABQAAAAAAQAA\n",
       "CAAAAAABAAAAAAAAAAEAAAQAAAAAAQAADAAAAAABAAAEAAAAABxzdHNjAAAAAAAAAAEAAAABAAAA\n",
       "MgAAAAEAAADcc3RzegAAAAAAAAAAAAAAMgAAHuoAAAXQAAAAmwAAAQUAAANFAAAB5gAAAPwAAAFp\n",
       "AAAEFQAAAiwAAAIaAAACUwAABMoAAALfAAAC9AAAA80AAAU2AAADeQAAA+MAAANsAAAGsAAABTQA\n",
       "AAQ7AAAEYAAAB9MAAAWaAAAEAgAABDUAAAglAAAFiAAABcQAAAXgAAAKCgAABnkAAAUBAAAFvQAA\n",
       "CNoAAAZvAAAGbgAABhYAAAl4AAAGqgAABjIAAAZ4AAAJCAAAB4UAAAa8AAAHIAAAB2wAAAdnAAAA\n",
       "FHN0Y28AAAAAAAAAAQAAADAAAABidWR0YQAAAFptZXRhAAAAAAAAACFoZGxyAAAAAAAAAABtZGly\n",
       "YXBwbAAAAAAAAAAAAAAAAC1pbHN0AAAAJal0b28AAAAdZGF0YQAAAAEAAAAATGF2ZjU4LjQ1LjEw\n",
       "MA==\n",
       "\">\n",
       "  Your browser does not support the video tag.\n",
       "</video>"
      ],
      "text/plain": [
       "<IPython.core.display.HTML object>"
      ]
     },
     "execution_count": 21,
     "metadata": {},
     "output_type": "execute_result"
    }
   ],
   "source": [
    "from IPython.display import HTML\n",
    "\n",
    "HTML(line_ani.to_html5_video())"
   ]
  },
  {
   "cell_type": "markdown",
   "id": "6f702c59",
   "metadata": {
    "slideshow": {
     "slide_type": "slide"
    }
   },
   "source": [
    "Para instalar utilice el siguiente código:  \n",
    "\n",
    "conda install -c conda-forge ffmpeg \n",
    "\n",
    "que obtienes en la dirección: https://anaconda.org/conda-forge/ffmpeg "
   ]
  },
  {
   "cell_type": "markdown",
   "id": "cdb32bb1",
   "metadata": {
    "slideshow": {
     "slide_type": "slide"
    }
   },
   "source": [
    "Alternativamente, podemos mostrar la animación usando un pequeño widget interactivo de HTML/Javascript:"
   ]
  },
  {
   "cell_type": "code",
   "execution_count": null,
   "id": "655f9f38",
   "metadata": {
    "slideshow": {
     "slide_type": "slide"
    }
   },
   "outputs": [],
   "source": [
    "HTML(line_ani.to_jshtml())"
   ]
  },
  {
   "cell_type": "markdown",
   "id": "9ef9bc8b",
   "metadata": {
    "slideshow": {
     "slide_type": "slide"
    }
   },
   "source": [
    "## Reflejo de bucle una vez"
   ]
  },
  {
   "cell_type": "markdown",
   "id": "4641d063",
   "metadata": {
    "slideshow": {
     "slide_type": "slide"
    }
   },
   "source": [
    "Puede configurar Matplotlib para usar este widget de forma predeterminada al renderizar animaciones:"
   ]
  },
  {
   "cell_type": "code",
   "execution_count": null,
   "id": "9e312b81",
   "metadata": {
    "slideshow": {
     "slide_type": "slide"
    }
   },
   "outputs": [],
   "source": [
    "matplotlib.rc('animation', html='jshtml')"
   ]
  },
  {
   "cell_type": "markdown",
   "id": "660c56cf",
   "metadata": {
    "slideshow": {
     "slide_type": "slide"
    }
   },
   "source": [
    "Después de eso, ya ni siquiera necesita usar IPython.display.HTML:"
   ]
  },
  {
   "cell_type": "code",
   "execution_count": null,
   "id": "cf7dfaee",
   "metadata": {
    "slideshow": {
     "slide_type": "slide"
    }
   },
   "outputs": [],
   "source": [
    "animation.FuncAnimation(fig, update_line, frames=50, fargs=(data, line), interval=100)"
   ]
  },
  {
   "cell_type": "markdown",
   "id": "e62ae9e9",
   "metadata": {
    "slideshow": {
     "slide_type": "slide"
    }
   },
   "source": [
    "## Reflejo de bucle una vez"
   ]
  },
  {
   "cell_type": "markdown",
   "id": "876055a9",
   "metadata": {
    "slideshow": {
     "slide_type": "slide"
    }
   },
   "source": [
    "Advertencia: si guarda el cuaderno junto con sus resultados, las animaciones ocuparán mucho espacio."
   ]
  },
  {
   "cell_type": "markdown",
   "id": "4992ed5e",
   "metadata": {
    "slideshow": {
     "slide_type": "slide"
    }
   },
   "source": [
    "## Guardar animaciones en archivos de video"
   ]
  },
  {
   "cell_type": "markdown",
   "id": "26dd57bf",
   "metadata": {
    "slideshow": {
     "slide_type": "slide"
    }
   },
   "source": [
    "`Matplotlib` se basa en bibliotecas de terceros para escribir videos como FFMPEG o ImageMagick. En este ejemplo, usaremos FFMPEG, así que asegúrese de instalarlo primero. Para guardar la animación en formato GIF, necesitaría ImageMagick."
   ]
  },
  {
   "cell_type": "code",
   "execution_count": null,
   "id": "0b593b53",
   "metadata": {
    "slideshow": {
     "slide_type": "slide"
    }
   },
   "outputs": [],
   "source": [
    "Writer = animation.writers['ffmpeg']\n",
    "writer = Writer(fps=15, metadata=dict(artist='Me'), bitrate=1800)\n",
    "line_ani.save('my_wiggly_animation.mp4', writer=writer)"
   ]
  },
  {
   "cell_type": "markdown",
   "id": "5e6480f6",
   "metadata": {
    "slideshow": {
     "slide_type": "slide"
    }
   },
   "source": [
    "## ¿Qué sigue?"
   ]
  },
  {
   "cell_type": "markdown",
   "id": "c71bb5a5",
   "metadata": {
    "slideshow": {
     "slide_type": "slide"
    }
   },
   "source": [
    "Ahora conoce todos los conceptos básicos de matplotlib, pero hay muchas más opciones disponibles. La mejor manera de obtener más información es visitar [la galería](https://matplotlib.org/2.0.2/gallery.html), mirar las imágenes, elegir una trama que le interese, luego simplemente copiar el código en un cuaderno Jupyter y jugar con él."
   ]
  },
  {
   "cell_type": "markdown",
   "id": "538d2da0",
   "metadata": {
    "slideshow": {
     "slide_type": "slide"
    }
   },
   "source": [
    "## Referentes  \n",
    "\n",
    "* Galería de gráficos con Matplotlib: https://matplotlib.org/2.0.2/gallery.html"
   ]
  },
  {
   "cell_type": "code",
   "execution_count": null,
   "id": "90525bd9",
   "metadata": {},
   "outputs": [],
   "source": []
  }
 ],
 "metadata": {
  "celltoolbar": "Slideshow",
  "kernelspec": {
   "display_name": "Python 3",
   "language": "python",
   "name": "python3"
  },
  "language_info": {
   "codemirror_mode": {
    "name": "ipython",
    "version": 3
   },
   "file_extension": ".py",
   "mimetype": "text/x-python",
   "name": "python",
   "nbconvert_exporter": "python",
   "pygments_lexer": "ipython3",
   "version": "3.8.8"
  },
  "latex_envs": {
   "LaTeX_envs_menu_present": true,
   "autoclose": false,
   "autocomplete": false,
   "bibliofile": "biblio.bib",
   "cite_by": "apalike",
   "current_citInitial": 1,
   "eqLabelWithNumbers": true,
   "eqNumInitial": 1,
   "hotkeys": {
    "equation": "Ctrl-E",
    "itemize": "Ctrl-I"
   },
   "labels_anchors": false,
   "latex_user_defs": false,
   "report_style_numbering": false,
   "user_envs_cfg": false
  },
  "rise": {
   "enable_chalkboard": true,
   "theme": "sky",
   "transition": "zoom"
  }
 },
 "nbformat": 4,
 "nbformat_minor": 5
}
