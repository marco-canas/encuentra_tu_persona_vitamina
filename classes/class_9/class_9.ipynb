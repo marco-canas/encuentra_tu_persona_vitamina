{
 "cells": [
  {
   "cell_type": "markdown",
   "id": "53e6f060",
   "metadata": {
    "slideshow": {
     "slide_type": "slide"
    }
   },
   "source": [
    "<table align=\"left\">\n",
    "  <td>\n",
    "    <a href=\"https://colab.research.google.com/github/marco-canas/introducci-n-al-Machine-Learning/blob/main/classes/class_9/class_9.ipynb\" target=\"_parent\"><img src=\"https://colab.research.google.com/assets/colab-badge.svg\" alt=\"Open In Colab\"/></a>\n",
    "  </td>\n",
    "  <td>\n",
    "    <a target=\"_blank\" href=\"https://kaggle.com/kernels/welcome?src=https://github.com/marco-canas/introducci-n-al-Machine-Learning/blob/main/classes/class_9/class_9.ipynb\"><img src=\"https://kaggle.com/static/images/open-in-kaggle.svg\" /></a>\n",
    "  </td>\n",
    "</table> "
   ]
  },
  {
   "cell_type": "markdown",
   "id": "f6befd0f",
   "metadata": {
    "slideshow": {
     "slide_type": "slide"
    }
   },
   "source": [
    "# Clase 9 Introducción al Machine Learning: 19 de Enero de 2022"
   ]
  },
  {
   "cell_type": "markdown",
   "id": "93684810",
   "metadata": {
    "slideshow": {
     "slide_type": "slide"
    }
   },
   "source": [
    "## Participación aleatoria de los estudiantes en clase"
   ]
  },
  {
   "cell_type": "code",
   "execution_count": null,
   "id": "8eec7fb3",
   "metadata": {
    "slideshow": {
     "slide_type": "slide"
    }
   },
   "outputs": [],
   "source": [
    "def estudiante_que_va_a_participar():\n",
    "    import numpy as np \n",
    "    import pandas as pd \n",
    "\n",
    "    grupo_intro_ml = pd.read_csv('grupo_intro_ml.csv', sep = ',')\n",
    "\n",
    "    from random import choice\n",
    "\n",
    "    return choice(grupo_intro_ml.nombre)\n",
    "\n",
    "# grupo_intro_ml.head() "
   ]
  },
  {
   "cell_type": "code",
   "execution_count": null,
   "id": "1728f44f",
   "metadata": {
    "slideshow": {
     "slide_type": "slide"
    }
   },
   "outputs": [],
   "source": [
    "estudiante_que_va_a_participar() "
   ]
  },
  {
   "cell_type": "markdown",
   "id": "f5177670",
   "metadata": {
    "slideshow": {
     "slide_type": "slide"
    }
   },
   "source": [
    "# [Numpy user guide](https://numpy.org/doc/stable/user/index.html)"
   ]
  },
  {
   "cell_type": "code",
   "execution_count": null,
   "id": "49bccc04",
   "metadata": {
    "slideshow": {
     "slide_type": "slide"
    }
   },
   "outputs": [],
   "source": [
    "range(10)  # construye secuencias de números (Python) "
   ]
  },
  {
   "cell_type": "code",
   "execution_count": null,
   "id": "f45416c7",
   "metadata": {
    "slideshow": {
     "slide_type": "slide"
    }
   },
   "outputs": [],
   "source": [
    "list(range(10))"
   ]
  },
  {
   "cell_type": "code",
   "execution_count": null,
   "id": "77610809",
   "metadata": {
    "slideshow": {
     "slide_type": "slide"
    }
   },
   "outputs": [],
   "source": [
    "tuple(range(10)) "
   ]
  },
  {
   "cell_type": "code",
   "execution_count": null,
   "id": "c5bad06b",
   "metadata": {
    "slideshow": {
     "slide_type": "slide"
    }
   },
   "outputs": [],
   "source": [
    "len(tuple(range(10)) )"
   ]
  },
  {
   "cell_type": "code",
   "execution_count": null,
   "id": "aaaaa685",
   "metadata": {
    "slideshow": {
     "slide_type": "slide"
    }
   },
   "outputs": [],
   "source": [
    "%%time      \n",
    "n = 10_000_000    # es para cuantificar el tiempo que tarde en ejecutar esta línea de código. \n",
    "a = list(range(n))\n",
    "b = a\n",
    "c = []\n",
    "for i in a:\n",
    "    c.append(a[i]*b[i])\n",
    "c     "
   ]
  },
  {
   "cell_type": "code",
   "execution_count": null,
   "id": "540a7e52",
   "metadata": {
    "slideshow": {
     "slide_type": "slide"
    }
   },
   "outputs": [],
   "source": [
    "%%time\n",
    "import numpy as np \n",
    "n = 10_000_000\n",
    "a = np.arange(n)\n",
    "b = a\n",
    "c = a*b\n",
    "c "
   ]
  },
  {
   "cell_type": "code",
   "execution_count": null,
   "id": "4749e0e4",
   "metadata": {
    "slideshow": {
     "slide_type": "slide"
    }
   },
   "outputs": [],
   "source": [
    "len(c)"
   ]
  },
  {
   "cell_type": "markdown",
   "id": "09e37248",
   "metadata": {
    "slideshow": {
     "slide_type": "slide"
    }
   },
   "source": [
    "## ¿Por qué NumPy es rápido?"
   ]
  },
  {
   "cell_type": "markdown",
   "id": "f8a3d190",
   "metadata": {
    "slideshow": {
     "slide_type": "slide"
    }
   },
   "source": [
    "La vectorización describe la ausencia de \n",
    "\n",
    "* **bucles explícitos** e \n",
    "* **indexación en el código**: \n",
    "\n",
    "estas cosas están teniendo lugar, por supuesto, solo \"detrás de escena\" en código C optimizado y precompilado. "
   ]
  },
  {
   "cell_type": "markdown",
   "id": "98ab64b3",
   "metadata": {
    "slideshow": {
     "slide_type": "slide"
    }
   },
   "source": [
    "El código vectorizado tiene muchas ventajas, entre las que se encuentran:\n",
    "\n",
    "* el código vectorizado es más conciso y más fácil de leer\n",
    "\n",
    "* menos líneas de código generalmente significa menos errores\n",
    "\n",
    "* el código se asemeja más a la notación matemática estándar (lo que facilita, normalmente, codificar correctamente las construcciones matemáticas)"
   ]
  },
  {
   "cell_type": "markdown",
   "id": "fd97c075",
   "metadata": {
    "slideshow": {
     "slide_type": "slide"
    }
   },
   "source": [
    "Sin vectorización, nuestro código estaría lleno de bucles `for` ineficientes y difíciles de leer."
   ]
  },
  {
   "cell_type": "code",
   "execution_count": null,
   "id": "4f59a7f2",
   "metadata": {
    "slideshow": {
     "slide_type": "slide"
    }
   },
   "outputs": [],
   "source": [
    "import numpy as np \n",
    "A = np.array([1,2,7])\n",
    "A "
   ]
  },
  {
   "cell_type": "code",
   "execution_count": null,
   "id": "5f51b9b1",
   "metadata": {
    "slideshow": {
     "slide_type": "slide"
    }
   },
   "outputs": [],
   "source": [
    "print(A) "
   ]
  },
  {
   "cell_type": "code",
   "execution_count": null,
   "id": "cca2cca2",
   "metadata": {
    "slideshow": {
     "slide_type": "slide"
    }
   },
   "outputs": [],
   "source": [
    "type(A) "
   ]
  },
  {
   "cell_type": "code",
   "execution_count": null,
   "id": "50540d7a",
   "metadata": {
    "slideshow": {
     "slide_type": "slide"
    }
   },
   "outputs": [],
   "source": [
    "A.append(7) "
   ]
  },
  {
   "cell_type": "code",
   "execution_count": null,
   "id": "b8b09a39",
   "metadata": {
    "slideshow": {
     "slide_type": "slide"
    }
   },
   "outputs": [],
   "source": [
    "B = [1,2]\n",
    "B.append(7) \n",
    "B "
   ]
  },
  {
   "cell_type": "code",
   "execution_count": null,
   "id": "a26666fd",
   "metadata": {
    "slideshow": {
     "slide_type": "slide"
    }
   },
   "outputs": [],
   "source": [
    "vector_columna = np.array([[1],[2]])\n",
    "vector_columna "
   ]
  },
  {
   "cell_type": "code",
   "execution_count": null,
   "id": "e0e8724c",
   "metadata": {},
   "outputs": [],
   "source": [
    "vector_columna.ndim "
   ]
  },
  {
   "cell_type": "code",
   "execution_count": null,
   "id": "fa890f5f",
   "metadata": {
    "slideshow": {
     "slide_type": "slide"
    }
   },
   "outputs": [],
   "source": [
    "D = np.array([[1,2],[3,4]]) \n",
    "D "
   ]
  },
  {
   "cell_type": "code",
   "execution_count": null,
   "id": "28d57213",
   "metadata": {
    "slideshow": {
     "slide_type": "slide"
    }
   },
   "outputs": [],
   "source": [
    "A "
   ]
  },
  {
   "cell_type": "code",
   "execution_count": null,
   "id": "b152bd65",
   "metadata": {
    "slideshow": {
     "slide_type": "slide"
    }
   },
   "outputs": [],
   "source": [
    "A.ndim     # el número de ejes (dimensiones) de la matriz."
   ]
  },
  {
   "cell_type": "code",
   "execution_count": null,
   "id": "6803ef0c",
   "metadata": {
    "slideshow": {
     "slide_type": "slide"
    }
   },
   "outputs": [],
   "source": [
    "print(A.shape)     # las dimensiones de la matriz. Esta es una tupla de enteros que indica \n",
    "            # el tamaño de la matriz en cada dimensión. Para una matriz con n filas y m columnas, será.\n",
    "            # La longitud de la tupla es, por lo tanto, el número de ejes, .shape(n,m)shapendim\n",
    "print(A)          "
   ]
  },
  {
   "cell_type": "code",
   "execution_count": null,
   "id": "702654ea",
   "metadata": {
    "slideshow": {
     "slide_type": "slide"
    }
   },
   "outputs": [],
   "source": [
    "vector_columna.shape "
   ]
  },
  {
   "cell_type": "code",
   "execution_count": null,
   "id": "9eeab7d0",
   "metadata": {
    "slideshow": {
     "slide_type": "slide"
    }
   },
   "outputs": [],
   "source": [
    "A.size     # el número total de elementos de la matriz. Esto es igual al producto de los elementos de .shape"
   ]
  },
  {
   "cell_type": "code",
   "execution_count": null,
   "id": "5a574018",
   "metadata": {
    "slideshow": {
     "slide_type": "slide"
    }
   },
   "outputs": [],
   "source": [
    "D.size"
   ]
  },
  {
   "cell_type": "code",
   "execution_count": null,
   "id": "55c250d7",
   "metadata": {
    "slideshow": {
     "slide_type": "slide"
    }
   },
   "outputs": [],
   "source": [
    "A.dtype    # un objeto que describe el tipo de elementos de la matriz. \n",
    "           # Uno puede crear o especificar dtype's usando tipos estándar de Python. \n",
    "           # Además, NumPy proporciona tipos propios. numpy.int32, numpy.int16 y numpy.float64 son algunos ejemplos."
   ]
  },
  {
   "cell_type": "code",
   "execution_count": null,
   "id": "68ef3720",
   "metadata": {},
   "outputs": [],
   "source": [
    "H = np.array([1.2,3.4])"
   ]
  },
  {
   "cell_type": "code",
   "execution_count": null,
   "id": "ed98aa2a",
   "metadata": {
    "slideshow": {
     "slide_type": "slide"
    }
   },
   "outputs": [],
   "source": [
    "H.dtype "
   ]
  },
  {
   "cell_type": "code",
   "execution_count": null,
   "id": "e8330784",
   "metadata": {
    "slideshow": {
     "slide_type": "slide"
    }
   },
   "outputs": [],
   "source": [
    "lista_python = [1,2.5,'Marco', True] "
   ]
  },
  {
   "cell_type": "code",
   "execution_count": null,
   "id": "325ee41c",
   "metadata": {},
   "outputs": [],
   "source": [
    "matrix_de_varios_tipos = np.array(lista_python) "
   ]
  },
  {
   "cell_type": "code",
   "execution_count": null,
   "id": "cb6707e0",
   "metadata": {},
   "outputs": [],
   "source": [
    "matrix_de_varios_tipos.dtype "
   ]
  },
  {
   "cell_type": "code",
   "execution_count": null,
   "id": "94d98418",
   "metadata": {
    "slideshow": {
     "slide_type": "slide"
    }
   },
   "outputs": [],
   "source": [
    "A.itemsize    # el tamaño en bytes de cada elemento de la matriz. \n",
    "              # Por ejemplo, una matriz de elementos de tipo .float64 tiene 8,\n",
    "              # mientras que una de tipo int tiene 4. \n",
    "              "
   ]
  },
  {
   "cell_type": "code",
   "execution_count": null,
   "id": "68e9ec1e",
   "metadata": {
    "slideshow": {
     "slide_type": "slide"
    }
   },
   "outputs": [],
   "source": [
    "A.dtype "
   ]
  },
  {
   "cell_type": "code",
   "execution_count": null,
   "id": "c37a305e",
   "metadata": {
    "slideshow": {
     "slide_type": "slide"
    }
   },
   "outputs": [],
   "source": [
    "J = np.array([1.,2.]) "
   ]
  },
  {
   "cell_type": "code",
   "execution_count": null,
   "id": "82e748ff",
   "metadata": {
    "slideshow": {
     "slide_type": "slide"
    }
   },
   "outputs": [],
   "source": [
    "J.dtype "
   ]
  },
  {
   "cell_type": "code",
   "execution_count": null,
   "id": "4fd4ba57",
   "metadata": {
    "slideshow": {
     "slide_type": "slide"
    }
   },
   "outputs": [],
   "source": [
    "J.itemsize "
   ]
  },
  {
   "cell_type": "markdown",
   "id": "4949bf20",
   "metadata": {
    "slideshow": {
     "slide_type": "slide"
    }
   },
   "source": [
    "## Otro ejemplo"
   ]
  },
  {
   "cell_type": "code",
   "execution_count": null,
   "id": "bc430288",
   "metadata": {},
   "outputs": [],
   "source": [
    "L = np.arange(12)\n",
    "L "
   ]
  },
  {
   "cell_type": "code",
   "execution_count": null,
   "id": "4bab5205",
   "metadata": {
    "slideshow": {
     "slide_type": "slide"
    }
   },
   "outputs": [],
   "source": [
    "L.reshape(4,3)"
   ]
  },
  {
   "cell_type": "code",
   "execution_count": null,
   "id": "0229a671",
   "metadata": {
    "slideshow": {
     "slide_type": "slide"
    }
   },
   "outputs": [],
   "source": [
    "import numpy as np\n",
    "a = np.arange(15).reshape(3, 5)\n",
    "a"
   ]
  },
  {
   "cell_type": "code",
   "execution_count": null,
   "id": "0713b50f",
   "metadata": {
    "slideshow": {
     "slide_type": "slide"
    }
   },
   "outputs": [],
   "source": [
    "a.shape"
   ]
  },
  {
   "cell_type": "code",
   "execution_count": null,
   "id": "ac1bf800",
   "metadata": {
    "slideshow": {
     "slide_type": "slide"
    }
   },
   "outputs": [],
   "source": [
    "a.ndim"
   ]
  },
  {
   "cell_type": "code",
   "execution_count": null,
   "id": "5ad043aa",
   "metadata": {
    "slideshow": {
     "slide_type": "slide"
    }
   },
   "outputs": [],
   "source": [
    "a.dtype"
   ]
  },
  {
   "cell_type": "code",
   "execution_count": null,
   "id": "94c3a2ef",
   "metadata": {
    "slideshow": {
     "slide_type": "slide"
    }
   },
   "outputs": [],
   "source": [
    "a.dtype.name"
   ]
  },
  {
   "cell_type": "code",
   "execution_count": null,
   "id": "13448262",
   "metadata": {
    "slideshow": {
     "slide_type": "slide"
    }
   },
   "outputs": [],
   "source": [
    "a.itemsize"
   ]
  },
  {
   "cell_type": "code",
   "execution_count": null,
   "id": "cc663584",
   "metadata": {
    "slideshow": {
     "slide_type": "slide"
    }
   },
   "outputs": [],
   "source": [
    "a.size"
   ]
  },
  {
   "cell_type": "code",
   "execution_count": null,
   "id": "75f5c49d",
   "metadata": {
    "slideshow": {
     "slide_type": "slide"
    }
   },
   "outputs": [],
   "source": [
    "type(a)"
   ]
  },
  {
   "cell_type": "code",
   "execution_count": null,
   "id": "796c2eea",
   "metadata": {
    "slideshow": {
     "slide_type": "slide"
    }
   },
   "outputs": [],
   "source": [
    "b = np.array([6, 7, 8])\n",
    "b"
   ]
  },
  {
   "cell_type": "code",
   "execution_count": null,
   "id": "29dd6ac9",
   "metadata": {
    "slideshow": {
     "slide_type": "slide"
    }
   },
   "outputs": [],
   "source": [
    "type(b)\n"
   ]
  },
  {
   "cell_type": "markdown",
   "id": "8cf734b7",
   "metadata": {
    "slideshow": {
     "slide_type": "slide"
    }
   },
   "source": [
    "## Creación de Matrices de NumPy"
   ]
  },
  {
   "cell_type": "markdown",
   "id": "2a31f90b",
   "metadata": {
    "slideshow": {
     "slide_type": "slide"
    }
   },
   "source": [
    "Hay varias formas de crear matrices."
   ]
  },
  {
   "cell_type": "markdown",
   "id": "3d9928da",
   "metadata": {
    "slideshow": {
     "slide_type": "slide"
    }
   },
   "source": [
    "Por ejemplo, puede crear una matriz a partir de una lista o tupla normal de Python utilizando la función `array()`. "
   ]
  },
  {
   "cell_type": "markdown",
   "id": "a0b18e16",
   "metadata": {
    "slideshow": {
     "slide_type": "slide"
    }
   },
   "source": [
    "El tipo de matriz resultante se deduce del tipo de elementos en las secuencias."
   ]
  },
  {
   "cell_type": "code",
   "execution_count": null,
   "id": "e626596a",
   "metadata": {
    "slideshow": {
     "slide_type": "slide"
    }
   },
   "outputs": [],
   "source": [
    "import numpy as np\n",
    "a = np.array([2, 3, 4])\n",
    "a"
   ]
  },
  {
   "cell_type": "code",
   "execution_count": null,
   "id": "e6db85e9",
   "metadata": {
    "slideshow": {
     "slide_type": "slide"
    }
   },
   "outputs": [],
   "source": [
    "a.dtype"
   ]
  },
  {
   "cell_type": "code",
   "execution_count": null,
   "id": "e2d73ced",
   "metadata": {
    "slideshow": {
     "slide_type": "slide"
    }
   },
   "outputs": [],
   "source": [
    "b = np.array([1.2, 3.5, 5.1])\n",
    "b.dtype"
   ]
  },
  {
   "cell_type": "markdown",
   "id": "a2e5a131",
   "metadata": {
    "slideshow": {
     "slide_type": "slide"
    }
   },
   "source": [
    "Un error frecuente consiste en llamar a la función `array()` con múltiples argumentos, en lugar de proporcionar una sola secuencia como argumento: "
   ]
  },
  {
   "cell_type": "code",
   "execution_count": null,
   "id": "f7ded9b1",
   "metadata": {
    "scrolled": true,
    "slideshow": {
     "slide_type": "slide"
    }
   },
   "outputs": [],
   "source": [
    "a = np.array(1, 2, 3, 4)    # Forma de creación incorrecta "
   ]
  },
  {
   "cell_type": "code",
   "execution_count": null,
   "id": "75f8bc58",
   "metadata": {
    "slideshow": {
     "slide_type": "slide"
    }
   },
   "outputs": [],
   "source": [
    "\n",
    "a = np.array([1, 2, 3, 4])  # RIGHT"
   ]
  },
  {
   "cell_type": "markdown",
   "id": "617a20f1",
   "metadata": {
    "slideshow": {
     "slide_type": "slide"
    }
   },
   "source": [
    "`array()` transforma secuencias de secuencias en matrices bidimensionales, secuencias de secuencias de secuencias en matrices tridimensionales, etc."
   ]
  },
  {
   "cell_type": "code",
   "execution_count": null,
   "id": "0eabada5",
   "metadata": {
    "slideshow": {
     "slide_type": "slide"
    }
   },
   "outputs": [],
   "source": [
    "import numpy as np \n",
    "b = np.array([(1, 2, 3), (4, 5, 6)])\n",
    "b"
   ]
  },
  {
   "cell_type": "markdown",
   "id": "1e68a47f",
   "metadata": {
    "slideshow": {
     "slide_type": "slide"
    }
   },
   "source": [
    "El tipo de matriz también se puede especificar explícitamente en el momento de la creación:"
   ]
  },
  {
   "cell_type": "code",
   "execution_count": null,
   "id": "d7d2ca4e",
   "metadata": {
    "slideshow": {
     "slide_type": "slide"
    }
   },
   "outputs": [],
   "source": [
    "c = np.array([[1, 2], [3, 4]], dtype=complex)\n",
    "c"
   ]
  },
  {
   "cell_type": "markdown",
   "id": "ba1adf36",
   "metadata": {
    "slideshow": {
     "slide_type": "slide"
    }
   },
   "source": [
    "## Creación de matrices especiales"
   ]
  },
  {
   "cell_type": "code",
   "execution_count": null,
   "id": "450f2f3b",
   "metadata": {
    "slideshow": {
     "slide_type": "slide"
    }
   },
   "outputs": [],
   "source": [
    "np.zeros(2)"
   ]
  },
  {
   "cell_type": "code",
   "execution_count": null,
   "id": "2e3b1b86",
   "metadata": {
    "slideshow": {
     "slide_type": "slide"
    }
   },
   "outputs": [],
   "source": [
    "np.zeros((2,2))      # Ojo, el argumento debe ser un entero un una tupla de enteros. "
   ]
  },
  {
   "cell_type": "code",
   "execution_count": null,
   "id": "c641865c",
   "metadata": {
    "slideshow": {
     "slide_type": "slide"
    }
   },
   "outputs": [],
   "source": [
    "np.zeros([2,2])"
   ]
  },
  {
   "cell_type": "code",
   "execution_count": null,
   "id": "00110574",
   "metadata": {
    "slideshow": {
     "slide_type": "slide"
    }
   },
   "outputs": [],
   "source": [
    "np.zeros((3, 4))"
   ]
  },
  {
   "cell_type": "code",
   "execution_count": null,
   "id": "effcd0e4",
   "metadata": {
    "scrolled": true,
    "slideshow": {
     "slide_type": "slide"
    }
   },
   "outputs": [],
   "source": [
    "np.ones((2, 3), dtype = int)"
   ]
  },
  {
   "cell_type": "code",
   "execution_count": null,
   "id": "1503a7b5",
   "metadata": {
    "slideshow": {
     "slide_type": "slide"
    }
   },
   "outputs": [],
   "source": [
    "    \n",
    "np.empty((2, 3))"
   ]
  },
  {
   "cell_type": "markdown",
   "id": "1cdd391e",
   "metadata": {
    "slideshow": {
     "slide_type": "slide"
    }
   },
   "source": [
    "## Creación de secuencias de números"
   ]
  },
  {
   "cell_type": "markdown",
   "id": "88807092",
   "metadata": {
    "slideshow": {
     "slide_type": "slide"
    }
   },
   "source": [
    "Para crear secuencias de números, NumPy proporciona la función `np.arange()` que es análoga a la función `range()` de Python, pero devuelve una matriz."
   ]
  },
  {
   "cell_type": "code",
   "execution_count": null,
   "id": "c8d39dd7",
   "metadata": {
    "slideshow": {
     "slide_type": "slide"
    }
   },
   "outputs": [],
   "source": [
    "range(10,30,5)"
   ]
  },
  {
   "cell_type": "code",
   "execution_count": null,
   "id": "5ff078b4",
   "metadata": {
    "slideshow": {
     "slide_type": "slide"
    }
   },
   "outputs": [],
   "source": [
    "list(range(10,30,5))"
   ]
  },
  {
   "cell_type": "code",
   "execution_count": null,
   "id": "a6df466f",
   "metadata": {
    "slideshow": {
     "slide_type": "slide"
    }
   },
   "outputs": [],
   "source": [
    "np.arange(10, 30, 5)       # genera números en el intervalo [10,30)"
   ]
  },
  {
   "cell_type": "code",
   "execution_count": null,
   "id": "84828bce",
   "metadata": {
    "slideshow": {
     "slide_type": "slide"
    }
   },
   "outputs": [],
   "source": [
    "np.arange(0, 1, 0.1)  # it accepts float arguments\n"
   ]
  },
  {
   "cell_type": "markdown",
   "id": "9dafe3de",
   "metadata": {
    "slideshow": {
     "slide_type": "slide"
    }
   },
   "source": [
    "Cuando se utiliza con **argumentos de coma flotante**, generalmente no es posible predecir el número de elementos obtenidos. "
   ]
  },
  {
   "cell_type": "markdown",
   "id": "6501b8b1",
   "metadata": {
    "slideshow": {
     "slide_type": "slide"
    }
   },
   "source": [
    "Por este motivo, suele ser mejor utilizar la función `np.linspace()` que recibe como argumento el número de elementos que queremos, en lugar del paso. "
   ]
  },
  {
   "cell_type": "code",
   "execution_count": null,
   "id": "569f8065",
   "metadata": {
    "slideshow": {
     "slide_type": "slide"
    }
   },
   "outputs": [],
   "source": [
    "from numpy import pi\n",
    "\n",
    "np.linspace(0, 1, 5)         # 9 numbers from 0 to 1"
   ]
  },
  {
   "cell_type": "code",
   "execution_count": null,
   "id": "006ce046",
   "metadata": {
    "slideshow": {
     "slide_type": "slide"
    }
   },
   "outputs": [],
   "source": [
    "x = np.linspace(0, pi, 3)        # useful to evaluate function at lots of points\n",
    "f = np.sin(x)"
   ]
  },
  {
   "cell_type": "code",
   "execution_count": null,
   "id": "e4a7bfe7",
   "metadata": {
    "slideshow": {
     "slide_type": "slide"
    }
   },
   "outputs": [],
   "source": [
    "x[:5]"
   ]
  },
  {
   "cell_type": "code",
   "execution_count": null,
   "id": "5c2895eb",
   "metadata": {
    "slideshow": {
     "slide_type": "slide"
    }
   },
   "outputs": [],
   "source": [
    "f[:5]"
   ]
  },
  {
   "cell_type": "markdown",
   "id": "a97a29f2",
   "metadata": {
    "slideshow": {
     "slide_type": "slide"
    }
   },
   "source": [
    "### Ver también"
   ]
  },
  {
   "cell_type": "markdown",
   "id": "602dbc3e",
   "metadata": {
    "slideshow": {
     "slide_type": "slide"
    }
   },
   "source": [
    "* array, \n",
    "* zeros, \n",
    "* zeros_like, \n",
    "* ones, \n",
    "* ones_like, \n",
    "* empty, \n",
    "* empty_like, \n",
    "* arange, \n",
    "* linspace, \n",
    "\n"
   ]
  },
  {
   "cell_type": "markdown",
   "id": "1ce490cf",
   "metadata": {
    "slideshow": {
     "slide_type": "slide"
    }
   },
   "source": [
    "## Matrices de impresión"
   ]
  },
  {
   "cell_type": "markdown",
   "id": "7162175d",
   "metadata": {
    "slideshow": {
     "slide_type": "slide"
    }
   },
   "source": [
    "Al imprimir una matriz, NumPy la muestra de manera similar a las listas anidadas, pero con el siguiente diseño:\n",
    "\n",
    "* el último eje se imprime de izquierda a derecha, \n",
    "* el penúltimo se imprime de arriba a abajo,\n",
    "\n",
    "* el resto también se imprimen de arriba a abajo, con cada rebanada separada de la siguiente por una línea vacía.\n",
    "\n",
    "Las matrices unidimensionales se imprimen como filas, las bidimensionales como matrices y las tridimensionales como listas de matrices."
   ]
  },
  {
   "cell_type": "code",
   "execution_count": null,
   "id": "59c0618b",
   "metadata": {
    "slideshow": {
     "slide_type": "slide"
    }
   },
   "outputs": [],
   "source": [
    "a = np.arange(6)                     # 1d array\n",
    "print(a)"
   ]
  },
  {
   "cell_type": "code",
   "execution_count": null,
   "id": "bf9b44d0",
   "metadata": {
    "slideshow": {
     "slide_type": "slide"
    }
   },
   "outputs": [],
   "source": [
    "b = np.arange(12).reshape(4, 3)      # 2d array\n",
    "print(b)"
   ]
  },
  {
   "cell_type": "code",
   "execution_count": null,
   "id": "fd078923",
   "metadata": {
    "slideshow": {
     "slide_type": "slide"
    }
   },
   "outputs": [],
   "source": [
    "c = np.arange(24).reshape(2, 3, 4)   # 3d array\n",
    "print(c)\n"
   ]
  },
  {
   "cell_type": "markdown",
   "id": "dfda1641",
   "metadata": {
    "slideshow": {
     "slide_type": "slide"
    }
   },
   "source": [
    "* Si una matriz es demasiado grande para ser impresa, \n",
    "* NumPy omite automáticamente la parte central de la matriz y \n",
    "* solo imprime las esquinas:"
   ]
  },
  {
   "cell_type": "code",
   "execution_count": null,
   "id": "932f8aa4",
   "metadata": {
    "slideshow": {
     "slide_type": "slide"
    }
   },
   "outputs": [],
   "source": [
    "print(np.arange(10000))"
   ]
  },
  {
   "cell_type": "code",
   "execution_count": null,
   "id": "3990d333",
   "metadata": {
    "slideshow": {
     "slide_type": "slide"
    }
   },
   "outputs": [],
   "source": [
    "print(np.arange(10000).reshape(100, 100))"
   ]
  },
  {
   "cell_type": "markdown",
   "id": "21e67400",
   "metadata": {
    "slideshow": {
     "slide_type": "slide"
    }
   },
   "source": [
    "## Operaciones básicas"
   ]
  },
  {
   "cell_type": "markdown",
   "id": "37864a2f",
   "metadata": {
    "slideshow": {
     "slide_type": "slide"
    }
   },
   "source": [
    "Los operadores aritméticos en matrices se aplican elementalmente. Se crea una nueva matriz y se rellena con el resultado."
   ]
  },
  {
   "cell_type": "code",
   "execution_count": null,
   "id": "23c2fea6",
   "metadata": {
    "slideshow": {
     "slide_type": "slide"
    }
   },
   "outputs": [],
   "source": [
    "a = np.array([20, 30, 40, 50])\n",
    "b = np.arange(4)\n",
    "b"
   ]
  },
  {
   "cell_type": "code",
   "execution_count": null,
   "id": "b05517ac",
   "metadata": {
    "slideshow": {
     "slide_type": "slide"
    }
   },
   "outputs": [],
   "source": [
    "c = a - b\n",
    "c"
   ]
  },
  {
   "cell_type": "code",
   "execution_count": null,
   "id": "eb5e58da",
   "metadata": {
    "slideshow": {
     "slide_type": "slide"
    }
   },
   "outputs": [],
   "source": [
    "b**2"
   ]
  },
  {
   "cell_type": "code",
   "execution_count": null,
   "id": "0148a245",
   "metadata": {
    "slideshow": {
     "slide_type": "slide"
    }
   },
   "outputs": [],
   "source": [
    "10 * np.sin(a)"
   ]
  },
  {
   "cell_type": "code",
   "execution_count": null,
   "id": "816ee5df",
   "metadata": {
    "slideshow": {
     "slide_type": "slide"
    }
   },
   "outputs": [],
   "source": [
    "a < 35\n"
   ]
  },
  {
   "cell_type": "markdown",
   "id": "2de916d2",
   "metadata": {
    "slideshow": {
     "slide_type": "slide"
    }
   },
   "source": [
    "A diferencia de muchos lenguajes de matriz, el operador `*` del producto opera de forma elemental en matrices NumPy. "
   ]
  },
  {
   "cell_type": "markdown",
   "id": "9b61ad04",
   "metadata": {
    "slideshow": {
     "slide_type": "slide"
    }
   },
   "source": [
    "El producto de matriz se puede realizar utilizando el operador `@` o el método `.dot()`(en python >=3.5) o la función o método. "
   ]
  },
  {
   "cell_type": "code",
   "execution_count": null,
   "id": "c86e820c",
   "metadata": {
    "slideshow": {
     "slide_type": "slide"
    }
   },
   "outputs": [],
   "source": [
    "A = np.array([[2, 1],\n",
    "              [0, 1]])\n",
    "B = np.array([[3, 0],\n",
    "              [3, 4]])\n",
    "A * B  "
   ]
  },
  {
   "cell_type": "code",
   "execution_count": null,
   "id": "bf611a5e",
   "metadata": {
    "slideshow": {
     "slide_type": "slide"
    }
   },
   "outputs": [],
   "source": [
    "A @ B     # matrix product"
   ]
  },
  {
   "cell_type": "code",
   "execution_count": null,
   "id": "04597c4d",
   "metadata": {
    "slideshow": {
     "slide_type": "slide"
    }
   },
   "outputs": [],
   "source": [
    "A.dot(B)  # another matrix product\n"
   ]
  },
  {
   "cell_type": "markdown",
   "id": "d1c15c31",
   "metadata": {
    "slideshow": {
     "slide_type": "slide"
    }
   },
   "source": [
    "Algunas operaciones, como `+=` y `*=`, actúan en su lugar para modificar una matriz existente en lugar de crear una nueva."
   ]
  },
  {
   "cell_type": "code",
   "execution_count": null,
   "id": "6c030688",
   "metadata": {
    "slideshow": {
     "slide_type": "slide"
    }
   },
   "outputs": [],
   "source": [
    "a = np.ones((2, 3))\n",
    "b = 2*np.ones((2, 3))\n",
    "a *= 3\n",
    "a"
   ]
  },
  {
   "cell_type": "code",
   "execution_count": null,
   "id": "4c672555",
   "metadata": {
    "slideshow": {
     "slide_type": "slide"
    }
   },
   "outputs": [],
   "source": [
    "b += a\n",
    "b"
   ]
  },
  {
   "cell_type": "code",
   "execution_count": null,
   "id": "13181495",
   "metadata": {
    "slideshow": {
     "slide_type": "slide"
    }
   },
   "outputs": [],
   "source": [
    "a += b  # b is not automatically converted to integer type"
   ]
  },
  {
   "cell_type": "code",
   "execution_count": null,
   "id": "91352efd",
   "metadata": {
    "slideshow": {
     "slide_type": "slide"
    }
   },
   "outputs": [],
   "source": [
    "a+= a\n",
    "a "
   ]
  },
  {
   "cell_type": "markdown",
   "id": "8555bc25",
   "metadata": {
    "slideshow": {
     "slide_type": "slide"
    }
   },
   "source": [
    "Cuando se opera con matrices de diferentes tipos, el tipo de matriz resultante corresponde a la más general o precisa (un comportamiento conocido como upcasting)."
   ]
  },
  {
   "cell_type": "code",
   "execution_count": null,
   "id": "17495ab8",
   "metadata": {
    "slideshow": {
     "slide_type": "slide"
    }
   },
   "outputs": [],
   "source": [
    "a = np.ones(3, dtype=np.int32)    # Matriz de entradas enteras\n",
    "a "
   ]
  },
  {
   "cell_type": "code",
   "execution_count": null,
   "id": "d268c224",
   "metadata": {
    "slideshow": {
     "slide_type": "slide"
    }
   },
   "outputs": [],
   "source": [
    "b = np.linspace(0, pi, 3)       # matriz de entradas tipo float \n",
    "b.dtype.name"
   ]
  },
  {
   "cell_type": "code",
   "execution_count": null,
   "id": "a5b14c5a",
   "metadata": {
    "slideshow": {
     "slide_type": "slide"
    }
   },
   "outputs": [],
   "source": [
    "c = a + b\n",
    "c"
   ]
  },
  {
   "cell_type": "code",
   "execution_count": null,
   "id": "4cc38e9d",
   "metadata": {
    "slideshow": {
     "slide_type": "slide"
    }
   },
   "outputs": [],
   "source": [
    "c.dtype.name"
   ]
  },
  {
   "cell_type": "code",
   "execution_count": null,
   "id": "67f936da",
   "metadata": {
    "slideshow": {
     "slide_type": "slide"
    }
   },
   "outputs": [],
   "source": [
    "d = np.exp(c * 1j)\n",
    "d"
   ]
  },
  {
   "cell_type": "code",
   "execution_count": null,
   "id": "1be0d800",
   "metadata": {
    "slideshow": {
     "slide_type": "slide"
    }
   },
   "outputs": [],
   "source": [
    "d.dtype.name\n"
   ]
  },
  {
   "cell_type": "markdown",
   "id": "debe452d",
   "metadata": {
    "slideshow": {
     "slide_type": "slide"
    }
   },
   "source": [
    "Muchas operaciones unarias, como calcular la suma de todos los elementos de la matriz, se implementan como métodos de la clase .ndarray"
   ]
  },
  {
   "cell_type": "code",
   "execution_count": null,
   "id": "90b18359",
   "metadata": {
    "slideshow": {
     "slide_type": "slide"
    }
   },
   "outputs": [],
   "source": [
    "a = np.random.rand(2, 3)\n",
    "a"
   ]
  },
  {
   "cell_type": "code",
   "execution_count": null,
   "id": "cf475322",
   "metadata": {
    "slideshow": {
     "slide_type": "slide"
    }
   },
   "outputs": [],
   "source": [
    "a.sum()"
   ]
  },
  {
   "cell_type": "code",
   "execution_count": null,
   "id": "d7a831c7",
   "metadata": {
    "slideshow": {
     "slide_type": "slide"
    }
   },
   "outputs": [],
   "source": [
    "a.min()"
   ]
  },
  {
   "cell_type": "code",
   "execution_count": null,
   "id": "a391d90a",
   "metadata": {
    "slideshow": {
     "slide_type": "slide"
    }
   },
   "outputs": [],
   "source": [
    "a.max()\n"
   ]
  },
  {
   "cell_type": "markdown",
   "id": "5d8a0326",
   "metadata": {
    "slideshow": {
     "slide_type": "slide"
    }
   },
   "source": [
    "De forma predeterminada, estas operaciones se aplican a la matriz como si fuera una lista de números, independientemente de su forma. "
   ]
  },
  {
   "cell_type": "markdown",
   "id": "99b86777",
   "metadata": {
    "slideshow": {
     "slide_type": "slide"
    }
   },
   "source": [
    "Sin embargo, al especificar el parámetro, puede aplicar una operación a lo largo del eje especificado de una matriz:axis"
   ]
  },
  {
   "cell_type": "code",
   "execution_count": null,
   "id": "6356da20",
   "metadata": {
    "slideshow": {
     "slide_type": "slide"
    }
   },
   "outputs": [],
   "source": [
    "b = np.arange(12).reshape(3, 4)\n",
    "b"
   ]
  },
  {
   "cell_type": "code",
   "execution_count": null,
   "id": "6a6a46bd",
   "metadata": {
    "slideshow": {
     "slide_type": "slide"
    }
   },
   "outputs": [],
   "source": [
    "b.sum(axis=0)     # sum of each column"
   ]
  },
  {
   "cell_type": "code",
   "execution_count": null,
   "id": "3a1c4fbf",
   "metadata": {
    "slideshow": {
     "slide_type": "slide"
    }
   },
   "outputs": [],
   "source": [
    "b.min(axis=1)     # min of each row"
   ]
  },
  {
   "cell_type": "markdown",
   "id": "64bed2e2",
   "metadata": {
    "slideshow": {
     "slide_type": "slide"
    }
   },
   "source": [
    "## Funciones universales"
   ]
  },
  {
   "cell_type": "markdown",
   "id": "215d1900",
   "metadata": {
    "slideshow": {
     "slide_type": "slide"
    }
   },
   "source": [
    "NumPy proporciona funciones matemáticas familiares como sin, cos y exp. "
   ]
  },
  {
   "cell_type": "markdown",
   "id": "7db63c85",
   "metadata": {
    "slideshow": {
     "slide_type": "slide"
    }
   },
   "source": [
    "En NumPy, estas se llaman \"funciones universales\" (). "
   ]
  },
  {
   "cell_type": "markdown",
   "id": "fde846c5",
   "metadata": {
    "slideshow": {
     "slide_type": "slide"
    }
   },
   "source": [
    "Dentro de NumPy, estas funciones operan elementalmente en una matriz, produciendo una matriz como salida."
   ]
  },
  {
   "cell_type": "code",
   "execution_count": null,
   "id": "af5e14a1",
   "metadata": {
    "slideshow": {
     "slide_type": "slide"
    }
   },
   "outputs": [],
   "source": [
    "B = np.arange(3)\n",
    "B"
   ]
  },
  {
   "cell_type": "code",
   "execution_count": null,
   "id": "ebf7a2bc",
   "metadata": {
    "slideshow": {
     "slide_type": "slide"
    }
   },
   "outputs": [],
   "source": [
    "np.exp(B)"
   ]
  },
  {
   "cell_type": "code",
   "execution_count": null,
   "id": "392f083d",
   "metadata": {
    "slideshow": {
     "slide_type": "slide"
    }
   },
   "outputs": [],
   "source": [
    "np.sqrt(B)"
   ]
  },
  {
   "cell_type": "code",
   "execution_count": null,
   "id": "478d380b",
   "metadata": {
    "slideshow": {
     "slide_type": "slide"
    }
   },
   "outputs": [],
   "source": [
    "C = np.array([2., -1., 4.])\n",
    "np.add(B, C)                # calcula B+C\n"
   ]
  },
  {
   "cell_type": "markdown",
   "id": "e6804955",
   "metadata": {
    "slideshow": {
     "slide_type": "slide"
    }
   },
   "source": [
    "## Tarea"
   ]
  },
  {
   "cell_type": "markdown",
   "id": "66c906ad",
   "metadata": {
    "slideshow": {
     "slide_type": "slide"
    }
   },
   "source": [
    "consulte sobre el uso de las funciones:\n",
    "\n",
    "* all, \n",
    "* any, \n",
    "* apply_along_axis, \n",
    "* argmax, \n",
    "* argmin, \n",
    "* argsort, \n",
    "* average, \n",
    "* bincount, \n",
    "* ceil, \n",
    "* clip, \n",
    "* conj, \n",
    "* corrcoef, \n",
    "* cov, \n",
    "* cross, \n",
    "* cumprod, cumsum, diff, dot, floor, inner, invert, lexsort, max, maximum, mean, median, min, minimum, nonzero, outer, prod, re, round, sort, std, sum, trace, transpose, var, vdot, vectorize, where"
   ]
  },
  {
   "cell_type": "markdown",
   "id": "500a81c4",
   "metadata": {
    "slideshow": {
     "slide_type": "slide"
    }
   },
   "source": [
    "## Indexación, segmentación e iteración"
   ]
  },
  {
   "cell_type": "markdown",
   "id": "cfb4a570",
   "metadata": {
    "slideshow": {
     "slide_type": "slide"
    }
   },
   "source": [
    "Las matrices unidimensionales se pueden indexar, dividir e iterar, al igual que las listas y otras secuencias de Python."
   ]
  },
  {
   "cell_type": "code",
   "execution_count": null,
   "id": "f13511d6",
   "metadata": {
    "slideshow": {
     "slide_type": "slide"
    }
   },
   "outputs": [],
   "source": [
    "a = np.arange(10)**3\n",
    "a"
   ]
  },
  {
   "cell_type": "code",
   "execution_count": null,
   "id": "b10cbebb",
   "metadata": {
    "slideshow": {
     "slide_type": "slide"
    }
   },
   "outputs": [],
   "source": [
    "a[2]"
   ]
  },
  {
   "cell_type": "code",
   "execution_count": null,
   "id": "ec505f22",
   "metadata": {
    "slideshow": {
     "slide_type": "slide"
    }
   },
   "outputs": [],
   "source": [
    "a[2:5]"
   ]
  },
  {
   "cell_type": "code",
   "execution_count": null,
   "id": "0ca6f4d4",
   "metadata": {
    "slideshow": {
     "slide_type": "slide"
    }
   },
   "outputs": [],
   "source": [
    "# equivalent to a[0:6:2] = 1000;\n",
    "# from start to position 6, exclusive, set every 2nd element to 1000\n",
    "a[:6:2] = 1000\n",
    "a"
   ]
  },
  {
   "cell_type": "code",
   "execution_count": null,
   "id": "cc7f97b0",
   "metadata": {
    "slideshow": {
     "slide_type": "slide"
    }
   },
   "outputs": [],
   "source": [
    "a[::-1]  # reversed a"
   ]
  },
  {
   "cell_type": "code",
   "execution_count": null,
   "id": "ae8204ba",
   "metadata": {
    "slideshow": {
     "slide_type": "slide"
    }
   },
   "outputs": [],
   "source": [
    "for i in a:\n",
    "    print(i**(1 / 3.))\n",
    "\n"
   ]
  },
  {
   "cell_type": "markdown",
   "id": "069e4cfa",
   "metadata": {
    "slideshow": {
     "slide_type": "slide"
    }
   },
   "source": [
    "Las matrices multidimensionales pueden tener un índice por eje. Estos índices se dan en una tupla separada por comas:"
   ]
  },
  {
   "cell_type": "code",
   "execution_count": null,
   "id": "83ba005c",
   "metadata": {
    "slideshow": {
     "slide_type": "slide"
    }
   },
   "outputs": [],
   "source": [
    "def f(x, y):\n",
    "    return 10 * x + y"
   ]
  },
  {
   "cell_type": "code",
   "execution_count": null,
   "id": "38e1761e",
   "metadata": {
    "slideshow": {
     "slide_type": "slide"
    }
   },
   "outputs": [],
   "source": [
    "b = np.fromfunction(f, (5, 4), dtype=int)\n",
    "b"
   ]
  },
  {
   "cell_type": "code",
   "execution_count": null,
   "id": "c7f70161",
   "metadata": {
    "slideshow": {
     "slide_type": "slide"
    }
   },
   "outputs": [],
   "source": [
    "b[2, 3]   # elemento de la posición (2,3); es decir, tercera fila cuarta columna. "
   ]
  },
  {
   "cell_type": "code",
   "execution_count": null,
   "id": "35853f3f",
   "metadata": {
    "slideshow": {
     "slide_type": "slide"
    }
   },
   "outputs": [],
   "source": [
    "b[0:5, 1]          # los elementos de la segunda columna de b"
   ]
  },
  {
   "cell_type": "code",
   "execution_count": null,
   "id": "721c03ba",
   "metadata": {
    "slideshow": {
     "slide_type": "slide"
    }
   },
   "outputs": [],
   "source": [
    "b[:, 1]    # equivalent to the previous example"
   ]
  },
  {
   "cell_type": "code",
   "execution_count": null,
   "id": "eb6e4fa9",
   "metadata": {
    "slideshow": {
     "slide_type": "slide"
    }
   },
   "outputs": [],
   "source": [
    "b[1:3, :]         # each column in the second and third row of b"
   ]
  },
  {
   "cell_type": "markdown",
   "id": "23309ee2",
   "metadata": {
    "slideshow": {
     "slide_type": "slide"
    }
   },
   "source": [
    "Cuando se proporcionan menos índices que el número de ejes, los índices que faltan se consideran segmentos completos:"
   ]
  },
  {
   "cell_type": "code",
   "execution_count": null,
   "id": "9f0a6196",
   "metadata": {
    "slideshow": {
     "slide_type": "slide"
    }
   },
   "outputs": [],
   "source": [
    "b[-1]     # the last row. Equivalent to b[-1, :]\n"
   ]
  },
  {
   "cell_type": "markdown",
   "id": "ff82e653",
   "metadata": {
    "slideshow": {
     "slide_type": "slide"
    }
   },
   "source": [
    "La expresión entre corchetes en `b[i]` se trata como una seguida de tantas instancias de como sea necesario para representar los ejes restantes. NumPy también le permite escribir esto usando puntos como `b[i, ...]`"
   ]
  },
  {
   "cell_type": "markdown",
   "id": "8f1ab70a",
   "metadata": {
    "slideshow": {
     "slide_type": "slide"
    }
   },
   "source": [
    "La  puntos `(...)` representan tantos dos puntos como sea necesario para producir una tupla de indexación completa. "
   ]
  },
  {
   "cell_type": "markdown",
   "id": "cb417018",
   "metadata": {
    "slideshow": {
     "slide_type": "slide"
    }
   },
   "source": [
    "Por ejemplo, si es una matriz con 5 ejes, entonces\n",
    "\n",
    "* `x[1, 2, ...]` es equivalente a , `x[1, 2, :, :, :]`\n",
    "\n",
    "* `x[..., 3]` a `x[:, :, :, :, 3]`\n",
    "\n",
    "* `x[4, ..., 5, :]` para `x[4, :, :, 5, :]`"
   ]
  },
  {
   "cell_type": "code",
   "execution_count": null,
   "id": "762b4000",
   "metadata": {
    "slideshow": {
     "slide_type": "slide"
    }
   },
   "outputs": [],
   "source": []
  },
  {
   "cell_type": "code",
   "execution_count": null,
   "id": "b753fc85",
   "metadata": {
    "slideshow": {
     "slide_type": "slide"
    }
   },
   "outputs": [],
   "source": []
  },
  {
   "cell_type": "code",
   "execution_count": null,
   "id": "f3ac611f",
   "metadata": {
    "slideshow": {
     "slide_type": "slide"
    }
   },
   "outputs": [],
   "source": []
  },
  {
   "cell_type": "code",
   "execution_count": null,
   "id": "cee679a8",
   "metadata": {},
   "outputs": [],
   "source": []
  },
  {
   "cell_type": "code",
   "execution_count": null,
   "id": "5dfdbfde",
   "metadata": {
    "slideshow": {
     "slide_type": "slide"
    }
   },
   "outputs": [],
   "source": []
  },
  {
   "cell_type": "code",
   "execution_count": null,
   "id": "fc7b1c98",
   "metadata": {
    "slideshow": {
     "slide_type": "slide"
    }
   },
   "outputs": [],
   "source": []
  },
  {
   "cell_type": "markdown",
   "id": "c3a8e27f",
   "metadata": {
    "slideshow": {
     "slide_type": "slide"
    }
   },
   "source": [
    "## Referentes  \n",
    "\n",
    "* Tutorial de Python: https://docs.python.org/3.8/tutorial/index.html \n",
    "\n",
    "* Guía del usuario de Numpy: https://numpy.org/doc/stable/user/index.html\n",
    "* La función `.append()`:  Sirve la padicionar elementos en una lista de Python. "
   ]
  },
  {
   "cell_type": "code",
   "execution_count": null,
   "id": "ce8ccab9",
   "metadata": {},
   "outputs": [],
   "source": [
    "g = []"
   ]
  },
  {
   "cell_type": "code",
   "execution_count": null,
   "id": "d21ebf6a",
   "metadata": {},
   "outputs": [],
   "source": [
    "g.append(5) \n"
   ]
  },
  {
   "cell_type": "code",
   "execution_count": null,
   "id": "2cb73a00",
   "metadata": {},
   "outputs": [],
   "source": [
    "g"
   ]
  },
  {
   "cell_type": "code",
   "execution_count": null,
   "id": "80096982",
   "metadata": {},
   "outputs": [],
   "source": []
  }
 ],
 "metadata": {
  "celltoolbar": "Slideshow",
  "kernelspec": {
   "display_name": "Python 3",
   "language": "python",
   "name": "python3"
  },
  "language_info": {
   "codemirror_mode": {
    "name": "ipython",
    "version": 3
   },
   "file_extension": ".py",
   "mimetype": "text/x-python",
   "name": "python",
   "nbconvert_exporter": "python",
   "pygments_lexer": "ipython3",
   "version": "3.8.8"
  },
  "latex_envs": {
   "LaTeX_envs_menu_present": true,
   "autoclose": false,
   "autocomplete": false,
   "bibliofile": "biblio.bib",
   "cite_by": "apalike",
   "current_citInitial": 1,
   "eqLabelWithNumbers": true,
   "eqNumInitial": 1,
   "hotkeys": {
    "equation": "Ctrl-E",
    "itemize": "Ctrl-I"
   },
   "labels_anchors": false,
   "latex_user_defs": false,
   "report_style_numbering": false,
   "user_envs_cfg": false
  },
  "rise": {
   "enable_chalkboard": true,
   "theme": "sky",
   "transition": "zoom"
  }
 },
 "nbformat": 4,
 "nbformat_minor": 5
}
