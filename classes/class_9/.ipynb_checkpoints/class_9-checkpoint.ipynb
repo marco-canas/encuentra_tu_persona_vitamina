{
 "cells": [
  {
   "cell_type": "markdown",
   "id": "d01deaae",
   "metadata": {},
   "source": []
  },
  {
   "cell_type": "markdown",
   "id": "bc037a32",
   "metadata": {},
   "source": [
    "# Clase 9 Intyroducción al Machine Learning: 19 de Enero de 2022"
   ]
  },
  {
   "cell_type": "markdown",
   "id": "38a17738",
   "metadata": {},
   "source": [
    "## Participación aleatoria de los estudiantes en clase"
   ]
  },
  {
   "cell_type": "code",
   "execution_count": 9,
   "id": "c4224096",
   "metadata": {},
   "outputs": [],
   "source": [
    "def estudiante_participar():\n",
    "    import numpy as np \n",
    "    import pandas as pd \n",
    "\n",
    "    grupo_intro_ml = pd.read_csv('grupo_intro_ml.csv', sep = ',')\n",
    "\n",
    "    from random import randint, choice\n",
    "\n",
    "    np.random.seed(513) \n",
    "    return choice(grupo_intro_ml.nombre)\n",
    "\n",
    "# grupo_intro_ml.head() "
   ]
  },
  {
   "cell_type": "code",
   "execution_count": 11,
   "id": "a1ae733b",
   "metadata": {},
   "outputs": [
    {
     "data": {
      "text/plain": [
       "'CORRALES BOHÓRQUEZ ANGEL '"
      ]
     },
     "execution_count": 11,
     "metadata": {},
     "output_type": "execute_result"
    }
   ],
   "source": [
    "estudiante_participar() "
   ]
  },
  {
   "cell_type": "markdown",
   "id": "e33f14c4",
   "metadata": {},
   "source": [
    "# [Numpy user guide](https://numpy.org/doc/stable/user/index.html)"
   ]
  },
  {
   "cell_type": "code",
   "execution_count": 13,
   "id": "1728a379",
   "metadata": {},
   "outputs": [
    {
     "name": "stdout",
     "output_type": "stream",
     "text": [
      "Wall time: 0 ns\n"
     ]
    }
   ],
   "source": [
    "%%time\n",
    "n = 10\n",
    "a = list(np.arange(n))\n",
    "b = a\n",
    "c = []\n",
    "for i in range(len(a)):\n",
    "    c.append(a[i]*b[i])"
   ]
  },
  {
   "cell_type": "code",
   "execution_count": null,
   "id": "3435abfc",
   "metadata": {},
   "outputs": [],
   "source": []
  },
  {
   "cell_type": "code",
   "execution_count": null,
   "id": "8607eeba",
   "metadata": {},
   "outputs": [],
   "source": []
  },
  {
   "cell_type": "markdown",
   "id": "494db845",
   "metadata": {},
   "source": [
    "## Referentes  \n",
    "\n",
    "* Guía del usuario de Numpy: https://numpy.org/doc/stable/user/index.html"
   ]
  },
  {
   "cell_type": "code",
   "execution_count": null,
   "id": "d979e44f",
   "metadata": {},
   "outputs": [],
   "source": []
  }
 ],
 "metadata": {
  "kernelspec": {
   "display_name": "Python 3",
   "language": "python",
   "name": "python3"
  },
  "language_info": {
   "codemirror_mode": {
    "name": "ipython",
    "version": 3
   },
   "file_extension": ".py",
   "mimetype": "text/x-python",
   "name": "python",
   "nbconvert_exporter": "python",
   "pygments_lexer": "ipython3",
   "version": "3.8.8"
  },
  "latex_envs": {
   "LaTeX_envs_menu_present": true,
   "autoclose": false,
   "autocomplete": false,
   "bibliofile": "biblio.bib",
   "cite_by": "apalike",
   "current_citInitial": 1,
   "eqLabelWithNumbers": true,
   "eqNumInitial": 1,
   "hotkeys": {
    "equation": "Ctrl-E",
    "itemize": "Ctrl-I"
   },
   "labels_anchors": false,
   "latex_user_defs": false,
   "report_style_numbering": false,
   "user_envs_cfg": false
  }
 },
 "nbformat": 4,
 "nbformat_minor": 5
}
