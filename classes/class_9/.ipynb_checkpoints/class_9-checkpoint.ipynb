{
 "cells": [
  {
   "cell_type": "markdown",
   "id": "7b10aaf1",
   "metadata": {
    "slideshow": {
     "slide_type": "slide"
    }
   },
   "source": [
    "<table align=\"left\">\n",
    "  <td>\n",
    "    <a href=\"https://colab.research.google.com/github/marco-canas/introducci-n-al-Machine-Learning/blob/main/classes/class_9/class_9.ipynb\" target=\"_parent\"><img src=\"https://colab.research.google.com/assets/colab-badge.svg\" alt=\"Open In Colab\"/></a>\n",
    "  </td>\n",
    "  <td>\n",
    "    <a target=\"_blank\" href=\"https://kaggle.com/kernels/welcome?src=https://github.com/marco-canas/introducci-n-al-Machine-Learning/blob/main/classes/class_9/class_9.ipynb\"><img src=\"https://kaggle.com/static/images/open-in-kaggle.svg\" /></a>\n",
    "  </td>\n",
    "</table> "
   ]
  },
  {
   "cell_type": "markdown",
   "id": "a06360de",
   "metadata": {
    "slideshow": {
     "slide_type": "slide"
    }
   },
   "source": [
    "# Clase 9 Introducción al Machine Learning: 19 de Enero de 2022"
   ]
  },
  {
   "cell_type": "markdown",
   "id": "b410a088",
   "metadata": {
    "slideshow": {
     "slide_type": "slide"
    }
   },
   "source": [
    "## Participación aleatoria de los estudiantes en clase"
   ]
  },
  {
   "cell_type": "code",
   "execution_count": 9,
   "id": "4bef7e32",
   "metadata": {
    "slideshow": {
     "slide_type": "slide"
    }
   },
   "outputs": [],
   "source": [
    "def estudiante_participar():\n",
    "    import numpy as np \n",
    "    import pandas as pd \n",
    "\n",
    "    grupo_intro_ml = pd.read_csv('grupo_intro_ml.csv', sep = ',')\n",
    "\n",
    "    from random import randint, choice\n",
    "\n",
    "    np.random.seed(513) \n",
    "    return choice(grupo_intro_ml.nombre)\n",
    "\n",
    "# grupo_intro_ml.head() "
   ]
  },
  {
   "cell_type": "code",
   "execution_count": 11,
   "id": "d7ec05bf",
   "metadata": {
    "slideshow": {
     "slide_type": "slide"
    }
   },
   "outputs": [
    {
     "data": {
      "text/plain": [
       "'CORRALES BOHÓRQUEZ ANGEL '"
      ]
     },
     "execution_count": 11,
     "metadata": {},
     "output_type": "execute_result"
    }
   ],
   "source": [
    "estudiante_participar() "
   ]
  },
  {
   "cell_type": "markdown",
   "id": "8669b8de",
   "metadata": {
    "slideshow": {
     "slide_type": "slide"
    }
   },
   "source": [
    "# [Numpy user guide](https://numpy.org/doc/stable/user/index.html)"
   ]
  },
  {
   "cell_type": "code",
   "execution_count": 14,
   "id": "00b9149e",
   "metadata": {
    "slideshow": {
     "slide_type": "slide"
    }
   },
   "outputs": [
    {
     "name": "stdout",
     "output_type": "stream",
     "text": [
      "Wall time: 0 ns\n"
     ]
    }
   ],
   "source": [
    "%%time\n",
    "n = 10\n",
    "a = list(range(n))\n",
    "b = a\n",
    "c = []\n",
    "for i in range(len(a)):\n",
    "    c.append(a[i]*b[i])"
   ]
  },
  {
   "cell_type": "code",
   "execution_count": 15,
   "id": "214cb881",
   "metadata": {
    "slideshow": {
     "slide_type": "slide"
    }
   },
   "outputs": [
    {
     "name": "stdout",
     "output_type": "stream",
     "text": [
      "Wall time: 4.01 ms\n"
     ]
    }
   ],
   "source": [
    "%%time\n",
    "n = 10\n",
    "a = np.arange(n)\n",
    "b = a\n",
    "c = a*b"
   ]
  },
  {
   "cell_type": "markdown",
   "id": "2b6ba708",
   "metadata": {
    "slideshow": {
     "slide_type": "slide"
    }
   },
   "source": [
    "## ¿Por qué NumPy es rápido?"
   ]
  },
  {
   "cell_type": "markdown",
   "id": "c6068029",
   "metadata": {
    "slideshow": {
     "slide_type": "slide"
    }
   },
   "source": [
    "La vectorización describe la ausencia de bucles explícitos e indexación en el código: estas cosas están teniendo lugar, por supuesto, solo \"detrás de escena\" en código C optimizado y precompilado. "
   ]
  },
  {
   "cell_type": "markdown",
   "id": "ee9ad5f2",
   "metadata": {
    "slideshow": {
     "slide_type": "slide"
    }
   },
   "source": [
    "El código vectorizado tiene muchas ventajas, entre las que se encuentran:\n",
    "\n",
    "* el código vectorizado es más conciso y más fácil de leer\n",
    "\n",
    "* menos líneas de código generalmente significa menos errores\n",
    "\n",
    "* el código se asemeja más a la notación matemática estándar (lo que facilita, normalmente, codificar correctamente las construcciones matemáticas)"
   ]
  },
  {
   "cell_type": "markdown",
   "id": "04db06df",
   "metadata": {
    "slideshow": {
     "slide_type": "slide"
    }
   },
   "source": [
    "Sin vectorización, nuestro código estaría lleno de bucles `for` ineficientes y difíciles de leer."
   ]
  },
  {
   "cell_type": "code",
   "execution_count": 16,
   "id": "093e129a",
   "metadata": {
    "slideshow": {
     "slide_type": "slide"
    }
   },
   "outputs": [],
   "source": [
    "a = np.array([[1., 0., 0.],\n",
    " [0., 1., 2.]])"
   ]
  },
  {
   "cell_type": "code",
   "execution_count": 17,
   "id": "434d2d37",
   "metadata": {
    "slideshow": {
     "slide_type": "slide"
    }
   },
   "outputs": [
    {
     "data": {
      "text/plain": [
       "array([[1., 0., 0.],\n",
       "       [0., 1., 2.]])"
      ]
     },
     "execution_count": 17,
     "metadata": {},
     "output_type": "execute_result"
    }
   ],
   "source": [
    "a "
   ]
  },
  {
   "cell_type": "code",
   "execution_count": 19,
   "id": "d14ca039",
   "metadata": {
    "slideshow": {
     "slide_type": "slide"
    }
   },
   "outputs": [
    {
     "data": {
      "text/plain": [
       "2"
      ]
     },
     "execution_count": 19,
     "metadata": {},
     "output_type": "execute_result"
    }
   ],
   "source": [
    "a.ndim     # el número de ejes (dimensiones) de la matriz."
   ]
  },
  {
   "cell_type": "code",
   "execution_count": null,
   "id": "6c17c6b5",
   "metadata": {
    "slideshow": {
     "slide_type": "slide"
    }
   },
   "outputs": [],
   "source": []
  },
  {
   "cell_type": "code",
   "execution_count": null,
   "id": "01bc71dc",
   "metadata": {
    "slideshow": {
     "slide_type": "slide"
    }
   },
   "outputs": [],
   "source": []
  },
  {
   "cell_type": "code",
   "execution_count": null,
   "id": "28c25d4f",
   "metadata": {
    "slideshow": {
     "slide_type": "slide"
    }
   },
   "outputs": [],
   "source": []
  },
  {
   "cell_type": "code",
   "execution_count": null,
   "id": "093e8951",
   "metadata": {
    "slideshow": {
     "slide_type": "slide"
    }
   },
   "outputs": [],
   "source": []
  },
  {
   "cell_type": "code",
   "execution_count": null,
   "id": "8087597f",
   "metadata": {},
   "outputs": [],
   "source": []
  },
  {
   "cell_type": "code",
   "execution_count": null,
   "id": "3013174e",
   "metadata": {
    "slideshow": {
     "slide_type": "slide"
    }
   },
   "outputs": [],
   "source": []
  },
  {
   "cell_type": "code",
   "execution_count": null,
   "id": "266fe78b",
   "metadata": {
    "slideshow": {
     "slide_type": "slide"
    }
   },
   "outputs": [],
   "source": []
  },
  {
   "cell_type": "markdown",
   "id": "dab5774d",
   "metadata": {
    "slideshow": {
     "slide_type": "slide"
    }
   },
   "source": [
    "## Referentes  \n",
    "\n",
    "* Guía del usuario de Numpy: https://numpy.org/doc/stable/user/index.html"
   ]
  },
  {
   "cell_type": "code",
   "execution_count": null,
   "id": "90a59e28",
   "metadata": {},
   "outputs": [],
   "source": []
  }
 ],
 "metadata": {
  "celltoolbar": "Slideshow",
  "kernelspec": {
   "display_name": "Python 3",
   "language": "python",
   "name": "python3"
  },
  "language_info": {
   "codemirror_mode": {
    "name": "ipython",
    "version": 3
   },
   "file_extension": ".py",
   "mimetype": "text/x-python",
   "name": "python",
   "nbconvert_exporter": "python",
   "pygments_lexer": "ipython3",
   "version": "3.8.8"
  },
  "latex_envs": {
   "LaTeX_envs_menu_present": true,
   "autoclose": false,
   "autocomplete": false,
   "bibliofile": "biblio.bib",
   "cite_by": "apalike",
   "current_citInitial": 1,
   "eqLabelWithNumbers": true,
   "eqNumInitial": 1,
   "hotkeys": {
    "equation": "Ctrl-E",
    "itemize": "Ctrl-I"
   },
   "labels_anchors": false,
   "latex_user_defs": false,
   "report_style_numbering": false,
   "user_envs_cfg": false
  }
 },
 "nbformat": 4,
 "nbformat_minor": 5
}
