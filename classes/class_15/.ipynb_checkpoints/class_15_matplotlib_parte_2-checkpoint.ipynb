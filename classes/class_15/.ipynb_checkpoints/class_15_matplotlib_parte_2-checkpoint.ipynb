{
 "cells": [
  {
   "cell_type": "markdown",
   "id": "91993f2a",
   "metadata": {
    "slideshow": {
     "slide_type": "slide"
    }
   },
   "source": [
    "<table align=\"left\">\n",
    "  <td>\n",
    "    <a href=\"https://colab.research.google.com/github/marco-canas/introducci-n-al-Machine-Learning/blob/main/classes/class_14/class_14.ipynb\" target=\"_parent\"><img src=\"https://colab.research.google.com/assets/colab-badge.svg\" alt=\"Open In Colab\"/></a>\n",
    "  </td>\n",
    "  <td>\n",
    "    <a target=\"_blank\" href=\"https://kaggle.com/kernels/welcome?src=https://github.com/marco-canas/introducci-n-al-Machine-Learning/blob/main/classes/class_14/class_14.ipynb\"><img src=\"https://kaggle.com/static/images/open-in-kaggle.svg\" /></a>\n",
    "  </td>\n",
    "</table> "
   ]
  },
  {
   "cell_type": "markdown",
   "id": "9664f5dd",
   "metadata": {
    "slideshow": {
     "slide_type": "slide"
    }
   },
   "source": [
    "# Clase 15 Matplotlib Parte 2"
   ]
  },
  {
   "cell_type": "markdown",
   "id": "436a5bee",
   "metadata": {
    "slideshow": {
     "slide_type": "slide"
    }
   },
   "source": [
    "quiz 2: 11 de febrero. Tema: python, numpy y Pandas  \n",
    "Parcial 1: 23 de febrero. Tema: python, numpy,, pandas y matplotlib. "
   ]
  },
  {
   "cell_type": "markdown",
   "id": "e34d5e2d",
   "metadata": {
    "slideshow": {
     "slide_type": "slide"
    }
   },
   "source": [
    "# Asignar ejercicios sin repetición"
   ]
  },
  {
   "cell_type": "code",
   "execution_count": 21,
   "id": "18f800e3",
   "metadata": {
    "slideshow": {
     "slide_type": "slide"
    }
   },
   "outputs": [
    {
     "data": {
      "text/plain": [
       "Index(['Nombre,Email'], dtype='object')"
      ]
     },
     "execution_count": 21,
     "metadata": {},
     "output_type": "execute_result"
    }
   ],
   "source": [
    "import numpy as np \n",
    "import pandas as pd \n",
    "\n",
    "grupo_intro_ml = pd.read_csv('grupo_intro_ml.csv', sep = '\\t')\n",
    "grupo_intro_ml.keys() "
   ]
  },
  {
   "cell_type": "code",
   "execution_count": 22,
   "id": "42da8fab",
   "metadata": {
    "slideshow": {
     "slide_type": "slide"
    }
   },
   "outputs": [
    {
     "data": {
      "text/plain": [
       "ALVAREZ CARRERO GERMAN JOSE                [5]\n",
       "ARANGO JARAMILLO JUAN JOSE                [16]\n",
       "BOLIVAR HIGUITA JUAN PABLO                 [9]\n",
       "BUITRAGO LORA VANESSA                      [4]\n",
       "CORRALES BOHÓRQUEZ ANGEL                   [7]\n",
       "GALLEGO JARAMILLO JUAN PABLO              [13]\n",
       "GRANADA ZAPATA SUSANA                      [8]\n",
       "HERNANDEZ SUAREZ NICOLAS                  [14]\n",
       "JIMÉNEZ GARCÍA MIGUEL ÁNGEL                [3]\n",
       "MARTINEZ PÉREZ PEDRO ALEJANDRO             [6]\n",
       "MONTOYA GONZÁLEZ PABLO ANDRÉS             [11]\n",
       "MORALES GARCÍA MANUELA                    [12]\n",
       "MOSQUERA PEREA JESÚS JHOVANNY              [2]\n",
       "MURILLO ZAPATA MIGUEL ANGEL               [15]\n",
       "RODRIGUEZ BARRIOS DAIRA LORENA             [1]\n",
       "TORRES MERIÑO JOSE LUIS CAMILO            [10]\n",
       "dtype: object"
      ]
     },
     "execution_count": 22,
     "metadata": {},
     "output_type": "execute_result"
    }
   ],
   "source": [
    "import numpy as np \n",
    "import pandas as pd \n",
    "\n",
    "grupo_intro_ml = pd.read_csv('grupo_intro_ml.csv')\n",
    "\n",
    "n = 16   # número de ejercicios a repartir \n",
    "\n",
    "lista_ejercicios = list(range(1,n+1))\n",
    "\n",
    "n_ejercicios_asignar = 1\n",
    "\n",
    "np.random.seed(513)\n",
    "\n",
    "def elegir_ejercicios_diferentes(lista_ejercicios):\n",
    "    ejercicios_asignados = []\n",
    "    for i in range(n_ejercicios_asignar):\n",
    "        a = np.random.choice(lista_ejercicios)\n",
    "        ejercicios_asignados.append(a)\n",
    "        lista_ejercicios.remove(a)\n",
    "    return (lista_ejercicios, ejercicios_asignados)   \n",
    "\n",
    "\n",
    "b = []\n",
    "n_estudiantes = len(grupo_intro_ml) \n",
    "for i in range(n_estudiantes):\n",
    "    lista_ejercicios, c = elegir_ejercicios_diferentes(lista_ejercicios)\n",
    "    b.append(c)\n",
    "    \n",
    "    \n",
    "taller_matplotlib = pd.Series( b, index = grupo_intro_ml.Nombre.values )\n",
    " \n",
    "taller_matplotlib    "
   ]
  },
  {
   "cell_type": "markdown",
   "id": "740dcc60",
   "metadata": {
    "slideshow": {
     "slide_type": "slide"
    }
   },
   "source": [
    "## Contenido"
   ]
  },
  {
   "cell_type": "markdown",
   "id": "1b3719fd",
   "metadata": {
    "slideshow": {
     "slide_type": "slide"
    }
   },
   "source": [
    "1.  Construcción de cuadrículas de gráficos  \n",
    "2.  Incluir texto en el gráfico\n",
    "3.  Legendas\n",
    "4.  Escala lineal y escala logaritmica\n",
    "5.  Gráficos en el espacio"
   ]
  },
  {
   "cell_type": "markdown",
   "id": "2c7ffdaf",
   "metadata": {
    "slideshow": {
     "slide_type": "slide"
    }
   },
   "source": [
    "\n",
    "6.  Diagramas de dispersión  \n",
    "7.  Histogramas \n",
    "8.  Images\n",
    "9.  Animaciones con `from ipywidgets import interact`\n",
    "10.  Guardar las animaciones en archivos de video. \n"
   ]
  },
  {
   "cell_type": "code",
   "execution_count": null,
   "id": "1a64f2ca",
   "metadata": {
    "slideshow": {
     "slide_type": "slide"
    }
   },
   "outputs": [],
   "source": [
    "import matplotlib\n",
    "import pandas as pd "
   ]
  },
  {
   "cell_type": "code",
   "execution_count": null,
   "id": "4f8724c9",
   "metadata": {
    "scrolled": true,
    "slideshow": {
     "slide_type": "slide"
    }
   },
   "outputs": [],
   "source": [
    "valores  = [1,2,3,4,9,5,3]\n",
    "indices = list(range(len(valores))) \n",
    "\n",
    "tabla = pd.Series(valores)\n",
    "tabla "
   ]
  },
  {
   "cell_type": "markdown",
   "id": "89d80a31",
   "metadata": {
    "slideshow": {
     "slide_type": "slide"
    }
   },
   "source": [
    "Si a la función `plot` se le da solo una matriz de datos,   \n",
    "\n",
    "* la usará como las coordenadas en el eje vertical, y \n",
    "* solo usará el índice de cada punto de datos en la matriz como la coordenada horizontal"
   ]
  },
  {
   "cell_type": "code",
   "execution_count": null,
   "id": "375fdb78",
   "metadata": {
    "scrolled": false,
    "slideshow": {
     "slide_type": "slide"
    }
   },
   "outputs": [],
   "source": [
    "import matplotlib.pyplot as plt\n",
    "plt.plot( valores )\n",
    "plt.show()"
   ]
  },
  {
   "cell_type": "code",
   "execution_count": null,
   "id": "07bcd527",
   "metadata": {},
   "outputs": [],
   "source": [
    "import matplotlib.pyplot as plt\n",
    "plt.plot( indices, valores )\n",
    "plt.show()"
   ]
  },
  {
   "cell_type": "markdown",
   "id": "bc3cd16b",
   "metadata": {
    "slideshow": {
     "slide_type": "slide"
    }
   },
   "source": [
    "## `subplots`  "
   ]
  },
  {
   "cell_type": "markdown",
   "id": "2e4caa97",
   "metadata": {
    "slideshow": {
     "slide_type": "slide"
    }
   },
   "source": [
    "Una figura de `matplotlib` puede contener varios subgráficos. "
   ]
  },
  {
   "cell_type": "markdown",
   "id": "36829db2",
   "metadata": {
    "slideshow": {
     "slide_type": "slide"
    }
   },
   "source": [
    "Estos subgráficos están organizadas en una cuadrícula. "
   ]
  },
  {
   "cell_type": "markdown",
   "id": "922a4678",
   "metadata": {
    "slideshow": {
     "slide_type": "slide"
    }
   },
   "source": [
    "Para crear un subgráfico, simplemente llame a la función `subplot()` y especifique:\n",
    "\n",
    "* el número de filas y \n",
    "* columnas en la figura, y \n",
    "* el índice del subgráfico en la que desea dibujar (comenzando desde 1, luego de izquierda a derecha y de arriba a abajo). "
   ]
  },
  {
   "cell_type": "code",
   "execution_count": null,
   "id": "e2842085",
   "metadata": {
    "slideshow": {
     "slide_type": "slide"
    }
   },
   "outputs": [],
   "source": [
    "# Este código crea una cuadrícula de funciones matemáticas. \n",
    "import numpy as np \n",
    "import matplotlib.pyplot as plt \n",
    "\n",
    "\n",
    "x = np.linspace(-3,3, 10)\n",
    "\n",
    "plt.subplot(2, 2, 1)  # 2 rows, 2 columns, 1st subplot = top left\n",
    "plt.plot(x, x)\n",
    "\n",
    "plt.subplot(2, 2, 2)  # 2 rows, 2 columns, 2nd subplot = top right\n",
    "plt.plot(x, x**2)\n",
    "\n",
    "plt.subplot(2, 2, 3)  # 2 rows, 2 columns, 3rd subplot = bottow left\n",
    "plt.plot(x, x**3)\n",
    "\n",
    "plt.subplot(2, 2, 4)  # 2 rows, 2 columns, 4th subplot = bottom right\n",
    "plt.plot(x, x**4)\n",
    "\n",
    "plt.show()"
   ]
  },
  {
   "cell_type": "code",
   "execution_count": null,
   "id": "0877f2cb",
   "metadata": {
    "slideshow": {
     "slide_type": "slide"
    }
   },
   "outputs": [],
   "source": [
    "Tenga en cuenta que `subplot(223)` es una abreviatura de `subplot(2, 2, 3)`."
   ]
  },
  {
   "cell_type": "code",
   "execution_count": null,
   "id": "43cf91ab",
   "metadata": {
    "slideshow": {
     "slide_type": "slide"
    }
   },
   "outputs": [],
   "source": [
    "import numpy as np \n",
    "import matplotlib.pyplot as plt \n",
    "\n",
    "\n",
    "x = np.linspace(-3, 3, 30)\n",
    "\n",
    "plt.subplot(221)  # 2 rows, 2 columns, 1st subplot = top left\n",
    "plt.plot(x, x)\n",
    "\n",
    "plt.subplot(222)  # 2 rows, 2 columns, 2nd subplot = top right\n",
    "plt.plot(x, x**2)\n",
    "\n",
    "plt.subplot(223)  # 2 rows, 2 columns, 3rd subplot = bottow left\n",
    "plt.plot(x, x**3)\n",
    "\n",
    "plt.subplot(224)  # 2 rows, 2 columns, 4th subplot = bottom right\n",
    "plt.plot(x, x**4)\n",
    "\n",
    "plt.show()"
   ]
  },
  {
   "cell_type": "markdown",
   "id": "b2477296",
   "metadata": {
    "slideshow": {
     "slide_type": "slide"
    }
   },
   "source": [
    "# Subgráficos que abarque varias cuadrículas"
   ]
  },
  {
   "cell_type": "markdown",
   "id": "a8f3a3b9",
   "metadata": {
    "slideshow": {
     "slide_type": "slide"
    }
   },
   "source": [
    "* Si necesita un posicionamiento de subgráfico, \n",
    "* puede usar `subplot2grid`. "
   ]
  },
  {
   "cell_type": "markdown",
   "id": "8ea89b48",
   "metadata": {
    "slideshow": {
     "slide_type": "slide"
    }
   },
   "source": [
    "Usted especifica el número de filas y columnas en la cuadrícula, luego la posición de su subgráfico en esa cuadrícula (arriba a la izquierda = (0,0)) y, opcionalmente, cuántas filas y/o columnas abarca. "
   ]
  },
  {
   "cell_type": "markdown",
   "id": "37c0d954",
   "metadata": {
    "slideshow": {
     "slide_type": "slide"
    }
   },
   "source": [
    "Por ejemplo:"
   ]
  },
  {
   "cell_type": "code",
   "execution_count": null,
   "id": "cb64461a",
   "metadata": {
    "slideshow": {
     "slide_type": "slide"
    }
   },
   "outputs": [],
   "source": [
    "plt.subplot2grid((3,3), (0, 0), rowspan=2, colspan=2)\n",
    "plt.plot(x, x**2)\n",
    "\n",
    "plt.subplot2grid((3,3), (0, 2))\n",
    "plt.plot(x, x**3)\n",
    "\n",
    "plt.subplot2grid((3,3), (1, 2), rowspan=2)\n",
    "plt.plot(x, x**4)\n",
    "\n",
    "plt.subplot2grid((3,3), (2, 0), colspan=2)\n",
    "plt.plot(x, x**5)\n",
    "\n",
    "plt.show()"
   ]
  },
  {
   "cell_type": "markdown",
   "id": "3c264869",
   "metadata": {
    "slideshow": {
     "slide_type": "slide"
    }
   },
   "source": [
    "## Dibujar texto"
   ]
  },
  {
   "cell_type": "markdown",
   "id": "e814444f",
   "metadata": {
    "slideshow": {
     "slide_type": "slide"
    }
   },
   "source": [
    "Puede llamar a la función `.text()` para agregar texto en cualquier ubicación en el gráfico. "
   ]
  },
  {
   "cell_type": "markdown",
   "id": "9c025cb2",
   "metadata": {
    "slideshow": {
     "slide_type": "slide"
    }
   },
   "source": [
    "Simplemente especifique las coordenadas horizontales y verticales y el texto, y opcionalmente algunos atributos adicionales. "
   ]
  },
  {
   "cell_type": "markdown",
   "id": "32b42999",
   "metadata": {
    "slideshow": {
     "slide_type": "slide"
    }
   },
   "source": [
    "Cualquier texto en `matplotlib` puede contener expresiones en lenguaje LaTeX para las ecuaciones, consulte la documentación para obtener más detalles."
   ]
  },
  {
   "cell_type": "code",
   "execution_count": null,
   "id": "96d9e37d",
   "metadata": {
    "scrolled": true,
    "slideshow": {
     "slide_type": "slide"
    }
   },
   "outputs": [],
   "source": [
    "import numpy as np \n",
    "import matplotlib.pyplot as plt \n",
    "\n",
    "x = np.linspace(-1.5, 1.5, 30)\n",
    "px = 0.8\n",
    "py = px**2\n",
    "\n",
    "plt.plot(x, x**2, \"b-\", px, py, \"ro\")\n",
    "\n",
    "plt.text(0, 1.5, \"función cuadrática\\n $y = x^2$\", fontsize=20, color='blue')\n",
    "\n",
    "\n",
    "plt.show()"
   ]
  },
  {
   "cell_type": "code",
   "execution_count": null,
   "id": "63744b5a",
   "metadata": {
    "slideshow": {
     "slide_type": "slide"
    }
   },
   "outputs": [],
   "source": [
    "plt.text(px - 0.08, py, \"Beautiful point\", ha=\"right\", weight=\"heavy\")\n",
    "plt.text(px+0.1, py, \"x = %0.2f\\ny = %0.2f\"%(px, py), rotation=30, color='gray')"
   ]
  },
  {
   "cell_type": "markdown",
   "id": "72dc0e97",
   "metadata": {},
   "source": [
    "$y = x^{2}$"
   ]
  },
  {
   "cell_type": "markdown",
   "id": "9d83a4ea",
   "metadata": {},
   "source": [
    "$$ y = \\frac{-b \\pm \\sqrt{b^{2} - 4ac}}{2a}  $$"
   ]
  },
  {
   "cell_type": "markdown",
   "id": "5282a2a4",
   "metadata": {
    "slideshow": {
     "slide_type": "slide"
    }
   },
   "source": [
    "Nota: `ha` es un alias para `horizontalalignment`  \n",
    "Para obtener más propiedades de texto, visite [la documentación](https://matplotlib.org/2.0.2/users/text_props.html)."
   ]
  },
  {
   "cell_type": "markdown",
   "id": "987ddd73",
   "metadata": {
    "slideshow": {
     "slide_type": "slide"
    }
   },
   "source": [
    "## Leyendas"
   ]
  },
  {
   "cell_type": "markdown",
   "id": "b464ef75",
   "metadata": {
    "slideshow": {
     "slide_type": "slide"
    }
   },
   "source": [
    "La forma más sencilla de agregar una leyenda es establecer una etiqueta en todas las líneas y luego llamar a la función `legend()`."
   ]
  },
  {
   "cell_type": "code",
   "execution_count": null,
   "id": "ef96f4ee",
   "metadata": {
    "slideshow": {
     "slide_type": "slide"
    }
   },
   "outputs": [],
   "source": [
    "x = np.linspace(-1.4, 1.4, 50)\n",
    "plt.plot(x, x**2, \"r--\", label=\"Square function\")\n",
    "\n",
    "plt.plot(x, x**3, \"g-\", label=\"Cube function\")\n",
    "\n",
    "plt.legend() # \n",
    "\n",
    "plt.grid(True)\n",
    "plt.show()"
   ]
  },
  {
   "cell_type": "markdown",
   "id": "71acc2f3",
   "metadata": {
    "slideshow": {
     "slide_type": "slide"
    }
   },
   "source": [
    "## proyección 3D"
   ]
  },
  {
   "cell_type": "markdown",
   "id": "120ad638",
   "metadata": {
    "slideshow": {
     "slide_type": "slide"
    }
   },
   "source": [
    "Trazar gráficos 3D es bastante sencillo. "
   ]
  },
  {
   "cell_type": "markdown",
   "id": "c9cc2118",
   "metadata": {
    "slideshow": {
     "slide_type": "slide"
    }
   },
   "source": [
    "Debe importar `Axes3D`, que registra la proyección `3d`. "
   ]
  },
  {
   "cell_type": "markdown",
   "id": "9ed0b5cb",
   "metadata": {
    "slideshow": {
     "slide_type": "slide"
    }
   },
   "source": [
    "Luego cree un subgráfico configurando `projection` en `3d`. "
   ]
  },
  {
   "cell_type": "markdown",
   "id": "26c51071",
   "metadata": {
    "slideshow": {
     "slide_type": "slide"
    }
   },
   "source": [
    "Esto devuelve un objeto `Axes3DSubplot`, que puede usar para llamar a `plot_surface`, proporcionando coordenadas `x`, `y` y `z`, además de atributos opcionales."
   ]
  },
  {
   "cell_type": "markdown",
   "id": "bdca5c04",
   "metadata": {
    "slideshow": {
     "slide_type": "slide"
    }
   },
   "source": [
    "## La función `numpy.meshgrid()` "
   ]
  },
  {
   "cell_type": "code",
   "execution_count": 23,
   "id": "b7ca1182",
   "metadata": {
    "slideshow": {
     "slide_type": "slide"
    }
   },
   "outputs": [
    {
     "data": {
      "image/png": "[encoded data removed]",
      "text/plain": [
       "<Figure size 864x288 with 1 Axes>"
      ]
     },
     "metadata": {
      "needs_background": "light"
     },
     "output_type": "display_data"
    }
   ],
   "source": [
    "import matplotlib \n",
    "from mpl_toolkits.mplot3d import Axes3D\n",
    "\n",
    "x = np.linspace(-5, 5, 5)\n",
    "y = np.linspace(-5, 5, 5)\n",
    "X, Y = np.meshgrid(x, y)\n",
    "Z = np.zeros_like(X)\n",
    "\n",
    "figure = plt.figure(1, figsize = (12, 4))\n",
    "\n",
    "surface3d = plt.subplot(111, projection='3d')\n",
    "\n",
    "surface3d.scatter3D(X, Y, Z) \n",
    "\n",
    "plt.show()"
   ]
  },
  {
   "cell_type": "code",
   "execution_count": 14,
   "id": "e4836dd7",
   "metadata": {
    "slideshow": {
     "slide_type": "slide"
    }
   },
   "outputs": [
    {
     "data": {
      "image/png": "[encoded data removed]",
      "text/plain": [
       "<Figure size 864x288 with 1 Axes>"
      ]
     },
     "metadata": {
      "needs_background": "light"
     },
     "output_type": "display_data"
    }
   ],
   "source": [
    "import matplotlib \n",
    "from mpl_toolkits.mplot3d import Axes3D\n",
    "\n",
    "x = np.linspace(-5, 5, 5)\n",
    "y = np.linspace(-5, 5, 5)\n",
    "X, Y = np.meshgrid(x, y)\n",
    "Z = np.zeros_like(X)\n",
    "\n",
    "figure = plt.figure(1, figsize = (12, 4))\n",
    "\n",
    "surface3d = plt.subplot(111, projection='3d')\n",
    "\n",
    "surface3d.plot_surface(X, Y, Z) \n",
    "\n",
    "plt.show()"
   ]
  },
  {
   "cell_type": "code",
   "execution_count": null,
   "id": "0eb41da8",
   "metadata": {
    "slideshow": {
     "slide_type": "slide"
    }
   },
   "outputs": [],
   "source": [
    "import matplotlib \n",
    "from mpl_toolkits.mplot3d import Axes3D\n",
    "\n",
    "x = np.linspace(-5, 5, 50)\n",
    "y = np.linspace(-5, 5, 50)\n",
    "X, Y = np.meshgrid(x, y)\n",
    "Z = X**2 + Y**2\n",
    "\n",
    "figure = plt.figure(1, figsize = (12, 4))\n",
    "\n",
    "surface3d = plt.subplot(111, projection='3d')\n",
    "\n",
    "surface3d.plot_surface(X, Y, Z, rstride=1)\n",
    "\n",
    "plt.show()"
   ]
  },
  {
   "cell_type": "markdown",
   "id": "9c1b455e",
   "metadata": {
    "slideshow": {
     "slide_type": "slide"
    }
   },
   "source": [
    "Otra forma de mostrar estos mismos datos es a través de un gráfico de contorno."
   ]
  },
  {
   "cell_type": "code",
   "execution_count": null,
   "id": "7ba2f400",
   "metadata": {
    "slideshow": {
     "slide_type": "slide"
    }
   },
   "outputs": [],
   "source": [
    "plt.contourf(X, Y, Z, cmap=matplotlib.cm.coolwarm)\n",
    "plt.colorbar()\n",
    "plt.show()"
   ]
  },
  {
   "cell_type": "markdown",
   "id": "326e53da",
   "metadata": {
    "slideshow": {
     "slide_type": "slide"
    }
   },
   "source": [
    "## Gráfico de dispersión"
   ]
  },
  {
   "cell_type": "markdown",
   "id": "31cc115a",
   "metadata": {
    "slideshow": {
     "slide_type": "slide"
    }
   },
   "source": [
    "Para dibujar un diagrama de dispersión, simplemente proporcione las coordenadas `x` e `y` de los puntos."
   ]
  },
  {
   "cell_type": "code",
   "execution_count": null,
   "id": "1df1b4cb",
   "metadata": {},
   "outputs": [],
   "source": [
    "from numpy.random import rand\n",
    "rand(2,2)  "
   ]
  },
  {
   "cell_type": "code",
   "execution_count": null,
   "id": "cfee7705",
   "metadata": {
    "scrolled": true,
    "slideshow": {
     "slide_type": "slide"
    }
   },
   "outputs": [],
   "source": [
    "from numpy.random import rand\n",
    "x, y = rand(2, 100)\n",
    "plt.scatter(x, y)\n",
    "plt.show()"
   ]
  },
  {
   "cell_type": "code",
   "execution_count": null,
   "id": "0c2dabbc",
   "metadata": {},
   "outputs": [],
   "source": [
    "plt.plot(x,y, 'bo')"
   ]
  },
  {
   "cell_type": "markdown",
   "id": "221691a8",
   "metadata": {
    "slideshow": {
     "slide_type": "slide"
    }
   },
   "source": [
    "## Histogramas"
   ]
  },
  {
   "cell_type": "code",
   "execution_count": null,
   "id": "b5a06325",
   "metadata": {
    "slideshow": {
     "slide_type": "slide"
    }
   },
   "outputs": [],
   "source": [
    "data = [1, 1.1, 1.8, 2, 2.1, 3.2, 3, 3, 3, 3]\n",
    "#plt.subplot(211)\n",
    "plt.hist(data, bins = 5)"
   ]
  },
  {
   "cell_type": "code",
   "execution_count": null,
   "id": "0131c52e",
   "metadata": {
    "slideshow": {
     "slide_type": "slide"
    }
   },
   "outputs": [],
   "source": [
    "\n",
    "plt.hist(data, bins = [1, 1.5, 2, 2.5, 3], rwidth=0.95)\n",
    "\n",
    "plt.xlabel(\"Value\")\n",
    "plt.ylabel(\"Frequency\")\n",
    "\n",
    "plt.show()"
   ]
  },
  {
   "cell_type": "code",
   "execution_count": null,
   "id": "b2a14153",
   "metadata": {
    "slideshow": {
     "slide_type": "slide"
    }
   },
   "outputs": [],
   "source": [
    "data1 = np.random.randn(400)\n",
    "data2 = np.random.randn(400) + 3\n",
    "data3 = np.random.randn(400) + 6\n",
    "data4a = np.random.randn(400) + 9\n",
    "data4b = np.random.randn(400) + 10\n",
    "\n",
    "plt.hist(data1, bins=5, color='g', alpha=0.75) \n",
    "plt.hist(data2, color='b', alpha=0.65)\n",
    "plt.hist(data3, color='r')\n",
    "plt.hist((data4a, data4b), color=('r','m'), alpha=0.55) \n",
    "\n",
    "plt.xlabel(\"Value\")\n",
    "plt.ylabel(\"Frequency\")\n",
    "plt.grid(True)\n",
    "plt.show()"
   ]
  },
  {
   "cell_type": "code",
   "execution_count": null,
   "id": "b19c27c2",
   "metadata": {
    "slideshow": {
     "slide_type": "slide"
    }
   },
   "outputs": [],
   "source": [
    "import numpy as np \n",
    "x = np.random.rand(10)\n",
    "plt.hist(x, bins = 10)"
   ]
  },
  {
   "cell_type": "code",
   "execution_count": null,
   "id": "c0f1b672",
   "metadata": {
    "slideshow": {
     "slide_type": "slide"
    }
   },
   "outputs": [],
   "source": [
    "import numpy as np \n",
    "x = np.random.randn(10000000)\n",
    "plt.hist(x, bins = 1000)\n",
    "plt.show() "
   ]
  },
  {
   "cell_type": "markdown",
   "id": "8efab3ae",
   "metadata": {
    "slideshow": {
     "slide_type": "slide"
    }
   },
   "source": []
  },
  {
   "cell_type": "code",
   "execution_count": 7,
   "id": "ce460772",
   "metadata": {
    "scrolled": true,
    "slideshow": {
     "slide_type": "slide"
    }
   },
   "outputs": [
    {
     "data": {
      "image/png": "[encoded data removed]",
      "text/plain": [
       "<Figure size 432x288 with 1 Axes>"
      ]
     },
     "metadata": {
      "needs_background": "light"
     },
     "output_type": "display_data"
    }
   ],
   "source": [
    "import numpy as np \n",
    "import matplotlib.pyplot as plt \n",
    "\n",
    "x = np.linspace(-2*np.pi, 2*np.pi, 200)\n",
    "y = np.sin(x) \n",
    "\n",
    "plt.plot(x,y) \n",
    "\n",
    "plt.title('Función seno $y = \\sin(x)$')\n",
    "\n",
    "plt.xlabel('Eje x')\n",
    "\n",
    "plt.ylabel('Eje y') \n",
    "\n",
    "plt.grid(False)   \n",
    "\n",
    "plt.show() \n"
   ]
  },
  {
   "cell_type": "markdown",
   "id": "8f85f909",
   "metadata": {
    "slideshow": {
     "slide_type": "slide"
    }
   },
   "source": [
    "# Ejercicio 12 del taller de Matplotlib"
   ]
  },
  {
   "cell_type": "code",
   "execution_count": 9,
   "id": "07ba476e",
   "metadata": {
    "slideshow": {
     "slide_type": "slide"
    }
   },
   "outputs": [
    {
     "data": {
      "text/plain": [
       "[<matplotlib.lines.Line2D at 0x28f715acd60>]"
      ]
     },
     "execution_count": 9,
     "metadata": {},
     "output_type": "execute_result"
    },
    {
     "data": {
      "image/png": "[encoded data removed]",
      "text/plain": [
       "<Figure size 432x288 with 1 Axes>"
      ]
     },
     "metadata": {
      "needs_background": "light"
     },
     "output_type": "display_data"
    }
   ],
   "source": [
    "x = np.linspace(-6,6, 100)\n",
    "y = (1/(np.sqrt(2*np.pi)))*np.exp(-(x**2)/2)\n",
    "\n",
    "plt.plot(x,y)\n"
   ]
  },
  {
   "cell_type": "code",
   "execution_count": null,
   "id": "b11d3e38",
   "metadata": {},
   "outputs": [],
   "source": []
  },
  {
   "cell_type": "code",
   "execution_count": null,
   "id": "99d5087f",
   "metadata": {},
   "outputs": [],
   "source": []
  },
  {
   "cell_type": "code",
   "execution_count": null,
   "id": "834c95c4",
   "metadata": {
    "slideshow": {
     "slide_type": "slide"
    }
   },
   "outputs": [],
   "source": []
  },
  {
   "cell_type": "markdown",
   "id": "af4d13cb",
   "metadata": {
    "slideshow": {
     "slide_type": "slide"
    }
   },
   "source": [
    "## Referentes  \n",
    "\n",
    "* Galería de gráficos con Matplotlib: https://matplotlib.org/2.0.2/gallery.html\n",
    "\n",
    "* Grafica de diagramas de dispersión en 3D: https://matplotlib.org/stable/gallery/mplot3d/scatter3d.html\n",
    "\n"
   ]
  },
  {
   "cell_type": "code",
   "execution_count": null,
   "id": "9fb45127",
   "metadata": {},
   "outputs": [],
   "source": []
  }
 ],
 "metadata": {
  "celltoolbar": "Slideshow",
  "kernelspec": {
   "display_name": "Python 3 (ipykernel)",
   "language": "python",
   "name": "python3"
  },
  "language_info": {
   "codemirror_mode": {
    "name": "ipython",
    "version": 3
   },
   "file_extension": ".py",
   "mimetype": "text/x-python",
   "name": "python",
   "nbconvert_exporter": "python",
   "pygments_lexer": "ipython3",
   "version": "3.9.7"
  }
 },
 "nbformat": 4,
 "nbformat_minor": 5
}
