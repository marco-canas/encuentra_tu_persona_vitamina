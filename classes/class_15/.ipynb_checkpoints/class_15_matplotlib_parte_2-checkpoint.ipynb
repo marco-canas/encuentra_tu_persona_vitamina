{
 "cells": [
  {
   "cell_type": "markdown",
   "id": "ebf72515",
   "metadata": {},
   "source": []
  },
  {
   "cell_type": "markdown",
   "id": "d9b68123",
   "metadata": {},
   "source": [
    "# Clase 15 Matplotlib Parte 2"
   ]
  },
  {
   "cell_type": "markdown",
   "id": "3613aec3",
   "metadata": {
    "slideshow": {
     "slide_type": "slide"
    }
   },
   "source": [
    "## Contenido"
   ]
  },
  {
   "cell_type": "markdown",
   "id": "4d2905f3",
   "metadata": {
    "slideshow": {
     "slide_type": "slide"
    }
   },
   "source": [
    "1.  Construcción de cuadrículas de gráficos  \n",
    "2.  Incluir texto en el gráfico\n",
    "3.  Legendas\n",
    "4.  Escala lineal y escala logaritmica"
   ]
  },
  {
   "cell_type": "markdown",
   "id": "ae623e6f",
   "metadata": {
    "slideshow": {
     "slide_type": "slide"
    }
   },
   "source": [
    "5.  Gráficos en el espacio\n",
    "6.  Diagramas de dispersión  \n",
    "7.  Histogramas \n",
    "8.  Images\n",
    "9.  Animaciones con `from ipywidgets import interact`\n",
    "10.  Guardar las animaciones en archivos de video. \n"
   ]
  },
  {
   "cell_type": "code",
   "execution_count": null,
   "id": "c9b1ab68",
   "metadata": {
    "slideshow": {
     "slide_type": "slide"
    }
   },
   "outputs": [],
   "source": []
  },
  {
   "cell_type": "code",
   "execution_count": null,
   "id": "c1e53285",
   "metadata": {},
   "outputs": [],
   "source": []
  },
  {
   "cell_type": "code",
   "execution_count": null,
   "id": "559b0e9b",
   "metadata": {},
   "outputs": [],
   "source": []
  },
  {
   "cell_type": "code",
   "execution_count": null,
   "id": "e5c31385",
   "metadata": {},
   "outputs": [],
   "source": []
  },
  {
   "cell_type": "code",
   "execution_count": null,
   "id": "5f06023c",
   "metadata": {},
   "outputs": [],
   "source": []
  },
  {
   "cell_type": "code",
   "execution_count": null,
   "id": "de735d8a",
   "metadata": {},
   "outputs": [],
   "source": []
  },
  {
   "cell_type": "code",
   "execution_count": null,
   "id": "26e38549",
   "metadata": {},
   "outputs": [],
   "source": []
  },
  {
   "cell_type": "code",
   "execution_count": null,
   "id": "b80d52cd",
   "metadata": {},
   "outputs": [],
   "source": []
  }
 ],
 "metadata": {
  "celltoolbar": "Slideshow",
  "kernelspec": {
   "display_name": "Python 3 (ipykernel)",
   "language": "python",
   "name": "python3"
  },
  "language_info": {
   "codemirror_mode": {
    "name": "ipython",
    "version": 3
   },
   "file_extension": ".py",
   "mimetype": "text/x-python",
   "name": "python",
   "nbconvert_exporter": "python",
   "pygments_lexer": "ipython3",
   "version": "3.9.7"
  }
 },
 "nbformat": 4,
 "nbformat_minor": 5
}
