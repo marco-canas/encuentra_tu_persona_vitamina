{
 "cells": [
  {
   "cell_type": "markdown",
   "id": "002067e4",
   "metadata": {
    "slideshow": {
     "slide_type": "slide"
    }
   },
   "source": [
    "<table align=\"left\">\n",
    "  <td>\n",
    "    <a href=\"https://colab.research.google.com/github/marco-canas/introducci-n-al-Machine-Learning/blob/main/classes/class_3/class_3.ipynb\" target=\"_parent\"><img src=\"https://colab.research.google.com/assets/colab-badge.svg\" alt=\"Open In Colab\"/></a>\n",
    "  </td>\n",
    "  <td>\n",
    "    <a target=\"_blank\" href=\"https://kaggle.com/kernels/welcome?src=https://github.com/marco-canas/introducci-n-al-Machine-Learning/blob/main/classes/class_3/class_3.ipynb\"><img src=\"https://kaggle.com/static/images/open-in-kaggle.svg\" /></a>\n",
    "  </td>\n",
    "</table> "
   ]
  },
  {
   "cell_type": "markdown",
   "id": "8ea075bb",
   "metadata": {
    "slideshow": {
     "slide_type": "slide"
    }
   },
   "source": [
    "# Clase 3 "
   ]
  },
  {
   "cell_type": "markdown",
   "id": "3d303bcd",
   "metadata": {
    "slideshow": {
     "slide_type": "slide"
    }
   },
   "source": [
    "# Capítulo 5  \n",
    "## Funciones en python"
   ]
  },
  {
   "cell_type": "markdown",
   "id": "bf237698",
   "metadata": {
    "slideshow": {
     "slide_type": "slide"
    }
   },
   "source": [
    "## 5.1. Valores de retorno"
   ]
  },
  {
   "cell_type": "markdown",
   "id": "fb656b0b",
   "metadata": {
    "slideshow": {
     "slide_type": "slide"
    }
   },
   "source": [
    "## [Video de apoyo sobre valores de retorno](https://www.youtube.com/watch?v=T7sexmPbklo)"
   ]
  },
  {
   "cell_type": "markdown",
   "id": "a4d58992",
   "metadata": {
    "slideshow": {
     "slide_type": "slide"
    }
   },
   "source": [
    "Algunas de las funciones internas que hemos usado, como las funciones `math` o funciones matemáticas, han producido resultados. "
   ]
  },
  {
   "cell_type": "markdown",
   "id": "f073a64d",
   "metadata": {
    "slideshow": {
     "slide_type": "slide"
    }
   },
   "source": [
    "* Llamar a la función genera un nuevo valor, \n",
    "* que normalmente asignamos a una variable para usar como parte de una expresión."
   ]
  },
  {
   "cell_type": "code",
   "execution_count": null,
   "id": "f8678dac",
   "metadata": {
    "slideshow": {
     "slide_type": "slide"
    }
   },
   "outputs": [],
   "source": [
    "import math as m"
   ]
  },
  {
   "cell_type": "code",
   "execution_count": null,
   "id": "e3282618",
   "metadata": {
    "scrolled": false,
    "slideshow": {
     "slide_type": "slide"
    }
   },
   "outputs": [],
   "source": [
    "dir(math)"
   ]
  },
  {
   "cell_type": "code",
   "execution_count": null,
   "id": "ace35805",
   "metadata": {
    "slideshow": {
     "slide_type": "slide"
    }
   },
   "outputs": [],
   "source": [
    "type(math)  "
   ]
  },
  {
   "cell_type": "code",
   "execution_count": null,
   "id": "62339331",
   "metadata": {
    "slideshow": {
     "slide_type": "slide"
    }
   },
   "outputs": [],
   "source": [
    "infinito = m.inf "
   ]
  },
  {
   "cell_type": "code",
   "execution_count": null,
   "id": "b3087f87",
   "metadata": {
    "slideshow": {
     "slide_type": "slide"
    }
   },
   "outputs": [],
   "source": [
    "infinito + 4 "
   ]
  },
  {
   "cell_type": "code",
   "execution_count": null,
   "id": "b13eac3e",
   "metadata": {
    "slideshow": {
     "slide_type": "slide"
    }
   },
   "outputs": [],
   "source": [
    "e = math.exp(1)\n",
    "e "
   ]
  },
  {
   "cell_type": "code",
   "execution_count": null,
   "id": "2d4dab10",
   "metadata": {
    "slideshow": {
     "slide_type": "slide"
    }
   },
   "outputs": [],
   "source": [
    "m.e "
   ]
  },
  {
   "cell_type": "code",
   "execution_count": null,
   "id": "ec8896ed",
   "metadata": {
    "slideshow": {
     "slide_type": "slide"
    }
   },
   "outputs": [],
   "source": [
    "m.pi"
   ]
  },
  {
   "cell_type": "code",
   "execution_count": null,
   "id": "8659b135",
   "metadata": {
    "slideshow": {
     "slide_type": "slide"
    }
   },
   "outputs": [],
   "source": [
    "e = math.exp(1.0)\n",
    "e "
   ]
  },
  {
   "cell_type": "code",
   "execution_count": null,
   "id": "61755381",
   "metadata": {
    "slideshow": {
     "slide_type": "slide"
    }
   },
   "outputs": [],
   "source": [
    "math.pi"
   ]
  },
  {
   "cell_type": "code",
   "execution_count": null,
   "id": "4ed0e4ee",
   "metadata": {},
   "outputs": [],
   "source": [
    "m.log(m.e) "
   ]
  },
  {
   "cell_type": "code",
   "execution_count": null,
   "id": "65c4ef43",
   "metadata": {
    "slideshow": {
     "slide_type": "slide"
    }
   },
   "outputs": [],
   "source": [
    "angulo = math.pi/2"
   ]
  },
  {
   "cell_type": "code",
   "execution_count": null,
   "id": "67f72600",
   "metadata": {
    "slideshow": {
     "slide_type": "slide"
    }
   },
   "outputs": [],
   "source": [
    "radio = 1 \n",
    "print(round(angulo,2),' ', radio)"
   ]
  },
  {
   "cell_type": "code",
   "execution_count": null,
   "id": "9c7d164a",
   "metadata": {
    "slideshow": {
     "slide_type": "slide"
    }
   },
   "outputs": [],
   "source": [
    "altura = radio * math.sin(angulo)\n",
    "altura "
   ]
  },
  {
   "cell_type": "code",
   "execution_count": null,
   "id": "eb5829de",
   "metadata": {
    "slideshow": {
     "slide_type": "slide"
    }
   },
   "outputs": [],
   "source": [
    "m.sqrt(3)"
   ]
  },
  {
   "cell_type": "markdown",
   "id": "fae2762a",
   "metadata": {
    "slideshow": {
     "slide_type": "slide"
    }
   },
   "source": [
    "### Funciones no productivas o que no devuelven algún valor "
   ]
  },
  {
   "cell_type": "markdown",
   "id": "3d4cac95",
   "metadata": {
    "slideshow": {
     "slide_type": "slide"
    }
   },
   "source": [
    "El primer ejemplo es área, que devuelve el área de un círculo con un radio dado:"
   ]
  },
  {
   "cell_type": "code",
   "execution_count": null,
   "id": "6fcce010",
   "metadata": {
    "slideshow": {
     "slide_type": "slide"
    }
   },
   "outputs": [],
   "source": [
    "def nueva_linea():\n",
    "    print() "
   ]
  },
  {
   "cell_type": "code",
   "execution_count": null,
   "id": "b3b18cd7",
   "metadata": {
    "slideshow": {
     "slide_type": "slide"
    }
   },
   "outputs": [],
   "source": [
    "print('primera línea')\n",
    "# nueva_linea()\n",
    "print('segunda línea')\n"
   ]
  },
  {
   "cell_type": "code",
   "execution_count": null,
   "id": "5d809ce9",
   "metadata": {
    "slideshow": {
     "slide_type": "slide"
    }
   },
   "outputs": [],
   "source": [
    "import math as m "
   ]
  },
  {
   "cell_type": "code",
   "execution_count": null,
   "id": "dfe6c627",
   "metadata": {
    "slideshow": {
     "slide_type": "slide"
    }
   },
   "outputs": [],
   "source": [
    "def area_del_circulo(radio):\n",
    "    area = m.pi*radio**2\n",
    "    return area"
   ]
  },
  {
   "cell_type": "code",
   "execution_count": null,
   "id": "dbb1b168",
   "metadata": {
    "slideshow": {
     "slide_type": "slide"
    }
   },
   "outputs": [],
   "source": [
    "area_del_circulo(radio = 1)"
   ]
  },
  {
   "cell_type": "markdown",
   "id": "bc1a0745",
   "metadata": {
    "slideshow": {
     "slide_type": "slide"
    }
   },
   "source": [
    "Ya hemos visto antes la sentencia `return`, pero en una función productiva la sentencia `return` incluye un valor de retorno. "
   ]
  },
  {
   "cell_type": "markdown",
   "id": "03a08e28",
   "metadata": {
    "slideshow": {
     "slide_type": "slide"
    }
   },
   "source": [
    "Esta sentencia quiere decir “retorna inmediatamente de la función y usa la siguiente expresión como valor de retorno”. "
   ]
  },
  {
   "cell_type": "markdown",
   "id": "f66f12ad",
   "metadata": {
    "slideshow": {
     "slide_type": "slide"
    }
   },
   "source": [
    "La expresión dada puede ser arbitrariamente complicada; así pues, podríamos haber escrito esta función más concisamente:"
   ]
  },
  {
   "cell_type": "code",
   "execution_count": null,
   "id": "80cc833f",
   "metadata": {
    "slideshow": {
     "slide_type": "slide"
    }
   },
   "outputs": [],
   "source": [
    "import math as m\n",
    "\n",
    "def area_circulo_2(radio):\n",
    "    return m.pi*radio**2"
   ]
  },
  {
   "cell_type": "code",
   "execution_count": null,
   "id": "b75a292a",
   "metadata": {
    "slideshow": {
     "slide_type": "slide"
    }
   },
   "outputs": [],
   "source": [
    "area_circulo_2(1)"
   ]
  },
  {
   "cell_type": "markdown",
   "id": "d9b67b17",
   "metadata": {
    "slideshow": {
     "slide_type": "slide"
    }
   },
   "source": [
    "## [Video de apoyo sobre funciones con ciclo condicional]()"
   ]
  },
  {
   "cell_type": "code",
   "execution_count": null,
   "id": "8914f0dd",
   "metadata": {
    "slideshow": {
     "slide_type": "slide"
    }
   },
   "outputs": [],
   "source": [
    "def valorAbsoluto(x):\n",
    "    if x < 0:\n",
    "        return -x\n",
    "    else:\n",
    "        return x"
   ]
  },
  {
   "cell_type": "code",
   "execution_count": null,
   "id": "20b2fbb5",
   "metadata": {
    "slideshow": {
     "slide_type": "slide"
    }
   },
   "outputs": [],
   "source": [
    "valorAbsoluto(0)"
   ]
  },
  {
   "cell_type": "code",
   "execution_count": 1,
   "id": "ad13ab08",
   "metadata": {},
   "outputs": [
    {
     "data": {
      "text/plain": [
       "5"
      ]
     },
     "execution_count": 1,
     "metadata": {},
     "output_type": "execute_result"
    }
   ],
   "source": [
    "abs(-5)"
   ]
  },
  {
   "cell_type": "markdown",
   "id": "b63908c2",
   "metadata": {
    "slideshow": {
     "slide_type": "slide"
    }
   },
   "source": [
    "Puesto que estas sentencias `return` están en una condición alternativa, sólo se ejecutará una de ellas. "
   ]
  },
  {
   "cell_type": "markdown",
   "id": "13538523",
   "metadata": {
    "slideshow": {
     "slide_type": "slide"
    }
   },
   "source": [
    "En cuanto se ejecuta una de ellas, la función termina sin ejecutar ninguna de las sentencias siguientes."
   ]
  },
  {
   "cell_type": "markdown",
   "id": "076964fb",
   "metadata": {
    "slideshow": {
     "slide_type": "slide"
    }
   },
   "source": [
    "El código que aparece después de una sentencia `return` o en cualquier otro lugar donde el flujo de ejecución no pueda llegar, recibe el nombre de código muerto."
   ]
  },
  {
   "cell_type": "markdown",
   "id": "5d126380",
   "metadata": {
    "slideshow": {
     "slide_type": "slide"
    }
   },
   "source": [
    "En una función productiva es una buena idea asegurarse de que cualquier posible recorrido del programa alcanza una sentencia `return`. "
   ]
  },
  {
   "cell_type": "markdown",
   "id": "e05beff7",
   "metadata": {
    "slideshow": {
     "slide_type": "slide"
    }
   },
   "source": [
    "Por ejemplo:"
   ]
  },
  {
   "cell_type": "code",
   "execution_count": null,
   "id": "f020b7d3",
   "metadata": {
    "slideshow": {
     "slide_type": "slide"
    }
   },
   "outputs": [],
   "source": [
    "def valorAbsoluto(x):\n",
    "    if x < 0:\n",
    "        return -x\n",
    "    elif x > 0:\n",
    "        return x"
   ]
  },
  {
   "cell_type": "markdown",
   "id": "d9efd074",
   "metadata": {
    "slideshow": {
     "slide_type": "slide"
    }
   },
   "source": [
    "**Ojo**  \n",
    "Este programa no es correcto porque si resulta que `x` vale `0`, entonces no se cumple ninguna de ambas condiciones y la función termina sin alcanzar la setencia return. "
   ]
  },
  {
   "cell_type": "markdown",
   "id": "88df2b36",
   "metadata": {
    "slideshow": {
     "slide_type": "slide"
    }
   },
   "source": [
    "En este caso, el valor de retorno es un valor especial llamado None:"
   ]
  },
  {
   "cell_type": "code",
   "execution_count": null,
   "id": "1b899ed6",
   "metadata": {
    "slideshow": {
     "slide_type": "slide"
    }
   },
   "outputs": [],
   "source": [
    "print(valorAbsoluto(0)) "
   ]
  },
  {
   "cell_type": "markdown",
   "id": "f4bb4ab9",
   "metadata": {
    "slideshow": {
     "slide_type": "slide"
    }
   },
   "source": [
    "Como actividad, escriba una función comparar que devuelva `1` si `x > y` , `0` si `x == y` , y `-1` si `x < y` ."
   ]
  },
  {
   "cell_type": "markdown",
   "id": "d0a914e7",
   "metadata": {
    "slideshow": {
     "slide_type": "slide"
    }
   },
   "source": [
    "## 5.2. Desarrollo de programas de manera incremental"
   ]
  },
  {
   "cell_type": "markdown",
   "id": "915a5261",
   "metadata": {
    "slideshow": {
     "slide_type": "slide"
    }
   },
   "source": [
    "## [Video de apoyo al desarrollo de programas en Python](https://www.youtube.com/watch?v=GpHk8XBm-k8)  "
   ]
  },
  {
   "cell_type": "markdown",
   "id": "eff6c669",
   "metadata": {
    "slideshow": {
     "slide_type": "slide"
    }
   },
   "source": [
    "Llegados a este punto, tendría que poder mirar a funciones Python completas y adivinar qué hacen."
   ]
  },
  {
   "cell_type": "markdown",
   "id": "5ae76138",
   "metadata": {
    "slideshow": {
     "slide_type": "slide"
    }
   },
   "source": [
    "Con la práctica de escritura de funciones puede ir mejorando \n",
    "\n",
    "* los errores en tiempo de ejecución y \n",
    "* los errores semánticos."
   ]
  },
  {
   "cell_type": "markdown",
   "id": "a9315b0e",
   "metadata": {
    "slideshow": {
     "slide_type": "slide"
    }
   },
   "source": [
    "Para lidiar con programas de complejidad creciente, vamos a sugerirle una técnica que llamaremos **desarrollo incremental.** "
   ]
  },
  {
   "cell_type": "markdown",
   "id": "c19a4923",
   "metadata": {
    "slideshow": {
     "slide_type": "slide"
    }
   },
   "source": [
    "El objetivo del desarrollo incremental es sustituir largas sesiones de depuración por la adición y prueba de pequeñas porciones de código en cada vez."
   ]
  },
  {
   "cell_type": "markdown",
   "id": "fd14cc58",
   "metadata": {
    "slideshow": {
     "slide_type": "slide"
    }
   },
   "source": [
    "Por ejemplo, supongamos que desea encontrar la distancia entre dos puntos, dados por las coordenadas $(x_{1}, y_{1})$ y $(x_{2}, y_{2})$. "
   ]
  },
  {
   "cell_type": "markdown",
   "id": "dde953a3",
   "metadata": {
    "slideshow": {
     "slide_type": "slide"
    }
   },
   "source": [
    "Por el teorema de Pitágoras, podemos escribir la distancia es:\n",
    "\n",
    "$$ \\text{distancia} = \\sqrt{(x_{2} − x_{1})^{2} + (y_{2} − y_{1})^{2} } \\nonumber $$"
   ]
  },
  {
   "cell_type": "markdown",
   "id": "6c97358e",
   "metadata": {
    "slideshow": {
     "slide_type": "slide"
    }
   },
   "source": [
    "El primer paso es considerar qué aspecto tendría una función distancia en Python. "
   ]
  },
  {
   "cell_type": "markdown",
   "id": "5b583df4",
   "metadata": {
    "slideshow": {
     "slide_type": "slide"
    }
   },
   "source": [
    "En otras palabras, ¿cuáles son las entradas (parámetros) y cuál es la salida (valor de retorno)?"
   ]
  },
  {
   "cell_type": "markdown",
   "id": "cad1d0c9",
   "metadata": {
    "slideshow": {
     "slide_type": "slide"
    }
   },
   "source": [
    "En este caso, los dos puntos son los parámetros, que podemos representar usando cuatro parámetros. "
   ]
  },
  {
   "cell_type": "markdown",
   "id": "c7b92033",
   "metadata": {
    "slideshow": {
     "slide_type": "slide"
    }
   },
   "source": [
    "El valor de retorno es la distancia, que es un valor en coma flotante."
   ]
  },
  {
   "cell_type": "markdown",
   "id": "3e009979",
   "metadata": {
    "slideshow": {
     "slide_type": "slide"
    }
   },
   "source": [
    "Ya podemos escribir un bosquejo de la función:"
   ]
  },
  {
   "cell_type": "code",
   "execution_count": 12,
   "id": "ef2eab0f",
   "metadata": {
    "slideshow": {
     "slide_type": "slide"
    }
   },
   "outputs": [],
   "source": [
    "def distancia(x1, y1, x2, y2):\n",
    "    return 0.0"
   ]
  },
  {
   "cell_type": "code",
   "execution_count": 13,
   "id": "88b77041",
   "metadata": {
    "slideshow": {
     "slide_type": "slide"
    }
   },
   "outputs": [
    {
     "data": {
      "text/plain": [
       "0.0"
      ]
     },
     "execution_count": 13,
     "metadata": {},
     "output_type": "execute_result"
    }
   ],
   "source": [
    "distancia(0,0,3,4)"
   ]
  },
  {
   "cell_type": "markdown",
   "id": "b2f4fc55",
   "metadata": {
    "slideshow": {
     "slide_type": "slide"
    }
   },
   "source": [
    "Obviamente, la función no calcula distancias; siempre devuelve cero. "
   ]
  },
  {
   "cell_type": "markdown",
   "id": "0460fea8",
   "metadata": {
    "slideshow": {
     "slide_type": "slide"
    }
   },
   "source": [
    "Pero es sintácticamente correcta y se ejecutará, lo que significa que podemos probarla antes de complicarla más."
   ]
  },
  {
   "cell_type": "markdown",
   "id": "d7265379",
   "metadata": {
    "slideshow": {
     "slide_type": "slide"
    }
   },
   "source": [
    "Para comprobar la nueva función, tenemos que llamarla con valores de ejemplo:"
   ]
  },
  {
   "cell_type": "code",
   "execution_count": 14,
   "id": "dcc58875",
   "metadata": {
    "slideshow": {
     "slide_type": "slide"
    }
   },
   "outputs": [],
   "source": [
    "def distancia(x1, y1, x2, y2):\n",
    "    return 0.0"
   ]
  },
  {
   "cell_type": "code",
   "execution_count": 16,
   "id": "fbbd8276",
   "metadata": {
    "slideshow": {
     "slide_type": "slide"
    }
   },
   "outputs": [
    {
     "data": {
      "text/plain": [
       "0.0"
      ]
     },
     "execution_count": 16,
     "metadata": {},
     "output_type": "execute_result"
    }
   ],
   "source": [
    "distancia(1, 2, 4, 6)\n"
   ]
  },
  {
   "cell_type": "code",
   "execution_count": 38,
   "id": "e9b40d59",
   "metadata": {
    "slideshow": {
     "slide_type": "slide"
    }
   },
   "outputs": [
    {
     "data": {
      "image/png": "[encoded data removed]",
      "text/plain": [
       "<Figure size 432x288 with 1 Axes>"
      ]
     },
     "metadata": {
      "needs_background": "light"
     },
     "output_type": "display_data"
    }
   ],
   "source": [
    "import numpy as np \n",
    "import matplotlib.pyplot as plt \n",
    "\n",
    "punto1 = [1,2]\n",
    "punto2 = [4,6]\n",
    "\n",
    "abscisas = list(zip(punto1,punto2))[0]\n",
    "ordenadas = list(zip(punto1,punto2))[1]\n",
    "\n",
    "plt.plot(abscisas, ordenadas) \n",
    "\n",
    "plt.scatter(abscisas, ordenadas, color = 'red')   \n",
    "\n",
    "plt.grid() \n"
   ]
  },
  {
   "cell_type": "code",
   "execution_count": 19,
   "id": "b90472d9",
   "metadata": {
    "slideshow": {
     "slide_type": "slide"
    }
   },
   "outputs": [
    {
     "data": {
      "text/plain": [
       "[(1, 4), (2, 6)]"
      ]
     },
     "execution_count": 19,
     "metadata": {},
     "output_type": "execute_result"
    }
   ],
   "source": [
    "list(zip(punto1,punto2)) "
   ]
  },
  {
   "cell_type": "markdown",
   "id": "444f994a",
   "metadata": {
    "slideshow": {
     "slide_type": "slide"
    }
   },
   "source": [
    "Elegimos estos valores de tal forma que la distancia horizontal sea igual a 3 y la distancia vertical sea igual a 4; de esa manera el resultado es 5 (la hipotenusa del triángulo 3-4-5). "
   ]
  },
  {
   "cell_type": "markdown",
   "id": "93c18ee7",
   "metadata": {
    "slideshow": {
     "slide_type": "slide"
    }
   },
   "source": [
    "Cuando se comprueba una función, es útil saber la respuesta correcta."
   ]
  },
  {
   "cell_type": "markdown",
   "id": "aa0c070f",
   "metadata": {
    "slideshow": {
     "slide_type": "slide"
    }
   },
   "source": [
    "Hasta el momento, hemos comprobado que **la función es sintácticamente correcta**, así que podemos empezar a añadir líneas de código. "
   ]
  },
  {
   "cell_type": "markdown",
   "id": "c2811ffe",
   "metadata": {
    "slideshow": {
     "slide_type": "slide"
    }
   },
   "source": [
    "Después de cada **cambio incremental**, comprobamos de nuevo la función. "
   ]
  },
  {
   "cell_type": "markdown",
   "id": "302b5e01",
   "metadata": {
    "slideshow": {
     "slide_type": "slide"
    }
   },
   "source": [
    "Si en un momento dado aparece un error, sabremos dónde está exactamente: en la última línea que hayamos añadido."
   ]
  },
  {
   "cell_type": "markdown",
   "id": "69000efc",
   "metadata": {
    "slideshow": {
     "slide_type": "slide"
    }
   },
   "source": [
    "El siguiente paso en el cálculo es encontrar las diferencias entre $x_{2} − x_{1}$ y $y_{2} − y_{1}$."
   ]
  },
  {
   "cell_type": "markdown",
   "id": "52b0a611",
   "metadata": {
    "slideshow": {
     "slide_type": "slide"
    }
   },
   "source": [
    "Almacenaremos dichos valores en variables temporales llamadas $dx$ y $dy$ y las imprimiremos."
   ]
  },
  {
   "cell_type": "code",
   "execution_count": 22,
   "id": "3dcc6b23",
   "metadata": {
    "slideshow": {
     "slide_type": "slide"
    }
   },
   "outputs": [],
   "source": [
    "def distancia(x1, y1, x2, y2):\n",
    "    dx = x2 - x1\n",
    "    dy = y2 - y1\n",
    "    print(\"dx es\", dx)\n",
    "    print(\"dy es\", dy)\n",
    "    return 0.0"
   ]
  },
  {
   "cell_type": "code",
   "execution_count": 23,
   "id": "ef92f33a",
   "metadata": {},
   "outputs": [
    {
     "name": "stdout",
     "output_type": "stream",
     "text": [
      "dx es 3\n",
      "dy es 4\n"
     ]
    },
    {
     "data": {
      "text/plain": [
       "0.0"
      ]
     },
     "execution_count": 23,
     "metadata": {},
     "output_type": "execute_result"
    }
   ],
   "source": [
    "distancia(1,2,4,6)"
   ]
  },
  {
   "cell_type": "markdown",
   "id": "b5ec2f5c",
   "metadata": {
    "slideshow": {
     "slide_type": "slide"
    }
   },
   "source": [
    "Si la función funciona, valga la redundancia, las salidas deberían ser 3 y 4. "
   ]
  },
  {
   "cell_type": "markdown",
   "id": "85b22895",
   "metadata": {
    "slideshow": {
     "slide_type": "slide"
    }
   },
   "source": [
    "Si es así, sabemos que la función recibe correctamente los parámetros y realiza correctamente el primer cálculo. "
   ]
  },
  {
   "cell_type": "markdown",
   "id": "7bf3c139",
   "metadata": {
    "slideshow": {
     "slide_type": "slide"
    }
   },
   "source": [
    "Si no, sólo hay unas pocas líneas que revisar."
   ]
  },
  {
   "cell_type": "markdown",
   "id": "17734347",
   "metadata": {
    "slideshow": {
     "slide_type": "slide"
    }
   },
   "source": [
    "Ahora calculamos la suma de los cuadarados de $dx$ y $dy$: "
   ]
  },
  {
   "cell_type": "code",
   "execution_count": 24,
   "id": "73a26584",
   "metadata": {
    "slideshow": {
     "slide_type": "slide"
    }
   },
   "outputs": [],
   "source": [
    "def distancia(x1, y1, x2, y2):\n",
    "    dx = x2 - x1\n",
    "    dy = y2 - y1\n",
    "    d_al_cuadrado = dx**2 + dy**2\n",
    "    print(\"d_al_cuadrado es: \", d_al_cuadrado)\n",
    "    return 0.0"
   ]
  },
  {
   "cell_type": "code",
   "execution_count": 25,
   "id": "0417efce",
   "metadata": {
    "slideshow": {
     "slide_type": "slide"
    }
   },
   "outputs": [
    {
     "name": "stdout",
     "output_type": "stream",
     "text": [
      "d_al_cuadrado es:  25\n"
     ]
    },
    {
     "data": {
      "text/plain": [
       "0.0"
      ]
     },
     "execution_count": 25,
     "metadata": {},
     "output_type": "execute_result"
    }
   ],
   "source": [
    "distancia(1,2, 4,6)"
   ]
  },
  {
   "cell_type": "markdown",
   "id": "b989da90",
   "metadata": {
    "slideshow": {
     "slide_type": "slide"
    }
   },
   "source": [
    "Fíjese en que hemos eliminado las sentencias `print()` que escribimos en el paso anterior. "
   ]
  },
  {
   "cell_type": "markdown",
   "id": "1aa3a11c",
   "metadata": {
    "slideshow": {
     "slide_type": "slide"
    }
   },
   "source": [
    "Este código se llama andamiaje porque es útil para construir el programa pero no es parte del producto final."
   ]
  },
  {
   "cell_type": "markdown",
   "id": "28ed34bc",
   "metadata": {
    "slideshow": {
     "slide_type": "slide"
    }
   },
   "source": [
    "De nuevo querremos ejecutar el programa en este estado y comprobar la salida (que debería dar 25)."
   ]
  },
  {
   "cell_type": "markdown",
   "id": "8131f0a8",
   "metadata": {
    "slideshow": {
     "slide_type": "slide"
    }
   },
   "source": [
    "Por último, si hemos importado el módulo `math`, podemos usar la función `sqrt()` para calcular y devolver el resultado:"
   ]
  },
  {
   "cell_type": "code",
   "execution_count": 26,
   "id": "e1723133",
   "metadata": {
    "slideshow": {
     "slide_type": "slide"
    }
   },
   "outputs": [],
   "source": [
    "import math \n",
    "\n",
    "def distancia(x1, y1, x2, y2):\n",
    "    dx = x2 - x1\n",
    "    dy = y2 - y1\n",
    "    dalcuadrado = dx**2 + dy**2\n",
    "    resultado = math.sqrt(dalcuadrado)\n",
    "    return resultado"
   ]
  },
  {
   "cell_type": "code",
   "execution_count": 27,
   "id": "1515ea84",
   "metadata": {
    "slideshow": {
     "slide_type": "slide"
    }
   },
   "outputs": [
    {
     "data": {
      "text/plain": [
       "5.0"
      ]
     },
     "execution_count": 27,
     "metadata": {},
     "output_type": "execute_result"
    }
   ],
   "source": [
    "distancia(1,2,4,6)"
   ]
  },
  {
   "cell_type": "markdown",
   "id": "74d4b922",
   "metadata": {
    "slideshow": {
     "slide_type": "slide"
    }
   },
   "source": [
    "Si esto funciona correctamente, ha terminado. "
   ]
  },
  {
   "cell_type": "markdown",
   "id": "22c5b4eb",
   "metadata": {
    "slideshow": {
     "slide_type": "slide"
    }
   },
   "source": [
    "Si no, podría ser que quisiera usted imprimir el valor de resultado antes de la sentencia `return` al principio, debería añadir solamente una o dos líneas de código cada vez."
   ]
  },
  {
   "cell_type": "markdown",
   "id": "619d4d8a",
   "metadata": {
    "slideshow": {
     "slide_type": "slide"
    }
   },
   "source": [
    "Conforme vaya ganando experiencia, puede que se encuentre escribiendo y depurando trozos mayores. "
   ]
  },
  {
   "cell_type": "markdown",
   "id": "4b31d93e",
   "metadata": {
    "slideshow": {
     "slide_type": "slide"
    }
   },
   "source": [
    "Sin embargo, el proceso de **desarrollo incremental** puede ahorrarle mucho tiempo de depurado."
   ]
  },
  {
   "cell_type": "markdown",
   "id": "a229789f",
   "metadata": {
    "slideshow": {
     "slide_type": "slide"
    }
   },
   "source": [
    "Los aspectos fundamentales del proceso son: \n",
    "\n",
    "1. Comience con un programa que funcione y hágale pequeños cambios incrementales. Si hay un \n",
    "   error, sabrá exactamente dónde está.\n",
    "2. Use variables temporales para mantener valores intermedios, de tal manera que pueda mostrarlos \n",
    "   por pantalla y comprobarlos.\n",
    "3. Una vez que el programa esté funcionando, tal vez prefiera eliminar parte del andamiaje o \n",
    "   aglutinar múltiples sentencias en expresiones compuestas, pero sólo si eso **no** hace que el \n",
    "   programa sea difícil de leer."
   ]
  },
  {
   "cell_type": "markdown",
   "id": "eb15eb8a",
   "metadata": {
    "slideshow": {
     "slide_type": "slide"
    }
   },
   "source": [
    "## Tarea: "
   ]
  },
  {
   "cell_type": "markdown",
   "id": "2ee4c5bf",
   "metadata": {
    "slideshow": {
     "slide_type": "slide"
    }
   },
   "source": [
    "Como actividad, utilice **el desarrollo incremental** para escribir una función de nombre hipotenusa que devuelva la longitud de la hipotenusa de un triángulo rectángulo, dando como parámetros los dos\n",
    "catetos. "
   ]
  },
  {
   "cell_type": "markdown",
   "id": "2e8edebe",
   "metadata": {
    "slideshow": {
     "slide_type": "slide"
    }
   },
   "source": [
    "Registre cada estado del desarrollo incremental según vaya avanzando."
   ]
  },
  {
   "cell_type": "markdown",
   "id": "1d08d512",
   "metadata": {},
   "source": [
    "## Solución:"
   ]
  },
  {
   "cell_type": "code",
   "execution_count": 35,
   "id": "0f42e61f",
   "metadata": {
    "slideshow": {
     "slide_type": "slide"
    }
   },
   "outputs": [],
   "source": [
    "def hipotenusa(c1,c2):\n",
    "    suma_de_cuadrados = c1**2 + c2**2\n",
    "    resultado = suma_de_cuadrados**(1/2)\n",
    "    return resultado"
   ]
  },
  {
   "cell_type": "code",
   "execution_count": 36,
   "id": "0c7ba1a6",
   "metadata": {
    "slideshow": {
     "slide_type": "slide"
    }
   },
   "outputs": [
    {
     "data": {
      "text/plain": [
       "5.0"
      ]
     },
     "execution_count": 36,
     "metadata": {},
     "output_type": "execute_result"
    }
   ],
   "source": [
    "hipotenusa(3,4) "
   ]
  },
  {
   "cell_type": "markdown",
   "id": "37b0a278",
   "metadata": {
    "slideshow": {
     "slide_type": "slide"
    }
   },
   "source": [
    "## 5.3. Composición  "
   ]
  },
  {
   "cell_type": "markdown",
   "id": "830dd496",
   "metadata": {
    "slideshow": {
     "slide_type": "slide"
    }
   },
   "source": [
    "### [Video de apoyo a la lectura de la composición de funciones]() "
   ]
  },
  {
   "cell_type": "markdown",
   "id": "1dbf9723",
   "metadata": {
    "slideshow": {
     "slide_type": "slide"
    }
   },
   "source": [
    "Como seguramente a estas alturas ya supondrá, se puede llamar a una función desde dentro de otra."
   ]
  },
  {
   "cell_type": "markdown",
   "id": "cefa1df9",
   "metadata": {
    "slideshow": {
     "slide_type": "slide"
    }
   },
   "source": [
    "Esta habilidad se llama composición."
   ]
  },
  {
   "cell_type": "markdown",
   "id": "3940e841",
   "metadata": {
    "slideshow": {
     "slide_type": "slide"
    }
   },
   "source": [
    "Como ejemplo, escribiremos una función que tome dos puntos, el centro del círculo y un punto del perímetro, y calcule el área del círculo."
   ]
  },
  {
   "cell_type": "markdown",
   "id": "4e2ec338",
   "metadata": {
    "slideshow": {
     "slide_type": "slide"
    }
   },
   "source": [
    "Supongamos que el punto central está almacenado en las variables $xc$ e $yc$, y que el punto del perímetro lo está en $xp$ e $yp$. "
   ]
  },
  {
   "cell_type": "markdown",
   "id": "a99471cf",
   "metadata": {
    "slideshow": {
     "slide_type": "slide"
    }
   },
   "source": [
    "El primer paso es hallar el radio del c´ırculo, que es la distancia entre los dos puntos. Afortunadamente hay una funci´on, distancia, que realiza esta tarea:\n",
    "\n",
    "$$ radio = distancia(xc, yc, xp, yp) $$"
   ]
  },
  {
   "cell_type": "markdown",
   "id": "598a30f4",
   "metadata": {
    "slideshow": {
     "slide_type": "slide"
    }
   },
   "source": [
    "El segundo paso es encontrar el área de un círculo con ese radio y devolverla:"
   ]
  },
  {
   "cell_type": "markdown",
   "id": "e9b8aca6",
   "metadata": {
    "slideshow": {
     "slide_type": "slide"
    }
   },
   "source": [
    "```python\n",
    "resultado = area(radio)\n",
    "return resultado\n",
    "```"
   ]
  },
  {
   "cell_type": "markdown",
   "id": "436e25f3",
   "metadata": {
    "slideshow": {
     "slide_type": "slide"
    }
   },
   "source": [
    "Envolviendo todo esto en una función, obtenemos:"
   ]
  },
  {
   "cell_type": "code",
   "execution_count": null,
   "id": "a5902143",
   "metadata": {
    "slideshow": {
     "slide_type": "slide"
    }
   },
   "outputs": [],
   "source": [
    "def area2(xc, yc, xp, yp):\n",
    "    radio = distancia(xc, yc, xp, yp)\n",
    "    resultado = area(radio)\n",
    "    return resultado"
   ]
  },
  {
   "cell_type": "markdown",
   "id": "8e9fd6be",
   "metadata": {
    "slideshow": {
     "slide_type": "slide"
    }
   },
   "source": [
    "Hemos llamado a esta función `area2()` para distinguirla de la función `area()` definida\n",
    "anteriormente. "
   ]
  },
  {
   "cell_type": "markdown",
   "id": "6ea993d9",
   "metadata": {
    "slideshow": {
     "slide_type": "slide"
    }
   },
   "source": [
    "Sólo puede haber una única función con un determinado nombre dentro de un módulo."
   ]
  },
  {
   "cell_type": "markdown",
   "id": "bbec0093",
   "metadata": {
    "slideshow": {
     "slide_type": "slide"
    }
   },
   "source": [
    "Las variables temporales radio y area son útiles para el desarrollo y el depurado, pero una vez que el programa está funcionando, podemos hacerlo más conciso integrando las llamadas a las funciones en una sola línea:"
   ]
  },
  {
   "cell_type": "code",
   "execution_count": null,
   "id": "482ec9b3",
   "metadata": {
    "slideshow": {
     "slide_type": "slide"
    }
   },
   "outputs": [],
   "source": [
    "def area2(xc, yc, xp, yp):\n",
    "    return area(distancia(xc, yc, xp, yp))"
   ]
  },
  {
   "cell_type": "markdown",
   "id": "4e0e7750",
   "metadata": {
    "slideshow": {
     "slide_type": "slide"
    }
   },
   "source": [
    "## Tarea"
   ]
  },
  {
   "cell_type": "markdown",
   "id": "d13c8b05",
   "metadata": {
    "slideshow": {
     "slide_type": "slide"
    }
   },
   "source": [
    "Como actividad, escriba una función `pendiente(x1, y1, x2, y2)` que devuelva la pendiente de la línea que atraviesa los puntos `(x1, y1)` y `(x2, y2)`. "
   ]
  },
  {
   "cell_type": "markdown",
   "id": "01b2a76b",
   "metadata": {
    "slideshow": {
     "slide_type": "slide"
    }
   },
   "source": [
    "Luego use esta función en una función que se llame `intercepta(x1, y1, x2, y2)` que devuelva la ecuación de la línea recta a través de los puntos $(x1, y1)$ y $(x2, y2)$."
   ]
  },
  {
   "cell_type": "markdown",
   "id": "1d5b1eae",
   "metadata": {
    "slideshow": {
     "slide_type": "slide"
    }
   },
   "source": [
    "## 5.4. Funciones booleanas"
   ]
  },
  {
   "cell_type": "markdown",
   "id": "81211c8b",
   "metadata": {
    "slideshow": {
     "slide_type": "slide"
    }
   },
   "source": [
    "Las funciones pueden devolver valores booleanos, lo que a menudo es conveniente\n",
    "para ocultar complicadas comprobaciones dentro de funciones. Por ejemplo:"
   ]
  },
  {
   "cell_type": "code",
   "execution_count": null,
   "id": "91dc56e1",
   "metadata": {
    "slideshow": {
     "slide_type": "slide"
    }
   },
   "outputs": [],
   "source": [
    "def es_divisible(x, y):\n",
    "    if x % y == 0:\n",
    "        return 1       # es verdadero\n",
    "    else:\n",
    "        return 0       # es falso "
   ]
  },
  {
   "cell_type": "markdown",
   "id": "85887f1d",
   "metadata": {
    "slideshow": {
     "slide_type": "slide"
    }
   },
   "source": [
    "La función lleva por nombre `es_divisible`. "
   ]
  },
  {
   "cell_type": "markdown",
   "id": "badd4287",
   "metadata": {
    "slideshow": {
     "slide_type": "slide"
    }
   },
   "source": [
    "Es habitual dar a las funciones booleanas nombres que suenan como preguntas sí/no. "
   ]
  },
  {
   "cell_type": "markdown",
   "id": "79a03a37",
   "metadata": {
    "slideshow": {
     "slide_type": "slide"
    }
   },
   "source": [
    "Devuelve 1 ó 0 para indicar si la x es o no divisibelo por y."
   ]
  },
  {
   "cell_type": "markdown",
   "id": "341bc12c",
   "metadata": {
    "slideshow": {
     "slide_type": "slide"
    }
   },
   "source": [
    "Podemos reducir el tamaño de la función aprovechándonos del hecho de que la sentencia condicional que hay después del `if` es en sí misma una expresión booleana. "
   ]
  },
  {
   "cell_type": "markdown",
   "id": "f321b644",
   "metadata": {
    "slideshow": {
     "slide_type": "slide"
    }
   },
   "source": [
    "Podemos devolverla directamente, evitando a la vez la sentencia `if`:"
   ]
  },
  {
   "cell_type": "code",
   "execution_count": null,
   "id": "822f970b",
   "metadata": {
    "slideshow": {
     "slide_type": "slide"
    }
   },
   "outputs": [],
   "source": [
    "def es_divisible(x, y):\n",
    "    return x % y == 0"
   ]
  },
  {
   "cell_type": "markdown",
   "id": "a287b0bc",
   "metadata": {
    "slideshow": {
     "slide_type": "slide"
    }
   },
   "source": [
    "La siguiente sesión muestra a la nueva función en acción:"
   ]
  },
  {
   "cell_type": "code",
   "execution_count": null,
   "id": "cf4296b8",
   "metadata": {
    "slideshow": {
     "slide_type": "slide"
    }
   },
   "outputs": [],
   "source": [
    "es_divisible(6, 4)"
   ]
  },
  {
   "cell_type": "code",
   "execution_count": null,
   "id": "ae729963",
   "metadata": {
    "slideshow": {
     "slide_type": "slide"
    }
   },
   "outputs": [],
   "source": [
    "es_divisible(6, 3)"
   ]
  },
  {
   "cell_type": "markdown",
   "id": "2624df95",
   "metadata": {
    "slideshow": {
     "slide_type": "slide"
    }
   },
   "source": [
    "El uso más común para las funciones booleanas es dentro de sentencias condicionales:"
   ]
  },
  {
   "cell_type": "code",
   "execution_count": null,
   "id": "8dd9bc3c",
   "metadata": {
    "slideshow": {
     "slide_type": "slide"
    }
   },
   "outputs": [],
   "source": [
    "x,y = 6,3\n",
    "if es_divisible(x, y):\n",
    "    print(\"x es divisible entre y\")\n",
    "else:\n",
    "    print(\"x no es divisible entre y\") "
   ]
  },
  {
   "cell_type": "markdown",
   "id": "5759d015",
   "metadata": {
    "slideshow": {
     "slide_type": "slide"
    }
   },
   "source": [
    "Puede parecer tentador escribir algo como:"
   ]
  },
  {
   "cell_type": "code",
   "execution_count": null,
   "id": "f2c6966e",
   "metadata": {
    "slideshow": {
     "slide_type": "slide"
    }
   },
   "outputs": [],
   "source": [
    "if es_divisible(x, y) == 1:\n",
    "    pass "
   ]
  },
  {
   "cell_type": "markdown",
   "id": "b0d74a45",
   "metadata": {
    "slideshow": {
     "slide_type": "slide"
    }
   },
   "source": [
    "Pero la comparación extra es innecesaria."
   ]
  },
  {
   "cell_type": "markdown",
   "id": "8556e9de",
   "metadata": {
    "slideshow": {
     "slide_type": "slide"
    }
   },
   "source": [
    "## Tarea: "
   ]
  },
  {
   "cell_type": "markdown",
   "id": "fe5116ad",
   "metadata": {
    "slideshow": {
     "slide_type": "slide"
    }
   },
   "source": [
    "Como actividad, escriba una función `estaEntre(x, y, z)` que devuelva 1 en caso de que `y <= x <= z` y que devuelva 0 en cualquier otro caso."
   ]
  },
  {
   "cell_type": "markdown",
   "id": "e0f15e97",
   "metadata": {
    "slideshow": {
     "slide_type": "slide"
    }
   },
   "source": [
    "## 5.5. Más recursividad"
   ]
  },
  {
   "cell_type": "markdown",
   "id": "c0a25e4f",
   "metadata": {
    "slideshow": {
     "slide_type": "slide"
    }
   },
   "source": [
    "Hasta ahora, usted ha aprendido solamente un pequeño subconjunto de Python, pero puede que le interese saber que ese subconjunto es ya un lenguaje de programación completo; con esto queremos decir que cualquier cosa que pueda computarse se puede expresar en este lenguaje. "
   ]
  },
  {
   "cell_type": "markdown",
   "id": "d9998c5f",
   "metadata": {
    "slideshow": {
     "slide_type": "slide"
    }
   },
   "source": [
    "Cualquier programa que se haya escrito alguna vez puede reescribirse utilizando únicamente las características del lenguaje que ha aprendido hasta el momento (de hecho, necesitaría algunas\n",
    "órdenes para controlar dispositivos como el teclado, el ratón, los discos, etc, pero eso es todo)."
   ]
  },
  {
   "cell_type": "markdown",
   "id": "e642609b",
   "metadata": {
    "slideshow": {
     "slide_type": "slide"
    }
   },
   "source": [
    "Probar tal afirmación es un ejercicio nada trivial, completado por primera vez por Alan Turing, uno de los primeros científicos informáticos (algunos argumentarán que era un matemático, pero muchos de los científicos informáticos pioneros comenzaron como matemáticos). "
   ]
  },
  {
   "cell_type": "markdown",
   "id": "32b6511e",
   "metadata": {
    "slideshow": {
     "slide_type": "slide"
    }
   },
   "source": [
    "En correspondencia, se la conoce como la tesis de Turing. "
   ]
  },
  {
   "cell_type": "markdown",
   "id": "8c3c26f6",
   "metadata": {
    "slideshow": {
     "slide_type": "slide"
    }
   },
   "source": [
    "Si estudia un curso de Teoría de la Computación, tendrá oportunidad de ver la prueba."
   ]
  },
  {
   "cell_type": "markdown",
   "id": "1af462df",
   "metadata": {
    "slideshow": {
     "slide_type": "slide"
    }
   },
   "source": [
    "Para darle una idea de lo que puede hacer con las herramientas que ha aprendido hasta ahora, evaluaremos una serie de funciones matem´aticas que se definen recursivamente. "
   ]
  },
  {
   "cell_type": "markdown",
   "id": "d1540338",
   "metadata": {
    "slideshow": {
     "slide_type": "slide"
    }
   },
   "source": [
    "Una **definición recursiva** es semejante a una **definición circular**, en el sentido de que la definición contiene una referencia a lo que se define. "
   ]
  },
  {
   "cell_type": "markdown",
   "id": "b1998900",
   "metadata": {
    "slideshow": {
     "slide_type": "slide"
    }
   },
   "source": [
    "Una definición verdaderamente circular no es muy util:  \n",
    "´\n",
    "**frangoso:** adjetivo que describe algo que es frangoso.  \n",
    "\n",
    "Si usted viera esa definición en el diccionario, se quedaría confuso. "
   ]
  },
  {
   "cell_type": "markdown",
   "id": "fddfb147",
   "metadata": {
    "slideshow": {
     "slide_type": "slide"
    }
   },
   "source": [
    "Por otra parte, si ha buscado la definición de la función matemática factorial, habrá visto algo\n",
    "sejemante a lo siguiente:"
   ]
  },
  {
   "cell_type": "markdown",
   "id": "b169c2c2",
   "metadata": {
    "slideshow": {
     "slide_type": "slide"
    }
   },
   "source": [
    "\\begin{align*}\n",
    "0! & = 1 \\\\\n",
    "n! & = n · (n − 1)!\n",
    "\\end{align*}"
   ]
  },
  {
   "cell_type": "markdown",
   "id": "e4a19ab0",
   "metadata": {
    "slideshow": {
     "slide_type": "slide"
    }
   },
   "source": [
    "Esta definición establece que el factoral de $0$ es $1$, y que el factorial de cualquier otro valor, $n$, es $n$ multiplicado por el factorial de $n − 1$."
   ]
  },
  {
   "cell_type": "markdown",
   "id": "864045b2",
   "metadata": {
    "slideshow": {
     "slide_type": "slide"
    }
   },
   "source": [
    "Así pues, 3! es 3 veces 2!, que es 2 veces 1!, que es una vez 0!. "
   ]
  },
  {
   "cell_type": "markdown",
   "id": "e6fe1e34",
   "metadata": {
    "slideshow": {
     "slide_type": "slide"
    }
   },
   "source": [
    "Juntándolos todos, , 3! es igual a 3 veces 2 veces 1 vez 1, que es 6."
   ]
  },
  {
   "cell_type": "markdown",
   "id": "432ca8c7",
   "metadata": {
    "slideshow": {
     "slide_type": "slide"
    }
   },
   "source": [
    "Si puede escribir una definición recursiva de algo, normalmente podrá escribir un programa de Python para evaluarlo. "
   ]
  },
  {
   "cell_type": "markdown",
   "id": "4f9b62f7",
   "metadata": {
    "slideshow": {
     "slide_type": "slide"
    }
   },
   "source": [
    "El primer paso es decidir cuáles son los parámetros para esta función. "
   ]
  },
  {
   "cell_type": "markdown",
   "id": "a9335c16",
   "metadata": {
    "slideshow": {
     "slide_type": "slide"
    }
   },
   "source": [
    "Con poco esfuerzo llegará a la conclusión de que factorial toma un único parámetro: "
   ]
  },
  {
   "cell_type": "code",
   "execution_count": null,
   "id": "f0a116a0",
   "metadata": {
    "slideshow": {
     "slide_type": "slide"
    }
   },
   "outputs": [],
   "source": [
    "def factorial(n):\n",
    "    pass "
   ]
  },
  {
   "cell_type": "markdown",
   "id": "5f7a671d",
   "metadata": {
    "slideshow": {
     "slide_type": "slide"
    }
   },
   "source": [
    "Si resultase que el argumento fuese 0, todo lo que hemos de hacer es devolver 1:"
   ]
  },
  {
   "cell_type": "code",
   "execution_count": null,
   "id": "64598dbc",
   "metadata": {
    "slideshow": {
     "slide_type": "slide"
    }
   },
   "outputs": [],
   "source": [
    "def factorial(n):\n",
    "    if n == 0:\n",
    "        return 1"
   ]
  },
  {
   "cell_type": "markdown",
   "id": "e9b2f221",
   "metadata": {
    "slideshow": {
     "slide_type": "slide"
    }
   },
   "source": [
    "En otro caso, y he aquí la parte interesante, tenemos que hacer una llamada recursiva para hallar el factorial de $n − 1$ y luego multiplicarlo por $n$:"
   ]
  },
  {
   "cell_type": "code",
   "execution_count": null,
   "id": "33f8d20c",
   "metadata": {
    "slideshow": {
     "slide_type": "slide"
    }
   },
   "outputs": [],
   "source": [
    "def factorial(n):\n",
    "    if n == 0:\n",
    "        return 1\n",
    "    else:\n",
    "        recursivo = factorial(n-1)\n",
    "        resultado = n*recursivo\n",
    "    return resultado"
   ]
  },
  {
   "cell_type": "code",
   "execution_count": null,
   "id": "a6ba7aea",
   "metadata": {
    "slideshow": {
     "slide_type": "slide"
    }
   },
   "outputs": [],
   "source": [
    "factorial(3)"
   ]
  },
  {
   "cell_type": "markdown",
   "id": "533d7925",
   "metadata": {
    "slideshow": {
     "slide_type": "slide"
    }
   },
   "source": [
    "El flujo de ejecución de este programa es similar al de cuenta atras de la Sección 4.9. "
   ]
  },
  {
   "cell_type": "markdown",
   "id": "1093a1fb",
   "metadata": {
    "slideshow": {
     "slide_type": "slide"
    }
   },
   "source": [
    "Si llamamos a factorial con el valor 3:  \n",
    "Puesto que 3 no es 0, tomamos la segunda rama y calculamos el factorial de n-1..."
   ]
  },
  {
   "cell_type": "markdown",
   "id": "2eea8407",
   "metadata": {
    "slideshow": {
     "slide_type": "slide"
    }
   },
   "source": [
    "Puesto que 2 no es 0, tomamos la segunda rama y calculamos el\n",
    "factorial de n-1..."
   ]
  },
  {
   "cell_type": "markdown",
   "id": "523c6804",
   "metadata": {
    "slideshow": {
     "slide_type": "slide"
    }
   },
   "source": [
    "Puesto que 1 no es 0, tomamos la segunda rama y calculamos el factorial de n-1...  \n",
    "Puesto que 0 es 0, tomamos la primera rama y devolvemos el valor 1 sin hacer más llamadas recursivas."
   ]
  },
  {
   "cell_type": "markdown",
   "id": "2bbe7c1e",
   "metadata": {
    "slideshow": {
     "slide_type": "slide"
    }
   },
   "source": [
    "El valor de retorno (1) se multiplica por $n$, que es 1, y se devuelve el resultado."
   ]
  },
  {
   "cell_type": "markdown",
   "id": "2b5e6209",
   "metadata": {
    "slideshow": {
     "slide_type": "slide"
    }
   },
   "source": [
    "El valor de retorno (1) se multiplica por n, que es 2, y se devuelve el resultado."
   ]
  },
  {
   "cell_type": "markdown",
   "id": "456f5bf2",
   "metadata": {
    "slideshow": {
     "slide_type": "slide"
    }
   },
   "source": [
    "El valor de retorno (2) se multiplica por $n$, que es 3, y el resultado 6, se convierte en el valor de retorno de la llamada a la función que comenzó todo el proceso."
   ]
  },
  {
   "cell_type": "markdown",
   "id": "41743414",
   "metadata": {
    "slideshow": {
     "slide_type": "slide"
    }
   },
   "source": [
    "He aquí el aspecto que tiene el diagrama de pila para esta secuencia de llamadas a función:"
   ]
  },
  {
   "cell_type": "markdown",
   "id": "2c610c0b",
   "metadata": {
    "slideshow": {
     "slide_type": "slide"
    }
   },
   "source": [
    "<img src = 'https://github.com/marco-canas/introducci-n-al-Machine-Learning/blob/main/classes/class_3/recursividad.png?raw=true'> "
   ]
  },
  {
   "cell_type": "markdown",
   "id": "4a8482d2",
   "metadata": {
    "slideshow": {
     "slide_type": "slide"
    }
   },
   "source": [
    "Los valores de retorno se muestran según se pasan hacia la parte superior de la pila. "
   ]
  },
  {
   "cell_type": "markdown",
   "id": "c87a712c",
   "metadata": {
    "slideshow": {
     "slide_type": "slide"
    }
   },
   "source": [
    "En cada marco, el valor de retorno es el valor de resultado, que es el producto de $n$ por `recursivo`."
   ]
  },
  {
   "cell_type": "markdown",
   "id": "bf28ba05",
   "metadata": {
    "slideshow": {
     "slide_type": "slide"
    }
   },
   "source": [
    "Nótese que en el último marco las variables locales `recursivo` y `resultado` no\n",
    "existen porque la rama que las crea no se ejecuta."
   ]
  },
  {
   "cell_type": "markdown",
   "id": "55533c66",
   "metadata": {
    "slideshow": {
     "slide_type": "slide"
    }
   },
   "source": [
    "## 5.6. Acto de fe"
   ]
  },
  {
   "cell_type": "markdown",
   "id": "b6cf47b5",
   "metadata": {
    "slideshow": {
     "slide_type": "slide"
    }
   },
   "source": [
    "Seguir el **flujo de ejecución** es una de las maneras de leer programas; pero puede volverse rápidamente una tarea laberíntica. "
   ]
  },
  {
   "cell_type": "markdown",
   "id": "278258b6",
   "metadata": {
    "slideshow": {
     "slide_type": "slide"
    }
   },
   "source": [
    "La alternativa es lo que llamamos el “acto de fe”. "
   ]
  },
  {
   "cell_type": "markdown",
   "id": "e92a41a0",
   "metadata": {
    "slideshow": {
     "slide_type": "slide"
    }
   },
   "source": [
    "Cuando llegamos a una función, en lugar de seguir el flujo de ejecución, damos por sentado que la función trabaja correctamente y devuelve el valor apropiado."
   ]
  },
  {
   "cell_type": "markdown",
   "id": "f319a0c9",
   "metadata": {
    "slideshow": {
     "slide_type": "slide"
    }
   },
   "source": [
    "De hecho, usted ya practica dicho salto de fe cuando usa funciones internas."
   ]
  },
  {
   "cell_type": "markdown",
   "id": "c8675e86",
   "metadata": {
    "slideshow": {
     "slide_type": "slide"
    }
   },
   "source": [
    "Cuando llama a `math.cos()` o a `math.exp()`, no examina la implementación de dichas funciones."
   ]
  },
  {
   "cell_type": "markdown",
   "id": "dcf93bb9",
   "metadata": {
    "slideshow": {
     "slide_type": "slide"
    }
   },
   "source": [
    "Simplemente da por sentado que funcionan porque los que\n",
    "escribieron las bibliotecas internas de Python son buenos programadores.\n",
    "Lo mismo se aplica cuando llama a una de las funciones programadas por usted.\n",
    "Por ejemplo en la Secci´on 5.4, escribimos una funci´on llamada esDivisible\n",
    "que determina si un numero ´ es divisible por otro. Una vez que nos hayamos\n",
    "convencido de que dicha funci´on es correcta, comprobando y examinando el\n",
    "c´odigo, podremos usar la funci´on sin tener siquiera que volver a mirar el c´odigo\n",
    "otra vez."
   ]
  },
  {
   "cell_type": "markdown",
   "id": "dd5a649e",
   "metadata": {
    "slideshow": {
     "slide_type": "slide"
    }
   },
   "source": [
    "Lo mismo vale para los programas recursivos. Cuando llegue a la llamada recur\u0002siva, en lugar de seguir el flujo de ejecuci´on, tendr´ıa que dar por supuesto que\n",
    "la llamada recursiva funciona (es decir, devuelve el resultado correcto) y luego\n",
    "preguntarse: “suponiendo que puedo hallar el factorial de n − 1, ¿puedo hallar\n",
    "el factorial de n?” En este caso, est´a claro que s´ı puede, multiplic´andolo por n.\n",
    "Por supuesto, es un tanto extrano˜ dar por supuesto que la funci´on est´a bien\n",
    "cuando ni siquiera ha acabado de escribirla, pero precisamente por eso se llama\n",
    "acto de fe."
   ]
  },
  {
   "cell_type": "markdown",
   "id": "5aabe528",
   "metadata": {
    "slideshow": {
     "slide_type": "slide"
    }
   },
   "source": [
    "## 5.7. Un ejemplo más"
   ]
  },
  {
   "cell_type": "markdown",
   "id": "03f30e9e",
   "metadata": {
    "slideshow": {
     "slide_type": "slide"
    }
   },
   "source": [
    "En el ejemplo anterior, usamos variables temporales para ir apuntando los re\u0002sultados y para hacer que el c´odigo fuese m´as f´acil de depurar, pero podr´ıamos\n",
    "habernos ahorrado unas cuantas l´ıneas:"
   ]
  },
  {
   "cell_type": "code",
   "execution_count": null,
   "id": "c62c6995",
   "metadata": {
    "slideshow": {
     "slide_type": "slide"
    }
   },
   "outputs": [],
   "source": [
    "def factorial(n):\n",
    "    if n == 0:\n",
    "        return 1\n",
    "    else:\n",
    "        return n * factorial(n-1)"
   ]
  },
  {
   "cell_type": "markdown",
   "id": "17f90dc1",
   "metadata": {
    "slideshow": {
     "slide_type": "slide"
    }
   },
   "source": [
    "De ahora en adelante, tenderemos a usar la versión más concisa, pero le recomendamos que utilice la versión más explícita mientras se halle desarrollando código. "
   ]
  },
  {
   "cell_type": "markdown",
   "id": "49fe21b2",
   "metadata": {
    "slideshow": {
     "slide_type": "slide"
    }
   },
   "source": [
    "Cuando lo tenga funcionando, lo podrá acortar, si se siente inspirado."
   ]
  },
  {
   "cell_type": "markdown",
   "id": "43d63e41",
   "metadata": {
    "slideshow": {
     "slide_type": "slide"
    }
   },
   "source": [
    "Después de factorial, el ejemplo más común de una función matemática recursivamente definida es fibonacci, que presenta la siguiente definición:"
   ]
  },
  {
   "cell_type": "markdown",
   "id": "002937a2",
   "metadata": {
    "slideshow": {
     "slide_type": "slide"
    }
   },
   "source": [
    "fibonacci(0) = 1  \n",
    "fibonacci(1) = 1  \n",
    "fibonacci(n) = fibonacci(n − 1) + fibonacci(n − 2);  "
   ]
  },
  {
   "cell_type": "markdown",
   "id": "f166ea7b",
   "metadata": {
    "slideshow": {
     "slide_type": "slide"
    }
   },
   "source": [
    "Traducido a Python, es como sigue"
   ]
  },
  {
   "cell_type": "code",
   "execution_count": null,
   "id": "b3341acf",
   "metadata": {
    "slideshow": {
     "slide_type": "slide"
    }
   },
   "outputs": [],
   "source": [
    "def fibonacci (n):\n",
    "    if n == 0 or n == 1:\n",
    "        return 1\n",
    "    else:\n",
    "        return fibonacci(n-1) + fibonacci(n-2)"
   ]
  },
  {
   "cell_type": "markdown",
   "id": "8153ac26",
   "metadata": {
    "slideshow": {
     "slide_type": "slide"
    }
   },
   "source": [
    "Si intenta seguir el flujo de ejecución aquí, incluso para valores relativamente pequeños de $n$, le puede dar un dolor de cabeza. "
   ]
  },
  {
   "cell_type": "markdown",
   "id": "dd6d0c47",
   "metadata": {
    "slideshow": {
     "slide_type": "slide"
    }
   },
   "source": [
    "Pero si confiamos en el acto de fe, si da por supuesto que las dos llamadas recursivas funcionan correctamente, entonces estará claro que obtiene el resultado correcto al sumarlas juntas."
   ]
  },
  {
   "cell_type": "markdown",
   "id": "39f3b5d3",
   "metadata": {
    "slideshow": {
     "slide_type": "slide"
    }
   },
   "source": [
    "## 5.8. Comprobación de tipos"
   ]
  },
  {
   "cell_type": "markdown",
   "id": "bea68783",
   "metadata": {
    "slideshow": {
     "slide_type": "slide"
    }
   },
   "source": [
    "¿Qu´e sucede si llamamos a factorial y le damos 1.5 como argumento?"
   ]
  },
  {
   "cell_type": "code",
   "execution_count": null,
   "id": "8540339c",
   "metadata": {
    "slideshow": {
     "slide_type": "slide"
    }
   },
   "outputs": [],
   "source": [
    "factorial (1.5)\n"
   ]
  },
  {
   "cell_type": "markdown",
   "id": "36f2f188",
   "metadata": {
    "slideshow": {
     "slide_type": "slide"
    }
   },
   "source": [
    "Tiene todo el aspecto de una recursión infinita. "
   ]
  },
  {
   "cell_type": "markdown",
   "id": "2569983d",
   "metadata": {
    "slideshow": {
     "slide_type": "slide"
    }
   },
   "source": [
    "Pero, ¿cómo ha podido ocurrir?"
   ]
  },
  {
   "cell_type": "markdown",
   "id": "9d0fc1fc",
   "metadata": {
    "slideshow": {
     "slide_type": "slide"
    }
   },
   "source": [
    "Hay una condición de salida o caso base: cuando `n == 0`. "
   ]
  },
  {
   "cell_type": "markdown",
   "id": "5e02974b",
   "metadata": {
    "slideshow": {
     "slide_type": "slide"
    }
   },
   "source": [
    "El problema es que el valor de $n$ yerra el caso base."
   ]
  },
  {
   "cell_type": "markdown",
   "id": "9e2f79db",
   "metadata": {
    "slideshow": {
     "slide_type": "slide"
    }
   },
   "source": [
    "En la primera llamada recursiva, el valor de n es 0.5. En la siguiente vez su valor\n",
    "es -0.5. A partir de ah´ı, se vuelve m´as y m´as pequeno, ˜ pero nunca ser´a 0.\n",
    "Tenemos dos opciones. Podemos intentar generalizar la funci´on factorial para\n",
    "que trabaje con numeros ´ de coma flotante, o podemos hacer que factorial\n",
    "compruebe el tipo de su par´ametro. La primera opci´on se llama funci´on gamma,\n",
    "y est´a m´as all´a del objetivo de este libro. As´ı pues, tomemos la segunda.\n",
    "Podemos usar la funci´on type para comparar el tipo del par´ametro con el tipo\n",
    "de un valor entero conocido (por ejemplo 1). Ya que estamos en ello, podemos\n",
    "asegurarnos de que el par´ametro sea positivo:"
   ]
  },
  {
   "cell_type": "code",
   "execution_count": null,
   "id": "1aaeacd4",
   "metadata": {
    "slideshow": {
     "slide_type": "slide"
    }
   },
   "outputs": [],
   "source": [
    "def factorial (n):\n",
    "    if type(n) != type(1):\n",
    "        print(\"El factorial está definido sólo para enteros.\")\n",
    "        return -1\n",
    "    elif n < 0:\n",
    "        print(\"El factorial est´a definido s´olo para enteros \\n positivos.\")\n",
    "        return -1\n",
    "    elif n == 0:\n",
    "        return 1\n",
    "    else:\n",
    "        return n * factorial(n-1)"
   ]
  },
  {
   "cell_type": "markdown",
   "id": "c94657a0",
   "metadata": {
    "slideshow": {
     "slide_type": "slide"
    }
   },
   "source": [
    "Ahora tenemos tres condiciones de salida o casos base. "
   ]
  },
  {
   "cell_type": "markdown",
   "id": "d1a0418e",
   "metadata": {
    "slideshow": {
     "slide_type": "slide"
    }
   },
   "source": [
    "El primero filtra los números no enteros. "
   ]
  },
  {
   "cell_type": "markdown",
   "id": "0b77b49a",
   "metadata": {
    "slideshow": {
     "slide_type": "slide"
    }
   },
   "source": [
    "El segundo evita los enteros negativos. "
   ]
  },
  {
   "cell_type": "markdown",
   "id": "c6885c70",
   "metadata": {
    "slideshow": {
     "slide_type": "slide"
    }
   },
   "source": [
    "En ambos casos, se muestra un mensaje de error y se devuelve un valor especial, -1, para indicar a\n",
    "quien hizo la llamada a la función que algo fue mal:"
   ]
  },
  {
   "cell_type": "code",
   "execution_count": null,
   "id": "76be334d",
   "metadata": {
    "slideshow": {
     "slide_type": "slide"
    }
   },
   "outputs": [],
   "source": [
    "factorial (1.5)"
   ]
  },
  {
   "cell_type": "code",
   "execution_count": null,
   "id": "c2fc64ba",
   "metadata": {
    "slideshow": {
     "slide_type": "slide"
    }
   },
   "outputs": [],
   "source": [
    "factorial (-2)"
   ]
  },
  {
   "cell_type": "code",
   "execution_count": null,
   "id": "cd74cdf6",
   "metadata": {
    "slideshow": {
     "slide_type": "slide"
    }
   },
   "outputs": [],
   "source": [
    "factorial (\"paco\")"
   ]
  },
  {
   "cell_type": "markdown",
   "id": "156870ac",
   "metadata": {
    "slideshow": {
     "slide_type": "slide"
    }
   },
   "source": []
  },
  {
   "cell_type": "markdown",
   "id": "c0dab093",
   "metadata": {
    "slideshow": {
     "slide_type": "slide"
    }
   },
   "source": [
    "Si pasamos ambas comprobaciones, entonces sabemos que n es un entero positivo y podemos probar que la recursión termina."
   ]
  },
  {
   "cell_type": "markdown",
   "id": "312de53c",
   "metadata": {
    "slideshow": {
     "slide_type": "slide"
    }
   },
   "source": [
    "Este programa muestra un patrón que se llama a veces guardián. "
   ]
  },
  {
   "cell_type": "markdown",
   "id": "7a5ad8e2",
   "metadata": {
    "slideshow": {
     "slide_type": "slide"
    }
   },
   "source": [
    "Las primeras dos condicionales actúan como guardianes, protegiendo al código que sigue de los valores que pudieran causar errores. "
   ]
  },
  {
   "cell_type": "markdown",
   "id": "ea9ba92c",
   "metadata": {
    "slideshow": {
     "slide_type": "slide"
    }
   },
   "source": [
    "Los guardianes hacen posible demostrar la corrección del código."
   ]
  },
  {
   "cell_type": "markdown",
   "id": "c5f96072",
   "metadata": {
    "slideshow": {
     "slide_type": "slide"
    }
   },
   "source": [
    "## 5.9. Glosario"
   ]
  },
  {
   "cell_type": "markdown",
   "id": "a17a8fc6",
   "metadata": {
    "slideshow": {
     "slide_type": "slide"
    }
   },
   "source": [
    "* **función productiva:** Funci´on que devuelve un valor de retorno."
   ]
  },
  {
   "cell_type": "markdown",
   "id": "cbf7af0d",
   "metadata": {
    "slideshow": {
     "slide_type": "slide"
    }
   },
   "source": [
    "valor de retorno: El valor obtenido como resultado de una llamada a una\n",
    "funci´on.\n",
    "variable temporal: Variable utilizada para almacenar un valor intermedio en\n",
    "un c´alculo complejo.\n",
    "c´odigo muerto: Parte de un programa que no podr´a ejecutarse nunca, a me\u0002nudo debido a que aparece tras una sentencia de return.\n",
    "None: Valor especial de Python que devuelven funciones que o bien no tienen\n",
    "sentencia de return o bien tienen una sentencia de return sin argumento.\n",
    "desarrollo incremental: Un m´etodo de desarrollo de programas que busca\n",
    "evitar el depurado anadiendo ˜ y probando una pequena˜ cantidad de c´odigo\n",
    "en cada paso.\n",
    "andamiaje: El c´odigo que se usa durante el desarrollo del programa pero que\n",
    "no es parte de la versi´on final"
   ]
  },
  {
   "cell_type": "markdown",
   "id": "bf2fbd27",
   "metadata": {
    "slideshow": {
     "slide_type": "slide"
    }
   },
   "source": [
    "**guardián:** Una condición que comprueba y maneja circunstancias que pudieran provocar un error"
   ]
  },
  {
   "cell_type": "code",
   "execution_count": null,
   "id": "052459d2",
   "metadata": {
    "slideshow": {
     "slide_type": "skip"
    }
   },
   "outputs": [],
   "source": []
  },
  {
   "cell_type": "markdown",
   "id": "5254b3ef",
   "metadata": {
    "slideshow": {
     "slide_type": "slide"
    }
   },
   "source": [
    "# 1.3 Estructuras de datos básicas  según Calderon"
   ]
  },
  {
   "cell_type": "markdown",
   "id": "fdc8b2b4",
   "metadata": {
    "slideshow": {
     "slide_type": "slide"
    }
   },
   "source": [
    "Una forma más adecuada de almacenar la información es a través de \n",
    "* listas, \n",
    "* “tuplas” y \n",
    "* diccionarios.\n",
    "\n",
    "En ellos, la variable se compone de un conjunto ordenado de datos. Para \n",
    "crear estas estructuras se debe dar nombre a una variable, utilizar el operador de \n",
    "declaración igual (`=`) y dependiendo de si se usan paréntesis, corchetes o llaves se puede\n",
    "crear:"
   ]
  },
  {
   "cell_type": "markdown",
   "id": "6968a366",
   "metadata": {
    "slideshow": {
     "slide_type": "slide"
    }
   },
   "source": [
    "## 1.3.1 Listas"
   ]
  },
  {
   "cell_type": "markdown",
   "id": "8fa225b8",
   "metadata": {
    "slideshow": {
     "slide_type": "slide"
    }
   },
   "source": [
    "Una “`list`” (lista) es un conjunto de datos que pueden ser de diferente tipo, es decir, que \n",
    "puede contener \n",
    "* números enteros, \n",
    "* decimales, \n",
    "* caracteres, \n",
    "* valores booleanos entre otros, \n",
    "\n",
    "cuyos elementos **son modificables o mutables** y que se encuentran indexados, es decir \n",
    "que los datos se enumeran comenzando desde 0. Para crear listas se usan corchetes (`[ ]`)."
   ]
  },
  {
   "cell_type": "code",
   "execution_count": null,
   "id": "234a48dc",
   "metadata": {
    "slideshow": {
     "slide_type": "slide"
    }
   },
   "outputs": [],
   "source": [
    "lista = [513, 0.25, \"Marco\", 'Julio', True, False]  "
   ]
  },
  {
   "cell_type": "code",
   "execution_count": null,
   "id": "e233c8ae",
   "metadata": {
    "slideshow": {
     "slide_type": "slide"
    }
   },
   "outputs": [],
   "source": [
    "lista"
   ]
  },
  {
   "cell_type": "code",
   "execution_count": null,
   "id": "edb20228",
   "metadata": {
    "slideshow": {
     "slide_type": "slide"
    }
   },
   "outputs": [],
   "source": [
    "lista[0] "
   ]
  },
  {
   "cell_type": "code",
   "execution_count": null,
   "id": "5f104778",
   "metadata": {
    "slideshow": {
     "slide_type": "slide"
    }
   },
   "outputs": [],
   "source": [
    "lista[0] = 500"
   ]
  },
  {
   "cell_type": "code",
   "execution_count": null,
   "id": "37fe5280",
   "metadata": {
    "slideshow": {
     "slide_type": "slide"
    }
   },
   "outputs": [],
   "source": [
    "print(lista)"
   ]
  },
  {
   "cell_type": "code",
   "execution_count": null,
   "id": "ea7864f5",
   "metadata": {},
   "outputs": [],
   "source": []
  },
  {
   "cell_type": "markdown",
   "id": "1d4bd498",
   "metadata": {
    "slideshow": {
     "slide_type": "slide"
    }
   },
   "source": [
    "## 1.3.2 Tuplas"
   ]
  },
  {
   "cell_type": "code",
   "execution_count": null,
   "id": "a0aac1d6",
   "metadata": {
    "slideshow": {
     "slide_type": "slide"
    }
   },
   "outputs": [],
   "source": [
    "tupla = (26, 3.8, \"Cañas\", 'Campillo', False, True) "
   ]
  },
  {
   "cell_type": "code",
   "execution_count": null,
   "id": "a510f587",
   "metadata": {},
   "outputs": [],
   "source": [
    "print(tupla) "
   ]
  },
  {
   "cell_type": "code",
   "execution_count": null,
   "id": "89894f1e",
   "metadata": {},
   "outputs": [],
   "source": [
    "tupla[-1] = False   # note que nos aparece error pues es una tupla "
   ]
  },
  {
   "cell_type": "code",
   "execution_count": null,
   "id": "274024c5",
   "metadata": {
    "slideshow": {
     "slide_type": "slide"
    }
   },
   "outputs": [],
   "source": [
    "lista_de_tuplas = [(1,2),('a', 'b')]"
   ]
  },
  {
   "cell_type": "code",
   "execution_count": null,
   "id": "6f80308a",
   "metadata": {
    "slideshow": {
     "slide_type": "slide"
    }
   },
   "outputs": [],
   "source": [
    "lista_de_tuplas[0][1]"
   ]
  },
  {
   "cell_type": "markdown",
   "id": "48448ed2",
   "metadata": {
    "slideshow": {
     "slide_type": "slide"
    }
   },
   "source": [
    "En esta estructura, los datos se separan por comas y se encuentran entre paréntesis. "
   ]
  },
  {
   "cell_type": "markdown",
   "id": "c32ca65d",
   "metadata": {
    "slideshow": {
     "slide_type": "slide"
    }
   },
   "source": [
    "Las tuplas se caracterizan porque no se pueden modificar, **son inmutables**. "
   ]
  },
  {
   "cell_type": "markdown",
   "id": "15bbee1b",
   "metadata": {
    "slideshow": {
     "slide_type": "slide"
    }
   },
   "source": [
    "Es decir, no se puede añadir, quitar datos ni modificar los que contiene, por la vía del operador de asignación."
   ]
  },
  {
   "cell_type": "markdown",
   "id": "befe52e9",
   "metadata": {
    "slideshow": {
     "slide_type": "slide"
    }
   },
   "source": [
    "Sin embargo, se pueden extraer partes de las tuplas para crear nuevas tuplas o reemplazarlas con otra tupla. "
   ]
  },
  {
   "cell_type": "markdown",
   "id": "e62b4e15",
   "metadata": {
    "slideshow": {
     "slide_type": "slide"
    }
   },
   "source": [
    "Las tuplas también están indexadas y además puede  contener objetos mutables, por lo que puede existir una lista inmersa en una tupla."
   ]
  },
  {
   "cell_type": "code",
   "execution_count": null,
   "id": "b5200c11",
   "metadata": {
    "slideshow": {
     "slide_type": "slide"
    }
   },
   "outputs": [],
   "source": [
    "datos1 = [1,2,3]\n",
    "datos2 = (4,5,6)\n",
    "print(type(datos1))\n",
    "print(type(datos2))"
   ]
  },
  {
   "cell_type": "markdown",
   "id": "01da80d6",
   "metadata": {
    "slideshow": {
     "slide_type": "slide"
    }
   },
   "source": [
    "## 1.3.3 Diccionarios"
   ]
  },
  {
   "cell_type": "code",
   "execution_count": null,
   "id": "5a345656",
   "metadata": {},
   "outputs": [],
   "source": []
  },
  {
   "cell_type": "markdown",
   "id": "5f978c8f",
   "metadata": {
    "slideshow": {
     "slide_type": "slide"
    }
   },
   "source": [
    "Un “dict” (diccionario), es considerado en otros lenguajes como arreglos asociativos. "
   ]
  },
  {
   "cell_type": "markdown",
   "id": "f4ba0ecf",
   "metadata": {
    "slideshow": {
     "slide_type": "slide"
    }
   },
   "source": [
    "En lugar de estar indexados por números, los diccionarios se indexan por medio de “keys”\n",
    "(llaves) que comprenden tipos inmutables como caracteres o números (Python Software Foundation, 2019)"
   ]
  },
  {
   "cell_type": "code",
   "execution_count": null,
   "id": "14beba8d",
   "metadata": {
    "slideshow": {
     "slide_type": "slide"
    }
   },
   "outputs": [],
   "source": [
    "altura = {'diego':1.83, 'diana':1.76, 'andrés':1.74}"
   ]
  },
  {
   "cell_type": "code",
   "execution_count": null,
   "id": "81cecdd9",
   "metadata": {
    "slideshow": {
     "slide_type": "slide"
    }
   },
   "outputs": [],
   "source": [
    "type(altura) "
   ]
  },
  {
   "cell_type": "code",
   "execution_count": null,
   "id": "8d40842f",
   "metadata": {
    "slideshow": {
     "slide_type": "slide"
    }
   },
   "outputs": [],
   "source": [
    "altura['diego']"
   ]
  },
  {
   "cell_type": "markdown",
   "id": "99f38f09",
   "metadata": {
    "slideshow": {
     "slide_type": "slide"
    }
   },
   "source": [
    "## 1.4 La función input"
   ]
  },
  {
   "cell_type": "markdown",
   "id": "434ffae7",
   "metadata": {
    "slideshow": {
     "slide_type": "slide"
    }
   },
   "source": [
    "En el aprendizaje de la programación se trabaja con información o entradas provenientes de un usuario. "
   ]
  },
  {
   "cell_type": "markdown",
   "id": "328a0fc9",
   "metadata": {
    "slideshow": {
     "slide_type": "slide"
    }
   },
   "source": [
    "El usuario ingresa un dato o valor, posteriormente un código lo captura y lo utiliza dentro de una función para arrojar un resultado."
   ]
  },
  {
   "cell_type": "markdown",
   "id": "792c27fa",
   "metadata": {
    "slideshow": {
     "slide_type": "slide"
    }
   },
   "source": [
    "La función “`input`” permite que el usuario ingrese una entrada al programa, la cual siempre \n",
    "será guardada como tipo carácter. "
   ]
  },
  {
   "cell_type": "markdown",
   "id": "e6050e7a",
   "metadata": {
    "slideshow": {
     "slide_type": "slide"
    }
   },
   "source": [
    "En caso de querer usarlo como dato de tipo numérico se debe \n",
    "\n",
    "* utilizar la función “`int`” aplicada a la entrada para convertirlo en un dato de tipo entero o de \n",
    "* usar la función “`float`” se convertiría en flotante. "
   ]
  },
  {
   "cell_type": "markdown",
   "id": "9691db31",
   "metadata": {
    "slideshow": {
     "slide_type": "slide"
    }
   },
   "source": [
    "* Un dato puede convertirse a tipo carácter usando la función “`str()`”."
   ]
  },
  {
   "cell_type": "markdown",
   "id": "fea47a0f",
   "metadata": {
    "slideshow": {
     "slide_type": "slide"
    }
   },
   "source": [
    "Es conveniente guardar la información que el usuario va a ingresar en una variable para manipularla posteriormente. "
   ]
  },
  {
   "cell_type": "markdown",
   "id": "5eb22b8b",
   "metadata": {
    "slideshow": {
     "slide_type": "slide"
    }
   },
   "source": [
    "La función “`input`” abre un cuadro de texto en el que el usuario podrá ingresar datos."
   ]
  },
  {
   "cell_type": "code",
   "execution_count": null,
   "id": "a317f0eb",
   "metadata": {
    "slideshow": {
     "slide_type": "slide"
    }
   },
   "outputs": [],
   "source": [
    "edad = float(input('entre la edad: ')) "
   ]
  },
  {
   "cell_type": "code",
   "execution_count": null,
   "id": "2d7d415d",
   "metadata": {
    "slideshow": {
     "slide_type": "slide"
    }
   },
   "outputs": [],
   "source": [
    "print(edad*2)"
   ]
  },
  {
   "cell_type": "code",
   "execution_count": null,
   "id": "4fa7819e",
   "metadata": {},
   "outputs": [],
   "source": [
    "print(edad)"
   ]
  },
  {
   "cell_type": "code",
   "execution_count": null,
   "id": "03700939",
   "metadata": {},
   "outputs": [],
   "source": [
    "type(edad) "
   ]
  },
  {
   "cell_type": "markdown",
   "id": "29203964",
   "metadata": {
    "slideshow": {
     "slide_type": "slide"
    }
   },
   "source": [
    "### Ejemplo de la función “`Input`”"
   ]
  },
  {
   "cell_type": "code",
   "execution_count": null,
   "id": "1650386f",
   "metadata": {
    "slideshow": {
     "slide_type": "slide"
    }
   },
   "outputs": [],
   "source": [
    "a = input('Escriba su nombre: ')\n",
    "print('Su nombre es: ', a) "
   ]
  },
  {
   "cell_type": "code",
   "execution_count": null,
   "id": "4f9ed1ce",
   "metadata": {
    "slideshow": {
     "slide_type": "slide"
    }
   },
   "outputs": [],
   "source": [
    "print('Tengo 10 productos')\n",
    "a = int(input('Entre el número de productos que usted tiene: '))\n",
    "print('Tenemos ', 10+a, ' productos') "
   ]
  },
  {
   "cell_type": "markdown",
   "id": "0897d997",
   "metadata": {
    "slideshow": {
     "slide_type": "slide"
    }
   },
   "source": [
    "## 1.5 Otras funciones matemáticas"
   ]
  },
  {
   "cell_type": "markdown",
   "id": "ff2bd9a8",
   "metadata": {
    "slideshow": {
     "slide_type": "slide"
    }
   },
   "source": [
    "Antes de realizar otras operaciones matemáticas más complejas es necesario entender que Python puede cargar módulos, que son partes de software con funcionalidades específicas. "
   ]
  },
  {
   "cell_type": "markdown",
   "id": "f86528c1",
   "metadata": {
    "slideshow": {
     "slide_type": "slide"
    }
   },
   "source": [
    "Los módulos de Python suelen contener funciones, clases o variables definidas e implementadas (Learn Python Org., 2019)."
   ]
  },
  {
   "cell_type": "markdown",
   "id": "8be48cb1",
   "metadata": {
    "slideshow": {
     "slide_type": "slide"
    }
   },
   "source": [
    "Uno de estos módulos es el “`math`”, con el cual se pueden aplicar \n",
    "\n",
    "* funciones trigonométricas, \n",
    "* hiperbólicas, \n",
    "* logarítmicas entre otras. "
   ]
  },
  {
   "cell_type": "markdown",
   "id": "10554326",
   "metadata": {
    "slideshow": {
     "slide_type": "slide"
    }
   },
   "source": [
    "Para hacer uso de este módulo primero debe ser importado utilizando la declaración “`import`“ que permite acceder al código de otros módulos. "
   ]
  },
  {
   "cell_type": "markdown",
   "id": "2125d124",
   "metadata": {
    "slideshow": {
     "slide_type": "slide"
    }
   },
   "source": [
    "Se escribe posteriormente otra declaración llamada `as` para instar el módulo con otro nombre de modo que sea más sencillo llamarlo, esto proviene realmente de que Python soporta programación orientada a objetos."
   ]
  },
  {
   "cell_type": "code",
   "execution_count": null,
   "id": "5e67a5bb",
   "metadata": {
    "slideshow": {
     "slide_type": "slide"
    }
   },
   "outputs": [],
   "source": [
    "import math as m "
   ]
  },
  {
   "cell_type": "markdown",
   "id": "1692fef5",
   "metadata": {
    "slideshow": {
     "slide_type": "slide"
    }
   },
   "source": [
    "Al hacer esta importación, ya es posible utilizar las funciones que contiene el módulo “`math`”\n",
    "de Python. "
   ]
  },
  {
   "cell_type": "markdown",
   "id": "6f8628f6",
   "metadata": {
    "slideshow": {
     "slide_type": "slide"
    }
   },
   "source": [
    "Primero se llama el módulo, seguido se coloca un punto y luego la función que se desee aplicar teniendo en cuenta que entre los paréntesis se coloca la variable o el valor de entrada."
   ]
  },
  {
   "cell_type": "code",
   "execution_count": null,
   "id": "5b04fb64",
   "metadata": {
    "slideshow": {
     "slide_type": "slide"
    }
   },
   "outputs": [],
   "source": [
    "m.exp(1)"
   ]
  },
  {
   "cell_type": "code",
   "execution_count": null,
   "id": "e42ee89d",
   "metadata": {
    "slideshow": {
     "slide_type": "slide"
    }
   },
   "outputs": [],
   "source": [
    "import math as m \n",
    "help(m.exp) "
   ]
  },
  {
   "cell_type": "markdown",
   "id": "89dee9fe",
   "metadata": {
    "slideshow": {
     "slide_type": "slide"
    }
   },
   "source": [
    "Para conocer todas las demás funciones contenidas en el módulo “`math`” puede utilizarse la función “`dir`” contenida en la librería estándar, en la cual, si se coloca el nombre de un módulo se obtienen los atributos del mismo:\n"
   ]
  },
  {
   "cell_type": "code",
   "execution_count": null,
   "id": "3c8c0760",
   "metadata": {
    "slideshow": {
     "slide_type": "slide"
    }
   },
   "outputs": [],
   "source": [
    "dir(m)"
   ]
  },
  {
   "cell_type": "markdown",
   "id": "975042e6",
   "metadata": {
    "slideshow": {
     "slide_type": "slide"
    }
   },
   "source": [
    "## 1.6 Otros tipos de operadores "
   ]
  },
  {
   "cell_type": "markdown",
   "id": "3df1d111",
   "metadata": {
    "slideshow": {
     "slide_type": "slide"
    }
   },
   "source": [
    "Los operadores son símbolos utilizados en informática para que el compilador ejecute operaciones sobre unos operandos para producir un resultado. "
   ]
  },
  {
   "cell_type": "markdown",
   "id": "351e4e04",
   "metadata": {
    "slideshow": {
     "slide_type": "slide"
    }
   },
   "source": [
    "Cabe anotar que además de \n",
    "* los operadores aritméticos \n",
    "existen \n",
    "* los operadores relacionales y \n",
    "* los operadores lógicos. "
   ]
  },
  {
   "cell_type": "markdown",
   "id": "3da3ee78",
   "metadata": {
    "slideshow": {
     "slide_type": "slide"
    }
   },
   "source": [
    "### 1.6.1 Operadores relacionales"
   ]
  },
  {
   "cell_type": "markdown",
   "id": "11a1617c",
   "metadata": {
    "slideshow": {
     "slide_type": "slide"
    }
   },
   "source": [
    "Los operadores relacionales comparan los valores de dos expresiones y devuelven un resultado booleano. "
   ]
  },
  {
   "cell_type": "markdown",
   "id": "0360fa72",
   "metadata": {
    "slideshow": {
     "slide_type": "slide"
    }
   },
   "source": [
    "Los operadores relacionales en Python se muestran en la siguiente tabla:"
   ]
  },
  {
   "cell_type": "code",
   "execution_count": null,
   "id": "19692729",
   "metadata": {
    "slideshow": {
     "slide_type": "slide"
    }
   },
   "outputs": [],
   "source": [
    "import pandas as pd \n",
    "operador = ['==','!=','>','<','>=','<=']\n",
    "significado = ['Es igual a', 'es diferente de', \n",
    "               'es mayor que', 'es menor que', \n",
    "               'es mayor o igual que','es menor o igual que']\n",
    "operadores_relacionales = pd.DataFrame({'operador':operador, 'significado':significado})\n",
    "operadores_relacionales "
   ]
  },
  {
   "cell_type": "markdown",
   "id": "ba335e8f",
   "metadata": {
    "slideshow": {
     "slide_type": "slide"
    }
   },
   "source": [
    "## 1.6.2 Operadores lógicos"
   ]
  },
  {
   "cell_type": "markdown",
   "id": "c491ccb9",
   "metadata": {},
   "source": [
    "### [Video de apoyo a la lectura de operadores lógicos]()"
   ]
  },
  {
   "cell_type": "markdown",
   "id": "453c7368",
   "metadata": {
    "slideshow": {
     "slide_type": "slide"
    }
   },
   "source": [
    "Los operadores lógicos ejecutan operaciones en las que usualmente se evalúan dos operandos de tipo lógico y devuelve un resultado de tipo lógico igualmente. "
   ]
  },
  {
   "cell_type": "markdown",
   "id": "837c541b",
   "metadata": {
    "slideshow": {
     "slide_type": "slide"
    }
   },
   "source": [
    "Los operadores lógicos en Python se muestran en la siguiente tabla:"
   ]
  },
  {
   "cell_type": "code",
   "execution_count": null,
   "id": "3c726195",
   "metadata": {
    "scrolled": true,
    "slideshow": {
     "slide_type": "slide"
    }
   },
   "outputs": [],
   "source": [
    "import pandas as pd \n",
    "operador = ['and','or','not']\n",
    "significado = ['Y (determina si ambos operandos son verdaderos)', \n",
    "              'O (determina si alguno de los operandos son verdaderos)',\n",
    "              'No es (niega el valor de un operando)']\n",
    "operadores_logicos = pd.DataFrame({'operador lógico':operador, 'significado':significado})\n",
    "operadores_logicos"
   ]
  },
  {
   "cell_type": "code",
   "execution_count": null,
   "id": "5c8e4e1a",
   "metadata": {
    "slideshow": {
     "slide_type": "slide"
    }
   },
   "outputs": [],
   "source": [
    "not False  "
   ]
  },
  {
   "cell_type": "markdown",
   "id": "7b28eada",
   "metadata": {
    "slideshow": {
     "slide_type": "slide"
    }
   },
   "source": [
    "Los operadores relacionales y lógicos son esenciales ya que son la base del control y gestión de los datos, en especial para comparar datos y modificar información en una variable (Mueller, John, 2018, p. 115). "
   ]
  },
  {
   "cell_type": "markdown",
   "id": "63ef6c0f",
   "metadata": {
    "slideshow": {
     "slide_type": "slide"
    }
   },
   "source": [
    "Cabe anotar que el uso de los operadores se da cuando se trabajan estructuras de control para ejecutar tareas, ya que se evalúan condiciones dadas antes de continuar con la ejecución de las mismas."
   ]
  },
  {
   "cell_type": "markdown",
   "id": "29488de5",
   "metadata": {
    "slideshow": {
     "slide_type": "slide"
    }
   },
   "source": [
    "### Ejemplo de operadores relacionales.\n"
   ]
  },
  {
   "cell_type": "code",
   "execution_count": null,
   "id": "f47c6b8a",
   "metadata": {
    "slideshow": {
     "slide_type": "slide"
    }
   },
   "outputs": [],
   "source": [
    "3==2+1 "
   ]
  },
  {
   "cell_type": "markdown",
   "id": "1f62508f",
   "metadata": {
    "slideshow": {
     "slide_type": "slide"
    }
   },
   "source": [
    "### Ejemplo de operadores relacionales con operadores lógicos.\n"
   ]
  },
  {
   "cell_type": "code",
   "execution_count": null,
   "id": "36e206da",
   "metadata": {
    "slideshow": {
     "slide_type": "slide"
    }
   },
   "outputs": [],
   "source": [
    "3+5>6 and 2+2==4 "
   ]
  },
  {
   "cell_type": "markdown",
   "id": "780ef61e",
   "metadata": {
    "slideshow": {
     "slide_type": "slide"
    }
   },
   "source": [
    "## 1.7 Estructuras de control"
   ]
  },
  {
   "cell_type": "markdown",
   "id": "af9a6cfe",
   "metadata": {
    "slideshow": {
     "slide_type": "slide"
    }
   },
   "source": [
    "Según (Fisher, 1970) “Una estructura de control se hace referencia a un entorno de programación u operación que especifica\n",
    "\n",
    "* la secuencia y \n",
    "* la interpretación de reglas \n",
    "\n",
    "para programas o partes de programas.” "
   ]
  },
  {
   "cell_type": "markdown",
   "id": "da84e1ba",
   "metadata": {
    "slideshow": {
     "slide_type": "slide"
    }
   },
   "source": [
    "A continuación, se trabajarán tres estructuras de control básicas: \n",
    "\n",
    "* la declaración `if`, \n",
    "* el ciclo “while” y \n",
    "* el ciclo “for”"
   ]
  },
  {
   "cell_type": "markdown",
   "id": "b0e61214",
   "metadata": {
    "slideshow": {
     "slide_type": "slide"
    }
   },
   "source": [
    "## 1.7.1 Declaración if- elif-else"
   ]
  },
  {
   "cell_type": "markdown",
   "id": "c32a2aa3",
   "metadata": {
    "slideshow": {
     "slide_type": "slide"
    }
   },
   "source": [
    "La declaración `“if”` es una herramienta para crear decisiones en los lenguajes de programación. "
   ]
  },
  {
   "cell_type": "markdown",
   "id": "00fda172",
   "metadata": {
    "slideshow": {
     "slide_type": "slide"
    }
   },
   "source": [
    "Al usar dicha declaración se puede dar paso a que se cumplan determinadas acciones de acuerdo a una condición que se establece: sí se cumple determinada condición, se realiza determinada acción. "
   ]
  },
  {
   "cell_type": "markdown",
   "id": "a10a4864",
   "metadata": {
    "slideshow": {
     "slide_type": "slide"
    }
   },
   "source": [
    "Si no, se realiza otra."
   ]
  },
  {
   "cell_type": "markdown",
   "id": "e38eb7cf",
   "metadata": {
    "slideshow": {
     "slide_type": "slide"
    }
   },
   "source": [
    " \n",
    "Para usar esta declaración se escribe “if”, seguido de la condición y después de ésta se \n",
    "colocan dos puntos “:” con el fin de especificar el fin de la condición. "
   ]
  },
  {
   "cell_type": "markdown",
   "id": "308552a9",
   "metadata": {
    "slideshow": {
     "slide_type": "slide"
    }
   },
   "source": [
    "Posteriormente se crea un nuevo renglón con la tecla “enter” en donde se escribe el código que se ejecutará en caso de que la condición se cumpla."
   ]
  },
  {
   "cell_type": "markdown",
   "id": "2e54fd83",
   "metadata": {
    "slideshow": {
     "slide_type": "slide"
    }
   },
   "source": [
    "Es importante distinguir la sangría que aparece después de presionar “enter” una vez se haya escrito los dos puntos “:” que marcan el final de la condición."
   ]
  },
  {
   "cell_type": "markdown",
   "id": "9dd0e800",
   "metadata": {
    "slideshow": {
     "slide_type": "slide"
    }
   },
   "source": [
    "Cabe resaltar que Python no usa llaves para establecer hasta qué punto el código escrito se encuentra dependiente de la condición, por lo que hay que entender bien la profundidad de las sangrías para entender a qué condición pertenecen. "
   ]
  },
  {
   "cell_type": "markdown",
   "id": "6be795a2",
   "metadata": {
    "slideshow": {
     "slide_type": "slide"
    }
   },
   "source": [
    "La condición “elif” que significa “else if”, permite añadir más condiciones para evaluar."
   ]
  },
  {
   "cell_type": "markdown",
   "id": "907a88f8",
   "metadata": {
    "slideshow": {
     "slide_type": "slide"
    }
   },
   "source": [
    " \n",
    "Finalmente se añade la cláusula “else” al mismo nivel de la cláusula if para ejecutar la tarea \n",
    "alternativa en caso de que las previas no se hayan cumplido (Mueller, 2018, p. 136)."
   ]
  },
  {
   "cell_type": "markdown",
   "id": "0c7b8ea5",
   "metadata": {
    "slideshow": {
     "slide_type": "slide"
    }
   },
   "source": [
    "## Ejemplo de declaraciones “If-elif-else”."
   ]
  },
  {
   "cell_type": "code",
   "execution_count": null,
   "id": "ed3c138c",
   "metadata": {
    "slideshow": {
     "slide_type": "slide"
    }
   },
   "outputs": [],
   "source": [
    "nota = float(input('Ingrese su calificación(0-50): '))"
   ]
  },
  {
   "cell_type": "code",
   "execution_count": null,
   "id": "4d5eca9f",
   "metadata": {
    "slideshow": {
     "slide_type": "slide"
    }
   },
   "outputs": [],
   "source": [
    "if nota<0 or nota>50:\n",
    "    print('La calificación no es válida')\n",
    "elif nota<30:\n",
    "    print('Ha reprobado')\n",
    "else:  \n",
    "    print('Ha aprobado, felicitaciones') "
   ]
  },
  {
   "cell_type": "markdown",
   "id": "69559131",
   "metadata": {
    "slideshow": {
     "slide_type": "slide"
    }
   },
   "source": [
    "En el ejemplo anterior, se evalúa sí la variable `nota` se encuentra fuera de los rangos de \n",
    "calificación. "
   ]
  },
  {
   "cell_type": "markdown",
   "id": "2f8a5838",
   "metadata": {
    "slideshow": {
     "slide_type": "slide"
    }
   },
   "source": [
    "Sí se encuentra dentro de los rangos válidos para una calificación, posteriormente se evalúa. "
   ]
  },
  {
   "cell_type": "markdown",
   "id": "4cdec28f",
   "metadata": {
    "slideshow": {
     "slide_type": "slide"
    }
   },
   "source": [
    "Si es menor que 30, de ser verdadero como en el ejemplo, se ejecuta la línea siguiente. "
   ]
  },
  {
   "cell_type": "markdown",
   "id": "0f55c1bf",
   "metadata": {
    "slideshow": {
     "slide_type": "slide"
    }
   },
   "source": [
    "De no ser verdadero se ejecutará la línea después del “else”. "
   ]
  },
  {
   "cell_type": "markdown",
   "id": "4a0372c9",
   "metadata": {
    "slideshow": {
     "slide_type": "slide"
    }
   },
   "source": [
    "Siempre se ejecutan las líneas contenidas en la declaración “else” cuando las líneas \n",
    "contenidas en las declaraciones “if” y `elif` no se cumplen (Mueller, 2018, p. 142)."
   ]
  },
  {
   "cell_type": "markdown",
   "id": "336715f6",
   "metadata": {
    "slideshow": {
     "slide_type": "slide"
    }
   },
   "source": [
    "## 1.7.2 Ciclo While"
   ]
  },
  {
   "cell_type": "markdown",
   "id": "990959db",
   "metadata": {
    "slideshow": {
     "slide_type": "slide"
    }
   },
   "source": [
    "### [Video de apoyo]()"
   ]
  },
  {
   "cell_type": "markdown",
   "id": "a7a2ab07",
   "metadata": {
    "slideshow": {
     "slide_type": "slide"
    }
   },
   "source": [
    "Según (Fisher, 1970) el ciclo “while” es una expresión iterativa de bucle que causa la ejecución repetitiva de una expresión en la medida que una condición determinada se cumpla o no. "
   ]
  },
  {
   "cell_type": "markdown",
   "id": "af34fc37",
   "metadata": {
    "slideshow": {
     "slide_type": "slide"
    }
   },
   "source": [
    "En Python este ciclo se realiza escribiendo “while”, seguido de la condición y finalmente se especifica el final de la condición colocando dos puntos “:”."
   ]
  },
  {
   "cell_type": "markdown",
   "id": "a5d66f06",
   "metadata": {
    "slideshow": {
     "slide_type": "slide"
    }
   },
   "source": [
    "### Ejemplo  \n",
    "\n",
    "Uso del ciclo “while” para imprimir los números del 1 hasta el 4."
   ]
  },
  {
   "cell_type": "code",
   "execution_count": null,
   "id": "454b657e",
   "metadata": {
    "slideshow": {
     "slide_type": "slide"
    }
   },
   "outputs": [],
   "source": [
    "x = 0\n",
    "while x < 5:\n",
    "    x = x+1\n",
    "    print(x)"
   ]
  },
  {
   "cell_type": "markdown",
   "id": "3620a5e8",
   "metadata": {
    "slideshow": {
     "slide_type": "slide"
    }
   },
   "source": [
    "Otro ejemplo en el que se utiliza el ciclo `“while”` sería el siguiente:"
   ]
  },
  {
   "cell_type": "code",
   "execution_count": null,
   "id": "a93a5793",
   "metadata": {
    "slideshow": {
     "slide_type": "slide"
    }
   },
   "outputs": [],
   "source": [
    "import random\n",
    "from random import randint\n",
    "intentos = 1\n",
    "x = randint(1,9)\n",
    "numero = int(input('Adivina un número entre 0 y 10: '))\n",
    "while numero != x:\n",
    "    numero = int(input('Fallaste. Intenta de nuevo: '))\n",
    "    intentos = intentos + 1\n",
    "print('Has adivinado el número. Usaste: ', intentos, 'intentos' )    "
   ]
  },
  {
   "cell_type": "markdown",
   "id": "a47dbc0b",
   "metadata": {
    "slideshow": {
     "slide_type": "slide"
    }
   },
   "source": [
    "En la Figura anterior (1-19) se importa el módulo `“random”` y de éste se extrae sólo uno de \n",
    "sus atributos usando la declaración “from” (Mueller, 2018, p. 205). "
   ]
  },
  {
   "cell_type": "markdown",
   "id": "61a15b7f",
   "metadata": {
    "slideshow": {
     "slide_type": "slide"
    }
   },
   "source": [
    "El atributo extraído es `randint()` el cual genera un número entero aleatorio con base en \n",
    "una distribución uniforme. "
   ]
  },
  {
   "cell_type": "markdown",
   "id": "da211ad1",
   "metadata": {
    "slideshow": {
     "slide_type": "slide"
    }
   },
   "source": [
    "Luego, los números colocados en la función se incluyen (intervalo cerrado), con lo cual se tiene un número aleatorio de entre 0 y 10. "
   ]
  },
  {
   "cell_type": "markdown",
   "id": "83a09c22",
   "metadata": {
    "slideshow": {
     "slide_type": "slide"
    }
   },
   "source": [
    "El ciclo `“while”` se encarga entonces de pedir al usuario un número, siempre y cuando éste \n",
    "número no sea igual al número aleatorio generado con la función “randint”. "
   ]
  },
  {
   "cell_type": "markdown",
   "id": "86eee593",
   "metadata": {
    "slideshow": {
     "slide_type": "slide"
    }
   },
   "source": [
    "Finalmente, con la variable intentos se lleva la cuenta de las veces que el usuario ha ingresado un \n",
    "valor."
   ]
  },
  {
   "cell_type": "markdown",
   "id": "551c90d0",
   "metadata": {
    "slideshow": {
     "slide_type": "slide"
    }
   },
   "source": [
    "## 1.7.3 Declaración for"
   ]
  },
  {
   "cell_type": "markdown",
   "id": "95bee2a3",
   "metadata": {
    "slideshow": {
     "slide_type": "slide"
    }
   },
   "source": [
    "Es una declaración común en los lenguajes de programación. "
   ]
  },
  {
   "cell_type": "markdown",
   "id": "ba47a39f",
   "metadata": {
    "slideshow": {
     "slide_type": "slide"
    }
   },
   "source": [
    "Se trata de un ciclo que se repite una determinada cantidad de veces por medio de sucesiones que se pueden especificar por medio de la función `“range”`, letras u otras alternativas más convenientes (Mueller, 2018, p. 152)."
   ]
  },
  {
   "cell_type": "markdown",
   "id": "288deb1c",
   "metadata": {
    "slideshow": {
     "slide_type": "slide"
    }
   },
   "source": [
    "Para usar esta declaración se escribe `for`, seguido de una variable que se irá convirtiendo \n",
    "en los valores que se establezcan, según lo que se especifique como sí se tratara de un \n",
    "contador y al final se utilizan dos puntos `:`."
   ]
  },
  {
   "cell_type": "markdown",
   "id": "13587871",
   "metadata": {
    "slideshow": {
     "slide_type": "slide"
    }
   },
   "source": [
    "### Ejemplo del ciclo “for” en “Python”."
   ]
  },
  {
   "cell_type": "code",
   "execution_count": null,
   "id": "d23fc9e0",
   "metadata": {
    "slideshow": {
     "slide_type": "slide"
    }
   },
   "outputs": [],
   "source": [
    "for x in range(0,5):\n",
    "    print('numero: ',x)"
   ]
  },
  {
   "cell_type": "markdown",
   "id": "b1dbd113",
   "metadata": {
    "slideshow": {
     "slide_type": "slide"
    }
   },
   "source": [
    "La función `range(0,5)` genera una lista de números que va desde 0 hasta 4 (intervalo \n",
    "abierto por derecha). "
   ]
  },
  {
   "cell_type": "markdown",
   "id": "b94a8e10",
   "metadata": {
    "slideshow": {
     "slide_type": "slide"
    }
   },
   "source": [
    "El valor inicial de x es 0."
   ]
  },
  {
   "cell_type": "markdown",
   "id": "e334a9ae",
   "metadata": {
    "slideshow": {
     "slide_type": "slide"
    }
   },
   "source": [
    "Luego se ejecuta lo que se encuentre en el ciclo. Teniendo en cuenta ese valor y cuando \n",
    "finalice, se regresa a la línea en la que se encuentra el “for”. Posteriormente la variable x \n",
    "toma el valor de 1 proveniente de la función “range” y vuelve a ejecutarse lo que exista \n",
    "dentro del ciclo “for”. "
   ]
  },
  {
   "cell_type": "markdown",
   "id": "6c0bac1b",
   "metadata": {
    "slideshow": {
     "slide_type": "slide"
    }
   },
   "source": [
    "En este ejemplo se está imprimiendo el valor de x a medida que cambia de valor al recorrer \n",
    "los números del 0 hasta el 4.\n",
    "La función “range” es útil para crear las iteraciones en los ciclos “for”. Debe tenerse en \n",
    "cuenta que no se obtiene una lista como tal con la función “range”, sino que es necesario \n",
    "transformar el resultado a una lista, sí se desea usar como un vector de números mediante\n",
    "la función “list”.\n",
    "El ciclo “for” también se usa frecuentemente para recorrer valores contenidos en una lista \n",
    "o vector y con ello realizar tareas de búsqueda y/o modificaciones."
   ]
  },
  {
   "cell_type": "markdown",
   "id": "c33fc7cd",
   "metadata": {
    "slideshow": {
     "slide_type": "slide"
    }
   },
   "source": [
    "Dentro de la declaración `for` se suelen incluir declaraciones “if” y se usan más declaraciones para controlar la ejecución del ciclo, que son \n",
    "\n",
    "* “Continue”, \n",
    "* “Pass” y \n",
    "* “Break”:"
   ]
  },
  {
   "cell_type": "markdown",
   "id": "d6382f95",
   "metadata": {
    "slideshow": {
     "slide_type": "slide"
    }
   },
   "source": [
    "* `Break`: Detiene la ejecución del ciclo  \n",
    "* “Continue”: No se ejecuta la iteración actual pero si las iteraciones siguientes\n",
    "* “Pass”: Permite la ejecución de la iteración actual y las siguientes."
   ]
  },
  {
   "cell_type": "markdown",
   "id": "588f6117",
   "metadata": {
    "slideshow": {
     "slide_type": "slide"
    }
   },
   "source": [
    "La siguiente figura muestra un ciclo “for” con “if” sin las declaraciones mencionadas \n",
    "anteriormente:"
   ]
  },
  {
   "cell_type": "markdown",
   "id": "7d46f902",
   "metadata": {
    "slideshow": {
     "slide_type": "slide"
    }
   },
   "source": [
    "### Ejecución de un ciclo “for-if” sin otras declaraciones."
   ]
  },
  {
   "cell_type": "code",
   "execution_count": null,
   "id": "bf3afab6",
   "metadata": {
    "slideshow": {
     "slide_type": "slide"
    }
   },
   "outputs": [],
   "source": [
    "for p in range(0,5):\n",
    "    if p == 3:\n",
    "        print('aquí iría el 3')\n",
    "    print(p)    "
   ]
  },
  {
   "cell_type": "markdown",
   "id": "107457b4",
   "metadata": {
    "slideshow": {
     "slide_type": "slide"
    }
   },
   "source": [
    "Con la declaración “break”, colocada dentro de la declaración “if” el ciclo se cancela una vez se ejecuta lo especificado cuando la variable p es igual a 3. "
   ]
  },
  {
   "cell_type": "markdown",
   "id": "2a7b044f",
   "metadata": {
    "slideshow": {
     "slide_type": "slide"
    }
   },
   "source": [
    "Se ve que `p` no toma el valor de 4 y no se imprime:"
   ]
  },
  {
   "cell_type": "markdown",
   "id": "d3de83da",
   "metadata": {
    "slideshow": {
     "slide_type": "slide"
    }
   },
   "source": [
    "### Uso de la declaración `break` en un ciclo “for”"
   ]
  },
  {
   "cell_type": "code",
   "execution_count": null,
   "id": "72f52944",
   "metadata": {
    "slideshow": {
     "slide_type": "slide"
    }
   },
   "outputs": [],
   "source": [
    "for p in range(0,5):\n",
    "    if p == 3:\n",
    "        print('aquí iría el 3')\n",
    "        break\n",
    "    print(p)    "
   ]
  },
  {
   "cell_type": "markdown",
   "id": "d1b37cfe",
   "metadata": {
    "slideshow": {
     "slide_type": "slide"
    }
   },
   "source": [
    "Cuando se utiliza la declaración “continue”, se impide que se ejecuten las líneas siguientes \n",
    "de código para la iteración actual porque inmediatamente continúa con la siguiente \n",
    "iteración, por ello no se imprime en pantalla el número 3. "
   ]
  },
  {
   "cell_type": "markdown",
   "id": "1d9572ca",
   "metadata": {
    "slideshow": {
     "slide_type": "slide"
    }
   },
   "source": [
    "Es útil para evitar que se ejecuten acciones en determinado instante de una iteración (Mueller, 2018, p. 156)."
   ]
  },
  {
   "cell_type": "markdown",
   "id": "c20aa183",
   "metadata": {
    "slideshow": {
     "slide_type": "slide"
    }
   },
   "source": [
    "### Uso de la declaración “continue” en un ciclo “for”."
   ]
  },
  {
   "cell_type": "code",
   "execution_count": null,
   "id": "9a6180e8",
   "metadata": {
    "slideshow": {
     "slide_type": "slide"
    }
   },
   "outputs": [],
   "source": [
    "for p in range(0,5):\n",
    "    if p == 3:\n",
    "        print('aquí iría el 3')\n",
    "        continue \n",
    "    print(p)    "
   ]
  },
  {
   "cell_type": "markdown",
   "id": "f25eca7b",
   "metadata": {
    "slideshow": {
     "slide_type": "slide"
    }
   },
   "source": [
    "## 1.8 Definición de funciones"
   ]
  },
  {
   "cell_type": "markdown",
   "id": "bbe94084",
   "metadata": {
    "slideshow": {
     "slide_type": "slide"
    }
   },
   "source": [
    "Las funciones son parte fundamental para crear algoritmos que simplifiquen tareas repetitivas. "
   ]
  },
  {
   "cell_type": "markdown",
   "id": "f670478f",
   "metadata": {
    "slideshow": {
     "slide_type": "slide"
    }
   },
   "source": [
    "Una función depende de variables para crear un resultado específico. "
   ]
  },
  {
   "cell_type": "markdown",
   "id": "4a607109",
   "metadata": {
    "slideshow": {
     "slide_type": "slide"
    }
   },
   "source": [
    "Las funciones en Python se crean escribiendo la declaración `def` seguido de un espacio."
   ]
  },
  {
   "cell_type": "markdown",
   "id": "2dedcb78",
   "metadata": {
    "slideshow": {
     "slide_type": "slide"
    }
   },
   "source": [
    "Luego se escribe el nombre que se le desee dar a la función y junto a ésta se añade entre paréntesis los parámetros o variables de los que dependerá la función. "
   ]
  },
  {
   "cell_type": "markdown",
   "id": "c31f7ea4",
   "metadata": {
    "slideshow": {
     "slide_type": "slide"
    }
   },
   "source": [
    "Finalizando la línea se deben colocar dos puntos `:`. "
   ]
  },
  {
   "cell_type": "markdown",
   "id": "d08d4899",
   "metadata": {
    "slideshow": {
     "slide_type": "slide"
    }
   },
   "source": [
    "Posteriormente se pulsa `enter` y a partir de esa línea con **sangría** se digitarán todas las tareas que realizará la función."
   ]
  },
  {
   "cell_type": "markdown",
   "id": "34a5961c",
   "metadata": {
    "slideshow": {
     "slide_type": "slide"
    }
   },
   "source": [
    "### Una función cuadrática evaluada en x=3."
   ]
  },
  {
   "cell_type": "code",
   "execution_count": null,
   "id": "5a85d4e7",
   "metadata": {
    "slideshow": {
     "slide_type": "slide"
    }
   },
   "outputs": [],
   "source": [
    "def f(x):\n",
    "    return x**2+x+1"
   ]
  },
  {
   "cell_type": "code",
   "execution_count": null,
   "id": "aa865b6d",
   "metadata": {
    "slideshow": {
     "slide_type": "slide"
    }
   },
   "outputs": [],
   "source": [
    "f(3)"
   ]
  },
  {
   "cell_type": "code",
   "execution_count": null,
   "id": "ba223e46",
   "metadata": {
    "slideshow": {
     "slide_type": "slide"
    }
   },
   "outputs": [],
   "source": []
  },
  {
   "cell_type": "code",
   "execution_count": null,
   "id": "955106fa",
   "metadata": {
    "slideshow": {
     "slide_type": "slide"
    }
   },
   "outputs": [],
   "source": []
  },
  {
   "cell_type": "code",
   "execution_count": null,
   "id": "a54b514b",
   "metadata": {
    "slideshow": {
     "slide_type": "slide"
    }
   },
   "outputs": [],
   "source": []
  },
  {
   "cell_type": "markdown",
   "id": "314deb4c",
   "metadata": {
    "slideshow": {
     "slide_type": "slide"
    }
   },
   "source": [
    "## Referentes\n",
    "\n",
    "* Calderon"
   ]
  },
  {
   "cell_type": "code",
   "execution_count": null,
   "id": "9bc473f8",
   "metadata": {},
   "outputs": [],
   "source": []
  }
 ],
 "metadata": {
  "celltoolbar": "Slideshow",
  "kernelspec": {
   "display_name": "Python 3",
   "language": "python",
   "name": "python3"
  },
  "language_info": {
   "codemirror_mode": {
    "name": "ipython",
    "version": 3
   },
   "file_extension": ".py",
   "mimetype": "text/x-python",
   "name": "python",
   "nbconvert_exporter": "python",
   "pygments_lexer": "ipython3",
   "version": "3.8.8"
  },
  "latex_envs": {
   "LaTeX_envs_menu_present": true,
   "autoclose": false,
   "autocomplete": false,
   "bibliofile": "biblio.bib",
   "cite_by": "apalike",
   "current_citInitial": 1,
   "eqLabelWithNumbers": true,
   "eqNumInitial": 1,
   "hotkeys": {
    "equation": "Ctrl-E",
    "itemize": "Ctrl-I"
   },
   "labels_anchors": false,
   "latex_user_defs": false,
   "report_style_numbering": false,
   "user_envs_cfg": false
  },
  "rise": {
   "enable_chalkboard": true,
   "theme": "sky",
   "transition": "sky"
  }
 },
 "nbformat": 4,
 "nbformat_minor": 5
}
