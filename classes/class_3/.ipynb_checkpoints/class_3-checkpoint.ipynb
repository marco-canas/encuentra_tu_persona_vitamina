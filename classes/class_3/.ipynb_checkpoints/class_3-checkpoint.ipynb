{
 "cells": [
  {
   "cell_type": "markdown",
   "id": "002067e4",
   "metadata": {
    "slideshow": {
     "slide_type": "slide"
    }
   },
   "source": [
    "<table align=\"left\">\n",
    "  <td>\n",
    "    <a href=\"https://colab.research.google.com/github/marco-canas/taca/blob/main/ref/geron/chap_2/5_prepare_for_algorithms/1_prepare_for_algorithms.ipynb\" target=\"_parent\"><img src=\"https://colab.research.google.com/assets/colab-badge.svg\" alt=\"Open In Colab\"/></a>\n",
    "  </td>\n",
    "  <td>\n",
    "    <a target=\"_blank\" href=\"https://kaggle.com/kernels/welcome?src=https://github.com/marco-canas/taca/blob/main/ref/geron/chap_2/5_prepare_for_algorithms/1_prepare_for_algorithms.ipynb\"><img src=\"https://kaggle.com/static/images/open-in-kaggle.svg\" /></a>\n",
    "  </td>\n",
    "</table> "
   ]
  },
  {
   "cell_type": "markdown",
   "id": "8ea075bb",
   "metadata": {
    "slideshow": {
     "slide_type": "slide"
    }
   },
   "source": [
    "# Clase 3 "
   ]
  },
  {
   "cell_type": "markdown",
   "id": "3d303bcd",
   "metadata": {
    "slideshow": {
     "slide_type": "slide"
    }
   },
   "source": [
    "# Capítulo 5\n",
    "## Funciones productivas"
   ]
  },
  {
   "cell_type": "markdown",
   "id": "29f3efa7",
   "metadata": {
    "slideshow": {
     "slide_type": "slide"
    }
   },
   "source": [
    "5.1. Valores de retorno\n",
    "Algunas de las funciones internas que hemos usado, como las funciones math o\n",
    "funciones matem´aticas, han producido resultados. Llamar a la funci´on genera un\n",
    "nuevo valor, que normalmente asignamos a una variable pasa usar como parte\n",
    "de una expresi´on.\n",
    "import math\n",
    "e = math.exp(1.0)\n",
    "altura = radio * math.sin(angulo)\n",
    "Pero hasta ahora, ninguna de las funciones que hemos escrito ha devuelto un\n",
    "valor."
   ]
  },
  {
   "cell_type": "markdown",
   "id": "b14db1eb",
   "metadata": {
    "slideshow": {
     "slide_type": "slide"
    }
   },
   "source": [
    "En este capítulo escribiremos funciones que devuelvan valores, que llamaremos funciones productivas, a falta de un nombre mejor. "
   ]
  },
  {
   "cell_type": "markdown",
   "id": "31fc8a74",
   "metadata": {
    "slideshow": {
     "slide_type": "slide"
    }
   },
   "source": [
    "El primer ejemplo es área, que devuelve el área de un círculo con un radio dado:"
   ]
  },
  {
   "cell_type": "code",
   "execution_count": null,
   "id": "313be7ce",
   "metadata": {
    "slideshow": {
     "slide_type": "slide"
    }
   },
   "outputs": [],
   "source": [
    "import math\n",
    "def area(radio):\n",
    "    temporal = math.pi * radio**2\n",
    "    return temporal"
   ]
  },
  {
   "cell_type": "markdown",
   "id": "a61bc041",
   "metadata": {
    "slideshow": {
     "slide_type": "slide"
    }
   },
   "source": [
    "Ya hemos visto antes la sentencia return, pero en una función productiva la sentencia `return` incluye un valor de retorno. "
   ]
  },
  {
   "cell_type": "markdown",
   "id": "c1347220",
   "metadata": {
    "slideshow": {
     "slide_type": "slide"
    }
   },
   "source": [
    "Esta sentencia quiere decir “retorna inmediatamente de la función y usa la siguiente expresión como valor de retorno”. "
   ]
  },
  {
   "cell_type": "markdown",
   "id": "a98b69ae",
   "metadata": {
    "slideshow": {
     "slide_type": "slide"
    }
   },
   "source": [
    "La expresión dada puede ser arbitrariamente complicada; así pues, podríamos haber escrito esta función más concisamente:"
   ]
  },
  {
   "cell_type": "code",
   "execution_count": 20,
   "id": "3483a144",
   "metadata": {
    "slideshow": {
     "slide_type": "slide"
    }
   },
   "outputs": [],
   "source": [
    "import math \n",
    "def area(radio):\n",
    "    return math.pi*radio**2"
   ]
  },
  {
   "cell_type": "markdown",
   "id": "aba5a84b",
   "metadata": {
    "slideshow": {
     "slide_type": "slide"
    }
   },
   "source": [
    "Por otra parte, las variables temporales como temporal suelen hacer m´as\n",
    "f´acil el depurado.\n",
    "A veces es util ´ disponer de varias sentencias de retorno, una en cada rama de\n",
    "una condici´on:"
   ]
  },
  {
   "cell_type": "code",
   "execution_count": 21,
   "id": "95fa2bef",
   "metadata": {
    "slideshow": {
     "slide_type": "slide"
    }
   },
   "outputs": [],
   "source": [
    "def valorAbsoluto(x):\n",
    "    if x < 0:\n",
    "        return -x\n",
    "    else:\n",
    "        return x"
   ]
  },
  {
   "cell_type": "markdown",
   "id": "62392edb",
   "metadata": {
    "slideshow": {
     "slide_type": "slide"
    }
   },
   "source": [
    "Puesto que estas sentencias `return` están en una condición alternativa, sólo se ejecutará una de ellas. "
   ]
  },
  {
   "cell_type": "markdown",
   "id": "1d4032e0",
   "metadata": {
    "slideshow": {
     "slide_type": "slide"
    }
   },
   "source": [
    "En cuanto se ejecuta una de ellas, la función termina sin ejecutar ninguna de las sentencias siguientes."
   ]
  },
  {
   "cell_type": "markdown",
   "id": "1f0d99f2",
   "metadata": {
    "slideshow": {
     "slide_type": "slide"
    }
   },
   "source": [
    "El código que aparece después de una sentencia `return` o en cualquier otro lugar donde el flujo de ejecución no pueda llegar, recibe el nombre de código muerto."
   ]
  },
  {
   "cell_type": "markdown",
   "id": "2bef1ed0",
   "metadata": {
    "slideshow": {
     "slide_type": "slide"
    }
   },
   "source": [
    "En una función productiva es una buena idea asegurarse de que cualquier posible recorrido del programa alcanza una sentencia `return`. "
   ]
  },
  {
   "cell_type": "markdown",
   "id": "d1408ea1",
   "metadata": {
    "slideshow": {
     "slide_type": "slide"
    }
   },
   "source": [
    "Por ejemplo:"
   ]
  },
  {
   "cell_type": "code",
   "execution_count": null,
   "id": "435bc4c3",
   "metadata": {
    "slideshow": {
     "slide_type": "slide"
    }
   },
   "outputs": [],
   "source": [
    "def valorAbsoluto(x):\n",
    "    if x < 0:\n",
    "        return -x\n",
    "    elif x > 0:\n",
    "        return x"
   ]
  },
  {
   "cell_type": "markdown",
   "id": "71a03056",
   "metadata": {
    "slideshow": {
     "slide_type": "slide"
    }
   },
   "source": [
    "**Ojo**  \n",
    "Este programa no es correcto porque si resulta que `x` vale `0`, entonces no se cumple ninguna de ambas condiciones y la función termina sin alcanzar la setencia return. "
   ]
  },
  {
   "cell_type": "markdown",
   "id": "cf7caffb",
   "metadata": {
    "slideshow": {
     "slide_type": "slide"
    }
   },
   "source": [
    "En este caso, el valor de retorno es un valor especial llamado None:"
   ]
  },
  {
   "cell_type": "code",
   "execution_count": null,
   "id": "3dceffcf",
   "metadata": {
    "slideshow": {
     "slide_type": "slide"
    }
   },
   "outputs": [],
   "source": [
    "print(valorAbsoluto(0)) "
   ]
  },
  {
   "cell_type": "markdown",
   "id": "0de2ff87",
   "metadata": {
    "slideshow": {
     "slide_type": "slide"
    }
   },
   "source": [
    "Como actividad, escriba una función comparar que devuelva `1` si `x > y` , `0` si `x == y` , y `-1` si `x < y` ."
   ]
  },
  {
   "cell_type": "markdown",
   "id": "6fb5c737",
   "metadata": {
    "slideshow": {
     "slide_type": "slide"
    }
   },
   "source": [
    "## 5.2. Desarrollo de programas"
   ]
  },
  {
   "cell_type": "markdown",
   "id": "4e09e272",
   "metadata": {
    "slideshow": {
     "slide_type": "slide"
    }
   },
   "source": [
    "Llegados a este punto, tendr´ıa que poder mirar a funciones Python completas y adivinar qué hacen."
   ]
  },
  {
   "cell_type": "markdown",
   "id": "7136ebe6",
   "metadata": {
    "slideshow": {
     "slide_type": "slide"
    }
   },
   "source": [
    "También, si ha hecho los ejercicios, habrá escrito algunas funciones sencillas. "
   ]
  },
  {
   "cell_type": "markdown",
   "id": "a7cefaa8",
   "metadata": {
    "slideshow": {
     "slide_type": "slide"
    }
   },
   "source": [
    "Tal como vaya escribiendo funciones mayores puede empeza"
   ]
  },
  {
   "cell_type": "markdown",
   "id": "057e8887",
   "metadata": {
    "slideshow": {
     "slide_type": "slide"
    }
   },
   "source": [
    "a experimentar m´as dificultades, especialmente con los errores en tiempo de\n",
    "ejecuci´on y los sem´anticos.\n",
    "Para lidiar con programas de complejidad creciente, vamos a sugerirle una t´ecni\u0002ca que llamaremos desarrollo incremental. El objetivo del desarrollo incre\u0002mental es sustituir largas sesiones de depuraci´on por la adici´on y prueba de\n",
    "pequenas ˜ porciones de c´odigo en cada vez.\n",
    "Por ejemplo, supongamos que desea encontrar la distancia entre dos puntos, da\u0002dos por las coordenadas (x1, y1) y (x2, y2). Por el teorema de Pit´agoras, podemos\n",
    "escribir la distancia es:\n",
    "distancia =\n",
    "p\n",
    "(x2 − x1)\n",
    "2 + (y2 − y1)\n",
    "2 (5.1)\n",
    "El primer paso es considerar qu´e aspecto tendr´ıa una funci´on distancia en\n",
    "Python. En otras palabras, ¿cu´ales son las entradas (par´ametros) y cu´al es la\n",
    "salida (valor de retorno)?\n",
    "En este caso, los dos puntos son los par´ametros, que podemos representar usando\n",
    "cuatro par´ametros. El valor de retorno es la distancia, que es un valor en coma\n",
    "flotante.\n",
    "Ya podemos escribir un bosquejo de la funci´on:\n",
    "def distancia(x1, y1, x2, y2):\n",
    "return 0.0\n",
    "Obviamente, la funci´on no calcula distancias; siempre devuelve cero. Pero es\n",
    "sint´acticamente correcta y se ejecutar´a, lo que significa que podemos probarla\n",
    "antes de complicarla m´as.\n",
    "Para comprobar la nueva funci´on, tenemos que llamarla con valores de ejemplo:"
   ]
  },
  {
   "cell_type": "code",
   "execution_count": null,
   "id": "681c8069",
   "metadata": {
    "slideshow": {
     "slide_type": "slide"
    }
   },
   "outputs": [],
   "source": [
    ">>> def distancia(x1, y1, x2, y2):\n",
    "... return 0.0\n",
    "...\n",
    ">>> distancia(1, 2, 4, 6)\n",
    "0.0\n",
    ">>>"
   ]
  },
  {
   "cell_type": "markdown",
   "id": "c8428e61",
   "metadata": {
    "slideshow": {
     "slide_type": "slide"
    }
   },
   "source": [
    "Elegimos estos valores de tal forma que la distancia horizontal sea igual a 3 y la\n",
    "distancia vertical sea igual a 4; de esa manera el resultado es 5 (la hipotenusa del\n",
    "tri´angulo 3-4-5). Cuando se comprueba una funci´on, es util ´ saber la respuesta\n",
    "correcta.\n",
    "Hasta el momento, hemos comprobado que la funci´on es sint´acticamente correc\u0002ta, as´ı que podemos empezar a anadir ˜ l´ıneas de c´odigo. Despu´es de cada cambio incremental, comprobamos de nuevo la funci´on. Si en un momento dado apare\u0002ce un error, sabremos d´onde est´a exactamente: en la ultima ´ l´ınea que hayamos\n",
    "anadido. ˜\n",
    "El siguiente paso en el c´alculo es encontrar las diferencias entre x2−x1 y y2−y1.\n",
    "Almacenaremos dichos valores en variables temporales llamadas dx y dy y las\n",
    "imprimiremos.\n",
    "def distancia(x1, y1, x2, y2):\n",
    "dx = x2 - x1\n",
    "dy = y2 - y1\n",
    "print \"dx es\", dx\n",
    "print \"dy es\", dy\n",
    "return 0.0\n",
    "Si la funci´on funciona, valga la redundancia, las salidas deber´ıan ser 3 y 4. Si\n",
    "es as´ı, sabemos que la funci´on recibe correctamente los par´ametros y realiza\n",
    "correctamente el primer c´alculo. Si no, s´olo hay unas pocas l´ıneas que revisar.\n",
    "Ahora calculamos la suma de los cuadarados de dx y dy:\n",
    "def distancia(x1, y1, x2, y2):\n",
    "dx = x2 - x1\n",
    "dy = y2 - y1\n",
    "dalcuadrado = dx**2 + dy**2\n",
    "print \"dalcuadrado es: \", dalcuadrado\n",
    "return 0.0\n",
    "F´ıjese en que hemos eliminado las sentencias print que escribimos en el pa\u0002so anterior. Este c´odigo se llama andamiaje porque es util ´ para construir el\n",
    "programa pero no es parte del producto final.\n",
    "De nuevo querremos ejecutar el programa en este estado y comprobar la salida\n",
    "(que deber´ıa dar 25).\n",
    "Por ultimo, ´ si hemos importado el m´odulo math, podemos usar la funci´on sqrt\n",
    "para calcular y devolver el resultado:\n",
    "def distancia(x1, y1, x2, y2):\n",
    "dx = x2 - x1\n",
    "dy = y2 - y1\n",
    "dalcuadrado = dx**2 + dy**2\n",
    "resultado = math.sqrt(dalcuadrado)\n",
    "return resultado\n",
    "Si esto funciona correctamente, ha terminado. Si no, podr´ıa ser que quisiera\n",
    "usted imprimir el valor de resultado antes de la sentencia return Al principio, deber´ıa anadir ˜ solamente una o dos l´ıneas de c´odigo cada vez.\n",
    "Conforme vaya ganando experiencia, puede que se encuentre escribiendo y de\u0002purando trozos mayores. Sin embargo, el proceso de desarrollo incremental puede\n",
    "ahorrarle mucho tiempo de depurado.\n",
    "Los aspectos fundamentales del proceso son:\n",
    "1. Comience con un programa que funcione y h´agale pequenos ˜ cambios in\u0002crementales. Si hay un error, sabr´a exactamente d´onde est´a.\n",
    "2. Use variables temporales para mantener valores intermedios, de tal manera\n",
    "que pueda mostrarlos por pantalla y comprobarlos.\n",
    "3. Una vez que el programa est´e funcionando, tal vez prefiera eliminar parte\n",
    "del andamiaje o aglutinar multiples ´ sentencias en expresiones compuestas,\n",
    "pero s´olo si eso no hace que el programa sea dif´ıcil de leer.\n",
    "Como actividad, utilice el desarrollo incremental para escribir una\n",
    "funci´on de nombre hipotenusa que devuelva la longitud de la hipo\u0002tenusa de un tri´angulo rect´angulo, dando como par´ametros los dos\n",
    "catetos. Registre cada estado del desarrollo incremental segun´ vaya\n",
    "avanzando."
   ]
  },
  {
   "cell_type": "markdown",
   "id": "eed9ae14",
   "metadata": {
    "slideshow": {
     "slide_type": "slide"
    }
   },
   "source": [
    "## 5.3. Composici´on\n",
    "Como seguramente a estas alturas ya supondr´a, se puede llamar a una funci´on\n",
    "desde dentro de otra. Esta habilidad se llama composici´on .\n",
    "Como ejemplo, escribiremos una funci´on que tome dos puntos, el centro del\n",
    "c´ırculo y un punto del per´ımetro, y calcule el ´area del c´ırculo.\n",
    "Supongamos que el punto central est´a almacenado en las variables xc e yc, y\n",
    "que el punto del per´ımetro lo est´a en xp e yp. El primer paso es hallar el radio\n",
    "del c´ırculo, que es la distancia entre los dos puntos. Afortunadamente hay una\n",
    "funci´on, distancia, que realiza esta tarea:\n",
    "radio = distancia(xc, yc, xp, yp)\n",
    "El segundo paso es encontrar el ´area de un c´ırculo con ese radio y devolverla:\n",
    "resultado = area(radio)\n",
    "return resultado\n",
    "Envolviendo todo esto en una funci´on, obtenemos:\n",
    "def area2(xc, yc, xp, yp):\n",
    "radio = distancia(xc, yc, xp, yp)\n",
    "resultado = area(radio)\n",
    "return resultado"
   ]
  },
  {
   "cell_type": "code",
   "execution_count": null,
   "id": "085f6d44",
   "metadata": {
    "slideshow": {
     "slide_type": "slide"
    }
   },
   "outputs": [],
   "source": []
  },
  {
   "cell_type": "code",
   "execution_count": null,
   "id": "9fecd063",
   "metadata": {},
   "outputs": [],
   "source": []
  },
  {
   "cell_type": "code",
   "execution_count": null,
   "id": "91ae5e72",
   "metadata": {},
   "outputs": [],
   "source": []
  },
  {
   "cell_type": "code",
   "execution_count": null,
   "id": "2a7b058a",
   "metadata": {},
   "outputs": [],
   "source": []
  },
  {
   "cell_type": "code",
   "execution_count": null,
   "id": "71447c5f",
   "metadata": {},
   "outputs": [],
   "source": []
  },
  {
   "cell_type": "code",
   "execution_count": null,
   "id": "d7ac2821",
   "metadata": {
    "slideshow": {
     "slide_type": "slide"
    }
   },
   "outputs": [],
   "source": []
  },
  {
   "cell_type": "markdown",
   "id": "e792e685",
   "metadata": {
    "slideshow": {
     "slide_type": "slide"
    }
   },
   "source": [
    "# 1.3 Estructuras de datos básicas  "
   ]
  },
  {
   "cell_type": "markdown",
   "id": "96aceafd",
   "metadata": {
    "slideshow": {
     "slide_type": "slide"
    }
   },
   "source": [
    "Una forma más adecuada de almacenar la información es a través de \n",
    "* listas, \n",
    "* “tuplas” y \n",
    "* diccionarios.\n",
    "\n",
    "En ellos, la variable se compone de un conjunto ordenado de datos. Para \n",
    "crear estas estructuras se debe dar nombre a una variable, utilizar el operador de \n",
    "declaración igual (`=`) y dependiendo de si se usan paréntesis, corchetes o llaves se puede\n",
    "crear:"
   ]
  },
  {
   "cell_type": "markdown",
   "id": "50373977",
   "metadata": {
    "slideshow": {
     "slide_type": "slide"
    }
   },
   "source": [
    "## 1.3.1 Listas"
   ]
  },
  {
   "cell_type": "markdown",
   "id": "8baca616",
   "metadata": {
    "slideshow": {
     "slide_type": "slide"
    }
   },
   "source": [
    "Una “`list`” (lista) es un conjunto de datos que pueden ser de diferente tipo, es decir, que \n",
    "puede contener \n",
    "* números enteros, \n",
    "* decimales, \n",
    "* caracteres, \n",
    "* valores booleanos entre otros, \n",
    "\n",
    "cuyos elementos **son modificables o mutables** y que se encuentran indexados, es decir \n",
    "que los datos se enumeran comenzando desde 0. Para crear listas se usan corchetes (`[ ]`)."
   ]
  },
  {
   "cell_type": "code",
   "execution_count": 1,
   "id": "9fb68546",
   "metadata": {
    "slideshow": {
     "slide_type": "slide"
    }
   },
   "outputs": [],
   "source": [
    "lista_1 = [1,0.5,'marco',True]"
   ]
  },
  {
   "cell_type": "markdown",
   "id": "7af7dfe0",
   "metadata": {
    "slideshow": {
     "slide_type": "slide"
    }
   },
   "source": [
    "## 1.3.2 Tuplas"
   ]
  },
  {
   "cell_type": "markdown",
   "id": "94aaf6fc",
   "metadata": {
    "slideshow": {
     "slide_type": "slide"
    }
   },
   "source": [
    "En esta estructura, los datos se separan por comas y se encuentran entre paréntesis. "
   ]
  },
  {
   "cell_type": "markdown",
   "id": "41b45dfa",
   "metadata": {
    "slideshow": {
     "slide_type": "slide"
    }
   },
   "source": [
    "Las tuplas se caracterizan porque no se pueden modificar, **son inmutables**. "
   ]
  },
  {
   "cell_type": "markdown",
   "id": "59aefcd7",
   "metadata": {
    "slideshow": {
     "slide_type": "slide"
    }
   },
   "source": [
    "Es decir, no se puede añadir, quitar datos ni modificar los que contiene, por la vía del operador de asignación."
   ]
  },
  {
   "cell_type": "markdown",
   "id": "b8cc6036",
   "metadata": {
    "slideshow": {
     "slide_type": "slide"
    }
   },
   "source": [
    "Sin embargo, se pueden extraer partes de las tuplas para crear nuevas tuplas o reemplazarlas con otra tupla. "
   ]
  },
  {
   "cell_type": "markdown",
   "id": "441f1d0f",
   "metadata": {
    "slideshow": {
     "slide_type": "slide"
    }
   },
   "source": [
    "Las tuplas también están indexadas y además puede  contener objetos mutables, por lo que puede existir una lista inmersa en una tupla."
   ]
  },
  {
   "cell_type": "code",
   "execution_count": 2,
   "id": "76da7f8b",
   "metadata": {
    "slideshow": {
     "slide_type": "slide"
    }
   },
   "outputs": [
    {
     "name": "stdout",
     "output_type": "stream",
     "text": [
      "<class 'list'>\n",
      "<class 'tuple'>\n"
     ]
    }
   ],
   "source": [
    "datos1 = [1,2,3]\n",
    "datos2 = (4,5,6)\n",
    "print(type(datos1))\n",
    "print(type(datos2))"
   ]
  },
  {
   "cell_type": "markdown",
   "id": "fea44e08",
   "metadata": {
    "slideshow": {
     "slide_type": "slide"
    }
   },
   "source": [
    "## 1.3.3 Diccionarios"
   ]
  },
  {
   "cell_type": "markdown",
   "id": "db829cdf",
   "metadata": {
    "slideshow": {
     "slide_type": "slide"
    }
   },
   "source": [
    "Un “dict” (diccionario), es considerado en otros lenguajes como arreglos asociativos. "
   ]
  },
  {
   "cell_type": "markdown",
   "id": "eada2ba0",
   "metadata": {
    "slideshow": {
     "slide_type": "slide"
    }
   },
   "source": [
    "En lugar de estar indexados por números, los diccionarios se indexan por medio de “keys”\n",
    "(llaves) que comprenden tipos inmutables como caracteres o números (Python Software Foundation, 2019)"
   ]
  },
  {
   "cell_type": "code",
   "execution_count": 3,
   "id": "f8371225",
   "metadata": {
    "slideshow": {
     "slide_type": "slide"
    }
   },
   "outputs": [
    {
     "data": {
      "text/plain": [
       "dict"
      ]
     },
     "execution_count": 3,
     "metadata": {},
     "output_type": "execute_result"
    }
   ],
   "source": [
    "altura = {'diego':1.83, 'diana':1.76, 'andrés':1.74}\n",
    "type(altura) "
   ]
  },
  {
   "cell_type": "markdown",
   "id": "dba073e6",
   "metadata": {
    "slideshow": {
     "slide_type": "slide"
    }
   },
   "source": [
    "## 1.4 La función input"
   ]
  },
  {
   "cell_type": "markdown",
   "id": "0c7ace64",
   "metadata": {
    "slideshow": {
     "slide_type": "slide"
    }
   },
   "source": [
    "En el aprendizaje de la programación se trabaja con información o entradas provenientes de un usuario. "
   ]
  },
  {
   "cell_type": "markdown",
   "id": "ffe6469d",
   "metadata": {
    "slideshow": {
     "slide_type": "slide"
    }
   },
   "source": [
    "El usuario ingresa un dato o valor, posteriormente un código lo captura y lo utiliza dentro de una función para arrojar un resultado."
   ]
  },
  {
   "cell_type": "markdown",
   "id": "fba12326",
   "metadata": {
    "slideshow": {
     "slide_type": "slide"
    }
   },
   "source": [
    "La función “`input`” permite que el usuario ingrese una entrada al programa, la cual siempre \n",
    "será guardada como tipo carácter. "
   ]
  },
  {
   "cell_type": "markdown",
   "id": "75fcf2fe",
   "metadata": {
    "slideshow": {
     "slide_type": "slide"
    }
   },
   "source": [
    "En caso de querer usarlo como dato de tipo numérico se debe \n",
    "\n",
    "* utilizar la función “`int`” aplicada a la entrada para convertirlo en un dato de tipo entero o de \n",
    "* usar la función “`float`” se convertiría en flotante. "
   ]
  },
  {
   "cell_type": "markdown",
   "id": "2dcefce1",
   "metadata": {
    "slideshow": {
     "slide_type": "slide"
    }
   },
   "source": [
    "* Un dato puede convertirse a tipo carácter usando la función “`str()`”."
   ]
  },
  {
   "cell_type": "markdown",
   "id": "8b138b04",
   "metadata": {
    "slideshow": {
     "slide_type": "slide"
    }
   },
   "source": [
    "Es conveniente guardar la información que el usuario va a ingresar en una variable para manipularla posteriormente. "
   ]
  },
  {
   "cell_type": "markdown",
   "id": "9247a144",
   "metadata": {
    "slideshow": {
     "slide_type": "slide"
    }
   },
   "source": [
    "La función “`input`” abre un cuadro de texto en el que el usuario podrá ingresar datos."
   ]
  },
  {
   "cell_type": "markdown",
   "id": "cde9d4fe",
   "metadata": {
    "slideshow": {
     "slide_type": "slide"
    }
   },
   "source": [
    "### Ejemplo de la función “`Input`”"
   ]
  },
  {
   "cell_type": "code",
   "execution_count": 4,
   "id": "a7f40252",
   "metadata": {
    "slideshow": {
     "slide_type": "slide"
    }
   },
   "outputs": [
    {
     "name": "stdout",
     "output_type": "stream",
     "text": [
      "Escriba su nombre: Marco\n",
      "Su nombre es:  Marco\n"
     ]
    }
   ],
   "source": [
    "a = input('Escriba su nombre: ')\n",
    "print('Su nombre es: ', a) "
   ]
  },
  {
   "cell_type": "code",
   "execution_count": 6,
   "id": "93290e15",
   "metadata": {
    "slideshow": {
     "slide_type": "slide"
    }
   },
   "outputs": [
    {
     "name": "stdout",
     "output_type": "stream",
     "text": [
      "Tengo 10 productos\n",
      "Entre el número de productos que usted tiene: 4\n",
      "Tenemos  14  productos\n"
     ]
    }
   ],
   "source": [
    "print('Tengo 10 productos')\n",
    "a = int(input('Entre el número de productos que usted tiene: '))\n",
    "print('Tenemos ', 10+a, ' productos') "
   ]
  },
  {
   "cell_type": "markdown",
   "id": "156a60db",
   "metadata": {
    "slideshow": {
     "slide_type": "slide"
    }
   },
   "source": [
    "## 1.5 Otras funciones matemáticas"
   ]
  },
  {
   "cell_type": "markdown",
   "id": "0d34c90d",
   "metadata": {
    "slideshow": {
     "slide_type": "slide"
    }
   },
   "source": [
    "Antes de realizar otras operaciones matemáticas más complejas es necesario entender que Python puede cargar módulos, que son partes de software con funcionalidades específicas. "
   ]
  },
  {
   "cell_type": "markdown",
   "id": "9b928e86",
   "metadata": {
    "slideshow": {
     "slide_type": "slide"
    }
   },
   "source": [
    "Los módulos de Python suelen contener funciones, clases o variables definidas e implementadas (Learn Python Org., 2019)."
   ]
  },
  {
   "cell_type": "markdown",
   "id": "d4079350",
   "metadata": {
    "slideshow": {
     "slide_type": "slide"
    }
   },
   "source": [
    "Uno de estos módulos es el “`math`”, con el cual se pueden aplicar \n",
    "\n",
    "* funciones trigonométricas, \n",
    "* hiperbólicas, \n",
    "* logarítmicas entre otras. "
   ]
  },
  {
   "cell_type": "markdown",
   "id": "5c6d5f46",
   "metadata": {
    "slideshow": {
     "slide_type": "slide"
    }
   },
   "source": [
    "Para hacer uso de este módulo primero debe ser importado utilizando la declaración “`import`“ que permite acceder al código de otros módulos. "
   ]
  },
  {
   "cell_type": "markdown",
   "id": "4c3f80f1",
   "metadata": {
    "slideshow": {
     "slide_type": "slide"
    }
   },
   "source": [
    "Se escribe posteriormente otra declaración llamada `as` para instar el módulo con otro nombre de modo que sea más sencillo llamarlo, esto proviene realmente de que Python soporta programación orientada a objetos."
   ]
  },
  {
   "cell_type": "code",
   "execution_count": 7,
   "id": "ac205abd",
   "metadata": {
    "slideshow": {
     "slide_type": "slide"
    }
   },
   "outputs": [],
   "source": [
    "import math as m "
   ]
  },
  {
   "cell_type": "markdown",
   "id": "f553f75d",
   "metadata": {
    "slideshow": {
     "slide_type": "slide"
    }
   },
   "source": [
    "Al hacer esta importación, ya es posible utilizar las funciones que contiene el módulo “`math`”\n",
    "de Python. "
   ]
  },
  {
   "cell_type": "markdown",
   "id": "f5eac8c7",
   "metadata": {
    "slideshow": {
     "slide_type": "slide"
    }
   },
   "source": [
    "Primero se llama el módulo, seguido se coloca un punto y luego la función que se desee aplicar teniendo en cuenta que entre los paréntesis se coloca la variable o el valor de entrada."
   ]
  },
  {
   "cell_type": "code",
   "execution_count": 9,
   "id": "775bb5c6",
   "metadata": {
    "slideshow": {
     "slide_type": "slide"
    }
   },
   "outputs": [
    {
     "data": {
      "text/plain": [
       "2.718281828459045"
      ]
     },
     "execution_count": 9,
     "metadata": {},
     "output_type": "execute_result"
    }
   ],
   "source": [
    "m.exp(1)"
   ]
  },
  {
   "cell_type": "code",
   "execution_count": 12,
   "id": "686943a2",
   "metadata": {
    "slideshow": {
     "slide_type": "slide"
    }
   },
   "outputs": [
    {
     "name": "stdout",
     "output_type": "stream",
     "text": [
      "Help on built-in function exp in module math:\n",
      "\n",
      "exp(x, /)\n",
      "    Return e raised to the power of x.\n",
      "\n"
     ]
    }
   ],
   "source": [
    "import math as m \n",
    "help(m.exp) "
   ]
  },
  {
   "cell_type": "markdown",
   "id": "672cc098",
   "metadata": {
    "slideshow": {
     "slide_type": "slide"
    }
   },
   "source": [
    "Para conocer todas las demás funciones contenidas en el módulo “`math`” puede utilizarse la función “`dir`” contenida en la librería estándar, en la cual, si se coloca el nombre de un módulo se obtienen los atributos del mismo:\n"
   ]
  },
  {
   "cell_type": "code",
   "execution_count": 14,
   "id": "b986cbdc",
   "metadata": {
    "slideshow": {
     "slide_type": "slide"
    }
   },
   "outputs": [
    {
     "data": {
      "text/plain": [
       "['__doc__',\n",
       " '__loader__',\n",
       " '__name__',\n",
       " '__package__',\n",
       " '__spec__',\n",
       " 'acos',\n",
       " 'acosh',\n",
       " 'asin',\n",
       " 'asinh',\n",
       " 'atan',\n",
       " 'atan2',\n",
       " 'atanh',\n",
       " 'ceil',\n",
       " 'comb',\n",
       " 'copysign',\n",
       " 'cos',\n",
       " 'cosh',\n",
       " 'degrees',\n",
       " 'dist',\n",
       " 'e',\n",
       " 'erf',\n",
       " 'erfc',\n",
       " 'exp',\n",
       " 'expm1',\n",
       " 'fabs',\n",
       " 'factorial',\n",
       " 'floor',\n",
       " 'fmod',\n",
       " 'frexp',\n",
       " 'fsum',\n",
       " 'gamma',\n",
       " 'gcd',\n",
       " 'hypot',\n",
       " 'inf',\n",
       " 'isclose',\n",
       " 'isfinite',\n",
       " 'isinf',\n",
       " 'isnan',\n",
       " 'isqrt',\n",
       " 'ldexp',\n",
       " 'lgamma',\n",
       " 'log',\n",
       " 'log10',\n",
       " 'log1p',\n",
       " 'log2',\n",
       " 'modf',\n",
       " 'nan',\n",
       " 'perm',\n",
       " 'pi',\n",
       " 'pow',\n",
       " 'prod',\n",
       " 'radians',\n",
       " 'remainder',\n",
       " 'sin',\n",
       " 'sinh',\n",
       " 'sqrt',\n",
       " 'tan',\n",
       " 'tanh',\n",
       " 'tau',\n",
       " 'trunc']"
      ]
     },
     "execution_count": 14,
     "metadata": {},
     "output_type": "execute_result"
    }
   ],
   "source": [
    "dir(m)"
   ]
  },
  {
   "cell_type": "markdown",
   "id": "3065c3b2",
   "metadata": {
    "slideshow": {
     "slide_type": "slide"
    }
   },
   "source": [
    "## 1.6 Otros tipos de operadores "
   ]
  },
  {
   "cell_type": "markdown",
   "id": "a016ebdd",
   "metadata": {
    "slideshow": {
     "slide_type": "slide"
    }
   },
   "source": [
    "Los operadores son símbolos utilizados en informática para que el compilador ejecute operaciones sobre unos operandos para producir un resultado (tutorialspoint, 2019). "
   ]
  },
  {
   "cell_type": "markdown",
   "id": "f07d7f20",
   "metadata": {
    "slideshow": {
     "slide_type": "slide"
    }
   },
   "source": [
    "Cabe anotar que además de \n",
    "* los operadores aritméticos \n",
    "existen \n",
    "* los operadores relacionales y \n",
    "* los operadores lógicos. "
   ]
  },
  {
   "cell_type": "markdown",
   "id": "ba57a69e",
   "metadata": {
    "slideshow": {
     "slide_type": "slide"
    }
   },
   "source": [
    "### 1.6.1 Operadores relacionales"
   ]
  },
  {
   "cell_type": "markdown",
   "id": "e1c267eb",
   "metadata": {
    "slideshow": {
     "slide_type": "slide"
    }
   },
   "source": [
    "Los operadores relacionales comparan los valores de dos expresiones y devuelven un resultado booleano. "
   ]
  },
  {
   "cell_type": "markdown",
   "id": "60d8e8c5",
   "metadata": {
    "slideshow": {
     "slide_type": "slide"
    }
   },
   "source": [
    "Los operadores relacionales en Python se muestran en la siguiente tabla:"
   ]
  },
  {
   "cell_type": "code",
   "execution_count": 17,
   "id": "f677346f",
   "metadata": {
    "slideshow": {
     "slide_type": "slide"
    }
   },
   "outputs": [
    {
     "data": {
      "text/html": [
       "<div>\n",
       "<style scoped>\n",
       "    .dataframe tbody tr th:only-of-type {\n",
       "        vertical-align: middle;\n",
       "    }\n",
       "\n",
       "    .dataframe tbody tr th {\n",
       "        vertical-align: top;\n",
       "    }\n",
       "\n",
       "    .dataframe thead th {\n",
       "        text-align: right;\n",
       "    }\n",
       "</style>\n",
       "<table border=\"1\" class=\"dataframe\">\n",
       "  <thead>\n",
       "    <tr style=\"text-align: right;\">\n",
       "      <th></th>\n",
       "      <th>operador</th>\n",
       "      <th>significado</th>\n",
       "    </tr>\n",
       "  </thead>\n",
       "  <tbody>\n",
       "    <tr>\n",
       "      <th>0</th>\n",
       "      <td>==</td>\n",
       "      <td>Es igual a</td>\n",
       "    </tr>\n",
       "    <tr>\n",
       "      <th>1</th>\n",
       "      <td>!=</td>\n",
       "      <td>es diferente de</td>\n",
       "    </tr>\n",
       "    <tr>\n",
       "      <th>2</th>\n",
       "      <td>&gt;</td>\n",
       "      <td>es mayor que</td>\n",
       "    </tr>\n",
       "    <tr>\n",
       "      <th>3</th>\n",
       "      <td>&lt;</td>\n",
       "      <td>es menor que</td>\n",
       "    </tr>\n",
       "    <tr>\n",
       "      <th>4</th>\n",
       "      <td>&gt;=</td>\n",
       "      <td>es mayor o igual que</td>\n",
       "    </tr>\n",
       "    <tr>\n",
       "      <th>5</th>\n",
       "      <td>&lt;=</td>\n",
       "      <td>es menor o igual que</td>\n",
       "    </tr>\n",
       "  </tbody>\n",
       "</table>\n",
       "</div>"
      ],
      "text/plain": [
       "  operador           significado\n",
       "0       ==            Es igual a\n",
       "1       !=       es diferente de\n",
       "2        >          es mayor que\n",
       "3        <          es menor que\n",
       "4       >=  es mayor o igual que\n",
       "5       <=  es menor o igual que"
      ]
     },
     "execution_count": 17,
     "metadata": {},
     "output_type": "execute_result"
    }
   ],
   "source": [
    "import pandas as pd \n",
    "operador = ['==','!=','>','<','>=','<=']\n",
    "significado = ['Es igual a', 'es diferente de', \n",
    "               'es mayor que', 'es menor que', \n",
    "               'es mayor o igual que','es menor o igual que']\n",
    "operadores_relacionales = pd.DataFrame({'operador':operador, 'significado':significado})\n",
    "operadores_relacionales "
   ]
  },
  {
   "cell_type": "markdown",
   "id": "18ac1d21",
   "metadata": {
    "slideshow": {
     "slide_type": "slide"
    }
   },
   "source": [
    "## 1.6.2 Operadores lógicos"
   ]
  },
  {
   "cell_type": "markdown",
   "id": "89039e67",
   "metadata": {
    "slideshow": {
     "slide_type": "slide"
    }
   },
   "source": [
    "Los operadores lógicos ejecutan operaciones en las que usualmente se evalúan dos operandos de tipo lógico y devuelve un resultado de tipo lógico igualmente. "
   ]
  },
  {
   "cell_type": "markdown",
   "id": "b879884f",
   "metadata": {
    "slideshow": {
     "slide_type": "slide"
    }
   },
   "source": [
    "Los operadores lógicos en Python se muestran en la siguiente tabla:"
   ]
  },
  {
   "cell_type": "code",
   "execution_count": 18,
   "id": "8abf8e71",
   "metadata": {
    "slideshow": {
     "slide_type": "slide"
    }
   },
   "outputs": [
    {
     "data": {
      "text/html": [
       "<div>\n",
       "<style scoped>\n",
       "    .dataframe tbody tr th:only-of-type {\n",
       "        vertical-align: middle;\n",
       "    }\n",
       "\n",
       "    .dataframe tbody tr th {\n",
       "        vertical-align: top;\n",
       "    }\n",
       "\n",
       "    .dataframe thead th {\n",
       "        text-align: right;\n",
       "    }\n",
       "</style>\n",
       "<table border=\"1\" class=\"dataframe\">\n",
       "  <thead>\n",
       "    <tr style=\"text-align: right;\">\n",
       "      <th></th>\n",
       "      <th>operador lógico</th>\n",
       "      <th>significado</th>\n",
       "    </tr>\n",
       "  </thead>\n",
       "  <tbody>\n",
       "    <tr>\n",
       "      <th>0</th>\n",
       "      <td>And</td>\n",
       "      <td>Y (determina si ambos operandos son verdaderos)</td>\n",
       "    </tr>\n",
       "    <tr>\n",
       "      <th>1</th>\n",
       "      <td>Or</td>\n",
       "      <td>O (determina si alguno de los operandos son ve...</td>\n",
       "    </tr>\n",
       "    <tr>\n",
       "      <th>2</th>\n",
       "      <td>Not</td>\n",
       "      <td>No es (niega el valor de un operando)</td>\n",
       "    </tr>\n",
       "  </tbody>\n",
       "</table>\n",
       "</div>"
      ],
      "text/plain": [
       "  operador lógico                                        significado\n",
       "0             And    Y (determina si ambos operandos son verdaderos)\n",
       "1              Or  O (determina si alguno de los operandos son ve...\n",
       "2             Not              No es (niega el valor de un operando)"
      ]
     },
     "execution_count": 18,
     "metadata": {},
     "output_type": "execute_result"
    }
   ],
   "source": [
    "import pandas as pd \n",
    "operador = ['And','Or','Not']\n",
    "significado = ['Y (determina si ambos operandos son verdaderos)', \n",
    "              'O (determina si alguno de los operandos son verdaderos)',\n",
    "              'No es (niega el valor de un operando)']\n",
    "operadores_logicos = pd.DataFrame({'operador lógico':operador, 'significado':significado})\n",
    "operadores_logicos"
   ]
  },
  {
   "cell_type": "markdown",
   "id": "4e001686",
   "metadata": {
    "slideshow": {
     "slide_type": "slide"
    }
   },
   "source": [
    "Los operadores relacionales y lógicos son esenciales ya que son la base del control y gestión de los datos, en especial para comparar datos y modificar información en una variable (Mueller, John, 2018, p. 115). "
   ]
  },
  {
   "cell_type": "markdown",
   "id": "6f0ab179",
   "metadata": {
    "slideshow": {
     "slide_type": "slide"
    }
   },
   "source": [
    "Cabe anotar que el uso de los operadores se da cuando se trabajan estructuras de control para ejecutar tareas, ya que se evalúan condiciones dadas antes de continuar con la ejecución de las mismas."
   ]
  },
  {
   "cell_type": "markdown",
   "id": "9f3c8480",
   "metadata": {
    "slideshow": {
     "slide_type": "slide"
    }
   },
   "source": [
    "### Ejemplo de operadores relacionales.\n"
   ]
  },
  {
   "cell_type": "code",
   "execution_count": 19,
   "id": "ba0a5435",
   "metadata": {
    "slideshow": {
     "slide_type": "slide"
    }
   },
   "outputs": [
    {
     "data": {
      "text/plain": [
       "(True,)"
      ]
     },
     "execution_count": 19,
     "metadata": {},
     "output_type": "execute_result"
    }
   ],
   "source": [
    "3==2+1, "
   ]
  },
  {
   "cell_type": "markdown",
   "id": "86c3d6af",
   "metadata": {
    "slideshow": {
     "slide_type": "slide"
    }
   },
   "source": [
    "### Ejemplo de operadores relacionales con operadores lógicos.\n"
   ]
  },
  {
   "cell_type": "code",
   "execution_count": null,
   "id": "9fd1fb2e",
   "metadata": {
    "slideshow": {
     "slide_type": "slide"
    }
   },
   "outputs": [],
   "source": []
  },
  {
   "cell_type": "code",
   "execution_count": null,
   "id": "e189b488",
   "metadata": {
    "slideshow": {
     "slide_type": "slide"
    }
   },
   "outputs": [],
   "source": []
  },
  {
   "cell_type": "markdown",
   "id": "06c2f24a",
   "metadata": {
    "slideshow": {
     "slide_type": "slide"
    }
   },
   "source": [
    "## Referentes\n",
    "\n",
    "* Calderon"
   ]
  },
  {
   "cell_type": "code",
   "execution_count": null,
   "id": "7baefc29",
   "metadata": {},
   "outputs": [],
   "source": []
  }
 ],
 "metadata": {
  "celltoolbar": "Slideshow",
  "kernelspec": {
   "display_name": "Python 3",
   "language": "python",
   "name": "python3"
  },
  "language_info": {
   "codemirror_mode": {
    "name": "ipython",
    "version": 3
   },
   "file_extension": ".py",
   "mimetype": "text/x-python",
   "name": "python",
   "nbconvert_exporter": "python",
   "pygments_lexer": "ipython3",
   "version": "3.8.8"
  },
  "latex_envs": {
   "LaTeX_envs_menu_present": true,
   "autoclose": false,
   "autocomplete": false,
   "bibliofile": "biblio.bib",
   "cite_by": "apalike",
   "current_citInitial": 1,
   "eqLabelWithNumbers": true,
   "eqNumInitial": 1,
   "hotkeys": {
    "equation": "Ctrl-E",
    "itemize": "Ctrl-I"
   },
   "labels_anchors": false,
   "latex_user_defs": false,
   "report_style_numbering": false,
   "user_envs_cfg": false
  },
  "rise": {
   "enable_chalkboard": true,
   "theme": "sky",
   "transition": "sky"
  }
 },
 "nbformat": 4,
 "nbformat_minor": 5
}
