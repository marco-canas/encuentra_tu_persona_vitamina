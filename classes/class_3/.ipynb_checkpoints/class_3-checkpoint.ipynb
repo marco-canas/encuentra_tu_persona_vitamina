{
 "cells": [
  {
   "cell_type": "markdown",
   "id": "002067e4",
   "metadata": {
    "slideshow": {
     "slide_type": "slide"
    }
   },
   "source": [
    "<table align=\"left\">\n",
    "  <td>\n",
    "    <a href=\"https://colab.research.google.com/github/marco-canas/taca/blob/main/ref/geron/chap_2/5_prepare_for_algorithms/1_prepare_for_algorithms.ipynb\" target=\"_parent\"><img src=\"https://colab.research.google.com/assets/colab-badge.svg\" alt=\"Open In Colab\"/></a>\n",
    "  </td>\n",
    "  <td>\n",
    "    <a target=\"_blank\" href=\"https://kaggle.com/kernels/welcome?src=https://github.com/marco-canas/taca/blob/main/ref/geron/chap_2/5_prepare_for_algorithms/1_prepare_for_algorithms.ipynb\"><img src=\"https://kaggle.com/static/images/open-in-kaggle.svg\" /></a>\n",
    "  </td>\n",
    "</table> "
   ]
  },
  {
   "cell_type": "markdown",
   "id": "8ea075bb",
   "metadata": {
    "slideshow": {
     "slide_type": "slide"
    }
   },
   "source": [
    "# Clase 3 "
   ]
  },
  {
   "cell_type": "markdown",
   "id": "3d303bcd",
   "metadata": {
    "slideshow": {
     "slide_type": "slide"
    }
   },
   "source": [
    "# Capítulo 5\n",
    "## Funciones productivas"
   ]
  },
  {
   "cell_type": "markdown",
   "id": "3adbd8ac",
   "metadata": {
    "slideshow": {
     "slide_type": "slide"
    }
   },
   "source": [
    "5.1. Valores de retorno\n",
    "Algunas de las funciones internas que hemos usado, como las funciones math o\n",
    "funciones matem´aticas, han producido resultados. Llamar a la funci´on genera un\n",
    "nuevo valor, que normalmente asignamos a una variable pasa usar como parte\n",
    "de una expresi´on.\n",
    "import math\n",
    "e = math.exp(1.0)\n",
    "altura = radio * math.sin(angulo)\n",
    "Pero hasta ahora, ninguna de las funciones que hemos escrito ha devuelto un\n",
    "valor."
   ]
  },
  {
   "cell_type": "markdown",
   "id": "57ab1573",
   "metadata": {
    "slideshow": {
     "slide_type": "slide"
    }
   },
   "source": [
    "En este capítulo escribiremos funciones que devuelvan valores, que llamaremos funciones productivas, a falta de un nombre mejor. "
   ]
  },
  {
   "cell_type": "markdown",
   "id": "de3a6756",
   "metadata": {
    "slideshow": {
     "slide_type": "slide"
    }
   },
   "source": [
    "El primer ejemplo es área, que devuelve el área de un círculo con un radio dado:"
   ]
  },
  {
   "cell_type": "code",
   "execution_count": null,
   "id": "73b11605",
   "metadata": {
    "slideshow": {
     "slide_type": "slide"
    }
   },
   "outputs": [],
   "source": [
    "import math\n",
    "def area(radio):\n",
    "    temporal = math.pi * radio**2\n",
    "    return temporal"
   ]
  },
  {
   "cell_type": "markdown",
   "id": "01fbca01",
   "metadata": {
    "slideshow": {
     "slide_type": "slide"
    }
   },
   "source": [
    "Ya hemos visto antes la sentencia return, pero en una función productiva la sentencia `return` incluye un valor de retorno. "
   ]
  },
  {
   "cell_type": "markdown",
   "id": "1b89b3b4",
   "metadata": {
    "slideshow": {
     "slide_type": "slide"
    }
   },
   "source": [
    "Esta sentencia quiere decir “retorna inmediatamente de la función y usa la siguiente expresión como valor de retorno”. "
   ]
  },
  {
   "cell_type": "markdown",
   "id": "903dce77",
   "metadata": {
    "slideshow": {
     "slide_type": "slide"
    }
   },
   "source": [
    "La expresión dada puede ser arbitrariamente complicada; así pues, podríamos haber escrito esta función más concisamente:"
   ]
  },
  {
   "cell_type": "markdown",
   "id": "420b0bd4",
   "metadata": {
    "slideshow": {
     "slide_type": "slide"
    }
   },
   "source": []
  },
  {
   "cell_type": "code",
   "execution_count": null,
   "id": "d84f44b7",
   "metadata": {
    "slideshow": {
     "slide_type": "slide"
    }
   },
   "outputs": [],
   "source": []
  },
  {
   "cell_type": "code",
   "execution_count": null,
   "id": "0a144551",
   "metadata": {
    "slideshow": {
     "slide_type": "slide"
    }
   },
   "outputs": [],
   "source": []
  },
  {
   "cell_type": "code",
   "execution_count": null,
   "id": "316ca7c5",
   "metadata": {
    "slideshow": {
     "slide_type": "slide"
    }
   },
   "outputs": [],
   "source": []
  },
  {
   "cell_type": "markdown",
   "id": "bea753bf",
   "metadata": {
    "slideshow": {
     "slide_type": "slide"
    }
   },
   "source": [
    "# 1.3 Estructuras de datos básicas  "
   ]
  },
  {
   "cell_type": "markdown",
   "id": "560d00f2",
   "metadata": {
    "slideshow": {
     "slide_type": "slide"
    }
   },
   "source": [
    "Una forma más adecuada de almacenar la información es a través de \n",
    "* listas, \n",
    "* “tuplas” y \n",
    "* diccionarios.\n",
    "\n",
    "En ellos, la variable se compone de un conjunto ordenado de datos. Para \n",
    "crear estas estructuras se debe dar nombre a una variable, utilizar el operador de \n",
    "declaración igual (`=`) y dependiendo de si se usan paréntesis, corchetes o llaves se puede\n",
    "crear:"
   ]
  },
  {
   "cell_type": "markdown",
   "id": "29f33f5a",
   "metadata": {
    "slideshow": {
     "slide_type": "slide"
    }
   },
   "source": [
    "## 1.3.1 Listas"
   ]
  },
  {
   "cell_type": "markdown",
   "id": "7d825779",
   "metadata": {
    "slideshow": {
     "slide_type": "slide"
    }
   },
   "source": [
    "Una “`list`” (lista) es un conjunto de datos que pueden ser de diferente tipo, es decir, que \n",
    "puede contener \n",
    "* números enteros, \n",
    "* decimales, \n",
    "* caracteres, \n",
    "* valores booleanos entre otros, \n",
    "\n",
    "cuyos elementos **son modificables o mutables** y que se encuentran indexados, es decir \n",
    "que los datos se enumeran comenzando desde 0. Para crear listas se usan corchetes (`[ ]`)."
   ]
  },
  {
   "cell_type": "code",
   "execution_count": 1,
   "id": "3e27711e",
   "metadata": {
    "slideshow": {
     "slide_type": "slide"
    }
   },
   "outputs": [],
   "source": [
    "lista_1 = [1,0.5,'marco',True]"
   ]
  },
  {
   "cell_type": "code",
   "execution_count": null,
   "id": "c5d6dbee",
   "metadata": {
    "slideshow": {
     "slide_type": "slide"
    }
   },
   "outputs": [],
   "source": []
  },
  {
   "cell_type": "code",
   "execution_count": null,
   "id": "0fd343af",
   "metadata": {
    "slideshow": {
     "slide_type": "slide"
    }
   },
   "outputs": [],
   "source": []
  },
  {
   "cell_type": "code",
   "execution_count": null,
   "id": "8673acd2",
   "metadata": {
    "slideshow": {
     "slide_type": "slide"
    }
   },
   "outputs": [],
   "source": []
  },
  {
   "cell_type": "markdown",
   "id": "34e26450",
   "metadata": {
    "slideshow": {
     "slide_type": "slide"
    }
   },
   "source": [
    "## Referentes\n",
    "\n",
    "* Calderon"
   ]
  },
  {
   "cell_type": "code",
   "execution_count": null,
   "id": "18001624",
   "metadata": {},
   "outputs": [],
   "source": []
  }
 ],
 "metadata": {
  "celltoolbar": "Slideshow",
  "kernelspec": {
   "display_name": "Python 3",
   "language": "python",
   "name": "python3"
  },
  "language_info": {
   "codemirror_mode": {
    "name": "ipython",
    "version": 3
   },
   "file_extension": ".py",
   "mimetype": "text/x-python",
   "name": "python",
   "nbconvert_exporter": "python",
   "pygments_lexer": "ipython3",
   "version": "3.8.8"
  },
  "latex_envs": {
   "LaTeX_envs_menu_present": true,
   "autoclose": false,
   "autocomplete": false,
   "bibliofile": "biblio.bib",
   "cite_by": "apalike",
   "current_citInitial": 1,
   "eqLabelWithNumbers": true,
   "eqNumInitial": 1,
   "hotkeys": {
    "equation": "Ctrl-E",
    "itemize": "Ctrl-I"
   },
   "labels_anchors": false,
   "latex_user_defs": false,
   "report_style_numbering": false,
   "user_envs_cfg": false
  },
  "rise": {
   "enable_chalkboard": true,
   "theme": "sky",
   "transition": "sky"
  }
 },
 "nbformat": 4,
 "nbformat_minor": 5
}
