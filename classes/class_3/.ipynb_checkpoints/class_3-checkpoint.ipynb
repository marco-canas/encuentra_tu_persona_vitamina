{
 "cells": [
  {
   "cell_type": "markdown",
   "id": "002067e4",
   "metadata": {
    "slideshow": {
     "slide_type": "slide"
    }
   },
   "source": [
    "<table align=\"left\">\n",
    "  <td>\n",
    "    <a href=\"https://colab.research.google.com/github/marco-canas/taca/blob/main/ref/geron/chap_2/5_prepare_for_algorithms/1_prepare_for_algorithms.ipynb\" target=\"_parent\"><img src=\"https://colab.research.google.com/assets/colab-badge.svg\" alt=\"Open In Colab\"/></a>\n",
    "  </td>\n",
    "  <td>\n",
    "    <a target=\"_blank\" href=\"https://kaggle.com/kernels/welcome?src=https://github.com/marco-canas/taca/blob/main/ref/geron/chap_2/5_prepare_for_algorithms/1_prepare_for_algorithms.ipynb\"><img src=\"https://kaggle.com/static/images/open-in-kaggle.svg\" /></a>\n",
    "  </td>\n",
    "</table> "
   ]
  },
  {
   "cell_type": "markdown",
   "id": "8ea075bb",
   "metadata": {
    "slideshow": {
     "slide_type": "slide"
    }
   },
   "source": [
    "# Clase 3 "
   ]
  },
  {
   "cell_type": "markdown",
   "id": "3d303bcd",
   "metadata": {
    "slideshow": {
     "slide_type": "slide"
    }
   },
   "source": [
    "# Capítulo 5\n",
    "## Funciones productivas"
   ]
  },
  {
   "cell_type": "markdown",
   "id": "26f00559",
   "metadata": {
    "slideshow": {
     "slide_type": "slide"
    }
   },
   "source": [
    "5.1. Valores de retorno\n",
    "Algunas de las funciones internas que hemos usado, como las funciones math o\n",
    "funciones matem´aticas, han producido resultados. Llamar a la funci´on genera un\n",
    "nuevo valor, que normalmente asignamos a una variable pasa usar como parte\n",
    "de una expresi´on.\n",
    "import math\n",
    "e = math.exp(1.0)\n",
    "altura = radio * math.sin(angulo)\n",
    "Pero hasta ahora, ninguna de las funciones que hemos escrito ha devuelto un\n",
    "valor."
   ]
  },
  {
   "cell_type": "markdown",
   "id": "8f32377e",
   "metadata": {
    "slideshow": {
     "slide_type": "slide"
    }
   },
   "source": [
    "En este capítulo escribiremos funciones que devuelvan valores, que llamaremos funciones productivas, a falta de un nombre mejor. "
   ]
  },
  {
   "cell_type": "markdown",
   "id": "09ba5a68",
   "metadata": {
    "slideshow": {
     "slide_type": "slide"
    }
   },
   "source": [
    "El primer ejemplo es área, que devuelve el área de un círculo con un radio dado:"
   ]
  },
  {
   "cell_type": "code",
   "execution_count": null,
   "id": "8c0d7dc7",
   "metadata": {
    "slideshow": {
     "slide_type": "slide"
    }
   },
   "outputs": [],
   "source": [
    "import math\n",
    "def area(radio):\n",
    "    temporal = math.pi * radio**2\n",
    "    return temporal"
   ]
  },
  {
   "cell_type": "markdown",
   "id": "6bdad426",
   "metadata": {
    "slideshow": {
     "slide_type": "slide"
    }
   },
   "source": [
    "Ya hemos visto antes la sentencia return, pero en una función productiva la sentencia `return` incluye un valor de retorno. "
   ]
  },
  {
   "cell_type": "markdown",
   "id": "737f99c9",
   "metadata": {
    "slideshow": {
     "slide_type": "slide"
    }
   },
   "source": [
    "Esta sentencia quiere decir “retorna inmediatamente de la función y usa la siguiente expresión como valor de retorno”. "
   ]
  },
  {
   "cell_type": "markdown",
   "id": "f5866416",
   "metadata": {
    "slideshow": {
     "slide_type": "slide"
    }
   },
   "source": [
    "La expresión dada puede ser arbitrariamente complicada; así pues, podríamos haber escrito esta función más concisamente:"
   ]
  },
  {
   "cell_type": "markdown",
   "id": "a67421a6",
   "metadata": {
    "slideshow": {
     "slide_type": "slide"
    }
   },
   "source": []
  },
  {
   "cell_type": "code",
   "execution_count": null,
   "id": "d84f44b7",
   "metadata": {
    "slideshow": {
     "slide_type": "slide"
    }
   },
   "outputs": [],
   "source": []
  },
  {
   "cell_type": "code",
   "execution_count": null,
   "id": "3532fafc",
   "metadata": {
    "slideshow": {
     "slide_type": "slide"
    }
   },
   "outputs": [],
   "source": []
  },
  {
   "cell_type": "code",
   "execution_count": null,
   "id": "155118f0",
   "metadata": {
    "slideshow": {
     "slide_type": "slide"
    }
   },
   "outputs": [],
   "source": []
  },
  {
   "cell_type": "markdown",
   "id": "b788b616",
   "metadata": {
    "slideshow": {
     "slide_type": "slide"
    }
   },
   "source": [
    "# 1.3 Estructuras de datos básicas  "
   ]
  },
  {
   "cell_type": "markdown",
   "id": "693b5376",
   "metadata": {
    "slideshow": {
     "slide_type": "slide"
    }
   },
   "source": [
    "Una forma más adecuada de almacenar la información es a través de \n",
    "* listas, \n",
    "* “tuplas” y \n",
    "* diccionarios.\n",
    "\n",
    "En ellos, la variable se compone de un conjunto ordenado de datos. Para \n",
    "crear estas estructuras se debe dar nombre a una variable, utilizar el operador de \n",
    "declaración igual (`=`) y dependiendo de si se usan paréntesis, corchetes o llaves se puede\n",
    "crear:"
   ]
  },
  {
   "cell_type": "markdown",
   "id": "ab333079",
   "metadata": {
    "slideshow": {
     "slide_type": "slide"
    }
   },
   "source": [
    "## 1.3.1 Listas"
   ]
  },
  {
   "cell_type": "markdown",
   "id": "7aae689b",
   "metadata": {
    "slideshow": {
     "slide_type": "slide"
    }
   },
   "source": [
    "Una “`list`” (lista) es un conjunto de datos que pueden ser de diferente tipo, es decir, que \n",
    "puede contener \n",
    "* números enteros, \n",
    "* decimales, \n",
    "* caracteres, \n",
    "* valores booleanos entre otros, \n",
    "\n",
    "cuyos elementos **son modificables o mutables** y que se encuentran indexados, es decir \n",
    "que los datos se enumeran comenzando desde 0. Para crear listas se usan corchetes (`[ ]`)."
   ]
  },
  {
   "cell_type": "code",
   "execution_count": 1,
   "id": "a6fdc7c1",
   "metadata": {
    "slideshow": {
     "slide_type": "slide"
    }
   },
   "outputs": [],
   "source": [
    "lista_1 = [1,0.5,'marco',True]"
   ]
  },
  {
   "cell_type": "markdown",
   "id": "a6dc8871",
   "metadata": {
    "slideshow": {
     "slide_type": "slide"
    }
   },
   "source": [
    "## 1.3.2 Tuplas"
   ]
  },
  {
   "cell_type": "markdown",
   "id": "b63ec2a1",
   "metadata": {
    "slideshow": {
     "slide_type": "slide"
    }
   },
   "source": [
    "En esta estructura, los datos se separan por comas y se encuentran entre paréntesis. "
   ]
  },
  {
   "cell_type": "markdown",
   "id": "329930d5",
   "metadata": {
    "slideshow": {
     "slide_type": "slide"
    }
   },
   "source": [
    "Las tuplas se caracterizan porque no se pueden modificar, son inmutables. "
   ]
  },
  {
   "cell_type": "markdown",
   "id": "9b8bca80",
   "metadata": {
    "slideshow": {
     "slide_type": "slide"
    }
   },
   "source": [
    "Es decir, no se puede añadir, quitar datos ni modificar los que contiene, por la vía del operador de asignación."
   ]
  },
  {
   "cell_type": "markdown",
   "id": "2e5da827",
   "metadata": {
    "slideshow": {
     "slide_type": "slide"
    }
   },
   "source": [
    "Sin embargo, se pueden extraer partes de las tuplas para crear nuevas tuplas o reemplazarlas con otra tupla. "
   ]
  },
  {
   "cell_type": "markdown",
   "id": "ffa0e78d",
   "metadata": {
    "slideshow": {
     "slide_type": "slide"
    }
   },
   "source": [
    "Las tuplas también están indexadas y además puede  contener objetos mutables, por lo que puede existir una lista inmersa en una tupla."
   ]
  },
  {
   "cell_type": "code",
   "execution_count": 2,
   "id": "7b1051c2",
   "metadata": {
    "slideshow": {
     "slide_type": "slide"
    }
   },
   "outputs": [
    {
     "name": "stdout",
     "output_type": "stream",
     "text": [
      "<class 'list'>\n",
      "<class 'tuple'>\n"
     ]
    }
   ],
   "source": [
    "datos1 = [1,2,3]\n",
    "datos2 = (4,5,6)\n",
    "print(type(datos1))\n",
    "print(type(datos2))"
   ]
  },
  {
   "cell_type": "markdown",
   "id": "1e38089b",
   "metadata": {
    "slideshow": {
     "slide_type": "slide"
    }
   },
   "source": [
    "## 1.3.3 Diccionarios"
   ]
  },
  {
   "cell_type": "markdown",
   "id": "628eab71",
   "metadata": {
    "slideshow": {
     "slide_type": "slide"
    }
   },
   "source": [
    "Un “dict” (diccionario), es considerado en otros lenguajes como arreglos asociativos. "
   ]
  },
  {
   "cell_type": "markdown",
   "id": "7d0dbcfe",
   "metadata": {
    "slideshow": {
     "slide_type": "slide"
    }
   },
   "source": [
    "En lugar de estar indexados por números, los diccionarios se indexan por medio de “keys”\n",
    "(llaves) que comprenden tipos inmutables como caracteres o números (Python Software Foundation, 2019)"
   ]
  },
  {
   "cell_type": "code",
   "execution_count": null,
   "id": "a039f8fa",
   "metadata": {},
   "outputs": [],
   "source": []
  },
  {
   "cell_type": "code",
   "execution_count": null,
   "id": "fc0ad5ff",
   "metadata": {},
   "outputs": [],
   "source": []
  },
  {
   "cell_type": "code",
   "execution_count": null,
   "id": "097f22b5",
   "metadata": {},
   "outputs": [],
   "source": []
  },
  {
   "cell_type": "markdown",
   "id": "2750467c",
   "metadata": {
    "slideshow": {
     "slide_type": "slide"
    }
   },
   "source": [
    "## Referentes\n",
    "\n",
    "* Calderon"
   ]
  },
  {
   "cell_type": "code",
   "execution_count": null,
   "id": "0aeb7ce2",
   "metadata": {},
   "outputs": [],
   "source": []
  }
 ],
 "metadata": {
  "celltoolbar": "Slideshow",
  "kernelspec": {
   "display_name": "Python 3",
   "language": "python",
   "name": "python3"
  },
  "language_info": {
   "codemirror_mode": {
    "name": "ipython",
    "version": 3
   },
   "file_extension": ".py",
   "mimetype": "text/x-python",
   "name": "python",
   "nbconvert_exporter": "python",
   "pygments_lexer": "ipython3",
   "version": "3.8.8"
  },
  "latex_envs": {
   "LaTeX_envs_menu_present": true,
   "autoclose": false,
   "autocomplete": false,
   "bibliofile": "biblio.bib",
   "cite_by": "apalike",
   "current_citInitial": 1,
   "eqLabelWithNumbers": true,
   "eqNumInitial": 1,
   "hotkeys": {
    "equation": "Ctrl-E",
    "itemize": "Ctrl-I"
   },
   "labels_anchors": false,
   "latex_user_defs": false,
   "report_style_numbering": false,
   "user_envs_cfg": false
  },
  "rise": {
   "enable_chalkboard": true,
   "theme": "sky",
   "transition": "sky"
  }
 },
 "nbformat": 4,
 "nbformat_minor": 5
}
