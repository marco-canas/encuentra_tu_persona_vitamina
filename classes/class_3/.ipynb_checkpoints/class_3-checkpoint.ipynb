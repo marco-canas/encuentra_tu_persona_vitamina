{
 "cells": [
  {
   "cell_type": "markdown",
   "id": "002067e4",
   "metadata": {
    "slideshow": {
     "slide_type": "slide"
    }
   },
   "source": [
    "<table align=\"left\">\n",
    "  <td>\n",
    "    <a href=\"https://colab.research.google.com/github/marco-canas/taca/blob/main/ref/geron/chap_2/5_prepare_for_algorithms/1_prepare_for_algorithms.ipynb\" target=\"_parent\"><img src=\"https://colab.research.google.com/assets/colab-badge.svg\" alt=\"Open In Colab\"/></a>\n",
    "  </td>\n",
    "  <td>\n",
    "    <a target=\"_blank\" href=\"https://kaggle.com/kernels/welcome?src=https://github.com/marco-canas/taca/blob/main/ref/geron/chap_2/5_prepare_for_algorithms/1_prepare_for_algorithms.ipynb\"><img src=\"https://kaggle.com/static/images/open-in-kaggle.svg\" /></a>\n",
    "  </td>\n",
    "</table> "
   ]
  },
  {
   "cell_type": "markdown",
   "id": "8ea075bb",
   "metadata": {
    "slideshow": {
     "slide_type": "slide"
    }
   },
   "source": [
    "# Clase 3 "
   ]
  },
  {
   "cell_type": "markdown",
   "id": "3d303bcd",
   "metadata": {
    "slideshow": {
     "slide_type": "slide"
    }
   },
   "source": [
    "# Capítulo 5\n",
    "## Funciones productivas"
   ]
  },
  {
   "cell_type": "markdown",
   "id": "a5b63b5f",
   "metadata": {
    "slideshow": {
     "slide_type": "slide"
    }
   },
   "source": [
    "## 5.1. Valores de retorno"
   ]
  },
  {
   "cell_type": "markdown",
   "id": "9c53e752",
   "metadata": {
    "slideshow": {
     "slide_type": "slide"
    }
   },
   "source": [
    "## [Video de apoyo sobre valores de retorno]()"
   ]
  },
  {
   "cell_type": "markdown",
   "id": "3aa2e12d",
   "metadata": {
    "slideshow": {
     "slide_type": "slide"
    }
   },
   "source": [
    "Algunas de las funciones internas que hemos usado, como las funciones `math` o funciones matemáaticas, han producido resultados. "
   ]
  },
  {
   "cell_type": "markdown",
   "id": "1e9b23e5",
   "metadata": {
    "slideshow": {
     "slide_type": "slide"
    }
   },
   "source": [
    "Llamar a la función genera un nuevo valor, que normalmente asignamos a una variable pasa usar como parte de una expresión."
   ]
  },
  {
   "cell_type": "code",
   "execution_count": 1,
   "id": "e2dafe36",
   "metadata": {
    "slideshow": {
     "slide_type": "slide"
    }
   },
   "outputs": [],
   "source": [
    "import math"
   ]
  },
  {
   "cell_type": "code",
   "execution_count": 2,
   "id": "957bfb02",
   "metadata": {
    "scrolled": true,
    "slideshow": {
     "slide_type": "slide"
    }
   },
   "outputs": [
    {
     "data": {
      "text/plain": [
       "['__doc__',\n",
       " '__loader__',\n",
       " '__name__',\n",
       " '__package__',\n",
       " '__spec__',\n",
       " 'acos',\n",
       " 'acosh',\n",
       " 'asin',\n",
       " 'asinh',\n",
       " 'atan',\n",
       " 'atan2',\n",
       " 'atanh',\n",
       " 'ceil',\n",
       " 'comb',\n",
       " 'copysign',\n",
       " 'cos',\n",
       " 'cosh',\n",
       " 'degrees',\n",
       " 'dist',\n",
       " 'e',\n",
       " 'erf',\n",
       " 'erfc',\n",
       " 'exp',\n",
       " 'expm1',\n",
       " 'fabs',\n",
       " 'factorial',\n",
       " 'floor',\n",
       " 'fmod',\n",
       " 'frexp',\n",
       " 'fsum',\n",
       " 'gamma',\n",
       " 'gcd',\n",
       " 'hypot',\n",
       " 'inf',\n",
       " 'isclose',\n",
       " 'isfinite',\n",
       " 'isinf',\n",
       " 'isnan',\n",
       " 'isqrt',\n",
       " 'ldexp',\n",
       " 'lgamma',\n",
       " 'log',\n",
       " 'log10',\n",
       " 'log1p',\n",
       " 'log2',\n",
       " 'modf',\n",
       " 'nan',\n",
       " 'perm',\n",
       " 'pi',\n",
       " 'pow',\n",
       " 'prod',\n",
       " 'radians',\n",
       " 'remainder',\n",
       " 'sin',\n",
       " 'sinh',\n",
       " 'sqrt',\n",
       " 'tan',\n",
       " 'tanh',\n",
       " 'tau',\n",
       " 'trunc']"
      ]
     },
     "execution_count": 2,
     "metadata": {},
     "output_type": "execute_result"
    }
   ],
   "source": [
    "dir(math)"
   ]
  },
  {
   "cell_type": "code",
   "execution_count": 3,
   "id": "7ed5e6ba",
   "metadata": {
    "slideshow": {
     "slide_type": "slide"
    }
   },
   "outputs": [
    {
     "data": {
      "text/plain": [
       "2.718281828459045"
      ]
     },
     "execution_count": 3,
     "metadata": {},
     "output_type": "execute_result"
    }
   ],
   "source": [
    "e = math.exp(1)\n",
    "e "
   ]
  },
  {
   "cell_type": "code",
   "execution_count": null,
   "id": "94a8e3de",
   "metadata": {
    "slideshow": {
     "slide_type": "slide"
    }
   },
   "outputs": [],
   "source": [
    "e = math.exp(1.0)\n",
    "e "
   ]
  },
  {
   "cell_type": "code",
   "execution_count": 4,
   "id": "50d43ccd",
   "metadata": {
    "slideshow": {
     "slide_type": "slide"
    }
   },
   "outputs": [
    {
     "data": {
      "text/plain": [
       "3.141592653589793"
      ]
     },
     "execution_count": 4,
     "metadata": {},
     "output_type": "execute_result"
    }
   ],
   "source": [
    "math.pi"
   ]
  },
  {
   "cell_type": "code",
   "execution_count": 5,
   "id": "d441aa75",
   "metadata": {
    "slideshow": {
     "slide_type": "slide"
    }
   },
   "outputs": [],
   "source": [
    "angulo = math.pi/2"
   ]
  },
  {
   "cell_type": "code",
   "execution_count": 6,
   "id": "2590a678",
   "metadata": {
    "slideshow": {
     "slide_type": "slide"
    }
   },
   "outputs": [
    {
     "name": "stdout",
     "output_type": "stream",
     "text": [
      "1.57   1\n"
     ]
    }
   ],
   "source": [
    "radio = 1 \n",
    "print(round(angulo,2),' ', radio)"
   ]
  },
  {
   "cell_type": "code",
   "execution_count": 7,
   "id": "4abf3c8c",
   "metadata": {
    "slideshow": {
     "slide_type": "slide"
    }
   },
   "outputs": [
    {
     "data": {
      "text/plain": [
       "1.0"
      ]
     },
     "execution_count": 7,
     "metadata": {},
     "output_type": "execute_result"
    }
   ],
   "source": [
    "altura = radio * math.sin(angulo)\n",
    "altura "
   ]
  },
  {
   "cell_type": "code",
   "execution_count": 10,
   "id": "4be03570",
   "metadata": {
    "slideshow": {
     "slide_type": "slide"
    }
   },
   "outputs": [
    {
     "data": {
      "text/plain": [
       "1.4142135623730951"
      ]
     },
     "execution_count": 10,
     "metadata": {},
     "output_type": "execute_result"
    }
   ],
   "source": [
    "math.sqrt(2)"
   ]
  },
  {
   "cell_type": "markdown",
   "id": "34aef68e",
   "metadata": {
    "slideshow": {
     "slide_type": "slide"
    }
   },
   "source": [
    "### Funciones productivas o que devuelven algún valor "
   ]
  },
  {
   "cell_type": "markdown",
   "id": "3d4cac95",
   "metadata": {
    "slideshow": {
     "slide_type": "slide"
    }
   },
   "source": [
    "El primer ejemplo es área, que devuelve el área de un círculo con un radio dado:"
   ]
  },
  {
   "cell_type": "code",
   "execution_count": 11,
   "id": "e859f78c",
   "metadata": {
    "slideshow": {
     "slide_type": "slide"
    }
   },
   "outputs": [],
   "source": [
    "def nueva_linea():\n",
    "    print() "
   ]
  },
  {
   "cell_type": "code",
   "execution_count": 12,
   "id": "93a83e5c",
   "metadata": {
    "slideshow": {
     "slide_type": "slide"
    }
   },
   "outputs": [
    {
     "name": "stdout",
     "output_type": "stream",
     "text": [
      "primera línea\n",
      "\n",
      "segunda línea\n"
     ]
    }
   ],
   "source": [
    "print('primera línea')\n",
    "nueva_linea()\n",
    "print('segunda línea')\n"
   ]
  },
  {
   "cell_type": "code",
   "execution_count": null,
   "id": "b10a52a0",
   "metadata": {
    "slideshow": {
     "slide_type": "slide"
    }
   },
   "outputs": [],
   "source": [
    "import math as m "
   ]
  },
  {
   "cell_type": "code",
   "execution_count": 13,
   "id": "dfe6c627",
   "metadata": {
    "slideshow": {
     "slide_type": "slide"
    }
   },
   "outputs": [],
   "source": [
    "def area_circulo(radio):\n",
    "    temporal = math.pi * radio**2\n",
    "    return temporal"
   ]
  },
  {
   "cell_type": "code",
   "execution_count": 14,
   "id": "b309272b",
   "metadata": {
    "slideshow": {
     "slide_type": "slide"
    }
   },
   "outputs": [
    {
     "data": {
      "text/plain": [
       "3.141592653589793"
      ]
     },
     "execution_count": 14,
     "metadata": {},
     "output_type": "execute_result"
    }
   ],
   "source": [
    "area_circulo(1)"
   ]
  },
  {
   "cell_type": "markdown",
   "id": "bc1a0745",
   "metadata": {
    "slideshow": {
     "slide_type": "slide"
    }
   },
   "source": [
    "Ya hemos visto antes la sentencia `return`, pero en una función productiva la sentencia `return` incluye un valor de retorno. "
   ]
  },
  {
   "cell_type": "markdown",
   "id": "03a08e28",
   "metadata": {
    "slideshow": {
     "slide_type": "slide"
    }
   },
   "source": [
    "Esta sentencia quiere decir “retorna inmediatamente de la función y usa la siguiente expresión como valor de retorno”. "
   ]
  },
  {
   "cell_type": "markdown",
   "id": "f66f12ad",
   "metadata": {
    "slideshow": {
     "slide_type": "slide"
    }
   },
   "source": [
    "La expresión dada puede ser arbitrariamente complicada; así pues, podríamos haber escrito esta función más concisamente:"
   ]
  },
  {
   "cell_type": "code",
   "execution_count": 16,
   "id": "80cc833f",
   "metadata": {
    "slideshow": {
     "slide_type": "slide"
    }
   },
   "outputs": [],
   "source": [
    "import math as m\n",
    "\n",
    "def area_circulo_2(radio):\n",
    "    return m.pi*radio**2"
   ]
  },
  {
   "cell_type": "code",
   "execution_count": 17,
   "id": "a659f536",
   "metadata": {
    "slideshow": {
     "slide_type": "slide"
    }
   },
   "outputs": [
    {
     "data": {
      "text/plain": [
       "3.141592653589793"
      ]
     },
     "execution_count": 17,
     "metadata": {},
     "output_type": "execute_result"
    }
   ],
   "source": [
    "area_circulo_2(1)"
   ]
  },
  {
   "cell_type": "code",
   "execution_count": 18,
   "id": "8914f0dd",
   "metadata": {
    "slideshow": {
     "slide_type": "slide"
    }
   },
   "outputs": [],
   "source": [
    "def valorAbsoluto(x):\n",
    "    if x < 0:\n",
    "        return -x\n",
    "    else:\n",
    "        return x"
   ]
  },
  {
   "cell_type": "code",
   "execution_count": 21,
   "id": "2e965217",
   "metadata": {
    "slideshow": {
     "slide_type": "slide"
    }
   },
   "outputs": [
    {
     "data": {
      "text/plain": [
       "0"
      ]
     },
     "execution_count": 21,
     "metadata": {},
     "output_type": "execute_result"
    }
   ],
   "source": [
    "valorAbsoluto(0)"
   ]
  },
  {
   "cell_type": "markdown",
   "id": "b63908c2",
   "metadata": {
    "slideshow": {
     "slide_type": "slide"
    }
   },
   "source": [
    "Puesto que estas sentencias `return` están en una condición alternativa, sólo se ejecutará una de ellas. "
   ]
  },
  {
   "cell_type": "markdown",
   "id": "13538523",
   "metadata": {
    "slideshow": {
     "slide_type": "slide"
    }
   },
   "source": [
    "En cuanto se ejecuta una de ellas, la función termina sin ejecutar ninguna de las sentencias siguientes."
   ]
  },
  {
   "cell_type": "markdown",
   "id": "076964fb",
   "metadata": {
    "slideshow": {
     "slide_type": "slide"
    }
   },
   "source": [
    "El código que aparece después de una sentencia `return` o en cualquier otro lugar donde el flujo de ejecución no pueda llegar, recibe el nombre de código muerto."
   ]
  },
  {
   "cell_type": "markdown",
   "id": "5d126380",
   "metadata": {
    "slideshow": {
     "slide_type": "slide"
    }
   },
   "source": [
    "En una función productiva es una buena idea asegurarse de que cualquier posible recorrido del programa alcanza una sentencia `return`. "
   ]
  },
  {
   "cell_type": "markdown",
   "id": "e05beff7",
   "metadata": {
    "slideshow": {
     "slide_type": "slide"
    }
   },
   "source": [
    "Por ejemplo:"
   ]
  },
  {
   "cell_type": "code",
   "execution_count": null,
   "id": "f020b7d3",
   "metadata": {
    "slideshow": {
     "slide_type": "slide"
    }
   },
   "outputs": [],
   "source": [
    "def valorAbsoluto(x):\n",
    "    if x < 0:\n",
    "        return -x\n",
    "    elif x > 0:\n",
    "        return x"
   ]
  },
  {
   "cell_type": "markdown",
   "id": "d9efd074",
   "metadata": {
    "slideshow": {
     "slide_type": "slide"
    }
   },
   "source": [
    "**Ojo**  \n",
    "Este programa no es correcto porque si resulta que `x` vale `0`, entonces no se cumple ninguna de ambas condiciones y la función termina sin alcanzar la setencia return. "
   ]
  },
  {
   "cell_type": "markdown",
   "id": "88df2b36",
   "metadata": {
    "slideshow": {
     "slide_type": "slide"
    }
   },
   "source": [
    "En este caso, el valor de retorno es un valor especial llamado None:"
   ]
  },
  {
   "cell_type": "code",
   "execution_count": null,
   "id": "1b899ed6",
   "metadata": {
    "slideshow": {
     "slide_type": "slide"
    }
   },
   "outputs": [],
   "source": [
    "print(valorAbsoluto(0)) "
   ]
  },
  {
   "cell_type": "markdown",
   "id": "f4bb4ab9",
   "metadata": {
    "slideshow": {
     "slide_type": "slide"
    }
   },
   "source": [
    "Como actividad, escriba una función comparar que devuelva `1` si `x > y` , `0` si `x == y` , y `-1` si `x < y` ."
   ]
  },
  {
   "cell_type": "markdown",
   "id": "d0a914e7",
   "metadata": {
    "slideshow": {
     "slide_type": "slide"
    }
   },
   "source": [
    "## 5.2. Desarrollo de programas"
   ]
  },
  {
   "cell_type": "markdown",
   "id": "f4fa9df8",
   "metadata": {
    "slideshow": {
     "slide_type": "slide"
    }
   },
   "source": [
    "## [Video de apoyo al desarrollo de programas en Python]() "
   ]
  },
  {
   "cell_type": "markdown",
   "id": "eff6c669",
   "metadata": {
    "slideshow": {
     "slide_type": "slide"
    }
   },
   "source": [
    "Llegados a este punto, tendr´ıa que poder mirar a funciones Python completas y adivinar qué hacen."
   ]
  },
  {
   "cell_type": "markdown",
   "id": "907b1527",
   "metadata": {
    "slideshow": {
     "slide_type": "slide"
    }
   },
   "source": [
    "Con la práctica de escritura de funciones puede ir mejorando \n",
    "\n",
    "* los errores en tiempo de ejecución y \n",
    "* los errores semánticos."
   ]
  },
  {
   "cell_type": "markdown",
   "id": "d1a0d019",
   "metadata": {
    "slideshow": {
     "slide_type": "slide"
    }
   },
   "source": [
    "Para lidiar con programas de complejidad creciente, vamos a sugerirle una técnica que llamaremos desarrollo incremental. "
   ]
  },
  {
   "cell_type": "markdown",
   "id": "2219c76e",
   "metadata": {
    "slideshow": {
     "slide_type": "slide"
    }
   },
   "source": [
    "El objetivo del desarrollo incremental es sustituir largas sesiones de depuración por la adición y prueba de pequeñas porciones de código en cada vez."
   ]
  },
  {
   "cell_type": "markdown",
   "id": "5f180ea6",
   "metadata": {
    "slideshow": {
     "slide_type": "slide"
    }
   },
   "source": [
    "Por ejemplo, supongamos que desea encontrar la distancia entre dos puntos, dados por las coordenadas $(x_{1}, y_{1})$ y $(x_{2}, y_{2})$. "
   ]
  },
  {
   "cell_type": "markdown",
   "id": "c9644dfb",
   "metadata": {
    "slideshow": {
     "slide_type": "slide"
    }
   },
   "source": [
    "Por el teorema de Pitágoras, podemos escribir la distancia es:\n",
    "\n",
    "$$ \\text{distancia} = \\sqrt{(x_{2} − x_{1})^{2} + (y_{2} − y_{1})^{2} } \\nonumber $$"
   ]
  },
  {
   "cell_type": "markdown",
   "id": "4327eea7",
   "metadata": {
    "slideshow": {
     "slide_type": "slide"
    }
   },
   "source": [
    "El primer paso es considerar qué aspecto tendría una función distancia en Python. "
   ]
  },
  {
   "cell_type": "markdown",
   "id": "a391e4c1",
   "metadata": {
    "slideshow": {
     "slide_type": "slide"
    }
   },
   "source": [
    "En otras palabras, ¿cuáles son las entradas (parámetros) y cuál es la salida (valor de retorno)?"
   ]
  },
  {
   "cell_type": "markdown",
   "id": "6eae2abd",
   "metadata": {
    "slideshow": {
     "slide_type": "slide"
    }
   },
   "source": [
    "En este caso, los dos puntos son los parámetros, que podemos representar usando cuatro parámetros. "
   ]
  },
  {
   "cell_type": "markdown",
   "id": "09d4b55c",
   "metadata": {
    "slideshow": {
     "slide_type": "slide"
    }
   },
   "source": [
    "El valor de retorno es la distancia, que es un valor en coma flotante."
   ]
  },
  {
   "cell_type": "markdown",
   "id": "b24a9687",
   "metadata": {
    "slideshow": {
     "slide_type": "slide"
    }
   },
   "source": [
    "Ya podemos escribir un bosquejo de la función:"
   ]
  },
  {
   "cell_type": "code",
   "execution_count": null,
   "id": "f98e0cf0",
   "metadata": {
    "slideshow": {
     "slide_type": "slide"
    }
   },
   "outputs": [],
   "source": [
    "def distancia(x1, y1, x2, y2):\n",
    "    return 0.0"
   ]
  },
  {
   "cell_type": "markdown",
   "id": "ad80ab5d",
   "metadata": {
    "slideshow": {
     "slide_type": "slide"
    }
   },
   "source": [
    "Obviamente, la función no calcula distancias; siempre devuelve cero. "
   ]
  },
  {
   "cell_type": "markdown",
   "id": "84ea4dd6",
   "metadata": {
    "slideshow": {
     "slide_type": "slide"
    }
   },
   "source": [
    "Pero es sintácticamente correcta y se ejecutará, lo que significa que podemos probarla antes de complicarla más."
   ]
  },
  {
   "cell_type": "markdown",
   "id": "d7265379",
   "metadata": {
    "slideshow": {
     "slide_type": "slide"
    }
   },
   "source": [
    "Para comprobar la nueva función, tenemos que llamarla con valores de ejemplo:"
   ]
  },
  {
   "cell_type": "code",
   "execution_count": 22,
   "id": "365016c5",
   "metadata": {
    "slideshow": {
     "slide_type": "slide"
    }
   },
   "outputs": [],
   "source": [
    "def distancia(x1, y1, x2, y2):\n",
    "    return 0.0"
   ]
  },
  {
   "cell_type": "code",
   "execution_count": 23,
   "id": "fbbd8276",
   "metadata": {
    "slideshow": {
     "slide_type": "slide"
    }
   },
   "outputs": [
    {
     "data": {
      "text/plain": [
       "0.0"
      ]
     },
     "execution_count": 23,
     "metadata": {},
     "output_type": "execute_result"
    }
   ],
   "source": [
    "distancia(1, 2, 4, 6)\n"
   ]
  },
  {
   "cell_type": "markdown",
   "id": "8e5dcdc0",
   "metadata": {
    "slideshow": {
     "slide_type": "slide"
    }
   },
   "source": [
    "Elegimos estos valores de tal forma que la distancia horizontal sea igual a 3 y la distancia vertical sea igual a 4; de esa manera el resultado es 5 (la hipotenusa del triángulo 3-4-5). "
   ]
  },
  {
   "cell_type": "markdown",
   "id": "4312c743",
   "metadata": {
    "slideshow": {
     "slide_type": "slide"
    }
   },
   "source": [
    "Cuando se comprueba una función, es útil saber la respuesta correcta."
   ]
  },
  {
   "cell_type": "markdown",
   "id": "02562ea9",
   "metadata": {
    "slideshow": {
     "slide_type": "slide"
    }
   },
   "source": [
    "Hasta el momento, hemos comprobado que **la función es sintácticamente correcta**, así que podemos empezar a añadir líneas de código. "
   ]
  },
  {
   "cell_type": "markdown",
   "id": "9fb005dc",
   "metadata": {
    "slideshow": {
     "slide_type": "slide"
    }
   },
   "source": [
    "Después de cada **cambio incremental**, comprobamos de nuevo la función. "
   ]
  },
  {
   "cell_type": "markdown",
   "id": "064dd8db",
   "metadata": {
    "slideshow": {
     "slide_type": "slide"
    }
   },
   "source": [
    "Si en un momento dado aparece un error, sabremos dónde está exactamente: en la última línea que hayamos añadido."
   ]
  },
  {
   "cell_type": "markdown",
   "id": "a6b64462",
   "metadata": {
    "slideshow": {
     "slide_type": "slide"
    }
   },
   "source": [
    "El siguiente paso en el cálculo es encontrar las diferencias entre $x_{2} − x_{1}$ y $y_{2} − y_{1}$."
   ]
  },
  {
   "cell_type": "markdown",
   "id": "01d08981",
   "metadata": {
    "slideshow": {
     "slide_type": "slide"
    }
   },
   "source": [
    "Almacenaremos dichos valores en variables temporales llamadas $dx$ y $dy$ y las imprimiremos."
   ]
  },
  {
   "cell_type": "code",
   "execution_count": 26,
   "id": "7e087ba5",
   "metadata": {
    "slideshow": {
     "slide_type": "slide"
    }
   },
   "outputs": [],
   "source": [
    "def distancia(x1, y1, x2, y2):\n",
    "    dx = x2 - x1\n",
    "    dy = y2 - y1\n",
    "    print(\"dx es\", dx)\n",
    "    print(\"dy es\", dy)\n",
    "    return 0.0"
   ]
  },
  {
   "cell_type": "markdown",
   "id": "e4e8dbe2",
   "metadata": {
    "slideshow": {
     "slide_type": "slide"
    }
   },
   "source": [
    "Si la función funciona, valga la redundancia, las salidas deberían ser 3 y 4. "
   ]
  },
  {
   "cell_type": "markdown",
   "id": "674a473d",
   "metadata": {
    "slideshow": {
     "slide_type": "slide"
    }
   },
   "source": [
    "Si es así, sabemos que la función recibe correctamente los parámetros y realiza correctamente el primer cálculo. "
   ]
  },
  {
   "cell_type": "markdown",
   "id": "c4f5bb38",
   "metadata": {
    "slideshow": {
     "slide_type": "slide"
    }
   },
   "source": [
    "Si no, sólo hay unas pocas líneas que revisar."
   ]
  },
  {
   "cell_type": "markdown",
   "id": "bcf6a9c7",
   "metadata": {
    "slideshow": {
     "slide_type": "slide"
    }
   },
   "source": [
    "Ahora calculamos la suma de los cuadarados de $dx$ y $dy$: "
   ]
  },
  {
   "cell_type": "code",
   "execution_count": 30,
   "id": "0b60cd74",
   "metadata": {
    "slideshow": {
     "slide_type": "slide"
    }
   },
   "outputs": [],
   "source": [
    "def distancia(x1, y1, x2, y2):\n",
    "    dx = x2 - x1\n",
    "    dy = y2 - y1\n",
    "    d_al_cuadrado = dx**2 + dy**2\n",
    "    print(\"d_al_cuadrado es: \", d_al_cuadrado)\n",
    "    return 0.0"
   ]
  },
  {
   "cell_type": "markdown",
   "id": "9fed3bbf",
   "metadata": {
    "slideshow": {
     "slide_type": "slide"
    }
   },
   "source": [
    "Fíjese en que hemos eliminado las sentencias `print()` que escribimos en el paso anterior. "
   ]
  },
  {
   "cell_type": "markdown",
   "id": "a4227442",
   "metadata": {
    "slideshow": {
     "slide_type": "slide"
    }
   },
   "source": [
    "Este código se llama andamiaje porque es útil para construir el programa pero no es parte del producto final."
   ]
  },
  {
   "cell_type": "markdown",
   "id": "f9c69560",
   "metadata": {
    "slideshow": {
     "slide_type": "slide"
    }
   },
   "source": [
    "De nuevo querremos ejecutar el programa en este estado y comprobar la salida (que debería dar 25)."
   ]
  },
  {
   "cell_type": "markdown",
   "id": "a35f12b0",
   "metadata": {
    "slideshow": {
     "slide_type": "slide"
    }
   },
   "source": [
    "Por último, si hemos importado el módulo `math`, podemos usar la función `sqrt()` para calcular y devolver el resultado:"
   ]
  },
  {
   "cell_type": "code",
   "execution_count": 28,
   "id": "76d8857a",
   "metadata": {
    "slideshow": {
     "slide_type": "slide"
    }
   },
   "outputs": [],
   "source": [
    "def distancia(x1, y1, x2, y2):\n",
    "    dx = x2 - x1\n",
    "    dy = y2 - y1\n",
    "    dalcuadrado = dx**2 + dy**2\n",
    "    resultado = math.sqrt(dalcuadrado)\n",
    "    return resultado"
   ]
  },
  {
   "cell_type": "code",
   "execution_count": 29,
   "id": "ae6e793e",
   "metadata": {
    "slideshow": {
     "slide_type": "slide"
    }
   },
   "outputs": [
    {
     "data": {
      "text/plain": [
       "5.0"
      ]
     },
     "execution_count": 29,
     "metadata": {},
     "output_type": "execute_result"
    }
   ],
   "source": [
    "distancia(0,0,3,4)"
   ]
  },
  {
   "cell_type": "markdown",
   "id": "e8cac0fb",
   "metadata": {
    "slideshow": {
     "slide_type": "slide"
    }
   },
   "source": [
    "Si esto funciona correctamente, ha terminado. "
   ]
  },
  {
   "cell_type": "markdown",
   "id": "35d3de8c",
   "metadata": {
    "slideshow": {
     "slide_type": "slide"
    }
   },
   "source": [
    "Si no, podría ser que quisiera usted imprimir el valor de resultado antes de la sentencia `return` al principio, debería añadir solamente una o dos líneas de código cada vez."
   ]
  },
  {
   "cell_type": "markdown",
   "id": "04a5e7f8",
   "metadata": {
    "slideshow": {
     "slide_type": "slide"
    }
   },
   "source": [
    "Conforme vaya ganando experiencia, puede que se encuentre escribiendo y depurando trozos mayores. "
   ]
  },
  {
   "cell_type": "markdown",
   "id": "66cf2880",
   "metadata": {
    "slideshow": {
     "slide_type": "slide"
    }
   },
   "source": [
    "Sin embargo, el proceso de **desarrollo incremental** puede ahorrarle mucho tiempo de depurado."
   ]
  },
  {
   "cell_type": "markdown",
   "id": "a2a005ed",
   "metadata": {
    "slideshow": {
     "slide_type": "slide"
    }
   },
   "source": [
    "Los aspectos fundamentales del proceso son: \n",
    "\n",
    "1. Comience con un programa que funcione y hágale pequeños cambios incrementales. Si hay un \n",
    "   error, sabrá exactamente dónde está.\n",
    "2. Use variables temporales para mantener valores intermedios, de tal manera que pueda mostrarlos \n",
    "   por pantalla y comprobarlos.\n",
    "3. Una vez que el programa esté funcionando, tal vez prefiera eliminar parte del andamiaje o \n",
    "   aglutinar múltiples sentencias en expresiones compuestas, pero sólo si eso **no** hace que el \n",
    "   programa sea difícil de leer."
   ]
  },
  {
   "cell_type": "markdown",
   "id": "990ef7cd",
   "metadata": {
    "slideshow": {
     "slide_type": "slide"
    }
   },
   "source": [
    "## Tarea: "
   ]
  },
  {
   "cell_type": "markdown",
   "id": "eed1a86a",
   "metadata": {
    "slideshow": {
     "slide_type": "slide"
    }
   },
   "source": [
    "Como actividad, utilice **el desarrollo incremental** para escribir una función de nombre hipotenusa que devuelva la longitud de la hipotenusa de un triángulo rectángulo, dando como parámetros los dos\n",
    "catetos. "
   ]
  },
  {
   "cell_type": "markdown",
   "id": "2e8edebe",
   "metadata": {
    "slideshow": {
     "slide_type": "slide"
    }
   },
   "source": [
    "Registre cada estado del desarrollo incremental según vaya avanzando."
   ]
  },
  {
   "cell_type": "markdown",
   "id": "37b0a278",
   "metadata": {
    "slideshow": {
     "slide_type": "slide"
    }
   },
   "source": [
    "## 5.3. Composición  "
   ]
  },
  {
   "cell_type": "markdown",
   "id": "1dbf9723",
   "metadata": {
    "slideshow": {
     "slide_type": "slide"
    }
   },
   "source": [
    "Como seguramente a estas alturas ya supondrá, se puede llamar a una función desde dentro de otra."
   ]
  },
  {
   "cell_type": "markdown",
   "id": "cefa1df9",
   "metadata": {
    "slideshow": {
     "slide_type": "slide"
    }
   },
   "source": [
    "Esta habilidad se llama composición."
   ]
  },
  {
   "cell_type": "markdown",
   "id": "3940e841",
   "metadata": {
    "slideshow": {
     "slide_type": "slide"
    }
   },
   "source": [
    "Como ejemplo, escribiremos una función que tome dos puntos, el centro del círculo y un punto del perímetro, y calcule el área del círculo."
   ]
  },
  {
   "cell_type": "markdown",
   "id": "4e2ec338",
   "metadata": {
    "slideshow": {
     "slide_type": "slide"
    }
   },
   "source": [
    "Supongamos que el punto central está almacenado en las variables $xc$ e $yc$, y que el punto del perímetro lo está en $xp$ e $yp$. "
   ]
  },
  {
   "cell_type": "markdown",
   "id": "a99471cf",
   "metadata": {
    "slideshow": {
     "slide_type": "slide"
    }
   },
   "source": [
    "El primer paso es hallar el radio del c´ırculo, que es la distancia entre los dos puntos. Afortunadamente hay una funci´on, distancia, que realiza esta tarea:\n",
    "\n",
    "$$ radio = distancia(xc, yc, xp, yp) $$"
   ]
  },
  {
   "cell_type": "markdown",
   "id": "598a30f4",
   "metadata": {
    "slideshow": {
     "slide_type": "slide"
    }
   },
   "source": [
    "El segundo paso es encontrar el área de un círculo con ese radio y devolverla:"
   ]
  },
  {
   "cell_type": "markdown",
   "id": "a2b4b4e0",
   "metadata": {
    "slideshow": {
     "slide_type": "slide"
    }
   },
   "source": [
    "```python\n",
    "resultado = area(radio)\n",
    "return resultado\n",
    "```"
   ]
  },
  {
   "cell_type": "markdown",
   "id": "436e25f3",
   "metadata": {
    "slideshow": {
     "slide_type": "slide"
    }
   },
   "source": [
    "Envolviendo todo esto en una función, obtenemos:"
   ]
  },
  {
   "cell_type": "code",
   "execution_count": 31,
   "id": "a5902143",
   "metadata": {
    "slideshow": {
     "slide_type": "slide"
    }
   },
   "outputs": [],
   "source": [
    "def area2(xc, yc, xp, yp):\n",
    "    radio = distancia(xc, yc, xp, yp)\n",
    "    resultado = area(radio)\n",
    "    return resultado"
   ]
  },
  {
   "cell_type": "markdown",
   "id": "8e9fd6be",
   "metadata": {
    "slideshow": {
     "slide_type": "slide"
    }
   },
   "source": [
    "Hemos llamado a esta función `area2()` para distinguirla de la funci´on `area()` definida\n",
    "anteriormente. "
   ]
  },
  {
   "cell_type": "markdown",
   "id": "6ea993d9",
   "metadata": {
    "slideshow": {
     "slide_type": "slide"
    }
   },
   "source": [
    "Sólo puede haber una única función con un determinado nombre dentro de un módulo."
   ]
  },
  {
   "cell_type": "markdown",
   "id": "bbec0093",
   "metadata": {
    "slideshow": {
     "slide_type": "slide"
    }
   },
   "source": [
    "Las variables temporales radio y area son útiles para el desarrollo y el depurado, pero una vez que el programa está funcionando, podemos hacerlo más conciso integrando las llamadas a las funciones en una sola línea:"
   ]
  },
  {
   "cell_type": "code",
   "execution_count": null,
   "id": "482ec9b3",
   "metadata": {
    "slideshow": {
     "slide_type": "slide"
    }
   },
   "outputs": [],
   "source": [
    "def area2(xc, yc, xp, yp):\n",
    "    return area(distancia(xc, yc, xp, yp))"
   ]
  },
  {
   "cell_type": "markdown",
   "id": "5a9c466d",
   "metadata": {
    "slideshow": {
     "slide_type": "slide"
    }
   },
   "source": [
    "## Tarea"
   ]
  },
  {
   "cell_type": "markdown",
   "id": "8461e917",
   "metadata": {
    "slideshow": {
     "slide_type": "slide"
    }
   },
   "source": [
    "Como actividad, escriba una función `pendiente(x1, y1, x2, y2)` que devuelva la pendiente de la línea que atraviesa los puntos `(x1, y1)` y `(x2, y2)`. "
   ]
  },
  {
   "cell_type": "markdown",
   "id": "01b2a76b",
   "metadata": {
    "slideshow": {
     "slide_type": "slide"
    }
   },
   "source": [
    "Luego use esta función en una función que se llame `intercepta(x1, y1, x2, y2)` que devuelva la ecuación de la línea recta a través de los puntos $(x1, y1)$ y $(x2, y2)$."
   ]
  },
  {
   "cell_type": "markdown",
   "id": "1d5b1eae",
   "metadata": {
    "slideshow": {
     "slide_type": "slide"
    }
   },
   "source": [
    "## 5.4. Funciones booleanas"
   ]
  },
  {
   "cell_type": "markdown",
   "id": "81211c8b",
   "metadata": {
    "slideshow": {
     "slide_type": "slide"
    }
   },
   "source": [
    "Las funciones pueden devolver valores booleanos, lo que a menudo es conveniente\n",
    "para ocultar complicadas comprobaciones dentro de funciones. Por ejemplo:"
   ]
  },
  {
   "cell_type": "code",
   "execution_count": 33,
   "id": "91dc56e1",
   "metadata": {
    "slideshow": {
     "slide_type": "slide"
    }
   },
   "outputs": [],
   "source": [
    "def es_divisible(x, y):\n",
    "    if x % y == 0:\n",
    "        return 1       # es verdadero\n",
    "    else:\n",
    "        return 0       # es falso "
   ]
  },
  {
   "cell_type": "markdown",
   "id": "85887f1d",
   "metadata": {
    "slideshow": {
     "slide_type": "slide"
    }
   },
   "source": [
    "La función lleva por nombre `es_divisible`. "
   ]
  },
  {
   "cell_type": "markdown",
   "id": "badd4287",
   "metadata": {
    "slideshow": {
     "slide_type": "slide"
    }
   },
   "source": [
    "Es habitual dar a las funciones booleanas nombres que suenan como preguntas sí/no. "
   ]
  },
  {
   "cell_type": "markdown",
   "id": "79a03a37",
   "metadata": {
    "slideshow": {
     "slide_type": "slide"
    }
   },
   "source": [
    "Devuelve 1 ó 0 para indicar si la x es o no divisibelo por y."
   ]
  },
  {
   "cell_type": "markdown",
   "id": "69ae0d8a",
   "metadata": {
    "slideshow": {
     "slide_type": "slide"
    }
   },
   "source": [
    "Podemos reducir el tamaño de la función aprovechándonos del hecho de que la sentencia condicional que hay después del `if` es en sí misma una expresión booleana. "
   ]
  },
  {
   "cell_type": "markdown",
   "id": "f321b644",
   "metadata": {
    "slideshow": {
     "slide_type": "slide"
    }
   },
   "source": [
    "Podemos devolverla directamente, evitando a la vez la sentencia `if`:"
   ]
  },
  {
   "cell_type": "code",
   "execution_count": 34,
   "id": "822f970b",
   "metadata": {
    "slideshow": {
     "slide_type": "slide"
    }
   },
   "outputs": [],
   "source": [
    "def es_divisible(x, y):\n",
    "    return x % y == 0"
   ]
  },
  {
   "cell_type": "markdown",
   "id": "a287b0bc",
   "metadata": {
    "slideshow": {
     "slide_type": "slide"
    }
   },
   "source": [
    "La siguiente sesión muestra a la nueva función en acción:"
   ]
  },
  {
   "cell_type": "code",
   "execution_count": 35,
   "id": "cf4296b8",
   "metadata": {
    "slideshow": {
     "slide_type": "slide"
    }
   },
   "outputs": [
    {
     "data": {
      "text/plain": [
       "False"
      ]
     },
     "execution_count": 35,
     "metadata": {},
     "output_type": "execute_result"
    }
   ],
   "source": [
    "es_divisible(6, 4)"
   ]
  },
  {
   "cell_type": "code",
   "execution_count": 36,
   "id": "ae729963",
   "metadata": {
    "slideshow": {
     "slide_type": "slide"
    }
   },
   "outputs": [
    {
     "data": {
      "text/plain": [
       "True"
      ]
     },
     "execution_count": 36,
     "metadata": {},
     "output_type": "execute_result"
    }
   ],
   "source": [
    "es_divisible(6, 3)"
   ]
  },
  {
   "cell_type": "markdown",
   "id": "2624df95",
   "metadata": {
    "slideshow": {
     "slide_type": "slide"
    }
   },
   "source": [
    "El uso más común para las funciones booleanas es dentro de sentencias condicionales:"
   ]
  },
  {
   "cell_type": "code",
   "execution_count": 40,
   "id": "53f1e52b",
   "metadata": {
    "slideshow": {
     "slide_type": "slide"
    }
   },
   "outputs": [
    {
     "name": "stdout",
     "output_type": "stream",
     "text": [
      "x es divisible entre y\n"
     ]
    }
   ],
   "source": [
    "x,y = 6,3\n",
    "if es_divisible(x, y):\n",
    "    print(\"x es divisible entre y\")\n",
    "else:\n",
    "    print(\"x no es divisible entre y\") "
   ]
  },
  {
   "cell_type": "markdown",
   "id": "7f54fbf3",
   "metadata": {
    "slideshow": {
     "slide_type": "slide"
    }
   },
   "source": [
    "Puede parecer tentador escribir algo como:"
   ]
  },
  {
   "cell_type": "code",
   "execution_count": 43,
   "id": "abad7596",
   "metadata": {
    "slideshow": {
     "slide_type": "slide"
    }
   },
   "outputs": [],
   "source": [
    "if es_divisible(x, y) == 1:\n",
    "    pass "
   ]
  },
  {
   "cell_type": "markdown",
   "id": "4122f2a7",
   "metadata": {
    "slideshow": {
     "slide_type": "slide"
    }
   },
   "source": [
    "Pero la comparación extra es innecesaria."
   ]
  },
  {
   "cell_type": "markdown",
   "id": "40c82bb4",
   "metadata": {
    "slideshow": {
     "slide_type": "slide"
    }
   },
   "source": [
    "## Tarea: "
   ]
  },
  {
   "cell_type": "markdown",
   "id": "fe5116ad",
   "metadata": {
    "slideshow": {
     "slide_type": "slide"
    }
   },
   "source": [
    "Como actividad, escriba una función `estaEntre(x, y, z)` que devuelva 1 en caso de que `y <= x <= z` y que devuelva 0 en cualquier otro caso."
   ]
  },
  {
   "cell_type": "markdown",
   "id": "e0f15e97",
   "metadata": {
    "slideshow": {
     "slide_type": "slide"
    }
   },
   "source": [
    "## 5.5. Más recursividad"
   ]
  },
  {
   "cell_type": "markdown",
   "id": "c0a25e4f",
   "metadata": {
    "slideshow": {
     "slide_type": "slide"
    }
   },
   "source": [
    "Hasta ahora, usted ha aprendido solamente un pequeño subconjunto de Python, pero puede que le interese saber que ese subconjunto es ya un lenguaje de programación completo; con esto queremos decir que cualquier cosa que pueda computarse se puede expresar en este lenguaje. "
   ]
  },
  {
   "cell_type": "markdown",
   "id": "d9998c5f",
   "metadata": {
    "slideshow": {
     "slide_type": "slide"
    }
   },
   "source": [
    "Cualquier programa que se haya escrito alguna vez puede reescribirse utilizando únicamente las características del lenguaje que ha aprendido hasta el momento (de hecho, necesitaría algunas\n",
    "órdenes para controlar dispositivos como el teclado, el ratón, los discos, etc, pero eso es todo)."
   ]
  },
  {
   "cell_type": "markdown",
   "id": "531781cb",
   "metadata": {
    "slideshow": {
     "slide_type": "slide"
    }
   },
   "source": [
    "Probar tal afirmación es un ejercicio nada trivial, completado por primera vez por Alan Turing, uno de los primeros científicos informáticos (algunos argumentarán que era un matemático, pero muchos de los científicos informáticos pioneros comenzaron como matemáticos). "
   ]
  },
  {
   "cell_type": "markdown",
   "id": "92592df8",
   "metadata": {
    "slideshow": {
     "slide_type": "slide"
    }
   },
   "source": [
    "En correspondencia, se la conoce como la tesis de Turing. "
   ]
  },
  {
   "cell_type": "markdown",
   "id": "8c3c26f6",
   "metadata": {
    "slideshow": {
     "slide_type": "slide"
    }
   },
   "source": [
    "Si estudia un curso de Teoría de la Computación, tendrá oportunidad de ver la prueba."
   ]
  },
  {
   "cell_type": "markdown",
   "id": "f822ba65",
   "metadata": {
    "slideshow": {
     "slide_type": "slide"
    }
   },
   "source": [
    "Para darle una idea de lo que puede hacer con las herramientas que ha aprendido hasta ahora, evaluaremos una serie de funciones matem´aticas que se definen recursivamente. "
   ]
  },
  {
   "cell_type": "markdown",
   "id": "0bc41273",
   "metadata": {
    "slideshow": {
     "slide_type": "slide"
    }
   },
   "source": [
    "Una **definición recursiva** es semejante a una **definición circular**, en el sentido de que la definición contiene una referencia a lo que se define. "
   ]
  },
  {
   "cell_type": "markdown",
   "id": "b1998900",
   "metadata": {
    "slideshow": {
     "slide_type": "slide"
    }
   },
   "source": [
    "Una definición verdaderamente circular no es muy util:  \n",
    "´\n",
    "**frangoso:** adjetivo que describe algo que es frangoso.  \n",
    "\n",
    "Si usted viera esa definición en el diccionario, se quedaría confuso. "
   ]
  },
  {
   "cell_type": "markdown",
   "id": "fddfb147",
   "metadata": {
    "slideshow": {
     "slide_type": "slide"
    }
   },
   "source": [
    "Por otra parte, si ha buscado la definición de la función matemática factorial, habrá visto algo\n",
    "sejemante a lo siguiente:"
   ]
  },
  {
   "cell_type": "markdown",
   "id": "b169c2c2",
   "metadata": {
    "slideshow": {
     "slide_type": "slide"
    }
   },
   "source": [
    "\\begin{align*}\n",
    "0! & = 1 \\\\\n",
    "n! & = n · (n − 1)!\n",
    "\\end{align*}"
   ]
  },
  {
   "cell_type": "markdown",
   "id": "e4a19ab0",
   "metadata": {
    "slideshow": {
     "slide_type": "slide"
    }
   },
   "source": [
    "Esta definición establece que el factoral de $0$ es $1$, y que el factorial de cualquier otro valor, $n$, es $n$ multiplicado por el factorial de $n − 1$."
   ]
  },
  {
   "cell_type": "markdown",
   "id": "864045b2",
   "metadata": {
    "slideshow": {
     "slide_type": "slide"
    }
   },
   "source": [
    "Así pues, 3! es 3 veces 2!, que es 2 veces 1!, que es una vez 0!. "
   ]
  },
  {
   "cell_type": "markdown",
   "id": "e6fe1e34",
   "metadata": {
    "slideshow": {
     "slide_type": "slide"
    }
   },
   "source": [
    "Juntándolos todos, , 3! es igual a 3 veces 2 veces 1 vez 1, que es 6."
   ]
  },
  {
   "cell_type": "markdown",
   "id": "432ca8c7",
   "metadata": {
    "slideshow": {
     "slide_type": "slide"
    }
   },
   "source": [
    "Si puede escribir una definición recursiva de algo, normalmente podrá escribir un programa de Python para evaluarlo. "
   ]
  },
  {
   "cell_type": "markdown",
   "id": "4f9b62f7",
   "metadata": {
    "slideshow": {
     "slide_type": "slide"
    }
   },
   "source": [
    "El primer paso es decidir cuáles son los parámetros para esta función. "
   ]
  },
  {
   "cell_type": "markdown",
   "id": "a7d29b99",
   "metadata": {
    "slideshow": {
     "slide_type": "slide"
    }
   },
   "source": [
    "Con poco esfuerzo llegará a la conclusión de que factorial toma un único parámetro: "
   ]
  },
  {
   "cell_type": "code",
   "execution_count": 45,
   "id": "8705a5e5",
   "metadata": {
    "slideshow": {
     "slide_type": "slide"
    }
   },
   "outputs": [],
   "source": [
    "def factorial(n):\n",
    "    pass "
   ]
  },
  {
   "cell_type": "markdown",
   "id": "721a4f0e",
   "metadata": {
    "slideshow": {
     "slide_type": "slide"
    }
   },
   "source": [
    "Si resultase que el argumento fuese 0, todo lo que hemos de hacer es devolver 1:"
   ]
  },
  {
   "cell_type": "code",
   "execution_count": 47,
   "id": "58fcb2b4",
   "metadata": {
    "slideshow": {
     "slide_type": "slide"
    }
   },
   "outputs": [],
   "source": [
    "def factorial(n):\n",
    "    if n == 0:\n",
    "        return 1"
   ]
  },
  {
   "cell_type": "markdown",
   "id": "9a531249",
   "metadata": {
    "slideshow": {
     "slide_type": "slide"
    }
   },
   "source": [
    "En otro caso, y he aquí la parte interesante, tenemos que hacer una llamada recursiva para hallar el factorial de $n − 1$ y luego multiplicarlo por $n$:"
   ]
  },
  {
   "cell_type": "code",
   "execution_count": 50,
   "id": "6b95aafd",
   "metadata": {
    "slideshow": {
     "slide_type": "slide"
    }
   },
   "outputs": [],
   "source": [
    "def factorial(n):\n",
    "    if n == 0:\n",
    "        return 1\n",
    "    else:\n",
    "        recursivo = factorial(n-1)\n",
    "        resultado = n*recursivo\n",
    "    return resultado"
   ]
  },
  {
   "cell_type": "code",
   "execution_count": 51,
   "id": "528478fe",
   "metadata": {
    "slideshow": {
     "slide_type": "slide"
    }
   },
   "outputs": [
    {
     "data": {
      "text/plain": [
       "6"
      ]
     },
     "execution_count": 51,
     "metadata": {},
     "output_type": "execute_result"
    }
   ],
   "source": [
    "factorial(3)"
   ]
  },
  {
   "cell_type": "markdown",
   "id": "18899138",
   "metadata": {
    "slideshow": {
     "slide_type": "slide"
    }
   },
   "source": [
    "El flujo de ejecución de este programa es similar al de cuenta atras de la Sección 4.9. "
   ]
  },
  {
   "cell_type": "markdown",
   "id": "3bdeca5b",
   "metadata": {
    "slideshow": {
     "slide_type": "slide"
    }
   },
   "source": [
    "Si llamamos a factorial con el valor 3:  \n",
    "Puesto que 3 no es 0, tomamos la segunda rama y calculamos el factorial de n-1..."
   ]
  },
  {
   "cell_type": "markdown",
   "id": "47e74805",
   "metadata": {
    "slideshow": {
     "slide_type": "slide"
    }
   },
   "source": [
    "Puesto que 2 no es 0, tomamos la segunda rama y calculamos el\n",
    "factorial de n-1..."
   ]
  },
  {
   "cell_type": "markdown",
   "id": "523c6804",
   "metadata": {
    "slideshow": {
     "slide_type": "slide"
    }
   },
   "source": [
    "Puesto que 1 no es 0, tomamos la segunda rama y calculamos el factorial de n-1...  \n",
    "Puesto que 0 es 0, tomamos la primera rama y devolvemos el valor 1 sin hacer más llamadas recursivas."
   ]
  },
  {
   "cell_type": "markdown",
   "id": "901a2663",
   "metadata": {
    "slideshow": {
     "slide_type": "slide"
    }
   },
   "source": [
    "El valor de retorno (1) se multiplica por $n$, que es 1, y se devuelve el resultado."
   ]
  },
  {
   "cell_type": "markdown",
   "id": "7647f977",
   "metadata": {
    "slideshow": {
     "slide_type": "slide"
    }
   },
   "source": [
    "El valor de retorno (1) se multiplica por n, que es 2, y se devuelve el resultado."
   ]
  },
  {
   "cell_type": "markdown",
   "id": "f91d8d3d",
   "metadata": {
    "slideshow": {
     "slide_type": "slide"
    }
   },
   "source": [
    "El valor de retorno (2) se multiplica por $n$, que es 3, y el resultado 6, se convierte en el valor de retorno de la llamada a la función que comenzó todo el proceso."
   ]
  },
  {
   "cell_type": "markdown",
   "id": "41743414",
   "metadata": {
    "slideshow": {
     "slide_type": "slide"
    }
   },
   "source": [
    "He aquí el aspecto que tiene el diagrama de pila para esta secuencia de llamadas a función:"
   ]
  },
  {
   "cell_type": "markdown",
   "id": "2c610c0b",
   "metadata": {
    "slideshow": {
     "slide_type": "slide"
    }
   },
   "source": [
    "<img src = 'https://github.com/marco-canas/introducci-n-al-Machine-Learning/blob/main/classes/class_3/recursividad.png?raw=true'> "
   ]
  },
  {
   "cell_type": "markdown",
   "id": "573d4322",
   "metadata": {
    "slideshow": {
     "slide_type": "slide"
    }
   },
   "source": [
    "Los valores de retorno se muestran según se pasan hacia la parte superior de la pila. "
   ]
  },
  {
   "cell_type": "markdown",
   "id": "62d108f0",
   "metadata": {
    "slideshow": {
     "slide_type": "slide"
    }
   },
   "source": [
    "En cada marco, el valor de retorno es el valor de resultado, que es el producto de $n$ por `recursivo`."
   ]
  },
  {
   "cell_type": "markdown",
   "id": "bf28ba05",
   "metadata": {
    "slideshow": {
     "slide_type": "slide"
    }
   },
   "source": [
    "Nótese que en el último marco las variables locales `recursivo` y `resultado` no\n",
    "existen porque la rama que las crea no se ejecuta."
   ]
  },
  {
   "cell_type": "markdown",
   "id": "55533c66",
   "metadata": {
    "slideshow": {
     "slide_type": "slide"
    }
   },
   "source": [
    "## 5.6. Acto de fe"
   ]
  },
  {
   "cell_type": "markdown",
   "id": "c8675e86",
   "metadata": {
    "slideshow": {
     "slide_type": "slide"
    }
   },
   "source": [
    "Seguir el flujo de ejecuci´on es una de las maneras de leer programas; pero puede\n",
    "volverse r´apidamente una tarea laber´ınitca. La alternativa es lo que llamamos\n",
    "el “acto de fe”. Cuando llegamos a una funci´on, en lugar de seguir el flujo de\n",
    "ejecuci´on, damos por sentado que la funci´on trabaja correctamente y devuelve\n",
    "el valor apropiado.\n",
    "De hecho, usted ya practica dicho salto de fe cuando usa funciones internas.\n",
    "Cuando llama a math.cos o a math.exp, no examina la implementaci´on de"
   ]
  },
  {
   "cell_type": "markdown",
   "id": "f166ea7b",
   "metadata": {
    "slideshow": {
     "slide_type": "slide"
    }
   },
   "source": [
    "dichas funciones. Simplemente da por sentado que funcionan porque los que\n",
    "escribieron las bibliotecas internas de Python son buenos programadores.\n",
    "Lo mismo se aplica cuando llama a una de las funciones programadas por usted.\n",
    "Por ejemplo en la Secci´on 5.4, escribimos una funci´on llamada esDivisible\n",
    "que determina si un numero ´ es divisible por otro. Una vez que nos hayamos\n",
    "convencido de que dicha funci´on es correcta, comprobando y examinando el\n",
    "c´odigo, podremos usar la funci´on sin tener siquiera que volver a mirar el c´odigo\n",
    "otra vez.\n",
    "Lo mismo vale para los programas recursivos. Cuando llegue a la llamada recur\u0002siva, en lugar de seguir el flujo de ejecuci´on, tendr´ıa que dar por supuesto que\n",
    "la llamada recursiva funciona (es decir, devuelve el resultado correcto) y luego\n",
    "preguntarse: “suponiendo que puedo hallar el factorial de n − 1, ¿puedo hallar\n",
    "el factorial de n?” En este caso, est´a claro que s´ı puede, multiplic´andolo por n.\n",
    "Por supuesto, es un tanto extrano˜ dar por supuesto que la funci´on est´a bien\n",
    "cuando ni siquiera ha acabado de escribirla, pero precisamente por eso se llama\n",
    "acto de fe.\n",
    "5.7. Un ejemplo m´as\n",
    "En el ejemplo anterior, usamos variables temporales para ir apuntando los re\u0002sultados y para hacer que el c´odigo fuese m´as f´acil de depurar, pero podr´ıamos\n",
    "habernos ahorrado unas cuantas l´ıneas:\n",
    "def factorial(n):\n",
    "if n == 0:\n",
    "return 1\n",
    "else:\n",
    "return n * factorial(n-1)\n",
    "De ahora en adelante, tenderemos a usar la versi´on m´as concisa, pero le reco\u0002mendamos que utilice la versi´on m´as expl´ıcita mientras se halle desarrollando\n",
    "c´odigo. Cuando lo tenga funcionando, lo podr´a acortar, si se siente inspirado.\n",
    "Despu´es de factorial, el ejemplo m´as comun´ de una funci´on matem´atica re\u0002cursivamente definida es fibonacci, que presenta la siguiente definici´on:\n",
    "fibonacci(0) = 1\n",
    "fibonacci(1) = 1\n",
    "fibonacci(n) = fibonacci(n − 1) + fibonacci(n − 2);\n",
    "Traducido a Python, es como sigue"
   ]
  },
  {
   "cell_type": "markdown",
   "id": "9e2f79db",
   "metadata": {
    "slideshow": {
     "slide_type": "slide"
    }
   },
   "source": [
    "def fibonacci (n):\n",
    "if n == 0 or n == 1:\n",
    "return 1\n",
    "else:\n",
    "return fibonacci(n-1) + fibonacci(n-2)\n",
    "Si intenta seguir el flujo de ejecuci´on aqu´ı, incluso para valores relativamente\n",
    "pequenos ˜ de n, le puede dar un dolor de cabeza. Pero si confiamos en el acto de\n",
    "fe, si da por supuesto que las dos llamadas recursivas funcionan correctamente,\n",
    "entonces estar´a claro que obtiene el resultado correcto al sumarlas juntas.\n",
    "5.8. Comprobaci´on de tipos\n",
    "¿Qu´e sucede si llamamos a factorial y le damos 1.5 como argumento?\n",
    ">>> factorial (1.5)\n",
    "RuntimeError: Maximum recursion depth exceeded\n",
    "Tiene todo el aspecto de una recursi´on infinita. Pero, ¿c´omo ha podido ocurrir?\n",
    "Hay una condici´on de salida o caso base: cuando n == 0. El problema es que el\n",
    "valor de n yerra el caso base.\n",
    "En la primera llamada recursiva, el valor de n es 0.5. En la siguiente vez su valor\n",
    "es -0.5. A partir de ah´ı, se vuelve m´as y m´as pequeno, ˜ pero nunca ser´a 0.\n",
    "Tenemos dos opciones. Podemos intentar generalizar la funci´on factorial para\n",
    "que trabaje con numeros ´ de coma flotante, o podemos hacer que factorial\n",
    "compruebe el tipo de su par´ametro. La primera opci´on se llama funci´on gamma,\n",
    "y est´a m´as all´a del objetivo de este libro. As´ı pues, tomemos la segunda.\n",
    "Podemos usar la funci´on type para comparar el tipo del par´ametro con el tipo\n",
    "de un valor entero conocido (por ejemplo 1). Ya que estamos en ello, podemos\n",
    "asegurarnos de que el par´ametro sea positivo:"
   ]
  },
  {
   "cell_type": "code",
   "execution_count": null,
   "id": "1aaeacd4",
   "metadata": {
    "slideshow": {
     "slide_type": "slide"
    }
   },
   "outputs": [],
   "source": [
    "def factorial (n):\n",
    "if type(n) != type(1):\n",
    "print \"El factorial est´a definido s´olo para enteros.\"\n",
    "return -1\n",
    "elif n < 0:\n",
    "print \"El factorial est´a definido s´olo para enteros\\\n",
    "positivos.\"\n",
    "return -1\n",
    "elif n == 0:\n",
    "return 1\n",
    "else:\n",
    "return n * factorial(n-1)"
   ]
  },
  {
   "cell_type": "markdown",
   "id": "c6885c70",
   "metadata": {
    "slideshow": {
     "slide_type": "slide"
    }
   },
   "source": [
    "Ahora tenemos tres condiciones de salida o casos base. El primero filtra los\n",
    "numeros ´ no enteros. El segundo evita los enteros negativos. En ambos casos, se\n",
    "muestra un mensaje de error y se devuelve un valor especial, -1, para indicar a\n",
    "quien hizo la llamada a la funci´on que algo fue mal:"
   ]
  },
  {
   "cell_type": "markdown",
   "id": "ea9ba92c",
   "metadata": {
    "slideshow": {
     "slide_type": "slide"
    }
   },
   "source": [
    ">>> factorial (1.5)\n",
    "El factorial esta definido solo para enteros.\n",
    "-1\n",
    ">>> factorial (-2)\n",
    "El factorial esta definido solo para enteros positivos.\n",
    "-1\n",
    ">>> factorial (\"paco\")\n",
    "El factorial esta definido solo para enteros.\n",
    "-1\n",
    "Si pasamos ambas comprobaciones, entonces sabemos que n es un entero positivo\n",
    "y podemos probar que la recursi´on termina.\n",
    "Este programa muestra un patr´on que se llama a veces guardi´an. Las primeras\n",
    "dos condicionales actuan ´ como guardianes, protegiendo al c´odigo que sigue de\n",
    "los valores que pudieran causar errores. Los guardianes hacen posible demostrar\n",
    "la correcci´on del c´odigo."
   ]
  },
  {
   "cell_type": "markdown",
   "id": "c5f96072",
   "metadata": {
    "slideshow": {
     "slide_type": "slide"
    }
   },
   "source": [
    "## 5.9. Glosario"
   ]
  },
  {
   "cell_type": "markdown",
   "id": "cbf7af0d",
   "metadata": {},
   "source": [
    "funci´on productiva: Funci´on que devuelve un valor de retorno.\n",
    "valor de retorno: El valor obtenido como resultado de una llamada a una\n",
    "funci´on.\n",
    "variable temporal: Variable utilizada para almacenar un valor intermedio en\n",
    "un c´alculo complejo.\n",
    "c´odigo muerto: Parte de un programa que no podr´a ejecutarse nunca, a me\u0002nudo debido a que aparece tras una sentencia de return.\n",
    "None: Valor especial de Python que devuelven funciones que o bien no tienen\n",
    "sentencia de return o bien tienen una sentencia de return sin argumento.\n",
    "desarrollo incremental: Un m´etodo de desarrollo de programas que busca\n",
    "evitar el depurado anadiendo ˜ y probando una pequena˜ cantidad de c´odigo\n",
    "en cada paso.\n",
    "andamiaje: El c´odigo que se usa durante el desarrollo del programa pero que\n",
    "no es parte de la versi´on final"
   ]
  },
  {
   "cell_type": "markdown",
   "id": "bf2fbd27",
   "metadata": {
    "slideshow": {
     "slide_type": "slide"
    }
   },
   "source": [
    "**guardián:** Una condición que comprueba y maneja circunstancias que pudieran provocar un error"
   ]
  },
  {
   "cell_type": "code",
   "execution_count": null,
   "id": "052459d2",
   "metadata": {},
   "outputs": [],
   "source": []
  },
  {
   "cell_type": "markdown",
   "id": "5254b3ef",
   "metadata": {
    "slideshow": {
     "slide_type": "slide"
    }
   },
   "source": [
    "# 1.3 Estructuras de datos básicas  según Calderon"
   ]
  },
  {
   "cell_type": "markdown",
   "id": "fdc8b2b4",
   "metadata": {
    "slideshow": {
     "slide_type": "slide"
    }
   },
   "source": [
    "Una forma más adecuada de almacenar la información es a través de \n",
    "* listas, \n",
    "* “tuplas” y \n",
    "* diccionarios.\n",
    "\n",
    "En ellos, la variable se compone de un conjunto ordenado de datos. Para \n",
    "crear estas estructuras se debe dar nombre a una variable, utilizar el operador de \n",
    "declaración igual (`=`) y dependiendo de si se usan paréntesis, corchetes o llaves se puede\n",
    "crear:"
   ]
  },
  {
   "cell_type": "markdown",
   "id": "6968a366",
   "metadata": {
    "slideshow": {
     "slide_type": "slide"
    }
   },
   "source": [
    "## 1.3.1 Listas"
   ]
  },
  {
   "cell_type": "markdown",
   "id": "8fa225b8",
   "metadata": {
    "slideshow": {
     "slide_type": "slide"
    }
   },
   "source": [
    "Una “`list`” (lista) es un conjunto de datos que pueden ser de diferente tipo, es decir, que \n",
    "puede contener \n",
    "* números enteros, \n",
    "* decimales, \n",
    "* caracteres, \n",
    "* valores booleanos entre otros, \n",
    "\n",
    "cuyos elementos **son modificables o mutables** y que se encuentran indexados, es decir \n",
    "que los datos se enumeran comenzando desde 0. Para crear listas se usan corchetes (`[ ]`)."
   ]
  },
  {
   "cell_type": "code",
   "execution_count": null,
   "id": "5f104778",
   "metadata": {
    "slideshow": {
     "slide_type": "slide"
    }
   },
   "outputs": [],
   "source": [
    "lista_1 = [1,0.5,'marco',True]"
   ]
  },
  {
   "cell_type": "markdown",
   "id": "1d4bd498",
   "metadata": {
    "slideshow": {
     "slide_type": "slide"
    }
   },
   "source": [
    "## 1.3.2 Tuplas"
   ]
  },
  {
   "cell_type": "markdown",
   "id": "48448ed2",
   "metadata": {
    "slideshow": {
     "slide_type": "slide"
    }
   },
   "source": [
    "En esta estructura, los datos se separan por comas y se encuentran entre paréntesis. "
   ]
  },
  {
   "cell_type": "markdown",
   "id": "c32ca65d",
   "metadata": {
    "slideshow": {
     "slide_type": "slide"
    }
   },
   "source": [
    "Las tuplas se caracterizan porque no se pueden modificar, **son inmutables**. "
   ]
  },
  {
   "cell_type": "markdown",
   "id": "15bbee1b",
   "metadata": {
    "slideshow": {
     "slide_type": "slide"
    }
   },
   "source": [
    "Es decir, no se puede añadir, quitar datos ni modificar los que contiene, por la vía del operador de asignación."
   ]
  },
  {
   "cell_type": "markdown",
   "id": "befe52e9",
   "metadata": {
    "slideshow": {
     "slide_type": "slide"
    }
   },
   "source": [
    "Sin embargo, se pueden extraer partes de las tuplas para crear nuevas tuplas o reemplazarlas con otra tupla. "
   ]
  },
  {
   "cell_type": "markdown",
   "id": "e62b4e15",
   "metadata": {
    "slideshow": {
     "slide_type": "slide"
    }
   },
   "source": [
    "Las tuplas también están indexadas y además puede  contener objetos mutables, por lo que puede existir una lista inmersa en una tupla."
   ]
  },
  {
   "cell_type": "code",
   "execution_count": null,
   "id": "b5200c11",
   "metadata": {
    "slideshow": {
     "slide_type": "slide"
    }
   },
   "outputs": [],
   "source": [
    "datos1 = [1,2,3]\n",
    "datos2 = (4,5,6)\n",
    "print(type(datos1))\n",
    "print(type(datos2))"
   ]
  },
  {
   "cell_type": "markdown",
   "id": "01da80d6",
   "metadata": {
    "slideshow": {
     "slide_type": "slide"
    }
   },
   "source": [
    "## 1.3.3 Diccionarios"
   ]
  },
  {
   "cell_type": "markdown",
   "id": "5f978c8f",
   "metadata": {
    "slideshow": {
     "slide_type": "slide"
    }
   },
   "source": [
    "Un “dict” (diccionario), es considerado en otros lenguajes como arreglos asociativos. "
   ]
  },
  {
   "cell_type": "markdown",
   "id": "f4ba0ecf",
   "metadata": {
    "slideshow": {
     "slide_type": "slide"
    }
   },
   "source": [
    "En lugar de estar indexados por números, los diccionarios se indexan por medio de “keys”\n",
    "(llaves) que comprenden tipos inmutables como caracteres o números (Python Software Foundation, 2019)"
   ]
  },
  {
   "cell_type": "code",
   "execution_count": null,
   "id": "81cecdd9",
   "metadata": {
    "slideshow": {
     "slide_type": "slide"
    }
   },
   "outputs": [],
   "source": [
    "altura = {'diego':1.83, 'diana':1.76, 'andrés':1.74}\n",
    "type(altura) "
   ]
  },
  {
   "cell_type": "markdown",
   "id": "99f38f09",
   "metadata": {
    "slideshow": {
     "slide_type": "slide"
    }
   },
   "source": [
    "## 1.4 La función input"
   ]
  },
  {
   "cell_type": "markdown",
   "id": "434ffae7",
   "metadata": {
    "slideshow": {
     "slide_type": "slide"
    }
   },
   "source": [
    "En el aprendizaje de la programación se trabaja con información o entradas provenientes de un usuario. "
   ]
  },
  {
   "cell_type": "markdown",
   "id": "328a0fc9",
   "metadata": {
    "slideshow": {
     "slide_type": "slide"
    }
   },
   "source": [
    "El usuario ingresa un dato o valor, posteriormente un código lo captura y lo utiliza dentro de una función para arrojar un resultado."
   ]
  },
  {
   "cell_type": "markdown",
   "id": "792c27fa",
   "metadata": {
    "slideshow": {
     "slide_type": "slide"
    }
   },
   "source": [
    "La función “`input`” permite que el usuario ingrese una entrada al programa, la cual siempre \n",
    "será guardada como tipo carácter. "
   ]
  },
  {
   "cell_type": "markdown",
   "id": "e6050e7a",
   "metadata": {
    "slideshow": {
     "slide_type": "slide"
    }
   },
   "source": [
    "En caso de querer usarlo como dato de tipo numérico se debe \n",
    "\n",
    "* utilizar la función “`int`” aplicada a la entrada para convertirlo en un dato de tipo entero o de \n",
    "* usar la función “`float`” se convertiría en flotante. "
   ]
  },
  {
   "cell_type": "markdown",
   "id": "9691db31",
   "metadata": {
    "slideshow": {
     "slide_type": "slide"
    }
   },
   "source": [
    "* Un dato puede convertirse a tipo carácter usando la función “`str()`”."
   ]
  },
  {
   "cell_type": "markdown",
   "id": "fea47a0f",
   "metadata": {
    "slideshow": {
     "slide_type": "slide"
    }
   },
   "source": [
    "Es conveniente guardar la información que el usuario va a ingresar en una variable para manipularla posteriormente. "
   ]
  },
  {
   "cell_type": "markdown",
   "id": "5eb22b8b",
   "metadata": {
    "slideshow": {
     "slide_type": "slide"
    }
   },
   "source": [
    "La función “`input`” abre un cuadro de texto en el que el usuario podrá ingresar datos."
   ]
  },
  {
   "cell_type": "markdown",
   "id": "29203964",
   "metadata": {
    "slideshow": {
     "slide_type": "slide"
    }
   },
   "source": [
    "### Ejemplo de la función “`Input`”"
   ]
  },
  {
   "cell_type": "code",
   "execution_count": null,
   "id": "1650386f",
   "metadata": {
    "slideshow": {
     "slide_type": "slide"
    }
   },
   "outputs": [],
   "source": [
    "a = input('Escriba su nombre: ')\n",
    "print('Su nombre es: ', a) "
   ]
  },
  {
   "cell_type": "code",
   "execution_count": null,
   "id": "4f9ed1ce",
   "metadata": {
    "slideshow": {
     "slide_type": "slide"
    }
   },
   "outputs": [],
   "source": [
    "print('Tengo 10 productos')\n",
    "a = int(input('Entre el número de productos que usted tiene: '))\n",
    "print('Tenemos ', 10+a, ' productos') "
   ]
  },
  {
   "cell_type": "markdown",
   "id": "0897d997",
   "metadata": {
    "slideshow": {
     "slide_type": "slide"
    }
   },
   "source": [
    "## 1.5 Otras funciones matemáticas"
   ]
  },
  {
   "cell_type": "markdown",
   "id": "ff2bd9a8",
   "metadata": {
    "slideshow": {
     "slide_type": "slide"
    }
   },
   "source": [
    "Antes de realizar otras operaciones matemáticas más complejas es necesario entender que Python puede cargar módulos, que son partes de software con funcionalidades específicas. "
   ]
  },
  {
   "cell_type": "markdown",
   "id": "f86528c1",
   "metadata": {
    "slideshow": {
     "slide_type": "slide"
    }
   },
   "source": [
    "Los módulos de Python suelen contener funciones, clases o variables definidas e implementadas (Learn Python Org., 2019)."
   ]
  },
  {
   "cell_type": "markdown",
   "id": "8be48cb1",
   "metadata": {
    "slideshow": {
     "slide_type": "slide"
    }
   },
   "source": [
    "Uno de estos módulos es el “`math`”, con el cual se pueden aplicar \n",
    "\n",
    "* funciones trigonométricas, \n",
    "* hiperbólicas, \n",
    "* logarítmicas entre otras. "
   ]
  },
  {
   "cell_type": "markdown",
   "id": "10554326",
   "metadata": {
    "slideshow": {
     "slide_type": "slide"
    }
   },
   "source": [
    "Para hacer uso de este módulo primero debe ser importado utilizando la declaración “`import`“ que permite acceder al código de otros módulos. "
   ]
  },
  {
   "cell_type": "markdown",
   "id": "2125d124",
   "metadata": {
    "slideshow": {
     "slide_type": "slide"
    }
   },
   "source": [
    "Se escribe posteriormente otra declaración llamada `as` para instar el módulo con otro nombre de modo que sea más sencillo llamarlo, esto proviene realmente de que Python soporta programación orientada a objetos."
   ]
  },
  {
   "cell_type": "code",
   "execution_count": null,
   "id": "5e67a5bb",
   "metadata": {
    "slideshow": {
     "slide_type": "slide"
    }
   },
   "outputs": [],
   "source": [
    "import math as m "
   ]
  },
  {
   "cell_type": "markdown",
   "id": "1692fef5",
   "metadata": {
    "slideshow": {
     "slide_type": "slide"
    }
   },
   "source": [
    "Al hacer esta importación, ya es posible utilizar las funciones que contiene el módulo “`math`”\n",
    "de Python. "
   ]
  },
  {
   "cell_type": "markdown",
   "id": "6f8628f6",
   "metadata": {
    "slideshow": {
     "slide_type": "slide"
    }
   },
   "source": [
    "Primero se llama el módulo, seguido se coloca un punto y luego la función que se desee aplicar teniendo en cuenta que entre los paréntesis se coloca la variable o el valor de entrada."
   ]
  },
  {
   "cell_type": "code",
   "execution_count": null,
   "id": "5b04fb64",
   "metadata": {
    "slideshow": {
     "slide_type": "slide"
    }
   },
   "outputs": [],
   "source": [
    "m.exp(1)"
   ]
  },
  {
   "cell_type": "code",
   "execution_count": null,
   "id": "e42ee89d",
   "metadata": {
    "slideshow": {
     "slide_type": "slide"
    }
   },
   "outputs": [],
   "source": [
    "import math as m \n",
    "help(m.exp) "
   ]
  },
  {
   "cell_type": "markdown",
   "id": "89dee9fe",
   "metadata": {
    "slideshow": {
     "slide_type": "slide"
    }
   },
   "source": [
    "Para conocer todas las demás funciones contenidas en el módulo “`math`” puede utilizarse la función “`dir`” contenida en la librería estándar, en la cual, si se coloca el nombre de un módulo se obtienen los atributos del mismo:\n"
   ]
  },
  {
   "cell_type": "code",
   "execution_count": null,
   "id": "3c8c0760",
   "metadata": {
    "slideshow": {
     "slide_type": "slide"
    }
   },
   "outputs": [],
   "source": [
    "dir(m)"
   ]
  },
  {
   "cell_type": "markdown",
   "id": "975042e6",
   "metadata": {
    "slideshow": {
     "slide_type": "slide"
    }
   },
   "source": [
    "## 1.6 Otros tipos de operadores "
   ]
  },
  {
   "cell_type": "markdown",
   "id": "3df1d111",
   "metadata": {
    "slideshow": {
     "slide_type": "slide"
    }
   },
   "source": [
    "Los operadores son símbolos utilizados en informática para que el compilador ejecute operaciones sobre unos operandos para producir un resultado. "
   ]
  },
  {
   "cell_type": "markdown",
   "id": "351e4e04",
   "metadata": {
    "slideshow": {
     "slide_type": "slide"
    }
   },
   "source": [
    "Cabe anotar que además de \n",
    "* los operadores aritméticos \n",
    "existen \n",
    "* los operadores relacionales y \n",
    "* los operadores lógicos. "
   ]
  },
  {
   "cell_type": "markdown",
   "id": "3da3ee78",
   "metadata": {
    "slideshow": {
     "slide_type": "slide"
    }
   },
   "source": [
    "### 1.6.1 Operadores relacionales"
   ]
  },
  {
   "cell_type": "markdown",
   "id": "11a1617c",
   "metadata": {
    "slideshow": {
     "slide_type": "slide"
    }
   },
   "source": [
    "Los operadores relacionales comparan los valores de dos expresiones y devuelven un resultado booleano. "
   ]
  },
  {
   "cell_type": "markdown",
   "id": "0360fa72",
   "metadata": {
    "slideshow": {
     "slide_type": "slide"
    }
   },
   "source": [
    "Los operadores relacionales en Python se muestran en la siguiente tabla:"
   ]
  },
  {
   "cell_type": "code",
   "execution_count": null,
   "id": "19692729",
   "metadata": {
    "slideshow": {
     "slide_type": "slide"
    }
   },
   "outputs": [],
   "source": [
    "import pandas as pd \n",
    "operador = ['==','!=','>','<','>=','<=']\n",
    "significado = ['Es igual a', 'es diferente de', \n",
    "               'es mayor que', 'es menor que', \n",
    "               'es mayor o igual que','es menor o igual que']\n",
    "operadores_relacionales = pd.DataFrame({'operador':operador, 'significado':significado})\n",
    "operadores_relacionales "
   ]
  },
  {
   "cell_type": "markdown",
   "id": "ba335e8f",
   "metadata": {
    "slideshow": {
     "slide_type": "slide"
    }
   },
   "source": [
    "## 1.6.2 Operadores lógicos"
   ]
  },
  {
   "cell_type": "markdown",
   "id": "453c7368",
   "metadata": {
    "slideshow": {
     "slide_type": "slide"
    }
   },
   "source": [
    "Los operadores lógicos ejecutan operaciones en las que usualmente se evalúan dos operandos de tipo lógico y devuelve un resultado de tipo lógico igualmente. "
   ]
  },
  {
   "cell_type": "markdown",
   "id": "837c541b",
   "metadata": {
    "slideshow": {
     "slide_type": "slide"
    }
   },
   "source": [
    "Los operadores lógicos en Python se muestran en la siguiente tabla:"
   ]
  },
  {
   "cell_type": "code",
   "execution_count": null,
   "id": "3c726195",
   "metadata": {
    "slideshow": {
     "slide_type": "slide"
    }
   },
   "outputs": [],
   "source": [
    "import pandas as pd \n",
    "operador = ['And','Or','Not']\n",
    "significado = ['Y (determina si ambos operandos son verdaderos)', \n",
    "              'O (determina si alguno de los operandos son verdaderos)',\n",
    "              'No es (niega el valor de un operando)']\n",
    "operadores_logicos = pd.DataFrame({'operador lógico':operador, 'significado':significado})\n",
    "operadores_logicos"
   ]
  },
  {
   "cell_type": "markdown",
   "id": "7b28eada",
   "metadata": {
    "slideshow": {
     "slide_type": "slide"
    }
   },
   "source": [
    "Los operadores relacionales y lógicos son esenciales ya que son la base del control y gestión de los datos, en especial para comparar datos y modificar información en una variable (Mueller, John, 2018, p. 115). "
   ]
  },
  {
   "cell_type": "markdown",
   "id": "63ef6c0f",
   "metadata": {
    "slideshow": {
     "slide_type": "slide"
    }
   },
   "source": [
    "Cabe anotar que el uso de los operadores se da cuando se trabajan estructuras de control para ejecutar tareas, ya que se evalúan condiciones dadas antes de continuar con la ejecución de las mismas."
   ]
  },
  {
   "cell_type": "markdown",
   "id": "29488de5",
   "metadata": {
    "slideshow": {
     "slide_type": "slide"
    }
   },
   "source": [
    "### Ejemplo de operadores relacionales.\n"
   ]
  },
  {
   "cell_type": "code",
   "execution_count": null,
   "id": "f47c6b8a",
   "metadata": {
    "slideshow": {
     "slide_type": "slide"
    }
   },
   "outputs": [],
   "source": [
    "3==2+1, "
   ]
  },
  {
   "cell_type": "markdown",
   "id": "1f62508f",
   "metadata": {
    "slideshow": {
     "slide_type": "slide"
    }
   },
   "source": [
    "### Ejemplo de operadores relacionales con operadores lógicos.\n"
   ]
  },
  {
   "cell_type": "code",
   "execution_count": null,
   "id": "36e206da",
   "metadata": {
    "slideshow": {
     "slide_type": "slide"
    }
   },
   "outputs": [],
   "source": [
    "3+5>6 and 2+3==4 "
   ]
  },
  {
   "cell_type": "code",
   "execution_count": null,
   "id": "3a8360e3",
   "metadata": {
    "slideshow": {
     "slide_type": "slide"
    }
   },
   "outputs": [],
   "source": []
  },
  {
   "cell_type": "code",
   "execution_count": null,
   "id": "0d35d64f",
   "metadata": {
    "slideshow": {
     "slide_type": "slide"
    }
   },
   "outputs": [],
   "source": []
  },
  {
   "cell_type": "code",
   "execution_count": null,
   "id": "ed3c138c",
   "metadata": {
    "slideshow": {
     "slide_type": "slide"
    }
   },
   "outputs": [],
   "source": []
  },
  {
   "cell_type": "markdown",
   "id": "314deb4c",
   "metadata": {
    "slideshow": {
     "slide_type": "slide"
    }
   },
   "source": [
    "## Referentes\n",
    "\n",
    "* Calderon"
   ]
  },
  {
   "cell_type": "code",
   "execution_count": null,
   "id": "9bc473f8",
   "metadata": {},
   "outputs": [],
   "source": []
  }
 ],
 "metadata": {
  "celltoolbar": "Slideshow",
  "kernelspec": {
   "display_name": "Python 3",
   "language": "python",
   "name": "python3"
  },
  "language_info": {
   "codemirror_mode": {
    "name": "ipython",
    "version": 3
   },
   "file_extension": ".py",
   "mimetype": "text/x-python",
   "name": "python",
   "nbconvert_exporter": "python",
   "pygments_lexer": "ipython3",
   "version": "3.8.8"
  },
  "latex_envs": {
   "LaTeX_envs_menu_present": true,
   "autoclose": false,
   "autocomplete": false,
   "bibliofile": "biblio.bib",
   "cite_by": "apalike",
   "current_citInitial": 1,
   "eqLabelWithNumbers": true,
   "eqNumInitial": 1,
   "hotkeys": {
    "equation": "Ctrl-E",
    "itemize": "Ctrl-I"
   },
   "labels_anchors": false,
   "latex_user_defs": false,
   "report_style_numbering": false,
   "user_envs_cfg": false
  },
  "rise": {
   "enable_chalkboard": true,
   "theme": "sky",
   "transition": "sky"
  }
 },
 "nbformat": 4,
 "nbformat_minor": 5
}
