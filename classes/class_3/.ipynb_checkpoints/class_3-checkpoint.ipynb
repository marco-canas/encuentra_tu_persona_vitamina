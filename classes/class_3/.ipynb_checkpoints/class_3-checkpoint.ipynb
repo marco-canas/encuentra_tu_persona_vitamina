{
 "cells": [
  {
   "cell_type": "markdown",
   "id": "002067e4",
   "metadata": {
    "slideshow": {
     "slide_type": "slide"
    }
   },
   "source": [
    "<table align=\"left\">\n",
    "  <td>\n",
    "    <a href=\"https://colab.research.google.com/github/marco-canas/taca/blob/main/ref/geron/chap_2/5_prepare_for_algorithms/1_prepare_for_algorithms.ipynb\" target=\"_parent\"><img src=\"https://colab.research.google.com/assets/colab-badge.svg\" alt=\"Open In Colab\"/></a>\n",
    "  </td>\n",
    "  <td>\n",
    "    <a target=\"_blank\" href=\"https://kaggle.com/kernels/welcome?src=https://github.com/marco-canas/taca/blob/main/ref/geron/chap_2/5_prepare_for_algorithms/1_prepare_for_algorithms.ipynb\"><img src=\"https://kaggle.com/static/images/open-in-kaggle.svg\" /></a>\n",
    "  </td>\n",
    "</table> "
   ]
  },
  {
   "cell_type": "markdown",
   "id": "8ea075bb",
   "metadata": {
    "slideshow": {
     "slide_type": "slide"
    }
   },
   "source": [
    "# Clase 3 "
   ]
  },
  {
   "cell_type": "markdown",
   "id": "3d303bcd",
   "metadata": {
    "slideshow": {
     "slide_type": "slide"
    }
   },
   "source": [
    "# Capítulo 5\n",
    "## Funciones productivas"
   ]
  },
  {
   "cell_type": "markdown",
   "id": "a84d0a6e",
   "metadata": {
    "slideshow": {
     "slide_type": "slide"
    }
   },
   "source": [
    "5.1. Valores de retorno\n",
    "Algunas de las funciones internas que hemos usado, como las funciones math o\n",
    "funciones matem´aticas, han producido resultados. Llamar a la funci´on genera un\n",
    "nuevo valor, que normalmente asignamos a una variable pasa usar como parte\n",
    "de una expresi´on.\n",
    "import math\n",
    "e = math.exp(1.0)\n",
    "altura = radio * math.sin(angulo)\n",
    "Pero hasta ahora, ninguna de las funciones que hemos escrito ha devuelto un\n",
    "valor."
   ]
  },
  {
   "cell_type": "markdown",
   "id": "d46a8639",
   "metadata": {
    "slideshow": {
     "slide_type": "slide"
    }
   },
   "source": [
    "En este capítulo escribiremos funciones que devuelvan valores, que llamaremos funciones productivas, a falta de un nombre mejor. "
   ]
  },
  {
   "cell_type": "markdown",
   "id": "0539f281",
   "metadata": {
    "slideshow": {
     "slide_type": "slide"
    }
   },
   "source": [
    "El primer ejemplo es área, que devuelve el área de un círculo con un radio dado:"
   ]
  },
  {
   "cell_type": "code",
   "execution_count": null,
   "id": "ce785748",
   "metadata": {
    "slideshow": {
     "slide_type": "slide"
    }
   },
   "outputs": [],
   "source": [
    "import math\n",
    "def area(radio):\n",
    "    temporal = math.pi * radio**2\n",
    "    return temporal"
   ]
  },
  {
   "cell_type": "markdown",
   "id": "5478c80c",
   "metadata": {
    "slideshow": {
     "slide_type": "slide"
    }
   },
   "source": [
    "Ya hemos visto antes la sentencia return, pero en una función productiva la sentencia `return` incluye un valor de retorno. "
   ]
  },
  {
   "cell_type": "markdown",
   "id": "cb7e57f2",
   "metadata": {
    "slideshow": {
     "slide_type": "slide"
    }
   },
   "source": [
    "Esta sentencia quiere decir “retorna inmediatamente de la función y usa la siguiente expresión como valor de retorno”. "
   ]
  },
  {
   "cell_type": "markdown",
   "id": "d0766b2b",
   "metadata": {
    "slideshow": {
     "slide_type": "slide"
    }
   },
   "source": [
    "La expresión dada puede ser arbitrariamente complicada; así pues, podríamos haber escrito esta función más concisamente:"
   ]
  },
  {
   "cell_type": "code",
   "execution_count": 20,
   "id": "5309edd2",
   "metadata": {
    "slideshow": {
     "slide_type": "slide"
    }
   },
   "outputs": [],
   "source": [
    "import math \n",
    "def area(radio):\n",
    "    return math.pi*radio**2"
   ]
  },
  {
   "cell_type": "markdown",
   "id": "1f1007cf",
   "metadata": {
    "slideshow": {
     "slide_type": "slide"
    }
   },
   "source": [
    "Por otra parte, las variables temporales como temporal suelen hacer m´as\n",
    "f´acil el depurado.\n",
    "A veces es util ´ disponer de varias sentencias de retorno, una en cada rama de\n",
    "una condici´on:"
   ]
  },
  {
   "cell_type": "code",
   "execution_count": 21,
   "id": "7020c72a",
   "metadata": {
    "slideshow": {
     "slide_type": "slide"
    }
   },
   "outputs": [],
   "source": [
    "def valorAbsoluto(x):\n",
    "    if x < 0:\n",
    "        return -x\n",
    "    else:\n",
    "        return x"
   ]
  },
  {
   "cell_type": "markdown",
   "id": "2cd3d90e",
   "metadata": {
    "slideshow": {
     "slide_type": "slide"
    }
   },
   "source": [
    "Puesto que estas sentencias `return` están en una condición alternativa, sólo se ejecutará una de ellas. "
   ]
  },
  {
   "cell_type": "markdown",
   "id": "c2630616",
   "metadata": {
    "slideshow": {
     "slide_type": "slide"
    }
   },
   "source": [
    "En cuanto se ejecuta una de ellas, la función termina sin ejecutar ninguna de las sentencias siguientes."
   ]
  },
  {
   "cell_type": "markdown",
   "id": "2d747e8b",
   "metadata": {
    "slideshow": {
     "slide_type": "slide"
    }
   },
   "source": [
    "El código que aparece después de una sentencia `return` o en cualquier otro lugar donde el flujo de ejecución no pueda llegar, recibe el nombre de código muerto."
   ]
  },
  {
   "cell_type": "markdown",
   "id": "37eeb703",
   "metadata": {
    "slideshow": {
     "slide_type": "slide"
    }
   },
   "source": [
    "En una función productiva es una buena idea asegurarse de que cualquier posible recorrido del programa alcanza una sentencia `return`. "
   ]
  },
  {
   "cell_type": "markdown",
   "id": "dfefdec6",
   "metadata": {
    "slideshow": {
     "slide_type": "slide"
    }
   },
   "source": [
    "Por ejemplo:"
   ]
  },
  {
   "cell_type": "code",
   "execution_count": null,
   "id": "c7531426",
   "metadata": {
    "slideshow": {
     "slide_type": "slide"
    }
   },
   "outputs": [],
   "source": [
    "def valorAbsoluto(x):\n",
    "    if x < 0:\n",
    "        return -x\n",
    "    elif x > 0:\n",
    "        return x"
   ]
  },
  {
   "cell_type": "markdown",
   "id": "d156a5a6",
   "metadata": {
    "slideshow": {
     "slide_type": "slide"
    }
   },
   "source": [
    "**Ojo**  \n",
    "Este programa no es correcto porque si resulta que `x` vale `0`, entonces no se cumple ninguna de ambas condiciones y la función termina sin alcanzar la setencia return. "
   ]
  },
  {
   "cell_type": "markdown",
   "id": "da9e1791",
   "metadata": {
    "slideshow": {
     "slide_type": "slide"
    }
   },
   "source": [
    "En este caso, el valor de retorno es un valor especial llamado None:"
   ]
  },
  {
   "cell_type": "code",
   "execution_count": null,
   "id": "cc5ec16f",
   "metadata": {
    "slideshow": {
     "slide_type": "slide"
    }
   },
   "outputs": [],
   "source": [
    "print(valorAbsoluto(0)) "
   ]
  },
  {
   "cell_type": "markdown",
   "id": "58943e92",
   "metadata": {
    "slideshow": {
     "slide_type": "slide"
    }
   },
   "source": [
    "Como actividad, escriba una función comparar que devuelva `1` si `x > y` , `0` si `x == y` , y `-1` si `x < y` ."
   ]
  },
  {
   "cell_type": "markdown",
   "id": "e1086817",
   "metadata": {
    "slideshow": {
     "slide_type": "slide"
    }
   },
   "source": [
    "## 5.2. Desarrollo de programas"
   ]
  },
  {
   "cell_type": "markdown",
   "id": "2a2c9752",
   "metadata": {
    "slideshow": {
     "slide_type": "slide"
    }
   },
   "source": [
    "Llegados a este punto, tendr´ıa que poder mirar a funciones Python completas y adivinar qué hacen."
   ]
  },
  {
   "cell_type": "markdown",
   "id": "3e8ddb66",
   "metadata": {
    "slideshow": {
     "slide_type": "slide"
    }
   },
   "source": [
    "También, si ha hecho los ejercicios, habrá escrito algunas funciones sencillas. "
   ]
  },
  {
   "cell_type": "markdown",
   "id": "7992de5d",
   "metadata": {
    "slideshow": {
     "slide_type": "slide"
    }
   },
   "source": [
    "Tal como vaya escribiendo funciones mayores puede empeza"
   ]
  },
  {
   "cell_type": "markdown",
   "id": "5130b023",
   "metadata": {
    "slideshow": {
     "slide_type": "slide"
    }
   },
   "source": [
    "a experimentar m´as dificultades, especialmente con los errores en tiempo de\n",
    "ejecuci´on y los sem´anticos.\n",
    "Para lidiar con programas de complejidad creciente, vamos a sugerirle una t´ecni\u0002ca que llamaremos desarrollo incremental. El objetivo del desarrollo incre\u0002mental es sustituir largas sesiones de depuraci´on por la adici´on y prueba de\n",
    "pequenas ˜ porciones de c´odigo en cada vez.\n",
    "Por ejemplo, supongamos que desea encontrar la distancia entre dos puntos, da\u0002dos por las coordenadas (x1, y1) y (x2, y2). Por el teorema de Pit´agoras, podemos\n",
    "escribir la distancia es:\n",
    "distancia =\n",
    "p\n",
    "(x2 − x1)\n",
    "2 + (y2 − y1)\n",
    "2 (5.1)\n",
    "El primer paso es considerar qu´e aspecto tendr´ıa una funci´on distancia en\n",
    "Python. En otras palabras, ¿cu´ales son las entradas (par´ametros) y cu´al es la\n",
    "salida (valor de retorno)?\n",
    "En este caso, los dos puntos son los par´ametros, que podemos representar usando\n",
    "cuatro par´ametros. El valor de retorno es la distancia, que es un valor en coma\n",
    "flotante.\n",
    "Ya podemos escribir un bosquejo de la funci´on:\n",
    "def distancia(x1, y1, x2, y2):\n",
    "return 0.0\n",
    "Obviamente, la funci´on no calcula distancias; siempre devuelve cero. Pero es\n",
    "sint´acticamente correcta y se ejecutar´a, lo que significa que podemos probarla\n",
    "antes de complicarla m´as.\n",
    "Para comprobar la nueva funci´on, tenemos que llamarla con valores de ejemplo:"
   ]
  },
  {
   "cell_type": "code",
   "execution_count": null,
   "id": "048c48ad",
   "metadata": {
    "slideshow": {
     "slide_type": "slide"
    }
   },
   "outputs": [],
   "source": [
    ">>> def distancia(x1, y1, x2, y2):\n",
    "... return 0.0\n",
    "...\n",
    ">>> distancia(1, 2, 4, 6)\n",
    "0.0\n",
    ">>>"
   ]
  },
  {
   "cell_type": "markdown",
   "id": "e3420af1",
   "metadata": {
    "slideshow": {
     "slide_type": "slide"
    }
   },
   "source": [
    "Elegimos estos valores de tal forma que la distancia horizontal sea igual a 3 y la\n",
    "distancia vertical sea igual a 4; de esa manera el resultado es 5 (la hipotenusa del\n",
    "tri´angulo 3-4-5). Cuando se comprueba una funci´on, es util ´ saber la respuesta\n",
    "correcta.\n",
    "Hasta el momento, hemos comprobado que la funci´on es sint´acticamente correc\u0002ta, as´ı que podemos empezar a anadir ˜ l´ıneas de c´odigo. Despu´es de cada cambio incremental, comprobamos de nuevo la funci´on. Si en un momento dado apare\u0002ce un error, sabremos d´onde est´a exactamente: en la ultima ´ l´ınea que hayamos\n",
    "anadido. ˜\n",
    "El siguiente paso en el c´alculo es encontrar las diferencias entre x2−x1 y y2−y1.\n",
    "Almacenaremos dichos valores en variables temporales llamadas dx y dy y las\n",
    "imprimiremos.\n",
    "def distancia(x1, y1, x2, y2):\n",
    "dx = x2 - x1\n",
    "dy = y2 - y1\n",
    "print \"dx es\", dx\n",
    "print \"dy es\", dy\n",
    "return 0.0\n",
    "Si la funci´on funciona, valga la redundancia, las salidas deber´ıan ser 3 y 4. Si\n",
    "es as´ı, sabemos que la funci´on recibe correctamente los par´ametros y realiza\n",
    "correctamente el primer c´alculo. Si no, s´olo hay unas pocas l´ıneas que revisar.\n",
    "Ahora calculamos la suma de los cuadarados de dx y dy:\n",
    "def distancia(x1, y1, x2, y2):\n",
    "dx = x2 - x1\n",
    "dy = y2 - y1\n",
    "dalcuadrado = dx**2 + dy**2\n",
    "print \"dalcuadrado es: \", dalcuadrado\n",
    "return 0.0\n",
    "F´ıjese en que hemos eliminado las sentencias print que escribimos en el pa\u0002so anterior. Este c´odigo se llama andamiaje porque es util ´ para construir el\n",
    "programa pero no es parte del producto final.\n",
    "De nuevo querremos ejecutar el programa en este estado y comprobar la salida\n",
    "(que deber´ıa dar 25).\n",
    "Por ultimo, ´ si hemos importado el m´odulo math, podemos usar la funci´on sqrt\n",
    "para calcular y devolver el resultado:\n",
    "def distancia(x1, y1, x2, y2):\n",
    "dx = x2 - x1\n",
    "dy = y2 - y1\n",
    "dalcuadrado = dx**2 + dy**2\n",
    "resultado = math.sqrt(dalcuadrado)\n",
    "return resultado\n",
    "Si esto funciona correctamente, ha terminado. Si no, podr´ıa ser que quisiera\n",
    "usted imprimir el valor de resultado antes de la sentencia return Al principio, deber´ıa anadir ˜ solamente una o dos l´ıneas de c´odigo cada vez.\n",
    "Conforme vaya ganando experiencia, puede que se encuentre escribiendo y de\u0002purando trozos mayores. Sin embargo, el proceso de desarrollo incremental puede\n",
    "ahorrarle mucho tiempo de depurado.\n",
    "Los aspectos fundamentales del proceso son:\n",
    "1. Comience con un programa que funcione y h´agale pequenos ˜ cambios in\u0002crementales. Si hay un error, sabr´a exactamente d´onde est´a.\n",
    "2. Use variables temporales para mantener valores intermedios, de tal manera\n",
    "que pueda mostrarlos por pantalla y comprobarlos.\n",
    "3. Una vez que el programa est´e funcionando, tal vez prefiera eliminar parte\n",
    "del andamiaje o aglutinar multiples ´ sentencias en expresiones compuestas,\n",
    "pero s´olo si eso no hace que el programa sea dif´ıcil de leer.\n",
    "Como actividad, utilice el desarrollo incremental para escribir una\n",
    "funci´on de nombre hipotenusa que devuelva la longitud de la hipo\u0002tenusa de un tri´angulo rect´angulo, dando como par´ametros los dos\n",
    "catetos. Registre cada estado del desarrollo incremental segun´ vaya\n",
    "avanzando."
   ]
  },
  {
   "cell_type": "markdown",
   "id": "2179f365",
   "metadata": {
    "slideshow": {
     "slide_type": "slide"
    }
   },
   "source": [
    "## 5.3. Composición  "
   ]
  },
  {
   "cell_type": "markdown",
   "id": "0e709cda",
   "metadata": {
    "slideshow": {
     "slide_type": "slide"
    }
   },
   "source": [
    "Como seguramente a estas alturas ya supondrá, se puede llamar a una función desde dentro de otra."
   ]
  },
  {
   "cell_type": "markdown",
   "id": "9881ae25",
   "metadata": {
    "slideshow": {
     "slide_type": "slide"
    }
   },
   "source": [
    "Esta habilidad se llama composición."
   ]
  },
  {
   "cell_type": "markdown",
   "id": "227e6223",
   "metadata": {
    "slideshow": {
     "slide_type": "slide"
    }
   },
   "source": [
    "Como ejemplo, escribiremos una función que tome dos puntos, el centro del círculo y un punto del perímetro, y calcule el área del círculo."
   ]
  },
  {
   "cell_type": "markdown",
   "id": "34a348a4",
   "metadata": {
    "slideshow": {
     "slide_type": "slide"
    }
   },
   "source": [
    "Supongamos que el punto central está almacenado en las variables xc e yc, y que el punto del perímetro lo está en xp e yp. "
   ]
  },
  {
   "cell_type": "markdown",
   "id": "a4db6ad9",
   "metadata": {
    "slideshow": {
     "slide_type": "slide"
    }
   },
   "source": [
    "El primer paso es hallar el radio del c´ırculo, que es la distancia entre los dos puntos. Afortunadamente hay una funci´on, distancia, que realiza esta tarea:\n",
    "\n",
    "$$ radio = distancia(xc, yc, xp, yp) $$"
   ]
  },
  {
   "cell_type": "markdown",
   "id": "b1c033fb",
   "metadata": {
    "slideshow": {
     "slide_type": "slide"
    }
   },
   "source": [
    "El segundo paso es encontrar el área de un círculo con ese radio y devolverla:"
   ]
  },
  {
   "cell_type": "markdown",
   "id": "40ed50ce",
   "metadata": {
    "slideshow": {
     "slide_type": "slide"
    }
   },
   "source": [
    "resultado = area(radio)\n",
    "return resultado"
   ]
  },
  {
   "cell_type": "markdown",
   "id": "0b907745",
   "metadata": {
    "slideshow": {
     "slide_type": "slide"
    }
   },
   "source": [
    "Envolviendo todo esto en una función, obtenemos:"
   ]
  },
  {
   "cell_type": "code",
   "execution_count": null,
   "id": "52ea415e",
   "metadata": {
    "slideshow": {
     "slide_type": "slide"
    }
   },
   "outputs": [],
   "source": [
    "def area2(xc, yc, xp, yp):\n",
    "radio = distancia(xc, yc, xp, yp)\n",
    "resultado = area(radio)\n",
    "return resultado"
   ]
  },
  {
   "cell_type": "markdown",
   "id": "436b8dfa",
   "metadata": {
    "slideshow": {
     "slide_type": "slide"
    }
   },
   "source": [
    "Hemos llamado a esta función `area2()` para distinguirla de la funci´on `area()` definida\n",
    "anteriormente. "
   ]
  },
  {
   "cell_type": "markdown",
   "id": "af908aac",
   "metadata": {
    "slideshow": {
     "slide_type": "slide"
    }
   },
   "source": [
    "Sólo puede haber una única función con un determinado nombre dentro de un módulo."
   ]
  },
  {
   "cell_type": "markdown",
   "id": "c2936a6a",
   "metadata": {
    "slideshow": {
     "slide_type": "slide"
    }
   },
   "source": [
    "Las variables temporales radio y area son útiles para el desarrollo y el depurado, pero una vez que el programa está funcionando, podemos hacerlo más conciso integrando las llamadas a las funciones en una sola línea:"
   ]
  },
  {
   "cell_type": "code",
   "execution_count": null,
   "id": "49b6f878",
   "metadata": {
    "slideshow": {
     "slide_type": "slide"
    }
   },
   "outputs": [],
   "source": [
    "def area2(xc, yc, xp, yp):\n",
    "    return area(distancia(xc, yc, xp, yp))"
   ]
  },
  {
   "cell_type": "markdown",
   "id": "0769d554",
   "metadata": {
    "slideshow": {
     "slide_type": "slide"
    }
   },
   "source": [
    "Como actividad, escriba una funci´on pendiente(x1, y1, x2, y2)\n",
    "que devuelva la pendiente de la l´ınea que atraviesa los puntos (x1,\n",
    "y1) y (x2, y2). Luego use esta funci´on en una funci´on que se llame\n",
    "intercepta(x1, y1, x2, y2) que devuelva la [[y-intercepta]] de la\n",
    "l´ınea a trav´es de los puntos (x1, y1) y (x2, y2)."
   ]
  },
  {
   "cell_type": "markdown",
   "id": "04be9778",
   "metadata": {
    "slideshow": {
     "slide_type": "slide"
    }
   },
   "source": [
    "## 5.4. Funciones booleanas"
   ]
  },
  {
   "cell_type": "markdown",
   "id": "c2e56917",
   "metadata": {
    "slideshow": {
     "slide_type": "slide"
    }
   },
   "source": [
    "Las funciones pueden devolver valores booleanos, lo que a menudo es conveniente\n",
    "para ocultar complicadas comprobaciones dentro de funciones. Por ejemplo:"
   ]
  },
  {
   "cell_type": "code",
   "execution_count": 22,
   "id": "a3703bbe",
   "metadata": {
    "slideshow": {
     "slide_type": "slide"
    }
   },
   "outputs": [],
   "source": [
    "def esDivisible(x, y):\n",
    "    if x % y == 0:\n",
    "        return 1 # it’s true\n",
    "    else:\n",
    "        return 0 # it’s false"
   ]
  },
  {
   "cell_type": "markdown",
   "id": "b66fb94a",
   "metadata": {
    "slideshow": {
     "slide_type": "slide"
    }
   },
   "source": [
    "La función lleva por nombre `esDivisible`. "
   ]
  },
  {
   "cell_type": "markdown",
   "id": "2bf76393",
   "metadata": {
    "slideshow": {
     "slide_type": "slide"
    }
   },
   "source": [
    "Es habitual dar a las funciones booleanas nombres que suenan como preguntas sí/no. "
   ]
  },
  {
   "cell_type": "markdown",
   "id": "2904fcee",
   "metadata": {
    "slideshow": {
     "slide_type": "slide"
    }
   },
   "source": [
    "Devuelve 1 ó 0 para indicar si la x es o no divisibelo por y."
   ]
  },
  {
   "cell_type": "markdown",
   "id": "e6e52c6b",
   "metadata": {
    "slideshow": {
     "slide_type": "slide"
    }
   },
   "source": [
    "Podemos reducir el tamano˜ de la funci´on aprovech´andonos del hecho de que\n",
    "la sentencia condicional que hay despu´es del if es en s´ı misma una expresi´on\n",
    "booleana. Podemos devolverla directamente, evitando a la vez la sentencia if:"
   ]
  },
  {
   "cell_type": "code",
   "execution_count": 23,
   "id": "a0c79c43",
   "metadata": {
    "slideshow": {
     "slide_type": "slide"
    }
   },
   "outputs": [],
   "source": [
    "def esDivisible(x, y):\n",
    "    return x % y == 0"
   ]
  },
  {
   "cell_type": "markdown",
   "id": "cd922ef8",
   "metadata": {
    "slideshow": {
     "slide_type": "slide"
    }
   },
   "source": [
    "La siguiente sesión muestra a la nueva funci´on en acción:"
   ]
  },
  {
   "cell_type": "code",
   "execution_count": 24,
   "id": "2bd1821d",
   "metadata": {
    "slideshow": {
     "slide_type": "slide"
    }
   },
   "outputs": [
    {
     "data": {
      "text/plain": [
       "False"
      ]
     },
     "execution_count": 24,
     "metadata": {},
     "output_type": "execute_result"
    }
   ],
   "source": [
    "esDivisible(6, 4)"
   ]
  },
  {
   "cell_type": "code",
   "execution_count": 25,
   "id": "4f97c551",
   "metadata": {
    "slideshow": {
     "slide_type": "slide"
    }
   },
   "outputs": [
    {
     "data": {
      "text/plain": [
       "True"
      ]
     },
     "execution_count": 25,
     "metadata": {},
     "output_type": "execute_result"
    }
   ],
   "source": [
    "esDivisible(6, 3)"
   ]
  },
  {
   "cell_type": "markdown",
   "id": "bcfebf9c",
   "metadata": {
    "slideshow": {
     "slide_type": "slide"
    }
   },
   "source": [
    "El uso más común para las funciones booleanas es dentro de sentencias condicionales:"
   ]
  },
  {
   "cell_type": "markdown",
   "id": "c38f94e6",
   "metadata": {
    "slideshow": {
     "slide_type": "slide"
    }
   },
   "source": [
    "if esDivisible(x, y):\n",
    "print \"x es divisible entre y\"\n",
    "else:\n",
    "print \"x no es divisible entre y\"\n",
    "Puede parecer tentador escribir algo como:\n",
    "if esDivisible(x, y) == 1:\n",
    "Pero la comparaci´on extra es innecesaria.\n",
    "Como actividad, escriba una funci´on estaEntre(x, y, z) que de\u0002vuelva 1 en caso de que y <= x <= z y que devuelva 0 en cualquier\n",
    "otro caso."
   ]
  },
  {
   "cell_type": "markdown",
   "id": "2f56c119",
   "metadata": {
    "slideshow": {
     "slide_type": "slide"
    }
   },
   "source": [
    "## 5.5. Más recursividad"
   ]
  },
  {
   "cell_type": "markdown",
   "id": "7ae9f8d7",
   "metadata": {
    "slideshow": {
     "slide_type": "slide"
    }
   },
   "source": [
    "Hasta ahora, usted ha aprendido solamente un pequeño subconjunto de Python, pero puede que le interese saber que ese subconjunto es ya un lenguaje de programación completo; con esto queremos decir que cualquier cosa que pueda computarse se puede expresar en este lenguaje. "
   ]
  },
  {
   "cell_type": "markdown",
   "id": "46fdd4c9",
   "metadata": {
    "slideshow": {
     "slide_type": "slide"
    }
   },
   "source": [
    "Cualquier programa que se haya escrito alguna vez puede reescribirse utilizando únicamente las características del lenguaje que ha aprendido hasta el momento (de hecho, necesitaría algunas\n",
    "órdenes para controlar dispositivos como el teclado, el rat´on, los discos, etc, pero eso es todo)."
   ]
  },
  {
   "cell_type": "markdown",
   "id": "a61330cd",
   "metadata": {
    "slideshow": {
     "slide_type": "slide"
    }
   },
   "source": [
    "Probar tal afirmaci´on es un ejercicio nada trivial, completado por primera vez\n",
    "por Alan Turing, uno de los primeros cient´ıficos inform´aticos (algunos argumen\u0002tar´an que era un matem´atico, pero muchos de los cient´ıficos inform´aticos pione\u0002ros comenzaron como matem´aticos). En correspondencia, se la conoce como la\n",
    "tesis de Turing. Si estudia un curso de Teor´ıa de la Computaci´on, tendr´a opor\u0002tunidad de ver la prueba."
   ]
  },
  {
   "cell_type": "markdown",
   "id": "31028fb5",
   "metadata": {
    "slideshow": {
     "slide_type": "slide"
    }
   },
   "source": [
    "Para darle una idea de lo que puede hacer con las herramientas que ha aprendido\n",
    "hasta ahora, evaluaremos una serie de funciones matem´aticas que se definen\n",
    "recursivamente. Una definici´on recursiva es semejante a una definici´on circular,\n",
    "en el sentido de que la definici´on contiene una referencia a lo que se define. Una\n",
    "definici´on verdaderamente circular no es muy util: ´\n",
    "**frangoso:** adjetivo que describe algo que es frangoso\n",
    "Si usted viera esa definición en el diccionario, se quedaría confuso. "
   ]
  },
  {
   "cell_type": "markdown",
   "id": "9a8ed8b7",
   "metadata": {
    "slideshow": {
     "slide_type": "slide"
    }
   },
   "source": [
    "Por otra parte, si ha buscado la definición de la función matemática factorial, habrá visto algo\n",
    "sejemante a lo siguiente:"
   ]
  },
  {
   "cell_type": "markdown",
   "id": "dfc59e2c",
   "metadata": {
    "slideshow": {
     "slide_type": "slide"
    }
   },
   "source": [
    "\\begin{align*}\n",
    "0! & = 1 \\\\\n",
    "n! & = n · (n − 1)!\n",
    "\\end{align*}"
   ]
  },
  {
   "cell_type": "markdown",
   "id": "08b275f8",
   "metadata": {
    "slideshow": {
     "slide_type": "slide"
    }
   },
   "source": [
    "Esta definici´on establece que el factoral de $0$ es $1$, y que el factorial de cualquier otro valor, $n$, es $n$ multiplicado por el factorial de $n − 1$."
   ]
  },
  {
   "cell_type": "markdown",
   "id": "66cdb623",
   "metadata": {
    "slideshow": {
     "slide_type": "slide"
    }
   },
   "source": [
    "Así pues, 3! es 3 veces 2!, que es 2 veces 1!, que es una vez 0!. "
   ]
  },
  {
   "cell_type": "markdown",
   "id": "f0ed5322",
   "metadata": {
    "slideshow": {
     "slide_type": "slide"
    }
   },
   "source": [
    "Juntándolos todos, , 3! es igual a 3 veces 2 veces 1 vez 1, que es 6."
   ]
  },
  {
   "cell_type": "markdown",
   "id": "fb69382f",
   "metadata": {
    "slideshow": {
     "slide_type": "slide"
    }
   },
   "source": [
    "Si puede escribir una definición recursiva de algo, normalmente podrá escribir un programa de Python para evaluarlo. "
   ]
  },
  {
   "cell_type": "markdown",
   "id": "c8714ca7",
   "metadata": {
    "slideshow": {
     "slide_type": "slide"
    }
   },
   "source": [
    "El primer paso es decidir cuáles son los parámetros para esta función. "
   ]
  },
  {
   "cell_type": "markdown",
   "id": "8bddf4c0",
   "metadata": {
    "slideshow": {
     "slide_type": "slide"
    }
   },
   "source": [
    "Con poco esfuerzo llegar´a a la conclusi´on de que\n",
    "factorial toma un unico ´ par´ametro:\n",
    "def factorial(n):\n",
    "Si resultase que el argumento fuese 0, todo lo que hemos de hacer es devolver 1:\n",
    "def factorial(n):\n",
    "if n == 0:\n",
    "return 1\n",
    "En otro caso, y he aqu´ı la parte interesante, tenemos que hacer una llamada\n",
    "recursiva para hallar el factorial de n − 1 y luego multiplicarlo por n:\n",
    "def factorial(n):\n",
    "if n == 0:\n",
    "return 1\n",
    "else:\n",
    "recursivo = factorial(n-1)\n",
    "resultado = n * recursivo\n",
    "return resultado\n",
    "El flujo de ejecuci´on de este programa es similar al de cuenta atras de la\n",
    "Secci´on 4.9. Si llamamos a factorial con el valor 3:\n",
    "Puesto que 3 no es 0, tomamos la segunda rama y calculamos el factorial de\n",
    "n-1...\n",
    "Puesto que 2 no es 0, tomamos la segunda rama y calculamos el\n",
    "factorial de n-1...\n",
    "Puesto que 1 no es 0, tomamos la segunda rama y calcu\u0002lamos el factorial de n-1...\n",
    "Puesto que 0 es 0, tomamos la primera rama y\n",
    "devolvemos el valor 1 sin hacer m´as llamadas re\u0002cursivas."
   ]
  },
  {
   "cell_type": "markdown",
   "id": "5394931a",
   "metadata": {
    "slideshow": {
     "slide_type": "slide"
    }
   },
   "source": [
    "El valor de retorno (1) se multiplica por n, que es 1, y se\n",
    "devuelve el resultado.\n",
    "El valor de retorno (1) se multiplica por n, que es 2, y se devuelve\n",
    "el resultado.\n",
    "El valor de retorno (2) se multiplica por n, que es 3, y el resultado 6, se convierte\n",
    "en el valor de retorno de la llamada a la funci´on que comenz´o todo el proceso.\n",
    "He aqu´ı el aspecto que tiene el diagrama de pila para esta secuencia de llamadas\n",
    "a funci´on:"
   ]
  },
  {
   "cell_type": "markdown",
   "id": "8e315bf2",
   "metadata": {
    "slideshow": {
     "slide_type": "slide"
    }
   },
   "source": [
    "<img src = 'https://github.com/marco-canas/introducci-n-al-Machine-Learning/blob/main/classes/class_3/recursividad.png?raw=true'> "
   ]
  },
  {
   "cell_type": "markdown",
   "id": "3fbae33a",
   "metadata": {
    "slideshow": {
     "slide_type": "slide"
    }
   },
   "source": [
    "Los valores de retorno se muestran segun´ se pasan hacia la parte superior de\n",
    "la pila. En cada marco, el valor de retorno es el valor de resultado, que es el\n",
    "producto de n por recursivo.\n",
    "N´otese que en el ultimo ´ marco las variables locales recursivo y resultado no\n",
    "existen porque la rama que las crea no se ejecuta."
   ]
  },
  {
   "cell_type": "markdown",
   "id": "1e97a218",
   "metadata": {
    "slideshow": {
     "slide_type": "slide"
    }
   },
   "source": [
    "## 5.6. Acto de fe"
   ]
  },
  {
   "cell_type": "markdown",
   "id": "7ebe8b9a",
   "metadata": {
    "slideshow": {
     "slide_type": "slide"
    }
   },
   "source": [
    "Seguir el flujo de ejecuci´on es una de las maneras de leer programas; pero puede\n",
    "volverse r´apidamente una tarea laber´ınitca. La alternativa es lo que llamamos\n",
    "el “acto de fe”. Cuando llegamos a una funci´on, en lugar de seguir el flujo de\n",
    "ejecuci´on, damos por sentado que la funci´on trabaja correctamente y devuelve\n",
    "el valor apropiado.\n",
    "De hecho, usted ya practica dicho salto de fe cuando usa funciones internas.\n",
    "Cuando llama a math.cos o a math.exp, no examina la implementaci´on de"
   ]
  },
  {
   "cell_type": "markdown",
   "id": "7064199d",
   "metadata": {
    "slideshow": {
     "slide_type": "slide"
    }
   },
   "source": [
    "dichas funciones. Simplemente da por sentado que funcionan porque los que\n",
    "escribieron las bibliotecas internas de Python son buenos programadores.\n",
    "Lo mismo se aplica cuando llama a una de las funciones programadas por usted.\n",
    "Por ejemplo en la Secci´on 5.4, escribimos una funci´on llamada esDivisible\n",
    "que determina si un numero ´ es divisible por otro. Una vez que nos hayamos\n",
    "convencido de que dicha funci´on es correcta, comprobando y examinando el\n",
    "c´odigo, podremos usar la funci´on sin tener siquiera que volver a mirar el c´odigo\n",
    "otra vez.\n",
    "Lo mismo vale para los programas recursivos. Cuando llegue a la llamada recur\u0002siva, en lugar de seguir el flujo de ejecuci´on, tendr´ıa que dar por supuesto que\n",
    "la llamada recursiva funciona (es decir, devuelve el resultado correcto) y luego\n",
    "preguntarse: “suponiendo que puedo hallar el factorial de n − 1, ¿puedo hallar\n",
    "el factorial de n?” En este caso, est´a claro que s´ı puede, multiplic´andolo por n.\n",
    "Por supuesto, es un tanto extrano˜ dar por supuesto que la funci´on est´a bien\n",
    "cuando ni siquiera ha acabado de escribirla, pero precisamente por eso se llama\n",
    "acto de fe.\n",
    "5.7. Un ejemplo m´as\n",
    "En el ejemplo anterior, usamos variables temporales para ir apuntando los re\u0002sultados y para hacer que el c´odigo fuese m´as f´acil de depurar, pero podr´ıamos\n",
    "habernos ahorrado unas cuantas l´ıneas:\n",
    "def factorial(n):\n",
    "if n == 0:\n",
    "return 1\n",
    "else:\n",
    "return n * factorial(n-1)\n",
    "De ahora en adelante, tenderemos a usar la versi´on m´as concisa, pero le reco\u0002mendamos que utilice la versi´on m´as expl´ıcita mientras se halle desarrollando\n",
    "c´odigo. Cuando lo tenga funcionando, lo podr´a acortar, si se siente inspirado.\n",
    "Despu´es de factorial, el ejemplo m´as comun´ de una funci´on matem´atica re\u0002cursivamente definida es fibonacci, que presenta la siguiente definici´on:\n",
    "fibonacci(0) = 1\n",
    "fibonacci(1) = 1\n",
    "fibonacci(n) = fibonacci(n − 1) + fibonacci(n − 2);\n",
    "Traducido a Python, es como sigue"
   ]
  },
  {
   "cell_type": "markdown",
   "id": "dec458f7",
   "metadata": {
    "slideshow": {
     "slide_type": "slide"
    }
   },
   "source": [
    "def fibonacci (n):\n",
    "if n == 0 or n == 1:\n",
    "return 1\n",
    "else:\n",
    "return fibonacci(n-1) + fibonacci(n-2)\n",
    "Si intenta seguir el flujo de ejecuci´on aqu´ı, incluso para valores relativamente\n",
    "pequenos ˜ de n, le puede dar un dolor de cabeza. Pero si confiamos en el acto de\n",
    "fe, si da por supuesto que las dos llamadas recursivas funcionan correctamente,\n",
    "entonces estar´a claro que obtiene el resultado correcto al sumarlas juntas.\n",
    "5.8. Comprobaci´on de tipos\n",
    "¿Qu´e sucede si llamamos a factorial y le damos 1.5 como argumento?\n",
    ">>> factorial (1.5)\n",
    "RuntimeError: Maximum recursion depth exceeded\n",
    "Tiene todo el aspecto de una recursi´on infinita. Pero, ¿c´omo ha podido ocurrir?\n",
    "Hay una condici´on de salida o caso base: cuando n == 0. El problema es que el\n",
    "valor de n yerra el caso base.\n",
    "En la primera llamada recursiva, el valor de n es 0.5. En la siguiente vez su valor\n",
    "es -0.5. A partir de ah´ı, se vuelve m´as y m´as pequeno, ˜ pero nunca ser´a 0.\n",
    "Tenemos dos opciones. Podemos intentar generalizar la funci´on factorial para\n",
    "que trabaje con numeros ´ de coma flotante, o podemos hacer que factorial\n",
    "compruebe el tipo de su par´ametro. La primera opci´on se llama funci´on gamma,\n",
    "y est´a m´as all´a del objetivo de este libro. As´ı pues, tomemos la segunda.\n",
    "Podemos usar la funci´on type para comparar el tipo del par´ametro con el tipo\n",
    "de un valor entero conocido (por ejemplo 1). Ya que estamos en ello, podemos\n",
    "asegurarnos de que el par´ametro sea positivo:"
   ]
  },
  {
   "cell_type": "code",
   "execution_count": null,
   "id": "1b872c9d",
   "metadata": {
    "slideshow": {
     "slide_type": "slide"
    }
   },
   "outputs": [],
   "source": [
    "def factorial (n):\n",
    "if type(n) != type(1):\n",
    "print \"El factorial est´a definido s´olo para enteros.\"\n",
    "return -1\n",
    "elif n < 0:\n",
    "print \"El factorial est´a definido s´olo para enteros\\\n",
    "positivos.\"\n",
    "return -1\n",
    "elif n == 0:\n",
    "return 1\n",
    "else:\n",
    "return n * factorial(n-1)"
   ]
  },
  {
   "cell_type": "markdown",
   "id": "fd0861d4",
   "metadata": {
    "slideshow": {
     "slide_type": "slide"
    }
   },
   "source": [
    "Ahora tenemos tres condiciones de salida o casos base. El primero filtra los\n",
    "numeros ´ no enteros. El segundo evita los enteros negativos. En ambos casos, se\n",
    "muestra un mensaje de error y se devuelve un valor especial, -1, para indicar a\n",
    "quien hizo la llamada a la funci´on que algo fue mal:"
   ]
  },
  {
   "cell_type": "markdown",
   "id": "61fa04c1",
   "metadata": {
    "slideshow": {
     "slide_type": "slide"
    }
   },
   "source": [
    ">>> factorial (1.5)\n",
    "El factorial esta definido solo para enteros.\n",
    "-1\n",
    ">>> factorial (-2)\n",
    "El factorial esta definido solo para enteros positivos.\n",
    "-1\n",
    ">>> factorial (\"paco\")\n",
    "El factorial esta definido solo para enteros.\n",
    "-1\n",
    "Si pasamos ambas comprobaciones, entonces sabemos que n es un entero positivo\n",
    "y podemos probar que la recursi´on termina.\n",
    "Este programa muestra un patr´on que se llama a veces guardi´an. Las primeras\n",
    "dos condicionales actuan ´ como guardianes, protegiendo al c´odigo que sigue de\n",
    "los valores que pudieran causar errores. Los guardianes hacen posible demostrar\n",
    "la correcci´on del c´odigo."
   ]
  },
  {
   "cell_type": "markdown",
   "id": "8b80db0e",
   "metadata": {
    "slideshow": {
     "slide_type": "slide"
    }
   },
   "source": [
    "## 5.9. Glosario"
   ]
  },
  {
   "cell_type": "markdown",
   "id": "dbf52873",
   "metadata": {},
   "source": [
    "funci´on productiva: Funci´on que devuelve un valor de retorno.\n",
    "valor de retorno: El valor obtenido como resultado de una llamada a una\n",
    "funci´on.\n",
    "variable temporal: Variable utilizada para almacenar un valor intermedio en\n",
    "un c´alculo complejo.\n",
    "c´odigo muerto: Parte de un programa que no podr´a ejecutarse nunca, a me\u0002nudo debido a que aparece tras una sentencia de return.\n",
    "None: Valor especial de Python que devuelven funciones que o bien no tienen\n",
    "sentencia de return o bien tienen una sentencia de return sin argumento.\n",
    "desarrollo incremental: Un m´etodo de desarrollo de programas que busca\n",
    "evitar el depurado anadiendo ˜ y probando una pequena˜ cantidad de c´odigo\n",
    "en cada paso.\n",
    "andamiaje: El c´odigo que se usa durante el desarrollo del programa pero que\n",
    "no es parte de la versi´on final"
   ]
  },
  {
   "cell_type": "markdown",
   "id": "14bc04b4",
   "metadata": {
    "slideshow": {
     "slide_type": "slide"
    }
   },
   "source": [
    "**guardián:** Una condición que comprueba y maneja circunstancias que pudieran provocar un error"
   ]
  },
  {
   "cell_type": "code",
   "execution_count": null,
   "id": "e13e1545",
   "metadata": {},
   "outputs": [],
   "source": []
  },
  {
   "cell_type": "markdown",
   "id": "137131c3",
   "metadata": {
    "slideshow": {
     "slide_type": "slide"
    }
   },
   "source": [
    "# 1.3 Estructuras de datos básicas  según Calderon"
   ]
  },
  {
   "cell_type": "markdown",
   "id": "255eefa5",
   "metadata": {
    "slideshow": {
     "slide_type": "slide"
    }
   },
   "source": [
    "Una forma más adecuada de almacenar la información es a través de \n",
    "* listas, \n",
    "* “tuplas” y \n",
    "* diccionarios.\n",
    "\n",
    "En ellos, la variable se compone de un conjunto ordenado de datos. Para \n",
    "crear estas estructuras se debe dar nombre a una variable, utilizar el operador de \n",
    "declaración igual (`=`) y dependiendo de si se usan paréntesis, corchetes o llaves se puede\n",
    "crear:"
   ]
  },
  {
   "cell_type": "markdown",
   "id": "57e0b41f",
   "metadata": {
    "slideshow": {
     "slide_type": "slide"
    }
   },
   "source": [
    "## 1.3.1 Listas"
   ]
  },
  {
   "cell_type": "markdown",
   "id": "b2577a24",
   "metadata": {
    "slideshow": {
     "slide_type": "slide"
    }
   },
   "source": [
    "Una “`list`” (lista) es un conjunto de datos que pueden ser de diferente tipo, es decir, que \n",
    "puede contener \n",
    "* números enteros, \n",
    "* decimales, \n",
    "* caracteres, \n",
    "* valores booleanos entre otros, \n",
    "\n",
    "cuyos elementos **son modificables o mutables** y que se encuentran indexados, es decir \n",
    "que los datos se enumeran comenzando desde 0. Para crear listas se usan corchetes (`[ ]`)."
   ]
  },
  {
   "cell_type": "code",
   "execution_count": 1,
   "id": "12ca0161",
   "metadata": {
    "slideshow": {
     "slide_type": "slide"
    }
   },
   "outputs": [],
   "source": [
    "lista_1 = [1,0.5,'marco',True]"
   ]
  },
  {
   "cell_type": "markdown",
   "id": "931eeca0",
   "metadata": {
    "slideshow": {
     "slide_type": "slide"
    }
   },
   "source": [
    "## 1.3.2 Tuplas"
   ]
  },
  {
   "cell_type": "markdown",
   "id": "2ba3107b",
   "metadata": {
    "slideshow": {
     "slide_type": "slide"
    }
   },
   "source": [
    "En esta estructura, los datos se separan por comas y se encuentran entre paréntesis. "
   ]
  },
  {
   "cell_type": "markdown",
   "id": "104d7b0f",
   "metadata": {
    "slideshow": {
     "slide_type": "slide"
    }
   },
   "source": [
    "Las tuplas se caracterizan porque no se pueden modificar, **son inmutables**. "
   ]
  },
  {
   "cell_type": "markdown",
   "id": "8e8bd6ea",
   "metadata": {
    "slideshow": {
     "slide_type": "slide"
    }
   },
   "source": [
    "Es decir, no se puede añadir, quitar datos ni modificar los que contiene, por la vía del operador de asignación."
   ]
  },
  {
   "cell_type": "markdown",
   "id": "31371734",
   "metadata": {
    "slideshow": {
     "slide_type": "slide"
    }
   },
   "source": [
    "Sin embargo, se pueden extraer partes de las tuplas para crear nuevas tuplas o reemplazarlas con otra tupla. "
   ]
  },
  {
   "cell_type": "markdown",
   "id": "e4226575",
   "metadata": {
    "slideshow": {
     "slide_type": "slide"
    }
   },
   "source": [
    "Las tuplas también están indexadas y además puede  contener objetos mutables, por lo que puede existir una lista inmersa en una tupla."
   ]
  },
  {
   "cell_type": "code",
   "execution_count": 2,
   "id": "db88f2a6",
   "metadata": {
    "slideshow": {
     "slide_type": "slide"
    }
   },
   "outputs": [
    {
     "name": "stdout",
     "output_type": "stream",
     "text": [
      "<class 'list'>\n",
      "<class 'tuple'>\n"
     ]
    }
   ],
   "source": [
    "datos1 = [1,2,3]\n",
    "datos2 = (4,5,6)\n",
    "print(type(datos1))\n",
    "print(type(datos2))"
   ]
  },
  {
   "cell_type": "markdown",
   "id": "fbf3c74d",
   "metadata": {
    "slideshow": {
     "slide_type": "slide"
    }
   },
   "source": [
    "## 1.3.3 Diccionarios"
   ]
  },
  {
   "cell_type": "markdown",
   "id": "e5d482dc",
   "metadata": {
    "slideshow": {
     "slide_type": "slide"
    }
   },
   "source": [
    "Un “dict” (diccionario), es considerado en otros lenguajes como arreglos asociativos. "
   ]
  },
  {
   "cell_type": "markdown",
   "id": "0f941c59",
   "metadata": {
    "slideshow": {
     "slide_type": "slide"
    }
   },
   "source": [
    "En lugar de estar indexados por números, los diccionarios se indexan por medio de “keys”\n",
    "(llaves) que comprenden tipos inmutables como caracteres o números (Python Software Foundation, 2019)"
   ]
  },
  {
   "cell_type": "code",
   "execution_count": 3,
   "id": "34f8bb8c",
   "metadata": {
    "slideshow": {
     "slide_type": "slide"
    }
   },
   "outputs": [
    {
     "data": {
      "text/plain": [
       "dict"
      ]
     },
     "execution_count": 3,
     "metadata": {},
     "output_type": "execute_result"
    }
   ],
   "source": [
    "altura = {'diego':1.83, 'diana':1.76, 'andrés':1.74}\n",
    "type(altura) "
   ]
  },
  {
   "cell_type": "markdown",
   "id": "ecab2525",
   "metadata": {
    "slideshow": {
     "slide_type": "slide"
    }
   },
   "source": [
    "## 1.4 La función input"
   ]
  },
  {
   "cell_type": "markdown",
   "id": "4cd7105a",
   "metadata": {
    "slideshow": {
     "slide_type": "slide"
    }
   },
   "source": [
    "En el aprendizaje de la programación se trabaja con información o entradas provenientes de un usuario. "
   ]
  },
  {
   "cell_type": "markdown",
   "id": "a1a35627",
   "metadata": {
    "slideshow": {
     "slide_type": "slide"
    }
   },
   "source": [
    "El usuario ingresa un dato o valor, posteriormente un código lo captura y lo utiliza dentro de una función para arrojar un resultado."
   ]
  },
  {
   "cell_type": "markdown",
   "id": "bcf69876",
   "metadata": {
    "slideshow": {
     "slide_type": "slide"
    }
   },
   "source": [
    "La función “`input`” permite que el usuario ingrese una entrada al programa, la cual siempre \n",
    "será guardada como tipo carácter. "
   ]
  },
  {
   "cell_type": "markdown",
   "id": "332f3c31",
   "metadata": {
    "slideshow": {
     "slide_type": "slide"
    }
   },
   "source": [
    "En caso de querer usarlo como dato de tipo numérico se debe \n",
    "\n",
    "* utilizar la función “`int`” aplicada a la entrada para convertirlo en un dato de tipo entero o de \n",
    "* usar la función “`float`” se convertiría en flotante. "
   ]
  },
  {
   "cell_type": "markdown",
   "id": "bc0403af",
   "metadata": {
    "slideshow": {
     "slide_type": "slide"
    }
   },
   "source": [
    "* Un dato puede convertirse a tipo carácter usando la función “`str()`”."
   ]
  },
  {
   "cell_type": "markdown",
   "id": "06b67793",
   "metadata": {
    "slideshow": {
     "slide_type": "slide"
    }
   },
   "source": [
    "Es conveniente guardar la información que el usuario va a ingresar en una variable para manipularla posteriormente. "
   ]
  },
  {
   "cell_type": "markdown",
   "id": "aa4b92c1",
   "metadata": {
    "slideshow": {
     "slide_type": "slide"
    }
   },
   "source": [
    "La función “`input`” abre un cuadro de texto en el que el usuario podrá ingresar datos."
   ]
  },
  {
   "cell_type": "markdown",
   "id": "5e3da219",
   "metadata": {
    "slideshow": {
     "slide_type": "slide"
    }
   },
   "source": [
    "### Ejemplo de la función “`Input`”"
   ]
  },
  {
   "cell_type": "code",
   "execution_count": 4,
   "id": "e335bf6f",
   "metadata": {
    "slideshow": {
     "slide_type": "slide"
    }
   },
   "outputs": [
    {
     "name": "stdout",
     "output_type": "stream",
     "text": [
      "Escriba su nombre: Marco\n",
      "Su nombre es:  Marco\n"
     ]
    }
   ],
   "source": [
    "a = input('Escriba su nombre: ')\n",
    "print('Su nombre es: ', a) "
   ]
  },
  {
   "cell_type": "code",
   "execution_count": 6,
   "id": "ae90fb99",
   "metadata": {
    "slideshow": {
     "slide_type": "slide"
    }
   },
   "outputs": [
    {
     "name": "stdout",
     "output_type": "stream",
     "text": [
      "Tengo 10 productos\n",
      "Entre el número de productos que usted tiene: 4\n",
      "Tenemos  14  productos\n"
     ]
    }
   ],
   "source": [
    "print('Tengo 10 productos')\n",
    "a = int(input('Entre el número de productos que usted tiene: '))\n",
    "print('Tenemos ', 10+a, ' productos') "
   ]
  },
  {
   "cell_type": "markdown",
   "id": "cdfcd4ec",
   "metadata": {
    "slideshow": {
     "slide_type": "slide"
    }
   },
   "source": [
    "## 1.5 Otras funciones matemáticas"
   ]
  },
  {
   "cell_type": "markdown",
   "id": "910ec8c5",
   "metadata": {
    "slideshow": {
     "slide_type": "slide"
    }
   },
   "source": [
    "Antes de realizar otras operaciones matemáticas más complejas es necesario entender que Python puede cargar módulos, que son partes de software con funcionalidades específicas. "
   ]
  },
  {
   "cell_type": "markdown",
   "id": "7af13b6c",
   "metadata": {
    "slideshow": {
     "slide_type": "slide"
    }
   },
   "source": [
    "Los módulos de Python suelen contener funciones, clases o variables definidas e implementadas (Learn Python Org., 2019)."
   ]
  },
  {
   "cell_type": "markdown",
   "id": "faa0b07f",
   "metadata": {
    "slideshow": {
     "slide_type": "slide"
    }
   },
   "source": [
    "Uno de estos módulos es el “`math`”, con el cual se pueden aplicar \n",
    "\n",
    "* funciones trigonométricas, \n",
    "* hiperbólicas, \n",
    "* logarítmicas entre otras. "
   ]
  },
  {
   "cell_type": "markdown",
   "id": "4271ca7b",
   "metadata": {
    "slideshow": {
     "slide_type": "slide"
    }
   },
   "source": [
    "Para hacer uso de este módulo primero debe ser importado utilizando la declaración “`import`“ que permite acceder al código de otros módulos. "
   ]
  },
  {
   "cell_type": "markdown",
   "id": "096dd3b5",
   "metadata": {
    "slideshow": {
     "slide_type": "slide"
    }
   },
   "source": [
    "Se escribe posteriormente otra declaración llamada `as` para instar el módulo con otro nombre de modo que sea más sencillo llamarlo, esto proviene realmente de que Python soporta programación orientada a objetos."
   ]
  },
  {
   "cell_type": "code",
   "execution_count": 7,
   "id": "44c8e5da",
   "metadata": {
    "slideshow": {
     "slide_type": "slide"
    }
   },
   "outputs": [],
   "source": [
    "import math as m "
   ]
  },
  {
   "cell_type": "markdown",
   "id": "07c768c5",
   "metadata": {
    "slideshow": {
     "slide_type": "slide"
    }
   },
   "source": [
    "Al hacer esta importación, ya es posible utilizar las funciones que contiene el módulo “`math`”\n",
    "de Python. "
   ]
  },
  {
   "cell_type": "markdown",
   "id": "a74159ec",
   "metadata": {
    "slideshow": {
     "slide_type": "slide"
    }
   },
   "source": [
    "Primero se llama el módulo, seguido se coloca un punto y luego la función que se desee aplicar teniendo en cuenta que entre los paréntesis se coloca la variable o el valor de entrada."
   ]
  },
  {
   "cell_type": "code",
   "execution_count": 9,
   "id": "60e4e894",
   "metadata": {
    "slideshow": {
     "slide_type": "slide"
    }
   },
   "outputs": [
    {
     "data": {
      "text/plain": [
       "2.718281828459045"
      ]
     },
     "execution_count": 9,
     "metadata": {},
     "output_type": "execute_result"
    }
   ],
   "source": [
    "m.exp(1)"
   ]
  },
  {
   "cell_type": "code",
   "execution_count": 12,
   "id": "df7b8778",
   "metadata": {
    "slideshow": {
     "slide_type": "slide"
    }
   },
   "outputs": [
    {
     "name": "stdout",
     "output_type": "stream",
     "text": [
      "Help on built-in function exp in module math:\n",
      "\n",
      "exp(x, /)\n",
      "    Return e raised to the power of x.\n",
      "\n"
     ]
    }
   ],
   "source": [
    "import math as m \n",
    "help(m.exp) "
   ]
  },
  {
   "cell_type": "markdown",
   "id": "b5bfacc6",
   "metadata": {
    "slideshow": {
     "slide_type": "slide"
    }
   },
   "source": [
    "Para conocer todas las demás funciones contenidas en el módulo “`math`” puede utilizarse la función “`dir`” contenida en la librería estándar, en la cual, si se coloca el nombre de un módulo se obtienen los atributos del mismo:\n"
   ]
  },
  {
   "cell_type": "code",
   "execution_count": 14,
   "id": "4eafdd1f",
   "metadata": {
    "slideshow": {
     "slide_type": "slide"
    }
   },
   "outputs": [
    {
     "data": {
      "text/plain": [
       "['__doc__',\n",
       " '__loader__',\n",
       " '__name__',\n",
       " '__package__',\n",
       " '__spec__',\n",
       " 'acos',\n",
       " 'acosh',\n",
       " 'asin',\n",
       " 'asinh',\n",
       " 'atan',\n",
       " 'atan2',\n",
       " 'atanh',\n",
       " 'ceil',\n",
       " 'comb',\n",
       " 'copysign',\n",
       " 'cos',\n",
       " 'cosh',\n",
       " 'degrees',\n",
       " 'dist',\n",
       " 'e',\n",
       " 'erf',\n",
       " 'erfc',\n",
       " 'exp',\n",
       " 'expm1',\n",
       " 'fabs',\n",
       " 'factorial',\n",
       " 'floor',\n",
       " 'fmod',\n",
       " 'frexp',\n",
       " 'fsum',\n",
       " 'gamma',\n",
       " 'gcd',\n",
       " 'hypot',\n",
       " 'inf',\n",
       " 'isclose',\n",
       " 'isfinite',\n",
       " 'isinf',\n",
       " 'isnan',\n",
       " 'isqrt',\n",
       " 'ldexp',\n",
       " 'lgamma',\n",
       " 'log',\n",
       " 'log10',\n",
       " 'log1p',\n",
       " 'log2',\n",
       " 'modf',\n",
       " 'nan',\n",
       " 'perm',\n",
       " 'pi',\n",
       " 'pow',\n",
       " 'prod',\n",
       " 'radians',\n",
       " 'remainder',\n",
       " 'sin',\n",
       " 'sinh',\n",
       " 'sqrt',\n",
       " 'tan',\n",
       " 'tanh',\n",
       " 'tau',\n",
       " 'trunc']"
      ]
     },
     "execution_count": 14,
     "metadata": {},
     "output_type": "execute_result"
    }
   ],
   "source": [
    "dir(m)"
   ]
  },
  {
   "cell_type": "markdown",
   "id": "67f4054b",
   "metadata": {
    "slideshow": {
     "slide_type": "slide"
    }
   },
   "source": [
    "## 1.6 Otros tipos de operadores "
   ]
  },
  {
   "cell_type": "markdown",
   "id": "7ed29184",
   "metadata": {
    "slideshow": {
     "slide_type": "slide"
    }
   },
   "source": [
    "Los operadores son símbolos utilizados en informática para que el compilador ejecute operaciones sobre unos operandos para producir un resultado. "
   ]
  },
  {
   "cell_type": "markdown",
   "id": "80188382",
   "metadata": {
    "slideshow": {
     "slide_type": "slide"
    }
   },
   "source": [
    "Cabe anotar que además de \n",
    "* los operadores aritméticos \n",
    "existen \n",
    "* los operadores relacionales y \n",
    "* los operadores lógicos. "
   ]
  },
  {
   "cell_type": "markdown",
   "id": "eecd1a48",
   "metadata": {
    "slideshow": {
     "slide_type": "slide"
    }
   },
   "source": [
    "### 1.6.1 Operadores relacionales"
   ]
  },
  {
   "cell_type": "markdown",
   "id": "adfff2a8",
   "metadata": {
    "slideshow": {
     "slide_type": "slide"
    }
   },
   "source": [
    "Los operadores relacionales comparan los valores de dos expresiones y devuelven un resultado booleano. "
   ]
  },
  {
   "cell_type": "markdown",
   "id": "a7f8701f",
   "metadata": {
    "slideshow": {
     "slide_type": "slide"
    }
   },
   "source": [
    "Los operadores relacionales en Python se muestran en la siguiente tabla:"
   ]
  },
  {
   "cell_type": "code",
   "execution_count": 17,
   "id": "a22aa17c",
   "metadata": {
    "slideshow": {
     "slide_type": "slide"
    }
   },
   "outputs": [
    {
     "data": {
      "text/html": [
       "<div>\n",
       "<style scoped>\n",
       "    .dataframe tbody tr th:only-of-type {\n",
       "        vertical-align: middle;\n",
       "    }\n",
       "\n",
       "    .dataframe tbody tr th {\n",
       "        vertical-align: top;\n",
       "    }\n",
       "\n",
       "    .dataframe thead th {\n",
       "        text-align: right;\n",
       "    }\n",
       "</style>\n",
       "<table border=\"1\" class=\"dataframe\">\n",
       "  <thead>\n",
       "    <tr style=\"text-align: right;\">\n",
       "      <th></th>\n",
       "      <th>operador</th>\n",
       "      <th>significado</th>\n",
       "    </tr>\n",
       "  </thead>\n",
       "  <tbody>\n",
       "    <tr>\n",
       "      <th>0</th>\n",
       "      <td>==</td>\n",
       "      <td>Es igual a</td>\n",
       "    </tr>\n",
       "    <tr>\n",
       "      <th>1</th>\n",
       "      <td>!=</td>\n",
       "      <td>es diferente de</td>\n",
       "    </tr>\n",
       "    <tr>\n",
       "      <th>2</th>\n",
       "      <td>&gt;</td>\n",
       "      <td>es mayor que</td>\n",
       "    </tr>\n",
       "    <tr>\n",
       "      <th>3</th>\n",
       "      <td>&lt;</td>\n",
       "      <td>es menor que</td>\n",
       "    </tr>\n",
       "    <tr>\n",
       "      <th>4</th>\n",
       "      <td>&gt;=</td>\n",
       "      <td>es mayor o igual que</td>\n",
       "    </tr>\n",
       "    <tr>\n",
       "      <th>5</th>\n",
       "      <td>&lt;=</td>\n",
       "      <td>es menor o igual que</td>\n",
       "    </tr>\n",
       "  </tbody>\n",
       "</table>\n",
       "</div>"
      ],
      "text/plain": [
       "  operador           significado\n",
       "0       ==            Es igual a\n",
       "1       !=       es diferente de\n",
       "2        >          es mayor que\n",
       "3        <          es menor que\n",
       "4       >=  es mayor o igual que\n",
       "5       <=  es menor o igual que"
      ]
     },
     "execution_count": 17,
     "metadata": {},
     "output_type": "execute_result"
    }
   ],
   "source": [
    "import pandas as pd \n",
    "operador = ['==','!=','>','<','>=','<=']\n",
    "significado = ['Es igual a', 'es diferente de', \n",
    "               'es mayor que', 'es menor que', \n",
    "               'es mayor o igual que','es menor o igual que']\n",
    "operadores_relacionales = pd.DataFrame({'operador':operador, 'significado':significado})\n",
    "operadores_relacionales "
   ]
  },
  {
   "cell_type": "markdown",
   "id": "33e5cfbd",
   "metadata": {
    "slideshow": {
     "slide_type": "slide"
    }
   },
   "source": [
    "## 1.6.2 Operadores lógicos"
   ]
  },
  {
   "cell_type": "markdown",
   "id": "e7a429cd",
   "metadata": {
    "slideshow": {
     "slide_type": "slide"
    }
   },
   "source": [
    "Los operadores lógicos ejecutan operaciones en las que usualmente se evalúan dos operandos de tipo lógico y devuelve un resultado de tipo lógico igualmente. "
   ]
  },
  {
   "cell_type": "markdown",
   "id": "73f17fbc",
   "metadata": {
    "slideshow": {
     "slide_type": "slide"
    }
   },
   "source": [
    "Los operadores lógicos en Python se muestran en la siguiente tabla:"
   ]
  },
  {
   "cell_type": "code",
   "execution_count": 18,
   "id": "c67759da",
   "metadata": {
    "slideshow": {
     "slide_type": "slide"
    }
   },
   "outputs": [
    {
     "data": {
      "text/html": [
       "<div>\n",
       "<style scoped>\n",
       "    .dataframe tbody tr th:only-of-type {\n",
       "        vertical-align: middle;\n",
       "    }\n",
       "\n",
       "    .dataframe tbody tr th {\n",
       "        vertical-align: top;\n",
       "    }\n",
       "\n",
       "    .dataframe thead th {\n",
       "        text-align: right;\n",
       "    }\n",
       "</style>\n",
       "<table border=\"1\" class=\"dataframe\">\n",
       "  <thead>\n",
       "    <tr style=\"text-align: right;\">\n",
       "      <th></th>\n",
       "      <th>operador lógico</th>\n",
       "      <th>significado</th>\n",
       "    </tr>\n",
       "  </thead>\n",
       "  <tbody>\n",
       "    <tr>\n",
       "      <th>0</th>\n",
       "      <td>And</td>\n",
       "      <td>Y (determina si ambos operandos son verdaderos)</td>\n",
       "    </tr>\n",
       "    <tr>\n",
       "      <th>1</th>\n",
       "      <td>Or</td>\n",
       "      <td>O (determina si alguno de los operandos son ve...</td>\n",
       "    </tr>\n",
       "    <tr>\n",
       "      <th>2</th>\n",
       "      <td>Not</td>\n",
       "      <td>No es (niega el valor de un operando)</td>\n",
       "    </tr>\n",
       "  </tbody>\n",
       "</table>\n",
       "</div>"
      ],
      "text/plain": [
       "  operador lógico                                        significado\n",
       "0             And    Y (determina si ambos operandos son verdaderos)\n",
       "1              Or  O (determina si alguno de los operandos son ve...\n",
       "2             Not              No es (niega el valor de un operando)"
      ]
     },
     "execution_count": 18,
     "metadata": {},
     "output_type": "execute_result"
    }
   ],
   "source": [
    "import pandas as pd \n",
    "operador = ['And','Or','Not']\n",
    "significado = ['Y (determina si ambos operandos son verdaderos)', \n",
    "              'O (determina si alguno de los operandos son verdaderos)',\n",
    "              'No es (niega el valor de un operando)']\n",
    "operadores_logicos = pd.DataFrame({'operador lógico':operador, 'significado':significado})\n",
    "operadores_logicos"
   ]
  },
  {
   "cell_type": "markdown",
   "id": "73e7fa3a",
   "metadata": {
    "slideshow": {
     "slide_type": "slide"
    }
   },
   "source": [
    "Los operadores relacionales y lógicos son esenciales ya que son la base del control y gestión de los datos, en especial para comparar datos y modificar información en una variable (Mueller, John, 2018, p. 115). "
   ]
  },
  {
   "cell_type": "markdown",
   "id": "3c41c7f9",
   "metadata": {
    "slideshow": {
     "slide_type": "slide"
    }
   },
   "source": [
    "Cabe anotar que el uso de los operadores se da cuando se trabajan estructuras de control para ejecutar tareas, ya que se evalúan condiciones dadas antes de continuar con la ejecución de las mismas."
   ]
  },
  {
   "cell_type": "markdown",
   "id": "e070ed5e",
   "metadata": {
    "slideshow": {
     "slide_type": "slide"
    }
   },
   "source": [
    "### Ejemplo de operadores relacionales.\n"
   ]
  },
  {
   "cell_type": "code",
   "execution_count": 19,
   "id": "8b6841b9",
   "metadata": {
    "slideshow": {
     "slide_type": "slide"
    }
   },
   "outputs": [
    {
     "data": {
      "text/plain": [
       "(True,)"
      ]
     },
     "execution_count": 19,
     "metadata": {},
     "output_type": "execute_result"
    }
   ],
   "source": [
    "3==2+1, "
   ]
  },
  {
   "cell_type": "markdown",
   "id": "e1fb4941",
   "metadata": {
    "slideshow": {
     "slide_type": "slide"
    }
   },
   "source": [
    "### Ejemplo de operadores relacionales con operadores lógicos.\n"
   ]
  },
  {
   "cell_type": "code",
   "execution_count": null,
   "id": "7e2a7a50",
   "metadata": {
    "slideshow": {
     "slide_type": "slide"
    }
   },
   "outputs": [],
   "source": []
  },
  {
   "cell_type": "code",
   "execution_count": null,
   "id": "c9a82c5e",
   "metadata": {},
   "outputs": [],
   "source": []
  },
  {
   "cell_type": "code",
   "execution_count": null,
   "id": "3d973496",
   "metadata": {},
   "outputs": [],
   "source": []
  },
  {
   "cell_type": "code",
   "execution_count": null,
   "id": "35018e66",
   "metadata": {
    "slideshow": {
     "slide_type": "slide"
    }
   },
   "outputs": [],
   "source": []
  },
  {
   "cell_type": "markdown",
   "id": "6338719a",
   "metadata": {
    "slideshow": {
     "slide_type": "slide"
    }
   },
   "source": [
    "## Referentes\n",
    "\n",
    "* Calderon"
   ]
  },
  {
   "cell_type": "code",
   "execution_count": null,
   "id": "0fa238dd",
   "metadata": {},
   "outputs": [],
   "source": []
  }
 ],
 "metadata": {
  "celltoolbar": "Slideshow",
  "kernelspec": {
   "display_name": "Python 3",
   "language": "python",
   "name": "python3"
  },
  "language_info": {
   "codemirror_mode": {
    "name": "ipython",
    "version": 3
   },
   "file_extension": ".py",
   "mimetype": "text/x-python",
   "name": "python",
   "nbconvert_exporter": "python",
   "pygments_lexer": "ipython3",
   "version": "3.8.8"
  },
  "latex_envs": {
   "LaTeX_envs_menu_present": true,
   "autoclose": false,
   "autocomplete": false,
   "bibliofile": "biblio.bib",
   "cite_by": "apalike",
   "current_citInitial": 1,
   "eqLabelWithNumbers": true,
   "eqNumInitial": 1,
   "hotkeys": {
    "equation": "Ctrl-E",
    "itemize": "Ctrl-I"
   },
   "labels_anchors": false,
   "latex_user_defs": false,
   "report_style_numbering": false,
   "user_envs_cfg": false
  },
  "rise": {
   "enable_chalkboard": true,
   "theme": "sky",
   "transition": "sky"
  }
 },
 "nbformat": 4,
 "nbformat_minor": 5
}
