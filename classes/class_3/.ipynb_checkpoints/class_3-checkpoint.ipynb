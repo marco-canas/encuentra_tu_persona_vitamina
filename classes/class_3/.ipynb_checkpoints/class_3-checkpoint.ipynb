{
 "cells": [
  {
   "cell_type": "markdown",
   "id": "002067e4",
   "metadata": {
    "slideshow": {
     "slide_type": "slide"
    }
   },
   "source": [
    "<table align=\"left\">\n",
    "  <td>\n",
    "    <a href=\"https://colab.research.google.com/github/marco-canas/taca/blob/main/ref/geron/chap_2/5_prepare_for_algorithms/1_prepare_for_algorithms.ipynb\" target=\"_parent\"><img src=\"https://colab.research.google.com/assets/colab-badge.svg\" alt=\"Open In Colab\"/></a>\n",
    "  </td>\n",
    "  <td>\n",
    "    <a target=\"_blank\" href=\"https://kaggle.com/kernels/welcome?src=https://github.com/marco-canas/taca/blob/main/ref/geron/chap_2/5_prepare_for_algorithms/1_prepare_for_algorithms.ipynb\"><img src=\"https://kaggle.com/static/images/open-in-kaggle.svg\" /></a>\n",
    "  </td>\n",
    "</table> "
   ]
  },
  {
   "cell_type": "markdown",
   "id": "8ea075bb",
   "metadata": {
    "slideshow": {
     "slide_type": "slide"
    }
   },
   "source": [
    "# Clase 3 "
   ]
  },
  {
   "cell_type": "markdown",
   "id": "3d303bcd",
   "metadata": {
    "slideshow": {
     "slide_type": "slide"
    }
   },
   "source": [
    "# Capítulo 5\n",
    "## Funciones productivas"
   ]
  },
  {
   "cell_type": "markdown",
   "id": "52cfcd2e",
   "metadata": {
    "slideshow": {
     "slide_type": "slide"
    }
   },
   "source": [
    "5.1. Valores de retorno\n",
    "Algunas de las funciones internas que hemos usado, como las funciones math o\n",
    "funciones matem´aticas, han producido resultados. Llamar a la funci´on genera un\n",
    "nuevo valor, que normalmente asignamos a una variable pasa usar como parte\n",
    "de una expresi´on.\n",
    "import math\n",
    "e = math.exp(1.0)\n",
    "altura = radio * math.sin(angulo)\n",
    "Pero hasta ahora, ninguna de las funciones que hemos escrito ha devuelto un\n",
    "valor."
   ]
  },
  {
   "cell_type": "markdown",
   "id": "b6c25902",
   "metadata": {
    "slideshow": {
     "slide_type": "slide"
    }
   },
   "source": [
    "En este capítulo escribiremos funciones que devuelvan valores, que llamaremos funciones productivas, a falta de un nombre mejor. "
   ]
  },
  {
   "cell_type": "markdown",
   "id": "a4fd4d07",
   "metadata": {
    "slideshow": {
     "slide_type": "slide"
    }
   },
   "source": [
    "El primer ejemplo es área, que devuelve el área de un círculo con un radio dado:"
   ]
  },
  {
   "cell_type": "code",
   "execution_count": null,
   "id": "879c5bfe",
   "metadata": {
    "slideshow": {
     "slide_type": "slide"
    }
   },
   "outputs": [],
   "source": [
    "import math\n",
    "def area(radio):\n",
    "    temporal = math.pi * radio**2\n",
    "    return temporal"
   ]
  },
  {
   "cell_type": "markdown",
   "id": "19632d23",
   "metadata": {
    "slideshow": {
     "slide_type": "slide"
    }
   },
   "source": [
    "Ya hemos visto antes la sentencia return, pero en una función productiva la sentencia `return` incluye un valor de retorno. "
   ]
  },
  {
   "cell_type": "markdown",
   "id": "643ee66f",
   "metadata": {
    "slideshow": {
     "slide_type": "slide"
    }
   },
   "source": [
    "Esta sentencia quiere decir “retorna inmediatamente de la función y usa la siguiente expresión como valor de retorno”. "
   ]
  },
  {
   "cell_type": "markdown",
   "id": "beac927a",
   "metadata": {
    "slideshow": {
     "slide_type": "slide"
    }
   },
   "source": [
    "La expresión dada puede ser arbitrariamente complicada; así pues, podríamos haber escrito esta función más concisamente:"
   ]
  },
  {
   "cell_type": "markdown",
   "id": "ce3a15ca",
   "metadata": {
    "slideshow": {
     "slide_type": "slide"
    }
   },
   "source": []
  },
  {
   "cell_type": "code",
   "execution_count": null,
   "id": "d84f44b7",
   "metadata": {
    "slideshow": {
     "slide_type": "slide"
    }
   },
   "outputs": [],
   "source": []
  },
  {
   "cell_type": "code",
   "execution_count": null,
   "id": "fd126284",
   "metadata": {
    "slideshow": {
     "slide_type": "slide"
    }
   },
   "outputs": [],
   "source": []
  },
  {
   "cell_type": "code",
   "execution_count": null,
   "id": "b202dae9",
   "metadata": {
    "slideshow": {
     "slide_type": "slide"
    }
   },
   "outputs": [],
   "source": []
  },
  {
   "cell_type": "markdown",
   "id": "f22abe98",
   "metadata": {
    "slideshow": {
     "slide_type": "slide"
    }
   },
   "source": [
    "# 1.3 Estructuras de datos básicas  "
   ]
  },
  {
   "cell_type": "markdown",
   "id": "2425e207",
   "metadata": {
    "slideshow": {
     "slide_type": "slide"
    }
   },
   "source": [
    "Una forma más adecuada de almacenar la información es a través de \n",
    "* listas, \n",
    "* “tuplas” y \n",
    "* diccionarios.\n",
    "\n",
    "En ellos, la variable se compone de un conjunto ordenado de datos. Para \n",
    "crear estas estructuras se debe dar nombre a una variable, utilizar el operador de \n",
    "declaración igual (`=`) y dependiendo de si se usan paréntesis, corchetes o llaves se puede\n",
    "crear:"
   ]
  },
  {
   "cell_type": "markdown",
   "id": "40bc2a17",
   "metadata": {
    "slideshow": {
     "slide_type": "slide"
    }
   },
   "source": [
    "## 1.3.1 Listas"
   ]
  },
  {
   "cell_type": "markdown",
   "id": "9c8ab590",
   "metadata": {
    "slideshow": {
     "slide_type": "slide"
    }
   },
   "source": [
    "Una “`list`” (lista) es un conjunto de datos que pueden ser de diferente tipo, es decir, que \n",
    "puede contener \n",
    "* números enteros, \n",
    "* decimales, \n",
    "* caracteres, \n",
    "* valores booleanos entre otros, \n",
    "\n",
    "cuyos elementos **son modificables o mutables** y que se encuentran indexados, es decir \n",
    "que los datos se enumeran comenzando desde 0. Para crear listas se usan corchetes (`[ ]`)."
   ]
  },
  {
   "cell_type": "code",
   "execution_count": 1,
   "id": "e2ca70ea",
   "metadata": {
    "slideshow": {
     "slide_type": "slide"
    }
   },
   "outputs": [],
   "source": [
    "lista_1 = [1,0.5,'marco',True]"
   ]
  },
  {
   "cell_type": "markdown",
   "id": "e4a853d5",
   "metadata": {
    "slideshow": {
     "slide_type": "slide"
    }
   },
   "source": [
    "## 1.3.2 Tuplas"
   ]
  },
  {
   "cell_type": "markdown",
   "id": "83d90e0e",
   "metadata": {
    "slideshow": {
     "slide_type": "slide"
    }
   },
   "source": [
    "En esta estructura, los datos se separan por comas y se encuentran entre paréntesis. "
   ]
  },
  {
   "cell_type": "markdown",
   "id": "1ac6d277",
   "metadata": {
    "slideshow": {
     "slide_type": "slide"
    }
   },
   "source": [
    "Las tuplas se caracterizan porque no se pueden modificar, son inmutables. "
   ]
  },
  {
   "cell_type": "markdown",
   "id": "de8148b0",
   "metadata": {
    "slideshow": {
     "slide_type": "slide"
    }
   },
   "source": [
    "Es decir, no se puede añadir, quitar datos ni modificar los que contiene, por la vía del operador de asignación."
   ]
  },
  {
   "cell_type": "markdown",
   "id": "5720190a",
   "metadata": {
    "slideshow": {
     "slide_type": "slide"
    }
   },
   "source": [
    "Sin embargo, se pueden extraer partes de las tuplas para crear nuevas tuplas o reemplazarlas con otra tupla. "
   ]
  },
  {
   "cell_type": "markdown",
   "id": "00916c1b",
   "metadata": {
    "slideshow": {
     "slide_type": "slide"
    }
   },
   "source": [
    "Las tuplas también están indexadas y además puede  contener objetos mutables, por lo que puede existir una lista inmersa en una tupla."
   ]
  },
  {
   "cell_type": "code",
   "execution_count": 2,
   "id": "aeea15fd",
   "metadata": {
    "slideshow": {
     "slide_type": "slide"
    }
   },
   "outputs": [
    {
     "name": "stdout",
     "output_type": "stream",
     "text": [
      "<class 'list'>\n",
      "<class 'tuple'>\n"
     ]
    }
   ],
   "source": [
    "datos1 = [1,2,3]\n",
    "datos2 = (4,5,6)\n",
    "print(type(datos1))\n",
    "print(type(datos2))"
   ]
  },
  {
   "cell_type": "markdown",
   "id": "6c55aafa",
   "metadata": {
    "slideshow": {
     "slide_type": "slide"
    }
   },
   "source": [
    "## 1.3.3 Diccionarios"
   ]
  },
  {
   "cell_type": "markdown",
   "id": "94eaa60d",
   "metadata": {
    "slideshow": {
     "slide_type": "slide"
    }
   },
   "source": [
    "Un “dict” (diccionario), es considerado en otros lenguajes como arreglos asociativos. "
   ]
  },
  {
   "cell_type": "markdown",
   "id": "195c52b5",
   "metadata": {
    "slideshow": {
     "slide_type": "slide"
    }
   },
   "source": [
    "En lugar de estar indexados por números, los diccionarios se indexan por medio de “keys”\n",
    "(llaves) que comprenden tipos inmutables como caracteres o números (Python Software Foundation, 2019)"
   ]
  },
  {
   "cell_type": "code",
   "execution_count": 3,
   "id": "72aec32c",
   "metadata": {
    "slideshow": {
     "slide_type": "slide"
    }
   },
   "outputs": [
    {
     "data": {
      "text/plain": [
       "dict"
      ]
     },
     "execution_count": 3,
     "metadata": {},
     "output_type": "execute_result"
    }
   ],
   "source": [
    "altura = {'diego':1.83, 'diana':1.76, 'andrés':1.74}\n",
    "type(altura) "
   ]
  },
  {
   "cell_type": "markdown",
   "id": "c8122f31",
   "metadata": {
    "slideshow": {
     "slide_type": "slide"
    }
   },
   "source": [
    "## 1.4 La función input"
   ]
  },
  {
   "cell_type": "markdown",
   "id": "1709df31",
   "metadata": {
    "slideshow": {
     "slide_type": "slide"
    }
   },
   "source": [
    "En el aprendizaje de la programación se trabaja con información o entradas provenientes de un usuario. "
   ]
  },
  {
   "cell_type": "markdown",
   "id": "5f24b19d",
   "metadata": {
    "slideshow": {
     "slide_type": "slide"
    }
   },
   "source": [
    "El usuario ingresa un dato o valor, posteriormente un código lo captura y lo utiliza dentro de una función para arrojar un resultado."
   ]
  },
  {
   "cell_type": "markdown",
   "id": "2370ad5f",
   "metadata": {
    "slideshow": {
     "slide_type": "slide"
    }
   },
   "source": [
    "La función “input” permite que el usuario ingrese una entrada al programa, la cual siempre \n",
    "será guardada como tipo carácter. "
   ]
  },
  {
   "cell_type": "markdown",
   "id": "7f58c9b2",
   "metadata": {
    "slideshow": {
     "slide_type": "slide"
    }
   },
   "source": [
    "En caso de querer usarlo como dato de tipo numérico se debe \n",
    "\n",
    "* utilizar la función “`int`” aplicada a la entrada para convertirlo en un dato de tipo entero o de \n",
    "* usar la función “`float`” se convertiría en flotante. "
   ]
  },
  {
   "cell_type": "markdown",
   "id": "8968c994",
   "metadata": {
    "slideshow": {
     "slide_type": "slide"
    }
   },
   "source": [
    "* Un dato puede convertirse a tipo carácter usando la función “`str()`”."
   ]
  },
  {
   "cell_type": "markdown",
   "id": "e5a27c9d",
   "metadata": {
    "slideshow": {
     "slide_type": "slide"
    }
   },
   "source": [
    "Es conveniente guardar la información que el usuario va a ingresar en una variable para manipularla posteriormente. "
   ]
  },
  {
   "cell_type": "markdown",
   "id": "da7f2baa",
   "metadata": {
    "slideshow": {
     "slide_type": "slide"
    }
   },
   "source": [
    "La función “`input`” abre un cuadro de texto en el que el usuario podrá ingresar datos."
   ]
  },
  {
   "cell_type": "markdown",
   "id": "aeece55a",
   "metadata": {
    "slideshow": {
     "slide_type": "slide"
    }
   },
   "source": [
    "### Ejemplo de la función “`Input`”"
   ]
  },
  {
   "cell_type": "code",
   "execution_count": 4,
   "id": "b1019ee0",
   "metadata": {
    "slideshow": {
     "slide_type": "slide"
    }
   },
   "outputs": [
    {
     "name": "stdout",
     "output_type": "stream",
     "text": [
      "Escriba su nombre: Marco\n",
      "Su nombre es:  Marco\n"
     ]
    }
   ],
   "source": [
    "a = input('Escriba su nombre: ')\n",
    "print('Su nombre es: ', a) "
   ]
  },
  {
   "cell_type": "code",
   "execution_count": 6,
   "id": "a90c4dda",
   "metadata": {
    "slideshow": {
     "slide_type": "slide"
    }
   },
   "outputs": [
    {
     "name": "stdout",
     "output_type": "stream",
     "text": [
      "Tengo 10 productos\n",
      "Entre el número de productos que usted tiene: 4\n",
      "Tenemos  14  productos\n"
     ]
    }
   ],
   "source": [
    "print('Tengo 10 productos')\n",
    "a = int(input('Entre el número de productos que usted tiene: '))\n",
    "print('Tenemos ', 10+a, ' productos') "
   ]
  },
  {
   "cell_type": "markdown",
   "id": "7a9964eb",
   "metadata": {
    "slideshow": {
     "slide_type": "slide"
    }
   },
   "source": [
    "## 1.5 Otras funciones matemáticas"
   ]
  },
  {
   "cell_type": "markdown",
   "id": "8a3a6357",
   "metadata": {
    "slideshow": {
     "slide_type": "slide"
    }
   },
   "source": [
    "Antes de realizar otras operaciones matemáticas más complejas es necesario entender que Python puede cargar módulos, que son partes de software con funcionalidades específicas. "
   ]
  },
  {
   "cell_type": "markdown",
   "id": "23f5fc39",
   "metadata": {
    "slideshow": {
     "slide_type": "slide"
    }
   },
   "source": [
    "Los módulos de Python suelen contener funciones, clases o variables definidas e implementadas (Learn Python Org., 2019)."
   ]
  },
  {
   "cell_type": "markdown",
   "id": "86af2143",
   "metadata": {
    "slideshow": {
     "slide_type": "slide"
    }
   },
   "source": [
    "Uno de estos módulos es el “`math`”, con el cual se pueden aplicar \n",
    "\n",
    "* funciones trigonométricas, \n",
    "* hiperbólicas, \n",
    "* logarítmicas entre otras. "
   ]
  },
  {
   "cell_type": "markdown",
   "id": "8f7f134e",
   "metadata": {
    "slideshow": {
     "slide_type": "slide"
    }
   },
   "source": [
    "Para hacer uso de este módulo primero debe ser importado utilizando la declaración “`import`“ que permite acceder al código de otros módulos. "
   ]
  },
  {
   "cell_type": "markdown",
   "id": "bb9f88fa",
   "metadata": {
    "slideshow": {
     "slide_type": "slide"
    }
   },
   "source": [
    "Se escribe posteriormente otra declaración llamada `as` para instar el módulo con otro nombre de modo que sea más sencillo llamarlo, esto proviene realmente de que Python soporta programación orientada a objetos."
   ]
  },
  {
   "cell_type": "code",
   "execution_count": 7,
   "id": "d8cd481f",
   "metadata": {
    "slideshow": {
     "slide_type": "slide"
    }
   },
   "outputs": [],
   "source": [
    "import math as m "
   ]
  },
  {
   "cell_type": "markdown",
   "id": "f0de4e00",
   "metadata": {
    "slideshow": {
     "slide_type": "slide"
    }
   },
   "source": [
    "Al hacer esta importación, ya es posible utilizar las funciones que contiene el módulo “`math`”\n",
    "de Python. "
   ]
  },
  {
   "cell_type": "markdown",
   "id": "0a3da086",
   "metadata": {
    "slideshow": {
     "slide_type": "slide"
    }
   },
   "source": [
    "Primero se llama el módulo, seguido se coloca un punto y luego la función que se desee aplicar teniendo en cuenta que entre los paréntesis se coloca la variable o el valor de entrada."
   ]
  },
  {
   "cell_type": "code",
   "execution_count": 9,
   "id": "dcb17b7a",
   "metadata": {
    "slideshow": {
     "slide_type": "slide"
    }
   },
   "outputs": [
    {
     "data": {
      "text/plain": [
       "2.718281828459045"
      ]
     },
     "execution_count": 9,
     "metadata": {},
     "output_type": "execute_result"
    }
   ],
   "source": [
    "m.exp(1)"
   ]
  },
  {
   "cell_type": "code",
   "execution_count": 12,
   "id": "feb0da84",
   "metadata": {
    "slideshow": {
     "slide_type": "slide"
    }
   },
   "outputs": [
    {
     "name": "stdout",
     "output_type": "stream",
     "text": [
      "Help on built-in function exp in module math:\n",
      "\n",
      "exp(x, /)\n",
      "    Return e raised to the power of x.\n",
      "\n"
     ]
    }
   ],
   "source": [
    "import math as m \n",
    "help(m.exp) "
   ]
  },
  {
   "cell_type": "markdown",
   "id": "1d4e4e25",
   "metadata": {
    "slideshow": {
     "slide_type": "slide"
    }
   },
   "source": [
    "Para conocer todas las demás funciones contenidas en el módulo “`math`” puede utilizarse la función “`dir`” contenida en la librería estándar, en la cual, si se coloca el nombre de un módulo se obtienen los atributos del mismo:\n"
   ]
  },
  {
   "cell_type": "code",
   "execution_count": 14,
   "id": "25bdf200",
   "metadata": {
    "slideshow": {
     "slide_type": "slide"
    }
   },
   "outputs": [
    {
     "data": {
      "text/plain": [
       "['__doc__',\n",
       " '__loader__',\n",
       " '__name__',\n",
       " '__package__',\n",
       " '__spec__',\n",
       " 'acos',\n",
       " 'acosh',\n",
       " 'asin',\n",
       " 'asinh',\n",
       " 'atan',\n",
       " 'atan2',\n",
       " 'atanh',\n",
       " 'ceil',\n",
       " 'comb',\n",
       " 'copysign',\n",
       " 'cos',\n",
       " 'cosh',\n",
       " 'degrees',\n",
       " 'dist',\n",
       " 'e',\n",
       " 'erf',\n",
       " 'erfc',\n",
       " 'exp',\n",
       " 'expm1',\n",
       " 'fabs',\n",
       " 'factorial',\n",
       " 'floor',\n",
       " 'fmod',\n",
       " 'frexp',\n",
       " 'fsum',\n",
       " 'gamma',\n",
       " 'gcd',\n",
       " 'hypot',\n",
       " 'inf',\n",
       " 'isclose',\n",
       " 'isfinite',\n",
       " 'isinf',\n",
       " 'isnan',\n",
       " 'isqrt',\n",
       " 'ldexp',\n",
       " 'lgamma',\n",
       " 'log',\n",
       " 'log10',\n",
       " 'log1p',\n",
       " 'log2',\n",
       " 'modf',\n",
       " 'nan',\n",
       " 'perm',\n",
       " 'pi',\n",
       " 'pow',\n",
       " 'prod',\n",
       " 'radians',\n",
       " 'remainder',\n",
       " 'sin',\n",
       " 'sinh',\n",
       " 'sqrt',\n",
       " 'tan',\n",
       " 'tanh',\n",
       " 'tau',\n",
       " 'trunc']"
      ]
     },
     "execution_count": 14,
     "metadata": {},
     "output_type": "execute_result"
    }
   ],
   "source": [
    "dir(m)"
   ]
  },
  {
   "cell_type": "markdown",
   "id": "a9e02483",
   "metadata": {
    "slideshow": {
     "slide_type": "slide"
    }
   },
   "source": [
    "## 1.6 Otros tipos de operadores "
   ]
  },
  {
   "cell_type": "markdown",
   "id": "760248ff",
   "metadata": {
    "slideshow": {
     "slide_type": "slide"
    }
   },
   "source": [
    "Los operadores son símbolos utilizados en informática para que el compilador ejecute operaciones sobre unos operandos para producir un resultado (tutorialspoint, 2019). "
   ]
  },
  {
   "cell_type": "markdown",
   "id": "6f22361f",
   "metadata": {
    "slideshow": {
     "slide_type": "slide"
    }
   },
   "source": [
    "Cabe anotar que además de \n",
    "* los operadores aritméticos \n",
    "existen \n",
    "* los operadores relacionales y \n",
    "* los operadores lógicos. "
   ]
  },
  {
   "cell_type": "markdown",
   "id": "5509bb8f",
   "metadata": {
    "slideshow": {
     "slide_type": "slide"
    }
   },
   "source": [
    "### 1.6.1 Operadores relacionales"
   ]
  },
  {
   "cell_type": "markdown",
   "id": "5a3cb21a",
   "metadata": {
    "slideshow": {
     "slide_type": "slide"
    }
   },
   "source": [
    "Los operadores relacionales comparan los valores de dos expresiones y devuelven un resultado booleano. "
   ]
  },
  {
   "cell_type": "markdown",
   "id": "0300f553",
   "metadata": {
    "slideshow": {
     "slide_type": "slide"
    }
   },
   "source": [
    "Los operadores relacionales en Python se muestran en la siguiente tabla:"
   ]
  },
  {
   "cell_type": "code",
   "execution_count": null,
   "id": "97f9fb38",
   "metadata": {
    "slideshow": {
     "slide_type": "slide"
    }
   },
   "outputs": [],
   "source": []
  },
  {
   "cell_type": "code",
   "execution_count": null,
   "id": "30b65b63",
   "metadata": {
    "slideshow": {
     "slide_type": "slide"
    }
   },
   "outputs": [],
   "source": []
  },
  {
   "cell_type": "code",
   "execution_count": null,
   "id": "27fddd4a",
   "metadata": {
    "slideshow": {
     "slide_type": "slide"
    }
   },
   "outputs": [],
   "source": []
  },
  {
   "cell_type": "code",
   "execution_count": null,
   "id": "f4b67719",
   "metadata": {
    "slideshow": {
     "slide_type": "slide"
    }
   },
   "outputs": [],
   "source": []
  },
  {
   "cell_type": "markdown",
   "id": "2e720836",
   "metadata": {
    "slideshow": {
     "slide_type": "slide"
    }
   },
   "source": [
    "## Referentes\n",
    "\n",
    "* Calderon"
   ]
  },
  {
   "cell_type": "code",
   "execution_count": null,
   "id": "a8735a17",
   "metadata": {},
   "outputs": [],
   "source": []
  }
 ],
 "metadata": {
  "celltoolbar": "Slideshow",
  "kernelspec": {
   "display_name": "Python 3",
   "language": "python",
   "name": "python3"
  },
  "language_info": {
   "codemirror_mode": {
    "name": "ipython",
    "version": 3
   },
   "file_extension": ".py",
   "mimetype": "text/x-python",
   "name": "python",
   "nbconvert_exporter": "python",
   "pygments_lexer": "ipython3",
   "version": "3.8.8"
  },
  "latex_envs": {
   "LaTeX_envs_menu_present": true,
   "autoclose": false,
   "autocomplete": false,
   "bibliofile": "biblio.bib",
   "cite_by": "apalike",
   "current_citInitial": 1,
   "eqLabelWithNumbers": true,
   "eqNumInitial": 1,
   "hotkeys": {
    "equation": "Ctrl-E",
    "itemize": "Ctrl-I"
   },
   "labels_anchors": false,
   "latex_user_defs": false,
   "report_style_numbering": false,
   "user_envs_cfg": false
  },
  "rise": {
   "enable_chalkboard": true,
   "theme": "sky",
   "transition": "sky"
  }
 },
 "nbformat": 4,
 "nbformat_minor": 5
}
