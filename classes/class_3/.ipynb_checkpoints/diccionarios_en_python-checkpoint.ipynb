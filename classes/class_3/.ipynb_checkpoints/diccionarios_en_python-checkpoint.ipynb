{
 "cells": [
  {
   "cell_type": "markdown",
   "id": "190e5575",
   "metadata": {
    "slideshow": {
     "slide_type": "slide"
    }
   },
   "source": [
    "\n",
    "<table align=\"left\">\n",
    "  <td>\n",
    "    <a href=\"https://colab.research.google.com/github/marco-canas/introducci-n-al-Machine-Learning/blob/main/classes/class_3/diccionarios_en_python.ipynb\" target=\"_parent\"><img src=\"https://colab.research.google.com/assets/colab-badge.svg\" alt=\"Open In Colab\"/></a>\n",
    "  </td>\n",
    "  <td>\n",
    "    <a target=\"_blank\" href=\"https://kaggle.com/kernels/welcome?src=https://github.com/marco-canas/introducci-n-al-Machine-Learning/blob/main/classes/class_3/diccionarios_en_python.ipynb\"><img src=\"https://kaggle.com/static/images/open-in-kaggle.svg\" /></a>\n",
    "  </td>\n",
    "</table>\n"
   ]
  },
  {
   "cell_type": "markdown",
   "id": "143df163",
   "metadata": {
    "slideshow": {
     "slide_type": "slide"
    }
   },
   "source": [
    "# [Diccionarios en Python: El tipo diccionario y operaciones más comunes](https://j2logo.com/python/tutorial/tipo-dict-python/)"
   ]
  },
  {
   "cell_type": "markdown",
   "id": "d83da356",
   "metadata": {
    "slideshow": {
     "slide_type": "slide"
    }
   },
   "source": [
    "## [Video de apoyo](https://www.youtube.com/watch?v=2vCep8BUWBA) "
   ]
  },
  {
   "cell_type": "markdown",
   "id": "62d11c7d",
   "metadata": {
    "slideshow": {
     "slide_type": "slide"
    }
   },
   "source": [
    "Yo diría que la clase `dict` en Python es, junto con `list`, una de las más importantes del lenguaje."
   ]
  },
  {
   "cell_type": "markdown",
   "id": "8ae15007",
   "metadata": {
    "slideshow": {
     "slide_type": "slide"
    }
   },
   "source": [
    "En este tutorial te describo con todo detalle la clase `dict` de Python para que le saques todo el partido y no haya diccionario que se te resista."
   ]
  },
  {
   "cell_type": "markdown",
   "id": "b1b11337",
   "metadata": {
    "slideshow": {
     "slide_type": "slide"
    }
   },
   "source": [
    "## Índice"
   ]
  },
  {
   "cell_type": "markdown",
   "id": "675247f9",
   "metadata": {
    "slideshow": {
     "slide_type": "slide"
    }
   },
   "source": [
    "* Qué es el tipo `dict` en Python  \n",
    "* Cómo acceder a los elementos de un diccionario en Python  \n",
    "* `for` `dict` Python – Recorrer un diccionario  \n",
    "* Añadir elementos a un diccionario en Python\n",
    "* Modificar elementos de un diccionario\n",
    "* Eliminar un elemento de un diccionario en Python\n",
    "* Número de elementos (len) de un diccionario en Python"
   ]
  },
  {
   "cell_type": "markdown",
   "id": "3a356be1",
   "metadata": {
    "slideshow": {
     "slide_type": "slide"
    }
   },
   "source": [
    "* Comprobar si un elemento está en un diccionario en Python\n",
    "* Comparar si dos diccionarios son iguales\n",
    "* Diccionarios anidados en Python\n",
    "* Obtener una lista con las claves de un diccionario\n",
    "* Objetos vista de un diccionario\n",
    "* Listado de métodos de la clase `dict`"
   ]
  },
  {
   "cell_type": "markdown",
   "id": "3e21f290",
   "metadata": {
    "slideshow": {
     "slide_type": "slide"
    }
   },
   "source": [
    "## Qué es el tipo dict en Python"
   ]
  },
  {
   "cell_type": "markdown",
   "id": "e4c29f7f",
   "metadata": {
    "slideshow": {
     "slide_type": "slide"
    }
   },
   "source": [
    "La clase `dict` de Python es un tipo mapa que asocia claves a valores. "
   ]
  },
  {
   "cell_type": "markdown",
   "id": "389123d0",
   "metadata": {
    "slideshow": {
     "slide_type": "slide"
    }
   },
   "source": [
    "* A diferencia de los tipos secuenciales (`list`, `tuple`, `range` o `str`), que son indexados por un índice numérico, \n",
    "* los diccionarios son indexados por claves. \n",
    "* Estas claves siempre deben ser de un tipo inmutable, concretamente un tipo hashable."
   ]
  },
  {
   "cell_type": "markdown",
   "id": "641d2def",
   "metadata": {
    "slideshow": {
     "slide_type": "slide"
    }
   },
   "source": [
    "* Piensa siempre en un diccionario como un contenedor de pares **clave: valor,** \n",
    "* en el que la clave puede ser de cualquier tipo hashable y es única en el diccionario que la contiene. "
   ]
  },
  {
   "cell_type": "markdown",
   "id": "c3b28395",
   "metadata": {
    "slideshow": {
     "slide_type": "slide"
    }
   },
   "source": [
    "Generalmente, se suelen usar como claves los tipos `int` y `str` aunque, como te he dicho, cualquier tipo hashable puede ser una clave."
   ]
  },
  {
   "cell_type": "markdown",
   "id": "1296395a",
   "metadata": {
    "slideshow": {
     "slide_type": "slide"
    }
   },
   "source": [
    "Las principales operaciones que se suelen realizar con diccionarios son almacenar un valor asociado a una clave y recuperar un valor a partir de una clave. "
   ]
  },
  {
   "cell_type": "markdown",
   "id": "6f735e37",
   "metadata": {
    "slideshow": {
     "slide_type": "slide"
    }
   },
   "source": [
    "Esta es la esencia de los diccionarios y es aquí donde son realmente importantes. "
   ]
  },
  {
   "cell_type": "markdown",
   "id": "ef21c8f2",
   "metadata": {
    "slideshow": {
     "slide_type": "slide"
    }
   },
   "source": [
    "En un diccionario, el acceso a un elemento a partir de una clave es una operación realmente rápida, eficaz y que consume pocos recursos si lo comparamos con cómo lo haríamos con otros tipos de datos."
   ]
  },
  {
   "cell_type": "markdown",
   "id": "11547c6c",
   "metadata": {
    "slideshow": {
     "slide_type": "slide"
    }
   },
   "source": [
    "Otras características a resaltar de los diccionarios:"
   ]
  },
  {
   "cell_type": "markdown",
   "id": "0cf53434",
   "metadata": {
    "slideshow": {
     "slide_type": "slide"
    }
   },
   "source": [
    "Es un tipo mutable, es decir, su contenido se puede modificar después de haber sido creado."
   ]
  },
  {
   "cell_type": "markdown",
   "id": "0a4fde7a",
   "metadata": {
    "slideshow": {
     "slide_type": "slide"
    }
   },
   "source": [
    "Es un tipo ordenado. Preserva el orden en que se insertan los pares **clave: valor.**"
   ]
  },
  {
   "cell_type": "markdown",
   "id": "d440cc10",
   "metadata": {
    "slideshow": {
     "slide_type": "slide"
    }
   },
   "source": [
    "## Cómo crear un diccionario  "
   ]
  },
  {
   "cell_type": "markdown",
   "id": "bcbc15ab",
   "metadata": {
    "slideshow": {
     "slide_type": "slide"
    }
   },
   "source": [
    "En Python hay varias formas de crear un diccionario. Las veremos todas a continuación."
   ]
  },
  {
   "cell_type": "markdown",
   "id": "d1ac52f4",
   "metadata": {
    "slideshow": {
     "slide_type": "slide"
    }
   },
   "source": [
    "La más simple es encerrar una secuencia de pares **clave: valor** separados por comas entre llaves `{}`"
   ]
  },
  {
   "cell_type": "code",
   "execution_count": 3,
   "id": "a3bc1ff1",
   "metadata": {
    "slideshow": {
     "slide_type": "slide"
    }
   },
   "outputs": [
    {
     "data": {
      "text/plain": [
       "{1: 'hola', 89: 'Pythonista', 'a': 'b', 'c': 27}"
      ]
     },
     "execution_count": 3,
     "metadata": {},
     "output_type": "execute_result"
    }
   ],
   "source": [
    "d = {1: 'hola', 89: 'Pythonista', 'a': 'b', 'c': 27}\n",
    "d "
   ]
  },
  {
   "cell_type": "markdown",
   "id": "a88ff79c",
   "metadata": {
    "slideshow": {
     "slide_type": "slide"
    }
   },
   "source": [
    "En el diccionario anterior, los enteros 1 y 89 y las cadenas 'a' y 'c' son las claves. "
   ]
  },
  {
   "cell_type": "markdown",
   "id": "816c0c24",
   "metadata": {
    "slideshow": {
     "slide_type": "slide"
    }
   },
   "source": [
    "Como ves, se pueden mezclar claves y valores de distinto tipo sin problema."
   ]
  },
  {
   "cell_type": "markdown",
   "id": "351da135",
   "metadata": {
    "slideshow": {
     "slide_type": "slide"
    }
   },
   "source": [
    "Para crear un diccionario vacío, simplemente asigna a una variable el valor `{}`."
   ]
  },
  {
   "cell_type": "code",
   "execution_count": 4,
   "id": "6626c425",
   "metadata": {},
   "outputs": [],
   "source": [
    "diccionario_vacio = {} "
   ]
  },
  {
   "cell_type": "code",
   "execution_count": 5,
   "id": "bed91b04",
   "metadata": {},
   "outputs": [
    {
     "data": {
      "text/plain": [
       "{}"
      ]
     },
     "execution_count": 5,
     "metadata": {},
     "output_type": "execute_result"
    }
   ],
   "source": [
    "diccionario_vacio "
   ]
  },
  {
   "cell_type": "markdown",
   "id": "80bbf2f2",
   "metadata": {
    "slideshow": {
     "slide_type": "slide"
    }
   },
   "source": [
    "También se puede usar el constructor de la clase `dict()` de varias maneras:"
   ]
  },
  {
   "cell_type": "markdown",
   "id": "9ac942df",
   "metadata": {
    "slideshow": {
     "slide_type": "slide"
    }
   },
   "source": [
    "* Sin parámetros. Esto creará un diccionario vacío.\n",
    "* Con pares clave: valor encerrados entre llaves.\n",
    "* Con argumentos con nombre. El nombre del argumento será la clave en el diccionario. En este caso, las claves solo pueden ser identificadores válidos y mantienen el orden en el que se indican. No se podría, por ejemplo, tener números enteros como claves."
   ]
  },
  {
   "cell_type": "markdown",
   "id": "fc93db15",
   "metadata": {
    "slideshow": {
     "slide_type": "slide"
    }
   },
   "source": [
    "* Pasando un iterable. En este caso, cada elemento del iterable debe ser también un iterable con solo dos elementos. "
   ]
  },
  {
   "cell_type": "markdown",
   "id": "74e590a5",
   "metadata": {
    "slideshow": {
     "slide_type": "slide"
    }
   },
   "source": [
    "El primero se toma como clave del diccionario y el segundo como valor. "
   ]
  },
  {
   "cell_type": "markdown",
   "id": "8642ec7a",
   "metadata": {
    "slideshow": {
     "slide_type": "slide"
    }
   },
   "source": [
    "Si la clave aparece varias veces, el valor que prevalece es el último."
   ]
  },
  {
   "cell_type": "markdown",
   "id": "164a0199",
   "metadata": {
    "slideshow": {
     "slide_type": "slide"
    }
   },
   "source": [
    "Veamos un ejemplo con todo lo anterior. "
   ]
  },
  {
   "cell_type": "markdown",
   "id": "62589417",
   "metadata": {
    "slideshow": {
     "slide_type": "slide"
    }
   },
   "source": [
    "Vamos a crear el mismo diccionario de todos los modos que te he explicado:"
   ]
  },
  {
   "cell_type": "code",
   "execution_count": 6,
   "id": "1fabfd5b",
   "metadata": {
    "slideshow": {
     "slide_type": "slide"
    }
   },
   "outputs": [
    {
     "data": {
      "text/plain": [
       "{'uno': 1, 'dos': 2, 'tres': 3}"
      ]
     },
     "execution_count": 6,
     "metadata": {},
     "output_type": "execute_result"
    }
   ],
   "source": [
    "# 1. Pares clave: valor encerrados entre llaves\n",
    "d = {'uno': 1, 'dos': 2, 'tres': 3}\n",
    "d"
   ]
  },
  {
   "cell_type": "code",
   "execution_count": 7,
   "id": "86b2e3d0",
   "metadata": {
    "slideshow": {
     "slide_type": "slide"
    }
   },
   "outputs": [
    {
     "data": {
      "text/plain": [
       "{'uno': 1, 'dos': 2, 'tres': 3}"
      ]
     },
     "execution_count": 7,
     "metadata": {},
     "output_type": "execute_result"
    }
   ],
   "source": [
    "# 2. Argumentos con nombre\n",
    "d2 = dict(uno=1, dos=2, tres=3)\n",
    "d2"
   ]
  },
  {
   "cell_type": "code",
   "execution_count": 8,
   "id": "4f49d023",
   "metadata": {
    "slideshow": {
     "slide_type": "slide"
    }
   },
   "outputs": [
    {
     "data": {
      "text/plain": [
       "{'uno': 1, 'dos': 2, 'tres': 3}"
      ]
     },
     "execution_count": 8,
     "metadata": {},
     "output_type": "execute_result"
    }
   ],
   "source": [
    "# 3. Pares clave: valor encerrados entre llaves\n",
    "d3 = dict({'uno': 1, 'dos': 2, 'tres': 3})\n",
    "d3"
   ]
  },
  {
   "cell_type": "code",
   "execution_count": 9,
   "id": "f384527d",
   "metadata": {
    "slideshow": {
     "slide_type": "slide"
    }
   },
   "outputs": [
    {
     "data": {
      "text/plain": [
       "{'uno': 1, 'dos': 2, 'tres': 3}"
      ]
     },
     "execution_count": 9,
     "metadata": {},
     "output_type": "execute_result"
    }
   ],
   "source": [
    "# 4. Iterable que contiene iterables con dos elementos\n",
    "d4 = dict([('uno', 1), ('dos', 2), ('tres', 3)])\n",
    "d4"
   ]
  },
  {
   "cell_type": "code",
   "execution_count": 10,
   "id": "5274b8f1",
   "metadata": {
    "slideshow": {
     "slide_type": "slide"
    }
   },
   "outputs": [
    {
     "data": {
      "text/plain": [
       "{}"
      ]
     },
     "execution_count": 10,
     "metadata": {},
     "output_type": "execute_result"
    }
   ],
   "source": [
    "# 5. Diccionario vacío\n",
    "d5 = {}\n",
    "d5"
   ]
  },
  {
   "cell_type": "code",
   "execution_count": 11,
   "id": "4d42e8d0",
   "metadata": {
    "slideshow": {
     "slide_type": "slide"
    }
   },
   "outputs": [
    {
     "data": {
      "text/plain": [
       "{}"
      ]
     },
     "execution_count": 11,
     "metadata": {},
     "output_type": "execute_result"
    }
   ],
   "source": [
    "# 6. Diccionario vacío usando el constructor\n",
    "d6 = dict()\n",
    "d6"
   ]
  },
  {
   "cell_type": "markdown",
   "id": "6280c1f9",
   "metadata": {
    "slideshow": {
     "slide_type": "slide"
    }
   },
   "source": [
    "## Cómo acceder a los elementos de un diccionario en Python"
   ]
  },
  {
   "cell_type": "markdown",
   "id": "d1367e8e",
   "metadata": {
    "slideshow": {
     "slide_type": "slide"
    }
   },
   "source": [
    "Acceder a un elemento de un diccionario es una de las principales operaciones por las que existe este tipo de dato. "
   ]
  },
  {
   "cell_type": "markdown",
   "id": "0b5367cf",
   "metadata": {
    "slideshow": {
     "slide_type": "slide"
    }
   },
   "source": [
    "El acceso a un valor se realiza mediante indexación de la clave. "
   ]
  },
  {
   "cell_type": "markdown",
   "id": "da71f7e3",
   "metadata": {
    "slideshow": {
     "slide_type": "slide"
    }
   },
   "source": [
    "Para ello, simplemente encierra entre corchetes la clave del elemento `d[clave]`. "
   ]
  },
  {
   "cell_type": "markdown",
   "id": "ecc0c7ec",
   "metadata": {
    "slideshow": {
     "slide_type": "slide"
    }
   },
   "source": [
    "En caso de que la clave no exista, se lanzará la excepción `KeyError`."
   ]
  },
  {
   "cell_type": "code",
   "execution_count": 12,
   "id": "fa55ff21",
   "metadata": {
    "slideshow": {
     "slide_type": "slide"
    }
   },
   "outputs": [
    {
     "data": {
      "text/plain": [
       "2"
      ]
     },
     "execution_count": 12,
     "metadata": {},
     "output_type": "execute_result"
    }
   ],
   "source": [
    "d = {'uno': 1, 'dos': 2, 'tres': 3}\n",
    "d['dos']"
   ]
  },
  {
   "cell_type": "code",
   "execution_count": 13,
   "id": "3fa7c746",
   "metadata": {
    "slideshow": {
     "slide_type": "slide"
    }
   },
   "outputs": [
    {
     "ename": "KeyError",
     "evalue": "4",
     "output_type": "error",
     "traceback": [
      "\u001b[1;31m---------------------------------------------------------------------------\u001b[0m",
      "\u001b[1;31mKeyError\u001b[0m                                  Traceback (most recent call last)",
      "\u001b[1;32m<ipython-input-13-31c4f4ce9503>\u001b[0m in \u001b[0;36m<module>\u001b[1;34m\u001b[0m\n\u001b[1;32m----> 1\u001b[1;33m \u001b[0md\u001b[0m\u001b[1;33m[\u001b[0m\u001b[1;36m4\u001b[0m\u001b[1;33m]\u001b[0m\u001b[1;33m\u001b[0m\u001b[1;33m\u001b[0m\u001b[0m\n\u001b[0m",
      "\u001b[1;31mKeyError\u001b[0m: 4"
     ]
    }
   ],
   "source": [
    "d[4]\n"
   ]
  },
  {
   "cell_type": "markdown",
   "id": "19e78fa7",
   "metadata": {
    "slideshow": {
     "slide_type": "slide"
    }
   },
   "source": [
    "La clase `dict` también ofrece el método `get(clave[, valor por defecto])`. "
   ]
  },
  {
   "cell_type": "markdown",
   "id": "890629e7",
   "metadata": {
    "slideshow": {
     "slide_type": "slide"
    }
   },
   "source": [
    "Este método devuelve el valor correspondiente a la clave dada. "
   ]
  },
  {
   "cell_type": "markdown",
   "id": "036aa941",
   "metadata": {
    "slideshow": {
     "slide_type": "slide"
    }
   },
   "source": [
    "En caso de que la clave no exista no lanza ningún error, sino que devuelve el segundo argumento valor por defecto. "
   ]
  },
  {
   "cell_type": "markdown",
   "id": "8a9fed1b",
   "metadata": {
    "slideshow": {
     "slide_type": "slide"
    }
   },
   "source": [
    "Si no se proporciona este argumento, se devuelve el valor `None`."
   ]
  },
  {
   "cell_type": "code",
   "execution_count": 14,
   "id": "2b327cd8",
   "metadata": {
    "slideshow": {
     "slide_type": "slide"
    }
   },
   "outputs": [
    {
     "data": {
      "text/plain": [
       "1"
      ]
     },
     "execution_count": 14,
     "metadata": {},
     "output_type": "execute_result"
    }
   ],
   "source": [
    "d = {'uno': 1, 'dos': 2, 'tres': 3}\n",
    "d.get('uno')"
   ]
  },
  {
   "cell_type": "code",
   "execution_count": 16,
   "id": "d3b60900",
   "metadata": {
    "slideshow": {
     "slide_type": "slide"
    }
   },
   "outputs": [
    {
     "data": {
      "text/plain": [
       "4"
      ]
     },
     "execution_count": 16,
     "metadata": {},
     "output_type": "execute_result"
    }
   ],
   "source": [
    "# Devuelve 4 como valor por defecto si no encuentra la clave\n",
    "d.get('cuatro', 4) "
   ]
  },
  {
   "cell_type": "code",
   "execution_count": 18,
   "id": "96b7125c",
   "metadata": {
    "slideshow": {
     "slide_type": "slide"
    }
   },
   "outputs": [
    {
     "name": "stdout",
     "output_type": "stream",
     "text": [
      "None\n"
     ]
    }
   ],
   "source": [
    "# Devuelve None como valor por defecto si no encuentra la clave\n",
    "a = d.get('cuatro')\n",
    "print(a) "
   ]
  },
  {
   "cell_type": "code",
   "execution_count": 6,
   "id": "48fe1414",
   "metadata": {
    "slideshow": {
     "slide_type": "slide"
    }
   },
   "outputs": [
    {
     "data": {
      "text/plain": [
       "NoneType"
      ]
     },
     "execution_count": 6,
     "metadata": {},
     "output_type": "execute_result"
    }
   ],
   "source": [
    "type(a)\n"
   ]
  },
  {
   "cell_type": "markdown",
   "id": "07496f09",
   "metadata": {
    "slideshow": {
     "slide_type": "slide"
    }
   },
   "source": [
    "## for dict Python – Recorrer un diccionario"
   ]
  },
  {
   "cell_type": "markdown",
   "id": "75353727",
   "metadata": {
    "slideshow": {
     "slide_type": "slide"
    }
   },
   "source": [
    "Hay varias formas de recorrer los elementos de un diccionario: \n",
    "\n",
    "* recorrer solo las claves, \n",
    "* solo los valores o \n",
    "* recorrer a la vez las claves y los valores. "
   ]
  },
  {
   "cell_type": "markdown",
   "id": "26429ee9",
   "metadata": {
    "slideshow": {
     "slide_type": "slide"
    }
   },
   "source": [
    "Puedes ver aquí cómo usar el bucle `for` para recorrer un diccionario."
   ]
  },
  {
   "cell_type": "code",
   "execution_count": 19,
   "id": "b9ab154a",
   "metadata": {
    "slideshow": {
     "slide_type": "slide"
    }
   },
   "outputs": [
    {
     "name": "stdout",
     "output_type": "stream",
     "text": [
      "uno\n",
      "dos\n",
      "tres\n"
     ]
    }
   ],
   "source": [
    "d = {'uno': 1, 'dos': 2, 'tres': 3} # De esta forma se obtienen las claves del diccionario. \n",
    "for e in d:\n",
    "    print(e)"
   ]
  },
  {
   "cell_type": "code",
   "execution_count": 20,
   "id": "a904735c",
   "metadata": {
    "slideshow": {
     "slide_type": "slide"
    }
   },
   "outputs": [
    {
     "name": "stdout",
     "output_type": "stream",
     "text": [
      "uno\n",
      "dos\n",
      "tres\n"
     ]
    }
   ],
   "source": [
    "# Recorrer las claves del diccionario\n",
    ">>> for k in d.keys():\n",
    "...     print(k)"
   ]
  },
  {
   "cell_type": "code",
   "execution_count": 21,
   "id": "0bae165d",
   "metadata": {
    "slideshow": {
     "slide_type": "slide"
    }
   },
   "outputs": [
    {
     "name": "stdout",
     "output_type": "stream",
     "text": [
      "1\n",
      "2\n",
      "3\n"
     ]
    }
   ],
   "source": [
    "# Recorrer los valores del diccionario\n",
    "for v in d.values():\n",
    "    print(v)"
   ]
  },
  {
   "cell_type": "code",
   "execution_count": 22,
   "id": "caed5bc2",
   "metadata": {
    "slideshow": {
     "slide_type": "slide"
    }
   },
   "outputs": [
    {
     "name": "stdout",
     "output_type": "stream",
     "text": [
      "('uno', 1)\n",
      "('dos', 2)\n",
      "('tres', 3)\n"
     ]
    }
   ],
   "source": [
    "# Recorrer los pares clave valor\n",
    "for i in d.items():\n",
    "    print(i)\n"
   ]
  },
  {
   "cell_type": "markdown",
   "id": "6b84f283",
   "metadata": {
    "slideshow": {
     "slide_type": "slide"
    }
   },
   "source": [
    "## Añadir elementos a un diccionario en Python"
   ]
  },
  {
   "cell_type": "markdown",
   "id": "ec96e869",
   "metadata": {
    "slideshow": {
     "slide_type": "slide"
    }
   },
   "source": [
    "Como hemos dicho, la clase `dict` **es mutable**, por lo que se pueden añadir, modificar y/o eliminar elementos después de haber creado un objeto de este tipo."
   ]
  },
  {
   "cell_type": "markdown",
   "id": "2ad3ba18",
   "metadata": {
    "slideshow": {
     "slide_type": "slide"
    }
   },
   "source": [
    "Para añadir un nuevo elemento a un diccionario existente, se usa el operador de asignación `=`. "
   ]
  },
  {
   "cell_type": "markdown",
   "id": "604c0299",
   "metadata": {
    "slideshow": {
     "slide_type": "slide"
    }
   },
   "source": [
    "A la izquierda del operador aparece el objeto diccionario con la nueva clave entre corchetes `[]` y a la derecha el valor que se asocia a dicha clave."
   ]
  },
  {
   "cell_type": "code",
   "execution_count": 23,
   "id": "84d13766",
   "metadata": {
    "slideshow": {
     "slide_type": "slide"
    }
   },
   "outputs": [
    {
     "data": {
      "text/plain": [
       "{'uno': 1, 'dos': 2}"
      ]
     },
     "execution_count": 23,
     "metadata": {},
     "output_type": "execute_result"
    }
   ],
   "source": [
    "d = {'uno': 1, 'dos': 2}\n",
    "d\n"
   ]
  },
  {
   "cell_type": "code",
   "execution_count": 24,
   "id": "5afacc2f",
   "metadata": {
    "slideshow": {
     "slide_type": "slide"
    }
   },
   "outputs": [
    {
     "data": {
      "text/plain": [
       "{'uno': 1, 'dos': 2, 'tres': 3}"
      ]
     },
     "execution_count": 24,
     "metadata": {},
     "output_type": "execute_result"
    }
   ],
   "source": [
    "# Añade un nuevo elemento al diccionario\n",
    "d['tres'] = 3\n",
    "d\n"
   ]
  },
  {
   "cell_type": "markdown",
   "id": "d65ea3c4",
   "metadata": {
    "slideshow": {
     "slide_type": "slide"
    }
   },
   "source": [
    "### NOTA:  \n",
    "\n",
    "Si la clave ya existe en el diccionario, se actualiza su valor."
   ]
  },
  {
   "cell_type": "code",
   "execution_count": 25,
   "id": "f96bd05c",
   "metadata": {},
   "outputs": [],
   "source": [
    "d['tres']=1213"
   ]
  },
  {
   "cell_type": "code",
   "execution_count": 26,
   "id": "ce35ba85",
   "metadata": {},
   "outputs": [
    {
     "data": {
      "text/plain": [
       "{'uno': 1, 'dos': 2, 'tres': 1213}"
      ]
     },
     "execution_count": 26,
     "metadata": {},
     "output_type": "execute_result"
    }
   ],
   "source": [
    "d "
   ]
  },
  {
   "cell_type": "markdown",
   "id": "e1c347cb",
   "metadata": {
    "slideshow": {
     "slide_type": "slide"
    }
   },
   "source": [
    "También existe el método `setdefault(clave[, valor])`. "
   ]
  },
  {
   "cell_type": "markdown",
   "id": "71e901b7",
   "metadata": {
    "slideshow": {
     "slide_type": "slide"
    }
   },
   "source": [
    "Este método devuelve el valor de la clave si ya existe y, en caso contrario, le asigna el valor que se pasa como segundo argumento. "
   ]
  },
  {
   "cell_type": "markdown",
   "id": "c53ae885",
   "metadata": {
    "slideshow": {
     "slide_type": "slide"
    }
   },
   "source": [
    "Si no se especifica este segundo argumento, por defecto es `None`."
   ]
  },
  {
   "cell_type": "code",
   "execution_count": 29,
   "id": "898c556c",
   "metadata": {
    "slideshow": {
     "slide_type": "slide"
    }
   },
   "outputs": [
    {
     "data": {
      "text/plain": [
       "1"
      ]
     },
     "execution_count": 29,
     "metadata": {},
     "output_type": "execute_result"
    }
   ],
   "source": [
    "d = {'uno': 1, 'dos': 2}\n",
    "d.setdefault('uno', 1.0) "
   ]
  },
  {
   "cell_type": "code",
   "execution_count": 28,
   "id": "50f2ae9b",
   "metadata": {},
   "outputs": [
    {
     "data": {
      "text/plain": [
       "int"
      ]
     },
     "execution_count": 28,
     "metadata": {},
     "output_type": "execute_result"
    }
   ],
   "source": [
    "type(d['uno']) "
   ]
  },
  {
   "cell_type": "code",
   "execution_count": 33,
   "id": "ad3f9d3f",
   "metadata": {},
   "outputs": [],
   "source": [
    "d.setdefault('seis') "
   ]
  },
  {
   "cell_type": "code",
   "execution_count": 34,
   "id": "2fd309f3",
   "metadata": {},
   "outputs": [
    {
     "data": {
      "text/plain": [
       "{'uno': 1, 'dos': 2, 'cinco': 513, 'seis': None}"
      ]
     },
     "execution_count": 34,
     "metadata": {},
     "output_type": "execute_result"
    }
   ],
   "source": [
    "d "
   ]
  },
  {
   "cell_type": "code",
   "execution_count": 35,
   "id": "3c008843",
   "metadata": {
    "slideshow": {
     "slide_type": "slide"
    }
   },
   "outputs": [
    {
     "data": {
      "text/plain": [
       "3"
      ]
     },
     "execution_count": 35,
     "metadata": {},
     "output_type": "execute_result"
    }
   ],
   "source": [
    "d.setdefault('tres', 3)"
   ]
  },
  {
   "cell_type": "code",
   "execution_count": 20,
   "id": "3f37fee4",
   "metadata": {
    "slideshow": {
     "slide_type": "slide"
    }
   },
   "outputs": [
    {
     "data": {
      "text/plain": [
       "{'uno': 1, 'dos': 2, 'tres': 3, 'cuatro': None}"
      ]
     },
     "execution_count": 20,
     "metadata": {},
     "output_type": "execute_result"
    }
   ],
   "source": [
    "d.setdefault('cuatro')\n",
    "d\n"
   ]
  },
  {
   "cell_type": "markdown",
   "id": "af8da2c1",
   "metadata": {
    "slideshow": {
     "slide_type": "slide"
    }
   },
   "source": [
    "## Modificar elementos de un diccionario  "
   ]
  },
  {
   "cell_type": "markdown",
   "id": "78a18aa8",
   "metadata": {
    "slideshow": {
     "slide_type": "slide"
    }
   },
   "source": [
    "En el apartado anterior hemos visto que para actualizar el valor asociado a una clave, simplemente se asigna un nuevo valor a dicha clave del diccionario."
   ]
  },
  {
   "cell_type": "code",
   "execution_count": 36,
   "id": "715e4768",
   "metadata": {
    "slideshow": {
     "slide_type": "slide"
    }
   },
   "outputs": [
    {
     "data": {
      "text/plain": [
       "{'uno': 1, 'dos': 2}"
      ]
     },
     "execution_count": 36,
     "metadata": {},
     "output_type": "execute_result"
    }
   ],
   "source": [
    "d = {'uno': 1, 'dos': 2}\n",
    "d"
   ]
  },
  {
   "cell_type": "code",
   "execution_count": 39,
   "id": "a97ae431",
   "metadata": {
    "slideshow": {
     "slide_type": "slide"
    }
   },
   "outputs": [
    {
     "data": {
      "text/plain": [
       "{'uno': 1.0, 'dos': 2}"
      ]
     },
     "execution_count": 39,
     "metadata": {},
     "output_type": "execute_result"
    }
   ],
   "source": [
    "d['uno'] = 1.0\n",
    "d"
   ]
  },
  {
   "cell_type": "code",
   "execution_count": 38,
   "id": "8587017e",
   "metadata": {
    "slideshow": {
     "slide_type": "slide"
    }
   },
   "outputs": [
    {
     "data": {
      "text/plain": [
       "float"
      ]
     },
     "execution_count": 38,
     "metadata": {},
     "output_type": "execute_result"
    }
   ],
   "source": [
    "type(d['uno'])"
   ]
  },
  {
   "cell_type": "markdown",
   "id": "0ad23bbb",
   "metadata": {
    "slideshow": {
     "slide_type": "slide"
    }
   },
   "source": [
    "## Eliminar un elemento de un diccionario en Python"
   ]
  },
  {
   "cell_type": "markdown",
   "id": "89fde3f5",
   "metadata": {
    "slideshow": {
     "slide_type": "slide"
    }
   },
   "source": [
    "En Python existen diversos modos de eliminar un elemento de un diccionario. Son los siguientes:"
   ]
  },
  {
   "cell_type": "markdown",
   "id": "7307145d",
   "metadata": {
    "slideshow": {
     "slide_type": "slide"
    }
   },
   "source": [
    "`pop(clave [, valor por defecto])`: Si la clave está en el diccionario, elimina el elemento y devuelve su valor; si no, devuelve el valor por defecto. "
   ]
  },
  {
   "cell_type": "markdown",
   "id": "d256e71b",
   "metadata": {
    "slideshow": {
     "slide_type": "slide"
    }
   },
   "source": [
    "Si no se proporciona el valor por defecto y la clave no está en el diccionario, se lanza la excepción KeyError."
   ]
  },
  {
   "cell_type": "markdown",
   "id": "22451c0f",
   "metadata": {
    "slideshow": {
     "slide_type": "slide"
    }
   },
   "source": [
    "`popitem()`: Elimina el último par `clave: valor` del diccionario y lo devuelve. "
   ]
  },
  {
   "cell_type": "markdown",
   "id": "d9a911af",
   "metadata": {
    "slideshow": {
     "slide_type": "slide"
    }
   },
   "source": [
    "Si el diccionario está vacío se lanza la excepción KeyError. "
   ]
  },
  {
   "cell_type": "markdown",
   "id": "c7b0f269",
   "metadata": {
    "slideshow": {
     "slide_type": "slide"
    }
   },
   "source": [
    "(NOTA: En versiones anteriores a Python 3.7, se elimina/devuelve un par aleatorio, no se garantiza que sea el último)."
   ]
  },
  {
   "cell_type": "markdown",
   "id": "f4273a25",
   "metadata": {
    "slideshow": {
     "slide_type": "slide"
    }
   },
   "source": [
    "`del d[clave]`: Elimina el par clave: valor. Si no existe la clave, se lanza la excepción KeyError."
   ]
  },
  {
   "cell_type": "markdown",
   "id": "f4b30b14",
   "metadata": {
    "slideshow": {
     "slide_type": "slide"
    }
   },
   "source": [
    "`clear()`: Borra todos los pares clave: valor del diccionario."
   ]
  },
  {
   "cell_type": "code",
   "execution_count": 40,
   "id": "fcf4dcce",
   "metadata": {
    "slideshow": {
     "slide_type": "slide"
    }
   },
   "outputs": [],
   "source": [
    "d = {'uno': 1, 'dos': 2, 'tres': 3, 'cuatro': 4, 'cinco': 5}"
   ]
  },
  {
   "cell_type": "code",
   "execution_count": 41,
   "id": "20e4cef1",
   "metadata": {
    "slideshow": {
     "slide_type": "slide"
    }
   },
   "outputs": [
    {
     "data": {
      "text/plain": [
       "1"
      ]
     },
     "execution_count": 41,
     "metadata": {},
     "output_type": "execute_result"
    }
   ],
   "source": [
    "# Elimina un elemento con pop()\n",
    "d.pop('uno')"
   ]
  },
  {
   "cell_type": "code",
   "execution_count": 42,
   "id": "798c5b6d",
   "metadata": {
    "slideshow": {
     "slide_type": "slide"
    }
   },
   "outputs": [
    {
     "data": {
      "text/plain": [
       "{'dos': 2, 'tres': 3, 'cuatro': 4, 'cinco': 5}"
      ]
     },
     "execution_count": 42,
     "metadata": {},
     "output_type": "execute_result"
    }
   ],
   "source": [
    "d"
   ]
  },
  {
   "cell_type": "code",
   "execution_count": 43,
   "id": "39a510e6",
   "metadata": {
    "slideshow": {
     "slide_type": "slide"
    }
   },
   "outputs": [
    {
     "ename": "KeyError",
     "evalue": "6",
     "output_type": "error",
     "traceback": [
      "\u001b[1;31m---------------------------------------------------------------------------\u001b[0m",
      "\u001b[1;31mKeyError\u001b[0m                                  Traceback (most recent call last)",
      "\u001b[1;32m<ipython-input-43-aa9517912f88>\u001b[0m in \u001b[0;36m<module>\u001b[1;34m\u001b[0m\n\u001b[0;32m      1\u001b[0m \u001b[1;31m# Trata de eliminar una clave con pop() que no existe\u001b[0m\u001b[1;33m\u001b[0m\u001b[1;33m\u001b[0m\u001b[1;33m\u001b[0m\u001b[0m\n\u001b[1;32m----> 2\u001b[1;33m \u001b[0md\u001b[0m\u001b[1;33m.\u001b[0m\u001b[0mpop\u001b[0m\u001b[1;33m(\u001b[0m\u001b[1;36m6\u001b[0m\u001b[1;33m)\u001b[0m\u001b[1;33m\u001b[0m\u001b[1;33m\u001b[0m\u001b[0m\n\u001b[0m",
      "\u001b[1;31mKeyError\u001b[0m: 6"
     ]
    }
   ],
   "source": [
    "# Trata de eliminar una clave con pop() que no existe\n",
    "d.pop(6)"
   ]
  },
  {
   "cell_type": "code",
   "execution_count": 44,
   "id": "fb323050",
   "metadata": {},
   "outputs": [
    {
     "data": {
      "text/plain": [
       "{'dos': 2, 'tres': 3, 'cuatro': 4, 'cinco': 5}"
      ]
     },
     "execution_count": 44,
     "metadata": {},
     "output_type": "execute_result"
    }
   ],
   "source": [
    "d "
   ]
  },
  {
   "cell_type": "code",
   "execution_count": 46,
   "id": "6c47a01b",
   "metadata": {
    "slideshow": {
     "slide_type": "slide"
    }
   },
   "outputs": [
    {
     "data": {
      "text/plain": [
       "('cuatro', 4)"
      ]
     },
     "execution_count": 46,
     "metadata": {},
     "output_type": "execute_result"
    }
   ],
   "source": [
    "# Elimina el último par clave valor con popitem()\n",
    "d.popitem()"
   ]
  },
  {
   "cell_type": "code",
   "execution_count": 47,
   "id": "0e33d533",
   "metadata": {
    "slideshow": {
     "slide_type": "slide"
    }
   },
   "outputs": [
    {
     "data": {
      "text/plain": [
       "{'dos': 2, 'tres': 3}"
      ]
     },
     "execution_count": 47,
     "metadata": {},
     "output_type": "execute_result"
    }
   ],
   "source": [
    "d"
   ]
  },
  {
   "cell_type": "code",
   "execution_count": 48,
   "id": "3df3b2d2",
   "metadata": {
    "slideshow": {
     "slide_type": "slide"
    }
   },
   "outputs": [
    {
     "data": {
      "text/plain": [
       "{'dos': 2}"
      ]
     },
     "execution_count": 48,
     "metadata": {},
     "output_type": "execute_result"
    }
   ],
   "source": [
    "# Elimina un elemento con del\n",
    "del d['tres']\n",
    "d"
   ]
  },
  {
   "cell_type": "code",
   "execution_count": 49,
   "id": "a86fb0a4",
   "metadata": {
    "slideshow": {
     "slide_type": "slide"
    }
   },
   "outputs": [
    {
     "ename": "KeyError",
     "evalue": "'seis'",
     "output_type": "error",
     "traceback": [
      "\u001b[1;31m---------------------------------------------------------------------------\u001b[0m",
      "\u001b[1;31mKeyError\u001b[0m                                  Traceback (most recent call last)",
      "\u001b[1;32m<ipython-input-49-956552a1fc5d>\u001b[0m in \u001b[0;36m<module>\u001b[1;34m\u001b[0m\n\u001b[0;32m      1\u001b[0m \u001b[1;31m# Trata de eliminar una clave con del que no existe\u001b[0m\u001b[1;33m\u001b[0m\u001b[1;33m\u001b[0m\u001b[1;33m\u001b[0m\u001b[0m\n\u001b[1;32m----> 2\u001b[1;33m \u001b[1;32mdel\u001b[0m \u001b[0md\u001b[0m\u001b[1;33m[\u001b[0m\u001b[1;34m'seis'\u001b[0m\u001b[1;33m]\u001b[0m\u001b[1;33m\u001b[0m\u001b[1;33m\u001b[0m\u001b[0m\n\u001b[0m",
      "\u001b[1;31mKeyError\u001b[0m: 'seis'"
     ]
    }
   ],
   "source": [
    "# Trata de eliminar una clave con del que no existe\n",
    "del d['seis']"
   ]
  },
  {
   "cell_type": "code",
   "execution_count": 50,
   "id": "d4833a07",
   "metadata": {
    "slideshow": {
     "slide_type": "slide"
    }
   },
   "outputs": [],
   "source": [
    "# Borra todos los elementos del diccionario el método clear() \n",
    "d.clear()"
   ]
  },
  {
   "cell_type": "code",
   "execution_count": 51,
   "id": "12e1f1a4",
   "metadata": {
    "slideshow": {
     "slide_type": "slide"
    }
   },
   "outputs": [
    {
     "data": {
      "text/plain": [
       "{}"
      ]
     },
     "execution_count": 51,
     "metadata": {},
     "output_type": "execute_result"
    }
   ],
   "source": [
    "d\n"
   ]
  },
  {
   "cell_type": "markdown",
   "id": "f812d5c0",
   "metadata": {
    "slideshow": {
     "slide_type": "slide"
    }
   },
   "source": [
    "## Número de elementos (`len`) de un diccionario en Python"
   ]
  },
  {
   "cell_type": "markdown",
   "id": "0d551e28",
   "metadata": {
    "slideshow": {
     "slide_type": "slide"
    }
   },
   "source": [
    "Al igual que sucede con otros tipos contenedores, se puede usar la función de Python len() para obtener el número de elementos de un diccionario."
   ]
  },
  {
   "cell_type": "code",
   "execution_count": 52,
   "id": "312d709b",
   "metadata": {
    "slideshow": {
     "slide_type": "slide"
    }
   },
   "outputs": [],
   "source": [
    "d = {'uno': 1, 'dos': 2, 'tres': 3}"
   ]
  },
  {
   "cell_type": "code",
   "execution_count": 53,
   "id": "9c4976da",
   "metadata": {
    "slideshow": {
     "slide_type": "slide"
    }
   },
   "outputs": [
    {
     "data": {
      "text/plain": [
       "3"
      ]
     },
     "execution_count": 53,
     "metadata": {},
     "output_type": "execute_result"
    }
   ],
   "source": [
    "len(d)"
   ]
  },
  {
   "cell_type": "markdown",
   "id": "3f15976b",
   "metadata": {
    "slideshow": {
     "slide_type": "slide"
    }
   },
   "source": [
    "## Comprobar si un elemento está en un diccionario en Python"
   ]
  },
  {
   "cell_type": "markdown",
   "id": "82d31783",
   "metadata": {
    "slideshow": {
     "slide_type": "slide"
    }
   },
   "source": [
    "Al operar con diccionarios, se puede usar el operador de pertenencia in para comprobar si una clave está contenida, o no, en un diccionario. Esto resulta útil, por ejemplo, para asegurarnos de que una clave existe antes de intentar eliminarla."
   ]
  },
  {
   "cell_type": "code",
   "execution_count": 23,
   "id": "0be9d055",
   "metadata": {
    "slideshow": {
     "slide_type": "slide"
    }
   },
   "outputs": [
    {
     "name": "stdout",
     "output_type": "stream",
     "text": [
      "True\n"
     ]
    }
   ],
   "source": [
    ">>> print('uno' in d)"
   ]
  },
  {
   "cell_type": "code",
   "execution_count": 24,
   "id": "041bee7a",
   "metadata": {
    "slideshow": {
     "slide_type": "slide"
    }
   },
   "outputs": [
    {
     "name": "stdout",
     "output_type": "stream",
     "text": [
      "False\n"
     ]
    }
   ],
   "source": [
    ">>> print(1 in d)"
   ]
  },
  {
   "cell_type": "code",
   "execution_count": null,
   "id": "9ee3093f",
   "metadata": {
    "slideshow": {
     "slide_type": "slide"
    }
   },
   "outputs": [],
   "source": [
    ">>> print(1 not in d)"
   ]
  },
  {
   "cell_type": "code",
   "execution_count": null,
   "id": "29ea4564",
   "metadata": {
    "slideshow": {
     "slide_type": "slide"
    }
   },
   "outputs": [],
   "source": [
    "# Intenta eliminar la clave 1 si existe\n",
    ">>> if 1 in d:\n",
    "...     del d[1]\n",
    "...     \n",
    ">>> d\n",
    "{'uno': 1, 'dos': 2, 'tres': 3}"
   ]
  },
  {
   "cell_type": "markdown",
   "id": "ef64d0af",
   "metadata": {
    "slideshow": {
     "slide_type": "slide"
    }
   },
   "source": [
    "## Comparar si dos diccionarios son iguales"
   ]
  },
  {
   "cell_type": "markdown",
   "id": "0135e535",
   "metadata": {
    "slideshow": {
     "slide_type": "slide"
    }
   },
   "source": [
    "En Python se puede utilizar el operador de igualdad `==` para comparar si dos diccionarios son iguales. "
   ]
  },
  {
   "cell_type": "markdown",
   "id": "06feb0d3",
   "metadata": {
    "slideshow": {
     "slide_type": "slide"
    }
   },
   "source": [
    "Dos diccionarios son iguales si contienen el mismo conjunto de pares `clave: valor`, independientemente del orden que tengan."
   ]
  },
  {
   "cell_type": "markdown",
   "id": "e359ebb5",
   "metadata": {
    "slideshow": {
     "slide_type": "slide"
    }
   },
   "source": [
    "Otro tipo de comparaciones entre diccionarios no están permitidas. "
   ]
  },
  {
   "cell_type": "markdown",
   "id": "fe6e358d",
   "metadata": {
    "slideshow": {
     "slide_type": "slide"
    }
   },
   "source": [
    "Si se intenta, el intérprete lanzará la excepción `TypeError`."
   ]
  },
  {
   "cell_type": "code",
   "execution_count": 54,
   "id": "0487ef09",
   "metadata": {
    "slideshow": {
     "slide_type": "slide"
    }
   },
   "outputs": [],
   "source": [
    "d1 = {'uno': 1, 'dos': 2}\n",
    "d2 = {'dos': 2, 'uno': 1}\n",
    "d3 = {'uno': 1}"
   ]
  },
  {
   "cell_type": "code",
   "execution_count": 55,
   "id": "632b474f",
   "metadata": {
    "slideshow": {
     "slide_type": "slide"
    }
   },
   "outputs": [
    {
     "name": "stdout",
     "output_type": "stream",
     "text": [
      "True\n"
     ]
    }
   ],
   "source": [
    "print(d1 == d2)"
   ]
  },
  {
   "cell_type": "code",
   "execution_count": 56,
   "id": "fa9b2646",
   "metadata": {
    "slideshow": {
     "slide_type": "slide"
    }
   },
   "outputs": [
    {
     "name": "stdout",
     "output_type": "stream",
     "text": [
      "False\n"
     ]
    }
   ],
   "source": [
    "print(d1 == d3)"
   ]
  },
  {
   "cell_type": "code",
   "execution_count": 57,
   "id": "751a7865",
   "metadata": {
    "slideshow": {
     "slide_type": "slide"
    }
   },
   "outputs": [
    {
     "ename": "TypeError",
     "evalue": "'>' not supported between instances of 'dict' and 'dict'",
     "output_type": "error",
     "traceback": [
      "\u001b[1;31m---------------------------------------------------------------------------\u001b[0m",
      "\u001b[1;31mTypeError\u001b[0m                                 Traceback (most recent call last)",
      "\u001b[1;32m<ipython-input-57-5d9c3568c4c0>\u001b[0m in \u001b[0;36m<module>\u001b[1;34m\u001b[0m\n\u001b[1;32m----> 1\u001b[1;33m \u001b[0mprint\u001b[0m\u001b[1;33m(\u001b[0m\u001b[0md1\u001b[0m \u001b[1;33m>\u001b[0m \u001b[0md2\u001b[0m\u001b[1;33m)\u001b[0m\u001b[1;33m\u001b[0m\u001b[1;33m\u001b[0m\u001b[0m\n\u001b[0m",
      "\u001b[1;31mTypeError\u001b[0m: '>' not supported between instances of 'dict' and 'dict'"
     ]
    }
   ],
   "source": [
    "print(d1 > d2)\n"
   ]
  },
  {
   "cell_type": "markdown",
   "id": "6c955c44",
   "metadata": {
    "slideshow": {
     "slide_type": "slide"
    }
   },
   "source": [
    "## Diccionarios anidados en Python"
   ]
  },
  {
   "cell_type": "markdown",
   "id": "9a08d8c5",
   "metadata": {
    "slideshow": {
     "slide_type": "slide"
    }
   },
   "source": [
    "Un diccionario puede contener un valor de cualquier tipo, entre ellos, otro diccionario. Este hecho se conoce como diccionarios anidados."
   ]
  },
  {
   "cell_type": "markdown",
   "id": "aca4a7ef",
   "metadata": {
    "slideshow": {
     "slide_type": "slide"
    }
   },
   "source": [
    "Para acceder al valor de una de las claves de un diccionario interno, se usa el operador de indexación anidada  \n",
    "`[clave1][clave2]...`"
   ]
  },
  {
   "cell_type": "markdown",
   "id": "061d5aa1",
   "metadata": {
    "slideshow": {
     "slide_type": "slide"
    }
   },
   "source": [
    "Veámoslo con un ejemplo:"
   ]
  },
  {
   "cell_type": "code",
   "execution_count": 58,
   "id": "b79f59bb",
   "metadata": {
    "slideshow": {
     "slide_type": "slide"
    }
   },
   "outputs": [
    {
     "data": {
      "text/plain": [
       "1"
      ]
     },
     "execution_count": 58,
     "metadata": {},
     "output_type": "execute_result"
    }
   ],
   "source": [
    "d = {'d1': {'k1': 1, 'k2': 2}, 'd2': {'k1': 3, 'k4': 4}}\n",
    "d['d1']['k1']"
   ]
  },
  {
   "cell_type": "code",
   "execution_count": 59,
   "id": "015a0c16",
   "metadata": {
    "slideshow": {
     "slide_type": "slide"
    }
   },
   "outputs": [
    {
     "data": {
      "text/plain": [
       "3"
      ]
     },
     "execution_count": 59,
     "metadata": {},
     "output_type": "execute_result"
    }
   ],
   "source": [
    "d['d2']['k1']"
   ]
  },
  {
   "cell_type": "code",
   "execution_count": 60,
   "id": "4c2a2c24",
   "metadata": {
    "slideshow": {
     "slide_type": "slide"
    }
   },
   "outputs": [
    {
     "data": {
      "text/plain": [
       "4"
      ]
     },
     "execution_count": 60,
     "metadata": {},
     "output_type": "execute_result"
    }
   ],
   "source": [
    "d['d2']['k4']"
   ]
  },
  {
   "cell_type": "code",
   "execution_count": 61,
   "id": "d63ab414",
   "metadata": {
    "slideshow": {
     "slide_type": "slide"
    }
   },
   "outputs": [
    {
     "ename": "KeyError",
     "evalue": "'d3'",
     "output_type": "error",
     "traceback": [
      "\u001b[1;31m---------------------------------------------------------------------------\u001b[0m",
      "\u001b[1;31mKeyError\u001b[0m                                  Traceback (most recent call last)",
      "\u001b[1;32m<ipython-input-61-15a37c5b5f5b>\u001b[0m in \u001b[0;36m<module>\u001b[1;34m\u001b[0m\n\u001b[1;32m----> 1\u001b[1;33m \u001b[0md\u001b[0m\u001b[1;33m[\u001b[0m\u001b[1;34m'd3'\u001b[0m\u001b[1;33m]\u001b[0m\u001b[1;33m[\u001b[0m\u001b[1;34m'k4'\u001b[0m\u001b[1;33m]\u001b[0m\u001b[1;33m\u001b[0m\u001b[1;33m\u001b[0m\u001b[0m\n\u001b[0m",
      "\u001b[1;31mKeyError\u001b[0m: 'd3'"
     ]
    }
   ],
   "source": [
    "d['d3']['k4']\n"
   ]
  },
  {
   "cell_type": "code",
   "execution_count": null,
   "id": "cca6d2cc",
   "metadata": {
    "slideshow": {
     "slide_type": "slide"
    }
   },
   "outputs": [],
   "source": []
  },
  {
   "cell_type": "markdown",
   "id": "4be6a9ca",
   "metadata": {
    "slideshow": {
     "slide_type": "slide"
    }
   },
   "source": [
    "## Referentes\n",
    "\n",
    "* https://j2logo.com/python/tutorial/tipo-dict-python/ "
   ]
  },
  {
   "cell_type": "code",
   "execution_count": null,
   "id": "f99c2090",
   "metadata": {},
   "outputs": [],
   "source": []
  }
 ],
 "metadata": {
  "celltoolbar": "Slideshow",
  "kernelspec": {
   "display_name": "Python 3",
   "language": "python",
   "name": "python3"
  },
  "language_info": {
   "codemirror_mode": {
    "name": "ipython",
    "version": 3
   },
   "file_extension": ".py",
   "mimetype": "text/x-python",
   "name": "python",
   "nbconvert_exporter": "python",
   "pygments_lexer": "ipython3",
   "version": "3.8.8"
  },
  "latex_envs": {
   "LaTeX_envs_menu_present": true,
   "autoclose": false,
   "autocomplete": false,
   "bibliofile": "biblio.bib",
   "cite_by": "apalike",
   "current_citInitial": 1,
   "eqLabelWithNumbers": true,
   "eqNumInitial": 1,
   "hotkeys": {
    "equation": "Ctrl-E",
    "itemize": "Ctrl-I"
   },
   "labels_anchors": false,
   "latex_user_defs": false,
   "report_style_numbering": false,
   "user_envs_cfg": false
  },
  "rise": {
   "enable_chalkboard": true,
   "theme": "sky",
   "transition": "sky"
  }
 },
 "nbformat": 4,
 "nbformat_minor": 5
}
