{
 "cells": [
  {
   "cell_type": "markdown",
   "id": "190e5575",
   "metadata": {},
   "source": []
  },
  {
   "cell_type": "markdown",
   "id": "143df163",
   "metadata": {},
   "source": [
    "# [dict python – Diccionarios en Python: El tipo diccionario y operaciones más comunes](https://j2logo.com/python/tutorial/tipo-dict-python/)"
   ]
  },
  {
   "cell_type": "markdown",
   "id": "62d11c7d",
   "metadata": {},
   "source": [
    "Yo diría que la clase `dict` en Python es, junto con `list`, una de las más importantes del lenguaje."
   ]
  },
  {
   "cell_type": "markdown",
   "id": "8ae15007",
   "metadata": {},
   "source": [
    "En este tutorial te describo con todo detalle la clase `dict` de Python para que le saques todo el partido y no haya diccionario que se te resista."
   ]
  },
  {
   "cell_type": "markdown",
   "id": "b259ab77",
   "metadata": {},
   "source": [
    "<img src='https://j2logo.com/wp-content/uploads/tutorial-python-tipo-dict.png'> "
   ]
  },
  {
   "cell_type": "markdown",
   "id": "b1b11337",
   "metadata": {},
   "source": [
    "## Índice"
   ]
  },
  {
   "cell_type": "markdown",
   "id": "3a356be1",
   "metadata": {},
   "source": [
    "* Qué es el tipo dict en Python  \n",
    "* Cómo acceder a los elementos de un diccionario en Python  \n",
    "* for dict Python – Recorrer un diccionario  \n",
    "* Añadir elementos a un diccionario en Python\n",
    "* Modificar elementos de un diccionario\n",
    "* Eliminar un elemento de un diccionario en Python\n",
    "* Número de elementos (len) de un diccionario en Python\n",
    "* Comprobar si un elemento está en un diccionario en Python\n",
    "* Comparar si dos diccionarios son iguales\n",
    "* Diccionarios anidados en Python\n",
    "* Obtener una lista con las claves de un diccionario\n",
    "* Objetos vista de un diccionario\n",
    "* Listado de métodos de la clase `dict`"
   ]
  },
  {
   "cell_type": "markdown",
   "id": "3e21f290",
   "metadata": {
    "slideshow": {
     "slide_type": "slide"
    }
   },
   "source": [
    "## Qué es el tipo dict en Python"
   ]
  },
  {
   "cell_type": "markdown",
   "id": "e4c29f7f",
   "metadata": {
    "slideshow": {
     "slide_type": "slide"
    }
   },
   "source": [
    "La clase `dict` de Python es un tipo mapa que asocia claves a valores. "
   ]
  },
  {
   "cell_type": "markdown",
   "id": "389123d0",
   "metadata": {
    "slideshow": {
     "slide_type": "slide"
    }
   },
   "source": [
    "* A diferencia de los tipos secuenciales (`list`, `tuple`, `range` o `str`), que son indexados por un índice numérico, \n",
    "* los diccionarios son indexados por claves. \n",
    "* Estas claves siempre deben ser de un tipo inmutable, concretamente un tipo hashable."
   ]
  },
  {
   "cell_type": "markdown",
   "id": "7ae1cbdd",
   "metadata": {
    "slideshow": {
     "slide_type": "slide"
    }
   },
   "source": [
    "### NOTA:  \n",
    "\n",
    "Un objeto es hashable si tiene un valor de hash que no cambia durante todo su ciclo de vida. En principio, los objetos que son instancias de clases definidas por el usuario son hashables. También lo son la mayoría de tipos inmutables definidos por Python (int, float o str)."
   ]
  },
  {
   "cell_type": "markdown",
   "id": "641d2def",
   "metadata": {
    "slideshow": {
     "slide_type": "slide"
    }
   },
   "source": [
    "Piensa siempre en un diccionario como un contenedor de pares **clave: valor,** en el que la clave puede ser de cualquier tipo hashable y es única en el diccionario que la contiene. "
   ]
  },
  {
   "cell_type": "markdown",
   "id": "c3b28395",
   "metadata": {
    "slideshow": {
     "slide_type": "slide"
    }
   },
   "source": [
    "Generalmente, se suelen usar como claves los tipos `int` y `str` aunque, como te he dicho, cualquier tipo hashable puede ser una clave."
   ]
  },
  {
   "cell_type": "markdown",
   "id": "1296395a",
   "metadata": {
    "slideshow": {
     "slide_type": "slide"
    }
   },
   "source": [
    "Las principales operaciones que se suelen realizar con diccionarios son almacenar un valor asociado a una clave y recuperar un valor a partir de una clave. "
   ]
  },
  {
   "cell_type": "markdown",
   "id": "6f735e37",
   "metadata": {
    "slideshow": {
     "slide_type": "slide"
    }
   },
   "source": [
    "Esta es la esencia de los diccionarios y es aquí donde son realmente importantes. "
   ]
  },
  {
   "cell_type": "markdown",
   "id": "ef21c8f2",
   "metadata": {
    "slideshow": {
     "slide_type": "slide"
    }
   },
   "source": [
    "En un diccionario, el acceso a un elemento a partir de una clave es una operación realmente rápida, eficaz y que consume pocos recursos si lo comparamos con cómo lo haríamos con otros tipos de datos."
   ]
  },
  {
   "cell_type": "markdown",
   "id": "11547c6c",
   "metadata": {
    "slideshow": {
     "slide_type": "slide"
    }
   },
   "source": [
    "Otras características a resaltar de los diccionarios:"
   ]
  },
  {
   "cell_type": "markdown",
   "id": "0cf53434",
   "metadata": {
    "slideshow": {
     "slide_type": "slide"
    }
   },
   "source": [
    "Es un tipo mutable, es decir, su contenido se puede modificar después de haber sido creado."
   ]
  },
  {
   "cell_type": "markdown",
   "id": "0a4fde7a",
   "metadata": {
    "slideshow": {
     "slide_type": "slide"
    }
   },
   "source": [
    "Es un tipo ordenado. Preserva el orden en que se insertan los pares **clave: valor.**"
   ]
  },
  {
   "cell_type": "markdown",
   "id": "d440cc10",
   "metadata": {
    "slideshow": {
     "slide_type": "slide"
    }
   },
   "source": [
    "## Cómo crear un diccionario  "
   ]
  },
  {
   "cell_type": "markdown",
   "id": "bcbc15ab",
   "metadata": {
    "slideshow": {
     "slide_type": "slide"
    }
   },
   "source": [
    "En Python hay varias formas de crear un diccionario. Las veremos todas a continuación."
   ]
  },
  {
   "cell_type": "markdown",
   "id": "d1ac52f4",
   "metadata": {
    "slideshow": {
     "slide_type": "slide"
    }
   },
   "source": [
    "La más simple es encerrar una secuencia de pares **clave: valor** separados por comas entre llaves `{}`"
   ]
  },
  {
   "cell_type": "code",
   "execution_count": 1,
   "id": "a3bc1ff1",
   "metadata": {
    "slideshow": {
     "slide_type": "slide"
    }
   },
   "outputs": [],
   "source": [
    "d = {1: 'hola', 89: 'Pythonista', 'a': 'b', 'c': 27}"
   ]
  },
  {
   "cell_type": "markdown",
   "id": "a88ff79c",
   "metadata": {
    "slideshow": {
     "slide_type": "slide"
    }
   },
   "source": [
    "En el diccionario anterior, los enteros 1 y 89 y las cadenas 'a' y 'c' son las claves. "
   ]
  },
  {
   "cell_type": "markdown",
   "id": "816c0c24",
   "metadata": {
    "slideshow": {
     "slide_type": "slide"
    }
   },
   "source": [
    "Como ves, se pueden mezclar claves y valores de distinto tipo sin problema."
   ]
  },
  {
   "cell_type": "markdown",
   "id": "9ac942df",
   "metadata": {
    "slideshow": {
     "slide_type": "slide"
    }
   },
   "source": [
    "Para crear un diccionario vacío, simplemente asigna a una variable el valor {}.\n",
    "\n",
    "También se puede usar el constructor de la clase dict() de varias maneras:\n",
    "\n",
    "Sin parámetros. Esto creará un diccionario vacío.\n",
    "Con pares clave: valor encerrados entre llaves.\n",
    "Con argumentos con nombre. El nombre del argumento será la clave en el diccionario. En este caso, las claves solo pueden ser identificadores válidos y mantienen el orden en el que se indican. No se podría, por ejemplo, tener números enteros como claves."
   ]
  },
  {
   "cell_type": "markdown",
   "id": "8642ec7a",
   "metadata": {
    "slideshow": {
     "slide_type": "slide"
    }
   },
   "source": [
    "Pasando un iterable. En este caso, cada elemento del iterable debe ser también un iterable con solo dos elementos. El primero se toma como clave del diccionario y el segundo como valor. Si la clave aparece varias veces, el valor que prevalece es el último."
   ]
  },
  {
   "cell_type": "markdown",
   "id": "62589417",
   "metadata": {
    "slideshow": {
     "slide_type": "slide"
    }
   },
   "source": [
    "Veamos un ejemplo con todo lo anterior. Vamos a crear el mismo diccionario de todos los modos que te he explicado:"
   ]
  },
  {
   "cell_type": "code",
   "execution_count": 2,
   "id": "1fabfd5b",
   "metadata": {
    "slideshow": {
     "slide_type": "slide"
    }
   },
   "outputs": [
    {
     "data": {
      "text/plain": [
       "{'uno': 1, 'dos': 2, 'tres': 3}"
      ]
     },
     "execution_count": 2,
     "metadata": {},
     "output_type": "execute_result"
    }
   ],
   "source": [
    "# 1. Pares clave: valor encerrados entre llaves\n",
    "d = {'uno': 1, 'dos': 2, 'tres': 3}\n",
    "d"
   ]
  },
  {
   "cell_type": "code",
   "execution_count": 3,
   "id": "86b2e3d0",
   "metadata": {
    "slideshow": {
     "slide_type": "slide"
    }
   },
   "outputs": [
    {
     "data": {
      "text/plain": [
       "{'uno': 1, 'dos': 2, 'tres': 3}"
      ]
     },
     "execution_count": 3,
     "metadata": {},
     "output_type": "execute_result"
    }
   ],
   "source": [
    "# 2. Argumentos con nombre\n",
    "d2 = dict(uno=1, dos=2, tres=3)\n",
    "d2"
   ]
  },
  {
   "cell_type": "code",
   "execution_count": 4,
   "id": "4f49d023",
   "metadata": {
    "slideshow": {
     "slide_type": "slide"
    }
   },
   "outputs": [
    {
     "data": {
      "text/plain": [
       "{'uno': 1, 'dos': 2, 'tres': 3}"
      ]
     },
     "execution_count": 4,
     "metadata": {},
     "output_type": "execute_result"
    }
   ],
   "source": [
    "# 3. Pares clave: valor encerrados entre llaves\n",
    "d3 = dict({'uno': 1, 'dos': 2, 'tres': 3})\n",
    "d3"
   ]
  },
  {
   "cell_type": "code",
   "execution_count": 5,
   "id": "f384527d",
   "metadata": {
    "slideshow": {
     "slide_type": "slide"
    }
   },
   "outputs": [
    {
     "data": {
      "text/plain": [
       "{'uno': 1, 'dos': 2, 'tres': 3}"
      ]
     },
     "execution_count": 5,
     "metadata": {},
     "output_type": "execute_result"
    }
   ],
   "source": [
    "# 4. Iterable que contiene iterables con dos elementos\n",
    "d4 = dict([('uno', 1), ('dos', 2), ('tres', 3)])\n",
    "d4"
   ]
  },
  {
   "cell_type": "code",
   "execution_count": 6,
   "id": "5274b8f1",
   "metadata": {
    "slideshow": {
     "slide_type": "slide"
    }
   },
   "outputs": [
    {
     "data": {
      "text/plain": [
       "{}"
      ]
     },
     "execution_count": 6,
     "metadata": {},
     "output_type": "execute_result"
    }
   ],
   "source": [
    "# 5. Diccionario vacío\n",
    "d5 = {}\n",
    "d5"
   ]
  },
  {
   "cell_type": "code",
   "execution_count": 7,
   "id": "4d42e8d0",
   "metadata": {
    "slideshow": {
     "slide_type": "slide"
    }
   },
   "outputs": [
    {
     "data": {
      "text/plain": [
       "{}"
      ]
     },
     "execution_count": 7,
     "metadata": {},
     "output_type": "execute_result"
    }
   ],
   "source": [
    "# 6. Diccionario vacío usando el constructor\n",
    "d6 = dict()\n",
    "d6"
   ]
  },
  {
   "cell_type": "markdown",
   "id": "6280c1f9",
   "metadata": {
    "slideshow": {
     "slide_type": "slide"
    }
   },
   "source": [
    "## Cómo acceder a los elementos de un diccionario en Python"
   ]
  },
  {
   "cell_type": "markdown",
   "id": "d1367e8e",
   "metadata": {
    "slideshow": {
     "slide_type": "slide"
    }
   },
   "source": [
    "Acceder a un elemento de un diccionario es una de las principales operaciones por las que existe este tipo de dato. "
   ]
  },
  {
   "cell_type": "markdown",
   "id": "0b5367cf",
   "metadata": {
    "slideshow": {
     "slide_type": "slide"
    }
   },
   "source": [
    "El acceso a un valor se realiza mediante indexación de la clave. "
   ]
  },
  {
   "cell_type": "markdown",
   "id": "da71f7e3",
   "metadata": {
    "slideshow": {
     "slide_type": "slide"
    }
   },
   "source": [
    "Para ello, simplemente encierra entre corchetes la clave del elemento `d[clave]`. "
   ]
  },
  {
   "cell_type": "markdown",
   "id": "ecc0c7ec",
   "metadata": {
    "slideshow": {
     "slide_type": "slide"
    }
   },
   "source": [
    "En caso de que la clave no exista, se lanzará la excepción `KeyError`."
   ]
  },
  {
   "cell_type": "code",
   "execution_count": 8,
   "id": "fa55ff21",
   "metadata": {
    "slideshow": {
     "slide_type": "slide"
    }
   },
   "outputs": [
    {
     "data": {
      "text/plain": [
       "2"
      ]
     },
     "execution_count": 8,
     "metadata": {},
     "output_type": "execute_result"
    }
   ],
   "source": [
    "d = {'uno': 1, 'dos': 2, 'tres': 3}\n",
    "d['dos']"
   ]
  },
  {
   "cell_type": "code",
   "execution_count": 9,
   "id": "3fa7c746",
   "metadata": {
    "slideshow": {
     "slide_type": "slide"
    }
   },
   "outputs": [
    {
     "ename": "KeyError",
     "evalue": "4",
     "output_type": "error",
     "traceback": [
      "\u001b[1;31m---------------------------------------------------------------------------\u001b[0m",
      "\u001b[1;31mKeyError\u001b[0m                                  Traceback (most recent call last)",
      "\u001b[1;32m<ipython-input-9-31c4f4ce9503>\u001b[0m in \u001b[0;36m<module>\u001b[1;34m\u001b[0m\n\u001b[1;32m----> 1\u001b[1;33m \u001b[0md\u001b[0m\u001b[1;33m[\u001b[0m\u001b[1;36m4\u001b[0m\u001b[1;33m]\u001b[0m\u001b[1;33m\u001b[0m\u001b[1;33m\u001b[0m\u001b[0m\n\u001b[0m",
      "\u001b[1;31mKeyError\u001b[0m: 4"
     ]
    }
   ],
   "source": [
    "d[4]\n"
   ]
  },
  {
   "cell_type": "markdown",
   "id": "19e78fa7",
   "metadata": {
    "slideshow": {
     "slide_type": "slide"
    }
   },
   "source": [
    "La clase `dict` también ofrece el método `get(clave[, valor por defecto])`. "
   ]
  },
  {
   "cell_type": "markdown",
   "id": "890629e7",
   "metadata": {
    "slideshow": {
     "slide_type": "slide"
    }
   },
   "source": [
    "Este método devuelve el valor correspondiente a la clave clave. "
   ]
  },
  {
   "cell_type": "markdown",
   "id": "036aa941",
   "metadata": {
    "slideshow": {
     "slide_type": "slide"
    }
   },
   "source": [
    "En caso de que la clave no exista no lanza ningún error, sino que devuelve el segundo argumento valor por defecto. "
   ]
  },
  {
   "cell_type": "markdown",
   "id": "8a9fed1b",
   "metadata": {
    "slideshow": {
     "slide_type": "slide"
    }
   },
   "source": [
    "Si no se proporciona este argumento, se devuelve el valor None."
   ]
  },
  {
   "cell_type": "code",
   "execution_count": null,
   "id": "48fe1414",
   "metadata": {},
   "outputs": [],
   "source": []
  },
  {
   "cell_type": "code",
   "execution_count": null,
   "id": "8ba84ca4",
   "metadata": {},
   "outputs": [],
   "source": []
  },
  {
   "cell_type": "code",
   "execution_count": null,
   "id": "caed5bc2",
   "metadata": {},
   "outputs": [],
   "source": []
  },
  {
   "cell_type": "code",
   "execution_count": null,
   "id": "ef804965",
   "metadata": {},
   "outputs": [],
   "source": []
  },
  {
   "cell_type": "code",
   "execution_count": null,
   "id": "5afacc2f",
   "metadata": {},
   "outputs": [],
   "source": []
  },
  {
   "cell_type": "code",
   "execution_count": null,
   "id": "5f8ab055",
   "metadata": {},
   "outputs": [],
   "source": []
  },
  {
   "cell_type": "markdown",
   "id": "4be6a9ca",
   "metadata": {},
   "source": [
    "## Referentes\n",
    "\n",
    "* "
   ]
  },
  {
   "cell_type": "code",
   "execution_count": null,
   "id": "f99c2090",
   "metadata": {},
   "outputs": [],
   "source": []
  }
 ],
 "metadata": {
  "celltoolbar": "Slideshow",
  "kernelspec": {
   "display_name": "Python 3",
   "language": "python",
   "name": "python3"
  },
  "language_info": {
   "codemirror_mode": {
    "name": "ipython",
    "version": 3
   },
   "file_extension": ".py",
   "mimetype": "text/x-python",
   "name": "python",
   "nbconvert_exporter": "python",
   "pygments_lexer": "ipython3",
   "version": "3.8.8"
  },
  "latex_envs": {
   "LaTeX_envs_menu_present": true,
   "autoclose": false,
   "autocomplete": false,
   "bibliofile": "biblio.bib",
   "cite_by": "apalike",
   "current_citInitial": 1,
   "eqLabelWithNumbers": true,
   "eqNumInitial": 1,
   "hotkeys": {
    "equation": "Ctrl-E",
    "itemize": "Ctrl-I"
   },
   "labels_anchors": false,
   "latex_user_defs": false,
   "report_style_numbering": false,
   "user_envs_cfg": false
  },
  "rise": {
   "enable_chalkboard": true,
   "theme": "sky",
   "transition": "sky"
  }
 },
 "nbformat": 4,
 "nbformat_minor": 5
}
