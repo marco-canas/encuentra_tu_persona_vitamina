{
 "cells": [
  {
   "cell_type": "markdown",
   "id": "190e5575",
   "metadata": {
    "slideshow": {
     "slide_type": "slide"
    }
   },
   "source": [
    "\n",
    "<table align=\"left\">\n",
    "  <td>\n",
    "    <a href=\"https://colab.research.google.com/github/marco-canas/taca/blob/main/ref/charu/7_ch/7_2_SVD_A_Linear_Algebra_Perspective.ipynb\" target=\"_parent\"><img src=\"https://colab.research.google.com/assets/colab-badge.svg\" alt=\"Open In Colab\"/></a>\n",
    "  </td>\n",
    "  <td>\n",
    "    <a target=\"_blank\" href=\"https://kaggle.com/kernels/welcome?src=https://github.com/marco-canas/taca/blob/main/ref/charu/7_ch/7_2_SVD_A_Linear_Algebra_Perspective.ipynb\"><img src=\"https://kaggle.com/static/images/open-in-kaggle.svg\" /></a>\n",
    "  </td>\n",
    "</table>\n"
   ]
  },
  {
   "cell_type": "markdown",
   "id": "143df163",
   "metadata": {
    "slideshow": {
     "slide_type": "slide"
    }
   },
   "source": [
    "# [dict python – Diccionarios en Python: El tipo diccionario y operaciones más comunes](https://j2logo.com/python/tutorial/tipo-dict-python/)"
   ]
  },
  {
   "cell_type": "markdown",
   "id": "6266764a",
   "metadata": {
    "slideshow": {
     "slide_type": "slide"
    }
   },
   "source": [
    "## [Video de apoyo](https://www.youtube.com/watch?v=2vCep8BUWBA) "
   ]
  },
  {
   "cell_type": "markdown",
   "id": "62d11c7d",
   "metadata": {
    "slideshow": {
     "slide_type": "slide"
    }
   },
   "source": [
    "Yo diría que la clase `dict` en Python es, junto con `list`, una de las más importantes del lenguaje."
   ]
  },
  {
   "cell_type": "markdown",
   "id": "8ae15007",
   "metadata": {
    "slideshow": {
     "slide_type": "slide"
    }
   },
   "source": [
    "En este tutorial te describo con todo detalle la clase `dict` de Python para que le saques todo el partido y no haya diccionario que se te resista."
   ]
  },
  {
   "cell_type": "markdown",
   "id": "b1b11337",
   "metadata": {
    "slideshow": {
     "slide_type": "slide"
    }
   },
   "source": [
    "## Índice"
   ]
  },
  {
   "cell_type": "markdown",
   "id": "3a356be1",
   "metadata": {
    "slideshow": {
     "slide_type": "slide"
    }
   },
   "source": [
    "* Qué es el tipo dict en Python  \n",
    "* Cómo acceder a los elementos de un diccionario en Python  \n",
    "* for dict Python – Recorrer un diccionario  \n",
    "* Añadir elementos a un diccionario en Python\n",
    "* Modificar elementos de un diccionario\n",
    "* Eliminar un elemento de un diccionario en Python\n",
    "* Número de elementos (len) de un diccionario en Python\n",
    "* Comprobar si un elemento está en un diccionario en Python\n",
    "* Comparar si dos diccionarios son iguales\n",
    "* Diccionarios anidados en Python\n",
    "* Obtener una lista con las claves de un diccionario\n",
    "* Objetos vista de un diccionario\n",
    "* Listado de métodos de la clase `dict`"
   ]
  },
  {
   "cell_type": "markdown",
   "id": "3e21f290",
   "metadata": {
    "slideshow": {
     "slide_type": "slide"
    }
   },
   "source": [
    "## Qué es el tipo dict en Python"
   ]
  },
  {
   "cell_type": "markdown",
   "id": "e4c29f7f",
   "metadata": {
    "slideshow": {
     "slide_type": "slide"
    }
   },
   "source": [
    "La clase `dict` de Python es un tipo mapa que asocia claves a valores. "
   ]
  },
  {
   "cell_type": "markdown",
   "id": "389123d0",
   "metadata": {
    "slideshow": {
     "slide_type": "slide"
    }
   },
   "source": [
    "* A diferencia de los tipos secuenciales (`list`, `tuple`, `range` o `str`), que son indexados por un índice numérico, \n",
    "* los diccionarios son indexados por claves. \n",
    "* Estas claves siempre deben ser de un tipo inmutable, concretamente un tipo hashable."
   ]
  },
  {
   "cell_type": "markdown",
   "id": "7ae1cbdd",
   "metadata": {
    "slideshow": {
     "slide_type": "slide"
    }
   },
   "source": [
    "### NOTA:  \n",
    "\n",
    "Un objeto es hashable si tiene un valor de hash que no cambia durante todo su ciclo de vida. En principio, los objetos que son instancias de clases definidas por el usuario son hashables. También lo son la mayoría de tipos inmutables definidos por Python (int, float o str)."
   ]
  },
  {
   "cell_type": "markdown",
   "id": "641d2def",
   "metadata": {
    "slideshow": {
     "slide_type": "slide"
    }
   },
   "source": [
    "Piensa siempre en un diccionario como un contenedor de pares **clave: valor,** en el que la clave puede ser de cualquier tipo hashable y es única en el diccionario que la contiene. "
   ]
  },
  {
   "cell_type": "markdown",
   "id": "c3b28395",
   "metadata": {
    "slideshow": {
     "slide_type": "slide"
    }
   },
   "source": [
    "Generalmente, se suelen usar como claves los tipos `int` y `str` aunque, como te he dicho, cualquier tipo hashable puede ser una clave."
   ]
  },
  {
   "cell_type": "markdown",
   "id": "1296395a",
   "metadata": {
    "slideshow": {
     "slide_type": "slide"
    }
   },
   "source": [
    "Las principales operaciones que se suelen realizar con diccionarios son almacenar un valor asociado a una clave y recuperar un valor a partir de una clave. "
   ]
  },
  {
   "cell_type": "markdown",
   "id": "6f735e37",
   "metadata": {
    "slideshow": {
     "slide_type": "slide"
    }
   },
   "source": [
    "Esta es la esencia de los diccionarios y es aquí donde son realmente importantes. "
   ]
  },
  {
   "cell_type": "markdown",
   "id": "ef21c8f2",
   "metadata": {
    "slideshow": {
     "slide_type": "slide"
    }
   },
   "source": [
    "En un diccionario, el acceso a un elemento a partir de una clave es una operación realmente rápida, eficaz y que consume pocos recursos si lo comparamos con cómo lo haríamos con otros tipos de datos."
   ]
  },
  {
   "cell_type": "markdown",
   "id": "11547c6c",
   "metadata": {
    "slideshow": {
     "slide_type": "slide"
    }
   },
   "source": [
    "Otras características a resaltar de los diccionarios:"
   ]
  },
  {
   "cell_type": "markdown",
   "id": "0cf53434",
   "metadata": {
    "slideshow": {
     "slide_type": "slide"
    }
   },
   "source": [
    "Es un tipo mutable, es decir, su contenido se puede modificar después de haber sido creado."
   ]
  },
  {
   "cell_type": "markdown",
   "id": "0a4fde7a",
   "metadata": {
    "slideshow": {
     "slide_type": "slide"
    }
   },
   "source": [
    "Es un tipo ordenado. Preserva el orden en que se insertan los pares **clave: valor.**"
   ]
  },
  {
   "cell_type": "markdown",
   "id": "d440cc10",
   "metadata": {
    "slideshow": {
     "slide_type": "slide"
    }
   },
   "source": [
    "## Cómo crear un diccionario  "
   ]
  },
  {
   "cell_type": "markdown",
   "id": "bcbc15ab",
   "metadata": {
    "slideshow": {
     "slide_type": "slide"
    }
   },
   "source": [
    "En Python hay varias formas de crear un diccionario. Las veremos todas a continuación."
   ]
  },
  {
   "cell_type": "markdown",
   "id": "d1ac52f4",
   "metadata": {
    "slideshow": {
     "slide_type": "slide"
    }
   },
   "source": [
    "La más simple es encerrar una secuencia de pares **clave: valor** separados por comas entre llaves `{}`"
   ]
  },
  {
   "cell_type": "code",
   "execution_count": 3,
   "id": "a3bc1ff1",
   "metadata": {
    "slideshow": {
     "slide_type": "slide"
    }
   },
   "outputs": [
    {
     "data": {
      "text/plain": [
       "{1: 'hola', 89: 'Pythonista', 'a': 'b', 'c': 27}"
      ]
     },
     "execution_count": 3,
     "metadata": {},
     "output_type": "execute_result"
    }
   ],
   "source": [
    "d = {1: 'hola', 89: 'Pythonista', 'a': 'b', 'c': 27}\n",
    "d "
   ]
  },
  {
   "cell_type": "markdown",
   "id": "a88ff79c",
   "metadata": {
    "slideshow": {
     "slide_type": "slide"
    }
   },
   "source": [
    "En el diccionario anterior, los enteros 1 y 89 y las cadenas 'a' y 'c' son las claves. "
   ]
  },
  {
   "cell_type": "markdown",
   "id": "816c0c24",
   "metadata": {
    "slideshow": {
     "slide_type": "slide"
    }
   },
   "source": [
    "Como ves, se pueden mezclar claves y valores de distinto tipo sin problema."
   ]
  },
  {
   "cell_type": "markdown",
   "id": "351da135",
   "metadata": {
    "slideshow": {
     "slide_type": "slide"
    }
   },
   "source": [
    "Para crear un diccionario vacío, simplemente asigna a una variable el valor `{}`."
   ]
  },
  {
   "cell_type": "code",
   "execution_count": 4,
   "id": "7281fee8",
   "metadata": {},
   "outputs": [],
   "source": [
    "diccionario_vacio = {} "
   ]
  },
  {
   "cell_type": "code",
   "execution_count": 5,
   "id": "c16cb000",
   "metadata": {},
   "outputs": [
    {
     "data": {
      "text/plain": [
       "{}"
      ]
     },
     "execution_count": 5,
     "metadata": {},
     "output_type": "execute_result"
    }
   ],
   "source": [
    "diccionario_vacio "
   ]
  },
  {
   "cell_type": "markdown",
   "id": "80bbf2f2",
   "metadata": {
    "slideshow": {
     "slide_type": "slide"
    }
   },
   "source": [
    "También se puede usar el constructor de la clase `dict()` de varias maneras:"
   ]
  },
  {
   "cell_type": "markdown",
   "id": "9ac942df",
   "metadata": {
    "slideshow": {
     "slide_type": "slide"
    }
   },
   "source": [
    "* Sin parámetros. Esto creará un diccionario vacío.\n",
    "* Con pares clave: valor encerrados entre llaves.\n",
    "* Con argumentos con nombre. El nombre del argumento será la clave en el diccionario. En este caso, las claves solo pueden ser identificadores válidos y mantienen el orden en el que se indican. No se podría, por ejemplo, tener números enteros como claves."
   ]
  },
  {
   "cell_type": "markdown",
   "id": "18ed136c",
   "metadata": {
    "slideshow": {
     "slide_type": "slide"
    }
   },
   "source": [
    "* Pasando un iterable. En este caso, cada elemento del iterable debe ser también un iterable con solo dos elementos. "
   ]
  },
  {
   "cell_type": "markdown",
   "id": "fd5b214d",
   "metadata": {
    "slideshow": {
     "slide_type": "slide"
    }
   },
   "source": [
    "El primero se toma como clave del diccionario y el segundo como valor. "
   ]
  },
  {
   "cell_type": "markdown",
   "id": "8642ec7a",
   "metadata": {
    "slideshow": {
     "slide_type": "slide"
    }
   },
   "source": [
    "Si la clave aparece varias veces, el valor que prevalece es el último."
   ]
  },
  {
   "cell_type": "markdown",
   "id": "2a769f95",
   "metadata": {
    "slideshow": {
     "slide_type": "slide"
    }
   },
   "source": [
    "Veamos un ejemplo con todo lo anterior. "
   ]
  },
  {
   "cell_type": "markdown",
   "id": "62589417",
   "metadata": {
    "slideshow": {
     "slide_type": "slide"
    }
   },
   "source": [
    "Vamos a crear el mismo diccionario de todos los modos que te he explicado:"
   ]
  },
  {
   "cell_type": "code",
   "execution_count": 6,
   "id": "1fabfd5b",
   "metadata": {
    "slideshow": {
     "slide_type": "slide"
    }
   },
   "outputs": [
    {
     "data": {
      "text/plain": [
       "{'uno': 1, 'dos': 2, 'tres': 3}"
      ]
     },
     "execution_count": 6,
     "metadata": {},
     "output_type": "execute_result"
    }
   ],
   "source": [
    "# 1. Pares clave: valor encerrados entre llaves\n",
    "d = {'uno': 1, 'dos': 2, 'tres': 3}\n",
    "d"
   ]
  },
  {
   "cell_type": "code",
   "execution_count": 7,
   "id": "86b2e3d0",
   "metadata": {
    "slideshow": {
     "slide_type": "slide"
    }
   },
   "outputs": [
    {
     "data": {
      "text/plain": [
       "{'uno': 1, 'dos': 2, 'tres': 3}"
      ]
     },
     "execution_count": 7,
     "metadata": {},
     "output_type": "execute_result"
    }
   ],
   "source": [
    "# 2. Argumentos con nombre\n",
    "d2 = dict(uno=1, dos=2, tres=3)\n",
    "d2"
   ]
  },
  {
   "cell_type": "code",
   "execution_count": 8,
   "id": "4f49d023",
   "metadata": {
    "slideshow": {
     "slide_type": "slide"
    }
   },
   "outputs": [
    {
     "data": {
      "text/plain": [
       "{'uno': 1, 'dos': 2, 'tres': 3}"
      ]
     },
     "execution_count": 8,
     "metadata": {},
     "output_type": "execute_result"
    }
   ],
   "source": [
    "# 3. Pares clave: valor encerrados entre llaves\n",
    "d3 = dict({'uno': 1, 'dos': 2, 'tres': 3})\n",
    "d3"
   ]
  },
  {
   "cell_type": "code",
   "execution_count": 9,
   "id": "f384527d",
   "metadata": {
    "slideshow": {
     "slide_type": "slide"
    }
   },
   "outputs": [
    {
     "data": {
      "text/plain": [
       "{'uno': 1, 'dos': 2, 'tres': 3}"
      ]
     },
     "execution_count": 9,
     "metadata": {},
     "output_type": "execute_result"
    }
   ],
   "source": [
    "# 4. Iterable que contiene iterables con dos elementos\n",
    "d4 = dict([('uno', 1), ('dos', 2), ('tres', 3)])\n",
    "d4"
   ]
  },
  {
   "cell_type": "code",
   "execution_count": 10,
   "id": "5274b8f1",
   "metadata": {
    "slideshow": {
     "slide_type": "slide"
    }
   },
   "outputs": [
    {
     "data": {
      "text/plain": [
       "{}"
      ]
     },
     "execution_count": 10,
     "metadata": {},
     "output_type": "execute_result"
    }
   ],
   "source": [
    "# 5. Diccionario vacío\n",
    "d5 = {}\n",
    "d5"
   ]
  },
  {
   "cell_type": "code",
   "execution_count": 11,
   "id": "4d42e8d0",
   "metadata": {
    "slideshow": {
     "slide_type": "slide"
    }
   },
   "outputs": [
    {
     "data": {
      "text/plain": [
       "{}"
      ]
     },
     "execution_count": 11,
     "metadata": {},
     "output_type": "execute_result"
    }
   ],
   "source": [
    "# 6. Diccionario vacío usando el constructor\n",
    "d6 = dict()\n",
    "d6"
   ]
  },
  {
   "cell_type": "markdown",
   "id": "6280c1f9",
   "metadata": {
    "slideshow": {
     "slide_type": "slide"
    }
   },
   "source": [
    "## Cómo acceder a los elementos de un diccionario en Python"
   ]
  },
  {
   "cell_type": "markdown",
   "id": "d1367e8e",
   "metadata": {
    "slideshow": {
     "slide_type": "slide"
    }
   },
   "source": [
    "Acceder a un elemento de un diccionario es una de las principales operaciones por las que existe este tipo de dato. "
   ]
  },
  {
   "cell_type": "markdown",
   "id": "0b5367cf",
   "metadata": {
    "slideshow": {
     "slide_type": "slide"
    }
   },
   "source": [
    "El acceso a un valor se realiza mediante indexación de la clave. "
   ]
  },
  {
   "cell_type": "markdown",
   "id": "da71f7e3",
   "metadata": {
    "slideshow": {
     "slide_type": "slide"
    }
   },
   "source": [
    "Para ello, simplemente encierra entre corchetes la clave del elemento `d[clave]`. "
   ]
  },
  {
   "cell_type": "markdown",
   "id": "ecc0c7ec",
   "metadata": {
    "slideshow": {
     "slide_type": "slide"
    }
   },
   "source": [
    "En caso de que la clave no exista, se lanzará la excepción `KeyError`."
   ]
  },
  {
   "cell_type": "code",
   "execution_count": 12,
   "id": "fa55ff21",
   "metadata": {
    "slideshow": {
     "slide_type": "slide"
    }
   },
   "outputs": [
    {
     "data": {
      "text/plain": [
       "2"
      ]
     },
     "execution_count": 12,
     "metadata": {},
     "output_type": "execute_result"
    }
   ],
   "source": [
    "d = {'uno': 1, 'dos': 2, 'tres': 3}\n",
    "d['dos']"
   ]
  },
  {
   "cell_type": "code",
   "execution_count": 13,
   "id": "3fa7c746",
   "metadata": {
    "slideshow": {
     "slide_type": "slide"
    }
   },
   "outputs": [
    {
     "ename": "KeyError",
     "evalue": "4",
     "output_type": "error",
     "traceback": [
      "\u001b[1;31m---------------------------------------------------------------------------\u001b[0m",
      "\u001b[1;31mKeyError\u001b[0m                                  Traceback (most recent call last)",
      "\u001b[1;32m<ipython-input-13-31c4f4ce9503>\u001b[0m in \u001b[0;36m<module>\u001b[1;34m\u001b[0m\n\u001b[1;32m----> 1\u001b[1;33m \u001b[0md\u001b[0m\u001b[1;33m[\u001b[0m\u001b[1;36m4\u001b[0m\u001b[1;33m]\u001b[0m\u001b[1;33m\u001b[0m\u001b[1;33m\u001b[0m\u001b[0m\n\u001b[0m",
      "\u001b[1;31mKeyError\u001b[0m: 4"
     ]
    }
   ],
   "source": [
    "d[4]\n"
   ]
  },
  {
   "cell_type": "markdown",
   "id": "19e78fa7",
   "metadata": {
    "slideshow": {
     "slide_type": "slide"
    }
   },
   "source": [
    "La clase `dict` también ofrece el método `get(clave[, valor por defecto])`. "
   ]
  },
  {
   "cell_type": "markdown",
   "id": "890629e7",
   "metadata": {
    "slideshow": {
     "slide_type": "slide"
    }
   },
   "source": [
    "Este método devuelve el valor correspondiente a la clave dada. "
   ]
  },
  {
   "cell_type": "markdown",
   "id": "036aa941",
   "metadata": {
    "slideshow": {
     "slide_type": "slide"
    }
   },
   "source": [
    "En caso de que la clave no exista no lanza ningún error, sino que devuelve el segundo argumento valor por defecto. "
   ]
  },
  {
   "cell_type": "markdown",
   "id": "8a9fed1b",
   "metadata": {
    "slideshow": {
     "slide_type": "slide"
    }
   },
   "source": [
    "Si no se proporciona este argumento, se devuelve el valor `None`."
   ]
  },
  {
   "cell_type": "code",
   "execution_count": 14,
   "id": "34b8a42f",
   "metadata": {
    "slideshow": {
     "slide_type": "slide"
    }
   },
   "outputs": [
    {
     "data": {
      "text/plain": [
       "1"
      ]
     },
     "execution_count": 14,
     "metadata": {},
     "output_type": "execute_result"
    }
   ],
   "source": [
    "d = {'uno': 1, 'dos': 2, 'tres': 3}\n",
    "d.get('uno')"
   ]
  },
  {
   "cell_type": "code",
   "execution_count": 16,
   "id": "d1be0d72",
   "metadata": {
    "slideshow": {
     "slide_type": "slide"
    }
   },
   "outputs": [
    {
     "data": {
      "text/plain": [
       "4"
      ]
     },
     "execution_count": 16,
     "metadata": {},
     "output_type": "execute_result"
    }
   ],
   "source": [
    "# Devuelve 4 como valor por defecto si no encuentra la clave\n",
    "d.get('cuatro', 4) "
   ]
  },
  {
   "cell_type": "code",
   "execution_count": 18,
   "id": "7bb75089",
   "metadata": {
    "slideshow": {
     "slide_type": "slide"
    }
   },
   "outputs": [
    {
     "name": "stdout",
     "output_type": "stream",
     "text": [
      "None\n"
     ]
    }
   ],
   "source": [
    "# Devuelve None como valor por defecto si no encuentra la clave\n",
    "a = d.get('cuatro')\n",
    "print(a) "
   ]
  },
  {
   "cell_type": "code",
   "execution_count": 6,
   "id": "48fe1414",
   "metadata": {
    "slideshow": {
     "slide_type": "slide"
    }
   },
   "outputs": [
    {
     "data": {
      "text/plain": [
       "NoneType"
      ]
     },
     "execution_count": 6,
     "metadata": {},
     "output_type": "execute_result"
    }
   ],
   "source": [
    "type(a)\n"
   ]
  },
  {
   "cell_type": "markdown",
   "id": "a47221bc",
   "metadata": {
    "slideshow": {
     "slide_type": "slide"
    }
   },
   "source": [
    "## for dict Python – Recorrer un diccionario"
   ]
  },
  {
   "cell_type": "markdown",
   "id": "a4ea8a08",
   "metadata": {
    "slideshow": {
     "slide_type": "slide"
    }
   },
   "source": [
    "Hay varias formas de recorrer los elementos de un diccionario: \n",
    "\n",
    "* recorrer solo las claves, \n",
    "* solo los valores o \n",
    "* recorrer a la vez las claves y los valores. "
   ]
  },
  {
   "cell_type": "markdown",
   "id": "56625103",
   "metadata": {
    "slideshow": {
     "slide_type": "slide"
    }
   },
   "source": [
    "Puedes ver aquí cómo usar el bucle `for` para recorrer un diccionario."
   ]
  },
  {
   "cell_type": "code",
   "execution_count": 19,
   "id": "80be0722",
   "metadata": {
    "slideshow": {
     "slide_type": "slide"
    }
   },
   "outputs": [
    {
     "name": "stdout",
     "output_type": "stream",
     "text": [
      "uno\n",
      "dos\n",
      "tres\n"
     ]
    }
   ],
   "source": [
    "d = {'uno': 1, 'dos': 2, 'tres': 3} # De esta forma se obtienen las claves del diccionario. \n",
    "for e in d:\n",
    "    print(e)"
   ]
  },
  {
   "cell_type": "code",
   "execution_count": 20,
   "id": "945fdfb1",
   "metadata": {
    "slideshow": {
     "slide_type": "slide"
    }
   },
   "outputs": [
    {
     "name": "stdout",
     "output_type": "stream",
     "text": [
      "uno\n",
      "dos\n",
      "tres\n"
     ]
    }
   ],
   "source": [
    "# Recorrer las claves del diccionario\n",
    ">>> for k in d.keys():\n",
    "...     print(k)"
   ]
  },
  {
   "cell_type": "code",
   "execution_count": 21,
   "id": "47e0d5af",
   "metadata": {
    "slideshow": {
     "slide_type": "slide"
    }
   },
   "outputs": [
    {
     "name": "stdout",
     "output_type": "stream",
     "text": [
      "1\n",
      "2\n",
      "3\n"
     ]
    }
   ],
   "source": [
    "# Recorrer los valores del diccionario\n",
    "for v in d.values():\n",
    "    print(v)"
   ]
  },
  {
   "cell_type": "code",
   "execution_count": 22,
   "id": "caed5bc2",
   "metadata": {
    "slideshow": {
     "slide_type": "slide"
    }
   },
   "outputs": [
    {
     "name": "stdout",
     "output_type": "stream",
     "text": [
      "('uno', 1)\n",
      "('dos', 2)\n",
      "('tres', 3)\n"
     ]
    }
   ],
   "source": [
    "# Recorrer los pares clave valor\n",
    "for i in d.items():\n",
    "    print(i)\n"
   ]
  },
  {
   "cell_type": "markdown",
   "id": "72e63e55",
   "metadata": {
    "slideshow": {
     "slide_type": "slide"
    }
   },
   "source": [
    "## Añadir elementos a un diccionario en Python"
   ]
  },
  {
   "cell_type": "markdown",
   "id": "51d24c40",
   "metadata": {
    "slideshow": {
     "slide_type": "slide"
    }
   },
   "source": [
    "Como hemos dicho, la clase `dict` **es mutable**, por lo que se pueden añadir, modificar y/o eliminar elementos después de haber creado un objeto de este tipo."
   ]
  },
  {
   "cell_type": "markdown",
   "id": "128763fc",
   "metadata": {
    "slideshow": {
     "slide_type": "slide"
    }
   },
   "source": [
    "Para añadir un nuevo elemento a un diccionario existente, se usa el operador de asignación `=`. "
   ]
  },
  {
   "cell_type": "markdown",
   "id": "559b139a",
   "metadata": {
    "slideshow": {
     "slide_type": "slide"
    }
   },
   "source": [
    "A la izquierda del operador aparece el objeto diccionario con la nueva clave entre corchetes `[]` y a la derecha el valor que se asocia a dicha clave."
   ]
  },
  {
   "cell_type": "code",
   "execution_count": 23,
   "id": "7b5ea937",
   "metadata": {
    "slideshow": {
     "slide_type": "slide"
    }
   },
   "outputs": [
    {
     "data": {
      "text/plain": [
       "{'uno': 1, 'dos': 2}"
      ]
     },
     "execution_count": 23,
     "metadata": {},
     "output_type": "execute_result"
    }
   ],
   "source": [
    "d = {'uno': 1, 'dos': 2}\n",
    "d\n"
   ]
  },
  {
   "cell_type": "code",
   "execution_count": 24,
   "id": "5afacc2f",
   "metadata": {
    "slideshow": {
     "slide_type": "slide"
    }
   },
   "outputs": [
    {
     "data": {
      "text/plain": [
       "{'uno': 1, 'dos': 2, 'tres': 3}"
      ]
     },
     "execution_count": 24,
     "metadata": {},
     "output_type": "execute_result"
    }
   ],
   "source": [
    "# Añade un nuevo elemento al diccionario\n",
    "d['tres'] = 3\n",
    "d\n"
   ]
  },
  {
   "cell_type": "markdown",
   "id": "78979a4d",
   "metadata": {
    "slideshow": {
     "slide_type": "slide"
    }
   },
   "source": [
    "### NOTA:  \n",
    "\n",
    "Si la clave ya existe en el diccionario, se actualiza su valor."
   ]
  },
  {
   "cell_type": "code",
   "execution_count": 25,
   "id": "41fad598",
   "metadata": {},
   "outputs": [],
   "source": [
    "d['tres']=1213"
   ]
  },
  {
   "cell_type": "code",
   "execution_count": 26,
   "id": "24bbb3da",
   "metadata": {},
   "outputs": [
    {
     "data": {
      "text/plain": [
       "{'uno': 1, 'dos': 2, 'tres': 1213}"
      ]
     },
     "execution_count": 26,
     "metadata": {},
     "output_type": "execute_result"
    }
   ],
   "source": [
    "d "
   ]
  },
  {
   "cell_type": "markdown",
   "id": "a3c98f8d",
   "metadata": {
    "slideshow": {
     "slide_type": "slide"
    }
   },
   "source": [
    "También existe el método `setdefault(clave[, valor])`. "
   ]
  },
  {
   "cell_type": "markdown",
   "id": "55909597",
   "metadata": {
    "slideshow": {
     "slide_type": "slide"
    }
   },
   "source": [
    "Este método devuelve el valor de la clave si ya existe y, en caso contrario, le asigna el valor que se pasa como segundo argumento. "
   ]
  },
  {
   "cell_type": "markdown",
   "id": "1dcbf358",
   "metadata": {
    "slideshow": {
     "slide_type": "slide"
    }
   },
   "source": [
    "Si no se especifica este segundo argumento, por defecto es `None`."
   ]
  },
  {
   "cell_type": "code",
   "execution_count": 29,
   "id": "4e38bf57",
   "metadata": {
    "slideshow": {
     "slide_type": "slide"
    }
   },
   "outputs": [
    {
     "data": {
      "text/plain": [
       "1"
      ]
     },
     "execution_count": 29,
     "metadata": {},
     "output_type": "execute_result"
    }
   ],
   "source": [
    "d = {'uno': 1, 'dos': 2}\n",
    "d.setdefault('uno', 1.0) "
   ]
  },
  {
   "cell_type": "code",
   "execution_count": 28,
   "id": "8769f668",
   "metadata": {},
   "outputs": [
    {
     "data": {
      "text/plain": [
       "int"
      ]
     },
     "execution_count": 28,
     "metadata": {},
     "output_type": "execute_result"
    }
   ],
   "source": [
    "type(d['uno']) "
   ]
  },
  {
   "cell_type": "code",
   "execution_count": 33,
   "id": "ca294766",
   "metadata": {},
   "outputs": [],
   "source": [
    "d.setdefault('seis') "
   ]
  },
  {
   "cell_type": "code",
   "execution_count": 34,
   "id": "cb0bcd18",
   "metadata": {},
   "outputs": [
    {
     "data": {
      "text/plain": [
       "{'uno': 1, 'dos': 2, 'cinco': 513, 'seis': None}"
      ]
     },
     "execution_count": 34,
     "metadata": {},
     "output_type": "execute_result"
    }
   ],
   "source": [
    "d "
   ]
  },
  {
   "cell_type": "code",
   "execution_count": 35,
   "id": "d5f0d37b",
   "metadata": {
    "slideshow": {
     "slide_type": "slide"
    }
   },
   "outputs": [
    {
     "data": {
      "text/plain": [
       "3"
      ]
     },
     "execution_count": 35,
     "metadata": {},
     "output_type": "execute_result"
    }
   ],
   "source": [
    "d.setdefault('tres', 3)"
   ]
  },
  {
   "cell_type": "code",
   "execution_count": 20,
   "id": "5b62dea1",
   "metadata": {
    "slideshow": {
     "slide_type": "slide"
    }
   },
   "outputs": [
    {
     "data": {
      "text/plain": [
       "{'uno': 1, 'dos': 2, 'tres': 3, 'cuatro': None}"
      ]
     },
     "execution_count": 20,
     "metadata": {},
     "output_type": "execute_result"
    }
   ],
   "source": [
    "d.setdefault('cuatro')\n",
    "d\n"
   ]
  },
  {
   "cell_type": "markdown",
   "id": "a36afb37",
   "metadata": {
    "slideshow": {
     "slide_type": "slide"
    }
   },
   "source": [
    "## Modificar elementos de un diccionario  "
   ]
  },
  {
   "cell_type": "markdown",
   "id": "d20851b9",
   "metadata": {
    "slideshow": {
     "slide_type": "slide"
    }
   },
   "source": [
    "En el apartado anterior hemos visto que para actualizar el valor asociado a una clave, simplemente se asigna un nuevo valor a dicha clave del diccionario."
   ]
  },
  {
   "cell_type": "code",
   "execution_count": 36,
   "id": "d9f310b5",
   "metadata": {
    "slideshow": {
     "slide_type": "slide"
    }
   },
   "outputs": [
    {
     "data": {
      "text/plain": [
       "{'uno': 1, 'dos': 2}"
      ]
     },
     "execution_count": 36,
     "metadata": {},
     "output_type": "execute_result"
    }
   ],
   "source": [
    "d = {'uno': 1, 'dos': 2}\n",
    "d"
   ]
  },
  {
   "cell_type": "code",
   "execution_count": 39,
   "id": "a557ed13",
   "metadata": {
    "slideshow": {
     "slide_type": "slide"
    }
   },
   "outputs": [
    {
     "data": {
      "text/plain": [
       "{'uno': 1.0, 'dos': 2}"
      ]
     },
     "execution_count": 39,
     "metadata": {},
     "output_type": "execute_result"
    }
   ],
   "source": [
    "d['uno'] = 1.0\n",
    "d"
   ]
  },
  {
   "cell_type": "code",
   "execution_count": 38,
   "id": "a5372291",
   "metadata": {
    "slideshow": {
     "slide_type": "slide"
    }
   },
   "outputs": [
    {
     "data": {
      "text/plain": [
       "float"
      ]
     },
     "execution_count": 38,
     "metadata": {},
     "output_type": "execute_result"
    }
   ],
   "source": [
    "type(d['uno'])"
   ]
  },
  {
   "cell_type": "markdown",
   "id": "e24b6274",
   "metadata": {
    "slideshow": {
     "slide_type": "slide"
    }
   },
   "source": [
    "## Eliminar un elemento de un diccionario en Python"
   ]
  },
  {
   "cell_type": "markdown",
   "id": "af8e8814",
   "metadata": {
    "slideshow": {
     "slide_type": "slide"
    }
   },
   "source": [
    "En Python existen diversos modos de eliminar un elemento de un diccionario. Son los siguientes:"
   ]
  },
  {
   "cell_type": "markdown",
   "id": "96f040f0",
   "metadata": {
    "slideshow": {
     "slide_type": "slide"
    }
   },
   "source": [
    "`pop(clave [, valor por defecto])`: Si la clave está en el diccionario, elimina el elemento y devuelve su valor; si no, devuelve el valor por defecto. "
   ]
  },
  {
   "cell_type": "markdown",
   "id": "9a952cca",
   "metadata": {
    "slideshow": {
     "slide_type": "slide"
    }
   },
   "source": [
    "Si no se proporciona el valor por defecto y la clave no está en el diccionario, se lanza la excepción KeyError."
   ]
  },
  {
   "cell_type": "markdown",
   "id": "bfb4b89b",
   "metadata": {
    "slideshow": {
     "slide_type": "slide"
    }
   },
   "source": [
    "`popitem()`: Elimina el último par `clave: valor` del diccionario y lo devuelve. "
   ]
  },
  {
   "cell_type": "markdown",
   "id": "305ebc13",
   "metadata": {
    "slideshow": {
     "slide_type": "slide"
    }
   },
   "source": [
    "Si el diccionario está vacío se lanza la excepción KeyError. "
   ]
  },
  {
   "cell_type": "markdown",
   "id": "785af7b1",
   "metadata": {
    "slideshow": {
     "slide_type": "slide"
    }
   },
   "source": [
    "(NOTA: En versiones anteriores a Python 3.7, se elimina/devuelve un par aleatorio, no se garantiza que sea el último)."
   ]
  },
  {
   "cell_type": "markdown",
   "id": "b3074855",
   "metadata": {
    "slideshow": {
     "slide_type": "slide"
    }
   },
   "source": [
    "`del d[clave]`: Elimina el par clave: valor. Si no existe la clave, se lanza la excepción KeyError."
   ]
  },
  {
   "cell_type": "markdown",
   "id": "a1dbad09",
   "metadata": {
    "slideshow": {
     "slide_type": "slide"
    }
   },
   "source": [
    "`clear()`: Borra todos los pares clave: valor del diccionario."
   ]
  },
  {
   "cell_type": "code",
   "execution_count": 40,
   "id": "13f9af05",
   "metadata": {
    "slideshow": {
     "slide_type": "slide"
    }
   },
   "outputs": [],
   "source": [
    "d = {'uno': 1, 'dos': 2, 'tres': 3, 'cuatro': 4, 'cinco': 5}"
   ]
  },
  {
   "cell_type": "code",
   "execution_count": 41,
   "id": "409674f7",
   "metadata": {
    "slideshow": {
     "slide_type": "slide"
    }
   },
   "outputs": [
    {
     "data": {
      "text/plain": [
       "1"
      ]
     },
     "execution_count": 41,
     "metadata": {},
     "output_type": "execute_result"
    }
   ],
   "source": [
    "# Elimina un elemento con pop()\n",
    "d.pop('uno')"
   ]
  },
  {
   "cell_type": "code",
   "execution_count": 42,
   "id": "5dbbd8e7",
   "metadata": {
    "slideshow": {
     "slide_type": "slide"
    }
   },
   "outputs": [
    {
     "data": {
      "text/plain": [
       "{'dos': 2, 'tres': 3, 'cuatro': 4, 'cinco': 5}"
      ]
     },
     "execution_count": 42,
     "metadata": {},
     "output_type": "execute_result"
    }
   ],
   "source": [
    "d"
   ]
  },
  {
   "cell_type": "code",
   "execution_count": 43,
   "id": "e54b5e35",
   "metadata": {
    "slideshow": {
     "slide_type": "slide"
    }
   },
   "outputs": [
    {
     "ename": "KeyError",
     "evalue": "6",
     "output_type": "error",
     "traceback": [
      "\u001b[1;31m---------------------------------------------------------------------------\u001b[0m",
      "\u001b[1;31mKeyError\u001b[0m                                  Traceback (most recent call last)",
      "\u001b[1;32m<ipython-input-43-aa9517912f88>\u001b[0m in \u001b[0;36m<module>\u001b[1;34m\u001b[0m\n\u001b[0;32m      1\u001b[0m \u001b[1;31m# Trata de eliminar una clave con pop() que no existe\u001b[0m\u001b[1;33m\u001b[0m\u001b[1;33m\u001b[0m\u001b[1;33m\u001b[0m\u001b[0m\n\u001b[1;32m----> 2\u001b[1;33m \u001b[0md\u001b[0m\u001b[1;33m.\u001b[0m\u001b[0mpop\u001b[0m\u001b[1;33m(\u001b[0m\u001b[1;36m6\u001b[0m\u001b[1;33m)\u001b[0m\u001b[1;33m\u001b[0m\u001b[1;33m\u001b[0m\u001b[0m\n\u001b[0m",
      "\u001b[1;31mKeyError\u001b[0m: 6"
     ]
    }
   ],
   "source": [
    "# Trata de eliminar una clave con pop() que no existe\n",
    "d.pop(6)"
   ]
  },
  {
   "cell_type": "code",
   "execution_count": 44,
   "id": "b2eed221",
   "metadata": {},
   "outputs": [
    {
     "data": {
      "text/plain": [
       "{'dos': 2, 'tres': 3, 'cuatro': 4, 'cinco': 5}"
      ]
     },
     "execution_count": 44,
     "metadata": {},
     "output_type": "execute_result"
    }
   ],
   "source": [
    "d "
   ]
  },
  {
   "cell_type": "code",
   "execution_count": 46,
   "id": "a2b5adf5",
   "metadata": {
    "slideshow": {
     "slide_type": "slide"
    }
   },
   "outputs": [
    {
     "data": {
      "text/plain": [
       "('cuatro', 4)"
      ]
     },
     "execution_count": 46,
     "metadata": {},
     "output_type": "execute_result"
    }
   ],
   "source": [
    "# Elimina el último par clave valor con popitem()\n",
    "d.popitem()"
   ]
  },
  {
   "cell_type": "code",
   "execution_count": 47,
   "id": "405f3434",
   "metadata": {
    "slideshow": {
     "slide_type": "slide"
    }
   },
   "outputs": [
    {
     "data": {
      "text/plain": [
       "{'dos': 2, 'tres': 3}"
      ]
     },
     "execution_count": 47,
     "metadata": {},
     "output_type": "execute_result"
    }
   ],
   "source": [
    "d"
   ]
  },
  {
   "cell_type": "code",
   "execution_count": 48,
   "id": "93a7b610",
   "metadata": {
    "slideshow": {
     "slide_type": "slide"
    }
   },
   "outputs": [
    {
     "data": {
      "text/plain": [
       "{'dos': 2}"
      ]
     },
     "execution_count": 48,
     "metadata": {},
     "output_type": "execute_result"
    }
   ],
   "source": [
    "# Elimina un elemento con del\n",
    "del d['tres']\n",
    "d"
   ]
  },
  {
   "cell_type": "code",
   "execution_count": 49,
   "id": "fbe8e50c",
   "metadata": {
    "slideshow": {
     "slide_type": "slide"
    }
   },
   "outputs": [
    {
     "ename": "KeyError",
     "evalue": "'seis'",
     "output_type": "error",
     "traceback": [
      "\u001b[1;31m---------------------------------------------------------------------------\u001b[0m",
      "\u001b[1;31mKeyError\u001b[0m                                  Traceback (most recent call last)",
      "\u001b[1;32m<ipython-input-49-956552a1fc5d>\u001b[0m in \u001b[0;36m<module>\u001b[1;34m\u001b[0m\n\u001b[0;32m      1\u001b[0m \u001b[1;31m# Trata de eliminar una clave con del que no existe\u001b[0m\u001b[1;33m\u001b[0m\u001b[1;33m\u001b[0m\u001b[1;33m\u001b[0m\u001b[0m\n\u001b[1;32m----> 2\u001b[1;33m \u001b[1;32mdel\u001b[0m \u001b[0md\u001b[0m\u001b[1;33m[\u001b[0m\u001b[1;34m'seis'\u001b[0m\u001b[1;33m]\u001b[0m\u001b[1;33m\u001b[0m\u001b[1;33m\u001b[0m\u001b[0m\n\u001b[0m",
      "\u001b[1;31mKeyError\u001b[0m: 'seis'"
     ]
    }
   ],
   "source": [
    "# Trata de eliminar una clave con del que no existe\n",
    "del d['seis']"
   ]
  },
  {
   "cell_type": "code",
   "execution_count": 50,
   "id": "3d5a8fca",
   "metadata": {
    "slideshow": {
     "slide_type": "slide"
    }
   },
   "outputs": [],
   "source": [
    "# Borra todos los elementos del diccionario el método clear() \n",
    "d.clear()"
   ]
  },
  {
   "cell_type": "code",
   "execution_count": 51,
   "id": "b408a02d",
   "metadata": {
    "slideshow": {
     "slide_type": "slide"
    }
   },
   "outputs": [
    {
     "data": {
      "text/plain": [
       "{}"
      ]
     },
     "execution_count": 51,
     "metadata": {},
     "output_type": "execute_result"
    }
   ],
   "source": [
    "d\n"
   ]
  },
  {
   "cell_type": "markdown",
   "id": "9b2a6d40",
   "metadata": {
    "slideshow": {
     "slide_type": "slide"
    }
   },
   "source": [
    "## Número de elementos (`len`) de un diccionario en Python"
   ]
  },
  {
   "cell_type": "markdown",
   "id": "ab8e51a4",
   "metadata": {
    "slideshow": {
     "slide_type": "slide"
    }
   },
   "source": [
    "Al igual que sucede con otros tipos contenedores, se puede usar la función de Python len() para obtener el número de elementos de un diccionario."
   ]
  },
  {
   "cell_type": "code",
   "execution_count": 52,
   "id": "b8d48caf",
   "metadata": {
    "slideshow": {
     "slide_type": "slide"
    }
   },
   "outputs": [],
   "source": [
    "d = {'uno': 1, 'dos': 2, 'tres': 3}"
   ]
  },
  {
   "cell_type": "code",
   "execution_count": 53,
   "id": "31fc31fe",
   "metadata": {
    "slideshow": {
     "slide_type": "slide"
    }
   },
   "outputs": [
    {
     "data": {
      "text/plain": [
       "3"
      ]
     },
     "execution_count": 53,
     "metadata": {},
     "output_type": "execute_result"
    }
   ],
   "source": [
    "len(d)"
   ]
  },
  {
   "cell_type": "markdown",
   "id": "ea7795f9",
   "metadata": {
    "slideshow": {
     "slide_type": "slide"
    }
   },
   "source": [
    "## Comprobar si un elemento está en un diccionario en Python"
   ]
  },
  {
   "cell_type": "markdown",
   "id": "12712fab",
   "metadata": {
    "slideshow": {
     "slide_type": "slide"
    }
   },
   "source": [
    "Al operar con diccionarios, se puede usar el operador de pertenencia in para comprobar si una clave está contenida, o no, en un diccionario. Esto resulta útil, por ejemplo, para asegurarnos de que una clave existe antes de intentar eliminarla."
   ]
  },
  {
   "cell_type": "code",
   "execution_count": 23,
   "id": "54a43b7f",
   "metadata": {
    "slideshow": {
     "slide_type": "slide"
    }
   },
   "outputs": [
    {
     "name": "stdout",
     "output_type": "stream",
     "text": [
      "True\n"
     ]
    }
   ],
   "source": [
    ">>> print('uno' in d)"
   ]
  },
  {
   "cell_type": "code",
   "execution_count": 24,
   "id": "ad22fdcb",
   "metadata": {
    "slideshow": {
     "slide_type": "slide"
    }
   },
   "outputs": [
    {
     "name": "stdout",
     "output_type": "stream",
     "text": [
      "False\n"
     ]
    }
   ],
   "source": [
    ">>> print(1 in d)"
   ]
  },
  {
   "cell_type": "code",
   "execution_count": null,
   "id": "6f1f1575",
   "metadata": {
    "slideshow": {
     "slide_type": "slide"
    }
   },
   "outputs": [],
   "source": [
    ">>> print(1 not in d)"
   ]
  },
  {
   "cell_type": "code",
   "execution_count": null,
   "id": "ba55a912",
   "metadata": {
    "slideshow": {
     "slide_type": "slide"
    }
   },
   "outputs": [],
   "source": [
    "# Intenta eliminar la clave 1 si existe\n",
    ">>> if 1 in d:\n",
    "...     del d[1]\n",
    "...     \n",
    ">>> d\n",
    "{'uno': 1, 'dos': 2, 'tres': 3}"
   ]
  },
  {
   "cell_type": "markdown",
   "id": "ec870e4b",
   "metadata": {
    "slideshow": {
     "slide_type": "slide"
    }
   },
   "source": [
    "## Comparar si dos diccionarios son iguales"
   ]
  },
  {
   "cell_type": "markdown",
   "id": "82cc3736",
   "metadata": {
    "slideshow": {
     "slide_type": "slide"
    }
   },
   "source": [
    "En Python se puede utilizar el operador de igualdad `==` para comparar si dos diccionarios son iguales. "
   ]
  },
  {
   "cell_type": "markdown",
   "id": "b1b2b49f",
   "metadata": {
    "slideshow": {
     "slide_type": "slide"
    }
   },
   "source": [
    "Dos diccionarios son iguales si contienen el mismo conjunto de pares `clave: valor`, independientemente del orden que tengan."
   ]
  },
  {
   "cell_type": "markdown",
   "id": "016486b0",
   "metadata": {
    "slideshow": {
     "slide_type": "slide"
    }
   },
   "source": [
    "Otro tipo de comparaciones entre diccionarios no están permitidas. "
   ]
  },
  {
   "cell_type": "markdown",
   "id": "776c540b",
   "metadata": {
    "slideshow": {
     "slide_type": "slide"
    }
   },
   "source": [
    "Si se intenta, el intérprete lanzará la excepción `TypeError`."
   ]
  },
  {
   "cell_type": "code",
   "execution_count": 54,
   "id": "5772c76f",
   "metadata": {
    "slideshow": {
     "slide_type": "slide"
    }
   },
   "outputs": [],
   "source": [
    "d1 = {'uno': 1, 'dos': 2}\n",
    "d2 = {'dos': 2, 'uno': 1}\n",
    "d3 = {'uno': 1}"
   ]
  },
  {
   "cell_type": "code",
   "execution_count": 55,
   "id": "0b03e103",
   "metadata": {
    "slideshow": {
     "slide_type": "slide"
    }
   },
   "outputs": [
    {
     "name": "stdout",
     "output_type": "stream",
     "text": [
      "True\n"
     ]
    }
   ],
   "source": [
    "print(d1 == d2)"
   ]
  },
  {
   "cell_type": "code",
   "execution_count": 56,
   "id": "0c76d5da",
   "metadata": {
    "slideshow": {
     "slide_type": "slide"
    }
   },
   "outputs": [
    {
     "name": "stdout",
     "output_type": "stream",
     "text": [
      "False\n"
     ]
    }
   ],
   "source": [
    "print(d1 == d3)"
   ]
  },
  {
   "cell_type": "code",
   "execution_count": 57,
   "id": "f5e0f8df",
   "metadata": {
    "slideshow": {
     "slide_type": "slide"
    }
   },
   "outputs": [
    {
     "ename": "TypeError",
     "evalue": "'>' not supported between instances of 'dict' and 'dict'",
     "output_type": "error",
     "traceback": [
      "\u001b[1;31m---------------------------------------------------------------------------\u001b[0m",
      "\u001b[1;31mTypeError\u001b[0m                                 Traceback (most recent call last)",
      "\u001b[1;32m<ipython-input-57-5d9c3568c4c0>\u001b[0m in \u001b[0;36m<module>\u001b[1;34m\u001b[0m\n\u001b[1;32m----> 1\u001b[1;33m \u001b[0mprint\u001b[0m\u001b[1;33m(\u001b[0m\u001b[0md1\u001b[0m \u001b[1;33m>\u001b[0m \u001b[0md2\u001b[0m\u001b[1;33m)\u001b[0m\u001b[1;33m\u001b[0m\u001b[1;33m\u001b[0m\u001b[0m\n\u001b[0m",
      "\u001b[1;31mTypeError\u001b[0m: '>' not supported between instances of 'dict' and 'dict'"
     ]
    }
   ],
   "source": [
    "print(d1 > d2)\n"
   ]
  },
  {
   "cell_type": "markdown",
   "id": "a379a61c",
   "metadata": {
    "slideshow": {
     "slide_type": "slide"
    }
   },
   "source": [
    "## Diccionarios anidados en Python"
   ]
  },
  {
   "cell_type": "markdown",
   "id": "3b862577",
   "metadata": {
    "slideshow": {
     "slide_type": "slide"
    }
   },
   "source": [
    "Un diccionario puede contener un valor de cualquier tipo, entre ellos, otro diccionario. Este hecho se conoce como diccionarios anidados."
   ]
  },
  {
   "cell_type": "markdown",
   "id": "5ef44a62",
   "metadata": {
    "slideshow": {
     "slide_type": "slide"
    }
   },
   "source": [
    "Para acceder al valor de una de las claves de un diccionario interno, se usa el operador de indexación anidada  \n",
    "`[clave1][clave2]...`"
   ]
  },
  {
   "cell_type": "markdown",
   "id": "91b8e93d",
   "metadata": {
    "slideshow": {
     "slide_type": "slide"
    }
   },
   "source": [
    "Veámoslo con un ejemplo:"
   ]
  },
  {
   "cell_type": "code",
   "execution_count": 58,
   "id": "158755e0",
   "metadata": {
    "slideshow": {
     "slide_type": "slide"
    }
   },
   "outputs": [
    {
     "data": {
      "text/plain": [
       "1"
      ]
     },
     "execution_count": 58,
     "metadata": {},
     "output_type": "execute_result"
    }
   ],
   "source": [
    "d = {'d1': {'k1': 1, 'k2': 2}, 'd2': {'k1': 3, 'k4': 4}}\n",
    "d['d1']['k1']"
   ]
  },
  {
   "cell_type": "code",
   "execution_count": 59,
   "id": "b2abe21f",
   "metadata": {
    "slideshow": {
     "slide_type": "slide"
    }
   },
   "outputs": [
    {
     "data": {
      "text/plain": [
       "3"
      ]
     },
     "execution_count": 59,
     "metadata": {},
     "output_type": "execute_result"
    }
   ],
   "source": [
    "d['d2']['k1']"
   ]
  },
  {
   "cell_type": "code",
   "execution_count": 60,
   "id": "e6c5a972",
   "metadata": {
    "slideshow": {
     "slide_type": "slide"
    }
   },
   "outputs": [
    {
     "data": {
      "text/plain": [
       "4"
      ]
     },
     "execution_count": 60,
     "metadata": {},
     "output_type": "execute_result"
    }
   ],
   "source": [
    "d['d2']['k4']"
   ]
  },
  {
   "cell_type": "code",
   "execution_count": 61,
   "id": "402e81f2",
   "metadata": {
    "slideshow": {
     "slide_type": "slide"
    }
   },
   "outputs": [
    {
     "ename": "KeyError",
     "evalue": "'d3'",
     "output_type": "error",
     "traceback": [
      "\u001b[1;31m---------------------------------------------------------------------------\u001b[0m",
      "\u001b[1;31mKeyError\u001b[0m                                  Traceback (most recent call last)",
      "\u001b[1;32m<ipython-input-61-15a37c5b5f5b>\u001b[0m in \u001b[0;36m<module>\u001b[1;34m\u001b[0m\n\u001b[1;32m----> 1\u001b[1;33m \u001b[0md\u001b[0m\u001b[1;33m[\u001b[0m\u001b[1;34m'd3'\u001b[0m\u001b[1;33m]\u001b[0m\u001b[1;33m[\u001b[0m\u001b[1;34m'k4'\u001b[0m\u001b[1;33m]\u001b[0m\u001b[1;33m\u001b[0m\u001b[1;33m\u001b[0m\u001b[0m\n\u001b[0m",
      "\u001b[1;31mKeyError\u001b[0m: 'd3'"
     ]
    }
   ],
   "source": [
    "d['d3']['k4']\n"
   ]
  },
  {
   "cell_type": "code",
   "execution_count": null,
   "id": "4fbf448a",
   "metadata": {
    "slideshow": {
     "slide_type": "slide"
    }
   },
   "outputs": [],
   "source": []
  },
  {
   "cell_type": "markdown",
   "id": "4be6a9ca",
   "metadata": {
    "slideshow": {
     "slide_type": "slide"
    }
   },
   "source": [
    "## Referentes\n",
    "\n",
    "* https://j2logo.com/python/tutorial/tipo-dict-python/ "
   ]
  },
  {
   "cell_type": "code",
   "execution_count": null,
   "id": "f99c2090",
   "metadata": {},
   "outputs": [],
   "source": []
  }
 ],
 "metadata": {
  "celltoolbar": "Slideshow",
  "kernelspec": {
   "display_name": "Python 3",
   "language": "python",
   "name": "python3"
  },
  "language_info": {
   "codemirror_mode": {
    "name": "ipython",
    "version": 3
   },
   "file_extension": ".py",
   "mimetype": "text/x-python",
   "name": "python",
   "nbconvert_exporter": "python",
   "pygments_lexer": "ipython3",
   "version": "3.8.8"
  },
  "latex_envs": {
   "LaTeX_envs_menu_present": true,
   "autoclose": false,
   "autocomplete": false,
   "bibliofile": "biblio.bib",
   "cite_by": "apalike",
   "current_citInitial": 1,
   "eqLabelWithNumbers": true,
   "eqNumInitial": 1,
   "hotkeys": {
    "equation": "Ctrl-E",
    "itemize": "Ctrl-I"
   },
   "labels_anchors": false,
   "latex_user_defs": false,
   "report_style_numbering": false,
   "user_envs_cfg": false
  },
  "rise": {
   "enable_chalkboard": true,
   "theme": "sky",
   "transition": "sky"
  }
 },
 "nbformat": 4,
 "nbformat_minor": 5
}
