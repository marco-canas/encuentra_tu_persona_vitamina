{
 "cells": [
  {
   "cell_type": "markdown",
   "id": "002067e4",
   "metadata": {
    "slideshow": {
     "slide_type": "slide"
    }
   },
   "source": [
    "<table align=\"left\">\n",
    "  <td>\n",
    "    <a href=\"https://colab.research.google.com/github/marco-canas/taca/blob/main/ref/geron/chap_2/5_prepare_for_algorithms/1_prepare_for_algorithms.ipynb\" target=\"_parent\"><img src=\"https://colab.research.google.com/assets/colab-badge.svg\" alt=\"Open In Colab\"/></a>\n",
    "  </td>\n",
    "  <td>\n",
    "    <a target=\"_blank\" href=\"https://kaggle.com/kernels/welcome?src=https://github.com/marco-canas/taca/blob/main/ref/geron/chap_2/5_prepare_for_algorithms/1_prepare_for_algorithms.ipynb\"><img src=\"https://kaggle.com/static/images/open-in-kaggle.svg\" /></a>\n",
    "  </td>\n",
    "</table> "
   ]
  },
  {
   "cell_type": "markdown",
   "id": "8ea075bb",
   "metadata": {
    "slideshow": {
     "slide_type": "slide"
    }
   },
   "source": [
    "# Clase 3 "
   ]
  },
  {
   "cell_type": "markdown",
   "id": "3d303bcd",
   "metadata": {
    "slideshow": {
     "slide_type": "slide"
    }
   },
   "source": [
    "# Capítulo 5\n",
    "## Funciones productivas"
   ]
  },
  {
   "cell_type": "markdown",
   "id": "3c560442",
   "metadata": {
    "slideshow": {
     "slide_type": "slide"
    }
   },
   "source": [
    "5.1. Valores de retorno\n",
    "Algunas de las funciones internas que hemos usado, como las funciones math o\n",
    "funciones matem´aticas, han producido resultados. Llamar a la funci´on genera un\n",
    "nuevo valor, que normalmente asignamos a una variable pasa usar como parte\n",
    "de una expresi´on.\n",
    "import math\n",
    "e = math.exp(1.0)\n",
    "altura = radio * math.sin(angulo)\n",
    "Pero hasta ahora, ninguna de las funciones que hemos escrito ha devuelto un\n",
    "valor."
   ]
  },
  {
   "cell_type": "markdown",
   "id": "d681148f",
   "metadata": {
    "slideshow": {
     "slide_type": "slide"
    }
   },
   "source": [
    "En este capítulo escribiremos funciones que devuelvan valores, que llamaremos funciones productivas, a falta de un nombre mejor. "
   ]
  },
  {
   "cell_type": "markdown",
   "id": "7535c300",
   "metadata": {
    "slideshow": {
     "slide_type": "slide"
    }
   },
   "source": [
    "El primer ejemplo es área, que devuelve el área de un círculo con un radio dado:"
   ]
  },
  {
   "cell_type": "code",
   "execution_count": null,
   "id": "349a2368",
   "metadata": {
    "slideshow": {
     "slide_type": "slide"
    }
   },
   "outputs": [],
   "source": [
    "import math\n",
    "def area(radio):\n",
    "    temporal = math.pi * radio**2\n",
    "    return temporal"
   ]
  },
  {
   "cell_type": "markdown",
   "id": "bf75eb8d",
   "metadata": {
    "slideshow": {
     "slide_type": "slide"
    }
   },
   "source": [
    "Ya hemos visto antes la sentencia return, pero en una función productiva la sentencia `return` incluye un valor de retorno. "
   ]
  },
  {
   "cell_type": "markdown",
   "id": "3815921d",
   "metadata": {
    "slideshow": {
     "slide_type": "slide"
    }
   },
   "source": [
    "Esta sentencia quiere decir “retorna inmediatamente de la función y usa la siguiente expresión como valor de retorno”. "
   ]
  },
  {
   "cell_type": "markdown",
   "id": "5d1d2ef5",
   "metadata": {
    "slideshow": {
     "slide_type": "slide"
    }
   },
   "source": [
    "La expresión dada puede ser arbitrariamente complicada; así pues, podríamos haber escrito esta función más concisamente:"
   ]
  },
  {
   "cell_type": "markdown",
   "id": "fccd976d",
   "metadata": {
    "slideshow": {
     "slide_type": "slide"
    }
   },
   "source": []
  },
  {
   "cell_type": "code",
   "execution_count": null,
   "id": "d84f44b7",
   "metadata": {
    "slideshow": {
     "slide_type": "slide"
    }
   },
   "outputs": [],
   "source": []
  },
  {
   "cell_type": "code",
   "execution_count": null,
   "id": "b1a47e43",
   "metadata": {
    "slideshow": {
     "slide_type": "slide"
    }
   },
   "outputs": [],
   "source": []
  },
  {
   "cell_type": "code",
   "execution_count": null,
   "id": "3b8f1cb6",
   "metadata": {
    "slideshow": {
     "slide_type": "slide"
    }
   },
   "outputs": [],
   "source": []
  },
  {
   "cell_type": "markdown",
   "id": "075fe986",
   "metadata": {
    "slideshow": {
     "slide_type": "slide"
    }
   },
   "source": [
    "# 1.3 Estructuras de datos básicas  "
   ]
  },
  {
   "cell_type": "markdown",
   "id": "0f2a9f41",
   "metadata": {
    "slideshow": {
     "slide_type": "slide"
    }
   },
   "source": [
    "Una forma más adecuada de almacenar la información es a través de \n",
    "* listas, \n",
    "* “tuplas” y \n",
    "* diccionarios.\n",
    "\n",
    "En ellos, la variable se compone de un conjunto ordenado de datos. Para \n",
    "crear estas estructuras se debe dar nombre a una variable, utilizar el operador de \n",
    "declaración igual (`=`) y dependiendo de si se usan paréntesis, corchetes o llaves se puede\n",
    "crear:"
   ]
  },
  {
   "cell_type": "markdown",
   "id": "2a2051cb",
   "metadata": {
    "slideshow": {
     "slide_type": "slide"
    }
   },
   "source": [
    "## 1.3.1 Listas"
   ]
  },
  {
   "cell_type": "markdown",
   "id": "e84b7a7a",
   "metadata": {
    "slideshow": {
     "slide_type": "slide"
    }
   },
   "source": [
    "Una “`list`” (lista) es un conjunto de datos que pueden ser de diferente tipo, es decir, que \n",
    "puede contener \n",
    "* números enteros, \n",
    "* decimales, \n",
    "* caracteres, \n",
    "* valores booleanos entre otros, \n",
    "\n",
    "cuyos elementos **son modificables o mutables** y que se encuentran indexados, es decir \n",
    "que los datos se enumeran comenzando desde 0. Para crear listas se usan corchetes (`[ ]`)."
   ]
  },
  {
   "cell_type": "code",
   "execution_count": 1,
   "id": "aab87073",
   "metadata": {
    "slideshow": {
     "slide_type": "slide"
    }
   },
   "outputs": [],
   "source": [
    "lista_1 = [1,0.5,'marco',True]"
   ]
  },
  {
   "cell_type": "markdown",
   "id": "75b7db0e",
   "metadata": {
    "slideshow": {
     "slide_type": "slide"
    }
   },
   "source": [
    "## 1.3.2 Tuplas"
   ]
  },
  {
   "cell_type": "markdown",
   "id": "e845a632",
   "metadata": {
    "slideshow": {
     "slide_type": "slide"
    }
   },
   "source": [
    "En esta estructura, los datos se separan por comas y se encuentran entre paréntesis. "
   ]
  },
  {
   "cell_type": "markdown",
   "id": "44e3e6cf",
   "metadata": {
    "slideshow": {
     "slide_type": "slide"
    }
   },
   "source": [
    "Las tuplas se caracterizan porque no se pueden modificar, son inmutables. "
   ]
  },
  {
   "cell_type": "markdown",
   "id": "e1718c21",
   "metadata": {
    "slideshow": {
     "slide_type": "slide"
    }
   },
   "source": [
    "Es decir, no se puede añadir, quitar datos ni modificar los que contiene, por la vía del operador de asignación."
   ]
  },
  {
   "cell_type": "markdown",
   "id": "18dfe5a7",
   "metadata": {
    "slideshow": {
     "slide_type": "slide"
    }
   },
   "source": [
    "Sin embargo, se pueden extraer partes de las tuplas para crear nuevas tuplas o reemplazarlas con otra tupla. "
   ]
  },
  {
   "cell_type": "markdown",
   "id": "42b19b3e",
   "metadata": {
    "slideshow": {
     "slide_type": "slide"
    }
   },
   "source": [
    "Las tuplas también están indexadas y además puede  contener objetos mutables, por lo que puede existir una lista inmersa en una tupla.\n",
    "Figura 1-7. Ejemplo de una tupla y una lista."
   ]
  },
  {
   "cell_type": "code",
   "execution_count": null,
   "id": "a9030919",
   "metadata": {
    "slideshow": {
     "slide_type": "slide"
    }
   },
   "outputs": [],
   "source": [
    "datos1"
   ]
  },
  {
   "cell_type": "code",
   "execution_count": null,
   "id": "7a60ae18",
   "metadata": {
    "slideshow": {
     "slide_type": "slide"
    }
   },
   "outputs": [],
   "source": []
  },
  {
   "cell_type": "markdown",
   "id": "99815e79",
   "metadata": {
    "slideshow": {
     "slide_type": "slide"
    }
   },
   "source": [
    "## Referentes\n",
    "\n",
    "* Calderon"
   ]
  },
  {
   "cell_type": "code",
   "execution_count": null,
   "id": "405526d1",
   "metadata": {},
   "outputs": [],
   "source": []
  }
 ],
 "metadata": {
  "celltoolbar": "Slideshow",
  "kernelspec": {
   "display_name": "Python 3",
   "language": "python",
   "name": "python3"
  },
  "language_info": {
   "codemirror_mode": {
    "name": "ipython",
    "version": 3
   },
   "file_extension": ".py",
   "mimetype": "text/x-python",
   "name": "python",
   "nbconvert_exporter": "python",
   "pygments_lexer": "ipython3",
   "version": "3.8.8"
  },
  "latex_envs": {
   "LaTeX_envs_menu_present": true,
   "autoclose": false,
   "autocomplete": false,
   "bibliofile": "biblio.bib",
   "cite_by": "apalike",
   "current_citInitial": 1,
   "eqLabelWithNumbers": true,
   "eqNumInitial": 1,
   "hotkeys": {
    "equation": "Ctrl-E",
    "itemize": "Ctrl-I"
   },
   "labels_anchors": false,
   "latex_user_defs": false,
   "report_style_numbering": false,
   "user_envs_cfg": false
  },
  "rise": {
   "enable_chalkboard": true,
   "theme": "sky",
   "transition": "sky"
  }
 },
 "nbformat": 4,
 "nbformat_minor": 5
}
