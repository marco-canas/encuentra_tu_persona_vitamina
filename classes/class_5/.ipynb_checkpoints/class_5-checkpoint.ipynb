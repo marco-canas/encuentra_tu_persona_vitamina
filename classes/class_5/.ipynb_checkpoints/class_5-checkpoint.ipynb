{
 "cells": [
  {
   "cell_type": "markdown",
   "id": "c23e69d4",
   "metadata": {
    "slideshow": {
     "slide_type": "slide"
    }
   },
   "source": [
    "<table align=\"left\">\n",
    "  <td>\n",
    "    <a href=\"https://colab.research.google.com/github/marco-canas/introducci-n-al-Machine-Learning/blob/main/classes/class_5/class_5.ipynb\" target=\"_parent\"><img src=\"https://colab.research.google.com/assets/colab-badge.svg\" alt=\"Open In Colab\"/></a>\n",
    "  </td>\n",
    "  <td>\n",
    "    <a target=\"_blank\" href=\"https://kaggle.com/kernels/welcome?src=https://github.com/marco-canas/introducci-n-al-Machine-Learning/blob/main/classes/class_5/class_5.ipynb\"><img src=\"https://kaggle.com/static/images/open-in-kaggle.svg\" /></a>\n",
    "  </td>\n",
    "</table>\n"
   ]
  },
  {
   "cell_type": "markdown",
   "id": "8130578c",
   "metadata": {
    "slideshow": {
     "slide_type": "slide"
    }
   },
   "source": [
    "# Clase 5 "
   ]
  },
  {
   "cell_type": "markdown",
   "id": "8274bf55",
   "metadata": {
    "slideshow": {
     "slide_type": "slide"
    }
   },
   "source": [
    "## Objetivos\n",
    "\n",
    "* Presentar el concepto de ciclo `for` en Python\n",
    "* Presentar el concepto de función definita por el usuario en Python\n",
    "* Presentar el concepto de clase de Python (página 157 de Downey)"
   ]
  },
  {
   "cell_type": "markdown",
   "id": "69078b9a",
   "metadata": {
    "slideshow": {
     "slide_type": "slide"
    }
   },
   "source": [
    "# [Python \"for\" Loops (Definite Iteration)](https://realpython.com/python-for-loop/)"
   ]
  },
  {
   "cell_type": "markdown",
   "id": "03e9d9d5",
   "metadata": {
    "slideshow": {
     "slide_type": "slide"
    }
   },
   "source": [
    "<img src = 'https://files.realpython.com/media/Python-for-Loops-Definite-Iteration_Watermarked.b38126d495e1.jpg'>"
   ]
  },
  {
   "cell_type": "markdown",
   "id": "b458ef19",
   "metadata": {
    "slideshow": {
     "slide_type": "slide"
    }
   },
   "source": [
    "## Table of Contents"
   ]
  },
  {
   "cell_type": "markdown",
   "id": "1d03a114",
   "metadata": {
    "slideshow": {
     "slide_type": "slide"
    }
   },
   "source": [
    "* Una encuesta sobre la iteración definida en la programación\n",
    "  * Numeric Range Loop\n",
    "  * Three-Expression Loop\n",
    "  * Collection-Based or Iterator-Based Loop\n",
    "* The Python for Loop\n",
    "  * Iterables\n",
    "Iterators\n",
    "The Guts of the Python for Loop\n",
    "Iterating Through a Dictionary\n",
    "The range() Function\n",
    "Altering for Loop Behavior\n",
    "The break and continue Statements\n",
    "The else Clause\n",
    "Conclusion"
   ]
  },
  {
   "cell_type": "markdown",
   "id": "2ba13b52",
   "metadata": {
    "slideshow": {
     "slide_type": "slide"
    }
   },
   "source": [
    "## The Python for Loop"
   ]
  },
  {
   "cell_type": "markdown",
   "id": "e440c38e",
   "metadata": {
    "slideshow": {
     "slide_type": "slide"
    }
   },
   "source": [
    "Of the loop types listed above, Python only implements the last: collection-based iteration. "
   ]
  },
  {
   "cell_type": "markdown",
   "id": "988ca679",
   "metadata": {
    "slideshow": {
     "slide_type": "slide"
    }
   },
   "source": [
    "At first blush, that may seem like a raw deal, but rest assured that Python’s implementation of definite iteration is so versatile that you won’t end up feeling cheated!"
   ]
  },
  {
   "cell_type": "markdown",
   "id": "7af7ed66",
   "metadata": {
    "slideshow": {
     "slide_type": "slide"
    }
   },
   "source": [
    "Shortly, you’ll dig into the guts of Python’s for loop in detail. "
   ]
  },
  {
   "cell_type": "markdown",
   "id": "16f2feb0",
   "metadata": {
    "slideshow": {
     "slide_type": "slide"
    }
   },
   "source": [
    "But for now, let’s start with a quick prototype and example, just to get acquainted."
   ]
  },
  {
   "cell_type": "markdown",
   "id": "45f5b76b",
   "metadata": {
    "slideshow": {
     "slide_type": "slide"
    }
   },
   "source": [
    "Python’s for loop looks like this:"
   ]
  },
  {
   "cell_type": "markdown",
   "id": "d3f4a607",
   "metadata": {
    "slideshow": {
     "slide_type": "slide"
    }
   },
   "source": [
    "```python\n",
    "for <var> in <iterable>:\n",
    "    <statement(s)>\n",
    "```"
   ]
  },
  {
   "cell_type": "markdown",
   "id": "f83c975d",
   "metadata": {
    "slideshow": {
     "slide_type": "slide"
    }
   },
   "source": [
    "`<iterable>` is a collection of objects—for example, a list or tuple. "
   ]
  },
  {
   "cell_type": "markdown",
   "id": "8634ba1e",
   "metadata": {
    "slideshow": {
     "slide_type": "slide"
    }
   },
   "source": [
    "The `<statement(s)>` in the loop body are denoted by indentation, as with all Python control structures, and are executed once for each item in <iterable>. "
   ]
  },
  {
   "cell_type": "markdown",
   "id": "5c8fb386",
   "metadata": {
    "slideshow": {
     "slide_type": "slide"
    }
   },
   "source": [
    "The loop variable <var> takes on the value of the next element in <iterable> each time through the loop."
   ]
  },
  {
   "cell_type": "markdown",
   "id": "70ff1995",
   "metadata": {
    "slideshow": {
     "slide_type": "slide"
    }
   },
   "source": [
    "Here is a representative example:"
   ]
  },
  {
   "cell_type": "code",
   "execution_count": 1,
   "id": "ad0f8de5",
   "metadata": {
    "slideshow": {
     "slide_type": "slide"
    }
   },
   "outputs": [
    {
     "name": "stdout",
     "output_type": "stream",
     "text": [
      "foo\n",
      "bar\n",
      "baz\n"
     ]
    }
   ],
   "source": [
    "a = ['foo', 'bar', 'baz']\n",
    "for i in a:\n",
    "    print(i)\n"
   ]
  },
  {
   "cell_type": "markdown",
   "id": "ebee2046",
   "metadata": {
    "slideshow": {
     "slide_type": "slide"
    }
   },
   "source": [
    "In this example, `<iterable>` is the list `a`, and <var> is the variable i. "
   ]
  },
  {
   "cell_type": "markdown",
   "id": "8ca6d9c9",
   "metadata": {
    "slideshow": {
     "slide_type": "slide"
    }
   },
   "source": [
    "Each time through the loop, i takes on a successive item in a, so `print()` displays the values 'foo', 'bar', and 'baz', respectively. "
   ]
  },
  {
   "cell_type": "markdown",
   "id": "f8c0d253",
   "metadata": {
    "slideshow": {
     "slide_type": "slide"
    }
   },
   "source": [
    "A for loop like this is the Pythonic way to process the items in an iterable."
   ]
  },
  {
   "cell_type": "markdown",
   "id": "7089e903",
   "metadata": {
    "slideshow": {
     "slide_type": "slide"
    }
   },
   "source": [
    "But what exactly is an iterable? "
   ]
  },
  {
   "cell_type": "markdown",
   "id": "d95c0594",
   "metadata": {
    "slideshow": {
     "slide_type": "slide"
    }
   },
   "source": [
    "Before examining for loops further, it will be beneficial to delve more deeply into what iterables are in Python."
   ]
  },
  {
   "cell_type": "code",
   "execution_count": null,
   "id": "34f23914",
   "metadata": {
    "slideshow": {
     "slide_type": "slide"
    }
   },
   "outputs": [],
   "source": []
  },
  {
   "cell_type": "code",
   "execution_count": null,
   "id": "f6944454",
   "metadata": {},
   "outputs": [],
   "source": []
  },
  {
   "cell_type": "code",
   "execution_count": null,
   "id": "b28d2a16",
   "metadata": {
    "slideshow": {
     "slide_type": "slide"
    }
   },
   "outputs": [],
   "source": []
  },
  {
   "cell_type": "markdown",
   "id": "d0c8de17",
   "metadata": {
    "slideshow": {
     "slide_type": "slide"
    }
   },
   "source": [
    "## Referentes  \n",
    "\n",
    "* ciclo for según RealPython: https://realpython.com/python-for-loop/"
   ]
  },
  {
   "cell_type": "code",
   "execution_count": null,
   "id": "4ad082f3",
   "metadata": {},
   "outputs": [],
   "source": []
  }
 ],
 "metadata": {
  "celltoolbar": "Slideshow",
  "kernelspec": {
   "display_name": "Python 3",
   "language": "python",
   "name": "python3"
  },
  "language_info": {
   "codemirror_mode": {
    "name": "ipython",
    "version": 3
   },
   "file_extension": ".py",
   "mimetype": "text/x-python",
   "name": "python",
   "nbconvert_exporter": "python",
   "pygments_lexer": "ipython3",
   "version": "3.8.8"
  },
  "latex_envs": {
   "LaTeX_envs_menu_present": true,
   "autoclose": false,
   "autocomplete": false,
   "bibliofile": "biblio.bib",
   "cite_by": "apalike",
   "current_citInitial": 1,
   "eqLabelWithNumbers": true,
   "eqNumInitial": 1,
   "hotkeys": {
    "equation": "Ctrl-E",
    "itemize": "Ctrl-I"
   },
   "labels_anchors": false,
   "latex_user_defs": false,
   "report_style_numbering": false,
   "user_envs_cfg": false
  },
  "rise": {
   "enable_chalkboard": true,
   "theme": "sky",
   "transition": "zoom"
  }
 },
 "nbformat": 4,
 "nbformat_minor": 5
}
