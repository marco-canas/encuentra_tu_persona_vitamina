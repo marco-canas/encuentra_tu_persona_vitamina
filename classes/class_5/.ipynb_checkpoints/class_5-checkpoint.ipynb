{
 "cells": [
  {
   "cell_type": "markdown",
   "id": "c23e69d4",
   "metadata": {
    "slideshow": {
     "slide_type": "slide"
    }
   },
   "source": [
    "<table align=\"left\">\n",
    "  <td>\n",
    "    <a href=\"https://colab.research.google.com/github/marco-canas/introducci-n-al-Machine-Learning/blob/main/classes/class_5/class_5.ipynb\" target=\"_parent\"><img src=\"https://colab.research.google.com/assets/colab-badge.svg\" alt=\"Open In Colab\"/></a>\n",
    "  </td>\n",
    "  <td>\n",
    "    <a target=\"_blank\" href=\"https://kaggle.com/kernels/welcome?src=https://github.com/marco-canas/introducci-n-al-Machine-Learning/blob/main/classes/class_5/class_5.ipynb\"><img src=\"https://kaggle.com/static/images/open-in-kaggle.svg\" /></a>\n",
    "  </td>\n",
    "</table>\n"
   ]
  },
  {
   "cell_type": "markdown",
   "id": "8130578c",
   "metadata": {
    "slideshow": {
     "slide_type": "slide"
    }
   },
   "source": [
    "# Clase 5 "
   ]
  },
  {
   "cell_type": "markdown",
   "id": "8274bf55",
   "metadata": {
    "slideshow": {
     "slide_type": "slide"
    }
   },
   "source": [
    "## Objetivos\n",
    "\n",
    "* Presentar el concepto de ciclo `for` en Python\n",
    "* Presentar el concepto de función definita por el usuario en Python.\n",
    "* Presentar las librerías numpy, pandas y matplotlib. \n",
    "* Presentar el concepto de clase de Python (página 157 de Downey)"
   ]
  },
  {
   "cell_type": "markdown",
   "id": "5be5cef6",
   "metadata": {
    "slideshow": {
     "slide_type": "slide"
    }
   },
   "source": [
    "# [Python \"for\" Loops (Definite Iteration)](https://realpython.com/python-for-loop/)"
   ]
  },
  {
   "cell_type": "markdown",
   "id": "8182467b",
   "metadata": {
    "slideshow": {
     "slide_type": "slide"
    }
   },
   "source": [
    "<img src = 'https://files.realpython.com/media/Python-for-Loops-Definite-Iteration_Watermarked.b38126d495e1.jpg'>"
   ]
  },
  {
   "cell_type": "markdown",
   "id": "4af1e204",
   "metadata": {
    "slideshow": {
     "slide_type": "slide"
    }
   },
   "source": [
    "## Table of Contents"
   ]
  },
  {
   "cell_type": "markdown",
   "id": "9db1564b",
   "metadata": {
    "slideshow": {
     "slide_type": "slide"
    }
   },
   "source": [
    "* Una encuesta sobre la iteración definida en la programación\n",
    "  * Bucle de rango numérico\n",
    "  * Bucle de tres expresiones\n",
    "  * Bucle basado en colección o basado en iterador"
   ]
  },
  {
   "cell_type": "markdown",
   "id": "41b0ddab",
   "metadata": {
    "slideshow": {
     "slide_type": "slide"
    }
   },
   "source": [
    "* El bucle `for` de Python\n",
    "  * Iterables\n",
    "  * Iteradores\n",
    "* Iterating Through a Dictionary\n",
    "* The range() Function\n",
    "* Altering for Loop Behavior\n",
    "  * The break and continue Statements\n",
    "  * The else Clause\n",
    "* Conclusion"
   ]
  },
  {
   "cell_type": "markdown",
   "id": "8d248caa",
   "metadata": {
    "slideshow": {
     "slide_type": "slide"
    }
   },
   "source": [
    "Este tutorial le mostrará cómo realizar una iteración definida con un bucle `for` de Python."
   ]
  },
  {
   "cell_type": "markdown",
   "id": "49ce3236",
   "metadata": {
    "slideshow": {
     "slide_type": "slide"
    }
   },
   "source": [
    "Hemos visto que:"
   ]
  },
  {
   "cell_type": "markdown",
   "id": "24c0717d",
   "metadata": {
    "slideshow": {
     "slide_type": "slide"
    }
   },
   "source": [
    "La ejecución repetitiva del mismo bloque de código una y otra vez se denomina iteración."
   ]
  },
  {
   "cell_type": "markdown",
   "id": "dffb8452",
   "metadata": {
    "slideshow": {
     "slide_type": "slide"
    }
   },
   "source": [
    "Hay dos tipos de iteración:"
   ]
  },
  {
   "cell_type": "markdown",
   "id": "8e6d9c9c",
   "metadata": {
    "slideshow": {
     "slide_type": "slide"
    }
   },
   "source": [
    "* **Iteración definida**, en la que el número de repeticiones se especifica explícitamente de antemano"
   ]
  },
  {
   "cell_type": "markdown",
   "id": "ea86671b",
   "metadata": {
    "slideshow": {
     "slide_type": "slide"
    }
   },
   "source": [
    "* **Iteración indefinida**, en la que el bloque de código se ejecuta hasta que se cumple alguna condición."
   ]
  },
  {
   "cell_type": "markdown",
   "id": "a4ff631d",
   "metadata": {
    "slideshow": {
     "slide_type": "slide"
    }
   },
   "source": [
    "En Python, la **iteración indefinida** se realiza con un bucle `while`."
   ]
  },
  {
   "cell_type": "markdown",
   "id": "f63176ef",
   "metadata": {
    "slideshow": {
     "slide_type": "slide"
    }
   },
   "source": [
    "Esto es lo que cubrirá en este tutorial:"
   ]
  },
  {
   "cell_type": "markdown",
   "id": "566555ea",
   "metadata": {
    "slideshow": {
     "slide_type": "slide"
    }
   },
   "source": [
    "Comenzará con una comparación de algunos paradigmas diferentes utilizados por los lenguajes de programación para implementar una **iteración definida**."
   ]
  },
  {
   "cell_type": "markdown",
   "id": "f9297460",
   "metadata": {
    "slideshow": {
     "slide_type": "slide"
    }
   },
   "source": [
    "Luego, aprenderá sobre **iterables** e **iteradores**, dos conceptos que forman la base de la iteración definida en Python."
   ]
  },
  {
   "cell_type": "markdown",
   "id": "763371a0",
   "metadata": {
    "slideshow": {
     "slide_type": "slide"
    }
   },
   "source": [
    "Finalmente, lo unirá todo y aprenderá sobre los bucles for de Python."
   ]
  },
  {
   "cell_type": "markdown",
   "id": "bd151b38",
   "metadata": {
    "slideshow": {
     "slide_type": "slide"
    }
   },
   "source": []
  },
  {
   "cell_type": "code",
   "execution_count": null,
   "id": "18774753",
   "metadata": {},
   "outputs": [],
   "source": []
  },
  {
   "cell_type": "code",
   "execution_count": null,
   "id": "9a644236",
   "metadata": {},
   "outputs": [],
   "source": []
  },
  {
   "cell_type": "markdown",
   "id": "5c47e03f",
   "metadata": {
    "slideshow": {
     "slide_type": "slide"
    }
   },
   "source": [
    "## The Python for Loop"
   ]
  },
  {
   "cell_type": "markdown",
   "id": "19bd9a05",
   "metadata": {
    "slideshow": {
     "slide_type": "slide"
    }
   },
   "source": [
    "Python solo implementa la iteración basada en colecciones."
   ]
  },
  {
   "cell_type": "markdown",
   "id": "adc34969",
   "metadata": {
    "slideshow": {
     "slide_type": "slide"
    }
   },
   "source": [
    "La cual es un tipo de iteración bastante versatil. "
   ]
  },
  {
   "cell_type": "markdown",
   "id": "4453d930",
   "metadata": {
    "slideshow": {
     "slide_type": "slide"
    }
   },
   "source": [
    "El bucle `for` de Python se ve así:"
   ]
  },
  {
   "cell_type": "markdown",
   "id": "88c2e84c",
   "metadata": {
    "slideshow": {
     "slide_type": "slide"
    }
   },
   "source": [
    "```python\n",
    "for <var> in <iterable>:\n",
    "    <statement(s)>\n",
    "```"
   ]
  },
  {
   "cell_type": "markdown",
   "id": "5e33a305",
   "metadata": {
    "slideshow": {
     "slide_type": "slide"
    }
   },
   "source": [
    "`<iterable>` es una colección de objetos, por ejemplo, una lista o tupla."
   ]
  },
  {
   "cell_type": "markdown",
   "id": "3516e0c6",
   "metadata": {
    "slideshow": {
     "slide_type": "slide"
    }
   },
   "source": [
    "The `<statement(s)>` in the loop body are denoted by indentation, as with all Python control structures, and are executed once for each item in <iterable>. "
   ]
  },
  {
   "cell_type": "markdown",
   "id": "dfd1beb9",
   "metadata": {
    "slideshow": {
     "slide_type": "slide"
    }
   },
   "source": [
    "The loop variable <var> takes on the value of the next element in <iterable> each time through the loop."
   ]
  },
  {
   "cell_type": "markdown",
   "id": "036d2778",
   "metadata": {
    "slideshow": {
     "slide_type": "slide"
    }
   },
   "source": [
    "Here is a representative example:"
   ]
  },
  {
   "cell_type": "code",
   "execution_count": 1,
   "id": "017e4bf6",
   "metadata": {
    "slideshow": {
     "slide_type": "slide"
    }
   },
   "outputs": [
    {
     "name": "stdout",
     "output_type": "stream",
     "text": [
      "foo\n",
      "bar\n",
      "baz\n"
     ]
    }
   ],
   "source": [
    "a = ['foo', 'bar', 'baz']\n",
    "for i in a:\n",
    "    print(i)\n"
   ]
  },
  {
   "cell_type": "markdown",
   "id": "600b12da",
   "metadata": {
    "slideshow": {
     "slide_type": "slide"
    }
   },
   "source": [
    "In this example, `<iterable>` is the list `a`, and <var> is the variable i. "
   ]
  },
  {
   "cell_type": "markdown",
   "id": "401e3b97",
   "metadata": {
    "slideshow": {
     "slide_type": "slide"
    }
   },
   "source": [
    "Each time through the loop, i takes on a successive item in a, so `print()` displays the values 'foo', 'bar', and 'baz', respectively. "
   ]
  },
  {
   "cell_type": "markdown",
   "id": "b76bb824",
   "metadata": {
    "slideshow": {
     "slide_type": "slide"
    }
   },
   "source": [
    "A for loop like this is the Pythonic way to process the items in an iterable."
   ]
  },
  {
   "cell_type": "markdown",
   "id": "3efe6aed",
   "metadata": {
    "slideshow": {
     "slide_type": "slide"
    }
   },
   "source": [
    "But what exactly is an iterable? "
   ]
  },
  {
   "cell_type": "markdown",
   "id": "58abe155",
   "metadata": {
    "slideshow": {
     "slide_type": "slide"
    }
   },
   "source": [
    "Before examining for loops further, it will be beneficial to delve more deeply into what iterables are in Python."
   ]
  },
  {
   "cell_type": "markdown",
   "id": "cb73c246",
   "metadata": {
    "slideshow": {
     "slide_type": "slide"
    }
   },
   "source": [
    "## Iterables"
   ]
  },
  {
   "cell_type": "markdown",
   "id": "bf4de8cd",
   "metadata": {
    "slideshow": {
     "slide_type": "slide"
    }
   },
   "source": [
    "En Python, iterable significa que un objeto se puede usar en iteración. El término se usa como:"
   ]
  },
  {
   "cell_type": "markdown",
   "id": "939871b0",
   "metadata": {
    "slideshow": {
     "slide_type": "slide"
    }
   },
   "source": [
    "* **An adjective**: An object may be described as iterable.\n",
    "* **A noun**: An object may be characterized as an iterable."
   ]
  },
  {
   "cell_type": "markdown",
   "id": "a03ddadf",
   "metadata": {
    "slideshow": {
     "slide_type": "slide"
    }
   },
   "source": [
    "If an object is iterable, it can be passed to the built-in Python function iter(), which returns something called an iterator. "
   ]
  },
  {
   "cell_type": "markdown",
   "id": "ff761518",
   "metadata": {
    "slideshow": {
     "slide_type": "slide"
    }
   },
   "source": [
    "Yes, the terminology gets a bit repetitive. Hang in there. It all works out in the end."
   ]
  },
  {
   "cell_type": "markdown",
   "id": "00761eb6",
   "metadata": {
    "slideshow": {
     "slide_type": "slide"
    }
   },
   "source": [
    "Each of the objects in the following example is an iterable and returns some type of iterator when passed to iter():"
   ]
  },
  {
   "cell_type": "code",
   "execution_count": 3,
   "id": "3d4ccf26",
   "metadata": {
    "slideshow": {
     "slide_type": "slide"
    }
   },
   "outputs": [
    {
     "data": {
      "text/plain": [
       "<str_iterator at 0x1fb0cd25130>"
      ]
     },
     "execution_count": 3,
     "metadata": {},
     "output_type": "execute_result"
    }
   ],
   "source": [
    "iter('foobar')                             # String\n"
   ]
  },
  {
   "cell_type": "code",
   "execution_count": 4,
   "id": "1f964731",
   "metadata": {
    "slideshow": {
     "slide_type": "slide"
    }
   },
   "outputs": [
    {
     "data": {
      "text/plain": [
       "<list_iterator at 0x1fb0cd25a00>"
      ]
     },
     "execution_count": 4,
     "metadata": {},
     "output_type": "execute_result"
    }
   ],
   "source": [
    "iter(['foo', 'bar', 'baz'])                # List\n"
   ]
  },
  {
   "cell_type": "code",
   "execution_count": null,
   "id": "e0d731f6",
   "metadata": {
    "slideshow": {
     "slide_type": "slide"
    }
   },
   "outputs": [],
   "source": [
    "iter(('foo', 'bar', 'baz'))                # Tuple\n"
   ]
  },
  {
   "cell_type": "code",
   "execution_count": null,
   "id": "2ae106f0",
   "metadata": {
    "slideshow": {
     "slide_type": "slide"
    }
   },
   "outputs": [],
   "source": [
    "iter({'foo', 'bar', 'baz'})                # Set\n"
   ]
  },
  {
   "cell_type": "code",
   "execution_count": null,
   "id": "b793baa7",
   "metadata": {
    "slideshow": {
     "slide_type": "slide"
    }
   },
   "outputs": [],
   "source": [
    "iter({'foo': 1, 'bar': 2, 'baz': 3})       # Dict\n"
   ]
  },
  {
   "cell_type": "markdown",
   "id": "842c6698",
   "metadata": {
    "slideshow": {
     "slide_type": "slide"
    }
   },
   "source": [
    "Estos tipos de objetos, por otro lado, no son iterables:"
   ]
  },
  {
   "cell_type": "code",
   "execution_count": 6,
   "id": "977aab6f",
   "metadata": {
    "slideshow": {
     "slide_type": "slide"
    }
   },
   "outputs": [
    {
     "ename": "TypeError",
     "evalue": "'int' object is not iterable",
     "output_type": "error",
     "traceback": [
      "\u001b[1;31m---------------------------------------------------------------------------\u001b[0m",
      "\u001b[1;31mTypeError\u001b[0m                                 Traceback (most recent call last)",
      "\u001b[1;32m<ipython-input-6-7c81397f0f48>\u001b[0m in \u001b[0;36m<module>\u001b[1;34m\u001b[0m\n\u001b[1;32m----> 1\u001b[1;33m \u001b[0miter\u001b[0m\u001b[1;33m(\u001b[0m\u001b[1;36m42\u001b[0m\u001b[1;33m)\u001b[0m                                   \u001b[1;31m# Integer\u001b[0m\u001b[1;33m\u001b[0m\u001b[1;33m\u001b[0m\u001b[0m\n\u001b[0m",
      "\u001b[1;31mTypeError\u001b[0m: 'int' object is not iterable"
     ]
    }
   ],
   "source": [
    "iter(42)                                   # Integer\n"
   ]
  },
  {
   "cell_type": "code",
   "execution_count": null,
   "id": "f4cf451e",
   "metadata": {
    "slideshow": {
     "slide_type": "slide"
    }
   },
   "outputs": [],
   "source": [
    ">>> iter(3.1)                                  # Float\n",
    "Traceback (most recent call last):\n",
    "  File \"<pyshell#27>\", line 1, in <module>\n",
    "    iter(3.1)\n",
    "TypeError: 'float' object is not iterable"
   ]
  },
  {
   "cell_type": "code",
   "execution_count": 5,
   "id": "6c719843",
   "metadata": {},
   "outputs": [
    {
     "ename": "TypeError",
     "evalue": "'builtin_function_or_method' object is not iterable",
     "output_type": "error",
     "traceback": [
      "\u001b[1;31m---------------------------------------------------------------------------\u001b[0m",
      "\u001b[1;31mTypeError\u001b[0m                                 Traceback (most recent call last)",
      "\u001b[1;32m<ipython-input-5-fd8c88013e37>\u001b[0m in \u001b[0;36m<module>\u001b[1;34m\u001b[0m\n\u001b[1;32m----> 1\u001b[1;33m \u001b[0miter\u001b[0m\u001b[1;33m(\u001b[0m\u001b[0mlen\u001b[0m\u001b[1;33m)\u001b[0m                                  \u001b[1;31m# Built-in function\u001b[0m\u001b[1;33m\u001b[0m\u001b[1;33m\u001b[0m\u001b[0m\n\u001b[0m",
      "\u001b[1;31mTypeError\u001b[0m: 'builtin_function_or_method' object is not iterable"
     ]
    }
   ],
   "source": [
    "iter(len)                                  # Built-in function\n"
   ]
  },
  {
   "cell_type": "markdown",
   "id": "6d68a2fd",
   "metadata": {
    "slideshow": {
     "slide_type": "slide"
    }
   },
   "source": [
    "All the data types you have encountered so far that are collection or container types are iterable. "
   ]
  },
  {
   "cell_type": "markdown",
   "id": "29a6aee8",
   "metadata": {
    "slideshow": {
     "slide_type": "slide"
    }
   },
   "source": [
    "These include the string, list, tuple, dict, set, and frozenset types."
   ]
  },
  {
   "cell_type": "markdown",
   "id": "59e65410",
   "metadata": {
    "slideshow": {
     "slide_type": "slide"
    }
   },
   "source": [
    "But these are by no means the only types that you can iterate over. "
   ]
  },
  {
   "cell_type": "markdown",
   "id": "4150d9c9",
   "metadata": {
    "slideshow": {
     "slide_type": "slide"
    }
   },
   "source": [
    "Many objects that are built into Python or defined in modules are designed to be iterable. "
   ]
  },
  {
   "cell_type": "markdown",
   "id": "e6e6180f",
   "metadata": {
    "slideshow": {
     "slide_type": "slide"
    }
   },
   "source": [
    "For example, open files in Python are iterable. "
   ]
  },
  {
   "cell_type": "markdown",
   "id": "30de95e6",
   "metadata": {
    "slideshow": {
     "slide_type": "slide"
    }
   },
   "source": [
    "As you will see soon in the tutorial on file I/O, iterating over an open file object reads data from the file."
   ]
  },
  {
   "cell_type": "markdown",
   "id": "015445c4",
   "metadata": {
    "slideshow": {
     "slide_type": "slide"
    }
   },
   "source": [
    "In fact, almost any object in Python can be made iterable. "
   ]
  },
  {
   "cell_type": "markdown",
   "id": "884efecc",
   "metadata": {
    "slideshow": {
     "slide_type": "slide"
    }
   },
   "source": [
    "Even user-defined objects can be designed in such a way that they can be iterated over. "
   ]
  },
  {
   "cell_type": "markdown",
   "id": "299b6b6b",
   "metadata": {
    "slideshow": {
     "slide_type": "slide"
    }
   },
   "source": [
    "(You will find out how that is done in the upcoming article on object-oriented programming.)"
   ]
  },
  {
   "cell_type": "code",
   "execution_count": null,
   "id": "1cb98050",
   "metadata": {
    "slideshow": {
     "slide_type": "slide"
    }
   },
   "outputs": [],
   "source": []
  },
  {
   "cell_type": "markdown",
   "id": "61c6405c",
   "metadata": {
    "slideshow": {
     "slide_type": "slide"
    }
   },
   "source": [
    "# Definir o construir funciones de usuario en Python"
   ]
  },
  {
   "cell_type": "markdown",
   "id": "34204274",
   "metadata": {
    "slideshow": {
     "slide_type": "slide"
    }
   },
   "source": [
    "## [Video de apoyo a la lectura del tema de Funciones en Python](https://www.youtube.com/watch?v=08Z80jZuDd0)"
   ]
  },
  {
   "cell_type": "markdown",
   "id": "15fbee0c",
   "metadata": {
    "slideshow": {
     "slide_type": "slide"
    }
   },
   "source": [
    "## Construcción de una función cuadrática"
   ]
  },
  {
   "cell_type": "code",
   "execution_count": 1,
   "id": "30c8bd5d",
   "metadata": {
    "slideshow": {
     "slide_type": "slide"
    }
   },
   "outputs": [],
   "source": [
    "def funcion_cuadratica(x):\n",
    "    return x**2+x+1 "
   ]
  },
  {
   "cell_type": "code",
   "execution_count": 3,
   "id": "3ee708f5",
   "metadata": {
    "slideshow": {
     "slide_type": "slide"
    }
   },
   "outputs": [
    {
     "data": {
      "text/plain": [
       "1"
      ]
     },
     "execution_count": 3,
     "metadata": {},
     "output_type": "execute_result"
    }
   ],
   "source": [
    "funcion_cuadratica(0)"
   ]
  },
  {
   "cell_type": "code",
   "execution_count": 4,
   "id": "cf4f6bfd",
   "metadata": {
    "slideshow": {
     "slide_type": "slide"
    }
   },
   "outputs": [],
   "source": [
    "def ceros_funcion_cuadratica(a,b,c):\n",
    "    solucion1 = (-b+(b**2-4*a*c)**(1/2))/(2*a)\n",
    "    solucion2 = (-b-(b**2-4*a*c)**(1/2))/(2*a)\n",
    "    return solucion1, solucion2"
   ]
  },
  {
   "cell_type": "code",
   "execution_count": 5,
   "id": "b28d2a16",
   "metadata": {
    "slideshow": {
     "slide_type": "slide"
    }
   },
   "outputs": [
    {
     "data": {
      "text/plain": [
       "((-0.49999999999999994+0.8660254037844386j), (-0.5-0.8660254037844386j))"
      ]
     },
     "execution_count": 5,
     "metadata": {},
     "output_type": "execute_result"
    }
   ],
   "source": [
    "ceros_funcion_cuadratica(1,1,1)"
   ]
  },
  {
   "cell_type": "code",
   "execution_count": 22,
   "id": "7feca3f6",
   "metadata": {
    "scrolled": true,
    "slideshow": {
     "slide_type": "slide"
    }
   },
   "outputs": [
    {
     "data": {
      "image/png": "[encoded data removed]",
      "text/plain": [
       "<Figure size 432x288 with 1 Axes>"
      ]
     },
     "metadata": {
      "needs_background": "light"
     },
     "output_type": "display_data"
    }
   ],
   "source": [
    "import matplotlib.pyplot as plt \n",
    "import numpy as np \n",
    "\n",
    "dominio = np.array([-4,-3,-2,-1,0,1,2,3]) \n",
    "rango = funcion_cuadratica(dominio) \n",
    "\n",
    "plt.plot(dominio, rango) \n",
    "\n",
    "plt.grid()\n",
    "\n",
    "plt.plot([-4,3],[0,0], color = 'red') \n",
    "\n",
    "plt.savefig('funcion_cuadratica.jpg')\n",
    "\n",
    "plt.show() "
   ]
  },
  {
   "cell_type": "markdown",
   "id": "64fe844c",
   "metadata": {
    "slideshow": {
     "slide_type": "slide"
    }
   },
   "source": [
    "## Segundo ejemplo de construcción de funciones en Python"
   ]
  },
  {
   "cell_type": "markdown",
   "id": "d0665902",
   "metadata": {
    "slideshow": {
     "slide_type": "slide"
    }
   },
   "source": [
    "Se desea reforestar un bosque que mide determinado número de hectáreas."
   ]
  },
  {
   "cell_type": "markdown",
   "id": "54baa99f",
   "metadata": {
    "slideshow": {
     "slide_type": "slide"
    }
   },
   "source": [
    "Si la superficie del terreno excede un millón de metros cuadrados, entonces se sembrará de la siguiente manera:  \n",
    "\n",
    "* 70 % del terreno para pino\n",
    "* 20 del terreno para eucalipto\n",
    "* 10 del terreno para cedro  "
   ]
  },
  {
   "cell_type": "markdown",
   "id": "2f8a668d",
   "metadata": {
    "slideshow": {
     "slide_type": "slide"
    }
   },
   "source": [
    "Si la superficie del terreno es menor o igual a un millón de metros cuadra\u0002dos, entonces se sembrará de la siguiente manera:\n",
    "* 45 del terreno para pino\n",
    "* 30 del terreno para eucalipto\n",
    "* 25 del terreno para cedro"
   ]
  },
  {
   "cell_type": "markdown",
   "id": "acb2865b",
   "metadata": {
    "slideshow": {
     "slide_type": "slide"
    }
   },
   "source": [
    "Construya una función en la que pueda calcular el número de pinos, eucaliptos y cedros que se tendrán que sembrar en un bosque de `h` hectáreas, tomando en cuanta que \n",
    "\n",
    "* en 10 metros cuadrados caben 8 pinos, \n",
    "* en 15 metros cuadrados caben 15 eucaliptos y \n",
    "* en 18 metros cuadrados caben 10 cedros."
   ]
  },
  {
   "cell_type": "markdown",
   "id": "64a58d3d",
   "metadata": {
    "slideshow": {
     "slide_type": "slide"
    }
   },
   "source": [
    "## Solución"
   ]
  },
  {
   "cell_type": "code",
   "execution_count": 10,
   "id": "6c7d5c90",
   "metadata": {
    "slideshow": {
     "slide_type": "slide"
    }
   },
   "outputs": [],
   "source": [
    "def numero_arboles_por_tipo(h): \n",
    "    return "
   ]
  },
  {
   "cell_type": "code",
   "execution_count": 12,
   "id": "11937abd",
   "metadata": {
    "slideshow": {
     "slide_type": "slide"
    }
   },
   "outputs": [],
   "source": [
    "def numero_arboles_por_tipo(h):\n",
    "    m = 10_000*h\n",
    "    return h "
   ]
  },
  {
   "cell_type": "code",
   "execution_count": 15,
   "id": "40e3b7fc",
   "metadata": {
    "slideshow": {
     "slide_type": "slide"
    }
   },
   "outputs": [
    {
     "data": {
      "text/plain": [
       "30000"
      ]
     },
     "execution_count": 15,
     "metadata": {},
     "output_type": "execute_result"
    }
   ],
   "source": [
    "numero_arboles_por_tipo(h = 3)"
   ]
  },
  {
   "cell_type": "code",
   "execution_count": 16,
   "id": "9501e9db",
   "metadata": {
    "slideshow": {
     "slide_type": "slide"
    }
   },
   "outputs": [],
   "source": [
    "def numero_arboles_por_tipo(h):\n",
    "    m = 10_000*h\n",
    "    if m > 1_000_000:\n",
    "        area_pino = 0.7*m\n",
    "        area_eucalipto = 0.2*m\n",
    "        area_cedro = 0.1*m\n",
    "    else:\n",
    "        area_pino = 0.45*m\n",
    "        area_eucalipto = 0.3*m\n",
    "        area_cedro = 0.25*m\n",
    "    return area_pino,area_eucalipto,area_cedro"
   ]
  },
  {
   "cell_type": "code",
   "execution_count": 19,
   "id": "c772daf1",
   "metadata": {
    "slideshow": {
     "slide_type": "slide"
    }
   },
   "outputs": [
    {
     "data": {
      "text/plain": [
       "(4500.0, 3000.0, 2500.0)"
      ]
     },
     "execution_count": 19,
     "metadata": {},
     "output_type": "execute_result"
    }
   ],
   "source": [
    "numero_arboles_por_tipo(h = 1)"
   ]
  },
  {
   "cell_type": "code",
   "execution_count": 20,
   "id": "29ff5cc1",
   "metadata": {
    "slideshow": {
     "slide_type": "slide"
    }
   },
   "outputs": [],
   "source": [
    "def numero_arboles_por_tipo(h):\n",
    "    m = 10_000*h\n",
    "    if m > 1_000_000:\n",
    "        area_pino = 0.7*m\n",
    "        area_eucalipto = 0.2*m\n",
    "        area_cedro = 0.1*m\n",
    "    else:\n",
    "        area_pino = 0.45*m\n",
    "        area_eucalipto = 0.3*m\n",
    "        area_cedro = 0.25*m\n",
    "    n_pinos = area_pino*(8/10) \n",
    "    n_eucaliptos = area_eucalipto*(15/15)\n",
    "    n_cedros = area_cedro*(10/18)\n",
    "    return n_pinos,n_eucaliptos,n_cedros"
   ]
  },
  {
   "cell_type": "code",
   "execution_count": 21,
   "id": "d95edf0e",
   "metadata": {
    "slideshow": {
     "slide_type": "slide"
    }
   },
   "outputs": [
    {
     "data": {
      "text/plain": [
       "(3600.0, 3000.0, 1388.888888888889)"
      ]
     },
     "execution_count": 21,
     "metadata": {},
     "output_type": "execute_result"
    }
   ],
   "source": [
    "numero_arboles_por_tipo(h=1) "
   ]
  },
  {
   "cell_type": "code",
   "execution_count": null,
   "id": "817815f0",
   "metadata": {
    "slideshow": {
     "slide_type": "slide"
    }
   },
   "outputs": [],
   "source": []
  },
  {
   "cell_type": "code",
   "execution_count": null,
   "id": "a42df216",
   "metadata": {},
   "outputs": [],
   "source": []
  },
  {
   "cell_type": "code",
   "execution_count": null,
   "id": "11539461",
   "metadata": {},
   "outputs": [],
   "source": []
  },
  {
   "cell_type": "code",
   "execution_count": null,
   "id": "2490eb14",
   "metadata": {},
   "outputs": [],
   "source": []
  },
  {
   "cell_type": "code",
   "execution_count": null,
   "id": "68f4e83e",
   "metadata": {},
   "outputs": [],
   "source": []
  },
  {
   "cell_type": "code",
   "execution_count": null,
   "id": "f71026e8",
   "metadata": {},
   "outputs": [],
   "source": []
  },
  {
   "cell_type": "markdown",
   "id": "aabb54f9",
   "metadata": {
    "slideshow": {
     "slide_type": "slide"
    }
   },
   "source": [
    "## Referentes  \n",
    "\n",
    "* ciclo for según RealPython: https://realpython.com/python-for-loop/"
   ]
  },
  {
   "cell_type": "code",
   "execution_count": null,
   "id": "6f719a07",
   "metadata": {},
   "outputs": [],
   "source": []
  }
 ],
 "metadata": {
  "celltoolbar": "Slideshow",
  "kernelspec": {
   "display_name": "Python 3",
   "language": "python",
   "name": "python3"
  },
  "language_info": {
   "codemirror_mode": {
    "name": "ipython",
    "version": 3
   },
   "file_extension": ".py",
   "mimetype": "text/x-python",
   "name": "python",
   "nbconvert_exporter": "python",
   "pygments_lexer": "ipython3",
   "version": "3.8.8"
  },
  "latex_envs": {
   "LaTeX_envs_menu_present": true,
   "autoclose": false,
   "autocomplete": false,
   "bibliofile": "biblio.bib",
   "cite_by": "apalike",
   "current_citInitial": 1,
   "eqLabelWithNumbers": true,
   "eqNumInitial": 1,
   "hotkeys": {
    "equation": "Ctrl-E",
    "itemize": "Ctrl-I"
   },
   "labels_anchors": false,
   "latex_user_defs": false,
   "report_style_numbering": false,
   "user_envs_cfg": false
  },
  "rise": {
   "enable_chalkboard": true,
   "theme": "sky",
   "transition": "zoom"
  }
 },
 "nbformat": 4,
 "nbformat_minor": 5
}
