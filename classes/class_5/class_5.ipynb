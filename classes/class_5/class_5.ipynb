{
 "cells": [
  {
   "cell_type": "markdown",
   "id": "c23e69d4",
   "metadata": {
    "slideshow": {
     "slide_type": "slide"
    }
   },
   "source": [
    "<table align=\"left\">\n",
    "  <td>\n",
    "    <a href=\"https://colab.research.google.com/github/marco-canas/introducci-n-al-Machine-Learning/blob/main/classes/class_5/class_5.ipynb\" target=\"_parent\"><img src=\"https://colab.research.google.com/assets/colab-badge.svg\" alt=\"Open In Colab\"/></a>\n",
    "  </td>\n",
    "  <td>\n",
    "    <a target=\"_blank\" href=\"https://kaggle.com/kernels/welcome?src=https://github.com/marco-canas/introducci-n-al-Machine-Learning/blob/main/classes/class_5/class_5.ipynb\"><img src=\"https://kaggle.com/static/images/open-in-kaggle.svg\" /></a>\n",
    "  </td>\n",
    "</table>\n"
   ]
  },
  {
   "cell_type": "markdown",
   "id": "8130578c",
   "metadata": {
    "slideshow": {
     "slide_type": "slide"
    }
   },
   "source": [
    "# Clase 5 "
   ]
  },
  {
   "cell_type": "markdown",
   "id": "8274bf55",
   "metadata": {
    "slideshow": {
     "slide_type": "slide"
    }
   },
   "source": [
    "## Objetivos\n",
    "\n",
    "* Presentar el concepto de ciclo `for` en Python\n",
    "* Presentar el concepto de función definita por el usuario en Python.\n",
    "* Presentar las librerías numpy, pandas y matplotlib. \n",
    "* Presentar el concepto de clase de Python (página 157 de Downey)"
   ]
  },
  {
   "cell_type": "markdown",
   "id": "5be5cef6",
   "metadata": {
    "slideshow": {
     "slide_type": "slide"
    }
   },
   "source": [
    "# [Python \"for\" Loops (Definite Iteration)](https://realpython.com/python-for-loop/)"
   ]
  },
  {
   "cell_type": "markdown",
   "id": "8182467b",
   "metadata": {
    "slideshow": {
     "slide_type": "slide"
    }
   },
   "source": [
    "<img src = 'https://files.realpython.com/media/Python-for-Loops-Definite-Iteration_Watermarked.b38126d495e1.jpg'>"
   ]
  },
  {
   "cell_type": "markdown",
   "id": "4af1e204",
   "metadata": {
    "slideshow": {
     "slide_type": "slide"
    }
   },
   "source": [
    "## Table of Contents"
   ]
  },
  {
   "cell_type": "markdown",
   "id": "7a2313d4",
   "metadata": {
    "slideshow": {
     "slide_type": "slide"
    }
   },
   "source": [
    "* Una encuesta sobre la iteración definida en la programación\n",
    "  * Bucle de rango numérico\n",
    "  * Bucle de tres expresiones\n",
    "  * Bucle basado en colección o basado en iterador"
   ]
  },
  {
   "cell_type": "markdown",
   "id": "41b0ddab",
   "metadata": {
    "slideshow": {
     "slide_type": "slide"
    }
   },
   "source": [
    "* El bucle `for` de Python\n",
    "  * Iterables\n",
    "  * Iteradores\n",
    "* Iterando a través de un diccionario\n",
    "* La función `range ()`\n",
    "* Modificación del comportamiento del bucle `for`\n",
    "  * Las declaraciones `break` y` continue`\n",
    "  * La cláusula else\n",
    "* Conclusión"
   ]
  },
  {
   "cell_type": "markdown",
   "id": "7686160e",
   "metadata": {
    "slideshow": {
     "slide_type": "slide"
    }
   },
   "source": [
    "Este tutorial mostraré cómo realizar una iteración definida con un bucle `for` de Python."
   ]
  },
  {
   "cell_type": "markdown",
   "id": "f36270db",
   "metadata": {
    "slideshow": {
     "slide_type": "slide"
    }
   },
   "source": [
    "Hemos visto que:"
   ]
  },
  {
   "cell_type": "markdown",
   "id": "dda74c8f",
   "metadata": {
    "slideshow": {
     "slide_type": "slide"
    }
   },
   "source": [
    "La ejecución repetitiva del mismo bloque de código una y otra vez se denomina iteración."
   ]
  },
  {
   "cell_type": "markdown",
   "id": "18ed44ec",
   "metadata": {
    "slideshow": {
     "slide_type": "slide"
    }
   },
   "source": [
    "Hay dos tipos de iteración:"
   ]
  },
  {
   "cell_type": "markdown",
   "id": "d7d67553",
   "metadata": {
    "slideshow": {
     "slide_type": "slide"
    }
   },
   "source": [
    "* **Iteración definida**, en la que el número de repeticiones se especifica explícitamente de antemano"
   ]
  },
  {
   "cell_type": "markdown",
   "id": "c9392b45",
   "metadata": {
    "slideshow": {
     "slide_type": "slide"
    }
   },
   "source": [
    "* **Iteración indefinida**, en la que el bloque de código se ejecuta hasta que se cumple alguna condición."
   ]
  },
  {
   "cell_type": "markdown",
   "id": "7ad73083",
   "metadata": {
    "slideshow": {
     "slide_type": "slide"
    }
   },
   "source": [
    "En Python, la **iteración indefinida** se realiza con un bucle `while`."
   ]
  },
  {
   "cell_type": "markdown",
   "id": "94092e98",
   "metadata": {
    "slideshow": {
     "slide_type": "slide"
    }
   },
   "source": [
    "Comenzará con una comparación de algunos paradigmas diferentes utilizados por los lenguajes de programación para implementar una **iteración definida**."
   ]
  },
  {
   "cell_type": "markdown",
   "id": "45a8c8d1",
   "metadata": {
    "slideshow": {
     "slide_type": "slide"
    }
   },
   "source": [
    "Luego, aprenderá sobre **iterables** e **iteradores**, dos conceptos que forman la base de la iteración definida en Python."
   ]
  },
  {
   "cell_type": "markdown",
   "id": "f1909f75",
   "metadata": {
    "slideshow": {
     "slide_type": "slide"
    }
   },
   "source": [
    "Finalmente, lo unirá todo y aprenderá sobre los bucles `for` de Python."
   ]
  },
  {
   "cell_type": "markdown",
   "id": "72a77c48",
   "metadata": {
    "slideshow": {
     "slide_type": "slide"
    }
   },
   "source": []
  },
  {
   "cell_type": "code",
   "execution_count": null,
   "id": "78b19ac9",
   "metadata": {
    "slideshow": {
     "slide_type": "slide"
    }
   },
   "outputs": [],
   "source": []
  },
  {
   "cell_type": "code",
   "execution_count": null,
   "id": "58761262",
   "metadata": {
    "slideshow": {
     "slide_type": "slide"
    }
   },
   "outputs": [],
   "source": []
  },
  {
   "cell_type": "markdown",
   "id": "5c47e03f",
   "metadata": {
    "slideshow": {
     "slide_type": "slide"
    }
   },
   "source": [
    "## The Python for Loop"
   ]
  },
  {
   "cell_type": "markdown",
   "id": "19bd9a05",
   "metadata": {
    "slideshow": {
     "slide_type": "slide"
    }
   },
   "source": [
    "Python solo implementa la iteración basada en colecciones."
   ]
  },
  {
   "cell_type": "markdown",
   "id": "adc34969",
   "metadata": {
    "slideshow": {
     "slide_type": "slide"
    }
   },
   "source": [
    "La cual es un tipo de iteración bastante versatil. "
   ]
  },
  {
   "cell_type": "markdown",
   "id": "4453d930",
   "metadata": {
    "slideshow": {
     "slide_type": "slide"
    }
   },
   "source": [
    "El bucle `for` de Python se ve así:"
   ]
  },
  {
   "cell_type": "markdown",
   "id": "88c2e84c",
   "metadata": {
    "slideshow": {
     "slide_type": "slide"
    }
   },
   "source": [
    "```python\n",
    "for <var> in iterable:\n",
    "    <declaraciones>\n",
    "```"
   ]
  },
  {
   "cell_type": "markdown",
   "id": "5e33a305",
   "metadata": {
    "slideshow": {
     "slide_type": "slide"
    }
   },
   "source": [
    "`<iterable>` es una colección de objetos, por ejemplo, una lista o tupla."
   ]
  },
  {
   "cell_type": "markdown",
   "id": "3516e0c6",
   "metadata": {
    "slideshow": {
     "slide_type": "slide"
    }
   },
   "source": [
    "Las `<declaraciones>` en el cuerpo del bucle se indican con sangría, como con todas las estructuras de control de Python, y se ejecutan una vez para cada elemento en el `iterable`."
   ]
  },
  {
   "cell_type": "markdown",
   "id": "dfd1beb9",
   "metadata": {
    "slideshow": {
     "slide_type": "slide"
    }
   },
   "source": [
    "La variable de bucle `<var>` toma el valor del siguiente elemento en `<iterable>` cada vez que pasa por el bucle."
   ]
  },
  {
   "cell_type": "markdown",
   "id": "036d2778",
   "metadata": {
    "slideshow": {
     "slide_type": "slide"
    }
   },
   "source": [
    "He aquí un ejemplo representativo: "
   ]
  },
  {
   "cell_type": "code",
   "execution_count": 1,
   "id": "017e4bf6",
   "metadata": {
    "slideshow": {
     "slide_type": "slide"
    }
   },
   "outputs": [
    {
     "name": "stdout",
     "output_type": "stream",
     "text": [
      "foo\n",
      "bar\n",
      "baz\n"
     ]
    }
   ],
   "source": [
    "a = ['foo', 'bar', 'baz']\n",
    "for i in a:\n",
    "    print(i)\n"
   ]
  },
  {
   "cell_type": "markdown",
   "id": "600b12da",
   "metadata": {
    "slideshow": {
     "slide_type": "slide"
    }
   },
   "source": [
    "En este ejemplo, `<iterable>` es la lista `a` y <var> es la variable $i$."
   ]
  },
  {
   "cell_type": "markdown",
   "id": "401e3b97",
   "metadata": {
    "slideshow": {
     "slide_type": "slide"
    }
   },
   "source": [
    "Cada vez que recorre el ciclo, $ i $ toma un elemento sucesivo en `a`, por lo que `print()` muestra los valores `'foo'`, `'bar'` y `'baz'`, respectivamente."
   ]
  },
  {
   "cell_type": "markdown",
   "id": "b76bb824",
   "metadata": {
    "slideshow": {
     "slide_type": "slide"
    }
   },
   "source": [
    "Un bucle `for` como este es la forma Pythonic de procesar los elementos de forma iterable."
   ]
  },
  {
   "cell_type": "markdown",
   "id": "3efe6aed",
   "metadata": {
    "slideshow": {
     "slide_type": "slide"
    }
   },
   "source": [
    "Pero, ¿qué es exactamente un iterable?"
   ]
  },
  {
   "cell_type": "markdown",
   "id": "58abe155",
   "metadata": {
    "slideshow": {
     "slide_type": "slide"
    }
   },
   "source": [
    "Antes de seguir examinando los bucles, será beneficioso profundizar más en lo que son los iterables en Python."
   ]
  },
  {
   "cell_type": "markdown",
   "id": "cb73c246",
   "metadata": {
    "slideshow": {
     "slide_type": "slide"
    }
   },
   "source": [
    "## Iterables"
   ]
  },
  {
   "cell_type": "markdown",
   "id": "bf4de8cd",
   "metadata": {
    "slideshow": {
     "slide_type": "slide"
    }
   },
   "source": [
    "En Python, iterable significa que un objeto se puede usar en iteración. El término se usa como:"
   ]
  },
  {
   "cell_type": "markdown",
   "id": "939871b0",
   "metadata": {
    "slideshow": {
     "slide_type": "slide"
    }
   },
   "source": [
    "* **Un adjetivo**: un objeto puede describirse como iterable.\n",
    "* **Un sustantivo**: un objeto puede caracterizarse como iterable."
   ]
  },
  {
   "cell_type": "markdown",
   "id": "cf0a96fb",
   "metadata": {
    "slideshow": {
     "slide_type": "slide"
    }
   },
   "source": [
    "Si un objeto es iterable, se puede pasar a la función incorporada de Python `iter()`, que devuelve algo llamado iterador."
   ]
  },
  {
   "cell_type": "markdown",
   "id": "00761eb6",
   "metadata": {
    "slideshow": {
     "slide_type": "slide"
    }
   },
   "source": [
    "Cada uno de los objetos en el siguiente ejemplo es un iterable y devuelve algún tipo de iterador cuando se pasa a `iter()`:"
   ]
  },
  {
   "cell_type": "code",
   "execution_count": 2,
   "id": "3d4ccf26",
   "metadata": {
    "slideshow": {
     "slide_type": "slide"
    }
   },
   "outputs": [
    {
     "data": {
      "text/plain": [
       "<str_iterator at 0x1e5fbd747c0>"
      ]
     },
     "execution_count": 2,
     "metadata": {},
     "output_type": "execute_result"
    }
   ],
   "source": [
    "iter('foobar')                             # String\n"
   ]
  },
  {
   "cell_type": "code",
   "execution_count": 3,
   "id": "1f964731",
   "metadata": {
    "slideshow": {
     "slide_type": "slide"
    }
   },
   "outputs": [
    {
     "data": {
      "text/plain": [
       "<list_iterator at 0x1e5fbd74820>"
      ]
     },
     "execution_count": 3,
     "metadata": {},
     "output_type": "execute_result"
    }
   ],
   "source": [
    "iter(['foo', 'bar', 'baz'])                # List\n"
   ]
  },
  {
   "cell_type": "code",
   "execution_count": 4,
   "id": "e0d731f6",
   "metadata": {
    "slideshow": {
     "slide_type": "slide"
    }
   },
   "outputs": [
    {
     "data": {
      "text/plain": [
       "<tuple_iterator at 0x1e5fbd74070>"
      ]
     },
     "execution_count": 4,
     "metadata": {},
     "output_type": "execute_result"
    }
   ],
   "source": [
    "iter(('foo', 'bar', 'baz'))                # Tuple\n"
   ]
  },
  {
   "cell_type": "code",
   "execution_count": 5,
   "id": "2ae106f0",
   "metadata": {
    "slideshow": {
     "slide_type": "slide"
    }
   },
   "outputs": [
    {
     "data": {
      "text/plain": [
       "<set_iterator at 0x1e5fbdafa40>"
      ]
     },
     "execution_count": 5,
     "metadata": {},
     "output_type": "execute_result"
    }
   ],
   "source": [
    "iter({'foo', 'bar', 'baz'})                # Set\n"
   ]
  },
  {
   "cell_type": "code",
   "execution_count": 6,
   "id": "b793baa7",
   "metadata": {
    "slideshow": {
     "slide_type": "slide"
    }
   },
   "outputs": [
    {
     "data": {
      "text/plain": [
       "<dict_keyiterator at 0x1e5fbd79a90>"
      ]
     },
     "execution_count": 6,
     "metadata": {},
     "output_type": "execute_result"
    }
   ],
   "source": [
    "iter({'foo': 1, 'bar': 2, 'baz': 3})       # Dict\n"
   ]
  },
  {
   "cell_type": "markdown",
   "id": "842c6698",
   "metadata": {
    "slideshow": {
     "slide_type": "slide"
    }
   },
   "source": [
    "Estos tipos de objetos, por otro lado, no son iterables:"
   ]
  },
  {
   "cell_type": "code",
   "execution_count": 7,
   "id": "977aab6f",
   "metadata": {
    "slideshow": {
     "slide_type": "slide"
    }
   },
   "outputs": [
    {
     "ename": "TypeError",
     "evalue": "'int' object is not iterable",
     "output_type": "error",
     "traceback": [
      "\u001b[1;31m---------------------------------------------------------------------------\u001b[0m",
      "\u001b[1;31mTypeError\u001b[0m                                 Traceback (most recent call last)",
      "\u001b[1;32m<ipython-input-7-7c81397f0f48>\u001b[0m in \u001b[0;36m<module>\u001b[1;34m\u001b[0m\n\u001b[1;32m----> 1\u001b[1;33m \u001b[0miter\u001b[0m\u001b[1;33m(\u001b[0m\u001b[1;36m42\u001b[0m\u001b[1;33m)\u001b[0m                                   \u001b[1;31m# Integer\u001b[0m\u001b[1;33m\u001b[0m\u001b[1;33m\u001b[0m\u001b[0m\n\u001b[0m",
      "\u001b[1;31mTypeError\u001b[0m: 'int' object is not iterable"
     ]
    }
   ],
   "source": [
    "iter(42)                                   # Integer\n"
   ]
  },
  {
   "cell_type": "code",
   "execution_count": 8,
   "id": "f4cf451e",
   "metadata": {
    "slideshow": {
     "slide_type": "slide"
    }
   },
   "outputs": [
    {
     "ename": "TypeError",
     "evalue": "'float' object is not iterable",
     "output_type": "error",
     "traceback": [
      "\u001b[1;31m---------------------------------------------------------------------------\u001b[0m",
      "\u001b[1;31mTypeError\u001b[0m                                 Traceback (most recent call last)",
      "\u001b[1;32m<ipython-input-8-6fee2b578efc>\u001b[0m in \u001b[0;36m<module>\u001b[1;34m\u001b[0m\n\u001b[1;32m----> 1\u001b[1;33m \u001b[0miter\u001b[0m\u001b[1;33m(\u001b[0m\u001b[1;36m3.1\u001b[0m\u001b[1;33m)\u001b[0m                                  \u001b[1;31m# Float\u001b[0m\u001b[1;33m\u001b[0m\u001b[1;33m\u001b[0m\u001b[0m\n\u001b[0m",
      "\u001b[1;31mTypeError\u001b[0m: 'float' object is not iterable"
     ]
    }
   ],
   "source": [
    "iter(3.1)                                  # Float\n"
   ]
  },
  {
   "cell_type": "code",
   "execution_count": 9,
   "id": "6c719843",
   "metadata": {},
   "outputs": [
    {
     "ename": "TypeError",
     "evalue": "'builtin_function_or_method' object is not iterable",
     "output_type": "error",
     "traceback": [
      "\u001b[1;31m---------------------------------------------------------------------------\u001b[0m",
      "\u001b[1;31mTypeError\u001b[0m                                 Traceback (most recent call last)",
      "\u001b[1;32m<ipython-input-9-fd8c88013e37>\u001b[0m in \u001b[0;36m<module>\u001b[1;34m\u001b[0m\n\u001b[1;32m----> 1\u001b[1;33m \u001b[0miter\u001b[0m\u001b[1;33m(\u001b[0m\u001b[0mlen\u001b[0m\u001b[1;33m)\u001b[0m                                  \u001b[1;31m# Built-in function\u001b[0m\u001b[1;33m\u001b[0m\u001b[1;33m\u001b[0m\u001b[0m\n\u001b[0m",
      "\u001b[1;31mTypeError\u001b[0m: 'builtin_function_or_method' object is not iterable"
     ]
    }
   ],
   "source": [
    "iter(len)                                  # Built-in function\n"
   ]
  },
  {
   "cell_type": "markdown",
   "id": "6d68a2fd",
   "metadata": {
    "slideshow": {
     "slide_type": "slide"
    }
   },
   "source": [
    "Todos los tipos de datos que ha encontrado hasta ahora que son tipos de colección o contenedor son iterables."
   ]
  },
  {
   "cell_type": "markdown",
   "id": "29a6aee8",
   "metadata": {
    "slideshow": {
     "slide_type": "slide"
    }
   },
   "source": [
    "Estos incluyen los tipos `string`,` list`, `tuple`,` dict`, `set`. "
   ]
  },
  {
   "cell_type": "markdown",
   "id": "59e65410",
   "metadata": {
    "slideshow": {
     "slide_type": "slide"
    }
   },
   "source": [
    "Pero estos no son de ninguna manera los únicos tipos sobre los que puede iterar."
   ]
  },
  {
   "cell_type": "markdown",
   "id": "4150d9c9",
   "metadata": {
    "slideshow": {
     "slide_type": "slide"
    }
   },
   "source": [
    "Muchos objetos que están integrados en Python o definidos en módulos están diseñados para ser iterables."
   ]
  },
  {
   "cell_type": "markdown",
   "id": "015445c4",
   "metadata": {
    "slideshow": {
     "slide_type": "slide"
    }
   },
   "source": [
    "De hecho, casi cualquier objeto en Python se puede hacer iterable."
   ]
  },
  {
   "cell_type": "code",
   "execution_count": null,
   "id": "1cb98050",
   "metadata": {
    "slideshow": {
     "slide_type": "slide"
    }
   },
   "outputs": [],
   "source": []
  },
  {
   "cell_type": "markdown",
   "id": "b5ba5e3d",
   "metadata": {
    "slideshow": {
     "slide_type": "slide"
    }
   },
   "source": [
    "# Definir o construir funciones de usuario en Python"
   ]
  },
  {
   "cell_type": "markdown",
   "id": "7dc7c207",
   "metadata": {
    "slideshow": {
     "slide_type": "slide"
    }
   },
   "source": [
    "## [Video de apoyo a la lectura del tema de Funciones en Python](https://www.youtube.com/watch?v=08Z80jZuDd0)"
   ]
  },
  {
   "cell_type": "markdown",
   "id": "b55cc775",
   "metadata": {
    "slideshow": {
     "slide_type": "slide"
    }
   },
   "source": [
    "## Construcción de una función cuadrática"
   ]
  },
  {
   "cell_type": "code",
   "execution_count": null,
   "id": "30c8bd5d",
   "metadata": {
    "slideshow": {
     "slide_type": "slide"
    }
   },
   "outputs": [],
   "source": [
    "def funcion_cuadratica(x):\n",
    "    return x**2+x+1 "
   ]
  },
  {
   "cell_type": "code",
   "execution_count": null,
   "id": "3ee708f5",
   "metadata": {
    "slideshow": {
     "slide_type": "slide"
    }
   },
   "outputs": [],
   "source": [
    "funcion_cuadratica(0)"
   ]
  },
  {
   "cell_type": "code",
   "execution_count": null,
   "id": "cf4f6bfd",
   "metadata": {
    "slideshow": {
     "slide_type": "slide"
    }
   },
   "outputs": [],
   "source": [
    "def ceros_funcion_cuadratica(a,b,c):\n",
    "    solucion1 = (-b+(b**2-4*a*c)**(1/2))/(2*a)\n",
    "    solucion2 = (-b-(b**2-4*a*c)**(1/2))/(2*a)\n",
    "    return solucion1, solucion2"
   ]
  },
  {
   "cell_type": "code",
   "execution_count": null,
   "id": "b28d2a16",
   "metadata": {
    "slideshow": {
     "slide_type": "slide"
    }
   },
   "outputs": [],
   "source": [
    "ceros_funcion_cuadratica(1,1,1)"
   ]
  },
  {
   "cell_type": "code",
   "execution_count": null,
   "id": "6933e70c",
   "metadata": {
    "scrolled": true,
    "slideshow": {
     "slide_type": "slide"
    }
   },
   "outputs": [],
   "source": [
    "import matplotlib.pyplot as plt \n",
    "import numpy as np \n",
    "\n",
    "dominio = np.array([-4,-3,-2,-1,0,1,2,3]) \n",
    "rango = funcion_cuadratica(dominio) \n",
    "\n",
    "plt.plot(dominio, rango) \n",
    "\n",
    "plt.grid()\n",
    "\n",
    "plt.plot([-4,3],[0,0], color = 'red') \n",
    "\n",
    "plt.savefig('funcion_cuadratica.jpg')\n",
    "\n",
    "plt.show() "
   ]
  },
  {
   "cell_type": "markdown",
   "id": "c4cff2af",
   "metadata": {
    "slideshow": {
     "slide_type": "slide"
    }
   },
   "source": [
    "## Segundo ejemplo de construcción de funciones en Python"
   ]
  },
  {
   "cell_type": "markdown",
   "id": "b363a02c",
   "metadata": {
    "slideshow": {
     "slide_type": "slide"
    }
   },
   "source": [
    "Se desea reforestar un bosque que mide determinado número de hectáreas."
   ]
  },
  {
   "cell_type": "markdown",
   "id": "83d44353",
   "metadata": {
    "slideshow": {
     "slide_type": "slide"
    }
   },
   "source": [
    "Si la superficie del terreno excede un millón de metros cuadrados, entonces se sembrará de la siguiente manera:  \n",
    "\n",
    "* 70 % del terreno para pino\n",
    "* 20 del terreno para eucalipto\n",
    "* 10 del terreno para cedro  "
   ]
  },
  {
   "cell_type": "markdown",
   "id": "f1a55d5d",
   "metadata": {
    "slideshow": {
     "slide_type": "slide"
    }
   },
   "source": [
    "Si la superficie del terreno es menor o igual a un millón de metros cuadra\u0002dos, entonces se sembrará de la siguiente manera:\n",
    "* 45 del terreno para pino\n",
    "* 30 del terreno para eucalipto\n",
    "* 25 del terreno para cedro"
   ]
  },
  {
   "cell_type": "markdown",
   "id": "49919f72",
   "metadata": {
    "slideshow": {
     "slide_type": "slide"
    }
   },
   "source": [
    "Construya una función en la que pueda calcular el número de pinos, eucaliptos y cedros que se tendrán que sembrar en un bosque de `h` hectáreas, tomando en cuanta que \n",
    "\n",
    "* en 10 metros cuadrados caben 8 pinos, \n",
    "* en 15 metros cuadrados caben 15 eucaliptos y \n",
    "* en 18 metros cuadrados caben 10 cedros."
   ]
  },
  {
   "cell_type": "markdown",
   "id": "4e44dfba",
   "metadata": {
    "slideshow": {
     "slide_type": "slide"
    }
   },
   "source": [
    "## Solución"
   ]
  },
  {
   "cell_type": "code",
   "execution_count": null,
   "id": "63d885f0",
   "metadata": {
    "slideshow": {
     "slide_type": "slide"
    }
   },
   "outputs": [],
   "source": [
    "def numero_arboles_por_tipo(h): \n",
    "    return "
   ]
  },
  {
   "cell_type": "code",
   "execution_count": null,
   "id": "dc19ffe0",
   "metadata": {
    "slideshow": {
     "slide_type": "slide"
    }
   },
   "outputs": [],
   "source": [
    "def numero_arboles_por_tipo(h):\n",
    "    m = 10_000*h\n",
    "    return h "
   ]
  },
  {
   "cell_type": "code",
   "execution_count": null,
   "id": "e00224c9",
   "metadata": {
    "slideshow": {
     "slide_type": "slide"
    }
   },
   "outputs": [],
   "source": [
    "numero_arboles_por_tipo(h = 3)"
   ]
  },
  {
   "cell_type": "code",
   "execution_count": null,
   "id": "28321315",
   "metadata": {
    "slideshow": {
     "slide_type": "slide"
    }
   },
   "outputs": [],
   "source": [
    "def numero_arboles_por_tipo(h):\n",
    "    m = 10_000*h\n",
    "    if m > 1_000_000:\n",
    "        area_pino = 0.7*m\n",
    "        area_eucalipto = 0.2*m\n",
    "        area_cedro = 0.1*m\n",
    "    else:\n",
    "        area_pino = 0.45*m\n",
    "        area_eucalipto = 0.3*m\n",
    "        area_cedro = 0.25*m\n",
    "    return area_pino,area_eucalipto,area_cedro"
   ]
  },
  {
   "cell_type": "code",
   "execution_count": null,
   "id": "995e153f",
   "metadata": {
    "slideshow": {
     "slide_type": "slide"
    }
   },
   "outputs": [],
   "source": [
    "numero_arboles_por_tipo(h = 1)"
   ]
  },
  {
   "cell_type": "code",
   "execution_count": null,
   "id": "188285aa",
   "metadata": {
    "slideshow": {
     "slide_type": "slide"
    }
   },
   "outputs": [],
   "source": [
    "def numero_arboles_por_tipo(h):\n",
    "    m = 10_000*h\n",
    "    if m > 1_000_000:\n",
    "        area_pino = 0.7*m\n",
    "        area_eucalipto = 0.2*m\n",
    "        area_cedro = 0.1*m\n",
    "    else:\n",
    "        area_pino = 0.45*m\n",
    "        area_eucalipto = 0.3*m\n",
    "        area_cedro = 0.25*m\n",
    "    n_pinos = area_pino*(8/10) \n",
    "    n_eucaliptos = area_eucalipto*(15/15)\n",
    "    n_cedros = area_cedro*(10/18)\n",
    "    return n_pinos,n_eucaliptos,n_cedros"
   ]
  },
  {
   "cell_type": "code",
   "execution_count": null,
   "id": "c3f3bf08",
   "metadata": {
    "slideshow": {
     "slide_type": "slide"
    }
   },
   "outputs": [],
   "source": [
    "numero_arboles_por_tipo(h=1) "
   ]
  },
  {
   "cell_type": "markdown",
   "id": "0bb2edba",
   "metadata": {
    "slideshow": {
     "slide_type": "slide"
    }
   },
   "source": [
    "## Iterators"
   ]
  },
  {
   "cell_type": "markdown",
   "id": "3cdfec36",
   "metadata": {
    "slideshow": {
     "slide_type": "slide"
    }
   },
   "source": [
    "Okay, now you know what it means for an object to be iterable, and you know how to use `iter()` to obtain an iterator from it. "
   ]
  },
  {
   "cell_type": "markdown",
   "id": "52e1696b",
   "metadata": {
    "slideshow": {
     "slide_type": "slide"
    }
   },
   "source": [
    "Once you’ve got an iterator, what can you do with it?"
   ]
  },
  {
   "cell_type": "markdown",
   "id": "939aa7a1",
   "metadata": {
    "slideshow": {
     "slide_type": "slide"
    }
   },
   "source": [
    "An iterator is essentially a value producer that yields successive values from its associated iterable object. "
   ]
  },
  {
   "cell_type": "markdown",
   "id": "14a4383b",
   "metadata": {
    "slideshow": {
     "slide_type": "slide"
    }
   },
   "source": [
    "The built-in function `next()` is used to obtain the next value from in iterator."
   ]
  },
  {
   "cell_type": "markdown",
   "id": "a9c860f9",
   "metadata": {
    "slideshow": {
     "slide_type": "slide"
    }
   },
   "source": [
    "Here is an example using the same list as above:"
   ]
  },
  {
   "cell_type": "code",
   "execution_count": 10,
   "id": "3b73666e",
   "metadata": {
    "slideshow": {
     "slide_type": "slide"
    }
   },
   "outputs": [],
   "source": [
    "a = ['foo', 'bar', 'baz']"
   ]
  },
  {
   "cell_type": "code",
   "execution_count": 11,
   "id": "62dc0354",
   "metadata": {
    "slideshow": {
     "slide_type": "slide"
    }
   },
   "outputs": [
    {
     "data": {
      "text/plain": [
       "<list_iterator at 0x1e5fbd74d60>"
      ]
     },
     "execution_count": 11,
     "metadata": {},
     "output_type": "execute_result"
    }
   ],
   "source": [
    "itr = iter(a)\n",
    "itr"
   ]
  },
  {
   "cell_type": "code",
   "execution_count": 13,
   "id": "80e302dc",
   "metadata": {
    "slideshow": {
     "slide_type": "slide"
    }
   },
   "outputs": [
    {
     "data": {
      "text/plain": [
       "'bar'"
      ]
     },
     "execution_count": 13,
     "metadata": {},
     "output_type": "execute_result"
    }
   ],
   "source": [
    "next(itr)"
   ]
  },
  {
   "cell_type": "code",
   "execution_count": 14,
   "id": "3d28d30f",
   "metadata": {
    "slideshow": {
     "slide_type": "slide"
    }
   },
   "outputs": [
    {
     "data": {
      "text/plain": [
       "'baz'"
      ]
     },
     "execution_count": 14,
     "metadata": {},
     "output_type": "execute_result"
    }
   ],
   "source": [
    "next(itr)"
   ]
  },
  {
   "cell_type": "code",
   "execution_count": 15,
   "id": "b84f46ba",
   "metadata": {
    "slideshow": {
     "slide_type": "slide"
    }
   },
   "outputs": [
    {
     "ename": "StopIteration",
     "evalue": "",
     "output_type": "error",
     "traceback": [
      "\u001b[1;31m---------------------------------------------------------------------------\u001b[0m",
      "\u001b[1;31mStopIteration\u001b[0m                             Traceback (most recent call last)",
      "\u001b[1;32m<ipython-input-15-6693cc261707>\u001b[0m in \u001b[0;36m<module>\u001b[1;34m\u001b[0m\n\u001b[1;32m----> 1\u001b[1;33m \u001b[0mnext\u001b[0m\u001b[1;33m(\u001b[0m\u001b[0mitr\u001b[0m\u001b[1;33m)\u001b[0m\u001b[1;33m\u001b[0m\u001b[1;33m\u001b[0m\u001b[0m\n\u001b[0m",
      "\u001b[1;31mStopIteration\u001b[0m: "
     ]
    }
   ],
   "source": [
    "next(itr)"
   ]
  },
  {
   "cell_type": "markdown",
   "id": "160fa993",
   "metadata": {
    "slideshow": {
     "slide_type": "slide"
    }
   },
   "source": [
    "In this example, a is an iterable list and itr is the associated iterator, obtained with `iter()`. "
   ]
  },
  {
   "cell_type": "markdown",
   "id": "173e47e3",
   "metadata": {
    "slideshow": {
     "slide_type": "slide"
    }
   },
   "source": [
    "Each `next(itr)` call obtains the next value from `itr`."
   ]
  },
  {
   "cell_type": "markdown",
   "id": "96bcc9f7",
   "metadata": {
    "slideshow": {
     "slide_type": "slide"
    }
   },
   "source": [
    "Notice how an iterator retains its state internally. "
   ]
  },
  {
   "cell_type": "markdown",
   "id": "c31d17e3",
   "metadata": {
    "slideshow": {
     "slide_type": "slide"
    }
   },
   "source": [
    "It knows which values have been obtained already, so when you call `next()`, it knows what value to return next."
   ]
  },
  {
   "cell_type": "markdown",
   "id": "8e375684",
   "metadata": {
    "slideshow": {
     "slide_type": "slide"
    }
   },
   "source": [
    "What happens when the iterator runs out of values? Let’s make one more `next()` call on the iterator above:"
   ]
  },
  {
   "cell_type": "code",
   "execution_count": 16,
   "id": "4f37aaf8",
   "metadata": {},
   "outputs": [
    {
     "ename": "StopIteration",
     "evalue": "",
     "output_type": "error",
     "traceback": [
      "\u001b[1;31m---------------------------------------------------------------------------\u001b[0m",
      "\u001b[1;31mStopIteration\u001b[0m                             Traceback (most recent call last)",
      "\u001b[1;32m<ipython-input-16-6693cc261707>\u001b[0m in \u001b[0;36m<module>\u001b[1;34m\u001b[0m\n\u001b[1;32m----> 1\u001b[1;33m \u001b[0mnext\u001b[0m\u001b[1;33m(\u001b[0m\u001b[0mitr\u001b[0m\u001b[1;33m)\u001b[0m\u001b[1;33m\u001b[0m\u001b[1;33m\u001b[0m\u001b[0m\n\u001b[0m",
      "\u001b[1;31mStopIteration\u001b[0m: "
     ]
    }
   ],
   "source": [
    "next(itr)\n"
   ]
  },
  {
   "cell_type": "markdown",
   "id": "fe76a8e9",
   "metadata": {
    "slideshow": {
     "slide_type": "slide"
    }
   },
   "source": [
    "If all the values from an iterator have been returned already, a subsequent `next()` call raises a StopIteration exception. "
   ]
  },
  {
   "cell_type": "markdown",
   "id": "16ba0aff",
   "metadata": {
    "slideshow": {
     "slide_type": "slide"
    }
   },
   "source": [
    "Any further attempts to obtain values from the iterator will fail."
   ]
  },
  {
   "cell_type": "markdown",
   "id": "914cdb6b",
   "metadata": {
    "slideshow": {
     "slide_type": "slide"
    }
   },
   "source": [
    "You can only obtain values from an iterator in one direction. "
   ]
  },
  {
   "cell_type": "markdown",
   "id": "5267aeaa",
   "metadata": {
    "slideshow": {
     "slide_type": "slide"
    }
   },
   "source": [
    "You can’t go backward. There is no `prev()` function. "
   ]
  },
  {
   "cell_type": "markdown",
   "id": "1e1150e8",
   "metadata": {
    "slideshow": {
     "slide_type": "slide"
    }
   },
   "source": [
    "But you can define two independent iterators on the same iterable object:"
   ]
  },
  {
   "cell_type": "code",
   "execution_count": 17,
   "id": "355659a7",
   "metadata": {
    "slideshow": {
     "slide_type": "slide"
    }
   },
   "outputs": [
    {
     "data": {
      "text/plain": [
       "['foo', 'bar', 'baz']"
      ]
     },
     "execution_count": 17,
     "metadata": {},
     "output_type": "execute_result"
    }
   ],
   "source": [
    "a"
   ]
  },
  {
   "cell_type": "code",
   "execution_count": 18,
   "id": "5a273a3a",
   "metadata": {
    "slideshow": {
     "slide_type": "slide"
    }
   },
   "outputs": [],
   "source": [
    "itr1 = iter(a)\n",
    "itr2 = iter(a)"
   ]
  },
  {
   "cell_type": "code",
   "execution_count": 19,
   "id": "d2eb8bcc",
   "metadata": {
    "slideshow": {
     "slide_type": "slide"
    }
   },
   "outputs": [
    {
     "data": {
      "text/plain": [
       "'foo'"
      ]
     },
     "execution_count": 19,
     "metadata": {},
     "output_type": "execute_result"
    }
   ],
   "source": [
    "next(itr1)"
   ]
  },
  {
   "cell_type": "code",
   "execution_count": 21,
   "id": "09e203dd",
   "metadata": {
    "slideshow": {
     "slide_type": "slide"
    }
   },
   "outputs": [
    {
     "ename": "StopIteration",
     "evalue": "",
     "output_type": "error",
     "traceback": [
      "\u001b[1;31m---------------------------------------------------------------------------\u001b[0m",
      "\u001b[1;31mStopIteration\u001b[0m                             Traceback (most recent call last)",
      "\u001b[1;32m<ipython-input-21-0d1040ceefae>\u001b[0m in \u001b[0;36m<module>\u001b[1;34m\u001b[0m\n\u001b[1;32m----> 1\u001b[1;33m \u001b[0mnext\u001b[0m\u001b[1;33m(\u001b[0m\u001b[0mitr1\u001b[0m\u001b[1;33m)\u001b[0m\u001b[1;33m\u001b[0m\u001b[1;33m\u001b[0m\u001b[0m\n\u001b[0m",
      "\u001b[1;31mStopIteration\u001b[0m: "
     ]
    }
   ],
   "source": [
    "next(itr1)"
   ]
  },
  {
   "cell_type": "code",
   "execution_count": 22,
   "id": "89744c49",
   "metadata": {
    "slideshow": {
     "slide_type": "slide"
    }
   },
   "outputs": [
    {
     "ename": "StopIteration",
     "evalue": "",
     "output_type": "error",
     "traceback": [
      "\u001b[1;31m---------------------------------------------------------------------------\u001b[0m",
      "\u001b[1;31mStopIteration\u001b[0m                             Traceback (most recent call last)",
      "\u001b[1;32m<ipython-input-22-0d1040ceefae>\u001b[0m in \u001b[0;36m<module>\u001b[1;34m\u001b[0m\n\u001b[1;32m----> 1\u001b[1;33m \u001b[0mnext\u001b[0m\u001b[1;33m(\u001b[0m\u001b[0mitr1\u001b[0m\u001b[1;33m)\u001b[0m\u001b[1;33m\u001b[0m\u001b[1;33m\u001b[0m\u001b[0m\n\u001b[0m",
      "\u001b[1;31mStopIteration\u001b[0m: "
     ]
    }
   ],
   "source": [
    "next(itr1)"
   ]
  },
  {
   "cell_type": "code",
   "execution_count": 23,
   "id": "85faab66",
   "metadata": {
    "slideshow": {
     "slide_type": "slide"
    }
   },
   "outputs": [
    {
     "data": {
      "text/plain": [
       "'bar'"
      ]
     },
     "execution_count": 23,
     "metadata": {},
     "output_type": "execute_result"
    }
   ],
   "source": [
    "next(itr2)\n"
   ]
  },
  {
   "cell_type": "markdown",
   "id": "b5894258",
   "metadata": {
    "slideshow": {
     "slide_type": "slide"
    }
   },
   "source": [
    "Even when iterator `itr1` is already at the end of the `list`, `itr2` is still at the beginning. "
   ]
  },
  {
   "cell_type": "markdown",
   "id": "e304e8b9",
   "metadata": {
    "slideshow": {
     "slide_type": "slide"
    }
   },
   "source": [
    "Each iterator maintains its own internal state, independent of the other."
   ]
  },
  {
   "cell_type": "markdown",
   "id": "a87916ca",
   "metadata": {
    "slideshow": {
     "slide_type": "slide"
    }
   },
   "source": [
    "If you want to grab all the values from an iterator at once, you can use the built-in `list()` function. "
   ]
  },
  {
   "cell_type": "markdown",
   "id": "1fc48f18",
   "metadata": {
    "slideshow": {
     "slide_type": "slide"
    }
   },
   "source": [
    "Among other possible uses, `list()` takes an iterator as its argument, and returns a list consisting of all the values that the iterator yielded:"
   ]
  },
  {
   "cell_type": "code",
   "execution_count": 24,
   "id": "2bda2e4e",
   "metadata": {
    "slideshow": {
     "slide_type": "slide"
    }
   },
   "outputs": [],
   "source": [
    "a = ['foo', 'bar', 'baz']"
   ]
  },
  {
   "cell_type": "code",
   "execution_count": 25,
   "id": "46e33bb3",
   "metadata": {
    "slideshow": {
     "slide_type": "slide"
    }
   },
   "outputs": [],
   "source": [
    "itr = iter(a)"
   ]
  },
  {
   "cell_type": "code",
   "execution_count": 26,
   "id": "878225b4",
   "metadata": {
    "slideshow": {
     "slide_type": "slide"
    }
   },
   "outputs": [
    {
     "data": {
      "text/plain": [
       "['foo', 'bar', 'baz']"
      ]
     },
     "execution_count": 26,
     "metadata": {},
     "output_type": "execute_result"
    }
   ],
   "source": [
    "list(itr)\n"
   ]
  },
  {
   "cell_type": "markdown",
   "id": "0003a34d",
   "metadata": {
    "slideshow": {
     "slide_type": "slide"
    }
   },
   "source": [
    "De manera similar, las funciones incorporadas `tuple()` y `set()` devuelven una tupla y un conjunto, respectivamente, de todos los valores que produce un iterador:"
   ]
  },
  {
   "cell_type": "code",
   "execution_count": null,
   "id": "ffb56197",
   "metadata": {
    "slideshow": {
     "slide_type": "slide"
    }
   },
   "outputs": [],
   "source": [
    "a = ['foo', 'bar', 'baz']"
   ]
  },
  {
   "cell_type": "code",
   "execution_count": 27,
   "id": "b2036276",
   "metadata": {
    "slideshow": {
     "slide_type": "slide"
    }
   },
   "outputs": [
    {
     "data": {
      "text/plain": [
       "('foo', 'bar', 'baz')"
      ]
     },
     "execution_count": 27,
     "metadata": {},
     "output_type": "execute_result"
    }
   ],
   "source": [
    "itr = iter(a)\n",
    "tuple(itr)"
   ]
  },
  {
   "cell_type": "code",
   "execution_count": 28,
   "id": "7ed11dd9",
   "metadata": {
    "slideshow": {
     "slide_type": "slide"
    }
   },
   "outputs": [
    {
     "data": {
      "text/plain": [
       "{'bar', 'baz', 'foo'}"
      ]
     },
     "execution_count": 28,
     "metadata": {},
     "output_type": "execute_result"
    }
   ],
   "source": [
    "itr = iter(a)\n",
    "set(itr)"
   ]
  },
  {
   "cell_type": "markdown",
   "id": "79e45612",
   "metadata": {
    "slideshow": {
     "slide_type": "slide"
    }
   },
   "source": [
    "No es necesariamente aconsejable convertir esto en un hábito. "
   ]
  },
  {
   "cell_type": "markdown",
   "id": "c0d3da9a",
   "metadata": {
    "slideshow": {
     "slide_type": "slide"
    }
   },
   "source": [
    "Parte de la elegancia de los iteradores es que son \"vagos\". "
   ]
  },
  {
   "cell_type": "markdown",
   "id": "36b19b95",
   "metadata": {
    "slideshow": {
     "slide_type": "slide"
    }
   },
   "source": [
    "Eso significa que cuando crea un iterador, no genera todos los elementos que puede producir en ese momento. "
   ]
  },
  {
   "cell_type": "markdown",
   "id": "1e162961",
   "metadata": {
    "slideshow": {
     "slide_type": "slide"
    }
   },
   "source": [
    "Espera hasta que los solicite con `next()`. "
   ]
  },
  {
   "cell_type": "markdown",
   "id": "c578846d",
   "metadata": {
    "slideshow": {
     "slide_type": "slide"
    }
   },
   "source": [
    "Los elementos no se crean hasta que se solicitan."
   ]
  },
  {
   "cell_type": "markdown",
   "id": "bd66a69e",
   "metadata": {
    "slideshow": {
     "slide_type": "slide"
    }
   },
   "source": [
    "Cuando usa `list()`, `tuple()` o similares, está forzando al iterador a generar todos sus valores a la vez, para que todos puedan ser devueltos. Si el número total de objetos que devuelve el iterador es muy grande, puede llevar mucho tiempo."
   ]
  },
  {
   "cell_type": "markdown",
   "id": "145667ed",
   "metadata": {
    "slideshow": {
     "slide_type": "slide"
    }
   },
   "source": [
    "De hecho, es posible crear un iterador en Python que devuelva una serie interminable de objetos usando funciones generadoras y herramientas de iteración. Si intenta tomar todos los valores a la vez de un iterador sin fin, el programa se bloqueará."
   ]
  },
  {
   "cell_type": "code",
   "execution_count": null,
   "id": "19f92b5e",
   "metadata": {},
   "outputs": [],
   "source": []
  },
  {
   "cell_type": "code",
   "execution_count": null,
   "id": "9ca42b7f",
   "metadata": {},
   "outputs": [],
   "source": []
  },
  {
   "cell_type": "code",
   "execution_count": null,
   "id": "d12e8331",
   "metadata": {},
   "outputs": [],
   "source": []
  },
  {
   "cell_type": "code",
   "execution_count": null,
   "id": "ab9239a6",
   "metadata": {},
   "outputs": [],
   "source": []
  },
  {
   "cell_type": "code",
   "execution_count": null,
   "id": "6c46836e",
   "metadata": {
    "slideshow": {
     "slide_type": "-"
    }
   },
   "outputs": [],
   "source": []
  },
  {
   "cell_type": "code",
   "execution_count": null,
   "id": "1a6e1e02",
   "metadata": {},
   "outputs": [],
   "source": []
  },
  {
   "cell_type": "markdown",
   "id": "aabb54f9",
   "metadata": {
    "slideshow": {
     "slide_type": "slide"
    }
   },
   "source": [
    "## Referentes  \n",
    "\n",
    "* ciclo for según RealPython: https://realpython.com/python-for-loop/"
   ]
  },
  {
   "cell_type": "code",
   "execution_count": null,
   "id": "6f719a07",
   "metadata": {},
   "outputs": [],
   "source": []
  }
 ],
 "metadata": {
  "celltoolbar": "Slideshow",
  "kernelspec": {
   "display_name": "Python 3",
   "language": "python",
   "name": "python3"
  },
  "language_info": {
   "codemirror_mode": {
    "name": "ipython",
    "version": 3
   },
   "file_extension": ".py",
   "mimetype": "text/x-python",
   "name": "python",
   "nbconvert_exporter": "python",
   "pygments_lexer": "ipython3",
   "version": "3.8.8"
  },
  "latex_envs": {
   "LaTeX_envs_menu_present": true,
   "autoclose": false,
   "autocomplete": false,
   "bibliofile": "biblio.bib",
   "cite_by": "apalike",
   "current_citInitial": 1,
   "eqLabelWithNumbers": true,
   "eqNumInitial": 1,
   "hotkeys": {
    "equation": "Ctrl-E",
    "itemize": "Ctrl-I"
   },
   "labels_anchors": false,
   "latex_user_defs": false,
   "report_style_numbering": false,
   "user_envs_cfg": false
  },
  "rise": {
   "enable_chalkboard": true,
   "theme": "sky",
   "transition": "zoom"
  }
 },
 "nbformat": 4,
 "nbformat_minor": 5
}
