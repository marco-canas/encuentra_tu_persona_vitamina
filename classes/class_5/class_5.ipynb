{
 "cells": [
  {
   "cell_type": "markdown",
   "id": "c23e69d4",
   "metadata": {
    "slideshow": {
     "slide_type": "slide"
    }
   },
   "source": [
    "<table align=\"left\">\n",
    "  <td>\n",
    "    <a href=\"https://colab.research.google.com/github/marco-canas/introducci-n-al-Machine-Learning/blob/main/classes/class_5/class_5.ipynb\" target=\"_parent\"><img src=\"https://colab.research.google.com/assets/colab-badge.svg\" alt=\"Open In Colab\"/></a>\n",
    "  </td>\n",
    "  <td>\n",
    "    <a target=\"_blank\" href=\"https://kaggle.com/kernels/welcome?src=https://github.com/marco-canas/introducci-n-al-Machine-Learning/blob/main/classes/class_5/class_5.ipynb\"><img src=\"https://kaggle.com/static/images/open-in-kaggle.svg\" /></a>\n",
    "  </td>\n",
    "</table>\n"
   ]
  },
  {
   "cell_type": "markdown",
   "id": "8130578c",
   "metadata": {
    "slideshow": {
     "slide_type": "slide"
    }
   },
   "source": [
    "# Clase 5 "
   ]
  },
  {
   "cell_type": "markdown",
   "id": "4dce077c",
   "metadata": {
    "slideshow": {
     "slide_type": "slide"
    }
   },
   "source": [
    "## Participación aleatoria"
   ]
  },
  {
   "cell_type": "code",
   "execution_count": 1,
   "id": "ffb3293f",
   "metadata": {
    "slideshow": {
     "slide_type": "slide"
    }
   },
   "outputs": [],
   "source": [
    "import pandas as pd\n",
    "\n",
    "grupo_intro_ml = pd.read_csv('students.csv', sep = '\\t')  \n",
    "\n",
    "lista_estudiantes = list(grupo_intro_ml.Nombre.values)\n",
    "\n",
    "from random import randint, choice\n",
    "\n",
    "def seleccion_aleatoria():\n",
    "    if lista_estudiantes == []:\n",
    "        print('ya participaron todos los estudiantes') \n",
    "    else:\n",
    "        while lista_estudiantes != []:\n",
    "            student = choice(lista_estudiantes)\n",
    "            lista_estudiantes.remove(student)\n",
    "            return print(student)  \n",
    "    "
   ]
  },
  {
   "cell_type": "code",
   "execution_count": 6,
   "id": "1611b4ea",
   "metadata": {
    "slideshow": {
     "slide_type": "slide"
    }
   },
   "outputs": [
    {
     "name": "stdout",
     "output_type": "stream",
     "text": [
      "MONTOYA GONZALEZ PABLO ANDRES\n"
     ]
    }
   ],
   "source": [
    "seleccion_aleatoria()"
   ]
  },
  {
   "cell_type": "code",
   "execution_count": null,
   "id": "499d90e4",
   "metadata": {
    "slideshow": {
     "slide_type": "slide"
    }
   },
   "outputs": [],
   "source": []
  },
  {
   "cell_type": "markdown",
   "id": "8274bf55",
   "metadata": {
    "slideshow": {
     "slide_type": "slide"
    }
   },
   "source": [
    "## Objetivos\n",
    "\n",
    "* Presentar el concepto de ciclo `for` en Python\n",
    "* Presentar el concepto de función definita por el usuario en Python.\n",
    "* Presentar las librerías numpy, pandas y matplotlib. \n",
    "* Presentar el concepto de clase de Python (página 157 de Downey)"
   ]
  },
  {
   "cell_type": "markdown",
   "id": "5be5cef6",
   "metadata": {
    "slideshow": {
     "slide_type": "slide"
    }
   },
   "source": [
    "# [Python \"for\" Loops (Definite Iteration)](https://realpython.com/python-for-loop/)"
   ]
  },
  {
   "cell_type": "markdown",
   "id": "8182467b",
   "metadata": {
    "slideshow": {
     "slide_type": "slide"
    }
   },
   "source": [
    "<img src = 'https://files.realpython.com/media/Python-for-Loops-Definite-Iteration_Watermarked.b38126d495e1.jpg'>"
   ]
  },
  {
   "cell_type": "markdown",
   "id": "4af1e204",
   "metadata": {
    "slideshow": {
     "slide_type": "slide"
    }
   },
   "source": [
    "## Table of Contents"
   ]
  },
  {
   "cell_type": "markdown",
   "id": "f1f367af",
   "metadata": {
    "slideshow": {
     "slide_type": "slide"
    }
   },
   "source": [
    "* Una encuesta sobre la iteración definida en la programación\n",
    "  * Bucle de rango numérico\n",
    "  * Bucle de tres expresiones\n",
    "  * Bucle basado en colección o basado en iterador"
   ]
  },
  {
   "cell_type": "markdown",
   "id": "41b0ddab",
   "metadata": {
    "slideshow": {
     "slide_type": "slide"
    }
   },
   "source": [
    "* El bucle `for` de Python\n",
    "  * Iterables\n",
    "  * Iteradores\n",
    "* Iterando a través de un diccionario\n",
    "* La función `range ()`\n",
    "* Modificación del comportamiento del bucle `for`\n",
    "  * Las declaraciones `break` y` continue`\n",
    "  * La cláusula else\n",
    "* Conclusión"
   ]
  },
  {
   "cell_type": "markdown",
   "id": "9999f7e9",
   "metadata": {
    "slideshow": {
     "slide_type": "slide"
    }
   },
   "source": [
    "Este tutorial mostraré cómo realizar una iteración definida con un bucle `for` de Python."
   ]
  },
  {
   "cell_type": "markdown",
   "id": "538bf074",
   "metadata": {
    "slideshow": {
     "slide_type": "slide"
    }
   },
   "source": [
    "Hemos visto que:"
   ]
  },
  {
   "cell_type": "markdown",
   "id": "80079df0",
   "metadata": {
    "slideshow": {
     "slide_type": "slide"
    }
   },
   "source": [
    "La ejecución repetitiva del mismo bloque de código una y otra vez se denomina iteración."
   ]
  },
  {
   "cell_type": "markdown",
   "id": "44fd2a2f",
   "metadata": {
    "slideshow": {
     "slide_type": "slide"
    }
   },
   "source": [
    "Hay dos tipos de iteración:"
   ]
  },
  {
   "cell_type": "markdown",
   "id": "0e341647",
   "metadata": {
    "slideshow": {
     "slide_type": "slide"
    }
   },
   "source": [
    "* **Iteración definida**, en la que el número de repeticiones se especifica explícitamente de antemano"
   ]
  },
  {
   "cell_type": "markdown",
   "id": "3474d094",
   "metadata": {
    "slideshow": {
     "slide_type": "slide"
    }
   },
   "source": [
    "* **Iteración indefinida**, en la que el bloque de código se ejecuta hasta que se cumple alguna condición."
   ]
  },
  {
   "cell_type": "markdown",
   "id": "cb79f73f",
   "metadata": {
    "slideshow": {
     "slide_type": "slide"
    }
   },
   "source": [
    "En Python, la **iteración indefinida** se realiza con un bucle `while`."
   ]
  },
  {
   "cell_type": "markdown",
   "id": "494a35e1",
   "metadata": {
    "slideshow": {
     "slide_type": "slide"
    }
   },
   "source": [
    "Comenzará con una comparación de algunos paradigmas diferentes utilizados por los lenguajes de programación para implementar una **iteración definida**."
   ]
  },
  {
   "cell_type": "markdown",
   "id": "9dd9abe1",
   "metadata": {
    "slideshow": {
     "slide_type": "slide"
    }
   },
   "source": [
    "Luego, aprenderá sobre **iterables** e **iteradores**, dos conceptos que forman la base de la iteración definida en Python."
   ]
  },
  {
   "cell_type": "markdown",
   "id": "35743d5c",
   "metadata": {
    "slideshow": {
     "slide_type": "slide"
    }
   },
   "source": [
    "Finalmente, lo unirá todo y aprenderá sobre los bucles `for` de Python."
   ]
  },
  {
   "cell_type": "markdown",
   "id": "7905bd07",
   "metadata": {
    "slideshow": {
     "slide_type": "slide"
    }
   },
   "source": []
  },
  {
   "cell_type": "code",
   "execution_count": null,
   "id": "362f9007",
   "metadata": {
    "slideshow": {
     "slide_type": "slide"
    }
   },
   "outputs": [],
   "source": []
  },
  {
   "cell_type": "code",
   "execution_count": null,
   "id": "8a4ed068",
   "metadata": {
    "slideshow": {
     "slide_type": "slide"
    }
   },
   "outputs": [],
   "source": []
  },
  {
   "cell_type": "markdown",
   "id": "5c47e03f",
   "metadata": {
    "slideshow": {
     "slide_type": "slide"
    }
   },
   "source": [
    "## The Python for Loop"
   ]
  },
  {
   "cell_type": "markdown",
   "id": "19bd9a05",
   "metadata": {
    "slideshow": {
     "slide_type": "slide"
    }
   },
   "source": [
    "Python solo implementa la iteración basada en colecciones."
   ]
  },
  {
   "cell_type": "markdown",
   "id": "adc34969",
   "metadata": {
    "slideshow": {
     "slide_type": "slide"
    }
   },
   "source": [
    "La cual es un tipo de iteración bastante versatil. "
   ]
  },
  {
   "cell_type": "markdown",
   "id": "4453d930",
   "metadata": {
    "slideshow": {
     "slide_type": "slide"
    }
   },
   "source": [
    "El bucle `for` de Python se ve así:"
   ]
  },
  {
   "cell_type": "markdown",
   "id": "88c2e84c",
   "metadata": {
    "slideshow": {
     "slide_type": "slide"
    }
   },
   "source": [
    "```python\n",
    "for <var> in iterable:\n",
    "    <declaraciones>\n",
    "```"
   ]
  },
  {
   "cell_type": "markdown",
   "id": "5e33a305",
   "metadata": {
    "slideshow": {
     "slide_type": "slide"
    }
   },
   "source": [
    "`<iterable>` es una colección de objetos, por ejemplo, una lista o tupla."
   ]
  },
  {
   "cell_type": "markdown",
   "id": "3516e0c6",
   "metadata": {
    "slideshow": {
     "slide_type": "slide"
    }
   },
   "source": [
    "Las `<declaraciones>` en el cuerpo del bucle se indican con sangría, como con todas las estructuras de control de Python, y se ejecutan una vez para cada elemento en el `iterable`."
   ]
  },
  {
   "cell_type": "markdown",
   "id": "dfd1beb9",
   "metadata": {
    "slideshow": {
     "slide_type": "slide"
    }
   },
   "source": [
    "La variable de bucle `<var>` toma el valor del siguiente elemento en `<iterable>` cada vez que pasa por el bucle."
   ]
  },
  {
   "cell_type": "markdown",
   "id": "036d2778",
   "metadata": {
    "slideshow": {
     "slide_type": "slide"
    }
   },
   "source": [
    "He aquí un ejemplo representativo: "
   ]
  },
  {
   "cell_type": "code",
   "execution_count": null,
   "id": "017e4bf6",
   "metadata": {
    "slideshow": {
     "slide_type": "slide"
    }
   },
   "outputs": [],
   "source": [
    "a = ['foo', 'bar', 'baz']\n",
    "for i in a:\n",
    "    print(i)\n"
   ]
  },
  {
   "cell_type": "markdown",
   "id": "600b12da",
   "metadata": {
    "slideshow": {
     "slide_type": "slide"
    }
   },
   "source": [
    "En este ejemplo, `<iterable>` es la lista `a` y <var> es la variable $i$."
   ]
  },
  {
   "cell_type": "markdown",
   "id": "401e3b97",
   "metadata": {
    "slideshow": {
     "slide_type": "slide"
    }
   },
   "source": [
    "Cada vez que recorre el ciclo, $ i $ toma un elemento sucesivo en `a`, por lo que `print()` muestra los valores `'foo'`, `'bar'` y `'baz'`, respectivamente."
   ]
  },
  {
   "cell_type": "markdown",
   "id": "b76bb824",
   "metadata": {
    "slideshow": {
     "slide_type": "slide"
    }
   },
   "source": [
    "Un bucle `for` como este es la forma Pythonic de procesar los elementos de forma iterable."
   ]
  },
  {
   "cell_type": "markdown",
   "id": "3efe6aed",
   "metadata": {
    "slideshow": {
     "slide_type": "slide"
    }
   },
   "source": [
    "Pero, ¿qué es exactamente un iterable?"
   ]
  },
  {
   "cell_type": "markdown",
   "id": "58abe155",
   "metadata": {
    "slideshow": {
     "slide_type": "slide"
    }
   },
   "source": [
    "Antes de seguir examinando los bucles, será beneficioso profundizar más en lo que son los iterables en Python."
   ]
  },
  {
   "cell_type": "markdown",
   "id": "cb73c246",
   "metadata": {
    "slideshow": {
     "slide_type": "slide"
    }
   },
   "source": [
    "## Iterables"
   ]
  },
  {
   "cell_type": "markdown",
   "id": "bf4de8cd",
   "metadata": {
    "slideshow": {
     "slide_type": "slide"
    }
   },
   "source": [
    "En Python, iterable significa que un objeto se puede usar en iteración. El término se usa como:"
   ]
  },
  {
   "cell_type": "markdown",
   "id": "939871b0",
   "metadata": {
    "slideshow": {
     "slide_type": "slide"
    }
   },
   "source": [
    "* **Un adjetivo**: un objeto puede describirse como iterable.\n",
    "* **Un sustantivo**: un objeto puede caracterizarse como iterable."
   ]
  },
  {
   "cell_type": "markdown",
   "id": "8f088c34",
   "metadata": {
    "slideshow": {
     "slide_type": "slide"
    }
   },
   "source": [
    "Si un objeto es iterable, se puede pasar a la función incorporada de Python `iter()`, que devuelve algo llamado iterador."
   ]
  },
  {
   "cell_type": "markdown",
   "id": "00761eb6",
   "metadata": {
    "slideshow": {
     "slide_type": "slide"
    }
   },
   "source": [
    "Cada uno de los objetos en el siguiente ejemplo es un iterable y devuelve algún tipo de iterador cuando se pasa a `iter()`:"
   ]
  },
  {
   "cell_type": "code",
   "execution_count": null,
   "id": "3d4ccf26",
   "metadata": {
    "slideshow": {
     "slide_type": "slide"
    }
   },
   "outputs": [],
   "source": [
    "iter('foobar')                             # String\n"
   ]
  },
  {
   "cell_type": "code",
   "execution_count": null,
   "id": "1f964731",
   "metadata": {
    "slideshow": {
     "slide_type": "slide"
    }
   },
   "outputs": [],
   "source": [
    "iter(['foo', 'bar', 'baz'])                # List\n"
   ]
  },
  {
   "cell_type": "code",
   "execution_count": null,
   "id": "e0d731f6",
   "metadata": {
    "slideshow": {
     "slide_type": "slide"
    }
   },
   "outputs": [],
   "source": [
    "iter(('foo', 'bar', 'baz'))                # Tuple\n"
   ]
  },
  {
   "cell_type": "code",
   "execution_count": null,
   "id": "2ae106f0",
   "metadata": {
    "slideshow": {
     "slide_type": "slide"
    }
   },
   "outputs": [],
   "source": [
    "iter({'foo', 'bar', 'baz'})                # Set\n"
   ]
  },
  {
   "cell_type": "code",
   "execution_count": null,
   "id": "b793baa7",
   "metadata": {
    "slideshow": {
     "slide_type": "slide"
    }
   },
   "outputs": [],
   "source": [
    "iter({'foo': 1, 'bar': 2, 'baz': 3})       # Dict\n"
   ]
  },
  {
   "cell_type": "markdown",
   "id": "842c6698",
   "metadata": {
    "slideshow": {
     "slide_type": "slide"
    }
   },
   "source": [
    "Estos tipos de objetos, por otro lado, no son iterables:"
   ]
  },
  {
   "cell_type": "code",
   "execution_count": null,
   "id": "977aab6f",
   "metadata": {
    "slideshow": {
     "slide_type": "slide"
    }
   },
   "outputs": [],
   "source": [
    "iter(42)                                   # Integer\n"
   ]
  },
  {
   "cell_type": "code",
   "execution_count": null,
   "id": "f4cf451e",
   "metadata": {
    "slideshow": {
     "slide_type": "slide"
    }
   },
   "outputs": [],
   "source": [
    "iter(3.1)                                  # Float\n"
   ]
  },
  {
   "cell_type": "code",
   "execution_count": null,
   "id": "6c719843",
   "metadata": {
    "slideshow": {
     "slide_type": "slide"
    }
   },
   "outputs": [],
   "source": [
    "iter(len)                                  # Built-in function\n"
   ]
  },
  {
   "cell_type": "markdown",
   "id": "6d68a2fd",
   "metadata": {
    "slideshow": {
     "slide_type": "slide"
    }
   },
   "source": [
    "Todos los tipos de datos que ha encontrado hasta ahora que son tipos de colección o contenedor son iterables."
   ]
  },
  {
   "cell_type": "markdown",
   "id": "29a6aee8",
   "metadata": {
    "slideshow": {
     "slide_type": "slide"
    }
   },
   "source": [
    "Estos incluyen los tipos `string`,` list`, `tuple`,` dict`, `set`. "
   ]
  },
  {
   "cell_type": "markdown",
   "id": "59e65410",
   "metadata": {
    "slideshow": {
     "slide_type": "slide"
    }
   },
   "source": [
    "Pero estos no son de ninguna manera los únicos tipos sobre los que puede iterar."
   ]
  },
  {
   "cell_type": "markdown",
   "id": "4150d9c9",
   "metadata": {
    "slideshow": {
     "slide_type": "slide"
    }
   },
   "source": [
    "Muchos objetos que están integrados en Python o definidos en módulos están diseñados para ser iterables."
   ]
  },
  {
   "cell_type": "markdown",
   "id": "015445c4",
   "metadata": {
    "slideshow": {
     "slide_type": "slide"
    }
   },
   "source": [
    "De hecho, casi cualquier objeto en Python se puede hacer iterable."
   ]
  },
  {
   "cell_type": "code",
   "execution_count": null,
   "id": "1cb98050",
   "metadata": {
    "slideshow": {
     "slide_type": "slide"
    }
   },
   "outputs": [],
   "source": []
  },
  {
   "cell_type": "markdown",
   "id": "3d65b721",
   "metadata": {
    "slideshow": {
     "slide_type": "slide"
    }
   },
   "source": [
    "# Definir o construir funciones de usuario en Python"
   ]
  },
  {
   "cell_type": "markdown",
   "id": "e03a5f7d",
   "metadata": {
    "slideshow": {
     "slide_type": "slide"
    }
   },
   "source": [
    "## [Video de apoyo a la lectura del tema de Funciones en Python](https://www.youtube.com/watch?v=08Z80jZuDd0)"
   ]
  },
  {
   "cell_type": "markdown",
   "id": "096456c3",
   "metadata": {
    "slideshow": {
     "slide_type": "slide"
    }
   },
   "source": [
    "## Construcción de una función cuadrática"
   ]
  },
  {
   "cell_type": "code",
   "execution_count": null,
   "id": "30c8bd5d",
   "metadata": {
    "slideshow": {
     "slide_type": "slide"
    }
   },
   "outputs": [],
   "source": [
    "def funcion_cuadratica(x):\n",
    "    return x**2+x+1 "
   ]
  },
  {
   "cell_type": "code",
   "execution_count": null,
   "id": "3ee708f5",
   "metadata": {
    "slideshow": {
     "slide_type": "slide"
    }
   },
   "outputs": [],
   "source": [
    "funcion_cuadratica(0)"
   ]
  },
  {
   "cell_type": "code",
   "execution_count": null,
   "id": "cf4f6bfd",
   "metadata": {
    "slideshow": {
     "slide_type": "slide"
    }
   },
   "outputs": [],
   "source": [
    "def ceros_funcion_cuadratica(a,b,c):\n",
    "    solucion1 = (-b+(b**2-4*a*c)**(1/2))/(2*a)\n",
    "    solucion2 = (-b-(b**2-4*a*c)**(1/2))/(2*a)\n",
    "    return solucion1, solucion2"
   ]
  },
  {
   "cell_type": "code",
   "execution_count": null,
   "id": "b28d2a16",
   "metadata": {
    "slideshow": {
     "slide_type": "slide"
    }
   },
   "outputs": [],
   "source": [
    "ceros_funcion_cuadratica(1,1,1)"
   ]
  },
  {
   "cell_type": "code",
   "execution_count": null,
   "id": "54a0732a",
   "metadata": {
    "scrolled": true,
    "slideshow": {
     "slide_type": "slide"
    }
   },
   "outputs": [],
   "source": [
    "import matplotlib.pyplot as plt \n",
    "import numpy as np \n",
    "\n",
    "dominio = np.array([-4,-3,-2,-1,0,1,2,3]) \n",
    "rango = funcion_cuadratica(dominio) \n",
    "\n",
    "plt.plot(dominio, rango) \n",
    "\n",
    "plt.grid()\n",
    "\n",
    "plt.plot([-4,3],[0,0], color = 'red') \n",
    "\n",
    "plt.savefig('funcion_cuadratica.jpg')\n",
    "\n",
    "plt.show() "
   ]
  },
  {
   "cell_type": "markdown",
   "id": "34a33209",
   "metadata": {
    "slideshow": {
     "slide_type": "slide"
    }
   },
   "source": [
    "## Segundo ejemplo de construcción de funciones en Python"
   ]
  },
  {
   "cell_type": "markdown",
   "id": "e444d965",
   "metadata": {
    "slideshow": {
     "slide_type": "slide"
    }
   },
   "source": [
    "Se desea reforestar un bosque que mide determinado número de hectáreas."
   ]
  },
  {
   "cell_type": "markdown",
   "id": "48065a5b",
   "metadata": {
    "slideshow": {
     "slide_type": "slide"
    }
   },
   "source": [
    "Si la superficie del terreno excede un millón de metros cuadrados, entonces se sembrará de la siguiente manera:  \n",
    "\n",
    "* 70 % del terreno para pino\n",
    "* 20 del terreno para eucalipto\n",
    "* 10 del terreno para cedro  "
   ]
  },
  {
   "cell_type": "markdown",
   "id": "34cdfb6c",
   "metadata": {
    "slideshow": {
     "slide_type": "slide"
    }
   },
   "source": [
    "Si la superficie del terreno es menor o igual a un millón de metros cuadra\u0002dos, entonces se sembrará de la siguiente manera:\n",
    "* 45 del terreno para pino\n",
    "* 30 del terreno para eucalipto\n",
    "* 25 del terreno para cedro"
   ]
  },
  {
   "cell_type": "markdown",
   "id": "e549381b",
   "metadata": {
    "slideshow": {
     "slide_type": "slide"
    }
   },
   "source": [
    "Construya una función en la que pueda calcular el número de pinos, eucaliptos y cedros que se tendrán que sembrar en un bosque de `h` hectáreas, tomando en cuanta que \n",
    "\n",
    "* en 10 metros cuadrados caben 8 pinos, \n",
    "* en 15 metros cuadrados caben 15 eucaliptos y \n",
    "* en 18 metros cuadrados caben 10 cedros."
   ]
  },
  {
   "cell_type": "markdown",
   "id": "53417fbe",
   "metadata": {
    "slideshow": {
     "slide_type": "slide"
    }
   },
   "source": [
    "## Solución"
   ]
  },
  {
   "cell_type": "code",
   "execution_count": null,
   "id": "4452f734",
   "metadata": {
    "slideshow": {
     "slide_type": "slide"
    }
   },
   "outputs": [],
   "source": [
    "def numero_arboles_por_tipo(h): \n",
    "    return "
   ]
  },
  {
   "cell_type": "code",
   "execution_count": null,
   "id": "f992ea78",
   "metadata": {
    "slideshow": {
     "slide_type": "slide"
    }
   },
   "outputs": [],
   "source": [
    "def numero_arboles_por_tipo(h):\n",
    "    m = 10_000*h\n",
    "    return h "
   ]
  },
  {
   "cell_type": "code",
   "execution_count": null,
   "id": "86038bf2",
   "metadata": {
    "slideshow": {
     "slide_type": "slide"
    }
   },
   "outputs": [],
   "source": [
    "numero_arboles_por_tipo(h = 3)"
   ]
  },
  {
   "cell_type": "code",
   "execution_count": null,
   "id": "881d9ac6",
   "metadata": {
    "slideshow": {
     "slide_type": "slide"
    }
   },
   "outputs": [],
   "source": [
    "def numero_arboles_por_tipo(h):\n",
    "    m = 10_000*h\n",
    "    if m > 1_000_000:\n",
    "        area_pino = 0.7*m\n",
    "        area_eucalipto = 0.2*m\n",
    "        area_cedro = 0.1*m\n",
    "    else:\n",
    "        area_pino = 0.45*m\n",
    "        area_eucalipto = 0.3*m\n",
    "        area_cedro = 0.25*m\n",
    "    return area_pino,area_eucalipto,area_cedro"
   ]
  },
  {
   "cell_type": "code",
   "execution_count": null,
   "id": "d2144215",
   "metadata": {
    "slideshow": {
     "slide_type": "slide"
    }
   },
   "outputs": [],
   "source": [
    "numero_arboles_por_tipo(h = 1)"
   ]
  },
  {
   "cell_type": "code",
   "execution_count": null,
   "id": "93c4ba5f",
   "metadata": {
    "slideshow": {
     "slide_type": "slide"
    }
   },
   "outputs": [],
   "source": [
    "def numero_arboles_por_tipo(h):\n",
    "    m = 10_000*h\n",
    "    if m > 1_000_000:\n",
    "        area_pino = 0.7*m\n",
    "        area_eucalipto = 0.2*m\n",
    "        area_cedro = 0.1*m\n",
    "    else:\n",
    "        area_pino = 0.45*m\n",
    "        area_eucalipto = 0.3*m\n",
    "        area_cedro = 0.25*m\n",
    "    n_pinos = area_pino*(8/10) \n",
    "    n_eucaliptos = area_eucalipto*(15/15)\n",
    "    n_cedros = area_cedro*(10/18)\n",
    "    return n_pinos,n_eucaliptos,n_cedros"
   ]
  },
  {
   "cell_type": "code",
   "execution_count": null,
   "id": "fbc17b48",
   "metadata": {
    "slideshow": {
     "slide_type": "slide"
    }
   },
   "outputs": [],
   "source": [
    "numero_arboles_por_tipo(h=1) "
   ]
  },
  {
   "cell_type": "markdown",
   "id": "422e35cb",
   "metadata": {
    "slideshow": {
     "slide_type": "slide"
    }
   },
   "source": [
    "## Iterators"
   ]
  },
  {
   "cell_type": "markdown",
   "id": "d41d378c",
   "metadata": {
    "slideshow": {
     "slide_type": "slide"
    }
   },
   "source": [
    "Okay, now you know what it means for an object to be iterable, and you know how to use `iter()` to obtain an iterator from it. "
   ]
  },
  {
   "cell_type": "markdown",
   "id": "28aedf4b",
   "metadata": {
    "slideshow": {
     "slide_type": "slide"
    }
   },
   "source": [
    "Once you’ve got an iterator, what can you do with it?"
   ]
  },
  {
   "cell_type": "markdown",
   "id": "06ada8f9",
   "metadata": {
    "slideshow": {
     "slide_type": "slide"
    }
   },
   "source": [
    "An iterator is essentially a value producer that yields successive values from its associated iterable object. "
   ]
  },
  {
   "cell_type": "markdown",
   "id": "97023520",
   "metadata": {
    "slideshow": {
     "slide_type": "slide"
    }
   },
   "source": [
    "The built-in function `next()` is used to obtain the next value from in iterator."
   ]
  },
  {
   "cell_type": "markdown",
   "id": "c3009db3",
   "metadata": {
    "slideshow": {
     "slide_type": "slide"
    }
   },
   "source": [
    "Here is an example using the same list as above:"
   ]
  },
  {
   "cell_type": "code",
   "execution_count": null,
   "id": "3cfcb764",
   "metadata": {
    "slideshow": {
     "slide_type": "slide"
    }
   },
   "outputs": [],
   "source": [
    "a = ['foo', 'bar', 'baz']"
   ]
  },
  {
   "cell_type": "code",
   "execution_count": null,
   "id": "f3215b7b",
   "metadata": {
    "slideshow": {
     "slide_type": "slide"
    }
   },
   "outputs": [],
   "source": [
    "itr = iter(a)\n",
    "itr"
   ]
  },
  {
   "cell_type": "code",
   "execution_count": null,
   "id": "d875bccc",
   "metadata": {
    "slideshow": {
     "slide_type": "slide"
    }
   },
   "outputs": [],
   "source": [
    "next(itr)"
   ]
  },
  {
   "cell_type": "code",
   "execution_count": null,
   "id": "eceedafc",
   "metadata": {
    "slideshow": {
     "slide_type": "slide"
    }
   },
   "outputs": [],
   "source": [
    "next(itr)"
   ]
  },
  {
   "cell_type": "code",
   "execution_count": null,
   "id": "0b86ace6",
   "metadata": {
    "slideshow": {
     "slide_type": "slide"
    }
   },
   "outputs": [],
   "source": [
    "next(itr)"
   ]
  },
  {
   "cell_type": "markdown",
   "id": "4faac7ff",
   "metadata": {
    "slideshow": {
     "slide_type": "slide"
    }
   },
   "source": [
    "In this example, a is an iterable list and itr is the associated iterator, obtained with `iter()`. "
   ]
  },
  {
   "cell_type": "markdown",
   "id": "a656cfe8",
   "metadata": {
    "slideshow": {
     "slide_type": "slide"
    }
   },
   "source": [
    "Each `next(itr)` call obtains the next value from `itr`."
   ]
  },
  {
   "cell_type": "markdown",
   "id": "e3064c47",
   "metadata": {
    "slideshow": {
     "slide_type": "slide"
    }
   },
   "source": [
    "Notice how an iterator retains its state internally. "
   ]
  },
  {
   "cell_type": "markdown",
   "id": "59777034",
   "metadata": {
    "slideshow": {
     "slide_type": "slide"
    }
   },
   "source": [
    "It knows which values have been obtained already, so when you call `next()`, it knows what value to return next."
   ]
  },
  {
   "cell_type": "markdown",
   "id": "4cba69ea",
   "metadata": {
    "slideshow": {
     "slide_type": "slide"
    }
   },
   "source": [
    "What happens when the iterator runs out of values? Let’s make one more `next()` call on the iterator above:"
   ]
  },
  {
   "cell_type": "code",
   "execution_count": null,
   "id": "4a5b6900",
   "metadata": {
    "slideshow": {
     "slide_type": "slide"
    }
   },
   "outputs": [],
   "source": [
    "next(itr)\n"
   ]
  },
  {
   "cell_type": "markdown",
   "id": "05d695b7",
   "metadata": {
    "slideshow": {
     "slide_type": "slide"
    }
   },
   "source": [
    "If all the values from an iterator have been returned already, a subsequent `next()` call raises a StopIteration exception. "
   ]
  },
  {
   "cell_type": "markdown",
   "id": "c2a975ec",
   "metadata": {
    "slideshow": {
     "slide_type": "slide"
    }
   },
   "source": [
    "Any further attempts to obtain values from the iterator will fail."
   ]
  },
  {
   "cell_type": "markdown",
   "id": "5524d195",
   "metadata": {
    "slideshow": {
     "slide_type": "slide"
    }
   },
   "source": [
    "You can only obtain values from an iterator in one direction. "
   ]
  },
  {
   "cell_type": "markdown",
   "id": "43045a7c",
   "metadata": {
    "slideshow": {
     "slide_type": "slide"
    }
   },
   "source": [
    "You can’t go backward. "
   ]
  },
  {
   "cell_type": "markdown",
   "id": "34ceb8ad",
   "metadata": {
    "slideshow": {
     "slide_type": "slide"
    }
   },
   "source": [
    "There is no `prev()` function. "
   ]
  },
  {
   "cell_type": "markdown",
   "id": "75273e9a",
   "metadata": {
    "slideshow": {
     "slide_type": "slide"
    }
   },
   "source": [
    "But you can define two independent iterators on the same iterable object:"
   ]
  },
  {
   "cell_type": "code",
   "execution_count": null,
   "id": "e090682b",
   "metadata": {
    "slideshow": {
     "slide_type": "slide"
    }
   },
   "outputs": [],
   "source": [
    "a"
   ]
  },
  {
   "cell_type": "code",
   "execution_count": null,
   "id": "c6c65d3f",
   "metadata": {
    "slideshow": {
     "slide_type": "slide"
    }
   },
   "outputs": [],
   "source": [
    "itr1 = iter(a)\n",
    "itr2 = iter(a)"
   ]
  },
  {
   "cell_type": "code",
   "execution_count": null,
   "id": "e92706b1",
   "metadata": {
    "slideshow": {
     "slide_type": "slide"
    }
   },
   "outputs": [],
   "source": [
    "next(itr1)"
   ]
  },
  {
   "cell_type": "code",
   "execution_count": null,
   "id": "49e2f117",
   "metadata": {
    "slideshow": {
     "slide_type": "slide"
    }
   },
   "outputs": [],
   "source": [
    "next(itr1)"
   ]
  },
  {
   "cell_type": "code",
   "execution_count": null,
   "id": "f10850dd",
   "metadata": {
    "slideshow": {
     "slide_type": "slide"
    }
   },
   "outputs": [],
   "source": [
    "next(itr1)"
   ]
  },
  {
   "cell_type": "code",
   "execution_count": null,
   "id": "67893925",
   "metadata": {
    "slideshow": {
     "slide_type": "slide"
    }
   },
   "outputs": [],
   "source": [
    "next(itr2)\n"
   ]
  },
  {
   "cell_type": "markdown",
   "id": "e3d0ca06",
   "metadata": {
    "slideshow": {
     "slide_type": "slide"
    }
   },
   "source": [
    "Even when iterator `itr1` is already at the end of the `list`, `itr2` is still at the beginning. "
   ]
  },
  {
   "cell_type": "markdown",
   "id": "341c7ef0",
   "metadata": {
    "slideshow": {
     "slide_type": "slide"
    }
   },
   "source": [
    "Each iterator maintains its own internal state, independent of the other."
   ]
  },
  {
   "cell_type": "markdown",
   "id": "0f009a66",
   "metadata": {
    "slideshow": {
     "slide_type": "slide"
    }
   },
   "source": [
    "If you want to grab all the values from an iterator at once, you can use the built-in `list()` function. "
   ]
  },
  {
   "cell_type": "markdown",
   "id": "c482c75c",
   "metadata": {
    "slideshow": {
     "slide_type": "slide"
    }
   },
   "source": [
    "Among other possible uses, `list()` takes an iterator as its argument, and returns a list consisting of all the values that the iterator yielded:"
   ]
  },
  {
   "cell_type": "code",
   "execution_count": null,
   "id": "6983be35",
   "metadata": {
    "slideshow": {
     "slide_type": "slide"
    }
   },
   "outputs": [],
   "source": [
    "a = ['foo', 'bar', 'baz']"
   ]
  },
  {
   "cell_type": "code",
   "execution_count": null,
   "id": "5e112bf7",
   "metadata": {
    "slideshow": {
     "slide_type": "slide"
    }
   },
   "outputs": [],
   "source": [
    "itr = iter(a)"
   ]
  },
  {
   "cell_type": "code",
   "execution_count": null,
   "id": "ace5c0ce",
   "metadata": {
    "slideshow": {
     "slide_type": "slide"
    }
   },
   "outputs": [],
   "source": [
    "list(itr)\n"
   ]
  },
  {
   "cell_type": "markdown",
   "id": "eff2b8bd",
   "metadata": {
    "slideshow": {
     "slide_type": "slide"
    }
   },
   "source": [
    "De manera similar, las funciones incorporadas `tuple()` y `set()` devuelven una tupla y un conjunto, respectivamente, de todos los valores que produce un iterador:"
   ]
  },
  {
   "cell_type": "code",
   "execution_count": null,
   "id": "baf4aa94",
   "metadata": {
    "slideshow": {
     "slide_type": "slide"
    }
   },
   "outputs": [],
   "source": [
    "a = ['foo', 'bar', 'baz']"
   ]
  },
  {
   "cell_type": "code",
   "execution_count": null,
   "id": "a5bc1cee",
   "metadata": {
    "slideshow": {
     "slide_type": "slide"
    }
   },
   "outputs": [],
   "source": [
    "itr = iter(a)\n",
    "tuple(itr)"
   ]
  },
  {
   "cell_type": "code",
   "execution_count": null,
   "id": "bccdc687",
   "metadata": {
    "slideshow": {
     "slide_type": "slide"
    }
   },
   "outputs": [],
   "source": [
    "itr = iter(a)\n",
    "set(itr)"
   ]
  },
  {
   "cell_type": "markdown",
   "id": "c295074c",
   "metadata": {
    "slideshow": {
     "slide_type": "slide"
    }
   },
   "source": [
    "No es necesariamente aconsejable convertir esto en un hábito. "
   ]
  },
  {
   "cell_type": "markdown",
   "id": "86f7d120",
   "metadata": {
    "slideshow": {
     "slide_type": "slide"
    }
   },
   "source": [
    "Parte de la elegancia de los iteradores es que son \"vagos\". "
   ]
  },
  {
   "cell_type": "markdown",
   "id": "cb7c66ea",
   "metadata": {
    "slideshow": {
     "slide_type": "slide"
    }
   },
   "source": [
    "Eso significa que cuando crea un iterador, no genera todos los elementos que puede producir en ese momento. "
   ]
  },
  {
   "cell_type": "markdown",
   "id": "a534dbf1",
   "metadata": {
    "slideshow": {
     "slide_type": "slide"
    }
   },
   "source": [
    "Espera hasta que los solicite con `next()`. "
   ]
  },
  {
   "cell_type": "markdown",
   "id": "76e7390a",
   "metadata": {
    "slideshow": {
     "slide_type": "slide"
    }
   },
   "source": [
    "Los elementos no se crean hasta que se solicitan."
   ]
  },
  {
   "cell_type": "markdown",
   "id": "17fc066b",
   "metadata": {
    "slideshow": {
     "slide_type": "slide"
    }
   },
   "source": [
    "Cuando usa `list()`, `tuple()` o similares, está forzando al iterador a generar todos sus valores a la vez, para que todos puedan ser devueltos. Si el número total de objetos que devuelve el iterador es muy grande, puede llevar mucho tiempo."
   ]
  },
  {
   "cell_type": "markdown",
   "id": "b88e3e13",
   "metadata": {
    "slideshow": {
     "slide_type": "slide"
    }
   },
   "source": [
    "De hecho, es posible crear un iterador en Python que devuelva una serie interminable de objetos usando funciones generadoras y herramientas de iteración. Si intenta tomar todos los valores a la vez de un iterador sin fin, el programa se bloqueará."
   ]
  },
  {
   "cell_type": "markdown",
   "id": "88ed2c52",
   "metadata": {
    "slideshow": {
     "slide_type": "slide"
    }
   },
   "source": [
    "## The Guts of the Python for Loop"
   ]
  },
  {
   "cell_type": "markdown",
   "id": "a4b6cb4b",
   "metadata": {
    "slideshow": {
     "slide_type": "slide"
    }
   },
   "source": [
    "You now have been introduced to all the concepts you need to fully understand how Python’s for loop works. Before proceeding, let’s review the relevant terms:"
   ]
  },
  {
   "cell_type": "markdown",
   "id": "56fa5985",
   "metadata": {
    "slideshow": {
     "slide_type": "slide"
    }
   },
   "source": [
    "|Term|Meaning|  \n",
    "|----|-------|  \n",
    "|Iteration|\tEl proceso de recorrer los objetos o elementos de una colección|\n",
    "|Iterable|\tAn object (or the adjective used to describe an object) that can be iterated over|\n",
    "|Iterator|\tThe object that produces successive items or values from its associated iterable|\n",
    "|iter()|\tThe built-in function used to obtain an iterator from an iterable|"
   ]
  },
  {
   "cell_type": "markdown",
   "id": "2e4b3254",
   "metadata": {
    "slideshow": {
     "slide_type": "slide"
    }
   },
   "source": [
    "Now, consider again the simple `for` loop presented at the start of this tutorial:"
   ]
  },
  {
   "cell_type": "code",
   "execution_count": null,
   "id": "9d212c48",
   "metadata": {
    "slideshow": {
     "slide_type": "slide"
    }
   },
   "outputs": [],
   "source": [
    "a = ['foo', 'bar', 'baz']\n",
    "for i in a:\n",
    "    print(i)"
   ]
  },
  {
   "cell_type": "markdown",
   "id": "4dea4940",
   "metadata": {
    "slideshow": {
     "slide_type": "slide"
    }
   },
   "source": [
    "This loop can be described entirely in terms of the concepts you have just learned about. "
   ]
  },
  {
   "cell_type": "markdown",
   "id": "c308fed4",
   "metadata": {
    "slideshow": {
     "slide_type": "slide"
    }
   },
   "source": [
    "To carry out the iteration this `for` loop describes, Python does the following:"
   ]
  },
  {
   "cell_type": "markdown",
   "id": "7ff35766",
   "metadata": {
    "slideshow": {
     "slide_type": "slide"
    }
   },
   "source": [
    "* Calls `iter()` to obtain an iterator for a  \n",
    "* Calls `next()` repeatedly to obtain each item from the iterator in turn  \n",
    "* Terminates the loop when `next()` raises the StopIteration exception  "
   ]
  },
  {
   "cell_type": "markdown",
   "id": "e3529efc",
   "metadata": {
    "slideshow": {
     "slide_type": "slide"
    }
   },
   "source": [
    "The loop body is executed once for each item `next()` returns, with loop variable i set to the given item for each iteration."
   ]
  },
  {
   "cell_type": "markdown",
   "id": "13ceb0f3",
   "metadata": {
    "slideshow": {
     "slide_type": "slide"
    }
   },
   "source": [
    "This sequence of events is summarized in the following diagram:"
   ]
  },
  {
   "cell_type": "markdown",
   "id": "28e6eec0",
   "metadata": {
    "slideshow": {
     "slide_type": "slide"
    }
   },
   "source": [
    "<img src = 'https://files.realpython.com/media/t.ba63222d63f5.png'> "
   ]
  },
  {
   "cell_type": "code",
   "execution_count": null,
   "id": "74f05ff7",
   "metadata": {
    "slideshow": {
     "slide_type": "slide"
    }
   },
   "outputs": [],
   "source": []
  },
  {
   "cell_type": "markdown",
   "id": "5f1890e3",
   "metadata": {
    "slideshow": {
     "slide_type": "slide"
    }
   },
   "source": [
    "## 1.9 Otras operaciones en listas"
   ]
  },
  {
   "cell_type": "markdown",
   "id": "e2e3ec6c",
   "metadata": {
    "slideshow": {
     "slide_type": "slide"
    }
   },
   "source": [
    "Página 49 de Calderon. "
   ]
  },
  {
   "cell_type": "markdown",
   "id": "62f1ec73",
   "metadata": {
    "slideshow": {
     "slide_type": "slide"
    }
   },
   "source": [
    "Las listas corresponden a secuencias de datos que van enumeradas desde 0. "
   ]
  },
  {
   "cell_type": "markdown",
   "id": "74a44a5b",
   "metadata": {
    "slideshow": {
     "slide_type": "slide"
    }
   },
   "source": [
    "A través de la librería estándar de Python existen varias herramientas con las cuales se pueden trabajar las listas (tutorialspoint, 2019)."
   ]
  },
  {
   "cell_type": "markdown",
   "id": "3dea608b",
   "metadata": {
    "slideshow": {
     "slide_type": "slide"
    }
   },
   "source": [
    "Se debe recordar que las listas en Python se crean utilizando corchetes ([ ]) y sus datos se separan con comas."
   ]
  },
  {
   "cell_type": "code",
   "execution_count": null,
   "id": "8df5eff3",
   "metadata": {
    "slideshow": {
     "slide_type": "slide"
    }
   },
   "outputs": [],
   "source": []
  },
  {
   "cell_type": "code",
   "execution_count": null,
   "id": "6c626da5",
   "metadata": {},
   "outputs": [],
   "source": []
  },
  {
   "cell_type": "code",
   "execution_count": null,
   "id": "65fbc49d",
   "metadata": {},
   "outputs": [],
   "source": []
  },
  {
   "cell_type": "code",
   "execution_count": null,
   "id": "a669160c",
   "metadata": {},
   "outputs": [],
   "source": []
  },
  {
   "cell_type": "markdown",
   "id": "aabb54f9",
   "metadata": {
    "slideshow": {
     "slide_type": "slide"
    }
   },
   "source": [
    "## Referentes  \n",
    "\n",
    "* ciclo for según RealPython: https://realpython.com/python-for-loop/"
   ]
  },
  {
   "cell_type": "code",
   "execution_count": null,
   "id": "6f719a07",
   "metadata": {},
   "outputs": [],
   "source": []
  }
 ],
 "metadata": {
  "celltoolbar": "Slideshow",
  "kernelspec": {
   "display_name": "Python 3",
   "language": "python",
   "name": "python3"
  },
  "language_info": {
   "codemirror_mode": {
    "name": "ipython",
    "version": 3
   },
   "file_extension": ".py",
   "mimetype": "text/x-python",
   "name": "python",
   "nbconvert_exporter": "python",
   "pygments_lexer": "ipython3",
   "version": "3.8.8"
  },
  "latex_envs": {
   "LaTeX_envs_menu_present": true,
   "autoclose": false,
   "autocomplete": false,
   "bibliofile": "biblio.bib",
   "cite_by": "apalike",
   "current_citInitial": 1,
   "eqLabelWithNumbers": true,
   "eqNumInitial": 1,
   "hotkeys": {
    "equation": "Ctrl-E",
    "itemize": "Ctrl-I"
   },
   "labels_anchors": false,
   "latex_user_defs": false,
   "report_style_numbering": false,
   "user_envs_cfg": false
  },
  "rise": {
   "enable_chalkboard": true,
   "theme": "sky",
   "transition": "zoom"
  }
 },
 "nbformat": 4,
 "nbformat_minor": 5
}
