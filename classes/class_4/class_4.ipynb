{
 "cells": [
  {
   "cell_type": "markdown",
   "id": "92aae102",
   "metadata": {
    "slideshow": {
     "slide_type": "slide"
    }
   },
   "source": [
    "<table align=\"left\">\n",
    "  <td>\n",
    "    <a href=\"https://colab.research.google.com/github/marco-canas/introducci-n-al-Machine-Learning/blob/main/classes/class_4/class_4.ipynb\" target=\"_parent\"><img src=\"https://colab.research.google.com/assets/colab-badge.svg\" alt=\"Open In Colab\"/></a>\n",
    "  </td>\n",
    "  <td>\n",
    "    <a target=\"_blank\" href=\"https://kaggle.com/kernels/welcome?src=https://github.com/marco-canas/introducci-n-al-Machine-Learning/blob/main/classes/class_4/class_4.ipynb\"><img src=\"https://kaggle.com/static/images/open-in-kaggle.svg\" /></a>\n",
    "  </td>\n",
    "</table>\n"
   ]
  },
  {
   "cell_type": "markdown",
   "id": "6c4dc3a9",
   "metadata": {
    "slideshow": {
     "slide_type": "slide"
    }
   },
   "source": [
    "## Clase 4 "
   ]
  },
  {
   "cell_type": "markdown",
   "id": "094fd0a1",
   "metadata": {
    "slideshow": {
     "slide_type": "slide"
    }
   },
   "source": [
    "## Objetivos\n",
    "\n",
    "* Presentar el concepto de estructuras de control en Python\n",
    "* Presentar el concepto de funciones en Python\n"
   ]
  },
  {
   "cell_type": "markdown",
   "id": "e4d1dea7",
   "metadata": {
    "slideshow": {
     "slide_type": "slide"
    }
   },
   "source": [
    "# 1.7 Estructuras de control"
   ]
  },
  {
   "cell_type": "markdown",
   "id": "293cfc93",
   "metadata": {
    "slideshow": {
     "slide_type": "slide"
    }
   },
   "source": [
    "## [Segundo video de apoyo](https://www.youtube.com/watch?v=YATL8MiuXQA&t=557s)"
   ]
  },
  {
   "cell_type": "markdown",
   "id": "d6b5a6b1",
   "metadata": {
    "slideshow": {
     "slide_type": "slide"
    }
   },
   "source": [
    "Según (Fisher, 1970) “por estructuras de control se hace referencia a entornos de programación u operaciones que especifican la secuencia y la interpretación de reglas para programas o partes de programas.” "
   ]
  },
  {
   "cell_type": "markdown",
   "id": "405e03b1",
   "metadata": {
    "slideshow": {
     "slide_type": "slide"
    }
   },
   "source": [
    "A continuación, se trabajarán tres estructuras de control básicas: la declaración “if”, el ciclo “while” y el ciclo “for”."
   ]
  },
  {
   "cell_type": "markdown",
   "id": "3cf28bd8",
   "metadata": {
    "slideshow": {
     "slide_type": "slide"
    }
   },
   "source": [
    "## 1.7.1 Declaración if- elif-else"
   ]
  },
  {
   "cell_type": "markdown",
   "id": "95e86bfe",
   "metadata": {
    "slideshow": {
     "slide_type": "slide"
    }
   },
   "source": [
    "La declaración `if` es una herramienta para crear decisiones en los lenguajes de programación. "
   ]
  },
  {
   "cell_type": "markdown",
   "id": "54b4737b",
   "metadata": {
    "slideshow": {
     "slide_type": "slide"
    }
   },
   "source": [
    "Al usar dicha declaración se puede dar paso a que se cumplan determinadas acciones de acuerdo a una condición que se establece: sí se cumple determinada condición, se realiza determinada acción. Si no, se realiza otra."
   ]
  },
  {
   "cell_type": "markdown",
   "id": "6c9f83d1",
   "metadata": {
    "slideshow": {
     "slide_type": "slide"
    }
   },
   "source": [
    " \n",
    "Para usar esta declaración se escribe “if”, seguido de la condición y después de ésta se \n",
    "colocan dos puntos “:” con el fin de especificar el fin de la condición. "
   ]
  },
  {
   "cell_type": "markdown",
   "id": "2d7cbbe7",
   "metadata": {
    "slideshow": {
     "slide_type": "slide"
    }
   },
   "source": [
    "Posteriormente se crea un nuevo renglón con la tecla “enter” en donde se escribe el código que se ejecutará\n",
    "en caso de que la condición se cumpla."
   ]
  },
  {
   "cell_type": "markdown",
   "id": "0d06e83d",
   "metadata": {
    "slideshow": {
     "slide_type": "slide"
    }
   },
   "source": [
    "Es importante distinguir la sangría que aparece después de presionar “enter” una vez se haya escrito los dos puntos `:` que marcan el final de la condición."
   ]
  },
  {
   "cell_type": "markdown",
   "id": "fc79be38",
   "metadata": {
    "slideshow": {
     "slide_type": "slide"
    }
   },
   "source": [
    "Cabe resaltar que Python no usa llaves para establecer hasta qué punto el código escrito se encuentra dependiente de la condición, por lo que hay que entender bien la profundidad de las sangrías para entender a qué condición pertenecen."
   ]
  },
  {
   "cell_type": "markdown",
   "id": "ea51be81",
   "metadata": {
    "slideshow": {
     "slide_type": "slide"
    }
   },
   "source": [
    " \n",
    "* La condición `elif` que significa `else if`, permite añadir más condiciones para evaluar. "
   ]
  },
  {
   "cell_type": "markdown",
   "id": "5ea6e8de",
   "metadata": {
    "slideshow": {
     "slide_type": "slide"
    }
   },
   "source": [
    "Finalmente se añade la cláusula `else` al mismo nivel de la sentencia `if` para ejecutar la tarea \n",
    "alternativa en caso de que las previas no se hayan cumplido (Mueller, 2018, p. 136)."
   ]
  },
  {
   "cell_type": "markdown",
   "id": "979ee344",
   "metadata": {
    "slideshow": {
     "slide_type": "slide"
    }
   },
   "source": [
    "## Ejemplo de declaraciones “If-elif-else”"
   ]
  },
  {
   "cell_type": "code",
   "execution_count": null,
   "id": "18ffa0da",
   "metadata": {
    "slideshow": {
     "slide_type": "slide"
    }
   },
   "outputs": [],
   "source": [
    "nota = float(input('Ingrese su calificación (0-5): '))"
   ]
  },
  {
   "cell_type": "code",
   "execution_count": null,
   "id": "8ab0a9d1",
   "metadata": {
    "slideshow": {
     "slide_type": "slide"
    }
   },
   "outputs": [],
   "source": [
    "nota  "
   ]
  },
  {
   "cell_type": "code",
   "execution_count": null,
   "id": "67380736",
   "metadata": {
    "slideshow": {
     "slide_type": "slide"
    }
   },
   "outputs": [],
   "source": [
    "if nota < 0.0 or nota > 5.0:\n",
    "    print('Entró una calificación no válida')\n",
    "elif nota < 3.0:\n",
    "    print('reprobó la materia')\n",
    "else:\n",
    "    print('aprobó la materia')"
   ]
  },
  {
   "cell_type": "markdown",
   "id": "a16480ce",
   "metadata": {
    "slideshow": {
     "slide_type": "slide"
    }
   },
   "source": [
    "## Otro ejemplo"
   ]
  },
  {
   "cell_type": "code",
   "execution_count": null,
   "id": "aab23e09",
   "metadata": {
    "slideshow": {
     "slide_type": "slide"
    }
   },
   "outputs": [],
   "source": [
    "x = 2\n"
   ]
  },
  {
   "cell_type": "code",
   "execution_count": null,
   "id": "05408cb1",
   "metadata": {},
   "outputs": [],
   "source": [
    "if x%2==0: \n",
    "    print('el número es par')"
   ]
  },
  {
   "cell_type": "code",
   "execution_count": null,
   "id": "8372d833",
   "metadata": {},
   "outputs": [],
   "source": [
    "def valor_absoluto(x):\n",
    "    if x < 0:\n",
    "        print(-x)\n",
    "    elif x>=0:\n",
    "        print(x)"
   ]
  },
  {
   "cell_type": "code",
   "execution_count": null,
   "id": "3d1f1f4e",
   "metadata": {},
   "outputs": [],
   "source": [
    "valor_absoluto(6) "
   ]
  },
  {
   "cell_type": "markdown",
   "id": "c2552936",
   "metadata": {
    "slideshow": {
     "slide_type": "slide"
    }
   },
   "source": [
    "## Ejemplo de función definida a trozos"
   ]
  },
  {
   "cell_type": "code",
   "execution_count": null,
   "id": "35aec1fe",
   "metadata": {
    "slideshow": {
     "slide_type": "slide"
    }
   },
   "outputs": [],
   "source": [
    "def f(x):\n",
    "    if x < -1:\n",
    "        print(x**2)\n",
    "    elif x>=-1 and x<0:\n",
    "        print(x/2)\n",
    "    elif x>=0 and x < 1:\n",
    "        print(x**(1/2))\n",
    "    else:\n",
    "        print(x**3)      "
   ]
  },
  {
   "cell_type": "code",
   "execution_count": null,
   "id": "095a771c",
   "metadata": {},
   "outputs": [],
   "source": [
    "f(1)"
   ]
  },
  {
   "cell_type": "code",
   "execution_count": null,
   "id": "5a2f4a88",
   "metadata": {},
   "outputs": [],
   "source": [
    "import math"
   ]
  },
  {
   "cell_type": "code",
   "execution_count": null,
   "id": "cac59e3c",
   "metadata": {},
   "outputs": [],
   "source": [
    "math.sqrt(4)"
   ]
  },
  {
   "cell_type": "markdown",
   "id": "9d00f823",
   "metadata": {
    "slideshow": {
     "slide_type": "slide"
    }
   },
   "source": [
    "En el ejemplo anterior, se evalúa sí la variable `nota` se encuentra fuera de los rangos de \n",
    "calificación. "
   ]
  },
  {
   "cell_type": "markdown",
   "id": "272b367f",
   "metadata": {
    "slideshow": {
     "slide_type": "slide"
    }
   },
   "source": [
    "Sí se encuentra dentro de los rangos válidos para una calificación, posteriormente se evalúa. \n",
    "\n",
    "* Si es menor que 3.0, de ser verdadero como en el ejemplo, se ejecuta la línea siguiente. "
   ]
  },
  {
   "cell_type": "markdown",
   "id": "6f39c48d",
   "metadata": {
    "slideshow": {
     "slide_type": "slide"
    }
   },
   "source": [
    "* De no ser verdadero se ejecutará la línea después del `else`. \n",
    "Siempre se ejecutan las líneas contenidas en la declaración “else” cuando las líneas \n",
    "contenidas en las declaraciones `if` no se cumplen (Mueller, 2018, p. 142)."
   ]
  },
  {
   "cell_type": "markdown",
   "id": "a72aec8f",
   "metadata": {
    "slideshow": {
     "slide_type": "slide"
    }
   },
   "source": [
    "## 1.7.2 Ciclo `While`"
   ]
  },
  {
   "cell_type": "markdown",
   "id": "d5e56002",
   "metadata": {
    "slideshow": {
     "slide_type": "slide"
    }
   },
   "source": [
    "[`while`](https://translate.google.com.co/?hl=en&tab=mT&sl=en&tl=es&text=while%20%0A%0A&op=translate): es una preposición y significa 'mientras'.   \n",
    "Ejemplo: Veré televisión mientras me sirven el almuerzo.  "
   ]
  },
  {
   "cell_type": "markdown",
   "id": "87747207",
   "metadata": {
    "slideshow": {
     "slide_type": "slide"
    }
   },
   "source": [
    "Según (Fisher, 1970) el ciclo `while` es una expresión iterativa de bucle que causa la ejecución repetitiva de una expresión en la medida que una condición determinada se cumpla o no. "
   ]
  },
  {
   "cell_type": "markdown",
   "id": "8ad1a402",
   "metadata": {
    "slideshow": {
     "slide_type": "slide"
    }
   },
   "source": [
    "En Python este ciclo se realiza escribiendo `while`, seguido de la condición y finalmente se especifica el final de la condición colocando dos puntos `:`."
   ]
  },
  {
   "cell_type": "markdown",
   "id": "73ebbd40",
   "metadata": {
    "slideshow": {
     "slide_type": "slide"
    }
   },
   "source": [
    "### Ejemplo: Uso del ciclo “while” para imprimir los números del 1 hasta el 4."
   ]
  },
  {
   "cell_type": "code",
   "execution_count": 1,
   "id": "f5c30f28",
   "metadata": {
    "slideshow": {
     "slide_type": "slide"
    }
   },
   "outputs": [],
   "source": [
    "x = 0    # inicializamos la variable x en cero"
   ]
  },
  {
   "cell_type": "code",
   "execution_count": 2,
   "id": "e21359df",
   "metadata": {
    "slideshow": {
     "slide_type": "slide"
    }
   },
   "outputs": [
    {
     "name": "stdout",
     "output_type": "stream",
     "text": [
      "0\n",
      "1\n",
      "2\n",
      "3\n",
      "4\n"
     ]
    }
   ],
   "source": [
    "while x < 5:\n",
    "    print(x)\n",
    "    x = x+1\n"
   ]
  },
  {
   "cell_type": "code",
   "execution_count": 4,
   "id": "7e0bd357",
   "metadata": {},
   "outputs": [],
   "source": [
    "x = 1"
   ]
  },
  {
   "cell_type": "code",
   "execution_count": 5,
   "id": "3a1e57e5",
   "metadata": {
    "slideshow": {
     "slide_type": "slide"
    }
   },
   "outputs": [
    {
     "name": "stdout",
     "output_type": "stream",
     "text": [
      "1\n",
      "3\n",
      "5\n",
      "7\n",
      "9\n"
     ]
    }
   ],
   "source": [
    "while x <10:\n",
    "    print(x)\n",
    "    x += 2"
   ]
  },
  {
   "cell_type": "code",
   "execution_count": 3,
   "id": "3c4abdef",
   "metadata": {},
   "outputs": [
    {
     "data": {
      "text/plain": [
       "10"
      ]
     },
     "execution_count": 3,
     "metadata": {},
     "output_type": "execute_result"
    }
   ],
   "source": [
    "x"
   ]
  },
  {
   "cell_type": "markdown",
   "id": "819750b7",
   "metadata": {
    "slideshow": {
     "slide_type": "slide"
    }
   },
   "source": [
    "## Ejemplo: Uso del ciclo `while` para crear un juego de adivinanza.\n"
   ]
  },
  {
   "cell_type": "code",
   "execution_count": 6,
   "id": "52b4de0b",
   "metadata": {
    "slideshow": {
     "slide_type": "slide"
    }
   },
   "outputs": [
    {
     "name": "stdout",
     "output_type": "stream",
     "text": [
      "Entre un número de cero a 9: 3\n",
      "fallaste, ingresa un nuevo número: 10\n",
      "fallaste, ingresa un nuevo número: 7\n",
      "fallaste, ingresa un nuevo número: 4\n",
      "fallaste, ingresa un nuevo número: 0\n",
      "fallaste, ingresa un nuevo número: 5\n",
      "fallaste, ingresa un nuevo número: 2\n",
      "fallaste, ingresa un nuevo número: 9\n",
      "fallaste, ingresa un nuevo número: 1\n",
      "¡Has adivinado el número, el cual era:  1 y el número de intentos que realizaste fue de:  9\n"
     ]
    }
   ],
   "source": [
    "import random \n",
    "from random import randint # inportar el generador de números aleatorios\n",
    "\n",
    "intentos = 1               # inicializa una variable \n",
    "\n",
    "x = randint(0,9)           # genera un dígito de manera aleatoria\n",
    "\n",
    "numero_del_usuario = int(input('Entre un número de cero a 9: '))   # número del usuario \n",
    "\n",
    "while numero_del_usuario != x:\n",
    "    numero_del_usuario = int(input('fallaste, ingresa un nuevo número: ')) \n",
    "    intentos += 1  # incrementa en 1 \n",
    "\n",
    "print('¡Has adivinado el número, el cual era: ', x, 'y el número de intentos que realizaste fue de: ', intentos) \n"
   ]
  },
  {
   "cell_type": "markdown",
   "id": "32de4c7f",
   "metadata": {
    "slideshow": {
     "slide_type": "slide"
    }
   },
   "source": [
    "En el código anterior se importa el módulo `random` y de éste se extrae sólo uno de sus atributos usando la declaración `from` (Mueller, 2018, p. 205). "
   ]
  },
  {
   "cell_type": "markdown",
   "id": "75a1a624",
   "metadata": {
    "slideshow": {
     "slide_type": "slide"
    }
   },
   "source": [
    "El atributo extraído es `randint` el cual genera un número entero aleatorio con base en una distribución uniforme. "
   ]
  },
  {
   "cell_type": "markdown",
   "id": "4414a70b",
   "metadata": {
    "slideshow": {
     "slide_type": "slide"
    }
   },
   "source": [
    "Luego, los números colocados en la función se incluyen (intervalo cerrado), con lo cual se tiene un número aleatorio de entre 0 y 9."
   ]
  },
  {
   "cell_type": "markdown",
   "id": "b74eb884",
   "metadata": {
    "slideshow": {
     "slide_type": "slide"
    }
   },
   "source": [
    " \n",
    "El ciclo “while” se encarga entonces de pedir al usuario un número, siempre y cuando éste número no sea igual al número aleatorio generado con la función `randint`. "
   ]
  },
  {
   "cell_type": "markdown",
   "id": "0a9331a1",
   "metadata": {
    "slideshow": {
     "slide_type": "slide"
    }
   },
   "source": [
    "Finalmente, con la variable `intentos` se lleva la cuenta de las veces que el usuario ha ingresado un valor."
   ]
  },
  {
   "cell_type": "markdown",
   "id": "647df7c1",
   "metadata": {
    "slideshow": {
     "slide_type": "slide"
    }
   },
   "source": [
    "## 1.7.3 Declaración `for`  "
   ]
  },
  {
   "cell_type": "markdown",
   "id": "1d22bfb9",
   "metadata": {
    "slideshow": {
     "slide_type": "slide"
    }
   },
   "source": [
    "Es una declaración común en los lenguajes de programación. "
   ]
  },
  {
   "cell_type": "markdown",
   "id": "6d207207",
   "metadata": {
    "slideshow": {
     "slide_type": "slide"
    }
   },
   "source": [
    "Se trata de un ciclo que se repite una determinada cantidad de veces por medio de sucesiones que se pueden especificar por medio de la función `range()`, letras u otras alternativas más convenientes (Mueller, 2018, p. 152)."
   ]
  },
  {
   "cell_type": "markdown",
   "id": "1898d89c",
   "metadata": {
    "slideshow": {
     "slide_type": "slide"
    }
   },
   "source": [
    "Para usar esta declaración se escribe “for”, seguido de una variable que se irá convirtiendo en los valores que se establezcan, según lo que se especifique como sí se tratara de un contador y al final se utilizan dos puntos `:`."
   ]
  },
  {
   "cell_type": "markdown",
   "id": "1314540e",
   "metadata": {
    "slideshow": {
     "slide_type": "slide"
    }
   },
   "source": [
    "Figura 1-20. Ejemplo del ciclo “for” en “Python”."
   ]
  },
  {
   "cell_type": "code",
   "execution_count": null,
   "id": "eec13538",
   "metadata": {
    "slideshow": {
     "slide_type": "slide"
    }
   },
   "outputs": [],
   "source": [
    "for x in range(0,5):\n",
    "    print('número: ',x) "
   ]
  },
  {
   "cell_type": "markdown",
   "id": "964c87b8",
   "metadata": {
    "slideshow": {
     "slide_type": "slide"
    }
   },
   "source": [
    "La función `range(0,5)` genera una lista de números que va desde 0 hasta 4 (intervalo abierto por derecha $[0,5)$). "
   ]
  },
  {
   "cell_type": "markdown",
   "id": "3aa7d0bf",
   "metadata": {
    "slideshow": {
     "slide_type": "slide"
    }
   },
   "source": [
    "El valor inicial de $x$ es $0$."
   ]
  },
  {
   "cell_type": "markdown",
   "id": "d2653eae",
   "metadata": {
    "slideshow": {
     "slide_type": "slide"
    }
   },
   "source": [
    "Luego se ejecuta lo que se encuentre en el ciclo. "
   ]
  },
  {
   "cell_type": "markdown",
   "id": "b2fc9429",
   "metadata": {
    "slideshow": {
     "slide_type": "slide"
    }
   },
   "source": [
    "Teniendo en cuenta ese valor y cuando  finalice, se regresa a la línea en la que se encuentra la sentencia: `for`. "
   ]
  },
  {
   "cell_type": "markdown",
   "id": "da75d60b",
   "metadata": {
    "slideshow": {
     "slide_type": "slide"
    }
   },
   "source": [
    "Posteriormente la variable $x$ toma el valor de 1 proveniente de la función “range” y vuelve a ejecutarse lo que exista \n",
    "dentro del ciclo “for”. "
   ]
  },
  {
   "cell_type": "markdown",
   "id": "d2eb228f",
   "metadata": {
    "slideshow": {
     "slide_type": "slide"
    }
   },
   "source": [
    "En este ejemplo se está imprimiendo el valor de x a medida que cambia de valor al recorrer los números del 0 hasta el 4."
   ]
  },
  {
   "cell_type": "markdown",
   "id": "de4d4a86",
   "metadata": {
    "slideshow": {
     "slide_type": "slide"
    }
   },
   "source": [
    "La función `range()` es útil para crear las iteraciones en los ciclos “for”. "
   ]
  },
  {
   "cell_type": "markdown",
   "id": "334977a6",
   "metadata": {
    "slideshow": {
     "slide_type": "slide"
    }
   },
   "source": [
    "Debe tenerse en cuenta que no se obtiene una lista como tal con la función “range”, sino que es necesario transformar el resultado a una lista, sí se desea usar como un vector de números mediante la función “list”."
   ]
  },
  {
   "cell_type": "code",
   "execution_count": null,
   "id": "7b3e4de9",
   "metadata": {
    "slideshow": {
     "slide_type": "slide"
    }
   },
   "outputs": [],
   "source": [
    "range(0,5)"
   ]
  },
  {
   "cell_type": "code",
   "execution_count": null,
   "id": "859908a8",
   "metadata": {
    "slideshow": {
     "slide_type": "slide"
    }
   },
   "outputs": [],
   "source": [
    "list(range(0,5)) "
   ]
  },
  {
   "cell_type": "markdown",
   "id": "c8afe57d",
   "metadata": {
    "slideshow": {
     "slide_type": "slide"
    }
   },
   "source": [
    "El ciclo `for` también se usa frecuentemente para recorrer valores contenidos en una lista o vector y con ello realizar tareas de búsqueda y/o modificaciones"
   ]
  },
  {
   "cell_type": "markdown",
   "id": "53adc6c4",
   "metadata": {
    "slideshow": {
     "slide_type": "slide"
    }
   },
   "source": [
    "Dentro de la declaración “for” se suelen incluir declaraciones “if” y se usan más declaraciones para controlar la ejecución del ciclo, que son `Continue`, `Pass` y `Break`:"
   ]
  },
  {
   "cell_type": "markdown",
   "id": "5f747f05",
   "metadata": {
    "slideshow": {
     "slide_type": "slide"
    }
   },
   "source": [
    "* “Break”: Detiene la ejecución del ciclo  \n",
    "* “Continue”: No se ejecuta la iteración actual pero si las iteraciones siguientes  \n",
    "* “Pass”: Permite la ejecución de la iteración actual y las siguientes.  "
   ]
  },
  {
   "cell_type": "markdown",
   "id": "86b94a71",
   "metadata": {
    "slideshow": {
     "slide_type": "slide"
    }
   },
   "source": [
    "La siguiente figura muestra un ciclo `for` con “if” sin las declaraciones mencionadas anteriormente:"
   ]
  },
  {
   "cell_type": "markdown",
   "id": "a1fad348",
   "metadata": {
    "slideshow": {
     "slide_type": "slide"
    }
   },
   "source": [
    "### Ejemplo: Ejecución de un ciclo “for-if” sin otras declaraciones."
   ]
  },
  {
   "cell_type": "code",
   "execution_count": null,
   "id": "dfe4dd49",
   "metadata": {
    "slideshow": {
     "slide_type": "slide"
    }
   },
   "outputs": [],
   "source": [
    "for p in range(0,5):\n",
    "    if p==3:\n",
    "        print('p alcanzó el número 3')\n",
    "    print(p)    "
   ]
  },
  {
   "cell_type": "markdown",
   "id": "3c22a356",
   "metadata": {
    "slideshow": {
     "slide_type": "slide"
    }
   },
   "source": [
    "Con la declaración `break`, colocada dentro de la declaración `if` el ciclo se cancela una vez se ejecuta lo especificado cuando la variable `p` es igual a 3. "
   ]
  },
  {
   "cell_type": "markdown",
   "id": "6314fa9f",
   "metadata": {
    "slideshow": {
     "slide_type": "slide"
    }
   },
   "source": [
    "Se ve que p no toma el valor de 4 y no se imprime:"
   ]
  },
  {
   "cell_type": "markdown",
   "id": "73726a04",
   "metadata": {
    "slideshow": {
     "slide_type": "slide"
    }
   },
   "source": [
    "### Ejemplo: Uso de la declaración `break` en un ciclo `for`"
   ]
  },
  {
   "cell_type": "code",
   "execution_count": null,
   "id": "04b49716",
   "metadata": {
    "slideshow": {
     "slide_type": "slide"
    }
   },
   "outputs": [],
   "source": [
    "for p in range(0,5):\n",
    "    if p ==3:\n",
    "        print('La variable p alcanzó el valor de 3')\n",
    "        break \n",
    "    print(p)   "
   ]
  },
  {
   "cell_type": "markdown",
   "id": "264011f6",
   "metadata": {
    "slideshow": {
     "slide_type": "slide"
    }
   },
   "source": [
    "Cuando se utiliza la declaración `continue`, se impide que se ejecuten las líneas siguientes de código para la iteración actual porque inmediatamente continúa con la siguiente iteración, por ello no se imprime en pantalla el número 3. "
   ]
  },
  {
   "cell_type": "markdown",
   "id": "216f03cf",
   "metadata": {
    "slideshow": {
     "slide_type": "slide"
    }
   },
   "source": [
    "Es útil para evitar que se ejecuten acciones en determinado instante de una iteración (Mueller, 2018, p. 156)."
   ]
  },
  {
   "cell_type": "markdown",
   "id": "382b876c",
   "metadata": {
    "slideshow": {
     "slide_type": "slide"
    }
   },
   "source": [
    "### Ejemplo: Uso de la declaración “continue” en un ciclo “for”."
   ]
  },
  {
   "cell_type": "code",
   "execution_count": null,
   "id": "0286a8e9",
   "metadata": {
    "scrolled": true,
    "slideshow": {
     "slide_type": "slide"
    }
   },
   "outputs": [],
   "source": [
    "for p in range(0,5):\n",
    "    if p ==3:\n",
    "        print('p alcanzó el valor de 3')\n",
    "        continue  \n",
    "    print(p)   "
   ]
  },
  {
   "cell_type": "markdown",
   "id": "7c80d0b1",
   "metadata": {
    "slideshow": {
     "slide_type": "slide"
    }
   },
   "source": [
    "La declaración `pass` permite la ejecución de la iteración actual y las siguientes. "
   ]
  },
  {
   "cell_type": "markdown",
   "id": "04d425df",
   "metadata": {
    "slideshow": {
     "slide_type": "slide"
    }
   },
   "source": [
    "No difiere  del resultado del ciclo sin estas declaraciones, pero a veces suele requerirse para evitar espacios en blanco o código incompleto que puedan causar errores (Piraeus, 2017)."
   ]
  },
  {
   "cell_type": "markdown",
   "id": "c4384fd5",
   "metadata": {
    "slideshow": {
     "slide_type": "slide"
    }
   },
   "source": [
    "### Ejemplo: Uso de la declaración “pass” en el ciclo “for”."
   ]
  },
  {
   "cell_type": "code",
   "execution_count": null,
   "id": "a44bd07e",
   "metadata": {
    "scrolled": true,
    "slideshow": {
     "slide_type": "slide"
    }
   },
   "outputs": [],
   "source": [
    "for p in range(0,5):\n",
    "    if p ==3:\n",
    "        print('Aquí va el número 3')\n",
    "        pass  \n",
    "    print(p)   "
   ]
  },
  {
   "cell_type": "markdown",
   "id": "2657992f",
   "metadata": {
    "slideshow": {
     "slide_type": "slide"
    }
   },
   "source": [
    "## 1.8 Definición de funciones"
   ]
  },
  {
   "cell_type": "markdown",
   "id": "adaa6bc3",
   "metadata": {
    "slideshow": {
     "slide_type": "slide"
    }
   },
   "source": [
    "Las funciones son parte fundamental para crear algoritmos que simplifiquen tareas repetitivas. "
   ]
  },
  {
   "cell_type": "markdown",
   "id": "e5303e79",
   "metadata": {
    "slideshow": {
     "slide_type": "slide"
    }
   },
   "source": [
    "Una función depende de variables para crear un resultado específico. "
   ]
  },
  {
   "cell_type": "markdown",
   "id": "7ef02bb5",
   "metadata": {
    "slideshow": {
     "slide_type": "slide"
    }
   },
   "source": [
    "Las funciones en Python se crean escribiendo la declaración “def” seguido de un espacio."
   ]
  },
  {
   "cell_type": "markdown",
   "id": "6fae5051",
   "metadata": {
    "slideshow": {
     "slide_type": "slide"
    }
   },
   "source": [
    "Luego se escribe el nombre que se le desee dar a la función y junto a ésta se añade entre paréntesis los parámetros o variables de los que dependerá la función. "
   ]
  },
  {
   "cell_type": "markdown",
   "id": "91f4e325",
   "metadata": {
    "slideshow": {
     "slide_type": "slide"
    }
   },
   "source": [
    "Finalizando la línea se deben colocar dos puntos “:”. "
   ]
  },
  {
   "cell_type": "markdown",
   "id": "5d37d0c8",
   "metadata": {
    "slideshow": {
     "slide_type": "slide"
    }
   },
   "source": [
    "Posteriormente se pulsa “enter” y a partir de esa línea con sangría se digitarán todas las tareas que realizará la función."
   ]
  },
  {
   "cell_type": "markdown",
   "id": "f6f4ee58",
   "metadata": {
    "slideshow": {
     "slide_type": "slide"
    }
   },
   "source": [
    "### Ejemplo de definición de una función cuadrática y de su evaluación en varios números reales. "
   ]
  },
  {
   "cell_type": "code",
   "execution_count": null,
   "id": "2cb8a47c",
   "metadata": {
    "slideshow": {
     "slide_type": "slide"
    }
   },
   "outputs": [],
   "source": [
    "def funcion_cuadratica(x):\n",
    "    return x**2 + x + 1"
   ]
  },
  {
   "cell_type": "code",
   "execution_count": null,
   "id": "d6f95be2",
   "metadata": {
    "slideshow": {
     "slide_type": "slide"
    }
   },
   "outputs": [],
   "source": [
    "funcion_cuadratica(1)"
   ]
  },
  {
   "cell_type": "code",
   "execution_count": null,
   "id": "e7e66b18",
   "metadata": {
    "slideshow": {
     "slide_type": "slide"
    }
   },
   "outputs": [],
   "source": [
    "import numpy as np \n",
    "import matplotlib.pyplot as plt \n",
    "\n",
    "x_ = np.arange(-4,4)\n",
    "y_ = funcion_cuadratica(x_)\n",
    "\n",
    "plt.plot(x_,y_)\n",
    "\n",
    "plt.plot([-4,3],[0,0])   # eje x \n",
    "\n",
    "plt.grid()"
   ]
  },
  {
   "cell_type": "markdown",
   "id": "ceb0897d",
   "metadata": {
    "slideshow": {
     "slide_type": "slide"
    }
   },
   "source": [
    "* En este ejemplo, en lugar de utilizar la función `print()`, se utilizó la declaración `return`, la cual devuelve el \n",
    "  resultado de una función que puede ser empleado en otras funciones o ciclos, \n",
    "* si el objetivo fuese solamente mostrar el resultado, podría utilizarse la función `print()`, en lugar de la declaración \n",
    "  “return”."
   ]
  },
  {
   "cell_type": "markdown",
   "id": "b9b1af86",
   "metadata": {
    "slideshow": {
     "slide_type": "slide"
    }
   },
   "source": [
    "### Ejemplo: Uso de una función para resolver ecuaciones de segundo grado con la fórmula cuadrática."
   ]
  },
  {
   "cell_type": "code",
   "execution_count": null,
   "id": "98c8b6a8",
   "metadata": {
    "slideshow": {
     "slide_type": "slide"
    }
   },
   "outputs": [],
   "source": []
  },
  {
   "cell_type": "code",
   "execution_count": null,
   "id": "9746b61a",
   "metadata": {
    "slideshow": {
     "slide_type": "slide"
    }
   },
   "outputs": [],
   "source": []
  },
  {
   "cell_type": "code",
   "execution_count": null,
   "id": "68ec4888",
   "metadata": {
    "slideshow": {
     "slide_type": "slide"
    }
   },
   "outputs": [],
   "source": []
  },
  {
   "cell_type": "code",
   "execution_count": null,
   "id": "0fd49342",
   "metadata": {},
   "outputs": [],
   "source": []
  },
  {
   "cell_type": "markdown",
   "id": "24a3a8be",
   "metadata": {
    "slideshow": {
     "slide_type": "slide"
    }
   },
   "source": [
    "## 1.9 Otras operaciones en listas"
   ]
  },
  {
   "cell_type": "markdown",
   "id": "32cb252f",
   "metadata": {
    "slideshow": {
     "slide_type": "slide"
    }
   },
   "source": [
    "### [Video de apoyo al tema de operaciones con listas](https://www.youtube.com/watch?v=wUFKTgGc19M) "
   ]
  },
  {
   "cell_type": "markdown",
   "id": "b52dcf5b",
   "metadata": {
    "slideshow": {
     "slide_type": "slide"
    }
   },
   "source": [
    "Las listas corresponden a secuencias de datos que van enumeradas desde 0. "
   ]
  },
  {
   "cell_type": "markdown",
   "id": "55417b5a",
   "metadata": {
    "slideshow": {
     "slide_type": "slide"
    }
   },
   "source": [
    "A través de la librería estándar de Python existen varias herramientas con las cuales se pueden trabajar las listas."
   ]
  },
  {
   "cell_type": "markdown",
   "id": "9e09ad0d",
   "metadata": {
    "slideshow": {
     "slide_type": "slide"
    }
   },
   "source": [
    "Se debe recordar que las listas en Python se crean utilizando corchetes (`[ ]`) y sus datos se \n",
    "separan con comas."
   ]
  },
  {
   "cell_type": "markdown",
   "id": "912b3399",
   "metadata": {
    "slideshow": {
     "slide_type": "slide"
    }
   },
   "source": [
    "### Ejemplo de una lista con edades de personas."
   ]
  },
  {
   "cell_type": "code",
   "execution_count": null,
   "id": "3344b71f",
   "metadata": {
    "slideshow": {
     "slide_type": "slide"
    }
   },
   "outputs": [],
   "source": [
    "edades = [12, 46, 43, 73, 35, 27]"
   ]
  },
  {
   "cell_type": "markdown",
   "id": "c5729720",
   "metadata": {
    "slideshow": {
     "slide_type": "slide"
    }
   },
   "source": [
    "Se pueden aplicar las siguientes funciones, métodos para obtener información o modificar la existente como lo indica la fundación de Python (Python Software Foundation, 2019):"
   ]
  },
  {
   "cell_type": "markdown",
   "id": "1fab0ac9",
   "metadata": {
    "slideshow": {
     "slide_type": "slide"
    }
   },
   "source": [
    "* `len()`: Devuelve la cantidad de datos de la lista, es decir su longitud."
   ]
  },
  {
   "cell_type": "markdown",
   "id": "5a828e32",
   "metadata": {
    "slideshow": {
     "slide_type": "slide"
    }
   },
   "source": [
    "### Ejemplo de cálculo de Longitud de una lista."
   ]
  },
  {
   "cell_type": "code",
   "execution_count": null,
   "id": "4317f21f",
   "metadata": {
    "slideshow": {
     "slide_type": "slide"
    }
   },
   "outputs": [],
   "source": [
    "len(edades)"
   ]
  },
  {
   "cell_type": "markdown",
   "id": "ff013901",
   "metadata": {
    "slideshow": {
     "slide_type": "slide"
    }
   },
   "source": [
    "* `.append()`: Agrega un nuevo dato al final de la lista."
   ]
  },
  {
   "cell_type": "markdown",
   "id": "91a927c7",
   "metadata": {
    "slideshow": {
     "slide_type": "slide"
    }
   },
   "source": [
    "### Ejemplo de dato añadido al final con función “append”."
   ]
  },
  {
   "cell_type": "code",
   "execution_count": null,
   "id": "a581a53f",
   "metadata": {
    "slideshow": {
     "slide_type": "slide"
    }
   },
   "outputs": [],
   "source": [
    "edades.append(99)\n",
    "edades "
   ]
  },
  {
   "cell_type": "markdown",
   "id": "3eff9f0d",
   "metadata": {
    "slideshow": {
     "slide_type": "slide"
    }
   },
   "source": [
    "* `.insert(x,y)`: añade a la lista el valor y en la posición x. Se debe recordar que la numeración empieza desde 0."
   ]
  },
  {
   "cell_type": "markdown",
   "id": "08fe2822",
   "metadata": {
    "slideshow": {
     "slide_type": "slide"
    }
   },
   "source": [
    "### Ejemplo: El número 40 se inserta en la posición 2 con el método “insert”.\n"
   ]
  },
  {
   "cell_type": "code",
   "execution_count": null,
   "id": "eef267fe",
   "metadata": {
    "slideshow": {
     "slide_type": "slide"
    }
   },
   "outputs": [],
   "source": [
    "edades    # antes de insertar"
   ]
  },
  {
   "cell_type": "code",
   "execution_count": null,
   "id": "61c624fa",
   "metadata": {
    "slideshow": {
     "slide_type": "slide"
    }
   },
   "outputs": [],
   "source": [
    "edades.insert(0,0) \n",
    "edades    # después de insertar "
   ]
  },
  {
   "cell_type": "markdown",
   "id": "8b64f883",
   "metadata": {
    "slideshow": {
     "slide_type": "slide"
    }
   },
   "source": [
    "* `.remove()`: elimina el dato especificado. De no encontrarse, se emite un error."
   ]
  },
  {
   "cell_type": "markdown",
   "id": "b4c4d1aa",
   "metadata": {
    "slideshow": {
     "slide_type": "slide"
    }
   },
   "source": [
    "### Ejemplo: Número eliminado con `remove`"
   ]
  },
  {
   "cell_type": "code",
   "execution_count": null,
   "id": "c4ef4217",
   "metadata": {
    "slideshow": {
     "slide_type": "slide"
    }
   },
   "outputs": [],
   "source": [
    "edades"
   ]
  },
  {
   "cell_type": "code",
   "execution_count": null,
   "id": "590b67f1",
   "metadata": {
    "slideshow": {
     "slide_type": "slide"
    }
   },
   "outputs": [],
   "source": [
    "edades.remove(0)\n",
    "edades "
   ]
  },
  {
   "cell_type": "code",
   "execution_count": null,
   "id": "0db501d5",
   "metadata": {
    "slideshow": {
     "slide_type": "slide"
    }
   },
   "outputs": [],
   "source": [
    "def remover(lista, value):\n",
    "    return lista.remove(value)"
   ]
  },
  {
   "cell_type": "code",
   "execution_count": null,
   "id": "d9d29b46",
   "metadata": {
    "slideshow": {
     "slide_type": "slide"
    }
   },
   "outputs": [],
   "source": [
    "remover(edades, 12)"
   ]
  },
  {
   "cell_type": "code",
   "execution_count": null,
   "id": "7588c5bd",
   "metadata": {},
   "outputs": [],
   "source": [
    "edades "
   ]
  },
  {
   "cell_type": "markdown",
   "id": "a3e0a8ea",
   "metadata": {
    "slideshow": {
     "slide_type": "slide"
    }
   },
   "source": [
    "* `index()`: devuelve el índice del valor especificado, es decir su posición en la lista."
   ]
  },
  {
   "cell_type": "code",
   "execution_count": null,
   "id": "c743f8e8",
   "metadata": {
    "slideshow": {
     "slide_type": "slide"
    }
   },
   "outputs": [],
   "source": [
    "edades"
   ]
  },
  {
   "cell_type": "code",
   "execution_count": null,
   "id": "883ad71e",
   "metadata": {
    "slideshow": {
     "slide_type": "slide"
    }
   },
   "outputs": [],
   "source": [
    "edades.index(46)"
   ]
  },
  {
   "cell_type": "markdown",
   "id": "a5675a26",
   "metadata": {
    "slideshow": {
     "slide_type": "slide"
    }
   },
   "source": [
    "* `.count()`: cuenta las veces que se encuentra un valor en la lista."
   ]
  },
  {
   "cell_type": "code",
   "execution_count": null,
   "id": "77bc4ded",
   "metadata": {
    "slideshow": {
     "slide_type": "slide"
    }
   },
   "outputs": [],
   "source": [
    "edades "
   ]
  },
  {
   "cell_type": "code",
   "execution_count": null,
   "id": "50e50beb",
   "metadata": {
    "slideshow": {
     "slide_type": "slide"
    }
   },
   "outputs": [],
   "source": [
    "edades.count(12)"
   ]
  },
  {
   "cell_type": "code",
   "execution_count": null,
   "id": "cf84b1be",
   "metadata": {
    "slideshow": {
     "slide_type": "slide"
    }
   },
   "outputs": [],
   "source": [
    "edades "
   ]
  },
  {
   "cell_type": "code",
   "execution_count": null,
   "id": "7bec79dc",
   "metadata": {
    "slideshow": {
     "slide_type": "slide"
    }
   },
   "outputs": [],
   "source": [
    "edades.sort() "
   ]
  },
  {
   "cell_type": "code",
   "execution_count": null,
   "id": "019f2d3b",
   "metadata": {
    "slideshow": {
     "slide_type": "slide"
    }
   },
   "outputs": [],
   "source": [
    "edades "
   ]
  },
  {
   "cell_type": "code",
   "execution_count": null,
   "id": "6f0d1744",
   "metadata": {
    "slideshow": {
     "slide_type": "slide"
    }
   },
   "outputs": [],
   "source": [
    "edades.sort(reverse = True)\n",
    "edades "
   ]
  },
  {
   "cell_type": "code",
   "execution_count": null,
   "id": "5a6895d3",
   "metadata": {
    "slideshow": {
     "slide_type": "slide"
    }
   },
   "outputs": [],
   "source": [
    "edades[-1]   # el último elemento "
   ]
  },
  {
   "cell_type": "code",
   "execution_count": null,
   "id": "59bd7956",
   "metadata": {
    "slideshow": {
     "slide_type": "slide"
    }
   },
   "outputs": [],
   "source": [
    "edades[1:]"
   ]
  },
  {
   "cell_type": "markdown",
   "id": "9c19cc4c",
   "metadata": {
    "slideshow": {
     "slide_type": "slide"
    }
   },
   "source": [
    "* [ ]: devuelve el dato que tiene la numeración especificada. Se puede especificar por intervalos usando dos puntos “:”, teniendo en cuenta que el intervalo es cerrado por izquierda y abierto por derecha. "
   ]
  },
  {
   "cell_type": "markdown",
   "id": "cb80230f",
   "metadata": {
    "slideshow": {
     "slide_type": "slide"
    }
   },
   "source": [
    "Si no se especifica alguno de los límites y se deja en blanco, se tomarán el resto de los valores. "
   ]
  },
  {
   "cell_type": "markdown",
   "id": "d85992ba",
   "metadata": {
    "slideshow": {
     "slide_type": "slide"
    }
   },
   "source": [
    "Es necesario recordar que en “Python” las numeraciones comienzan desde 0: \n",
    "es decir que el primer dato está numerado con 0. "
   ]
  },
  {
   "cell_type": "markdown",
   "id": "ca1771dc",
   "metadata": {
    "slideshow": {
     "slide_type": "slide"
    }
   },
   "source": [
    "Además, con los corchetes es posible reemplazar valores de la lista si se realiza una \n",
    "asignación (=)."
   ]
  },
  {
   "cell_type": "code",
   "execution_count": null,
   "id": "d62ecfea",
   "metadata": {
    "slideshow": {
     "slide_type": "slide"
    }
   },
   "outputs": [],
   "source": [
    "edades[6]"
   ]
  },
  {
   "cell_type": "markdown",
   "id": "15c535cf",
   "metadata": {
    "slideshow": {
     "slide_type": "slide"
    }
   },
   "source": [
    "La obtención de un intervalo se puede realizar como se muestra en las siguientes imágenes:"
   ]
  },
  {
   "cell_type": "code",
   "execution_count": null,
   "id": "de86552c",
   "metadata": {
    "slideshow": {
     "slide_type": "slide"
    }
   },
   "outputs": [],
   "source": [
    "edades[3:5]"
   ]
  },
  {
   "cell_type": "markdown",
   "id": "dfd2bbc2",
   "metadata": {
    "slideshow": {
     "slide_type": "slide"
    }
   },
   "source": [
    "### Ejemplo: Obtención de intervalos desde un punto hasta el final."
   ]
  },
  {
   "cell_type": "code",
   "execution_count": null,
   "id": "5f77707d",
   "metadata": {
    "slideshow": {
     "slide_type": "slide"
    }
   },
   "outputs": [],
   "source": [
    "edades[3:]"
   ]
  },
  {
   "cell_type": "markdown",
   "id": "3b57ca93",
   "metadata": {
    "slideshow": {
     "slide_type": "slide"
    }
   },
   "source": [
    "El reemplazo de un valor de la lista se efectúa con una asignación:"
   ]
  },
  {
   "cell_type": "markdown",
   "id": "636949e7",
   "metadata": {
    "slideshow": {
     "slide_type": "slide"
    }
   },
   "source": [
    "### Ejemplo: Reemplazo de un dato de la lista."
   ]
  },
  {
   "cell_type": "code",
   "execution_count": null,
   "id": "7317ad48",
   "metadata": {
    "slideshow": {
     "slide_type": "slide"
    }
   },
   "outputs": [],
   "source": [
    "edades "
   ]
  },
  {
   "cell_type": "code",
   "execution_count": null,
   "id": "b5957430",
   "metadata": {
    "slideshow": {
     "slide_type": "slide"
    }
   },
   "outputs": [],
   "source": [
    "edades[0] = 12\n",
    "edades "
   ]
  },
  {
   "cell_type": "markdown",
   "id": "ba68001d",
   "metadata": {
    "slideshow": {
     "slide_type": "slide"
    }
   },
   "source": [
    "## 1.10 Arreglos de dos dimensiones"
   ]
  },
  {
   "cell_type": "markdown",
   "id": "984cb85c",
   "metadata": {
    "slideshow": {
     "slide_type": "slide"
    }
   },
   "source": [
    "Los arreglos son conjuntos de datos organizados que pueden ser una o múltiples dimensiones. "
   ]
  },
  {
   "cell_type": "markdown",
   "id": "e7853bf8",
   "metadata": {
    "slideshow": {
     "slide_type": "slide"
    }
   },
   "source": [
    "Para acceder a estos es se recurre al módulo “numpy” o Python numérico, con el cual se tendrá una forma de crear los arreglos necesarios a la hora de organizar datos en un “dataframe” (tabla de datos). "
   ]
  },
  {
   "cell_type": "markdown",
   "id": "61039a15",
   "metadata": {
    "slideshow": {
     "slide_type": "slide"
    }
   },
   "source": [
    "Los arreglos se crean a partir de una lista de números como argumento."
   ]
  },
  {
   "cell_type": "markdown",
   "id": "a811f315",
   "metadata": {
    "slideshow": {
     "slide_type": "slide"
    }
   },
   "source": [
    "Figura 1-40. Creación de un arreglo “numpy.ndarray”."
   ]
  },
  {
   "cell_type": "code",
   "execution_count": null,
   "id": "acec48a0",
   "metadata": {
    "slideshow": {
     "slide_type": "slide"
    }
   },
   "outputs": [],
   "source": [
    "import numpy as np "
   ]
  },
  {
   "cell_type": "code",
   "execution_count": null,
   "id": "1f15215e",
   "metadata": {
    "slideshow": {
     "slide_type": "slide"
    }
   },
   "outputs": [],
   "source": [
    "x = [1,3,5,7,9]\n",
    "y = [0,2,4,6,8] \n",
    "\n",
    "arreglo = np.array([x,y])\n",
    "arreglo "
   ]
  },
  {
   "cell_type": "markdown",
   "id": "31c85f02",
   "metadata": {
    "slideshow": {
     "slide_type": "slide"
    }
   },
   "source": [
    "Utilizando la función “transpose” se puede transponer el arreglo para obtener las filas como columnas o desde el arreglo con el atributo.”T”."
   ]
  },
  {
   "cell_type": "markdown",
   "id": "777fbd71",
   "metadata": {
    "slideshow": {
     "slide_type": "slide"
    }
   },
   "source": [
    "### Ejemplo Traspuesta de una matriz con función “transpose”."
   ]
  },
  {
   "cell_type": "code",
   "execution_count": null,
   "id": "7b5f3db9",
   "metadata": {
    "slideshow": {
     "slide_type": "slide"
    }
   },
   "outputs": [],
   "source": [
    "np.transpose(arreglo) "
   ]
  },
  {
   "cell_type": "code",
   "execution_count": null,
   "id": "0b14da37",
   "metadata": {
    "slideshow": {
     "slide_type": "slide"
    }
   },
   "outputs": [],
   "source": []
  },
  {
   "cell_type": "code",
   "execution_count": null,
   "id": "64c428c8",
   "metadata": {
    "slideshow": {
     "slide_type": "slide"
    }
   },
   "outputs": [],
   "source": []
  },
  {
   "cell_type": "markdown",
   "id": "49fc1f6c",
   "metadata": {
    "slideshow": {
     "slide_type": "slide"
    }
   },
   "source": [
    "# 1.11 Ejercicios de la unidad 1"
   ]
  },
  {
   "cell_type": "markdown",
   "id": "e57a4fb0",
   "metadata": {
    "slideshow": {
     "slide_type": "slide"
    }
   },
   "source": [
    "1. Suponga la siguiente variable que almacena datos que representan la existencia de características en cierto hotel:  \n",
    "\n",
    "`C = [\"piscina\", \"gimnasio\", \"golf\", \"sauna\", \"turco\", \"jacuzzi\", \"teatro\", \"spa\"]`  \n",
    "\n",
    "Crear un código que permita al usuario digitar una característica y determinar si se \n",
    "encuentra disponible o no en dicho hotel"
   ]
  },
  {
   "cell_type": "markdown",
   "id": "f2511a85",
   "metadata": {
    "slideshow": {
     "slide_type": "slide"
    }
   },
   "source": [
    "## Solución "
   ]
  },
  {
   "cell_type": "code",
   "execution_count": null,
   "id": "36a7b59e",
   "metadata": {
    "slideshow": {
     "slide_type": "slide"
    }
   },
   "outputs": [],
   "source": [
    "servicios_hotel = ['piscina', 'gimnasio', 'golf', 'sauna', 'turco', 'jacuzzi', 'teatro', 'spa']"
   ]
  },
  {
   "cell_type": "code",
   "execution_count": null,
   "id": "7b6b52a6",
   "metadata": {
    "slideshow": {
     "slide_type": "slide"
    }
   },
   "outputs": [],
   "source": [
    "def el_servicio_esta(servicio):\n",
    "    if servicio in servicios_hotel:\n",
    "        print('El servicio solicitado si lo brinda el hotel')\n",
    "    else:\n",
    "        print('El servicio solicitado no lo tiene el hotel') \n",
    "    "
   ]
  },
  {
   "cell_type": "code",
   "execution_count": null,
   "id": "3f03a5e0",
   "metadata": {
    "slideshow": {
     "slide_type": "slide"
    }
   },
   "outputs": [],
   "source": [
    "el_servicio_esta('almuerzo')"
   ]
  },
  {
   "cell_type": "code",
   "execution_count": null,
   "id": "770f8254",
   "metadata": {
    "slideshow": {
     "slide_type": "slide"
    }
   },
   "outputs": [],
   "source": []
  },
  {
   "cell_type": "code",
   "execution_count": null,
   "id": "d000ba7c",
   "metadata": {
    "slideshow": {
     "slide_type": "slide"
    }
   },
   "outputs": [],
   "source": []
  },
  {
   "cell_type": "code",
   "execution_count": null,
   "id": "db77c51b",
   "metadata": {},
   "outputs": [],
   "source": []
  },
  {
   "cell_type": "code",
   "execution_count": null,
   "id": "9f702855",
   "metadata": {},
   "outputs": [],
   "source": []
  },
  {
   "cell_type": "code",
   "execution_count": null,
   "id": "c6a93408",
   "metadata": {},
   "outputs": [],
   "source": []
  },
  {
   "cell_type": "code",
   "execution_count": null,
   "id": "f649b422",
   "metadata": {},
   "outputs": [],
   "source": []
  },
  {
   "cell_type": "code",
   "execution_count": null,
   "id": "63831f23",
   "metadata": {},
   "outputs": [],
   "source": []
  },
  {
   "cell_type": "code",
   "execution_count": null,
   "id": "2d330ecb",
   "metadata": {},
   "outputs": [],
   "source": []
  },
  {
   "cell_type": "code",
   "execution_count": null,
   "id": "60bd603d",
   "metadata": {},
   "outputs": [],
   "source": []
  },
  {
   "cell_type": "code",
   "execution_count": null,
   "id": "66cdb0e6",
   "metadata": {},
   "outputs": [],
   "source": []
  },
  {
   "cell_type": "code",
   "execution_count": null,
   "id": "c41c4456",
   "metadata": {},
   "outputs": [],
   "source": []
  },
  {
   "cell_type": "code",
   "execution_count": null,
   "id": "41050349",
   "metadata": {},
   "outputs": [],
   "source": []
  },
  {
   "cell_type": "code",
   "execution_count": null,
   "id": "d5a0b3b8",
   "metadata": {},
   "outputs": [],
   "source": []
  },
  {
   "cell_type": "code",
   "execution_count": null,
   "id": "defd3e1c",
   "metadata": {},
   "outputs": [],
   "source": []
  },
  {
   "cell_type": "code",
   "execution_count": null,
   "id": "5888a7c7",
   "metadata": {},
   "outputs": [],
   "source": []
  },
  {
   "cell_type": "markdown",
   "id": "32a0f27d",
   "metadata": {
    "slideshow": {
     "slide_type": "slide"
    }
   },
   "source": [
    "## Referentes  \n",
    "\n",
    "* Calderon. \n",
    "* https://python-reference.readthedocs.io/en/latest/docs/list/sort.html\n",
    "* La función `randint`: https://www.geeksforgeeks.org/python-randint-function/ \n",
    "* `dir()`"
   ]
  },
  {
   "cell_type": "code",
   "execution_count": null,
   "id": "4f6bda3a",
   "metadata": {
    "slideshow": {
     "slide_type": "slide"
    }
   },
   "outputs": [],
   "source": [
    "import random\n",
    "from random import randint\n",
    "\n",
    "import matplotlib.pyplot as plt \n",
    "\n",
    "lista_de_numeros = []\n",
    "\n",
    "for i in range(10_000_000):\n",
    "    lista_de_numeros.append(randint(0,9))\n",
    "    \n",
    "len(lista_de_numeros)     \n",
    "plt.hist(lista_de_numeros)"
   ]
  },
  {
   "cell_type": "markdown",
   "id": "2f48c8d8",
   "metadata": {
    "slideshow": {
     "slide_type": "slide"
    }
   },
   "source": [
    "## Ejemplo de uso de la función `dir()` de Python"
   ]
  },
  {
   "cell_type": "code",
   "execution_count": null,
   "id": "792f7e7f",
   "metadata": {
    "slideshow": {
     "slide_type": "slide"
    }
   },
   "outputs": [],
   "source": [
    "import math   # esta es la manera de importar la librería math "
   ]
  },
  {
   "cell_type": "code",
   "execution_count": null,
   "id": "e8b1f480",
   "metadata": {},
   "outputs": [],
   "source": [
    "dir(math) "
   ]
  },
  {
   "cell_type": "code",
   "execution_count": null,
   "id": "7d1866bc",
   "metadata": {},
   "outputs": [],
   "source": []
  }
 ],
 "metadata": {
  "celltoolbar": "Slideshow",
  "kernelspec": {
   "display_name": "Python 3",
   "language": "python",
   "name": "python3"
  },
  "language_info": {
   "codemirror_mode": {
    "name": "ipython",
    "version": 3
   },
   "file_extension": ".py",
   "mimetype": "text/x-python",
   "name": "python",
   "nbconvert_exporter": "python",
   "pygments_lexer": "ipython3",
   "version": "3.8.8"
  },
  "latex_envs": {
   "LaTeX_envs_menu_present": true,
   "autoclose": false,
   "autocomplete": false,
   "bibliofile": "biblio.bib",
   "cite_by": "apalike",
   "current_citInitial": 1,
   "eqLabelWithNumbers": true,
   "eqNumInitial": 1,
   "hotkeys": {
    "equation": "Ctrl-E",
    "itemize": "Ctrl-I"
   },
   "labels_anchors": false,
   "latex_user_defs": false,
   "report_style_numbering": false,
   "user_envs_cfg": false
  },
  "rise": {
   "enable_chalkboard": true,
   "theme": "sky",
   "transition": "zoom"
  }
 },
 "nbformat": 4,
 "nbformat_minor": 5
}
