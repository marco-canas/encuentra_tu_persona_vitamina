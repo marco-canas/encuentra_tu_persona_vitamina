{
 "cells": [
  {
   "cell_type": "markdown",
   "id": "92aae102",
   "metadata": {
    "slideshow": {
     "slide_type": "slide"
    }
   },
   "source": [
    "<table align=\"left\">\n",
    "  <td>\n",
    "    <a href=\"https://colab.research.google.com/github/marco-canas/introducci-n-al-Machine-Learning/blob/main/classes/class_4/class_4.ipynb\" target=\"_parent\"><img src=\"https://colab.research.google.com/assets/colab-badge.svg\" alt=\"Open In Colab\"/></a>\n",
    "  </td>\n",
    "  <td>\n",
    "    <a target=\"_blank\" href=\"https://kaggle.com/kernels/welcome?src=https://github.com/marco-canas/introducci-n-al-Machine-Learning/blob/main/classes/class_4/class_4.ipynb\"><img src=\"https://kaggle.com/static/images/open-in-kaggle.svg\" /></a>\n",
    "  </td>\n",
    "</table>\n"
   ]
  },
  {
   "cell_type": "markdown",
   "id": "6c4dc3a9",
   "metadata": {
    "slideshow": {
     "slide_type": "slide"
    }
   },
   "source": [
    "## Clase 4 "
   ]
  },
  {
   "cell_type": "markdown",
   "id": "094fd0a1",
   "metadata": {
    "slideshow": {
     "slide_type": "slide"
    }
   },
   "source": [
    "## Objetivos\n",
    "\n",
    "* Presentar el concepto de estructuras de control en Python\n",
    "* Presentar el concepto de funciones en Python\n"
   ]
  },
  {
   "cell_type": "markdown",
   "id": "7a705de5",
   "metadata": {
    "slideshow": {
     "slide_type": "slide"
    }
   },
   "source": [
    "# 1.7 Estructuras de control"
   ]
  },
  {
   "cell_type": "markdown",
   "id": "5764a912",
   "metadata": {
    "slideshow": {
     "slide_type": "slide"
    }
   },
   "source": [
    "## [Segundo video de apoyo](https://github.com/marco-canas/introducci-n-al-Machine-Learning/blob/main/classes/class_4/class_4.ipynb)"
   ]
  },
  {
   "cell_type": "markdown",
   "id": "49acd05f",
   "metadata": {
    "slideshow": {
     "slide_type": "slide"
    }
   },
   "source": [
    "Según (Fisher, 1970) “por estructuras de control se hace referencia a entornos de programación u operaciones que especifican la secuencia y la interpretación de reglas para programas o partes de programas.” "
   ]
  },
  {
   "cell_type": "markdown",
   "id": "ff460931",
   "metadata": {
    "slideshow": {
     "slide_type": "slide"
    }
   },
   "source": [
    "A continuación, se trabajarán tres estructuras de control básicas: la declaración “if”, el ciclo “while” y el ciclo “for”."
   ]
  },
  {
   "cell_type": "markdown",
   "id": "6fcb29f2",
   "metadata": {
    "slideshow": {
     "slide_type": "slide"
    }
   },
   "source": [
    "## 1.7.1 Declaración if- elif-else"
   ]
  },
  {
   "cell_type": "markdown",
   "id": "2e80c1aa",
   "metadata": {
    "slideshow": {
     "slide_type": "slide"
    }
   },
   "source": [
    "La declaración `if` es una herramienta para crear decisiones en los lenguajes de programación. "
   ]
  },
  {
   "cell_type": "markdown",
   "id": "fe231b07",
   "metadata": {
    "slideshow": {
     "slide_type": "slide"
    }
   },
   "source": [
    "Al usar dicha declaración se puede dar paso a que se cumplan determinadas acciones de acuerdo a una condición que se establece: sí se cumple determinada condición, se realiza determinada acción. Si no, se realiza otra."
   ]
  },
  {
   "cell_type": "markdown",
   "id": "80fa4113",
   "metadata": {
    "slideshow": {
     "slide_type": "slide"
    }
   },
   "source": [
    " \n",
    "Para usar esta declaración se escribe “if”, seguido de la condición y después de ésta se \n",
    "colocan dos puntos “:” con el fin de especificar el fin de la condición. "
   ]
  },
  {
   "cell_type": "markdown",
   "id": "adc7e40c",
   "metadata": {
    "slideshow": {
     "slide_type": "slide"
    }
   },
   "source": [
    "Posteriormente se crea un nuevo renglón con la tecla “enter” en donde se escribe el código que se ejecutará\n",
    "en caso de que la condición se cumpla."
   ]
  },
  {
   "cell_type": "markdown",
   "id": "9f8e4be8",
   "metadata": {
    "slideshow": {
     "slide_type": "slide"
    }
   },
   "source": [
    "Es importante distinguir la sangría que aparece después de presionar “enter” una vez se haya escrito los dos puntos `:` que marcan el final de la condición."
   ]
  },
  {
   "cell_type": "markdown",
   "id": "1e45fc80",
   "metadata": {
    "slideshow": {
     "slide_type": "slide"
    }
   },
   "source": [
    "Cabe resaltar que Python no usa llaves para establecer hasta qué punto el código escrito se encuentra dependiente de la condición, por lo que hay que entender bien la profundidad de las sangrías para entender a qué condición pertenecen."
   ]
  },
  {
   "cell_type": "markdown",
   "id": "2b54025f",
   "metadata": {
    "slideshow": {
     "slide_type": "slide"
    }
   },
   "source": [
    " \n",
    "* La condición `elif` que significa `else if`, permite añadir más condiciones para evaluar. "
   ]
  },
  {
   "cell_type": "markdown",
   "id": "c8433978",
   "metadata": {
    "slideshow": {
     "slide_type": "slide"
    }
   },
   "source": [
    "Finalmente se añade la cláusula `else` al mismo nivel de la sentencia `if` para ejecutar la tarea \n",
    "alternativa en caso de que las previas no se hayan cumplido (Mueller, 2018, p. 136)."
   ]
  },
  {
   "cell_type": "markdown",
   "id": "a5180c85",
   "metadata": {
    "slideshow": {
     "slide_type": "slide"
    }
   },
   "source": [
    "## Ejemplo de declaraciones “If-elif-else”"
   ]
  },
  {
   "cell_type": "code",
   "execution_count": 7,
   "id": "4a805c6f",
   "metadata": {
    "slideshow": {
     "slide_type": "slide"
    }
   },
   "outputs": [
    {
     "name": "stdout",
     "output_type": "stream",
     "text": [
      "Ingrese su calificación (0-5): 4.4\n"
     ]
    }
   ],
   "source": [
    "nota = float(input('Ingrese su calificación (0-5): '))"
   ]
  },
  {
   "cell_type": "code",
   "execution_count": 8,
   "id": "e1ff8d04",
   "metadata": {
    "slideshow": {
     "slide_type": "slide"
    }
   },
   "outputs": [
    {
     "data": {
      "text/plain": [
       "4.4"
      ]
     },
     "execution_count": 8,
     "metadata": {},
     "output_type": "execute_result"
    }
   ],
   "source": [
    "nota  "
   ]
  },
  {
   "cell_type": "code",
   "execution_count": 9,
   "id": "d04958e9",
   "metadata": {
    "slideshow": {
     "slide_type": "slide"
    }
   },
   "outputs": [
    {
     "name": "stdout",
     "output_type": "stream",
     "text": [
      "aprobó la materia\n"
     ]
    }
   ],
   "source": [
    "if nota < 0.0 or nota > 5.0:\n",
    "    print('Entró una calificación no válida')\n",
    "elif nota < 3.0:\n",
    "    print('reprobó la materia')\n",
    "else:\n",
    "    print('aprobó la materia')"
   ]
  },
  {
   "cell_type": "markdown",
   "id": "921d632c",
   "metadata": {
    "slideshow": {
     "slide_type": "slide"
    }
   },
   "source": [
    "En el ejemplo anterior, se evalúa sí la variable `nota` se encuentra fuera de los rangos de \n",
    "calificación. "
   ]
  },
  {
   "cell_type": "markdown",
   "id": "b49d377f",
   "metadata": {
    "slideshow": {
     "slide_type": "slide"
    }
   },
   "source": [
    "Sí se encuentra dentro de los rangos válidos para una calificación, posteriormente se evalúa. \n",
    "\n",
    "* Si es menor que 3.0, de ser verdadero como en el ejemplo, se ejecuta la línea siguiente. "
   ]
  },
  {
   "cell_type": "markdown",
   "id": "d760be51",
   "metadata": {
    "slideshow": {
     "slide_type": "slide"
    }
   },
   "source": [
    "* De no ser verdadero se ejecutará la línea después del `else`. \n",
    "Siempre se ejecutan las líneas contenidas en la declaración “else” cuando las líneas \n",
    "contenidas en las declaraciones `if` no se cumplen (Mueller, 2018, p. 142)."
   ]
  },
  {
   "cell_type": "markdown",
   "id": "77cb64bf",
   "metadata": {
    "slideshow": {
     "slide_type": "slide"
    }
   },
   "source": [
    "## 1.7.2 Ciclo `While`"
   ]
  },
  {
   "cell_type": "markdown",
   "id": "c106c037",
   "metadata": {
    "slideshow": {
     "slide_type": "slide"
    }
   },
   "source": [
    "[`while`](https://translate.google.com.co/?hl=en&tab=mT&sl=en&tl=es&text=while%20%0A%0A&op=translate): es una preposición y significa 'mientras'.   \n",
    "Ejemplo: Veré televisión mientras me sirven el almuerzo.  "
   ]
  },
  {
   "cell_type": "markdown",
   "id": "bc27ecf7",
   "metadata": {
    "slideshow": {
     "slide_type": "slide"
    }
   },
   "source": [
    "Según (Fisher, 1970) el ciclo `while` es una expresión iterativa de bucle que causa la ejecución repetitiva de una expresión en la medida que una condición determinada se cumpla o no. "
   ]
  },
  {
   "cell_type": "markdown",
   "id": "76a55c42",
   "metadata": {
    "slideshow": {
     "slide_type": "slide"
    }
   },
   "source": [
    "En Python este ciclo se realiza escribiendo `while`, seguido de la condición y finalmente se especifica el final de la condición colocando dos puntos `:`."
   ]
  },
  {
   "cell_type": "markdown",
   "id": "f56523d2",
   "metadata": {
    "slideshow": {
     "slide_type": "slide"
    }
   },
   "source": [
    "### Ejemplo: Uso del ciclo “while” para imprimir los números del 1 hasta el 4."
   ]
  },
  {
   "cell_type": "code",
   "execution_count": 10,
   "id": "3dade409",
   "metadata": {
    "slideshow": {
     "slide_type": "slide"
    }
   },
   "outputs": [],
   "source": [
    "x = 0    # inicializamos la variable x en cero"
   ]
  },
  {
   "cell_type": "code",
   "execution_count": 11,
   "id": "78d44248",
   "metadata": {
    "slideshow": {
     "slide_type": "slide"
    }
   },
   "outputs": [
    {
     "name": "stdout",
     "output_type": "stream",
     "text": [
      "0\n",
      "1\n",
      "2\n",
      "3\n",
      "4\n"
     ]
    }
   ],
   "source": [
    "while x < 5:\n",
    "    print(x)\n",
    "    x = x+1\n",
    "    "
   ]
  },
  {
   "cell_type": "code",
   "execution_count": 12,
   "id": "7efea6a7",
   "metadata": {
    "slideshow": {
     "slide_type": "slide"
    }
   },
   "outputs": [
    {
     "data": {
      "text/plain": [
       "5"
      ]
     },
     "execution_count": 12,
     "metadata": {},
     "output_type": "execute_result"
    }
   ],
   "source": [
    "x "
   ]
  },
  {
   "cell_type": "markdown",
   "id": "2c28e219",
   "metadata": {
    "slideshow": {
     "slide_type": "slide"
    }
   },
   "source": [
    "## Ejemplo: Uso del ciclo `while` para crear un juego de adivinanza.\n"
   ]
  },
  {
   "cell_type": "code",
   "execution_count": 13,
   "id": "87e3a275",
   "metadata": {
    "slideshow": {
     "slide_type": "slide"
    }
   },
   "outputs": [
    {
     "name": "stdout",
     "output_type": "stream",
     "text": [
      "Entre un número de cero a 9: 1\n",
      "fallaste, ingresa un nuevo número: 0\n",
      "fallaste, ingresa un nuevo número: 2\n",
      "fallaste, ingresa un nuevo número: 3\n",
      "fallaste, ingresa un nuevo número: 4\n",
      "fallaste, ingresa un nuevo número: 5\n",
      "fallaste, ingresa un nuevo número: 6\n",
      "fallaste, ingresa un nuevo número: 7\n",
      "fallaste, ingresa un nuevo número: 8\n",
      "¡Has adivinado el número, el cual era:  8 y el número de intentos que realizaste fue de:  9\n"
     ]
    }
   ],
   "source": [
    "import random \n",
    "from random import randint \n",
    "\n",
    "intentos = 1\n",
    "\n",
    "x = randint(0,9)\n",
    "\n",
    "numero_del_usuario = int(input('Entre un número de cero a 9: '))\n",
    "\n",
    "while numero_del_usuario != x:\n",
    "    numero_del_usuario = int(input('fallaste, ingresa un nuevo número: ')) \n",
    "    intentos = intentos + 1 \n",
    "\n",
    "print('¡Has adivinado el número, el cual era: ', x, 'y el número de intentos que realizaste fue de: ', intentos) \n"
   ]
  },
  {
   "cell_type": "markdown",
   "id": "3d96e8f9",
   "metadata": {
    "slideshow": {
     "slide_type": "slide"
    }
   },
   "source": [
    "En el código anterior se importa el módulo `random` y de éste se extrae sólo uno de sus atributos usando la declaración `from` (Mueller, 2018, p. 205). "
   ]
  },
  {
   "cell_type": "markdown",
   "id": "56518743",
   "metadata": {
    "slideshow": {
     "slide_type": "slide"
    }
   },
   "source": [
    "El atributo extraído es `randint` el cual genera un número entero aleatorio con base en una distribución uniforme. "
   ]
  },
  {
   "cell_type": "markdown",
   "id": "c85e1edf",
   "metadata": {
    "slideshow": {
     "slide_type": "slide"
    }
   },
   "source": [
    "Luego, los números colocados en la función se incluyen (intervalo cerrado), con lo cual se tiene un número aleatorio de entre 0 y 9."
   ]
  },
  {
   "cell_type": "markdown",
   "id": "19470df8",
   "metadata": {
    "slideshow": {
     "slide_type": "slide"
    }
   },
   "source": [
    " \n",
    "El ciclo “while” se encarga entonces de pedir al usuario un número, siempre y cuando éste número no sea igual al número aleatorio generado con la función `randint`. "
   ]
  },
  {
   "cell_type": "markdown",
   "id": "75c9d0d6",
   "metadata": {
    "slideshow": {
     "slide_type": "slide"
    }
   },
   "source": [
    "Finalmente, con la variable `intentos` se lleva la cuenta de las veces que el usuario ha ingresado un valor."
   ]
  },
  {
   "cell_type": "markdown",
   "id": "8a9ef0a7",
   "metadata": {
    "slideshow": {
     "slide_type": "slide"
    }
   },
   "source": [
    "## 1.7.3 Declaración `for`  "
   ]
  },
  {
   "cell_type": "markdown",
   "id": "15550151",
   "metadata": {
    "slideshow": {
     "slide_type": "slide"
    }
   },
   "source": [
    "Es una declaración común en los lenguajes de programación. "
   ]
  },
  {
   "cell_type": "markdown",
   "id": "d0fc9b96",
   "metadata": {
    "slideshow": {
     "slide_type": "slide"
    }
   },
   "source": [
    "Se trata de un ciclo que se repite una determinada cantidad de veces por medio de sucesiones que se pueden especificar por medio de la función `range()`, letras u otras alternativas más convenientes (Mueller, 2018, p. 152)."
   ]
  },
  {
   "cell_type": "markdown",
   "id": "bff4c149",
   "metadata": {
    "slideshow": {
     "slide_type": "slide"
    }
   },
   "source": [
    "Para usar esta declaración se escribe “for”, seguido de una variable que se irá convirtiendo en los valores que se establezcan, según lo que se especifique como sí se tratara de un contador y al final se utilizan dos puntos `:`."
   ]
  },
  {
   "cell_type": "markdown",
   "id": "2e1817de",
   "metadata": {
    "slideshow": {
     "slide_type": "slide"
    }
   },
   "source": [
    "Figura 1-20. Ejemplo del ciclo “for” en “Python”."
   ]
  },
  {
   "cell_type": "code",
   "execution_count": 15,
   "id": "f6024b3f",
   "metadata": {
    "slideshow": {
     "slide_type": "slide"
    }
   },
   "outputs": [
    {
     "name": "stdout",
     "output_type": "stream",
     "text": [
      "número:  0\n",
      "número:  1\n",
      "número:  2\n",
      "número:  3\n",
      "número:  4\n"
     ]
    }
   ],
   "source": [
    "for x in range(0,5):\n",
    "    print('número: ',x) "
   ]
  },
  {
   "cell_type": "markdown",
   "id": "49361c4a",
   "metadata": {
    "slideshow": {
     "slide_type": "slide"
    }
   },
   "source": [
    "La función `range(0,5)` genera una lista de números que va desde 0 hasta 4 (intervalo abierto por derecha $[0,5)$). "
   ]
  },
  {
   "cell_type": "markdown",
   "id": "de4c9601",
   "metadata": {
    "slideshow": {
     "slide_type": "slide"
    }
   },
   "source": [
    "El valor inicial de $x$ es $0$."
   ]
  },
  {
   "cell_type": "markdown",
   "id": "75b6a053",
   "metadata": {
    "slideshow": {
     "slide_type": "slide"
    }
   },
   "source": [
    "Luego se ejecuta lo que se encuentre en el ciclo. "
   ]
  },
  {
   "cell_type": "markdown",
   "id": "abaa1bd3",
   "metadata": {
    "slideshow": {
     "slide_type": "slide"
    }
   },
   "source": [
    "Teniendo en cuenta ese valor y cuando  finalice, se regresa a la línea en la que se encuentra la sentencia: `for`. "
   ]
  },
  {
   "cell_type": "markdown",
   "id": "4815e985",
   "metadata": {
    "slideshow": {
     "slide_type": "slide"
    }
   },
   "source": [
    "Posteriormente la variable $x$ toma el valor de 1 proveniente de la función “range” y vuelve a ejecutarse lo que exista \n",
    "dentro del ciclo “for”. "
   ]
  },
  {
   "cell_type": "markdown",
   "id": "164ef5d2",
   "metadata": {
    "slideshow": {
     "slide_type": "slide"
    }
   },
   "source": [
    "En este ejemplo se está imprimiendo el valor de x a medida que cambia de valor al recorrer los números del 0 hasta el 4."
   ]
  },
  {
   "cell_type": "markdown",
   "id": "0bb403fd",
   "metadata": {
    "slideshow": {
     "slide_type": "slide"
    }
   },
   "source": [
    "La función `range()` es útil para crear las iteraciones en los ciclos “for”. "
   ]
  },
  {
   "cell_type": "markdown",
   "id": "63c98e3d",
   "metadata": {
    "slideshow": {
     "slide_type": "slide"
    }
   },
   "source": [
    "Debe tenerse en cuenta que no se obtiene una lista como tal con la función “range”, sino que es necesario transformar el resultado a una lista, sí se desea usar como un vector de números mediante la función “list”."
   ]
  },
  {
   "cell_type": "code",
   "execution_count": 16,
   "id": "15347d82",
   "metadata": {
    "slideshow": {
     "slide_type": "slide"
    }
   },
   "outputs": [
    {
     "data": {
      "text/plain": [
       "range(0, 5)"
      ]
     },
     "execution_count": 16,
     "metadata": {},
     "output_type": "execute_result"
    }
   ],
   "source": [
    "range(0,5)"
   ]
  },
  {
   "cell_type": "code",
   "execution_count": 17,
   "id": "df97485e",
   "metadata": {
    "slideshow": {
     "slide_type": "slide"
    }
   },
   "outputs": [
    {
     "data": {
      "text/plain": [
       "[0, 1, 2, 3, 4]"
      ]
     },
     "execution_count": 17,
     "metadata": {},
     "output_type": "execute_result"
    }
   ],
   "source": [
    "list(range(0,5)) "
   ]
  },
  {
   "cell_type": "markdown",
   "id": "0b9ef8e1",
   "metadata": {
    "slideshow": {
     "slide_type": "slide"
    }
   },
   "source": [
    "El ciclo `for` también se usa frecuentemente para recorrer valores contenidos en una lista o vector y con ello realizar tareas de búsqueda y/o modificaciones"
   ]
  },
  {
   "cell_type": "markdown",
   "id": "32d07c76",
   "metadata": {
    "slideshow": {
     "slide_type": "slide"
    }
   },
   "source": [
    "Dentro de la declaración “for” se suelen incluir declaraciones “if” y se usan más declaraciones para controlar la ejecución del ciclo, que son `Continue`, `Pass` y `Break`:"
   ]
  },
  {
   "cell_type": "markdown",
   "id": "97bc1ed0",
   "metadata": {
    "slideshow": {
     "slide_type": "slide"
    }
   },
   "source": [
    "* “Break”: Detiene la ejecución del ciclo  \n",
    "* “Continue”: No se ejecuta la iteración actual pero si las iteraciones siguientes  \n",
    "* “Pass”: Permite la ejecución de la iteración actual y las siguientes.  "
   ]
  },
  {
   "cell_type": "markdown",
   "id": "8d91c2c6",
   "metadata": {
    "slideshow": {
     "slide_type": "slide"
    }
   },
   "source": [
    "La siguiente figura muestra un ciclo `for` con “if” sin las declaraciones mencionadas anteriormente:"
   ]
  },
  {
   "cell_type": "markdown",
   "id": "1ff3dc73",
   "metadata": {
    "slideshow": {
     "slide_type": "slide"
    }
   },
   "source": [
    "### Ejemplo: Ejecución de un ciclo “for-if” sin otras declaraciones."
   ]
  },
  {
   "cell_type": "code",
   "execution_count": 18,
   "id": "392dcdfc",
   "metadata": {
    "slideshow": {
     "slide_type": "slide"
    }
   },
   "outputs": [
    {
     "name": "stdout",
     "output_type": "stream",
     "text": [
      "0\n",
      "1\n",
      "2\n",
      "p alcanzó el número 3\n",
      "3\n",
      "4\n"
     ]
    }
   ],
   "source": [
    "for p in range(0,5):\n",
    "    if p==3:\n",
    "        print('p alcanzó el número 3')\n",
    "    print(p)    "
   ]
  },
  {
   "cell_type": "markdown",
   "id": "375cd4a8",
   "metadata": {
    "slideshow": {
     "slide_type": "slide"
    }
   },
   "source": [
    "Con la declaración `break`, colocada dentro de la declaración `if` el ciclo se cancela una vez se ejecuta lo especificado cuando la variable `p` es igual a 3. "
   ]
  },
  {
   "cell_type": "markdown",
   "id": "570ed388",
   "metadata": {
    "slideshow": {
     "slide_type": "slide"
    }
   },
   "source": [
    "Se ve que p no toma el valor de 4 y no se imprime:"
   ]
  },
  {
   "cell_type": "markdown",
   "id": "4e68dcfa",
   "metadata": {
    "slideshow": {
     "slide_type": "slide"
    }
   },
   "source": [
    "### Ejemplo: Uso de la declaración `break` en un ciclo `for`"
   ]
  },
  {
   "cell_type": "code",
   "execution_count": 20,
   "id": "d2bdd48d",
   "metadata": {
    "slideshow": {
     "slide_type": "slide"
    }
   },
   "outputs": [
    {
     "name": "stdout",
     "output_type": "stream",
     "text": [
      "0\n",
      "1\n",
      "2\n",
      "La variable p alcanzó el valor de 3\n"
     ]
    }
   ],
   "source": [
    "for p in range(0,5):\n",
    "    if p ==3:\n",
    "        print('La variable p alcanzó el valor de 3')\n",
    "        break \n",
    "    print(p)   "
   ]
  },
  {
   "cell_type": "markdown",
   "id": "c1e1b332",
   "metadata": {
    "slideshow": {
     "slide_type": "slide"
    }
   },
   "source": [
    "Cuando se utiliza la declaración `continue`, se impide que se ejecuten las líneas siguientes de código para la iteración actual porque inmediatamente continúa con la siguiente iteración, por ello no se imprime en pantalla el número 3. "
   ]
  },
  {
   "cell_type": "markdown",
   "id": "97897160",
   "metadata": {
    "slideshow": {
     "slide_type": "slide"
    }
   },
   "source": [
    "Es útil para evitar que se ejecuten acciones en determinado instante de una iteración (Mueller, 2018, p. 156)."
   ]
  },
  {
   "cell_type": "markdown",
   "id": "e8115e37",
   "metadata": {
    "slideshow": {
     "slide_type": "slide"
    }
   },
   "source": [
    "### Ejemplo: Uso de la declaración “continue” en un ciclo “for”."
   ]
  },
  {
   "cell_type": "code",
   "execution_count": 21,
   "id": "18174b95",
   "metadata": {
    "scrolled": true,
    "slideshow": {
     "slide_type": "slide"
    }
   },
   "outputs": [
    {
     "name": "stdout",
     "output_type": "stream",
     "text": [
      "0\n",
      "1\n",
      "2\n",
      "p alcanzó el valor de 3\n",
      "4\n"
     ]
    }
   ],
   "source": [
    "for p in range(0,5):\n",
    "    if p ==3:\n",
    "        print('p alcanzó el valor de 3')\n",
    "        continue  \n",
    "    print(p)   "
   ]
  },
  {
   "cell_type": "markdown",
   "id": "bf591f5b",
   "metadata": {
    "slideshow": {
     "slide_type": "slide"
    }
   },
   "source": [
    "La declaración `pass` permite la ejecución de la iteración actual y las siguientes. "
   ]
  },
  {
   "cell_type": "markdown",
   "id": "985eed4b",
   "metadata": {
    "slideshow": {
     "slide_type": "slide"
    }
   },
   "source": [
    "No difiere  del resultado del ciclo sin estas declaraciones, pero a veces suele requerirse para evitar espacios en blanco o código incompleto que puedan causar errores (Piraeus, 2017)."
   ]
  },
  {
   "cell_type": "markdown",
   "id": "421b2858",
   "metadata": {
    "slideshow": {
     "slide_type": "slide"
    }
   },
   "source": [
    "### Ejemplo: Uso de la declaración “pass” en el ciclo “for”."
   ]
  },
  {
   "cell_type": "code",
   "execution_count": 23,
   "id": "74be7764",
   "metadata": {
    "scrolled": true,
    "slideshow": {
     "slide_type": "slide"
    }
   },
   "outputs": [
    {
     "name": "stdout",
     "output_type": "stream",
     "text": [
      "0\n",
      "1\n",
      "2\n",
      "Aquí va el número 3\n",
      "3\n",
      "4\n"
     ]
    }
   ],
   "source": [
    "for p in range(0,5):\n",
    "    if p ==3:\n",
    "        print('Aquí va el número 3')\n",
    "        pass  \n",
    "    print(p)   "
   ]
  },
  {
   "cell_type": "markdown",
   "id": "92ae7f1d",
   "metadata": {
    "slideshow": {
     "slide_type": "slide"
    }
   },
   "source": [
    "## 1.8 Definición de funciones"
   ]
  },
  {
   "cell_type": "markdown",
   "id": "b7a0e365",
   "metadata": {
    "slideshow": {
     "slide_type": "slide"
    }
   },
   "source": [
    "Las funciones son parte fundamental para crear algoritmos que simplifiquen tareas repetitivas. "
   ]
  },
  {
   "cell_type": "markdown",
   "id": "5005b871",
   "metadata": {
    "slideshow": {
     "slide_type": "slide"
    }
   },
   "source": [
    "Una función depende de variables para crear un resultado específico. "
   ]
  },
  {
   "cell_type": "markdown",
   "id": "a7859c74",
   "metadata": {
    "slideshow": {
     "slide_type": "slide"
    }
   },
   "source": [
    "Las funciones en Python se crean escribiendo la declaración “def” seguido de un espacio."
   ]
  },
  {
   "cell_type": "markdown",
   "id": "063e1312",
   "metadata": {
    "slideshow": {
     "slide_type": "slide"
    }
   },
   "source": [
    "Luego se escribe el nombre que se le desee dar a la función y junto a ésta se añade entre paréntesis los parámetros o variables de los que dependerá la función. "
   ]
  },
  {
   "cell_type": "markdown",
   "id": "c5f6eac0",
   "metadata": {
    "slideshow": {
     "slide_type": "slide"
    }
   },
   "source": [
    "Finalizando la línea se deben colocar dos puntos “:”. "
   ]
  },
  {
   "cell_type": "markdown",
   "id": "0235f8fa",
   "metadata": {
    "slideshow": {
     "slide_type": "slide"
    }
   },
   "source": [
    "Posteriormente se pulsa “enter” y a partir de esa línea con sangría se digitarán todas las tareas que realizará la función."
   ]
  },
  {
   "cell_type": "markdown",
   "id": "9ca9c68e",
   "metadata": {
    "slideshow": {
     "slide_type": "slide"
    }
   },
   "source": [
    "### Ejemplo de definición de una función cuadrática y de su evaluación en varios números reales. "
   ]
  },
  {
   "cell_type": "code",
   "execution_count": 24,
   "id": "d98904a5",
   "metadata": {
    "slideshow": {
     "slide_type": "slide"
    }
   },
   "outputs": [],
   "source": [
    "def funcion_cuadratica(x):\n",
    "    return x**2 + x + 1"
   ]
  },
  {
   "cell_type": "code",
   "execution_count": 26,
   "id": "c7bbeb53",
   "metadata": {
    "slideshow": {
     "slide_type": "slide"
    }
   },
   "outputs": [
    {
     "data": {
      "text/plain": [
       "3"
      ]
     },
     "execution_count": 26,
     "metadata": {},
     "output_type": "execute_result"
    }
   ],
   "source": [
    "funcion_cuadratica(1)"
   ]
  },
  {
   "cell_type": "code",
   "execution_count": 33,
   "id": "474ad509",
   "metadata": {
    "slideshow": {
     "slide_type": "slide"
    }
   },
   "outputs": [
    {
     "data": {
      "image/png": "[encoded data removed]",
      "text/plain": [
       "<Figure size 432x288 with 1 Axes>"
      ]
     },
     "metadata": {
      "needs_background": "light"
     },
     "output_type": "display_data"
    }
   ],
   "source": [
    "import numpy as np \n",
    "import matplotlib.pyplot as plt \n",
    "\n",
    "x_ = np.arange(-4,4)\n",
    "y_ = funcion_cuadratica(x_)\n",
    "\n",
    "plt.plot(x_,y_)\n",
    "\n",
    "plt.plot([-4,3],[0,0])   # eje x \n",
    "\n",
    "plt.grid()"
   ]
  },
  {
   "cell_type": "markdown",
   "id": "0fd01e54",
   "metadata": {
    "slideshow": {
     "slide_type": "slide"
    }
   },
   "source": [
    "* En este ejemplo, en lugar de utilizar la función `print()`, se utilizó la declaración `return`, la cual devuelve el \n",
    "  resultado de una función que puede ser empleado en otras funciones o ciclos, \n",
    "* si el objetivo fuese solamente mostrar el resultado, podría utilizarse la función `print()`, en lugar de la declaración \n",
    "  “return”."
   ]
  },
  {
   "cell_type": "markdown",
   "id": "bba4488b",
   "metadata": {
    "slideshow": {
     "slide_type": "slide"
    }
   },
   "source": [
    "### Ejemplo: Uso de una función para resolver ecuaciones de segundo grado con la fórmula cuadrática."
   ]
  },
  {
   "cell_type": "code",
   "execution_count": null,
   "id": "01a67cb8",
   "metadata": {
    "slideshow": {
     "slide_type": "slide"
    }
   },
   "outputs": [],
   "source": []
  },
  {
   "cell_type": "code",
   "execution_count": null,
   "id": "0af66157",
   "metadata": {
    "slideshow": {
     "slide_type": "slide"
    }
   },
   "outputs": [],
   "source": []
  },
  {
   "cell_type": "code",
   "execution_count": null,
   "id": "10d96d79",
   "metadata": {
    "slideshow": {
     "slide_type": "slide"
    }
   },
   "outputs": [],
   "source": []
  },
  {
   "cell_type": "code",
   "execution_count": null,
   "id": "9fe8b470",
   "metadata": {},
   "outputs": [],
   "source": []
  },
  {
   "cell_type": "markdown",
   "id": "24a3a8be",
   "metadata": {
    "slideshow": {
     "slide_type": "slide"
    }
   },
   "source": [
    "## 1.9 Otras operaciones en listas"
   ]
  },
  {
   "cell_type": "markdown",
   "id": "32cb252f",
   "metadata": {
    "slideshow": {
     "slide_type": "slide"
    }
   },
   "source": [
    "### [Video de apoyo al tema de operaciones con listas](https://www.youtube.com/watch?v=wUFKTgGc19M) "
   ]
  },
  {
   "cell_type": "markdown",
   "id": "b52dcf5b",
   "metadata": {
    "slideshow": {
     "slide_type": "slide"
    }
   },
   "source": [
    "Las listas corresponden a secuencias de datos que van enumeradas desde 0. "
   ]
  },
  {
   "cell_type": "markdown",
   "id": "55417b5a",
   "metadata": {
    "slideshow": {
     "slide_type": "slide"
    }
   },
   "source": [
    "A través de la librería estándar de Python existen varias herramientas con las cuales se pueden trabajar las listas."
   ]
  },
  {
   "cell_type": "markdown",
   "id": "9e09ad0d",
   "metadata": {
    "slideshow": {
     "slide_type": "slide"
    }
   },
   "source": [
    "Se debe recordar que las listas en Python se crean utilizando corchetes (`[ ]`) y sus datos se \n",
    "separan con comas."
   ]
  },
  {
   "cell_type": "markdown",
   "id": "912b3399",
   "metadata": {
    "slideshow": {
     "slide_type": "slide"
    }
   },
   "source": [
    "### Ejemplo de una lista con edades de personas."
   ]
  },
  {
   "cell_type": "code",
   "execution_count": null,
   "id": "3344b71f",
   "metadata": {
    "slideshow": {
     "slide_type": "slide"
    }
   },
   "outputs": [],
   "source": [
    "edades = [12, 46, 43, 73, 35, 27]"
   ]
  },
  {
   "cell_type": "markdown",
   "id": "c5729720",
   "metadata": {
    "slideshow": {
     "slide_type": "slide"
    }
   },
   "source": [
    "Se pueden aplicar las siguientes funciones, métodos para obtener información o modificar la existente como lo indica la fundación de Python (Python Software Foundation, 2019):"
   ]
  },
  {
   "cell_type": "markdown",
   "id": "1fab0ac9",
   "metadata": {
    "slideshow": {
     "slide_type": "slide"
    }
   },
   "source": [
    "* `len()`: Devuelve la cantidad de datos de la lista, es decir su longitud."
   ]
  },
  {
   "cell_type": "markdown",
   "id": "5a828e32",
   "metadata": {
    "slideshow": {
     "slide_type": "slide"
    }
   },
   "source": [
    "### Ejemplo de cálculo de Longitud de una lista."
   ]
  },
  {
   "cell_type": "code",
   "execution_count": null,
   "id": "4317f21f",
   "metadata": {
    "slideshow": {
     "slide_type": "slide"
    }
   },
   "outputs": [],
   "source": [
    "len(edades)"
   ]
  },
  {
   "cell_type": "markdown",
   "id": "ff013901",
   "metadata": {
    "slideshow": {
     "slide_type": "slide"
    }
   },
   "source": [
    "* `.append()`: Agrega un nuevo dato al final de la lista."
   ]
  },
  {
   "cell_type": "markdown",
   "id": "91a927c7",
   "metadata": {
    "slideshow": {
     "slide_type": "slide"
    }
   },
   "source": [
    "### Ejemplo de dato añadido al final con función “append”."
   ]
  },
  {
   "cell_type": "code",
   "execution_count": null,
   "id": "a581a53f",
   "metadata": {
    "slideshow": {
     "slide_type": "slide"
    }
   },
   "outputs": [],
   "source": [
    "edades.append(99)\n",
    "edades "
   ]
  },
  {
   "cell_type": "markdown",
   "id": "3eff9f0d",
   "metadata": {
    "slideshow": {
     "slide_type": "slide"
    }
   },
   "source": [
    "* `.insert(x,y)`: añade a la lista el valor y en la posición x. Se debe recordar que la numeración empieza desde 0."
   ]
  },
  {
   "cell_type": "markdown",
   "id": "08fe2822",
   "metadata": {
    "slideshow": {
     "slide_type": "slide"
    }
   },
   "source": [
    "### Ejemplo: El número 40 se inserta en la posición 2 con el método “insert”.\n"
   ]
  },
  {
   "cell_type": "code",
   "execution_count": null,
   "id": "eef267fe",
   "metadata": {
    "slideshow": {
     "slide_type": "slide"
    }
   },
   "outputs": [],
   "source": [
    "edades    # antes de insertar"
   ]
  },
  {
   "cell_type": "code",
   "execution_count": null,
   "id": "61c624fa",
   "metadata": {
    "slideshow": {
     "slide_type": "slide"
    }
   },
   "outputs": [],
   "source": [
    "edades.insert(0,0) \n",
    "edades    # después de insertar "
   ]
  },
  {
   "cell_type": "markdown",
   "id": "8b64f883",
   "metadata": {
    "slideshow": {
     "slide_type": "slide"
    }
   },
   "source": [
    "* `.remove()`: elimina el dato especificado. De no encontrarse, se emite un error."
   ]
  },
  {
   "cell_type": "markdown",
   "id": "b4c4d1aa",
   "metadata": {
    "slideshow": {
     "slide_type": "slide"
    }
   },
   "source": [
    "### Ejemplo: Número eliminado con `remove`"
   ]
  },
  {
   "cell_type": "code",
   "execution_count": null,
   "id": "c4ef4217",
   "metadata": {
    "slideshow": {
     "slide_type": "slide"
    }
   },
   "outputs": [],
   "source": [
    "edades"
   ]
  },
  {
   "cell_type": "code",
   "execution_count": null,
   "id": "590b67f1",
   "metadata": {
    "slideshow": {
     "slide_type": "slide"
    }
   },
   "outputs": [],
   "source": [
    "edades.remove(0)\n",
    "edades "
   ]
  },
  {
   "cell_type": "code",
   "execution_count": null,
   "id": "825e3f17",
   "metadata": {
    "slideshow": {
     "slide_type": "slide"
    }
   },
   "outputs": [],
   "source": [
    "def remover(lista, value):\n",
    "    return lista.remove(value)"
   ]
  },
  {
   "cell_type": "code",
   "execution_count": null,
   "id": "d929a00a",
   "metadata": {
    "slideshow": {
     "slide_type": "slide"
    }
   },
   "outputs": [],
   "source": [
    "remover(edades, 12)"
   ]
  },
  {
   "cell_type": "code",
   "execution_count": null,
   "id": "32123c35",
   "metadata": {},
   "outputs": [],
   "source": [
    "edades "
   ]
  },
  {
   "cell_type": "markdown",
   "id": "a3e0a8ea",
   "metadata": {
    "slideshow": {
     "slide_type": "slide"
    }
   },
   "source": [
    "* `index()`: devuelve el índice del valor especificado, es decir su posición en la lista."
   ]
  },
  {
   "cell_type": "code",
   "execution_count": null,
   "id": "c743f8e8",
   "metadata": {
    "slideshow": {
     "slide_type": "slide"
    }
   },
   "outputs": [],
   "source": [
    "edades"
   ]
  },
  {
   "cell_type": "code",
   "execution_count": null,
   "id": "883ad71e",
   "metadata": {
    "slideshow": {
     "slide_type": "slide"
    }
   },
   "outputs": [],
   "source": [
    "edades.index(46)"
   ]
  },
  {
   "cell_type": "markdown",
   "id": "a5675a26",
   "metadata": {
    "slideshow": {
     "slide_type": "slide"
    }
   },
   "source": [
    "* `.count()`: cuenta las veces que se encuentra un valor en la lista."
   ]
  },
  {
   "cell_type": "code",
   "execution_count": null,
   "id": "5939a7bb",
   "metadata": {
    "slideshow": {
     "slide_type": "slide"
    }
   },
   "outputs": [],
   "source": [
    "edades "
   ]
  },
  {
   "cell_type": "code",
   "execution_count": null,
   "id": "50e50beb",
   "metadata": {
    "slideshow": {
     "slide_type": "slide"
    }
   },
   "outputs": [],
   "source": [
    "edades.count(12)"
   ]
  },
  {
   "cell_type": "code",
   "execution_count": null,
   "id": "cf84b1be",
   "metadata": {
    "slideshow": {
     "slide_type": "slide"
    }
   },
   "outputs": [],
   "source": [
    "edades "
   ]
  },
  {
   "cell_type": "code",
   "execution_count": null,
   "id": "7bec79dc",
   "metadata": {
    "slideshow": {
     "slide_type": "slide"
    }
   },
   "outputs": [],
   "source": [
    "edades.sort() "
   ]
  },
  {
   "cell_type": "code",
   "execution_count": null,
   "id": "019f2d3b",
   "metadata": {
    "slideshow": {
     "slide_type": "slide"
    }
   },
   "outputs": [],
   "source": [
    "edades "
   ]
  },
  {
   "cell_type": "code",
   "execution_count": null,
   "id": "6f0d1744",
   "metadata": {
    "slideshow": {
     "slide_type": "slide"
    }
   },
   "outputs": [],
   "source": [
    "edades.sort(reverse = True)\n",
    "edades "
   ]
  },
  {
   "cell_type": "code",
   "execution_count": null,
   "id": "5a6895d3",
   "metadata": {
    "slideshow": {
     "slide_type": "slide"
    }
   },
   "outputs": [],
   "source": [
    "edades[-1]   # el último elemento "
   ]
  },
  {
   "cell_type": "code",
   "execution_count": null,
   "id": "59bd7956",
   "metadata": {
    "slideshow": {
     "slide_type": "slide"
    }
   },
   "outputs": [],
   "source": [
    "edades[1:]"
   ]
  },
  {
   "cell_type": "markdown",
   "id": "5aba6ca3",
   "metadata": {
    "slideshow": {
     "slide_type": "slide"
    }
   },
   "source": [
    "* [ ]: devuelve el dato que tiene la numeración especificada. Se puede especificar por intervalos usando dos puntos “:”, teniendo en cuenta que el intervalo es cerrado por izquierda y abierto por derecha. "
   ]
  },
  {
   "cell_type": "markdown",
   "id": "ee955641",
   "metadata": {
    "slideshow": {
     "slide_type": "slide"
    }
   },
   "source": [
    "Si no se especifica alguno de los límites y se deja en blanco, se tomarán el resto de los valores. "
   ]
  },
  {
   "cell_type": "markdown",
   "id": "7cfc72ed",
   "metadata": {
    "slideshow": {
     "slide_type": "slide"
    }
   },
   "source": [
    "Es necesario recordar que en “Python” las numeraciones comienzan desde 0: \n",
    "es decir que el primer dato está numerado con 0. "
   ]
  },
  {
   "cell_type": "markdown",
   "id": "b1c4e037",
   "metadata": {
    "slideshow": {
     "slide_type": "slide"
    }
   },
   "source": [
    "Además, con los corchetes es posible reemplazar valores de la lista si se realiza una \n",
    "asignación (=)."
   ]
  },
  {
   "cell_type": "code",
   "execution_count": null,
   "id": "2ace152f",
   "metadata": {
    "slideshow": {
     "slide_type": "slide"
    }
   },
   "outputs": [],
   "source": [
    "edades[6]"
   ]
  },
  {
   "cell_type": "markdown",
   "id": "dac33dfd",
   "metadata": {
    "slideshow": {
     "slide_type": "slide"
    }
   },
   "source": [
    "La obtención de un intervalo se puede realizar como se muestra en las siguientes imágenes:"
   ]
  },
  {
   "cell_type": "code",
   "execution_count": null,
   "id": "6802922f",
   "metadata": {
    "slideshow": {
     "slide_type": "slide"
    }
   },
   "outputs": [],
   "source": [
    "edades[3:5]"
   ]
  },
  {
   "cell_type": "markdown",
   "id": "82c8ba00",
   "metadata": {
    "slideshow": {
     "slide_type": "slide"
    }
   },
   "source": [
    "### Ejemplo: Obtención de intervalos desde un punto hasta el final."
   ]
  },
  {
   "cell_type": "code",
   "execution_count": null,
   "id": "e8b3e5fa",
   "metadata": {
    "slideshow": {
     "slide_type": "slide"
    }
   },
   "outputs": [],
   "source": [
    "edades[3:]"
   ]
  },
  {
   "cell_type": "markdown",
   "id": "51ab5229",
   "metadata": {
    "slideshow": {
     "slide_type": "slide"
    }
   },
   "source": [
    "El reemplazo de un valor de la lista se efectúa con una asignación:"
   ]
  },
  {
   "cell_type": "markdown",
   "id": "396541f6",
   "metadata": {
    "slideshow": {
     "slide_type": "slide"
    }
   },
   "source": [
    "### Ejemplo: Reemplazo de un dato de la lista."
   ]
  },
  {
   "cell_type": "code",
   "execution_count": null,
   "id": "31e49483",
   "metadata": {
    "slideshow": {
     "slide_type": "slide"
    }
   },
   "outputs": [],
   "source": [
    "edades "
   ]
  },
  {
   "cell_type": "code",
   "execution_count": null,
   "id": "54325697",
   "metadata": {
    "slideshow": {
     "slide_type": "slide"
    }
   },
   "outputs": [],
   "source": [
    "edades[0] = 12\n",
    "edades "
   ]
  },
  {
   "cell_type": "markdown",
   "id": "91a1d667",
   "metadata": {
    "slideshow": {
     "slide_type": "slide"
    }
   },
   "source": [
    "## 1.10 Arreglos de dos dimensiones"
   ]
  },
  {
   "cell_type": "markdown",
   "id": "932946bf",
   "metadata": {
    "slideshow": {
     "slide_type": "slide"
    }
   },
   "source": [
    "Los arreglos son conjuntos de datos organizados que pueden ser una o múltiples dimensiones. "
   ]
  },
  {
   "cell_type": "markdown",
   "id": "1bb40fd0",
   "metadata": {
    "slideshow": {
     "slide_type": "slide"
    }
   },
   "source": [
    "Para acceder a estos es se recurre al módulo “numpy” o Python numérico, con el cual se tendrá una forma de crear los arreglos necesarios a la hora de organizar datos en un “dataframe” (tabla de datos). "
   ]
  },
  {
   "cell_type": "markdown",
   "id": "f7c2ffab",
   "metadata": {
    "slideshow": {
     "slide_type": "slide"
    }
   },
   "source": [
    "Los arreglos se crean a partir de una lista de números como argumento."
   ]
  },
  {
   "cell_type": "markdown",
   "id": "43cf8c8b",
   "metadata": {
    "slideshow": {
     "slide_type": "slide"
    }
   },
   "source": [
    "Figura 1-40. Creación de un arreglo “numpy.ndarray”."
   ]
  },
  {
   "cell_type": "code",
   "execution_count": null,
   "id": "231ff554",
   "metadata": {
    "slideshow": {
     "slide_type": "slide"
    }
   },
   "outputs": [],
   "source": [
    "import numpy as np "
   ]
  },
  {
   "cell_type": "code",
   "execution_count": null,
   "id": "1d45fef3",
   "metadata": {
    "slideshow": {
     "slide_type": "slide"
    }
   },
   "outputs": [],
   "source": [
    "x = [1,3,5,7,9]\n",
    "y = [0,2,4,6,8] \n",
    "\n",
    "arreglo = np.array([x,y])\n",
    "arreglo "
   ]
  },
  {
   "cell_type": "markdown",
   "id": "cf749042",
   "metadata": {
    "slideshow": {
     "slide_type": "slide"
    }
   },
   "source": [
    "Utilizando la función “transpose” se puede transponer el arreglo para obtener las filas como columnas o desde el arreglo con el atributo.”T”."
   ]
  },
  {
   "cell_type": "markdown",
   "id": "7cb6fabd",
   "metadata": {
    "slideshow": {
     "slide_type": "slide"
    }
   },
   "source": [
    "### Ejemplo Traspuesta de una matriz con función “transpose”."
   ]
  },
  {
   "cell_type": "code",
   "execution_count": null,
   "id": "8d2904e8",
   "metadata": {
    "slideshow": {
     "slide_type": "slide"
    }
   },
   "outputs": [],
   "source": [
    "np.transpose(arreglo) "
   ]
  },
  {
   "cell_type": "code",
   "execution_count": null,
   "id": "2104e980",
   "metadata": {
    "slideshow": {
     "slide_type": "slide"
    }
   },
   "outputs": [],
   "source": []
  },
  {
   "cell_type": "code",
   "execution_count": null,
   "id": "f82f1cdf",
   "metadata": {
    "slideshow": {
     "slide_type": "slide"
    }
   },
   "outputs": [],
   "source": []
  },
  {
   "cell_type": "markdown",
   "id": "03e53c58",
   "metadata": {
    "slideshow": {
     "slide_type": "slide"
    }
   },
   "source": [
    "# 1.11 Ejercicios de la unidad 1"
   ]
  },
  {
   "cell_type": "markdown",
   "id": "f6a34d46",
   "metadata": {
    "slideshow": {
     "slide_type": "slide"
    }
   },
   "source": [
    "1. Suponga la siguiente variable que almacena datos que representan la existencia de características en cierto hotel:  \n",
    "\n",
    "`C = [\"piscina\", \"gimnasio\", \"golf\", \"sauna\", \"turco\", \"jacuzzi\", \"teatro\", \"spa\"]`  \n",
    "\n",
    "Crear un código que permita al usuario digitar una característica y determinar si se \n",
    "encuentra disponible o no en dicho hotel"
   ]
  },
  {
   "cell_type": "markdown",
   "id": "f290f86f",
   "metadata": {
    "slideshow": {
     "slide_type": "slide"
    }
   },
   "source": [
    "## Solución "
   ]
  },
  {
   "cell_type": "code",
   "execution_count": null,
   "id": "081599b2",
   "metadata": {
    "slideshow": {
     "slide_type": "slide"
    }
   },
   "outputs": [],
   "source": [
    "servicios_hotel = ['piscina', 'gimnasio', 'golf', 'sauna', 'turco', 'jacuzzi', 'teatro', 'spa']"
   ]
  },
  {
   "cell_type": "code",
   "execution_count": null,
   "id": "a7bc001f",
   "metadata": {
    "slideshow": {
     "slide_type": "slide"
    }
   },
   "outputs": [],
   "source": [
    "def el_servicio_esta(servicio):\n",
    "    if servicio in servicios_hotel:\n",
    "        print('El servicio solicitado si lo brinda el hotel')\n",
    "    else:\n",
    "        print('El servicio solicitado no lo tiene el hotel') \n",
    "    "
   ]
  },
  {
   "cell_type": "code",
   "execution_count": null,
   "id": "d4659d22",
   "metadata": {
    "slideshow": {
     "slide_type": "slide"
    }
   },
   "outputs": [],
   "source": [
    "el_servicio_esta('almuerzo')"
   ]
  },
  {
   "cell_type": "code",
   "execution_count": null,
   "id": "770f8254",
   "metadata": {
    "slideshow": {
     "slide_type": "slide"
    }
   },
   "outputs": [],
   "source": []
  },
  {
   "cell_type": "code",
   "execution_count": null,
   "id": "d000ba7c",
   "metadata": {
    "slideshow": {
     "slide_type": "slide"
    }
   },
   "outputs": [],
   "source": []
  },
  {
   "cell_type": "code",
   "execution_count": null,
   "id": "db77c51b",
   "metadata": {},
   "outputs": [],
   "source": []
  },
  {
   "cell_type": "code",
   "execution_count": null,
   "id": "9f702855",
   "metadata": {},
   "outputs": [],
   "source": []
  },
  {
   "cell_type": "code",
   "execution_count": null,
   "id": "c6a93408",
   "metadata": {},
   "outputs": [],
   "source": []
  },
  {
   "cell_type": "code",
   "execution_count": null,
   "id": "f649b422",
   "metadata": {},
   "outputs": [],
   "source": []
  },
  {
   "cell_type": "code",
   "execution_count": null,
   "id": "63831f23",
   "metadata": {},
   "outputs": [],
   "source": []
  },
  {
   "cell_type": "code",
   "execution_count": null,
   "id": "2d330ecb",
   "metadata": {},
   "outputs": [],
   "source": []
  },
  {
   "cell_type": "code",
   "execution_count": null,
   "id": "60bd603d",
   "metadata": {},
   "outputs": [],
   "source": []
  },
  {
   "cell_type": "code",
   "execution_count": null,
   "id": "66cdb0e6",
   "metadata": {},
   "outputs": [],
   "source": []
  },
  {
   "cell_type": "code",
   "execution_count": null,
   "id": "c41c4456",
   "metadata": {},
   "outputs": [],
   "source": []
  },
  {
   "cell_type": "code",
   "execution_count": null,
   "id": "41050349",
   "metadata": {},
   "outputs": [],
   "source": []
  },
  {
   "cell_type": "code",
   "execution_count": null,
   "id": "d5a0b3b8",
   "metadata": {},
   "outputs": [],
   "source": []
  },
  {
   "cell_type": "code",
   "execution_count": null,
   "id": "defd3e1c",
   "metadata": {},
   "outputs": [],
   "source": []
  },
  {
   "cell_type": "code",
   "execution_count": null,
   "id": "5888a7c7",
   "metadata": {},
   "outputs": [],
   "source": []
  },
  {
   "cell_type": "markdown",
   "id": "32a0f27d",
   "metadata": {
    "slideshow": {
     "slide_type": "slide"
    }
   },
   "source": [
    "## Referentes  \n",
    "\n",
    "* Calderon. \n",
    "* https://python-reference.readthedocs.io/en/latest/docs/list/sort.html\n",
    "* La función `randint`: https://www.geeksforgeeks.org/python-randint-function/ \n",
    "* `dir()`"
   ]
  },
  {
   "cell_type": "code",
   "execution_count": null,
   "id": "689b0d2d",
   "metadata": {
    "slideshow": {
     "slide_type": "slide"
    }
   },
   "outputs": [],
   "source": [
    "import random\n",
    "from random import randint\n",
    "\n",
    "import matplotlib.pyplot as plt \n",
    "\n",
    "lista_de_numeros = []\n",
    "\n",
    "for i in range(10_000_000):\n",
    "    lista_de_numeros.append(randint(0,9))\n",
    "    \n",
    "len(lista_de_numeros)     \n",
    "plt.hist(lista_de_numeros)"
   ]
  },
  {
   "cell_type": "markdown",
   "id": "3fecf27a",
   "metadata": {
    "slideshow": {
     "slide_type": "slide"
    }
   },
   "source": [
    "## Ejemplo de uso de la función `dir()` de Python"
   ]
  },
  {
   "cell_type": "code",
   "execution_count": 38,
   "id": "6a199f05",
   "metadata": {
    "slideshow": {
     "slide_type": "slide"
    }
   },
   "outputs": [
    {
     "ename": "SyntaxError",
     "evalue": "invalid syntax (<ipython-input-38-8af929c64bb4>, line 1)",
     "output_type": "error",
     "traceback": [
      "\u001b[1;36m  File \u001b[1;32m\"<ipython-input-38-8af929c64bb4>\"\u001b[1;36m, line \u001b[1;32m1\u001b[0m\n\u001b[1;33m    import math   esta es la manera de importar la librería math\u001b[0m\n\u001b[1;37m                  ^\u001b[0m\n\u001b[1;31mSyntaxError\u001b[0m\u001b[1;31m:\u001b[0m invalid syntax\n"
     ]
    }
   ],
   "source": [
    "import math   # esta es la manera de importar la librería math "
   ]
  },
  {
   "cell_type": "code",
   "execution_count": 36,
   "id": "6ffc231a",
   "metadata": {},
   "outputs": [
    {
     "data": {
      "text/plain": [
       "['__doc__',\n",
       " '__loader__',\n",
       " '__name__',\n",
       " '__package__',\n",
       " '__spec__',\n",
       " 'acos',\n",
       " 'acosh',\n",
       " 'asin',\n",
       " 'asinh',\n",
       " 'atan',\n",
       " 'atan2',\n",
       " 'atanh',\n",
       " 'ceil',\n",
       " 'comb',\n",
       " 'copysign',\n",
       " 'cos',\n",
       " 'cosh',\n",
       " 'degrees',\n",
       " 'dist',\n",
       " 'e',\n",
       " 'erf',\n",
       " 'erfc',\n",
       " 'exp',\n",
       " 'expm1',\n",
       " 'fabs',\n",
       " 'factorial',\n",
       " 'floor',\n",
       " 'fmod',\n",
       " 'frexp',\n",
       " 'fsum',\n",
       " 'gamma',\n",
       " 'gcd',\n",
       " 'hypot',\n",
       " 'inf',\n",
       " 'isclose',\n",
       " 'isfinite',\n",
       " 'isinf',\n",
       " 'isnan',\n",
       " 'isqrt',\n",
       " 'ldexp',\n",
       " 'lgamma',\n",
       " 'log',\n",
       " 'log10',\n",
       " 'log1p',\n",
       " 'log2',\n",
       " 'modf',\n",
       " 'nan',\n",
       " 'perm',\n",
       " 'pi',\n",
       " 'pow',\n",
       " 'prod',\n",
       " 'radians',\n",
       " 'remainder',\n",
       " 'sin',\n",
       " 'sinh',\n",
       " 'sqrt',\n",
       " 'tan',\n",
       " 'tanh',\n",
       " 'tau',\n",
       " 'trunc']"
      ]
     },
     "execution_count": 36,
     "metadata": {},
     "output_type": "execute_result"
    }
   ],
   "source": [
    "dir(math) "
   ]
  },
  {
   "cell_type": "code",
   "execution_count": null,
   "id": "d68b1304",
   "metadata": {},
   "outputs": [],
   "source": []
  }
 ],
 "metadata": {
  "celltoolbar": "Slideshow",
  "kernelspec": {
   "display_name": "Python 3",
   "language": "python",
   "name": "python3"
  },
  "language_info": {
   "codemirror_mode": {
    "name": "ipython",
    "version": 3
   },
   "file_extension": ".py",
   "mimetype": "text/x-python",
   "name": "python",
   "nbconvert_exporter": "python",
   "pygments_lexer": "ipython3",
   "version": "3.8.8"
  },
  "latex_envs": {
   "LaTeX_envs_menu_present": true,
   "autoclose": false,
   "autocomplete": false,
   "bibliofile": "biblio.bib",
   "cite_by": "apalike",
   "current_citInitial": 1,
   "eqLabelWithNumbers": true,
   "eqNumInitial": 1,
   "hotkeys": {
    "equation": "Ctrl-E",
    "itemize": "Ctrl-I"
   },
   "labels_anchors": false,
   "latex_user_defs": false,
   "report_style_numbering": false,
   "user_envs_cfg": false
  },
  "rise": {
   "enable_chalkboard": true,
   "theme": "sky",
   "transition": "zoom"
  }
 },
 "nbformat": 4,
 "nbformat_minor": 5
}
