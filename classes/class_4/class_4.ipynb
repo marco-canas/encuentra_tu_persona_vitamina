{
 "cells": [
  {
   "cell_type": "code",
   "execution_count": null,
   "id": "d8f101a9",
   "metadata": {
    "slideshow": {
     "slide_type": "slide"
    }
   },
   "outputs": [],
   "source": []
  },
  {
   "cell_type": "markdown",
   "id": "6c4dc3a9",
   "metadata": {
    "slideshow": {
     "slide_type": "slide"
    }
   },
   "source": [
    "## Clase 4 "
   ]
  },
  {
   "cell_type": "markdown",
   "id": "24a3a8be",
   "metadata": {
    "slideshow": {
     "slide_type": "slide"
    }
   },
   "source": [
    "## 1.9 Otras operaciones en listas"
   ]
  },
  {
   "cell_type": "markdown",
   "id": "b52dcf5b",
   "metadata": {
    "slideshow": {
     "slide_type": "slide"
    }
   },
   "source": [
    "Las listas corresponden a secuencias de datos que van enumeradas desde 0. "
   ]
  },
  {
   "cell_type": "markdown",
   "id": "55417b5a",
   "metadata": {
    "slideshow": {
     "slide_type": "slide"
    }
   },
   "source": [
    "A través de la librería estándar de Python existen varias herramientas con las cuales se pueden trabajar las listas (tutorialspoint, 2019)."
   ]
  },
  {
   "cell_type": "markdown",
   "id": "9e09ad0d",
   "metadata": {
    "slideshow": {
     "slide_type": "slide"
    }
   },
   "source": [
    "Se debe recordar que las listas en Python se crean utilizando corchetes ([ ]) y sus datos se \n",
    "separan con comas"
   ]
  },
  {
   "cell_type": "markdown",
   "id": "65409b0c",
   "metadata": {
    "slideshow": {
     "slide_type": "slide"
    }
   },
   "source": [
    "Suponga que se tiene la siguiente lista:"
   ]
  },
  {
   "cell_type": "markdown",
   "id": "912b3399",
   "metadata": {
    "slideshow": {
     "slide_type": "slide"
    }
   },
   "source": [
    "### Ejemplo de una lista con edades de personas."
   ]
  },
  {
   "cell_type": "code",
   "execution_count": 1,
   "id": "d3fe3cae",
   "metadata": {
    "slideshow": {
     "slide_type": "slide"
    }
   },
   "outputs": [],
   "source": [
    "edades = [46, 12, 43, 73, 35, 27]"
   ]
  },
  {
   "cell_type": "markdown",
   "id": "cf66665d",
   "metadata": {
    "slideshow": {
     "slide_type": "slide"
    }
   },
   "source": [
    "Se pueden aplicar las siguientes funciones, métodos para obtener información o modificar la existente como lo indica la fundación de Python (Python Software Foundation, 2019):"
   ]
  },
  {
   "cell_type": "markdown",
   "id": "d1a0e715",
   "metadata": {
    "slideshow": {
     "slide_type": "slide"
    }
   },
   "source": [
    "* `len()`: Devuelve la cantidad de datos de la lista, es decir su longitud."
   ]
  },
  {
   "cell_type": "markdown",
   "id": "8dcd1e7e",
   "metadata": {
    "slideshow": {
     "slide_type": "slide"
    }
   },
   "source": [
    "### Ejemplo de cálculo de Longitud de una lista."
   ]
  },
  {
   "cell_type": "code",
   "execution_count": 2,
   "id": "4317f21f",
   "metadata": {
    "slideshow": {
     "slide_type": "slide"
    }
   },
   "outputs": [
    {
     "data": {
      "text/plain": [
       "6"
      ]
     },
     "execution_count": 2,
     "metadata": {},
     "output_type": "execute_result"
    }
   ],
   "source": [
    "len(edades)"
   ]
  },
  {
   "cell_type": "markdown",
   "id": "2c601384",
   "metadata": {
    "slideshow": {
     "slide_type": "slide"
    }
   },
   "source": [
    "* `.append()`: Agrega un nuevo dato al final de la lista."
   ]
  },
  {
   "cell_type": "markdown",
   "id": "da42e854",
   "metadata": {
    "slideshow": {
     "slide_type": "slide"
    }
   },
   "source": [
    "### Ejemplo de dato añadido al final con función “append”."
   ]
  },
  {
   "cell_type": "code",
   "execution_count": 3,
   "id": "a581a53f",
   "metadata": {
    "slideshow": {
     "slide_type": "slide"
    }
   },
   "outputs": [
    {
     "data": {
      "text/plain": [
       "[46, 12, 43, 73, 35, 27, 30]"
      ]
     },
     "execution_count": 3,
     "metadata": {},
     "output_type": "execute_result"
    }
   ],
   "source": [
    "edades.append(30)\n",
    "edades "
   ]
  },
  {
   "cell_type": "markdown",
   "id": "fe7589a8",
   "metadata": {
    "slideshow": {
     "slide_type": "slide"
    }
   },
   "source": [
    "* `.insert(x,y)`: añade a la lista el valor y en la posición x. Se debe recordar que la numeración empieza desde 0."
   ]
  },
  {
   "cell_type": "markdown",
   "id": "e930d009",
   "metadata": {
    "slideshow": {
     "slide_type": "slide"
    }
   },
   "source": [
    "### Ejemplo: El número 40 se inserta en la posición 2 con el método “insert”.\n"
   ]
  },
  {
   "cell_type": "code",
   "execution_count": 5,
   "id": "ba952677",
   "metadata": {
    "slideshow": {
     "slide_type": "slide"
    }
   },
   "outputs": [
    {
     "data": {
      "text/plain": [
       "[46, 12, 40, 43, 73, 35, 27, 30]"
      ]
     },
     "execution_count": 5,
     "metadata": {},
     "output_type": "execute_result"
    }
   ],
   "source": [
    "edades    # antes de insertar"
   ]
  },
  {
   "cell_type": "code",
   "execution_count": 6,
   "id": "61c624fa",
   "metadata": {
    "slideshow": {
     "slide_type": "slide"
    }
   },
   "outputs": [
    {
     "data": {
      "text/plain": [
       "[46, 12, 40, 40, 43, 73, 35, 27, 30]"
      ]
     },
     "execution_count": 6,
     "metadata": {},
     "output_type": "execute_result"
    }
   ],
   "source": [
    "edades.insert(2,40) \n",
    "edades    # después de insertar "
   ]
  },
  {
   "cell_type": "markdown",
   "id": "7bb151b8",
   "metadata": {
    "slideshow": {
     "slide_type": "slide"
    }
   },
   "source": [
    "* `.remove()`: elimina el dato especificado. De no encontrarse, se emite un error."
   ]
  },
  {
   "cell_type": "markdown",
   "id": "fbf77275",
   "metadata": {
    "slideshow": {
     "slide_type": "slide"
    }
   },
   "source": [
    "### Ejemplo: Número eliminado con `remove`"
   ]
  },
  {
   "cell_type": "code",
   "execution_count": 7,
   "id": "9c049a84",
   "metadata": {
    "slideshow": {
     "slide_type": "slide"
    }
   },
   "outputs": [
    {
     "data": {
      "text/plain": [
       "[46, 12, 40, 40, 43, 73, 35, 27, 30]"
      ]
     },
     "execution_count": 7,
     "metadata": {},
     "output_type": "execute_result"
    }
   ],
   "source": [
    "edades"
   ]
  },
  {
   "cell_type": "code",
   "execution_count": 8,
   "id": "a41261c6",
   "metadata": {
    "slideshow": {
     "slide_type": "slide"
    }
   },
   "outputs": [
    {
     "data": {
      "text/plain": [
       "[46, 40, 40, 43, 73, 35, 27, 30]"
      ]
     },
     "execution_count": 8,
     "metadata": {},
     "output_type": "execute_result"
    }
   ],
   "source": [
    "edades.remove(12)\n",
    "edades "
   ]
  },
  {
   "cell_type": "markdown",
   "id": "45f250f3",
   "metadata": {
    "slideshow": {
     "slide_type": "slide"
    }
   },
   "source": []
  },
  {
   "cell_type": "code",
   "execution_count": null,
   "id": "486ab2e0",
   "metadata": {
    "slideshow": {
     "slide_type": "slide"
    }
   },
   "outputs": [],
   "source": []
  },
  {
   "cell_type": "code",
   "execution_count": null,
   "id": "b2733bef",
   "metadata": {},
   "outputs": [],
   "source": []
  },
  {
   "cell_type": "code",
   "execution_count": null,
   "id": "8e462463",
   "metadata": {},
   "outputs": [],
   "source": []
  },
  {
   "cell_type": "markdown",
   "id": "81a3d9ee",
   "metadata": {},
   "source": [
    "## Referentes  \n",
    "\n",
    "* Calderon. "
   ]
  }
 ],
 "metadata": {
  "celltoolbar": "Slideshow",
  "kernelspec": {
   "display_name": "Python 3",
   "language": "python",
   "name": "python3"
  },
  "language_info": {
   "codemirror_mode": {
    "name": "ipython",
    "version": 3
   },
   "file_extension": ".py",
   "mimetype": "text/x-python",
   "name": "python",
   "nbconvert_exporter": "python",
   "pygments_lexer": "ipython3",
   "version": "3.8.8"
  },
  "latex_envs": {
   "LaTeX_envs_menu_present": true,
   "autoclose": false,
   "autocomplete": false,
   "bibliofile": "biblio.bib",
   "cite_by": "apalike",
   "current_citInitial": 1,
   "eqLabelWithNumbers": true,
   "eqNumInitial": 1,
   "hotkeys": {
    "equation": "Ctrl-E",
    "itemize": "Ctrl-I"
   },
   "labels_anchors": false,
   "latex_user_defs": false,
   "report_style_numbering": false,
   "user_envs_cfg": false
  }
 },
 "nbformat": 4,
 "nbformat_minor": 5
}
