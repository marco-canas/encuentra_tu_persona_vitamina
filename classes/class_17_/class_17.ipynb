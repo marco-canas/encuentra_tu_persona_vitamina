{
 "cells": [
  {
   "cell_type": "markdown",
   "id": "3e38419a",
   "metadata": {
    "slideshow": {
     "slide_type": "slide"
    }
   },
   "source": [
    "<table align=\"left\">\n",
    "  <td>\n",
    "    <a href=\"https://colab.research.google.com/github/marco-canas/intro-Machine-Learning/blob/main/classes/class_16_end_to_end_1/class_16_end_to_end_1.ipynb\" target=\"_parent\"><img src=\"https://colab.research.google.com/assets/colab-badge.svg\" alt=\"Open In Colab\"/></a>\n",
    "  </td>\n",
    "</table> "
   ]
  },
  {
   "cell_type": "markdown",
   "id": "3b732c7f",
   "metadata": {
    "slideshow": {
     "slide_type": "slide"
    }
   },
   "source": [
    "## [Video de apoyo a la lectura de esta clase](https://www.youtube.com/watch?v=4JDqj1NT4Qk)"
   ]
  },
  {
   "cell_type": "markdown",
   "id": "eb7965fc",
   "metadata": {
    "slideshow": {
     "slide_type": "slide"
    }
   },
   "source": [
    "Pasos para creación del cuaderno interactivo.\n",
    "\n",
    "1. Plantear bien la pregunta.\n",
    "   * ¿Regresión o clasificación?\n",
    "   * ¿Tipo de regresión y tipo de clasificación?"
   ]
  },
  {
   "cell_type": "markdown",
   "id": "f58bbc6a",
   "metadata": {
    "slideshow": {
     "slide_type": "slide"
    }
   },
   "source": [
    "2. Exploración inicial.\n",
    "   * Indicar la fuente de dónde se toman los datos.\n",
    "   * Hacer explícita la función objetivo.\n",
    "   * Decir cuáles son los atributos (descripción breve de cada uno)\n",
    "   * Practicar una primera exploración gráfica de los datos."
   ]
  },
  {
   "cell_type": "markdown",
   "id": "04b6fa47",
   "metadata": {
    "slideshow": {
     "slide_type": "slide"
    }
   },
   "source": [
    "3. Preparar los datos para los algoritmos de aprendizaje.\n",
    "   * Hacer separación inicial de datos para entrenar y para testear.\n",
    "   * Limpiar datos y llenar datos faltantes.\n",
    "   * Explorar correlaciones lineales con la variable objetivo.\n",
    "   * Eliminar de ser necesario atributos que no sean de mucha utilidad.\n",
    "   * Ingeniería de atributos.\n",
    "   * Estandarizar los datos.\n",
    "   * Crear funciones en Python de manera que se puedan replicar los procesos de transformación de datos en proyectos nuevos."
   ]
  },
  {
   "cell_type": "markdown",
   "id": "8adc05d2",
   "metadata": {
    "slideshow": {
     "slide_type": "slide"
    }
   },
   "source": [
    "4. Entrenamiento y selección de modelo.\n",
    "   * Instanciar varios modelos y entrenarlos sobre datos de entrenamiento preparados.\n",
    "   * Medir el desempeño de varios modelos (comparativa, con la técnica de la validación cruzada)."
   ]
  },
  {
   "cell_type": "markdown",
   "id": "1beb2421",
   "metadata": {
    "slideshow": {
     "slide_type": "slide"
    }
   },
   "source": [
    "5. Afinar el modelo.\n",
    "   * Crear cuadrícula (de búsqueda) de hiperparámetros.\n",
    "   * Seleccionar la combinación de hiperparámetros que consigue el mejor puntaje. (El mejor modelo)."
   ]
  },
  {
   "cell_type": "markdown",
   "id": "e5577a87",
   "metadata": {
    "slideshow": {
     "slide_type": "slide"
    }
   },
   "source": [
    "6. Presentar la solución.\n",
    "   * Mostrar el desempeño sobre los datos para testear.\n",
    "   * (Opcional) Gráfico intuitivo para representar el modelo."
   ]
  },
  {
   "cell_type": "markdown",
   "id": "8ea79849",
   "metadata": {
    "slideshow": {
     "slide_type": "slide"
    }
   },
   "source": [
    "7. (Opcional) ¿Cómo se sacará provecho del modelo en otros proyectos?"
   ]
  },
  {
   "cell_type": "markdown",
   "id": "218813ce",
   "metadata": {
    "slideshow": {
     "slide_type": "slide"
    }
   },
   "source": [
    "[Video de apoyo sobre presentación de la metodología para modelo de machine Learning](https://www.youtube.com/watch?v=blRXFU2KooI)"
   ]
  },
  {
   "cell_type": "markdown",
   "id": "d8dabd3a",
   "metadata": {
    "slideshow": {
     "slide_type": "slide"
    }
   },
   "source": [
    "# Implementación del plan "
   ]
  },
  {
   "cell_type": "markdown",
   "id": "a125c13a",
   "metadata": {
    "slideshow": {
     "slide_type": "slide"
    }
   },
   "source": [
    "1. Plantear bien la pregunta.\n",
    "   * ¿Regresión o clasificación?\n",
    "   * ¿Tipo de regresión y tipo de clasificación?"
   ]
  },
  {
   "cell_type": "markdown",
   "id": "a157bdb9",
   "metadata": {
    "slideshow": {
     "slide_type": "slide"
    }
   },
   "source": [
    "Tenemos un dataset con la siguiente configuración: $[X|y]$.  \n",
    "\n",
    "$X = [x_{ij}] \\in \\mathbb{R}_{n,m}$.  \n",
    "$X^{j}$: $j$ ésimo atributo.   \n",
    "$X_{i}$: $i$ ésima fila o instancia ($i$ -ésimo distrito)  \n",
    "$x_{ij}$: $ij$ ésima entrada de la matriz $X$. \n",
    "$y = [y_{i}] \\in \\mathbb{R}^{n}$: el vector de los valores promedios de vivienda.  \n",
    "$y_{i}$ el valor promedio de vivienda en el $i$ ésimo distrito"
   ]
  },
  {
   "cell_type": "markdown",
   "id": "0f160fcc",
   "metadata": {
    "slideshow": {
     "slide_type": "slide"
    }
   },
   "source": [
    "Este es un problema de regresión porque lo que se trata es de predecir un valor o la función predictora de valor continuo o de valores en un intervalo de números reales. "
   ]
  },
  {
   "cell_type": "markdown",
   "id": "7abb1b2c",
   "metadata": {
    "slideshow": {
     "slide_type": "slide"
    }
   },
   "source": [
    "El tipo de regresión es lineal porque \n",
    "\n",
    "$$h(X_{i}) = w \\cdot X_{i} = w_{0} + w_{1}x_{i1} + \\cdots + w_{n}x_{im} = \\begin{pmatrix} w_{0} \\\\ w_{1} \\\\ \\vdots \\\\ w_{m} \\end{pmatrix} \\cdot \\begin{pmatrix} 1 \\\\ x_{i1} \\\\ \\cdots \\\\ x_{im} \\end{pmatrix} $$\n",
    "\n",
    "donde $m$ es el número de atributos. \n",
    "\n"
   ]
  },
  {
   "cell_type": "markdown",
   "id": "61421d22",
   "metadata": {
    "slideshow": {
     "slide_type": "slide"
    }
   },
   "source": [
    "# 2. Exploración inicial."
   ]
  },
  {
   "cell_type": "markdown",
   "id": "a924e190",
   "metadata": {
    "slideshow": {
     "slide_type": "slide"
    }
   },
   "source": [
    "##  Indicar la fuente de dónde se toman los datos."
   ]
  },
  {
   "cell_type": "markdown",
   "id": "cc551fa5",
   "metadata": {
    "slideshow": {
     "slide_type": "slide"
    }
   },
   "source": [
    "Su primera tarea es utilizar los datos del censo de California para construir un modelo de precios de viviendas en el estado.\n",
    "\n",
    "Estos datos incluyen métricas como la población, el ingreso medio y el precio medio de la vivienda para cada grupo de bloques en California.\n",
    "\n",
    "Los grupos de bloques son la unidad geográfica más pequeña para la que la Oficina del Censo de EE. UU. publica datos de muestra (un grupo de bloques suele tener una población de 600 a 3000 personas).\n",
    "\n",
    "Los llamaremos “distritos” para abreviar.\n",
    "\n",
    "Su modelo debe aprender de estos datos y poder predecir el precio medio de la vivienda en cualquier distrito, dadas todas las demás métricas."
   ]
  },
  {
   "cell_type": "markdown",
   "id": "1c32d9be",
   "metadata": {
    "slideshow": {
     "slide_type": "slide"
    }
   },
   "source": [
    "# Hacer explícita la función objetivo."
   ]
  },
  {
   "cell_type": "markdown",
   "id": "e0909354",
   "metadata": {
    "slideshow": {
     "slide_type": "slide"
    }
   },
   "source": [
    "$$ h:\\mathbb{R}^{9} \\to \\mathbb{R} $$\n",
    "\n",
    "$$ h(X_{n \\times m}) = y $$\n",
    "\n",
    "donde $X$ es una matriz alta (número de filas nucho mayor al número de columnas). \n",
    "\n",
    "$y$ es un vector de $\\mathbb{R}^{m}$ cuyas entradas son los valores promedio de vivienda por distrito. \n",
    "\n",
    "$$ h(X_{i}) = y_{i} $$"
   ]
  },
  {
   "cell_type": "markdown",
   "id": "7c1d4452",
   "metadata": {
    "slideshow": {
     "slide_type": "slide"
    }
   },
   "source": [
    "## Decir cuáles son los atributos (descripción breve de cada uno)"
   ]
  },
  {
   "cell_type": "markdown",
   "id": "9c429a5c",
   "metadata": {
    "slideshow": {
     "slide_type": "slide"
    }
   },
   "source": [
    "Son nueve atributos o variables predictoras entre las que están:\n",
    "\n",
    "* longitud\n",
    "* latitud\n",
    "* habitaciones\n",
    "* dormitorios\n",
    "* ingresos promedio\n",
    "* proximidad al oceano\n",
    "* antiguedad promedio de las viviendas en el distrito.\n",
    "* Número de hogares\n",
    "* población\n"
   ]
  },
  {
   "cell_type": "markdown",
   "id": "f2c720a0",
   "metadata": {
    "slideshow": {
     "slide_type": "slide"
    }
   },
   "source": [
    "## [Video de apoyo]()"
   ]
  },
  {
   "cell_type": "markdown",
   "id": "1a4b3320",
   "metadata": {
    "slideshow": {
     "slide_type": "slide"
    }
   },
   "source": [
    "## Practicar una primera exploración gráfica de los datos."
   ]
  },
  {
   "cell_type": "code",
   "execution_count": null,
   "id": "b6aa4a36",
   "metadata": {
    "slideshow": {
     "slide_type": "slide"
    }
   },
   "outputs": [],
   "source": [
    "import pandas as pd \n",
    "import numpy as np \n",
    "import matplotlib.pyplot as plt \n"
   ]
  },
  {
   "cell_type": "code",
   "execution_count": null,
   "id": "31236055",
   "metadata": {
    "slideshow": {
     "slide_type": "slide"
    }
   },
   "outputs": [],
   "source": [
    "v = pd.read_csv('vivienda.csv')  "
   ]
  },
  {
   "cell_type": "code",
   "execution_count": null,
   "id": "ebd9b7d0",
   "metadata": {
    "slideshow": {
     "slide_type": "slide"
    }
   },
   "outputs": [],
   "source": [
    "v.head() "
   ]
  },
  {
   "cell_type": "code",
   "execution_count": null,
   "id": "38cb213f",
   "metadata": {
    "slideshow": {
     "slide_type": "slide"
    }
   },
   "outputs": [],
   "source": [
    "v.info()"
   ]
  },
  {
   "cell_type": "code",
   "execution_count": null,
   "id": "b28a2037",
   "metadata": {
    "slideshow": {
     "slide_type": "slide"
    }
   },
   "outputs": [],
   "source": [
    "v.proximidad.value_counts() "
   ]
  },
  {
   "cell_type": "code",
   "execution_count": null,
   "id": "2e1d58ac",
   "metadata": {
    "slideshow": {
     "slide_type": "slide"
    }
   },
   "outputs": [],
   "source": [
    "v.describe() "
   ]
  },
  {
   "cell_type": "code",
   "execution_count": null,
   "id": "a16a1019",
   "metadata": {
    "scrolled": true,
    "slideshow": {
     "slide_type": "slide"
    }
   },
   "outputs": [],
   "source": [
    "import matplotlib.pyplot as plt\n",
    "\n",
    "v.hist(figsize = (20,10))\n",
    "\n",
    "plt.show() "
   ]
  },
  {
   "cell_type": "markdown",
   "id": "ff28400c",
   "metadata": {
    "slideshow": {
     "slide_type": "slide"
    }
   },
   "source": [
    "## Visualización de datos geográficos \n"
   ]
  },
  {
   "cell_type": "code",
   "execution_count": null,
   "id": "b830cd5b",
   "metadata": {
    "slideshow": {
     "slide_type": "slide"
    }
   },
   "outputs": [],
   "source": [
    "v.plot(kind = 'scatter', x = 'longitud', y = 'latitud', alpha = 1)\n",
    "\n",
    "plt.show() "
   ]
  },
  {
   "cell_type": "code",
   "execution_count": null,
   "id": "8903ff0e",
   "metadata": {
    "slideshow": {
     "slide_type": "slide"
    }
   },
   "outputs": [],
   "source": [
    "v.plot(kind = 'scatter', x = 'longitud', y = 'latitud', alpha = 0.1) \n",
    "\n",
    "plt.show() "
   ]
  },
  {
   "cell_type": "code",
   "execution_count": null,
   "id": "42e66778",
   "metadata": {
    "slideshow": {
     "slide_type": "slide"
    }
   },
   "outputs": [],
   "source": [
    "v.plot(kind = 'scatter', x = 'longitud', y = 'latitud', alpha = 0.4, \\\n",
    "      s = v.población/100, label = 'Población', \\\n",
    "      c = 'valor', cmap = plt.get_cmap('jet'), colorbar = True, figsize = (12, 8))  \n",
    "\n",
    "# s de size o tamaño del punto. \n",
    "\n",
    "plt.show() "
   ]
  },
  {
   "cell_type": "markdown",
   "id": "4ab26c5b",
   "metadata": {
    "slideshow": {
     "slide_type": "slide"
    }
   },
   "source": [
    "# 3. Preparar los datos para los algoritmos de aprendizaje."
   ]
  },
  {
   "cell_type": "markdown",
   "id": "bbb8da33",
   "metadata": {
    "slideshow": {
     "slide_type": "slide"
    }
   },
   "source": [
    "## Hacer separación inicial de datos para entrenar y para testear."
   ]
  },
  {
   "cell_type": "code",
   "execution_count": null,
   "id": "9fda418f",
   "metadata": {
    "slideshow": {
     "slide_type": "slide"
    }
   },
   "outputs": [],
   "source": [
    "import numpy as np \n",
    "np.random.seed(42)\n",
    "\n",
    "def dividir_entrenamiento_testeo(datos, porcentaje_testeo):\n",
    "    indices_reordenados = np.random.permutation(len(datos))\n",
    "    tamaño_conjunto_testeo = int(len(datos)*porcentaje_testeo)\n",
    "    indices_entrenamiento = indices_reordenados[tamaño_conjunto_testeo:]\n",
    "    indices_testeo = indices_reordenados[:tamaño_conjunto_testeo]\n",
    "    return datos.iloc[indices_entrenamiento], datos.iloc[indices_testeo]"
   ]
  },
  {
   "cell_type": "code",
   "execution_count": null,
   "id": "11b1e642",
   "metadata": {
    "slideshow": {
     "slide_type": "slide"
    }
   },
   "outputs": [],
   "source": [
    "v_train, v_test = dividir_entrenamiento_testeo(v, 0.2)"
   ]
  },
  {
   "cell_type": "code",
   "execution_count": null,
   "id": "50464f89",
   "metadata": {
    "slideshow": {
     "slide_type": "slide"
    }
   },
   "outputs": [],
   "source": [
    "len(v_train), len(v_test) "
   ]
  },
  {
   "cell_type": "code",
   "execution_count": null,
   "id": "7e7f4948",
   "metadata": {
    "slideshow": {
     "slide_type": "slide"
    }
   },
   "outputs": [],
   "source": [
    "len(v_train)/len(v_test) \n"
   ]
  },
  {
   "cell_type": "code",
   "execution_count": null,
   "id": "f28d6016",
   "metadata": {
    "slideshow": {
     "slide_type": "slide"
    }
   },
   "outputs": [],
   "source": [
    "from sklearn.model_selection import train_test_split\n",
    "\n",
    "v_train, v_test = train_test_split(v, test_size = 0.2, random_state = 42)"
   ]
  },
  {
   "cell_type": "markdown",
   "id": "f45838f6",
   "metadata": {
    "slideshow": {
     "slide_type": "slide"
    }
   },
   "source": [
    "## Limpiar datos y llenar datos faltantes."
   ]
  },
  {
   "cell_type": "code",
   "execution_count": null,
   "id": "12d1f346",
   "metadata": {
    "slideshow": {
     "slide_type": "slide"
    }
   },
   "outputs": [],
   "source": [
    "mediana  = v.dormitorios.mean() "
   ]
  },
  {
   "cell_type": "code",
   "execution_count": null,
   "id": "0c121564",
   "metadata": {
    "slideshow": {
     "slide_type": "slide"
    }
   },
   "outputs": [],
   "source": [
    "mediana "
   ]
  },
  {
   "cell_type": "code",
   "execution_count": null,
   "id": "37b17ed2",
   "metadata": {
    "slideshow": {
     "slide_type": "slide"
    }
   },
   "outputs": [],
   "source": [
    "v.dormitorios.fillna(mediana)"
   ]
  },
  {
   "cell_type": "code",
   "execution_count": null,
   "id": "9fd3e891",
   "metadata": {
    "slideshow": {
     "slide_type": "slide"
    }
   },
   "outputs": [],
   "source": [
    "len(pd.DataFrame(v.dormitorios.fillna(mediana)))"
   ]
  },
  {
   "cell_type": "markdown",
   "id": "1406ff73",
   "metadata": {
    "slideshow": {
     "slide_type": "slide"
    }
   },
   "source": [
    "## Explorar correlaciones lineales con la variable objetivo."
   ]
  },
  {
   "cell_type": "code",
   "execution_count": null,
   "id": "a182f525",
   "metadata": {
    "slideshow": {
     "slide_type": "slide"
    }
   },
   "outputs": [],
   "source": []
  },
  {
   "cell_type": "markdown",
   "id": "d83a1e0a",
   "metadata": {
    "slideshow": {
     "slide_type": "slide"
    }
   },
   "source": [
    "   * Eliminar de ser necesario atributos que no sean de mucha utilidad.\n",
    "   * Ingeniería de atributos.\n",
    "   * Estandarizar los datos.\n",
    "   * Crear funciones en Python de manera que se puedan replicar los procesos de transformación de datos en proyectos nuevos."
   ]
  },
  {
   "cell_type": "code",
   "execution_count": null,
   "id": "65a9ea48",
   "metadata": {
    "slideshow": {
     "slide_type": "slide"
    }
   },
   "outputs": [],
   "source": [
    "def dividir_train_test(datos, porcentaje_testeo):\n",
    "    import numpy as np \n",
    "    indices_reordenados = np.random.permutation(len(v))\n",
    "    return indices_reordenados[:5]"
   ]
  },
  {
   "cell_type": "code",
   "execution_count": null,
   "id": "80a5c9fc",
   "metadata": {
    "slideshow": {
     "slide_type": "slide"
    }
   },
   "outputs": [],
   "source": [
    "dividir_train_test(v,0.2) "
   ]
  },
  {
   "cell_type": "code",
   "execution_count": null,
   "id": "9598ed8d",
   "metadata": {
    "slideshow": {
     "slide_type": "slide"
    }
   },
   "outputs": [],
   "source": [
    "def dividir_train_test(datos, porcentaje_testeo):\n",
    "    import numpy as np \n",
    "    indices_reordenados = np.random.permutation(len(v))\n",
    "    tamaño_entrenamiento = int(len(v)*(1-porcentaje_testeo))\n",
    "    train_set = v.iloc[indices_reordenados[:tamaño_entrenamiento]]\n",
    "    test_set = v.iloc[indices_reordenados[tamaño_entrenamiento:]]\n",
    "    return train_set, test_set"
   ]
  },
  {
   "cell_type": "code",
   "execution_count": null,
   "id": "ab669aac",
   "metadata": {
    "slideshow": {
     "slide_type": "slide"
    }
   },
   "outputs": [],
   "source": [
    "v_train, v_test = dividir_train_test(v,0.2) "
   ]
  },
  {
   "cell_type": "code",
   "execution_count": null,
   "id": "915cc400",
   "metadata": {
    "slideshow": {
     "slide_type": "slide"
    }
   },
   "outputs": [],
   "source": [
    "v_train.head() "
   ]
  },
  {
   "cell_type": "code",
   "execution_count": null,
   "id": "150ec720",
   "metadata": {
    "slideshow": {
     "slide_type": "slide"
    }
   },
   "outputs": [],
   "source": [
    "from sklearn.model_selection import train_test_split "
   ]
  },
  {
   "cell_type": "code",
   "execution_count": null,
   "id": "6002e565",
   "metadata": {
    "slideshow": {
     "slide_type": "slide"
    }
   },
   "outputs": [],
   "source": [
    "v_train, v_test = train_test_split(v,test_size = 0.2,random_state = 42)"
   ]
  },
  {
   "cell_type": "markdown",
   "id": "7e8e23c4",
   "metadata": {
    "slideshow": {
     "slide_type": "slide"
    }
   },
   "source": [
    "## Establecer correlaciones "
   ]
  },
  {
   "cell_type": "markdown",
   "id": "eddfb096",
   "metadata": {
    "slideshow": {
     "slide_type": "slide"
    }
   },
   "source": [
    "<img src = ''>"
   ]
  },
  {
   "cell_type": "code",
   "execution_count": null,
   "id": "0511a128",
   "metadata": {
    "slideshow": {
     "slide_type": "slide"
    }
   },
   "outputs": [],
   "source": [
    "matriz_correlación = v.corr() "
   ]
  },
  {
   "cell_type": "code",
   "execution_count": null,
   "id": "b3f732b6",
   "metadata": {
    "slideshow": {
     "slide_type": "slide"
    }
   },
   "outputs": [],
   "source": [
    "matriz_correlación"
   ]
  },
  {
   "cell_type": "code",
   "execution_count": null,
   "id": "5afc5be1",
   "metadata": {
    "slideshow": {
     "slide_type": "slide"
    }
   },
   "outputs": [],
   "source": [
    "matriz_correlación.valor.sort_values(ascending = False) "
   ]
  },
  {
   "cell_type": "code",
   "execution_count": null,
   "id": "6f29906a",
   "metadata": {
    "slideshow": {
     "slide_type": "slide"
    }
   },
   "outputs": [],
   "source": [
    "from pandas.plotting import scatter_matrix\n",
    "\n",
    "atributos = ['valor', 'ingresos', 'salas', 'antiguedad','longitud', 'latitud'] \n",
    "\n",
    "scatter_matrix(v[atributos], figsize = (20,10)) \n",
    "plt.show() "
   ]
  },
  {
   "cell_type": "code",
   "execution_count": null,
   "id": "f8eb6cc7",
   "metadata": {
    "scrolled": true,
    "slideshow": {
     "slide_type": "slide"
    }
   },
   "outputs": [],
   "source": [
    "v.plot(kind = 'scatter', x = 'ingresos', y = 'valor')  "
   ]
  },
  {
   "cell_type": "markdown",
   "id": "ad7799c5",
   "metadata": {
    "slideshow": {
     "slide_type": "slide"
    }
   },
   "source": [
    "# Experimentación con combinación de atributos "
   ]
  },
  {
   "cell_type": "markdown",
   "id": "888dd153",
   "metadata": {
    "slideshow": {
     "slide_type": "slide"
    }
   },
   "source": [
    "Con suerte, las secciones anteriores le dieron una idea de algunas formas en que puede explorar los datos y obtener información."
   ]
  },
  {
   "cell_type": "markdown",
   "id": "c4ad2e80",
   "metadata": {
    "slideshow": {
     "slide_type": "slide"
    }
   },
   "source": [
    "Identificó algunas peculiaridades de los datos que quizás desee limpiar antes de enviar los datos a un algoritmo de aprendizaje automático y encontró correlaciones interesantes entre los atributos, en particular con el atributo de destino."
   ]
  },
  {
   "cell_type": "markdown",
   "id": "5941d714",
   "metadata": {
    "slideshow": {
     "slide_type": "slide"
    }
   },
   "source": [
    "También notó que algunos atributos tienen una distribución de cola pesada, por lo que es posible que desee transformarlos (por ejemplo, calculando su logaritmo)."
   ]
  },
  {
   "cell_type": "markdown",
   "id": "a5a39f2d",
   "metadata": {
    "slideshow": {
     "slide_type": "slide"
    }
   },
   "source": [
    "Por supuesto, su millaje variará considerablemente con cada proyecto,\n",
    "pero las ideas generales son similares"
   ]
  },
  {
   "cell_type": "markdown",
   "id": "d99efa00",
   "metadata": {
    "slideshow": {
     "slide_type": "slide"
    }
   },
   "source": [
    "Una última cosa que quizás desee hacer antes de preparar los datos para los algoritmos de Machine Learning es probar varias combinaciones de atributos."
   ]
  },
  {
   "cell_type": "markdown",
   "id": "11efbaf5",
   "metadata": {
    "slideshow": {
     "slide_type": "slide"
    }
   },
   "source": [
    "Por ejemplo, el número total de habitaciones en un distrito no es muy útil si no sabe cuántos hogares hay. Lo que realmente desea es el número de habitaciones por hogar. Del mismo modo, el número total de dormitorios por sí solo no es muy útil:\n",
    "probablemente quieras compararlo con el número de habitaciones."
   ]
  },
  {
   "cell_type": "markdown",
   "id": "3092ec09",
   "metadata": {
    "slideshow": {
     "slide_type": "slide"
    }
   },
   "source": [
    "Y la población por hogar también parece una combinación de atributos interesante para observar."
   ]
  },
  {
   "cell_type": "markdown",
   "id": "e743c1b9",
   "metadata": {
    "slideshow": {
     "slide_type": "slide"
    }
   },
   "source": [
    "Vamos a crear estos nuevos atributos:"
   ]
  },
  {
   "cell_type": "code",
   "execution_count": null,
   "id": "dc1c3815",
   "metadata": {
    "slideshow": {
     "slide_type": "slide"
    }
   },
   "outputs": [],
   "source": [
    "v[\"salas_por_hogar\"] = v[\"salas\"]/v[\"hogares\"]"
   ]
  },
  {
   "cell_type": "code",
   "execution_count": null,
   "id": "a75693fd",
   "metadata": {
    "slideshow": {
     "slide_type": "slide"
    }
   },
   "outputs": [],
   "source": [
    "v[\"habitaciones_por_sala\"] = v[\"habitaciones\"]/v[\"salas\"]"
   ]
  },
  {
   "cell_type": "code",
   "execution_count": null,
   "id": "7f208756",
   "metadata": {
    "slideshow": {
     "slide_type": "slide"
    }
   },
   "outputs": [],
   "source": [
    "v[\"población_por_hogar\"]=v[\"población\"]/v[\"hogares\"] "
   ]
  },
  {
   "cell_type": "markdown",
   "id": "68fe574b",
   "metadata": {
    "slideshow": {
     "slide_type": "slide"
    }
   },
   "source": [
    "And now let’s look at the correlation matrix again:"
   ]
  },
  {
   "cell_type": "code",
   "execution_count": null,
   "id": "10cf9826",
   "metadata": {
    "slideshow": {
     "slide_type": "slide"
    }
   },
   "outputs": [],
   "source": [
    "corr_matrix = v.corr()\n",
    "corr_matrix['valor'].sort_values(ascending=False)"
   ]
  },
  {
   "cell_type": "code",
   "execution_count": null,
   "id": "36f96b7c",
   "metadata": {
    "slideshow": {
     "slide_type": "slide"
    }
   },
   "outputs": [],
   "source": []
  },
  {
   "cell_type": "code",
   "execution_count": null,
   "id": "73733b32",
   "metadata": {
    "slideshow": {
     "slide_type": "slide"
    }
   },
   "outputs": [],
   "source": []
  },
  {
   "cell_type": "code",
   "execution_count": null,
   "id": "1fd5deba",
   "metadata": {
    "slideshow": {
     "slide_type": "slide"
    }
   },
   "outputs": [],
   "source": []
  },
  {
   "cell_type": "code",
   "execution_count": null,
   "id": "4e79ff8a",
   "metadata": {
    "slideshow": {
     "slide_type": "slide"
    }
   },
   "outputs": [],
   "source": []
  },
  {
   "cell_type": "code",
   "execution_count": null,
   "id": "7540616c",
   "metadata": {
    "slideshow": {
     "slide_type": "slide"
    }
   },
   "outputs": [],
   "source": []
  },
  {
   "cell_type": "code",
   "execution_count": null,
   "id": "5b3637a7",
   "metadata": {
    "slideshow": {
     "slide_type": "slide"
    }
   },
   "outputs": [],
   "source": []
  },
  {
   "cell_type": "code",
   "execution_count": null,
   "id": "885bc8ec",
   "metadata": {},
   "outputs": [],
   "source": []
  },
  {
   "cell_type": "markdown",
   "id": "1d4db43d",
   "metadata": {},
   "source": [
    "## Tiempos "
   ]
  },
  {
   "cell_type": "markdown",
   "id": "b78cbbec",
   "metadata": {},
   "source": [
    "1. Clase 17: \n",
    "   * Construir en dataframe y sistetizar la información y visualizarla \n",
    "   * división en entrenamiento y testeo.\n",
    "   * Establecer corralaciones y definir nuevos atributos."
   ]
  },
  {
   "cell_type": "markdown",
   "id": "df7817f6",
   "metadata": {},
   "source": [
    "2. Calse 18\n",
    "   * imputar los datos faltantes\n",
    "   * escalar los datos\n",
    "   * entrenar el modelo lineal\n",
    "   * medir su desempeño. "
   ]
  },
  {
   "cell_type": "code",
   "execution_count": null,
   "id": "ff1c8748",
   "metadata": {},
   "outputs": [],
   "source": []
  }
 ],
 "metadata": {
  "celltoolbar": "Slideshow",
  "kernelspec": {
   "display_name": "Python 3 (ipykernel)",
   "language": "python",
   "name": "python3"
  },
  "language_info": {
   "codemirror_mode": {
    "name": "ipython",
    "version": 3
   },
   "file_extension": ".py",
   "mimetype": "text/x-python",
   "name": "python",
   "nbconvert_exporter": "python",
   "pygments_lexer": "ipython3",
   "version": "3.9.7"
  },
  "rise": {
   "enable_chalkboard": true,
   "theme": "sky",
   "transition": "zoom"
  }
 },
 "nbformat": 4,
 "nbformat_minor": 5
}
