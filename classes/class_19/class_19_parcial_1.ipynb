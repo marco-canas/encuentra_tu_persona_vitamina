{
 "cells": [
  {
   "cell_type": "markdown",
   "id": "7dd6d816",
   "metadata": {},
   "source": []
  },
  {
   "cell_type": "markdown",
   "id": "3f361727",
   "metadata": {},
   "source": [
    "# Clase 19 "
   ]
  },
  {
   "cell_type": "markdown",
   "id": "cb280b3f",
   "metadata": {},
   "source": [
    "# Parcial 1"
   ]
  },
  {
   "cell_type": "markdown",
   "id": "da96e1d5",
   "metadata": {},
   "source": [
    "Se evaluará sobre numpy, pandas y matplotlib"
   ]
  },
  {
   "cell_type": "markdown",
   "id": "10a4c572",
   "metadata": {},
   "source": [
    "## Punto 1 Numpy"
   ]
  },
  {
   "cell_type": "markdown",
   "id": "6eab1470",
   "metadata": {},
   "source": [
    "## Punto 2 Pandas"
   ]
  },
  {
   "cell_type": "markdown",
   "id": "78de5370",
   "metadata": {},
   "source": [
    "## Punto 1 Matplotlib"
   ]
  },
  {
   "cell_type": "markdown",
   "id": "782f3f92",
   "metadata": {},
   "source": [
    "Graficar en matplotlib la fución \n",
    "\n",
    "$$ f(s) = \\frac{1}{1 + e^{-t}}  \\nonumber $$\n",
    "\n",
    "en el dominio $[−4, 4]$, etiquetando los ejes y poniendo título.   \n",
    "\n",
    "¿Cuál es el comportamiento de $f$ cuando $s \\to +\\infty$?  \n",
    "\n",
    "¿Cuál es el comportamiento de $f$ cuando $s \\to -\\infty$? "
   ]
  },
  {
   "cell_type": "markdown",
   "id": "9b6fbfe7",
   "metadata": {},
   "source": [
    "# Clase sobre Pipeline"
   ]
  },
  {
   "cell_type": "markdown",
   "id": "9f9e418b",
   "metadata": {},
   "source": [
    "## El diseño de Scikit - Learn"
   ]
  },
  {
   "cell_type": "markdown",
   "id": "2dedc28c",
   "metadata": {},
   "source": [
    "La API de Scikit-Learn está notablemente bien diseñada. Estos son los principales principios de diseño."
   ]
  },
  {
   "cell_type": "markdown",
   "id": "5b56d292",
   "metadata": {},
   "source": [
    "## Consistencia\n",
    "\n",
    "Todos los objetos comparten una interfaz consistente y simple:"
   ]
  },
  {
   "cell_type": "markdown",
   "id": "17270569",
   "metadata": {},
   "source": [
    "## Estimadores\n",
    "\n",
    "Cualquier objeto que pueda estimar algunos parámetros basados en un conjunto de datos es llamado estimador (por ejemplo, un imputador es un estimador)."
   ]
  },
  {
   "cell_type": "markdown",
   "id": "97d1dbb8",
   "metadata": {},
   "source": [
    "La estimación en sí es realizada por el método `fit()`, y toma solo un conjunto de datos como parámetro (o dos para el los algoritmos de aprendizaje supervisado); el segundo conjunto de datos contiene las etiquetas)."
   ]
  },
  {
   "cell_type": "markdown",
   "id": "b7218447",
   "metadata": {},
   "source": [
    "Cualquier otro parámetro necesario para guiar el proceso de estimación se considera un hiperparámetro (como la estrategia de un computador) y debe configurarse como una variable de instancia (generalmente a través de un parámetro de constructor)."
   ]
  },
  {
   "cell_type": "markdown",
   "id": "1ca26607",
   "metadata": {},
   "source": [
    "## Transformadores"
   ]
  },
  {
   "cell_type": "markdown",
   "id": "12afd453",
   "metadata": {},
   "source": [
    "Algunos estimadores (como un imputador) también pueden transformar un conjunto de datos;\n",
    "estos se llaman transformadores."
   ]
  },
  {
   "cell_type": "markdown",
   "id": "641710c5",
   "metadata": {},
   "source": [
    "La transformación la realiza el método `transform()` con el conjunto de datos a transformar como parámetro. Devuelve el conjunto de datos transformado."
   ]
  },
  {
   "cell_type": "markdown",
   "id": "d39578c4",
   "metadata": {
    "slideshow": {
     "slide_type": "slide"
    }
   },
   "source": [
    "Esta transformación generalmente se basa en los parámetros aprendidos, como es el caso de una computadora."
   ]
  },
  {
   "cell_type": "markdown",
   "id": "cc7c0274",
   "metadata": {
    "slideshow": {
     "slide_type": "slide"
    }
   },
   "source": [
    "Todos los transformadores también tienen un método conveniente llamado `fit_transform()` que es equivalente a llamar a `fit()` y luego a `transform()` (pero a veces `fit_transform()` está optimizado y se ejecuta mucho más rápido)."
   ]
  },
  {
   "cell_type": "markdown",
   "id": "58cc9f62",
   "metadata": {
    "slideshow": {
     "slide_type": "slide"
    }
   },
   "source": [
    "## predictores\n",
    "\n",
    "Finalmente, algunos estimadores, dado un conjunto de datos, son capaces de hacer predicciones; se llaman predictores.\n",
    "\n",
    "Por ejemplo, el modelo de regresión lineal del capítulo anterior era un predictor: dado el PIB per cápita de un país, predecía la satisfacción con la vida.\n",
    "\n",
    "Un predictor tiene un método `predict()` que toma un conjunto de datos de nuevas instancias y devuelve un conjunto de datos de las predicciones correspondientes.\n",
    "\n",
    "También tiene un método `score()` que mide la calidad de las predicciones, dado un conjunto de pruebas (y las etiquetas correspondientes, en el caso de algoritmos de aprendizaje supervisado)."
   ]
  },
  {
   "cell_type": "markdown",
   "id": "8f7ca175",
   "metadata": {
    "slideshow": {
     "slide_type": "slide"
    }
   },
   "source": [
    "## Inspección"
   ]
  },
  {
   "cell_type": "markdown",
   "id": "1dc6e966",
   "metadata": {
    "slideshow": {
     "slide_type": "slide"
    }
   },
   "source": [
    "Se puede acceder directamente a todos los hiperparámetros del estimador a través de variables de instancia pública (p. ej., `imputer.strategy`), y se puede acceder a todos los parámetros aprendidos del estimador a través de variables de instancia pública con un sufijo de subrayado (p. ej., `imputer.statistics_`)."
   ]
  },
  {
   "cell_type": "code",
   "execution_count": null,
   "id": "ba8e8223",
   "metadata": {
    "slideshow": {
     "slide_type": "slide"
    }
   },
   "outputs": [],
   "source": []
  },
  {
   "cell_type": "code",
   "execution_count": null,
   "id": "4fc89b37",
   "metadata": {},
   "outputs": [],
   "source": []
  },
  {
   "cell_type": "code",
   "execution_count": null,
   "id": "62bdfea5",
   "metadata": {},
   "outputs": [],
   "source": []
  }
 ],
 "metadata": {
  "celltoolbar": "Slideshow",
  "kernelspec": {
   "display_name": "Python 3 (ipykernel)",
   "language": "python",
   "name": "python3"
  },
  "language_info": {
   "codemirror_mode": {
    "name": "ipython",
    "version": 3
   },
   "file_extension": ".py",
   "mimetype": "text/x-python",
   "name": "python",
   "nbconvert_exporter": "python",
   "pygments_lexer": "ipython3",
   "version": "3.9.7"
  }
 },
 "nbformat": 4,
 "nbformat_minor": 5
}
